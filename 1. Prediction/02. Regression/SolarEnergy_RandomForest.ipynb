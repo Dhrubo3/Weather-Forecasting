{
 "cells": [
  {
   "cell_type": "markdown",
   "id": "c2e0e2a7",
   "metadata": {
    "papermill": {
     "duration": 0.024193,
     "end_time": "2025-08-07T09:53:47.312588",
     "exception": false,
     "start_time": "2025-08-07T09:53:47.288395",
     "status": "completed"
    },
    "tags": []
   },
   "source": [
    "# <font color=\"red\">Solar Energy Prediction with Random Forest Regressor</font>"
   ]
  },
  {
   "cell_type": "markdown",
   "id": "0cf89af8",
   "metadata": {
    "papermill": {
     "duration": 0.018171,
     "end_time": "2025-08-07T09:53:47.349339",
     "exception": false,
     "start_time": "2025-08-07T09:53:47.331168",
     "status": "completed"
    },
    "tags": []
   },
   "source": [
    "# Library Import"
   ]
  },
  {
   "cell_type": "code",
   "execution_count": 1,
   "id": "89aaa2b5",
   "metadata": {
    "execution": {
     "iopub.execute_input": "2025-08-07T09:53:47.388515Z",
     "iopub.status.busy": "2025-08-07T09:53:47.388129Z",
     "iopub.status.idle": "2025-08-07T09:53:51.516531Z",
     "shell.execute_reply": "2025-08-07T09:53:51.515463Z"
    },
    "papermill": {
     "duration": 4.151449,
     "end_time": "2025-08-07T09:53:51.518871",
     "exception": false,
     "start_time": "2025-08-07T09:53:47.367422",
     "status": "completed"
    },
    "tags": []
   },
   "outputs": [],
   "source": [
    "# Data manipulation and visualization\n",
    "import pandas as pd\n",
    "import math\n",
    "import json\n",
    "\n",
    "# Preprocessing\n",
    "from sklearn.model_selection import StratifiedShuffleSplit, RandomizedSearchCV\n",
    "from sklearn.preprocessing import MinMaxScaler, StandardScaler, RobustScaler\n",
    "from sklearn.metrics import r2_score, mean_squared_error, mean_absolute_error\n",
    "from sklearn.ensemble import RandomForestRegressor\n",
    "\n",
    "import sys\n",
    "# sys.path.append('../../') # Uncomment this line if running locally\n",
    "sys.path.append('/kaggle/input/weatherdata') # Uncomment this line if running on Kaggle\n",
    "from historyManagement import *\n",
    "\n",
    "# suppress warnings\n",
    "import warnings\n",
    "warnings.filterwarnings(\"ignore\")"
   ]
  },
  {
   "cell_type": "markdown",
   "id": "06b13c87",
   "metadata": {
    "papermill": {
     "duration": 0.018332,
     "end_time": "2025-08-07T09:53:51.555882",
     "exception": false,
     "start_time": "2025-08-07T09:53:51.537550",
     "status": "completed"
    },
    "tags": []
   },
   "source": [
    "# Datasets Import"
   ]
  },
  {
   "cell_type": "code",
   "execution_count": 2,
   "id": "cd165d81",
   "metadata": {
    "execution": {
     "iopub.execute_input": "2025-08-07T09:53:51.661968Z",
     "iopub.status.busy": "2025-08-07T09:53:51.661474Z",
     "iopub.status.idle": "2025-08-07T09:53:51.834343Z",
     "shell.execute_reply": "2025-08-07T09:53:51.833293Z"
    },
    "papermill": {
     "duration": 0.19384,
     "end_time": "2025-08-07T09:53:51.835969",
     "exception": false,
     "start_time": "2025-08-07T09:53:51.642129",
     "status": "completed"
    },
    "tags": []
   },
   "outputs": [
    {
     "data": {
      "text/html": [
       "<div>\n",
       "<style scoped>\n",
       "    .dataframe tbody tr th:only-of-type {\n",
       "        vertical-align: middle;\n",
       "    }\n",
       "\n",
       "    .dataframe tbody tr th {\n",
       "        vertical-align: top;\n",
       "    }\n",
       "\n",
       "    .dataframe thead th {\n",
       "        text-align: right;\n",
       "    }\n",
       "</style>\n",
       "<table border=\"1\" class=\"dataframe\">\n",
       "  <thead>\n",
       "    <tr style=\"text-align: right;\">\n",
       "      <th></th>\n",
       "      <th>DateTime</th>\n",
       "      <th>Year</th>\n",
       "      <th>Month</th>\n",
       "      <th>Day</th>\n",
       "      <th>Hour</th>\n",
       "      <th>DaySegments</th>\n",
       "      <th>DaySegments_Afternoon</th>\n",
       "      <th>DaySegments_Early Morning</th>\n",
       "      <th>DaySegments_Evening</th>\n",
       "      <th>DaySegments_Late Night</th>\n",
       "      <th>...</th>\n",
       "      <th>WindDir</th>\n",
       "      <th>SeaLevelPressure</th>\n",
       "      <th>CloudCover</th>\n",
       "      <th>UVIndex</th>\n",
       "      <th>SevereRisk</th>\n",
       "      <th>Visibility</th>\n",
       "      <th>SolarRadiation</th>\n",
       "      <th>SolarEnergy</th>\n",
       "      <th>Conditions</th>\n",
       "      <th>Icon</th>\n",
       "    </tr>\n",
       "  </thead>\n",
       "  <tbody>\n",
       "    <tr>\n",
       "      <th>0</th>\n",
       "      <td>2023-01-01 00:00:00</td>\n",
       "      <td>2023</td>\n",
       "      <td>1</td>\n",
       "      <td>1</td>\n",
       "      <td>0</td>\n",
       "      <td>Late Night</td>\n",
       "      <td>0</td>\n",
       "      <td>0</td>\n",
       "      <td>0</td>\n",
       "      <td>1</td>\n",
       "      <td>...</td>\n",
       "      <td>0.49</td>\n",
       "      <td>1018.68</td>\n",
       "      <td>0.03</td>\n",
       "      <td>0.0</td>\n",
       "      <td>10.0</td>\n",
       "      <td>2.76</td>\n",
       "      <td>0.0</td>\n",
       "      <td>0.0</td>\n",
       "      <td>Clear</td>\n",
       "      <td>clear-night</td>\n",
       "    </tr>\n",
       "    <tr>\n",
       "      <th>1</th>\n",
       "      <td>2023-01-01 01:00:00</td>\n",
       "      <td>2023</td>\n",
       "      <td>1</td>\n",
       "      <td>1</td>\n",
       "      <td>1</td>\n",
       "      <td>Late Night</td>\n",
       "      <td>0</td>\n",
       "      <td>0</td>\n",
       "      <td>0</td>\n",
       "      <td>1</td>\n",
       "      <td>...</td>\n",
       "      <td>0.54</td>\n",
       "      <td>1018.03</td>\n",
       "      <td>0.11</td>\n",
       "      <td>0.0</td>\n",
       "      <td>10.0</td>\n",
       "      <td>1.75</td>\n",
       "      <td>0.0</td>\n",
       "      <td>0.0</td>\n",
       "      <td>Clear</td>\n",
       "      <td>clear-night</td>\n",
       "    </tr>\n",
       "    <tr>\n",
       "      <th>2</th>\n",
       "      <td>2023-01-01 02:00:00</td>\n",
       "      <td>2023</td>\n",
       "      <td>1</td>\n",
       "      <td>1</td>\n",
       "      <td>2</td>\n",
       "      <td>Late Night</td>\n",
       "      <td>0</td>\n",
       "      <td>0</td>\n",
       "      <td>0</td>\n",
       "      <td>1</td>\n",
       "      <td>...</td>\n",
       "      <td>30.51</td>\n",
       "      <td>1017.56</td>\n",
       "      <td>0.03</td>\n",
       "      <td>0.0</td>\n",
       "      <td>10.0</td>\n",
       "      <td>1.75</td>\n",
       "      <td>0.0</td>\n",
       "      <td>0.0</td>\n",
       "      <td>Clear</td>\n",
       "      <td>clear-night</td>\n",
       "    </tr>\n",
       "    <tr>\n",
       "      <th>3</th>\n",
       "      <td>2023-01-01 03:00:00</td>\n",
       "      <td>2023</td>\n",
       "      <td>1</td>\n",
       "      <td>1</td>\n",
       "      <td>3</td>\n",
       "      <td>Late Night</td>\n",
       "      <td>0</td>\n",
       "      <td>0</td>\n",
       "      <td>0</td>\n",
       "      <td>1</td>\n",
       "      <td>...</td>\n",
       "      <td>49.23</td>\n",
       "      <td>1018.05</td>\n",
       "      <td>0.00</td>\n",
       "      <td>0.0</td>\n",
       "      <td>10.0</td>\n",
       "      <td>2.28</td>\n",
       "      <td>0.0</td>\n",
       "      <td>0.0</td>\n",
       "      <td>Clear</td>\n",
       "      <td>clear-night</td>\n",
       "    </tr>\n",
       "    <tr>\n",
       "      <th>4</th>\n",
       "      <td>2023-01-01 04:00:00</td>\n",
       "      <td>2023</td>\n",
       "      <td>1</td>\n",
       "      <td>1</td>\n",
       "      <td>4</td>\n",
       "      <td>Late Night</td>\n",
       "      <td>0</td>\n",
       "      <td>0</td>\n",
       "      <td>0</td>\n",
       "      <td>1</td>\n",
       "      <td>...</td>\n",
       "      <td>49.90</td>\n",
       "      <td>1018.00</td>\n",
       "      <td>86.17</td>\n",
       "      <td>0.0</td>\n",
       "      <td>10.0</td>\n",
       "      <td>1.27</td>\n",
       "      <td>0.0</td>\n",
       "      <td>0.0</td>\n",
       "      <td>Partially cloudy</td>\n",
       "      <td>fog</td>\n",
       "    </tr>\n",
       "  </tbody>\n",
       "</table>\n",
       "<p>5 rows × 36 columns</p>\n",
       "</div>"
      ],
      "text/plain": [
       "             DateTime  Year  Month  Day  Hour DaySegments  \\\n",
       "0 2023-01-01 00:00:00  2023      1    1     0  Late Night   \n",
       "1 2023-01-01 01:00:00  2023      1    1     1  Late Night   \n",
       "2 2023-01-01 02:00:00  2023      1    1     2  Late Night   \n",
       "3 2023-01-01 03:00:00  2023      1    1     3  Late Night   \n",
       "4 2023-01-01 04:00:00  2023      1    1     4  Late Night   \n",
       "\n",
       "   DaySegments_Afternoon  DaySegments_Early Morning  DaySegments_Evening  \\\n",
       "0                      0                          0                    0   \n",
       "1                      0                          0                    0   \n",
       "2                      0                          0                    0   \n",
       "3                      0                          0                    0   \n",
       "4                      0                          0                    0   \n",
       "\n",
       "   DaySegments_Late Night  ...  WindDir  SeaLevelPressure  CloudCover  \\\n",
       "0                       1  ...     0.49           1018.68        0.03   \n",
       "1                       1  ...     0.54           1018.03        0.11   \n",
       "2                       1  ...    30.51           1017.56        0.03   \n",
       "3                       1  ...    49.23           1018.05        0.00   \n",
       "4                       1  ...    49.90           1018.00       86.17   \n",
       "\n",
       "   UVIndex  SevereRisk  Visibility  SolarRadiation SolarEnergy  \\\n",
       "0      0.0        10.0        2.76             0.0         0.0   \n",
       "1      0.0        10.0        1.75             0.0         0.0   \n",
       "2      0.0        10.0        1.75             0.0         0.0   \n",
       "3      0.0        10.0        2.28             0.0         0.0   \n",
       "4      0.0        10.0        1.27             0.0         0.0   \n",
       "\n",
       "         Conditions         Icon  \n",
       "0             Clear  clear-night  \n",
       "1             Clear  clear-night  \n",
       "2             Clear  clear-night  \n",
       "3             Clear  clear-night  \n",
       "4  Partially cloudy          fog  \n",
       "\n",
       "[5 rows x 36 columns]"
      ]
     },
     "execution_count": 2,
     "metadata": {},
     "output_type": "execute_result"
    }
   ],
   "source": [
    "# Load the weather dataset for visibility prediction\n",
    "# weather_data = pd.read_csv('../../FinalDatasets/finalDataset.csv') # Uncomment this line if running locally\n",
    "weather_data = pd.read_csv('/kaggle/input/weatherdata/finalDataset.csv') # Uncomment this line if running on Kaggle\n",
    "weather_data['DateTime'] = pd.to_datetime(weather_data['DateTime'])\n",
    "weather_data.head()"
   ]
  },
  {
   "cell_type": "code",
   "execution_count": 3,
   "id": "cec12a2c",
   "metadata": {
    "execution": {
     "iopub.execute_input": "2025-08-07T09:53:51.875967Z",
     "iopub.status.busy": "2025-08-07T09:53:51.875587Z",
     "iopub.status.idle": "2025-08-07T09:53:51.903462Z",
     "shell.execute_reply": "2025-08-07T09:53:51.902302Z"
    },
    "papermill": {
     "duration": 0.050157,
     "end_time": "2025-08-07T09:53:51.905512",
     "exception": false,
     "start_time": "2025-08-07T09:53:51.855355",
     "status": "completed"
    },
    "tags": []
   },
   "outputs": [
    {
     "name": "stdout",
     "output_type": "stream",
     "text": [
      "<class 'pandas.core.frame.DataFrame'>\n",
      "RangeIndex: 14616 entries, 0 to 14615\n",
      "Data columns (total 36 columns):\n",
      " #   Column                     Non-Null Count  Dtype         \n",
      "---  ------                     --------------  -----         \n",
      " 0   DateTime                   14616 non-null  datetime64[ns]\n",
      " 1   Year                       14616 non-null  int64         \n",
      " 2   Month                      14616 non-null  int64         \n",
      " 3   Day                        14616 non-null  int64         \n",
      " 4   Hour                       14616 non-null  int64         \n",
      " 5   DaySegments                14616 non-null  object        \n",
      " 6   DaySegments_Afternoon      14616 non-null  int64         \n",
      " 7   DaySegments_Early Morning  14616 non-null  int64         \n",
      " 8   DaySegments_Evening        14616 non-null  int64         \n",
      " 9   DaySegments_Late Night     14616 non-null  int64         \n",
      " 10  DaySegments_Midday         14616 non-null  int64         \n",
      " 11  DaySegments_Morning        14616 non-null  int64         \n",
      " 12  DaySegments_Night          14616 non-null  int64         \n",
      " 13  Season_Autumn              14616 non-null  int64         \n",
      " 14  Season_Rainy               14616 non-null  int64         \n",
      " 15  Season_Summer              14616 non-null  int64         \n",
      " 16  Season_Winter              14616 non-null  int64         \n",
      " 17  Season                     14616 non-null  object        \n",
      " 18  Temp                       14616 non-null  float64       \n",
      " 19  FeelsLike                  14616 non-null  float64       \n",
      " 20  Dew                        14616 non-null  float64       \n",
      " 21  Humidity                   14616 non-null  float64       \n",
      " 22  Precip                     14616 non-null  float64       \n",
      " 23  PrecipProb                 14616 non-null  float64       \n",
      " 24  Windgust                   14616 non-null  float64       \n",
      " 25  WindSpeed                  14616 non-null  float64       \n",
      " 26  WindDir                    14616 non-null  float64       \n",
      " 27  SeaLevelPressure           14616 non-null  float64       \n",
      " 28  CloudCover                 14616 non-null  float64       \n",
      " 29  UVIndex                    14616 non-null  float64       \n",
      " 30  SevereRisk                 14616 non-null  float64       \n",
      " 31  Visibility                 14616 non-null  float64       \n",
      " 32  SolarRadiation             14616 non-null  float64       \n",
      " 33  SolarEnergy                14616 non-null  float64       \n",
      " 34  Conditions                 14616 non-null  object        \n",
      " 35  Icon                       14616 non-null  object        \n",
      "dtypes: datetime64[ns](1), float64(16), int64(15), object(4)\n",
      "memory usage: 4.0+ MB\n"
     ]
    }
   ],
   "source": [
    "weather_data.info()"
   ]
  },
  {
   "cell_type": "code",
   "execution_count": 4,
   "id": "d0415369",
   "metadata": {
    "execution": {
     "iopub.execute_input": "2025-08-07T09:53:51.946149Z",
     "iopub.status.busy": "2025-08-07T09:53:51.945843Z",
     "iopub.status.idle": "2025-08-07T09:53:52.039962Z",
     "shell.execute_reply": "2025-08-07T09:53:52.038897Z"
    },
    "papermill": {
     "duration": 0.116486,
     "end_time": "2025-08-07T09:53:52.041447",
     "exception": false,
     "start_time": "2025-08-07T09:53:51.924961",
     "status": "completed"
    },
    "tags": []
   },
   "outputs": [
    {
     "data": {
      "text/html": [
       "<div>\n",
       "<style scoped>\n",
       "    .dataframe tbody tr th:only-of-type {\n",
       "        vertical-align: middle;\n",
       "    }\n",
       "\n",
       "    .dataframe tbody tr th {\n",
       "        vertical-align: top;\n",
       "    }\n",
       "\n",
       "    .dataframe thead th {\n",
       "        text-align: right;\n",
       "    }\n",
       "</style>\n",
       "<table border=\"1\" class=\"dataframe\">\n",
       "  <thead>\n",
       "    <tr style=\"text-align: right;\">\n",
       "      <th></th>\n",
       "      <th>DateTime</th>\n",
       "      <th>Year</th>\n",
       "      <th>Month</th>\n",
       "      <th>Day</th>\n",
       "      <th>Hour</th>\n",
       "      <th>DaySegments_Afternoon</th>\n",
       "      <th>DaySegments_Early Morning</th>\n",
       "      <th>DaySegments_Evening</th>\n",
       "      <th>DaySegments_Late Night</th>\n",
       "      <th>DaySegments_Midday</th>\n",
       "      <th>...</th>\n",
       "      <th>Windgust</th>\n",
       "      <th>WindSpeed</th>\n",
       "      <th>WindDir</th>\n",
       "      <th>SeaLevelPressure</th>\n",
       "      <th>CloudCover</th>\n",
       "      <th>UVIndex</th>\n",
       "      <th>SevereRisk</th>\n",
       "      <th>Visibility</th>\n",
       "      <th>SolarRadiation</th>\n",
       "      <th>SolarEnergy</th>\n",
       "    </tr>\n",
       "  </thead>\n",
       "  <tbody>\n",
       "    <tr>\n",
       "      <th>count</th>\n",
       "      <td>14616</td>\n",
       "      <td>14616.000000</td>\n",
       "      <td>14616.000000</td>\n",
       "      <td>14616.000000</td>\n",
       "      <td>14616.000000</td>\n",
       "      <td>14616.000000</td>\n",
       "      <td>14616.000000</td>\n",
       "      <td>14616.000000</td>\n",
       "      <td>14616.000000</td>\n",
       "      <td>14616.000000</td>\n",
       "      <td>...</td>\n",
       "      <td>14616.000000</td>\n",
       "      <td>14616.000000</td>\n",
       "      <td>14616.000000</td>\n",
       "      <td>14616.000000</td>\n",
       "      <td>14616.000000</td>\n",
       "      <td>14616.000000</td>\n",
       "      <td>14616.000000</td>\n",
       "      <td>14616.000000</td>\n",
       "      <td>14616.000000</td>\n",
       "      <td>14616.000000</td>\n",
       "    </tr>\n",
       "    <tr>\n",
       "      <th>mean</th>\n",
       "      <td>2023-11-01 11:30:00</td>\n",
       "      <td>2023.400657</td>\n",
       "      <td>5.720854</td>\n",
       "      <td>15.735632</td>\n",
       "      <td>11.500000</td>\n",
       "      <td>0.131294</td>\n",
       "      <td>0.060550</td>\n",
       "      <td>0.098043</td>\n",
       "      <td>0.249726</td>\n",
       "      <td>0.116585</td>\n",
       "      <td>...</td>\n",
       "      <td>17.068560</td>\n",
       "      <td>8.090783</td>\n",
       "      <td>159.739178</td>\n",
       "      <td>1008.265012</td>\n",
       "      <td>53.579923</td>\n",
       "      <td>2.263555</td>\n",
       "      <td>16.504787</td>\n",
       "      <td>4.368134</td>\n",
       "      <td>227.640683</td>\n",
       "      <td>0.819217</td>\n",
       "    </tr>\n",
       "    <tr>\n",
       "      <th>min</th>\n",
       "      <td>2023-01-01 00:00:00</td>\n",
       "      <td>2023.000000</td>\n",
       "      <td>1.000000</td>\n",
       "      <td>1.000000</td>\n",
       "      <td>0.000000</td>\n",
       "      <td>0.000000</td>\n",
       "      <td>0.000000</td>\n",
       "      <td>0.000000</td>\n",
       "      <td>0.000000</td>\n",
       "      <td>0.000000</td>\n",
       "      <td>...</td>\n",
       "      <td>0.660000</td>\n",
       "      <td>0.000000</td>\n",
       "      <td>0.000000</td>\n",
       "      <td>982.420000</td>\n",
       "      <td>0.000000</td>\n",
       "      <td>0.000000</td>\n",
       "      <td>3.000000</td>\n",
       "      <td>0.000000</td>\n",
       "      <td>0.000000</td>\n",
       "      <td>0.000000</td>\n",
       "    </tr>\n",
       "    <tr>\n",
       "      <th>25%</th>\n",
       "      <td>2023-06-02 05:45:00</td>\n",
       "      <td>2023.000000</td>\n",
       "      <td>3.000000</td>\n",
       "      <td>8.000000</td>\n",
       "      <td>5.750000</td>\n",
       "      <td>0.000000</td>\n",
       "      <td>0.000000</td>\n",
       "      <td>0.000000</td>\n",
       "      <td>0.000000</td>\n",
       "      <td>0.000000</td>\n",
       "      <td>...</td>\n",
       "      <td>9.170000</td>\n",
       "      <td>2.870000</td>\n",
       "      <td>80.965000</td>\n",
       "      <td>1003.277500</td>\n",
       "      <td>26.670000</td>\n",
       "      <td>0.000000</td>\n",
       "      <td>10.000000</td>\n",
       "      <td>3.990000</td>\n",
       "      <td>0.000000</td>\n",
       "      <td>0.000000</td>\n",
       "    </tr>\n",
       "    <tr>\n",
       "      <th>50%</th>\n",
       "      <td>2023-11-01 11:30:00</td>\n",
       "      <td>2023.000000</td>\n",
       "      <td>6.000000</td>\n",
       "      <td>16.000000</td>\n",
       "      <td>11.500000</td>\n",
       "      <td>0.000000</td>\n",
       "      <td>0.000000</td>\n",
       "      <td>0.000000</td>\n",
       "      <td>0.000000</td>\n",
       "      <td>0.000000</td>\n",
       "      <td>...</td>\n",
       "      <td>14.645000</td>\n",
       "      <td>7.670000</td>\n",
       "      <td>163.790000</td>\n",
       "      <td>1007.970000</td>\n",
       "      <td>51.540000</td>\n",
       "      <td>0.000000</td>\n",
       "      <td>10.000000</td>\n",
       "      <td>4.650000</td>\n",
       "      <td>10.665000</td>\n",
       "      <td>0.010000</td>\n",
       "    </tr>\n",
       "    <tr>\n",
       "      <th>75%</th>\n",
       "      <td>2024-04-01 17:15:00</td>\n",
       "      <td>2024.000000</td>\n",
       "      <td>8.000000</td>\n",
       "      <td>23.000000</td>\n",
       "      <td>17.250000</td>\n",
       "      <td>0.000000</td>\n",
       "      <td>0.000000</td>\n",
       "      <td>0.000000</td>\n",
       "      <td>0.000000</td>\n",
       "      <td>0.000000</td>\n",
       "      <td>...</td>\n",
       "      <td>23.410000</td>\n",
       "      <td>11.750000</td>\n",
       "      <td>241.402500</td>\n",
       "      <td>1013.400000</td>\n",
       "      <td>87.790000</td>\n",
       "      <td>4.740000</td>\n",
       "      <td>12.580000</td>\n",
       "      <td>4.650000</td>\n",
       "      <td>459.745000</td>\n",
       "      <td>1.660000</td>\n",
       "    </tr>\n",
       "    <tr>\n",
       "      <th>max</th>\n",
       "      <td>2024-08-31 23:00:00</td>\n",
       "      <td>2024.000000</td>\n",
       "      <td>12.000000</td>\n",
       "      <td>31.000000</td>\n",
       "      <td>23.000000</td>\n",
       "      <td>1.000000</td>\n",
       "      <td>1.000000</td>\n",
       "      <td>1.000000</td>\n",
       "      <td>1.000000</td>\n",
       "      <td>1.000000</td>\n",
       "      <td>...</td>\n",
       "      <td>84.120000</td>\n",
       "      <td>71.970000</td>\n",
       "      <td>360.000000</td>\n",
       "      <td>1022.060000</td>\n",
       "      <td>100.000000</td>\n",
       "      <td>10.000000</td>\n",
       "      <td>97.740000</td>\n",
       "      <td>24.100000</td>\n",
       "      <td>1026.650000</td>\n",
       "      <td>3.700000</td>\n",
       "    </tr>\n",
       "    <tr>\n",
       "      <th>std</th>\n",
       "      <td>NaN</td>\n",
       "      <td>0.490048</td>\n",
       "      <td>3.195073</td>\n",
       "      <td>8.803610</td>\n",
       "      <td>6.922423</td>\n",
       "      <td>0.337734</td>\n",
       "      <td>0.238511</td>\n",
       "      <td>0.297383</td>\n",
       "      <td>0.432869</td>\n",
       "      <td>0.320936</td>\n",
       "      <td>...</td>\n",
       "      <td>10.195911</td>\n",
       "      <td>6.250203</td>\n",
       "      <td>104.422027</td>\n",
       "      <td>6.010683</td>\n",
       "      <td>35.166637</td>\n",
       "      <td>3.083074</td>\n",
       "      <td>15.031827</td>\n",
       "      <td>1.376994</td>\n",
       "      <td>307.219387</td>\n",
       "      <td>1.106444</td>\n",
       "    </tr>\n",
       "  </tbody>\n",
       "</table>\n",
       "<p>8 rows × 32 columns</p>\n",
       "</div>"
      ],
      "text/plain": [
       "                  DateTime          Year         Month           Day  \\\n",
       "count                14616  14616.000000  14616.000000  14616.000000   \n",
       "mean   2023-11-01 11:30:00   2023.400657      5.720854     15.735632   \n",
       "min    2023-01-01 00:00:00   2023.000000      1.000000      1.000000   \n",
       "25%    2023-06-02 05:45:00   2023.000000      3.000000      8.000000   \n",
       "50%    2023-11-01 11:30:00   2023.000000      6.000000     16.000000   \n",
       "75%    2024-04-01 17:15:00   2024.000000      8.000000     23.000000   \n",
       "max    2024-08-31 23:00:00   2024.000000     12.000000     31.000000   \n",
       "std                    NaN      0.490048      3.195073      8.803610   \n",
       "\n",
       "               Hour  DaySegments_Afternoon  DaySegments_Early Morning  \\\n",
       "count  14616.000000           14616.000000               14616.000000   \n",
       "mean      11.500000               0.131294                   0.060550   \n",
       "min        0.000000               0.000000                   0.000000   \n",
       "25%        5.750000               0.000000                   0.000000   \n",
       "50%       11.500000               0.000000                   0.000000   \n",
       "75%       17.250000               0.000000                   0.000000   \n",
       "max       23.000000               1.000000                   1.000000   \n",
       "std        6.922423               0.337734                   0.238511   \n",
       "\n",
       "       DaySegments_Evening  DaySegments_Late Night  DaySegments_Midday  ...  \\\n",
       "count         14616.000000            14616.000000        14616.000000  ...   \n",
       "mean              0.098043                0.249726            0.116585  ...   \n",
       "min               0.000000                0.000000            0.000000  ...   \n",
       "25%               0.000000                0.000000            0.000000  ...   \n",
       "50%               0.000000                0.000000            0.000000  ...   \n",
       "75%               0.000000                0.000000            0.000000  ...   \n",
       "max               1.000000                1.000000            1.000000  ...   \n",
       "std               0.297383                0.432869            0.320936  ...   \n",
       "\n",
       "           Windgust     WindSpeed       WindDir  SeaLevelPressure  \\\n",
       "count  14616.000000  14616.000000  14616.000000      14616.000000   \n",
       "mean      17.068560      8.090783    159.739178       1008.265012   \n",
       "min        0.660000      0.000000      0.000000        982.420000   \n",
       "25%        9.170000      2.870000     80.965000       1003.277500   \n",
       "50%       14.645000      7.670000    163.790000       1007.970000   \n",
       "75%       23.410000     11.750000    241.402500       1013.400000   \n",
       "max       84.120000     71.970000    360.000000       1022.060000   \n",
       "std       10.195911      6.250203    104.422027          6.010683   \n",
       "\n",
       "         CloudCover       UVIndex    SevereRisk    Visibility  SolarRadiation  \\\n",
       "count  14616.000000  14616.000000  14616.000000  14616.000000    14616.000000   \n",
       "mean      53.579923      2.263555     16.504787      4.368134      227.640683   \n",
       "min        0.000000      0.000000      3.000000      0.000000        0.000000   \n",
       "25%       26.670000      0.000000     10.000000      3.990000        0.000000   \n",
       "50%       51.540000      0.000000     10.000000      4.650000       10.665000   \n",
       "75%       87.790000      4.740000     12.580000      4.650000      459.745000   \n",
       "max      100.000000     10.000000     97.740000     24.100000     1026.650000   \n",
       "std       35.166637      3.083074     15.031827      1.376994      307.219387   \n",
       "\n",
       "        SolarEnergy  \n",
       "count  14616.000000  \n",
       "mean       0.819217  \n",
       "min        0.000000  \n",
       "25%        0.000000  \n",
       "50%        0.010000  \n",
       "75%        1.660000  \n",
       "max        3.700000  \n",
       "std        1.106444  \n",
       "\n",
       "[8 rows x 32 columns]"
      ]
     },
     "execution_count": 4,
     "metadata": {},
     "output_type": "execute_result"
    }
   ],
   "source": [
    "weather_data.describe()"
   ]
  },
  {
   "cell_type": "markdown",
   "id": "4a08429b",
   "metadata": {
    "papermill": {
     "duration": 0.019773,
     "end_time": "2025-08-07T09:53:52.082527",
     "exception": false,
     "start_time": "2025-08-07T09:53:52.062754",
     "status": "completed"
    },
    "tags": []
   },
   "source": [
    "# Data Split"
   ]
  },
  {
   "cell_type": "code",
   "execution_count": 5,
   "id": "888cc5a5",
   "metadata": {
    "execution": {
     "iopub.execute_input": "2025-08-07T09:53:52.123435Z",
     "iopub.status.busy": "2025-08-07T09:53:52.123143Z",
     "iopub.status.idle": "2025-08-07T09:53:52.144826Z",
     "shell.execute_reply": "2025-08-07T09:53:52.144105Z"
    },
    "papermill": {
     "duration": 0.044396,
     "end_time": "2025-08-07T09:53:52.146521",
     "exception": false,
     "start_time": "2025-08-07T09:53:52.102125",
     "status": "completed"
    },
    "tags": []
   },
   "outputs": [],
   "source": [
    "sss = StratifiedShuffleSplit(n_splits=1, test_size=0.20, random_state=42)\n",
    "for train_idx, test_idx in sss.split(weather_data, weather_data['DaySegments']):\n",
    "    weather_data_train = weather_data.iloc[train_idx]\n",
    "    weather_data_test = weather_data.iloc[test_idx]"
   ]
  },
  {
   "cell_type": "code",
   "execution_count": 6,
   "id": "59f2d3b4",
   "metadata": {
    "execution": {
     "iopub.execute_input": "2025-08-07T09:53:52.187955Z",
     "iopub.status.busy": "2025-08-07T09:53:52.187595Z",
     "iopub.status.idle": "2025-08-07T09:53:52.196630Z",
     "shell.execute_reply": "2025-08-07T09:53:52.195463Z"
    },
    "papermill": {
     "duration": 0.032227,
     "end_time": "2025-08-07T09:53:52.198392",
     "exception": false,
     "start_time": "2025-08-07T09:53:52.166165",
     "status": "completed"
    },
    "tags": []
   },
   "outputs": [
    {
     "name": "stdout",
     "output_type": "stream",
     "text": [
      "Distribution of data based on DaySegments:\n",
      "     DaySegments  Count\n",
      "0     Late Night   3650\n",
      "1        Morning   3504\n",
      "2      Afternoon   1919\n",
      "3         Midday   1704\n",
      "4          Night   1521\n",
      "5        Evening   1433\n",
      "6  Early Morning    885\n"
     ]
    }
   ],
   "source": [
    "# Show the count of each unique class in DaySegments\n",
    "class_counts = weather_data['DaySegments'].value_counts().reset_index()\n",
    "class_counts.columns = ['DaySegments', 'Count']\n",
    "\n",
    "print(\"Distribution of data based on DaySegments:\")\n",
    "print(class_counts)"
   ]
  },
  {
   "cell_type": "code",
   "execution_count": 7,
   "id": "dd0c1474",
   "metadata": {
    "execution": {
     "iopub.execute_input": "2025-08-07T09:53:52.238767Z",
     "iopub.status.busy": "2025-08-07T09:53:52.238442Z",
     "iopub.status.idle": "2025-08-07T09:53:52.247284Z",
     "shell.execute_reply": "2025-08-07T09:53:52.246061Z"
    },
    "papermill": {
     "duration": 0.031226,
     "end_time": "2025-08-07T09:53:52.249037",
     "exception": false,
     "start_time": "2025-08-07T09:53:52.217811",
     "status": "completed"
    },
    "tags": []
   },
   "outputs": [
    {
     "name": "stdout",
     "output_type": "stream",
     "text": [
      "Distribution of DaySegments in Training Set:\n",
      "DaySegments\n",
      "Late Night       2920\n",
      "Morning          2803\n",
      "Afternoon        1535\n",
      "Midday           1363\n",
      "Night            1217\n",
      "Evening          1146\n",
      "Early Morning     708\n",
      "Name: count, dtype: int64\n",
      "\n",
      "Distribution of DaySegments in Test Set:\n",
      "DaySegments\n",
      "Late Night       730\n",
      "Morning          701\n",
      "Afternoon        384\n",
      "Midday           341\n",
      "Night            304\n",
      "Evening          287\n",
      "Early Morning    177\n",
      "Name: count, dtype: int64\n"
     ]
    }
   ],
   "source": [
    "print(\"Distribution of DaySegments in Training Set:\")\n",
    "print(weather_data_train['DaySegments'].value_counts())\n",
    "\n",
    "print(\"\\nDistribution of DaySegments in Test Set:\")\n",
    "print(weather_data_test['DaySegments'].value_counts())"
   ]
  },
  {
   "cell_type": "markdown",
   "id": "1dbb630f",
   "metadata": {
    "papermill": {
     "duration": 0.019211,
     "end_time": "2025-08-07T09:53:52.287772",
     "exception": false,
     "start_time": "2025-08-07T09:53:52.268561",
     "status": "completed"
    },
    "tags": []
   },
   "source": [
    "# Some Reused Parameters"
   ]
  },
  {
   "cell_type": "code",
   "execution_count": 8,
   "id": "b3e65c8e",
   "metadata": {
    "execution": {
     "iopub.execute_input": "2025-08-07T09:53:52.330241Z",
     "iopub.status.busy": "2025-08-07T09:53:52.329890Z",
     "iopub.status.idle": "2025-08-07T09:53:52.336605Z",
     "shell.execute_reply": "2025-08-07T09:53:52.335771Z"
    },
    "papermill": {
     "duration": 0.030659,
     "end_time": "2025-08-07T09:53:52.338192",
     "exception": false,
     "start_time": "2025-08-07T09:53:52.307533",
     "status": "completed"
    },
    "tags": []
   },
   "outputs": [],
   "source": [
    "# For bootstrap=True cases\n",
    "bootstrap_true_params = {\n",
    "    'n_estimators': [100, 200, 300],\n",
    "    'max_depth': [None, 10, 20, 30],\n",
    "    'min_samples_split': [2, 5, 10, 15, 20],\n",
    "    'min_samples_leaf': [1, 2, 4, 6],\n",
    "    'max_features': ['sqrt', 'log2', None],\n",
    "    'bootstrap': [True],\n",
    "    'max_samples': [None, 0.8, 0.9],\n",
    "    'min_impurity_decrease': [0.0, 0.01, 0.02]\n",
    "}\n",
    "\n",
    "# For bootstrap=False cases  \n",
    "bootstrap_false_params = {\n",
    "    'n_estimators': [100, 200, 300],\n",
    "    'max_depth': [None, 10, 20, 30],\n",
    "    'min_samples_split': [2, 5, 10, 15, 20],\n",
    "    'min_samples_leaf': [1, 2, 4, 6],\n",
    "    'max_features': ['sqrt', 'log2', None],\n",
    "    'bootstrap': [False],\n",
    "    'min_impurity_decrease': [0.0, 0.01, 0.02]\n",
    "}\n",
    "\n",
    "grid_param = [bootstrap_true_params, bootstrap_false_params]"
   ]
  },
  {
   "cell_type": "code",
   "execution_count": 9,
   "id": "7753439c",
   "metadata": {
    "execution": {
     "iopub.execute_input": "2025-08-07T09:53:52.379206Z",
     "iopub.status.busy": "2025-08-07T09:53:52.378874Z",
     "iopub.status.idle": "2025-08-07T09:53:52.383899Z",
     "shell.execute_reply": "2025-08-07T09:53:52.382992Z"
    },
    "papermill": {
     "duration": 0.027351,
     "end_time": "2025-08-07T09:53:52.385467",
     "exception": false,
     "start_time": "2025-08-07T09:53:52.358116",
     "status": "completed"
    },
    "tags": []
   },
   "outputs": [],
   "source": [
    "number_of_model_for_randomized_grid = 510 # Estimated run time 10 hours\n",
    "model_name_for_saving = \"Random Forest\"\n",
    "target_name_for_saving = \"SolarEnergy\""
   ]
  },
  {
   "cell_type": "markdown",
   "id": "5c777df3",
   "metadata": {
    "papermill": {
     "duration": 0.019416,
     "end_time": "2025-08-07T09:53:52.424737",
     "exception": false,
     "start_time": "2025-08-07T09:53:52.405321",
     "status": "completed"
    },
    "tags": []
   },
   "source": [
    "# All Features"
   ]
  },
  {
   "cell_type": "code",
   "execution_count": 10,
   "id": "96659db6",
   "metadata": {
    "execution": {
     "iopub.execute_input": "2025-08-07T09:53:52.466474Z",
     "iopub.status.busy": "2025-08-07T09:53:52.466133Z",
     "iopub.status.idle": "2025-08-07T09:53:52.473253Z",
     "shell.execute_reply": "2025-08-07T09:53:52.472259Z"
    },
    "papermill": {
     "duration": 0.030675,
     "end_time": "2025-08-07T09:53:52.474675",
     "exception": false,
     "start_time": "2025-08-07T09:53:52.444000",
     "status": "completed"
    },
    "tags": []
   },
   "outputs": [],
   "source": [
    "X_train_raw = weather_data_train.drop(columns=['DateTime', # Model cannot use DateTime as a feature\n",
    "                                                'Year', # No Effect on weather data\n",
    "                                                'Season', # Season is categorical, not numerical\n",
    "                                                'DaySegments', # DaySegments is categorical, not numerical\n",
    "                                                'Visibility',  # Target variable\n",
    "                                                'SolarRadiation', # Target variable\n",
    "                                                'SolarEnergy', # Target variable\n",
    "                                                'Conditions', # Target variable\n",
    "                                                'Icon']) # Target variable\n",
    "y_train = weather_data_train['SolarEnergy']"
   ]
  },
  {
   "cell_type": "code",
   "execution_count": 11,
   "id": "628447f3",
   "metadata": {
    "execution": {
     "iopub.execute_input": "2025-08-07T09:53:52.515238Z",
     "iopub.status.busy": "2025-08-07T09:53:52.514895Z",
     "iopub.status.idle": "2025-08-07T09:53:52.521546Z",
     "shell.execute_reply": "2025-08-07T09:53:52.520617Z"
    },
    "papermill": {
     "duration": 0.028766,
     "end_time": "2025-08-07T09:53:52.523271",
     "exception": false,
     "start_time": "2025-08-07T09:53:52.494505",
     "status": "completed"
    },
    "tags": []
   },
   "outputs": [],
   "source": [
    "X_test_raw = weather_data_test.drop(columns=['DateTime', # Model cannot use DateTime as a feature\n",
    "                                                'Year', # No Effect on weather data\n",
    "                                                'Season', # Season is categorical, not numerical\n",
    "                                                'DaySegments', # DaySegments is categorical, not numerical\n",
    "                                                'Visibility',  # Target variable\n",
    "                                                'SolarRadiation', # Target variable\n",
    "                                                'SolarEnergy', # Target variable\n",
    "                                                'Conditions', # Target variable\n",
    "                                                'Icon']) # Target variable\n",
    "y_test = weather_data_test['SolarEnergy']"
   ]
  },
  {
   "cell_type": "code",
   "execution_count": 12,
   "id": "3a03c922",
   "metadata": {
    "execution": {
     "iopub.execute_input": "2025-08-07T09:53:52.565975Z",
     "iopub.status.busy": "2025-08-07T09:53:52.565599Z",
     "iopub.status.idle": "2025-08-07T09:53:52.570734Z",
     "shell.execute_reply": "2025-08-07T09:53:52.569790Z"
    },
    "papermill": {
     "duration": 0.028098,
     "end_time": "2025-08-07T09:53:52.572410",
     "exception": false,
     "start_time": "2025-08-07T09:53:52.544312",
     "status": "completed"
    },
    "tags": []
   },
   "outputs": [],
   "source": [
    "feature_columns = [col for col in X_train_raw.columns]\n",
    "feature_columns_for_saving = ','.join(feature_columns)"
   ]
  },
  {
   "cell_type": "code",
   "execution_count": 13,
   "id": "8d1476d5",
   "metadata": {
    "execution": {
     "iopub.execute_input": "2025-08-07T09:53:52.614611Z",
     "iopub.status.busy": "2025-08-07T09:53:52.613600Z",
     "iopub.status.idle": "2025-08-07T09:53:52.620017Z",
     "shell.execute_reply": "2025-08-07T09:53:52.618944Z"
    },
    "papermill": {
     "duration": 0.029054,
     "end_time": "2025-08-07T09:53:52.621622",
     "exception": false,
     "start_time": "2025-08-07T09:53:52.592568",
     "status": "completed"
    },
    "tags": []
   },
   "outputs": [
    {
     "name": "stdout",
     "output_type": "stream",
     "text": [
      "X_train:  11692\n",
      "y_train:  11692\n",
      "\n",
      "X_test:  2924\n",
      "y_test:  2924\n"
     ]
    }
   ],
   "source": [
    "print(\"X_train: \", len(X_train_raw))\n",
    "print(\"y_train: \", len(y_train))\n",
    "print(\"\\nX_test: \", len(X_test_raw))\n",
    "print(\"y_test: \", len(y_test))"
   ]
  },
  {
   "cell_type": "markdown",
   "id": "d4bd3550",
   "metadata": {
    "papermill": {
     "duration": 0.019675,
     "end_time": "2025-08-07T09:53:52.663112",
     "exception": false,
     "start_time": "2025-08-07T09:53:52.643437",
     "status": "completed"
    },
    "tags": []
   },
   "source": [
    "## MinMax Scaler"
   ]
  },
  {
   "cell_type": "code",
   "execution_count": 14,
   "id": "e5c25580",
   "metadata": {
    "execution": {
     "iopub.execute_input": "2025-08-07T09:53:52.704628Z",
     "iopub.status.busy": "2025-08-07T09:53:52.703393Z",
     "iopub.status.idle": "2025-08-07T09:53:52.734086Z",
     "shell.execute_reply": "2025-08-07T09:53:52.732876Z"
    },
    "papermill": {
     "duration": 0.053343,
     "end_time": "2025-08-07T09:53:52.736100",
     "exception": false,
     "start_time": "2025-08-07T09:53:52.682757",
     "status": "completed"
    },
    "tags": []
   },
   "outputs": [],
   "source": [
    "scaler = MinMaxScaler()\n",
    "X_train = scaler.fit_transform(X_train_raw)\n",
    "X_test = scaler.transform(X_test_raw)"
   ]
  },
  {
   "cell_type": "code",
   "execution_count": 15,
   "id": "c537998b",
   "metadata": {
    "execution": {
     "iopub.execute_input": "2025-08-07T09:53:52.777273Z",
     "iopub.status.busy": "2025-08-07T09:53:52.776923Z",
     "iopub.status.idle": "2025-08-07T09:53:52.783631Z",
     "shell.execute_reply": "2025-08-07T09:53:52.782659Z"
    },
    "papermill": {
     "duration": 0.029058,
     "end_time": "2025-08-07T09:53:52.785277",
     "exception": false,
     "start_time": "2025-08-07T09:53:52.756219",
     "status": "completed"
    },
    "tags": []
   },
   "outputs": [
    {
     "data": {
      "text/plain": [
       "array([[0.72727273, 0.83333333, 0.43478261, ..., 0.4922    , 0.697     ,\n",
       "        0.31560059],\n",
       "       [0.90909091, 0.26666667, 0.69565217, ..., 0.        , 0.303     ,\n",
       "        0.07388643],\n",
       "       [0.09090909, 0.43333333, 0.        , ..., 0.        , 0.        ,\n",
       "        0.07388643],\n",
       "       ...,\n",
       "       [0.63636364, 0.86666667, 0.43478261, ..., 0.8756    , 0.306     ,\n",
       "        0.09436352],\n",
       "       [0.        , 0.4       , 0.91304348, ..., 0.        , 0.        ,\n",
       "        0.07388643],\n",
       "       [0.72727273, 0.26666667, 0.34782609, ..., 0.8925    , 0.29      ,\n",
       "        0.27812962]])"
      ]
     },
     "execution_count": 15,
     "metadata": {},
     "output_type": "execute_result"
    }
   ],
   "source": [
    "X_train"
   ]
  },
  {
   "cell_type": "code",
   "execution_count": 16,
   "id": "75dbc2b7",
   "metadata": {
    "execution": {
     "iopub.execute_input": "2025-08-07T09:53:52.826222Z",
     "iopub.status.busy": "2025-08-07T09:53:52.825891Z",
     "iopub.status.idle": "2025-08-07T09:53:52.832373Z",
     "shell.execute_reply": "2025-08-07T09:53:52.831507Z"
    },
    "papermill": {
     "duration": 0.028822,
     "end_time": "2025-08-07T09:53:52.833953",
     "exception": false,
     "start_time": "2025-08-07T09:53:52.805131",
     "status": "completed"
    },
    "tags": []
   },
   "outputs": [
    {
     "data": {
      "text/plain": [
       "array([[0.63636364, 0.06666667, 0.95652174, ..., 0.894     , 0.        ,\n",
       "        0.07388643],\n",
       "       [0.45454545, 0.26666667, 0.65217391, ..., 0.9677    , 0.074     ,\n",
       "        0.07388643],\n",
       "       [0.63636364, 0.03333333, 0.2173913 , ..., 0.9935    , 0.        ,\n",
       "        0.07388643],\n",
       "       ...,\n",
       "       [0.09090909, 0.2       , 0.73913043, ..., 0.0013    , 0.203     ,\n",
       "        0.07388643],\n",
       "       [0.27272727, 0.13333333, 0.86956522, ..., 0.        , 0.        ,\n",
       "        0.25575259],\n",
       "       [0.45454545, 0.73333333, 0.95652174, ..., 0.5161    , 0.        ,\n",
       "        0.07388643]])"
      ]
     },
     "execution_count": 16,
     "metadata": {},
     "output_type": "execute_result"
    }
   ],
   "source": [
    "X_test"
   ]
  },
  {
   "cell_type": "markdown",
   "id": "a70a8d00",
   "metadata": {
    "papermill": {
     "duration": 0.020293,
     "end_time": "2025-08-07T09:53:52.874350",
     "exception": false,
     "start_time": "2025-08-07T09:53:52.854057",
     "status": "completed"
    },
    "tags": []
   },
   "source": [
    "### Default Parameters"
   ]
  },
  {
   "cell_type": "code",
   "execution_count": 17,
   "id": "2b35843e",
   "metadata": {
    "execution": {
     "iopub.execute_input": "2025-08-07T09:53:52.916187Z",
     "iopub.status.busy": "2025-08-07T09:53:52.915853Z",
     "iopub.status.idle": "2025-08-07T09:53:52.927365Z",
     "shell.execute_reply": "2025-08-07T09:53:52.926374Z"
    },
    "papermill": {
     "duration": 0.034388,
     "end_time": "2025-08-07T09:53:52.929040",
     "exception": false,
     "start_time": "2025-08-07T09:53:52.894652",
     "status": "completed"
    },
    "tags": []
   },
   "outputs": [
    {
     "data": {
      "text/html": [
       "<style>#sk-container-id-1 {color: black;background-color: white;}#sk-container-id-1 pre{padding: 0;}#sk-container-id-1 div.sk-toggleable {background-color: white;}#sk-container-id-1 label.sk-toggleable__label {cursor: pointer;display: block;width: 100%;margin-bottom: 0;padding: 0.3em;box-sizing: border-box;text-align: center;}#sk-container-id-1 label.sk-toggleable__label-arrow:before {content: \"▸\";float: left;margin-right: 0.25em;color: #696969;}#sk-container-id-1 label.sk-toggleable__label-arrow:hover:before {color: black;}#sk-container-id-1 div.sk-estimator:hover label.sk-toggleable__label-arrow:before {color: black;}#sk-container-id-1 div.sk-toggleable__content {max-height: 0;max-width: 0;overflow: hidden;text-align: left;background-color: #f0f8ff;}#sk-container-id-1 div.sk-toggleable__content pre {margin: 0.2em;color: black;border-radius: 0.25em;background-color: #f0f8ff;}#sk-container-id-1 input.sk-toggleable__control:checked~div.sk-toggleable__content {max-height: 200px;max-width: 100%;overflow: auto;}#sk-container-id-1 input.sk-toggleable__control:checked~label.sk-toggleable__label-arrow:before {content: \"▾\";}#sk-container-id-1 div.sk-estimator input.sk-toggleable__control:checked~label.sk-toggleable__label {background-color: #d4ebff;}#sk-container-id-1 div.sk-label input.sk-toggleable__control:checked~label.sk-toggleable__label {background-color: #d4ebff;}#sk-container-id-1 input.sk-hidden--visually {border: 0;clip: rect(1px 1px 1px 1px);clip: rect(1px, 1px, 1px, 1px);height: 1px;margin: -1px;overflow: hidden;padding: 0;position: absolute;width: 1px;}#sk-container-id-1 div.sk-estimator {font-family: monospace;background-color: #f0f8ff;border: 1px dotted black;border-radius: 0.25em;box-sizing: border-box;margin-bottom: 0.5em;}#sk-container-id-1 div.sk-estimator:hover {background-color: #d4ebff;}#sk-container-id-1 div.sk-parallel-item::after {content: \"\";width: 100%;border-bottom: 1px solid gray;flex-grow: 1;}#sk-container-id-1 div.sk-label:hover label.sk-toggleable__label {background-color: #d4ebff;}#sk-container-id-1 div.sk-serial::before {content: \"\";position: absolute;border-left: 1px solid gray;box-sizing: border-box;top: 0;bottom: 0;left: 50%;z-index: 0;}#sk-container-id-1 div.sk-serial {display: flex;flex-direction: column;align-items: center;background-color: white;padding-right: 0.2em;padding-left: 0.2em;position: relative;}#sk-container-id-1 div.sk-item {position: relative;z-index: 1;}#sk-container-id-1 div.sk-parallel {display: flex;align-items: stretch;justify-content: center;background-color: white;position: relative;}#sk-container-id-1 div.sk-item::before, #sk-container-id-1 div.sk-parallel-item::before {content: \"\";position: absolute;border-left: 1px solid gray;box-sizing: border-box;top: 0;bottom: 0;left: 50%;z-index: -1;}#sk-container-id-1 div.sk-parallel-item {display: flex;flex-direction: column;z-index: 1;position: relative;background-color: white;}#sk-container-id-1 div.sk-parallel-item:first-child::after {align-self: flex-end;width: 50%;}#sk-container-id-1 div.sk-parallel-item:last-child::after {align-self: flex-start;width: 50%;}#sk-container-id-1 div.sk-parallel-item:only-child::after {width: 0;}#sk-container-id-1 div.sk-dashed-wrapped {border: 1px dashed gray;margin: 0 0.4em 0.5em 0.4em;box-sizing: border-box;padding-bottom: 0.4em;background-color: white;}#sk-container-id-1 div.sk-label label {font-family: monospace;font-weight: bold;display: inline-block;line-height: 1.2em;}#sk-container-id-1 div.sk-label-container {text-align: center;}#sk-container-id-1 div.sk-container {/* jupyter's `normalize.less` sets `[hidden] { display: none; }` but bootstrap.min.css set `[hidden] { display: none !important; }` so we also need the `!important` here to be able to override the default hidden behavior on the sphinx rendered scikit-learn.org. See: https://github.com/scikit-learn/scikit-learn/issues/21755 */display: inline-block !important;position: relative;}#sk-container-id-1 div.sk-text-repr-fallback {display: none;}</style><div id=\"sk-container-id-1\" class=\"sk-top-container\"><div class=\"sk-text-repr-fallback\"><pre>RandomForestRegressor(random_state=42)</pre><b>In a Jupyter environment, please rerun this cell to show the HTML representation or trust the notebook. <br />On GitHub, the HTML representation is unable to render, please try loading this page with nbviewer.org.</b></div><div class=\"sk-container\" hidden><div class=\"sk-item\"><div class=\"sk-estimator sk-toggleable\"><input class=\"sk-toggleable__control sk-hidden--visually\" id=\"sk-estimator-id-1\" type=\"checkbox\" checked><label for=\"sk-estimator-id-1\" class=\"sk-toggleable__label sk-toggleable__label-arrow\">RandomForestRegressor</label><div class=\"sk-toggleable__content\"><pre>RandomForestRegressor(random_state=42)</pre></div></div></div></div></div>"
      ],
      "text/plain": [
       "RandomForestRegressor(random_state=42)"
      ]
     },
     "execution_count": 17,
     "metadata": {},
     "output_type": "execute_result"
    }
   ],
   "source": [
    "training_model = RandomForestRegressor(random_state=42)\n",
    "training_model"
   ]
  },
  {
   "cell_type": "code",
   "execution_count": 18,
   "id": "a46520b6",
   "metadata": {
    "execution": {
     "iopub.execute_input": "2025-08-07T09:53:52.971518Z",
     "iopub.status.busy": "2025-08-07T09:53:52.971170Z",
     "iopub.status.idle": "2025-08-07T09:54:02.189066Z",
     "shell.execute_reply": "2025-08-07T09:54:02.188236Z"
    },
    "papermill": {
     "duration": 9.240871,
     "end_time": "2025-08-07T09:54:02.190592",
     "exception": false,
     "start_time": "2025-08-07T09:53:52.949721",
     "status": "completed"
    },
    "tags": []
   },
   "outputs": [
    {
     "name": "stdout",
     "output_type": "stream",
     "text": [
      "CPU times: user 9.18 s, sys: 26.2 ms, total: 9.21 s\n",
      "Wall time: 9.21 s\n"
     ]
    },
    {
     "data": {
      "text/html": [
       "<style>#sk-container-id-2 {color: black;background-color: white;}#sk-container-id-2 pre{padding: 0;}#sk-container-id-2 div.sk-toggleable {background-color: white;}#sk-container-id-2 label.sk-toggleable__label {cursor: pointer;display: block;width: 100%;margin-bottom: 0;padding: 0.3em;box-sizing: border-box;text-align: center;}#sk-container-id-2 label.sk-toggleable__label-arrow:before {content: \"▸\";float: left;margin-right: 0.25em;color: #696969;}#sk-container-id-2 label.sk-toggleable__label-arrow:hover:before {color: black;}#sk-container-id-2 div.sk-estimator:hover label.sk-toggleable__label-arrow:before {color: black;}#sk-container-id-2 div.sk-toggleable__content {max-height: 0;max-width: 0;overflow: hidden;text-align: left;background-color: #f0f8ff;}#sk-container-id-2 div.sk-toggleable__content pre {margin: 0.2em;color: black;border-radius: 0.25em;background-color: #f0f8ff;}#sk-container-id-2 input.sk-toggleable__control:checked~div.sk-toggleable__content {max-height: 200px;max-width: 100%;overflow: auto;}#sk-container-id-2 input.sk-toggleable__control:checked~label.sk-toggleable__label-arrow:before {content: \"▾\";}#sk-container-id-2 div.sk-estimator input.sk-toggleable__control:checked~label.sk-toggleable__label {background-color: #d4ebff;}#sk-container-id-2 div.sk-label input.sk-toggleable__control:checked~label.sk-toggleable__label {background-color: #d4ebff;}#sk-container-id-2 input.sk-hidden--visually {border: 0;clip: rect(1px 1px 1px 1px);clip: rect(1px, 1px, 1px, 1px);height: 1px;margin: -1px;overflow: hidden;padding: 0;position: absolute;width: 1px;}#sk-container-id-2 div.sk-estimator {font-family: monospace;background-color: #f0f8ff;border: 1px dotted black;border-radius: 0.25em;box-sizing: border-box;margin-bottom: 0.5em;}#sk-container-id-2 div.sk-estimator:hover {background-color: #d4ebff;}#sk-container-id-2 div.sk-parallel-item::after {content: \"\";width: 100%;border-bottom: 1px solid gray;flex-grow: 1;}#sk-container-id-2 div.sk-label:hover label.sk-toggleable__label {background-color: #d4ebff;}#sk-container-id-2 div.sk-serial::before {content: \"\";position: absolute;border-left: 1px solid gray;box-sizing: border-box;top: 0;bottom: 0;left: 50%;z-index: 0;}#sk-container-id-2 div.sk-serial {display: flex;flex-direction: column;align-items: center;background-color: white;padding-right: 0.2em;padding-left: 0.2em;position: relative;}#sk-container-id-2 div.sk-item {position: relative;z-index: 1;}#sk-container-id-2 div.sk-parallel {display: flex;align-items: stretch;justify-content: center;background-color: white;position: relative;}#sk-container-id-2 div.sk-item::before, #sk-container-id-2 div.sk-parallel-item::before {content: \"\";position: absolute;border-left: 1px solid gray;box-sizing: border-box;top: 0;bottom: 0;left: 50%;z-index: -1;}#sk-container-id-2 div.sk-parallel-item {display: flex;flex-direction: column;z-index: 1;position: relative;background-color: white;}#sk-container-id-2 div.sk-parallel-item:first-child::after {align-self: flex-end;width: 50%;}#sk-container-id-2 div.sk-parallel-item:last-child::after {align-self: flex-start;width: 50%;}#sk-container-id-2 div.sk-parallel-item:only-child::after {width: 0;}#sk-container-id-2 div.sk-dashed-wrapped {border: 1px dashed gray;margin: 0 0.4em 0.5em 0.4em;box-sizing: border-box;padding-bottom: 0.4em;background-color: white;}#sk-container-id-2 div.sk-label label {font-family: monospace;font-weight: bold;display: inline-block;line-height: 1.2em;}#sk-container-id-2 div.sk-label-container {text-align: center;}#sk-container-id-2 div.sk-container {/* jupyter's `normalize.less` sets `[hidden] { display: none; }` but bootstrap.min.css set `[hidden] { display: none !important; }` so we also need the `!important` here to be able to override the default hidden behavior on the sphinx rendered scikit-learn.org. See: https://github.com/scikit-learn/scikit-learn/issues/21755 */display: inline-block !important;position: relative;}#sk-container-id-2 div.sk-text-repr-fallback {display: none;}</style><div id=\"sk-container-id-2\" class=\"sk-top-container\"><div class=\"sk-text-repr-fallback\"><pre>RandomForestRegressor(random_state=42)</pre><b>In a Jupyter environment, please rerun this cell to show the HTML representation or trust the notebook. <br />On GitHub, the HTML representation is unable to render, please try loading this page with nbviewer.org.</b></div><div class=\"sk-container\" hidden><div class=\"sk-item\"><div class=\"sk-estimator sk-toggleable\"><input class=\"sk-toggleable__control sk-hidden--visually\" id=\"sk-estimator-id-2\" type=\"checkbox\" checked><label for=\"sk-estimator-id-2\" class=\"sk-toggleable__label sk-toggleable__label-arrow\">RandomForestRegressor</label><div class=\"sk-toggleable__content\"><pre>RandomForestRegressor(random_state=42)</pre></div></div></div></div></div>"
      ],
      "text/plain": [
       "RandomForestRegressor(random_state=42)"
      ]
     },
     "execution_count": 18,
     "metadata": {},
     "output_type": "execute_result"
    }
   ],
   "source": [
    "%%time\n",
    "training_model.fit(X_train, y_train)"
   ]
  },
  {
   "cell_type": "code",
   "execution_count": 19,
   "id": "bf1f5e59",
   "metadata": {
    "execution": {
     "iopub.execute_input": "2025-08-07T09:54:02.234118Z",
     "iopub.status.busy": "2025-08-07T09:54:02.233740Z",
     "iopub.status.idle": "2025-08-07T09:54:02.288566Z",
     "shell.execute_reply": "2025-08-07T09:54:02.287723Z"
    },
    "papermill": {
     "duration": 0.078555,
     "end_time": "2025-08-07T09:54:02.290163",
     "exception": false,
     "start_time": "2025-08-07T09:54:02.211608",
     "status": "completed"
    },
    "tags": []
   },
   "outputs": [
    {
     "data": {
      "text/plain": [
       "array([0.    , 0.2815, 0.    , ..., 0.8324, 0.    , 0.    ])"
      ]
     },
     "execution_count": 19,
     "metadata": {},
     "output_type": "execute_result"
    }
   ],
   "source": [
    "y_pred = training_model.predict(X_test)\n",
    "y_pred"
   ]
  },
  {
   "cell_type": "code",
   "execution_count": 20,
   "id": "0df74979",
   "metadata": {
    "execution": {
     "iopub.execute_input": "2025-08-07T09:54:02.335309Z",
     "iopub.status.busy": "2025-08-07T09:54:02.335006Z",
     "iopub.status.idle": "2025-08-07T09:54:02.342641Z",
     "shell.execute_reply": "2025-08-07T09:54:02.341844Z"
    },
    "papermill": {
     "duration": 0.033047,
     "end_time": "2025-08-07T09:54:02.344186",
     "exception": false,
     "start_time": "2025-08-07T09:54:02.311139",
     "status": "completed"
    },
    "tags": []
   },
   "outputs": [
    {
     "data": {
      "text/plain": [
       "5158     0.00\n",
       "3831     0.36\n",
       "5117     0.00\n",
       "6326     2.70\n",
       "11359    0.49\n",
       "         ... \n",
       "10290    0.30\n",
       "13995    0.00\n",
       "9665     0.90\n",
       "2276     0.00\n",
       "4174     0.00\n",
       "Name: SolarEnergy, Length: 2924, dtype: float64"
      ]
     },
     "execution_count": 20,
     "metadata": {},
     "output_type": "execute_result"
    }
   ],
   "source": [
    "y_test"
   ]
  },
  {
   "cell_type": "code",
   "execution_count": 21,
   "id": "e06b8f93",
   "metadata": {
    "execution": {
     "iopub.execute_input": "2025-08-07T09:54:02.391279Z",
     "iopub.status.busy": "2025-08-07T09:54:02.390549Z",
     "iopub.status.idle": "2025-08-07T09:54:02.397527Z",
     "shell.execute_reply": "2025-08-07T09:54:02.396722Z"
    },
    "papermill": {
     "duration": 0.031735,
     "end_time": "2025-08-07T09:54:02.399337",
     "exception": false,
     "start_time": "2025-08-07T09:54:02.367602",
     "status": "completed"
    },
    "tags": []
   },
   "outputs": [],
   "source": [
    "mse = mean_squared_error(y_test, y_pred)\n",
    "mae = mean_absolute_error(y_test, y_pred)\n",
    "r2 = r2_score(y_test, y_pred)\n",
    "rmse = math.sqrt(mse)"
   ]
  },
  {
   "cell_type": "code",
   "execution_count": 22,
   "id": "2b9aadac",
   "metadata": {
    "execution": {
     "iopub.execute_input": "2025-08-07T09:54:02.444287Z",
     "iopub.status.busy": "2025-08-07T09:54:02.443999Z",
     "iopub.status.idle": "2025-08-07T09:54:02.449375Z",
     "shell.execute_reply": "2025-08-07T09:54:02.448306Z"
    },
    "papermill": {
     "duration": 0.029572,
     "end_time": "2025-08-07T09:54:02.451089",
     "exception": false,
     "start_time": "2025-08-07T09:54:02.421517",
     "status": "completed"
    },
    "tags": []
   },
   "outputs": [
    {
     "name": "stdout",
     "output_type": "stream",
     "text": [
      "MSE Score: 0.0029163984712722323\n",
      "MAE Score: 0.030812688098495244\n",
      "R2 Score: 0.9976063637131084\n",
      "RMSE Score: 0.05400368942278141\n"
     ]
    }
   ],
   "source": [
    "print(\"MSE Score:\", mse)\n",
    "print(\"MAE Score:\", mae)\n",
    "print(\"R2 Score:\", r2)\n",
    "print(\"RMSE Score:\", rmse)"
   ]
  },
  {
   "cell_type": "code",
   "execution_count": 23,
   "id": "16f7232c",
   "metadata": {
    "execution": {
     "iopub.execute_input": "2025-08-07T09:54:02.495549Z",
     "iopub.status.busy": "2025-08-07T09:54:02.495211Z",
     "iopub.status.idle": "2025-08-07T09:54:02.511938Z",
     "shell.execute_reply": "2025-08-07T09:54:02.510809Z"
    },
    "papermill": {
     "duration": 0.040762,
     "end_time": "2025-08-07T09:54:02.513620",
     "exception": false,
     "start_time": "2025-08-07T09:54:02.472858",
     "status": "completed"
    },
    "tags": []
   },
   "outputs": [
    {
     "name": "stdout",
     "output_type": "stream",
     "text": [
      "✨ New regression model added:\n",
      "   MSE: 0.002916, R²: 0.997606\n",
      "   Features: 27\n",
      "💾 Registry updated: Model_Training_History/History_Regression.csv\n"
     ]
    }
   ],
   "source": [
    "regression_params = {\n",
    "    'model_name': model_name_for_saving,\n",
    "    'scaler_name': \"MinMaxScaler\",\n",
    "    'features_list': feature_columns_for_saving,\n",
    "    'target_column': target_name_for_saving,\n",
    "    'mse': mse,\n",
    "    'mae': mae,\n",
    "    'rmse': rmse,\n",
    "    'r2': r2,\n",
    "    'parameters': json.dumps(training_model.get_params())\n",
    "}\n",
    "save_model_performance_if_better('regression', regression_params)"
   ]
  },
  {
   "cell_type": "markdown",
   "id": "5a4a3204",
   "metadata": {
    "papermill": {
     "duration": 0.022318,
     "end_time": "2025-08-07T09:54:02.557841",
     "exception": false,
     "start_time": "2025-08-07T09:54:02.535523",
     "status": "completed"
    },
    "tags": []
   },
   "source": [
    "### Tuning with Randomized Grid Search"
   ]
  },
  {
   "cell_type": "code",
   "execution_count": 24,
   "id": "68dae4fe",
   "metadata": {
    "execution": {
     "iopub.execute_input": "2025-08-07T09:54:02.602859Z",
     "iopub.status.busy": "2025-08-07T09:54:02.602423Z",
     "iopub.status.idle": "2025-08-07T09:54:02.607791Z",
     "shell.execute_reply": "2025-08-07T09:54:02.606634Z"
    },
    "papermill": {
     "duration": 0.029947,
     "end_time": "2025-08-07T09:54:02.609533",
     "exception": false,
     "start_time": "2025-08-07T09:54:02.579586",
     "status": "completed"
    },
    "tags": []
   },
   "outputs": [],
   "source": [
    "grid_search = RandomizedSearchCV(\n",
    "    RandomForestRegressor(random_state=42), \n",
    "    grid_param,\n",
    "    n_iter=number_of_model_for_randomized_grid,\n",
    "    cv=5,\n",
    "    scoring='neg_mean_squared_error',\n",
    "    n_jobs=-1,\n",
    "    verbose=1,\n",
    "    random_state=42\n",
    ")"
   ]
  },
  {
   "cell_type": "code",
   "execution_count": 25,
   "id": "ad851866",
   "metadata": {
    "execution": {
     "iopub.execute_input": "2025-08-07T09:54:02.656314Z",
     "iopub.status.busy": "2025-08-07T09:54:02.656030Z",
     "iopub.status.idle": "2025-08-07T11:00:17.523382Z",
     "shell.execute_reply": "2025-08-07T11:00:17.522092Z"
    },
    "papermill": {
     "duration": 3974.916084,
     "end_time": "2025-08-07T11:00:17.548246",
     "exception": false,
     "start_time": "2025-08-07T09:54:02.632162",
     "status": "completed"
    },
    "tags": []
   },
   "outputs": [
    {
     "name": "stdout",
     "output_type": "stream",
     "text": [
      "Starting hyperparameter tuning...\n",
      "Fitting 5 folds for each of 510 candidates, totalling 2550 fits\n",
      "CPU times: user 36.2 s, sys: 7.09 s, total: 43.3 s\n",
      "Wall time: 1h 6min 14s\n"
     ]
    },
    {
     "data": {
      "text/html": [
       "<style>#sk-container-id-3 {color: black;background-color: white;}#sk-container-id-3 pre{padding: 0;}#sk-container-id-3 div.sk-toggleable {background-color: white;}#sk-container-id-3 label.sk-toggleable__label {cursor: pointer;display: block;width: 100%;margin-bottom: 0;padding: 0.3em;box-sizing: border-box;text-align: center;}#sk-container-id-3 label.sk-toggleable__label-arrow:before {content: \"▸\";float: left;margin-right: 0.25em;color: #696969;}#sk-container-id-3 label.sk-toggleable__label-arrow:hover:before {color: black;}#sk-container-id-3 div.sk-estimator:hover label.sk-toggleable__label-arrow:before {color: black;}#sk-container-id-3 div.sk-toggleable__content {max-height: 0;max-width: 0;overflow: hidden;text-align: left;background-color: #f0f8ff;}#sk-container-id-3 div.sk-toggleable__content pre {margin: 0.2em;color: black;border-radius: 0.25em;background-color: #f0f8ff;}#sk-container-id-3 input.sk-toggleable__control:checked~div.sk-toggleable__content {max-height: 200px;max-width: 100%;overflow: auto;}#sk-container-id-3 input.sk-toggleable__control:checked~label.sk-toggleable__label-arrow:before {content: \"▾\";}#sk-container-id-3 div.sk-estimator input.sk-toggleable__control:checked~label.sk-toggleable__label {background-color: #d4ebff;}#sk-container-id-3 div.sk-label input.sk-toggleable__control:checked~label.sk-toggleable__label {background-color: #d4ebff;}#sk-container-id-3 input.sk-hidden--visually {border: 0;clip: rect(1px 1px 1px 1px);clip: rect(1px, 1px, 1px, 1px);height: 1px;margin: -1px;overflow: hidden;padding: 0;position: absolute;width: 1px;}#sk-container-id-3 div.sk-estimator {font-family: monospace;background-color: #f0f8ff;border: 1px dotted black;border-radius: 0.25em;box-sizing: border-box;margin-bottom: 0.5em;}#sk-container-id-3 div.sk-estimator:hover {background-color: #d4ebff;}#sk-container-id-3 div.sk-parallel-item::after {content: \"\";width: 100%;border-bottom: 1px solid gray;flex-grow: 1;}#sk-container-id-3 div.sk-label:hover label.sk-toggleable__label {background-color: #d4ebff;}#sk-container-id-3 div.sk-serial::before {content: \"\";position: absolute;border-left: 1px solid gray;box-sizing: border-box;top: 0;bottom: 0;left: 50%;z-index: 0;}#sk-container-id-3 div.sk-serial {display: flex;flex-direction: column;align-items: center;background-color: white;padding-right: 0.2em;padding-left: 0.2em;position: relative;}#sk-container-id-3 div.sk-item {position: relative;z-index: 1;}#sk-container-id-3 div.sk-parallel {display: flex;align-items: stretch;justify-content: center;background-color: white;position: relative;}#sk-container-id-3 div.sk-item::before, #sk-container-id-3 div.sk-parallel-item::before {content: \"\";position: absolute;border-left: 1px solid gray;box-sizing: border-box;top: 0;bottom: 0;left: 50%;z-index: -1;}#sk-container-id-3 div.sk-parallel-item {display: flex;flex-direction: column;z-index: 1;position: relative;background-color: white;}#sk-container-id-3 div.sk-parallel-item:first-child::after {align-self: flex-end;width: 50%;}#sk-container-id-3 div.sk-parallel-item:last-child::after {align-self: flex-start;width: 50%;}#sk-container-id-3 div.sk-parallel-item:only-child::after {width: 0;}#sk-container-id-3 div.sk-dashed-wrapped {border: 1px dashed gray;margin: 0 0.4em 0.5em 0.4em;box-sizing: border-box;padding-bottom: 0.4em;background-color: white;}#sk-container-id-3 div.sk-label label {font-family: monospace;font-weight: bold;display: inline-block;line-height: 1.2em;}#sk-container-id-3 div.sk-label-container {text-align: center;}#sk-container-id-3 div.sk-container {/* jupyter's `normalize.less` sets `[hidden] { display: none; }` but bootstrap.min.css set `[hidden] { display: none !important; }` so we also need the `!important` here to be able to override the default hidden behavior on the sphinx rendered scikit-learn.org. See: https://github.com/scikit-learn/scikit-learn/issues/21755 */display: inline-block !important;position: relative;}#sk-container-id-3 div.sk-text-repr-fallback {display: none;}</style><div id=\"sk-container-id-3\" class=\"sk-top-container\"><div class=\"sk-text-repr-fallback\"><pre>RandomizedSearchCV(cv=5, estimator=RandomForestRegressor(random_state=42),\n",
       "                   n_iter=510, n_jobs=-1,\n",
       "                   param_distributions=[{&#x27;bootstrap&#x27;: [True],\n",
       "                                         &#x27;max_depth&#x27;: [None, 10, 20, 30],\n",
       "                                         &#x27;max_features&#x27;: [&#x27;sqrt&#x27;, &#x27;log2&#x27;, None],\n",
       "                                         &#x27;max_samples&#x27;: [None, 0.8, 0.9],\n",
       "                                         &#x27;min_impurity_decrease&#x27;: [0.0, 0.01,\n",
       "                                                                   0.02],\n",
       "                                         &#x27;min_samples_leaf&#x27;: [1, 2, 4, 6],\n",
       "                                         &#x27;min_samples_split&#x27;: [2, 5, 10, 15,\n",
       "                                                               20],\n",
       "                                         &#x27;n_estimators&#x27;: [100, 200, 300]},\n",
       "                                        {&#x27;bootstrap&#x27;: [False],\n",
       "                                         &#x27;max_depth&#x27;: [None, 10, 20, 30],\n",
       "                                         &#x27;max_features&#x27;: [&#x27;sqrt&#x27;, &#x27;log2&#x27;, None],\n",
       "                                         &#x27;min_impurity_decrease&#x27;: [0.0, 0.01,\n",
       "                                                                   0.02],\n",
       "                                         &#x27;min_samples_leaf&#x27;: [1, 2, 4, 6],\n",
       "                                         &#x27;min_samples_split&#x27;: [2, 5, 10, 15,\n",
       "                                                               20],\n",
       "                                         &#x27;n_estimators&#x27;: [100, 200, 300]}],\n",
       "                   random_state=42, scoring=&#x27;neg_mean_squared_error&#x27;,\n",
       "                   verbose=1)</pre><b>In a Jupyter environment, please rerun this cell to show the HTML representation or trust the notebook. <br />On GitHub, the HTML representation is unable to render, please try loading this page with nbviewer.org.</b></div><div class=\"sk-container\" hidden><div class=\"sk-item sk-dashed-wrapped\"><div class=\"sk-label-container\"><div class=\"sk-label sk-toggleable\"><input class=\"sk-toggleable__control sk-hidden--visually\" id=\"sk-estimator-id-3\" type=\"checkbox\" ><label for=\"sk-estimator-id-3\" class=\"sk-toggleable__label sk-toggleable__label-arrow\">RandomizedSearchCV</label><div class=\"sk-toggleable__content\"><pre>RandomizedSearchCV(cv=5, estimator=RandomForestRegressor(random_state=42),\n",
       "                   n_iter=510, n_jobs=-1,\n",
       "                   param_distributions=[{&#x27;bootstrap&#x27;: [True],\n",
       "                                         &#x27;max_depth&#x27;: [None, 10, 20, 30],\n",
       "                                         &#x27;max_features&#x27;: [&#x27;sqrt&#x27;, &#x27;log2&#x27;, None],\n",
       "                                         &#x27;max_samples&#x27;: [None, 0.8, 0.9],\n",
       "                                         &#x27;min_impurity_decrease&#x27;: [0.0, 0.01,\n",
       "                                                                   0.02],\n",
       "                                         &#x27;min_samples_leaf&#x27;: [1, 2, 4, 6],\n",
       "                                         &#x27;min_samples_split&#x27;: [2, 5, 10, 15,\n",
       "                                                               20],\n",
       "                                         &#x27;n_estimators&#x27;: [100, 200, 300]},\n",
       "                                        {&#x27;bootstrap&#x27;: [False],\n",
       "                                         &#x27;max_depth&#x27;: [None, 10, 20, 30],\n",
       "                                         &#x27;max_features&#x27;: [&#x27;sqrt&#x27;, &#x27;log2&#x27;, None],\n",
       "                                         &#x27;min_impurity_decrease&#x27;: [0.0, 0.01,\n",
       "                                                                   0.02],\n",
       "                                         &#x27;min_samples_leaf&#x27;: [1, 2, 4, 6],\n",
       "                                         &#x27;min_samples_split&#x27;: [2, 5, 10, 15,\n",
       "                                                               20],\n",
       "                                         &#x27;n_estimators&#x27;: [100, 200, 300]}],\n",
       "                   random_state=42, scoring=&#x27;neg_mean_squared_error&#x27;,\n",
       "                   verbose=1)</pre></div></div></div><div class=\"sk-parallel\"><div class=\"sk-parallel-item\"><div class=\"sk-item\"><div class=\"sk-label-container\"><div class=\"sk-label sk-toggleable\"><input class=\"sk-toggleable__control sk-hidden--visually\" id=\"sk-estimator-id-4\" type=\"checkbox\" ><label for=\"sk-estimator-id-4\" class=\"sk-toggleable__label sk-toggleable__label-arrow\">estimator: RandomForestRegressor</label><div class=\"sk-toggleable__content\"><pre>RandomForestRegressor(random_state=42)</pre></div></div></div><div class=\"sk-serial\"><div class=\"sk-item\"><div class=\"sk-estimator sk-toggleable\"><input class=\"sk-toggleable__control sk-hidden--visually\" id=\"sk-estimator-id-5\" type=\"checkbox\" ><label for=\"sk-estimator-id-5\" class=\"sk-toggleable__label sk-toggleable__label-arrow\">RandomForestRegressor</label><div class=\"sk-toggleable__content\"><pre>RandomForestRegressor(random_state=42)</pre></div></div></div></div></div></div></div></div></div></div>"
      ],
      "text/plain": [
       "RandomizedSearchCV(cv=5, estimator=RandomForestRegressor(random_state=42),\n",
       "                   n_iter=510, n_jobs=-1,\n",
       "                   param_distributions=[{'bootstrap': [True],\n",
       "                                         'max_depth': [None, 10, 20, 30],\n",
       "                                         'max_features': ['sqrt', 'log2', None],\n",
       "                                         'max_samples': [None, 0.8, 0.9],\n",
       "                                         'min_impurity_decrease': [0.0, 0.01,\n",
       "                                                                   0.02],\n",
       "                                         'min_samples_leaf': [1, 2, 4, 6],\n",
       "                                         'min_samples_split': [2, 5, 10, 15,\n",
       "                                                               20],\n",
       "                                         'n_estimators': [100, 200, 300]},\n",
       "                                        {'bootstrap': [False],\n",
       "                                         'max_depth': [None, 10, 20, 30],\n",
       "                                         'max_features': ['sqrt', 'log2', None],\n",
       "                                         'min_impurity_decrease': [0.0, 0.01,\n",
       "                                                                   0.02],\n",
       "                                         'min_samples_leaf': [1, 2, 4, 6],\n",
       "                                         'min_samples_split': [2, 5, 10, 15,\n",
       "                                                               20],\n",
       "                                         'n_estimators': [100, 200, 300]}],\n",
       "                   random_state=42, scoring='neg_mean_squared_error',\n",
       "                   verbose=1)"
      ]
     },
     "execution_count": 25,
     "metadata": {},
     "output_type": "execute_result"
    }
   ],
   "source": [
    "%%time\n",
    "print(\"Starting hyperparameter tuning...\")\n",
    "grid_search.fit(X_train, y_train)"
   ]
  },
  {
   "cell_type": "code",
   "execution_count": 26,
   "id": "b4f27048",
   "metadata": {
    "execution": {
     "iopub.execute_input": "2025-08-07T11:00:17.598508Z",
     "iopub.status.busy": "2025-08-07T11:00:17.598160Z",
     "iopub.status.idle": "2025-08-07T11:00:17.604845Z",
     "shell.execute_reply": "2025-08-07T11:00:17.603734Z"
    },
    "papermill": {
     "duration": 0.033008,
     "end_time": "2025-08-07T11:00:17.606666",
     "exception": false,
     "start_time": "2025-08-07T11:00:17.573658",
     "status": "completed"
    },
    "tags": []
   },
   "outputs": [
    {
     "name": "stdout",
     "output_type": "stream",
     "text": [
      "TUNING RESULTS\n",
      "==================================================\n",
      "Best Parameters: {'n_estimators': 200, 'min_samples_split': 5, 'min_samples_leaf': 1, 'min_impurity_decrease': 0.0, 'max_samples': 0.9, 'max_features': None, 'max_depth': 30, 'bootstrap': True}\n",
      "Best Cross-Validation Score (Negative MSE): -0.002888583960181537\n",
      "Best Cross-Validation Score (MSE): 0.002888583960181537\n",
      "Best Cross-Validation Score (RMSE): 0.05374554828245347\n"
     ]
    }
   ],
   "source": [
    "print(\"TUNING RESULTS\")\n",
    "print(\"=\"*50)\n",
    "print(\"Best Parameters:\", grid_search.best_params_)\n",
    "print(\"Best Cross-Validation Score (Negative MSE):\", grid_search.best_score_)\n",
    "print(\"Best Cross-Validation Score (MSE):\", -grid_search.best_score_)\n",
    "print(\"Best Cross-Validation Score (RMSE):\", math.sqrt(-grid_search.best_score_))"
   ]
  },
  {
   "cell_type": "code",
   "execution_count": 27,
   "id": "d66461f7",
   "metadata": {
    "execution": {
     "iopub.execute_input": "2025-08-07T11:00:17.653496Z",
     "iopub.status.busy": "2025-08-07T11:00:17.653192Z",
     "iopub.status.idle": "2025-08-07T11:00:17.738107Z",
     "shell.execute_reply": "2025-08-07T11:00:17.737336Z"
    },
    "papermill": {
     "duration": 0.11051,
     "end_time": "2025-08-07T11:00:17.739948",
     "exception": false,
     "start_time": "2025-08-07T11:00:17.629438",
     "status": "completed"
    },
    "tags": []
   },
   "outputs": [],
   "source": [
    "grid_search_best_model = grid_search.best_estimator_\n",
    "y_pred = grid_search_best_model.predict(X_test)"
   ]
  },
  {
   "cell_type": "code",
   "execution_count": 28,
   "id": "59d72ebd",
   "metadata": {
    "execution": {
     "iopub.execute_input": "2025-08-07T11:00:17.791184Z",
     "iopub.status.busy": "2025-08-07T11:00:17.790871Z",
     "iopub.status.idle": "2025-08-07T11:00:17.799463Z",
     "shell.execute_reply": "2025-08-07T11:00:17.798484Z"
    },
    "papermill": {
     "duration": 0.036316,
     "end_time": "2025-08-07T11:00:17.801279",
     "exception": false,
     "start_time": "2025-08-07T11:00:17.764963",
     "status": "completed"
    },
    "tags": []
   },
   "outputs": [],
   "source": [
    "mse_grid_search = mean_squared_error(y_test, y_pred)\n",
    "mae_grid_search = mean_absolute_error(y_test, y_pred)\n",
    "r2_grid_search = r2_score(y_test, y_pred)\n",
    "rmse_grid_search = math.sqrt(mse_grid_search)"
   ]
  },
  {
   "cell_type": "code",
   "execution_count": 29,
   "id": "cd3e8f36",
   "metadata": {
    "execution": {
     "iopub.execute_input": "2025-08-07T11:00:17.847471Z",
     "iopub.status.busy": "2025-08-07T11:00:17.847152Z",
     "iopub.status.idle": "2025-08-07T11:00:17.852502Z",
     "shell.execute_reply": "2025-08-07T11:00:17.851412Z"
    },
    "papermill": {
     "duration": 0.030779,
     "end_time": "2025-08-07T11:00:17.854346",
     "exception": false,
     "start_time": "2025-08-07T11:00:17.823567",
     "status": "completed"
    },
    "tags": []
   },
   "outputs": [
    {
     "name": "stdout",
     "output_type": "stream",
     "text": [
      "MSE Score: 0.0029350680782217185\n",
      "MAE Score: 0.030988216462450154\n",
      "R2 Score: 0.9975910406188548\n",
      "RMSE Score: 0.05417626858894694\n"
     ]
    }
   ],
   "source": [
    "print(\"MSE Score:\", mse_grid_search)\n",
    "print(\"MAE Score:\", mae_grid_search)\n",
    "print(\"R2 Score:\", r2_grid_search)\n",
    "print(\"RMSE Score:\", rmse_grid_search)"
   ]
  },
  {
   "cell_type": "code",
   "execution_count": 30,
   "id": "866a0b23",
   "metadata": {
    "execution": {
     "iopub.execute_input": "2025-08-07T11:00:17.901045Z",
     "iopub.status.busy": "2025-08-07T11:00:17.900665Z",
     "iopub.status.idle": "2025-08-07T11:00:17.913284Z",
     "shell.execute_reply": "2025-08-07T11:00:17.912295Z"
    },
    "papermill": {
     "duration": 0.038262,
     "end_time": "2025-08-07T11:00:17.915098",
     "exception": false,
     "start_time": "2025-08-07T11:00:17.876836",
     "status": "completed"
    },
    "tags": []
   },
   "outputs": [
    {
     "name": "stdout",
     "output_type": "stream",
     "text": [
      "✨ New regression model added:\n",
      "   MSE: 0.002935, R²: 0.997591\n",
      "   Features: 27\n",
      "💾 Registry updated: Model_Training_History/History_Regression.csv\n"
     ]
    }
   ],
   "source": [
    "regression_params = {\n",
    "    'model_name': model_name_for_saving + \" Tuned\",\n",
    "    'scaler_name': \"MinMaxScaler\",\n",
    "    'features_list': feature_columns_for_saving,\n",
    "    'target_column': target_name_for_saving,\n",
    "    'mse': mse_grid_search,\n",
    "    'mae': mae_grid_search,\n",
    "    'rmse': rmse_grid_search,\n",
    "    'r2': r2_grid_search,\n",
    "    'parameters' : json.dumps({\n",
    "        \"best_params\": grid_search.best_params_,\n",
    "        \"cv_score\": grid_search.best_score_,\n",
    "        \"all_params\": grid_search_best_model.get_params()\n",
    "    })\n",
    "}\n",
    "save_model_performance_if_better('regression', regression_params)"
   ]
  },
  {
   "cell_type": "markdown",
   "id": "6251c222",
   "metadata": {
    "papermill": {
     "duration": 0.02265,
     "end_time": "2025-08-07T11:00:17.961321",
     "exception": false,
     "start_time": "2025-08-07T11:00:17.938671",
     "status": "completed"
    },
    "tags": []
   },
   "source": [
    "## Standard Scaler"
   ]
  },
  {
   "cell_type": "code",
   "execution_count": 31,
   "id": "e64a64c1",
   "metadata": {
    "execution": {
     "iopub.execute_input": "2025-08-07T11:00:18.009860Z",
     "iopub.status.busy": "2025-08-07T11:00:18.009459Z",
     "iopub.status.idle": "2025-08-07T11:00:18.089615Z",
     "shell.execute_reply": "2025-08-07T11:00:18.088636Z"
    },
    "papermill": {
     "duration": 0.106436,
     "end_time": "2025-08-07T11:00:18.091450",
     "exception": false,
     "start_time": "2025-08-07T11:00:17.985014",
     "status": "completed"
    },
    "tags": []
   },
   "outputs": [],
   "source": [
    "scaler = StandardScaler()\n",
    "X_train = scaler.fit_transform(X_train_raw)\n",
    "X_test = scaler.transform(X_test_raw)"
   ]
  },
  {
   "cell_type": "code",
   "execution_count": 32,
   "id": "b62dde7f",
   "metadata": {
    "execution": {
     "iopub.execute_input": "2025-08-07T11:00:18.138454Z",
     "iopub.status.busy": "2025-08-07T11:00:18.138150Z",
     "iopub.status.idle": "2025-08-07T11:00:18.145007Z",
     "shell.execute_reply": "2025-08-07T11:00:18.143937Z"
    },
    "papermill": {
     "duration": 0.032056,
     "end_time": "2025-08-07T11:00:18.146661",
     "exception": false,
     "start_time": "2025-08-07T11:00:18.114605",
     "status": "completed"
    },
    "tags": []
   },
   "outputs": [
    {
     "data": {
      "text/plain": [
       "array([[ 1.01884116,  1.17229173, -0.21938027, ..., -0.12088825,\n",
       "         1.52387472,  1.09644529],\n",
       "       [ 1.64376461, -0.75947244,  0.64624572, ..., -1.52028666,\n",
       "         0.24645772, -0.43343649],\n",
       "       [-1.16839092, -0.1913065 , -1.66209024, ..., -1.52028666,\n",
       "        -0.73592134, -0.43343649],\n",
       "       ...,\n",
       "       [ 0.70637943,  1.28592492, -0.21938027, ...,  0.96917545,\n",
       "         0.25618424, -0.30383078],\n",
       "       [-1.48085264, -0.30493969,  1.36760071, ..., -1.52028666,\n",
       "        -0.73592134, -0.43343649],\n",
       "       [ 1.01884116, -0.75947244, -0.50792226, ...,  1.01722469,\n",
       "         0.20430944,  0.85928021]])"
      ]
     },
     "execution_count": 32,
     "metadata": {},
     "output_type": "execute_result"
    }
   ],
   "source": [
    "X_train"
   ]
  },
  {
   "cell_type": "code",
   "execution_count": 33,
   "id": "ae572e7e",
   "metadata": {
    "execution": {
     "iopub.execute_input": "2025-08-07T11:00:18.195453Z",
     "iopub.status.busy": "2025-08-07T11:00:18.195107Z",
     "iopub.status.idle": "2025-08-07T11:00:18.202054Z",
     "shell.execute_reply": "2025-08-07T11:00:18.201068Z"
    },
    "papermill": {
     "duration": 0.033116,
     "end_time": "2025-08-07T11:00:18.203663",
     "exception": false,
     "start_time": "2025-08-07T11:00:18.170547",
     "status": "completed"
    },
    "tags": []
   },
   "outputs": [
    {
     "data": {
      "text/plain": [
       "array([[ 0.70637943, -1.44127155,  1.51187171, ...,  1.02148941,\n",
       "        -0.73592134, -0.43343649],\n",
       "       [ 0.08145598, -0.75947244,  0.50197472, ...,  1.23102956,\n",
       "        -0.49600038, -0.43343649],\n",
       "       [ 0.70637943, -1.55490474, -0.94073525, ...,  1.30438283,\n",
       "        -0.73592134, -0.43343649],\n",
       "       ...,\n",
       "       [-1.16839092, -0.98673881,  0.79051672, ..., -1.51659057,\n",
       "        -0.07775979, -0.43343649],\n",
       "       [-0.54346747, -1.21400518,  1.22332971, ..., -1.52028666,\n",
       "        -0.73592134,  0.71764924],\n",
       "       [ 0.08145598,  0.83139217,  1.51187171, ..., -0.05293696,\n",
       "        -0.73592134, -0.43343649]])"
      ]
     },
     "execution_count": 33,
     "metadata": {},
     "output_type": "execute_result"
    }
   ],
   "source": [
    "X_test"
   ]
  },
  {
   "cell_type": "markdown",
   "id": "bed542f1",
   "metadata": {
    "papermill": {
     "duration": 0.022653,
     "end_time": "2025-08-07T11:00:18.249383",
     "exception": false,
     "start_time": "2025-08-07T11:00:18.226730",
     "status": "completed"
    },
    "tags": []
   },
   "source": [
    "### Default Parameters"
   ]
  },
  {
   "cell_type": "code",
   "execution_count": 34,
   "id": "1c171873",
   "metadata": {
    "execution": {
     "iopub.execute_input": "2025-08-07T11:00:18.296399Z",
     "iopub.status.busy": "2025-08-07T11:00:18.296051Z",
     "iopub.status.idle": "2025-08-07T11:00:18.302924Z",
     "shell.execute_reply": "2025-08-07T11:00:18.301877Z"
    },
    "papermill": {
     "duration": 0.032544,
     "end_time": "2025-08-07T11:00:18.304492",
     "exception": false,
     "start_time": "2025-08-07T11:00:18.271948",
     "status": "completed"
    },
    "tags": []
   },
   "outputs": [
    {
     "data": {
      "text/html": [
       "<style>#sk-container-id-4 {color: black;background-color: white;}#sk-container-id-4 pre{padding: 0;}#sk-container-id-4 div.sk-toggleable {background-color: white;}#sk-container-id-4 label.sk-toggleable__label {cursor: pointer;display: block;width: 100%;margin-bottom: 0;padding: 0.3em;box-sizing: border-box;text-align: center;}#sk-container-id-4 label.sk-toggleable__label-arrow:before {content: \"▸\";float: left;margin-right: 0.25em;color: #696969;}#sk-container-id-4 label.sk-toggleable__label-arrow:hover:before {color: black;}#sk-container-id-4 div.sk-estimator:hover label.sk-toggleable__label-arrow:before {color: black;}#sk-container-id-4 div.sk-toggleable__content {max-height: 0;max-width: 0;overflow: hidden;text-align: left;background-color: #f0f8ff;}#sk-container-id-4 div.sk-toggleable__content pre {margin: 0.2em;color: black;border-radius: 0.25em;background-color: #f0f8ff;}#sk-container-id-4 input.sk-toggleable__control:checked~div.sk-toggleable__content {max-height: 200px;max-width: 100%;overflow: auto;}#sk-container-id-4 input.sk-toggleable__control:checked~label.sk-toggleable__label-arrow:before {content: \"▾\";}#sk-container-id-4 div.sk-estimator input.sk-toggleable__control:checked~label.sk-toggleable__label {background-color: #d4ebff;}#sk-container-id-4 div.sk-label input.sk-toggleable__control:checked~label.sk-toggleable__label {background-color: #d4ebff;}#sk-container-id-4 input.sk-hidden--visually {border: 0;clip: rect(1px 1px 1px 1px);clip: rect(1px, 1px, 1px, 1px);height: 1px;margin: -1px;overflow: hidden;padding: 0;position: absolute;width: 1px;}#sk-container-id-4 div.sk-estimator {font-family: monospace;background-color: #f0f8ff;border: 1px dotted black;border-radius: 0.25em;box-sizing: border-box;margin-bottom: 0.5em;}#sk-container-id-4 div.sk-estimator:hover {background-color: #d4ebff;}#sk-container-id-4 div.sk-parallel-item::after {content: \"\";width: 100%;border-bottom: 1px solid gray;flex-grow: 1;}#sk-container-id-4 div.sk-label:hover label.sk-toggleable__label {background-color: #d4ebff;}#sk-container-id-4 div.sk-serial::before {content: \"\";position: absolute;border-left: 1px solid gray;box-sizing: border-box;top: 0;bottom: 0;left: 50%;z-index: 0;}#sk-container-id-4 div.sk-serial {display: flex;flex-direction: column;align-items: center;background-color: white;padding-right: 0.2em;padding-left: 0.2em;position: relative;}#sk-container-id-4 div.sk-item {position: relative;z-index: 1;}#sk-container-id-4 div.sk-parallel {display: flex;align-items: stretch;justify-content: center;background-color: white;position: relative;}#sk-container-id-4 div.sk-item::before, #sk-container-id-4 div.sk-parallel-item::before {content: \"\";position: absolute;border-left: 1px solid gray;box-sizing: border-box;top: 0;bottom: 0;left: 50%;z-index: -1;}#sk-container-id-4 div.sk-parallel-item {display: flex;flex-direction: column;z-index: 1;position: relative;background-color: white;}#sk-container-id-4 div.sk-parallel-item:first-child::after {align-self: flex-end;width: 50%;}#sk-container-id-4 div.sk-parallel-item:last-child::after {align-self: flex-start;width: 50%;}#sk-container-id-4 div.sk-parallel-item:only-child::after {width: 0;}#sk-container-id-4 div.sk-dashed-wrapped {border: 1px dashed gray;margin: 0 0.4em 0.5em 0.4em;box-sizing: border-box;padding-bottom: 0.4em;background-color: white;}#sk-container-id-4 div.sk-label label {font-family: monospace;font-weight: bold;display: inline-block;line-height: 1.2em;}#sk-container-id-4 div.sk-label-container {text-align: center;}#sk-container-id-4 div.sk-container {/* jupyter's `normalize.less` sets `[hidden] { display: none; }` but bootstrap.min.css set `[hidden] { display: none !important; }` so we also need the `!important` here to be able to override the default hidden behavior on the sphinx rendered scikit-learn.org. See: https://github.com/scikit-learn/scikit-learn/issues/21755 */display: inline-block !important;position: relative;}#sk-container-id-4 div.sk-text-repr-fallback {display: none;}</style><div id=\"sk-container-id-4\" class=\"sk-top-container\"><div class=\"sk-text-repr-fallback\"><pre>RandomForestRegressor(random_state=42)</pre><b>In a Jupyter environment, please rerun this cell to show the HTML representation or trust the notebook. <br />On GitHub, the HTML representation is unable to render, please try loading this page with nbviewer.org.</b></div><div class=\"sk-container\" hidden><div class=\"sk-item\"><div class=\"sk-estimator sk-toggleable\"><input class=\"sk-toggleable__control sk-hidden--visually\" id=\"sk-estimator-id-6\" type=\"checkbox\" checked><label for=\"sk-estimator-id-6\" class=\"sk-toggleable__label sk-toggleable__label-arrow\">RandomForestRegressor</label><div class=\"sk-toggleable__content\"><pre>RandomForestRegressor(random_state=42)</pre></div></div></div></div></div>"
      ],
      "text/plain": [
       "RandomForestRegressor(random_state=42)"
      ]
     },
     "execution_count": 34,
     "metadata": {},
     "output_type": "execute_result"
    }
   ],
   "source": [
    "training_model = RandomForestRegressor(random_state=42)\n",
    "training_model"
   ]
  },
  {
   "cell_type": "code",
   "execution_count": 35,
   "id": "d0461aff",
   "metadata": {
    "execution": {
     "iopub.execute_input": "2025-08-07T11:00:18.353345Z",
     "iopub.status.busy": "2025-08-07T11:00:18.353012Z",
     "iopub.status.idle": "2025-08-07T11:00:27.574318Z",
     "shell.execute_reply": "2025-08-07T11:00:27.573380Z"
    },
    "papermill": {
     "duration": 9.247902,
     "end_time": "2025-08-07T11:00:27.575812",
     "exception": false,
     "start_time": "2025-08-07T11:00:18.327910",
     "status": "completed"
    },
    "tags": []
   },
   "outputs": [
    {
     "name": "stdout",
     "output_type": "stream",
     "text": [
      "CPU times: user 9.21 s, sys: 0 ns, total: 9.21 s\n",
      "Wall time: 9.21 s\n"
     ]
    },
    {
     "data": {
      "text/html": [
       "<style>#sk-container-id-5 {color: black;background-color: white;}#sk-container-id-5 pre{padding: 0;}#sk-container-id-5 div.sk-toggleable {background-color: white;}#sk-container-id-5 label.sk-toggleable__label {cursor: pointer;display: block;width: 100%;margin-bottom: 0;padding: 0.3em;box-sizing: border-box;text-align: center;}#sk-container-id-5 label.sk-toggleable__label-arrow:before {content: \"▸\";float: left;margin-right: 0.25em;color: #696969;}#sk-container-id-5 label.sk-toggleable__label-arrow:hover:before {color: black;}#sk-container-id-5 div.sk-estimator:hover label.sk-toggleable__label-arrow:before {color: black;}#sk-container-id-5 div.sk-toggleable__content {max-height: 0;max-width: 0;overflow: hidden;text-align: left;background-color: #f0f8ff;}#sk-container-id-5 div.sk-toggleable__content pre {margin: 0.2em;color: black;border-radius: 0.25em;background-color: #f0f8ff;}#sk-container-id-5 input.sk-toggleable__control:checked~div.sk-toggleable__content {max-height: 200px;max-width: 100%;overflow: auto;}#sk-container-id-5 input.sk-toggleable__control:checked~label.sk-toggleable__label-arrow:before {content: \"▾\";}#sk-container-id-5 div.sk-estimator input.sk-toggleable__control:checked~label.sk-toggleable__label {background-color: #d4ebff;}#sk-container-id-5 div.sk-label input.sk-toggleable__control:checked~label.sk-toggleable__label {background-color: #d4ebff;}#sk-container-id-5 input.sk-hidden--visually {border: 0;clip: rect(1px 1px 1px 1px);clip: rect(1px, 1px, 1px, 1px);height: 1px;margin: -1px;overflow: hidden;padding: 0;position: absolute;width: 1px;}#sk-container-id-5 div.sk-estimator {font-family: monospace;background-color: #f0f8ff;border: 1px dotted black;border-radius: 0.25em;box-sizing: border-box;margin-bottom: 0.5em;}#sk-container-id-5 div.sk-estimator:hover {background-color: #d4ebff;}#sk-container-id-5 div.sk-parallel-item::after {content: \"\";width: 100%;border-bottom: 1px solid gray;flex-grow: 1;}#sk-container-id-5 div.sk-label:hover label.sk-toggleable__label {background-color: #d4ebff;}#sk-container-id-5 div.sk-serial::before {content: \"\";position: absolute;border-left: 1px solid gray;box-sizing: border-box;top: 0;bottom: 0;left: 50%;z-index: 0;}#sk-container-id-5 div.sk-serial {display: flex;flex-direction: column;align-items: center;background-color: white;padding-right: 0.2em;padding-left: 0.2em;position: relative;}#sk-container-id-5 div.sk-item {position: relative;z-index: 1;}#sk-container-id-5 div.sk-parallel {display: flex;align-items: stretch;justify-content: center;background-color: white;position: relative;}#sk-container-id-5 div.sk-item::before, #sk-container-id-5 div.sk-parallel-item::before {content: \"\";position: absolute;border-left: 1px solid gray;box-sizing: border-box;top: 0;bottom: 0;left: 50%;z-index: -1;}#sk-container-id-5 div.sk-parallel-item {display: flex;flex-direction: column;z-index: 1;position: relative;background-color: white;}#sk-container-id-5 div.sk-parallel-item:first-child::after {align-self: flex-end;width: 50%;}#sk-container-id-5 div.sk-parallel-item:last-child::after {align-self: flex-start;width: 50%;}#sk-container-id-5 div.sk-parallel-item:only-child::after {width: 0;}#sk-container-id-5 div.sk-dashed-wrapped {border: 1px dashed gray;margin: 0 0.4em 0.5em 0.4em;box-sizing: border-box;padding-bottom: 0.4em;background-color: white;}#sk-container-id-5 div.sk-label label {font-family: monospace;font-weight: bold;display: inline-block;line-height: 1.2em;}#sk-container-id-5 div.sk-label-container {text-align: center;}#sk-container-id-5 div.sk-container {/* jupyter's `normalize.less` sets `[hidden] { display: none; }` but bootstrap.min.css set `[hidden] { display: none !important; }` so we also need the `!important` here to be able to override the default hidden behavior on the sphinx rendered scikit-learn.org. See: https://github.com/scikit-learn/scikit-learn/issues/21755 */display: inline-block !important;position: relative;}#sk-container-id-5 div.sk-text-repr-fallback {display: none;}</style><div id=\"sk-container-id-5\" class=\"sk-top-container\"><div class=\"sk-text-repr-fallback\"><pre>RandomForestRegressor(random_state=42)</pre><b>In a Jupyter environment, please rerun this cell to show the HTML representation or trust the notebook. <br />On GitHub, the HTML representation is unable to render, please try loading this page with nbviewer.org.</b></div><div class=\"sk-container\" hidden><div class=\"sk-item\"><div class=\"sk-estimator sk-toggleable\"><input class=\"sk-toggleable__control sk-hidden--visually\" id=\"sk-estimator-id-7\" type=\"checkbox\" checked><label for=\"sk-estimator-id-7\" class=\"sk-toggleable__label sk-toggleable__label-arrow\">RandomForestRegressor</label><div class=\"sk-toggleable__content\"><pre>RandomForestRegressor(random_state=42)</pre></div></div></div></div></div>"
      ],
      "text/plain": [
       "RandomForestRegressor(random_state=42)"
      ]
     },
     "execution_count": 35,
     "metadata": {},
     "output_type": "execute_result"
    }
   ],
   "source": [
    "%%time\n",
    "training_model.fit(X_train, y_train)"
   ]
  },
  {
   "cell_type": "code",
   "execution_count": 36,
   "id": "3e53c36c",
   "metadata": {
    "execution": {
     "iopub.execute_input": "2025-08-07T11:00:27.627417Z",
     "iopub.status.busy": "2025-08-07T11:00:27.627081Z",
     "iopub.status.idle": "2025-08-07T11:00:27.680835Z",
     "shell.execute_reply": "2025-08-07T11:00:27.679809Z"
    },
    "papermill": {
     "duration": 0.080116,
     "end_time": "2025-08-07T11:00:27.682541",
     "exception": false,
     "start_time": "2025-08-07T11:00:27.602425",
     "status": "completed"
    },
    "tags": []
   },
   "outputs": [
    {
     "data": {
      "text/plain": [
       "array([0.    , 0.2811, 0.    , ..., 0.8324, 0.    , 0.    ])"
      ]
     },
     "execution_count": 36,
     "metadata": {},
     "output_type": "execute_result"
    }
   ],
   "source": [
    "y_pred = training_model.predict(X_test)\n",
    "y_pred"
   ]
  },
  {
   "cell_type": "code",
   "execution_count": 37,
   "id": "cab16159",
   "metadata": {
    "execution": {
     "iopub.execute_input": "2025-08-07T11:00:27.730786Z",
     "iopub.status.busy": "2025-08-07T11:00:27.730406Z",
     "iopub.status.idle": "2025-08-07T11:00:27.738019Z",
     "shell.execute_reply": "2025-08-07T11:00:27.737043Z"
    },
    "papermill": {
     "duration": 0.033508,
     "end_time": "2025-08-07T11:00:27.739499",
     "exception": false,
     "start_time": "2025-08-07T11:00:27.705991",
     "status": "completed"
    },
    "tags": []
   },
   "outputs": [
    {
     "data": {
      "text/plain": [
       "5158     0.00\n",
       "3831     0.36\n",
       "5117     0.00\n",
       "6326     2.70\n",
       "11359    0.49\n",
       "         ... \n",
       "10290    0.30\n",
       "13995    0.00\n",
       "9665     0.90\n",
       "2276     0.00\n",
       "4174     0.00\n",
       "Name: SolarEnergy, Length: 2924, dtype: float64"
      ]
     },
     "execution_count": 37,
     "metadata": {},
     "output_type": "execute_result"
    }
   ],
   "source": [
    "y_test"
   ]
  },
  {
   "cell_type": "code",
   "execution_count": 38,
   "id": "47c4c5ee",
   "metadata": {
    "execution": {
     "iopub.execute_input": "2025-08-07T11:00:27.788313Z",
     "iopub.status.busy": "2025-08-07T11:00:27.788016Z",
     "iopub.status.idle": "2025-08-07T11:00:27.795619Z",
     "shell.execute_reply": "2025-08-07T11:00:27.794728Z"
    },
    "papermill": {
     "duration": 0.03411,
     "end_time": "2025-08-07T11:00:27.797239",
     "exception": false,
     "start_time": "2025-08-07T11:00:27.763129",
     "status": "completed"
    },
    "tags": []
   },
   "outputs": [],
   "source": [
    "mse = mean_squared_error(y_test, y_pred)\n",
    "mae = mean_absolute_error(y_test, y_pred)\n",
    "r2 = r2_score(y_test, y_pred)\n",
    "rmse = math.sqrt(mse)"
   ]
  },
  {
   "cell_type": "code",
   "execution_count": 39,
   "id": "5bacb70f",
   "metadata": {
    "execution": {
     "iopub.execute_input": "2025-08-07T11:00:27.848189Z",
     "iopub.status.busy": "2025-08-07T11:00:27.847896Z",
     "iopub.status.idle": "2025-08-07T11:00:27.853197Z",
     "shell.execute_reply": "2025-08-07T11:00:27.852197Z"
    },
    "papermill": {
     "duration": 0.032282,
     "end_time": "2025-08-07T11:00:27.854766",
     "exception": false,
     "start_time": "2025-08-07T11:00:27.822484",
     "status": "completed"
    },
    "tags": []
   },
   "outputs": [
    {
     "name": "stdout",
     "output_type": "stream",
     "text": [
      "MSE Score: 0.002913965701094394\n",
      "MAE Score: 0.03079743502051987\n",
      "R2 Score: 0.9976083604111018\n",
      "RMSE Score: 0.0539811606127026\n"
     ]
    }
   ],
   "source": [
    "print(\"MSE Score:\", mse)\n",
    "print(\"MAE Score:\", mae)\n",
    "print(\"R2 Score:\", r2)\n",
    "print(\"RMSE Score:\", rmse)"
   ]
  },
  {
   "cell_type": "code",
   "execution_count": 40,
   "id": "7e4f2640",
   "metadata": {
    "execution": {
     "iopub.execute_input": "2025-08-07T11:00:27.904155Z",
     "iopub.status.busy": "2025-08-07T11:00:27.903846Z",
     "iopub.status.idle": "2025-08-07T11:00:27.915595Z",
     "shell.execute_reply": "2025-08-07T11:00:27.914529Z"
    },
    "papermill": {
     "duration": 0.03839,
     "end_time": "2025-08-07T11:00:27.917229",
     "exception": false,
     "start_time": "2025-08-07T11:00:27.878839",
     "status": "completed"
    },
    "tags": []
   },
   "outputs": [
    {
     "name": "stdout",
     "output_type": "stream",
     "text": [
      "✨ New regression model added:\n",
      "   MSE: 0.002914, R²: 0.997608\n",
      "   Features: 27\n",
      "💾 Registry updated: Model_Training_History/History_Regression.csv\n"
     ]
    }
   ],
   "source": [
    "regression_params = {\n",
    "    'model_name': model_name_for_saving,\n",
    "    'scaler_name': \"StandardScaler\",\n",
    "    'features_list': feature_columns_for_saving,\n",
    "    'target_column': target_name_for_saving,\n",
    "    'mse': mse,\n",
    "    'mae': mae,\n",
    "    'rmse': rmse,\n",
    "    'r2': r2,\n",
    "    'parameters': json.dumps(training_model.get_params())\n",
    "}\n",
    "save_model_performance_if_better('regression', regression_params)"
   ]
  },
  {
   "cell_type": "markdown",
   "id": "45bb8bc9",
   "metadata": {
    "papermill": {
     "duration": 0.023128,
     "end_time": "2025-08-07T11:00:27.964243",
     "exception": false,
     "start_time": "2025-08-07T11:00:27.941115",
     "status": "completed"
    },
    "tags": []
   },
   "source": [
    "### Tuning with Randomized Grid Search"
   ]
  },
  {
   "cell_type": "code",
   "execution_count": 41,
   "id": "8f974439",
   "metadata": {
    "execution": {
     "iopub.execute_input": "2025-08-07T11:00:28.013606Z",
     "iopub.status.busy": "2025-08-07T11:00:28.013286Z",
     "iopub.status.idle": "2025-08-07T11:00:28.018248Z",
     "shell.execute_reply": "2025-08-07T11:00:28.017320Z"
    },
    "papermill": {
     "duration": 0.032343,
     "end_time": "2025-08-07T11:00:28.019904",
     "exception": false,
     "start_time": "2025-08-07T11:00:27.987561",
     "status": "completed"
    },
    "tags": []
   },
   "outputs": [],
   "source": [
    "grid_search = RandomizedSearchCV(\n",
    "    RandomForestRegressor(random_state=42), \n",
    "    grid_param,\n",
    "    n_iter=number_of_model_for_randomized_grid,\n",
    "    cv=5,\n",
    "    scoring='neg_mean_squared_error',\n",
    "    n_jobs=-1,\n",
    "    verbose=1,\n",
    "    random_state=42\n",
    ")"
   ]
  },
  {
   "cell_type": "code",
   "execution_count": 42,
   "id": "65d31539",
   "metadata": {
    "execution": {
     "iopub.execute_input": "2025-08-07T11:00:28.069383Z",
     "iopub.status.busy": "2025-08-07T11:00:28.069061Z",
     "iopub.status.idle": "2025-08-07T12:06:38.365129Z",
     "shell.execute_reply": "2025-08-07T12:06:38.364354Z"
    },
    "papermill": {
     "duration": 3970.347728,
     "end_time": "2025-08-07T12:06:38.391806",
     "exception": false,
     "start_time": "2025-08-07T11:00:28.044078",
     "status": "completed"
    },
    "tags": []
   },
   "outputs": [
    {
     "name": "stdout",
     "output_type": "stream",
     "text": [
      "Starting hyperparameter tuning...\n",
      "Fitting 5 folds for each of 510 candidates, totalling 2550 fits\n",
      "CPU times: user 41 s, sys: 6.32 s, total: 47.4 s\n",
      "Wall time: 1h 6min 10s\n"
     ]
    },
    {
     "data": {
      "text/html": [
       "<style>#sk-container-id-6 {color: black;background-color: white;}#sk-container-id-6 pre{padding: 0;}#sk-container-id-6 div.sk-toggleable {background-color: white;}#sk-container-id-6 label.sk-toggleable__label {cursor: pointer;display: block;width: 100%;margin-bottom: 0;padding: 0.3em;box-sizing: border-box;text-align: center;}#sk-container-id-6 label.sk-toggleable__label-arrow:before {content: \"▸\";float: left;margin-right: 0.25em;color: #696969;}#sk-container-id-6 label.sk-toggleable__label-arrow:hover:before {color: black;}#sk-container-id-6 div.sk-estimator:hover label.sk-toggleable__label-arrow:before {color: black;}#sk-container-id-6 div.sk-toggleable__content {max-height: 0;max-width: 0;overflow: hidden;text-align: left;background-color: #f0f8ff;}#sk-container-id-6 div.sk-toggleable__content pre {margin: 0.2em;color: black;border-radius: 0.25em;background-color: #f0f8ff;}#sk-container-id-6 input.sk-toggleable__control:checked~div.sk-toggleable__content {max-height: 200px;max-width: 100%;overflow: auto;}#sk-container-id-6 input.sk-toggleable__control:checked~label.sk-toggleable__label-arrow:before {content: \"▾\";}#sk-container-id-6 div.sk-estimator input.sk-toggleable__control:checked~label.sk-toggleable__label {background-color: #d4ebff;}#sk-container-id-6 div.sk-label input.sk-toggleable__control:checked~label.sk-toggleable__label {background-color: #d4ebff;}#sk-container-id-6 input.sk-hidden--visually {border: 0;clip: rect(1px 1px 1px 1px);clip: rect(1px, 1px, 1px, 1px);height: 1px;margin: -1px;overflow: hidden;padding: 0;position: absolute;width: 1px;}#sk-container-id-6 div.sk-estimator {font-family: monospace;background-color: #f0f8ff;border: 1px dotted black;border-radius: 0.25em;box-sizing: border-box;margin-bottom: 0.5em;}#sk-container-id-6 div.sk-estimator:hover {background-color: #d4ebff;}#sk-container-id-6 div.sk-parallel-item::after {content: \"\";width: 100%;border-bottom: 1px solid gray;flex-grow: 1;}#sk-container-id-6 div.sk-label:hover label.sk-toggleable__label {background-color: #d4ebff;}#sk-container-id-6 div.sk-serial::before {content: \"\";position: absolute;border-left: 1px solid gray;box-sizing: border-box;top: 0;bottom: 0;left: 50%;z-index: 0;}#sk-container-id-6 div.sk-serial {display: flex;flex-direction: column;align-items: center;background-color: white;padding-right: 0.2em;padding-left: 0.2em;position: relative;}#sk-container-id-6 div.sk-item {position: relative;z-index: 1;}#sk-container-id-6 div.sk-parallel {display: flex;align-items: stretch;justify-content: center;background-color: white;position: relative;}#sk-container-id-6 div.sk-item::before, #sk-container-id-6 div.sk-parallel-item::before {content: \"\";position: absolute;border-left: 1px solid gray;box-sizing: border-box;top: 0;bottom: 0;left: 50%;z-index: -1;}#sk-container-id-6 div.sk-parallel-item {display: flex;flex-direction: column;z-index: 1;position: relative;background-color: white;}#sk-container-id-6 div.sk-parallel-item:first-child::after {align-self: flex-end;width: 50%;}#sk-container-id-6 div.sk-parallel-item:last-child::after {align-self: flex-start;width: 50%;}#sk-container-id-6 div.sk-parallel-item:only-child::after {width: 0;}#sk-container-id-6 div.sk-dashed-wrapped {border: 1px dashed gray;margin: 0 0.4em 0.5em 0.4em;box-sizing: border-box;padding-bottom: 0.4em;background-color: white;}#sk-container-id-6 div.sk-label label {font-family: monospace;font-weight: bold;display: inline-block;line-height: 1.2em;}#sk-container-id-6 div.sk-label-container {text-align: center;}#sk-container-id-6 div.sk-container {/* jupyter's `normalize.less` sets `[hidden] { display: none; }` but bootstrap.min.css set `[hidden] { display: none !important; }` so we also need the `!important` here to be able to override the default hidden behavior on the sphinx rendered scikit-learn.org. See: https://github.com/scikit-learn/scikit-learn/issues/21755 */display: inline-block !important;position: relative;}#sk-container-id-6 div.sk-text-repr-fallback {display: none;}</style><div id=\"sk-container-id-6\" class=\"sk-top-container\"><div class=\"sk-text-repr-fallback\"><pre>RandomizedSearchCV(cv=5, estimator=RandomForestRegressor(random_state=42),\n",
       "                   n_iter=510, n_jobs=-1,\n",
       "                   param_distributions=[{&#x27;bootstrap&#x27;: [True],\n",
       "                                         &#x27;max_depth&#x27;: [None, 10, 20, 30],\n",
       "                                         &#x27;max_features&#x27;: [&#x27;sqrt&#x27;, &#x27;log2&#x27;, None],\n",
       "                                         &#x27;max_samples&#x27;: [None, 0.8, 0.9],\n",
       "                                         &#x27;min_impurity_decrease&#x27;: [0.0, 0.01,\n",
       "                                                                   0.02],\n",
       "                                         &#x27;min_samples_leaf&#x27;: [1, 2, 4, 6],\n",
       "                                         &#x27;min_samples_split&#x27;: [2, 5, 10, 15,\n",
       "                                                               20],\n",
       "                                         &#x27;n_estimators&#x27;: [100, 200, 300]},\n",
       "                                        {&#x27;bootstrap&#x27;: [False],\n",
       "                                         &#x27;max_depth&#x27;: [None, 10, 20, 30],\n",
       "                                         &#x27;max_features&#x27;: [&#x27;sqrt&#x27;, &#x27;log2&#x27;, None],\n",
       "                                         &#x27;min_impurity_decrease&#x27;: [0.0, 0.01,\n",
       "                                                                   0.02],\n",
       "                                         &#x27;min_samples_leaf&#x27;: [1, 2, 4, 6],\n",
       "                                         &#x27;min_samples_split&#x27;: [2, 5, 10, 15,\n",
       "                                                               20],\n",
       "                                         &#x27;n_estimators&#x27;: [100, 200, 300]}],\n",
       "                   random_state=42, scoring=&#x27;neg_mean_squared_error&#x27;,\n",
       "                   verbose=1)</pre><b>In a Jupyter environment, please rerun this cell to show the HTML representation or trust the notebook. <br />On GitHub, the HTML representation is unable to render, please try loading this page with nbviewer.org.</b></div><div class=\"sk-container\" hidden><div class=\"sk-item sk-dashed-wrapped\"><div class=\"sk-label-container\"><div class=\"sk-label sk-toggleable\"><input class=\"sk-toggleable__control sk-hidden--visually\" id=\"sk-estimator-id-8\" type=\"checkbox\" ><label for=\"sk-estimator-id-8\" class=\"sk-toggleable__label sk-toggleable__label-arrow\">RandomizedSearchCV</label><div class=\"sk-toggleable__content\"><pre>RandomizedSearchCV(cv=5, estimator=RandomForestRegressor(random_state=42),\n",
       "                   n_iter=510, n_jobs=-1,\n",
       "                   param_distributions=[{&#x27;bootstrap&#x27;: [True],\n",
       "                                         &#x27;max_depth&#x27;: [None, 10, 20, 30],\n",
       "                                         &#x27;max_features&#x27;: [&#x27;sqrt&#x27;, &#x27;log2&#x27;, None],\n",
       "                                         &#x27;max_samples&#x27;: [None, 0.8, 0.9],\n",
       "                                         &#x27;min_impurity_decrease&#x27;: [0.0, 0.01,\n",
       "                                                                   0.02],\n",
       "                                         &#x27;min_samples_leaf&#x27;: [1, 2, 4, 6],\n",
       "                                         &#x27;min_samples_split&#x27;: [2, 5, 10, 15,\n",
       "                                                               20],\n",
       "                                         &#x27;n_estimators&#x27;: [100, 200, 300]},\n",
       "                                        {&#x27;bootstrap&#x27;: [False],\n",
       "                                         &#x27;max_depth&#x27;: [None, 10, 20, 30],\n",
       "                                         &#x27;max_features&#x27;: [&#x27;sqrt&#x27;, &#x27;log2&#x27;, None],\n",
       "                                         &#x27;min_impurity_decrease&#x27;: [0.0, 0.01,\n",
       "                                                                   0.02],\n",
       "                                         &#x27;min_samples_leaf&#x27;: [1, 2, 4, 6],\n",
       "                                         &#x27;min_samples_split&#x27;: [2, 5, 10, 15,\n",
       "                                                               20],\n",
       "                                         &#x27;n_estimators&#x27;: [100, 200, 300]}],\n",
       "                   random_state=42, scoring=&#x27;neg_mean_squared_error&#x27;,\n",
       "                   verbose=1)</pre></div></div></div><div class=\"sk-parallel\"><div class=\"sk-parallel-item\"><div class=\"sk-item\"><div class=\"sk-label-container\"><div class=\"sk-label sk-toggleable\"><input class=\"sk-toggleable__control sk-hidden--visually\" id=\"sk-estimator-id-9\" type=\"checkbox\" ><label for=\"sk-estimator-id-9\" class=\"sk-toggleable__label sk-toggleable__label-arrow\">estimator: RandomForestRegressor</label><div class=\"sk-toggleable__content\"><pre>RandomForestRegressor(random_state=42)</pre></div></div></div><div class=\"sk-serial\"><div class=\"sk-item\"><div class=\"sk-estimator sk-toggleable\"><input class=\"sk-toggleable__control sk-hidden--visually\" id=\"sk-estimator-id-10\" type=\"checkbox\" ><label for=\"sk-estimator-id-10\" class=\"sk-toggleable__label sk-toggleable__label-arrow\">RandomForestRegressor</label><div class=\"sk-toggleable__content\"><pre>RandomForestRegressor(random_state=42)</pre></div></div></div></div></div></div></div></div></div></div>"
      ],
      "text/plain": [
       "RandomizedSearchCV(cv=5, estimator=RandomForestRegressor(random_state=42),\n",
       "                   n_iter=510, n_jobs=-1,\n",
       "                   param_distributions=[{'bootstrap': [True],\n",
       "                                         'max_depth': [None, 10, 20, 30],\n",
       "                                         'max_features': ['sqrt', 'log2', None],\n",
       "                                         'max_samples': [None, 0.8, 0.9],\n",
       "                                         'min_impurity_decrease': [0.0, 0.01,\n",
       "                                                                   0.02],\n",
       "                                         'min_samples_leaf': [1, 2, 4, 6],\n",
       "                                         'min_samples_split': [2, 5, 10, 15,\n",
       "                                                               20],\n",
       "                                         'n_estimators': [100, 200, 300]},\n",
       "                                        {'bootstrap': [False],\n",
       "                                         'max_depth': [None, 10, 20, 30],\n",
       "                                         'max_features': ['sqrt', 'log2', None],\n",
       "                                         'min_impurity_decrease': [0.0, 0.01,\n",
       "                                                                   0.02],\n",
       "                                         'min_samples_leaf': [1, 2, 4, 6],\n",
       "                                         'min_samples_split': [2, 5, 10, 15,\n",
       "                                                               20],\n",
       "                                         'n_estimators': [100, 200, 300]}],\n",
       "                   random_state=42, scoring='neg_mean_squared_error',\n",
       "                   verbose=1)"
      ]
     },
     "execution_count": 42,
     "metadata": {},
     "output_type": "execute_result"
    }
   ],
   "source": [
    "%%time\n",
    "print(\"Starting hyperparameter tuning...\")\n",
    "grid_search.fit(X_train, y_train)"
   ]
  },
  {
   "cell_type": "code",
   "execution_count": 43,
   "id": "53380c61",
   "metadata": {
    "execution": {
     "iopub.execute_input": "2025-08-07T12:06:38.445104Z",
     "iopub.status.busy": "2025-08-07T12:06:38.444806Z",
     "iopub.status.idle": "2025-08-07T12:06:38.450621Z",
     "shell.execute_reply": "2025-08-07T12:06:38.449440Z"
    },
    "papermill": {
     "duration": 0.033112,
     "end_time": "2025-08-07T12:06:38.452170",
     "exception": false,
     "start_time": "2025-08-07T12:06:38.419058",
     "status": "completed"
    },
    "tags": []
   },
   "outputs": [
    {
     "name": "stdout",
     "output_type": "stream",
     "text": [
      "TUNING RESULTS\n",
      "==================================================\n",
      "Best Parameters: {'n_estimators': 300, 'min_samples_split': 5, 'min_samples_leaf': 2, 'min_impurity_decrease': 0.0, 'max_samples': 0.8, 'max_features': None, 'max_depth': 20, 'bootstrap': True}\n",
      "Best Cross-Validation Score (Negative MSE): -0.002889182237300602\n",
      "Best Cross-Validation Score (MSE): 0.002889182237300602\n",
      "Best Cross-Validation Score (RMSE): 0.05375111382381394\n"
     ]
    }
   ],
   "source": [
    "print(\"TUNING RESULTS\")\n",
    "print(\"=\"*50)\n",
    "print(\"Best Parameters:\", grid_search.best_params_)\n",
    "print(\"Best Cross-Validation Score (Negative MSE):\", grid_search.best_score_)\n",
    "print(\"Best Cross-Validation Score (MSE):\", -grid_search.best_score_)\n",
    "print(\"Best Cross-Validation Score (RMSE):\", math.sqrt(-grid_search.best_score_))"
   ]
  },
  {
   "cell_type": "code",
   "execution_count": 44,
   "id": "fce6d6d1",
   "metadata": {
    "execution": {
     "iopub.execute_input": "2025-08-07T12:06:38.502091Z",
     "iopub.status.busy": "2025-08-07T12:06:38.501785Z",
     "iopub.status.idle": "2025-08-07T12:06:38.611457Z",
     "shell.execute_reply": "2025-08-07T12:06:38.610456Z"
    },
    "papermill": {
     "duration": 0.13663,
     "end_time": "2025-08-07T12:06:38.613192",
     "exception": false,
     "start_time": "2025-08-07T12:06:38.476562",
     "status": "completed"
    },
    "tags": []
   },
   "outputs": [],
   "source": [
    "grid_search_best_model = grid_search.best_estimator_\n",
    "y_pred = grid_search_best_model.predict(X_test)"
   ]
  },
  {
   "cell_type": "code",
   "execution_count": 45,
   "id": "3b52f773",
   "metadata": {
    "execution": {
     "iopub.execute_input": "2025-08-07T12:06:38.664043Z",
     "iopub.status.busy": "2025-08-07T12:06:38.663680Z",
     "iopub.status.idle": "2025-08-07T12:06:38.671319Z",
     "shell.execute_reply": "2025-08-07T12:06:38.670386Z"
    },
    "papermill": {
     "duration": 0.035781,
     "end_time": "2025-08-07T12:06:38.673057",
     "exception": false,
     "start_time": "2025-08-07T12:06:38.637276",
     "status": "completed"
    },
    "tags": []
   },
   "outputs": [],
   "source": [
    "mse_grid_search = mean_squared_error(y_test, y_pred)\n",
    "mae_grid_search = mean_absolute_error(y_test, y_pred)\n",
    "r2_grid_search = r2_score(y_test, y_pred)\n",
    "rmse_grid_search = math.sqrt(mse_grid_search)"
   ]
  },
  {
   "cell_type": "code",
   "execution_count": 46,
   "id": "1e1aab86",
   "metadata": {
    "execution": {
     "iopub.execute_input": "2025-08-07T12:06:38.722232Z",
     "iopub.status.busy": "2025-08-07T12:06:38.721921Z",
     "iopub.status.idle": "2025-08-07T12:06:38.727343Z",
     "shell.execute_reply": "2025-08-07T12:06:38.726288Z"
    },
    "papermill": {
     "duration": 0.032207,
     "end_time": "2025-08-07T12:06:38.729071",
     "exception": false,
     "start_time": "2025-08-07T12:06:38.696864",
     "status": "completed"
    },
    "tags": []
   },
   "outputs": [
    {
     "name": "stdout",
     "output_type": "stream",
     "text": [
      "MSE Score: 0.002919200627784769\n",
      "MAE Score: 0.030990427811587447\n",
      "R2 Score: 0.997604063840997\n",
      "RMSE Score: 0.05402962731487946\n"
     ]
    }
   ],
   "source": [
    "print(\"MSE Score:\", mse_grid_search)\n",
    "print(\"MAE Score:\", mae_grid_search)\n",
    "print(\"R2 Score:\", r2_grid_search)\n",
    "print(\"RMSE Score:\", rmse_grid_search)"
   ]
  },
  {
   "cell_type": "code",
   "execution_count": 47,
   "id": "f9bd9e40",
   "metadata": {
    "execution": {
     "iopub.execute_input": "2025-08-07T12:06:38.779401Z",
     "iopub.status.busy": "2025-08-07T12:06:38.779097Z",
     "iopub.status.idle": "2025-08-07T12:06:38.793729Z",
     "shell.execute_reply": "2025-08-07T12:06:38.792639Z"
    },
    "papermill": {
     "duration": 0.042204,
     "end_time": "2025-08-07T12:06:38.795303",
     "exception": false,
     "start_time": "2025-08-07T12:06:38.753099",
     "status": "completed"
    },
    "tags": []
   },
   "outputs": [
    {
     "name": "stdout",
     "output_type": "stream",
     "text": [
      "✨ New regression model added:\n",
      "   MSE: 0.002919, R²: 0.997604\n",
      "   Features: 27\n",
      "💾 Registry updated: Model_Training_History/History_Regression.csv\n"
     ]
    }
   ],
   "source": [
    "regression_params = {\n",
    "    'model_name': model_name_for_saving + \" Tuned\",\n",
    "    'scaler_name': \"StandardScaler\",\n",
    "    'features_list': feature_columns_for_saving,\n",
    "    'target_column': target_name_for_saving,\n",
    "    'mse': mse_grid_search,\n",
    "    'mae': mae_grid_search,\n",
    "    'rmse': rmse_grid_search,\n",
    "    'r2': r2_grid_search,\n",
    "    'parameters' : json.dumps({\n",
    "        \"best_params\": grid_search.best_params_,\n",
    "        \"cv_score\": grid_search.best_score_,\n",
    "        \"all_params\": grid_search_best_model.get_params()\n",
    "    })\n",
    "}\n",
    "save_model_performance_if_better('regression', regression_params)"
   ]
  },
  {
   "cell_type": "markdown",
   "id": "b72b8406",
   "metadata": {
    "papermill": {
     "duration": 0.024659,
     "end_time": "2025-08-07T12:06:38.844491",
     "exception": false,
     "start_time": "2025-08-07T12:06:38.819832",
     "status": "completed"
    },
    "tags": []
   },
   "source": [
    "## Robust Scaler"
   ]
  },
  {
   "cell_type": "code",
   "execution_count": 48,
   "id": "2f364164",
   "metadata": {
    "execution": {
     "iopub.execute_input": "2025-08-07T12:06:38.897146Z",
     "iopub.status.busy": "2025-08-07T12:06:38.896223Z",
     "iopub.status.idle": "2025-08-07T12:06:38.931709Z",
     "shell.execute_reply": "2025-08-07T12:06:38.930744Z"
    },
    "papermill": {
     "duration": 0.0633,
     "end_time": "2025-08-07T12:06:38.933297",
     "exception": false,
     "start_time": "2025-08-07T12:06:38.869997",
     "status": "completed"
    },
    "tags": []
   },
   "outputs": [],
   "source": [
    "scaler = RobustScaler()\n",
    "X_train = scaler.fit_transform(X_train_raw)\n",
    "X_test = scaler.transform(X_test_raw)"
   ]
  },
  {
   "cell_type": "code",
   "execution_count": 49,
   "id": "ca131de8",
   "metadata": {
    "execution": {
     "iopub.execute_input": "2025-08-07T12:06:38.984182Z",
     "iopub.status.busy": "2025-08-07T12:06:38.983895Z",
     "iopub.status.idle": "2025-08-07T12:06:38.990494Z",
     "shell.execute_reply": "2025-08-07T12:06:38.989518Z"
    },
    "papermill": {
     "duration": 0.033505,
     "end_time": "2025-08-07T12:06:38.992077",
     "exception": false,
     "start_time": "2025-08-07T12:06:38.958572",
     "status": "completed"
    },
    "tags": []
   },
   "outputs": [
    {
     "data": {
      "text/plain": [
       "array([[ 0.6       ,  0.66666667, -0.16666667, ..., -0.03738547,\n",
       "         1.44008264,  8.87596899],\n",
       "       [ 1.        , -0.46666667,  0.33333333, ..., -0.84268652,\n",
       "         0.62603306,  0.        ],\n",
       "       [-0.8       , -0.13333333, -1.        , ..., -0.84268652,\n",
       "         0.        ,  0.        ],\n",
       "       ...,\n",
       "       [ 0.4       ,  0.73333333, -0.16666667, ...,  0.5899051 ,\n",
       "         0.6322314 ,  0.75193798],\n",
       "       [-1.        , -0.2       ,  0.75      , ..., -0.84268652,\n",
       "         0.        ,  0.        ],\n",
       "       [ 0.6       , -0.46666667, -0.33333333, ...,  0.61755563,\n",
       "         0.59917355,  7.5       ]])"
      ]
     },
     "execution_count": 49,
     "metadata": {},
     "output_type": "execute_result"
    }
   ],
   "source": [
    "X_train"
   ]
  },
  {
   "cell_type": "code",
   "execution_count": 50,
   "id": "8df3f144",
   "metadata": {
    "execution": {
     "iopub.execute_input": "2025-08-07T12:06:39.044271Z",
     "iopub.status.busy": "2025-08-07T12:06:39.043610Z",
     "iopub.status.idle": "2025-08-07T12:06:39.049491Z",
     "shell.execute_reply": "2025-08-07T12:06:39.048763Z"
    },
    "papermill": {
     "duration": 0.033011,
     "end_time": "2025-08-07T12:06:39.050981",
     "exception": false,
     "start_time": "2025-08-07T12:06:39.017970",
     "status": "completed"
    },
    "tags": []
   },
   "outputs": [
    {
     "data": {
      "text/plain": [
       "array([[ 4.00000000e-01, -8.66666667e-01,  8.33333333e-01, ...,\n",
       "         6.20009817e-01,  0.00000000e+00,  0.00000000e+00],\n",
       "       [ 0.00000000e+00, -4.66666667e-01,  2.50000000e-01, ...,\n",
       "         7.40592277e-01,  1.52892562e-01,  0.00000000e+00],\n",
       "       [ 4.00000000e-01, -9.33333333e-01, -5.83333333e-01, ...,\n",
       "         7.82804319e-01,  0.00000000e+00,  0.00000000e+00],\n",
       "       ...,\n",
       "       [-8.00000000e-01, -6.00000000e-01,  4.16666667e-01, ...,\n",
       "        -8.40559555e-01,  4.19421488e-01,  0.00000000e+00],\n",
       "       [-4.00000000e-01, -7.33333333e-01,  6.66666667e-01, ...,\n",
       "        -8.42686518e-01,  0.00000000e+00,  6.67829457e+00],\n",
       "       [ 0.00000000e+00,  4.66666667e-01,  8.33333333e-01, ...,\n",
       "         1.71793194e-03,  0.00000000e+00,  0.00000000e+00]])"
      ]
     },
     "execution_count": 50,
     "metadata": {},
     "output_type": "execute_result"
    }
   ],
   "source": [
    "X_test"
   ]
  },
  {
   "cell_type": "markdown",
   "id": "46aa7ef6",
   "metadata": {
    "papermill": {
     "duration": 0.024307,
     "end_time": "2025-08-07T12:06:39.099655",
     "exception": false,
     "start_time": "2025-08-07T12:06:39.075348",
     "status": "completed"
    },
    "tags": []
   },
   "source": [
    "### Default Parameters"
   ]
  },
  {
   "cell_type": "code",
   "execution_count": 51,
   "id": "c9414d64",
   "metadata": {
    "execution": {
     "iopub.execute_input": "2025-08-07T12:06:39.149755Z",
     "iopub.status.busy": "2025-08-07T12:06:39.149421Z",
     "iopub.status.idle": "2025-08-07T12:06:39.155847Z",
     "shell.execute_reply": "2025-08-07T12:06:39.155039Z"
    },
    "papermill": {
     "duration": 0.032966,
     "end_time": "2025-08-07T12:06:39.157070",
     "exception": false,
     "start_time": "2025-08-07T12:06:39.124104",
     "status": "completed"
    },
    "tags": []
   },
   "outputs": [
    {
     "data": {
      "text/html": [
       "<style>#sk-container-id-7 {color: black;background-color: white;}#sk-container-id-7 pre{padding: 0;}#sk-container-id-7 div.sk-toggleable {background-color: white;}#sk-container-id-7 label.sk-toggleable__label {cursor: pointer;display: block;width: 100%;margin-bottom: 0;padding: 0.3em;box-sizing: border-box;text-align: center;}#sk-container-id-7 label.sk-toggleable__label-arrow:before {content: \"▸\";float: left;margin-right: 0.25em;color: #696969;}#sk-container-id-7 label.sk-toggleable__label-arrow:hover:before {color: black;}#sk-container-id-7 div.sk-estimator:hover label.sk-toggleable__label-arrow:before {color: black;}#sk-container-id-7 div.sk-toggleable__content {max-height: 0;max-width: 0;overflow: hidden;text-align: left;background-color: #f0f8ff;}#sk-container-id-7 div.sk-toggleable__content pre {margin: 0.2em;color: black;border-radius: 0.25em;background-color: #f0f8ff;}#sk-container-id-7 input.sk-toggleable__control:checked~div.sk-toggleable__content {max-height: 200px;max-width: 100%;overflow: auto;}#sk-container-id-7 input.sk-toggleable__control:checked~label.sk-toggleable__label-arrow:before {content: \"▾\";}#sk-container-id-7 div.sk-estimator input.sk-toggleable__control:checked~label.sk-toggleable__label {background-color: #d4ebff;}#sk-container-id-7 div.sk-label input.sk-toggleable__control:checked~label.sk-toggleable__label {background-color: #d4ebff;}#sk-container-id-7 input.sk-hidden--visually {border: 0;clip: rect(1px 1px 1px 1px);clip: rect(1px, 1px, 1px, 1px);height: 1px;margin: -1px;overflow: hidden;padding: 0;position: absolute;width: 1px;}#sk-container-id-7 div.sk-estimator {font-family: monospace;background-color: #f0f8ff;border: 1px dotted black;border-radius: 0.25em;box-sizing: border-box;margin-bottom: 0.5em;}#sk-container-id-7 div.sk-estimator:hover {background-color: #d4ebff;}#sk-container-id-7 div.sk-parallel-item::after {content: \"\";width: 100%;border-bottom: 1px solid gray;flex-grow: 1;}#sk-container-id-7 div.sk-label:hover label.sk-toggleable__label {background-color: #d4ebff;}#sk-container-id-7 div.sk-serial::before {content: \"\";position: absolute;border-left: 1px solid gray;box-sizing: border-box;top: 0;bottom: 0;left: 50%;z-index: 0;}#sk-container-id-7 div.sk-serial {display: flex;flex-direction: column;align-items: center;background-color: white;padding-right: 0.2em;padding-left: 0.2em;position: relative;}#sk-container-id-7 div.sk-item {position: relative;z-index: 1;}#sk-container-id-7 div.sk-parallel {display: flex;align-items: stretch;justify-content: center;background-color: white;position: relative;}#sk-container-id-7 div.sk-item::before, #sk-container-id-7 div.sk-parallel-item::before {content: \"\";position: absolute;border-left: 1px solid gray;box-sizing: border-box;top: 0;bottom: 0;left: 50%;z-index: -1;}#sk-container-id-7 div.sk-parallel-item {display: flex;flex-direction: column;z-index: 1;position: relative;background-color: white;}#sk-container-id-7 div.sk-parallel-item:first-child::after {align-self: flex-end;width: 50%;}#sk-container-id-7 div.sk-parallel-item:last-child::after {align-self: flex-start;width: 50%;}#sk-container-id-7 div.sk-parallel-item:only-child::after {width: 0;}#sk-container-id-7 div.sk-dashed-wrapped {border: 1px dashed gray;margin: 0 0.4em 0.5em 0.4em;box-sizing: border-box;padding-bottom: 0.4em;background-color: white;}#sk-container-id-7 div.sk-label label {font-family: monospace;font-weight: bold;display: inline-block;line-height: 1.2em;}#sk-container-id-7 div.sk-label-container {text-align: center;}#sk-container-id-7 div.sk-container {/* jupyter's `normalize.less` sets `[hidden] { display: none; }` but bootstrap.min.css set `[hidden] { display: none !important; }` so we also need the `!important` here to be able to override the default hidden behavior on the sphinx rendered scikit-learn.org. See: https://github.com/scikit-learn/scikit-learn/issues/21755 */display: inline-block !important;position: relative;}#sk-container-id-7 div.sk-text-repr-fallback {display: none;}</style><div id=\"sk-container-id-7\" class=\"sk-top-container\"><div class=\"sk-text-repr-fallback\"><pre>RandomForestRegressor(random_state=42)</pre><b>In a Jupyter environment, please rerun this cell to show the HTML representation or trust the notebook. <br />On GitHub, the HTML representation is unable to render, please try loading this page with nbviewer.org.</b></div><div class=\"sk-container\" hidden><div class=\"sk-item\"><div class=\"sk-estimator sk-toggleable\"><input class=\"sk-toggleable__control sk-hidden--visually\" id=\"sk-estimator-id-11\" type=\"checkbox\" checked><label for=\"sk-estimator-id-11\" class=\"sk-toggleable__label sk-toggleable__label-arrow\">RandomForestRegressor</label><div class=\"sk-toggleable__content\"><pre>RandomForestRegressor(random_state=42)</pre></div></div></div></div></div>"
      ],
      "text/plain": [
       "RandomForestRegressor(random_state=42)"
      ]
     },
     "execution_count": 51,
     "metadata": {},
     "output_type": "execute_result"
    }
   ],
   "source": [
    "training_model = RandomForestRegressor(random_state=42)\n",
    "training_model"
   ]
  },
  {
   "cell_type": "code",
   "execution_count": 52,
   "id": "5fea18ca",
   "metadata": {
    "execution": {
     "iopub.execute_input": "2025-08-07T12:06:39.208112Z",
     "iopub.status.busy": "2025-08-07T12:06:39.207784Z",
     "iopub.status.idle": "2025-08-07T12:06:48.327160Z",
     "shell.execute_reply": "2025-08-07T12:06:48.326228Z"
    },
    "papermill": {
     "duration": 9.146793,
     "end_time": "2025-08-07T12:06:48.328930",
     "exception": false,
     "start_time": "2025-08-07T12:06:39.182137",
     "status": "completed"
    },
    "tags": []
   },
   "outputs": [
    {
     "name": "stdout",
     "output_type": "stream",
     "text": [
      "CPU times: user 9.11 s, sys: 0 ns, total: 9.11 s\n",
      "Wall time: 9.11 s\n"
     ]
    },
    {
     "data": {
      "text/html": [
       "<style>#sk-container-id-8 {color: black;background-color: white;}#sk-container-id-8 pre{padding: 0;}#sk-container-id-8 div.sk-toggleable {background-color: white;}#sk-container-id-8 label.sk-toggleable__label {cursor: pointer;display: block;width: 100%;margin-bottom: 0;padding: 0.3em;box-sizing: border-box;text-align: center;}#sk-container-id-8 label.sk-toggleable__label-arrow:before {content: \"▸\";float: left;margin-right: 0.25em;color: #696969;}#sk-container-id-8 label.sk-toggleable__label-arrow:hover:before {color: black;}#sk-container-id-8 div.sk-estimator:hover label.sk-toggleable__label-arrow:before {color: black;}#sk-container-id-8 div.sk-toggleable__content {max-height: 0;max-width: 0;overflow: hidden;text-align: left;background-color: #f0f8ff;}#sk-container-id-8 div.sk-toggleable__content pre {margin: 0.2em;color: black;border-radius: 0.25em;background-color: #f0f8ff;}#sk-container-id-8 input.sk-toggleable__control:checked~div.sk-toggleable__content {max-height: 200px;max-width: 100%;overflow: auto;}#sk-container-id-8 input.sk-toggleable__control:checked~label.sk-toggleable__label-arrow:before {content: \"▾\";}#sk-container-id-8 div.sk-estimator input.sk-toggleable__control:checked~label.sk-toggleable__label {background-color: #d4ebff;}#sk-container-id-8 div.sk-label input.sk-toggleable__control:checked~label.sk-toggleable__label {background-color: #d4ebff;}#sk-container-id-8 input.sk-hidden--visually {border: 0;clip: rect(1px 1px 1px 1px);clip: rect(1px, 1px, 1px, 1px);height: 1px;margin: -1px;overflow: hidden;padding: 0;position: absolute;width: 1px;}#sk-container-id-8 div.sk-estimator {font-family: monospace;background-color: #f0f8ff;border: 1px dotted black;border-radius: 0.25em;box-sizing: border-box;margin-bottom: 0.5em;}#sk-container-id-8 div.sk-estimator:hover {background-color: #d4ebff;}#sk-container-id-8 div.sk-parallel-item::after {content: \"\";width: 100%;border-bottom: 1px solid gray;flex-grow: 1;}#sk-container-id-8 div.sk-label:hover label.sk-toggleable__label {background-color: #d4ebff;}#sk-container-id-8 div.sk-serial::before {content: \"\";position: absolute;border-left: 1px solid gray;box-sizing: border-box;top: 0;bottom: 0;left: 50%;z-index: 0;}#sk-container-id-8 div.sk-serial {display: flex;flex-direction: column;align-items: center;background-color: white;padding-right: 0.2em;padding-left: 0.2em;position: relative;}#sk-container-id-8 div.sk-item {position: relative;z-index: 1;}#sk-container-id-8 div.sk-parallel {display: flex;align-items: stretch;justify-content: center;background-color: white;position: relative;}#sk-container-id-8 div.sk-item::before, #sk-container-id-8 div.sk-parallel-item::before {content: \"\";position: absolute;border-left: 1px solid gray;box-sizing: border-box;top: 0;bottom: 0;left: 50%;z-index: -1;}#sk-container-id-8 div.sk-parallel-item {display: flex;flex-direction: column;z-index: 1;position: relative;background-color: white;}#sk-container-id-8 div.sk-parallel-item:first-child::after {align-self: flex-end;width: 50%;}#sk-container-id-8 div.sk-parallel-item:last-child::after {align-self: flex-start;width: 50%;}#sk-container-id-8 div.sk-parallel-item:only-child::after {width: 0;}#sk-container-id-8 div.sk-dashed-wrapped {border: 1px dashed gray;margin: 0 0.4em 0.5em 0.4em;box-sizing: border-box;padding-bottom: 0.4em;background-color: white;}#sk-container-id-8 div.sk-label label {font-family: monospace;font-weight: bold;display: inline-block;line-height: 1.2em;}#sk-container-id-8 div.sk-label-container {text-align: center;}#sk-container-id-8 div.sk-container {/* jupyter's `normalize.less` sets `[hidden] { display: none; }` but bootstrap.min.css set `[hidden] { display: none !important; }` so we also need the `!important` here to be able to override the default hidden behavior on the sphinx rendered scikit-learn.org. See: https://github.com/scikit-learn/scikit-learn/issues/21755 */display: inline-block !important;position: relative;}#sk-container-id-8 div.sk-text-repr-fallback {display: none;}</style><div id=\"sk-container-id-8\" class=\"sk-top-container\"><div class=\"sk-text-repr-fallback\"><pre>RandomForestRegressor(random_state=42)</pre><b>In a Jupyter environment, please rerun this cell to show the HTML representation or trust the notebook. <br />On GitHub, the HTML representation is unable to render, please try loading this page with nbviewer.org.</b></div><div class=\"sk-container\" hidden><div class=\"sk-item\"><div class=\"sk-estimator sk-toggleable\"><input class=\"sk-toggleable__control sk-hidden--visually\" id=\"sk-estimator-id-12\" type=\"checkbox\" checked><label for=\"sk-estimator-id-12\" class=\"sk-toggleable__label sk-toggleable__label-arrow\">RandomForestRegressor</label><div class=\"sk-toggleable__content\"><pre>RandomForestRegressor(random_state=42)</pre></div></div></div></div></div>"
      ],
      "text/plain": [
       "RandomForestRegressor(random_state=42)"
      ]
     },
     "execution_count": 52,
     "metadata": {},
     "output_type": "execute_result"
    }
   ],
   "source": [
    "%%time\n",
    "training_model.fit(X_train, y_train)"
   ]
  },
  {
   "cell_type": "code",
   "execution_count": 53,
   "id": "895d8f6f",
   "metadata": {
    "execution": {
     "iopub.execute_input": "2025-08-07T12:06:48.380372Z",
     "iopub.status.busy": "2025-08-07T12:06:48.380098Z",
     "iopub.status.idle": "2025-08-07T12:06:48.434554Z",
     "shell.execute_reply": "2025-08-07T12:06:48.433626Z"
    },
    "papermill": {
     "duration": 0.081766,
     "end_time": "2025-08-07T12:06:48.435991",
     "exception": false,
     "start_time": "2025-08-07T12:06:48.354225",
     "status": "completed"
    },
    "tags": []
   },
   "outputs": [
    {
     "data": {
      "text/plain": [
       "array([0.    , 0.2811, 0.    , ..., 0.8324, 0.    , 0.    ])"
      ]
     },
     "execution_count": 53,
     "metadata": {},
     "output_type": "execute_result"
    }
   ],
   "source": [
    "y_pred = training_model.predict(X_test)\n",
    "y_pred"
   ]
  },
  {
   "cell_type": "code",
   "execution_count": 54,
   "id": "59d02b0f",
   "metadata": {
    "execution": {
     "iopub.execute_input": "2025-08-07T12:06:48.568936Z",
     "iopub.status.busy": "2025-08-07T12:06:48.568533Z",
     "iopub.status.idle": "2025-08-07T12:06:48.575663Z",
     "shell.execute_reply": "2025-08-07T12:06:48.574759Z"
    },
    "papermill": {
     "duration": 0.116285,
     "end_time": "2025-08-07T12:06:48.577125",
     "exception": false,
     "start_time": "2025-08-07T12:06:48.460840",
     "status": "completed"
    },
    "tags": []
   },
   "outputs": [
    {
     "data": {
      "text/plain": [
       "5158     0.00\n",
       "3831     0.36\n",
       "5117     0.00\n",
       "6326     2.70\n",
       "11359    0.49\n",
       "         ... \n",
       "10290    0.30\n",
       "13995    0.00\n",
       "9665     0.90\n",
       "2276     0.00\n",
       "4174     0.00\n",
       "Name: SolarEnergy, Length: 2924, dtype: float64"
      ]
     },
     "execution_count": 54,
     "metadata": {},
     "output_type": "execute_result"
    }
   ],
   "source": [
    "y_test"
   ]
  },
  {
   "cell_type": "code",
   "execution_count": 55,
   "id": "e688cb1d",
   "metadata": {
    "execution": {
     "iopub.execute_input": "2025-08-07T12:06:48.628365Z",
     "iopub.status.busy": "2025-08-07T12:06:48.628093Z",
     "iopub.status.idle": "2025-08-07T12:06:48.634948Z",
     "shell.execute_reply": "2025-08-07T12:06:48.634177Z"
    },
    "papermill": {
     "duration": 0.034549,
     "end_time": "2025-08-07T12:06:48.636582",
     "exception": false,
     "start_time": "2025-08-07T12:06:48.602033",
     "status": "completed"
    },
    "tags": []
   },
   "outputs": [],
   "source": [
    "mse = mean_squared_error(y_test, y_pred)\n",
    "mae = mean_absolute_error(y_test, y_pred)\n",
    "r2 = r2_score(y_test, y_pred)\n",
    "rmse = math.sqrt(mse)"
   ]
  },
  {
   "cell_type": "code",
   "execution_count": 56,
   "id": "b3b9780f",
   "metadata": {
    "execution": {
     "iopub.execute_input": "2025-08-07T12:06:48.690654Z",
     "iopub.status.busy": "2025-08-07T12:06:48.690376Z",
     "iopub.status.idle": "2025-08-07T12:06:48.695484Z",
     "shell.execute_reply": "2025-08-07T12:06:48.694516Z"
    },
    "papermill": {
     "duration": 0.034966,
     "end_time": "2025-08-07T12:06:48.696963",
     "exception": false,
     "start_time": "2025-08-07T12:06:48.661997",
     "status": "completed"
    },
    "tags": []
   },
   "outputs": [
    {
     "name": "stdout",
     "output_type": "stream",
     "text": [
      "MSE Score: 0.002911725205198361\n",
      "MAE Score: 0.03078009575923396\n",
      "R2 Score: 0.9976101992998305\n",
      "RMSE Score: 0.05396040404962106\n"
     ]
    }
   ],
   "source": [
    "print(\"MSE Score:\", mse)\n",
    "print(\"MAE Score:\", mae)\n",
    "print(\"R2 Score:\", r2)\n",
    "print(\"RMSE Score:\", rmse)"
   ]
  },
  {
   "cell_type": "code",
   "execution_count": 57,
   "id": "9296a63b",
   "metadata": {
    "execution": {
     "iopub.execute_input": "2025-08-07T12:06:48.749401Z",
     "iopub.status.busy": "2025-08-07T12:06:48.749102Z",
     "iopub.status.idle": "2025-08-07T12:06:48.760256Z",
     "shell.execute_reply": "2025-08-07T12:06:48.759112Z"
    },
    "papermill": {
     "duration": 0.039011,
     "end_time": "2025-08-07T12:06:48.761820",
     "exception": false,
     "start_time": "2025-08-07T12:06:48.722809",
     "status": "completed"
    },
    "tags": []
   },
   "outputs": [
    {
     "name": "stdout",
     "output_type": "stream",
     "text": [
      "✨ New regression model added:\n",
      "   MSE: 0.002912, R²: 0.997610\n",
      "   Features: 27\n",
      "💾 Registry updated: Model_Training_History/History_Regression.csv\n"
     ]
    }
   ],
   "source": [
    "regression_params = {\n",
    "    'model_name': model_name_for_saving,\n",
    "    'scaler_name': \"RobustScaler\",\n",
    "    'features_list': feature_columns_for_saving,\n",
    "    'target_column': target_name_for_saving,\n",
    "    'mse': mse,\n",
    "    'mae': mae,\n",
    "    'rmse': rmse,\n",
    "    'r2': r2,\n",
    "    'parameters': json.dumps(training_model.get_params())\n",
    "}\n",
    "save_model_performance_if_better('regression', regression_params)"
   ]
  },
  {
   "cell_type": "markdown",
   "id": "96746e35",
   "metadata": {
    "papermill": {
     "duration": 0.024643,
     "end_time": "2025-08-07T12:06:48.811740",
     "exception": false,
     "start_time": "2025-08-07T12:06:48.787097",
     "status": "completed"
    },
    "tags": []
   },
   "source": [
    "### Tuning with Randomized Grid Search"
   ]
  },
  {
   "cell_type": "code",
   "execution_count": 58,
   "id": "2b2e1b6b",
   "metadata": {
    "execution": {
     "iopub.execute_input": "2025-08-07T12:06:48.862658Z",
     "iopub.status.busy": "2025-08-07T12:06:48.862239Z",
     "iopub.status.idle": "2025-08-07T12:06:48.867196Z",
     "shell.execute_reply": "2025-08-07T12:06:48.866217Z"
    },
    "papermill": {
     "duration": 0.032222,
     "end_time": "2025-08-07T12:06:48.868869",
     "exception": false,
     "start_time": "2025-08-07T12:06:48.836647",
     "status": "completed"
    },
    "tags": []
   },
   "outputs": [],
   "source": [
    "grid_search = RandomizedSearchCV(\n",
    "    RandomForestRegressor(random_state=42), \n",
    "    grid_param,\n",
    "    n_iter=number_of_model_for_randomized_grid,\n",
    "    cv=5,\n",
    "    scoring='neg_mean_squared_error',\n",
    "    n_jobs=-1,\n",
    "    verbose=1,\n",
    "    random_state=42\n",
    ")"
   ]
  },
  {
   "cell_type": "code",
   "execution_count": 59,
   "id": "aaeaf184",
   "metadata": {
    "execution": {
     "iopub.execute_input": "2025-08-07T12:06:48.922764Z",
     "iopub.status.busy": "2025-08-07T12:06:48.921970Z",
     "iopub.status.idle": "2025-08-07T13:13:10.207092Z",
     "shell.execute_reply": "2025-08-07T13:13:10.205965Z"
    },
    "papermill": {
     "duration": 3981.340284,
     "end_time": "2025-08-07T13:13:10.234793",
     "exception": false,
     "start_time": "2025-08-07T12:06:48.894509",
     "status": "completed"
    },
    "tags": []
   },
   "outputs": [
    {
     "name": "stdout",
     "output_type": "stream",
     "text": [
      "Starting hyperparameter tuning...\n",
      "Fitting 5 folds for each of 510 candidates, totalling 2550 fits\n",
      "CPU times: user 36.2 s, sys: 6.3 s, total: 42.5 s\n",
      "Wall time: 1h 6min 21s\n"
     ]
    },
    {
     "data": {
      "text/html": [
       "<style>#sk-container-id-9 {color: black;background-color: white;}#sk-container-id-9 pre{padding: 0;}#sk-container-id-9 div.sk-toggleable {background-color: white;}#sk-container-id-9 label.sk-toggleable__label {cursor: pointer;display: block;width: 100%;margin-bottom: 0;padding: 0.3em;box-sizing: border-box;text-align: center;}#sk-container-id-9 label.sk-toggleable__label-arrow:before {content: \"▸\";float: left;margin-right: 0.25em;color: #696969;}#sk-container-id-9 label.sk-toggleable__label-arrow:hover:before {color: black;}#sk-container-id-9 div.sk-estimator:hover label.sk-toggleable__label-arrow:before {color: black;}#sk-container-id-9 div.sk-toggleable__content {max-height: 0;max-width: 0;overflow: hidden;text-align: left;background-color: #f0f8ff;}#sk-container-id-9 div.sk-toggleable__content pre {margin: 0.2em;color: black;border-radius: 0.25em;background-color: #f0f8ff;}#sk-container-id-9 input.sk-toggleable__control:checked~div.sk-toggleable__content {max-height: 200px;max-width: 100%;overflow: auto;}#sk-container-id-9 input.sk-toggleable__control:checked~label.sk-toggleable__label-arrow:before {content: \"▾\";}#sk-container-id-9 div.sk-estimator input.sk-toggleable__control:checked~label.sk-toggleable__label {background-color: #d4ebff;}#sk-container-id-9 div.sk-label input.sk-toggleable__control:checked~label.sk-toggleable__label {background-color: #d4ebff;}#sk-container-id-9 input.sk-hidden--visually {border: 0;clip: rect(1px 1px 1px 1px);clip: rect(1px, 1px, 1px, 1px);height: 1px;margin: -1px;overflow: hidden;padding: 0;position: absolute;width: 1px;}#sk-container-id-9 div.sk-estimator {font-family: monospace;background-color: #f0f8ff;border: 1px dotted black;border-radius: 0.25em;box-sizing: border-box;margin-bottom: 0.5em;}#sk-container-id-9 div.sk-estimator:hover {background-color: #d4ebff;}#sk-container-id-9 div.sk-parallel-item::after {content: \"\";width: 100%;border-bottom: 1px solid gray;flex-grow: 1;}#sk-container-id-9 div.sk-label:hover label.sk-toggleable__label {background-color: #d4ebff;}#sk-container-id-9 div.sk-serial::before {content: \"\";position: absolute;border-left: 1px solid gray;box-sizing: border-box;top: 0;bottom: 0;left: 50%;z-index: 0;}#sk-container-id-9 div.sk-serial {display: flex;flex-direction: column;align-items: center;background-color: white;padding-right: 0.2em;padding-left: 0.2em;position: relative;}#sk-container-id-9 div.sk-item {position: relative;z-index: 1;}#sk-container-id-9 div.sk-parallel {display: flex;align-items: stretch;justify-content: center;background-color: white;position: relative;}#sk-container-id-9 div.sk-item::before, #sk-container-id-9 div.sk-parallel-item::before {content: \"\";position: absolute;border-left: 1px solid gray;box-sizing: border-box;top: 0;bottom: 0;left: 50%;z-index: -1;}#sk-container-id-9 div.sk-parallel-item {display: flex;flex-direction: column;z-index: 1;position: relative;background-color: white;}#sk-container-id-9 div.sk-parallel-item:first-child::after {align-self: flex-end;width: 50%;}#sk-container-id-9 div.sk-parallel-item:last-child::after {align-self: flex-start;width: 50%;}#sk-container-id-9 div.sk-parallel-item:only-child::after {width: 0;}#sk-container-id-9 div.sk-dashed-wrapped {border: 1px dashed gray;margin: 0 0.4em 0.5em 0.4em;box-sizing: border-box;padding-bottom: 0.4em;background-color: white;}#sk-container-id-9 div.sk-label label {font-family: monospace;font-weight: bold;display: inline-block;line-height: 1.2em;}#sk-container-id-9 div.sk-label-container {text-align: center;}#sk-container-id-9 div.sk-container {/* jupyter's `normalize.less` sets `[hidden] { display: none; }` but bootstrap.min.css set `[hidden] { display: none !important; }` so we also need the `!important` here to be able to override the default hidden behavior on the sphinx rendered scikit-learn.org. See: https://github.com/scikit-learn/scikit-learn/issues/21755 */display: inline-block !important;position: relative;}#sk-container-id-9 div.sk-text-repr-fallback {display: none;}</style><div id=\"sk-container-id-9\" class=\"sk-top-container\"><div class=\"sk-text-repr-fallback\"><pre>RandomizedSearchCV(cv=5, estimator=RandomForestRegressor(random_state=42),\n",
       "                   n_iter=510, n_jobs=-1,\n",
       "                   param_distributions=[{&#x27;bootstrap&#x27;: [True],\n",
       "                                         &#x27;max_depth&#x27;: [None, 10, 20, 30],\n",
       "                                         &#x27;max_features&#x27;: [&#x27;sqrt&#x27;, &#x27;log2&#x27;, None],\n",
       "                                         &#x27;max_samples&#x27;: [None, 0.8, 0.9],\n",
       "                                         &#x27;min_impurity_decrease&#x27;: [0.0, 0.01,\n",
       "                                                                   0.02],\n",
       "                                         &#x27;min_samples_leaf&#x27;: [1, 2, 4, 6],\n",
       "                                         &#x27;min_samples_split&#x27;: [2, 5, 10, 15,\n",
       "                                                               20],\n",
       "                                         &#x27;n_estimators&#x27;: [100, 200, 300]},\n",
       "                                        {&#x27;bootstrap&#x27;: [False],\n",
       "                                         &#x27;max_depth&#x27;: [None, 10, 20, 30],\n",
       "                                         &#x27;max_features&#x27;: [&#x27;sqrt&#x27;, &#x27;log2&#x27;, None],\n",
       "                                         &#x27;min_impurity_decrease&#x27;: [0.0, 0.01,\n",
       "                                                                   0.02],\n",
       "                                         &#x27;min_samples_leaf&#x27;: [1, 2, 4, 6],\n",
       "                                         &#x27;min_samples_split&#x27;: [2, 5, 10, 15,\n",
       "                                                               20],\n",
       "                                         &#x27;n_estimators&#x27;: [100, 200, 300]}],\n",
       "                   random_state=42, scoring=&#x27;neg_mean_squared_error&#x27;,\n",
       "                   verbose=1)</pre><b>In a Jupyter environment, please rerun this cell to show the HTML representation or trust the notebook. <br />On GitHub, the HTML representation is unable to render, please try loading this page with nbviewer.org.</b></div><div class=\"sk-container\" hidden><div class=\"sk-item sk-dashed-wrapped\"><div class=\"sk-label-container\"><div class=\"sk-label sk-toggleable\"><input class=\"sk-toggleable__control sk-hidden--visually\" id=\"sk-estimator-id-13\" type=\"checkbox\" ><label for=\"sk-estimator-id-13\" class=\"sk-toggleable__label sk-toggleable__label-arrow\">RandomizedSearchCV</label><div class=\"sk-toggleable__content\"><pre>RandomizedSearchCV(cv=5, estimator=RandomForestRegressor(random_state=42),\n",
       "                   n_iter=510, n_jobs=-1,\n",
       "                   param_distributions=[{&#x27;bootstrap&#x27;: [True],\n",
       "                                         &#x27;max_depth&#x27;: [None, 10, 20, 30],\n",
       "                                         &#x27;max_features&#x27;: [&#x27;sqrt&#x27;, &#x27;log2&#x27;, None],\n",
       "                                         &#x27;max_samples&#x27;: [None, 0.8, 0.9],\n",
       "                                         &#x27;min_impurity_decrease&#x27;: [0.0, 0.01,\n",
       "                                                                   0.02],\n",
       "                                         &#x27;min_samples_leaf&#x27;: [1, 2, 4, 6],\n",
       "                                         &#x27;min_samples_split&#x27;: [2, 5, 10, 15,\n",
       "                                                               20],\n",
       "                                         &#x27;n_estimators&#x27;: [100, 200, 300]},\n",
       "                                        {&#x27;bootstrap&#x27;: [False],\n",
       "                                         &#x27;max_depth&#x27;: [None, 10, 20, 30],\n",
       "                                         &#x27;max_features&#x27;: [&#x27;sqrt&#x27;, &#x27;log2&#x27;, None],\n",
       "                                         &#x27;min_impurity_decrease&#x27;: [0.0, 0.01,\n",
       "                                                                   0.02],\n",
       "                                         &#x27;min_samples_leaf&#x27;: [1, 2, 4, 6],\n",
       "                                         &#x27;min_samples_split&#x27;: [2, 5, 10, 15,\n",
       "                                                               20],\n",
       "                                         &#x27;n_estimators&#x27;: [100, 200, 300]}],\n",
       "                   random_state=42, scoring=&#x27;neg_mean_squared_error&#x27;,\n",
       "                   verbose=1)</pre></div></div></div><div class=\"sk-parallel\"><div class=\"sk-parallel-item\"><div class=\"sk-item\"><div class=\"sk-label-container\"><div class=\"sk-label sk-toggleable\"><input class=\"sk-toggleable__control sk-hidden--visually\" id=\"sk-estimator-id-14\" type=\"checkbox\" ><label for=\"sk-estimator-id-14\" class=\"sk-toggleable__label sk-toggleable__label-arrow\">estimator: RandomForestRegressor</label><div class=\"sk-toggleable__content\"><pre>RandomForestRegressor(random_state=42)</pre></div></div></div><div class=\"sk-serial\"><div class=\"sk-item\"><div class=\"sk-estimator sk-toggleable\"><input class=\"sk-toggleable__control sk-hidden--visually\" id=\"sk-estimator-id-15\" type=\"checkbox\" ><label for=\"sk-estimator-id-15\" class=\"sk-toggleable__label sk-toggleable__label-arrow\">RandomForestRegressor</label><div class=\"sk-toggleable__content\"><pre>RandomForestRegressor(random_state=42)</pre></div></div></div></div></div></div></div></div></div></div>"
      ],
      "text/plain": [
       "RandomizedSearchCV(cv=5, estimator=RandomForestRegressor(random_state=42),\n",
       "                   n_iter=510, n_jobs=-1,\n",
       "                   param_distributions=[{'bootstrap': [True],\n",
       "                                         'max_depth': [None, 10, 20, 30],\n",
       "                                         'max_features': ['sqrt', 'log2', None],\n",
       "                                         'max_samples': [None, 0.8, 0.9],\n",
       "                                         'min_impurity_decrease': [0.0, 0.01,\n",
       "                                                                   0.02],\n",
       "                                         'min_samples_leaf': [1, 2, 4, 6],\n",
       "                                         'min_samples_split': [2, 5, 10, 15,\n",
       "                                                               20],\n",
       "                                         'n_estimators': [100, 200, 300]},\n",
       "                                        {'bootstrap': [False],\n",
       "                                         'max_depth': [None, 10, 20, 30],\n",
       "                                         'max_features': ['sqrt', 'log2', None],\n",
       "                                         'min_impurity_decrease': [0.0, 0.01,\n",
       "                                                                   0.02],\n",
       "                                         'min_samples_leaf': [1, 2, 4, 6],\n",
       "                                         'min_samples_split': [2, 5, 10, 15,\n",
       "                                                               20],\n",
       "                                         'n_estimators': [100, 200, 300]}],\n",
       "                   random_state=42, scoring='neg_mean_squared_error',\n",
       "                   verbose=1)"
      ]
     },
     "execution_count": 59,
     "metadata": {},
     "output_type": "execute_result"
    }
   ],
   "source": [
    "%%time\n",
    "print(\"Starting hyperparameter tuning...\")\n",
    "grid_search.fit(X_train, y_train)"
   ]
  },
  {
   "cell_type": "code",
   "execution_count": 60,
   "id": "f285e173",
   "metadata": {
    "execution": {
     "iopub.execute_input": "2025-08-07T13:13:10.288230Z",
     "iopub.status.busy": "2025-08-07T13:13:10.287931Z",
     "iopub.status.idle": "2025-08-07T13:13:10.294332Z",
     "shell.execute_reply": "2025-08-07T13:13:10.293310Z"
    },
    "papermill": {
     "duration": 0.035355,
     "end_time": "2025-08-07T13:13:10.295932",
     "exception": false,
     "start_time": "2025-08-07T13:13:10.260577",
     "status": "completed"
    },
    "tags": []
   },
   "outputs": [
    {
     "name": "stdout",
     "output_type": "stream",
     "text": [
      "TUNING RESULTS\n",
      "==================================================\n",
      "Best Parameters: {'n_estimators': 200, 'min_samples_split': 5, 'min_samples_leaf': 1, 'min_impurity_decrease': 0.0, 'max_samples': 0.9, 'max_features': None, 'max_depth': 30, 'bootstrap': True}\n",
      "Best Cross-Validation Score (Negative MSE): -0.002887403701431294\n",
      "Best Cross-Validation Score (MSE): 0.002887403701431294\n",
      "Best Cross-Validation Score (RMSE): 0.05373456710006413\n"
     ]
    }
   ],
   "source": [
    "print(\"TUNING RESULTS\")\n",
    "print(\"=\"*50)\n",
    "print(\"Best Parameters:\", grid_search.best_params_)\n",
    "print(\"Best Cross-Validation Score (Negative MSE):\", grid_search.best_score_)\n",
    "print(\"Best Cross-Validation Score (MSE):\", -grid_search.best_score_)\n",
    "print(\"Best Cross-Validation Score (RMSE):\", math.sqrt(-grid_search.best_score_))"
   ]
  },
  {
   "cell_type": "code",
   "execution_count": 61,
   "id": "bcf0923c",
   "metadata": {
    "execution": {
     "iopub.execute_input": "2025-08-07T13:13:10.350559Z",
     "iopub.status.busy": "2025-08-07T13:13:10.350273Z",
     "iopub.status.idle": "2025-08-07T13:13:10.430844Z",
     "shell.execute_reply": "2025-08-07T13:13:10.430007Z"
    },
    "papermill": {
     "duration": 0.109973,
     "end_time": "2025-08-07T13:13:10.432456",
     "exception": false,
     "start_time": "2025-08-07T13:13:10.322483",
     "status": "completed"
    },
    "tags": []
   },
   "outputs": [],
   "source": [
    "grid_search_best_model = grid_search.best_estimator_\n",
    "y_pred = grid_search_best_model.predict(X_test)"
   ]
  },
  {
   "cell_type": "code",
   "execution_count": 62,
   "id": "b7f1eb72",
   "metadata": {
    "execution": {
     "iopub.execute_input": "2025-08-07T13:13:10.486487Z",
     "iopub.status.busy": "2025-08-07T13:13:10.485812Z",
     "iopub.status.idle": "2025-08-07T13:13:10.493661Z",
     "shell.execute_reply": "2025-08-07T13:13:10.492736Z"
    },
    "papermill": {
     "duration": 0.03698,
     "end_time": "2025-08-07T13:13:10.495090",
     "exception": false,
     "start_time": "2025-08-07T13:13:10.458110",
     "status": "completed"
    },
    "tags": []
   },
   "outputs": [],
   "source": [
    "mse_grid_search = mean_squared_error(y_test, y_pred)\n",
    "mae_grid_search = mean_absolute_error(y_test, y_pred)\n",
    "r2_grid_search = r2_score(y_test, y_pred)\n",
    "rmse_grid_search = math.sqrt(mse_grid_search)"
   ]
  },
  {
   "cell_type": "code",
   "execution_count": 63,
   "id": "f67df92e",
   "metadata": {
    "execution": {
     "iopub.execute_input": "2025-08-07T13:13:10.549444Z",
     "iopub.status.busy": "2025-08-07T13:13:10.548498Z",
     "iopub.status.idle": "2025-08-07T13:13:10.554050Z",
     "shell.execute_reply": "2025-08-07T13:13:10.553175Z"
    },
    "papermill": {
     "duration": 0.033909,
     "end_time": "2025-08-07T13:13:10.555522",
     "exception": false,
     "start_time": "2025-08-07T13:13:10.521613",
     "status": "completed"
    },
    "tags": []
   },
   "outputs": [
    {
     "name": "stdout",
     "output_type": "stream",
     "text": [
      "MSE Score: 0.0029293467920151386\n",
      "MAE Score: 0.03094842105792877\n",
      "R2 Score: 0.9975957363689064\n",
      "RMSE Score: 0.05412344031946915\n"
     ]
    }
   ],
   "source": [
    "print(\"MSE Score:\", mse_grid_search)\n",
    "print(\"MAE Score:\", mae_grid_search)\n",
    "print(\"R2 Score:\", r2_grid_search)\n",
    "print(\"RMSE Score:\", rmse_grid_search)"
   ]
  },
  {
   "cell_type": "code",
   "execution_count": 64,
   "id": "599127c2",
   "metadata": {
    "execution": {
     "iopub.execute_input": "2025-08-07T13:13:10.608858Z",
     "iopub.status.busy": "2025-08-07T13:13:10.608448Z",
     "iopub.status.idle": "2025-08-07T13:13:10.621655Z",
     "shell.execute_reply": "2025-08-07T13:13:10.620668Z"
    },
    "papermill": {
     "duration": 0.04149,
     "end_time": "2025-08-07T13:13:10.623323",
     "exception": false,
     "start_time": "2025-08-07T13:13:10.581833",
     "status": "completed"
    },
    "tags": []
   },
   "outputs": [
    {
     "name": "stdout",
     "output_type": "stream",
     "text": [
      "✨ New regression model added:\n",
      "   MSE: 0.002929, R²: 0.997596\n",
      "   Features: 27\n",
      "💾 Registry updated: Model_Training_History/History_Regression.csv\n"
     ]
    }
   ],
   "source": [
    "regression_params = {\n",
    "    'model_name': model_name_for_saving + \" Tuned\",\n",
    "    'scaler_name': \"RobustScaler\",\n",
    "    'features_list': feature_columns_for_saving,\n",
    "    'target_column': target_name_for_saving,\n",
    "    'mse': mse_grid_search,\n",
    "    'mae': mae_grid_search,\n",
    "    'rmse': rmse_grid_search,\n",
    "    'r2': r2_grid_search,\n",
    "    'parameters' : json.dumps({\n",
    "        \"best_params\": grid_search.best_params_,\n",
    "        \"cv_score\": grid_search.best_score_,\n",
    "        \"all_params\": grid_search_best_model.get_params()\n",
    "    })\n",
    "}\n",
    "save_model_performance_if_better('regression', regression_params)"
   ]
  },
  {
   "cell_type": "markdown",
   "id": "4ffb499c",
   "metadata": {
    "papermill": {
     "duration": 0.025638,
     "end_time": "2025-08-07T13:13:10.674941",
     "exception": false,
     "start_time": "2025-08-07T13:13:10.649303",
     "status": "completed"
    },
    "tags": []
   },
   "source": [
    "# Selected Features"
   ]
  },
  {
   "cell_type": "code",
   "execution_count": 65,
   "id": "8520d877",
   "metadata": {
    "execution": {
     "iopub.execute_input": "2025-08-07T13:13:10.728194Z",
     "iopub.status.busy": "2025-08-07T13:13:10.727839Z",
     "iopub.status.idle": "2025-08-07T13:13:10.787837Z",
     "shell.execute_reply": "2025-08-07T13:13:10.786776Z"
    },
    "papermill": {
     "duration": 0.088909,
     "end_time": "2025-08-07T13:13:10.789506",
     "exception": false,
     "start_time": "2025-08-07T13:13:10.700597",
     "status": "completed"
    },
    "tags": []
   },
   "outputs": [
    {
     "name": "stdout",
     "output_type": "stream",
     "text": [
      "SolarEnergy                  1.000000\n",
      "SolarRadiation               0.999867\n",
      "UVIndex                      0.998178\n",
      "DaySegments_Midday           0.594829\n",
      "Temp                         0.400703\n",
      "FeelsLike                    0.344667\n",
      "DaySegments_Morning          0.243917\n",
      "WindSpeed                    0.216874\n",
      "DaySegments_Afternoon        0.216045\n",
      "WindDir                      0.181173\n",
      "SevereRisk                   0.125741\n",
      "Hour                         0.095805\n",
      "Season_Summer                0.093686\n",
      "Visibility                   0.054855\n",
      "SeaLevelPressure             0.026544\n",
      "Year                         0.022062\n",
      "Dew                          0.014013\n",
      "Day                         -0.001489\n",
      "PrecipProb                  -0.013347\n",
      "Season_Rainy                -0.032901\n",
      "Season_Autumn               -0.035246\n",
      "Season_Winter               -0.035617\n",
      "Precip                      -0.039120\n",
      "CloudCover                  -0.055435\n",
      "Month                       -0.061170\n",
      "Windgust                    -0.100191\n",
      "DaySegments_Early Morning   -0.187977\n",
      "DaySegments_Evening         -0.205810\n",
      "DaySegments_Night           -0.252346\n",
      "DaySegments_Late Night      -0.427175\n",
      "Humidity                    -0.452691\n",
      "Name: SolarEnergy, dtype: float64\n"
     ]
    }
   ],
   "source": [
    "numeric_cols = weather_data.select_dtypes(include=[float, int]).columns\n",
    "correlations = weather_data[numeric_cols].corr()['SolarEnergy'].sort_values(ascending=False)\n",
    "print(correlations)"
   ]
  },
  {
   "cell_type": "code",
   "execution_count": 66,
   "id": "76f92911",
   "metadata": {
    "execution": {
     "iopub.execute_input": "2025-08-07T13:13:10.849339Z",
     "iopub.status.busy": "2025-08-07T13:13:10.849018Z",
     "iopub.status.idle": "2025-08-07T13:13:10.863934Z",
     "shell.execute_reply": "2025-08-07T13:13:10.862959Z"
    },
    "papermill": {
     "duration": 0.046177,
     "end_time": "2025-08-07T13:13:10.865525",
     "exception": false,
     "start_time": "2025-08-07T13:13:10.819348",
     "status": "completed"
    },
    "tags": []
   },
   "outputs": [
    {
     "name": "stdout",
     "output_type": "stream",
     "text": [
      "<class 'pandas.core.frame.DataFrame'>\n",
      "RangeIndex: 14616 entries, 0 to 14615\n",
      "Data columns (total 36 columns):\n",
      " #   Column                     Non-Null Count  Dtype         \n",
      "---  ------                     --------------  -----         \n",
      " 0   DateTime                   14616 non-null  datetime64[ns]\n",
      " 1   Year                       14616 non-null  int64         \n",
      " 2   Month                      14616 non-null  int64         \n",
      " 3   Day                        14616 non-null  int64         \n",
      " 4   Hour                       14616 non-null  int64         \n",
      " 5   DaySegments                14616 non-null  object        \n",
      " 6   DaySegments_Afternoon      14616 non-null  int64         \n",
      " 7   DaySegments_Early Morning  14616 non-null  int64         \n",
      " 8   DaySegments_Evening        14616 non-null  int64         \n",
      " 9   DaySegments_Late Night     14616 non-null  int64         \n",
      " 10  DaySegments_Midday         14616 non-null  int64         \n",
      " 11  DaySegments_Morning        14616 non-null  int64         \n",
      " 12  DaySegments_Night          14616 non-null  int64         \n",
      " 13  Season_Autumn              14616 non-null  int64         \n",
      " 14  Season_Rainy               14616 non-null  int64         \n",
      " 15  Season_Summer              14616 non-null  int64         \n",
      " 16  Season_Winter              14616 non-null  int64         \n",
      " 17  Season                     14616 non-null  object        \n",
      " 18  Temp                       14616 non-null  float64       \n",
      " 19  FeelsLike                  14616 non-null  float64       \n",
      " 20  Dew                        14616 non-null  float64       \n",
      " 21  Humidity                   14616 non-null  float64       \n",
      " 22  Precip                     14616 non-null  float64       \n",
      " 23  PrecipProb                 14616 non-null  float64       \n",
      " 24  Windgust                   14616 non-null  float64       \n",
      " 25  WindSpeed                  14616 non-null  float64       \n",
      " 26  WindDir                    14616 non-null  float64       \n",
      " 27  SeaLevelPressure           14616 non-null  float64       \n",
      " 28  CloudCover                 14616 non-null  float64       \n",
      " 29  UVIndex                    14616 non-null  float64       \n",
      " 30  SevereRisk                 14616 non-null  float64       \n",
      " 31  Visibility                 14616 non-null  float64       \n",
      " 32  SolarRadiation             14616 non-null  float64       \n",
      " 33  SolarEnergy                14616 non-null  float64       \n",
      " 34  Conditions                 14616 non-null  object        \n",
      " 35  Icon                       14616 non-null  object        \n",
      "dtypes: datetime64[ns](1), float64(16), int64(15), object(4)\n",
      "memory usage: 4.0+ MB\n"
     ]
    }
   ],
   "source": [
    "weather_data.info()"
   ]
  },
  {
   "cell_type": "markdown",
   "id": "85e9e7e5",
   "metadata": {
    "papermill": {
     "duration": 0.026986,
     "end_time": "2025-08-07T13:13:10.921465",
     "exception": false,
     "start_time": "2025-08-07T13:13:10.894479",
     "status": "completed"
    },
    "tags": []
   },
   "source": [
    "## Run Again"
   ]
  },
  {
   "cell_type": "code",
   "execution_count": 67,
   "id": "adb8a87d",
   "metadata": {
    "execution": {
     "iopub.execute_input": "2025-08-07T13:13:10.976292Z",
     "iopub.status.busy": "2025-08-07T13:13:10.975946Z",
     "iopub.status.idle": "2025-08-07T13:13:10.984099Z",
     "shell.execute_reply": "2025-08-07T13:13:10.982899Z"
    },
    "papermill": {
     "duration": 0.03798,
     "end_time": "2025-08-07T13:13:10.986088",
     "exception": false,
     "start_time": "2025-08-07T13:13:10.948108",
     "status": "completed"
    },
    "tags": []
   },
   "outputs": [],
   "source": [
    "X_train_raw = weather_data_train.drop(columns=['DateTime', # Model cannot use DateTime as a feature\n",
    "                                                'Year', # No Effect on weather data\n",
    "                                                'Season', # Season is categorical, not numerical\n",
    "                                                'DaySegments', # DaySegments is categorical, not numerical\n",
    "                                                'Visibility',  # Target variable\n",
    "                                                'SolarRadiation', # Target variable\n",
    "                                                'SolarEnergy', # Target variable\n",
    "                                                'Conditions', # Target variable\n",
    "                                                'Icon', # Target variable\n",
    "                                                \n",
    "                                                'Day', # same day from different month act differently\n",
    "                                                'WindDir', # very low correlation with Visibility\n",
    "                                                'Precip']) # very low correlation with Visibility\n",
    "y_train = weather_data_train['SolarEnergy']"
   ]
  },
  {
   "cell_type": "code",
   "execution_count": 68,
   "id": "375122e8",
   "metadata": {
    "execution": {
     "iopub.execute_input": "2025-08-07T13:13:11.045424Z",
     "iopub.status.busy": "2025-08-07T13:13:11.045091Z",
     "iopub.status.idle": "2025-08-07T13:13:11.052835Z",
     "shell.execute_reply": "2025-08-07T13:13:11.051346Z"
    },
    "papermill": {
     "duration": 0.039935,
     "end_time": "2025-08-07T13:13:11.054743",
     "exception": false,
     "start_time": "2025-08-07T13:13:11.014808",
     "status": "completed"
    },
    "tags": []
   },
   "outputs": [],
   "source": [
    "X_test_raw = weather_data_test.drop(columns=['DateTime', # Model cannot use DateTime as a feature\n",
    "                                                'Year', # No Effect on weather data\n",
    "                                                'Season', # Season is categorical, not numerical\n",
    "                                                'DaySegments', # DaySegments is categorical, not numerical\n",
    "                                                'Visibility',  # Target variable\n",
    "                                                'SolarRadiation', # Target variable\n",
    "                                                'SolarEnergy', # Target variable\n",
    "                                                'Conditions', # Target variable\n",
    "                                                'Icon', # Target variable\n",
    "                                                \n",
    "                                                'Day', # same day from different month act differently\n",
    "                                                'WindDir', # very low correlation with Visibility\n",
    "                                                'Precip']) # very low correlation with Visibility\n",
    "y_test = weather_data_test['SolarEnergy']"
   ]
  },
  {
   "cell_type": "code",
   "execution_count": 69,
   "id": "04c378d7",
   "metadata": {
    "execution": {
     "iopub.execute_input": "2025-08-07T13:13:11.116084Z",
     "iopub.status.busy": "2025-08-07T13:13:11.115759Z",
     "iopub.status.idle": "2025-08-07T13:13:11.120621Z",
     "shell.execute_reply": "2025-08-07T13:13:11.119676Z"
    },
    "papermill": {
     "duration": 0.036994,
     "end_time": "2025-08-07T13:13:11.122346",
     "exception": false,
     "start_time": "2025-08-07T13:13:11.085352",
     "status": "completed"
    },
    "tags": []
   },
   "outputs": [],
   "source": [
    "feature_columns = [col for col in X_train_raw.columns]\n",
    "feature_columns_for_saving = ','.join(feature_columns)"
   ]
  },
  {
   "cell_type": "code",
   "execution_count": 70,
   "id": "129bd796",
   "metadata": {
    "execution": {
     "iopub.execute_input": "2025-08-07T13:13:11.177979Z",
     "iopub.status.busy": "2025-08-07T13:13:11.177541Z",
     "iopub.status.idle": "2025-08-07T13:13:11.183183Z",
     "shell.execute_reply": "2025-08-07T13:13:11.182258Z"
    },
    "papermill": {
     "duration": 0.034472,
     "end_time": "2025-08-07T13:13:11.184616",
     "exception": false,
     "start_time": "2025-08-07T13:13:11.150144",
     "status": "completed"
    },
    "tags": []
   },
   "outputs": [
    {
     "name": "stdout",
     "output_type": "stream",
     "text": [
      "X_train:  11692\n",
      "y_train:  11692\n",
      "\n",
      "X_test:  2924\n",
      "y_test:  2924\n"
     ]
    }
   ],
   "source": [
    "print(\"X_train: \", len(X_train_raw))\n",
    "print(\"y_train: \", len(y_train))\n",
    "print(\"\\nX_test: \", len(X_test_raw))\n",
    "print(\"y_test: \", len(y_test))"
   ]
  },
  {
   "cell_type": "markdown",
   "id": "d50706ee",
   "metadata": {
    "papermill": {
     "duration": 0.026501,
     "end_time": "2025-08-07T13:13:11.237927",
     "exception": false,
     "start_time": "2025-08-07T13:13:11.211426",
     "status": "completed"
    },
    "tags": []
   },
   "source": [
    "### MinMax Scaler"
   ]
  },
  {
   "cell_type": "code",
   "execution_count": 71,
   "id": "ed291232",
   "metadata": {
    "execution": {
     "iopub.execute_input": "2025-08-07T13:13:11.292443Z",
     "iopub.status.busy": "2025-08-07T13:13:11.291602Z",
     "iopub.status.idle": "2025-08-07T13:13:11.305789Z",
     "shell.execute_reply": "2025-08-07T13:13:11.304911Z"
    },
    "papermill": {
     "duration": 0.043235,
     "end_time": "2025-08-07T13:13:11.307487",
     "exception": false,
     "start_time": "2025-08-07T13:13:11.264252",
     "status": "completed"
    },
    "tags": []
   },
   "outputs": [],
   "source": [
    "scaler = MinMaxScaler()\n",
    "X_train = scaler.fit_transform(X_train_raw)\n",
    "X_test = scaler.transform(X_test_raw)"
   ]
  },
  {
   "cell_type": "code",
   "execution_count": 72,
   "id": "fd6bf566",
   "metadata": {
    "execution": {
     "iopub.execute_input": "2025-08-07T13:13:11.363549Z",
     "iopub.status.busy": "2025-08-07T13:13:11.363216Z",
     "iopub.status.idle": "2025-08-07T13:13:11.369826Z",
     "shell.execute_reply": "2025-08-07T13:13:11.368869Z"
    },
    "papermill": {
     "duration": 0.036207,
     "end_time": "2025-08-07T13:13:11.371342",
     "exception": false,
     "start_time": "2025-08-07T13:13:11.335135",
     "status": "completed"
    },
    "tags": []
   },
   "outputs": [
    {
     "data": {
      "text/plain": [
       "array([[0.72727273, 0.43478261, 0.        , ..., 0.4922    , 0.697     ,\n",
       "        0.31560059],\n",
       "       [0.90909091, 0.69565217, 1.        , ..., 0.        , 0.303     ,\n",
       "        0.07388643],\n",
       "       [0.09090909, 0.        , 0.        , ..., 0.        , 0.        ,\n",
       "        0.07388643],\n",
       "       ...,\n",
       "       [0.63636364, 0.43478261, 0.        , ..., 0.8756    , 0.306     ,\n",
       "        0.09436352],\n",
       "       [0.        , 0.91304348, 0.        , ..., 0.        , 0.        ,\n",
       "        0.07388643],\n",
       "       [0.72727273, 0.34782609, 0.        , ..., 0.8925    , 0.29      ,\n",
       "        0.27812962]])"
      ]
     },
     "execution_count": 72,
     "metadata": {},
     "output_type": "execute_result"
    }
   ],
   "source": [
    "X_train"
   ]
  },
  {
   "cell_type": "code",
   "execution_count": 73,
   "id": "09ac6ccb",
   "metadata": {
    "execution": {
     "iopub.execute_input": "2025-08-07T13:13:11.426651Z",
     "iopub.status.busy": "2025-08-07T13:13:11.426236Z",
     "iopub.status.idle": "2025-08-07T13:13:11.433057Z",
     "shell.execute_reply": "2025-08-07T13:13:11.432133Z"
    },
    "papermill": {
     "duration": 0.036391,
     "end_time": "2025-08-07T13:13:11.434640",
     "exception": false,
     "start_time": "2025-08-07T13:13:11.398249",
     "status": "completed"
    },
    "tags": []
   },
   "outputs": [
    {
     "data": {
      "text/plain": [
       "array([[0.63636364, 0.95652174, 0.        , ..., 0.894     , 0.        ,\n",
       "        0.07388643],\n",
       "       [0.45454545, 0.65217391, 1.        , ..., 0.9677    , 0.074     ,\n",
       "        0.07388643],\n",
       "       [0.63636364, 0.2173913 , 0.        , ..., 0.9935    , 0.        ,\n",
       "        0.07388643],\n",
       "       ...,\n",
       "       [0.09090909, 0.73913043, 1.        , ..., 0.0013    , 0.203     ,\n",
       "        0.07388643],\n",
       "       [0.27272727, 0.86956522, 0.        , ..., 0.        , 0.        ,\n",
       "        0.25575259],\n",
       "       [0.45454545, 0.95652174, 0.        , ..., 0.5161    , 0.        ,\n",
       "        0.07388643]])"
      ]
     },
     "execution_count": 73,
     "metadata": {},
     "output_type": "execute_result"
    }
   ],
   "source": [
    "X_test"
   ]
  },
  {
   "cell_type": "markdown",
   "id": "8d3578ee",
   "metadata": {
    "papermill": {
     "duration": 0.026227,
     "end_time": "2025-08-07T13:13:11.488219",
     "exception": false,
     "start_time": "2025-08-07T13:13:11.461992",
     "status": "completed"
    },
    "tags": []
   },
   "source": [
    "#### Default Parameters"
   ]
  },
  {
   "cell_type": "code",
   "execution_count": 74,
   "id": "a2c4a88c",
   "metadata": {
    "execution": {
     "iopub.execute_input": "2025-08-07T13:13:11.543770Z",
     "iopub.status.busy": "2025-08-07T13:13:11.543384Z",
     "iopub.status.idle": "2025-08-07T13:13:11.549859Z",
     "shell.execute_reply": "2025-08-07T13:13:11.548995Z"
    },
    "papermill": {
     "duration": 0.036384,
     "end_time": "2025-08-07T13:13:11.551194",
     "exception": false,
     "start_time": "2025-08-07T13:13:11.514810",
     "status": "completed"
    },
    "tags": []
   },
   "outputs": [
    {
     "data": {
      "text/html": [
       "<style>#sk-container-id-10 {color: black;background-color: white;}#sk-container-id-10 pre{padding: 0;}#sk-container-id-10 div.sk-toggleable {background-color: white;}#sk-container-id-10 label.sk-toggleable__label {cursor: pointer;display: block;width: 100%;margin-bottom: 0;padding: 0.3em;box-sizing: border-box;text-align: center;}#sk-container-id-10 label.sk-toggleable__label-arrow:before {content: \"▸\";float: left;margin-right: 0.25em;color: #696969;}#sk-container-id-10 label.sk-toggleable__label-arrow:hover:before {color: black;}#sk-container-id-10 div.sk-estimator:hover label.sk-toggleable__label-arrow:before {color: black;}#sk-container-id-10 div.sk-toggleable__content {max-height: 0;max-width: 0;overflow: hidden;text-align: left;background-color: #f0f8ff;}#sk-container-id-10 div.sk-toggleable__content pre {margin: 0.2em;color: black;border-radius: 0.25em;background-color: #f0f8ff;}#sk-container-id-10 input.sk-toggleable__control:checked~div.sk-toggleable__content {max-height: 200px;max-width: 100%;overflow: auto;}#sk-container-id-10 input.sk-toggleable__control:checked~label.sk-toggleable__label-arrow:before {content: \"▾\";}#sk-container-id-10 div.sk-estimator input.sk-toggleable__control:checked~label.sk-toggleable__label {background-color: #d4ebff;}#sk-container-id-10 div.sk-label input.sk-toggleable__control:checked~label.sk-toggleable__label {background-color: #d4ebff;}#sk-container-id-10 input.sk-hidden--visually {border: 0;clip: rect(1px 1px 1px 1px);clip: rect(1px, 1px, 1px, 1px);height: 1px;margin: -1px;overflow: hidden;padding: 0;position: absolute;width: 1px;}#sk-container-id-10 div.sk-estimator {font-family: monospace;background-color: #f0f8ff;border: 1px dotted black;border-radius: 0.25em;box-sizing: border-box;margin-bottom: 0.5em;}#sk-container-id-10 div.sk-estimator:hover {background-color: #d4ebff;}#sk-container-id-10 div.sk-parallel-item::after {content: \"\";width: 100%;border-bottom: 1px solid gray;flex-grow: 1;}#sk-container-id-10 div.sk-label:hover label.sk-toggleable__label {background-color: #d4ebff;}#sk-container-id-10 div.sk-serial::before {content: \"\";position: absolute;border-left: 1px solid gray;box-sizing: border-box;top: 0;bottom: 0;left: 50%;z-index: 0;}#sk-container-id-10 div.sk-serial {display: flex;flex-direction: column;align-items: center;background-color: white;padding-right: 0.2em;padding-left: 0.2em;position: relative;}#sk-container-id-10 div.sk-item {position: relative;z-index: 1;}#sk-container-id-10 div.sk-parallel {display: flex;align-items: stretch;justify-content: center;background-color: white;position: relative;}#sk-container-id-10 div.sk-item::before, #sk-container-id-10 div.sk-parallel-item::before {content: \"\";position: absolute;border-left: 1px solid gray;box-sizing: border-box;top: 0;bottom: 0;left: 50%;z-index: -1;}#sk-container-id-10 div.sk-parallel-item {display: flex;flex-direction: column;z-index: 1;position: relative;background-color: white;}#sk-container-id-10 div.sk-parallel-item:first-child::after {align-self: flex-end;width: 50%;}#sk-container-id-10 div.sk-parallel-item:last-child::after {align-self: flex-start;width: 50%;}#sk-container-id-10 div.sk-parallel-item:only-child::after {width: 0;}#sk-container-id-10 div.sk-dashed-wrapped {border: 1px dashed gray;margin: 0 0.4em 0.5em 0.4em;box-sizing: border-box;padding-bottom: 0.4em;background-color: white;}#sk-container-id-10 div.sk-label label {font-family: monospace;font-weight: bold;display: inline-block;line-height: 1.2em;}#sk-container-id-10 div.sk-label-container {text-align: center;}#sk-container-id-10 div.sk-container {/* jupyter's `normalize.less` sets `[hidden] { display: none; }` but bootstrap.min.css set `[hidden] { display: none !important; }` so we also need the `!important` here to be able to override the default hidden behavior on the sphinx rendered scikit-learn.org. See: https://github.com/scikit-learn/scikit-learn/issues/21755 */display: inline-block !important;position: relative;}#sk-container-id-10 div.sk-text-repr-fallback {display: none;}</style><div id=\"sk-container-id-10\" class=\"sk-top-container\"><div class=\"sk-text-repr-fallback\"><pre>RandomForestRegressor(random_state=42)</pre><b>In a Jupyter environment, please rerun this cell to show the HTML representation or trust the notebook. <br />On GitHub, the HTML representation is unable to render, please try loading this page with nbviewer.org.</b></div><div class=\"sk-container\" hidden><div class=\"sk-item\"><div class=\"sk-estimator sk-toggleable\"><input class=\"sk-toggleable__control sk-hidden--visually\" id=\"sk-estimator-id-16\" type=\"checkbox\" checked><label for=\"sk-estimator-id-16\" class=\"sk-toggleable__label sk-toggleable__label-arrow\">RandomForestRegressor</label><div class=\"sk-toggleable__content\"><pre>RandomForestRegressor(random_state=42)</pre></div></div></div></div></div>"
      ],
      "text/plain": [
       "RandomForestRegressor(random_state=42)"
      ]
     },
     "execution_count": 74,
     "metadata": {},
     "output_type": "execute_result"
    }
   ],
   "source": [
    "training_model = RandomForestRegressor(random_state=42)\n",
    "training_model"
   ]
  },
  {
   "cell_type": "code",
   "execution_count": 75,
   "id": "c73e3dff",
   "metadata": {
    "execution": {
     "iopub.execute_input": "2025-08-07T13:13:11.606602Z",
     "iopub.status.busy": "2025-08-07T13:13:11.606270Z",
     "iopub.status.idle": "2025-08-07T13:13:19.334359Z",
     "shell.execute_reply": "2025-08-07T13:13:19.333204Z"
    },
    "papermill": {
     "duration": 7.757673,
     "end_time": "2025-08-07T13:13:19.336001",
     "exception": false,
     "start_time": "2025-08-07T13:13:11.578328",
     "status": "completed"
    },
    "tags": []
   },
   "outputs": [
    {
     "name": "stdout",
     "output_type": "stream",
     "text": [
      "CPU times: user 7.72 s, sys: 0 ns, total: 7.72 s\n",
      "Wall time: 7.72 s\n"
     ]
    },
    {
     "data": {
      "text/html": [
       "<style>#sk-container-id-11 {color: black;background-color: white;}#sk-container-id-11 pre{padding: 0;}#sk-container-id-11 div.sk-toggleable {background-color: white;}#sk-container-id-11 label.sk-toggleable__label {cursor: pointer;display: block;width: 100%;margin-bottom: 0;padding: 0.3em;box-sizing: border-box;text-align: center;}#sk-container-id-11 label.sk-toggleable__label-arrow:before {content: \"▸\";float: left;margin-right: 0.25em;color: #696969;}#sk-container-id-11 label.sk-toggleable__label-arrow:hover:before {color: black;}#sk-container-id-11 div.sk-estimator:hover label.sk-toggleable__label-arrow:before {color: black;}#sk-container-id-11 div.sk-toggleable__content {max-height: 0;max-width: 0;overflow: hidden;text-align: left;background-color: #f0f8ff;}#sk-container-id-11 div.sk-toggleable__content pre {margin: 0.2em;color: black;border-radius: 0.25em;background-color: #f0f8ff;}#sk-container-id-11 input.sk-toggleable__control:checked~div.sk-toggleable__content {max-height: 200px;max-width: 100%;overflow: auto;}#sk-container-id-11 input.sk-toggleable__control:checked~label.sk-toggleable__label-arrow:before {content: \"▾\";}#sk-container-id-11 div.sk-estimator input.sk-toggleable__control:checked~label.sk-toggleable__label {background-color: #d4ebff;}#sk-container-id-11 div.sk-label input.sk-toggleable__control:checked~label.sk-toggleable__label {background-color: #d4ebff;}#sk-container-id-11 input.sk-hidden--visually {border: 0;clip: rect(1px 1px 1px 1px);clip: rect(1px, 1px, 1px, 1px);height: 1px;margin: -1px;overflow: hidden;padding: 0;position: absolute;width: 1px;}#sk-container-id-11 div.sk-estimator {font-family: monospace;background-color: #f0f8ff;border: 1px dotted black;border-radius: 0.25em;box-sizing: border-box;margin-bottom: 0.5em;}#sk-container-id-11 div.sk-estimator:hover {background-color: #d4ebff;}#sk-container-id-11 div.sk-parallel-item::after {content: \"\";width: 100%;border-bottom: 1px solid gray;flex-grow: 1;}#sk-container-id-11 div.sk-label:hover label.sk-toggleable__label {background-color: #d4ebff;}#sk-container-id-11 div.sk-serial::before {content: \"\";position: absolute;border-left: 1px solid gray;box-sizing: border-box;top: 0;bottom: 0;left: 50%;z-index: 0;}#sk-container-id-11 div.sk-serial {display: flex;flex-direction: column;align-items: center;background-color: white;padding-right: 0.2em;padding-left: 0.2em;position: relative;}#sk-container-id-11 div.sk-item {position: relative;z-index: 1;}#sk-container-id-11 div.sk-parallel {display: flex;align-items: stretch;justify-content: center;background-color: white;position: relative;}#sk-container-id-11 div.sk-item::before, #sk-container-id-11 div.sk-parallel-item::before {content: \"\";position: absolute;border-left: 1px solid gray;box-sizing: border-box;top: 0;bottom: 0;left: 50%;z-index: -1;}#sk-container-id-11 div.sk-parallel-item {display: flex;flex-direction: column;z-index: 1;position: relative;background-color: white;}#sk-container-id-11 div.sk-parallel-item:first-child::after {align-self: flex-end;width: 50%;}#sk-container-id-11 div.sk-parallel-item:last-child::after {align-self: flex-start;width: 50%;}#sk-container-id-11 div.sk-parallel-item:only-child::after {width: 0;}#sk-container-id-11 div.sk-dashed-wrapped {border: 1px dashed gray;margin: 0 0.4em 0.5em 0.4em;box-sizing: border-box;padding-bottom: 0.4em;background-color: white;}#sk-container-id-11 div.sk-label label {font-family: monospace;font-weight: bold;display: inline-block;line-height: 1.2em;}#sk-container-id-11 div.sk-label-container {text-align: center;}#sk-container-id-11 div.sk-container {/* jupyter's `normalize.less` sets `[hidden] { display: none; }` but bootstrap.min.css set `[hidden] { display: none !important; }` so we also need the `!important` here to be able to override the default hidden behavior on the sphinx rendered scikit-learn.org. See: https://github.com/scikit-learn/scikit-learn/issues/21755 */display: inline-block !important;position: relative;}#sk-container-id-11 div.sk-text-repr-fallback {display: none;}</style><div id=\"sk-container-id-11\" class=\"sk-top-container\"><div class=\"sk-text-repr-fallback\"><pre>RandomForestRegressor(random_state=42)</pre><b>In a Jupyter environment, please rerun this cell to show the HTML representation or trust the notebook. <br />On GitHub, the HTML representation is unable to render, please try loading this page with nbviewer.org.</b></div><div class=\"sk-container\" hidden><div class=\"sk-item\"><div class=\"sk-estimator sk-toggleable\"><input class=\"sk-toggleable__control sk-hidden--visually\" id=\"sk-estimator-id-17\" type=\"checkbox\" checked><label for=\"sk-estimator-id-17\" class=\"sk-toggleable__label sk-toggleable__label-arrow\">RandomForestRegressor</label><div class=\"sk-toggleable__content\"><pre>RandomForestRegressor(random_state=42)</pre></div></div></div></div></div>"
      ],
      "text/plain": [
       "RandomForestRegressor(random_state=42)"
      ]
     },
     "execution_count": 75,
     "metadata": {},
     "output_type": "execute_result"
    }
   ],
   "source": [
    "%%time\n",
    "training_model.fit(X_train, y_train)"
   ]
  },
  {
   "cell_type": "code",
   "execution_count": 76,
   "id": "db66495a",
   "metadata": {
    "execution": {
     "iopub.execute_input": "2025-08-07T13:13:19.391158Z",
     "iopub.status.busy": "2025-08-07T13:13:19.390853Z",
     "iopub.status.idle": "2025-08-07T13:13:19.447105Z",
     "shell.execute_reply": "2025-08-07T13:13:19.446005Z"
    },
    "papermill": {
     "duration": 0.085933,
     "end_time": "2025-08-07T13:13:19.449149",
     "exception": false,
     "start_time": "2025-08-07T13:13:19.363216",
     "status": "completed"
    },
    "tags": []
   },
   "outputs": [
    {
     "data": {
      "text/plain": [
       "array([0.    , 0.267 , 0.    , ..., 0.8214, 0.    , 0.    ])"
      ]
     },
     "execution_count": 76,
     "metadata": {},
     "output_type": "execute_result"
    }
   ],
   "source": [
    "y_pred = training_model.predict(X_test)\n",
    "y_pred"
   ]
  },
  {
   "cell_type": "code",
   "execution_count": 77,
   "id": "1682e4a5",
   "metadata": {
    "execution": {
     "iopub.execute_input": "2025-08-07T13:13:19.532420Z",
     "iopub.status.busy": "2025-08-07T13:13:19.532095Z",
     "iopub.status.idle": "2025-08-07T13:13:19.539641Z",
     "shell.execute_reply": "2025-08-07T13:13:19.538633Z"
    },
    "papermill": {
     "duration": 0.050716,
     "end_time": "2025-08-07T13:13:19.541039",
     "exception": false,
     "start_time": "2025-08-07T13:13:19.490323",
     "status": "completed"
    },
    "tags": []
   },
   "outputs": [
    {
     "data": {
      "text/plain": [
       "5158     0.00\n",
       "3831     0.36\n",
       "5117     0.00\n",
       "6326     2.70\n",
       "11359    0.49\n",
       "         ... \n",
       "10290    0.30\n",
       "13995    0.00\n",
       "9665     0.90\n",
       "2276     0.00\n",
       "4174     0.00\n",
       "Name: SolarEnergy, Length: 2924, dtype: float64"
      ]
     },
     "execution_count": 77,
     "metadata": {},
     "output_type": "execute_result"
    }
   ],
   "source": [
    "y_test"
   ]
  },
  {
   "cell_type": "code",
   "execution_count": 78,
   "id": "caf270d4",
   "metadata": {
    "execution": {
     "iopub.execute_input": "2025-08-07T13:13:19.597418Z",
     "iopub.status.busy": "2025-08-07T13:13:19.597090Z",
     "iopub.status.idle": "2025-08-07T13:13:19.604239Z",
     "shell.execute_reply": "2025-08-07T13:13:19.603295Z"
    },
    "papermill": {
     "duration": 0.037055,
     "end_time": "2025-08-07T13:13:19.605964",
     "exception": false,
     "start_time": "2025-08-07T13:13:19.568909",
     "status": "completed"
    },
    "tags": []
   },
   "outputs": [],
   "source": [
    "mse = mean_squared_error(y_test, y_pred)\n",
    "mae = mean_absolute_error(y_test, y_pred)\n",
    "r2 = r2_score(y_test, y_pred)\n",
    "rmse = math.sqrt(mse)"
   ]
  },
  {
   "cell_type": "code",
   "execution_count": 79,
   "id": "599a7fa0",
   "metadata": {
    "execution": {
     "iopub.execute_input": "2025-08-07T13:13:19.663293Z",
     "iopub.status.busy": "2025-08-07T13:13:19.662968Z",
     "iopub.status.idle": "2025-08-07T13:13:19.668247Z",
     "shell.execute_reply": "2025-08-07T13:13:19.667224Z"
    },
    "papermill": {
     "duration": 0.035441,
     "end_time": "2025-08-07T13:13:19.669941",
     "exception": false,
     "start_time": "2025-08-07T13:13:19.634500",
     "status": "completed"
    },
    "tags": []
   },
   "outputs": [
    {
     "name": "stdout",
     "output_type": "stream",
     "text": [
      "MSE Score: 0.0030255157250342014\n",
      "MAE Score: 0.03142564979480166\n",
      "R2 Score: 0.9975168056432139\n",
      "RMSE Score: 0.05500468820958993\n"
     ]
    }
   ],
   "source": [
    "print(\"MSE Score:\", mse)\n",
    "print(\"MAE Score:\", mae)\n",
    "print(\"R2 Score:\", r2)\n",
    "print(\"RMSE Score:\", rmse)"
   ]
  },
  {
   "cell_type": "code",
   "execution_count": 80,
   "id": "7e22153c",
   "metadata": {
    "execution": {
     "iopub.execute_input": "2025-08-07T13:13:19.726100Z",
     "iopub.status.busy": "2025-08-07T13:13:19.725755Z",
     "iopub.status.idle": "2025-08-07T13:13:19.735386Z",
     "shell.execute_reply": "2025-08-07T13:13:19.734374Z"
    },
    "papermill": {
     "duration": 0.039649,
     "end_time": "2025-08-07T13:13:19.736871",
     "exception": false,
     "start_time": "2025-08-07T13:13:19.697222",
     "status": "completed"
    },
    "tags": []
   },
   "outputs": [
    {
     "name": "stdout",
     "output_type": "stream",
     "text": [
      "❌ Regression model not improved:\n",
      "   Current MSE: 0.003026, Best MSE: 0.002916\n",
      "   Current R²: 0.997517, Best R²: 0.997606\n",
      "   Current Features: 24, Best Features: 27\n"
     ]
    }
   ],
   "source": [
    "regression_params = {\n",
    "    'model_name': model_name_for_saving,\n",
    "    'scaler_name': \"MinMaxScaler\",\n",
    "    'features_list': feature_columns_for_saving,\n",
    "    'target_column': target_name_for_saving,\n",
    "    'mse': mse,\n",
    "    'mae': mae,\n",
    "    'rmse': rmse,\n",
    "    'r2': r2,\n",
    "    'parameters': json.dumps(training_model.get_params())\n",
    "}\n",
    "save_model_performance_if_better('regression', regression_params)"
   ]
  },
  {
   "cell_type": "markdown",
   "id": "6139f88d",
   "metadata": {
    "papermill": {
     "duration": 0.029883,
     "end_time": "2025-08-07T13:13:19.794592",
     "exception": false,
     "start_time": "2025-08-07T13:13:19.764709",
     "status": "completed"
    },
    "tags": []
   },
   "source": [
    "#### Tuning with Randomized Grid Search"
   ]
  },
  {
   "cell_type": "code",
   "execution_count": 81,
   "id": "fb7d8cfe",
   "metadata": {
    "execution": {
     "iopub.execute_input": "2025-08-07T13:13:19.851202Z",
     "iopub.status.busy": "2025-08-07T13:13:19.850902Z",
     "iopub.status.idle": "2025-08-07T13:13:19.855979Z",
     "shell.execute_reply": "2025-08-07T13:13:19.855162Z"
    },
    "papermill": {
     "duration": 0.035075,
     "end_time": "2025-08-07T13:13:19.857413",
     "exception": false,
     "start_time": "2025-08-07T13:13:19.822338",
     "status": "completed"
    },
    "tags": []
   },
   "outputs": [],
   "source": [
    "grid_search = RandomizedSearchCV(\n",
    "    RandomForestRegressor(random_state=42), \n",
    "    grid_param,\n",
    "    n_iter=number_of_model_for_randomized_grid,\n",
    "    cv=5,\n",
    "    scoring='neg_mean_squared_error',\n",
    "    n_jobs=-1,\n",
    "    verbose=1,\n",
    "    random_state=42\n",
    ")"
   ]
  },
  {
   "cell_type": "code",
   "execution_count": 82,
   "id": "cdebf848",
   "metadata": {
    "execution": {
     "iopub.execute_input": "2025-08-07T13:13:19.918156Z",
     "iopub.status.busy": "2025-08-07T13:13:19.917344Z",
     "iopub.status.idle": "2025-08-07T14:10:04.374536Z",
     "shell.execute_reply": "2025-08-07T14:10:04.373591Z"
    },
    "papermill": {
     "duration": 3404.518372,
     "end_time": "2025-08-07T14:10:04.403749",
     "exception": false,
     "start_time": "2025-08-07T13:13:19.885377",
     "status": "completed"
    },
    "tags": []
   },
   "outputs": [
    {
     "name": "stdout",
     "output_type": "stream",
     "text": [
      "Starting hyperparameter tuning...\n",
      "Fitting 5 folds for each of 510 candidates, totalling 2550 fits\n",
      "CPU times: user 35.9 s, sys: 5.68 s, total: 41.6 s\n",
      "Wall time: 56min 44s\n"
     ]
    },
    {
     "data": {
      "text/html": [
       "<style>#sk-container-id-12 {color: black;background-color: white;}#sk-container-id-12 pre{padding: 0;}#sk-container-id-12 div.sk-toggleable {background-color: white;}#sk-container-id-12 label.sk-toggleable__label {cursor: pointer;display: block;width: 100%;margin-bottom: 0;padding: 0.3em;box-sizing: border-box;text-align: center;}#sk-container-id-12 label.sk-toggleable__label-arrow:before {content: \"▸\";float: left;margin-right: 0.25em;color: #696969;}#sk-container-id-12 label.sk-toggleable__label-arrow:hover:before {color: black;}#sk-container-id-12 div.sk-estimator:hover label.sk-toggleable__label-arrow:before {color: black;}#sk-container-id-12 div.sk-toggleable__content {max-height: 0;max-width: 0;overflow: hidden;text-align: left;background-color: #f0f8ff;}#sk-container-id-12 div.sk-toggleable__content pre {margin: 0.2em;color: black;border-radius: 0.25em;background-color: #f0f8ff;}#sk-container-id-12 input.sk-toggleable__control:checked~div.sk-toggleable__content {max-height: 200px;max-width: 100%;overflow: auto;}#sk-container-id-12 input.sk-toggleable__control:checked~label.sk-toggleable__label-arrow:before {content: \"▾\";}#sk-container-id-12 div.sk-estimator input.sk-toggleable__control:checked~label.sk-toggleable__label {background-color: #d4ebff;}#sk-container-id-12 div.sk-label input.sk-toggleable__control:checked~label.sk-toggleable__label {background-color: #d4ebff;}#sk-container-id-12 input.sk-hidden--visually {border: 0;clip: rect(1px 1px 1px 1px);clip: rect(1px, 1px, 1px, 1px);height: 1px;margin: -1px;overflow: hidden;padding: 0;position: absolute;width: 1px;}#sk-container-id-12 div.sk-estimator {font-family: monospace;background-color: #f0f8ff;border: 1px dotted black;border-radius: 0.25em;box-sizing: border-box;margin-bottom: 0.5em;}#sk-container-id-12 div.sk-estimator:hover {background-color: #d4ebff;}#sk-container-id-12 div.sk-parallel-item::after {content: \"\";width: 100%;border-bottom: 1px solid gray;flex-grow: 1;}#sk-container-id-12 div.sk-label:hover label.sk-toggleable__label {background-color: #d4ebff;}#sk-container-id-12 div.sk-serial::before {content: \"\";position: absolute;border-left: 1px solid gray;box-sizing: border-box;top: 0;bottom: 0;left: 50%;z-index: 0;}#sk-container-id-12 div.sk-serial {display: flex;flex-direction: column;align-items: center;background-color: white;padding-right: 0.2em;padding-left: 0.2em;position: relative;}#sk-container-id-12 div.sk-item {position: relative;z-index: 1;}#sk-container-id-12 div.sk-parallel {display: flex;align-items: stretch;justify-content: center;background-color: white;position: relative;}#sk-container-id-12 div.sk-item::before, #sk-container-id-12 div.sk-parallel-item::before {content: \"\";position: absolute;border-left: 1px solid gray;box-sizing: border-box;top: 0;bottom: 0;left: 50%;z-index: -1;}#sk-container-id-12 div.sk-parallel-item {display: flex;flex-direction: column;z-index: 1;position: relative;background-color: white;}#sk-container-id-12 div.sk-parallel-item:first-child::after {align-self: flex-end;width: 50%;}#sk-container-id-12 div.sk-parallel-item:last-child::after {align-self: flex-start;width: 50%;}#sk-container-id-12 div.sk-parallel-item:only-child::after {width: 0;}#sk-container-id-12 div.sk-dashed-wrapped {border: 1px dashed gray;margin: 0 0.4em 0.5em 0.4em;box-sizing: border-box;padding-bottom: 0.4em;background-color: white;}#sk-container-id-12 div.sk-label label {font-family: monospace;font-weight: bold;display: inline-block;line-height: 1.2em;}#sk-container-id-12 div.sk-label-container {text-align: center;}#sk-container-id-12 div.sk-container {/* jupyter's `normalize.less` sets `[hidden] { display: none; }` but bootstrap.min.css set `[hidden] { display: none !important; }` so we also need the `!important` here to be able to override the default hidden behavior on the sphinx rendered scikit-learn.org. See: https://github.com/scikit-learn/scikit-learn/issues/21755 */display: inline-block !important;position: relative;}#sk-container-id-12 div.sk-text-repr-fallback {display: none;}</style><div id=\"sk-container-id-12\" class=\"sk-top-container\"><div class=\"sk-text-repr-fallback\"><pre>RandomizedSearchCV(cv=5, estimator=RandomForestRegressor(random_state=42),\n",
       "                   n_iter=510, n_jobs=-1,\n",
       "                   param_distributions=[{&#x27;bootstrap&#x27;: [True],\n",
       "                                         &#x27;max_depth&#x27;: [None, 10, 20, 30],\n",
       "                                         &#x27;max_features&#x27;: [&#x27;sqrt&#x27;, &#x27;log2&#x27;, None],\n",
       "                                         &#x27;max_samples&#x27;: [None, 0.8, 0.9],\n",
       "                                         &#x27;min_impurity_decrease&#x27;: [0.0, 0.01,\n",
       "                                                                   0.02],\n",
       "                                         &#x27;min_samples_leaf&#x27;: [1, 2, 4, 6],\n",
       "                                         &#x27;min_samples_split&#x27;: [2, 5, 10, 15,\n",
       "                                                               20],\n",
       "                                         &#x27;n_estimators&#x27;: [100, 200, 300]},\n",
       "                                        {&#x27;bootstrap&#x27;: [False],\n",
       "                                         &#x27;max_depth&#x27;: [None, 10, 20, 30],\n",
       "                                         &#x27;max_features&#x27;: [&#x27;sqrt&#x27;, &#x27;log2&#x27;, None],\n",
       "                                         &#x27;min_impurity_decrease&#x27;: [0.0, 0.01,\n",
       "                                                                   0.02],\n",
       "                                         &#x27;min_samples_leaf&#x27;: [1, 2, 4, 6],\n",
       "                                         &#x27;min_samples_split&#x27;: [2, 5, 10, 15,\n",
       "                                                               20],\n",
       "                                         &#x27;n_estimators&#x27;: [100, 200, 300]}],\n",
       "                   random_state=42, scoring=&#x27;neg_mean_squared_error&#x27;,\n",
       "                   verbose=1)</pre><b>In a Jupyter environment, please rerun this cell to show the HTML representation or trust the notebook. <br />On GitHub, the HTML representation is unable to render, please try loading this page with nbviewer.org.</b></div><div class=\"sk-container\" hidden><div class=\"sk-item sk-dashed-wrapped\"><div class=\"sk-label-container\"><div class=\"sk-label sk-toggleable\"><input class=\"sk-toggleable__control sk-hidden--visually\" id=\"sk-estimator-id-18\" type=\"checkbox\" ><label for=\"sk-estimator-id-18\" class=\"sk-toggleable__label sk-toggleable__label-arrow\">RandomizedSearchCV</label><div class=\"sk-toggleable__content\"><pre>RandomizedSearchCV(cv=5, estimator=RandomForestRegressor(random_state=42),\n",
       "                   n_iter=510, n_jobs=-1,\n",
       "                   param_distributions=[{&#x27;bootstrap&#x27;: [True],\n",
       "                                         &#x27;max_depth&#x27;: [None, 10, 20, 30],\n",
       "                                         &#x27;max_features&#x27;: [&#x27;sqrt&#x27;, &#x27;log2&#x27;, None],\n",
       "                                         &#x27;max_samples&#x27;: [None, 0.8, 0.9],\n",
       "                                         &#x27;min_impurity_decrease&#x27;: [0.0, 0.01,\n",
       "                                                                   0.02],\n",
       "                                         &#x27;min_samples_leaf&#x27;: [1, 2, 4, 6],\n",
       "                                         &#x27;min_samples_split&#x27;: [2, 5, 10, 15,\n",
       "                                                               20],\n",
       "                                         &#x27;n_estimators&#x27;: [100, 200, 300]},\n",
       "                                        {&#x27;bootstrap&#x27;: [False],\n",
       "                                         &#x27;max_depth&#x27;: [None, 10, 20, 30],\n",
       "                                         &#x27;max_features&#x27;: [&#x27;sqrt&#x27;, &#x27;log2&#x27;, None],\n",
       "                                         &#x27;min_impurity_decrease&#x27;: [0.0, 0.01,\n",
       "                                                                   0.02],\n",
       "                                         &#x27;min_samples_leaf&#x27;: [1, 2, 4, 6],\n",
       "                                         &#x27;min_samples_split&#x27;: [2, 5, 10, 15,\n",
       "                                                               20],\n",
       "                                         &#x27;n_estimators&#x27;: [100, 200, 300]}],\n",
       "                   random_state=42, scoring=&#x27;neg_mean_squared_error&#x27;,\n",
       "                   verbose=1)</pre></div></div></div><div class=\"sk-parallel\"><div class=\"sk-parallel-item\"><div class=\"sk-item\"><div class=\"sk-label-container\"><div class=\"sk-label sk-toggleable\"><input class=\"sk-toggleable__control sk-hidden--visually\" id=\"sk-estimator-id-19\" type=\"checkbox\" ><label for=\"sk-estimator-id-19\" class=\"sk-toggleable__label sk-toggleable__label-arrow\">estimator: RandomForestRegressor</label><div class=\"sk-toggleable__content\"><pre>RandomForestRegressor(random_state=42)</pre></div></div></div><div class=\"sk-serial\"><div class=\"sk-item\"><div class=\"sk-estimator sk-toggleable\"><input class=\"sk-toggleable__control sk-hidden--visually\" id=\"sk-estimator-id-20\" type=\"checkbox\" ><label for=\"sk-estimator-id-20\" class=\"sk-toggleable__label sk-toggleable__label-arrow\">RandomForestRegressor</label><div class=\"sk-toggleable__content\"><pre>RandomForestRegressor(random_state=42)</pre></div></div></div></div></div></div></div></div></div></div>"
      ],
      "text/plain": [
       "RandomizedSearchCV(cv=5, estimator=RandomForestRegressor(random_state=42),\n",
       "                   n_iter=510, n_jobs=-1,\n",
       "                   param_distributions=[{'bootstrap': [True],\n",
       "                                         'max_depth': [None, 10, 20, 30],\n",
       "                                         'max_features': ['sqrt', 'log2', None],\n",
       "                                         'max_samples': [None, 0.8, 0.9],\n",
       "                                         'min_impurity_decrease': [0.0, 0.01,\n",
       "                                                                   0.02],\n",
       "                                         'min_samples_leaf': [1, 2, 4, 6],\n",
       "                                         'min_samples_split': [2, 5, 10, 15,\n",
       "                                                               20],\n",
       "                                         'n_estimators': [100, 200, 300]},\n",
       "                                        {'bootstrap': [False],\n",
       "                                         'max_depth': [None, 10, 20, 30],\n",
       "                                         'max_features': ['sqrt', 'log2', None],\n",
       "                                         'min_impurity_decrease': [0.0, 0.01,\n",
       "                                                                   0.02],\n",
       "                                         'min_samples_leaf': [1, 2, 4, 6],\n",
       "                                         'min_samples_split': [2, 5, 10, 15,\n",
       "                                                               20],\n",
       "                                         'n_estimators': [100, 200, 300]}],\n",
       "                   random_state=42, scoring='neg_mean_squared_error',\n",
       "                   verbose=1)"
      ]
     },
     "execution_count": 82,
     "metadata": {},
     "output_type": "execute_result"
    }
   ],
   "source": [
    "%%time\n",
    "print(\"Starting hyperparameter tuning...\")\n",
    "grid_search.fit(X_train, y_train)"
   ]
  },
  {
   "cell_type": "code",
   "execution_count": 83,
   "id": "3abda7bb",
   "metadata": {
    "execution": {
     "iopub.execute_input": "2025-08-07T14:10:04.461149Z",
     "iopub.status.busy": "2025-08-07T14:10:04.460832Z",
     "iopub.status.idle": "2025-08-07T14:10:04.466902Z",
     "shell.execute_reply": "2025-08-07T14:10:04.465857Z"
    },
    "papermill": {
     "duration": 0.036025,
     "end_time": "2025-08-07T14:10:04.468363",
     "exception": false,
     "start_time": "2025-08-07T14:10:04.432338",
     "status": "completed"
    },
    "tags": []
   },
   "outputs": [
    {
     "name": "stdout",
     "output_type": "stream",
     "text": [
      "TUNING RESULTS\n",
      "==================================================\n",
      "Best Parameters: {'n_estimators': 300, 'min_samples_split': 5, 'min_samples_leaf': 2, 'min_impurity_decrease': 0.0, 'max_samples': 0.8, 'max_features': None, 'max_depth': 20, 'bootstrap': True}\n",
      "Best Cross-Validation Score (Negative MSE): -0.0029269582311049597\n",
      "Best Cross-Validation Score (MSE): 0.0029269582311049597\n",
      "Best Cross-Validation Score (RMSE): 0.054101369955898156\n"
     ]
    }
   ],
   "source": [
    "print(\"TUNING RESULTS\")\n",
    "print(\"=\"*50)\n",
    "print(\"Best Parameters:\", grid_search.best_params_)\n",
    "print(\"Best Cross-Validation Score (Negative MSE):\", grid_search.best_score_)\n",
    "print(\"Best Cross-Validation Score (MSE):\", -grid_search.best_score_)\n",
    "print(\"Best Cross-Validation Score (RMSE):\", math.sqrt(-grid_search.best_score_))"
   ]
  },
  {
   "cell_type": "code",
   "execution_count": 84,
   "id": "48020c3d",
   "metadata": {
    "execution": {
     "iopub.execute_input": "2025-08-07T14:10:04.525504Z",
     "iopub.status.busy": "2025-08-07T14:10:04.525219Z",
     "iopub.status.idle": "2025-08-07T14:10:04.634719Z",
     "shell.execute_reply": "2025-08-07T14:10:04.633726Z"
    },
    "papermill": {
     "duration": 0.13999,
     "end_time": "2025-08-07T14:10:04.636538",
     "exception": false,
     "start_time": "2025-08-07T14:10:04.496548",
     "status": "completed"
    },
    "tags": []
   },
   "outputs": [],
   "source": [
    "grid_search_best_model = grid_search.best_estimator_\n",
    "y_pred = grid_search_best_model.predict(X_test)"
   ]
  },
  {
   "cell_type": "code",
   "execution_count": 85,
   "id": "29dc5b86",
   "metadata": {
    "execution": {
     "iopub.execute_input": "2025-08-07T14:10:04.694745Z",
     "iopub.status.busy": "2025-08-07T14:10:04.694314Z",
     "iopub.status.idle": "2025-08-07T14:10:04.701861Z",
     "shell.execute_reply": "2025-08-07T14:10:04.700939Z"
    },
    "papermill": {
     "duration": 0.038353,
     "end_time": "2025-08-07T14:10:04.703467",
     "exception": false,
     "start_time": "2025-08-07T14:10:04.665114",
     "status": "completed"
    },
    "tags": []
   },
   "outputs": [],
   "source": [
    "mse_grid_search = mean_squared_error(y_test, y_pred)\n",
    "mae_grid_search = mean_absolute_error(y_test, y_pred)\n",
    "r2_grid_search = r2_score(y_test, y_pred)\n",
    "rmse_grid_search = math.sqrt(mse_grid_search)"
   ]
  },
  {
   "cell_type": "code",
   "execution_count": 86,
   "id": "1991d8dd",
   "metadata": {
    "execution": {
     "iopub.execute_input": "2025-08-07T14:10:04.760617Z",
     "iopub.status.busy": "2025-08-07T14:10:04.760292Z",
     "iopub.status.idle": "2025-08-07T14:10:04.765407Z",
     "shell.execute_reply": "2025-08-07T14:10:04.764490Z"
    },
    "papermill": {
     "duration": 0.035404,
     "end_time": "2025-08-07T14:10:04.766864",
     "exception": false,
     "start_time": "2025-08-07T14:10:04.731460",
     "status": "completed"
    },
    "tags": []
   },
   "outputs": [
    {
     "name": "stdout",
     "output_type": "stream",
     "text": [
      "MSE Score: 0.003022728804877872\n",
      "MAE Score: 0.03160628249452179\n",
      "R2 Score: 0.9975190930100742\n",
      "RMSE Score: 0.05497934889463381\n"
     ]
    }
   ],
   "source": [
    "print(\"MSE Score:\", mse_grid_search)\n",
    "print(\"MAE Score:\", mae_grid_search)\n",
    "print(\"R2 Score:\", r2_grid_search)\n",
    "print(\"RMSE Score:\", rmse_grid_search)"
   ]
  },
  {
   "cell_type": "code",
   "execution_count": 87,
   "id": "20c5868b",
   "metadata": {
    "execution": {
     "iopub.execute_input": "2025-08-07T14:10:04.826948Z",
     "iopub.status.busy": "2025-08-07T14:10:04.826609Z",
     "iopub.status.idle": "2025-08-07T14:10:04.837868Z",
     "shell.execute_reply": "2025-08-07T14:10:04.836565Z"
    },
    "papermill": {
     "duration": 0.044163,
     "end_time": "2025-08-07T14:10:04.839788",
     "exception": false,
     "start_time": "2025-08-07T14:10:04.795625",
     "status": "completed"
    },
    "tags": []
   },
   "outputs": [
    {
     "name": "stdout",
     "output_type": "stream",
     "text": [
      "❌ Regression model not improved:\n",
      "   Current MSE: 0.003023, Best MSE: 0.002935\n",
      "   Current R²: 0.997519, Best R²: 0.997591\n",
      "   Current Features: 24, Best Features: 27\n"
     ]
    }
   ],
   "source": [
    "regression_params = {\n",
    "    'model_name': model_name_for_saving + \" Tuned\",\n",
    "    'scaler_name': \"MinMaxScaler\",\n",
    "    'features_list': feature_columns_for_saving,\n",
    "    'target_column': target_name_for_saving,\n",
    "    'mse': mse_grid_search,\n",
    "    'mae': mae_grid_search,\n",
    "    'rmse': rmse_grid_search,\n",
    "    'r2': r2_grid_search,\n",
    "    'parameters' : json.dumps({\n",
    "        \"best_params\": grid_search.best_params_,\n",
    "        \"cv_score\": grid_search.best_score_,\n",
    "        \"all_params\": grid_search_best_model.get_params()\n",
    "    })\n",
    "}\n",
    "save_model_performance_if_better('regression', regression_params)"
   ]
  },
  {
   "cell_type": "markdown",
   "id": "14f9eff1",
   "metadata": {
    "papermill": {
     "duration": 0.028112,
     "end_time": "2025-08-07T14:10:04.897108",
     "exception": false,
     "start_time": "2025-08-07T14:10:04.868996",
     "status": "completed"
    },
    "tags": []
   },
   "source": [
    "### Standard Scaler"
   ]
  },
  {
   "cell_type": "code",
   "execution_count": 88,
   "id": "652561a0",
   "metadata": {
    "execution": {
     "iopub.execute_input": "2025-08-07T14:10:04.956351Z",
     "iopub.status.busy": "2025-08-07T14:10:04.956038Z",
     "iopub.status.idle": "2025-08-07T14:10:04.976725Z",
     "shell.execute_reply": "2025-08-07T14:10:04.975618Z"
    },
    "papermill": {
     "duration": 0.052487,
     "end_time": "2025-08-07T14:10:04.978550",
     "exception": false,
     "start_time": "2025-08-07T14:10:04.926063",
     "status": "completed"
    },
    "tags": []
   },
   "outputs": [],
   "source": [
    "scaler = StandardScaler()\n",
    "X_train = scaler.fit_transform(X_train_raw)\n",
    "X_test = scaler.transform(X_test_raw)"
   ]
  },
  {
   "cell_type": "code",
   "execution_count": 89,
   "id": "016ca434",
   "metadata": {
    "execution": {
     "iopub.execute_input": "2025-08-07T14:10:05.039032Z",
     "iopub.status.busy": "2025-08-07T14:10:05.038662Z",
     "iopub.status.idle": "2025-08-07T14:10:05.045323Z",
     "shell.execute_reply": "2025-08-07T14:10:05.044390Z"
    },
    "papermill": {
     "duration": 0.037136,
     "end_time": "2025-08-07T14:10:05.046752",
     "exception": false,
     "start_time": "2025-08-07T14:10:05.009616",
     "status": "completed"
    },
    "tags": []
   },
   "outputs": [
    {
     "data": {
      "text/plain": [
       "array([[ 1.01884116, -0.21938027, -0.38875095, ..., -0.12088825,\n",
       "         1.52387472,  1.09644529],\n",
       "       [ 1.64376461,  0.64624572,  2.57234098, ..., -1.52028666,\n",
       "         0.24645772, -0.43343649],\n",
       "       [-1.16839092, -1.66209024, -0.38875095, ..., -1.52028666,\n",
       "        -0.73592134, -0.43343649],\n",
       "       ...,\n",
       "       [ 0.70637943, -0.21938027, -0.38875095, ...,  0.96917545,\n",
       "         0.25618424, -0.30383078],\n",
       "       [-1.48085264,  1.36760071, -0.38875095, ..., -1.52028666,\n",
       "        -0.73592134, -0.43343649],\n",
       "       [ 1.01884116, -0.50792226, -0.38875095, ...,  1.01722469,\n",
       "         0.20430944,  0.85928021]])"
      ]
     },
     "execution_count": 89,
     "metadata": {},
     "output_type": "execute_result"
    }
   ],
   "source": [
    "X_train"
   ]
  },
  {
   "cell_type": "code",
   "execution_count": 90,
   "id": "3a23e143",
   "metadata": {
    "execution": {
     "iopub.execute_input": "2025-08-07T14:10:05.105941Z",
     "iopub.status.busy": "2025-08-07T14:10:05.105016Z",
     "iopub.status.idle": "2025-08-07T14:10:05.111799Z",
     "shell.execute_reply": "2025-08-07T14:10:05.110814Z"
    },
    "papermill": {
     "duration": 0.037832,
     "end_time": "2025-08-07T14:10:05.113256",
     "exception": false,
     "start_time": "2025-08-07T14:10:05.075424",
     "status": "completed"
    },
    "tags": []
   },
   "outputs": [
    {
     "data": {
      "text/plain": [
       "array([[ 0.70637943,  1.51187171, -0.38875095, ...,  1.02148941,\n",
       "        -0.73592134, -0.43343649],\n",
       "       [ 0.08145598,  0.50197472,  2.57234098, ...,  1.23102956,\n",
       "        -0.49600038, -0.43343649],\n",
       "       [ 0.70637943, -0.94073525, -0.38875095, ...,  1.30438283,\n",
       "        -0.73592134, -0.43343649],\n",
       "       ...,\n",
       "       [-1.16839092,  0.79051672,  2.57234098, ..., -1.51659057,\n",
       "        -0.07775979, -0.43343649],\n",
       "       [-0.54346747,  1.22332971, -0.38875095, ..., -1.52028666,\n",
       "        -0.73592134,  0.71764924],\n",
       "       [ 0.08145598,  1.51187171, -0.38875095, ..., -0.05293696,\n",
       "        -0.73592134, -0.43343649]])"
      ]
     },
     "execution_count": 90,
     "metadata": {},
     "output_type": "execute_result"
    }
   ],
   "source": [
    "X_test"
   ]
  },
  {
   "cell_type": "markdown",
   "id": "47aab9ae",
   "metadata": {
    "papermill": {
     "duration": 0.028581,
     "end_time": "2025-08-07T14:10:05.170171",
     "exception": false,
     "start_time": "2025-08-07T14:10:05.141590",
     "status": "completed"
    },
    "tags": []
   },
   "source": [
    "#### Default Parameters"
   ]
  },
  {
   "cell_type": "code",
   "execution_count": 91,
   "id": "1f55bbac",
   "metadata": {
    "execution": {
     "iopub.execute_input": "2025-08-07T14:10:05.228344Z",
     "iopub.status.busy": "2025-08-07T14:10:05.228035Z",
     "iopub.status.idle": "2025-08-07T14:10:05.234921Z",
     "shell.execute_reply": "2025-08-07T14:10:05.234023Z"
    },
    "papermill": {
     "duration": 0.037842,
     "end_time": "2025-08-07T14:10:05.236462",
     "exception": false,
     "start_time": "2025-08-07T14:10:05.198620",
     "status": "completed"
    },
    "tags": []
   },
   "outputs": [
    {
     "data": {
      "text/html": [
       "<style>#sk-container-id-13 {color: black;background-color: white;}#sk-container-id-13 pre{padding: 0;}#sk-container-id-13 div.sk-toggleable {background-color: white;}#sk-container-id-13 label.sk-toggleable__label {cursor: pointer;display: block;width: 100%;margin-bottom: 0;padding: 0.3em;box-sizing: border-box;text-align: center;}#sk-container-id-13 label.sk-toggleable__label-arrow:before {content: \"▸\";float: left;margin-right: 0.25em;color: #696969;}#sk-container-id-13 label.sk-toggleable__label-arrow:hover:before {color: black;}#sk-container-id-13 div.sk-estimator:hover label.sk-toggleable__label-arrow:before {color: black;}#sk-container-id-13 div.sk-toggleable__content {max-height: 0;max-width: 0;overflow: hidden;text-align: left;background-color: #f0f8ff;}#sk-container-id-13 div.sk-toggleable__content pre {margin: 0.2em;color: black;border-radius: 0.25em;background-color: #f0f8ff;}#sk-container-id-13 input.sk-toggleable__control:checked~div.sk-toggleable__content {max-height: 200px;max-width: 100%;overflow: auto;}#sk-container-id-13 input.sk-toggleable__control:checked~label.sk-toggleable__label-arrow:before {content: \"▾\";}#sk-container-id-13 div.sk-estimator input.sk-toggleable__control:checked~label.sk-toggleable__label {background-color: #d4ebff;}#sk-container-id-13 div.sk-label input.sk-toggleable__control:checked~label.sk-toggleable__label {background-color: #d4ebff;}#sk-container-id-13 input.sk-hidden--visually {border: 0;clip: rect(1px 1px 1px 1px);clip: rect(1px, 1px, 1px, 1px);height: 1px;margin: -1px;overflow: hidden;padding: 0;position: absolute;width: 1px;}#sk-container-id-13 div.sk-estimator {font-family: monospace;background-color: #f0f8ff;border: 1px dotted black;border-radius: 0.25em;box-sizing: border-box;margin-bottom: 0.5em;}#sk-container-id-13 div.sk-estimator:hover {background-color: #d4ebff;}#sk-container-id-13 div.sk-parallel-item::after {content: \"\";width: 100%;border-bottom: 1px solid gray;flex-grow: 1;}#sk-container-id-13 div.sk-label:hover label.sk-toggleable__label {background-color: #d4ebff;}#sk-container-id-13 div.sk-serial::before {content: \"\";position: absolute;border-left: 1px solid gray;box-sizing: border-box;top: 0;bottom: 0;left: 50%;z-index: 0;}#sk-container-id-13 div.sk-serial {display: flex;flex-direction: column;align-items: center;background-color: white;padding-right: 0.2em;padding-left: 0.2em;position: relative;}#sk-container-id-13 div.sk-item {position: relative;z-index: 1;}#sk-container-id-13 div.sk-parallel {display: flex;align-items: stretch;justify-content: center;background-color: white;position: relative;}#sk-container-id-13 div.sk-item::before, #sk-container-id-13 div.sk-parallel-item::before {content: \"\";position: absolute;border-left: 1px solid gray;box-sizing: border-box;top: 0;bottom: 0;left: 50%;z-index: -1;}#sk-container-id-13 div.sk-parallel-item {display: flex;flex-direction: column;z-index: 1;position: relative;background-color: white;}#sk-container-id-13 div.sk-parallel-item:first-child::after {align-self: flex-end;width: 50%;}#sk-container-id-13 div.sk-parallel-item:last-child::after {align-self: flex-start;width: 50%;}#sk-container-id-13 div.sk-parallel-item:only-child::after {width: 0;}#sk-container-id-13 div.sk-dashed-wrapped {border: 1px dashed gray;margin: 0 0.4em 0.5em 0.4em;box-sizing: border-box;padding-bottom: 0.4em;background-color: white;}#sk-container-id-13 div.sk-label label {font-family: monospace;font-weight: bold;display: inline-block;line-height: 1.2em;}#sk-container-id-13 div.sk-label-container {text-align: center;}#sk-container-id-13 div.sk-container {/* jupyter's `normalize.less` sets `[hidden] { display: none; }` but bootstrap.min.css set `[hidden] { display: none !important; }` so we also need the `!important` here to be able to override the default hidden behavior on the sphinx rendered scikit-learn.org. See: https://github.com/scikit-learn/scikit-learn/issues/21755 */display: inline-block !important;position: relative;}#sk-container-id-13 div.sk-text-repr-fallback {display: none;}</style><div id=\"sk-container-id-13\" class=\"sk-top-container\"><div class=\"sk-text-repr-fallback\"><pre>RandomForestRegressor(random_state=42)</pre><b>In a Jupyter environment, please rerun this cell to show the HTML representation or trust the notebook. <br />On GitHub, the HTML representation is unable to render, please try loading this page with nbviewer.org.</b></div><div class=\"sk-container\" hidden><div class=\"sk-item\"><div class=\"sk-estimator sk-toggleable\"><input class=\"sk-toggleable__control sk-hidden--visually\" id=\"sk-estimator-id-21\" type=\"checkbox\" checked><label for=\"sk-estimator-id-21\" class=\"sk-toggleable__label sk-toggleable__label-arrow\">RandomForestRegressor</label><div class=\"sk-toggleable__content\"><pre>RandomForestRegressor(random_state=42)</pre></div></div></div></div></div>"
      ],
      "text/plain": [
       "RandomForestRegressor(random_state=42)"
      ]
     },
     "execution_count": 91,
     "metadata": {},
     "output_type": "execute_result"
    }
   ],
   "source": [
    "training_model = RandomForestRegressor(random_state=42)\n",
    "training_model"
   ]
  },
  {
   "cell_type": "code",
   "execution_count": 92,
   "id": "cdcf4c5d",
   "metadata": {
    "execution": {
     "iopub.execute_input": "2025-08-07T14:10:05.295645Z",
     "iopub.status.busy": "2025-08-07T14:10:05.295311Z",
     "iopub.status.idle": "2025-08-07T14:10:13.009656Z",
     "shell.execute_reply": "2025-08-07T14:10:13.008735Z"
    },
    "papermill": {
     "duration": 7.746308,
     "end_time": "2025-08-07T14:10:13.011322",
     "exception": false,
     "start_time": "2025-08-07T14:10:05.265014",
     "status": "completed"
    },
    "tags": []
   },
   "outputs": [
    {
     "name": "stdout",
     "output_type": "stream",
     "text": [
      "CPU times: user 7.7 s, sys: 0 ns, total: 7.7 s\n",
      "Wall time: 7.71 s\n"
     ]
    },
    {
     "data": {
      "text/html": [
       "<style>#sk-container-id-14 {color: black;background-color: white;}#sk-container-id-14 pre{padding: 0;}#sk-container-id-14 div.sk-toggleable {background-color: white;}#sk-container-id-14 label.sk-toggleable__label {cursor: pointer;display: block;width: 100%;margin-bottom: 0;padding: 0.3em;box-sizing: border-box;text-align: center;}#sk-container-id-14 label.sk-toggleable__label-arrow:before {content: \"▸\";float: left;margin-right: 0.25em;color: #696969;}#sk-container-id-14 label.sk-toggleable__label-arrow:hover:before {color: black;}#sk-container-id-14 div.sk-estimator:hover label.sk-toggleable__label-arrow:before {color: black;}#sk-container-id-14 div.sk-toggleable__content {max-height: 0;max-width: 0;overflow: hidden;text-align: left;background-color: #f0f8ff;}#sk-container-id-14 div.sk-toggleable__content pre {margin: 0.2em;color: black;border-radius: 0.25em;background-color: #f0f8ff;}#sk-container-id-14 input.sk-toggleable__control:checked~div.sk-toggleable__content {max-height: 200px;max-width: 100%;overflow: auto;}#sk-container-id-14 input.sk-toggleable__control:checked~label.sk-toggleable__label-arrow:before {content: \"▾\";}#sk-container-id-14 div.sk-estimator input.sk-toggleable__control:checked~label.sk-toggleable__label {background-color: #d4ebff;}#sk-container-id-14 div.sk-label input.sk-toggleable__control:checked~label.sk-toggleable__label {background-color: #d4ebff;}#sk-container-id-14 input.sk-hidden--visually {border: 0;clip: rect(1px 1px 1px 1px);clip: rect(1px, 1px, 1px, 1px);height: 1px;margin: -1px;overflow: hidden;padding: 0;position: absolute;width: 1px;}#sk-container-id-14 div.sk-estimator {font-family: monospace;background-color: #f0f8ff;border: 1px dotted black;border-radius: 0.25em;box-sizing: border-box;margin-bottom: 0.5em;}#sk-container-id-14 div.sk-estimator:hover {background-color: #d4ebff;}#sk-container-id-14 div.sk-parallel-item::after {content: \"\";width: 100%;border-bottom: 1px solid gray;flex-grow: 1;}#sk-container-id-14 div.sk-label:hover label.sk-toggleable__label {background-color: #d4ebff;}#sk-container-id-14 div.sk-serial::before {content: \"\";position: absolute;border-left: 1px solid gray;box-sizing: border-box;top: 0;bottom: 0;left: 50%;z-index: 0;}#sk-container-id-14 div.sk-serial {display: flex;flex-direction: column;align-items: center;background-color: white;padding-right: 0.2em;padding-left: 0.2em;position: relative;}#sk-container-id-14 div.sk-item {position: relative;z-index: 1;}#sk-container-id-14 div.sk-parallel {display: flex;align-items: stretch;justify-content: center;background-color: white;position: relative;}#sk-container-id-14 div.sk-item::before, #sk-container-id-14 div.sk-parallel-item::before {content: \"\";position: absolute;border-left: 1px solid gray;box-sizing: border-box;top: 0;bottom: 0;left: 50%;z-index: -1;}#sk-container-id-14 div.sk-parallel-item {display: flex;flex-direction: column;z-index: 1;position: relative;background-color: white;}#sk-container-id-14 div.sk-parallel-item:first-child::after {align-self: flex-end;width: 50%;}#sk-container-id-14 div.sk-parallel-item:last-child::after {align-self: flex-start;width: 50%;}#sk-container-id-14 div.sk-parallel-item:only-child::after {width: 0;}#sk-container-id-14 div.sk-dashed-wrapped {border: 1px dashed gray;margin: 0 0.4em 0.5em 0.4em;box-sizing: border-box;padding-bottom: 0.4em;background-color: white;}#sk-container-id-14 div.sk-label label {font-family: monospace;font-weight: bold;display: inline-block;line-height: 1.2em;}#sk-container-id-14 div.sk-label-container {text-align: center;}#sk-container-id-14 div.sk-container {/* jupyter's `normalize.less` sets `[hidden] { display: none; }` but bootstrap.min.css set `[hidden] { display: none !important; }` so we also need the `!important` here to be able to override the default hidden behavior on the sphinx rendered scikit-learn.org. See: https://github.com/scikit-learn/scikit-learn/issues/21755 */display: inline-block !important;position: relative;}#sk-container-id-14 div.sk-text-repr-fallback {display: none;}</style><div id=\"sk-container-id-14\" class=\"sk-top-container\"><div class=\"sk-text-repr-fallback\"><pre>RandomForestRegressor(random_state=42)</pre><b>In a Jupyter environment, please rerun this cell to show the HTML representation or trust the notebook. <br />On GitHub, the HTML representation is unable to render, please try loading this page with nbviewer.org.</b></div><div class=\"sk-container\" hidden><div class=\"sk-item\"><div class=\"sk-estimator sk-toggleable\"><input class=\"sk-toggleable__control sk-hidden--visually\" id=\"sk-estimator-id-22\" type=\"checkbox\" checked><label for=\"sk-estimator-id-22\" class=\"sk-toggleable__label sk-toggleable__label-arrow\">RandomForestRegressor</label><div class=\"sk-toggleable__content\"><pre>RandomForestRegressor(random_state=42)</pre></div></div></div></div></div>"
      ],
      "text/plain": [
       "RandomForestRegressor(random_state=42)"
      ]
     },
     "execution_count": 92,
     "metadata": {},
     "output_type": "execute_result"
    }
   ],
   "source": [
    "%%time\n",
    "training_model.fit(X_train, y_train)"
   ]
  },
  {
   "cell_type": "code",
   "execution_count": 93,
   "id": "30541ee3",
   "metadata": {
    "execution": {
     "iopub.execute_input": "2025-08-07T14:10:13.072502Z",
     "iopub.status.busy": "2025-08-07T14:10:13.072191Z",
     "iopub.status.idle": "2025-08-07T14:10:13.124885Z",
     "shell.execute_reply": "2025-08-07T14:10:13.123936Z"
    },
    "papermill": {
     "duration": 0.085492,
     "end_time": "2025-08-07T14:10:13.127080",
     "exception": false,
     "start_time": "2025-08-07T14:10:13.041588",
     "status": "completed"
    },
    "tags": []
   },
   "outputs": [
    {
     "data": {
      "text/plain": [
       "array([0.    , 0.2674, 0.    , ..., 0.8214, 0.    , 0.    ])"
      ]
     },
     "execution_count": 93,
     "metadata": {},
     "output_type": "execute_result"
    }
   ],
   "source": [
    "y_pred = training_model.predict(X_test)\n",
    "y_pred"
   ]
  },
  {
   "cell_type": "code",
   "execution_count": 94,
   "id": "210dae3c",
   "metadata": {
    "execution": {
     "iopub.execute_input": "2025-08-07T14:10:13.188410Z",
     "iopub.status.busy": "2025-08-07T14:10:13.188077Z",
     "iopub.status.idle": "2025-08-07T14:10:13.195930Z",
     "shell.execute_reply": "2025-08-07T14:10:13.194753Z"
    },
    "papermill": {
     "duration": 0.039648,
     "end_time": "2025-08-07T14:10:13.197401",
     "exception": false,
     "start_time": "2025-08-07T14:10:13.157753",
     "status": "completed"
    },
    "tags": []
   },
   "outputs": [
    {
     "data": {
      "text/plain": [
       "5158     0.00\n",
       "3831     0.36\n",
       "5117     0.00\n",
       "6326     2.70\n",
       "11359    0.49\n",
       "         ... \n",
       "10290    0.30\n",
       "13995    0.00\n",
       "9665     0.90\n",
       "2276     0.00\n",
       "4174     0.00\n",
       "Name: SolarEnergy, Length: 2924, dtype: float64"
      ]
     },
     "execution_count": 94,
     "metadata": {},
     "output_type": "execute_result"
    }
   ],
   "source": [
    "y_test"
   ]
  },
  {
   "cell_type": "code",
   "execution_count": 95,
   "id": "fe724911",
   "metadata": {
    "execution": {
     "iopub.execute_input": "2025-08-07T14:10:13.259137Z",
     "iopub.status.busy": "2025-08-07T14:10:13.258663Z",
     "iopub.status.idle": "2025-08-07T14:10:13.266231Z",
     "shell.execute_reply": "2025-08-07T14:10:13.265404Z"
    },
    "papermill": {
     "duration": 0.039506,
     "end_time": "2025-08-07T14:10:13.267551",
     "exception": false,
     "start_time": "2025-08-07T14:10:13.228045",
     "status": "completed"
    },
    "tags": []
   },
   "outputs": [],
   "source": [
    "mse = mean_squared_error(y_test, y_pred)\n",
    "mae = mean_absolute_error(y_test, y_pred)\n",
    "r2 = r2_score(y_test, y_pred)\n",
    "rmse = math.sqrt(mse)"
   ]
  },
  {
   "cell_type": "code",
   "execution_count": 96,
   "id": "0d19e358",
   "metadata": {
    "execution": {
     "iopub.execute_input": "2025-08-07T14:10:13.327377Z",
     "iopub.status.busy": "2025-08-07T14:10:13.326766Z",
     "iopub.status.idle": "2025-08-07T14:10:13.331904Z",
     "shell.execute_reply": "2025-08-07T14:10:13.330877Z"
    },
    "papermill": {
     "duration": 0.036186,
     "end_time": "2025-08-07T14:10:13.333307",
     "exception": false,
     "start_time": "2025-08-07T14:10:13.297121",
     "status": "completed"
    },
    "tags": []
   },
   "outputs": [
    {
     "name": "stdout",
     "output_type": "stream",
     "text": [
      "MSE Score: 0.0030227873392612873\n",
      "MAE Score: 0.03140629274965802\n",
      "R2 Score: 0.9975190449679341\n",
      "RMSE Score: 0.0549798812226917\n"
     ]
    }
   ],
   "source": [
    "print(\"MSE Score:\", mse)\n",
    "print(\"MAE Score:\", mae)\n",
    "print(\"R2 Score:\", r2)\n",
    "print(\"RMSE Score:\", rmse)"
   ]
  },
  {
   "cell_type": "code",
   "execution_count": 97,
   "id": "828ce704",
   "metadata": {
    "execution": {
     "iopub.execute_input": "2025-08-07T14:10:13.392975Z",
     "iopub.status.busy": "2025-08-07T14:10:13.392581Z",
     "iopub.status.idle": "2025-08-07T14:10:13.402660Z",
     "shell.execute_reply": "2025-08-07T14:10:13.401674Z"
    },
    "papermill": {
     "duration": 0.041217,
     "end_time": "2025-08-07T14:10:13.404146",
     "exception": false,
     "start_time": "2025-08-07T14:10:13.362929",
     "status": "completed"
    },
    "tags": []
   },
   "outputs": [
    {
     "name": "stdout",
     "output_type": "stream",
     "text": [
      "❌ Regression model not improved:\n",
      "   Current MSE: 0.003023, Best MSE: 0.002914\n",
      "   Current R²: 0.997519, Best R²: 0.997608\n",
      "   Current Features: 24, Best Features: 27\n"
     ]
    }
   ],
   "source": [
    "regression_params = {\n",
    "    'model_name': model_name_for_saving,\n",
    "    'scaler_name': \"StandardScaler\",\n",
    "    'features_list': feature_columns_for_saving,\n",
    "    'target_column': target_name_for_saving,\n",
    "    'mse': mse,\n",
    "    'mae': mae,\n",
    "    'rmse': rmse,\n",
    "    'r2': r2,\n",
    "    'parameters': json.dumps(training_model.get_params())\n",
    "}\n",
    "save_model_performance_if_better('regression', regression_params)"
   ]
  },
  {
   "cell_type": "markdown",
   "id": "efb92906",
   "metadata": {
    "papermill": {
     "duration": 0.028396,
     "end_time": "2025-08-07T14:10:13.461667",
     "exception": false,
     "start_time": "2025-08-07T14:10:13.433271",
     "status": "completed"
    },
    "tags": []
   },
   "source": [
    "#### Tuning with Randomized Grid Search"
   ]
  },
  {
   "cell_type": "code",
   "execution_count": 98,
   "id": "fa665682",
   "metadata": {
    "execution": {
     "iopub.execute_input": "2025-08-07T14:10:13.521098Z",
     "iopub.status.busy": "2025-08-07T14:10:13.520378Z",
     "iopub.status.idle": "2025-08-07T14:10:13.525545Z",
     "shell.execute_reply": "2025-08-07T14:10:13.524801Z"
    },
    "papermill": {
     "duration": 0.036642,
     "end_time": "2025-08-07T14:10:13.527261",
     "exception": false,
     "start_time": "2025-08-07T14:10:13.490619",
     "status": "completed"
    },
    "tags": []
   },
   "outputs": [],
   "source": [
    "grid_search = RandomizedSearchCV(\n",
    "    RandomForestRegressor(random_state=42), \n",
    "    grid_param,\n",
    "    n_iter=number_of_model_for_randomized_grid,\n",
    "    cv=5,\n",
    "    scoring='neg_mean_squared_error',\n",
    "    n_jobs=-1,\n",
    "    verbose=1,\n",
    "    random_state=42\n",
    ")"
   ]
  },
  {
   "cell_type": "code",
   "execution_count": 99,
   "id": "9c5feec7",
   "metadata": {
    "execution": {
     "iopub.execute_input": "2025-08-07T14:10:13.589083Z",
     "iopub.status.busy": "2025-08-07T14:10:13.588717Z",
     "iopub.status.idle": "2025-08-07T15:06:46.774720Z",
     "shell.execute_reply": "2025-08-07T15:06:46.773660Z"
    },
    "papermill": {
     "duration": 3393.249078,
     "end_time": "2025-08-07T15:06:46.807657",
     "exception": false,
     "start_time": "2025-08-07T14:10:13.558579",
     "status": "completed"
    },
    "tags": []
   },
   "outputs": [
    {
     "name": "stdout",
     "output_type": "stream",
     "text": [
      "Starting hyperparameter tuning...\n",
      "Fitting 5 folds for each of 510 candidates, totalling 2550 fits\n",
      "CPU times: user 35.9 s, sys: 5.32 s, total: 41.2 s\n",
      "Wall time: 56min 33s\n"
     ]
    },
    {
     "data": {
      "text/html": [
       "<style>#sk-container-id-15 {color: black;background-color: white;}#sk-container-id-15 pre{padding: 0;}#sk-container-id-15 div.sk-toggleable {background-color: white;}#sk-container-id-15 label.sk-toggleable__label {cursor: pointer;display: block;width: 100%;margin-bottom: 0;padding: 0.3em;box-sizing: border-box;text-align: center;}#sk-container-id-15 label.sk-toggleable__label-arrow:before {content: \"▸\";float: left;margin-right: 0.25em;color: #696969;}#sk-container-id-15 label.sk-toggleable__label-arrow:hover:before {color: black;}#sk-container-id-15 div.sk-estimator:hover label.sk-toggleable__label-arrow:before {color: black;}#sk-container-id-15 div.sk-toggleable__content {max-height: 0;max-width: 0;overflow: hidden;text-align: left;background-color: #f0f8ff;}#sk-container-id-15 div.sk-toggleable__content pre {margin: 0.2em;color: black;border-radius: 0.25em;background-color: #f0f8ff;}#sk-container-id-15 input.sk-toggleable__control:checked~div.sk-toggleable__content {max-height: 200px;max-width: 100%;overflow: auto;}#sk-container-id-15 input.sk-toggleable__control:checked~label.sk-toggleable__label-arrow:before {content: \"▾\";}#sk-container-id-15 div.sk-estimator input.sk-toggleable__control:checked~label.sk-toggleable__label {background-color: #d4ebff;}#sk-container-id-15 div.sk-label input.sk-toggleable__control:checked~label.sk-toggleable__label {background-color: #d4ebff;}#sk-container-id-15 input.sk-hidden--visually {border: 0;clip: rect(1px 1px 1px 1px);clip: rect(1px, 1px, 1px, 1px);height: 1px;margin: -1px;overflow: hidden;padding: 0;position: absolute;width: 1px;}#sk-container-id-15 div.sk-estimator {font-family: monospace;background-color: #f0f8ff;border: 1px dotted black;border-radius: 0.25em;box-sizing: border-box;margin-bottom: 0.5em;}#sk-container-id-15 div.sk-estimator:hover {background-color: #d4ebff;}#sk-container-id-15 div.sk-parallel-item::after {content: \"\";width: 100%;border-bottom: 1px solid gray;flex-grow: 1;}#sk-container-id-15 div.sk-label:hover label.sk-toggleable__label {background-color: #d4ebff;}#sk-container-id-15 div.sk-serial::before {content: \"\";position: absolute;border-left: 1px solid gray;box-sizing: border-box;top: 0;bottom: 0;left: 50%;z-index: 0;}#sk-container-id-15 div.sk-serial {display: flex;flex-direction: column;align-items: center;background-color: white;padding-right: 0.2em;padding-left: 0.2em;position: relative;}#sk-container-id-15 div.sk-item {position: relative;z-index: 1;}#sk-container-id-15 div.sk-parallel {display: flex;align-items: stretch;justify-content: center;background-color: white;position: relative;}#sk-container-id-15 div.sk-item::before, #sk-container-id-15 div.sk-parallel-item::before {content: \"\";position: absolute;border-left: 1px solid gray;box-sizing: border-box;top: 0;bottom: 0;left: 50%;z-index: -1;}#sk-container-id-15 div.sk-parallel-item {display: flex;flex-direction: column;z-index: 1;position: relative;background-color: white;}#sk-container-id-15 div.sk-parallel-item:first-child::after {align-self: flex-end;width: 50%;}#sk-container-id-15 div.sk-parallel-item:last-child::after {align-self: flex-start;width: 50%;}#sk-container-id-15 div.sk-parallel-item:only-child::after {width: 0;}#sk-container-id-15 div.sk-dashed-wrapped {border: 1px dashed gray;margin: 0 0.4em 0.5em 0.4em;box-sizing: border-box;padding-bottom: 0.4em;background-color: white;}#sk-container-id-15 div.sk-label label {font-family: monospace;font-weight: bold;display: inline-block;line-height: 1.2em;}#sk-container-id-15 div.sk-label-container {text-align: center;}#sk-container-id-15 div.sk-container {/* jupyter's `normalize.less` sets `[hidden] { display: none; }` but bootstrap.min.css set `[hidden] { display: none !important; }` so we also need the `!important` here to be able to override the default hidden behavior on the sphinx rendered scikit-learn.org. See: https://github.com/scikit-learn/scikit-learn/issues/21755 */display: inline-block !important;position: relative;}#sk-container-id-15 div.sk-text-repr-fallback {display: none;}</style><div id=\"sk-container-id-15\" class=\"sk-top-container\"><div class=\"sk-text-repr-fallback\"><pre>RandomizedSearchCV(cv=5, estimator=RandomForestRegressor(random_state=42),\n",
       "                   n_iter=510, n_jobs=-1,\n",
       "                   param_distributions=[{&#x27;bootstrap&#x27;: [True],\n",
       "                                         &#x27;max_depth&#x27;: [None, 10, 20, 30],\n",
       "                                         &#x27;max_features&#x27;: [&#x27;sqrt&#x27;, &#x27;log2&#x27;, None],\n",
       "                                         &#x27;max_samples&#x27;: [None, 0.8, 0.9],\n",
       "                                         &#x27;min_impurity_decrease&#x27;: [0.0, 0.01,\n",
       "                                                                   0.02],\n",
       "                                         &#x27;min_samples_leaf&#x27;: [1, 2, 4, 6],\n",
       "                                         &#x27;min_samples_split&#x27;: [2, 5, 10, 15,\n",
       "                                                               20],\n",
       "                                         &#x27;n_estimators&#x27;: [100, 200, 300]},\n",
       "                                        {&#x27;bootstrap&#x27;: [False],\n",
       "                                         &#x27;max_depth&#x27;: [None, 10, 20, 30],\n",
       "                                         &#x27;max_features&#x27;: [&#x27;sqrt&#x27;, &#x27;log2&#x27;, None],\n",
       "                                         &#x27;min_impurity_decrease&#x27;: [0.0, 0.01,\n",
       "                                                                   0.02],\n",
       "                                         &#x27;min_samples_leaf&#x27;: [1, 2, 4, 6],\n",
       "                                         &#x27;min_samples_split&#x27;: [2, 5, 10, 15,\n",
       "                                                               20],\n",
       "                                         &#x27;n_estimators&#x27;: [100, 200, 300]}],\n",
       "                   random_state=42, scoring=&#x27;neg_mean_squared_error&#x27;,\n",
       "                   verbose=1)</pre><b>In a Jupyter environment, please rerun this cell to show the HTML representation or trust the notebook. <br />On GitHub, the HTML representation is unable to render, please try loading this page with nbviewer.org.</b></div><div class=\"sk-container\" hidden><div class=\"sk-item sk-dashed-wrapped\"><div class=\"sk-label-container\"><div class=\"sk-label sk-toggleable\"><input class=\"sk-toggleable__control sk-hidden--visually\" id=\"sk-estimator-id-23\" type=\"checkbox\" ><label for=\"sk-estimator-id-23\" class=\"sk-toggleable__label sk-toggleable__label-arrow\">RandomizedSearchCV</label><div class=\"sk-toggleable__content\"><pre>RandomizedSearchCV(cv=5, estimator=RandomForestRegressor(random_state=42),\n",
       "                   n_iter=510, n_jobs=-1,\n",
       "                   param_distributions=[{&#x27;bootstrap&#x27;: [True],\n",
       "                                         &#x27;max_depth&#x27;: [None, 10, 20, 30],\n",
       "                                         &#x27;max_features&#x27;: [&#x27;sqrt&#x27;, &#x27;log2&#x27;, None],\n",
       "                                         &#x27;max_samples&#x27;: [None, 0.8, 0.9],\n",
       "                                         &#x27;min_impurity_decrease&#x27;: [0.0, 0.01,\n",
       "                                                                   0.02],\n",
       "                                         &#x27;min_samples_leaf&#x27;: [1, 2, 4, 6],\n",
       "                                         &#x27;min_samples_split&#x27;: [2, 5, 10, 15,\n",
       "                                                               20],\n",
       "                                         &#x27;n_estimators&#x27;: [100, 200, 300]},\n",
       "                                        {&#x27;bootstrap&#x27;: [False],\n",
       "                                         &#x27;max_depth&#x27;: [None, 10, 20, 30],\n",
       "                                         &#x27;max_features&#x27;: [&#x27;sqrt&#x27;, &#x27;log2&#x27;, None],\n",
       "                                         &#x27;min_impurity_decrease&#x27;: [0.0, 0.01,\n",
       "                                                                   0.02],\n",
       "                                         &#x27;min_samples_leaf&#x27;: [1, 2, 4, 6],\n",
       "                                         &#x27;min_samples_split&#x27;: [2, 5, 10, 15,\n",
       "                                                               20],\n",
       "                                         &#x27;n_estimators&#x27;: [100, 200, 300]}],\n",
       "                   random_state=42, scoring=&#x27;neg_mean_squared_error&#x27;,\n",
       "                   verbose=1)</pre></div></div></div><div class=\"sk-parallel\"><div class=\"sk-parallel-item\"><div class=\"sk-item\"><div class=\"sk-label-container\"><div class=\"sk-label sk-toggleable\"><input class=\"sk-toggleable__control sk-hidden--visually\" id=\"sk-estimator-id-24\" type=\"checkbox\" ><label for=\"sk-estimator-id-24\" class=\"sk-toggleable__label sk-toggleable__label-arrow\">estimator: RandomForestRegressor</label><div class=\"sk-toggleable__content\"><pre>RandomForestRegressor(random_state=42)</pre></div></div></div><div class=\"sk-serial\"><div class=\"sk-item\"><div class=\"sk-estimator sk-toggleable\"><input class=\"sk-toggleable__control sk-hidden--visually\" id=\"sk-estimator-id-25\" type=\"checkbox\" ><label for=\"sk-estimator-id-25\" class=\"sk-toggleable__label sk-toggleable__label-arrow\">RandomForestRegressor</label><div class=\"sk-toggleable__content\"><pre>RandomForestRegressor(random_state=42)</pre></div></div></div></div></div></div></div></div></div></div>"
      ],
      "text/plain": [
       "RandomizedSearchCV(cv=5, estimator=RandomForestRegressor(random_state=42),\n",
       "                   n_iter=510, n_jobs=-1,\n",
       "                   param_distributions=[{'bootstrap': [True],\n",
       "                                         'max_depth': [None, 10, 20, 30],\n",
       "                                         'max_features': ['sqrt', 'log2', None],\n",
       "                                         'max_samples': [None, 0.8, 0.9],\n",
       "                                         'min_impurity_decrease': [0.0, 0.01,\n",
       "                                                                   0.02],\n",
       "                                         'min_samples_leaf': [1, 2, 4, 6],\n",
       "                                         'min_samples_split': [2, 5, 10, 15,\n",
       "                                                               20],\n",
       "                                         'n_estimators': [100, 200, 300]},\n",
       "                                        {'bootstrap': [False],\n",
       "                                         'max_depth': [None, 10, 20, 30],\n",
       "                                         'max_features': ['sqrt', 'log2', None],\n",
       "                                         'min_impurity_decrease': [0.0, 0.01,\n",
       "                                                                   0.02],\n",
       "                                         'min_samples_leaf': [1, 2, 4, 6],\n",
       "                                         'min_samples_split': [2, 5, 10, 15,\n",
       "                                                               20],\n",
       "                                         'n_estimators': [100, 200, 300]}],\n",
       "                   random_state=42, scoring='neg_mean_squared_error',\n",
       "                   verbose=1)"
      ]
     },
     "execution_count": 99,
     "metadata": {},
     "output_type": "execute_result"
    }
   ],
   "source": [
    "%%time\n",
    "print(\"Starting hyperparameter tuning...\")\n",
    "grid_search.fit(X_train, y_train)"
   ]
  },
  {
   "cell_type": "code",
   "execution_count": 100,
   "id": "b4faa506",
   "metadata": {
    "execution": {
     "iopub.execute_input": "2025-08-07T15:06:46.868743Z",
     "iopub.status.busy": "2025-08-07T15:06:46.868392Z",
     "iopub.status.idle": "2025-08-07T15:06:46.874795Z",
     "shell.execute_reply": "2025-08-07T15:06:46.873670Z"
    },
    "papermill": {
     "duration": 0.038899,
     "end_time": "2025-08-07T15:06:46.876242",
     "exception": false,
     "start_time": "2025-08-07T15:06:46.837343",
     "status": "completed"
    },
    "tags": []
   },
   "outputs": [
    {
     "name": "stdout",
     "output_type": "stream",
     "text": [
      "TUNING RESULTS\n",
      "==================================================\n",
      "Best Parameters: {'n_estimators': 300, 'min_samples_split': 5, 'min_samples_leaf': 2, 'min_impurity_decrease': 0.0, 'max_samples': 0.8, 'max_features': None, 'max_depth': 20, 'bootstrap': True}\n",
      "Best Cross-Validation Score (Negative MSE): -0.0029268672918425797\n",
      "Best Cross-Validation Score (MSE): 0.0029268672918425797\n",
      "Best Cross-Validation Score (RMSE): 0.05410052949687812\n"
     ]
    }
   ],
   "source": [
    "print(\"TUNING RESULTS\")\n",
    "print(\"=\"*50)\n",
    "print(\"Best Parameters:\", grid_search.best_params_)\n",
    "print(\"Best Cross-Validation Score (Negative MSE):\", grid_search.best_score_)\n",
    "print(\"Best Cross-Validation Score (MSE):\", -grid_search.best_score_)\n",
    "print(\"Best Cross-Validation Score (RMSE):\", math.sqrt(-grid_search.best_score_))"
   ]
  },
  {
   "cell_type": "code",
   "execution_count": 101,
   "id": "bcc2b83d",
   "metadata": {
    "execution": {
     "iopub.execute_input": "2025-08-07T15:06:46.937085Z",
     "iopub.status.busy": "2025-08-07T15:06:46.936782Z",
     "iopub.status.idle": "2025-08-07T15:06:47.045315Z",
     "shell.execute_reply": "2025-08-07T15:06:47.044267Z"
    },
    "papermill": {
     "duration": 0.140666,
     "end_time": "2025-08-07T15:06:47.047146",
     "exception": false,
     "start_time": "2025-08-07T15:06:46.906480",
     "status": "completed"
    },
    "tags": []
   },
   "outputs": [],
   "source": [
    "grid_search_best_model = grid_search.best_estimator_\n",
    "y_pred = grid_search_best_model.predict(X_test)"
   ]
  },
  {
   "cell_type": "code",
   "execution_count": 102,
   "id": "d12b44e6",
   "metadata": {
    "execution": {
     "iopub.execute_input": "2025-08-07T15:06:47.109813Z",
     "iopub.status.busy": "2025-08-07T15:06:47.109399Z",
     "iopub.status.idle": "2025-08-07T15:06:47.117155Z",
     "shell.execute_reply": "2025-08-07T15:06:47.116201Z"
    },
    "papermill": {
     "duration": 0.041264,
     "end_time": "2025-08-07T15:06:47.118772",
     "exception": false,
     "start_time": "2025-08-07T15:06:47.077508",
     "status": "completed"
    },
    "tags": []
   },
   "outputs": [],
   "source": [
    "mse_grid_search = mean_squared_error(y_test, y_pred)\n",
    "mae_grid_search = mean_absolute_error(y_test, y_pred)\n",
    "r2_grid_search = r2_score(y_test, y_pred)\n",
    "rmse_grid_search = math.sqrt(mse_grid_search)"
   ]
  },
  {
   "cell_type": "code",
   "execution_count": 103,
   "id": "056f0630",
   "metadata": {
    "execution": {
     "iopub.execute_input": "2025-08-07T15:06:47.181952Z",
     "iopub.status.busy": "2025-08-07T15:06:47.181610Z",
     "iopub.status.idle": "2025-08-07T15:06:47.186908Z",
     "shell.execute_reply": "2025-08-07T15:06:47.185744Z"
    },
    "papermill": {
     "duration": 0.038342,
     "end_time": "2025-08-07T15:06:47.188352",
     "exception": false,
     "start_time": "2025-08-07T15:06:47.150010",
     "status": "completed"
    },
    "tags": []
   },
   "outputs": [
    {
     "name": "stdout",
     "output_type": "stream",
     "text": [
      "MSE Score: 0.003021214689624342\n",
      "MAE Score: 0.031604014307472485\n",
      "R2 Score: 0.9975203357213324\n",
      "RMSE Score: 0.05496557731548302\n"
     ]
    }
   ],
   "source": [
    "print(\"MSE Score:\", mse_grid_search)\n",
    "print(\"MAE Score:\", mae_grid_search)\n",
    "print(\"R2 Score:\", r2_grid_search)\n",
    "print(\"RMSE Score:\", rmse_grid_search)"
   ]
  },
  {
   "cell_type": "code",
   "execution_count": 104,
   "id": "b734e374",
   "metadata": {
    "execution": {
     "iopub.execute_input": "2025-08-07T15:06:47.251532Z",
     "iopub.status.busy": "2025-08-07T15:06:47.251204Z",
     "iopub.status.idle": "2025-08-07T15:06:47.262397Z",
     "shell.execute_reply": "2025-08-07T15:06:47.261398Z"
    },
    "papermill": {
     "duration": 0.044639,
     "end_time": "2025-08-07T15:06:47.264047",
     "exception": false,
     "start_time": "2025-08-07T15:06:47.219408",
     "status": "completed"
    },
    "tags": []
   },
   "outputs": [
    {
     "name": "stdout",
     "output_type": "stream",
     "text": [
      "❌ Regression model not improved:\n",
      "   Current MSE: 0.003021, Best MSE: 0.002919\n",
      "   Current R²: 0.997520, Best R²: 0.997604\n",
      "   Current Features: 24, Best Features: 27\n"
     ]
    }
   ],
   "source": [
    "regression_params = {\n",
    "    'model_name': model_name_for_saving + \" Tuned\",\n",
    "    'scaler_name': \"StandardScaler\",\n",
    "    'features_list': feature_columns_for_saving,\n",
    "    'target_column': target_name_for_saving,\n",
    "    'mse': mse_grid_search,\n",
    "    'mae': mae_grid_search,\n",
    "    'rmse': rmse_grid_search,\n",
    "    'r2': r2_grid_search,\n",
    "    'parameters' : json.dumps({\n",
    "        \"best_params\": grid_search.best_params_,\n",
    "        \"cv_score\": grid_search.best_score_,\n",
    "        \"all_params\": grid_search_best_model.get_params()\n",
    "    })\n",
    "}\n",
    "save_model_performance_if_better('regression', regression_params)"
   ]
  },
  {
   "cell_type": "markdown",
   "id": "8b18f598",
   "metadata": {
    "papermill": {
     "duration": 0.0323,
     "end_time": "2025-08-07T15:06:47.330560",
     "exception": false,
     "start_time": "2025-08-07T15:06:47.298260",
     "status": "completed"
    },
    "tags": []
   },
   "source": [
    "### Robust Scaler"
   ]
  },
  {
   "cell_type": "code",
   "execution_count": 105,
   "id": "263c95cc",
   "metadata": {
    "execution": {
     "iopub.execute_input": "2025-08-07T15:06:47.392548Z",
     "iopub.status.busy": "2025-08-07T15:06:47.392231Z",
     "iopub.status.idle": "2025-08-07T15:06:47.422713Z",
     "shell.execute_reply": "2025-08-07T15:06:47.421609Z"
    },
    "papermill": {
     "duration": 0.063601,
     "end_time": "2025-08-07T15:06:47.424448",
     "exception": false,
     "start_time": "2025-08-07T15:06:47.360847",
     "status": "completed"
    },
    "tags": []
   },
   "outputs": [],
   "source": [
    "scaler = RobustScaler()\n",
    "X_train = scaler.fit_transform(X_train_raw)\n",
    "X_test = scaler.transform(X_test_raw)"
   ]
  },
  {
   "cell_type": "code",
   "execution_count": 106,
   "id": "5300e7c1",
   "metadata": {
    "execution": {
     "iopub.execute_input": "2025-08-07T15:06:47.490479Z",
     "iopub.status.busy": "2025-08-07T15:06:47.490148Z",
     "iopub.status.idle": "2025-08-07T15:06:47.496931Z",
     "shell.execute_reply": "2025-08-07T15:06:47.496070Z"
    },
    "papermill": {
     "duration": 0.039701,
     "end_time": "2025-08-07T15:06:47.498417",
     "exception": false,
     "start_time": "2025-08-07T15:06:47.458716",
     "status": "completed"
    },
    "tags": []
   },
   "outputs": [
    {
     "data": {
      "text/plain": [
       "array([[ 0.6       , -0.16666667,  0.        , ..., -0.03738547,\n",
       "         1.44008264,  8.87596899],\n",
       "       [ 1.        ,  0.33333333,  1.        , ..., -0.84268652,\n",
       "         0.62603306,  0.        ],\n",
       "       [-0.8       , -1.        ,  0.        , ..., -0.84268652,\n",
       "         0.        ,  0.        ],\n",
       "       ...,\n",
       "       [ 0.4       , -0.16666667,  0.        , ...,  0.5899051 ,\n",
       "         0.6322314 ,  0.75193798],\n",
       "       [-1.        ,  0.75      ,  0.        , ..., -0.84268652,\n",
       "         0.        ,  0.        ],\n",
       "       [ 0.6       , -0.33333333,  0.        , ...,  0.61755563,\n",
       "         0.59917355,  7.5       ]])"
      ]
     },
     "execution_count": 106,
     "metadata": {},
     "output_type": "execute_result"
    }
   ],
   "source": [
    "X_train"
   ]
  },
  {
   "cell_type": "code",
   "execution_count": 107,
   "id": "50bbe7f8",
   "metadata": {
    "execution": {
     "iopub.execute_input": "2025-08-07T15:06:47.560760Z",
     "iopub.status.busy": "2025-08-07T15:06:47.560317Z",
     "iopub.status.idle": "2025-08-07T15:06:47.567564Z",
     "shell.execute_reply": "2025-08-07T15:06:47.566580Z"
    },
    "papermill": {
     "duration": 0.040106,
     "end_time": "2025-08-07T15:06:47.569192",
     "exception": false,
     "start_time": "2025-08-07T15:06:47.529086",
     "status": "completed"
    },
    "tags": []
   },
   "outputs": [
    {
     "data": {
      "text/plain": [
       "array([[ 4.00000000e-01,  8.33333333e-01,  0.00000000e+00, ...,\n",
       "         6.20009817e-01,  0.00000000e+00,  0.00000000e+00],\n",
       "       [ 0.00000000e+00,  2.50000000e-01,  1.00000000e+00, ...,\n",
       "         7.40592277e-01,  1.52892562e-01,  0.00000000e+00],\n",
       "       [ 4.00000000e-01, -5.83333333e-01,  0.00000000e+00, ...,\n",
       "         7.82804319e-01,  0.00000000e+00,  0.00000000e+00],\n",
       "       ...,\n",
       "       [-8.00000000e-01,  4.16666667e-01,  1.00000000e+00, ...,\n",
       "        -8.40559555e-01,  4.19421488e-01,  0.00000000e+00],\n",
       "       [-4.00000000e-01,  6.66666667e-01,  0.00000000e+00, ...,\n",
       "        -8.42686518e-01,  0.00000000e+00,  6.67829457e+00],\n",
       "       [ 0.00000000e+00,  8.33333333e-01,  0.00000000e+00, ...,\n",
       "         1.71793194e-03,  0.00000000e+00,  0.00000000e+00]])"
      ]
     },
     "execution_count": 107,
     "metadata": {},
     "output_type": "execute_result"
    }
   ],
   "source": [
    "X_test"
   ]
  },
  {
   "cell_type": "markdown",
   "id": "21134a72",
   "metadata": {
    "papermill": {
     "duration": 0.030615,
     "end_time": "2025-08-07T15:06:47.630775",
     "exception": false,
     "start_time": "2025-08-07T15:06:47.600160",
     "status": "completed"
    },
    "tags": []
   },
   "source": [
    "#### Default Parameters"
   ]
  },
  {
   "cell_type": "code",
   "execution_count": 108,
   "id": "2b5cbcfb",
   "metadata": {
    "execution": {
     "iopub.execute_input": "2025-08-07T15:06:47.692413Z",
     "iopub.status.busy": "2025-08-07T15:06:47.692074Z",
     "iopub.status.idle": "2025-08-07T15:06:47.699354Z",
     "shell.execute_reply": "2025-08-07T15:06:47.698356Z"
    },
    "papermill": {
     "duration": 0.039901,
     "end_time": "2025-08-07T15:06:47.700886",
     "exception": false,
     "start_time": "2025-08-07T15:06:47.660985",
     "status": "completed"
    },
    "tags": []
   },
   "outputs": [
    {
     "data": {
      "text/html": [
       "<style>#sk-container-id-16 {color: black;background-color: white;}#sk-container-id-16 pre{padding: 0;}#sk-container-id-16 div.sk-toggleable {background-color: white;}#sk-container-id-16 label.sk-toggleable__label {cursor: pointer;display: block;width: 100%;margin-bottom: 0;padding: 0.3em;box-sizing: border-box;text-align: center;}#sk-container-id-16 label.sk-toggleable__label-arrow:before {content: \"▸\";float: left;margin-right: 0.25em;color: #696969;}#sk-container-id-16 label.sk-toggleable__label-arrow:hover:before {color: black;}#sk-container-id-16 div.sk-estimator:hover label.sk-toggleable__label-arrow:before {color: black;}#sk-container-id-16 div.sk-toggleable__content {max-height: 0;max-width: 0;overflow: hidden;text-align: left;background-color: #f0f8ff;}#sk-container-id-16 div.sk-toggleable__content pre {margin: 0.2em;color: black;border-radius: 0.25em;background-color: #f0f8ff;}#sk-container-id-16 input.sk-toggleable__control:checked~div.sk-toggleable__content {max-height: 200px;max-width: 100%;overflow: auto;}#sk-container-id-16 input.sk-toggleable__control:checked~label.sk-toggleable__label-arrow:before {content: \"▾\";}#sk-container-id-16 div.sk-estimator input.sk-toggleable__control:checked~label.sk-toggleable__label {background-color: #d4ebff;}#sk-container-id-16 div.sk-label input.sk-toggleable__control:checked~label.sk-toggleable__label {background-color: #d4ebff;}#sk-container-id-16 input.sk-hidden--visually {border: 0;clip: rect(1px 1px 1px 1px);clip: rect(1px, 1px, 1px, 1px);height: 1px;margin: -1px;overflow: hidden;padding: 0;position: absolute;width: 1px;}#sk-container-id-16 div.sk-estimator {font-family: monospace;background-color: #f0f8ff;border: 1px dotted black;border-radius: 0.25em;box-sizing: border-box;margin-bottom: 0.5em;}#sk-container-id-16 div.sk-estimator:hover {background-color: #d4ebff;}#sk-container-id-16 div.sk-parallel-item::after {content: \"\";width: 100%;border-bottom: 1px solid gray;flex-grow: 1;}#sk-container-id-16 div.sk-label:hover label.sk-toggleable__label {background-color: #d4ebff;}#sk-container-id-16 div.sk-serial::before {content: \"\";position: absolute;border-left: 1px solid gray;box-sizing: border-box;top: 0;bottom: 0;left: 50%;z-index: 0;}#sk-container-id-16 div.sk-serial {display: flex;flex-direction: column;align-items: center;background-color: white;padding-right: 0.2em;padding-left: 0.2em;position: relative;}#sk-container-id-16 div.sk-item {position: relative;z-index: 1;}#sk-container-id-16 div.sk-parallel {display: flex;align-items: stretch;justify-content: center;background-color: white;position: relative;}#sk-container-id-16 div.sk-item::before, #sk-container-id-16 div.sk-parallel-item::before {content: \"\";position: absolute;border-left: 1px solid gray;box-sizing: border-box;top: 0;bottom: 0;left: 50%;z-index: -1;}#sk-container-id-16 div.sk-parallel-item {display: flex;flex-direction: column;z-index: 1;position: relative;background-color: white;}#sk-container-id-16 div.sk-parallel-item:first-child::after {align-self: flex-end;width: 50%;}#sk-container-id-16 div.sk-parallel-item:last-child::after {align-self: flex-start;width: 50%;}#sk-container-id-16 div.sk-parallel-item:only-child::after {width: 0;}#sk-container-id-16 div.sk-dashed-wrapped {border: 1px dashed gray;margin: 0 0.4em 0.5em 0.4em;box-sizing: border-box;padding-bottom: 0.4em;background-color: white;}#sk-container-id-16 div.sk-label label {font-family: monospace;font-weight: bold;display: inline-block;line-height: 1.2em;}#sk-container-id-16 div.sk-label-container {text-align: center;}#sk-container-id-16 div.sk-container {/* jupyter's `normalize.less` sets `[hidden] { display: none; }` but bootstrap.min.css set `[hidden] { display: none !important; }` so we also need the `!important` here to be able to override the default hidden behavior on the sphinx rendered scikit-learn.org. See: https://github.com/scikit-learn/scikit-learn/issues/21755 */display: inline-block !important;position: relative;}#sk-container-id-16 div.sk-text-repr-fallback {display: none;}</style><div id=\"sk-container-id-16\" class=\"sk-top-container\"><div class=\"sk-text-repr-fallback\"><pre>RandomForestRegressor(random_state=42)</pre><b>In a Jupyter environment, please rerun this cell to show the HTML representation or trust the notebook. <br />On GitHub, the HTML representation is unable to render, please try loading this page with nbviewer.org.</b></div><div class=\"sk-container\" hidden><div class=\"sk-item\"><div class=\"sk-estimator sk-toggleable\"><input class=\"sk-toggleable__control sk-hidden--visually\" id=\"sk-estimator-id-26\" type=\"checkbox\" checked><label for=\"sk-estimator-id-26\" class=\"sk-toggleable__label sk-toggleable__label-arrow\">RandomForestRegressor</label><div class=\"sk-toggleable__content\"><pre>RandomForestRegressor(random_state=42)</pre></div></div></div></div></div>"
      ],
      "text/plain": [
       "RandomForestRegressor(random_state=42)"
      ]
     },
     "execution_count": 108,
     "metadata": {},
     "output_type": "execute_result"
    }
   ],
   "source": [
    "training_model = RandomForestRegressor(random_state=42)\n",
    "training_model"
   ]
  },
  {
   "cell_type": "code",
   "execution_count": 109,
   "id": "75742d2b",
   "metadata": {
    "execution": {
     "iopub.execute_input": "2025-08-07T15:06:47.763331Z",
     "iopub.status.busy": "2025-08-07T15:06:47.762448Z",
     "iopub.status.idle": "2025-08-07T15:06:55.550624Z",
     "shell.execute_reply": "2025-08-07T15:06:55.549609Z"
    },
    "papermill": {
     "duration": 7.820769,
     "end_time": "2025-08-07T15:06:55.552107",
     "exception": false,
     "start_time": "2025-08-07T15:06:47.731338",
     "status": "completed"
    },
    "tags": []
   },
   "outputs": [
    {
     "name": "stdout",
     "output_type": "stream",
     "text": [
      "CPU times: user 7.77 s, sys: 0 ns, total: 7.77 s\n",
      "Wall time: 7.78 s\n"
     ]
    },
    {
     "data": {
      "text/html": [
       "<style>#sk-container-id-17 {color: black;background-color: white;}#sk-container-id-17 pre{padding: 0;}#sk-container-id-17 div.sk-toggleable {background-color: white;}#sk-container-id-17 label.sk-toggleable__label {cursor: pointer;display: block;width: 100%;margin-bottom: 0;padding: 0.3em;box-sizing: border-box;text-align: center;}#sk-container-id-17 label.sk-toggleable__label-arrow:before {content: \"▸\";float: left;margin-right: 0.25em;color: #696969;}#sk-container-id-17 label.sk-toggleable__label-arrow:hover:before {color: black;}#sk-container-id-17 div.sk-estimator:hover label.sk-toggleable__label-arrow:before {color: black;}#sk-container-id-17 div.sk-toggleable__content {max-height: 0;max-width: 0;overflow: hidden;text-align: left;background-color: #f0f8ff;}#sk-container-id-17 div.sk-toggleable__content pre {margin: 0.2em;color: black;border-radius: 0.25em;background-color: #f0f8ff;}#sk-container-id-17 input.sk-toggleable__control:checked~div.sk-toggleable__content {max-height: 200px;max-width: 100%;overflow: auto;}#sk-container-id-17 input.sk-toggleable__control:checked~label.sk-toggleable__label-arrow:before {content: \"▾\";}#sk-container-id-17 div.sk-estimator input.sk-toggleable__control:checked~label.sk-toggleable__label {background-color: #d4ebff;}#sk-container-id-17 div.sk-label input.sk-toggleable__control:checked~label.sk-toggleable__label {background-color: #d4ebff;}#sk-container-id-17 input.sk-hidden--visually {border: 0;clip: rect(1px 1px 1px 1px);clip: rect(1px, 1px, 1px, 1px);height: 1px;margin: -1px;overflow: hidden;padding: 0;position: absolute;width: 1px;}#sk-container-id-17 div.sk-estimator {font-family: monospace;background-color: #f0f8ff;border: 1px dotted black;border-radius: 0.25em;box-sizing: border-box;margin-bottom: 0.5em;}#sk-container-id-17 div.sk-estimator:hover {background-color: #d4ebff;}#sk-container-id-17 div.sk-parallel-item::after {content: \"\";width: 100%;border-bottom: 1px solid gray;flex-grow: 1;}#sk-container-id-17 div.sk-label:hover label.sk-toggleable__label {background-color: #d4ebff;}#sk-container-id-17 div.sk-serial::before {content: \"\";position: absolute;border-left: 1px solid gray;box-sizing: border-box;top: 0;bottom: 0;left: 50%;z-index: 0;}#sk-container-id-17 div.sk-serial {display: flex;flex-direction: column;align-items: center;background-color: white;padding-right: 0.2em;padding-left: 0.2em;position: relative;}#sk-container-id-17 div.sk-item {position: relative;z-index: 1;}#sk-container-id-17 div.sk-parallel {display: flex;align-items: stretch;justify-content: center;background-color: white;position: relative;}#sk-container-id-17 div.sk-item::before, #sk-container-id-17 div.sk-parallel-item::before {content: \"\";position: absolute;border-left: 1px solid gray;box-sizing: border-box;top: 0;bottom: 0;left: 50%;z-index: -1;}#sk-container-id-17 div.sk-parallel-item {display: flex;flex-direction: column;z-index: 1;position: relative;background-color: white;}#sk-container-id-17 div.sk-parallel-item:first-child::after {align-self: flex-end;width: 50%;}#sk-container-id-17 div.sk-parallel-item:last-child::after {align-self: flex-start;width: 50%;}#sk-container-id-17 div.sk-parallel-item:only-child::after {width: 0;}#sk-container-id-17 div.sk-dashed-wrapped {border: 1px dashed gray;margin: 0 0.4em 0.5em 0.4em;box-sizing: border-box;padding-bottom: 0.4em;background-color: white;}#sk-container-id-17 div.sk-label label {font-family: monospace;font-weight: bold;display: inline-block;line-height: 1.2em;}#sk-container-id-17 div.sk-label-container {text-align: center;}#sk-container-id-17 div.sk-container {/* jupyter's `normalize.less` sets `[hidden] { display: none; }` but bootstrap.min.css set `[hidden] { display: none !important; }` so we also need the `!important` here to be able to override the default hidden behavior on the sphinx rendered scikit-learn.org. See: https://github.com/scikit-learn/scikit-learn/issues/21755 */display: inline-block !important;position: relative;}#sk-container-id-17 div.sk-text-repr-fallback {display: none;}</style><div id=\"sk-container-id-17\" class=\"sk-top-container\"><div class=\"sk-text-repr-fallback\"><pre>RandomForestRegressor(random_state=42)</pre><b>In a Jupyter environment, please rerun this cell to show the HTML representation or trust the notebook. <br />On GitHub, the HTML representation is unable to render, please try loading this page with nbviewer.org.</b></div><div class=\"sk-container\" hidden><div class=\"sk-item\"><div class=\"sk-estimator sk-toggleable\"><input class=\"sk-toggleable__control sk-hidden--visually\" id=\"sk-estimator-id-27\" type=\"checkbox\" checked><label for=\"sk-estimator-id-27\" class=\"sk-toggleable__label sk-toggleable__label-arrow\">RandomForestRegressor</label><div class=\"sk-toggleable__content\"><pre>RandomForestRegressor(random_state=42)</pre></div></div></div></div></div>"
      ],
      "text/plain": [
       "RandomForestRegressor(random_state=42)"
      ]
     },
     "execution_count": 109,
     "metadata": {},
     "output_type": "execute_result"
    }
   ],
   "source": [
    "%%time\n",
    "training_model.fit(X_train, y_train)"
   ]
  },
  {
   "cell_type": "code",
   "execution_count": 110,
   "id": "b83d3a68",
   "metadata": {
    "execution": {
     "iopub.execute_input": "2025-08-07T15:06:55.616044Z",
     "iopub.status.busy": "2025-08-07T15:06:55.615635Z",
     "iopub.status.idle": "2025-08-07T15:06:55.670667Z",
     "shell.execute_reply": "2025-08-07T15:06:55.669762Z"
    },
    "papermill": {
     "duration": 0.08851,
     "end_time": "2025-08-07T15:06:55.672294",
     "exception": false,
     "start_time": "2025-08-07T15:06:55.583784",
     "status": "completed"
    },
    "tags": []
   },
   "outputs": [
    {
     "data": {
      "text/plain": [
       "array([0.    , 0.2674, 0.    , ..., 0.8214, 0.    , 0.    ])"
      ]
     },
     "execution_count": 110,
     "metadata": {},
     "output_type": "execute_result"
    }
   ],
   "source": [
    "y_pred = training_model.predict(X_test)\n",
    "y_pred"
   ]
  },
  {
   "cell_type": "code",
   "execution_count": 111,
   "id": "4562dfbc",
   "metadata": {
    "execution": {
     "iopub.execute_input": "2025-08-07T15:06:55.736443Z",
     "iopub.status.busy": "2025-08-07T15:06:55.736132Z",
     "iopub.status.idle": "2025-08-07T15:06:55.743783Z",
     "shell.execute_reply": "2025-08-07T15:06:55.742977Z"
    },
    "papermill": {
     "duration": 0.04206,
     "end_time": "2025-08-07T15:06:55.745381",
     "exception": false,
     "start_time": "2025-08-07T15:06:55.703321",
     "status": "completed"
    },
    "tags": []
   },
   "outputs": [
    {
     "data": {
      "text/plain": [
       "5158     0.00\n",
       "3831     0.36\n",
       "5117     0.00\n",
       "6326     2.70\n",
       "11359    0.49\n",
       "         ... \n",
       "10290    0.30\n",
       "13995    0.00\n",
       "9665     0.90\n",
       "2276     0.00\n",
       "4174     0.00\n",
       "Name: SolarEnergy, Length: 2924, dtype: float64"
      ]
     },
     "execution_count": 111,
     "metadata": {},
     "output_type": "execute_result"
    }
   ],
   "source": [
    "y_test"
   ]
  },
  {
   "cell_type": "code",
   "execution_count": 112,
   "id": "ed7a9819",
   "metadata": {
    "execution": {
     "iopub.execute_input": "2025-08-07T15:06:55.817544Z",
     "iopub.status.busy": "2025-08-07T15:06:55.817242Z",
     "iopub.status.idle": "2025-08-07T15:06:55.825227Z",
     "shell.execute_reply": "2025-08-07T15:06:55.823803Z"
    },
    "papermill": {
     "duration": 0.047566,
     "end_time": "2025-08-07T15:06:55.827032",
     "exception": false,
     "start_time": "2025-08-07T15:06:55.779466",
     "status": "completed"
    },
    "tags": []
   },
   "outputs": [],
   "source": [
    "mse = mean_squared_error(y_test, y_pred)\n",
    "mae = mean_absolute_error(y_test, y_pred)\n",
    "r2 = r2_score(y_test, y_pred)\n",
    "rmse = math.sqrt(mse)"
   ]
  },
  {
   "cell_type": "code",
   "execution_count": 113,
   "id": "8219cabd",
   "metadata": {
    "execution": {
     "iopub.execute_input": "2025-08-07T15:06:55.894609Z",
     "iopub.status.busy": "2025-08-07T15:06:55.894251Z",
     "iopub.status.idle": "2025-08-07T15:06:55.900119Z",
     "shell.execute_reply": "2025-08-07T15:06:55.898979Z"
    },
    "papermill": {
     "duration": 0.040186,
     "end_time": "2025-08-07T15:06:55.902047",
     "exception": false,
     "start_time": "2025-08-07T15:06:55.861861",
     "status": "completed"
    },
    "tags": []
   },
   "outputs": [
    {
     "name": "stdout",
     "output_type": "stream",
     "text": [
      "MSE Score: 0.003023012308481533\n",
      "MAE Score: 0.03140660054719564\n",
      "R2 Score: 0.9975188603242736\n",
      "RMSE Score: 0.05498192710774635\n"
     ]
    }
   ],
   "source": [
    "print(\"MSE Score:\", mse)\n",
    "print(\"MAE Score:\", mae)\n",
    "print(\"R2 Score:\", r2)\n",
    "print(\"RMSE Score:\", rmse)"
   ]
  },
  {
   "cell_type": "code",
   "execution_count": 114,
   "id": "f6addd7b",
   "metadata": {
    "execution": {
     "iopub.execute_input": "2025-08-07T15:06:55.966596Z",
     "iopub.status.busy": "2025-08-07T15:06:55.966278Z",
     "iopub.status.idle": "2025-08-07T15:06:55.976919Z",
     "shell.execute_reply": "2025-08-07T15:06:55.975983Z"
    },
    "papermill": {
     "duration": 0.045006,
     "end_time": "2025-08-07T15:06:55.978394",
     "exception": false,
     "start_time": "2025-08-07T15:06:55.933388",
     "status": "completed"
    },
    "tags": []
   },
   "outputs": [
    {
     "name": "stdout",
     "output_type": "stream",
     "text": [
      "❌ Regression model not improved:\n",
      "   Current MSE: 0.003023, Best MSE: 0.002912\n",
      "   Current R²: 0.997519, Best R²: 0.997610\n",
      "   Current Features: 24, Best Features: 27\n"
     ]
    }
   ],
   "source": [
    "regression_params = {\n",
    "    'model_name': model_name_for_saving,\n",
    "    'scaler_name': \"RobustScaler\",\n",
    "    'features_list': feature_columns_for_saving,\n",
    "    'target_column': target_name_for_saving,\n",
    "    'mse': mse,\n",
    "    'mae': mae,\n",
    "    'rmse': rmse,\n",
    "    'r2': r2,\n",
    "    'parameters': json.dumps(training_model.get_params())\n",
    "}\n",
    "save_model_performance_if_better('regression', regression_params)"
   ]
  },
  {
   "cell_type": "markdown",
   "id": "61ef1d52",
   "metadata": {
    "papermill": {
     "duration": 0.03036,
     "end_time": "2025-08-07T15:06:56.040664",
     "exception": false,
     "start_time": "2025-08-07T15:06:56.010304",
     "status": "completed"
    },
    "tags": []
   },
   "source": [
    "#### Tuning with Randomized Grid Search"
   ]
  },
  {
   "cell_type": "code",
   "execution_count": 115,
   "id": "477362ab",
   "metadata": {
    "execution": {
     "iopub.execute_input": "2025-08-07T15:06:56.103359Z",
     "iopub.status.busy": "2025-08-07T15:06:56.103044Z",
     "iopub.status.idle": "2025-08-07T15:06:56.108863Z",
     "shell.execute_reply": "2025-08-07T15:06:56.107792Z"
    },
    "papermill": {
     "duration": 0.039361,
     "end_time": "2025-08-07T15:06:56.110502",
     "exception": false,
     "start_time": "2025-08-07T15:06:56.071141",
     "status": "completed"
    },
    "tags": []
   },
   "outputs": [],
   "source": [
    "grid_search = RandomizedSearchCV(\n",
    "    RandomForestRegressor(random_state=42), \n",
    "    grid_param,\n",
    "    n_iter=number_of_model_for_randomized_grid,\n",
    "    cv=5,\n",
    "    scoring='neg_mean_squared_error',\n",
    "    n_jobs=-1,\n",
    "    verbose=1,\n",
    "    random_state=42\n",
    ")"
   ]
  },
  {
   "cell_type": "code",
   "execution_count": 116,
   "id": "ef07c4ba",
   "metadata": {
    "execution": {
     "iopub.execute_input": "2025-08-07T15:06:56.176037Z",
     "iopub.status.busy": "2025-08-07T15:06:56.175733Z",
     "iopub.status.idle": "2025-08-07T16:03:38.766790Z",
     "shell.execute_reply": "2025-08-07T16:03:38.765790Z"
    },
    "papermill": {
     "duration": 3402.656306,
     "end_time": "2025-08-07T16:03:38.798874",
     "exception": false,
     "start_time": "2025-08-07T15:06:56.142568",
     "status": "completed"
    },
    "tags": []
   },
   "outputs": [
    {
     "name": "stdout",
     "output_type": "stream",
     "text": [
      "Starting hyperparameter tuning...\n",
      "Fitting 5 folds for each of 510 candidates, totalling 2550 fits\n",
      "CPU times: user 36.3 s, sys: 5.43 s, total: 41.7 s\n",
      "Wall time: 56min 42s\n"
     ]
    },
    {
     "data": {
      "text/html": [
       "<style>#sk-container-id-18 {color: black;background-color: white;}#sk-container-id-18 pre{padding: 0;}#sk-container-id-18 div.sk-toggleable {background-color: white;}#sk-container-id-18 label.sk-toggleable__label {cursor: pointer;display: block;width: 100%;margin-bottom: 0;padding: 0.3em;box-sizing: border-box;text-align: center;}#sk-container-id-18 label.sk-toggleable__label-arrow:before {content: \"▸\";float: left;margin-right: 0.25em;color: #696969;}#sk-container-id-18 label.sk-toggleable__label-arrow:hover:before {color: black;}#sk-container-id-18 div.sk-estimator:hover label.sk-toggleable__label-arrow:before {color: black;}#sk-container-id-18 div.sk-toggleable__content {max-height: 0;max-width: 0;overflow: hidden;text-align: left;background-color: #f0f8ff;}#sk-container-id-18 div.sk-toggleable__content pre {margin: 0.2em;color: black;border-radius: 0.25em;background-color: #f0f8ff;}#sk-container-id-18 input.sk-toggleable__control:checked~div.sk-toggleable__content {max-height: 200px;max-width: 100%;overflow: auto;}#sk-container-id-18 input.sk-toggleable__control:checked~label.sk-toggleable__label-arrow:before {content: \"▾\";}#sk-container-id-18 div.sk-estimator input.sk-toggleable__control:checked~label.sk-toggleable__label {background-color: #d4ebff;}#sk-container-id-18 div.sk-label input.sk-toggleable__control:checked~label.sk-toggleable__label {background-color: #d4ebff;}#sk-container-id-18 input.sk-hidden--visually {border: 0;clip: rect(1px 1px 1px 1px);clip: rect(1px, 1px, 1px, 1px);height: 1px;margin: -1px;overflow: hidden;padding: 0;position: absolute;width: 1px;}#sk-container-id-18 div.sk-estimator {font-family: monospace;background-color: #f0f8ff;border: 1px dotted black;border-radius: 0.25em;box-sizing: border-box;margin-bottom: 0.5em;}#sk-container-id-18 div.sk-estimator:hover {background-color: #d4ebff;}#sk-container-id-18 div.sk-parallel-item::after {content: \"\";width: 100%;border-bottom: 1px solid gray;flex-grow: 1;}#sk-container-id-18 div.sk-label:hover label.sk-toggleable__label {background-color: #d4ebff;}#sk-container-id-18 div.sk-serial::before {content: \"\";position: absolute;border-left: 1px solid gray;box-sizing: border-box;top: 0;bottom: 0;left: 50%;z-index: 0;}#sk-container-id-18 div.sk-serial {display: flex;flex-direction: column;align-items: center;background-color: white;padding-right: 0.2em;padding-left: 0.2em;position: relative;}#sk-container-id-18 div.sk-item {position: relative;z-index: 1;}#sk-container-id-18 div.sk-parallel {display: flex;align-items: stretch;justify-content: center;background-color: white;position: relative;}#sk-container-id-18 div.sk-item::before, #sk-container-id-18 div.sk-parallel-item::before {content: \"\";position: absolute;border-left: 1px solid gray;box-sizing: border-box;top: 0;bottom: 0;left: 50%;z-index: -1;}#sk-container-id-18 div.sk-parallel-item {display: flex;flex-direction: column;z-index: 1;position: relative;background-color: white;}#sk-container-id-18 div.sk-parallel-item:first-child::after {align-self: flex-end;width: 50%;}#sk-container-id-18 div.sk-parallel-item:last-child::after {align-self: flex-start;width: 50%;}#sk-container-id-18 div.sk-parallel-item:only-child::after {width: 0;}#sk-container-id-18 div.sk-dashed-wrapped {border: 1px dashed gray;margin: 0 0.4em 0.5em 0.4em;box-sizing: border-box;padding-bottom: 0.4em;background-color: white;}#sk-container-id-18 div.sk-label label {font-family: monospace;font-weight: bold;display: inline-block;line-height: 1.2em;}#sk-container-id-18 div.sk-label-container {text-align: center;}#sk-container-id-18 div.sk-container {/* jupyter's `normalize.less` sets `[hidden] { display: none; }` but bootstrap.min.css set `[hidden] { display: none !important; }` so we also need the `!important` here to be able to override the default hidden behavior on the sphinx rendered scikit-learn.org. See: https://github.com/scikit-learn/scikit-learn/issues/21755 */display: inline-block !important;position: relative;}#sk-container-id-18 div.sk-text-repr-fallback {display: none;}</style><div id=\"sk-container-id-18\" class=\"sk-top-container\"><div class=\"sk-text-repr-fallback\"><pre>RandomizedSearchCV(cv=5, estimator=RandomForestRegressor(random_state=42),\n",
       "                   n_iter=510, n_jobs=-1,\n",
       "                   param_distributions=[{&#x27;bootstrap&#x27;: [True],\n",
       "                                         &#x27;max_depth&#x27;: [None, 10, 20, 30],\n",
       "                                         &#x27;max_features&#x27;: [&#x27;sqrt&#x27;, &#x27;log2&#x27;, None],\n",
       "                                         &#x27;max_samples&#x27;: [None, 0.8, 0.9],\n",
       "                                         &#x27;min_impurity_decrease&#x27;: [0.0, 0.01,\n",
       "                                                                   0.02],\n",
       "                                         &#x27;min_samples_leaf&#x27;: [1, 2, 4, 6],\n",
       "                                         &#x27;min_samples_split&#x27;: [2, 5, 10, 15,\n",
       "                                                               20],\n",
       "                                         &#x27;n_estimators&#x27;: [100, 200, 300]},\n",
       "                                        {&#x27;bootstrap&#x27;: [False],\n",
       "                                         &#x27;max_depth&#x27;: [None, 10, 20, 30],\n",
       "                                         &#x27;max_features&#x27;: [&#x27;sqrt&#x27;, &#x27;log2&#x27;, None],\n",
       "                                         &#x27;min_impurity_decrease&#x27;: [0.0, 0.01,\n",
       "                                                                   0.02],\n",
       "                                         &#x27;min_samples_leaf&#x27;: [1, 2, 4, 6],\n",
       "                                         &#x27;min_samples_split&#x27;: [2, 5, 10, 15,\n",
       "                                                               20],\n",
       "                                         &#x27;n_estimators&#x27;: [100, 200, 300]}],\n",
       "                   random_state=42, scoring=&#x27;neg_mean_squared_error&#x27;,\n",
       "                   verbose=1)</pre><b>In a Jupyter environment, please rerun this cell to show the HTML representation or trust the notebook. <br />On GitHub, the HTML representation is unable to render, please try loading this page with nbviewer.org.</b></div><div class=\"sk-container\" hidden><div class=\"sk-item sk-dashed-wrapped\"><div class=\"sk-label-container\"><div class=\"sk-label sk-toggleable\"><input class=\"sk-toggleable__control sk-hidden--visually\" id=\"sk-estimator-id-28\" type=\"checkbox\" ><label for=\"sk-estimator-id-28\" class=\"sk-toggleable__label sk-toggleable__label-arrow\">RandomizedSearchCV</label><div class=\"sk-toggleable__content\"><pre>RandomizedSearchCV(cv=5, estimator=RandomForestRegressor(random_state=42),\n",
       "                   n_iter=510, n_jobs=-1,\n",
       "                   param_distributions=[{&#x27;bootstrap&#x27;: [True],\n",
       "                                         &#x27;max_depth&#x27;: [None, 10, 20, 30],\n",
       "                                         &#x27;max_features&#x27;: [&#x27;sqrt&#x27;, &#x27;log2&#x27;, None],\n",
       "                                         &#x27;max_samples&#x27;: [None, 0.8, 0.9],\n",
       "                                         &#x27;min_impurity_decrease&#x27;: [0.0, 0.01,\n",
       "                                                                   0.02],\n",
       "                                         &#x27;min_samples_leaf&#x27;: [1, 2, 4, 6],\n",
       "                                         &#x27;min_samples_split&#x27;: [2, 5, 10, 15,\n",
       "                                                               20],\n",
       "                                         &#x27;n_estimators&#x27;: [100, 200, 300]},\n",
       "                                        {&#x27;bootstrap&#x27;: [False],\n",
       "                                         &#x27;max_depth&#x27;: [None, 10, 20, 30],\n",
       "                                         &#x27;max_features&#x27;: [&#x27;sqrt&#x27;, &#x27;log2&#x27;, None],\n",
       "                                         &#x27;min_impurity_decrease&#x27;: [0.0, 0.01,\n",
       "                                                                   0.02],\n",
       "                                         &#x27;min_samples_leaf&#x27;: [1, 2, 4, 6],\n",
       "                                         &#x27;min_samples_split&#x27;: [2, 5, 10, 15,\n",
       "                                                               20],\n",
       "                                         &#x27;n_estimators&#x27;: [100, 200, 300]}],\n",
       "                   random_state=42, scoring=&#x27;neg_mean_squared_error&#x27;,\n",
       "                   verbose=1)</pre></div></div></div><div class=\"sk-parallel\"><div class=\"sk-parallel-item\"><div class=\"sk-item\"><div class=\"sk-label-container\"><div class=\"sk-label sk-toggleable\"><input class=\"sk-toggleable__control sk-hidden--visually\" id=\"sk-estimator-id-29\" type=\"checkbox\" ><label for=\"sk-estimator-id-29\" class=\"sk-toggleable__label sk-toggleable__label-arrow\">estimator: RandomForestRegressor</label><div class=\"sk-toggleable__content\"><pre>RandomForestRegressor(random_state=42)</pre></div></div></div><div class=\"sk-serial\"><div class=\"sk-item\"><div class=\"sk-estimator sk-toggleable\"><input class=\"sk-toggleable__control sk-hidden--visually\" id=\"sk-estimator-id-30\" type=\"checkbox\" ><label for=\"sk-estimator-id-30\" class=\"sk-toggleable__label sk-toggleable__label-arrow\">RandomForestRegressor</label><div class=\"sk-toggleable__content\"><pre>RandomForestRegressor(random_state=42)</pre></div></div></div></div></div></div></div></div></div></div>"
      ],
      "text/plain": [
       "RandomizedSearchCV(cv=5, estimator=RandomForestRegressor(random_state=42),\n",
       "                   n_iter=510, n_jobs=-1,\n",
       "                   param_distributions=[{'bootstrap': [True],\n",
       "                                         'max_depth': [None, 10, 20, 30],\n",
       "                                         'max_features': ['sqrt', 'log2', None],\n",
       "                                         'max_samples': [None, 0.8, 0.9],\n",
       "                                         'min_impurity_decrease': [0.0, 0.01,\n",
       "                                                                   0.02],\n",
       "                                         'min_samples_leaf': [1, 2, 4, 6],\n",
       "                                         'min_samples_split': [2, 5, 10, 15,\n",
       "                                                               20],\n",
       "                                         'n_estimators': [100, 200, 300]},\n",
       "                                        {'bootstrap': [False],\n",
       "                                         'max_depth': [None, 10, 20, 30],\n",
       "                                         'max_features': ['sqrt', 'log2', None],\n",
       "                                         'min_impurity_decrease': [0.0, 0.01,\n",
       "                                                                   0.02],\n",
       "                                         'min_samples_leaf': [1, 2, 4, 6],\n",
       "                                         'min_samples_split': [2, 5, 10, 15,\n",
       "                                                               20],\n",
       "                                         'n_estimators': [100, 200, 300]}],\n",
       "                   random_state=42, scoring='neg_mean_squared_error',\n",
       "                   verbose=1)"
      ]
     },
     "execution_count": 116,
     "metadata": {},
     "output_type": "execute_result"
    }
   ],
   "source": [
    "%%time\n",
    "print(\"Starting hyperparameter tuning...\")\n",
    "grid_search.fit(X_train, y_train)"
   ]
  },
  {
   "cell_type": "code",
   "execution_count": 117,
   "id": "acd6d47a",
   "metadata": {
    "execution": {
     "iopub.execute_input": "2025-08-07T16:03:38.863590Z",
     "iopub.status.busy": "2025-08-07T16:03:38.863250Z",
     "iopub.status.idle": "2025-08-07T16:03:38.869679Z",
     "shell.execute_reply": "2025-08-07T16:03:38.868662Z"
    },
    "papermill": {
     "duration": 0.040671,
     "end_time": "2025-08-07T16:03:38.871310",
     "exception": false,
     "start_time": "2025-08-07T16:03:38.830639",
     "status": "completed"
    },
    "tags": []
   },
   "outputs": [
    {
     "name": "stdout",
     "output_type": "stream",
     "text": [
      "TUNING RESULTS\n",
      "==================================================\n",
      "Best Parameters: {'n_estimators': 300, 'min_samples_split': 5, 'min_samples_leaf': 2, 'min_impurity_decrease': 0.0, 'max_samples': 0.8, 'max_features': None, 'max_depth': 20, 'bootstrap': True}\n",
      "Best Cross-Validation Score (Negative MSE): -0.0029264071370931006\n",
      "Best Cross-Validation Score (MSE): 0.0029264071370931006\n",
      "Best Cross-Validation Score (RMSE): 0.05409627655479719\n"
     ]
    }
   ],
   "source": [
    "print(\"TUNING RESULTS\")\n",
    "print(\"=\"*50)\n",
    "print(\"Best Parameters:\", grid_search.best_params_)\n",
    "print(\"Best Cross-Validation Score (Negative MSE):\", grid_search.best_score_)\n",
    "print(\"Best Cross-Validation Score (MSE):\", -grid_search.best_score_)\n",
    "print(\"Best Cross-Validation Score (RMSE):\", math.sqrt(-grid_search.best_score_))"
   ]
  },
  {
   "cell_type": "code",
   "execution_count": 118,
   "id": "0d5b4f23",
   "metadata": {
    "execution": {
     "iopub.execute_input": "2025-08-07T16:03:38.938016Z",
     "iopub.status.busy": "2025-08-07T16:03:38.937631Z",
     "iopub.status.idle": "2025-08-07T16:03:39.047454Z",
     "shell.execute_reply": "2025-08-07T16:03:39.046322Z"
    },
    "papermill": {
     "duration": 0.143869,
     "end_time": "2025-08-07T16:03:39.049181",
     "exception": false,
     "start_time": "2025-08-07T16:03:38.905312",
     "status": "completed"
    },
    "tags": []
   },
   "outputs": [],
   "source": [
    "grid_search_best_model = grid_search.best_estimator_\n",
    "y_pred = grid_search_best_model.predict(X_test)"
   ]
  },
  {
   "cell_type": "code",
   "execution_count": 119,
   "id": "16ffd809",
   "metadata": {
    "execution": {
     "iopub.execute_input": "2025-08-07T16:03:39.116381Z",
     "iopub.status.busy": "2025-08-07T16:03:39.115997Z",
     "iopub.status.idle": "2025-08-07T16:03:39.124464Z",
     "shell.execute_reply": "2025-08-07T16:03:39.123488Z"
    },
    "papermill": {
     "duration": 0.044463,
     "end_time": "2025-08-07T16:03:39.126062",
     "exception": false,
     "start_time": "2025-08-07T16:03:39.081599",
     "status": "completed"
    },
    "tags": []
   },
   "outputs": [],
   "source": [
    "mse_grid_search = mean_squared_error(y_test, y_pred)\n",
    "mae_grid_search = mean_absolute_error(y_test, y_pred)\n",
    "r2_grid_search = r2_score(y_test, y_pred)\n",
    "rmse_grid_search = math.sqrt(mse_grid_search)"
   ]
  },
  {
   "cell_type": "code",
   "execution_count": 120,
   "id": "5777d4f7",
   "metadata": {
    "execution": {
     "iopub.execute_input": "2025-08-07T16:03:39.193063Z",
     "iopub.status.busy": "2025-08-07T16:03:39.192743Z",
     "iopub.status.idle": "2025-08-07T16:03:39.198353Z",
     "shell.execute_reply": "2025-08-07T16:03:39.197135Z"
    },
    "papermill": {
     "duration": 0.041564,
     "end_time": "2025-08-07T16:03:39.199724",
     "exception": false,
     "start_time": "2025-08-07T16:03:39.158160",
     "status": "completed"
    },
    "tags": []
   },
   "outputs": [
    {
     "name": "stdout",
     "output_type": "stream",
     "text": [
      "MSE Score: 0.0030190759230322908\n",
      "MAE Score: 0.03158739452495401\n",
      "R2 Score: 0.9975220911156567\n",
      "RMSE Score: 0.05494611836183053\n"
     ]
    }
   ],
   "source": [
    "print(\"MSE Score:\", mse_grid_search)\n",
    "print(\"MAE Score:\", mae_grid_search)\n",
    "print(\"R2 Score:\", r2_grid_search)\n",
    "print(\"RMSE Score:\", rmse_grid_search)"
   ]
  },
  {
   "cell_type": "code",
   "execution_count": 121,
   "id": "a517a041",
   "metadata": {
    "execution": {
     "iopub.execute_input": "2025-08-07T16:03:39.265801Z",
     "iopub.status.busy": "2025-08-07T16:03:39.265414Z",
     "iopub.status.idle": "2025-08-07T16:03:39.276473Z",
     "shell.execute_reply": "2025-08-07T16:03:39.275350Z"
    },
    "papermill": {
     "duration": 0.04634,
     "end_time": "2025-08-07T16:03:39.278359",
     "exception": false,
     "start_time": "2025-08-07T16:03:39.232019",
     "status": "completed"
    },
    "tags": []
   },
   "outputs": [
    {
     "name": "stdout",
     "output_type": "stream",
     "text": [
      "❌ Regression model not improved:\n",
      "   Current MSE: 0.003019, Best MSE: 0.002929\n",
      "   Current R²: 0.997522, Best R²: 0.997596\n",
      "   Current Features: 24, Best Features: 27\n"
     ]
    }
   ],
   "source": [
    "regression_params = {\n",
    "    'model_name': model_name_for_saving + \" Tuned\",\n",
    "    'scaler_name': \"RobustScaler\",\n",
    "    'features_list': feature_columns_for_saving,\n",
    "    'target_column': target_name_for_saving,\n",
    "    'mse': mse_grid_search,\n",
    "    'mae': mae_grid_search,\n",
    "    'rmse': rmse_grid_search,\n",
    "    'r2': r2_grid_search,\n",
    "    'parameters' : json.dumps({\n",
    "        \"best_params\": grid_search.best_params_,\n",
    "        \"cv_score\": grid_search.best_score_,\n",
    "        \"all_params\": grid_search_best_model.get_params()\n",
    "    })\n",
    "}\n",
    "save_model_performance_if_better('regression', regression_params)"
   ]
  },
  {
   "cell_type": "markdown",
   "id": "7c986f7b",
   "metadata": {
    "papermill": {
     "duration": 0.031722,
     "end_time": "2025-08-07T16:03:39.349734",
     "exception": false,
     "start_time": "2025-08-07T16:03:39.318012",
     "status": "completed"
    },
    "tags": []
   },
   "source": [
    "# All Performance"
   ]
  },
  {
   "cell_type": "code",
   "execution_count": 122,
   "id": "404c67dd",
   "metadata": {
    "execution": {
     "iopub.execute_input": "2025-08-07T16:03:39.416065Z",
     "iopub.status.busy": "2025-08-07T16:03:39.415353Z",
     "iopub.status.idle": "2025-08-07T16:03:39.431186Z",
     "shell.execute_reply": "2025-08-07T16:03:39.430136Z"
    },
    "papermill": {
     "duration": 0.051047,
     "end_time": "2025-08-07T16:03:39.432764",
     "exception": false,
     "start_time": "2025-08-07T16:03:39.381717",
     "status": "completed"
    },
    "tags": []
   },
   "outputs": [
    {
     "name": "stdout",
     "output_type": "stream",
     "text": [
      "\n",
      "📊 REGRESSION Model Performance History\n",
      "====================================================================================================\n",
      "              Model         Scaler      Target  Features      MSE      MAE     RMSE       R²\n",
      "      Random Forest   RobustScaler SolarEnergy        27 0.002912 0.030780 0.053960 0.997610\n",
      "      Random Forest StandardScaler SolarEnergy        27 0.002914 0.030797 0.053981 0.997608\n",
      "      Random Forest   MinMaxScaler SolarEnergy        27 0.002916 0.030813 0.054004 0.997606\n",
      "Random Forest Tuned StandardScaler SolarEnergy        27 0.002919 0.030990 0.054030 0.997604\n",
      "Random Forest Tuned   RobustScaler SolarEnergy        27 0.002929 0.030948 0.054123 0.997596\n",
      "Random Forest Tuned   MinMaxScaler SolarEnergy        27 0.002935 0.030988 0.054176 0.997591\n",
      "\n",
      "📈 Total models shown: 6\n",
      "🏆 Best R² Score: 0.997610 (Random Forest + RobustScaler for SolarEnergy)\n"
     ]
    }
   ],
   "source": [
    "show_model_history('regression', model_name=model_name_for_saving, target_column=target_name_for_saving)"
   ]
  },
  {
   "cell_type": "markdown",
   "id": "8ef8c715",
   "metadata": {
    "papermill": {
     "duration": 0.046656,
     "end_time": "2025-08-07T16:03:39.520723",
     "exception": false,
     "start_time": "2025-08-07T16:03:39.474067",
     "status": "completed"
    },
    "tags": []
   },
   "source": [
    "# <center><font size=\"50\" color=\"red\">Thank You</font></center>"
   ]
  }
 ],
 "metadata": {
  "kaggle": {
   "accelerator": "none",
   "dataSources": [
    {
     "datasetId": 7943485,
     "sourceId": 12698463,
     "sourceType": "datasetVersion"
    }
   ],
   "isGpuEnabled": false,
   "isInternetEnabled": true,
   "language": "python",
   "sourceType": "notebook"
  },
  "kernelspec": {
   "display_name": "Python 3",
   "language": "python",
   "name": "python3"
  },
  "language_info": {
   "codemirror_mode": {
    "name": "ipython",
    "version": 3
   },
   "file_extension": ".py",
   "mimetype": "text/x-python",
   "name": "python",
   "nbconvert_exporter": "python",
   "pygments_lexer": "ipython3",
   "version": "3.11.13"
  },
  "papermill": {
   "default_parameters": {},
   "duration": 22199.986551,
   "end_time": "2025-08-07T16:03:42.210668",
   "environment_variables": {},
   "exception": null,
   "input_path": "__notebook__.ipynb",
   "output_path": "__notebook__.ipynb",
   "parameters": {},
   "start_time": "2025-08-07T09:53:42.224117",
   "version": "2.6.0"
  }
 },
 "nbformat": 4,
 "nbformat_minor": 5
}
