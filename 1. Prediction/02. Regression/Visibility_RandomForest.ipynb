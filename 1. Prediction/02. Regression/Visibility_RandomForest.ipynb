{
 "cells": [
  {
   "cell_type": "markdown",
   "id": "973b92d3",
   "metadata": {
    "papermill": {
     "duration": 0.02084,
     "end_time": "2025-08-07T08:55:06.824616",
     "exception": false,
     "start_time": "2025-08-07T08:55:06.803776",
     "status": "completed"
    },
    "tags": []
   },
   "source": [
    "# <font color=\"red\">Visibility Prediction with Random Forest Regressor</font>"
   ]
  },
  {
   "cell_type": "markdown",
   "id": "f34abe2f",
   "metadata": {
    "papermill": {
     "duration": 0.017392,
     "end_time": "2025-08-07T08:55:06.860087",
     "exception": false,
     "start_time": "2025-08-07T08:55:06.842695",
     "status": "completed"
    },
    "tags": []
   },
   "source": [
    "# Library Import"
   ]
  },
  {
   "cell_type": "code",
   "execution_count": 1,
   "id": "6a0dcbb6",
   "metadata": {
    "execution": {
     "iopub.execute_input": "2025-08-07T08:55:06.897074Z",
     "iopub.status.busy": "2025-08-07T08:55:06.896779Z",
     "iopub.status.idle": "2025-08-07T08:55:10.694518Z",
     "shell.execute_reply": "2025-08-07T08:55:10.693690Z"
    },
    "papermill": {
     "duration": 3.818183,
     "end_time": "2025-08-07T08:55:10.696326",
     "exception": false,
     "start_time": "2025-08-07T08:55:06.878143",
     "status": "completed"
    },
    "tags": []
   },
   "outputs": [],
   "source": [
    "# Data manipulation and visualization\n",
    "import pandas as pd\n",
    "import math\n",
    "import json\n",
    "\n",
    "# Preprocessing\n",
    "from sklearn.model_selection import StratifiedShuffleSplit, RandomizedSearchCV\n",
    "from sklearn.preprocessing import MinMaxScaler, StandardScaler, RobustScaler\n",
    "from sklearn.metrics import r2_score, mean_squared_error, mean_absolute_error\n",
    "from sklearn.ensemble import RandomForestRegressor\n",
    "\n",
    "import sys\n",
    "# sys.path.append('../../') # Uncomment this line if running locally\n",
    "sys.path.append('/kaggle/input/weatherdata') # Uncomment this line if running on Kaggle\n",
    "from historyManagement import *\n",
    "\n",
    "# suppress warnings\n",
    "import warnings\n",
    "warnings.filterwarnings(\"ignore\")"
   ]
  },
  {
   "cell_type": "markdown",
   "id": "9c19c3bb",
   "metadata": {
    "papermill": {
     "duration": 0.017563,
     "end_time": "2025-08-07T08:55:10.731842",
     "exception": false,
     "start_time": "2025-08-07T08:55:10.714279",
     "status": "completed"
    },
    "tags": []
   },
   "source": [
    "# Datasets Import"
   ]
  },
  {
   "cell_type": "code",
   "execution_count": 2,
   "id": "a111c86e",
   "metadata": {
    "execution": {
     "iopub.execute_input": "2025-08-07T08:55:10.829973Z",
     "iopub.status.busy": "2025-08-07T08:55:10.829471Z",
     "iopub.status.idle": "2025-08-07T08:55:11.004648Z",
     "shell.execute_reply": "2025-08-07T08:55:11.003714Z"
    },
    "papermill": {
     "duration": 0.195471,
     "end_time": "2025-08-07T08:55:11.006113",
     "exception": false,
     "start_time": "2025-08-07T08:55:10.810642",
     "status": "completed"
    },
    "tags": []
   },
   "outputs": [
    {
     "data": {
      "text/html": [
       "<div>\n",
       "<style scoped>\n",
       "    .dataframe tbody tr th:only-of-type {\n",
       "        vertical-align: middle;\n",
       "    }\n",
       "\n",
       "    .dataframe tbody tr th {\n",
       "        vertical-align: top;\n",
       "    }\n",
       "\n",
       "    .dataframe thead th {\n",
       "        text-align: right;\n",
       "    }\n",
       "</style>\n",
       "<table border=\"1\" class=\"dataframe\">\n",
       "  <thead>\n",
       "    <tr style=\"text-align: right;\">\n",
       "      <th></th>\n",
       "      <th>DateTime</th>\n",
       "      <th>Year</th>\n",
       "      <th>Month</th>\n",
       "      <th>Day</th>\n",
       "      <th>Hour</th>\n",
       "      <th>DaySegments</th>\n",
       "      <th>DaySegments_Afternoon</th>\n",
       "      <th>DaySegments_Early Morning</th>\n",
       "      <th>DaySegments_Evening</th>\n",
       "      <th>DaySegments_Late Night</th>\n",
       "      <th>...</th>\n",
       "      <th>WindDir</th>\n",
       "      <th>SeaLevelPressure</th>\n",
       "      <th>CloudCover</th>\n",
       "      <th>UVIndex</th>\n",
       "      <th>SevereRisk</th>\n",
       "      <th>Visibility</th>\n",
       "      <th>SolarRadiation</th>\n",
       "      <th>SolarEnergy</th>\n",
       "      <th>Conditions</th>\n",
       "      <th>Icon</th>\n",
       "    </tr>\n",
       "  </thead>\n",
       "  <tbody>\n",
       "    <tr>\n",
       "      <th>0</th>\n",
       "      <td>2023-01-01 00:00:00</td>\n",
       "      <td>2023</td>\n",
       "      <td>1</td>\n",
       "      <td>1</td>\n",
       "      <td>0</td>\n",
       "      <td>Late Night</td>\n",
       "      <td>0</td>\n",
       "      <td>0</td>\n",
       "      <td>0</td>\n",
       "      <td>1</td>\n",
       "      <td>...</td>\n",
       "      <td>0.49</td>\n",
       "      <td>1018.68</td>\n",
       "      <td>0.03</td>\n",
       "      <td>0.0</td>\n",
       "      <td>10.0</td>\n",
       "      <td>2.76</td>\n",
       "      <td>0.0</td>\n",
       "      <td>0.0</td>\n",
       "      <td>Clear</td>\n",
       "      <td>clear-night</td>\n",
       "    </tr>\n",
       "    <tr>\n",
       "      <th>1</th>\n",
       "      <td>2023-01-01 01:00:00</td>\n",
       "      <td>2023</td>\n",
       "      <td>1</td>\n",
       "      <td>1</td>\n",
       "      <td>1</td>\n",
       "      <td>Late Night</td>\n",
       "      <td>0</td>\n",
       "      <td>0</td>\n",
       "      <td>0</td>\n",
       "      <td>1</td>\n",
       "      <td>...</td>\n",
       "      <td>0.54</td>\n",
       "      <td>1018.03</td>\n",
       "      <td>0.11</td>\n",
       "      <td>0.0</td>\n",
       "      <td>10.0</td>\n",
       "      <td>1.75</td>\n",
       "      <td>0.0</td>\n",
       "      <td>0.0</td>\n",
       "      <td>Clear</td>\n",
       "      <td>clear-night</td>\n",
       "    </tr>\n",
       "    <tr>\n",
       "      <th>2</th>\n",
       "      <td>2023-01-01 02:00:00</td>\n",
       "      <td>2023</td>\n",
       "      <td>1</td>\n",
       "      <td>1</td>\n",
       "      <td>2</td>\n",
       "      <td>Late Night</td>\n",
       "      <td>0</td>\n",
       "      <td>0</td>\n",
       "      <td>0</td>\n",
       "      <td>1</td>\n",
       "      <td>...</td>\n",
       "      <td>30.51</td>\n",
       "      <td>1017.56</td>\n",
       "      <td>0.03</td>\n",
       "      <td>0.0</td>\n",
       "      <td>10.0</td>\n",
       "      <td>1.75</td>\n",
       "      <td>0.0</td>\n",
       "      <td>0.0</td>\n",
       "      <td>Clear</td>\n",
       "      <td>clear-night</td>\n",
       "    </tr>\n",
       "    <tr>\n",
       "      <th>3</th>\n",
       "      <td>2023-01-01 03:00:00</td>\n",
       "      <td>2023</td>\n",
       "      <td>1</td>\n",
       "      <td>1</td>\n",
       "      <td>3</td>\n",
       "      <td>Late Night</td>\n",
       "      <td>0</td>\n",
       "      <td>0</td>\n",
       "      <td>0</td>\n",
       "      <td>1</td>\n",
       "      <td>...</td>\n",
       "      <td>49.23</td>\n",
       "      <td>1018.05</td>\n",
       "      <td>0.00</td>\n",
       "      <td>0.0</td>\n",
       "      <td>10.0</td>\n",
       "      <td>2.28</td>\n",
       "      <td>0.0</td>\n",
       "      <td>0.0</td>\n",
       "      <td>Clear</td>\n",
       "      <td>clear-night</td>\n",
       "    </tr>\n",
       "    <tr>\n",
       "      <th>4</th>\n",
       "      <td>2023-01-01 04:00:00</td>\n",
       "      <td>2023</td>\n",
       "      <td>1</td>\n",
       "      <td>1</td>\n",
       "      <td>4</td>\n",
       "      <td>Late Night</td>\n",
       "      <td>0</td>\n",
       "      <td>0</td>\n",
       "      <td>0</td>\n",
       "      <td>1</td>\n",
       "      <td>...</td>\n",
       "      <td>49.90</td>\n",
       "      <td>1018.00</td>\n",
       "      <td>86.17</td>\n",
       "      <td>0.0</td>\n",
       "      <td>10.0</td>\n",
       "      <td>1.27</td>\n",
       "      <td>0.0</td>\n",
       "      <td>0.0</td>\n",
       "      <td>Partially cloudy</td>\n",
       "      <td>fog</td>\n",
       "    </tr>\n",
       "  </tbody>\n",
       "</table>\n",
       "<p>5 rows × 36 columns</p>\n",
       "</div>"
      ],
      "text/plain": [
       "             DateTime  Year  Month  Day  Hour DaySegments  \\\n",
       "0 2023-01-01 00:00:00  2023      1    1     0  Late Night   \n",
       "1 2023-01-01 01:00:00  2023      1    1     1  Late Night   \n",
       "2 2023-01-01 02:00:00  2023      1    1     2  Late Night   \n",
       "3 2023-01-01 03:00:00  2023      1    1     3  Late Night   \n",
       "4 2023-01-01 04:00:00  2023      1    1     4  Late Night   \n",
       "\n",
       "   DaySegments_Afternoon  DaySegments_Early Morning  DaySegments_Evening  \\\n",
       "0                      0                          0                    0   \n",
       "1                      0                          0                    0   \n",
       "2                      0                          0                    0   \n",
       "3                      0                          0                    0   \n",
       "4                      0                          0                    0   \n",
       "\n",
       "   DaySegments_Late Night  ...  WindDir  SeaLevelPressure  CloudCover  \\\n",
       "0                       1  ...     0.49           1018.68        0.03   \n",
       "1                       1  ...     0.54           1018.03        0.11   \n",
       "2                       1  ...    30.51           1017.56        0.03   \n",
       "3                       1  ...    49.23           1018.05        0.00   \n",
       "4                       1  ...    49.90           1018.00       86.17   \n",
       "\n",
       "   UVIndex  SevereRisk  Visibility  SolarRadiation SolarEnergy  \\\n",
       "0      0.0        10.0        2.76             0.0         0.0   \n",
       "1      0.0        10.0        1.75             0.0         0.0   \n",
       "2      0.0        10.0        1.75             0.0         0.0   \n",
       "3      0.0        10.0        2.28             0.0         0.0   \n",
       "4      0.0        10.0        1.27             0.0         0.0   \n",
       "\n",
       "         Conditions         Icon  \n",
       "0             Clear  clear-night  \n",
       "1             Clear  clear-night  \n",
       "2             Clear  clear-night  \n",
       "3             Clear  clear-night  \n",
       "4  Partially cloudy          fog  \n",
       "\n",
       "[5 rows x 36 columns]"
      ]
     },
     "execution_count": 2,
     "metadata": {},
     "output_type": "execute_result"
    }
   ],
   "source": [
    "# Load the weather dataset for visibility prediction\n",
    "# weather_data = pd.read_csv('../../FinalDatasets/finalDataset.csv') # Uncomment this line if running locally\n",
    "weather_data = pd.read_csv('/kaggle/input/weatherdata/finalDataset.csv') # Uncomment this line if running on Kaggle\n",
    "weather_data['DateTime'] = pd.to_datetime(weather_data['DateTime'])\n",
    "weather_data.head()"
   ]
  },
  {
   "cell_type": "code",
   "execution_count": 3,
   "id": "a52947b4",
   "metadata": {
    "execution": {
     "iopub.execute_input": "2025-08-07T08:55:11.045130Z",
     "iopub.status.busy": "2025-08-07T08:55:11.044772Z",
     "iopub.status.idle": "2025-08-07T08:55:11.069656Z",
     "shell.execute_reply": "2025-08-07T08:55:11.068750Z"
    },
    "papermill": {
     "duration": 0.046138,
     "end_time": "2025-08-07T08:55:11.071260",
     "exception": false,
     "start_time": "2025-08-07T08:55:11.025122",
     "status": "completed"
    },
    "tags": []
   },
   "outputs": [
    {
     "name": "stdout",
     "output_type": "stream",
     "text": [
      "<class 'pandas.core.frame.DataFrame'>\n",
      "RangeIndex: 14616 entries, 0 to 14615\n",
      "Data columns (total 36 columns):\n",
      " #   Column                     Non-Null Count  Dtype         \n",
      "---  ------                     --------------  -----         \n",
      " 0   DateTime                   14616 non-null  datetime64[ns]\n",
      " 1   Year                       14616 non-null  int64         \n",
      " 2   Month                      14616 non-null  int64         \n",
      " 3   Day                        14616 non-null  int64         \n",
      " 4   Hour                       14616 non-null  int64         \n",
      " 5   DaySegments                14616 non-null  object        \n",
      " 6   DaySegments_Afternoon      14616 non-null  int64         \n",
      " 7   DaySegments_Early Morning  14616 non-null  int64         \n",
      " 8   DaySegments_Evening        14616 non-null  int64         \n",
      " 9   DaySegments_Late Night     14616 non-null  int64         \n",
      " 10  DaySegments_Midday         14616 non-null  int64         \n",
      " 11  DaySegments_Morning        14616 non-null  int64         \n",
      " 12  DaySegments_Night          14616 non-null  int64         \n",
      " 13  Season_Autumn              14616 non-null  int64         \n",
      " 14  Season_Rainy               14616 non-null  int64         \n",
      " 15  Season_Summer              14616 non-null  int64         \n",
      " 16  Season_Winter              14616 non-null  int64         \n",
      " 17  Season                     14616 non-null  object        \n",
      " 18  Temp                       14616 non-null  float64       \n",
      " 19  FeelsLike                  14616 non-null  float64       \n",
      " 20  Dew                        14616 non-null  float64       \n",
      " 21  Humidity                   14616 non-null  float64       \n",
      " 22  Precip                     14616 non-null  float64       \n",
      " 23  PrecipProb                 14616 non-null  float64       \n",
      " 24  Windgust                   14616 non-null  float64       \n",
      " 25  WindSpeed                  14616 non-null  float64       \n",
      " 26  WindDir                    14616 non-null  float64       \n",
      " 27  SeaLevelPressure           14616 non-null  float64       \n",
      " 28  CloudCover                 14616 non-null  float64       \n",
      " 29  UVIndex                    14616 non-null  float64       \n",
      " 30  SevereRisk                 14616 non-null  float64       \n",
      " 31  Visibility                 14616 non-null  float64       \n",
      " 32  SolarRadiation             14616 non-null  float64       \n",
      " 33  SolarEnergy                14616 non-null  float64       \n",
      " 34  Conditions                 14616 non-null  object        \n",
      " 35  Icon                       14616 non-null  object        \n",
      "dtypes: datetime64[ns](1), float64(16), int64(15), object(4)\n",
      "memory usage: 4.0+ MB\n"
     ]
    }
   ],
   "source": [
    "weather_data.info()"
   ]
  },
  {
   "cell_type": "code",
   "execution_count": 4,
   "id": "89c0474a",
   "metadata": {
    "execution": {
     "iopub.execute_input": "2025-08-07T08:55:11.110824Z",
     "iopub.status.busy": "2025-08-07T08:55:11.110519Z",
     "iopub.status.idle": "2025-08-07T08:55:11.190797Z",
     "shell.execute_reply": "2025-08-07T08:55:11.189812Z"
    },
    "papermill": {
     "duration": 0.101624,
     "end_time": "2025-08-07T08:55:11.192196",
     "exception": false,
     "start_time": "2025-08-07T08:55:11.090572",
     "status": "completed"
    },
    "tags": []
   },
   "outputs": [
    {
     "data": {
      "text/html": [
       "<div>\n",
       "<style scoped>\n",
       "    .dataframe tbody tr th:only-of-type {\n",
       "        vertical-align: middle;\n",
       "    }\n",
       "\n",
       "    .dataframe tbody tr th {\n",
       "        vertical-align: top;\n",
       "    }\n",
       "\n",
       "    .dataframe thead th {\n",
       "        text-align: right;\n",
       "    }\n",
       "</style>\n",
       "<table border=\"1\" class=\"dataframe\">\n",
       "  <thead>\n",
       "    <tr style=\"text-align: right;\">\n",
       "      <th></th>\n",
       "      <th>DateTime</th>\n",
       "      <th>Year</th>\n",
       "      <th>Month</th>\n",
       "      <th>Day</th>\n",
       "      <th>Hour</th>\n",
       "      <th>DaySegments_Afternoon</th>\n",
       "      <th>DaySegments_Early Morning</th>\n",
       "      <th>DaySegments_Evening</th>\n",
       "      <th>DaySegments_Late Night</th>\n",
       "      <th>DaySegments_Midday</th>\n",
       "      <th>...</th>\n",
       "      <th>Windgust</th>\n",
       "      <th>WindSpeed</th>\n",
       "      <th>WindDir</th>\n",
       "      <th>SeaLevelPressure</th>\n",
       "      <th>CloudCover</th>\n",
       "      <th>UVIndex</th>\n",
       "      <th>SevereRisk</th>\n",
       "      <th>Visibility</th>\n",
       "      <th>SolarRadiation</th>\n",
       "      <th>SolarEnergy</th>\n",
       "    </tr>\n",
       "  </thead>\n",
       "  <tbody>\n",
       "    <tr>\n",
       "      <th>count</th>\n",
       "      <td>14616</td>\n",
       "      <td>14616.000000</td>\n",
       "      <td>14616.000000</td>\n",
       "      <td>14616.000000</td>\n",
       "      <td>14616.000000</td>\n",
       "      <td>14616.000000</td>\n",
       "      <td>14616.000000</td>\n",
       "      <td>14616.000000</td>\n",
       "      <td>14616.000000</td>\n",
       "      <td>14616.000000</td>\n",
       "      <td>...</td>\n",
       "      <td>14616.000000</td>\n",
       "      <td>14616.000000</td>\n",
       "      <td>14616.000000</td>\n",
       "      <td>14616.000000</td>\n",
       "      <td>14616.000000</td>\n",
       "      <td>14616.000000</td>\n",
       "      <td>14616.000000</td>\n",
       "      <td>14616.000000</td>\n",
       "      <td>14616.000000</td>\n",
       "      <td>14616.000000</td>\n",
       "    </tr>\n",
       "    <tr>\n",
       "      <th>mean</th>\n",
       "      <td>2023-11-01 11:30:00</td>\n",
       "      <td>2023.400657</td>\n",
       "      <td>5.720854</td>\n",
       "      <td>15.735632</td>\n",
       "      <td>11.500000</td>\n",
       "      <td>0.131294</td>\n",
       "      <td>0.060550</td>\n",
       "      <td>0.098043</td>\n",
       "      <td>0.249726</td>\n",
       "      <td>0.116585</td>\n",
       "      <td>...</td>\n",
       "      <td>17.068560</td>\n",
       "      <td>8.090783</td>\n",
       "      <td>159.739178</td>\n",
       "      <td>1008.265012</td>\n",
       "      <td>53.579923</td>\n",
       "      <td>2.263555</td>\n",
       "      <td>16.504787</td>\n",
       "      <td>4.368134</td>\n",
       "      <td>227.640683</td>\n",
       "      <td>0.819217</td>\n",
       "    </tr>\n",
       "    <tr>\n",
       "      <th>min</th>\n",
       "      <td>2023-01-01 00:00:00</td>\n",
       "      <td>2023.000000</td>\n",
       "      <td>1.000000</td>\n",
       "      <td>1.000000</td>\n",
       "      <td>0.000000</td>\n",
       "      <td>0.000000</td>\n",
       "      <td>0.000000</td>\n",
       "      <td>0.000000</td>\n",
       "      <td>0.000000</td>\n",
       "      <td>0.000000</td>\n",
       "      <td>...</td>\n",
       "      <td>0.660000</td>\n",
       "      <td>0.000000</td>\n",
       "      <td>0.000000</td>\n",
       "      <td>982.420000</td>\n",
       "      <td>0.000000</td>\n",
       "      <td>0.000000</td>\n",
       "      <td>3.000000</td>\n",
       "      <td>0.000000</td>\n",
       "      <td>0.000000</td>\n",
       "      <td>0.000000</td>\n",
       "    </tr>\n",
       "    <tr>\n",
       "      <th>25%</th>\n",
       "      <td>2023-06-02 05:45:00</td>\n",
       "      <td>2023.000000</td>\n",
       "      <td>3.000000</td>\n",
       "      <td>8.000000</td>\n",
       "      <td>5.750000</td>\n",
       "      <td>0.000000</td>\n",
       "      <td>0.000000</td>\n",
       "      <td>0.000000</td>\n",
       "      <td>0.000000</td>\n",
       "      <td>0.000000</td>\n",
       "      <td>...</td>\n",
       "      <td>9.170000</td>\n",
       "      <td>2.870000</td>\n",
       "      <td>80.965000</td>\n",
       "      <td>1003.277500</td>\n",
       "      <td>26.670000</td>\n",
       "      <td>0.000000</td>\n",
       "      <td>10.000000</td>\n",
       "      <td>3.990000</td>\n",
       "      <td>0.000000</td>\n",
       "      <td>0.000000</td>\n",
       "    </tr>\n",
       "    <tr>\n",
       "      <th>50%</th>\n",
       "      <td>2023-11-01 11:30:00</td>\n",
       "      <td>2023.000000</td>\n",
       "      <td>6.000000</td>\n",
       "      <td>16.000000</td>\n",
       "      <td>11.500000</td>\n",
       "      <td>0.000000</td>\n",
       "      <td>0.000000</td>\n",
       "      <td>0.000000</td>\n",
       "      <td>0.000000</td>\n",
       "      <td>0.000000</td>\n",
       "      <td>...</td>\n",
       "      <td>14.645000</td>\n",
       "      <td>7.670000</td>\n",
       "      <td>163.790000</td>\n",
       "      <td>1007.970000</td>\n",
       "      <td>51.540000</td>\n",
       "      <td>0.000000</td>\n",
       "      <td>10.000000</td>\n",
       "      <td>4.650000</td>\n",
       "      <td>10.665000</td>\n",
       "      <td>0.010000</td>\n",
       "    </tr>\n",
       "    <tr>\n",
       "      <th>75%</th>\n",
       "      <td>2024-04-01 17:15:00</td>\n",
       "      <td>2024.000000</td>\n",
       "      <td>8.000000</td>\n",
       "      <td>23.000000</td>\n",
       "      <td>17.250000</td>\n",
       "      <td>0.000000</td>\n",
       "      <td>0.000000</td>\n",
       "      <td>0.000000</td>\n",
       "      <td>0.000000</td>\n",
       "      <td>0.000000</td>\n",
       "      <td>...</td>\n",
       "      <td>23.410000</td>\n",
       "      <td>11.750000</td>\n",
       "      <td>241.402500</td>\n",
       "      <td>1013.400000</td>\n",
       "      <td>87.790000</td>\n",
       "      <td>4.740000</td>\n",
       "      <td>12.580000</td>\n",
       "      <td>4.650000</td>\n",
       "      <td>459.745000</td>\n",
       "      <td>1.660000</td>\n",
       "    </tr>\n",
       "    <tr>\n",
       "      <th>max</th>\n",
       "      <td>2024-08-31 23:00:00</td>\n",
       "      <td>2024.000000</td>\n",
       "      <td>12.000000</td>\n",
       "      <td>31.000000</td>\n",
       "      <td>23.000000</td>\n",
       "      <td>1.000000</td>\n",
       "      <td>1.000000</td>\n",
       "      <td>1.000000</td>\n",
       "      <td>1.000000</td>\n",
       "      <td>1.000000</td>\n",
       "      <td>...</td>\n",
       "      <td>84.120000</td>\n",
       "      <td>71.970000</td>\n",
       "      <td>360.000000</td>\n",
       "      <td>1022.060000</td>\n",
       "      <td>100.000000</td>\n",
       "      <td>10.000000</td>\n",
       "      <td>97.740000</td>\n",
       "      <td>24.100000</td>\n",
       "      <td>1026.650000</td>\n",
       "      <td>3.700000</td>\n",
       "    </tr>\n",
       "    <tr>\n",
       "      <th>std</th>\n",
       "      <td>NaN</td>\n",
       "      <td>0.490048</td>\n",
       "      <td>3.195073</td>\n",
       "      <td>8.803610</td>\n",
       "      <td>6.922423</td>\n",
       "      <td>0.337734</td>\n",
       "      <td>0.238511</td>\n",
       "      <td>0.297383</td>\n",
       "      <td>0.432869</td>\n",
       "      <td>0.320936</td>\n",
       "      <td>...</td>\n",
       "      <td>10.195911</td>\n",
       "      <td>6.250203</td>\n",
       "      <td>104.422027</td>\n",
       "      <td>6.010683</td>\n",
       "      <td>35.166637</td>\n",
       "      <td>3.083074</td>\n",
       "      <td>15.031827</td>\n",
       "      <td>1.376994</td>\n",
       "      <td>307.219387</td>\n",
       "      <td>1.106444</td>\n",
       "    </tr>\n",
       "  </tbody>\n",
       "</table>\n",
       "<p>8 rows × 32 columns</p>\n",
       "</div>"
      ],
      "text/plain": [
       "                  DateTime          Year         Month           Day  \\\n",
       "count                14616  14616.000000  14616.000000  14616.000000   \n",
       "mean   2023-11-01 11:30:00   2023.400657      5.720854     15.735632   \n",
       "min    2023-01-01 00:00:00   2023.000000      1.000000      1.000000   \n",
       "25%    2023-06-02 05:45:00   2023.000000      3.000000      8.000000   \n",
       "50%    2023-11-01 11:30:00   2023.000000      6.000000     16.000000   \n",
       "75%    2024-04-01 17:15:00   2024.000000      8.000000     23.000000   \n",
       "max    2024-08-31 23:00:00   2024.000000     12.000000     31.000000   \n",
       "std                    NaN      0.490048      3.195073      8.803610   \n",
       "\n",
       "               Hour  DaySegments_Afternoon  DaySegments_Early Morning  \\\n",
       "count  14616.000000           14616.000000               14616.000000   \n",
       "mean      11.500000               0.131294                   0.060550   \n",
       "min        0.000000               0.000000                   0.000000   \n",
       "25%        5.750000               0.000000                   0.000000   \n",
       "50%       11.500000               0.000000                   0.000000   \n",
       "75%       17.250000               0.000000                   0.000000   \n",
       "max       23.000000               1.000000                   1.000000   \n",
       "std        6.922423               0.337734                   0.238511   \n",
       "\n",
       "       DaySegments_Evening  DaySegments_Late Night  DaySegments_Midday  ...  \\\n",
       "count         14616.000000            14616.000000        14616.000000  ...   \n",
       "mean              0.098043                0.249726            0.116585  ...   \n",
       "min               0.000000                0.000000            0.000000  ...   \n",
       "25%               0.000000                0.000000            0.000000  ...   \n",
       "50%               0.000000                0.000000            0.000000  ...   \n",
       "75%               0.000000                0.000000            0.000000  ...   \n",
       "max               1.000000                1.000000            1.000000  ...   \n",
       "std               0.297383                0.432869            0.320936  ...   \n",
       "\n",
       "           Windgust     WindSpeed       WindDir  SeaLevelPressure  \\\n",
       "count  14616.000000  14616.000000  14616.000000      14616.000000   \n",
       "mean      17.068560      8.090783    159.739178       1008.265012   \n",
       "min        0.660000      0.000000      0.000000        982.420000   \n",
       "25%        9.170000      2.870000     80.965000       1003.277500   \n",
       "50%       14.645000      7.670000    163.790000       1007.970000   \n",
       "75%       23.410000     11.750000    241.402500       1013.400000   \n",
       "max       84.120000     71.970000    360.000000       1022.060000   \n",
       "std       10.195911      6.250203    104.422027          6.010683   \n",
       "\n",
       "         CloudCover       UVIndex    SevereRisk    Visibility  SolarRadiation  \\\n",
       "count  14616.000000  14616.000000  14616.000000  14616.000000    14616.000000   \n",
       "mean      53.579923      2.263555     16.504787      4.368134      227.640683   \n",
       "min        0.000000      0.000000      3.000000      0.000000        0.000000   \n",
       "25%       26.670000      0.000000     10.000000      3.990000        0.000000   \n",
       "50%       51.540000      0.000000     10.000000      4.650000       10.665000   \n",
       "75%       87.790000      4.740000     12.580000      4.650000      459.745000   \n",
       "max      100.000000     10.000000     97.740000     24.100000     1026.650000   \n",
       "std       35.166637      3.083074     15.031827      1.376994      307.219387   \n",
       "\n",
       "        SolarEnergy  \n",
       "count  14616.000000  \n",
       "mean       0.819217  \n",
       "min        0.000000  \n",
       "25%        0.000000  \n",
       "50%        0.010000  \n",
       "75%        1.660000  \n",
       "max        3.700000  \n",
       "std        1.106444  \n",
       "\n",
       "[8 rows x 32 columns]"
      ]
     },
     "execution_count": 4,
     "metadata": {},
     "output_type": "execute_result"
    }
   ],
   "source": [
    "weather_data.describe()"
   ]
  },
  {
   "cell_type": "markdown",
   "id": "689cdf73",
   "metadata": {
    "papermill": {
     "duration": 0.018796,
     "end_time": "2025-08-07T08:55:11.230931",
     "exception": false,
     "start_time": "2025-08-07T08:55:11.212135",
     "status": "completed"
    },
    "tags": []
   },
   "source": [
    "# Data Split"
   ]
  },
  {
   "cell_type": "code",
   "execution_count": 5,
   "id": "102e6881",
   "metadata": {
    "execution": {
     "iopub.execute_input": "2025-08-07T08:55:11.270036Z",
     "iopub.status.busy": "2025-08-07T08:55:11.269283Z",
     "iopub.status.idle": "2025-08-07T08:55:11.290337Z",
     "shell.execute_reply": "2025-08-07T08:55:11.289465Z"
    },
    "papermill": {
     "duration": 0.042268,
     "end_time": "2025-08-07T08:55:11.291812",
     "exception": false,
     "start_time": "2025-08-07T08:55:11.249544",
     "status": "completed"
    },
    "tags": []
   },
   "outputs": [],
   "source": [
    "sss = StratifiedShuffleSplit(n_splits=1, test_size=0.20, random_state=42)\n",
    "for train_idx, test_idx in sss.split(weather_data, weather_data['DaySegments']):\n",
    "    weather_data_train = weather_data.iloc[train_idx]\n",
    "    weather_data_test = weather_data.iloc[test_idx]"
   ]
  },
  {
   "cell_type": "code",
   "execution_count": 6,
   "id": "a3f46be2",
   "metadata": {
    "execution": {
     "iopub.execute_input": "2025-08-07T08:55:11.331354Z",
     "iopub.status.busy": "2025-08-07T08:55:11.331010Z",
     "iopub.status.idle": "2025-08-07T08:55:11.340109Z",
     "shell.execute_reply": "2025-08-07T08:55:11.339156Z"
    },
    "papermill": {
     "duration": 0.030857,
     "end_time": "2025-08-07T08:55:11.341499",
     "exception": false,
     "start_time": "2025-08-07T08:55:11.310642",
     "status": "completed"
    },
    "tags": []
   },
   "outputs": [
    {
     "name": "stdout",
     "output_type": "stream",
     "text": [
      "Distribution of data based on DaySegments:\n",
      "     DaySegments  Count\n",
      "0     Late Night   3650\n",
      "1        Morning   3504\n",
      "2      Afternoon   1919\n",
      "3         Midday   1704\n",
      "4          Night   1521\n",
      "5        Evening   1433\n",
      "6  Early Morning    885\n"
     ]
    }
   ],
   "source": [
    "# Show the count of each unique class in DaySegments\n",
    "class_counts = weather_data['DaySegments'].value_counts().reset_index()\n",
    "class_counts.columns = ['DaySegments', 'Count']\n",
    "\n",
    "print(\"Distribution of data based on DaySegments:\")\n",
    "print(class_counts)"
   ]
  },
  {
   "cell_type": "code",
   "execution_count": 7,
   "id": "dd29987b",
   "metadata": {
    "execution": {
     "iopub.execute_input": "2025-08-07T08:55:11.383367Z",
     "iopub.status.busy": "2025-08-07T08:55:11.382444Z",
     "iopub.status.idle": "2025-08-07T08:55:11.391160Z",
     "shell.execute_reply": "2025-08-07T08:55:11.390158Z"
    },
    "papermill": {
     "duration": 0.030829,
     "end_time": "2025-08-07T08:55:11.392642",
     "exception": false,
     "start_time": "2025-08-07T08:55:11.361813",
     "status": "completed"
    },
    "tags": []
   },
   "outputs": [
    {
     "name": "stdout",
     "output_type": "stream",
     "text": [
      "Distribution of DaySegments in Training Set:\n",
      "DaySegments\n",
      "Late Night       2920\n",
      "Morning          2803\n",
      "Afternoon        1535\n",
      "Midday           1363\n",
      "Night            1217\n",
      "Evening          1146\n",
      "Early Morning     708\n",
      "Name: count, dtype: int64\n",
      "\n",
      "Distribution of DaySegments in Test Set:\n",
      "DaySegments\n",
      "Late Night       730\n",
      "Morning          701\n",
      "Afternoon        384\n",
      "Midday           341\n",
      "Night            304\n",
      "Evening          287\n",
      "Early Morning    177\n",
      "Name: count, dtype: int64\n"
     ]
    }
   ],
   "source": [
    "print(\"Distribution of DaySegments in Training Set:\")\n",
    "print(weather_data_train['DaySegments'].value_counts())\n",
    "\n",
    "print(\"\\nDistribution of DaySegments in Test Set:\")\n",
    "print(weather_data_test['DaySegments'].value_counts())"
   ]
  },
  {
   "cell_type": "markdown",
   "id": "4e9bd207",
   "metadata": {
    "papermill": {
     "duration": 0.019065,
     "end_time": "2025-08-07T08:55:11.430853",
     "exception": false,
     "start_time": "2025-08-07T08:55:11.411788",
     "status": "completed"
    },
    "tags": []
   },
   "source": [
    "# Some Reused Parameters"
   ]
  },
  {
   "cell_type": "code",
   "execution_count": 8,
   "id": "0bc4332a",
   "metadata": {
    "execution": {
     "iopub.execute_input": "2025-08-07T08:55:11.470455Z",
     "iopub.status.busy": "2025-08-07T08:55:11.469819Z",
     "iopub.status.idle": "2025-08-07T08:55:11.476118Z",
     "shell.execute_reply": "2025-08-07T08:55:11.475277Z"
    },
    "papermill": {
     "duration": 0.027919,
     "end_time": "2025-08-07T08:55:11.477564",
     "exception": false,
     "start_time": "2025-08-07T08:55:11.449645",
     "status": "completed"
    },
    "tags": []
   },
   "outputs": [],
   "source": [
    "# For bootstrap=True cases\n",
    "bootstrap_true_params = {\n",
    "    'n_estimators': [100, 200, 300],\n",
    "    'max_depth': [None, 10, 20, 30],\n",
    "    'min_samples_split': [2, 5, 10, 15, 20],\n",
    "    'min_samples_leaf': [1, 2, 4, 6],\n",
    "    'max_features': ['sqrt', 'log2', None],\n",
    "    'bootstrap': [True],\n",
    "    'max_samples': [None, 0.8, 0.9],\n",
    "    'min_impurity_decrease': [0.0, 0.01, 0.02]\n",
    "}\n",
    "\n",
    "# For bootstrap=False cases  \n",
    "bootstrap_false_params = {\n",
    "    'n_estimators': [100, 200, 300],\n",
    "    'max_depth': [None, 10, 20, 30],\n",
    "    'min_samples_split': [2, 5, 10, 15, 20],\n",
    "    'min_samples_leaf': [1, 2, 4, 6],\n",
    "    'max_features': ['sqrt', 'log2', None],\n",
    "    'bootstrap': [False],\n",
    "    'min_impurity_decrease': [0.0, 0.01, 0.02]\n",
    "}\n",
    "\n",
    "grid_param = [bootstrap_true_params, bootstrap_false_params]"
   ]
  },
  {
   "cell_type": "code",
   "execution_count": 9,
   "id": "d5f6ae13",
   "metadata": {
    "execution": {
     "iopub.execute_input": "2025-08-07T08:55:11.517774Z",
     "iopub.status.busy": "2025-08-07T08:55:11.516777Z",
     "iopub.status.idle": "2025-08-07T08:55:11.521464Z",
     "shell.execute_reply": "2025-08-07T08:55:11.520559Z"
    },
    "papermill": {
     "duration": 0.02618,
     "end_time": "2025-08-07T08:55:11.522799",
     "exception": false,
     "start_time": "2025-08-07T08:55:11.496619",
     "status": "completed"
    },
    "tags": []
   },
   "outputs": [],
   "source": [
    "number_of_model_for_randomized_grid = 600 # Estimated run time 10 hours\n",
    "model_name_for_saving = \"Random Forest\"\n",
    "target_name_for_saving = \"Visibility\""
   ]
  },
  {
   "cell_type": "markdown",
   "id": "45ce8cd5",
   "metadata": {
    "papermill": {
     "duration": 0.018698,
     "end_time": "2025-08-07T08:55:11.560893",
     "exception": false,
     "start_time": "2025-08-07T08:55:11.542195",
     "status": "completed"
    },
    "tags": []
   },
   "source": [
    "# All Features"
   ]
  },
  {
   "cell_type": "code",
   "execution_count": 10,
   "id": "1d0ff598",
   "metadata": {
    "execution": {
     "iopub.execute_input": "2025-08-07T08:55:11.600029Z",
     "iopub.status.busy": "2025-08-07T08:55:11.599738Z",
     "iopub.status.idle": "2025-08-07T08:55:11.605463Z",
     "shell.execute_reply": "2025-08-07T08:55:11.604767Z"
    },
    "papermill": {
     "duration": 0.026918,
     "end_time": "2025-08-07T08:55:11.606687",
     "exception": false,
     "start_time": "2025-08-07T08:55:11.579769",
     "status": "completed"
    },
    "tags": []
   },
   "outputs": [],
   "source": [
    "X_train_raw = weather_data_train.drop(columns=['DateTime', # Model cannot use DateTime as a feature\n",
    "                                                'Year', # No Effect on weather data\n",
    "                                                'Season', # Season is categorical, not numerical\n",
    "                                                'DaySegments', # DaySegments is categorical, not numerical\n",
    "                                                'Visibility',  # Target variable\n",
    "                                                'SolarRadiation', # Target variable\n",
    "                                                'SolarEnergy', # Target variable\n",
    "                                                'Conditions', # Target variable\n",
    "                                                'Icon']) # Target variable\n",
    "y_train = weather_data_train['Visibility']"
   ]
  },
  {
   "cell_type": "code",
   "execution_count": 11,
   "id": "93841c62",
   "metadata": {
    "execution": {
     "iopub.execute_input": "2025-08-07T08:55:11.646651Z",
     "iopub.status.busy": "2025-08-07T08:55:11.646046Z",
     "iopub.status.idle": "2025-08-07T08:55:11.651985Z",
     "shell.execute_reply": "2025-08-07T08:55:11.651125Z"
    },
    "papermill": {
     "duration": 0.027349,
     "end_time": "2025-08-07T08:55:11.653417",
     "exception": false,
     "start_time": "2025-08-07T08:55:11.626068",
     "status": "completed"
    },
    "tags": []
   },
   "outputs": [],
   "source": [
    "X_test_raw = weather_data_test.drop(columns=['DateTime', # Model cannot use DateTime as a feature\n",
    "                                                'Year', # No Effect on weather data\n",
    "                                                'Season', # Season is categorical, not numerical\n",
    "                                                'DaySegments', # DaySegments is categorical, not numerical\n",
    "                                                'Visibility',  # Target variable\n",
    "                                                'SolarRadiation', # Target variable\n",
    "                                                'SolarEnergy', # Target variable\n",
    "                                                'Conditions', # Target variable\n",
    "                                                'Icon']) # Target variable\n",
    "y_test = weather_data_test['Visibility']"
   ]
  },
  {
   "cell_type": "code",
   "execution_count": 12,
   "id": "29919292",
   "metadata": {
    "execution": {
     "iopub.execute_input": "2025-08-07T08:55:11.692501Z",
     "iopub.status.busy": "2025-08-07T08:55:11.692153Z",
     "iopub.status.idle": "2025-08-07T08:55:11.696323Z",
     "shell.execute_reply": "2025-08-07T08:55:11.695652Z"
    },
    "papermill": {
     "duration": 0.025302,
     "end_time": "2025-08-07T08:55:11.697654",
     "exception": false,
     "start_time": "2025-08-07T08:55:11.672352",
     "status": "completed"
    },
    "tags": []
   },
   "outputs": [],
   "source": [
    "feature_columns = [col for col in X_train_raw.columns]\n",
    "feature_columns_for_saving = ','.join(feature_columns)"
   ]
  },
  {
   "cell_type": "code",
   "execution_count": 13,
   "id": "781d1575",
   "metadata": {
    "execution": {
     "iopub.execute_input": "2025-08-07T08:55:11.737358Z",
     "iopub.status.busy": "2025-08-07T08:55:11.737030Z",
     "iopub.status.idle": "2025-08-07T08:55:11.741500Z",
     "shell.execute_reply": "2025-08-07T08:55:11.740719Z"
    },
    "papermill": {
     "duration": 0.025945,
     "end_time": "2025-08-07T08:55:11.742887",
     "exception": false,
     "start_time": "2025-08-07T08:55:11.716942",
     "status": "completed"
    },
    "tags": []
   },
   "outputs": [
    {
     "name": "stdout",
     "output_type": "stream",
     "text": [
      "X_train:  11692\n",
      "y_train:  11692\n",
      "\n",
      "X_test:  2924\n",
      "y_test:  2924\n"
     ]
    }
   ],
   "source": [
    "print(\"X_train: \", len(X_train_raw))\n",
    "print(\"y_train: \", len(y_train))\n",
    "print(\"\\nX_test: \", len(X_test_raw))\n",
    "print(\"y_test: \", len(y_test))"
   ]
  },
  {
   "cell_type": "markdown",
   "id": "9d582f9a",
   "metadata": {
    "papermill": {
     "duration": 0.018774,
     "end_time": "2025-08-07T08:55:11.780810",
     "exception": false,
     "start_time": "2025-08-07T08:55:11.762036",
     "status": "completed"
    },
    "tags": []
   },
   "source": [
    "## MinMax Scaler"
   ]
  },
  {
   "cell_type": "code",
   "execution_count": 14,
   "id": "21730b7e",
   "metadata": {
    "execution": {
     "iopub.execute_input": "2025-08-07T08:55:11.819700Z",
     "iopub.status.busy": "2025-08-07T08:55:11.819405Z",
     "iopub.status.idle": "2025-08-07T08:55:11.856111Z",
     "shell.execute_reply": "2025-08-07T08:55:11.854961Z"
    },
    "papermill": {
     "duration": 0.058001,
     "end_time": "2025-08-07T08:55:11.857735",
     "exception": false,
     "start_time": "2025-08-07T08:55:11.799734",
     "status": "completed"
    },
    "tags": []
   },
   "outputs": [],
   "source": [
    "scaler = MinMaxScaler()\n",
    "X_train = scaler.fit_transform(X_train_raw)\n",
    "X_test = scaler.transform(X_test_raw)"
   ]
  },
  {
   "cell_type": "code",
   "execution_count": 15,
   "id": "a3b7a126",
   "metadata": {
    "execution": {
     "iopub.execute_input": "2025-08-07T08:55:11.898584Z",
     "iopub.status.busy": "2025-08-07T08:55:11.897864Z",
     "iopub.status.idle": "2025-08-07T08:55:11.904002Z",
     "shell.execute_reply": "2025-08-07T08:55:11.903126Z"
    },
    "papermill": {
     "duration": 0.027963,
     "end_time": "2025-08-07T08:55:11.905389",
     "exception": false,
     "start_time": "2025-08-07T08:55:11.877426",
     "status": "completed"
    },
    "tags": []
   },
   "outputs": [
    {
     "data": {
      "text/plain": [
       "array([[0.72727273, 0.83333333, 0.43478261, ..., 0.4922    , 0.697     ,\n",
       "        0.31560059],\n",
       "       [0.90909091, 0.26666667, 0.69565217, ..., 0.        , 0.303     ,\n",
       "        0.07388643],\n",
       "       [0.09090909, 0.43333333, 0.        , ..., 0.        , 0.        ,\n",
       "        0.07388643],\n",
       "       ...,\n",
       "       [0.63636364, 0.86666667, 0.43478261, ..., 0.8756    , 0.306     ,\n",
       "        0.09436352],\n",
       "       [0.        , 0.4       , 0.91304348, ..., 0.        , 0.        ,\n",
       "        0.07388643],\n",
       "       [0.72727273, 0.26666667, 0.34782609, ..., 0.8925    , 0.29      ,\n",
       "        0.27812962]])"
      ]
     },
     "execution_count": 15,
     "metadata": {},
     "output_type": "execute_result"
    }
   ],
   "source": [
    "X_train"
   ]
  },
  {
   "cell_type": "code",
   "execution_count": 16,
   "id": "b3cc5cf2",
   "metadata": {
    "execution": {
     "iopub.execute_input": "2025-08-07T08:55:11.946318Z",
     "iopub.status.busy": "2025-08-07T08:55:11.945556Z",
     "iopub.status.idle": "2025-08-07T08:55:11.951369Z",
     "shell.execute_reply": "2025-08-07T08:55:11.950483Z"
    },
    "papermill": {
     "duration": 0.027654,
     "end_time": "2025-08-07T08:55:11.952743",
     "exception": false,
     "start_time": "2025-08-07T08:55:11.925089",
     "status": "completed"
    },
    "tags": []
   },
   "outputs": [
    {
     "data": {
      "text/plain": [
       "array([[0.63636364, 0.06666667, 0.95652174, ..., 0.894     , 0.        ,\n",
       "        0.07388643],\n",
       "       [0.45454545, 0.26666667, 0.65217391, ..., 0.9677    , 0.074     ,\n",
       "        0.07388643],\n",
       "       [0.63636364, 0.03333333, 0.2173913 , ..., 0.9935    , 0.        ,\n",
       "        0.07388643],\n",
       "       ...,\n",
       "       [0.09090909, 0.2       , 0.73913043, ..., 0.0013    , 0.203     ,\n",
       "        0.07388643],\n",
       "       [0.27272727, 0.13333333, 0.86956522, ..., 0.        , 0.        ,\n",
       "        0.25575259],\n",
       "       [0.45454545, 0.73333333, 0.95652174, ..., 0.5161    , 0.        ,\n",
       "        0.07388643]])"
      ]
     },
     "execution_count": 16,
     "metadata": {},
     "output_type": "execute_result"
    }
   ],
   "source": [
    "X_test"
   ]
  },
  {
   "cell_type": "markdown",
   "id": "6b97e7bd",
   "metadata": {
    "papermill": {
     "duration": 0.020201,
     "end_time": "2025-08-07T08:55:11.992567",
     "exception": false,
     "start_time": "2025-08-07T08:55:11.972366",
     "status": "completed"
    },
    "tags": []
   },
   "source": [
    "### Default Parameters"
   ]
  },
  {
   "cell_type": "code",
   "execution_count": 17,
   "id": "c9f557b0",
   "metadata": {
    "execution": {
     "iopub.execute_input": "2025-08-07T08:55:12.032512Z",
     "iopub.status.busy": "2025-08-07T08:55:12.032186Z",
     "iopub.status.idle": "2025-08-07T08:55:12.042863Z",
     "shell.execute_reply": "2025-08-07T08:55:12.042010Z"
    },
    "papermill": {
     "duration": 0.032345,
     "end_time": "2025-08-07T08:55:12.044284",
     "exception": false,
     "start_time": "2025-08-07T08:55:12.011939",
     "status": "completed"
    },
    "tags": []
   },
   "outputs": [
    {
     "data": {
      "text/html": [
       "<style>#sk-container-id-1 {color: black;background-color: white;}#sk-container-id-1 pre{padding: 0;}#sk-container-id-1 div.sk-toggleable {background-color: white;}#sk-container-id-1 label.sk-toggleable__label {cursor: pointer;display: block;width: 100%;margin-bottom: 0;padding: 0.3em;box-sizing: border-box;text-align: center;}#sk-container-id-1 label.sk-toggleable__label-arrow:before {content: \"▸\";float: left;margin-right: 0.25em;color: #696969;}#sk-container-id-1 label.sk-toggleable__label-arrow:hover:before {color: black;}#sk-container-id-1 div.sk-estimator:hover label.sk-toggleable__label-arrow:before {color: black;}#sk-container-id-1 div.sk-toggleable__content {max-height: 0;max-width: 0;overflow: hidden;text-align: left;background-color: #f0f8ff;}#sk-container-id-1 div.sk-toggleable__content pre {margin: 0.2em;color: black;border-radius: 0.25em;background-color: #f0f8ff;}#sk-container-id-1 input.sk-toggleable__control:checked~div.sk-toggleable__content {max-height: 200px;max-width: 100%;overflow: auto;}#sk-container-id-1 input.sk-toggleable__control:checked~label.sk-toggleable__label-arrow:before {content: \"▾\";}#sk-container-id-1 div.sk-estimator input.sk-toggleable__control:checked~label.sk-toggleable__label {background-color: #d4ebff;}#sk-container-id-1 div.sk-label input.sk-toggleable__control:checked~label.sk-toggleable__label {background-color: #d4ebff;}#sk-container-id-1 input.sk-hidden--visually {border: 0;clip: rect(1px 1px 1px 1px);clip: rect(1px, 1px, 1px, 1px);height: 1px;margin: -1px;overflow: hidden;padding: 0;position: absolute;width: 1px;}#sk-container-id-1 div.sk-estimator {font-family: monospace;background-color: #f0f8ff;border: 1px dotted black;border-radius: 0.25em;box-sizing: border-box;margin-bottom: 0.5em;}#sk-container-id-1 div.sk-estimator:hover {background-color: #d4ebff;}#sk-container-id-1 div.sk-parallel-item::after {content: \"\";width: 100%;border-bottom: 1px solid gray;flex-grow: 1;}#sk-container-id-1 div.sk-label:hover label.sk-toggleable__label {background-color: #d4ebff;}#sk-container-id-1 div.sk-serial::before {content: \"\";position: absolute;border-left: 1px solid gray;box-sizing: border-box;top: 0;bottom: 0;left: 50%;z-index: 0;}#sk-container-id-1 div.sk-serial {display: flex;flex-direction: column;align-items: center;background-color: white;padding-right: 0.2em;padding-left: 0.2em;position: relative;}#sk-container-id-1 div.sk-item {position: relative;z-index: 1;}#sk-container-id-1 div.sk-parallel {display: flex;align-items: stretch;justify-content: center;background-color: white;position: relative;}#sk-container-id-1 div.sk-item::before, #sk-container-id-1 div.sk-parallel-item::before {content: \"\";position: absolute;border-left: 1px solid gray;box-sizing: border-box;top: 0;bottom: 0;left: 50%;z-index: -1;}#sk-container-id-1 div.sk-parallel-item {display: flex;flex-direction: column;z-index: 1;position: relative;background-color: white;}#sk-container-id-1 div.sk-parallel-item:first-child::after {align-self: flex-end;width: 50%;}#sk-container-id-1 div.sk-parallel-item:last-child::after {align-self: flex-start;width: 50%;}#sk-container-id-1 div.sk-parallel-item:only-child::after {width: 0;}#sk-container-id-1 div.sk-dashed-wrapped {border: 1px dashed gray;margin: 0 0.4em 0.5em 0.4em;box-sizing: border-box;padding-bottom: 0.4em;background-color: white;}#sk-container-id-1 div.sk-label label {font-family: monospace;font-weight: bold;display: inline-block;line-height: 1.2em;}#sk-container-id-1 div.sk-label-container {text-align: center;}#sk-container-id-1 div.sk-container {/* jupyter's `normalize.less` sets `[hidden] { display: none; }` but bootstrap.min.css set `[hidden] { display: none !important; }` so we also need the `!important` here to be able to override the default hidden behavior on the sphinx rendered scikit-learn.org. See: https://github.com/scikit-learn/scikit-learn/issues/21755 */display: inline-block !important;position: relative;}#sk-container-id-1 div.sk-text-repr-fallback {display: none;}</style><div id=\"sk-container-id-1\" class=\"sk-top-container\"><div class=\"sk-text-repr-fallback\"><pre>RandomForestRegressor(random_state=42)</pre><b>In a Jupyter environment, please rerun this cell to show the HTML representation or trust the notebook. <br />On GitHub, the HTML representation is unable to render, please try loading this page with nbviewer.org.</b></div><div class=\"sk-container\" hidden><div class=\"sk-item\"><div class=\"sk-estimator sk-toggleable\"><input class=\"sk-toggleable__control sk-hidden--visually\" id=\"sk-estimator-id-1\" type=\"checkbox\" checked><label for=\"sk-estimator-id-1\" class=\"sk-toggleable__label sk-toggleable__label-arrow\">RandomForestRegressor</label><div class=\"sk-toggleable__content\"><pre>RandomForestRegressor(random_state=42)</pre></div></div></div></div></div>"
      ],
      "text/plain": [
       "RandomForestRegressor(random_state=42)"
      ]
     },
     "execution_count": 17,
     "metadata": {},
     "output_type": "execute_result"
    }
   ],
   "source": [
    "training_model = RandomForestRegressor(random_state=42)\n",
    "training_model"
   ]
  },
  {
   "cell_type": "code",
   "execution_count": 18,
   "id": "d6d614c7",
   "metadata": {
    "execution": {
     "iopub.execute_input": "2025-08-07T08:55:12.085383Z",
     "iopub.status.busy": "2025-08-07T08:55:12.085073Z",
     "iopub.status.idle": "2025-08-07T08:55:26.411820Z",
     "shell.execute_reply": "2025-08-07T08:55:26.410991Z"
    },
    "papermill": {
     "duration": 14.349,
     "end_time": "2025-08-07T08:55:26.413249",
     "exception": false,
     "start_time": "2025-08-07T08:55:12.064249",
     "status": "completed"
    },
    "tags": []
   },
   "outputs": [
    {
     "name": "stdout",
     "output_type": "stream",
     "text": [
      "CPU times: user 14.3 s, sys: 56.1 ms, total: 14.3 s\n",
      "Wall time: 14.3 s\n"
     ]
    },
    {
     "data": {
      "text/html": [
       "<style>#sk-container-id-2 {color: black;background-color: white;}#sk-container-id-2 pre{padding: 0;}#sk-container-id-2 div.sk-toggleable {background-color: white;}#sk-container-id-2 label.sk-toggleable__label {cursor: pointer;display: block;width: 100%;margin-bottom: 0;padding: 0.3em;box-sizing: border-box;text-align: center;}#sk-container-id-2 label.sk-toggleable__label-arrow:before {content: \"▸\";float: left;margin-right: 0.25em;color: #696969;}#sk-container-id-2 label.sk-toggleable__label-arrow:hover:before {color: black;}#sk-container-id-2 div.sk-estimator:hover label.sk-toggleable__label-arrow:before {color: black;}#sk-container-id-2 div.sk-toggleable__content {max-height: 0;max-width: 0;overflow: hidden;text-align: left;background-color: #f0f8ff;}#sk-container-id-2 div.sk-toggleable__content pre {margin: 0.2em;color: black;border-radius: 0.25em;background-color: #f0f8ff;}#sk-container-id-2 input.sk-toggleable__control:checked~div.sk-toggleable__content {max-height: 200px;max-width: 100%;overflow: auto;}#sk-container-id-2 input.sk-toggleable__control:checked~label.sk-toggleable__label-arrow:before {content: \"▾\";}#sk-container-id-2 div.sk-estimator input.sk-toggleable__control:checked~label.sk-toggleable__label {background-color: #d4ebff;}#sk-container-id-2 div.sk-label input.sk-toggleable__control:checked~label.sk-toggleable__label {background-color: #d4ebff;}#sk-container-id-2 input.sk-hidden--visually {border: 0;clip: rect(1px 1px 1px 1px);clip: rect(1px, 1px, 1px, 1px);height: 1px;margin: -1px;overflow: hidden;padding: 0;position: absolute;width: 1px;}#sk-container-id-2 div.sk-estimator {font-family: monospace;background-color: #f0f8ff;border: 1px dotted black;border-radius: 0.25em;box-sizing: border-box;margin-bottom: 0.5em;}#sk-container-id-2 div.sk-estimator:hover {background-color: #d4ebff;}#sk-container-id-2 div.sk-parallel-item::after {content: \"\";width: 100%;border-bottom: 1px solid gray;flex-grow: 1;}#sk-container-id-2 div.sk-label:hover label.sk-toggleable__label {background-color: #d4ebff;}#sk-container-id-2 div.sk-serial::before {content: \"\";position: absolute;border-left: 1px solid gray;box-sizing: border-box;top: 0;bottom: 0;left: 50%;z-index: 0;}#sk-container-id-2 div.sk-serial {display: flex;flex-direction: column;align-items: center;background-color: white;padding-right: 0.2em;padding-left: 0.2em;position: relative;}#sk-container-id-2 div.sk-item {position: relative;z-index: 1;}#sk-container-id-2 div.sk-parallel {display: flex;align-items: stretch;justify-content: center;background-color: white;position: relative;}#sk-container-id-2 div.sk-item::before, #sk-container-id-2 div.sk-parallel-item::before {content: \"\";position: absolute;border-left: 1px solid gray;box-sizing: border-box;top: 0;bottom: 0;left: 50%;z-index: -1;}#sk-container-id-2 div.sk-parallel-item {display: flex;flex-direction: column;z-index: 1;position: relative;background-color: white;}#sk-container-id-2 div.sk-parallel-item:first-child::after {align-self: flex-end;width: 50%;}#sk-container-id-2 div.sk-parallel-item:last-child::after {align-self: flex-start;width: 50%;}#sk-container-id-2 div.sk-parallel-item:only-child::after {width: 0;}#sk-container-id-2 div.sk-dashed-wrapped {border: 1px dashed gray;margin: 0 0.4em 0.5em 0.4em;box-sizing: border-box;padding-bottom: 0.4em;background-color: white;}#sk-container-id-2 div.sk-label label {font-family: monospace;font-weight: bold;display: inline-block;line-height: 1.2em;}#sk-container-id-2 div.sk-label-container {text-align: center;}#sk-container-id-2 div.sk-container {/* jupyter's `normalize.less` sets `[hidden] { display: none; }` but bootstrap.min.css set `[hidden] { display: none !important; }` so we also need the `!important` here to be able to override the default hidden behavior on the sphinx rendered scikit-learn.org. See: https://github.com/scikit-learn/scikit-learn/issues/21755 */display: inline-block !important;position: relative;}#sk-container-id-2 div.sk-text-repr-fallback {display: none;}</style><div id=\"sk-container-id-2\" class=\"sk-top-container\"><div class=\"sk-text-repr-fallback\"><pre>RandomForestRegressor(random_state=42)</pre><b>In a Jupyter environment, please rerun this cell to show the HTML representation or trust the notebook. <br />On GitHub, the HTML representation is unable to render, please try loading this page with nbviewer.org.</b></div><div class=\"sk-container\" hidden><div class=\"sk-item\"><div class=\"sk-estimator sk-toggleable\"><input class=\"sk-toggleable__control sk-hidden--visually\" id=\"sk-estimator-id-2\" type=\"checkbox\" checked><label for=\"sk-estimator-id-2\" class=\"sk-toggleable__label sk-toggleable__label-arrow\">RandomForestRegressor</label><div class=\"sk-toggleable__content\"><pre>RandomForestRegressor(random_state=42)</pre></div></div></div></div></div>"
      ],
      "text/plain": [
       "RandomForestRegressor(random_state=42)"
      ]
     },
     "execution_count": 18,
     "metadata": {},
     "output_type": "execute_result"
    }
   ],
   "source": [
    "%%time\n",
    "training_model.fit(X_train, y_train)"
   ]
  },
  {
   "cell_type": "code",
   "execution_count": 19,
   "id": "42828aac",
   "metadata": {
    "execution": {
     "iopub.execute_input": "2025-08-07T08:55:26.453677Z",
     "iopub.status.busy": "2025-08-07T08:55:26.453388Z",
     "iopub.status.idle": "2025-08-07T08:55:26.535743Z",
     "shell.execute_reply": "2025-08-07T08:55:26.534984Z"
    },
    "papermill": {
     "duration": 0.104079,
     "end_time": "2025-08-07T08:55:26.537142",
     "exception": false,
     "start_time": "2025-08-07T08:55:26.433063",
     "status": "completed"
    },
    "tags": []
   },
   "outputs": [
    {
     "data": {
      "text/plain": [
       "array([4.65  , 3.8406, 4.3719, ..., 3.7515, 4.713 , 4.6552])"
      ]
     },
     "execution_count": 19,
     "metadata": {},
     "output_type": "execute_result"
    }
   ],
   "source": [
    "y_pred = training_model.predict(X_test)\n",
    "y_pred"
   ]
  },
  {
   "cell_type": "code",
   "execution_count": 20,
   "id": "fe17e535",
   "metadata": {
    "execution": {
     "iopub.execute_input": "2025-08-07T08:55:26.579137Z",
     "iopub.status.busy": "2025-08-07T08:55:26.578353Z",
     "iopub.status.idle": "2025-08-07T08:55:26.585083Z",
     "shell.execute_reply": "2025-08-07T08:55:26.584264Z"
    },
    "papermill": {
     "duration": 0.029255,
     "end_time": "2025-08-07T08:55:26.586637",
     "exception": false,
     "start_time": "2025-08-07T08:55:26.557382",
     "status": "completed"
    },
    "tags": []
   },
   "outputs": [
    {
     "data": {
      "text/plain": [
       "5158     4.65\n",
       "3831     3.70\n",
       "5117     4.19\n",
       "6326     3.88\n",
       "11359    3.68\n",
       "         ... \n",
       "10290    5.17\n",
       "13995    4.48\n",
       "9665     3.91\n",
       "2276     4.00\n",
       "4174     4.65\n",
       "Name: Visibility, Length: 2924, dtype: float64"
      ]
     },
     "execution_count": 20,
     "metadata": {},
     "output_type": "execute_result"
    }
   ],
   "source": [
    "y_test"
   ]
  },
  {
   "cell_type": "code",
   "execution_count": 21,
   "id": "cdce59c2",
   "metadata": {
    "execution": {
     "iopub.execute_input": "2025-08-07T08:55:26.629139Z",
     "iopub.status.busy": "2025-08-07T08:55:26.628759Z",
     "iopub.status.idle": "2025-08-07T08:55:26.634833Z",
     "shell.execute_reply": "2025-08-07T08:55:26.634081Z"
    },
    "papermill": {
     "duration": 0.028451,
     "end_time": "2025-08-07T08:55:26.636027",
     "exception": false,
     "start_time": "2025-08-07T08:55:26.607576",
     "status": "completed"
    },
    "tags": []
   },
   "outputs": [],
   "source": [
    "mse = mean_squared_error(y_test, y_pred)\n",
    "mae = mean_absolute_error(y_test, y_pred)\n",
    "r2 = r2_score(y_test, y_pred)\n",
    "rmse = math.sqrt(mse)"
   ]
  },
  {
   "cell_type": "code",
   "execution_count": 22,
   "id": "72b76302",
   "metadata": {
    "execution": {
     "iopub.execute_input": "2025-08-07T08:55:26.677389Z",
     "iopub.status.busy": "2025-08-07T08:55:26.676716Z",
     "iopub.status.idle": "2025-08-07T08:55:26.681892Z",
     "shell.execute_reply": "2025-08-07T08:55:26.681056Z"
    },
    "papermill": {
     "duration": 0.027289,
     "end_time": "2025-08-07T08:55:26.683230",
     "exception": false,
     "start_time": "2025-08-07T08:55:26.655941",
     "status": "completed"
    },
    "tags": []
   },
   "outputs": [
    {
     "name": "stdout",
     "output_type": "stream",
     "text": [
      "MSE Score: 0.8680991684131328\n",
      "MAE Score: 0.3667290697674418\n",
      "R2 Score: 0.5551335391215393\n",
      "RMSE Score: 0.9317183954463564\n"
     ]
    }
   ],
   "source": [
    "print(\"MSE Score:\", mse)\n",
    "print(\"MAE Score:\", mae)\n",
    "print(\"R2 Score:\", r2)\n",
    "print(\"RMSE Score:\", rmse)"
   ]
  },
  {
   "cell_type": "code",
   "execution_count": 23,
   "id": "db694caf",
   "metadata": {
    "execution": {
     "iopub.execute_input": "2025-08-07T08:55:26.724747Z",
     "iopub.status.busy": "2025-08-07T08:55:26.724450Z",
     "iopub.status.idle": "2025-08-07T08:55:26.739947Z",
     "shell.execute_reply": "2025-08-07T08:55:26.738891Z"
    },
    "papermill": {
     "duration": 0.037823,
     "end_time": "2025-08-07T08:55:26.741346",
     "exception": false,
     "start_time": "2025-08-07T08:55:26.703523",
     "status": "completed"
    },
    "tags": []
   },
   "outputs": [
    {
     "name": "stdout",
     "output_type": "stream",
     "text": [
      "✨ New regression model added:\n",
      "   MSE: 0.868099, R²: 0.555134\n",
      "   Features: 27\n",
      "💾 Registry updated: Model_Training_History/History_Regression.csv\n"
     ]
    }
   ],
   "source": [
    "regression_params = {\n",
    "    'model_name': model_name_for_saving,\n",
    "    'scaler_name': \"MinMaxScaler\",\n",
    "    'features_list': feature_columns_for_saving,\n",
    "    'target_column': target_name_for_saving,\n",
    "    'mse': mse,\n",
    "    'mae': mae,\n",
    "    'rmse': rmse,\n",
    "    'r2': r2,\n",
    "    'parameters': json.dumps(training_model.get_params())\n",
    "}\n",
    "save_model_performance_if_better('regression', regression_params)"
   ]
  },
  {
   "cell_type": "markdown",
   "id": "73a0dde2",
   "metadata": {
    "papermill": {
     "duration": 0.021037,
     "end_time": "2025-08-07T08:55:26.783381",
     "exception": false,
     "start_time": "2025-08-07T08:55:26.762344",
     "status": "completed"
    },
    "tags": []
   },
   "source": [
    "### Tuning with Randomized Grid Search"
   ]
  },
  {
   "cell_type": "code",
   "execution_count": 24,
   "id": "809e9707",
   "metadata": {
    "execution": {
     "iopub.execute_input": "2025-08-07T08:55:26.827381Z",
     "iopub.status.busy": "2025-08-07T08:55:26.826666Z",
     "iopub.status.idle": "2025-08-07T08:55:26.831532Z",
     "shell.execute_reply": "2025-08-07T08:55:26.830687Z"
    },
    "papermill": {
     "duration": 0.028842,
     "end_time": "2025-08-07T08:55:26.832978",
     "exception": false,
     "start_time": "2025-08-07T08:55:26.804136",
     "status": "completed"
    },
    "tags": []
   },
   "outputs": [],
   "source": [
    "grid_search = RandomizedSearchCV(\n",
    "    RandomForestRegressor(random_state=42), \n",
    "    grid_param,\n",
    "    n_iter=number_of_model_for_randomized_grid,\n",
    "    cv=5,\n",
    "    scoring='neg_mean_squared_error',\n",
    "    n_jobs=-1,\n",
    "    verbose=1,\n",
    "    random_state=42\n",
    ")"
   ]
  },
  {
   "cell_type": "code",
   "execution_count": 25,
   "id": "1593de4c",
   "metadata": {
    "execution": {
     "iopub.execute_input": "2025-08-07T08:55:26.877176Z",
     "iopub.status.busy": "2025-08-07T08:55:26.876839Z",
     "iopub.status.idle": "2025-08-07T10:37:21.990225Z",
     "shell.execute_reply": "2025-08-07T10:37:21.989196Z"
    },
    "papermill": {
     "duration": 6115.160551,
     "end_time": "2025-08-07T10:37:22.014819",
     "exception": false,
     "start_time": "2025-08-07T08:55:26.854268",
     "status": "completed"
    },
    "tags": []
   },
   "outputs": [
    {
     "name": "stdout",
     "output_type": "stream",
     "text": [
      "Starting hyperparameter tuning...\n",
      "Fitting 5 folds for each of 600 candidates, totalling 3000 fits\n",
      "CPU times: user 37.1 s, sys: 10.6 s, total: 47.7 s\n",
      "Wall time: 1h 41min 55s\n"
     ]
    },
    {
     "data": {
      "text/html": [
       "<style>#sk-container-id-3 {color: black;background-color: white;}#sk-container-id-3 pre{padding: 0;}#sk-container-id-3 div.sk-toggleable {background-color: white;}#sk-container-id-3 label.sk-toggleable__label {cursor: pointer;display: block;width: 100%;margin-bottom: 0;padding: 0.3em;box-sizing: border-box;text-align: center;}#sk-container-id-3 label.sk-toggleable__label-arrow:before {content: \"▸\";float: left;margin-right: 0.25em;color: #696969;}#sk-container-id-3 label.sk-toggleable__label-arrow:hover:before {color: black;}#sk-container-id-3 div.sk-estimator:hover label.sk-toggleable__label-arrow:before {color: black;}#sk-container-id-3 div.sk-toggleable__content {max-height: 0;max-width: 0;overflow: hidden;text-align: left;background-color: #f0f8ff;}#sk-container-id-3 div.sk-toggleable__content pre {margin: 0.2em;color: black;border-radius: 0.25em;background-color: #f0f8ff;}#sk-container-id-3 input.sk-toggleable__control:checked~div.sk-toggleable__content {max-height: 200px;max-width: 100%;overflow: auto;}#sk-container-id-3 input.sk-toggleable__control:checked~label.sk-toggleable__label-arrow:before {content: \"▾\";}#sk-container-id-3 div.sk-estimator input.sk-toggleable__control:checked~label.sk-toggleable__label {background-color: #d4ebff;}#sk-container-id-3 div.sk-label input.sk-toggleable__control:checked~label.sk-toggleable__label {background-color: #d4ebff;}#sk-container-id-3 input.sk-hidden--visually {border: 0;clip: rect(1px 1px 1px 1px);clip: rect(1px, 1px, 1px, 1px);height: 1px;margin: -1px;overflow: hidden;padding: 0;position: absolute;width: 1px;}#sk-container-id-3 div.sk-estimator {font-family: monospace;background-color: #f0f8ff;border: 1px dotted black;border-radius: 0.25em;box-sizing: border-box;margin-bottom: 0.5em;}#sk-container-id-3 div.sk-estimator:hover {background-color: #d4ebff;}#sk-container-id-3 div.sk-parallel-item::after {content: \"\";width: 100%;border-bottom: 1px solid gray;flex-grow: 1;}#sk-container-id-3 div.sk-label:hover label.sk-toggleable__label {background-color: #d4ebff;}#sk-container-id-3 div.sk-serial::before {content: \"\";position: absolute;border-left: 1px solid gray;box-sizing: border-box;top: 0;bottom: 0;left: 50%;z-index: 0;}#sk-container-id-3 div.sk-serial {display: flex;flex-direction: column;align-items: center;background-color: white;padding-right: 0.2em;padding-left: 0.2em;position: relative;}#sk-container-id-3 div.sk-item {position: relative;z-index: 1;}#sk-container-id-3 div.sk-parallel {display: flex;align-items: stretch;justify-content: center;background-color: white;position: relative;}#sk-container-id-3 div.sk-item::before, #sk-container-id-3 div.sk-parallel-item::before {content: \"\";position: absolute;border-left: 1px solid gray;box-sizing: border-box;top: 0;bottom: 0;left: 50%;z-index: -1;}#sk-container-id-3 div.sk-parallel-item {display: flex;flex-direction: column;z-index: 1;position: relative;background-color: white;}#sk-container-id-3 div.sk-parallel-item:first-child::after {align-self: flex-end;width: 50%;}#sk-container-id-3 div.sk-parallel-item:last-child::after {align-self: flex-start;width: 50%;}#sk-container-id-3 div.sk-parallel-item:only-child::after {width: 0;}#sk-container-id-3 div.sk-dashed-wrapped {border: 1px dashed gray;margin: 0 0.4em 0.5em 0.4em;box-sizing: border-box;padding-bottom: 0.4em;background-color: white;}#sk-container-id-3 div.sk-label label {font-family: monospace;font-weight: bold;display: inline-block;line-height: 1.2em;}#sk-container-id-3 div.sk-label-container {text-align: center;}#sk-container-id-3 div.sk-container {/* jupyter's `normalize.less` sets `[hidden] { display: none; }` but bootstrap.min.css set `[hidden] { display: none !important; }` so we also need the `!important` here to be able to override the default hidden behavior on the sphinx rendered scikit-learn.org. See: https://github.com/scikit-learn/scikit-learn/issues/21755 */display: inline-block !important;position: relative;}#sk-container-id-3 div.sk-text-repr-fallback {display: none;}</style><div id=\"sk-container-id-3\" class=\"sk-top-container\"><div class=\"sk-text-repr-fallback\"><pre>RandomizedSearchCV(cv=5, estimator=RandomForestRegressor(random_state=42),\n",
       "                   n_iter=600, n_jobs=-1,\n",
       "                   param_distributions=[{&#x27;bootstrap&#x27;: [True],\n",
       "                                         &#x27;max_depth&#x27;: [None, 10, 20, 30],\n",
       "                                         &#x27;max_features&#x27;: [&#x27;sqrt&#x27;, &#x27;log2&#x27;, None],\n",
       "                                         &#x27;max_samples&#x27;: [None, 0.8, 0.9],\n",
       "                                         &#x27;min_impurity_decrease&#x27;: [0.0, 0.01,\n",
       "                                                                   0.02],\n",
       "                                         &#x27;min_samples_leaf&#x27;: [1, 2, 4, 6],\n",
       "                                         &#x27;min_samples_split&#x27;: [2, 5, 10, 15,\n",
       "                                                               20],\n",
       "                                         &#x27;n_estimators&#x27;: [100, 200, 300]},\n",
       "                                        {&#x27;bootstrap&#x27;: [False],\n",
       "                                         &#x27;max_depth&#x27;: [None, 10, 20, 30],\n",
       "                                         &#x27;max_features&#x27;: [&#x27;sqrt&#x27;, &#x27;log2&#x27;, None],\n",
       "                                         &#x27;min_impurity_decrease&#x27;: [0.0, 0.01,\n",
       "                                                                   0.02],\n",
       "                                         &#x27;min_samples_leaf&#x27;: [1, 2, 4, 6],\n",
       "                                         &#x27;min_samples_split&#x27;: [2, 5, 10, 15,\n",
       "                                                               20],\n",
       "                                         &#x27;n_estimators&#x27;: [100, 200, 300]}],\n",
       "                   random_state=42, scoring=&#x27;neg_mean_squared_error&#x27;,\n",
       "                   verbose=1)</pre><b>In a Jupyter environment, please rerun this cell to show the HTML representation or trust the notebook. <br />On GitHub, the HTML representation is unable to render, please try loading this page with nbviewer.org.</b></div><div class=\"sk-container\" hidden><div class=\"sk-item sk-dashed-wrapped\"><div class=\"sk-label-container\"><div class=\"sk-label sk-toggleable\"><input class=\"sk-toggleable__control sk-hidden--visually\" id=\"sk-estimator-id-3\" type=\"checkbox\" ><label for=\"sk-estimator-id-3\" class=\"sk-toggleable__label sk-toggleable__label-arrow\">RandomizedSearchCV</label><div class=\"sk-toggleable__content\"><pre>RandomizedSearchCV(cv=5, estimator=RandomForestRegressor(random_state=42),\n",
       "                   n_iter=600, n_jobs=-1,\n",
       "                   param_distributions=[{&#x27;bootstrap&#x27;: [True],\n",
       "                                         &#x27;max_depth&#x27;: [None, 10, 20, 30],\n",
       "                                         &#x27;max_features&#x27;: [&#x27;sqrt&#x27;, &#x27;log2&#x27;, None],\n",
       "                                         &#x27;max_samples&#x27;: [None, 0.8, 0.9],\n",
       "                                         &#x27;min_impurity_decrease&#x27;: [0.0, 0.01,\n",
       "                                                                   0.02],\n",
       "                                         &#x27;min_samples_leaf&#x27;: [1, 2, 4, 6],\n",
       "                                         &#x27;min_samples_split&#x27;: [2, 5, 10, 15,\n",
       "                                                               20],\n",
       "                                         &#x27;n_estimators&#x27;: [100, 200, 300]},\n",
       "                                        {&#x27;bootstrap&#x27;: [False],\n",
       "                                         &#x27;max_depth&#x27;: [None, 10, 20, 30],\n",
       "                                         &#x27;max_features&#x27;: [&#x27;sqrt&#x27;, &#x27;log2&#x27;, None],\n",
       "                                         &#x27;min_impurity_decrease&#x27;: [0.0, 0.01,\n",
       "                                                                   0.02],\n",
       "                                         &#x27;min_samples_leaf&#x27;: [1, 2, 4, 6],\n",
       "                                         &#x27;min_samples_split&#x27;: [2, 5, 10, 15,\n",
       "                                                               20],\n",
       "                                         &#x27;n_estimators&#x27;: [100, 200, 300]}],\n",
       "                   random_state=42, scoring=&#x27;neg_mean_squared_error&#x27;,\n",
       "                   verbose=1)</pre></div></div></div><div class=\"sk-parallel\"><div class=\"sk-parallel-item\"><div class=\"sk-item\"><div class=\"sk-label-container\"><div class=\"sk-label sk-toggleable\"><input class=\"sk-toggleable__control sk-hidden--visually\" id=\"sk-estimator-id-4\" type=\"checkbox\" ><label for=\"sk-estimator-id-4\" class=\"sk-toggleable__label sk-toggleable__label-arrow\">estimator: RandomForestRegressor</label><div class=\"sk-toggleable__content\"><pre>RandomForestRegressor(random_state=42)</pre></div></div></div><div class=\"sk-serial\"><div class=\"sk-item\"><div class=\"sk-estimator sk-toggleable\"><input class=\"sk-toggleable__control sk-hidden--visually\" id=\"sk-estimator-id-5\" type=\"checkbox\" ><label for=\"sk-estimator-id-5\" class=\"sk-toggleable__label sk-toggleable__label-arrow\">RandomForestRegressor</label><div class=\"sk-toggleable__content\"><pre>RandomForestRegressor(random_state=42)</pre></div></div></div></div></div></div></div></div></div></div>"
      ],
      "text/plain": [
       "RandomizedSearchCV(cv=5, estimator=RandomForestRegressor(random_state=42),\n",
       "                   n_iter=600, n_jobs=-1,\n",
       "                   param_distributions=[{'bootstrap': [True],\n",
       "                                         'max_depth': [None, 10, 20, 30],\n",
       "                                         'max_features': ['sqrt', 'log2', None],\n",
       "                                         'max_samples': [None, 0.8, 0.9],\n",
       "                                         'min_impurity_decrease': [0.0, 0.01,\n",
       "                                                                   0.02],\n",
       "                                         'min_samples_leaf': [1, 2, 4, 6],\n",
       "                                         'min_samples_split': [2, 5, 10, 15,\n",
       "                                                               20],\n",
       "                                         'n_estimators': [100, 200, 300]},\n",
       "                                        {'bootstrap': [False],\n",
       "                                         'max_depth': [None, 10, 20, 30],\n",
       "                                         'max_features': ['sqrt', 'log2', None],\n",
       "                                         'min_impurity_decrease': [0.0, 0.01,\n",
       "                                                                   0.02],\n",
       "                                         'min_samples_leaf': [1, 2, 4, 6],\n",
       "                                         'min_samples_split': [2, 5, 10, 15,\n",
       "                                                               20],\n",
       "                                         'n_estimators': [100, 200, 300]}],\n",
       "                   random_state=42, scoring='neg_mean_squared_error',\n",
       "                   verbose=1)"
      ]
     },
     "execution_count": 25,
     "metadata": {},
     "output_type": "execute_result"
    }
   ],
   "source": [
    "%%time\n",
    "print(\"Starting hyperparameter tuning...\")\n",
    "grid_search.fit(X_train, y_train)"
   ]
  },
  {
   "cell_type": "code",
   "execution_count": 26,
   "id": "0a16cb34",
   "metadata": {
    "execution": {
     "iopub.execute_input": "2025-08-07T10:37:22.060152Z",
     "iopub.status.busy": "2025-08-07T10:37:22.059191Z",
     "iopub.status.idle": "2025-08-07T10:37:22.067418Z",
     "shell.execute_reply": "2025-08-07T10:37:22.066518Z"
    },
    "papermill": {
     "duration": 0.032372,
     "end_time": "2025-08-07T10:37:22.068806",
     "exception": false,
     "start_time": "2025-08-07T10:37:22.036434",
     "status": "completed"
    },
    "tags": []
   },
   "outputs": [
    {
     "name": "stdout",
     "output_type": "stream",
     "text": [
      "TUNING RESULTS\n",
      "==================================================\n",
      "Best Parameters: {'n_estimators': 300, 'min_samples_split': 5, 'min_samples_leaf': 1, 'min_impurity_decrease': 0.0, 'max_features': 'sqrt', 'max_depth': None, 'bootstrap': False}\n",
      "Best Cross-Validation Score (Negative MSE): -0.6726149589500539\n",
      "Best Cross-Validation Score (MSE): 0.6726149589500539\n",
      "Best Cross-Validation Score (RMSE): 0.82013106205658\n"
     ]
    }
   ],
   "source": [
    "print(\"TUNING RESULTS\")\n",
    "print(\"=\"*50)\n",
    "print(\"Best Parameters:\", grid_search.best_params_)\n",
    "print(\"Best Cross-Validation Score (Negative MSE):\", grid_search.best_score_)\n",
    "print(\"Best Cross-Validation Score (MSE):\", -grid_search.best_score_)\n",
    "print(\"Best Cross-Validation Score (RMSE):\", math.sqrt(-grid_search.best_score_))"
   ]
  },
  {
   "cell_type": "code",
   "execution_count": 27,
   "id": "56df739b",
   "metadata": {
    "execution": {
     "iopub.execute_input": "2025-08-07T10:37:22.114902Z",
     "iopub.status.busy": "2025-08-07T10:37:22.114155Z",
     "iopub.status.idle": "2025-08-07T10:37:22.355497Z",
     "shell.execute_reply": "2025-08-07T10:37:22.354562Z"
    },
    "papermill": {
     "duration": 0.266563,
     "end_time": "2025-08-07T10:37:22.357133",
     "exception": false,
     "start_time": "2025-08-07T10:37:22.090570",
     "status": "completed"
    },
    "tags": []
   },
   "outputs": [],
   "source": [
    "grid_search_best_model = grid_search.best_estimator_\n",
    "y_pred = grid_search_best_model.predict(X_test)"
   ]
  },
  {
   "cell_type": "code",
   "execution_count": 28,
   "id": "0f6d5d59",
   "metadata": {
    "execution": {
     "iopub.execute_input": "2025-08-07T10:37:22.402343Z",
     "iopub.status.busy": "2025-08-07T10:37:22.401523Z",
     "iopub.status.idle": "2025-08-07T10:37:22.408580Z",
     "shell.execute_reply": "2025-08-07T10:37:22.407730Z"
    },
    "papermill": {
     "duration": 0.031057,
     "end_time": "2025-08-07T10:37:22.410001",
     "exception": false,
     "start_time": "2025-08-07T10:37:22.378944",
     "status": "completed"
    },
    "tags": []
   },
   "outputs": [],
   "source": [
    "mse_grid_search = mean_squared_error(y_test, y_pred)\n",
    "mae_grid_search = mean_absolute_error(y_test, y_pred)\n",
    "r2_grid_search = r2_score(y_test, y_pred)\n",
    "rmse_grid_search = math.sqrt(mse_grid_search)"
   ]
  },
  {
   "cell_type": "code",
   "execution_count": 29,
   "id": "70e5119e",
   "metadata": {
    "execution": {
     "iopub.execute_input": "2025-08-07T10:37:22.454752Z",
     "iopub.status.busy": "2025-08-07T10:37:22.454131Z",
     "iopub.status.idle": "2025-08-07T10:37:22.459111Z",
     "shell.execute_reply": "2025-08-07T10:37:22.458278Z"
    },
    "papermill": {
     "duration": 0.028542,
     "end_time": "2025-08-07T10:37:22.460440",
     "exception": false,
     "start_time": "2025-08-07T10:37:22.431898",
     "status": "completed"
    },
    "tags": []
   },
   "outputs": [
    {
     "name": "stdout",
     "output_type": "stream",
     "text": [
      "MSE Score: 0.7359115099433431\n",
      "MAE Score: 0.3501060989512084\n",
      "R2 Score: 0.622874481556448\n",
      "RMSE Score: 0.8578528486537438\n"
     ]
    }
   ],
   "source": [
    "print(\"MSE Score:\", mse_grid_search)\n",
    "print(\"MAE Score:\", mae_grid_search)\n",
    "print(\"R2 Score:\", r2_grid_search)\n",
    "print(\"RMSE Score:\", rmse_grid_search)"
   ]
  },
  {
   "cell_type": "code",
   "execution_count": 30,
   "id": "32cac32f",
   "metadata": {
    "execution": {
     "iopub.execute_input": "2025-08-07T10:37:22.504803Z",
     "iopub.status.busy": "2025-08-07T10:37:22.504509Z",
     "iopub.status.idle": "2025-08-07T10:37:22.518573Z",
     "shell.execute_reply": "2025-08-07T10:37:22.517675Z"
    },
    "papermill": {
     "duration": 0.037663,
     "end_time": "2025-08-07T10:37:22.519980",
     "exception": false,
     "start_time": "2025-08-07T10:37:22.482317",
     "status": "completed"
    },
    "tags": []
   },
   "outputs": [
    {
     "name": "stdout",
     "output_type": "stream",
     "text": [
      "✨ New regression model added:\n",
      "   MSE: 0.735912, R²: 0.622874\n",
      "   Features: 27\n",
      "💾 Registry updated: Model_Training_History/History_Regression.csv\n"
     ]
    }
   ],
   "source": [
    "regression_params = {\n",
    "    'model_name': model_name_for_saving + \" Tuned\",\n",
    "    'scaler_name': \"MinMaxScaler\",\n",
    "    'features_list': feature_columns_for_saving,\n",
    "    'target_column': target_name_for_saving,\n",
    "    'mse': mse_grid_search,\n",
    "    'mae': mae_grid_search,\n",
    "    'rmse': rmse_grid_search,\n",
    "    'r2': r2_grid_search,\n",
    "    'parameters' : json.dumps({\n",
    "        \"best_params\": grid_search.best_params_,\n",
    "        \"cv_score\": grid_search.best_score_,\n",
    "        \"all_params\": grid_search_best_model.get_params()\n",
    "    })\n",
    "}\n",
    "save_model_performance_if_better('regression', regression_params)"
   ]
  },
  {
   "cell_type": "markdown",
   "id": "791a4082",
   "metadata": {
    "papermill": {
     "duration": 0.021447,
     "end_time": "2025-08-07T10:37:22.563383",
     "exception": false,
     "start_time": "2025-08-07T10:37:22.541936",
     "status": "completed"
    },
    "tags": []
   },
   "source": [
    "## Standard Scaler"
   ]
  },
  {
   "cell_type": "code",
   "execution_count": 31,
   "id": "c479401b",
   "metadata": {
    "execution": {
     "iopub.execute_input": "2025-08-07T10:37:22.608115Z",
     "iopub.status.busy": "2025-08-07T10:37:22.607826Z",
     "iopub.status.idle": "2025-08-07T10:37:22.642194Z",
     "shell.execute_reply": "2025-08-07T10:37:22.641499Z"
    },
    "papermill": {
     "duration": 0.058674,
     "end_time": "2025-08-07T10:37:22.643716",
     "exception": false,
     "start_time": "2025-08-07T10:37:22.585042",
     "status": "completed"
    },
    "tags": []
   },
   "outputs": [],
   "source": [
    "scaler = StandardScaler()\n",
    "X_train = scaler.fit_transform(X_train_raw)\n",
    "X_test = scaler.transform(X_test_raw)"
   ]
  },
  {
   "cell_type": "code",
   "execution_count": 32,
   "id": "5255c3c8",
   "metadata": {
    "execution": {
     "iopub.execute_input": "2025-08-07T10:37:22.688510Z",
     "iopub.status.busy": "2025-08-07T10:37:22.687812Z",
     "iopub.status.idle": "2025-08-07T10:37:22.695031Z",
     "shell.execute_reply": "2025-08-07T10:37:22.694252Z"
    },
    "papermill": {
     "duration": 0.030955,
     "end_time": "2025-08-07T10:37:22.696378",
     "exception": false,
     "start_time": "2025-08-07T10:37:22.665423",
     "status": "completed"
    },
    "tags": []
   },
   "outputs": [
    {
     "data": {
      "text/plain": [
       "array([[ 1.01884116,  1.17229173, -0.21938027, ..., -0.12088825,\n",
       "         1.52387472,  1.09644529],\n",
       "       [ 1.64376461, -0.75947244,  0.64624572, ..., -1.52028666,\n",
       "         0.24645772, -0.43343649],\n",
       "       [-1.16839092, -0.1913065 , -1.66209024, ..., -1.52028666,\n",
       "        -0.73592134, -0.43343649],\n",
       "       ...,\n",
       "       [ 0.70637943,  1.28592492, -0.21938027, ...,  0.96917545,\n",
       "         0.25618424, -0.30383078],\n",
       "       [-1.48085264, -0.30493969,  1.36760071, ..., -1.52028666,\n",
       "        -0.73592134, -0.43343649],\n",
       "       [ 1.01884116, -0.75947244, -0.50792226, ...,  1.01722469,\n",
       "         0.20430944,  0.85928021]])"
      ]
     },
     "execution_count": 32,
     "metadata": {},
     "output_type": "execute_result"
    }
   ],
   "source": [
    "X_train"
   ]
  },
  {
   "cell_type": "code",
   "execution_count": 33,
   "id": "acb7c10f",
   "metadata": {
    "execution": {
     "iopub.execute_input": "2025-08-07T10:37:22.741757Z",
     "iopub.status.busy": "2025-08-07T10:37:22.741127Z",
     "iopub.status.idle": "2025-08-07T10:37:22.746705Z",
     "shell.execute_reply": "2025-08-07T10:37:22.745942Z"
    },
    "papermill": {
     "duration": 0.029542,
     "end_time": "2025-08-07T10:37:22.747938",
     "exception": false,
     "start_time": "2025-08-07T10:37:22.718396",
     "status": "completed"
    },
    "tags": []
   },
   "outputs": [
    {
     "data": {
      "text/plain": [
       "array([[ 0.70637943, -1.44127155,  1.51187171, ...,  1.02148941,\n",
       "        -0.73592134, -0.43343649],\n",
       "       [ 0.08145598, -0.75947244,  0.50197472, ...,  1.23102956,\n",
       "        -0.49600038, -0.43343649],\n",
       "       [ 0.70637943, -1.55490474, -0.94073525, ...,  1.30438283,\n",
       "        -0.73592134, -0.43343649],\n",
       "       ...,\n",
       "       [-1.16839092, -0.98673881,  0.79051672, ..., -1.51659057,\n",
       "        -0.07775979, -0.43343649],\n",
       "       [-0.54346747, -1.21400518,  1.22332971, ..., -1.52028666,\n",
       "        -0.73592134,  0.71764924],\n",
       "       [ 0.08145598,  0.83139217,  1.51187171, ..., -0.05293696,\n",
       "        -0.73592134, -0.43343649]])"
      ]
     },
     "execution_count": 33,
     "metadata": {},
     "output_type": "execute_result"
    }
   ],
   "source": [
    "X_test"
   ]
  },
  {
   "cell_type": "markdown",
   "id": "ff3faaae",
   "metadata": {
    "papermill": {
     "duration": 0.021736,
     "end_time": "2025-08-07T10:37:22.791792",
     "exception": false,
     "start_time": "2025-08-07T10:37:22.770056",
     "status": "completed"
    },
    "tags": []
   },
   "source": [
    "### Default Parameters"
   ]
  },
  {
   "cell_type": "code",
   "execution_count": 34,
   "id": "df59a36c",
   "metadata": {
    "execution": {
     "iopub.execute_input": "2025-08-07T10:37:22.837893Z",
     "iopub.status.busy": "2025-08-07T10:37:22.837033Z",
     "iopub.status.idle": "2025-08-07T10:37:22.843447Z",
     "shell.execute_reply": "2025-08-07T10:37:22.842619Z"
    },
    "papermill": {
     "duration": 0.031034,
     "end_time": "2025-08-07T10:37:22.844773",
     "exception": false,
     "start_time": "2025-08-07T10:37:22.813739",
     "status": "completed"
    },
    "tags": []
   },
   "outputs": [
    {
     "data": {
      "text/html": [
       "<style>#sk-container-id-4 {color: black;background-color: white;}#sk-container-id-4 pre{padding: 0;}#sk-container-id-4 div.sk-toggleable {background-color: white;}#sk-container-id-4 label.sk-toggleable__label {cursor: pointer;display: block;width: 100%;margin-bottom: 0;padding: 0.3em;box-sizing: border-box;text-align: center;}#sk-container-id-4 label.sk-toggleable__label-arrow:before {content: \"▸\";float: left;margin-right: 0.25em;color: #696969;}#sk-container-id-4 label.sk-toggleable__label-arrow:hover:before {color: black;}#sk-container-id-4 div.sk-estimator:hover label.sk-toggleable__label-arrow:before {color: black;}#sk-container-id-4 div.sk-toggleable__content {max-height: 0;max-width: 0;overflow: hidden;text-align: left;background-color: #f0f8ff;}#sk-container-id-4 div.sk-toggleable__content pre {margin: 0.2em;color: black;border-radius: 0.25em;background-color: #f0f8ff;}#sk-container-id-4 input.sk-toggleable__control:checked~div.sk-toggleable__content {max-height: 200px;max-width: 100%;overflow: auto;}#sk-container-id-4 input.sk-toggleable__control:checked~label.sk-toggleable__label-arrow:before {content: \"▾\";}#sk-container-id-4 div.sk-estimator input.sk-toggleable__control:checked~label.sk-toggleable__label {background-color: #d4ebff;}#sk-container-id-4 div.sk-label input.sk-toggleable__control:checked~label.sk-toggleable__label {background-color: #d4ebff;}#sk-container-id-4 input.sk-hidden--visually {border: 0;clip: rect(1px 1px 1px 1px);clip: rect(1px, 1px, 1px, 1px);height: 1px;margin: -1px;overflow: hidden;padding: 0;position: absolute;width: 1px;}#sk-container-id-4 div.sk-estimator {font-family: monospace;background-color: #f0f8ff;border: 1px dotted black;border-radius: 0.25em;box-sizing: border-box;margin-bottom: 0.5em;}#sk-container-id-4 div.sk-estimator:hover {background-color: #d4ebff;}#sk-container-id-4 div.sk-parallel-item::after {content: \"\";width: 100%;border-bottom: 1px solid gray;flex-grow: 1;}#sk-container-id-4 div.sk-label:hover label.sk-toggleable__label {background-color: #d4ebff;}#sk-container-id-4 div.sk-serial::before {content: \"\";position: absolute;border-left: 1px solid gray;box-sizing: border-box;top: 0;bottom: 0;left: 50%;z-index: 0;}#sk-container-id-4 div.sk-serial {display: flex;flex-direction: column;align-items: center;background-color: white;padding-right: 0.2em;padding-left: 0.2em;position: relative;}#sk-container-id-4 div.sk-item {position: relative;z-index: 1;}#sk-container-id-4 div.sk-parallel {display: flex;align-items: stretch;justify-content: center;background-color: white;position: relative;}#sk-container-id-4 div.sk-item::before, #sk-container-id-4 div.sk-parallel-item::before {content: \"\";position: absolute;border-left: 1px solid gray;box-sizing: border-box;top: 0;bottom: 0;left: 50%;z-index: -1;}#sk-container-id-4 div.sk-parallel-item {display: flex;flex-direction: column;z-index: 1;position: relative;background-color: white;}#sk-container-id-4 div.sk-parallel-item:first-child::after {align-self: flex-end;width: 50%;}#sk-container-id-4 div.sk-parallel-item:last-child::after {align-self: flex-start;width: 50%;}#sk-container-id-4 div.sk-parallel-item:only-child::after {width: 0;}#sk-container-id-4 div.sk-dashed-wrapped {border: 1px dashed gray;margin: 0 0.4em 0.5em 0.4em;box-sizing: border-box;padding-bottom: 0.4em;background-color: white;}#sk-container-id-4 div.sk-label label {font-family: monospace;font-weight: bold;display: inline-block;line-height: 1.2em;}#sk-container-id-4 div.sk-label-container {text-align: center;}#sk-container-id-4 div.sk-container {/* jupyter's `normalize.less` sets `[hidden] { display: none; }` but bootstrap.min.css set `[hidden] { display: none !important; }` so we also need the `!important` here to be able to override the default hidden behavior on the sphinx rendered scikit-learn.org. See: https://github.com/scikit-learn/scikit-learn/issues/21755 */display: inline-block !important;position: relative;}#sk-container-id-4 div.sk-text-repr-fallback {display: none;}</style><div id=\"sk-container-id-4\" class=\"sk-top-container\"><div class=\"sk-text-repr-fallback\"><pre>RandomForestRegressor(random_state=42)</pre><b>In a Jupyter environment, please rerun this cell to show the HTML representation or trust the notebook. <br />On GitHub, the HTML representation is unable to render, please try loading this page with nbviewer.org.</b></div><div class=\"sk-container\" hidden><div class=\"sk-item\"><div class=\"sk-estimator sk-toggleable\"><input class=\"sk-toggleable__control sk-hidden--visually\" id=\"sk-estimator-id-6\" type=\"checkbox\" checked><label for=\"sk-estimator-id-6\" class=\"sk-toggleable__label sk-toggleable__label-arrow\">RandomForestRegressor</label><div class=\"sk-toggleable__content\"><pre>RandomForestRegressor(random_state=42)</pre></div></div></div></div></div>"
      ],
      "text/plain": [
       "RandomForestRegressor(random_state=42)"
      ]
     },
     "execution_count": 34,
     "metadata": {},
     "output_type": "execute_result"
    }
   ],
   "source": [
    "training_model = RandomForestRegressor(random_state=42)\n",
    "training_model"
   ]
  },
  {
   "cell_type": "code",
   "execution_count": 35,
   "id": "c3f489a2",
   "metadata": {
    "execution": {
     "iopub.execute_input": "2025-08-07T10:37:22.891674Z",
     "iopub.status.busy": "2025-08-07T10:37:22.890575Z",
     "iopub.status.idle": "2025-08-07T10:37:37.190941Z",
     "shell.execute_reply": "2025-08-07T10:37:37.190145Z"
    },
    "papermill": {
     "duration": 14.324933,
     "end_time": "2025-08-07T10:37:37.192125",
     "exception": false,
     "start_time": "2025-08-07T10:37:22.867192",
     "status": "completed"
    },
    "tags": []
   },
   "outputs": [
    {
     "name": "stdout",
     "output_type": "stream",
     "text": [
      "CPU times: user 14.3 s, sys: 0 ns, total: 14.3 s\n",
      "Wall time: 14.3 s\n"
     ]
    },
    {
     "data": {
      "text/html": [
       "<style>#sk-container-id-5 {color: black;background-color: white;}#sk-container-id-5 pre{padding: 0;}#sk-container-id-5 div.sk-toggleable {background-color: white;}#sk-container-id-5 label.sk-toggleable__label {cursor: pointer;display: block;width: 100%;margin-bottom: 0;padding: 0.3em;box-sizing: border-box;text-align: center;}#sk-container-id-5 label.sk-toggleable__label-arrow:before {content: \"▸\";float: left;margin-right: 0.25em;color: #696969;}#sk-container-id-5 label.sk-toggleable__label-arrow:hover:before {color: black;}#sk-container-id-5 div.sk-estimator:hover label.sk-toggleable__label-arrow:before {color: black;}#sk-container-id-5 div.sk-toggleable__content {max-height: 0;max-width: 0;overflow: hidden;text-align: left;background-color: #f0f8ff;}#sk-container-id-5 div.sk-toggleable__content pre {margin: 0.2em;color: black;border-radius: 0.25em;background-color: #f0f8ff;}#sk-container-id-5 input.sk-toggleable__control:checked~div.sk-toggleable__content {max-height: 200px;max-width: 100%;overflow: auto;}#sk-container-id-5 input.sk-toggleable__control:checked~label.sk-toggleable__label-arrow:before {content: \"▾\";}#sk-container-id-5 div.sk-estimator input.sk-toggleable__control:checked~label.sk-toggleable__label {background-color: #d4ebff;}#sk-container-id-5 div.sk-label input.sk-toggleable__control:checked~label.sk-toggleable__label {background-color: #d4ebff;}#sk-container-id-5 input.sk-hidden--visually {border: 0;clip: rect(1px 1px 1px 1px);clip: rect(1px, 1px, 1px, 1px);height: 1px;margin: -1px;overflow: hidden;padding: 0;position: absolute;width: 1px;}#sk-container-id-5 div.sk-estimator {font-family: monospace;background-color: #f0f8ff;border: 1px dotted black;border-radius: 0.25em;box-sizing: border-box;margin-bottom: 0.5em;}#sk-container-id-5 div.sk-estimator:hover {background-color: #d4ebff;}#sk-container-id-5 div.sk-parallel-item::after {content: \"\";width: 100%;border-bottom: 1px solid gray;flex-grow: 1;}#sk-container-id-5 div.sk-label:hover label.sk-toggleable__label {background-color: #d4ebff;}#sk-container-id-5 div.sk-serial::before {content: \"\";position: absolute;border-left: 1px solid gray;box-sizing: border-box;top: 0;bottom: 0;left: 50%;z-index: 0;}#sk-container-id-5 div.sk-serial {display: flex;flex-direction: column;align-items: center;background-color: white;padding-right: 0.2em;padding-left: 0.2em;position: relative;}#sk-container-id-5 div.sk-item {position: relative;z-index: 1;}#sk-container-id-5 div.sk-parallel {display: flex;align-items: stretch;justify-content: center;background-color: white;position: relative;}#sk-container-id-5 div.sk-item::before, #sk-container-id-5 div.sk-parallel-item::before {content: \"\";position: absolute;border-left: 1px solid gray;box-sizing: border-box;top: 0;bottom: 0;left: 50%;z-index: -1;}#sk-container-id-5 div.sk-parallel-item {display: flex;flex-direction: column;z-index: 1;position: relative;background-color: white;}#sk-container-id-5 div.sk-parallel-item:first-child::after {align-self: flex-end;width: 50%;}#sk-container-id-5 div.sk-parallel-item:last-child::after {align-self: flex-start;width: 50%;}#sk-container-id-5 div.sk-parallel-item:only-child::after {width: 0;}#sk-container-id-5 div.sk-dashed-wrapped {border: 1px dashed gray;margin: 0 0.4em 0.5em 0.4em;box-sizing: border-box;padding-bottom: 0.4em;background-color: white;}#sk-container-id-5 div.sk-label label {font-family: monospace;font-weight: bold;display: inline-block;line-height: 1.2em;}#sk-container-id-5 div.sk-label-container {text-align: center;}#sk-container-id-5 div.sk-container {/* jupyter's `normalize.less` sets `[hidden] { display: none; }` but bootstrap.min.css set `[hidden] { display: none !important; }` so we also need the `!important` here to be able to override the default hidden behavior on the sphinx rendered scikit-learn.org. See: https://github.com/scikit-learn/scikit-learn/issues/21755 */display: inline-block !important;position: relative;}#sk-container-id-5 div.sk-text-repr-fallback {display: none;}</style><div id=\"sk-container-id-5\" class=\"sk-top-container\"><div class=\"sk-text-repr-fallback\"><pre>RandomForestRegressor(random_state=42)</pre><b>In a Jupyter environment, please rerun this cell to show the HTML representation or trust the notebook. <br />On GitHub, the HTML representation is unable to render, please try loading this page with nbviewer.org.</b></div><div class=\"sk-container\" hidden><div class=\"sk-item\"><div class=\"sk-estimator sk-toggleable\"><input class=\"sk-toggleable__control sk-hidden--visually\" id=\"sk-estimator-id-7\" type=\"checkbox\" checked><label for=\"sk-estimator-id-7\" class=\"sk-toggleable__label sk-toggleable__label-arrow\">RandomForestRegressor</label><div class=\"sk-toggleable__content\"><pre>RandomForestRegressor(random_state=42)</pre></div></div></div></div></div>"
      ],
      "text/plain": [
       "RandomForestRegressor(random_state=42)"
      ]
     },
     "execution_count": 35,
     "metadata": {},
     "output_type": "execute_result"
    }
   ],
   "source": [
    "%%time\n",
    "training_model.fit(X_train, y_train)"
   ]
  },
  {
   "cell_type": "code",
   "execution_count": 36,
   "id": "a8908873",
   "metadata": {
    "execution": {
     "iopub.execute_input": "2025-08-07T10:37:37.237772Z",
     "iopub.status.busy": "2025-08-07T10:37:37.237475Z",
     "iopub.status.idle": "2025-08-07T10:37:37.320419Z",
     "shell.execute_reply": "2025-08-07T10:37:37.319360Z"
    },
    "papermill": {
     "duration": 0.107352,
     "end_time": "2025-08-07T10:37:37.321970",
     "exception": false,
     "start_time": "2025-08-07T10:37:37.214618",
     "status": "completed"
    },
    "tags": []
   },
   "outputs": [
    {
     "data": {
      "text/plain": [
       "array([4.65  , 3.838 , 4.3676, ..., 3.7608, 4.7088, 4.6552])"
      ]
     },
     "execution_count": 36,
     "metadata": {},
     "output_type": "execute_result"
    }
   ],
   "source": [
    "y_pred = training_model.predict(X_test)\n",
    "y_pred"
   ]
  },
  {
   "cell_type": "code",
   "execution_count": 37,
   "id": "1e63aab5",
   "metadata": {
    "execution": {
     "iopub.execute_input": "2025-08-07T10:37:37.368541Z",
     "iopub.status.busy": "2025-08-07T10:37:37.368241Z",
     "iopub.status.idle": "2025-08-07T10:37:37.375356Z",
     "shell.execute_reply": "2025-08-07T10:37:37.374516Z"
    },
    "papermill": {
     "duration": 0.032266,
     "end_time": "2025-08-07T10:37:37.376781",
     "exception": false,
     "start_time": "2025-08-07T10:37:37.344515",
     "status": "completed"
    },
    "tags": []
   },
   "outputs": [
    {
     "data": {
      "text/plain": [
       "5158     4.65\n",
       "3831     3.70\n",
       "5117     4.19\n",
       "6326     3.88\n",
       "11359    3.68\n",
       "         ... \n",
       "10290    5.17\n",
       "13995    4.48\n",
       "9665     3.91\n",
       "2276     4.00\n",
       "4174     4.65\n",
       "Name: Visibility, Length: 2924, dtype: float64"
      ]
     },
     "execution_count": 37,
     "metadata": {},
     "output_type": "execute_result"
    }
   ],
   "source": [
    "y_test"
   ]
  },
  {
   "cell_type": "code",
   "execution_count": 38,
   "id": "7959a870",
   "metadata": {
    "execution": {
     "iopub.execute_input": "2025-08-07T10:37:37.422667Z",
     "iopub.status.busy": "2025-08-07T10:37:37.422374Z",
     "iopub.status.idle": "2025-08-07T10:37:37.429399Z",
     "shell.execute_reply": "2025-08-07T10:37:37.428648Z"
    },
    "papermill": {
     "duration": 0.031619,
     "end_time": "2025-08-07T10:37:37.430804",
     "exception": false,
     "start_time": "2025-08-07T10:37:37.399185",
     "status": "completed"
    },
    "tags": []
   },
   "outputs": [],
   "source": [
    "mse = mean_squared_error(y_test, y_pred)\n",
    "mae = mean_absolute_error(y_test, y_pred)\n",
    "r2 = r2_score(y_test, y_pred)\n",
    "rmse = math.sqrt(mse)"
   ]
  },
  {
   "cell_type": "code",
   "execution_count": 39,
   "id": "060a392a",
   "metadata": {
    "execution": {
     "iopub.execute_input": "2025-08-07T10:37:37.477991Z",
     "iopub.status.busy": "2025-08-07T10:37:37.477668Z",
     "iopub.status.idle": "2025-08-07T10:37:37.482653Z",
     "shell.execute_reply": "2025-08-07T10:37:37.481734Z"
    },
    "papermill": {
     "duration": 0.03029,
     "end_time": "2025-08-07T10:37:37.483898",
     "exception": false,
     "start_time": "2025-08-07T10:37:37.453608",
     "status": "completed"
    },
    "tags": []
   },
   "outputs": [
    {
     "name": "stdout",
     "output_type": "stream",
     "text": [
      "MSE Score: 0.8637863868228457\n",
      "MAE Score: 0.3657951094391244\n",
      "R2 Score: 0.5573436689689392\n",
      "RMSE Score: 0.9294010903925418\n"
     ]
    }
   ],
   "source": [
    "print(\"MSE Score:\", mse)\n",
    "print(\"MAE Score:\", mae)\n",
    "print(\"R2 Score:\", r2)\n",
    "print(\"RMSE Score:\", rmse)"
   ]
  },
  {
   "cell_type": "code",
   "execution_count": 40,
   "id": "8e5395b4",
   "metadata": {
    "execution": {
     "iopub.execute_input": "2025-08-07T10:37:37.531083Z",
     "iopub.status.busy": "2025-08-07T10:37:37.530581Z",
     "iopub.status.idle": "2025-08-07T10:37:37.541400Z",
     "shell.execute_reply": "2025-08-07T10:37:37.540532Z"
    },
    "papermill": {
     "duration": 0.035905,
     "end_time": "2025-08-07T10:37:37.542921",
     "exception": false,
     "start_time": "2025-08-07T10:37:37.507016",
     "status": "completed"
    },
    "tags": []
   },
   "outputs": [
    {
     "name": "stdout",
     "output_type": "stream",
     "text": [
      "✨ New regression model added:\n",
      "   MSE: 0.863786, R²: 0.557344\n",
      "   Features: 27\n",
      "💾 Registry updated: Model_Training_History/History_Regression.csv\n"
     ]
    }
   ],
   "source": [
    "regression_params = {\n",
    "    'model_name': model_name_for_saving,\n",
    "    'scaler_name': \"StandardScaler\",\n",
    "    'features_list': feature_columns_for_saving,\n",
    "    'target_column': target_name_for_saving,\n",
    "    'mse': mse,\n",
    "    'mae': mae,\n",
    "    'rmse': rmse,\n",
    "    'r2': r2,\n",
    "    'parameters': json.dumps(training_model.get_params())\n",
    "}\n",
    "save_model_performance_if_better('regression', regression_params)"
   ]
  },
  {
   "cell_type": "markdown",
   "id": "d4f410e3",
   "metadata": {
    "papermill": {
     "duration": 0.022299,
     "end_time": "2025-08-07T10:37:37.588217",
     "exception": false,
     "start_time": "2025-08-07T10:37:37.565918",
     "status": "completed"
    },
    "tags": []
   },
   "source": [
    "### Tuning with Randomized Grid Search"
   ]
  },
  {
   "cell_type": "code",
   "execution_count": 41,
   "id": "bbb124af",
   "metadata": {
    "execution": {
     "iopub.execute_input": "2025-08-07T10:37:37.634988Z",
     "iopub.status.busy": "2025-08-07T10:37:37.634694Z",
     "iopub.status.idle": "2025-08-07T10:37:37.639413Z",
     "shell.execute_reply": "2025-08-07T10:37:37.638605Z"
    },
    "papermill": {
     "duration": 0.029949,
     "end_time": "2025-08-07T10:37:37.640830",
     "exception": false,
     "start_time": "2025-08-07T10:37:37.610881",
     "status": "completed"
    },
    "tags": []
   },
   "outputs": [],
   "source": [
    "grid_search = RandomizedSearchCV(\n",
    "    RandomForestRegressor(random_state=42), \n",
    "    grid_param,\n",
    "    n_iter=number_of_model_for_randomized_grid,\n",
    "    cv=5,\n",
    "    scoring='neg_mean_squared_error',\n",
    "    n_jobs=-1,\n",
    "    verbose=1,\n",
    "    random_state=42\n",
    ")"
   ]
  },
  {
   "cell_type": "code",
   "execution_count": 42,
   "id": "c2b87b71",
   "metadata": {
    "execution": {
     "iopub.execute_input": "2025-08-07T10:37:37.687858Z",
     "iopub.status.busy": "2025-08-07T10:37:37.687562Z",
     "iopub.status.idle": "2025-08-07T12:19:34.815120Z",
     "shell.execute_reply": "2025-08-07T12:19:34.814291Z"
    },
    "papermill": {
     "duration": 6117.176472,
     "end_time": "2025-08-07T12:19:34.840375",
     "exception": false,
     "start_time": "2025-08-07T10:37:37.663903",
     "status": "completed"
    },
    "tags": []
   },
   "outputs": [
    {
     "name": "stdout",
     "output_type": "stream",
     "text": [
      "Starting hyperparameter tuning...\n",
      "Fitting 5 folds for each of 600 candidates, totalling 3000 fits\n",
      "CPU times: user 36.6 s, sys: 10.5 s, total: 47.1 s\n",
      "Wall time: 1h 41min 57s\n"
     ]
    },
    {
     "data": {
      "text/html": [
       "<style>#sk-container-id-6 {color: black;background-color: white;}#sk-container-id-6 pre{padding: 0;}#sk-container-id-6 div.sk-toggleable {background-color: white;}#sk-container-id-6 label.sk-toggleable__label {cursor: pointer;display: block;width: 100%;margin-bottom: 0;padding: 0.3em;box-sizing: border-box;text-align: center;}#sk-container-id-6 label.sk-toggleable__label-arrow:before {content: \"▸\";float: left;margin-right: 0.25em;color: #696969;}#sk-container-id-6 label.sk-toggleable__label-arrow:hover:before {color: black;}#sk-container-id-6 div.sk-estimator:hover label.sk-toggleable__label-arrow:before {color: black;}#sk-container-id-6 div.sk-toggleable__content {max-height: 0;max-width: 0;overflow: hidden;text-align: left;background-color: #f0f8ff;}#sk-container-id-6 div.sk-toggleable__content pre {margin: 0.2em;color: black;border-radius: 0.25em;background-color: #f0f8ff;}#sk-container-id-6 input.sk-toggleable__control:checked~div.sk-toggleable__content {max-height: 200px;max-width: 100%;overflow: auto;}#sk-container-id-6 input.sk-toggleable__control:checked~label.sk-toggleable__label-arrow:before {content: \"▾\";}#sk-container-id-6 div.sk-estimator input.sk-toggleable__control:checked~label.sk-toggleable__label {background-color: #d4ebff;}#sk-container-id-6 div.sk-label input.sk-toggleable__control:checked~label.sk-toggleable__label {background-color: #d4ebff;}#sk-container-id-6 input.sk-hidden--visually {border: 0;clip: rect(1px 1px 1px 1px);clip: rect(1px, 1px, 1px, 1px);height: 1px;margin: -1px;overflow: hidden;padding: 0;position: absolute;width: 1px;}#sk-container-id-6 div.sk-estimator {font-family: monospace;background-color: #f0f8ff;border: 1px dotted black;border-radius: 0.25em;box-sizing: border-box;margin-bottom: 0.5em;}#sk-container-id-6 div.sk-estimator:hover {background-color: #d4ebff;}#sk-container-id-6 div.sk-parallel-item::after {content: \"\";width: 100%;border-bottom: 1px solid gray;flex-grow: 1;}#sk-container-id-6 div.sk-label:hover label.sk-toggleable__label {background-color: #d4ebff;}#sk-container-id-6 div.sk-serial::before {content: \"\";position: absolute;border-left: 1px solid gray;box-sizing: border-box;top: 0;bottom: 0;left: 50%;z-index: 0;}#sk-container-id-6 div.sk-serial {display: flex;flex-direction: column;align-items: center;background-color: white;padding-right: 0.2em;padding-left: 0.2em;position: relative;}#sk-container-id-6 div.sk-item {position: relative;z-index: 1;}#sk-container-id-6 div.sk-parallel {display: flex;align-items: stretch;justify-content: center;background-color: white;position: relative;}#sk-container-id-6 div.sk-item::before, #sk-container-id-6 div.sk-parallel-item::before {content: \"\";position: absolute;border-left: 1px solid gray;box-sizing: border-box;top: 0;bottom: 0;left: 50%;z-index: -1;}#sk-container-id-6 div.sk-parallel-item {display: flex;flex-direction: column;z-index: 1;position: relative;background-color: white;}#sk-container-id-6 div.sk-parallel-item:first-child::after {align-self: flex-end;width: 50%;}#sk-container-id-6 div.sk-parallel-item:last-child::after {align-self: flex-start;width: 50%;}#sk-container-id-6 div.sk-parallel-item:only-child::after {width: 0;}#sk-container-id-6 div.sk-dashed-wrapped {border: 1px dashed gray;margin: 0 0.4em 0.5em 0.4em;box-sizing: border-box;padding-bottom: 0.4em;background-color: white;}#sk-container-id-6 div.sk-label label {font-family: monospace;font-weight: bold;display: inline-block;line-height: 1.2em;}#sk-container-id-6 div.sk-label-container {text-align: center;}#sk-container-id-6 div.sk-container {/* jupyter's `normalize.less` sets `[hidden] { display: none; }` but bootstrap.min.css set `[hidden] { display: none !important; }` so we also need the `!important` here to be able to override the default hidden behavior on the sphinx rendered scikit-learn.org. See: https://github.com/scikit-learn/scikit-learn/issues/21755 */display: inline-block !important;position: relative;}#sk-container-id-6 div.sk-text-repr-fallback {display: none;}</style><div id=\"sk-container-id-6\" class=\"sk-top-container\"><div class=\"sk-text-repr-fallback\"><pre>RandomizedSearchCV(cv=5, estimator=RandomForestRegressor(random_state=42),\n",
       "                   n_iter=600, n_jobs=-1,\n",
       "                   param_distributions=[{&#x27;bootstrap&#x27;: [True],\n",
       "                                         &#x27;max_depth&#x27;: [None, 10, 20, 30],\n",
       "                                         &#x27;max_features&#x27;: [&#x27;sqrt&#x27;, &#x27;log2&#x27;, None],\n",
       "                                         &#x27;max_samples&#x27;: [None, 0.8, 0.9],\n",
       "                                         &#x27;min_impurity_decrease&#x27;: [0.0, 0.01,\n",
       "                                                                   0.02],\n",
       "                                         &#x27;min_samples_leaf&#x27;: [1, 2, 4, 6],\n",
       "                                         &#x27;min_samples_split&#x27;: [2, 5, 10, 15,\n",
       "                                                               20],\n",
       "                                         &#x27;n_estimators&#x27;: [100, 200, 300]},\n",
       "                                        {&#x27;bootstrap&#x27;: [False],\n",
       "                                         &#x27;max_depth&#x27;: [None, 10, 20, 30],\n",
       "                                         &#x27;max_features&#x27;: [&#x27;sqrt&#x27;, &#x27;log2&#x27;, None],\n",
       "                                         &#x27;min_impurity_decrease&#x27;: [0.0, 0.01,\n",
       "                                                                   0.02],\n",
       "                                         &#x27;min_samples_leaf&#x27;: [1, 2, 4, 6],\n",
       "                                         &#x27;min_samples_split&#x27;: [2, 5, 10, 15,\n",
       "                                                               20],\n",
       "                                         &#x27;n_estimators&#x27;: [100, 200, 300]}],\n",
       "                   random_state=42, scoring=&#x27;neg_mean_squared_error&#x27;,\n",
       "                   verbose=1)</pre><b>In a Jupyter environment, please rerun this cell to show the HTML representation or trust the notebook. <br />On GitHub, the HTML representation is unable to render, please try loading this page with nbviewer.org.</b></div><div class=\"sk-container\" hidden><div class=\"sk-item sk-dashed-wrapped\"><div class=\"sk-label-container\"><div class=\"sk-label sk-toggleable\"><input class=\"sk-toggleable__control sk-hidden--visually\" id=\"sk-estimator-id-8\" type=\"checkbox\" ><label for=\"sk-estimator-id-8\" class=\"sk-toggleable__label sk-toggleable__label-arrow\">RandomizedSearchCV</label><div class=\"sk-toggleable__content\"><pre>RandomizedSearchCV(cv=5, estimator=RandomForestRegressor(random_state=42),\n",
       "                   n_iter=600, n_jobs=-1,\n",
       "                   param_distributions=[{&#x27;bootstrap&#x27;: [True],\n",
       "                                         &#x27;max_depth&#x27;: [None, 10, 20, 30],\n",
       "                                         &#x27;max_features&#x27;: [&#x27;sqrt&#x27;, &#x27;log2&#x27;, None],\n",
       "                                         &#x27;max_samples&#x27;: [None, 0.8, 0.9],\n",
       "                                         &#x27;min_impurity_decrease&#x27;: [0.0, 0.01,\n",
       "                                                                   0.02],\n",
       "                                         &#x27;min_samples_leaf&#x27;: [1, 2, 4, 6],\n",
       "                                         &#x27;min_samples_split&#x27;: [2, 5, 10, 15,\n",
       "                                                               20],\n",
       "                                         &#x27;n_estimators&#x27;: [100, 200, 300]},\n",
       "                                        {&#x27;bootstrap&#x27;: [False],\n",
       "                                         &#x27;max_depth&#x27;: [None, 10, 20, 30],\n",
       "                                         &#x27;max_features&#x27;: [&#x27;sqrt&#x27;, &#x27;log2&#x27;, None],\n",
       "                                         &#x27;min_impurity_decrease&#x27;: [0.0, 0.01,\n",
       "                                                                   0.02],\n",
       "                                         &#x27;min_samples_leaf&#x27;: [1, 2, 4, 6],\n",
       "                                         &#x27;min_samples_split&#x27;: [2, 5, 10, 15,\n",
       "                                                               20],\n",
       "                                         &#x27;n_estimators&#x27;: [100, 200, 300]}],\n",
       "                   random_state=42, scoring=&#x27;neg_mean_squared_error&#x27;,\n",
       "                   verbose=1)</pre></div></div></div><div class=\"sk-parallel\"><div class=\"sk-parallel-item\"><div class=\"sk-item\"><div class=\"sk-label-container\"><div class=\"sk-label sk-toggleable\"><input class=\"sk-toggleable__control sk-hidden--visually\" id=\"sk-estimator-id-9\" type=\"checkbox\" ><label for=\"sk-estimator-id-9\" class=\"sk-toggleable__label sk-toggleable__label-arrow\">estimator: RandomForestRegressor</label><div class=\"sk-toggleable__content\"><pre>RandomForestRegressor(random_state=42)</pre></div></div></div><div class=\"sk-serial\"><div class=\"sk-item\"><div class=\"sk-estimator sk-toggleable\"><input class=\"sk-toggleable__control sk-hidden--visually\" id=\"sk-estimator-id-10\" type=\"checkbox\" ><label for=\"sk-estimator-id-10\" class=\"sk-toggleable__label sk-toggleable__label-arrow\">RandomForestRegressor</label><div class=\"sk-toggleable__content\"><pre>RandomForestRegressor(random_state=42)</pre></div></div></div></div></div></div></div></div></div></div>"
      ],
      "text/plain": [
       "RandomizedSearchCV(cv=5, estimator=RandomForestRegressor(random_state=42),\n",
       "                   n_iter=600, n_jobs=-1,\n",
       "                   param_distributions=[{'bootstrap': [True],\n",
       "                                         'max_depth': [None, 10, 20, 30],\n",
       "                                         'max_features': ['sqrt', 'log2', None],\n",
       "                                         'max_samples': [None, 0.8, 0.9],\n",
       "                                         'min_impurity_decrease': [0.0, 0.01,\n",
       "                                                                   0.02],\n",
       "                                         'min_samples_leaf': [1, 2, 4, 6],\n",
       "                                         'min_samples_split': [2, 5, 10, 15,\n",
       "                                                               20],\n",
       "                                         'n_estimators': [100, 200, 300]},\n",
       "                                        {'bootstrap': [False],\n",
       "                                         'max_depth': [None, 10, 20, 30],\n",
       "                                         'max_features': ['sqrt', 'log2', None],\n",
       "                                         'min_impurity_decrease': [0.0, 0.01,\n",
       "                                                                   0.02],\n",
       "                                         'min_samples_leaf': [1, 2, 4, 6],\n",
       "                                         'min_samples_split': [2, 5, 10, 15,\n",
       "                                                               20],\n",
       "                                         'n_estimators': [100, 200, 300]}],\n",
       "                   random_state=42, scoring='neg_mean_squared_error',\n",
       "                   verbose=1)"
      ]
     },
     "execution_count": 42,
     "metadata": {},
     "output_type": "execute_result"
    }
   ],
   "source": [
    "%%time\n",
    "print(\"Starting hyperparameter tuning...\")\n",
    "grid_search.fit(X_train, y_train)"
   ]
  },
  {
   "cell_type": "code",
   "execution_count": 43,
   "id": "1f6e65ff",
   "metadata": {
    "execution": {
     "iopub.execute_input": "2025-08-07T12:19:34.889325Z",
     "iopub.status.busy": "2025-08-07T12:19:34.888975Z",
     "iopub.status.idle": "2025-08-07T12:19:34.896426Z",
     "shell.execute_reply": "2025-08-07T12:19:34.895566Z"
    },
    "papermill": {
     "duration": 0.034169,
     "end_time": "2025-08-07T12:19:34.897856",
     "exception": false,
     "start_time": "2025-08-07T12:19:34.863687",
     "status": "completed"
    },
    "tags": []
   },
   "outputs": [
    {
     "name": "stdout",
     "output_type": "stream",
     "text": [
      "TUNING RESULTS\n",
      "==================================================\n",
      "Best Parameters: {'n_estimators': 300, 'min_samples_split': 5, 'min_samples_leaf': 1, 'min_impurity_decrease': 0.0, 'max_features': 'sqrt', 'max_depth': None, 'bootstrap': False}\n",
      "Best Cross-Validation Score (Negative MSE): -0.6731792422824221\n",
      "Best Cross-Validation Score (MSE): 0.6731792422824221\n",
      "Best Cross-Validation Score (RMSE): 0.8204750101510845\n"
     ]
    }
   ],
   "source": [
    "print(\"TUNING RESULTS\")\n",
    "print(\"=\"*50)\n",
    "print(\"Best Parameters:\", grid_search.best_params_)\n",
    "print(\"Best Cross-Validation Score (Negative MSE):\", grid_search.best_score_)\n",
    "print(\"Best Cross-Validation Score (MSE):\", -grid_search.best_score_)\n",
    "print(\"Best Cross-Validation Score (RMSE):\", math.sqrt(-grid_search.best_score_))"
   ]
  },
  {
   "cell_type": "code",
   "execution_count": 44,
   "id": "be027020",
   "metadata": {
    "execution": {
     "iopub.execute_input": "2025-08-07T12:19:34.947136Z",
     "iopub.status.busy": "2025-08-07T12:19:34.946377Z",
     "iopub.status.idle": "2025-08-07T12:19:35.189138Z",
     "shell.execute_reply": "2025-08-07T12:19:35.188246Z"
    },
    "papermill": {
     "duration": 0.269339,
     "end_time": "2025-08-07T12:19:35.190871",
     "exception": false,
     "start_time": "2025-08-07T12:19:34.921532",
     "status": "completed"
    },
    "tags": []
   },
   "outputs": [],
   "source": [
    "grid_search_best_model = grid_search.best_estimator_\n",
    "y_pred = grid_search_best_model.predict(X_test)"
   ]
  },
  {
   "cell_type": "code",
   "execution_count": 45,
   "id": "564a415b",
   "metadata": {
    "execution": {
     "iopub.execute_input": "2025-08-07T12:19:35.239484Z",
     "iopub.status.busy": "2025-08-07T12:19:35.239135Z",
     "iopub.status.idle": "2025-08-07T12:19:35.245652Z",
     "shell.execute_reply": "2025-08-07T12:19:35.244995Z"
    },
    "papermill": {
     "duration": 0.032566,
     "end_time": "2025-08-07T12:19:35.247027",
     "exception": false,
     "start_time": "2025-08-07T12:19:35.214461",
     "status": "completed"
    },
    "tags": []
   },
   "outputs": [],
   "source": [
    "mse_grid_search = mean_squared_error(y_test, y_pred)\n",
    "mae_grid_search = mean_absolute_error(y_test, y_pred)\n",
    "r2_grid_search = r2_score(y_test, y_pred)\n",
    "rmse_grid_search = math.sqrt(mse_grid_search)"
   ]
  },
  {
   "cell_type": "code",
   "execution_count": 46,
   "id": "00e49dc4",
   "metadata": {
    "execution": {
     "iopub.execute_input": "2025-08-07T12:19:35.295026Z",
     "iopub.status.busy": "2025-08-07T12:19:35.294713Z",
     "iopub.status.idle": "2025-08-07T12:19:35.299584Z",
     "shell.execute_reply": "2025-08-07T12:19:35.298782Z"
    },
    "papermill": {
     "duration": 0.030377,
     "end_time": "2025-08-07T12:19:35.300844",
     "exception": false,
     "start_time": "2025-08-07T12:19:35.270467",
     "status": "completed"
    },
    "tags": []
   },
   "outputs": [
    {
     "name": "stdout",
     "output_type": "stream",
     "text": [
      "MSE Score: 0.7359677768863361\n",
      "MAE Score: 0.34995220398236815\n",
      "R2 Score: 0.6228456469754409\n",
      "RMSE Score: 0.8578856432452615\n"
     ]
    }
   ],
   "source": [
    "print(\"MSE Score:\", mse_grid_search)\n",
    "print(\"MAE Score:\", mae_grid_search)\n",
    "print(\"R2 Score:\", r2_grid_search)\n",
    "print(\"RMSE Score:\", rmse_grid_search)"
   ]
  },
  {
   "cell_type": "code",
   "execution_count": 47,
   "id": "062a7272",
   "metadata": {
    "execution": {
     "iopub.execute_input": "2025-08-07T12:19:35.349239Z",
     "iopub.status.busy": "2025-08-07T12:19:35.348918Z",
     "iopub.status.idle": "2025-08-07T12:19:35.362722Z",
     "shell.execute_reply": "2025-08-07T12:19:35.361667Z"
    },
    "papermill": {
     "duration": 0.039791,
     "end_time": "2025-08-07T12:19:35.364155",
     "exception": false,
     "start_time": "2025-08-07T12:19:35.324364",
     "status": "completed"
    },
    "tags": []
   },
   "outputs": [
    {
     "name": "stdout",
     "output_type": "stream",
     "text": [
      "✨ New regression model added:\n",
      "   MSE: 0.735968, R²: 0.622846\n",
      "   Features: 27\n",
      "💾 Registry updated: Model_Training_History/History_Regression.csv\n"
     ]
    }
   ],
   "source": [
    "regression_params = {\n",
    "    'model_name': model_name_for_saving + \" Tuned\",\n",
    "    'scaler_name': \"StandardScaler\",\n",
    "    'features_list': feature_columns_for_saving,\n",
    "    'target_column': target_name_for_saving,\n",
    "    'mse': mse_grid_search,\n",
    "    'mae': mae_grid_search,\n",
    "    'rmse': rmse_grid_search,\n",
    "    'r2': r2_grid_search,\n",
    "    'parameters' : json.dumps({\n",
    "        \"best_params\": grid_search.best_params_,\n",
    "        \"cv_score\": grid_search.best_score_,\n",
    "        \"all_params\": grid_search_best_model.get_params()\n",
    "    })\n",
    "}\n",
    "save_model_performance_if_better('regression', regression_params)"
   ]
  },
  {
   "cell_type": "markdown",
   "id": "677fd102",
   "metadata": {
    "papermill": {
     "duration": 0.023309,
     "end_time": "2025-08-07T12:19:35.411849",
     "exception": false,
     "start_time": "2025-08-07T12:19:35.388540",
     "status": "completed"
    },
    "tags": []
   },
   "source": [
    "## Robust Scaler"
   ]
  },
  {
   "cell_type": "code",
   "execution_count": 48,
   "id": "fc743315",
   "metadata": {
    "execution": {
     "iopub.execute_input": "2025-08-07T12:19:35.460455Z",
     "iopub.status.busy": "2025-08-07T12:19:35.459689Z",
     "iopub.status.idle": "2025-08-07T12:19:35.494976Z",
     "shell.execute_reply": "2025-08-07T12:19:35.494280Z"
    },
    "papermill": {
     "duration": 0.06142,
     "end_time": "2025-08-07T12:19:35.496650",
     "exception": false,
     "start_time": "2025-08-07T12:19:35.435230",
     "status": "completed"
    },
    "tags": []
   },
   "outputs": [],
   "source": [
    "scaler = RobustScaler()\n",
    "X_train = scaler.fit_transform(X_train_raw)\n",
    "X_test = scaler.transform(X_test_raw)"
   ]
  },
  {
   "cell_type": "code",
   "execution_count": 49,
   "id": "eca6a6cb",
   "metadata": {
    "execution": {
     "iopub.execute_input": "2025-08-07T12:19:35.545744Z",
     "iopub.status.busy": "2025-08-07T12:19:35.544974Z",
     "iopub.status.idle": "2025-08-07T12:19:35.551632Z",
     "shell.execute_reply": "2025-08-07T12:19:35.550939Z"
    },
    "papermill": {
     "duration": 0.032567,
     "end_time": "2025-08-07T12:19:35.552952",
     "exception": false,
     "start_time": "2025-08-07T12:19:35.520385",
     "status": "completed"
    },
    "tags": []
   },
   "outputs": [
    {
     "data": {
      "text/plain": [
       "array([[ 0.6       ,  0.66666667, -0.16666667, ..., -0.03738547,\n",
       "         1.44008264,  8.87596899],\n",
       "       [ 1.        , -0.46666667,  0.33333333, ..., -0.84268652,\n",
       "         0.62603306,  0.        ],\n",
       "       [-0.8       , -0.13333333, -1.        , ..., -0.84268652,\n",
       "         0.        ,  0.        ],\n",
       "       ...,\n",
       "       [ 0.4       ,  0.73333333, -0.16666667, ...,  0.5899051 ,\n",
       "         0.6322314 ,  0.75193798],\n",
       "       [-1.        , -0.2       ,  0.75      , ..., -0.84268652,\n",
       "         0.        ,  0.        ],\n",
       "       [ 0.6       , -0.46666667, -0.33333333, ...,  0.61755563,\n",
       "         0.59917355,  7.5       ]])"
      ]
     },
     "execution_count": 49,
     "metadata": {},
     "output_type": "execute_result"
    }
   ],
   "source": [
    "X_train"
   ]
  },
  {
   "cell_type": "code",
   "execution_count": 50,
   "id": "9d6c2ee1",
   "metadata": {
    "execution": {
     "iopub.execute_input": "2025-08-07T12:19:35.603489Z",
     "iopub.status.busy": "2025-08-07T12:19:35.602658Z",
     "iopub.status.idle": "2025-08-07T12:19:35.608288Z",
     "shell.execute_reply": "2025-08-07T12:19:35.607535Z"
    },
    "papermill": {
     "duration": 0.032622,
     "end_time": "2025-08-07T12:19:35.609570",
     "exception": false,
     "start_time": "2025-08-07T12:19:35.576948",
     "status": "completed"
    },
    "tags": []
   },
   "outputs": [
    {
     "data": {
      "text/plain": [
       "array([[ 4.00000000e-01, -8.66666667e-01,  8.33333333e-01, ...,\n",
       "         6.20009817e-01,  0.00000000e+00,  0.00000000e+00],\n",
       "       [ 0.00000000e+00, -4.66666667e-01,  2.50000000e-01, ...,\n",
       "         7.40592277e-01,  1.52892562e-01,  0.00000000e+00],\n",
       "       [ 4.00000000e-01, -9.33333333e-01, -5.83333333e-01, ...,\n",
       "         7.82804319e-01,  0.00000000e+00,  0.00000000e+00],\n",
       "       ...,\n",
       "       [-8.00000000e-01, -6.00000000e-01,  4.16666667e-01, ...,\n",
       "        -8.40559555e-01,  4.19421488e-01,  0.00000000e+00],\n",
       "       [-4.00000000e-01, -7.33333333e-01,  6.66666667e-01, ...,\n",
       "        -8.42686518e-01,  0.00000000e+00,  6.67829457e+00],\n",
       "       [ 0.00000000e+00,  4.66666667e-01,  8.33333333e-01, ...,\n",
       "         1.71793194e-03,  0.00000000e+00,  0.00000000e+00]])"
      ]
     },
     "execution_count": 50,
     "metadata": {},
     "output_type": "execute_result"
    }
   ],
   "source": [
    "X_test"
   ]
  },
  {
   "cell_type": "markdown",
   "id": "648a40dc",
   "metadata": {
    "papermill": {
     "duration": 0.024293,
     "end_time": "2025-08-07T12:19:35.658783",
     "exception": false,
     "start_time": "2025-08-07T12:19:35.634490",
     "status": "completed"
    },
    "tags": []
   },
   "source": [
    "### Default Parameters"
   ]
  },
  {
   "cell_type": "code",
   "execution_count": 51,
   "id": "c67276cd",
   "metadata": {
    "execution": {
     "iopub.execute_input": "2025-08-07T12:19:35.707621Z",
     "iopub.status.busy": "2025-08-07T12:19:35.706963Z",
     "iopub.status.idle": "2025-08-07T12:19:35.712935Z",
     "shell.execute_reply": "2025-08-07T12:19:35.712265Z"
    },
    "papermill": {
     "duration": 0.031725,
     "end_time": "2025-08-07T12:19:35.714231",
     "exception": false,
     "start_time": "2025-08-07T12:19:35.682506",
     "status": "completed"
    },
    "tags": []
   },
   "outputs": [
    {
     "data": {
      "text/html": [
       "<style>#sk-container-id-7 {color: black;background-color: white;}#sk-container-id-7 pre{padding: 0;}#sk-container-id-7 div.sk-toggleable {background-color: white;}#sk-container-id-7 label.sk-toggleable__label {cursor: pointer;display: block;width: 100%;margin-bottom: 0;padding: 0.3em;box-sizing: border-box;text-align: center;}#sk-container-id-7 label.sk-toggleable__label-arrow:before {content: \"▸\";float: left;margin-right: 0.25em;color: #696969;}#sk-container-id-7 label.sk-toggleable__label-arrow:hover:before {color: black;}#sk-container-id-7 div.sk-estimator:hover label.sk-toggleable__label-arrow:before {color: black;}#sk-container-id-7 div.sk-toggleable__content {max-height: 0;max-width: 0;overflow: hidden;text-align: left;background-color: #f0f8ff;}#sk-container-id-7 div.sk-toggleable__content pre {margin: 0.2em;color: black;border-radius: 0.25em;background-color: #f0f8ff;}#sk-container-id-7 input.sk-toggleable__control:checked~div.sk-toggleable__content {max-height: 200px;max-width: 100%;overflow: auto;}#sk-container-id-7 input.sk-toggleable__control:checked~label.sk-toggleable__label-arrow:before {content: \"▾\";}#sk-container-id-7 div.sk-estimator input.sk-toggleable__control:checked~label.sk-toggleable__label {background-color: #d4ebff;}#sk-container-id-7 div.sk-label input.sk-toggleable__control:checked~label.sk-toggleable__label {background-color: #d4ebff;}#sk-container-id-7 input.sk-hidden--visually {border: 0;clip: rect(1px 1px 1px 1px);clip: rect(1px, 1px, 1px, 1px);height: 1px;margin: -1px;overflow: hidden;padding: 0;position: absolute;width: 1px;}#sk-container-id-7 div.sk-estimator {font-family: monospace;background-color: #f0f8ff;border: 1px dotted black;border-radius: 0.25em;box-sizing: border-box;margin-bottom: 0.5em;}#sk-container-id-7 div.sk-estimator:hover {background-color: #d4ebff;}#sk-container-id-7 div.sk-parallel-item::after {content: \"\";width: 100%;border-bottom: 1px solid gray;flex-grow: 1;}#sk-container-id-7 div.sk-label:hover label.sk-toggleable__label {background-color: #d4ebff;}#sk-container-id-7 div.sk-serial::before {content: \"\";position: absolute;border-left: 1px solid gray;box-sizing: border-box;top: 0;bottom: 0;left: 50%;z-index: 0;}#sk-container-id-7 div.sk-serial {display: flex;flex-direction: column;align-items: center;background-color: white;padding-right: 0.2em;padding-left: 0.2em;position: relative;}#sk-container-id-7 div.sk-item {position: relative;z-index: 1;}#sk-container-id-7 div.sk-parallel {display: flex;align-items: stretch;justify-content: center;background-color: white;position: relative;}#sk-container-id-7 div.sk-item::before, #sk-container-id-7 div.sk-parallel-item::before {content: \"\";position: absolute;border-left: 1px solid gray;box-sizing: border-box;top: 0;bottom: 0;left: 50%;z-index: -1;}#sk-container-id-7 div.sk-parallel-item {display: flex;flex-direction: column;z-index: 1;position: relative;background-color: white;}#sk-container-id-7 div.sk-parallel-item:first-child::after {align-self: flex-end;width: 50%;}#sk-container-id-7 div.sk-parallel-item:last-child::after {align-self: flex-start;width: 50%;}#sk-container-id-7 div.sk-parallel-item:only-child::after {width: 0;}#sk-container-id-7 div.sk-dashed-wrapped {border: 1px dashed gray;margin: 0 0.4em 0.5em 0.4em;box-sizing: border-box;padding-bottom: 0.4em;background-color: white;}#sk-container-id-7 div.sk-label label {font-family: monospace;font-weight: bold;display: inline-block;line-height: 1.2em;}#sk-container-id-7 div.sk-label-container {text-align: center;}#sk-container-id-7 div.sk-container {/* jupyter's `normalize.less` sets `[hidden] { display: none; }` but bootstrap.min.css set `[hidden] { display: none !important; }` so we also need the `!important` here to be able to override the default hidden behavior on the sphinx rendered scikit-learn.org. See: https://github.com/scikit-learn/scikit-learn/issues/21755 */display: inline-block !important;position: relative;}#sk-container-id-7 div.sk-text-repr-fallback {display: none;}</style><div id=\"sk-container-id-7\" class=\"sk-top-container\"><div class=\"sk-text-repr-fallback\"><pre>RandomForestRegressor(random_state=42)</pre><b>In a Jupyter environment, please rerun this cell to show the HTML representation or trust the notebook. <br />On GitHub, the HTML representation is unable to render, please try loading this page with nbviewer.org.</b></div><div class=\"sk-container\" hidden><div class=\"sk-item\"><div class=\"sk-estimator sk-toggleable\"><input class=\"sk-toggleable__control sk-hidden--visually\" id=\"sk-estimator-id-11\" type=\"checkbox\" checked><label for=\"sk-estimator-id-11\" class=\"sk-toggleable__label sk-toggleable__label-arrow\">RandomForestRegressor</label><div class=\"sk-toggleable__content\"><pre>RandomForestRegressor(random_state=42)</pre></div></div></div></div></div>"
      ],
      "text/plain": [
       "RandomForestRegressor(random_state=42)"
      ]
     },
     "execution_count": 51,
     "metadata": {},
     "output_type": "execute_result"
    }
   ],
   "source": [
    "training_model = RandomForestRegressor(random_state=42)\n",
    "training_model"
   ]
  },
  {
   "cell_type": "code",
   "execution_count": 52,
   "id": "89957984",
   "metadata": {
    "execution": {
     "iopub.execute_input": "2025-08-07T12:19:35.763174Z",
     "iopub.status.busy": "2025-08-07T12:19:35.762501Z",
     "iopub.status.idle": "2025-08-07T12:19:50.206829Z",
     "shell.execute_reply": "2025-08-07T12:19:50.205995Z"
    },
    "papermill": {
     "duration": 14.470411,
     "end_time": "2025-08-07T12:19:50.208296",
     "exception": false,
     "start_time": "2025-08-07T12:19:35.737885",
     "status": "completed"
    },
    "tags": []
   },
   "outputs": [
    {
     "name": "stdout",
     "output_type": "stream",
     "text": [
      "CPU times: user 14.4 s, sys: 0 ns, total: 14.4 s\n",
      "Wall time: 14.4 s\n"
     ]
    },
    {
     "data": {
      "text/html": [
       "<style>#sk-container-id-8 {color: black;background-color: white;}#sk-container-id-8 pre{padding: 0;}#sk-container-id-8 div.sk-toggleable {background-color: white;}#sk-container-id-8 label.sk-toggleable__label {cursor: pointer;display: block;width: 100%;margin-bottom: 0;padding: 0.3em;box-sizing: border-box;text-align: center;}#sk-container-id-8 label.sk-toggleable__label-arrow:before {content: \"▸\";float: left;margin-right: 0.25em;color: #696969;}#sk-container-id-8 label.sk-toggleable__label-arrow:hover:before {color: black;}#sk-container-id-8 div.sk-estimator:hover label.sk-toggleable__label-arrow:before {color: black;}#sk-container-id-8 div.sk-toggleable__content {max-height: 0;max-width: 0;overflow: hidden;text-align: left;background-color: #f0f8ff;}#sk-container-id-8 div.sk-toggleable__content pre {margin: 0.2em;color: black;border-radius: 0.25em;background-color: #f0f8ff;}#sk-container-id-8 input.sk-toggleable__control:checked~div.sk-toggleable__content {max-height: 200px;max-width: 100%;overflow: auto;}#sk-container-id-8 input.sk-toggleable__control:checked~label.sk-toggleable__label-arrow:before {content: \"▾\";}#sk-container-id-8 div.sk-estimator input.sk-toggleable__control:checked~label.sk-toggleable__label {background-color: #d4ebff;}#sk-container-id-8 div.sk-label input.sk-toggleable__control:checked~label.sk-toggleable__label {background-color: #d4ebff;}#sk-container-id-8 input.sk-hidden--visually {border: 0;clip: rect(1px 1px 1px 1px);clip: rect(1px, 1px, 1px, 1px);height: 1px;margin: -1px;overflow: hidden;padding: 0;position: absolute;width: 1px;}#sk-container-id-8 div.sk-estimator {font-family: monospace;background-color: #f0f8ff;border: 1px dotted black;border-radius: 0.25em;box-sizing: border-box;margin-bottom: 0.5em;}#sk-container-id-8 div.sk-estimator:hover {background-color: #d4ebff;}#sk-container-id-8 div.sk-parallel-item::after {content: \"\";width: 100%;border-bottom: 1px solid gray;flex-grow: 1;}#sk-container-id-8 div.sk-label:hover label.sk-toggleable__label {background-color: #d4ebff;}#sk-container-id-8 div.sk-serial::before {content: \"\";position: absolute;border-left: 1px solid gray;box-sizing: border-box;top: 0;bottom: 0;left: 50%;z-index: 0;}#sk-container-id-8 div.sk-serial {display: flex;flex-direction: column;align-items: center;background-color: white;padding-right: 0.2em;padding-left: 0.2em;position: relative;}#sk-container-id-8 div.sk-item {position: relative;z-index: 1;}#sk-container-id-8 div.sk-parallel {display: flex;align-items: stretch;justify-content: center;background-color: white;position: relative;}#sk-container-id-8 div.sk-item::before, #sk-container-id-8 div.sk-parallel-item::before {content: \"\";position: absolute;border-left: 1px solid gray;box-sizing: border-box;top: 0;bottom: 0;left: 50%;z-index: -1;}#sk-container-id-8 div.sk-parallel-item {display: flex;flex-direction: column;z-index: 1;position: relative;background-color: white;}#sk-container-id-8 div.sk-parallel-item:first-child::after {align-self: flex-end;width: 50%;}#sk-container-id-8 div.sk-parallel-item:last-child::after {align-self: flex-start;width: 50%;}#sk-container-id-8 div.sk-parallel-item:only-child::after {width: 0;}#sk-container-id-8 div.sk-dashed-wrapped {border: 1px dashed gray;margin: 0 0.4em 0.5em 0.4em;box-sizing: border-box;padding-bottom: 0.4em;background-color: white;}#sk-container-id-8 div.sk-label label {font-family: monospace;font-weight: bold;display: inline-block;line-height: 1.2em;}#sk-container-id-8 div.sk-label-container {text-align: center;}#sk-container-id-8 div.sk-container {/* jupyter's `normalize.less` sets `[hidden] { display: none; }` but bootstrap.min.css set `[hidden] { display: none !important; }` so we also need the `!important` here to be able to override the default hidden behavior on the sphinx rendered scikit-learn.org. See: https://github.com/scikit-learn/scikit-learn/issues/21755 */display: inline-block !important;position: relative;}#sk-container-id-8 div.sk-text-repr-fallback {display: none;}</style><div id=\"sk-container-id-8\" class=\"sk-top-container\"><div class=\"sk-text-repr-fallback\"><pre>RandomForestRegressor(random_state=42)</pre><b>In a Jupyter environment, please rerun this cell to show the HTML representation or trust the notebook. <br />On GitHub, the HTML representation is unable to render, please try loading this page with nbviewer.org.</b></div><div class=\"sk-container\" hidden><div class=\"sk-item\"><div class=\"sk-estimator sk-toggleable\"><input class=\"sk-toggleable__control sk-hidden--visually\" id=\"sk-estimator-id-12\" type=\"checkbox\" checked><label for=\"sk-estimator-id-12\" class=\"sk-toggleable__label sk-toggleable__label-arrow\">RandomForestRegressor</label><div class=\"sk-toggleable__content\"><pre>RandomForestRegressor(random_state=42)</pre></div></div></div></div></div>"
      ],
      "text/plain": [
       "RandomForestRegressor(random_state=42)"
      ]
     },
     "execution_count": 52,
     "metadata": {},
     "output_type": "execute_result"
    }
   ],
   "source": [
    "%%time\n",
    "training_model.fit(X_train, y_train)"
   ]
  },
  {
   "cell_type": "code",
   "execution_count": 53,
   "id": "7ad3d785",
   "metadata": {
    "execution": {
     "iopub.execute_input": "2025-08-07T12:19:50.258833Z",
     "iopub.status.busy": "2025-08-07T12:19:50.258549Z",
     "iopub.status.idle": "2025-08-07T12:19:50.343929Z",
     "shell.execute_reply": "2025-08-07T12:19:50.343018Z"
    },
    "papermill": {
     "duration": 0.112413,
     "end_time": "2025-08-07T12:19:50.345432",
     "exception": false,
     "start_time": "2025-08-07T12:19:50.233019",
     "status": "completed"
    },
    "tags": []
   },
   "outputs": [
    {
     "data": {
      "text/plain": [
       "array([4.65  , 3.8406, 4.3717, ..., 3.7515, 4.7088, 4.6552])"
      ]
     },
     "execution_count": 53,
     "metadata": {},
     "output_type": "execute_result"
    }
   ],
   "source": [
    "y_pred = training_model.predict(X_test)\n",
    "y_pred"
   ]
  },
  {
   "cell_type": "code",
   "execution_count": 54,
   "id": "dd8650c6",
   "metadata": {
    "execution": {
     "iopub.execute_input": "2025-08-07T12:19:50.396409Z",
     "iopub.status.busy": "2025-08-07T12:19:50.396049Z",
     "iopub.status.idle": "2025-08-07T12:19:50.403014Z",
     "shell.execute_reply": "2025-08-07T12:19:50.402271Z"
    },
    "papermill": {
     "duration": 0.033881,
     "end_time": "2025-08-07T12:19:50.404479",
     "exception": false,
     "start_time": "2025-08-07T12:19:50.370598",
     "status": "completed"
    },
    "tags": []
   },
   "outputs": [
    {
     "data": {
      "text/plain": [
       "5158     4.65\n",
       "3831     3.70\n",
       "5117     4.19\n",
       "6326     3.88\n",
       "11359    3.68\n",
       "         ... \n",
       "10290    5.17\n",
       "13995    4.48\n",
       "9665     3.91\n",
       "2276     4.00\n",
       "4174     4.65\n",
       "Name: Visibility, Length: 2924, dtype: float64"
      ]
     },
     "execution_count": 54,
     "metadata": {},
     "output_type": "execute_result"
    }
   ],
   "source": [
    "y_test"
   ]
  },
  {
   "cell_type": "code",
   "execution_count": 55,
   "id": "32d612d8",
   "metadata": {
    "execution": {
     "iopub.execute_input": "2025-08-07T12:19:50.455990Z",
     "iopub.status.busy": "2025-08-07T12:19:50.455348Z",
     "iopub.status.idle": "2025-08-07T12:19:50.462504Z",
     "shell.execute_reply": "2025-08-07T12:19:50.461736Z"
    },
    "papermill": {
     "duration": 0.034321,
     "end_time": "2025-08-07T12:19:50.463792",
     "exception": false,
     "start_time": "2025-08-07T12:19:50.429471",
     "status": "completed"
    },
    "tags": []
   },
   "outputs": [],
   "source": [
    "mse = mean_squared_error(y_test, y_pred)\n",
    "mae = mean_absolute_error(y_test, y_pred)\n",
    "r2 = r2_score(y_test, y_pred)\n",
    "rmse = math.sqrt(mse)"
   ]
  },
  {
   "cell_type": "code",
   "execution_count": 56,
   "id": "fb76de9f",
   "metadata": {
    "execution": {
     "iopub.execute_input": "2025-08-07T12:19:50.516274Z",
     "iopub.status.busy": "2025-08-07T12:19:50.515936Z",
     "iopub.status.idle": "2025-08-07T12:19:50.520781Z",
     "shell.execute_reply": "2025-08-07T12:19:50.519813Z"
    },
    "papermill": {
     "duration": 0.033601,
     "end_time": "2025-08-07T12:19:50.522156",
     "exception": false,
     "start_time": "2025-08-07T12:19:50.488555",
     "status": "completed"
    },
    "tags": []
   },
   "outputs": [
    {
     "name": "stdout",
     "output_type": "stream",
     "text": [
      "MSE Score: 0.8688912617339263\n",
      "MAE Score: 0.366941073871409\n",
      "R2 Score: 0.5547276226489422\n",
      "RMSE Score: 0.9321433697312481\n"
     ]
    }
   ],
   "source": [
    "print(\"MSE Score:\", mse)\n",
    "print(\"MAE Score:\", mae)\n",
    "print(\"R2 Score:\", r2)\n",
    "print(\"RMSE Score:\", rmse)"
   ]
  },
  {
   "cell_type": "code",
   "execution_count": 57,
   "id": "864d442b",
   "metadata": {
    "execution": {
     "iopub.execute_input": "2025-08-07T12:19:50.572760Z",
     "iopub.status.busy": "2025-08-07T12:19:50.572444Z",
     "iopub.status.idle": "2025-08-07T12:19:50.583799Z",
     "shell.execute_reply": "2025-08-07T12:19:50.582928Z"
    },
    "papermill": {
     "duration": 0.03826,
     "end_time": "2025-08-07T12:19:50.585308",
     "exception": false,
     "start_time": "2025-08-07T12:19:50.547048",
     "status": "completed"
    },
    "tags": []
   },
   "outputs": [
    {
     "name": "stdout",
     "output_type": "stream",
     "text": [
      "✨ New regression model added:\n",
      "   MSE: 0.868891, R²: 0.554728\n",
      "   Features: 27\n",
      "💾 Registry updated: Model_Training_History/History_Regression.csv\n"
     ]
    }
   ],
   "source": [
    "regression_params = {\n",
    "    'model_name': model_name_for_saving,\n",
    "    'scaler_name': \"RobustScaler\",\n",
    "    'features_list': feature_columns_for_saving,\n",
    "    'target_column': target_name_for_saving,\n",
    "    'mse': mse,\n",
    "    'mae': mae,\n",
    "    'rmse': rmse,\n",
    "    'r2': r2,\n",
    "    'parameters': json.dumps(training_model.get_params())\n",
    "}\n",
    "save_model_performance_if_better('regression', regression_params)"
   ]
  },
  {
   "cell_type": "markdown",
   "id": "83a7ab6c",
   "metadata": {
    "papermill": {
     "duration": 0.025171,
     "end_time": "2025-08-07T12:19:50.636176",
     "exception": false,
     "start_time": "2025-08-07T12:19:50.611005",
     "status": "completed"
    },
    "tags": []
   },
   "source": [
    "### Tuning with Randomized Grid Search"
   ]
  },
  {
   "cell_type": "code",
   "execution_count": 58,
   "id": "687abdf0",
   "metadata": {
    "execution": {
     "iopub.execute_input": "2025-08-07T12:19:50.687918Z",
     "iopub.status.busy": "2025-08-07T12:19:50.687602Z",
     "iopub.status.idle": "2025-08-07T12:19:50.692449Z",
     "shell.execute_reply": "2025-08-07T12:19:50.691477Z"
    },
    "papermill": {
     "duration": 0.031766,
     "end_time": "2025-08-07T12:19:50.693750",
     "exception": false,
     "start_time": "2025-08-07T12:19:50.661984",
     "status": "completed"
    },
    "tags": []
   },
   "outputs": [],
   "source": [
    "grid_search = RandomizedSearchCV(\n",
    "    RandomForestRegressor(random_state=42), \n",
    "    grid_param,\n",
    "    n_iter=number_of_model_for_randomized_grid,\n",
    "    cv=5,\n",
    "    scoring='neg_mean_squared_error',\n",
    "    n_jobs=-1,\n",
    "    verbose=1,\n",
    "    random_state=42\n",
    ")"
   ]
  },
  {
   "cell_type": "code",
   "execution_count": 59,
   "id": "d42a59e3",
   "metadata": {
    "execution": {
     "iopub.execute_input": "2025-08-07T12:19:50.744503Z",
     "iopub.status.busy": "2025-08-07T12:19:50.744184Z",
     "iopub.status.idle": "2025-08-07T14:01:58.949657Z",
     "shell.execute_reply": "2025-08-07T14:01:58.948787Z"
    },
    "papermill": {
     "duration": 6128.258792,
     "end_time": "2025-08-07T14:01:58.977433",
     "exception": false,
     "start_time": "2025-08-07T12:19:50.718641",
     "status": "completed"
    },
    "tags": []
   },
   "outputs": [
    {
     "name": "stdout",
     "output_type": "stream",
     "text": [
      "Starting hyperparameter tuning...\n",
      "Fitting 5 folds for each of 600 candidates, totalling 3000 fits\n",
      "CPU times: user 37 s, sys: 10.7 s, total: 47.7 s\n",
      "Wall time: 1h 42min 8s\n"
     ]
    },
    {
     "data": {
      "text/html": [
       "<style>#sk-container-id-9 {color: black;background-color: white;}#sk-container-id-9 pre{padding: 0;}#sk-container-id-9 div.sk-toggleable {background-color: white;}#sk-container-id-9 label.sk-toggleable__label {cursor: pointer;display: block;width: 100%;margin-bottom: 0;padding: 0.3em;box-sizing: border-box;text-align: center;}#sk-container-id-9 label.sk-toggleable__label-arrow:before {content: \"▸\";float: left;margin-right: 0.25em;color: #696969;}#sk-container-id-9 label.sk-toggleable__label-arrow:hover:before {color: black;}#sk-container-id-9 div.sk-estimator:hover label.sk-toggleable__label-arrow:before {color: black;}#sk-container-id-9 div.sk-toggleable__content {max-height: 0;max-width: 0;overflow: hidden;text-align: left;background-color: #f0f8ff;}#sk-container-id-9 div.sk-toggleable__content pre {margin: 0.2em;color: black;border-radius: 0.25em;background-color: #f0f8ff;}#sk-container-id-9 input.sk-toggleable__control:checked~div.sk-toggleable__content {max-height: 200px;max-width: 100%;overflow: auto;}#sk-container-id-9 input.sk-toggleable__control:checked~label.sk-toggleable__label-arrow:before {content: \"▾\";}#sk-container-id-9 div.sk-estimator input.sk-toggleable__control:checked~label.sk-toggleable__label {background-color: #d4ebff;}#sk-container-id-9 div.sk-label input.sk-toggleable__control:checked~label.sk-toggleable__label {background-color: #d4ebff;}#sk-container-id-9 input.sk-hidden--visually {border: 0;clip: rect(1px 1px 1px 1px);clip: rect(1px, 1px, 1px, 1px);height: 1px;margin: -1px;overflow: hidden;padding: 0;position: absolute;width: 1px;}#sk-container-id-9 div.sk-estimator {font-family: monospace;background-color: #f0f8ff;border: 1px dotted black;border-radius: 0.25em;box-sizing: border-box;margin-bottom: 0.5em;}#sk-container-id-9 div.sk-estimator:hover {background-color: #d4ebff;}#sk-container-id-9 div.sk-parallel-item::after {content: \"\";width: 100%;border-bottom: 1px solid gray;flex-grow: 1;}#sk-container-id-9 div.sk-label:hover label.sk-toggleable__label {background-color: #d4ebff;}#sk-container-id-9 div.sk-serial::before {content: \"\";position: absolute;border-left: 1px solid gray;box-sizing: border-box;top: 0;bottom: 0;left: 50%;z-index: 0;}#sk-container-id-9 div.sk-serial {display: flex;flex-direction: column;align-items: center;background-color: white;padding-right: 0.2em;padding-left: 0.2em;position: relative;}#sk-container-id-9 div.sk-item {position: relative;z-index: 1;}#sk-container-id-9 div.sk-parallel {display: flex;align-items: stretch;justify-content: center;background-color: white;position: relative;}#sk-container-id-9 div.sk-item::before, #sk-container-id-9 div.sk-parallel-item::before {content: \"\";position: absolute;border-left: 1px solid gray;box-sizing: border-box;top: 0;bottom: 0;left: 50%;z-index: -1;}#sk-container-id-9 div.sk-parallel-item {display: flex;flex-direction: column;z-index: 1;position: relative;background-color: white;}#sk-container-id-9 div.sk-parallel-item:first-child::after {align-self: flex-end;width: 50%;}#sk-container-id-9 div.sk-parallel-item:last-child::after {align-self: flex-start;width: 50%;}#sk-container-id-9 div.sk-parallel-item:only-child::after {width: 0;}#sk-container-id-9 div.sk-dashed-wrapped {border: 1px dashed gray;margin: 0 0.4em 0.5em 0.4em;box-sizing: border-box;padding-bottom: 0.4em;background-color: white;}#sk-container-id-9 div.sk-label label {font-family: monospace;font-weight: bold;display: inline-block;line-height: 1.2em;}#sk-container-id-9 div.sk-label-container {text-align: center;}#sk-container-id-9 div.sk-container {/* jupyter's `normalize.less` sets `[hidden] { display: none; }` but bootstrap.min.css set `[hidden] { display: none !important; }` so we also need the `!important` here to be able to override the default hidden behavior on the sphinx rendered scikit-learn.org. See: https://github.com/scikit-learn/scikit-learn/issues/21755 */display: inline-block !important;position: relative;}#sk-container-id-9 div.sk-text-repr-fallback {display: none;}</style><div id=\"sk-container-id-9\" class=\"sk-top-container\"><div class=\"sk-text-repr-fallback\"><pre>RandomizedSearchCV(cv=5, estimator=RandomForestRegressor(random_state=42),\n",
       "                   n_iter=600, n_jobs=-1,\n",
       "                   param_distributions=[{&#x27;bootstrap&#x27;: [True],\n",
       "                                         &#x27;max_depth&#x27;: [None, 10, 20, 30],\n",
       "                                         &#x27;max_features&#x27;: [&#x27;sqrt&#x27;, &#x27;log2&#x27;, None],\n",
       "                                         &#x27;max_samples&#x27;: [None, 0.8, 0.9],\n",
       "                                         &#x27;min_impurity_decrease&#x27;: [0.0, 0.01,\n",
       "                                                                   0.02],\n",
       "                                         &#x27;min_samples_leaf&#x27;: [1, 2, 4, 6],\n",
       "                                         &#x27;min_samples_split&#x27;: [2, 5, 10, 15,\n",
       "                                                               20],\n",
       "                                         &#x27;n_estimators&#x27;: [100, 200, 300]},\n",
       "                                        {&#x27;bootstrap&#x27;: [False],\n",
       "                                         &#x27;max_depth&#x27;: [None, 10, 20, 30],\n",
       "                                         &#x27;max_features&#x27;: [&#x27;sqrt&#x27;, &#x27;log2&#x27;, None],\n",
       "                                         &#x27;min_impurity_decrease&#x27;: [0.0, 0.01,\n",
       "                                                                   0.02],\n",
       "                                         &#x27;min_samples_leaf&#x27;: [1, 2, 4, 6],\n",
       "                                         &#x27;min_samples_split&#x27;: [2, 5, 10, 15,\n",
       "                                                               20],\n",
       "                                         &#x27;n_estimators&#x27;: [100, 200, 300]}],\n",
       "                   random_state=42, scoring=&#x27;neg_mean_squared_error&#x27;,\n",
       "                   verbose=1)</pre><b>In a Jupyter environment, please rerun this cell to show the HTML representation or trust the notebook. <br />On GitHub, the HTML representation is unable to render, please try loading this page with nbviewer.org.</b></div><div class=\"sk-container\" hidden><div class=\"sk-item sk-dashed-wrapped\"><div class=\"sk-label-container\"><div class=\"sk-label sk-toggleable\"><input class=\"sk-toggleable__control sk-hidden--visually\" id=\"sk-estimator-id-13\" type=\"checkbox\" ><label for=\"sk-estimator-id-13\" class=\"sk-toggleable__label sk-toggleable__label-arrow\">RandomizedSearchCV</label><div class=\"sk-toggleable__content\"><pre>RandomizedSearchCV(cv=5, estimator=RandomForestRegressor(random_state=42),\n",
       "                   n_iter=600, n_jobs=-1,\n",
       "                   param_distributions=[{&#x27;bootstrap&#x27;: [True],\n",
       "                                         &#x27;max_depth&#x27;: [None, 10, 20, 30],\n",
       "                                         &#x27;max_features&#x27;: [&#x27;sqrt&#x27;, &#x27;log2&#x27;, None],\n",
       "                                         &#x27;max_samples&#x27;: [None, 0.8, 0.9],\n",
       "                                         &#x27;min_impurity_decrease&#x27;: [0.0, 0.01,\n",
       "                                                                   0.02],\n",
       "                                         &#x27;min_samples_leaf&#x27;: [1, 2, 4, 6],\n",
       "                                         &#x27;min_samples_split&#x27;: [2, 5, 10, 15,\n",
       "                                                               20],\n",
       "                                         &#x27;n_estimators&#x27;: [100, 200, 300]},\n",
       "                                        {&#x27;bootstrap&#x27;: [False],\n",
       "                                         &#x27;max_depth&#x27;: [None, 10, 20, 30],\n",
       "                                         &#x27;max_features&#x27;: [&#x27;sqrt&#x27;, &#x27;log2&#x27;, None],\n",
       "                                         &#x27;min_impurity_decrease&#x27;: [0.0, 0.01,\n",
       "                                                                   0.02],\n",
       "                                         &#x27;min_samples_leaf&#x27;: [1, 2, 4, 6],\n",
       "                                         &#x27;min_samples_split&#x27;: [2, 5, 10, 15,\n",
       "                                                               20],\n",
       "                                         &#x27;n_estimators&#x27;: [100, 200, 300]}],\n",
       "                   random_state=42, scoring=&#x27;neg_mean_squared_error&#x27;,\n",
       "                   verbose=1)</pre></div></div></div><div class=\"sk-parallel\"><div class=\"sk-parallel-item\"><div class=\"sk-item\"><div class=\"sk-label-container\"><div class=\"sk-label sk-toggleable\"><input class=\"sk-toggleable__control sk-hidden--visually\" id=\"sk-estimator-id-14\" type=\"checkbox\" ><label for=\"sk-estimator-id-14\" class=\"sk-toggleable__label sk-toggleable__label-arrow\">estimator: RandomForestRegressor</label><div class=\"sk-toggleable__content\"><pre>RandomForestRegressor(random_state=42)</pre></div></div></div><div class=\"sk-serial\"><div class=\"sk-item\"><div class=\"sk-estimator sk-toggleable\"><input class=\"sk-toggleable__control sk-hidden--visually\" id=\"sk-estimator-id-15\" type=\"checkbox\" ><label for=\"sk-estimator-id-15\" class=\"sk-toggleable__label sk-toggleable__label-arrow\">RandomForestRegressor</label><div class=\"sk-toggleable__content\"><pre>RandomForestRegressor(random_state=42)</pre></div></div></div></div></div></div></div></div></div></div>"
      ],
      "text/plain": [
       "RandomizedSearchCV(cv=5, estimator=RandomForestRegressor(random_state=42),\n",
       "                   n_iter=600, n_jobs=-1,\n",
       "                   param_distributions=[{'bootstrap': [True],\n",
       "                                         'max_depth': [None, 10, 20, 30],\n",
       "                                         'max_features': ['sqrt', 'log2', None],\n",
       "                                         'max_samples': [None, 0.8, 0.9],\n",
       "                                         'min_impurity_decrease': [0.0, 0.01,\n",
       "                                                                   0.02],\n",
       "                                         'min_samples_leaf': [1, 2, 4, 6],\n",
       "                                         'min_samples_split': [2, 5, 10, 15,\n",
       "                                                               20],\n",
       "                                         'n_estimators': [100, 200, 300]},\n",
       "                                        {'bootstrap': [False],\n",
       "                                         'max_depth': [None, 10, 20, 30],\n",
       "                                         'max_features': ['sqrt', 'log2', None],\n",
       "                                         'min_impurity_decrease': [0.0, 0.01,\n",
       "                                                                   0.02],\n",
       "                                         'min_samples_leaf': [1, 2, 4, 6],\n",
       "                                         'min_samples_split': [2, 5, 10, 15,\n",
       "                                                               20],\n",
       "                                         'n_estimators': [100, 200, 300]}],\n",
       "                   random_state=42, scoring='neg_mean_squared_error',\n",
       "                   verbose=1)"
      ]
     },
     "execution_count": 59,
     "metadata": {},
     "output_type": "execute_result"
    }
   ],
   "source": [
    "%%time\n",
    "print(\"Starting hyperparameter tuning...\")\n",
    "grid_search.fit(X_train, y_train)"
   ]
  },
  {
   "cell_type": "code",
   "execution_count": 60,
   "id": "03461d08",
   "metadata": {
    "execution": {
     "iopub.execute_input": "2025-08-07T14:01:59.030152Z",
     "iopub.status.busy": "2025-08-07T14:01:59.029830Z",
     "iopub.status.idle": "2025-08-07T14:01:59.035925Z",
     "shell.execute_reply": "2025-08-07T14:01:59.034955Z"
    },
    "papermill": {
     "duration": 0.033961,
     "end_time": "2025-08-07T14:01:59.037225",
     "exception": false,
     "start_time": "2025-08-07T14:01:59.003264",
     "status": "completed"
    },
    "tags": []
   },
   "outputs": [
    {
     "name": "stdout",
     "output_type": "stream",
     "text": [
      "TUNING RESULTS\n",
      "==================================================\n",
      "Best Parameters: {'n_estimators': 300, 'min_samples_split': 5, 'min_samples_leaf': 1, 'min_impurity_decrease': 0.0, 'max_features': 'sqrt', 'max_depth': None, 'bootstrap': False}\n",
      "Best Cross-Validation Score (Negative MSE): -0.6727568474047827\n",
      "Best Cross-Validation Score (MSE): 0.6727568474047827\n",
      "Best Cross-Validation Score (RMSE): 0.8202175610195034\n"
     ]
    }
   ],
   "source": [
    "print(\"TUNING RESULTS\")\n",
    "print(\"=\"*50)\n",
    "print(\"Best Parameters:\", grid_search.best_params_)\n",
    "print(\"Best Cross-Validation Score (Negative MSE):\", grid_search.best_score_)\n",
    "print(\"Best Cross-Validation Score (MSE):\", -grid_search.best_score_)\n",
    "print(\"Best Cross-Validation Score (RMSE):\", math.sqrt(-grid_search.best_score_))"
   ]
  },
  {
   "cell_type": "code",
   "execution_count": 61,
   "id": "e9d78f5e",
   "metadata": {
    "execution": {
     "iopub.execute_input": "2025-08-07T14:01:59.088840Z",
     "iopub.status.busy": "2025-08-07T14:01:59.088525Z",
     "iopub.status.idle": "2025-08-07T14:01:59.333904Z",
     "shell.execute_reply": "2025-08-07T14:01:59.332838Z"
    },
    "papermill": {
     "duration": 0.273366,
     "end_time": "2025-08-07T14:01:59.335752",
     "exception": false,
     "start_time": "2025-08-07T14:01:59.062386",
     "status": "completed"
    },
    "tags": []
   },
   "outputs": [],
   "source": [
    "grid_search_best_model = grid_search.best_estimator_\n",
    "y_pred = grid_search_best_model.predict(X_test)"
   ]
  },
  {
   "cell_type": "code",
   "execution_count": 62,
   "id": "5b765120",
   "metadata": {
    "execution": {
     "iopub.execute_input": "2025-08-07T14:01:59.388961Z",
     "iopub.status.busy": "2025-08-07T14:01:59.388631Z",
     "iopub.status.idle": "2025-08-07T14:01:59.395925Z",
     "shell.execute_reply": "2025-08-07T14:01:59.395110Z"
    },
    "papermill": {
     "duration": 0.035191,
     "end_time": "2025-08-07T14:01:59.397460",
     "exception": false,
     "start_time": "2025-08-07T14:01:59.362269",
     "status": "completed"
    },
    "tags": []
   },
   "outputs": [],
   "source": [
    "mse_grid_search = mean_squared_error(y_test, y_pred)\n",
    "mae_grid_search = mean_absolute_error(y_test, y_pred)\n",
    "r2_grid_search = r2_score(y_test, y_pred)\n",
    "rmse_grid_search = math.sqrt(mse_grid_search)"
   ]
  },
  {
   "cell_type": "code",
   "execution_count": 63,
   "id": "25bd45b9",
   "metadata": {
    "execution": {
     "iopub.execute_input": "2025-08-07T14:01:59.449044Z",
     "iopub.status.busy": "2025-08-07T14:01:59.448713Z",
     "iopub.status.idle": "2025-08-07T14:01:59.453937Z",
     "shell.execute_reply": "2025-08-07T14:01:59.452917Z"
    },
    "papermill": {
     "duration": 0.032848,
     "end_time": "2025-08-07T14:01:59.455497",
     "exception": false,
     "start_time": "2025-08-07T14:01:59.422649",
     "status": "completed"
    },
    "tags": []
   },
   "outputs": [
    {
     "name": "stdout",
     "output_type": "stream",
     "text": [
      "MSE Score: 0.7360774168118144\n",
      "MAE Score: 0.35004837931296545\n",
      "R2 Score: 0.6227894608536322\n",
      "RMSE Score: 0.8579495421129464\n"
     ]
    }
   ],
   "source": [
    "print(\"MSE Score:\", mse_grid_search)\n",
    "print(\"MAE Score:\", mae_grid_search)\n",
    "print(\"R2 Score:\", r2_grid_search)\n",
    "print(\"RMSE Score:\", rmse_grid_search)"
   ]
  },
  {
   "cell_type": "code",
   "execution_count": 64,
   "id": "bbf73b3f",
   "metadata": {
    "execution": {
     "iopub.execute_input": "2025-08-07T14:01:59.530632Z",
     "iopub.status.busy": "2025-08-07T14:01:59.530079Z",
     "iopub.status.idle": "2025-08-07T14:01:59.545609Z",
     "shell.execute_reply": "2025-08-07T14:01:59.544325Z"
    },
    "papermill": {
     "duration": 0.058724,
     "end_time": "2025-08-07T14:01:59.547479",
     "exception": false,
     "start_time": "2025-08-07T14:01:59.488755",
     "status": "completed"
    },
    "tags": []
   },
   "outputs": [
    {
     "name": "stdout",
     "output_type": "stream",
     "text": [
      "✨ New regression model added:\n",
      "   MSE: 0.736077, R²: 0.622789\n",
      "   Features: 27\n",
      "💾 Registry updated: Model_Training_History/History_Regression.csv\n"
     ]
    }
   ],
   "source": [
    "regression_params = {\n",
    "    'model_name': model_name_for_saving + \" Tuned\",\n",
    "    'scaler_name': \"RobustScaler\",\n",
    "    'features_list': feature_columns_for_saving,\n",
    "    'target_column': target_name_for_saving,\n",
    "    'mse': mse_grid_search,\n",
    "    'mae': mae_grid_search,\n",
    "    'rmse': rmse_grid_search,\n",
    "    'r2': r2_grid_search,\n",
    "    'parameters' : json.dumps({\n",
    "        \"best_params\": grid_search.best_params_,\n",
    "        \"cv_score\": grid_search.best_score_,\n",
    "        \"all_params\": grid_search_best_model.get_params()\n",
    "    })\n",
    "}\n",
    "save_model_performance_if_better('regression', regression_params)"
   ]
  },
  {
   "cell_type": "markdown",
   "id": "fc36dd3f",
   "metadata": {
    "papermill": {
     "duration": 0.026329,
     "end_time": "2025-08-07T14:01:59.603520",
     "exception": false,
     "start_time": "2025-08-07T14:01:59.577191",
     "status": "completed"
    },
    "tags": []
   },
   "source": [
    "# Selected Features"
   ]
  },
  {
   "cell_type": "code",
   "execution_count": 65,
   "id": "09e2dee2",
   "metadata": {
    "execution": {
     "iopub.execute_input": "2025-08-07T14:01:59.657644Z",
     "iopub.status.busy": "2025-08-07T14:01:59.657326Z",
     "iopub.status.idle": "2025-08-07T14:01:59.719442Z",
     "shell.execute_reply": "2025-08-07T14:01:59.718241Z"
    },
    "papermill": {
     "duration": 0.090742,
     "end_time": "2025-08-07T14:01:59.721000",
     "exception": false,
     "start_time": "2025-08-07T14:01:59.630258",
     "status": "completed"
    },
    "tags": []
   },
   "outputs": [
    {
     "name": "stdout",
     "output_type": "stream",
     "text": [
      "Visibility                   1.000000\n",
      "Temp                         0.445302\n",
      "FeelsLike                    0.420084\n",
      "Dew                          0.263350\n",
      "Season_Rainy                 0.205205\n",
      "Windgust                     0.177655\n",
      "Month                        0.170496\n",
      "WindSpeed                    0.160971\n",
      "SevereRisk                   0.139495\n",
      "Season_Summer                0.111505\n",
      "Hour                         0.108095\n",
      "Year                         0.094151\n",
      "DaySegments_Evening          0.093931\n",
      "DaySegments_Midday           0.081819\n",
      "CloudCover                   0.078414\n",
      "PrecipProb                   0.077142\n",
      "Day                          0.067361\n",
      "UVIndex                      0.055563\n",
      "SolarEnergy                  0.054855\n",
      "SolarRadiation               0.054367\n",
      "DaySegments_Night            0.052737\n",
      "DaySegments_Afternoon        0.042864\n",
      "Season_Autumn                0.028047\n",
      "WindDir                     -0.003214\n",
      "Precip                      -0.003620\n",
      "DaySegments_Late Night      -0.010289\n",
      "DaySegments_Early Morning   -0.035550\n",
      "DaySegments_Morning         -0.168267\n",
      "Humidity                    -0.220838\n",
      "SeaLevelPressure            -0.333891\n",
      "Season_Winter               -0.360738\n",
      "Name: Visibility, dtype: float64\n"
     ]
    }
   ],
   "source": [
    "numeric_cols = weather_data.select_dtypes(include=[float, int]).columns\n",
    "correlations = weather_data[numeric_cols].corr()['Visibility'].sort_values(ascending=False)\n",
    "print(correlations)"
   ]
  },
  {
   "cell_type": "code",
   "execution_count": 66,
   "id": "433b5b61",
   "metadata": {
    "execution": {
     "iopub.execute_input": "2025-08-07T14:01:59.774336Z",
     "iopub.status.busy": "2025-08-07T14:01:59.773983Z",
     "iopub.status.idle": "2025-08-07T14:01:59.791284Z",
     "shell.execute_reply": "2025-08-07T14:01:59.790141Z"
    },
    "papermill": {
     "duration": 0.04569,
     "end_time": "2025-08-07T14:01:59.792759",
     "exception": false,
     "start_time": "2025-08-07T14:01:59.747069",
     "status": "completed"
    },
    "tags": []
   },
   "outputs": [
    {
     "name": "stdout",
     "output_type": "stream",
     "text": [
      "<class 'pandas.core.frame.DataFrame'>\n",
      "RangeIndex: 14616 entries, 0 to 14615\n",
      "Data columns (total 36 columns):\n",
      " #   Column                     Non-Null Count  Dtype         \n",
      "---  ------                     --------------  -----         \n",
      " 0   DateTime                   14616 non-null  datetime64[ns]\n",
      " 1   Year                       14616 non-null  int64         \n",
      " 2   Month                      14616 non-null  int64         \n",
      " 3   Day                        14616 non-null  int64         \n",
      " 4   Hour                       14616 non-null  int64         \n",
      " 5   DaySegments                14616 non-null  object        \n",
      " 6   DaySegments_Afternoon      14616 non-null  int64         \n",
      " 7   DaySegments_Early Morning  14616 non-null  int64         \n",
      " 8   DaySegments_Evening        14616 non-null  int64         \n",
      " 9   DaySegments_Late Night     14616 non-null  int64         \n",
      " 10  DaySegments_Midday         14616 non-null  int64         \n",
      " 11  DaySegments_Morning        14616 non-null  int64         \n",
      " 12  DaySegments_Night          14616 non-null  int64         \n",
      " 13  Season_Autumn              14616 non-null  int64         \n",
      " 14  Season_Rainy               14616 non-null  int64         \n",
      " 15  Season_Summer              14616 non-null  int64         \n",
      " 16  Season_Winter              14616 non-null  int64         \n",
      " 17  Season                     14616 non-null  object        \n",
      " 18  Temp                       14616 non-null  float64       \n",
      " 19  FeelsLike                  14616 non-null  float64       \n",
      " 20  Dew                        14616 non-null  float64       \n",
      " 21  Humidity                   14616 non-null  float64       \n",
      " 22  Precip                     14616 non-null  float64       \n",
      " 23  PrecipProb                 14616 non-null  float64       \n",
      " 24  Windgust                   14616 non-null  float64       \n",
      " 25  WindSpeed                  14616 non-null  float64       \n",
      " 26  WindDir                    14616 non-null  float64       \n",
      " 27  SeaLevelPressure           14616 non-null  float64       \n",
      " 28  CloudCover                 14616 non-null  float64       \n",
      " 29  UVIndex                    14616 non-null  float64       \n",
      " 30  SevereRisk                 14616 non-null  float64       \n",
      " 31  Visibility                 14616 non-null  float64       \n",
      " 32  SolarRadiation             14616 non-null  float64       \n",
      " 33  SolarEnergy                14616 non-null  float64       \n",
      " 34  Conditions                 14616 non-null  object        \n",
      " 35  Icon                       14616 non-null  object        \n",
      "dtypes: datetime64[ns](1), float64(16), int64(15), object(4)\n",
      "memory usage: 4.0+ MB\n"
     ]
    }
   ],
   "source": [
    "weather_data.info()"
   ]
  },
  {
   "cell_type": "markdown",
   "id": "33bce63b",
   "metadata": {
    "papermill": {
     "duration": 0.025691,
     "end_time": "2025-08-07T14:01:59.844431",
     "exception": false,
     "start_time": "2025-08-07T14:01:59.818740",
     "status": "completed"
    },
    "tags": []
   },
   "source": [
    "## Run Again"
   ]
  },
  {
   "cell_type": "code",
   "execution_count": 67,
   "id": "bacf2251",
   "metadata": {
    "execution": {
     "iopub.execute_input": "2025-08-07T14:01:59.899878Z",
     "iopub.status.busy": "2025-08-07T14:01:59.899023Z",
     "iopub.status.idle": "2025-08-07T14:01:59.907744Z",
     "shell.execute_reply": "2025-08-07T14:01:59.907005Z"
    },
    "papermill": {
     "duration": 0.038548,
     "end_time": "2025-08-07T14:01:59.909097",
     "exception": false,
     "start_time": "2025-08-07T14:01:59.870549",
     "status": "completed"
    },
    "tags": []
   },
   "outputs": [],
   "source": [
    "X_train_raw = weather_data_train.drop(columns=['DateTime', # Model cannot use DateTime as a feature\n",
    "                                                'Year', # No Effect on weather data\n",
    "                                                'Season', # Season is categorical, not numerical\n",
    "                                                'DaySegments', # DaySegments is categorical, not numerical\n",
    "                                                'Visibility',  # Target variable\n",
    "                                                'SolarRadiation', # Target variable\n",
    "                                                'SolarEnergy', # Target variable\n",
    "                                                'Conditions', # Target variable\n",
    "                                                'Icon', # Target variable\n",
    "                                                \n",
    "                                                'Day', # same day from different month act differently\n",
    "                                                'WindDir', # very low correlation with Visibility\n",
    "                                                'Precip']) # very low correlation with Visibility\n",
    "y_train = weather_data_train['Visibility']"
   ]
  },
  {
   "cell_type": "code",
   "execution_count": 68,
   "id": "ee22693c",
   "metadata": {
    "execution": {
     "iopub.execute_input": "2025-08-07T14:01:59.962223Z",
     "iopub.status.busy": "2025-08-07T14:01:59.961658Z",
     "iopub.status.idle": "2025-08-07T14:01:59.968466Z",
     "shell.execute_reply": "2025-08-07T14:01:59.967604Z"
    },
    "papermill": {
     "duration": 0.034823,
     "end_time": "2025-08-07T14:01:59.969979",
     "exception": false,
     "start_time": "2025-08-07T14:01:59.935156",
     "status": "completed"
    },
    "tags": []
   },
   "outputs": [],
   "source": [
    "X_test_raw = weather_data_test.drop(columns=['DateTime', # Model cannot use DateTime as a feature\n",
    "                                                'Year', # No Effect on weather data\n",
    "                                                'Season', # Season is categorical, not numerical\n",
    "                                                'DaySegments', # DaySegments is categorical, not numerical\n",
    "                                                'Visibility',  # Target variable\n",
    "                                                'SolarRadiation', # Target variable\n",
    "                                                'SolarEnergy', # Target variable\n",
    "                                                'Conditions', # Target variable\n",
    "                                                'Icon', # Target variable\n",
    "                                                \n",
    "                                                'Day', # same day from different month act differently\n",
    "                                                'WindDir', # very low correlation with Visibility\n",
    "                                                'Precip']) # very low correlation with Visibility\n",
    "y_test = weather_data_test['Visibility']"
   ]
  },
  {
   "cell_type": "code",
   "execution_count": 69,
   "id": "a164c531",
   "metadata": {
    "execution": {
     "iopub.execute_input": "2025-08-07T14:02:00.022877Z",
     "iopub.status.busy": "2025-08-07T14:02:00.022574Z",
     "iopub.status.idle": "2025-08-07T14:02:00.026929Z",
     "shell.execute_reply": "2025-08-07T14:02:00.026018Z"
    },
    "papermill": {
     "duration": 0.032397,
     "end_time": "2025-08-07T14:02:00.028343",
     "exception": false,
     "start_time": "2025-08-07T14:01:59.995946",
     "status": "completed"
    },
    "tags": []
   },
   "outputs": [],
   "source": [
    "feature_columns = [col for col in X_train_raw.columns]\n",
    "feature_columns_for_saving = ','.join(feature_columns)"
   ]
  },
  {
   "cell_type": "code",
   "execution_count": 70,
   "id": "1c5ec5e9",
   "metadata": {
    "execution": {
     "iopub.execute_input": "2025-08-07T14:02:00.081267Z",
     "iopub.status.busy": "2025-08-07T14:02:00.080907Z",
     "iopub.status.idle": "2025-08-07T14:02:00.085976Z",
     "shell.execute_reply": "2025-08-07T14:02:00.085132Z"
    },
    "papermill": {
     "duration": 0.032892,
     "end_time": "2025-08-07T14:02:00.087397",
     "exception": false,
     "start_time": "2025-08-07T14:02:00.054505",
     "status": "completed"
    },
    "tags": []
   },
   "outputs": [
    {
     "name": "stdout",
     "output_type": "stream",
     "text": [
      "X_train:  11692\n",
      "y_train:  11692\n",
      "\n",
      "X_test:  2924\n",
      "y_test:  2924\n"
     ]
    }
   ],
   "source": [
    "print(\"X_train: \", len(X_train_raw))\n",
    "print(\"y_train: \", len(y_train))\n",
    "print(\"\\nX_test: \", len(X_test_raw))\n",
    "print(\"y_test: \", len(y_test))"
   ]
  },
  {
   "cell_type": "markdown",
   "id": "9c0d100d",
   "metadata": {
    "papermill": {
     "duration": 0.026246,
     "end_time": "2025-08-07T14:02:00.140507",
     "exception": false,
     "start_time": "2025-08-07T14:02:00.114261",
     "status": "completed"
    },
    "tags": []
   },
   "source": [
    "### MinMax Scaler"
   ]
  },
  {
   "cell_type": "code",
   "execution_count": 71,
   "id": "2c5c30b6",
   "metadata": {
    "execution": {
     "iopub.execute_input": "2025-08-07T14:02:00.196807Z",
     "iopub.status.busy": "2025-08-07T14:02:00.196179Z",
     "iopub.status.idle": "2025-08-07T14:02:00.209113Z",
     "shell.execute_reply": "2025-08-07T14:02:00.208198Z"
    },
    "papermill": {
     "duration": 0.041549,
     "end_time": "2025-08-07T14:02:00.210744",
     "exception": false,
     "start_time": "2025-08-07T14:02:00.169195",
     "status": "completed"
    },
    "tags": []
   },
   "outputs": [],
   "source": [
    "scaler = MinMaxScaler()\n",
    "X_train = scaler.fit_transform(X_train_raw)\n",
    "X_test = scaler.transform(X_test_raw)"
   ]
  },
  {
   "cell_type": "code",
   "execution_count": 72,
   "id": "c4dfb12e",
   "metadata": {
    "execution": {
     "iopub.execute_input": "2025-08-07T14:02:00.265955Z",
     "iopub.status.busy": "2025-08-07T14:02:00.265630Z",
     "iopub.status.idle": "2025-08-07T14:02:00.271932Z",
     "shell.execute_reply": "2025-08-07T14:02:00.270924Z"
    },
    "papermill": {
     "duration": 0.035831,
     "end_time": "2025-08-07T14:02:00.273445",
     "exception": false,
     "start_time": "2025-08-07T14:02:00.237614",
     "status": "completed"
    },
    "tags": []
   },
   "outputs": [
    {
     "data": {
      "text/plain": [
       "array([[0.72727273, 0.43478261, 0.        , ..., 0.4922    , 0.697     ,\n",
       "        0.31560059],\n",
       "       [0.90909091, 0.69565217, 1.        , ..., 0.        , 0.303     ,\n",
       "        0.07388643],\n",
       "       [0.09090909, 0.        , 0.        , ..., 0.        , 0.        ,\n",
       "        0.07388643],\n",
       "       ...,\n",
       "       [0.63636364, 0.43478261, 0.        , ..., 0.8756    , 0.306     ,\n",
       "        0.09436352],\n",
       "       [0.        , 0.91304348, 0.        , ..., 0.        , 0.        ,\n",
       "        0.07388643],\n",
       "       [0.72727273, 0.34782609, 0.        , ..., 0.8925    , 0.29      ,\n",
       "        0.27812962]])"
      ]
     },
     "execution_count": 72,
     "metadata": {},
     "output_type": "execute_result"
    }
   ],
   "source": [
    "X_train"
   ]
  },
  {
   "cell_type": "code",
   "execution_count": 73,
   "id": "6ffe982b",
   "metadata": {
    "execution": {
     "iopub.execute_input": "2025-08-07T14:02:00.329132Z",
     "iopub.status.busy": "2025-08-07T14:02:00.328110Z",
     "iopub.status.idle": "2025-08-07T14:02:00.334885Z",
     "shell.execute_reply": "2025-08-07T14:02:00.334028Z"
    },
    "papermill": {
     "duration": 0.035986,
     "end_time": "2025-08-07T14:02:00.336464",
     "exception": false,
     "start_time": "2025-08-07T14:02:00.300478",
     "status": "completed"
    },
    "tags": []
   },
   "outputs": [
    {
     "data": {
      "text/plain": [
       "array([[0.63636364, 0.95652174, 0.        , ..., 0.894     , 0.        ,\n",
       "        0.07388643],\n",
       "       [0.45454545, 0.65217391, 1.        , ..., 0.9677    , 0.074     ,\n",
       "        0.07388643],\n",
       "       [0.63636364, 0.2173913 , 0.        , ..., 0.9935    , 0.        ,\n",
       "        0.07388643],\n",
       "       ...,\n",
       "       [0.09090909, 0.73913043, 1.        , ..., 0.0013    , 0.203     ,\n",
       "        0.07388643],\n",
       "       [0.27272727, 0.86956522, 0.        , ..., 0.        , 0.        ,\n",
       "        0.25575259],\n",
       "       [0.45454545, 0.95652174, 0.        , ..., 0.5161    , 0.        ,\n",
       "        0.07388643]])"
      ]
     },
     "execution_count": 73,
     "metadata": {},
     "output_type": "execute_result"
    }
   ],
   "source": [
    "X_test"
   ]
  },
  {
   "cell_type": "markdown",
   "id": "9f10e018",
   "metadata": {
    "papermill": {
     "duration": 0.025609,
     "end_time": "2025-08-07T14:02:00.388659",
     "exception": false,
     "start_time": "2025-08-07T14:02:00.363050",
     "status": "completed"
    },
    "tags": []
   },
   "source": [
    "#### Default Parameters"
   ]
  },
  {
   "cell_type": "code",
   "execution_count": 74,
   "id": "53427d17",
   "metadata": {
    "execution": {
     "iopub.execute_input": "2025-08-07T14:02:00.442102Z",
     "iopub.status.busy": "2025-08-07T14:02:00.441788Z",
     "iopub.status.idle": "2025-08-07T14:02:00.448464Z",
     "shell.execute_reply": "2025-08-07T14:02:00.447559Z"
    },
    "papermill": {
     "duration": 0.03519,
     "end_time": "2025-08-07T14:02:00.449992",
     "exception": false,
     "start_time": "2025-08-07T14:02:00.414802",
     "status": "completed"
    },
    "tags": []
   },
   "outputs": [
    {
     "data": {
      "text/html": [
       "<style>#sk-container-id-10 {color: black;background-color: white;}#sk-container-id-10 pre{padding: 0;}#sk-container-id-10 div.sk-toggleable {background-color: white;}#sk-container-id-10 label.sk-toggleable__label {cursor: pointer;display: block;width: 100%;margin-bottom: 0;padding: 0.3em;box-sizing: border-box;text-align: center;}#sk-container-id-10 label.sk-toggleable__label-arrow:before {content: \"▸\";float: left;margin-right: 0.25em;color: #696969;}#sk-container-id-10 label.sk-toggleable__label-arrow:hover:before {color: black;}#sk-container-id-10 div.sk-estimator:hover label.sk-toggleable__label-arrow:before {color: black;}#sk-container-id-10 div.sk-toggleable__content {max-height: 0;max-width: 0;overflow: hidden;text-align: left;background-color: #f0f8ff;}#sk-container-id-10 div.sk-toggleable__content pre {margin: 0.2em;color: black;border-radius: 0.25em;background-color: #f0f8ff;}#sk-container-id-10 input.sk-toggleable__control:checked~div.sk-toggleable__content {max-height: 200px;max-width: 100%;overflow: auto;}#sk-container-id-10 input.sk-toggleable__control:checked~label.sk-toggleable__label-arrow:before {content: \"▾\";}#sk-container-id-10 div.sk-estimator input.sk-toggleable__control:checked~label.sk-toggleable__label {background-color: #d4ebff;}#sk-container-id-10 div.sk-label input.sk-toggleable__control:checked~label.sk-toggleable__label {background-color: #d4ebff;}#sk-container-id-10 input.sk-hidden--visually {border: 0;clip: rect(1px 1px 1px 1px);clip: rect(1px, 1px, 1px, 1px);height: 1px;margin: -1px;overflow: hidden;padding: 0;position: absolute;width: 1px;}#sk-container-id-10 div.sk-estimator {font-family: monospace;background-color: #f0f8ff;border: 1px dotted black;border-radius: 0.25em;box-sizing: border-box;margin-bottom: 0.5em;}#sk-container-id-10 div.sk-estimator:hover {background-color: #d4ebff;}#sk-container-id-10 div.sk-parallel-item::after {content: \"\";width: 100%;border-bottom: 1px solid gray;flex-grow: 1;}#sk-container-id-10 div.sk-label:hover label.sk-toggleable__label {background-color: #d4ebff;}#sk-container-id-10 div.sk-serial::before {content: \"\";position: absolute;border-left: 1px solid gray;box-sizing: border-box;top: 0;bottom: 0;left: 50%;z-index: 0;}#sk-container-id-10 div.sk-serial {display: flex;flex-direction: column;align-items: center;background-color: white;padding-right: 0.2em;padding-left: 0.2em;position: relative;}#sk-container-id-10 div.sk-item {position: relative;z-index: 1;}#sk-container-id-10 div.sk-parallel {display: flex;align-items: stretch;justify-content: center;background-color: white;position: relative;}#sk-container-id-10 div.sk-item::before, #sk-container-id-10 div.sk-parallel-item::before {content: \"\";position: absolute;border-left: 1px solid gray;box-sizing: border-box;top: 0;bottom: 0;left: 50%;z-index: -1;}#sk-container-id-10 div.sk-parallel-item {display: flex;flex-direction: column;z-index: 1;position: relative;background-color: white;}#sk-container-id-10 div.sk-parallel-item:first-child::after {align-self: flex-end;width: 50%;}#sk-container-id-10 div.sk-parallel-item:last-child::after {align-self: flex-start;width: 50%;}#sk-container-id-10 div.sk-parallel-item:only-child::after {width: 0;}#sk-container-id-10 div.sk-dashed-wrapped {border: 1px dashed gray;margin: 0 0.4em 0.5em 0.4em;box-sizing: border-box;padding-bottom: 0.4em;background-color: white;}#sk-container-id-10 div.sk-label label {font-family: monospace;font-weight: bold;display: inline-block;line-height: 1.2em;}#sk-container-id-10 div.sk-label-container {text-align: center;}#sk-container-id-10 div.sk-container {/* jupyter's `normalize.less` sets `[hidden] { display: none; }` but bootstrap.min.css set `[hidden] { display: none !important; }` so we also need the `!important` here to be able to override the default hidden behavior on the sphinx rendered scikit-learn.org. See: https://github.com/scikit-learn/scikit-learn/issues/21755 */display: inline-block !important;position: relative;}#sk-container-id-10 div.sk-text-repr-fallback {display: none;}</style><div id=\"sk-container-id-10\" class=\"sk-top-container\"><div class=\"sk-text-repr-fallback\"><pre>RandomForestRegressor(random_state=42)</pre><b>In a Jupyter environment, please rerun this cell to show the HTML representation or trust the notebook. <br />On GitHub, the HTML representation is unable to render, please try loading this page with nbviewer.org.</b></div><div class=\"sk-container\" hidden><div class=\"sk-item\"><div class=\"sk-estimator sk-toggleable\"><input class=\"sk-toggleable__control sk-hidden--visually\" id=\"sk-estimator-id-16\" type=\"checkbox\" checked><label for=\"sk-estimator-id-16\" class=\"sk-toggleable__label sk-toggleable__label-arrow\">RandomForestRegressor</label><div class=\"sk-toggleable__content\"><pre>RandomForestRegressor(random_state=42)</pre></div></div></div></div></div>"
      ],
      "text/plain": [
       "RandomForestRegressor(random_state=42)"
      ]
     },
     "execution_count": 74,
     "metadata": {},
     "output_type": "execute_result"
    }
   ],
   "source": [
    "training_model = RandomForestRegressor(random_state=42)\n",
    "training_model"
   ]
  },
  {
   "cell_type": "code",
   "execution_count": 75,
   "id": "99821bbe",
   "metadata": {
    "execution": {
     "iopub.execute_input": "2025-08-07T14:02:00.505510Z",
     "iopub.status.busy": "2025-08-07T14:02:00.504845Z",
     "iopub.status.idle": "2025-08-07T14:02:12.465664Z",
     "shell.execute_reply": "2025-08-07T14:02:12.464618Z"
    },
    "papermill": {
     "duration": 11.990128,
     "end_time": "2025-08-07T14:02:12.467258",
     "exception": false,
     "start_time": "2025-08-07T14:02:00.477130",
     "status": "completed"
    },
    "tags": []
   },
   "outputs": [
    {
     "name": "stdout",
     "output_type": "stream",
     "text": [
      "CPU times: user 11.9 s, sys: 0 ns, total: 11.9 s\n",
      "Wall time: 12 s\n"
     ]
    },
    {
     "data": {
      "text/html": [
       "<style>#sk-container-id-11 {color: black;background-color: white;}#sk-container-id-11 pre{padding: 0;}#sk-container-id-11 div.sk-toggleable {background-color: white;}#sk-container-id-11 label.sk-toggleable__label {cursor: pointer;display: block;width: 100%;margin-bottom: 0;padding: 0.3em;box-sizing: border-box;text-align: center;}#sk-container-id-11 label.sk-toggleable__label-arrow:before {content: \"▸\";float: left;margin-right: 0.25em;color: #696969;}#sk-container-id-11 label.sk-toggleable__label-arrow:hover:before {color: black;}#sk-container-id-11 div.sk-estimator:hover label.sk-toggleable__label-arrow:before {color: black;}#sk-container-id-11 div.sk-toggleable__content {max-height: 0;max-width: 0;overflow: hidden;text-align: left;background-color: #f0f8ff;}#sk-container-id-11 div.sk-toggleable__content pre {margin: 0.2em;color: black;border-radius: 0.25em;background-color: #f0f8ff;}#sk-container-id-11 input.sk-toggleable__control:checked~div.sk-toggleable__content {max-height: 200px;max-width: 100%;overflow: auto;}#sk-container-id-11 input.sk-toggleable__control:checked~label.sk-toggleable__label-arrow:before {content: \"▾\";}#sk-container-id-11 div.sk-estimator input.sk-toggleable__control:checked~label.sk-toggleable__label {background-color: #d4ebff;}#sk-container-id-11 div.sk-label input.sk-toggleable__control:checked~label.sk-toggleable__label {background-color: #d4ebff;}#sk-container-id-11 input.sk-hidden--visually {border: 0;clip: rect(1px 1px 1px 1px);clip: rect(1px, 1px, 1px, 1px);height: 1px;margin: -1px;overflow: hidden;padding: 0;position: absolute;width: 1px;}#sk-container-id-11 div.sk-estimator {font-family: monospace;background-color: #f0f8ff;border: 1px dotted black;border-radius: 0.25em;box-sizing: border-box;margin-bottom: 0.5em;}#sk-container-id-11 div.sk-estimator:hover {background-color: #d4ebff;}#sk-container-id-11 div.sk-parallel-item::after {content: \"\";width: 100%;border-bottom: 1px solid gray;flex-grow: 1;}#sk-container-id-11 div.sk-label:hover label.sk-toggleable__label {background-color: #d4ebff;}#sk-container-id-11 div.sk-serial::before {content: \"\";position: absolute;border-left: 1px solid gray;box-sizing: border-box;top: 0;bottom: 0;left: 50%;z-index: 0;}#sk-container-id-11 div.sk-serial {display: flex;flex-direction: column;align-items: center;background-color: white;padding-right: 0.2em;padding-left: 0.2em;position: relative;}#sk-container-id-11 div.sk-item {position: relative;z-index: 1;}#sk-container-id-11 div.sk-parallel {display: flex;align-items: stretch;justify-content: center;background-color: white;position: relative;}#sk-container-id-11 div.sk-item::before, #sk-container-id-11 div.sk-parallel-item::before {content: \"\";position: absolute;border-left: 1px solid gray;box-sizing: border-box;top: 0;bottom: 0;left: 50%;z-index: -1;}#sk-container-id-11 div.sk-parallel-item {display: flex;flex-direction: column;z-index: 1;position: relative;background-color: white;}#sk-container-id-11 div.sk-parallel-item:first-child::after {align-self: flex-end;width: 50%;}#sk-container-id-11 div.sk-parallel-item:last-child::after {align-self: flex-start;width: 50%;}#sk-container-id-11 div.sk-parallel-item:only-child::after {width: 0;}#sk-container-id-11 div.sk-dashed-wrapped {border: 1px dashed gray;margin: 0 0.4em 0.5em 0.4em;box-sizing: border-box;padding-bottom: 0.4em;background-color: white;}#sk-container-id-11 div.sk-label label {font-family: monospace;font-weight: bold;display: inline-block;line-height: 1.2em;}#sk-container-id-11 div.sk-label-container {text-align: center;}#sk-container-id-11 div.sk-container {/* jupyter's `normalize.less` sets `[hidden] { display: none; }` but bootstrap.min.css set `[hidden] { display: none !important; }` so we also need the `!important` here to be able to override the default hidden behavior on the sphinx rendered scikit-learn.org. See: https://github.com/scikit-learn/scikit-learn/issues/21755 */display: inline-block !important;position: relative;}#sk-container-id-11 div.sk-text-repr-fallback {display: none;}</style><div id=\"sk-container-id-11\" class=\"sk-top-container\"><div class=\"sk-text-repr-fallback\"><pre>RandomForestRegressor(random_state=42)</pre><b>In a Jupyter environment, please rerun this cell to show the HTML representation or trust the notebook. <br />On GitHub, the HTML representation is unable to render, please try loading this page with nbviewer.org.</b></div><div class=\"sk-container\" hidden><div class=\"sk-item\"><div class=\"sk-estimator sk-toggleable\"><input class=\"sk-toggleable__control sk-hidden--visually\" id=\"sk-estimator-id-17\" type=\"checkbox\" checked><label for=\"sk-estimator-id-17\" class=\"sk-toggleable__label sk-toggleable__label-arrow\">RandomForestRegressor</label><div class=\"sk-toggleable__content\"><pre>RandomForestRegressor(random_state=42)</pre></div></div></div></div></div>"
      ],
      "text/plain": [
       "RandomForestRegressor(random_state=42)"
      ]
     },
     "execution_count": 75,
     "metadata": {},
     "output_type": "execute_result"
    }
   ],
   "source": [
    "%%time\n",
    "training_model.fit(X_train, y_train)"
   ]
  },
  {
   "cell_type": "code",
   "execution_count": 76,
   "id": "2e3e8b94",
   "metadata": {
    "execution": {
     "iopub.execute_input": "2025-08-07T14:02:12.521934Z",
     "iopub.status.busy": "2025-08-07T14:02:12.521570Z",
     "iopub.status.idle": "2025-08-07T14:02:12.605388Z",
     "shell.execute_reply": "2025-08-07T14:02:12.604558Z"
    },
    "papermill": {
     "duration": 0.112696,
     "end_time": "2025-08-07T14:02:12.606731",
     "exception": false,
     "start_time": "2025-08-07T14:02:12.494035",
     "status": "completed"
    },
    "tags": []
   },
   "outputs": [
    {
     "data": {
      "text/plain": [
       "array([4.6341, 3.7109, 4.2644, ..., 3.6337, 4.579 , 4.6604])"
      ]
     },
     "execution_count": 76,
     "metadata": {},
     "output_type": "execute_result"
    }
   ],
   "source": [
    "y_pred = training_model.predict(X_test)\n",
    "y_pred"
   ]
  },
  {
   "cell_type": "code",
   "execution_count": 77,
   "id": "56c99582",
   "metadata": {
    "execution": {
     "iopub.execute_input": "2025-08-07T14:02:12.663112Z",
     "iopub.status.busy": "2025-08-07T14:02:12.662796Z",
     "iopub.status.idle": "2025-08-07T14:02:12.669652Z",
     "shell.execute_reply": "2025-08-07T14:02:12.668801Z"
    },
    "papermill": {
     "duration": 0.037714,
     "end_time": "2025-08-07T14:02:12.671039",
     "exception": false,
     "start_time": "2025-08-07T14:02:12.633325",
     "status": "completed"
    },
    "tags": []
   },
   "outputs": [
    {
     "data": {
      "text/plain": [
       "5158     4.65\n",
       "3831     3.70\n",
       "5117     4.19\n",
       "6326     3.88\n",
       "11359    3.68\n",
       "         ... \n",
       "10290    5.17\n",
       "13995    4.48\n",
       "9665     3.91\n",
       "2276     4.00\n",
       "4174     4.65\n",
       "Name: Visibility, Length: 2924, dtype: float64"
      ]
     },
     "execution_count": 77,
     "metadata": {},
     "output_type": "execute_result"
    }
   ],
   "source": [
    "y_test"
   ]
  },
  {
   "cell_type": "code",
   "execution_count": 78,
   "id": "68677255",
   "metadata": {
    "execution": {
     "iopub.execute_input": "2025-08-07T14:02:12.725998Z",
     "iopub.status.busy": "2025-08-07T14:02:12.725708Z",
     "iopub.status.idle": "2025-08-07T14:02:12.733488Z",
     "shell.execute_reply": "2025-08-07T14:02:12.732432Z"
    },
    "papermill": {
     "duration": 0.03673,
     "end_time": "2025-08-07T14:02:12.735131",
     "exception": false,
     "start_time": "2025-08-07T14:02:12.698401",
     "status": "completed"
    },
    "tags": []
   },
   "outputs": [],
   "source": [
    "mse = mean_squared_error(y_test, y_pred)\n",
    "mae = mean_absolute_error(y_test, y_pred)\n",
    "r2 = r2_score(y_test, y_pred)\n",
    "rmse = math.sqrt(mse)"
   ]
  },
  {
   "cell_type": "code",
   "execution_count": 79,
   "id": "60bc283b",
   "metadata": {
    "execution": {
     "iopub.execute_input": "2025-08-07T14:02:12.790784Z",
     "iopub.status.busy": "2025-08-07T14:02:12.790490Z",
     "iopub.status.idle": "2025-08-07T14:02:12.795455Z",
     "shell.execute_reply": "2025-08-07T14:02:12.794506Z"
    },
    "papermill": {
     "duration": 0.034731,
     "end_time": "2025-08-07T14:02:12.797167",
     "exception": false,
     "start_time": "2025-08-07T14:02:12.762436",
     "status": "completed"
    },
    "tags": []
   },
   "outputs": [
    {
     "name": "stdout",
     "output_type": "stream",
     "text": [
      "MSE Score: 1.0080022193741454\n",
      "MAE Score: 0.37901111491108064\n",
      "R2 Score: 0.4834387634418268\n",
      "RMSE Score: 1.0039931371150628\n"
     ]
    }
   ],
   "source": [
    "print(\"MSE Score:\", mse)\n",
    "print(\"MAE Score:\", mae)\n",
    "print(\"R2 Score:\", r2)\n",
    "print(\"RMSE Score:\", rmse)"
   ]
  },
  {
   "cell_type": "code",
   "execution_count": 80,
   "id": "4f47788d",
   "metadata": {
    "execution": {
     "iopub.execute_input": "2025-08-07T14:02:12.852812Z",
     "iopub.status.busy": "2025-08-07T14:02:12.852062Z",
     "iopub.status.idle": "2025-08-07T14:02:12.861356Z",
     "shell.execute_reply": "2025-08-07T14:02:12.860418Z"
    },
    "papermill": {
     "duration": 0.038596,
     "end_time": "2025-08-07T14:02:12.862645",
     "exception": false,
     "start_time": "2025-08-07T14:02:12.824049",
     "status": "completed"
    },
    "tags": []
   },
   "outputs": [
    {
     "name": "stdout",
     "output_type": "stream",
     "text": [
      "❌ Regression model not improved:\n",
      "   Current MSE: 1.008002, Best MSE: 0.868099\n",
      "   Current R²: 0.483439, Best R²: 0.555134\n",
      "   Current Features: 24, Best Features: 27\n"
     ]
    }
   ],
   "source": [
    "regression_params = {\n",
    "    'model_name': model_name_for_saving,\n",
    "    'scaler_name': \"MinMaxScaler\",\n",
    "    'features_list': feature_columns_for_saving,\n",
    "    'target_column': target_name_for_saving,\n",
    "    'mse': mse,\n",
    "    'mae': mae,\n",
    "    'rmse': rmse,\n",
    "    'r2': r2,\n",
    "    'parameters': json.dumps(training_model.get_params())\n",
    "}\n",
    "save_model_performance_if_better('regression', regression_params)"
   ]
  },
  {
   "cell_type": "markdown",
   "id": "0d5763eb",
   "metadata": {
    "papermill": {
     "duration": 0.026059,
     "end_time": "2025-08-07T14:02:12.915764",
     "exception": false,
     "start_time": "2025-08-07T14:02:12.889705",
     "status": "completed"
    },
    "tags": []
   },
   "source": [
    "#### Tuning with Randomized Grid Search"
   ]
  },
  {
   "cell_type": "code",
   "execution_count": 81,
   "id": "a459340c",
   "metadata": {
    "execution": {
     "iopub.execute_input": "2025-08-07T14:02:12.970478Z",
     "iopub.status.busy": "2025-08-07T14:02:12.969626Z",
     "iopub.status.idle": "2025-08-07T14:02:12.974832Z",
     "shell.execute_reply": "2025-08-07T14:02:12.973733Z"
    },
    "papermill": {
     "duration": 0.033795,
     "end_time": "2025-08-07T14:02:12.976170",
     "exception": false,
     "start_time": "2025-08-07T14:02:12.942375",
     "status": "completed"
    },
    "tags": []
   },
   "outputs": [],
   "source": [
    "grid_search = RandomizedSearchCV(\n",
    "    RandomForestRegressor(random_state=42), \n",
    "    grid_param,\n",
    "    n_iter=number_of_model_for_randomized_grid,\n",
    "    cv=5,\n",
    "    scoring='neg_mean_squared_error',\n",
    "    n_jobs=-1,\n",
    "    verbose=1,\n",
    "    random_state=42\n",
    ")"
   ]
  },
  {
   "cell_type": "code",
   "execution_count": 82,
   "id": "251e3fa4",
   "metadata": {
    "execution": {
     "iopub.execute_input": "2025-08-07T14:02:13.031004Z",
     "iopub.status.busy": "2025-08-07T14:02:13.030699Z",
     "iopub.status.idle": "2025-08-07T15:25:48.429368Z",
     "shell.execute_reply": "2025-08-07T15:25:48.428422Z"
    },
    "papermill": {
     "duration": 5015.455074,
     "end_time": "2025-08-07T15:25:48.458094",
     "exception": false,
     "start_time": "2025-08-07T14:02:13.003020",
     "status": "completed"
    },
    "tags": []
   },
   "outputs": [
    {
     "name": "stdout",
     "output_type": "stream",
     "text": [
      "Starting hyperparameter tuning...\n",
      "Fitting 5 folds for each of 600 candidates, totalling 3000 fits\n",
      "CPU times: user 31 s, sys: 9.38 s, total: 40.4 s\n",
      "Wall time: 1h 23min 35s\n"
     ]
    },
    {
     "data": {
      "text/html": [
       "<style>#sk-container-id-12 {color: black;background-color: white;}#sk-container-id-12 pre{padding: 0;}#sk-container-id-12 div.sk-toggleable {background-color: white;}#sk-container-id-12 label.sk-toggleable__label {cursor: pointer;display: block;width: 100%;margin-bottom: 0;padding: 0.3em;box-sizing: border-box;text-align: center;}#sk-container-id-12 label.sk-toggleable__label-arrow:before {content: \"▸\";float: left;margin-right: 0.25em;color: #696969;}#sk-container-id-12 label.sk-toggleable__label-arrow:hover:before {color: black;}#sk-container-id-12 div.sk-estimator:hover label.sk-toggleable__label-arrow:before {color: black;}#sk-container-id-12 div.sk-toggleable__content {max-height: 0;max-width: 0;overflow: hidden;text-align: left;background-color: #f0f8ff;}#sk-container-id-12 div.sk-toggleable__content pre {margin: 0.2em;color: black;border-radius: 0.25em;background-color: #f0f8ff;}#sk-container-id-12 input.sk-toggleable__control:checked~div.sk-toggleable__content {max-height: 200px;max-width: 100%;overflow: auto;}#sk-container-id-12 input.sk-toggleable__control:checked~label.sk-toggleable__label-arrow:before {content: \"▾\";}#sk-container-id-12 div.sk-estimator input.sk-toggleable__control:checked~label.sk-toggleable__label {background-color: #d4ebff;}#sk-container-id-12 div.sk-label input.sk-toggleable__control:checked~label.sk-toggleable__label {background-color: #d4ebff;}#sk-container-id-12 input.sk-hidden--visually {border: 0;clip: rect(1px 1px 1px 1px);clip: rect(1px, 1px, 1px, 1px);height: 1px;margin: -1px;overflow: hidden;padding: 0;position: absolute;width: 1px;}#sk-container-id-12 div.sk-estimator {font-family: monospace;background-color: #f0f8ff;border: 1px dotted black;border-radius: 0.25em;box-sizing: border-box;margin-bottom: 0.5em;}#sk-container-id-12 div.sk-estimator:hover {background-color: #d4ebff;}#sk-container-id-12 div.sk-parallel-item::after {content: \"\";width: 100%;border-bottom: 1px solid gray;flex-grow: 1;}#sk-container-id-12 div.sk-label:hover label.sk-toggleable__label {background-color: #d4ebff;}#sk-container-id-12 div.sk-serial::before {content: \"\";position: absolute;border-left: 1px solid gray;box-sizing: border-box;top: 0;bottom: 0;left: 50%;z-index: 0;}#sk-container-id-12 div.sk-serial {display: flex;flex-direction: column;align-items: center;background-color: white;padding-right: 0.2em;padding-left: 0.2em;position: relative;}#sk-container-id-12 div.sk-item {position: relative;z-index: 1;}#sk-container-id-12 div.sk-parallel {display: flex;align-items: stretch;justify-content: center;background-color: white;position: relative;}#sk-container-id-12 div.sk-item::before, #sk-container-id-12 div.sk-parallel-item::before {content: \"\";position: absolute;border-left: 1px solid gray;box-sizing: border-box;top: 0;bottom: 0;left: 50%;z-index: -1;}#sk-container-id-12 div.sk-parallel-item {display: flex;flex-direction: column;z-index: 1;position: relative;background-color: white;}#sk-container-id-12 div.sk-parallel-item:first-child::after {align-self: flex-end;width: 50%;}#sk-container-id-12 div.sk-parallel-item:last-child::after {align-self: flex-start;width: 50%;}#sk-container-id-12 div.sk-parallel-item:only-child::after {width: 0;}#sk-container-id-12 div.sk-dashed-wrapped {border: 1px dashed gray;margin: 0 0.4em 0.5em 0.4em;box-sizing: border-box;padding-bottom: 0.4em;background-color: white;}#sk-container-id-12 div.sk-label label {font-family: monospace;font-weight: bold;display: inline-block;line-height: 1.2em;}#sk-container-id-12 div.sk-label-container {text-align: center;}#sk-container-id-12 div.sk-container {/* jupyter's `normalize.less` sets `[hidden] { display: none; }` but bootstrap.min.css set `[hidden] { display: none !important; }` so we also need the `!important` here to be able to override the default hidden behavior on the sphinx rendered scikit-learn.org. See: https://github.com/scikit-learn/scikit-learn/issues/21755 */display: inline-block !important;position: relative;}#sk-container-id-12 div.sk-text-repr-fallback {display: none;}</style><div id=\"sk-container-id-12\" class=\"sk-top-container\"><div class=\"sk-text-repr-fallback\"><pre>RandomizedSearchCV(cv=5, estimator=RandomForestRegressor(random_state=42),\n",
       "                   n_iter=600, n_jobs=-1,\n",
       "                   param_distributions=[{&#x27;bootstrap&#x27;: [True],\n",
       "                                         &#x27;max_depth&#x27;: [None, 10, 20, 30],\n",
       "                                         &#x27;max_features&#x27;: [&#x27;sqrt&#x27;, &#x27;log2&#x27;, None],\n",
       "                                         &#x27;max_samples&#x27;: [None, 0.8, 0.9],\n",
       "                                         &#x27;min_impurity_decrease&#x27;: [0.0, 0.01,\n",
       "                                                                   0.02],\n",
       "                                         &#x27;min_samples_leaf&#x27;: [1, 2, 4, 6],\n",
       "                                         &#x27;min_samples_split&#x27;: [2, 5, 10, 15,\n",
       "                                                               20],\n",
       "                                         &#x27;n_estimators&#x27;: [100, 200, 300]},\n",
       "                                        {&#x27;bootstrap&#x27;: [False],\n",
       "                                         &#x27;max_depth&#x27;: [None, 10, 20, 30],\n",
       "                                         &#x27;max_features&#x27;: [&#x27;sqrt&#x27;, &#x27;log2&#x27;, None],\n",
       "                                         &#x27;min_impurity_decrease&#x27;: [0.0, 0.01,\n",
       "                                                                   0.02],\n",
       "                                         &#x27;min_samples_leaf&#x27;: [1, 2, 4, 6],\n",
       "                                         &#x27;min_samples_split&#x27;: [2, 5, 10, 15,\n",
       "                                                               20],\n",
       "                                         &#x27;n_estimators&#x27;: [100, 200, 300]}],\n",
       "                   random_state=42, scoring=&#x27;neg_mean_squared_error&#x27;,\n",
       "                   verbose=1)</pre><b>In a Jupyter environment, please rerun this cell to show the HTML representation or trust the notebook. <br />On GitHub, the HTML representation is unable to render, please try loading this page with nbviewer.org.</b></div><div class=\"sk-container\" hidden><div class=\"sk-item sk-dashed-wrapped\"><div class=\"sk-label-container\"><div class=\"sk-label sk-toggleable\"><input class=\"sk-toggleable__control sk-hidden--visually\" id=\"sk-estimator-id-18\" type=\"checkbox\" ><label for=\"sk-estimator-id-18\" class=\"sk-toggleable__label sk-toggleable__label-arrow\">RandomizedSearchCV</label><div class=\"sk-toggleable__content\"><pre>RandomizedSearchCV(cv=5, estimator=RandomForestRegressor(random_state=42),\n",
       "                   n_iter=600, n_jobs=-1,\n",
       "                   param_distributions=[{&#x27;bootstrap&#x27;: [True],\n",
       "                                         &#x27;max_depth&#x27;: [None, 10, 20, 30],\n",
       "                                         &#x27;max_features&#x27;: [&#x27;sqrt&#x27;, &#x27;log2&#x27;, None],\n",
       "                                         &#x27;max_samples&#x27;: [None, 0.8, 0.9],\n",
       "                                         &#x27;min_impurity_decrease&#x27;: [0.0, 0.01,\n",
       "                                                                   0.02],\n",
       "                                         &#x27;min_samples_leaf&#x27;: [1, 2, 4, 6],\n",
       "                                         &#x27;min_samples_split&#x27;: [2, 5, 10, 15,\n",
       "                                                               20],\n",
       "                                         &#x27;n_estimators&#x27;: [100, 200, 300]},\n",
       "                                        {&#x27;bootstrap&#x27;: [False],\n",
       "                                         &#x27;max_depth&#x27;: [None, 10, 20, 30],\n",
       "                                         &#x27;max_features&#x27;: [&#x27;sqrt&#x27;, &#x27;log2&#x27;, None],\n",
       "                                         &#x27;min_impurity_decrease&#x27;: [0.0, 0.01,\n",
       "                                                                   0.02],\n",
       "                                         &#x27;min_samples_leaf&#x27;: [1, 2, 4, 6],\n",
       "                                         &#x27;min_samples_split&#x27;: [2, 5, 10, 15,\n",
       "                                                               20],\n",
       "                                         &#x27;n_estimators&#x27;: [100, 200, 300]}],\n",
       "                   random_state=42, scoring=&#x27;neg_mean_squared_error&#x27;,\n",
       "                   verbose=1)</pre></div></div></div><div class=\"sk-parallel\"><div class=\"sk-parallel-item\"><div class=\"sk-item\"><div class=\"sk-label-container\"><div class=\"sk-label sk-toggleable\"><input class=\"sk-toggleable__control sk-hidden--visually\" id=\"sk-estimator-id-19\" type=\"checkbox\" ><label for=\"sk-estimator-id-19\" class=\"sk-toggleable__label sk-toggleable__label-arrow\">estimator: RandomForestRegressor</label><div class=\"sk-toggleable__content\"><pre>RandomForestRegressor(random_state=42)</pre></div></div></div><div class=\"sk-serial\"><div class=\"sk-item\"><div class=\"sk-estimator sk-toggleable\"><input class=\"sk-toggleable__control sk-hidden--visually\" id=\"sk-estimator-id-20\" type=\"checkbox\" ><label for=\"sk-estimator-id-20\" class=\"sk-toggleable__label sk-toggleable__label-arrow\">RandomForestRegressor</label><div class=\"sk-toggleable__content\"><pre>RandomForestRegressor(random_state=42)</pre></div></div></div></div></div></div></div></div></div></div>"
      ],
      "text/plain": [
       "RandomizedSearchCV(cv=5, estimator=RandomForestRegressor(random_state=42),\n",
       "                   n_iter=600, n_jobs=-1,\n",
       "                   param_distributions=[{'bootstrap': [True],\n",
       "                                         'max_depth': [None, 10, 20, 30],\n",
       "                                         'max_features': ['sqrt', 'log2', None],\n",
       "                                         'max_samples': [None, 0.8, 0.9],\n",
       "                                         'min_impurity_decrease': [0.0, 0.01,\n",
       "                                                                   0.02],\n",
       "                                         'min_samples_leaf': [1, 2, 4, 6],\n",
       "                                         'min_samples_split': [2, 5, 10, 15,\n",
       "                                                               20],\n",
       "                                         'n_estimators': [100, 200, 300]},\n",
       "                                        {'bootstrap': [False],\n",
       "                                         'max_depth': [None, 10, 20, 30],\n",
       "                                         'max_features': ['sqrt', 'log2', None],\n",
       "                                         'min_impurity_decrease': [0.0, 0.01,\n",
       "                                                                   0.02],\n",
       "                                         'min_samples_leaf': [1, 2, 4, 6],\n",
       "                                         'min_samples_split': [2, 5, 10, 15,\n",
       "                                                               20],\n",
       "                                         'n_estimators': [100, 200, 300]}],\n",
       "                   random_state=42, scoring='neg_mean_squared_error',\n",
       "                   verbose=1)"
      ]
     },
     "execution_count": 82,
     "metadata": {},
     "output_type": "execute_result"
    }
   ],
   "source": [
    "%%time\n",
    "print(\"Starting hyperparameter tuning...\")\n",
    "grid_search.fit(X_train, y_train)"
   ]
  },
  {
   "cell_type": "code",
   "execution_count": 83,
   "id": "63447b65",
   "metadata": {
    "execution": {
     "iopub.execute_input": "2025-08-07T15:25:48.514912Z",
     "iopub.status.busy": "2025-08-07T15:25:48.514307Z",
     "iopub.status.idle": "2025-08-07T15:25:48.519995Z",
     "shell.execute_reply": "2025-08-07T15:25:48.519093Z"
    },
    "papermill": {
     "duration": 0.035934,
     "end_time": "2025-08-07T15:25:48.521358",
     "exception": false,
     "start_time": "2025-08-07T15:25:48.485424",
     "status": "completed"
    },
    "tags": []
   },
   "outputs": [
    {
     "name": "stdout",
     "output_type": "stream",
     "text": [
      "TUNING RESULTS\n",
      "==================================================\n",
      "Best Parameters: {'n_estimators': 300, 'min_samples_split': 5, 'min_samples_leaf': 1, 'min_impurity_decrease': 0.0, 'max_features': 'sqrt', 'max_depth': None, 'bootstrap': False}\n",
      "Best Cross-Validation Score (Negative MSE): -0.965167401862417\n",
      "Best Cross-Validation Score (MSE): 0.965167401862417\n",
      "Best Cross-Validation Score (RMSE): 0.9824293368290755\n"
     ]
    }
   ],
   "source": [
    "print(\"TUNING RESULTS\")\n",
    "print(\"=\"*50)\n",
    "print(\"Best Parameters:\", grid_search.best_params_)\n",
    "print(\"Best Cross-Validation Score (Negative MSE):\", grid_search.best_score_)\n",
    "print(\"Best Cross-Validation Score (MSE):\", -grid_search.best_score_)\n",
    "print(\"Best Cross-Validation Score (RMSE):\", math.sqrt(-grid_search.best_score_))"
   ]
  },
  {
   "cell_type": "code",
   "execution_count": 84,
   "id": "0ba0066c",
   "metadata": {
    "execution": {
     "iopub.execute_input": "2025-08-07T15:25:48.577030Z",
     "iopub.status.busy": "2025-08-07T15:25:48.576721Z",
     "iopub.status.idle": "2025-08-07T15:25:48.819415Z",
     "shell.execute_reply": "2025-08-07T15:25:48.818529Z"
    },
    "papermill": {
     "duration": 0.272082,
     "end_time": "2025-08-07T15:25:48.821048",
     "exception": false,
     "start_time": "2025-08-07T15:25:48.548966",
     "status": "completed"
    },
    "tags": []
   },
   "outputs": [],
   "source": [
    "grid_search_best_model = grid_search.best_estimator_\n",
    "y_pred = grid_search_best_model.predict(X_test)"
   ]
  },
  {
   "cell_type": "code",
   "execution_count": 85,
   "id": "284dc042",
   "metadata": {
    "execution": {
     "iopub.execute_input": "2025-08-07T15:25:48.877387Z",
     "iopub.status.busy": "2025-08-07T15:25:48.876640Z",
     "iopub.status.idle": "2025-08-07T15:25:48.883967Z",
     "shell.execute_reply": "2025-08-07T15:25:48.883015Z"
    },
    "papermill": {
     "duration": 0.037147,
     "end_time": "2025-08-07T15:25:48.885555",
     "exception": false,
     "start_time": "2025-08-07T15:25:48.848408",
     "status": "completed"
    },
    "tags": []
   },
   "outputs": [],
   "source": [
    "mse_grid_search = mean_squared_error(y_test, y_pred)\n",
    "mae_grid_search = mean_absolute_error(y_test, y_pred)\n",
    "r2_grid_search = r2_score(y_test, y_pred)\n",
    "rmse_grid_search = math.sqrt(mse_grid_search)"
   ]
  },
  {
   "cell_type": "code",
   "execution_count": 86,
   "id": "2d5d45ed",
   "metadata": {
    "execution": {
     "iopub.execute_input": "2025-08-07T15:25:48.941518Z",
     "iopub.status.busy": "2025-08-07T15:25:48.940798Z",
     "iopub.status.idle": "2025-08-07T15:25:48.946012Z",
     "shell.execute_reply": "2025-08-07T15:25:48.945035Z"
    },
    "papermill": {
     "duration": 0.03441,
     "end_time": "2025-08-07T15:25:48.947409",
     "exception": false,
     "start_time": "2025-08-07T15:25:48.912999",
     "status": "completed"
    },
    "tags": []
   },
   "outputs": [
    {
     "name": "stdout",
     "output_type": "stream",
     "text": [
      "MSE Score: 0.8511340320317967\n",
      "MAE Score: 0.36641692126463027\n",
      "R2 Score: 0.5638274999671437\n",
      "RMSE Score: 0.9225692559541515\n"
     ]
    }
   ],
   "source": [
    "print(\"MSE Score:\", mse_grid_search)\n",
    "print(\"MAE Score:\", mae_grid_search)\n",
    "print(\"R2 Score:\", r2_grid_search)\n",
    "print(\"RMSE Score:\", rmse_grid_search)"
   ]
  },
  {
   "cell_type": "code",
   "execution_count": 87,
   "id": "d6a83526",
   "metadata": {
    "execution": {
     "iopub.execute_input": "2025-08-07T15:25:49.003429Z",
     "iopub.status.busy": "2025-08-07T15:25:49.002836Z",
     "iopub.status.idle": "2025-08-07T15:25:49.013263Z",
     "shell.execute_reply": "2025-08-07T15:25:49.012140Z"
    },
    "papermill": {
     "duration": 0.040241,
     "end_time": "2025-08-07T15:25:49.014770",
     "exception": false,
     "start_time": "2025-08-07T15:25:48.974529",
     "status": "completed"
    },
    "tags": []
   },
   "outputs": [
    {
     "name": "stdout",
     "output_type": "stream",
     "text": [
      "❌ Regression model not improved:\n",
      "   Current MSE: 0.851134, Best MSE: 0.735912\n",
      "   Current R²: 0.563827, Best R²: 0.622874\n",
      "   Current Features: 24, Best Features: 27\n"
     ]
    }
   ],
   "source": [
    "regression_params = {\n",
    "    'model_name': model_name_for_saving + \" Tuned\",\n",
    "    'scaler_name': \"MinMaxScaler\",\n",
    "    'features_list': feature_columns_for_saving,\n",
    "    'target_column': target_name_for_saving,\n",
    "    'mse': mse_grid_search,\n",
    "    'mae': mae_grid_search,\n",
    "    'rmse': rmse_grid_search,\n",
    "    'r2': r2_grid_search,\n",
    "    'parameters' : json.dumps({\n",
    "        \"best_params\": grid_search.best_params_,\n",
    "        \"cv_score\": grid_search.best_score_,\n",
    "        \"all_params\": grid_search_best_model.get_params()\n",
    "    })\n",
    "}\n",
    "save_model_performance_if_better('regression', regression_params)"
   ]
  },
  {
   "cell_type": "markdown",
   "id": "04396e55",
   "metadata": {
    "papermill": {
     "duration": 0.026824,
     "end_time": "2025-08-07T15:25:49.069290",
     "exception": false,
     "start_time": "2025-08-07T15:25:49.042466",
     "status": "completed"
    },
    "tags": []
   },
   "source": [
    "### Standard Scaler"
   ]
  },
  {
   "cell_type": "code",
   "execution_count": 88,
   "id": "527cc266",
   "metadata": {
    "execution": {
     "iopub.execute_input": "2025-08-07T15:25:49.125071Z",
     "iopub.status.busy": "2025-08-07T15:25:49.124753Z",
     "iopub.status.idle": "2025-08-07T15:25:49.144740Z",
     "shell.execute_reply": "2025-08-07T15:25:49.143718Z"
    },
    "papermill": {
     "duration": 0.04967,
     "end_time": "2025-08-07T15:25:49.146395",
     "exception": false,
     "start_time": "2025-08-07T15:25:49.096725",
     "status": "completed"
    },
    "tags": []
   },
   "outputs": [],
   "source": [
    "scaler = StandardScaler()\n",
    "X_train = scaler.fit_transform(X_train_raw)\n",
    "X_test = scaler.transform(X_test_raw)"
   ]
  },
  {
   "cell_type": "code",
   "execution_count": 89,
   "id": "a79cdef1",
   "metadata": {
    "execution": {
     "iopub.execute_input": "2025-08-07T15:25:49.204332Z",
     "iopub.status.busy": "2025-08-07T15:25:49.203969Z",
     "iopub.status.idle": "2025-08-07T15:25:49.210664Z",
     "shell.execute_reply": "2025-08-07T15:25:49.209819Z"
    },
    "papermill": {
     "duration": 0.038009,
     "end_time": "2025-08-07T15:25:49.211981",
     "exception": false,
     "start_time": "2025-08-07T15:25:49.173972",
     "status": "completed"
    },
    "tags": []
   },
   "outputs": [
    {
     "data": {
      "text/plain": [
       "array([[ 1.01884116, -0.21938027, -0.38875095, ..., -0.12088825,\n",
       "         1.52387472,  1.09644529],\n",
       "       [ 1.64376461,  0.64624572,  2.57234098, ..., -1.52028666,\n",
       "         0.24645772, -0.43343649],\n",
       "       [-1.16839092, -1.66209024, -0.38875095, ..., -1.52028666,\n",
       "        -0.73592134, -0.43343649],\n",
       "       ...,\n",
       "       [ 0.70637943, -0.21938027, -0.38875095, ...,  0.96917545,\n",
       "         0.25618424, -0.30383078],\n",
       "       [-1.48085264,  1.36760071, -0.38875095, ..., -1.52028666,\n",
       "        -0.73592134, -0.43343649],\n",
       "       [ 1.01884116, -0.50792226, -0.38875095, ...,  1.01722469,\n",
       "         0.20430944,  0.85928021]])"
      ]
     },
     "execution_count": 89,
     "metadata": {},
     "output_type": "execute_result"
    }
   ],
   "source": [
    "X_train"
   ]
  },
  {
   "cell_type": "code",
   "execution_count": 90,
   "id": "66950681",
   "metadata": {
    "execution": {
     "iopub.execute_input": "2025-08-07T15:25:49.269325Z",
     "iopub.status.busy": "2025-08-07T15:25:49.268945Z",
     "iopub.status.idle": "2025-08-07T15:25:49.275071Z",
     "shell.execute_reply": "2025-08-07T15:25:49.274197Z"
    },
    "papermill": {
     "duration": 0.035747,
     "end_time": "2025-08-07T15:25:49.276503",
     "exception": false,
     "start_time": "2025-08-07T15:25:49.240756",
     "status": "completed"
    },
    "tags": []
   },
   "outputs": [
    {
     "data": {
      "text/plain": [
       "array([[ 0.70637943,  1.51187171, -0.38875095, ...,  1.02148941,\n",
       "        -0.73592134, -0.43343649],\n",
       "       [ 0.08145598,  0.50197472,  2.57234098, ...,  1.23102956,\n",
       "        -0.49600038, -0.43343649],\n",
       "       [ 0.70637943, -0.94073525, -0.38875095, ...,  1.30438283,\n",
       "        -0.73592134, -0.43343649],\n",
       "       ...,\n",
       "       [-1.16839092,  0.79051672,  2.57234098, ..., -1.51659057,\n",
       "        -0.07775979, -0.43343649],\n",
       "       [-0.54346747,  1.22332971, -0.38875095, ..., -1.52028666,\n",
       "        -0.73592134,  0.71764924],\n",
       "       [ 0.08145598,  1.51187171, -0.38875095, ..., -0.05293696,\n",
       "        -0.73592134, -0.43343649]])"
      ]
     },
     "execution_count": 90,
     "metadata": {},
     "output_type": "execute_result"
    }
   ],
   "source": [
    "X_test"
   ]
  },
  {
   "cell_type": "markdown",
   "id": "f962a129",
   "metadata": {
    "papermill": {
     "duration": 0.032166,
     "end_time": "2025-08-07T15:25:49.336287",
     "exception": false,
     "start_time": "2025-08-07T15:25:49.304121",
     "status": "completed"
    },
    "tags": []
   },
   "source": [
    "#### Default Parameters"
   ]
  },
  {
   "cell_type": "code",
   "execution_count": 91,
   "id": "35e9b6e6",
   "metadata": {
    "execution": {
     "iopub.execute_input": "2025-08-07T15:25:49.393030Z",
     "iopub.status.busy": "2025-08-07T15:25:49.392716Z",
     "iopub.status.idle": "2025-08-07T15:25:49.399232Z",
     "shell.execute_reply": "2025-08-07T15:25:49.398438Z"
    },
    "papermill": {
     "duration": 0.036422,
     "end_time": "2025-08-07T15:25:49.400594",
     "exception": false,
     "start_time": "2025-08-07T15:25:49.364172",
     "status": "completed"
    },
    "tags": []
   },
   "outputs": [
    {
     "data": {
      "text/html": [
       "<style>#sk-container-id-13 {color: black;background-color: white;}#sk-container-id-13 pre{padding: 0;}#sk-container-id-13 div.sk-toggleable {background-color: white;}#sk-container-id-13 label.sk-toggleable__label {cursor: pointer;display: block;width: 100%;margin-bottom: 0;padding: 0.3em;box-sizing: border-box;text-align: center;}#sk-container-id-13 label.sk-toggleable__label-arrow:before {content: \"▸\";float: left;margin-right: 0.25em;color: #696969;}#sk-container-id-13 label.sk-toggleable__label-arrow:hover:before {color: black;}#sk-container-id-13 div.sk-estimator:hover label.sk-toggleable__label-arrow:before {color: black;}#sk-container-id-13 div.sk-toggleable__content {max-height: 0;max-width: 0;overflow: hidden;text-align: left;background-color: #f0f8ff;}#sk-container-id-13 div.sk-toggleable__content pre {margin: 0.2em;color: black;border-radius: 0.25em;background-color: #f0f8ff;}#sk-container-id-13 input.sk-toggleable__control:checked~div.sk-toggleable__content {max-height: 200px;max-width: 100%;overflow: auto;}#sk-container-id-13 input.sk-toggleable__control:checked~label.sk-toggleable__label-arrow:before {content: \"▾\";}#sk-container-id-13 div.sk-estimator input.sk-toggleable__control:checked~label.sk-toggleable__label {background-color: #d4ebff;}#sk-container-id-13 div.sk-label input.sk-toggleable__control:checked~label.sk-toggleable__label {background-color: #d4ebff;}#sk-container-id-13 input.sk-hidden--visually {border: 0;clip: rect(1px 1px 1px 1px);clip: rect(1px, 1px, 1px, 1px);height: 1px;margin: -1px;overflow: hidden;padding: 0;position: absolute;width: 1px;}#sk-container-id-13 div.sk-estimator {font-family: monospace;background-color: #f0f8ff;border: 1px dotted black;border-radius: 0.25em;box-sizing: border-box;margin-bottom: 0.5em;}#sk-container-id-13 div.sk-estimator:hover {background-color: #d4ebff;}#sk-container-id-13 div.sk-parallel-item::after {content: \"\";width: 100%;border-bottom: 1px solid gray;flex-grow: 1;}#sk-container-id-13 div.sk-label:hover label.sk-toggleable__label {background-color: #d4ebff;}#sk-container-id-13 div.sk-serial::before {content: \"\";position: absolute;border-left: 1px solid gray;box-sizing: border-box;top: 0;bottom: 0;left: 50%;z-index: 0;}#sk-container-id-13 div.sk-serial {display: flex;flex-direction: column;align-items: center;background-color: white;padding-right: 0.2em;padding-left: 0.2em;position: relative;}#sk-container-id-13 div.sk-item {position: relative;z-index: 1;}#sk-container-id-13 div.sk-parallel {display: flex;align-items: stretch;justify-content: center;background-color: white;position: relative;}#sk-container-id-13 div.sk-item::before, #sk-container-id-13 div.sk-parallel-item::before {content: \"\";position: absolute;border-left: 1px solid gray;box-sizing: border-box;top: 0;bottom: 0;left: 50%;z-index: -1;}#sk-container-id-13 div.sk-parallel-item {display: flex;flex-direction: column;z-index: 1;position: relative;background-color: white;}#sk-container-id-13 div.sk-parallel-item:first-child::after {align-self: flex-end;width: 50%;}#sk-container-id-13 div.sk-parallel-item:last-child::after {align-self: flex-start;width: 50%;}#sk-container-id-13 div.sk-parallel-item:only-child::after {width: 0;}#sk-container-id-13 div.sk-dashed-wrapped {border: 1px dashed gray;margin: 0 0.4em 0.5em 0.4em;box-sizing: border-box;padding-bottom: 0.4em;background-color: white;}#sk-container-id-13 div.sk-label label {font-family: monospace;font-weight: bold;display: inline-block;line-height: 1.2em;}#sk-container-id-13 div.sk-label-container {text-align: center;}#sk-container-id-13 div.sk-container {/* jupyter's `normalize.less` sets `[hidden] { display: none; }` but bootstrap.min.css set `[hidden] { display: none !important; }` so we also need the `!important` here to be able to override the default hidden behavior on the sphinx rendered scikit-learn.org. See: https://github.com/scikit-learn/scikit-learn/issues/21755 */display: inline-block !important;position: relative;}#sk-container-id-13 div.sk-text-repr-fallback {display: none;}</style><div id=\"sk-container-id-13\" class=\"sk-top-container\"><div class=\"sk-text-repr-fallback\"><pre>RandomForestRegressor(random_state=42)</pre><b>In a Jupyter environment, please rerun this cell to show the HTML representation or trust the notebook. <br />On GitHub, the HTML representation is unable to render, please try loading this page with nbviewer.org.</b></div><div class=\"sk-container\" hidden><div class=\"sk-item\"><div class=\"sk-estimator sk-toggleable\"><input class=\"sk-toggleable__control sk-hidden--visually\" id=\"sk-estimator-id-21\" type=\"checkbox\" checked><label for=\"sk-estimator-id-21\" class=\"sk-toggleable__label sk-toggleable__label-arrow\">RandomForestRegressor</label><div class=\"sk-toggleable__content\"><pre>RandomForestRegressor(random_state=42)</pre></div></div></div></div></div>"
      ],
      "text/plain": [
       "RandomForestRegressor(random_state=42)"
      ]
     },
     "execution_count": 91,
     "metadata": {},
     "output_type": "execute_result"
    }
   ],
   "source": [
    "training_model = RandomForestRegressor(random_state=42)\n",
    "training_model"
   ]
  },
  {
   "cell_type": "code",
   "execution_count": 92,
   "id": "402b3f21",
   "metadata": {
    "execution": {
     "iopub.execute_input": "2025-08-07T15:25:49.458187Z",
     "iopub.status.busy": "2025-08-07T15:25:49.457855Z",
     "iopub.status.idle": "2025-08-07T15:26:01.299906Z",
     "shell.execute_reply": "2025-08-07T15:26:01.298997Z"
    },
    "papermill": {
     "duration": 11.872273,
     "end_time": "2025-08-07T15:26:01.301292",
     "exception": false,
     "start_time": "2025-08-07T15:25:49.429019",
     "status": "completed"
    },
    "tags": []
   },
   "outputs": [
    {
     "name": "stdout",
     "output_type": "stream",
     "text": [
      "CPU times: user 11.8 s, sys: 0 ns, total: 11.8 s\n",
      "Wall time: 11.8 s\n"
     ]
    },
    {
     "data": {
      "text/html": [
       "<style>#sk-container-id-14 {color: black;background-color: white;}#sk-container-id-14 pre{padding: 0;}#sk-container-id-14 div.sk-toggleable {background-color: white;}#sk-container-id-14 label.sk-toggleable__label {cursor: pointer;display: block;width: 100%;margin-bottom: 0;padding: 0.3em;box-sizing: border-box;text-align: center;}#sk-container-id-14 label.sk-toggleable__label-arrow:before {content: \"▸\";float: left;margin-right: 0.25em;color: #696969;}#sk-container-id-14 label.sk-toggleable__label-arrow:hover:before {color: black;}#sk-container-id-14 div.sk-estimator:hover label.sk-toggleable__label-arrow:before {color: black;}#sk-container-id-14 div.sk-toggleable__content {max-height: 0;max-width: 0;overflow: hidden;text-align: left;background-color: #f0f8ff;}#sk-container-id-14 div.sk-toggleable__content pre {margin: 0.2em;color: black;border-radius: 0.25em;background-color: #f0f8ff;}#sk-container-id-14 input.sk-toggleable__control:checked~div.sk-toggleable__content {max-height: 200px;max-width: 100%;overflow: auto;}#sk-container-id-14 input.sk-toggleable__control:checked~label.sk-toggleable__label-arrow:before {content: \"▾\";}#sk-container-id-14 div.sk-estimator input.sk-toggleable__control:checked~label.sk-toggleable__label {background-color: #d4ebff;}#sk-container-id-14 div.sk-label input.sk-toggleable__control:checked~label.sk-toggleable__label {background-color: #d4ebff;}#sk-container-id-14 input.sk-hidden--visually {border: 0;clip: rect(1px 1px 1px 1px);clip: rect(1px, 1px, 1px, 1px);height: 1px;margin: -1px;overflow: hidden;padding: 0;position: absolute;width: 1px;}#sk-container-id-14 div.sk-estimator {font-family: monospace;background-color: #f0f8ff;border: 1px dotted black;border-radius: 0.25em;box-sizing: border-box;margin-bottom: 0.5em;}#sk-container-id-14 div.sk-estimator:hover {background-color: #d4ebff;}#sk-container-id-14 div.sk-parallel-item::after {content: \"\";width: 100%;border-bottom: 1px solid gray;flex-grow: 1;}#sk-container-id-14 div.sk-label:hover label.sk-toggleable__label {background-color: #d4ebff;}#sk-container-id-14 div.sk-serial::before {content: \"\";position: absolute;border-left: 1px solid gray;box-sizing: border-box;top: 0;bottom: 0;left: 50%;z-index: 0;}#sk-container-id-14 div.sk-serial {display: flex;flex-direction: column;align-items: center;background-color: white;padding-right: 0.2em;padding-left: 0.2em;position: relative;}#sk-container-id-14 div.sk-item {position: relative;z-index: 1;}#sk-container-id-14 div.sk-parallel {display: flex;align-items: stretch;justify-content: center;background-color: white;position: relative;}#sk-container-id-14 div.sk-item::before, #sk-container-id-14 div.sk-parallel-item::before {content: \"\";position: absolute;border-left: 1px solid gray;box-sizing: border-box;top: 0;bottom: 0;left: 50%;z-index: -1;}#sk-container-id-14 div.sk-parallel-item {display: flex;flex-direction: column;z-index: 1;position: relative;background-color: white;}#sk-container-id-14 div.sk-parallel-item:first-child::after {align-self: flex-end;width: 50%;}#sk-container-id-14 div.sk-parallel-item:last-child::after {align-self: flex-start;width: 50%;}#sk-container-id-14 div.sk-parallel-item:only-child::after {width: 0;}#sk-container-id-14 div.sk-dashed-wrapped {border: 1px dashed gray;margin: 0 0.4em 0.5em 0.4em;box-sizing: border-box;padding-bottom: 0.4em;background-color: white;}#sk-container-id-14 div.sk-label label {font-family: monospace;font-weight: bold;display: inline-block;line-height: 1.2em;}#sk-container-id-14 div.sk-label-container {text-align: center;}#sk-container-id-14 div.sk-container {/* jupyter's `normalize.less` sets `[hidden] { display: none; }` but bootstrap.min.css set `[hidden] { display: none !important; }` so we also need the `!important` here to be able to override the default hidden behavior on the sphinx rendered scikit-learn.org. See: https://github.com/scikit-learn/scikit-learn/issues/21755 */display: inline-block !important;position: relative;}#sk-container-id-14 div.sk-text-repr-fallback {display: none;}</style><div id=\"sk-container-id-14\" class=\"sk-top-container\"><div class=\"sk-text-repr-fallback\"><pre>RandomForestRegressor(random_state=42)</pre><b>In a Jupyter environment, please rerun this cell to show the HTML representation or trust the notebook. <br />On GitHub, the HTML representation is unable to render, please try loading this page with nbviewer.org.</b></div><div class=\"sk-container\" hidden><div class=\"sk-item\"><div class=\"sk-estimator sk-toggleable\"><input class=\"sk-toggleable__control sk-hidden--visually\" id=\"sk-estimator-id-22\" type=\"checkbox\" checked><label for=\"sk-estimator-id-22\" class=\"sk-toggleable__label sk-toggleable__label-arrow\">RandomForestRegressor</label><div class=\"sk-toggleable__content\"><pre>RandomForestRegressor(random_state=42)</pre></div></div></div></div></div>"
      ],
      "text/plain": [
       "RandomForestRegressor(random_state=42)"
      ]
     },
     "execution_count": 92,
     "metadata": {},
     "output_type": "execute_result"
    }
   ],
   "source": [
    "%%time\n",
    "training_model.fit(X_train, y_train)"
   ]
  },
  {
   "cell_type": "code",
   "execution_count": 93,
   "id": "f07072f5",
   "metadata": {
    "execution": {
     "iopub.execute_input": "2025-08-07T15:26:01.359278Z",
     "iopub.status.busy": "2025-08-07T15:26:01.358929Z",
     "iopub.status.idle": "2025-08-07T15:26:01.444154Z",
     "shell.execute_reply": "2025-08-07T15:26:01.443289Z"
    },
    "papermill": {
     "duration": 0.116043,
     "end_time": "2025-08-07T15:26:01.445728",
     "exception": false,
     "start_time": "2025-08-07T15:26:01.329685",
     "status": "completed"
    },
    "tags": []
   },
   "outputs": [
    {
     "data": {
      "text/plain": [
       "array([4.6314, 3.7073, 4.2644, ..., 3.6429, 4.579 , 4.6604])"
      ]
     },
     "execution_count": 93,
     "metadata": {},
     "output_type": "execute_result"
    }
   ],
   "source": [
    "y_pred = training_model.predict(X_test)\n",
    "y_pred"
   ]
  },
  {
   "cell_type": "code",
   "execution_count": 94,
   "id": "96952ed5",
   "metadata": {
    "execution": {
     "iopub.execute_input": "2025-08-07T15:26:01.509260Z",
     "iopub.status.busy": "2025-08-07T15:26:01.508934Z",
     "iopub.status.idle": "2025-08-07T15:26:01.516652Z",
     "shell.execute_reply": "2025-08-07T15:26:01.515782Z"
    },
    "papermill": {
     "duration": 0.041564,
     "end_time": "2025-08-07T15:26:01.518024",
     "exception": false,
     "start_time": "2025-08-07T15:26:01.476460",
     "status": "completed"
    },
    "tags": []
   },
   "outputs": [
    {
     "data": {
      "text/plain": [
       "5158     4.65\n",
       "3831     3.70\n",
       "5117     4.19\n",
       "6326     3.88\n",
       "11359    3.68\n",
       "         ... \n",
       "10290    5.17\n",
       "13995    4.48\n",
       "9665     3.91\n",
       "2276     4.00\n",
       "4174     4.65\n",
       "Name: Visibility, Length: 2924, dtype: float64"
      ]
     },
     "execution_count": 94,
     "metadata": {},
     "output_type": "execute_result"
    }
   ],
   "source": [
    "y_test"
   ]
  },
  {
   "cell_type": "code",
   "execution_count": 95,
   "id": "95f3ae0e",
   "metadata": {
    "execution": {
     "iopub.execute_input": "2025-08-07T15:26:01.577821Z",
     "iopub.status.busy": "2025-08-07T15:26:01.577521Z",
     "iopub.status.idle": "2025-08-07T15:26:01.584631Z",
     "shell.execute_reply": "2025-08-07T15:26:01.583935Z"
    },
    "papermill": {
     "duration": 0.038991,
     "end_time": "2025-08-07T15:26:01.586130",
     "exception": false,
     "start_time": "2025-08-07T15:26:01.547139",
     "status": "completed"
    },
    "tags": []
   },
   "outputs": [],
   "source": [
    "mse = mean_squared_error(y_test, y_pred)\n",
    "mae = mean_absolute_error(y_test, y_pred)\n",
    "r2 = r2_score(y_test, y_pred)\n",
    "rmse = math.sqrt(mse)"
   ]
  },
  {
   "cell_type": "code",
   "execution_count": 96,
   "id": "3126f430",
   "metadata": {
    "execution": {
     "iopub.execute_input": "2025-08-07T15:26:01.646114Z",
     "iopub.status.busy": "2025-08-07T15:26:01.645197Z",
     "iopub.status.idle": "2025-08-07T15:26:01.650526Z",
     "shell.execute_reply": "2025-08-07T15:26:01.649656Z"
    },
    "papermill": {
     "duration": 0.036933,
     "end_time": "2025-08-07T15:26:01.651868",
     "exception": false,
     "start_time": "2025-08-07T15:26:01.614935",
     "status": "completed"
    },
    "tags": []
   },
   "outputs": [
    {
     "name": "stdout",
     "output_type": "stream",
     "text": [
      "MSE Score: 1.0080823825854996\n",
      "MAE Score: 0.3792312585499315\n",
      "R2 Score: 0.48339768296919716\n",
      "RMSE Score: 1.004033058512268\n"
     ]
    }
   ],
   "source": [
    "print(\"MSE Score:\", mse)\n",
    "print(\"MAE Score:\", mae)\n",
    "print(\"R2 Score:\", r2)\n",
    "print(\"RMSE Score:\", rmse)"
   ]
  },
  {
   "cell_type": "code",
   "execution_count": 97,
   "id": "3880263f",
   "metadata": {
    "execution": {
     "iopub.execute_input": "2025-08-07T15:26:01.712178Z",
     "iopub.status.busy": "2025-08-07T15:26:01.711860Z",
     "iopub.status.idle": "2025-08-07T15:26:01.721323Z",
     "shell.execute_reply": "2025-08-07T15:26:01.720422Z"
    },
    "papermill": {
     "duration": 0.042362,
     "end_time": "2025-08-07T15:26:01.723042",
     "exception": false,
     "start_time": "2025-08-07T15:26:01.680680",
     "status": "completed"
    },
    "tags": []
   },
   "outputs": [
    {
     "name": "stdout",
     "output_type": "stream",
     "text": [
      "❌ Regression model not improved:\n",
      "   Current MSE: 1.008082, Best MSE: 0.863786\n",
      "   Current R²: 0.483398, Best R²: 0.557344\n",
      "   Current Features: 24, Best Features: 27\n"
     ]
    }
   ],
   "source": [
    "regression_params = {\n",
    "    'model_name': model_name_for_saving,\n",
    "    'scaler_name': \"StandardScaler\",\n",
    "    'features_list': feature_columns_for_saving,\n",
    "    'target_column': target_name_for_saving,\n",
    "    'mse': mse,\n",
    "    'mae': mae,\n",
    "    'rmse': rmse,\n",
    "    'r2': r2,\n",
    "    'parameters': json.dumps(training_model.get_params())\n",
    "}\n",
    "save_model_performance_if_better('regression', regression_params)"
   ]
  },
  {
   "cell_type": "markdown",
   "id": "4ee45569",
   "metadata": {
    "papermill": {
     "duration": 0.029502,
     "end_time": "2025-08-07T15:26:01.781443",
     "exception": false,
     "start_time": "2025-08-07T15:26:01.751941",
     "status": "completed"
    },
    "tags": []
   },
   "source": [
    "#### Tuning with Randomized Grid Search"
   ]
  },
  {
   "cell_type": "code",
   "execution_count": 98,
   "id": "fedd7994",
   "metadata": {
    "execution": {
     "iopub.execute_input": "2025-08-07T15:26:01.840020Z",
     "iopub.status.busy": "2025-08-07T15:26:01.839683Z",
     "iopub.status.idle": "2025-08-07T15:26:01.844581Z",
     "shell.execute_reply": "2025-08-07T15:26:01.843579Z"
    },
    "papermill": {
     "duration": 0.035941,
     "end_time": "2025-08-07T15:26:01.846069",
     "exception": false,
     "start_time": "2025-08-07T15:26:01.810128",
     "status": "completed"
    },
    "tags": []
   },
   "outputs": [],
   "source": [
    "grid_search = RandomizedSearchCV(\n",
    "    RandomForestRegressor(random_state=42), \n",
    "    grid_param,\n",
    "    n_iter=number_of_model_for_randomized_grid,\n",
    "    cv=5,\n",
    "    scoring='neg_mean_squared_error',\n",
    "    n_jobs=-1,\n",
    "    verbose=1,\n",
    "    random_state=42\n",
    ")"
   ]
  },
  {
   "cell_type": "code",
   "execution_count": 99,
   "id": "044fc5ac",
   "metadata": {
    "execution": {
     "iopub.execute_input": "2025-08-07T15:26:01.907196Z",
     "iopub.status.busy": "2025-08-07T15:26:01.906434Z",
     "iopub.status.idle": "2025-08-07T16:49:38.330141Z",
     "shell.execute_reply": "2025-08-07T16:49:38.329226Z"
    },
    "papermill": {
     "duration": 5016.485833,
     "end_time": "2025-08-07T16:49:38.362249",
     "exception": false,
     "start_time": "2025-08-07T15:26:01.876416",
     "status": "completed"
    },
    "tags": []
   },
   "outputs": [
    {
     "name": "stdout",
     "output_type": "stream",
     "text": [
      "Starting hyperparameter tuning...\n",
      "Fitting 5 folds for each of 600 candidates, totalling 3000 fits\n",
      "CPU times: user 30.9 s, sys: 9.59 s, total: 40.5 s\n",
      "Wall time: 1h 23min 36s\n"
     ]
    },
    {
     "data": {
      "text/html": [
       "<style>#sk-container-id-15 {color: black;background-color: white;}#sk-container-id-15 pre{padding: 0;}#sk-container-id-15 div.sk-toggleable {background-color: white;}#sk-container-id-15 label.sk-toggleable__label {cursor: pointer;display: block;width: 100%;margin-bottom: 0;padding: 0.3em;box-sizing: border-box;text-align: center;}#sk-container-id-15 label.sk-toggleable__label-arrow:before {content: \"▸\";float: left;margin-right: 0.25em;color: #696969;}#sk-container-id-15 label.sk-toggleable__label-arrow:hover:before {color: black;}#sk-container-id-15 div.sk-estimator:hover label.sk-toggleable__label-arrow:before {color: black;}#sk-container-id-15 div.sk-toggleable__content {max-height: 0;max-width: 0;overflow: hidden;text-align: left;background-color: #f0f8ff;}#sk-container-id-15 div.sk-toggleable__content pre {margin: 0.2em;color: black;border-radius: 0.25em;background-color: #f0f8ff;}#sk-container-id-15 input.sk-toggleable__control:checked~div.sk-toggleable__content {max-height: 200px;max-width: 100%;overflow: auto;}#sk-container-id-15 input.sk-toggleable__control:checked~label.sk-toggleable__label-arrow:before {content: \"▾\";}#sk-container-id-15 div.sk-estimator input.sk-toggleable__control:checked~label.sk-toggleable__label {background-color: #d4ebff;}#sk-container-id-15 div.sk-label input.sk-toggleable__control:checked~label.sk-toggleable__label {background-color: #d4ebff;}#sk-container-id-15 input.sk-hidden--visually {border: 0;clip: rect(1px 1px 1px 1px);clip: rect(1px, 1px, 1px, 1px);height: 1px;margin: -1px;overflow: hidden;padding: 0;position: absolute;width: 1px;}#sk-container-id-15 div.sk-estimator {font-family: monospace;background-color: #f0f8ff;border: 1px dotted black;border-radius: 0.25em;box-sizing: border-box;margin-bottom: 0.5em;}#sk-container-id-15 div.sk-estimator:hover {background-color: #d4ebff;}#sk-container-id-15 div.sk-parallel-item::after {content: \"\";width: 100%;border-bottom: 1px solid gray;flex-grow: 1;}#sk-container-id-15 div.sk-label:hover label.sk-toggleable__label {background-color: #d4ebff;}#sk-container-id-15 div.sk-serial::before {content: \"\";position: absolute;border-left: 1px solid gray;box-sizing: border-box;top: 0;bottom: 0;left: 50%;z-index: 0;}#sk-container-id-15 div.sk-serial {display: flex;flex-direction: column;align-items: center;background-color: white;padding-right: 0.2em;padding-left: 0.2em;position: relative;}#sk-container-id-15 div.sk-item {position: relative;z-index: 1;}#sk-container-id-15 div.sk-parallel {display: flex;align-items: stretch;justify-content: center;background-color: white;position: relative;}#sk-container-id-15 div.sk-item::before, #sk-container-id-15 div.sk-parallel-item::before {content: \"\";position: absolute;border-left: 1px solid gray;box-sizing: border-box;top: 0;bottom: 0;left: 50%;z-index: -1;}#sk-container-id-15 div.sk-parallel-item {display: flex;flex-direction: column;z-index: 1;position: relative;background-color: white;}#sk-container-id-15 div.sk-parallel-item:first-child::after {align-self: flex-end;width: 50%;}#sk-container-id-15 div.sk-parallel-item:last-child::after {align-self: flex-start;width: 50%;}#sk-container-id-15 div.sk-parallel-item:only-child::after {width: 0;}#sk-container-id-15 div.sk-dashed-wrapped {border: 1px dashed gray;margin: 0 0.4em 0.5em 0.4em;box-sizing: border-box;padding-bottom: 0.4em;background-color: white;}#sk-container-id-15 div.sk-label label {font-family: monospace;font-weight: bold;display: inline-block;line-height: 1.2em;}#sk-container-id-15 div.sk-label-container {text-align: center;}#sk-container-id-15 div.sk-container {/* jupyter's `normalize.less` sets `[hidden] { display: none; }` but bootstrap.min.css set `[hidden] { display: none !important; }` so we also need the `!important` here to be able to override the default hidden behavior on the sphinx rendered scikit-learn.org. See: https://github.com/scikit-learn/scikit-learn/issues/21755 */display: inline-block !important;position: relative;}#sk-container-id-15 div.sk-text-repr-fallback {display: none;}</style><div id=\"sk-container-id-15\" class=\"sk-top-container\"><div class=\"sk-text-repr-fallback\"><pre>RandomizedSearchCV(cv=5, estimator=RandomForestRegressor(random_state=42),\n",
       "                   n_iter=600, n_jobs=-1,\n",
       "                   param_distributions=[{&#x27;bootstrap&#x27;: [True],\n",
       "                                         &#x27;max_depth&#x27;: [None, 10, 20, 30],\n",
       "                                         &#x27;max_features&#x27;: [&#x27;sqrt&#x27;, &#x27;log2&#x27;, None],\n",
       "                                         &#x27;max_samples&#x27;: [None, 0.8, 0.9],\n",
       "                                         &#x27;min_impurity_decrease&#x27;: [0.0, 0.01,\n",
       "                                                                   0.02],\n",
       "                                         &#x27;min_samples_leaf&#x27;: [1, 2, 4, 6],\n",
       "                                         &#x27;min_samples_split&#x27;: [2, 5, 10, 15,\n",
       "                                                               20],\n",
       "                                         &#x27;n_estimators&#x27;: [100, 200, 300]},\n",
       "                                        {&#x27;bootstrap&#x27;: [False],\n",
       "                                         &#x27;max_depth&#x27;: [None, 10, 20, 30],\n",
       "                                         &#x27;max_features&#x27;: [&#x27;sqrt&#x27;, &#x27;log2&#x27;, None],\n",
       "                                         &#x27;min_impurity_decrease&#x27;: [0.0, 0.01,\n",
       "                                                                   0.02],\n",
       "                                         &#x27;min_samples_leaf&#x27;: [1, 2, 4, 6],\n",
       "                                         &#x27;min_samples_split&#x27;: [2, 5, 10, 15,\n",
       "                                                               20],\n",
       "                                         &#x27;n_estimators&#x27;: [100, 200, 300]}],\n",
       "                   random_state=42, scoring=&#x27;neg_mean_squared_error&#x27;,\n",
       "                   verbose=1)</pre><b>In a Jupyter environment, please rerun this cell to show the HTML representation or trust the notebook. <br />On GitHub, the HTML representation is unable to render, please try loading this page with nbviewer.org.</b></div><div class=\"sk-container\" hidden><div class=\"sk-item sk-dashed-wrapped\"><div class=\"sk-label-container\"><div class=\"sk-label sk-toggleable\"><input class=\"sk-toggleable__control sk-hidden--visually\" id=\"sk-estimator-id-23\" type=\"checkbox\" ><label for=\"sk-estimator-id-23\" class=\"sk-toggleable__label sk-toggleable__label-arrow\">RandomizedSearchCV</label><div class=\"sk-toggleable__content\"><pre>RandomizedSearchCV(cv=5, estimator=RandomForestRegressor(random_state=42),\n",
       "                   n_iter=600, n_jobs=-1,\n",
       "                   param_distributions=[{&#x27;bootstrap&#x27;: [True],\n",
       "                                         &#x27;max_depth&#x27;: [None, 10, 20, 30],\n",
       "                                         &#x27;max_features&#x27;: [&#x27;sqrt&#x27;, &#x27;log2&#x27;, None],\n",
       "                                         &#x27;max_samples&#x27;: [None, 0.8, 0.9],\n",
       "                                         &#x27;min_impurity_decrease&#x27;: [0.0, 0.01,\n",
       "                                                                   0.02],\n",
       "                                         &#x27;min_samples_leaf&#x27;: [1, 2, 4, 6],\n",
       "                                         &#x27;min_samples_split&#x27;: [2, 5, 10, 15,\n",
       "                                                               20],\n",
       "                                         &#x27;n_estimators&#x27;: [100, 200, 300]},\n",
       "                                        {&#x27;bootstrap&#x27;: [False],\n",
       "                                         &#x27;max_depth&#x27;: [None, 10, 20, 30],\n",
       "                                         &#x27;max_features&#x27;: [&#x27;sqrt&#x27;, &#x27;log2&#x27;, None],\n",
       "                                         &#x27;min_impurity_decrease&#x27;: [0.0, 0.01,\n",
       "                                                                   0.02],\n",
       "                                         &#x27;min_samples_leaf&#x27;: [1, 2, 4, 6],\n",
       "                                         &#x27;min_samples_split&#x27;: [2, 5, 10, 15,\n",
       "                                                               20],\n",
       "                                         &#x27;n_estimators&#x27;: [100, 200, 300]}],\n",
       "                   random_state=42, scoring=&#x27;neg_mean_squared_error&#x27;,\n",
       "                   verbose=1)</pre></div></div></div><div class=\"sk-parallel\"><div class=\"sk-parallel-item\"><div class=\"sk-item\"><div class=\"sk-label-container\"><div class=\"sk-label sk-toggleable\"><input class=\"sk-toggleable__control sk-hidden--visually\" id=\"sk-estimator-id-24\" type=\"checkbox\" ><label for=\"sk-estimator-id-24\" class=\"sk-toggleable__label sk-toggleable__label-arrow\">estimator: RandomForestRegressor</label><div class=\"sk-toggleable__content\"><pre>RandomForestRegressor(random_state=42)</pre></div></div></div><div class=\"sk-serial\"><div class=\"sk-item\"><div class=\"sk-estimator sk-toggleable\"><input class=\"sk-toggleable__control sk-hidden--visually\" id=\"sk-estimator-id-25\" type=\"checkbox\" ><label for=\"sk-estimator-id-25\" class=\"sk-toggleable__label sk-toggleable__label-arrow\">RandomForestRegressor</label><div class=\"sk-toggleable__content\"><pre>RandomForestRegressor(random_state=42)</pre></div></div></div></div></div></div></div></div></div></div>"
      ],
      "text/plain": [
       "RandomizedSearchCV(cv=5, estimator=RandomForestRegressor(random_state=42),\n",
       "                   n_iter=600, n_jobs=-1,\n",
       "                   param_distributions=[{'bootstrap': [True],\n",
       "                                         'max_depth': [None, 10, 20, 30],\n",
       "                                         'max_features': ['sqrt', 'log2', None],\n",
       "                                         'max_samples': [None, 0.8, 0.9],\n",
       "                                         'min_impurity_decrease': [0.0, 0.01,\n",
       "                                                                   0.02],\n",
       "                                         'min_samples_leaf': [1, 2, 4, 6],\n",
       "                                         'min_samples_split': [2, 5, 10, 15,\n",
       "                                                               20],\n",
       "                                         'n_estimators': [100, 200, 300]},\n",
       "                                        {'bootstrap': [False],\n",
       "                                         'max_depth': [None, 10, 20, 30],\n",
       "                                         'max_features': ['sqrt', 'log2', None],\n",
       "                                         'min_impurity_decrease': [0.0, 0.01,\n",
       "                                                                   0.02],\n",
       "                                         'min_samples_leaf': [1, 2, 4, 6],\n",
       "                                         'min_samples_split': [2, 5, 10, 15,\n",
       "                                                               20],\n",
       "                                         'n_estimators': [100, 200, 300]}],\n",
       "                   random_state=42, scoring='neg_mean_squared_error',\n",
       "                   verbose=1)"
      ]
     },
     "execution_count": 99,
     "metadata": {},
     "output_type": "execute_result"
    }
   ],
   "source": [
    "%%time\n",
    "print(\"Starting hyperparameter tuning...\")\n",
    "grid_search.fit(X_train, y_train)"
   ]
  },
  {
   "cell_type": "code",
   "execution_count": 100,
   "id": "1286b0c5",
   "metadata": {
    "execution": {
     "iopub.execute_input": "2025-08-07T16:49:38.422809Z",
     "iopub.status.busy": "2025-08-07T16:49:38.422478Z",
     "iopub.status.idle": "2025-08-07T16:49:38.430096Z",
     "shell.execute_reply": "2025-08-07T16:49:38.429225Z"
    },
    "papermill": {
     "duration": 0.039457,
     "end_time": "2025-08-07T16:49:38.431542",
     "exception": false,
     "start_time": "2025-08-07T16:49:38.392085",
     "status": "completed"
    },
    "tags": []
   },
   "outputs": [
    {
     "name": "stdout",
     "output_type": "stream",
     "text": [
      "TUNING RESULTS\n",
      "==================================================\n",
      "Best Parameters: {'n_estimators': 300, 'min_samples_split': 5, 'min_samples_leaf': 1, 'min_impurity_decrease': 0.0, 'max_features': 'sqrt', 'max_depth': None, 'bootstrap': False}\n",
      "Best Cross-Validation Score (Negative MSE): -0.9640348000360074\n",
      "Best Cross-Validation Score (MSE): 0.9640348000360074\n",
      "Best Cross-Validation Score (RMSE): 0.9818527384674381\n"
     ]
    }
   ],
   "source": [
    "print(\"TUNING RESULTS\")\n",
    "print(\"=\"*50)\n",
    "print(\"Best Parameters:\", grid_search.best_params_)\n",
    "print(\"Best Cross-Validation Score (Negative MSE):\", grid_search.best_score_)\n",
    "print(\"Best Cross-Validation Score (MSE):\", -grid_search.best_score_)\n",
    "print(\"Best Cross-Validation Score (RMSE):\", math.sqrt(-grid_search.best_score_))"
   ]
  },
  {
   "cell_type": "code",
   "execution_count": 101,
   "id": "38cb9434",
   "metadata": {
    "execution": {
     "iopub.execute_input": "2025-08-07T16:49:38.491614Z",
     "iopub.status.busy": "2025-08-07T16:49:38.491324Z",
     "iopub.status.idle": "2025-08-07T16:49:38.733399Z",
     "shell.execute_reply": "2025-08-07T16:49:38.732331Z"
    },
    "papermill": {
     "duration": 0.273517,
     "end_time": "2025-08-07T16:49:38.735010",
     "exception": false,
     "start_time": "2025-08-07T16:49:38.461493",
     "status": "completed"
    },
    "tags": []
   },
   "outputs": [],
   "source": [
    "grid_search_best_model = grid_search.best_estimator_\n",
    "y_pred = grid_search_best_model.predict(X_test)"
   ]
  },
  {
   "cell_type": "code",
   "execution_count": 102,
   "id": "b6c73db4",
   "metadata": {
    "execution": {
     "iopub.execute_input": "2025-08-07T16:49:38.795409Z",
     "iopub.status.busy": "2025-08-07T16:49:38.795063Z",
     "iopub.status.idle": "2025-08-07T16:49:38.802503Z",
     "shell.execute_reply": "2025-08-07T16:49:38.801740Z"
    },
    "papermill": {
     "duration": 0.039037,
     "end_time": "2025-08-07T16:49:38.803798",
     "exception": false,
     "start_time": "2025-08-07T16:49:38.764761",
     "status": "completed"
    },
    "tags": []
   },
   "outputs": [],
   "source": [
    "mse_grid_search = mean_squared_error(y_test, y_pred)\n",
    "mae_grid_search = mean_absolute_error(y_test, y_pred)\n",
    "r2_grid_search = r2_score(y_test, y_pred)\n",
    "rmse_grid_search = math.sqrt(mse_grid_search)"
   ]
  },
  {
   "cell_type": "code",
   "execution_count": 103,
   "id": "6eb3840b",
   "metadata": {
    "execution": {
     "iopub.execute_input": "2025-08-07T16:49:38.863409Z",
     "iopub.status.busy": "2025-08-07T16:49:38.862791Z",
     "iopub.status.idle": "2025-08-07T16:49:38.867843Z",
     "shell.execute_reply": "2025-08-07T16:49:38.866992Z"
    },
    "papermill": {
     "duration": 0.036525,
     "end_time": "2025-08-07T16:49:38.869477",
     "exception": false,
     "start_time": "2025-08-07T16:49:38.832952",
     "status": "completed"
    },
    "tags": []
   },
   "outputs": [
    {
     "name": "stdout",
     "output_type": "stream",
     "text": [
      "MSE Score: 0.8527221929147116\n",
      "MAE Score: 0.36683571496428063\n",
      "R2 Score: 0.5630136303805854\n",
      "RMSE Score: 0.923429582001092\n"
     ]
    }
   ],
   "source": [
    "print(\"MSE Score:\", mse_grid_search)\n",
    "print(\"MAE Score:\", mae_grid_search)\n",
    "print(\"R2 Score:\", r2_grid_search)\n",
    "print(\"RMSE Score:\", rmse_grid_search)"
   ]
  },
  {
   "cell_type": "code",
   "execution_count": 104,
   "id": "64eab277",
   "metadata": {
    "execution": {
     "iopub.execute_input": "2025-08-07T16:49:38.929950Z",
     "iopub.status.busy": "2025-08-07T16:49:38.929618Z",
     "iopub.status.idle": "2025-08-07T16:49:38.941703Z",
     "shell.execute_reply": "2025-08-07T16:49:38.940811Z"
    },
    "papermill": {
     "duration": 0.044053,
     "end_time": "2025-08-07T16:49:38.943190",
     "exception": false,
     "start_time": "2025-08-07T16:49:38.899137",
     "status": "completed"
    },
    "tags": []
   },
   "outputs": [
    {
     "name": "stdout",
     "output_type": "stream",
     "text": [
      "❌ Regression model not improved:\n",
      "   Current MSE: 0.852722, Best MSE: 0.735968\n",
      "   Current R²: 0.563014, Best R²: 0.622846\n",
      "   Current Features: 24, Best Features: 27\n"
     ]
    }
   ],
   "source": [
    "regression_params = {\n",
    "    'model_name': model_name_for_saving + \" Tuned\",\n",
    "    'scaler_name': \"StandardScaler\",\n",
    "    'features_list': feature_columns_for_saving,\n",
    "    'target_column': target_name_for_saving,\n",
    "    'mse': mse_grid_search,\n",
    "    'mae': mae_grid_search,\n",
    "    'rmse': rmse_grid_search,\n",
    "    'r2': r2_grid_search,\n",
    "    'parameters' : json.dumps({\n",
    "        \"best_params\": grid_search.best_params_,\n",
    "        \"cv_score\": grid_search.best_score_,\n",
    "        \"all_params\": grid_search_best_model.get_params()\n",
    "    })\n",
    "}\n",
    "save_model_performance_if_better('regression', regression_params)"
   ]
  },
  {
   "cell_type": "markdown",
   "id": "572399c8",
   "metadata": {
    "papermill": {
     "duration": 0.028621,
     "end_time": "2025-08-07T16:49:39.002757",
     "exception": false,
     "start_time": "2025-08-07T16:49:38.974136",
     "status": "completed"
    },
    "tags": []
   },
   "source": [
    "### Robust Scaler"
   ]
  },
  {
   "cell_type": "code",
   "execution_count": 105,
   "id": "4fc193f0",
   "metadata": {
    "execution": {
     "iopub.execute_input": "2025-08-07T16:49:39.062337Z",
     "iopub.status.busy": "2025-08-07T16:49:39.061547Z",
     "iopub.status.idle": "2025-08-07T16:49:39.093112Z",
     "shell.execute_reply": "2025-08-07T16:49:39.092130Z"
    },
    "papermill": {
     "duration": 0.06314,
     "end_time": "2025-08-07T16:49:39.094756",
     "exception": false,
     "start_time": "2025-08-07T16:49:39.031616",
     "status": "completed"
    },
    "tags": []
   },
   "outputs": [],
   "source": [
    "scaler = RobustScaler()\n",
    "X_train = scaler.fit_transform(X_train_raw)\n",
    "X_test = scaler.transform(X_test_raw)"
   ]
  },
  {
   "cell_type": "code",
   "execution_count": 106,
   "id": "eaef8391",
   "metadata": {
    "execution": {
     "iopub.execute_input": "2025-08-07T16:49:39.155718Z",
     "iopub.status.busy": "2025-08-07T16:49:39.155421Z",
     "iopub.status.idle": "2025-08-07T16:49:39.162642Z",
     "shell.execute_reply": "2025-08-07T16:49:39.161953Z"
    },
    "papermill": {
     "duration": 0.039277,
     "end_time": "2025-08-07T16:49:39.163957",
     "exception": false,
     "start_time": "2025-08-07T16:49:39.124680",
     "status": "completed"
    },
    "tags": []
   },
   "outputs": [
    {
     "data": {
      "text/plain": [
       "array([[ 0.6       , -0.16666667,  0.        , ..., -0.03738547,\n",
       "         1.44008264,  8.87596899],\n",
       "       [ 1.        ,  0.33333333,  1.        , ..., -0.84268652,\n",
       "         0.62603306,  0.        ],\n",
       "       [-0.8       , -1.        ,  0.        , ..., -0.84268652,\n",
       "         0.        ,  0.        ],\n",
       "       ...,\n",
       "       [ 0.4       , -0.16666667,  0.        , ...,  0.5899051 ,\n",
       "         0.6322314 ,  0.75193798],\n",
       "       [-1.        ,  0.75      ,  0.        , ..., -0.84268652,\n",
       "         0.        ,  0.        ],\n",
       "       [ 0.6       , -0.33333333,  0.        , ...,  0.61755563,\n",
       "         0.59917355,  7.5       ]])"
      ]
     },
     "execution_count": 106,
     "metadata": {},
     "output_type": "execute_result"
    }
   ],
   "source": [
    "X_train"
   ]
  },
  {
   "cell_type": "code",
   "execution_count": 107,
   "id": "db412e22",
   "metadata": {
    "execution": {
     "iopub.execute_input": "2025-08-07T16:49:39.224524Z",
     "iopub.status.busy": "2025-08-07T16:49:39.224174Z",
     "iopub.status.idle": "2025-08-07T16:49:39.231360Z",
     "shell.execute_reply": "2025-08-07T16:49:39.230327Z"
    },
    "papermill": {
     "duration": 0.038891,
     "end_time": "2025-08-07T16:49:39.232750",
     "exception": false,
     "start_time": "2025-08-07T16:49:39.193859",
     "status": "completed"
    },
    "tags": []
   },
   "outputs": [
    {
     "data": {
      "text/plain": [
       "array([[ 4.00000000e-01,  8.33333333e-01,  0.00000000e+00, ...,\n",
       "         6.20009817e-01,  0.00000000e+00,  0.00000000e+00],\n",
       "       [ 0.00000000e+00,  2.50000000e-01,  1.00000000e+00, ...,\n",
       "         7.40592277e-01,  1.52892562e-01,  0.00000000e+00],\n",
       "       [ 4.00000000e-01, -5.83333333e-01,  0.00000000e+00, ...,\n",
       "         7.82804319e-01,  0.00000000e+00,  0.00000000e+00],\n",
       "       ...,\n",
       "       [-8.00000000e-01,  4.16666667e-01,  1.00000000e+00, ...,\n",
       "        -8.40559555e-01,  4.19421488e-01,  0.00000000e+00],\n",
       "       [-4.00000000e-01,  6.66666667e-01,  0.00000000e+00, ...,\n",
       "        -8.42686518e-01,  0.00000000e+00,  6.67829457e+00],\n",
       "       [ 0.00000000e+00,  8.33333333e-01,  0.00000000e+00, ...,\n",
       "         1.71793194e-03,  0.00000000e+00,  0.00000000e+00]])"
      ]
     },
     "execution_count": 107,
     "metadata": {},
     "output_type": "execute_result"
    }
   ],
   "source": [
    "X_test"
   ]
  },
  {
   "cell_type": "markdown",
   "id": "67e1b8ad",
   "metadata": {
    "papermill": {
     "duration": 0.028873,
     "end_time": "2025-08-07T16:49:39.291239",
     "exception": false,
     "start_time": "2025-08-07T16:49:39.262366",
     "status": "completed"
    },
    "tags": []
   },
   "source": [
    "#### Default Parameters"
   ]
  },
  {
   "cell_type": "code",
   "execution_count": 108,
   "id": "d1c1b770",
   "metadata": {
    "execution": {
     "iopub.execute_input": "2025-08-07T16:49:39.355623Z",
     "iopub.status.busy": "2025-08-07T16:49:39.355307Z",
     "iopub.status.idle": "2025-08-07T16:49:39.362131Z",
     "shell.execute_reply": "2025-08-07T16:49:39.361267Z"
    },
    "papermill": {
     "duration": 0.042541,
     "end_time": "2025-08-07T16:49:39.363504",
     "exception": false,
     "start_time": "2025-08-07T16:49:39.320963",
     "status": "completed"
    },
    "tags": []
   },
   "outputs": [
    {
     "data": {
      "text/html": [
       "<style>#sk-container-id-16 {color: black;background-color: white;}#sk-container-id-16 pre{padding: 0;}#sk-container-id-16 div.sk-toggleable {background-color: white;}#sk-container-id-16 label.sk-toggleable__label {cursor: pointer;display: block;width: 100%;margin-bottom: 0;padding: 0.3em;box-sizing: border-box;text-align: center;}#sk-container-id-16 label.sk-toggleable__label-arrow:before {content: \"▸\";float: left;margin-right: 0.25em;color: #696969;}#sk-container-id-16 label.sk-toggleable__label-arrow:hover:before {color: black;}#sk-container-id-16 div.sk-estimator:hover label.sk-toggleable__label-arrow:before {color: black;}#sk-container-id-16 div.sk-toggleable__content {max-height: 0;max-width: 0;overflow: hidden;text-align: left;background-color: #f0f8ff;}#sk-container-id-16 div.sk-toggleable__content pre {margin: 0.2em;color: black;border-radius: 0.25em;background-color: #f0f8ff;}#sk-container-id-16 input.sk-toggleable__control:checked~div.sk-toggleable__content {max-height: 200px;max-width: 100%;overflow: auto;}#sk-container-id-16 input.sk-toggleable__control:checked~label.sk-toggleable__label-arrow:before {content: \"▾\";}#sk-container-id-16 div.sk-estimator input.sk-toggleable__control:checked~label.sk-toggleable__label {background-color: #d4ebff;}#sk-container-id-16 div.sk-label input.sk-toggleable__control:checked~label.sk-toggleable__label {background-color: #d4ebff;}#sk-container-id-16 input.sk-hidden--visually {border: 0;clip: rect(1px 1px 1px 1px);clip: rect(1px, 1px, 1px, 1px);height: 1px;margin: -1px;overflow: hidden;padding: 0;position: absolute;width: 1px;}#sk-container-id-16 div.sk-estimator {font-family: monospace;background-color: #f0f8ff;border: 1px dotted black;border-radius: 0.25em;box-sizing: border-box;margin-bottom: 0.5em;}#sk-container-id-16 div.sk-estimator:hover {background-color: #d4ebff;}#sk-container-id-16 div.sk-parallel-item::after {content: \"\";width: 100%;border-bottom: 1px solid gray;flex-grow: 1;}#sk-container-id-16 div.sk-label:hover label.sk-toggleable__label {background-color: #d4ebff;}#sk-container-id-16 div.sk-serial::before {content: \"\";position: absolute;border-left: 1px solid gray;box-sizing: border-box;top: 0;bottom: 0;left: 50%;z-index: 0;}#sk-container-id-16 div.sk-serial {display: flex;flex-direction: column;align-items: center;background-color: white;padding-right: 0.2em;padding-left: 0.2em;position: relative;}#sk-container-id-16 div.sk-item {position: relative;z-index: 1;}#sk-container-id-16 div.sk-parallel {display: flex;align-items: stretch;justify-content: center;background-color: white;position: relative;}#sk-container-id-16 div.sk-item::before, #sk-container-id-16 div.sk-parallel-item::before {content: \"\";position: absolute;border-left: 1px solid gray;box-sizing: border-box;top: 0;bottom: 0;left: 50%;z-index: -1;}#sk-container-id-16 div.sk-parallel-item {display: flex;flex-direction: column;z-index: 1;position: relative;background-color: white;}#sk-container-id-16 div.sk-parallel-item:first-child::after {align-self: flex-end;width: 50%;}#sk-container-id-16 div.sk-parallel-item:last-child::after {align-self: flex-start;width: 50%;}#sk-container-id-16 div.sk-parallel-item:only-child::after {width: 0;}#sk-container-id-16 div.sk-dashed-wrapped {border: 1px dashed gray;margin: 0 0.4em 0.5em 0.4em;box-sizing: border-box;padding-bottom: 0.4em;background-color: white;}#sk-container-id-16 div.sk-label label {font-family: monospace;font-weight: bold;display: inline-block;line-height: 1.2em;}#sk-container-id-16 div.sk-label-container {text-align: center;}#sk-container-id-16 div.sk-container {/* jupyter's `normalize.less` sets `[hidden] { display: none; }` but bootstrap.min.css set `[hidden] { display: none !important; }` so we also need the `!important` here to be able to override the default hidden behavior on the sphinx rendered scikit-learn.org. See: https://github.com/scikit-learn/scikit-learn/issues/21755 */display: inline-block !important;position: relative;}#sk-container-id-16 div.sk-text-repr-fallback {display: none;}</style><div id=\"sk-container-id-16\" class=\"sk-top-container\"><div class=\"sk-text-repr-fallback\"><pre>RandomForestRegressor(random_state=42)</pre><b>In a Jupyter environment, please rerun this cell to show the HTML representation or trust the notebook. <br />On GitHub, the HTML representation is unable to render, please try loading this page with nbviewer.org.</b></div><div class=\"sk-container\" hidden><div class=\"sk-item\"><div class=\"sk-estimator sk-toggleable\"><input class=\"sk-toggleable__control sk-hidden--visually\" id=\"sk-estimator-id-26\" type=\"checkbox\" checked><label for=\"sk-estimator-id-26\" class=\"sk-toggleable__label sk-toggleable__label-arrow\">RandomForestRegressor</label><div class=\"sk-toggleable__content\"><pre>RandomForestRegressor(random_state=42)</pre></div></div></div></div></div>"
      ],
      "text/plain": [
       "RandomForestRegressor(random_state=42)"
      ]
     },
     "execution_count": 108,
     "metadata": {},
     "output_type": "execute_result"
    }
   ],
   "source": [
    "training_model = RandomForestRegressor(random_state=42)\n",
    "training_model"
   ]
  },
  {
   "cell_type": "code",
   "execution_count": 109,
   "id": "c75d5e77",
   "metadata": {
    "execution": {
     "iopub.execute_input": "2025-08-07T16:49:39.423755Z",
     "iopub.status.busy": "2025-08-07T16:49:39.423479Z",
     "iopub.status.idle": "2025-08-07T16:49:51.337475Z",
     "shell.execute_reply": "2025-08-07T16:49:51.336559Z"
    },
    "papermill": {
     "duration": 11.945681,
     "end_time": "2025-08-07T16:49:51.338827",
     "exception": false,
     "start_time": "2025-08-07T16:49:39.393146",
     "status": "completed"
    },
    "tags": []
   },
   "outputs": [
    {
     "name": "stdout",
     "output_type": "stream",
     "text": [
      "CPU times: user 11.9 s, sys: 0 ns, total: 11.9 s\n",
      "Wall time: 11.9 s\n"
     ]
    },
    {
     "data": {
      "text/html": [
       "<style>#sk-container-id-17 {color: black;background-color: white;}#sk-container-id-17 pre{padding: 0;}#sk-container-id-17 div.sk-toggleable {background-color: white;}#sk-container-id-17 label.sk-toggleable__label {cursor: pointer;display: block;width: 100%;margin-bottom: 0;padding: 0.3em;box-sizing: border-box;text-align: center;}#sk-container-id-17 label.sk-toggleable__label-arrow:before {content: \"▸\";float: left;margin-right: 0.25em;color: #696969;}#sk-container-id-17 label.sk-toggleable__label-arrow:hover:before {color: black;}#sk-container-id-17 div.sk-estimator:hover label.sk-toggleable__label-arrow:before {color: black;}#sk-container-id-17 div.sk-toggleable__content {max-height: 0;max-width: 0;overflow: hidden;text-align: left;background-color: #f0f8ff;}#sk-container-id-17 div.sk-toggleable__content pre {margin: 0.2em;color: black;border-radius: 0.25em;background-color: #f0f8ff;}#sk-container-id-17 input.sk-toggleable__control:checked~div.sk-toggleable__content {max-height: 200px;max-width: 100%;overflow: auto;}#sk-container-id-17 input.sk-toggleable__control:checked~label.sk-toggleable__label-arrow:before {content: \"▾\";}#sk-container-id-17 div.sk-estimator input.sk-toggleable__control:checked~label.sk-toggleable__label {background-color: #d4ebff;}#sk-container-id-17 div.sk-label input.sk-toggleable__control:checked~label.sk-toggleable__label {background-color: #d4ebff;}#sk-container-id-17 input.sk-hidden--visually {border: 0;clip: rect(1px 1px 1px 1px);clip: rect(1px, 1px, 1px, 1px);height: 1px;margin: -1px;overflow: hidden;padding: 0;position: absolute;width: 1px;}#sk-container-id-17 div.sk-estimator {font-family: monospace;background-color: #f0f8ff;border: 1px dotted black;border-radius: 0.25em;box-sizing: border-box;margin-bottom: 0.5em;}#sk-container-id-17 div.sk-estimator:hover {background-color: #d4ebff;}#sk-container-id-17 div.sk-parallel-item::after {content: \"\";width: 100%;border-bottom: 1px solid gray;flex-grow: 1;}#sk-container-id-17 div.sk-label:hover label.sk-toggleable__label {background-color: #d4ebff;}#sk-container-id-17 div.sk-serial::before {content: \"\";position: absolute;border-left: 1px solid gray;box-sizing: border-box;top: 0;bottom: 0;left: 50%;z-index: 0;}#sk-container-id-17 div.sk-serial {display: flex;flex-direction: column;align-items: center;background-color: white;padding-right: 0.2em;padding-left: 0.2em;position: relative;}#sk-container-id-17 div.sk-item {position: relative;z-index: 1;}#sk-container-id-17 div.sk-parallel {display: flex;align-items: stretch;justify-content: center;background-color: white;position: relative;}#sk-container-id-17 div.sk-item::before, #sk-container-id-17 div.sk-parallel-item::before {content: \"\";position: absolute;border-left: 1px solid gray;box-sizing: border-box;top: 0;bottom: 0;left: 50%;z-index: -1;}#sk-container-id-17 div.sk-parallel-item {display: flex;flex-direction: column;z-index: 1;position: relative;background-color: white;}#sk-container-id-17 div.sk-parallel-item:first-child::after {align-self: flex-end;width: 50%;}#sk-container-id-17 div.sk-parallel-item:last-child::after {align-self: flex-start;width: 50%;}#sk-container-id-17 div.sk-parallel-item:only-child::after {width: 0;}#sk-container-id-17 div.sk-dashed-wrapped {border: 1px dashed gray;margin: 0 0.4em 0.5em 0.4em;box-sizing: border-box;padding-bottom: 0.4em;background-color: white;}#sk-container-id-17 div.sk-label label {font-family: monospace;font-weight: bold;display: inline-block;line-height: 1.2em;}#sk-container-id-17 div.sk-label-container {text-align: center;}#sk-container-id-17 div.sk-container {/* jupyter's `normalize.less` sets `[hidden] { display: none; }` but bootstrap.min.css set `[hidden] { display: none !important; }` so we also need the `!important` here to be able to override the default hidden behavior on the sphinx rendered scikit-learn.org. See: https://github.com/scikit-learn/scikit-learn/issues/21755 */display: inline-block !important;position: relative;}#sk-container-id-17 div.sk-text-repr-fallback {display: none;}</style><div id=\"sk-container-id-17\" class=\"sk-top-container\"><div class=\"sk-text-repr-fallback\"><pre>RandomForestRegressor(random_state=42)</pre><b>In a Jupyter environment, please rerun this cell to show the HTML representation or trust the notebook. <br />On GitHub, the HTML representation is unable to render, please try loading this page with nbviewer.org.</b></div><div class=\"sk-container\" hidden><div class=\"sk-item\"><div class=\"sk-estimator sk-toggleable\"><input class=\"sk-toggleable__control sk-hidden--visually\" id=\"sk-estimator-id-27\" type=\"checkbox\" checked><label for=\"sk-estimator-id-27\" class=\"sk-toggleable__label sk-toggleable__label-arrow\">RandomForestRegressor</label><div class=\"sk-toggleable__content\"><pre>RandomForestRegressor(random_state=42)</pre></div></div></div></div></div>"
      ],
      "text/plain": [
       "RandomForestRegressor(random_state=42)"
      ]
     },
     "execution_count": 109,
     "metadata": {},
     "output_type": "execute_result"
    }
   ],
   "source": [
    "%%time\n",
    "training_model.fit(X_train, y_train)"
   ]
  },
  {
   "cell_type": "code",
   "execution_count": 110,
   "id": "afe2f6bf",
   "metadata": {
    "execution": {
     "iopub.execute_input": "2025-08-07T16:49:51.399679Z",
     "iopub.status.busy": "2025-08-07T16:49:51.399358Z",
     "iopub.status.idle": "2025-08-07T16:49:51.482220Z",
     "shell.execute_reply": "2025-08-07T16:49:51.481407Z"
    },
    "papermill": {
     "duration": 0.115002,
     "end_time": "2025-08-07T16:49:51.483674",
     "exception": false,
     "start_time": "2025-08-07T16:49:51.368672",
     "status": "completed"
    },
    "tags": []
   },
   "outputs": [
    {
     "data": {
      "text/plain": [
       "array([4.6341, 3.7083, 4.2645, ..., 3.6337, 4.579 , 4.6604])"
      ]
     },
     "execution_count": 110,
     "metadata": {},
     "output_type": "execute_result"
    }
   ],
   "source": [
    "y_pred = training_model.predict(X_test)\n",
    "y_pred"
   ]
  },
  {
   "cell_type": "code",
   "execution_count": 111,
   "id": "d4785109",
   "metadata": {
    "execution": {
     "iopub.execute_input": "2025-08-07T16:49:51.545829Z",
     "iopub.status.busy": "2025-08-07T16:49:51.545518Z",
     "iopub.status.idle": "2025-08-07T16:49:51.553136Z",
     "shell.execute_reply": "2025-08-07T16:49:51.552270Z"
    },
    "papermill": {
     "duration": 0.040942,
     "end_time": "2025-08-07T16:49:51.554684",
     "exception": false,
     "start_time": "2025-08-07T16:49:51.513742",
     "status": "completed"
    },
    "tags": []
   },
   "outputs": [
    {
     "data": {
      "text/plain": [
       "5158     4.65\n",
       "3831     3.70\n",
       "5117     4.19\n",
       "6326     3.88\n",
       "11359    3.68\n",
       "         ... \n",
       "10290    5.17\n",
       "13995    4.48\n",
       "9665     3.91\n",
       "2276     4.00\n",
       "4174     4.65\n",
       "Name: Visibility, Length: 2924, dtype: float64"
      ]
     },
     "execution_count": 111,
     "metadata": {},
     "output_type": "execute_result"
    }
   ],
   "source": [
    "y_test"
   ]
  },
  {
   "cell_type": "code",
   "execution_count": 112,
   "id": "3b1eed67",
   "metadata": {
    "execution": {
     "iopub.execute_input": "2025-08-07T16:49:51.616691Z",
     "iopub.status.busy": "2025-08-07T16:49:51.616405Z",
     "iopub.status.idle": "2025-08-07T16:49:51.623228Z",
     "shell.execute_reply": "2025-08-07T16:49:51.622484Z"
    },
    "papermill": {
     "duration": 0.039526,
     "end_time": "2025-08-07T16:49:51.624667",
     "exception": false,
     "start_time": "2025-08-07T16:49:51.585141",
     "status": "completed"
    },
    "tags": []
   },
   "outputs": [],
   "source": [
    "mse = mean_squared_error(y_test, y_pred)\n",
    "mae = mean_absolute_error(y_test, y_pred)\n",
    "r2 = r2_score(y_test, y_pred)\n",
    "rmse = math.sqrt(mse)"
   ]
  },
  {
   "cell_type": "code",
   "execution_count": 113,
   "id": "b372340d",
   "metadata": {
    "execution": {
     "iopub.execute_input": "2025-08-07T16:49:51.687514Z",
     "iopub.status.busy": "2025-08-07T16:49:51.687180Z",
     "iopub.status.idle": "2025-08-07T16:49:51.691828Z",
     "shell.execute_reply": "2025-08-07T16:49:51.690968Z"
    },
    "papermill": {
     "duration": 0.036761,
     "end_time": "2025-08-07T16:49:51.693023",
     "exception": false,
     "start_time": "2025-08-07T16:49:51.656262",
     "status": "completed"
    },
    "tags": []
   },
   "outputs": [
    {
     "name": "stdout",
     "output_type": "stream",
     "text": [
      "MSE Score: 1.0091599438030099\n",
      "MAE Score: 0.37886826265389867\n",
      "R2 Score: 0.4828454754995253\n",
      "RMSE Score: 1.0045695315920198\n"
     ]
    }
   ],
   "source": [
    "print(\"MSE Score:\", mse)\n",
    "print(\"MAE Score:\", mae)\n",
    "print(\"R2 Score:\", r2)\n",
    "print(\"RMSE Score:\", rmse)"
   ]
  },
  {
   "cell_type": "code",
   "execution_count": 114,
   "id": "a71121db",
   "metadata": {
    "execution": {
     "iopub.execute_input": "2025-08-07T16:49:51.756151Z",
     "iopub.status.busy": "2025-08-07T16:49:51.755036Z",
     "iopub.status.idle": "2025-08-07T16:49:51.764348Z",
     "shell.execute_reply": "2025-08-07T16:49:51.763377Z"
    },
    "papermill": {
     "duration": 0.042217,
     "end_time": "2025-08-07T16:49:51.765871",
     "exception": false,
     "start_time": "2025-08-07T16:49:51.723654",
     "status": "completed"
    },
    "tags": []
   },
   "outputs": [
    {
     "name": "stdout",
     "output_type": "stream",
     "text": [
      "❌ Regression model not improved:\n",
      "   Current MSE: 1.009160, Best MSE: 0.868891\n",
      "   Current R²: 0.482845, Best R²: 0.554728\n",
      "   Current Features: 24, Best Features: 27\n"
     ]
    }
   ],
   "source": [
    "regression_params = {\n",
    "    'model_name': model_name_for_saving,\n",
    "    'scaler_name': \"RobustScaler\",\n",
    "    'features_list': feature_columns_for_saving,\n",
    "    'target_column': target_name_for_saving,\n",
    "    'mse': mse,\n",
    "    'mae': mae,\n",
    "    'rmse': rmse,\n",
    "    'r2': r2,\n",
    "    'parameters': json.dumps(training_model.get_params())\n",
    "}\n",
    "save_model_performance_if_better('regression', regression_params)"
   ]
  },
  {
   "cell_type": "markdown",
   "id": "4f47c2c4",
   "metadata": {
    "papermill": {
     "duration": 0.029457,
     "end_time": "2025-08-07T16:49:51.825769",
     "exception": false,
     "start_time": "2025-08-07T16:49:51.796312",
     "status": "completed"
    },
    "tags": []
   },
   "source": [
    "#### Tuning with Randomized Grid Search"
   ]
  },
  {
   "cell_type": "code",
   "execution_count": 115,
   "id": "e75706bf",
   "metadata": {
    "execution": {
     "iopub.execute_input": "2025-08-07T16:49:51.887579Z",
     "iopub.status.busy": "2025-08-07T16:49:51.887276Z",
     "iopub.status.idle": "2025-08-07T16:49:51.892017Z",
     "shell.execute_reply": "2025-08-07T16:49:51.891287Z"
    },
    "papermill": {
     "duration": 0.037821,
     "end_time": "2025-08-07T16:49:51.893432",
     "exception": false,
     "start_time": "2025-08-07T16:49:51.855611",
     "status": "completed"
    },
    "tags": []
   },
   "outputs": [],
   "source": [
    "grid_search = RandomizedSearchCV(\n",
    "    RandomForestRegressor(random_state=42), \n",
    "    grid_param,\n",
    "    n_iter=number_of_model_for_randomized_grid,\n",
    "    cv=5,\n",
    "    scoring='neg_mean_squared_error',\n",
    "    n_jobs=-1,\n",
    "    verbose=1,\n",
    "    random_state=42\n",
    ")"
   ]
  },
  {
   "cell_type": "code",
   "execution_count": 116,
   "id": "fb5f028b",
   "metadata": {
    "execution": {
     "iopub.execute_input": "2025-08-07T16:49:51.955622Z",
     "iopub.status.busy": "2025-08-07T16:49:51.955331Z",
     "iopub.status.idle": "2025-08-07T18:13:38.947497Z",
     "shell.execute_reply": "2025-08-07T18:13:38.946489Z"
    },
    "papermill": {
     "duration": 5027.057717,
     "end_time": "2025-08-07T18:13:38.981693",
     "exception": false,
     "start_time": "2025-08-07T16:49:51.923976",
     "status": "completed"
    },
    "tags": []
   },
   "outputs": [
    {
     "name": "stdout",
     "output_type": "stream",
     "text": [
      "Starting hyperparameter tuning...\n",
      "Fitting 5 folds for each of 600 candidates, totalling 3000 fits\n",
      "CPU times: user 31.4 s, sys: 9.4 s, total: 40.8 s\n",
      "Wall time: 1h 23min 46s\n"
     ]
    },
    {
     "data": {
      "text/html": [
       "<style>#sk-container-id-18 {color: black;background-color: white;}#sk-container-id-18 pre{padding: 0;}#sk-container-id-18 div.sk-toggleable {background-color: white;}#sk-container-id-18 label.sk-toggleable__label {cursor: pointer;display: block;width: 100%;margin-bottom: 0;padding: 0.3em;box-sizing: border-box;text-align: center;}#sk-container-id-18 label.sk-toggleable__label-arrow:before {content: \"▸\";float: left;margin-right: 0.25em;color: #696969;}#sk-container-id-18 label.sk-toggleable__label-arrow:hover:before {color: black;}#sk-container-id-18 div.sk-estimator:hover label.sk-toggleable__label-arrow:before {color: black;}#sk-container-id-18 div.sk-toggleable__content {max-height: 0;max-width: 0;overflow: hidden;text-align: left;background-color: #f0f8ff;}#sk-container-id-18 div.sk-toggleable__content pre {margin: 0.2em;color: black;border-radius: 0.25em;background-color: #f0f8ff;}#sk-container-id-18 input.sk-toggleable__control:checked~div.sk-toggleable__content {max-height: 200px;max-width: 100%;overflow: auto;}#sk-container-id-18 input.sk-toggleable__control:checked~label.sk-toggleable__label-arrow:before {content: \"▾\";}#sk-container-id-18 div.sk-estimator input.sk-toggleable__control:checked~label.sk-toggleable__label {background-color: #d4ebff;}#sk-container-id-18 div.sk-label input.sk-toggleable__control:checked~label.sk-toggleable__label {background-color: #d4ebff;}#sk-container-id-18 input.sk-hidden--visually {border: 0;clip: rect(1px 1px 1px 1px);clip: rect(1px, 1px, 1px, 1px);height: 1px;margin: -1px;overflow: hidden;padding: 0;position: absolute;width: 1px;}#sk-container-id-18 div.sk-estimator {font-family: monospace;background-color: #f0f8ff;border: 1px dotted black;border-radius: 0.25em;box-sizing: border-box;margin-bottom: 0.5em;}#sk-container-id-18 div.sk-estimator:hover {background-color: #d4ebff;}#sk-container-id-18 div.sk-parallel-item::after {content: \"\";width: 100%;border-bottom: 1px solid gray;flex-grow: 1;}#sk-container-id-18 div.sk-label:hover label.sk-toggleable__label {background-color: #d4ebff;}#sk-container-id-18 div.sk-serial::before {content: \"\";position: absolute;border-left: 1px solid gray;box-sizing: border-box;top: 0;bottom: 0;left: 50%;z-index: 0;}#sk-container-id-18 div.sk-serial {display: flex;flex-direction: column;align-items: center;background-color: white;padding-right: 0.2em;padding-left: 0.2em;position: relative;}#sk-container-id-18 div.sk-item {position: relative;z-index: 1;}#sk-container-id-18 div.sk-parallel {display: flex;align-items: stretch;justify-content: center;background-color: white;position: relative;}#sk-container-id-18 div.sk-item::before, #sk-container-id-18 div.sk-parallel-item::before {content: \"\";position: absolute;border-left: 1px solid gray;box-sizing: border-box;top: 0;bottom: 0;left: 50%;z-index: -1;}#sk-container-id-18 div.sk-parallel-item {display: flex;flex-direction: column;z-index: 1;position: relative;background-color: white;}#sk-container-id-18 div.sk-parallel-item:first-child::after {align-self: flex-end;width: 50%;}#sk-container-id-18 div.sk-parallel-item:last-child::after {align-self: flex-start;width: 50%;}#sk-container-id-18 div.sk-parallel-item:only-child::after {width: 0;}#sk-container-id-18 div.sk-dashed-wrapped {border: 1px dashed gray;margin: 0 0.4em 0.5em 0.4em;box-sizing: border-box;padding-bottom: 0.4em;background-color: white;}#sk-container-id-18 div.sk-label label {font-family: monospace;font-weight: bold;display: inline-block;line-height: 1.2em;}#sk-container-id-18 div.sk-label-container {text-align: center;}#sk-container-id-18 div.sk-container {/* jupyter's `normalize.less` sets `[hidden] { display: none; }` but bootstrap.min.css set `[hidden] { display: none !important; }` so we also need the `!important` here to be able to override the default hidden behavior on the sphinx rendered scikit-learn.org. See: https://github.com/scikit-learn/scikit-learn/issues/21755 */display: inline-block !important;position: relative;}#sk-container-id-18 div.sk-text-repr-fallback {display: none;}</style><div id=\"sk-container-id-18\" class=\"sk-top-container\"><div class=\"sk-text-repr-fallback\"><pre>RandomizedSearchCV(cv=5, estimator=RandomForestRegressor(random_state=42),\n",
       "                   n_iter=600, n_jobs=-1,\n",
       "                   param_distributions=[{&#x27;bootstrap&#x27;: [True],\n",
       "                                         &#x27;max_depth&#x27;: [None, 10, 20, 30],\n",
       "                                         &#x27;max_features&#x27;: [&#x27;sqrt&#x27;, &#x27;log2&#x27;, None],\n",
       "                                         &#x27;max_samples&#x27;: [None, 0.8, 0.9],\n",
       "                                         &#x27;min_impurity_decrease&#x27;: [0.0, 0.01,\n",
       "                                                                   0.02],\n",
       "                                         &#x27;min_samples_leaf&#x27;: [1, 2, 4, 6],\n",
       "                                         &#x27;min_samples_split&#x27;: [2, 5, 10, 15,\n",
       "                                                               20],\n",
       "                                         &#x27;n_estimators&#x27;: [100, 200, 300]},\n",
       "                                        {&#x27;bootstrap&#x27;: [False],\n",
       "                                         &#x27;max_depth&#x27;: [None, 10, 20, 30],\n",
       "                                         &#x27;max_features&#x27;: [&#x27;sqrt&#x27;, &#x27;log2&#x27;, None],\n",
       "                                         &#x27;min_impurity_decrease&#x27;: [0.0, 0.01,\n",
       "                                                                   0.02],\n",
       "                                         &#x27;min_samples_leaf&#x27;: [1, 2, 4, 6],\n",
       "                                         &#x27;min_samples_split&#x27;: [2, 5, 10, 15,\n",
       "                                                               20],\n",
       "                                         &#x27;n_estimators&#x27;: [100, 200, 300]}],\n",
       "                   random_state=42, scoring=&#x27;neg_mean_squared_error&#x27;,\n",
       "                   verbose=1)</pre><b>In a Jupyter environment, please rerun this cell to show the HTML representation or trust the notebook. <br />On GitHub, the HTML representation is unable to render, please try loading this page with nbviewer.org.</b></div><div class=\"sk-container\" hidden><div class=\"sk-item sk-dashed-wrapped\"><div class=\"sk-label-container\"><div class=\"sk-label sk-toggleable\"><input class=\"sk-toggleable__control sk-hidden--visually\" id=\"sk-estimator-id-28\" type=\"checkbox\" ><label for=\"sk-estimator-id-28\" class=\"sk-toggleable__label sk-toggleable__label-arrow\">RandomizedSearchCV</label><div class=\"sk-toggleable__content\"><pre>RandomizedSearchCV(cv=5, estimator=RandomForestRegressor(random_state=42),\n",
       "                   n_iter=600, n_jobs=-1,\n",
       "                   param_distributions=[{&#x27;bootstrap&#x27;: [True],\n",
       "                                         &#x27;max_depth&#x27;: [None, 10, 20, 30],\n",
       "                                         &#x27;max_features&#x27;: [&#x27;sqrt&#x27;, &#x27;log2&#x27;, None],\n",
       "                                         &#x27;max_samples&#x27;: [None, 0.8, 0.9],\n",
       "                                         &#x27;min_impurity_decrease&#x27;: [0.0, 0.01,\n",
       "                                                                   0.02],\n",
       "                                         &#x27;min_samples_leaf&#x27;: [1, 2, 4, 6],\n",
       "                                         &#x27;min_samples_split&#x27;: [2, 5, 10, 15,\n",
       "                                                               20],\n",
       "                                         &#x27;n_estimators&#x27;: [100, 200, 300]},\n",
       "                                        {&#x27;bootstrap&#x27;: [False],\n",
       "                                         &#x27;max_depth&#x27;: [None, 10, 20, 30],\n",
       "                                         &#x27;max_features&#x27;: [&#x27;sqrt&#x27;, &#x27;log2&#x27;, None],\n",
       "                                         &#x27;min_impurity_decrease&#x27;: [0.0, 0.01,\n",
       "                                                                   0.02],\n",
       "                                         &#x27;min_samples_leaf&#x27;: [1, 2, 4, 6],\n",
       "                                         &#x27;min_samples_split&#x27;: [2, 5, 10, 15,\n",
       "                                                               20],\n",
       "                                         &#x27;n_estimators&#x27;: [100, 200, 300]}],\n",
       "                   random_state=42, scoring=&#x27;neg_mean_squared_error&#x27;,\n",
       "                   verbose=1)</pre></div></div></div><div class=\"sk-parallel\"><div class=\"sk-parallel-item\"><div class=\"sk-item\"><div class=\"sk-label-container\"><div class=\"sk-label sk-toggleable\"><input class=\"sk-toggleable__control sk-hidden--visually\" id=\"sk-estimator-id-29\" type=\"checkbox\" ><label for=\"sk-estimator-id-29\" class=\"sk-toggleable__label sk-toggleable__label-arrow\">estimator: RandomForestRegressor</label><div class=\"sk-toggleable__content\"><pre>RandomForestRegressor(random_state=42)</pre></div></div></div><div class=\"sk-serial\"><div class=\"sk-item\"><div class=\"sk-estimator sk-toggleable\"><input class=\"sk-toggleable__control sk-hidden--visually\" id=\"sk-estimator-id-30\" type=\"checkbox\" ><label for=\"sk-estimator-id-30\" class=\"sk-toggleable__label sk-toggleable__label-arrow\">RandomForestRegressor</label><div class=\"sk-toggleable__content\"><pre>RandomForestRegressor(random_state=42)</pre></div></div></div></div></div></div></div></div></div></div>"
      ],
      "text/plain": [
       "RandomizedSearchCV(cv=5, estimator=RandomForestRegressor(random_state=42),\n",
       "                   n_iter=600, n_jobs=-1,\n",
       "                   param_distributions=[{'bootstrap': [True],\n",
       "                                         'max_depth': [None, 10, 20, 30],\n",
       "                                         'max_features': ['sqrt', 'log2', None],\n",
       "                                         'max_samples': [None, 0.8, 0.9],\n",
       "                                         'min_impurity_decrease': [0.0, 0.01,\n",
       "                                                                   0.02],\n",
       "                                         'min_samples_leaf': [1, 2, 4, 6],\n",
       "                                         'min_samples_split': [2, 5, 10, 15,\n",
       "                                                               20],\n",
       "                                         'n_estimators': [100, 200, 300]},\n",
       "                                        {'bootstrap': [False],\n",
       "                                         'max_depth': [None, 10, 20, 30],\n",
       "                                         'max_features': ['sqrt', 'log2', None],\n",
       "                                         'min_impurity_decrease': [0.0, 0.01,\n",
       "                                                                   0.02],\n",
       "                                         'min_samples_leaf': [1, 2, 4, 6],\n",
       "                                         'min_samples_split': [2, 5, 10, 15,\n",
       "                                                               20],\n",
       "                                         'n_estimators': [100, 200, 300]}],\n",
       "                   random_state=42, scoring='neg_mean_squared_error',\n",
       "                   verbose=1)"
      ]
     },
     "execution_count": 116,
     "metadata": {},
     "output_type": "execute_result"
    }
   ],
   "source": [
    "%%time\n",
    "print(\"Starting hyperparameter tuning...\")\n",
    "grid_search.fit(X_train, y_train)"
   ]
  },
  {
   "cell_type": "code",
   "execution_count": 117,
   "id": "7dfcac33",
   "metadata": {
    "execution": {
     "iopub.execute_input": "2025-08-07T18:13:39.045507Z",
     "iopub.status.busy": "2025-08-07T18:13:39.045148Z",
     "iopub.status.idle": "2025-08-07T18:13:39.051075Z",
     "shell.execute_reply": "2025-08-07T18:13:39.050215Z"
    },
    "papermill": {
     "duration": 0.039072,
     "end_time": "2025-08-07T18:13:39.052479",
     "exception": false,
     "start_time": "2025-08-07T18:13:39.013407",
     "status": "completed"
    },
    "tags": []
   },
   "outputs": [
    {
     "name": "stdout",
     "output_type": "stream",
     "text": [
      "TUNING RESULTS\n",
      "==================================================\n",
      "Best Parameters: {'n_estimators': 300, 'min_samples_split': 5, 'min_samples_leaf': 1, 'min_impurity_decrease': 0.0, 'max_features': 'sqrt', 'max_depth': None, 'bootstrap': False}\n",
      "Best Cross-Validation Score (Negative MSE): -0.964090078474215\n",
      "Best Cross-Validation Score (MSE): 0.964090078474215\n",
      "Best Cross-Validation Score (RMSE): 0.9818808881296218\n"
     ]
    }
   ],
   "source": [
    "print(\"TUNING RESULTS\")\n",
    "print(\"=\"*50)\n",
    "print(\"Best Parameters:\", grid_search.best_params_)\n",
    "print(\"Best Cross-Validation Score (Negative MSE):\", grid_search.best_score_)\n",
    "print(\"Best Cross-Validation Score (MSE):\", -grid_search.best_score_)\n",
    "print(\"Best Cross-Validation Score (RMSE):\", math.sqrt(-grid_search.best_score_))"
   ]
  },
  {
   "cell_type": "code",
   "execution_count": 118,
   "id": "1495c37c",
   "metadata": {
    "execution": {
     "iopub.execute_input": "2025-08-07T18:13:39.115615Z",
     "iopub.status.busy": "2025-08-07T18:13:39.115295Z",
     "iopub.status.idle": "2025-08-07T18:13:39.359954Z",
     "shell.execute_reply": "2025-08-07T18:13:39.359080Z"
    },
    "papermill": {
     "duration": 0.277468,
     "end_time": "2025-08-07T18:13:39.361572",
     "exception": false,
     "start_time": "2025-08-07T18:13:39.084104",
     "status": "completed"
    },
    "tags": []
   },
   "outputs": [],
   "source": [
    "grid_search_best_model = grid_search.best_estimator_\n",
    "y_pred = grid_search_best_model.predict(X_test)"
   ]
  },
  {
   "cell_type": "code",
   "execution_count": 119,
   "id": "5c69bad9",
   "metadata": {
    "execution": {
     "iopub.execute_input": "2025-08-07T18:13:39.425350Z",
     "iopub.status.busy": "2025-08-07T18:13:39.425020Z",
     "iopub.status.idle": "2025-08-07T18:13:39.431960Z",
     "shell.execute_reply": "2025-08-07T18:13:39.431078Z"
    },
    "papermill": {
     "duration": 0.04078,
     "end_time": "2025-08-07T18:13:39.433416",
     "exception": false,
     "start_time": "2025-08-07T18:13:39.392636",
     "status": "completed"
    },
    "tags": []
   },
   "outputs": [],
   "source": [
    "mse_grid_search = mean_squared_error(y_test, y_pred)\n",
    "mae_grid_search = mean_absolute_error(y_test, y_pred)\n",
    "r2_grid_search = r2_score(y_test, y_pred)\n",
    "rmse_grid_search = math.sqrt(mse_grid_search)"
   ]
  },
  {
   "cell_type": "code",
   "execution_count": 120,
   "id": "56678911",
   "metadata": {
    "execution": {
     "iopub.execute_input": "2025-08-07T18:13:39.503771Z",
     "iopub.status.busy": "2025-08-07T18:13:39.503137Z",
     "iopub.status.idle": "2025-08-07T18:13:39.509858Z",
     "shell.execute_reply": "2025-08-07T18:13:39.508667Z"
    },
    "papermill": {
     "duration": 0.047895,
     "end_time": "2025-08-07T18:13:39.511738",
     "exception": false,
     "start_time": "2025-08-07T18:13:39.463843",
     "status": "completed"
    },
    "tags": []
   },
   "outputs": [
    {
     "name": "stdout",
     "output_type": "stream",
     "text": [
      "MSE Score: 0.8542002623787206\n",
      "MAE Score: 0.36677758492932094\n",
      "R2 Score: 0.5622561782883455\n",
      "RMSE Score: 0.9242295506954539\n"
     ]
    }
   ],
   "source": [
    "print(\"MSE Score:\", mse_grid_search)\n",
    "print(\"MAE Score:\", mae_grid_search)\n",
    "print(\"R2 Score:\", r2_grid_search)\n",
    "print(\"RMSE Score:\", rmse_grid_search)"
   ]
  },
  {
   "cell_type": "code",
   "execution_count": 121,
   "id": "b43953cd",
   "metadata": {
    "execution": {
     "iopub.execute_input": "2025-08-07T18:13:39.585395Z",
     "iopub.status.busy": "2025-08-07T18:13:39.585057Z",
     "iopub.status.idle": "2025-08-07T18:13:39.595470Z",
     "shell.execute_reply": "2025-08-07T18:13:39.594504Z"
    },
    "papermill": {
     "duration": 0.046432,
     "end_time": "2025-08-07T18:13:39.596956",
     "exception": false,
     "start_time": "2025-08-07T18:13:39.550524",
     "status": "completed"
    },
    "tags": []
   },
   "outputs": [
    {
     "name": "stdout",
     "output_type": "stream",
     "text": [
      "❌ Regression model not improved:\n",
      "   Current MSE: 0.854200, Best MSE: 0.736077\n",
      "   Current R²: 0.562256, Best R²: 0.622789\n",
      "   Current Features: 24, Best Features: 27\n"
     ]
    }
   ],
   "source": [
    "regression_params = {\n",
    "    'model_name': model_name_for_saving + \" Tuned\",\n",
    "    'scaler_name': \"RobustScaler\",\n",
    "    'features_list': feature_columns_for_saving,\n",
    "    'target_column': target_name_for_saving,\n",
    "    'mse': mse_grid_search,\n",
    "    'mae': mae_grid_search,\n",
    "    'rmse': rmse_grid_search,\n",
    "    'r2': r2_grid_search,\n",
    "    'parameters' : json.dumps({\n",
    "        \"best_params\": grid_search.best_params_,\n",
    "        \"cv_score\": grid_search.best_score_,\n",
    "        \"all_params\": grid_search_best_model.get_params()\n",
    "    })\n",
    "}\n",
    "save_model_performance_if_better('regression', regression_params)"
   ]
  },
  {
   "cell_type": "markdown",
   "id": "1b520456",
   "metadata": {
    "papermill": {
     "duration": 0.030561,
     "end_time": "2025-08-07T18:13:39.658883",
     "exception": false,
     "start_time": "2025-08-07T18:13:39.628322",
     "status": "completed"
    },
    "tags": []
   },
   "source": [
    "# All Performance"
   ]
  },
  {
   "cell_type": "code",
   "execution_count": 122,
   "id": "00e72b41",
   "metadata": {
    "execution": {
     "iopub.execute_input": "2025-08-07T18:13:39.722172Z",
     "iopub.status.busy": "2025-08-07T18:13:39.721848Z",
     "iopub.status.idle": "2025-08-07T18:13:39.738748Z",
     "shell.execute_reply": "2025-08-07T18:13:39.737858Z"
    },
    "papermill": {
     "duration": 0.05037,
     "end_time": "2025-08-07T18:13:39.740287",
     "exception": false,
     "start_time": "2025-08-07T18:13:39.689917",
     "status": "completed"
    },
    "tags": []
   },
   "outputs": [
    {
     "name": "stdout",
     "output_type": "stream",
     "text": [
      "\n",
      "📊 REGRESSION Model Performance History\n",
      "====================================================================================================\n",
      "              Model         Scaler     Target  Features      MSE      MAE     RMSE       R²\n",
      "Random Forest Tuned   MinMaxScaler Visibility        27 0.735912 0.350106 0.857853 0.622874\n",
      "Random Forest Tuned StandardScaler Visibility        27 0.735968 0.349952 0.857886 0.622846\n",
      "Random Forest Tuned   RobustScaler Visibility        27 0.736077 0.350048 0.857950 0.622789\n",
      "      Random Forest StandardScaler Visibility        27 0.863786 0.365795 0.929401 0.557344\n",
      "      Random Forest   MinMaxScaler Visibility        27 0.868099 0.366729 0.931718 0.555134\n",
      "      Random Forest   RobustScaler Visibility        27 0.868891 0.366941 0.932143 0.554728\n",
      "\n",
      "📈 Total models shown: 6\n",
      "🏆 Best R² Score: 0.622874 (Random Forest Tuned + MinMaxScaler for Visibility)\n"
     ]
    }
   ],
   "source": [
    "show_model_history('regression', model_name=model_name_for_saving, target_column=target_name_for_saving)"
   ]
  },
  {
   "cell_type": "markdown",
   "id": "96ee4478",
   "metadata": {
    "papermill": {
     "duration": 0.030426,
     "end_time": "2025-08-07T18:13:39.802105",
     "exception": false,
     "start_time": "2025-08-07T18:13:39.771679",
     "status": "completed"
    },
    "tags": []
   },
   "source": [
    "# <center><font size=\"50\" color=\"red\">Thank You</font></center>"
   ]
  }
 ],
 "metadata": {
  "kaggle": {
   "accelerator": "none",
   "dataSources": [
    {
     "datasetId": 7943485,
     "sourceId": 12698463,
     "sourceType": "datasetVersion"
    }
   ],
   "isGpuEnabled": false,
   "isInternetEnabled": true,
   "language": "python",
   "sourceType": "notebook"
  },
  "kernelspec": {
   "display_name": ".venv",
   "language": "python",
   "name": "python3"
  },
  "language_info": {
   "codemirror_mode": {
    "name": "ipython",
    "version": 3
   },
   "file_extension": ".py",
   "mimetype": "text/x-python",
   "name": "python",
   "nbconvert_exporter": "python",
   "pygments_lexer": "ipython3",
   "version": "3.13.5"
  },
  "papermill": {
   "default_parameters": {},
   "duration": 33520.404223,
   "end_time": "2025-08-07T18:13:42.596387",
   "environment_variables": {},
   "exception": null,
   "input_path": "__notebook__.ipynb",
   "output_path": "__notebook__.ipynb",
   "parameters": {},
   "start_time": "2025-08-07T08:55:02.192164",
   "version": "2.6.0"
  }
 },
 "nbformat": 4,
 "nbformat_minor": 5
}
