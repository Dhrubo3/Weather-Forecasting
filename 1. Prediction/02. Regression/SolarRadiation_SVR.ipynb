{
 "cells": [
  {
   "cell_type": "markdown",
   "id": "1114c132",
   "metadata": {
    "papermill": {
     "duration": 0.021224,
     "end_time": "2025-08-07T09:56:56.819967",
     "exception": false,
     "start_time": "2025-08-07T09:56:56.798743",
     "status": "completed"
    },
    "tags": []
   },
   "source": [
    "# <font color=\"red\">Solar Radiation Prediction with Support Vector Regressor</font>"
   ]
  },
  {
   "cell_type": "markdown",
   "id": "c641dd51",
   "metadata": {
    "papermill": {
     "duration": 0.017337,
     "end_time": "2025-08-07T09:56:56.855221",
     "exception": false,
     "start_time": "2025-08-07T09:56:56.837884",
     "status": "completed"
    },
    "tags": []
   },
   "source": [
    "# Library Import"
   ]
  },
  {
   "cell_type": "code",
   "execution_count": 1,
   "id": "af3b057e",
   "metadata": {
    "execution": {
     "iopub.execute_input": "2025-08-07T09:56:56.891226Z",
     "iopub.status.busy": "2025-08-07T09:56:56.890870Z",
     "iopub.status.idle": "2025-08-07T09:57:00.355302Z",
     "shell.execute_reply": "2025-08-07T09:57:00.354335Z"
    },
    "papermill": {
     "duration": 3.484262,
     "end_time": "2025-08-07T09:57:00.356856",
     "exception": false,
     "start_time": "2025-08-07T09:56:56.872594",
     "status": "completed"
    },
    "tags": []
   },
   "outputs": [],
   "source": [
    "# Data manipulation and visualization\n",
    "import pandas as pd\n",
    "import math\n",
    "import json\n",
    "\n",
    "# Preprocessing\n",
    "from sklearn.model_selection import StratifiedShuffleSplit, RandomizedSearchCV, GridSearchCV\n",
    "from sklearn.preprocessing import MinMaxScaler, StandardScaler, RobustScaler\n",
    "from sklearn.metrics import r2_score, mean_squared_error, mean_absolute_error\n",
    "from sklearn.svm import SVR\n",
    "\n",
    "import sys\n",
    "#sys.path.append('../../../') # Uncomment this line if running locally\n",
    "sys.path.append('/kaggle/input/weatherdata') # Uncomment this line if running on Kaggle\n",
    "from historyManagement import *\n",
    "\n",
    "# suppress warnings\n",
    "import warnings\n",
    "warnings.filterwarnings(\"ignore\")"
   ]
  },
  {
   "cell_type": "markdown",
   "id": "dada7d47",
   "metadata": {
    "papermill": {
     "duration": 0.017546,
     "end_time": "2025-08-07T09:57:00.392156",
     "exception": false,
     "start_time": "2025-08-07T09:57:00.374610",
     "status": "completed"
    },
    "tags": []
   },
   "source": [
    "# Datasets Import"
   ]
  },
  {
   "cell_type": "code",
   "execution_count": 2,
   "id": "6c941009",
   "metadata": {
    "execution": {
     "iopub.execute_input": "2025-08-07T09:57:00.490163Z",
     "iopub.status.busy": "2025-08-07T09:57:00.489716Z",
     "iopub.status.idle": "2025-08-07T09:57:00.663043Z",
     "shell.execute_reply": "2025-08-07T09:57:00.662187Z"
    },
    "papermill": {
     "duration": 0.193488,
     "end_time": "2025-08-07T09:57:00.664538",
     "exception": false,
     "start_time": "2025-08-07T09:57:00.471050",
     "status": "completed"
    },
    "tags": []
   },
   "outputs": [
    {
     "data": {
      "text/html": [
       "<div>\n",
       "<style scoped>\n",
       "    .dataframe tbody tr th:only-of-type {\n",
       "        vertical-align: middle;\n",
       "    }\n",
       "\n",
       "    .dataframe tbody tr th {\n",
       "        vertical-align: top;\n",
       "    }\n",
       "\n",
       "    .dataframe thead th {\n",
       "        text-align: right;\n",
       "    }\n",
       "</style>\n",
       "<table border=\"1\" class=\"dataframe\">\n",
       "  <thead>\n",
       "    <tr style=\"text-align: right;\">\n",
       "      <th></th>\n",
       "      <th>DateTime</th>\n",
       "      <th>Year</th>\n",
       "      <th>Month</th>\n",
       "      <th>Day</th>\n",
       "      <th>Hour</th>\n",
       "      <th>DaySegments</th>\n",
       "      <th>DaySegments_Afternoon</th>\n",
       "      <th>DaySegments_Early Morning</th>\n",
       "      <th>DaySegments_Evening</th>\n",
       "      <th>DaySegments_Late Night</th>\n",
       "      <th>...</th>\n",
       "      <th>WindDir</th>\n",
       "      <th>SeaLevelPressure</th>\n",
       "      <th>CloudCover</th>\n",
       "      <th>UVIndex</th>\n",
       "      <th>SevereRisk</th>\n",
       "      <th>Visibility</th>\n",
       "      <th>SolarRadiation</th>\n",
       "      <th>SolarEnergy</th>\n",
       "      <th>Conditions</th>\n",
       "      <th>Icon</th>\n",
       "    </tr>\n",
       "  </thead>\n",
       "  <tbody>\n",
       "    <tr>\n",
       "      <th>0</th>\n",
       "      <td>2023-01-01 00:00:00</td>\n",
       "      <td>2023</td>\n",
       "      <td>1</td>\n",
       "      <td>1</td>\n",
       "      <td>0</td>\n",
       "      <td>Late Night</td>\n",
       "      <td>0</td>\n",
       "      <td>0</td>\n",
       "      <td>0</td>\n",
       "      <td>1</td>\n",
       "      <td>...</td>\n",
       "      <td>0.49</td>\n",
       "      <td>1018.68</td>\n",
       "      <td>0.03</td>\n",
       "      <td>0.0</td>\n",
       "      <td>10.0</td>\n",
       "      <td>2.76</td>\n",
       "      <td>0.0</td>\n",
       "      <td>0.0</td>\n",
       "      <td>Clear</td>\n",
       "      <td>clear-night</td>\n",
       "    </tr>\n",
       "    <tr>\n",
       "      <th>1</th>\n",
       "      <td>2023-01-01 01:00:00</td>\n",
       "      <td>2023</td>\n",
       "      <td>1</td>\n",
       "      <td>1</td>\n",
       "      <td>1</td>\n",
       "      <td>Late Night</td>\n",
       "      <td>0</td>\n",
       "      <td>0</td>\n",
       "      <td>0</td>\n",
       "      <td>1</td>\n",
       "      <td>...</td>\n",
       "      <td>0.54</td>\n",
       "      <td>1018.03</td>\n",
       "      <td>0.11</td>\n",
       "      <td>0.0</td>\n",
       "      <td>10.0</td>\n",
       "      <td>1.75</td>\n",
       "      <td>0.0</td>\n",
       "      <td>0.0</td>\n",
       "      <td>Clear</td>\n",
       "      <td>clear-night</td>\n",
       "    </tr>\n",
       "    <tr>\n",
       "      <th>2</th>\n",
       "      <td>2023-01-01 02:00:00</td>\n",
       "      <td>2023</td>\n",
       "      <td>1</td>\n",
       "      <td>1</td>\n",
       "      <td>2</td>\n",
       "      <td>Late Night</td>\n",
       "      <td>0</td>\n",
       "      <td>0</td>\n",
       "      <td>0</td>\n",
       "      <td>1</td>\n",
       "      <td>...</td>\n",
       "      <td>30.51</td>\n",
       "      <td>1017.56</td>\n",
       "      <td>0.03</td>\n",
       "      <td>0.0</td>\n",
       "      <td>10.0</td>\n",
       "      <td>1.75</td>\n",
       "      <td>0.0</td>\n",
       "      <td>0.0</td>\n",
       "      <td>Clear</td>\n",
       "      <td>clear-night</td>\n",
       "    </tr>\n",
       "    <tr>\n",
       "      <th>3</th>\n",
       "      <td>2023-01-01 03:00:00</td>\n",
       "      <td>2023</td>\n",
       "      <td>1</td>\n",
       "      <td>1</td>\n",
       "      <td>3</td>\n",
       "      <td>Late Night</td>\n",
       "      <td>0</td>\n",
       "      <td>0</td>\n",
       "      <td>0</td>\n",
       "      <td>1</td>\n",
       "      <td>...</td>\n",
       "      <td>49.23</td>\n",
       "      <td>1018.05</td>\n",
       "      <td>0.00</td>\n",
       "      <td>0.0</td>\n",
       "      <td>10.0</td>\n",
       "      <td>2.28</td>\n",
       "      <td>0.0</td>\n",
       "      <td>0.0</td>\n",
       "      <td>Clear</td>\n",
       "      <td>clear-night</td>\n",
       "    </tr>\n",
       "    <tr>\n",
       "      <th>4</th>\n",
       "      <td>2023-01-01 04:00:00</td>\n",
       "      <td>2023</td>\n",
       "      <td>1</td>\n",
       "      <td>1</td>\n",
       "      <td>4</td>\n",
       "      <td>Late Night</td>\n",
       "      <td>0</td>\n",
       "      <td>0</td>\n",
       "      <td>0</td>\n",
       "      <td>1</td>\n",
       "      <td>...</td>\n",
       "      <td>49.90</td>\n",
       "      <td>1018.00</td>\n",
       "      <td>86.17</td>\n",
       "      <td>0.0</td>\n",
       "      <td>10.0</td>\n",
       "      <td>1.27</td>\n",
       "      <td>0.0</td>\n",
       "      <td>0.0</td>\n",
       "      <td>Partially cloudy</td>\n",
       "      <td>fog</td>\n",
       "    </tr>\n",
       "  </tbody>\n",
       "</table>\n",
       "<p>5 rows × 36 columns</p>\n",
       "</div>"
      ],
      "text/plain": [
       "             DateTime  Year  Month  Day  Hour DaySegments  \\\n",
       "0 2023-01-01 00:00:00  2023      1    1     0  Late Night   \n",
       "1 2023-01-01 01:00:00  2023      1    1     1  Late Night   \n",
       "2 2023-01-01 02:00:00  2023      1    1     2  Late Night   \n",
       "3 2023-01-01 03:00:00  2023      1    1     3  Late Night   \n",
       "4 2023-01-01 04:00:00  2023      1    1     4  Late Night   \n",
       "\n",
       "   DaySegments_Afternoon  DaySegments_Early Morning  DaySegments_Evening  \\\n",
       "0                      0                          0                    0   \n",
       "1                      0                          0                    0   \n",
       "2                      0                          0                    0   \n",
       "3                      0                          0                    0   \n",
       "4                      0                          0                    0   \n",
       "\n",
       "   DaySegments_Late Night  ...  WindDir  SeaLevelPressure  CloudCover  \\\n",
       "0                       1  ...     0.49           1018.68        0.03   \n",
       "1                       1  ...     0.54           1018.03        0.11   \n",
       "2                       1  ...    30.51           1017.56        0.03   \n",
       "3                       1  ...    49.23           1018.05        0.00   \n",
       "4                       1  ...    49.90           1018.00       86.17   \n",
       "\n",
       "   UVIndex  SevereRisk  Visibility  SolarRadiation SolarEnergy  \\\n",
       "0      0.0        10.0        2.76             0.0         0.0   \n",
       "1      0.0        10.0        1.75             0.0         0.0   \n",
       "2      0.0        10.0        1.75             0.0         0.0   \n",
       "3      0.0        10.0        2.28             0.0         0.0   \n",
       "4      0.0        10.0        1.27             0.0         0.0   \n",
       "\n",
       "         Conditions         Icon  \n",
       "0             Clear  clear-night  \n",
       "1             Clear  clear-night  \n",
       "2             Clear  clear-night  \n",
       "3             Clear  clear-night  \n",
       "4  Partially cloudy          fog  \n",
       "\n",
       "[5 rows x 36 columns]"
      ]
     },
     "execution_count": 2,
     "metadata": {},
     "output_type": "execute_result"
    }
   ],
   "source": [
    "# Load the weather dataset for visibility prediction\n",
    "#weather_data = pd.read_csv('../../../FinalDatasets/finalDataset.csv') # Uncomment this line if running locally\n",
    "weather_data = pd.read_csv('/kaggle/input/weatherdata/finalDataset.csv') # Uncomment this line if running on Kaggle\n",
    "weather_data['DateTime'] = pd.to_datetime(weather_data['DateTime'])\n",
    "weather_data.head()"
   ]
  },
  {
   "cell_type": "code",
   "execution_count": 3,
   "id": "c43744cf",
   "metadata": {
    "execution": {
     "iopub.execute_input": "2025-08-07T09:57:00.702166Z",
     "iopub.status.busy": "2025-08-07T09:57:00.701809Z",
     "iopub.status.idle": "2025-08-07T09:57:00.724812Z",
     "shell.execute_reply": "2025-08-07T09:57:00.723780Z"
    },
    "papermill": {
     "duration": 0.043606,
     "end_time": "2025-08-07T09:57:00.726338",
     "exception": false,
     "start_time": "2025-08-07T09:57:00.682732",
     "status": "completed"
    },
    "tags": []
   },
   "outputs": [
    {
     "name": "stdout",
     "output_type": "stream",
     "text": [
      "<class 'pandas.core.frame.DataFrame'>\n",
      "RangeIndex: 14616 entries, 0 to 14615\n",
      "Data columns (total 36 columns):\n",
      " #   Column                     Non-Null Count  Dtype         \n",
      "---  ------                     --------------  -----         \n",
      " 0   DateTime                   14616 non-null  datetime64[ns]\n",
      " 1   Year                       14616 non-null  int64         \n",
      " 2   Month                      14616 non-null  int64         \n",
      " 3   Day                        14616 non-null  int64         \n",
      " 4   Hour                       14616 non-null  int64         \n",
      " 5   DaySegments                14616 non-null  object        \n",
      " 6   DaySegments_Afternoon      14616 non-null  int64         \n",
      " 7   DaySegments_Early Morning  14616 non-null  int64         \n",
      " 8   DaySegments_Evening        14616 non-null  int64         \n",
      " 9   DaySegments_Late Night     14616 non-null  int64         \n",
      " 10  DaySegments_Midday         14616 non-null  int64         \n",
      " 11  DaySegments_Morning        14616 non-null  int64         \n",
      " 12  DaySegments_Night          14616 non-null  int64         \n",
      " 13  Season_Autumn              14616 non-null  int64         \n",
      " 14  Season_Rainy               14616 non-null  int64         \n",
      " 15  Season_Summer              14616 non-null  int64         \n",
      " 16  Season_Winter              14616 non-null  int64         \n",
      " 17  Season                     14616 non-null  object        \n",
      " 18  Temp                       14616 non-null  float64       \n",
      " 19  FeelsLike                  14616 non-null  float64       \n",
      " 20  Dew                        14616 non-null  float64       \n",
      " 21  Humidity                   14616 non-null  float64       \n",
      " 22  Precip                     14616 non-null  float64       \n",
      " 23  PrecipProb                 14616 non-null  float64       \n",
      " 24  Windgust                   14616 non-null  float64       \n",
      " 25  WindSpeed                  14616 non-null  float64       \n",
      " 26  WindDir                    14616 non-null  float64       \n",
      " 27  SeaLevelPressure           14616 non-null  float64       \n",
      " 28  CloudCover                 14616 non-null  float64       \n",
      " 29  UVIndex                    14616 non-null  float64       \n",
      " 30  SevereRisk                 14616 non-null  float64       \n",
      " 31  Visibility                 14616 non-null  float64       \n",
      " 32  SolarRadiation             14616 non-null  float64       \n",
      " 33  SolarEnergy                14616 non-null  float64       \n",
      " 34  Conditions                 14616 non-null  object        \n",
      " 35  Icon                       14616 non-null  object        \n",
      "dtypes: datetime64[ns](1), float64(16), int64(15), object(4)\n",
      "memory usage: 4.0+ MB\n"
     ]
    }
   ],
   "source": [
    "weather_data.info()"
   ]
  },
  {
   "cell_type": "code",
   "execution_count": 4,
   "id": "7a1cadfd",
   "metadata": {
    "execution": {
     "iopub.execute_input": "2025-08-07T09:57:00.764624Z",
     "iopub.status.busy": "2025-08-07T09:57:00.764284Z",
     "iopub.status.idle": "2025-08-07T09:57:00.843036Z",
     "shell.execute_reply": "2025-08-07T09:57:00.842303Z"
    },
    "papermill": {
     "duration": 0.099419,
     "end_time": "2025-08-07T09:57:00.844569",
     "exception": false,
     "start_time": "2025-08-07T09:57:00.745150",
     "status": "completed"
    },
    "tags": []
   },
   "outputs": [
    {
     "data": {
      "text/html": [
       "<div>\n",
       "<style scoped>\n",
       "    .dataframe tbody tr th:only-of-type {\n",
       "        vertical-align: middle;\n",
       "    }\n",
       "\n",
       "    .dataframe tbody tr th {\n",
       "        vertical-align: top;\n",
       "    }\n",
       "\n",
       "    .dataframe thead th {\n",
       "        text-align: right;\n",
       "    }\n",
       "</style>\n",
       "<table border=\"1\" class=\"dataframe\">\n",
       "  <thead>\n",
       "    <tr style=\"text-align: right;\">\n",
       "      <th></th>\n",
       "      <th>DateTime</th>\n",
       "      <th>Year</th>\n",
       "      <th>Month</th>\n",
       "      <th>Day</th>\n",
       "      <th>Hour</th>\n",
       "      <th>DaySegments_Afternoon</th>\n",
       "      <th>DaySegments_Early Morning</th>\n",
       "      <th>DaySegments_Evening</th>\n",
       "      <th>DaySegments_Late Night</th>\n",
       "      <th>DaySegments_Midday</th>\n",
       "      <th>...</th>\n",
       "      <th>Windgust</th>\n",
       "      <th>WindSpeed</th>\n",
       "      <th>WindDir</th>\n",
       "      <th>SeaLevelPressure</th>\n",
       "      <th>CloudCover</th>\n",
       "      <th>UVIndex</th>\n",
       "      <th>SevereRisk</th>\n",
       "      <th>Visibility</th>\n",
       "      <th>SolarRadiation</th>\n",
       "      <th>SolarEnergy</th>\n",
       "    </tr>\n",
       "  </thead>\n",
       "  <tbody>\n",
       "    <tr>\n",
       "      <th>count</th>\n",
       "      <td>14616</td>\n",
       "      <td>14616.000000</td>\n",
       "      <td>14616.000000</td>\n",
       "      <td>14616.000000</td>\n",
       "      <td>14616.000000</td>\n",
       "      <td>14616.000000</td>\n",
       "      <td>14616.000000</td>\n",
       "      <td>14616.000000</td>\n",
       "      <td>14616.000000</td>\n",
       "      <td>14616.000000</td>\n",
       "      <td>...</td>\n",
       "      <td>14616.000000</td>\n",
       "      <td>14616.000000</td>\n",
       "      <td>14616.000000</td>\n",
       "      <td>14616.000000</td>\n",
       "      <td>14616.000000</td>\n",
       "      <td>14616.000000</td>\n",
       "      <td>14616.000000</td>\n",
       "      <td>14616.000000</td>\n",
       "      <td>14616.000000</td>\n",
       "      <td>14616.000000</td>\n",
       "    </tr>\n",
       "    <tr>\n",
       "      <th>mean</th>\n",
       "      <td>2023-11-01 11:30:00</td>\n",
       "      <td>2023.400657</td>\n",
       "      <td>5.720854</td>\n",
       "      <td>15.735632</td>\n",
       "      <td>11.500000</td>\n",
       "      <td>0.131294</td>\n",
       "      <td>0.060550</td>\n",
       "      <td>0.098043</td>\n",
       "      <td>0.249726</td>\n",
       "      <td>0.116585</td>\n",
       "      <td>...</td>\n",
       "      <td>17.068560</td>\n",
       "      <td>8.090783</td>\n",
       "      <td>159.739178</td>\n",
       "      <td>1008.265012</td>\n",
       "      <td>53.579923</td>\n",
       "      <td>2.263555</td>\n",
       "      <td>16.504787</td>\n",
       "      <td>4.368134</td>\n",
       "      <td>227.640683</td>\n",
       "      <td>0.819217</td>\n",
       "    </tr>\n",
       "    <tr>\n",
       "      <th>min</th>\n",
       "      <td>2023-01-01 00:00:00</td>\n",
       "      <td>2023.000000</td>\n",
       "      <td>1.000000</td>\n",
       "      <td>1.000000</td>\n",
       "      <td>0.000000</td>\n",
       "      <td>0.000000</td>\n",
       "      <td>0.000000</td>\n",
       "      <td>0.000000</td>\n",
       "      <td>0.000000</td>\n",
       "      <td>0.000000</td>\n",
       "      <td>...</td>\n",
       "      <td>0.660000</td>\n",
       "      <td>0.000000</td>\n",
       "      <td>0.000000</td>\n",
       "      <td>982.420000</td>\n",
       "      <td>0.000000</td>\n",
       "      <td>0.000000</td>\n",
       "      <td>3.000000</td>\n",
       "      <td>0.000000</td>\n",
       "      <td>0.000000</td>\n",
       "      <td>0.000000</td>\n",
       "    </tr>\n",
       "    <tr>\n",
       "      <th>25%</th>\n",
       "      <td>2023-06-02 05:45:00</td>\n",
       "      <td>2023.000000</td>\n",
       "      <td>3.000000</td>\n",
       "      <td>8.000000</td>\n",
       "      <td>5.750000</td>\n",
       "      <td>0.000000</td>\n",
       "      <td>0.000000</td>\n",
       "      <td>0.000000</td>\n",
       "      <td>0.000000</td>\n",
       "      <td>0.000000</td>\n",
       "      <td>...</td>\n",
       "      <td>9.170000</td>\n",
       "      <td>2.870000</td>\n",
       "      <td>80.965000</td>\n",
       "      <td>1003.277500</td>\n",
       "      <td>26.670000</td>\n",
       "      <td>0.000000</td>\n",
       "      <td>10.000000</td>\n",
       "      <td>3.990000</td>\n",
       "      <td>0.000000</td>\n",
       "      <td>0.000000</td>\n",
       "    </tr>\n",
       "    <tr>\n",
       "      <th>50%</th>\n",
       "      <td>2023-11-01 11:30:00</td>\n",
       "      <td>2023.000000</td>\n",
       "      <td>6.000000</td>\n",
       "      <td>16.000000</td>\n",
       "      <td>11.500000</td>\n",
       "      <td>0.000000</td>\n",
       "      <td>0.000000</td>\n",
       "      <td>0.000000</td>\n",
       "      <td>0.000000</td>\n",
       "      <td>0.000000</td>\n",
       "      <td>...</td>\n",
       "      <td>14.645000</td>\n",
       "      <td>7.670000</td>\n",
       "      <td>163.790000</td>\n",
       "      <td>1007.970000</td>\n",
       "      <td>51.540000</td>\n",
       "      <td>0.000000</td>\n",
       "      <td>10.000000</td>\n",
       "      <td>4.650000</td>\n",
       "      <td>10.665000</td>\n",
       "      <td>0.010000</td>\n",
       "    </tr>\n",
       "    <tr>\n",
       "      <th>75%</th>\n",
       "      <td>2024-04-01 17:15:00</td>\n",
       "      <td>2024.000000</td>\n",
       "      <td>8.000000</td>\n",
       "      <td>23.000000</td>\n",
       "      <td>17.250000</td>\n",
       "      <td>0.000000</td>\n",
       "      <td>0.000000</td>\n",
       "      <td>0.000000</td>\n",
       "      <td>0.000000</td>\n",
       "      <td>0.000000</td>\n",
       "      <td>...</td>\n",
       "      <td>23.410000</td>\n",
       "      <td>11.750000</td>\n",
       "      <td>241.402500</td>\n",
       "      <td>1013.400000</td>\n",
       "      <td>87.790000</td>\n",
       "      <td>4.740000</td>\n",
       "      <td>12.580000</td>\n",
       "      <td>4.650000</td>\n",
       "      <td>459.745000</td>\n",
       "      <td>1.660000</td>\n",
       "    </tr>\n",
       "    <tr>\n",
       "      <th>max</th>\n",
       "      <td>2024-08-31 23:00:00</td>\n",
       "      <td>2024.000000</td>\n",
       "      <td>12.000000</td>\n",
       "      <td>31.000000</td>\n",
       "      <td>23.000000</td>\n",
       "      <td>1.000000</td>\n",
       "      <td>1.000000</td>\n",
       "      <td>1.000000</td>\n",
       "      <td>1.000000</td>\n",
       "      <td>1.000000</td>\n",
       "      <td>...</td>\n",
       "      <td>84.120000</td>\n",
       "      <td>71.970000</td>\n",
       "      <td>360.000000</td>\n",
       "      <td>1022.060000</td>\n",
       "      <td>100.000000</td>\n",
       "      <td>10.000000</td>\n",
       "      <td>97.740000</td>\n",
       "      <td>24.100000</td>\n",
       "      <td>1026.650000</td>\n",
       "      <td>3.700000</td>\n",
       "    </tr>\n",
       "    <tr>\n",
       "      <th>std</th>\n",
       "      <td>NaN</td>\n",
       "      <td>0.490048</td>\n",
       "      <td>3.195073</td>\n",
       "      <td>8.803610</td>\n",
       "      <td>6.922423</td>\n",
       "      <td>0.337734</td>\n",
       "      <td>0.238511</td>\n",
       "      <td>0.297383</td>\n",
       "      <td>0.432869</td>\n",
       "      <td>0.320936</td>\n",
       "      <td>...</td>\n",
       "      <td>10.195911</td>\n",
       "      <td>6.250203</td>\n",
       "      <td>104.422027</td>\n",
       "      <td>6.010683</td>\n",
       "      <td>35.166637</td>\n",
       "      <td>3.083074</td>\n",
       "      <td>15.031827</td>\n",
       "      <td>1.376994</td>\n",
       "      <td>307.219387</td>\n",
       "      <td>1.106444</td>\n",
       "    </tr>\n",
       "  </tbody>\n",
       "</table>\n",
       "<p>8 rows × 32 columns</p>\n",
       "</div>"
      ],
      "text/plain": [
       "                  DateTime          Year         Month           Day  \\\n",
       "count                14616  14616.000000  14616.000000  14616.000000   \n",
       "mean   2023-11-01 11:30:00   2023.400657      5.720854     15.735632   \n",
       "min    2023-01-01 00:00:00   2023.000000      1.000000      1.000000   \n",
       "25%    2023-06-02 05:45:00   2023.000000      3.000000      8.000000   \n",
       "50%    2023-11-01 11:30:00   2023.000000      6.000000     16.000000   \n",
       "75%    2024-04-01 17:15:00   2024.000000      8.000000     23.000000   \n",
       "max    2024-08-31 23:00:00   2024.000000     12.000000     31.000000   \n",
       "std                    NaN      0.490048      3.195073      8.803610   \n",
       "\n",
       "               Hour  DaySegments_Afternoon  DaySegments_Early Morning  \\\n",
       "count  14616.000000           14616.000000               14616.000000   \n",
       "mean      11.500000               0.131294                   0.060550   \n",
       "min        0.000000               0.000000                   0.000000   \n",
       "25%        5.750000               0.000000                   0.000000   \n",
       "50%       11.500000               0.000000                   0.000000   \n",
       "75%       17.250000               0.000000                   0.000000   \n",
       "max       23.000000               1.000000                   1.000000   \n",
       "std        6.922423               0.337734                   0.238511   \n",
       "\n",
       "       DaySegments_Evening  DaySegments_Late Night  DaySegments_Midday  ...  \\\n",
       "count         14616.000000            14616.000000        14616.000000  ...   \n",
       "mean              0.098043                0.249726            0.116585  ...   \n",
       "min               0.000000                0.000000            0.000000  ...   \n",
       "25%               0.000000                0.000000            0.000000  ...   \n",
       "50%               0.000000                0.000000            0.000000  ...   \n",
       "75%               0.000000                0.000000            0.000000  ...   \n",
       "max               1.000000                1.000000            1.000000  ...   \n",
       "std               0.297383                0.432869            0.320936  ...   \n",
       "\n",
       "           Windgust     WindSpeed       WindDir  SeaLevelPressure  \\\n",
       "count  14616.000000  14616.000000  14616.000000      14616.000000   \n",
       "mean      17.068560      8.090783    159.739178       1008.265012   \n",
       "min        0.660000      0.000000      0.000000        982.420000   \n",
       "25%        9.170000      2.870000     80.965000       1003.277500   \n",
       "50%       14.645000      7.670000    163.790000       1007.970000   \n",
       "75%       23.410000     11.750000    241.402500       1013.400000   \n",
       "max       84.120000     71.970000    360.000000       1022.060000   \n",
       "std       10.195911      6.250203    104.422027          6.010683   \n",
       "\n",
       "         CloudCover       UVIndex    SevereRisk    Visibility  SolarRadiation  \\\n",
       "count  14616.000000  14616.000000  14616.000000  14616.000000    14616.000000   \n",
       "mean      53.579923      2.263555     16.504787      4.368134      227.640683   \n",
       "min        0.000000      0.000000      3.000000      0.000000        0.000000   \n",
       "25%       26.670000      0.000000     10.000000      3.990000        0.000000   \n",
       "50%       51.540000      0.000000     10.000000      4.650000       10.665000   \n",
       "75%       87.790000      4.740000     12.580000      4.650000      459.745000   \n",
       "max      100.000000     10.000000     97.740000     24.100000     1026.650000   \n",
       "std       35.166637      3.083074     15.031827      1.376994      307.219387   \n",
       "\n",
       "        SolarEnergy  \n",
       "count  14616.000000  \n",
       "mean       0.819217  \n",
       "min        0.000000  \n",
       "25%        0.000000  \n",
       "50%        0.010000  \n",
       "75%        1.660000  \n",
       "max        3.700000  \n",
       "std        1.106444  \n",
       "\n",
       "[8 rows x 32 columns]"
      ]
     },
     "execution_count": 4,
     "metadata": {},
     "output_type": "execute_result"
    }
   ],
   "source": [
    "weather_data.describe()"
   ]
  },
  {
   "cell_type": "markdown",
   "id": "b251bd95",
   "metadata": {
    "papermill": {
     "duration": 0.018273,
     "end_time": "2025-08-07T09:57:00.881698",
     "exception": false,
     "start_time": "2025-08-07T09:57:00.863425",
     "status": "completed"
    },
    "tags": []
   },
   "source": [
    "# Data Split"
   ]
  },
  {
   "cell_type": "code",
   "execution_count": 5,
   "id": "6e9bd163",
   "metadata": {
    "execution": {
     "iopub.execute_input": "2025-08-07T09:57:00.919644Z",
     "iopub.status.busy": "2025-08-07T09:57:00.919331Z",
     "iopub.status.idle": "2025-08-07T09:57:00.940185Z",
     "shell.execute_reply": "2025-08-07T09:57:00.939338Z"
    },
    "papermill": {
     "duration": 0.04168,
     "end_time": "2025-08-07T09:57:00.941715",
     "exception": false,
     "start_time": "2025-08-07T09:57:00.900035",
     "status": "completed"
    },
    "tags": []
   },
   "outputs": [],
   "source": [
    "sss = StratifiedShuffleSplit(n_splits=1, test_size=0.20, random_state=42)\n",
    "for train_idx, test_idx in sss.split(weather_data, weather_data['DaySegments']):\n",
    "    weather_data_train = weather_data.iloc[train_idx]\n",
    "    weather_data_test = weather_data.iloc[test_idx]"
   ]
  },
  {
   "cell_type": "code",
   "execution_count": 6,
   "id": "58719901",
   "metadata": {
    "execution": {
     "iopub.execute_input": "2025-08-07T09:57:00.979995Z",
     "iopub.status.busy": "2025-08-07T09:57:00.979706Z",
     "iopub.status.idle": "2025-08-07T09:57:00.988701Z",
     "shell.execute_reply": "2025-08-07T09:57:00.987849Z"
    },
    "papermill": {
     "duration": 0.029837,
     "end_time": "2025-08-07T09:57:00.990116",
     "exception": false,
     "start_time": "2025-08-07T09:57:00.960279",
     "status": "completed"
    },
    "tags": []
   },
   "outputs": [
    {
     "name": "stdout",
     "output_type": "stream",
     "text": [
      "Distribution of data based on DaySegments:\n",
      "     DaySegments  Count\n",
      "0     Late Night   3650\n",
      "1        Morning   3504\n",
      "2      Afternoon   1919\n",
      "3         Midday   1704\n",
      "4          Night   1521\n",
      "5        Evening   1433\n",
      "6  Early Morning    885\n"
     ]
    }
   ],
   "source": [
    "# Show the count of each unique class in DaySegments\n",
    "class_counts = weather_data['DaySegments'].value_counts().reset_index()\n",
    "class_counts.columns = ['DaySegments', 'Count']\n",
    "\n",
    "print(\"Distribution of data based on DaySegments:\")\n",
    "print(class_counts)"
   ]
  },
  {
   "cell_type": "code",
   "execution_count": 7,
   "id": "6be03382",
   "metadata": {
    "execution": {
     "iopub.execute_input": "2025-08-07T09:57:01.030763Z",
     "iopub.status.busy": "2025-08-07T09:57:01.029910Z",
     "iopub.status.idle": "2025-08-07T09:57:01.039073Z",
     "shell.execute_reply": "2025-08-07T09:57:01.038139Z"
    },
    "papermill": {
     "duration": 0.030928,
     "end_time": "2025-08-07T09:57:01.040623",
     "exception": false,
     "start_time": "2025-08-07T09:57:01.009695",
     "status": "completed"
    },
    "tags": []
   },
   "outputs": [
    {
     "name": "stdout",
     "output_type": "stream",
     "text": [
      "Distribution of DaySegments in Training Set:\n",
      "DaySegments\n",
      "Late Night       2920\n",
      "Morning          2803\n",
      "Afternoon        1535\n",
      "Midday           1363\n",
      "Night            1217\n",
      "Evening          1146\n",
      "Early Morning     708\n",
      "Name: count, dtype: int64\n",
      "\n",
      "Distribution of DaySegments in Test Set:\n",
      "DaySegments\n",
      "Late Night       730\n",
      "Morning          701\n",
      "Afternoon        384\n",
      "Midday           341\n",
      "Night            304\n",
      "Evening          287\n",
      "Early Morning    177\n",
      "Name: count, dtype: int64\n"
     ]
    }
   ],
   "source": [
    "print(\"Distribution of DaySegments in Training Set:\")\n",
    "print(weather_data_train['DaySegments'].value_counts())\n",
    "\n",
    "print(\"\\nDistribution of DaySegments in Test Set:\")\n",
    "print(weather_data_test['DaySegments'].value_counts())"
   ]
  },
  {
   "cell_type": "markdown",
   "id": "85756fbe",
   "metadata": {
    "papermill": {
     "duration": 0.018567,
     "end_time": "2025-08-07T09:57:01.078389",
     "exception": false,
     "start_time": "2025-08-07T09:57:01.059822",
     "status": "completed"
    },
    "tags": []
   },
   "source": [
    "# Some Reused Parameters"
   ]
  },
  {
   "cell_type": "code",
   "execution_count": 8,
   "id": "0fb3a245",
   "metadata": {
    "execution": {
     "iopub.execute_input": "2025-08-07T09:57:01.116859Z",
     "iopub.status.busy": "2025-08-07T09:57:01.116548Z",
     "iopub.status.idle": "2025-08-07T09:57:01.121612Z",
     "shell.execute_reply": "2025-08-07T09:57:01.120693Z"
    },
    "papermill": {
     "duration": 0.02602,
     "end_time": "2025-08-07T09:57:01.123078",
     "exception": false,
     "start_time": "2025-08-07T09:57:01.097058",
     "status": "completed"
    },
    "tags": []
   },
   "outputs": [],
   "source": [
    "grid_param = {\n",
    "    'C': [0.1, 1, 10, 100],\n",
    "    'gamma': ['scale', 'auto', 0.001, 0.01, 0.1],\n",
    "    'kernel': ['linear', 'rbf', 'sigmoid'],\n",
    "    'epsilon': [0.1, 0.2],\n",
    "    'coef0': [0.0, 0.1, 1.0],\n",
    "    'shrinking': [True],\n",
    "    'tol': [1e-3, 1e-4]\n",
    "}"
   ]
  },
  {
   "cell_type": "code",
   "execution_count": 9,
   "id": "b6290e3e",
   "metadata": {
    "execution": {
     "iopub.execute_input": "2025-08-07T09:57:01.162264Z",
     "iopub.status.busy": "2025-08-07T09:57:01.161621Z",
     "iopub.status.idle": "2025-08-07T09:57:01.165946Z",
     "shell.execute_reply": "2025-08-07T09:57:01.165033Z"
    },
    "papermill": {
     "duration": 0.025479,
     "end_time": "2025-08-07T09:57:01.167395",
     "exception": false,
     "start_time": "2025-08-07T09:57:01.141916",
     "status": "completed"
    },
    "tags": []
   },
   "outputs": [],
   "source": [
    "number_of_model_for_randomized_grid = 130\n",
    "model_name_for_saving = \"SVR\"\n",
    "target_name_for_saving = \"SolarRadiation\""
   ]
  },
  {
   "cell_type": "markdown",
   "id": "ff399e93",
   "metadata": {
    "papermill": {
     "duration": 0.018375,
     "end_time": "2025-08-07T09:57:01.204573",
     "exception": false,
     "start_time": "2025-08-07T09:57:01.186198",
     "status": "completed"
    },
    "tags": []
   },
   "source": [
    "# All Features"
   ]
  },
  {
   "cell_type": "code",
   "execution_count": 10,
   "id": "948ec063",
   "metadata": {
    "execution": {
     "iopub.execute_input": "2025-08-07T09:57:01.243246Z",
     "iopub.status.busy": "2025-08-07T09:57:01.242834Z",
     "iopub.status.idle": "2025-08-07T09:57:01.249334Z",
     "shell.execute_reply": "2025-08-07T09:57:01.248512Z"
    },
    "papermill": {
     "duration": 0.027653,
     "end_time": "2025-08-07T09:57:01.250884",
     "exception": false,
     "start_time": "2025-08-07T09:57:01.223231",
     "status": "completed"
    },
    "tags": []
   },
   "outputs": [],
   "source": [
    "X_train_raw = weather_data_train.drop(columns=['DateTime', # Model cannot use DateTime as a feature\n",
    "                                                'Year', # No Effect on weather data\n",
    "                                                'Season', # Season is categorical, not numerical\n",
    "                                                'DaySegments', # DaySegments is categorical, not numerical\n",
    "                                                'Visibility',  # Target variable\n",
    "                                                'SolarRadiation', # Target variable\n",
    "                                                'SolarEnergy', # Target variable\n",
    "                                                'Conditions', # Target variable\n",
    "                                                'Icon']) # Target variable\n",
    "y_train = weather_data_train['SolarRadiation']"
   ]
  },
  {
   "cell_type": "code",
   "execution_count": 11,
   "id": "99aadb53",
   "metadata": {
    "execution": {
     "iopub.execute_input": "2025-08-07T09:57:01.290387Z",
     "iopub.status.busy": "2025-08-07T09:57:01.289656Z",
     "iopub.status.idle": "2025-08-07T09:57:01.295338Z",
     "shell.execute_reply": "2025-08-07T09:57:01.294558Z"
    },
    "papermill": {
     "duration": 0.026765,
     "end_time": "2025-08-07T09:57:01.296771",
     "exception": false,
     "start_time": "2025-08-07T09:57:01.270006",
     "status": "completed"
    },
    "tags": []
   },
   "outputs": [],
   "source": [
    "X_test_raw = weather_data_test.drop(columns=['DateTime', # Model cannot use DateTime as a feature\n",
    "                                                'Year', # No Effect on weather data\n",
    "                                                'Season', # Season is categorical, not numerical\n",
    "                                                'DaySegments', # DaySegments is categorical, not numerical\n",
    "                                                'Visibility',  # Target variable\n",
    "                                                'SolarRadiation', # Target variable\n",
    "                                                'SolarEnergy', # Target variable\n",
    "                                                'Conditions', # Target variable\n",
    "                                                'Icon']) # Target variable\n",
    "y_test = weather_data_test['SolarRadiation']"
   ]
  },
  {
   "cell_type": "code",
   "execution_count": 12,
   "id": "9fae32e6",
   "metadata": {
    "execution": {
     "iopub.execute_input": "2025-08-07T09:57:01.335521Z",
     "iopub.status.busy": "2025-08-07T09:57:01.335235Z",
     "iopub.status.idle": "2025-08-07T09:57:01.339642Z",
     "shell.execute_reply": "2025-08-07T09:57:01.338679Z"
    },
    "papermill": {
     "duration": 0.025382,
     "end_time": "2025-08-07T09:57:01.341106",
     "exception": false,
     "start_time": "2025-08-07T09:57:01.315724",
     "status": "completed"
    },
    "tags": []
   },
   "outputs": [],
   "source": [
    "feature_columns = [col for col in X_train_raw.columns]\n",
    "feature_columns_for_saving = ','.join(feature_columns)"
   ]
  },
  {
   "cell_type": "code",
   "execution_count": 13,
   "id": "ff295fb6",
   "metadata": {
    "execution": {
     "iopub.execute_input": "2025-08-07T09:57:01.380979Z",
     "iopub.status.busy": "2025-08-07T09:57:01.380690Z",
     "iopub.status.idle": "2025-08-07T09:57:01.386027Z",
     "shell.execute_reply": "2025-08-07T09:57:01.385199Z"
    },
    "papermill": {
     "duration": 0.026567,
     "end_time": "2025-08-07T09:57:01.387546",
     "exception": false,
     "start_time": "2025-08-07T09:57:01.360979",
     "status": "completed"
    },
    "tags": []
   },
   "outputs": [
    {
     "name": "stdout",
     "output_type": "stream",
     "text": [
      "X_train:  11692\n",
      "y_train:  11692\n",
      "\n",
      "X_test:  2924\n",
      "y_test:  2924\n"
     ]
    }
   ],
   "source": [
    "print(\"X_train: \", len(X_train_raw))\n",
    "print(\"y_train: \", len(y_train))\n",
    "print(\"\\nX_test: \", len(X_test_raw))\n",
    "print(\"y_test: \", len(y_test))"
   ]
  },
  {
   "cell_type": "markdown",
   "id": "2dd39c18",
   "metadata": {
    "papermill": {
     "duration": 0.018379,
     "end_time": "2025-08-07T09:57:01.424950",
     "exception": false,
     "start_time": "2025-08-07T09:57:01.406571",
     "status": "completed"
    },
    "tags": []
   },
   "source": [
    "## MinMax Scaler"
   ]
  },
  {
   "cell_type": "code",
   "execution_count": 14,
   "id": "5fcf4b14",
   "metadata": {
    "execution": {
     "iopub.execute_input": "2025-08-07T09:57:01.463744Z",
     "iopub.status.busy": "2025-08-07T09:57:01.462900Z",
     "iopub.status.idle": "2025-08-07T09:57:01.503276Z",
     "shell.execute_reply": "2025-08-07T09:57:01.502486Z"
    },
    "papermill": {
     "duration": 0.061355,
     "end_time": "2025-08-07T09:57:01.504843",
     "exception": false,
     "start_time": "2025-08-07T09:57:01.443488",
     "status": "completed"
    },
    "tags": []
   },
   "outputs": [],
   "source": [
    "scaler = MinMaxScaler()\n",
    "X_train = scaler.fit_transform(X_train_raw)\n",
    "X_test = scaler.transform(X_test_raw)"
   ]
  },
  {
   "cell_type": "code",
   "execution_count": 15,
   "id": "1bd778e3",
   "metadata": {
    "execution": {
     "iopub.execute_input": "2025-08-07T09:57:01.546429Z",
     "iopub.status.busy": "2025-08-07T09:57:01.546087Z",
     "iopub.status.idle": "2025-08-07T09:57:01.552399Z",
     "shell.execute_reply": "2025-08-07T09:57:01.551658Z"
    },
    "papermill": {
     "duration": 0.028367,
     "end_time": "2025-08-07T09:57:01.553757",
     "exception": false,
     "start_time": "2025-08-07T09:57:01.525390",
     "status": "completed"
    },
    "tags": []
   },
   "outputs": [
    {
     "data": {
      "text/plain": [
       "array([[0.72727273, 0.83333333, 0.43478261, ..., 0.4922    , 0.697     ,\n",
       "        0.31560059],\n",
       "       [0.90909091, 0.26666667, 0.69565217, ..., 0.        , 0.303     ,\n",
       "        0.07388643],\n",
       "       [0.09090909, 0.43333333, 0.        , ..., 0.        , 0.        ,\n",
       "        0.07388643],\n",
       "       ...,\n",
       "       [0.63636364, 0.86666667, 0.43478261, ..., 0.8756    , 0.306     ,\n",
       "        0.09436352],\n",
       "       [0.        , 0.4       , 0.91304348, ..., 0.        , 0.        ,\n",
       "        0.07388643],\n",
       "       [0.72727273, 0.26666667, 0.34782609, ..., 0.8925    , 0.29      ,\n",
       "        0.27812962]])"
      ]
     },
     "execution_count": 15,
     "metadata": {},
     "output_type": "execute_result"
    }
   ],
   "source": [
    "X_train"
   ]
  },
  {
   "cell_type": "code",
   "execution_count": 16,
   "id": "29f858ec",
   "metadata": {
    "execution": {
     "iopub.execute_input": "2025-08-07T09:57:01.593421Z",
     "iopub.status.busy": "2025-08-07T09:57:01.592727Z",
     "iopub.status.idle": "2025-08-07T09:57:01.598507Z",
     "shell.execute_reply": "2025-08-07T09:57:01.597737Z"
    },
    "papermill": {
     "duration": 0.026875,
     "end_time": "2025-08-07T09:57:01.599797",
     "exception": false,
     "start_time": "2025-08-07T09:57:01.572922",
     "status": "completed"
    },
    "tags": []
   },
   "outputs": [
    {
     "data": {
      "text/plain": [
       "array([[0.63636364, 0.06666667, 0.95652174, ..., 0.894     , 0.        ,\n",
       "        0.07388643],\n",
       "       [0.45454545, 0.26666667, 0.65217391, ..., 0.9677    , 0.074     ,\n",
       "        0.07388643],\n",
       "       [0.63636364, 0.03333333, 0.2173913 , ..., 0.9935    , 0.        ,\n",
       "        0.07388643],\n",
       "       ...,\n",
       "       [0.09090909, 0.2       , 0.73913043, ..., 0.0013    , 0.203     ,\n",
       "        0.07388643],\n",
       "       [0.27272727, 0.13333333, 0.86956522, ..., 0.        , 0.        ,\n",
       "        0.25575259],\n",
       "       [0.45454545, 0.73333333, 0.95652174, ..., 0.5161    , 0.        ,\n",
       "        0.07388643]])"
      ]
     },
     "execution_count": 16,
     "metadata": {},
     "output_type": "execute_result"
    }
   ],
   "source": [
    "X_test"
   ]
  },
  {
   "cell_type": "markdown",
   "id": "e3f49a43",
   "metadata": {
    "papermill": {
     "duration": 0.018622,
     "end_time": "2025-08-07T09:57:01.637615",
     "exception": false,
     "start_time": "2025-08-07T09:57:01.618993",
     "status": "completed"
    },
    "tags": []
   },
   "source": [
    "### Default Parameters"
   ]
  },
  {
   "cell_type": "code",
   "execution_count": 17,
   "id": "3ac4a43b",
   "metadata": {
    "execution": {
     "iopub.execute_input": "2025-08-07T09:57:01.676527Z",
     "iopub.status.busy": "2025-08-07T09:57:01.676221Z",
     "iopub.status.idle": "2025-08-07T09:57:01.686921Z",
     "shell.execute_reply": "2025-08-07T09:57:01.686010Z"
    },
    "papermill": {
     "duration": 0.031855,
     "end_time": "2025-08-07T09:57:01.688415",
     "exception": false,
     "start_time": "2025-08-07T09:57:01.656560",
     "status": "completed"
    },
    "tags": []
   },
   "outputs": [
    {
     "data": {
      "text/html": [
       "<style>#sk-container-id-1 {color: black;background-color: white;}#sk-container-id-1 pre{padding: 0;}#sk-container-id-1 div.sk-toggleable {background-color: white;}#sk-container-id-1 label.sk-toggleable__label {cursor: pointer;display: block;width: 100%;margin-bottom: 0;padding: 0.3em;box-sizing: border-box;text-align: center;}#sk-container-id-1 label.sk-toggleable__label-arrow:before {content: \"▸\";float: left;margin-right: 0.25em;color: #696969;}#sk-container-id-1 label.sk-toggleable__label-arrow:hover:before {color: black;}#sk-container-id-1 div.sk-estimator:hover label.sk-toggleable__label-arrow:before {color: black;}#sk-container-id-1 div.sk-toggleable__content {max-height: 0;max-width: 0;overflow: hidden;text-align: left;background-color: #f0f8ff;}#sk-container-id-1 div.sk-toggleable__content pre {margin: 0.2em;color: black;border-radius: 0.25em;background-color: #f0f8ff;}#sk-container-id-1 input.sk-toggleable__control:checked~div.sk-toggleable__content {max-height: 200px;max-width: 100%;overflow: auto;}#sk-container-id-1 input.sk-toggleable__control:checked~label.sk-toggleable__label-arrow:before {content: \"▾\";}#sk-container-id-1 div.sk-estimator input.sk-toggleable__control:checked~label.sk-toggleable__label {background-color: #d4ebff;}#sk-container-id-1 div.sk-label input.sk-toggleable__control:checked~label.sk-toggleable__label {background-color: #d4ebff;}#sk-container-id-1 input.sk-hidden--visually {border: 0;clip: rect(1px 1px 1px 1px);clip: rect(1px, 1px, 1px, 1px);height: 1px;margin: -1px;overflow: hidden;padding: 0;position: absolute;width: 1px;}#sk-container-id-1 div.sk-estimator {font-family: monospace;background-color: #f0f8ff;border: 1px dotted black;border-radius: 0.25em;box-sizing: border-box;margin-bottom: 0.5em;}#sk-container-id-1 div.sk-estimator:hover {background-color: #d4ebff;}#sk-container-id-1 div.sk-parallel-item::after {content: \"\";width: 100%;border-bottom: 1px solid gray;flex-grow: 1;}#sk-container-id-1 div.sk-label:hover label.sk-toggleable__label {background-color: #d4ebff;}#sk-container-id-1 div.sk-serial::before {content: \"\";position: absolute;border-left: 1px solid gray;box-sizing: border-box;top: 0;bottom: 0;left: 50%;z-index: 0;}#sk-container-id-1 div.sk-serial {display: flex;flex-direction: column;align-items: center;background-color: white;padding-right: 0.2em;padding-left: 0.2em;position: relative;}#sk-container-id-1 div.sk-item {position: relative;z-index: 1;}#sk-container-id-1 div.sk-parallel {display: flex;align-items: stretch;justify-content: center;background-color: white;position: relative;}#sk-container-id-1 div.sk-item::before, #sk-container-id-1 div.sk-parallel-item::before {content: \"\";position: absolute;border-left: 1px solid gray;box-sizing: border-box;top: 0;bottom: 0;left: 50%;z-index: -1;}#sk-container-id-1 div.sk-parallel-item {display: flex;flex-direction: column;z-index: 1;position: relative;background-color: white;}#sk-container-id-1 div.sk-parallel-item:first-child::after {align-self: flex-end;width: 50%;}#sk-container-id-1 div.sk-parallel-item:last-child::after {align-self: flex-start;width: 50%;}#sk-container-id-1 div.sk-parallel-item:only-child::after {width: 0;}#sk-container-id-1 div.sk-dashed-wrapped {border: 1px dashed gray;margin: 0 0.4em 0.5em 0.4em;box-sizing: border-box;padding-bottom: 0.4em;background-color: white;}#sk-container-id-1 div.sk-label label {font-family: monospace;font-weight: bold;display: inline-block;line-height: 1.2em;}#sk-container-id-1 div.sk-label-container {text-align: center;}#sk-container-id-1 div.sk-container {/* jupyter's `normalize.less` sets `[hidden] { display: none; }` but bootstrap.min.css set `[hidden] { display: none !important; }` so we also need the `!important` here to be able to override the default hidden behavior on the sphinx rendered scikit-learn.org. See: https://github.com/scikit-learn/scikit-learn/issues/21755 */display: inline-block !important;position: relative;}#sk-container-id-1 div.sk-text-repr-fallback {display: none;}</style><div id=\"sk-container-id-1\" class=\"sk-top-container\"><div class=\"sk-text-repr-fallback\"><pre>SVR()</pre><b>In a Jupyter environment, please rerun this cell to show the HTML representation or trust the notebook. <br />On GitHub, the HTML representation is unable to render, please try loading this page with nbviewer.org.</b></div><div class=\"sk-container\" hidden><div class=\"sk-item\"><div class=\"sk-estimator sk-toggleable\"><input class=\"sk-toggleable__control sk-hidden--visually\" id=\"sk-estimator-id-1\" type=\"checkbox\" checked><label for=\"sk-estimator-id-1\" class=\"sk-toggleable__label sk-toggleable__label-arrow\">SVR</label><div class=\"sk-toggleable__content\"><pre>SVR()</pre></div></div></div></div></div>"
      ],
      "text/plain": [
       "SVR()"
      ]
     },
     "execution_count": 17,
     "metadata": {},
     "output_type": "execute_result"
    }
   ],
   "source": [
    "training_model = SVR()\n",
    "training_model"
   ]
  },
  {
   "cell_type": "code",
   "execution_count": 18,
   "id": "34648c0a",
   "metadata": {
    "execution": {
     "iopub.execute_input": "2025-08-07T09:57:01.739944Z",
     "iopub.status.busy": "2025-08-07T09:57:01.739545Z",
     "iopub.status.idle": "2025-08-07T09:57:09.731105Z",
     "shell.execute_reply": "2025-08-07T09:57:09.730300Z"
    },
    "papermill": {
     "duration": 8.016476,
     "end_time": "2025-08-07T09:57:09.732673",
     "exception": false,
     "start_time": "2025-08-07T09:57:01.716197",
     "status": "completed"
    },
    "tags": []
   },
   "outputs": [
    {
     "name": "stdout",
     "output_type": "stream",
     "text": [
      "CPU times: user 7.77 s, sys: 211 ms, total: 7.98 s\n",
      "Wall time: 7.98 s\n"
     ]
    },
    {
     "data": {
      "text/html": [
       "<style>#sk-container-id-2 {color: black;background-color: white;}#sk-container-id-2 pre{padding: 0;}#sk-container-id-2 div.sk-toggleable {background-color: white;}#sk-container-id-2 label.sk-toggleable__label {cursor: pointer;display: block;width: 100%;margin-bottom: 0;padding: 0.3em;box-sizing: border-box;text-align: center;}#sk-container-id-2 label.sk-toggleable__label-arrow:before {content: \"▸\";float: left;margin-right: 0.25em;color: #696969;}#sk-container-id-2 label.sk-toggleable__label-arrow:hover:before {color: black;}#sk-container-id-2 div.sk-estimator:hover label.sk-toggleable__label-arrow:before {color: black;}#sk-container-id-2 div.sk-toggleable__content {max-height: 0;max-width: 0;overflow: hidden;text-align: left;background-color: #f0f8ff;}#sk-container-id-2 div.sk-toggleable__content pre {margin: 0.2em;color: black;border-radius: 0.25em;background-color: #f0f8ff;}#sk-container-id-2 input.sk-toggleable__control:checked~div.sk-toggleable__content {max-height: 200px;max-width: 100%;overflow: auto;}#sk-container-id-2 input.sk-toggleable__control:checked~label.sk-toggleable__label-arrow:before {content: \"▾\";}#sk-container-id-2 div.sk-estimator input.sk-toggleable__control:checked~label.sk-toggleable__label {background-color: #d4ebff;}#sk-container-id-2 div.sk-label input.sk-toggleable__control:checked~label.sk-toggleable__label {background-color: #d4ebff;}#sk-container-id-2 input.sk-hidden--visually {border: 0;clip: rect(1px 1px 1px 1px);clip: rect(1px, 1px, 1px, 1px);height: 1px;margin: -1px;overflow: hidden;padding: 0;position: absolute;width: 1px;}#sk-container-id-2 div.sk-estimator {font-family: monospace;background-color: #f0f8ff;border: 1px dotted black;border-radius: 0.25em;box-sizing: border-box;margin-bottom: 0.5em;}#sk-container-id-2 div.sk-estimator:hover {background-color: #d4ebff;}#sk-container-id-2 div.sk-parallel-item::after {content: \"\";width: 100%;border-bottom: 1px solid gray;flex-grow: 1;}#sk-container-id-2 div.sk-label:hover label.sk-toggleable__label {background-color: #d4ebff;}#sk-container-id-2 div.sk-serial::before {content: \"\";position: absolute;border-left: 1px solid gray;box-sizing: border-box;top: 0;bottom: 0;left: 50%;z-index: 0;}#sk-container-id-2 div.sk-serial {display: flex;flex-direction: column;align-items: center;background-color: white;padding-right: 0.2em;padding-left: 0.2em;position: relative;}#sk-container-id-2 div.sk-item {position: relative;z-index: 1;}#sk-container-id-2 div.sk-parallel {display: flex;align-items: stretch;justify-content: center;background-color: white;position: relative;}#sk-container-id-2 div.sk-item::before, #sk-container-id-2 div.sk-parallel-item::before {content: \"\";position: absolute;border-left: 1px solid gray;box-sizing: border-box;top: 0;bottom: 0;left: 50%;z-index: -1;}#sk-container-id-2 div.sk-parallel-item {display: flex;flex-direction: column;z-index: 1;position: relative;background-color: white;}#sk-container-id-2 div.sk-parallel-item:first-child::after {align-self: flex-end;width: 50%;}#sk-container-id-2 div.sk-parallel-item:last-child::after {align-self: flex-start;width: 50%;}#sk-container-id-2 div.sk-parallel-item:only-child::after {width: 0;}#sk-container-id-2 div.sk-dashed-wrapped {border: 1px dashed gray;margin: 0 0.4em 0.5em 0.4em;box-sizing: border-box;padding-bottom: 0.4em;background-color: white;}#sk-container-id-2 div.sk-label label {font-family: monospace;font-weight: bold;display: inline-block;line-height: 1.2em;}#sk-container-id-2 div.sk-label-container {text-align: center;}#sk-container-id-2 div.sk-container {/* jupyter's `normalize.less` sets `[hidden] { display: none; }` but bootstrap.min.css set `[hidden] { display: none !important; }` so we also need the `!important` here to be able to override the default hidden behavior on the sphinx rendered scikit-learn.org. See: https://github.com/scikit-learn/scikit-learn/issues/21755 */display: inline-block !important;position: relative;}#sk-container-id-2 div.sk-text-repr-fallback {display: none;}</style><div id=\"sk-container-id-2\" class=\"sk-top-container\"><div class=\"sk-text-repr-fallback\"><pre>SVR()</pre><b>In a Jupyter environment, please rerun this cell to show the HTML representation or trust the notebook. <br />On GitHub, the HTML representation is unable to render, please try loading this page with nbviewer.org.</b></div><div class=\"sk-container\" hidden><div class=\"sk-item\"><div class=\"sk-estimator sk-toggleable\"><input class=\"sk-toggleable__control sk-hidden--visually\" id=\"sk-estimator-id-2\" type=\"checkbox\" checked><label for=\"sk-estimator-id-2\" class=\"sk-toggleable__label sk-toggleable__label-arrow\">SVR</label><div class=\"sk-toggleable__content\"><pre>SVR()</pre></div></div></div></div></div>"
      ],
      "text/plain": [
       "SVR()"
      ]
     },
     "execution_count": 18,
     "metadata": {},
     "output_type": "execute_result"
    }
   ],
   "source": [
    "%%time\n",
    "training_model.fit(X_train, y_train)"
   ]
  },
  {
   "cell_type": "code",
   "execution_count": 19,
   "id": "ed9d081a",
   "metadata": {
    "execution": {
     "iopub.execute_input": "2025-08-07T09:57:09.773507Z",
     "iopub.status.busy": "2025-08-07T09:57:09.773202Z",
     "iopub.status.idle": "2025-08-07T09:57:12.098029Z",
     "shell.execute_reply": "2025-08-07T09:57:12.097287Z"
    },
    "papermill": {
     "duration": 2.346576,
     "end_time": "2025-08-07T09:57:12.099470",
     "exception": false,
     "start_time": "2025-08-07T09:57:09.752894",
     "status": "completed"
    },
    "tags": []
   },
   "outputs": [
    {
     "data": {
      "text/plain": [
       "array([  7.38599438, 177.59162431,  11.0489598 , ..., 281.53361046,\n",
       "        23.8669482 ,  -3.41793236])"
      ]
     },
     "execution_count": 19,
     "metadata": {},
     "output_type": "execute_result"
    }
   ],
   "source": [
    "y_pred = training_model.predict(X_test)\n",
    "y_pred"
   ]
  },
  {
   "cell_type": "code",
   "execution_count": 20,
   "id": "314dd99c",
   "metadata": {
    "execution": {
     "iopub.execute_input": "2025-08-07T09:57:12.140982Z",
     "iopub.status.busy": "2025-08-07T09:57:12.140249Z",
     "iopub.status.idle": "2025-08-07T09:57:12.146660Z",
     "shell.execute_reply": "2025-08-07T09:57:12.146040Z"
    },
    "papermill": {
     "duration": 0.028224,
     "end_time": "2025-08-07T09:57:12.147927",
     "exception": false,
     "start_time": "2025-08-07T09:57:12.119703",
     "status": "completed"
    },
    "tags": []
   },
   "outputs": [
    {
     "data": {
      "text/plain": [
       "5158       0.00\n",
       "3831     105.26\n",
       "5117       0.00\n",
       "6326     758.39\n",
       "11359    135.87\n",
       "          ...  \n",
       "10290     74.58\n",
       "13995      0.00\n",
       "9665     241.81\n",
       "2276       0.00\n",
       "4174       0.00\n",
       "Name: SolarRadiation, Length: 2924, dtype: float64"
      ]
     },
     "execution_count": 20,
     "metadata": {},
     "output_type": "execute_result"
    }
   ],
   "source": [
    "y_test"
   ]
  },
  {
   "cell_type": "code",
   "execution_count": 21,
   "id": "94201d67",
   "metadata": {
    "execution": {
     "iopub.execute_input": "2025-08-07T09:57:12.188927Z",
     "iopub.status.busy": "2025-08-07T09:57:12.188316Z",
     "iopub.status.idle": "2025-08-07T09:57:12.194332Z",
     "shell.execute_reply": "2025-08-07T09:57:12.193656Z"
    },
    "papermill": {
     "duration": 0.027827,
     "end_time": "2025-08-07T09:57:12.195614",
     "exception": false,
     "start_time": "2025-08-07T09:57:12.167787",
     "status": "completed"
    },
    "tags": []
   },
   "outputs": [],
   "source": [
    "mse = mean_squared_error(y_test, y_pred)\n",
    "mae = mean_absolute_error(y_test, y_pred)\n",
    "r2 = r2_score(y_test, y_pred)\n",
    "rmse = math.sqrt(mse)"
   ]
  },
  {
   "cell_type": "code",
   "execution_count": 22,
   "id": "e7dfa1c6",
   "metadata": {
    "execution": {
     "iopub.execute_input": "2025-08-07T09:57:12.236072Z",
     "iopub.status.busy": "2025-08-07T09:57:12.235802Z",
     "iopub.status.idle": "2025-08-07T09:57:12.240779Z",
     "shell.execute_reply": "2025-08-07T09:57:12.239871Z"
    },
    "papermill": {
     "duration": 0.026898,
     "end_time": "2025-08-07T09:57:12.242290",
     "exception": false,
     "start_time": "2025-08-07T09:57:12.215392",
     "status": "completed"
    },
    "tags": []
   },
   "outputs": [
    {
     "name": "stdout",
     "output_type": "stream",
     "text": [
      "MSE Score: 16266.03189275945\n",
      "MAE Score: 80.09817554671122\n",
      "R2 Score: 0.8270279971615634\n",
      "RMSE Score: 127.5383545948412\n"
     ]
    }
   ],
   "source": [
    "print(\"MSE Score:\", mse)\n",
    "print(\"MAE Score:\", mae)\n",
    "print(\"R2 Score:\", r2)\n",
    "print(\"RMSE Score:\", rmse)"
   ]
  },
  {
   "cell_type": "code",
   "execution_count": 23,
   "id": "58bf415f",
   "metadata": {
    "execution": {
     "iopub.execute_input": "2025-08-07T09:57:12.283865Z",
     "iopub.status.busy": "2025-08-07T09:57:12.283550Z",
     "iopub.status.idle": "2025-08-07T09:57:12.298709Z",
     "shell.execute_reply": "2025-08-07T09:57:12.297884Z"
    },
    "papermill": {
     "duration": 0.037707,
     "end_time": "2025-08-07T09:57:12.300192",
     "exception": false,
     "start_time": "2025-08-07T09:57:12.262485",
     "status": "completed"
    },
    "tags": []
   },
   "outputs": [
    {
     "name": "stdout",
     "output_type": "stream",
     "text": [
      "✨ New regression model added:\n",
      "   MSE: 16266.031893, R²: 0.827028\n",
      "   Features: 27\n",
      "💾 Registry updated: Model_Training_History/History_Regression.csv\n"
     ]
    }
   ],
   "source": [
    "regression_params = {\n",
    "    'model_name': model_name_for_saving,\n",
    "    'scaler_name': \"MinMaxScaler\",\n",
    "    'features_list': feature_columns_for_saving,\n",
    "    'target_column': target_name_for_saving,\n",
    "    'mse': mse,\n",
    "    'mae': mae,\n",
    "    'rmse': rmse,\n",
    "    'r2': r2,\n",
    "    'parameters': json.dumps(training_model.get_params())\n",
    "}\n",
    "save_model_performance_if_better('regression', regression_params)"
   ]
  },
  {
   "cell_type": "markdown",
   "id": "92ee3d6e",
   "metadata": {
    "papermill": {
     "duration": 0.02063,
     "end_time": "2025-08-07T09:57:12.341685",
     "exception": false,
     "start_time": "2025-08-07T09:57:12.321055",
     "status": "completed"
    },
    "tags": []
   },
   "source": [
    "### Tuning with Grid Search"
   ]
  },
  {
   "cell_type": "code",
   "execution_count": 24,
   "id": "9e3b24b7",
   "metadata": {
    "execution": {
     "iopub.execute_input": "2025-08-07T09:57:12.385493Z",
     "iopub.status.busy": "2025-08-07T09:57:12.385104Z",
     "iopub.status.idle": "2025-08-07T09:57:12.389656Z",
     "shell.execute_reply": "2025-08-07T09:57:12.388800Z"
    },
    "papermill": {
     "duration": 0.028574,
     "end_time": "2025-08-07T09:57:12.391039",
     "exception": false,
     "start_time": "2025-08-07T09:57:12.362465",
     "status": "completed"
    },
    "tags": []
   },
   "outputs": [],
   "source": [
    "grid_search = RandomizedSearchCV(\n",
    "    SVR(), \n",
    "    grid_param,\n",
    "    n_iter=number_of_model_for_randomized_grid,\n",
    "    cv=5,\n",
    "    scoring='neg_mean_squared_error',\n",
    "    n_jobs=-1,\n",
    "    verbose=1,\n",
    "    random_state=42\n",
    ")"
   ]
  },
  {
   "cell_type": "code",
   "execution_count": 25,
   "id": "8bdfd3d0",
   "metadata": {
    "execution": {
     "iopub.execute_input": "2025-08-07T09:57:12.433832Z",
     "iopub.status.busy": "2025-08-07T09:57:12.433527Z",
     "iopub.status.idle": "2025-08-07T10:33:38.416034Z",
     "shell.execute_reply": "2025-08-07T10:33:38.415228Z"
    },
    "papermill": {
     "duration": 2186.028089,
     "end_time": "2025-08-07T10:33:38.439913",
     "exception": false,
     "start_time": "2025-08-07T09:57:12.411824",
     "status": "completed"
    },
    "tags": []
   },
   "outputs": [
    {
     "name": "stdout",
     "output_type": "stream",
     "text": [
      "Starting hyperparameter tuning...\n",
      "Fitting 5 folds for each of 130 candidates, totalling 650 fits\n",
      "CPU times: user 32.4 s, sys: 3.27 s, total: 35.6 s\n",
      "Wall time: 36min 25s\n"
     ]
    },
    {
     "data": {
      "text/html": [
       "<style>#sk-container-id-3 {color: black;background-color: white;}#sk-container-id-3 pre{padding: 0;}#sk-container-id-3 div.sk-toggleable {background-color: white;}#sk-container-id-3 label.sk-toggleable__label {cursor: pointer;display: block;width: 100%;margin-bottom: 0;padding: 0.3em;box-sizing: border-box;text-align: center;}#sk-container-id-3 label.sk-toggleable__label-arrow:before {content: \"▸\";float: left;margin-right: 0.25em;color: #696969;}#sk-container-id-3 label.sk-toggleable__label-arrow:hover:before {color: black;}#sk-container-id-3 div.sk-estimator:hover label.sk-toggleable__label-arrow:before {color: black;}#sk-container-id-3 div.sk-toggleable__content {max-height: 0;max-width: 0;overflow: hidden;text-align: left;background-color: #f0f8ff;}#sk-container-id-3 div.sk-toggleable__content pre {margin: 0.2em;color: black;border-radius: 0.25em;background-color: #f0f8ff;}#sk-container-id-3 input.sk-toggleable__control:checked~div.sk-toggleable__content {max-height: 200px;max-width: 100%;overflow: auto;}#sk-container-id-3 input.sk-toggleable__control:checked~label.sk-toggleable__label-arrow:before {content: \"▾\";}#sk-container-id-3 div.sk-estimator input.sk-toggleable__control:checked~label.sk-toggleable__label {background-color: #d4ebff;}#sk-container-id-3 div.sk-label input.sk-toggleable__control:checked~label.sk-toggleable__label {background-color: #d4ebff;}#sk-container-id-3 input.sk-hidden--visually {border: 0;clip: rect(1px 1px 1px 1px);clip: rect(1px, 1px, 1px, 1px);height: 1px;margin: -1px;overflow: hidden;padding: 0;position: absolute;width: 1px;}#sk-container-id-3 div.sk-estimator {font-family: monospace;background-color: #f0f8ff;border: 1px dotted black;border-radius: 0.25em;box-sizing: border-box;margin-bottom: 0.5em;}#sk-container-id-3 div.sk-estimator:hover {background-color: #d4ebff;}#sk-container-id-3 div.sk-parallel-item::after {content: \"\";width: 100%;border-bottom: 1px solid gray;flex-grow: 1;}#sk-container-id-3 div.sk-label:hover label.sk-toggleable__label {background-color: #d4ebff;}#sk-container-id-3 div.sk-serial::before {content: \"\";position: absolute;border-left: 1px solid gray;box-sizing: border-box;top: 0;bottom: 0;left: 50%;z-index: 0;}#sk-container-id-3 div.sk-serial {display: flex;flex-direction: column;align-items: center;background-color: white;padding-right: 0.2em;padding-left: 0.2em;position: relative;}#sk-container-id-3 div.sk-item {position: relative;z-index: 1;}#sk-container-id-3 div.sk-parallel {display: flex;align-items: stretch;justify-content: center;background-color: white;position: relative;}#sk-container-id-3 div.sk-item::before, #sk-container-id-3 div.sk-parallel-item::before {content: \"\";position: absolute;border-left: 1px solid gray;box-sizing: border-box;top: 0;bottom: 0;left: 50%;z-index: -1;}#sk-container-id-3 div.sk-parallel-item {display: flex;flex-direction: column;z-index: 1;position: relative;background-color: white;}#sk-container-id-3 div.sk-parallel-item:first-child::after {align-self: flex-end;width: 50%;}#sk-container-id-3 div.sk-parallel-item:last-child::after {align-self: flex-start;width: 50%;}#sk-container-id-3 div.sk-parallel-item:only-child::after {width: 0;}#sk-container-id-3 div.sk-dashed-wrapped {border: 1px dashed gray;margin: 0 0.4em 0.5em 0.4em;box-sizing: border-box;padding-bottom: 0.4em;background-color: white;}#sk-container-id-3 div.sk-label label {font-family: monospace;font-weight: bold;display: inline-block;line-height: 1.2em;}#sk-container-id-3 div.sk-label-container {text-align: center;}#sk-container-id-3 div.sk-container {/* jupyter's `normalize.less` sets `[hidden] { display: none; }` but bootstrap.min.css set `[hidden] { display: none !important; }` so we also need the `!important` here to be able to override the default hidden behavior on the sphinx rendered scikit-learn.org. See: https://github.com/scikit-learn/scikit-learn/issues/21755 */display: inline-block !important;position: relative;}#sk-container-id-3 div.sk-text-repr-fallback {display: none;}</style><div id=\"sk-container-id-3\" class=\"sk-top-container\"><div class=\"sk-text-repr-fallback\"><pre>RandomizedSearchCV(cv=5, estimator=SVR(), n_iter=130, n_jobs=-1,\n",
       "                   param_distributions={&#x27;C&#x27;: [0.1, 1, 10, 100],\n",
       "                                        &#x27;coef0&#x27;: [0.0, 0.1, 1.0],\n",
       "                                        &#x27;epsilon&#x27;: [0.1, 0.2],\n",
       "                                        &#x27;gamma&#x27;: [&#x27;scale&#x27;, &#x27;auto&#x27;, 0.001, 0.01,\n",
       "                                                  0.1],\n",
       "                                        &#x27;kernel&#x27;: [&#x27;linear&#x27;, &#x27;rbf&#x27;, &#x27;sigmoid&#x27;],\n",
       "                                        &#x27;shrinking&#x27;: [True],\n",
       "                                        &#x27;tol&#x27;: [0.001, 0.0001]},\n",
       "                   random_state=42, scoring=&#x27;neg_mean_squared_error&#x27;,\n",
       "                   verbose=1)</pre><b>In a Jupyter environment, please rerun this cell to show the HTML representation or trust the notebook. <br />On GitHub, the HTML representation is unable to render, please try loading this page with nbviewer.org.</b></div><div class=\"sk-container\" hidden><div class=\"sk-item sk-dashed-wrapped\"><div class=\"sk-label-container\"><div class=\"sk-label sk-toggleable\"><input class=\"sk-toggleable__control sk-hidden--visually\" id=\"sk-estimator-id-3\" type=\"checkbox\" ><label for=\"sk-estimator-id-3\" class=\"sk-toggleable__label sk-toggleable__label-arrow\">RandomizedSearchCV</label><div class=\"sk-toggleable__content\"><pre>RandomizedSearchCV(cv=5, estimator=SVR(), n_iter=130, n_jobs=-1,\n",
       "                   param_distributions={&#x27;C&#x27;: [0.1, 1, 10, 100],\n",
       "                                        &#x27;coef0&#x27;: [0.0, 0.1, 1.0],\n",
       "                                        &#x27;epsilon&#x27;: [0.1, 0.2],\n",
       "                                        &#x27;gamma&#x27;: [&#x27;scale&#x27;, &#x27;auto&#x27;, 0.001, 0.01,\n",
       "                                                  0.1],\n",
       "                                        &#x27;kernel&#x27;: [&#x27;linear&#x27;, &#x27;rbf&#x27;, &#x27;sigmoid&#x27;],\n",
       "                                        &#x27;shrinking&#x27;: [True],\n",
       "                                        &#x27;tol&#x27;: [0.001, 0.0001]},\n",
       "                   random_state=42, scoring=&#x27;neg_mean_squared_error&#x27;,\n",
       "                   verbose=1)</pre></div></div></div><div class=\"sk-parallel\"><div class=\"sk-parallel-item\"><div class=\"sk-item\"><div class=\"sk-label-container\"><div class=\"sk-label sk-toggleable\"><input class=\"sk-toggleable__control sk-hidden--visually\" id=\"sk-estimator-id-4\" type=\"checkbox\" ><label for=\"sk-estimator-id-4\" class=\"sk-toggleable__label sk-toggleable__label-arrow\">estimator: SVR</label><div class=\"sk-toggleable__content\"><pre>SVR()</pre></div></div></div><div class=\"sk-serial\"><div class=\"sk-item\"><div class=\"sk-estimator sk-toggleable\"><input class=\"sk-toggleable__control sk-hidden--visually\" id=\"sk-estimator-id-5\" type=\"checkbox\" ><label for=\"sk-estimator-id-5\" class=\"sk-toggleable__label sk-toggleable__label-arrow\">SVR</label><div class=\"sk-toggleable__content\"><pre>SVR()</pre></div></div></div></div></div></div></div></div></div></div>"
      ],
      "text/plain": [
       "RandomizedSearchCV(cv=5, estimator=SVR(), n_iter=130, n_jobs=-1,\n",
       "                   param_distributions={'C': [0.1, 1, 10, 100],\n",
       "                                        'coef0': [0.0, 0.1, 1.0],\n",
       "                                        'epsilon': [0.1, 0.2],\n",
       "                                        'gamma': ['scale', 'auto', 0.001, 0.01,\n",
       "                                                  0.1],\n",
       "                                        'kernel': ['linear', 'rbf', 'sigmoid'],\n",
       "                                        'shrinking': [True],\n",
       "                                        'tol': [0.001, 0.0001]},\n",
       "                   random_state=42, scoring='neg_mean_squared_error',\n",
       "                   verbose=1)"
      ]
     },
     "execution_count": 25,
     "metadata": {},
     "output_type": "execute_result"
    }
   ],
   "source": [
    "%%time\n",
    "print(\"Starting hyperparameter tuning...\")\n",
    "grid_search.fit(X_train, y_train)"
   ]
  },
  {
   "cell_type": "code",
   "execution_count": 26,
   "id": "bc9e687d",
   "metadata": {
    "execution": {
     "iopub.execute_input": "2025-08-07T10:33:38.484041Z",
     "iopub.status.busy": "2025-08-07T10:33:38.483759Z",
     "iopub.status.idle": "2025-08-07T10:33:38.489641Z",
     "shell.execute_reply": "2025-08-07T10:33:38.488677Z"
    },
    "papermill": {
     "duration": 0.029873,
     "end_time": "2025-08-07T10:33:38.491030",
     "exception": false,
     "start_time": "2025-08-07T10:33:38.461157",
     "status": "completed"
    },
    "tags": []
   },
   "outputs": [
    {
     "name": "stdout",
     "output_type": "stream",
     "text": [
      "TUNING RESULTS\n",
      "==================================================\n",
      "Best Parameters: {'tol': 0.001, 'shrinking': True, 'kernel': 'linear', 'gamma': 'auto', 'epsilon': 0.2, 'coef0': 0.1, 'C': 100}\n",
      "Best Cross-Validation Score (Negative MSE): -307.5796362799411\n",
      "Best Cross-Validation Score (MSE): 307.5796362799411\n",
      "Best Cross-Validation Score (RMSE): 17.53794846268916\n"
     ]
    }
   ],
   "source": [
    "print(\"TUNING RESULTS\")\n",
    "print(\"=\"*50)\n",
    "print(\"Best Parameters:\", grid_search.best_params_)\n",
    "print(\"Best Cross-Validation Score (Negative MSE):\", grid_search.best_score_)\n",
    "print(\"Best Cross-Validation Score (MSE):\", -grid_search.best_score_)\n",
    "print(\"Best Cross-Validation Score (RMSE):\", math.sqrt(-grid_search.best_score_))\n",
    "\n",
    "# Save the best parameters as an array\n",
    "grid_param_minmax = {k: [v] for k, v in grid_search.best_params_.items()}"
   ]
  },
  {
   "cell_type": "code",
   "execution_count": 27,
   "id": "ee40c1f9",
   "metadata": {
    "execution": {
     "iopub.execute_input": "2025-08-07T10:33:38.535964Z",
     "iopub.status.busy": "2025-08-07T10:33:38.535681Z",
     "iopub.status.idle": "2025-08-07T10:33:39.180991Z",
     "shell.execute_reply": "2025-08-07T10:33:39.180203Z"
    },
    "papermill": {
     "duration": 0.670099,
     "end_time": "2025-08-07T10:33:39.183036",
     "exception": false,
     "start_time": "2025-08-07T10:33:38.512937",
     "status": "completed"
    },
    "tags": []
   },
   "outputs": [],
   "source": [
    "grid_search_best_model = grid_search.best_estimator_\n",
    "y_pred = grid_search_best_model.predict(X_test)"
   ]
  },
  {
   "cell_type": "code",
   "execution_count": 28,
   "id": "9d9aa136",
   "metadata": {
    "execution": {
     "iopub.execute_input": "2025-08-07T10:33:39.227255Z",
     "iopub.status.busy": "2025-08-07T10:33:39.226903Z",
     "iopub.status.idle": "2025-08-07T10:33:39.234652Z",
     "shell.execute_reply": "2025-08-07T10:33:39.233907Z"
    },
    "papermill": {
     "duration": 0.031042,
     "end_time": "2025-08-07T10:33:39.236050",
     "exception": false,
     "start_time": "2025-08-07T10:33:39.205008",
     "status": "completed"
    },
    "tags": []
   },
   "outputs": [],
   "source": [
    "mse_grid_search = mean_squared_error(y_test, y_pred)\n",
    "mae_grid_search = mean_absolute_error(y_test, y_pred)\n",
    "r2_grid_search = r2_score(y_test, y_pred)\n",
    "rmse_grid_search = math.sqrt(mse_grid_search)"
   ]
  },
  {
   "cell_type": "code",
   "execution_count": 29,
   "id": "110fb138",
   "metadata": {
    "execution": {
     "iopub.execute_input": "2025-08-07T10:33:39.280026Z",
     "iopub.status.busy": "2025-08-07T10:33:39.279409Z",
     "iopub.status.idle": "2025-08-07T10:33:39.284493Z",
     "shell.execute_reply": "2025-08-07T10:33:39.283556Z"
    },
    "papermill": {
     "duration": 0.028361,
     "end_time": "2025-08-07T10:33:39.285913",
     "exception": false,
     "start_time": "2025-08-07T10:33:39.257552",
     "status": "completed"
    },
    "tags": []
   },
   "outputs": [
    {
     "name": "stdout",
     "output_type": "stream",
     "text": [
      "MSE Score: 321.03385065543944\n",
      "MAE Score: 11.181806501016535\n",
      "R2 Score: 0.9965861453799605\n",
      "RMSE Score: 17.917417521937683\n"
     ]
    }
   ],
   "source": [
    "print(\"MSE Score:\", mse_grid_search)\n",
    "print(\"MAE Score:\", mae_grid_search)\n",
    "print(\"R2 Score:\", r2_grid_search)\n",
    "print(\"RMSE Score:\", rmse_grid_search)"
   ]
  },
  {
   "cell_type": "code",
   "execution_count": 30,
   "id": "fa364ff3",
   "metadata": {
    "execution": {
     "iopub.execute_input": "2025-08-07T10:33:39.329663Z",
     "iopub.status.busy": "2025-08-07T10:33:39.329381Z",
     "iopub.status.idle": "2025-08-07T10:33:39.341840Z",
     "shell.execute_reply": "2025-08-07T10:33:39.340734Z"
    },
    "papermill": {
     "duration": 0.036015,
     "end_time": "2025-08-07T10:33:39.343464",
     "exception": false,
     "start_time": "2025-08-07T10:33:39.307449",
     "status": "completed"
    },
    "tags": []
   },
   "outputs": [
    {
     "name": "stdout",
     "output_type": "stream",
     "text": [
      "✨ New regression model added:\n",
      "   MSE: 321.033851, R²: 0.996586\n",
      "   Features: 27\n",
      "💾 Registry updated: Model_Training_History/History_Regression.csv\n"
     ]
    }
   ],
   "source": [
    "regression_params = {\n",
    "    'model_name': model_name_for_saving + \" Tuned\",\n",
    "    'scaler_name': \"MinMaxScaler\",\n",
    "    'features_list': feature_columns_for_saving,\n",
    "    'target_column': target_name_for_saving,\n",
    "    'mse': mse_grid_search,\n",
    "    'mae': mae_grid_search,\n",
    "    'rmse': rmse_grid_search,\n",
    "    'r2': r2_grid_search,\n",
    "    'parameters' : json.dumps({\n",
    "        \"best_params\": grid_search.best_params_,\n",
    "        \"cv_score\": grid_search.best_score_,\n",
    "        \"all_params\": grid_search_best_model.get_params()\n",
    "    })\n",
    "}\n",
    "save_model_performance_if_better('regression', regression_params)"
   ]
  },
  {
   "cell_type": "markdown",
   "id": "483a6323",
   "metadata": {
    "papermill": {
     "duration": 0.021219,
     "end_time": "2025-08-07T10:33:39.386403",
     "exception": false,
     "start_time": "2025-08-07T10:33:39.365184",
     "status": "completed"
    },
    "tags": []
   },
   "source": [
    "## Standard Scaler"
   ]
  },
  {
   "cell_type": "code",
   "execution_count": 31,
   "id": "ae2bdbcb",
   "metadata": {
    "execution": {
     "iopub.execute_input": "2025-08-07T10:33:39.430220Z",
     "iopub.status.busy": "2025-08-07T10:33:39.429909Z",
     "iopub.status.idle": "2025-08-07T10:33:39.460109Z",
     "shell.execute_reply": "2025-08-07T10:33:39.459176Z"
    },
    "papermill": {
     "duration": 0.053776,
     "end_time": "2025-08-07T10:33:39.461677",
     "exception": false,
     "start_time": "2025-08-07T10:33:39.407901",
     "status": "completed"
    },
    "tags": []
   },
   "outputs": [],
   "source": [
    "scaler = StandardScaler()\n",
    "X_train = scaler.fit_transform(X_train_raw)\n",
    "X_test = scaler.transform(X_test_raw)"
   ]
  },
  {
   "cell_type": "code",
   "execution_count": 32,
   "id": "5eeecade",
   "metadata": {
    "execution": {
     "iopub.execute_input": "2025-08-07T10:33:39.508840Z",
     "iopub.status.busy": "2025-08-07T10:33:39.508318Z",
     "iopub.status.idle": "2025-08-07T10:33:39.513742Z",
     "shell.execute_reply": "2025-08-07T10:33:39.512988Z"
    },
    "papermill": {
     "duration": 0.029805,
     "end_time": "2025-08-07T10:33:39.514907",
     "exception": false,
     "start_time": "2025-08-07T10:33:39.485102",
     "status": "completed"
    },
    "tags": []
   },
   "outputs": [
    {
     "data": {
      "text/plain": [
       "array([[ 1.01884116,  1.17229173, -0.21938027, ..., -0.12088825,\n",
       "         1.52387472,  1.09644529],\n",
       "       [ 1.64376461, -0.75947244,  0.64624572, ..., -1.52028666,\n",
       "         0.24645772, -0.43343649],\n",
       "       [-1.16839092, -0.1913065 , -1.66209024, ..., -1.52028666,\n",
       "        -0.73592134, -0.43343649],\n",
       "       ...,\n",
       "       [ 0.70637943,  1.28592492, -0.21938027, ...,  0.96917545,\n",
       "         0.25618424, -0.30383078],\n",
       "       [-1.48085264, -0.30493969,  1.36760071, ..., -1.52028666,\n",
       "        -0.73592134, -0.43343649],\n",
       "       [ 1.01884116, -0.75947244, -0.50792226, ...,  1.01722469,\n",
       "         0.20430944,  0.85928021]])"
      ]
     },
     "execution_count": 32,
     "metadata": {},
     "output_type": "execute_result"
    }
   ],
   "source": [
    "X_train"
   ]
  },
  {
   "cell_type": "code",
   "execution_count": 33,
   "id": "fec5f1d2",
   "metadata": {
    "execution": {
     "iopub.execute_input": "2025-08-07T10:33:39.560538Z",
     "iopub.status.busy": "2025-08-07T10:33:39.559758Z",
     "iopub.status.idle": "2025-08-07T10:33:39.565697Z",
     "shell.execute_reply": "2025-08-07T10:33:39.564859Z"
    },
    "papermill": {
     "duration": 0.030522,
     "end_time": "2025-08-07T10:33:39.567078",
     "exception": false,
     "start_time": "2025-08-07T10:33:39.536556",
     "status": "completed"
    },
    "tags": []
   },
   "outputs": [
    {
     "data": {
      "text/plain": [
       "array([[ 0.70637943, -1.44127155,  1.51187171, ...,  1.02148941,\n",
       "        -0.73592134, -0.43343649],\n",
       "       [ 0.08145598, -0.75947244,  0.50197472, ...,  1.23102956,\n",
       "        -0.49600038, -0.43343649],\n",
       "       [ 0.70637943, -1.55490474, -0.94073525, ...,  1.30438283,\n",
       "        -0.73592134, -0.43343649],\n",
       "       ...,\n",
       "       [-1.16839092, -0.98673881,  0.79051672, ..., -1.51659057,\n",
       "        -0.07775979, -0.43343649],\n",
       "       [-0.54346747, -1.21400518,  1.22332971, ..., -1.52028666,\n",
       "        -0.73592134,  0.71764924],\n",
       "       [ 0.08145598,  0.83139217,  1.51187171, ..., -0.05293696,\n",
       "        -0.73592134, -0.43343649]])"
      ]
     },
     "execution_count": 33,
     "metadata": {},
     "output_type": "execute_result"
    }
   ],
   "source": [
    "X_test"
   ]
  },
  {
   "cell_type": "markdown",
   "id": "51b16ee0",
   "metadata": {
    "papermill": {
     "duration": 0.021402,
     "end_time": "2025-08-07T10:33:39.610651",
     "exception": false,
     "start_time": "2025-08-07T10:33:39.589249",
     "status": "completed"
    },
    "tags": []
   },
   "source": [
    "### Default Parameters"
   ]
  },
  {
   "cell_type": "code",
   "execution_count": 34,
   "id": "ac318e05",
   "metadata": {
    "execution": {
     "iopub.execute_input": "2025-08-07T10:33:39.660749Z",
     "iopub.status.busy": "2025-08-07T10:33:39.660474Z",
     "iopub.status.idle": "2025-08-07T10:33:39.668409Z",
     "shell.execute_reply": "2025-08-07T10:33:39.666626Z"
    },
    "papermill": {
     "duration": 0.037598,
     "end_time": "2025-08-07T10:33:39.669854",
     "exception": false,
     "start_time": "2025-08-07T10:33:39.632256",
     "status": "completed"
    },
    "tags": []
   },
   "outputs": [
    {
     "data": {
      "text/html": [
       "<style>#sk-container-id-4 {color: black;background-color: white;}#sk-container-id-4 pre{padding: 0;}#sk-container-id-4 div.sk-toggleable {background-color: white;}#sk-container-id-4 label.sk-toggleable__label {cursor: pointer;display: block;width: 100%;margin-bottom: 0;padding: 0.3em;box-sizing: border-box;text-align: center;}#sk-container-id-4 label.sk-toggleable__label-arrow:before {content: \"▸\";float: left;margin-right: 0.25em;color: #696969;}#sk-container-id-4 label.sk-toggleable__label-arrow:hover:before {color: black;}#sk-container-id-4 div.sk-estimator:hover label.sk-toggleable__label-arrow:before {color: black;}#sk-container-id-4 div.sk-toggleable__content {max-height: 0;max-width: 0;overflow: hidden;text-align: left;background-color: #f0f8ff;}#sk-container-id-4 div.sk-toggleable__content pre {margin: 0.2em;color: black;border-radius: 0.25em;background-color: #f0f8ff;}#sk-container-id-4 input.sk-toggleable__control:checked~div.sk-toggleable__content {max-height: 200px;max-width: 100%;overflow: auto;}#sk-container-id-4 input.sk-toggleable__control:checked~label.sk-toggleable__label-arrow:before {content: \"▾\";}#sk-container-id-4 div.sk-estimator input.sk-toggleable__control:checked~label.sk-toggleable__label {background-color: #d4ebff;}#sk-container-id-4 div.sk-label input.sk-toggleable__control:checked~label.sk-toggleable__label {background-color: #d4ebff;}#sk-container-id-4 input.sk-hidden--visually {border: 0;clip: rect(1px 1px 1px 1px);clip: rect(1px, 1px, 1px, 1px);height: 1px;margin: -1px;overflow: hidden;padding: 0;position: absolute;width: 1px;}#sk-container-id-4 div.sk-estimator {font-family: monospace;background-color: #f0f8ff;border: 1px dotted black;border-radius: 0.25em;box-sizing: border-box;margin-bottom: 0.5em;}#sk-container-id-4 div.sk-estimator:hover {background-color: #d4ebff;}#sk-container-id-4 div.sk-parallel-item::after {content: \"\";width: 100%;border-bottom: 1px solid gray;flex-grow: 1;}#sk-container-id-4 div.sk-label:hover label.sk-toggleable__label {background-color: #d4ebff;}#sk-container-id-4 div.sk-serial::before {content: \"\";position: absolute;border-left: 1px solid gray;box-sizing: border-box;top: 0;bottom: 0;left: 50%;z-index: 0;}#sk-container-id-4 div.sk-serial {display: flex;flex-direction: column;align-items: center;background-color: white;padding-right: 0.2em;padding-left: 0.2em;position: relative;}#sk-container-id-4 div.sk-item {position: relative;z-index: 1;}#sk-container-id-4 div.sk-parallel {display: flex;align-items: stretch;justify-content: center;background-color: white;position: relative;}#sk-container-id-4 div.sk-item::before, #sk-container-id-4 div.sk-parallel-item::before {content: \"\";position: absolute;border-left: 1px solid gray;box-sizing: border-box;top: 0;bottom: 0;left: 50%;z-index: -1;}#sk-container-id-4 div.sk-parallel-item {display: flex;flex-direction: column;z-index: 1;position: relative;background-color: white;}#sk-container-id-4 div.sk-parallel-item:first-child::after {align-self: flex-end;width: 50%;}#sk-container-id-4 div.sk-parallel-item:last-child::after {align-self: flex-start;width: 50%;}#sk-container-id-4 div.sk-parallel-item:only-child::after {width: 0;}#sk-container-id-4 div.sk-dashed-wrapped {border: 1px dashed gray;margin: 0 0.4em 0.5em 0.4em;box-sizing: border-box;padding-bottom: 0.4em;background-color: white;}#sk-container-id-4 div.sk-label label {font-family: monospace;font-weight: bold;display: inline-block;line-height: 1.2em;}#sk-container-id-4 div.sk-label-container {text-align: center;}#sk-container-id-4 div.sk-container {/* jupyter's `normalize.less` sets `[hidden] { display: none; }` but bootstrap.min.css set `[hidden] { display: none !important; }` so we also need the `!important` here to be able to override the default hidden behavior on the sphinx rendered scikit-learn.org. See: https://github.com/scikit-learn/scikit-learn/issues/21755 */display: inline-block !important;position: relative;}#sk-container-id-4 div.sk-text-repr-fallback {display: none;}</style><div id=\"sk-container-id-4\" class=\"sk-top-container\"><div class=\"sk-text-repr-fallback\"><pre>SVR()</pre><b>In a Jupyter environment, please rerun this cell to show the HTML representation or trust the notebook. <br />On GitHub, the HTML representation is unable to render, please try loading this page with nbviewer.org.</b></div><div class=\"sk-container\" hidden><div class=\"sk-item\"><div class=\"sk-estimator sk-toggleable\"><input class=\"sk-toggleable__control sk-hidden--visually\" id=\"sk-estimator-id-6\" type=\"checkbox\" checked><label for=\"sk-estimator-id-6\" class=\"sk-toggleable__label sk-toggleable__label-arrow\">SVR</label><div class=\"sk-toggleable__content\"><pre>SVR()</pre></div></div></div></div></div>"
      ],
      "text/plain": [
       "SVR()"
      ]
     },
     "execution_count": 34,
     "metadata": {},
     "output_type": "execute_result"
    }
   ],
   "source": [
    "training_model = SVR()\n",
    "training_model"
   ]
  },
  {
   "cell_type": "code",
   "execution_count": 35,
   "id": "d813a417",
   "metadata": {
    "execution": {
     "iopub.execute_input": "2025-08-07T10:33:39.723742Z",
     "iopub.status.busy": "2025-08-07T10:33:39.723031Z",
     "iopub.status.idle": "2025-08-07T10:33:47.576815Z",
     "shell.execute_reply": "2025-08-07T10:33:47.575918Z"
    },
    "papermill": {
     "duration": 7.880616,
     "end_time": "2025-08-07T10:33:47.578450",
     "exception": false,
     "start_time": "2025-08-07T10:33:39.697834",
     "status": "completed"
    },
    "tags": []
   },
   "outputs": [
    {
     "name": "stdout",
     "output_type": "stream",
     "text": [
      "CPU times: user 7.85 s, sys: 0 ns, total: 7.85 s\n",
      "Wall time: 7.85 s\n"
     ]
    },
    {
     "data": {
      "text/html": [
       "<style>#sk-container-id-5 {color: black;background-color: white;}#sk-container-id-5 pre{padding: 0;}#sk-container-id-5 div.sk-toggleable {background-color: white;}#sk-container-id-5 label.sk-toggleable__label {cursor: pointer;display: block;width: 100%;margin-bottom: 0;padding: 0.3em;box-sizing: border-box;text-align: center;}#sk-container-id-5 label.sk-toggleable__label-arrow:before {content: \"▸\";float: left;margin-right: 0.25em;color: #696969;}#sk-container-id-5 label.sk-toggleable__label-arrow:hover:before {color: black;}#sk-container-id-5 div.sk-estimator:hover label.sk-toggleable__label-arrow:before {color: black;}#sk-container-id-5 div.sk-toggleable__content {max-height: 0;max-width: 0;overflow: hidden;text-align: left;background-color: #f0f8ff;}#sk-container-id-5 div.sk-toggleable__content pre {margin: 0.2em;color: black;border-radius: 0.25em;background-color: #f0f8ff;}#sk-container-id-5 input.sk-toggleable__control:checked~div.sk-toggleable__content {max-height: 200px;max-width: 100%;overflow: auto;}#sk-container-id-5 input.sk-toggleable__control:checked~label.sk-toggleable__label-arrow:before {content: \"▾\";}#sk-container-id-5 div.sk-estimator input.sk-toggleable__control:checked~label.sk-toggleable__label {background-color: #d4ebff;}#sk-container-id-5 div.sk-label input.sk-toggleable__control:checked~label.sk-toggleable__label {background-color: #d4ebff;}#sk-container-id-5 input.sk-hidden--visually {border: 0;clip: rect(1px 1px 1px 1px);clip: rect(1px, 1px, 1px, 1px);height: 1px;margin: -1px;overflow: hidden;padding: 0;position: absolute;width: 1px;}#sk-container-id-5 div.sk-estimator {font-family: monospace;background-color: #f0f8ff;border: 1px dotted black;border-radius: 0.25em;box-sizing: border-box;margin-bottom: 0.5em;}#sk-container-id-5 div.sk-estimator:hover {background-color: #d4ebff;}#sk-container-id-5 div.sk-parallel-item::after {content: \"\";width: 100%;border-bottom: 1px solid gray;flex-grow: 1;}#sk-container-id-5 div.sk-label:hover label.sk-toggleable__label {background-color: #d4ebff;}#sk-container-id-5 div.sk-serial::before {content: \"\";position: absolute;border-left: 1px solid gray;box-sizing: border-box;top: 0;bottom: 0;left: 50%;z-index: 0;}#sk-container-id-5 div.sk-serial {display: flex;flex-direction: column;align-items: center;background-color: white;padding-right: 0.2em;padding-left: 0.2em;position: relative;}#sk-container-id-5 div.sk-item {position: relative;z-index: 1;}#sk-container-id-5 div.sk-parallel {display: flex;align-items: stretch;justify-content: center;background-color: white;position: relative;}#sk-container-id-5 div.sk-item::before, #sk-container-id-5 div.sk-parallel-item::before {content: \"\";position: absolute;border-left: 1px solid gray;box-sizing: border-box;top: 0;bottom: 0;left: 50%;z-index: -1;}#sk-container-id-5 div.sk-parallel-item {display: flex;flex-direction: column;z-index: 1;position: relative;background-color: white;}#sk-container-id-5 div.sk-parallel-item:first-child::after {align-self: flex-end;width: 50%;}#sk-container-id-5 div.sk-parallel-item:last-child::after {align-self: flex-start;width: 50%;}#sk-container-id-5 div.sk-parallel-item:only-child::after {width: 0;}#sk-container-id-5 div.sk-dashed-wrapped {border: 1px dashed gray;margin: 0 0.4em 0.5em 0.4em;box-sizing: border-box;padding-bottom: 0.4em;background-color: white;}#sk-container-id-5 div.sk-label label {font-family: monospace;font-weight: bold;display: inline-block;line-height: 1.2em;}#sk-container-id-5 div.sk-label-container {text-align: center;}#sk-container-id-5 div.sk-container {/* jupyter's `normalize.less` sets `[hidden] { display: none; }` but bootstrap.min.css set `[hidden] { display: none !important; }` so we also need the `!important` here to be able to override the default hidden behavior on the sphinx rendered scikit-learn.org. See: https://github.com/scikit-learn/scikit-learn/issues/21755 */display: inline-block !important;position: relative;}#sk-container-id-5 div.sk-text-repr-fallback {display: none;}</style><div id=\"sk-container-id-5\" class=\"sk-top-container\"><div class=\"sk-text-repr-fallback\"><pre>SVR()</pre><b>In a Jupyter environment, please rerun this cell to show the HTML representation or trust the notebook. <br />On GitHub, the HTML representation is unable to render, please try loading this page with nbviewer.org.</b></div><div class=\"sk-container\" hidden><div class=\"sk-item\"><div class=\"sk-estimator sk-toggleable\"><input class=\"sk-toggleable__control sk-hidden--visually\" id=\"sk-estimator-id-7\" type=\"checkbox\" checked><label for=\"sk-estimator-id-7\" class=\"sk-toggleable__label sk-toggleable__label-arrow\">SVR</label><div class=\"sk-toggleable__content\"><pre>SVR()</pre></div></div></div></div></div>"
      ],
      "text/plain": [
       "SVR()"
      ]
     },
     "execution_count": 35,
     "metadata": {},
     "output_type": "execute_result"
    }
   ],
   "source": [
    "%%time\n",
    "training_model.fit(X_train, y_train)"
   ]
  },
  {
   "cell_type": "code",
   "execution_count": 36,
   "id": "d6003c29",
   "metadata": {
    "execution": {
     "iopub.execute_input": "2025-08-07T10:33:47.625053Z",
     "iopub.status.busy": "2025-08-07T10:33:47.624331Z",
     "iopub.status.idle": "2025-08-07T10:33:50.189213Z",
     "shell.execute_reply": "2025-08-07T10:33:50.188108Z"
    },
    "papermill": {
     "duration": 2.589938,
     "end_time": "2025-08-07T10:33:50.190781",
     "exception": false,
     "start_time": "2025-08-07T10:33:47.600843",
     "status": "completed"
    },
    "tags": []
   },
   "outputs": [
    {
     "data": {
      "text/plain": [
       "array([  6.38870838, 155.61062246,  31.7587077 , ..., 270.86268305,\n",
       "        29.34490509,  -8.07428069])"
      ]
     },
     "execution_count": 36,
     "metadata": {},
     "output_type": "execute_result"
    }
   ],
   "source": [
    "y_pred = training_model.predict(X_test)\n",
    "y_pred"
   ]
  },
  {
   "cell_type": "code",
   "execution_count": 37,
   "id": "1946a9ab",
   "metadata": {
    "execution": {
     "iopub.execute_input": "2025-08-07T10:33:50.237011Z",
     "iopub.status.busy": "2025-08-07T10:33:50.236695Z",
     "iopub.status.idle": "2025-08-07T10:33:50.243684Z",
     "shell.execute_reply": "2025-08-07T10:33:50.242827Z"
    },
    "papermill": {
     "duration": 0.031769,
     "end_time": "2025-08-07T10:33:50.245015",
     "exception": false,
     "start_time": "2025-08-07T10:33:50.213246",
     "status": "completed"
    },
    "tags": []
   },
   "outputs": [
    {
     "data": {
      "text/plain": [
       "5158       0.00\n",
       "3831     105.26\n",
       "5117       0.00\n",
       "6326     758.39\n",
       "11359    135.87\n",
       "          ...  \n",
       "10290     74.58\n",
       "13995      0.00\n",
       "9665     241.81\n",
       "2276       0.00\n",
       "4174       0.00\n",
       "Name: SolarRadiation, Length: 2924, dtype: float64"
      ]
     },
     "execution_count": 37,
     "metadata": {},
     "output_type": "execute_result"
    }
   ],
   "source": [
    "y_test"
   ]
  },
  {
   "cell_type": "code",
   "execution_count": 38,
   "id": "c1fcd289",
   "metadata": {
    "execution": {
     "iopub.execute_input": "2025-08-07T10:33:50.291762Z",
     "iopub.status.busy": "2025-08-07T10:33:50.291486Z",
     "iopub.status.idle": "2025-08-07T10:33:50.298090Z",
     "shell.execute_reply": "2025-08-07T10:33:50.297245Z"
    },
    "papermill": {
     "duration": 0.031229,
     "end_time": "2025-08-07T10:33:50.299371",
     "exception": false,
     "start_time": "2025-08-07T10:33:50.268142",
     "status": "completed"
    },
    "tags": []
   },
   "outputs": [],
   "source": [
    "mse = mean_squared_error(y_test, y_pred)\n",
    "mae = mean_absolute_error(y_test, y_pred)\n",
    "r2 = r2_score(y_test, y_pred)\n",
    "rmse = math.sqrt(mse)"
   ]
  },
  {
   "cell_type": "code",
   "execution_count": 39,
   "id": "7a3bcb93",
   "metadata": {
    "execution": {
     "iopub.execute_input": "2025-08-07T10:33:50.345174Z",
     "iopub.status.busy": "2025-08-07T10:33:50.344845Z",
     "iopub.status.idle": "2025-08-07T10:33:50.349848Z",
     "shell.execute_reply": "2025-08-07T10:33:50.348879Z"
    },
    "papermill": {
     "duration": 0.029311,
     "end_time": "2025-08-07T10:33:50.351102",
     "exception": false,
     "start_time": "2025-08-07T10:33:50.321791",
     "status": "completed"
    },
    "tags": []
   },
   "outputs": [
    {
     "name": "stdout",
     "output_type": "stream",
     "text": [
      "MSE Score: 19302.876765595203\n",
      "MAE Score: 86.85392441134871\n",
      "R2 Score: 0.7947343718061464\n",
      "RMSE Score: 138.93479321464153\n"
     ]
    }
   ],
   "source": [
    "print(\"MSE Score:\", mse)\n",
    "print(\"MAE Score:\", mae)\n",
    "print(\"R2 Score:\", r2)\n",
    "print(\"RMSE Score:\", rmse)"
   ]
  },
  {
   "cell_type": "code",
   "execution_count": 40,
   "id": "83bc3222",
   "metadata": {
    "execution": {
     "iopub.execute_input": "2025-08-07T10:33:50.399599Z",
     "iopub.status.busy": "2025-08-07T10:33:50.398847Z",
     "iopub.status.idle": "2025-08-07T10:33:50.409973Z",
     "shell.execute_reply": "2025-08-07T10:33:50.408989Z"
    },
    "papermill": {
     "duration": 0.036,
     "end_time": "2025-08-07T10:33:50.411556",
     "exception": false,
     "start_time": "2025-08-07T10:33:50.375556",
     "status": "completed"
    },
    "tags": []
   },
   "outputs": [
    {
     "name": "stdout",
     "output_type": "stream",
     "text": [
      "✨ New regression model added:\n",
      "   MSE: 19302.876766, R²: 0.794734\n",
      "   Features: 27\n",
      "💾 Registry updated: Model_Training_History/History_Regression.csv\n"
     ]
    }
   ],
   "source": [
    "regression_params = {\n",
    "    'model_name': model_name_for_saving,\n",
    "    'scaler_name': \"StandardScaler\",\n",
    "    'features_list': feature_columns_for_saving,\n",
    "    'target_column': target_name_for_saving,\n",
    "    'mse': mse,\n",
    "    'mae': mae,\n",
    "    'rmse': rmse,\n",
    "    'r2': r2,\n",
    "    'parameters': json.dumps(training_model.get_params())\n",
    "}\n",
    "save_model_performance_if_better('regression', regression_params)"
   ]
  },
  {
   "cell_type": "markdown",
   "id": "cf003756",
   "metadata": {
    "papermill": {
     "duration": 0.022613,
     "end_time": "2025-08-07T10:33:50.456830",
     "exception": false,
     "start_time": "2025-08-07T10:33:50.434217",
     "status": "completed"
    },
    "tags": []
   },
   "source": [
    "### Tuning with Grid Search"
   ]
  },
  {
   "cell_type": "code",
   "execution_count": 41,
   "id": "80f78c62",
   "metadata": {
    "execution": {
     "iopub.execute_input": "2025-08-07T10:33:50.503728Z",
     "iopub.status.busy": "2025-08-07T10:33:50.503344Z",
     "iopub.status.idle": "2025-08-07T10:33:50.507998Z",
     "shell.execute_reply": "2025-08-07T10:33:50.507200Z"
    },
    "papermill": {
     "duration": 0.030073,
     "end_time": "2025-08-07T10:33:50.509599",
     "exception": false,
     "start_time": "2025-08-07T10:33:50.479526",
     "status": "completed"
    },
    "tags": []
   },
   "outputs": [],
   "source": [
    "grid_search = RandomizedSearchCV(\n",
    "    SVR(), \n",
    "    grid_param,\n",
    "    n_iter=number_of_model_for_randomized_grid,\n",
    "    cv=5,\n",
    "    scoring='neg_mean_squared_error',\n",
    "    n_jobs=-1,\n",
    "    verbose=1,\n",
    "    random_state=42\n",
    ")"
   ]
  },
  {
   "cell_type": "code",
   "execution_count": 42,
   "id": "cf1b8aa3",
   "metadata": {
    "execution": {
     "iopub.execute_input": "2025-08-07T10:33:50.557106Z",
     "iopub.status.busy": "2025-08-07T10:33:50.556788Z",
     "iopub.status.idle": "2025-08-07T12:27:50.765690Z",
     "shell.execute_reply": "2025-08-07T12:27:50.764557Z"
    },
    "papermill": {
     "duration": 6840.260494,
     "end_time": "2025-08-07T12:27:50.793596",
     "exception": false,
     "start_time": "2025-08-07T10:33:50.533102",
     "status": "completed"
    },
    "tags": []
   },
   "outputs": [
    {
     "name": "stdout",
     "output_type": "stream",
     "text": [
      "Starting hyperparameter tuning...\n",
      "Fitting 5 folds for each of 130 candidates, totalling 650 fits\n",
      "CPU times: user 4min 34s, sys: 10.5 s, total: 4min 45s\n",
      "Wall time: 1h 54min\n"
     ]
    },
    {
     "data": {
      "text/html": [
       "<style>#sk-container-id-6 {color: black;background-color: white;}#sk-container-id-6 pre{padding: 0;}#sk-container-id-6 div.sk-toggleable {background-color: white;}#sk-container-id-6 label.sk-toggleable__label {cursor: pointer;display: block;width: 100%;margin-bottom: 0;padding: 0.3em;box-sizing: border-box;text-align: center;}#sk-container-id-6 label.sk-toggleable__label-arrow:before {content: \"▸\";float: left;margin-right: 0.25em;color: #696969;}#sk-container-id-6 label.sk-toggleable__label-arrow:hover:before {color: black;}#sk-container-id-6 div.sk-estimator:hover label.sk-toggleable__label-arrow:before {color: black;}#sk-container-id-6 div.sk-toggleable__content {max-height: 0;max-width: 0;overflow: hidden;text-align: left;background-color: #f0f8ff;}#sk-container-id-6 div.sk-toggleable__content pre {margin: 0.2em;color: black;border-radius: 0.25em;background-color: #f0f8ff;}#sk-container-id-6 input.sk-toggleable__control:checked~div.sk-toggleable__content {max-height: 200px;max-width: 100%;overflow: auto;}#sk-container-id-6 input.sk-toggleable__control:checked~label.sk-toggleable__label-arrow:before {content: \"▾\";}#sk-container-id-6 div.sk-estimator input.sk-toggleable__control:checked~label.sk-toggleable__label {background-color: #d4ebff;}#sk-container-id-6 div.sk-label input.sk-toggleable__control:checked~label.sk-toggleable__label {background-color: #d4ebff;}#sk-container-id-6 input.sk-hidden--visually {border: 0;clip: rect(1px 1px 1px 1px);clip: rect(1px, 1px, 1px, 1px);height: 1px;margin: -1px;overflow: hidden;padding: 0;position: absolute;width: 1px;}#sk-container-id-6 div.sk-estimator {font-family: monospace;background-color: #f0f8ff;border: 1px dotted black;border-radius: 0.25em;box-sizing: border-box;margin-bottom: 0.5em;}#sk-container-id-6 div.sk-estimator:hover {background-color: #d4ebff;}#sk-container-id-6 div.sk-parallel-item::after {content: \"\";width: 100%;border-bottom: 1px solid gray;flex-grow: 1;}#sk-container-id-6 div.sk-label:hover label.sk-toggleable__label {background-color: #d4ebff;}#sk-container-id-6 div.sk-serial::before {content: \"\";position: absolute;border-left: 1px solid gray;box-sizing: border-box;top: 0;bottom: 0;left: 50%;z-index: 0;}#sk-container-id-6 div.sk-serial {display: flex;flex-direction: column;align-items: center;background-color: white;padding-right: 0.2em;padding-left: 0.2em;position: relative;}#sk-container-id-6 div.sk-item {position: relative;z-index: 1;}#sk-container-id-6 div.sk-parallel {display: flex;align-items: stretch;justify-content: center;background-color: white;position: relative;}#sk-container-id-6 div.sk-item::before, #sk-container-id-6 div.sk-parallel-item::before {content: \"\";position: absolute;border-left: 1px solid gray;box-sizing: border-box;top: 0;bottom: 0;left: 50%;z-index: -1;}#sk-container-id-6 div.sk-parallel-item {display: flex;flex-direction: column;z-index: 1;position: relative;background-color: white;}#sk-container-id-6 div.sk-parallel-item:first-child::after {align-self: flex-end;width: 50%;}#sk-container-id-6 div.sk-parallel-item:last-child::after {align-self: flex-start;width: 50%;}#sk-container-id-6 div.sk-parallel-item:only-child::after {width: 0;}#sk-container-id-6 div.sk-dashed-wrapped {border: 1px dashed gray;margin: 0 0.4em 0.5em 0.4em;box-sizing: border-box;padding-bottom: 0.4em;background-color: white;}#sk-container-id-6 div.sk-label label {font-family: monospace;font-weight: bold;display: inline-block;line-height: 1.2em;}#sk-container-id-6 div.sk-label-container {text-align: center;}#sk-container-id-6 div.sk-container {/* jupyter's `normalize.less` sets `[hidden] { display: none; }` but bootstrap.min.css set `[hidden] { display: none !important; }` so we also need the `!important` here to be able to override the default hidden behavior on the sphinx rendered scikit-learn.org. See: https://github.com/scikit-learn/scikit-learn/issues/21755 */display: inline-block !important;position: relative;}#sk-container-id-6 div.sk-text-repr-fallback {display: none;}</style><div id=\"sk-container-id-6\" class=\"sk-top-container\"><div class=\"sk-text-repr-fallback\"><pre>RandomizedSearchCV(cv=5, estimator=SVR(), n_iter=130, n_jobs=-1,\n",
       "                   param_distributions={&#x27;C&#x27;: [0.1, 1, 10, 100],\n",
       "                                        &#x27;coef0&#x27;: [0.0, 0.1, 1.0],\n",
       "                                        &#x27;epsilon&#x27;: [0.1, 0.2],\n",
       "                                        &#x27;gamma&#x27;: [&#x27;scale&#x27;, &#x27;auto&#x27;, 0.001, 0.01,\n",
       "                                                  0.1],\n",
       "                                        &#x27;kernel&#x27;: [&#x27;linear&#x27;, &#x27;rbf&#x27;, &#x27;sigmoid&#x27;],\n",
       "                                        &#x27;shrinking&#x27;: [True],\n",
       "                                        &#x27;tol&#x27;: [0.001, 0.0001]},\n",
       "                   random_state=42, scoring=&#x27;neg_mean_squared_error&#x27;,\n",
       "                   verbose=1)</pre><b>In a Jupyter environment, please rerun this cell to show the HTML representation or trust the notebook. <br />On GitHub, the HTML representation is unable to render, please try loading this page with nbviewer.org.</b></div><div class=\"sk-container\" hidden><div class=\"sk-item sk-dashed-wrapped\"><div class=\"sk-label-container\"><div class=\"sk-label sk-toggleable\"><input class=\"sk-toggleable__control sk-hidden--visually\" id=\"sk-estimator-id-8\" type=\"checkbox\" ><label for=\"sk-estimator-id-8\" class=\"sk-toggleable__label sk-toggleable__label-arrow\">RandomizedSearchCV</label><div class=\"sk-toggleable__content\"><pre>RandomizedSearchCV(cv=5, estimator=SVR(), n_iter=130, n_jobs=-1,\n",
       "                   param_distributions={&#x27;C&#x27;: [0.1, 1, 10, 100],\n",
       "                                        &#x27;coef0&#x27;: [0.0, 0.1, 1.0],\n",
       "                                        &#x27;epsilon&#x27;: [0.1, 0.2],\n",
       "                                        &#x27;gamma&#x27;: [&#x27;scale&#x27;, &#x27;auto&#x27;, 0.001, 0.01,\n",
       "                                                  0.1],\n",
       "                                        &#x27;kernel&#x27;: [&#x27;linear&#x27;, &#x27;rbf&#x27;, &#x27;sigmoid&#x27;],\n",
       "                                        &#x27;shrinking&#x27;: [True],\n",
       "                                        &#x27;tol&#x27;: [0.001, 0.0001]},\n",
       "                   random_state=42, scoring=&#x27;neg_mean_squared_error&#x27;,\n",
       "                   verbose=1)</pre></div></div></div><div class=\"sk-parallel\"><div class=\"sk-parallel-item\"><div class=\"sk-item\"><div class=\"sk-label-container\"><div class=\"sk-label sk-toggleable\"><input class=\"sk-toggleable__control sk-hidden--visually\" id=\"sk-estimator-id-9\" type=\"checkbox\" ><label for=\"sk-estimator-id-9\" class=\"sk-toggleable__label sk-toggleable__label-arrow\">estimator: SVR</label><div class=\"sk-toggleable__content\"><pre>SVR()</pre></div></div></div><div class=\"sk-serial\"><div class=\"sk-item\"><div class=\"sk-estimator sk-toggleable\"><input class=\"sk-toggleable__control sk-hidden--visually\" id=\"sk-estimator-id-10\" type=\"checkbox\" ><label for=\"sk-estimator-id-10\" class=\"sk-toggleable__label sk-toggleable__label-arrow\">SVR</label><div class=\"sk-toggleable__content\"><pre>SVR()</pre></div></div></div></div></div></div></div></div></div></div>"
      ],
      "text/plain": [
       "RandomizedSearchCV(cv=5, estimator=SVR(), n_iter=130, n_jobs=-1,\n",
       "                   param_distributions={'C': [0.1, 1, 10, 100],\n",
       "                                        'coef0': [0.0, 0.1, 1.0],\n",
       "                                        'epsilon': [0.1, 0.2],\n",
       "                                        'gamma': ['scale', 'auto', 0.001, 0.01,\n",
       "                                                  0.1],\n",
       "                                        'kernel': ['linear', 'rbf', 'sigmoid'],\n",
       "                                        'shrinking': [True],\n",
       "                                        'tol': [0.001, 0.0001]},\n",
       "                   random_state=42, scoring='neg_mean_squared_error',\n",
       "                   verbose=1)"
      ]
     },
     "execution_count": 42,
     "metadata": {},
     "output_type": "execute_result"
    }
   ],
   "source": [
    "%%time\n",
    "print(\"Starting hyperparameter tuning...\")\n",
    "grid_search.fit(X_train, y_train)"
   ]
  },
  {
   "cell_type": "code",
   "execution_count": 43,
   "id": "e17e1c7c",
   "metadata": {
    "execution": {
     "iopub.execute_input": "2025-08-07T12:27:50.842272Z",
     "iopub.status.busy": "2025-08-07T12:27:50.841918Z",
     "iopub.status.idle": "2025-08-07T12:27:50.848787Z",
     "shell.execute_reply": "2025-08-07T12:27:50.847886Z"
    },
    "papermill": {
     "duration": 0.033257,
     "end_time": "2025-08-07T12:27:50.850106",
     "exception": false,
     "start_time": "2025-08-07T12:27:50.816849",
     "status": "completed"
    },
    "tags": []
   },
   "outputs": [
    {
     "name": "stdout",
     "output_type": "stream",
     "text": [
      "TUNING RESULTS\n",
      "==================================================\n",
      "Best Parameters: {'tol': 0.001, 'shrinking': True, 'kernel': 'linear', 'gamma': 'auto', 'epsilon': 0.2, 'coef0': 0.1, 'C': 100}\n",
      "Best Cross-Validation Score (Negative MSE): -307.445542040187\n",
      "Best Cross-Validation Score (MSE): 307.445542040187\n",
      "Best Cross-Validation Score (RMSE): 17.534125071989962\n"
     ]
    }
   ],
   "source": [
    "print(\"TUNING RESULTS\")\n",
    "print(\"=\"*50)\n",
    "print(\"Best Parameters:\", grid_search.best_params_)\n",
    "print(\"Best Cross-Validation Score (Negative MSE):\", grid_search.best_score_)\n",
    "print(\"Best Cross-Validation Score (MSE):\", -grid_search.best_score_)\n",
    "print(\"Best Cross-Validation Score (RMSE):\", math.sqrt(-grid_search.best_score_))\n",
    "\n",
    "# Use the best parameters to train the robust scaler model\n",
    "grid_param_standard = {k: [v] for k, v in grid_search.best_params_.items()}"
   ]
  },
  {
   "cell_type": "code",
   "execution_count": 44,
   "id": "0af5caa5",
   "metadata": {
    "execution": {
     "iopub.execute_input": "2025-08-07T12:27:50.899225Z",
     "iopub.status.busy": "2025-08-07T12:27:50.898884Z",
     "iopub.status.idle": "2025-08-07T12:27:51.560043Z",
     "shell.execute_reply": "2025-08-07T12:27:51.559046Z"
    },
    "papermill": {
     "duration": 0.687405,
     "end_time": "2025-08-07T12:27:51.561710",
     "exception": false,
     "start_time": "2025-08-07T12:27:50.874305",
     "status": "completed"
    },
    "tags": []
   },
   "outputs": [],
   "source": [
    "grid_search_best_model = grid_search.best_estimator_\n",
    "y_pred = grid_search_best_model.predict(X_test)"
   ]
  },
  {
   "cell_type": "code",
   "execution_count": 45,
   "id": "5d047ab7",
   "metadata": {
    "execution": {
     "iopub.execute_input": "2025-08-07T12:27:51.610811Z",
     "iopub.status.busy": "2025-08-07T12:27:51.610411Z",
     "iopub.status.idle": "2025-08-07T12:27:51.618064Z",
     "shell.execute_reply": "2025-08-07T12:27:51.617208Z"
    },
    "papermill": {
     "duration": 0.033631,
     "end_time": "2025-08-07T12:27:51.619684",
     "exception": false,
     "start_time": "2025-08-07T12:27:51.586053",
     "status": "completed"
    },
    "tags": []
   },
   "outputs": [],
   "source": [
    "mse_grid_search = mean_squared_error(y_test, y_pred)\n",
    "mae_grid_search = mean_absolute_error(y_test, y_pred)\n",
    "r2_grid_search = r2_score(y_test, y_pred)\n",
    "rmse_grid_search = math.sqrt(mse_grid_search)"
   ]
  },
  {
   "cell_type": "code",
   "execution_count": 46,
   "id": "100035e3",
   "metadata": {
    "execution": {
     "iopub.execute_input": "2025-08-07T12:27:51.669402Z",
     "iopub.status.busy": "2025-08-07T12:27:51.668791Z",
     "iopub.status.idle": "2025-08-07T12:27:51.673936Z",
     "shell.execute_reply": "2025-08-07T12:27:51.673004Z"
    },
    "papermill": {
     "duration": 0.031765,
     "end_time": "2025-08-07T12:27:51.675517",
     "exception": false,
     "start_time": "2025-08-07T12:27:51.643752",
     "status": "completed"
    },
    "tags": []
   },
   "outputs": [
    {
     "name": "stdout",
     "output_type": "stream",
     "text": [
      "MSE Score: 320.79482947524065\n",
      "MAE Score: 11.182008762762084\n",
      "R2 Score: 0.9965886871167856\n",
      "RMSE Score: 17.91074620096105\n"
     ]
    }
   ],
   "source": [
    "print(\"MSE Score:\", mse_grid_search)\n",
    "print(\"MAE Score:\", mae_grid_search)\n",
    "print(\"R2 Score:\", r2_grid_search)\n",
    "print(\"RMSE Score:\", rmse_grid_search)"
   ]
  },
  {
   "cell_type": "code",
   "execution_count": 47,
   "id": "154ffc88",
   "metadata": {
    "execution": {
     "iopub.execute_input": "2025-08-07T12:27:51.726193Z",
     "iopub.status.busy": "2025-08-07T12:27:51.725256Z",
     "iopub.status.idle": "2025-08-07T12:27:51.743316Z",
     "shell.execute_reply": "2025-08-07T12:27:51.741507Z"
    },
    "papermill": {
     "duration": 0.046425,
     "end_time": "2025-08-07T12:27:51.745190",
     "exception": false,
     "start_time": "2025-08-07T12:27:51.698765",
     "status": "completed"
    },
    "tags": []
   },
   "outputs": [
    {
     "name": "stdout",
     "output_type": "stream",
     "text": [
      "✨ New regression model added:\n",
      "   MSE: 320.794829, R²: 0.996589\n",
      "   Features: 27\n",
      "💾 Registry updated: Model_Training_History/History_Regression.csv\n"
     ]
    }
   ],
   "source": [
    "regression_params = {\n",
    "    'model_name': model_name_for_saving + \" Tuned\",\n",
    "    'scaler_name': \"StandardScaler\",\n",
    "    'features_list': feature_columns_for_saving,\n",
    "    'target_column': target_name_for_saving,\n",
    "    'mse': mse_grid_search,\n",
    "    'mae': mae_grid_search,\n",
    "    'rmse': rmse_grid_search,\n",
    "    'r2': r2_grid_search,\n",
    "    'parameters' : json.dumps({\n",
    "        \"best_params\": grid_search.best_params_,\n",
    "        \"cv_score\": grid_search.best_score_,\n",
    "        \"all_params\": grid_search_best_model.get_params()\n",
    "    })\n",
    "}\n",
    "save_model_performance_if_better('regression', regression_params)"
   ]
  },
  {
   "cell_type": "markdown",
   "id": "f6c3670f",
   "metadata": {
    "papermill": {
     "duration": 0.023016,
     "end_time": "2025-08-07T12:27:51.792259",
     "exception": false,
     "start_time": "2025-08-07T12:27:51.769243",
     "status": "completed"
    },
    "tags": []
   },
   "source": [
    "## Robust Scaler"
   ]
  },
  {
   "cell_type": "code",
   "execution_count": 48,
   "id": "d94fc45f",
   "metadata": {
    "execution": {
     "iopub.execute_input": "2025-08-07T12:27:51.841237Z",
     "iopub.status.busy": "2025-08-07T12:27:51.840881Z",
     "iopub.status.idle": "2025-08-07T12:27:51.871944Z",
     "shell.execute_reply": "2025-08-07T12:27:51.871001Z"
    },
    "papermill": {
     "duration": 0.057063,
     "end_time": "2025-08-07T12:27:51.873592",
     "exception": false,
     "start_time": "2025-08-07T12:27:51.816529",
     "status": "completed"
    },
    "tags": []
   },
   "outputs": [],
   "source": [
    "scaler = RobustScaler()\n",
    "X_train = scaler.fit_transform(X_train_raw)\n",
    "X_test = scaler.transform(X_test_raw)"
   ]
  },
  {
   "cell_type": "code",
   "execution_count": 49,
   "id": "829e64af",
   "metadata": {
    "execution": {
     "iopub.execute_input": "2025-08-07T12:27:51.922299Z",
     "iopub.status.busy": "2025-08-07T12:27:51.921923Z",
     "iopub.status.idle": "2025-08-07T12:27:51.928404Z",
     "shell.execute_reply": "2025-08-07T12:27:51.927503Z"
    },
    "papermill": {
     "duration": 0.033279,
     "end_time": "2025-08-07T12:27:51.930060",
     "exception": false,
     "start_time": "2025-08-07T12:27:51.896781",
     "status": "completed"
    },
    "tags": []
   },
   "outputs": [
    {
     "data": {
      "text/plain": [
       "array([[ 0.6       ,  0.66666667, -0.16666667, ..., -0.03738547,\n",
       "         1.44008264,  8.87596899],\n",
       "       [ 1.        , -0.46666667,  0.33333333, ..., -0.84268652,\n",
       "         0.62603306,  0.        ],\n",
       "       [-0.8       , -0.13333333, -1.        , ..., -0.84268652,\n",
       "         0.        ,  0.        ],\n",
       "       ...,\n",
       "       [ 0.4       ,  0.73333333, -0.16666667, ...,  0.5899051 ,\n",
       "         0.6322314 ,  0.75193798],\n",
       "       [-1.        , -0.2       ,  0.75      , ..., -0.84268652,\n",
       "         0.        ,  0.        ],\n",
       "       [ 0.6       , -0.46666667, -0.33333333, ...,  0.61755563,\n",
       "         0.59917355,  7.5       ]])"
      ]
     },
     "execution_count": 49,
     "metadata": {},
     "output_type": "execute_result"
    }
   ],
   "source": [
    "X_train"
   ]
  },
  {
   "cell_type": "code",
   "execution_count": 50,
   "id": "0692099f",
   "metadata": {
    "execution": {
     "iopub.execute_input": "2025-08-07T12:27:51.982031Z",
     "iopub.status.busy": "2025-08-07T12:27:51.981750Z",
     "iopub.status.idle": "2025-08-07T12:27:51.988893Z",
     "shell.execute_reply": "2025-08-07T12:27:51.987975Z"
    },
    "papermill": {
     "duration": 0.034954,
     "end_time": "2025-08-07T12:27:51.990605",
     "exception": false,
     "start_time": "2025-08-07T12:27:51.955651",
     "status": "completed"
    },
    "tags": []
   },
   "outputs": [
    {
     "data": {
      "text/plain": [
       "array([[ 4.00000000e-01, -8.66666667e-01,  8.33333333e-01, ...,\n",
       "         6.20009817e-01,  0.00000000e+00,  0.00000000e+00],\n",
       "       [ 0.00000000e+00, -4.66666667e-01,  2.50000000e-01, ...,\n",
       "         7.40592277e-01,  1.52892562e-01,  0.00000000e+00],\n",
       "       [ 4.00000000e-01, -9.33333333e-01, -5.83333333e-01, ...,\n",
       "         7.82804319e-01,  0.00000000e+00,  0.00000000e+00],\n",
       "       ...,\n",
       "       [-8.00000000e-01, -6.00000000e-01,  4.16666667e-01, ...,\n",
       "        -8.40559555e-01,  4.19421488e-01,  0.00000000e+00],\n",
       "       [-4.00000000e-01, -7.33333333e-01,  6.66666667e-01, ...,\n",
       "        -8.42686518e-01,  0.00000000e+00,  6.67829457e+00],\n",
       "       [ 0.00000000e+00,  4.66666667e-01,  8.33333333e-01, ...,\n",
       "         1.71793194e-03,  0.00000000e+00,  0.00000000e+00]])"
      ]
     },
     "execution_count": 50,
     "metadata": {},
     "output_type": "execute_result"
    }
   ],
   "source": [
    "X_test"
   ]
  },
  {
   "cell_type": "markdown",
   "id": "4ee2b48d",
   "metadata": {
    "papermill": {
     "duration": 0.024541,
     "end_time": "2025-08-07T12:27:52.039326",
     "exception": false,
     "start_time": "2025-08-07T12:27:52.014785",
     "status": "completed"
    },
    "tags": []
   },
   "source": [
    "### Default Parameters"
   ]
  },
  {
   "cell_type": "code",
   "execution_count": 51,
   "id": "c2901b2d",
   "metadata": {
    "execution": {
     "iopub.execute_input": "2025-08-07T12:27:52.089463Z",
     "iopub.status.busy": "2025-08-07T12:27:52.088775Z",
     "iopub.status.idle": "2025-08-07T12:27:52.095102Z",
     "shell.execute_reply": "2025-08-07T12:27:52.094325Z"
    },
    "papermill": {
     "duration": 0.032158,
     "end_time": "2025-08-07T12:27:52.096643",
     "exception": false,
     "start_time": "2025-08-07T12:27:52.064485",
     "status": "completed"
    },
    "tags": []
   },
   "outputs": [
    {
     "data": {
      "text/html": [
       "<style>#sk-container-id-7 {color: black;background-color: white;}#sk-container-id-7 pre{padding: 0;}#sk-container-id-7 div.sk-toggleable {background-color: white;}#sk-container-id-7 label.sk-toggleable__label {cursor: pointer;display: block;width: 100%;margin-bottom: 0;padding: 0.3em;box-sizing: border-box;text-align: center;}#sk-container-id-7 label.sk-toggleable__label-arrow:before {content: \"▸\";float: left;margin-right: 0.25em;color: #696969;}#sk-container-id-7 label.sk-toggleable__label-arrow:hover:before {color: black;}#sk-container-id-7 div.sk-estimator:hover label.sk-toggleable__label-arrow:before {color: black;}#sk-container-id-7 div.sk-toggleable__content {max-height: 0;max-width: 0;overflow: hidden;text-align: left;background-color: #f0f8ff;}#sk-container-id-7 div.sk-toggleable__content pre {margin: 0.2em;color: black;border-radius: 0.25em;background-color: #f0f8ff;}#sk-container-id-7 input.sk-toggleable__control:checked~div.sk-toggleable__content {max-height: 200px;max-width: 100%;overflow: auto;}#sk-container-id-7 input.sk-toggleable__control:checked~label.sk-toggleable__label-arrow:before {content: \"▾\";}#sk-container-id-7 div.sk-estimator input.sk-toggleable__control:checked~label.sk-toggleable__label {background-color: #d4ebff;}#sk-container-id-7 div.sk-label input.sk-toggleable__control:checked~label.sk-toggleable__label {background-color: #d4ebff;}#sk-container-id-7 input.sk-hidden--visually {border: 0;clip: rect(1px 1px 1px 1px);clip: rect(1px, 1px, 1px, 1px);height: 1px;margin: -1px;overflow: hidden;padding: 0;position: absolute;width: 1px;}#sk-container-id-7 div.sk-estimator {font-family: monospace;background-color: #f0f8ff;border: 1px dotted black;border-radius: 0.25em;box-sizing: border-box;margin-bottom: 0.5em;}#sk-container-id-7 div.sk-estimator:hover {background-color: #d4ebff;}#sk-container-id-7 div.sk-parallel-item::after {content: \"\";width: 100%;border-bottom: 1px solid gray;flex-grow: 1;}#sk-container-id-7 div.sk-label:hover label.sk-toggleable__label {background-color: #d4ebff;}#sk-container-id-7 div.sk-serial::before {content: \"\";position: absolute;border-left: 1px solid gray;box-sizing: border-box;top: 0;bottom: 0;left: 50%;z-index: 0;}#sk-container-id-7 div.sk-serial {display: flex;flex-direction: column;align-items: center;background-color: white;padding-right: 0.2em;padding-left: 0.2em;position: relative;}#sk-container-id-7 div.sk-item {position: relative;z-index: 1;}#sk-container-id-7 div.sk-parallel {display: flex;align-items: stretch;justify-content: center;background-color: white;position: relative;}#sk-container-id-7 div.sk-item::before, #sk-container-id-7 div.sk-parallel-item::before {content: \"\";position: absolute;border-left: 1px solid gray;box-sizing: border-box;top: 0;bottom: 0;left: 50%;z-index: -1;}#sk-container-id-7 div.sk-parallel-item {display: flex;flex-direction: column;z-index: 1;position: relative;background-color: white;}#sk-container-id-7 div.sk-parallel-item:first-child::after {align-self: flex-end;width: 50%;}#sk-container-id-7 div.sk-parallel-item:last-child::after {align-self: flex-start;width: 50%;}#sk-container-id-7 div.sk-parallel-item:only-child::after {width: 0;}#sk-container-id-7 div.sk-dashed-wrapped {border: 1px dashed gray;margin: 0 0.4em 0.5em 0.4em;box-sizing: border-box;padding-bottom: 0.4em;background-color: white;}#sk-container-id-7 div.sk-label label {font-family: monospace;font-weight: bold;display: inline-block;line-height: 1.2em;}#sk-container-id-7 div.sk-label-container {text-align: center;}#sk-container-id-7 div.sk-container {/* jupyter's `normalize.less` sets `[hidden] { display: none; }` but bootstrap.min.css set `[hidden] { display: none !important; }` so we also need the `!important` here to be able to override the default hidden behavior on the sphinx rendered scikit-learn.org. See: https://github.com/scikit-learn/scikit-learn/issues/21755 */display: inline-block !important;position: relative;}#sk-container-id-7 div.sk-text-repr-fallback {display: none;}</style><div id=\"sk-container-id-7\" class=\"sk-top-container\"><div class=\"sk-text-repr-fallback\"><pre>SVR()</pre><b>In a Jupyter environment, please rerun this cell to show the HTML representation or trust the notebook. <br />On GitHub, the HTML representation is unable to render, please try loading this page with nbviewer.org.</b></div><div class=\"sk-container\" hidden><div class=\"sk-item\"><div class=\"sk-estimator sk-toggleable\"><input class=\"sk-toggleable__control sk-hidden--visually\" id=\"sk-estimator-id-11\" type=\"checkbox\" checked><label for=\"sk-estimator-id-11\" class=\"sk-toggleable__label sk-toggleable__label-arrow\">SVR</label><div class=\"sk-toggleable__content\"><pre>SVR()</pre></div></div></div></div></div>"
      ],
      "text/plain": [
       "SVR()"
      ]
     },
     "execution_count": 51,
     "metadata": {},
     "output_type": "execute_result"
    }
   ],
   "source": [
    "training_model = SVR()\n",
    "training_model"
   ]
  },
  {
   "cell_type": "code",
   "execution_count": 52,
   "id": "85bf2838",
   "metadata": {
    "execution": {
     "iopub.execute_input": "2025-08-07T12:27:52.283485Z",
     "iopub.status.busy": "2025-08-07T12:27:52.282642Z",
     "iopub.status.idle": "2025-08-07T12:28:01.415194Z",
     "shell.execute_reply": "2025-08-07T12:28:01.414405Z"
    },
    "papermill": {
     "duration": 9.295346,
     "end_time": "2025-08-07T12:28:01.416708",
     "exception": false,
     "start_time": "2025-08-07T12:27:52.121362",
     "status": "completed"
    },
    "tags": []
   },
   "outputs": [
    {
     "name": "stdout",
     "output_type": "stream",
     "text": [
      "CPU times: user 9.11 s, sys: 0 ns, total: 9.11 s\n",
      "Wall time: 9.13 s\n"
     ]
    },
    {
     "data": {
      "text/html": [
       "<style>#sk-container-id-8 {color: black;background-color: white;}#sk-container-id-8 pre{padding: 0;}#sk-container-id-8 div.sk-toggleable {background-color: white;}#sk-container-id-8 label.sk-toggleable__label {cursor: pointer;display: block;width: 100%;margin-bottom: 0;padding: 0.3em;box-sizing: border-box;text-align: center;}#sk-container-id-8 label.sk-toggleable__label-arrow:before {content: \"▸\";float: left;margin-right: 0.25em;color: #696969;}#sk-container-id-8 label.sk-toggleable__label-arrow:hover:before {color: black;}#sk-container-id-8 div.sk-estimator:hover label.sk-toggleable__label-arrow:before {color: black;}#sk-container-id-8 div.sk-toggleable__content {max-height: 0;max-width: 0;overflow: hidden;text-align: left;background-color: #f0f8ff;}#sk-container-id-8 div.sk-toggleable__content pre {margin: 0.2em;color: black;border-radius: 0.25em;background-color: #f0f8ff;}#sk-container-id-8 input.sk-toggleable__control:checked~div.sk-toggleable__content {max-height: 200px;max-width: 100%;overflow: auto;}#sk-container-id-8 input.sk-toggleable__control:checked~label.sk-toggleable__label-arrow:before {content: \"▾\";}#sk-container-id-8 div.sk-estimator input.sk-toggleable__control:checked~label.sk-toggleable__label {background-color: #d4ebff;}#sk-container-id-8 div.sk-label input.sk-toggleable__control:checked~label.sk-toggleable__label {background-color: #d4ebff;}#sk-container-id-8 input.sk-hidden--visually {border: 0;clip: rect(1px 1px 1px 1px);clip: rect(1px, 1px, 1px, 1px);height: 1px;margin: -1px;overflow: hidden;padding: 0;position: absolute;width: 1px;}#sk-container-id-8 div.sk-estimator {font-family: monospace;background-color: #f0f8ff;border: 1px dotted black;border-radius: 0.25em;box-sizing: border-box;margin-bottom: 0.5em;}#sk-container-id-8 div.sk-estimator:hover {background-color: #d4ebff;}#sk-container-id-8 div.sk-parallel-item::after {content: \"\";width: 100%;border-bottom: 1px solid gray;flex-grow: 1;}#sk-container-id-8 div.sk-label:hover label.sk-toggleable__label {background-color: #d4ebff;}#sk-container-id-8 div.sk-serial::before {content: \"\";position: absolute;border-left: 1px solid gray;box-sizing: border-box;top: 0;bottom: 0;left: 50%;z-index: 0;}#sk-container-id-8 div.sk-serial {display: flex;flex-direction: column;align-items: center;background-color: white;padding-right: 0.2em;padding-left: 0.2em;position: relative;}#sk-container-id-8 div.sk-item {position: relative;z-index: 1;}#sk-container-id-8 div.sk-parallel {display: flex;align-items: stretch;justify-content: center;background-color: white;position: relative;}#sk-container-id-8 div.sk-item::before, #sk-container-id-8 div.sk-parallel-item::before {content: \"\";position: absolute;border-left: 1px solid gray;box-sizing: border-box;top: 0;bottom: 0;left: 50%;z-index: -1;}#sk-container-id-8 div.sk-parallel-item {display: flex;flex-direction: column;z-index: 1;position: relative;background-color: white;}#sk-container-id-8 div.sk-parallel-item:first-child::after {align-self: flex-end;width: 50%;}#sk-container-id-8 div.sk-parallel-item:last-child::after {align-self: flex-start;width: 50%;}#sk-container-id-8 div.sk-parallel-item:only-child::after {width: 0;}#sk-container-id-8 div.sk-dashed-wrapped {border: 1px dashed gray;margin: 0 0.4em 0.5em 0.4em;box-sizing: border-box;padding-bottom: 0.4em;background-color: white;}#sk-container-id-8 div.sk-label label {font-family: monospace;font-weight: bold;display: inline-block;line-height: 1.2em;}#sk-container-id-8 div.sk-label-container {text-align: center;}#sk-container-id-8 div.sk-container {/* jupyter's `normalize.less` sets `[hidden] { display: none; }` but bootstrap.min.css set `[hidden] { display: none !important; }` so we also need the `!important` here to be able to override the default hidden behavior on the sphinx rendered scikit-learn.org. See: https://github.com/scikit-learn/scikit-learn/issues/21755 */display: inline-block !important;position: relative;}#sk-container-id-8 div.sk-text-repr-fallback {display: none;}</style><div id=\"sk-container-id-8\" class=\"sk-top-container\"><div class=\"sk-text-repr-fallback\"><pre>SVR()</pre><b>In a Jupyter environment, please rerun this cell to show the HTML representation or trust the notebook. <br />On GitHub, the HTML representation is unable to render, please try loading this page with nbviewer.org.</b></div><div class=\"sk-container\" hidden><div class=\"sk-item\"><div class=\"sk-estimator sk-toggleable\"><input class=\"sk-toggleable__control sk-hidden--visually\" id=\"sk-estimator-id-12\" type=\"checkbox\" checked><label for=\"sk-estimator-id-12\" class=\"sk-toggleable__label sk-toggleable__label-arrow\">SVR</label><div class=\"sk-toggleable__content\"><pre>SVR()</pre></div></div></div></div></div>"
      ],
      "text/plain": [
       "SVR()"
      ]
     },
     "execution_count": 52,
     "metadata": {},
     "output_type": "execute_result"
    }
   ],
   "source": [
    "%%time\n",
    "training_model.fit(X_train, y_train)"
   ]
  },
  {
   "cell_type": "code",
   "execution_count": 53,
   "id": "68dd9c48",
   "metadata": {
    "execution": {
     "iopub.execute_input": "2025-08-07T12:28:01.466749Z",
     "iopub.status.busy": "2025-08-07T12:28:01.466414Z",
     "iopub.status.idle": "2025-08-07T12:28:04.038112Z",
     "shell.execute_reply": "2025-08-07T12:28:04.037293Z"
    },
    "papermill": {
     "duration": 2.59856,
     "end_time": "2025-08-07T12:28:04.039800",
     "exception": false,
     "start_time": "2025-08-07T12:28:01.441240",
     "status": "completed"
    },
    "tags": []
   },
   "outputs": [
    {
     "data": {
      "text/plain": [
       "array([ 6.33906753, 15.33186222,  6.82730625, ...,  7.30179843,\n",
       "       17.5974477 ,  6.40752979])"
      ]
     },
     "execution_count": 53,
     "metadata": {},
     "output_type": "execute_result"
    }
   ],
   "source": [
    "y_pred = training_model.predict(X_test)\n",
    "y_pred"
   ]
  },
  {
   "cell_type": "code",
   "execution_count": 54,
   "id": "311012a7",
   "metadata": {
    "execution": {
     "iopub.execute_input": "2025-08-07T12:28:04.088704Z",
     "iopub.status.busy": "2025-08-07T12:28:04.088425Z",
     "iopub.status.idle": "2025-08-07T12:28:04.095447Z",
     "shell.execute_reply": "2025-08-07T12:28:04.094530Z"
    },
    "papermill": {
     "duration": 0.033019,
     "end_time": "2025-08-07T12:28:04.096796",
     "exception": false,
     "start_time": "2025-08-07T12:28:04.063777",
     "status": "completed"
    },
    "tags": []
   },
   "outputs": [
    {
     "data": {
      "text/plain": [
       "5158       0.00\n",
       "3831     105.26\n",
       "5117       0.00\n",
       "6326     758.39\n",
       "11359    135.87\n",
       "          ...  \n",
       "10290     74.58\n",
       "13995      0.00\n",
       "9665     241.81\n",
       "2276       0.00\n",
       "4174       0.00\n",
       "Name: SolarRadiation, Length: 2924, dtype: float64"
      ]
     },
     "execution_count": 54,
     "metadata": {},
     "output_type": "execute_result"
    }
   ],
   "source": [
    "y_test"
   ]
  },
  {
   "cell_type": "code",
   "execution_count": 55,
   "id": "e79cfd49",
   "metadata": {
    "execution": {
     "iopub.execute_input": "2025-08-07T12:28:04.146878Z",
     "iopub.status.busy": "2025-08-07T12:28:04.146068Z",
     "iopub.status.idle": "2025-08-07T12:28:04.153535Z",
     "shell.execute_reply": "2025-08-07T12:28:04.152532Z"
    },
    "papermill": {
     "duration": 0.034087,
     "end_time": "2025-08-07T12:28:04.155039",
     "exception": false,
     "start_time": "2025-08-07T12:28:04.120952",
     "status": "completed"
    },
    "tags": []
   },
   "outputs": [],
   "source": [
    "mse = mean_squared_error(y_test, y_pred)\n",
    "mae = mean_absolute_error(y_test, y_pred)\n",
    "r2 = r2_score(y_test, y_pred)\n",
    "rmse = math.sqrt(mse)"
   ]
  },
  {
   "cell_type": "code",
   "execution_count": 56,
   "id": "990d4bf2",
   "metadata": {
    "execution": {
     "iopub.execute_input": "2025-08-07T12:28:04.210053Z",
     "iopub.status.busy": "2025-08-07T12:28:04.209770Z",
     "iopub.status.idle": "2025-08-07T12:28:04.215001Z",
     "shell.execute_reply": "2025-08-07T12:28:04.213967Z"
    },
    "papermill": {
     "duration": 0.032968,
     "end_time": "2025-08-07T12:28:04.216773",
     "exception": false,
     "start_time": "2025-08-07T12:28:04.183805",
     "status": "completed"
    },
    "tags": []
   },
   "outputs": [
    {
     "name": "stdout",
     "output_type": "stream",
     "text": [
      "MSE Score: 136148.88175947923\n",
      "MAE Score: 221.52606152007547\n",
      "R2 Score: -0.44779900331029543\n",
      "RMSE Score: 368.98357925452353\n"
     ]
    }
   ],
   "source": [
    "print(\"MSE Score:\", mse)\n",
    "print(\"MAE Score:\", mae)\n",
    "print(\"R2 Score:\", r2)\n",
    "print(\"RMSE Score:\", rmse)"
   ]
  },
  {
   "cell_type": "code",
   "execution_count": 57,
   "id": "727c3282",
   "metadata": {
    "execution": {
     "iopub.execute_input": "2025-08-07T12:28:04.269883Z",
     "iopub.status.busy": "2025-08-07T12:28:04.269615Z",
     "iopub.status.idle": "2025-08-07T12:28:04.281845Z",
     "shell.execute_reply": "2025-08-07T12:28:04.280938Z"
    },
    "papermill": {
     "duration": 0.040018,
     "end_time": "2025-08-07T12:28:04.283552",
     "exception": false,
     "start_time": "2025-08-07T12:28:04.243534",
     "status": "completed"
    },
    "tags": []
   },
   "outputs": [
    {
     "name": "stdout",
     "output_type": "stream",
     "text": [
      "✨ New regression model added:\n",
      "   MSE: 136148.881759, R²: -0.447799\n",
      "   Features: 27\n",
      "💾 Registry updated: Model_Training_History/History_Regression.csv\n"
     ]
    }
   ],
   "source": [
    "regression_params = {\n",
    "    'model_name': model_name_for_saving,\n",
    "    'scaler_name': \"RobustScaler\",\n",
    "    'features_list': feature_columns_for_saving,\n",
    "    'target_column': target_name_for_saving,\n",
    "    'mse': mse,\n",
    "    'mae': mae,\n",
    "    'rmse': rmse,\n",
    "    'r2': r2,\n",
    "    'parameters': json.dumps(training_model.get_params())\n",
    "}\n",
    "save_model_performance_if_better('regression', regression_params)"
   ]
  },
  {
   "cell_type": "markdown",
   "id": "d04bfd30",
   "metadata": {
    "papermill": {
     "duration": 0.023681,
     "end_time": "2025-08-07T12:28:04.331719",
     "exception": false,
     "start_time": "2025-08-07T12:28:04.308038",
     "status": "completed"
    },
    "tags": []
   },
   "source": [
    "### Tuning with Grid Search"
   ]
  },
  {
   "cell_type": "code",
   "execution_count": 58,
   "id": "c5f968dc",
   "metadata": {
    "execution": {
     "iopub.execute_input": "2025-08-07T12:28:04.384195Z",
     "iopub.status.busy": "2025-08-07T12:28:04.383882Z",
     "iopub.status.idle": "2025-08-07T12:28:04.388468Z",
     "shell.execute_reply": "2025-08-07T12:28:04.387556Z"
    },
    "papermill": {
     "duration": 0.03398,
     "end_time": "2025-08-07T12:28:04.389829",
     "exception": false,
     "start_time": "2025-08-07T12:28:04.355849",
     "status": "completed"
    },
    "tags": []
   },
   "outputs": [],
   "source": [
    "grid_param_robust = [grid_param_minmax, grid_param_standard]"
   ]
  },
  {
   "cell_type": "code",
   "execution_count": 59,
   "id": "5b46dc23",
   "metadata": {
    "execution": {
     "iopub.execute_input": "2025-08-07T12:28:04.442580Z",
     "iopub.status.busy": "2025-08-07T12:28:04.442031Z",
     "iopub.status.idle": "2025-08-07T12:28:04.447758Z",
     "shell.execute_reply": "2025-08-07T12:28:04.446334Z"
    },
    "papermill": {
     "duration": 0.035005,
     "end_time": "2025-08-07T12:28:04.449513",
     "exception": false,
     "start_time": "2025-08-07T12:28:04.414508",
     "status": "completed"
    },
    "tags": []
   },
   "outputs": [],
   "source": [
    "grid_search = GridSearchCV(\n",
    "    SVR(), \n",
    "    grid_param_robust, \n",
    "    cv=5, \n",
    "    scoring='neg_mean_squared_error', \n",
    "    n_jobs=-1, # allow parallel processing, you cant use your own laptop while this runs\n",
    "    verbose=1\n",
    ")"
   ]
  },
  {
   "cell_type": "code",
   "execution_count": 60,
   "id": "e9686631",
   "metadata": {
    "execution": {
     "iopub.execute_input": "2025-08-07T12:28:04.501794Z",
     "iopub.status.busy": "2025-08-07T12:28:04.501454Z",
     "iopub.status.idle": "2025-08-07T15:39:26.298219Z",
     "shell.execute_reply": "2025-08-07T15:39:26.297212Z"
    },
    "papermill": {
     "duration": 11481.852975,
     "end_time": "2025-08-07T15:39:26.329035",
     "exception": false,
     "start_time": "2025-08-07T12:28:04.476060",
     "status": "completed"
    },
    "tags": []
   },
   "outputs": [
    {
     "name": "stdout",
     "output_type": "stream",
     "text": [
      "Starting hyperparameter tuning...\n",
      "Fitting 5 folds for each of 2 candidates, totalling 10 fits\n",
      "CPU times: user 51min 5s, sys: 10.9 s, total: 51min 16s\n",
      "Wall time: 3h 11min 21s\n"
     ]
    },
    {
     "data": {
      "text/html": [
       "<style>#sk-container-id-9 {color: black;background-color: white;}#sk-container-id-9 pre{padding: 0;}#sk-container-id-9 div.sk-toggleable {background-color: white;}#sk-container-id-9 label.sk-toggleable__label {cursor: pointer;display: block;width: 100%;margin-bottom: 0;padding: 0.3em;box-sizing: border-box;text-align: center;}#sk-container-id-9 label.sk-toggleable__label-arrow:before {content: \"▸\";float: left;margin-right: 0.25em;color: #696969;}#sk-container-id-9 label.sk-toggleable__label-arrow:hover:before {color: black;}#sk-container-id-9 div.sk-estimator:hover label.sk-toggleable__label-arrow:before {color: black;}#sk-container-id-9 div.sk-toggleable__content {max-height: 0;max-width: 0;overflow: hidden;text-align: left;background-color: #f0f8ff;}#sk-container-id-9 div.sk-toggleable__content pre {margin: 0.2em;color: black;border-radius: 0.25em;background-color: #f0f8ff;}#sk-container-id-9 input.sk-toggleable__control:checked~div.sk-toggleable__content {max-height: 200px;max-width: 100%;overflow: auto;}#sk-container-id-9 input.sk-toggleable__control:checked~label.sk-toggleable__label-arrow:before {content: \"▾\";}#sk-container-id-9 div.sk-estimator input.sk-toggleable__control:checked~label.sk-toggleable__label {background-color: #d4ebff;}#sk-container-id-9 div.sk-label input.sk-toggleable__control:checked~label.sk-toggleable__label {background-color: #d4ebff;}#sk-container-id-9 input.sk-hidden--visually {border: 0;clip: rect(1px 1px 1px 1px);clip: rect(1px, 1px, 1px, 1px);height: 1px;margin: -1px;overflow: hidden;padding: 0;position: absolute;width: 1px;}#sk-container-id-9 div.sk-estimator {font-family: monospace;background-color: #f0f8ff;border: 1px dotted black;border-radius: 0.25em;box-sizing: border-box;margin-bottom: 0.5em;}#sk-container-id-9 div.sk-estimator:hover {background-color: #d4ebff;}#sk-container-id-9 div.sk-parallel-item::after {content: \"\";width: 100%;border-bottom: 1px solid gray;flex-grow: 1;}#sk-container-id-9 div.sk-label:hover label.sk-toggleable__label {background-color: #d4ebff;}#sk-container-id-9 div.sk-serial::before {content: \"\";position: absolute;border-left: 1px solid gray;box-sizing: border-box;top: 0;bottom: 0;left: 50%;z-index: 0;}#sk-container-id-9 div.sk-serial {display: flex;flex-direction: column;align-items: center;background-color: white;padding-right: 0.2em;padding-left: 0.2em;position: relative;}#sk-container-id-9 div.sk-item {position: relative;z-index: 1;}#sk-container-id-9 div.sk-parallel {display: flex;align-items: stretch;justify-content: center;background-color: white;position: relative;}#sk-container-id-9 div.sk-item::before, #sk-container-id-9 div.sk-parallel-item::before {content: \"\";position: absolute;border-left: 1px solid gray;box-sizing: border-box;top: 0;bottom: 0;left: 50%;z-index: -1;}#sk-container-id-9 div.sk-parallel-item {display: flex;flex-direction: column;z-index: 1;position: relative;background-color: white;}#sk-container-id-9 div.sk-parallel-item:first-child::after {align-self: flex-end;width: 50%;}#sk-container-id-9 div.sk-parallel-item:last-child::after {align-self: flex-start;width: 50%;}#sk-container-id-9 div.sk-parallel-item:only-child::after {width: 0;}#sk-container-id-9 div.sk-dashed-wrapped {border: 1px dashed gray;margin: 0 0.4em 0.5em 0.4em;box-sizing: border-box;padding-bottom: 0.4em;background-color: white;}#sk-container-id-9 div.sk-label label {font-family: monospace;font-weight: bold;display: inline-block;line-height: 1.2em;}#sk-container-id-9 div.sk-label-container {text-align: center;}#sk-container-id-9 div.sk-container {/* jupyter's `normalize.less` sets `[hidden] { display: none; }` but bootstrap.min.css set `[hidden] { display: none !important; }` so we also need the `!important` here to be able to override the default hidden behavior on the sphinx rendered scikit-learn.org. See: https://github.com/scikit-learn/scikit-learn/issues/21755 */display: inline-block !important;position: relative;}#sk-container-id-9 div.sk-text-repr-fallback {display: none;}</style><div id=\"sk-container-id-9\" class=\"sk-top-container\"><div class=\"sk-text-repr-fallback\"><pre>GridSearchCV(cv=5, estimator=SVR(), n_jobs=-1,\n",
       "             param_grid=[{&#x27;C&#x27;: [100], &#x27;coef0&#x27;: [0.1], &#x27;epsilon&#x27;: [0.2],\n",
       "                          &#x27;gamma&#x27;: [&#x27;auto&#x27;], &#x27;kernel&#x27;: [&#x27;linear&#x27;],\n",
       "                          &#x27;shrinking&#x27;: [True], &#x27;tol&#x27;: [0.001]},\n",
       "                         {&#x27;C&#x27;: [100], &#x27;coef0&#x27;: [0.1], &#x27;epsilon&#x27;: [0.2],\n",
       "                          &#x27;gamma&#x27;: [&#x27;auto&#x27;], &#x27;kernel&#x27;: [&#x27;linear&#x27;],\n",
       "                          &#x27;shrinking&#x27;: [True], &#x27;tol&#x27;: [0.001]}],\n",
       "             scoring=&#x27;neg_mean_squared_error&#x27;, verbose=1)</pre><b>In a Jupyter environment, please rerun this cell to show the HTML representation or trust the notebook. <br />On GitHub, the HTML representation is unable to render, please try loading this page with nbviewer.org.</b></div><div class=\"sk-container\" hidden><div class=\"sk-item sk-dashed-wrapped\"><div class=\"sk-label-container\"><div class=\"sk-label sk-toggleable\"><input class=\"sk-toggleable__control sk-hidden--visually\" id=\"sk-estimator-id-13\" type=\"checkbox\" ><label for=\"sk-estimator-id-13\" class=\"sk-toggleable__label sk-toggleable__label-arrow\">GridSearchCV</label><div class=\"sk-toggleable__content\"><pre>GridSearchCV(cv=5, estimator=SVR(), n_jobs=-1,\n",
       "             param_grid=[{&#x27;C&#x27;: [100], &#x27;coef0&#x27;: [0.1], &#x27;epsilon&#x27;: [0.2],\n",
       "                          &#x27;gamma&#x27;: [&#x27;auto&#x27;], &#x27;kernel&#x27;: [&#x27;linear&#x27;],\n",
       "                          &#x27;shrinking&#x27;: [True], &#x27;tol&#x27;: [0.001]},\n",
       "                         {&#x27;C&#x27;: [100], &#x27;coef0&#x27;: [0.1], &#x27;epsilon&#x27;: [0.2],\n",
       "                          &#x27;gamma&#x27;: [&#x27;auto&#x27;], &#x27;kernel&#x27;: [&#x27;linear&#x27;],\n",
       "                          &#x27;shrinking&#x27;: [True], &#x27;tol&#x27;: [0.001]}],\n",
       "             scoring=&#x27;neg_mean_squared_error&#x27;, verbose=1)</pre></div></div></div><div class=\"sk-parallel\"><div class=\"sk-parallel-item\"><div class=\"sk-item\"><div class=\"sk-label-container\"><div class=\"sk-label sk-toggleable\"><input class=\"sk-toggleable__control sk-hidden--visually\" id=\"sk-estimator-id-14\" type=\"checkbox\" ><label for=\"sk-estimator-id-14\" class=\"sk-toggleable__label sk-toggleable__label-arrow\">estimator: SVR</label><div class=\"sk-toggleable__content\"><pre>SVR()</pre></div></div></div><div class=\"sk-serial\"><div class=\"sk-item\"><div class=\"sk-estimator sk-toggleable\"><input class=\"sk-toggleable__control sk-hidden--visually\" id=\"sk-estimator-id-15\" type=\"checkbox\" ><label for=\"sk-estimator-id-15\" class=\"sk-toggleable__label sk-toggleable__label-arrow\">SVR</label><div class=\"sk-toggleable__content\"><pre>SVR()</pre></div></div></div></div></div></div></div></div></div></div>"
      ],
      "text/plain": [
       "GridSearchCV(cv=5, estimator=SVR(), n_jobs=-1,\n",
       "             param_grid=[{'C': [100], 'coef0': [0.1], 'epsilon': [0.2],\n",
       "                          'gamma': ['auto'], 'kernel': ['linear'],\n",
       "                          'shrinking': [True], 'tol': [0.001]},\n",
       "                         {'C': [100], 'coef0': [0.1], 'epsilon': [0.2],\n",
       "                          'gamma': ['auto'], 'kernel': ['linear'],\n",
       "                          'shrinking': [True], 'tol': [0.001]}],\n",
       "             scoring='neg_mean_squared_error', verbose=1)"
      ]
     },
     "execution_count": 60,
     "metadata": {},
     "output_type": "execute_result"
    }
   ],
   "source": [
    "%%time\n",
    "print(\"Starting hyperparameter tuning...\")\n",
    "grid_search.fit(X_train, y_train)"
   ]
  },
  {
   "cell_type": "code",
   "execution_count": 61,
   "id": "60c8348b",
   "metadata": {
    "execution": {
     "iopub.execute_input": "2025-08-07T15:39:26.382550Z",
     "iopub.status.busy": "2025-08-07T15:39:26.382189Z",
     "iopub.status.idle": "2025-08-07T15:39:26.389552Z",
     "shell.execute_reply": "2025-08-07T15:39:26.388600Z"
    },
    "papermill": {
     "duration": 0.036463,
     "end_time": "2025-08-07T15:39:26.391230",
     "exception": false,
     "start_time": "2025-08-07T15:39:26.354767",
     "status": "completed"
    },
    "tags": []
   },
   "outputs": [
    {
     "name": "stdout",
     "output_type": "stream",
     "text": [
      "TUNING RESULTS\n",
      "==================================================\n",
      "Best Parameters: {'C': 100, 'coef0': 0.1, 'epsilon': 0.2, 'gamma': 'auto', 'kernel': 'linear', 'shrinking': True, 'tol': 0.001}\n",
      "Best Cross-Validation Score (Negative MSE): -307.3891535668187\n",
      "Best Cross-Validation Score (MSE): 307.3891535668187\n",
      "Best Cross-Validation Score (RMSE): 17.532517034550935\n"
     ]
    }
   ],
   "source": [
    "print(\"TUNING RESULTS\")\n",
    "print(\"=\"*50)\n",
    "print(\"Best Parameters:\", grid_search.best_params_)\n",
    "print(\"Best Cross-Validation Score (Negative MSE):\", grid_search.best_score_)\n",
    "print(\"Best Cross-Validation Score (MSE):\", -grid_search.best_score_)\n",
    "print(\"Best Cross-Validation Score (RMSE):\", math.sqrt(-grid_search.best_score_))"
   ]
  },
  {
   "cell_type": "code",
   "execution_count": 62,
   "id": "271e16c3",
   "metadata": {
    "execution": {
     "iopub.execute_input": "2025-08-07T15:39:26.444976Z",
     "iopub.status.busy": "2025-08-07T15:39:26.444703Z",
     "iopub.status.idle": "2025-08-07T15:39:27.173816Z",
     "shell.execute_reply": "2025-08-07T15:39:27.172575Z"
    },
    "papermill": {
     "duration": 0.758737,
     "end_time": "2025-08-07T15:39:27.175519",
     "exception": false,
     "start_time": "2025-08-07T15:39:26.416782",
     "status": "completed"
    },
    "tags": []
   },
   "outputs": [],
   "source": [
    "grid_search_best_model = grid_search.best_estimator_\n",
    "y_pred = grid_search_best_model.predict(X_test)"
   ]
  },
  {
   "cell_type": "code",
   "execution_count": 63,
   "id": "eb91494b",
   "metadata": {
    "execution": {
     "iopub.execute_input": "2025-08-07T15:39:27.227045Z",
     "iopub.status.busy": "2025-08-07T15:39:27.226726Z",
     "iopub.status.idle": "2025-08-07T15:39:27.235552Z",
     "shell.execute_reply": "2025-08-07T15:39:27.234238Z"
    },
    "papermill": {
     "duration": 0.036636,
     "end_time": "2025-08-07T15:39:27.237012",
     "exception": false,
     "start_time": "2025-08-07T15:39:27.200376",
     "status": "completed"
    },
    "tags": []
   },
   "outputs": [],
   "source": [
    "mse_grid_search = mean_squared_error(y_test, y_pred)\n",
    "mae_grid_search = mean_absolute_error(y_test, y_pred)\n",
    "r2_grid_search = r2_score(y_test, y_pred)\n",
    "rmse_grid_search = math.sqrt(mse_grid_search)"
   ]
  },
  {
   "cell_type": "code",
   "execution_count": 64,
   "id": "5c3b39e8",
   "metadata": {
    "execution": {
     "iopub.execute_input": "2025-08-07T15:39:27.290753Z",
     "iopub.status.busy": "2025-08-07T15:39:27.290406Z",
     "iopub.status.idle": "2025-08-07T15:39:27.295527Z",
     "shell.execute_reply": "2025-08-07T15:39:27.294631Z"
    },
    "papermill": {
     "duration": 0.03386,
     "end_time": "2025-08-07T15:39:27.297008",
     "exception": false,
     "start_time": "2025-08-07T15:39:27.263148",
     "status": "completed"
    },
    "tags": []
   },
   "outputs": [
    {
     "name": "stdout",
     "output_type": "stream",
     "text": [
      "MSE Score: 320.8508119279942\n",
      "MAE Score: 11.19946615524062\n",
      "R2 Score: 0.9965880918027569\n",
      "RMSE Score: 17.91230895021617\n"
     ]
    }
   ],
   "source": [
    "print(\"MSE Score:\", mse_grid_search)\n",
    "print(\"MAE Score:\", mae_grid_search)\n",
    "print(\"R2 Score:\", r2_grid_search)\n",
    "print(\"RMSE Score:\", rmse_grid_search)"
   ]
  },
  {
   "cell_type": "code",
   "execution_count": 65,
   "id": "ab0eeb1b",
   "metadata": {
    "execution": {
     "iopub.execute_input": "2025-08-07T15:39:27.350076Z",
     "iopub.status.busy": "2025-08-07T15:39:27.349798Z",
     "iopub.status.idle": "2025-08-07T15:39:27.365066Z",
     "shell.execute_reply": "2025-08-07T15:39:27.364202Z"
    },
    "papermill": {
     "duration": 0.043786,
     "end_time": "2025-08-07T15:39:27.366704",
     "exception": false,
     "start_time": "2025-08-07T15:39:27.322918",
     "status": "completed"
    },
    "tags": []
   },
   "outputs": [
    {
     "name": "stdout",
     "output_type": "stream",
     "text": [
      "✨ New regression model added:\n",
      "   MSE: 320.850812, R²: 0.996588\n",
      "   Features: 27\n",
      "💾 Registry updated: Model_Training_History/History_Regression.csv\n"
     ]
    }
   ],
   "source": [
    "regression_params = {\n",
    "    'model_name': model_name_for_saving + \" Tuned\",\n",
    "    'scaler_name': \"RobustScaler\",\n",
    "    'features_list': feature_columns_for_saving,\n",
    "    'target_column': target_name_for_saving,\n",
    "    'mse': mse_grid_search,\n",
    "    'mae': mae_grid_search,\n",
    "    'rmse': rmse_grid_search,\n",
    "    'r2': r2_grid_search,\n",
    "    'parameters' : json.dumps({\n",
    "        \"best_params\": grid_search.best_params_,\n",
    "        \"cv_score\": grid_search.best_score_,\n",
    "        \"all_params\": grid_search_best_model.get_params()\n",
    "    })\n",
    "}\n",
    "save_model_performance_if_better('regression', regression_params)"
   ]
  },
  {
   "cell_type": "markdown",
   "id": "bc50ab88",
   "metadata": {
    "papermill": {
     "duration": 0.026066,
     "end_time": "2025-08-07T15:39:27.419002",
     "exception": false,
     "start_time": "2025-08-07T15:39:27.392936",
     "status": "completed"
    },
    "tags": []
   },
   "source": [
    "# Selected Features"
   ]
  },
  {
   "cell_type": "code",
   "execution_count": 66,
   "id": "f3356e00",
   "metadata": {
    "execution": {
     "iopub.execute_input": "2025-08-07T15:39:27.472930Z",
     "iopub.status.busy": "2025-08-07T15:39:27.472161Z",
     "iopub.status.idle": "2025-08-07T15:39:27.529311Z",
     "shell.execute_reply": "2025-08-07T15:39:27.528299Z"
    },
    "papermill": {
     "duration": 0.08517,
     "end_time": "2025-08-07T15:39:27.530888",
     "exception": false,
     "start_time": "2025-08-07T15:39:27.445718",
     "status": "completed"
    },
    "tags": []
   },
   "outputs": [
    {
     "name": "stdout",
     "output_type": "stream",
     "text": [
      "SolarRadiation               1.000000\n",
      "SolarEnergy                  0.999867\n",
      "UVIndex                      0.998315\n",
      "DaySegments_Midday           0.594891\n",
      "Temp                         0.400378\n",
      "FeelsLike                    0.344429\n",
      "DaySegments_Morning          0.244659\n",
      "WindSpeed                    0.216803\n",
      "DaySegments_Afternoon        0.215785\n",
      "WindDir                      0.180924\n",
      "SevereRisk                   0.125829\n",
      "Hour                         0.095598\n",
      "Season_Summer                0.093764\n",
      "Visibility                   0.054367\n",
      "SeaLevelPressure             0.026622\n",
      "Year                         0.021999\n",
      "Dew                          0.013910\n",
      "Day                         -0.001404\n",
      "PrecipProb                  -0.013477\n",
      "Season_Rainy                -0.033059\n",
      "Season_Winter               -0.035395\n",
      "Season_Autumn               -0.035413\n",
      "Precip                      -0.039079\n",
      "CloudCover                  -0.055418\n",
      "Month                       -0.061339\n",
      "Windgust                    -0.100270\n",
      "DaySegments_Early Morning   -0.188121\n",
      "DaySegments_Evening         -0.205857\n",
      "DaySegments_Night           -0.252539\n",
      "DaySegments_Late Night      -0.427502\n",
      "Humidity                    -0.452369\n",
      "Name: SolarRadiation, dtype: float64\n"
     ]
    }
   ],
   "source": [
    "numeric_cols = weather_data.select_dtypes(include=[float, int]).columns\n",
    "correlations = weather_data[numeric_cols].corr()['SolarRadiation'].sort_values(ascending=False)\n",
    "print(correlations)"
   ]
  },
  {
   "cell_type": "code",
   "execution_count": 67,
   "id": "125f9266",
   "metadata": {
    "execution": {
     "iopub.execute_input": "2025-08-07T15:39:27.585020Z",
     "iopub.status.busy": "2025-08-07T15:39:27.584760Z",
     "iopub.status.idle": "2025-08-07T15:39:27.602096Z",
     "shell.execute_reply": "2025-08-07T15:39:27.600877Z"
    },
    "papermill": {
     "duration": 0.047054,
     "end_time": "2025-08-07T15:39:27.603800",
     "exception": false,
     "start_time": "2025-08-07T15:39:27.556746",
     "status": "completed"
    },
    "tags": []
   },
   "outputs": [
    {
     "name": "stdout",
     "output_type": "stream",
     "text": [
      "<class 'pandas.core.frame.DataFrame'>\n",
      "RangeIndex: 14616 entries, 0 to 14615\n",
      "Data columns (total 36 columns):\n",
      " #   Column                     Non-Null Count  Dtype         \n",
      "---  ------                     --------------  -----         \n",
      " 0   DateTime                   14616 non-null  datetime64[ns]\n",
      " 1   Year                       14616 non-null  int64         \n",
      " 2   Month                      14616 non-null  int64         \n",
      " 3   Day                        14616 non-null  int64         \n",
      " 4   Hour                       14616 non-null  int64         \n",
      " 5   DaySegments                14616 non-null  object        \n",
      " 6   DaySegments_Afternoon      14616 non-null  int64         \n",
      " 7   DaySegments_Early Morning  14616 non-null  int64         \n",
      " 8   DaySegments_Evening        14616 non-null  int64         \n",
      " 9   DaySegments_Late Night     14616 non-null  int64         \n",
      " 10  DaySegments_Midday         14616 non-null  int64         \n",
      " 11  DaySegments_Morning        14616 non-null  int64         \n",
      " 12  DaySegments_Night          14616 non-null  int64         \n",
      " 13  Season_Autumn              14616 non-null  int64         \n",
      " 14  Season_Rainy               14616 non-null  int64         \n",
      " 15  Season_Summer              14616 non-null  int64         \n",
      " 16  Season_Winter              14616 non-null  int64         \n",
      " 17  Season                     14616 non-null  object        \n",
      " 18  Temp                       14616 non-null  float64       \n",
      " 19  FeelsLike                  14616 non-null  float64       \n",
      " 20  Dew                        14616 non-null  float64       \n",
      " 21  Humidity                   14616 non-null  float64       \n",
      " 22  Precip                     14616 non-null  float64       \n",
      " 23  PrecipProb                 14616 non-null  float64       \n",
      " 24  Windgust                   14616 non-null  float64       \n",
      " 25  WindSpeed                  14616 non-null  float64       \n",
      " 26  WindDir                    14616 non-null  float64       \n",
      " 27  SeaLevelPressure           14616 non-null  float64       \n",
      " 28  CloudCover                 14616 non-null  float64       \n",
      " 29  UVIndex                    14616 non-null  float64       \n",
      " 30  SevereRisk                 14616 non-null  float64       \n",
      " 31  Visibility                 14616 non-null  float64       \n",
      " 32  SolarRadiation             14616 non-null  float64       \n",
      " 33  SolarEnergy                14616 non-null  float64       \n",
      " 34  Conditions                 14616 non-null  object        \n",
      " 35  Icon                       14616 non-null  object        \n",
      "dtypes: datetime64[ns](1), float64(16), int64(15), object(4)\n",
      "memory usage: 4.0+ MB\n"
     ]
    }
   ],
   "source": [
    "weather_data.info()"
   ]
  },
  {
   "cell_type": "markdown",
   "id": "55e2e023",
   "metadata": {
    "papermill": {
     "duration": 0.02737,
     "end_time": "2025-08-07T15:39:27.656518",
     "exception": false,
     "start_time": "2025-08-07T15:39:27.629148",
     "status": "completed"
    },
    "tags": []
   },
   "source": [
    "## Run Again"
   ]
  },
  {
   "cell_type": "code",
   "execution_count": 68,
   "id": "98c7bf50",
   "metadata": {
    "execution": {
     "iopub.execute_input": "2025-08-07T15:39:27.713614Z",
     "iopub.status.busy": "2025-08-07T15:39:27.713307Z",
     "iopub.status.idle": "2025-08-07T15:39:27.721480Z",
     "shell.execute_reply": "2025-08-07T15:39:27.720359Z"
    },
    "papermill": {
     "duration": 0.040316,
     "end_time": "2025-08-07T15:39:27.723201",
     "exception": false,
     "start_time": "2025-08-07T15:39:27.682885",
     "status": "completed"
    },
    "tags": []
   },
   "outputs": [],
   "source": [
    "X_train_raw = weather_data_train.drop(columns=['DateTime', # Model cannot use DateTime as a feature\n",
    "                                                'Year', # No Effect on weather data\n",
    "                                                'Season', # Season is categorical, not numerical\n",
    "                                                'DaySegments', # DaySegments is categorical, not numerical\n",
    "                                                'Visibility',  # Target variable\n",
    "                                                'SolarRadiation', # Target variable\n",
    "                                                'SolarEnergy', # Target variable\n",
    "                                                'Conditions', # Target variable\n",
    "                                                'Icon', # Target variable\n",
    "                                                \n",
    "                                                'Day', # same day from different month act differently\n",
    "                                                'SeaLevelPressure', # low correlation with Solar Radiation\n",
    "                                                'Dew', # low correlation with Solar Radiation\n",
    "                                                'Precip', # low correlation with Solar Radiation\n",
    "                                                'PrecipProb']) # low correlation with Solar Radiation\n",
    "y_train = weather_data_train['SolarRadiation']"
   ]
  },
  {
   "cell_type": "code",
   "execution_count": 69,
   "id": "9155a40b",
   "metadata": {
    "execution": {
     "iopub.execute_input": "2025-08-07T15:39:27.777361Z",
     "iopub.status.busy": "2025-08-07T15:39:27.776724Z",
     "iopub.status.idle": "2025-08-07T15:39:27.783036Z",
     "shell.execute_reply": "2025-08-07T15:39:27.782080Z"
    },
    "papermill": {
     "duration": 0.035509,
     "end_time": "2025-08-07T15:39:27.784617",
     "exception": false,
     "start_time": "2025-08-07T15:39:27.749108",
     "status": "completed"
    },
    "tags": []
   },
   "outputs": [],
   "source": [
    "X_test_raw = weather_data_test.drop(columns=['DateTime', # Model cannot use DateTime as a feature\n",
    "                                                'Year', # No Effect on weather data\n",
    "                                                'Season', # Season is categorical, not numerical\n",
    "                                                'DaySegments', # DaySegments is categorical, not numerical\n",
    "                                                'Visibility',  # Target variable\n",
    "                                                'SolarRadiation', # Target variable\n",
    "                                                'SolarEnergy', # Target variable\n",
    "                                                'Conditions', # Target variable\n",
    "                                                'Icon', # Target variable\n",
    "                                                \n",
    "                                                'Day', # same day from different month act differently\n",
    "                                                'SeaLevelPressure', # low correlation with Solar Radiation\n",
    "                                                'Dew', # low correlation with Solar Radiation\n",
    "                                                'Precip', # low correlation with Solar Radiation\n",
    "                                                'PrecipProb']) # low correlation with Solar Radiation\n",
    "y_test = weather_data_test['SolarRadiation']"
   ]
  },
  {
   "cell_type": "code",
   "execution_count": 70,
   "id": "cee774b3",
   "metadata": {
    "execution": {
     "iopub.execute_input": "2025-08-07T15:39:27.837447Z",
     "iopub.status.busy": "2025-08-07T15:39:27.837115Z",
     "iopub.status.idle": "2025-08-07T15:39:27.842238Z",
     "shell.execute_reply": "2025-08-07T15:39:27.841100Z"
    },
    "papermill": {
     "duration": 0.032415,
     "end_time": "2025-08-07T15:39:27.843813",
     "exception": false,
     "start_time": "2025-08-07T15:39:27.811398",
     "status": "completed"
    },
    "tags": []
   },
   "outputs": [],
   "source": [
    "feature_columns = [col for col in X_train_raw.columns]\n",
    "feature_columns_for_saving = ','.join(feature_columns)"
   ]
  },
  {
   "cell_type": "code",
   "execution_count": 71,
   "id": "5ebb7cc2",
   "metadata": {
    "execution": {
     "iopub.execute_input": "2025-08-07T15:39:27.899588Z",
     "iopub.status.busy": "2025-08-07T15:39:27.899106Z",
     "iopub.status.idle": "2025-08-07T15:39:27.904617Z",
     "shell.execute_reply": "2025-08-07T15:39:27.903500Z"
    },
    "papermill": {
     "duration": 0.034218,
     "end_time": "2025-08-07T15:39:27.906019",
     "exception": false,
     "start_time": "2025-08-07T15:39:27.871801",
     "status": "completed"
    },
    "tags": []
   },
   "outputs": [
    {
     "name": "stdout",
     "output_type": "stream",
     "text": [
      "X_train:  11692\n",
      "y_train:  11692\n",
      "\n",
      "X_test:  2924\n",
      "y_test:  2924\n"
     ]
    }
   ],
   "source": [
    "print(\"X_train: \", len(X_train_raw))\n",
    "print(\"y_train: \", len(y_train))\n",
    "print(\"\\nX_test: \", len(X_test_raw))\n",
    "print(\"y_test: \", len(y_test))"
   ]
  },
  {
   "cell_type": "markdown",
   "id": "21f10b51",
   "metadata": {
    "papermill": {
     "duration": 0.026275,
     "end_time": "2025-08-07T15:39:27.960113",
     "exception": false,
     "start_time": "2025-08-07T15:39:27.933838",
     "status": "completed"
    },
    "tags": []
   },
   "source": [
    "### MinMax Scaler"
   ]
  },
  {
   "cell_type": "code",
   "execution_count": 72,
   "id": "687692aa",
   "metadata": {
    "execution": {
     "iopub.execute_input": "2025-08-07T15:39:28.018934Z",
     "iopub.status.busy": "2025-08-07T15:39:28.018024Z",
     "iopub.status.idle": "2025-08-07T15:39:28.031462Z",
     "shell.execute_reply": "2025-08-07T15:39:28.030644Z"
    },
    "papermill": {
     "duration": 0.042206,
     "end_time": "2025-08-07T15:39:28.033096",
     "exception": false,
     "start_time": "2025-08-07T15:39:27.990890",
     "status": "completed"
    },
    "tags": []
   },
   "outputs": [],
   "source": [
    "scaler = MinMaxScaler()\n",
    "X_train = scaler.fit_transform(X_train_raw)\n",
    "X_test = scaler.transform(X_test_raw)"
   ]
  },
  {
   "cell_type": "code",
   "execution_count": 73,
   "id": "df5b2154",
   "metadata": {
    "execution": {
     "iopub.execute_input": "2025-08-07T15:39:28.088508Z",
     "iopub.status.busy": "2025-08-07T15:39:28.088115Z",
     "iopub.status.idle": "2025-08-07T15:39:28.095727Z",
     "shell.execute_reply": "2025-08-07T15:39:28.094814Z"
    },
    "papermill": {
     "duration": 0.037744,
     "end_time": "2025-08-07T15:39:28.097422",
     "exception": false,
     "start_time": "2025-08-07T15:39:28.059678",
     "status": "completed"
    },
    "tags": []
   },
   "outputs": [
    {
     "data": {
      "text/plain": [
       "array([[0.72727273, 0.43478261, 0.        , ..., 0.4922    , 0.697     ,\n",
       "        0.31560059],\n",
       "       [0.90909091, 0.69565217, 1.        , ..., 0.        , 0.303     ,\n",
       "        0.07388643],\n",
       "       [0.09090909, 0.        , 0.        , ..., 0.        , 0.        ,\n",
       "        0.07388643],\n",
       "       ...,\n",
       "       [0.63636364, 0.43478261, 0.        , ..., 0.8756    , 0.306     ,\n",
       "        0.09436352],\n",
       "       [0.        , 0.91304348, 0.        , ..., 0.        , 0.        ,\n",
       "        0.07388643],\n",
       "       [0.72727273, 0.34782609, 0.        , ..., 0.8925    , 0.29      ,\n",
       "        0.27812962]])"
      ]
     },
     "execution_count": 73,
     "metadata": {},
     "output_type": "execute_result"
    }
   ],
   "source": [
    "X_train"
   ]
  },
  {
   "cell_type": "code",
   "execution_count": 74,
   "id": "21263a05",
   "metadata": {
    "execution": {
     "iopub.execute_input": "2025-08-07T15:39:28.152175Z",
     "iopub.status.busy": "2025-08-07T15:39:28.151850Z",
     "iopub.status.idle": "2025-08-07T15:39:28.159693Z",
     "shell.execute_reply": "2025-08-07T15:39:28.158286Z"
    },
    "papermill": {
     "duration": 0.037535,
     "end_time": "2025-08-07T15:39:28.161477",
     "exception": false,
     "start_time": "2025-08-07T15:39:28.123942",
     "status": "completed"
    },
    "tags": []
   },
   "outputs": [
    {
     "data": {
      "text/plain": [
       "array([[0.63636364, 0.95652174, 0.        , ..., 0.894     , 0.        ,\n",
       "        0.07388643],\n",
       "       [0.45454545, 0.65217391, 1.        , ..., 0.9677    , 0.074     ,\n",
       "        0.07388643],\n",
       "       [0.63636364, 0.2173913 , 0.        , ..., 0.9935    , 0.        ,\n",
       "        0.07388643],\n",
       "       ...,\n",
       "       [0.09090909, 0.73913043, 1.        , ..., 0.0013    , 0.203     ,\n",
       "        0.07388643],\n",
       "       [0.27272727, 0.86956522, 0.        , ..., 0.        , 0.        ,\n",
       "        0.25575259],\n",
       "       [0.45454545, 0.95652174, 0.        , ..., 0.5161    , 0.        ,\n",
       "        0.07388643]])"
      ]
     },
     "execution_count": 74,
     "metadata": {},
     "output_type": "execute_result"
    }
   ],
   "source": [
    "X_test"
   ]
  },
  {
   "cell_type": "markdown",
   "id": "f1102c40",
   "metadata": {
    "papermill": {
     "duration": 0.026239,
     "end_time": "2025-08-07T15:39:28.214648",
     "exception": false,
     "start_time": "2025-08-07T15:39:28.188409",
     "status": "completed"
    },
    "tags": []
   },
   "source": [
    "#### Default Parameters"
   ]
  },
  {
   "cell_type": "code",
   "execution_count": 75,
   "id": "4ea46869",
   "metadata": {
    "execution": {
     "iopub.execute_input": "2025-08-07T15:39:28.270585Z",
     "iopub.status.busy": "2025-08-07T15:39:28.270270Z",
     "iopub.status.idle": "2025-08-07T15:39:28.277623Z",
     "shell.execute_reply": "2025-08-07T15:39:28.275887Z"
    },
    "papermill": {
     "duration": 0.03814,
     "end_time": "2025-08-07T15:39:28.280167",
     "exception": false,
     "start_time": "2025-08-07T15:39:28.242027",
     "status": "completed"
    },
    "tags": []
   },
   "outputs": [
    {
     "data": {
      "text/html": [
       "<style>#sk-container-id-10 {color: black;background-color: white;}#sk-container-id-10 pre{padding: 0;}#sk-container-id-10 div.sk-toggleable {background-color: white;}#sk-container-id-10 label.sk-toggleable__label {cursor: pointer;display: block;width: 100%;margin-bottom: 0;padding: 0.3em;box-sizing: border-box;text-align: center;}#sk-container-id-10 label.sk-toggleable__label-arrow:before {content: \"▸\";float: left;margin-right: 0.25em;color: #696969;}#sk-container-id-10 label.sk-toggleable__label-arrow:hover:before {color: black;}#sk-container-id-10 div.sk-estimator:hover label.sk-toggleable__label-arrow:before {color: black;}#sk-container-id-10 div.sk-toggleable__content {max-height: 0;max-width: 0;overflow: hidden;text-align: left;background-color: #f0f8ff;}#sk-container-id-10 div.sk-toggleable__content pre {margin: 0.2em;color: black;border-radius: 0.25em;background-color: #f0f8ff;}#sk-container-id-10 input.sk-toggleable__control:checked~div.sk-toggleable__content {max-height: 200px;max-width: 100%;overflow: auto;}#sk-container-id-10 input.sk-toggleable__control:checked~label.sk-toggleable__label-arrow:before {content: \"▾\";}#sk-container-id-10 div.sk-estimator input.sk-toggleable__control:checked~label.sk-toggleable__label {background-color: #d4ebff;}#sk-container-id-10 div.sk-label input.sk-toggleable__control:checked~label.sk-toggleable__label {background-color: #d4ebff;}#sk-container-id-10 input.sk-hidden--visually {border: 0;clip: rect(1px 1px 1px 1px);clip: rect(1px, 1px, 1px, 1px);height: 1px;margin: -1px;overflow: hidden;padding: 0;position: absolute;width: 1px;}#sk-container-id-10 div.sk-estimator {font-family: monospace;background-color: #f0f8ff;border: 1px dotted black;border-radius: 0.25em;box-sizing: border-box;margin-bottom: 0.5em;}#sk-container-id-10 div.sk-estimator:hover {background-color: #d4ebff;}#sk-container-id-10 div.sk-parallel-item::after {content: \"\";width: 100%;border-bottom: 1px solid gray;flex-grow: 1;}#sk-container-id-10 div.sk-label:hover label.sk-toggleable__label {background-color: #d4ebff;}#sk-container-id-10 div.sk-serial::before {content: \"\";position: absolute;border-left: 1px solid gray;box-sizing: border-box;top: 0;bottom: 0;left: 50%;z-index: 0;}#sk-container-id-10 div.sk-serial {display: flex;flex-direction: column;align-items: center;background-color: white;padding-right: 0.2em;padding-left: 0.2em;position: relative;}#sk-container-id-10 div.sk-item {position: relative;z-index: 1;}#sk-container-id-10 div.sk-parallel {display: flex;align-items: stretch;justify-content: center;background-color: white;position: relative;}#sk-container-id-10 div.sk-item::before, #sk-container-id-10 div.sk-parallel-item::before {content: \"\";position: absolute;border-left: 1px solid gray;box-sizing: border-box;top: 0;bottom: 0;left: 50%;z-index: -1;}#sk-container-id-10 div.sk-parallel-item {display: flex;flex-direction: column;z-index: 1;position: relative;background-color: white;}#sk-container-id-10 div.sk-parallel-item:first-child::after {align-self: flex-end;width: 50%;}#sk-container-id-10 div.sk-parallel-item:last-child::after {align-self: flex-start;width: 50%;}#sk-container-id-10 div.sk-parallel-item:only-child::after {width: 0;}#sk-container-id-10 div.sk-dashed-wrapped {border: 1px dashed gray;margin: 0 0.4em 0.5em 0.4em;box-sizing: border-box;padding-bottom: 0.4em;background-color: white;}#sk-container-id-10 div.sk-label label {font-family: monospace;font-weight: bold;display: inline-block;line-height: 1.2em;}#sk-container-id-10 div.sk-label-container {text-align: center;}#sk-container-id-10 div.sk-container {/* jupyter's `normalize.less` sets `[hidden] { display: none; }` but bootstrap.min.css set `[hidden] { display: none !important; }` so we also need the `!important` here to be able to override the default hidden behavior on the sphinx rendered scikit-learn.org. See: https://github.com/scikit-learn/scikit-learn/issues/21755 */display: inline-block !important;position: relative;}#sk-container-id-10 div.sk-text-repr-fallback {display: none;}</style><div id=\"sk-container-id-10\" class=\"sk-top-container\"><div class=\"sk-text-repr-fallback\"><pre>SVR()</pre><b>In a Jupyter environment, please rerun this cell to show the HTML representation or trust the notebook. <br />On GitHub, the HTML representation is unable to render, please try loading this page with nbviewer.org.</b></div><div class=\"sk-container\" hidden><div class=\"sk-item\"><div class=\"sk-estimator sk-toggleable\"><input class=\"sk-toggleable__control sk-hidden--visually\" id=\"sk-estimator-id-16\" type=\"checkbox\" checked><label for=\"sk-estimator-id-16\" class=\"sk-toggleable__label sk-toggleable__label-arrow\">SVR</label><div class=\"sk-toggleable__content\"><pre>SVR()</pre></div></div></div></div></div>"
      ],
      "text/plain": [
       "SVR()"
      ]
     },
     "execution_count": 75,
     "metadata": {},
     "output_type": "execute_result"
    }
   ],
   "source": [
    "training_model = SVR()\n",
    "training_model"
   ]
  },
  {
   "cell_type": "code",
   "execution_count": 76,
   "id": "bd22b919",
   "metadata": {
    "execution": {
     "iopub.execute_input": "2025-08-07T15:39:28.336768Z",
     "iopub.status.busy": "2025-08-07T15:39:28.336479Z",
     "iopub.status.idle": "2025-08-07T15:39:35.596867Z",
     "shell.execute_reply": "2025-08-07T15:39:35.595456Z"
    },
    "papermill": {
     "duration": 7.289417,
     "end_time": "2025-08-07T15:39:35.598567",
     "exception": false,
     "start_time": "2025-08-07T15:39:28.309150",
     "status": "completed"
    },
    "tags": []
   },
   "outputs": [
    {
     "name": "stdout",
     "output_type": "stream",
     "text": [
      "CPU times: user 7.23 s, sys: 0 ns, total: 7.23 s\n",
      "Wall time: 7.25 s\n"
     ]
    },
    {
     "data": {
      "text/html": [
       "<style>#sk-container-id-11 {color: black;background-color: white;}#sk-container-id-11 pre{padding: 0;}#sk-container-id-11 div.sk-toggleable {background-color: white;}#sk-container-id-11 label.sk-toggleable__label {cursor: pointer;display: block;width: 100%;margin-bottom: 0;padding: 0.3em;box-sizing: border-box;text-align: center;}#sk-container-id-11 label.sk-toggleable__label-arrow:before {content: \"▸\";float: left;margin-right: 0.25em;color: #696969;}#sk-container-id-11 label.sk-toggleable__label-arrow:hover:before {color: black;}#sk-container-id-11 div.sk-estimator:hover label.sk-toggleable__label-arrow:before {color: black;}#sk-container-id-11 div.sk-toggleable__content {max-height: 0;max-width: 0;overflow: hidden;text-align: left;background-color: #f0f8ff;}#sk-container-id-11 div.sk-toggleable__content pre {margin: 0.2em;color: black;border-radius: 0.25em;background-color: #f0f8ff;}#sk-container-id-11 input.sk-toggleable__control:checked~div.sk-toggleable__content {max-height: 200px;max-width: 100%;overflow: auto;}#sk-container-id-11 input.sk-toggleable__control:checked~label.sk-toggleable__label-arrow:before {content: \"▾\";}#sk-container-id-11 div.sk-estimator input.sk-toggleable__control:checked~label.sk-toggleable__label {background-color: #d4ebff;}#sk-container-id-11 div.sk-label input.sk-toggleable__control:checked~label.sk-toggleable__label {background-color: #d4ebff;}#sk-container-id-11 input.sk-hidden--visually {border: 0;clip: rect(1px 1px 1px 1px);clip: rect(1px, 1px, 1px, 1px);height: 1px;margin: -1px;overflow: hidden;padding: 0;position: absolute;width: 1px;}#sk-container-id-11 div.sk-estimator {font-family: monospace;background-color: #f0f8ff;border: 1px dotted black;border-radius: 0.25em;box-sizing: border-box;margin-bottom: 0.5em;}#sk-container-id-11 div.sk-estimator:hover {background-color: #d4ebff;}#sk-container-id-11 div.sk-parallel-item::after {content: \"\";width: 100%;border-bottom: 1px solid gray;flex-grow: 1;}#sk-container-id-11 div.sk-label:hover label.sk-toggleable__label {background-color: #d4ebff;}#sk-container-id-11 div.sk-serial::before {content: \"\";position: absolute;border-left: 1px solid gray;box-sizing: border-box;top: 0;bottom: 0;left: 50%;z-index: 0;}#sk-container-id-11 div.sk-serial {display: flex;flex-direction: column;align-items: center;background-color: white;padding-right: 0.2em;padding-left: 0.2em;position: relative;}#sk-container-id-11 div.sk-item {position: relative;z-index: 1;}#sk-container-id-11 div.sk-parallel {display: flex;align-items: stretch;justify-content: center;background-color: white;position: relative;}#sk-container-id-11 div.sk-item::before, #sk-container-id-11 div.sk-parallel-item::before {content: \"\";position: absolute;border-left: 1px solid gray;box-sizing: border-box;top: 0;bottom: 0;left: 50%;z-index: -1;}#sk-container-id-11 div.sk-parallel-item {display: flex;flex-direction: column;z-index: 1;position: relative;background-color: white;}#sk-container-id-11 div.sk-parallel-item:first-child::after {align-self: flex-end;width: 50%;}#sk-container-id-11 div.sk-parallel-item:last-child::after {align-self: flex-start;width: 50%;}#sk-container-id-11 div.sk-parallel-item:only-child::after {width: 0;}#sk-container-id-11 div.sk-dashed-wrapped {border: 1px dashed gray;margin: 0 0.4em 0.5em 0.4em;box-sizing: border-box;padding-bottom: 0.4em;background-color: white;}#sk-container-id-11 div.sk-label label {font-family: monospace;font-weight: bold;display: inline-block;line-height: 1.2em;}#sk-container-id-11 div.sk-label-container {text-align: center;}#sk-container-id-11 div.sk-container {/* jupyter's `normalize.less` sets `[hidden] { display: none; }` but bootstrap.min.css set `[hidden] { display: none !important; }` so we also need the `!important` here to be able to override the default hidden behavior on the sphinx rendered scikit-learn.org. See: https://github.com/scikit-learn/scikit-learn/issues/21755 */display: inline-block !important;position: relative;}#sk-container-id-11 div.sk-text-repr-fallback {display: none;}</style><div id=\"sk-container-id-11\" class=\"sk-top-container\"><div class=\"sk-text-repr-fallback\"><pre>SVR()</pre><b>In a Jupyter environment, please rerun this cell to show the HTML representation or trust the notebook. <br />On GitHub, the HTML representation is unable to render, please try loading this page with nbviewer.org.</b></div><div class=\"sk-container\" hidden><div class=\"sk-item\"><div class=\"sk-estimator sk-toggleable\"><input class=\"sk-toggleable__control sk-hidden--visually\" id=\"sk-estimator-id-17\" type=\"checkbox\" checked><label for=\"sk-estimator-id-17\" class=\"sk-toggleable__label sk-toggleable__label-arrow\">SVR</label><div class=\"sk-toggleable__content\"><pre>SVR()</pre></div></div></div></div></div>"
      ],
      "text/plain": [
       "SVR()"
      ]
     },
     "execution_count": 76,
     "metadata": {},
     "output_type": "execute_result"
    }
   ],
   "source": [
    "%%time\n",
    "training_model.fit(X_train, y_train)"
   ]
  },
  {
   "cell_type": "code",
   "execution_count": 77,
   "id": "b5ca92dc",
   "metadata": {
    "execution": {
     "iopub.execute_input": "2025-08-07T15:39:35.655430Z",
     "iopub.status.busy": "2025-08-07T15:39:35.655050Z",
     "iopub.status.idle": "2025-08-07T15:39:37.822034Z",
     "shell.execute_reply": "2025-08-07T15:39:37.821300Z"
    },
    "papermill": {
     "duration": 2.197378,
     "end_time": "2025-08-07T15:39:37.823720",
     "exception": false,
     "start_time": "2025-08-07T15:39:35.626342",
     "status": "completed"
    },
    "tags": []
   },
   "outputs": [
    {
     "data": {
      "text/plain": [
       "array([  3.99070253, 181.03169523,   8.21305684, ..., 291.75401271,\n",
       "        25.60083749,  -2.32371713])"
      ]
     },
     "execution_count": 77,
     "metadata": {},
     "output_type": "execute_result"
    }
   ],
   "source": [
    "y_pred = training_model.predict(X_test)\n",
    "y_pred"
   ]
  },
  {
   "cell_type": "code",
   "execution_count": 78,
   "id": "6f5681f4",
   "metadata": {
    "execution": {
     "iopub.execute_input": "2025-08-07T15:39:37.879551Z",
     "iopub.status.busy": "2025-08-07T15:39:37.879179Z",
     "iopub.status.idle": "2025-08-07T15:39:37.886455Z",
     "shell.execute_reply": "2025-08-07T15:39:37.885634Z"
    },
    "papermill": {
     "duration": 0.037147,
     "end_time": "2025-08-07T15:39:37.887883",
     "exception": false,
     "start_time": "2025-08-07T15:39:37.850736",
     "status": "completed"
    },
    "tags": []
   },
   "outputs": [
    {
     "data": {
      "text/plain": [
       "5158       0.00\n",
       "3831     105.26\n",
       "5117       0.00\n",
       "6326     758.39\n",
       "11359    135.87\n",
       "          ...  \n",
       "10290     74.58\n",
       "13995      0.00\n",
       "9665     241.81\n",
       "2276       0.00\n",
       "4174       0.00\n",
       "Name: SolarRadiation, Length: 2924, dtype: float64"
      ]
     },
     "execution_count": 78,
     "metadata": {},
     "output_type": "execute_result"
    }
   ],
   "source": [
    "y_test"
   ]
  },
  {
   "cell_type": "code",
   "execution_count": 79,
   "id": "914558bd",
   "metadata": {
    "execution": {
     "iopub.execute_input": "2025-08-07T15:39:37.943326Z",
     "iopub.status.busy": "2025-08-07T15:39:37.942048Z",
     "iopub.status.idle": "2025-08-07T15:39:37.949061Z",
     "shell.execute_reply": "2025-08-07T15:39:37.948174Z"
    },
    "papermill": {
     "duration": 0.035502,
     "end_time": "2025-08-07T15:39:37.950619",
     "exception": false,
     "start_time": "2025-08-07T15:39:37.915117",
     "status": "completed"
    },
    "tags": []
   },
   "outputs": [],
   "source": [
    "mse = mean_squared_error(y_test, y_pred)\n",
    "mae = mean_absolute_error(y_test, y_pred)\n",
    "r2 = r2_score(y_test, y_pred)\n",
    "rmse = math.sqrt(mse)"
   ]
  },
  {
   "cell_type": "code",
   "execution_count": 80,
   "id": "50d0e353",
   "metadata": {
    "execution": {
     "iopub.execute_input": "2025-08-07T15:39:38.006815Z",
     "iopub.status.busy": "2025-08-07T15:39:38.005924Z",
     "iopub.status.idle": "2025-08-07T15:39:38.011044Z",
     "shell.execute_reply": "2025-08-07T15:39:38.010103Z"
    },
    "papermill": {
     "duration": 0.034832,
     "end_time": "2025-08-07T15:39:38.012532",
     "exception": false,
     "start_time": "2025-08-07T15:39:37.977700",
     "status": "completed"
    },
    "tags": []
   },
   "outputs": [
    {
     "name": "stdout",
     "output_type": "stream",
     "text": [
      "MSE Score: 13404.265069840427\n",
      "MAE Score: 72.94451098443344\n",
      "R2 Score: 0.8574598530856401\n",
      "RMSE Score: 115.77678985807314\n"
     ]
    }
   ],
   "source": [
    "print(\"MSE Score:\", mse)\n",
    "print(\"MAE Score:\", mae)\n",
    "print(\"R2 Score:\", r2)\n",
    "print(\"RMSE Score:\", rmse)"
   ]
  },
  {
   "cell_type": "code",
   "execution_count": 81,
   "id": "a8266652",
   "metadata": {
    "execution": {
     "iopub.execute_input": "2025-08-07T15:39:38.069087Z",
     "iopub.status.busy": "2025-08-07T15:39:38.068785Z",
     "iopub.status.idle": "2025-08-07T15:39:38.082066Z",
     "shell.execute_reply": "2025-08-07T15:39:38.081160Z"
    },
    "papermill": {
     "duration": 0.043822,
     "end_time": "2025-08-07T15:39:38.083777",
     "exception": false,
     "start_time": "2025-08-07T15:39:38.039955",
     "status": "completed"
    },
    "tags": []
   },
   "outputs": [
    {
     "name": "stdout",
     "output_type": "stream",
     "text": [
      "✅ Regression model improved with better performance!\n",
      "   MSE: 16266.031893 → 13404.265070 (lower is better)\n",
      "   R²:  0.827028 → 0.857460 (higher is better)\n",
      "   Features: 27 → 22\n",
      "💾 Registry updated: Model_Training_History/History_Regression.csv\n"
     ]
    }
   ],
   "source": [
    "regression_params = {\n",
    "    'model_name': model_name_for_saving,\n",
    "    'scaler_name': \"MinMaxScaler\",\n",
    "    'features_list': feature_columns_for_saving,\n",
    "    'target_column': target_name_for_saving,\n",
    "    'mse': mse,\n",
    "    'mae': mae,\n",
    "    'rmse': rmse,\n",
    "    'r2': r2,\n",
    "    'parameters': json.dumps(training_model.get_params())\n",
    "}\n",
    "save_model_performance_if_better('regression', regression_params)"
   ]
  },
  {
   "cell_type": "markdown",
   "id": "997e9968",
   "metadata": {
    "papermill": {
     "duration": 0.026069,
     "end_time": "2025-08-07T15:39:38.137953",
     "exception": false,
     "start_time": "2025-08-07T15:39:38.111884",
     "status": "completed"
    },
    "tags": []
   },
   "source": [
    "#### Tuning with Grid Search"
   ]
  },
  {
   "cell_type": "code",
   "execution_count": 82,
   "id": "53ebe765",
   "metadata": {
    "execution": {
     "iopub.execute_input": "2025-08-07T15:39:38.191751Z",
     "iopub.status.busy": "2025-08-07T15:39:38.191088Z",
     "iopub.status.idle": "2025-08-07T15:39:38.195995Z",
     "shell.execute_reply": "2025-08-07T15:39:38.194886Z"
    },
    "papermill": {
     "duration": 0.033373,
     "end_time": "2025-08-07T15:39:38.197517",
     "exception": false,
     "start_time": "2025-08-07T15:39:38.164144",
     "status": "completed"
    },
    "tags": []
   },
   "outputs": [],
   "source": [
    "grid_search = RandomizedSearchCV(\n",
    "    SVR(), \n",
    "    grid_param,\n",
    "    n_iter=number_of_model_for_randomized_grid,\n",
    "    cv=5,\n",
    "    scoring='neg_mean_squared_error',\n",
    "    n_jobs=-1,\n",
    "    verbose=1,\n",
    "    random_state=42\n",
    ")"
   ]
  },
  {
   "cell_type": "code",
   "execution_count": 83,
   "id": "bcc2c193",
   "metadata": {
    "execution": {
     "iopub.execute_input": "2025-08-07T15:39:38.253247Z",
     "iopub.status.busy": "2025-08-07T15:39:38.252789Z",
     "iopub.status.idle": "2025-08-07T16:11:24.742247Z",
     "shell.execute_reply": "2025-08-07T16:11:24.741369Z"
    },
    "papermill": {
     "duration": 1906.546609,
     "end_time": "2025-08-07T16:11:24.771361",
     "exception": false,
     "start_time": "2025-08-07T15:39:38.224752",
     "status": "completed"
    },
    "tags": []
   },
   "outputs": [
    {
     "name": "stdout",
     "output_type": "stream",
     "text": [
      "Starting hyperparameter tuning...\n",
      "Fitting 5 folds for each of 130 candidates, totalling 650 fits\n",
      "CPU times: user 24.7 s, sys: 2.18 s, total: 26.9 s\n",
      "Wall time: 31min 46s\n"
     ]
    },
    {
     "data": {
      "text/html": [
       "<style>#sk-container-id-12 {color: black;background-color: white;}#sk-container-id-12 pre{padding: 0;}#sk-container-id-12 div.sk-toggleable {background-color: white;}#sk-container-id-12 label.sk-toggleable__label {cursor: pointer;display: block;width: 100%;margin-bottom: 0;padding: 0.3em;box-sizing: border-box;text-align: center;}#sk-container-id-12 label.sk-toggleable__label-arrow:before {content: \"▸\";float: left;margin-right: 0.25em;color: #696969;}#sk-container-id-12 label.sk-toggleable__label-arrow:hover:before {color: black;}#sk-container-id-12 div.sk-estimator:hover label.sk-toggleable__label-arrow:before {color: black;}#sk-container-id-12 div.sk-toggleable__content {max-height: 0;max-width: 0;overflow: hidden;text-align: left;background-color: #f0f8ff;}#sk-container-id-12 div.sk-toggleable__content pre {margin: 0.2em;color: black;border-radius: 0.25em;background-color: #f0f8ff;}#sk-container-id-12 input.sk-toggleable__control:checked~div.sk-toggleable__content {max-height: 200px;max-width: 100%;overflow: auto;}#sk-container-id-12 input.sk-toggleable__control:checked~label.sk-toggleable__label-arrow:before {content: \"▾\";}#sk-container-id-12 div.sk-estimator input.sk-toggleable__control:checked~label.sk-toggleable__label {background-color: #d4ebff;}#sk-container-id-12 div.sk-label input.sk-toggleable__control:checked~label.sk-toggleable__label {background-color: #d4ebff;}#sk-container-id-12 input.sk-hidden--visually {border: 0;clip: rect(1px 1px 1px 1px);clip: rect(1px, 1px, 1px, 1px);height: 1px;margin: -1px;overflow: hidden;padding: 0;position: absolute;width: 1px;}#sk-container-id-12 div.sk-estimator {font-family: monospace;background-color: #f0f8ff;border: 1px dotted black;border-radius: 0.25em;box-sizing: border-box;margin-bottom: 0.5em;}#sk-container-id-12 div.sk-estimator:hover {background-color: #d4ebff;}#sk-container-id-12 div.sk-parallel-item::after {content: \"\";width: 100%;border-bottom: 1px solid gray;flex-grow: 1;}#sk-container-id-12 div.sk-label:hover label.sk-toggleable__label {background-color: #d4ebff;}#sk-container-id-12 div.sk-serial::before {content: \"\";position: absolute;border-left: 1px solid gray;box-sizing: border-box;top: 0;bottom: 0;left: 50%;z-index: 0;}#sk-container-id-12 div.sk-serial {display: flex;flex-direction: column;align-items: center;background-color: white;padding-right: 0.2em;padding-left: 0.2em;position: relative;}#sk-container-id-12 div.sk-item {position: relative;z-index: 1;}#sk-container-id-12 div.sk-parallel {display: flex;align-items: stretch;justify-content: center;background-color: white;position: relative;}#sk-container-id-12 div.sk-item::before, #sk-container-id-12 div.sk-parallel-item::before {content: \"\";position: absolute;border-left: 1px solid gray;box-sizing: border-box;top: 0;bottom: 0;left: 50%;z-index: -1;}#sk-container-id-12 div.sk-parallel-item {display: flex;flex-direction: column;z-index: 1;position: relative;background-color: white;}#sk-container-id-12 div.sk-parallel-item:first-child::after {align-self: flex-end;width: 50%;}#sk-container-id-12 div.sk-parallel-item:last-child::after {align-self: flex-start;width: 50%;}#sk-container-id-12 div.sk-parallel-item:only-child::after {width: 0;}#sk-container-id-12 div.sk-dashed-wrapped {border: 1px dashed gray;margin: 0 0.4em 0.5em 0.4em;box-sizing: border-box;padding-bottom: 0.4em;background-color: white;}#sk-container-id-12 div.sk-label label {font-family: monospace;font-weight: bold;display: inline-block;line-height: 1.2em;}#sk-container-id-12 div.sk-label-container {text-align: center;}#sk-container-id-12 div.sk-container {/* jupyter's `normalize.less` sets `[hidden] { display: none; }` but bootstrap.min.css set `[hidden] { display: none !important; }` so we also need the `!important` here to be able to override the default hidden behavior on the sphinx rendered scikit-learn.org. See: https://github.com/scikit-learn/scikit-learn/issues/21755 */display: inline-block !important;position: relative;}#sk-container-id-12 div.sk-text-repr-fallback {display: none;}</style><div id=\"sk-container-id-12\" class=\"sk-top-container\"><div class=\"sk-text-repr-fallback\"><pre>RandomizedSearchCV(cv=5, estimator=SVR(), n_iter=130, n_jobs=-1,\n",
       "                   param_distributions={&#x27;C&#x27;: [0.1, 1, 10, 100],\n",
       "                                        &#x27;coef0&#x27;: [0.0, 0.1, 1.0],\n",
       "                                        &#x27;epsilon&#x27;: [0.1, 0.2],\n",
       "                                        &#x27;gamma&#x27;: [&#x27;scale&#x27;, &#x27;auto&#x27;, 0.001, 0.01,\n",
       "                                                  0.1],\n",
       "                                        &#x27;kernel&#x27;: [&#x27;linear&#x27;, &#x27;rbf&#x27;, &#x27;sigmoid&#x27;],\n",
       "                                        &#x27;shrinking&#x27;: [True],\n",
       "                                        &#x27;tol&#x27;: [0.001, 0.0001]},\n",
       "                   random_state=42, scoring=&#x27;neg_mean_squared_error&#x27;,\n",
       "                   verbose=1)</pre><b>In a Jupyter environment, please rerun this cell to show the HTML representation or trust the notebook. <br />On GitHub, the HTML representation is unable to render, please try loading this page with nbviewer.org.</b></div><div class=\"sk-container\" hidden><div class=\"sk-item sk-dashed-wrapped\"><div class=\"sk-label-container\"><div class=\"sk-label sk-toggleable\"><input class=\"sk-toggleable__control sk-hidden--visually\" id=\"sk-estimator-id-18\" type=\"checkbox\" ><label for=\"sk-estimator-id-18\" class=\"sk-toggleable__label sk-toggleable__label-arrow\">RandomizedSearchCV</label><div class=\"sk-toggleable__content\"><pre>RandomizedSearchCV(cv=5, estimator=SVR(), n_iter=130, n_jobs=-1,\n",
       "                   param_distributions={&#x27;C&#x27;: [0.1, 1, 10, 100],\n",
       "                                        &#x27;coef0&#x27;: [0.0, 0.1, 1.0],\n",
       "                                        &#x27;epsilon&#x27;: [0.1, 0.2],\n",
       "                                        &#x27;gamma&#x27;: [&#x27;scale&#x27;, &#x27;auto&#x27;, 0.001, 0.01,\n",
       "                                                  0.1],\n",
       "                                        &#x27;kernel&#x27;: [&#x27;linear&#x27;, &#x27;rbf&#x27;, &#x27;sigmoid&#x27;],\n",
       "                                        &#x27;shrinking&#x27;: [True],\n",
       "                                        &#x27;tol&#x27;: [0.001, 0.0001]},\n",
       "                   random_state=42, scoring=&#x27;neg_mean_squared_error&#x27;,\n",
       "                   verbose=1)</pre></div></div></div><div class=\"sk-parallel\"><div class=\"sk-parallel-item\"><div class=\"sk-item\"><div class=\"sk-label-container\"><div class=\"sk-label sk-toggleable\"><input class=\"sk-toggleable__control sk-hidden--visually\" id=\"sk-estimator-id-19\" type=\"checkbox\" ><label for=\"sk-estimator-id-19\" class=\"sk-toggleable__label sk-toggleable__label-arrow\">estimator: SVR</label><div class=\"sk-toggleable__content\"><pre>SVR()</pre></div></div></div><div class=\"sk-serial\"><div class=\"sk-item\"><div class=\"sk-estimator sk-toggleable\"><input class=\"sk-toggleable__control sk-hidden--visually\" id=\"sk-estimator-id-20\" type=\"checkbox\" ><label for=\"sk-estimator-id-20\" class=\"sk-toggleable__label sk-toggleable__label-arrow\">SVR</label><div class=\"sk-toggleable__content\"><pre>SVR()</pre></div></div></div></div></div></div></div></div></div></div>"
      ],
      "text/plain": [
       "RandomizedSearchCV(cv=5, estimator=SVR(), n_iter=130, n_jobs=-1,\n",
       "                   param_distributions={'C': [0.1, 1, 10, 100],\n",
       "                                        'coef0': [0.0, 0.1, 1.0],\n",
       "                                        'epsilon': [0.1, 0.2],\n",
       "                                        'gamma': ['scale', 'auto', 0.001, 0.01,\n",
       "                                                  0.1],\n",
       "                                        'kernel': ['linear', 'rbf', 'sigmoid'],\n",
       "                                        'shrinking': [True],\n",
       "                                        'tol': [0.001, 0.0001]},\n",
       "                   random_state=42, scoring='neg_mean_squared_error',\n",
       "                   verbose=1)"
      ]
     },
     "execution_count": 83,
     "metadata": {},
     "output_type": "execute_result"
    }
   ],
   "source": [
    "%%time\n",
    "print(\"Starting hyperparameter tuning...\")\n",
    "grid_search.fit(X_train, y_train)"
   ]
  },
  {
   "cell_type": "code",
   "execution_count": 84,
   "id": "fa23843c",
   "metadata": {
    "execution": {
     "iopub.execute_input": "2025-08-07T16:11:24.828048Z",
     "iopub.status.busy": "2025-08-07T16:11:24.827756Z",
     "iopub.status.idle": "2025-08-07T16:11:24.833671Z",
     "shell.execute_reply": "2025-08-07T16:11:24.832828Z"
    },
    "papermill": {
     "duration": 0.035885,
     "end_time": "2025-08-07T16:11:24.834996",
     "exception": false,
     "start_time": "2025-08-07T16:11:24.799111",
     "status": "completed"
    },
    "tags": []
   },
   "outputs": [
    {
     "name": "stdout",
     "output_type": "stream",
     "text": [
      "TUNING RESULTS\n",
      "==================================================\n",
      "Best Parameters: {'tol': 0.001, 'shrinking': True, 'kernel': 'linear', 'gamma': 'auto', 'epsilon': 0.2, 'coef0': 0.1, 'C': 100}\n",
      "Best Cross-Validation Score (Negative MSE): -307.8984102140295\n",
      "Best Cross-Validation Score (MSE): 307.8984102140295\n",
      "Best Cross-Validation Score (RMSE): 17.54703422843956\n"
     ]
    }
   ],
   "source": [
    "print(\"TUNING RESULTS\")\n",
    "print(\"=\"*50)\n",
    "print(\"Best Parameters:\", grid_search.best_params_)\n",
    "print(\"Best Cross-Validation Score (Negative MSE):\", grid_search.best_score_)\n",
    "print(\"Best Cross-Validation Score (MSE):\", -grid_search.best_score_)\n",
    "print(\"Best Cross-Validation Score (RMSE):\", math.sqrt(-grid_search.best_score_))\n",
    "\n",
    "# Save the best parameters as an array\n",
    "grid_param_minmax = {k: [v] for k, v in grid_search.best_params_.items()}"
   ]
  },
  {
   "cell_type": "code",
   "execution_count": 85,
   "id": "02a78b24",
   "metadata": {
    "execution": {
     "iopub.execute_input": "2025-08-07T16:11:24.891362Z",
     "iopub.status.busy": "2025-08-07T16:11:24.891019Z",
     "iopub.status.idle": "2025-08-07T16:11:25.398605Z",
     "shell.execute_reply": "2025-08-07T16:11:25.397840Z"
    },
    "papermill": {
     "duration": 0.537559,
     "end_time": "2025-08-07T16:11:25.400068",
     "exception": false,
     "start_time": "2025-08-07T16:11:24.862509",
     "status": "completed"
    },
    "tags": []
   },
   "outputs": [],
   "source": [
    "grid_search_best_model = grid_search.best_estimator_\n",
    "y_pred = grid_search_best_model.predict(X_test)"
   ]
  },
  {
   "cell_type": "code",
   "execution_count": 86,
   "id": "226c1c8c",
   "metadata": {
    "execution": {
     "iopub.execute_input": "2025-08-07T16:11:25.454666Z",
     "iopub.status.busy": "2025-08-07T16:11:25.454365Z",
     "iopub.status.idle": "2025-08-07T16:11:25.461542Z",
     "shell.execute_reply": "2025-08-07T16:11:25.460813Z"
    },
    "papermill": {
     "duration": 0.036541,
     "end_time": "2025-08-07T16:11:25.463513",
     "exception": false,
     "start_time": "2025-08-07T16:11:25.426972",
     "status": "completed"
    },
    "tags": []
   },
   "outputs": [],
   "source": [
    "mse_grid_search = mean_squared_error(y_test, y_pred)\n",
    "mae_grid_search = mean_absolute_error(y_test, y_pred)\n",
    "r2_grid_search = r2_score(y_test, y_pred)\n",
    "rmse_grid_search = math.sqrt(mse_grid_search)"
   ]
  },
  {
   "cell_type": "code",
   "execution_count": 87,
   "id": "bc556da0",
   "metadata": {
    "execution": {
     "iopub.execute_input": "2025-08-07T16:11:25.519334Z",
     "iopub.status.busy": "2025-08-07T16:11:25.518945Z",
     "iopub.status.idle": "2025-08-07T16:11:25.524236Z",
     "shell.execute_reply": "2025-08-07T16:11:25.523070Z"
    },
    "papermill": {
     "duration": 0.034947,
     "end_time": "2025-08-07T16:11:25.525659",
     "exception": false,
     "start_time": "2025-08-07T16:11:25.490712",
     "status": "completed"
    },
    "tags": []
   },
   "outputs": [
    {
     "name": "stdout",
     "output_type": "stream",
     "text": [
      "MSE Score: 321.46620538444023\n",
      "MAE Score: 11.18621901654086\n",
      "R2 Score: 0.9965815477458291\n",
      "RMSE Score: 17.929478670180018\n"
     ]
    }
   ],
   "source": [
    "print(\"MSE Score:\", mse_grid_search)\n",
    "print(\"MAE Score:\", mae_grid_search)\n",
    "print(\"R2 Score:\", r2_grid_search)\n",
    "print(\"RMSE Score:\", rmse_grid_search)"
   ]
  },
  {
   "cell_type": "code",
   "execution_count": 88,
   "id": "d3a8ba11",
   "metadata": {
    "execution": {
     "iopub.execute_input": "2025-08-07T16:11:25.583111Z",
     "iopub.status.busy": "2025-08-07T16:11:25.582344Z",
     "iopub.status.idle": "2025-08-07T16:11:25.596078Z",
     "shell.execute_reply": "2025-08-07T16:11:25.595167Z"
    },
    "papermill": {
     "duration": 0.043036,
     "end_time": "2025-08-07T16:11:25.597667",
     "exception": false,
     "start_time": "2025-08-07T16:11:25.554631",
     "status": "completed"
    },
    "tags": []
   },
   "outputs": [
    {
     "name": "stdout",
     "output_type": "stream",
     "text": [
      "✅ Regression model improved with same performance but fewer features!\n",
      "   MSE: 321.033851 ≈ 321.466205 (similar)\n",
      "   R²:  0.996586 ≈ 0.996582 (similar)\n",
      "   Features: 27 → 22 (🎯 5 fewer features!)\n",
      "💾 Registry updated: Model_Training_History/History_Regression.csv\n"
     ]
    }
   ],
   "source": [
    "regression_params = {\n",
    "    'model_name': model_name_for_saving + \" Tuned\",\n",
    "    'scaler_name': \"MinMaxScaler\",\n",
    "    'features_list': feature_columns_for_saving,\n",
    "    'target_column': target_name_for_saving,\n",
    "    'mse': mse_grid_search,\n",
    "    'mae': mae_grid_search,\n",
    "    'rmse': rmse_grid_search,\n",
    "    'r2': r2_grid_search,\n",
    "    'parameters' : json.dumps({\n",
    "        \"best_params\": grid_search.best_params_,\n",
    "        \"cv_score\": grid_search.best_score_,\n",
    "        \"all_params\": grid_search_best_model.get_params()\n",
    "    })\n",
    "}\n",
    "save_model_performance_if_better('regression', regression_params)"
   ]
  },
  {
   "cell_type": "markdown",
   "id": "2643fc02",
   "metadata": {
    "papermill": {
     "duration": 0.026401,
     "end_time": "2025-08-07T16:11:25.650957",
     "exception": false,
     "start_time": "2025-08-07T16:11:25.624556",
     "status": "completed"
    },
    "tags": []
   },
   "source": [
    "### Standard Scaler"
   ]
  },
  {
   "cell_type": "code",
   "execution_count": 89,
   "id": "bed9c430",
   "metadata": {
    "execution": {
     "iopub.execute_input": "2025-08-07T16:11:25.706331Z",
     "iopub.status.busy": "2025-08-07T16:11:25.706017Z",
     "iopub.status.idle": "2025-08-07T16:11:25.723458Z",
     "shell.execute_reply": "2025-08-07T16:11:25.722576Z"
    },
    "papermill": {
     "duration": 0.046982,
     "end_time": "2025-08-07T16:11:25.724962",
     "exception": false,
     "start_time": "2025-08-07T16:11:25.677980",
     "status": "completed"
    },
    "tags": []
   },
   "outputs": [],
   "source": [
    "scaler = StandardScaler()\n",
    "X_train = scaler.fit_transform(X_train_raw)\n",
    "X_test = scaler.transform(X_test_raw)"
   ]
  },
  {
   "cell_type": "code",
   "execution_count": 90,
   "id": "80d51402",
   "metadata": {
    "execution": {
     "iopub.execute_input": "2025-08-07T16:11:25.783486Z",
     "iopub.status.busy": "2025-08-07T16:11:25.782732Z",
     "iopub.status.idle": "2025-08-07T16:11:25.788215Z",
     "shell.execute_reply": "2025-08-07T16:11:25.787538Z"
    },
    "papermill": {
     "duration": 0.035539,
     "end_time": "2025-08-07T16:11:25.789520",
     "exception": false,
     "start_time": "2025-08-07T16:11:25.753981",
     "status": "completed"
    },
    "tags": []
   },
   "outputs": [
    {
     "data": {
      "text/plain": [
       "array([[ 1.01884116, -0.21938027, -0.38875095, ..., -0.12088825,\n",
       "         1.52387472,  1.09644529],\n",
       "       [ 1.64376461,  0.64624572,  2.57234098, ..., -1.52028666,\n",
       "         0.24645772, -0.43343649],\n",
       "       [-1.16839092, -1.66209024, -0.38875095, ..., -1.52028666,\n",
       "        -0.73592134, -0.43343649],\n",
       "       ...,\n",
       "       [ 0.70637943, -0.21938027, -0.38875095, ...,  0.96917545,\n",
       "         0.25618424, -0.30383078],\n",
       "       [-1.48085264,  1.36760071, -0.38875095, ..., -1.52028666,\n",
       "        -0.73592134, -0.43343649],\n",
       "       [ 1.01884116, -0.50792226, -0.38875095, ...,  1.01722469,\n",
       "         0.20430944,  0.85928021]])"
      ]
     },
     "execution_count": 90,
     "metadata": {},
     "output_type": "execute_result"
    }
   ],
   "source": [
    "X_train"
   ]
  },
  {
   "cell_type": "code",
   "execution_count": 91,
   "id": "d8291889",
   "metadata": {
    "execution": {
     "iopub.execute_input": "2025-08-07T16:11:25.845105Z",
     "iopub.status.busy": "2025-08-07T16:11:25.844810Z",
     "iopub.status.idle": "2025-08-07T16:11:25.850779Z",
     "shell.execute_reply": "2025-08-07T16:11:25.850052Z"
    },
    "papermill": {
     "duration": 0.034937,
     "end_time": "2025-08-07T16:11:25.852032",
     "exception": false,
     "start_time": "2025-08-07T16:11:25.817095",
     "status": "completed"
    },
    "tags": []
   },
   "outputs": [
    {
     "data": {
      "text/plain": [
       "array([[ 0.70637943,  1.51187171, -0.38875095, ...,  1.02148941,\n",
       "        -0.73592134, -0.43343649],\n",
       "       [ 0.08145598,  0.50197472,  2.57234098, ...,  1.23102956,\n",
       "        -0.49600038, -0.43343649],\n",
       "       [ 0.70637943, -0.94073525, -0.38875095, ...,  1.30438283,\n",
       "        -0.73592134, -0.43343649],\n",
       "       ...,\n",
       "       [-1.16839092,  0.79051672,  2.57234098, ..., -1.51659057,\n",
       "        -0.07775979, -0.43343649],\n",
       "       [-0.54346747,  1.22332971, -0.38875095, ..., -1.52028666,\n",
       "        -0.73592134,  0.71764924],\n",
       "       [ 0.08145598,  1.51187171, -0.38875095, ..., -0.05293696,\n",
       "        -0.73592134, -0.43343649]])"
      ]
     },
     "execution_count": 91,
     "metadata": {},
     "output_type": "execute_result"
    }
   ],
   "source": [
    "X_test"
   ]
  },
  {
   "cell_type": "markdown",
   "id": "ad58445a",
   "metadata": {
    "papermill": {
     "duration": 0.028023,
     "end_time": "2025-08-07T16:11:25.907972",
     "exception": false,
     "start_time": "2025-08-07T16:11:25.879949",
     "status": "completed"
    },
    "tags": []
   },
   "source": [
    "#### Default Parameters"
   ]
  },
  {
   "cell_type": "code",
   "execution_count": 92,
   "id": "248ddb77",
   "metadata": {
    "execution": {
     "iopub.execute_input": "2025-08-07T16:11:25.964173Z",
     "iopub.status.busy": "2025-08-07T16:11:25.963847Z",
     "iopub.status.idle": "2025-08-07T16:11:25.969972Z",
     "shell.execute_reply": "2025-08-07T16:11:25.969246Z"
    },
    "papermill": {
     "duration": 0.035944,
     "end_time": "2025-08-07T16:11:25.971612",
     "exception": false,
     "start_time": "2025-08-07T16:11:25.935668",
     "status": "completed"
    },
    "tags": []
   },
   "outputs": [
    {
     "data": {
      "text/html": [
       "<style>#sk-container-id-13 {color: black;background-color: white;}#sk-container-id-13 pre{padding: 0;}#sk-container-id-13 div.sk-toggleable {background-color: white;}#sk-container-id-13 label.sk-toggleable__label {cursor: pointer;display: block;width: 100%;margin-bottom: 0;padding: 0.3em;box-sizing: border-box;text-align: center;}#sk-container-id-13 label.sk-toggleable__label-arrow:before {content: \"▸\";float: left;margin-right: 0.25em;color: #696969;}#sk-container-id-13 label.sk-toggleable__label-arrow:hover:before {color: black;}#sk-container-id-13 div.sk-estimator:hover label.sk-toggleable__label-arrow:before {color: black;}#sk-container-id-13 div.sk-toggleable__content {max-height: 0;max-width: 0;overflow: hidden;text-align: left;background-color: #f0f8ff;}#sk-container-id-13 div.sk-toggleable__content pre {margin: 0.2em;color: black;border-radius: 0.25em;background-color: #f0f8ff;}#sk-container-id-13 input.sk-toggleable__control:checked~div.sk-toggleable__content {max-height: 200px;max-width: 100%;overflow: auto;}#sk-container-id-13 input.sk-toggleable__control:checked~label.sk-toggleable__label-arrow:before {content: \"▾\";}#sk-container-id-13 div.sk-estimator input.sk-toggleable__control:checked~label.sk-toggleable__label {background-color: #d4ebff;}#sk-container-id-13 div.sk-label input.sk-toggleable__control:checked~label.sk-toggleable__label {background-color: #d4ebff;}#sk-container-id-13 input.sk-hidden--visually {border: 0;clip: rect(1px 1px 1px 1px);clip: rect(1px, 1px, 1px, 1px);height: 1px;margin: -1px;overflow: hidden;padding: 0;position: absolute;width: 1px;}#sk-container-id-13 div.sk-estimator {font-family: monospace;background-color: #f0f8ff;border: 1px dotted black;border-radius: 0.25em;box-sizing: border-box;margin-bottom: 0.5em;}#sk-container-id-13 div.sk-estimator:hover {background-color: #d4ebff;}#sk-container-id-13 div.sk-parallel-item::after {content: \"\";width: 100%;border-bottom: 1px solid gray;flex-grow: 1;}#sk-container-id-13 div.sk-label:hover label.sk-toggleable__label {background-color: #d4ebff;}#sk-container-id-13 div.sk-serial::before {content: \"\";position: absolute;border-left: 1px solid gray;box-sizing: border-box;top: 0;bottom: 0;left: 50%;z-index: 0;}#sk-container-id-13 div.sk-serial {display: flex;flex-direction: column;align-items: center;background-color: white;padding-right: 0.2em;padding-left: 0.2em;position: relative;}#sk-container-id-13 div.sk-item {position: relative;z-index: 1;}#sk-container-id-13 div.sk-parallel {display: flex;align-items: stretch;justify-content: center;background-color: white;position: relative;}#sk-container-id-13 div.sk-item::before, #sk-container-id-13 div.sk-parallel-item::before {content: \"\";position: absolute;border-left: 1px solid gray;box-sizing: border-box;top: 0;bottom: 0;left: 50%;z-index: -1;}#sk-container-id-13 div.sk-parallel-item {display: flex;flex-direction: column;z-index: 1;position: relative;background-color: white;}#sk-container-id-13 div.sk-parallel-item:first-child::after {align-self: flex-end;width: 50%;}#sk-container-id-13 div.sk-parallel-item:last-child::after {align-self: flex-start;width: 50%;}#sk-container-id-13 div.sk-parallel-item:only-child::after {width: 0;}#sk-container-id-13 div.sk-dashed-wrapped {border: 1px dashed gray;margin: 0 0.4em 0.5em 0.4em;box-sizing: border-box;padding-bottom: 0.4em;background-color: white;}#sk-container-id-13 div.sk-label label {font-family: monospace;font-weight: bold;display: inline-block;line-height: 1.2em;}#sk-container-id-13 div.sk-label-container {text-align: center;}#sk-container-id-13 div.sk-container {/* jupyter's `normalize.less` sets `[hidden] { display: none; }` but bootstrap.min.css set `[hidden] { display: none !important; }` so we also need the `!important` here to be able to override the default hidden behavior on the sphinx rendered scikit-learn.org. See: https://github.com/scikit-learn/scikit-learn/issues/21755 */display: inline-block !important;position: relative;}#sk-container-id-13 div.sk-text-repr-fallback {display: none;}</style><div id=\"sk-container-id-13\" class=\"sk-top-container\"><div class=\"sk-text-repr-fallback\"><pre>SVR()</pre><b>In a Jupyter environment, please rerun this cell to show the HTML representation or trust the notebook. <br />On GitHub, the HTML representation is unable to render, please try loading this page with nbviewer.org.</b></div><div class=\"sk-container\" hidden><div class=\"sk-item\"><div class=\"sk-estimator sk-toggleable\"><input class=\"sk-toggleable__control sk-hidden--visually\" id=\"sk-estimator-id-21\" type=\"checkbox\" checked><label for=\"sk-estimator-id-21\" class=\"sk-toggleable__label sk-toggleable__label-arrow\">SVR</label><div class=\"sk-toggleable__content\"><pre>SVR()</pre></div></div></div></div></div>"
      ],
      "text/plain": [
       "SVR()"
      ]
     },
     "execution_count": 92,
     "metadata": {},
     "output_type": "execute_result"
    }
   ],
   "source": [
    "training_model = SVR()\n",
    "training_model"
   ]
  },
  {
   "cell_type": "code",
   "execution_count": 93,
   "id": "e1b48d88",
   "metadata": {
    "execution": {
     "iopub.execute_input": "2025-08-07T16:11:26.029804Z",
     "iopub.status.busy": "2025-08-07T16:11:26.029502Z",
     "iopub.status.idle": "2025-08-07T16:11:33.000966Z",
     "shell.execute_reply": "2025-08-07T16:11:33.000197Z"
    },
    "papermill": {
     "duration": 7.001831,
     "end_time": "2025-08-07T16:11:33.002520",
     "exception": false,
     "start_time": "2025-08-07T16:11:26.000689",
     "status": "completed"
    },
    "tags": []
   },
   "outputs": [
    {
     "name": "stdout",
     "output_type": "stream",
     "text": [
      "CPU times: user 6.79 s, sys: 181 ms, total: 6.97 s\n",
      "Wall time: 6.96 s\n"
     ]
    },
    {
     "data": {
      "text/html": [
       "<style>#sk-container-id-14 {color: black;background-color: white;}#sk-container-id-14 pre{padding: 0;}#sk-container-id-14 div.sk-toggleable {background-color: white;}#sk-container-id-14 label.sk-toggleable__label {cursor: pointer;display: block;width: 100%;margin-bottom: 0;padding: 0.3em;box-sizing: border-box;text-align: center;}#sk-container-id-14 label.sk-toggleable__label-arrow:before {content: \"▸\";float: left;margin-right: 0.25em;color: #696969;}#sk-container-id-14 label.sk-toggleable__label-arrow:hover:before {color: black;}#sk-container-id-14 div.sk-estimator:hover label.sk-toggleable__label-arrow:before {color: black;}#sk-container-id-14 div.sk-toggleable__content {max-height: 0;max-width: 0;overflow: hidden;text-align: left;background-color: #f0f8ff;}#sk-container-id-14 div.sk-toggleable__content pre {margin: 0.2em;color: black;border-radius: 0.25em;background-color: #f0f8ff;}#sk-container-id-14 input.sk-toggleable__control:checked~div.sk-toggleable__content {max-height: 200px;max-width: 100%;overflow: auto;}#sk-container-id-14 input.sk-toggleable__control:checked~label.sk-toggleable__label-arrow:before {content: \"▾\";}#sk-container-id-14 div.sk-estimator input.sk-toggleable__control:checked~label.sk-toggleable__label {background-color: #d4ebff;}#sk-container-id-14 div.sk-label input.sk-toggleable__control:checked~label.sk-toggleable__label {background-color: #d4ebff;}#sk-container-id-14 input.sk-hidden--visually {border: 0;clip: rect(1px 1px 1px 1px);clip: rect(1px, 1px, 1px, 1px);height: 1px;margin: -1px;overflow: hidden;padding: 0;position: absolute;width: 1px;}#sk-container-id-14 div.sk-estimator {font-family: monospace;background-color: #f0f8ff;border: 1px dotted black;border-radius: 0.25em;box-sizing: border-box;margin-bottom: 0.5em;}#sk-container-id-14 div.sk-estimator:hover {background-color: #d4ebff;}#sk-container-id-14 div.sk-parallel-item::after {content: \"\";width: 100%;border-bottom: 1px solid gray;flex-grow: 1;}#sk-container-id-14 div.sk-label:hover label.sk-toggleable__label {background-color: #d4ebff;}#sk-container-id-14 div.sk-serial::before {content: \"\";position: absolute;border-left: 1px solid gray;box-sizing: border-box;top: 0;bottom: 0;left: 50%;z-index: 0;}#sk-container-id-14 div.sk-serial {display: flex;flex-direction: column;align-items: center;background-color: white;padding-right: 0.2em;padding-left: 0.2em;position: relative;}#sk-container-id-14 div.sk-item {position: relative;z-index: 1;}#sk-container-id-14 div.sk-parallel {display: flex;align-items: stretch;justify-content: center;background-color: white;position: relative;}#sk-container-id-14 div.sk-item::before, #sk-container-id-14 div.sk-parallel-item::before {content: \"\";position: absolute;border-left: 1px solid gray;box-sizing: border-box;top: 0;bottom: 0;left: 50%;z-index: -1;}#sk-container-id-14 div.sk-parallel-item {display: flex;flex-direction: column;z-index: 1;position: relative;background-color: white;}#sk-container-id-14 div.sk-parallel-item:first-child::after {align-self: flex-end;width: 50%;}#sk-container-id-14 div.sk-parallel-item:last-child::after {align-self: flex-start;width: 50%;}#sk-container-id-14 div.sk-parallel-item:only-child::after {width: 0;}#sk-container-id-14 div.sk-dashed-wrapped {border: 1px dashed gray;margin: 0 0.4em 0.5em 0.4em;box-sizing: border-box;padding-bottom: 0.4em;background-color: white;}#sk-container-id-14 div.sk-label label {font-family: monospace;font-weight: bold;display: inline-block;line-height: 1.2em;}#sk-container-id-14 div.sk-label-container {text-align: center;}#sk-container-id-14 div.sk-container {/* jupyter's `normalize.less` sets `[hidden] { display: none; }` but bootstrap.min.css set `[hidden] { display: none !important; }` so we also need the `!important` here to be able to override the default hidden behavior on the sphinx rendered scikit-learn.org. See: https://github.com/scikit-learn/scikit-learn/issues/21755 */display: inline-block !important;position: relative;}#sk-container-id-14 div.sk-text-repr-fallback {display: none;}</style><div id=\"sk-container-id-14\" class=\"sk-top-container\"><div class=\"sk-text-repr-fallback\"><pre>SVR()</pre><b>In a Jupyter environment, please rerun this cell to show the HTML representation or trust the notebook. <br />On GitHub, the HTML representation is unable to render, please try loading this page with nbviewer.org.</b></div><div class=\"sk-container\" hidden><div class=\"sk-item\"><div class=\"sk-estimator sk-toggleable\"><input class=\"sk-toggleable__control sk-hidden--visually\" id=\"sk-estimator-id-22\" type=\"checkbox\" checked><label for=\"sk-estimator-id-22\" class=\"sk-toggleable__label sk-toggleable__label-arrow\">SVR</label><div class=\"sk-toggleable__content\"><pre>SVR()</pre></div></div></div></div></div>"
      ],
      "text/plain": [
       "SVR()"
      ]
     },
     "execution_count": 93,
     "metadata": {},
     "output_type": "execute_result"
    }
   ],
   "source": [
    "%%time\n",
    "training_model.fit(X_train, y_train)"
   ]
  },
  {
   "cell_type": "code",
   "execution_count": 94,
   "id": "8ac83392",
   "metadata": {
    "execution": {
     "iopub.execute_input": "2025-08-07T16:11:33.059799Z",
     "iopub.status.busy": "2025-08-07T16:11:33.059481Z",
     "iopub.status.idle": "2025-08-07T16:11:35.134715Z",
     "shell.execute_reply": "2025-08-07T16:11:35.133636Z"
    },
    "papermill": {
     "duration": 2.10569,
     "end_time": "2025-08-07T16:11:35.136431",
     "exception": false,
     "start_time": "2025-08-07T16:11:33.030741",
     "status": "completed"
    },
    "tags": []
   },
   "outputs": [
    {
     "data": {
      "text/plain": [
       "array([  2.18132215, 158.61133535,  29.89062032, ..., 286.70456075,\n",
       "        32.4339224 ,  -6.10121042])"
      ]
     },
     "execution_count": 94,
     "metadata": {},
     "output_type": "execute_result"
    }
   ],
   "source": [
    "y_pred = training_model.predict(X_test)\n",
    "y_pred"
   ]
  },
  {
   "cell_type": "code",
   "execution_count": 95,
   "id": "ad16c6dc",
   "metadata": {
    "execution": {
     "iopub.execute_input": "2025-08-07T16:11:35.193465Z",
     "iopub.status.busy": "2025-08-07T16:11:35.192614Z",
     "iopub.status.idle": "2025-08-07T16:11:35.198935Z",
     "shell.execute_reply": "2025-08-07T16:11:35.198182Z"
    },
    "papermill": {
     "duration": 0.035803,
     "end_time": "2025-08-07T16:11:35.200316",
     "exception": false,
     "start_time": "2025-08-07T16:11:35.164513",
     "status": "completed"
    },
    "tags": []
   },
   "outputs": [
    {
     "data": {
      "text/plain": [
       "5158       0.00\n",
       "3831     105.26\n",
       "5117       0.00\n",
       "6326     758.39\n",
       "11359    135.87\n",
       "          ...  \n",
       "10290     74.58\n",
       "13995      0.00\n",
       "9665     241.81\n",
       "2276       0.00\n",
       "4174       0.00\n",
       "Name: SolarRadiation, Length: 2924, dtype: float64"
      ]
     },
     "execution_count": 95,
     "metadata": {},
     "output_type": "execute_result"
    }
   ],
   "source": [
    "y_test"
   ]
  },
  {
   "cell_type": "code",
   "execution_count": 96,
   "id": "a703b773",
   "metadata": {
    "execution": {
     "iopub.execute_input": "2025-08-07T16:11:35.257439Z",
     "iopub.status.busy": "2025-08-07T16:11:35.256649Z",
     "iopub.status.idle": "2025-08-07T16:11:35.263682Z",
     "shell.execute_reply": "2025-08-07T16:11:35.262891Z"
    },
    "papermill": {
     "duration": 0.037257,
     "end_time": "2025-08-07T16:11:35.265110",
     "exception": false,
     "start_time": "2025-08-07T16:11:35.227853",
     "status": "completed"
    },
    "tags": []
   },
   "outputs": [],
   "source": [
    "mse = mean_squared_error(y_test, y_pred)\n",
    "mae = mean_absolute_error(y_test, y_pred)\n",
    "r2 = r2_score(y_test, y_pred)\n",
    "rmse = math.sqrt(mse)"
   ]
  },
  {
   "cell_type": "code",
   "execution_count": 97,
   "id": "8136e319",
   "metadata": {
    "execution": {
     "iopub.execute_input": "2025-08-07T16:11:35.322737Z",
     "iopub.status.busy": "2025-08-07T16:11:35.322181Z",
     "iopub.status.idle": "2025-08-07T16:11:35.326737Z",
     "shell.execute_reply": "2025-08-07T16:11:35.326022Z"
    },
    "papermill": {
     "duration": 0.034965,
     "end_time": "2025-08-07T16:11:35.327870",
     "exception": false,
     "start_time": "2025-08-07T16:11:35.292905",
     "status": "completed"
    },
    "tags": []
   },
   "outputs": [
    {
     "name": "stdout",
     "output_type": "stream",
     "text": [
      "MSE Score: 15586.138876607916\n",
      "MAE Score: 77.54149610443655\n",
      "R2 Score: 0.8342579385200299\n",
      "RMSE Score: 124.84445873409007\n"
     ]
    }
   ],
   "source": [
    "print(\"MSE Score:\", mse)\n",
    "print(\"MAE Score:\", mae)\n",
    "print(\"R2 Score:\", r2)\n",
    "print(\"RMSE Score:\", rmse)"
   ]
  },
  {
   "cell_type": "code",
   "execution_count": 98,
   "id": "010ac295",
   "metadata": {
    "execution": {
     "iopub.execute_input": "2025-08-07T16:11:35.384489Z",
     "iopub.status.busy": "2025-08-07T16:11:35.384201Z",
     "iopub.status.idle": "2025-08-07T16:11:35.397698Z",
     "shell.execute_reply": "2025-08-07T16:11:35.396669Z"
    },
    "papermill": {
     "duration": 0.043671,
     "end_time": "2025-08-07T16:11:35.399057",
     "exception": false,
     "start_time": "2025-08-07T16:11:35.355386",
     "status": "completed"
    },
    "tags": []
   },
   "outputs": [
    {
     "name": "stdout",
     "output_type": "stream",
     "text": [
      "✅ Regression model improved with better performance!\n",
      "   MSE: 19302.876766 → 15586.138877 (lower is better)\n",
      "   R²:  0.794734 → 0.834258 (higher is better)\n",
      "   Features: 27 → 22\n",
      "💾 Registry updated: Model_Training_History/History_Regression.csv\n"
     ]
    }
   ],
   "source": [
    "regression_params = {\n",
    "    'model_name': model_name_for_saving,\n",
    "    'scaler_name': \"StandardScaler\",\n",
    "    'features_list': feature_columns_for_saving,\n",
    "    'target_column': target_name_for_saving,\n",
    "    'mse': mse,\n",
    "    'mae': mae,\n",
    "    'rmse': rmse,\n",
    "    'r2': r2,\n",
    "    'parameters': json.dumps(training_model.get_params())\n",
    "}\n",
    "save_model_performance_if_better('regression', regression_params)"
   ]
  },
  {
   "cell_type": "markdown",
   "id": "9153245a",
   "metadata": {
    "papermill": {
     "duration": 0.029953,
     "end_time": "2025-08-07T16:11:35.457569",
     "exception": false,
     "start_time": "2025-08-07T16:11:35.427616",
     "status": "completed"
    },
    "tags": []
   },
   "source": [
    "#### Tuning with Grid Search"
   ]
  },
  {
   "cell_type": "code",
   "execution_count": 99,
   "id": "cccb3612",
   "metadata": {
    "execution": {
     "iopub.execute_input": "2025-08-07T16:11:35.517851Z",
     "iopub.status.busy": "2025-08-07T16:11:35.517573Z",
     "iopub.status.idle": "2025-08-07T16:11:35.522228Z",
     "shell.execute_reply": "2025-08-07T16:11:35.521295Z"
    },
    "papermill": {
     "duration": 0.035783,
     "end_time": "2025-08-07T16:11:35.523767",
     "exception": false,
     "start_time": "2025-08-07T16:11:35.487984",
     "status": "completed"
    },
    "tags": []
   },
   "outputs": [],
   "source": [
    "grid_search = RandomizedSearchCV(\n",
    "    SVR(), \n",
    "    grid_param,\n",
    "    n_iter=number_of_model_for_randomized_grid,\n",
    "    cv=5,\n",
    "    scoring='neg_mean_squared_error',\n",
    "    n_jobs=-1,\n",
    "    verbose=1,\n",
    "    random_state=42\n",
    ")"
   ]
  },
  {
   "cell_type": "code",
   "execution_count": 100,
   "id": "1386acbe",
   "metadata": {
    "execution": {
     "iopub.execute_input": "2025-08-07T16:11:35.581543Z",
     "iopub.status.busy": "2025-08-07T16:11:35.580772Z",
     "iopub.status.idle": "2025-08-07T17:28:13.793847Z",
     "shell.execute_reply": "2025-08-07T17:28:13.793018Z"
    },
    "papermill": {
     "duration": 4598.27392,
     "end_time": "2025-08-07T17:28:13.825808",
     "exception": false,
     "start_time": "2025-08-07T16:11:35.551888",
     "status": "completed"
    },
    "tags": []
   },
   "outputs": [
    {
     "name": "stdout",
     "output_type": "stream",
     "text": [
      "Starting hyperparameter tuning...\n",
      "Fitting 5 folds for each of 130 candidates, totalling 650 fits\n",
      "CPU times: user 2min 49s, sys: 6.06 s, total: 2min 55s\n",
      "Wall time: 1h 16min 38s\n"
     ]
    },
    {
     "data": {
      "text/html": [
       "<style>#sk-container-id-15 {color: black;background-color: white;}#sk-container-id-15 pre{padding: 0;}#sk-container-id-15 div.sk-toggleable {background-color: white;}#sk-container-id-15 label.sk-toggleable__label {cursor: pointer;display: block;width: 100%;margin-bottom: 0;padding: 0.3em;box-sizing: border-box;text-align: center;}#sk-container-id-15 label.sk-toggleable__label-arrow:before {content: \"▸\";float: left;margin-right: 0.25em;color: #696969;}#sk-container-id-15 label.sk-toggleable__label-arrow:hover:before {color: black;}#sk-container-id-15 div.sk-estimator:hover label.sk-toggleable__label-arrow:before {color: black;}#sk-container-id-15 div.sk-toggleable__content {max-height: 0;max-width: 0;overflow: hidden;text-align: left;background-color: #f0f8ff;}#sk-container-id-15 div.sk-toggleable__content pre {margin: 0.2em;color: black;border-radius: 0.25em;background-color: #f0f8ff;}#sk-container-id-15 input.sk-toggleable__control:checked~div.sk-toggleable__content {max-height: 200px;max-width: 100%;overflow: auto;}#sk-container-id-15 input.sk-toggleable__control:checked~label.sk-toggleable__label-arrow:before {content: \"▾\";}#sk-container-id-15 div.sk-estimator input.sk-toggleable__control:checked~label.sk-toggleable__label {background-color: #d4ebff;}#sk-container-id-15 div.sk-label input.sk-toggleable__control:checked~label.sk-toggleable__label {background-color: #d4ebff;}#sk-container-id-15 input.sk-hidden--visually {border: 0;clip: rect(1px 1px 1px 1px);clip: rect(1px, 1px, 1px, 1px);height: 1px;margin: -1px;overflow: hidden;padding: 0;position: absolute;width: 1px;}#sk-container-id-15 div.sk-estimator {font-family: monospace;background-color: #f0f8ff;border: 1px dotted black;border-radius: 0.25em;box-sizing: border-box;margin-bottom: 0.5em;}#sk-container-id-15 div.sk-estimator:hover {background-color: #d4ebff;}#sk-container-id-15 div.sk-parallel-item::after {content: \"\";width: 100%;border-bottom: 1px solid gray;flex-grow: 1;}#sk-container-id-15 div.sk-label:hover label.sk-toggleable__label {background-color: #d4ebff;}#sk-container-id-15 div.sk-serial::before {content: \"\";position: absolute;border-left: 1px solid gray;box-sizing: border-box;top: 0;bottom: 0;left: 50%;z-index: 0;}#sk-container-id-15 div.sk-serial {display: flex;flex-direction: column;align-items: center;background-color: white;padding-right: 0.2em;padding-left: 0.2em;position: relative;}#sk-container-id-15 div.sk-item {position: relative;z-index: 1;}#sk-container-id-15 div.sk-parallel {display: flex;align-items: stretch;justify-content: center;background-color: white;position: relative;}#sk-container-id-15 div.sk-item::before, #sk-container-id-15 div.sk-parallel-item::before {content: \"\";position: absolute;border-left: 1px solid gray;box-sizing: border-box;top: 0;bottom: 0;left: 50%;z-index: -1;}#sk-container-id-15 div.sk-parallel-item {display: flex;flex-direction: column;z-index: 1;position: relative;background-color: white;}#sk-container-id-15 div.sk-parallel-item:first-child::after {align-self: flex-end;width: 50%;}#sk-container-id-15 div.sk-parallel-item:last-child::after {align-self: flex-start;width: 50%;}#sk-container-id-15 div.sk-parallel-item:only-child::after {width: 0;}#sk-container-id-15 div.sk-dashed-wrapped {border: 1px dashed gray;margin: 0 0.4em 0.5em 0.4em;box-sizing: border-box;padding-bottom: 0.4em;background-color: white;}#sk-container-id-15 div.sk-label label {font-family: monospace;font-weight: bold;display: inline-block;line-height: 1.2em;}#sk-container-id-15 div.sk-label-container {text-align: center;}#sk-container-id-15 div.sk-container {/* jupyter's `normalize.less` sets `[hidden] { display: none; }` but bootstrap.min.css set `[hidden] { display: none !important; }` so we also need the `!important` here to be able to override the default hidden behavior on the sphinx rendered scikit-learn.org. See: https://github.com/scikit-learn/scikit-learn/issues/21755 */display: inline-block !important;position: relative;}#sk-container-id-15 div.sk-text-repr-fallback {display: none;}</style><div id=\"sk-container-id-15\" class=\"sk-top-container\"><div class=\"sk-text-repr-fallback\"><pre>RandomizedSearchCV(cv=5, estimator=SVR(), n_iter=130, n_jobs=-1,\n",
       "                   param_distributions={&#x27;C&#x27;: [0.1, 1, 10, 100],\n",
       "                                        &#x27;coef0&#x27;: [0.0, 0.1, 1.0],\n",
       "                                        &#x27;epsilon&#x27;: [0.1, 0.2],\n",
       "                                        &#x27;gamma&#x27;: [&#x27;scale&#x27;, &#x27;auto&#x27;, 0.001, 0.01,\n",
       "                                                  0.1],\n",
       "                                        &#x27;kernel&#x27;: [&#x27;linear&#x27;, &#x27;rbf&#x27;, &#x27;sigmoid&#x27;],\n",
       "                                        &#x27;shrinking&#x27;: [True],\n",
       "                                        &#x27;tol&#x27;: [0.001, 0.0001]},\n",
       "                   random_state=42, scoring=&#x27;neg_mean_squared_error&#x27;,\n",
       "                   verbose=1)</pre><b>In a Jupyter environment, please rerun this cell to show the HTML representation or trust the notebook. <br />On GitHub, the HTML representation is unable to render, please try loading this page with nbviewer.org.</b></div><div class=\"sk-container\" hidden><div class=\"sk-item sk-dashed-wrapped\"><div class=\"sk-label-container\"><div class=\"sk-label sk-toggleable\"><input class=\"sk-toggleable__control sk-hidden--visually\" id=\"sk-estimator-id-23\" type=\"checkbox\" ><label for=\"sk-estimator-id-23\" class=\"sk-toggleable__label sk-toggleable__label-arrow\">RandomizedSearchCV</label><div class=\"sk-toggleable__content\"><pre>RandomizedSearchCV(cv=5, estimator=SVR(), n_iter=130, n_jobs=-1,\n",
       "                   param_distributions={&#x27;C&#x27;: [0.1, 1, 10, 100],\n",
       "                                        &#x27;coef0&#x27;: [0.0, 0.1, 1.0],\n",
       "                                        &#x27;epsilon&#x27;: [0.1, 0.2],\n",
       "                                        &#x27;gamma&#x27;: [&#x27;scale&#x27;, &#x27;auto&#x27;, 0.001, 0.01,\n",
       "                                                  0.1],\n",
       "                                        &#x27;kernel&#x27;: [&#x27;linear&#x27;, &#x27;rbf&#x27;, &#x27;sigmoid&#x27;],\n",
       "                                        &#x27;shrinking&#x27;: [True],\n",
       "                                        &#x27;tol&#x27;: [0.001, 0.0001]},\n",
       "                   random_state=42, scoring=&#x27;neg_mean_squared_error&#x27;,\n",
       "                   verbose=1)</pre></div></div></div><div class=\"sk-parallel\"><div class=\"sk-parallel-item\"><div class=\"sk-item\"><div class=\"sk-label-container\"><div class=\"sk-label sk-toggleable\"><input class=\"sk-toggleable__control sk-hidden--visually\" id=\"sk-estimator-id-24\" type=\"checkbox\" ><label for=\"sk-estimator-id-24\" class=\"sk-toggleable__label sk-toggleable__label-arrow\">estimator: SVR</label><div class=\"sk-toggleable__content\"><pre>SVR()</pre></div></div></div><div class=\"sk-serial\"><div class=\"sk-item\"><div class=\"sk-estimator sk-toggleable\"><input class=\"sk-toggleable__control sk-hidden--visually\" id=\"sk-estimator-id-25\" type=\"checkbox\" ><label for=\"sk-estimator-id-25\" class=\"sk-toggleable__label sk-toggleable__label-arrow\">SVR</label><div class=\"sk-toggleable__content\"><pre>SVR()</pre></div></div></div></div></div></div></div></div></div></div>"
      ],
      "text/plain": [
       "RandomizedSearchCV(cv=5, estimator=SVR(), n_iter=130, n_jobs=-1,\n",
       "                   param_distributions={'C': [0.1, 1, 10, 100],\n",
       "                                        'coef0': [0.0, 0.1, 1.0],\n",
       "                                        'epsilon': [0.1, 0.2],\n",
       "                                        'gamma': ['scale', 'auto', 0.001, 0.01,\n",
       "                                                  0.1],\n",
       "                                        'kernel': ['linear', 'rbf', 'sigmoid'],\n",
       "                                        'shrinking': [True],\n",
       "                                        'tol': [0.001, 0.0001]},\n",
       "                   random_state=42, scoring='neg_mean_squared_error',\n",
       "                   verbose=1)"
      ]
     },
     "execution_count": 100,
     "metadata": {},
     "output_type": "execute_result"
    }
   ],
   "source": [
    "%%time\n",
    "print(\"Starting hyperparameter tuning...\")\n",
    "grid_search.fit(X_train, y_train)"
   ]
  },
  {
   "cell_type": "code",
   "execution_count": 101,
   "id": "dec36582",
   "metadata": {
    "execution": {
     "iopub.execute_input": "2025-08-07T17:28:13.884976Z",
     "iopub.status.busy": "2025-08-07T17:28:13.884356Z",
     "iopub.status.idle": "2025-08-07T17:28:13.890032Z",
     "shell.execute_reply": "2025-08-07T17:28:13.889283Z"
    },
    "papermill": {
     "duration": 0.036874,
     "end_time": "2025-08-07T17:28:13.891350",
     "exception": false,
     "start_time": "2025-08-07T17:28:13.854476",
     "status": "completed"
    },
    "tags": []
   },
   "outputs": [
    {
     "name": "stdout",
     "output_type": "stream",
     "text": [
      "TUNING RESULTS\n",
      "==================================================\n",
      "Best Parameters: {'tol': 0.001, 'shrinking': True, 'kernel': 'linear', 'gamma': 'auto', 'epsilon': 0.2, 'coef0': 0.1, 'C': 100}\n",
      "Best Cross-Validation Score (Negative MSE): -307.67866383456794\n",
      "Best Cross-Validation Score (MSE): 307.67866383456794\n",
      "Best Cross-Validation Score (RMSE): 17.540771472046718\n"
     ]
    }
   ],
   "source": [
    "print(\"TUNING RESULTS\")\n",
    "print(\"=\"*50)\n",
    "print(\"Best Parameters:\", grid_search.best_params_)\n",
    "print(\"Best Cross-Validation Score (Negative MSE):\", grid_search.best_score_)\n",
    "print(\"Best Cross-Validation Score (MSE):\", -grid_search.best_score_)\n",
    "print(\"Best Cross-Validation Score (RMSE):\", math.sqrt(-grid_search.best_score_))\n",
    "\n",
    "# Use the best parameters to train the robust scaler model\n",
    "grid_param_standard = {k: [v] for k, v in grid_search.best_params_.items()}"
   ]
  },
  {
   "cell_type": "code",
   "execution_count": 102,
   "id": "ccdede60",
   "metadata": {
    "execution": {
     "iopub.execute_input": "2025-08-07T17:28:13.950618Z",
     "iopub.status.busy": "2025-08-07T17:28:13.950327Z",
     "iopub.status.idle": "2025-08-07T17:28:14.443693Z",
     "shell.execute_reply": "2025-08-07T17:28:14.442874Z"
    },
    "papermill": {
     "duration": 0.524527,
     "end_time": "2025-08-07T17:28:14.445239",
     "exception": false,
     "start_time": "2025-08-07T17:28:13.920712",
     "status": "completed"
    },
    "tags": []
   },
   "outputs": [],
   "source": [
    "grid_search_best_model = grid_search.best_estimator_\n",
    "y_pred = grid_search_best_model.predict(X_test)"
   ]
  },
  {
   "cell_type": "code",
   "execution_count": 103,
   "id": "94bc5f1a",
   "metadata": {
    "execution": {
     "iopub.execute_input": "2025-08-07T17:28:14.504721Z",
     "iopub.status.busy": "2025-08-07T17:28:14.504436Z",
     "iopub.status.idle": "2025-08-07T17:28:14.512062Z",
     "shell.execute_reply": "2025-08-07T17:28:14.511039Z"
    },
    "papermill": {
     "duration": 0.038426,
     "end_time": "2025-08-07T17:28:14.513653",
     "exception": false,
     "start_time": "2025-08-07T17:28:14.475227",
     "status": "completed"
    },
    "tags": []
   },
   "outputs": [],
   "source": [
    "mse_grid_search = mean_squared_error(y_test, y_pred)\n",
    "mae_grid_search = mean_absolute_error(y_test, y_pred)\n",
    "r2_grid_search = r2_score(y_test, y_pred)\n",
    "rmse_grid_search = math.sqrt(mse_grid_search)"
   ]
  },
  {
   "cell_type": "code",
   "execution_count": 104,
   "id": "03f6077d",
   "metadata": {
    "execution": {
     "iopub.execute_input": "2025-08-07T17:28:14.571710Z",
     "iopub.status.busy": "2025-08-07T17:28:14.571422Z",
     "iopub.status.idle": "2025-08-07T17:28:14.576353Z",
     "shell.execute_reply": "2025-08-07T17:28:14.575449Z"
    },
    "papermill": {
     "duration": 0.035139,
     "end_time": "2025-08-07T17:28:14.577682",
     "exception": false,
     "start_time": "2025-08-07T17:28:14.542543",
     "status": "completed"
    },
    "tags": []
   },
   "outputs": [
    {
     "name": "stdout",
     "output_type": "stream",
     "text": [
      "MSE Score: 321.2267489014628\n",
      "MAE Score: 11.185918906689361\n",
      "R2 Score: 0.9965840941116377\n",
      "RMSE Score: 17.922799694842958\n"
     ]
    }
   ],
   "source": [
    "print(\"MSE Score:\", mse_grid_search)\n",
    "print(\"MAE Score:\", mae_grid_search)\n",
    "print(\"R2 Score:\", r2_grid_search)\n",
    "print(\"RMSE Score:\", rmse_grid_search)"
   ]
  },
  {
   "cell_type": "code",
   "execution_count": 105,
   "id": "ad4e255f",
   "metadata": {
    "execution": {
     "iopub.execute_input": "2025-08-07T17:28:14.636171Z",
     "iopub.status.busy": "2025-08-07T17:28:14.635443Z",
     "iopub.status.idle": "2025-08-07T17:28:14.648688Z",
     "shell.execute_reply": "2025-08-07T17:28:14.647885Z"
    },
    "papermill": {
     "duration": 0.043464,
     "end_time": "2025-08-07T17:28:14.649914",
     "exception": false,
     "start_time": "2025-08-07T17:28:14.606450",
     "status": "completed"
    },
    "tags": []
   },
   "outputs": [
    {
     "name": "stdout",
     "output_type": "stream",
     "text": [
      "✅ Regression model improved with same performance but fewer features!\n",
      "   MSE: 320.794829 ≈ 321.226749 (similar)\n",
      "   R²:  0.996589 ≈ 0.996584 (similar)\n",
      "   Features: 27 → 22 (🎯 5 fewer features!)\n",
      "💾 Registry updated: Model_Training_History/History_Regression.csv\n"
     ]
    }
   ],
   "source": [
    "regression_params = {\n",
    "    'model_name': model_name_for_saving + \" Tuned\",\n",
    "    'scaler_name': \"StandardScaler\",\n",
    "    'features_list': feature_columns_for_saving,\n",
    "    'target_column': target_name_for_saving,\n",
    "    'mse': mse_grid_search,\n",
    "    'mae': mae_grid_search,\n",
    "    'rmse': rmse_grid_search,\n",
    "    'r2': r2_grid_search,\n",
    "    'parameters' : json.dumps({\n",
    "        \"best_params\": grid_search.best_params_,\n",
    "        \"cv_score\": grid_search.best_score_,\n",
    "        \"all_params\": grid_search_best_model.get_params()\n",
    "    })\n",
    "}\n",
    "save_model_performance_if_better('regression', regression_params)"
   ]
  },
  {
   "cell_type": "markdown",
   "id": "b4c1db23",
   "metadata": {
    "papermill": {
     "duration": 0.027527,
     "end_time": "2025-08-07T17:28:14.705905",
     "exception": false,
     "start_time": "2025-08-07T17:28:14.678378",
     "status": "completed"
    },
    "tags": []
   },
   "source": [
    "### Robust Scaler"
   ]
  },
  {
   "cell_type": "code",
   "execution_count": 106,
   "id": "25e6e691",
   "metadata": {
    "execution": {
     "iopub.execute_input": "2025-08-07T17:28:14.764274Z",
     "iopub.status.busy": "2025-08-07T17:28:14.763934Z",
     "iopub.status.idle": "2025-08-07T17:28:14.789415Z",
     "shell.execute_reply": "2025-08-07T17:28:14.788666Z"
    },
    "papermill": {
     "duration": 0.056091,
     "end_time": "2025-08-07T17:28:14.790870",
     "exception": false,
     "start_time": "2025-08-07T17:28:14.734779",
     "status": "completed"
    },
    "tags": []
   },
   "outputs": [],
   "source": [
    "scaler = RobustScaler()\n",
    "X_train = scaler.fit_transform(X_train_raw)\n",
    "X_test = scaler.transform(X_test_raw)"
   ]
  },
  {
   "cell_type": "code",
   "execution_count": 107,
   "id": "be7e95a8",
   "metadata": {
    "execution": {
     "iopub.execute_input": "2025-08-07T17:28:14.848589Z",
     "iopub.status.busy": "2025-08-07T17:28:14.848306Z",
     "iopub.status.idle": "2025-08-07T17:28:14.853959Z",
     "shell.execute_reply": "2025-08-07T17:28:14.853206Z"
    },
    "papermill": {
     "duration": 0.036244,
     "end_time": "2025-08-07T17:28:14.855299",
     "exception": false,
     "start_time": "2025-08-07T17:28:14.819055",
     "status": "completed"
    },
    "tags": []
   },
   "outputs": [
    {
     "data": {
      "text/plain": [
       "array([[ 0.6       , -0.16666667,  0.        , ..., -0.03738547,\n",
       "         1.44008264,  8.87596899],\n",
       "       [ 1.        ,  0.33333333,  1.        , ..., -0.84268652,\n",
       "         0.62603306,  0.        ],\n",
       "       [-0.8       , -1.        ,  0.        , ..., -0.84268652,\n",
       "         0.        ,  0.        ],\n",
       "       ...,\n",
       "       [ 0.4       , -0.16666667,  0.        , ...,  0.5899051 ,\n",
       "         0.6322314 ,  0.75193798],\n",
       "       [-1.        ,  0.75      ,  0.        , ..., -0.84268652,\n",
       "         0.        ,  0.        ],\n",
       "       [ 0.6       , -0.33333333,  0.        , ...,  0.61755563,\n",
       "         0.59917355,  7.5       ]])"
      ]
     },
     "execution_count": 107,
     "metadata": {},
     "output_type": "execute_result"
    }
   ],
   "source": [
    "X_train"
   ]
  },
  {
   "cell_type": "code",
   "execution_count": 108,
   "id": "8eea566f",
   "metadata": {
    "execution": {
     "iopub.execute_input": "2025-08-07T17:28:14.913686Z",
     "iopub.status.busy": "2025-08-07T17:28:14.913374Z",
     "iopub.status.idle": "2025-08-07T17:28:14.919801Z",
     "shell.execute_reply": "2025-08-07T17:28:14.918975Z"
    },
    "papermill": {
     "duration": 0.037143,
     "end_time": "2025-08-07T17:28:14.921304",
     "exception": false,
     "start_time": "2025-08-07T17:28:14.884161",
     "status": "completed"
    },
    "tags": []
   },
   "outputs": [
    {
     "data": {
      "text/plain": [
       "array([[ 4.00000000e-01,  8.33333333e-01,  0.00000000e+00, ...,\n",
       "         6.20009817e-01,  0.00000000e+00,  0.00000000e+00],\n",
       "       [ 0.00000000e+00,  2.50000000e-01,  1.00000000e+00, ...,\n",
       "         7.40592277e-01,  1.52892562e-01,  0.00000000e+00],\n",
       "       [ 4.00000000e-01, -5.83333333e-01,  0.00000000e+00, ...,\n",
       "         7.82804319e-01,  0.00000000e+00,  0.00000000e+00],\n",
       "       ...,\n",
       "       [-8.00000000e-01,  4.16666667e-01,  1.00000000e+00, ...,\n",
       "        -8.40559555e-01,  4.19421488e-01,  0.00000000e+00],\n",
       "       [-4.00000000e-01,  6.66666667e-01,  0.00000000e+00, ...,\n",
       "        -8.42686518e-01,  0.00000000e+00,  6.67829457e+00],\n",
       "       [ 0.00000000e+00,  8.33333333e-01,  0.00000000e+00, ...,\n",
       "         1.71793194e-03,  0.00000000e+00,  0.00000000e+00]])"
      ]
     },
     "execution_count": 108,
     "metadata": {},
     "output_type": "execute_result"
    }
   ],
   "source": [
    "X_test"
   ]
  },
  {
   "cell_type": "markdown",
   "id": "e35b9545",
   "metadata": {
    "papermill": {
     "duration": 0.028549,
     "end_time": "2025-08-07T17:28:14.979254",
     "exception": false,
     "start_time": "2025-08-07T17:28:14.950705",
     "status": "completed"
    },
    "tags": []
   },
   "source": [
    "#### Default Parameters"
   ]
  },
  {
   "cell_type": "code",
   "execution_count": 109,
   "id": "e6d325cf",
   "metadata": {
    "execution": {
     "iopub.execute_input": "2025-08-07T17:28:15.038728Z",
     "iopub.status.busy": "2025-08-07T17:28:15.038453Z",
     "iopub.status.idle": "2025-08-07T17:28:15.044107Z",
     "shell.execute_reply": "2025-08-07T17:28:15.043362Z"
    },
    "papermill": {
     "duration": 0.036681,
     "end_time": "2025-08-07T17:28:15.045319",
     "exception": false,
     "start_time": "2025-08-07T17:28:15.008638",
     "status": "completed"
    },
    "tags": []
   },
   "outputs": [
    {
     "data": {
      "text/html": [
       "<style>#sk-container-id-16 {color: black;background-color: white;}#sk-container-id-16 pre{padding: 0;}#sk-container-id-16 div.sk-toggleable {background-color: white;}#sk-container-id-16 label.sk-toggleable__label {cursor: pointer;display: block;width: 100%;margin-bottom: 0;padding: 0.3em;box-sizing: border-box;text-align: center;}#sk-container-id-16 label.sk-toggleable__label-arrow:before {content: \"▸\";float: left;margin-right: 0.25em;color: #696969;}#sk-container-id-16 label.sk-toggleable__label-arrow:hover:before {color: black;}#sk-container-id-16 div.sk-estimator:hover label.sk-toggleable__label-arrow:before {color: black;}#sk-container-id-16 div.sk-toggleable__content {max-height: 0;max-width: 0;overflow: hidden;text-align: left;background-color: #f0f8ff;}#sk-container-id-16 div.sk-toggleable__content pre {margin: 0.2em;color: black;border-radius: 0.25em;background-color: #f0f8ff;}#sk-container-id-16 input.sk-toggleable__control:checked~div.sk-toggleable__content {max-height: 200px;max-width: 100%;overflow: auto;}#sk-container-id-16 input.sk-toggleable__control:checked~label.sk-toggleable__label-arrow:before {content: \"▾\";}#sk-container-id-16 div.sk-estimator input.sk-toggleable__control:checked~label.sk-toggleable__label {background-color: #d4ebff;}#sk-container-id-16 div.sk-label input.sk-toggleable__control:checked~label.sk-toggleable__label {background-color: #d4ebff;}#sk-container-id-16 input.sk-hidden--visually {border: 0;clip: rect(1px 1px 1px 1px);clip: rect(1px, 1px, 1px, 1px);height: 1px;margin: -1px;overflow: hidden;padding: 0;position: absolute;width: 1px;}#sk-container-id-16 div.sk-estimator {font-family: monospace;background-color: #f0f8ff;border: 1px dotted black;border-radius: 0.25em;box-sizing: border-box;margin-bottom: 0.5em;}#sk-container-id-16 div.sk-estimator:hover {background-color: #d4ebff;}#sk-container-id-16 div.sk-parallel-item::after {content: \"\";width: 100%;border-bottom: 1px solid gray;flex-grow: 1;}#sk-container-id-16 div.sk-label:hover label.sk-toggleable__label {background-color: #d4ebff;}#sk-container-id-16 div.sk-serial::before {content: \"\";position: absolute;border-left: 1px solid gray;box-sizing: border-box;top: 0;bottom: 0;left: 50%;z-index: 0;}#sk-container-id-16 div.sk-serial {display: flex;flex-direction: column;align-items: center;background-color: white;padding-right: 0.2em;padding-left: 0.2em;position: relative;}#sk-container-id-16 div.sk-item {position: relative;z-index: 1;}#sk-container-id-16 div.sk-parallel {display: flex;align-items: stretch;justify-content: center;background-color: white;position: relative;}#sk-container-id-16 div.sk-item::before, #sk-container-id-16 div.sk-parallel-item::before {content: \"\";position: absolute;border-left: 1px solid gray;box-sizing: border-box;top: 0;bottom: 0;left: 50%;z-index: -1;}#sk-container-id-16 div.sk-parallel-item {display: flex;flex-direction: column;z-index: 1;position: relative;background-color: white;}#sk-container-id-16 div.sk-parallel-item:first-child::after {align-self: flex-end;width: 50%;}#sk-container-id-16 div.sk-parallel-item:last-child::after {align-self: flex-start;width: 50%;}#sk-container-id-16 div.sk-parallel-item:only-child::after {width: 0;}#sk-container-id-16 div.sk-dashed-wrapped {border: 1px dashed gray;margin: 0 0.4em 0.5em 0.4em;box-sizing: border-box;padding-bottom: 0.4em;background-color: white;}#sk-container-id-16 div.sk-label label {font-family: monospace;font-weight: bold;display: inline-block;line-height: 1.2em;}#sk-container-id-16 div.sk-label-container {text-align: center;}#sk-container-id-16 div.sk-container {/* jupyter's `normalize.less` sets `[hidden] { display: none; }` but bootstrap.min.css set `[hidden] { display: none !important; }` so we also need the `!important` here to be able to override the default hidden behavior on the sphinx rendered scikit-learn.org. See: https://github.com/scikit-learn/scikit-learn/issues/21755 */display: inline-block !important;position: relative;}#sk-container-id-16 div.sk-text-repr-fallback {display: none;}</style><div id=\"sk-container-id-16\" class=\"sk-top-container\"><div class=\"sk-text-repr-fallback\"><pre>SVR()</pre><b>In a Jupyter environment, please rerun this cell to show the HTML representation or trust the notebook. <br />On GitHub, the HTML representation is unable to render, please try loading this page with nbviewer.org.</b></div><div class=\"sk-container\" hidden><div class=\"sk-item\"><div class=\"sk-estimator sk-toggleable\"><input class=\"sk-toggleable__control sk-hidden--visually\" id=\"sk-estimator-id-26\" type=\"checkbox\" checked><label for=\"sk-estimator-id-26\" class=\"sk-toggleable__label sk-toggleable__label-arrow\">SVR</label><div class=\"sk-toggleable__content\"><pre>SVR()</pre></div></div></div></div></div>"
      ],
      "text/plain": [
       "SVR()"
      ]
     },
     "execution_count": 109,
     "metadata": {},
     "output_type": "execute_result"
    }
   ],
   "source": [
    "training_model = SVR()\n",
    "training_model"
   ]
  },
  {
   "cell_type": "code",
   "execution_count": 110,
   "id": "545b7af8",
   "metadata": {
    "execution": {
     "iopub.execute_input": "2025-08-07T17:28:15.103731Z",
     "iopub.status.busy": "2025-08-07T17:28:15.103461Z",
     "iopub.status.idle": "2025-08-07T17:28:22.420269Z",
     "shell.execute_reply": "2025-08-07T17:28:22.419434Z"
    },
    "papermill": {
     "duration": 7.347343,
     "end_time": "2025-08-07T17:28:22.421593",
     "exception": false,
     "start_time": "2025-08-07T17:28:15.074250",
     "status": "completed"
    },
    "tags": []
   },
   "outputs": [
    {
     "name": "stdout",
     "output_type": "stream",
     "text": [
      "CPU times: user 7.16 s, sys: 161 ms, total: 7.32 s\n",
      "Wall time: 7.31 s\n"
     ]
    },
    {
     "data": {
      "text/html": [
       "<style>#sk-container-id-17 {color: black;background-color: white;}#sk-container-id-17 pre{padding: 0;}#sk-container-id-17 div.sk-toggleable {background-color: white;}#sk-container-id-17 label.sk-toggleable__label {cursor: pointer;display: block;width: 100%;margin-bottom: 0;padding: 0.3em;box-sizing: border-box;text-align: center;}#sk-container-id-17 label.sk-toggleable__label-arrow:before {content: \"▸\";float: left;margin-right: 0.25em;color: #696969;}#sk-container-id-17 label.sk-toggleable__label-arrow:hover:before {color: black;}#sk-container-id-17 div.sk-estimator:hover label.sk-toggleable__label-arrow:before {color: black;}#sk-container-id-17 div.sk-toggleable__content {max-height: 0;max-width: 0;overflow: hidden;text-align: left;background-color: #f0f8ff;}#sk-container-id-17 div.sk-toggleable__content pre {margin: 0.2em;color: black;border-radius: 0.25em;background-color: #f0f8ff;}#sk-container-id-17 input.sk-toggleable__control:checked~div.sk-toggleable__content {max-height: 200px;max-width: 100%;overflow: auto;}#sk-container-id-17 input.sk-toggleable__control:checked~label.sk-toggleable__label-arrow:before {content: \"▾\";}#sk-container-id-17 div.sk-estimator input.sk-toggleable__control:checked~label.sk-toggleable__label {background-color: #d4ebff;}#sk-container-id-17 div.sk-label input.sk-toggleable__control:checked~label.sk-toggleable__label {background-color: #d4ebff;}#sk-container-id-17 input.sk-hidden--visually {border: 0;clip: rect(1px 1px 1px 1px);clip: rect(1px, 1px, 1px, 1px);height: 1px;margin: -1px;overflow: hidden;padding: 0;position: absolute;width: 1px;}#sk-container-id-17 div.sk-estimator {font-family: monospace;background-color: #f0f8ff;border: 1px dotted black;border-radius: 0.25em;box-sizing: border-box;margin-bottom: 0.5em;}#sk-container-id-17 div.sk-estimator:hover {background-color: #d4ebff;}#sk-container-id-17 div.sk-parallel-item::after {content: \"\";width: 100%;border-bottom: 1px solid gray;flex-grow: 1;}#sk-container-id-17 div.sk-label:hover label.sk-toggleable__label {background-color: #d4ebff;}#sk-container-id-17 div.sk-serial::before {content: \"\";position: absolute;border-left: 1px solid gray;box-sizing: border-box;top: 0;bottom: 0;left: 50%;z-index: 0;}#sk-container-id-17 div.sk-serial {display: flex;flex-direction: column;align-items: center;background-color: white;padding-right: 0.2em;padding-left: 0.2em;position: relative;}#sk-container-id-17 div.sk-item {position: relative;z-index: 1;}#sk-container-id-17 div.sk-parallel {display: flex;align-items: stretch;justify-content: center;background-color: white;position: relative;}#sk-container-id-17 div.sk-item::before, #sk-container-id-17 div.sk-parallel-item::before {content: \"\";position: absolute;border-left: 1px solid gray;box-sizing: border-box;top: 0;bottom: 0;left: 50%;z-index: -1;}#sk-container-id-17 div.sk-parallel-item {display: flex;flex-direction: column;z-index: 1;position: relative;background-color: white;}#sk-container-id-17 div.sk-parallel-item:first-child::after {align-self: flex-end;width: 50%;}#sk-container-id-17 div.sk-parallel-item:last-child::after {align-self: flex-start;width: 50%;}#sk-container-id-17 div.sk-parallel-item:only-child::after {width: 0;}#sk-container-id-17 div.sk-dashed-wrapped {border: 1px dashed gray;margin: 0 0.4em 0.5em 0.4em;box-sizing: border-box;padding-bottom: 0.4em;background-color: white;}#sk-container-id-17 div.sk-label label {font-family: monospace;font-weight: bold;display: inline-block;line-height: 1.2em;}#sk-container-id-17 div.sk-label-container {text-align: center;}#sk-container-id-17 div.sk-container {/* jupyter's `normalize.less` sets `[hidden] { display: none; }` but bootstrap.min.css set `[hidden] { display: none !important; }` so we also need the `!important` here to be able to override the default hidden behavior on the sphinx rendered scikit-learn.org. See: https://github.com/scikit-learn/scikit-learn/issues/21755 */display: inline-block !important;position: relative;}#sk-container-id-17 div.sk-text-repr-fallback {display: none;}</style><div id=\"sk-container-id-17\" class=\"sk-top-container\"><div class=\"sk-text-repr-fallback\"><pre>SVR()</pre><b>In a Jupyter environment, please rerun this cell to show the HTML representation or trust the notebook. <br />On GitHub, the HTML representation is unable to render, please try loading this page with nbviewer.org.</b></div><div class=\"sk-container\" hidden><div class=\"sk-item\"><div class=\"sk-estimator sk-toggleable\"><input class=\"sk-toggleable__control sk-hidden--visually\" id=\"sk-estimator-id-27\" type=\"checkbox\" checked><label for=\"sk-estimator-id-27\" class=\"sk-toggleable__label sk-toggleable__label-arrow\">SVR</label><div class=\"sk-toggleable__content\"><pre>SVR()</pre></div></div></div></div></div>"
      ],
      "text/plain": [
       "SVR()"
      ]
     },
     "execution_count": 110,
     "metadata": {},
     "output_type": "execute_result"
    }
   ],
   "source": [
    "%%time\n",
    "training_model.fit(X_train, y_train)"
   ]
  },
  {
   "cell_type": "code",
   "execution_count": 111,
   "id": "ac293498",
   "metadata": {
    "execution": {
     "iopub.execute_input": "2025-08-07T17:28:22.480667Z",
     "iopub.status.busy": "2025-08-07T17:28:22.480378Z",
     "iopub.status.idle": "2025-08-07T17:28:24.532832Z",
     "shell.execute_reply": "2025-08-07T17:28:24.531978Z"
    },
    "papermill": {
     "duration": 2.083808,
     "end_time": "2025-08-07T17:28:24.534224",
     "exception": false,
     "start_time": "2025-08-07T17:28:22.450416",
     "status": "completed"
    },
    "tags": []
   },
   "outputs": [
    {
     "data": {
      "text/plain": [
       "array([ 21.16291477,  89.14157348,  21.98681985, ..., 187.47405011,\n",
       "       150.31955737,  24.17621275])"
      ]
     },
     "execution_count": 111,
     "metadata": {},
     "output_type": "execute_result"
    }
   ],
   "source": [
    "y_pred = training_model.predict(X_test)\n",
    "y_pred"
   ]
  },
  {
   "cell_type": "code",
   "execution_count": 112,
   "id": "5405d2c7",
   "metadata": {
    "execution": {
     "iopub.execute_input": "2025-08-07T17:28:24.593925Z",
     "iopub.status.busy": "2025-08-07T17:28:24.593645Z",
     "iopub.status.idle": "2025-08-07T17:28:24.599986Z",
     "shell.execute_reply": "2025-08-07T17:28:24.599267Z"
    },
    "papermill": {
     "duration": 0.036876,
     "end_time": "2025-08-07T17:28:24.601261",
     "exception": false,
     "start_time": "2025-08-07T17:28:24.564385",
     "status": "completed"
    },
    "tags": []
   },
   "outputs": [
    {
     "data": {
      "text/plain": [
       "5158       0.00\n",
       "3831     105.26\n",
       "5117       0.00\n",
       "6326     758.39\n",
       "11359    135.87\n",
       "          ...  \n",
       "10290     74.58\n",
       "13995      0.00\n",
       "9665     241.81\n",
       "2276       0.00\n",
       "4174       0.00\n",
       "Name: SolarRadiation, Length: 2924, dtype: float64"
      ]
     },
     "execution_count": 112,
     "metadata": {},
     "output_type": "execute_result"
    }
   ],
   "source": [
    "y_test"
   ]
  },
  {
   "cell_type": "code",
   "execution_count": 113,
   "id": "7b8bc7d9",
   "metadata": {
    "execution": {
     "iopub.execute_input": "2025-08-07T17:28:24.659696Z",
     "iopub.status.busy": "2025-08-07T17:28:24.659421Z",
     "iopub.status.idle": "2025-08-07T17:28:24.665461Z",
     "shell.execute_reply": "2025-08-07T17:28:24.664685Z"
    },
    "papermill": {
     "duration": 0.036686,
     "end_time": "2025-08-07T17:28:24.666765",
     "exception": false,
     "start_time": "2025-08-07T17:28:24.630079",
     "status": "completed"
    },
    "tags": []
   },
   "outputs": [],
   "source": [
    "mse = mean_squared_error(y_test, y_pred)\n",
    "mae = mean_absolute_error(y_test, y_pred)\n",
    "r2 = r2_score(y_test, y_pred)\n",
    "rmse = math.sqrt(mse)"
   ]
  },
  {
   "cell_type": "code",
   "execution_count": 114,
   "id": "7a468c31",
   "metadata": {
    "execution": {
     "iopub.execute_input": "2025-08-07T17:28:24.725417Z",
     "iopub.status.busy": "2025-08-07T17:28:24.724672Z",
     "iopub.status.idle": "2025-08-07T17:28:24.729526Z",
     "shell.execute_reply": "2025-08-07T17:28:24.728617Z"
    },
    "papermill": {
     "duration": 0.035399,
     "end_time": "2025-08-07T17:28:24.730784",
     "exception": false,
     "start_time": "2025-08-07T17:28:24.695385",
     "status": "completed"
    },
    "tags": []
   },
   "outputs": [
    {
     "name": "stdout",
     "output_type": "stream",
     "text": [
      "MSE Score: 46997.42988878044\n",
      "MAE Score: 140.0444000863578\n",
      "R2 Score: 0.5002321629690183\n",
      "RMSE Score: 216.78890628623145\n"
     ]
    }
   ],
   "source": [
    "print(\"MSE Score:\", mse)\n",
    "print(\"MAE Score:\", mae)\n",
    "print(\"R2 Score:\", r2)\n",
    "print(\"RMSE Score:\", rmse)"
   ]
  },
  {
   "cell_type": "code",
   "execution_count": 115,
   "id": "2d1a4875",
   "metadata": {
    "execution": {
     "iopub.execute_input": "2025-08-07T17:28:24.790388Z",
     "iopub.status.busy": "2025-08-07T17:28:24.790048Z",
     "iopub.status.idle": "2025-08-07T17:28:24.801996Z",
     "shell.execute_reply": "2025-08-07T17:28:24.801281Z"
    },
    "papermill": {
     "duration": 0.04334,
     "end_time": "2025-08-07T17:28:24.803565",
     "exception": false,
     "start_time": "2025-08-07T17:28:24.760225",
     "status": "completed"
    },
    "tags": []
   },
   "outputs": [
    {
     "name": "stdout",
     "output_type": "stream",
     "text": [
      "✅ Regression model improved with better performance!\n",
      "   MSE: 136148.881759 → 46997.429889 (lower is better)\n",
      "   R²:  -0.447799 → 0.500232 (higher is better)\n",
      "   Features: 27 → 22\n",
      "💾 Registry updated: Model_Training_History/History_Regression.csv\n"
     ]
    }
   ],
   "source": [
    "regression_params = {\n",
    "    'model_name': model_name_for_saving,\n",
    "    'scaler_name': \"RobustScaler\",\n",
    "    'features_list': feature_columns_for_saving,\n",
    "    'target_column': target_name_for_saving,\n",
    "    'mse': mse,\n",
    "    'mae': mae,\n",
    "    'rmse': rmse,\n",
    "    'r2': r2,\n",
    "    'parameters': json.dumps(training_model.get_params())\n",
    "}\n",
    "save_model_performance_if_better('regression', regression_params)"
   ]
  },
  {
   "cell_type": "markdown",
   "id": "df6f9510",
   "metadata": {
    "papermill": {
     "duration": 0.028865,
     "end_time": "2025-08-07T17:28:24.862871",
     "exception": false,
     "start_time": "2025-08-07T17:28:24.834006",
     "status": "completed"
    },
    "tags": []
   },
   "source": [
    "#### Tuning with Grid Search"
   ]
  },
  {
   "cell_type": "code",
   "execution_count": 116,
   "id": "723aa767",
   "metadata": {
    "execution": {
     "iopub.execute_input": "2025-08-07T17:28:24.922855Z",
     "iopub.status.busy": "2025-08-07T17:28:24.922561Z",
     "iopub.status.idle": "2025-08-07T17:28:24.926506Z",
     "shell.execute_reply": "2025-08-07T17:28:24.925758Z"
    },
    "papermill": {
     "duration": 0.035666,
     "end_time": "2025-08-07T17:28:24.927981",
     "exception": false,
     "start_time": "2025-08-07T17:28:24.892315",
     "status": "completed"
    },
    "tags": []
   },
   "outputs": [],
   "source": [
    "grid_param_robust = [grid_param_minmax, grid_param_standard]"
   ]
  },
  {
   "cell_type": "code",
   "execution_count": 117,
   "id": "1f83c4e4",
   "metadata": {
    "execution": {
     "iopub.execute_input": "2025-08-07T17:28:24.989159Z",
     "iopub.status.busy": "2025-08-07T17:28:24.988830Z",
     "iopub.status.idle": "2025-08-07T17:28:24.993604Z",
     "shell.execute_reply": "2025-08-07T17:28:24.992632Z"
    },
    "papermill": {
     "duration": 0.036861,
     "end_time": "2025-08-07T17:28:24.995068",
     "exception": false,
     "start_time": "2025-08-07T17:28:24.958207",
     "status": "completed"
    },
    "tags": []
   },
   "outputs": [],
   "source": [
    "grid_search = GridSearchCV(\n",
    "    SVR(), \n",
    "    grid_param_robust, \n",
    "    cv=5, \n",
    "    scoring='neg_mean_squared_error', \n",
    "    n_jobs=-1, # allow parallel processing, you cant use your own laptop while this runs\n",
    "    verbose=1\n",
    ")"
   ]
  },
  {
   "cell_type": "code",
   "execution_count": 118,
   "id": "67e117f1",
   "metadata": {
    "execution": {
     "iopub.execute_input": "2025-08-07T17:28:25.057107Z",
     "iopub.status.busy": "2025-08-07T17:28:25.056231Z",
     "iopub.status.idle": "2025-08-07T17:43:39.238649Z",
     "shell.execute_reply": "2025-08-07T17:43:39.237711Z"
    },
    "papermill": {
     "duration": 914.245434,
     "end_time": "2025-08-07T17:43:39.270521",
     "exception": false,
     "start_time": "2025-08-07T17:28:25.025087",
     "status": "completed"
    },
    "tags": []
   },
   "outputs": [
    {
     "name": "stdout",
     "output_type": "stream",
     "text": [
      "Starting hyperparameter tuning...\n",
      "Fitting 5 folds for each of 2 candidates, totalling 10 fits\n",
      "CPU times: user 3min 54s, sys: 1.2 s, total: 3min 55s\n",
      "Wall time: 15min 14s\n"
     ]
    },
    {
     "data": {
      "text/html": [
       "<style>#sk-container-id-18 {color: black;background-color: white;}#sk-container-id-18 pre{padding: 0;}#sk-container-id-18 div.sk-toggleable {background-color: white;}#sk-container-id-18 label.sk-toggleable__label {cursor: pointer;display: block;width: 100%;margin-bottom: 0;padding: 0.3em;box-sizing: border-box;text-align: center;}#sk-container-id-18 label.sk-toggleable__label-arrow:before {content: \"▸\";float: left;margin-right: 0.25em;color: #696969;}#sk-container-id-18 label.sk-toggleable__label-arrow:hover:before {color: black;}#sk-container-id-18 div.sk-estimator:hover label.sk-toggleable__label-arrow:before {color: black;}#sk-container-id-18 div.sk-toggleable__content {max-height: 0;max-width: 0;overflow: hidden;text-align: left;background-color: #f0f8ff;}#sk-container-id-18 div.sk-toggleable__content pre {margin: 0.2em;color: black;border-radius: 0.25em;background-color: #f0f8ff;}#sk-container-id-18 input.sk-toggleable__control:checked~div.sk-toggleable__content {max-height: 200px;max-width: 100%;overflow: auto;}#sk-container-id-18 input.sk-toggleable__control:checked~label.sk-toggleable__label-arrow:before {content: \"▾\";}#sk-container-id-18 div.sk-estimator input.sk-toggleable__control:checked~label.sk-toggleable__label {background-color: #d4ebff;}#sk-container-id-18 div.sk-label input.sk-toggleable__control:checked~label.sk-toggleable__label {background-color: #d4ebff;}#sk-container-id-18 input.sk-hidden--visually {border: 0;clip: rect(1px 1px 1px 1px);clip: rect(1px, 1px, 1px, 1px);height: 1px;margin: -1px;overflow: hidden;padding: 0;position: absolute;width: 1px;}#sk-container-id-18 div.sk-estimator {font-family: monospace;background-color: #f0f8ff;border: 1px dotted black;border-radius: 0.25em;box-sizing: border-box;margin-bottom: 0.5em;}#sk-container-id-18 div.sk-estimator:hover {background-color: #d4ebff;}#sk-container-id-18 div.sk-parallel-item::after {content: \"\";width: 100%;border-bottom: 1px solid gray;flex-grow: 1;}#sk-container-id-18 div.sk-label:hover label.sk-toggleable__label {background-color: #d4ebff;}#sk-container-id-18 div.sk-serial::before {content: \"\";position: absolute;border-left: 1px solid gray;box-sizing: border-box;top: 0;bottom: 0;left: 50%;z-index: 0;}#sk-container-id-18 div.sk-serial {display: flex;flex-direction: column;align-items: center;background-color: white;padding-right: 0.2em;padding-left: 0.2em;position: relative;}#sk-container-id-18 div.sk-item {position: relative;z-index: 1;}#sk-container-id-18 div.sk-parallel {display: flex;align-items: stretch;justify-content: center;background-color: white;position: relative;}#sk-container-id-18 div.sk-item::before, #sk-container-id-18 div.sk-parallel-item::before {content: \"\";position: absolute;border-left: 1px solid gray;box-sizing: border-box;top: 0;bottom: 0;left: 50%;z-index: -1;}#sk-container-id-18 div.sk-parallel-item {display: flex;flex-direction: column;z-index: 1;position: relative;background-color: white;}#sk-container-id-18 div.sk-parallel-item:first-child::after {align-self: flex-end;width: 50%;}#sk-container-id-18 div.sk-parallel-item:last-child::after {align-self: flex-start;width: 50%;}#sk-container-id-18 div.sk-parallel-item:only-child::after {width: 0;}#sk-container-id-18 div.sk-dashed-wrapped {border: 1px dashed gray;margin: 0 0.4em 0.5em 0.4em;box-sizing: border-box;padding-bottom: 0.4em;background-color: white;}#sk-container-id-18 div.sk-label label {font-family: monospace;font-weight: bold;display: inline-block;line-height: 1.2em;}#sk-container-id-18 div.sk-label-container {text-align: center;}#sk-container-id-18 div.sk-container {/* jupyter's `normalize.less` sets `[hidden] { display: none; }` but bootstrap.min.css set `[hidden] { display: none !important; }` so we also need the `!important` here to be able to override the default hidden behavior on the sphinx rendered scikit-learn.org. See: https://github.com/scikit-learn/scikit-learn/issues/21755 */display: inline-block !important;position: relative;}#sk-container-id-18 div.sk-text-repr-fallback {display: none;}</style><div id=\"sk-container-id-18\" class=\"sk-top-container\"><div class=\"sk-text-repr-fallback\"><pre>GridSearchCV(cv=5, estimator=SVR(), n_jobs=-1,\n",
       "             param_grid=[{&#x27;C&#x27;: [100], &#x27;coef0&#x27;: [0.1], &#x27;epsilon&#x27;: [0.2],\n",
       "                          &#x27;gamma&#x27;: [&#x27;auto&#x27;], &#x27;kernel&#x27;: [&#x27;linear&#x27;],\n",
       "                          &#x27;shrinking&#x27;: [True], &#x27;tol&#x27;: [0.001]},\n",
       "                         {&#x27;C&#x27;: [100], &#x27;coef0&#x27;: [0.1], &#x27;epsilon&#x27;: [0.2],\n",
       "                          &#x27;gamma&#x27;: [&#x27;auto&#x27;], &#x27;kernel&#x27;: [&#x27;linear&#x27;],\n",
       "                          &#x27;shrinking&#x27;: [True], &#x27;tol&#x27;: [0.001]}],\n",
       "             scoring=&#x27;neg_mean_squared_error&#x27;, verbose=1)</pre><b>In a Jupyter environment, please rerun this cell to show the HTML representation or trust the notebook. <br />On GitHub, the HTML representation is unable to render, please try loading this page with nbviewer.org.</b></div><div class=\"sk-container\" hidden><div class=\"sk-item sk-dashed-wrapped\"><div class=\"sk-label-container\"><div class=\"sk-label sk-toggleable\"><input class=\"sk-toggleable__control sk-hidden--visually\" id=\"sk-estimator-id-28\" type=\"checkbox\" ><label for=\"sk-estimator-id-28\" class=\"sk-toggleable__label sk-toggleable__label-arrow\">GridSearchCV</label><div class=\"sk-toggleable__content\"><pre>GridSearchCV(cv=5, estimator=SVR(), n_jobs=-1,\n",
       "             param_grid=[{&#x27;C&#x27;: [100], &#x27;coef0&#x27;: [0.1], &#x27;epsilon&#x27;: [0.2],\n",
       "                          &#x27;gamma&#x27;: [&#x27;auto&#x27;], &#x27;kernel&#x27;: [&#x27;linear&#x27;],\n",
       "                          &#x27;shrinking&#x27;: [True], &#x27;tol&#x27;: [0.001]},\n",
       "                         {&#x27;C&#x27;: [100], &#x27;coef0&#x27;: [0.1], &#x27;epsilon&#x27;: [0.2],\n",
       "                          &#x27;gamma&#x27;: [&#x27;auto&#x27;], &#x27;kernel&#x27;: [&#x27;linear&#x27;],\n",
       "                          &#x27;shrinking&#x27;: [True], &#x27;tol&#x27;: [0.001]}],\n",
       "             scoring=&#x27;neg_mean_squared_error&#x27;, verbose=1)</pre></div></div></div><div class=\"sk-parallel\"><div class=\"sk-parallel-item\"><div class=\"sk-item\"><div class=\"sk-label-container\"><div class=\"sk-label sk-toggleable\"><input class=\"sk-toggleable__control sk-hidden--visually\" id=\"sk-estimator-id-29\" type=\"checkbox\" ><label for=\"sk-estimator-id-29\" class=\"sk-toggleable__label sk-toggleable__label-arrow\">estimator: SVR</label><div class=\"sk-toggleable__content\"><pre>SVR()</pre></div></div></div><div class=\"sk-serial\"><div class=\"sk-item\"><div class=\"sk-estimator sk-toggleable\"><input class=\"sk-toggleable__control sk-hidden--visually\" id=\"sk-estimator-id-30\" type=\"checkbox\" ><label for=\"sk-estimator-id-30\" class=\"sk-toggleable__label sk-toggleable__label-arrow\">SVR</label><div class=\"sk-toggleable__content\"><pre>SVR()</pre></div></div></div></div></div></div></div></div></div></div>"
      ],
      "text/plain": [
       "GridSearchCV(cv=5, estimator=SVR(), n_jobs=-1,\n",
       "             param_grid=[{'C': [100], 'coef0': [0.1], 'epsilon': [0.2],\n",
       "                          'gamma': ['auto'], 'kernel': ['linear'],\n",
       "                          'shrinking': [True], 'tol': [0.001]},\n",
       "                         {'C': [100], 'coef0': [0.1], 'epsilon': [0.2],\n",
       "                          'gamma': ['auto'], 'kernel': ['linear'],\n",
       "                          'shrinking': [True], 'tol': [0.001]}],\n",
       "             scoring='neg_mean_squared_error', verbose=1)"
      ]
     },
     "execution_count": 118,
     "metadata": {},
     "output_type": "execute_result"
    }
   ],
   "source": [
    "%%time\n",
    "print(\"Starting hyperparameter tuning...\")\n",
    "grid_search.fit(X_train, y_train)"
   ]
  },
  {
   "cell_type": "code",
   "execution_count": 119,
   "id": "822371a2",
   "metadata": {
    "execution": {
     "iopub.execute_input": "2025-08-07T17:43:39.330939Z",
     "iopub.status.busy": "2025-08-07T17:43:39.330648Z",
     "iopub.status.idle": "2025-08-07T17:43:39.336158Z",
     "shell.execute_reply": "2025-08-07T17:43:39.335193Z"
    },
    "papermill": {
     "duration": 0.037518,
     "end_time": "2025-08-07T17:43:39.337571",
     "exception": false,
     "start_time": "2025-08-07T17:43:39.300053",
     "status": "completed"
    },
    "tags": []
   },
   "outputs": [
    {
     "name": "stdout",
     "output_type": "stream",
     "text": [
      "TUNING RESULTS\n",
      "==================================================\n",
      "Best Parameters: {'C': 100, 'coef0': 0.1, 'epsilon': 0.2, 'gamma': 'auto', 'kernel': 'linear', 'shrinking': True, 'tol': 0.001}\n",
      "Best Cross-Validation Score (Negative MSE): -307.7222472725265\n",
      "Best Cross-Validation Score (MSE): 307.7222472725265\n",
      "Best Cross-Validation Score (RMSE): 17.542013774721717\n"
     ]
    }
   ],
   "source": [
    "print(\"TUNING RESULTS\")\n",
    "print(\"=\"*50)\n",
    "print(\"Best Parameters:\", grid_search.best_params_)\n",
    "print(\"Best Cross-Validation Score (Negative MSE):\", grid_search.best_score_)\n",
    "print(\"Best Cross-Validation Score (MSE):\", -grid_search.best_score_)\n",
    "print(\"Best Cross-Validation Score (RMSE):\", math.sqrt(-grid_search.best_score_))"
   ]
  },
  {
   "cell_type": "code",
   "execution_count": 120,
   "id": "b2a21a43",
   "metadata": {
    "execution": {
     "iopub.execute_input": "2025-08-07T17:43:39.399661Z",
     "iopub.status.busy": "2025-08-07T17:43:39.399371Z",
     "iopub.status.idle": "2025-08-07T17:43:39.928801Z",
     "shell.execute_reply": "2025-08-07T17:43:39.927826Z"
    },
    "papermill": {
     "duration": 0.562895,
     "end_time": "2025-08-07T17:43:39.930428",
     "exception": false,
     "start_time": "2025-08-07T17:43:39.367533",
     "status": "completed"
    },
    "tags": []
   },
   "outputs": [],
   "source": [
    "grid_search_best_model = grid_search.best_estimator_\n",
    "y_pred = grid_search_best_model.predict(X_test)"
   ]
  },
  {
   "cell_type": "code",
   "execution_count": 121,
   "id": "1d38f4af",
   "metadata": {
    "execution": {
     "iopub.execute_input": "2025-08-07T17:43:39.992676Z",
     "iopub.status.busy": "2025-08-07T17:43:39.992372Z",
     "iopub.status.idle": "2025-08-07T17:43:39.999508Z",
     "shell.execute_reply": "2025-08-07T17:43:39.998521Z"
    },
    "papermill": {
     "duration": 0.040444,
     "end_time": "2025-08-07T17:43:40.001050",
     "exception": false,
     "start_time": "2025-08-07T17:43:39.960606",
     "status": "completed"
    },
    "tags": []
   },
   "outputs": [],
   "source": [
    "mse_grid_search = mean_squared_error(y_test, y_pred)\n",
    "mae_grid_search = mean_absolute_error(y_test, y_pred)\n",
    "r2_grid_search = r2_score(y_test, y_pred)\n",
    "rmse_grid_search = math.sqrt(mse_grid_search)"
   ]
  },
  {
   "cell_type": "code",
   "execution_count": 122,
   "id": "40839a30",
   "metadata": {
    "execution": {
     "iopub.execute_input": "2025-08-07T17:43:40.065193Z",
     "iopub.status.busy": "2025-08-07T17:43:40.064814Z",
     "iopub.status.idle": "2025-08-07T17:43:40.069832Z",
     "shell.execute_reply": "2025-08-07T17:43:40.069055Z"
    },
    "papermill": {
     "duration": 0.037865,
     "end_time": "2025-08-07T17:43:40.071223",
     "exception": false,
     "start_time": "2025-08-07T17:43:40.033358",
     "status": "completed"
    },
    "tags": []
   },
   "outputs": [
    {
     "name": "stdout",
     "output_type": "stream",
     "text": [
      "MSE Score: 321.2780058109242\n",
      "MAE Score: 11.185873042390787\n",
      "R2 Score: 0.9965835490487516\n",
      "RMSE Score: 17.924229573706207\n"
     ]
    }
   ],
   "source": [
    "print(\"MSE Score:\", mse_grid_search)\n",
    "print(\"MAE Score:\", mae_grid_search)\n",
    "print(\"R2 Score:\", r2_grid_search)\n",
    "print(\"RMSE Score:\", rmse_grid_search)"
   ]
  },
  {
   "cell_type": "code",
   "execution_count": 123,
   "id": "e3350fae",
   "metadata": {
    "execution": {
     "iopub.execute_input": "2025-08-07T17:43:40.133191Z",
     "iopub.status.busy": "2025-08-07T17:43:40.132828Z",
     "iopub.status.idle": "2025-08-07T17:43:40.146048Z",
     "shell.execute_reply": "2025-08-07T17:43:40.145204Z"
    },
    "papermill": {
     "duration": 0.045671,
     "end_time": "2025-08-07T17:43:40.147506",
     "exception": false,
     "start_time": "2025-08-07T17:43:40.101835",
     "status": "completed"
    },
    "tags": []
   },
   "outputs": [
    {
     "name": "stdout",
     "output_type": "stream",
     "text": [
      "✅ Regression model improved with same performance but fewer features!\n",
      "   MSE: 320.850812 ≈ 321.278006 (similar)\n",
      "   R²:  0.996588 ≈ 0.996584 (similar)\n",
      "   Features: 27 → 22 (🎯 5 fewer features!)\n",
      "💾 Registry updated: Model_Training_History/History_Regression.csv\n"
     ]
    }
   ],
   "source": [
    "regression_params = {\n",
    "    'model_name': model_name_for_saving + \" Tuned\",\n",
    "    'scaler_name': \"RobustScaler\",\n",
    "    'features_list': feature_columns_for_saving,\n",
    "    'target_column': target_name_for_saving,\n",
    "    'mse': mse_grid_search,\n",
    "    'mae': mae_grid_search,\n",
    "    'rmse': rmse_grid_search,\n",
    "    'r2': r2_grid_search,\n",
    "    'parameters' : json.dumps({\n",
    "        \"best_params\": grid_search.best_params_,\n",
    "        \"cv_score\": grid_search.best_score_,\n",
    "        \"all_params\": grid_search_best_model.get_params()\n",
    "    })\n",
    "}\n",
    "save_model_performance_if_better('regression', regression_params)"
   ]
  },
  {
   "cell_type": "markdown",
   "id": "4e46ffe3",
   "metadata": {
    "papermill": {
     "duration": 0.029748,
     "end_time": "2025-08-07T17:43:40.208390",
     "exception": false,
     "start_time": "2025-08-07T17:43:40.178642",
     "status": "completed"
    },
    "tags": []
   },
   "source": [
    "# All Performance"
   ]
  },
  {
   "cell_type": "code",
   "execution_count": 124,
   "id": "5bf524b3",
   "metadata": {
    "execution": {
     "iopub.execute_input": "2025-08-07T17:43:40.269695Z",
     "iopub.status.busy": "2025-08-07T17:43:40.268928Z",
     "iopub.status.idle": "2025-08-07T17:43:40.283144Z",
     "shell.execute_reply": "2025-08-07T17:43:40.282326Z"
    },
    "papermill": {
     "duration": 0.046306,
     "end_time": "2025-08-07T17:43:40.284526",
     "exception": false,
     "start_time": "2025-08-07T17:43:40.238220",
     "status": "completed"
    },
    "tags": []
   },
   "outputs": [
    {
     "name": "stdout",
     "output_type": "stream",
     "text": [
      "\n",
      "📊 REGRESSION Model Performance History\n",
      "====================================================================================================\n",
      "    Model         Scaler         Target  Features          MSE        MAE       RMSE       R²\n",
      "SVR Tuned StandardScaler SolarRadiation        22   321.226749  11.185919  17.922800 0.996584\n",
      "SVR Tuned   RobustScaler SolarRadiation        22   321.278006  11.185873  17.924230 0.996584\n",
      "SVR Tuned   MinMaxScaler SolarRadiation        22   321.466205  11.186219  17.929479 0.996582\n",
      "      SVR   MinMaxScaler SolarRadiation        22 13404.265070  72.944511 115.776790 0.857460\n",
      "      SVR StandardScaler SolarRadiation        22 15586.138877  77.541496 124.844459 0.834258\n",
      "      SVR   RobustScaler SolarRadiation        22 46997.429889 140.044400 216.788906 0.500232\n",
      "\n",
      "📈 Total models shown: 6\n",
      "🏆 Best R² Score: 0.996584 (SVR Tuned + StandardScaler for SolarRadiation)\n"
     ]
    }
   ],
   "source": [
    "show_model_history('regression', model_name=model_name_for_saving, target_column=target_name_for_saving)"
   ]
  },
  {
   "cell_type": "markdown",
   "id": "82caf8d8",
   "metadata": {
    "papermill": {
     "duration": 0.029477,
     "end_time": "2025-08-07T17:43:40.344232",
     "exception": false,
     "start_time": "2025-08-07T17:43:40.314755",
     "status": "completed"
    },
    "tags": []
   },
   "source": [
    "# <center><font size=\"50\" color=\"red\">Thank You</font></center>"
   ]
  }
 ],
 "metadata": {
  "kaggle": {
   "accelerator": "none",
   "dataSources": [
    {
     "datasetId": 7943485,
     "sourceId": 12698463,
     "sourceType": "datasetVersion"
    }
   ],
   "isGpuEnabled": false,
   "isInternetEnabled": true,
   "language": "python",
   "sourceType": "notebook"
  },
  "kernelspec": {
   "display_name": "Python 3",
   "language": "python",
   "name": "python3"
  },
  "language_info": {
   "codemirror_mode": {
    "name": "ipython",
    "version": 3
   },
   "file_extension": ".py",
   "mimetype": "text/x-python",
   "name": "python",
   "nbconvert_exporter": "python",
   "pygments_lexer": "ipython3",
   "version": "3.11.13"
  },
  "papermill": {
   "default_parameters": {},
   "duration": 28010.762842,
   "end_time": "2025-08-07T17:43:43.019843",
   "environment_variables": {},
   "exception": null,
   "input_path": "__notebook__.ipynb",
   "output_path": "__notebook__.ipynb",
   "parameters": {},
   "start_time": "2025-08-07T09:56:52.257001",
   "version": "2.6.0"
  }
 },
 "nbformat": 4,
 "nbformat_minor": 5
}
