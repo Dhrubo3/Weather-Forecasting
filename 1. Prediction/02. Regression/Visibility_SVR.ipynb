{
 "cells": [
  {
   "cell_type": "markdown",
   "id": "296d2ab6",
   "metadata": {
    "papermill": {
     "duration": 0.023609,
     "end_time": "2025-08-07T19:00:45.394394",
     "exception": false,
     "start_time": "2025-08-07T19:00:45.370785",
     "status": "completed"
    },
    "tags": []
   },
   "source": [
    "# <font color=\"red\">Visibility Prediction with Support Vector Regressor</font>"
   ]
  },
  {
   "cell_type": "markdown",
   "id": "7cb08d90",
   "metadata": {
    "papermill": {
     "duration": 0.017998,
     "end_time": "2025-08-07T19:00:45.432744",
     "exception": false,
     "start_time": "2025-08-07T19:00:45.414746",
     "status": "completed"
    },
    "tags": []
   },
   "source": [
    "# Library Import"
   ]
  },
  {
   "cell_type": "code",
   "execution_count": 1,
   "id": "ecb1365e",
   "metadata": {
    "execution": {
     "iopub.execute_input": "2025-08-07T19:00:45.471324Z",
     "iopub.status.busy": "2025-08-07T19:00:45.470944Z",
     "iopub.status.idle": "2025-08-07T19:00:49.527910Z",
     "shell.execute_reply": "2025-08-07T19:00:49.526594Z"
    },
    "papermill": {
     "duration": 4.0783,
     "end_time": "2025-08-07T19:00:49.529714",
     "exception": false,
     "start_time": "2025-08-07T19:00:45.451414",
     "status": "completed"
    },
    "tags": []
   },
   "outputs": [],
   "source": [
    "# Data manipulation and visualization\n",
    "import pandas as pd\n",
    "import math\n",
    "import json\n",
    "\n",
    "# Preprocessing\n",
    "from sklearn.model_selection import StratifiedShuffleSplit, RandomizedSearchCV, GridSearchCV\n",
    "from sklearn.preprocessing import MinMaxScaler, StandardScaler, RobustScaler\n",
    "from sklearn.metrics import r2_score, mean_squared_error, mean_absolute_error\n",
    "from sklearn.svm import SVR\n",
    "\n",
    "import sys\n",
    "#sys.path.append('../../../') # Uncomment this line if running locally\n",
    "sys.path.append('/kaggle/input/weatherdata') # Uncomment this line if running on Kaggle\n",
    "from historyManagement import *\n",
    "\n",
    "# suppress warnings\n",
    "import warnings\n",
    "warnings.filterwarnings(\"ignore\")"
   ]
  },
  {
   "cell_type": "markdown",
   "id": "801da20b",
   "metadata": {
    "papermill": {
     "duration": 0.018901,
     "end_time": "2025-08-07T19:00:49.567437",
     "exception": false,
     "start_time": "2025-08-07T19:00:49.548536",
     "status": "completed"
    },
    "tags": []
   },
   "source": [
    "# Datasets Import"
   ]
  },
  {
   "cell_type": "code",
   "execution_count": 2,
   "id": "67c1a548",
   "metadata": {
    "execution": {
     "iopub.execute_input": "2025-08-07T19:00:49.673878Z",
     "iopub.status.busy": "2025-08-07T19:00:49.673373Z",
     "iopub.status.idle": "2025-08-07T19:00:49.846626Z",
     "shell.execute_reply": "2025-08-07T19:00:49.845677Z"
    },
    "papermill": {
     "duration": 0.194648,
     "end_time": "2025-08-07T19:00:49.848241",
     "exception": false,
     "start_time": "2025-08-07T19:00:49.653593",
     "status": "completed"
    },
    "tags": []
   },
   "outputs": [
    {
     "data": {
      "text/html": [
       "<div>\n",
       "<style scoped>\n",
       "    .dataframe tbody tr th:only-of-type {\n",
       "        vertical-align: middle;\n",
       "    }\n",
       "\n",
       "    .dataframe tbody tr th {\n",
       "        vertical-align: top;\n",
       "    }\n",
       "\n",
       "    .dataframe thead th {\n",
       "        text-align: right;\n",
       "    }\n",
       "</style>\n",
       "<table border=\"1\" class=\"dataframe\">\n",
       "  <thead>\n",
       "    <tr style=\"text-align: right;\">\n",
       "      <th></th>\n",
       "      <th>DateTime</th>\n",
       "      <th>Year</th>\n",
       "      <th>Month</th>\n",
       "      <th>Day</th>\n",
       "      <th>Hour</th>\n",
       "      <th>DaySegments</th>\n",
       "      <th>DaySegments_Afternoon</th>\n",
       "      <th>DaySegments_Early Morning</th>\n",
       "      <th>DaySegments_Evening</th>\n",
       "      <th>DaySegments_Late Night</th>\n",
       "      <th>...</th>\n",
       "      <th>WindDir</th>\n",
       "      <th>SeaLevelPressure</th>\n",
       "      <th>CloudCover</th>\n",
       "      <th>UVIndex</th>\n",
       "      <th>SevereRisk</th>\n",
       "      <th>Visibility</th>\n",
       "      <th>SolarRadiation</th>\n",
       "      <th>SolarEnergy</th>\n",
       "      <th>Conditions</th>\n",
       "      <th>Icon</th>\n",
       "    </tr>\n",
       "  </thead>\n",
       "  <tbody>\n",
       "    <tr>\n",
       "      <th>0</th>\n",
       "      <td>2023-01-01 00:00:00</td>\n",
       "      <td>2023</td>\n",
       "      <td>1</td>\n",
       "      <td>1</td>\n",
       "      <td>0</td>\n",
       "      <td>Late Night</td>\n",
       "      <td>0</td>\n",
       "      <td>0</td>\n",
       "      <td>0</td>\n",
       "      <td>1</td>\n",
       "      <td>...</td>\n",
       "      <td>0.49</td>\n",
       "      <td>1018.68</td>\n",
       "      <td>0.03</td>\n",
       "      <td>0.0</td>\n",
       "      <td>10.0</td>\n",
       "      <td>2.76</td>\n",
       "      <td>0.0</td>\n",
       "      <td>0.0</td>\n",
       "      <td>Clear</td>\n",
       "      <td>clear-night</td>\n",
       "    </tr>\n",
       "    <tr>\n",
       "      <th>1</th>\n",
       "      <td>2023-01-01 01:00:00</td>\n",
       "      <td>2023</td>\n",
       "      <td>1</td>\n",
       "      <td>1</td>\n",
       "      <td>1</td>\n",
       "      <td>Late Night</td>\n",
       "      <td>0</td>\n",
       "      <td>0</td>\n",
       "      <td>0</td>\n",
       "      <td>1</td>\n",
       "      <td>...</td>\n",
       "      <td>0.54</td>\n",
       "      <td>1018.03</td>\n",
       "      <td>0.11</td>\n",
       "      <td>0.0</td>\n",
       "      <td>10.0</td>\n",
       "      <td>1.75</td>\n",
       "      <td>0.0</td>\n",
       "      <td>0.0</td>\n",
       "      <td>Clear</td>\n",
       "      <td>clear-night</td>\n",
       "    </tr>\n",
       "    <tr>\n",
       "      <th>2</th>\n",
       "      <td>2023-01-01 02:00:00</td>\n",
       "      <td>2023</td>\n",
       "      <td>1</td>\n",
       "      <td>1</td>\n",
       "      <td>2</td>\n",
       "      <td>Late Night</td>\n",
       "      <td>0</td>\n",
       "      <td>0</td>\n",
       "      <td>0</td>\n",
       "      <td>1</td>\n",
       "      <td>...</td>\n",
       "      <td>30.51</td>\n",
       "      <td>1017.56</td>\n",
       "      <td>0.03</td>\n",
       "      <td>0.0</td>\n",
       "      <td>10.0</td>\n",
       "      <td>1.75</td>\n",
       "      <td>0.0</td>\n",
       "      <td>0.0</td>\n",
       "      <td>Clear</td>\n",
       "      <td>clear-night</td>\n",
       "    </tr>\n",
       "    <tr>\n",
       "      <th>3</th>\n",
       "      <td>2023-01-01 03:00:00</td>\n",
       "      <td>2023</td>\n",
       "      <td>1</td>\n",
       "      <td>1</td>\n",
       "      <td>3</td>\n",
       "      <td>Late Night</td>\n",
       "      <td>0</td>\n",
       "      <td>0</td>\n",
       "      <td>0</td>\n",
       "      <td>1</td>\n",
       "      <td>...</td>\n",
       "      <td>49.23</td>\n",
       "      <td>1018.05</td>\n",
       "      <td>0.00</td>\n",
       "      <td>0.0</td>\n",
       "      <td>10.0</td>\n",
       "      <td>2.28</td>\n",
       "      <td>0.0</td>\n",
       "      <td>0.0</td>\n",
       "      <td>Clear</td>\n",
       "      <td>clear-night</td>\n",
       "    </tr>\n",
       "    <tr>\n",
       "      <th>4</th>\n",
       "      <td>2023-01-01 04:00:00</td>\n",
       "      <td>2023</td>\n",
       "      <td>1</td>\n",
       "      <td>1</td>\n",
       "      <td>4</td>\n",
       "      <td>Late Night</td>\n",
       "      <td>0</td>\n",
       "      <td>0</td>\n",
       "      <td>0</td>\n",
       "      <td>1</td>\n",
       "      <td>...</td>\n",
       "      <td>49.90</td>\n",
       "      <td>1018.00</td>\n",
       "      <td>86.17</td>\n",
       "      <td>0.0</td>\n",
       "      <td>10.0</td>\n",
       "      <td>1.27</td>\n",
       "      <td>0.0</td>\n",
       "      <td>0.0</td>\n",
       "      <td>Partially cloudy</td>\n",
       "      <td>fog</td>\n",
       "    </tr>\n",
       "  </tbody>\n",
       "</table>\n",
       "<p>5 rows × 36 columns</p>\n",
       "</div>"
      ],
      "text/plain": [
       "             DateTime  Year  Month  Day  Hour DaySegments  \\\n",
       "0 2023-01-01 00:00:00  2023      1    1     0  Late Night   \n",
       "1 2023-01-01 01:00:00  2023      1    1     1  Late Night   \n",
       "2 2023-01-01 02:00:00  2023      1    1     2  Late Night   \n",
       "3 2023-01-01 03:00:00  2023      1    1     3  Late Night   \n",
       "4 2023-01-01 04:00:00  2023      1    1     4  Late Night   \n",
       "\n",
       "   DaySegments_Afternoon  DaySegments_Early Morning  DaySegments_Evening  \\\n",
       "0                      0                          0                    0   \n",
       "1                      0                          0                    0   \n",
       "2                      0                          0                    0   \n",
       "3                      0                          0                    0   \n",
       "4                      0                          0                    0   \n",
       "\n",
       "   DaySegments_Late Night  ...  WindDir  SeaLevelPressure  CloudCover  \\\n",
       "0                       1  ...     0.49           1018.68        0.03   \n",
       "1                       1  ...     0.54           1018.03        0.11   \n",
       "2                       1  ...    30.51           1017.56        0.03   \n",
       "3                       1  ...    49.23           1018.05        0.00   \n",
       "4                       1  ...    49.90           1018.00       86.17   \n",
       "\n",
       "   UVIndex  SevereRisk  Visibility  SolarRadiation SolarEnergy  \\\n",
       "0      0.0        10.0        2.76             0.0         0.0   \n",
       "1      0.0        10.0        1.75             0.0         0.0   \n",
       "2      0.0        10.0        1.75             0.0         0.0   \n",
       "3      0.0        10.0        2.28             0.0         0.0   \n",
       "4      0.0        10.0        1.27             0.0         0.0   \n",
       "\n",
       "         Conditions         Icon  \n",
       "0             Clear  clear-night  \n",
       "1             Clear  clear-night  \n",
       "2             Clear  clear-night  \n",
       "3             Clear  clear-night  \n",
       "4  Partially cloudy          fog  \n",
       "\n",
       "[5 rows x 36 columns]"
      ]
     },
     "execution_count": 2,
     "metadata": {},
     "output_type": "execute_result"
    }
   ],
   "source": [
    "# Load the weather dataset for visibility prediction\n",
    "#weather_data = pd.read_csv('../../../FinalDatasets/finalDataset.csv') # Uncomment this line if running locally\n",
    "weather_data = pd.read_csv('/kaggle/input/weatherdata/finalDataset.csv') # Uncomment this line if running on Kaggle\n",
    "weather_data['DateTime'] = pd.to_datetime(weather_data['DateTime'])\n",
    "weather_data.head()"
   ]
  },
  {
   "cell_type": "code",
   "execution_count": 3,
   "id": "341db513",
   "metadata": {
    "execution": {
     "iopub.execute_input": "2025-08-07T19:00:49.890263Z",
     "iopub.status.busy": "2025-08-07T19:00:49.889911Z",
     "iopub.status.idle": "2025-08-07T19:00:49.919123Z",
     "shell.execute_reply": "2025-08-07T19:00:49.917862Z"
    },
    "papermill": {
     "duration": 0.052557,
     "end_time": "2025-08-07T19:00:49.921006",
     "exception": false,
     "start_time": "2025-08-07T19:00:49.868449",
     "status": "completed"
    },
    "tags": []
   },
   "outputs": [
    {
     "name": "stdout",
     "output_type": "stream",
     "text": [
      "<class 'pandas.core.frame.DataFrame'>\n",
      "RangeIndex: 14616 entries, 0 to 14615\n",
      "Data columns (total 36 columns):\n",
      " #   Column                     Non-Null Count  Dtype         \n",
      "---  ------                     --------------  -----         \n",
      " 0   DateTime                   14616 non-null  datetime64[ns]\n",
      " 1   Year                       14616 non-null  int64         \n",
      " 2   Month                      14616 non-null  int64         \n",
      " 3   Day                        14616 non-null  int64         \n",
      " 4   Hour                       14616 non-null  int64         \n",
      " 5   DaySegments                14616 non-null  object        \n",
      " 6   DaySegments_Afternoon      14616 non-null  int64         \n",
      " 7   DaySegments_Early Morning  14616 non-null  int64         \n",
      " 8   DaySegments_Evening        14616 non-null  int64         \n",
      " 9   DaySegments_Late Night     14616 non-null  int64         \n",
      " 10  DaySegments_Midday         14616 non-null  int64         \n",
      " 11  DaySegments_Morning        14616 non-null  int64         \n",
      " 12  DaySegments_Night          14616 non-null  int64         \n",
      " 13  Season_Autumn              14616 non-null  int64         \n",
      " 14  Season_Rainy               14616 non-null  int64         \n",
      " 15  Season_Summer              14616 non-null  int64         \n",
      " 16  Season_Winter              14616 non-null  int64         \n",
      " 17  Season                     14616 non-null  object        \n",
      " 18  Temp                       14616 non-null  float64       \n",
      " 19  FeelsLike                  14616 non-null  float64       \n",
      " 20  Dew                        14616 non-null  float64       \n",
      " 21  Humidity                   14616 non-null  float64       \n",
      " 22  Precip                     14616 non-null  float64       \n",
      " 23  PrecipProb                 14616 non-null  float64       \n",
      " 24  Windgust                   14616 non-null  float64       \n",
      " 25  WindSpeed                  14616 non-null  float64       \n",
      " 26  WindDir                    14616 non-null  float64       \n",
      " 27  SeaLevelPressure           14616 non-null  float64       \n",
      " 28  CloudCover                 14616 non-null  float64       \n",
      " 29  UVIndex                    14616 non-null  float64       \n",
      " 30  SevereRisk                 14616 non-null  float64       \n",
      " 31  Visibility                 14616 non-null  float64       \n",
      " 32  SolarRadiation             14616 non-null  float64       \n",
      " 33  SolarEnergy                14616 non-null  float64       \n",
      " 34  Conditions                 14616 non-null  object        \n",
      " 35  Icon                       14616 non-null  object        \n",
      "dtypes: datetime64[ns](1), float64(16), int64(15), object(4)\n",
      "memory usage: 4.0+ MB\n"
     ]
    }
   ],
   "source": [
    "weather_data.info()"
   ]
  },
  {
   "cell_type": "code",
   "execution_count": 4,
   "id": "2a08554c",
   "metadata": {
    "execution": {
     "iopub.execute_input": "2025-08-07T19:00:49.961185Z",
     "iopub.status.busy": "2025-08-07T19:00:49.960866Z",
     "iopub.status.idle": "2025-08-07T19:00:50.045678Z",
     "shell.execute_reply": "2025-08-07T19:00:50.044711Z"
    },
    "papermill": {
     "duration": 0.106904,
     "end_time": "2025-08-07T19:00:50.047294",
     "exception": false,
     "start_time": "2025-08-07T19:00:49.940390",
     "status": "completed"
    },
    "tags": []
   },
   "outputs": [
    {
     "data": {
      "text/html": [
       "<div>\n",
       "<style scoped>\n",
       "    .dataframe tbody tr th:only-of-type {\n",
       "        vertical-align: middle;\n",
       "    }\n",
       "\n",
       "    .dataframe tbody tr th {\n",
       "        vertical-align: top;\n",
       "    }\n",
       "\n",
       "    .dataframe thead th {\n",
       "        text-align: right;\n",
       "    }\n",
       "</style>\n",
       "<table border=\"1\" class=\"dataframe\">\n",
       "  <thead>\n",
       "    <tr style=\"text-align: right;\">\n",
       "      <th></th>\n",
       "      <th>DateTime</th>\n",
       "      <th>Year</th>\n",
       "      <th>Month</th>\n",
       "      <th>Day</th>\n",
       "      <th>Hour</th>\n",
       "      <th>DaySegments_Afternoon</th>\n",
       "      <th>DaySegments_Early Morning</th>\n",
       "      <th>DaySegments_Evening</th>\n",
       "      <th>DaySegments_Late Night</th>\n",
       "      <th>DaySegments_Midday</th>\n",
       "      <th>...</th>\n",
       "      <th>Windgust</th>\n",
       "      <th>WindSpeed</th>\n",
       "      <th>WindDir</th>\n",
       "      <th>SeaLevelPressure</th>\n",
       "      <th>CloudCover</th>\n",
       "      <th>UVIndex</th>\n",
       "      <th>SevereRisk</th>\n",
       "      <th>Visibility</th>\n",
       "      <th>SolarRadiation</th>\n",
       "      <th>SolarEnergy</th>\n",
       "    </tr>\n",
       "  </thead>\n",
       "  <tbody>\n",
       "    <tr>\n",
       "      <th>count</th>\n",
       "      <td>14616</td>\n",
       "      <td>14616.000000</td>\n",
       "      <td>14616.000000</td>\n",
       "      <td>14616.000000</td>\n",
       "      <td>14616.000000</td>\n",
       "      <td>14616.000000</td>\n",
       "      <td>14616.000000</td>\n",
       "      <td>14616.000000</td>\n",
       "      <td>14616.000000</td>\n",
       "      <td>14616.000000</td>\n",
       "      <td>...</td>\n",
       "      <td>14616.000000</td>\n",
       "      <td>14616.000000</td>\n",
       "      <td>14616.000000</td>\n",
       "      <td>14616.000000</td>\n",
       "      <td>14616.000000</td>\n",
       "      <td>14616.000000</td>\n",
       "      <td>14616.000000</td>\n",
       "      <td>14616.000000</td>\n",
       "      <td>14616.000000</td>\n",
       "      <td>14616.000000</td>\n",
       "    </tr>\n",
       "    <tr>\n",
       "      <th>mean</th>\n",
       "      <td>2023-11-01 11:30:00</td>\n",
       "      <td>2023.400657</td>\n",
       "      <td>5.720854</td>\n",
       "      <td>15.735632</td>\n",
       "      <td>11.500000</td>\n",
       "      <td>0.131294</td>\n",
       "      <td>0.060550</td>\n",
       "      <td>0.098043</td>\n",
       "      <td>0.249726</td>\n",
       "      <td>0.116585</td>\n",
       "      <td>...</td>\n",
       "      <td>17.068560</td>\n",
       "      <td>8.090783</td>\n",
       "      <td>159.739178</td>\n",
       "      <td>1008.265012</td>\n",
       "      <td>53.579923</td>\n",
       "      <td>2.263555</td>\n",
       "      <td>16.504787</td>\n",
       "      <td>4.368134</td>\n",
       "      <td>227.640683</td>\n",
       "      <td>0.819217</td>\n",
       "    </tr>\n",
       "    <tr>\n",
       "      <th>min</th>\n",
       "      <td>2023-01-01 00:00:00</td>\n",
       "      <td>2023.000000</td>\n",
       "      <td>1.000000</td>\n",
       "      <td>1.000000</td>\n",
       "      <td>0.000000</td>\n",
       "      <td>0.000000</td>\n",
       "      <td>0.000000</td>\n",
       "      <td>0.000000</td>\n",
       "      <td>0.000000</td>\n",
       "      <td>0.000000</td>\n",
       "      <td>...</td>\n",
       "      <td>0.660000</td>\n",
       "      <td>0.000000</td>\n",
       "      <td>0.000000</td>\n",
       "      <td>982.420000</td>\n",
       "      <td>0.000000</td>\n",
       "      <td>0.000000</td>\n",
       "      <td>3.000000</td>\n",
       "      <td>0.000000</td>\n",
       "      <td>0.000000</td>\n",
       "      <td>0.000000</td>\n",
       "    </tr>\n",
       "    <tr>\n",
       "      <th>25%</th>\n",
       "      <td>2023-06-02 05:45:00</td>\n",
       "      <td>2023.000000</td>\n",
       "      <td>3.000000</td>\n",
       "      <td>8.000000</td>\n",
       "      <td>5.750000</td>\n",
       "      <td>0.000000</td>\n",
       "      <td>0.000000</td>\n",
       "      <td>0.000000</td>\n",
       "      <td>0.000000</td>\n",
       "      <td>0.000000</td>\n",
       "      <td>...</td>\n",
       "      <td>9.170000</td>\n",
       "      <td>2.870000</td>\n",
       "      <td>80.965000</td>\n",
       "      <td>1003.277500</td>\n",
       "      <td>26.670000</td>\n",
       "      <td>0.000000</td>\n",
       "      <td>10.000000</td>\n",
       "      <td>3.990000</td>\n",
       "      <td>0.000000</td>\n",
       "      <td>0.000000</td>\n",
       "    </tr>\n",
       "    <tr>\n",
       "      <th>50%</th>\n",
       "      <td>2023-11-01 11:30:00</td>\n",
       "      <td>2023.000000</td>\n",
       "      <td>6.000000</td>\n",
       "      <td>16.000000</td>\n",
       "      <td>11.500000</td>\n",
       "      <td>0.000000</td>\n",
       "      <td>0.000000</td>\n",
       "      <td>0.000000</td>\n",
       "      <td>0.000000</td>\n",
       "      <td>0.000000</td>\n",
       "      <td>...</td>\n",
       "      <td>14.645000</td>\n",
       "      <td>7.670000</td>\n",
       "      <td>163.790000</td>\n",
       "      <td>1007.970000</td>\n",
       "      <td>51.540000</td>\n",
       "      <td>0.000000</td>\n",
       "      <td>10.000000</td>\n",
       "      <td>4.650000</td>\n",
       "      <td>10.665000</td>\n",
       "      <td>0.010000</td>\n",
       "    </tr>\n",
       "    <tr>\n",
       "      <th>75%</th>\n",
       "      <td>2024-04-01 17:15:00</td>\n",
       "      <td>2024.000000</td>\n",
       "      <td>8.000000</td>\n",
       "      <td>23.000000</td>\n",
       "      <td>17.250000</td>\n",
       "      <td>0.000000</td>\n",
       "      <td>0.000000</td>\n",
       "      <td>0.000000</td>\n",
       "      <td>0.000000</td>\n",
       "      <td>0.000000</td>\n",
       "      <td>...</td>\n",
       "      <td>23.410000</td>\n",
       "      <td>11.750000</td>\n",
       "      <td>241.402500</td>\n",
       "      <td>1013.400000</td>\n",
       "      <td>87.790000</td>\n",
       "      <td>4.740000</td>\n",
       "      <td>12.580000</td>\n",
       "      <td>4.650000</td>\n",
       "      <td>459.745000</td>\n",
       "      <td>1.660000</td>\n",
       "    </tr>\n",
       "    <tr>\n",
       "      <th>max</th>\n",
       "      <td>2024-08-31 23:00:00</td>\n",
       "      <td>2024.000000</td>\n",
       "      <td>12.000000</td>\n",
       "      <td>31.000000</td>\n",
       "      <td>23.000000</td>\n",
       "      <td>1.000000</td>\n",
       "      <td>1.000000</td>\n",
       "      <td>1.000000</td>\n",
       "      <td>1.000000</td>\n",
       "      <td>1.000000</td>\n",
       "      <td>...</td>\n",
       "      <td>84.120000</td>\n",
       "      <td>71.970000</td>\n",
       "      <td>360.000000</td>\n",
       "      <td>1022.060000</td>\n",
       "      <td>100.000000</td>\n",
       "      <td>10.000000</td>\n",
       "      <td>97.740000</td>\n",
       "      <td>24.100000</td>\n",
       "      <td>1026.650000</td>\n",
       "      <td>3.700000</td>\n",
       "    </tr>\n",
       "    <tr>\n",
       "      <th>std</th>\n",
       "      <td>NaN</td>\n",
       "      <td>0.490048</td>\n",
       "      <td>3.195073</td>\n",
       "      <td>8.803610</td>\n",
       "      <td>6.922423</td>\n",
       "      <td>0.337734</td>\n",
       "      <td>0.238511</td>\n",
       "      <td>0.297383</td>\n",
       "      <td>0.432869</td>\n",
       "      <td>0.320936</td>\n",
       "      <td>...</td>\n",
       "      <td>10.195911</td>\n",
       "      <td>6.250203</td>\n",
       "      <td>104.422027</td>\n",
       "      <td>6.010683</td>\n",
       "      <td>35.166637</td>\n",
       "      <td>3.083074</td>\n",
       "      <td>15.031827</td>\n",
       "      <td>1.376994</td>\n",
       "      <td>307.219387</td>\n",
       "      <td>1.106444</td>\n",
       "    </tr>\n",
       "  </tbody>\n",
       "</table>\n",
       "<p>8 rows × 32 columns</p>\n",
       "</div>"
      ],
      "text/plain": [
       "                  DateTime          Year         Month           Day  \\\n",
       "count                14616  14616.000000  14616.000000  14616.000000   \n",
       "mean   2023-11-01 11:30:00   2023.400657      5.720854     15.735632   \n",
       "min    2023-01-01 00:00:00   2023.000000      1.000000      1.000000   \n",
       "25%    2023-06-02 05:45:00   2023.000000      3.000000      8.000000   \n",
       "50%    2023-11-01 11:30:00   2023.000000      6.000000     16.000000   \n",
       "75%    2024-04-01 17:15:00   2024.000000      8.000000     23.000000   \n",
       "max    2024-08-31 23:00:00   2024.000000     12.000000     31.000000   \n",
       "std                    NaN      0.490048      3.195073      8.803610   \n",
       "\n",
       "               Hour  DaySegments_Afternoon  DaySegments_Early Morning  \\\n",
       "count  14616.000000           14616.000000               14616.000000   \n",
       "mean      11.500000               0.131294                   0.060550   \n",
       "min        0.000000               0.000000                   0.000000   \n",
       "25%        5.750000               0.000000                   0.000000   \n",
       "50%       11.500000               0.000000                   0.000000   \n",
       "75%       17.250000               0.000000                   0.000000   \n",
       "max       23.000000               1.000000                   1.000000   \n",
       "std        6.922423               0.337734                   0.238511   \n",
       "\n",
       "       DaySegments_Evening  DaySegments_Late Night  DaySegments_Midday  ...  \\\n",
       "count         14616.000000            14616.000000        14616.000000  ...   \n",
       "mean              0.098043                0.249726            0.116585  ...   \n",
       "min               0.000000                0.000000            0.000000  ...   \n",
       "25%               0.000000                0.000000            0.000000  ...   \n",
       "50%               0.000000                0.000000            0.000000  ...   \n",
       "75%               0.000000                0.000000            0.000000  ...   \n",
       "max               1.000000                1.000000            1.000000  ...   \n",
       "std               0.297383                0.432869            0.320936  ...   \n",
       "\n",
       "           Windgust     WindSpeed       WindDir  SeaLevelPressure  \\\n",
       "count  14616.000000  14616.000000  14616.000000      14616.000000   \n",
       "mean      17.068560      8.090783    159.739178       1008.265012   \n",
       "min        0.660000      0.000000      0.000000        982.420000   \n",
       "25%        9.170000      2.870000     80.965000       1003.277500   \n",
       "50%       14.645000      7.670000    163.790000       1007.970000   \n",
       "75%       23.410000     11.750000    241.402500       1013.400000   \n",
       "max       84.120000     71.970000    360.000000       1022.060000   \n",
       "std       10.195911      6.250203    104.422027          6.010683   \n",
       "\n",
       "         CloudCover       UVIndex    SevereRisk    Visibility  SolarRadiation  \\\n",
       "count  14616.000000  14616.000000  14616.000000  14616.000000    14616.000000   \n",
       "mean      53.579923      2.263555     16.504787      4.368134      227.640683   \n",
       "min        0.000000      0.000000      3.000000      0.000000        0.000000   \n",
       "25%       26.670000      0.000000     10.000000      3.990000        0.000000   \n",
       "50%       51.540000      0.000000     10.000000      4.650000       10.665000   \n",
       "75%       87.790000      4.740000     12.580000      4.650000      459.745000   \n",
       "max      100.000000     10.000000     97.740000     24.100000     1026.650000   \n",
       "std       35.166637      3.083074     15.031827      1.376994      307.219387   \n",
       "\n",
       "        SolarEnergy  \n",
       "count  14616.000000  \n",
       "mean       0.819217  \n",
       "min        0.000000  \n",
       "25%        0.000000  \n",
       "50%        0.010000  \n",
       "75%        1.660000  \n",
       "max        3.700000  \n",
       "std        1.106444  \n",
       "\n",
       "[8 rows x 32 columns]"
      ]
     },
     "execution_count": 4,
     "metadata": {},
     "output_type": "execute_result"
    }
   ],
   "source": [
    "weather_data.describe()"
   ]
  },
  {
   "cell_type": "markdown",
   "id": "ca64597a",
   "metadata": {
    "papermill": {
     "duration": 0.019655,
     "end_time": "2025-08-07T19:00:50.086739",
     "exception": false,
     "start_time": "2025-08-07T19:00:50.067084",
     "status": "completed"
    },
    "tags": []
   },
   "source": [
    "# Data Split"
   ]
  },
  {
   "cell_type": "code",
   "execution_count": 5,
   "id": "a3255c2b",
   "metadata": {
    "execution": {
     "iopub.execute_input": "2025-08-07T19:00:50.126981Z",
     "iopub.status.busy": "2025-08-07T19:00:50.126662Z",
     "iopub.status.idle": "2025-08-07T19:00:50.148296Z",
     "shell.execute_reply": "2025-08-07T19:00:50.147285Z"
    },
    "papermill": {
     "duration": 0.043812,
     "end_time": "2025-08-07T19:00:50.150020",
     "exception": false,
     "start_time": "2025-08-07T19:00:50.106208",
     "status": "completed"
    },
    "tags": []
   },
   "outputs": [],
   "source": [
    "sss = StratifiedShuffleSplit(n_splits=1, test_size=0.20, random_state=42)\n",
    "for train_idx, test_idx in sss.split(weather_data, weather_data['DaySegments']):\n",
    "    weather_data_train = weather_data.iloc[train_idx]\n",
    "    weather_data_test = weather_data.iloc[test_idx]"
   ]
  },
  {
   "cell_type": "code",
   "execution_count": 6,
   "id": "c7ee9e3b",
   "metadata": {
    "execution": {
     "iopub.execute_input": "2025-08-07T19:00:50.191872Z",
     "iopub.status.busy": "2025-08-07T19:00:50.191480Z",
     "iopub.status.idle": "2025-08-07T19:00:50.201772Z",
     "shell.execute_reply": "2025-08-07T19:00:50.200868Z"
    },
    "papermill": {
     "duration": 0.033128,
     "end_time": "2025-08-07T19:00:50.203230",
     "exception": false,
     "start_time": "2025-08-07T19:00:50.170102",
     "status": "completed"
    },
    "tags": []
   },
   "outputs": [
    {
     "name": "stdout",
     "output_type": "stream",
     "text": [
      "Distribution of data based on DaySegments:\n",
      "     DaySegments  Count\n",
      "0     Late Night   3650\n",
      "1        Morning   3504\n",
      "2      Afternoon   1919\n",
      "3         Midday   1704\n",
      "4          Night   1521\n",
      "5        Evening   1433\n",
      "6  Early Morning    885\n"
     ]
    }
   ],
   "source": [
    "# Show the count of each unique class in DaySegments\n",
    "class_counts = weather_data['DaySegments'].value_counts().reset_index()\n",
    "class_counts.columns = ['DaySegments', 'Count']\n",
    "\n",
    "print(\"Distribution of data based on DaySegments:\")\n",
    "print(class_counts)"
   ]
  },
  {
   "cell_type": "code",
   "execution_count": 7,
   "id": "6c478653",
   "metadata": {
    "execution": {
     "iopub.execute_input": "2025-08-07T19:00:50.246035Z",
     "iopub.status.busy": "2025-08-07T19:00:50.245706Z",
     "iopub.status.idle": "2025-08-07T19:00:50.255038Z",
     "shell.execute_reply": "2025-08-07T19:00:50.253982Z"
    },
    "papermill": {
     "duration": 0.032965,
     "end_time": "2025-08-07T19:00:50.256452",
     "exception": false,
     "start_time": "2025-08-07T19:00:50.223487",
     "status": "completed"
    },
    "tags": []
   },
   "outputs": [
    {
     "name": "stdout",
     "output_type": "stream",
     "text": [
      "Distribution of DaySegments in Training Set:\n",
      "DaySegments\n",
      "Late Night       2920\n",
      "Morning          2803\n",
      "Afternoon        1535\n",
      "Midday           1363\n",
      "Night            1217\n",
      "Evening          1146\n",
      "Early Morning     708\n",
      "Name: count, dtype: int64\n",
      "\n",
      "Distribution of DaySegments in Test Set:\n",
      "DaySegments\n",
      "Late Night       730\n",
      "Morning          701\n",
      "Afternoon        384\n",
      "Midday           341\n",
      "Night            304\n",
      "Evening          287\n",
      "Early Morning    177\n",
      "Name: count, dtype: int64\n"
     ]
    }
   ],
   "source": [
    "print(\"Distribution of DaySegments in Training Set:\")\n",
    "print(weather_data_train['DaySegments'].value_counts())\n",
    "\n",
    "print(\"\\nDistribution of DaySegments in Test Set:\")\n",
    "print(weather_data_test['DaySegments'].value_counts())"
   ]
  },
  {
   "cell_type": "markdown",
   "id": "be42d0ce",
   "metadata": {
    "papermill": {
     "duration": 0.020775,
     "end_time": "2025-08-07T19:00:50.297083",
     "exception": false,
     "start_time": "2025-08-07T19:00:50.276308",
     "status": "completed"
    },
    "tags": []
   },
   "source": [
    "# Some Reused Parameters"
   ]
  },
  {
   "cell_type": "code",
   "execution_count": 8,
   "id": "46bff957",
   "metadata": {
    "execution": {
     "iopub.execute_input": "2025-08-07T19:00:50.338206Z",
     "iopub.status.busy": "2025-08-07T19:00:50.337900Z",
     "iopub.status.idle": "2025-08-07T19:00:50.343420Z",
     "shell.execute_reply": "2025-08-07T19:00:50.342577Z"
    },
    "papermill": {
     "duration": 0.027926,
     "end_time": "2025-08-07T19:00:50.345111",
     "exception": false,
     "start_time": "2025-08-07T19:00:50.317185",
     "status": "completed"
    },
    "tags": []
   },
   "outputs": [],
   "source": [
    "grid_param = {\n",
    "    'C': [0.1, 1, 10, 100],\n",
    "    'gamma': ['scale', 'auto', 0.001, 0.01, 0.1],\n",
    "    'kernel': ['linear', 'rbf', 'sigmoid'],\n",
    "    'epsilon': [0.1, 0.2],\n",
    "    'coef0': [0.0, 0.1, 1.0],\n",
    "    'shrinking': [True],\n",
    "    'tol': [1e-3, 1e-4]\n",
    "}"
   ]
  },
  {
   "cell_type": "code",
   "execution_count": 9,
   "id": "13c43f61",
   "metadata": {
    "execution": {
     "iopub.execute_input": "2025-08-07T19:00:50.386126Z",
     "iopub.status.busy": "2025-08-07T19:00:50.385816Z",
     "iopub.status.idle": "2025-08-07T19:00:50.390969Z",
     "shell.execute_reply": "2025-08-07T19:00:50.389910Z"
    },
    "papermill": {
     "duration": 0.027329,
     "end_time": "2025-08-07T19:00:50.392760",
     "exception": false,
     "start_time": "2025-08-07T19:00:50.365431",
     "status": "completed"
    },
    "tags": []
   },
   "outputs": [],
   "source": [
    "number_of_model_for_randomized_grid = 130\n",
    "model_name_for_saving = \"SVR\"\n",
    "target_name_for_saving = \"Visibility\""
   ]
  },
  {
   "cell_type": "markdown",
   "id": "a6856fd2",
   "metadata": {
    "papermill": {
     "duration": 0.021111,
     "end_time": "2025-08-07T19:00:50.433985",
     "exception": false,
     "start_time": "2025-08-07T19:00:50.412874",
     "status": "completed"
    },
    "tags": []
   },
   "source": [
    "# All Features"
   ]
  },
  {
   "cell_type": "code",
   "execution_count": 10,
   "id": "cc48df3d",
   "metadata": {
    "execution": {
     "iopub.execute_input": "2025-08-07T19:00:50.474961Z",
     "iopub.status.busy": "2025-08-07T19:00:50.474668Z",
     "iopub.status.idle": "2025-08-07T19:00:50.480941Z",
     "shell.execute_reply": "2025-08-07T19:00:50.480204Z"
    },
    "papermill": {
     "duration": 0.028877,
     "end_time": "2025-08-07T19:00:50.482585",
     "exception": false,
     "start_time": "2025-08-07T19:00:50.453708",
     "status": "completed"
    },
    "tags": []
   },
   "outputs": [],
   "source": [
    "X_train_raw = weather_data_train.drop(columns=['DateTime', # Model cannot use DateTime as a feature\n",
    "                                                'Year', # No Effect on weather data\n",
    "                                                'Season', # Season is categorical, not numerical\n",
    "                                                'DaySegments', # DaySegments is categorical, not numerical\n",
    "                                                'Visibility',  # Target variable\n",
    "                                                'SolarRadiation', # Target variable\n",
    "                                                'SolarEnergy', # Target variable\n",
    "                                                'Conditions', # Target variable\n",
    "                                                'Icon']) # Target variable\n",
    "y_train = weather_data_train['Visibility']"
   ]
  },
  {
   "cell_type": "code",
   "execution_count": 11,
   "id": "93990373",
   "metadata": {
    "execution": {
     "iopub.execute_input": "2025-08-07T19:00:50.524353Z",
     "iopub.status.busy": "2025-08-07T19:00:50.524042Z",
     "iopub.status.idle": "2025-08-07T19:00:50.530845Z",
     "shell.execute_reply": "2025-08-07T19:00:50.529806Z"
    },
    "papermill": {
     "duration": 0.029115,
     "end_time": "2025-08-07T19:00:50.532635",
     "exception": false,
     "start_time": "2025-08-07T19:00:50.503520",
     "status": "completed"
    },
    "tags": []
   },
   "outputs": [],
   "source": [
    "X_test_raw = weather_data_test.drop(columns=['DateTime', # Model cannot use DateTime as a feature\n",
    "                                                'Year', # No Effect on weather data\n",
    "                                                'Season', # Season is categorical, not numerical\n",
    "                                                'DaySegments', # DaySegments is categorical, not numerical\n",
    "                                                'Visibility',  # Target variable\n",
    "                                                'SolarRadiation', # Target variable\n",
    "                                                'SolarEnergy', # Target variable\n",
    "                                                'Conditions', # Target variable\n",
    "                                                'Icon']) # Target variable\n",
    "y_test = weather_data_test['Visibility']"
   ]
  },
  {
   "cell_type": "code",
   "execution_count": 12,
   "id": "e2f4a11c",
   "metadata": {
    "execution": {
     "iopub.execute_input": "2025-08-07T19:00:50.575484Z",
     "iopub.status.busy": "2025-08-07T19:00:50.575134Z",
     "iopub.status.idle": "2025-08-07T19:00:50.580411Z",
     "shell.execute_reply": "2025-08-07T19:00:50.579241Z"
    },
    "papermill": {
     "duration": 0.029873,
     "end_time": "2025-08-07T19:00:50.582184",
     "exception": false,
     "start_time": "2025-08-07T19:00:50.552311",
     "status": "completed"
    },
    "tags": []
   },
   "outputs": [],
   "source": [
    "feature_columns = [col for col in X_train_raw.columns]\n",
    "feature_columns_for_saving = ','.join(feature_columns)"
   ]
  },
  {
   "cell_type": "code",
   "execution_count": 13,
   "id": "5da429ab",
   "metadata": {
    "execution": {
     "iopub.execute_input": "2025-08-07T19:00:50.623922Z",
     "iopub.status.busy": "2025-08-07T19:00:50.623558Z",
     "iopub.status.idle": "2025-08-07T19:00:50.629376Z",
     "shell.execute_reply": "2025-08-07T19:00:50.628383Z"
    },
    "papermill": {
     "duration": 0.02902,
     "end_time": "2025-08-07T19:00:50.630982",
     "exception": false,
     "start_time": "2025-08-07T19:00:50.601962",
     "status": "completed"
    },
    "tags": []
   },
   "outputs": [
    {
     "name": "stdout",
     "output_type": "stream",
     "text": [
      "X_train:  11692\n",
      "y_train:  11692\n",
      "\n",
      "X_test:  2924\n",
      "y_test:  2924\n"
     ]
    }
   ],
   "source": [
    "print(\"X_train: \", len(X_train_raw))\n",
    "print(\"y_train: \", len(y_train))\n",
    "print(\"\\nX_test: \", len(X_test_raw))\n",
    "print(\"y_test: \", len(y_test))"
   ]
  },
  {
   "cell_type": "markdown",
   "id": "d6d58e54",
   "metadata": {
    "papermill": {
     "duration": 0.019548,
     "end_time": "2025-08-07T19:00:50.670377",
     "exception": false,
     "start_time": "2025-08-07T19:00:50.650829",
     "status": "completed"
    },
    "tags": []
   },
   "source": [
    "## MinMax Scaler"
   ]
  },
  {
   "cell_type": "code",
   "execution_count": 14,
   "id": "6ff867cd",
   "metadata": {
    "execution": {
     "iopub.execute_input": "2025-08-07T19:00:50.712214Z",
     "iopub.status.busy": "2025-08-07T19:00:50.711922Z",
     "iopub.status.idle": "2025-08-07T19:00:50.740177Z",
     "shell.execute_reply": "2025-08-07T19:00:50.739132Z"
    },
    "papermill": {
     "duration": 0.051584,
     "end_time": "2025-08-07T19:00:50.741987",
     "exception": false,
     "start_time": "2025-08-07T19:00:50.690403",
     "status": "completed"
    },
    "tags": []
   },
   "outputs": [],
   "source": [
    "scaler = MinMaxScaler()\n",
    "X_train = scaler.fit_transform(X_train_raw)\n",
    "X_test = scaler.transform(X_test_raw)"
   ]
  },
  {
   "cell_type": "code",
   "execution_count": 15,
   "id": "ab9beda3",
   "metadata": {
    "execution": {
     "iopub.execute_input": "2025-08-07T19:00:50.784259Z",
     "iopub.status.busy": "2025-08-07T19:00:50.783907Z",
     "iopub.status.idle": "2025-08-07T19:00:50.791136Z",
     "shell.execute_reply": "2025-08-07T19:00:50.790048Z"
    },
    "papermill": {
     "duration": 0.029955,
     "end_time": "2025-08-07T19:00:50.792449",
     "exception": false,
     "start_time": "2025-08-07T19:00:50.762494",
     "status": "completed"
    },
    "tags": []
   },
   "outputs": [
    {
     "data": {
      "text/plain": [
       "array([[0.72727273, 0.83333333, 0.43478261, ..., 0.4922    , 0.697     ,\n",
       "        0.31560059],\n",
       "       [0.90909091, 0.26666667, 0.69565217, ..., 0.        , 0.303     ,\n",
       "        0.07388643],\n",
       "       [0.09090909, 0.43333333, 0.        , ..., 0.        , 0.        ,\n",
       "        0.07388643],\n",
       "       ...,\n",
       "       [0.63636364, 0.86666667, 0.43478261, ..., 0.8756    , 0.306     ,\n",
       "        0.09436352],\n",
       "       [0.        , 0.4       , 0.91304348, ..., 0.        , 0.        ,\n",
       "        0.07388643],\n",
       "       [0.72727273, 0.26666667, 0.34782609, ..., 0.8925    , 0.29      ,\n",
       "        0.27812962]])"
      ]
     },
     "execution_count": 15,
     "metadata": {},
     "output_type": "execute_result"
    }
   ],
   "source": [
    "X_train"
   ]
  },
  {
   "cell_type": "code",
   "execution_count": 16,
   "id": "06343b08",
   "metadata": {
    "execution": {
     "iopub.execute_input": "2025-08-07T19:00:50.833654Z",
     "iopub.status.busy": "2025-08-07T19:00:50.833280Z",
     "iopub.status.idle": "2025-08-07T19:00:50.840043Z",
     "shell.execute_reply": "2025-08-07T19:00:50.839157Z"
    },
    "papermill": {
     "duration": 0.029306,
     "end_time": "2025-08-07T19:00:50.841684",
     "exception": false,
     "start_time": "2025-08-07T19:00:50.812378",
     "status": "completed"
    },
    "tags": []
   },
   "outputs": [
    {
     "data": {
      "text/plain": [
       "array([[0.63636364, 0.06666667, 0.95652174, ..., 0.894     , 0.        ,\n",
       "        0.07388643],\n",
       "       [0.45454545, 0.26666667, 0.65217391, ..., 0.9677    , 0.074     ,\n",
       "        0.07388643],\n",
       "       [0.63636364, 0.03333333, 0.2173913 , ..., 0.9935    , 0.        ,\n",
       "        0.07388643],\n",
       "       ...,\n",
       "       [0.09090909, 0.2       , 0.73913043, ..., 0.0013    , 0.203     ,\n",
       "        0.07388643],\n",
       "       [0.27272727, 0.13333333, 0.86956522, ..., 0.        , 0.        ,\n",
       "        0.25575259],\n",
       "       [0.45454545, 0.73333333, 0.95652174, ..., 0.5161    , 0.        ,\n",
       "        0.07388643]])"
      ]
     },
     "execution_count": 16,
     "metadata": {},
     "output_type": "execute_result"
    }
   ],
   "source": [
    "X_test"
   ]
  },
  {
   "cell_type": "markdown",
   "id": "4555d4e7",
   "metadata": {
    "papermill": {
     "duration": 0.019499,
     "end_time": "2025-08-07T19:00:50.881430",
     "exception": false,
     "start_time": "2025-08-07T19:00:50.861931",
     "status": "completed"
    },
    "tags": []
   },
   "source": [
    "### Default Parameters"
   ]
  },
  {
   "cell_type": "code",
   "execution_count": 17,
   "id": "aeb43b85",
   "metadata": {
    "execution": {
     "iopub.execute_input": "2025-08-07T19:00:50.924424Z",
     "iopub.status.busy": "2025-08-07T19:00:50.924035Z",
     "iopub.status.idle": "2025-08-07T19:00:50.935448Z",
     "shell.execute_reply": "2025-08-07T19:00:50.934534Z"
    },
    "papermill": {
     "duration": 0.034949,
     "end_time": "2025-08-07T19:00:50.937114",
     "exception": false,
     "start_time": "2025-08-07T19:00:50.902165",
     "status": "completed"
    },
    "tags": []
   },
   "outputs": [
    {
     "data": {
      "text/html": [
       "<style>#sk-container-id-1 {color: black;background-color: white;}#sk-container-id-1 pre{padding: 0;}#sk-container-id-1 div.sk-toggleable {background-color: white;}#sk-container-id-1 label.sk-toggleable__label {cursor: pointer;display: block;width: 100%;margin-bottom: 0;padding: 0.3em;box-sizing: border-box;text-align: center;}#sk-container-id-1 label.sk-toggleable__label-arrow:before {content: \"▸\";float: left;margin-right: 0.25em;color: #696969;}#sk-container-id-1 label.sk-toggleable__label-arrow:hover:before {color: black;}#sk-container-id-1 div.sk-estimator:hover label.sk-toggleable__label-arrow:before {color: black;}#sk-container-id-1 div.sk-toggleable__content {max-height: 0;max-width: 0;overflow: hidden;text-align: left;background-color: #f0f8ff;}#sk-container-id-1 div.sk-toggleable__content pre {margin: 0.2em;color: black;border-radius: 0.25em;background-color: #f0f8ff;}#sk-container-id-1 input.sk-toggleable__control:checked~div.sk-toggleable__content {max-height: 200px;max-width: 100%;overflow: auto;}#sk-container-id-1 input.sk-toggleable__control:checked~label.sk-toggleable__label-arrow:before {content: \"▾\";}#sk-container-id-1 div.sk-estimator input.sk-toggleable__control:checked~label.sk-toggleable__label {background-color: #d4ebff;}#sk-container-id-1 div.sk-label input.sk-toggleable__control:checked~label.sk-toggleable__label {background-color: #d4ebff;}#sk-container-id-1 input.sk-hidden--visually {border: 0;clip: rect(1px 1px 1px 1px);clip: rect(1px, 1px, 1px, 1px);height: 1px;margin: -1px;overflow: hidden;padding: 0;position: absolute;width: 1px;}#sk-container-id-1 div.sk-estimator {font-family: monospace;background-color: #f0f8ff;border: 1px dotted black;border-radius: 0.25em;box-sizing: border-box;margin-bottom: 0.5em;}#sk-container-id-1 div.sk-estimator:hover {background-color: #d4ebff;}#sk-container-id-1 div.sk-parallel-item::after {content: \"\";width: 100%;border-bottom: 1px solid gray;flex-grow: 1;}#sk-container-id-1 div.sk-label:hover label.sk-toggleable__label {background-color: #d4ebff;}#sk-container-id-1 div.sk-serial::before {content: \"\";position: absolute;border-left: 1px solid gray;box-sizing: border-box;top: 0;bottom: 0;left: 50%;z-index: 0;}#sk-container-id-1 div.sk-serial {display: flex;flex-direction: column;align-items: center;background-color: white;padding-right: 0.2em;padding-left: 0.2em;position: relative;}#sk-container-id-1 div.sk-item {position: relative;z-index: 1;}#sk-container-id-1 div.sk-parallel {display: flex;align-items: stretch;justify-content: center;background-color: white;position: relative;}#sk-container-id-1 div.sk-item::before, #sk-container-id-1 div.sk-parallel-item::before {content: \"\";position: absolute;border-left: 1px solid gray;box-sizing: border-box;top: 0;bottom: 0;left: 50%;z-index: -1;}#sk-container-id-1 div.sk-parallel-item {display: flex;flex-direction: column;z-index: 1;position: relative;background-color: white;}#sk-container-id-1 div.sk-parallel-item:first-child::after {align-self: flex-end;width: 50%;}#sk-container-id-1 div.sk-parallel-item:last-child::after {align-self: flex-start;width: 50%;}#sk-container-id-1 div.sk-parallel-item:only-child::after {width: 0;}#sk-container-id-1 div.sk-dashed-wrapped {border: 1px dashed gray;margin: 0 0.4em 0.5em 0.4em;box-sizing: border-box;padding-bottom: 0.4em;background-color: white;}#sk-container-id-1 div.sk-label label {font-family: monospace;font-weight: bold;display: inline-block;line-height: 1.2em;}#sk-container-id-1 div.sk-label-container {text-align: center;}#sk-container-id-1 div.sk-container {/* jupyter's `normalize.less` sets `[hidden] { display: none; }` but bootstrap.min.css set `[hidden] { display: none !important; }` so we also need the `!important` here to be able to override the default hidden behavior on the sphinx rendered scikit-learn.org. See: https://github.com/scikit-learn/scikit-learn/issues/21755 */display: inline-block !important;position: relative;}#sk-container-id-1 div.sk-text-repr-fallback {display: none;}</style><div id=\"sk-container-id-1\" class=\"sk-top-container\"><div class=\"sk-text-repr-fallback\"><pre>SVR()</pre><b>In a Jupyter environment, please rerun this cell to show the HTML representation or trust the notebook. <br />On GitHub, the HTML representation is unable to render, please try loading this page with nbviewer.org.</b></div><div class=\"sk-container\" hidden><div class=\"sk-item\"><div class=\"sk-estimator sk-toggleable\"><input class=\"sk-toggleable__control sk-hidden--visually\" id=\"sk-estimator-id-1\" type=\"checkbox\" checked><label for=\"sk-estimator-id-1\" class=\"sk-toggleable__label sk-toggleable__label-arrow\">SVR</label><div class=\"sk-toggleable__content\"><pre>SVR()</pre></div></div></div></div></div>"
      ],
      "text/plain": [
       "SVR()"
      ]
     },
     "execution_count": 17,
     "metadata": {},
     "output_type": "execute_result"
    }
   ],
   "source": [
    "training_model = SVR()\n",
    "training_model"
   ]
  },
  {
   "cell_type": "code",
   "execution_count": 18,
   "id": "2348d1ac",
   "metadata": {
    "execution": {
     "iopub.execute_input": "2025-08-07T19:00:50.979767Z",
     "iopub.status.busy": "2025-08-07T19:00:50.979404Z",
     "iopub.status.idle": "2025-08-07T19:00:57.972863Z",
     "shell.execute_reply": "2025-08-07T19:00:57.971896Z"
    },
    "papermill": {
     "duration": 7.016537,
     "end_time": "2025-08-07T19:00:57.974412",
     "exception": false,
     "start_time": "2025-08-07T19:00:50.957875",
     "status": "completed"
    },
    "tags": []
   },
   "outputs": [
    {
     "name": "stdout",
     "output_type": "stream",
     "text": [
      "CPU times: user 6.72 s, sys: 265 ms, total: 6.99 s\n",
      "Wall time: 6.99 s\n"
     ]
    },
    {
     "data": {
      "text/html": [
       "<style>#sk-container-id-2 {color: black;background-color: white;}#sk-container-id-2 pre{padding: 0;}#sk-container-id-2 div.sk-toggleable {background-color: white;}#sk-container-id-2 label.sk-toggleable__label {cursor: pointer;display: block;width: 100%;margin-bottom: 0;padding: 0.3em;box-sizing: border-box;text-align: center;}#sk-container-id-2 label.sk-toggleable__label-arrow:before {content: \"▸\";float: left;margin-right: 0.25em;color: #696969;}#sk-container-id-2 label.sk-toggleable__label-arrow:hover:before {color: black;}#sk-container-id-2 div.sk-estimator:hover label.sk-toggleable__label-arrow:before {color: black;}#sk-container-id-2 div.sk-toggleable__content {max-height: 0;max-width: 0;overflow: hidden;text-align: left;background-color: #f0f8ff;}#sk-container-id-2 div.sk-toggleable__content pre {margin: 0.2em;color: black;border-radius: 0.25em;background-color: #f0f8ff;}#sk-container-id-2 input.sk-toggleable__control:checked~div.sk-toggleable__content {max-height: 200px;max-width: 100%;overflow: auto;}#sk-container-id-2 input.sk-toggleable__control:checked~label.sk-toggleable__label-arrow:before {content: \"▾\";}#sk-container-id-2 div.sk-estimator input.sk-toggleable__control:checked~label.sk-toggleable__label {background-color: #d4ebff;}#sk-container-id-2 div.sk-label input.sk-toggleable__control:checked~label.sk-toggleable__label {background-color: #d4ebff;}#sk-container-id-2 input.sk-hidden--visually {border: 0;clip: rect(1px 1px 1px 1px);clip: rect(1px, 1px, 1px, 1px);height: 1px;margin: -1px;overflow: hidden;padding: 0;position: absolute;width: 1px;}#sk-container-id-2 div.sk-estimator {font-family: monospace;background-color: #f0f8ff;border: 1px dotted black;border-radius: 0.25em;box-sizing: border-box;margin-bottom: 0.5em;}#sk-container-id-2 div.sk-estimator:hover {background-color: #d4ebff;}#sk-container-id-2 div.sk-parallel-item::after {content: \"\";width: 100%;border-bottom: 1px solid gray;flex-grow: 1;}#sk-container-id-2 div.sk-label:hover label.sk-toggleable__label {background-color: #d4ebff;}#sk-container-id-2 div.sk-serial::before {content: \"\";position: absolute;border-left: 1px solid gray;box-sizing: border-box;top: 0;bottom: 0;left: 50%;z-index: 0;}#sk-container-id-2 div.sk-serial {display: flex;flex-direction: column;align-items: center;background-color: white;padding-right: 0.2em;padding-left: 0.2em;position: relative;}#sk-container-id-2 div.sk-item {position: relative;z-index: 1;}#sk-container-id-2 div.sk-parallel {display: flex;align-items: stretch;justify-content: center;background-color: white;position: relative;}#sk-container-id-2 div.sk-item::before, #sk-container-id-2 div.sk-parallel-item::before {content: \"\";position: absolute;border-left: 1px solid gray;box-sizing: border-box;top: 0;bottom: 0;left: 50%;z-index: -1;}#sk-container-id-2 div.sk-parallel-item {display: flex;flex-direction: column;z-index: 1;position: relative;background-color: white;}#sk-container-id-2 div.sk-parallel-item:first-child::after {align-self: flex-end;width: 50%;}#sk-container-id-2 div.sk-parallel-item:last-child::after {align-self: flex-start;width: 50%;}#sk-container-id-2 div.sk-parallel-item:only-child::after {width: 0;}#sk-container-id-2 div.sk-dashed-wrapped {border: 1px dashed gray;margin: 0 0.4em 0.5em 0.4em;box-sizing: border-box;padding-bottom: 0.4em;background-color: white;}#sk-container-id-2 div.sk-label label {font-family: monospace;font-weight: bold;display: inline-block;line-height: 1.2em;}#sk-container-id-2 div.sk-label-container {text-align: center;}#sk-container-id-2 div.sk-container {/* jupyter's `normalize.less` sets `[hidden] { display: none; }` but bootstrap.min.css set `[hidden] { display: none !important; }` so we also need the `!important` here to be able to override the default hidden behavior on the sphinx rendered scikit-learn.org. See: https://github.com/scikit-learn/scikit-learn/issues/21755 */display: inline-block !important;position: relative;}#sk-container-id-2 div.sk-text-repr-fallback {display: none;}</style><div id=\"sk-container-id-2\" class=\"sk-top-container\"><div class=\"sk-text-repr-fallback\"><pre>SVR()</pre><b>In a Jupyter environment, please rerun this cell to show the HTML representation or trust the notebook. <br />On GitHub, the HTML representation is unable to render, please try loading this page with nbviewer.org.</b></div><div class=\"sk-container\" hidden><div class=\"sk-item\"><div class=\"sk-estimator sk-toggleable\"><input class=\"sk-toggleable__control sk-hidden--visually\" id=\"sk-estimator-id-2\" type=\"checkbox\" checked><label for=\"sk-estimator-id-2\" class=\"sk-toggleable__label sk-toggleable__label-arrow\">SVR</label><div class=\"sk-toggleable__content\"><pre>SVR()</pre></div></div></div></div></div>"
      ],
      "text/plain": [
       "SVR()"
      ]
     },
     "execution_count": 18,
     "metadata": {},
     "output_type": "execute_result"
    }
   ],
   "source": [
    "%%time\n",
    "training_model.fit(X_train, y_train)"
   ]
  },
  {
   "cell_type": "code",
   "execution_count": 19,
   "id": "7e8b1c1a",
   "metadata": {
    "execution": {
     "iopub.execute_input": "2025-08-07T19:00:58.018025Z",
     "iopub.status.busy": "2025-08-07T19:00:58.017729Z",
     "iopub.status.idle": "2025-08-07T19:00:59.855071Z",
     "shell.execute_reply": "2025-08-07T19:00:59.854141Z"
    },
    "papermill": {
     "duration": 1.861198,
     "end_time": "2025-08-07T19:00:59.856865",
     "exception": false,
     "start_time": "2025-08-07T19:00:57.995667",
     "status": "completed"
    },
    "tags": []
   },
   "outputs": [
    {
     "data": {
      "text/plain": [
       "array([4.68384898, 3.54012512, 4.25184268, ..., 4.133957  , 4.88779808,\n",
       "       4.70879949])"
      ]
     },
     "execution_count": 19,
     "metadata": {},
     "output_type": "execute_result"
    }
   ],
   "source": [
    "y_pred = training_model.predict(X_test)\n",
    "y_pred"
   ]
  },
  {
   "cell_type": "code",
   "execution_count": 20,
   "id": "731123a4",
   "metadata": {
    "execution": {
     "iopub.execute_input": "2025-08-07T19:00:59.902206Z",
     "iopub.status.busy": "2025-08-07T19:00:59.901877Z",
     "iopub.status.idle": "2025-08-07T19:00:59.909796Z",
     "shell.execute_reply": "2025-08-07T19:00:59.908860Z"
    },
    "papermill": {
     "duration": 0.033068,
     "end_time": "2025-08-07T19:00:59.911405",
     "exception": false,
     "start_time": "2025-08-07T19:00:59.878337",
     "status": "completed"
    },
    "tags": []
   },
   "outputs": [
    {
     "data": {
      "text/plain": [
       "5158     4.65\n",
       "3831     3.70\n",
       "5117     4.19\n",
       "6326     3.88\n",
       "11359    3.68\n",
       "         ... \n",
       "10290    5.17\n",
       "13995    4.48\n",
       "9665     3.91\n",
       "2276     4.00\n",
       "4174     4.65\n",
       "Name: Visibility, Length: 2924, dtype: float64"
      ]
     },
     "execution_count": 20,
     "metadata": {},
     "output_type": "execute_result"
    }
   ],
   "source": [
    "y_test"
   ]
  },
  {
   "cell_type": "code",
   "execution_count": 21,
   "id": "ffb7126a",
   "metadata": {
    "execution": {
     "iopub.execute_input": "2025-08-07T19:00:59.954343Z",
     "iopub.status.busy": "2025-08-07T19:00:59.954057Z",
     "iopub.status.idle": "2025-08-07T19:00:59.961832Z",
     "shell.execute_reply": "2025-08-07T19:00:59.960794Z"
    },
    "papermill": {
     "duration": 0.031396,
     "end_time": "2025-08-07T19:00:59.963510",
     "exception": false,
     "start_time": "2025-08-07T19:00:59.932114",
     "status": "completed"
    },
    "tags": []
   },
   "outputs": [],
   "source": [
    "mse = mean_squared_error(y_test, y_pred)\n",
    "mae = mean_absolute_error(y_test, y_pred)\n",
    "r2 = r2_score(y_test, y_pred)\n",
    "rmse = math.sqrt(mse)"
   ]
  },
  {
   "cell_type": "code",
   "execution_count": 22,
   "id": "f72017c3",
   "metadata": {
    "execution": {
     "iopub.execute_input": "2025-08-07T19:01:00.009815Z",
     "iopub.status.busy": "2025-08-07T19:01:00.009433Z",
     "iopub.status.idle": "2025-08-07T19:01:00.015322Z",
     "shell.execute_reply": "2025-08-07T19:01:00.014267Z"
    },
    "papermill": {
     "duration": 0.032418,
     "end_time": "2025-08-07T19:01:00.016997",
     "exception": false,
     "start_time": "2025-08-07T19:00:59.984579",
     "status": "completed"
    },
    "tags": []
   },
   "outputs": [
    {
     "name": "stdout",
     "output_type": "stream",
     "text": [
      "MSE Score: 1.2619253519869567\n",
      "MAE Score: 0.41544127239287776\n",
      "R2 Score: 0.3533132092990606\n",
      "RMSE Score: 1.1233545085977785\n"
     ]
    }
   ],
   "source": [
    "print(\"MSE Score:\", mse)\n",
    "print(\"MAE Score:\", mae)\n",
    "print(\"R2 Score:\", r2)\n",
    "print(\"RMSE Score:\", rmse)"
   ]
  },
  {
   "cell_type": "code",
   "execution_count": 23,
   "id": "1221c13d",
   "metadata": {
    "execution": {
     "iopub.execute_input": "2025-08-07T19:01:00.063564Z",
     "iopub.status.busy": "2025-08-07T19:01:00.063247Z",
     "iopub.status.idle": "2025-08-07T19:01:00.079725Z",
     "shell.execute_reply": "2025-08-07T19:01:00.078711Z"
    },
    "papermill": {
     "duration": 0.042933,
     "end_time": "2025-08-07T19:01:00.081655",
     "exception": false,
     "start_time": "2025-08-07T19:01:00.038722",
     "status": "completed"
    },
    "tags": []
   },
   "outputs": [
    {
     "name": "stdout",
     "output_type": "stream",
     "text": [
      "✨ New regression model added:\n",
      "   MSE: 1.261925, R²: 0.353313\n",
      "   Features: 27\n",
      "💾 Registry updated: Model_Training_History/History_Regression.csv\n"
     ]
    }
   ],
   "source": [
    "regression_params = {\n",
    "    'model_name': model_name_for_saving,\n",
    "    'scaler_name': \"MinMaxScaler\",\n",
    "    'features_list': feature_columns_for_saving,\n",
    "    'target_column': target_name_for_saving,\n",
    "    'mse': mse,\n",
    "    'mae': mae,\n",
    "    'rmse': rmse,\n",
    "    'r2': r2,\n",
    "    'parameters': json.dumps(training_model.get_params())\n",
    "}\n",
    "save_model_performance_if_better('regression', regression_params)"
   ]
  },
  {
   "cell_type": "markdown",
   "id": "e365a1ef",
   "metadata": {
    "papermill": {
     "duration": 0.022033,
     "end_time": "2025-08-07T19:01:00.126074",
     "exception": false,
     "start_time": "2025-08-07T19:01:00.104041",
     "status": "completed"
    },
    "tags": []
   },
   "source": [
    "### Tuning with Grid Search"
   ]
  },
  {
   "cell_type": "code",
   "execution_count": 24,
   "id": "270329f2",
   "metadata": {
    "execution": {
     "iopub.execute_input": "2025-08-07T19:01:00.170638Z",
     "iopub.status.busy": "2025-08-07T19:01:00.170309Z",
     "iopub.status.idle": "2025-08-07T19:01:00.175396Z",
     "shell.execute_reply": "2025-08-07T19:01:00.174526Z"
    },
    "papermill": {
     "duration": 0.029314,
     "end_time": "2025-08-07T19:01:00.176958",
     "exception": false,
     "start_time": "2025-08-07T19:01:00.147644",
     "status": "completed"
    },
    "tags": []
   },
   "outputs": [],
   "source": [
    "grid_search = RandomizedSearchCV(\n",
    "    SVR(), \n",
    "    grid_param,\n",
    "    n_iter=number_of_model_for_randomized_grid,\n",
    "    cv=5,\n",
    "    scoring='neg_mean_squared_error',\n",
    "    n_jobs=-1,\n",
    "    verbose=1,\n",
    "    random_state=42\n",
    ")"
   ]
  },
  {
   "cell_type": "code",
   "execution_count": 25,
   "id": "89af549f",
   "metadata": {
    "execution": {
     "iopub.execute_input": "2025-08-07T19:01:00.222404Z",
     "iopub.status.busy": "2025-08-07T19:01:00.222064Z",
     "iopub.status.idle": "2025-08-07T19:50:52.674371Z",
     "shell.execute_reply": "2025-08-07T19:50:52.673327Z"
    },
    "papermill": {
     "duration": 2992.499607,
     "end_time": "2025-08-07T19:50:52.698349",
     "exception": false,
     "start_time": "2025-08-07T19:01:00.198742",
     "status": "completed"
    },
    "tags": []
   },
   "outputs": [
    {
     "name": "stdout",
     "output_type": "stream",
     "text": [
      "Starting hyperparameter tuning...\n",
      "Fitting 5 folds for each of 130 candidates, totalling 650 fits\n",
      "CPU times: user 21.1 s, sys: 5.04 s, total: 26.1 s\n",
      "Wall time: 49min 52s\n"
     ]
    },
    {
     "data": {
      "text/html": [
       "<style>#sk-container-id-3 {color: black;background-color: white;}#sk-container-id-3 pre{padding: 0;}#sk-container-id-3 div.sk-toggleable {background-color: white;}#sk-container-id-3 label.sk-toggleable__label {cursor: pointer;display: block;width: 100%;margin-bottom: 0;padding: 0.3em;box-sizing: border-box;text-align: center;}#sk-container-id-3 label.sk-toggleable__label-arrow:before {content: \"▸\";float: left;margin-right: 0.25em;color: #696969;}#sk-container-id-3 label.sk-toggleable__label-arrow:hover:before {color: black;}#sk-container-id-3 div.sk-estimator:hover label.sk-toggleable__label-arrow:before {color: black;}#sk-container-id-3 div.sk-toggleable__content {max-height: 0;max-width: 0;overflow: hidden;text-align: left;background-color: #f0f8ff;}#sk-container-id-3 div.sk-toggleable__content pre {margin: 0.2em;color: black;border-radius: 0.25em;background-color: #f0f8ff;}#sk-container-id-3 input.sk-toggleable__control:checked~div.sk-toggleable__content {max-height: 200px;max-width: 100%;overflow: auto;}#sk-container-id-3 input.sk-toggleable__control:checked~label.sk-toggleable__label-arrow:before {content: \"▾\";}#sk-container-id-3 div.sk-estimator input.sk-toggleable__control:checked~label.sk-toggleable__label {background-color: #d4ebff;}#sk-container-id-3 div.sk-label input.sk-toggleable__control:checked~label.sk-toggleable__label {background-color: #d4ebff;}#sk-container-id-3 input.sk-hidden--visually {border: 0;clip: rect(1px 1px 1px 1px);clip: rect(1px, 1px, 1px, 1px);height: 1px;margin: -1px;overflow: hidden;padding: 0;position: absolute;width: 1px;}#sk-container-id-3 div.sk-estimator {font-family: monospace;background-color: #f0f8ff;border: 1px dotted black;border-radius: 0.25em;box-sizing: border-box;margin-bottom: 0.5em;}#sk-container-id-3 div.sk-estimator:hover {background-color: #d4ebff;}#sk-container-id-3 div.sk-parallel-item::after {content: \"\";width: 100%;border-bottom: 1px solid gray;flex-grow: 1;}#sk-container-id-3 div.sk-label:hover label.sk-toggleable__label {background-color: #d4ebff;}#sk-container-id-3 div.sk-serial::before {content: \"\";position: absolute;border-left: 1px solid gray;box-sizing: border-box;top: 0;bottom: 0;left: 50%;z-index: 0;}#sk-container-id-3 div.sk-serial {display: flex;flex-direction: column;align-items: center;background-color: white;padding-right: 0.2em;padding-left: 0.2em;position: relative;}#sk-container-id-3 div.sk-item {position: relative;z-index: 1;}#sk-container-id-3 div.sk-parallel {display: flex;align-items: stretch;justify-content: center;background-color: white;position: relative;}#sk-container-id-3 div.sk-item::before, #sk-container-id-3 div.sk-parallel-item::before {content: \"\";position: absolute;border-left: 1px solid gray;box-sizing: border-box;top: 0;bottom: 0;left: 50%;z-index: -1;}#sk-container-id-3 div.sk-parallel-item {display: flex;flex-direction: column;z-index: 1;position: relative;background-color: white;}#sk-container-id-3 div.sk-parallel-item:first-child::after {align-self: flex-end;width: 50%;}#sk-container-id-3 div.sk-parallel-item:last-child::after {align-self: flex-start;width: 50%;}#sk-container-id-3 div.sk-parallel-item:only-child::after {width: 0;}#sk-container-id-3 div.sk-dashed-wrapped {border: 1px dashed gray;margin: 0 0.4em 0.5em 0.4em;box-sizing: border-box;padding-bottom: 0.4em;background-color: white;}#sk-container-id-3 div.sk-label label {font-family: monospace;font-weight: bold;display: inline-block;line-height: 1.2em;}#sk-container-id-3 div.sk-label-container {text-align: center;}#sk-container-id-3 div.sk-container {/* jupyter's `normalize.less` sets `[hidden] { display: none; }` but bootstrap.min.css set `[hidden] { display: none !important; }` so we also need the `!important` here to be able to override the default hidden behavior on the sphinx rendered scikit-learn.org. See: https://github.com/scikit-learn/scikit-learn/issues/21755 */display: inline-block !important;position: relative;}#sk-container-id-3 div.sk-text-repr-fallback {display: none;}</style><div id=\"sk-container-id-3\" class=\"sk-top-container\"><div class=\"sk-text-repr-fallback\"><pre>RandomizedSearchCV(cv=5, estimator=SVR(), n_iter=130, n_jobs=-1,\n",
       "                   param_distributions={&#x27;C&#x27;: [0.1, 1, 10, 100],\n",
       "                                        &#x27;coef0&#x27;: [0.0, 0.1, 1.0],\n",
       "                                        &#x27;epsilon&#x27;: [0.1, 0.2],\n",
       "                                        &#x27;gamma&#x27;: [&#x27;scale&#x27;, &#x27;auto&#x27;, 0.001, 0.01,\n",
       "                                                  0.1],\n",
       "                                        &#x27;kernel&#x27;: [&#x27;linear&#x27;, &#x27;rbf&#x27;, &#x27;sigmoid&#x27;],\n",
       "                                        &#x27;shrinking&#x27;: [True],\n",
       "                                        &#x27;tol&#x27;: [0.001, 0.0001]},\n",
       "                   random_state=42, scoring=&#x27;neg_mean_squared_error&#x27;,\n",
       "                   verbose=1)</pre><b>In a Jupyter environment, please rerun this cell to show the HTML representation or trust the notebook. <br />On GitHub, the HTML representation is unable to render, please try loading this page with nbviewer.org.</b></div><div class=\"sk-container\" hidden><div class=\"sk-item sk-dashed-wrapped\"><div class=\"sk-label-container\"><div class=\"sk-label sk-toggleable\"><input class=\"sk-toggleable__control sk-hidden--visually\" id=\"sk-estimator-id-3\" type=\"checkbox\" ><label for=\"sk-estimator-id-3\" class=\"sk-toggleable__label sk-toggleable__label-arrow\">RandomizedSearchCV</label><div class=\"sk-toggleable__content\"><pre>RandomizedSearchCV(cv=5, estimator=SVR(), n_iter=130, n_jobs=-1,\n",
       "                   param_distributions={&#x27;C&#x27;: [0.1, 1, 10, 100],\n",
       "                                        &#x27;coef0&#x27;: [0.0, 0.1, 1.0],\n",
       "                                        &#x27;epsilon&#x27;: [0.1, 0.2],\n",
       "                                        &#x27;gamma&#x27;: [&#x27;scale&#x27;, &#x27;auto&#x27;, 0.001, 0.01,\n",
       "                                                  0.1],\n",
       "                                        &#x27;kernel&#x27;: [&#x27;linear&#x27;, &#x27;rbf&#x27;, &#x27;sigmoid&#x27;],\n",
       "                                        &#x27;shrinking&#x27;: [True],\n",
       "                                        &#x27;tol&#x27;: [0.001, 0.0001]},\n",
       "                   random_state=42, scoring=&#x27;neg_mean_squared_error&#x27;,\n",
       "                   verbose=1)</pre></div></div></div><div class=\"sk-parallel\"><div class=\"sk-parallel-item\"><div class=\"sk-item\"><div class=\"sk-label-container\"><div class=\"sk-label sk-toggleable\"><input class=\"sk-toggleable__control sk-hidden--visually\" id=\"sk-estimator-id-4\" type=\"checkbox\" ><label for=\"sk-estimator-id-4\" class=\"sk-toggleable__label sk-toggleable__label-arrow\">estimator: SVR</label><div class=\"sk-toggleable__content\"><pre>SVR()</pre></div></div></div><div class=\"sk-serial\"><div class=\"sk-item\"><div class=\"sk-estimator sk-toggleable\"><input class=\"sk-toggleable__control sk-hidden--visually\" id=\"sk-estimator-id-5\" type=\"checkbox\" ><label for=\"sk-estimator-id-5\" class=\"sk-toggleable__label sk-toggleable__label-arrow\">SVR</label><div class=\"sk-toggleable__content\"><pre>SVR()</pre></div></div></div></div></div></div></div></div></div></div>"
      ],
      "text/plain": [
       "RandomizedSearchCV(cv=5, estimator=SVR(), n_iter=130, n_jobs=-1,\n",
       "                   param_distributions={'C': [0.1, 1, 10, 100],\n",
       "                                        'coef0': [0.0, 0.1, 1.0],\n",
       "                                        'epsilon': [0.1, 0.2],\n",
       "                                        'gamma': ['scale', 'auto', 0.001, 0.01,\n",
       "                                                  0.1],\n",
       "                                        'kernel': ['linear', 'rbf', 'sigmoid'],\n",
       "                                        'shrinking': [True],\n",
       "                                        'tol': [0.001, 0.0001]},\n",
       "                   random_state=42, scoring='neg_mean_squared_error',\n",
       "                   verbose=1)"
      ]
     },
     "execution_count": 25,
     "metadata": {},
     "output_type": "execute_result"
    }
   ],
   "source": [
    "%%time\n",
    "print(\"Starting hyperparameter tuning...\")\n",
    "grid_search.fit(X_train, y_train)"
   ]
  },
  {
   "cell_type": "code",
   "execution_count": 26,
   "id": "0a4998b7",
   "metadata": {
    "execution": {
     "iopub.execute_input": "2025-08-07T19:50:52.744287Z",
     "iopub.status.busy": "2025-08-07T19:50:52.743953Z",
     "iopub.status.idle": "2025-08-07T19:50:52.749863Z",
     "shell.execute_reply": "2025-08-07T19:50:52.748988Z"
    },
    "papermill": {
     "duration": 0.030236,
     "end_time": "2025-08-07T19:50:52.751162",
     "exception": false,
     "start_time": "2025-08-07T19:50:52.720926",
     "status": "completed"
    },
    "tags": []
   },
   "outputs": [
    {
     "name": "stdout",
     "output_type": "stream",
     "text": [
      "TUNING RESULTS\n",
      "==================================================\n",
      "Best Parameters: {'tol': 0.0001, 'shrinking': True, 'kernel': 'rbf', 'gamma': 'scale', 'epsilon': 0.2, 'coef0': 0.1, 'C': 10}\n",
      "Best Cross-Validation Score (Negative MSE): -1.2380596490909757\n",
      "Best Cross-Validation Score (MSE): 1.2380596490909757\n",
      "Best Cross-Validation Score (RMSE): 1.1126812881912662\n"
     ]
    }
   ],
   "source": [
    "print(\"TUNING RESULTS\")\n",
    "print(\"=\"*50)\n",
    "print(\"Best Parameters:\", grid_search.best_params_)\n",
    "print(\"Best Cross-Validation Score (Negative MSE):\", grid_search.best_score_)\n",
    "print(\"Best Cross-Validation Score (MSE):\", -grid_search.best_score_)\n",
    "print(\"Best Cross-Validation Score (RMSE):\", math.sqrt(-grid_search.best_score_))\n",
    "\n",
    "# Save the best parameters as an array\n",
    "grid_param_minmax = {k: [v] for k, v in grid_search.best_params_.items()}"
   ]
  },
  {
   "cell_type": "code",
   "execution_count": 27,
   "id": "e7babd73",
   "metadata": {
    "execution": {
     "iopub.execute_input": "2025-08-07T19:50:52.797980Z",
     "iopub.status.busy": "2025-08-07T19:50:52.797656Z",
     "iopub.status.idle": "2025-08-07T19:50:54.247093Z",
     "shell.execute_reply": "2025-08-07T19:50:54.245521Z"
    },
    "papermill": {
     "duration": 1.475673,
     "end_time": "2025-08-07T19:50:54.249034",
     "exception": false,
     "start_time": "2025-08-07T19:50:52.773361",
     "status": "completed"
    },
    "tags": []
   },
   "outputs": [],
   "source": [
    "grid_search_best_model = grid_search.best_estimator_\n",
    "y_pred = grid_search_best_model.predict(X_test)"
   ]
  },
  {
   "cell_type": "code",
   "execution_count": 28,
   "id": "6ca2f5c3",
   "metadata": {
    "execution": {
     "iopub.execute_input": "2025-08-07T19:50:54.297516Z",
     "iopub.status.busy": "2025-08-07T19:50:54.297177Z",
     "iopub.status.idle": "2025-08-07T19:50:54.305215Z",
     "shell.execute_reply": "2025-08-07T19:50:54.304092Z"
    },
    "papermill": {
     "duration": 0.034954,
     "end_time": "2025-08-07T19:50:54.306946",
     "exception": false,
     "start_time": "2025-08-07T19:50:54.271992",
     "status": "completed"
    },
    "tags": []
   },
   "outputs": [],
   "source": [
    "mse_grid_search = mean_squared_error(y_test, y_pred)\n",
    "mae_grid_search = mean_absolute_error(y_test, y_pred)\n",
    "r2_grid_search = r2_score(y_test, y_pred)\n",
    "rmse_grid_search = math.sqrt(mse_grid_search)"
   ]
  },
  {
   "cell_type": "code",
   "execution_count": 29,
   "id": "6a72cfe8",
   "metadata": {
    "execution": {
     "iopub.execute_input": "2025-08-07T19:50:54.355598Z",
     "iopub.status.busy": "2025-08-07T19:50:54.355284Z",
     "iopub.status.idle": "2025-08-07T19:50:54.360723Z",
     "shell.execute_reply": "2025-08-07T19:50:54.359516Z"
    },
    "papermill": {
     "duration": 0.031508,
     "end_time": "2025-08-07T19:50:54.362475",
     "exception": false,
     "start_time": "2025-08-07T19:50:54.330967",
     "status": "completed"
    },
    "tags": []
   },
   "outputs": [
    {
     "name": "stdout",
     "output_type": "stream",
     "text": [
      "MSE Score: 1.2349291067247015\n",
      "MAE Score: 0.3996170986094613\n",
      "R2 Score: 0.3671477163736152\n",
      "RMSE Score: 1.1112736416943856\n"
     ]
    }
   ],
   "source": [
    "print(\"MSE Score:\", mse_grid_search)\n",
    "print(\"MAE Score:\", mae_grid_search)\n",
    "print(\"R2 Score:\", r2_grid_search)\n",
    "print(\"RMSE Score:\", rmse_grid_search)"
   ]
  },
  {
   "cell_type": "code",
   "execution_count": 30,
   "id": "094c489b",
   "metadata": {
    "execution": {
     "iopub.execute_input": "2025-08-07T19:50:54.411294Z",
     "iopub.status.busy": "2025-08-07T19:50:54.410958Z",
     "iopub.status.idle": "2025-08-07T19:50:54.423988Z",
     "shell.execute_reply": "2025-08-07T19:50:54.422852Z"
    },
    "papermill": {
     "duration": 0.039768,
     "end_time": "2025-08-07T19:50:54.425494",
     "exception": false,
     "start_time": "2025-08-07T19:50:54.385726",
     "status": "completed"
    },
    "tags": []
   },
   "outputs": [
    {
     "name": "stdout",
     "output_type": "stream",
     "text": [
      "✨ New regression model added:\n",
      "   MSE: 1.234929, R²: 0.367148\n",
      "   Features: 27\n",
      "💾 Registry updated: Model_Training_History/History_Regression.csv\n"
     ]
    }
   ],
   "source": [
    "regression_params = {\n",
    "    'model_name': model_name_for_saving + \" Tuned\",\n",
    "    'scaler_name': \"MinMaxScaler\",\n",
    "    'features_list': feature_columns_for_saving,\n",
    "    'target_column': target_name_for_saving,\n",
    "    'mse': mse_grid_search,\n",
    "    'mae': mae_grid_search,\n",
    "    'rmse': rmse_grid_search,\n",
    "    'r2': r2_grid_search,\n",
    "    'parameters' : json.dumps({\n",
    "        \"best_params\": grid_search.best_params_,\n",
    "        \"cv_score\": grid_search.best_score_,\n",
    "        \"all_params\": grid_search_best_model.get_params()\n",
    "    })\n",
    "}\n",
    "save_model_performance_if_better('regression', regression_params)"
   ]
  },
  {
   "cell_type": "markdown",
   "id": "1205f8de",
   "metadata": {
    "papermill": {
     "duration": 0.023115,
     "end_time": "2025-08-07T19:50:54.471904",
     "exception": false,
     "start_time": "2025-08-07T19:50:54.448789",
     "status": "completed"
    },
    "tags": []
   },
   "source": [
    "## Standard Scaler"
   ]
  },
  {
   "cell_type": "code",
   "execution_count": 31,
   "id": "802334fb",
   "metadata": {
    "execution": {
     "iopub.execute_input": "2025-08-07T19:50:54.519055Z",
     "iopub.status.busy": "2025-08-07T19:50:54.518750Z",
     "iopub.status.idle": "2025-08-07T19:50:54.551664Z",
     "shell.execute_reply": "2025-08-07T19:50:54.550587Z"
    },
    "papermill": {
     "duration": 0.058444,
     "end_time": "2025-08-07T19:50:54.553355",
     "exception": false,
     "start_time": "2025-08-07T19:50:54.494911",
     "status": "completed"
    },
    "tags": []
   },
   "outputs": [],
   "source": [
    "scaler = StandardScaler()\n",
    "X_train = scaler.fit_transform(X_train_raw)\n",
    "X_test = scaler.transform(X_test_raw)"
   ]
  },
  {
   "cell_type": "code",
   "execution_count": 32,
   "id": "70077b8b",
   "metadata": {
    "execution": {
     "iopub.execute_input": "2025-08-07T19:50:54.599720Z",
     "iopub.status.busy": "2025-08-07T19:50:54.599381Z",
     "iopub.status.idle": "2025-08-07T19:50:54.606074Z",
     "shell.execute_reply": "2025-08-07T19:50:54.605106Z"
    },
    "papermill": {
     "duration": 0.031607,
     "end_time": "2025-08-07T19:50:54.607544",
     "exception": false,
     "start_time": "2025-08-07T19:50:54.575937",
     "status": "completed"
    },
    "tags": []
   },
   "outputs": [
    {
     "data": {
      "text/plain": [
       "array([[ 1.01884116,  1.17229173, -0.21938027, ..., -0.12088825,\n",
       "         1.52387472,  1.09644529],\n",
       "       [ 1.64376461, -0.75947244,  0.64624572, ..., -1.52028666,\n",
       "         0.24645772, -0.43343649],\n",
       "       [-1.16839092, -0.1913065 , -1.66209024, ..., -1.52028666,\n",
       "        -0.73592134, -0.43343649],\n",
       "       ...,\n",
       "       [ 0.70637943,  1.28592492, -0.21938027, ...,  0.96917545,\n",
       "         0.25618424, -0.30383078],\n",
       "       [-1.48085264, -0.30493969,  1.36760071, ..., -1.52028666,\n",
       "        -0.73592134, -0.43343649],\n",
       "       [ 1.01884116, -0.75947244, -0.50792226, ...,  1.01722469,\n",
       "         0.20430944,  0.85928021]])"
      ]
     },
     "execution_count": 32,
     "metadata": {},
     "output_type": "execute_result"
    }
   ],
   "source": [
    "X_train"
   ]
  },
  {
   "cell_type": "code",
   "execution_count": 33,
   "id": "8dbe2df3",
   "metadata": {
    "execution": {
     "iopub.execute_input": "2025-08-07T19:50:54.656708Z",
     "iopub.status.busy": "2025-08-07T19:50:54.655849Z",
     "iopub.status.idle": "2025-08-07T19:50:54.662050Z",
     "shell.execute_reply": "2025-08-07T19:50:54.661159Z"
    },
    "papermill": {
     "duration": 0.032002,
     "end_time": "2025-08-07T19:50:54.663516",
     "exception": false,
     "start_time": "2025-08-07T19:50:54.631514",
     "status": "completed"
    },
    "tags": []
   },
   "outputs": [
    {
     "data": {
      "text/plain": [
       "array([[ 0.70637943, -1.44127155,  1.51187171, ...,  1.02148941,\n",
       "        -0.73592134, -0.43343649],\n",
       "       [ 0.08145598, -0.75947244,  0.50197472, ...,  1.23102956,\n",
       "        -0.49600038, -0.43343649],\n",
       "       [ 0.70637943, -1.55490474, -0.94073525, ...,  1.30438283,\n",
       "        -0.73592134, -0.43343649],\n",
       "       ...,\n",
       "       [-1.16839092, -0.98673881,  0.79051672, ..., -1.51659057,\n",
       "        -0.07775979, -0.43343649],\n",
       "       [-0.54346747, -1.21400518,  1.22332971, ..., -1.52028666,\n",
       "        -0.73592134,  0.71764924],\n",
       "       [ 0.08145598,  0.83139217,  1.51187171, ..., -0.05293696,\n",
       "        -0.73592134, -0.43343649]])"
      ]
     },
     "execution_count": 33,
     "metadata": {},
     "output_type": "execute_result"
    }
   ],
   "source": [
    "X_test"
   ]
  },
  {
   "cell_type": "markdown",
   "id": "14a961aa",
   "metadata": {
    "papermill": {
     "duration": 0.022408,
     "end_time": "2025-08-07T19:50:54.709119",
     "exception": false,
     "start_time": "2025-08-07T19:50:54.686711",
     "status": "completed"
    },
    "tags": []
   },
   "source": [
    "### Default Parameters"
   ]
  },
  {
   "cell_type": "code",
   "execution_count": 34,
   "id": "298df025",
   "metadata": {
    "execution": {
     "iopub.execute_input": "2025-08-07T19:50:54.755475Z",
     "iopub.status.busy": "2025-08-07T19:50:54.755148Z",
     "iopub.status.idle": "2025-08-07T19:50:54.761411Z",
     "shell.execute_reply": "2025-08-07T19:50:54.760628Z"
    },
    "papermill": {
     "duration": 0.031176,
     "end_time": "2025-08-07T19:50:54.762904",
     "exception": false,
     "start_time": "2025-08-07T19:50:54.731728",
     "status": "completed"
    },
    "tags": []
   },
   "outputs": [
    {
     "data": {
      "text/html": [
       "<style>#sk-container-id-4 {color: black;background-color: white;}#sk-container-id-4 pre{padding: 0;}#sk-container-id-4 div.sk-toggleable {background-color: white;}#sk-container-id-4 label.sk-toggleable__label {cursor: pointer;display: block;width: 100%;margin-bottom: 0;padding: 0.3em;box-sizing: border-box;text-align: center;}#sk-container-id-4 label.sk-toggleable__label-arrow:before {content: \"▸\";float: left;margin-right: 0.25em;color: #696969;}#sk-container-id-4 label.sk-toggleable__label-arrow:hover:before {color: black;}#sk-container-id-4 div.sk-estimator:hover label.sk-toggleable__label-arrow:before {color: black;}#sk-container-id-4 div.sk-toggleable__content {max-height: 0;max-width: 0;overflow: hidden;text-align: left;background-color: #f0f8ff;}#sk-container-id-4 div.sk-toggleable__content pre {margin: 0.2em;color: black;border-radius: 0.25em;background-color: #f0f8ff;}#sk-container-id-4 input.sk-toggleable__control:checked~div.sk-toggleable__content {max-height: 200px;max-width: 100%;overflow: auto;}#sk-container-id-4 input.sk-toggleable__control:checked~label.sk-toggleable__label-arrow:before {content: \"▾\";}#sk-container-id-4 div.sk-estimator input.sk-toggleable__control:checked~label.sk-toggleable__label {background-color: #d4ebff;}#sk-container-id-4 div.sk-label input.sk-toggleable__control:checked~label.sk-toggleable__label {background-color: #d4ebff;}#sk-container-id-4 input.sk-hidden--visually {border: 0;clip: rect(1px 1px 1px 1px);clip: rect(1px, 1px, 1px, 1px);height: 1px;margin: -1px;overflow: hidden;padding: 0;position: absolute;width: 1px;}#sk-container-id-4 div.sk-estimator {font-family: monospace;background-color: #f0f8ff;border: 1px dotted black;border-radius: 0.25em;box-sizing: border-box;margin-bottom: 0.5em;}#sk-container-id-4 div.sk-estimator:hover {background-color: #d4ebff;}#sk-container-id-4 div.sk-parallel-item::after {content: \"\";width: 100%;border-bottom: 1px solid gray;flex-grow: 1;}#sk-container-id-4 div.sk-label:hover label.sk-toggleable__label {background-color: #d4ebff;}#sk-container-id-4 div.sk-serial::before {content: \"\";position: absolute;border-left: 1px solid gray;box-sizing: border-box;top: 0;bottom: 0;left: 50%;z-index: 0;}#sk-container-id-4 div.sk-serial {display: flex;flex-direction: column;align-items: center;background-color: white;padding-right: 0.2em;padding-left: 0.2em;position: relative;}#sk-container-id-4 div.sk-item {position: relative;z-index: 1;}#sk-container-id-4 div.sk-parallel {display: flex;align-items: stretch;justify-content: center;background-color: white;position: relative;}#sk-container-id-4 div.sk-item::before, #sk-container-id-4 div.sk-parallel-item::before {content: \"\";position: absolute;border-left: 1px solid gray;box-sizing: border-box;top: 0;bottom: 0;left: 50%;z-index: -1;}#sk-container-id-4 div.sk-parallel-item {display: flex;flex-direction: column;z-index: 1;position: relative;background-color: white;}#sk-container-id-4 div.sk-parallel-item:first-child::after {align-self: flex-end;width: 50%;}#sk-container-id-4 div.sk-parallel-item:last-child::after {align-self: flex-start;width: 50%;}#sk-container-id-4 div.sk-parallel-item:only-child::after {width: 0;}#sk-container-id-4 div.sk-dashed-wrapped {border: 1px dashed gray;margin: 0 0.4em 0.5em 0.4em;box-sizing: border-box;padding-bottom: 0.4em;background-color: white;}#sk-container-id-4 div.sk-label label {font-family: monospace;font-weight: bold;display: inline-block;line-height: 1.2em;}#sk-container-id-4 div.sk-label-container {text-align: center;}#sk-container-id-4 div.sk-container {/* jupyter's `normalize.less` sets `[hidden] { display: none; }` but bootstrap.min.css set `[hidden] { display: none !important; }` so we also need the `!important` here to be able to override the default hidden behavior on the sphinx rendered scikit-learn.org. See: https://github.com/scikit-learn/scikit-learn/issues/21755 */display: inline-block !important;position: relative;}#sk-container-id-4 div.sk-text-repr-fallback {display: none;}</style><div id=\"sk-container-id-4\" class=\"sk-top-container\"><div class=\"sk-text-repr-fallback\"><pre>SVR()</pre><b>In a Jupyter environment, please rerun this cell to show the HTML representation or trust the notebook. <br />On GitHub, the HTML representation is unable to render, please try loading this page with nbviewer.org.</b></div><div class=\"sk-container\" hidden><div class=\"sk-item\"><div class=\"sk-estimator sk-toggleable\"><input class=\"sk-toggleable__control sk-hidden--visually\" id=\"sk-estimator-id-6\" type=\"checkbox\" checked><label for=\"sk-estimator-id-6\" class=\"sk-toggleable__label sk-toggleable__label-arrow\">SVR</label><div class=\"sk-toggleable__content\"><pre>SVR()</pre></div></div></div></div></div>"
      ],
      "text/plain": [
       "SVR()"
      ]
     },
     "execution_count": 34,
     "metadata": {},
     "output_type": "execute_result"
    }
   ],
   "source": [
    "training_model = SVR()\n",
    "training_model"
   ]
  },
  {
   "cell_type": "code",
   "execution_count": 35,
   "id": "49067103",
   "metadata": {
    "execution": {
     "iopub.execute_input": "2025-08-07T19:50:54.812682Z",
     "iopub.status.busy": "2025-08-07T19:50:54.812307Z",
     "iopub.status.idle": "2025-08-07T19:51:02.100587Z",
     "shell.execute_reply": "2025-08-07T19:51:02.099697Z"
    },
    "papermill": {
     "duration": 7.315302,
     "end_time": "2025-08-07T19:51:02.102099",
     "exception": false,
     "start_time": "2025-08-07T19:50:54.786797",
     "status": "completed"
    },
    "tags": []
   },
   "outputs": [
    {
     "name": "stdout",
     "output_type": "stream",
     "text": [
      "CPU times: user 7.28 s, sys: 0 ns, total: 7.28 s\n",
      "Wall time: 7.28 s\n"
     ]
    },
    {
     "data": {
      "text/html": [
       "<style>#sk-container-id-5 {color: black;background-color: white;}#sk-container-id-5 pre{padding: 0;}#sk-container-id-5 div.sk-toggleable {background-color: white;}#sk-container-id-5 label.sk-toggleable__label {cursor: pointer;display: block;width: 100%;margin-bottom: 0;padding: 0.3em;box-sizing: border-box;text-align: center;}#sk-container-id-5 label.sk-toggleable__label-arrow:before {content: \"▸\";float: left;margin-right: 0.25em;color: #696969;}#sk-container-id-5 label.sk-toggleable__label-arrow:hover:before {color: black;}#sk-container-id-5 div.sk-estimator:hover label.sk-toggleable__label-arrow:before {color: black;}#sk-container-id-5 div.sk-toggleable__content {max-height: 0;max-width: 0;overflow: hidden;text-align: left;background-color: #f0f8ff;}#sk-container-id-5 div.sk-toggleable__content pre {margin: 0.2em;color: black;border-radius: 0.25em;background-color: #f0f8ff;}#sk-container-id-5 input.sk-toggleable__control:checked~div.sk-toggleable__content {max-height: 200px;max-width: 100%;overflow: auto;}#sk-container-id-5 input.sk-toggleable__control:checked~label.sk-toggleable__label-arrow:before {content: \"▾\";}#sk-container-id-5 div.sk-estimator input.sk-toggleable__control:checked~label.sk-toggleable__label {background-color: #d4ebff;}#sk-container-id-5 div.sk-label input.sk-toggleable__control:checked~label.sk-toggleable__label {background-color: #d4ebff;}#sk-container-id-5 input.sk-hidden--visually {border: 0;clip: rect(1px 1px 1px 1px);clip: rect(1px, 1px, 1px, 1px);height: 1px;margin: -1px;overflow: hidden;padding: 0;position: absolute;width: 1px;}#sk-container-id-5 div.sk-estimator {font-family: monospace;background-color: #f0f8ff;border: 1px dotted black;border-radius: 0.25em;box-sizing: border-box;margin-bottom: 0.5em;}#sk-container-id-5 div.sk-estimator:hover {background-color: #d4ebff;}#sk-container-id-5 div.sk-parallel-item::after {content: \"\";width: 100%;border-bottom: 1px solid gray;flex-grow: 1;}#sk-container-id-5 div.sk-label:hover label.sk-toggleable__label {background-color: #d4ebff;}#sk-container-id-5 div.sk-serial::before {content: \"\";position: absolute;border-left: 1px solid gray;box-sizing: border-box;top: 0;bottom: 0;left: 50%;z-index: 0;}#sk-container-id-5 div.sk-serial {display: flex;flex-direction: column;align-items: center;background-color: white;padding-right: 0.2em;padding-left: 0.2em;position: relative;}#sk-container-id-5 div.sk-item {position: relative;z-index: 1;}#sk-container-id-5 div.sk-parallel {display: flex;align-items: stretch;justify-content: center;background-color: white;position: relative;}#sk-container-id-5 div.sk-item::before, #sk-container-id-5 div.sk-parallel-item::before {content: \"\";position: absolute;border-left: 1px solid gray;box-sizing: border-box;top: 0;bottom: 0;left: 50%;z-index: -1;}#sk-container-id-5 div.sk-parallel-item {display: flex;flex-direction: column;z-index: 1;position: relative;background-color: white;}#sk-container-id-5 div.sk-parallel-item:first-child::after {align-self: flex-end;width: 50%;}#sk-container-id-5 div.sk-parallel-item:last-child::after {align-self: flex-start;width: 50%;}#sk-container-id-5 div.sk-parallel-item:only-child::after {width: 0;}#sk-container-id-5 div.sk-dashed-wrapped {border: 1px dashed gray;margin: 0 0.4em 0.5em 0.4em;box-sizing: border-box;padding-bottom: 0.4em;background-color: white;}#sk-container-id-5 div.sk-label label {font-family: monospace;font-weight: bold;display: inline-block;line-height: 1.2em;}#sk-container-id-5 div.sk-label-container {text-align: center;}#sk-container-id-5 div.sk-container {/* jupyter's `normalize.less` sets `[hidden] { display: none; }` but bootstrap.min.css set `[hidden] { display: none !important; }` so we also need the `!important` here to be able to override the default hidden behavior on the sphinx rendered scikit-learn.org. See: https://github.com/scikit-learn/scikit-learn/issues/21755 */display: inline-block !important;position: relative;}#sk-container-id-5 div.sk-text-repr-fallback {display: none;}</style><div id=\"sk-container-id-5\" class=\"sk-top-container\"><div class=\"sk-text-repr-fallback\"><pre>SVR()</pre><b>In a Jupyter environment, please rerun this cell to show the HTML representation or trust the notebook. <br />On GitHub, the HTML representation is unable to render, please try loading this page with nbviewer.org.</b></div><div class=\"sk-container\" hidden><div class=\"sk-item\"><div class=\"sk-estimator sk-toggleable\"><input class=\"sk-toggleable__control sk-hidden--visually\" id=\"sk-estimator-id-7\" type=\"checkbox\" checked><label for=\"sk-estimator-id-7\" class=\"sk-toggleable__label sk-toggleable__label-arrow\">SVR</label><div class=\"sk-toggleable__content\"><pre>SVR()</pre></div></div></div></div></div>"
      ],
      "text/plain": [
       "SVR()"
      ]
     },
     "execution_count": 35,
     "metadata": {},
     "output_type": "execute_result"
    }
   ],
   "source": [
    "%%time\n",
    "training_model.fit(X_train, y_train)"
   ]
  },
  {
   "cell_type": "code",
   "execution_count": 36,
   "id": "e6516da5",
   "metadata": {
    "execution": {
     "iopub.execute_input": "2025-08-07T19:51:02.151216Z",
     "iopub.status.busy": "2025-08-07T19:51:02.150906Z",
     "iopub.status.idle": "2025-08-07T19:51:03.983492Z",
     "shell.execute_reply": "2025-08-07T19:51:03.982655Z"
    },
    "papermill": {
     "duration": 1.858701,
     "end_time": "2025-08-07T19:51:03.985145",
     "exception": false,
     "start_time": "2025-08-07T19:51:02.126444",
     "status": "completed"
    },
    "tags": []
   },
   "outputs": [
    {
     "data": {
      "text/plain": [
       "array([4.74637354, 3.45540375, 4.44534078, ..., 4.15039278, 4.84091204,\n",
       "       4.67345969])"
      ]
     },
     "execution_count": 36,
     "metadata": {},
     "output_type": "execute_result"
    }
   ],
   "source": [
    "y_pred = training_model.predict(X_test)\n",
    "y_pred"
   ]
  },
  {
   "cell_type": "code",
   "execution_count": 37,
   "id": "4c1f14e7",
   "metadata": {
    "execution": {
     "iopub.execute_input": "2025-08-07T19:51:04.033225Z",
     "iopub.status.busy": "2025-08-07T19:51:04.032434Z",
     "iopub.status.idle": "2025-08-07T19:51:04.039202Z",
     "shell.execute_reply": "2025-08-07T19:51:04.038428Z"
    },
    "papermill": {
     "duration": 0.032106,
     "end_time": "2025-08-07T19:51:04.040543",
     "exception": false,
     "start_time": "2025-08-07T19:51:04.008437",
     "status": "completed"
    },
    "tags": []
   },
   "outputs": [
    {
     "data": {
      "text/plain": [
       "5158     4.65\n",
       "3831     3.70\n",
       "5117     4.19\n",
       "6326     3.88\n",
       "11359    3.68\n",
       "         ... \n",
       "10290    5.17\n",
       "13995    4.48\n",
       "9665     3.91\n",
       "2276     4.00\n",
       "4174     4.65\n",
       "Name: Visibility, Length: 2924, dtype: float64"
      ]
     },
     "execution_count": 37,
     "metadata": {},
     "output_type": "execute_result"
    }
   ],
   "source": [
    "y_test"
   ]
  },
  {
   "cell_type": "code",
   "execution_count": 38,
   "id": "7db5526a",
   "metadata": {
    "execution": {
     "iopub.execute_input": "2025-08-07T19:51:04.161136Z",
     "iopub.status.busy": "2025-08-07T19:51:04.160837Z",
     "iopub.status.idle": "2025-08-07T19:51:04.167520Z",
     "shell.execute_reply": "2025-08-07T19:51:04.166713Z"
    },
    "papermill": {
     "duration": 0.032261,
     "end_time": "2025-08-07T19:51:04.169050",
     "exception": false,
     "start_time": "2025-08-07T19:51:04.136789",
     "status": "completed"
    },
    "tags": []
   },
   "outputs": [],
   "source": [
    "mse = mean_squared_error(y_test, y_pred)\n",
    "mae = mean_absolute_error(y_test, y_pred)\n",
    "r2 = r2_score(y_test, y_pred)\n",
    "rmse = math.sqrt(mse)"
   ]
  },
  {
   "cell_type": "code",
   "execution_count": 39,
   "id": "ebeb1ec5",
   "metadata": {
    "execution": {
     "iopub.execute_input": "2025-08-07T19:51:04.217362Z",
     "iopub.status.busy": "2025-08-07T19:51:04.217052Z",
     "iopub.status.idle": "2025-08-07T19:51:04.222543Z",
     "shell.execute_reply": "2025-08-07T19:51:04.221578Z"
    },
    "papermill": {
     "duration": 0.031339,
     "end_time": "2025-08-07T19:51:04.224004",
     "exception": false,
     "start_time": "2025-08-07T19:51:04.192665",
     "status": "completed"
    },
    "tags": []
   },
   "outputs": [
    {
     "name": "stdout",
     "output_type": "stream",
     "text": [
      "MSE Score: 1.256469449426018\n",
      "MAE Score: 0.4052123995409058\n",
      "R2 Score: 0.35610914339449273\n",
      "RMSE Score: 1.1209234806292614\n"
     ]
    }
   ],
   "source": [
    "print(\"MSE Score:\", mse)\n",
    "print(\"MAE Score:\", mae)\n",
    "print(\"R2 Score:\", r2)\n",
    "print(\"RMSE Score:\", rmse)"
   ]
  },
  {
   "cell_type": "code",
   "execution_count": 40,
   "id": "d65144e9",
   "metadata": {
    "execution": {
     "iopub.execute_input": "2025-08-07T19:51:04.272815Z",
     "iopub.status.busy": "2025-08-07T19:51:04.272412Z",
     "iopub.status.idle": "2025-08-07T19:51:04.284590Z",
     "shell.execute_reply": "2025-08-07T19:51:04.283664Z"
    },
    "papermill": {
     "duration": 0.038917,
     "end_time": "2025-08-07T19:51:04.286263",
     "exception": false,
     "start_time": "2025-08-07T19:51:04.247346",
     "status": "completed"
    },
    "tags": []
   },
   "outputs": [
    {
     "name": "stdout",
     "output_type": "stream",
     "text": [
      "✨ New regression model added:\n",
      "   MSE: 1.256469, R²: 0.356109\n",
      "   Features: 27\n",
      "💾 Registry updated: Model_Training_History/History_Regression.csv\n"
     ]
    }
   ],
   "source": [
    "regression_params = {\n",
    "    'model_name': model_name_for_saving,\n",
    "    'scaler_name': \"StandardScaler\",\n",
    "    'features_list': feature_columns_for_saving,\n",
    "    'target_column': target_name_for_saving,\n",
    "    'mse': mse,\n",
    "    'mae': mae,\n",
    "    'rmse': rmse,\n",
    "    'r2': r2,\n",
    "    'parameters': json.dumps(training_model.get_params())\n",
    "}\n",
    "save_model_performance_if_better('regression', regression_params)"
   ]
  },
  {
   "cell_type": "markdown",
   "id": "17b27dea",
   "metadata": {
    "papermill": {
     "duration": 0.02368,
     "end_time": "2025-08-07T19:51:04.335007",
     "exception": false,
     "start_time": "2025-08-07T19:51:04.311327",
     "status": "completed"
    },
    "tags": []
   },
   "source": [
    "### Tuning with Grid Search"
   ]
  },
  {
   "cell_type": "code",
   "execution_count": 41,
   "id": "5c73e669",
   "metadata": {
    "execution": {
     "iopub.execute_input": "2025-08-07T19:51:04.384021Z",
     "iopub.status.busy": "2025-08-07T19:51:04.383688Z",
     "iopub.status.idle": "2025-08-07T19:51:04.388733Z",
     "shell.execute_reply": "2025-08-07T19:51:04.387689Z"
    },
    "papermill": {
     "duration": 0.031842,
     "end_time": "2025-08-07T19:51:04.390402",
     "exception": false,
     "start_time": "2025-08-07T19:51:04.358560",
     "status": "completed"
    },
    "tags": []
   },
   "outputs": [],
   "source": [
    "grid_search = RandomizedSearchCV(\n",
    "    SVR(), \n",
    "    grid_param,\n",
    "    n_iter=number_of_model_for_randomized_grid,\n",
    "    cv=5,\n",
    "    scoring='neg_mean_squared_error',\n",
    "    n_jobs=-1,\n",
    "    verbose=1,\n",
    "    random_state=42\n",
    ")"
   ]
  },
  {
   "cell_type": "code",
   "execution_count": 42,
   "id": "f9b3b59d",
   "metadata": {
    "execution": {
     "iopub.execute_input": "2025-08-07T19:51:04.439569Z",
     "iopub.status.busy": "2025-08-07T19:51:04.438507Z",
     "iopub.status.idle": "2025-08-08T01:40:45.692776Z",
     "shell.execute_reply": "2025-08-08T01:40:45.689795Z"
    },
    "papermill": {
     "duration": 20981.300349,
     "end_time": "2025-08-08T01:40:45.714183",
     "exception": false,
     "start_time": "2025-08-07T19:51:04.413834",
     "status": "completed"
    },
    "tags": []
   },
   "outputs": [
    {
     "name": "stdout",
     "output_type": "stream",
     "text": [
      "Starting hyperparameter tuning...\n",
      "Fitting 5 folds for each of 130 candidates, totalling 650 fits\n",
      "CPU times: user 3min 24s, sys: 39.7 s, total: 4min 3s\n",
      "Wall time: 5h 49min 41s\n"
     ]
    },
    {
     "data": {
      "text/html": [
       "<style>#sk-container-id-6 {color: black;background-color: white;}#sk-container-id-6 pre{padding: 0;}#sk-container-id-6 div.sk-toggleable {background-color: white;}#sk-container-id-6 label.sk-toggleable__label {cursor: pointer;display: block;width: 100%;margin-bottom: 0;padding: 0.3em;box-sizing: border-box;text-align: center;}#sk-container-id-6 label.sk-toggleable__label-arrow:before {content: \"▸\";float: left;margin-right: 0.25em;color: #696969;}#sk-container-id-6 label.sk-toggleable__label-arrow:hover:before {color: black;}#sk-container-id-6 div.sk-estimator:hover label.sk-toggleable__label-arrow:before {color: black;}#sk-container-id-6 div.sk-toggleable__content {max-height: 0;max-width: 0;overflow: hidden;text-align: left;background-color: #f0f8ff;}#sk-container-id-6 div.sk-toggleable__content pre {margin: 0.2em;color: black;border-radius: 0.25em;background-color: #f0f8ff;}#sk-container-id-6 input.sk-toggleable__control:checked~div.sk-toggleable__content {max-height: 200px;max-width: 100%;overflow: auto;}#sk-container-id-6 input.sk-toggleable__control:checked~label.sk-toggleable__label-arrow:before {content: \"▾\";}#sk-container-id-6 div.sk-estimator input.sk-toggleable__control:checked~label.sk-toggleable__label {background-color: #d4ebff;}#sk-container-id-6 div.sk-label input.sk-toggleable__control:checked~label.sk-toggleable__label {background-color: #d4ebff;}#sk-container-id-6 input.sk-hidden--visually {border: 0;clip: rect(1px 1px 1px 1px);clip: rect(1px, 1px, 1px, 1px);height: 1px;margin: -1px;overflow: hidden;padding: 0;position: absolute;width: 1px;}#sk-container-id-6 div.sk-estimator {font-family: monospace;background-color: #f0f8ff;border: 1px dotted black;border-radius: 0.25em;box-sizing: border-box;margin-bottom: 0.5em;}#sk-container-id-6 div.sk-estimator:hover {background-color: #d4ebff;}#sk-container-id-6 div.sk-parallel-item::after {content: \"\";width: 100%;border-bottom: 1px solid gray;flex-grow: 1;}#sk-container-id-6 div.sk-label:hover label.sk-toggleable__label {background-color: #d4ebff;}#sk-container-id-6 div.sk-serial::before {content: \"\";position: absolute;border-left: 1px solid gray;box-sizing: border-box;top: 0;bottom: 0;left: 50%;z-index: 0;}#sk-container-id-6 div.sk-serial {display: flex;flex-direction: column;align-items: center;background-color: white;padding-right: 0.2em;padding-left: 0.2em;position: relative;}#sk-container-id-6 div.sk-item {position: relative;z-index: 1;}#sk-container-id-6 div.sk-parallel {display: flex;align-items: stretch;justify-content: center;background-color: white;position: relative;}#sk-container-id-6 div.sk-item::before, #sk-container-id-6 div.sk-parallel-item::before {content: \"\";position: absolute;border-left: 1px solid gray;box-sizing: border-box;top: 0;bottom: 0;left: 50%;z-index: -1;}#sk-container-id-6 div.sk-parallel-item {display: flex;flex-direction: column;z-index: 1;position: relative;background-color: white;}#sk-container-id-6 div.sk-parallel-item:first-child::after {align-self: flex-end;width: 50%;}#sk-container-id-6 div.sk-parallel-item:last-child::after {align-self: flex-start;width: 50%;}#sk-container-id-6 div.sk-parallel-item:only-child::after {width: 0;}#sk-container-id-6 div.sk-dashed-wrapped {border: 1px dashed gray;margin: 0 0.4em 0.5em 0.4em;box-sizing: border-box;padding-bottom: 0.4em;background-color: white;}#sk-container-id-6 div.sk-label label {font-family: monospace;font-weight: bold;display: inline-block;line-height: 1.2em;}#sk-container-id-6 div.sk-label-container {text-align: center;}#sk-container-id-6 div.sk-container {/* jupyter's `normalize.less` sets `[hidden] { display: none; }` but bootstrap.min.css set `[hidden] { display: none !important; }` so we also need the `!important` here to be able to override the default hidden behavior on the sphinx rendered scikit-learn.org. See: https://github.com/scikit-learn/scikit-learn/issues/21755 */display: inline-block !important;position: relative;}#sk-container-id-6 div.sk-text-repr-fallback {display: none;}</style><div id=\"sk-container-id-6\" class=\"sk-top-container\"><div class=\"sk-text-repr-fallback\"><pre>RandomizedSearchCV(cv=5, estimator=SVR(), n_iter=130, n_jobs=-1,\n",
       "                   param_distributions={&#x27;C&#x27;: [0.1, 1, 10, 100],\n",
       "                                        &#x27;coef0&#x27;: [0.0, 0.1, 1.0],\n",
       "                                        &#x27;epsilon&#x27;: [0.1, 0.2],\n",
       "                                        &#x27;gamma&#x27;: [&#x27;scale&#x27;, &#x27;auto&#x27;, 0.001, 0.01,\n",
       "                                                  0.1],\n",
       "                                        &#x27;kernel&#x27;: [&#x27;linear&#x27;, &#x27;rbf&#x27;, &#x27;sigmoid&#x27;],\n",
       "                                        &#x27;shrinking&#x27;: [True],\n",
       "                                        &#x27;tol&#x27;: [0.001, 0.0001]},\n",
       "                   random_state=42, scoring=&#x27;neg_mean_squared_error&#x27;,\n",
       "                   verbose=1)</pre><b>In a Jupyter environment, please rerun this cell to show the HTML representation or trust the notebook. <br />On GitHub, the HTML representation is unable to render, please try loading this page with nbviewer.org.</b></div><div class=\"sk-container\" hidden><div class=\"sk-item sk-dashed-wrapped\"><div class=\"sk-label-container\"><div class=\"sk-label sk-toggleable\"><input class=\"sk-toggleable__control sk-hidden--visually\" id=\"sk-estimator-id-8\" type=\"checkbox\" ><label for=\"sk-estimator-id-8\" class=\"sk-toggleable__label sk-toggleable__label-arrow\">RandomizedSearchCV</label><div class=\"sk-toggleable__content\"><pre>RandomizedSearchCV(cv=5, estimator=SVR(), n_iter=130, n_jobs=-1,\n",
       "                   param_distributions={&#x27;C&#x27;: [0.1, 1, 10, 100],\n",
       "                                        &#x27;coef0&#x27;: [0.0, 0.1, 1.0],\n",
       "                                        &#x27;epsilon&#x27;: [0.1, 0.2],\n",
       "                                        &#x27;gamma&#x27;: [&#x27;scale&#x27;, &#x27;auto&#x27;, 0.001, 0.01,\n",
       "                                                  0.1],\n",
       "                                        &#x27;kernel&#x27;: [&#x27;linear&#x27;, &#x27;rbf&#x27;, &#x27;sigmoid&#x27;],\n",
       "                                        &#x27;shrinking&#x27;: [True],\n",
       "                                        &#x27;tol&#x27;: [0.001, 0.0001]},\n",
       "                   random_state=42, scoring=&#x27;neg_mean_squared_error&#x27;,\n",
       "                   verbose=1)</pre></div></div></div><div class=\"sk-parallel\"><div class=\"sk-parallel-item\"><div class=\"sk-item\"><div class=\"sk-label-container\"><div class=\"sk-label sk-toggleable\"><input class=\"sk-toggleable__control sk-hidden--visually\" id=\"sk-estimator-id-9\" type=\"checkbox\" ><label for=\"sk-estimator-id-9\" class=\"sk-toggleable__label sk-toggleable__label-arrow\">estimator: SVR</label><div class=\"sk-toggleable__content\"><pre>SVR()</pre></div></div></div><div class=\"sk-serial\"><div class=\"sk-item\"><div class=\"sk-estimator sk-toggleable\"><input class=\"sk-toggleable__control sk-hidden--visually\" id=\"sk-estimator-id-10\" type=\"checkbox\" ><label for=\"sk-estimator-id-10\" class=\"sk-toggleable__label sk-toggleable__label-arrow\">SVR</label><div class=\"sk-toggleable__content\"><pre>SVR()</pre></div></div></div></div></div></div></div></div></div></div>"
      ],
      "text/plain": [
       "RandomizedSearchCV(cv=5, estimator=SVR(), n_iter=130, n_jobs=-1,\n",
       "                   param_distributions={'C': [0.1, 1, 10, 100],\n",
       "                                        'coef0': [0.0, 0.1, 1.0],\n",
       "                                        'epsilon': [0.1, 0.2],\n",
       "                                        'gamma': ['scale', 'auto', 0.001, 0.01,\n",
       "                                                  0.1],\n",
       "                                        'kernel': ['linear', 'rbf', 'sigmoid'],\n",
       "                                        'shrinking': [True],\n",
       "                                        'tol': [0.001, 0.0001]},\n",
       "                   random_state=42, scoring='neg_mean_squared_error',\n",
       "                   verbose=1)"
      ]
     },
     "execution_count": 42,
     "metadata": {},
     "output_type": "execute_result"
    }
   ],
   "source": [
    "%%time\n",
    "print(\"Starting hyperparameter tuning...\")\n",
    "grid_search.fit(X_train, y_train)"
   ]
  },
  {
   "cell_type": "code",
   "execution_count": 43,
   "id": "20b4351d",
   "metadata": {
    "execution": {
     "iopub.execute_input": "2025-08-08T01:40:45.765247Z",
     "iopub.status.busy": "2025-08-08T01:40:45.764672Z",
     "iopub.status.idle": "2025-08-08T01:40:45.777388Z",
     "shell.execute_reply": "2025-08-08T01:40:45.776401Z"
    },
    "papermill": {
     "duration": 0.041136,
     "end_time": "2025-08-08T01:40:45.779291",
     "exception": false,
     "start_time": "2025-08-08T01:40:45.738155",
     "status": "completed"
    },
    "tags": []
   },
   "outputs": [
    {
     "name": "stdout",
     "output_type": "stream",
     "text": [
      "TUNING RESULTS\n",
      "==================================================\n",
      "Best Parameters: {'tol': 0.001, 'shrinking': True, 'kernel': 'rbf', 'gamma': 0.1, 'epsilon': 0.2, 'coef0': 1.0, 'C': 100}\n",
      "Best Cross-Validation Score (Negative MSE): -1.130436890318732\n",
      "Best Cross-Validation Score (MSE): 1.130436890318732\n",
      "Best Cross-Validation Score (RMSE): 1.0632200573346668\n"
     ]
    }
   ],
   "source": [
    "print(\"TUNING RESULTS\")\n",
    "print(\"=\"*50)\n",
    "print(\"Best Parameters:\", grid_search.best_params_)\n",
    "print(\"Best Cross-Validation Score (Negative MSE):\", grid_search.best_score_)\n",
    "print(\"Best Cross-Validation Score (MSE):\", -grid_search.best_score_)\n",
    "print(\"Best Cross-Validation Score (RMSE):\", math.sqrt(-grid_search.best_score_))\n",
    "\n",
    "# Use the best parameters to train the robust scaler model\n",
    "grid_param_standard = {k: [v] for k, v in grid_search.best_params_.items()}"
   ]
  },
  {
   "cell_type": "code",
   "execution_count": 44,
   "id": "36f5b17c",
   "metadata": {
    "execution": {
     "iopub.execute_input": "2025-08-08T01:40:45.830771Z",
     "iopub.status.busy": "2025-08-08T01:40:45.830390Z",
     "iopub.status.idle": "2025-08-08T01:40:47.465997Z",
     "shell.execute_reply": "2025-08-08T01:40:47.464989Z"
    },
    "papermill": {
     "duration": 1.663676,
     "end_time": "2025-08-08T01:40:47.467809",
     "exception": false,
     "start_time": "2025-08-08T01:40:45.804133",
     "status": "completed"
    },
    "tags": []
   },
   "outputs": [],
   "source": [
    "grid_search_best_model = grid_search.best_estimator_\n",
    "y_pred = grid_search_best_model.predict(X_test)"
   ]
  },
  {
   "cell_type": "code",
   "execution_count": 45,
   "id": "0981bdf3",
   "metadata": {
    "execution": {
     "iopub.execute_input": "2025-08-08T01:40:47.624204Z",
     "iopub.status.busy": "2025-08-08T01:40:47.623908Z",
     "iopub.status.idle": "2025-08-08T01:40:47.632247Z",
     "shell.execute_reply": "2025-08-08T01:40:47.631323Z"
    },
    "papermill": {
     "duration": 0.03542,
     "end_time": "2025-08-08T01:40:47.634043",
     "exception": false,
     "start_time": "2025-08-08T01:40:47.598623",
     "status": "completed"
    },
    "tags": []
   },
   "outputs": [],
   "source": [
    "mse_grid_search = mean_squared_error(y_test, y_pred)\n",
    "mae_grid_search = mean_absolute_error(y_test, y_pred)\n",
    "r2_grid_search = r2_score(y_test, y_pred)\n",
    "rmse_grid_search = math.sqrt(mse_grid_search)"
   ]
  },
  {
   "cell_type": "code",
   "execution_count": 46,
   "id": "4c710b34",
   "metadata": {
    "execution": {
     "iopub.execute_input": "2025-08-08T01:40:47.683255Z",
     "iopub.status.busy": "2025-08-08T01:40:47.682519Z",
     "iopub.status.idle": "2025-08-08T01:40:47.688238Z",
     "shell.execute_reply": "2025-08-08T01:40:47.687336Z"
    },
    "papermill": {
     "duration": 0.031626,
     "end_time": "2025-08-08T01:40:47.689589",
     "exception": false,
     "start_time": "2025-08-08T01:40:47.657963",
     "status": "completed"
    },
    "tags": []
   },
   "outputs": [
    {
     "name": "stdout",
     "output_type": "stream",
     "text": [
      "MSE Score: 1.0709317990454226\n",
      "MAE Score: 0.4793010389339478\n",
      "R2 Score: 0.45118984487172276\n",
      "RMSE Score: 1.0348583473333066\n"
     ]
    }
   ],
   "source": [
    "print(\"MSE Score:\", mse_grid_search)\n",
    "print(\"MAE Score:\", mae_grid_search)\n",
    "print(\"R2 Score:\", r2_grid_search)\n",
    "print(\"RMSE Score:\", rmse_grid_search)"
   ]
  },
  {
   "cell_type": "code",
   "execution_count": 47,
   "id": "e6035c15",
   "metadata": {
    "execution": {
     "iopub.execute_input": "2025-08-08T01:40:47.739141Z",
     "iopub.status.busy": "2025-08-08T01:40:47.738848Z",
     "iopub.status.idle": "2025-08-08T01:40:47.768438Z",
     "shell.execute_reply": "2025-08-08T01:40:47.767331Z"
    },
    "papermill": {
     "duration": 0.056598,
     "end_time": "2025-08-08T01:40:47.770023",
     "exception": false,
     "start_time": "2025-08-08T01:40:47.713425",
     "status": "completed"
    },
    "tags": []
   },
   "outputs": [
    {
     "name": "stdout",
     "output_type": "stream",
     "text": [
      "✨ New regression model added:\n",
      "   MSE: 1.070932, R²: 0.451190\n",
      "   Features: 27\n",
      "💾 Registry updated: Model_Training_History/History_Regression.csv\n"
     ]
    }
   ],
   "source": [
    "regression_params = {\n",
    "    'model_name': model_name_for_saving + \" Tuned\",\n",
    "    'scaler_name': \"StandardScaler\",\n",
    "    'features_list': feature_columns_for_saving,\n",
    "    'target_column': target_name_for_saving,\n",
    "    'mse': mse_grid_search,\n",
    "    'mae': mae_grid_search,\n",
    "    'rmse': rmse_grid_search,\n",
    "    'r2': r2_grid_search,\n",
    "    'parameters' : json.dumps({\n",
    "        \"best_params\": grid_search.best_params_,\n",
    "        \"cv_score\": grid_search.best_score_,\n",
    "        \"all_params\": grid_search_best_model.get_params()\n",
    "    })\n",
    "}\n",
    "save_model_performance_if_better('regression', regression_params)"
   ]
  },
  {
   "cell_type": "markdown",
   "id": "c2cbb8f3",
   "metadata": {
    "papermill": {
     "duration": 0.024435,
     "end_time": "2025-08-08T01:40:47.819972",
     "exception": false,
     "start_time": "2025-08-08T01:40:47.795537",
     "status": "completed"
    },
    "tags": []
   },
   "source": [
    "## Robust Scaler"
   ]
  },
  {
   "cell_type": "code",
   "execution_count": 48,
   "id": "3afe50c9",
   "metadata": {
    "execution": {
     "iopub.execute_input": "2025-08-08T01:40:47.869623Z",
     "iopub.status.busy": "2025-08-08T01:40:47.869223Z",
     "iopub.status.idle": "2025-08-08T01:40:47.910536Z",
     "shell.execute_reply": "2025-08-08T01:40:47.909721Z"
    },
    "papermill": {
     "duration": 0.068134,
     "end_time": "2025-08-08T01:40:47.912283",
     "exception": false,
     "start_time": "2025-08-08T01:40:47.844149",
     "status": "completed"
    },
    "tags": []
   },
   "outputs": [],
   "source": [
    "scaler = RobustScaler()\n",
    "X_train = scaler.fit_transform(X_train_raw)\n",
    "X_test = scaler.transform(X_test_raw)"
   ]
  },
  {
   "cell_type": "code",
   "execution_count": 49,
   "id": "f29c7cd8",
   "metadata": {
    "execution": {
     "iopub.execute_input": "2025-08-08T01:40:47.962165Z",
     "iopub.status.busy": "2025-08-08T01:40:47.961856Z",
     "iopub.status.idle": "2025-08-08T01:40:47.971287Z",
     "shell.execute_reply": "2025-08-08T01:40:47.970424Z"
    },
    "papermill": {
     "duration": 0.036105,
     "end_time": "2025-08-08T01:40:47.972740",
     "exception": false,
     "start_time": "2025-08-08T01:40:47.936635",
     "status": "completed"
    },
    "tags": []
   },
   "outputs": [
    {
     "data": {
      "text/plain": [
       "array([[ 0.6       ,  0.66666667, -0.16666667, ..., -0.03738547,\n",
       "         1.44008264,  8.87596899],\n",
       "       [ 1.        , -0.46666667,  0.33333333, ..., -0.84268652,\n",
       "         0.62603306,  0.        ],\n",
       "       [-0.8       , -0.13333333, -1.        , ..., -0.84268652,\n",
       "         0.        ,  0.        ],\n",
       "       ...,\n",
       "       [ 0.4       ,  0.73333333, -0.16666667, ...,  0.5899051 ,\n",
       "         0.6322314 ,  0.75193798],\n",
       "       [-1.        , -0.2       ,  0.75      , ..., -0.84268652,\n",
       "         0.        ,  0.        ],\n",
       "       [ 0.6       , -0.46666667, -0.33333333, ...,  0.61755563,\n",
       "         0.59917355,  7.5       ]])"
      ]
     },
     "execution_count": 49,
     "metadata": {},
     "output_type": "execute_result"
    }
   ],
   "source": [
    "X_train"
   ]
  },
  {
   "cell_type": "code",
   "execution_count": 50,
   "id": "243b92d9",
   "metadata": {
    "execution": {
     "iopub.execute_input": "2025-08-08T01:40:48.022258Z",
     "iopub.status.busy": "2025-08-08T01:40:48.021952Z",
     "iopub.status.idle": "2025-08-08T01:40:48.028560Z",
     "shell.execute_reply": "2025-08-08T01:40:48.027539Z"
    },
    "papermill": {
     "duration": 0.033257,
     "end_time": "2025-08-08T01:40:48.030070",
     "exception": false,
     "start_time": "2025-08-08T01:40:47.996813",
     "status": "completed"
    },
    "tags": []
   },
   "outputs": [
    {
     "data": {
      "text/plain": [
       "array([[ 4.00000000e-01, -8.66666667e-01,  8.33333333e-01, ...,\n",
       "         6.20009817e-01,  0.00000000e+00,  0.00000000e+00],\n",
       "       [ 0.00000000e+00, -4.66666667e-01,  2.50000000e-01, ...,\n",
       "         7.40592277e-01,  1.52892562e-01,  0.00000000e+00],\n",
       "       [ 4.00000000e-01, -9.33333333e-01, -5.83333333e-01, ...,\n",
       "         7.82804319e-01,  0.00000000e+00,  0.00000000e+00],\n",
       "       ...,\n",
       "       [-8.00000000e-01, -6.00000000e-01,  4.16666667e-01, ...,\n",
       "        -8.40559555e-01,  4.19421488e-01,  0.00000000e+00],\n",
       "       [-4.00000000e-01, -7.33333333e-01,  6.66666667e-01, ...,\n",
       "        -8.42686518e-01,  0.00000000e+00,  6.67829457e+00],\n",
       "       [ 0.00000000e+00,  4.66666667e-01,  8.33333333e-01, ...,\n",
       "         1.71793194e-03,  0.00000000e+00,  0.00000000e+00]])"
      ]
     },
     "execution_count": 50,
     "metadata": {},
     "output_type": "execute_result"
    }
   ],
   "source": [
    "X_test"
   ]
  },
  {
   "cell_type": "markdown",
   "id": "ff80e0b5",
   "metadata": {
    "papermill": {
     "duration": 0.024123,
     "end_time": "2025-08-08T01:40:48.078872",
     "exception": false,
     "start_time": "2025-08-08T01:40:48.054749",
     "status": "completed"
    },
    "tags": []
   },
   "source": [
    "### Default Parameters"
   ]
  },
  {
   "cell_type": "code",
   "execution_count": 51,
   "id": "4b430445",
   "metadata": {
    "execution": {
     "iopub.execute_input": "2025-08-08T01:40:48.128339Z",
     "iopub.status.busy": "2025-08-08T01:40:48.128039Z",
     "iopub.status.idle": "2025-08-08T01:40:48.134256Z",
     "shell.execute_reply": "2025-08-08T01:40:48.133266Z"
    },
    "papermill": {
     "duration": 0.033033,
     "end_time": "2025-08-08T01:40:48.135945",
     "exception": false,
     "start_time": "2025-08-08T01:40:48.102912",
     "status": "completed"
    },
    "tags": []
   },
   "outputs": [
    {
     "data": {
      "text/html": [
       "<style>#sk-container-id-7 {color: black;background-color: white;}#sk-container-id-7 pre{padding: 0;}#sk-container-id-7 div.sk-toggleable {background-color: white;}#sk-container-id-7 label.sk-toggleable__label {cursor: pointer;display: block;width: 100%;margin-bottom: 0;padding: 0.3em;box-sizing: border-box;text-align: center;}#sk-container-id-7 label.sk-toggleable__label-arrow:before {content: \"▸\";float: left;margin-right: 0.25em;color: #696969;}#sk-container-id-7 label.sk-toggleable__label-arrow:hover:before {color: black;}#sk-container-id-7 div.sk-estimator:hover label.sk-toggleable__label-arrow:before {color: black;}#sk-container-id-7 div.sk-toggleable__content {max-height: 0;max-width: 0;overflow: hidden;text-align: left;background-color: #f0f8ff;}#sk-container-id-7 div.sk-toggleable__content pre {margin: 0.2em;color: black;border-radius: 0.25em;background-color: #f0f8ff;}#sk-container-id-7 input.sk-toggleable__control:checked~div.sk-toggleable__content {max-height: 200px;max-width: 100%;overflow: auto;}#sk-container-id-7 input.sk-toggleable__control:checked~label.sk-toggleable__label-arrow:before {content: \"▾\";}#sk-container-id-7 div.sk-estimator input.sk-toggleable__control:checked~label.sk-toggleable__label {background-color: #d4ebff;}#sk-container-id-7 div.sk-label input.sk-toggleable__control:checked~label.sk-toggleable__label {background-color: #d4ebff;}#sk-container-id-7 input.sk-hidden--visually {border: 0;clip: rect(1px 1px 1px 1px);clip: rect(1px, 1px, 1px, 1px);height: 1px;margin: -1px;overflow: hidden;padding: 0;position: absolute;width: 1px;}#sk-container-id-7 div.sk-estimator {font-family: monospace;background-color: #f0f8ff;border: 1px dotted black;border-radius: 0.25em;box-sizing: border-box;margin-bottom: 0.5em;}#sk-container-id-7 div.sk-estimator:hover {background-color: #d4ebff;}#sk-container-id-7 div.sk-parallel-item::after {content: \"\";width: 100%;border-bottom: 1px solid gray;flex-grow: 1;}#sk-container-id-7 div.sk-label:hover label.sk-toggleable__label {background-color: #d4ebff;}#sk-container-id-7 div.sk-serial::before {content: \"\";position: absolute;border-left: 1px solid gray;box-sizing: border-box;top: 0;bottom: 0;left: 50%;z-index: 0;}#sk-container-id-7 div.sk-serial {display: flex;flex-direction: column;align-items: center;background-color: white;padding-right: 0.2em;padding-left: 0.2em;position: relative;}#sk-container-id-7 div.sk-item {position: relative;z-index: 1;}#sk-container-id-7 div.sk-parallel {display: flex;align-items: stretch;justify-content: center;background-color: white;position: relative;}#sk-container-id-7 div.sk-item::before, #sk-container-id-7 div.sk-parallel-item::before {content: \"\";position: absolute;border-left: 1px solid gray;box-sizing: border-box;top: 0;bottom: 0;left: 50%;z-index: -1;}#sk-container-id-7 div.sk-parallel-item {display: flex;flex-direction: column;z-index: 1;position: relative;background-color: white;}#sk-container-id-7 div.sk-parallel-item:first-child::after {align-self: flex-end;width: 50%;}#sk-container-id-7 div.sk-parallel-item:last-child::after {align-self: flex-start;width: 50%;}#sk-container-id-7 div.sk-parallel-item:only-child::after {width: 0;}#sk-container-id-7 div.sk-dashed-wrapped {border: 1px dashed gray;margin: 0 0.4em 0.5em 0.4em;box-sizing: border-box;padding-bottom: 0.4em;background-color: white;}#sk-container-id-7 div.sk-label label {font-family: monospace;font-weight: bold;display: inline-block;line-height: 1.2em;}#sk-container-id-7 div.sk-label-container {text-align: center;}#sk-container-id-7 div.sk-container {/* jupyter's `normalize.less` sets `[hidden] { display: none; }` but bootstrap.min.css set `[hidden] { display: none !important; }` so we also need the `!important` here to be able to override the default hidden behavior on the sphinx rendered scikit-learn.org. See: https://github.com/scikit-learn/scikit-learn/issues/21755 */display: inline-block !important;position: relative;}#sk-container-id-7 div.sk-text-repr-fallback {display: none;}</style><div id=\"sk-container-id-7\" class=\"sk-top-container\"><div class=\"sk-text-repr-fallback\"><pre>SVR()</pre><b>In a Jupyter environment, please rerun this cell to show the HTML representation or trust the notebook. <br />On GitHub, the HTML representation is unable to render, please try loading this page with nbviewer.org.</b></div><div class=\"sk-container\" hidden><div class=\"sk-item\"><div class=\"sk-estimator sk-toggleable\"><input class=\"sk-toggleable__control sk-hidden--visually\" id=\"sk-estimator-id-11\" type=\"checkbox\" checked><label for=\"sk-estimator-id-11\" class=\"sk-toggleable__label sk-toggleable__label-arrow\">SVR</label><div class=\"sk-toggleable__content\"><pre>SVR()</pre></div></div></div></div></div>"
      ],
      "text/plain": [
       "SVR()"
      ]
     },
     "execution_count": 51,
     "metadata": {},
     "output_type": "execute_result"
    }
   ],
   "source": [
    "training_model = SVR()\n",
    "training_model"
   ]
  },
  {
   "cell_type": "code",
   "execution_count": 52,
   "id": "fb6253a1",
   "metadata": {
    "execution": {
     "iopub.execute_input": "2025-08-08T01:40:48.186839Z",
     "iopub.status.busy": "2025-08-08T01:40:48.186456Z",
     "iopub.status.idle": "2025-08-08T01:40:55.177060Z",
     "shell.execute_reply": "2025-08-08T01:40:55.176080Z"
    },
    "papermill": {
     "duration": 7.017837,
     "end_time": "2025-08-08T01:40:55.178537",
     "exception": false,
     "start_time": "2025-08-08T01:40:48.160700",
     "status": "completed"
    },
    "tags": []
   },
   "outputs": [
    {
     "name": "stdout",
     "output_type": "stream",
     "text": [
      "CPU times: user 6.99 s, sys: 0 ns, total: 6.99 s\n",
      "Wall time: 6.98 s\n"
     ]
    },
    {
     "data": {
      "text/html": [
       "<style>#sk-container-id-8 {color: black;background-color: white;}#sk-container-id-8 pre{padding: 0;}#sk-container-id-8 div.sk-toggleable {background-color: white;}#sk-container-id-8 label.sk-toggleable__label {cursor: pointer;display: block;width: 100%;margin-bottom: 0;padding: 0.3em;box-sizing: border-box;text-align: center;}#sk-container-id-8 label.sk-toggleable__label-arrow:before {content: \"▸\";float: left;margin-right: 0.25em;color: #696969;}#sk-container-id-8 label.sk-toggleable__label-arrow:hover:before {color: black;}#sk-container-id-8 div.sk-estimator:hover label.sk-toggleable__label-arrow:before {color: black;}#sk-container-id-8 div.sk-toggleable__content {max-height: 0;max-width: 0;overflow: hidden;text-align: left;background-color: #f0f8ff;}#sk-container-id-8 div.sk-toggleable__content pre {margin: 0.2em;color: black;border-radius: 0.25em;background-color: #f0f8ff;}#sk-container-id-8 input.sk-toggleable__control:checked~div.sk-toggleable__content {max-height: 200px;max-width: 100%;overflow: auto;}#sk-container-id-8 input.sk-toggleable__control:checked~label.sk-toggleable__label-arrow:before {content: \"▾\";}#sk-container-id-8 div.sk-estimator input.sk-toggleable__control:checked~label.sk-toggleable__label {background-color: #d4ebff;}#sk-container-id-8 div.sk-label input.sk-toggleable__control:checked~label.sk-toggleable__label {background-color: #d4ebff;}#sk-container-id-8 input.sk-hidden--visually {border: 0;clip: rect(1px 1px 1px 1px);clip: rect(1px, 1px, 1px, 1px);height: 1px;margin: -1px;overflow: hidden;padding: 0;position: absolute;width: 1px;}#sk-container-id-8 div.sk-estimator {font-family: monospace;background-color: #f0f8ff;border: 1px dotted black;border-radius: 0.25em;box-sizing: border-box;margin-bottom: 0.5em;}#sk-container-id-8 div.sk-estimator:hover {background-color: #d4ebff;}#sk-container-id-8 div.sk-parallel-item::after {content: \"\";width: 100%;border-bottom: 1px solid gray;flex-grow: 1;}#sk-container-id-8 div.sk-label:hover label.sk-toggleable__label {background-color: #d4ebff;}#sk-container-id-8 div.sk-serial::before {content: \"\";position: absolute;border-left: 1px solid gray;box-sizing: border-box;top: 0;bottom: 0;left: 50%;z-index: 0;}#sk-container-id-8 div.sk-serial {display: flex;flex-direction: column;align-items: center;background-color: white;padding-right: 0.2em;padding-left: 0.2em;position: relative;}#sk-container-id-8 div.sk-item {position: relative;z-index: 1;}#sk-container-id-8 div.sk-parallel {display: flex;align-items: stretch;justify-content: center;background-color: white;position: relative;}#sk-container-id-8 div.sk-item::before, #sk-container-id-8 div.sk-parallel-item::before {content: \"\";position: absolute;border-left: 1px solid gray;box-sizing: border-box;top: 0;bottom: 0;left: 50%;z-index: -1;}#sk-container-id-8 div.sk-parallel-item {display: flex;flex-direction: column;z-index: 1;position: relative;background-color: white;}#sk-container-id-8 div.sk-parallel-item:first-child::after {align-self: flex-end;width: 50%;}#sk-container-id-8 div.sk-parallel-item:last-child::after {align-self: flex-start;width: 50%;}#sk-container-id-8 div.sk-parallel-item:only-child::after {width: 0;}#sk-container-id-8 div.sk-dashed-wrapped {border: 1px dashed gray;margin: 0 0.4em 0.5em 0.4em;box-sizing: border-box;padding-bottom: 0.4em;background-color: white;}#sk-container-id-8 div.sk-label label {font-family: monospace;font-weight: bold;display: inline-block;line-height: 1.2em;}#sk-container-id-8 div.sk-label-container {text-align: center;}#sk-container-id-8 div.sk-container {/* jupyter's `normalize.less` sets `[hidden] { display: none; }` but bootstrap.min.css set `[hidden] { display: none !important; }` so we also need the `!important` here to be able to override the default hidden behavior on the sphinx rendered scikit-learn.org. See: https://github.com/scikit-learn/scikit-learn/issues/21755 */display: inline-block !important;position: relative;}#sk-container-id-8 div.sk-text-repr-fallback {display: none;}</style><div id=\"sk-container-id-8\" class=\"sk-top-container\"><div class=\"sk-text-repr-fallback\"><pre>SVR()</pre><b>In a Jupyter environment, please rerun this cell to show the HTML representation or trust the notebook. <br />On GitHub, the HTML representation is unable to render, please try loading this page with nbviewer.org.</b></div><div class=\"sk-container\" hidden><div class=\"sk-item\"><div class=\"sk-estimator sk-toggleable\"><input class=\"sk-toggleable__control sk-hidden--visually\" id=\"sk-estimator-id-12\" type=\"checkbox\" checked><label for=\"sk-estimator-id-12\" class=\"sk-toggleable__label sk-toggleable__label-arrow\">SVR</label><div class=\"sk-toggleable__content\"><pre>SVR()</pre></div></div></div></div></div>"
      ],
      "text/plain": [
       "SVR()"
      ]
     },
     "execution_count": 52,
     "metadata": {},
     "output_type": "execute_result"
    }
   ],
   "source": [
    "%%time\n",
    "training_model.fit(X_train, y_train)"
   ]
  },
  {
   "cell_type": "code",
   "execution_count": 53,
   "id": "e647a944",
   "metadata": {
    "execution": {
     "iopub.execute_input": "2025-08-08T01:40:55.230501Z",
     "iopub.status.busy": "2025-08-08T01:40:55.230189Z",
     "iopub.status.idle": "2025-08-08T01:40:57.244895Z",
     "shell.execute_reply": "2025-08-08T01:40:57.243946Z"
    },
    "papermill": {
     "duration": 2.042197,
     "end_time": "2025-08-08T01:40:57.246568",
     "exception": false,
     "start_time": "2025-08-08T01:40:55.204371",
     "status": "completed"
    },
    "tags": []
   },
   "outputs": [
    {
     "data": {
      "text/plain": [
       "array([4.7376717 , 4.27693648, 4.56654931, ..., 4.10452425, 4.87527062,\n",
       "       4.76760684])"
      ]
     },
     "execution_count": 53,
     "metadata": {},
     "output_type": "execute_result"
    }
   ],
   "source": [
    "y_pred = training_model.predict(X_test)\n",
    "y_pred"
   ]
  },
  {
   "cell_type": "code",
   "execution_count": 54,
   "id": "1a6b045e",
   "metadata": {
    "execution": {
     "iopub.execute_input": "2025-08-08T01:40:57.298315Z",
     "iopub.status.busy": "2025-08-08T01:40:57.297936Z",
     "iopub.status.idle": "2025-08-08T01:40:57.306421Z",
     "shell.execute_reply": "2025-08-08T01:40:57.305701Z"
    },
    "papermill": {
     "duration": 0.03625,
     "end_time": "2025-08-08T01:40:57.307907",
     "exception": false,
     "start_time": "2025-08-08T01:40:57.271657",
     "status": "completed"
    },
    "tags": []
   },
   "outputs": [
    {
     "data": {
      "text/plain": [
       "5158     4.65\n",
       "3831     3.70\n",
       "5117     4.19\n",
       "6326     3.88\n",
       "11359    3.68\n",
       "         ... \n",
       "10290    5.17\n",
       "13995    4.48\n",
       "9665     3.91\n",
       "2276     4.00\n",
       "4174     4.65\n",
       "Name: Visibility, Length: 2924, dtype: float64"
      ]
     },
     "execution_count": 54,
     "metadata": {},
     "output_type": "execute_result"
    }
   ],
   "source": [
    "y_test"
   ]
  },
  {
   "cell_type": "code",
   "execution_count": 55,
   "id": "94a509a2",
   "metadata": {
    "execution": {
     "iopub.execute_input": "2025-08-08T01:40:57.363719Z",
     "iopub.status.busy": "2025-08-08T01:40:57.363290Z",
     "iopub.status.idle": "2025-08-08T01:40:57.370318Z",
     "shell.execute_reply": "2025-08-08T01:40:57.369474Z"
    },
    "papermill": {
     "duration": 0.038005,
     "end_time": "2025-08-08T01:40:57.372005",
     "exception": false,
     "start_time": "2025-08-08T01:40:57.334000",
     "status": "completed"
    },
    "tags": []
   },
   "outputs": [],
   "source": [
    "mse = mean_squared_error(y_test, y_pred)\n",
    "mae = mean_absolute_error(y_test, y_pred)\n",
    "r2 = r2_score(y_test, y_pred)\n",
    "rmse = math.sqrt(mse)"
   ]
  },
  {
   "cell_type": "code",
   "execution_count": 56,
   "id": "c9de96c4",
   "metadata": {
    "execution": {
     "iopub.execute_input": "2025-08-08T01:40:57.424064Z",
     "iopub.status.busy": "2025-08-08T01:40:57.423768Z",
     "iopub.status.idle": "2025-08-08T01:40:57.428588Z",
     "shell.execute_reply": "2025-08-08T01:40:57.427520Z"
    },
    "papermill": {
     "duration": 0.032475,
     "end_time": "2025-08-08T01:40:57.430030",
     "exception": false,
     "start_time": "2025-08-08T01:40:57.397555",
     "status": "completed"
    },
    "tags": []
   },
   "outputs": [
    {
     "name": "stdout",
     "output_type": "stream",
     "text": [
      "MSE Score: 1.5232530727986768\n",
      "MAE Score: 0.5615969565036047\n",
      "R2 Score: 0.21939309680839003\n",
      "RMSE Score: 1.2342013906971085\n"
     ]
    }
   ],
   "source": [
    "print(\"MSE Score:\", mse)\n",
    "print(\"MAE Score:\", mae)\n",
    "print(\"R2 Score:\", r2)\n",
    "print(\"RMSE Score:\", rmse)"
   ]
  },
  {
   "cell_type": "code",
   "execution_count": 57,
   "id": "598ab391",
   "metadata": {
    "execution": {
     "iopub.execute_input": "2025-08-08T01:40:57.485167Z",
     "iopub.status.busy": "2025-08-08T01:40:57.484600Z",
     "iopub.status.idle": "2025-08-08T01:40:57.499514Z",
     "shell.execute_reply": "2025-08-08T01:40:57.497582Z"
    },
    "papermill": {
     "duration": 0.046027,
     "end_time": "2025-08-08T01:40:57.501709",
     "exception": false,
     "start_time": "2025-08-08T01:40:57.455682",
     "status": "completed"
    },
    "tags": []
   },
   "outputs": [
    {
     "name": "stdout",
     "output_type": "stream",
     "text": [
      "✨ New regression model added:\n",
      "   MSE: 1.523253, R²: 0.219393\n",
      "   Features: 27\n",
      "💾 Registry updated: Model_Training_History/History_Regression.csv\n"
     ]
    }
   ],
   "source": [
    "regression_params = {\n",
    "    'model_name': model_name_for_saving,\n",
    "    'scaler_name': \"RobustScaler\",\n",
    "    'features_list': feature_columns_for_saving,\n",
    "    'target_column': target_name_for_saving,\n",
    "    'mse': mse,\n",
    "    'mae': mae,\n",
    "    'rmse': rmse,\n",
    "    'r2': r2,\n",
    "    'parameters': json.dumps(training_model.get_params())\n",
    "}\n",
    "save_model_performance_if_better('regression', regression_params)"
   ]
  },
  {
   "cell_type": "markdown",
   "id": "9c14260e",
   "metadata": {
    "papermill": {
     "duration": 0.03043,
     "end_time": "2025-08-08T01:40:57.571230",
     "exception": false,
     "start_time": "2025-08-08T01:40:57.540800",
     "status": "completed"
    },
    "tags": []
   },
   "source": [
    "### Tuning with Grid Search"
   ]
  },
  {
   "cell_type": "code",
   "execution_count": 58,
   "id": "66cab426",
   "metadata": {
    "execution": {
     "iopub.execute_input": "2025-08-08T01:40:57.623145Z",
     "iopub.status.busy": "2025-08-08T01:40:57.622857Z",
     "iopub.status.idle": "2025-08-08T01:40:57.627120Z",
     "shell.execute_reply": "2025-08-08T01:40:57.626329Z"
    },
    "papermill": {
     "duration": 0.032528,
     "end_time": "2025-08-08T01:40:57.628592",
     "exception": false,
     "start_time": "2025-08-08T01:40:57.596064",
     "status": "completed"
    },
    "tags": []
   },
   "outputs": [],
   "source": [
    "grid_param_robust = [grid_param_minmax, grid_param_standard]"
   ]
  },
  {
   "cell_type": "code",
   "execution_count": 59,
   "id": "2b2dfd92",
   "metadata": {
    "execution": {
     "iopub.execute_input": "2025-08-08T01:40:57.679369Z",
     "iopub.status.busy": "2025-08-08T01:40:57.679102Z",
     "iopub.status.idle": "2025-08-08T01:40:57.684169Z",
     "shell.execute_reply": "2025-08-08T01:40:57.683215Z"
    },
    "papermill": {
     "duration": 0.032126,
     "end_time": "2025-08-08T01:40:57.685597",
     "exception": false,
     "start_time": "2025-08-08T01:40:57.653471",
     "status": "completed"
    },
    "tags": []
   },
   "outputs": [],
   "source": [
    "grid_search = GridSearchCV(\n",
    "    SVR(), \n",
    "    grid_param_robust, \n",
    "    cv=5, \n",
    "    scoring='neg_mean_squared_error', \n",
    "    n_jobs=-1, # allow parallel processing, you cant use your own laptop while this runs\n",
    "    verbose=1\n",
    ")"
   ]
  },
  {
   "cell_type": "code",
   "execution_count": 60,
   "id": "6626c69c",
   "metadata": {
    "execution": {
     "iopub.execute_input": "2025-08-08T01:40:57.738315Z",
     "iopub.status.busy": "2025-08-08T01:40:57.738013Z",
     "iopub.status.idle": "2025-08-08T01:45:05.507474Z",
     "shell.execute_reply": "2025-08-08T01:45:05.506487Z"
    },
    "papermill": {
     "duration": 247.82263,
     "end_time": "2025-08-08T01:45:05.533861",
     "exception": false,
     "start_time": "2025-08-08T01:40:57.711231",
     "status": "completed"
    },
    "tags": []
   },
   "outputs": [
    {
     "name": "stdout",
     "output_type": "stream",
     "text": [
      "Starting hyperparameter tuning...\n",
      "Fitting 5 folds for each of 2 candidates, totalling 10 fits\n",
      "CPU times: user 1min 44s, sys: 0 ns, total: 1min 44s\n",
      "Wall time: 4min 7s\n"
     ]
    },
    {
     "data": {
      "text/html": [
       "<style>#sk-container-id-9 {color: black;background-color: white;}#sk-container-id-9 pre{padding: 0;}#sk-container-id-9 div.sk-toggleable {background-color: white;}#sk-container-id-9 label.sk-toggleable__label {cursor: pointer;display: block;width: 100%;margin-bottom: 0;padding: 0.3em;box-sizing: border-box;text-align: center;}#sk-container-id-9 label.sk-toggleable__label-arrow:before {content: \"▸\";float: left;margin-right: 0.25em;color: #696969;}#sk-container-id-9 label.sk-toggleable__label-arrow:hover:before {color: black;}#sk-container-id-9 div.sk-estimator:hover label.sk-toggleable__label-arrow:before {color: black;}#sk-container-id-9 div.sk-toggleable__content {max-height: 0;max-width: 0;overflow: hidden;text-align: left;background-color: #f0f8ff;}#sk-container-id-9 div.sk-toggleable__content pre {margin: 0.2em;color: black;border-radius: 0.25em;background-color: #f0f8ff;}#sk-container-id-9 input.sk-toggleable__control:checked~div.sk-toggleable__content {max-height: 200px;max-width: 100%;overflow: auto;}#sk-container-id-9 input.sk-toggleable__control:checked~label.sk-toggleable__label-arrow:before {content: \"▾\";}#sk-container-id-9 div.sk-estimator input.sk-toggleable__control:checked~label.sk-toggleable__label {background-color: #d4ebff;}#sk-container-id-9 div.sk-label input.sk-toggleable__control:checked~label.sk-toggleable__label {background-color: #d4ebff;}#sk-container-id-9 input.sk-hidden--visually {border: 0;clip: rect(1px 1px 1px 1px);clip: rect(1px, 1px, 1px, 1px);height: 1px;margin: -1px;overflow: hidden;padding: 0;position: absolute;width: 1px;}#sk-container-id-9 div.sk-estimator {font-family: monospace;background-color: #f0f8ff;border: 1px dotted black;border-radius: 0.25em;box-sizing: border-box;margin-bottom: 0.5em;}#sk-container-id-9 div.sk-estimator:hover {background-color: #d4ebff;}#sk-container-id-9 div.sk-parallel-item::after {content: \"\";width: 100%;border-bottom: 1px solid gray;flex-grow: 1;}#sk-container-id-9 div.sk-label:hover label.sk-toggleable__label {background-color: #d4ebff;}#sk-container-id-9 div.sk-serial::before {content: \"\";position: absolute;border-left: 1px solid gray;box-sizing: border-box;top: 0;bottom: 0;left: 50%;z-index: 0;}#sk-container-id-9 div.sk-serial {display: flex;flex-direction: column;align-items: center;background-color: white;padding-right: 0.2em;padding-left: 0.2em;position: relative;}#sk-container-id-9 div.sk-item {position: relative;z-index: 1;}#sk-container-id-9 div.sk-parallel {display: flex;align-items: stretch;justify-content: center;background-color: white;position: relative;}#sk-container-id-9 div.sk-item::before, #sk-container-id-9 div.sk-parallel-item::before {content: \"\";position: absolute;border-left: 1px solid gray;box-sizing: border-box;top: 0;bottom: 0;left: 50%;z-index: -1;}#sk-container-id-9 div.sk-parallel-item {display: flex;flex-direction: column;z-index: 1;position: relative;background-color: white;}#sk-container-id-9 div.sk-parallel-item:first-child::after {align-self: flex-end;width: 50%;}#sk-container-id-9 div.sk-parallel-item:last-child::after {align-self: flex-start;width: 50%;}#sk-container-id-9 div.sk-parallel-item:only-child::after {width: 0;}#sk-container-id-9 div.sk-dashed-wrapped {border: 1px dashed gray;margin: 0 0.4em 0.5em 0.4em;box-sizing: border-box;padding-bottom: 0.4em;background-color: white;}#sk-container-id-9 div.sk-label label {font-family: monospace;font-weight: bold;display: inline-block;line-height: 1.2em;}#sk-container-id-9 div.sk-label-container {text-align: center;}#sk-container-id-9 div.sk-container {/* jupyter's `normalize.less` sets `[hidden] { display: none; }` but bootstrap.min.css set `[hidden] { display: none !important; }` so we also need the `!important` here to be able to override the default hidden behavior on the sphinx rendered scikit-learn.org. See: https://github.com/scikit-learn/scikit-learn/issues/21755 */display: inline-block !important;position: relative;}#sk-container-id-9 div.sk-text-repr-fallback {display: none;}</style><div id=\"sk-container-id-9\" class=\"sk-top-container\"><div class=\"sk-text-repr-fallback\"><pre>GridSearchCV(cv=5, estimator=SVR(), n_jobs=-1,\n",
       "             param_grid=[{&#x27;C&#x27;: [10], &#x27;coef0&#x27;: [0.1], &#x27;epsilon&#x27;: [0.2],\n",
       "                          &#x27;gamma&#x27;: [&#x27;scale&#x27;], &#x27;kernel&#x27;: [&#x27;rbf&#x27;],\n",
       "                          &#x27;shrinking&#x27;: [True], &#x27;tol&#x27;: [0.0001]},\n",
       "                         {&#x27;C&#x27;: [100], &#x27;coef0&#x27;: [1.0], &#x27;epsilon&#x27;: [0.2],\n",
       "                          &#x27;gamma&#x27;: [0.1], &#x27;kernel&#x27;: [&#x27;rbf&#x27;],\n",
       "                          &#x27;shrinking&#x27;: [True], &#x27;tol&#x27;: [0.001]}],\n",
       "             scoring=&#x27;neg_mean_squared_error&#x27;, verbose=1)</pre><b>In a Jupyter environment, please rerun this cell to show the HTML representation or trust the notebook. <br />On GitHub, the HTML representation is unable to render, please try loading this page with nbviewer.org.</b></div><div class=\"sk-container\" hidden><div class=\"sk-item sk-dashed-wrapped\"><div class=\"sk-label-container\"><div class=\"sk-label sk-toggleable\"><input class=\"sk-toggleable__control sk-hidden--visually\" id=\"sk-estimator-id-13\" type=\"checkbox\" ><label for=\"sk-estimator-id-13\" class=\"sk-toggleable__label sk-toggleable__label-arrow\">GridSearchCV</label><div class=\"sk-toggleable__content\"><pre>GridSearchCV(cv=5, estimator=SVR(), n_jobs=-1,\n",
       "             param_grid=[{&#x27;C&#x27;: [10], &#x27;coef0&#x27;: [0.1], &#x27;epsilon&#x27;: [0.2],\n",
       "                          &#x27;gamma&#x27;: [&#x27;scale&#x27;], &#x27;kernel&#x27;: [&#x27;rbf&#x27;],\n",
       "                          &#x27;shrinking&#x27;: [True], &#x27;tol&#x27;: [0.0001]},\n",
       "                         {&#x27;C&#x27;: [100], &#x27;coef0&#x27;: [1.0], &#x27;epsilon&#x27;: [0.2],\n",
       "                          &#x27;gamma&#x27;: [0.1], &#x27;kernel&#x27;: [&#x27;rbf&#x27;],\n",
       "                          &#x27;shrinking&#x27;: [True], &#x27;tol&#x27;: [0.001]}],\n",
       "             scoring=&#x27;neg_mean_squared_error&#x27;, verbose=1)</pre></div></div></div><div class=\"sk-parallel\"><div class=\"sk-parallel-item\"><div class=\"sk-item\"><div class=\"sk-label-container\"><div class=\"sk-label sk-toggleable\"><input class=\"sk-toggleable__control sk-hidden--visually\" id=\"sk-estimator-id-14\" type=\"checkbox\" ><label for=\"sk-estimator-id-14\" class=\"sk-toggleable__label sk-toggleable__label-arrow\">estimator: SVR</label><div class=\"sk-toggleable__content\"><pre>SVR()</pre></div></div></div><div class=\"sk-serial\"><div class=\"sk-item\"><div class=\"sk-estimator sk-toggleable\"><input class=\"sk-toggleable__control sk-hidden--visually\" id=\"sk-estimator-id-15\" type=\"checkbox\" ><label for=\"sk-estimator-id-15\" class=\"sk-toggleable__label sk-toggleable__label-arrow\">SVR</label><div class=\"sk-toggleable__content\"><pre>SVR()</pre></div></div></div></div></div></div></div></div></div></div>"
      ],
      "text/plain": [
       "GridSearchCV(cv=5, estimator=SVR(), n_jobs=-1,\n",
       "             param_grid=[{'C': [10], 'coef0': [0.1], 'epsilon': [0.2],\n",
       "                          'gamma': ['scale'], 'kernel': ['rbf'],\n",
       "                          'shrinking': [True], 'tol': [0.0001]},\n",
       "                         {'C': [100], 'coef0': [1.0], 'epsilon': [0.2],\n",
       "                          'gamma': [0.1], 'kernel': ['rbf'],\n",
       "                          'shrinking': [True], 'tol': [0.001]}],\n",
       "             scoring='neg_mean_squared_error', verbose=1)"
      ]
     },
     "execution_count": 60,
     "metadata": {},
     "output_type": "execute_result"
    }
   ],
   "source": [
    "%%time\n",
    "print(\"Starting hyperparameter tuning...\")\n",
    "grid_search.fit(X_train, y_train)"
   ]
  },
  {
   "cell_type": "code",
   "execution_count": 61,
   "id": "e521eccc",
   "metadata": {
    "execution": {
     "iopub.execute_input": "2025-08-08T01:45:05.585307Z",
     "iopub.status.busy": "2025-08-08T01:45:05.584683Z",
     "iopub.status.idle": "2025-08-08T01:45:05.590785Z",
     "shell.execute_reply": "2025-08-08T01:45:05.589884Z"
    },
    "papermill": {
     "duration": 0.033479,
     "end_time": "2025-08-08T01:45:05.592178",
     "exception": false,
     "start_time": "2025-08-08T01:45:05.558699",
     "status": "completed"
    },
    "tags": []
   },
   "outputs": [
    {
     "name": "stdout",
     "output_type": "stream",
     "text": [
      "TUNING RESULTS\n",
      "==================================================\n",
      "Best Parameters: {'C': 100, 'coef0': 1.0, 'epsilon': 0.2, 'gamma': 0.1, 'kernel': 'rbf', 'shrinking': True, 'tol': 0.001}\n",
      "Best Cross-Validation Score (Negative MSE): -0.9168981679144761\n",
      "Best Cross-Validation Score (MSE): 0.9168981679144761\n",
      "Best Cross-Validation Score (RMSE): 0.9575479977079353\n"
     ]
    }
   ],
   "source": [
    "print(\"TUNING RESULTS\")\n",
    "print(\"=\"*50)\n",
    "print(\"Best Parameters:\", grid_search.best_params_)\n",
    "print(\"Best Cross-Validation Score (Negative MSE):\", grid_search.best_score_)\n",
    "print(\"Best Cross-Validation Score (MSE):\", -grid_search.best_score_)\n",
    "print(\"Best Cross-Validation Score (RMSE):\", math.sqrt(-grid_search.best_score_))"
   ]
  },
  {
   "cell_type": "code",
   "execution_count": 62,
   "id": "3c85c9ca",
   "metadata": {
    "execution": {
     "iopub.execute_input": "2025-08-08T01:45:05.645066Z",
     "iopub.status.busy": "2025-08-08T01:45:05.644455Z",
     "iopub.status.idle": "2025-08-08T01:45:07.299229Z",
     "shell.execute_reply": "2025-08-08T01:45:07.298193Z"
    },
    "papermill": {
     "duration": 1.683762,
     "end_time": "2025-08-08T01:45:07.301209",
     "exception": false,
     "start_time": "2025-08-08T01:45:05.617447",
     "status": "completed"
    },
    "tags": []
   },
   "outputs": [],
   "source": [
    "grid_search_best_model = grid_search.best_estimator_\n",
    "y_pred = grid_search_best_model.predict(X_test)"
   ]
  },
  {
   "cell_type": "code",
   "execution_count": 63,
   "id": "1b3abb40",
   "metadata": {
    "execution": {
     "iopub.execute_input": "2025-08-08T01:45:07.359139Z",
     "iopub.status.busy": "2025-08-08T01:45:07.358729Z",
     "iopub.status.idle": "2025-08-08T01:45:07.367482Z",
     "shell.execute_reply": "2025-08-08T01:45:07.366470Z"
    },
    "papermill": {
     "duration": 0.041185,
     "end_time": "2025-08-08T01:45:07.369220",
     "exception": false,
     "start_time": "2025-08-08T01:45:07.328035",
     "status": "completed"
    },
    "tags": []
   },
   "outputs": [],
   "source": [
    "mse_grid_search = mean_squared_error(y_test, y_pred)\n",
    "mae_grid_search = mean_absolute_error(y_test, y_pred)\n",
    "r2_grid_search = r2_score(y_test, y_pred)\n",
    "rmse_grid_search = math.sqrt(mse_grid_search)"
   ]
  },
  {
   "cell_type": "code",
   "execution_count": 64,
   "id": "3c046dda",
   "metadata": {
    "execution": {
     "iopub.execute_input": "2025-08-08T01:45:07.423316Z",
     "iopub.status.busy": "2025-08-08T01:45:07.422645Z",
     "iopub.status.idle": "2025-08-08T01:45:07.428037Z",
     "shell.execute_reply": "2025-08-08T01:45:07.427265Z"
    },
    "papermill": {
     "duration": 0.033595,
     "end_time": "2025-08-08T01:45:07.429371",
     "exception": false,
     "start_time": "2025-08-08T01:45:07.395776",
     "status": "completed"
    },
    "tags": []
   },
   "outputs": [
    {
     "name": "stdout",
     "output_type": "stream",
     "text": [
      "MSE Score: 1.0063685540840017\n",
      "MAE Score: 0.4740302407572177\n",
      "R2 Score: 0.4842759522358383\n",
      "RMSE Score: 1.0031792233115684\n"
     ]
    }
   ],
   "source": [
    "print(\"MSE Score:\", mse_grid_search)\n",
    "print(\"MAE Score:\", mae_grid_search)\n",
    "print(\"R2 Score:\", r2_grid_search)\n",
    "print(\"RMSE Score:\", rmse_grid_search)"
   ]
  },
  {
   "cell_type": "code",
   "execution_count": 65,
   "id": "6c45bae0",
   "metadata": {
    "execution": {
     "iopub.execute_input": "2025-08-08T01:45:07.484811Z",
     "iopub.status.busy": "2025-08-08T01:45:07.483955Z",
     "iopub.status.idle": "2025-08-08T01:45:07.498989Z",
     "shell.execute_reply": "2025-08-08T01:45:07.497908Z"
    },
    "papermill": {
     "duration": 0.045493,
     "end_time": "2025-08-08T01:45:07.500468",
     "exception": false,
     "start_time": "2025-08-08T01:45:07.454975",
     "status": "completed"
    },
    "tags": []
   },
   "outputs": [
    {
     "name": "stdout",
     "output_type": "stream",
     "text": [
      "✨ New regression model added:\n",
      "   MSE: 1.006369, R²: 0.484276\n",
      "   Features: 27\n",
      "💾 Registry updated: Model_Training_History/History_Regression.csv\n"
     ]
    }
   ],
   "source": [
    "regression_params = {\n",
    "    'model_name': model_name_for_saving + \" Tuned\",\n",
    "    'scaler_name': \"RobustScaler\",\n",
    "    'features_list': feature_columns_for_saving,\n",
    "    'target_column': target_name_for_saving,\n",
    "    'mse': mse_grid_search,\n",
    "    'mae': mae_grid_search,\n",
    "    'rmse': rmse_grid_search,\n",
    "    'r2': r2_grid_search,\n",
    "    'parameters' : json.dumps({\n",
    "        \"best_params\": grid_search.best_params_,\n",
    "        \"cv_score\": grid_search.best_score_,\n",
    "        \"all_params\": grid_search_best_model.get_params()\n",
    "    })\n",
    "}\n",
    "save_model_performance_if_better('regression', regression_params)"
   ]
  },
  {
   "cell_type": "markdown",
   "id": "de94041b",
   "metadata": {
    "papermill": {
     "duration": 0.034786,
     "end_time": "2025-08-08T01:45:07.570193",
     "exception": false,
     "start_time": "2025-08-08T01:45:07.535407",
     "status": "completed"
    },
    "tags": []
   },
   "source": [
    "# Selected Features"
   ]
  },
  {
   "cell_type": "code",
   "execution_count": 66,
   "id": "50f50883",
   "metadata": {
    "execution": {
     "iopub.execute_input": "2025-08-08T01:45:07.622708Z",
     "iopub.status.busy": "2025-08-08T01:45:07.622326Z",
     "iopub.status.idle": "2025-08-08T01:45:07.684070Z",
     "shell.execute_reply": "2025-08-08T01:45:07.683124Z"
    },
    "papermill": {
     "duration": 0.089505,
     "end_time": "2025-08-08T01:45:07.685511",
     "exception": false,
     "start_time": "2025-08-08T01:45:07.596006",
     "status": "completed"
    },
    "tags": []
   },
   "outputs": [
    {
     "name": "stdout",
     "output_type": "stream",
     "text": [
      "Visibility                   1.000000\n",
      "Temp                         0.445302\n",
      "FeelsLike                    0.420084\n",
      "Dew                          0.263350\n",
      "Season_Rainy                 0.205205\n",
      "Windgust                     0.177655\n",
      "Month                        0.170496\n",
      "WindSpeed                    0.160971\n",
      "SevereRisk                   0.139495\n",
      "Season_Summer                0.111505\n",
      "Hour                         0.108095\n",
      "Year                         0.094151\n",
      "DaySegments_Evening          0.093931\n",
      "DaySegments_Midday           0.081819\n",
      "CloudCover                   0.078414\n",
      "PrecipProb                   0.077142\n",
      "Day                          0.067361\n",
      "UVIndex                      0.055563\n",
      "SolarEnergy                  0.054855\n",
      "SolarRadiation               0.054367\n",
      "DaySegments_Night            0.052737\n",
      "DaySegments_Afternoon        0.042864\n",
      "Season_Autumn                0.028047\n",
      "WindDir                     -0.003214\n",
      "Precip                      -0.003620\n",
      "DaySegments_Late Night      -0.010289\n",
      "DaySegments_Early Morning   -0.035550\n",
      "DaySegments_Morning         -0.168267\n",
      "Humidity                    -0.220838\n",
      "SeaLevelPressure            -0.333891\n",
      "Season_Winter               -0.360738\n",
      "Name: Visibility, dtype: float64\n"
     ]
    }
   ],
   "source": [
    "numeric_cols = weather_data.select_dtypes(include=[float, int]).columns\n",
    "correlations = weather_data[numeric_cols].corr()['Visibility'].sort_values(ascending=False)\n",
    "print(correlations)"
   ]
  },
  {
   "cell_type": "code",
   "execution_count": 67,
   "id": "4d217b39",
   "metadata": {
    "execution": {
     "iopub.execute_input": "2025-08-08T01:45:07.738133Z",
     "iopub.status.busy": "2025-08-08T01:45:07.737750Z",
     "iopub.status.idle": "2025-08-08T01:45:07.759663Z",
     "shell.execute_reply": "2025-08-08T01:45:07.758348Z"
    },
    "papermill": {
     "duration": 0.050142,
     "end_time": "2025-08-08T01:45:07.761337",
     "exception": false,
     "start_time": "2025-08-08T01:45:07.711195",
     "status": "completed"
    },
    "tags": []
   },
   "outputs": [
    {
     "name": "stdout",
     "output_type": "stream",
     "text": [
      "<class 'pandas.core.frame.DataFrame'>\n",
      "RangeIndex: 14616 entries, 0 to 14615\n",
      "Data columns (total 36 columns):\n",
      " #   Column                     Non-Null Count  Dtype         \n",
      "---  ------                     --------------  -----         \n",
      " 0   DateTime                   14616 non-null  datetime64[ns]\n",
      " 1   Year                       14616 non-null  int64         \n",
      " 2   Month                      14616 non-null  int64         \n",
      " 3   Day                        14616 non-null  int64         \n",
      " 4   Hour                       14616 non-null  int64         \n",
      " 5   DaySegments                14616 non-null  object        \n",
      " 6   DaySegments_Afternoon      14616 non-null  int64         \n",
      " 7   DaySegments_Early Morning  14616 non-null  int64         \n",
      " 8   DaySegments_Evening        14616 non-null  int64         \n",
      " 9   DaySegments_Late Night     14616 non-null  int64         \n",
      " 10  DaySegments_Midday         14616 non-null  int64         \n",
      " 11  DaySegments_Morning        14616 non-null  int64         \n",
      " 12  DaySegments_Night          14616 non-null  int64         \n",
      " 13  Season_Autumn              14616 non-null  int64         \n",
      " 14  Season_Rainy               14616 non-null  int64         \n",
      " 15  Season_Summer              14616 non-null  int64         \n",
      " 16  Season_Winter              14616 non-null  int64         \n",
      " 17  Season                     14616 non-null  object        \n",
      " 18  Temp                       14616 non-null  float64       \n",
      " 19  FeelsLike                  14616 non-null  float64       \n",
      " 20  Dew                        14616 non-null  float64       \n",
      " 21  Humidity                   14616 non-null  float64       \n",
      " 22  Precip                     14616 non-null  float64       \n",
      " 23  PrecipProb                 14616 non-null  float64       \n",
      " 24  Windgust                   14616 non-null  float64       \n",
      " 25  WindSpeed                  14616 non-null  float64       \n",
      " 26  WindDir                    14616 non-null  float64       \n",
      " 27  SeaLevelPressure           14616 non-null  float64       \n",
      " 28  CloudCover                 14616 non-null  float64       \n",
      " 29  UVIndex                    14616 non-null  float64       \n",
      " 30  SevereRisk                 14616 non-null  float64       \n",
      " 31  Visibility                 14616 non-null  float64       \n",
      " 32  SolarRadiation             14616 non-null  float64       \n",
      " 33  SolarEnergy                14616 non-null  float64       \n",
      " 34  Conditions                 14616 non-null  object        \n",
      " 35  Icon                       14616 non-null  object        \n",
      "dtypes: datetime64[ns](1), float64(16), int64(15), object(4)\n",
      "memory usage: 4.0+ MB\n"
     ]
    }
   ],
   "source": [
    "weather_data.info()"
   ]
  },
  {
   "cell_type": "markdown",
   "id": "75b11430",
   "metadata": {
    "papermill": {
     "duration": 0.027594,
     "end_time": "2025-08-08T01:45:07.815885",
     "exception": false,
     "start_time": "2025-08-08T01:45:07.788291",
     "status": "completed"
    },
    "tags": []
   },
   "source": [
    "## Run Again"
   ]
  },
  {
   "cell_type": "code",
   "execution_count": 68,
   "id": "03b51fdb",
   "metadata": {
    "execution": {
     "iopub.execute_input": "2025-08-08T01:45:07.870768Z",
     "iopub.status.busy": "2025-08-08T01:45:07.870008Z",
     "iopub.status.idle": "2025-08-08T01:45:07.877227Z",
     "shell.execute_reply": "2025-08-08T01:45:07.876392Z"
    },
    "papermill": {
     "duration": 0.036497,
     "end_time": "2025-08-08T01:45:07.879061",
     "exception": false,
     "start_time": "2025-08-08T01:45:07.842564",
     "status": "completed"
    },
    "tags": []
   },
   "outputs": [],
   "source": [
    "X_train_raw = weather_data_train.drop(columns=['DateTime', # Model cannot use DateTime as a feature\n",
    "                                                'Year', # No Effect on weather data\n",
    "                                                'Season', # Season is categorical, not numerical\n",
    "                                                'DaySegments', # DaySegments is categorical, not numerical\n",
    "                                                'Visibility',  # Target variable\n",
    "                                                'SolarRadiation', # Target variable\n",
    "                                                'SolarEnergy', # Target variable\n",
    "                                                'Conditions', # Target variable\n",
    "                                                'Icon', # Target variable\n",
    "                                                \n",
    "                                                'Day', # same day from different month act differently\n",
    "                                                'WindDir', # very low correlation with Visibility\n",
    "                                                'Precip']) # very low correlation with Visibility\n",
    "y_train = weather_data_train['Visibility']"
   ]
  },
  {
   "cell_type": "code",
   "execution_count": 69,
   "id": "e595468c",
   "metadata": {
    "execution": {
     "iopub.execute_input": "2025-08-08T01:45:07.933877Z",
     "iopub.status.busy": "2025-08-08T01:45:07.933006Z",
     "iopub.status.idle": "2025-08-08T01:45:07.941911Z",
     "shell.execute_reply": "2025-08-08T01:45:07.941122Z"
    },
    "papermill": {
     "duration": 0.037783,
     "end_time": "2025-08-08T01:45:07.943383",
     "exception": false,
     "start_time": "2025-08-08T01:45:07.905600",
     "status": "completed"
    },
    "tags": []
   },
   "outputs": [],
   "source": [
    "X_test_raw = weather_data_test.drop(columns=['DateTime', # Model cannot use DateTime as a feature\n",
    "                                                'Year', # No Effect on weather data\n",
    "                                                'Season', # Season is categorical, not numerical\n",
    "                                                'DaySegments', # DaySegments is categorical, not numerical\n",
    "                                                'Visibility',  # Target variable\n",
    "                                                'SolarRadiation', # Target variable\n",
    "                                                'SolarEnergy', # Target variable\n",
    "                                                'Conditions', # Target variable\n",
    "                                                'Icon', # Target variable\n",
    "                                                \n",
    "                                                'Day', # same day from different month act differently\n",
    "                                                'WindDir', # very low correlation with Visibility\n",
    "                                                'Precip']) # very low correlation with Visibility\n",
    "y_test = weather_data_test['Visibility']"
   ]
  },
  {
   "cell_type": "code",
   "execution_count": 70,
   "id": "0fa38781",
   "metadata": {
    "execution": {
     "iopub.execute_input": "2025-08-08T01:45:07.997118Z",
     "iopub.status.busy": "2025-08-08T01:45:07.996211Z",
     "iopub.status.idle": "2025-08-08T01:45:08.000779Z",
     "shell.execute_reply": "2025-08-08T01:45:08.000007Z"
    },
    "papermill": {
     "duration": 0.032837,
     "end_time": "2025-08-08T01:45:08.002163",
     "exception": false,
     "start_time": "2025-08-08T01:45:07.969326",
     "status": "completed"
    },
    "tags": []
   },
   "outputs": [],
   "source": [
    "feature_columns = [col for col in X_train_raw.columns]\n",
    "feature_columns_for_saving = ','.join(feature_columns)"
   ]
  },
  {
   "cell_type": "code",
   "execution_count": 71,
   "id": "2b8eb896",
   "metadata": {
    "execution": {
     "iopub.execute_input": "2025-08-08T01:45:08.056569Z",
     "iopub.status.busy": "2025-08-08T01:45:08.055843Z",
     "iopub.status.idle": "2025-08-08T01:45:08.060929Z",
     "shell.execute_reply": "2025-08-08T01:45:08.060025Z"
    },
    "papermill": {
     "duration": 0.033202,
     "end_time": "2025-08-08T01:45:08.062279",
     "exception": false,
     "start_time": "2025-08-08T01:45:08.029077",
     "status": "completed"
    },
    "tags": []
   },
   "outputs": [
    {
     "name": "stdout",
     "output_type": "stream",
     "text": [
      "X_train:  11692\n",
      "y_train:  11692\n",
      "\n",
      "X_test:  2924\n",
      "y_test:  2924\n"
     ]
    }
   ],
   "source": [
    "print(\"X_train: \", len(X_train_raw))\n",
    "print(\"y_train: \", len(y_train))\n",
    "print(\"\\nX_test: \", len(X_test_raw))\n",
    "print(\"y_test: \", len(y_test))"
   ]
  },
  {
   "cell_type": "markdown",
   "id": "8db6bb32",
   "metadata": {
    "papermill": {
     "duration": 0.026208,
     "end_time": "2025-08-08T01:45:08.116244",
     "exception": false,
     "start_time": "2025-08-08T01:45:08.090036",
     "status": "completed"
    },
    "tags": []
   },
   "source": [
    "### MinMax Scaler"
   ]
  },
  {
   "cell_type": "code",
   "execution_count": 72,
   "id": "d64e48b4",
   "metadata": {
    "execution": {
     "iopub.execute_input": "2025-08-08T01:45:08.169928Z",
     "iopub.status.busy": "2025-08-08T01:45:08.169557Z",
     "iopub.status.idle": "2025-08-08T01:45:08.184222Z",
     "shell.execute_reply": "2025-08-08T01:45:08.183320Z"
    },
    "papermill": {
     "duration": 0.043706,
     "end_time": "2025-08-08T01:45:08.186043",
     "exception": false,
     "start_time": "2025-08-08T01:45:08.142337",
     "status": "completed"
    },
    "tags": []
   },
   "outputs": [],
   "source": [
    "scaler = MinMaxScaler()\n",
    "X_train = scaler.fit_transform(X_train_raw)\n",
    "X_test = scaler.transform(X_test_raw)"
   ]
  },
  {
   "cell_type": "code",
   "execution_count": 73,
   "id": "bf4caf70",
   "metadata": {
    "execution": {
     "iopub.execute_input": "2025-08-08T01:45:08.239564Z",
     "iopub.status.busy": "2025-08-08T01:45:08.239254Z",
     "iopub.status.idle": "2025-08-08T01:45:08.245674Z",
     "shell.execute_reply": "2025-08-08T01:45:08.244816Z"
    },
    "papermill": {
     "duration": 0.035033,
     "end_time": "2025-08-08T01:45:08.247170",
     "exception": false,
     "start_time": "2025-08-08T01:45:08.212137",
     "status": "completed"
    },
    "tags": []
   },
   "outputs": [
    {
     "data": {
      "text/plain": [
       "array([[0.72727273, 0.43478261, 0.        , ..., 0.4922    , 0.697     ,\n",
       "        0.31560059],\n",
       "       [0.90909091, 0.69565217, 1.        , ..., 0.        , 0.303     ,\n",
       "        0.07388643],\n",
       "       [0.09090909, 0.        , 0.        , ..., 0.        , 0.        ,\n",
       "        0.07388643],\n",
       "       ...,\n",
       "       [0.63636364, 0.43478261, 0.        , ..., 0.8756    , 0.306     ,\n",
       "        0.09436352],\n",
       "       [0.        , 0.91304348, 0.        , ..., 0.        , 0.        ,\n",
       "        0.07388643],\n",
       "       [0.72727273, 0.34782609, 0.        , ..., 0.8925    , 0.29      ,\n",
       "        0.27812962]])"
      ]
     },
     "execution_count": 73,
     "metadata": {},
     "output_type": "execute_result"
    }
   ],
   "source": [
    "X_train"
   ]
  },
  {
   "cell_type": "code",
   "execution_count": 74,
   "id": "db8bbf26",
   "metadata": {
    "execution": {
     "iopub.execute_input": "2025-08-08T01:45:08.300510Z",
     "iopub.status.busy": "2025-08-08T01:45:08.300211Z",
     "iopub.status.idle": "2025-08-08T01:45:08.307240Z",
     "shell.execute_reply": "2025-08-08T01:45:08.306328Z"
    },
    "papermill": {
     "duration": 0.035426,
     "end_time": "2025-08-08T01:45:08.308664",
     "exception": false,
     "start_time": "2025-08-08T01:45:08.273238",
     "status": "completed"
    },
    "tags": []
   },
   "outputs": [
    {
     "data": {
      "text/plain": [
       "array([[0.63636364, 0.95652174, 0.        , ..., 0.894     , 0.        ,\n",
       "        0.07388643],\n",
       "       [0.45454545, 0.65217391, 1.        , ..., 0.9677    , 0.074     ,\n",
       "        0.07388643],\n",
       "       [0.63636364, 0.2173913 , 0.        , ..., 0.9935    , 0.        ,\n",
       "        0.07388643],\n",
       "       ...,\n",
       "       [0.09090909, 0.73913043, 1.        , ..., 0.0013    , 0.203     ,\n",
       "        0.07388643],\n",
       "       [0.27272727, 0.86956522, 0.        , ..., 0.        , 0.        ,\n",
       "        0.25575259],\n",
       "       [0.45454545, 0.95652174, 0.        , ..., 0.5161    , 0.        ,\n",
       "        0.07388643]])"
      ]
     },
     "execution_count": 74,
     "metadata": {},
     "output_type": "execute_result"
    }
   ],
   "source": [
    "X_test"
   ]
  },
  {
   "cell_type": "markdown",
   "id": "44d2fb7b",
   "metadata": {
    "papermill": {
     "duration": 0.027019,
     "end_time": "2025-08-08T01:45:08.362413",
     "exception": false,
     "start_time": "2025-08-08T01:45:08.335394",
     "status": "completed"
    },
    "tags": []
   },
   "source": [
    "#### Default Parameters"
   ]
  },
  {
   "cell_type": "code",
   "execution_count": 75,
   "id": "cd817f85",
   "metadata": {
    "execution": {
     "iopub.execute_input": "2025-08-08T01:45:08.416487Z",
     "iopub.status.busy": "2025-08-08T01:45:08.416140Z",
     "iopub.status.idle": "2025-08-08T01:45:08.422184Z",
     "shell.execute_reply": "2025-08-08T01:45:08.421324Z"
    },
    "papermill": {
     "duration": 0.034871,
     "end_time": "2025-08-08T01:45:08.423536",
     "exception": false,
     "start_time": "2025-08-08T01:45:08.388665",
     "status": "completed"
    },
    "tags": []
   },
   "outputs": [
    {
     "data": {
      "text/html": [
       "<style>#sk-container-id-10 {color: black;background-color: white;}#sk-container-id-10 pre{padding: 0;}#sk-container-id-10 div.sk-toggleable {background-color: white;}#sk-container-id-10 label.sk-toggleable__label {cursor: pointer;display: block;width: 100%;margin-bottom: 0;padding: 0.3em;box-sizing: border-box;text-align: center;}#sk-container-id-10 label.sk-toggleable__label-arrow:before {content: \"▸\";float: left;margin-right: 0.25em;color: #696969;}#sk-container-id-10 label.sk-toggleable__label-arrow:hover:before {color: black;}#sk-container-id-10 div.sk-estimator:hover label.sk-toggleable__label-arrow:before {color: black;}#sk-container-id-10 div.sk-toggleable__content {max-height: 0;max-width: 0;overflow: hidden;text-align: left;background-color: #f0f8ff;}#sk-container-id-10 div.sk-toggleable__content pre {margin: 0.2em;color: black;border-radius: 0.25em;background-color: #f0f8ff;}#sk-container-id-10 input.sk-toggleable__control:checked~div.sk-toggleable__content {max-height: 200px;max-width: 100%;overflow: auto;}#sk-container-id-10 input.sk-toggleable__control:checked~label.sk-toggleable__label-arrow:before {content: \"▾\";}#sk-container-id-10 div.sk-estimator input.sk-toggleable__control:checked~label.sk-toggleable__label {background-color: #d4ebff;}#sk-container-id-10 div.sk-label input.sk-toggleable__control:checked~label.sk-toggleable__label {background-color: #d4ebff;}#sk-container-id-10 input.sk-hidden--visually {border: 0;clip: rect(1px 1px 1px 1px);clip: rect(1px, 1px, 1px, 1px);height: 1px;margin: -1px;overflow: hidden;padding: 0;position: absolute;width: 1px;}#sk-container-id-10 div.sk-estimator {font-family: monospace;background-color: #f0f8ff;border: 1px dotted black;border-radius: 0.25em;box-sizing: border-box;margin-bottom: 0.5em;}#sk-container-id-10 div.sk-estimator:hover {background-color: #d4ebff;}#sk-container-id-10 div.sk-parallel-item::after {content: \"\";width: 100%;border-bottom: 1px solid gray;flex-grow: 1;}#sk-container-id-10 div.sk-label:hover label.sk-toggleable__label {background-color: #d4ebff;}#sk-container-id-10 div.sk-serial::before {content: \"\";position: absolute;border-left: 1px solid gray;box-sizing: border-box;top: 0;bottom: 0;left: 50%;z-index: 0;}#sk-container-id-10 div.sk-serial {display: flex;flex-direction: column;align-items: center;background-color: white;padding-right: 0.2em;padding-left: 0.2em;position: relative;}#sk-container-id-10 div.sk-item {position: relative;z-index: 1;}#sk-container-id-10 div.sk-parallel {display: flex;align-items: stretch;justify-content: center;background-color: white;position: relative;}#sk-container-id-10 div.sk-item::before, #sk-container-id-10 div.sk-parallel-item::before {content: \"\";position: absolute;border-left: 1px solid gray;box-sizing: border-box;top: 0;bottom: 0;left: 50%;z-index: -1;}#sk-container-id-10 div.sk-parallel-item {display: flex;flex-direction: column;z-index: 1;position: relative;background-color: white;}#sk-container-id-10 div.sk-parallel-item:first-child::after {align-self: flex-end;width: 50%;}#sk-container-id-10 div.sk-parallel-item:last-child::after {align-self: flex-start;width: 50%;}#sk-container-id-10 div.sk-parallel-item:only-child::after {width: 0;}#sk-container-id-10 div.sk-dashed-wrapped {border: 1px dashed gray;margin: 0 0.4em 0.5em 0.4em;box-sizing: border-box;padding-bottom: 0.4em;background-color: white;}#sk-container-id-10 div.sk-label label {font-family: monospace;font-weight: bold;display: inline-block;line-height: 1.2em;}#sk-container-id-10 div.sk-label-container {text-align: center;}#sk-container-id-10 div.sk-container {/* jupyter's `normalize.less` sets `[hidden] { display: none; }` but bootstrap.min.css set `[hidden] { display: none !important; }` so we also need the `!important` here to be able to override the default hidden behavior on the sphinx rendered scikit-learn.org. See: https://github.com/scikit-learn/scikit-learn/issues/21755 */display: inline-block !important;position: relative;}#sk-container-id-10 div.sk-text-repr-fallback {display: none;}</style><div id=\"sk-container-id-10\" class=\"sk-top-container\"><div class=\"sk-text-repr-fallback\"><pre>SVR()</pre><b>In a Jupyter environment, please rerun this cell to show the HTML representation or trust the notebook. <br />On GitHub, the HTML representation is unable to render, please try loading this page with nbviewer.org.</b></div><div class=\"sk-container\" hidden><div class=\"sk-item\"><div class=\"sk-estimator sk-toggleable\"><input class=\"sk-toggleable__control sk-hidden--visually\" id=\"sk-estimator-id-16\" type=\"checkbox\" checked><label for=\"sk-estimator-id-16\" class=\"sk-toggleable__label sk-toggleable__label-arrow\">SVR</label><div class=\"sk-toggleable__content\"><pre>SVR()</pre></div></div></div></div></div>"
      ],
      "text/plain": [
       "SVR()"
      ]
     },
     "execution_count": 75,
     "metadata": {},
     "output_type": "execute_result"
    }
   ],
   "source": [
    "training_model = SVR()\n",
    "training_model"
   ]
  },
  {
   "cell_type": "code",
   "execution_count": 76,
   "id": "6c06e05c",
   "metadata": {
    "execution": {
     "iopub.execute_input": "2025-08-08T01:45:08.478468Z",
     "iopub.status.busy": "2025-08-08T01:45:08.477587Z",
     "iopub.status.idle": "2025-08-08T01:45:14.619857Z",
     "shell.execute_reply": "2025-08-08T01:45:14.618807Z"
    },
    "papermill": {
     "duration": 6.170884,
     "end_time": "2025-08-08T01:45:14.621293",
     "exception": false,
     "start_time": "2025-08-08T01:45:08.450409",
     "status": "completed"
    },
    "tags": []
   },
   "outputs": [
    {
     "name": "stdout",
     "output_type": "stream",
     "text": [
      "CPU times: user 6.14 s, sys: 0 ns, total: 6.14 s\n",
      "Wall time: 6.13 s\n"
     ]
    },
    {
     "data": {
      "text/html": [
       "<style>#sk-container-id-11 {color: black;background-color: white;}#sk-container-id-11 pre{padding: 0;}#sk-container-id-11 div.sk-toggleable {background-color: white;}#sk-container-id-11 label.sk-toggleable__label {cursor: pointer;display: block;width: 100%;margin-bottom: 0;padding: 0.3em;box-sizing: border-box;text-align: center;}#sk-container-id-11 label.sk-toggleable__label-arrow:before {content: \"▸\";float: left;margin-right: 0.25em;color: #696969;}#sk-container-id-11 label.sk-toggleable__label-arrow:hover:before {color: black;}#sk-container-id-11 div.sk-estimator:hover label.sk-toggleable__label-arrow:before {color: black;}#sk-container-id-11 div.sk-toggleable__content {max-height: 0;max-width: 0;overflow: hidden;text-align: left;background-color: #f0f8ff;}#sk-container-id-11 div.sk-toggleable__content pre {margin: 0.2em;color: black;border-radius: 0.25em;background-color: #f0f8ff;}#sk-container-id-11 input.sk-toggleable__control:checked~div.sk-toggleable__content {max-height: 200px;max-width: 100%;overflow: auto;}#sk-container-id-11 input.sk-toggleable__control:checked~label.sk-toggleable__label-arrow:before {content: \"▾\";}#sk-container-id-11 div.sk-estimator input.sk-toggleable__control:checked~label.sk-toggleable__label {background-color: #d4ebff;}#sk-container-id-11 div.sk-label input.sk-toggleable__control:checked~label.sk-toggleable__label {background-color: #d4ebff;}#sk-container-id-11 input.sk-hidden--visually {border: 0;clip: rect(1px 1px 1px 1px);clip: rect(1px, 1px, 1px, 1px);height: 1px;margin: -1px;overflow: hidden;padding: 0;position: absolute;width: 1px;}#sk-container-id-11 div.sk-estimator {font-family: monospace;background-color: #f0f8ff;border: 1px dotted black;border-radius: 0.25em;box-sizing: border-box;margin-bottom: 0.5em;}#sk-container-id-11 div.sk-estimator:hover {background-color: #d4ebff;}#sk-container-id-11 div.sk-parallel-item::after {content: \"\";width: 100%;border-bottom: 1px solid gray;flex-grow: 1;}#sk-container-id-11 div.sk-label:hover label.sk-toggleable__label {background-color: #d4ebff;}#sk-container-id-11 div.sk-serial::before {content: \"\";position: absolute;border-left: 1px solid gray;box-sizing: border-box;top: 0;bottom: 0;left: 50%;z-index: 0;}#sk-container-id-11 div.sk-serial {display: flex;flex-direction: column;align-items: center;background-color: white;padding-right: 0.2em;padding-left: 0.2em;position: relative;}#sk-container-id-11 div.sk-item {position: relative;z-index: 1;}#sk-container-id-11 div.sk-parallel {display: flex;align-items: stretch;justify-content: center;background-color: white;position: relative;}#sk-container-id-11 div.sk-item::before, #sk-container-id-11 div.sk-parallel-item::before {content: \"\";position: absolute;border-left: 1px solid gray;box-sizing: border-box;top: 0;bottom: 0;left: 50%;z-index: -1;}#sk-container-id-11 div.sk-parallel-item {display: flex;flex-direction: column;z-index: 1;position: relative;background-color: white;}#sk-container-id-11 div.sk-parallel-item:first-child::after {align-self: flex-end;width: 50%;}#sk-container-id-11 div.sk-parallel-item:last-child::after {align-self: flex-start;width: 50%;}#sk-container-id-11 div.sk-parallel-item:only-child::after {width: 0;}#sk-container-id-11 div.sk-dashed-wrapped {border: 1px dashed gray;margin: 0 0.4em 0.5em 0.4em;box-sizing: border-box;padding-bottom: 0.4em;background-color: white;}#sk-container-id-11 div.sk-label label {font-family: monospace;font-weight: bold;display: inline-block;line-height: 1.2em;}#sk-container-id-11 div.sk-label-container {text-align: center;}#sk-container-id-11 div.sk-container {/* jupyter's `normalize.less` sets `[hidden] { display: none; }` but bootstrap.min.css set `[hidden] { display: none !important; }` so we also need the `!important` here to be able to override the default hidden behavior on the sphinx rendered scikit-learn.org. See: https://github.com/scikit-learn/scikit-learn/issues/21755 */display: inline-block !important;position: relative;}#sk-container-id-11 div.sk-text-repr-fallback {display: none;}</style><div id=\"sk-container-id-11\" class=\"sk-top-container\"><div class=\"sk-text-repr-fallback\"><pre>SVR()</pre><b>In a Jupyter environment, please rerun this cell to show the HTML representation or trust the notebook. <br />On GitHub, the HTML representation is unable to render, please try loading this page with nbviewer.org.</b></div><div class=\"sk-container\" hidden><div class=\"sk-item\"><div class=\"sk-estimator sk-toggleable\"><input class=\"sk-toggleable__control sk-hidden--visually\" id=\"sk-estimator-id-17\" type=\"checkbox\" checked><label for=\"sk-estimator-id-17\" class=\"sk-toggleable__label sk-toggleable__label-arrow\">SVR</label><div class=\"sk-toggleable__content\"><pre>SVR()</pre></div></div></div></div></div>"
      ],
      "text/plain": [
       "SVR()"
      ]
     },
     "execution_count": 76,
     "metadata": {},
     "output_type": "execute_result"
    }
   ],
   "source": [
    "%%time\n",
    "training_model.fit(X_train, y_train)"
   ]
  },
  {
   "cell_type": "code",
   "execution_count": 77,
   "id": "681e6858",
   "metadata": {
    "execution": {
     "iopub.execute_input": "2025-08-08T01:45:14.676312Z",
     "iopub.status.busy": "2025-08-08T01:45:14.676018Z",
     "iopub.status.idle": "2025-08-08T01:45:17.870689Z",
     "shell.execute_reply": "2025-08-08T01:45:17.869668Z"
    },
    "papermill": {
     "duration": 3.224074,
     "end_time": "2025-08-08T01:45:17.872275",
     "exception": false,
     "start_time": "2025-08-08T01:45:14.648201",
     "status": "completed"
    },
    "tags": []
   },
   "outputs": [
    {
     "data": {
      "text/plain": [
       "array([4.63206205, 3.75395776, 4.48727135, ..., 4.06654907, 5.06371472,\n",
       "       4.7754538 ])"
      ]
     },
     "execution_count": 77,
     "metadata": {},
     "output_type": "execute_result"
    }
   ],
   "source": [
    "y_pred = training_model.predict(X_test)\n",
    "y_pred"
   ]
  },
  {
   "cell_type": "code",
   "execution_count": 78,
   "id": "8cf35121",
   "metadata": {
    "execution": {
     "iopub.execute_input": "2025-08-08T01:45:17.928765Z",
     "iopub.status.busy": "2025-08-08T01:45:17.928345Z",
     "iopub.status.idle": "2025-08-08T01:45:17.937002Z",
     "shell.execute_reply": "2025-08-08T01:45:17.936045Z"
    },
    "papermill": {
     "duration": 0.038752,
     "end_time": "2025-08-08T01:45:17.938475",
     "exception": false,
     "start_time": "2025-08-08T01:45:17.899723",
     "status": "completed"
    },
    "tags": []
   },
   "outputs": [
    {
     "data": {
      "text/plain": [
       "5158     4.65\n",
       "3831     3.70\n",
       "5117     4.19\n",
       "6326     3.88\n",
       "11359    3.68\n",
       "         ... \n",
       "10290    5.17\n",
       "13995    4.48\n",
       "9665     3.91\n",
       "2276     4.00\n",
       "4174     4.65\n",
       "Name: Visibility, Length: 2924, dtype: float64"
      ]
     },
     "execution_count": 78,
     "metadata": {},
     "output_type": "execute_result"
    }
   ],
   "source": [
    "y_test"
   ]
  },
  {
   "cell_type": "code",
   "execution_count": 79,
   "id": "afc178a9",
   "metadata": {
    "execution": {
     "iopub.execute_input": "2025-08-08T01:45:17.994355Z",
     "iopub.status.busy": "2025-08-08T01:45:17.993982Z",
     "iopub.status.idle": "2025-08-08T01:45:18.002476Z",
     "shell.execute_reply": "2025-08-08T01:45:18.001652Z"
    },
    "papermill": {
     "duration": 0.038166,
     "end_time": "2025-08-08T01:45:18.004088",
     "exception": false,
     "start_time": "2025-08-08T01:45:17.965922",
     "status": "completed"
    },
    "tags": []
   },
   "outputs": [],
   "source": [
    "mse = mean_squared_error(y_test, y_pred)\n",
    "mae = mean_absolute_error(y_test, y_pred)\n",
    "r2 = r2_score(y_test, y_pred)\n",
    "rmse = math.sqrt(mse)"
   ]
  },
  {
   "cell_type": "code",
   "execution_count": 80,
   "id": "0405a9fe",
   "metadata": {
    "execution": {
     "iopub.execute_input": "2025-08-08T01:45:18.060173Z",
     "iopub.status.busy": "2025-08-08T01:45:18.059781Z",
     "iopub.status.idle": "2025-08-08T01:45:18.065596Z",
     "shell.execute_reply": "2025-08-08T01:45:18.064672Z"
    },
    "papermill": {
     "duration": 0.035838,
     "end_time": "2025-08-08T01:45:18.067396",
     "exception": false,
     "start_time": "2025-08-08T01:45:18.031558",
     "status": "completed"
    },
    "tags": []
   },
   "outputs": [
    {
     "name": "stdout",
     "output_type": "stream",
     "text": [
      "MSE Score: 1.2725851132092099\n",
      "MAE Score: 0.41689731727821466\n",
      "R2 Score: 0.3478505036298204\n",
      "RMSE Score: 1.1280891424037418\n"
     ]
    }
   ],
   "source": [
    "print(\"MSE Score:\", mse)\n",
    "print(\"MAE Score:\", mae)\n",
    "print(\"R2 Score:\", r2)\n",
    "print(\"RMSE Score:\", rmse)"
   ]
  },
  {
   "cell_type": "code",
   "execution_count": 81,
   "id": "9f8ef4d5",
   "metadata": {
    "execution": {
     "iopub.execute_input": "2025-08-08T01:45:18.131912Z",
     "iopub.status.busy": "2025-08-08T01:45:18.131546Z",
     "iopub.status.idle": "2025-08-08T01:45:18.141476Z",
     "shell.execute_reply": "2025-08-08T01:45:18.140259Z"
    },
    "papermill": {
     "duration": 0.042344,
     "end_time": "2025-08-08T01:45:18.143279",
     "exception": false,
     "start_time": "2025-08-08T01:45:18.100935",
     "status": "completed"
    },
    "tags": []
   },
   "outputs": [
    {
     "name": "stdout",
     "output_type": "stream",
     "text": [
      "❌ Regression model not improved:\n",
      "   Current MSE: 1.272585, Best MSE: 1.261925\n",
      "   Current R²: 0.347851, Best R²: 0.353313\n",
      "   Current Features: 24, Best Features: 27\n"
     ]
    }
   ],
   "source": [
    "regression_params = {\n",
    "    'model_name': model_name_for_saving,\n",
    "    'scaler_name': \"MinMaxScaler\",\n",
    "    'features_list': feature_columns_for_saving,\n",
    "    'target_column': target_name_for_saving,\n",
    "    'mse': mse,\n",
    "    'mae': mae,\n",
    "    'rmse': rmse,\n",
    "    'r2': r2,\n",
    "    'parameters': json.dumps(training_model.get_params())\n",
    "}\n",
    "save_model_performance_if_better('regression', regression_params)"
   ]
  },
  {
   "cell_type": "markdown",
   "id": "60b1bbc3",
   "metadata": {
    "papermill": {
     "duration": 0.026874,
     "end_time": "2025-08-08T01:45:18.209934",
     "exception": false,
     "start_time": "2025-08-08T01:45:18.183060",
     "status": "completed"
    },
    "tags": []
   },
   "source": [
    "#### Tuning with Grid Search"
   ]
  },
  {
   "cell_type": "code",
   "execution_count": 82,
   "id": "4de638a7",
   "metadata": {
    "execution": {
     "iopub.execute_input": "2025-08-08T01:45:18.265408Z",
     "iopub.status.busy": "2025-08-08T01:45:18.265108Z",
     "iopub.status.idle": "2025-08-08T01:45:18.270185Z",
     "shell.execute_reply": "2025-08-08T01:45:18.269248Z"
    },
    "papermill": {
     "duration": 0.034889,
     "end_time": "2025-08-08T01:45:18.271765",
     "exception": false,
     "start_time": "2025-08-08T01:45:18.236876",
     "status": "completed"
    },
    "tags": []
   },
   "outputs": [],
   "source": [
    "grid_search = RandomizedSearchCV(\n",
    "    SVR(), \n",
    "    grid_param,\n",
    "    n_iter=number_of_model_for_randomized_grid,\n",
    "    cv=5,\n",
    "    scoring='neg_mean_squared_error',\n",
    "    n_jobs=-1,\n",
    "    verbose=1,\n",
    "    random_state=42\n",
    ")"
   ]
  },
  {
   "cell_type": "code",
   "execution_count": 83,
   "id": "eaa15fca",
   "metadata": {
    "execution": {
     "iopub.execute_input": "2025-08-08T01:45:18.328514Z",
     "iopub.status.busy": "2025-08-08T01:45:18.328176Z",
     "iopub.status.idle": "2025-08-08T02:28:27.584579Z",
     "shell.execute_reply": "2025-08-08T02:28:27.583649Z"
    },
    "papermill": {
     "duration": 2589.317061,
     "end_time": "2025-08-08T02:28:27.616388",
     "exception": false,
     "start_time": "2025-08-08T01:45:18.299327",
     "status": "completed"
    },
    "tags": []
   },
   "outputs": [
    {
     "name": "stdout",
     "output_type": "stream",
     "text": [
      "Starting hyperparameter tuning...\n",
      "Fitting 5 folds for each of 130 candidates, totalling 650 fits\n",
      "CPU times: user 21.7 s, sys: 0 ns, total: 21.7 s\n",
      "Wall time: 43min 9s\n"
     ]
    },
    {
     "data": {
      "text/html": [
       "<style>#sk-container-id-12 {color: black;background-color: white;}#sk-container-id-12 pre{padding: 0;}#sk-container-id-12 div.sk-toggleable {background-color: white;}#sk-container-id-12 label.sk-toggleable__label {cursor: pointer;display: block;width: 100%;margin-bottom: 0;padding: 0.3em;box-sizing: border-box;text-align: center;}#sk-container-id-12 label.sk-toggleable__label-arrow:before {content: \"▸\";float: left;margin-right: 0.25em;color: #696969;}#sk-container-id-12 label.sk-toggleable__label-arrow:hover:before {color: black;}#sk-container-id-12 div.sk-estimator:hover label.sk-toggleable__label-arrow:before {color: black;}#sk-container-id-12 div.sk-toggleable__content {max-height: 0;max-width: 0;overflow: hidden;text-align: left;background-color: #f0f8ff;}#sk-container-id-12 div.sk-toggleable__content pre {margin: 0.2em;color: black;border-radius: 0.25em;background-color: #f0f8ff;}#sk-container-id-12 input.sk-toggleable__control:checked~div.sk-toggleable__content {max-height: 200px;max-width: 100%;overflow: auto;}#sk-container-id-12 input.sk-toggleable__control:checked~label.sk-toggleable__label-arrow:before {content: \"▾\";}#sk-container-id-12 div.sk-estimator input.sk-toggleable__control:checked~label.sk-toggleable__label {background-color: #d4ebff;}#sk-container-id-12 div.sk-label input.sk-toggleable__control:checked~label.sk-toggleable__label {background-color: #d4ebff;}#sk-container-id-12 input.sk-hidden--visually {border: 0;clip: rect(1px 1px 1px 1px);clip: rect(1px, 1px, 1px, 1px);height: 1px;margin: -1px;overflow: hidden;padding: 0;position: absolute;width: 1px;}#sk-container-id-12 div.sk-estimator {font-family: monospace;background-color: #f0f8ff;border: 1px dotted black;border-radius: 0.25em;box-sizing: border-box;margin-bottom: 0.5em;}#sk-container-id-12 div.sk-estimator:hover {background-color: #d4ebff;}#sk-container-id-12 div.sk-parallel-item::after {content: \"\";width: 100%;border-bottom: 1px solid gray;flex-grow: 1;}#sk-container-id-12 div.sk-label:hover label.sk-toggleable__label {background-color: #d4ebff;}#sk-container-id-12 div.sk-serial::before {content: \"\";position: absolute;border-left: 1px solid gray;box-sizing: border-box;top: 0;bottom: 0;left: 50%;z-index: 0;}#sk-container-id-12 div.sk-serial {display: flex;flex-direction: column;align-items: center;background-color: white;padding-right: 0.2em;padding-left: 0.2em;position: relative;}#sk-container-id-12 div.sk-item {position: relative;z-index: 1;}#sk-container-id-12 div.sk-parallel {display: flex;align-items: stretch;justify-content: center;background-color: white;position: relative;}#sk-container-id-12 div.sk-item::before, #sk-container-id-12 div.sk-parallel-item::before {content: \"\";position: absolute;border-left: 1px solid gray;box-sizing: border-box;top: 0;bottom: 0;left: 50%;z-index: -1;}#sk-container-id-12 div.sk-parallel-item {display: flex;flex-direction: column;z-index: 1;position: relative;background-color: white;}#sk-container-id-12 div.sk-parallel-item:first-child::after {align-self: flex-end;width: 50%;}#sk-container-id-12 div.sk-parallel-item:last-child::after {align-self: flex-start;width: 50%;}#sk-container-id-12 div.sk-parallel-item:only-child::after {width: 0;}#sk-container-id-12 div.sk-dashed-wrapped {border: 1px dashed gray;margin: 0 0.4em 0.5em 0.4em;box-sizing: border-box;padding-bottom: 0.4em;background-color: white;}#sk-container-id-12 div.sk-label label {font-family: monospace;font-weight: bold;display: inline-block;line-height: 1.2em;}#sk-container-id-12 div.sk-label-container {text-align: center;}#sk-container-id-12 div.sk-container {/* jupyter's `normalize.less` sets `[hidden] { display: none; }` but bootstrap.min.css set `[hidden] { display: none !important; }` so we also need the `!important` here to be able to override the default hidden behavior on the sphinx rendered scikit-learn.org. See: https://github.com/scikit-learn/scikit-learn/issues/21755 */display: inline-block !important;position: relative;}#sk-container-id-12 div.sk-text-repr-fallback {display: none;}</style><div id=\"sk-container-id-12\" class=\"sk-top-container\"><div class=\"sk-text-repr-fallback\"><pre>RandomizedSearchCV(cv=5, estimator=SVR(), n_iter=130, n_jobs=-1,\n",
       "                   param_distributions={&#x27;C&#x27;: [0.1, 1, 10, 100],\n",
       "                                        &#x27;coef0&#x27;: [0.0, 0.1, 1.0],\n",
       "                                        &#x27;epsilon&#x27;: [0.1, 0.2],\n",
       "                                        &#x27;gamma&#x27;: [&#x27;scale&#x27;, &#x27;auto&#x27;, 0.001, 0.01,\n",
       "                                                  0.1],\n",
       "                                        &#x27;kernel&#x27;: [&#x27;linear&#x27;, &#x27;rbf&#x27;, &#x27;sigmoid&#x27;],\n",
       "                                        &#x27;shrinking&#x27;: [True],\n",
       "                                        &#x27;tol&#x27;: [0.001, 0.0001]},\n",
       "                   random_state=42, scoring=&#x27;neg_mean_squared_error&#x27;,\n",
       "                   verbose=1)</pre><b>In a Jupyter environment, please rerun this cell to show the HTML representation or trust the notebook. <br />On GitHub, the HTML representation is unable to render, please try loading this page with nbviewer.org.</b></div><div class=\"sk-container\" hidden><div class=\"sk-item sk-dashed-wrapped\"><div class=\"sk-label-container\"><div class=\"sk-label sk-toggleable\"><input class=\"sk-toggleable__control sk-hidden--visually\" id=\"sk-estimator-id-18\" type=\"checkbox\" ><label for=\"sk-estimator-id-18\" class=\"sk-toggleable__label sk-toggleable__label-arrow\">RandomizedSearchCV</label><div class=\"sk-toggleable__content\"><pre>RandomizedSearchCV(cv=5, estimator=SVR(), n_iter=130, n_jobs=-1,\n",
       "                   param_distributions={&#x27;C&#x27;: [0.1, 1, 10, 100],\n",
       "                                        &#x27;coef0&#x27;: [0.0, 0.1, 1.0],\n",
       "                                        &#x27;epsilon&#x27;: [0.1, 0.2],\n",
       "                                        &#x27;gamma&#x27;: [&#x27;scale&#x27;, &#x27;auto&#x27;, 0.001, 0.01,\n",
       "                                                  0.1],\n",
       "                                        &#x27;kernel&#x27;: [&#x27;linear&#x27;, &#x27;rbf&#x27;, &#x27;sigmoid&#x27;],\n",
       "                                        &#x27;shrinking&#x27;: [True],\n",
       "                                        &#x27;tol&#x27;: [0.001, 0.0001]},\n",
       "                   random_state=42, scoring=&#x27;neg_mean_squared_error&#x27;,\n",
       "                   verbose=1)</pre></div></div></div><div class=\"sk-parallel\"><div class=\"sk-parallel-item\"><div class=\"sk-item\"><div class=\"sk-label-container\"><div class=\"sk-label sk-toggleable\"><input class=\"sk-toggleable__control sk-hidden--visually\" id=\"sk-estimator-id-19\" type=\"checkbox\" ><label for=\"sk-estimator-id-19\" class=\"sk-toggleable__label sk-toggleable__label-arrow\">estimator: SVR</label><div class=\"sk-toggleable__content\"><pre>SVR()</pre></div></div></div><div class=\"sk-serial\"><div class=\"sk-item\"><div class=\"sk-estimator sk-toggleable\"><input class=\"sk-toggleable__control sk-hidden--visually\" id=\"sk-estimator-id-20\" type=\"checkbox\" ><label for=\"sk-estimator-id-20\" class=\"sk-toggleable__label sk-toggleable__label-arrow\">SVR</label><div class=\"sk-toggleable__content\"><pre>SVR()</pre></div></div></div></div></div></div></div></div></div></div>"
      ],
      "text/plain": [
       "RandomizedSearchCV(cv=5, estimator=SVR(), n_iter=130, n_jobs=-1,\n",
       "                   param_distributions={'C': [0.1, 1, 10, 100],\n",
       "                                        'coef0': [0.0, 0.1, 1.0],\n",
       "                                        'epsilon': [0.1, 0.2],\n",
       "                                        'gamma': ['scale', 'auto', 0.001, 0.01,\n",
       "                                                  0.1],\n",
       "                                        'kernel': ['linear', 'rbf', 'sigmoid'],\n",
       "                                        'shrinking': [True],\n",
       "                                        'tol': [0.001, 0.0001]},\n",
       "                   random_state=42, scoring='neg_mean_squared_error',\n",
       "                   verbose=1)"
      ]
     },
     "execution_count": 83,
     "metadata": {},
     "output_type": "execute_result"
    }
   ],
   "source": [
    "%%time\n",
    "print(\"Starting hyperparameter tuning...\")\n",
    "grid_search.fit(X_train, y_train)"
   ]
  },
  {
   "cell_type": "code",
   "execution_count": 84,
   "id": "0bc2a813",
   "metadata": {
    "execution": {
     "iopub.execute_input": "2025-08-08T02:28:27.674564Z",
     "iopub.status.busy": "2025-08-08T02:28:27.673533Z",
     "iopub.status.idle": "2025-08-08T02:28:27.680668Z",
     "shell.execute_reply": "2025-08-08T02:28:27.679701Z"
    },
    "papermill": {
     "duration": 0.037273,
     "end_time": "2025-08-08T02:28:27.682222",
     "exception": false,
     "start_time": "2025-08-08T02:28:27.644949",
     "status": "completed"
    },
    "tags": []
   },
   "outputs": [
    {
     "name": "stdout",
     "output_type": "stream",
     "text": [
      "TUNING RESULTS\n",
      "==================================================\n",
      "Best Parameters: {'tol': 0.0001, 'shrinking': True, 'kernel': 'rbf', 'gamma': 'scale', 'epsilon': 0.2, 'coef0': 0.1, 'C': 10}\n",
      "Best Cross-Validation Score (Negative MSE): -1.248866054180859\n",
      "Best Cross-Validation Score (MSE): 1.248866054180859\n",
      "Best Cross-Validation Score (RMSE): 1.117526757702409\n"
     ]
    }
   ],
   "source": [
    "print(\"TUNING RESULTS\")\n",
    "print(\"=\"*50)\n",
    "print(\"Best Parameters:\", grid_search.best_params_)\n",
    "print(\"Best Cross-Validation Score (Negative MSE):\", grid_search.best_score_)\n",
    "print(\"Best Cross-Validation Score (MSE):\", -grid_search.best_score_)\n",
    "print(\"Best Cross-Validation Score (RMSE):\", math.sqrt(-grid_search.best_score_))\n",
    "\n",
    "# Save the best parameters as an array\n",
    "grid_param_minmax = {k: [v] for k, v in grid_search.best_params_.items()}"
   ]
  },
  {
   "cell_type": "code",
   "execution_count": 85,
   "id": "ca0b51f2",
   "metadata": {
    "execution": {
     "iopub.execute_input": "2025-08-08T02:28:27.738669Z",
     "iopub.status.busy": "2025-08-08T02:28:27.738329Z",
     "iopub.status.idle": "2025-08-08T02:28:29.077960Z",
     "shell.execute_reply": "2025-08-08T02:28:29.076958Z"
    },
    "papermill": {
     "duration": 1.369757,
     "end_time": "2025-08-08T02:28:29.079485",
     "exception": false,
     "start_time": "2025-08-08T02:28:27.709728",
     "status": "completed"
    },
    "tags": []
   },
   "outputs": [],
   "source": [
    "grid_search_best_model = grid_search.best_estimator_\n",
    "y_pred = grid_search_best_model.predict(X_test)"
   ]
  },
  {
   "cell_type": "code",
   "execution_count": 86,
   "id": "22f60c36",
   "metadata": {
    "execution": {
     "iopub.execute_input": "2025-08-08T02:28:29.136550Z",
     "iopub.status.busy": "2025-08-08T02:28:29.136068Z",
     "iopub.status.idle": "2025-08-08T02:28:29.144650Z",
     "shell.execute_reply": "2025-08-08T02:28:29.143681Z"
    },
    "papermill": {
     "duration": 0.039837,
     "end_time": "2025-08-08T02:28:29.146646",
     "exception": false,
     "start_time": "2025-08-08T02:28:29.106809",
     "status": "completed"
    },
    "tags": []
   },
   "outputs": [],
   "source": [
    "mse_grid_search = mean_squared_error(y_test, y_pred)\n",
    "mae_grid_search = mean_absolute_error(y_test, y_pred)\n",
    "r2_grid_search = r2_score(y_test, y_pred)\n",
    "rmse_grid_search = math.sqrt(mse_grid_search)"
   ]
  },
  {
   "cell_type": "code",
   "execution_count": 87,
   "id": "6a7873a0",
   "metadata": {
    "execution": {
     "iopub.execute_input": "2025-08-08T02:28:29.218426Z",
     "iopub.status.busy": "2025-08-08T02:28:29.218078Z",
     "iopub.status.idle": "2025-08-08T02:28:29.223690Z",
     "shell.execute_reply": "2025-08-08T02:28:29.222729Z"
    },
    "papermill": {
     "duration": 0.040527,
     "end_time": "2025-08-08T02:28:29.225323",
     "exception": false,
     "start_time": "2025-08-08T02:28:29.184796",
     "status": "completed"
    },
    "tags": []
   },
   "outputs": [
    {
     "name": "stdout",
     "output_type": "stream",
     "text": [
      "MSE Score: 1.2485200754935086\n",
      "MAE Score: 0.40236007242413097\n",
      "R2 Score: 0.36018288286600897\n",
      "RMSE Score: 1.1173719503788828\n"
     ]
    }
   ],
   "source": [
    "print(\"MSE Score:\", mse_grid_search)\n",
    "print(\"MAE Score:\", mae_grid_search)\n",
    "print(\"R2 Score:\", r2_grid_search)\n",
    "print(\"RMSE Score:\", rmse_grid_search)"
   ]
  },
  {
   "cell_type": "code",
   "execution_count": 88,
   "id": "aeb77347",
   "metadata": {
    "execution": {
     "iopub.execute_input": "2025-08-08T02:28:29.289639Z",
     "iopub.status.busy": "2025-08-08T02:28:29.289192Z",
     "iopub.status.idle": "2025-08-08T02:28:29.301503Z",
     "shell.execute_reply": "2025-08-08T02:28:29.300507Z"
    },
    "papermill": {
     "duration": 0.043051,
     "end_time": "2025-08-08T02:28:29.303509",
     "exception": false,
     "start_time": "2025-08-08T02:28:29.260458",
     "status": "completed"
    },
    "tags": []
   },
   "outputs": [
    {
     "name": "stdout",
     "output_type": "stream",
     "text": [
      "❌ Regression model not improved:\n",
      "   Current MSE: 1.248520, Best MSE: 1.234929\n",
      "   Current R²: 0.360183, Best R²: 0.367148\n",
      "   Current Features: 24, Best Features: 27\n"
     ]
    }
   ],
   "source": [
    "regression_params = {\n",
    "    'model_name': model_name_for_saving + \" Tuned\",\n",
    "    'scaler_name': \"MinMaxScaler\",\n",
    "    'features_list': feature_columns_for_saving,\n",
    "    'target_column': target_name_for_saving,\n",
    "    'mse': mse_grid_search,\n",
    "    'mae': mae_grid_search,\n",
    "    'rmse': rmse_grid_search,\n",
    "    'r2': r2_grid_search,\n",
    "    'parameters' : json.dumps({\n",
    "        \"best_params\": grid_search.best_params_,\n",
    "        \"cv_score\": grid_search.best_score_,\n",
    "        \"all_params\": grid_search_best_model.get_params()\n",
    "    })\n",
    "}\n",
    "save_model_performance_if_better('regression', regression_params)"
   ]
  },
  {
   "cell_type": "markdown",
   "id": "13281236",
   "metadata": {
    "papermill": {
     "duration": 0.027651,
     "end_time": "2025-08-08T02:28:29.360161",
     "exception": false,
     "start_time": "2025-08-08T02:28:29.332510",
     "status": "completed"
    },
    "tags": []
   },
   "source": [
    "### Standard Scaler"
   ]
  },
  {
   "cell_type": "code",
   "execution_count": 89,
   "id": "21d8877b",
   "metadata": {
    "execution": {
     "iopub.execute_input": "2025-08-08T02:28:29.431876Z",
     "iopub.status.busy": "2025-08-08T02:28:29.431502Z",
     "iopub.status.idle": "2025-08-08T02:28:29.450505Z",
     "shell.execute_reply": "2025-08-08T02:28:29.449360Z"
    },
    "papermill": {
     "duration": 0.062126,
     "end_time": "2025-08-08T02:28:29.452422",
     "exception": false,
     "start_time": "2025-08-08T02:28:29.390296",
     "status": "completed"
    },
    "tags": []
   },
   "outputs": [],
   "source": [
    "scaler = StandardScaler()\n",
    "X_train = scaler.fit_transform(X_train_raw)\n",
    "X_test = scaler.transform(X_test_raw)"
   ]
  },
  {
   "cell_type": "code",
   "execution_count": 90,
   "id": "cca8cf15",
   "metadata": {
    "execution": {
     "iopub.execute_input": "2025-08-08T02:28:29.511425Z",
     "iopub.status.busy": "2025-08-08T02:28:29.511109Z",
     "iopub.status.idle": "2025-08-08T02:28:29.517883Z",
     "shell.execute_reply": "2025-08-08T02:28:29.516684Z"
    },
    "papermill": {
     "duration": 0.037935,
     "end_time": "2025-08-08T02:28:29.519593",
     "exception": false,
     "start_time": "2025-08-08T02:28:29.481658",
     "status": "completed"
    },
    "tags": []
   },
   "outputs": [
    {
     "data": {
      "text/plain": [
       "array([[ 1.01884116, -0.21938027, -0.38875095, ..., -0.12088825,\n",
       "         1.52387472,  1.09644529],\n",
       "       [ 1.64376461,  0.64624572,  2.57234098, ..., -1.52028666,\n",
       "         0.24645772, -0.43343649],\n",
       "       [-1.16839092, -1.66209024, -0.38875095, ..., -1.52028666,\n",
       "        -0.73592134, -0.43343649],\n",
       "       ...,\n",
       "       [ 0.70637943, -0.21938027, -0.38875095, ...,  0.96917545,\n",
       "         0.25618424, -0.30383078],\n",
       "       [-1.48085264,  1.36760071, -0.38875095, ..., -1.52028666,\n",
       "        -0.73592134, -0.43343649],\n",
       "       [ 1.01884116, -0.50792226, -0.38875095, ...,  1.01722469,\n",
       "         0.20430944,  0.85928021]])"
      ]
     },
     "execution_count": 90,
     "metadata": {},
     "output_type": "execute_result"
    }
   ],
   "source": [
    "X_train"
   ]
  },
  {
   "cell_type": "code",
   "execution_count": 91,
   "id": "1ec20488",
   "metadata": {
    "execution": {
     "iopub.execute_input": "2025-08-08T02:28:29.596732Z",
     "iopub.status.busy": "2025-08-08T02:28:29.595692Z",
     "iopub.status.idle": "2025-08-08T02:28:29.602751Z",
     "shell.execute_reply": "2025-08-08T02:28:29.601588Z"
    },
    "papermill": {
     "duration": 0.054642,
     "end_time": "2025-08-08T02:28:29.604540",
     "exception": false,
     "start_time": "2025-08-08T02:28:29.549898",
     "status": "completed"
    },
    "tags": []
   },
   "outputs": [
    {
     "data": {
      "text/plain": [
       "array([[ 0.70637943,  1.51187171, -0.38875095, ...,  1.02148941,\n",
       "        -0.73592134, -0.43343649],\n",
       "       [ 0.08145598,  0.50197472,  2.57234098, ...,  1.23102956,\n",
       "        -0.49600038, -0.43343649],\n",
       "       [ 0.70637943, -0.94073525, -0.38875095, ...,  1.30438283,\n",
       "        -0.73592134, -0.43343649],\n",
       "       ...,\n",
       "       [-1.16839092,  0.79051672,  2.57234098, ..., -1.51659057,\n",
       "        -0.07775979, -0.43343649],\n",
       "       [-0.54346747,  1.22332971, -0.38875095, ..., -1.52028666,\n",
       "        -0.73592134,  0.71764924],\n",
       "       [ 0.08145598,  1.51187171, -0.38875095, ..., -0.05293696,\n",
       "        -0.73592134, -0.43343649]])"
      ]
     },
     "execution_count": 91,
     "metadata": {},
     "output_type": "execute_result"
    }
   ],
   "source": [
    "X_test"
   ]
  },
  {
   "cell_type": "markdown",
   "id": "8b242544",
   "metadata": {
    "papermill": {
     "duration": 0.037314,
     "end_time": "2025-08-08T02:28:29.677047",
     "exception": false,
     "start_time": "2025-08-08T02:28:29.639733",
     "status": "completed"
    },
    "tags": []
   },
   "source": [
    "#### Default Parameters"
   ]
  },
  {
   "cell_type": "code",
   "execution_count": 92,
   "id": "2ec6461f",
   "metadata": {
    "execution": {
     "iopub.execute_input": "2025-08-08T02:28:29.739698Z",
     "iopub.status.busy": "2025-08-08T02:28:29.738793Z",
     "iopub.status.idle": "2025-08-08T02:28:29.746374Z",
     "shell.execute_reply": "2025-08-08T02:28:29.745566Z"
    },
    "papermill": {
     "duration": 0.038956,
     "end_time": "2025-08-08T02:28:29.747735",
     "exception": false,
     "start_time": "2025-08-08T02:28:29.708779",
     "status": "completed"
    },
    "tags": []
   },
   "outputs": [
    {
     "data": {
      "text/html": [
       "<style>#sk-container-id-13 {color: black;background-color: white;}#sk-container-id-13 pre{padding: 0;}#sk-container-id-13 div.sk-toggleable {background-color: white;}#sk-container-id-13 label.sk-toggleable__label {cursor: pointer;display: block;width: 100%;margin-bottom: 0;padding: 0.3em;box-sizing: border-box;text-align: center;}#sk-container-id-13 label.sk-toggleable__label-arrow:before {content: \"▸\";float: left;margin-right: 0.25em;color: #696969;}#sk-container-id-13 label.sk-toggleable__label-arrow:hover:before {color: black;}#sk-container-id-13 div.sk-estimator:hover label.sk-toggleable__label-arrow:before {color: black;}#sk-container-id-13 div.sk-toggleable__content {max-height: 0;max-width: 0;overflow: hidden;text-align: left;background-color: #f0f8ff;}#sk-container-id-13 div.sk-toggleable__content pre {margin: 0.2em;color: black;border-radius: 0.25em;background-color: #f0f8ff;}#sk-container-id-13 input.sk-toggleable__control:checked~div.sk-toggleable__content {max-height: 200px;max-width: 100%;overflow: auto;}#sk-container-id-13 input.sk-toggleable__control:checked~label.sk-toggleable__label-arrow:before {content: \"▾\";}#sk-container-id-13 div.sk-estimator input.sk-toggleable__control:checked~label.sk-toggleable__label {background-color: #d4ebff;}#sk-container-id-13 div.sk-label input.sk-toggleable__control:checked~label.sk-toggleable__label {background-color: #d4ebff;}#sk-container-id-13 input.sk-hidden--visually {border: 0;clip: rect(1px 1px 1px 1px);clip: rect(1px, 1px, 1px, 1px);height: 1px;margin: -1px;overflow: hidden;padding: 0;position: absolute;width: 1px;}#sk-container-id-13 div.sk-estimator {font-family: monospace;background-color: #f0f8ff;border: 1px dotted black;border-radius: 0.25em;box-sizing: border-box;margin-bottom: 0.5em;}#sk-container-id-13 div.sk-estimator:hover {background-color: #d4ebff;}#sk-container-id-13 div.sk-parallel-item::after {content: \"\";width: 100%;border-bottom: 1px solid gray;flex-grow: 1;}#sk-container-id-13 div.sk-label:hover label.sk-toggleable__label {background-color: #d4ebff;}#sk-container-id-13 div.sk-serial::before {content: \"\";position: absolute;border-left: 1px solid gray;box-sizing: border-box;top: 0;bottom: 0;left: 50%;z-index: 0;}#sk-container-id-13 div.sk-serial {display: flex;flex-direction: column;align-items: center;background-color: white;padding-right: 0.2em;padding-left: 0.2em;position: relative;}#sk-container-id-13 div.sk-item {position: relative;z-index: 1;}#sk-container-id-13 div.sk-parallel {display: flex;align-items: stretch;justify-content: center;background-color: white;position: relative;}#sk-container-id-13 div.sk-item::before, #sk-container-id-13 div.sk-parallel-item::before {content: \"\";position: absolute;border-left: 1px solid gray;box-sizing: border-box;top: 0;bottom: 0;left: 50%;z-index: -1;}#sk-container-id-13 div.sk-parallel-item {display: flex;flex-direction: column;z-index: 1;position: relative;background-color: white;}#sk-container-id-13 div.sk-parallel-item:first-child::after {align-self: flex-end;width: 50%;}#sk-container-id-13 div.sk-parallel-item:last-child::after {align-self: flex-start;width: 50%;}#sk-container-id-13 div.sk-parallel-item:only-child::after {width: 0;}#sk-container-id-13 div.sk-dashed-wrapped {border: 1px dashed gray;margin: 0 0.4em 0.5em 0.4em;box-sizing: border-box;padding-bottom: 0.4em;background-color: white;}#sk-container-id-13 div.sk-label label {font-family: monospace;font-weight: bold;display: inline-block;line-height: 1.2em;}#sk-container-id-13 div.sk-label-container {text-align: center;}#sk-container-id-13 div.sk-container {/* jupyter's `normalize.less` sets `[hidden] { display: none; }` but bootstrap.min.css set `[hidden] { display: none !important; }` so we also need the `!important` here to be able to override the default hidden behavior on the sphinx rendered scikit-learn.org. See: https://github.com/scikit-learn/scikit-learn/issues/21755 */display: inline-block !important;position: relative;}#sk-container-id-13 div.sk-text-repr-fallback {display: none;}</style><div id=\"sk-container-id-13\" class=\"sk-top-container\"><div class=\"sk-text-repr-fallback\"><pre>SVR()</pre><b>In a Jupyter environment, please rerun this cell to show the HTML representation or trust the notebook. <br />On GitHub, the HTML representation is unable to render, please try loading this page with nbviewer.org.</b></div><div class=\"sk-container\" hidden><div class=\"sk-item\"><div class=\"sk-estimator sk-toggleable\"><input class=\"sk-toggleable__control sk-hidden--visually\" id=\"sk-estimator-id-21\" type=\"checkbox\" checked><label for=\"sk-estimator-id-21\" class=\"sk-toggleable__label sk-toggleable__label-arrow\">SVR</label><div class=\"sk-toggleable__content\"><pre>SVR()</pre></div></div></div></div></div>"
      ],
      "text/plain": [
       "SVR()"
      ]
     },
     "execution_count": 92,
     "metadata": {},
     "output_type": "execute_result"
    }
   ],
   "source": [
    "training_model = SVR()\n",
    "training_model"
   ]
  },
  {
   "cell_type": "code",
   "execution_count": 93,
   "id": "eb13c060",
   "metadata": {
    "execution": {
     "iopub.execute_input": "2025-08-08T02:28:29.805781Z",
     "iopub.status.busy": "2025-08-08T02:28:29.805327Z",
     "iopub.status.idle": "2025-08-08T02:28:36.339134Z",
     "shell.execute_reply": "2025-08-08T02:28:36.338349Z"
    },
    "papermill": {
     "duration": 6.564661,
     "end_time": "2025-08-08T02:28:36.340552",
     "exception": false,
     "start_time": "2025-08-08T02:28:29.775891",
     "status": "completed"
    },
    "tags": []
   },
   "outputs": [
    {
     "name": "stdout",
     "output_type": "stream",
     "text": [
      "CPU times: user 6.53 s, sys: 0 ns, total: 6.53 s\n",
      "Wall time: 6.53 s\n"
     ]
    },
    {
     "data": {
      "text/html": [
       "<style>#sk-container-id-14 {color: black;background-color: white;}#sk-container-id-14 pre{padding: 0;}#sk-container-id-14 div.sk-toggleable {background-color: white;}#sk-container-id-14 label.sk-toggleable__label {cursor: pointer;display: block;width: 100%;margin-bottom: 0;padding: 0.3em;box-sizing: border-box;text-align: center;}#sk-container-id-14 label.sk-toggleable__label-arrow:before {content: \"▸\";float: left;margin-right: 0.25em;color: #696969;}#sk-container-id-14 label.sk-toggleable__label-arrow:hover:before {color: black;}#sk-container-id-14 div.sk-estimator:hover label.sk-toggleable__label-arrow:before {color: black;}#sk-container-id-14 div.sk-toggleable__content {max-height: 0;max-width: 0;overflow: hidden;text-align: left;background-color: #f0f8ff;}#sk-container-id-14 div.sk-toggleable__content pre {margin: 0.2em;color: black;border-radius: 0.25em;background-color: #f0f8ff;}#sk-container-id-14 input.sk-toggleable__control:checked~div.sk-toggleable__content {max-height: 200px;max-width: 100%;overflow: auto;}#sk-container-id-14 input.sk-toggleable__control:checked~label.sk-toggleable__label-arrow:before {content: \"▾\";}#sk-container-id-14 div.sk-estimator input.sk-toggleable__control:checked~label.sk-toggleable__label {background-color: #d4ebff;}#sk-container-id-14 div.sk-label input.sk-toggleable__control:checked~label.sk-toggleable__label {background-color: #d4ebff;}#sk-container-id-14 input.sk-hidden--visually {border: 0;clip: rect(1px 1px 1px 1px);clip: rect(1px, 1px, 1px, 1px);height: 1px;margin: -1px;overflow: hidden;padding: 0;position: absolute;width: 1px;}#sk-container-id-14 div.sk-estimator {font-family: monospace;background-color: #f0f8ff;border: 1px dotted black;border-radius: 0.25em;box-sizing: border-box;margin-bottom: 0.5em;}#sk-container-id-14 div.sk-estimator:hover {background-color: #d4ebff;}#sk-container-id-14 div.sk-parallel-item::after {content: \"\";width: 100%;border-bottom: 1px solid gray;flex-grow: 1;}#sk-container-id-14 div.sk-label:hover label.sk-toggleable__label {background-color: #d4ebff;}#sk-container-id-14 div.sk-serial::before {content: \"\";position: absolute;border-left: 1px solid gray;box-sizing: border-box;top: 0;bottom: 0;left: 50%;z-index: 0;}#sk-container-id-14 div.sk-serial {display: flex;flex-direction: column;align-items: center;background-color: white;padding-right: 0.2em;padding-left: 0.2em;position: relative;}#sk-container-id-14 div.sk-item {position: relative;z-index: 1;}#sk-container-id-14 div.sk-parallel {display: flex;align-items: stretch;justify-content: center;background-color: white;position: relative;}#sk-container-id-14 div.sk-item::before, #sk-container-id-14 div.sk-parallel-item::before {content: \"\";position: absolute;border-left: 1px solid gray;box-sizing: border-box;top: 0;bottom: 0;left: 50%;z-index: -1;}#sk-container-id-14 div.sk-parallel-item {display: flex;flex-direction: column;z-index: 1;position: relative;background-color: white;}#sk-container-id-14 div.sk-parallel-item:first-child::after {align-self: flex-end;width: 50%;}#sk-container-id-14 div.sk-parallel-item:last-child::after {align-self: flex-start;width: 50%;}#sk-container-id-14 div.sk-parallel-item:only-child::after {width: 0;}#sk-container-id-14 div.sk-dashed-wrapped {border: 1px dashed gray;margin: 0 0.4em 0.5em 0.4em;box-sizing: border-box;padding-bottom: 0.4em;background-color: white;}#sk-container-id-14 div.sk-label label {font-family: monospace;font-weight: bold;display: inline-block;line-height: 1.2em;}#sk-container-id-14 div.sk-label-container {text-align: center;}#sk-container-id-14 div.sk-container {/* jupyter's `normalize.less` sets `[hidden] { display: none; }` but bootstrap.min.css set `[hidden] { display: none !important; }` so we also need the `!important` here to be able to override the default hidden behavior on the sphinx rendered scikit-learn.org. See: https://github.com/scikit-learn/scikit-learn/issues/21755 */display: inline-block !important;position: relative;}#sk-container-id-14 div.sk-text-repr-fallback {display: none;}</style><div id=\"sk-container-id-14\" class=\"sk-top-container\"><div class=\"sk-text-repr-fallback\"><pre>SVR()</pre><b>In a Jupyter environment, please rerun this cell to show the HTML representation or trust the notebook. <br />On GitHub, the HTML representation is unable to render, please try loading this page with nbviewer.org.</b></div><div class=\"sk-container\" hidden><div class=\"sk-item\"><div class=\"sk-estimator sk-toggleable\"><input class=\"sk-toggleable__control sk-hidden--visually\" id=\"sk-estimator-id-22\" type=\"checkbox\" checked><label for=\"sk-estimator-id-22\" class=\"sk-toggleable__label sk-toggleable__label-arrow\">SVR</label><div class=\"sk-toggleable__content\"><pre>SVR()</pre></div></div></div></div></div>"
      ],
      "text/plain": [
       "SVR()"
      ]
     },
     "execution_count": 93,
     "metadata": {},
     "output_type": "execute_result"
    }
   ],
   "source": [
    "%%time\n",
    "training_model.fit(X_train, y_train)"
   ]
  },
  {
   "cell_type": "code",
   "execution_count": 94,
   "id": "9e111df2",
   "metadata": {
    "execution": {
     "iopub.execute_input": "2025-08-08T02:28:36.398267Z",
     "iopub.status.busy": "2025-08-08T02:28:36.397466Z",
     "iopub.status.idle": "2025-08-08T02:28:38.113412Z",
     "shell.execute_reply": "2025-08-08T02:28:38.112452Z"
    },
    "papermill": {
     "duration": 1.746305,
     "end_time": "2025-08-08T02:28:38.115043",
     "exception": false,
     "start_time": "2025-08-08T02:28:36.368738",
     "status": "completed"
    },
    "tags": []
   },
   "outputs": [
    {
     "data": {
      "text/plain": [
       "array([4.67212744, 3.79754301, 4.67983725, ..., 4.10433842, 5.0303843 ,\n",
       "       4.81512508])"
      ]
     },
     "execution_count": 94,
     "metadata": {},
     "output_type": "execute_result"
    }
   ],
   "source": [
    "y_pred = training_model.predict(X_test)\n",
    "y_pred"
   ]
  },
  {
   "cell_type": "code",
   "execution_count": 95,
   "id": "1d11d8fe",
   "metadata": {
    "execution": {
     "iopub.execute_input": "2025-08-08T02:28:38.173142Z",
     "iopub.status.busy": "2025-08-08T02:28:38.172334Z",
     "iopub.status.idle": "2025-08-08T02:28:38.179466Z",
     "shell.execute_reply": "2025-08-08T02:28:38.178662Z"
    },
    "papermill": {
     "duration": 0.037702,
     "end_time": "2025-08-08T02:28:38.180898",
     "exception": false,
     "start_time": "2025-08-08T02:28:38.143196",
     "status": "completed"
    },
    "tags": []
   },
   "outputs": [
    {
     "data": {
      "text/plain": [
       "5158     4.65\n",
       "3831     3.70\n",
       "5117     4.19\n",
       "6326     3.88\n",
       "11359    3.68\n",
       "         ... \n",
       "10290    5.17\n",
       "13995    4.48\n",
       "9665     3.91\n",
       "2276     4.00\n",
       "4174     4.65\n",
       "Name: Visibility, Length: 2924, dtype: float64"
      ]
     },
     "execution_count": 95,
     "metadata": {},
     "output_type": "execute_result"
    }
   ],
   "source": [
    "y_test"
   ]
  },
  {
   "cell_type": "code",
   "execution_count": 96,
   "id": "f0940db1",
   "metadata": {
    "execution": {
     "iopub.execute_input": "2025-08-08T02:28:38.238665Z",
     "iopub.status.busy": "2025-08-08T02:28:38.237924Z",
     "iopub.status.idle": "2025-08-08T02:28:38.244458Z",
     "shell.execute_reply": "2025-08-08T02:28:38.243588Z"
    },
    "papermill": {
     "duration": 0.036876,
     "end_time": "2025-08-08T02:28:38.246057",
     "exception": false,
     "start_time": "2025-08-08T02:28:38.209181",
     "status": "completed"
    },
    "tags": []
   },
   "outputs": [],
   "source": [
    "mse = mean_squared_error(y_test, y_pred)\n",
    "mae = mean_absolute_error(y_test, y_pred)\n",
    "r2 = r2_score(y_test, y_pred)\n",
    "rmse = math.sqrt(mse)"
   ]
  },
  {
   "cell_type": "code",
   "execution_count": 97,
   "id": "70a3c675",
   "metadata": {
    "execution": {
     "iopub.execute_input": "2025-08-08T02:28:38.306953Z",
     "iopub.status.busy": "2025-08-08T02:28:38.306654Z",
     "iopub.status.idle": "2025-08-08T02:28:38.311539Z",
     "shell.execute_reply": "2025-08-08T02:28:38.310455Z"
    },
    "papermill": {
     "duration": 0.03664,
     "end_time": "2025-08-08T02:28:38.312935",
     "exception": false,
     "start_time": "2025-08-08T02:28:38.276295",
     "status": "completed"
    },
    "tags": []
   },
   "outputs": [
    {
     "name": "stdout",
     "output_type": "stream",
     "text": [
      "MSE Score: 1.2689682486425997\n",
      "MAE Score: 0.40531239560398147\n",
      "R2 Score: 0.349704003549842\n",
      "RMSE Score: 1.1264849083066313\n"
     ]
    }
   ],
   "source": [
    "print(\"MSE Score:\", mse)\n",
    "print(\"MAE Score:\", mae)\n",
    "print(\"R2 Score:\", r2)\n",
    "print(\"RMSE Score:\", rmse)"
   ]
  },
  {
   "cell_type": "code",
   "execution_count": 98,
   "id": "bb26dc41",
   "metadata": {
    "execution": {
     "iopub.execute_input": "2025-08-08T02:28:38.373045Z",
     "iopub.status.busy": "2025-08-08T02:28:38.372738Z",
     "iopub.status.idle": "2025-08-08T02:28:38.382596Z",
     "shell.execute_reply": "2025-08-08T02:28:38.381513Z"
    },
    "papermill": {
     "duration": 0.042543,
     "end_time": "2025-08-08T02:28:38.384170",
     "exception": false,
     "start_time": "2025-08-08T02:28:38.341627",
     "status": "completed"
    },
    "tags": []
   },
   "outputs": [
    {
     "name": "stdout",
     "output_type": "stream",
     "text": [
      "❌ Regression model not improved:\n",
      "   Current MSE: 1.268968, Best MSE: 1.256469\n",
      "   Current R²: 0.349704, Best R²: 0.356109\n",
      "   Current Features: 24, Best Features: 27\n"
     ]
    }
   ],
   "source": [
    "regression_params = {\n",
    "    'model_name': model_name_for_saving,\n",
    "    'scaler_name': \"StandardScaler\",\n",
    "    'features_list': feature_columns_for_saving,\n",
    "    'target_column': target_name_for_saving,\n",
    "    'mse': mse,\n",
    "    'mae': mae,\n",
    "    'rmse': rmse,\n",
    "    'r2': r2,\n",
    "    'parameters': json.dumps(training_model.get_params())\n",
    "}\n",
    "save_model_performance_if_better('regression', regression_params)"
   ]
  },
  {
   "cell_type": "markdown",
   "id": "2c24a375",
   "metadata": {
    "papermill": {
     "duration": 0.029154,
     "end_time": "2025-08-08T02:28:38.443233",
     "exception": false,
     "start_time": "2025-08-08T02:28:38.414079",
     "status": "completed"
    },
    "tags": []
   },
   "source": [
    "#### Tuning with Grid Search"
   ]
  },
  {
   "cell_type": "code",
   "execution_count": 99,
   "id": "373b679c",
   "metadata": {
    "execution": {
     "iopub.execute_input": "2025-08-08T02:28:38.501401Z",
     "iopub.status.busy": "2025-08-08T02:28:38.501115Z",
     "iopub.status.idle": "2025-08-08T02:28:38.506081Z",
     "shell.execute_reply": "2025-08-08T02:28:38.504996Z"
    },
    "papermill": {
     "duration": 0.035943,
     "end_time": "2025-08-08T02:28:38.507748",
     "exception": false,
     "start_time": "2025-08-08T02:28:38.471805",
     "status": "completed"
    },
    "tags": []
   },
   "outputs": [],
   "source": [
    "grid_search = RandomizedSearchCV(\n",
    "    SVR(), \n",
    "    grid_param,\n",
    "    n_iter=number_of_model_for_randomized_grid,\n",
    "    cv=5,\n",
    "    scoring='neg_mean_squared_error',\n",
    "    n_jobs=-1,\n",
    "    verbose=1,\n",
    "    random_state=42\n",
    ")"
   ]
  },
  {
   "cell_type": "code",
   "execution_count": 100,
   "id": "f95a4dbe",
   "metadata": {
    "execution": {
     "iopub.execute_input": "2025-08-08T02:28:38.567015Z",
     "iopub.status.busy": "2025-08-08T02:28:38.566711Z",
     "iopub.status.idle": "2025-08-08T06:57:11.150436Z",
     "shell.execute_reply": "2025-08-08T06:57:11.149260Z"
    },
    "papermill": {
     "duration": 16112.646998,
     "end_time": "2025-08-08T06:57:11.183833",
     "exception": false,
     "start_time": "2025-08-08T02:28:38.536835",
     "status": "completed"
    },
    "tags": []
   },
   "outputs": [
    {
     "name": "stdout",
     "output_type": "stream",
     "text": [
      "Starting hyperparameter tuning...\n",
      "Fitting 5 folds for each of 130 candidates, totalling 650 fits\n",
      "CPU times: user 1min 11s, sys: 24.4 s, total: 1min 35s\n",
      "Wall time: 4h 28min 32s\n"
     ]
    },
    {
     "data": {
      "text/html": [
       "<style>#sk-container-id-15 {color: black;background-color: white;}#sk-container-id-15 pre{padding: 0;}#sk-container-id-15 div.sk-toggleable {background-color: white;}#sk-container-id-15 label.sk-toggleable__label {cursor: pointer;display: block;width: 100%;margin-bottom: 0;padding: 0.3em;box-sizing: border-box;text-align: center;}#sk-container-id-15 label.sk-toggleable__label-arrow:before {content: \"▸\";float: left;margin-right: 0.25em;color: #696969;}#sk-container-id-15 label.sk-toggleable__label-arrow:hover:before {color: black;}#sk-container-id-15 div.sk-estimator:hover label.sk-toggleable__label-arrow:before {color: black;}#sk-container-id-15 div.sk-toggleable__content {max-height: 0;max-width: 0;overflow: hidden;text-align: left;background-color: #f0f8ff;}#sk-container-id-15 div.sk-toggleable__content pre {margin: 0.2em;color: black;border-radius: 0.25em;background-color: #f0f8ff;}#sk-container-id-15 input.sk-toggleable__control:checked~div.sk-toggleable__content {max-height: 200px;max-width: 100%;overflow: auto;}#sk-container-id-15 input.sk-toggleable__control:checked~label.sk-toggleable__label-arrow:before {content: \"▾\";}#sk-container-id-15 div.sk-estimator input.sk-toggleable__control:checked~label.sk-toggleable__label {background-color: #d4ebff;}#sk-container-id-15 div.sk-label input.sk-toggleable__control:checked~label.sk-toggleable__label {background-color: #d4ebff;}#sk-container-id-15 input.sk-hidden--visually {border: 0;clip: rect(1px 1px 1px 1px);clip: rect(1px, 1px, 1px, 1px);height: 1px;margin: -1px;overflow: hidden;padding: 0;position: absolute;width: 1px;}#sk-container-id-15 div.sk-estimator {font-family: monospace;background-color: #f0f8ff;border: 1px dotted black;border-radius: 0.25em;box-sizing: border-box;margin-bottom: 0.5em;}#sk-container-id-15 div.sk-estimator:hover {background-color: #d4ebff;}#sk-container-id-15 div.sk-parallel-item::after {content: \"\";width: 100%;border-bottom: 1px solid gray;flex-grow: 1;}#sk-container-id-15 div.sk-label:hover label.sk-toggleable__label {background-color: #d4ebff;}#sk-container-id-15 div.sk-serial::before {content: \"\";position: absolute;border-left: 1px solid gray;box-sizing: border-box;top: 0;bottom: 0;left: 50%;z-index: 0;}#sk-container-id-15 div.sk-serial {display: flex;flex-direction: column;align-items: center;background-color: white;padding-right: 0.2em;padding-left: 0.2em;position: relative;}#sk-container-id-15 div.sk-item {position: relative;z-index: 1;}#sk-container-id-15 div.sk-parallel {display: flex;align-items: stretch;justify-content: center;background-color: white;position: relative;}#sk-container-id-15 div.sk-item::before, #sk-container-id-15 div.sk-parallel-item::before {content: \"\";position: absolute;border-left: 1px solid gray;box-sizing: border-box;top: 0;bottom: 0;left: 50%;z-index: -1;}#sk-container-id-15 div.sk-parallel-item {display: flex;flex-direction: column;z-index: 1;position: relative;background-color: white;}#sk-container-id-15 div.sk-parallel-item:first-child::after {align-self: flex-end;width: 50%;}#sk-container-id-15 div.sk-parallel-item:last-child::after {align-self: flex-start;width: 50%;}#sk-container-id-15 div.sk-parallel-item:only-child::after {width: 0;}#sk-container-id-15 div.sk-dashed-wrapped {border: 1px dashed gray;margin: 0 0.4em 0.5em 0.4em;box-sizing: border-box;padding-bottom: 0.4em;background-color: white;}#sk-container-id-15 div.sk-label label {font-family: monospace;font-weight: bold;display: inline-block;line-height: 1.2em;}#sk-container-id-15 div.sk-label-container {text-align: center;}#sk-container-id-15 div.sk-container {/* jupyter's `normalize.less` sets `[hidden] { display: none; }` but bootstrap.min.css set `[hidden] { display: none !important; }` so we also need the `!important` here to be able to override the default hidden behavior on the sphinx rendered scikit-learn.org. See: https://github.com/scikit-learn/scikit-learn/issues/21755 */display: inline-block !important;position: relative;}#sk-container-id-15 div.sk-text-repr-fallback {display: none;}</style><div id=\"sk-container-id-15\" class=\"sk-top-container\"><div class=\"sk-text-repr-fallback\"><pre>RandomizedSearchCV(cv=5, estimator=SVR(), n_iter=130, n_jobs=-1,\n",
       "                   param_distributions={&#x27;C&#x27;: [0.1, 1, 10, 100],\n",
       "                                        &#x27;coef0&#x27;: [0.0, 0.1, 1.0],\n",
       "                                        &#x27;epsilon&#x27;: [0.1, 0.2],\n",
       "                                        &#x27;gamma&#x27;: [&#x27;scale&#x27;, &#x27;auto&#x27;, 0.001, 0.01,\n",
       "                                                  0.1],\n",
       "                                        &#x27;kernel&#x27;: [&#x27;linear&#x27;, &#x27;rbf&#x27;, &#x27;sigmoid&#x27;],\n",
       "                                        &#x27;shrinking&#x27;: [True],\n",
       "                                        &#x27;tol&#x27;: [0.001, 0.0001]},\n",
       "                   random_state=42, scoring=&#x27;neg_mean_squared_error&#x27;,\n",
       "                   verbose=1)</pre><b>In a Jupyter environment, please rerun this cell to show the HTML representation or trust the notebook. <br />On GitHub, the HTML representation is unable to render, please try loading this page with nbviewer.org.</b></div><div class=\"sk-container\" hidden><div class=\"sk-item sk-dashed-wrapped\"><div class=\"sk-label-container\"><div class=\"sk-label sk-toggleable\"><input class=\"sk-toggleable__control sk-hidden--visually\" id=\"sk-estimator-id-23\" type=\"checkbox\" ><label for=\"sk-estimator-id-23\" class=\"sk-toggleable__label sk-toggleable__label-arrow\">RandomizedSearchCV</label><div class=\"sk-toggleable__content\"><pre>RandomizedSearchCV(cv=5, estimator=SVR(), n_iter=130, n_jobs=-1,\n",
       "                   param_distributions={&#x27;C&#x27;: [0.1, 1, 10, 100],\n",
       "                                        &#x27;coef0&#x27;: [0.0, 0.1, 1.0],\n",
       "                                        &#x27;epsilon&#x27;: [0.1, 0.2],\n",
       "                                        &#x27;gamma&#x27;: [&#x27;scale&#x27;, &#x27;auto&#x27;, 0.001, 0.01,\n",
       "                                                  0.1],\n",
       "                                        &#x27;kernel&#x27;: [&#x27;linear&#x27;, &#x27;rbf&#x27;, &#x27;sigmoid&#x27;],\n",
       "                                        &#x27;shrinking&#x27;: [True],\n",
       "                                        &#x27;tol&#x27;: [0.001, 0.0001]},\n",
       "                   random_state=42, scoring=&#x27;neg_mean_squared_error&#x27;,\n",
       "                   verbose=1)</pre></div></div></div><div class=\"sk-parallel\"><div class=\"sk-parallel-item\"><div class=\"sk-item\"><div class=\"sk-label-container\"><div class=\"sk-label sk-toggleable\"><input class=\"sk-toggleable__control sk-hidden--visually\" id=\"sk-estimator-id-24\" type=\"checkbox\" ><label for=\"sk-estimator-id-24\" class=\"sk-toggleable__label sk-toggleable__label-arrow\">estimator: SVR</label><div class=\"sk-toggleable__content\"><pre>SVR()</pre></div></div></div><div class=\"sk-serial\"><div class=\"sk-item\"><div class=\"sk-estimator sk-toggleable\"><input class=\"sk-toggleable__control sk-hidden--visually\" id=\"sk-estimator-id-25\" type=\"checkbox\" ><label for=\"sk-estimator-id-25\" class=\"sk-toggleable__label sk-toggleable__label-arrow\">SVR</label><div class=\"sk-toggleable__content\"><pre>SVR()</pre></div></div></div></div></div></div></div></div></div></div>"
      ],
      "text/plain": [
       "RandomizedSearchCV(cv=5, estimator=SVR(), n_iter=130, n_jobs=-1,\n",
       "                   param_distributions={'C': [0.1, 1, 10, 100],\n",
       "                                        'coef0': [0.0, 0.1, 1.0],\n",
       "                                        'epsilon': [0.1, 0.2],\n",
       "                                        'gamma': ['scale', 'auto', 0.001, 0.01,\n",
       "                                                  0.1],\n",
       "                                        'kernel': ['linear', 'rbf', 'sigmoid'],\n",
       "                                        'shrinking': [True],\n",
       "                                        'tol': [0.001, 0.0001]},\n",
       "                   random_state=42, scoring='neg_mean_squared_error',\n",
       "                   verbose=1)"
      ]
     },
     "execution_count": 100,
     "metadata": {},
     "output_type": "execute_result"
    }
   ],
   "source": [
    "%%time\n",
    "print(\"Starting hyperparameter tuning...\")\n",
    "grid_search.fit(X_train, y_train)"
   ]
  },
  {
   "cell_type": "code",
   "execution_count": 101,
   "id": "0b6a62cb",
   "metadata": {
    "execution": {
     "iopub.execute_input": "2025-08-08T06:57:11.245583Z",
     "iopub.status.busy": "2025-08-08T06:57:11.244479Z",
     "iopub.status.idle": "2025-08-08T06:57:11.251632Z",
     "shell.execute_reply": "2025-08-08T06:57:11.250729Z"
    },
    "papermill": {
     "duration": 0.039966,
     "end_time": "2025-08-08T06:57:11.253520",
     "exception": false,
     "start_time": "2025-08-08T06:57:11.213554",
     "status": "completed"
    },
    "tags": []
   },
   "outputs": [
    {
     "name": "stdout",
     "output_type": "stream",
     "text": [
      "TUNING RESULTS\n",
      "==================================================\n",
      "Best Parameters: {'tol': 0.0001, 'shrinking': True, 'kernel': 'rbf', 'gamma': 'scale', 'epsilon': 0.2, 'coef0': 0.1, 'C': 10}\n",
      "Best Cross-Validation Score (Negative MSE): -1.2395915594407705\n",
      "Best Cross-Validation Score (MSE): 1.2395915594407705\n",
      "Best Cross-Validation Score (RMSE): 1.1133694622364898\n"
     ]
    }
   ],
   "source": [
    "print(\"TUNING RESULTS\")\n",
    "print(\"=\"*50)\n",
    "print(\"Best Parameters:\", grid_search.best_params_)\n",
    "print(\"Best Cross-Validation Score (Negative MSE):\", grid_search.best_score_)\n",
    "print(\"Best Cross-Validation Score (MSE):\", -grid_search.best_score_)\n",
    "print(\"Best Cross-Validation Score (RMSE):\", math.sqrt(-grid_search.best_score_))\n",
    "\n",
    "# Use the best parameters to train the robust scaler model\n",
    "grid_param_standard = {k: [v] for k, v in grid_search.best_params_.items()}"
   ]
  },
  {
   "cell_type": "code",
   "execution_count": 102,
   "id": "7961f398",
   "metadata": {
    "execution": {
     "iopub.execute_input": "2025-08-08T06:57:11.315490Z",
     "iopub.status.busy": "2025-08-08T06:57:11.315150Z",
     "iopub.status.idle": "2025-08-08T06:57:12.649499Z",
     "shell.execute_reply": "2025-08-08T06:57:12.648686Z"
    },
    "papermill": {
     "duration": 1.366517,
     "end_time": "2025-08-08T06:57:12.651200",
     "exception": false,
     "start_time": "2025-08-08T06:57:11.284683",
     "status": "completed"
    },
    "tags": []
   },
   "outputs": [],
   "source": [
    "grid_search_best_model = grid_search.best_estimator_\n",
    "y_pred = grid_search_best_model.predict(X_test)"
   ]
  },
  {
   "cell_type": "code",
   "execution_count": 103,
   "id": "04b2c25c",
   "metadata": {
    "execution": {
     "iopub.execute_input": "2025-08-08T06:57:12.710660Z",
     "iopub.status.busy": "2025-08-08T06:57:12.710307Z",
     "iopub.status.idle": "2025-08-08T06:57:12.717949Z",
     "shell.execute_reply": "2025-08-08T06:57:12.716982Z"
    },
    "papermill": {
     "duration": 0.039302,
     "end_time": "2025-08-08T06:57:12.719568",
     "exception": false,
     "start_time": "2025-08-08T06:57:12.680266",
     "status": "completed"
    },
    "tags": []
   },
   "outputs": [],
   "source": [
    "mse_grid_search = mean_squared_error(y_test, y_pred)\n",
    "mae_grid_search = mean_absolute_error(y_test, y_pred)\n",
    "r2_grid_search = r2_score(y_test, y_pred)\n",
    "rmse_grid_search = math.sqrt(mse_grid_search)"
   ]
  },
  {
   "cell_type": "code",
   "execution_count": 104,
   "id": "1bf909fa",
   "metadata": {
    "execution": {
     "iopub.execute_input": "2025-08-08T06:57:12.894812Z",
     "iopub.status.busy": "2025-08-08T06:57:12.894189Z",
     "iopub.status.idle": "2025-08-08T06:57:12.899517Z",
     "shell.execute_reply": "2025-08-08T06:57:12.898676Z"
    },
    "papermill": {
     "duration": 0.038,
     "end_time": "2025-08-08T06:57:12.901032",
     "exception": false,
     "start_time": "2025-08-08T06:57:12.863032",
     "status": "completed"
    },
    "tags": []
   },
   "outputs": [
    {
     "name": "stdout",
     "output_type": "stream",
     "text": [
      "MSE Score: 1.2474176171903915\n",
      "MAE Score: 0.40007960955478145\n",
      "R2 Score: 0.36074784910652535\n",
      "RMSE Score: 1.1168785149649856\n"
     ]
    }
   ],
   "source": [
    "print(\"MSE Score:\", mse_grid_search)\n",
    "print(\"MAE Score:\", mae_grid_search)\n",
    "print(\"R2 Score:\", r2_grid_search)\n",
    "print(\"RMSE Score:\", rmse_grid_search)"
   ]
  },
  {
   "cell_type": "code",
   "execution_count": 105,
   "id": "fef7d25c",
   "metadata": {
    "execution": {
     "iopub.execute_input": "2025-08-08T06:57:12.960443Z",
     "iopub.status.busy": "2025-08-08T06:57:12.960143Z",
     "iopub.status.idle": "2025-08-08T06:57:12.970517Z",
     "shell.execute_reply": "2025-08-08T06:57:12.969531Z"
    },
    "papermill": {
     "duration": 0.041694,
     "end_time": "2025-08-08T06:57:12.971966",
     "exception": false,
     "start_time": "2025-08-08T06:57:12.930272",
     "status": "completed"
    },
    "tags": []
   },
   "outputs": [
    {
     "name": "stdout",
     "output_type": "stream",
     "text": [
      "❌ Regression model not improved:\n",
      "   Current MSE: 1.247418, Best MSE: 1.070932\n",
      "   Current R²: 0.360748, Best R²: 0.451190\n",
      "   Current Features: 24, Best Features: 27\n"
     ]
    }
   ],
   "source": [
    "regression_params = {\n",
    "    'model_name': model_name_for_saving + \" Tuned\",\n",
    "    'scaler_name': \"StandardScaler\",\n",
    "    'features_list': feature_columns_for_saving,\n",
    "    'target_column': target_name_for_saving,\n",
    "    'mse': mse_grid_search,\n",
    "    'mae': mae_grid_search,\n",
    "    'rmse': rmse_grid_search,\n",
    "    'r2': r2_grid_search,\n",
    "    'parameters' : json.dumps({\n",
    "        \"best_params\": grid_search.best_params_,\n",
    "        \"cv_score\": grid_search.best_score_,\n",
    "        \"all_params\": grid_search_best_model.get_params()\n",
    "    })\n",
    "}\n",
    "save_model_performance_if_better('regression', regression_params)"
   ]
  },
  {
   "cell_type": "markdown",
   "id": "cfac60e8",
   "metadata": {
    "papermill": {
     "duration": 0.029283,
     "end_time": "2025-08-08T06:57:13.030841",
     "exception": false,
     "start_time": "2025-08-08T06:57:13.001558",
     "status": "completed"
    },
    "tags": []
   },
   "source": [
    "### Robust Scaler"
   ]
  },
  {
   "cell_type": "code",
   "execution_count": 106,
   "id": "2f8fc79b",
   "metadata": {
    "execution": {
     "iopub.execute_input": "2025-08-08T06:57:13.091504Z",
     "iopub.status.busy": "2025-08-08T06:57:13.091166Z",
     "iopub.status.idle": "2025-08-08T06:57:13.120766Z",
     "shell.execute_reply": "2025-08-08T06:57:13.119895Z"
    },
    "papermill": {
     "duration": 0.061955,
     "end_time": "2025-08-08T06:57:13.122416",
     "exception": false,
     "start_time": "2025-08-08T06:57:13.060461",
     "status": "completed"
    },
    "tags": []
   },
   "outputs": [],
   "source": [
    "scaler = RobustScaler()\n",
    "X_train = scaler.fit_transform(X_train_raw)\n",
    "X_test = scaler.transform(X_test_raw)"
   ]
  },
  {
   "cell_type": "code",
   "execution_count": 107,
   "id": "b9e41a2d",
   "metadata": {
    "execution": {
     "iopub.execute_input": "2025-08-08T06:57:13.182989Z",
     "iopub.status.busy": "2025-08-08T06:57:13.182199Z",
     "iopub.status.idle": "2025-08-08T06:57:13.189068Z",
     "shell.execute_reply": "2025-08-08T06:57:13.188069Z"
    },
    "papermill": {
     "duration": 0.038639,
     "end_time": "2025-08-08T06:57:13.190500",
     "exception": false,
     "start_time": "2025-08-08T06:57:13.151861",
     "status": "completed"
    },
    "tags": []
   },
   "outputs": [
    {
     "data": {
      "text/plain": [
       "array([[ 0.6       , -0.16666667,  0.        , ..., -0.03738547,\n",
       "         1.44008264,  8.87596899],\n",
       "       [ 1.        ,  0.33333333,  1.        , ..., -0.84268652,\n",
       "         0.62603306,  0.        ],\n",
       "       [-0.8       , -1.        ,  0.        , ..., -0.84268652,\n",
       "         0.        ,  0.        ],\n",
       "       ...,\n",
       "       [ 0.4       , -0.16666667,  0.        , ...,  0.5899051 ,\n",
       "         0.6322314 ,  0.75193798],\n",
       "       [-1.        ,  0.75      ,  0.        , ..., -0.84268652,\n",
       "         0.        ,  0.        ],\n",
       "       [ 0.6       , -0.33333333,  0.        , ...,  0.61755563,\n",
       "         0.59917355,  7.5       ]])"
      ]
     },
     "execution_count": 107,
     "metadata": {},
     "output_type": "execute_result"
    }
   ],
   "source": [
    "X_train"
   ]
  },
  {
   "cell_type": "code",
   "execution_count": 108,
   "id": "571ac0d4",
   "metadata": {
    "execution": {
     "iopub.execute_input": "2025-08-08T06:57:13.251893Z",
     "iopub.status.busy": "2025-08-08T06:57:13.251559Z",
     "iopub.status.idle": "2025-08-08T06:57:13.258176Z",
     "shell.execute_reply": "2025-08-08T06:57:13.257449Z"
    },
    "papermill": {
     "duration": 0.038817,
     "end_time": "2025-08-08T06:57:13.259512",
     "exception": false,
     "start_time": "2025-08-08T06:57:13.220695",
     "status": "completed"
    },
    "tags": []
   },
   "outputs": [
    {
     "data": {
      "text/plain": [
       "array([[ 4.00000000e-01,  8.33333333e-01,  0.00000000e+00, ...,\n",
       "         6.20009817e-01,  0.00000000e+00,  0.00000000e+00],\n",
       "       [ 0.00000000e+00,  2.50000000e-01,  1.00000000e+00, ...,\n",
       "         7.40592277e-01,  1.52892562e-01,  0.00000000e+00],\n",
       "       [ 4.00000000e-01, -5.83333333e-01,  0.00000000e+00, ...,\n",
       "         7.82804319e-01,  0.00000000e+00,  0.00000000e+00],\n",
       "       ...,\n",
       "       [-8.00000000e-01,  4.16666667e-01,  1.00000000e+00, ...,\n",
       "        -8.40559555e-01,  4.19421488e-01,  0.00000000e+00],\n",
       "       [-4.00000000e-01,  6.66666667e-01,  0.00000000e+00, ...,\n",
       "        -8.42686518e-01,  0.00000000e+00,  6.67829457e+00],\n",
       "       [ 0.00000000e+00,  8.33333333e-01,  0.00000000e+00, ...,\n",
       "         1.71793194e-03,  0.00000000e+00,  0.00000000e+00]])"
      ]
     },
     "execution_count": 108,
     "metadata": {},
     "output_type": "execute_result"
    }
   ],
   "source": [
    "X_test"
   ]
  },
  {
   "cell_type": "markdown",
   "id": "2dfc92e5",
   "metadata": {
    "papermill": {
     "duration": 0.030139,
     "end_time": "2025-08-08T06:57:13.322261",
     "exception": false,
     "start_time": "2025-08-08T06:57:13.292122",
     "status": "completed"
    },
    "tags": []
   },
   "source": [
    "#### Default Parameters"
   ]
  },
  {
   "cell_type": "code",
   "execution_count": 109,
   "id": "d9e9c188",
   "metadata": {
    "execution": {
     "iopub.execute_input": "2025-08-08T06:57:13.383972Z",
     "iopub.status.busy": "2025-08-08T06:57:13.383664Z",
     "iopub.status.idle": "2025-08-08T06:57:13.389919Z",
     "shell.execute_reply": "2025-08-08T06:57:13.389016Z"
    },
    "papermill": {
     "duration": 0.038944,
     "end_time": "2025-08-08T06:57:13.391655",
     "exception": false,
     "start_time": "2025-08-08T06:57:13.352711",
     "status": "completed"
    },
    "tags": []
   },
   "outputs": [
    {
     "data": {
      "text/html": [
       "<style>#sk-container-id-16 {color: black;background-color: white;}#sk-container-id-16 pre{padding: 0;}#sk-container-id-16 div.sk-toggleable {background-color: white;}#sk-container-id-16 label.sk-toggleable__label {cursor: pointer;display: block;width: 100%;margin-bottom: 0;padding: 0.3em;box-sizing: border-box;text-align: center;}#sk-container-id-16 label.sk-toggleable__label-arrow:before {content: \"▸\";float: left;margin-right: 0.25em;color: #696969;}#sk-container-id-16 label.sk-toggleable__label-arrow:hover:before {color: black;}#sk-container-id-16 div.sk-estimator:hover label.sk-toggleable__label-arrow:before {color: black;}#sk-container-id-16 div.sk-toggleable__content {max-height: 0;max-width: 0;overflow: hidden;text-align: left;background-color: #f0f8ff;}#sk-container-id-16 div.sk-toggleable__content pre {margin: 0.2em;color: black;border-radius: 0.25em;background-color: #f0f8ff;}#sk-container-id-16 input.sk-toggleable__control:checked~div.sk-toggleable__content {max-height: 200px;max-width: 100%;overflow: auto;}#sk-container-id-16 input.sk-toggleable__control:checked~label.sk-toggleable__label-arrow:before {content: \"▾\";}#sk-container-id-16 div.sk-estimator input.sk-toggleable__control:checked~label.sk-toggleable__label {background-color: #d4ebff;}#sk-container-id-16 div.sk-label input.sk-toggleable__control:checked~label.sk-toggleable__label {background-color: #d4ebff;}#sk-container-id-16 input.sk-hidden--visually {border: 0;clip: rect(1px 1px 1px 1px);clip: rect(1px, 1px, 1px, 1px);height: 1px;margin: -1px;overflow: hidden;padding: 0;position: absolute;width: 1px;}#sk-container-id-16 div.sk-estimator {font-family: monospace;background-color: #f0f8ff;border: 1px dotted black;border-radius: 0.25em;box-sizing: border-box;margin-bottom: 0.5em;}#sk-container-id-16 div.sk-estimator:hover {background-color: #d4ebff;}#sk-container-id-16 div.sk-parallel-item::after {content: \"\";width: 100%;border-bottom: 1px solid gray;flex-grow: 1;}#sk-container-id-16 div.sk-label:hover label.sk-toggleable__label {background-color: #d4ebff;}#sk-container-id-16 div.sk-serial::before {content: \"\";position: absolute;border-left: 1px solid gray;box-sizing: border-box;top: 0;bottom: 0;left: 50%;z-index: 0;}#sk-container-id-16 div.sk-serial {display: flex;flex-direction: column;align-items: center;background-color: white;padding-right: 0.2em;padding-left: 0.2em;position: relative;}#sk-container-id-16 div.sk-item {position: relative;z-index: 1;}#sk-container-id-16 div.sk-parallel {display: flex;align-items: stretch;justify-content: center;background-color: white;position: relative;}#sk-container-id-16 div.sk-item::before, #sk-container-id-16 div.sk-parallel-item::before {content: \"\";position: absolute;border-left: 1px solid gray;box-sizing: border-box;top: 0;bottom: 0;left: 50%;z-index: -1;}#sk-container-id-16 div.sk-parallel-item {display: flex;flex-direction: column;z-index: 1;position: relative;background-color: white;}#sk-container-id-16 div.sk-parallel-item:first-child::after {align-self: flex-end;width: 50%;}#sk-container-id-16 div.sk-parallel-item:last-child::after {align-self: flex-start;width: 50%;}#sk-container-id-16 div.sk-parallel-item:only-child::after {width: 0;}#sk-container-id-16 div.sk-dashed-wrapped {border: 1px dashed gray;margin: 0 0.4em 0.5em 0.4em;box-sizing: border-box;padding-bottom: 0.4em;background-color: white;}#sk-container-id-16 div.sk-label label {font-family: monospace;font-weight: bold;display: inline-block;line-height: 1.2em;}#sk-container-id-16 div.sk-label-container {text-align: center;}#sk-container-id-16 div.sk-container {/* jupyter's `normalize.less` sets `[hidden] { display: none; }` but bootstrap.min.css set `[hidden] { display: none !important; }` so we also need the `!important` here to be able to override the default hidden behavior on the sphinx rendered scikit-learn.org. See: https://github.com/scikit-learn/scikit-learn/issues/21755 */display: inline-block !important;position: relative;}#sk-container-id-16 div.sk-text-repr-fallback {display: none;}</style><div id=\"sk-container-id-16\" class=\"sk-top-container\"><div class=\"sk-text-repr-fallback\"><pre>SVR()</pre><b>In a Jupyter environment, please rerun this cell to show the HTML representation or trust the notebook. <br />On GitHub, the HTML representation is unable to render, please try loading this page with nbviewer.org.</b></div><div class=\"sk-container\" hidden><div class=\"sk-item\"><div class=\"sk-estimator sk-toggleable\"><input class=\"sk-toggleable__control sk-hidden--visually\" id=\"sk-estimator-id-26\" type=\"checkbox\" checked><label for=\"sk-estimator-id-26\" class=\"sk-toggleable__label sk-toggleable__label-arrow\">SVR</label><div class=\"sk-toggleable__content\"><pre>SVR()</pre></div></div></div></div></div>"
      ],
      "text/plain": [
       "SVR()"
      ]
     },
     "execution_count": 109,
     "metadata": {},
     "output_type": "execute_result"
    }
   ],
   "source": [
    "training_model = SVR()\n",
    "training_model"
   ]
  },
  {
   "cell_type": "code",
   "execution_count": 110,
   "id": "256df42f",
   "metadata": {
    "execution": {
     "iopub.execute_input": "2025-08-08T06:57:13.456246Z",
     "iopub.status.busy": "2025-08-08T06:57:13.455960Z",
     "iopub.status.idle": "2025-08-08T06:57:19.979640Z",
     "shell.execute_reply": "2025-08-08T06:57:19.978764Z"
    },
    "papermill": {
     "duration": 6.557972,
     "end_time": "2025-08-08T06:57:19.981067",
     "exception": false,
     "start_time": "2025-08-08T06:57:13.423095",
     "status": "completed"
    },
    "tags": []
   },
   "outputs": [
    {
     "name": "stdout",
     "output_type": "stream",
     "text": [
      "CPU times: user 6.48 s, sys: 45.7 ms, total: 6.52 s\n",
      "Wall time: 6.52 s\n"
     ]
    },
    {
     "data": {
      "text/html": [
       "<style>#sk-container-id-17 {color: black;background-color: white;}#sk-container-id-17 pre{padding: 0;}#sk-container-id-17 div.sk-toggleable {background-color: white;}#sk-container-id-17 label.sk-toggleable__label {cursor: pointer;display: block;width: 100%;margin-bottom: 0;padding: 0.3em;box-sizing: border-box;text-align: center;}#sk-container-id-17 label.sk-toggleable__label-arrow:before {content: \"▸\";float: left;margin-right: 0.25em;color: #696969;}#sk-container-id-17 label.sk-toggleable__label-arrow:hover:before {color: black;}#sk-container-id-17 div.sk-estimator:hover label.sk-toggleable__label-arrow:before {color: black;}#sk-container-id-17 div.sk-toggleable__content {max-height: 0;max-width: 0;overflow: hidden;text-align: left;background-color: #f0f8ff;}#sk-container-id-17 div.sk-toggleable__content pre {margin: 0.2em;color: black;border-radius: 0.25em;background-color: #f0f8ff;}#sk-container-id-17 input.sk-toggleable__control:checked~div.sk-toggleable__content {max-height: 200px;max-width: 100%;overflow: auto;}#sk-container-id-17 input.sk-toggleable__control:checked~label.sk-toggleable__label-arrow:before {content: \"▾\";}#sk-container-id-17 div.sk-estimator input.sk-toggleable__control:checked~label.sk-toggleable__label {background-color: #d4ebff;}#sk-container-id-17 div.sk-label input.sk-toggleable__control:checked~label.sk-toggleable__label {background-color: #d4ebff;}#sk-container-id-17 input.sk-hidden--visually {border: 0;clip: rect(1px 1px 1px 1px);clip: rect(1px, 1px, 1px, 1px);height: 1px;margin: -1px;overflow: hidden;padding: 0;position: absolute;width: 1px;}#sk-container-id-17 div.sk-estimator {font-family: monospace;background-color: #f0f8ff;border: 1px dotted black;border-radius: 0.25em;box-sizing: border-box;margin-bottom: 0.5em;}#sk-container-id-17 div.sk-estimator:hover {background-color: #d4ebff;}#sk-container-id-17 div.sk-parallel-item::after {content: \"\";width: 100%;border-bottom: 1px solid gray;flex-grow: 1;}#sk-container-id-17 div.sk-label:hover label.sk-toggleable__label {background-color: #d4ebff;}#sk-container-id-17 div.sk-serial::before {content: \"\";position: absolute;border-left: 1px solid gray;box-sizing: border-box;top: 0;bottom: 0;left: 50%;z-index: 0;}#sk-container-id-17 div.sk-serial {display: flex;flex-direction: column;align-items: center;background-color: white;padding-right: 0.2em;padding-left: 0.2em;position: relative;}#sk-container-id-17 div.sk-item {position: relative;z-index: 1;}#sk-container-id-17 div.sk-parallel {display: flex;align-items: stretch;justify-content: center;background-color: white;position: relative;}#sk-container-id-17 div.sk-item::before, #sk-container-id-17 div.sk-parallel-item::before {content: \"\";position: absolute;border-left: 1px solid gray;box-sizing: border-box;top: 0;bottom: 0;left: 50%;z-index: -1;}#sk-container-id-17 div.sk-parallel-item {display: flex;flex-direction: column;z-index: 1;position: relative;background-color: white;}#sk-container-id-17 div.sk-parallel-item:first-child::after {align-self: flex-end;width: 50%;}#sk-container-id-17 div.sk-parallel-item:last-child::after {align-self: flex-start;width: 50%;}#sk-container-id-17 div.sk-parallel-item:only-child::after {width: 0;}#sk-container-id-17 div.sk-dashed-wrapped {border: 1px dashed gray;margin: 0 0.4em 0.5em 0.4em;box-sizing: border-box;padding-bottom: 0.4em;background-color: white;}#sk-container-id-17 div.sk-label label {font-family: monospace;font-weight: bold;display: inline-block;line-height: 1.2em;}#sk-container-id-17 div.sk-label-container {text-align: center;}#sk-container-id-17 div.sk-container {/* jupyter's `normalize.less` sets `[hidden] { display: none; }` but bootstrap.min.css set `[hidden] { display: none !important; }` so we also need the `!important` here to be able to override the default hidden behavior on the sphinx rendered scikit-learn.org. See: https://github.com/scikit-learn/scikit-learn/issues/21755 */display: inline-block !important;position: relative;}#sk-container-id-17 div.sk-text-repr-fallback {display: none;}</style><div id=\"sk-container-id-17\" class=\"sk-top-container\"><div class=\"sk-text-repr-fallback\"><pre>SVR()</pre><b>In a Jupyter environment, please rerun this cell to show the HTML representation or trust the notebook. <br />On GitHub, the HTML representation is unable to render, please try loading this page with nbviewer.org.</b></div><div class=\"sk-container\" hidden><div class=\"sk-item\"><div class=\"sk-estimator sk-toggleable\"><input class=\"sk-toggleable__control sk-hidden--visually\" id=\"sk-estimator-id-27\" type=\"checkbox\" checked><label for=\"sk-estimator-id-27\" class=\"sk-toggleable__label sk-toggleable__label-arrow\">SVR</label><div class=\"sk-toggleable__content\"><pre>SVR()</pre></div></div></div></div></div>"
      ],
      "text/plain": [
       "SVR()"
      ]
     },
     "execution_count": 110,
     "metadata": {},
     "output_type": "execute_result"
    }
   ],
   "source": [
    "%%time\n",
    "training_model.fit(X_train, y_train)"
   ]
  },
  {
   "cell_type": "code",
   "execution_count": 111,
   "id": "d2047008",
   "metadata": {
    "execution": {
     "iopub.execute_input": "2025-08-08T06:57:20.042590Z",
     "iopub.status.busy": "2025-08-08T06:57:20.042307Z",
     "iopub.status.idle": "2025-08-08T06:57:21.852098Z",
     "shell.execute_reply": "2025-08-08T06:57:21.851112Z"
    },
    "papermill": {
     "duration": 1.841928,
     "end_time": "2025-08-08T06:57:21.853437",
     "exception": false,
     "start_time": "2025-08-08T06:57:20.011509",
     "status": "completed"
    },
    "tags": []
   },
   "outputs": [
    {
     "data": {
      "text/plain": [
       "array([4.88546107, 4.04437256, 4.53653103, ..., 4.34174146, 5.06049455,\n",
       "       4.8340657 ])"
      ]
     },
     "execution_count": 111,
     "metadata": {},
     "output_type": "execute_result"
    }
   ],
   "source": [
    "y_pred = training_model.predict(X_test)\n",
    "y_pred"
   ]
  },
  {
   "cell_type": "code",
   "execution_count": 112,
   "id": "3bf1c3cd",
   "metadata": {
    "execution": {
     "iopub.execute_input": "2025-08-08T06:57:21.918139Z",
     "iopub.status.busy": "2025-08-08T06:57:21.917835Z",
     "iopub.status.idle": "2025-08-08T06:57:21.925078Z",
     "shell.execute_reply": "2025-08-08T06:57:21.924198Z"
    },
    "papermill": {
     "duration": 0.042214,
     "end_time": "2025-08-08T06:57:21.926629",
     "exception": false,
     "start_time": "2025-08-08T06:57:21.884415",
     "status": "completed"
    },
    "tags": []
   },
   "outputs": [
    {
     "data": {
      "text/plain": [
       "5158     4.65\n",
       "3831     3.70\n",
       "5117     4.19\n",
       "6326     3.88\n",
       "11359    3.68\n",
       "         ... \n",
       "10290    5.17\n",
       "13995    4.48\n",
       "9665     3.91\n",
       "2276     4.00\n",
       "4174     4.65\n",
       "Name: Visibility, Length: 2924, dtype: float64"
      ]
     },
     "execution_count": 112,
     "metadata": {},
     "output_type": "execute_result"
    }
   ],
   "source": [
    "y_test"
   ]
  },
  {
   "cell_type": "code",
   "execution_count": 113,
   "id": "b903c25f",
   "metadata": {
    "execution": {
     "iopub.execute_input": "2025-08-08T06:57:21.988911Z",
     "iopub.status.busy": "2025-08-08T06:57:21.988523Z",
     "iopub.status.idle": "2025-08-08T06:57:21.995686Z",
     "shell.execute_reply": "2025-08-08T06:57:21.994664Z"
    },
    "papermill": {
     "duration": 0.039965,
     "end_time": "2025-08-08T06:57:21.997362",
     "exception": false,
     "start_time": "2025-08-08T06:57:21.957397",
     "status": "completed"
    },
    "tags": []
   },
   "outputs": [],
   "source": [
    "mse = mean_squared_error(y_test, y_pred)\n",
    "mae = mean_absolute_error(y_test, y_pred)\n",
    "r2 = r2_score(y_test, y_pred)\n",
    "rmse = math.sqrt(mse)"
   ]
  },
  {
   "cell_type": "code",
   "execution_count": 114,
   "id": "a9d3f760",
   "metadata": {
    "execution": {
     "iopub.execute_input": "2025-08-08T06:57:22.060664Z",
     "iopub.status.busy": "2025-08-08T06:57:22.060224Z",
     "iopub.status.idle": "2025-08-08T06:57:22.065860Z",
     "shell.execute_reply": "2025-08-08T06:57:22.064900Z"
    },
    "papermill": {
     "duration": 0.03935,
     "end_time": "2025-08-08T06:57:22.067324",
     "exception": false,
     "start_time": "2025-08-08T06:57:22.027974",
     "status": "completed"
    },
    "tags": []
   },
   "outputs": [
    {
     "name": "stdout",
     "output_type": "stream",
     "text": [
      "MSE Score: 1.3223411184804323\n",
      "MAE Score: 0.45719741053603535\n",
      "R2 Score: 0.32235252047552165\n",
      "RMSE Score: 1.1499309190035862\n"
     ]
    }
   ],
   "source": [
    "print(\"MSE Score:\", mse)\n",
    "print(\"MAE Score:\", mae)\n",
    "print(\"R2 Score:\", r2)\n",
    "print(\"RMSE Score:\", rmse)"
   ]
  },
  {
   "cell_type": "code",
   "execution_count": 115,
   "id": "598f8310",
   "metadata": {
    "execution": {
     "iopub.execute_input": "2025-08-08T06:57:22.133324Z",
     "iopub.status.busy": "2025-08-08T06:57:22.132919Z",
     "iopub.status.idle": "2025-08-08T06:57:22.148427Z",
     "shell.execute_reply": "2025-08-08T06:57:22.147377Z"
    },
    "papermill": {
     "duration": 0.050267,
     "end_time": "2025-08-08T06:57:22.150059",
     "exception": false,
     "start_time": "2025-08-08T06:57:22.099792",
     "status": "completed"
    },
    "tags": []
   },
   "outputs": [
    {
     "name": "stdout",
     "output_type": "stream",
     "text": [
      "✅ Regression model improved with better performance!\n",
      "   MSE: 1.523253 → 1.322341 (lower is better)\n",
      "   R²:  0.219393 → 0.322353 (higher is better)\n",
      "   Features: 27 → 24\n",
      "💾 Registry updated: Model_Training_History/History_Regression.csv\n"
     ]
    }
   ],
   "source": [
    "regression_params = {\n",
    "    'model_name': model_name_for_saving,\n",
    "    'scaler_name': \"RobustScaler\",\n",
    "    'features_list': feature_columns_for_saving,\n",
    "    'target_column': target_name_for_saving,\n",
    "    'mse': mse,\n",
    "    'mae': mae,\n",
    "    'rmse': rmse,\n",
    "    'r2': r2,\n",
    "    'parameters': json.dumps(training_model.get_params())\n",
    "}\n",
    "save_model_performance_if_better('regression', regression_params)"
   ]
  },
  {
   "cell_type": "markdown",
   "id": "19f863de",
   "metadata": {
    "papermill": {
     "duration": 0.030753,
     "end_time": "2025-08-08T06:57:22.212522",
     "exception": false,
     "start_time": "2025-08-08T06:57:22.181769",
     "status": "completed"
    },
    "tags": []
   },
   "source": [
    "#### Tuning with Grid Search"
   ]
  },
  {
   "cell_type": "code",
   "execution_count": 116,
   "id": "a0812087",
   "metadata": {
    "execution": {
     "iopub.execute_input": "2025-08-08T06:57:22.279489Z",
     "iopub.status.busy": "2025-08-08T06:57:22.278522Z",
     "iopub.status.idle": "2025-08-08T06:57:22.283149Z",
     "shell.execute_reply": "2025-08-08T06:57:22.282142Z"
    },
    "papermill": {
     "duration": 0.039458,
     "end_time": "2025-08-08T06:57:22.284791",
     "exception": false,
     "start_time": "2025-08-08T06:57:22.245333",
     "status": "completed"
    },
    "tags": []
   },
   "outputs": [],
   "source": [
    "grid_param_robust = [grid_param_minmax, grid_param_standard]"
   ]
  },
  {
   "cell_type": "code",
   "execution_count": 117,
   "id": "eb0b455d",
   "metadata": {
    "execution": {
     "iopub.execute_input": "2025-08-08T06:57:22.350973Z",
     "iopub.status.busy": "2025-08-08T06:57:22.350674Z",
     "iopub.status.idle": "2025-08-08T06:57:22.355665Z",
     "shell.execute_reply": "2025-08-08T06:57:22.354511Z"
    },
    "papermill": {
     "duration": 0.03862,
     "end_time": "2025-08-08T06:57:22.357370",
     "exception": false,
     "start_time": "2025-08-08T06:57:22.318750",
     "status": "completed"
    },
    "tags": []
   },
   "outputs": [],
   "source": [
    "grid_search = GridSearchCV(\n",
    "    SVR(), \n",
    "    grid_param_robust, \n",
    "    cv=5, \n",
    "    scoring='neg_mean_squared_error', \n",
    "    n_jobs=-1, # allow parallel processing, you cant use your own laptop while this runs\n",
    "    verbose=1\n",
    ")"
   ]
  },
  {
   "cell_type": "code",
   "execution_count": 118,
   "id": "ef69472e",
   "metadata": {
    "execution": {
     "iopub.execute_input": "2025-08-08T06:57:22.420823Z",
     "iopub.status.busy": "2025-08-08T06:57:22.419973Z",
     "iopub.status.idle": "2025-08-08T06:57:56.657899Z",
     "shell.execute_reply": "2025-08-08T06:57:56.656978Z"
    },
    "papermill": {
     "duration": 34.301581,
     "end_time": "2025-08-08T06:57:56.689964",
     "exception": false,
     "start_time": "2025-08-08T06:57:22.388383",
     "status": "completed"
    },
    "tags": []
   },
   "outputs": [
    {
     "name": "stdout",
     "output_type": "stream",
     "text": [
      "Starting hyperparameter tuning...\n",
      "Fitting 5 folds for each of 2 candidates, totalling 10 fits\n",
      "CPU times: user 7.07 s, sys: 80.1 ms, total: 7.15 s\n",
      "Wall time: 34.2 s\n"
     ]
    },
    {
     "data": {
      "text/html": [
       "<style>#sk-container-id-18 {color: black;background-color: white;}#sk-container-id-18 pre{padding: 0;}#sk-container-id-18 div.sk-toggleable {background-color: white;}#sk-container-id-18 label.sk-toggleable__label {cursor: pointer;display: block;width: 100%;margin-bottom: 0;padding: 0.3em;box-sizing: border-box;text-align: center;}#sk-container-id-18 label.sk-toggleable__label-arrow:before {content: \"▸\";float: left;margin-right: 0.25em;color: #696969;}#sk-container-id-18 label.sk-toggleable__label-arrow:hover:before {color: black;}#sk-container-id-18 div.sk-estimator:hover label.sk-toggleable__label-arrow:before {color: black;}#sk-container-id-18 div.sk-toggleable__content {max-height: 0;max-width: 0;overflow: hidden;text-align: left;background-color: #f0f8ff;}#sk-container-id-18 div.sk-toggleable__content pre {margin: 0.2em;color: black;border-radius: 0.25em;background-color: #f0f8ff;}#sk-container-id-18 input.sk-toggleable__control:checked~div.sk-toggleable__content {max-height: 200px;max-width: 100%;overflow: auto;}#sk-container-id-18 input.sk-toggleable__control:checked~label.sk-toggleable__label-arrow:before {content: \"▾\";}#sk-container-id-18 div.sk-estimator input.sk-toggleable__control:checked~label.sk-toggleable__label {background-color: #d4ebff;}#sk-container-id-18 div.sk-label input.sk-toggleable__control:checked~label.sk-toggleable__label {background-color: #d4ebff;}#sk-container-id-18 input.sk-hidden--visually {border: 0;clip: rect(1px 1px 1px 1px);clip: rect(1px, 1px, 1px, 1px);height: 1px;margin: -1px;overflow: hidden;padding: 0;position: absolute;width: 1px;}#sk-container-id-18 div.sk-estimator {font-family: monospace;background-color: #f0f8ff;border: 1px dotted black;border-radius: 0.25em;box-sizing: border-box;margin-bottom: 0.5em;}#sk-container-id-18 div.sk-estimator:hover {background-color: #d4ebff;}#sk-container-id-18 div.sk-parallel-item::after {content: \"\";width: 100%;border-bottom: 1px solid gray;flex-grow: 1;}#sk-container-id-18 div.sk-label:hover label.sk-toggleable__label {background-color: #d4ebff;}#sk-container-id-18 div.sk-serial::before {content: \"\";position: absolute;border-left: 1px solid gray;box-sizing: border-box;top: 0;bottom: 0;left: 50%;z-index: 0;}#sk-container-id-18 div.sk-serial {display: flex;flex-direction: column;align-items: center;background-color: white;padding-right: 0.2em;padding-left: 0.2em;position: relative;}#sk-container-id-18 div.sk-item {position: relative;z-index: 1;}#sk-container-id-18 div.sk-parallel {display: flex;align-items: stretch;justify-content: center;background-color: white;position: relative;}#sk-container-id-18 div.sk-item::before, #sk-container-id-18 div.sk-parallel-item::before {content: \"\";position: absolute;border-left: 1px solid gray;box-sizing: border-box;top: 0;bottom: 0;left: 50%;z-index: -1;}#sk-container-id-18 div.sk-parallel-item {display: flex;flex-direction: column;z-index: 1;position: relative;background-color: white;}#sk-container-id-18 div.sk-parallel-item:first-child::after {align-self: flex-end;width: 50%;}#sk-container-id-18 div.sk-parallel-item:last-child::after {align-self: flex-start;width: 50%;}#sk-container-id-18 div.sk-parallel-item:only-child::after {width: 0;}#sk-container-id-18 div.sk-dashed-wrapped {border: 1px dashed gray;margin: 0 0.4em 0.5em 0.4em;box-sizing: border-box;padding-bottom: 0.4em;background-color: white;}#sk-container-id-18 div.sk-label label {font-family: monospace;font-weight: bold;display: inline-block;line-height: 1.2em;}#sk-container-id-18 div.sk-label-container {text-align: center;}#sk-container-id-18 div.sk-container {/* jupyter's `normalize.less` sets `[hidden] { display: none; }` but bootstrap.min.css set `[hidden] { display: none !important; }` so we also need the `!important` here to be able to override the default hidden behavior on the sphinx rendered scikit-learn.org. See: https://github.com/scikit-learn/scikit-learn/issues/21755 */display: inline-block !important;position: relative;}#sk-container-id-18 div.sk-text-repr-fallback {display: none;}</style><div id=\"sk-container-id-18\" class=\"sk-top-container\"><div class=\"sk-text-repr-fallback\"><pre>GridSearchCV(cv=5, estimator=SVR(), n_jobs=-1,\n",
       "             param_grid=[{&#x27;C&#x27;: [10], &#x27;coef0&#x27;: [0.1], &#x27;epsilon&#x27;: [0.2],\n",
       "                          &#x27;gamma&#x27;: [&#x27;scale&#x27;], &#x27;kernel&#x27;: [&#x27;rbf&#x27;],\n",
       "                          &#x27;shrinking&#x27;: [True], &#x27;tol&#x27;: [0.0001]},\n",
       "                         {&#x27;C&#x27;: [10], &#x27;coef0&#x27;: [0.1], &#x27;epsilon&#x27;: [0.2],\n",
       "                          &#x27;gamma&#x27;: [&#x27;scale&#x27;], &#x27;kernel&#x27;: [&#x27;rbf&#x27;],\n",
       "                          &#x27;shrinking&#x27;: [True], &#x27;tol&#x27;: [0.0001]}],\n",
       "             scoring=&#x27;neg_mean_squared_error&#x27;, verbose=1)</pre><b>In a Jupyter environment, please rerun this cell to show the HTML representation or trust the notebook. <br />On GitHub, the HTML representation is unable to render, please try loading this page with nbviewer.org.</b></div><div class=\"sk-container\" hidden><div class=\"sk-item sk-dashed-wrapped\"><div class=\"sk-label-container\"><div class=\"sk-label sk-toggleable\"><input class=\"sk-toggleable__control sk-hidden--visually\" id=\"sk-estimator-id-28\" type=\"checkbox\" ><label for=\"sk-estimator-id-28\" class=\"sk-toggleable__label sk-toggleable__label-arrow\">GridSearchCV</label><div class=\"sk-toggleable__content\"><pre>GridSearchCV(cv=5, estimator=SVR(), n_jobs=-1,\n",
       "             param_grid=[{&#x27;C&#x27;: [10], &#x27;coef0&#x27;: [0.1], &#x27;epsilon&#x27;: [0.2],\n",
       "                          &#x27;gamma&#x27;: [&#x27;scale&#x27;], &#x27;kernel&#x27;: [&#x27;rbf&#x27;],\n",
       "                          &#x27;shrinking&#x27;: [True], &#x27;tol&#x27;: [0.0001]},\n",
       "                         {&#x27;C&#x27;: [10], &#x27;coef0&#x27;: [0.1], &#x27;epsilon&#x27;: [0.2],\n",
       "                          &#x27;gamma&#x27;: [&#x27;scale&#x27;], &#x27;kernel&#x27;: [&#x27;rbf&#x27;],\n",
       "                          &#x27;shrinking&#x27;: [True], &#x27;tol&#x27;: [0.0001]}],\n",
       "             scoring=&#x27;neg_mean_squared_error&#x27;, verbose=1)</pre></div></div></div><div class=\"sk-parallel\"><div class=\"sk-parallel-item\"><div class=\"sk-item\"><div class=\"sk-label-container\"><div class=\"sk-label sk-toggleable\"><input class=\"sk-toggleable__control sk-hidden--visually\" id=\"sk-estimator-id-29\" type=\"checkbox\" ><label for=\"sk-estimator-id-29\" class=\"sk-toggleable__label sk-toggleable__label-arrow\">estimator: SVR</label><div class=\"sk-toggleable__content\"><pre>SVR()</pre></div></div></div><div class=\"sk-serial\"><div class=\"sk-item\"><div class=\"sk-estimator sk-toggleable\"><input class=\"sk-toggleable__control sk-hidden--visually\" id=\"sk-estimator-id-30\" type=\"checkbox\" ><label for=\"sk-estimator-id-30\" class=\"sk-toggleable__label sk-toggleable__label-arrow\">SVR</label><div class=\"sk-toggleable__content\"><pre>SVR()</pre></div></div></div></div></div></div></div></div></div></div>"
      ],
      "text/plain": [
       "GridSearchCV(cv=5, estimator=SVR(), n_jobs=-1,\n",
       "             param_grid=[{'C': [10], 'coef0': [0.1], 'epsilon': [0.2],\n",
       "                          'gamma': ['scale'], 'kernel': ['rbf'],\n",
       "                          'shrinking': [True], 'tol': [0.0001]},\n",
       "                         {'C': [10], 'coef0': [0.1], 'epsilon': [0.2],\n",
       "                          'gamma': ['scale'], 'kernel': ['rbf'],\n",
       "                          'shrinking': [True], 'tol': [0.0001]}],\n",
       "             scoring='neg_mean_squared_error', verbose=1)"
      ]
     },
     "execution_count": 118,
     "metadata": {},
     "output_type": "execute_result"
    }
   ],
   "source": [
    "%%time\n",
    "print(\"Starting hyperparameter tuning...\")\n",
    "grid_search.fit(X_train, y_train)"
   ]
  },
  {
   "cell_type": "code",
   "execution_count": 119,
   "id": "3e23cab5",
   "metadata": {
    "execution": {
     "iopub.execute_input": "2025-08-08T06:57:56.754470Z",
     "iopub.status.busy": "2025-08-08T06:57:56.754156Z",
     "iopub.status.idle": "2025-08-08T06:57:56.761015Z",
     "shell.execute_reply": "2025-08-08T06:57:56.759716Z"
    },
    "papermill": {
     "duration": 0.041494,
     "end_time": "2025-08-08T06:57:56.762747",
     "exception": false,
     "start_time": "2025-08-08T06:57:56.721253",
     "status": "completed"
    },
    "tags": []
   },
   "outputs": [
    {
     "name": "stdout",
     "output_type": "stream",
     "text": [
      "TUNING RESULTS\n",
      "==================================================\n",
      "Best Parameters: {'C': 10, 'coef0': 0.1, 'epsilon': 0.2, 'gamma': 'scale', 'kernel': 'rbf', 'shrinking': True, 'tol': 0.0001}\n",
      "Best Cross-Validation Score (Negative MSE): -1.2782794852181876\n",
      "Best Cross-Validation Score (MSE): 1.2782794852181876\n",
      "Best Cross-Validation Score (RMSE): 1.130610226920926\n"
     ]
    }
   ],
   "source": [
    "print(\"TUNING RESULTS\")\n",
    "print(\"=\"*50)\n",
    "print(\"Best Parameters:\", grid_search.best_params_)\n",
    "print(\"Best Cross-Validation Score (Negative MSE):\", grid_search.best_score_)\n",
    "print(\"Best Cross-Validation Score (MSE):\", -grid_search.best_score_)\n",
    "print(\"Best Cross-Validation Score (RMSE):\", math.sqrt(-grid_search.best_score_))"
   ]
  },
  {
   "cell_type": "code",
   "execution_count": 120,
   "id": "94c8c8ae",
   "metadata": {
    "execution": {
     "iopub.execute_input": "2025-08-08T06:57:56.826314Z",
     "iopub.status.busy": "2025-08-08T06:57:56.825977Z",
     "iopub.status.idle": "2025-08-08T06:57:58.290497Z",
     "shell.execute_reply": "2025-08-08T06:57:58.289483Z"
    },
    "papermill": {
     "duration": 1.498433,
     "end_time": "2025-08-08T06:57:58.292376",
     "exception": false,
     "start_time": "2025-08-08T06:57:56.793943",
     "status": "completed"
    },
    "tags": []
   },
   "outputs": [],
   "source": [
    "grid_search_best_model = grid_search.best_estimator_\n",
    "y_pred = grid_search_best_model.predict(X_test)"
   ]
  },
  {
   "cell_type": "code",
   "execution_count": 121,
   "id": "e680811f",
   "metadata": {
    "execution": {
     "iopub.execute_input": "2025-08-08T06:57:58.356448Z",
     "iopub.status.busy": "2025-08-08T06:57:58.355536Z",
     "iopub.status.idle": "2025-08-08T06:57:58.364709Z",
     "shell.execute_reply": "2025-08-08T06:57:58.363677Z"
    },
    "papermill": {
     "duration": 0.043051,
     "end_time": "2025-08-08T06:57:58.366528",
     "exception": false,
     "start_time": "2025-08-08T06:57:58.323477",
     "status": "completed"
    },
    "tags": []
   },
   "outputs": [],
   "source": [
    "mse_grid_search = mean_squared_error(y_test, y_pred)\n",
    "mae_grid_search = mean_absolute_error(y_test, y_pred)\n",
    "r2_grid_search = r2_score(y_test, y_pred)\n",
    "rmse_grid_search = math.sqrt(mse_grid_search)"
   ]
  },
  {
   "cell_type": "code",
   "execution_count": 122,
   "id": "b373d7af",
   "metadata": {
    "execution": {
     "iopub.execute_input": "2025-08-08T06:57:58.430206Z",
     "iopub.status.busy": "2025-08-08T06:57:58.429366Z",
     "iopub.status.idle": "2025-08-08T06:57:58.434489Z",
     "shell.execute_reply": "2025-08-08T06:57:58.433505Z"
    },
    "papermill": {
     "duration": 0.038299,
     "end_time": "2025-08-08T06:57:58.436004",
     "exception": false,
     "start_time": "2025-08-08T06:57:58.397705",
     "status": "completed"
    },
    "tags": []
   },
   "outputs": [
    {
     "name": "stdout",
     "output_type": "stream",
     "text": [
      "MSE Score: 1.2806374166946992\n",
      "MAE Score: 0.4344450659531988\n",
      "R2 Score: 0.3437240168367768\n",
      "RMSE Score: 1.1316525158787476\n"
     ]
    }
   ],
   "source": [
    "print(\"MSE Score:\", mse_grid_search)\n",
    "print(\"MAE Score:\", mae_grid_search)\n",
    "print(\"R2 Score:\", r2_grid_search)\n",
    "print(\"RMSE Score:\", rmse_grid_search)"
   ]
  },
  {
   "cell_type": "code",
   "execution_count": 123,
   "id": "2a2a05cc",
   "metadata": {
    "execution": {
     "iopub.execute_input": "2025-08-08T06:57:58.500462Z",
     "iopub.status.busy": "2025-08-08T06:57:58.499547Z",
     "iopub.status.idle": "2025-08-08T06:57:58.510424Z",
     "shell.execute_reply": "2025-08-08T06:57:58.509584Z"
    },
    "papermill": {
     "duration": 0.044527,
     "end_time": "2025-08-08T06:57:58.512030",
     "exception": false,
     "start_time": "2025-08-08T06:57:58.467503",
     "status": "completed"
    },
    "tags": []
   },
   "outputs": [
    {
     "name": "stdout",
     "output_type": "stream",
     "text": [
      "❌ Regression model not improved:\n",
      "   Current MSE: 1.280637, Best MSE: 1.006369\n",
      "   Current R²: 0.343724, Best R²: 0.484276\n",
      "   Current Features: 24, Best Features: 27\n"
     ]
    }
   ],
   "source": [
    "regression_params = {\n",
    "    'model_name': model_name_for_saving + \" Tuned\",\n",
    "    'scaler_name': \"RobustScaler\",\n",
    "    'features_list': feature_columns_for_saving,\n",
    "    'target_column': target_name_for_saving,\n",
    "    'mse': mse_grid_search,\n",
    "    'mae': mae_grid_search,\n",
    "    'rmse': rmse_grid_search,\n",
    "    'r2': r2_grid_search,\n",
    "    'parameters' : json.dumps({\n",
    "        \"best_params\": grid_search.best_params_,\n",
    "        \"cv_score\": grid_search.best_score_,\n",
    "        \"all_params\": grid_search_best_model.get_params()\n",
    "    })\n",
    "}\n",
    "save_model_performance_if_better('regression', regression_params)"
   ]
  },
  {
   "cell_type": "markdown",
   "id": "56668a6e",
   "metadata": {
    "papermill": {
     "duration": 0.030917,
     "end_time": "2025-08-08T06:57:58.574270",
     "exception": false,
     "start_time": "2025-08-08T06:57:58.543353",
     "status": "completed"
    },
    "tags": []
   },
   "source": [
    "# All Performance"
   ]
  },
  {
   "cell_type": "code",
   "execution_count": 124,
   "id": "aa03cab7",
   "metadata": {
    "execution": {
     "iopub.execute_input": "2025-08-08T06:57:58.638354Z",
     "iopub.status.busy": "2025-08-08T06:57:58.638023Z",
     "iopub.status.idle": "2025-08-08T06:57:58.656564Z",
     "shell.execute_reply": "2025-08-08T06:57:58.655629Z"
    },
    "papermill": {
     "duration": 0.052244,
     "end_time": "2025-08-08T06:57:58.658151",
     "exception": false,
     "start_time": "2025-08-08T06:57:58.605907",
     "status": "completed"
    },
    "tags": []
   },
   "outputs": [
    {
     "name": "stdout",
     "output_type": "stream",
     "text": [
      "\n",
      "📊 REGRESSION Model Performance History\n",
      "====================================================================================================\n",
      "    Model         Scaler     Target  Features      MSE      MAE     RMSE       R²\n",
      "SVR Tuned   RobustScaler Visibility        27 1.006369 0.474030 1.003179 0.484276\n",
      "SVR Tuned StandardScaler Visibility        27 1.070932 0.479301 1.034858 0.451190\n",
      "SVR Tuned   MinMaxScaler Visibility        27 1.234929 0.399617 1.111274 0.367148\n",
      "      SVR StandardScaler Visibility        27 1.256469 0.405212 1.120923 0.356109\n",
      "      SVR   MinMaxScaler Visibility        27 1.261925 0.415441 1.123355 0.353313\n",
      "      SVR   RobustScaler Visibility        24 1.322341 0.457197 1.149931 0.322353\n",
      "\n",
      "📈 Total models shown: 6\n",
      "🏆 Best R² Score: 0.484276 (SVR Tuned + RobustScaler for Visibility)\n"
     ]
    }
   ],
   "source": [
    "show_model_history('regression', model_name=model_name_for_saving, target_column=target_name_for_saving)"
   ]
  },
  {
   "cell_type": "markdown",
   "id": "46defb91",
   "metadata": {
    "papermill": {
     "duration": 0.031185,
     "end_time": "2025-08-08T06:57:58.720860",
     "exception": false,
     "start_time": "2025-08-08T06:57:58.689675",
     "status": "completed"
    },
    "tags": []
   },
   "source": [
    "# <center><font size=\"50\" color=\"red\">Thank You</font></center>"
   ]
  }
 ],
 "metadata": {
  "kaggle": {
   "accelerator": "none",
   "dataSources": [
    {
     "datasetId": 7943485,
     "sourceId": 12698463,
     "sourceType": "datasetVersion"
    }
   ],
   "isGpuEnabled": false,
   "isInternetEnabled": true,
   "language": "python",
   "sourceType": "notebook"
  },
  "kernelspec": {
   "display_name": "Python 3",
   "language": "python",
   "name": "python3"
  },
  "language_info": {
   "codemirror_mode": {
    "name": "ipython",
    "version": 3
   },
   "file_extension": ".py",
   "mimetype": "text/x-python",
   "name": "python",
   "nbconvert_exporter": "python",
   "pygments_lexer": "ipython3",
   "version": "3.11.13"
  },
  "papermill": {
   "default_parameters": {},
   "duration": 43041.351447,
   "end_time": "2025-08-08T06:58:01.416404",
   "environment_variables": {},
   "exception": null,
   "input_path": "__notebook__.ipynb",
   "output_path": "__notebook__.ipynb",
   "parameters": {},
   "start_time": "2025-08-07T19:00:40.064957",
   "version": "2.6.0"
  }
 },
 "nbformat": 4,
 "nbformat_minor": 5
}
