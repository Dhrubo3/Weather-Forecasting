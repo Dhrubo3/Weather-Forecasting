{
 "cells": [
  {
   "cell_type": "markdown",
   "id": "77141228",
   "metadata": {
    "papermill": {
     "duration": 0.021589,
     "end_time": "2025-08-07T09:55:31.141685",
     "exception": false,
     "start_time": "2025-08-07T09:55:31.120096",
     "status": "completed"
    },
    "tags": []
   },
   "source": [
    "# <font color=\"red\">Solar Radiation Prediction with Random Forest Regressor</font>"
   ]
  },
  {
   "cell_type": "markdown",
   "id": "f8a983bb",
   "metadata": {
    "papermill": {
     "duration": 0.017732,
     "end_time": "2025-08-07T09:55:31.177568",
     "exception": false,
     "start_time": "2025-08-07T09:55:31.159836",
     "status": "completed"
    },
    "tags": []
   },
   "source": [
    "# Library Import"
   ]
  },
  {
   "cell_type": "code",
   "execution_count": 1,
   "id": "43360a9c",
   "metadata": {
    "execution": {
     "iopub.execute_input": "2025-08-07T09:55:31.215449Z",
     "iopub.status.busy": "2025-08-07T09:55:31.214331Z",
     "iopub.status.idle": "2025-08-07T09:55:34.889828Z",
     "shell.execute_reply": "2025-08-07T09:55:34.889046Z"
    },
    "papermill": {
     "duration": 3.695915,
     "end_time": "2025-08-07T09:55:34.891372",
     "exception": false,
     "start_time": "2025-08-07T09:55:31.195457",
     "status": "completed"
    },
    "tags": []
   },
   "outputs": [],
   "source": [
    "# Data manipulation and visualization\n",
    "import pandas as pd\n",
    "import math\n",
    "import json\n",
    "\n",
    "# Preprocessing\n",
    "from sklearn.model_selection import StratifiedShuffleSplit, RandomizedSearchCV\n",
    "from sklearn.preprocessing import MinMaxScaler, StandardScaler, RobustScaler\n",
    "from sklearn.metrics import r2_score, mean_squared_error, mean_absolute_error\n",
    "from sklearn.ensemble import RandomForestRegressor\n",
    "\n",
    "import sys\n",
    "# sys.path.append('../../') # Uncomment this line if running locally\n",
    "sys.path.append('/kaggle/input/weatherdata') # Uncomment this line if running on Kaggle\n",
    "from historyManagement import *\n",
    "\n",
    "# suppress warnings\n",
    "import warnings\n",
    "warnings.filterwarnings(\"ignore\")"
   ]
  },
  {
   "cell_type": "markdown",
   "id": "c94bded3",
   "metadata": {
    "papermill": {
     "duration": 0.017598,
     "end_time": "2025-08-07T09:55:34.926932",
     "exception": false,
     "start_time": "2025-08-07T09:55:34.909334",
     "status": "completed"
    },
    "tags": []
   },
   "source": [
    "# Datasets Import"
   ]
  },
  {
   "cell_type": "code",
   "execution_count": 2,
   "id": "7067e27d",
   "metadata": {
    "execution": {
     "iopub.execute_input": "2025-08-07T09:55:35.024917Z",
     "iopub.status.busy": "2025-08-07T09:55:35.024071Z",
     "iopub.status.idle": "2025-08-07T09:55:35.178111Z",
     "shell.execute_reply": "2025-08-07T09:55:35.177273Z"
    },
    "papermill": {
     "duration": 0.175207,
     "end_time": "2025-08-07T09:55:35.179664",
     "exception": false,
     "start_time": "2025-08-07T09:55:35.004457",
     "status": "completed"
    },
    "tags": []
   },
   "outputs": [
    {
     "data": {
      "text/html": [
       "<div>\n",
       "<style scoped>\n",
       "    .dataframe tbody tr th:only-of-type {\n",
       "        vertical-align: middle;\n",
       "    }\n",
       "\n",
       "    .dataframe tbody tr th {\n",
       "        vertical-align: top;\n",
       "    }\n",
       "\n",
       "    .dataframe thead th {\n",
       "        text-align: right;\n",
       "    }\n",
       "</style>\n",
       "<table border=\"1\" class=\"dataframe\">\n",
       "  <thead>\n",
       "    <tr style=\"text-align: right;\">\n",
       "      <th></th>\n",
       "      <th>DateTime</th>\n",
       "      <th>Year</th>\n",
       "      <th>Month</th>\n",
       "      <th>Day</th>\n",
       "      <th>Hour</th>\n",
       "      <th>DaySegments</th>\n",
       "      <th>DaySegments_Afternoon</th>\n",
       "      <th>DaySegments_Early Morning</th>\n",
       "      <th>DaySegments_Evening</th>\n",
       "      <th>DaySegments_Late Night</th>\n",
       "      <th>...</th>\n",
       "      <th>WindDir</th>\n",
       "      <th>SeaLevelPressure</th>\n",
       "      <th>CloudCover</th>\n",
       "      <th>UVIndex</th>\n",
       "      <th>SevereRisk</th>\n",
       "      <th>Visibility</th>\n",
       "      <th>SolarRadiation</th>\n",
       "      <th>SolarEnergy</th>\n",
       "      <th>Conditions</th>\n",
       "      <th>Icon</th>\n",
       "    </tr>\n",
       "  </thead>\n",
       "  <tbody>\n",
       "    <tr>\n",
       "      <th>0</th>\n",
       "      <td>2023-01-01 00:00:00</td>\n",
       "      <td>2023</td>\n",
       "      <td>1</td>\n",
       "      <td>1</td>\n",
       "      <td>0</td>\n",
       "      <td>Late Night</td>\n",
       "      <td>0</td>\n",
       "      <td>0</td>\n",
       "      <td>0</td>\n",
       "      <td>1</td>\n",
       "      <td>...</td>\n",
       "      <td>0.49</td>\n",
       "      <td>1018.68</td>\n",
       "      <td>0.03</td>\n",
       "      <td>0.0</td>\n",
       "      <td>10.0</td>\n",
       "      <td>2.76</td>\n",
       "      <td>0.0</td>\n",
       "      <td>0.0</td>\n",
       "      <td>Clear</td>\n",
       "      <td>clear-night</td>\n",
       "    </tr>\n",
       "    <tr>\n",
       "      <th>1</th>\n",
       "      <td>2023-01-01 01:00:00</td>\n",
       "      <td>2023</td>\n",
       "      <td>1</td>\n",
       "      <td>1</td>\n",
       "      <td>1</td>\n",
       "      <td>Late Night</td>\n",
       "      <td>0</td>\n",
       "      <td>0</td>\n",
       "      <td>0</td>\n",
       "      <td>1</td>\n",
       "      <td>...</td>\n",
       "      <td>0.54</td>\n",
       "      <td>1018.03</td>\n",
       "      <td>0.11</td>\n",
       "      <td>0.0</td>\n",
       "      <td>10.0</td>\n",
       "      <td>1.75</td>\n",
       "      <td>0.0</td>\n",
       "      <td>0.0</td>\n",
       "      <td>Clear</td>\n",
       "      <td>clear-night</td>\n",
       "    </tr>\n",
       "    <tr>\n",
       "      <th>2</th>\n",
       "      <td>2023-01-01 02:00:00</td>\n",
       "      <td>2023</td>\n",
       "      <td>1</td>\n",
       "      <td>1</td>\n",
       "      <td>2</td>\n",
       "      <td>Late Night</td>\n",
       "      <td>0</td>\n",
       "      <td>0</td>\n",
       "      <td>0</td>\n",
       "      <td>1</td>\n",
       "      <td>...</td>\n",
       "      <td>30.51</td>\n",
       "      <td>1017.56</td>\n",
       "      <td>0.03</td>\n",
       "      <td>0.0</td>\n",
       "      <td>10.0</td>\n",
       "      <td>1.75</td>\n",
       "      <td>0.0</td>\n",
       "      <td>0.0</td>\n",
       "      <td>Clear</td>\n",
       "      <td>clear-night</td>\n",
       "    </tr>\n",
       "    <tr>\n",
       "      <th>3</th>\n",
       "      <td>2023-01-01 03:00:00</td>\n",
       "      <td>2023</td>\n",
       "      <td>1</td>\n",
       "      <td>1</td>\n",
       "      <td>3</td>\n",
       "      <td>Late Night</td>\n",
       "      <td>0</td>\n",
       "      <td>0</td>\n",
       "      <td>0</td>\n",
       "      <td>1</td>\n",
       "      <td>...</td>\n",
       "      <td>49.23</td>\n",
       "      <td>1018.05</td>\n",
       "      <td>0.00</td>\n",
       "      <td>0.0</td>\n",
       "      <td>10.0</td>\n",
       "      <td>2.28</td>\n",
       "      <td>0.0</td>\n",
       "      <td>0.0</td>\n",
       "      <td>Clear</td>\n",
       "      <td>clear-night</td>\n",
       "    </tr>\n",
       "    <tr>\n",
       "      <th>4</th>\n",
       "      <td>2023-01-01 04:00:00</td>\n",
       "      <td>2023</td>\n",
       "      <td>1</td>\n",
       "      <td>1</td>\n",
       "      <td>4</td>\n",
       "      <td>Late Night</td>\n",
       "      <td>0</td>\n",
       "      <td>0</td>\n",
       "      <td>0</td>\n",
       "      <td>1</td>\n",
       "      <td>...</td>\n",
       "      <td>49.90</td>\n",
       "      <td>1018.00</td>\n",
       "      <td>86.17</td>\n",
       "      <td>0.0</td>\n",
       "      <td>10.0</td>\n",
       "      <td>1.27</td>\n",
       "      <td>0.0</td>\n",
       "      <td>0.0</td>\n",
       "      <td>Partially cloudy</td>\n",
       "      <td>fog</td>\n",
       "    </tr>\n",
       "  </tbody>\n",
       "</table>\n",
       "<p>5 rows × 36 columns</p>\n",
       "</div>"
      ],
      "text/plain": [
       "             DateTime  Year  Month  Day  Hour DaySegments  \\\n",
       "0 2023-01-01 00:00:00  2023      1    1     0  Late Night   \n",
       "1 2023-01-01 01:00:00  2023      1    1     1  Late Night   \n",
       "2 2023-01-01 02:00:00  2023      1    1     2  Late Night   \n",
       "3 2023-01-01 03:00:00  2023      1    1     3  Late Night   \n",
       "4 2023-01-01 04:00:00  2023      1    1     4  Late Night   \n",
       "\n",
       "   DaySegments_Afternoon  DaySegments_Early Morning  DaySegments_Evening  \\\n",
       "0                      0                          0                    0   \n",
       "1                      0                          0                    0   \n",
       "2                      0                          0                    0   \n",
       "3                      0                          0                    0   \n",
       "4                      0                          0                    0   \n",
       "\n",
       "   DaySegments_Late Night  ...  WindDir  SeaLevelPressure  CloudCover  \\\n",
       "0                       1  ...     0.49           1018.68        0.03   \n",
       "1                       1  ...     0.54           1018.03        0.11   \n",
       "2                       1  ...    30.51           1017.56        0.03   \n",
       "3                       1  ...    49.23           1018.05        0.00   \n",
       "4                       1  ...    49.90           1018.00       86.17   \n",
       "\n",
       "   UVIndex  SevereRisk  Visibility  SolarRadiation SolarEnergy  \\\n",
       "0      0.0        10.0        2.76             0.0         0.0   \n",
       "1      0.0        10.0        1.75             0.0         0.0   \n",
       "2      0.0        10.0        1.75             0.0         0.0   \n",
       "3      0.0        10.0        2.28             0.0         0.0   \n",
       "4      0.0        10.0        1.27             0.0         0.0   \n",
       "\n",
       "         Conditions         Icon  \n",
       "0             Clear  clear-night  \n",
       "1             Clear  clear-night  \n",
       "2             Clear  clear-night  \n",
       "3             Clear  clear-night  \n",
       "4  Partially cloudy          fog  \n",
       "\n",
       "[5 rows x 36 columns]"
      ]
     },
     "execution_count": 2,
     "metadata": {},
     "output_type": "execute_result"
    }
   ],
   "source": [
    "# Load the weather dataset for visibility prediction\n",
    "# weather_data = pd.read_csv('../../FinalDatasets/finalDataset.csv') # Uncomment this line if running locally\n",
    "weather_data = pd.read_csv('/kaggle/input/weatherdata/finalDataset.csv') # Uncomment this line if running on Kaggle\n",
    "weather_data['DateTime'] = pd.to_datetime(weather_data['DateTime'])\n",
    "weather_data.head()"
   ]
  },
  {
   "cell_type": "code",
   "execution_count": 3,
   "id": "3286dfb0",
   "metadata": {
    "execution": {
     "iopub.execute_input": "2025-08-07T09:55:35.218340Z",
     "iopub.status.busy": "2025-08-07T09:55:35.218017Z",
     "iopub.status.idle": "2025-08-07T09:55:35.241593Z",
     "shell.execute_reply": "2025-08-07T09:55:35.240512Z"
    },
    "papermill": {
     "duration": 0.044786,
     "end_time": "2025-08-07T09:55:35.243207",
     "exception": false,
     "start_time": "2025-08-07T09:55:35.198421",
     "status": "completed"
    },
    "tags": []
   },
   "outputs": [
    {
     "name": "stdout",
     "output_type": "stream",
     "text": [
      "<class 'pandas.core.frame.DataFrame'>\n",
      "RangeIndex: 14616 entries, 0 to 14615\n",
      "Data columns (total 36 columns):\n",
      " #   Column                     Non-Null Count  Dtype         \n",
      "---  ------                     --------------  -----         \n",
      " 0   DateTime                   14616 non-null  datetime64[ns]\n",
      " 1   Year                       14616 non-null  int64         \n",
      " 2   Month                      14616 non-null  int64         \n",
      " 3   Day                        14616 non-null  int64         \n",
      " 4   Hour                       14616 non-null  int64         \n",
      " 5   DaySegments                14616 non-null  object        \n",
      " 6   DaySegments_Afternoon      14616 non-null  int64         \n",
      " 7   DaySegments_Early Morning  14616 non-null  int64         \n",
      " 8   DaySegments_Evening        14616 non-null  int64         \n",
      " 9   DaySegments_Late Night     14616 non-null  int64         \n",
      " 10  DaySegments_Midday         14616 non-null  int64         \n",
      " 11  DaySegments_Morning        14616 non-null  int64         \n",
      " 12  DaySegments_Night          14616 non-null  int64         \n",
      " 13  Season_Autumn              14616 non-null  int64         \n",
      " 14  Season_Rainy               14616 non-null  int64         \n",
      " 15  Season_Summer              14616 non-null  int64         \n",
      " 16  Season_Winter              14616 non-null  int64         \n",
      " 17  Season                     14616 non-null  object        \n",
      " 18  Temp                       14616 non-null  float64       \n",
      " 19  FeelsLike                  14616 non-null  float64       \n",
      " 20  Dew                        14616 non-null  float64       \n",
      " 21  Humidity                   14616 non-null  float64       \n",
      " 22  Precip                     14616 non-null  float64       \n",
      " 23  PrecipProb                 14616 non-null  float64       \n",
      " 24  Windgust                   14616 non-null  float64       \n",
      " 25  WindSpeed                  14616 non-null  float64       \n",
      " 26  WindDir                    14616 non-null  float64       \n",
      " 27  SeaLevelPressure           14616 non-null  float64       \n",
      " 28  CloudCover                 14616 non-null  float64       \n",
      " 29  UVIndex                    14616 non-null  float64       \n",
      " 30  SevereRisk                 14616 non-null  float64       \n",
      " 31  Visibility                 14616 non-null  float64       \n",
      " 32  SolarRadiation             14616 non-null  float64       \n",
      " 33  SolarEnergy                14616 non-null  float64       \n",
      " 34  Conditions                 14616 non-null  object        \n",
      " 35  Icon                       14616 non-null  object        \n",
      "dtypes: datetime64[ns](1), float64(16), int64(15), object(4)\n",
      "memory usage: 4.0+ MB\n"
     ]
    }
   ],
   "source": [
    "weather_data.info()"
   ]
  },
  {
   "cell_type": "code",
   "execution_count": 4,
   "id": "a71927ff",
   "metadata": {
    "execution": {
     "iopub.execute_input": "2025-08-07T09:55:35.281528Z",
     "iopub.status.busy": "2025-08-07T09:55:35.281197Z",
     "iopub.status.idle": "2025-08-07T09:55:35.364304Z",
     "shell.execute_reply": "2025-08-07T09:55:35.363401Z"
    },
    "papermill": {
     "duration": 0.103752,
     "end_time": "2025-08-07T09:55:35.365803",
     "exception": false,
     "start_time": "2025-08-07T09:55:35.262051",
     "status": "completed"
    },
    "tags": []
   },
   "outputs": [
    {
     "data": {
      "text/html": [
       "<div>\n",
       "<style scoped>\n",
       "    .dataframe tbody tr th:only-of-type {\n",
       "        vertical-align: middle;\n",
       "    }\n",
       "\n",
       "    .dataframe tbody tr th {\n",
       "        vertical-align: top;\n",
       "    }\n",
       "\n",
       "    .dataframe thead th {\n",
       "        text-align: right;\n",
       "    }\n",
       "</style>\n",
       "<table border=\"1\" class=\"dataframe\">\n",
       "  <thead>\n",
       "    <tr style=\"text-align: right;\">\n",
       "      <th></th>\n",
       "      <th>DateTime</th>\n",
       "      <th>Year</th>\n",
       "      <th>Month</th>\n",
       "      <th>Day</th>\n",
       "      <th>Hour</th>\n",
       "      <th>DaySegments_Afternoon</th>\n",
       "      <th>DaySegments_Early Morning</th>\n",
       "      <th>DaySegments_Evening</th>\n",
       "      <th>DaySegments_Late Night</th>\n",
       "      <th>DaySegments_Midday</th>\n",
       "      <th>...</th>\n",
       "      <th>Windgust</th>\n",
       "      <th>WindSpeed</th>\n",
       "      <th>WindDir</th>\n",
       "      <th>SeaLevelPressure</th>\n",
       "      <th>CloudCover</th>\n",
       "      <th>UVIndex</th>\n",
       "      <th>SevereRisk</th>\n",
       "      <th>Visibility</th>\n",
       "      <th>SolarRadiation</th>\n",
       "      <th>SolarEnergy</th>\n",
       "    </tr>\n",
       "  </thead>\n",
       "  <tbody>\n",
       "    <tr>\n",
       "      <th>count</th>\n",
       "      <td>14616</td>\n",
       "      <td>14616.000000</td>\n",
       "      <td>14616.000000</td>\n",
       "      <td>14616.000000</td>\n",
       "      <td>14616.000000</td>\n",
       "      <td>14616.000000</td>\n",
       "      <td>14616.000000</td>\n",
       "      <td>14616.000000</td>\n",
       "      <td>14616.000000</td>\n",
       "      <td>14616.000000</td>\n",
       "      <td>...</td>\n",
       "      <td>14616.000000</td>\n",
       "      <td>14616.000000</td>\n",
       "      <td>14616.000000</td>\n",
       "      <td>14616.000000</td>\n",
       "      <td>14616.000000</td>\n",
       "      <td>14616.000000</td>\n",
       "      <td>14616.000000</td>\n",
       "      <td>14616.000000</td>\n",
       "      <td>14616.000000</td>\n",
       "      <td>14616.000000</td>\n",
       "    </tr>\n",
       "    <tr>\n",
       "      <th>mean</th>\n",
       "      <td>2023-11-01 11:30:00</td>\n",
       "      <td>2023.400657</td>\n",
       "      <td>5.720854</td>\n",
       "      <td>15.735632</td>\n",
       "      <td>11.500000</td>\n",
       "      <td>0.131294</td>\n",
       "      <td>0.060550</td>\n",
       "      <td>0.098043</td>\n",
       "      <td>0.249726</td>\n",
       "      <td>0.116585</td>\n",
       "      <td>...</td>\n",
       "      <td>17.068560</td>\n",
       "      <td>8.090783</td>\n",
       "      <td>159.739178</td>\n",
       "      <td>1008.265012</td>\n",
       "      <td>53.579923</td>\n",
       "      <td>2.263555</td>\n",
       "      <td>16.504787</td>\n",
       "      <td>4.368134</td>\n",
       "      <td>227.640683</td>\n",
       "      <td>0.819217</td>\n",
       "    </tr>\n",
       "    <tr>\n",
       "      <th>min</th>\n",
       "      <td>2023-01-01 00:00:00</td>\n",
       "      <td>2023.000000</td>\n",
       "      <td>1.000000</td>\n",
       "      <td>1.000000</td>\n",
       "      <td>0.000000</td>\n",
       "      <td>0.000000</td>\n",
       "      <td>0.000000</td>\n",
       "      <td>0.000000</td>\n",
       "      <td>0.000000</td>\n",
       "      <td>0.000000</td>\n",
       "      <td>...</td>\n",
       "      <td>0.660000</td>\n",
       "      <td>0.000000</td>\n",
       "      <td>0.000000</td>\n",
       "      <td>982.420000</td>\n",
       "      <td>0.000000</td>\n",
       "      <td>0.000000</td>\n",
       "      <td>3.000000</td>\n",
       "      <td>0.000000</td>\n",
       "      <td>0.000000</td>\n",
       "      <td>0.000000</td>\n",
       "    </tr>\n",
       "    <tr>\n",
       "      <th>25%</th>\n",
       "      <td>2023-06-02 05:45:00</td>\n",
       "      <td>2023.000000</td>\n",
       "      <td>3.000000</td>\n",
       "      <td>8.000000</td>\n",
       "      <td>5.750000</td>\n",
       "      <td>0.000000</td>\n",
       "      <td>0.000000</td>\n",
       "      <td>0.000000</td>\n",
       "      <td>0.000000</td>\n",
       "      <td>0.000000</td>\n",
       "      <td>...</td>\n",
       "      <td>9.170000</td>\n",
       "      <td>2.870000</td>\n",
       "      <td>80.965000</td>\n",
       "      <td>1003.277500</td>\n",
       "      <td>26.670000</td>\n",
       "      <td>0.000000</td>\n",
       "      <td>10.000000</td>\n",
       "      <td>3.990000</td>\n",
       "      <td>0.000000</td>\n",
       "      <td>0.000000</td>\n",
       "    </tr>\n",
       "    <tr>\n",
       "      <th>50%</th>\n",
       "      <td>2023-11-01 11:30:00</td>\n",
       "      <td>2023.000000</td>\n",
       "      <td>6.000000</td>\n",
       "      <td>16.000000</td>\n",
       "      <td>11.500000</td>\n",
       "      <td>0.000000</td>\n",
       "      <td>0.000000</td>\n",
       "      <td>0.000000</td>\n",
       "      <td>0.000000</td>\n",
       "      <td>0.000000</td>\n",
       "      <td>...</td>\n",
       "      <td>14.645000</td>\n",
       "      <td>7.670000</td>\n",
       "      <td>163.790000</td>\n",
       "      <td>1007.970000</td>\n",
       "      <td>51.540000</td>\n",
       "      <td>0.000000</td>\n",
       "      <td>10.000000</td>\n",
       "      <td>4.650000</td>\n",
       "      <td>10.665000</td>\n",
       "      <td>0.010000</td>\n",
       "    </tr>\n",
       "    <tr>\n",
       "      <th>75%</th>\n",
       "      <td>2024-04-01 17:15:00</td>\n",
       "      <td>2024.000000</td>\n",
       "      <td>8.000000</td>\n",
       "      <td>23.000000</td>\n",
       "      <td>17.250000</td>\n",
       "      <td>0.000000</td>\n",
       "      <td>0.000000</td>\n",
       "      <td>0.000000</td>\n",
       "      <td>0.000000</td>\n",
       "      <td>0.000000</td>\n",
       "      <td>...</td>\n",
       "      <td>23.410000</td>\n",
       "      <td>11.750000</td>\n",
       "      <td>241.402500</td>\n",
       "      <td>1013.400000</td>\n",
       "      <td>87.790000</td>\n",
       "      <td>4.740000</td>\n",
       "      <td>12.580000</td>\n",
       "      <td>4.650000</td>\n",
       "      <td>459.745000</td>\n",
       "      <td>1.660000</td>\n",
       "    </tr>\n",
       "    <tr>\n",
       "      <th>max</th>\n",
       "      <td>2024-08-31 23:00:00</td>\n",
       "      <td>2024.000000</td>\n",
       "      <td>12.000000</td>\n",
       "      <td>31.000000</td>\n",
       "      <td>23.000000</td>\n",
       "      <td>1.000000</td>\n",
       "      <td>1.000000</td>\n",
       "      <td>1.000000</td>\n",
       "      <td>1.000000</td>\n",
       "      <td>1.000000</td>\n",
       "      <td>...</td>\n",
       "      <td>84.120000</td>\n",
       "      <td>71.970000</td>\n",
       "      <td>360.000000</td>\n",
       "      <td>1022.060000</td>\n",
       "      <td>100.000000</td>\n",
       "      <td>10.000000</td>\n",
       "      <td>97.740000</td>\n",
       "      <td>24.100000</td>\n",
       "      <td>1026.650000</td>\n",
       "      <td>3.700000</td>\n",
       "    </tr>\n",
       "    <tr>\n",
       "      <th>std</th>\n",
       "      <td>NaN</td>\n",
       "      <td>0.490048</td>\n",
       "      <td>3.195073</td>\n",
       "      <td>8.803610</td>\n",
       "      <td>6.922423</td>\n",
       "      <td>0.337734</td>\n",
       "      <td>0.238511</td>\n",
       "      <td>0.297383</td>\n",
       "      <td>0.432869</td>\n",
       "      <td>0.320936</td>\n",
       "      <td>...</td>\n",
       "      <td>10.195911</td>\n",
       "      <td>6.250203</td>\n",
       "      <td>104.422027</td>\n",
       "      <td>6.010683</td>\n",
       "      <td>35.166637</td>\n",
       "      <td>3.083074</td>\n",
       "      <td>15.031827</td>\n",
       "      <td>1.376994</td>\n",
       "      <td>307.219387</td>\n",
       "      <td>1.106444</td>\n",
       "    </tr>\n",
       "  </tbody>\n",
       "</table>\n",
       "<p>8 rows × 32 columns</p>\n",
       "</div>"
      ],
      "text/plain": [
       "                  DateTime          Year         Month           Day  \\\n",
       "count                14616  14616.000000  14616.000000  14616.000000   \n",
       "mean   2023-11-01 11:30:00   2023.400657      5.720854     15.735632   \n",
       "min    2023-01-01 00:00:00   2023.000000      1.000000      1.000000   \n",
       "25%    2023-06-02 05:45:00   2023.000000      3.000000      8.000000   \n",
       "50%    2023-11-01 11:30:00   2023.000000      6.000000     16.000000   \n",
       "75%    2024-04-01 17:15:00   2024.000000      8.000000     23.000000   \n",
       "max    2024-08-31 23:00:00   2024.000000     12.000000     31.000000   \n",
       "std                    NaN      0.490048      3.195073      8.803610   \n",
       "\n",
       "               Hour  DaySegments_Afternoon  DaySegments_Early Morning  \\\n",
       "count  14616.000000           14616.000000               14616.000000   \n",
       "mean      11.500000               0.131294                   0.060550   \n",
       "min        0.000000               0.000000                   0.000000   \n",
       "25%        5.750000               0.000000                   0.000000   \n",
       "50%       11.500000               0.000000                   0.000000   \n",
       "75%       17.250000               0.000000                   0.000000   \n",
       "max       23.000000               1.000000                   1.000000   \n",
       "std        6.922423               0.337734                   0.238511   \n",
       "\n",
       "       DaySegments_Evening  DaySegments_Late Night  DaySegments_Midday  ...  \\\n",
       "count         14616.000000            14616.000000        14616.000000  ...   \n",
       "mean              0.098043                0.249726            0.116585  ...   \n",
       "min               0.000000                0.000000            0.000000  ...   \n",
       "25%               0.000000                0.000000            0.000000  ...   \n",
       "50%               0.000000                0.000000            0.000000  ...   \n",
       "75%               0.000000                0.000000            0.000000  ...   \n",
       "max               1.000000                1.000000            1.000000  ...   \n",
       "std               0.297383                0.432869            0.320936  ...   \n",
       "\n",
       "           Windgust     WindSpeed       WindDir  SeaLevelPressure  \\\n",
       "count  14616.000000  14616.000000  14616.000000      14616.000000   \n",
       "mean      17.068560      8.090783    159.739178       1008.265012   \n",
       "min        0.660000      0.000000      0.000000        982.420000   \n",
       "25%        9.170000      2.870000     80.965000       1003.277500   \n",
       "50%       14.645000      7.670000    163.790000       1007.970000   \n",
       "75%       23.410000     11.750000    241.402500       1013.400000   \n",
       "max       84.120000     71.970000    360.000000       1022.060000   \n",
       "std       10.195911      6.250203    104.422027          6.010683   \n",
       "\n",
       "         CloudCover       UVIndex    SevereRisk    Visibility  SolarRadiation  \\\n",
       "count  14616.000000  14616.000000  14616.000000  14616.000000    14616.000000   \n",
       "mean      53.579923      2.263555     16.504787      4.368134      227.640683   \n",
       "min        0.000000      0.000000      3.000000      0.000000        0.000000   \n",
       "25%       26.670000      0.000000     10.000000      3.990000        0.000000   \n",
       "50%       51.540000      0.000000     10.000000      4.650000       10.665000   \n",
       "75%       87.790000      4.740000     12.580000      4.650000      459.745000   \n",
       "max      100.000000     10.000000     97.740000     24.100000     1026.650000   \n",
       "std       35.166637      3.083074     15.031827      1.376994      307.219387   \n",
       "\n",
       "        SolarEnergy  \n",
       "count  14616.000000  \n",
       "mean       0.819217  \n",
       "min        0.000000  \n",
       "25%        0.000000  \n",
       "50%        0.010000  \n",
       "75%        1.660000  \n",
       "max        3.700000  \n",
       "std        1.106444  \n",
       "\n",
       "[8 rows x 32 columns]"
      ]
     },
     "execution_count": 4,
     "metadata": {},
     "output_type": "execute_result"
    }
   ],
   "source": [
    "weather_data.describe()"
   ]
  },
  {
   "cell_type": "markdown",
   "id": "17cfca13",
   "metadata": {
    "papermill": {
     "duration": 0.018684,
     "end_time": "2025-08-07T09:55:35.403458",
     "exception": false,
     "start_time": "2025-08-07T09:55:35.384774",
     "status": "completed"
    },
    "tags": []
   },
   "source": [
    "# Data Split"
   ]
  },
  {
   "cell_type": "code",
   "execution_count": 5,
   "id": "33161e83",
   "metadata": {
    "execution": {
     "iopub.execute_input": "2025-08-07T09:55:35.442720Z",
     "iopub.status.busy": "2025-08-07T09:55:35.441940Z",
     "iopub.status.idle": "2025-08-07T09:55:35.462910Z",
     "shell.execute_reply": "2025-08-07T09:55:35.462038Z"
    },
    "papermill": {
     "duration": 0.04237,
     "end_time": "2025-08-07T09:55:35.464576",
     "exception": false,
     "start_time": "2025-08-07T09:55:35.422206",
     "status": "completed"
    },
    "tags": []
   },
   "outputs": [],
   "source": [
    "sss = StratifiedShuffleSplit(n_splits=1, test_size=0.20, random_state=42)\n",
    "for train_idx, test_idx in sss.split(weather_data, weather_data['DaySegments']):\n",
    "    weather_data_train = weather_data.iloc[train_idx]\n",
    "    weather_data_test = weather_data.iloc[test_idx]"
   ]
  },
  {
   "cell_type": "code",
   "execution_count": 6,
   "id": "b27d9ddc",
   "metadata": {
    "execution": {
     "iopub.execute_input": "2025-08-07T09:55:35.505346Z",
     "iopub.status.busy": "2025-08-07T09:55:35.505026Z",
     "iopub.status.idle": "2025-08-07T09:55:35.514128Z",
     "shell.execute_reply": "2025-08-07T09:55:35.513126Z"
    },
    "papermill": {
     "duration": 0.030933,
     "end_time": "2025-08-07T09:55:35.515527",
     "exception": false,
     "start_time": "2025-08-07T09:55:35.484594",
     "status": "completed"
    },
    "tags": []
   },
   "outputs": [
    {
     "name": "stdout",
     "output_type": "stream",
     "text": [
      "Distribution of data based on DaySegments:\n",
      "     DaySegments  Count\n",
      "0     Late Night   3650\n",
      "1        Morning   3504\n",
      "2      Afternoon   1919\n",
      "3         Midday   1704\n",
      "4          Night   1521\n",
      "5        Evening   1433\n",
      "6  Early Morning    885\n"
     ]
    }
   ],
   "source": [
    "# Show the count of each unique class in DaySegments\n",
    "class_counts = weather_data['DaySegments'].value_counts().reset_index()\n",
    "class_counts.columns = ['DaySegments', 'Count']\n",
    "\n",
    "print(\"Distribution of data based on DaySegments:\")\n",
    "print(class_counts)"
   ]
  },
  {
   "cell_type": "code",
   "execution_count": 7,
   "id": "04b451a5",
   "metadata": {
    "execution": {
     "iopub.execute_input": "2025-08-07T09:55:35.555057Z",
     "iopub.status.busy": "2025-08-07T09:55:35.554500Z",
     "iopub.status.idle": "2025-08-07T09:55:35.562809Z",
     "shell.execute_reply": "2025-08-07T09:55:35.561752Z"
    },
    "papermill": {
     "duration": 0.029718,
     "end_time": "2025-08-07T09:55:35.564139",
     "exception": false,
     "start_time": "2025-08-07T09:55:35.534421",
     "status": "completed"
    },
    "tags": []
   },
   "outputs": [
    {
     "name": "stdout",
     "output_type": "stream",
     "text": [
      "Distribution of DaySegments in Training Set:\n",
      "DaySegments\n",
      "Late Night       2920\n",
      "Morning          2803\n",
      "Afternoon        1535\n",
      "Midday           1363\n",
      "Night            1217\n",
      "Evening          1146\n",
      "Early Morning     708\n",
      "Name: count, dtype: int64\n",
      "\n",
      "Distribution of DaySegments in Test Set:\n",
      "DaySegments\n",
      "Late Night       730\n",
      "Morning          701\n",
      "Afternoon        384\n",
      "Midday           341\n",
      "Night            304\n",
      "Evening          287\n",
      "Early Morning    177\n",
      "Name: count, dtype: int64\n"
     ]
    }
   ],
   "source": [
    "print(\"Distribution of DaySegments in Training Set:\")\n",
    "print(weather_data_train['DaySegments'].value_counts())\n",
    "\n",
    "print(\"\\nDistribution of DaySegments in Test Set:\")\n",
    "print(weather_data_test['DaySegments'].value_counts())"
   ]
  },
  {
   "cell_type": "markdown",
   "id": "a736d18e",
   "metadata": {
    "papermill": {
     "duration": 0.018987,
     "end_time": "2025-08-07T09:55:35.602198",
     "exception": false,
     "start_time": "2025-08-07T09:55:35.583211",
     "status": "completed"
    },
    "tags": []
   },
   "source": [
    "# Some Reused Parameters"
   ]
  },
  {
   "cell_type": "code",
   "execution_count": 8,
   "id": "cb26510b",
   "metadata": {
    "execution": {
     "iopub.execute_input": "2025-08-07T09:55:35.640845Z",
     "iopub.status.busy": "2025-08-07T09:55:35.640219Z",
     "iopub.status.idle": "2025-08-07T09:55:35.646163Z",
     "shell.execute_reply": "2025-08-07T09:55:35.645440Z"
    },
    "papermill": {
     "duration": 0.026747,
     "end_time": "2025-08-07T09:55:35.647586",
     "exception": false,
     "start_time": "2025-08-07T09:55:35.620839",
     "status": "completed"
    },
    "tags": []
   },
   "outputs": [],
   "source": [
    "# For bootstrap=True cases\n",
    "bootstrap_true_params = {\n",
    "    'n_estimators': [100, 200, 300],\n",
    "    'max_depth': [None, 10, 20, 30],\n",
    "    'min_samples_split': [2, 5, 10, 15, 20],\n",
    "    'min_samples_leaf': [1, 2, 4, 6],\n",
    "    'max_features': ['sqrt', 'log2', None],\n",
    "    'bootstrap': [True],\n",
    "    'max_samples': [None, 0.8, 0.9],\n",
    "    'min_impurity_decrease': [0.0, 0.01, 0.02]\n",
    "}\n",
    "\n",
    "# For bootstrap=False cases  \n",
    "bootstrap_false_params = {\n",
    "    'n_estimators': [100, 200, 300],\n",
    "    'max_depth': [None, 10, 20, 30],\n",
    "    'min_samples_split': [2, 5, 10, 15, 20],\n",
    "    'min_samples_leaf': [1, 2, 4, 6],\n",
    "    'max_features': ['sqrt', 'log2', None],\n",
    "    'bootstrap': [False],\n",
    "    'min_impurity_decrease': [0.0, 0.01, 0.02]\n",
    "}\n",
    "\n",
    "grid_param = [bootstrap_true_params, bootstrap_false_params]"
   ]
  },
  {
   "cell_type": "code",
   "execution_count": 9,
   "id": "4aec9661",
   "metadata": {
    "execution": {
     "iopub.execute_input": "2025-08-07T09:55:35.688064Z",
     "iopub.status.busy": "2025-08-07T09:55:35.687763Z",
     "iopub.status.idle": "2025-08-07T09:55:35.692145Z",
     "shell.execute_reply": "2025-08-07T09:55:35.691276Z"
    },
    "papermill": {
     "duration": 0.026369,
     "end_time": "2025-08-07T09:55:35.693622",
     "exception": false,
     "start_time": "2025-08-07T09:55:35.667253",
     "status": "completed"
    },
    "tags": []
   },
   "outputs": [],
   "source": [
    "number_of_model_for_randomized_grid = 510 # Estimated run time 10 hours\n",
    "model_name_for_saving = \"Random Forest\"\n",
    "target_name_for_saving = \"SolarRadiation\""
   ]
  },
  {
   "cell_type": "markdown",
   "id": "6355871b",
   "metadata": {
    "papermill": {
     "duration": 0.018506,
     "end_time": "2025-08-07T09:55:35.731198",
     "exception": false,
     "start_time": "2025-08-07T09:55:35.712692",
     "status": "completed"
    },
    "tags": []
   },
   "source": [
    "# All Features"
   ]
  },
  {
   "cell_type": "code",
   "execution_count": 10,
   "id": "05c39b46",
   "metadata": {
    "execution": {
     "iopub.execute_input": "2025-08-07T09:55:35.770211Z",
     "iopub.status.busy": "2025-08-07T09:55:35.769422Z",
     "iopub.status.idle": "2025-08-07T09:55:35.775328Z",
     "shell.execute_reply": "2025-08-07T09:55:35.774599Z"
    },
    "papermill": {
     "duration": 0.027013,
     "end_time": "2025-08-07T09:55:35.776791",
     "exception": false,
     "start_time": "2025-08-07T09:55:35.749778",
     "status": "completed"
    },
    "tags": []
   },
   "outputs": [],
   "source": [
    "X_train_raw = weather_data_train.drop(columns=['DateTime', # Model cannot use DateTime as a feature\n",
    "                                                'Year', # No Effect on weather data\n",
    "                                                'Season', # Season is categorical, not numerical\n",
    "                                                'DaySegments', # DaySegments is categorical, not numerical\n",
    "                                                'Visibility',  # Target variable\n",
    "                                                'SolarRadiation', # Target variable\n",
    "                                                'SolarEnergy', # Target variable\n",
    "                                                'Conditions', # Target variable\n",
    "                                                'Icon']) # Target variable\n",
    "y_train = weather_data_train['SolarRadiation']"
   ]
  },
  {
   "cell_type": "code",
   "execution_count": 11,
   "id": "b831589c",
   "metadata": {
    "execution": {
     "iopub.execute_input": "2025-08-07T09:55:35.816990Z",
     "iopub.status.busy": "2025-08-07T09:55:35.816663Z",
     "iopub.status.idle": "2025-08-07T09:55:35.822668Z",
     "shell.execute_reply": "2025-08-07T09:55:35.821963Z"
    },
    "papermill": {
     "duration": 0.027666,
     "end_time": "2025-08-07T09:55:35.823979",
     "exception": false,
     "start_time": "2025-08-07T09:55:35.796313",
     "status": "completed"
    },
    "tags": []
   },
   "outputs": [],
   "source": [
    "X_test_raw = weather_data_test.drop(columns=['DateTime', # Model cannot use DateTime as a feature\n",
    "                                                'Year', # No Effect on weather data\n",
    "                                                'Season', # Season is categorical, not numerical\n",
    "                                                'DaySegments', # DaySegments is categorical, not numerical\n",
    "                                                'Visibility',  # Target variable\n",
    "                                                'SolarRadiation', # Target variable\n",
    "                                                'SolarEnergy', # Target variable\n",
    "                                                'Conditions', # Target variable\n",
    "                                                'Icon']) # Target variable\n",
    "y_test = weather_data_test['SolarRadiation']"
   ]
  },
  {
   "cell_type": "code",
   "execution_count": 12,
   "id": "30eb1394",
   "metadata": {
    "execution": {
     "iopub.execute_input": "2025-08-07T09:55:35.863122Z",
     "iopub.status.busy": "2025-08-07T09:55:35.862832Z",
     "iopub.status.idle": "2025-08-07T09:55:35.866906Z",
     "shell.execute_reply": "2025-08-07T09:55:35.866219Z"
    },
    "papermill": {
     "duration": 0.025134,
     "end_time": "2025-08-07T09:55:35.868221",
     "exception": false,
     "start_time": "2025-08-07T09:55:35.843087",
     "status": "completed"
    },
    "tags": []
   },
   "outputs": [],
   "source": [
    "feature_columns = [col for col in X_train_raw.columns]\n",
    "feature_columns_for_saving = ','.join(feature_columns)"
   ]
  },
  {
   "cell_type": "code",
   "execution_count": 13,
   "id": "37f77747",
   "metadata": {
    "execution": {
     "iopub.execute_input": "2025-08-07T09:55:35.907271Z",
     "iopub.status.busy": "2025-08-07T09:55:35.906960Z",
     "iopub.status.idle": "2025-08-07T09:55:35.911605Z",
     "shell.execute_reply": "2025-08-07T09:55:35.910741Z"
    },
    "papermill": {
     "duration": 0.025644,
     "end_time": "2025-08-07T09:55:35.912920",
     "exception": false,
     "start_time": "2025-08-07T09:55:35.887276",
     "status": "completed"
    },
    "tags": []
   },
   "outputs": [
    {
     "name": "stdout",
     "output_type": "stream",
     "text": [
      "X_train:  11692\n",
      "y_train:  11692\n",
      "\n",
      "X_test:  2924\n",
      "y_test:  2924\n"
     ]
    }
   ],
   "source": [
    "print(\"X_train: \", len(X_train_raw))\n",
    "print(\"y_train: \", len(y_train))\n",
    "print(\"\\nX_test: \", len(X_test_raw))\n",
    "print(\"y_test: \", len(y_test))"
   ]
  },
  {
   "cell_type": "markdown",
   "id": "bb81d646",
   "metadata": {
    "papermill": {
     "duration": 0.018461,
     "end_time": "2025-08-07T09:55:35.950310",
     "exception": false,
     "start_time": "2025-08-07T09:55:35.931849",
     "status": "completed"
    },
    "tags": []
   },
   "source": [
    "## MinMax Scaler"
   ]
  },
  {
   "cell_type": "code",
   "execution_count": 14,
   "id": "4f0ddc3f",
   "metadata": {
    "execution": {
     "iopub.execute_input": "2025-08-07T09:55:35.988973Z",
     "iopub.status.busy": "2025-08-07T09:55:35.988580Z",
     "iopub.status.idle": "2025-08-07T09:55:36.021617Z",
     "shell.execute_reply": "2025-08-07T09:55:36.020520Z"
    },
    "papermill": {
     "duration": 0.054675,
     "end_time": "2025-08-07T09:55:36.023643",
     "exception": false,
     "start_time": "2025-08-07T09:55:35.968968",
     "status": "completed"
    },
    "tags": []
   },
   "outputs": [],
   "source": [
    "scaler = MinMaxScaler()\n",
    "X_train = scaler.fit_transform(X_train_raw)\n",
    "X_test = scaler.transform(X_test_raw)"
   ]
  },
  {
   "cell_type": "code",
   "execution_count": 15,
   "id": "ddbfeca5",
   "metadata": {
    "execution": {
     "iopub.execute_input": "2025-08-07T09:55:36.063909Z",
     "iopub.status.busy": "2025-08-07T09:55:36.063114Z",
     "iopub.status.idle": "2025-08-07T09:55:36.068815Z",
     "shell.execute_reply": "2025-08-07T09:55:36.068163Z"
    },
    "papermill": {
     "duration": 0.02692,
     "end_time": "2025-08-07T09:55:36.070031",
     "exception": false,
     "start_time": "2025-08-07T09:55:36.043111",
     "status": "completed"
    },
    "tags": []
   },
   "outputs": [
    {
     "data": {
      "text/plain": [
       "array([[0.72727273, 0.83333333, 0.43478261, ..., 0.4922    , 0.697     ,\n",
       "        0.31560059],\n",
       "       [0.90909091, 0.26666667, 0.69565217, ..., 0.        , 0.303     ,\n",
       "        0.07388643],\n",
       "       [0.09090909, 0.43333333, 0.        , ..., 0.        , 0.        ,\n",
       "        0.07388643],\n",
       "       ...,\n",
       "       [0.63636364, 0.86666667, 0.43478261, ..., 0.8756    , 0.306     ,\n",
       "        0.09436352],\n",
       "       [0.        , 0.4       , 0.91304348, ..., 0.        , 0.        ,\n",
       "        0.07388643],\n",
       "       [0.72727273, 0.26666667, 0.34782609, ..., 0.8925    , 0.29      ,\n",
       "        0.27812962]])"
      ]
     },
     "execution_count": 15,
     "metadata": {},
     "output_type": "execute_result"
    }
   ],
   "source": [
    "X_train"
   ]
  },
  {
   "cell_type": "code",
   "execution_count": 16,
   "id": "433111fa",
   "metadata": {
    "execution": {
     "iopub.execute_input": "2025-08-07T09:55:36.109385Z",
     "iopub.status.busy": "2025-08-07T09:55:36.108849Z",
     "iopub.status.idle": "2025-08-07T09:55:36.114416Z",
     "shell.execute_reply": "2025-08-07T09:55:36.113673Z"
    },
    "papermill": {
     "duration": 0.026544,
     "end_time": "2025-08-07T09:55:36.115707",
     "exception": false,
     "start_time": "2025-08-07T09:55:36.089163",
     "status": "completed"
    },
    "tags": []
   },
   "outputs": [
    {
     "data": {
      "text/plain": [
       "array([[0.63636364, 0.06666667, 0.95652174, ..., 0.894     , 0.        ,\n",
       "        0.07388643],\n",
       "       [0.45454545, 0.26666667, 0.65217391, ..., 0.9677    , 0.074     ,\n",
       "        0.07388643],\n",
       "       [0.63636364, 0.03333333, 0.2173913 , ..., 0.9935    , 0.        ,\n",
       "        0.07388643],\n",
       "       ...,\n",
       "       [0.09090909, 0.2       , 0.73913043, ..., 0.0013    , 0.203     ,\n",
       "        0.07388643],\n",
       "       [0.27272727, 0.13333333, 0.86956522, ..., 0.        , 0.        ,\n",
       "        0.25575259],\n",
       "       [0.45454545, 0.73333333, 0.95652174, ..., 0.5161    , 0.        ,\n",
       "        0.07388643]])"
      ]
     },
     "execution_count": 16,
     "metadata": {},
     "output_type": "execute_result"
    }
   ],
   "source": [
    "X_test"
   ]
  },
  {
   "cell_type": "markdown",
   "id": "b4ad1d51",
   "metadata": {
    "papermill": {
     "duration": 0.018868,
     "end_time": "2025-08-07T09:55:36.153512",
     "exception": false,
     "start_time": "2025-08-07T09:55:36.134644",
     "status": "completed"
    },
    "tags": []
   },
   "source": [
    "### Default Parameters"
   ]
  },
  {
   "cell_type": "code",
   "execution_count": 17,
   "id": "10f0611b",
   "metadata": {
    "execution": {
     "iopub.execute_input": "2025-08-07T09:55:36.195324Z",
     "iopub.status.busy": "2025-08-07T09:55:36.194378Z",
     "iopub.status.idle": "2025-08-07T09:55:36.205649Z",
     "shell.execute_reply": "2025-08-07T09:55:36.204880Z"
    },
    "papermill": {
     "duration": 0.032676,
     "end_time": "2025-08-07T09:55:36.206946",
     "exception": false,
     "start_time": "2025-08-07T09:55:36.174270",
     "status": "completed"
    },
    "tags": []
   },
   "outputs": [
    {
     "data": {
      "text/html": [
       "<style>#sk-container-id-1 {color: black;background-color: white;}#sk-container-id-1 pre{padding: 0;}#sk-container-id-1 div.sk-toggleable {background-color: white;}#sk-container-id-1 label.sk-toggleable__label {cursor: pointer;display: block;width: 100%;margin-bottom: 0;padding: 0.3em;box-sizing: border-box;text-align: center;}#sk-container-id-1 label.sk-toggleable__label-arrow:before {content: \"▸\";float: left;margin-right: 0.25em;color: #696969;}#sk-container-id-1 label.sk-toggleable__label-arrow:hover:before {color: black;}#sk-container-id-1 div.sk-estimator:hover label.sk-toggleable__label-arrow:before {color: black;}#sk-container-id-1 div.sk-toggleable__content {max-height: 0;max-width: 0;overflow: hidden;text-align: left;background-color: #f0f8ff;}#sk-container-id-1 div.sk-toggleable__content pre {margin: 0.2em;color: black;border-radius: 0.25em;background-color: #f0f8ff;}#sk-container-id-1 input.sk-toggleable__control:checked~div.sk-toggleable__content {max-height: 200px;max-width: 100%;overflow: auto;}#sk-container-id-1 input.sk-toggleable__control:checked~label.sk-toggleable__label-arrow:before {content: \"▾\";}#sk-container-id-1 div.sk-estimator input.sk-toggleable__control:checked~label.sk-toggleable__label {background-color: #d4ebff;}#sk-container-id-1 div.sk-label input.sk-toggleable__control:checked~label.sk-toggleable__label {background-color: #d4ebff;}#sk-container-id-1 input.sk-hidden--visually {border: 0;clip: rect(1px 1px 1px 1px);clip: rect(1px, 1px, 1px, 1px);height: 1px;margin: -1px;overflow: hidden;padding: 0;position: absolute;width: 1px;}#sk-container-id-1 div.sk-estimator {font-family: monospace;background-color: #f0f8ff;border: 1px dotted black;border-radius: 0.25em;box-sizing: border-box;margin-bottom: 0.5em;}#sk-container-id-1 div.sk-estimator:hover {background-color: #d4ebff;}#sk-container-id-1 div.sk-parallel-item::after {content: \"\";width: 100%;border-bottom: 1px solid gray;flex-grow: 1;}#sk-container-id-1 div.sk-label:hover label.sk-toggleable__label {background-color: #d4ebff;}#sk-container-id-1 div.sk-serial::before {content: \"\";position: absolute;border-left: 1px solid gray;box-sizing: border-box;top: 0;bottom: 0;left: 50%;z-index: 0;}#sk-container-id-1 div.sk-serial {display: flex;flex-direction: column;align-items: center;background-color: white;padding-right: 0.2em;padding-left: 0.2em;position: relative;}#sk-container-id-1 div.sk-item {position: relative;z-index: 1;}#sk-container-id-1 div.sk-parallel {display: flex;align-items: stretch;justify-content: center;background-color: white;position: relative;}#sk-container-id-1 div.sk-item::before, #sk-container-id-1 div.sk-parallel-item::before {content: \"\";position: absolute;border-left: 1px solid gray;box-sizing: border-box;top: 0;bottom: 0;left: 50%;z-index: -1;}#sk-container-id-1 div.sk-parallel-item {display: flex;flex-direction: column;z-index: 1;position: relative;background-color: white;}#sk-container-id-1 div.sk-parallel-item:first-child::after {align-self: flex-end;width: 50%;}#sk-container-id-1 div.sk-parallel-item:last-child::after {align-self: flex-start;width: 50%;}#sk-container-id-1 div.sk-parallel-item:only-child::after {width: 0;}#sk-container-id-1 div.sk-dashed-wrapped {border: 1px dashed gray;margin: 0 0.4em 0.5em 0.4em;box-sizing: border-box;padding-bottom: 0.4em;background-color: white;}#sk-container-id-1 div.sk-label label {font-family: monospace;font-weight: bold;display: inline-block;line-height: 1.2em;}#sk-container-id-1 div.sk-label-container {text-align: center;}#sk-container-id-1 div.sk-container {/* jupyter's `normalize.less` sets `[hidden] { display: none; }` but bootstrap.min.css set `[hidden] { display: none !important; }` so we also need the `!important` here to be able to override the default hidden behavior on the sphinx rendered scikit-learn.org. See: https://github.com/scikit-learn/scikit-learn/issues/21755 */display: inline-block !important;position: relative;}#sk-container-id-1 div.sk-text-repr-fallback {display: none;}</style><div id=\"sk-container-id-1\" class=\"sk-top-container\"><div class=\"sk-text-repr-fallback\"><pre>RandomForestRegressor(random_state=42)</pre><b>In a Jupyter environment, please rerun this cell to show the HTML representation or trust the notebook. <br />On GitHub, the HTML representation is unable to render, please try loading this page with nbviewer.org.</b></div><div class=\"sk-container\" hidden><div class=\"sk-item\"><div class=\"sk-estimator sk-toggleable\"><input class=\"sk-toggleable__control sk-hidden--visually\" id=\"sk-estimator-id-1\" type=\"checkbox\" checked><label for=\"sk-estimator-id-1\" class=\"sk-toggleable__label sk-toggleable__label-arrow\">RandomForestRegressor</label><div class=\"sk-toggleable__content\"><pre>RandomForestRegressor(random_state=42)</pre></div></div></div></div></div>"
      ],
      "text/plain": [
       "RandomForestRegressor(random_state=42)"
      ]
     },
     "execution_count": 17,
     "metadata": {},
     "output_type": "execute_result"
    }
   ],
   "source": [
    "training_model = RandomForestRegressor(random_state=42)\n",
    "training_model"
   ]
  },
  {
   "cell_type": "code",
   "execution_count": 18,
   "id": "335cbe23",
   "metadata": {
    "execution": {
     "iopub.execute_input": "2025-08-07T09:55:36.247604Z",
     "iopub.status.busy": "2025-08-07T09:55:36.247277Z",
     "iopub.status.idle": "2025-08-07T09:55:45.660138Z",
     "shell.execute_reply": "2025-08-07T09:55:45.658928Z"
    },
    "papermill": {
     "duration": 9.434738,
     "end_time": "2025-08-07T09:55:45.661662",
     "exception": false,
     "start_time": "2025-08-07T09:55:36.226924",
     "status": "completed"
    },
    "tags": []
   },
   "outputs": [
    {
     "name": "stdout",
     "output_type": "stream",
     "text": [
      "CPU times: user 9.37 s, sys: 35.3 ms, total: 9.4 s\n",
      "Wall time: 9.4 s\n"
     ]
    },
    {
     "data": {
      "text/html": [
       "<style>#sk-container-id-2 {color: black;background-color: white;}#sk-container-id-2 pre{padding: 0;}#sk-container-id-2 div.sk-toggleable {background-color: white;}#sk-container-id-2 label.sk-toggleable__label {cursor: pointer;display: block;width: 100%;margin-bottom: 0;padding: 0.3em;box-sizing: border-box;text-align: center;}#sk-container-id-2 label.sk-toggleable__label-arrow:before {content: \"▸\";float: left;margin-right: 0.25em;color: #696969;}#sk-container-id-2 label.sk-toggleable__label-arrow:hover:before {color: black;}#sk-container-id-2 div.sk-estimator:hover label.sk-toggleable__label-arrow:before {color: black;}#sk-container-id-2 div.sk-toggleable__content {max-height: 0;max-width: 0;overflow: hidden;text-align: left;background-color: #f0f8ff;}#sk-container-id-2 div.sk-toggleable__content pre {margin: 0.2em;color: black;border-radius: 0.25em;background-color: #f0f8ff;}#sk-container-id-2 input.sk-toggleable__control:checked~div.sk-toggleable__content {max-height: 200px;max-width: 100%;overflow: auto;}#sk-container-id-2 input.sk-toggleable__control:checked~label.sk-toggleable__label-arrow:before {content: \"▾\";}#sk-container-id-2 div.sk-estimator input.sk-toggleable__control:checked~label.sk-toggleable__label {background-color: #d4ebff;}#sk-container-id-2 div.sk-label input.sk-toggleable__control:checked~label.sk-toggleable__label {background-color: #d4ebff;}#sk-container-id-2 input.sk-hidden--visually {border: 0;clip: rect(1px 1px 1px 1px);clip: rect(1px, 1px, 1px, 1px);height: 1px;margin: -1px;overflow: hidden;padding: 0;position: absolute;width: 1px;}#sk-container-id-2 div.sk-estimator {font-family: monospace;background-color: #f0f8ff;border: 1px dotted black;border-radius: 0.25em;box-sizing: border-box;margin-bottom: 0.5em;}#sk-container-id-2 div.sk-estimator:hover {background-color: #d4ebff;}#sk-container-id-2 div.sk-parallel-item::after {content: \"\";width: 100%;border-bottom: 1px solid gray;flex-grow: 1;}#sk-container-id-2 div.sk-label:hover label.sk-toggleable__label {background-color: #d4ebff;}#sk-container-id-2 div.sk-serial::before {content: \"\";position: absolute;border-left: 1px solid gray;box-sizing: border-box;top: 0;bottom: 0;left: 50%;z-index: 0;}#sk-container-id-2 div.sk-serial {display: flex;flex-direction: column;align-items: center;background-color: white;padding-right: 0.2em;padding-left: 0.2em;position: relative;}#sk-container-id-2 div.sk-item {position: relative;z-index: 1;}#sk-container-id-2 div.sk-parallel {display: flex;align-items: stretch;justify-content: center;background-color: white;position: relative;}#sk-container-id-2 div.sk-item::before, #sk-container-id-2 div.sk-parallel-item::before {content: \"\";position: absolute;border-left: 1px solid gray;box-sizing: border-box;top: 0;bottom: 0;left: 50%;z-index: -1;}#sk-container-id-2 div.sk-parallel-item {display: flex;flex-direction: column;z-index: 1;position: relative;background-color: white;}#sk-container-id-2 div.sk-parallel-item:first-child::after {align-self: flex-end;width: 50%;}#sk-container-id-2 div.sk-parallel-item:last-child::after {align-self: flex-start;width: 50%;}#sk-container-id-2 div.sk-parallel-item:only-child::after {width: 0;}#sk-container-id-2 div.sk-dashed-wrapped {border: 1px dashed gray;margin: 0 0.4em 0.5em 0.4em;box-sizing: border-box;padding-bottom: 0.4em;background-color: white;}#sk-container-id-2 div.sk-label label {font-family: monospace;font-weight: bold;display: inline-block;line-height: 1.2em;}#sk-container-id-2 div.sk-label-container {text-align: center;}#sk-container-id-2 div.sk-container {/* jupyter's `normalize.less` sets `[hidden] { display: none; }` but bootstrap.min.css set `[hidden] { display: none !important; }` so we also need the `!important` here to be able to override the default hidden behavior on the sphinx rendered scikit-learn.org. See: https://github.com/scikit-learn/scikit-learn/issues/21755 */display: inline-block !important;position: relative;}#sk-container-id-2 div.sk-text-repr-fallback {display: none;}</style><div id=\"sk-container-id-2\" class=\"sk-top-container\"><div class=\"sk-text-repr-fallback\"><pre>RandomForestRegressor(random_state=42)</pre><b>In a Jupyter environment, please rerun this cell to show the HTML representation or trust the notebook. <br />On GitHub, the HTML representation is unable to render, please try loading this page with nbviewer.org.</b></div><div class=\"sk-container\" hidden><div class=\"sk-item\"><div class=\"sk-estimator sk-toggleable\"><input class=\"sk-toggleable__control sk-hidden--visually\" id=\"sk-estimator-id-2\" type=\"checkbox\" checked><label for=\"sk-estimator-id-2\" class=\"sk-toggleable__label sk-toggleable__label-arrow\">RandomForestRegressor</label><div class=\"sk-toggleable__content\"><pre>RandomForestRegressor(random_state=42)</pre></div></div></div></div></div>"
      ],
      "text/plain": [
       "RandomForestRegressor(random_state=42)"
      ]
     },
     "execution_count": 18,
     "metadata": {},
     "output_type": "execute_result"
    }
   ],
   "source": [
    "%%time\n",
    "training_model.fit(X_train, y_train)"
   ]
  },
  {
   "cell_type": "code",
   "execution_count": 19,
   "id": "9b0fb3fe",
   "metadata": {
    "execution": {
     "iopub.execute_input": "2025-08-07T09:55:45.703956Z",
     "iopub.status.busy": "2025-08-07T09:55:45.703661Z",
     "iopub.status.idle": "2025-08-07T09:55:45.765996Z",
     "shell.execute_reply": "2025-08-07T09:55:45.765107Z"
    },
    "papermill": {
     "duration": 0.084942,
     "end_time": "2025-08-07T09:55:45.767439",
     "exception": false,
     "start_time": "2025-08-07T09:55:45.682497",
     "status": "completed"
    },
    "tags": []
   },
   "outputs": [
    {
     "data": {
      "text/plain": [
       "array([  0.    ,  74.6042,   0.    , ..., 225.7557,   0.    ,   0.    ])"
      ]
     },
     "execution_count": 19,
     "metadata": {},
     "output_type": "execute_result"
    }
   ],
   "source": [
    "y_pred = training_model.predict(X_test)\n",
    "y_pred"
   ]
  },
  {
   "cell_type": "code",
   "execution_count": 20,
   "id": "cd3babf7",
   "metadata": {
    "execution": {
     "iopub.execute_input": "2025-08-07T09:55:45.809408Z",
     "iopub.status.busy": "2025-08-07T09:55:45.809133Z",
     "iopub.status.idle": "2025-08-07T09:55:45.815877Z",
     "shell.execute_reply": "2025-08-07T09:55:45.815050Z"
    },
    "papermill": {
     "duration": 0.029344,
     "end_time": "2025-08-07T09:55:45.817508",
     "exception": false,
     "start_time": "2025-08-07T09:55:45.788164",
     "status": "completed"
    },
    "tags": []
   },
   "outputs": [
    {
     "data": {
      "text/plain": [
       "5158       0.00\n",
       "3831     105.26\n",
       "5117       0.00\n",
       "6326     758.39\n",
       "11359    135.87\n",
       "          ...  \n",
       "10290     74.58\n",
       "13995      0.00\n",
       "9665     241.81\n",
       "2276       0.00\n",
       "4174       0.00\n",
       "Name: SolarRadiation, Length: 2924, dtype: float64"
      ]
     },
     "execution_count": 20,
     "metadata": {},
     "output_type": "execute_result"
    }
   ],
   "source": [
    "y_test"
   ]
  },
  {
   "cell_type": "code",
   "execution_count": 21,
   "id": "16fc3c43",
   "metadata": {
    "execution": {
     "iopub.execute_input": "2025-08-07T09:55:45.873531Z",
     "iopub.status.busy": "2025-08-07T09:55:45.873211Z",
     "iopub.status.idle": "2025-08-07T09:55:45.880546Z",
     "shell.execute_reply": "2025-08-07T09:55:45.879689Z"
    },
    "papermill": {
     "duration": 0.036861,
     "end_time": "2025-08-07T09:55:45.881945",
     "exception": false,
     "start_time": "2025-08-07T09:55:45.845084",
     "status": "completed"
    },
    "tags": []
   },
   "outputs": [],
   "source": [
    "mse = mean_squared_error(y_test, y_pred)\n",
    "mae = mean_absolute_error(y_test, y_pred)\n",
    "r2 = r2_score(y_test, y_pred)\n",
    "rmse = math.sqrt(mse)"
   ]
  },
  {
   "cell_type": "code",
   "execution_count": 22,
   "id": "b998190d",
   "metadata": {
    "execution": {
     "iopub.execute_input": "2025-08-07T09:55:45.931087Z",
     "iopub.status.busy": "2025-08-07T09:55:45.930755Z",
     "iopub.status.idle": "2025-08-07T09:55:45.936170Z",
     "shell.execute_reply": "2025-08-07T09:55:45.935230Z"
    },
    "papermill": {
     "duration": 0.034993,
     "end_time": "2025-08-07T09:55:45.937826",
     "exception": false,
     "start_time": "2025-08-07T09:55:45.902833",
     "status": "completed"
    },
    "tags": []
   },
   "outputs": [
    {
     "name": "stdout",
     "output_type": "stream",
     "text": [
      "MSE Score: 199.0752471989808\n",
      "MAE Score: 7.940530095759233\n",
      "R2 Score: 0.9978830458190057\n",
      "RMSE Score: 14.109402793845698\n"
     ]
    }
   ],
   "source": [
    "print(\"MSE Score:\", mse)\n",
    "print(\"MAE Score:\", mae)\n",
    "print(\"R2 Score:\", r2)\n",
    "print(\"RMSE Score:\", rmse)"
   ]
  },
  {
   "cell_type": "code",
   "execution_count": 23,
   "id": "cfb8dd3e",
   "metadata": {
    "execution": {
     "iopub.execute_input": "2025-08-07T09:55:45.981854Z",
     "iopub.status.busy": "2025-08-07T09:55:45.981551Z",
     "iopub.status.idle": "2025-08-07T09:55:45.997004Z",
     "shell.execute_reply": "2025-08-07T09:55:45.995970Z"
    },
    "papermill": {
     "duration": 0.038319,
     "end_time": "2025-08-07T09:55:45.998683",
     "exception": false,
     "start_time": "2025-08-07T09:55:45.960364",
     "status": "completed"
    },
    "tags": []
   },
   "outputs": [
    {
     "name": "stdout",
     "output_type": "stream",
     "text": [
      "✨ New regression model added:\n",
      "   MSE: 199.075247, R²: 0.997883\n",
      "   Features: 27\n",
      "💾 Registry updated: Model_Training_History/History_Regression.csv\n"
     ]
    }
   ],
   "source": [
    "regression_params = {\n",
    "    'model_name': model_name_for_saving,\n",
    "    'scaler_name': \"MinMaxScaler\",\n",
    "    'features_list': feature_columns_for_saving,\n",
    "    'target_column': target_name_for_saving,\n",
    "    'mse': mse,\n",
    "    'mae': mae,\n",
    "    'rmse': rmse,\n",
    "    'r2': r2,\n",
    "    'parameters': json.dumps(training_model.get_params())\n",
    "}\n",
    "save_model_performance_if_better('regression', regression_params)"
   ]
  },
  {
   "cell_type": "markdown",
   "id": "5adca977",
   "metadata": {
    "papermill": {
     "duration": 0.021499,
     "end_time": "2025-08-07T09:55:46.050180",
     "exception": false,
     "start_time": "2025-08-07T09:55:46.028681",
     "status": "completed"
    },
    "tags": []
   },
   "source": [
    "### Tuning with Randomized Grid Search"
   ]
  },
  {
   "cell_type": "code",
   "execution_count": 24,
   "id": "c2a2f455",
   "metadata": {
    "execution": {
     "iopub.execute_input": "2025-08-07T09:55:46.094858Z",
     "iopub.status.busy": "2025-08-07T09:55:46.093988Z",
     "iopub.status.idle": "2025-08-07T09:55:46.099283Z",
     "shell.execute_reply": "2025-08-07T09:55:46.098533Z"
    },
    "papermill": {
     "duration": 0.029227,
     "end_time": "2025-08-07T09:55:46.100849",
     "exception": false,
     "start_time": "2025-08-07T09:55:46.071622",
     "status": "completed"
    },
    "tags": []
   },
   "outputs": [],
   "source": [
    "grid_search = RandomizedSearchCV(\n",
    "    RandomForestRegressor(random_state=42), \n",
    "    grid_param,\n",
    "    n_iter=number_of_model_for_randomized_grid,\n",
    "    cv=5,\n",
    "    scoring='neg_mean_squared_error',\n",
    "    n_jobs=-1,\n",
    "    verbose=1,\n",
    "    random_state=42\n",
    ")"
   ]
  },
  {
   "cell_type": "code",
   "execution_count": 25,
   "id": "a5a59fa2",
   "metadata": {
    "execution": {
     "iopub.execute_input": "2025-08-07T09:55:46.144860Z",
     "iopub.status.busy": "2025-08-07T09:55:46.144008Z",
     "iopub.status.idle": "2025-08-07T11:41:30.150089Z",
     "shell.execute_reply": "2025-08-07T11:41:30.149219Z"
    },
    "papermill": {
     "duration": 6344.051167,
     "end_time": "2025-08-07T11:41:30.173045",
     "exception": false,
     "start_time": "2025-08-07T09:55:46.121878",
     "status": "completed"
    },
    "tags": []
   },
   "outputs": [
    {
     "name": "stdout",
     "output_type": "stream",
     "text": [
      "Starting hyperparameter tuning...\n",
      "Fitting 5 folds for each of 510 candidates, totalling 2550 fits\n",
      "CPU times: user 46.5 s, sys: 10 s, total: 56.5 s\n",
      "Wall time: 1h 45min 43s\n"
     ]
    },
    {
     "data": {
      "text/html": [
       "<style>#sk-container-id-3 {color: black;background-color: white;}#sk-container-id-3 pre{padding: 0;}#sk-container-id-3 div.sk-toggleable {background-color: white;}#sk-container-id-3 label.sk-toggleable__label {cursor: pointer;display: block;width: 100%;margin-bottom: 0;padding: 0.3em;box-sizing: border-box;text-align: center;}#sk-container-id-3 label.sk-toggleable__label-arrow:before {content: \"▸\";float: left;margin-right: 0.25em;color: #696969;}#sk-container-id-3 label.sk-toggleable__label-arrow:hover:before {color: black;}#sk-container-id-3 div.sk-estimator:hover label.sk-toggleable__label-arrow:before {color: black;}#sk-container-id-3 div.sk-toggleable__content {max-height: 0;max-width: 0;overflow: hidden;text-align: left;background-color: #f0f8ff;}#sk-container-id-3 div.sk-toggleable__content pre {margin: 0.2em;color: black;border-radius: 0.25em;background-color: #f0f8ff;}#sk-container-id-3 input.sk-toggleable__control:checked~div.sk-toggleable__content {max-height: 200px;max-width: 100%;overflow: auto;}#sk-container-id-3 input.sk-toggleable__control:checked~label.sk-toggleable__label-arrow:before {content: \"▾\";}#sk-container-id-3 div.sk-estimator input.sk-toggleable__control:checked~label.sk-toggleable__label {background-color: #d4ebff;}#sk-container-id-3 div.sk-label input.sk-toggleable__control:checked~label.sk-toggleable__label {background-color: #d4ebff;}#sk-container-id-3 input.sk-hidden--visually {border: 0;clip: rect(1px 1px 1px 1px);clip: rect(1px, 1px, 1px, 1px);height: 1px;margin: -1px;overflow: hidden;padding: 0;position: absolute;width: 1px;}#sk-container-id-3 div.sk-estimator {font-family: monospace;background-color: #f0f8ff;border: 1px dotted black;border-radius: 0.25em;box-sizing: border-box;margin-bottom: 0.5em;}#sk-container-id-3 div.sk-estimator:hover {background-color: #d4ebff;}#sk-container-id-3 div.sk-parallel-item::after {content: \"\";width: 100%;border-bottom: 1px solid gray;flex-grow: 1;}#sk-container-id-3 div.sk-label:hover label.sk-toggleable__label {background-color: #d4ebff;}#sk-container-id-3 div.sk-serial::before {content: \"\";position: absolute;border-left: 1px solid gray;box-sizing: border-box;top: 0;bottom: 0;left: 50%;z-index: 0;}#sk-container-id-3 div.sk-serial {display: flex;flex-direction: column;align-items: center;background-color: white;padding-right: 0.2em;padding-left: 0.2em;position: relative;}#sk-container-id-3 div.sk-item {position: relative;z-index: 1;}#sk-container-id-3 div.sk-parallel {display: flex;align-items: stretch;justify-content: center;background-color: white;position: relative;}#sk-container-id-3 div.sk-item::before, #sk-container-id-3 div.sk-parallel-item::before {content: \"\";position: absolute;border-left: 1px solid gray;box-sizing: border-box;top: 0;bottom: 0;left: 50%;z-index: -1;}#sk-container-id-3 div.sk-parallel-item {display: flex;flex-direction: column;z-index: 1;position: relative;background-color: white;}#sk-container-id-3 div.sk-parallel-item:first-child::after {align-self: flex-end;width: 50%;}#sk-container-id-3 div.sk-parallel-item:last-child::after {align-self: flex-start;width: 50%;}#sk-container-id-3 div.sk-parallel-item:only-child::after {width: 0;}#sk-container-id-3 div.sk-dashed-wrapped {border: 1px dashed gray;margin: 0 0.4em 0.5em 0.4em;box-sizing: border-box;padding-bottom: 0.4em;background-color: white;}#sk-container-id-3 div.sk-label label {font-family: monospace;font-weight: bold;display: inline-block;line-height: 1.2em;}#sk-container-id-3 div.sk-label-container {text-align: center;}#sk-container-id-3 div.sk-container {/* jupyter's `normalize.less` sets `[hidden] { display: none; }` but bootstrap.min.css set `[hidden] { display: none !important; }` so we also need the `!important` here to be able to override the default hidden behavior on the sphinx rendered scikit-learn.org. See: https://github.com/scikit-learn/scikit-learn/issues/21755 */display: inline-block !important;position: relative;}#sk-container-id-3 div.sk-text-repr-fallback {display: none;}</style><div id=\"sk-container-id-3\" class=\"sk-top-container\"><div class=\"sk-text-repr-fallback\"><pre>RandomizedSearchCV(cv=5, estimator=RandomForestRegressor(random_state=42),\n",
       "                   n_iter=510, n_jobs=-1,\n",
       "                   param_distributions=[{&#x27;bootstrap&#x27;: [True],\n",
       "                                         &#x27;max_depth&#x27;: [None, 10, 20, 30],\n",
       "                                         &#x27;max_features&#x27;: [&#x27;sqrt&#x27;, &#x27;log2&#x27;, None],\n",
       "                                         &#x27;max_samples&#x27;: [None, 0.8, 0.9],\n",
       "                                         &#x27;min_impurity_decrease&#x27;: [0.0, 0.01,\n",
       "                                                                   0.02],\n",
       "                                         &#x27;min_samples_leaf&#x27;: [1, 2, 4, 6],\n",
       "                                         &#x27;min_samples_split&#x27;: [2, 5, 10, 15,\n",
       "                                                               20],\n",
       "                                         &#x27;n_estimators&#x27;: [100, 200, 300]},\n",
       "                                        {&#x27;bootstrap&#x27;: [False],\n",
       "                                         &#x27;max_depth&#x27;: [None, 10, 20, 30],\n",
       "                                         &#x27;max_features&#x27;: [&#x27;sqrt&#x27;, &#x27;log2&#x27;, None],\n",
       "                                         &#x27;min_impurity_decrease&#x27;: [0.0, 0.01,\n",
       "                                                                   0.02],\n",
       "                                         &#x27;min_samples_leaf&#x27;: [1, 2, 4, 6],\n",
       "                                         &#x27;min_samples_split&#x27;: [2, 5, 10, 15,\n",
       "                                                               20],\n",
       "                                         &#x27;n_estimators&#x27;: [100, 200, 300]}],\n",
       "                   random_state=42, scoring=&#x27;neg_mean_squared_error&#x27;,\n",
       "                   verbose=1)</pre><b>In a Jupyter environment, please rerun this cell to show the HTML representation or trust the notebook. <br />On GitHub, the HTML representation is unable to render, please try loading this page with nbviewer.org.</b></div><div class=\"sk-container\" hidden><div class=\"sk-item sk-dashed-wrapped\"><div class=\"sk-label-container\"><div class=\"sk-label sk-toggleable\"><input class=\"sk-toggleable__control sk-hidden--visually\" id=\"sk-estimator-id-3\" type=\"checkbox\" ><label for=\"sk-estimator-id-3\" class=\"sk-toggleable__label sk-toggleable__label-arrow\">RandomizedSearchCV</label><div class=\"sk-toggleable__content\"><pre>RandomizedSearchCV(cv=5, estimator=RandomForestRegressor(random_state=42),\n",
       "                   n_iter=510, n_jobs=-1,\n",
       "                   param_distributions=[{&#x27;bootstrap&#x27;: [True],\n",
       "                                         &#x27;max_depth&#x27;: [None, 10, 20, 30],\n",
       "                                         &#x27;max_features&#x27;: [&#x27;sqrt&#x27;, &#x27;log2&#x27;, None],\n",
       "                                         &#x27;max_samples&#x27;: [None, 0.8, 0.9],\n",
       "                                         &#x27;min_impurity_decrease&#x27;: [0.0, 0.01,\n",
       "                                                                   0.02],\n",
       "                                         &#x27;min_samples_leaf&#x27;: [1, 2, 4, 6],\n",
       "                                         &#x27;min_samples_split&#x27;: [2, 5, 10, 15,\n",
       "                                                               20],\n",
       "                                         &#x27;n_estimators&#x27;: [100, 200, 300]},\n",
       "                                        {&#x27;bootstrap&#x27;: [False],\n",
       "                                         &#x27;max_depth&#x27;: [None, 10, 20, 30],\n",
       "                                         &#x27;max_features&#x27;: [&#x27;sqrt&#x27;, &#x27;log2&#x27;, None],\n",
       "                                         &#x27;min_impurity_decrease&#x27;: [0.0, 0.01,\n",
       "                                                                   0.02],\n",
       "                                         &#x27;min_samples_leaf&#x27;: [1, 2, 4, 6],\n",
       "                                         &#x27;min_samples_split&#x27;: [2, 5, 10, 15,\n",
       "                                                               20],\n",
       "                                         &#x27;n_estimators&#x27;: [100, 200, 300]}],\n",
       "                   random_state=42, scoring=&#x27;neg_mean_squared_error&#x27;,\n",
       "                   verbose=1)</pre></div></div></div><div class=\"sk-parallel\"><div class=\"sk-parallel-item\"><div class=\"sk-item\"><div class=\"sk-label-container\"><div class=\"sk-label sk-toggleable\"><input class=\"sk-toggleable__control sk-hidden--visually\" id=\"sk-estimator-id-4\" type=\"checkbox\" ><label for=\"sk-estimator-id-4\" class=\"sk-toggleable__label sk-toggleable__label-arrow\">estimator: RandomForestRegressor</label><div class=\"sk-toggleable__content\"><pre>RandomForestRegressor(random_state=42)</pre></div></div></div><div class=\"sk-serial\"><div class=\"sk-item\"><div class=\"sk-estimator sk-toggleable\"><input class=\"sk-toggleable__control sk-hidden--visually\" id=\"sk-estimator-id-5\" type=\"checkbox\" ><label for=\"sk-estimator-id-5\" class=\"sk-toggleable__label sk-toggleable__label-arrow\">RandomForestRegressor</label><div class=\"sk-toggleable__content\"><pre>RandomForestRegressor(random_state=42)</pre></div></div></div></div></div></div></div></div></div></div>"
      ],
      "text/plain": [
       "RandomizedSearchCV(cv=5, estimator=RandomForestRegressor(random_state=42),\n",
       "                   n_iter=510, n_jobs=-1,\n",
       "                   param_distributions=[{'bootstrap': [True],\n",
       "                                         'max_depth': [None, 10, 20, 30],\n",
       "                                         'max_features': ['sqrt', 'log2', None],\n",
       "                                         'max_samples': [None, 0.8, 0.9],\n",
       "                                         'min_impurity_decrease': [0.0, 0.01,\n",
       "                                                                   0.02],\n",
       "                                         'min_samples_leaf': [1, 2, 4, 6],\n",
       "                                         'min_samples_split': [2, 5, 10, 15,\n",
       "                                                               20],\n",
       "                                         'n_estimators': [100, 200, 300]},\n",
       "                                        {'bootstrap': [False],\n",
       "                                         'max_depth': [None, 10, 20, 30],\n",
       "                                         'max_features': ['sqrt', 'log2', None],\n",
       "                                         'min_impurity_decrease': [0.0, 0.01,\n",
       "                                                                   0.02],\n",
       "                                         'min_samples_leaf': [1, 2, 4, 6],\n",
       "                                         'min_samples_split': [2, 5, 10, 15,\n",
       "                                                               20],\n",
       "                                         'n_estimators': [100, 200, 300]}],\n",
       "                   random_state=42, scoring='neg_mean_squared_error',\n",
       "                   verbose=1)"
      ]
     },
     "execution_count": 25,
     "metadata": {},
     "output_type": "execute_result"
    }
   ],
   "source": [
    "%%time\n",
    "print(\"Starting hyperparameter tuning...\")\n",
    "grid_search.fit(X_train, y_train)"
   ]
  },
  {
   "cell_type": "code",
   "execution_count": 26,
   "id": "ab9beab4",
   "metadata": {
    "execution": {
     "iopub.execute_input": "2025-08-07T11:41:30.218100Z",
     "iopub.status.busy": "2025-08-07T11:41:30.217455Z",
     "iopub.status.idle": "2025-08-07T11:41:30.222839Z",
     "shell.execute_reply": "2025-08-07T11:41:30.222025Z"
    },
    "papermill": {
     "duration": 0.029156,
     "end_time": "2025-08-07T11:41:30.224091",
     "exception": false,
     "start_time": "2025-08-07T11:41:30.194935",
     "status": "completed"
    },
    "tags": []
   },
   "outputs": [
    {
     "name": "stdout",
     "output_type": "stream",
     "text": [
      "TUNING RESULTS\n",
      "==================================================\n",
      "Best Parameters: {'n_estimators': 300, 'min_samples_split': 2, 'min_samples_leaf': 1, 'min_impurity_decrease': 0.01, 'max_samples': 0.8, 'max_features': None, 'max_depth': 20, 'bootstrap': True}\n",
      "Best Cross-Validation Score (Negative MSE): -192.9024092137701\n",
      "Best Cross-Validation Score (MSE): 192.9024092137701\n",
      "Best Cross-Validation Score (RMSE): 13.888931176075793\n"
     ]
    }
   ],
   "source": [
    "print(\"TUNING RESULTS\")\n",
    "print(\"=\"*50)\n",
    "print(\"Best Parameters:\", grid_search.best_params_)\n",
    "print(\"Best Cross-Validation Score (Negative MSE):\", grid_search.best_score_)\n",
    "print(\"Best Cross-Validation Score (MSE):\", -grid_search.best_score_)\n",
    "print(\"Best Cross-Validation Score (RMSE):\", math.sqrt(-grid_search.best_score_))"
   ]
  },
  {
   "cell_type": "code",
   "execution_count": 27,
   "id": "18e1adb9",
   "metadata": {
    "execution": {
     "iopub.execute_input": "2025-08-07T11:41:30.268312Z",
     "iopub.status.busy": "2025-08-07T11:41:30.267539Z",
     "iopub.status.idle": "2025-08-07T11:41:30.379262Z",
     "shell.execute_reply": "2025-08-07T11:41:30.378274Z"
    },
    "papermill": {
     "duration": 0.135552,
     "end_time": "2025-08-07T11:41:30.380848",
     "exception": false,
     "start_time": "2025-08-07T11:41:30.245296",
     "status": "completed"
    },
    "tags": []
   },
   "outputs": [],
   "source": [
    "grid_search_best_model = grid_search.best_estimator_\n",
    "y_pred = grid_search_best_model.predict(X_test)"
   ]
  },
  {
   "cell_type": "code",
   "execution_count": 28,
   "id": "ad0d9b01",
   "metadata": {
    "execution": {
     "iopub.execute_input": "2025-08-07T11:41:30.425208Z",
     "iopub.status.busy": "2025-08-07T11:41:30.424923Z",
     "iopub.status.idle": "2025-08-07T11:41:30.431721Z",
     "shell.execute_reply": "2025-08-07T11:41:30.430980Z"
    },
    "papermill": {
     "duration": 0.030627,
     "end_time": "2025-08-07T11:41:30.433216",
     "exception": false,
     "start_time": "2025-08-07T11:41:30.402589",
     "status": "completed"
    },
    "tags": []
   },
   "outputs": [],
   "source": [
    "mse_grid_search = mean_squared_error(y_test, y_pred)\n",
    "mae_grid_search = mean_absolute_error(y_test, y_pred)\n",
    "r2_grid_search = r2_score(y_test, y_pred)\n",
    "rmse_grid_search = math.sqrt(mse_grid_search)"
   ]
  },
  {
   "cell_type": "code",
   "execution_count": 29,
   "id": "b5dba33e",
   "metadata": {
    "execution": {
     "iopub.execute_input": "2025-08-07T11:41:30.478027Z",
     "iopub.status.busy": "2025-08-07T11:41:30.477728Z",
     "iopub.status.idle": "2025-08-07T11:41:30.482779Z",
     "shell.execute_reply": "2025-08-07T11:41:30.481879Z"
    },
    "papermill": {
     "duration": 0.028821,
     "end_time": "2025-08-07T11:41:30.484012",
     "exception": false,
     "start_time": "2025-08-07T11:41:30.455191",
     "status": "completed"
    },
    "tags": []
   },
   "outputs": [
    {
     "name": "stdout",
     "output_type": "stream",
     "text": [
      "MSE Score: 197.5475415867608\n",
      "MAE Score: 7.99212992013415\n",
      "R2 Score: 0.9978992913484154\n",
      "RMSE Score: 14.055160674526663\n"
     ]
    }
   ],
   "source": [
    "print(\"MSE Score:\", mse_grid_search)\n",
    "print(\"MAE Score:\", mae_grid_search)\n",
    "print(\"R2 Score:\", r2_grid_search)\n",
    "print(\"RMSE Score:\", rmse_grid_search)"
   ]
  },
  {
   "cell_type": "code",
   "execution_count": 30,
   "id": "6db7999f",
   "metadata": {
    "execution": {
     "iopub.execute_input": "2025-08-07T11:41:30.529274Z",
     "iopub.status.busy": "2025-08-07T11:41:30.528741Z",
     "iopub.status.idle": "2025-08-07T11:41:30.539994Z",
     "shell.execute_reply": "2025-08-07T11:41:30.539136Z"
    },
    "papermill": {
     "duration": 0.035245,
     "end_time": "2025-08-07T11:41:30.541392",
     "exception": false,
     "start_time": "2025-08-07T11:41:30.506147",
     "status": "completed"
    },
    "tags": []
   },
   "outputs": [
    {
     "name": "stdout",
     "output_type": "stream",
     "text": [
      "✨ New regression model added:\n",
      "   MSE: 197.547542, R²: 0.997899\n",
      "   Features: 27\n",
      "💾 Registry updated: Model_Training_History/History_Regression.csv\n"
     ]
    }
   ],
   "source": [
    "regression_params = {\n",
    "    'model_name': model_name_for_saving + \" Tuned\",\n",
    "    'scaler_name': \"MinMaxScaler\",\n",
    "    'features_list': feature_columns_for_saving,\n",
    "    'target_column': target_name_for_saving,\n",
    "    'mse': mse_grid_search,\n",
    "    'mae': mae_grid_search,\n",
    "    'rmse': rmse_grid_search,\n",
    "    'r2': r2_grid_search,\n",
    "    'parameters' : json.dumps({\n",
    "        \"best_params\": grid_search.best_params_,\n",
    "        \"cv_score\": grid_search.best_score_,\n",
    "        \"all_params\": grid_search_best_model.get_params()\n",
    "    })\n",
    "}\n",
    "save_model_performance_if_better('regression', regression_params)"
   ]
  },
  {
   "cell_type": "markdown",
   "id": "2b11a9e4",
   "metadata": {
    "papermill": {
     "duration": 0.022003,
     "end_time": "2025-08-07T11:41:30.585443",
     "exception": false,
     "start_time": "2025-08-07T11:41:30.563440",
     "status": "completed"
    },
    "tags": []
   },
   "source": [
    "## Standard Scaler"
   ]
  },
  {
   "cell_type": "code",
   "execution_count": 31,
   "id": "aa0bb0ba",
   "metadata": {
    "execution": {
     "iopub.execute_input": "2025-08-07T11:41:30.630218Z",
     "iopub.status.busy": "2025-08-07T11:41:30.629924Z",
     "iopub.status.idle": "2025-08-07T11:41:30.665033Z",
     "shell.execute_reply": "2025-08-07T11:41:30.664215Z"
    },
    "papermill": {
     "duration": 0.05954,
     "end_time": "2025-08-07T11:41:30.666641",
     "exception": false,
     "start_time": "2025-08-07T11:41:30.607101",
     "status": "completed"
    },
    "tags": []
   },
   "outputs": [],
   "source": [
    "scaler = StandardScaler()\n",
    "X_train = scaler.fit_transform(X_train_raw)\n",
    "X_test = scaler.transform(X_test_raw)"
   ]
  },
  {
   "cell_type": "code",
   "execution_count": 32,
   "id": "a552289a",
   "metadata": {
    "execution": {
     "iopub.execute_input": "2025-08-07T11:41:30.712373Z",
     "iopub.status.busy": "2025-08-07T11:41:30.711620Z",
     "iopub.status.idle": "2025-08-07T11:41:30.717364Z",
     "shell.execute_reply": "2025-08-07T11:41:30.716693Z"
    },
    "papermill": {
     "duration": 0.029977,
     "end_time": "2025-08-07T11:41:30.718701",
     "exception": false,
     "start_time": "2025-08-07T11:41:30.688724",
     "status": "completed"
    },
    "tags": []
   },
   "outputs": [
    {
     "data": {
      "text/plain": [
       "array([[ 1.01884116,  1.17229173, -0.21938027, ..., -0.12088825,\n",
       "         1.52387472,  1.09644529],\n",
       "       [ 1.64376461, -0.75947244,  0.64624572, ..., -1.52028666,\n",
       "         0.24645772, -0.43343649],\n",
       "       [-1.16839092, -0.1913065 , -1.66209024, ..., -1.52028666,\n",
       "        -0.73592134, -0.43343649],\n",
       "       ...,\n",
       "       [ 0.70637943,  1.28592492, -0.21938027, ...,  0.96917545,\n",
       "         0.25618424, -0.30383078],\n",
       "       [-1.48085264, -0.30493969,  1.36760071, ..., -1.52028666,\n",
       "        -0.73592134, -0.43343649],\n",
       "       [ 1.01884116, -0.75947244, -0.50792226, ...,  1.01722469,\n",
       "         0.20430944,  0.85928021]])"
      ]
     },
     "execution_count": 32,
     "metadata": {},
     "output_type": "execute_result"
    }
   ],
   "source": [
    "X_train"
   ]
  },
  {
   "cell_type": "code",
   "execution_count": 33,
   "id": "d4490bbc",
   "metadata": {
    "execution": {
     "iopub.execute_input": "2025-08-07T11:41:30.763390Z",
     "iopub.status.busy": "2025-08-07T11:41:30.763098Z",
     "iopub.status.idle": "2025-08-07T11:41:30.768871Z",
     "shell.execute_reply": "2025-08-07T11:41:30.768020Z"
    },
    "papermill": {
     "duration": 0.029571,
     "end_time": "2025-08-07T11:41:30.770168",
     "exception": false,
     "start_time": "2025-08-07T11:41:30.740597",
     "status": "completed"
    },
    "tags": []
   },
   "outputs": [
    {
     "data": {
      "text/plain": [
       "array([[ 0.70637943, -1.44127155,  1.51187171, ...,  1.02148941,\n",
       "        -0.73592134, -0.43343649],\n",
       "       [ 0.08145598, -0.75947244,  0.50197472, ...,  1.23102956,\n",
       "        -0.49600038, -0.43343649],\n",
       "       [ 0.70637943, -1.55490474, -0.94073525, ...,  1.30438283,\n",
       "        -0.73592134, -0.43343649],\n",
       "       ...,\n",
       "       [-1.16839092, -0.98673881,  0.79051672, ..., -1.51659057,\n",
       "        -0.07775979, -0.43343649],\n",
       "       [-0.54346747, -1.21400518,  1.22332971, ..., -1.52028666,\n",
       "        -0.73592134,  0.71764924],\n",
       "       [ 0.08145598,  0.83139217,  1.51187171, ..., -0.05293696,\n",
       "        -0.73592134, -0.43343649]])"
      ]
     },
     "execution_count": 33,
     "metadata": {},
     "output_type": "execute_result"
    }
   ],
   "source": [
    "X_test"
   ]
  },
  {
   "cell_type": "markdown",
   "id": "493bc7be",
   "metadata": {
    "papermill": {
     "duration": 0.021703,
     "end_time": "2025-08-07T11:41:30.813901",
     "exception": false,
     "start_time": "2025-08-07T11:41:30.792198",
     "status": "completed"
    },
    "tags": []
   },
   "source": [
    "### Default Parameters"
   ]
  },
  {
   "cell_type": "code",
   "execution_count": 34,
   "id": "8a9d507f",
   "metadata": {
    "execution": {
     "iopub.execute_input": "2025-08-07T11:41:30.858890Z",
     "iopub.status.busy": "2025-08-07T11:41:30.858592Z",
     "iopub.status.idle": "2025-08-07T11:41:30.864578Z",
     "shell.execute_reply": "2025-08-07T11:41:30.863863Z"
    },
    "papermill": {
     "duration": 0.030129,
     "end_time": "2025-08-07T11:41:30.865829",
     "exception": false,
     "start_time": "2025-08-07T11:41:30.835700",
     "status": "completed"
    },
    "tags": []
   },
   "outputs": [
    {
     "data": {
      "text/html": [
       "<style>#sk-container-id-4 {color: black;background-color: white;}#sk-container-id-4 pre{padding: 0;}#sk-container-id-4 div.sk-toggleable {background-color: white;}#sk-container-id-4 label.sk-toggleable__label {cursor: pointer;display: block;width: 100%;margin-bottom: 0;padding: 0.3em;box-sizing: border-box;text-align: center;}#sk-container-id-4 label.sk-toggleable__label-arrow:before {content: \"▸\";float: left;margin-right: 0.25em;color: #696969;}#sk-container-id-4 label.sk-toggleable__label-arrow:hover:before {color: black;}#sk-container-id-4 div.sk-estimator:hover label.sk-toggleable__label-arrow:before {color: black;}#sk-container-id-4 div.sk-toggleable__content {max-height: 0;max-width: 0;overflow: hidden;text-align: left;background-color: #f0f8ff;}#sk-container-id-4 div.sk-toggleable__content pre {margin: 0.2em;color: black;border-radius: 0.25em;background-color: #f0f8ff;}#sk-container-id-4 input.sk-toggleable__control:checked~div.sk-toggleable__content {max-height: 200px;max-width: 100%;overflow: auto;}#sk-container-id-4 input.sk-toggleable__control:checked~label.sk-toggleable__label-arrow:before {content: \"▾\";}#sk-container-id-4 div.sk-estimator input.sk-toggleable__control:checked~label.sk-toggleable__label {background-color: #d4ebff;}#sk-container-id-4 div.sk-label input.sk-toggleable__control:checked~label.sk-toggleable__label {background-color: #d4ebff;}#sk-container-id-4 input.sk-hidden--visually {border: 0;clip: rect(1px 1px 1px 1px);clip: rect(1px, 1px, 1px, 1px);height: 1px;margin: -1px;overflow: hidden;padding: 0;position: absolute;width: 1px;}#sk-container-id-4 div.sk-estimator {font-family: monospace;background-color: #f0f8ff;border: 1px dotted black;border-radius: 0.25em;box-sizing: border-box;margin-bottom: 0.5em;}#sk-container-id-4 div.sk-estimator:hover {background-color: #d4ebff;}#sk-container-id-4 div.sk-parallel-item::after {content: \"\";width: 100%;border-bottom: 1px solid gray;flex-grow: 1;}#sk-container-id-4 div.sk-label:hover label.sk-toggleable__label {background-color: #d4ebff;}#sk-container-id-4 div.sk-serial::before {content: \"\";position: absolute;border-left: 1px solid gray;box-sizing: border-box;top: 0;bottom: 0;left: 50%;z-index: 0;}#sk-container-id-4 div.sk-serial {display: flex;flex-direction: column;align-items: center;background-color: white;padding-right: 0.2em;padding-left: 0.2em;position: relative;}#sk-container-id-4 div.sk-item {position: relative;z-index: 1;}#sk-container-id-4 div.sk-parallel {display: flex;align-items: stretch;justify-content: center;background-color: white;position: relative;}#sk-container-id-4 div.sk-item::before, #sk-container-id-4 div.sk-parallel-item::before {content: \"\";position: absolute;border-left: 1px solid gray;box-sizing: border-box;top: 0;bottom: 0;left: 50%;z-index: -1;}#sk-container-id-4 div.sk-parallel-item {display: flex;flex-direction: column;z-index: 1;position: relative;background-color: white;}#sk-container-id-4 div.sk-parallel-item:first-child::after {align-self: flex-end;width: 50%;}#sk-container-id-4 div.sk-parallel-item:last-child::after {align-self: flex-start;width: 50%;}#sk-container-id-4 div.sk-parallel-item:only-child::after {width: 0;}#sk-container-id-4 div.sk-dashed-wrapped {border: 1px dashed gray;margin: 0 0.4em 0.5em 0.4em;box-sizing: border-box;padding-bottom: 0.4em;background-color: white;}#sk-container-id-4 div.sk-label label {font-family: monospace;font-weight: bold;display: inline-block;line-height: 1.2em;}#sk-container-id-4 div.sk-label-container {text-align: center;}#sk-container-id-4 div.sk-container {/* jupyter's `normalize.less` sets `[hidden] { display: none; }` but bootstrap.min.css set `[hidden] { display: none !important; }` so we also need the `!important` here to be able to override the default hidden behavior on the sphinx rendered scikit-learn.org. See: https://github.com/scikit-learn/scikit-learn/issues/21755 */display: inline-block !important;position: relative;}#sk-container-id-4 div.sk-text-repr-fallback {display: none;}</style><div id=\"sk-container-id-4\" class=\"sk-top-container\"><div class=\"sk-text-repr-fallback\"><pre>RandomForestRegressor(random_state=42)</pre><b>In a Jupyter environment, please rerun this cell to show the HTML representation or trust the notebook. <br />On GitHub, the HTML representation is unable to render, please try loading this page with nbviewer.org.</b></div><div class=\"sk-container\" hidden><div class=\"sk-item\"><div class=\"sk-estimator sk-toggleable\"><input class=\"sk-toggleable__control sk-hidden--visually\" id=\"sk-estimator-id-6\" type=\"checkbox\" checked><label for=\"sk-estimator-id-6\" class=\"sk-toggleable__label sk-toggleable__label-arrow\">RandomForestRegressor</label><div class=\"sk-toggleable__content\"><pre>RandomForestRegressor(random_state=42)</pre></div></div></div></div></div>"
      ],
      "text/plain": [
       "RandomForestRegressor(random_state=42)"
      ]
     },
     "execution_count": 34,
     "metadata": {},
     "output_type": "execute_result"
    }
   ],
   "source": [
    "training_model = RandomForestRegressor(random_state=42)\n",
    "training_model"
   ]
  },
  {
   "cell_type": "code",
   "execution_count": 35,
   "id": "ed14e1b2",
   "metadata": {
    "execution": {
     "iopub.execute_input": "2025-08-07T11:41:30.911098Z",
     "iopub.status.busy": "2025-08-07T11:41:30.910812Z",
     "iopub.status.idle": "2025-08-07T11:41:40.291155Z",
     "shell.execute_reply": "2025-08-07T11:41:40.290304Z"
    },
    "papermill": {
     "duration": 9.404602,
     "end_time": "2025-08-07T11:41:40.292647",
     "exception": false,
     "start_time": "2025-08-07T11:41:30.888045",
     "status": "completed"
    },
    "tags": []
   },
   "outputs": [
    {
     "name": "stdout",
     "output_type": "stream",
     "text": [
      "CPU times: user 9.37 s, sys: 0 ns, total: 9.37 s\n",
      "Wall time: 9.37 s\n"
     ]
    },
    {
     "data": {
      "text/html": [
       "<style>#sk-container-id-5 {color: black;background-color: white;}#sk-container-id-5 pre{padding: 0;}#sk-container-id-5 div.sk-toggleable {background-color: white;}#sk-container-id-5 label.sk-toggleable__label {cursor: pointer;display: block;width: 100%;margin-bottom: 0;padding: 0.3em;box-sizing: border-box;text-align: center;}#sk-container-id-5 label.sk-toggleable__label-arrow:before {content: \"▸\";float: left;margin-right: 0.25em;color: #696969;}#sk-container-id-5 label.sk-toggleable__label-arrow:hover:before {color: black;}#sk-container-id-5 div.sk-estimator:hover label.sk-toggleable__label-arrow:before {color: black;}#sk-container-id-5 div.sk-toggleable__content {max-height: 0;max-width: 0;overflow: hidden;text-align: left;background-color: #f0f8ff;}#sk-container-id-5 div.sk-toggleable__content pre {margin: 0.2em;color: black;border-radius: 0.25em;background-color: #f0f8ff;}#sk-container-id-5 input.sk-toggleable__control:checked~div.sk-toggleable__content {max-height: 200px;max-width: 100%;overflow: auto;}#sk-container-id-5 input.sk-toggleable__control:checked~label.sk-toggleable__label-arrow:before {content: \"▾\";}#sk-container-id-5 div.sk-estimator input.sk-toggleable__control:checked~label.sk-toggleable__label {background-color: #d4ebff;}#sk-container-id-5 div.sk-label input.sk-toggleable__control:checked~label.sk-toggleable__label {background-color: #d4ebff;}#sk-container-id-5 input.sk-hidden--visually {border: 0;clip: rect(1px 1px 1px 1px);clip: rect(1px, 1px, 1px, 1px);height: 1px;margin: -1px;overflow: hidden;padding: 0;position: absolute;width: 1px;}#sk-container-id-5 div.sk-estimator {font-family: monospace;background-color: #f0f8ff;border: 1px dotted black;border-radius: 0.25em;box-sizing: border-box;margin-bottom: 0.5em;}#sk-container-id-5 div.sk-estimator:hover {background-color: #d4ebff;}#sk-container-id-5 div.sk-parallel-item::after {content: \"\";width: 100%;border-bottom: 1px solid gray;flex-grow: 1;}#sk-container-id-5 div.sk-label:hover label.sk-toggleable__label {background-color: #d4ebff;}#sk-container-id-5 div.sk-serial::before {content: \"\";position: absolute;border-left: 1px solid gray;box-sizing: border-box;top: 0;bottom: 0;left: 50%;z-index: 0;}#sk-container-id-5 div.sk-serial {display: flex;flex-direction: column;align-items: center;background-color: white;padding-right: 0.2em;padding-left: 0.2em;position: relative;}#sk-container-id-5 div.sk-item {position: relative;z-index: 1;}#sk-container-id-5 div.sk-parallel {display: flex;align-items: stretch;justify-content: center;background-color: white;position: relative;}#sk-container-id-5 div.sk-item::before, #sk-container-id-5 div.sk-parallel-item::before {content: \"\";position: absolute;border-left: 1px solid gray;box-sizing: border-box;top: 0;bottom: 0;left: 50%;z-index: -1;}#sk-container-id-5 div.sk-parallel-item {display: flex;flex-direction: column;z-index: 1;position: relative;background-color: white;}#sk-container-id-5 div.sk-parallel-item:first-child::after {align-self: flex-end;width: 50%;}#sk-container-id-5 div.sk-parallel-item:last-child::after {align-self: flex-start;width: 50%;}#sk-container-id-5 div.sk-parallel-item:only-child::after {width: 0;}#sk-container-id-5 div.sk-dashed-wrapped {border: 1px dashed gray;margin: 0 0.4em 0.5em 0.4em;box-sizing: border-box;padding-bottom: 0.4em;background-color: white;}#sk-container-id-5 div.sk-label label {font-family: monospace;font-weight: bold;display: inline-block;line-height: 1.2em;}#sk-container-id-5 div.sk-label-container {text-align: center;}#sk-container-id-5 div.sk-container {/* jupyter's `normalize.less` sets `[hidden] { display: none; }` but bootstrap.min.css set `[hidden] { display: none !important; }` so we also need the `!important` here to be able to override the default hidden behavior on the sphinx rendered scikit-learn.org. See: https://github.com/scikit-learn/scikit-learn/issues/21755 */display: inline-block !important;position: relative;}#sk-container-id-5 div.sk-text-repr-fallback {display: none;}</style><div id=\"sk-container-id-5\" class=\"sk-top-container\"><div class=\"sk-text-repr-fallback\"><pre>RandomForestRegressor(random_state=42)</pre><b>In a Jupyter environment, please rerun this cell to show the HTML representation or trust the notebook. <br />On GitHub, the HTML representation is unable to render, please try loading this page with nbviewer.org.</b></div><div class=\"sk-container\" hidden><div class=\"sk-item\"><div class=\"sk-estimator sk-toggleable\"><input class=\"sk-toggleable__control sk-hidden--visually\" id=\"sk-estimator-id-7\" type=\"checkbox\" checked><label for=\"sk-estimator-id-7\" class=\"sk-toggleable__label sk-toggleable__label-arrow\">RandomForestRegressor</label><div class=\"sk-toggleable__content\"><pre>RandomForestRegressor(random_state=42)</pre></div></div></div></div></div>"
      ],
      "text/plain": [
       "RandomForestRegressor(random_state=42)"
      ]
     },
     "execution_count": 35,
     "metadata": {},
     "output_type": "execute_result"
    }
   ],
   "source": [
    "%%time\n",
    "training_model.fit(X_train, y_train)"
   ]
  },
  {
   "cell_type": "code",
   "execution_count": 36,
   "id": "871a43de",
   "metadata": {
    "execution": {
     "iopub.execute_input": "2025-08-07T11:41:40.338281Z",
     "iopub.status.busy": "2025-08-07T11:41:40.338002Z",
     "iopub.status.idle": "2025-08-07T11:41:40.398309Z",
     "shell.execute_reply": "2025-08-07T11:41:40.397398Z"
    },
    "papermill": {
     "duration": 0.085173,
     "end_time": "2025-08-07T11:41:40.400272",
     "exception": false,
     "start_time": "2025-08-07T11:41:40.315099",
     "status": "completed"
    },
    "tags": []
   },
   "outputs": [
    {
     "data": {
      "text/plain": [
       "array([  0.    ,  75.1749,   0.    , ..., 225.7557,   0.    ,   0.    ])"
      ]
     },
     "execution_count": 36,
     "metadata": {},
     "output_type": "execute_result"
    }
   ],
   "source": [
    "y_pred = training_model.predict(X_test)\n",
    "y_pred"
   ]
  },
  {
   "cell_type": "code",
   "execution_count": 37,
   "id": "e104fa0d",
   "metadata": {
    "execution": {
     "iopub.execute_input": "2025-08-07T11:41:40.447067Z",
     "iopub.status.busy": "2025-08-07T11:41:40.446786Z",
     "iopub.status.idle": "2025-08-07T11:41:40.453584Z",
     "shell.execute_reply": "2025-08-07T11:41:40.452586Z"
    },
    "papermill": {
     "duration": 0.031484,
     "end_time": "2025-08-07T11:41:40.454924",
     "exception": false,
     "start_time": "2025-08-07T11:41:40.423440",
     "status": "completed"
    },
    "tags": []
   },
   "outputs": [
    {
     "data": {
      "text/plain": [
       "5158       0.00\n",
       "3831     105.26\n",
       "5117       0.00\n",
       "6326     758.39\n",
       "11359    135.87\n",
       "          ...  \n",
       "10290     74.58\n",
       "13995      0.00\n",
       "9665     241.81\n",
       "2276       0.00\n",
       "4174       0.00\n",
       "Name: SolarRadiation, Length: 2924, dtype: float64"
      ]
     },
     "execution_count": 37,
     "metadata": {},
     "output_type": "execute_result"
    }
   ],
   "source": [
    "y_test"
   ]
  },
  {
   "cell_type": "code",
   "execution_count": 38,
   "id": "86045f39",
   "metadata": {
    "execution": {
     "iopub.execute_input": "2025-08-07T11:41:40.501649Z",
     "iopub.status.busy": "2025-08-07T11:41:40.501309Z",
     "iopub.status.idle": "2025-08-07T11:41:40.508027Z",
     "shell.execute_reply": "2025-08-07T11:41:40.507285Z"
    },
    "papermill": {
     "duration": 0.031512,
     "end_time": "2025-08-07T11:41:40.509384",
     "exception": false,
     "start_time": "2025-08-07T11:41:40.477872",
     "status": "completed"
    },
    "tags": []
   },
   "outputs": [],
   "source": [
    "mse = mean_squared_error(y_test, y_pred)\n",
    "mae = mean_absolute_error(y_test, y_pred)\n",
    "r2 = r2_score(y_test, y_pred)\n",
    "rmse = math.sqrt(mse)"
   ]
  },
  {
   "cell_type": "code",
   "execution_count": 39,
   "id": "c5bbd878",
   "metadata": {
    "execution": {
     "iopub.execute_input": "2025-08-07T11:41:40.556730Z",
     "iopub.status.busy": "2025-08-07T11:41:40.555972Z",
     "iopub.status.idle": "2025-08-07T11:41:40.560925Z",
     "shell.execute_reply": "2025-08-07T11:41:40.560140Z"
    },
    "papermill": {
     "duration": 0.029659,
     "end_time": "2025-08-07T11:41:40.562225",
     "exception": false,
     "start_time": "2025-08-07T11:41:40.532566",
     "status": "completed"
    },
    "tags": []
   },
   "outputs": [
    {
     "name": "stdout",
     "output_type": "stream",
     "text": [
      "MSE Score: 198.81784757720246\n",
      "MAE Score: 7.937798221614226\n",
      "R2 Score: 0.9978857829910709\n",
      "RMSE Score: 14.100278280133427\n"
     ]
    }
   ],
   "source": [
    "print(\"MSE Score:\", mse)\n",
    "print(\"MAE Score:\", mae)\n",
    "print(\"R2 Score:\", r2)\n",
    "print(\"RMSE Score:\", rmse)"
   ]
  },
  {
   "cell_type": "code",
   "execution_count": 40,
   "id": "61483538",
   "metadata": {
    "execution": {
     "iopub.execute_input": "2025-08-07T11:41:40.609221Z",
     "iopub.status.busy": "2025-08-07T11:41:40.608927Z",
     "iopub.status.idle": "2025-08-07T11:41:40.619388Z",
     "shell.execute_reply": "2025-08-07T11:41:40.618637Z"
    },
    "papermill": {
     "duration": 0.035525,
     "end_time": "2025-08-07T11:41:40.620854",
     "exception": false,
     "start_time": "2025-08-07T11:41:40.585329",
     "status": "completed"
    },
    "tags": []
   },
   "outputs": [
    {
     "name": "stdout",
     "output_type": "stream",
     "text": [
      "✨ New regression model added:\n",
      "   MSE: 198.817848, R²: 0.997886\n",
      "   Features: 27\n",
      "💾 Registry updated: Model_Training_History/History_Regression.csv\n"
     ]
    }
   ],
   "source": [
    "regression_params = {\n",
    "    'model_name': model_name_for_saving,\n",
    "    'scaler_name': \"StandardScaler\",\n",
    "    'features_list': feature_columns_for_saving,\n",
    "    'target_column': target_name_for_saving,\n",
    "    'mse': mse,\n",
    "    'mae': mae,\n",
    "    'rmse': rmse,\n",
    "    'r2': r2,\n",
    "    'parameters': json.dumps(training_model.get_params())\n",
    "}\n",
    "save_model_performance_if_better('regression', regression_params)"
   ]
  },
  {
   "cell_type": "markdown",
   "id": "3f69e3d9",
   "metadata": {
    "papermill": {
     "duration": 0.022644,
     "end_time": "2025-08-07T11:41:40.666294",
     "exception": false,
     "start_time": "2025-08-07T11:41:40.643650",
     "status": "completed"
    },
    "tags": []
   },
   "source": [
    "### Tuning with Randomized Grid Search"
   ]
  },
  {
   "cell_type": "code",
   "execution_count": 41,
   "id": "e9ddeadb",
   "metadata": {
    "execution": {
     "iopub.execute_input": "2025-08-07T11:41:40.713097Z",
     "iopub.status.busy": "2025-08-07T11:41:40.712191Z",
     "iopub.status.idle": "2025-08-07T11:41:40.716869Z",
     "shell.execute_reply": "2025-08-07T11:41:40.716089Z"
    },
    "papermill": {
     "duration": 0.02945,
     "end_time": "2025-08-07T11:41:40.718182",
     "exception": false,
     "start_time": "2025-08-07T11:41:40.688732",
     "status": "completed"
    },
    "tags": []
   },
   "outputs": [],
   "source": [
    "grid_search = RandomizedSearchCV(\n",
    "    RandomForestRegressor(random_state=42), \n",
    "    grid_param,\n",
    "    n_iter=number_of_model_for_randomized_grid,\n",
    "    cv=5,\n",
    "    scoring='neg_mean_squared_error',\n",
    "    n_jobs=-1,\n",
    "    verbose=1,\n",
    "    random_state=42\n",
    ")"
   ]
  },
  {
   "cell_type": "code",
   "execution_count": 42,
   "id": "f790d0c4",
   "metadata": {
    "execution": {
     "iopub.execute_input": "2025-08-07T11:41:40.765885Z",
     "iopub.status.busy": "2025-08-07T11:41:40.765119Z",
     "iopub.status.idle": "2025-08-07T13:27:24.425750Z",
     "shell.execute_reply": "2025-08-07T13:27:24.424805Z"
    },
    "papermill": {
     "duration": 6343.709218,
     "end_time": "2025-08-07T13:27:24.450771",
     "exception": false,
     "start_time": "2025-08-07T11:41:40.741553",
     "status": "completed"
    },
    "tags": []
   },
   "outputs": [
    {
     "name": "stdout",
     "output_type": "stream",
     "text": [
      "Starting hyperparameter tuning...\n",
      "Fitting 5 folds for each of 510 candidates, totalling 2550 fits\n",
      "CPU times: user 46.1 s, sys: 9.03 s, total: 55.2 s\n",
      "Wall time: 1h 45min 43s\n"
     ]
    },
    {
     "data": {
      "text/html": [
       "<style>#sk-container-id-6 {color: black;background-color: white;}#sk-container-id-6 pre{padding: 0;}#sk-container-id-6 div.sk-toggleable {background-color: white;}#sk-container-id-6 label.sk-toggleable__label {cursor: pointer;display: block;width: 100%;margin-bottom: 0;padding: 0.3em;box-sizing: border-box;text-align: center;}#sk-container-id-6 label.sk-toggleable__label-arrow:before {content: \"▸\";float: left;margin-right: 0.25em;color: #696969;}#sk-container-id-6 label.sk-toggleable__label-arrow:hover:before {color: black;}#sk-container-id-6 div.sk-estimator:hover label.sk-toggleable__label-arrow:before {color: black;}#sk-container-id-6 div.sk-toggleable__content {max-height: 0;max-width: 0;overflow: hidden;text-align: left;background-color: #f0f8ff;}#sk-container-id-6 div.sk-toggleable__content pre {margin: 0.2em;color: black;border-radius: 0.25em;background-color: #f0f8ff;}#sk-container-id-6 input.sk-toggleable__control:checked~div.sk-toggleable__content {max-height: 200px;max-width: 100%;overflow: auto;}#sk-container-id-6 input.sk-toggleable__control:checked~label.sk-toggleable__label-arrow:before {content: \"▾\";}#sk-container-id-6 div.sk-estimator input.sk-toggleable__control:checked~label.sk-toggleable__label {background-color: #d4ebff;}#sk-container-id-6 div.sk-label input.sk-toggleable__control:checked~label.sk-toggleable__label {background-color: #d4ebff;}#sk-container-id-6 input.sk-hidden--visually {border: 0;clip: rect(1px 1px 1px 1px);clip: rect(1px, 1px, 1px, 1px);height: 1px;margin: -1px;overflow: hidden;padding: 0;position: absolute;width: 1px;}#sk-container-id-6 div.sk-estimator {font-family: monospace;background-color: #f0f8ff;border: 1px dotted black;border-radius: 0.25em;box-sizing: border-box;margin-bottom: 0.5em;}#sk-container-id-6 div.sk-estimator:hover {background-color: #d4ebff;}#sk-container-id-6 div.sk-parallel-item::after {content: \"\";width: 100%;border-bottom: 1px solid gray;flex-grow: 1;}#sk-container-id-6 div.sk-label:hover label.sk-toggleable__label {background-color: #d4ebff;}#sk-container-id-6 div.sk-serial::before {content: \"\";position: absolute;border-left: 1px solid gray;box-sizing: border-box;top: 0;bottom: 0;left: 50%;z-index: 0;}#sk-container-id-6 div.sk-serial {display: flex;flex-direction: column;align-items: center;background-color: white;padding-right: 0.2em;padding-left: 0.2em;position: relative;}#sk-container-id-6 div.sk-item {position: relative;z-index: 1;}#sk-container-id-6 div.sk-parallel {display: flex;align-items: stretch;justify-content: center;background-color: white;position: relative;}#sk-container-id-6 div.sk-item::before, #sk-container-id-6 div.sk-parallel-item::before {content: \"\";position: absolute;border-left: 1px solid gray;box-sizing: border-box;top: 0;bottom: 0;left: 50%;z-index: -1;}#sk-container-id-6 div.sk-parallel-item {display: flex;flex-direction: column;z-index: 1;position: relative;background-color: white;}#sk-container-id-6 div.sk-parallel-item:first-child::after {align-self: flex-end;width: 50%;}#sk-container-id-6 div.sk-parallel-item:last-child::after {align-self: flex-start;width: 50%;}#sk-container-id-6 div.sk-parallel-item:only-child::after {width: 0;}#sk-container-id-6 div.sk-dashed-wrapped {border: 1px dashed gray;margin: 0 0.4em 0.5em 0.4em;box-sizing: border-box;padding-bottom: 0.4em;background-color: white;}#sk-container-id-6 div.sk-label label {font-family: monospace;font-weight: bold;display: inline-block;line-height: 1.2em;}#sk-container-id-6 div.sk-label-container {text-align: center;}#sk-container-id-6 div.sk-container {/* jupyter's `normalize.less` sets `[hidden] { display: none; }` but bootstrap.min.css set `[hidden] { display: none !important; }` so we also need the `!important` here to be able to override the default hidden behavior on the sphinx rendered scikit-learn.org. See: https://github.com/scikit-learn/scikit-learn/issues/21755 */display: inline-block !important;position: relative;}#sk-container-id-6 div.sk-text-repr-fallback {display: none;}</style><div id=\"sk-container-id-6\" class=\"sk-top-container\"><div class=\"sk-text-repr-fallback\"><pre>RandomizedSearchCV(cv=5, estimator=RandomForestRegressor(random_state=42),\n",
       "                   n_iter=510, n_jobs=-1,\n",
       "                   param_distributions=[{&#x27;bootstrap&#x27;: [True],\n",
       "                                         &#x27;max_depth&#x27;: [None, 10, 20, 30],\n",
       "                                         &#x27;max_features&#x27;: [&#x27;sqrt&#x27;, &#x27;log2&#x27;, None],\n",
       "                                         &#x27;max_samples&#x27;: [None, 0.8, 0.9],\n",
       "                                         &#x27;min_impurity_decrease&#x27;: [0.0, 0.01,\n",
       "                                                                   0.02],\n",
       "                                         &#x27;min_samples_leaf&#x27;: [1, 2, 4, 6],\n",
       "                                         &#x27;min_samples_split&#x27;: [2, 5, 10, 15,\n",
       "                                                               20],\n",
       "                                         &#x27;n_estimators&#x27;: [100, 200, 300]},\n",
       "                                        {&#x27;bootstrap&#x27;: [False],\n",
       "                                         &#x27;max_depth&#x27;: [None, 10, 20, 30],\n",
       "                                         &#x27;max_features&#x27;: [&#x27;sqrt&#x27;, &#x27;log2&#x27;, None],\n",
       "                                         &#x27;min_impurity_decrease&#x27;: [0.0, 0.01,\n",
       "                                                                   0.02],\n",
       "                                         &#x27;min_samples_leaf&#x27;: [1, 2, 4, 6],\n",
       "                                         &#x27;min_samples_split&#x27;: [2, 5, 10, 15,\n",
       "                                                               20],\n",
       "                                         &#x27;n_estimators&#x27;: [100, 200, 300]}],\n",
       "                   random_state=42, scoring=&#x27;neg_mean_squared_error&#x27;,\n",
       "                   verbose=1)</pre><b>In a Jupyter environment, please rerun this cell to show the HTML representation or trust the notebook. <br />On GitHub, the HTML representation is unable to render, please try loading this page with nbviewer.org.</b></div><div class=\"sk-container\" hidden><div class=\"sk-item sk-dashed-wrapped\"><div class=\"sk-label-container\"><div class=\"sk-label sk-toggleable\"><input class=\"sk-toggleable__control sk-hidden--visually\" id=\"sk-estimator-id-8\" type=\"checkbox\" ><label for=\"sk-estimator-id-8\" class=\"sk-toggleable__label sk-toggleable__label-arrow\">RandomizedSearchCV</label><div class=\"sk-toggleable__content\"><pre>RandomizedSearchCV(cv=5, estimator=RandomForestRegressor(random_state=42),\n",
       "                   n_iter=510, n_jobs=-1,\n",
       "                   param_distributions=[{&#x27;bootstrap&#x27;: [True],\n",
       "                                         &#x27;max_depth&#x27;: [None, 10, 20, 30],\n",
       "                                         &#x27;max_features&#x27;: [&#x27;sqrt&#x27;, &#x27;log2&#x27;, None],\n",
       "                                         &#x27;max_samples&#x27;: [None, 0.8, 0.9],\n",
       "                                         &#x27;min_impurity_decrease&#x27;: [0.0, 0.01,\n",
       "                                                                   0.02],\n",
       "                                         &#x27;min_samples_leaf&#x27;: [1, 2, 4, 6],\n",
       "                                         &#x27;min_samples_split&#x27;: [2, 5, 10, 15,\n",
       "                                                               20],\n",
       "                                         &#x27;n_estimators&#x27;: [100, 200, 300]},\n",
       "                                        {&#x27;bootstrap&#x27;: [False],\n",
       "                                         &#x27;max_depth&#x27;: [None, 10, 20, 30],\n",
       "                                         &#x27;max_features&#x27;: [&#x27;sqrt&#x27;, &#x27;log2&#x27;, None],\n",
       "                                         &#x27;min_impurity_decrease&#x27;: [0.0, 0.01,\n",
       "                                                                   0.02],\n",
       "                                         &#x27;min_samples_leaf&#x27;: [1, 2, 4, 6],\n",
       "                                         &#x27;min_samples_split&#x27;: [2, 5, 10, 15,\n",
       "                                                               20],\n",
       "                                         &#x27;n_estimators&#x27;: [100, 200, 300]}],\n",
       "                   random_state=42, scoring=&#x27;neg_mean_squared_error&#x27;,\n",
       "                   verbose=1)</pre></div></div></div><div class=\"sk-parallel\"><div class=\"sk-parallel-item\"><div class=\"sk-item\"><div class=\"sk-label-container\"><div class=\"sk-label sk-toggleable\"><input class=\"sk-toggleable__control sk-hidden--visually\" id=\"sk-estimator-id-9\" type=\"checkbox\" ><label for=\"sk-estimator-id-9\" class=\"sk-toggleable__label sk-toggleable__label-arrow\">estimator: RandomForestRegressor</label><div class=\"sk-toggleable__content\"><pre>RandomForestRegressor(random_state=42)</pre></div></div></div><div class=\"sk-serial\"><div class=\"sk-item\"><div class=\"sk-estimator sk-toggleable\"><input class=\"sk-toggleable__control sk-hidden--visually\" id=\"sk-estimator-id-10\" type=\"checkbox\" ><label for=\"sk-estimator-id-10\" class=\"sk-toggleable__label sk-toggleable__label-arrow\">RandomForestRegressor</label><div class=\"sk-toggleable__content\"><pre>RandomForestRegressor(random_state=42)</pre></div></div></div></div></div></div></div></div></div></div>"
      ],
      "text/plain": [
       "RandomizedSearchCV(cv=5, estimator=RandomForestRegressor(random_state=42),\n",
       "                   n_iter=510, n_jobs=-1,\n",
       "                   param_distributions=[{'bootstrap': [True],\n",
       "                                         'max_depth': [None, 10, 20, 30],\n",
       "                                         'max_features': ['sqrt', 'log2', None],\n",
       "                                         'max_samples': [None, 0.8, 0.9],\n",
       "                                         'min_impurity_decrease': [0.0, 0.01,\n",
       "                                                                   0.02],\n",
       "                                         'min_samples_leaf': [1, 2, 4, 6],\n",
       "                                         'min_samples_split': [2, 5, 10, 15,\n",
       "                                                               20],\n",
       "                                         'n_estimators': [100, 200, 300]},\n",
       "                                        {'bootstrap': [False],\n",
       "                                         'max_depth': [None, 10, 20, 30],\n",
       "                                         'max_features': ['sqrt', 'log2', None],\n",
       "                                         'min_impurity_decrease': [0.0, 0.01,\n",
       "                                                                   0.02],\n",
       "                                         'min_samples_leaf': [1, 2, 4, 6],\n",
       "                                         'min_samples_split': [2, 5, 10, 15,\n",
       "                                                               20],\n",
       "                                         'n_estimators': [100, 200, 300]}],\n",
       "                   random_state=42, scoring='neg_mean_squared_error',\n",
       "                   verbose=1)"
      ]
     },
     "execution_count": 42,
     "metadata": {},
     "output_type": "execute_result"
    }
   ],
   "source": [
    "%%time\n",
    "print(\"Starting hyperparameter tuning...\")\n",
    "grid_search.fit(X_train, y_train)"
   ]
  },
  {
   "cell_type": "code",
   "execution_count": 43,
   "id": "b572f297",
   "metadata": {
    "execution": {
     "iopub.execute_input": "2025-08-07T13:27:24.498225Z",
     "iopub.status.busy": "2025-08-07T13:27:24.497451Z",
     "iopub.status.idle": "2025-08-07T13:27:24.502743Z",
     "shell.execute_reply": "2025-08-07T13:27:24.501921Z"
    },
    "papermill": {
     "duration": 0.030508,
     "end_time": "2025-08-07T13:27:24.504138",
     "exception": false,
     "start_time": "2025-08-07T13:27:24.473630",
     "status": "completed"
    },
    "tags": []
   },
   "outputs": [
    {
     "name": "stdout",
     "output_type": "stream",
     "text": [
      "TUNING RESULTS\n",
      "==================================================\n",
      "Best Parameters: {'n_estimators': 300, 'min_samples_split': 2, 'min_samples_leaf': 1, 'min_impurity_decrease': 0.01, 'max_samples': 0.8, 'max_features': None, 'max_depth': 20, 'bootstrap': True}\n",
      "Best Cross-Validation Score (Negative MSE): -192.9663676628361\n",
      "Best Cross-Validation Score (MSE): 192.9663676628361\n",
      "Best Cross-Validation Score (RMSE): 13.891233482410268\n"
     ]
    }
   ],
   "source": [
    "print(\"TUNING RESULTS\")\n",
    "print(\"=\"*50)\n",
    "print(\"Best Parameters:\", grid_search.best_params_)\n",
    "print(\"Best Cross-Validation Score (Negative MSE):\", grid_search.best_score_)\n",
    "print(\"Best Cross-Validation Score (MSE):\", -grid_search.best_score_)\n",
    "print(\"Best Cross-Validation Score (RMSE):\", math.sqrt(-grid_search.best_score_))"
   ]
  },
  {
   "cell_type": "code",
   "execution_count": 44,
   "id": "891be88f",
   "metadata": {
    "execution": {
     "iopub.execute_input": "2025-08-07T13:27:24.552141Z",
     "iopub.status.busy": "2025-08-07T13:27:24.551448Z",
     "iopub.status.idle": "2025-08-07T13:27:24.668917Z",
     "shell.execute_reply": "2025-08-07T13:27:24.668162Z"
    },
    "papermill": {
     "duration": 0.143219,
     "end_time": "2025-08-07T13:27:24.670455",
     "exception": false,
     "start_time": "2025-08-07T13:27:24.527236",
     "status": "completed"
    },
    "tags": []
   },
   "outputs": [],
   "source": [
    "grid_search_best_model = grid_search.best_estimator_\n",
    "y_pred = grid_search_best_model.predict(X_test)"
   ]
  },
  {
   "cell_type": "code",
   "execution_count": 45,
   "id": "039c5e66",
   "metadata": {
    "execution": {
     "iopub.execute_input": "2025-08-07T13:27:24.718143Z",
     "iopub.status.busy": "2025-08-07T13:27:24.717874Z",
     "iopub.status.idle": "2025-08-07T13:27:24.724525Z",
     "shell.execute_reply": "2025-08-07T13:27:24.723808Z"
    },
    "papermill": {
     "duration": 0.031564,
     "end_time": "2025-08-07T13:27:24.725808",
     "exception": false,
     "start_time": "2025-08-07T13:27:24.694244",
     "status": "completed"
    },
    "tags": []
   },
   "outputs": [],
   "source": [
    "mse_grid_search = mean_squared_error(y_test, y_pred)\n",
    "mae_grid_search = mean_absolute_error(y_test, y_pred)\n",
    "r2_grid_search = r2_score(y_test, y_pred)\n",
    "rmse_grid_search = math.sqrt(mse_grid_search)"
   ]
  },
  {
   "cell_type": "code",
   "execution_count": 46,
   "id": "90cdf99e",
   "metadata": {
    "execution": {
     "iopub.execute_input": "2025-08-07T13:27:24.775030Z",
     "iopub.status.busy": "2025-08-07T13:27:24.774136Z",
     "iopub.status.idle": "2025-08-07T13:27:24.778917Z",
     "shell.execute_reply": "2025-08-07T13:27:24.778152Z"
    },
    "papermill": {
     "duration": 0.030807,
     "end_time": "2025-08-07T13:27:24.780192",
     "exception": false,
     "start_time": "2025-08-07T13:27:24.749385",
     "status": "completed"
    },
    "tags": []
   },
   "outputs": [
    {
     "name": "stdout",
     "output_type": "stream",
     "text": [
      "MSE Score: 197.28800291649085\n",
      "MAE Score: 7.98881255941511\n",
      "R2 Score: 0.9979020512669934\n",
      "RMSE Score: 14.045924779682213\n"
     ]
    }
   ],
   "source": [
    "print(\"MSE Score:\", mse_grid_search)\n",
    "print(\"MAE Score:\", mae_grid_search)\n",
    "print(\"R2 Score:\", r2_grid_search)\n",
    "print(\"RMSE Score:\", rmse_grid_search)"
   ]
  },
  {
   "cell_type": "code",
   "execution_count": 47,
   "id": "882dd933",
   "metadata": {
    "execution": {
     "iopub.execute_input": "2025-08-07T13:27:24.828263Z",
     "iopub.status.busy": "2025-08-07T13:27:24.827980Z",
     "iopub.status.idle": "2025-08-07T13:27:24.851747Z",
     "shell.execute_reply": "2025-08-07T13:27:24.850857Z"
    },
    "papermill": {
     "duration": 0.049694,
     "end_time": "2025-08-07T13:27:24.853242",
     "exception": false,
     "start_time": "2025-08-07T13:27:24.803548",
     "status": "completed"
    },
    "tags": []
   },
   "outputs": [
    {
     "name": "stdout",
     "output_type": "stream",
     "text": [
      "✨ New regression model added:\n",
      "   MSE: 197.288003, R²: 0.997902\n",
      "   Features: 27\n",
      "💾 Registry updated: Model_Training_History/History_Regression.csv\n"
     ]
    }
   ],
   "source": [
    "regression_params = {\n",
    "    'model_name': model_name_for_saving + \" Tuned\",\n",
    "    'scaler_name': \"StandardScaler\",\n",
    "    'features_list': feature_columns_for_saving,\n",
    "    'target_column': target_name_for_saving,\n",
    "    'mse': mse_grid_search,\n",
    "    'mae': mae_grid_search,\n",
    "    'rmse': rmse_grid_search,\n",
    "    'r2': r2_grid_search,\n",
    "    'parameters' : json.dumps({\n",
    "        \"best_params\": grid_search.best_params_,\n",
    "        \"cv_score\": grid_search.best_score_,\n",
    "        \"all_params\": grid_search_best_model.get_params()\n",
    "    })\n",
    "}\n",
    "save_model_performance_if_better('regression', regression_params)"
   ]
  },
  {
   "cell_type": "markdown",
   "id": "4ba3f381",
   "metadata": {
    "papermill": {
     "duration": 0.022974,
     "end_time": "2025-08-07T13:27:24.899708",
     "exception": false,
     "start_time": "2025-08-07T13:27:24.876734",
     "status": "completed"
    },
    "tags": []
   },
   "source": [
    "## Robust Scaler"
   ]
  },
  {
   "cell_type": "code",
   "execution_count": 48,
   "id": "d169e43b",
   "metadata": {
    "execution": {
     "iopub.execute_input": "2025-08-07T13:27:24.947130Z",
     "iopub.status.busy": "2025-08-07T13:27:24.946358Z",
     "iopub.status.idle": "2025-08-07T13:27:24.982558Z",
     "shell.execute_reply": "2025-08-07T13:27:24.981653Z"
    },
    "papermill": {
     "duration": 0.061519,
     "end_time": "2025-08-07T13:27:24.984207",
     "exception": false,
     "start_time": "2025-08-07T13:27:24.922688",
     "status": "completed"
    },
    "tags": []
   },
   "outputs": [],
   "source": [
    "scaler = RobustScaler()\n",
    "X_train = scaler.fit_transform(X_train_raw)\n",
    "X_test = scaler.transform(X_test_raw)"
   ]
  },
  {
   "cell_type": "code",
   "execution_count": 49,
   "id": "1a18c829",
   "metadata": {
    "execution": {
     "iopub.execute_input": "2025-08-07T13:27:25.032061Z",
     "iopub.status.busy": "2025-08-07T13:27:25.031763Z",
     "iopub.status.idle": "2025-08-07T13:27:25.037654Z",
     "shell.execute_reply": "2025-08-07T13:27:25.036955Z"
    },
    "papermill": {
     "duration": 0.031066,
     "end_time": "2025-08-07T13:27:25.038877",
     "exception": false,
     "start_time": "2025-08-07T13:27:25.007811",
     "status": "completed"
    },
    "tags": []
   },
   "outputs": [
    {
     "data": {
      "text/plain": [
       "array([[ 0.6       ,  0.66666667, -0.16666667, ..., -0.03738547,\n",
       "         1.44008264,  8.87596899],\n",
       "       [ 1.        , -0.46666667,  0.33333333, ..., -0.84268652,\n",
       "         0.62603306,  0.        ],\n",
       "       [-0.8       , -0.13333333, -1.        , ..., -0.84268652,\n",
       "         0.        ,  0.        ],\n",
       "       ...,\n",
       "       [ 0.4       ,  0.73333333, -0.16666667, ...,  0.5899051 ,\n",
       "         0.6322314 ,  0.75193798],\n",
       "       [-1.        , -0.2       ,  0.75      , ..., -0.84268652,\n",
       "         0.        ,  0.        ],\n",
       "       [ 0.6       , -0.46666667, -0.33333333, ...,  0.61755563,\n",
       "         0.59917355,  7.5       ]])"
      ]
     },
     "execution_count": 49,
     "metadata": {},
     "output_type": "execute_result"
    }
   ],
   "source": [
    "X_train"
   ]
  },
  {
   "cell_type": "code",
   "execution_count": 50,
   "id": "8036e711",
   "metadata": {
    "execution": {
     "iopub.execute_input": "2025-08-07T13:27:25.086429Z",
     "iopub.status.busy": "2025-08-07T13:27:25.086144Z",
     "iopub.status.idle": "2025-08-07T13:27:25.091790Z",
     "shell.execute_reply": "2025-08-07T13:27:25.091118Z"
    },
    "papermill": {
     "duration": 0.030661,
     "end_time": "2025-08-07T13:27:25.093003",
     "exception": false,
     "start_time": "2025-08-07T13:27:25.062342",
     "status": "completed"
    },
    "tags": []
   },
   "outputs": [
    {
     "data": {
      "text/plain": [
       "array([[ 4.00000000e-01, -8.66666667e-01,  8.33333333e-01, ...,\n",
       "         6.20009817e-01,  0.00000000e+00,  0.00000000e+00],\n",
       "       [ 0.00000000e+00, -4.66666667e-01,  2.50000000e-01, ...,\n",
       "         7.40592277e-01,  1.52892562e-01,  0.00000000e+00],\n",
       "       [ 4.00000000e-01, -9.33333333e-01, -5.83333333e-01, ...,\n",
       "         7.82804319e-01,  0.00000000e+00,  0.00000000e+00],\n",
       "       ...,\n",
       "       [-8.00000000e-01, -6.00000000e-01,  4.16666667e-01, ...,\n",
       "        -8.40559555e-01,  4.19421488e-01,  0.00000000e+00],\n",
       "       [-4.00000000e-01, -7.33333333e-01,  6.66666667e-01, ...,\n",
       "        -8.42686518e-01,  0.00000000e+00,  6.67829457e+00],\n",
       "       [ 0.00000000e+00,  4.66666667e-01,  8.33333333e-01, ...,\n",
       "         1.71793194e-03,  0.00000000e+00,  0.00000000e+00]])"
      ]
     },
     "execution_count": 50,
     "metadata": {},
     "output_type": "execute_result"
    }
   ],
   "source": [
    "X_test"
   ]
  },
  {
   "cell_type": "markdown",
   "id": "d1d89f50",
   "metadata": {
    "papermill": {
     "duration": 0.023108,
     "end_time": "2025-08-07T13:27:25.139616",
     "exception": false,
     "start_time": "2025-08-07T13:27:25.116508",
     "status": "completed"
    },
    "tags": []
   },
   "source": [
    "### Default Parameters"
   ]
  },
  {
   "cell_type": "code",
   "execution_count": 51,
   "id": "16603e72",
   "metadata": {
    "execution": {
     "iopub.execute_input": "2025-08-07T13:27:25.187310Z",
     "iopub.status.busy": "2025-08-07T13:27:25.187036Z",
     "iopub.status.idle": "2025-08-07T13:27:25.193063Z",
     "shell.execute_reply": "2025-08-07T13:27:25.192296Z"
    },
    "papermill": {
     "duration": 0.031454,
     "end_time": "2025-08-07T13:27:25.194525",
     "exception": false,
     "start_time": "2025-08-07T13:27:25.163071",
     "status": "completed"
    },
    "tags": []
   },
   "outputs": [
    {
     "data": {
      "text/html": [
       "<style>#sk-container-id-7 {color: black;background-color: white;}#sk-container-id-7 pre{padding: 0;}#sk-container-id-7 div.sk-toggleable {background-color: white;}#sk-container-id-7 label.sk-toggleable__label {cursor: pointer;display: block;width: 100%;margin-bottom: 0;padding: 0.3em;box-sizing: border-box;text-align: center;}#sk-container-id-7 label.sk-toggleable__label-arrow:before {content: \"▸\";float: left;margin-right: 0.25em;color: #696969;}#sk-container-id-7 label.sk-toggleable__label-arrow:hover:before {color: black;}#sk-container-id-7 div.sk-estimator:hover label.sk-toggleable__label-arrow:before {color: black;}#sk-container-id-7 div.sk-toggleable__content {max-height: 0;max-width: 0;overflow: hidden;text-align: left;background-color: #f0f8ff;}#sk-container-id-7 div.sk-toggleable__content pre {margin: 0.2em;color: black;border-radius: 0.25em;background-color: #f0f8ff;}#sk-container-id-7 input.sk-toggleable__control:checked~div.sk-toggleable__content {max-height: 200px;max-width: 100%;overflow: auto;}#sk-container-id-7 input.sk-toggleable__control:checked~label.sk-toggleable__label-arrow:before {content: \"▾\";}#sk-container-id-7 div.sk-estimator input.sk-toggleable__control:checked~label.sk-toggleable__label {background-color: #d4ebff;}#sk-container-id-7 div.sk-label input.sk-toggleable__control:checked~label.sk-toggleable__label {background-color: #d4ebff;}#sk-container-id-7 input.sk-hidden--visually {border: 0;clip: rect(1px 1px 1px 1px);clip: rect(1px, 1px, 1px, 1px);height: 1px;margin: -1px;overflow: hidden;padding: 0;position: absolute;width: 1px;}#sk-container-id-7 div.sk-estimator {font-family: monospace;background-color: #f0f8ff;border: 1px dotted black;border-radius: 0.25em;box-sizing: border-box;margin-bottom: 0.5em;}#sk-container-id-7 div.sk-estimator:hover {background-color: #d4ebff;}#sk-container-id-7 div.sk-parallel-item::after {content: \"\";width: 100%;border-bottom: 1px solid gray;flex-grow: 1;}#sk-container-id-7 div.sk-label:hover label.sk-toggleable__label {background-color: #d4ebff;}#sk-container-id-7 div.sk-serial::before {content: \"\";position: absolute;border-left: 1px solid gray;box-sizing: border-box;top: 0;bottom: 0;left: 50%;z-index: 0;}#sk-container-id-7 div.sk-serial {display: flex;flex-direction: column;align-items: center;background-color: white;padding-right: 0.2em;padding-left: 0.2em;position: relative;}#sk-container-id-7 div.sk-item {position: relative;z-index: 1;}#sk-container-id-7 div.sk-parallel {display: flex;align-items: stretch;justify-content: center;background-color: white;position: relative;}#sk-container-id-7 div.sk-item::before, #sk-container-id-7 div.sk-parallel-item::before {content: \"\";position: absolute;border-left: 1px solid gray;box-sizing: border-box;top: 0;bottom: 0;left: 50%;z-index: -1;}#sk-container-id-7 div.sk-parallel-item {display: flex;flex-direction: column;z-index: 1;position: relative;background-color: white;}#sk-container-id-7 div.sk-parallel-item:first-child::after {align-self: flex-end;width: 50%;}#sk-container-id-7 div.sk-parallel-item:last-child::after {align-self: flex-start;width: 50%;}#sk-container-id-7 div.sk-parallel-item:only-child::after {width: 0;}#sk-container-id-7 div.sk-dashed-wrapped {border: 1px dashed gray;margin: 0 0.4em 0.5em 0.4em;box-sizing: border-box;padding-bottom: 0.4em;background-color: white;}#sk-container-id-7 div.sk-label label {font-family: monospace;font-weight: bold;display: inline-block;line-height: 1.2em;}#sk-container-id-7 div.sk-label-container {text-align: center;}#sk-container-id-7 div.sk-container {/* jupyter's `normalize.less` sets `[hidden] { display: none; }` but bootstrap.min.css set `[hidden] { display: none !important; }` so we also need the `!important` here to be able to override the default hidden behavior on the sphinx rendered scikit-learn.org. See: https://github.com/scikit-learn/scikit-learn/issues/21755 */display: inline-block !important;position: relative;}#sk-container-id-7 div.sk-text-repr-fallback {display: none;}</style><div id=\"sk-container-id-7\" class=\"sk-top-container\"><div class=\"sk-text-repr-fallback\"><pre>RandomForestRegressor(random_state=42)</pre><b>In a Jupyter environment, please rerun this cell to show the HTML representation or trust the notebook. <br />On GitHub, the HTML representation is unable to render, please try loading this page with nbviewer.org.</b></div><div class=\"sk-container\" hidden><div class=\"sk-item\"><div class=\"sk-estimator sk-toggleable\"><input class=\"sk-toggleable__control sk-hidden--visually\" id=\"sk-estimator-id-11\" type=\"checkbox\" checked><label for=\"sk-estimator-id-11\" class=\"sk-toggleable__label sk-toggleable__label-arrow\">RandomForestRegressor</label><div class=\"sk-toggleable__content\"><pre>RandomForestRegressor(random_state=42)</pre></div></div></div></div></div>"
      ],
      "text/plain": [
       "RandomForestRegressor(random_state=42)"
      ]
     },
     "execution_count": 51,
     "metadata": {},
     "output_type": "execute_result"
    }
   ],
   "source": [
    "training_model = RandomForestRegressor(random_state=42)\n",
    "training_model"
   ]
  },
  {
   "cell_type": "code",
   "execution_count": 52,
   "id": "7882232d",
   "metadata": {
    "execution": {
     "iopub.execute_input": "2025-08-07T13:27:25.244252Z",
     "iopub.status.busy": "2025-08-07T13:27:25.243619Z",
     "iopub.status.idle": "2025-08-07T13:27:34.552460Z",
     "shell.execute_reply": "2025-08-07T13:27:34.551682Z"
    },
    "papermill": {
     "duration": 9.335615,
     "end_time": "2025-08-07T13:27:34.553737",
     "exception": false,
     "start_time": "2025-08-07T13:27:25.218122",
     "status": "completed"
    },
    "tags": []
   },
   "outputs": [
    {
     "name": "stdout",
     "output_type": "stream",
     "text": [
      "CPU times: user 9.3 s, sys: 0 ns, total: 9.3 s\n",
      "Wall time: 9.3 s\n"
     ]
    },
    {
     "data": {
      "text/html": [
       "<style>#sk-container-id-8 {color: black;background-color: white;}#sk-container-id-8 pre{padding: 0;}#sk-container-id-8 div.sk-toggleable {background-color: white;}#sk-container-id-8 label.sk-toggleable__label {cursor: pointer;display: block;width: 100%;margin-bottom: 0;padding: 0.3em;box-sizing: border-box;text-align: center;}#sk-container-id-8 label.sk-toggleable__label-arrow:before {content: \"▸\";float: left;margin-right: 0.25em;color: #696969;}#sk-container-id-8 label.sk-toggleable__label-arrow:hover:before {color: black;}#sk-container-id-8 div.sk-estimator:hover label.sk-toggleable__label-arrow:before {color: black;}#sk-container-id-8 div.sk-toggleable__content {max-height: 0;max-width: 0;overflow: hidden;text-align: left;background-color: #f0f8ff;}#sk-container-id-8 div.sk-toggleable__content pre {margin: 0.2em;color: black;border-radius: 0.25em;background-color: #f0f8ff;}#sk-container-id-8 input.sk-toggleable__control:checked~div.sk-toggleable__content {max-height: 200px;max-width: 100%;overflow: auto;}#sk-container-id-8 input.sk-toggleable__control:checked~label.sk-toggleable__label-arrow:before {content: \"▾\";}#sk-container-id-8 div.sk-estimator input.sk-toggleable__control:checked~label.sk-toggleable__label {background-color: #d4ebff;}#sk-container-id-8 div.sk-label input.sk-toggleable__control:checked~label.sk-toggleable__label {background-color: #d4ebff;}#sk-container-id-8 input.sk-hidden--visually {border: 0;clip: rect(1px 1px 1px 1px);clip: rect(1px, 1px, 1px, 1px);height: 1px;margin: -1px;overflow: hidden;padding: 0;position: absolute;width: 1px;}#sk-container-id-8 div.sk-estimator {font-family: monospace;background-color: #f0f8ff;border: 1px dotted black;border-radius: 0.25em;box-sizing: border-box;margin-bottom: 0.5em;}#sk-container-id-8 div.sk-estimator:hover {background-color: #d4ebff;}#sk-container-id-8 div.sk-parallel-item::after {content: \"\";width: 100%;border-bottom: 1px solid gray;flex-grow: 1;}#sk-container-id-8 div.sk-label:hover label.sk-toggleable__label {background-color: #d4ebff;}#sk-container-id-8 div.sk-serial::before {content: \"\";position: absolute;border-left: 1px solid gray;box-sizing: border-box;top: 0;bottom: 0;left: 50%;z-index: 0;}#sk-container-id-8 div.sk-serial {display: flex;flex-direction: column;align-items: center;background-color: white;padding-right: 0.2em;padding-left: 0.2em;position: relative;}#sk-container-id-8 div.sk-item {position: relative;z-index: 1;}#sk-container-id-8 div.sk-parallel {display: flex;align-items: stretch;justify-content: center;background-color: white;position: relative;}#sk-container-id-8 div.sk-item::before, #sk-container-id-8 div.sk-parallel-item::before {content: \"\";position: absolute;border-left: 1px solid gray;box-sizing: border-box;top: 0;bottom: 0;left: 50%;z-index: -1;}#sk-container-id-8 div.sk-parallel-item {display: flex;flex-direction: column;z-index: 1;position: relative;background-color: white;}#sk-container-id-8 div.sk-parallel-item:first-child::after {align-self: flex-end;width: 50%;}#sk-container-id-8 div.sk-parallel-item:last-child::after {align-self: flex-start;width: 50%;}#sk-container-id-8 div.sk-parallel-item:only-child::after {width: 0;}#sk-container-id-8 div.sk-dashed-wrapped {border: 1px dashed gray;margin: 0 0.4em 0.5em 0.4em;box-sizing: border-box;padding-bottom: 0.4em;background-color: white;}#sk-container-id-8 div.sk-label label {font-family: monospace;font-weight: bold;display: inline-block;line-height: 1.2em;}#sk-container-id-8 div.sk-label-container {text-align: center;}#sk-container-id-8 div.sk-container {/* jupyter's `normalize.less` sets `[hidden] { display: none; }` but bootstrap.min.css set `[hidden] { display: none !important; }` so we also need the `!important` here to be able to override the default hidden behavior on the sphinx rendered scikit-learn.org. See: https://github.com/scikit-learn/scikit-learn/issues/21755 */display: inline-block !important;position: relative;}#sk-container-id-8 div.sk-text-repr-fallback {display: none;}</style><div id=\"sk-container-id-8\" class=\"sk-top-container\"><div class=\"sk-text-repr-fallback\"><pre>RandomForestRegressor(random_state=42)</pre><b>In a Jupyter environment, please rerun this cell to show the HTML representation or trust the notebook. <br />On GitHub, the HTML representation is unable to render, please try loading this page with nbviewer.org.</b></div><div class=\"sk-container\" hidden><div class=\"sk-item\"><div class=\"sk-estimator sk-toggleable\"><input class=\"sk-toggleable__control sk-hidden--visually\" id=\"sk-estimator-id-12\" type=\"checkbox\" checked><label for=\"sk-estimator-id-12\" class=\"sk-toggleable__label sk-toggleable__label-arrow\">RandomForestRegressor</label><div class=\"sk-toggleable__content\"><pre>RandomForestRegressor(random_state=42)</pre></div></div></div></div></div>"
      ],
      "text/plain": [
       "RandomForestRegressor(random_state=42)"
      ]
     },
     "execution_count": 52,
     "metadata": {},
     "output_type": "execute_result"
    }
   ],
   "source": [
    "%%time\n",
    "training_model.fit(X_train, y_train)"
   ]
  },
  {
   "cell_type": "code",
   "execution_count": 53,
   "id": "6337543d",
   "metadata": {
    "execution": {
     "iopub.execute_input": "2025-08-07T13:27:34.604210Z",
     "iopub.status.busy": "2025-08-07T13:27:34.603400Z",
     "iopub.status.idle": "2025-08-07T13:27:34.663174Z",
     "shell.execute_reply": "2025-08-07T13:27:34.662421Z"
    },
    "papermill": {
     "duration": 0.08673,
     "end_time": "2025-08-07T13:27:34.664442",
     "exception": false,
     "start_time": "2025-08-07T13:27:34.577712",
     "status": "completed"
    },
    "tags": []
   },
   "outputs": [
    {
     "data": {
      "text/plain": [
       "array([  0.    ,  75.2639,   0.    , ..., 225.7557,   0.    ,   0.    ])"
      ]
     },
     "execution_count": 53,
     "metadata": {},
     "output_type": "execute_result"
    }
   ],
   "source": [
    "y_pred = training_model.predict(X_test)\n",
    "y_pred"
   ]
  },
  {
   "cell_type": "code",
   "execution_count": 54,
   "id": "1c0d3a08",
   "metadata": {
    "execution": {
     "iopub.execute_input": "2025-08-07T13:27:34.714641Z",
     "iopub.status.busy": "2025-08-07T13:27:34.714177Z",
     "iopub.status.idle": "2025-08-07T13:27:34.722196Z",
     "shell.execute_reply": "2025-08-07T13:27:34.721199Z"
    },
    "papermill": {
     "duration": 0.034849,
     "end_time": "2025-08-07T13:27:34.723597",
     "exception": false,
     "start_time": "2025-08-07T13:27:34.688748",
     "status": "completed"
    },
    "tags": []
   },
   "outputs": [
    {
     "data": {
      "text/plain": [
       "5158       0.00\n",
       "3831     105.26\n",
       "5117       0.00\n",
       "6326     758.39\n",
       "11359    135.87\n",
       "          ...  \n",
       "10290     74.58\n",
       "13995      0.00\n",
       "9665     241.81\n",
       "2276       0.00\n",
       "4174       0.00\n",
       "Name: SolarRadiation, Length: 2924, dtype: float64"
      ]
     },
     "execution_count": 54,
     "metadata": {},
     "output_type": "execute_result"
    }
   ],
   "source": [
    "y_test"
   ]
  },
  {
   "cell_type": "code",
   "execution_count": 55,
   "id": "596d1bf9",
   "metadata": {
    "execution": {
     "iopub.execute_input": "2025-08-07T13:27:34.772630Z",
     "iopub.status.busy": "2025-08-07T13:27:34.772020Z",
     "iopub.status.idle": "2025-08-07T13:27:34.777808Z",
     "shell.execute_reply": "2025-08-07T13:27:34.777205Z"
    },
    "papermill": {
     "duration": 0.031528,
     "end_time": "2025-08-07T13:27:34.778989",
     "exception": false,
     "start_time": "2025-08-07T13:27:34.747461",
     "status": "completed"
    },
    "tags": []
   },
   "outputs": [],
   "source": [
    "mse = mean_squared_error(y_test, y_pred)\n",
    "mae = mean_absolute_error(y_test, y_pred)\n",
    "r2 = r2_score(y_test, y_pred)\n",
    "rmse = math.sqrt(mse)"
   ]
  },
  {
   "cell_type": "code",
   "execution_count": 56,
   "id": "bb8d2657",
   "metadata": {
    "execution": {
     "iopub.execute_input": "2025-08-07T13:27:34.828451Z",
     "iopub.status.busy": "2025-08-07T13:27:34.827757Z",
     "iopub.status.idle": "2025-08-07T13:27:34.832200Z",
     "shell.execute_reply": "2025-08-07T13:27:34.831354Z"
    },
    "papermill": {
     "duration": 0.030468,
     "end_time": "2025-08-07T13:27:34.833425",
     "exception": false,
     "start_time": "2025-08-07T13:27:34.802957",
     "status": "completed"
    },
    "tags": []
   },
   "outputs": [
    {
     "name": "stdout",
     "output_type": "stream",
     "text": [
      "MSE Score: 198.84060963010256\n",
      "MAE Score: 7.936934131326949\n",
      "R2 Score: 0.9978855409407721\n",
      "RMSE Score: 14.101085406099156\n"
     ]
    }
   ],
   "source": [
    "print(\"MSE Score:\", mse)\n",
    "print(\"MAE Score:\", mae)\n",
    "print(\"R2 Score:\", r2)\n",
    "print(\"RMSE Score:\", rmse)"
   ]
  },
  {
   "cell_type": "code",
   "execution_count": 57,
   "id": "65eeb228",
   "metadata": {
    "execution": {
     "iopub.execute_input": "2025-08-07T13:27:34.882813Z",
     "iopub.status.busy": "2025-08-07T13:27:34.882507Z",
     "iopub.status.idle": "2025-08-07T13:27:34.892923Z",
     "shell.execute_reply": "2025-08-07T13:27:34.892178Z"
    },
    "papermill": {
     "duration": 0.036315,
     "end_time": "2025-08-07T13:27:34.894185",
     "exception": false,
     "start_time": "2025-08-07T13:27:34.857870",
     "status": "completed"
    },
    "tags": []
   },
   "outputs": [
    {
     "name": "stdout",
     "output_type": "stream",
     "text": [
      "✨ New regression model added:\n",
      "   MSE: 198.840610, R²: 0.997886\n",
      "   Features: 27\n",
      "💾 Registry updated: Model_Training_History/History_Regression.csv\n"
     ]
    }
   ],
   "source": [
    "regression_params = {\n",
    "    'model_name': model_name_for_saving,\n",
    "    'scaler_name': \"RobustScaler\",\n",
    "    'features_list': feature_columns_for_saving,\n",
    "    'target_column': target_name_for_saving,\n",
    "    'mse': mse,\n",
    "    'mae': mae,\n",
    "    'rmse': rmse,\n",
    "    'r2': r2,\n",
    "    'parameters': json.dumps(training_model.get_params())\n",
    "}\n",
    "save_model_performance_if_better('regression', regression_params)"
   ]
  },
  {
   "cell_type": "markdown",
   "id": "eee89d13",
   "metadata": {
    "papermill": {
     "duration": 0.023724,
     "end_time": "2025-08-07T13:27:34.941970",
     "exception": false,
     "start_time": "2025-08-07T13:27:34.918246",
     "status": "completed"
    },
    "tags": []
   },
   "source": [
    "### Tuning with Randomized Grid Search"
   ]
  },
  {
   "cell_type": "code",
   "execution_count": 58,
   "id": "17d6637d",
   "metadata": {
    "execution": {
     "iopub.execute_input": "2025-08-07T13:27:34.990671Z",
     "iopub.status.busy": "2025-08-07T13:27:34.990123Z",
     "iopub.status.idle": "2025-08-07T13:27:34.994693Z",
     "shell.execute_reply": "2025-08-07T13:27:34.994029Z"
    },
    "papermill": {
     "duration": 0.030532,
     "end_time": "2025-08-07T13:27:34.995943",
     "exception": false,
     "start_time": "2025-08-07T13:27:34.965411",
     "status": "completed"
    },
    "tags": []
   },
   "outputs": [],
   "source": [
    "grid_search = RandomizedSearchCV(\n",
    "    RandomForestRegressor(random_state=42), \n",
    "    grid_param,\n",
    "    n_iter=number_of_model_for_randomized_grid,\n",
    "    cv=5,\n",
    "    scoring='neg_mean_squared_error',\n",
    "    n_jobs=-1,\n",
    "    verbose=1,\n",
    "    random_state=42\n",
    ")"
   ]
  },
  {
   "cell_type": "code",
   "execution_count": 59,
   "id": "91c02318",
   "metadata": {
    "execution": {
     "iopub.execute_input": "2025-08-07T13:27:35.045728Z",
     "iopub.status.busy": "2025-08-07T13:27:35.045090Z",
     "iopub.status.idle": "2025-08-07T15:13:25.959434Z",
     "shell.execute_reply": "2025-08-07T15:13:25.958606Z"
    },
    "papermill": {
     "duration": 6350.964773,
     "end_time": "2025-08-07T15:13:25.984946",
     "exception": false,
     "start_time": "2025-08-07T13:27:35.020173",
     "status": "completed"
    },
    "tags": []
   },
   "outputs": [
    {
     "name": "stdout",
     "output_type": "stream",
     "text": [
      "Starting hyperparameter tuning...\n",
      "Fitting 5 folds for each of 510 candidates, totalling 2550 fits\n",
      "CPU times: user 45.7 s, sys: 9.67 s, total: 55.4 s\n",
      "Wall time: 1h 45min 50s\n"
     ]
    },
    {
     "data": {
      "text/html": [
       "<style>#sk-container-id-9 {color: black;background-color: white;}#sk-container-id-9 pre{padding: 0;}#sk-container-id-9 div.sk-toggleable {background-color: white;}#sk-container-id-9 label.sk-toggleable__label {cursor: pointer;display: block;width: 100%;margin-bottom: 0;padding: 0.3em;box-sizing: border-box;text-align: center;}#sk-container-id-9 label.sk-toggleable__label-arrow:before {content: \"▸\";float: left;margin-right: 0.25em;color: #696969;}#sk-container-id-9 label.sk-toggleable__label-arrow:hover:before {color: black;}#sk-container-id-9 div.sk-estimator:hover label.sk-toggleable__label-arrow:before {color: black;}#sk-container-id-9 div.sk-toggleable__content {max-height: 0;max-width: 0;overflow: hidden;text-align: left;background-color: #f0f8ff;}#sk-container-id-9 div.sk-toggleable__content pre {margin: 0.2em;color: black;border-radius: 0.25em;background-color: #f0f8ff;}#sk-container-id-9 input.sk-toggleable__control:checked~div.sk-toggleable__content {max-height: 200px;max-width: 100%;overflow: auto;}#sk-container-id-9 input.sk-toggleable__control:checked~label.sk-toggleable__label-arrow:before {content: \"▾\";}#sk-container-id-9 div.sk-estimator input.sk-toggleable__control:checked~label.sk-toggleable__label {background-color: #d4ebff;}#sk-container-id-9 div.sk-label input.sk-toggleable__control:checked~label.sk-toggleable__label {background-color: #d4ebff;}#sk-container-id-9 input.sk-hidden--visually {border: 0;clip: rect(1px 1px 1px 1px);clip: rect(1px, 1px, 1px, 1px);height: 1px;margin: -1px;overflow: hidden;padding: 0;position: absolute;width: 1px;}#sk-container-id-9 div.sk-estimator {font-family: monospace;background-color: #f0f8ff;border: 1px dotted black;border-radius: 0.25em;box-sizing: border-box;margin-bottom: 0.5em;}#sk-container-id-9 div.sk-estimator:hover {background-color: #d4ebff;}#sk-container-id-9 div.sk-parallel-item::after {content: \"\";width: 100%;border-bottom: 1px solid gray;flex-grow: 1;}#sk-container-id-9 div.sk-label:hover label.sk-toggleable__label {background-color: #d4ebff;}#sk-container-id-9 div.sk-serial::before {content: \"\";position: absolute;border-left: 1px solid gray;box-sizing: border-box;top: 0;bottom: 0;left: 50%;z-index: 0;}#sk-container-id-9 div.sk-serial {display: flex;flex-direction: column;align-items: center;background-color: white;padding-right: 0.2em;padding-left: 0.2em;position: relative;}#sk-container-id-9 div.sk-item {position: relative;z-index: 1;}#sk-container-id-9 div.sk-parallel {display: flex;align-items: stretch;justify-content: center;background-color: white;position: relative;}#sk-container-id-9 div.sk-item::before, #sk-container-id-9 div.sk-parallel-item::before {content: \"\";position: absolute;border-left: 1px solid gray;box-sizing: border-box;top: 0;bottom: 0;left: 50%;z-index: -1;}#sk-container-id-9 div.sk-parallel-item {display: flex;flex-direction: column;z-index: 1;position: relative;background-color: white;}#sk-container-id-9 div.sk-parallel-item:first-child::after {align-self: flex-end;width: 50%;}#sk-container-id-9 div.sk-parallel-item:last-child::after {align-self: flex-start;width: 50%;}#sk-container-id-9 div.sk-parallel-item:only-child::after {width: 0;}#sk-container-id-9 div.sk-dashed-wrapped {border: 1px dashed gray;margin: 0 0.4em 0.5em 0.4em;box-sizing: border-box;padding-bottom: 0.4em;background-color: white;}#sk-container-id-9 div.sk-label label {font-family: monospace;font-weight: bold;display: inline-block;line-height: 1.2em;}#sk-container-id-9 div.sk-label-container {text-align: center;}#sk-container-id-9 div.sk-container {/* jupyter's `normalize.less` sets `[hidden] { display: none; }` but bootstrap.min.css set `[hidden] { display: none !important; }` so we also need the `!important` here to be able to override the default hidden behavior on the sphinx rendered scikit-learn.org. See: https://github.com/scikit-learn/scikit-learn/issues/21755 */display: inline-block !important;position: relative;}#sk-container-id-9 div.sk-text-repr-fallback {display: none;}</style><div id=\"sk-container-id-9\" class=\"sk-top-container\"><div class=\"sk-text-repr-fallback\"><pre>RandomizedSearchCV(cv=5, estimator=RandomForestRegressor(random_state=42),\n",
       "                   n_iter=510, n_jobs=-1,\n",
       "                   param_distributions=[{&#x27;bootstrap&#x27;: [True],\n",
       "                                         &#x27;max_depth&#x27;: [None, 10, 20, 30],\n",
       "                                         &#x27;max_features&#x27;: [&#x27;sqrt&#x27;, &#x27;log2&#x27;, None],\n",
       "                                         &#x27;max_samples&#x27;: [None, 0.8, 0.9],\n",
       "                                         &#x27;min_impurity_decrease&#x27;: [0.0, 0.01,\n",
       "                                                                   0.02],\n",
       "                                         &#x27;min_samples_leaf&#x27;: [1, 2, 4, 6],\n",
       "                                         &#x27;min_samples_split&#x27;: [2, 5, 10, 15,\n",
       "                                                               20],\n",
       "                                         &#x27;n_estimators&#x27;: [100, 200, 300]},\n",
       "                                        {&#x27;bootstrap&#x27;: [False],\n",
       "                                         &#x27;max_depth&#x27;: [None, 10, 20, 30],\n",
       "                                         &#x27;max_features&#x27;: [&#x27;sqrt&#x27;, &#x27;log2&#x27;, None],\n",
       "                                         &#x27;min_impurity_decrease&#x27;: [0.0, 0.01,\n",
       "                                                                   0.02],\n",
       "                                         &#x27;min_samples_leaf&#x27;: [1, 2, 4, 6],\n",
       "                                         &#x27;min_samples_split&#x27;: [2, 5, 10, 15,\n",
       "                                                               20],\n",
       "                                         &#x27;n_estimators&#x27;: [100, 200, 300]}],\n",
       "                   random_state=42, scoring=&#x27;neg_mean_squared_error&#x27;,\n",
       "                   verbose=1)</pre><b>In a Jupyter environment, please rerun this cell to show the HTML representation or trust the notebook. <br />On GitHub, the HTML representation is unable to render, please try loading this page with nbviewer.org.</b></div><div class=\"sk-container\" hidden><div class=\"sk-item sk-dashed-wrapped\"><div class=\"sk-label-container\"><div class=\"sk-label sk-toggleable\"><input class=\"sk-toggleable__control sk-hidden--visually\" id=\"sk-estimator-id-13\" type=\"checkbox\" ><label for=\"sk-estimator-id-13\" class=\"sk-toggleable__label sk-toggleable__label-arrow\">RandomizedSearchCV</label><div class=\"sk-toggleable__content\"><pre>RandomizedSearchCV(cv=5, estimator=RandomForestRegressor(random_state=42),\n",
       "                   n_iter=510, n_jobs=-1,\n",
       "                   param_distributions=[{&#x27;bootstrap&#x27;: [True],\n",
       "                                         &#x27;max_depth&#x27;: [None, 10, 20, 30],\n",
       "                                         &#x27;max_features&#x27;: [&#x27;sqrt&#x27;, &#x27;log2&#x27;, None],\n",
       "                                         &#x27;max_samples&#x27;: [None, 0.8, 0.9],\n",
       "                                         &#x27;min_impurity_decrease&#x27;: [0.0, 0.01,\n",
       "                                                                   0.02],\n",
       "                                         &#x27;min_samples_leaf&#x27;: [1, 2, 4, 6],\n",
       "                                         &#x27;min_samples_split&#x27;: [2, 5, 10, 15,\n",
       "                                                               20],\n",
       "                                         &#x27;n_estimators&#x27;: [100, 200, 300]},\n",
       "                                        {&#x27;bootstrap&#x27;: [False],\n",
       "                                         &#x27;max_depth&#x27;: [None, 10, 20, 30],\n",
       "                                         &#x27;max_features&#x27;: [&#x27;sqrt&#x27;, &#x27;log2&#x27;, None],\n",
       "                                         &#x27;min_impurity_decrease&#x27;: [0.0, 0.01,\n",
       "                                                                   0.02],\n",
       "                                         &#x27;min_samples_leaf&#x27;: [1, 2, 4, 6],\n",
       "                                         &#x27;min_samples_split&#x27;: [2, 5, 10, 15,\n",
       "                                                               20],\n",
       "                                         &#x27;n_estimators&#x27;: [100, 200, 300]}],\n",
       "                   random_state=42, scoring=&#x27;neg_mean_squared_error&#x27;,\n",
       "                   verbose=1)</pre></div></div></div><div class=\"sk-parallel\"><div class=\"sk-parallel-item\"><div class=\"sk-item\"><div class=\"sk-label-container\"><div class=\"sk-label sk-toggleable\"><input class=\"sk-toggleable__control sk-hidden--visually\" id=\"sk-estimator-id-14\" type=\"checkbox\" ><label for=\"sk-estimator-id-14\" class=\"sk-toggleable__label sk-toggleable__label-arrow\">estimator: RandomForestRegressor</label><div class=\"sk-toggleable__content\"><pre>RandomForestRegressor(random_state=42)</pre></div></div></div><div class=\"sk-serial\"><div class=\"sk-item\"><div class=\"sk-estimator sk-toggleable\"><input class=\"sk-toggleable__control sk-hidden--visually\" id=\"sk-estimator-id-15\" type=\"checkbox\" ><label for=\"sk-estimator-id-15\" class=\"sk-toggleable__label sk-toggleable__label-arrow\">RandomForestRegressor</label><div class=\"sk-toggleable__content\"><pre>RandomForestRegressor(random_state=42)</pre></div></div></div></div></div></div></div></div></div></div>"
      ],
      "text/plain": [
       "RandomizedSearchCV(cv=5, estimator=RandomForestRegressor(random_state=42),\n",
       "                   n_iter=510, n_jobs=-1,\n",
       "                   param_distributions=[{'bootstrap': [True],\n",
       "                                         'max_depth': [None, 10, 20, 30],\n",
       "                                         'max_features': ['sqrt', 'log2', None],\n",
       "                                         'max_samples': [None, 0.8, 0.9],\n",
       "                                         'min_impurity_decrease': [0.0, 0.01,\n",
       "                                                                   0.02],\n",
       "                                         'min_samples_leaf': [1, 2, 4, 6],\n",
       "                                         'min_samples_split': [2, 5, 10, 15,\n",
       "                                                               20],\n",
       "                                         'n_estimators': [100, 200, 300]},\n",
       "                                        {'bootstrap': [False],\n",
       "                                         'max_depth': [None, 10, 20, 30],\n",
       "                                         'max_features': ['sqrt', 'log2', None],\n",
       "                                         'min_impurity_decrease': [0.0, 0.01,\n",
       "                                                                   0.02],\n",
       "                                         'min_samples_leaf': [1, 2, 4, 6],\n",
       "                                         'min_samples_split': [2, 5, 10, 15,\n",
       "                                                               20],\n",
       "                                         'n_estimators': [100, 200, 300]}],\n",
       "                   random_state=42, scoring='neg_mean_squared_error',\n",
       "                   verbose=1)"
      ]
     },
     "execution_count": 59,
     "metadata": {},
     "output_type": "execute_result"
    }
   ],
   "source": [
    "%%time\n",
    "print(\"Starting hyperparameter tuning...\")\n",
    "grid_search.fit(X_train, y_train)"
   ]
  },
  {
   "cell_type": "code",
   "execution_count": 60,
   "id": "c246d608",
   "metadata": {
    "execution": {
     "iopub.execute_input": "2025-08-07T15:13:26.035161Z",
     "iopub.status.busy": "2025-08-07T15:13:26.034658Z",
     "iopub.status.idle": "2025-08-07T15:13:26.039621Z",
     "shell.execute_reply": "2025-08-07T15:13:26.038676Z"
    },
    "papermill": {
     "duration": 0.031519,
     "end_time": "2025-08-07T15:13:26.040880",
     "exception": false,
     "start_time": "2025-08-07T15:13:26.009361",
     "status": "completed"
    },
    "tags": []
   },
   "outputs": [
    {
     "name": "stdout",
     "output_type": "stream",
     "text": [
      "TUNING RESULTS\n",
      "==================================================\n",
      "Best Parameters: {'n_estimators': 300, 'min_samples_split': 2, 'min_samples_leaf': 1, 'min_impurity_decrease': 0.01, 'max_samples': 0.8, 'max_features': None, 'max_depth': 20, 'bootstrap': True}\n",
      "Best Cross-Validation Score (Negative MSE): -192.84801250621064\n",
      "Best Cross-Validation Score (MSE): 192.84801250621064\n",
      "Best Cross-Validation Score (RMSE): 13.886972762492574\n"
     ]
    }
   ],
   "source": [
    "print(\"TUNING RESULTS\")\n",
    "print(\"=\"*50)\n",
    "print(\"Best Parameters:\", grid_search.best_params_)\n",
    "print(\"Best Cross-Validation Score (Negative MSE):\", grid_search.best_score_)\n",
    "print(\"Best Cross-Validation Score (MSE):\", -grid_search.best_score_)\n",
    "print(\"Best Cross-Validation Score (RMSE):\", math.sqrt(-grid_search.best_score_))"
   ]
  },
  {
   "cell_type": "code",
   "execution_count": 61,
   "id": "71dc1875",
   "metadata": {
    "execution": {
     "iopub.execute_input": "2025-08-07T15:13:26.091129Z",
     "iopub.status.busy": "2025-08-07T15:13:26.090814Z",
     "iopub.status.idle": "2025-08-07T15:13:26.199847Z",
     "shell.execute_reply": "2025-08-07T15:13:26.198986Z"
    },
    "papermill": {
     "duration": 0.135835,
     "end_time": "2025-08-07T15:13:26.201389",
     "exception": false,
     "start_time": "2025-08-07T15:13:26.065554",
     "status": "completed"
    },
    "tags": []
   },
   "outputs": [],
   "source": [
    "grid_search_best_model = grid_search.best_estimator_\n",
    "y_pred = grid_search_best_model.predict(X_test)"
   ]
  },
  {
   "cell_type": "code",
   "execution_count": 62,
   "id": "dcab2533",
   "metadata": {
    "execution": {
     "iopub.execute_input": "2025-08-07T15:13:26.252589Z",
     "iopub.status.busy": "2025-08-07T15:13:26.252241Z",
     "iopub.status.idle": "2025-08-07T15:13:26.259167Z",
     "shell.execute_reply": "2025-08-07T15:13:26.258420Z"
    },
    "papermill": {
     "duration": 0.033871,
     "end_time": "2025-08-07T15:13:26.260679",
     "exception": false,
     "start_time": "2025-08-07T15:13:26.226808",
     "status": "completed"
    },
    "tags": []
   },
   "outputs": [],
   "source": [
    "mse_grid_search = mean_squared_error(y_test, y_pred)\n",
    "mae_grid_search = mean_absolute_error(y_test, y_pred)\n",
    "r2_grid_search = r2_score(y_test, y_pred)\n",
    "rmse_grid_search = math.sqrt(mse_grid_search)"
   ]
  },
  {
   "cell_type": "code",
   "execution_count": 63,
   "id": "4a860f54",
   "metadata": {
    "execution": {
     "iopub.execute_input": "2025-08-07T15:13:26.313666Z",
     "iopub.status.busy": "2025-08-07T15:13:26.312919Z",
     "iopub.status.idle": "2025-08-07T15:13:26.317784Z",
     "shell.execute_reply": "2025-08-07T15:13:26.316883Z"
    },
    "papermill": {
     "duration": 0.032073,
     "end_time": "2025-08-07T15:13:26.319167",
     "exception": false,
     "start_time": "2025-08-07T15:13:26.287094",
     "status": "completed"
    },
    "tags": []
   },
   "outputs": [
    {
     "name": "stdout",
     "output_type": "stream",
     "text": [
      "MSE Score: 197.29349384216817\n",
      "MAE Score: 7.987117673767715\n",
      "R2 Score: 0.9979019928768206\n",
      "RMSE Score: 14.04612024162431\n"
     ]
    }
   ],
   "source": [
    "print(\"MSE Score:\", mse_grid_search)\n",
    "print(\"MAE Score:\", mae_grid_search)\n",
    "print(\"R2 Score:\", r2_grid_search)\n",
    "print(\"RMSE Score:\", rmse_grid_search)"
   ]
  },
  {
   "cell_type": "code",
   "execution_count": 64,
   "id": "a245ef40",
   "metadata": {
    "execution": {
     "iopub.execute_input": "2025-08-07T15:13:26.370790Z",
     "iopub.status.busy": "2025-08-07T15:13:26.370408Z",
     "iopub.status.idle": "2025-08-07T15:13:26.382865Z",
     "shell.execute_reply": "2025-08-07T15:13:26.381921Z"
    },
    "papermill": {
     "duration": 0.040485,
     "end_time": "2025-08-07T15:13:26.384297",
     "exception": false,
     "start_time": "2025-08-07T15:13:26.343812",
     "status": "completed"
    },
    "tags": []
   },
   "outputs": [
    {
     "name": "stdout",
     "output_type": "stream",
     "text": [
      "✨ New regression model added:\n",
      "   MSE: 197.293494, R²: 0.997902\n",
      "   Features: 27\n",
      "💾 Registry updated: Model_Training_History/History_Regression.csv\n"
     ]
    }
   ],
   "source": [
    "regression_params = {\n",
    "    'model_name': model_name_for_saving + \" Tuned\",\n",
    "    'scaler_name': \"RobustScaler\",\n",
    "    'features_list': feature_columns_for_saving,\n",
    "    'target_column': target_name_for_saving,\n",
    "    'mse': mse_grid_search,\n",
    "    'mae': mae_grid_search,\n",
    "    'rmse': rmse_grid_search,\n",
    "    'r2': r2_grid_search,\n",
    "    'parameters' : json.dumps({\n",
    "        \"best_params\": grid_search.best_params_,\n",
    "        \"cv_score\": grid_search.best_score_,\n",
    "        \"all_params\": grid_search_best_model.get_params()\n",
    "    })\n",
    "}\n",
    "save_model_performance_if_better('regression', regression_params)"
   ]
  },
  {
   "cell_type": "markdown",
   "id": "ff5fc1ba",
   "metadata": {
    "papermill": {
     "duration": 0.02477,
     "end_time": "2025-08-07T15:13:26.436491",
     "exception": false,
     "start_time": "2025-08-07T15:13:26.411721",
     "status": "completed"
    },
    "tags": []
   },
   "source": [
    "# Selected Features"
   ]
  },
  {
   "cell_type": "code",
   "execution_count": 65,
   "id": "b76d21f8",
   "metadata": {
    "execution": {
     "iopub.execute_input": "2025-08-07T15:13:26.487660Z",
     "iopub.status.busy": "2025-08-07T15:13:26.487341Z",
     "iopub.status.idle": "2025-08-07T15:13:26.546429Z",
     "shell.execute_reply": "2025-08-07T15:13:26.545569Z"
    },
    "papermill": {
     "duration": 0.086669,
     "end_time": "2025-08-07T15:13:26.547959",
     "exception": false,
     "start_time": "2025-08-07T15:13:26.461290",
     "status": "completed"
    },
    "tags": []
   },
   "outputs": [
    {
     "name": "stdout",
     "output_type": "stream",
     "text": [
      "SolarRadiation               1.000000\n",
      "SolarEnergy                  0.999867\n",
      "UVIndex                      0.998315\n",
      "DaySegments_Midday           0.594891\n",
      "Temp                         0.400378\n",
      "FeelsLike                    0.344429\n",
      "DaySegments_Morning          0.244659\n",
      "WindSpeed                    0.216803\n",
      "DaySegments_Afternoon        0.215785\n",
      "WindDir                      0.180924\n",
      "SevereRisk                   0.125829\n",
      "Hour                         0.095598\n",
      "Season_Summer                0.093764\n",
      "Visibility                   0.054367\n",
      "SeaLevelPressure             0.026622\n",
      "Year                         0.021999\n",
      "Dew                          0.013910\n",
      "Day                         -0.001404\n",
      "PrecipProb                  -0.013477\n",
      "Season_Rainy                -0.033059\n",
      "Season_Winter               -0.035395\n",
      "Season_Autumn               -0.035413\n",
      "Precip                      -0.039079\n",
      "CloudCover                  -0.055418\n",
      "Month                       -0.061339\n",
      "Windgust                    -0.100270\n",
      "DaySegments_Early Morning   -0.188121\n",
      "DaySegments_Evening         -0.205857\n",
      "DaySegments_Night           -0.252539\n",
      "DaySegments_Late Night      -0.427502\n",
      "Humidity                    -0.452369\n",
      "Name: SolarRadiation, dtype: float64\n"
     ]
    }
   ],
   "source": [
    "numeric_cols = weather_data.select_dtypes(include=[float, int]).columns\n",
    "correlations = weather_data[numeric_cols].corr()['SolarRadiation'].sort_values(ascending=False)\n",
    "print(correlations)"
   ]
  },
  {
   "cell_type": "code",
   "execution_count": 66,
   "id": "9ddd7992",
   "metadata": {
    "execution": {
     "iopub.execute_input": "2025-08-07T15:13:26.599807Z",
     "iopub.status.busy": "2025-08-07T15:13:26.599521Z",
     "iopub.status.idle": "2025-08-07T15:13:26.618001Z",
     "shell.execute_reply": "2025-08-07T15:13:26.616970Z"
    },
    "papermill": {
     "duration": 0.045954,
     "end_time": "2025-08-07T15:13:26.619258",
     "exception": false,
     "start_time": "2025-08-07T15:13:26.573304",
     "status": "completed"
    },
    "tags": []
   },
   "outputs": [
    {
     "name": "stdout",
     "output_type": "stream",
     "text": [
      "<class 'pandas.core.frame.DataFrame'>\n",
      "RangeIndex: 14616 entries, 0 to 14615\n",
      "Data columns (total 36 columns):\n",
      " #   Column                     Non-Null Count  Dtype         \n",
      "---  ------                     --------------  -----         \n",
      " 0   DateTime                   14616 non-null  datetime64[ns]\n",
      " 1   Year                       14616 non-null  int64         \n",
      " 2   Month                      14616 non-null  int64         \n",
      " 3   Day                        14616 non-null  int64         \n",
      " 4   Hour                       14616 non-null  int64         \n",
      " 5   DaySegments                14616 non-null  object        \n",
      " 6   DaySegments_Afternoon      14616 non-null  int64         \n",
      " 7   DaySegments_Early Morning  14616 non-null  int64         \n",
      " 8   DaySegments_Evening        14616 non-null  int64         \n",
      " 9   DaySegments_Late Night     14616 non-null  int64         \n",
      " 10  DaySegments_Midday         14616 non-null  int64         \n",
      " 11  DaySegments_Morning        14616 non-null  int64         \n",
      " 12  DaySegments_Night          14616 non-null  int64         \n",
      " 13  Season_Autumn              14616 non-null  int64         \n",
      " 14  Season_Rainy               14616 non-null  int64         \n",
      " 15  Season_Summer              14616 non-null  int64         \n",
      " 16  Season_Winter              14616 non-null  int64         \n",
      " 17  Season                     14616 non-null  object        \n",
      " 18  Temp                       14616 non-null  float64       \n",
      " 19  FeelsLike                  14616 non-null  float64       \n",
      " 20  Dew                        14616 non-null  float64       \n",
      " 21  Humidity                   14616 non-null  float64       \n",
      " 22  Precip                     14616 non-null  float64       \n",
      " 23  PrecipProb                 14616 non-null  float64       \n",
      " 24  Windgust                   14616 non-null  float64       \n",
      " 25  WindSpeed                  14616 non-null  float64       \n",
      " 26  WindDir                    14616 non-null  float64       \n",
      " 27  SeaLevelPressure           14616 non-null  float64       \n",
      " 28  CloudCover                 14616 non-null  float64       \n",
      " 29  UVIndex                    14616 non-null  float64       \n",
      " 30  SevereRisk                 14616 non-null  float64       \n",
      " 31  Visibility                 14616 non-null  float64       \n",
      " 32  SolarRadiation             14616 non-null  float64       \n",
      " 33  SolarEnergy                14616 non-null  float64       \n",
      " 34  Conditions                 14616 non-null  object        \n",
      " 35  Icon                       14616 non-null  object        \n",
      "dtypes: datetime64[ns](1), float64(16), int64(15), object(4)\n",
      "memory usage: 4.0+ MB\n"
     ]
    }
   ],
   "source": [
    "weather_data.info()"
   ]
  },
  {
   "cell_type": "markdown",
   "id": "11b33fda",
   "metadata": {
    "papermill": {
     "duration": 0.024746,
     "end_time": "2025-08-07T15:13:26.669146",
     "exception": false,
     "start_time": "2025-08-07T15:13:26.644400",
     "status": "completed"
    },
    "tags": []
   },
   "source": [
    "## Run Again"
   ]
  },
  {
   "cell_type": "code",
   "execution_count": 67,
   "id": "401737bf",
   "metadata": {
    "execution": {
     "iopub.execute_input": "2025-08-07T15:13:26.720287Z",
     "iopub.status.busy": "2025-08-07T15:13:26.719994Z",
     "iopub.status.idle": "2025-08-07T15:13:26.726430Z",
     "shell.execute_reply": "2025-08-07T15:13:26.725524Z"
    },
    "papermill": {
     "duration": 0.033854,
     "end_time": "2025-08-07T15:13:26.727875",
     "exception": false,
     "start_time": "2025-08-07T15:13:26.694021",
     "status": "completed"
    },
    "tags": []
   },
   "outputs": [],
   "source": [
    "X_train_raw = weather_data_train.drop(columns=['DateTime', # Model cannot use DateTime as a feature\n",
    "                                                'Year', # No Effect on weather data\n",
    "                                                'Season', # Season is categorical, not numerical\n",
    "                                                'DaySegments', # DaySegments is categorical, not numerical\n",
    "                                                'Visibility',  # Target variable\n",
    "                                                'SolarRadiation', # Target variable\n",
    "                                                'SolarEnergy', # Target variable\n",
    "                                                'Conditions', # Target variable\n",
    "                                                'Icon', # Target variable\n",
    "                                                \n",
    "                                                'Day', # same day from different month act differently\n",
    "                                                'WindDir', # very low correlation with Visibility\n",
    "                                                'Precip']) # very low correlation with Visibility\n",
    "y_train = weather_data_train['SolarRadiation']"
   ]
  },
  {
   "cell_type": "code",
   "execution_count": 68,
   "id": "ea7d6ab9",
   "metadata": {
    "execution": {
     "iopub.execute_input": "2025-08-07T15:13:26.779248Z",
     "iopub.status.busy": "2025-08-07T15:13:26.778963Z",
     "iopub.status.idle": "2025-08-07T15:13:26.784606Z",
     "shell.execute_reply": "2025-08-07T15:13:26.783977Z"
    },
    "papermill": {
     "duration": 0.032818,
     "end_time": "2025-08-07T15:13:26.785827",
     "exception": false,
     "start_time": "2025-08-07T15:13:26.753009",
     "status": "completed"
    },
    "tags": []
   },
   "outputs": [],
   "source": [
    "X_test_raw = weather_data_test.drop(columns=['DateTime', # Model cannot use DateTime as a feature\n",
    "                                                'Year', # No Effect on weather data\n",
    "                                                'Season', # Season is categorical, not numerical\n",
    "                                                'DaySegments', # DaySegments is categorical, not numerical\n",
    "                                                'Visibility',  # Target variable\n",
    "                                                'SolarRadiation', # Target variable\n",
    "                                                'SolarEnergy', # Target variable\n",
    "                                                'Conditions', # Target variable\n",
    "                                                'Icon', # Target variable\n",
    "                                                \n",
    "                                                'Day', # same day from different month act differently\n",
    "                                                'WindDir', # very low correlation with Visibility\n",
    "                                                'Precip']) # very low correlation with Visibility\n",
    "y_test = weather_data_test['SolarRadiation']"
   ]
  },
  {
   "cell_type": "code",
   "execution_count": 69,
   "id": "5e596dec",
   "metadata": {
    "execution": {
     "iopub.execute_input": "2025-08-07T15:13:26.836928Z",
     "iopub.status.busy": "2025-08-07T15:13:26.836622Z",
     "iopub.status.idle": "2025-08-07T15:13:26.840708Z",
     "shell.execute_reply": "2025-08-07T15:13:26.839892Z"
    },
    "papermill": {
     "duration": 0.031079,
     "end_time": "2025-08-07T15:13:26.842003",
     "exception": false,
     "start_time": "2025-08-07T15:13:26.810924",
     "status": "completed"
    },
    "tags": []
   },
   "outputs": [],
   "source": [
    "feature_columns = [col for col in X_train_raw.columns]\n",
    "feature_columns_for_saving = ','.join(feature_columns)"
   ]
  },
  {
   "cell_type": "code",
   "execution_count": 70,
   "id": "f54cd3c7",
   "metadata": {
    "execution": {
     "iopub.execute_input": "2025-08-07T15:13:26.893370Z",
     "iopub.status.busy": "2025-08-07T15:13:26.893077Z",
     "iopub.status.idle": "2025-08-07T15:13:26.897858Z",
     "shell.execute_reply": "2025-08-07T15:13:26.897127Z"
    },
    "papermill": {
     "duration": 0.031709,
     "end_time": "2025-08-07T15:13:26.899120",
     "exception": false,
     "start_time": "2025-08-07T15:13:26.867411",
     "status": "completed"
    },
    "tags": []
   },
   "outputs": [
    {
     "name": "stdout",
     "output_type": "stream",
     "text": [
      "X_train:  11692\n",
      "y_train:  11692\n",
      "\n",
      "X_test:  2924\n",
      "y_test:  2924\n"
     ]
    }
   ],
   "source": [
    "print(\"X_train: \", len(X_train_raw))\n",
    "print(\"y_train: \", len(y_train))\n",
    "print(\"\\nX_test: \", len(X_test_raw))\n",
    "print(\"y_test: \", len(y_test))"
   ]
  },
  {
   "cell_type": "markdown",
   "id": "293f7352",
   "metadata": {
    "papermill": {
     "duration": 0.024866,
     "end_time": "2025-08-07T15:13:26.949285",
     "exception": false,
     "start_time": "2025-08-07T15:13:26.924419",
     "status": "completed"
    },
    "tags": []
   },
   "source": [
    "### MinMax Scaler"
   ]
  },
  {
   "cell_type": "code",
   "execution_count": 71,
   "id": "29e494dc",
   "metadata": {
    "execution": {
     "iopub.execute_input": "2025-08-07T15:13:27.000593Z",
     "iopub.status.busy": "2025-08-07T15:13:27.000256Z",
     "iopub.status.idle": "2025-08-07T15:13:27.012352Z",
     "shell.execute_reply": "2025-08-07T15:13:27.011718Z"
    },
    "papermill": {
     "duration": 0.039323,
     "end_time": "2025-08-07T15:13:27.013753",
     "exception": false,
     "start_time": "2025-08-07T15:13:26.974430",
     "status": "completed"
    },
    "tags": []
   },
   "outputs": [],
   "source": [
    "scaler = MinMaxScaler()\n",
    "X_train = scaler.fit_transform(X_train_raw)\n",
    "X_test = scaler.transform(X_test_raw)"
   ]
  },
  {
   "cell_type": "code",
   "execution_count": 72,
   "id": "ce1fcc24",
   "metadata": {
    "execution": {
     "iopub.execute_input": "2025-08-07T15:13:27.065453Z",
     "iopub.status.busy": "2025-08-07T15:13:27.064886Z",
     "iopub.status.idle": "2025-08-07T15:13:27.070280Z",
     "shell.execute_reply": "2025-08-07T15:13:27.069517Z"
    },
    "papermill": {
     "duration": 0.03266,
     "end_time": "2025-08-07T15:13:27.071599",
     "exception": false,
     "start_time": "2025-08-07T15:13:27.038939",
     "status": "completed"
    },
    "tags": []
   },
   "outputs": [
    {
     "data": {
      "text/plain": [
       "array([[0.72727273, 0.43478261, 0.        , ..., 0.4922    , 0.697     ,\n",
       "        0.31560059],\n",
       "       [0.90909091, 0.69565217, 1.        , ..., 0.        , 0.303     ,\n",
       "        0.07388643],\n",
       "       [0.09090909, 0.        , 0.        , ..., 0.        , 0.        ,\n",
       "        0.07388643],\n",
       "       ...,\n",
       "       [0.63636364, 0.43478261, 0.        , ..., 0.8756    , 0.306     ,\n",
       "        0.09436352],\n",
       "       [0.        , 0.91304348, 0.        , ..., 0.        , 0.        ,\n",
       "        0.07388643],\n",
       "       [0.72727273, 0.34782609, 0.        , ..., 0.8925    , 0.29      ,\n",
       "        0.27812962]])"
      ]
     },
     "execution_count": 72,
     "metadata": {},
     "output_type": "execute_result"
    }
   ],
   "source": [
    "X_train"
   ]
  },
  {
   "cell_type": "code",
   "execution_count": 73,
   "id": "7be588e1",
   "metadata": {
    "execution": {
     "iopub.execute_input": "2025-08-07T15:13:27.124044Z",
     "iopub.status.busy": "2025-08-07T15:13:27.123435Z",
     "iopub.status.idle": "2025-08-07T15:13:27.128712Z",
     "shell.execute_reply": "2025-08-07T15:13:27.127958Z"
    },
    "papermill": {
     "duration": 0.032897,
     "end_time": "2025-08-07T15:13:27.130013",
     "exception": false,
     "start_time": "2025-08-07T15:13:27.097116",
     "status": "completed"
    },
    "tags": []
   },
   "outputs": [
    {
     "data": {
      "text/plain": [
       "array([[0.63636364, 0.95652174, 0.        , ..., 0.894     , 0.        ,\n",
       "        0.07388643],\n",
       "       [0.45454545, 0.65217391, 1.        , ..., 0.9677    , 0.074     ,\n",
       "        0.07388643],\n",
       "       [0.63636364, 0.2173913 , 0.        , ..., 0.9935    , 0.        ,\n",
       "        0.07388643],\n",
       "       ...,\n",
       "       [0.09090909, 0.73913043, 1.        , ..., 0.0013    , 0.203     ,\n",
       "        0.07388643],\n",
       "       [0.27272727, 0.86956522, 0.        , ..., 0.        , 0.        ,\n",
       "        0.25575259],\n",
       "       [0.45454545, 0.95652174, 0.        , ..., 0.5161    , 0.        ,\n",
       "        0.07388643]])"
      ]
     },
     "execution_count": 73,
     "metadata": {},
     "output_type": "execute_result"
    }
   ],
   "source": [
    "X_test"
   ]
  },
  {
   "cell_type": "markdown",
   "id": "e4cd792e",
   "metadata": {
    "papermill": {
     "duration": 0.024736,
     "end_time": "2025-08-07T15:13:27.179964",
     "exception": false,
     "start_time": "2025-08-07T15:13:27.155228",
     "status": "completed"
    },
    "tags": []
   },
   "source": [
    "#### Default Parameters"
   ]
  },
  {
   "cell_type": "code",
   "execution_count": 74,
   "id": "d740988e",
   "metadata": {
    "execution": {
     "iopub.execute_input": "2025-08-07T15:13:27.231677Z",
     "iopub.status.busy": "2025-08-07T15:13:27.230924Z",
     "iopub.status.idle": "2025-08-07T15:13:27.236914Z",
     "shell.execute_reply": "2025-08-07T15:13:27.236266Z"
    },
    "papermill": {
     "duration": 0.033034,
     "end_time": "2025-08-07T15:13:27.238143",
     "exception": false,
     "start_time": "2025-08-07T15:13:27.205109",
     "status": "completed"
    },
    "tags": []
   },
   "outputs": [
    {
     "data": {
      "text/html": [
       "<style>#sk-container-id-10 {color: black;background-color: white;}#sk-container-id-10 pre{padding: 0;}#sk-container-id-10 div.sk-toggleable {background-color: white;}#sk-container-id-10 label.sk-toggleable__label {cursor: pointer;display: block;width: 100%;margin-bottom: 0;padding: 0.3em;box-sizing: border-box;text-align: center;}#sk-container-id-10 label.sk-toggleable__label-arrow:before {content: \"▸\";float: left;margin-right: 0.25em;color: #696969;}#sk-container-id-10 label.sk-toggleable__label-arrow:hover:before {color: black;}#sk-container-id-10 div.sk-estimator:hover label.sk-toggleable__label-arrow:before {color: black;}#sk-container-id-10 div.sk-toggleable__content {max-height: 0;max-width: 0;overflow: hidden;text-align: left;background-color: #f0f8ff;}#sk-container-id-10 div.sk-toggleable__content pre {margin: 0.2em;color: black;border-radius: 0.25em;background-color: #f0f8ff;}#sk-container-id-10 input.sk-toggleable__control:checked~div.sk-toggleable__content {max-height: 200px;max-width: 100%;overflow: auto;}#sk-container-id-10 input.sk-toggleable__control:checked~label.sk-toggleable__label-arrow:before {content: \"▾\";}#sk-container-id-10 div.sk-estimator input.sk-toggleable__control:checked~label.sk-toggleable__label {background-color: #d4ebff;}#sk-container-id-10 div.sk-label input.sk-toggleable__control:checked~label.sk-toggleable__label {background-color: #d4ebff;}#sk-container-id-10 input.sk-hidden--visually {border: 0;clip: rect(1px 1px 1px 1px);clip: rect(1px, 1px, 1px, 1px);height: 1px;margin: -1px;overflow: hidden;padding: 0;position: absolute;width: 1px;}#sk-container-id-10 div.sk-estimator {font-family: monospace;background-color: #f0f8ff;border: 1px dotted black;border-radius: 0.25em;box-sizing: border-box;margin-bottom: 0.5em;}#sk-container-id-10 div.sk-estimator:hover {background-color: #d4ebff;}#sk-container-id-10 div.sk-parallel-item::after {content: \"\";width: 100%;border-bottom: 1px solid gray;flex-grow: 1;}#sk-container-id-10 div.sk-label:hover label.sk-toggleable__label {background-color: #d4ebff;}#sk-container-id-10 div.sk-serial::before {content: \"\";position: absolute;border-left: 1px solid gray;box-sizing: border-box;top: 0;bottom: 0;left: 50%;z-index: 0;}#sk-container-id-10 div.sk-serial {display: flex;flex-direction: column;align-items: center;background-color: white;padding-right: 0.2em;padding-left: 0.2em;position: relative;}#sk-container-id-10 div.sk-item {position: relative;z-index: 1;}#sk-container-id-10 div.sk-parallel {display: flex;align-items: stretch;justify-content: center;background-color: white;position: relative;}#sk-container-id-10 div.sk-item::before, #sk-container-id-10 div.sk-parallel-item::before {content: \"\";position: absolute;border-left: 1px solid gray;box-sizing: border-box;top: 0;bottom: 0;left: 50%;z-index: -1;}#sk-container-id-10 div.sk-parallel-item {display: flex;flex-direction: column;z-index: 1;position: relative;background-color: white;}#sk-container-id-10 div.sk-parallel-item:first-child::after {align-self: flex-end;width: 50%;}#sk-container-id-10 div.sk-parallel-item:last-child::after {align-self: flex-start;width: 50%;}#sk-container-id-10 div.sk-parallel-item:only-child::after {width: 0;}#sk-container-id-10 div.sk-dashed-wrapped {border: 1px dashed gray;margin: 0 0.4em 0.5em 0.4em;box-sizing: border-box;padding-bottom: 0.4em;background-color: white;}#sk-container-id-10 div.sk-label label {font-family: monospace;font-weight: bold;display: inline-block;line-height: 1.2em;}#sk-container-id-10 div.sk-label-container {text-align: center;}#sk-container-id-10 div.sk-container {/* jupyter's `normalize.less` sets `[hidden] { display: none; }` but bootstrap.min.css set `[hidden] { display: none !important; }` so we also need the `!important` here to be able to override the default hidden behavior on the sphinx rendered scikit-learn.org. See: https://github.com/scikit-learn/scikit-learn/issues/21755 */display: inline-block !important;position: relative;}#sk-container-id-10 div.sk-text-repr-fallback {display: none;}</style><div id=\"sk-container-id-10\" class=\"sk-top-container\"><div class=\"sk-text-repr-fallback\"><pre>RandomForestRegressor(random_state=42)</pre><b>In a Jupyter environment, please rerun this cell to show the HTML representation or trust the notebook. <br />On GitHub, the HTML representation is unable to render, please try loading this page with nbviewer.org.</b></div><div class=\"sk-container\" hidden><div class=\"sk-item\"><div class=\"sk-estimator sk-toggleable\"><input class=\"sk-toggleable__control sk-hidden--visually\" id=\"sk-estimator-id-16\" type=\"checkbox\" checked><label for=\"sk-estimator-id-16\" class=\"sk-toggleable__label sk-toggleable__label-arrow\">RandomForestRegressor</label><div class=\"sk-toggleable__content\"><pre>RandomForestRegressor(random_state=42)</pre></div></div></div></div></div>"
      ],
      "text/plain": [
       "RandomForestRegressor(random_state=42)"
      ]
     },
     "execution_count": 74,
     "metadata": {},
     "output_type": "execute_result"
    }
   ],
   "source": [
    "training_model = RandomForestRegressor(random_state=42)\n",
    "training_model"
   ]
  },
  {
   "cell_type": "code",
   "execution_count": 75,
   "id": "605f3a43",
   "metadata": {
    "execution": {
     "iopub.execute_input": "2025-08-07T15:13:27.290289Z",
     "iopub.status.busy": "2025-08-07T15:13:27.289991Z",
     "iopub.status.idle": "2025-08-07T15:13:35.164163Z",
     "shell.execute_reply": "2025-08-07T15:13:35.163362Z"
    },
    "papermill": {
     "duration": 7.901903,
     "end_time": "2025-08-07T15:13:35.165485",
     "exception": false,
     "start_time": "2025-08-07T15:13:27.263582",
     "status": "completed"
    },
    "tags": []
   },
   "outputs": [
    {
     "name": "stdout",
     "output_type": "stream",
     "text": [
      "CPU times: user 7.87 s, sys: 0 ns, total: 7.87 s\n",
      "Wall time: 7.87 s\n"
     ]
    },
    {
     "data": {
      "text/html": [
       "<style>#sk-container-id-11 {color: black;background-color: white;}#sk-container-id-11 pre{padding: 0;}#sk-container-id-11 div.sk-toggleable {background-color: white;}#sk-container-id-11 label.sk-toggleable__label {cursor: pointer;display: block;width: 100%;margin-bottom: 0;padding: 0.3em;box-sizing: border-box;text-align: center;}#sk-container-id-11 label.sk-toggleable__label-arrow:before {content: \"▸\";float: left;margin-right: 0.25em;color: #696969;}#sk-container-id-11 label.sk-toggleable__label-arrow:hover:before {color: black;}#sk-container-id-11 div.sk-estimator:hover label.sk-toggleable__label-arrow:before {color: black;}#sk-container-id-11 div.sk-toggleable__content {max-height: 0;max-width: 0;overflow: hidden;text-align: left;background-color: #f0f8ff;}#sk-container-id-11 div.sk-toggleable__content pre {margin: 0.2em;color: black;border-radius: 0.25em;background-color: #f0f8ff;}#sk-container-id-11 input.sk-toggleable__control:checked~div.sk-toggleable__content {max-height: 200px;max-width: 100%;overflow: auto;}#sk-container-id-11 input.sk-toggleable__control:checked~label.sk-toggleable__label-arrow:before {content: \"▾\";}#sk-container-id-11 div.sk-estimator input.sk-toggleable__control:checked~label.sk-toggleable__label {background-color: #d4ebff;}#sk-container-id-11 div.sk-label input.sk-toggleable__control:checked~label.sk-toggleable__label {background-color: #d4ebff;}#sk-container-id-11 input.sk-hidden--visually {border: 0;clip: rect(1px 1px 1px 1px);clip: rect(1px, 1px, 1px, 1px);height: 1px;margin: -1px;overflow: hidden;padding: 0;position: absolute;width: 1px;}#sk-container-id-11 div.sk-estimator {font-family: monospace;background-color: #f0f8ff;border: 1px dotted black;border-radius: 0.25em;box-sizing: border-box;margin-bottom: 0.5em;}#sk-container-id-11 div.sk-estimator:hover {background-color: #d4ebff;}#sk-container-id-11 div.sk-parallel-item::after {content: \"\";width: 100%;border-bottom: 1px solid gray;flex-grow: 1;}#sk-container-id-11 div.sk-label:hover label.sk-toggleable__label {background-color: #d4ebff;}#sk-container-id-11 div.sk-serial::before {content: \"\";position: absolute;border-left: 1px solid gray;box-sizing: border-box;top: 0;bottom: 0;left: 50%;z-index: 0;}#sk-container-id-11 div.sk-serial {display: flex;flex-direction: column;align-items: center;background-color: white;padding-right: 0.2em;padding-left: 0.2em;position: relative;}#sk-container-id-11 div.sk-item {position: relative;z-index: 1;}#sk-container-id-11 div.sk-parallel {display: flex;align-items: stretch;justify-content: center;background-color: white;position: relative;}#sk-container-id-11 div.sk-item::before, #sk-container-id-11 div.sk-parallel-item::before {content: \"\";position: absolute;border-left: 1px solid gray;box-sizing: border-box;top: 0;bottom: 0;left: 50%;z-index: -1;}#sk-container-id-11 div.sk-parallel-item {display: flex;flex-direction: column;z-index: 1;position: relative;background-color: white;}#sk-container-id-11 div.sk-parallel-item:first-child::after {align-self: flex-end;width: 50%;}#sk-container-id-11 div.sk-parallel-item:last-child::after {align-self: flex-start;width: 50%;}#sk-container-id-11 div.sk-parallel-item:only-child::after {width: 0;}#sk-container-id-11 div.sk-dashed-wrapped {border: 1px dashed gray;margin: 0 0.4em 0.5em 0.4em;box-sizing: border-box;padding-bottom: 0.4em;background-color: white;}#sk-container-id-11 div.sk-label label {font-family: monospace;font-weight: bold;display: inline-block;line-height: 1.2em;}#sk-container-id-11 div.sk-label-container {text-align: center;}#sk-container-id-11 div.sk-container {/* jupyter's `normalize.less` sets `[hidden] { display: none; }` but bootstrap.min.css set `[hidden] { display: none !important; }` so we also need the `!important` here to be able to override the default hidden behavior on the sphinx rendered scikit-learn.org. See: https://github.com/scikit-learn/scikit-learn/issues/21755 */display: inline-block !important;position: relative;}#sk-container-id-11 div.sk-text-repr-fallback {display: none;}</style><div id=\"sk-container-id-11\" class=\"sk-top-container\"><div class=\"sk-text-repr-fallback\"><pre>RandomForestRegressor(random_state=42)</pre><b>In a Jupyter environment, please rerun this cell to show the HTML representation or trust the notebook. <br />On GitHub, the HTML representation is unable to render, please try loading this page with nbviewer.org.</b></div><div class=\"sk-container\" hidden><div class=\"sk-item\"><div class=\"sk-estimator sk-toggleable\"><input class=\"sk-toggleable__control sk-hidden--visually\" id=\"sk-estimator-id-17\" type=\"checkbox\" checked><label for=\"sk-estimator-id-17\" class=\"sk-toggleable__label sk-toggleable__label-arrow\">RandomForestRegressor</label><div class=\"sk-toggleable__content\"><pre>RandomForestRegressor(random_state=42)</pre></div></div></div></div></div>"
      ],
      "text/plain": [
       "RandomForestRegressor(random_state=42)"
      ]
     },
     "execution_count": 75,
     "metadata": {},
     "output_type": "execute_result"
    }
   ],
   "source": [
    "%%time\n",
    "training_model.fit(X_train, y_train)"
   ]
  },
  {
   "cell_type": "code",
   "execution_count": 76,
   "id": "82e79460",
   "metadata": {
    "execution": {
     "iopub.execute_input": "2025-08-07T15:13:35.218552Z",
     "iopub.status.busy": "2025-08-07T15:13:35.217930Z",
     "iopub.status.idle": "2025-08-07T15:13:35.277824Z",
     "shell.execute_reply": "2025-08-07T15:13:35.276910Z"
    },
    "papermill": {
     "duration": 0.087583,
     "end_time": "2025-08-07T15:13:35.279150",
     "exception": false,
     "start_time": "2025-08-07T15:13:35.191567",
     "status": "completed"
    },
    "tags": []
   },
   "outputs": [
    {
     "data": {
      "text/plain": [
       "array([  0.    ,  72.1503,   0.    , ..., 226.0188,   0.    ,   0.    ])"
      ]
     },
     "execution_count": 76,
     "metadata": {},
     "output_type": "execute_result"
    }
   ],
   "source": [
    "y_pred = training_model.predict(X_test)\n",
    "y_pred"
   ]
  },
  {
   "cell_type": "code",
   "execution_count": 77,
   "id": "fa3f9f9a",
   "metadata": {
    "execution": {
     "iopub.execute_input": "2025-08-07T15:13:35.332131Z",
     "iopub.status.busy": "2025-08-07T15:13:35.331819Z",
     "iopub.status.idle": "2025-08-07T15:13:35.338532Z",
     "shell.execute_reply": "2025-08-07T15:13:35.337719Z"
    },
    "papermill": {
     "duration": 0.034784,
     "end_time": "2025-08-07T15:13:35.340090",
     "exception": false,
     "start_time": "2025-08-07T15:13:35.305306",
     "status": "completed"
    },
    "tags": []
   },
   "outputs": [
    {
     "data": {
      "text/plain": [
       "5158       0.00\n",
       "3831     105.26\n",
       "5117       0.00\n",
       "6326     758.39\n",
       "11359    135.87\n",
       "          ...  \n",
       "10290     74.58\n",
       "13995      0.00\n",
       "9665     241.81\n",
       "2276       0.00\n",
       "4174       0.00\n",
       "Name: SolarRadiation, Length: 2924, dtype: float64"
      ]
     },
     "execution_count": 77,
     "metadata": {},
     "output_type": "execute_result"
    }
   ],
   "source": [
    "y_test"
   ]
  },
  {
   "cell_type": "code",
   "execution_count": 78,
   "id": "12847cbd",
   "metadata": {
    "execution": {
     "iopub.execute_input": "2025-08-07T15:13:35.395841Z",
     "iopub.status.busy": "2025-08-07T15:13:35.395510Z",
     "iopub.status.idle": "2025-08-07T15:13:35.402391Z",
     "shell.execute_reply": "2025-08-07T15:13:35.401543Z"
    },
    "papermill": {
     "duration": 0.037586,
     "end_time": "2025-08-07T15:13:35.403907",
     "exception": false,
     "start_time": "2025-08-07T15:13:35.366321",
     "status": "completed"
    },
    "tags": []
   },
   "outputs": [],
   "source": [
    "mse = mean_squared_error(y_test, y_pred)\n",
    "mae = mean_absolute_error(y_test, y_pred)\n",
    "r2 = r2_score(y_test, y_pred)\n",
    "rmse = math.sqrt(mse)"
   ]
  },
  {
   "cell_type": "code",
   "execution_count": 79,
   "id": "fbffe553",
   "metadata": {
    "execution": {
     "iopub.execute_input": "2025-08-07T15:13:35.457795Z",
     "iopub.status.busy": "2025-08-07T15:13:35.457185Z",
     "iopub.status.idle": "2025-08-07T15:13:35.461511Z",
     "shell.execute_reply": "2025-08-07T15:13:35.460730Z"
    },
    "papermill": {
     "duration": 0.032814,
     "end_time": "2025-08-07T15:13:35.462845",
     "exception": false,
     "start_time": "2025-08-07T15:13:35.430031",
     "status": "completed"
    },
    "tags": []
   },
   "outputs": [
    {
     "name": "stdout",
     "output_type": "stream",
     "text": [
      "MSE Score: 208.234549898461\n",
      "MAE Score: 8.198179138166894\n",
      "R2 Score: 0.9977856463461054\n",
      "RMSE Score: 14.43033436544216\n"
     ]
    }
   ],
   "source": [
    "print(\"MSE Score:\", mse)\n",
    "print(\"MAE Score:\", mae)\n",
    "print(\"R2 Score:\", r2)\n",
    "print(\"RMSE Score:\", rmse)"
   ]
  },
  {
   "cell_type": "code",
   "execution_count": 80,
   "id": "6084d54e",
   "metadata": {
    "execution": {
     "iopub.execute_input": "2025-08-07T15:13:35.516837Z",
     "iopub.status.busy": "2025-08-07T15:13:35.516237Z",
     "iopub.status.idle": "2025-08-07T15:13:35.525004Z",
     "shell.execute_reply": "2025-08-07T15:13:35.524161Z"
    },
    "papermill": {
     "duration": 0.037095,
     "end_time": "2025-08-07T15:13:35.526427",
     "exception": false,
     "start_time": "2025-08-07T15:13:35.489332",
     "status": "completed"
    },
    "tags": []
   },
   "outputs": [
    {
     "name": "stdout",
     "output_type": "stream",
     "text": [
      "❌ Regression model not improved:\n",
      "   Current MSE: 208.234550, Best MSE: 199.075247\n",
      "   Current R²: 0.997786, Best R²: 0.997883\n",
      "   Current Features: 24, Best Features: 27\n"
     ]
    }
   ],
   "source": [
    "regression_params = {\n",
    "    'model_name': model_name_for_saving,\n",
    "    'scaler_name': \"MinMaxScaler\",\n",
    "    'features_list': feature_columns_for_saving,\n",
    "    'target_column': target_name_for_saving,\n",
    "    'mse': mse,\n",
    "    'mae': mae,\n",
    "    'rmse': rmse,\n",
    "    'r2': r2,\n",
    "    'parameters': json.dumps(training_model.get_params())\n",
    "}\n",
    "save_model_performance_if_better('regression', regression_params)"
   ]
  },
  {
   "cell_type": "markdown",
   "id": "6415eabb",
   "metadata": {
    "papermill": {
     "duration": 0.026106,
     "end_time": "2025-08-07T15:13:35.578822",
     "exception": false,
     "start_time": "2025-08-07T15:13:35.552716",
     "status": "completed"
    },
    "tags": []
   },
   "source": [
    "#### Tuning with Randomized Grid Search"
   ]
  },
  {
   "cell_type": "code",
   "execution_count": 81,
   "id": "36674643",
   "metadata": {
    "execution": {
     "iopub.execute_input": "2025-08-07T15:13:35.633114Z",
     "iopub.status.busy": "2025-08-07T15:13:35.632371Z",
     "iopub.status.idle": "2025-08-07T15:13:35.636877Z",
     "shell.execute_reply": "2025-08-07T15:13:35.636205Z"
    },
    "papermill": {
     "duration": 0.033192,
     "end_time": "2025-08-07T15:13:35.638117",
     "exception": false,
     "start_time": "2025-08-07T15:13:35.604925",
     "status": "completed"
    },
    "tags": []
   },
   "outputs": [],
   "source": [
    "grid_search = RandomizedSearchCV(\n",
    "    RandomForestRegressor(random_state=42), \n",
    "    grid_param,\n",
    "    n_iter=number_of_model_for_randomized_grid,\n",
    "    cv=5,\n",
    "    scoring='neg_mean_squared_error',\n",
    "    n_jobs=-1,\n",
    "    verbose=1,\n",
    "    random_state=42\n",
    ")"
   ]
  },
  {
   "cell_type": "code",
   "execution_count": 82,
   "id": "9454a0ba",
   "metadata": {
    "execution": {
     "iopub.execute_input": "2025-08-07T15:13:35.691447Z",
     "iopub.status.busy": "2025-08-07T15:13:35.690849Z",
     "iopub.status.idle": "2025-08-07T16:43:49.991403Z",
     "shell.execute_reply": "2025-08-07T16:43:49.990335Z"
    },
    "papermill": {
     "duration": 5414.451531,
     "end_time": "2025-08-07T16:43:50.115645",
     "exception": false,
     "start_time": "2025-08-07T15:13:35.664114",
     "status": "completed"
    },
    "tags": []
   },
   "outputs": [
    {
     "name": "stdout",
     "output_type": "stream",
     "text": [
      "Starting hyperparameter tuning...\n",
      "Fitting 5 folds for each of 510 candidates, totalling 2550 fits\n",
      "CPU times: user 42 s, sys: 8.88 s, total: 50.9 s\n",
      "Wall time: 1h 30min 14s\n"
     ]
    },
    {
     "data": {
      "text/html": [
       "<style>#sk-container-id-12 {color: black;background-color: white;}#sk-container-id-12 pre{padding: 0;}#sk-container-id-12 div.sk-toggleable {background-color: white;}#sk-container-id-12 label.sk-toggleable__label {cursor: pointer;display: block;width: 100%;margin-bottom: 0;padding: 0.3em;box-sizing: border-box;text-align: center;}#sk-container-id-12 label.sk-toggleable__label-arrow:before {content: \"▸\";float: left;margin-right: 0.25em;color: #696969;}#sk-container-id-12 label.sk-toggleable__label-arrow:hover:before {color: black;}#sk-container-id-12 div.sk-estimator:hover label.sk-toggleable__label-arrow:before {color: black;}#sk-container-id-12 div.sk-toggleable__content {max-height: 0;max-width: 0;overflow: hidden;text-align: left;background-color: #f0f8ff;}#sk-container-id-12 div.sk-toggleable__content pre {margin: 0.2em;color: black;border-radius: 0.25em;background-color: #f0f8ff;}#sk-container-id-12 input.sk-toggleable__control:checked~div.sk-toggleable__content {max-height: 200px;max-width: 100%;overflow: auto;}#sk-container-id-12 input.sk-toggleable__control:checked~label.sk-toggleable__label-arrow:before {content: \"▾\";}#sk-container-id-12 div.sk-estimator input.sk-toggleable__control:checked~label.sk-toggleable__label {background-color: #d4ebff;}#sk-container-id-12 div.sk-label input.sk-toggleable__control:checked~label.sk-toggleable__label {background-color: #d4ebff;}#sk-container-id-12 input.sk-hidden--visually {border: 0;clip: rect(1px 1px 1px 1px);clip: rect(1px, 1px, 1px, 1px);height: 1px;margin: -1px;overflow: hidden;padding: 0;position: absolute;width: 1px;}#sk-container-id-12 div.sk-estimator {font-family: monospace;background-color: #f0f8ff;border: 1px dotted black;border-radius: 0.25em;box-sizing: border-box;margin-bottom: 0.5em;}#sk-container-id-12 div.sk-estimator:hover {background-color: #d4ebff;}#sk-container-id-12 div.sk-parallel-item::after {content: \"\";width: 100%;border-bottom: 1px solid gray;flex-grow: 1;}#sk-container-id-12 div.sk-label:hover label.sk-toggleable__label {background-color: #d4ebff;}#sk-container-id-12 div.sk-serial::before {content: \"\";position: absolute;border-left: 1px solid gray;box-sizing: border-box;top: 0;bottom: 0;left: 50%;z-index: 0;}#sk-container-id-12 div.sk-serial {display: flex;flex-direction: column;align-items: center;background-color: white;padding-right: 0.2em;padding-left: 0.2em;position: relative;}#sk-container-id-12 div.sk-item {position: relative;z-index: 1;}#sk-container-id-12 div.sk-parallel {display: flex;align-items: stretch;justify-content: center;background-color: white;position: relative;}#sk-container-id-12 div.sk-item::before, #sk-container-id-12 div.sk-parallel-item::before {content: \"\";position: absolute;border-left: 1px solid gray;box-sizing: border-box;top: 0;bottom: 0;left: 50%;z-index: -1;}#sk-container-id-12 div.sk-parallel-item {display: flex;flex-direction: column;z-index: 1;position: relative;background-color: white;}#sk-container-id-12 div.sk-parallel-item:first-child::after {align-self: flex-end;width: 50%;}#sk-container-id-12 div.sk-parallel-item:last-child::after {align-self: flex-start;width: 50%;}#sk-container-id-12 div.sk-parallel-item:only-child::after {width: 0;}#sk-container-id-12 div.sk-dashed-wrapped {border: 1px dashed gray;margin: 0 0.4em 0.5em 0.4em;box-sizing: border-box;padding-bottom: 0.4em;background-color: white;}#sk-container-id-12 div.sk-label label {font-family: monospace;font-weight: bold;display: inline-block;line-height: 1.2em;}#sk-container-id-12 div.sk-label-container {text-align: center;}#sk-container-id-12 div.sk-container {/* jupyter's `normalize.less` sets `[hidden] { display: none; }` but bootstrap.min.css set `[hidden] { display: none !important; }` so we also need the `!important` here to be able to override the default hidden behavior on the sphinx rendered scikit-learn.org. See: https://github.com/scikit-learn/scikit-learn/issues/21755 */display: inline-block !important;position: relative;}#sk-container-id-12 div.sk-text-repr-fallback {display: none;}</style><div id=\"sk-container-id-12\" class=\"sk-top-container\"><div class=\"sk-text-repr-fallback\"><pre>RandomizedSearchCV(cv=5, estimator=RandomForestRegressor(random_state=42),\n",
       "                   n_iter=510, n_jobs=-1,\n",
       "                   param_distributions=[{&#x27;bootstrap&#x27;: [True],\n",
       "                                         &#x27;max_depth&#x27;: [None, 10, 20, 30],\n",
       "                                         &#x27;max_features&#x27;: [&#x27;sqrt&#x27;, &#x27;log2&#x27;, None],\n",
       "                                         &#x27;max_samples&#x27;: [None, 0.8, 0.9],\n",
       "                                         &#x27;min_impurity_decrease&#x27;: [0.0, 0.01,\n",
       "                                                                   0.02],\n",
       "                                         &#x27;min_samples_leaf&#x27;: [1, 2, 4, 6],\n",
       "                                         &#x27;min_samples_split&#x27;: [2, 5, 10, 15,\n",
       "                                                               20],\n",
       "                                         &#x27;n_estimators&#x27;: [100, 200, 300]},\n",
       "                                        {&#x27;bootstrap&#x27;: [False],\n",
       "                                         &#x27;max_depth&#x27;: [None, 10, 20, 30],\n",
       "                                         &#x27;max_features&#x27;: [&#x27;sqrt&#x27;, &#x27;log2&#x27;, None],\n",
       "                                         &#x27;min_impurity_decrease&#x27;: [0.0, 0.01,\n",
       "                                                                   0.02],\n",
       "                                         &#x27;min_samples_leaf&#x27;: [1, 2, 4, 6],\n",
       "                                         &#x27;min_samples_split&#x27;: [2, 5, 10, 15,\n",
       "                                                               20],\n",
       "                                         &#x27;n_estimators&#x27;: [100, 200, 300]}],\n",
       "                   random_state=42, scoring=&#x27;neg_mean_squared_error&#x27;,\n",
       "                   verbose=1)</pre><b>In a Jupyter environment, please rerun this cell to show the HTML representation or trust the notebook. <br />On GitHub, the HTML representation is unable to render, please try loading this page with nbviewer.org.</b></div><div class=\"sk-container\" hidden><div class=\"sk-item sk-dashed-wrapped\"><div class=\"sk-label-container\"><div class=\"sk-label sk-toggleable\"><input class=\"sk-toggleable__control sk-hidden--visually\" id=\"sk-estimator-id-18\" type=\"checkbox\" ><label for=\"sk-estimator-id-18\" class=\"sk-toggleable__label sk-toggleable__label-arrow\">RandomizedSearchCV</label><div class=\"sk-toggleable__content\"><pre>RandomizedSearchCV(cv=5, estimator=RandomForestRegressor(random_state=42),\n",
       "                   n_iter=510, n_jobs=-1,\n",
       "                   param_distributions=[{&#x27;bootstrap&#x27;: [True],\n",
       "                                         &#x27;max_depth&#x27;: [None, 10, 20, 30],\n",
       "                                         &#x27;max_features&#x27;: [&#x27;sqrt&#x27;, &#x27;log2&#x27;, None],\n",
       "                                         &#x27;max_samples&#x27;: [None, 0.8, 0.9],\n",
       "                                         &#x27;min_impurity_decrease&#x27;: [0.0, 0.01,\n",
       "                                                                   0.02],\n",
       "                                         &#x27;min_samples_leaf&#x27;: [1, 2, 4, 6],\n",
       "                                         &#x27;min_samples_split&#x27;: [2, 5, 10, 15,\n",
       "                                                               20],\n",
       "                                         &#x27;n_estimators&#x27;: [100, 200, 300]},\n",
       "                                        {&#x27;bootstrap&#x27;: [False],\n",
       "                                         &#x27;max_depth&#x27;: [None, 10, 20, 30],\n",
       "                                         &#x27;max_features&#x27;: [&#x27;sqrt&#x27;, &#x27;log2&#x27;, None],\n",
       "                                         &#x27;min_impurity_decrease&#x27;: [0.0, 0.01,\n",
       "                                                                   0.02],\n",
       "                                         &#x27;min_samples_leaf&#x27;: [1, 2, 4, 6],\n",
       "                                         &#x27;min_samples_split&#x27;: [2, 5, 10, 15,\n",
       "                                                               20],\n",
       "                                         &#x27;n_estimators&#x27;: [100, 200, 300]}],\n",
       "                   random_state=42, scoring=&#x27;neg_mean_squared_error&#x27;,\n",
       "                   verbose=1)</pre></div></div></div><div class=\"sk-parallel\"><div class=\"sk-parallel-item\"><div class=\"sk-item\"><div class=\"sk-label-container\"><div class=\"sk-label sk-toggleable\"><input class=\"sk-toggleable__control sk-hidden--visually\" id=\"sk-estimator-id-19\" type=\"checkbox\" ><label for=\"sk-estimator-id-19\" class=\"sk-toggleable__label sk-toggleable__label-arrow\">estimator: RandomForestRegressor</label><div class=\"sk-toggleable__content\"><pre>RandomForestRegressor(random_state=42)</pre></div></div></div><div class=\"sk-serial\"><div class=\"sk-item\"><div class=\"sk-estimator sk-toggleable\"><input class=\"sk-toggleable__control sk-hidden--visually\" id=\"sk-estimator-id-20\" type=\"checkbox\" ><label for=\"sk-estimator-id-20\" class=\"sk-toggleable__label sk-toggleable__label-arrow\">RandomForestRegressor</label><div class=\"sk-toggleable__content\"><pre>RandomForestRegressor(random_state=42)</pre></div></div></div></div></div></div></div></div></div></div>"
      ],
      "text/plain": [
       "RandomizedSearchCV(cv=5, estimator=RandomForestRegressor(random_state=42),\n",
       "                   n_iter=510, n_jobs=-1,\n",
       "                   param_distributions=[{'bootstrap': [True],\n",
       "                                         'max_depth': [None, 10, 20, 30],\n",
       "                                         'max_features': ['sqrt', 'log2', None],\n",
       "                                         'max_samples': [None, 0.8, 0.9],\n",
       "                                         'min_impurity_decrease': [0.0, 0.01,\n",
       "                                                                   0.02],\n",
       "                                         'min_samples_leaf': [1, 2, 4, 6],\n",
       "                                         'min_samples_split': [2, 5, 10, 15,\n",
       "                                                               20],\n",
       "                                         'n_estimators': [100, 200, 300]},\n",
       "                                        {'bootstrap': [False],\n",
       "                                         'max_depth': [None, 10, 20, 30],\n",
       "                                         'max_features': ['sqrt', 'log2', None],\n",
       "                                         'min_impurity_decrease': [0.0, 0.01,\n",
       "                                                                   0.02],\n",
       "                                         'min_samples_leaf': [1, 2, 4, 6],\n",
       "                                         'min_samples_split': [2, 5, 10, 15,\n",
       "                                                               20],\n",
       "                                         'n_estimators': [100, 200, 300]}],\n",
       "                   random_state=42, scoring='neg_mean_squared_error',\n",
       "                   verbose=1)"
      ]
     },
     "execution_count": 82,
     "metadata": {},
     "output_type": "execute_result"
    }
   ],
   "source": [
    "%%time\n",
    "print(\"Starting hyperparameter tuning...\")\n",
    "grid_search.fit(X_train, y_train)"
   ]
  },
  {
   "cell_type": "code",
   "execution_count": 83,
   "id": "efab7d7b",
   "metadata": {
    "execution": {
     "iopub.execute_input": "2025-08-07T16:43:50.170821Z",
     "iopub.status.busy": "2025-08-07T16:43:50.170507Z",
     "iopub.status.idle": "2025-08-07T16:43:50.176460Z",
     "shell.execute_reply": "2025-08-07T16:43:50.175528Z"
    },
    "papermill": {
     "duration": 0.035267,
     "end_time": "2025-08-07T16:43:50.177876",
     "exception": false,
     "start_time": "2025-08-07T16:43:50.142609",
     "status": "completed"
    },
    "tags": []
   },
   "outputs": [
    {
     "name": "stdout",
     "output_type": "stream",
     "text": [
      "TUNING RESULTS\n",
      "==================================================\n",
      "Best Parameters: {'n_estimators': 300, 'min_samples_split': 2, 'min_samples_leaf': 1, 'min_impurity_decrease': 0.01, 'max_samples': 0.9, 'max_features': None, 'max_depth': 30, 'bootstrap': True}\n",
      "Best Cross-Validation Score (Negative MSE): -196.44012524569217\n",
      "Best Cross-Validation Score (MSE): 196.44012524569217\n",
      "Best Cross-Validation Score (RMSE): 14.015709944404962\n"
     ]
    }
   ],
   "source": [
    "print(\"TUNING RESULTS\")\n",
    "print(\"=\"*50)\n",
    "print(\"Best Parameters:\", grid_search.best_params_)\n",
    "print(\"Best Cross-Validation Score (Negative MSE):\", grid_search.best_score_)\n",
    "print(\"Best Cross-Validation Score (MSE):\", -grid_search.best_score_)\n",
    "print(\"Best Cross-Validation Score (RMSE):\", math.sqrt(-grid_search.best_score_))"
   ]
  },
  {
   "cell_type": "code",
   "execution_count": 84,
   "id": "c82f2d11",
   "metadata": {
    "execution": {
     "iopub.execute_input": "2025-08-07T16:43:50.233406Z",
     "iopub.status.busy": "2025-08-07T16:43:50.233108Z",
     "iopub.status.idle": "2025-08-07T16:43:50.345876Z",
     "shell.execute_reply": "2025-08-07T16:43:50.344999Z"
    },
    "papermill": {
     "duration": 0.142218,
     "end_time": "2025-08-07T16:43:50.347498",
     "exception": false,
     "start_time": "2025-08-07T16:43:50.205280",
     "status": "completed"
    },
    "tags": []
   },
   "outputs": [],
   "source": [
    "grid_search_best_model = grid_search.best_estimator_\n",
    "y_pred = grid_search_best_model.predict(X_test)"
   ]
  },
  {
   "cell_type": "code",
   "execution_count": 85,
   "id": "f0a7443c",
   "metadata": {
    "execution": {
     "iopub.execute_input": "2025-08-07T16:43:50.404322Z",
     "iopub.status.busy": "2025-08-07T16:43:50.404021Z",
     "iopub.status.idle": "2025-08-07T16:43:50.412168Z",
     "shell.execute_reply": "2025-08-07T16:43:50.411297Z"
    },
    "papermill": {
     "duration": 0.038691,
     "end_time": "2025-08-07T16:43:50.413852",
     "exception": false,
     "start_time": "2025-08-07T16:43:50.375161",
     "status": "completed"
    },
    "tags": []
   },
   "outputs": [],
   "source": [
    "mse_grid_search = mean_squared_error(y_test, y_pred)\n",
    "mae_grid_search = mean_absolute_error(y_test, y_pred)\n",
    "r2_grid_search = r2_score(y_test, y_pred)\n",
    "rmse_grid_search = math.sqrt(mse_grid_search)"
   ]
  },
  {
   "cell_type": "code",
   "execution_count": 86,
   "id": "7f7f5b89",
   "metadata": {
    "execution": {
     "iopub.execute_input": "2025-08-07T16:43:50.471013Z",
     "iopub.status.busy": "2025-08-07T16:43:50.470698Z",
     "iopub.status.idle": "2025-08-07T16:43:50.475844Z",
     "shell.execute_reply": "2025-08-07T16:43:50.474887Z"
    },
    "papermill": {
     "duration": 0.035237,
     "end_time": "2025-08-07T16:43:50.477166",
     "exception": false,
     "start_time": "2025-08-07T16:43:50.441929",
     "status": "completed"
    },
    "tags": []
   },
   "outputs": [
    {
     "name": "stdout",
     "output_type": "stream",
     "text": [
      "MSE Score: 204.87295840174116\n",
      "MAE Score: 8.172067923395888\n",
      "R2 Score: 0.9978213933074876\n",
      "RMSE Score: 14.313383890671735\n"
     ]
    }
   ],
   "source": [
    "print(\"MSE Score:\", mse_grid_search)\n",
    "print(\"MAE Score:\", mae_grid_search)\n",
    "print(\"R2 Score:\", r2_grid_search)\n",
    "print(\"RMSE Score:\", rmse_grid_search)"
   ]
  },
  {
   "cell_type": "code",
   "execution_count": 87,
   "id": "17e8f1c6",
   "metadata": {
    "execution": {
     "iopub.execute_input": "2025-08-07T16:43:50.534391Z",
     "iopub.status.busy": "2025-08-07T16:43:50.534090Z",
     "iopub.status.idle": "2025-08-07T16:43:50.555530Z",
     "shell.execute_reply": "2025-08-07T16:43:50.554694Z"
    },
    "papermill": {
     "duration": 0.051471,
     "end_time": "2025-08-07T16:43:50.557007",
     "exception": false,
     "start_time": "2025-08-07T16:43:50.505536",
     "status": "completed"
    },
    "tags": []
   },
   "outputs": [
    {
     "name": "stdout",
     "output_type": "stream",
     "text": [
      "❌ Regression model not improved:\n",
      "   Current MSE: 204.872958, Best MSE: 197.547542\n",
      "   Current R²: 0.997821, Best R²: 0.997899\n",
      "   Current Features: 24, Best Features: 27\n"
     ]
    }
   ],
   "source": [
    "regression_params = {\n",
    "    'model_name': model_name_for_saving + \" Tuned\",\n",
    "    'scaler_name': \"MinMaxScaler\",\n",
    "    'features_list': feature_columns_for_saving,\n",
    "    'target_column': target_name_for_saving,\n",
    "    'mse': mse_grid_search,\n",
    "    'mae': mae_grid_search,\n",
    "    'rmse': rmse_grid_search,\n",
    "    'r2': r2_grid_search,\n",
    "    'parameters' : json.dumps({\n",
    "        \"best_params\": grid_search.best_params_,\n",
    "        \"cv_score\": grid_search.best_score_,\n",
    "        \"all_params\": grid_search_best_model.get_params()\n",
    "    })\n",
    "}\n",
    "save_model_performance_if_better('regression', regression_params)"
   ]
  },
  {
   "cell_type": "markdown",
   "id": "bb70ea28",
   "metadata": {
    "papermill": {
     "duration": 0.027586,
     "end_time": "2025-08-07T16:43:50.612023",
     "exception": false,
     "start_time": "2025-08-07T16:43:50.584437",
     "status": "completed"
    },
    "tags": []
   },
   "source": [
    "### Standard Scaler"
   ]
  },
  {
   "cell_type": "code",
   "execution_count": 88,
   "id": "d37626f8",
   "metadata": {
    "execution": {
     "iopub.execute_input": "2025-08-07T16:43:50.669542Z",
     "iopub.status.busy": "2025-08-07T16:43:50.669208Z",
     "iopub.status.idle": "2025-08-07T16:43:50.690328Z",
     "shell.execute_reply": "2025-08-07T16:43:50.689528Z"
    },
    "papermill": {
     "duration": 0.051727,
     "end_time": "2025-08-07T16:43:50.691922",
     "exception": false,
     "start_time": "2025-08-07T16:43:50.640195",
     "status": "completed"
    },
    "tags": []
   },
   "outputs": [],
   "source": [
    "scaler = StandardScaler()\n",
    "X_train = scaler.fit_transform(X_train_raw)\n",
    "X_test = scaler.transform(X_test_raw)"
   ]
  },
  {
   "cell_type": "code",
   "execution_count": 89,
   "id": "68896c1e",
   "metadata": {
    "execution": {
     "iopub.execute_input": "2025-08-07T16:43:50.750538Z",
     "iopub.status.busy": "2025-08-07T16:43:50.749705Z",
     "iopub.status.idle": "2025-08-07T16:43:50.755908Z",
     "shell.execute_reply": "2025-08-07T16:43:50.754702Z"
    },
    "papermill": {
     "duration": 0.036673,
     "end_time": "2025-08-07T16:43:50.757246",
     "exception": false,
     "start_time": "2025-08-07T16:43:50.720573",
     "status": "completed"
    },
    "tags": []
   },
   "outputs": [
    {
     "data": {
      "text/plain": [
       "array([[ 1.01884116, -0.21938027, -0.38875095, ..., -0.12088825,\n",
       "         1.52387472,  1.09644529],\n",
       "       [ 1.64376461,  0.64624572,  2.57234098, ..., -1.52028666,\n",
       "         0.24645772, -0.43343649],\n",
       "       [-1.16839092, -1.66209024, -0.38875095, ..., -1.52028666,\n",
       "        -0.73592134, -0.43343649],\n",
       "       ...,\n",
       "       [ 0.70637943, -0.21938027, -0.38875095, ...,  0.96917545,\n",
       "         0.25618424, -0.30383078],\n",
       "       [-1.48085264,  1.36760071, -0.38875095, ..., -1.52028666,\n",
       "        -0.73592134, -0.43343649],\n",
       "       [ 1.01884116, -0.50792226, -0.38875095, ...,  1.01722469,\n",
       "         0.20430944,  0.85928021]])"
      ]
     },
     "execution_count": 89,
     "metadata": {},
     "output_type": "execute_result"
    }
   ],
   "source": [
    "X_train"
   ]
  },
  {
   "cell_type": "code",
   "execution_count": 90,
   "id": "e1f3986d",
   "metadata": {
    "execution": {
     "iopub.execute_input": "2025-08-07T16:43:50.814318Z",
     "iopub.status.busy": "2025-08-07T16:43:50.813391Z",
     "iopub.status.idle": "2025-08-07T16:43:50.819431Z",
     "shell.execute_reply": "2025-08-07T16:43:50.818652Z"
    },
    "papermill": {
     "duration": 0.035801,
     "end_time": "2025-08-07T16:43:50.820790",
     "exception": false,
     "start_time": "2025-08-07T16:43:50.784989",
     "status": "completed"
    },
    "tags": []
   },
   "outputs": [
    {
     "data": {
      "text/plain": [
       "array([[ 0.70637943,  1.51187171, -0.38875095, ...,  1.02148941,\n",
       "        -0.73592134, -0.43343649],\n",
       "       [ 0.08145598,  0.50197472,  2.57234098, ...,  1.23102956,\n",
       "        -0.49600038, -0.43343649],\n",
       "       [ 0.70637943, -0.94073525, -0.38875095, ...,  1.30438283,\n",
       "        -0.73592134, -0.43343649],\n",
       "       ...,\n",
       "       [-1.16839092,  0.79051672,  2.57234098, ..., -1.51659057,\n",
       "        -0.07775979, -0.43343649],\n",
       "       [-0.54346747,  1.22332971, -0.38875095, ..., -1.52028666,\n",
       "        -0.73592134,  0.71764924],\n",
       "       [ 0.08145598,  1.51187171, -0.38875095, ..., -0.05293696,\n",
       "        -0.73592134, -0.43343649]])"
      ]
     },
     "execution_count": 90,
     "metadata": {},
     "output_type": "execute_result"
    }
   ],
   "source": [
    "X_test"
   ]
  },
  {
   "cell_type": "markdown",
   "id": "7d2eb6fb",
   "metadata": {
    "papermill": {
     "duration": 0.027555,
     "end_time": "2025-08-07T16:43:50.876672",
     "exception": false,
     "start_time": "2025-08-07T16:43:50.849117",
     "status": "completed"
    },
    "tags": []
   },
   "source": [
    "#### Default Parameters"
   ]
  },
  {
   "cell_type": "code",
   "execution_count": 91,
   "id": "6c33241f",
   "metadata": {
    "execution": {
     "iopub.execute_input": "2025-08-07T16:43:50.933108Z",
     "iopub.status.busy": "2025-08-07T16:43:50.932776Z",
     "iopub.status.idle": "2025-08-07T16:43:50.939166Z",
     "shell.execute_reply": "2025-08-07T16:43:50.938408Z"
    },
    "papermill": {
     "duration": 0.035842,
     "end_time": "2025-08-07T16:43:50.940375",
     "exception": false,
     "start_time": "2025-08-07T16:43:50.904533",
     "status": "completed"
    },
    "tags": []
   },
   "outputs": [
    {
     "data": {
      "text/html": [
       "<style>#sk-container-id-13 {color: black;background-color: white;}#sk-container-id-13 pre{padding: 0;}#sk-container-id-13 div.sk-toggleable {background-color: white;}#sk-container-id-13 label.sk-toggleable__label {cursor: pointer;display: block;width: 100%;margin-bottom: 0;padding: 0.3em;box-sizing: border-box;text-align: center;}#sk-container-id-13 label.sk-toggleable__label-arrow:before {content: \"▸\";float: left;margin-right: 0.25em;color: #696969;}#sk-container-id-13 label.sk-toggleable__label-arrow:hover:before {color: black;}#sk-container-id-13 div.sk-estimator:hover label.sk-toggleable__label-arrow:before {color: black;}#sk-container-id-13 div.sk-toggleable__content {max-height: 0;max-width: 0;overflow: hidden;text-align: left;background-color: #f0f8ff;}#sk-container-id-13 div.sk-toggleable__content pre {margin: 0.2em;color: black;border-radius: 0.25em;background-color: #f0f8ff;}#sk-container-id-13 input.sk-toggleable__control:checked~div.sk-toggleable__content {max-height: 200px;max-width: 100%;overflow: auto;}#sk-container-id-13 input.sk-toggleable__control:checked~label.sk-toggleable__label-arrow:before {content: \"▾\";}#sk-container-id-13 div.sk-estimator input.sk-toggleable__control:checked~label.sk-toggleable__label {background-color: #d4ebff;}#sk-container-id-13 div.sk-label input.sk-toggleable__control:checked~label.sk-toggleable__label {background-color: #d4ebff;}#sk-container-id-13 input.sk-hidden--visually {border: 0;clip: rect(1px 1px 1px 1px);clip: rect(1px, 1px, 1px, 1px);height: 1px;margin: -1px;overflow: hidden;padding: 0;position: absolute;width: 1px;}#sk-container-id-13 div.sk-estimator {font-family: monospace;background-color: #f0f8ff;border: 1px dotted black;border-radius: 0.25em;box-sizing: border-box;margin-bottom: 0.5em;}#sk-container-id-13 div.sk-estimator:hover {background-color: #d4ebff;}#sk-container-id-13 div.sk-parallel-item::after {content: \"\";width: 100%;border-bottom: 1px solid gray;flex-grow: 1;}#sk-container-id-13 div.sk-label:hover label.sk-toggleable__label {background-color: #d4ebff;}#sk-container-id-13 div.sk-serial::before {content: \"\";position: absolute;border-left: 1px solid gray;box-sizing: border-box;top: 0;bottom: 0;left: 50%;z-index: 0;}#sk-container-id-13 div.sk-serial {display: flex;flex-direction: column;align-items: center;background-color: white;padding-right: 0.2em;padding-left: 0.2em;position: relative;}#sk-container-id-13 div.sk-item {position: relative;z-index: 1;}#sk-container-id-13 div.sk-parallel {display: flex;align-items: stretch;justify-content: center;background-color: white;position: relative;}#sk-container-id-13 div.sk-item::before, #sk-container-id-13 div.sk-parallel-item::before {content: \"\";position: absolute;border-left: 1px solid gray;box-sizing: border-box;top: 0;bottom: 0;left: 50%;z-index: -1;}#sk-container-id-13 div.sk-parallel-item {display: flex;flex-direction: column;z-index: 1;position: relative;background-color: white;}#sk-container-id-13 div.sk-parallel-item:first-child::after {align-self: flex-end;width: 50%;}#sk-container-id-13 div.sk-parallel-item:last-child::after {align-self: flex-start;width: 50%;}#sk-container-id-13 div.sk-parallel-item:only-child::after {width: 0;}#sk-container-id-13 div.sk-dashed-wrapped {border: 1px dashed gray;margin: 0 0.4em 0.5em 0.4em;box-sizing: border-box;padding-bottom: 0.4em;background-color: white;}#sk-container-id-13 div.sk-label label {font-family: monospace;font-weight: bold;display: inline-block;line-height: 1.2em;}#sk-container-id-13 div.sk-label-container {text-align: center;}#sk-container-id-13 div.sk-container {/* jupyter's `normalize.less` sets `[hidden] { display: none; }` but bootstrap.min.css set `[hidden] { display: none !important; }` so we also need the `!important` here to be able to override the default hidden behavior on the sphinx rendered scikit-learn.org. See: https://github.com/scikit-learn/scikit-learn/issues/21755 */display: inline-block !important;position: relative;}#sk-container-id-13 div.sk-text-repr-fallback {display: none;}</style><div id=\"sk-container-id-13\" class=\"sk-top-container\"><div class=\"sk-text-repr-fallback\"><pre>RandomForestRegressor(random_state=42)</pre><b>In a Jupyter environment, please rerun this cell to show the HTML representation or trust the notebook. <br />On GitHub, the HTML representation is unable to render, please try loading this page with nbviewer.org.</b></div><div class=\"sk-container\" hidden><div class=\"sk-item\"><div class=\"sk-estimator sk-toggleable\"><input class=\"sk-toggleable__control sk-hidden--visually\" id=\"sk-estimator-id-21\" type=\"checkbox\" checked><label for=\"sk-estimator-id-21\" class=\"sk-toggleable__label sk-toggleable__label-arrow\">RandomForestRegressor</label><div class=\"sk-toggleable__content\"><pre>RandomForestRegressor(random_state=42)</pre></div></div></div></div></div>"
      ],
      "text/plain": [
       "RandomForestRegressor(random_state=42)"
      ]
     },
     "execution_count": 91,
     "metadata": {},
     "output_type": "execute_result"
    }
   ],
   "source": [
    "training_model = RandomForestRegressor(random_state=42)\n",
    "training_model"
   ]
  },
  {
   "cell_type": "code",
   "execution_count": 92,
   "id": "eb2131f5",
   "metadata": {
    "execution": {
     "iopub.execute_input": "2025-08-07T16:43:50.998086Z",
     "iopub.status.busy": "2025-08-07T16:43:50.997771Z",
     "iopub.status.idle": "2025-08-07T16:43:58.966973Z",
     "shell.execute_reply": "2025-08-07T16:43:58.966001Z"
    },
    "papermill": {
     "duration": 7.999678,
     "end_time": "2025-08-07T16:43:58.968350",
     "exception": false,
     "start_time": "2025-08-07T16:43:50.968672",
     "status": "completed"
    },
    "tags": []
   },
   "outputs": [
    {
     "name": "stdout",
     "output_type": "stream",
     "text": [
      "CPU times: user 7.96 s, sys: 0 ns, total: 7.96 s\n",
      "Wall time: 7.96 s\n"
     ]
    },
    {
     "data": {
      "text/html": [
       "<style>#sk-container-id-14 {color: black;background-color: white;}#sk-container-id-14 pre{padding: 0;}#sk-container-id-14 div.sk-toggleable {background-color: white;}#sk-container-id-14 label.sk-toggleable__label {cursor: pointer;display: block;width: 100%;margin-bottom: 0;padding: 0.3em;box-sizing: border-box;text-align: center;}#sk-container-id-14 label.sk-toggleable__label-arrow:before {content: \"▸\";float: left;margin-right: 0.25em;color: #696969;}#sk-container-id-14 label.sk-toggleable__label-arrow:hover:before {color: black;}#sk-container-id-14 div.sk-estimator:hover label.sk-toggleable__label-arrow:before {color: black;}#sk-container-id-14 div.sk-toggleable__content {max-height: 0;max-width: 0;overflow: hidden;text-align: left;background-color: #f0f8ff;}#sk-container-id-14 div.sk-toggleable__content pre {margin: 0.2em;color: black;border-radius: 0.25em;background-color: #f0f8ff;}#sk-container-id-14 input.sk-toggleable__control:checked~div.sk-toggleable__content {max-height: 200px;max-width: 100%;overflow: auto;}#sk-container-id-14 input.sk-toggleable__control:checked~label.sk-toggleable__label-arrow:before {content: \"▾\";}#sk-container-id-14 div.sk-estimator input.sk-toggleable__control:checked~label.sk-toggleable__label {background-color: #d4ebff;}#sk-container-id-14 div.sk-label input.sk-toggleable__control:checked~label.sk-toggleable__label {background-color: #d4ebff;}#sk-container-id-14 input.sk-hidden--visually {border: 0;clip: rect(1px 1px 1px 1px);clip: rect(1px, 1px, 1px, 1px);height: 1px;margin: -1px;overflow: hidden;padding: 0;position: absolute;width: 1px;}#sk-container-id-14 div.sk-estimator {font-family: monospace;background-color: #f0f8ff;border: 1px dotted black;border-radius: 0.25em;box-sizing: border-box;margin-bottom: 0.5em;}#sk-container-id-14 div.sk-estimator:hover {background-color: #d4ebff;}#sk-container-id-14 div.sk-parallel-item::after {content: \"\";width: 100%;border-bottom: 1px solid gray;flex-grow: 1;}#sk-container-id-14 div.sk-label:hover label.sk-toggleable__label {background-color: #d4ebff;}#sk-container-id-14 div.sk-serial::before {content: \"\";position: absolute;border-left: 1px solid gray;box-sizing: border-box;top: 0;bottom: 0;left: 50%;z-index: 0;}#sk-container-id-14 div.sk-serial {display: flex;flex-direction: column;align-items: center;background-color: white;padding-right: 0.2em;padding-left: 0.2em;position: relative;}#sk-container-id-14 div.sk-item {position: relative;z-index: 1;}#sk-container-id-14 div.sk-parallel {display: flex;align-items: stretch;justify-content: center;background-color: white;position: relative;}#sk-container-id-14 div.sk-item::before, #sk-container-id-14 div.sk-parallel-item::before {content: \"\";position: absolute;border-left: 1px solid gray;box-sizing: border-box;top: 0;bottom: 0;left: 50%;z-index: -1;}#sk-container-id-14 div.sk-parallel-item {display: flex;flex-direction: column;z-index: 1;position: relative;background-color: white;}#sk-container-id-14 div.sk-parallel-item:first-child::after {align-self: flex-end;width: 50%;}#sk-container-id-14 div.sk-parallel-item:last-child::after {align-self: flex-start;width: 50%;}#sk-container-id-14 div.sk-parallel-item:only-child::after {width: 0;}#sk-container-id-14 div.sk-dashed-wrapped {border: 1px dashed gray;margin: 0 0.4em 0.5em 0.4em;box-sizing: border-box;padding-bottom: 0.4em;background-color: white;}#sk-container-id-14 div.sk-label label {font-family: monospace;font-weight: bold;display: inline-block;line-height: 1.2em;}#sk-container-id-14 div.sk-label-container {text-align: center;}#sk-container-id-14 div.sk-container {/* jupyter's `normalize.less` sets `[hidden] { display: none; }` but bootstrap.min.css set `[hidden] { display: none !important; }` so we also need the `!important` here to be able to override the default hidden behavior on the sphinx rendered scikit-learn.org. See: https://github.com/scikit-learn/scikit-learn/issues/21755 */display: inline-block !important;position: relative;}#sk-container-id-14 div.sk-text-repr-fallback {display: none;}</style><div id=\"sk-container-id-14\" class=\"sk-top-container\"><div class=\"sk-text-repr-fallback\"><pre>RandomForestRegressor(random_state=42)</pre><b>In a Jupyter environment, please rerun this cell to show the HTML representation or trust the notebook. <br />On GitHub, the HTML representation is unable to render, please try loading this page with nbviewer.org.</b></div><div class=\"sk-container\" hidden><div class=\"sk-item\"><div class=\"sk-estimator sk-toggleable\"><input class=\"sk-toggleable__control sk-hidden--visually\" id=\"sk-estimator-id-22\" type=\"checkbox\" checked><label for=\"sk-estimator-id-22\" class=\"sk-toggleable__label sk-toggleable__label-arrow\">RandomForestRegressor</label><div class=\"sk-toggleable__content\"><pre>RandomForestRegressor(random_state=42)</pre></div></div></div></div></div>"
      ],
      "text/plain": [
       "RandomForestRegressor(random_state=42)"
      ]
     },
     "execution_count": 92,
     "metadata": {},
     "output_type": "execute_result"
    }
   ],
   "source": [
    "%%time\n",
    "training_model.fit(X_train, y_train)"
   ]
  },
  {
   "cell_type": "code",
   "execution_count": 93,
   "id": "e868b9b7",
   "metadata": {
    "execution": {
     "iopub.execute_input": "2025-08-07T16:43:59.028564Z",
     "iopub.status.busy": "2025-08-07T16:43:59.028240Z",
     "iopub.status.idle": "2025-08-07T16:43:59.089408Z",
     "shell.execute_reply": "2025-08-07T16:43:59.088541Z"
    },
    "papermill": {
     "duration": 0.091971,
     "end_time": "2025-08-07T16:43:59.090883",
     "exception": false,
     "start_time": "2025-08-07T16:43:58.998912",
     "status": "completed"
    },
    "tags": []
   },
   "outputs": [
    {
     "data": {
      "text/plain": [
       "array([  0.    ,  72.2372,   0.    , ..., 226.0188,   0.    ,   0.    ])"
      ]
     },
     "execution_count": 93,
     "metadata": {},
     "output_type": "execute_result"
    }
   ],
   "source": [
    "y_pred = training_model.predict(X_test)\n",
    "y_pred"
   ]
  },
  {
   "cell_type": "code",
   "execution_count": 94,
   "id": "e1a12a43",
   "metadata": {
    "execution": {
     "iopub.execute_input": "2025-08-07T16:43:59.150257Z",
     "iopub.status.busy": "2025-08-07T16:43:59.149990Z",
     "iopub.status.idle": "2025-08-07T16:43:59.158651Z",
     "shell.execute_reply": "2025-08-07T16:43:59.157877Z"
    },
    "papermill": {
     "duration": 0.039423,
     "end_time": "2025-08-07T16:43:59.159927",
     "exception": false,
     "start_time": "2025-08-07T16:43:59.120504",
     "status": "completed"
    },
    "tags": []
   },
   "outputs": [
    {
     "data": {
      "text/plain": [
       "5158       0.00\n",
       "3831     105.26\n",
       "5117       0.00\n",
       "6326     758.39\n",
       "11359    135.87\n",
       "          ...  \n",
       "10290     74.58\n",
       "13995      0.00\n",
       "9665     241.81\n",
       "2276       0.00\n",
       "4174       0.00\n",
       "Name: SolarRadiation, Length: 2924, dtype: float64"
      ]
     },
     "execution_count": 94,
     "metadata": {},
     "output_type": "execute_result"
    }
   ],
   "source": [
    "y_test"
   ]
  },
  {
   "cell_type": "code",
   "execution_count": 95,
   "id": "e97edc14",
   "metadata": {
    "execution": {
     "iopub.execute_input": "2025-08-07T16:43:59.218302Z",
     "iopub.status.busy": "2025-08-07T16:43:59.217509Z",
     "iopub.status.idle": "2025-08-07T16:43:59.224011Z",
     "shell.execute_reply": "2025-08-07T16:43:59.223326Z"
    },
    "papermill": {
     "duration": 0.036622,
     "end_time": "2025-08-07T16:43:59.225342",
     "exception": false,
     "start_time": "2025-08-07T16:43:59.188720",
     "status": "completed"
    },
    "tags": []
   },
   "outputs": [],
   "source": [
    "mse = mean_squared_error(y_test, y_pred)\n",
    "mae = mean_absolute_error(y_test, y_pred)\n",
    "r2 = r2_score(y_test, y_pred)\n",
    "rmse = math.sqrt(mse)"
   ]
  },
  {
   "cell_type": "code",
   "execution_count": 96,
   "id": "a9c16cc7",
   "metadata": {
    "execution": {
     "iopub.execute_input": "2025-08-07T16:43:59.284152Z",
     "iopub.status.busy": "2025-08-07T16:43:59.283872Z",
     "iopub.status.idle": "2025-08-07T16:43:59.288858Z",
     "shell.execute_reply": "2025-08-07T16:43:59.287989Z"
    },
    "papermill": {
     "duration": 0.03603,
     "end_time": "2025-08-07T16:43:59.290363",
     "exception": false,
     "start_time": "2025-08-07T16:43:59.254333",
     "status": "completed"
    },
    "tags": []
   },
   "outputs": [
    {
     "name": "stdout",
     "output_type": "stream",
     "text": [
      "MSE Score: 208.0223060255677\n",
      "MAE Score: 8.195658891928865\n",
      "R2 Score: 0.9977879033346584\n",
      "RMSE Score: 14.422978403421663\n"
     ]
    }
   ],
   "source": [
    "print(\"MSE Score:\", mse)\n",
    "print(\"MAE Score:\", mae)\n",
    "print(\"R2 Score:\", r2)\n",
    "print(\"RMSE Score:\", rmse)"
   ]
  },
  {
   "cell_type": "code",
   "execution_count": 97,
   "id": "2502b5d1",
   "metadata": {
    "execution": {
     "iopub.execute_input": "2025-08-07T16:43:59.351063Z",
     "iopub.status.busy": "2025-08-07T16:43:59.350753Z",
     "iopub.status.idle": "2025-08-07T16:43:59.359892Z",
     "shell.execute_reply": "2025-08-07T16:43:59.358902Z"
    },
    "papermill": {
     "duration": 0.041708,
     "end_time": "2025-08-07T16:43:59.361582",
     "exception": false,
     "start_time": "2025-08-07T16:43:59.319874",
     "status": "completed"
    },
    "tags": []
   },
   "outputs": [
    {
     "name": "stdout",
     "output_type": "stream",
     "text": [
      "❌ Regression model not improved:\n",
      "   Current MSE: 208.022306, Best MSE: 198.817848\n",
      "   Current R²: 0.997788, Best R²: 0.997886\n",
      "   Current Features: 24, Best Features: 27\n"
     ]
    }
   ],
   "source": [
    "regression_params = {\n",
    "    'model_name': model_name_for_saving,\n",
    "    'scaler_name': \"StandardScaler\",\n",
    "    'features_list': feature_columns_for_saving,\n",
    "    'target_column': target_name_for_saving,\n",
    "    'mse': mse,\n",
    "    'mae': mae,\n",
    "    'rmse': rmse,\n",
    "    'r2': r2,\n",
    "    'parameters': json.dumps(training_model.get_params())\n",
    "}\n",
    "save_model_performance_if_better('regression', regression_params)"
   ]
  },
  {
   "cell_type": "markdown",
   "id": "c5970b6b",
   "metadata": {
    "papermill": {
     "duration": 0.028366,
     "end_time": "2025-08-07T16:43:59.418759",
     "exception": false,
     "start_time": "2025-08-07T16:43:59.390393",
     "status": "completed"
    },
    "tags": []
   },
   "source": [
    "#### Tuning with Randomized Grid Search"
   ]
  },
  {
   "cell_type": "code",
   "execution_count": 98,
   "id": "35111d72",
   "metadata": {
    "execution": {
     "iopub.execute_input": "2025-08-07T16:43:59.477304Z",
     "iopub.status.busy": "2025-08-07T16:43:59.477010Z",
     "iopub.status.idle": "2025-08-07T16:43:59.481964Z",
     "shell.execute_reply": "2025-08-07T16:43:59.480976Z"
    },
    "papermill": {
     "duration": 0.036182,
     "end_time": "2025-08-07T16:43:59.483626",
     "exception": false,
     "start_time": "2025-08-07T16:43:59.447444",
     "status": "completed"
    },
    "tags": []
   },
   "outputs": [],
   "source": [
    "grid_search = RandomizedSearchCV(\n",
    "    RandomForestRegressor(random_state=42), \n",
    "    grid_param,\n",
    "    n_iter=number_of_model_for_randomized_grid,\n",
    "    cv=5,\n",
    "    scoring='neg_mean_squared_error',\n",
    "    n_jobs=-1,\n",
    "    verbose=1,\n",
    "    random_state=42\n",
    ")"
   ]
  },
  {
   "cell_type": "code",
   "execution_count": 99,
   "id": "419d0254",
   "metadata": {
    "execution": {
     "iopub.execute_input": "2025-08-07T16:43:59.543043Z",
     "iopub.status.busy": "2025-08-07T16:43:59.542716Z",
     "iopub.status.idle": "2025-08-07T18:14:37.326783Z",
     "shell.execute_reply": "2025-08-07T18:14:37.325694Z"
    },
    "papermill": {
     "duration": 5437.849067,
     "end_time": "2025-08-07T18:14:37.362341",
     "exception": false,
     "start_time": "2025-08-07T16:43:59.513274",
     "status": "completed"
    },
    "tags": []
   },
   "outputs": [
    {
     "name": "stdout",
     "output_type": "stream",
     "text": [
      "Starting hyperparameter tuning...\n",
      "Fitting 5 folds for each of 510 candidates, totalling 2550 fits\n",
      "CPU times: user 42 s, sys: 10 s, total: 52 s\n",
      "Wall time: 1h 30min 37s\n"
     ]
    },
    {
     "data": {
      "text/html": [
       "<style>#sk-container-id-15 {color: black;background-color: white;}#sk-container-id-15 pre{padding: 0;}#sk-container-id-15 div.sk-toggleable {background-color: white;}#sk-container-id-15 label.sk-toggleable__label {cursor: pointer;display: block;width: 100%;margin-bottom: 0;padding: 0.3em;box-sizing: border-box;text-align: center;}#sk-container-id-15 label.sk-toggleable__label-arrow:before {content: \"▸\";float: left;margin-right: 0.25em;color: #696969;}#sk-container-id-15 label.sk-toggleable__label-arrow:hover:before {color: black;}#sk-container-id-15 div.sk-estimator:hover label.sk-toggleable__label-arrow:before {color: black;}#sk-container-id-15 div.sk-toggleable__content {max-height: 0;max-width: 0;overflow: hidden;text-align: left;background-color: #f0f8ff;}#sk-container-id-15 div.sk-toggleable__content pre {margin: 0.2em;color: black;border-radius: 0.25em;background-color: #f0f8ff;}#sk-container-id-15 input.sk-toggleable__control:checked~div.sk-toggleable__content {max-height: 200px;max-width: 100%;overflow: auto;}#sk-container-id-15 input.sk-toggleable__control:checked~label.sk-toggleable__label-arrow:before {content: \"▾\";}#sk-container-id-15 div.sk-estimator input.sk-toggleable__control:checked~label.sk-toggleable__label {background-color: #d4ebff;}#sk-container-id-15 div.sk-label input.sk-toggleable__control:checked~label.sk-toggleable__label {background-color: #d4ebff;}#sk-container-id-15 input.sk-hidden--visually {border: 0;clip: rect(1px 1px 1px 1px);clip: rect(1px, 1px, 1px, 1px);height: 1px;margin: -1px;overflow: hidden;padding: 0;position: absolute;width: 1px;}#sk-container-id-15 div.sk-estimator {font-family: monospace;background-color: #f0f8ff;border: 1px dotted black;border-radius: 0.25em;box-sizing: border-box;margin-bottom: 0.5em;}#sk-container-id-15 div.sk-estimator:hover {background-color: #d4ebff;}#sk-container-id-15 div.sk-parallel-item::after {content: \"\";width: 100%;border-bottom: 1px solid gray;flex-grow: 1;}#sk-container-id-15 div.sk-label:hover label.sk-toggleable__label {background-color: #d4ebff;}#sk-container-id-15 div.sk-serial::before {content: \"\";position: absolute;border-left: 1px solid gray;box-sizing: border-box;top: 0;bottom: 0;left: 50%;z-index: 0;}#sk-container-id-15 div.sk-serial {display: flex;flex-direction: column;align-items: center;background-color: white;padding-right: 0.2em;padding-left: 0.2em;position: relative;}#sk-container-id-15 div.sk-item {position: relative;z-index: 1;}#sk-container-id-15 div.sk-parallel {display: flex;align-items: stretch;justify-content: center;background-color: white;position: relative;}#sk-container-id-15 div.sk-item::before, #sk-container-id-15 div.sk-parallel-item::before {content: \"\";position: absolute;border-left: 1px solid gray;box-sizing: border-box;top: 0;bottom: 0;left: 50%;z-index: -1;}#sk-container-id-15 div.sk-parallel-item {display: flex;flex-direction: column;z-index: 1;position: relative;background-color: white;}#sk-container-id-15 div.sk-parallel-item:first-child::after {align-self: flex-end;width: 50%;}#sk-container-id-15 div.sk-parallel-item:last-child::after {align-self: flex-start;width: 50%;}#sk-container-id-15 div.sk-parallel-item:only-child::after {width: 0;}#sk-container-id-15 div.sk-dashed-wrapped {border: 1px dashed gray;margin: 0 0.4em 0.5em 0.4em;box-sizing: border-box;padding-bottom: 0.4em;background-color: white;}#sk-container-id-15 div.sk-label label {font-family: monospace;font-weight: bold;display: inline-block;line-height: 1.2em;}#sk-container-id-15 div.sk-label-container {text-align: center;}#sk-container-id-15 div.sk-container {/* jupyter's `normalize.less` sets `[hidden] { display: none; }` but bootstrap.min.css set `[hidden] { display: none !important; }` so we also need the `!important` here to be able to override the default hidden behavior on the sphinx rendered scikit-learn.org. See: https://github.com/scikit-learn/scikit-learn/issues/21755 */display: inline-block !important;position: relative;}#sk-container-id-15 div.sk-text-repr-fallback {display: none;}</style><div id=\"sk-container-id-15\" class=\"sk-top-container\"><div class=\"sk-text-repr-fallback\"><pre>RandomizedSearchCV(cv=5, estimator=RandomForestRegressor(random_state=42),\n",
       "                   n_iter=510, n_jobs=-1,\n",
       "                   param_distributions=[{&#x27;bootstrap&#x27;: [True],\n",
       "                                         &#x27;max_depth&#x27;: [None, 10, 20, 30],\n",
       "                                         &#x27;max_features&#x27;: [&#x27;sqrt&#x27;, &#x27;log2&#x27;, None],\n",
       "                                         &#x27;max_samples&#x27;: [None, 0.8, 0.9],\n",
       "                                         &#x27;min_impurity_decrease&#x27;: [0.0, 0.01,\n",
       "                                                                   0.02],\n",
       "                                         &#x27;min_samples_leaf&#x27;: [1, 2, 4, 6],\n",
       "                                         &#x27;min_samples_split&#x27;: [2, 5, 10, 15,\n",
       "                                                               20],\n",
       "                                         &#x27;n_estimators&#x27;: [100, 200, 300]},\n",
       "                                        {&#x27;bootstrap&#x27;: [False],\n",
       "                                         &#x27;max_depth&#x27;: [None, 10, 20, 30],\n",
       "                                         &#x27;max_features&#x27;: [&#x27;sqrt&#x27;, &#x27;log2&#x27;, None],\n",
       "                                         &#x27;min_impurity_decrease&#x27;: [0.0, 0.01,\n",
       "                                                                   0.02],\n",
       "                                         &#x27;min_samples_leaf&#x27;: [1, 2, 4, 6],\n",
       "                                         &#x27;min_samples_split&#x27;: [2, 5, 10, 15,\n",
       "                                                               20],\n",
       "                                         &#x27;n_estimators&#x27;: [100, 200, 300]}],\n",
       "                   random_state=42, scoring=&#x27;neg_mean_squared_error&#x27;,\n",
       "                   verbose=1)</pre><b>In a Jupyter environment, please rerun this cell to show the HTML representation or trust the notebook. <br />On GitHub, the HTML representation is unable to render, please try loading this page with nbviewer.org.</b></div><div class=\"sk-container\" hidden><div class=\"sk-item sk-dashed-wrapped\"><div class=\"sk-label-container\"><div class=\"sk-label sk-toggleable\"><input class=\"sk-toggleable__control sk-hidden--visually\" id=\"sk-estimator-id-23\" type=\"checkbox\" ><label for=\"sk-estimator-id-23\" class=\"sk-toggleable__label sk-toggleable__label-arrow\">RandomizedSearchCV</label><div class=\"sk-toggleable__content\"><pre>RandomizedSearchCV(cv=5, estimator=RandomForestRegressor(random_state=42),\n",
       "                   n_iter=510, n_jobs=-1,\n",
       "                   param_distributions=[{&#x27;bootstrap&#x27;: [True],\n",
       "                                         &#x27;max_depth&#x27;: [None, 10, 20, 30],\n",
       "                                         &#x27;max_features&#x27;: [&#x27;sqrt&#x27;, &#x27;log2&#x27;, None],\n",
       "                                         &#x27;max_samples&#x27;: [None, 0.8, 0.9],\n",
       "                                         &#x27;min_impurity_decrease&#x27;: [0.0, 0.01,\n",
       "                                                                   0.02],\n",
       "                                         &#x27;min_samples_leaf&#x27;: [1, 2, 4, 6],\n",
       "                                         &#x27;min_samples_split&#x27;: [2, 5, 10, 15,\n",
       "                                                               20],\n",
       "                                         &#x27;n_estimators&#x27;: [100, 200, 300]},\n",
       "                                        {&#x27;bootstrap&#x27;: [False],\n",
       "                                         &#x27;max_depth&#x27;: [None, 10, 20, 30],\n",
       "                                         &#x27;max_features&#x27;: [&#x27;sqrt&#x27;, &#x27;log2&#x27;, None],\n",
       "                                         &#x27;min_impurity_decrease&#x27;: [0.0, 0.01,\n",
       "                                                                   0.02],\n",
       "                                         &#x27;min_samples_leaf&#x27;: [1, 2, 4, 6],\n",
       "                                         &#x27;min_samples_split&#x27;: [2, 5, 10, 15,\n",
       "                                                               20],\n",
       "                                         &#x27;n_estimators&#x27;: [100, 200, 300]}],\n",
       "                   random_state=42, scoring=&#x27;neg_mean_squared_error&#x27;,\n",
       "                   verbose=1)</pre></div></div></div><div class=\"sk-parallel\"><div class=\"sk-parallel-item\"><div class=\"sk-item\"><div class=\"sk-label-container\"><div class=\"sk-label sk-toggleable\"><input class=\"sk-toggleable__control sk-hidden--visually\" id=\"sk-estimator-id-24\" type=\"checkbox\" ><label for=\"sk-estimator-id-24\" class=\"sk-toggleable__label sk-toggleable__label-arrow\">estimator: RandomForestRegressor</label><div class=\"sk-toggleable__content\"><pre>RandomForestRegressor(random_state=42)</pre></div></div></div><div class=\"sk-serial\"><div class=\"sk-item\"><div class=\"sk-estimator sk-toggleable\"><input class=\"sk-toggleable__control sk-hidden--visually\" id=\"sk-estimator-id-25\" type=\"checkbox\" ><label for=\"sk-estimator-id-25\" class=\"sk-toggleable__label sk-toggleable__label-arrow\">RandomForestRegressor</label><div class=\"sk-toggleable__content\"><pre>RandomForestRegressor(random_state=42)</pre></div></div></div></div></div></div></div></div></div></div>"
      ],
      "text/plain": [
       "RandomizedSearchCV(cv=5, estimator=RandomForestRegressor(random_state=42),\n",
       "                   n_iter=510, n_jobs=-1,\n",
       "                   param_distributions=[{'bootstrap': [True],\n",
       "                                         'max_depth': [None, 10, 20, 30],\n",
       "                                         'max_features': ['sqrt', 'log2', None],\n",
       "                                         'max_samples': [None, 0.8, 0.9],\n",
       "                                         'min_impurity_decrease': [0.0, 0.01,\n",
       "                                                                   0.02],\n",
       "                                         'min_samples_leaf': [1, 2, 4, 6],\n",
       "                                         'min_samples_split': [2, 5, 10, 15,\n",
       "                                                               20],\n",
       "                                         'n_estimators': [100, 200, 300]},\n",
       "                                        {'bootstrap': [False],\n",
       "                                         'max_depth': [None, 10, 20, 30],\n",
       "                                         'max_features': ['sqrt', 'log2', None],\n",
       "                                         'min_impurity_decrease': [0.0, 0.01,\n",
       "                                                                   0.02],\n",
       "                                         'min_samples_leaf': [1, 2, 4, 6],\n",
       "                                         'min_samples_split': [2, 5, 10, 15,\n",
       "                                                               20],\n",
       "                                         'n_estimators': [100, 200, 300]}],\n",
       "                   random_state=42, scoring='neg_mean_squared_error',\n",
       "                   verbose=1)"
      ]
     },
     "execution_count": 99,
     "metadata": {},
     "output_type": "execute_result"
    }
   ],
   "source": [
    "%%time\n",
    "print(\"Starting hyperparameter tuning...\")\n",
    "grid_search.fit(X_train, y_train)"
   ]
  },
  {
   "cell_type": "code",
   "execution_count": 100,
   "id": "a970a7ec",
   "metadata": {
    "execution": {
     "iopub.execute_input": "2025-08-07T18:14:37.427319Z",
     "iopub.status.busy": "2025-08-07T18:14:37.427028Z",
     "iopub.status.idle": "2025-08-07T18:14:37.433449Z",
     "shell.execute_reply": "2025-08-07T18:14:37.432406Z"
    },
    "papermill": {
     "duration": 0.041781,
     "end_time": "2025-08-07T18:14:37.435191",
     "exception": false,
     "start_time": "2025-08-07T18:14:37.393410",
     "status": "completed"
    },
    "tags": []
   },
   "outputs": [
    {
     "name": "stdout",
     "output_type": "stream",
     "text": [
      "TUNING RESULTS\n",
      "==================================================\n",
      "Best Parameters: {'n_estimators': 300, 'min_samples_split': 2, 'min_samples_leaf': 1, 'min_impurity_decrease': 0.01, 'max_samples': 0.9, 'max_features': None, 'max_depth': 30, 'bootstrap': True}\n",
      "Best Cross-Validation Score (Negative MSE): -196.46365624731544\n",
      "Best Cross-Validation Score (MSE): 196.46365624731544\n",
      "Best Cross-Validation Score (RMSE): 14.016549370202192\n"
     ]
    }
   ],
   "source": [
    "print(\"TUNING RESULTS\")\n",
    "print(\"=\"*50)\n",
    "print(\"Best Parameters:\", grid_search.best_params_)\n",
    "print(\"Best Cross-Validation Score (Negative MSE):\", grid_search.best_score_)\n",
    "print(\"Best Cross-Validation Score (MSE):\", -grid_search.best_score_)\n",
    "print(\"Best Cross-Validation Score (RMSE):\", math.sqrt(-grid_search.best_score_))"
   ]
  },
  {
   "cell_type": "code",
   "execution_count": 101,
   "id": "83fcf49e",
   "metadata": {
    "execution": {
     "iopub.execute_input": "2025-08-07T18:14:37.504660Z",
     "iopub.status.busy": "2025-08-07T18:14:37.503837Z",
     "iopub.status.idle": "2025-08-07T18:14:37.617720Z",
     "shell.execute_reply": "2025-08-07T18:14:37.616737Z"
    },
    "papermill": {
     "duration": 0.146439,
     "end_time": "2025-08-07T18:14:37.619745",
     "exception": false,
     "start_time": "2025-08-07T18:14:37.473306",
     "status": "completed"
    },
    "tags": []
   },
   "outputs": [],
   "source": [
    "grid_search_best_model = grid_search.best_estimator_\n",
    "y_pred = grid_search_best_model.predict(X_test)"
   ]
  },
  {
   "cell_type": "code",
   "execution_count": 102,
   "id": "4392fa04",
   "metadata": {
    "execution": {
     "iopub.execute_input": "2025-08-07T18:14:37.688015Z",
     "iopub.status.busy": "2025-08-07T18:14:37.687696Z",
     "iopub.status.idle": "2025-08-07T18:14:37.694855Z",
     "shell.execute_reply": "2025-08-07T18:14:37.693953Z"
    },
    "papermill": {
     "duration": 0.039115,
     "end_time": "2025-08-07T18:14:37.696598",
     "exception": false,
     "start_time": "2025-08-07T18:14:37.657483",
     "status": "completed"
    },
    "tags": []
   },
   "outputs": [],
   "source": [
    "mse_grid_search = mean_squared_error(y_test, y_pred)\n",
    "mae_grid_search = mean_absolute_error(y_test, y_pred)\n",
    "r2_grid_search = r2_score(y_test, y_pred)\n",
    "rmse_grid_search = math.sqrt(mse_grid_search)"
   ]
  },
  {
   "cell_type": "code",
   "execution_count": 103,
   "id": "3ee03aa7",
   "metadata": {
    "execution": {
     "iopub.execute_input": "2025-08-07T18:14:37.770643Z",
     "iopub.status.busy": "2025-08-07T18:14:37.769580Z",
     "iopub.status.idle": "2025-08-07T18:14:37.774998Z",
     "shell.execute_reply": "2025-08-07T18:14:37.774107Z"
    },
    "papermill": {
     "duration": 0.037176,
     "end_time": "2025-08-07T18:14:37.776315",
     "exception": false,
     "start_time": "2025-08-07T18:14:37.739139",
     "status": "completed"
    },
    "tags": []
   },
   "outputs": [
    {
     "name": "stdout",
     "output_type": "stream",
     "text": [
      "MSE Score: 204.71428763600093\n",
      "MAE Score: 8.171312073989151\n",
      "R2 Score: 0.9978230806028479\n",
      "RMSE Score: 14.307840075846562\n"
     ]
    }
   ],
   "source": [
    "print(\"MSE Score:\", mse_grid_search)\n",
    "print(\"MAE Score:\", mae_grid_search)\n",
    "print(\"R2 Score:\", r2_grid_search)\n",
    "print(\"RMSE Score:\", rmse_grid_search)"
   ]
  },
  {
   "cell_type": "code",
   "execution_count": 104,
   "id": "4e20c4ce",
   "metadata": {
    "execution": {
     "iopub.execute_input": "2025-08-07T18:14:37.838765Z",
     "iopub.status.busy": "2025-08-07T18:14:37.837861Z",
     "iopub.status.idle": "2025-08-07T18:14:37.851616Z",
     "shell.execute_reply": "2025-08-07T18:14:37.850741Z"
    },
    "papermill": {
     "duration": 0.047271,
     "end_time": "2025-08-07T18:14:37.853326",
     "exception": false,
     "start_time": "2025-08-07T18:14:37.806055",
     "status": "completed"
    },
    "tags": []
   },
   "outputs": [
    {
     "name": "stdout",
     "output_type": "stream",
     "text": [
      "❌ Regression model not improved:\n",
      "   Current MSE: 204.714288, Best MSE: 197.288003\n",
      "   Current R²: 0.997823, Best R²: 0.997902\n",
      "   Current Features: 24, Best Features: 27\n"
     ]
    }
   ],
   "source": [
    "regression_params = {\n",
    "    'model_name': model_name_for_saving + \" Tuned\",\n",
    "    'scaler_name': \"StandardScaler\",\n",
    "    'features_list': feature_columns_for_saving,\n",
    "    'target_column': target_name_for_saving,\n",
    "    'mse': mse_grid_search,\n",
    "    'mae': mae_grid_search,\n",
    "    'rmse': rmse_grid_search,\n",
    "    'r2': r2_grid_search,\n",
    "    'parameters' : json.dumps({\n",
    "        \"best_params\": grid_search.best_params_,\n",
    "        \"cv_score\": grid_search.best_score_,\n",
    "        \"all_params\": grid_search_best_model.get_params()\n",
    "    })\n",
    "}\n",
    "save_model_performance_if_better('regression', regression_params)"
   ]
  },
  {
   "cell_type": "markdown",
   "id": "812169a8",
   "metadata": {
    "papermill": {
     "duration": 0.029674,
     "end_time": "2025-08-07T18:14:37.925741",
     "exception": false,
     "start_time": "2025-08-07T18:14:37.896067",
     "status": "completed"
    },
    "tags": []
   },
   "source": [
    "### Robust Scaler"
   ]
  },
  {
   "cell_type": "code",
   "execution_count": 105,
   "id": "69f11149",
   "metadata": {
    "execution": {
     "iopub.execute_input": "2025-08-07T18:14:37.987072Z",
     "iopub.status.busy": "2025-08-07T18:14:37.986773Z",
     "iopub.status.idle": "2025-08-07T18:14:38.018218Z",
     "shell.execute_reply": "2025-08-07T18:14:38.017131Z"
    },
    "papermill": {
     "duration": 0.064923,
     "end_time": "2025-08-07T18:14:38.020416",
     "exception": false,
     "start_time": "2025-08-07T18:14:37.955493",
     "status": "completed"
    },
    "tags": []
   },
   "outputs": [],
   "source": [
    "scaler = RobustScaler()\n",
    "X_train = scaler.fit_transform(X_train_raw)\n",
    "X_test = scaler.transform(X_test_raw)"
   ]
  },
  {
   "cell_type": "code",
   "execution_count": 106,
   "id": "13ff117b",
   "metadata": {
    "execution": {
     "iopub.execute_input": "2025-08-07T18:14:38.081580Z",
     "iopub.status.busy": "2025-08-07T18:14:38.081250Z",
     "iopub.status.idle": "2025-08-07T18:14:38.087356Z",
     "shell.execute_reply": "2025-08-07T18:14:38.086537Z"
    },
    "papermill": {
     "duration": 0.038488,
     "end_time": "2025-08-07T18:14:38.088818",
     "exception": false,
     "start_time": "2025-08-07T18:14:38.050330",
     "status": "completed"
    },
    "tags": []
   },
   "outputs": [
    {
     "data": {
      "text/plain": [
       "array([[ 0.6       , -0.16666667,  0.        , ..., -0.03738547,\n",
       "         1.44008264,  8.87596899],\n",
       "       [ 1.        ,  0.33333333,  1.        , ..., -0.84268652,\n",
       "         0.62603306,  0.        ],\n",
       "       [-0.8       , -1.        ,  0.        , ..., -0.84268652,\n",
       "         0.        ,  0.        ],\n",
       "       ...,\n",
       "       [ 0.4       , -0.16666667,  0.        , ...,  0.5899051 ,\n",
       "         0.6322314 ,  0.75193798],\n",
       "       [-1.        ,  0.75      ,  0.        , ..., -0.84268652,\n",
       "         0.        ,  0.        ],\n",
       "       [ 0.6       , -0.33333333,  0.        , ...,  0.61755563,\n",
       "         0.59917355,  7.5       ]])"
      ]
     },
     "execution_count": 106,
     "metadata": {},
     "output_type": "execute_result"
    }
   ],
   "source": [
    "X_train"
   ]
  },
  {
   "cell_type": "code",
   "execution_count": 107,
   "id": "fe163d4e",
   "metadata": {
    "execution": {
     "iopub.execute_input": "2025-08-07T18:14:38.150606Z",
     "iopub.status.busy": "2025-08-07T18:14:38.149957Z",
     "iopub.status.idle": "2025-08-07T18:14:38.155896Z",
     "shell.execute_reply": "2025-08-07T18:14:38.155054Z"
    },
    "papermill": {
     "duration": 0.037468,
     "end_time": "2025-08-07T18:14:38.157312",
     "exception": false,
     "start_time": "2025-08-07T18:14:38.119844",
     "status": "completed"
    },
    "tags": []
   },
   "outputs": [
    {
     "data": {
      "text/plain": [
       "array([[ 4.00000000e-01,  8.33333333e-01,  0.00000000e+00, ...,\n",
       "         6.20009817e-01,  0.00000000e+00,  0.00000000e+00],\n",
       "       [ 0.00000000e+00,  2.50000000e-01,  1.00000000e+00, ...,\n",
       "         7.40592277e-01,  1.52892562e-01,  0.00000000e+00],\n",
       "       [ 4.00000000e-01, -5.83333333e-01,  0.00000000e+00, ...,\n",
       "         7.82804319e-01,  0.00000000e+00,  0.00000000e+00],\n",
       "       ...,\n",
       "       [-8.00000000e-01,  4.16666667e-01,  1.00000000e+00, ...,\n",
       "        -8.40559555e-01,  4.19421488e-01,  0.00000000e+00],\n",
       "       [-4.00000000e-01,  6.66666667e-01,  0.00000000e+00, ...,\n",
       "        -8.42686518e-01,  0.00000000e+00,  6.67829457e+00],\n",
       "       [ 0.00000000e+00,  8.33333333e-01,  0.00000000e+00, ...,\n",
       "         1.71793194e-03,  0.00000000e+00,  0.00000000e+00]])"
      ]
     },
     "execution_count": 107,
     "metadata": {},
     "output_type": "execute_result"
    }
   ],
   "source": [
    "X_test"
   ]
  },
  {
   "cell_type": "markdown",
   "id": "59d647fe",
   "metadata": {
    "papermill": {
     "duration": 0.030202,
     "end_time": "2025-08-07T18:14:38.218205",
     "exception": false,
     "start_time": "2025-08-07T18:14:38.188003",
     "status": "completed"
    },
    "tags": []
   },
   "source": [
    "#### Default Parameters"
   ]
  },
  {
   "cell_type": "code",
   "execution_count": 108,
   "id": "9659121b",
   "metadata": {
    "execution": {
     "iopub.execute_input": "2025-08-07T18:14:38.281521Z",
     "iopub.status.busy": "2025-08-07T18:14:38.281099Z",
     "iopub.status.idle": "2025-08-07T18:14:38.289387Z",
     "shell.execute_reply": "2025-08-07T18:14:38.288487Z"
    },
    "papermill": {
     "duration": 0.041309,
     "end_time": "2025-08-07T18:14:38.290945",
     "exception": false,
     "start_time": "2025-08-07T18:14:38.249636",
     "status": "completed"
    },
    "tags": []
   },
   "outputs": [
    {
     "data": {
      "text/html": [
       "<style>#sk-container-id-16 {color: black;background-color: white;}#sk-container-id-16 pre{padding: 0;}#sk-container-id-16 div.sk-toggleable {background-color: white;}#sk-container-id-16 label.sk-toggleable__label {cursor: pointer;display: block;width: 100%;margin-bottom: 0;padding: 0.3em;box-sizing: border-box;text-align: center;}#sk-container-id-16 label.sk-toggleable__label-arrow:before {content: \"▸\";float: left;margin-right: 0.25em;color: #696969;}#sk-container-id-16 label.sk-toggleable__label-arrow:hover:before {color: black;}#sk-container-id-16 div.sk-estimator:hover label.sk-toggleable__label-arrow:before {color: black;}#sk-container-id-16 div.sk-toggleable__content {max-height: 0;max-width: 0;overflow: hidden;text-align: left;background-color: #f0f8ff;}#sk-container-id-16 div.sk-toggleable__content pre {margin: 0.2em;color: black;border-radius: 0.25em;background-color: #f0f8ff;}#sk-container-id-16 input.sk-toggleable__control:checked~div.sk-toggleable__content {max-height: 200px;max-width: 100%;overflow: auto;}#sk-container-id-16 input.sk-toggleable__control:checked~label.sk-toggleable__label-arrow:before {content: \"▾\";}#sk-container-id-16 div.sk-estimator input.sk-toggleable__control:checked~label.sk-toggleable__label {background-color: #d4ebff;}#sk-container-id-16 div.sk-label input.sk-toggleable__control:checked~label.sk-toggleable__label {background-color: #d4ebff;}#sk-container-id-16 input.sk-hidden--visually {border: 0;clip: rect(1px 1px 1px 1px);clip: rect(1px, 1px, 1px, 1px);height: 1px;margin: -1px;overflow: hidden;padding: 0;position: absolute;width: 1px;}#sk-container-id-16 div.sk-estimator {font-family: monospace;background-color: #f0f8ff;border: 1px dotted black;border-radius: 0.25em;box-sizing: border-box;margin-bottom: 0.5em;}#sk-container-id-16 div.sk-estimator:hover {background-color: #d4ebff;}#sk-container-id-16 div.sk-parallel-item::after {content: \"\";width: 100%;border-bottom: 1px solid gray;flex-grow: 1;}#sk-container-id-16 div.sk-label:hover label.sk-toggleable__label {background-color: #d4ebff;}#sk-container-id-16 div.sk-serial::before {content: \"\";position: absolute;border-left: 1px solid gray;box-sizing: border-box;top: 0;bottom: 0;left: 50%;z-index: 0;}#sk-container-id-16 div.sk-serial {display: flex;flex-direction: column;align-items: center;background-color: white;padding-right: 0.2em;padding-left: 0.2em;position: relative;}#sk-container-id-16 div.sk-item {position: relative;z-index: 1;}#sk-container-id-16 div.sk-parallel {display: flex;align-items: stretch;justify-content: center;background-color: white;position: relative;}#sk-container-id-16 div.sk-item::before, #sk-container-id-16 div.sk-parallel-item::before {content: \"\";position: absolute;border-left: 1px solid gray;box-sizing: border-box;top: 0;bottom: 0;left: 50%;z-index: -1;}#sk-container-id-16 div.sk-parallel-item {display: flex;flex-direction: column;z-index: 1;position: relative;background-color: white;}#sk-container-id-16 div.sk-parallel-item:first-child::after {align-self: flex-end;width: 50%;}#sk-container-id-16 div.sk-parallel-item:last-child::after {align-self: flex-start;width: 50%;}#sk-container-id-16 div.sk-parallel-item:only-child::after {width: 0;}#sk-container-id-16 div.sk-dashed-wrapped {border: 1px dashed gray;margin: 0 0.4em 0.5em 0.4em;box-sizing: border-box;padding-bottom: 0.4em;background-color: white;}#sk-container-id-16 div.sk-label label {font-family: monospace;font-weight: bold;display: inline-block;line-height: 1.2em;}#sk-container-id-16 div.sk-label-container {text-align: center;}#sk-container-id-16 div.sk-container {/* jupyter's `normalize.less` sets `[hidden] { display: none; }` but bootstrap.min.css set `[hidden] { display: none !important; }` so we also need the `!important` here to be able to override the default hidden behavior on the sphinx rendered scikit-learn.org. See: https://github.com/scikit-learn/scikit-learn/issues/21755 */display: inline-block !important;position: relative;}#sk-container-id-16 div.sk-text-repr-fallback {display: none;}</style><div id=\"sk-container-id-16\" class=\"sk-top-container\"><div class=\"sk-text-repr-fallback\"><pre>RandomForestRegressor(random_state=42)</pre><b>In a Jupyter environment, please rerun this cell to show the HTML representation or trust the notebook. <br />On GitHub, the HTML representation is unable to render, please try loading this page with nbviewer.org.</b></div><div class=\"sk-container\" hidden><div class=\"sk-item\"><div class=\"sk-estimator sk-toggleable\"><input class=\"sk-toggleable__control sk-hidden--visually\" id=\"sk-estimator-id-26\" type=\"checkbox\" checked><label for=\"sk-estimator-id-26\" class=\"sk-toggleable__label sk-toggleable__label-arrow\">RandomForestRegressor</label><div class=\"sk-toggleable__content\"><pre>RandomForestRegressor(random_state=42)</pre></div></div></div></div></div>"
      ],
      "text/plain": [
       "RandomForestRegressor(random_state=42)"
      ]
     },
     "execution_count": 108,
     "metadata": {},
     "output_type": "execute_result"
    }
   ],
   "source": [
    "training_model = RandomForestRegressor(random_state=42)\n",
    "training_model"
   ]
  },
  {
   "cell_type": "code",
   "execution_count": 109,
   "id": "6106b290",
   "metadata": {
    "execution": {
     "iopub.execute_input": "2025-08-07T18:14:38.354700Z",
     "iopub.status.busy": "2025-08-07T18:14:38.353767Z",
     "iopub.status.idle": "2025-08-07T18:14:46.372054Z",
     "shell.execute_reply": "2025-08-07T18:14:46.371197Z"
    },
    "papermill": {
     "duration": 8.051623,
     "end_time": "2025-08-07T18:14:46.373568",
     "exception": false,
     "start_time": "2025-08-07T18:14:38.321945",
     "status": "completed"
    },
    "tags": []
   },
   "outputs": [
    {
     "name": "stdout",
     "output_type": "stream",
     "text": [
      "CPU times: user 8.01 s, sys: 0 ns, total: 8.01 s\n",
      "Wall time: 8.01 s\n"
     ]
    },
    {
     "data": {
      "text/html": [
       "<style>#sk-container-id-17 {color: black;background-color: white;}#sk-container-id-17 pre{padding: 0;}#sk-container-id-17 div.sk-toggleable {background-color: white;}#sk-container-id-17 label.sk-toggleable__label {cursor: pointer;display: block;width: 100%;margin-bottom: 0;padding: 0.3em;box-sizing: border-box;text-align: center;}#sk-container-id-17 label.sk-toggleable__label-arrow:before {content: \"▸\";float: left;margin-right: 0.25em;color: #696969;}#sk-container-id-17 label.sk-toggleable__label-arrow:hover:before {color: black;}#sk-container-id-17 div.sk-estimator:hover label.sk-toggleable__label-arrow:before {color: black;}#sk-container-id-17 div.sk-toggleable__content {max-height: 0;max-width: 0;overflow: hidden;text-align: left;background-color: #f0f8ff;}#sk-container-id-17 div.sk-toggleable__content pre {margin: 0.2em;color: black;border-radius: 0.25em;background-color: #f0f8ff;}#sk-container-id-17 input.sk-toggleable__control:checked~div.sk-toggleable__content {max-height: 200px;max-width: 100%;overflow: auto;}#sk-container-id-17 input.sk-toggleable__control:checked~label.sk-toggleable__label-arrow:before {content: \"▾\";}#sk-container-id-17 div.sk-estimator input.sk-toggleable__control:checked~label.sk-toggleable__label {background-color: #d4ebff;}#sk-container-id-17 div.sk-label input.sk-toggleable__control:checked~label.sk-toggleable__label {background-color: #d4ebff;}#sk-container-id-17 input.sk-hidden--visually {border: 0;clip: rect(1px 1px 1px 1px);clip: rect(1px, 1px, 1px, 1px);height: 1px;margin: -1px;overflow: hidden;padding: 0;position: absolute;width: 1px;}#sk-container-id-17 div.sk-estimator {font-family: monospace;background-color: #f0f8ff;border: 1px dotted black;border-radius: 0.25em;box-sizing: border-box;margin-bottom: 0.5em;}#sk-container-id-17 div.sk-estimator:hover {background-color: #d4ebff;}#sk-container-id-17 div.sk-parallel-item::after {content: \"\";width: 100%;border-bottom: 1px solid gray;flex-grow: 1;}#sk-container-id-17 div.sk-label:hover label.sk-toggleable__label {background-color: #d4ebff;}#sk-container-id-17 div.sk-serial::before {content: \"\";position: absolute;border-left: 1px solid gray;box-sizing: border-box;top: 0;bottom: 0;left: 50%;z-index: 0;}#sk-container-id-17 div.sk-serial {display: flex;flex-direction: column;align-items: center;background-color: white;padding-right: 0.2em;padding-left: 0.2em;position: relative;}#sk-container-id-17 div.sk-item {position: relative;z-index: 1;}#sk-container-id-17 div.sk-parallel {display: flex;align-items: stretch;justify-content: center;background-color: white;position: relative;}#sk-container-id-17 div.sk-item::before, #sk-container-id-17 div.sk-parallel-item::before {content: \"\";position: absolute;border-left: 1px solid gray;box-sizing: border-box;top: 0;bottom: 0;left: 50%;z-index: -1;}#sk-container-id-17 div.sk-parallel-item {display: flex;flex-direction: column;z-index: 1;position: relative;background-color: white;}#sk-container-id-17 div.sk-parallel-item:first-child::after {align-self: flex-end;width: 50%;}#sk-container-id-17 div.sk-parallel-item:last-child::after {align-self: flex-start;width: 50%;}#sk-container-id-17 div.sk-parallel-item:only-child::after {width: 0;}#sk-container-id-17 div.sk-dashed-wrapped {border: 1px dashed gray;margin: 0 0.4em 0.5em 0.4em;box-sizing: border-box;padding-bottom: 0.4em;background-color: white;}#sk-container-id-17 div.sk-label label {font-family: monospace;font-weight: bold;display: inline-block;line-height: 1.2em;}#sk-container-id-17 div.sk-label-container {text-align: center;}#sk-container-id-17 div.sk-container {/* jupyter's `normalize.less` sets `[hidden] { display: none; }` but bootstrap.min.css set `[hidden] { display: none !important; }` so we also need the `!important` here to be able to override the default hidden behavior on the sphinx rendered scikit-learn.org. See: https://github.com/scikit-learn/scikit-learn/issues/21755 */display: inline-block !important;position: relative;}#sk-container-id-17 div.sk-text-repr-fallback {display: none;}</style><div id=\"sk-container-id-17\" class=\"sk-top-container\"><div class=\"sk-text-repr-fallback\"><pre>RandomForestRegressor(random_state=42)</pre><b>In a Jupyter environment, please rerun this cell to show the HTML representation or trust the notebook. <br />On GitHub, the HTML representation is unable to render, please try loading this page with nbviewer.org.</b></div><div class=\"sk-container\" hidden><div class=\"sk-item\"><div class=\"sk-estimator sk-toggleable\"><input class=\"sk-toggleable__control sk-hidden--visually\" id=\"sk-estimator-id-27\" type=\"checkbox\" checked><label for=\"sk-estimator-id-27\" class=\"sk-toggleable__label sk-toggleable__label-arrow\">RandomForestRegressor</label><div class=\"sk-toggleable__content\"><pre>RandomForestRegressor(random_state=42)</pre></div></div></div></div></div>"
      ],
      "text/plain": [
       "RandomForestRegressor(random_state=42)"
      ]
     },
     "execution_count": 109,
     "metadata": {},
     "output_type": "execute_result"
    }
   ],
   "source": [
    "%%time\n",
    "training_model.fit(X_train, y_train)"
   ]
  },
  {
   "cell_type": "code",
   "execution_count": 110,
   "id": "455f1eef",
   "metadata": {
    "execution": {
     "iopub.execute_input": "2025-08-07T18:14:46.435421Z",
     "iopub.status.busy": "2025-08-07T18:14:46.435133Z",
     "iopub.status.idle": "2025-08-07T18:14:46.496414Z",
     "shell.execute_reply": "2025-08-07T18:14:46.495547Z"
    },
    "papermill": {
     "duration": 0.094336,
     "end_time": "2025-08-07T18:14:46.497979",
     "exception": false,
     "start_time": "2025-08-07T18:14:46.403643",
     "status": "completed"
    },
    "tags": []
   },
   "outputs": [
    {
     "data": {
      "text/plain": [
       "array([  0.    ,  72.2372,   0.    , ..., 226.0188,   0.    ,   0.    ])"
      ]
     },
     "execution_count": 110,
     "metadata": {},
     "output_type": "execute_result"
    }
   ],
   "source": [
    "y_pred = training_model.predict(X_test)\n",
    "y_pred"
   ]
  },
  {
   "cell_type": "code",
   "execution_count": 111,
   "id": "cb611020",
   "metadata": {
    "execution": {
     "iopub.execute_input": "2025-08-07T18:14:46.560268Z",
     "iopub.status.busy": "2025-08-07T18:14:46.559698Z",
     "iopub.status.idle": "2025-08-07T18:14:46.566251Z",
     "shell.execute_reply": "2025-08-07T18:14:46.565510Z"
    },
    "papermill": {
     "duration": 0.038636,
     "end_time": "2025-08-07T18:14:46.567543",
     "exception": false,
     "start_time": "2025-08-07T18:14:46.528907",
     "status": "completed"
    },
    "tags": []
   },
   "outputs": [
    {
     "data": {
      "text/plain": [
       "5158       0.00\n",
       "3831     105.26\n",
       "5117       0.00\n",
       "6326     758.39\n",
       "11359    135.87\n",
       "          ...  \n",
       "10290     74.58\n",
       "13995      0.00\n",
       "9665     241.81\n",
       "2276       0.00\n",
       "4174       0.00\n",
       "Name: SolarRadiation, Length: 2924, dtype: float64"
      ]
     },
     "execution_count": 111,
     "metadata": {},
     "output_type": "execute_result"
    }
   ],
   "source": [
    "y_test"
   ]
  },
  {
   "cell_type": "code",
   "execution_count": 112,
   "id": "803f238e",
   "metadata": {
    "execution": {
     "iopub.execute_input": "2025-08-07T18:14:46.629824Z",
     "iopub.status.busy": "2025-08-07T18:14:46.629111Z",
     "iopub.status.idle": "2025-08-07T18:14:46.636210Z",
     "shell.execute_reply": "2025-08-07T18:14:46.635353Z"
    },
    "papermill": {
     "duration": 0.039605,
     "end_time": "2025-08-07T18:14:46.637760",
     "exception": false,
     "start_time": "2025-08-07T18:14:46.598155",
     "status": "completed"
    },
    "tags": []
   },
   "outputs": [],
   "source": [
    "mse = mean_squared_error(y_test, y_pred)\n",
    "mae = mean_absolute_error(y_test, y_pred)\n",
    "r2 = r2_score(y_test, y_pred)\n",
    "rmse = math.sqrt(mse)"
   ]
  },
  {
   "cell_type": "code",
   "execution_count": 113,
   "id": "67198343",
   "metadata": {
    "execution": {
     "iopub.execute_input": "2025-08-07T18:14:46.699798Z",
     "iopub.status.busy": "2025-08-07T18:14:46.699443Z",
     "iopub.status.idle": "2025-08-07T18:14:46.704447Z",
     "shell.execute_reply": "2025-08-07T18:14:46.703693Z"
    },
    "papermill": {
     "duration": 0.037631,
     "end_time": "2025-08-07T18:14:46.705926",
     "exception": false,
     "start_time": "2025-08-07T18:14:46.668295",
     "status": "completed"
    },
    "tags": []
   },
   "outputs": [
    {
     "name": "stdout",
     "output_type": "stream",
     "text": [
      "MSE Score: 208.10333151526336\n",
      "MAE Score: 8.196771922024624\n",
      "R2 Score: 0.9977870417144842\n",
      "RMSE Score: 14.425787032784845\n"
     ]
    }
   ],
   "source": [
    "print(\"MSE Score:\", mse)\n",
    "print(\"MAE Score:\", mae)\n",
    "print(\"R2 Score:\", r2)\n",
    "print(\"RMSE Score:\", rmse)"
   ]
  },
  {
   "cell_type": "code",
   "execution_count": 114,
   "id": "5bb0fd2c",
   "metadata": {
    "execution": {
     "iopub.execute_input": "2025-08-07T18:14:46.768027Z",
     "iopub.status.busy": "2025-08-07T18:14:46.767686Z",
     "iopub.status.idle": "2025-08-07T18:14:46.777140Z",
     "shell.execute_reply": "2025-08-07T18:14:46.775996Z"
    },
    "papermill": {
     "duration": 0.042249,
     "end_time": "2025-08-07T18:14:46.778805",
     "exception": false,
     "start_time": "2025-08-07T18:14:46.736556",
     "status": "completed"
    },
    "tags": []
   },
   "outputs": [
    {
     "name": "stdout",
     "output_type": "stream",
     "text": [
      "❌ Regression model not improved:\n",
      "   Current MSE: 208.103332, Best MSE: 198.840610\n",
      "   Current R²: 0.997787, Best R²: 0.997886\n",
      "   Current Features: 24, Best Features: 27\n"
     ]
    }
   ],
   "source": [
    "regression_params = {\n",
    "    'model_name': model_name_for_saving,\n",
    "    'scaler_name': \"RobustScaler\",\n",
    "    'features_list': feature_columns_for_saving,\n",
    "    'target_column': target_name_for_saving,\n",
    "    'mse': mse,\n",
    "    'mae': mae,\n",
    "    'rmse': rmse,\n",
    "    'r2': r2,\n",
    "    'parameters': json.dumps(training_model.get_params())\n",
    "}\n",
    "save_model_performance_if_better('regression', regression_params)"
   ]
  },
  {
   "cell_type": "markdown",
   "id": "45f1de78",
   "metadata": {
    "papermill": {
     "duration": 0.030248,
     "end_time": "2025-08-07T18:14:46.840385",
     "exception": false,
     "start_time": "2025-08-07T18:14:46.810137",
     "status": "completed"
    },
    "tags": []
   },
   "source": [
    "#### Tuning with Randomized Grid Search"
   ]
  },
  {
   "cell_type": "code",
   "execution_count": 115,
   "id": "13bacd05",
   "metadata": {
    "execution": {
     "iopub.execute_input": "2025-08-07T18:14:46.904077Z",
     "iopub.status.busy": "2025-08-07T18:14:46.903402Z",
     "iopub.status.idle": "2025-08-07T18:14:46.908173Z",
     "shell.execute_reply": "2025-08-07T18:14:46.907246Z"
    },
    "papermill": {
     "duration": 0.039094,
     "end_time": "2025-08-07T18:14:46.909793",
     "exception": false,
     "start_time": "2025-08-07T18:14:46.870699",
     "status": "completed"
    },
    "tags": []
   },
   "outputs": [],
   "source": [
    "grid_search = RandomizedSearchCV(\n",
    "    RandomForestRegressor(random_state=42), \n",
    "    grid_param,\n",
    "    n_iter=number_of_model_for_randomized_grid,\n",
    "    cv=5,\n",
    "    scoring='neg_mean_squared_error',\n",
    "    n_jobs=-1,\n",
    "    verbose=1,\n",
    "    random_state=42\n",
    ")"
   ]
  },
  {
   "cell_type": "code",
   "execution_count": 116,
   "id": "9de841ea",
   "metadata": {
    "execution": {
     "iopub.execute_input": "2025-08-07T18:14:46.971971Z",
     "iopub.status.busy": "2025-08-07T18:14:46.971682Z",
     "iopub.status.idle": "2025-08-07T19:45:16.543453Z",
     "shell.execute_reply": "2025-08-07T19:45:16.542648Z"
    },
    "papermill": {
     "duration": 5429.636514,
     "end_time": "2025-08-07T19:45:16.577201",
     "exception": false,
     "start_time": "2025-08-07T18:14:46.940687",
     "status": "completed"
    },
    "tags": []
   },
   "outputs": [
    {
     "name": "stdout",
     "output_type": "stream",
     "text": [
      "Starting hyperparameter tuning...\n",
      "Fitting 5 folds for each of 510 candidates, totalling 2550 fits\n",
      "CPU times: user 42 s, sys: 9.76 s, total: 51.7 s\n",
      "Wall time: 1h 30min 29s\n"
     ]
    },
    {
     "data": {
      "text/html": [
       "<style>#sk-container-id-18 {color: black;background-color: white;}#sk-container-id-18 pre{padding: 0;}#sk-container-id-18 div.sk-toggleable {background-color: white;}#sk-container-id-18 label.sk-toggleable__label {cursor: pointer;display: block;width: 100%;margin-bottom: 0;padding: 0.3em;box-sizing: border-box;text-align: center;}#sk-container-id-18 label.sk-toggleable__label-arrow:before {content: \"▸\";float: left;margin-right: 0.25em;color: #696969;}#sk-container-id-18 label.sk-toggleable__label-arrow:hover:before {color: black;}#sk-container-id-18 div.sk-estimator:hover label.sk-toggleable__label-arrow:before {color: black;}#sk-container-id-18 div.sk-toggleable__content {max-height: 0;max-width: 0;overflow: hidden;text-align: left;background-color: #f0f8ff;}#sk-container-id-18 div.sk-toggleable__content pre {margin: 0.2em;color: black;border-radius: 0.25em;background-color: #f0f8ff;}#sk-container-id-18 input.sk-toggleable__control:checked~div.sk-toggleable__content {max-height: 200px;max-width: 100%;overflow: auto;}#sk-container-id-18 input.sk-toggleable__control:checked~label.sk-toggleable__label-arrow:before {content: \"▾\";}#sk-container-id-18 div.sk-estimator input.sk-toggleable__control:checked~label.sk-toggleable__label {background-color: #d4ebff;}#sk-container-id-18 div.sk-label input.sk-toggleable__control:checked~label.sk-toggleable__label {background-color: #d4ebff;}#sk-container-id-18 input.sk-hidden--visually {border: 0;clip: rect(1px 1px 1px 1px);clip: rect(1px, 1px, 1px, 1px);height: 1px;margin: -1px;overflow: hidden;padding: 0;position: absolute;width: 1px;}#sk-container-id-18 div.sk-estimator {font-family: monospace;background-color: #f0f8ff;border: 1px dotted black;border-radius: 0.25em;box-sizing: border-box;margin-bottom: 0.5em;}#sk-container-id-18 div.sk-estimator:hover {background-color: #d4ebff;}#sk-container-id-18 div.sk-parallel-item::after {content: \"\";width: 100%;border-bottom: 1px solid gray;flex-grow: 1;}#sk-container-id-18 div.sk-label:hover label.sk-toggleable__label {background-color: #d4ebff;}#sk-container-id-18 div.sk-serial::before {content: \"\";position: absolute;border-left: 1px solid gray;box-sizing: border-box;top: 0;bottom: 0;left: 50%;z-index: 0;}#sk-container-id-18 div.sk-serial {display: flex;flex-direction: column;align-items: center;background-color: white;padding-right: 0.2em;padding-left: 0.2em;position: relative;}#sk-container-id-18 div.sk-item {position: relative;z-index: 1;}#sk-container-id-18 div.sk-parallel {display: flex;align-items: stretch;justify-content: center;background-color: white;position: relative;}#sk-container-id-18 div.sk-item::before, #sk-container-id-18 div.sk-parallel-item::before {content: \"\";position: absolute;border-left: 1px solid gray;box-sizing: border-box;top: 0;bottom: 0;left: 50%;z-index: -1;}#sk-container-id-18 div.sk-parallel-item {display: flex;flex-direction: column;z-index: 1;position: relative;background-color: white;}#sk-container-id-18 div.sk-parallel-item:first-child::after {align-self: flex-end;width: 50%;}#sk-container-id-18 div.sk-parallel-item:last-child::after {align-self: flex-start;width: 50%;}#sk-container-id-18 div.sk-parallel-item:only-child::after {width: 0;}#sk-container-id-18 div.sk-dashed-wrapped {border: 1px dashed gray;margin: 0 0.4em 0.5em 0.4em;box-sizing: border-box;padding-bottom: 0.4em;background-color: white;}#sk-container-id-18 div.sk-label label {font-family: monospace;font-weight: bold;display: inline-block;line-height: 1.2em;}#sk-container-id-18 div.sk-label-container {text-align: center;}#sk-container-id-18 div.sk-container {/* jupyter's `normalize.less` sets `[hidden] { display: none; }` but bootstrap.min.css set `[hidden] { display: none !important; }` so we also need the `!important` here to be able to override the default hidden behavior on the sphinx rendered scikit-learn.org. See: https://github.com/scikit-learn/scikit-learn/issues/21755 */display: inline-block !important;position: relative;}#sk-container-id-18 div.sk-text-repr-fallback {display: none;}</style><div id=\"sk-container-id-18\" class=\"sk-top-container\"><div class=\"sk-text-repr-fallback\"><pre>RandomizedSearchCV(cv=5, estimator=RandomForestRegressor(random_state=42),\n",
       "                   n_iter=510, n_jobs=-1,\n",
       "                   param_distributions=[{&#x27;bootstrap&#x27;: [True],\n",
       "                                         &#x27;max_depth&#x27;: [None, 10, 20, 30],\n",
       "                                         &#x27;max_features&#x27;: [&#x27;sqrt&#x27;, &#x27;log2&#x27;, None],\n",
       "                                         &#x27;max_samples&#x27;: [None, 0.8, 0.9],\n",
       "                                         &#x27;min_impurity_decrease&#x27;: [0.0, 0.01,\n",
       "                                                                   0.02],\n",
       "                                         &#x27;min_samples_leaf&#x27;: [1, 2, 4, 6],\n",
       "                                         &#x27;min_samples_split&#x27;: [2, 5, 10, 15,\n",
       "                                                               20],\n",
       "                                         &#x27;n_estimators&#x27;: [100, 200, 300]},\n",
       "                                        {&#x27;bootstrap&#x27;: [False],\n",
       "                                         &#x27;max_depth&#x27;: [None, 10, 20, 30],\n",
       "                                         &#x27;max_features&#x27;: [&#x27;sqrt&#x27;, &#x27;log2&#x27;, None],\n",
       "                                         &#x27;min_impurity_decrease&#x27;: [0.0, 0.01,\n",
       "                                                                   0.02],\n",
       "                                         &#x27;min_samples_leaf&#x27;: [1, 2, 4, 6],\n",
       "                                         &#x27;min_samples_split&#x27;: [2, 5, 10, 15,\n",
       "                                                               20],\n",
       "                                         &#x27;n_estimators&#x27;: [100, 200, 300]}],\n",
       "                   random_state=42, scoring=&#x27;neg_mean_squared_error&#x27;,\n",
       "                   verbose=1)</pre><b>In a Jupyter environment, please rerun this cell to show the HTML representation or trust the notebook. <br />On GitHub, the HTML representation is unable to render, please try loading this page with nbviewer.org.</b></div><div class=\"sk-container\" hidden><div class=\"sk-item sk-dashed-wrapped\"><div class=\"sk-label-container\"><div class=\"sk-label sk-toggleable\"><input class=\"sk-toggleable__control sk-hidden--visually\" id=\"sk-estimator-id-28\" type=\"checkbox\" ><label for=\"sk-estimator-id-28\" class=\"sk-toggleable__label sk-toggleable__label-arrow\">RandomizedSearchCV</label><div class=\"sk-toggleable__content\"><pre>RandomizedSearchCV(cv=5, estimator=RandomForestRegressor(random_state=42),\n",
       "                   n_iter=510, n_jobs=-1,\n",
       "                   param_distributions=[{&#x27;bootstrap&#x27;: [True],\n",
       "                                         &#x27;max_depth&#x27;: [None, 10, 20, 30],\n",
       "                                         &#x27;max_features&#x27;: [&#x27;sqrt&#x27;, &#x27;log2&#x27;, None],\n",
       "                                         &#x27;max_samples&#x27;: [None, 0.8, 0.9],\n",
       "                                         &#x27;min_impurity_decrease&#x27;: [0.0, 0.01,\n",
       "                                                                   0.02],\n",
       "                                         &#x27;min_samples_leaf&#x27;: [1, 2, 4, 6],\n",
       "                                         &#x27;min_samples_split&#x27;: [2, 5, 10, 15,\n",
       "                                                               20],\n",
       "                                         &#x27;n_estimators&#x27;: [100, 200, 300]},\n",
       "                                        {&#x27;bootstrap&#x27;: [False],\n",
       "                                         &#x27;max_depth&#x27;: [None, 10, 20, 30],\n",
       "                                         &#x27;max_features&#x27;: [&#x27;sqrt&#x27;, &#x27;log2&#x27;, None],\n",
       "                                         &#x27;min_impurity_decrease&#x27;: [0.0, 0.01,\n",
       "                                                                   0.02],\n",
       "                                         &#x27;min_samples_leaf&#x27;: [1, 2, 4, 6],\n",
       "                                         &#x27;min_samples_split&#x27;: [2, 5, 10, 15,\n",
       "                                                               20],\n",
       "                                         &#x27;n_estimators&#x27;: [100, 200, 300]}],\n",
       "                   random_state=42, scoring=&#x27;neg_mean_squared_error&#x27;,\n",
       "                   verbose=1)</pre></div></div></div><div class=\"sk-parallel\"><div class=\"sk-parallel-item\"><div class=\"sk-item\"><div class=\"sk-label-container\"><div class=\"sk-label sk-toggleable\"><input class=\"sk-toggleable__control sk-hidden--visually\" id=\"sk-estimator-id-29\" type=\"checkbox\" ><label for=\"sk-estimator-id-29\" class=\"sk-toggleable__label sk-toggleable__label-arrow\">estimator: RandomForestRegressor</label><div class=\"sk-toggleable__content\"><pre>RandomForestRegressor(random_state=42)</pre></div></div></div><div class=\"sk-serial\"><div class=\"sk-item\"><div class=\"sk-estimator sk-toggleable\"><input class=\"sk-toggleable__control sk-hidden--visually\" id=\"sk-estimator-id-30\" type=\"checkbox\" ><label for=\"sk-estimator-id-30\" class=\"sk-toggleable__label sk-toggleable__label-arrow\">RandomForestRegressor</label><div class=\"sk-toggleable__content\"><pre>RandomForestRegressor(random_state=42)</pre></div></div></div></div></div></div></div></div></div></div>"
      ],
      "text/plain": [
       "RandomizedSearchCV(cv=5, estimator=RandomForestRegressor(random_state=42),\n",
       "                   n_iter=510, n_jobs=-1,\n",
       "                   param_distributions=[{'bootstrap': [True],\n",
       "                                         'max_depth': [None, 10, 20, 30],\n",
       "                                         'max_features': ['sqrt', 'log2', None],\n",
       "                                         'max_samples': [None, 0.8, 0.9],\n",
       "                                         'min_impurity_decrease': [0.0, 0.01,\n",
       "                                                                   0.02],\n",
       "                                         'min_samples_leaf': [1, 2, 4, 6],\n",
       "                                         'min_samples_split': [2, 5, 10, 15,\n",
       "                                                               20],\n",
       "                                         'n_estimators': [100, 200, 300]},\n",
       "                                        {'bootstrap': [False],\n",
       "                                         'max_depth': [None, 10, 20, 30],\n",
       "                                         'max_features': ['sqrt', 'log2', None],\n",
       "                                         'min_impurity_decrease': [0.0, 0.01,\n",
       "                                                                   0.02],\n",
       "                                         'min_samples_leaf': [1, 2, 4, 6],\n",
       "                                         'min_samples_split': [2, 5, 10, 15,\n",
       "                                                               20],\n",
       "                                         'n_estimators': [100, 200, 300]}],\n",
       "                   random_state=42, scoring='neg_mean_squared_error',\n",
       "                   verbose=1)"
      ]
     },
     "execution_count": 116,
     "metadata": {},
     "output_type": "execute_result"
    }
   ],
   "source": [
    "%%time\n",
    "print(\"Starting hyperparameter tuning...\")\n",
    "grid_search.fit(X_train, y_train)"
   ]
  },
  {
   "cell_type": "code",
   "execution_count": 117,
   "id": "b0c4b246",
   "metadata": {
    "execution": {
     "iopub.execute_input": "2025-08-07T19:45:16.640215Z",
     "iopub.status.busy": "2025-08-07T19:45:16.639895Z",
     "iopub.status.idle": "2025-08-07T19:45:16.646053Z",
     "shell.execute_reply": "2025-08-07T19:45:16.645050Z"
    },
    "papermill": {
     "duration": 0.039779,
     "end_time": "2025-08-07T19:45:16.647576",
     "exception": false,
     "start_time": "2025-08-07T19:45:16.607797",
     "status": "completed"
    },
    "tags": []
   },
   "outputs": [
    {
     "name": "stdout",
     "output_type": "stream",
     "text": [
      "TUNING RESULTS\n",
      "==================================================\n",
      "Best Parameters: {'n_estimators': 300, 'min_samples_split': 2, 'min_samples_leaf': 1, 'min_impurity_decrease': 0.01, 'max_samples': 0.9, 'max_features': None, 'max_depth': 30, 'bootstrap': True}\n",
      "Best Cross-Validation Score (Negative MSE): -196.42074412162907\n",
      "Best Cross-Validation Score (MSE): 196.42074412162907\n",
      "Best Cross-Validation Score (RMSE): 14.015018520202856\n"
     ]
    }
   ],
   "source": [
    "print(\"TUNING RESULTS\")\n",
    "print(\"=\"*50)\n",
    "print(\"Best Parameters:\", grid_search.best_params_)\n",
    "print(\"Best Cross-Validation Score (Negative MSE):\", grid_search.best_score_)\n",
    "print(\"Best Cross-Validation Score (MSE):\", -grid_search.best_score_)\n",
    "print(\"Best Cross-Validation Score (RMSE):\", math.sqrt(-grid_search.best_score_))"
   ]
  },
  {
   "cell_type": "code",
   "execution_count": 118,
   "id": "feb9ed46",
   "metadata": {
    "execution": {
     "iopub.execute_input": "2025-08-07T19:45:16.710436Z",
     "iopub.status.busy": "2025-08-07T19:45:16.710141Z",
     "iopub.status.idle": "2025-08-07T19:45:16.824421Z",
     "shell.execute_reply": "2025-08-07T19:45:16.823569Z"
    },
    "papermill": {
     "duration": 0.147293,
     "end_time": "2025-08-07T19:45:16.826092",
     "exception": false,
     "start_time": "2025-08-07T19:45:16.678799",
     "status": "completed"
    },
    "tags": []
   },
   "outputs": [],
   "source": [
    "grid_search_best_model = grid_search.best_estimator_\n",
    "y_pred = grid_search_best_model.predict(X_test)"
   ]
  },
  {
   "cell_type": "code",
   "execution_count": 119,
   "id": "6fc679a3",
   "metadata": {
    "execution": {
     "iopub.execute_input": "2025-08-07T19:45:16.889209Z",
     "iopub.status.busy": "2025-08-07T19:45:16.888923Z",
     "iopub.status.idle": "2025-08-07T19:45:16.896204Z",
     "shell.execute_reply": "2025-08-07T19:45:16.895433Z"
    },
    "papermill": {
     "duration": 0.040393,
     "end_time": "2025-08-07T19:45:16.897807",
     "exception": false,
     "start_time": "2025-08-07T19:45:16.857414",
     "status": "completed"
    },
    "tags": []
   },
   "outputs": [],
   "source": [
    "mse_grid_search = mean_squared_error(y_test, y_pred)\n",
    "mae_grid_search = mean_absolute_error(y_test, y_pred)\n",
    "r2_grid_search = r2_score(y_test, y_pred)\n",
    "rmse_grid_search = math.sqrt(mse_grid_search)"
   ]
  },
  {
   "cell_type": "code",
   "execution_count": 120,
   "id": "57cff573",
   "metadata": {
    "execution": {
     "iopub.execute_input": "2025-08-07T19:45:16.960041Z",
     "iopub.status.busy": "2025-08-07T19:45:16.959437Z",
     "iopub.status.idle": "2025-08-07T19:45:16.964348Z",
     "shell.execute_reply": "2025-08-07T19:45:16.963484Z"
    },
    "papermill": {
     "duration": 0.037337,
     "end_time": "2025-08-07T19:45:16.965825",
     "exception": false,
     "start_time": "2025-08-07T19:45:16.928488",
     "status": "completed"
    },
    "tags": []
   },
   "outputs": [
    {
     "name": "stdout",
     "output_type": "stream",
     "text": [
      "MSE Score: 204.627317094712\n",
      "MAE Score: 8.1673343032073\n",
      "R2 Score: 0.9978240054423425\n",
      "RMSE Score: 14.30480049125859\n"
     ]
    }
   ],
   "source": [
    "print(\"MSE Score:\", mse_grid_search)\n",
    "print(\"MAE Score:\", mae_grid_search)\n",
    "print(\"R2 Score:\", r2_grid_search)\n",
    "print(\"RMSE Score:\", rmse_grid_search)"
   ]
  },
  {
   "cell_type": "code",
   "execution_count": 121,
   "id": "9195e806",
   "metadata": {
    "execution": {
     "iopub.execute_input": "2025-08-07T19:45:17.030970Z",
     "iopub.status.busy": "2025-08-07T19:45:17.030668Z",
     "iopub.status.idle": "2025-08-07T19:45:17.048804Z",
     "shell.execute_reply": "2025-08-07T19:45:17.047873Z"
    },
    "papermill": {
     "duration": 0.052456,
     "end_time": "2025-08-07T19:45:17.050191",
     "exception": false,
     "start_time": "2025-08-07T19:45:16.997735",
     "status": "completed"
    },
    "tags": []
   },
   "outputs": [
    {
     "name": "stdout",
     "output_type": "stream",
     "text": [
      "❌ Regression model not improved:\n",
      "   Current MSE: 204.627317, Best MSE: 197.293494\n",
      "   Current R²: 0.997824, Best R²: 0.997902\n",
      "   Current Features: 24, Best Features: 27\n"
     ]
    }
   ],
   "source": [
    "regression_params = {\n",
    "    'model_name': model_name_for_saving + \" Tuned\",\n",
    "    'scaler_name': \"RobustScaler\",\n",
    "    'features_list': feature_columns_for_saving,\n",
    "    'target_column': target_name_for_saving,\n",
    "    'mse': mse_grid_search,\n",
    "    'mae': mae_grid_search,\n",
    "    'rmse': rmse_grid_search,\n",
    "    'r2': r2_grid_search,\n",
    "    'parameters' : json.dumps({\n",
    "        \"best_params\": grid_search.best_params_,\n",
    "        \"cv_score\": grid_search.best_score_,\n",
    "        \"all_params\": grid_search_best_model.get_params()\n",
    "    })\n",
    "}\n",
    "save_model_performance_if_better('regression', regression_params)"
   ]
  },
  {
   "cell_type": "markdown",
   "id": "dc6c5e23",
   "metadata": {
    "papermill": {
     "duration": 0.031705,
     "end_time": "2025-08-07T19:45:17.114316",
     "exception": false,
     "start_time": "2025-08-07T19:45:17.082611",
     "status": "completed"
    },
    "tags": []
   },
   "source": [
    "# All Performance"
   ]
  },
  {
   "cell_type": "code",
   "execution_count": 122,
   "id": "d2508834",
   "metadata": {
    "execution": {
     "iopub.execute_input": "2025-08-07T19:45:17.179163Z",
     "iopub.status.busy": "2025-08-07T19:45:17.178860Z",
     "iopub.status.idle": "2025-08-07T19:45:17.199887Z",
     "shell.execute_reply": "2025-08-07T19:45:17.198541Z"
    },
    "papermill": {
     "duration": 0.056043,
     "end_time": "2025-08-07T19:45:17.201610",
     "exception": false,
     "start_time": "2025-08-07T19:45:17.145567",
     "status": "completed"
    },
    "tags": []
   },
   "outputs": [
    {
     "name": "stdout",
     "output_type": "stream",
     "text": [
      "\n",
      "📊 REGRESSION Model Performance History\n",
      "====================================================================================================\n",
      "              Model         Scaler         Target  Features        MSE      MAE      RMSE       R²\n",
      "Random Forest Tuned StandardScaler SolarRadiation        27 197.288003 7.988813 14.045925 0.997902\n",
      "Random Forest Tuned   RobustScaler SolarRadiation        27 197.293494 7.987118 14.046120 0.997902\n",
      "Random Forest Tuned   MinMaxScaler SolarRadiation        27 197.547542 7.992130 14.055161 0.997899\n",
      "      Random Forest StandardScaler SolarRadiation        27 198.817848 7.937798 14.100278 0.997886\n",
      "      Random Forest   RobustScaler SolarRadiation        27 198.840610 7.936934 14.101085 0.997886\n",
      "      Random Forest   MinMaxScaler SolarRadiation        27 199.075247 7.940530 14.109403 0.997883\n",
      "\n",
      "📈 Total models shown: 6\n",
      "🏆 Best R² Score: 0.997902 (Random Forest Tuned + StandardScaler for SolarRadiation)\n"
     ]
    }
   ],
   "source": [
    "show_model_history('regression', model_name=model_name_for_saving, target_column=target_name_for_saving)"
   ]
  },
  {
   "cell_type": "markdown",
   "id": "5eff1c2a",
   "metadata": {
    "papermill": {
     "duration": 0.030839,
     "end_time": "2025-08-07T19:45:17.263802",
     "exception": false,
     "start_time": "2025-08-07T19:45:17.232963",
     "status": "completed"
    },
    "tags": []
   },
   "source": [
    "# <center><font size=\"50\" color=\"red\">Thank You</font></center>"
   ]
  }
 ],
 "metadata": {
  "kaggle": {
   "accelerator": "none",
   "dataSources": [
    {
     "datasetId": 7943485,
     "sourceId": 12698463,
     "sourceType": "datasetVersion"
    }
   ],
   "isGpuEnabled": false,
   "isInternetEnabled": true,
   "language": "python",
   "sourceType": "notebook"
  },
  "kernelspec": {
   "display_name": "Python 3",
   "language": "python",
   "name": "python3"
  },
  "language_info": {
   "codemirror_mode": {
    "name": "ipython",
    "version": 3
   },
   "file_extension": ".py",
   "mimetype": "text/x-python",
   "name": "python",
   "nbconvert_exporter": "python",
   "pygments_lexer": "ipython3",
   "version": "3.11.13"
  },
  "papermill": {
   "default_parameters": {},
   "duration": 35393.435303,
   "end_time": "2025-08-07T19:45:19.952203",
   "environment_variables": {},
   "exception": null,
   "input_path": "__notebook__.ipynb",
   "output_path": "__notebook__.ipynb",
   "parameters": {},
   "start_time": "2025-08-07T09:55:26.516900",
   "version": "2.6.0"
  }
 },
 "nbformat": 4,
 "nbformat_minor": 5
}
