{
 "cells": [
  {
   "cell_type": "markdown",
   "id": "2a6c88d1",
   "metadata": {
    "papermill": {
     "duration": 0.021173,
     "end_time": "2025-08-07T08:53:33.783104",
     "exception": false,
     "start_time": "2025-08-07T08:53:33.761931",
     "status": "completed"
    },
    "tags": []
   },
   "source": [
    "# <font color=\"red\">Visibility Prediction with Gradient Boosting Regressor</font>"
   ]
  },
  {
   "cell_type": "markdown",
   "id": "ef2e709b",
   "metadata": {
    "papermill": {
     "duration": 0.017287,
     "end_time": "2025-08-07T08:53:33.818689",
     "exception": false,
     "start_time": "2025-08-07T08:53:33.801402",
     "status": "completed"
    },
    "tags": []
   },
   "source": [
    "# Library Import"
   ]
  },
  {
   "cell_type": "code",
   "execution_count": 1,
   "id": "d7708949",
   "metadata": {
    "execution": {
     "iopub.execute_input": "2025-08-07T08:53:33.854311Z",
     "iopub.status.busy": "2025-08-07T08:53:33.854011Z",
     "iopub.status.idle": "2025-08-07T08:53:37.431017Z",
     "shell.execute_reply": "2025-08-07T08:53:37.430122Z"
    },
    "papermill": {
     "duration": 3.597278,
     "end_time": "2025-08-07T08:53:37.433150",
     "exception": false,
     "start_time": "2025-08-07T08:53:33.835872",
     "status": "completed"
    },
    "tags": []
   },
   "outputs": [],
   "source": [
    "# Data manipulation and visualization\n",
    "import pandas as pd\n",
    "import math\n",
    "import json\n",
    "\n",
    "# Preprocessing\n",
    "from sklearn.model_selection import StratifiedShuffleSplit, RandomizedSearchCV\n",
    "from sklearn.preprocessing import MinMaxScaler, StandardScaler, RobustScaler\n",
    "from sklearn.metrics import r2_score, mean_squared_error, mean_absolute_error\n",
    "from sklearn.ensemble import GradientBoostingRegressor\n",
    "\n",
    "import sys\n",
    "# sys.path.append('../../') # Uncomment this line if running locally\n",
    "sys.path.append('/kaggle/input/weatherdata') # Uncomment this line if running on Kaggle\n",
    "from historyManagement import *\n",
    "\n",
    "# suppress warnings\n",
    "import warnings\n",
    "warnings.filterwarnings(\"ignore\")"
   ]
  },
  {
   "cell_type": "markdown",
   "id": "eebd70a8",
   "metadata": {
    "papermill": {
     "duration": 0.01793,
     "end_time": "2025-08-07T08:53:37.469448",
     "exception": false,
     "start_time": "2025-08-07T08:53:37.451518",
     "status": "completed"
    },
    "tags": []
   },
   "source": [
    "# Datasets Import"
   ]
  },
  {
   "cell_type": "code",
   "execution_count": 2,
   "id": "cead157e",
   "metadata": {
    "execution": {
     "iopub.execute_input": "2025-08-07T08:53:37.556327Z",
     "iopub.status.busy": "2025-08-07T08:53:37.555259Z",
     "iopub.status.idle": "2025-08-07T08:53:37.762190Z",
     "shell.execute_reply": "2025-08-07T08:53:37.761360Z"
    },
    "papermill": {
     "duration": 0.228557,
     "end_time": "2025-08-07T08:53:37.764135",
     "exception": false,
     "start_time": "2025-08-07T08:53:37.535578",
     "status": "completed"
    },
    "tags": []
   },
   "outputs": [
    {
     "data": {
      "text/html": [
       "<div>\n",
       "<style scoped>\n",
       "    .dataframe tbody tr th:only-of-type {\n",
       "        vertical-align: middle;\n",
       "    }\n",
       "\n",
       "    .dataframe tbody tr th {\n",
       "        vertical-align: top;\n",
       "    }\n",
       "\n",
       "    .dataframe thead th {\n",
       "        text-align: right;\n",
       "    }\n",
       "</style>\n",
       "<table border=\"1\" class=\"dataframe\">\n",
       "  <thead>\n",
       "    <tr style=\"text-align: right;\">\n",
       "      <th></th>\n",
       "      <th>DateTime</th>\n",
       "      <th>Year</th>\n",
       "      <th>Month</th>\n",
       "      <th>Day</th>\n",
       "      <th>Hour</th>\n",
       "      <th>DaySegments</th>\n",
       "      <th>DaySegments_Afternoon</th>\n",
       "      <th>DaySegments_Early Morning</th>\n",
       "      <th>DaySegments_Evening</th>\n",
       "      <th>DaySegments_Late Night</th>\n",
       "      <th>...</th>\n",
       "      <th>WindDir</th>\n",
       "      <th>SeaLevelPressure</th>\n",
       "      <th>CloudCover</th>\n",
       "      <th>UVIndex</th>\n",
       "      <th>SevereRisk</th>\n",
       "      <th>Visibility</th>\n",
       "      <th>SolarRadiation</th>\n",
       "      <th>SolarEnergy</th>\n",
       "      <th>Conditions</th>\n",
       "      <th>Icon</th>\n",
       "    </tr>\n",
       "  </thead>\n",
       "  <tbody>\n",
       "    <tr>\n",
       "      <th>0</th>\n",
       "      <td>2023-01-01 00:00:00</td>\n",
       "      <td>2023</td>\n",
       "      <td>1</td>\n",
       "      <td>1</td>\n",
       "      <td>0</td>\n",
       "      <td>Late Night</td>\n",
       "      <td>0</td>\n",
       "      <td>0</td>\n",
       "      <td>0</td>\n",
       "      <td>1</td>\n",
       "      <td>...</td>\n",
       "      <td>0.49</td>\n",
       "      <td>1018.68</td>\n",
       "      <td>0.03</td>\n",
       "      <td>0.0</td>\n",
       "      <td>10.0</td>\n",
       "      <td>2.76</td>\n",
       "      <td>0.0</td>\n",
       "      <td>0.0</td>\n",
       "      <td>Clear</td>\n",
       "      <td>clear-night</td>\n",
       "    </tr>\n",
       "    <tr>\n",
       "      <th>1</th>\n",
       "      <td>2023-01-01 01:00:00</td>\n",
       "      <td>2023</td>\n",
       "      <td>1</td>\n",
       "      <td>1</td>\n",
       "      <td>1</td>\n",
       "      <td>Late Night</td>\n",
       "      <td>0</td>\n",
       "      <td>0</td>\n",
       "      <td>0</td>\n",
       "      <td>1</td>\n",
       "      <td>...</td>\n",
       "      <td>0.54</td>\n",
       "      <td>1018.03</td>\n",
       "      <td>0.11</td>\n",
       "      <td>0.0</td>\n",
       "      <td>10.0</td>\n",
       "      <td>1.75</td>\n",
       "      <td>0.0</td>\n",
       "      <td>0.0</td>\n",
       "      <td>Clear</td>\n",
       "      <td>clear-night</td>\n",
       "    </tr>\n",
       "    <tr>\n",
       "      <th>2</th>\n",
       "      <td>2023-01-01 02:00:00</td>\n",
       "      <td>2023</td>\n",
       "      <td>1</td>\n",
       "      <td>1</td>\n",
       "      <td>2</td>\n",
       "      <td>Late Night</td>\n",
       "      <td>0</td>\n",
       "      <td>0</td>\n",
       "      <td>0</td>\n",
       "      <td>1</td>\n",
       "      <td>...</td>\n",
       "      <td>30.51</td>\n",
       "      <td>1017.56</td>\n",
       "      <td>0.03</td>\n",
       "      <td>0.0</td>\n",
       "      <td>10.0</td>\n",
       "      <td>1.75</td>\n",
       "      <td>0.0</td>\n",
       "      <td>0.0</td>\n",
       "      <td>Clear</td>\n",
       "      <td>clear-night</td>\n",
       "    </tr>\n",
       "    <tr>\n",
       "      <th>3</th>\n",
       "      <td>2023-01-01 03:00:00</td>\n",
       "      <td>2023</td>\n",
       "      <td>1</td>\n",
       "      <td>1</td>\n",
       "      <td>3</td>\n",
       "      <td>Late Night</td>\n",
       "      <td>0</td>\n",
       "      <td>0</td>\n",
       "      <td>0</td>\n",
       "      <td>1</td>\n",
       "      <td>...</td>\n",
       "      <td>49.23</td>\n",
       "      <td>1018.05</td>\n",
       "      <td>0.00</td>\n",
       "      <td>0.0</td>\n",
       "      <td>10.0</td>\n",
       "      <td>2.28</td>\n",
       "      <td>0.0</td>\n",
       "      <td>0.0</td>\n",
       "      <td>Clear</td>\n",
       "      <td>clear-night</td>\n",
       "    </tr>\n",
       "    <tr>\n",
       "      <th>4</th>\n",
       "      <td>2023-01-01 04:00:00</td>\n",
       "      <td>2023</td>\n",
       "      <td>1</td>\n",
       "      <td>1</td>\n",
       "      <td>4</td>\n",
       "      <td>Late Night</td>\n",
       "      <td>0</td>\n",
       "      <td>0</td>\n",
       "      <td>0</td>\n",
       "      <td>1</td>\n",
       "      <td>...</td>\n",
       "      <td>49.90</td>\n",
       "      <td>1018.00</td>\n",
       "      <td>86.17</td>\n",
       "      <td>0.0</td>\n",
       "      <td>10.0</td>\n",
       "      <td>1.27</td>\n",
       "      <td>0.0</td>\n",
       "      <td>0.0</td>\n",
       "      <td>Partially cloudy</td>\n",
       "      <td>fog</td>\n",
       "    </tr>\n",
       "  </tbody>\n",
       "</table>\n",
       "<p>5 rows × 36 columns</p>\n",
       "</div>"
      ],
      "text/plain": [
       "             DateTime  Year  Month  Day  Hour DaySegments  \\\n",
       "0 2023-01-01 00:00:00  2023      1    1     0  Late Night   \n",
       "1 2023-01-01 01:00:00  2023      1    1     1  Late Night   \n",
       "2 2023-01-01 02:00:00  2023      1    1     2  Late Night   \n",
       "3 2023-01-01 03:00:00  2023      1    1     3  Late Night   \n",
       "4 2023-01-01 04:00:00  2023      1    1     4  Late Night   \n",
       "\n",
       "   DaySegments_Afternoon  DaySegments_Early Morning  DaySegments_Evening  \\\n",
       "0                      0                          0                    0   \n",
       "1                      0                          0                    0   \n",
       "2                      0                          0                    0   \n",
       "3                      0                          0                    0   \n",
       "4                      0                          0                    0   \n",
       "\n",
       "   DaySegments_Late Night  ...  WindDir  SeaLevelPressure  CloudCover  \\\n",
       "0                       1  ...     0.49           1018.68        0.03   \n",
       "1                       1  ...     0.54           1018.03        0.11   \n",
       "2                       1  ...    30.51           1017.56        0.03   \n",
       "3                       1  ...    49.23           1018.05        0.00   \n",
       "4                       1  ...    49.90           1018.00       86.17   \n",
       "\n",
       "   UVIndex  SevereRisk  Visibility  SolarRadiation SolarEnergy  \\\n",
       "0      0.0        10.0        2.76             0.0         0.0   \n",
       "1      0.0        10.0        1.75             0.0         0.0   \n",
       "2      0.0        10.0        1.75             0.0         0.0   \n",
       "3      0.0        10.0        2.28             0.0         0.0   \n",
       "4      0.0        10.0        1.27             0.0         0.0   \n",
       "\n",
       "         Conditions         Icon  \n",
       "0             Clear  clear-night  \n",
       "1             Clear  clear-night  \n",
       "2             Clear  clear-night  \n",
       "3             Clear  clear-night  \n",
       "4  Partially cloudy          fog  \n",
       "\n",
       "[5 rows x 36 columns]"
      ]
     },
     "execution_count": 2,
     "metadata": {},
     "output_type": "execute_result"
    }
   ],
   "source": [
    "# Load the weather dataset for visibility prediction\n",
    "# weather_data = pd.read_csv('../../FinalDatasets/finalDataset.csv') # Uncomment this line if running locally\n",
    "weather_data = pd.read_csv('/kaggle/input/weatherdata/finalDataset.csv') # Uncomment this line if running on Kaggle\n",
    "weather_data['DateTime'] = pd.to_datetime(weather_data['DateTime'])\n",
    "weather_data.head()"
   ]
  },
  {
   "cell_type": "code",
   "execution_count": 3,
   "id": "196c450d",
   "metadata": {
    "execution": {
     "iopub.execute_input": "2025-08-07T08:53:37.802967Z",
     "iopub.status.busy": "2025-08-07T08:53:37.802579Z",
     "iopub.status.idle": "2025-08-07T08:53:37.828141Z",
     "shell.execute_reply": "2025-08-07T08:53:37.826972Z"
    },
    "papermill": {
     "duration": 0.046067,
     "end_time": "2025-08-07T08:53:37.829572",
     "exception": false,
     "start_time": "2025-08-07T08:53:37.783505",
     "status": "completed"
    },
    "tags": []
   },
   "outputs": [
    {
     "name": "stdout",
     "output_type": "stream",
     "text": [
      "<class 'pandas.core.frame.DataFrame'>\n",
      "RangeIndex: 14616 entries, 0 to 14615\n",
      "Data columns (total 36 columns):\n",
      " #   Column                     Non-Null Count  Dtype         \n",
      "---  ------                     --------------  -----         \n",
      " 0   DateTime                   14616 non-null  datetime64[ns]\n",
      " 1   Year                       14616 non-null  int64         \n",
      " 2   Month                      14616 non-null  int64         \n",
      " 3   Day                        14616 non-null  int64         \n",
      " 4   Hour                       14616 non-null  int64         \n",
      " 5   DaySegments                14616 non-null  object        \n",
      " 6   DaySegments_Afternoon      14616 non-null  int64         \n",
      " 7   DaySegments_Early Morning  14616 non-null  int64         \n",
      " 8   DaySegments_Evening        14616 non-null  int64         \n",
      " 9   DaySegments_Late Night     14616 non-null  int64         \n",
      " 10  DaySegments_Midday         14616 non-null  int64         \n",
      " 11  DaySegments_Morning        14616 non-null  int64         \n",
      " 12  DaySegments_Night          14616 non-null  int64         \n",
      " 13  Season_Autumn              14616 non-null  int64         \n",
      " 14  Season_Rainy               14616 non-null  int64         \n",
      " 15  Season_Summer              14616 non-null  int64         \n",
      " 16  Season_Winter              14616 non-null  int64         \n",
      " 17  Season                     14616 non-null  object        \n",
      " 18  Temp                       14616 non-null  float64       \n",
      " 19  FeelsLike                  14616 non-null  float64       \n",
      " 20  Dew                        14616 non-null  float64       \n",
      " 21  Humidity                   14616 non-null  float64       \n",
      " 22  Precip                     14616 non-null  float64       \n",
      " 23  PrecipProb                 14616 non-null  float64       \n",
      " 24  Windgust                   14616 non-null  float64       \n",
      " 25  WindSpeed                  14616 non-null  float64       \n",
      " 26  WindDir                    14616 non-null  float64       \n",
      " 27  SeaLevelPressure           14616 non-null  float64       \n",
      " 28  CloudCover                 14616 non-null  float64       \n",
      " 29  UVIndex                    14616 non-null  float64       \n",
      " 30  SevereRisk                 14616 non-null  float64       \n",
      " 31  Visibility                 14616 non-null  float64       \n",
      " 32  SolarRadiation             14616 non-null  float64       \n",
      " 33  SolarEnergy                14616 non-null  float64       \n",
      " 34  Conditions                 14616 non-null  object        \n",
      " 35  Icon                       14616 non-null  object        \n",
      "dtypes: datetime64[ns](1), float64(16), int64(15), object(4)\n",
      "memory usage: 4.0+ MB\n"
     ]
    }
   ],
   "source": [
    "weather_data.info()"
   ]
  },
  {
   "cell_type": "code",
   "execution_count": 4,
   "id": "d762d7f0",
   "metadata": {
    "execution": {
     "iopub.execute_input": "2025-08-07T08:53:37.873199Z",
     "iopub.status.busy": "2025-08-07T08:53:37.872919Z",
     "iopub.status.idle": "2025-08-07T08:53:37.957353Z",
     "shell.execute_reply": "2025-08-07T08:53:37.956166Z"
    },
    "papermill": {
     "duration": 0.110802,
     "end_time": "2025-08-07T08:53:37.959188",
     "exception": false,
     "start_time": "2025-08-07T08:53:37.848386",
     "status": "completed"
    },
    "tags": []
   },
   "outputs": [
    {
     "data": {
      "text/html": [
       "<div>\n",
       "<style scoped>\n",
       "    .dataframe tbody tr th:only-of-type {\n",
       "        vertical-align: middle;\n",
       "    }\n",
       "\n",
       "    .dataframe tbody tr th {\n",
       "        vertical-align: top;\n",
       "    }\n",
       "\n",
       "    .dataframe thead th {\n",
       "        text-align: right;\n",
       "    }\n",
       "</style>\n",
       "<table border=\"1\" class=\"dataframe\">\n",
       "  <thead>\n",
       "    <tr style=\"text-align: right;\">\n",
       "      <th></th>\n",
       "      <th>DateTime</th>\n",
       "      <th>Year</th>\n",
       "      <th>Month</th>\n",
       "      <th>Day</th>\n",
       "      <th>Hour</th>\n",
       "      <th>DaySegments_Afternoon</th>\n",
       "      <th>DaySegments_Early Morning</th>\n",
       "      <th>DaySegments_Evening</th>\n",
       "      <th>DaySegments_Late Night</th>\n",
       "      <th>DaySegments_Midday</th>\n",
       "      <th>...</th>\n",
       "      <th>Windgust</th>\n",
       "      <th>WindSpeed</th>\n",
       "      <th>WindDir</th>\n",
       "      <th>SeaLevelPressure</th>\n",
       "      <th>CloudCover</th>\n",
       "      <th>UVIndex</th>\n",
       "      <th>SevereRisk</th>\n",
       "      <th>Visibility</th>\n",
       "      <th>SolarRadiation</th>\n",
       "      <th>SolarEnergy</th>\n",
       "    </tr>\n",
       "  </thead>\n",
       "  <tbody>\n",
       "    <tr>\n",
       "      <th>count</th>\n",
       "      <td>14616</td>\n",
       "      <td>14616.000000</td>\n",
       "      <td>14616.000000</td>\n",
       "      <td>14616.000000</td>\n",
       "      <td>14616.000000</td>\n",
       "      <td>14616.000000</td>\n",
       "      <td>14616.000000</td>\n",
       "      <td>14616.000000</td>\n",
       "      <td>14616.000000</td>\n",
       "      <td>14616.000000</td>\n",
       "      <td>...</td>\n",
       "      <td>14616.000000</td>\n",
       "      <td>14616.000000</td>\n",
       "      <td>14616.000000</td>\n",
       "      <td>14616.000000</td>\n",
       "      <td>14616.000000</td>\n",
       "      <td>14616.000000</td>\n",
       "      <td>14616.000000</td>\n",
       "      <td>14616.000000</td>\n",
       "      <td>14616.000000</td>\n",
       "      <td>14616.000000</td>\n",
       "    </tr>\n",
       "    <tr>\n",
       "      <th>mean</th>\n",
       "      <td>2023-11-01 11:30:00</td>\n",
       "      <td>2023.400657</td>\n",
       "      <td>5.720854</td>\n",
       "      <td>15.735632</td>\n",
       "      <td>11.500000</td>\n",
       "      <td>0.131294</td>\n",
       "      <td>0.060550</td>\n",
       "      <td>0.098043</td>\n",
       "      <td>0.249726</td>\n",
       "      <td>0.116585</td>\n",
       "      <td>...</td>\n",
       "      <td>17.068560</td>\n",
       "      <td>8.090783</td>\n",
       "      <td>159.739178</td>\n",
       "      <td>1008.265012</td>\n",
       "      <td>53.579923</td>\n",
       "      <td>2.263555</td>\n",
       "      <td>16.504787</td>\n",
       "      <td>4.368134</td>\n",
       "      <td>227.640683</td>\n",
       "      <td>0.819217</td>\n",
       "    </tr>\n",
       "    <tr>\n",
       "      <th>min</th>\n",
       "      <td>2023-01-01 00:00:00</td>\n",
       "      <td>2023.000000</td>\n",
       "      <td>1.000000</td>\n",
       "      <td>1.000000</td>\n",
       "      <td>0.000000</td>\n",
       "      <td>0.000000</td>\n",
       "      <td>0.000000</td>\n",
       "      <td>0.000000</td>\n",
       "      <td>0.000000</td>\n",
       "      <td>0.000000</td>\n",
       "      <td>...</td>\n",
       "      <td>0.660000</td>\n",
       "      <td>0.000000</td>\n",
       "      <td>0.000000</td>\n",
       "      <td>982.420000</td>\n",
       "      <td>0.000000</td>\n",
       "      <td>0.000000</td>\n",
       "      <td>3.000000</td>\n",
       "      <td>0.000000</td>\n",
       "      <td>0.000000</td>\n",
       "      <td>0.000000</td>\n",
       "    </tr>\n",
       "    <tr>\n",
       "      <th>25%</th>\n",
       "      <td>2023-06-02 05:45:00</td>\n",
       "      <td>2023.000000</td>\n",
       "      <td>3.000000</td>\n",
       "      <td>8.000000</td>\n",
       "      <td>5.750000</td>\n",
       "      <td>0.000000</td>\n",
       "      <td>0.000000</td>\n",
       "      <td>0.000000</td>\n",
       "      <td>0.000000</td>\n",
       "      <td>0.000000</td>\n",
       "      <td>...</td>\n",
       "      <td>9.170000</td>\n",
       "      <td>2.870000</td>\n",
       "      <td>80.965000</td>\n",
       "      <td>1003.277500</td>\n",
       "      <td>26.670000</td>\n",
       "      <td>0.000000</td>\n",
       "      <td>10.000000</td>\n",
       "      <td>3.990000</td>\n",
       "      <td>0.000000</td>\n",
       "      <td>0.000000</td>\n",
       "    </tr>\n",
       "    <tr>\n",
       "      <th>50%</th>\n",
       "      <td>2023-11-01 11:30:00</td>\n",
       "      <td>2023.000000</td>\n",
       "      <td>6.000000</td>\n",
       "      <td>16.000000</td>\n",
       "      <td>11.500000</td>\n",
       "      <td>0.000000</td>\n",
       "      <td>0.000000</td>\n",
       "      <td>0.000000</td>\n",
       "      <td>0.000000</td>\n",
       "      <td>0.000000</td>\n",
       "      <td>...</td>\n",
       "      <td>14.645000</td>\n",
       "      <td>7.670000</td>\n",
       "      <td>163.790000</td>\n",
       "      <td>1007.970000</td>\n",
       "      <td>51.540000</td>\n",
       "      <td>0.000000</td>\n",
       "      <td>10.000000</td>\n",
       "      <td>4.650000</td>\n",
       "      <td>10.665000</td>\n",
       "      <td>0.010000</td>\n",
       "    </tr>\n",
       "    <tr>\n",
       "      <th>75%</th>\n",
       "      <td>2024-04-01 17:15:00</td>\n",
       "      <td>2024.000000</td>\n",
       "      <td>8.000000</td>\n",
       "      <td>23.000000</td>\n",
       "      <td>17.250000</td>\n",
       "      <td>0.000000</td>\n",
       "      <td>0.000000</td>\n",
       "      <td>0.000000</td>\n",
       "      <td>0.000000</td>\n",
       "      <td>0.000000</td>\n",
       "      <td>...</td>\n",
       "      <td>23.410000</td>\n",
       "      <td>11.750000</td>\n",
       "      <td>241.402500</td>\n",
       "      <td>1013.400000</td>\n",
       "      <td>87.790000</td>\n",
       "      <td>4.740000</td>\n",
       "      <td>12.580000</td>\n",
       "      <td>4.650000</td>\n",
       "      <td>459.745000</td>\n",
       "      <td>1.660000</td>\n",
       "    </tr>\n",
       "    <tr>\n",
       "      <th>max</th>\n",
       "      <td>2024-08-31 23:00:00</td>\n",
       "      <td>2024.000000</td>\n",
       "      <td>12.000000</td>\n",
       "      <td>31.000000</td>\n",
       "      <td>23.000000</td>\n",
       "      <td>1.000000</td>\n",
       "      <td>1.000000</td>\n",
       "      <td>1.000000</td>\n",
       "      <td>1.000000</td>\n",
       "      <td>1.000000</td>\n",
       "      <td>...</td>\n",
       "      <td>84.120000</td>\n",
       "      <td>71.970000</td>\n",
       "      <td>360.000000</td>\n",
       "      <td>1022.060000</td>\n",
       "      <td>100.000000</td>\n",
       "      <td>10.000000</td>\n",
       "      <td>97.740000</td>\n",
       "      <td>24.100000</td>\n",
       "      <td>1026.650000</td>\n",
       "      <td>3.700000</td>\n",
       "    </tr>\n",
       "    <tr>\n",
       "      <th>std</th>\n",
       "      <td>NaN</td>\n",
       "      <td>0.490048</td>\n",
       "      <td>3.195073</td>\n",
       "      <td>8.803610</td>\n",
       "      <td>6.922423</td>\n",
       "      <td>0.337734</td>\n",
       "      <td>0.238511</td>\n",
       "      <td>0.297383</td>\n",
       "      <td>0.432869</td>\n",
       "      <td>0.320936</td>\n",
       "      <td>...</td>\n",
       "      <td>10.195911</td>\n",
       "      <td>6.250203</td>\n",
       "      <td>104.422027</td>\n",
       "      <td>6.010683</td>\n",
       "      <td>35.166637</td>\n",
       "      <td>3.083074</td>\n",
       "      <td>15.031827</td>\n",
       "      <td>1.376994</td>\n",
       "      <td>307.219387</td>\n",
       "      <td>1.106444</td>\n",
       "    </tr>\n",
       "  </tbody>\n",
       "</table>\n",
       "<p>8 rows × 32 columns</p>\n",
       "</div>"
      ],
      "text/plain": [
       "                  DateTime          Year         Month           Day  \\\n",
       "count                14616  14616.000000  14616.000000  14616.000000   \n",
       "mean   2023-11-01 11:30:00   2023.400657      5.720854     15.735632   \n",
       "min    2023-01-01 00:00:00   2023.000000      1.000000      1.000000   \n",
       "25%    2023-06-02 05:45:00   2023.000000      3.000000      8.000000   \n",
       "50%    2023-11-01 11:30:00   2023.000000      6.000000     16.000000   \n",
       "75%    2024-04-01 17:15:00   2024.000000      8.000000     23.000000   \n",
       "max    2024-08-31 23:00:00   2024.000000     12.000000     31.000000   \n",
       "std                    NaN      0.490048      3.195073      8.803610   \n",
       "\n",
       "               Hour  DaySegments_Afternoon  DaySegments_Early Morning  \\\n",
       "count  14616.000000           14616.000000               14616.000000   \n",
       "mean      11.500000               0.131294                   0.060550   \n",
       "min        0.000000               0.000000                   0.000000   \n",
       "25%        5.750000               0.000000                   0.000000   \n",
       "50%       11.500000               0.000000                   0.000000   \n",
       "75%       17.250000               0.000000                   0.000000   \n",
       "max       23.000000               1.000000                   1.000000   \n",
       "std        6.922423               0.337734                   0.238511   \n",
       "\n",
       "       DaySegments_Evening  DaySegments_Late Night  DaySegments_Midday  ...  \\\n",
       "count         14616.000000            14616.000000        14616.000000  ...   \n",
       "mean              0.098043                0.249726            0.116585  ...   \n",
       "min               0.000000                0.000000            0.000000  ...   \n",
       "25%               0.000000                0.000000            0.000000  ...   \n",
       "50%               0.000000                0.000000            0.000000  ...   \n",
       "75%               0.000000                0.000000            0.000000  ...   \n",
       "max               1.000000                1.000000            1.000000  ...   \n",
       "std               0.297383                0.432869            0.320936  ...   \n",
       "\n",
       "           Windgust     WindSpeed       WindDir  SeaLevelPressure  \\\n",
       "count  14616.000000  14616.000000  14616.000000      14616.000000   \n",
       "mean      17.068560      8.090783    159.739178       1008.265012   \n",
       "min        0.660000      0.000000      0.000000        982.420000   \n",
       "25%        9.170000      2.870000     80.965000       1003.277500   \n",
       "50%       14.645000      7.670000    163.790000       1007.970000   \n",
       "75%       23.410000     11.750000    241.402500       1013.400000   \n",
       "max       84.120000     71.970000    360.000000       1022.060000   \n",
       "std       10.195911      6.250203    104.422027          6.010683   \n",
       "\n",
       "         CloudCover       UVIndex    SevereRisk    Visibility  SolarRadiation  \\\n",
       "count  14616.000000  14616.000000  14616.000000  14616.000000    14616.000000   \n",
       "mean      53.579923      2.263555     16.504787      4.368134      227.640683   \n",
       "min        0.000000      0.000000      3.000000      0.000000        0.000000   \n",
       "25%       26.670000      0.000000     10.000000      3.990000        0.000000   \n",
       "50%       51.540000      0.000000     10.000000      4.650000       10.665000   \n",
       "75%       87.790000      4.740000     12.580000      4.650000      459.745000   \n",
       "max      100.000000     10.000000     97.740000     24.100000     1026.650000   \n",
       "std       35.166637      3.083074     15.031827      1.376994      307.219387   \n",
       "\n",
       "        SolarEnergy  \n",
       "count  14616.000000  \n",
       "mean       0.819217  \n",
       "min        0.000000  \n",
       "25%        0.000000  \n",
       "50%        0.010000  \n",
       "75%        1.660000  \n",
       "max        3.700000  \n",
       "std        1.106444  \n",
       "\n",
       "[8 rows x 32 columns]"
      ]
     },
     "execution_count": 4,
     "metadata": {},
     "output_type": "execute_result"
    }
   ],
   "source": [
    "weather_data.describe()"
   ]
  },
  {
   "cell_type": "markdown",
   "id": "a5d15067",
   "metadata": {
    "papermill": {
     "duration": 0.020246,
     "end_time": "2025-08-07T08:53:38.000143",
     "exception": false,
     "start_time": "2025-08-07T08:53:37.979897",
     "status": "completed"
    },
    "tags": []
   },
   "source": [
    "# Data Split"
   ]
  },
  {
   "cell_type": "code",
   "execution_count": 5,
   "id": "bd1ad613",
   "metadata": {
    "execution": {
     "iopub.execute_input": "2025-08-07T08:53:38.040716Z",
     "iopub.status.busy": "2025-08-07T08:53:38.039757Z",
     "iopub.status.idle": "2025-08-07T08:53:38.060619Z",
     "shell.execute_reply": "2025-08-07T08:53:38.059565Z"
    },
    "papermill": {
     "duration": 0.043228,
     "end_time": "2025-08-07T08:53:38.062198",
     "exception": false,
     "start_time": "2025-08-07T08:53:38.018970",
     "status": "completed"
    },
    "tags": []
   },
   "outputs": [],
   "source": [
    "sss = StratifiedShuffleSplit(n_splits=1, test_size=0.20, random_state=42)\n",
    "for train_idx, test_idx in sss.split(weather_data, weather_data['DaySegments']):\n",
    "    weather_data_train = weather_data.iloc[train_idx]\n",
    "    weather_data_test = weather_data.iloc[test_idx]"
   ]
  },
  {
   "cell_type": "code",
   "execution_count": 6,
   "id": "f14da6e6",
   "metadata": {
    "execution": {
     "iopub.execute_input": "2025-08-07T08:53:38.102254Z",
     "iopub.status.busy": "2025-08-07T08:53:38.101955Z",
     "iopub.status.idle": "2025-08-07T08:53:38.110792Z",
     "shell.execute_reply": "2025-08-07T08:53:38.109582Z"
    },
    "papermill": {
     "duration": 0.030667,
     "end_time": "2025-08-07T08:53:38.112279",
     "exception": false,
     "start_time": "2025-08-07T08:53:38.081612",
     "status": "completed"
    },
    "tags": []
   },
   "outputs": [
    {
     "name": "stdout",
     "output_type": "stream",
     "text": [
      "Distribution of data based on DaySegments:\n",
      "     DaySegments  Count\n",
      "0     Late Night   3650\n",
      "1        Morning   3504\n",
      "2      Afternoon   1919\n",
      "3         Midday   1704\n",
      "4          Night   1521\n",
      "5        Evening   1433\n",
      "6  Early Morning    885\n"
     ]
    }
   ],
   "source": [
    "# Show the count of each unique class in DaySegments\n",
    "class_counts = weather_data['DaySegments'].value_counts().reset_index()\n",
    "class_counts.columns = ['DaySegments', 'Count']\n",
    "\n",
    "print(\"Distribution of data based on DaySegments:\")\n",
    "print(class_counts)"
   ]
  },
  {
   "cell_type": "code",
   "execution_count": 7,
   "id": "c12815b2",
   "metadata": {
    "execution": {
     "iopub.execute_input": "2025-08-07T08:53:38.150946Z",
     "iopub.status.busy": "2025-08-07T08:53:38.149928Z",
     "iopub.status.idle": "2025-08-07T08:53:38.159126Z",
     "shell.execute_reply": "2025-08-07T08:53:38.158111Z"
    },
    "papermill": {
     "duration": 0.029962,
     "end_time": "2025-08-07T08:53:38.160728",
     "exception": false,
     "start_time": "2025-08-07T08:53:38.130766",
     "status": "completed"
    },
    "tags": []
   },
   "outputs": [
    {
     "name": "stdout",
     "output_type": "stream",
     "text": [
      "Distribution of DaySegments in Training Set:\n",
      "DaySegments\n",
      "Late Night       2920\n",
      "Morning          2803\n",
      "Afternoon        1535\n",
      "Midday           1363\n",
      "Night            1217\n",
      "Evening          1146\n",
      "Early Morning     708\n",
      "Name: count, dtype: int64\n",
      "\n",
      "Distribution of DaySegments in Test Set:\n",
      "DaySegments\n",
      "Late Night       730\n",
      "Morning          701\n",
      "Afternoon        384\n",
      "Midday           341\n",
      "Night            304\n",
      "Evening          287\n",
      "Early Morning    177\n",
      "Name: count, dtype: int64\n"
     ]
    }
   ],
   "source": [
    "print(\"Distribution of DaySegments in Training Set:\")\n",
    "print(weather_data_train['DaySegments'].value_counts())\n",
    "\n",
    "print(\"\\nDistribution of DaySegments in Test Set:\")\n",
    "print(weather_data_test['DaySegments'].value_counts())"
   ]
  },
  {
   "cell_type": "markdown",
   "id": "58d51203",
   "metadata": {
    "papermill": {
     "duration": 0.020732,
     "end_time": "2025-08-07T08:53:38.204103",
     "exception": false,
     "start_time": "2025-08-07T08:53:38.183371",
     "status": "completed"
    },
    "tags": []
   },
   "source": [
    "# Some Reused Parameters"
   ]
  },
  {
   "cell_type": "code",
   "execution_count": 8,
   "id": "ccc85a9a",
   "metadata": {
    "execution": {
     "iopub.execute_input": "2025-08-07T08:53:38.244594Z",
     "iopub.status.busy": "2025-08-07T08:53:38.243878Z",
     "iopub.status.idle": "2025-08-07T08:53:38.248995Z",
     "shell.execute_reply": "2025-08-07T08:53:38.248217Z"
    },
    "papermill": {
     "duration": 0.026186,
     "end_time": "2025-08-07T08:53:38.250294",
     "exception": false,
     "start_time": "2025-08-07T08:53:38.224108",
     "status": "completed"
    },
    "tags": []
   },
   "outputs": [],
   "source": [
    "grid_param = {\n",
    "    'n_estimators': [100, 200, 300],\n",
    "    'learning_rate': [0.01, 0.05, 0.1],\n",
    "    'max_depth': [None, 10, 20, 30],\n",
    "    'min_samples_split': [2, 5, 10, 15, 20],\n",
    "    'min_samples_leaf': [1, 2, 4, 6],\n",
    "    'subsample': [0.7, 0.8, 0.9],\n",
    "    'max_features': ['sqrt', 'log2', None],\n",
    "    'loss': ['squared_error', 'huber']\n",
    "}"
   ]
  },
  {
   "cell_type": "code",
   "execution_count": 9,
   "id": "4242ae5f",
   "metadata": {
    "execution": {
     "iopub.execute_input": "2025-08-07T08:53:38.288018Z",
     "iopub.status.busy": "2025-08-07T08:53:38.287762Z",
     "iopub.status.idle": "2025-08-07T08:53:38.292020Z",
     "shell.execute_reply": "2025-08-07T08:53:38.291197Z"
    },
    "papermill": {
     "duration": 0.024622,
     "end_time": "2025-08-07T08:53:38.293252",
     "exception": false,
     "start_time": "2025-08-07T08:53:38.268630",
     "status": "completed"
    },
    "tags": []
   },
   "outputs": [],
   "source": [
    "number_of_model_for_randomized_grid = 100 # Estimated run time 10 hours\n",
    "model_name_for_saving = \"Gradient Boosting\"\n",
    "target_name_for_saving = \"Visibility\""
   ]
  },
  {
   "cell_type": "markdown",
   "id": "d5abf5e4",
   "metadata": {
    "papermill": {
     "duration": 0.017965,
     "end_time": "2025-08-07T08:53:38.329633",
     "exception": false,
     "start_time": "2025-08-07T08:53:38.311668",
     "status": "completed"
    },
    "tags": []
   },
   "source": [
    "# All Features"
   ]
  },
  {
   "cell_type": "code",
   "execution_count": 10,
   "id": "8a7e0ec0",
   "metadata": {
    "execution": {
     "iopub.execute_input": "2025-08-07T08:53:38.367015Z",
     "iopub.status.busy": "2025-08-07T08:53:38.366750Z",
     "iopub.status.idle": "2025-08-07T08:53:38.372383Z",
     "shell.execute_reply": "2025-08-07T08:53:38.371692Z"
    },
    "papermill": {
     "duration": 0.026251,
     "end_time": "2025-08-07T08:53:38.373942",
     "exception": false,
     "start_time": "2025-08-07T08:53:38.347691",
     "status": "completed"
    },
    "tags": []
   },
   "outputs": [],
   "source": [
    "X_train_raw = weather_data_train.drop(columns=['DateTime', # Model cannot use DateTime as a feature\n",
    "                                                'Year', # No Effect on weather data\n",
    "                                                'Season', # Season is categorical, not numerical\n",
    "                                                'DaySegments', # DaySegments is categorical, not numerical\n",
    "                                                'Visibility',  # Target variable\n",
    "                                                'SolarRadiation', # Target variable\n",
    "                                                'SolarEnergy', # Target variable\n",
    "                                                'Conditions', # Target variable\n",
    "                                                'Icon']) # Target variable\n",
    "y_train = weather_data_train['Visibility']"
   ]
  },
  {
   "cell_type": "code",
   "execution_count": 11,
   "id": "8d82e1ff",
   "metadata": {
    "execution": {
     "iopub.execute_input": "2025-08-07T08:53:38.411930Z",
     "iopub.status.busy": "2025-08-07T08:53:38.411662Z",
     "iopub.status.idle": "2025-08-07T08:53:38.417093Z",
     "shell.execute_reply": "2025-08-07T08:53:38.416320Z"
    },
    "papermill": {
     "duration": 0.025996,
     "end_time": "2025-08-07T08:53:38.418268",
     "exception": false,
     "start_time": "2025-08-07T08:53:38.392272",
     "status": "completed"
    },
    "tags": []
   },
   "outputs": [],
   "source": [
    "X_test_raw = weather_data_test.drop(columns=['DateTime', # Model cannot use DateTime as a feature\n",
    "                                                'Year', # No Effect on weather data\n",
    "                                                'Season', # Season is categorical, not numerical\n",
    "                                                'DaySegments', # DaySegments is categorical, not numerical\n",
    "                                                'Visibility',  # Target variable\n",
    "                                                'SolarRadiation', # Target variable\n",
    "                                                'SolarEnergy', # Target variable\n",
    "                                                'Conditions', # Target variable\n",
    "                                                'Icon']) # Target variable\n",
    "y_test = weather_data_test['Visibility']"
   ]
  },
  {
   "cell_type": "code",
   "execution_count": 12,
   "id": "a09b6f23",
   "metadata": {
    "execution": {
     "iopub.execute_input": "2025-08-07T08:53:38.456603Z",
     "iopub.status.busy": "2025-08-07T08:53:38.456225Z",
     "iopub.status.idle": "2025-08-07T08:53:38.460711Z",
     "shell.execute_reply": "2025-08-07T08:53:38.459973Z"
    },
    "papermill": {
     "duration": 0.025253,
     "end_time": "2025-08-07T08:53:38.461906",
     "exception": false,
     "start_time": "2025-08-07T08:53:38.436653",
     "status": "completed"
    },
    "tags": []
   },
   "outputs": [],
   "source": [
    "feature_columns = [col for col in X_train_raw.columns]\n",
    "feature_columns_for_saving = ','.join(feature_columns)"
   ]
  },
  {
   "cell_type": "code",
   "execution_count": 13,
   "id": "01939b41",
   "metadata": {
    "execution": {
     "iopub.execute_input": "2025-08-07T08:53:38.499291Z",
     "iopub.status.busy": "2025-08-07T08:53:38.499022Z",
     "iopub.status.idle": "2025-08-07T08:53:38.503952Z",
     "shell.execute_reply": "2025-08-07T08:53:38.503135Z"
    },
    "papermill": {
     "duration": 0.025041,
     "end_time": "2025-08-07T08:53:38.505142",
     "exception": false,
     "start_time": "2025-08-07T08:53:38.480101",
     "status": "completed"
    },
    "tags": []
   },
   "outputs": [
    {
     "name": "stdout",
     "output_type": "stream",
     "text": [
      "X_train:  11692\n",
      "y_train:  11692\n",
      "\n",
      "X_test:  2924\n",
      "y_test:  2924\n"
     ]
    }
   ],
   "source": [
    "print(\"X_train: \", len(X_train_raw))\n",
    "print(\"y_train: \", len(y_train))\n",
    "print(\"\\nX_test: \", len(X_test_raw))\n",
    "print(\"y_test: \", len(y_test))"
   ]
  },
  {
   "cell_type": "markdown",
   "id": "a7ab9aa8",
   "metadata": {
    "papermill": {
     "duration": 0.01804,
     "end_time": "2025-08-07T08:53:38.541679",
     "exception": false,
     "start_time": "2025-08-07T08:53:38.523639",
     "status": "completed"
    },
    "tags": []
   },
   "source": [
    "## MinMax Scaler"
   ]
  },
  {
   "cell_type": "code",
   "execution_count": 14,
   "id": "412dc8a0",
   "metadata": {
    "execution": {
     "iopub.execute_input": "2025-08-07T08:53:38.579871Z",
     "iopub.status.busy": "2025-08-07T08:53:38.579517Z",
     "iopub.status.idle": "2025-08-07T08:53:38.603051Z",
     "shell.execute_reply": "2025-08-07T08:53:38.602322Z"
    },
    "papermill": {
     "duration": 0.044143,
     "end_time": "2025-08-07T08:53:38.604357",
     "exception": false,
     "start_time": "2025-08-07T08:53:38.560214",
     "status": "completed"
    },
    "tags": []
   },
   "outputs": [],
   "source": [
    "scaler = MinMaxScaler()\n",
    "X_train = scaler.fit_transform(X_train_raw)\n",
    "X_test = scaler.transform(X_test_raw)"
   ]
  },
  {
   "cell_type": "code",
   "execution_count": 15,
   "id": "47ae6271",
   "metadata": {
    "execution": {
     "iopub.execute_input": "2025-08-07T08:53:38.642470Z",
     "iopub.status.busy": "2025-08-07T08:53:38.641961Z",
     "iopub.status.idle": "2025-08-07T08:53:38.647167Z",
     "shell.execute_reply": "2025-08-07T08:53:38.646423Z"
    },
    "papermill": {
     "duration": 0.026065,
     "end_time": "2025-08-07T08:53:38.649065",
     "exception": false,
     "start_time": "2025-08-07T08:53:38.623000",
     "status": "completed"
    },
    "tags": []
   },
   "outputs": [
    {
     "data": {
      "text/plain": [
       "array([[0.72727273, 0.83333333, 0.43478261, ..., 0.4922    , 0.697     ,\n",
       "        0.31560059],\n",
       "       [0.90909091, 0.26666667, 0.69565217, ..., 0.        , 0.303     ,\n",
       "        0.07388643],\n",
       "       [0.09090909, 0.43333333, 0.        , ..., 0.        , 0.        ,\n",
       "        0.07388643],\n",
       "       ...,\n",
       "       [0.63636364, 0.86666667, 0.43478261, ..., 0.8756    , 0.306     ,\n",
       "        0.09436352],\n",
       "       [0.        , 0.4       , 0.91304348, ..., 0.        , 0.        ,\n",
       "        0.07388643],\n",
       "       [0.72727273, 0.26666667, 0.34782609, ..., 0.8925    , 0.29      ,\n",
       "        0.27812962]])"
      ]
     },
     "execution_count": 15,
     "metadata": {},
     "output_type": "execute_result"
    }
   ],
   "source": [
    "X_train"
   ]
  },
  {
   "cell_type": "code",
   "execution_count": 16,
   "id": "18f86779",
   "metadata": {
    "execution": {
     "iopub.execute_input": "2025-08-07T08:53:38.688713Z",
     "iopub.status.busy": "2025-08-07T08:53:38.688198Z",
     "iopub.status.idle": "2025-08-07T08:53:38.693829Z",
     "shell.execute_reply": "2025-08-07T08:53:38.692995Z"
    },
    "papermill": {
     "duration": 0.026496,
     "end_time": "2025-08-07T08:53:38.695442",
     "exception": false,
     "start_time": "2025-08-07T08:53:38.668946",
     "status": "completed"
    },
    "tags": []
   },
   "outputs": [
    {
     "data": {
      "text/plain": [
       "array([[0.63636364, 0.06666667, 0.95652174, ..., 0.894     , 0.        ,\n",
       "        0.07388643],\n",
       "       [0.45454545, 0.26666667, 0.65217391, ..., 0.9677    , 0.074     ,\n",
       "        0.07388643],\n",
       "       [0.63636364, 0.03333333, 0.2173913 , ..., 0.9935    , 0.        ,\n",
       "        0.07388643],\n",
       "       ...,\n",
       "       [0.09090909, 0.2       , 0.73913043, ..., 0.0013    , 0.203     ,\n",
       "        0.07388643],\n",
       "       [0.27272727, 0.13333333, 0.86956522, ..., 0.        , 0.        ,\n",
       "        0.25575259],\n",
       "       [0.45454545, 0.73333333, 0.95652174, ..., 0.5161    , 0.        ,\n",
       "        0.07388643]])"
      ]
     },
     "execution_count": 16,
     "metadata": {},
     "output_type": "execute_result"
    }
   ],
   "source": [
    "X_test"
   ]
  },
  {
   "cell_type": "markdown",
   "id": "ea2098ff",
   "metadata": {
    "papermill": {
     "duration": 0.01941,
     "end_time": "2025-08-07T08:53:38.734995",
     "exception": false,
     "start_time": "2025-08-07T08:53:38.715585",
     "status": "completed"
    },
    "tags": []
   },
   "source": [
    "### Default Parameters"
   ]
  },
  {
   "cell_type": "code",
   "execution_count": 17,
   "id": "86ef56de",
   "metadata": {
    "execution": {
     "iopub.execute_input": "2025-08-07T08:53:38.773072Z",
     "iopub.status.busy": "2025-08-07T08:53:38.772802Z",
     "iopub.status.idle": "2025-08-07T08:53:38.782862Z",
     "shell.execute_reply": "2025-08-07T08:53:38.782035Z"
    },
    "papermill": {
     "duration": 0.030698,
     "end_time": "2025-08-07T08:53:38.784154",
     "exception": false,
     "start_time": "2025-08-07T08:53:38.753456",
     "status": "completed"
    },
    "tags": []
   },
   "outputs": [
    {
     "data": {
      "text/html": [
       "<style>#sk-container-id-1 {color: black;background-color: white;}#sk-container-id-1 pre{padding: 0;}#sk-container-id-1 div.sk-toggleable {background-color: white;}#sk-container-id-1 label.sk-toggleable__label {cursor: pointer;display: block;width: 100%;margin-bottom: 0;padding: 0.3em;box-sizing: border-box;text-align: center;}#sk-container-id-1 label.sk-toggleable__label-arrow:before {content: \"▸\";float: left;margin-right: 0.25em;color: #696969;}#sk-container-id-1 label.sk-toggleable__label-arrow:hover:before {color: black;}#sk-container-id-1 div.sk-estimator:hover label.sk-toggleable__label-arrow:before {color: black;}#sk-container-id-1 div.sk-toggleable__content {max-height: 0;max-width: 0;overflow: hidden;text-align: left;background-color: #f0f8ff;}#sk-container-id-1 div.sk-toggleable__content pre {margin: 0.2em;color: black;border-radius: 0.25em;background-color: #f0f8ff;}#sk-container-id-1 input.sk-toggleable__control:checked~div.sk-toggleable__content {max-height: 200px;max-width: 100%;overflow: auto;}#sk-container-id-1 input.sk-toggleable__control:checked~label.sk-toggleable__label-arrow:before {content: \"▾\";}#sk-container-id-1 div.sk-estimator input.sk-toggleable__control:checked~label.sk-toggleable__label {background-color: #d4ebff;}#sk-container-id-1 div.sk-label input.sk-toggleable__control:checked~label.sk-toggleable__label {background-color: #d4ebff;}#sk-container-id-1 input.sk-hidden--visually {border: 0;clip: rect(1px 1px 1px 1px);clip: rect(1px, 1px, 1px, 1px);height: 1px;margin: -1px;overflow: hidden;padding: 0;position: absolute;width: 1px;}#sk-container-id-1 div.sk-estimator {font-family: monospace;background-color: #f0f8ff;border: 1px dotted black;border-radius: 0.25em;box-sizing: border-box;margin-bottom: 0.5em;}#sk-container-id-1 div.sk-estimator:hover {background-color: #d4ebff;}#sk-container-id-1 div.sk-parallel-item::after {content: \"\";width: 100%;border-bottom: 1px solid gray;flex-grow: 1;}#sk-container-id-1 div.sk-label:hover label.sk-toggleable__label {background-color: #d4ebff;}#sk-container-id-1 div.sk-serial::before {content: \"\";position: absolute;border-left: 1px solid gray;box-sizing: border-box;top: 0;bottom: 0;left: 50%;z-index: 0;}#sk-container-id-1 div.sk-serial {display: flex;flex-direction: column;align-items: center;background-color: white;padding-right: 0.2em;padding-left: 0.2em;position: relative;}#sk-container-id-1 div.sk-item {position: relative;z-index: 1;}#sk-container-id-1 div.sk-parallel {display: flex;align-items: stretch;justify-content: center;background-color: white;position: relative;}#sk-container-id-1 div.sk-item::before, #sk-container-id-1 div.sk-parallel-item::before {content: \"\";position: absolute;border-left: 1px solid gray;box-sizing: border-box;top: 0;bottom: 0;left: 50%;z-index: -1;}#sk-container-id-1 div.sk-parallel-item {display: flex;flex-direction: column;z-index: 1;position: relative;background-color: white;}#sk-container-id-1 div.sk-parallel-item:first-child::after {align-self: flex-end;width: 50%;}#sk-container-id-1 div.sk-parallel-item:last-child::after {align-self: flex-start;width: 50%;}#sk-container-id-1 div.sk-parallel-item:only-child::after {width: 0;}#sk-container-id-1 div.sk-dashed-wrapped {border: 1px dashed gray;margin: 0 0.4em 0.5em 0.4em;box-sizing: border-box;padding-bottom: 0.4em;background-color: white;}#sk-container-id-1 div.sk-label label {font-family: monospace;font-weight: bold;display: inline-block;line-height: 1.2em;}#sk-container-id-1 div.sk-label-container {text-align: center;}#sk-container-id-1 div.sk-container {/* jupyter's `normalize.less` sets `[hidden] { display: none; }` but bootstrap.min.css set `[hidden] { display: none !important; }` so we also need the `!important` here to be able to override the default hidden behavior on the sphinx rendered scikit-learn.org. See: https://github.com/scikit-learn/scikit-learn/issues/21755 */display: inline-block !important;position: relative;}#sk-container-id-1 div.sk-text-repr-fallback {display: none;}</style><div id=\"sk-container-id-1\" class=\"sk-top-container\"><div class=\"sk-text-repr-fallback\"><pre>GradientBoostingRegressor(random_state=42)</pre><b>In a Jupyter environment, please rerun this cell to show the HTML representation or trust the notebook. <br />On GitHub, the HTML representation is unable to render, please try loading this page with nbviewer.org.</b></div><div class=\"sk-container\" hidden><div class=\"sk-item\"><div class=\"sk-estimator sk-toggleable\"><input class=\"sk-toggleable__control sk-hidden--visually\" id=\"sk-estimator-id-1\" type=\"checkbox\" checked><label for=\"sk-estimator-id-1\" class=\"sk-toggleable__label sk-toggleable__label-arrow\">GradientBoostingRegressor</label><div class=\"sk-toggleable__content\"><pre>GradientBoostingRegressor(random_state=42)</pre></div></div></div></div></div>"
      ],
      "text/plain": [
       "GradientBoostingRegressor(random_state=42)"
      ]
     },
     "execution_count": 17,
     "metadata": {},
     "output_type": "execute_result"
    }
   ],
   "source": [
    "training_model = GradientBoostingRegressor(random_state=42)\n",
    "training_model"
   ]
  },
  {
   "cell_type": "code",
   "execution_count": 18,
   "id": "d1c4b415",
   "metadata": {
    "execution": {
     "iopub.execute_input": "2025-08-07T08:53:38.822975Z",
     "iopub.status.busy": "2025-08-07T08:53:38.822730Z",
     "iopub.status.idle": "2025-08-07T08:53:42.791974Z",
     "shell.execute_reply": "2025-08-07T08:53:42.790748Z"
    },
    "papermill": {
     "duration": 3.990638,
     "end_time": "2025-08-07T08:53:42.793773",
     "exception": false,
     "start_time": "2025-08-07T08:53:38.803135",
     "status": "completed"
    },
    "tags": []
   },
   "outputs": [
    {
     "name": "stdout",
     "output_type": "stream",
     "text": [
      "CPU times: user 3.96 s, sys: 426 µs, total: 3.96 s\n",
      "Wall time: 3.96 s\n"
     ]
    },
    {
     "data": {
      "text/html": [
       "<style>#sk-container-id-2 {color: black;background-color: white;}#sk-container-id-2 pre{padding: 0;}#sk-container-id-2 div.sk-toggleable {background-color: white;}#sk-container-id-2 label.sk-toggleable__label {cursor: pointer;display: block;width: 100%;margin-bottom: 0;padding: 0.3em;box-sizing: border-box;text-align: center;}#sk-container-id-2 label.sk-toggleable__label-arrow:before {content: \"▸\";float: left;margin-right: 0.25em;color: #696969;}#sk-container-id-2 label.sk-toggleable__label-arrow:hover:before {color: black;}#sk-container-id-2 div.sk-estimator:hover label.sk-toggleable__label-arrow:before {color: black;}#sk-container-id-2 div.sk-toggleable__content {max-height: 0;max-width: 0;overflow: hidden;text-align: left;background-color: #f0f8ff;}#sk-container-id-2 div.sk-toggleable__content pre {margin: 0.2em;color: black;border-radius: 0.25em;background-color: #f0f8ff;}#sk-container-id-2 input.sk-toggleable__control:checked~div.sk-toggleable__content {max-height: 200px;max-width: 100%;overflow: auto;}#sk-container-id-2 input.sk-toggleable__control:checked~label.sk-toggleable__label-arrow:before {content: \"▾\";}#sk-container-id-2 div.sk-estimator input.sk-toggleable__control:checked~label.sk-toggleable__label {background-color: #d4ebff;}#sk-container-id-2 div.sk-label input.sk-toggleable__control:checked~label.sk-toggleable__label {background-color: #d4ebff;}#sk-container-id-2 input.sk-hidden--visually {border: 0;clip: rect(1px 1px 1px 1px);clip: rect(1px, 1px, 1px, 1px);height: 1px;margin: -1px;overflow: hidden;padding: 0;position: absolute;width: 1px;}#sk-container-id-2 div.sk-estimator {font-family: monospace;background-color: #f0f8ff;border: 1px dotted black;border-radius: 0.25em;box-sizing: border-box;margin-bottom: 0.5em;}#sk-container-id-2 div.sk-estimator:hover {background-color: #d4ebff;}#sk-container-id-2 div.sk-parallel-item::after {content: \"\";width: 100%;border-bottom: 1px solid gray;flex-grow: 1;}#sk-container-id-2 div.sk-label:hover label.sk-toggleable__label {background-color: #d4ebff;}#sk-container-id-2 div.sk-serial::before {content: \"\";position: absolute;border-left: 1px solid gray;box-sizing: border-box;top: 0;bottom: 0;left: 50%;z-index: 0;}#sk-container-id-2 div.sk-serial {display: flex;flex-direction: column;align-items: center;background-color: white;padding-right: 0.2em;padding-left: 0.2em;position: relative;}#sk-container-id-2 div.sk-item {position: relative;z-index: 1;}#sk-container-id-2 div.sk-parallel {display: flex;align-items: stretch;justify-content: center;background-color: white;position: relative;}#sk-container-id-2 div.sk-item::before, #sk-container-id-2 div.sk-parallel-item::before {content: \"\";position: absolute;border-left: 1px solid gray;box-sizing: border-box;top: 0;bottom: 0;left: 50%;z-index: -1;}#sk-container-id-2 div.sk-parallel-item {display: flex;flex-direction: column;z-index: 1;position: relative;background-color: white;}#sk-container-id-2 div.sk-parallel-item:first-child::after {align-self: flex-end;width: 50%;}#sk-container-id-2 div.sk-parallel-item:last-child::after {align-self: flex-start;width: 50%;}#sk-container-id-2 div.sk-parallel-item:only-child::after {width: 0;}#sk-container-id-2 div.sk-dashed-wrapped {border: 1px dashed gray;margin: 0 0.4em 0.5em 0.4em;box-sizing: border-box;padding-bottom: 0.4em;background-color: white;}#sk-container-id-2 div.sk-label label {font-family: monospace;font-weight: bold;display: inline-block;line-height: 1.2em;}#sk-container-id-2 div.sk-label-container {text-align: center;}#sk-container-id-2 div.sk-container {/* jupyter's `normalize.less` sets `[hidden] { display: none; }` but bootstrap.min.css set `[hidden] { display: none !important; }` so we also need the `!important` here to be able to override the default hidden behavior on the sphinx rendered scikit-learn.org. See: https://github.com/scikit-learn/scikit-learn/issues/21755 */display: inline-block !important;position: relative;}#sk-container-id-2 div.sk-text-repr-fallback {display: none;}</style><div id=\"sk-container-id-2\" class=\"sk-top-container\"><div class=\"sk-text-repr-fallback\"><pre>GradientBoostingRegressor(random_state=42)</pre><b>In a Jupyter environment, please rerun this cell to show the HTML representation or trust the notebook. <br />On GitHub, the HTML representation is unable to render, please try loading this page with nbviewer.org.</b></div><div class=\"sk-container\" hidden><div class=\"sk-item\"><div class=\"sk-estimator sk-toggleable\"><input class=\"sk-toggleable__control sk-hidden--visually\" id=\"sk-estimator-id-2\" type=\"checkbox\" checked><label for=\"sk-estimator-id-2\" class=\"sk-toggleable__label sk-toggleable__label-arrow\">GradientBoostingRegressor</label><div class=\"sk-toggleable__content\"><pre>GradientBoostingRegressor(random_state=42)</pre></div></div></div></div></div>"
      ],
      "text/plain": [
       "GradientBoostingRegressor(random_state=42)"
      ]
     },
     "execution_count": 18,
     "metadata": {},
     "output_type": "execute_result"
    }
   ],
   "source": [
    "%%time\n",
    "training_model.fit(X_train, y_train)"
   ]
  },
  {
   "cell_type": "code",
   "execution_count": 19,
   "id": "3a06df3f",
   "metadata": {
    "execution": {
     "iopub.execute_input": "2025-08-07T08:53:42.838839Z",
     "iopub.status.busy": "2025-08-07T08:53:42.838546Z",
     "iopub.status.idle": "2025-08-07T08:53:42.849085Z",
     "shell.execute_reply": "2025-08-07T08:53:42.848400Z"
    },
    "papermill": {
     "duration": 0.033133,
     "end_time": "2025-08-07T08:53:42.850315",
     "exception": false,
     "start_time": "2025-08-07T08:53:42.817182",
     "status": "completed"
    },
    "tags": []
   },
   "outputs": [
    {
     "data": {
      "text/plain": [
       "array([4.71643893, 4.18019133, 4.25719444, ..., 4.07062351, 4.587109  ,\n",
       "       4.81030893])"
      ]
     },
     "execution_count": 19,
     "metadata": {},
     "output_type": "execute_result"
    }
   ],
   "source": [
    "y_pred = training_model.predict(X_test)\n",
    "y_pred"
   ]
  },
  {
   "cell_type": "code",
   "execution_count": 20,
   "id": "3eb9dda3",
   "metadata": {
    "execution": {
     "iopub.execute_input": "2025-08-07T08:53:42.889767Z",
     "iopub.status.busy": "2025-08-07T08:53:42.889487Z",
     "iopub.status.idle": "2025-08-07T08:53:42.895652Z",
     "shell.execute_reply": "2025-08-07T08:53:42.894834Z"
    },
    "papermill": {
     "duration": 0.027162,
     "end_time": "2025-08-07T08:53:42.896950",
     "exception": false,
     "start_time": "2025-08-07T08:53:42.869788",
     "status": "completed"
    },
    "tags": []
   },
   "outputs": [
    {
     "data": {
      "text/plain": [
       "5158     4.65\n",
       "3831     3.70\n",
       "5117     4.19\n",
       "6326     3.88\n",
       "11359    3.68\n",
       "         ... \n",
       "10290    5.17\n",
       "13995    4.48\n",
       "9665     3.91\n",
       "2276     4.00\n",
       "4174     4.65\n",
       "Name: Visibility, Length: 2924, dtype: float64"
      ]
     },
     "execution_count": 20,
     "metadata": {},
     "output_type": "execute_result"
    }
   ],
   "source": [
    "y_test"
   ]
  },
  {
   "cell_type": "code",
   "execution_count": 21,
   "id": "41acfce2",
   "metadata": {
    "execution": {
     "iopub.execute_input": "2025-08-07T08:53:42.936981Z",
     "iopub.status.busy": "2025-08-07T08:53:42.936709Z",
     "iopub.status.idle": "2025-08-07T08:53:42.943339Z",
     "shell.execute_reply": "2025-08-07T08:53:42.942609Z"
    },
    "papermill": {
     "duration": 0.028397,
     "end_time": "2025-08-07T08:53:42.944779",
     "exception": false,
     "start_time": "2025-08-07T08:53:42.916382",
     "status": "completed"
    },
    "tags": []
   },
   "outputs": [],
   "source": [
    "mse = mean_squared_error(y_test, y_pred)\n",
    "mae = mean_absolute_error(y_test, y_pred)\n",
    "r2 = r2_score(y_test, y_pred)\n",
    "rmse = math.sqrt(mse)"
   ]
  },
  {
   "cell_type": "code",
   "execution_count": 22,
   "id": "25cf4ab9",
   "metadata": {
    "execution": {
     "iopub.execute_input": "2025-08-07T08:53:42.984328Z",
     "iopub.status.busy": "2025-08-07T08:53:42.984063Z",
     "iopub.status.idle": "2025-08-07T08:53:42.988564Z",
     "shell.execute_reply": "2025-08-07T08:53:42.987812Z"
    },
    "papermill": {
     "duration": 0.025685,
     "end_time": "2025-08-07T08:53:42.989817",
     "exception": false,
     "start_time": "2025-08-07T08:53:42.964132",
     "status": "completed"
    },
    "tags": []
   },
   "outputs": [
    {
     "name": "stdout",
     "output_type": "stream",
     "text": [
      "MSE Score: 0.9473664594647143\n",
      "MAE Score: 0.4319754776660657\n",
      "R2 Score: 0.5145121901827994\n",
      "RMSE Score: 0.9733275191140515\n"
     ]
    }
   ],
   "source": [
    "print(\"MSE Score:\", mse)\n",
    "print(\"MAE Score:\", mae)\n",
    "print(\"R2 Score:\", r2)\n",
    "print(\"RMSE Score:\", rmse)"
   ]
  },
  {
   "cell_type": "code",
   "execution_count": 23,
   "id": "66694bbd",
   "metadata": {
    "execution": {
     "iopub.execute_input": "2025-08-07T08:53:43.030136Z",
     "iopub.status.busy": "2025-08-07T08:53:43.029857Z",
     "iopub.status.idle": "2025-08-07T08:53:43.044410Z",
     "shell.execute_reply": "2025-08-07T08:53:43.043717Z"
    },
    "papermill": {
     "duration": 0.036416,
     "end_time": "2025-08-07T08:53:43.045714",
     "exception": false,
     "start_time": "2025-08-07T08:53:43.009298",
     "status": "completed"
    },
    "tags": []
   },
   "outputs": [
    {
     "name": "stdout",
     "output_type": "stream",
     "text": [
      "✨ New regression model added:\n",
      "   MSE: 0.947366, R²: 0.514512\n",
      "   Features: 27\n",
      "💾 Registry updated: Model_Training_History/History_Regression.csv\n"
     ]
    }
   ],
   "source": [
    "regression_params = {\n",
    "    'model_name': model_name_for_saving,\n",
    "    'scaler_name': \"MinMaxScaler\",\n",
    "    'features_list': feature_columns_for_saving,\n",
    "    'target_column': target_name_for_saving,\n",
    "    'mse': mse,\n",
    "    'mae': mae,\n",
    "    'rmse': rmse,\n",
    "    'r2': r2,\n",
    "    'parameters': json.dumps(training_model.get_params())\n",
    "}\n",
    "save_model_performance_if_better('regression', regression_params)"
   ]
  },
  {
   "cell_type": "markdown",
   "id": "84b66806",
   "metadata": {
    "papermill": {
     "duration": 0.020271,
     "end_time": "2025-08-07T08:53:43.086163",
     "exception": false,
     "start_time": "2025-08-07T08:53:43.065892",
     "status": "completed"
    },
    "tags": []
   },
   "source": [
    "### Tuning with Randomized Grid Search"
   ]
  },
  {
   "cell_type": "code",
   "execution_count": 24,
   "id": "d1a41863",
   "metadata": {
    "execution": {
     "iopub.execute_input": "2025-08-07T08:53:43.128211Z",
     "iopub.status.busy": "2025-08-07T08:53:43.127920Z",
     "iopub.status.idle": "2025-08-07T08:53:43.132811Z",
     "shell.execute_reply": "2025-08-07T08:53:43.131760Z"
    },
    "papermill": {
     "duration": 0.027464,
     "end_time": "2025-08-07T08:53:43.134152",
     "exception": false,
     "start_time": "2025-08-07T08:53:43.106688",
     "status": "completed"
    },
    "tags": []
   },
   "outputs": [],
   "source": [
    "grid_search = RandomizedSearchCV(\n",
    "    GradientBoostingRegressor(random_state=42), \n",
    "    grid_param,\n",
    "    n_iter=number_of_model_for_randomized_grid,\n",
    "    cv=5,\n",
    "    scoring='neg_mean_squared_error',\n",
    "    n_jobs=-1,\n",
    "    verbose=1,\n",
    "    random_state=42\n",
    ")"
   ]
  },
  {
   "cell_type": "code",
   "execution_count": 25,
   "id": "1dde4437",
   "metadata": {
    "execution": {
     "iopub.execute_input": "2025-08-07T08:53:43.177478Z",
     "iopub.status.busy": "2025-08-07T08:53:43.176435Z",
     "iopub.status.idle": "2025-08-07T10:36:41.965135Z",
     "shell.execute_reply": "2025-08-07T10:36:41.963467Z"
    },
    "papermill": {
     "duration": 6178.844038,
     "end_time": "2025-08-07T10:36:41.998947",
     "exception": false,
     "start_time": "2025-08-07T08:53:43.154909",
     "status": "completed"
    },
    "tags": []
   },
   "outputs": [
    {
     "name": "stdout",
     "output_type": "stream",
     "text": [
      "Starting hyperparameter tuning...\n",
      "Fitting 5 folds for each of 100 candidates, totalling 500 fits\n",
      "CPU times: user 24.9 s, sys: 8.16 s, total: 33.1 s\n",
      "Wall time: 1h 42min 58s\n"
     ]
    },
    {
     "data": {
      "text/html": [
       "<style>#sk-container-id-3 {color: black;background-color: white;}#sk-container-id-3 pre{padding: 0;}#sk-container-id-3 div.sk-toggleable {background-color: white;}#sk-container-id-3 label.sk-toggleable__label {cursor: pointer;display: block;width: 100%;margin-bottom: 0;padding: 0.3em;box-sizing: border-box;text-align: center;}#sk-container-id-3 label.sk-toggleable__label-arrow:before {content: \"▸\";float: left;margin-right: 0.25em;color: #696969;}#sk-container-id-3 label.sk-toggleable__label-arrow:hover:before {color: black;}#sk-container-id-3 div.sk-estimator:hover label.sk-toggleable__label-arrow:before {color: black;}#sk-container-id-3 div.sk-toggleable__content {max-height: 0;max-width: 0;overflow: hidden;text-align: left;background-color: #f0f8ff;}#sk-container-id-3 div.sk-toggleable__content pre {margin: 0.2em;color: black;border-radius: 0.25em;background-color: #f0f8ff;}#sk-container-id-3 input.sk-toggleable__control:checked~div.sk-toggleable__content {max-height: 200px;max-width: 100%;overflow: auto;}#sk-container-id-3 input.sk-toggleable__control:checked~label.sk-toggleable__label-arrow:before {content: \"▾\";}#sk-container-id-3 div.sk-estimator input.sk-toggleable__control:checked~label.sk-toggleable__label {background-color: #d4ebff;}#sk-container-id-3 div.sk-label input.sk-toggleable__control:checked~label.sk-toggleable__label {background-color: #d4ebff;}#sk-container-id-3 input.sk-hidden--visually {border: 0;clip: rect(1px 1px 1px 1px);clip: rect(1px, 1px, 1px, 1px);height: 1px;margin: -1px;overflow: hidden;padding: 0;position: absolute;width: 1px;}#sk-container-id-3 div.sk-estimator {font-family: monospace;background-color: #f0f8ff;border: 1px dotted black;border-radius: 0.25em;box-sizing: border-box;margin-bottom: 0.5em;}#sk-container-id-3 div.sk-estimator:hover {background-color: #d4ebff;}#sk-container-id-3 div.sk-parallel-item::after {content: \"\";width: 100%;border-bottom: 1px solid gray;flex-grow: 1;}#sk-container-id-3 div.sk-label:hover label.sk-toggleable__label {background-color: #d4ebff;}#sk-container-id-3 div.sk-serial::before {content: \"\";position: absolute;border-left: 1px solid gray;box-sizing: border-box;top: 0;bottom: 0;left: 50%;z-index: 0;}#sk-container-id-3 div.sk-serial {display: flex;flex-direction: column;align-items: center;background-color: white;padding-right: 0.2em;padding-left: 0.2em;position: relative;}#sk-container-id-3 div.sk-item {position: relative;z-index: 1;}#sk-container-id-3 div.sk-parallel {display: flex;align-items: stretch;justify-content: center;background-color: white;position: relative;}#sk-container-id-3 div.sk-item::before, #sk-container-id-3 div.sk-parallel-item::before {content: \"\";position: absolute;border-left: 1px solid gray;box-sizing: border-box;top: 0;bottom: 0;left: 50%;z-index: -1;}#sk-container-id-3 div.sk-parallel-item {display: flex;flex-direction: column;z-index: 1;position: relative;background-color: white;}#sk-container-id-3 div.sk-parallel-item:first-child::after {align-self: flex-end;width: 50%;}#sk-container-id-3 div.sk-parallel-item:last-child::after {align-self: flex-start;width: 50%;}#sk-container-id-3 div.sk-parallel-item:only-child::after {width: 0;}#sk-container-id-3 div.sk-dashed-wrapped {border: 1px dashed gray;margin: 0 0.4em 0.5em 0.4em;box-sizing: border-box;padding-bottom: 0.4em;background-color: white;}#sk-container-id-3 div.sk-label label {font-family: monospace;font-weight: bold;display: inline-block;line-height: 1.2em;}#sk-container-id-3 div.sk-label-container {text-align: center;}#sk-container-id-3 div.sk-container {/* jupyter's `normalize.less` sets `[hidden] { display: none; }` but bootstrap.min.css set `[hidden] { display: none !important; }` so we also need the `!important` here to be able to override the default hidden behavior on the sphinx rendered scikit-learn.org. See: https://github.com/scikit-learn/scikit-learn/issues/21755 */display: inline-block !important;position: relative;}#sk-container-id-3 div.sk-text-repr-fallback {display: none;}</style><div id=\"sk-container-id-3\" class=\"sk-top-container\"><div class=\"sk-text-repr-fallback\"><pre>RandomizedSearchCV(cv=5, estimator=GradientBoostingRegressor(random_state=42),\n",
       "                   n_iter=100, n_jobs=-1,\n",
       "                   param_distributions={&#x27;learning_rate&#x27;: [0.01, 0.05, 0.1],\n",
       "                                        &#x27;loss&#x27;: [&#x27;squared_error&#x27;, &#x27;huber&#x27;],\n",
       "                                        &#x27;max_depth&#x27;: [None, 10, 20, 30],\n",
       "                                        &#x27;max_features&#x27;: [&#x27;sqrt&#x27;, &#x27;log2&#x27;, None],\n",
       "                                        &#x27;min_samples_leaf&#x27;: [1, 2, 4, 6],\n",
       "                                        &#x27;min_samples_split&#x27;: [2, 5, 10, 15, 20],\n",
       "                                        &#x27;n_estimators&#x27;: [100, 200, 300],\n",
       "                                        &#x27;subsample&#x27;: [0.7, 0.8, 0.9]},\n",
       "                   random_state=42, scoring=&#x27;neg_mean_squared_error&#x27;,\n",
       "                   verbose=1)</pre><b>In a Jupyter environment, please rerun this cell to show the HTML representation or trust the notebook. <br />On GitHub, the HTML representation is unable to render, please try loading this page with nbviewer.org.</b></div><div class=\"sk-container\" hidden><div class=\"sk-item sk-dashed-wrapped\"><div class=\"sk-label-container\"><div class=\"sk-label sk-toggleable\"><input class=\"sk-toggleable__control sk-hidden--visually\" id=\"sk-estimator-id-3\" type=\"checkbox\" ><label for=\"sk-estimator-id-3\" class=\"sk-toggleable__label sk-toggleable__label-arrow\">RandomizedSearchCV</label><div class=\"sk-toggleable__content\"><pre>RandomizedSearchCV(cv=5, estimator=GradientBoostingRegressor(random_state=42),\n",
       "                   n_iter=100, n_jobs=-1,\n",
       "                   param_distributions={&#x27;learning_rate&#x27;: [0.01, 0.05, 0.1],\n",
       "                                        &#x27;loss&#x27;: [&#x27;squared_error&#x27;, &#x27;huber&#x27;],\n",
       "                                        &#x27;max_depth&#x27;: [None, 10, 20, 30],\n",
       "                                        &#x27;max_features&#x27;: [&#x27;sqrt&#x27;, &#x27;log2&#x27;, None],\n",
       "                                        &#x27;min_samples_leaf&#x27;: [1, 2, 4, 6],\n",
       "                                        &#x27;min_samples_split&#x27;: [2, 5, 10, 15, 20],\n",
       "                                        &#x27;n_estimators&#x27;: [100, 200, 300],\n",
       "                                        &#x27;subsample&#x27;: [0.7, 0.8, 0.9]},\n",
       "                   random_state=42, scoring=&#x27;neg_mean_squared_error&#x27;,\n",
       "                   verbose=1)</pre></div></div></div><div class=\"sk-parallel\"><div class=\"sk-parallel-item\"><div class=\"sk-item\"><div class=\"sk-label-container\"><div class=\"sk-label sk-toggleable\"><input class=\"sk-toggleable__control sk-hidden--visually\" id=\"sk-estimator-id-4\" type=\"checkbox\" ><label for=\"sk-estimator-id-4\" class=\"sk-toggleable__label sk-toggleable__label-arrow\">estimator: GradientBoostingRegressor</label><div class=\"sk-toggleable__content\"><pre>GradientBoostingRegressor(random_state=42)</pre></div></div></div><div class=\"sk-serial\"><div class=\"sk-item\"><div class=\"sk-estimator sk-toggleable\"><input class=\"sk-toggleable__control sk-hidden--visually\" id=\"sk-estimator-id-5\" type=\"checkbox\" ><label for=\"sk-estimator-id-5\" class=\"sk-toggleable__label sk-toggleable__label-arrow\">GradientBoostingRegressor</label><div class=\"sk-toggleable__content\"><pre>GradientBoostingRegressor(random_state=42)</pre></div></div></div></div></div></div></div></div></div></div>"
      ],
      "text/plain": [
       "RandomizedSearchCV(cv=5, estimator=GradientBoostingRegressor(random_state=42),\n",
       "                   n_iter=100, n_jobs=-1,\n",
       "                   param_distributions={'learning_rate': [0.01, 0.05, 0.1],\n",
       "                                        'loss': ['squared_error', 'huber'],\n",
       "                                        'max_depth': [None, 10, 20, 30],\n",
       "                                        'max_features': ['sqrt', 'log2', None],\n",
       "                                        'min_samples_leaf': [1, 2, 4, 6],\n",
       "                                        'min_samples_split': [2, 5, 10, 15, 20],\n",
       "                                        'n_estimators': [100, 200, 300],\n",
       "                                        'subsample': [0.7, 0.8, 0.9]},\n",
       "                   random_state=42, scoring='neg_mean_squared_error',\n",
       "                   verbose=1)"
      ]
     },
     "execution_count": 25,
     "metadata": {},
     "output_type": "execute_result"
    }
   ],
   "source": [
    "%%time\n",
    "print(\"Starting hyperparameter tuning...\")\n",
    "grid_search.fit(X_train, y_train)"
   ]
  },
  {
   "cell_type": "code",
   "execution_count": 26,
   "id": "58a6f3fc",
   "metadata": {
    "execution": {
     "iopub.execute_input": "2025-08-07T10:36:42.044515Z",
     "iopub.status.busy": "2025-08-07T10:36:42.043995Z",
     "iopub.status.idle": "2025-08-07T10:36:42.052371Z",
     "shell.execute_reply": "2025-08-07T10:36:42.051715Z"
    },
    "papermill": {
     "duration": 0.033224,
     "end_time": "2025-08-07T10:36:42.053645",
     "exception": false,
     "start_time": "2025-08-07T10:36:42.020421",
     "status": "completed"
    },
    "tags": []
   },
   "outputs": [
    {
     "name": "stdout",
     "output_type": "stream",
     "text": [
      "TUNING RESULTS\n",
      "==================================================\n",
      "Best Parameters: {'subsample': 0.8, 'n_estimators': 300, 'min_samples_split': 20, 'min_samples_leaf': 6, 'max_features': 'sqrt', 'max_depth': 20, 'loss': 'squared_error', 'learning_rate': 0.05}\n",
      "Best Cross-Validation Score (Negative MSE): -0.6373518025503763\n",
      "Best Cross-Validation Score (MSE): 0.6373518025503763\n",
      "Best Cross-Validation Score (RMSE): 0.7983431608966011\n"
     ]
    }
   ],
   "source": [
    "print(\"TUNING RESULTS\")\n",
    "print(\"=\"*50)\n",
    "print(\"Best Parameters:\", grid_search.best_params_)\n",
    "print(\"Best Cross-Validation Score (Negative MSE):\", grid_search.best_score_)\n",
    "print(\"Best Cross-Validation Score (MSE):\", -grid_search.best_score_)\n",
    "print(\"Best Cross-Validation Score (RMSE):\", math.sqrt(-grid_search.best_score_))"
   ]
  },
  {
   "cell_type": "code",
   "execution_count": 27,
   "id": "84b4286e",
   "metadata": {
    "execution": {
     "iopub.execute_input": "2025-08-07T10:36:42.097312Z",
     "iopub.status.busy": "2025-08-07T10:36:42.096947Z",
     "iopub.status.idle": "2025-08-07T10:36:42.198151Z",
     "shell.execute_reply": "2025-08-07T10:36:42.197036Z"
    },
    "papermill": {
     "duration": 0.124661,
     "end_time": "2025-08-07T10:36:42.199662",
     "exception": false,
     "start_time": "2025-08-07T10:36:42.075001",
     "status": "completed"
    },
    "tags": []
   },
   "outputs": [],
   "source": [
    "grid_search_best_model = grid_search.best_estimator_\n",
    "y_pred = grid_search_best_model.predict(X_test)"
   ]
  },
  {
   "cell_type": "code",
   "execution_count": 28,
   "id": "8cd8626a",
   "metadata": {
    "execution": {
     "iopub.execute_input": "2025-08-07T10:36:42.245654Z",
     "iopub.status.busy": "2025-08-07T10:36:42.245273Z",
     "iopub.status.idle": "2025-08-07T10:36:42.253246Z",
     "shell.execute_reply": "2025-08-07T10:36:42.252408Z"
    },
    "papermill": {
     "duration": 0.033227,
     "end_time": "2025-08-07T10:36:42.254735",
     "exception": false,
     "start_time": "2025-08-07T10:36:42.221508",
     "status": "completed"
    },
    "tags": []
   },
   "outputs": [],
   "source": [
    "mse_grid_search = mean_squared_error(y_test, y_pred)\n",
    "mae_grid_search = mean_absolute_error(y_test, y_pred)\n",
    "r2_grid_search = r2_score(y_test, y_pred)\n",
    "rmse_grid_search = math.sqrt(mse_grid_search)"
   ]
  },
  {
   "cell_type": "code",
   "execution_count": 29,
   "id": "aa930d89",
   "metadata": {
    "execution": {
     "iopub.execute_input": "2025-08-07T10:36:42.298258Z",
     "iopub.status.busy": "2025-08-07T10:36:42.297977Z",
     "iopub.status.idle": "2025-08-07T10:36:42.302968Z",
     "shell.execute_reply": "2025-08-07T10:36:42.302112Z"
    },
    "papermill": {
     "duration": 0.028208,
     "end_time": "2025-08-07T10:36:42.304570",
     "exception": false,
     "start_time": "2025-08-07T10:36:42.276362",
     "status": "completed"
    },
    "tags": []
   },
   "outputs": [
    {
     "name": "stdout",
     "output_type": "stream",
     "text": [
      "MSE Score: 0.6993043430316455\n",
      "MAE Score: 0.35417514960871255\n",
      "R2 Score: 0.6416342055365587\n",
      "RMSE Score: 0.8362441886384894\n"
     ]
    }
   ],
   "source": [
    "print(\"MSE Score:\", mse_grid_search)\n",
    "print(\"MAE Score:\", mae_grid_search)\n",
    "print(\"R2 Score:\", r2_grid_search)\n",
    "print(\"RMSE Score:\", rmse_grid_search)"
   ]
  },
  {
   "cell_type": "code",
   "execution_count": 30,
   "id": "4293066d",
   "metadata": {
    "execution": {
     "iopub.execute_input": "2025-08-07T10:36:42.347546Z",
     "iopub.status.busy": "2025-08-07T10:36:42.347238Z",
     "iopub.status.idle": "2025-08-07T10:36:42.362117Z",
     "shell.execute_reply": "2025-08-07T10:36:42.360946Z"
    },
    "papermill": {
     "duration": 0.037765,
     "end_time": "2025-08-07T10:36:42.363440",
     "exception": false,
     "start_time": "2025-08-07T10:36:42.325675",
     "status": "completed"
    },
    "tags": []
   },
   "outputs": [
    {
     "name": "stdout",
     "output_type": "stream",
     "text": [
      "✨ New regression model added:\n",
      "   MSE: 0.699304, R²: 0.641634\n",
      "   Features: 27\n",
      "💾 Registry updated: Model_Training_History/History_Regression.csv\n"
     ]
    }
   ],
   "source": [
    "regression_params = {\n",
    "    'model_name': model_name_for_saving + \" Tuned\",\n",
    "    'scaler_name': \"MinMaxScaler\",\n",
    "    'features_list': feature_columns_for_saving,\n",
    "    'target_column': target_name_for_saving,\n",
    "    'mse': mse_grid_search,\n",
    "    'mae': mae_grid_search,\n",
    "    'rmse': rmse_grid_search,\n",
    "    'r2': r2_grid_search,\n",
    "    'parameters' : json.dumps({\n",
    "        \"best_params\": grid_search.best_params_,\n",
    "        \"cv_score\": grid_search.best_score_,\n",
    "        \"all_params\": grid_search_best_model.get_params()\n",
    "    })\n",
    "}\n",
    "save_model_performance_if_better('regression', regression_params)"
   ]
  },
  {
   "cell_type": "markdown",
   "id": "f51255bc",
   "metadata": {
    "papermill": {
     "duration": 0.021178,
     "end_time": "2025-08-07T10:36:42.405995",
     "exception": false,
     "start_time": "2025-08-07T10:36:42.384817",
     "status": "completed"
    },
    "tags": []
   },
   "source": [
    "## Standard Scaler"
   ]
  },
  {
   "cell_type": "code",
   "execution_count": 31,
   "id": "c2bcfbfd",
   "metadata": {
    "execution": {
     "iopub.execute_input": "2025-08-07T10:36:42.449728Z",
     "iopub.status.busy": "2025-08-07T10:36:42.449325Z",
     "iopub.status.idle": "2025-08-07T10:36:42.476213Z",
     "shell.execute_reply": "2025-08-07T10:36:42.475518Z"
    },
    "papermill": {
     "duration": 0.050147,
     "end_time": "2025-08-07T10:36:42.477649",
     "exception": false,
     "start_time": "2025-08-07T10:36:42.427502",
     "status": "completed"
    },
    "tags": []
   },
   "outputs": [],
   "source": [
    "scaler = StandardScaler()\n",
    "X_train = scaler.fit_transform(X_train_raw)\n",
    "X_test = scaler.transform(X_test_raw)"
   ]
  },
  {
   "cell_type": "code",
   "execution_count": 32,
   "id": "018f17b8",
   "metadata": {
    "execution": {
     "iopub.execute_input": "2025-08-07T10:36:42.521280Z",
     "iopub.status.busy": "2025-08-07T10:36:42.521012Z",
     "iopub.status.idle": "2025-08-07T10:36:42.529295Z",
     "shell.execute_reply": "2025-08-07T10:36:42.528486Z"
    },
    "papermill": {
     "duration": 0.031641,
     "end_time": "2025-08-07T10:36:42.530729",
     "exception": false,
     "start_time": "2025-08-07T10:36:42.499088",
     "status": "completed"
    },
    "tags": []
   },
   "outputs": [
    {
     "data": {
      "text/plain": [
       "array([[ 1.01884116,  1.17229173, -0.21938027, ..., -0.12088825,\n",
       "         1.52387472,  1.09644529],\n",
       "       [ 1.64376461, -0.75947244,  0.64624572, ..., -1.52028666,\n",
       "         0.24645772, -0.43343649],\n",
       "       [-1.16839092, -0.1913065 , -1.66209024, ..., -1.52028666,\n",
       "        -0.73592134, -0.43343649],\n",
       "       ...,\n",
       "       [ 0.70637943,  1.28592492, -0.21938027, ...,  0.96917545,\n",
       "         0.25618424, -0.30383078],\n",
       "       [-1.48085264, -0.30493969,  1.36760071, ..., -1.52028666,\n",
       "        -0.73592134, -0.43343649],\n",
       "       [ 1.01884116, -0.75947244, -0.50792226, ...,  1.01722469,\n",
       "         0.20430944,  0.85928021]])"
      ]
     },
     "execution_count": 32,
     "metadata": {},
     "output_type": "execute_result"
    }
   ],
   "source": [
    "X_train"
   ]
  },
  {
   "cell_type": "code",
   "execution_count": 33,
   "id": "ca0ec5af",
   "metadata": {
    "execution": {
     "iopub.execute_input": "2025-08-07T10:36:42.573962Z",
     "iopub.status.busy": "2025-08-07T10:36:42.573691Z",
     "iopub.status.idle": "2025-08-07T10:36:42.579323Z",
     "shell.execute_reply": "2025-08-07T10:36:42.578565Z"
    },
    "papermill": {
     "duration": 0.028865,
     "end_time": "2025-08-07T10:36:42.580828",
     "exception": false,
     "start_time": "2025-08-07T10:36:42.551963",
     "status": "completed"
    },
    "tags": []
   },
   "outputs": [
    {
     "data": {
      "text/plain": [
       "array([[ 0.70637943, -1.44127155,  1.51187171, ...,  1.02148941,\n",
       "        -0.73592134, -0.43343649],\n",
       "       [ 0.08145598, -0.75947244,  0.50197472, ...,  1.23102956,\n",
       "        -0.49600038, -0.43343649],\n",
       "       [ 0.70637943, -1.55490474, -0.94073525, ...,  1.30438283,\n",
       "        -0.73592134, -0.43343649],\n",
       "       ...,\n",
       "       [-1.16839092, -0.98673881,  0.79051672, ..., -1.51659057,\n",
       "        -0.07775979, -0.43343649],\n",
       "       [-0.54346747, -1.21400518,  1.22332971, ..., -1.52028666,\n",
       "        -0.73592134,  0.71764924],\n",
       "       [ 0.08145598,  0.83139217,  1.51187171, ..., -0.05293696,\n",
       "        -0.73592134, -0.43343649]])"
      ]
     },
     "execution_count": 33,
     "metadata": {},
     "output_type": "execute_result"
    }
   ],
   "source": [
    "X_test"
   ]
  },
  {
   "cell_type": "markdown",
   "id": "afb25668",
   "metadata": {
    "papermill": {
     "duration": 0.02081,
     "end_time": "2025-08-07T10:36:42.623631",
     "exception": false,
     "start_time": "2025-08-07T10:36:42.602821",
     "status": "completed"
    },
    "tags": []
   },
   "source": [
    "### Default Parameters"
   ]
  },
  {
   "cell_type": "code",
   "execution_count": 34,
   "id": "0be946fa",
   "metadata": {
    "execution": {
     "iopub.execute_input": "2025-08-07T10:36:42.667406Z",
     "iopub.status.busy": "2025-08-07T10:36:42.666660Z",
     "iopub.status.idle": "2025-08-07T10:36:42.673256Z",
     "shell.execute_reply": "2025-08-07T10:36:42.672356Z"
    },
    "papermill": {
     "duration": 0.030345,
     "end_time": "2025-08-07T10:36:42.675037",
     "exception": false,
     "start_time": "2025-08-07T10:36:42.644692",
     "status": "completed"
    },
    "tags": []
   },
   "outputs": [
    {
     "data": {
      "text/html": [
       "<style>#sk-container-id-4 {color: black;background-color: white;}#sk-container-id-4 pre{padding: 0;}#sk-container-id-4 div.sk-toggleable {background-color: white;}#sk-container-id-4 label.sk-toggleable__label {cursor: pointer;display: block;width: 100%;margin-bottom: 0;padding: 0.3em;box-sizing: border-box;text-align: center;}#sk-container-id-4 label.sk-toggleable__label-arrow:before {content: \"▸\";float: left;margin-right: 0.25em;color: #696969;}#sk-container-id-4 label.sk-toggleable__label-arrow:hover:before {color: black;}#sk-container-id-4 div.sk-estimator:hover label.sk-toggleable__label-arrow:before {color: black;}#sk-container-id-4 div.sk-toggleable__content {max-height: 0;max-width: 0;overflow: hidden;text-align: left;background-color: #f0f8ff;}#sk-container-id-4 div.sk-toggleable__content pre {margin: 0.2em;color: black;border-radius: 0.25em;background-color: #f0f8ff;}#sk-container-id-4 input.sk-toggleable__control:checked~div.sk-toggleable__content {max-height: 200px;max-width: 100%;overflow: auto;}#sk-container-id-4 input.sk-toggleable__control:checked~label.sk-toggleable__label-arrow:before {content: \"▾\";}#sk-container-id-4 div.sk-estimator input.sk-toggleable__control:checked~label.sk-toggleable__label {background-color: #d4ebff;}#sk-container-id-4 div.sk-label input.sk-toggleable__control:checked~label.sk-toggleable__label {background-color: #d4ebff;}#sk-container-id-4 input.sk-hidden--visually {border: 0;clip: rect(1px 1px 1px 1px);clip: rect(1px, 1px, 1px, 1px);height: 1px;margin: -1px;overflow: hidden;padding: 0;position: absolute;width: 1px;}#sk-container-id-4 div.sk-estimator {font-family: monospace;background-color: #f0f8ff;border: 1px dotted black;border-radius: 0.25em;box-sizing: border-box;margin-bottom: 0.5em;}#sk-container-id-4 div.sk-estimator:hover {background-color: #d4ebff;}#sk-container-id-4 div.sk-parallel-item::after {content: \"\";width: 100%;border-bottom: 1px solid gray;flex-grow: 1;}#sk-container-id-4 div.sk-label:hover label.sk-toggleable__label {background-color: #d4ebff;}#sk-container-id-4 div.sk-serial::before {content: \"\";position: absolute;border-left: 1px solid gray;box-sizing: border-box;top: 0;bottom: 0;left: 50%;z-index: 0;}#sk-container-id-4 div.sk-serial {display: flex;flex-direction: column;align-items: center;background-color: white;padding-right: 0.2em;padding-left: 0.2em;position: relative;}#sk-container-id-4 div.sk-item {position: relative;z-index: 1;}#sk-container-id-4 div.sk-parallel {display: flex;align-items: stretch;justify-content: center;background-color: white;position: relative;}#sk-container-id-4 div.sk-item::before, #sk-container-id-4 div.sk-parallel-item::before {content: \"\";position: absolute;border-left: 1px solid gray;box-sizing: border-box;top: 0;bottom: 0;left: 50%;z-index: -1;}#sk-container-id-4 div.sk-parallel-item {display: flex;flex-direction: column;z-index: 1;position: relative;background-color: white;}#sk-container-id-4 div.sk-parallel-item:first-child::after {align-self: flex-end;width: 50%;}#sk-container-id-4 div.sk-parallel-item:last-child::after {align-self: flex-start;width: 50%;}#sk-container-id-4 div.sk-parallel-item:only-child::after {width: 0;}#sk-container-id-4 div.sk-dashed-wrapped {border: 1px dashed gray;margin: 0 0.4em 0.5em 0.4em;box-sizing: border-box;padding-bottom: 0.4em;background-color: white;}#sk-container-id-4 div.sk-label label {font-family: monospace;font-weight: bold;display: inline-block;line-height: 1.2em;}#sk-container-id-4 div.sk-label-container {text-align: center;}#sk-container-id-4 div.sk-container {/* jupyter's `normalize.less` sets `[hidden] { display: none; }` but bootstrap.min.css set `[hidden] { display: none !important; }` so we also need the `!important` here to be able to override the default hidden behavior on the sphinx rendered scikit-learn.org. See: https://github.com/scikit-learn/scikit-learn/issues/21755 */display: inline-block !important;position: relative;}#sk-container-id-4 div.sk-text-repr-fallback {display: none;}</style><div id=\"sk-container-id-4\" class=\"sk-top-container\"><div class=\"sk-text-repr-fallback\"><pre>GradientBoostingRegressor(random_state=42)</pre><b>In a Jupyter environment, please rerun this cell to show the HTML representation or trust the notebook. <br />On GitHub, the HTML representation is unable to render, please try loading this page with nbviewer.org.</b></div><div class=\"sk-container\" hidden><div class=\"sk-item\"><div class=\"sk-estimator sk-toggleable\"><input class=\"sk-toggleable__control sk-hidden--visually\" id=\"sk-estimator-id-6\" type=\"checkbox\" checked><label for=\"sk-estimator-id-6\" class=\"sk-toggleable__label sk-toggleable__label-arrow\">GradientBoostingRegressor</label><div class=\"sk-toggleable__content\"><pre>GradientBoostingRegressor(random_state=42)</pre></div></div></div></div></div>"
      ],
      "text/plain": [
       "GradientBoostingRegressor(random_state=42)"
      ]
     },
     "execution_count": 34,
     "metadata": {},
     "output_type": "execute_result"
    }
   ],
   "source": [
    "training_model = GradientBoostingRegressor(random_state=42)\n",
    "training_model"
   ]
  },
  {
   "cell_type": "code",
   "execution_count": 35,
   "id": "bf1925dc",
   "metadata": {
    "execution": {
     "iopub.execute_input": "2025-08-07T10:36:42.719898Z",
     "iopub.status.busy": "2025-08-07T10:36:42.719617Z",
     "iopub.status.idle": "2025-08-07T10:36:46.795203Z",
     "shell.execute_reply": "2025-08-07T10:36:46.794411Z"
    },
    "papermill": {
     "duration": 4.099833,
     "end_time": "2025-08-07T10:36:46.796976",
     "exception": false,
     "start_time": "2025-08-07T10:36:42.697143",
     "status": "completed"
    },
    "tags": []
   },
   "outputs": [
    {
     "name": "stdout",
     "output_type": "stream",
     "text": [
      "CPU times: user 4.07 s, sys: 0 ns, total: 4.07 s\n",
      "Wall time: 4.07 s\n"
     ]
    },
    {
     "data": {
      "text/html": [
       "<style>#sk-container-id-5 {color: black;background-color: white;}#sk-container-id-5 pre{padding: 0;}#sk-container-id-5 div.sk-toggleable {background-color: white;}#sk-container-id-5 label.sk-toggleable__label {cursor: pointer;display: block;width: 100%;margin-bottom: 0;padding: 0.3em;box-sizing: border-box;text-align: center;}#sk-container-id-5 label.sk-toggleable__label-arrow:before {content: \"▸\";float: left;margin-right: 0.25em;color: #696969;}#sk-container-id-5 label.sk-toggleable__label-arrow:hover:before {color: black;}#sk-container-id-5 div.sk-estimator:hover label.sk-toggleable__label-arrow:before {color: black;}#sk-container-id-5 div.sk-toggleable__content {max-height: 0;max-width: 0;overflow: hidden;text-align: left;background-color: #f0f8ff;}#sk-container-id-5 div.sk-toggleable__content pre {margin: 0.2em;color: black;border-radius: 0.25em;background-color: #f0f8ff;}#sk-container-id-5 input.sk-toggleable__control:checked~div.sk-toggleable__content {max-height: 200px;max-width: 100%;overflow: auto;}#sk-container-id-5 input.sk-toggleable__control:checked~label.sk-toggleable__label-arrow:before {content: \"▾\";}#sk-container-id-5 div.sk-estimator input.sk-toggleable__control:checked~label.sk-toggleable__label {background-color: #d4ebff;}#sk-container-id-5 div.sk-label input.sk-toggleable__control:checked~label.sk-toggleable__label {background-color: #d4ebff;}#sk-container-id-5 input.sk-hidden--visually {border: 0;clip: rect(1px 1px 1px 1px);clip: rect(1px, 1px, 1px, 1px);height: 1px;margin: -1px;overflow: hidden;padding: 0;position: absolute;width: 1px;}#sk-container-id-5 div.sk-estimator {font-family: monospace;background-color: #f0f8ff;border: 1px dotted black;border-radius: 0.25em;box-sizing: border-box;margin-bottom: 0.5em;}#sk-container-id-5 div.sk-estimator:hover {background-color: #d4ebff;}#sk-container-id-5 div.sk-parallel-item::after {content: \"\";width: 100%;border-bottom: 1px solid gray;flex-grow: 1;}#sk-container-id-5 div.sk-label:hover label.sk-toggleable__label {background-color: #d4ebff;}#sk-container-id-5 div.sk-serial::before {content: \"\";position: absolute;border-left: 1px solid gray;box-sizing: border-box;top: 0;bottom: 0;left: 50%;z-index: 0;}#sk-container-id-5 div.sk-serial {display: flex;flex-direction: column;align-items: center;background-color: white;padding-right: 0.2em;padding-left: 0.2em;position: relative;}#sk-container-id-5 div.sk-item {position: relative;z-index: 1;}#sk-container-id-5 div.sk-parallel {display: flex;align-items: stretch;justify-content: center;background-color: white;position: relative;}#sk-container-id-5 div.sk-item::before, #sk-container-id-5 div.sk-parallel-item::before {content: \"\";position: absolute;border-left: 1px solid gray;box-sizing: border-box;top: 0;bottom: 0;left: 50%;z-index: -1;}#sk-container-id-5 div.sk-parallel-item {display: flex;flex-direction: column;z-index: 1;position: relative;background-color: white;}#sk-container-id-5 div.sk-parallel-item:first-child::after {align-self: flex-end;width: 50%;}#sk-container-id-5 div.sk-parallel-item:last-child::after {align-self: flex-start;width: 50%;}#sk-container-id-5 div.sk-parallel-item:only-child::after {width: 0;}#sk-container-id-5 div.sk-dashed-wrapped {border: 1px dashed gray;margin: 0 0.4em 0.5em 0.4em;box-sizing: border-box;padding-bottom: 0.4em;background-color: white;}#sk-container-id-5 div.sk-label label {font-family: monospace;font-weight: bold;display: inline-block;line-height: 1.2em;}#sk-container-id-5 div.sk-label-container {text-align: center;}#sk-container-id-5 div.sk-container {/* jupyter's `normalize.less` sets `[hidden] { display: none; }` but bootstrap.min.css set `[hidden] { display: none !important; }` so we also need the `!important` here to be able to override the default hidden behavior on the sphinx rendered scikit-learn.org. See: https://github.com/scikit-learn/scikit-learn/issues/21755 */display: inline-block !important;position: relative;}#sk-container-id-5 div.sk-text-repr-fallback {display: none;}</style><div id=\"sk-container-id-5\" class=\"sk-top-container\"><div class=\"sk-text-repr-fallback\"><pre>GradientBoostingRegressor(random_state=42)</pre><b>In a Jupyter environment, please rerun this cell to show the HTML representation or trust the notebook. <br />On GitHub, the HTML representation is unable to render, please try loading this page with nbviewer.org.</b></div><div class=\"sk-container\" hidden><div class=\"sk-item\"><div class=\"sk-estimator sk-toggleable\"><input class=\"sk-toggleable__control sk-hidden--visually\" id=\"sk-estimator-id-7\" type=\"checkbox\" checked><label for=\"sk-estimator-id-7\" class=\"sk-toggleable__label sk-toggleable__label-arrow\">GradientBoostingRegressor</label><div class=\"sk-toggleable__content\"><pre>GradientBoostingRegressor(random_state=42)</pre></div></div></div></div></div>"
      ],
      "text/plain": [
       "GradientBoostingRegressor(random_state=42)"
      ]
     },
     "execution_count": 35,
     "metadata": {},
     "output_type": "execute_result"
    }
   ],
   "source": [
    "%%time\n",
    "training_model.fit(X_train, y_train)"
   ]
  },
  {
   "cell_type": "code",
   "execution_count": 36,
   "id": "d2bb8488",
   "metadata": {
    "execution": {
     "iopub.execute_input": "2025-08-07T10:36:46.847101Z",
     "iopub.status.busy": "2025-08-07T10:36:46.846833Z",
     "iopub.status.idle": "2025-08-07T10:36:46.857616Z",
     "shell.execute_reply": "2025-08-07T10:36:46.856471Z"
    },
    "papermill": {
     "duration": 0.036305,
     "end_time": "2025-08-07T10:36:46.859142",
     "exception": false,
     "start_time": "2025-08-07T10:36:46.822837",
     "status": "completed"
    },
    "tags": []
   },
   "outputs": [
    {
     "data": {
      "text/plain": [
       "array([4.71643893, 4.18019133, 4.25719444, ..., 4.07062351, 4.587109  ,\n",
       "       4.81030893])"
      ]
     },
     "execution_count": 36,
     "metadata": {},
     "output_type": "execute_result"
    }
   ],
   "source": [
    "y_pred = training_model.predict(X_test)\n",
    "y_pred"
   ]
  },
  {
   "cell_type": "code",
   "execution_count": 37,
   "id": "09cf5b55",
   "metadata": {
    "execution": {
     "iopub.execute_input": "2025-08-07T10:36:46.904957Z",
     "iopub.status.busy": "2025-08-07T10:36:46.904689Z",
     "iopub.status.idle": "2025-08-07T10:36:46.911326Z",
     "shell.execute_reply": "2025-08-07T10:36:46.910687Z"
    },
    "papermill": {
     "duration": 0.030257,
     "end_time": "2025-08-07T10:36:46.912668",
     "exception": false,
     "start_time": "2025-08-07T10:36:46.882411",
     "status": "completed"
    },
    "tags": []
   },
   "outputs": [
    {
     "data": {
      "text/plain": [
       "5158     4.65\n",
       "3831     3.70\n",
       "5117     4.19\n",
       "6326     3.88\n",
       "11359    3.68\n",
       "         ... \n",
       "10290    5.17\n",
       "13995    4.48\n",
       "9665     3.91\n",
       "2276     4.00\n",
       "4174     4.65\n",
       "Name: Visibility, Length: 2924, dtype: float64"
      ]
     },
     "execution_count": 37,
     "metadata": {},
     "output_type": "execute_result"
    }
   ],
   "source": [
    "y_test"
   ]
  },
  {
   "cell_type": "code",
   "execution_count": 38,
   "id": "68804b25",
   "metadata": {
    "execution": {
     "iopub.execute_input": "2025-08-07T10:36:46.958788Z",
     "iopub.status.busy": "2025-08-07T10:36:46.958486Z",
     "iopub.status.idle": "2025-08-07T10:36:46.964948Z",
     "shell.execute_reply": "2025-08-07T10:36:46.964179Z"
    },
    "papermill": {
     "duration": 0.031336,
     "end_time": "2025-08-07T10:36:46.966224",
     "exception": false,
     "start_time": "2025-08-07T10:36:46.934888",
     "status": "completed"
    },
    "tags": []
   },
   "outputs": [],
   "source": [
    "mse = mean_squared_error(y_test, y_pred)\n",
    "mae = mean_absolute_error(y_test, y_pred)\n",
    "r2 = r2_score(y_test, y_pred)\n",
    "rmse = math.sqrt(mse)"
   ]
  },
  {
   "cell_type": "code",
   "execution_count": 39,
   "id": "a5f91c6a",
   "metadata": {
    "execution": {
     "iopub.execute_input": "2025-08-07T10:36:47.011163Z",
     "iopub.status.busy": "2025-08-07T10:36:47.010901Z",
     "iopub.status.idle": "2025-08-07T10:36:47.015670Z",
     "shell.execute_reply": "2025-08-07T10:36:47.014868Z"
    },
    "papermill": {
     "duration": 0.028967,
     "end_time": "2025-08-07T10:36:47.017082",
     "exception": false,
     "start_time": "2025-08-07T10:36:46.988115",
     "status": "completed"
    },
    "tags": []
   },
   "outputs": [
    {
     "name": "stdout",
     "output_type": "stream",
     "text": [
      "MSE Score: 0.9476216849616522\n",
      "MAE Score: 0.4321337506862286\n",
      "R2 Score: 0.514381397218493\n",
      "RMSE Score: 0.9734586200561646\n"
     ]
    }
   ],
   "source": [
    "print(\"MSE Score:\", mse)\n",
    "print(\"MAE Score:\", mae)\n",
    "print(\"R2 Score:\", r2)\n",
    "print(\"RMSE Score:\", rmse)"
   ]
  },
  {
   "cell_type": "code",
   "execution_count": 40,
   "id": "48268c69",
   "metadata": {
    "execution": {
     "iopub.execute_input": "2025-08-07T10:36:47.064343Z",
     "iopub.status.busy": "2025-08-07T10:36:47.064068Z",
     "iopub.status.idle": "2025-08-07T10:36:47.075019Z",
     "shell.execute_reply": "2025-08-07T10:36:47.073751Z"
    },
    "papermill": {
     "duration": 0.035464,
     "end_time": "2025-08-07T10:36:47.076740",
     "exception": false,
     "start_time": "2025-08-07T10:36:47.041276",
     "status": "completed"
    },
    "tags": []
   },
   "outputs": [
    {
     "name": "stdout",
     "output_type": "stream",
     "text": [
      "✨ New regression model added:\n",
      "   MSE: 0.947622, R²: 0.514381\n",
      "   Features: 27\n",
      "💾 Registry updated: Model_Training_History/History_Regression.csv\n"
     ]
    }
   ],
   "source": [
    "regression_params = {\n",
    "    'model_name': model_name_for_saving,\n",
    "    'scaler_name': \"StandardScaler\",\n",
    "    'features_list': feature_columns_for_saving,\n",
    "    'target_column': target_name_for_saving,\n",
    "    'mse': mse,\n",
    "    'mae': mae,\n",
    "    'rmse': rmse,\n",
    "    'r2': r2,\n",
    "    'parameters': json.dumps(training_model.get_params())\n",
    "}\n",
    "save_model_performance_if_better('regression', regression_params)"
   ]
  },
  {
   "cell_type": "markdown",
   "id": "98cfea9a",
   "metadata": {
    "papermill": {
     "duration": 0.022171,
     "end_time": "2025-08-07T10:36:47.121984",
     "exception": false,
     "start_time": "2025-08-07T10:36:47.099813",
     "status": "completed"
    },
    "tags": []
   },
   "source": [
    "### Tuning with Grid Search"
   ]
  },
  {
   "cell_type": "code",
   "execution_count": 41,
   "id": "c7f0f464",
   "metadata": {
    "execution": {
     "iopub.execute_input": "2025-08-07T10:36:47.169858Z",
     "iopub.status.busy": "2025-08-07T10:36:47.169570Z",
     "iopub.status.idle": "2025-08-07T10:36:47.173884Z",
     "shell.execute_reply": "2025-08-07T10:36:47.173076Z"
    },
    "papermill": {
     "duration": 0.029468,
     "end_time": "2025-08-07T10:36:47.175167",
     "exception": false,
     "start_time": "2025-08-07T10:36:47.145699",
     "status": "completed"
    },
    "tags": []
   },
   "outputs": [],
   "source": [
    "grid_search = RandomizedSearchCV(\n",
    "    GradientBoostingRegressor(random_state=42), \n",
    "    grid_param,\n",
    "    n_iter=number_of_model_for_randomized_grid,\n",
    "    cv=5,\n",
    "    scoring='neg_mean_squared_error',\n",
    "    n_jobs=-1,\n",
    "    verbose=1,\n",
    "    random_state=42\n",
    ")"
   ]
  },
  {
   "cell_type": "code",
   "execution_count": 42,
   "id": "c2a7acfb",
   "metadata": {
    "execution": {
     "iopub.execute_input": "2025-08-07T10:36:47.220283Z",
     "iopub.status.busy": "2025-08-07T10:36:47.220018Z",
     "iopub.status.idle": "2025-08-07T12:19:29.163006Z",
     "shell.execute_reply": "2025-08-07T12:19:29.160899Z"
    },
    "papermill": {
     "duration": 6161.992581,
     "end_time": "2025-08-07T12:19:29.189790",
     "exception": false,
     "start_time": "2025-08-07T10:36:47.197209",
     "status": "completed"
    },
    "tags": []
   },
   "outputs": [
    {
     "name": "stdout",
     "output_type": "stream",
     "text": [
      "Starting hyperparameter tuning...\n",
      "Fitting 5 folds for each of 100 candidates, totalling 500 fits\n",
      "CPU times: user 23.8 s, sys: 7.54 s, total: 31.4 s\n",
      "Wall time: 1h 42min 41s\n"
     ]
    },
    {
     "data": {
      "text/html": [
       "<style>#sk-container-id-6 {color: black;background-color: white;}#sk-container-id-6 pre{padding: 0;}#sk-container-id-6 div.sk-toggleable {background-color: white;}#sk-container-id-6 label.sk-toggleable__label {cursor: pointer;display: block;width: 100%;margin-bottom: 0;padding: 0.3em;box-sizing: border-box;text-align: center;}#sk-container-id-6 label.sk-toggleable__label-arrow:before {content: \"▸\";float: left;margin-right: 0.25em;color: #696969;}#sk-container-id-6 label.sk-toggleable__label-arrow:hover:before {color: black;}#sk-container-id-6 div.sk-estimator:hover label.sk-toggleable__label-arrow:before {color: black;}#sk-container-id-6 div.sk-toggleable__content {max-height: 0;max-width: 0;overflow: hidden;text-align: left;background-color: #f0f8ff;}#sk-container-id-6 div.sk-toggleable__content pre {margin: 0.2em;color: black;border-radius: 0.25em;background-color: #f0f8ff;}#sk-container-id-6 input.sk-toggleable__control:checked~div.sk-toggleable__content {max-height: 200px;max-width: 100%;overflow: auto;}#sk-container-id-6 input.sk-toggleable__control:checked~label.sk-toggleable__label-arrow:before {content: \"▾\";}#sk-container-id-6 div.sk-estimator input.sk-toggleable__control:checked~label.sk-toggleable__label {background-color: #d4ebff;}#sk-container-id-6 div.sk-label input.sk-toggleable__control:checked~label.sk-toggleable__label {background-color: #d4ebff;}#sk-container-id-6 input.sk-hidden--visually {border: 0;clip: rect(1px 1px 1px 1px);clip: rect(1px, 1px, 1px, 1px);height: 1px;margin: -1px;overflow: hidden;padding: 0;position: absolute;width: 1px;}#sk-container-id-6 div.sk-estimator {font-family: monospace;background-color: #f0f8ff;border: 1px dotted black;border-radius: 0.25em;box-sizing: border-box;margin-bottom: 0.5em;}#sk-container-id-6 div.sk-estimator:hover {background-color: #d4ebff;}#sk-container-id-6 div.sk-parallel-item::after {content: \"\";width: 100%;border-bottom: 1px solid gray;flex-grow: 1;}#sk-container-id-6 div.sk-label:hover label.sk-toggleable__label {background-color: #d4ebff;}#sk-container-id-6 div.sk-serial::before {content: \"\";position: absolute;border-left: 1px solid gray;box-sizing: border-box;top: 0;bottom: 0;left: 50%;z-index: 0;}#sk-container-id-6 div.sk-serial {display: flex;flex-direction: column;align-items: center;background-color: white;padding-right: 0.2em;padding-left: 0.2em;position: relative;}#sk-container-id-6 div.sk-item {position: relative;z-index: 1;}#sk-container-id-6 div.sk-parallel {display: flex;align-items: stretch;justify-content: center;background-color: white;position: relative;}#sk-container-id-6 div.sk-item::before, #sk-container-id-6 div.sk-parallel-item::before {content: \"\";position: absolute;border-left: 1px solid gray;box-sizing: border-box;top: 0;bottom: 0;left: 50%;z-index: -1;}#sk-container-id-6 div.sk-parallel-item {display: flex;flex-direction: column;z-index: 1;position: relative;background-color: white;}#sk-container-id-6 div.sk-parallel-item:first-child::after {align-self: flex-end;width: 50%;}#sk-container-id-6 div.sk-parallel-item:last-child::after {align-self: flex-start;width: 50%;}#sk-container-id-6 div.sk-parallel-item:only-child::after {width: 0;}#sk-container-id-6 div.sk-dashed-wrapped {border: 1px dashed gray;margin: 0 0.4em 0.5em 0.4em;box-sizing: border-box;padding-bottom: 0.4em;background-color: white;}#sk-container-id-6 div.sk-label label {font-family: monospace;font-weight: bold;display: inline-block;line-height: 1.2em;}#sk-container-id-6 div.sk-label-container {text-align: center;}#sk-container-id-6 div.sk-container {/* jupyter's `normalize.less` sets `[hidden] { display: none; }` but bootstrap.min.css set `[hidden] { display: none !important; }` so we also need the `!important` here to be able to override the default hidden behavior on the sphinx rendered scikit-learn.org. See: https://github.com/scikit-learn/scikit-learn/issues/21755 */display: inline-block !important;position: relative;}#sk-container-id-6 div.sk-text-repr-fallback {display: none;}</style><div id=\"sk-container-id-6\" class=\"sk-top-container\"><div class=\"sk-text-repr-fallback\"><pre>RandomizedSearchCV(cv=5, estimator=GradientBoostingRegressor(random_state=42),\n",
       "                   n_iter=100, n_jobs=-1,\n",
       "                   param_distributions={&#x27;learning_rate&#x27;: [0.01, 0.05, 0.1],\n",
       "                                        &#x27;loss&#x27;: [&#x27;squared_error&#x27;, &#x27;huber&#x27;],\n",
       "                                        &#x27;max_depth&#x27;: [None, 10, 20, 30],\n",
       "                                        &#x27;max_features&#x27;: [&#x27;sqrt&#x27;, &#x27;log2&#x27;, None],\n",
       "                                        &#x27;min_samples_leaf&#x27;: [1, 2, 4, 6],\n",
       "                                        &#x27;min_samples_split&#x27;: [2, 5, 10, 15, 20],\n",
       "                                        &#x27;n_estimators&#x27;: [100, 200, 300],\n",
       "                                        &#x27;subsample&#x27;: [0.7, 0.8, 0.9]},\n",
       "                   random_state=42, scoring=&#x27;neg_mean_squared_error&#x27;,\n",
       "                   verbose=1)</pre><b>In a Jupyter environment, please rerun this cell to show the HTML representation or trust the notebook. <br />On GitHub, the HTML representation is unable to render, please try loading this page with nbviewer.org.</b></div><div class=\"sk-container\" hidden><div class=\"sk-item sk-dashed-wrapped\"><div class=\"sk-label-container\"><div class=\"sk-label sk-toggleable\"><input class=\"sk-toggleable__control sk-hidden--visually\" id=\"sk-estimator-id-8\" type=\"checkbox\" ><label for=\"sk-estimator-id-8\" class=\"sk-toggleable__label sk-toggleable__label-arrow\">RandomizedSearchCV</label><div class=\"sk-toggleable__content\"><pre>RandomizedSearchCV(cv=5, estimator=GradientBoostingRegressor(random_state=42),\n",
       "                   n_iter=100, n_jobs=-1,\n",
       "                   param_distributions={&#x27;learning_rate&#x27;: [0.01, 0.05, 0.1],\n",
       "                                        &#x27;loss&#x27;: [&#x27;squared_error&#x27;, &#x27;huber&#x27;],\n",
       "                                        &#x27;max_depth&#x27;: [None, 10, 20, 30],\n",
       "                                        &#x27;max_features&#x27;: [&#x27;sqrt&#x27;, &#x27;log2&#x27;, None],\n",
       "                                        &#x27;min_samples_leaf&#x27;: [1, 2, 4, 6],\n",
       "                                        &#x27;min_samples_split&#x27;: [2, 5, 10, 15, 20],\n",
       "                                        &#x27;n_estimators&#x27;: [100, 200, 300],\n",
       "                                        &#x27;subsample&#x27;: [0.7, 0.8, 0.9]},\n",
       "                   random_state=42, scoring=&#x27;neg_mean_squared_error&#x27;,\n",
       "                   verbose=1)</pre></div></div></div><div class=\"sk-parallel\"><div class=\"sk-parallel-item\"><div class=\"sk-item\"><div class=\"sk-label-container\"><div class=\"sk-label sk-toggleable\"><input class=\"sk-toggleable__control sk-hidden--visually\" id=\"sk-estimator-id-9\" type=\"checkbox\" ><label for=\"sk-estimator-id-9\" class=\"sk-toggleable__label sk-toggleable__label-arrow\">estimator: GradientBoostingRegressor</label><div class=\"sk-toggleable__content\"><pre>GradientBoostingRegressor(random_state=42)</pre></div></div></div><div class=\"sk-serial\"><div class=\"sk-item\"><div class=\"sk-estimator sk-toggleable\"><input class=\"sk-toggleable__control sk-hidden--visually\" id=\"sk-estimator-id-10\" type=\"checkbox\" ><label for=\"sk-estimator-id-10\" class=\"sk-toggleable__label sk-toggleable__label-arrow\">GradientBoostingRegressor</label><div class=\"sk-toggleable__content\"><pre>GradientBoostingRegressor(random_state=42)</pre></div></div></div></div></div></div></div></div></div></div>"
      ],
      "text/plain": [
       "RandomizedSearchCV(cv=5, estimator=GradientBoostingRegressor(random_state=42),\n",
       "                   n_iter=100, n_jobs=-1,\n",
       "                   param_distributions={'learning_rate': [0.01, 0.05, 0.1],\n",
       "                                        'loss': ['squared_error', 'huber'],\n",
       "                                        'max_depth': [None, 10, 20, 30],\n",
       "                                        'max_features': ['sqrt', 'log2', None],\n",
       "                                        'min_samples_leaf': [1, 2, 4, 6],\n",
       "                                        'min_samples_split': [2, 5, 10, 15, 20],\n",
       "                                        'n_estimators': [100, 200, 300],\n",
       "                                        'subsample': [0.7, 0.8, 0.9]},\n",
       "                   random_state=42, scoring='neg_mean_squared_error',\n",
       "                   verbose=1)"
      ]
     },
     "execution_count": 42,
     "metadata": {},
     "output_type": "execute_result"
    }
   ],
   "source": [
    "%%time\n",
    "print(\"Starting hyperparameter tuning...\")\n",
    "grid_search.fit(X_train, y_train)"
   ]
  },
  {
   "cell_type": "code",
   "execution_count": 43,
   "id": "24892bef",
   "metadata": {
    "execution": {
     "iopub.execute_input": "2025-08-07T12:19:29.238768Z",
     "iopub.status.busy": "2025-08-07T12:19:29.238332Z",
     "iopub.status.idle": "2025-08-07T12:19:29.246814Z",
     "shell.execute_reply": "2025-08-07T12:19:29.245701Z"
    },
    "papermill": {
     "duration": 0.034926,
     "end_time": "2025-08-07T12:19:29.247991",
     "exception": false,
     "start_time": "2025-08-07T12:19:29.213065",
     "status": "completed"
    },
    "tags": []
   },
   "outputs": [
    {
     "name": "stdout",
     "output_type": "stream",
     "text": [
      "TUNING RESULTS\n",
      "==================================================\n",
      "Best Parameters: {'subsample': 0.8, 'n_estimators': 300, 'min_samples_split': 20, 'min_samples_leaf': 6, 'max_features': 'sqrt', 'max_depth': 20, 'loss': 'squared_error', 'learning_rate': 0.05}\n",
      "Best Cross-Validation Score (Negative MSE): -0.632953032497818\n",
      "Best Cross-Validation Score (MSE): 0.632953032497818\n",
      "Best Cross-Validation Score (RMSE): 0.7955834541377906\n"
     ]
    }
   ],
   "source": [
    "print(\"TUNING RESULTS\")\n",
    "print(\"=\"*50)\n",
    "print(\"Best Parameters:\", grid_search.best_params_)\n",
    "print(\"Best Cross-Validation Score (Negative MSE):\", grid_search.best_score_)\n",
    "print(\"Best Cross-Validation Score (MSE):\", -grid_search.best_score_)\n",
    "print(\"Best Cross-Validation Score (RMSE):\", math.sqrt(-grid_search.best_score_))"
   ]
  },
  {
   "cell_type": "code",
   "execution_count": 44,
   "id": "9948042a",
   "metadata": {
    "execution": {
     "iopub.execute_input": "2025-08-07T12:19:29.294221Z",
     "iopub.status.busy": "2025-08-07T12:19:29.293891Z",
     "iopub.status.idle": "2025-08-07T12:19:29.395411Z",
     "shell.execute_reply": "2025-08-07T12:19:29.394484Z"
    },
    "papermill": {
     "duration": 0.126755,
     "end_time": "2025-08-07T12:19:29.397308",
     "exception": false,
     "start_time": "2025-08-07T12:19:29.270553",
     "status": "completed"
    },
    "tags": []
   },
   "outputs": [],
   "source": [
    "grid_search_best_model = grid_search.best_estimator_\n",
    "y_pred = grid_search_best_model.predict(X_test)"
   ]
  },
  {
   "cell_type": "code",
   "execution_count": 45,
   "id": "5b8d1123",
   "metadata": {
    "execution": {
     "iopub.execute_input": "2025-08-07T12:19:29.446061Z",
     "iopub.status.busy": "2025-08-07T12:19:29.445783Z",
     "iopub.status.idle": "2025-08-07T12:19:29.452943Z",
     "shell.execute_reply": "2025-08-07T12:19:29.452255Z"
    },
    "papermill": {
     "duration": 0.032167,
     "end_time": "2025-08-07T12:19:29.454177",
     "exception": false,
     "start_time": "2025-08-07T12:19:29.422010",
     "status": "completed"
    },
    "tags": []
   },
   "outputs": [],
   "source": [
    "mse_grid_search = mean_squared_error(y_test, y_pred)\n",
    "mae_grid_search = mean_absolute_error(y_test, y_pred)\n",
    "r2_grid_search = r2_score(y_test, y_pred)\n",
    "rmse_grid_search = math.sqrt(mse_grid_search)"
   ]
  },
  {
   "cell_type": "code",
   "execution_count": 46,
   "id": "36a04b2d",
   "metadata": {
    "execution": {
     "iopub.execute_input": "2025-08-07T12:19:29.501063Z",
     "iopub.status.busy": "2025-08-07T12:19:29.500711Z",
     "iopub.status.idle": "2025-08-07T12:19:29.506813Z",
     "shell.execute_reply": "2025-08-07T12:19:29.505459Z"
    },
    "papermill": {
     "duration": 0.031271,
     "end_time": "2025-08-07T12:19:29.508282",
     "exception": false,
     "start_time": "2025-08-07T12:19:29.477011",
     "status": "completed"
    },
    "tags": []
   },
   "outputs": [
    {
     "name": "stdout",
     "output_type": "stream",
     "text": [
      "MSE Score: 0.7162876128388325\n",
      "MAE Score: 0.36020068252510345\n",
      "R2 Score: 0.6329309520280013\n",
      "RMSE Score: 0.8463377652207377\n"
     ]
    }
   ],
   "source": [
    "print(\"MSE Score:\", mse_grid_search)\n",
    "print(\"MAE Score:\", mae_grid_search)\n",
    "print(\"R2 Score:\", r2_grid_search)\n",
    "print(\"RMSE Score:\", rmse_grid_search)"
   ]
  },
  {
   "cell_type": "code",
   "execution_count": 47,
   "id": "8f430422",
   "metadata": {
    "execution": {
     "iopub.execute_input": "2025-08-07T12:19:29.555460Z",
     "iopub.status.busy": "2025-08-07T12:19:29.555155Z",
     "iopub.status.idle": "2025-08-07T12:19:29.571141Z",
     "shell.execute_reply": "2025-08-07T12:19:29.570273Z"
    },
    "papermill": {
     "duration": 0.041329,
     "end_time": "2025-08-07T12:19:29.572544",
     "exception": false,
     "start_time": "2025-08-07T12:19:29.531215",
     "status": "completed"
    },
    "tags": []
   },
   "outputs": [
    {
     "name": "stdout",
     "output_type": "stream",
     "text": [
      "✨ New regression model added:\n",
      "   MSE: 0.716288, R²: 0.632931\n",
      "   Features: 27\n",
      "💾 Registry updated: Model_Training_History/History_Regression.csv\n"
     ]
    }
   ],
   "source": [
    "regression_params = {\n",
    "    'model_name': model_name_for_saving + \" Tuned\",\n",
    "    'scaler_name': \"StandardScaler\",\n",
    "    'features_list': feature_columns_for_saving,\n",
    "    'target_column': target_name_for_saving,\n",
    "    'mse': mse_grid_search,\n",
    "    'mae': mae_grid_search,\n",
    "    'rmse': rmse_grid_search,\n",
    "    'r2': r2_grid_search,\n",
    "    'parameters' : json.dumps({\n",
    "        \"best_params\": grid_search.best_params_,\n",
    "        \"cv_score\": grid_search.best_score_,\n",
    "        \"all_params\": grid_search_best_model.get_params()\n",
    "    })\n",
    "}\n",
    "save_model_performance_if_better('regression', regression_params)"
   ]
  },
  {
   "cell_type": "markdown",
   "id": "0ac1fc45",
   "metadata": {
    "papermill": {
     "duration": 0.023513,
     "end_time": "2025-08-07T12:19:29.619257",
     "exception": false,
     "start_time": "2025-08-07T12:19:29.595744",
     "status": "completed"
    },
    "tags": []
   },
   "source": [
    "## Robust Scaler"
   ]
  },
  {
   "cell_type": "code",
   "execution_count": 48,
   "id": "b3be6f1b",
   "metadata": {
    "execution": {
     "iopub.execute_input": "2025-08-07T12:19:29.665818Z",
     "iopub.status.busy": "2025-08-07T12:19:29.665499Z",
     "iopub.status.idle": "2025-08-07T12:19:29.697837Z",
     "shell.execute_reply": "2025-08-07T12:19:29.697006Z"
    },
    "papermill": {
     "duration": 0.057334,
     "end_time": "2025-08-07T12:19:29.699352",
     "exception": false,
     "start_time": "2025-08-07T12:19:29.642018",
     "status": "completed"
    },
    "tags": []
   },
   "outputs": [],
   "source": [
    "scaler = RobustScaler()\n",
    "X_train = scaler.fit_transform(X_train_raw)\n",
    "X_test = scaler.transform(X_test_raw)"
   ]
  },
  {
   "cell_type": "code",
   "execution_count": 49,
   "id": "8942ab1c",
   "metadata": {
    "execution": {
     "iopub.execute_input": "2025-08-07T12:19:29.746510Z",
     "iopub.status.busy": "2025-08-07T12:19:29.746212Z",
     "iopub.status.idle": "2025-08-07T12:19:29.753748Z",
     "shell.execute_reply": "2025-08-07T12:19:29.752914Z"
    },
    "papermill": {
     "duration": 0.032476,
     "end_time": "2025-08-07T12:19:29.755073",
     "exception": false,
     "start_time": "2025-08-07T12:19:29.722597",
     "status": "completed"
    },
    "tags": []
   },
   "outputs": [
    {
     "data": {
      "text/plain": [
       "array([[ 0.6       ,  0.66666667, -0.16666667, ..., -0.03738547,\n",
       "         1.44008264,  8.87596899],\n",
       "       [ 1.        , -0.46666667,  0.33333333, ..., -0.84268652,\n",
       "         0.62603306,  0.        ],\n",
       "       [-0.8       , -0.13333333, -1.        , ..., -0.84268652,\n",
       "         0.        ,  0.        ],\n",
       "       ...,\n",
       "       [ 0.4       ,  0.73333333, -0.16666667, ...,  0.5899051 ,\n",
       "         0.6322314 ,  0.75193798],\n",
       "       [-1.        , -0.2       ,  0.75      , ..., -0.84268652,\n",
       "         0.        ,  0.        ],\n",
       "       [ 0.6       , -0.46666667, -0.33333333, ...,  0.61755563,\n",
       "         0.59917355,  7.5       ]])"
      ]
     },
     "execution_count": 49,
     "metadata": {},
     "output_type": "execute_result"
    }
   ],
   "source": [
    "X_train"
   ]
  },
  {
   "cell_type": "code",
   "execution_count": 50,
   "id": "300aa23e",
   "metadata": {
    "execution": {
     "iopub.execute_input": "2025-08-07T12:19:29.803785Z",
     "iopub.status.busy": "2025-08-07T12:19:29.803382Z",
     "iopub.status.idle": "2025-08-07T12:19:29.810040Z",
     "shell.execute_reply": "2025-08-07T12:19:29.809247Z"
    },
    "papermill": {
     "duration": 0.032101,
     "end_time": "2025-08-07T12:19:29.811383",
     "exception": false,
     "start_time": "2025-08-07T12:19:29.779282",
     "status": "completed"
    },
    "tags": []
   },
   "outputs": [
    {
     "data": {
      "text/plain": [
       "array([[ 4.00000000e-01, -8.66666667e-01,  8.33333333e-01, ...,\n",
       "         6.20009817e-01,  0.00000000e+00,  0.00000000e+00],\n",
       "       [ 0.00000000e+00, -4.66666667e-01,  2.50000000e-01, ...,\n",
       "         7.40592277e-01,  1.52892562e-01,  0.00000000e+00],\n",
       "       [ 4.00000000e-01, -9.33333333e-01, -5.83333333e-01, ...,\n",
       "         7.82804319e-01,  0.00000000e+00,  0.00000000e+00],\n",
       "       ...,\n",
       "       [-8.00000000e-01, -6.00000000e-01,  4.16666667e-01, ...,\n",
       "        -8.40559555e-01,  4.19421488e-01,  0.00000000e+00],\n",
       "       [-4.00000000e-01, -7.33333333e-01,  6.66666667e-01, ...,\n",
       "        -8.42686518e-01,  0.00000000e+00,  6.67829457e+00],\n",
       "       [ 0.00000000e+00,  4.66666667e-01,  8.33333333e-01, ...,\n",
       "         1.71793194e-03,  0.00000000e+00,  0.00000000e+00]])"
      ]
     },
     "execution_count": 50,
     "metadata": {},
     "output_type": "execute_result"
    }
   ],
   "source": [
    "X_test"
   ]
  },
  {
   "cell_type": "markdown",
   "id": "be0b2d33",
   "metadata": {
    "papermill": {
     "duration": 0.022486,
     "end_time": "2025-08-07T12:19:29.856927",
     "exception": false,
     "start_time": "2025-08-07T12:19:29.834441",
     "status": "completed"
    },
    "tags": []
   },
   "source": [
    "### Default Parameters"
   ]
  },
  {
   "cell_type": "code",
   "execution_count": 51,
   "id": "a0835fd2",
   "metadata": {
    "execution": {
     "iopub.execute_input": "2025-08-07T12:19:29.903468Z",
     "iopub.status.busy": "2025-08-07T12:19:29.903087Z",
     "iopub.status.idle": "2025-08-07T12:19:29.910647Z",
     "shell.execute_reply": "2025-08-07T12:19:29.909565Z"
    },
    "papermill": {
     "duration": 0.032756,
     "end_time": "2025-08-07T12:19:29.912083",
     "exception": false,
     "start_time": "2025-08-07T12:19:29.879327",
     "status": "completed"
    },
    "tags": []
   },
   "outputs": [
    {
     "data": {
      "text/html": [
       "<style>#sk-container-id-7 {color: black;background-color: white;}#sk-container-id-7 pre{padding: 0;}#sk-container-id-7 div.sk-toggleable {background-color: white;}#sk-container-id-7 label.sk-toggleable__label {cursor: pointer;display: block;width: 100%;margin-bottom: 0;padding: 0.3em;box-sizing: border-box;text-align: center;}#sk-container-id-7 label.sk-toggleable__label-arrow:before {content: \"▸\";float: left;margin-right: 0.25em;color: #696969;}#sk-container-id-7 label.sk-toggleable__label-arrow:hover:before {color: black;}#sk-container-id-7 div.sk-estimator:hover label.sk-toggleable__label-arrow:before {color: black;}#sk-container-id-7 div.sk-toggleable__content {max-height: 0;max-width: 0;overflow: hidden;text-align: left;background-color: #f0f8ff;}#sk-container-id-7 div.sk-toggleable__content pre {margin: 0.2em;color: black;border-radius: 0.25em;background-color: #f0f8ff;}#sk-container-id-7 input.sk-toggleable__control:checked~div.sk-toggleable__content {max-height: 200px;max-width: 100%;overflow: auto;}#sk-container-id-7 input.sk-toggleable__control:checked~label.sk-toggleable__label-arrow:before {content: \"▾\";}#sk-container-id-7 div.sk-estimator input.sk-toggleable__control:checked~label.sk-toggleable__label {background-color: #d4ebff;}#sk-container-id-7 div.sk-label input.sk-toggleable__control:checked~label.sk-toggleable__label {background-color: #d4ebff;}#sk-container-id-7 input.sk-hidden--visually {border: 0;clip: rect(1px 1px 1px 1px);clip: rect(1px, 1px, 1px, 1px);height: 1px;margin: -1px;overflow: hidden;padding: 0;position: absolute;width: 1px;}#sk-container-id-7 div.sk-estimator {font-family: monospace;background-color: #f0f8ff;border: 1px dotted black;border-radius: 0.25em;box-sizing: border-box;margin-bottom: 0.5em;}#sk-container-id-7 div.sk-estimator:hover {background-color: #d4ebff;}#sk-container-id-7 div.sk-parallel-item::after {content: \"\";width: 100%;border-bottom: 1px solid gray;flex-grow: 1;}#sk-container-id-7 div.sk-label:hover label.sk-toggleable__label {background-color: #d4ebff;}#sk-container-id-7 div.sk-serial::before {content: \"\";position: absolute;border-left: 1px solid gray;box-sizing: border-box;top: 0;bottom: 0;left: 50%;z-index: 0;}#sk-container-id-7 div.sk-serial {display: flex;flex-direction: column;align-items: center;background-color: white;padding-right: 0.2em;padding-left: 0.2em;position: relative;}#sk-container-id-7 div.sk-item {position: relative;z-index: 1;}#sk-container-id-7 div.sk-parallel {display: flex;align-items: stretch;justify-content: center;background-color: white;position: relative;}#sk-container-id-7 div.sk-item::before, #sk-container-id-7 div.sk-parallel-item::before {content: \"\";position: absolute;border-left: 1px solid gray;box-sizing: border-box;top: 0;bottom: 0;left: 50%;z-index: -1;}#sk-container-id-7 div.sk-parallel-item {display: flex;flex-direction: column;z-index: 1;position: relative;background-color: white;}#sk-container-id-7 div.sk-parallel-item:first-child::after {align-self: flex-end;width: 50%;}#sk-container-id-7 div.sk-parallel-item:last-child::after {align-self: flex-start;width: 50%;}#sk-container-id-7 div.sk-parallel-item:only-child::after {width: 0;}#sk-container-id-7 div.sk-dashed-wrapped {border: 1px dashed gray;margin: 0 0.4em 0.5em 0.4em;box-sizing: border-box;padding-bottom: 0.4em;background-color: white;}#sk-container-id-7 div.sk-label label {font-family: monospace;font-weight: bold;display: inline-block;line-height: 1.2em;}#sk-container-id-7 div.sk-label-container {text-align: center;}#sk-container-id-7 div.sk-container {/* jupyter's `normalize.less` sets `[hidden] { display: none; }` but bootstrap.min.css set `[hidden] { display: none !important; }` so we also need the `!important` here to be able to override the default hidden behavior on the sphinx rendered scikit-learn.org. See: https://github.com/scikit-learn/scikit-learn/issues/21755 */display: inline-block !important;position: relative;}#sk-container-id-7 div.sk-text-repr-fallback {display: none;}</style><div id=\"sk-container-id-7\" class=\"sk-top-container\"><div class=\"sk-text-repr-fallback\"><pre>GradientBoostingRegressor(random_state=42)</pre><b>In a Jupyter environment, please rerun this cell to show the HTML representation or trust the notebook. <br />On GitHub, the HTML representation is unable to render, please try loading this page with nbviewer.org.</b></div><div class=\"sk-container\" hidden><div class=\"sk-item\"><div class=\"sk-estimator sk-toggleable\"><input class=\"sk-toggleable__control sk-hidden--visually\" id=\"sk-estimator-id-11\" type=\"checkbox\" checked><label for=\"sk-estimator-id-11\" class=\"sk-toggleable__label sk-toggleable__label-arrow\">GradientBoostingRegressor</label><div class=\"sk-toggleable__content\"><pre>GradientBoostingRegressor(random_state=42)</pre></div></div></div></div></div>"
      ],
      "text/plain": [
       "GradientBoostingRegressor(random_state=42)"
      ]
     },
     "execution_count": 51,
     "metadata": {},
     "output_type": "execute_result"
    }
   ],
   "source": [
    "training_model = GradientBoostingRegressor(random_state=42)\n",
    "training_model"
   ]
  },
  {
   "cell_type": "code",
   "execution_count": 52,
   "id": "8bde6e56",
   "metadata": {
    "execution": {
     "iopub.execute_input": "2025-08-07T12:19:29.959723Z",
     "iopub.status.busy": "2025-08-07T12:19:29.959117Z",
     "iopub.status.idle": "2025-08-07T12:19:33.923330Z",
     "shell.execute_reply": "2025-08-07T12:19:33.921958Z"
    },
    "papermill": {
     "duration": 3.989589,
     "end_time": "2025-08-07T12:19:33.924683",
     "exception": false,
     "start_time": "2025-08-07T12:19:29.935094",
     "status": "completed"
    },
    "tags": []
   },
   "outputs": [
    {
     "name": "stdout",
     "output_type": "stream",
     "text": [
      "CPU times: user 3.95 s, sys: 0 ns, total: 3.95 s\n",
      "Wall time: 3.96 s\n"
     ]
    },
    {
     "data": {
      "text/html": [
       "<style>#sk-container-id-8 {color: black;background-color: white;}#sk-container-id-8 pre{padding: 0;}#sk-container-id-8 div.sk-toggleable {background-color: white;}#sk-container-id-8 label.sk-toggleable__label {cursor: pointer;display: block;width: 100%;margin-bottom: 0;padding: 0.3em;box-sizing: border-box;text-align: center;}#sk-container-id-8 label.sk-toggleable__label-arrow:before {content: \"▸\";float: left;margin-right: 0.25em;color: #696969;}#sk-container-id-8 label.sk-toggleable__label-arrow:hover:before {color: black;}#sk-container-id-8 div.sk-estimator:hover label.sk-toggleable__label-arrow:before {color: black;}#sk-container-id-8 div.sk-toggleable__content {max-height: 0;max-width: 0;overflow: hidden;text-align: left;background-color: #f0f8ff;}#sk-container-id-8 div.sk-toggleable__content pre {margin: 0.2em;color: black;border-radius: 0.25em;background-color: #f0f8ff;}#sk-container-id-8 input.sk-toggleable__control:checked~div.sk-toggleable__content {max-height: 200px;max-width: 100%;overflow: auto;}#sk-container-id-8 input.sk-toggleable__control:checked~label.sk-toggleable__label-arrow:before {content: \"▾\";}#sk-container-id-8 div.sk-estimator input.sk-toggleable__control:checked~label.sk-toggleable__label {background-color: #d4ebff;}#sk-container-id-8 div.sk-label input.sk-toggleable__control:checked~label.sk-toggleable__label {background-color: #d4ebff;}#sk-container-id-8 input.sk-hidden--visually {border: 0;clip: rect(1px 1px 1px 1px);clip: rect(1px, 1px, 1px, 1px);height: 1px;margin: -1px;overflow: hidden;padding: 0;position: absolute;width: 1px;}#sk-container-id-8 div.sk-estimator {font-family: monospace;background-color: #f0f8ff;border: 1px dotted black;border-radius: 0.25em;box-sizing: border-box;margin-bottom: 0.5em;}#sk-container-id-8 div.sk-estimator:hover {background-color: #d4ebff;}#sk-container-id-8 div.sk-parallel-item::after {content: \"\";width: 100%;border-bottom: 1px solid gray;flex-grow: 1;}#sk-container-id-8 div.sk-label:hover label.sk-toggleable__label {background-color: #d4ebff;}#sk-container-id-8 div.sk-serial::before {content: \"\";position: absolute;border-left: 1px solid gray;box-sizing: border-box;top: 0;bottom: 0;left: 50%;z-index: 0;}#sk-container-id-8 div.sk-serial {display: flex;flex-direction: column;align-items: center;background-color: white;padding-right: 0.2em;padding-left: 0.2em;position: relative;}#sk-container-id-8 div.sk-item {position: relative;z-index: 1;}#sk-container-id-8 div.sk-parallel {display: flex;align-items: stretch;justify-content: center;background-color: white;position: relative;}#sk-container-id-8 div.sk-item::before, #sk-container-id-8 div.sk-parallel-item::before {content: \"\";position: absolute;border-left: 1px solid gray;box-sizing: border-box;top: 0;bottom: 0;left: 50%;z-index: -1;}#sk-container-id-8 div.sk-parallel-item {display: flex;flex-direction: column;z-index: 1;position: relative;background-color: white;}#sk-container-id-8 div.sk-parallel-item:first-child::after {align-self: flex-end;width: 50%;}#sk-container-id-8 div.sk-parallel-item:last-child::after {align-self: flex-start;width: 50%;}#sk-container-id-8 div.sk-parallel-item:only-child::after {width: 0;}#sk-container-id-8 div.sk-dashed-wrapped {border: 1px dashed gray;margin: 0 0.4em 0.5em 0.4em;box-sizing: border-box;padding-bottom: 0.4em;background-color: white;}#sk-container-id-8 div.sk-label label {font-family: monospace;font-weight: bold;display: inline-block;line-height: 1.2em;}#sk-container-id-8 div.sk-label-container {text-align: center;}#sk-container-id-8 div.sk-container {/* jupyter's `normalize.less` sets `[hidden] { display: none; }` but bootstrap.min.css set `[hidden] { display: none !important; }` so we also need the `!important` here to be able to override the default hidden behavior on the sphinx rendered scikit-learn.org. See: https://github.com/scikit-learn/scikit-learn/issues/21755 */display: inline-block !important;position: relative;}#sk-container-id-8 div.sk-text-repr-fallback {display: none;}</style><div id=\"sk-container-id-8\" class=\"sk-top-container\"><div class=\"sk-text-repr-fallback\"><pre>GradientBoostingRegressor(random_state=42)</pre><b>In a Jupyter environment, please rerun this cell to show the HTML representation or trust the notebook. <br />On GitHub, the HTML representation is unable to render, please try loading this page with nbviewer.org.</b></div><div class=\"sk-container\" hidden><div class=\"sk-item\"><div class=\"sk-estimator sk-toggleable\"><input class=\"sk-toggleable__control sk-hidden--visually\" id=\"sk-estimator-id-12\" type=\"checkbox\" checked><label for=\"sk-estimator-id-12\" class=\"sk-toggleable__label sk-toggleable__label-arrow\">GradientBoostingRegressor</label><div class=\"sk-toggleable__content\"><pre>GradientBoostingRegressor(random_state=42)</pre></div></div></div></div></div>"
      ],
      "text/plain": [
       "GradientBoostingRegressor(random_state=42)"
      ]
     },
     "execution_count": 52,
     "metadata": {},
     "output_type": "execute_result"
    }
   ],
   "source": [
    "%%time\n",
    "training_model.fit(X_train, y_train)"
   ]
  },
  {
   "cell_type": "code",
   "execution_count": 53,
   "id": "b49359cb",
   "metadata": {
    "execution": {
     "iopub.execute_input": "2025-08-07T12:19:33.973245Z",
     "iopub.status.busy": "2025-08-07T12:19:33.972948Z",
     "iopub.status.idle": "2025-08-07T12:19:33.984105Z",
     "shell.execute_reply": "2025-08-07T12:19:33.983135Z"
    },
    "papermill": {
     "duration": 0.036733,
     "end_time": "2025-08-07T12:19:33.985566",
     "exception": false,
     "start_time": "2025-08-07T12:19:33.948833",
     "status": "completed"
    },
    "tags": []
   },
   "outputs": [
    {
     "data": {
      "text/plain": [
       "array([4.71643893, 4.18019133, 4.25719444, ..., 4.07062351, 4.587109  ,\n",
       "       4.81030893])"
      ]
     },
     "execution_count": 53,
     "metadata": {},
     "output_type": "execute_result"
    }
   ],
   "source": [
    "y_pred = training_model.predict(X_test)\n",
    "y_pred"
   ]
  },
  {
   "cell_type": "code",
   "execution_count": 54,
   "id": "56f4fd39",
   "metadata": {
    "execution": {
     "iopub.execute_input": "2025-08-07T12:19:34.035560Z",
     "iopub.status.busy": "2025-08-07T12:19:34.035251Z",
     "iopub.status.idle": "2025-08-07T12:19:34.042593Z",
     "shell.execute_reply": "2025-08-07T12:19:34.041713Z"
    },
    "papermill": {
     "duration": 0.033407,
     "end_time": "2025-08-07T12:19:34.044220",
     "exception": false,
     "start_time": "2025-08-07T12:19:34.010813",
     "status": "completed"
    },
    "tags": []
   },
   "outputs": [
    {
     "data": {
      "text/plain": [
       "5158     4.65\n",
       "3831     3.70\n",
       "5117     4.19\n",
       "6326     3.88\n",
       "11359    3.68\n",
       "         ... \n",
       "10290    5.17\n",
       "13995    4.48\n",
       "9665     3.91\n",
       "2276     4.00\n",
       "4174     4.65\n",
       "Name: Visibility, Length: 2924, dtype: float64"
      ]
     },
     "execution_count": 54,
     "metadata": {},
     "output_type": "execute_result"
    }
   ],
   "source": [
    "y_test"
   ]
  },
  {
   "cell_type": "code",
   "execution_count": 55,
   "id": "e4e43cab",
   "metadata": {
    "execution": {
     "iopub.execute_input": "2025-08-07T12:19:34.092722Z",
     "iopub.status.busy": "2025-08-07T12:19:34.092099Z",
     "iopub.status.idle": "2025-08-07T12:19:34.098459Z",
     "shell.execute_reply": "2025-08-07T12:19:34.097612Z"
    },
    "papermill": {
     "duration": 0.032015,
     "end_time": "2025-08-07T12:19:34.100006",
     "exception": false,
     "start_time": "2025-08-07T12:19:34.067991",
     "status": "completed"
    },
    "tags": []
   },
   "outputs": [],
   "source": [
    "mse = mean_squared_error(y_test, y_pred)\n",
    "mae = mean_absolute_error(y_test, y_pred)\n",
    "r2 = r2_score(y_test, y_pred)\n",
    "rmse = math.sqrt(mse)"
   ]
  },
  {
   "cell_type": "code",
   "execution_count": 56,
   "id": "29869b2f",
   "metadata": {
    "execution": {
     "iopub.execute_input": "2025-08-07T12:19:34.149644Z",
     "iopub.status.busy": "2025-08-07T12:19:34.149010Z",
     "iopub.status.idle": "2025-08-07T12:19:34.154171Z",
     "shell.execute_reply": "2025-08-07T12:19:34.153100Z"
    },
    "papermill": {
     "duration": 0.030632,
     "end_time": "2025-08-07T12:19:34.155402",
     "exception": false,
     "start_time": "2025-08-07T12:19:34.124770",
     "status": "completed"
    },
    "tags": []
   },
   "outputs": [
    {
     "name": "stdout",
     "output_type": "stream",
     "text": [
      "MSE Score: 0.9476672523024231\n",
      "MAE Score: 0.4321670032162307\n",
      "R2 Score: 0.5143580457600905\n",
      "RMSE Score: 0.973482024642686\n"
     ]
    }
   ],
   "source": [
    "print(\"MSE Score:\", mse)\n",
    "print(\"MAE Score:\", mae)\n",
    "print(\"R2 Score:\", r2)\n",
    "print(\"RMSE Score:\", rmse)"
   ]
  },
  {
   "cell_type": "code",
   "execution_count": 57,
   "id": "b89e7271",
   "metadata": {
    "execution": {
     "iopub.execute_input": "2025-08-07T12:19:34.204937Z",
     "iopub.status.busy": "2025-08-07T12:19:34.204655Z",
     "iopub.status.idle": "2025-08-07T12:19:34.215389Z",
     "shell.execute_reply": "2025-08-07T12:19:34.214470Z"
    },
    "papermill": {
     "duration": 0.037126,
     "end_time": "2025-08-07T12:19:34.216738",
     "exception": false,
     "start_time": "2025-08-07T12:19:34.179612",
     "status": "completed"
    },
    "tags": []
   },
   "outputs": [
    {
     "name": "stdout",
     "output_type": "stream",
     "text": [
      "✨ New regression model added:\n",
      "   MSE: 0.947667, R²: 0.514358\n",
      "   Features: 27\n",
      "💾 Registry updated: Model_Training_History/History_Regression.csv\n"
     ]
    }
   ],
   "source": [
    "regression_params = {\n",
    "    'model_name': model_name_for_saving,\n",
    "    'scaler_name': \"RobustScaler\",\n",
    "    'features_list': feature_columns_for_saving,\n",
    "    'target_column': target_name_for_saving,\n",
    "    'mse': mse,\n",
    "    'mae': mae,\n",
    "    'rmse': rmse,\n",
    "    'r2': r2,\n",
    "    'parameters': json.dumps(training_model.get_params())\n",
    "}\n",
    "save_model_performance_if_better('regression', regression_params)"
   ]
  },
  {
   "cell_type": "markdown",
   "id": "41b1383e",
   "metadata": {
    "papermill": {
     "duration": 0.024423,
     "end_time": "2025-08-07T12:19:34.265936",
     "exception": false,
     "start_time": "2025-08-07T12:19:34.241513",
     "status": "completed"
    },
    "tags": []
   },
   "source": [
    "### Tuning with Grid Search"
   ]
  },
  {
   "cell_type": "code",
   "execution_count": 58,
   "id": "3989f41b",
   "metadata": {
    "execution": {
     "iopub.execute_input": "2025-08-07T12:19:34.314173Z",
     "iopub.status.busy": "2025-08-07T12:19:34.313882Z",
     "iopub.status.idle": "2025-08-07T12:19:34.317876Z",
     "shell.execute_reply": "2025-08-07T12:19:34.317252Z"
    },
    "papermill": {
     "duration": 0.029654,
     "end_time": "2025-08-07T12:19:34.319079",
     "exception": false,
     "start_time": "2025-08-07T12:19:34.289425",
     "status": "completed"
    },
    "tags": []
   },
   "outputs": [],
   "source": [
    "grid_search = RandomizedSearchCV(\n",
    "    GradientBoostingRegressor(random_state=42), \n",
    "    grid_param,\n",
    "    n_iter=number_of_model_for_randomized_grid,\n",
    "    cv=5,\n",
    "    scoring='neg_mean_squared_error',\n",
    "    n_jobs=-1,\n",
    "    verbose=1,\n",
    "    random_state=42\n",
    ")"
   ]
  },
  {
   "cell_type": "code",
   "execution_count": 59,
   "id": "2a6d5e03",
   "metadata": {
    "execution": {
     "iopub.execute_input": "2025-08-07T12:19:34.367557Z",
     "iopub.status.busy": "2025-08-07T12:19:34.367252Z",
     "iopub.status.idle": "2025-08-07T14:02:15.861480Z",
     "shell.execute_reply": "2025-08-07T14:02:15.860538Z"
    },
    "papermill": {
     "duration": 6161.545059,
     "end_time": "2025-08-07T14:02:15.888107",
     "exception": false,
     "start_time": "2025-08-07T12:19:34.343048",
     "status": "completed"
    },
    "tags": []
   },
   "outputs": [
    {
     "name": "stdout",
     "output_type": "stream",
     "text": [
      "Starting hyperparameter tuning...\n",
      "Fitting 5 folds for each of 100 candidates, totalling 500 fits\n",
      "CPU times: user 23.8 s, sys: 7.6 s, total: 31.4 s\n",
      "Wall time: 1h 42min 41s\n"
     ]
    },
    {
     "data": {
      "text/html": [
       "<style>#sk-container-id-9 {color: black;background-color: white;}#sk-container-id-9 pre{padding: 0;}#sk-container-id-9 div.sk-toggleable {background-color: white;}#sk-container-id-9 label.sk-toggleable__label {cursor: pointer;display: block;width: 100%;margin-bottom: 0;padding: 0.3em;box-sizing: border-box;text-align: center;}#sk-container-id-9 label.sk-toggleable__label-arrow:before {content: \"▸\";float: left;margin-right: 0.25em;color: #696969;}#sk-container-id-9 label.sk-toggleable__label-arrow:hover:before {color: black;}#sk-container-id-9 div.sk-estimator:hover label.sk-toggleable__label-arrow:before {color: black;}#sk-container-id-9 div.sk-toggleable__content {max-height: 0;max-width: 0;overflow: hidden;text-align: left;background-color: #f0f8ff;}#sk-container-id-9 div.sk-toggleable__content pre {margin: 0.2em;color: black;border-radius: 0.25em;background-color: #f0f8ff;}#sk-container-id-9 input.sk-toggleable__control:checked~div.sk-toggleable__content {max-height: 200px;max-width: 100%;overflow: auto;}#sk-container-id-9 input.sk-toggleable__control:checked~label.sk-toggleable__label-arrow:before {content: \"▾\";}#sk-container-id-9 div.sk-estimator input.sk-toggleable__control:checked~label.sk-toggleable__label {background-color: #d4ebff;}#sk-container-id-9 div.sk-label input.sk-toggleable__control:checked~label.sk-toggleable__label {background-color: #d4ebff;}#sk-container-id-9 input.sk-hidden--visually {border: 0;clip: rect(1px 1px 1px 1px);clip: rect(1px, 1px, 1px, 1px);height: 1px;margin: -1px;overflow: hidden;padding: 0;position: absolute;width: 1px;}#sk-container-id-9 div.sk-estimator {font-family: monospace;background-color: #f0f8ff;border: 1px dotted black;border-radius: 0.25em;box-sizing: border-box;margin-bottom: 0.5em;}#sk-container-id-9 div.sk-estimator:hover {background-color: #d4ebff;}#sk-container-id-9 div.sk-parallel-item::after {content: \"\";width: 100%;border-bottom: 1px solid gray;flex-grow: 1;}#sk-container-id-9 div.sk-label:hover label.sk-toggleable__label {background-color: #d4ebff;}#sk-container-id-9 div.sk-serial::before {content: \"\";position: absolute;border-left: 1px solid gray;box-sizing: border-box;top: 0;bottom: 0;left: 50%;z-index: 0;}#sk-container-id-9 div.sk-serial {display: flex;flex-direction: column;align-items: center;background-color: white;padding-right: 0.2em;padding-left: 0.2em;position: relative;}#sk-container-id-9 div.sk-item {position: relative;z-index: 1;}#sk-container-id-9 div.sk-parallel {display: flex;align-items: stretch;justify-content: center;background-color: white;position: relative;}#sk-container-id-9 div.sk-item::before, #sk-container-id-9 div.sk-parallel-item::before {content: \"\";position: absolute;border-left: 1px solid gray;box-sizing: border-box;top: 0;bottom: 0;left: 50%;z-index: -1;}#sk-container-id-9 div.sk-parallel-item {display: flex;flex-direction: column;z-index: 1;position: relative;background-color: white;}#sk-container-id-9 div.sk-parallel-item:first-child::after {align-self: flex-end;width: 50%;}#sk-container-id-9 div.sk-parallel-item:last-child::after {align-self: flex-start;width: 50%;}#sk-container-id-9 div.sk-parallel-item:only-child::after {width: 0;}#sk-container-id-9 div.sk-dashed-wrapped {border: 1px dashed gray;margin: 0 0.4em 0.5em 0.4em;box-sizing: border-box;padding-bottom: 0.4em;background-color: white;}#sk-container-id-9 div.sk-label label {font-family: monospace;font-weight: bold;display: inline-block;line-height: 1.2em;}#sk-container-id-9 div.sk-label-container {text-align: center;}#sk-container-id-9 div.sk-container {/* jupyter's `normalize.less` sets `[hidden] { display: none; }` but bootstrap.min.css set `[hidden] { display: none !important; }` so we also need the `!important` here to be able to override the default hidden behavior on the sphinx rendered scikit-learn.org. See: https://github.com/scikit-learn/scikit-learn/issues/21755 */display: inline-block !important;position: relative;}#sk-container-id-9 div.sk-text-repr-fallback {display: none;}</style><div id=\"sk-container-id-9\" class=\"sk-top-container\"><div class=\"sk-text-repr-fallback\"><pre>RandomizedSearchCV(cv=5, estimator=GradientBoostingRegressor(random_state=42),\n",
       "                   n_iter=100, n_jobs=-1,\n",
       "                   param_distributions={&#x27;learning_rate&#x27;: [0.01, 0.05, 0.1],\n",
       "                                        &#x27;loss&#x27;: [&#x27;squared_error&#x27;, &#x27;huber&#x27;],\n",
       "                                        &#x27;max_depth&#x27;: [None, 10, 20, 30],\n",
       "                                        &#x27;max_features&#x27;: [&#x27;sqrt&#x27;, &#x27;log2&#x27;, None],\n",
       "                                        &#x27;min_samples_leaf&#x27;: [1, 2, 4, 6],\n",
       "                                        &#x27;min_samples_split&#x27;: [2, 5, 10, 15, 20],\n",
       "                                        &#x27;n_estimators&#x27;: [100, 200, 300],\n",
       "                                        &#x27;subsample&#x27;: [0.7, 0.8, 0.9]},\n",
       "                   random_state=42, scoring=&#x27;neg_mean_squared_error&#x27;,\n",
       "                   verbose=1)</pre><b>In a Jupyter environment, please rerun this cell to show the HTML representation or trust the notebook. <br />On GitHub, the HTML representation is unable to render, please try loading this page with nbviewer.org.</b></div><div class=\"sk-container\" hidden><div class=\"sk-item sk-dashed-wrapped\"><div class=\"sk-label-container\"><div class=\"sk-label sk-toggleable\"><input class=\"sk-toggleable__control sk-hidden--visually\" id=\"sk-estimator-id-13\" type=\"checkbox\" ><label for=\"sk-estimator-id-13\" class=\"sk-toggleable__label sk-toggleable__label-arrow\">RandomizedSearchCV</label><div class=\"sk-toggleable__content\"><pre>RandomizedSearchCV(cv=5, estimator=GradientBoostingRegressor(random_state=42),\n",
       "                   n_iter=100, n_jobs=-1,\n",
       "                   param_distributions={&#x27;learning_rate&#x27;: [0.01, 0.05, 0.1],\n",
       "                                        &#x27;loss&#x27;: [&#x27;squared_error&#x27;, &#x27;huber&#x27;],\n",
       "                                        &#x27;max_depth&#x27;: [None, 10, 20, 30],\n",
       "                                        &#x27;max_features&#x27;: [&#x27;sqrt&#x27;, &#x27;log2&#x27;, None],\n",
       "                                        &#x27;min_samples_leaf&#x27;: [1, 2, 4, 6],\n",
       "                                        &#x27;min_samples_split&#x27;: [2, 5, 10, 15, 20],\n",
       "                                        &#x27;n_estimators&#x27;: [100, 200, 300],\n",
       "                                        &#x27;subsample&#x27;: [0.7, 0.8, 0.9]},\n",
       "                   random_state=42, scoring=&#x27;neg_mean_squared_error&#x27;,\n",
       "                   verbose=1)</pre></div></div></div><div class=\"sk-parallel\"><div class=\"sk-parallel-item\"><div class=\"sk-item\"><div class=\"sk-label-container\"><div class=\"sk-label sk-toggleable\"><input class=\"sk-toggleable__control sk-hidden--visually\" id=\"sk-estimator-id-14\" type=\"checkbox\" ><label for=\"sk-estimator-id-14\" class=\"sk-toggleable__label sk-toggleable__label-arrow\">estimator: GradientBoostingRegressor</label><div class=\"sk-toggleable__content\"><pre>GradientBoostingRegressor(random_state=42)</pre></div></div></div><div class=\"sk-serial\"><div class=\"sk-item\"><div class=\"sk-estimator sk-toggleable\"><input class=\"sk-toggleable__control sk-hidden--visually\" id=\"sk-estimator-id-15\" type=\"checkbox\" ><label for=\"sk-estimator-id-15\" class=\"sk-toggleable__label sk-toggleable__label-arrow\">GradientBoostingRegressor</label><div class=\"sk-toggleable__content\"><pre>GradientBoostingRegressor(random_state=42)</pre></div></div></div></div></div></div></div></div></div></div>"
      ],
      "text/plain": [
       "RandomizedSearchCV(cv=5, estimator=GradientBoostingRegressor(random_state=42),\n",
       "                   n_iter=100, n_jobs=-1,\n",
       "                   param_distributions={'learning_rate': [0.01, 0.05, 0.1],\n",
       "                                        'loss': ['squared_error', 'huber'],\n",
       "                                        'max_depth': [None, 10, 20, 30],\n",
       "                                        'max_features': ['sqrt', 'log2', None],\n",
       "                                        'min_samples_leaf': [1, 2, 4, 6],\n",
       "                                        'min_samples_split': [2, 5, 10, 15, 20],\n",
       "                                        'n_estimators': [100, 200, 300],\n",
       "                                        'subsample': [0.7, 0.8, 0.9]},\n",
       "                   random_state=42, scoring='neg_mean_squared_error',\n",
       "                   verbose=1)"
      ]
     },
     "execution_count": 59,
     "metadata": {},
     "output_type": "execute_result"
    }
   ],
   "source": [
    "%%time\n",
    "print(\"Starting hyperparameter tuning...\")\n",
    "grid_search.fit(X_train, y_train)"
   ]
  },
  {
   "cell_type": "code",
   "execution_count": 60,
   "id": "7b189790",
   "metadata": {
    "execution": {
     "iopub.execute_input": "2025-08-07T14:02:15.938092Z",
     "iopub.status.busy": "2025-08-07T14:02:15.937827Z",
     "iopub.status.idle": "2025-08-07T14:02:15.943167Z",
     "shell.execute_reply": "2025-08-07T14:02:15.942313Z"
    },
    "papermill": {
     "duration": 0.032432,
     "end_time": "2025-08-07T14:02:15.944434",
     "exception": false,
     "start_time": "2025-08-07T14:02:15.912002",
     "status": "completed"
    },
    "tags": []
   },
   "outputs": [
    {
     "name": "stdout",
     "output_type": "stream",
     "text": [
      "TUNING RESULTS\n",
      "==================================================\n",
      "Best Parameters: {'subsample': 0.8, 'n_estimators': 300, 'min_samples_split': 20, 'min_samples_leaf': 6, 'max_features': 'sqrt', 'max_depth': 20, 'loss': 'squared_error', 'learning_rate': 0.05}\n",
      "Best Cross-Validation Score (Negative MSE): -0.6299911368845106\n",
      "Best Cross-Validation Score (MSE): 0.6299911368845106\n",
      "Best Cross-Validation Score (RMSE): 0.7937198100617816\n"
     ]
    }
   ],
   "source": [
    "print(\"TUNING RESULTS\")\n",
    "print(\"=\"*50)\n",
    "print(\"Best Parameters:\", grid_search.best_params_)\n",
    "print(\"Best Cross-Validation Score (Negative MSE):\", grid_search.best_score_)\n",
    "print(\"Best Cross-Validation Score (MSE):\", -grid_search.best_score_)\n",
    "print(\"Best Cross-Validation Score (RMSE):\", math.sqrt(-grid_search.best_score_))"
   ]
  },
  {
   "cell_type": "code",
   "execution_count": 61,
   "id": "4e0467bd",
   "metadata": {
    "execution": {
     "iopub.execute_input": "2025-08-07T14:02:15.993700Z",
     "iopub.status.busy": "2025-08-07T14:02:15.993169Z",
     "iopub.status.idle": "2025-08-07T14:02:16.092999Z",
     "shell.execute_reply": "2025-08-07T14:02:16.092159Z"
    },
    "papermill": {
     "duration": 0.125774,
     "end_time": "2025-08-07T14:02:16.094554",
     "exception": false,
     "start_time": "2025-08-07T14:02:15.968780",
     "status": "completed"
    },
    "tags": []
   },
   "outputs": [],
   "source": [
    "grid_search_best_model = grid_search.best_estimator_\n",
    "y_pred = grid_search_best_model.predict(X_test)"
   ]
  },
  {
   "cell_type": "code",
   "execution_count": 62,
   "id": "7b723d79",
   "metadata": {
    "execution": {
     "iopub.execute_input": "2025-08-07T14:02:16.144199Z",
     "iopub.status.busy": "2025-08-07T14:02:16.143923Z",
     "iopub.status.idle": "2025-08-07T14:02:16.150435Z",
     "shell.execute_reply": "2025-08-07T14:02:16.149704Z"
    },
    "papermill": {
     "duration": 0.03251,
     "end_time": "2025-08-07T14:02:16.151806",
     "exception": false,
     "start_time": "2025-08-07T14:02:16.119296",
     "status": "completed"
    },
    "tags": []
   },
   "outputs": [],
   "source": [
    "mse_grid_search = mean_squared_error(y_test, y_pred)\n",
    "mae_grid_search = mean_absolute_error(y_test, y_pred)\n",
    "r2_grid_search = r2_score(y_test, y_pred)\n",
    "rmse_grid_search = math.sqrt(mse_grid_search)"
   ]
  },
  {
   "cell_type": "code",
   "execution_count": 63,
   "id": "5fb764ad",
   "metadata": {
    "execution": {
     "iopub.execute_input": "2025-08-07T14:02:16.201168Z",
     "iopub.status.busy": "2025-08-07T14:02:16.200890Z",
     "iopub.status.idle": "2025-08-07T14:02:16.205810Z",
     "shell.execute_reply": "2025-08-07T14:02:16.204645Z"
    },
    "papermill": {
     "duration": 0.031279,
     "end_time": "2025-08-07T14:02:16.207286",
     "exception": false,
     "start_time": "2025-08-07T14:02:16.176007",
     "status": "completed"
    },
    "tags": []
   },
   "outputs": [
    {
     "name": "stdout",
     "output_type": "stream",
     "text": [
      "MSE Score: 0.7056115496351187\n",
      "MAE Score: 0.35481212192160977\n",
      "R2 Score: 0.6384020118174407\n",
      "RMSE Score: 0.8400068747546765\n"
     ]
    }
   ],
   "source": [
    "print(\"MSE Score:\", mse_grid_search)\n",
    "print(\"MAE Score:\", mae_grid_search)\n",
    "print(\"R2 Score:\", r2_grid_search)\n",
    "print(\"RMSE Score:\", rmse_grid_search)"
   ]
  },
  {
   "cell_type": "code",
   "execution_count": 64,
   "id": "b2ca7b33",
   "metadata": {
    "execution": {
     "iopub.execute_input": "2025-08-07T14:02:16.259194Z",
     "iopub.status.busy": "2025-08-07T14:02:16.258932Z",
     "iopub.status.idle": "2025-08-07T14:02:16.270709Z",
     "shell.execute_reply": "2025-08-07T14:02:16.269854Z"
    },
    "papermill": {
     "duration": 0.038706,
     "end_time": "2025-08-07T14:02:16.272003",
     "exception": false,
     "start_time": "2025-08-07T14:02:16.233297",
     "status": "completed"
    },
    "tags": []
   },
   "outputs": [
    {
     "name": "stdout",
     "output_type": "stream",
     "text": [
      "✨ New regression model added:\n",
      "   MSE: 0.705612, R²: 0.638402\n",
      "   Features: 27\n",
      "💾 Registry updated: Model_Training_History/History_Regression.csv\n"
     ]
    }
   ],
   "source": [
    "regression_params = {\n",
    "    'model_name': model_name_for_saving + \" Tuned\",\n",
    "    'scaler_name': \"RobustScaler\",\n",
    "    'features_list': feature_columns_for_saving,\n",
    "    'target_column': target_name_for_saving,\n",
    "    'mse': mse_grid_search,\n",
    "    'mae': mae_grid_search,\n",
    "    'rmse': rmse_grid_search,\n",
    "    'r2': r2_grid_search,\n",
    "    'parameters' : json.dumps({\n",
    "        \"best_params\": grid_search.best_params_,\n",
    "        \"cv_score\": grid_search.best_score_,\n",
    "        \"all_params\": grid_search_best_model.get_params()\n",
    "    })\n",
    "}\n",
    "save_model_performance_if_better('regression', regression_params)"
   ]
  },
  {
   "cell_type": "markdown",
   "id": "4edf88d8",
   "metadata": {
    "papermill": {
     "duration": 0.025769,
     "end_time": "2025-08-07T14:02:16.324395",
     "exception": false,
     "start_time": "2025-08-07T14:02:16.298626",
     "status": "completed"
    },
    "tags": []
   },
   "source": [
    "# Selected Features"
   ]
  },
  {
   "cell_type": "code",
   "execution_count": 65,
   "id": "94616c5d",
   "metadata": {
    "execution": {
     "iopub.execute_input": "2025-08-07T14:02:16.373995Z",
     "iopub.status.busy": "2025-08-07T14:02:16.373361Z",
     "iopub.status.idle": "2025-08-07T14:02:16.436561Z",
     "shell.execute_reply": "2025-08-07T14:02:16.435594Z"
    },
    "papermill": {
     "duration": 0.089461,
     "end_time": "2025-08-07T14:02:16.438020",
     "exception": false,
     "start_time": "2025-08-07T14:02:16.348559",
     "status": "completed"
    },
    "tags": []
   },
   "outputs": [
    {
     "name": "stdout",
     "output_type": "stream",
     "text": [
      "Visibility                   1.000000\n",
      "Temp                         0.445302\n",
      "FeelsLike                    0.420084\n",
      "Dew                          0.263350\n",
      "Season_Rainy                 0.205205\n",
      "Windgust                     0.177655\n",
      "Month                        0.170496\n",
      "WindSpeed                    0.160971\n",
      "SevereRisk                   0.139495\n",
      "Season_Summer                0.111505\n",
      "Hour                         0.108095\n",
      "Year                         0.094151\n",
      "DaySegments_Evening          0.093931\n",
      "DaySegments_Midday           0.081819\n",
      "CloudCover                   0.078414\n",
      "PrecipProb                   0.077142\n",
      "Day                          0.067361\n",
      "UVIndex                      0.055563\n",
      "SolarEnergy                  0.054855\n",
      "SolarRadiation               0.054367\n",
      "DaySegments_Night            0.052737\n",
      "DaySegments_Afternoon        0.042864\n",
      "Season_Autumn                0.028047\n",
      "WindDir                     -0.003214\n",
      "Precip                      -0.003620\n",
      "DaySegments_Late Night      -0.010289\n",
      "DaySegments_Early Morning   -0.035550\n",
      "DaySegments_Morning         -0.168267\n",
      "Humidity                    -0.220838\n",
      "SeaLevelPressure            -0.333891\n",
      "Season_Winter               -0.360738\n",
      "Name: Visibility, dtype: float64\n"
     ]
    }
   ],
   "source": [
    "numeric_cols = weather_data.select_dtypes(include=[float, int]).columns\n",
    "correlations = weather_data[numeric_cols].corr()['Visibility'].sort_values(ascending=False)\n",
    "print(correlations)"
   ]
  },
  {
   "cell_type": "code",
   "execution_count": 66,
   "id": "1844f2e5",
   "metadata": {
    "execution": {
     "iopub.execute_input": "2025-08-07T14:02:16.488640Z",
     "iopub.status.busy": "2025-08-07T14:02:16.488317Z",
     "iopub.status.idle": "2025-08-07T14:02:16.504464Z",
     "shell.execute_reply": "2025-08-07T14:02:16.503542Z"
    },
    "papermill": {
     "duration": 0.042996,
     "end_time": "2025-08-07T14:02:16.505999",
     "exception": false,
     "start_time": "2025-08-07T14:02:16.463003",
     "status": "completed"
    },
    "tags": []
   },
   "outputs": [
    {
     "name": "stdout",
     "output_type": "stream",
     "text": [
      "<class 'pandas.core.frame.DataFrame'>\n",
      "RangeIndex: 14616 entries, 0 to 14615\n",
      "Data columns (total 36 columns):\n",
      " #   Column                     Non-Null Count  Dtype         \n",
      "---  ------                     --------------  -----         \n",
      " 0   DateTime                   14616 non-null  datetime64[ns]\n",
      " 1   Year                       14616 non-null  int64         \n",
      " 2   Month                      14616 non-null  int64         \n",
      " 3   Day                        14616 non-null  int64         \n",
      " 4   Hour                       14616 non-null  int64         \n",
      " 5   DaySegments                14616 non-null  object        \n",
      " 6   DaySegments_Afternoon      14616 non-null  int64         \n",
      " 7   DaySegments_Early Morning  14616 non-null  int64         \n",
      " 8   DaySegments_Evening        14616 non-null  int64         \n",
      " 9   DaySegments_Late Night     14616 non-null  int64         \n",
      " 10  DaySegments_Midday         14616 non-null  int64         \n",
      " 11  DaySegments_Morning        14616 non-null  int64         \n",
      " 12  DaySegments_Night          14616 non-null  int64         \n",
      " 13  Season_Autumn              14616 non-null  int64         \n",
      " 14  Season_Rainy               14616 non-null  int64         \n",
      " 15  Season_Summer              14616 non-null  int64         \n",
      " 16  Season_Winter              14616 non-null  int64         \n",
      " 17  Season                     14616 non-null  object        \n",
      " 18  Temp                       14616 non-null  float64       \n",
      " 19  FeelsLike                  14616 non-null  float64       \n",
      " 20  Dew                        14616 non-null  float64       \n",
      " 21  Humidity                   14616 non-null  float64       \n",
      " 22  Precip                     14616 non-null  float64       \n",
      " 23  PrecipProb                 14616 non-null  float64       \n",
      " 24  Windgust                   14616 non-null  float64       \n",
      " 25  WindSpeed                  14616 non-null  float64       \n",
      " 26  WindDir                    14616 non-null  float64       \n",
      " 27  SeaLevelPressure           14616 non-null  float64       \n",
      " 28  CloudCover                 14616 non-null  float64       \n",
      " 29  UVIndex                    14616 non-null  float64       \n",
      " 30  SevereRisk                 14616 non-null  float64       \n",
      " 31  Visibility                 14616 non-null  float64       \n",
      " 32  SolarRadiation             14616 non-null  float64       \n",
      " 33  SolarEnergy                14616 non-null  float64       \n",
      " 34  Conditions                 14616 non-null  object        \n",
      " 35  Icon                       14616 non-null  object        \n",
      "dtypes: datetime64[ns](1), float64(16), int64(15), object(4)\n",
      "memory usage: 4.0+ MB\n"
     ]
    }
   ],
   "source": [
    "weather_data.info()"
   ]
  },
  {
   "cell_type": "markdown",
   "id": "b3f9a2e2",
   "metadata": {
    "papermill": {
     "duration": 0.024342,
     "end_time": "2025-08-07T14:02:16.556129",
     "exception": false,
     "start_time": "2025-08-07T14:02:16.531787",
     "status": "completed"
    },
    "tags": []
   },
   "source": [
    "## Run Again"
   ]
  },
  {
   "cell_type": "code",
   "execution_count": 67,
   "id": "1d5e4cbf",
   "metadata": {
    "execution": {
     "iopub.execute_input": "2025-08-07T14:02:16.605699Z",
     "iopub.status.busy": "2025-08-07T14:02:16.605380Z",
     "iopub.status.idle": "2025-08-07T14:02:16.612571Z",
     "shell.execute_reply": "2025-08-07T14:02:16.611775Z"
    },
    "papermill": {
     "duration": 0.033838,
     "end_time": "2025-08-07T14:02:16.614161",
     "exception": false,
     "start_time": "2025-08-07T14:02:16.580323",
     "status": "completed"
    },
    "tags": []
   },
   "outputs": [],
   "source": [
    "X_train_raw = weather_data_train.drop(columns=['DateTime', # Model cannot use DateTime as a feature\n",
    "                                                'Year', # No Effect on weather data\n",
    "                                                'Season', # Season is categorical, not numerical\n",
    "                                                'DaySegments', # DaySegments is categorical, not numerical\n",
    "                                                'Visibility',  # Target variable\n",
    "                                                'SolarRadiation', # Target variable\n",
    "                                                'SolarEnergy', # Target variable\n",
    "                                                'Conditions', # Target variable\n",
    "                                                'Icon', # Target variable\n",
    "                                                \n",
    "                                                'Day', # same day from different month act differently\n",
    "                                                'WindDir', # very low correlation with Visibility\n",
    "                                                'Precip']) # very low correlation with Visibility\n",
    "y_train = weather_data_train['Visibility']"
   ]
  },
  {
   "cell_type": "code",
   "execution_count": 68,
   "id": "3405cb5b",
   "metadata": {
    "execution": {
     "iopub.execute_input": "2025-08-07T14:02:16.664251Z",
     "iopub.status.busy": "2025-08-07T14:02:16.663985Z",
     "iopub.status.idle": "2025-08-07T14:02:16.670936Z",
     "shell.execute_reply": "2025-08-07T14:02:16.670206Z"
    },
    "papermill": {
     "duration": 0.03333,
     "end_time": "2025-08-07T14:02:16.672444",
     "exception": false,
     "start_time": "2025-08-07T14:02:16.639114",
     "status": "completed"
    },
    "tags": []
   },
   "outputs": [],
   "source": [
    "X_test_raw = weather_data_test.drop(columns=['DateTime', # Model cannot use DateTime as a feature\n",
    "                                                'Year', # No Effect on weather data\n",
    "                                                'Season', # Season is categorical, not numerical\n",
    "                                                'DaySegments', # DaySegments is categorical, not numerical\n",
    "                                                'Visibility',  # Target variable\n",
    "                                                'SolarRadiation', # Target variable\n",
    "                                                'SolarEnergy', # Target variable\n",
    "                                                'Conditions', # Target variable\n",
    "                                                'Icon', # Target variable\n",
    "                                                \n",
    "                                                'Day', # same day from different month act differently\n",
    "                                                'WindDir', # very low correlation with Visibility\n",
    "                                                'Precip']) # very low correlation with Visibility\n",
    "y_test = weather_data_test['Visibility']"
   ]
  },
  {
   "cell_type": "code",
   "execution_count": 69,
   "id": "d587cde5",
   "metadata": {
    "execution": {
     "iopub.execute_input": "2025-08-07T14:02:16.725254Z",
     "iopub.status.busy": "2025-08-07T14:02:16.724904Z",
     "iopub.status.idle": "2025-08-07T14:02:16.729754Z",
     "shell.execute_reply": "2025-08-07T14:02:16.728777Z"
    },
    "papermill": {
     "duration": 0.032489,
     "end_time": "2025-08-07T14:02:16.731184",
     "exception": false,
     "start_time": "2025-08-07T14:02:16.698695",
     "status": "completed"
    },
    "tags": []
   },
   "outputs": [],
   "source": [
    "feature_columns = [col for col in X_train_raw.columns]\n",
    "feature_columns_for_saving = ','.join(feature_columns)"
   ]
  },
  {
   "cell_type": "code",
   "execution_count": 70,
   "id": "998d9acd",
   "metadata": {
    "execution": {
     "iopub.execute_input": "2025-08-07T14:02:16.781868Z",
     "iopub.status.busy": "2025-08-07T14:02:16.781571Z",
     "iopub.status.idle": "2025-08-07T14:02:16.787074Z",
     "shell.execute_reply": "2025-08-07T14:02:16.785998Z"
    },
    "papermill": {
     "duration": 0.031769,
     "end_time": "2025-08-07T14:02:16.788499",
     "exception": false,
     "start_time": "2025-08-07T14:02:16.756730",
     "status": "completed"
    },
    "tags": []
   },
   "outputs": [
    {
     "name": "stdout",
     "output_type": "stream",
     "text": [
      "X_train:  11692\n",
      "y_train:  11692\n",
      "\n",
      "X_test:  2924\n",
      "y_test:  2924\n"
     ]
    }
   ],
   "source": [
    "print(\"X_train: \", len(X_train_raw))\n",
    "print(\"y_train: \", len(y_train))\n",
    "print(\"\\nX_test: \", len(X_test_raw))\n",
    "print(\"y_test: \", len(y_test))"
   ]
  },
  {
   "cell_type": "markdown",
   "id": "384ac34e",
   "metadata": {
    "papermill": {
     "duration": 0.025446,
     "end_time": "2025-08-07T14:02:16.840370",
     "exception": false,
     "start_time": "2025-08-07T14:02:16.814924",
     "status": "completed"
    },
    "tags": []
   },
   "source": [
    "### MinMax Scaler"
   ]
  },
  {
   "cell_type": "code",
   "execution_count": 71,
   "id": "9194f064",
   "metadata": {
    "execution": {
     "iopub.execute_input": "2025-08-07T14:02:16.890835Z",
     "iopub.status.busy": "2025-08-07T14:02:16.889976Z",
     "iopub.status.idle": "2025-08-07T14:02:16.902447Z",
     "shell.execute_reply": "2025-08-07T14:02:16.901357Z"
    },
    "papermill": {
     "duration": 0.039712,
     "end_time": "2025-08-07T14:02:16.904186",
     "exception": false,
     "start_time": "2025-08-07T14:02:16.864474",
     "status": "completed"
    },
    "tags": []
   },
   "outputs": [],
   "source": [
    "scaler = MinMaxScaler()\n",
    "X_train = scaler.fit_transform(X_train_raw)\n",
    "X_test = scaler.transform(X_test_raw)"
   ]
  },
  {
   "cell_type": "code",
   "execution_count": 72,
   "id": "f783a9cb",
   "metadata": {
    "execution": {
     "iopub.execute_input": "2025-08-07T14:02:16.955798Z",
     "iopub.status.busy": "2025-08-07T14:02:16.955473Z",
     "iopub.status.idle": "2025-08-07T14:02:16.960963Z",
     "shell.execute_reply": "2025-08-07T14:02:16.960208Z"
    },
    "papermill": {
     "duration": 0.031992,
     "end_time": "2025-08-07T14:02:16.962303",
     "exception": false,
     "start_time": "2025-08-07T14:02:16.930311",
     "status": "completed"
    },
    "tags": []
   },
   "outputs": [
    {
     "data": {
      "text/plain": [
       "array([[0.72727273, 0.43478261, 0.        , ..., 0.4922    , 0.697     ,\n",
       "        0.31560059],\n",
       "       [0.90909091, 0.69565217, 1.        , ..., 0.        , 0.303     ,\n",
       "        0.07388643],\n",
       "       [0.09090909, 0.        , 0.        , ..., 0.        , 0.        ,\n",
       "        0.07388643],\n",
       "       ...,\n",
       "       [0.63636364, 0.43478261, 0.        , ..., 0.8756    , 0.306     ,\n",
       "        0.09436352],\n",
       "       [0.        , 0.91304348, 0.        , ..., 0.        , 0.        ,\n",
       "        0.07388643],\n",
       "       [0.72727273, 0.34782609, 0.        , ..., 0.8925    , 0.29      ,\n",
       "        0.27812962]])"
      ]
     },
     "execution_count": 72,
     "metadata": {},
     "output_type": "execute_result"
    }
   ],
   "source": [
    "X_train"
   ]
  },
  {
   "cell_type": "code",
   "execution_count": 73,
   "id": "eddddf1a",
   "metadata": {
    "execution": {
     "iopub.execute_input": "2025-08-07T14:02:17.012921Z",
     "iopub.status.busy": "2025-08-07T14:02:17.012622Z",
     "iopub.status.idle": "2025-08-07T14:02:17.018196Z",
     "shell.execute_reply": "2025-08-07T14:02:17.017457Z"
    },
    "papermill": {
     "duration": 0.032276,
     "end_time": "2025-08-07T14:02:17.019452",
     "exception": false,
     "start_time": "2025-08-07T14:02:16.987176",
     "status": "completed"
    },
    "tags": []
   },
   "outputs": [
    {
     "data": {
      "text/plain": [
       "array([[0.63636364, 0.95652174, 0.        , ..., 0.894     , 0.        ,\n",
       "        0.07388643],\n",
       "       [0.45454545, 0.65217391, 1.        , ..., 0.9677    , 0.074     ,\n",
       "        0.07388643],\n",
       "       [0.63636364, 0.2173913 , 0.        , ..., 0.9935    , 0.        ,\n",
       "        0.07388643],\n",
       "       ...,\n",
       "       [0.09090909, 0.73913043, 1.        , ..., 0.0013    , 0.203     ,\n",
       "        0.07388643],\n",
       "       [0.27272727, 0.86956522, 0.        , ..., 0.        , 0.        ,\n",
       "        0.25575259],\n",
       "       [0.45454545, 0.95652174, 0.        , ..., 0.5161    , 0.        ,\n",
       "        0.07388643]])"
      ]
     },
     "execution_count": 73,
     "metadata": {},
     "output_type": "execute_result"
    }
   ],
   "source": [
    "X_test"
   ]
  },
  {
   "cell_type": "markdown",
   "id": "2b02a55e",
   "metadata": {
    "papermill": {
     "duration": 0.024777,
     "end_time": "2025-08-07T14:02:17.069172",
     "exception": false,
     "start_time": "2025-08-07T14:02:17.044395",
     "status": "completed"
    },
    "tags": []
   },
   "source": [
    "#### Default Parameters"
   ]
  },
  {
   "cell_type": "code",
   "execution_count": 74,
   "id": "1bdfa4b4",
   "metadata": {
    "execution": {
     "iopub.execute_input": "2025-08-07T14:02:17.120988Z",
     "iopub.status.busy": "2025-08-07T14:02:17.120698Z",
     "iopub.status.idle": "2025-08-07T14:02:17.127569Z",
     "shell.execute_reply": "2025-08-07T14:02:17.126788Z"
    },
    "papermill": {
     "duration": 0.03385,
     "end_time": "2025-08-07T14:02:17.128895",
     "exception": false,
     "start_time": "2025-08-07T14:02:17.095045",
     "status": "completed"
    },
    "tags": []
   },
   "outputs": [
    {
     "data": {
      "text/html": [
       "<style>#sk-container-id-10 {color: black;background-color: white;}#sk-container-id-10 pre{padding: 0;}#sk-container-id-10 div.sk-toggleable {background-color: white;}#sk-container-id-10 label.sk-toggleable__label {cursor: pointer;display: block;width: 100%;margin-bottom: 0;padding: 0.3em;box-sizing: border-box;text-align: center;}#sk-container-id-10 label.sk-toggleable__label-arrow:before {content: \"▸\";float: left;margin-right: 0.25em;color: #696969;}#sk-container-id-10 label.sk-toggleable__label-arrow:hover:before {color: black;}#sk-container-id-10 div.sk-estimator:hover label.sk-toggleable__label-arrow:before {color: black;}#sk-container-id-10 div.sk-toggleable__content {max-height: 0;max-width: 0;overflow: hidden;text-align: left;background-color: #f0f8ff;}#sk-container-id-10 div.sk-toggleable__content pre {margin: 0.2em;color: black;border-radius: 0.25em;background-color: #f0f8ff;}#sk-container-id-10 input.sk-toggleable__control:checked~div.sk-toggleable__content {max-height: 200px;max-width: 100%;overflow: auto;}#sk-container-id-10 input.sk-toggleable__control:checked~label.sk-toggleable__label-arrow:before {content: \"▾\";}#sk-container-id-10 div.sk-estimator input.sk-toggleable__control:checked~label.sk-toggleable__label {background-color: #d4ebff;}#sk-container-id-10 div.sk-label input.sk-toggleable__control:checked~label.sk-toggleable__label {background-color: #d4ebff;}#sk-container-id-10 input.sk-hidden--visually {border: 0;clip: rect(1px 1px 1px 1px);clip: rect(1px, 1px, 1px, 1px);height: 1px;margin: -1px;overflow: hidden;padding: 0;position: absolute;width: 1px;}#sk-container-id-10 div.sk-estimator {font-family: monospace;background-color: #f0f8ff;border: 1px dotted black;border-radius: 0.25em;box-sizing: border-box;margin-bottom: 0.5em;}#sk-container-id-10 div.sk-estimator:hover {background-color: #d4ebff;}#sk-container-id-10 div.sk-parallel-item::after {content: \"\";width: 100%;border-bottom: 1px solid gray;flex-grow: 1;}#sk-container-id-10 div.sk-label:hover label.sk-toggleable__label {background-color: #d4ebff;}#sk-container-id-10 div.sk-serial::before {content: \"\";position: absolute;border-left: 1px solid gray;box-sizing: border-box;top: 0;bottom: 0;left: 50%;z-index: 0;}#sk-container-id-10 div.sk-serial {display: flex;flex-direction: column;align-items: center;background-color: white;padding-right: 0.2em;padding-left: 0.2em;position: relative;}#sk-container-id-10 div.sk-item {position: relative;z-index: 1;}#sk-container-id-10 div.sk-parallel {display: flex;align-items: stretch;justify-content: center;background-color: white;position: relative;}#sk-container-id-10 div.sk-item::before, #sk-container-id-10 div.sk-parallel-item::before {content: \"\";position: absolute;border-left: 1px solid gray;box-sizing: border-box;top: 0;bottom: 0;left: 50%;z-index: -1;}#sk-container-id-10 div.sk-parallel-item {display: flex;flex-direction: column;z-index: 1;position: relative;background-color: white;}#sk-container-id-10 div.sk-parallel-item:first-child::after {align-self: flex-end;width: 50%;}#sk-container-id-10 div.sk-parallel-item:last-child::after {align-self: flex-start;width: 50%;}#sk-container-id-10 div.sk-parallel-item:only-child::after {width: 0;}#sk-container-id-10 div.sk-dashed-wrapped {border: 1px dashed gray;margin: 0 0.4em 0.5em 0.4em;box-sizing: border-box;padding-bottom: 0.4em;background-color: white;}#sk-container-id-10 div.sk-label label {font-family: monospace;font-weight: bold;display: inline-block;line-height: 1.2em;}#sk-container-id-10 div.sk-label-container {text-align: center;}#sk-container-id-10 div.sk-container {/* jupyter's `normalize.less` sets `[hidden] { display: none; }` but bootstrap.min.css set `[hidden] { display: none !important; }` so we also need the `!important` here to be able to override the default hidden behavior on the sphinx rendered scikit-learn.org. See: https://github.com/scikit-learn/scikit-learn/issues/21755 */display: inline-block !important;position: relative;}#sk-container-id-10 div.sk-text-repr-fallback {display: none;}</style><div id=\"sk-container-id-10\" class=\"sk-top-container\"><div class=\"sk-text-repr-fallback\"><pre>GradientBoostingRegressor(random_state=42)</pre><b>In a Jupyter environment, please rerun this cell to show the HTML representation or trust the notebook. <br />On GitHub, the HTML representation is unable to render, please try loading this page with nbviewer.org.</b></div><div class=\"sk-container\" hidden><div class=\"sk-item\"><div class=\"sk-estimator sk-toggleable\"><input class=\"sk-toggleable__control sk-hidden--visually\" id=\"sk-estimator-id-16\" type=\"checkbox\" checked><label for=\"sk-estimator-id-16\" class=\"sk-toggleable__label sk-toggleable__label-arrow\">GradientBoostingRegressor</label><div class=\"sk-toggleable__content\"><pre>GradientBoostingRegressor(random_state=42)</pre></div></div></div></div></div>"
      ],
      "text/plain": [
       "GradientBoostingRegressor(random_state=42)"
      ]
     },
     "execution_count": 74,
     "metadata": {},
     "output_type": "execute_result"
    }
   ],
   "source": [
    "training_model = GradientBoostingRegressor(random_state=42)\n",
    "training_model"
   ]
  },
  {
   "cell_type": "code",
   "execution_count": 75,
   "id": "4c2c60d2",
   "metadata": {
    "execution": {
     "iopub.execute_input": "2025-08-07T14:02:17.179696Z",
     "iopub.status.busy": "2025-08-07T14:02:17.179401Z",
     "iopub.status.idle": "2025-08-07T14:02:20.517780Z",
     "shell.execute_reply": "2025-08-07T14:02:20.517047Z"
    },
    "papermill": {
     "duration": 3.365198,
     "end_time": "2025-08-07T14:02:20.519169",
     "exception": false,
     "start_time": "2025-08-07T14:02:17.153971",
     "status": "completed"
    },
    "tags": []
   },
   "outputs": [
    {
     "name": "stdout",
     "output_type": "stream",
     "text": [
      "CPU times: user 3.33 s, sys: 0 ns, total: 3.33 s\n",
      "Wall time: 3.33 s\n"
     ]
    },
    {
     "data": {
      "text/html": [
       "<style>#sk-container-id-11 {color: black;background-color: white;}#sk-container-id-11 pre{padding: 0;}#sk-container-id-11 div.sk-toggleable {background-color: white;}#sk-container-id-11 label.sk-toggleable__label {cursor: pointer;display: block;width: 100%;margin-bottom: 0;padding: 0.3em;box-sizing: border-box;text-align: center;}#sk-container-id-11 label.sk-toggleable__label-arrow:before {content: \"▸\";float: left;margin-right: 0.25em;color: #696969;}#sk-container-id-11 label.sk-toggleable__label-arrow:hover:before {color: black;}#sk-container-id-11 div.sk-estimator:hover label.sk-toggleable__label-arrow:before {color: black;}#sk-container-id-11 div.sk-toggleable__content {max-height: 0;max-width: 0;overflow: hidden;text-align: left;background-color: #f0f8ff;}#sk-container-id-11 div.sk-toggleable__content pre {margin: 0.2em;color: black;border-radius: 0.25em;background-color: #f0f8ff;}#sk-container-id-11 input.sk-toggleable__control:checked~div.sk-toggleable__content {max-height: 200px;max-width: 100%;overflow: auto;}#sk-container-id-11 input.sk-toggleable__control:checked~label.sk-toggleable__label-arrow:before {content: \"▾\";}#sk-container-id-11 div.sk-estimator input.sk-toggleable__control:checked~label.sk-toggleable__label {background-color: #d4ebff;}#sk-container-id-11 div.sk-label input.sk-toggleable__control:checked~label.sk-toggleable__label {background-color: #d4ebff;}#sk-container-id-11 input.sk-hidden--visually {border: 0;clip: rect(1px 1px 1px 1px);clip: rect(1px, 1px, 1px, 1px);height: 1px;margin: -1px;overflow: hidden;padding: 0;position: absolute;width: 1px;}#sk-container-id-11 div.sk-estimator {font-family: monospace;background-color: #f0f8ff;border: 1px dotted black;border-radius: 0.25em;box-sizing: border-box;margin-bottom: 0.5em;}#sk-container-id-11 div.sk-estimator:hover {background-color: #d4ebff;}#sk-container-id-11 div.sk-parallel-item::after {content: \"\";width: 100%;border-bottom: 1px solid gray;flex-grow: 1;}#sk-container-id-11 div.sk-label:hover label.sk-toggleable__label {background-color: #d4ebff;}#sk-container-id-11 div.sk-serial::before {content: \"\";position: absolute;border-left: 1px solid gray;box-sizing: border-box;top: 0;bottom: 0;left: 50%;z-index: 0;}#sk-container-id-11 div.sk-serial {display: flex;flex-direction: column;align-items: center;background-color: white;padding-right: 0.2em;padding-left: 0.2em;position: relative;}#sk-container-id-11 div.sk-item {position: relative;z-index: 1;}#sk-container-id-11 div.sk-parallel {display: flex;align-items: stretch;justify-content: center;background-color: white;position: relative;}#sk-container-id-11 div.sk-item::before, #sk-container-id-11 div.sk-parallel-item::before {content: \"\";position: absolute;border-left: 1px solid gray;box-sizing: border-box;top: 0;bottom: 0;left: 50%;z-index: -1;}#sk-container-id-11 div.sk-parallel-item {display: flex;flex-direction: column;z-index: 1;position: relative;background-color: white;}#sk-container-id-11 div.sk-parallel-item:first-child::after {align-self: flex-end;width: 50%;}#sk-container-id-11 div.sk-parallel-item:last-child::after {align-self: flex-start;width: 50%;}#sk-container-id-11 div.sk-parallel-item:only-child::after {width: 0;}#sk-container-id-11 div.sk-dashed-wrapped {border: 1px dashed gray;margin: 0 0.4em 0.5em 0.4em;box-sizing: border-box;padding-bottom: 0.4em;background-color: white;}#sk-container-id-11 div.sk-label label {font-family: monospace;font-weight: bold;display: inline-block;line-height: 1.2em;}#sk-container-id-11 div.sk-label-container {text-align: center;}#sk-container-id-11 div.sk-container {/* jupyter's `normalize.less` sets `[hidden] { display: none; }` but bootstrap.min.css set `[hidden] { display: none !important; }` so we also need the `!important` here to be able to override the default hidden behavior on the sphinx rendered scikit-learn.org. See: https://github.com/scikit-learn/scikit-learn/issues/21755 */display: inline-block !important;position: relative;}#sk-container-id-11 div.sk-text-repr-fallback {display: none;}</style><div id=\"sk-container-id-11\" class=\"sk-top-container\"><div class=\"sk-text-repr-fallback\"><pre>GradientBoostingRegressor(random_state=42)</pre><b>In a Jupyter environment, please rerun this cell to show the HTML representation or trust the notebook. <br />On GitHub, the HTML representation is unable to render, please try loading this page with nbviewer.org.</b></div><div class=\"sk-container\" hidden><div class=\"sk-item\"><div class=\"sk-estimator sk-toggleable\"><input class=\"sk-toggleable__control sk-hidden--visually\" id=\"sk-estimator-id-17\" type=\"checkbox\" checked><label for=\"sk-estimator-id-17\" class=\"sk-toggleable__label sk-toggleable__label-arrow\">GradientBoostingRegressor</label><div class=\"sk-toggleable__content\"><pre>GradientBoostingRegressor(random_state=42)</pre></div></div></div></div></div>"
      ],
      "text/plain": [
       "GradientBoostingRegressor(random_state=42)"
      ]
     },
     "execution_count": 75,
     "metadata": {},
     "output_type": "execute_result"
    }
   ],
   "source": [
    "%%time\n",
    "training_model.fit(X_train, y_train)"
   ]
  },
  {
   "cell_type": "code",
   "execution_count": 76,
   "id": "d6324953",
   "metadata": {
    "execution": {
     "iopub.execute_input": "2025-08-07T14:02:20.570679Z",
     "iopub.status.busy": "2025-08-07T14:02:20.570389Z",
     "iopub.status.idle": "2025-08-07T14:02:20.582417Z",
     "shell.execute_reply": "2025-08-07T14:02:20.581569Z"
    },
    "papermill": {
     "duration": 0.038728,
     "end_time": "2025-08-07T14:02:20.583666",
     "exception": false,
     "start_time": "2025-08-07T14:02:20.544938",
     "status": "completed"
    },
    "tags": []
   },
   "outputs": [
    {
     "data": {
      "text/plain": [
       "array([4.96766162, 3.92229988, 4.49069455, ..., 4.06814525, 4.59785907,\n",
       "       4.75025227])"
      ]
     },
     "execution_count": 76,
     "metadata": {},
     "output_type": "execute_result"
    }
   ],
   "source": [
    "y_pred = training_model.predict(X_test)\n",
    "y_pred"
   ]
  },
  {
   "cell_type": "code",
   "execution_count": 77,
   "id": "104c62b4",
   "metadata": {
    "execution": {
     "iopub.execute_input": "2025-08-07T14:02:20.637338Z",
     "iopub.status.busy": "2025-08-07T14:02:20.637038Z",
     "iopub.status.idle": "2025-08-07T14:02:20.643578Z",
     "shell.execute_reply": "2025-08-07T14:02:20.642757Z"
    },
    "papermill": {
     "duration": 0.033734,
     "end_time": "2025-08-07T14:02:20.644776",
     "exception": false,
     "start_time": "2025-08-07T14:02:20.611042",
     "status": "completed"
    },
    "tags": []
   },
   "outputs": [
    {
     "data": {
      "text/plain": [
       "5158     4.65\n",
       "3831     3.70\n",
       "5117     4.19\n",
       "6326     3.88\n",
       "11359    3.68\n",
       "         ... \n",
       "10290    5.17\n",
       "13995    4.48\n",
       "9665     3.91\n",
       "2276     4.00\n",
       "4174     4.65\n",
       "Name: Visibility, Length: 2924, dtype: float64"
      ]
     },
     "execution_count": 77,
     "metadata": {},
     "output_type": "execute_result"
    }
   ],
   "source": [
    "y_test"
   ]
  },
  {
   "cell_type": "code",
   "execution_count": 78,
   "id": "7d2b9c88",
   "metadata": {
    "execution": {
     "iopub.execute_input": "2025-08-07T14:02:20.695811Z",
     "iopub.status.busy": "2025-08-07T14:02:20.695498Z",
     "iopub.status.idle": "2025-08-07T14:02:20.701434Z",
     "shell.execute_reply": "2025-08-07T14:02:20.700845Z"
    },
    "papermill": {
     "duration": 0.032837,
     "end_time": "2025-08-07T14:02:20.702650",
     "exception": false,
     "start_time": "2025-08-07T14:02:20.669813",
     "status": "completed"
    },
    "tags": []
   },
   "outputs": [],
   "source": [
    "mse = mean_squared_error(y_test, y_pred)\n",
    "mae = mean_absolute_error(y_test, y_pred)\n",
    "r2 = r2_score(y_test, y_pred)\n",
    "rmse = math.sqrt(mse)"
   ]
  },
  {
   "cell_type": "code",
   "execution_count": 79,
   "id": "a8d306e2",
   "metadata": {
    "execution": {
     "iopub.execute_input": "2025-08-07T14:02:20.754277Z",
     "iopub.status.busy": "2025-08-07T14:02:20.754022Z",
     "iopub.status.idle": "2025-08-07T14:02:20.758866Z",
     "shell.execute_reply": "2025-08-07T14:02:20.758013Z"
    },
    "papermill": {
     "duration": 0.031892,
     "end_time": "2025-08-07T14:02:20.760074",
     "exception": false,
     "start_time": "2025-08-07T14:02:20.728182",
     "status": "completed"
    },
    "tags": []
   },
   "outputs": [
    {
     "name": "stdout",
     "output_type": "stream",
     "text": [
      "MSE Score: 1.0559722211447278\n",
      "MAE Score: 0.44198924305693105\n",
      "R2 Score: 0.45885603638424644\n",
      "RMSE Score: 1.027605090073384\n"
     ]
    }
   ],
   "source": [
    "print(\"MSE Score:\", mse)\n",
    "print(\"MAE Score:\", mae)\n",
    "print(\"R2 Score:\", r2)\n",
    "print(\"RMSE Score:\", rmse)"
   ]
  },
  {
   "cell_type": "code",
   "execution_count": 80,
   "id": "207563f2",
   "metadata": {
    "execution": {
     "iopub.execute_input": "2025-08-07T14:02:20.811685Z",
     "iopub.status.busy": "2025-08-07T14:02:20.811388Z",
     "iopub.status.idle": "2025-08-07T14:02:20.819571Z",
     "shell.execute_reply": "2025-08-07T14:02:20.818978Z"
    },
    "papermill": {
     "duration": 0.035473,
     "end_time": "2025-08-07T14:02:20.820899",
     "exception": false,
     "start_time": "2025-08-07T14:02:20.785426",
     "status": "completed"
    },
    "tags": []
   },
   "outputs": [
    {
     "name": "stdout",
     "output_type": "stream",
     "text": [
      "❌ Regression model not improved:\n",
      "   Current MSE: 1.055972, Best MSE: 0.947366\n",
      "   Current R²: 0.458856, Best R²: 0.514512\n",
      "   Current Features: 24, Best Features: 27\n"
     ]
    }
   ],
   "source": [
    "regression_params = {\n",
    "    'model_name': model_name_for_saving,\n",
    "    'scaler_name': \"MinMaxScaler\",\n",
    "    'features_list': feature_columns_for_saving,\n",
    "    'target_column': target_name_for_saving,\n",
    "    'mse': mse,\n",
    "    'mae': mae,\n",
    "    'rmse': rmse,\n",
    "    'r2': r2,\n",
    "    'parameters': json.dumps(training_model.get_params())\n",
    "}\n",
    "save_model_performance_if_better('regression', regression_params)"
   ]
  },
  {
   "cell_type": "markdown",
   "id": "9e04e95e",
   "metadata": {
    "papermill": {
     "duration": 0.024731,
     "end_time": "2025-08-07T14:02:20.871116",
     "exception": false,
     "start_time": "2025-08-07T14:02:20.846385",
     "status": "completed"
    },
    "tags": []
   },
   "source": [
    "#### Tuning with Grid Search"
   ]
  },
  {
   "cell_type": "code",
   "execution_count": 81,
   "id": "8006cf5b",
   "metadata": {
    "execution": {
     "iopub.execute_input": "2025-08-07T14:02:20.923893Z",
     "iopub.status.busy": "2025-08-07T14:02:20.923122Z",
     "iopub.status.idle": "2025-08-07T14:02:20.927908Z",
     "shell.execute_reply": "2025-08-07T14:02:20.926978Z"
    },
    "papermill": {
     "duration": 0.033359,
     "end_time": "2025-08-07T14:02:20.929594",
     "exception": false,
     "start_time": "2025-08-07T14:02:20.896235",
     "status": "completed"
    },
    "tags": []
   },
   "outputs": [],
   "source": [
    "grid_search = RandomizedSearchCV(\n",
    "    GradientBoostingRegressor(random_state=42), \n",
    "    grid_param,\n",
    "    n_iter=number_of_model_for_randomized_grid,\n",
    "    cv=5,\n",
    "    scoring='neg_mean_squared_error',\n",
    "    n_jobs=-1,\n",
    "    verbose=1,\n",
    "    random_state=42\n",
    ")"
   ]
  },
  {
   "cell_type": "code",
   "execution_count": 82,
   "id": "943970e9",
   "metadata": {
    "execution": {
     "iopub.execute_input": "2025-08-07T14:02:20.983555Z",
     "iopub.status.busy": "2025-08-07T14:02:20.982710Z",
     "iopub.status.idle": "2025-08-07T15:37:33.602576Z",
     "shell.execute_reply": "2025-08-07T15:37:33.601757Z"
    },
    "papermill": {
     "duration": 5712.747508,
     "end_time": "2025-08-07T15:37:33.704409",
     "exception": false,
     "start_time": "2025-08-07T14:02:20.956901",
     "status": "completed"
    },
    "tags": []
   },
   "outputs": [
    {
     "name": "stdout",
     "output_type": "stream",
     "text": [
      "Starting hyperparameter tuning...\n",
      "Fitting 5 folds for each of 100 candidates, totalling 500 fits\n",
      "CPU times: user 19 s, sys: 6.94 s, total: 26 s\n",
      "Wall time: 1h 35min 12s\n"
     ]
    },
    {
     "data": {
      "text/html": [
       "<style>#sk-container-id-12 {color: black;background-color: white;}#sk-container-id-12 pre{padding: 0;}#sk-container-id-12 div.sk-toggleable {background-color: white;}#sk-container-id-12 label.sk-toggleable__label {cursor: pointer;display: block;width: 100%;margin-bottom: 0;padding: 0.3em;box-sizing: border-box;text-align: center;}#sk-container-id-12 label.sk-toggleable__label-arrow:before {content: \"▸\";float: left;margin-right: 0.25em;color: #696969;}#sk-container-id-12 label.sk-toggleable__label-arrow:hover:before {color: black;}#sk-container-id-12 div.sk-estimator:hover label.sk-toggleable__label-arrow:before {color: black;}#sk-container-id-12 div.sk-toggleable__content {max-height: 0;max-width: 0;overflow: hidden;text-align: left;background-color: #f0f8ff;}#sk-container-id-12 div.sk-toggleable__content pre {margin: 0.2em;color: black;border-radius: 0.25em;background-color: #f0f8ff;}#sk-container-id-12 input.sk-toggleable__control:checked~div.sk-toggleable__content {max-height: 200px;max-width: 100%;overflow: auto;}#sk-container-id-12 input.sk-toggleable__control:checked~label.sk-toggleable__label-arrow:before {content: \"▾\";}#sk-container-id-12 div.sk-estimator input.sk-toggleable__control:checked~label.sk-toggleable__label {background-color: #d4ebff;}#sk-container-id-12 div.sk-label input.sk-toggleable__control:checked~label.sk-toggleable__label {background-color: #d4ebff;}#sk-container-id-12 input.sk-hidden--visually {border: 0;clip: rect(1px 1px 1px 1px);clip: rect(1px, 1px, 1px, 1px);height: 1px;margin: -1px;overflow: hidden;padding: 0;position: absolute;width: 1px;}#sk-container-id-12 div.sk-estimator {font-family: monospace;background-color: #f0f8ff;border: 1px dotted black;border-radius: 0.25em;box-sizing: border-box;margin-bottom: 0.5em;}#sk-container-id-12 div.sk-estimator:hover {background-color: #d4ebff;}#sk-container-id-12 div.sk-parallel-item::after {content: \"\";width: 100%;border-bottom: 1px solid gray;flex-grow: 1;}#sk-container-id-12 div.sk-label:hover label.sk-toggleable__label {background-color: #d4ebff;}#sk-container-id-12 div.sk-serial::before {content: \"\";position: absolute;border-left: 1px solid gray;box-sizing: border-box;top: 0;bottom: 0;left: 50%;z-index: 0;}#sk-container-id-12 div.sk-serial {display: flex;flex-direction: column;align-items: center;background-color: white;padding-right: 0.2em;padding-left: 0.2em;position: relative;}#sk-container-id-12 div.sk-item {position: relative;z-index: 1;}#sk-container-id-12 div.sk-parallel {display: flex;align-items: stretch;justify-content: center;background-color: white;position: relative;}#sk-container-id-12 div.sk-item::before, #sk-container-id-12 div.sk-parallel-item::before {content: \"\";position: absolute;border-left: 1px solid gray;box-sizing: border-box;top: 0;bottom: 0;left: 50%;z-index: -1;}#sk-container-id-12 div.sk-parallel-item {display: flex;flex-direction: column;z-index: 1;position: relative;background-color: white;}#sk-container-id-12 div.sk-parallel-item:first-child::after {align-self: flex-end;width: 50%;}#sk-container-id-12 div.sk-parallel-item:last-child::after {align-self: flex-start;width: 50%;}#sk-container-id-12 div.sk-parallel-item:only-child::after {width: 0;}#sk-container-id-12 div.sk-dashed-wrapped {border: 1px dashed gray;margin: 0 0.4em 0.5em 0.4em;box-sizing: border-box;padding-bottom: 0.4em;background-color: white;}#sk-container-id-12 div.sk-label label {font-family: monospace;font-weight: bold;display: inline-block;line-height: 1.2em;}#sk-container-id-12 div.sk-label-container {text-align: center;}#sk-container-id-12 div.sk-container {/* jupyter's `normalize.less` sets `[hidden] { display: none; }` but bootstrap.min.css set `[hidden] { display: none !important; }` so we also need the `!important` here to be able to override the default hidden behavior on the sphinx rendered scikit-learn.org. See: https://github.com/scikit-learn/scikit-learn/issues/21755 */display: inline-block !important;position: relative;}#sk-container-id-12 div.sk-text-repr-fallback {display: none;}</style><div id=\"sk-container-id-12\" class=\"sk-top-container\"><div class=\"sk-text-repr-fallback\"><pre>RandomizedSearchCV(cv=5, estimator=GradientBoostingRegressor(random_state=42),\n",
       "                   n_iter=100, n_jobs=-1,\n",
       "                   param_distributions={&#x27;learning_rate&#x27;: [0.01, 0.05, 0.1],\n",
       "                                        &#x27;loss&#x27;: [&#x27;squared_error&#x27;, &#x27;huber&#x27;],\n",
       "                                        &#x27;max_depth&#x27;: [None, 10, 20, 30],\n",
       "                                        &#x27;max_features&#x27;: [&#x27;sqrt&#x27;, &#x27;log2&#x27;, None],\n",
       "                                        &#x27;min_samples_leaf&#x27;: [1, 2, 4, 6],\n",
       "                                        &#x27;min_samples_split&#x27;: [2, 5, 10, 15, 20],\n",
       "                                        &#x27;n_estimators&#x27;: [100, 200, 300],\n",
       "                                        &#x27;subsample&#x27;: [0.7, 0.8, 0.9]},\n",
       "                   random_state=42, scoring=&#x27;neg_mean_squared_error&#x27;,\n",
       "                   verbose=1)</pre><b>In a Jupyter environment, please rerun this cell to show the HTML representation or trust the notebook. <br />On GitHub, the HTML representation is unable to render, please try loading this page with nbviewer.org.</b></div><div class=\"sk-container\" hidden><div class=\"sk-item sk-dashed-wrapped\"><div class=\"sk-label-container\"><div class=\"sk-label sk-toggleable\"><input class=\"sk-toggleable__control sk-hidden--visually\" id=\"sk-estimator-id-18\" type=\"checkbox\" ><label for=\"sk-estimator-id-18\" class=\"sk-toggleable__label sk-toggleable__label-arrow\">RandomizedSearchCV</label><div class=\"sk-toggleable__content\"><pre>RandomizedSearchCV(cv=5, estimator=GradientBoostingRegressor(random_state=42),\n",
       "                   n_iter=100, n_jobs=-1,\n",
       "                   param_distributions={&#x27;learning_rate&#x27;: [0.01, 0.05, 0.1],\n",
       "                                        &#x27;loss&#x27;: [&#x27;squared_error&#x27;, &#x27;huber&#x27;],\n",
       "                                        &#x27;max_depth&#x27;: [None, 10, 20, 30],\n",
       "                                        &#x27;max_features&#x27;: [&#x27;sqrt&#x27;, &#x27;log2&#x27;, None],\n",
       "                                        &#x27;min_samples_leaf&#x27;: [1, 2, 4, 6],\n",
       "                                        &#x27;min_samples_split&#x27;: [2, 5, 10, 15, 20],\n",
       "                                        &#x27;n_estimators&#x27;: [100, 200, 300],\n",
       "                                        &#x27;subsample&#x27;: [0.7, 0.8, 0.9]},\n",
       "                   random_state=42, scoring=&#x27;neg_mean_squared_error&#x27;,\n",
       "                   verbose=1)</pre></div></div></div><div class=\"sk-parallel\"><div class=\"sk-parallel-item\"><div class=\"sk-item\"><div class=\"sk-label-container\"><div class=\"sk-label sk-toggleable\"><input class=\"sk-toggleable__control sk-hidden--visually\" id=\"sk-estimator-id-19\" type=\"checkbox\" ><label for=\"sk-estimator-id-19\" class=\"sk-toggleable__label sk-toggleable__label-arrow\">estimator: GradientBoostingRegressor</label><div class=\"sk-toggleable__content\"><pre>GradientBoostingRegressor(random_state=42)</pre></div></div></div><div class=\"sk-serial\"><div class=\"sk-item\"><div class=\"sk-estimator sk-toggleable\"><input class=\"sk-toggleable__control sk-hidden--visually\" id=\"sk-estimator-id-20\" type=\"checkbox\" ><label for=\"sk-estimator-id-20\" class=\"sk-toggleable__label sk-toggleable__label-arrow\">GradientBoostingRegressor</label><div class=\"sk-toggleable__content\"><pre>GradientBoostingRegressor(random_state=42)</pre></div></div></div></div></div></div></div></div></div></div>"
      ],
      "text/plain": [
       "RandomizedSearchCV(cv=5, estimator=GradientBoostingRegressor(random_state=42),\n",
       "                   n_iter=100, n_jobs=-1,\n",
       "                   param_distributions={'learning_rate': [0.01, 0.05, 0.1],\n",
       "                                        'loss': ['squared_error', 'huber'],\n",
       "                                        'max_depth': [None, 10, 20, 30],\n",
       "                                        'max_features': ['sqrt', 'log2', None],\n",
       "                                        'min_samples_leaf': [1, 2, 4, 6],\n",
       "                                        'min_samples_split': [2, 5, 10, 15, 20],\n",
       "                                        'n_estimators': [100, 200, 300],\n",
       "                                        'subsample': [0.7, 0.8, 0.9]},\n",
       "                   random_state=42, scoring='neg_mean_squared_error',\n",
       "                   verbose=1)"
      ]
     },
     "execution_count": 82,
     "metadata": {},
     "output_type": "execute_result"
    }
   ],
   "source": [
    "%%time\n",
    "print(\"Starting hyperparameter tuning...\")\n",
    "grid_search.fit(X_train, y_train)"
   ]
  },
  {
   "cell_type": "code",
   "execution_count": 83,
   "id": "df1dc6a3",
   "metadata": {
    "execution": {
     "iopub.execute_input": "2025-08-07T15:37:33.756823Z",
     "iopub.status.busy": "2025-08-07T15:37:33.756500Z",
     "iopub.status.idle": "2025-08-07T15:37:33.762469Z",
     "shell.execute_reply": "2025-08-07T15:37:33.761475Z"
    },
    "papermill": {
     "duration": 0.033408,
     "end_time": "2025-08-07T15:37:33.763926",
     "exception": false,
     "start_time": "2025-08-07T15:37:33.730518",
     "status": "completed"
    },
    "tags": []
   },
   "outputs": [
    {
     "name": "stdout",
     "output_type": "stream",
     "text": [
      "TUNING RESULTS\n",
      "==================================================\n",
      "Best Parameters: {'subsample': 0.9, 'n_estimators': 200, 'min_samples_split': 10, 'min_samples_leaf': 6, 'max_features': 'log2', 'max_depth': None, 'loss': 'squared_error', 'learning_rate': 0.05}\n",
      "Best Cross-Validation Score (Negative MSE): -0.853526510164988\n",
      "Best Cross-Validation Score (MSE): 0.853526510164988\n",
      "Best Cross-Validation Score (RMSE): 0.923864984813792\n"
     ]
    }
   ],
   "source": [
    "print(\"TUNING RESULTS\")\n",
    "print(\"=\"*50)\n",
    "print(\"Best Parameters:\", grid_search.best_params_)\n",
    "print(\"Best Cross-Validation Score (Negative MSE):\", grid_search.best_score_)\n",
    "print(\"Best Cross-Validation Score (MSE):\", -grid_search.best_score_)\n",
    "print(\"Best Cross-Validation Score (RMSE):\", math.sqrt(-grid_search.best_score_))"
   ]
  },
  {
   "cell_type": "code",
   "execution_count": 84,
   "id": "c25b90cd",
   "metadata": {
    "execution": {
     "iopub.execute_input": "2025-08-07T15:37:33.816565Z",
     "iopub.status.busy": "2025-08-07T15:37:33.816286Z",
     "iopub.status.idle": "2025-08-07T15:37:33.915774Z",
     "shell.execute_reply": "2025-08-07T15:37:33.914919Z"
    },
    "papermill": {
     "duration": 0.127008,
     "end_time": "2025-08-07T15:37:33.917154",
     "exception": false,
     "start_time": "2025-08-07T15:37:33.790146",
     "status": "completed"
    },
    "tags": []
   },
   "outputs": [],
   "source": [
    "grid_search_best_model = grid_search.best_estimator_\n",
    "y_pred = grid_search_best_model.predict(X_test)"
   ]
  },
  {
   "cell_type": "code",
   "execution_count": 85,
   "id": "c0951ea4",
   "metadata": {
    "execution": {
     "iopub.execute_input": "2025-08-07T15:37:33.970708Z",
     "iopub.status.busy": "2025-08-07T15:37:33.970239Z",
     "iopub.status.idle": "2025-08-07T15:37:33.977286Z",
     "shell.execute_reply": "2025-08-07T15:37:33.976622Z"
    },
    "papermill": {
     "duration": 0.035157,
     "end_time": "2025-08-07T15:37:33.978487",
     "exception": false,
     "start_time": "2025-08-07T15:37:33.943330",
     "status": "completed"
    },
    "tags": []
   },
   "outputs": [],
   "source": [
    "mse_grid_search = mean_squared_error(y_test, y_pred)\n",
    "mae_grid_search = mean_absolute_error(y_test, y_pred)\n",
    "r2_grid_search = r2_score(y_test, y_pred)\n",
    "rmse_grid_search = math.sqrt(mse_grid_search)"
   ]
  },
  {
   "cell_type": "code",
   "execution_count": 86,
   "id": "bc64d068",
   "metadata": {
    "execution": {
     "iopub.execute_input": "2025-08-07T15:37:34.031451Z",
     "iopub.status.busy": "2025-08-07T15:37:34.031063Z",
     "iopub.status.idle": "2025-08-07T15:37:34.035989Z",
     "shell.execute_reply": "2025-08-07T15:37:34.035140Z"
    },
    "papermill": {
     "duration": 0.032337,
     "end_time": "2025-08-07T15:37:34.037223",
     "exception": false,
     "start_time": "2025-08-07T15:37:34.004886",
     "status": "completed"
    },
    "tags": []
   },
   "outputs": [
    {
     "name": "stdout",
     "output_type": "stream",
     "text": [
      "MSE Score: 0.7980919855189594\n",
      "MAE Score: 0.37922348607841766\n",
      "R2 Score: 0.5910094491827509\n",
      "RMSE Score: 0.8933599417474233\n"
     ]
    }
   ],
   "source": [
    "print(\"MSE Score:\", mse_grid_search)\n",
    "print(\"MAE Score:\", mae_grid_search)\n",
    "print(\"R2 Score:\", r2_grid_search)\n",
    "print(\"RMSE Score:\", rmse_grid_search)"
   ]
  },
  {
   "cell_type": "code",
   "execution_count": 87,
   "id": "56a258ef",
   "metadata": {
    "execution": {
     "iopub.execute_input": "2025-08-07T15:37:34.091278Z",
     "iopub.status.busy": "2025-08-07T15:37:34.090649Z",
     "iopub.status.idle": "2025-08-07T15:37:34.099751Z",
     "shell.execute_reply": "2025-08-07T15:37:34.099040Z"
    },
    "papermill": {
     "duration": 0.036657,
     "end_time": "2025-08-07T15:37:34.100966",
     "exception": false,
     "start_time": "2025-08-07T15:37:34.064309",
     "status": "completed"
    },
    "tags": []
   },
   "outputs": [
    {
     "name": "stdout",
     "output_type": "stream",
     "text": [
      "❌ Regression model not improved:\n",
      "   Current MSE: 0.798092, Best MSE: 0.699304\n",
      "   Current R²: 0.591009, Best R²: 0.641634\n",
      "   Current Features: 24, Best Features: 27\n"
     ]
    }
   ],
   "source": [
    "regression_params = {\n",
    "    'model_name': model_name_for_saving + \" Tuned\",\n",
    "    'scaler_name': \"MinMaxScaler\",\n",
    "    'features_list': feature_columns_for_saving,\n",
    "    'target_column': target_name_for_saving,\n",
    "    'mse': mse_grid_search,\n",
    "    'mae': mae_grid_search,\n",
    "    'rmse': rmse_grid_search,\n",
    "    'r2': r2_grid_search,\n",
    "    'parameters' : json.dumps({\n",
    "        \"best_params\": grid_search.best_params_,\n",
    "        \"cv_score\": grid_search.best_score_,\n",
    "        \"all_params\": grid_search_best_model.get_params()\n",
    "    })\n",
    "}\n",
    "save_model_performance_if_better('regression', regression_params)"
   ]
  },
  {
   "cell_type": "markdown",
   "id": "b1fe843e",
   "metadata": {
    "papermill": {
     "duration": 0.026039,
     "end_time": "2025-08-07T15:37:34.153061",
     "exception": false,
     "start_time": "2025-08-07T15:37:34.127022",
     "status": "completed"
    },
    "tags": []
   },
   "source": [
    "### Standard Scaler"
   ]
  },
  {
   "cell_type": "code",
   "execution_count": 88,
   "id": "0f6b2b95",
   "metadata": {
    "execution": {
     "iopub.execute_input": "2025-08-07T15:37:34.206177Z",
     "iopub.status.busy": "2025-08-07T15:37:34.205794Z",
     "iopub.status.idle": "2025-08-07T15:37:34.225193Z",
     "shell.execute_reply": "2025-08-07T15:37:34.224339Z"
    },
    "papermill": {
     "duration": 0.04802,
     "end_time": "2025-08-07T15:37:34.226813",
     "exception": false,
     "start_time": "2025-08-07T15:37:34.178793",
     "status": "completed"
    },
    "tags": []
   },
   "outputs": [],
   "source": [
    "scaler = StandardScaler()\n",
    "X_train = scaler.fit_transform(X_train_raw)\n",
    "X_test = scaler.transform(X_test_raw)"
   ]
  },
  {
   "cell_type": "code",
   "execution_count": 89,
   "id": "26614a5a",
   "metadata": {
    "execution": {
     "iopub.execute_input": "2025-08-07T15:37:34.280319Z",
     "iopub.status.busy": "2025-08-07T15:37:34.280030Z",
     "iopub.status.idle": "2025-08-07T15:37:34.286497Z",
     "shell.execute_reply": "2025-08-07T15:37:34.285568Z"
    },
    "papermill": {
     "duration": 0.034287,
     "end_time": "2025-08-07T15:37:34.287851",
     "exception": false,
     "start_time": "2025-08-07T15:37:34.253564",
     "status": "completed"
    },
    "tags": []
   },
   "outputs": [
    {
     "data": {
      "text/plain": [
       "array([[ 1.01884116, -0.21938027, -0.38875095, ..., -0.12088825,\n",
       "         1.52387472,  1.09644529],\n",
       "       [ 1.64376461,  0.64624572,  2.57234098, ..., -1.52028666,\n",
       "         0.24645772, -0.43343649],\n",
       "       [-1.16839092, -1.66209024, -0.38875095, ..., -1.52028666,\n",
       "        -0.73592134, -0.43343649],\n",
       "       ...,\n",
       "       [ 0.70637943, -0.21938027, -0.38875095, ...,  0.96917545,\n",
       "         0.25618424, -0.30383078],\n",
       "       [-1.48085264,  1.36760071, -0.38875095, ..., -1.52028666,\n",
       "        -0.73592134, -0.43343649],\n",
       "       [ 1.01884116, -0.50792226, -0.38875095, ...,  1.01722469,\n",
       "         0.20430944,  0.85928021]])"
      ]
     },
     "execution_count": 89,
     "metadata": {},
     "output_type": "execute_result"
    }
   ],
   "source": [
    "X_train"
   ]
  },
  {
   "cell_type": "code",
   "execution_count": 90,
   "id": "18a07f65",
   "metadata": {
    "execution": {
     "iopub.execute_input": "2025-08-07T15:37:34.340291Z",
     "iopub.status.busy": "2025-08-07T15:37:34.340023Z",
     "iopub.status.idle": "2025-08-07T15:37:34.346499Z",
     "shell.execute_reply": "2025-08-07T15:37:34.345725Z"
    },
    "papermill": {
     "duration": 0.034191,
     "end_time": "2025-08-07T15:37:34.348098",
     "exception": false,
     "start_time": "2025-08-07T15:37:34.313907",
     "status": "completed"
    },
    "tags": []
   },
   "outputs": [
    {
     "data": {
      "text/plain": [
       "array([[ 0.70637943,  1.51187171, -0.38875095, ...,  1.02148941,\n",
       "        -0.73592134, -0.43343649],\n",
       "       [ 0.08145598,  0.50197472,  2.57234098, ...,  1.23102956,\n",
       "        -0.49600038, -0.43343649],\n",
       "       [ 0.70637943, -0.94073525, -0.38875095, ...,  1.30438283,\n",
       "        -0.73592134, -0.43343649],\n",
       "       ...,\n",
       "       [-1.16839092,  0.79051672,  2.57234098, ..., -1.51659057,\n",
       "        -0.07775979, -0.43343649],\n",
       "       [-0.54346747,  1.22332971, -0.38875095, ..., -1.52028666,\n",
       "        -0.73592134,  0.71764924],\n",
       "       [ 0.08145598,  1.51187171, -0.38875095, ..., -0.05293696,\n",
       "        -0.73592134, -0.43343649]])"
      ]
     },
     "execution_count": 90,
     "metadata": {},
     "output_type": "execute_result"
    }
   ],
   "source": [
    "X_test"
   ]
  },
  {
   "cell_type": "markdown",
   "id": "dd7779cc",
   "metadata": {
    "papermill": {
     "duration": 0.025478,
     "end_time": "2025-08-07T15:37:34.399964",
     "exception": false,
     "start_time": "2025-08-07T15:37:34.374486",
     "status": "completed"
    },
    "tags": []
   },
   "source": [
    "#### Default Parameters"
   ]
  },
  {
   "cell_type": "code",
   "execution_count": 91,
   "id": "c667f585",
   "metadata": {
    "execution": {
     "iopub.execute_input": "2025-08-07T15:37:34.452404Z",
     "iopub.status.busy": "2025-08-07T15:37:34.452133Z",
     "iopub.status.idle": "2025-08-07T15:37:34.458212Z",
     "shell.execute_reply": "2025-08-07T15:37:34.457373Z"
    },
    "papermill": {
     "duration": 0.03446,
     "end_time": "2025-08-07T15:37:34.460026",
     "exception": false,
     "start_time": "2025-08-07T15:37:34.425566",
     "status": "completed"
    },
    "tags": []
   },
   "outputs": [
    {
     "data": {
      "text/html": [
       "<style>#sk-container-id-13 {color: black;background-color: white;}#sk-container-id-13 pre{padding: 0;}#sk-container-id-13 div.sk-toggleable {background-color: white;}#sk-container-id-13 label.sk-toggleable__label {cursor: pointer;display: block;width: 100%;margin-bottom: 0;padding: 0.3em;box-sizing: border-box;text-align: center;}#sk-container-id-13 label.sk-toggleable__label-arrow:before {content: \"▸\";float: left;margin-right: 0.25em;color: #696969;}#sk-container-id-13 label.sk-toggleable__label-arrow:hover:before {color: black;}#sk-container-id-13 div.sk-estimator:hover label.sk-toggleable__label-arrow:before {color: black;}#sk-container-id-13 div.sk-toggleable__content {max-height: 0;max-width: 0;overflow: hidden;text-align: left;background-color: #f0f8ff;}#sk-container-id-13 div.sk-toggleable__content pre {margin: 0.2em;color: black;border-radius: 0.25em;background-color: #f0f8ff;}#sk-container-id-13 input.sk-toggleable__control:checked~div.sk-toggleable__content {max-height: 200px;max-width: 100%;overflow: auto;}#sk-container-id-13 input.sk-toggleable__control:checked~label.sk-toggleable__label-arrow:before {content: \"▾\";}#sk-container-id-13 div.sk-estimator input.sk-toggleable__control:checked~label.sk-toggleable__label {background-color: #d4ebff;}#sk-container-id-13 div.sk-label input.sk-toggleable__control:checked~label.sk-toggleable__label {background-color: #d4ebff;}#sk-container-id-13 input.sk-hidden--visually {border: 0;clip: rect(1px 1px 1px 1px);clip: rect(1px, 1px, 1px, 1px);height: 1px;margin: -1px;overflow: hidden;padding: 0;position: absolute;width: 1px;}#sk-container-id-13 div.sk-estimator {font-family: monospace;background-color: #f0f8ff;border: 1px dotted black;border-radius: 0.25em;box-sizing: border-box;margin-bottom: 0.5em;}#sk-container-id-13 div.sk-estimator:hover {background-color: #d4ebff;}#sk-container-id-13 div.sk-parallel-item::after {content: \"\";width: 100%;border-bottom: 1px solid gray;flex-grow: 1;}#sk-container-id-13 div.sk-label:hover label.sk-toggleable__label {background-color: #d4ebff;}#sk-container-id-13 div.sk-serial::before {content: \"\";position: absolute;border-left: 1px solid gray;box-sizing: border-box;top: 0;bottom: 0;left: 50%;z-index: 0;}#sk-container-id-13 div.sk-serial {display: flex;flex-direction: column;align-items: center;background-color: white;padding-right: 0.2em;padding-left: 0.2em;position: relative;}#sk-container-id-13 div.sk-item {position: relative;z-index: 1;}#sk-container-id-13 div.sk-parallel {display: flex;align-items: stretch;justify-content: center;background-color: white;position: relative;}#sk-container-id-13 div.sk-item::before, #sk-container-id-13 div.sk-parallel-item::before {content: \"\";position: absolute;border-left: 1px solid gray;box-sizing: border-box;top: 0;bottom: 0;left: 50%;z-index: -1;}#sk-container-id-13 div.sk-parallel-item {display: flex;flex-direction: column;z-index: 1;position: relative;background-color: white;}#sk-container-id-13 div.sk-parallel-item:first-child::after {align-self: flex-end;width: 50%;}#sk-container-id-13 div.sk-parallel-item:last-child::after {align-self: flex-start;width: 50%;}#sk-container-id-13 div.sk-parallel-item:only-child::after {width: 0;}#sk-container-id-13 div.sk-dashed-wrapped {border: 1px dashed gray;margin: 0 0.4em 0.5em 0.4em;box-sizing: border-box;padding-bottom: 0.4em;background-color: white;}#sk-container-id-13 div.sk-label label {font-family: monospace;font-weight: bold;display: inline-block;line-height: 1.2em;}#sk-container-id-13 div.sk-label-container {text-align: center;}#sk-container-id-13 div.sk-container {/* jupyter's `normalize.less` sets `[hidden] { display: none; }` but bootstrap.min.css set `[hidden] { display: none !important; }` so we also need the `!important` here to be able to override the default hidden behavior on the sphinx rendered scikit-learn.org. See: https://github.com/scikit-learn/scikit-learn/issues/21755 */display: inline-block !important;position: relative;}#sk-container-id-13 div.sk-text-repr-fallback {display: none;}</style><div id=\"sk-container-id-13\" class=\"sk-top-container\"><div class=\"sk-text-repr-fallback\"><pre>GradientBoostingRegressor(random_state=42)</pre><b>In a Jupyter environment, please rerun this cell to show the HTML representation or trust the notebook. <br />On GitHub, the HTML representation is unable to render, please try loading this page with nbviewer.org.</b></div><div class=\"sk-container\" hidden><div class=\"sk-item\"><div class=\"sk-estimator sk-toggleable\"><input class=\"sk-toggleable__control sk-hidden--visually\" id=\"sk-estimator-id-21\" type=\"checkbox\" checked><label for=\"sk-estimator-id-21\" class=\"sk-toggleable__label sk-toggleable__label-arrow\">GradientBoostingRegressor</label><div class=\"sk-toggleable__content\"><pre>GradientBoostingRegressor(random_state=42)</pre></div></div></div></div></div>"
      ],
      "text/plain": [
       "GradientBoostingRegressor(random_state=42)"
      ]
     },
     "execution_count": 91,
     "metadata": {},
     "output_type": "execute_result"
    }
   ],
   "source": [
    "training_model = GradientBoostingRegressor(random_state=42)\n",
    "training_model"
   ]
  },
  {
   "cell_type": "code",
   "execution_count": 92,
   "id": "44c4b6be",
   "metadata": {
    "execution": {
     "iopub.execute_input": "2025-08-07T15:37:34.515918Z",
     "iopub.status.busy": "2025-08-07T15:37:34.515233Z",
     "iopub.status.idle": "2025-08-07T15:37:37.838756Z",
     "shell.execute_reply": "2025-08-07T15:37:37.837984Z"
    },
    "papermill": {
     "duration": 3.352022,
     "end_time": "2025-08-07T15:37:37.840092",
     "exception": false,
     "start_time": "2025-08-07T15:37:34.488070",
     "status": "completed"
    },
    "tags": []
   },
   "outputs": [
    {
     "name": "stdout",
     "output_type": "stream",
     "text": [
      "CPU times: user 3.32 s, sys: 0 ns, total: 3.32 s\n",
      "Wall time: 3.32 s\n"
     ]
    },
    {
     "data": {
      "text/html": [
       "<style>#sk-container-id-14 {color: black;background-color: white;}#sk-container-id-14 pre{padding: 0;}#sk-container-id-14 div.sk-toggleable {background-color: white;}#sk-container-id-14 label.sk-toggleable__label {cursor: pointer;display: block;width: 100%;margin-bottom: 0;padding: 0.3em;box-sizing: border-box;text-align: center;}#sk-container-id-14 label.sk-toggleable__label-arrow:before {content: \"▸\";float: left;margin-right: 0.25em;color: #696969;}#sk-container-id-14 label.sk-toggleable__label-arrow:hover:before {color: black;}#sk-container-id-14 div.sk-estimator:hover label.sk-toggleable__label-arrow:before {color: black;}#sk-container-id-14 div.sk-toggleable__content {max-height: 0;max-width: 0;overflow: hidden;text-align: left;background-color: #f0f8ff;}#sk-container-id-14 div.sk-toggleable__content pre {margin: 0.2em;color: black;border-radius: 0.25em;background-color: #f0f8ff;}#sk-container-id-14 input.sk-toggleable__control:checked~div.sk-toggleable__content {max-height: 200px;max-width: 100%;overflow: auto;}#sk-container-id-14 input.sk-toggleable__control:checked~label.sk-toggleable__label-arrow:before {content: \"▾\";}#sk-container-id-14 div.sk-estimator input.sk-toggleable__control:checked~label.sk-toggleable__label {background-color: #d4ebff;}#sk-container-id-14 div.sk-label input.sk-toggleable__control:checked~label.sk-toggleable__label {background-color: #d4ebff;}#sk-container-id-14 input.sk-hidden--visually {border: 0;clip: rect(1px 1px 1px 1px);clip: rect(1px, 1px, 1px, 1px);height: 1px;margin: -1px;overflow: hidden;padding: 0;position: absolute;width: 1px;}#sk-container-id-14 div.sk-estimator {font-family: monospace;background-color: #f0f8ff;border: 1px dotted black;border-radius: 0.25em;box-sizing: border-box;margin-bottom: 0.5em;}#sk-container-id-14 div.sk-estimator:hover {background-color: #d4ebff;}#sk-container-id-14 div.sk-parallel-item::after {content: \"\";width: 100%;border-bottom: 1px solid gray;flex-grow: 1;}#sk-container-id-14 div.sk-label:hover label.sk-toggleable__label {background-color: #d4ebff;}#sk-container-id-14 div.sk-serial::before {content: \"\";position: absolute;border-left: 1px solid gray;box-sizing: border-box;top: 0;bottom: 0;left: 50%;z-index: 0;}#sk-container-id-14 div.sk-serial {display: flex;flex-direction: column;align-items: center;background-color: white;padding-right: 0.2em;padding-left: 0.2em;position: relative;}#sk-container-id-14 div.sk-item {position: relative;z-index: 1;}#sk-container-id-14 div.sk-parallel {display: flex;align-items: stretch;justify-content: center;background-color: white;position: relative;}#sk-container-id-14 div.sk-item::before, #sk-container-id-14 div.sk-parallel-item::before {content: \"\";position: absolute;border-left: 1px solid gray;box-sizing: border-box;top: 0;bottom: 0;left: 50%;z-index: -1;}#sk-container-id-14 div.sk-parallel-item {display: flex;flex-direction: column;z-index: 1;position: relative;background-color: white;}#sk-container-id-14 div.sk-parallel-item:first-child::after {align-self: flex-end;width: 50%;}#sk-container-id-14 div.sk-parallel-item:last-child::after {align-self: flex-start;width: 50%;}#sk-container-id-14 div.sk-parallel-item:only-child::after {width: 0;}#sk-container-id-14 div.sk-dashed-wrapped {border: 1px dashed gray;margin: 0 0.4em 0.5em 0.4em;box-sizing: border-box;padding-bottom: 0.4em;background-color: white;}#sk-container-id-14 div.sk-label label {font-family: monospace;font-weight: bold;display: inline-block;line-height: 1.2em;}#sk-container-id-14 div.sk-label-container {text-align: center;}#sk-container-id-14 div.sk-container {/* jupyter's `normalize.less` sets `[hidden] { display: none; }` but bootstrap.min.css set `[hidden] { display: none !important; }` so we also need the `!important` here to be able to override the default hidden behavior on the sphinx rendered scikit-learn.org. See: https://github.com/scikit-learn/scikit-learn/issues/21755 */display: inline-block !important;position: relative;}#sk-container-id-14 div.sk-text-repr-fallback {display: none;}</style><div id=\"sk-container-id-14\" class=\"sk-top-container\"><div class=\"sk-text-repr-fallback\"><pre>GradientBoostingRegressor(random_state=42)</pre><b>In a Jupyter environment, please rerun this cell to show the HTML representation or trust the notebook. <br />On GitHub, the HTML representation is unable to render, please try loading this page with nbviewer.org.</b></div><div class=\"sk-container\" hidden><div class=\"sk-item\"><div class=\"sk-estimator sk-toggleable\"><input class=\"sk-toggleable__control sk-hidden--visually\" id=\"sk-estimator-id-22\" type=\"checkbox\" checked><label for=\"sk-estimator-id-22\" class=\"sk-toggleable__label sk-toggleable__label-arrow\">GradientBoostingRegressor</label><div class=\"sk-toggleable__content\"><pre>GradientBoostingRegressor(random_state=42)</pre></div></div></div></div></div>"
      ],
      "text/plain": [
       "GradientBoostingRegressor(random_state=42)"
      ]
     },
     "execution_count": 92,
     "metadata": {},
     "output_type": "execute_result"
    }
   ],
   "source": [
    "%%time\n",
    "training_model.fit(X_train, y_train)"
   ]
  },
  {
   "cell_type": "code",
   "execution_count": 93,
   "id": "265abef9",
   "metadata": {
    "execution": {
     "iopub.execute_input": "2025-08-07T15:37:37.895760Z",
     "iopub.status.busy": "2025-08-07T15:37:37.894839Z",
     "iopub.status.idle": "2025-08-07T15:37:37.905339Z",
     "shell.execute_reply": "2025-08-07T15:37:37.904687Z"
    },
    "papermill": {
     "duration": 0.039467,
     "end_time": "2025-08-07T15:37:37.906604",
     "exception": false,
     "start_time": "2025-08-07T15:37:37.867137",
     "status": "completed"
    },
    "tags": []
   },
   "outputs": [
    {
     "data": {
      "text/plain": [
       "array([4.96766162, 3.92229988, 4.49069455, ..., 4.06814525, 4.59785907,\n",
       "       4.75025227])"
      ]
     },
     "execution_count": 93,
     "metadata": {},
     "output_type": "execute_result"
    }
   ],
   "source": [
    "y_pred = training_model.predict(X_test)\n",
    "y_pred"
   ]
  },
  {
   "cell_type": "code",
   "execution_count": 94,
   "id": "863fe651",
   "metadata": {
    "execution": {
     "iopub.execute_input": "2025-08-07T15:37:37.960797Z",
     "iopub.status.busy": "2025-08-07T15:37:37.960492Z",
     "iopub.status.idle": "2025-08-07T15:37:37.967013Z",
     "shell.execute_reply": "2025-08-07T15:37:37.966241Z"
    },
    "papermill": {
     "duration": 0.035226,
     "end_time": "2025-08-07T15:37:37.968285",
     "exception": false,
     "start_time": "2025-08-07T15:37:37.933059",
     "status": "completed"
    },
    "tags": []
   },
   "outputs": [
    {
     "data": {
      "text/plain": [
       "5158     4.65\n",
       "3831     3.70\n",
       "5117     4.19\n",
       "6326     3.88\n",
       "11359    3.68\n",
       "         ... \n",
       "10290    5.17\n",
       "13995    4.48\n",
       "9665     3.91\n",
       "2276     4.00\n",
       "4174     4.65\n",
       "Name: Visibility, Length: 2924, dtype: float64"
      ]
     },
     "execution_count": 94,
     "metadata": {},
     "output_type": "execute_result"
    }
   ],
   "source": [
    "y_test"
   ]
  },
  {
   "cell_type": "code",
   "execution_count": 95,
   "id": "07817c35",
   "metadata": {
    "execution": {
     "iopub.execute_input": "2025-08-07T15:37:38.025918Z",
     "iopub.status.busy": "2025-08-07T15:37:38.025631Z",
     "iopub.status.idle": "2025-08-07T15:37:38.032713Z",
     "shell.execute_reply": "2025-08-07T15:37:38.031967Z"
    },
    "papermill": {
     "duration": 0.036084,
     "end_time": "2025-08-07T15:37:38.033909",
     "exception": false,
     "start_time": "2025-08-07T15:37:37.997825",
     "status": "completed"
    },
    "tags": []
   },
   "outputs": [],
   "source": [
    "mse = mean_squared_error(y_test, y_pred)\n",
    "mae = mean_absolute_error(y_test, y_pred)\n",
    "r2 = r2_score(y_test, y_pred)\n",
    "rmse = math.sqrt(mse)"
   ]
  },
  {
   "cell_type": "code",
   "execution_count": 96,
   "id": "e2b4b219",
   "metadata": {
    "execution": {
     "iopub.execute_input": "2025-08-07T15:37:38.090169Z",
     "iopub.status.busy": "2025-08-07T15:37:38.089835Z",
     "iopub.status.idle": "2025-08-07T15:37:38.094510Z",
     "shell.execute_reply": "2025-08-07T15:37:38.093747Z"
    },
    "papermill": {
     "duration": 0.033914,
     "end_time": "2025-08-07T15:37:38.095765",
     "exception": false,
     "start_time": "2025-08-07T15:37:38.061851",
     "status": "completed"
    },
    "tags": []
   },
   "outputs": [
    {
     "name": "stdout",
     "output_type": "stream",
     "text": [
      "MSE Score: 1.0559440263445232\n",
      "MAE Score: 0.4419681878839835\n",
      "R2 Score: 0.4588704851032853\n",
      "RMSE Score: 1.0275913712874993\n"
     ]
    }
   ],
   "source": [
    "print(\"MSE Score:\", mse)\n",
    "print(\"MAE Score:\", mae)\n",
    "print(\"R2 Score:\", r2)\n",
    "print(\"RMSE Score:\", rmse)"
   ]
  },
  {
   "cell_type": "code",
   "execution_count": 97,
   "id": "4942982a",
   "metadata": {
    "execution": {
     "iopub.execute_input": "2025-08-07T15:37:38.150045Z",
     "iopub.status.busy": "2025-08-07T15:37:38.149776Z",
     "iopub.status.idle": "2025-08-07T15:37:38.158050Z",
     "shell.execute_reply": "2025-08-07T15:37:38.157337Z"
    },
    "papermill": {
     "duration": 0.036649,
     "end_time": "2025-08-07T15:37:38.159200",
     "exception": false,
     "start_time": "2025-08-07T15:37:38.122551",
     "status": "completed"
    },
    "tags": []
   },
   "outputs": [
    {
     "name": "stdout",
     "output_type": "stream",
     "text": [
      "❌ Regression model not improved:\n",
      "   Current MSE: 1.055944, Best MSE: 0.947622\n",
      "   Current R²: 0.458870, Best R²: 0.514381\n",
      "   Current Features: 24, Best Features: 27\n"
     ]
    }
   ],
   "source": [
    "regression_params = {\n",
    "    'model_name': model_name_for_saving,\n",
    "    'scaler_name': \"StandardScaler\",\n",
    "    'features_list': feature_columns_for_saving,\n",
    "    'target_column': target_name_for_saving,\n",
    "    'mse': mse,\n",
    "    'mae': mae,\n",
    "    'rmse': rmse,\n",
    "    'r2': r2,\n",
    "    'parameters': json.dumps(training_model.get_params())\n",
    "}\n",
    "save_model_performance_if_better('regression', regression_params)"
   ]
  },
  {
   "cell_type": "markdown",
   "id": "610759f7",
   "metadata": {
    "papermill": {
     "duration": 0.026599,
     "end_time": "2025-08-07T15:37:38.213178",
     "exception": false,
     "start_time": "2025-08-07T15:37:38.186579",
     "status": "completed"
    },
    "tags": []
   },
   "source": [
    "#### Tuning with Grid Search"
   ]
  },
  {
   "cell_type": "code",
   "execution_count": 98,
   "id": "40177e93",
   "metadata": {
    "execution": {
     "iopub.execute_input": "2025-08-07T15:37:38.267161Z",
     "iopub.status.busy": "2025-08-07T15:37:38.266876Z",
     "iopub.status.idle": "2025-08-07T15:37:38.271429Z",
     "shell.execute_reply": "2025-08-07T15:37:38.270374Z"
    },
    "papermill": {
     "duration": 0.033425,
     "end_time": "2025-08-07T15:37:38.272946",
     "exception": false,
     "start_time": "2025-08-07T15:37:38.239521",
     "status": "completed"
    },
    "tags": []
   },
   "outputs": [],
   "source": [
    "grid_search = RandomizedSearchCV(\n",
    "    GradientBoostingRegressor(random_state=42), \n",
    "    grid_param,\n",
    "    n_iter=number_of_model_for_randomized_grid,\n",
    "    cv=5,\n",
    "    scoring='neg_mean_squared_error',\n",
    "    n_jobs=-1,\n",
    "    verbose=1,\n",
    "    random_state=42\n",
    ")"
   ]
  },
  {
   "cell_type": "code",
   "execution_count": 99,
   "id": "8c0e4b71",
   "metadata": {
    "execution": {
     "iopub.execute_input": "2025-08-07T15:37:38.326956Z",
     "iopub.status.busy": "2025-08-07T15:37:38.326722Z",
     "iopub.status.idle": "2025-08-07T17:12:32.355993Z",
     "shell.execute_reply": "2025-08-07T17:12:32.354860Z"
    },
    "papermill": {
     "duration": 5694.086951,
     "end_time": "2025-08-07T17:12:32.386491",
     "exception": false,
     "start_time": "2025-08-07T15:37:38.299540",
     "status": "completed"
    },
    "tags": []
   },
   "outputs": [
    {
     "name": "stdout",
     "output_type": "stream",
     "text": [
      "Starting hyperparameter tuning...\n",
      "Fitting 5 folds for each of 100 candidates, totalling 500 fits\n",
      "CPU times: user 22.8 s, sys: 6.83 s, total: 29.7 s\n",
      "Wall time: 1h 34min 54s\n"
     ]
    },
    {
     "data": {
      "text/html": [
       "<style>#sk-container-id-15 {color: black;background-color: white;}#sk-container-id-15 pre{padding: 0;}#sk-container-id-15 div.sk-toggleable {background-color: white;}#sk-container-id-15 label.sk-toggleable__label {cursor: pointer;display: block;width: 100%;margin-bottom: 0;padding: 0.3em;box-sizing: border-box;text-align: center;}#sk-container-id-15 label.sk-toggleable__label-arrow:before {content: \"▸\";float: left;margin-right: 0.25em;color: #696969;}#sk-container-id-15 label.sk-toggleable__label-arrow:hover:before {color: black;}#sk-container-id-15 div.sk-estimator:hover label.sk-toggleable__label-arrow:before {color: black;}#sk-container-id-15 div.sk-toggleable__content {max-height: 0;max-width: 0;overflow: hidden;text-align: left;background-color: #f0f8ff;}#sk-container-id-15 div.sk-toggleable__content pre {margin: 0.2em;color: black;border-radius: 0.25em;background-color: #f0f8ff;}#sk-container-id-15 input.sk-toggleable__control:checked~div.sk-toggleable__content {max-height: 200px;max-width: 100%;overflow: auto;}#sk-container-id-15 input.sk-toggleable__control:checked~label.sk-toggleable__label-arrow:before {content: \"▾\";}#sk-container-id-15 div.sk-estimator input.sk-toggleable__control:checked~label.sk-toggleable__label {background-color: #d4ebff;}#sk-container-id-15 div.sk-label input.sk-toggleable__control:checked~label.sk-toggleable__label {background-color: #d4ebff;}#sk-container-id-15 input.sk-hidden--visually {border: 0;clip: rect(1px 1px 1px 1px);clip: rect(1px, 1px, 1px, 1px);height: 1px;margin: -1px;overflow: hidden;padding: 0;position: absolute;width: 1px;}#sk-container-id-15 div.sk-estimator {font-family: monospace;background-color: #f0f8ff;border: 1px dotted black;border-radius: 0.25em;box-sizing: border-box;margin-bottom: 0.5em;}#sk-container-id-15 div.sk-estimator:hover {background-color: #d4ebff;}#sk-container-id-15 div.sk-parallel-item::after {content: \"\";width: 100%;border-bottom: 1px solid gray;flex-grow: 1;}#sk-container-id-15 div.sk-label:hover label.sk-toggleable__label {background-color: #d4ebff;}#sk-container-id-15 div.sk-serial::before {content: \"\";position: absolute;border-left: 1px solid gray;box-sizing: border-box;top: 0;bottom: 0;left: 50%;z-index: 0;}#sk-container-id-15 div.sk-serial {display: flex;flex-direction: column;align-items: center;background-color: white;padding-right: 0.2em;padding-left: 0.2em;position: relative;}#sk-container-id-15 div.sk-item {position: relative;z-index: 1;}#sk-container-id-15 div.sk-parallel {display: flex;align-items: stretch;justify-content: center;background-color: white;position: relative;}#sk-container-id-15 div.sk-item::before, #sk-container-id-15 div.sk-parallel-item::before {content: \"\";position: absolute;border-left: 1px solid gray;box-sizing: border-box;top: 0;bottom: 0;left: 50%;z-index: -1;}#sk-container-id-15 div.sk-parallel-item {display: flex;flex-direction: column;z-index: 1;position: relative;background-color: white;}#sk-container-id-15 div.sk-parallel-item:first-child::after {align-self: flex-end;width: 50%;}#sk-container-id-15 div.sk-parallel-item:last-child::after {align-self: flex-start;width: 50%;}#sk-container-id-15 div.sk-parallel-item:only-child::after {width: 0;}#sk-container-id-15 div.sk-dashed-wrapped {border: 1px dashed gray;margin: 0 0.4em 0.5em 0.4em;box-sizing: border-box;padding-bottom: 0.4em;background-color: white;}#sk-container-id-15 div.sk-label label {font-family: monospace;font-weight: bold;display: inline-block;line-height: 1.2em;}#sk-container-id-15 div.sk-label-container {text-align: center;}#sk-container-id-15 div.sk-container {/* jupyter's `normalize.less` sets `[hidden] { display: none; }` but bootstrap.min.css set `[hidden] { display: none !important; }` so we also need the `!important` here to be able to override the default hidden behavior on the sphinx rendered scikit-learn.org. See: https://github.com/scikit-learn/scikit-learn/issues/21755 */display: inline-block !important;position: relative;}#sk-container-id-15 div.sk-text-repr-fallback {display: none;}</style><div id=\"sk-container-id-15\" class=\"sk-top-container\"><div class=\"sk-text-repr-fallback\"><pre>RandomizedSearchCV(cv=5, estimator=GradientBoostingRegressor(random_state=42),\n",
       "                   n_iter=100, n_jobs=-1,\n",
       "                   param_distributions={&#x27;learning_rate&#x27;: [0.01, 0.05, 0.1],\n",
       "                                        &#x27;loss&#x27;: [&#x27;squared_error&#x27;, &#x27;huber&#x27;],\n",
       "                                        &#x27;max_depth&#x27;: [None, 10, 20, 30],\n",
       "                                        &#x27;max_features&#x27;: [&#x27;sqrt&#x27;, &#x27;log2&#x27;, None],\n",
       "                                        &#x27;min_samples_leaf&#x27;: [1, 2, 4, 6],\n",
       "                                        &#x27;min_samples_split&#x27;: [2, 5, 10, 15, 20],\n",
       "                                        &#x27;n_estimators&#x27;: [100, 200, 300],\n",
       "                                        &#x27;subsample&#x27;: [0.7, 0.8, 0.9]},\n",
       "                   random_state=42, scoring=&#x27;neg_mean_squared_error&#x27;,\n",
       "                   verbose=1)</pre><b>In a Jupyter environment, please rerun this cell to show the HTML representation or trust the notebook. <br />On GitHub, the HTML representation is unable to render, please try loading this page with nbviewer.org.</b></div><div class=\"sk-container\" hidden><div class=\"sk-item sk-dashed-wrapped\"><div class=\"sk-label-container\"><div class=\"sk-label sk-toggleable\"><input class=\"sk-toggleable__control sk-hidden--visually\" id=\"sk-estimator-id-23\" type=\"checkbox\" ><label for=\"sk-estimator-id-23\" class=\"sk-toggleable__label sk-toggleable__label-arrow\">RandomizedSearchCV</label><div class=\"sk-toggleable__content\"><pre>RandomizedSearchCV(cv=5, estimator=GradientBoostingRegressor(random_state=42),\n",
       "                   n_iter=100, n_jobs=-1,\n",
       "                   param_distributions={&#x27;learning_rate&#x27;: [0.01, 0.05, 0.1],\n",
       "                                        &#x27;loss&#x27;: [&#x27;squared_error&#x27;, &#x27;huber&#x27;],\n",
       "                                        &#x27;max_depth&#x27;: [None, 10, 20, 30],\n",
       "                                        &#x27;max_features&#x27;: [&#x27;sqrt&#x27;, &#x27;log2&#x27;, None],\n",
       "                                        &#x27;min_samples_leaf&#x27;: [1, 2, 4, 6],\n",
       "                                        &#x27;min_samples_split&#x27;: [2, 5, 10, 15, 20],\n",
       "                                        &#x27;n_estimators&#x27;: [100, 200, 300],\n",
       "                                        &#x27;subsample&#x27;: [0.7, 0.8, 0.9]},\n",
       "                   random_state=42, scoring=&#x27;neg_mean_squared_error&#x27;,\n",
       "                   verbose=1)</pre></div></div></div><div class=\"sk-parallel\"><div class=\"sk-parallel-item\"><div class=\"sk-item\"><div class=\"sk-label-container\"><div class=\"sk-label sk-toggleable\"><input class=\"sk-toggleable__control sk-hidden--visually\" id=\"sk-estimator-id-24\" type=\"checkbox\" ><label for=\"sk-estimator-id-24\" class=\"sk-toggleable__label sk-toggleable__label-arrow\">estimator: GradientBoostingRegressor</label><div class=\"sk-toggleable__content\"><pre>GradientBoostingRegressor(random_state=42)</pre></div></div></div><div class=\"sk-serial\"><div class=\"sk-item\"><div class=\"sk-estimator sk-toggleable\"><input class=\"sk-toggleable__control sk-hidden--visually\" id=\"sk-estimator-id-25\" type=\"checkbox\" ><label for=\"sk-estimator-id-25\" class=\"sk-toggleable__label sk-toggleable__label-arrow\">GradientBoostingRegressor</label><div class=\"sk-toggleable__content\"><pre>GradientBoostingRegressor(random_state=42)</pre></div></div></div></div></div></div></div></div></div></div>"
      ],
      "text/plain": [
       "RandomizedSearchCV(cv=5, estimator=GradientBoostingRegressor(random_state=42),\n",
       "                   n_iter=100, n_jobs=-1,\n",
       "                   param_distributions={'learning_rate': [0.01, 0.05, 0.1],\n",
       "                                        'loss': ['squared_error', 'huber'],\n",
       "                                        'max_depth': [None, 10, 20, 30],\n",
       "                                        'max_features': ['sqrt', 'log2', None],\n",
       "                                        'min_samples_leaf': [1, 2, 4, 6],\n",
       "                                        'min_samples_split': [2, 5, 10, 15, 20],\n",
       "                                        'n_estimators': [100, 200, 300],\n",
       "                                        'subsample': [0.7, 0.8, 0.9]},\n",
       "                   random_state=42, scoring='neg_mean_squared_error',\n",
       "                   verbose=1)"
      ]
     },
     "execution_count": 99,
     "metadata": {},
     "output_type": "execute_result"
    }
   ],
   "source": [
    "%%time\n",
    "print(\"Starting hyperparameter tuning...\")\n",
    "grid_search.fit(X_train, y_train)"
   ]
  },
  {
   "cell_type": "code",
   "execution_count": 100,
   "id": "90e416e0",
   "metadata": {
    "execution": {
     "iopub.execute_input": "2025-08-07T17:12:32.442986Z",
     "iopub.status.busy": "2025-08-07T17:12:32.442615Z",
     "iopub.status.idle": "2025-08-07T17:12:32.449350Z",
     "shell.execute_reply": "2025-08-07T17:12:32.448575Z"
    },
    "papermill": {
     "duration": 0.037304,
     "end_time": "2025-08-07T17:12:32.450868",
     "exception": false,
     "start_time": "2025-08-07T17:12:32.413564",
     "status": "completed"
    },
    "tags": []
   },
   "outputs": [
    {
     "name": "stdout",
     "output_type": "stream",
     "text": [
      "TUNING RESULTS\n",
      "==================================================\n",
      "Best Parameters: {'subsample': 0.9, 'n_estimators': 300, 'min_samples_split': 2, 'min_samples_leaf': 6, 'max_features': 'log2', 'max_depth': 30, 'loss': 'squared_error', 'learning_rate': 0.1}\n",
      "Best Cross-Validation Score (Negative MSE): -0.8466039897480595\n",
      "Best Cross-Validation Score (MSE): 0.8466039897480595\n",
      "Best Cross-Validation Score (RMSE): 0.9201108573145192\n"
     ]
    }
   ],
   "source": [
    "print(\"TUNING RESULTS\")\n",
    "print(\"=\"*50)\n",
    "print(\"Best Parameters:\", grid_search.best_params_)\n",
    "print(\"Best Cross-Validation Score (Negative MSE):\", grid_search.best_score_)\n",
    "print(\"Best Cross-Validation Score (MSE):\", -grid_search.best_score_)\n",
    "print(\"Best Cross-Validation Score (RMSE):\", math.sqrt(-grid_search.best_score_))"
   ]
  },
  {
   "cell_type": "code",
   "execution_count": 101,
   "id": "e2a9470c",
   "metadata": {
    "execution": {
     "iopub.execute_input": "2025-08-07T17:12:32.518459Z",
     "iopub.status.busy": "2025-08-07T17:12:32.517847Z",
     "iopub.status.idle": "2025-08-07T17:12:32.659786Z",
     "shell.execute_reply": "2025-08-07T17:12:32.658854Z"
    },
    "papermill": {
     "duration": 0.171295,
     "end_time": "2025-08-07T17:12:32.661138",
     "exception": false,
     "start_time": "2025-08-07T17:12:32.489843",
     "status": "completed"
    },
    "tags": []
   },
   "outputs": [],
   "source": [
    "grid_search_best_model = grid_search.best_estimator_\n",
    "y_pred = grid_search_best_model.predict(X_test)"
   ]
  },
  {
   "cell_type": "code",
   "execution_count": 102,
   "id": "68fd7e53",
   "metadata": {
    "execution": {
     "iopub.execute_input": "2025-08-07T17:12:32.721342Z",
     "iopub.status.busy": "2025-08-07T17:12:32.721075Z",
     "iopub.status.idle": "2025-08-07T17:12:32.727441Z",
     "shell.execute_reply": "2025-08-07T17:12:32.726737Z"
    },
    "papermill": {
     "duration": 0.038942,
     "end_time": "2025-08-07T17:12:32.728793",
     "exception": false,
     "start_time": "2025-08-07T17:12:32.689851",
     "status": "completed"
    },
    "tags": []
   },
   "outputs": [],
   "source": [
    "mse_grid_search = mean_squared_error(y_test, y_pred)\n",
    "mae_grid_search = mean_absolute_error(y_test, y_pred)\n",
    "r2_grid_search = r2_score(y_test, y_pred)\n",
    "rmse_grid_search = math.sqrt(mse_grid_search)"
   ]
  },
  {
   "cell_type": "code",
   "execution_count": 103,
   "id": "defab980",
   "metadata": {
    "execution": {
     "iopub.execute_input": "2025-08-07T17:12:32.784358Z",
     "iopub.status.busy": "2025-08-07T17:12:32.784115Z",
     "iopub.status.idle": "2025-08-07T17:12:32.789297Z",
     "shell.execute_reply": "2025-08-07T17:12:32.788445Z"
    },
    "papermill": {
     "duration": 0.034065,
     "end_time": "2025-08-07T17:12:32.790700",
     "exception": false,
     "start_time": "2025-08-07T17:12:32.756635",
     "status": "completed"
    },
    "tags": []
   },
   "outputs": [
    {
     "name": "stdout",
     "output_type": "stream",
     "text": [
      "MSE Score: 0.8434345631483948\n",
      "MAE Score: 0.3987119742853429\n",
      "R2 Score: 0.5677731729932612\n",
      "RMSE Score: 0.9183869354190503\n"
     ]
    }
   ],
   "source": [
    "print(\"MSE Score:\", mse_grid_search)\n",
    "print(\"MAE Score:\", mae_grid_search)\n",
    "print(\"R2 Score:\", r2_grid_search)\n",
    "print(\"RMSE Score:\", rmse_grid_search)"
   ]
  },
  {
   "cell_type": "code",
   "execution_count": 104,
   "id": "35a211d3",
   "metadata": {
    "execution": {
     "iopub.execute_input": "2025-08-07T17:12:32.846170Z",
     "iopub.status.busy": "2025-08-07T17:12:32.845925Z",
     "iopub.status.idle": "2025-08-07T17:12:32.858051Z",
     "shell.execute_reply": "2025-08-07T17:12:32.857017Z"
    },
    "papermill": {
     "duration": 0.041442,
     "end_time": "2025-08-07T17:12:32.859485",
     "exception": false,
     "start_time": "2025-08-07T17:12:32.818043",
     "status": "completed"
    },
    "tags": []
   },
   "outputs": [
    {
     "name": "stdout",
     "output_type": "stream",
     "text": [
      "❌ Regression model not improved:\n",
      "   Current MSE: 0.843435, Best MSE: 0.716288\n",
      "   Current R²: 0.567773, Best R²: 0.632931\n",
      "   Current Features: 24, Best Features: 27\n"
     ]
    }
   ],
   "source": [
    "regression_params = {\n",
    "    'model_name': model_name_for_saving + \" Tuned\",\n",
    "    'scaler_name': \"StandardScaler\",\n",
    "    'features_list': feature_columns_for_saving,\n",
    "    'target_column': target_name_for_saving,\n",
    "    'mse': mse_grid_search,\n",
    "    'mae': mae_grid_search,\n",
    "    'rmse': rmse_grid_search,\n",
    "    'r2': r2_grid_search,\n",
    "    'parameters' : json.dumps({\n",
    "        \"best_params\": grid_search.best_params_,\n",
    "        \"cv_score\": grid_search.best_score_,\n",
    "        \"all_params\": grid_search_best_model.get_params()\n",
    "    })\n",
    "}\n",
    "save_model_performance_if_better('regression', regression_params)"
   ]
  },
  {
   "cell_type": "markdown",
   "id": "c3e18441",
   "metadata": {
    "papermill": {
     "duration": 0.026879,
     "end_time": "2025-08-07T17:12:32.914561",
     "exception": false,
     "start_time": "2025-08-07T17:12:32.887682",
     "status": "completed"
    },
    "tags": []
   },
   "source": [
    "### Robust Scaler"
   ]
  },
  {
   "cell_type": "code",
   "execution_count": 105,
   "id": "9e020a42",
   "metadata": {
    "execution": {
     "iopub.execute_input": "2025-08-07T17:12:32.969632Z",
     "iopub.status.busy": "2025-08-07T17:12:32.969336Z",
     "iopub.status.idle": "2025-08-07T17:12:32.995983Z",
     "shell.execute_reply": "2025-08-07T17:12:32.995135Z"
    },
    "papermill": {
     "duration": 0.055785,
     "end_time": "2025-08-07T17:12:32.997290",
     "exception": false,
     "start_time": "2025-08-07T17:12:32.941505",
     "status": "completed"
    },
    "tags": []
   },
   "outputs": [],
   "source": [
    "scaler = RobustScaler()\n",
    "X_train = scaler.fit_transform(X_train_raw)\n",
    "X_test = scaler.transform(X_test_raw)"
   ]
  },
  {
   "cell_type": "code",
   "execution_count": 106,
   "id": "1b4f76ab",
   "metadata": {
    "execution": {
     "iopub.execute_input": "2025-08-07T17:12:33.053474Z",
     "iopub.status.busy": "2025-08-07T17:12:33.053209Z",
     "iopub.status.idle": "2025-08-07T17:12:33.058570Z",
     "shell.execute_reply": "2025-08-07T17:12:33.057936Z"
    },
    "papermill": {
     "duration": 0.034442,
     "end_time": "2025-08-07T17:12:33.059752",
     "exception": false,
     "start_time": "2025-08-07T17:12:33.025310",
     "status": "completed"
    },
    "tags": []
   },
   "outputs": [
    {
     "data": {
      "text/plain": [
       "array([[ 0.6       , -0.16666667,  0.        , ..., -0.03738547,\n",
       "         1.44008264,  8.87596899],\n",
       "       [ 1.        ,  0.33333333,  1.        , ..., -0.84268652,\n",
       "         0.62603306,  0.        ],\n",
       "       [-0.8       , -1.        ,  0.        , ..., -0.84268652,\n",
       "         0.        ,  0.        ],\n",
       "       ...,\n",
       "       [ 0.4       , -0.16666667,  0.        , ...,  0.5899051 ,\n",
       "         0.6322314 ,  0.75193798],\n",
       "       [-1.        ,  0.75      ,  0.        , ..., -0.84268652,\n",
       "         0.        ,  0.        ],\n",
       "       [ 0.6       , -0.33333333,  0.        , ...,  0.61755563,\n",
       "         0.59917355,  7.5       ]])"
      ]
     },
     "execution_count": 106,
     "metadata": {},
     "output_type": "execute_result"
    }
   ],
   "source": [
    "X_train"
   ]
  },
  {
   "cell_type": "code",
   "execution_count": 107,
   "id": "26b912b4",
   "metadata": {
    "execution": {
     "iopub.execute_input": "2025-08-07T17:12:33.115256Z",
     "iopub.status.busy": "2025-08-07T17:12:33.114987Z",
     "iopub.status.idle": "2025-08-07T17:12:33.120994Z",
     "shell.execute_reply": "2025-08-07T17:12:33.120326Z"
    },
    "papermill": {
     "duration": 0.035615,
     "end_time": "2025-08-07T17:12:33.122496",
     "exception": false,
     "start_time": "2025-08-07T17:12:33.086881",
     "status": "completed"
    },
    "tags": []
   },
   "outputs": [
    {
     "data": {
      "text/plain": [
       "array([[ 4.00000000e-01,  8.33333333e-01,  0.00000000e+00, ...,\n",
       "         6.20009817e-01,  0.00000000e+00,  0.00000000e+00],\n",
       "       [ 0.00000000e+00,  2.50000000e-01,  1.00000000e+00, ...,\n",
       "         7.40592277e-01,  1.52892562e-01,  0.00000000e+00],\n",
       "       [ 4.00000000e-01, -5.83333333e-01,  0.00000000e+00, ...,\n",
       "         7.82804319e-01,  0.00000000e+00,  0.00000000e+00],\n",
       "       ...,\n",
       "       [-8.00000000e-01,  4.16666667e-01,  1.00000000e+00, ...,\n",
       "        -8.40559555e-01,  4.19421488e-01,  0.00000000e+00],\n",
       "       [-4.00000000e-01,  6.66666667e-01,  0.00000000e+00, ...,\n",
       "        -8.42686518e-01,  0.00000000e+00,  6.67829457e+00],\n",
       "       [ 0.00000000e+00,  8.33333333e-01,  0.00000000e+00, ...,\n",
       "         1.71793194e-03,  0.00000000e+00,  0.00000000e+00]])"
      ]
     },
     "execution_count": 107,
     "metadata": {},
     "output_type": "execute_result"
    }
   ],
   "source": [
    "X_test"
   ]
  },
  {
   "cell_type": "markdown",
   "id": "cf746893",
   "metadata": {
    "papermill": {
     "duration": 0.027103,
     "end_time": "2025-08-07T17:12:33.178547",
     "exception": false,
     "start_time": "2025-08-07T17:12:33.151444",
     "status": "completed"
    },
    "tags": []
   },
   "source": [
    "#### Default Parameters"
   ]
  },
  {
   "cell_type": "code",
   "execution_count": 108,
   "id": "c7cddb7f",
   "metadata": {
    "execution": {
     "iopub.execute_input": "2025-08-07T17:12:33.234078Z",
     "iopub.status.busy": "2025-08-07T17:12:33.233809Z",
     "iopub.status.idle": "2025-08-07T17:12:33.239810Z",
     "shell.execute_reply": "2025-08-07T17:12:33.239018Z"
    },
    "papermill": {
     "duration": 0.035251,
     "end_time": "2025-08-07T17:12:33.241200",
     "exception": false,
     "start_time": "2025-08-07T17:12:33.205949",
     "status": "completed"
    },
    "tags": []
   },
   "outputs": [
    {
     "data": {
      "text/html": [
       "<style>#sk-container-id-16 {color: black;background-color: white;}#sk-container-id-16 pre{padding: 0;}#sk-container-id-16 div.sk-toggleable {background-color: white;}#sk-container-id-16 label.sk-toggleable__label {cursor: pointer;display: block;width: 100%;margin-bottom: 0;padding: 0.3em;box-sizing: border-box;text-align: center;}#sk-container-id-16 label.sk-toggleable__label-arrow:before {content: \"▸\";float: left;margin-right: 0.25em;color: #696969;}#sk-container-id-16 label.sk-toggleable__label-arrow:hover:before {color: black;}#sk-container-id-16 div.sk-estimator:hover label.sk-toggleable__label-arrow:before {color: black;}#sk-container-id-16 div.sk-toggleable__content {max-height: 0;max-width: 0;overflow: hidden;text-align: left;background-color: #f0f8ff;}#sk-container-id-16 div.sk-toggleable__content pre {margin: 0.2em;color: black;border-radius: 0.25em;background-color: #f0f8ff;}#sk-container-id-16 input.sk-toggleable__control:checked~div.sk-toggleable__content {max-height: 200px;max-width: 100%;overflow: auto;}#sk-container-id-16 input.sk-toggleable__control:checked~label.sk-toggleable__label-arrow:before {content: \"▾\";}#sk-container-id-16 div.sk-estimator input.sk-toggleable__control:checked~label.sk-toggleable__label {background-color: #d4ebff;}#sk-container-id-16 div.sk-label input.sk-toggleable__control:checked~label.sk-toggleable__label {background-color: #d4ebff;}#sk-container-id-16 input.sk-hidden--visually {border: 0;clip: rect(1px 1px 1px 1px);clip: rect(1px, 1px, 1px, 1px);height: 1px;margin: -1px;overflow: hidden;padding: 0;position: absolute;width: 1px;}#sk-container-id-16 div.sk-estimator {font-family: monospace;background-color: #f0f8ff;border: 1px dotted black;border-radius: 0.25em;box-sizing: border-box;margin-bottom: 0.5em;}#sk-container-id-16 div.sk-estimator:hover {background-color: #d4ebff;}#sk-container-id-16 div.sk-parallel-item::after {content: \"\";width: 100%;border-bottom: 1px solid gray;flex-grow: 1;}#sk-container-id-16 div.sk-label:hover label.sk-toggleable__label {background-color: #d4ebff;}#sk-container-id-16 div.sk-serial::before {content: \"\";position: absolute;border-left: 1px solid gray;box-sizing: border-box;top: 0;bottom: 0;left: 50%;z-index: 0;}#sk-container-id-16 div.sk-serial {display: flex;flex-direction: column;align-items: center;background-color: white;padding-right: 0.2em;padding-left: 0.2em;position: relative;}#sk-container-id-16 div.sk-item {position: relative;z-index: 1;}#sk-container-id-16 div.sk-parallel {display: flex;align-items: stretch;justify-content: center;background-color: white;position: relative;}#sk-container-id-16 div.sk-item::before, #sk-container-id-16 div.sk-parallel-item::before {content: \"\";position: absolute;border-left: 1px solid gray;box-sizing: border-box;top: 0;bottom: 0;left: 50%;z-index: -1;}#sk-container-id-16 div.sk-parallel-item {display: flex;flex-direction: column;z-index: 1;position: relative;background-color: white;}#sk-container-id-16 div.sk-parallel-item:first-child::after {align-self: flex-end;width: 50%;}#sk-container-id-16 div.sk-parallel-item:last-child::after {align-self: flex-start;width: 50%;}#sk-container-id-16 div.sk-parallel-item:only-child::after {width: 0;}#sk-container-id-16 div.sk-dashed-wrapped {border: 1px dashed gray;margin: 0 0.4em 0.5em 0.4em;box-sizing: border-box;padding-bottom: 0.4em;background-color: white;}#sk-container-id-16 div.sk-label label {font-family: monospace;font-weight: bold;display: inline-block;line-height: 1.2em;}#sk-container-id-16 div.sk-label-container {text-align: center;}#sk-container-id-16 div.sk-container {/* jupyter's `normalize.less` sets `[hidden] { display: none; }` but bootstrap.min.css set `[hidden] { display: none !important; }` so we also need the `!important` here to be able to override the default hidden behavior on the sphinx rendered scikit-learn.org. See: https://github.com/scikit-learn/scikit-learn/issues/21755 */display: inline-block !important;position: relative;}#sk-container-id-16 div.sk-text-repr-fallback {display: none;}</style><div id=\"sk-container-id-16\" class=\"sk-top-container\"><div class=\"sk-text-repr-fallback\"><pre>GradientBoostingRegressor(random_state=42)</pre><b>In a Jupyter environment, please rerun this cell to show the HTML representation or trust the notebook. <br />On GitHub, the HTML representation is unable to render, please try loading this page with nbviewer.org.</b></div><div class=\"sk-container\" hidden><div class=\"sk-item\"><div class=\"sk-estimator sk-toggleable\"><input class=\"sk-toggleable__control sk-hidden--visually\" id=\"sk-estimator-id-26\" type=\"checkbox\" checked><label for=\"sk-estimator-id-26\" class=\"sk-toggleable__label sk-toggleable__label-arrow\">GradientBoostingRegressor</label><div class=\"sk-toggleable__content\"><pre>GradientBoostingRegressor(random_state=42)</pre></div></div></div></div></div>"
      ],
      "text/plain": [
       "GradientBoostingRegressor(random_state=42)"
      ]
     },
     "execution_count": 108,
     "metadata": {},
     "output_type": "execute_result"
    }
   ],
   "source": [
    "training_model = GradientBoostingRegressor(random_state=42)\n",
    "training_model"
   ]
  },
  {
   "cell_type": "code",
   "execution_count": 109,
   "id": "fe72b51a",
   "metadata": {
    "execution": {
     "iopub.execute_input": "2025-08-07T17:12:33.297662Z",
     "iopub.status.busy": "2025-08-07T17:12:33.297388Z",
     "iopub.status.idle": "2025-08-07T17:12:36.607283Z",
     "shell.execute_reply": "2025-08-07T17:12:36.606385Z"
    },
    "papermill": {
     "duration": 3.339807,
     "end_time": "2025-08-07T17:12:36.609029",
     "exception": false,
     "start_time": "2025-08-07T17:12:33.269222",
     "status": "completed"
    },
    "tags": []
   },
   "outputs": [
    {
     "name": "stdout",
     "output_type": "stream",
     "text": [
      "CPU times: user 3.3 s, sys: 0 ns, total: 3.3 s\n",
      "Wall time: 3.3 s\n"
     ]
    },
    {
     "data": {
      "text/html": [
       "<style>#sk-container-id-17 {color: black;background-color: white;}#sk-container-id-17 pre{padding: 0;}#sk-container-id-17 div.sk-toggleable {background-color: white;}#sk-container-id-17 label.sk-toggleable__label {cursor: pointer;display: block;width: 100%;margin-bottom: 0;padding: 0.3em;box-sizing: border-box;text-align: center;}#sk-container-id-17 label.sk-toggleable__label-arrow:before {content: \"▸\";float: left;margin-right: 0.25em;color: #696969;}#sk-container-id-17 label.sk-toggleable__label-arrow:hover:before {color: black;}#sk-container-id-17 div.sk-estimator:hover label.sk-toggleable__label-arrow:before {color: black;}#sk-container-id-17 div.sk-toggleable__content {max-height: 0;max-width: 0;overflow: hidden;text-align: left;background-color: #f0f8ff;}#sk-container-id-17 div.sk-toggleable__content pre {margin: 0.2em;color: black;border-radius: 0.25em;background-color: #f0f8ff;}#sk-container-id-17 input.sk-toggleable__control:checked~div.sk-toggleable__content {max-height: 200px;max-width: 100%;overflow: auto;}#sk-container-id-17 input.sk-toggleable__control:checked~label.sk-toggleable__label-arrow:before {content: \"▾\";}#sk-container-id-17 div.sk-estimator input.sk-toggleable__control:checked~label.sk-toggleable__label {background-color: #d4ebff;}#sk-container-id-17 div.sk-label input.sk-toggleable__control:checked~label.sk-toggleable__label {background-color: #d4ebff;}#sk-container-id-17 input.sk-hidden--visually {border: 0;clip: rect(1px 1px 1px 1px);clip: rect(1px, 1px, 1px, 1px);height: 1px;margin: -1px;overflow: hidden;padding: 0;position: absolute;width: 1px;}#sk-container-id-17 div.sk-estimator {font-family: monospace;background-color: #f0f8ff;border: 1px dotted black;border-radius: 0.25em;box-sizing: border-box;margin-bottom: 0.5em;}#sk-container-id-17 div.sk-estimator:hover {background-color: #d4ebff;}#sk-container-id-17 div.sk-parallel-item::after {content: \"\";width: 100%;border-bottom: 1px solid gray;flex-grow: 1;}#sk-container-id-17 div.sk-label:hover label.sk-toggleable__label {background-color: #d4ebff;}#sk-container-id-17 div.sk-serial::before {content: \"\";position: absolute;border-left: 1px solid gray;box-sizing: border-box;top: 0;bottom: 0;left: 50%;z-index: 0;}#sk-container-id-17 div.sk-serial {display: flex;flex-direction: column;align-items: center;background-color: white;padding-right: 0.2em;padding-left: 0.2em;position: relative;}#sk-container-id-17 div.sk-item {position: relative;z-index: 1;}#sk-container-id-17 div.sk-parallel {display: flex;align-items: stretch;justify-content: center;background-color: white;position: relative;}#sk-container-id-17 div.sk-item::before, #sk-container-id-17 div.sk-parallel-item::before {content: \"\";position: absolute;border-left: 1px solid gray;box-sizing: border-box;top: 0;bottom: 0;left: 50%;z-index: -1;}#sk-container-id-17 div.sk-parallel-item {display: flex;flex-direction: column;z-index: 1;position: relative;background-color: white;}#sk-container-id-17 div.sk-parallel-item:first-child::after {align-self: flex-end;width: 50%;}#sk-container-id-17 div.sk-parallel-item:last-child::after {align-self: flex-start;width: 50%;}#sk-container-id-17 div.sk-parallel-item:only-child::after {width: 0;}#sk-container-id-17 div.sk-dashed-wrapped {border: 1px dashed gray;margin: 0 0.4em 0.5em 0.4em;box-sizing: border-box;padding-bottom: 0.4em;background-color: white;}#sk-container-id-17 div.sk-label label {font-family: monospace;font-weight: bold;display: inline-block;line-height: 1.2em;}#sk-container-id-17 div.sk-label-container {text-align: center;}#sk-container-id-17 div.sk-container {/* jupyter's `normalize.less` sets `[hidden] { display: none; }` but bootstrap.min.css set `[hidden] { display: none !important; }` so we also need the `!important` here to be able to override the default hidden behavior on the sphinx rendered scikit-learn.org. See: https://github.com/scikit-learn/scikit-learn/issues/21755 */display: inline-block !important;position: relative;}#sk-container-id-17 div.sk-text-repr-fallback {display: none;}</style><div id=\"sk-container-id-17\" class=\"sk-top-container\"><div class=\"sk-text-repr-fallback\"><pre>GradientBoostingRegressor(random_state=42)</pre><b>In a Jupyter environment, please rerun this cell to show the HTML representation or trust the notebook. <br />On GitHub, the HTML representation is unable to render, please try loading this page with nbviewer.org.</b></div><div class=\"sk-container\" hidden><div class=\"sk-item\"><div class=\"sk-estimator sk-toggleable\"><input class=\"sk-toggleable__control sk-hidden--visually\" id=\"sk-estimator-id-27\" type=\"checkbox\" checked><label for=\"sk-estimator-id-27\" class=\"sk-toggleable__label sk-toggleable__label-arrow\">GradientBoostingRegressor</label><div class=\"sk-toggleable__content\"><pre>GradientBoostingRegressor(random_state=42)</pre></div></div></div></div></div>"
      ],
      "text/plain": [
       "GradientBoostingRegressor(random_state=42)"
      ]
     },
     "execution_count": 109,
     "metadata": {},
     "output_type": "execute_result"
    }
   ],
   "source": [
    "%%time\n",
    "training_model.fit(X_train, y_train)"
   ]
  },
  {
   "cell_type": "code",
   "execution_count": 110,
   "id": "93ea87d2",
   "metadata": {
    "execution": {
     "iopub.execute_input": "2025-08-07T17:12:36.666128Z",
     "iopub.status.busy": "2025-08-07T17:12:36.665874Z",
     "iopub.status.idle": "2025-08-07T17:12:36.676324Z",
     "shell.execute_reply": "2025-08-07T17:12:36.675569Z"
    },
    "papermill": {
     "duration": 0.040048,
     "end_time": "2025-08-07T17:12:36.677603",
     "exception": false,
     "start_time": "2025-08-07T17:12:36.637555",
     "status": "completed"
    },
    "tags": []
   },
   "outputs": [
    {
     "data": {
      "text/plain": [
       "array([4.96766162, 3.92229988, 4.49069455, ..., 4.06814525, 4.59785907,\n",
       "       4.75025227])"
      ]
     },
     "execution_count": 110,
     "metadata": {},
     "output_type": "execute_result"
    }
   ],
   "source": [
    "y_pred = training_model.predict(X_test)\n",
    "y_pred"
   ]
  },
  {
   "cell_type": "code",
   "execution_count": 111,
   "id": "a451e59f",
   "metadata": {
    "execution": {
     "iopub.execute_input": "2025-08-07T17:12:36.735841Z",
     "iopub.status.busy": "2025-08-07T17:12:36.735519Z",
     "iopub.status.idle": "2025-08-07T17:12:36.742146Z",
     "shell.execute_reply": "2025-08-07T17:12:36.741496Z"
    },
    "papermill": {
     "duration": 0.037038,
     "end_time": "2025-08-07T17:12:36.743271",
     "exception": false,
     "start_time": "2025-08-07T17:12:36.706233",
     "status": "completed"
    },
    "tags": []
   },
   "outputs": [
    {
     "data": {
      "text/plain": [
       "5158     4.65\n",
       "3831     3.70\n",
       "5117     4.19\n",
       "6326     3.88\n",
       "11359    3.68\n",
       "         ... \n",
       "10290    5.17\n",
       "13995    4.48\n",
       "9665     3.91\n",
       "2276     4.00\n",
       "4174     4.65\n",
       "Name: Visibility, Length: 2924, dtype: float64"
      ]
     },
     "execution_count": 111,
     "metadata": {},
     "output_type": "execute_result"
    }
   ],
   "source": [
    "y_test"
   ]
  },
  {
   "cell_type": "code",
   "execution_count": 112,
   "id": "cc10973a",
   "metadata": {
    "execution": {
     "iopub.execute_input": "2025-08-07T17:12:36.801657Z",
     "iopub.status.busy": "2025-08-07T17:12:36.801262Z",
     "iopub.status.idle": "2025-08-07T17:12:36.808789Z",
     "shell.execute_reply": "2025-08-07T17:12:36.807953Z"
    },
    "papermill": {
     "duration": 0.038388,
     "end_time": "2025-08-07T17:12:36.810051",
     "exception": false,
     "start_time": "2025-08-07T17:12:36.771663",
     "status": "completed"
    },
    "tags": []
   },
   "outputs": [],
   "source": [
    "mse = mean_squared_error(y_test, y_pred)\n",
    "mae = mean_absolute_error(y_test, y_pred)\n",
    "r2 = r2_score(y_test, y_pred)\n",
    "rmse = math.sqrt(mse)"
   ]
  },
  {
   "cell_type": "code",
   "execution_count": 113,
   "id": "d07a769f",
   "metadata": {
    "execution": {
     "iopub.execute_input": "2025-08-07T17:12:36.867663Z",
     "iopub.status.busy": "2025-08-07T17:12:36.866995Z",
     "iopub.status.idle": "2025-08-07T17:12:36.871660Z",
     "shell.execute_reply": "2025-08-07T17:12:36.870851Z"
    },
    "papermill": {
     "duration": 0.034511,
     "end_time": "2025-08-07T17:12:36.872945",
     "exception": false,
     "start_time": "2025-08-07T17:12:36.838434",
     "status": "completed"
    },
    "tags": []
   },
   "outputs": [
    {
     "name": "stdout",
     "output_type": "stream",
     "text": [
      "MSE Score: 1.0559507476276748\n",
      "MAE Score: 0.4419681878839835\n",
      "R2 Score: 0.458867040711726\n",
      "RMSE Score: 1.0275946416888688\n"
     ]
    }
   ],
   "source": [
    "print(\"MSE Score:\", mse)\n",
    "print(\"MAE Score:\", mae)\n",
    "print(\"R2 Score:\", r2)\n",
    "print(\"RMSE Score:\", rmse)"
   ]
  },
  {
   "cell_type": "code",
   "execution_count": 114,
   "id": "b78394b7",
   "metadata": {
    "execution": {
     "iopub.execute_input": "2025-08-07T17:12:36.931887Z",
     "iopub.status.busy": "2025-08-07T17:12:36.931163Z",
     "iopub.status.idle": "2025-08-07T17:12:36.939218Z",
     "shell.execute_reply": "2025-08-07T17:12:36.938603Z"
    },
    "papermill": {
     "duration": 0.03831,
     "end_time": "2025-08-07T17:12:36.940420",
     "exception": false,
     "start_time": "2025-08-07T17:12:36.902110",
     "status": "completed"
    },
    "tags": []
   },
   "outputs": [
    {
     "name": "stdout",
     "output_type": "stream",
     "text": [
      "❌ Regression model not improved:\n",
      "   Current MSE: 1.055951, Best MSE: 0.947667\n",
      "   Current R²: 0.458867, Best R²: 0.514358\n",
      "   Current Features: 24, Best Features: 27\n"
     ]
    }
   ],
   "source": [
    "regression_params = {\n",
    "    'model_name': model_name_for_saving,\n",
    "    'scaler_name': \"RobustScaler\",\n",
    "    'features_list': feature_columns_for_saving,\n",
    "    'target_column': target_name_for_saving,\n",
    "    'mse': mse,\n",
    "    'mae': mae,\n",
    "    'rmse': rmse,\n",
    "    'r2': r2,\n",
    "    'parameters': json.dumps(training_model.get_params())\n",
    "}\n",
    "save_model_performance_if_better('regression', regression_params)"
   ]
  },
  {
   "cell_type": "markdown",
   "id": "7866676b",
   "metadata": {
    "papermill": {
     "duration": 0.028018,
     "end_time": "2025-08-07T17:12:36.998267",
     "exception": false,
     "start_time": "2025-08-07T17:12:36.970249",
     "status": "completed"
    },
    "tags": []
   },
   "source": [
    "#### Tuning with Grid Search"
   ]
  },
  {
   "cell_type": "code",
   "execution_count": 115,
   "id": "a4320d61",
   "metadata": {
    "execution": {
     "iopub.execute_input": "2025-08-07T17:12:37.055925Z",
     "iopub.status.busy": "2025-08-07T17:12:37.055641Z",
     "iopub.status.idle": "2025-08-07T17:12:37.060181Z",
     "shell.execute_reply": "2025-08-07T17:12:37.059360Z"
    },
    "papermill": {
     "duration": 0.035007,
     "end_time": "2025-08-07T17:12:37.061655",
     "exception": false,
     "start_time": "2025-08-07T17:12:37.026648",
     "status": "completed"
    },
    "tags": []
   },
   "outputs": [],
   "source": [
    "grid_search = RandomizedSearchCV(\n",
    "    GradientBoostingRegressor(random_state=42), \n",
    "    grid_param,\n",
    "    n_iter=number_of_model_for_randomized_grid,\n",
    "    cv=5,\n",
    "    scoring='neg_mean_squared_error',\n",
    "    n_jobs=-1,\n",
    "    verbose=1,\n",
    "    random_state=42\n",
    ")"
   ]
  },
  {
   "cell_type": "code",
   "execution_count": 116,
   "id": "faaa9db6",
   "metadata": {
    "execution": {
     "iopub.execute_input": "2025-08-07T17:12:37.122029Z",
     "iopub.status.busy": "2025-08-07T17:12:37.121748Z",
     "iopub.status.idle": "2025-08-07T18:47:34.572906Z",
     "shell.execute_reply": "2025-08-07T18:47:34.571992Z"
    },
    "papermill": {
     "duration": 5697.512021,
     "end_time": "2025-08-07T18:47:34.604373",
     "exception": false,
     "start_time": "2025-08-07T17:12:37.092352",
     "status": "completed"
    },
    "tags": []
   },
   "outputs": [
    {
     "name": "stdout",
     "output_type": "stream",
     "text": [
      "Starting hyperparameter tuning...\n",
      "Fitting 5 folds for each of 100 candidates, totalling 500 fits\n",
      "CPU times: user 18.7 s, sys: 6.76 s, total: 25.4 s\n",
      "Wall time: 1h 34min 57s\n"
     ]
    },
    {
     "data": {
      "text/html": [
       "<style>#sk-container-id-18 {color: black;background-color: white;}#sk-container-id-18 pre{padding: 0;}#sk-container-id-18 div.sk-toggleable {background-color: white;}#sk-container-id-18 label.sk-toggleable__label {cursor: pointer;display: block;width: 100%;margin-bottom: 0;padding: 0.3em;box-sizing: border-box;text-align: center;}#sk-container-id-18 label.sk-toggleable__label-arrow:before {content: \"▸\";float: left;margin-right: 0.25em;color: #696969;}#sk-container-id-18 label.sk-toggleable__label-arrow:hover:before {color: black;}#sk-container-id-18 div.sk-estimator:hover label.sk-toggleable__label-arrow:before {color: black;}#sk-container-id-18 div.sk-toggleable__content {max-height: 0;max-width: 0;overflow: hidden;text-align: left;background-color: #f0f8ff;}#sk-container-id-18 div.sk-toggleable__content pre {margin: 0.2em;color: black;border-radius: 0.25em;background-color: #f0f8ff;}#sk-container-id-18 input.sk-toggleable__control:checked~div.sk-toggleable__content {max-height: 200px;max-width: 100%;overflow: auto;}#sk-container-id-18 input.sk-toggleable__control:checked~label.sk-toggleable__label-arrow:before {content: \"▾\";}#sk-container-id-18 div.sk-estimator input.sk-toggleable__control:checked~label.sk-toggleable__label {background-color: #d4ebff;}#sk-container-id-18 div.sk-label input.sk-toggleable__control:checked~label.sk-toggleable__label {background-color: #d4ebff;}#sk-container-id-18 input.sk-hidden--visually {border: 0;clip: rect(1px 1px 1px 1px);clip: rect(1px, 1px, 1px, 1px);height: 1px;margin: -1px;overflow: hidden;padding: 0;position: absolute;width: 1px;}#sk-container-id-18 div.sk-estimator {font-family: monospace;background-color: #f0f8ff;border: 1px dotted black;border-radius: 0.25em;box-sizing: border-box;margin-bottom: 0.5em;}#sk-container-id-18 div.sk-estimator:hover {background-color: #d4ebff;}#sk-container-id-18 div.sk-parallel-item::after {content: \"\";width: 100%;border-bottom: 1px solid gray;flex-grow: 1;}#sk-container-id-18 div.sk-label:hover label.sk-toggleable__label {background-color: #d4ebff;}#sk-container-id-18 div.sk-serial::before {content: \"\";position: absolute;border-left: 1px solid gray;box-sizing: border-box;top: 0;bottom: 0;left: 50%;z-index: 0;}#sk-container-id-18 div.sk-serial {display: flex;flex-direction: column;align-items: center;background-color: white;padding-right: 0.2em;padding-left: 0.2em;position: relative;}#sk-container-id-18 div.sk-item {position: relative;z-index: 1;}#sk-container-id-18 div.sk-parallel {display: flex;align-items: stretch;justify-content: center;background-color: white;position: relative;}#sk-container-id-18 div.sk-item::before, #sk-container-id-18 div.sk-parallel-item::before {content: \"\";position: absolute;border-left: 1px solid gray;box-sizing: border-box;top: 0;bottom: 0;left: 50%;z-index: -1;}#sk-container-id-18 div.sk-parallel-item {display: flex;flex-direction: column;z-index: 1;position: relative;background-color: white;}#sk-container-id-18 div.sk-parallel-item:first-child::after {align-self: flex-end;width: 50%;}#sk-container-id-18 div.sk-parallel-item:last-child::after {align-self: flex-start;width: 50%;}#sk-container-id-18 div.sk-parallel-item:only-child::after {width: 0;}#sk-container-id-18 div.sk-dashed-wrapped {border: 1px dashed gray;margin: 0 0.4em 0.5em 0.4em;box-sizing: border-box;padding-bottom: 0.4em;background-color: white;}#sk-container-id-18 div.sk-label label {font-family: monospace;font-weight: bold;display: inline-block;line-height: 1.2em;}#sk-container-id-18 div.sk-label-container {text-align: center;}#sk-container-id-18 div.sk-container {/* jupyter's `normalize.less` sets `[hidden] { display: none; }` but bootstrap.min.css set `[hidden] { display: none !important; }` so we also need the `!important` here to be able to override the default hidden behavior on the sphinx rendered scikit-learn.org. See: https://github.com/scikit-learn/scikit-learn/issues/21755 */display: inline-block !important;position: relative;}#sk-container-id-18 div.sk-text-repr-fallback {display: none;}</style><div id=\"sk-container-id-18\" class=\"sk-top-container\"><div class=\"sk-text-repr-fallback\"><pre>RandomizedSearchCV(cv=5, estimator=GradientBoostingRegressor(random_state=42),\n",
       "                   n_iter=100, n_jobs=-1,\n",
       "                   param_distributions={&#x27;learning_rate&#x27;: [0.01, 0.05, 0.1],\n",
       "                                        &#x27;loss&#x27;: [&#x27;squared_error&#x27;, &#x27;huber&#x27;],\n",
       "                                        &#x27;max_depth&#x27;: [None, 10, 20, 30],\n",
       "                                        &#x27;max_features&#x27;: [&#x27;sqrt&#x27;, &#x27;log2&#x27;, None],\n",
       "                                        &#x27;min_samples_leaf&#x27;: [1, 2, 4, 6],\n",
       "                                        &#x27;min_samples_split&#x27;: [2, 5, 10, 15, 20],\n",
       "                                        &#x27;n_estimators&#x27;: [100, 200, 300],\n",
       "                                        &#x27;subsample&#x27;: [0.7, 0.8, 0.9]},\n",
       "                   random_state=42, scoring=&#x27;neg_mean_squared_error&#x27;,\n",
       "                   verbose=1)</pre><b>In a Jupyter environment, please rerun this cell to show the HTML representation or trust the notebook. <br />On GitHub, the HTML representation is unable to render, please try loading this page with nbviewer.org.</b></div><div class=\"sk-container\" hidden><div class=\"sk-item sk-dashed-wrapped\"><div class=\"sk-label-container\"><div class=\"sk-label sk-toggleable\"><input class=\"sk-toggleable__control sk-hidden--visually\" id=\"sk-estimator-id-28\" type=\"checkbox\" ><label for=\"sk-estimator-id-28\" class=\"sk-toggleable__label sk-toggleable__label-arrow\">RandomizedSearchCV</label><div class=\"sk-toggleable__content\"><pre>RandomizedSearchCV(cv=5, estimator=GradientBoostingRegressor(random_state=42),\n",
       "                   n_iter=100, n_jobs=-1,\n",
       "                   param_distributions={&#x27;learning_rate&#x27;: [0.01, 0.05, 0.1],\n",
       "                                        &#x27;loss&#x27;: [&#x27;squared_error&#x27;, &#x27;huber&#x27;],\n",
       "                                        &#x27;max_depth&#x27;: [None, 10, 20, 30],\n",
       "                                        &#x27;max_features&#x27;: [&#x27;sqrt&#x27;, &#x27;log2&#x27;, None],\n",
       "                                        &#x27;min_samples_leaf&#x27;: [1, 2, 4, 6],\n",
       "                                        &#x27;min_samples_split&#x27;: [2, 5, 10, 15, 20],\n",
       "                                        &#x27;n_estimators&#x27;: [100, 200, 300],\n",
       "                                        &#x27;subsample&#x27;: [0.7, 0.8, 0.9]},\n",
       "                   random_state=42, scoring=&#x27;neg_mean_squared_error&#x27;,\n",
       "                   verbose=1)</pre></div></div></div><div class=\"sk-parallel\"><div class=\"sk-parallel-item\"><div class=\"sk-item\"><div class=\"sk-label-container\"><div class=\"sk-label sk-toggleable\"><input class=\"sk-toggleable__control sk-hidden--visually\" id=\"sk-estimator-id-29\" type=\"checkbox\" ><label for=\"sk-estimator-id-29\" class=\"sk-toggleable__label sk-toggleable__label-arrow\">estimator: GradientBoostingRegressor</label><div class=\"sk-toggleable__content\"><pre>GradientBoostingRegressor(random_state=42)</pre></div></div></div><div class=\"sk-serial\"><div class=\"sk-item\"><div class=\"sk-estimator sk-toggleable\"><input class=\"sk-toggleable__control sk-hidden--visually\" id=\"sk-estimator-id-30\" type=\"checkbox\" ><label for=\"sk-estimator-id-30\" class=\"sk-toggleable__label sk-toggleable__label-arrow\">GradientBoostingRegressor</label><div class=\"sk-toggleable__content\"><pre>GradientBoostingRegressor(random_state=42)</pre></div></div></div></div></div></div></div></div></div></div>"
      ],
      "text/plain": [
       "RandomizedSearchCV(cv=5, estimator=GradientBoostingRegressor(random_state=42),\n",
       "                   n_iter=100, n_jobs=-1,\n",
       "                   param_distributions={'learning_rate': [0.01, 0.05, 0.1],\n",
       "                                        'loss': ['squared_error', 'huber'],\n",
       "                                        'max_depth': [None, 10, 20, 30],\n",
       "                                        'max_features': ['sqrt', 'log2', None],\n",
       "                                        'min_samples_leaf': [1, 2, 4, 6],\n",
       "                                        'min_samples_split': [2, 5, 10, 15, 20],\n",
       "                                        'n_estimators': [100, 200, 300],\n",
       "                                        'subsample': [0.7, 0.8, 0.9]},\n",
       "                   random_state=42, scoring='neg_mean_squared_error',\n",
       "                   verbose=1)"
      ]
     },
     "execution_count": 116,
     "metadata": {},
     "output_type": "execute_result"
    }
   ],
   "source": [
    "%%time\n",
    "print(\"Starting hyperparameter tuning...\")\n",
    "grid_search.fit(X_train, y_train)"
   ]
  },
  {
   "cell_type": "code",
   "execution_count": 117,
   "id": "6068224d",
   "metadata": {
    "execution": {
     "iopub.execute_input": "2025-08-07T18:47:34.664386Z",
     "iopub.status.busy": "2025-08-07T18:47:34.664084Z",
     "iopub.status.idle": "2025-08-07T18:47:34.669420Z",
     "shell.execute_reply": "2025-08-07T18:47:34.668763Z"
    },
    "papermill": {
     "duration": 0.036454,
     "end_time": "2025-08-07T18:47:34.670721",
     "exception": false,
     "start_time": "2025-08-07T18:47:34.634267",
     "status": "completed"
    },
    "tags": []
   },
   "outputs": [
    {
     "name": "stdout",
     "output_type": "stream",
     "text": [
      "TUNING RESULTS\n",
      "==================================================\n",
      "Best Parameters: {'subsample': 0.9, 'n_estimators': 200, 'min_samples_split': 10, 'min_samples_leaf': 6, 'max_features': 'log2', 'max_depth': None, 'loss': 'squared_error', 'learning_rate': 0.05}\n",
      "Best Cross-Validation Score (Negative MSE): -0.8605747443973379\n",
      "Best Cross-Validation Score (MSE): 0.8605747443973379\n",
      "Best Cross-Validation Score (RMSE): 0.927671679204091\n"
     ]
    }
   ],
   "source": [
    "print(\"TUNING RESULTS\")\n",
    "print(\"=\"*50)\n",
    "print(\"Best Parameters:\", grid_search.best_params_)\n",
    "print(\"Best Cross-Validation Score (Negative MSE):\", grid_search.best_score_)\n",
    "print(\"Best Cross-Validation Score (MSE):\", -grid_search.best_score_)\n",
    "print(\"Best Cross-Validation Score (RMSE):\", math.sqrt(-grid_search.best_score_))"
   ]
  },
  {
   "cell_type": "code",
   "execution_count": 118,
   "id": "7d6e7311",
   "metadata": {
    "execution": {
     "iopub.execute_input": "2025-08-07T18:47:34.731717Z",
     "iopub.status.busy": "2025-08-07T18:47:34.731405Z",
     "iopub.status.idle": "2025-08-07T18:47:34.831862Z",
     "shell.execute_reply": "2025-08-07T18:47:34.830991Z"
    },
    "papermill": {
     "duration": 0.133142,
     "end_time": "2025-08-07T18:47:34.833397",
     "exception": false,
     "start_time": "2025-08-07T18:47:34.700255",
     "status": "completed"
    },
    "tags": []
   },
   "outputs": [],
   "source": [
    "grid_search_best_model = grid_search.best_estimator_\n",
    "y_pred = grid_search_best_model.predict(X_test)"
   ]
  },
  {
   "cell_type": "code",
   "execution_count": 119,
   "id": "a97be1ec",
   "metadata": {
    "execution": {
     "iopub.execute_input": "2025-08-07T18:47:34.893084Z",
     "iopub.status.busy": "2025-08-07T18:47:34.892798Z",
     "iopub.status.idle": "2025-08-07T18:47:34.900479Z",
     "shell.execute_reply": "2025-08-07T18:47:34.899682Z"
    },
    "papermill": {
     "duration": 0.039195,
     "end_time": "2025-08-07T18:47:34.902001",
     "exception": false,
     "start_time": "2025-08-07T18:47:34.862806",
     "status": "completed"
    },
    "tags": []
   },
   "outputs": [],
   "source": [
    "mse_grid_search = mean_squared_error(y_test, y_pred)\n",
    "mae_grid_search = mean_absolute_error(y_test, y_pred)\n",
    "r2_grid_search = r2_score(y_test, y_pred)\n",
    "rmse_grid_search = math.sqrt(mse_grid_search)"
   ]
  },
  {
   "cell_type": "code",
   "execution_count": 120,
   "id": "ee1484cc",
   "metadata": {
    "execution": {
     "iopub.execute_input": "2025-08-07T18:47:34.961745Z",
     "iopub.status.busy": "2025-08-07T18:47:34.961422Z",
     "iopub.status.idle": "2025-08-07T18:47:34.966094Z",
     "shell.execute_reply": "2025-08-07T18:47:34.965193Z"
    },
    "papermill": {
     "duration": 0.036158,
     "end_time": "2025-08-07T18:47:34.967446",
     "exception": false,
     "start_time": "2025-08-07T18:47:34.931288",
     "status": "completed"
    },
    "tags": []
   },
   "outputs": [
    {
     "name": "stdout",
     "output_type": "stream",
     "text": [
      "MSE Score: 0.8142231693427795\n",
      "MAE Score: 0.3829492980277227\n",
      "R2 Score: 0.5827428560116035\n",
      "RMSE Score: 0.9023431549819501\n"
     ]
    }
   ],
   "source": [
    "print(\"MSE Score:\", mse_grid_search)\n",
    "print(\"MAE Score:\", mae_grid_search)\n",
    "print(\"R2 Score:\", r2_grid_search)\n",
    "print(\"RMSE Score:\", rmse_grid_search)"
   ]
  },
  {
   "cell_type": "code",
   "execution_count": 121,
   "id": "1ef8bb71",
   "metadata": {
    "execution": {
     "iopub.execute_input": "2025-08-07T18:47:35.027859Z",
     "iopub.status.busy": "2025-08-07T18:47:35.027568Z",
     "iopub.status.idle": "2025-08-07T18:47:35.037032Z",
     "shell.execute_reply": "2025-08-07T18:47:35.035873Z"
    },
    "papermill": {
     "duration": 0.0413,
     "end_time": "2025-08-07T18:47:35.038672",
     "exception": false,
     "start_time": "2025-08-07T18:47:34.997372",
     "status": "completed"
    },
    "tags": []
   },
   "outputs": [
    {
     "name": "stdout",
     "output_type": "stream",
     "text": [
      "❌ Regression model not improved:\n",
      "   Current MSE: 0.814223, Best MSE: 0.705612\n",
      "   Current R²: 0.582743, Best R²: 0.638402\n",
      "   Current Features: 24, Best Features: 27\n"
     ]
    }
   ],
   "source": [
    "regression_params = {\n",
    "    'model_name': model_name_for_saving + \" Tuned\",\n",
    "    'scaler_name': \"RobustScaler\",\n",
    "    'features_list': feature_columns_for_saving,\n",
    "    'target_column': target_name_for_saving,\n",
    "    'mse': mse_grid_search,\n",
    "    'mae': mae_grid_search,\n",
    "    'rmse': rmse_grid_search,\n",
    "    'r2': r2_grid_search,\n",
    "    'parameters' : json.dumps({\n",
    "        \"best_params\": grid_search.best_params_,\n",
    "        \"cv_score\": grid_search.best_score_,\n",
    "        \"all_params\": grid_search_best_model.get_params()\n",
    "    })\n",
    "}\n",
    "save_model_performance_if_better('regression', regression_params)"
   ]
  },
  {
   "cell_type": "markdown",
   "id": "a35ef952",
   "metadata": {
    "papermill": {
     "duration": 0.028738,
     "end_time": "2025-08-07T18:47:35.098083",
     "exception": false,
     "start_time": "2025-08-07T18:47:35.069345",
     "status": "completed"
    },
    "tags": []
   },
   "source": [
    "# All Performance"
   ]
  },
  {
   "cell_type": "code",
   "execution_count": 122,
   "id": "2de8dc35",
   "metadata": {
    "execution": {
     "iopub.execute_input": "2025-08-07T18:47:35.157238Z",
     "iopub.status.busy": "2025-08-07T18:47:35.156955Z",
     "iopub.status.idle": "2025-08-07T18:47:35.174407Z",
     "shell.execute_reply": "2025-08-07T18:47:35.173280Z"
    },
    "papermill": {
     "duration": 0.048835,
     "end_time": "2025-08-07T18:47:35.176016",
     "exception": false,
     "start_time": "2025-08-07T18:47:35.127181",
     "status": "completed"
    },
    "tags": []
   },
   "outputs": [
    {
     "name": "stdout",
     "output_type": "stream",
     "text": [
      "\n",
      "📊 REGRESSION Model Performance History\n",
      "====================================================================================================\n",
      "                  Model         Scaler     Target  Features      MSE      MAE     RMSE       R²\n",
      "Gradient Boosting Tuned   MinMaxScaler Visibility        27 0.699304 0.354175 0.836244 0.641634\n",
      "Gradient Boosting Tuned   RobustScaler Visibility        27 0.705612 0.354812 0.840007 0.638402\n",
      "Gradient Boosting Tuned StandardScaler Visibility        27 0.716288 0.360201 0.846338 0.632931\n",
      "      Gradient Boosting   MinMaxScaler Visibility        27 0.947366 0.431975 0.973328 0.514512\n",
      "      Gradient Boosting StandardScaler Visibility        27 0.947622 0.432134 0.973459 0.514381\n",
      "      Gradient Boosting   RobustScaler Visibility        27 0.947667 0.432167 0.973482 0.514358\n",
      "\n",
      "📈 Total models shown: 6\n",
      "🏆 Best R² Score: 0.641634 (Gradient Boosting Tuned + MinMaxScaler for Visibility)\n"
     ]
    }
   ],
   "source": [
    "show_model_history('regression', model_name=model_name_for_saving, target_column=target_name_for_saving)"
   ]
  },
  {
   "cell_type": "markdown",
   "id": "36867460",
   "metadata": {
    "papermill": {
     "duration": 0.028456,
     "end_time": "2025-08-07T18:47:35.234295",
     "exception": false,
     "start_time": "2025-08-07T18:47:35.205839",
     "status": "completed"
    },
    "tags": []
   },
   "source": [
    "# <center><font size=\"50\" color=\"red\">Thank You</font></center>"
   ]
  }
 ],
 "metadata": {
  "kaggle": {
   "accelerator": "none",
   "dataSources": [
    {
     "datasetId": 7943485,
     "sourceId": 12698463,
     "sourceType": "datasetVersion"
    }
   ],
   "isGpuEnabled": false,
   "isInternetEnabled": true,
   "language": "python",
   "sourceType": "notebook"
  },
  "kernelspec": {
   "display_name": ".venv",
   "language": "python",
   "name": "python3"
  },
  "language_info": {
   "codemirror_mode": {
    "name": "ipython",
    "version": 3
   },
   "file_extension": ".py",
   "mimetype": "text/x-python",
   "name": "python",
   "nbconvert_exporter": "python",
   "pygments_lexer": "ipython3",
   "version": "3.13.5"
  },
  "papermill": {
   "default_parameters": {},
   "duration": 35648.74448,
   "end_time": "2025-08-07T18:47:37.914671",
   "environment_variables": {},
   "exception": null,
   "input_path": "__notebook__.ipynb",
   "output_path": "__notebook__.ipynb",
   "parameters": {},
   "start_time": "2025-08-07T08:53:29.170191",
   "version": "2.6.0"
  }
 },
 "nbformat": 4,
 "nbformat_minor": 5
}
