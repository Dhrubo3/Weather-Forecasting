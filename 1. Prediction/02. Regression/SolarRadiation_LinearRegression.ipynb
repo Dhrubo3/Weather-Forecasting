{
 "cells": [
  {
   "cell_type": "markdown",
   "id": "5f03e511",
   "metadata": {
    "papermill": {
     "duration": 0.017815,
     "end_time": "2025-08-08T03:51:39.379663",
     "exception": false,
     "start_time": "2025-08-08T03:51:39.361848",
     "status": "completed"
    },
    "tags": []
   },
   "source": [
    "# <font color=\"red\">Solar Radiation Prediction with Linear Regression</font>"
   ]
  },
  {
   "cell_type": "markdown",
   "id": "f852092e",
   "metadata": {
    "papermill": {
     "duration": 0.014873,
     "end_time": "2025-08-08T03:51:39.410124",
     "exception": false,
     "start_time": "2025-08-08T03:51:39.395251",
     "status": "completed"
    },
    "tags": []
   },
   "source": [
    "# Library Import"
   ]
  },
  {
   "cell_type": "code",
   "execution_count": 1,
   "id": "99b4ae88",
   "metadata": {
    "execution": {
     "iopub.execute_input": "2025-08-08T03:51:39.441775Z",
     "iopub.status.busy": "2025-08-08T03:51:39.441452Z",
     "iopub.status.idle": "2025-08-08T03:51:42.602823Z",
     "shell.execute_reply": "2025-08-08T03:51:42.601877Z"
    },
    "papermill": {
     "duration": 3.179115,
     "end_time": "2025-08-08T03:51:42.604508",
     "exception": false,
     "start_time": "2025-08-08T03:51:39.425393",
     "status": "completed"
    },
    "tags": []
   },
   "outputs": [],
   "source": [
    "# Data manipulation and visualization\n",
    "import pandas as pd\n",
    "import math\n",
    "import json\n",
    "\n",
    "# Preprocessing\n",
    "from sklearn.model_selection import StratifiedShuffleSplit, GridSearchCV\n",
    "from sklearn.preprocessing import MinMaxScaler, StandardScaler, RobustScaler\n",
    "from sklearn.metrics import r2_score, mean_squared_error, mean_absolute_error\n",
    "from sklearn.linear_model import LinearRegression\n",
    "\n",
    "import sys\n",
    "#sys.path.append('../../') # Uncomment this line if running locally\n",
    "sys.path.append('/kaggle/input/weatherdata') # Uncomment this line if running on Kaggle\n",
    "from historyManagement import *\n",
    "\n",
    "# suppress warnings\n",
    "import warnings\n",
    "warnings.filterwarnings(\"ignore\")"
   ]
  },
  {
   "cell_type": "markdown",
   "id": "27df7525",
   "metadata": {
    "papermill": {
     "duration": 0.015047,
     "end_time": "2025-08-08T03:51:42.635262",
     "exception": false,
     "start_time": "2025-08-08T03:51:42.620215",
     "status": "completed"
    },
    "tags": []
   },
   "source": [
    "# Datasets Import"
   ]
  },
  {
   "cell_type": "code",
   "execution_count": 2,
   "id": "2c4cb1d7",
   "metadata": {
    "execution": {
     "iopub.execute_input": "2025-08-08T03:51:42.667135Z",
     "iopub.status.busy": "2025-08-08T03:51:42.666705Z",
     "iopub.status.idle": "2025-08-08T03:51:42.826465Z",
     "shell.execute_reply": "2025-08-08T03:51:42.825651Z"
    },
    "papermill": {
     "duration": 0.177395,
     "end_time": "2025-08-08T03:51:42.827957",
     "exception": false,
     "start_time": "2025-08-08T03:51:42.650562",
     "status": "completed"
    },
    "tags": []
   },
   "outputs": [
    {
     "data": {
      "text/html": [
       "<div>\n",
       "<style scoped>\n",
       "    .dataframe tbody tr th:only-of-type {\n",
       "        vertical-align: middle;\n",
       "    }\n",
       "\n",
       "    .dataframe tbody tr th {\n",
       "        vertical-align: top;\n",
       "    }\n",
       "\n",
       "    .dataframe thead th {\n",
       "        text-align: right;\n",
       "    }\n",
       "</style>\n",
       "<table border=\"1\" class=\"dataframe\">\n",
       "  <thead>\n",
       "    <tr style=\"text-align: right;\">\n",
       "      <th></th>\n",
       "      <th>DateTime</th>\n",
       "      <th>Year</th>\n",
       "      <th>Month</th>\n",
       "      <th>Day</th>\n",
       "      <th>Hour</th>\n",
       "      <th>DaySegments</th>\n",
       "      <th>DaySegments_Afternoon</th>\n",
       "      <th>DaySegments_Early Morning</th>\n",
       "      <th>DaySegments_Evening</th>\n",
       "      <th>DaySegments_Late Night</th>\n",
       "      <th>...</th>\n",
       "      <th>WindDir</th>\n",
       "      <th>SeaLevelPressure</th>\n",
       "      <th>CloudCover</th>\n",
       "      <th>UVIndex</th>\n",
       "      <th>SevereRisk</th>\n",
       "      <th>Visibility</th>\n",
       "      <th>SolarRadiation</th>\n",
       "      <th>SolarEnergy</th>\n",
       "      <th>Conditions</th>\n",
       "      <th>Icon</th>\n",
       "    </tr>\n",
       "  </thead>\n",
       "  <tbody>\n",
       "    <tr>\n",
       "      <th>0</th>\n",
       "      <td>2023-01-01 00:00:00</td>\n",
       "      <td>2023</td>\n",
       "      <td>1</td>\n",
       "      <td>1</td>\n",
       "      <td>0</td>\n",
       "      <td>Late Night</td>\n",
       "      <td>0</td>\n",
       "      <td>0</td>\n",
       "      <td>0</td>\n",
       "      <td>1</td>\n",
       "      <td>...</td>\n",
       "      <td>0.49</td>\n",
       "      <td>1018.68</td>\n",
       "      <td>0.03</td>\n",
       "      <td>0.0</td>\n",
       "      <td>10.0</td>\n",
       "      <td>2.76</td>\n",
       "      <td>0.0</td>\n",
       "      <td>0.0</td>\n",
       "      <td>Clear</td>\n",
       "      <td>clear-night</td>\n",
       "    </tr>\n",
       "    <tr>\n",
       "      <th>1</th>\n",
       "      <td>2023-01-01 01:00:00</td>\n",
       "      <td>2023</td>\n",
       "      <td>1</td>\n",
       "      <td>1</td>\n",
       "      <td>1</td>\n",
       "      <td>Late Night</td>\n",
       "      <td>0</td>\n",
       "      <td>0</td>\n",
       "      <td>0</td>\n",
       "      <td>1</td>\n",
       "      <td>...</td>\n",
       "      <td>0.54</td>\n",
       "      <td>1018.03</td>\n",
       "      <td>0.11</td>\n",
       "      <td>0.0</td>\n",
       "      <td>10.0</td>\n",
       "      <td>1.75</td>\n",
       "      <td>0.0</td>\n",
       "      <td>0.0</td>\n",
       "      <td>Clear</td>\n",
       "      <td>clear-night</td>\n",
       "    </tr>\n",
       "    <tr>\n",
       "      <th>2</th>\n",
       "      <td>2023-01-01 02:00:00</td>\n",
       "      <td>2023</td>\n",
       "      <td>1</td>\n",
       "      <td>1</td>\n",
       "      <td>2</td>\n",
       "      <td>Late Night</td>\n",
       "      <td>0</td>\n",
       "      <td>0</td>\n",
       "      <td>0</td>\n",
       "      <td>1</td>\n",
       "      <td>...</td>\n",
       "      <td>30.51</td>\n",
       "      <td>1017.56</td>\n",
       "      <td>0.03</td>\n",
       "      <td>0.0</td>\n",
       "      <td>10.0</td>\n",
       "      <td>1.75</td>\n",
       "      <td>0.0</td>\n",
       "      <td>0.0</td>\n",
       "      <td>Clear</td>\n",
       "      <td>clear-night</td>\n",
       "    </tr>\n",
       "    <tr>\n",
       "      <th>3</th>\n",
       "      <td>2023-01-01 03:00:00</td>\n",
       "      <td>2023</td>\n",
       "      <td>1</td>\n",
       "      <td>1</td>\n",
       "      <td>3</td>\n",
       "      <td>Late Night</td>\n",
       "      <td>0</td>\n",
       "      <td>0</td>\n",
       "      <td>0</td>\n",
       "      <td>1</td>\n",
       "      <td>...</td>\n",
       "      <td>49.23</td>\n",
       "      <td>1018.05</td>\n",
       "      <td>0.00</td>\n",
       "      <td>0.0</td>\n",
       "      <td>10.0</td>\n",
       "      <td>2.28</td>\n",
       "      <td>0.0</td>\n",
       "      <td>0.0</td>\n",
       "      <td>Clear</td>\n",
       "      <td>clear-night</td>\n",
       "    </tr>\n",
       "    <tr>\n",
       "      <th>4</th>\n",
       "      <td>2023-01-01 04:00:00</td>\n",
       "      <td>2023</td>\n",
       "      <td>1</td>\n",
       "      <td>1</td>\n",
       "      <td>4</td>\n",
       "      <td>Late Night</td>\n",
       "      <td>0</td>\n",
       "      <td>0</td>\n",
       "      <td>0</td>\n",
       "      <td>1</td>\n",
       "      <td>...</td>\n",
       "      <td>49.90</td>\n",
       "      <td>1018.00</td>\n",
       "      <td>86.17</td>\n",
       "      <td>0.0</td>\n",
       "      <td>10.0</td>\n",
       "      <td>1.27</td>\n",
       "      <td>0.0</td>\n",
       "      <td>0.0</td>\n",
       "      <td>Partially cloudy</td>\n",
       "      <td>fog</td>\n",
       "    </tr>\n",
       "  </tbody>\n",
       "</table>\n",
       "<p>5 rows × 36 columns</p>\n",
       "</div>"
      ],
      "text/plain": [
       "             DateTime  Year  Month  Day  Hour DaySegments  \\\n",
       "0 2023-01-01 00:00:00  2023      1    1     0  Late Night   \n",
       "1 2023-01-01 01:00:00  2023      1    1     1  Late Night   \n",
       "2 2023-01-01 02:00:00  2023      1    1     2  Late Night   \n",
       "3 2023-01-01 03:00:00  2023      1    1     3  Late Night   \n",
       "4 2023-01-01 04:00:00  2023      1    1     4  Late Night   \n",
       "\n",
       "   DaySegments_Afternoon  DaySegments_Early Morning  DaySegments_Evening  \\\n",
       "0                      0                          0                    0   \n",
       "1                      0                          0                    0   \n",
       "2                      0                          0                    0   \n",
       "3                      0                          0                    0   \n",
       "4                      0                          0                    0   \n",
       "\n",
       "   DaySegments_Late Night  ...  WindDir  SeaLevelPressure  CloudCover  \\\n",
       "0                       1  ...     0.49           1018.68        0.03   \n",
       "1                       1  ...     0.54           1018.03        0.11   \n",
       "2                       1  ...    30.51           1017.56        0.03   \n",
       "3                       1  ...    49.23           1018.05        0.00   \n",
       "4                       1  ...    49.90           1018.00       86.17   \n",
       "\n",
       "   UVIndex  SevereRisk  Visibility  SolarRadiation SolarEnergy  \\\n",
       "0      0.0        10.0        2.76             0.0         0.0   \n",
       "1      0.0        10.0        1.75             0.0         0.0   \n",
       "2      0.0        10.0        1.75             0.0         0.0   \n",
       "3      0.0        10.0        2.28             0.0         0.0   \n",
       "4      0.0        10.0        1.27             0.0         0.0   \n",
       "\n",
       "         Conditions         Icon  \n",
       "0             Clear  clear-night  \n",
       "1             Clear  clear-night  \n",
       "2             Clear  clear-night  \n",
       "3             Clear  clear-night  \n",
       "4  Partially cloudy          fog  \n",
       "\n",
       "[5 rows x 36 columns]"
      ]
     },
     "execution_count": 2,
     "metadata": {},
     "output_type": "execute_result"
    }
   ],
   "source": [
    "# Load the weather dataset for visibility prediction\n",
    "#weather_data = pd.read_csv('../../FinalDatasets/finalDataset.csv') # Uncomment this line if running locally\n",
    "weather_data = pd.read_csv('/kaggle/input/weatherdata/finalDataset.csv') # Uncomment this line if running on Kaggle\n",
    "weather_data['DateTime'] = pd.to_datetime(weather_data['DateTime'])\n",
    "weather_data.head()"
   ]
  },
  {
   "cell_type": "code",
   "execution_count": 3,
   "id": "71334c10",
   "metadata": {
    "execution": {
     "iopub.execute_input": "2025-08-08T03:51:42.921912Z",
     "iopub.status.busy": "2025-08-08T03:51:42.921588Z",
     "iopub.status.idle": "2025-08-08T03:51:42.943159Z",
     "shell.execute_reply": "2025-08-08T03:51:42.942192Z"
    },
    "papermill": {
     "duration": 0.100539,
     "end_time": "2025-08-08T03:51:42.944638",
     "exception": false,
     "start_time": "2025-08-08T03:51:42.844099",
     "status": "completed"
    },
    "tags": []
   },
   "outputs": [
    {
     "name": "stdout",
     "output_type": "stream",
     "text": [
      "<class 'pandas.core.frame.DataFrame'>\n",
      "RangeIndex: 14616 entries, 0 to 14615\n",
      "Data columns (total 36 columns):\n",
      " #   Column                     Non-Null Count  Dtype         \n",
      "---  ------                     --------------  -----         \n",
      " 0   DateTime                   14616 non-null  datetime64[ns]\n",
      " 1   Year                       14616 non-null  int64         \n",
      " 2   Month                      14616 non-null  int64         \n",
      " 3   Day                        14616 non-null  int64         \n",
      " 4   Hour                       14616 non-null  int64         \n",
      " 5   DaySegments                14616 non-null  object        \n",
      " 6   DaySegments_Afternoon      14616 non-null  int64         \n",
      " 7   DaySegments_Early Morning  14616 non-null  int64         \n",
      " 8   DaySegments_Evening        14616 non-null  int64         \n",
      " 9   DaySegments_Late Night     14616 non-null  int64         \n",
      " 10  DaySegments_Midday         14616 non-null  int64         \n",
      " 11  DaySegments_Morning        14616 non-null  int64         \n",
      " 12  DaySegments_Night          14616 non-null  int64         \n",
      " 13  Season_Autumn              14616 non-null  int64         \n",
      " 14  Season_Rainy               14616 non-null  int64         \n",
      " 15  Season_Summer              14616 non-null  int64         \n",
      " 16  Season_Winter              14616 non-null  int64         \n",
      " 17  Season                     14616 non-null  object        \n",
      " 18  Temp                       14616 non-null  float64       \n",
      " 19  FeelsLike                  14616 non-null  float64       \n",
      " 20  Dew                        14616 non-null  float64       \n",
      " 21  Humidity                   14616 non-null  float64       \n",
      " 22  Precip                     14616 non-null  float64       \n",
      " 23  PrecipProb                 14616 non-null  float64       \n",
      " 24  Windgust                   14616 non-null  float64       \n",
      " 25  WindSpeed                  14616 non-null  float64       \n",
      " 26  WindDir                    14616 non-null  float64       \n",
      " 27  SeaLevelPressure           14616 non-null  float64       \n",
      " 28  CloudCover                 14616 non-null  float64       \n",
      " 29  UVIndex                    14616 non-null  float64       \n",
      " 30  SevereRisk                 14616 non-null  float64       \n",
      " 31  Visibility                 14616 non-null  float64       \n",
      " 32  SolarRadiation             14616 non-null  float64       \n",
      " 33  SolarEnergy                14616 non-null  float64       \n",
      " 34  Conditions                 14616 non-null  object        \n",
      " 35  Icon                       14616 non-null  object        \n",
      "dtypes: datetime64[ns](1), float64(16), int64(15), object(4)\n",
      "memory usage: 4.0+ MB\n"
     ]
    }
   ],
   "source": [
    "weather_data.info()"
   ]
  },
  {
   "cell_type": "code",
   "execution_count": 4,
   "id": "36ddb76a",
   "metadata": {
    "execution": {
     "iopub.execute_input": "2025-08-08T03:51:42.978129Z",
     "iopub.status.busy": "2025-08-08T03:51:42.977743Z",
     "iopub.status.idle": "2025-08-08T03:51:43.060121Z",
     "shell.execute_reply": "2025-08-08T03:51:43.059220Z"
    },
    "papermill": {
     "duration": 0.100795,
     "end_time": "2025-08-08T03:51:43.061444",
     "exception": false,
     "start_time": "2025-08-08T03:51:42.960649",
     "status": "completed"
    },
    "tags": []
   },
   "outputs": [
    {
     "data": {
      "text/html": [
       "<div>\n",
       "<style scoped>\n",
       "    .dataframe tbody tr th:only-of-type {\n",
       "        vertical-align: middle;\n",
       "    }\n",
       "\n",
       "    .dataframe tbody tr th {\n",
       "        vertical-align: top;\n",
       "    }\n",
       "\n",
       "    .dataframe thead th {\n",
       "        text-align: right;\n",
       "    }\n",
       "</style>\n",
       "<table border=\"1\" class=\"dataframe\">\n",
       "  <thead>\n",
       "    <tr style=\"text-align: right;\">\n",
       "      <th></th>\n",
       "      <th>DateTime</th>\n",
       "      <th>Year</th>\n",
       "      <th>Month</th>\n",
       "      <th>Day</th>\n",
       "      <th>Hour</th>\n",
       "      <th>DaySegments_Afternoon</th>\n",
       "      <th>DaySegments_Early Morning</th>\n",
       "      <th>DaySegments_Evening</th>\n",
       "      <th>DaySegments_Late Night</th>\n",
       "      <th>DaySegments_Midday</th>\n",
       "      <th>...</th>\n",
       "      <th>Windgust</th>\n",
       "      <th>WindSpeed</th>\n",
       "      <th>WindDir</th>\n",
       "      <th>SeaLevelPressure</th>\n",
       "      <th>CloudCover</th>\n",
       "      <th>UVIndex</th>\n",
       "      <th>SevereRisk</th>\n",
       "      <th>Visibility</th>\n",
       "      <th>SolarRadiation</th>\n",
       "      <th>SolarEnergy</th>\n",
       "    </tr>\n",
       "  </thead>\n",
       "  <tbody>\n",
       "    <tr>\n",
       "      <th>count</th>\n",
       "      <td>14616</td>\n",
       "      <td>14616.000000</td>\n",
       "      <td>14616.000000</td>\n",
       "      <td>14616.000000</td>\n",
       "      <td>14616.000000</td>\n",
       "      <td>14616.000000</td>\n",
       "      <td>14616.000000</td>\n",
       "      <td>14616.000000</td>\n",
       "      <td>14616.000000</td>\n",
       "      <td>14616.000000</td>\n",
       "      <td>...</td>\n",
       "      <td>14616.000000</td>\n",
       "      <td>14616.000000</td>\n",
       "      <td>14616.000000</td>\n",
       "      <td>14616.000000</td>\n",
       "      <td>14616.000000</td>\n",
       "      <td>14616.000000</td>\n",
       "      <td>14616.000000</td>\n",
       "      <td>14616.000000</td>\n",
       "      <td>14616.000000</td>\n",
       "      <td>14616.000000</td>\n",
       "    </tr>\n",
       "    <tr>\n",
       "      <th>mean</th>\n",
       "      <td>2023-11-01 11:30:00</td>\n",
       "      <td>2023.400657</td>\n",
       "      <td>5.720854</td>\n",
       "      <td>15.735632</td>\n",
       "      <td>11.500000</td>\n",
       "      <td>0.131294</td>\n",
       "      <td>0.060550</td>\n",
       "      <td>0.098043</td>\n",
       "      <td>0.249726</td>\n",
       "      <td>0.116585</td>\n",
       "      <td>...</td>\n",
       "      <td>17.068560</td>\n",
       "      <td>8.090783</td>\n",
       "      <td>159.739178</td>\n",
       "      <td>1008.265012</td>\n",
       "      <td>53.579923</td>\n",
       "      <td>2.263555</td>\n",
       "      <td>16.504787</td>\n",
       "      <td>4.368134</td>\n",
       "      <td>227.640683</td>\n",
       "      <td>0.819217</td>\n",
       "    </tr>\n",
       "    <tr>\n",
       "      <th>min</th>\n",
       "      <td>2023-01-01 00:00:00</td>\n",
       "      <td>2023.000000</td>\n",
       "      <td>1.000000</td>\n",
       "      <td>1.000000</td>\n",
       "      <td>0.000000</td>\n",
       "      <td>0.000000</td>\n",
       "      <td>0.000000</td>\n",
       "      <td>0.000000</td>\n",
       "      <td>0.000000</td>\n",
       "      <td>0.000000</td>\n",
       "      <td>...</td>\n",
       "      <td>0.660000</td>\n",
       "      <td>0.000000</td>\n",
       "      <td>0.000000</td>\n",
       "      <td>982.420000</td>\n",
       "      <td>0.000000</td>\n",
       "      <td>0.000000</td>\n",
       "      <td>3.000000</td>\n",
       "      <td>0.000000</td>\n",
       "      <td>0.000000</td>\n",
       "      <td>0.000000</td>\n",
       "    </tr>\n",
       "    <tr>\n",
       "      <th>25%</th>\n",
       "      <td>2023-06-02 05:45:00</td>\n",
       "      <td>2023.000000</td>\n",
       "      <td>3.000000</td>\n",
       "      <td>8.000000</td>\n",
       "      <td>5.750000</td>\n",
       "      <td>0.000000</td>\n",
       "      <td>0.000000</td>\n",
       "      <td>0.000000</td>\n",
       "      <td>0.000000</td>\n",
       "      <td>0.000000</td>\n",
       "      <td>...</td>\n",
       "      <td>9.170000</td>\n",
       "      <td>2.870000</td>\n",
       "      <td>80.965000</td>\n",
       "      <td>1003.277500</td>\n",
       "      <td>26.670000</td>\n",
       "      <td>0.000000</td>\n",
       "      <td>10.000000</td>\n",
       "      <td>3.990000</td>\n",
       "      <td>0.000000</td>\n",
       "      <td>0.000000</td>\n",
       "    </tr>\n",
       "    <tr>\n",
       "      <th>50%</th>\n",
       "      <td>2023-11-01 11:30:00</td>\n",
       "      <td>2023.000000</td>\n",
       "      <td>6.000000</td>\n",
       "      <td>16.000000</td>\n",
       "      <td>11.500000</td>\n",
       "      <td>0.000000</td>\n",
       "      <td>0.000000</td>\n",
       "      <td>0.000000</td>\n",
       "      <td>0.000000</td>\n",
       "      <td>0.000000</td>\n",
       "      <td>...</td>\n",
       "      <td>14.645000</td>\n",
       "      <td>7.670000</td>\n",
       "      <td>163.790000</td>\n",
       "      <td>1007.970000</td>\n",
       "      <td>51.540000</td>\n",
       "      <td>0.000000</td>\n",
       "      <td>10.000000</td>\n",
       "      <td>4.650000</td>\n",
       "      <td>10.665000</td>\n",
       "      <td>0.010000</td>\n",
       "    </tr>\n",
       "    <tr>\n",
       "      <th>75%</th>\n",
       "      <td>2024-04-01 17:15:00</td>\n",
       "      <td>2024.000000</td>\n",
       "      <td>8.000000</td>\n",
       "      <td>23.000000</td>\n",
       "      <td>17.250000</td>\n",
       "      <td>0.000000</td>\n",
       "      <td>0.000000</td>\n",
       "      <td>0.000000</td>\n",
       "      <td>0.000000</td>\n",
       "      <td>0.000000</td>\n",
       "      <td>...</td>\n",
       "      <td>23.410000</td>\n",
       "      <td>11.750000</td>\n",
       "      <td>241.402500</td>\n",
       "      <td>1013.400000</td>\n",
       "      <td>87.790000</td>\n",
       "      <td>4.740000</td>\n",
       "      <td>12.580000</td>\n",
       "      <td>4.650000</td>\n",
       "      <td>459.745000</td>\n",
       "      <td>1.660000</td>\n",
       "    </tr>\n",
       "    <tr>\n",
       "      <th>max</th>\n",
       "      <td>2024-08-31 23:00:00</td>\n",
       "      <td>2024.000000</td>\n",
       "      <td>12.000000</td>\n",
       "      <td>31.000000</td>\n",
       "      <td>23.000000</td>\n",
       "      <td>1.000000</td>\n",
       "      <td>1.000000</td>\n",
       "      <td>1.000000</td>\n",
       "      <td>1.000000</td>\n",
       "      <td>1.000000</td>\n",
       "      <td>...</td>\n",
       "      <td>84.120000</td>\n",
       "      <td>71.970000</td>\n",
       "      <td>360.000000</td>\n",
       "      <td>1022.060000</td>\n",
       "      <td>100.000000</td>\n",
       "      <td>10.000000</td>\n",
       "      <td>97.740000</td>\n",
       "      <td>24.100000</td>\n",
       "      <td>1026.650000</td>\n",
       "      <td>3.700000</td>\n",
       "    </tr>\n",
       "    <tr>\n",
       "      <th>std</th>\n",
       "      <td>NaN</td>\n",
       "      <td>0.490048</td>\n",
       "      <td>3.195073</td>\n",
       "      <td>8.803610</td>\n",
       "      <td>6.922423</td>\n",
       "      <td>0.337734</td>\n",
       "      <td>0.238511</td>\n",
       "      <td>0.297383</td>\n",
       "      <td>0.432869</td>\n",
       "      <td>0.320936</td>\n",
       "      <td>...</td>\n",
       "      <td>10.195911</td>\n",
       "      <td>6.250203</td>\n",
       "      <td>104.422027</td>\n",
       "      <td>6.010683</td>\n",
       "      <td>35.166637</td>\n",
       "      <td>3.083074</td>\n",
       "      <td>15.031827</td>\n",
       "      <td>1.376994</td>\n",
       "      <td>307.219387</td>\n",
       "      <td>1.106444</td>\n",
       "    </tr>\n",
       "  </tbody>\n",
       "</table>\n",
       "<p>8 rows × 32 columns</p>\n",
       "</div>"
      ],
      "text/plain": [
       "                  DateTime          Year         Month           Day  \\\n",
       "count                14616  14616.000000  14616.000000  14616.000000   \n",
       "mean   2023-11-01 11:30:00   2023.400657      5.720854     15.735632   \n",
       "min    2023-01-01 00:00:00   2023.000000      1.000000      1.000000   \n",
       "25%    2023-06-02 05:45:00   2023.000000      3.000000      8.000000   \n",
       "50%    2023-11-01 11:30:00   2023.000000      6.000000     16.000000   \n",
       "75%    2024-04-01 17:15:00   2024.000000      8.000000     23.000000   \n",
       "max    2024-08-31 23:00:00   2024.000000     12.000000     31.000000   \n",
       "std                    NaN      0.490048      3.195073      8.803610   \n",
       "\n",
       "               Hour  DaySegments_Afternoon  DaySegments_Early Morning  \\\n",
       "count  14616.000000           14616.000000               14616.000000   \n",
       "mean      11.500000               0.131294                   0.060550   \n",
       "min        0.000000               0.000000                   0.000000   \n",
       "25%        5.750000               0.000000                   0.000000   \n",
       "50%       11.500000               0.000000                   0.000000   \n",
       "75%       17.250000               0.000000                   0.000000   \n",
       "max       23.000000               1.000000                   1.000000   \n",
       "std        6.922423               0.337734                   0.238511   \n",
       "\n",
       "       DaySegments_Evening  DaySegments_Late Night  DaySegments_Midday  ...  \\\n",
       "count         14616.000000            14616.000000        14616.000000  ...   \n",
       "mean              0.098043                0.249726            0.116585  ...   \n",
       "min               0.000000                0.000000            0.000000  ...   \n",
       "25%               0.000000                0.000000            0.000000  ...   \n",
       "50%               0.000000                0.000000            0.000000  ...   \n",
       "75%               0.000000                0.000000            0.000000  ...   \n",
       "max               1.000000                1.000000            1.000000  ...   \n",
       "std               0.297383                0.432869            0.320936  ...   \n",
       "\n",
       "           Windgust     WindSpeed       WindDir  SeaLevelPressure  \\\n",
       "count  14616.000000  14616.000000  14616.000000      14616.000000   \n",
       "mean      17.068560      8.090783    159.739178       1008.265012   \n",
       "min        0.660000      0.000000      0.000000        982.420000   \n",
       "25%        9.170000      2.870000     80.965000       1003.277500   \n",
       "50%       14.645000      7.670000    163.790000       1007.970000   \n",
       "75%       23.410000     11.750000    241.402500       1013.400000   \n",
       "max       84.120000     71.970000    360.000000       1022.060000   \n",
       "std       10.195911      6.250203    104.422027          6.010683   \n",
       "\n",
       "         CloudCover       UVIndex    SevereRisk    Visibility  SolarRadiation  \\\n",
       "count  14616.000000  14616.000000  14616.000000  14616.000000    14616.000000   \n",
       "mean      53.579923      2.263555     16.504787      4.368134      227.640683   \n",
       "min        0.000000      0.000000      3.000000      0.000000        0.000000   \n",
       "25%       26.670000      0.000000     10.000000      3.990000        0.000000   \n",
       "50%       51.540000      0.000000     10.000000      4.650000       10.665000   \n",
       "75%       87.790000      4.740000     12.580000      4.650000      459.745000   \n",
       "max      100.000000     10.000000     97.740000     24.100000     1026.650000   \n",
       "std       35.166637      3.083074     15.031827      1.376994      307.219387   \n",
       "\n",
       "        SolarEnergy  \n",
       "count  14616.000000  \n",
       "mean       0.819217  \n",
       "min        0.000000  \n",
       "25%        0.000000  \n",
       "50%        0.010000  \n",
       "75%        1.660000  \n",
       "max        3.700000  \n",
       "std        1.106444  \n",
       "\n",
       "[8 rows x 32 columns]"
      ]
     },
     "execution_count": 4,
     "metadata": {},
     "output_type": "execute_result"
    }
   ],
   "source": [
    "weather_data.describe()"
   ]
  },
  {
   "cell_type": "markdown",
   "id": "46f2defa",
   "metadata": {
    "papermill": {
     "duration": 0.016201,
     "end_time": "2025-08-08T03:51:43.094168",
     "exception": false,
     "start_time": "2025-08-08T03:51:43.077967",
     "status": "completed"
    },
    "tags": []
   },
   "source": [
    "# Data Split"
   ]
  },
  {
   "cell_type": "code",
   "execution_count": 5,
   "id": "aa4699d1",
   "metadata": {
    "execution": {
     "iopub.execute_input": "2025-08-08T03:51:43.128283Z",
     "iopub.status.busy": "2025-08-08T03:51:43.127730Z",
     "iopub.status.idle": "2025-08-08T03:51:43.153413Z",
     "shell.execute_reply": "2025-08-08T03:51:43.152638Z"
    },
    "papermill": {
     "duration": 0.044398,
     "end_time": "2025-08-08T03:51:43.154998",
     "exception": false,
     "start_time": "2025-08-08T03:51:43.110600",
     "status": "completed"
    },
    "tags": []
   },
   "outputs": [],
   "source": [
    "sss = StratifiedShuffleSplit(n_splits=1, test_size=0.20, random_state=42)\n",
    "for train_idx, test_idx in sss.split(weather_data, weather_data['DaySegments']):\n",
    "    weather_data_train = weather_data.iloc[train_idx]\n",
    "    weather_data_test = weather_data.iloc[test_idx]"
   ]
  },
  {
   "cell_type": "code",
   "execution_count": 6,
   "id": "20a0435e",
   "metadata": {
    "execution": {
     "iopub.execute_input": "2025-08-08T03:51:43.199450Z",
     "iopub.status.busy": "2025-08-08T03:51:43.198898Z",
     "iopub.status.idle": "2025-08-08T03:51:43.207400Z",
     "shell.execute_reply": "2025-08-08T03:51:43.206678Z"
    },
    "papermill": {
     "duration": 0.030363,
     "end_time": "2025-08-08T03:51:43.208747",
     "exception": false,
     "start_time": "2025-08-08T03:51:43.178384",
     "status": "completed"
    },
    "tags": []
   },
   "outputs": [
    {
     "name": "stdout",
     "output_type": "stream",
     "text": [
      "Distribution of data based on DaySegments:\n",
      "     DaySegments  Count\n",
      "0     Late Night   3650\n",
      "1        Morning   3504\n",
      "2      Afternoon   1919\n",
      "3         Midday   1704\n",
      "4          Night   1521\n",
      "5        Evening   1433\n",
      "6  Early Morning    885\n"
     ]
    }
   ],
   "source": [
    "# Show the count of each unique class in DaySegments\n",
    "class_counts = weather_data['DaySegments'].value_counts().reset_index()\n",
    "class_counts.columns = ['DaySegments', 'Count']\n",
    "\n",
    "print(\"Distribution of data based on DaySegments:\")\n",
    "print(class_counts)"
   ]
  },
  {
   "cell_type": "code",
   "execution_count": 7,
   "id": "6b343c65",
   "metadata": {
    "execution": {
     "iopub.execute_input": "2025-08-08T03:51:43.243035Z",
     "iopub.status.busy": "2025-08-08T03:51:43.242739Z",
     "iopub.status.idle": "2025-08-08T03:51:43.253076Z",
     "shell.execute_reply": "2025-08-08T03:51:43.252146Z"
    },
    "papermill": {
     "duration": 0.029632,
     "end_time": "2025-08-08T03:51:43.254860",
     "exception": false,
     "start_time": "2025-08-08T03:51:43.225228",
     "status": "completed"
    },
    "tags": []
   },
   "outputs": [
    {
     "name": "stdout",
     "output_type": "stream",
     "text": [
      "Distribution of DaySegments in Training Set:\n",
      "DaySegments\n",
      "Late Night       2920\n",
      "Morning          2803\n",
      "Afternoon        1535\n",
      "Midday           1363\n",
      "Night            1217\n",
      "Evening          1146\n",
      "Early Morning     708\n",
      "Name: count, dtype: int64\n",
      "\n",
      "Distribution of DaySegments in Test Set:\n",
      "DaySegments\n",
      "Late Night       730\n",
      "Morning          701\n",
      "Afternoon        384\n",
      "Midday           341\n",
      "Night            304\n",
      "Evening          287\n",
      "Early Morning    177\n",
      "Name: count, dtype: int64\n"
     ]
    }
   ],
   "source": [
    "print(\"Distribution of DaySegments in Training Set:\")\n",
    "print(weather_data_train['DaySegments'].value_counts())\n",
    "\n",
    "print(\"\\nDistribution of DaySegments in Test Set:\")\n",
    "print(weather_data_test['DaySegments'].value_counts())"
   ]
  },
  {
   "cell_type": "markdown",
   "id": "a139d15d",
   "metadata": {
    "papermill": {
     "duration": 0.024632,
     "end_time": "2025-08-08T03:51:43.299511",
     "exception": false,
     "start_time": "2025-08-08T03:51:43.274879",
     "status": "completed"
    },
    "tags": []
   },
   "source": [
    "# Some Reused Parameters"
   ]
  },
  {
   "cell_type": "code",
   "execution_count": 8,
   "id": "e57e37d4",
   "metadata": {
    "execution": {
     "iopub.execute_input": "2025-08-08T03:51:43.341806Z",
     "iopub.status.busy": "2025-08-08T03:51:43.341021Z",
     "iopub.status.idle": "2025-08-08T03:51:43.345459Z",
     "shell.execute_reply": "2025-08-08T03:51:43.344663Z"
    },
    "papermill": {
     "duration": 0.02681,
     "end_time": "2025-08-08T03:51:43.346918",
     "exception": false,
     "start_time": "2025-08-08T03:51:43.320108",
     "status": "completed"
    },
    "tags": []
   },
   "outputs": [],
   "source": [
    "grid_param = {\n",
    "    'fit_intercept': [True, False],\n",
    "    'copy_X': [True, False],\n",
    "    'positive': [True, False]\n",
    "}"
   ]
  },
  {
   "cell_type": "code",
   "execution_count": 9,
   "id": "7eb51bfe",
   "metadata": {
    "execution": {
     "iopub.execute_input": "2025-08-08T03:51:43.382164Z",
     "iopub.status.busy": "2025-08-08T03:51:43.381393Z",
     "iopub.status.idle": "2025-08-08T03:51:43.385428Z",
     "shell.execute_reply": "2025-08-08T03:51:43.384657Z"
    },
    "papermill": {
     "duration": 0.023105,
     "end_time": "2025-08-08T03:51:43.386771",
     "exception": false,
     "start_time": "2025-08-08T03:51:43.363666",
     "status": "completed"
    },
    "tags": []
   },
   "outputs": [],
   "source": [
    "number_of_model_for_randomized_grid = 500\n",
    "model_name_for_saving = \"Linear Regression\"\n",
    "target_name_for_saving = \"SolarRadiation\""
   ]
  },
  {
   "cell_type": "markdown",
   "id": "22078c2a",
   "metadata": {
    "papermill": {
     "duration": 0.016424,
     "end_time": "2025-08-08T03:51:43.419732",
     "exception": false,
     "start_time": "2025-08-08T03:51:43.403308",
     "status": "completed"
    },
    "tags": []
   },
   "source": [
    "# All Features"
   ]
  },
  {
   "cell_type": "code",
   "execution_count": 10,
   "id": "49c9f466",
   "metadata": {
    "execution": {
     "iopub.execute_input": "2025-08-08T03:51:43.454550Z",
     "iopub.status.busy": "2025-08-08T03:51:43.453774Z",
     "iopub.status.idle": "2025-08-08T03:51:43.461633Z",
     "shell.execute_reply": "2025-08-08T03:51:43.459796Z"
    },
    "papermill": {
     "duration": 0.027133,
     "end_time": "2025-08-08T03:51:43.463439",
     "exception": false,
     "start_time": "2025-08-08T03:51:43.436306",
     "status": "completed"
    },
    "tags": []
   },
   "outputs": [],
   "source": [
    "X_train_raw = weather_data_train.drop(columns=['DateTime', # Model cannot use DateTime as a feature\n",
    "                                                'Year', # No Effect on weather data\n",
    "                                                'Season', # Season is categorical, not numerical\n",
    "                                                'DaySegments', # DaySegments is categorical, not numerical\n",
    "                                                'Visibility',  # Target variable\n",
    "                                                'SolarRadiation', # Target variable\n",
    "                                                'SolarEnergy', # Target variable\n",
    "                                                'Conditions', # Target variable\n",
    "                                                'Icon']) # Target variable\n",
    "y_train = weather_data_train['SolarRadiation']"
   ]
  },
  {
   "cell_type": "code",
   "execution_count": 11,
   "id": "b3aa0367",
   "metadata": {
    "execution": {
     "iopub.execute_input": "2025-08-08T03:51:43.504783Z",
     "iopub.status.busy": "2025-08-08T03:51:43.504282Z",
     "iopub.status.idle": "2025-08-08T03:51:43.510529Z",
     "shell.execute_reply": "2025-08-08T03:51:43.509792Z"
    },
    "papermill": {
     "duration": 0.027109,
     "end_time": "2025-08-08T03:51:43.511892",
     "exception": false,
     "start_time": "2025-08-08T03:51:43.484783",
     "status": "completed"
    },
    "tags": []
   },
   "outputs": [],
   "source": [
    "X_test_raw = weather_data_test.drop(columns=['DateTime', # Model cannot use DateTime as a feature\n",
    "                                                'Year', # No Effect on weather data\n",
    "                                                'Season', # Season is categorical, not numerical\n",
    "                                                'DaySegments', # DaySegments is categorical, not numerical\n",
    "                                                'Visibility',  # Target variable\n",
    "                                                'SolarRadiation', # Target variable\n",
    "                                                'SolarEnergy', # Target variable\n",
    "                                                'Conditions', # Target variable\n",
    "                                                'Icon']) # Target variable\n",
    "y_test = weather_data_test['SolarRadiation']"
   ]
  },
  {
   "cell_type": "code",
   "execution_count": 12,
   "id": "4c283d42",
   "metadata": {
    "execution": {
     "iopub.execute_input": "2025-08-08T03:51:43.546434Z",
     "iopub.status.busy": "2025-08-08T03:51:43.546112Z",
     "iopub.status.idle": "2025-08-08T03:51:43.550197Z",
     "shell.execute_reply": "2025-08-08T03:51:43.549543Z"
    },
    "papermill": {
     "duration": 0.022597,
     "end_time": "2025-08-08T03:51:43.551382",
     "exception": false,
     "start_time": "2025-08-08T03:51:43.528785",
     "status": "completed"
    },
    "tags": []
   },
   "outputs": [],
   "source": [
    "feature_columns = [col for col in X_train_raw.columns]\n",
    "feature_columns_for_saving = ','.join(feature_columns)"
   ]
  },
  {
   "cell_type": "code",
   "execution_count": 13,
   "id": "5f80b6a8",
   "metadata": {
    "execution": {
     "iopub.execute_input": "2025-08-08T03:51:43.585964Z",
     "iopub.status.busy": "2025-08-08T03:51:43.585653Z",
     "iopub.status.idle": "2025-08-08T03:51:43.590720Z",
     "shell.execute_reply": "2025-08-08T03:51:43.589802Z"
    },
    "papermill": {
     "duration": 0.023927,
     "end_time": "2025-08-08T03:51:43.592017",
     "exception": false,
     "start_time": "2025-08-08T03:51:43.568090",
     "status": "completed"
    },
    "tags": []
   },
   "outputs": [
    {
     "name": "stdout",
     "output_type": "stream",
     "text": [
      "X_train:  11692\n",
      "y_train:  11692\n",
      "\n",
      "X_test:  2924\n",
      "y_test:  2924\n"
     ]
    }
   ],
   "source": [
    "print(\"X_train: \", len(X_train_raw))\n",
    "print(\"y_train: \", len(y_train))\n",
    "print(\"\\nX_test: \", len(X_test_raw))\n",
    "print(\"y_test: \", len(y_test))"
   ]
  },
  {
   "cell_type": "markdown",
   "id": "07fd7a01",
   "metadata": {
    "papermill": {
     "duration": 0.016516,
     "end_time": "2025-08-08T03:51:43.625298",
     "exception": false,
     "start_time": "2025-08-08T03:51:43.608782",
     "status": "completed"
    },
    "tags": []
   },
   "source": [
    "## MinMax Scaler"
   ]
  },
  {
   "cell_type": "code",
   "execution_count": 14,
   "id": "1a327818",
   "metadata": {
    "execution": {
     "iopub.execute_input": "2025-08-08T03:51:43.660033Z",
     "iopub.status.busy": "2025-08-08T03:51:43.659704Z",
     "iopub.status.idle": "2025-08-08T03:51:43.696028Z",
     "shell.execute_reply": "2025-08-08T03:51:43.695294Z"
    },
    "papermill": {
     "duration": 0.05545,
     "end_time": "2025-08-08T03:51:43.697459",
     "exception": false,
     "start_time": "2025-08-08T03:51:43.642009",
     "status": "completed"
    },
    "tags": []
   },
   "outputs": [],
   "source": [
    "scaler = MinMaxScaler()\n",
    "X_train = scaler.fit_transform(X_train_raw)\n",
    "X_test = scaler.transform(X_test_raw)"
   ]
  },
  {
   "cell_type": "code",
   "execution_count": 15,
   "id": "5d9ba8b0",
   "metadata": {
    "execution": {
     "iopub.execute_input": "2025-08-08T03:51:43.733390Z",
     "iopub.status.busy": "2025-08-08T03:51:43.733073Z",
     "iopub.status.idle": "2025-08-08T03:51:43.739110Z",
     "shell.execute_reply": "2025-08-08T03:51:43.738330Z"
    },
    "papermill": {
     "duration": 0.026034,
     "end_time": "2025-08-08T03:51:43.740543",
     "exception": false,
     "start_time": "2025-08-08T03:51:43.714509",
     "status": "completed"
    },
    "tags": []
   },
   "outputs": [
    {
     "data": {
      "text/plain": [
       "array([[0.72727273, 0.83333333, 0.43478261, ..., 0.4922    , 0.697     ,\n",
       "        0.31560059],\n",
       "       [0.90909091, 0.26666667, 0.69565217, ..., 0.        , 0.303     ,\n",
       "        0.07388643],\n",
       "       [0.09090909, 0.43333333, 0.        , ..., 0.        , 0.        ,\n",
       "        0.07388643],\n",
       "       ...,\n",
       "       [0.63636364, 0.86666667, 0.43478261, ..., 0.8756    , 0.306     ,\n",
       "        0.09436352],\n",
       "       [0.        , 0.4       , 0.91304348, ..., 0.        , 0.        ,\n",
       "        0.07388643],\n",
       "       [0.72727273, 0.26666667, 0.34782609, ..., 0.8925    , 0.29      ,\n",
       "        0.27812962]])"
      ]
     },
     "execution_count": 15,
     "metadata": {},
     "output_type": "execute_result"
    }
   ],
   "source": [
    "X_train"
   ]
  },
  {
   "cell_type": "code",
   "execution_count": 16,
   "id": "2594df9c",
   "metadata": {
    "execution": {
     "iopub.execute_input": "2025-08-08T03:51:43.783037Z",
     "iopub.status.busy": "2025-08-08T03:51:43.782544Z",
     "iopub.status.idle": "2025-08-08T03:51:43.789032Z",
     "shell.execute_reply": "2025-08-08T03:51:43.788083Z"
    },
    "papermill": {
     "duration": 0.032214,
     "end_time": "2025-08-08T03:51:43.790601",
     "exception": false,
     "start_time": "2025-08-08T03:51:43.758387",
     "status": "completed"
    },
    "tags": []
   },
   "outputs": [
    {
     "data": {
      "text/plain": [
       "array([[0.63636364, 0.06666667, 0.95652174, ..., 0.894     , 0.        ,\n",
       "        0.07388643],\n",
       "       [0.45454545, 0.26666667, 0.65217391, ..., 0.9677    , 0.074     ,\n",
       "        0.07388643],\n",
       "       [0.63636364, 0.03333333, 0.2173913 , ..., 0.9935    , 0.        ,\n",
       "        0.07388643],\n",
       "       ...,\n",
       "       [0.09090909, 0.2       , 0.73913043, ..., 0.0013    , 0.203     ,\n",
       "        0.07388643],\n",
       "       [0.27272727, 0.13333333, 0.86956522, ..., 0.        , 0.        ,\n",
       "        0.25575259],\n",
       "       [0.45454545, 0.73333333, 0.95652174, ..., 0.5161    , 0.        ,\n",
       "        0.07388643]])"
      ]
     },
     "execution_count": 16,
     "metadata": {},
     "output_type": "execute_result"
    }
   ],
   "source": [
    "X_test"
   ]
  },
  {
   "cell_type": "markdown",
   "id": "cd1a948a",
   "metadata": {
    "papermill": {
     "duration": 0.018437,
     "end_time": "2025-08-08T03:51:43.830080",
     "exception": false,
     "start_time": "2025-08-08T03:51:43.811643",
     "status": "completed"
    },
    "tags": []
   },
   "source": [
    "### Default Parameters"
   ]
  },
  {
   "cell_type": "code",
   "execution_count": 17,
   "id": "dd2dc8fc",
   "metadata": {
    "execution": {
     "iopub.execute_input": "2025-08-08T03:51:43.865280Z",
     "iopub.status.busy": "2025-08-08T03:51:43.864689Z",
     "iopub.status.idle": "2025-08-08T03:51:43.875034Z",
     "shell.execute_reply": "2025-08-08T03:51:43.874235Z"
    },
    "papermill": {
     "duration": 0.029415,
     "end_time": "2025-08-08T03:51:43.876380",
     "exception": false,
     "start_time": "2025-08-08T03:51:43.846965",
     "status": "completed"
    },
    "tags": []
   },
   "outputs": [
    {
     "data": {
      "text/html": [
       "<style>#sk-container-id-1 {color: black;background-color: white;}#sk-container-id-1 pre{padding: 0;}#sk-container-id-1 div.sk-toggleable {background-color: white;}#sk-container-id-1 label.sk-toggleable__label {cursor: pointer;display: block;width: 100%;margin-bottom: 0;padding: 0.3em;box-sizing: border-box;text-align: center;}#sk-container-id-1 label.sk-toggleable__label-arrow:before {content: \"▸\";float: left;margin-right: 0.25em;color: #696969;}#sk-container-id-1 label.sk-toggleable__label-arrow:hover:before {color: black;}#sk-container-id-1 div.sk-estimator:hover label.sk-toggleable__label-arrow:before {color: black;}#sk-container-id-1 div.sk-toggleable__content {max-height: 0;max-width: 0;overflow: hidden;text-align: left;background-color: #f0f8ff;}#sk-container-id-1 div.sk-toggleable__content pre {margin: 0.2em;color: black;border-radius: 0.25em;background-color: #f0f8ff;}#sk-container-id-1 input.sk-toggleable__control:checked~div.sk-toggleable__content {max-height: 200px;max-width: 100%;overflow: auto;}#sk-container-id-1 input.sk-toggleable__control:checked~label.sk-toggleable__label-arrow:before {content: \"▾\";}#sk-container-id-1 div.sk-estimator input.sk-toggleable__control:checked~label.sk-toggleable__label {background-color: #d4ebff;}#sk-container-id-1 div.sk-label input.sk-toggleable__control:checked~label.sk-toggleable__label {background-color: #d4ebff;}#sk-container-id-1 input.sk-hidden--visually {border: 0;clip: rect(1px 1px 1px 1px);clip: rect(1px, 1px, 1px, 1px);height: 1px;margin: -1px;overflow: hidden;padding: 0;position: absolute;width: 1px;}#sk-container-id-1 div.sk-estimator {font-family: monospace;background-color: #f0f8ff;border: 1px dotted black;border-radius: 0.25em;box-sizing: border-box;margin-bottom: 0.5em;}#sk-container-id-1 div.sk-estimator:hover {background-color: #d4ebff;}#sk-container-id-1 div.sk-parallel-item::after {content: \"\";width: 100%;border-bottom: 1px solid gray;flex-grow: 1;}#sk-container-id-1 div.sk-label:hover label.sk-toggleable__label {background-color: #d4ebff;}#sk-container-id-1 div.sk-serial::before {content: \"\";position: absolute;border-left: 1px solid gray;box-sizing: border-box;top: 0;bottom: 0;left: 50%;z-index: 0;}#sk-container-id-1 div.sk-serial {display: flex;flex-direction: column;align-items: center;background-color: white;padding-right: 0.2em;padding-left: 0.2em;position: relative;}#sk-container-id-1 div.sk-item {position: relative;z-index: 1;}#sk-container-id-1 div.sk-parallel {display: flex;align-items: stretch;justify-content: center;background-color: white;position: relative;}#sk-container-id-1 div.sk-item::before, #sk-container-id-1 div.sk-parallel-item::before {content: \"\";position: absolute;border-left: 1px solid gray;box-sizing: border-box;top: 0;bottom: 0;left: 50%;z-index: -1;}#sk-container-id-1 div.sk-parallel-item {display: flex;flex-direction: column;z-index: 1;position: relative;background-color: white;}#sk-container-id-1 div.sk-parallel-item:first-child::after {align-self: flex-end;width: 50%;}#sk-container-id-1 div.sk-parallel-item:last-child::after {align-self: flex-start;width: 50%;}#sk-container-id-1 div.sk-parallel-item:only-child::after {width: 0;}#sk-container-id-1 div.sk-dashed-wrapped {border: 1px dashed gray;margin: 0 0.4em 0.5em 0.4em;box-sizing: border-box;padding-bottom: 0.4em;background-color: white;}#sk-container-id-1 div.sk-label label {font-family: monospace;font-weight: bold;display: inline-block;line-height: 1.2em;}#sk-container-id-1 div.sk-label-container {text-align: center;}#sk-container-id-1 div.sk-container {/* jupyter's `normalize.less` sets `[hidden] { display: none; }` but bootstrap.min.css set `[hidden] { display: none !important; }` so we also need the `!important` here to be able to override the default hidden behavior on the sphinx rendered scikit-learn.org. See: https://github.com/scikit-learn/scikit-learn/issues/21755 */display: inline-block !important;position: relative;}#sk-container-id-1 div.sk-text-repr-fallback {display: none;}</style><div id=\"sk-container-id-1\" class=\"sk-top-container\"><div class=\"sk-text-repr-fallback\"><pre>LinearRegression()</pre><b>In a Jupyter environment, please rerun this cell to show the HTML representation or trust the notebook. <br />On GitHub, the HTML representation is unable to render, please try loading this page with nbviewer.org.</b></div><div class=\"sk-container\" hidden><div class=\"sk-item\"><div class=\"sk-estimator sk-toggleable\"><input class=\"sk-toggleable__control sk-hidden--visually\" id=\"sk-estimator-id-1\" type=\"checkbox\" checked><label for=\"sk-estimator-id-1\" class=\"sk-toggleable__label sk-toggleable__label-arrow\">LinearRegression</label><div class=\"sk-toggleable__content\"><pre>LinearRegression()</pre></div></div></div></div></div>"
      ],
      "text/plain": [
       "LinearRegression()"
      ]
     },
     "execution_count": 17,
     "metadata": {},
     "output_type": "execute_result"
    }
   ],
   "source": [
    "training_model = LinearRegression()\n",
    "training_model"
   ]
  },
  {
   "cell_type": "code",
   "execution_count": 18,
   "id": "76a2c280",
   "metadata": {
    "execution": {
     "iopub.execute_input": "2025-08-08T03:51:43.912879Z",
     "iopub.status.busy": "2025-08-08T03:51:43.912581Z",
     "iopub.status.idle": "2025-08-08T03:51:43.989660Z",
     "shell.execute_reply": "2025-08-08T03:51:43.986504Z"
    },
    "papermill": {
     "duration": 0.097033,
     "end_time": "2025-08-08T03:51:43.991231",
     "exception": false,
     "start_time": "2025-08-08T03:51:43.894198",
     "status": "completed"
    },
    "tags": []
   },
   "outputs": [
    {
     "name": "stdout",
     "output_type": "stream",
     "text": [
      "CPU times: user 62.8 ms, sys: 7.8 ms, total: 70.6 ms\n",
      "Wall time: 68.3 ms\n"
     ]
    },
    {
     "data": {
      "text/html": [
       "<style>#sk-container-id-2 {color: black;background-color: white;}#sk-container-id-2 pre{padding: 0;}#sk-container-id-2 div.sk-toggleable {background-color: white;}#sk-container-id-2 label.sk-toggleable__label {cursor: pointer;display: block;width: 100%;margin-bottom: 0;padding: 0.3em;box-sizing: border-box;text-align: center;}#sk-container-id-2 label.sk-toggleable__label-arrow:before {content: \"▸\";float: left;margin-right: 0.25em;color: #696969;}#sk-container-id-2 label.sk-toggleable__label-arrow:hover:before {color: black;}#sk-container-id-2 div.sk-estimator:hover label.sk-toggleable__label-arrow:before {color: black;}#sk-container-id-2 div.sk-toggleable__content {max-height: 0;max-width: 0;overflow: hidden;text-align: left;background-color: #f0f8ff;}#sk-container-id-2 div.sk-toggleable__content pre {margin: 0.2em;color: black;border-radius: 0.25em;background-color: #f0f8ff;}#sk-container-id-2 input.sk-toggleable__control:checked~div.sk-toggleable__content {max-height: 200px;max-width: 100%;overflow: auto;}#sk-container-id-2 input.sk-toggleable__control:checked~label.sk-toggleable__label-arrow:before {content: \"▾\";}#sk-container-id-2 div.sk-estimator input.sk-toggleable__control:checked~label.sk-toggleable__label {background-color: #d4ebff;}#sk-container-id-2 div.sk-label input.sk-toggleable__control:checked~label.sk-toggleable__label {background-color: #d4ebff;}#sk-container-id-2 input.sk-hidden--visually {border: 0;clip: rect(1px 1px 1px 1px);clip: rect(1px, 1px, 1px, 1px);height: 1px;margin: -1px;overflow: hidden;padding: 0;position: absolute;width: 1px;}#sk-container-id-2 div.sk-estimator {font-family: monospace;background-color: #f0f8ff;border: 1px dotted black;border-radius: 0.25em;box-sizing: border-box;margin-bottom: 0.5em;}#sk-container-id-2 div.sk-estimator:hover {background-color: #d4ebff;}#sk-container-id-2 div.sk-parallel-item::after {content: \"\";width: 100%;border-bottom: 1px solid gray;flex-grow: 1;}#sk-container-id-2 div.sk-label:hover label.sk-toggleable__label {background-color: #d4ebff;}#sk-container-id-2 div.sk-serial::before {content: \"\";position: absolute;border-left: 1px solid gray;box-sizing: border-box;top: 0;bottom: 0;left: 50%;z-index: 0;}#sk-container-id-2 div.sk-serial {display: flex;flex-direction: column;align-items: center;background-color: white;padding-right: 0.2em;padding-left: 0.2em;position: relative;}#sk-container-id-2 div.sk-item {position: relative;z-index: 1;}#sk-container-id-2 div.sk-parallel {display: flex;align-items: stretch;justify-content: center;background-color: white;position: relative;}#sk-container-id-2 div.sk-item::before, #sk-container-id-2 div.sk-parallel-item::before {content: \"\";position: absolute;border-left: 1px solid gray;box-sizing: border-box;top: 0;bottom: 0;left: 50%;z-index: -1;}#sk-container-id-2 div.sk-parallel-item {display: flex;flex-direction: column;z-index: 1;position: relative;background-color: white;}#sk-container-id-2 div.sk-parallel-item:first-child::after {align-self: flex-end;width: 50%;}#sk-container-id-2 div.sk-parallel-item:last-child::after {align-self: flex-start;width: 50%;}#sk-container-id-2 div.sk-parallel-item:only-child::after {width: 0;}#sk-container-id-2 div.sk-dashed-wrapped {border: 1px dashed gray;margin: 0 0.4em 0.5em 0.4em;box-sizing: border-box;padding-bottom: 0.4em;background-color: white;}#sk-container-id-2 div.sk-label label {font-family: monospace;font-weight: bold;display: inline-block;line-height: 1.2em;}#sk-container-id-2 div.sk-label-container {text-align: center;}#sk-container-id-2 div.sk-container {/* jupyter's `normalize.less` sets `[hidden] { display: none; }` but bootstrap.min.css set `[hidden] { display: none !important; }` so we also need the `!important` here to be able to override the default hidden behavior on the sphinx rendered scikit-learn.org. See: https://github.com/scikit-learn/scikit-learn/issues/21755 */display: inline-block !important;position: relative;}#sk-container-id-2 div.sk-text-repr-fallback {display: none;}</style><div id=\"sk-container-id-2\" class=\"sk-top-container\"><div class=\"sk-text-repr-fallback\"><pre>LinearRegression()</pre><b>In a Jupyter environment, please rerun this cell to show the HTML representation or trust the notebook. <br />On GitHub, the HTML representation is unable to render, please try loading this page with nbviewer.org.</b></div><div class=\"sk-container\" hidden><div class=\"sk-item\"><div class=\"sk-estimator sk-toggleable\"><input class=\"sk-toggleable__control sk-hidden--visually\" id=\"sk-estimator-id-2\" type=\"checkbox\" checked><label for=\"sk-estimator-id-2\" class=\"sk-toggleable__label sk-toggleable__label-arrow\">LinearRegression</label><div class=\"sk-toggleable__content\"><pre>LinearRegression()</pre></div></div></div></div></div>"
      ],
      "text/plain": [
       "LinearRegression()"
      ]
     },
     "execution_count": 18,
     "metadata": {},
     "output_type": "execute_result"
    }
   ],
   "source": [
    "%%time\n",
    "training_model.fit(X_train, y_train)"
   ]
  },
  {
   "cell_type": "code",
   "execution_count": 19,
   "id": "2df0125d",
   "metadata": {
    "execution": {
     "iopub.execute_input": "2025-08-08T03:51:44.054475Z",
     "iopub.status.busy": "2025-08-08T03:51:44.054156Z",
     "iopub.status.idle": "2025-08-08T03:51:44.073533Z",
     "shell.execute_reply": "2025-08-08T03:51:44.072791Z"
    },
    "papermill": {
     "duration": 0.05276,
     "end_time": "2025-08-08T03:51:44.075435",
     "exception": false,
     "start_time": "2025-08-08T03:51:44.022675",
     "status": "completed"
    },
    "tags": []
   },
   "outputs": [
    {
     "data": {
      "text/plain": [
       "array([ -2.4765625,  76.1015625,  -2.640625 , ..., 208.546875 ,\n",
       "         0.875    ,  -1.109375 ])"
      ]
     },
     "execution_count": 19,
     "metadata": {},
     "output_type": "execute_result"
    }
   ],
   "source": [
    "y_pred = training_model.predict(X_test)\n",
    "y_pred"
   ]
  },
  {
   "cell_type": "code",
   "execution_count": 20,
   "id": "8fbce8b6",
   "metadata": {
    "execution": {
     "iopub.execute_input": "2025-08-08T03:51:44.119478Z",
     "iopub.status.busy": "2025-08-08T03:51:44.119220Z",
     "iopub.status.idle": "2025-08-08T03:51:44.125285Z",
     "shell.execute_reply": "2025-08-08T03:51:44.124624Z"
    },
    "papermill": {
     "duration": 0.025847,
     "end_time": "2025-08-08T03:51:44.126544",
     "exception": false,
     "start_time": "2025-08-08T03:51:44.100697",
     "status": "completed"
    },
    "tags": []
   },
   "outputs": [
    {
     "data": {
      "text/plain": [
       "5158       0.00\n",
       "3831     105.26\n",
       "5117       0.00\n",
       "6326     758.39\n",
       "11359    135.87\n",
       "          ...  \n",
       "10290     74.58\n",
       "13995      0.00\n",
       "9665     241.81\n",
       "2276       0.00\n",
       "4174       0.00\n",
       "Name: SolarRadiation, Length: 2924, dtype: float64"
      ]
     },
     "execution_count": 20,
     "metadata": {},
     "output_type": "execute_result"
    }
   ],
   "source": [
    "y_test"
   ]
  },
  {
   "cell_type": "code",
   "execution_count": 21,
   "id": "2c80dac1",
   "metadata": {
    "execution": {
     "iopub.execute_input": "2025-08-08T03:51:44.164560Z",
     "iopub.status.busy": "2025-08-08T03:51:44.163968Z",
     "iopub.status.idle": "2025-08-08T03:51:44.171160Z",
     "shell.execute_reply": "2025-08-08T03:51:44.170357Z"
    },
    "papermill": {
     "duration": 0.027409,
     "end_time": "2025-08-08T03:51:44.172457",
     "exception": false,
     "start_time": "2025-08-08T03:51:44.145048",
     "status": "completed"
    },
    "tags": []
   },
   "outputs": [],
   "source": [
    "mse = mean_squared_error(y_test, y_pred)\n",
    "mae = mean_absolute_error(y_test, y_pred)\n",
    "r2 = r2_score(y_test, y_pred)\n",
    "rmse = math.sqrt(mse)"
   ]
  },
  {
   "cell_type": "code",
   "execution_count": 22,
   "id": "c70c7e21",
   "metadata": {
    "execution": {
     "iopub.execute_input": "2025-08-08T03:51:44.210056Z",
     "iopub.status.busy": "2025-08-08T03:51:44.209757Z",
     "iopub.status.idle": "2025-08-08T03:51:44.214422Z",
     "shell.execute_reply": "2025-08-08T03:51:44.213788Z"
    },
    "papermill": {
     "duration": 0.025304,
     "end_time": "2025-08-08T03:51:44.215727",
     "exception": false,
     "start_time": "2025-08-08T03:51:44.190423",
     "status": "completed"
    },
    "tags": []
   },
   "outputs": [
    {
     "name": "stdout",
     "output_type": "stream",
     "text": [
      "MSE Score: 316.3011747329482\n",
      "MAE Score: 11.599488500341996\n",
      "R2 Score: 0.9966364723704948\n",
      "RMSE Score: 17.784858018352246\n"
     ]
    }
   ],
   "source": [
    "print(\"MSE Score:\", mse)\n",
    "print(\"MAE Score:\", mae)\n",
    "print(\"R2 Score:\", r2)\n",
    "print(\"RMSE Score:\", rmse)"
   ]
  },
  {
   "cell_type": "code",
   "execution_count": 23,
   "id": "bc52e8f1",
   "metadata": {
    "execution": {
     "iopub.execute_input": "2025-08-08T03:51:44.253808Z",
     "iopub.status.busy": "2025-08-08T03:51:44.253210Z",
     "iopub.status.idle": "2025-08-08T03:51:44.267371Z",
     "shell.execute_reply": "2025-08-08T03:51:44.266530Z"
    },
    "papermill": {
     "duration": 0.034965,
     "end_time": "2025-08-08T03:51:44.268768",
     "exception": false,
     "start_time": "2025-08-08T03:51:44.233803",
     "status": "completed"
    },
    "tags": []
   },
   "outputs": [
    {
     "name": "stdout",
     "output_type": "stream",
     "text": [
      "✨ New regression model added:\n",
      "   MSE: 316.301175, R²: 0.996636\n",
      "   Features: 27\n",
      "💾 Registry updated: Model_Training_History/History_Regression.csv\n"
     ]
    }
   ],
   "source": [
    "regression_params = {\n",
    "    'model_name': model_name_for_saving,\n",
    "    'scaler_name': \"MinMaxScaler\",\n",
    "    'features_list': feature_columns_for_saving,\n",
    "    'target_column': target_name_for_saving,\n",
    "    'mse': mse,\n",
    "    'mae': mae,\n",
    "    'rmse': rmse,\n",
    "    'r2': r2,\n",
    "    'parameters': json.dumps(training_model.get_params())\n",
    "}\n",
    "save_model_performance_if_better('regression', regression_params)"
   ]
  },
  {
   "cell_type": "markdown",
   "id": "5e355503",
   "metadata": {
    "papermill": {
     "duration": 0.017966,
     "end_time": "2025-08-08T03:51:44.306061",
     "exception": false,
     "start_time": "2025-08-08T03:51:44.288095",
     "status": "completed"
    },
    "tags": []
   },
   "source": [
    "### Tuning with Grid Search"
   ]
  },
  {
   "cell_type": "code",
   "execution_count": 24,
   "id": "844d7e8d",
   "metadata": {
    "execution": {
     "iopub.execute_input": "2025-08-08T03:51:44.343925Z",
     "iopub.status.busy": "2025-08-08T03:51:44.343129Z",
     "iopub.status.idle": "2025-08-08T03:51:44.347302Z",
     "shell.execute_reply": "2025-08-08T03:51:44.346637Z"
    },
    "papermill": {
     "duration": 0.024416,
     "end_time": "2025-08-08T03:51:44.348522",
     "exception": false,
     "start_time": "2025-08-08T03:51:44.324106",
     "status": "completed"
    },
    "tags": []
   },
   "outputs": [],
   "source": [
    "grid_search = GridSearchCV(\n",
    "    LinearRegression(), \n",
    "    grid_param, \n",
    "    cv=5, \n",
    "    scoring='neg_mean_squared_error', \n",
    "    n_jobs=-1, # allow parallel processing, you cant use your own laptop while this runs\n",
    "    verbose=1\n",
    ")"
   ]
  },
  {
   "cell_type": "code",
   "execution_count": 25,
   "id": "412401f2",
   "metadata": {
    "execution": {
     "iopub.execute_input": "2025-08-08T03:51:44.386638Z",
     "iopub.status.busy": "2025-08-08T03:51:44.385878Z",
     "iopub.status.idle": "2025-08-08T03:51:47.039186Z",
     "shell.execute_reply": "2025-08-08T03:51:47.038387Z"
    },
    "papermill": {
     "duration": 2.673642,
     "end_time": "2025-08-08T03:51:47.040462",
     "exception": false,
     "start_time": "2025-08-08T03:51:44.366820",
     "status": "completed"
    },
    "tags": []
   },
   "outputs": [
    {
     "name": "stdout",
     "output_type": "stream",
     "text": [
      "Starting hyperparameter tuning...\n",
      "Fitting 5 folds for each of 8 candidates, totalling 40 fits\n",
      "CPU times: user 189 ms, sys: 39.2 ms, total: 228 ms\n",
      "Wall time: 2.64 s\n"
     ]
    },
    {
     "data": {
      "text/html": [
       "<style>#sk-container-id-3 {color: black;background-color: white;}#sk-container-id-3 pre{padding: 0;}#sk-container-id-3 div.sk-toggleable {background-color: white;}#sk-container-id-3 label.sk-toggleable__label {cursor: pointer;display: block;width: 100%;margin-bottom: 0;padding: 0.3em;box-sizing: border-box;text-align: center;}#sk-container-id-3 label.sk-toggleable__label-arrow:before {content: \"▸\";float: left;margin-right: 0.25em;color: #696969;}#sk-container-id-3 label.sk-toggleable__label-arrow:hover:before {color: black;}#sk-container-id-3 div.sk-estimator:hover label.sk-toggleable__label-arrow:before {color: black;}#sk-container-id-3 div.sk-toggleable__content {max-height: 0;max-width: 0;overflow: hidden;text-align: left;background-color: #f0f8ff;}#sk-container-id-3 div.sk-toggleable__content pre {margin: 0.2em;color: black;border-radius: 0.25em;background-color: #f0f8ff;}#sk-container-id-3 input.sk-toggleable__control:checked~div.sk-toggleable__content {max-height: 200px;max-width: 100%;overflow: auto;}#sk-container-id-3 input.sk-toggleable__control:checked~label.sk-toggleable__label-arrow:before {content: \"▾\";}#sk-container-id-3 div.sk-estimator input.sk-toggleable__control:checked~label.sk-toggleable__label {background-color: #d4ebff;}#sk-container-id-3 div.sk-label input.sk-toggleable__control:checked~label.sk-toggleable__label {background-color: #d4ebff;}#sk-container-id-3 input.sk-hidden--visually {border: 0;clip: rect(1px 1px 1px 1px);clip: rect(1px, 1px, 1px, 1px);height: 1px;margin: -1px;overflow: hidden;padding: 0;position: absolute;width: 1px;}#sk-container-id-3 div.sk-estimator {font-family: monospace;background-color: #f0f8ff;border: 1px dotted black;border-radius: 0.25em;box-sizing: border-box;margin-bottom: 0.5em;}#sk-container-id-3 div.sk-estimator:hover {background-color: #d4ebff;}#sk-container-id-3 div.sk-parallel-item::after {content: \"\";width: 100%;border-bottom: 1px solid gray;flex-grow: 1;}#sk-container-id-3 div.sk-label:hover label.sk-toggleable__label {background-color: #d4ebff;}#sk-container-id-3 div.sk-serial::before {content: \"\";position: absolute;border-left: 1px solid gray;box-sizing: border-box;top: 0;bottom: 0;left: 50%;z-index: 0;}#sk-container-id-3 div.sk-serial {display: flex;flex-direction: column;align-items: center;background-color: white;padding-right: 0.2em;padding-left: 0.2em;position: relative;}#sk-container-id-3 div.sk-item {position: relative;z-index: 1;}#sk-container-id-3 div.sk-parallel {display: flex;align-items: stretch;justify-content: center;background-color: white;position: relative;}#sk-container-id-3 div.sk-item::before, #sk-container-id-3 div.sk-parallel-item::before {content: \"\";position: absolute;border-left: 1px solid gray;box-sizing: border-box;top: 0;bottom: 0;left: 50%;z-index: -1;}#sk-container-id-3 div.sk-parallel-item {display: flex;flex-direction: column;z-index: 1;position: relative;background-color: white;}#sk-container-id-3 div.sk-parallel-item:first-child::after {align-self: flex-end;width: 50%;}#sk-container-id-3 div.sk-parallel-item:last-child::after {align-self: flex-start;width: 50%;}#sk-container-id-3 div.sk-parallel-item:only-child::after {width: 0;}#sk-container-id-3 div.sk-dashed-wrapped {border: 1px dashed gray;margin: 0 0.4em 0.5em 0.4em;box-sizing: border-box;padding-bottom: 0.4em;background-color: white;}#sk-container-id-3 div.sk-label label {font-family: monospace;font-weight: bold;display: inline-block;line-height: 1.2em;}#sk-container-id-3 div.sk-label-container {text-align: center;}#sk-container-id-3 div.sk-container {/* jupyter's `normalize.less` sets `[hidden] { display: none; }` but bootstrap.min.css set `[hidden] { display: none !important; }` so we also need the `!important` here to be able to override the default hidden behavior on the sphinx rendered scikit-learn.org. See: https://github.com/scikit-learn/scikit-learn/issues/21755 */display: inline-block !important;position: relative;}#sk-container-id-3 div.sk-text-repr-fallback {display: none;}</style><div id=\"sk-container-id-3\" class=\"sk-top-container\"><div class=\"sk-text-repr-fallback\"><pre>GridSearchCV(cv=5, estimator=LinearRegression(), n_jobs=-1,\n",
       "             param_grid={&#x27;copy_X&#x27;: [True, False],\n",
       "                         &#x27;fit_intercept&#x27;: [True, False],\n",
       "                         &#x27;positive&#x27;: [True, False]},\n",
       "             scoring=&#x27;neg_mean_squared_error&#x27;, verbose=1)</pre><b>In a Jupyter environment, please rerun this cell to show the HTML representation or trust the notebook. <br />On GitHub, the HTML representation is unable to render, please try loading this page with nbviewer.org.</b></div><div class=\"sk-container\" hidden><div class=\"sk-item sk-dashed-wrapped\"><div class=\"sk-label-container\"><div class=\"sk-label sk-toggleable\"><input class=\"sk-toggleable__control sk-hidden--visually\" id=\"sk-estimator-id-3\" type=\"checkbox\" ><label for=\"sk-estimator-id-3\" class=\"sk-toggleable__label sk-toggleable__label-arrow\">GridSearchCV</label><div class=\"sk-toggleable__content\"><pre>GridSearchCV(cv=5, estimator=LinearRegression(), n_jobs=-1,\n",
       "             param_grid={&#x27;copy_X&#x27;: [True, False],\n",
       "                         &#x27;fit_intercept&#x27;: [True, False],\n",
       "                         &#x27;positive&#x27;: [True, False]},\n",
       "             scoring=&#x27;neg_mean_squared_error&#x27;, verbose=1)</pre></div></div></div><div class=\"sk-parallel\"><div class=\"sk-parallel-item\"><div class=\"sk-item\"><div class=\"sk-label-container\"><div class=\"sk-label sk-toggleable\"><input class=\"sk-toggleable__control sk-hidden--visually\" id=\"sk-estimator-id-4\" type=\"checkbox\" ><label for=\"sk-estimator-id-4\" class=\"sk-toggleable__label sk-toggleable__label-arrow\">estimator: LinearRegression</label><div class=\"sk-toggleable__content\"><pre>LinearRegression()</pre></div></div></div><div class=\"sk-serial\"><div class=\"sk-item\"><div class=\"sk-estimator sk-toggleable\"><input class=\"sk-toggleable__control sk-hidden--visually\" id=\"sk-estimator-id-5\" type=\"checkbox\" ><label for=\"sk-estimator-id-5\" class=\"sk-toggleable__label sk-toggleable__label-arrow\">LinearRegression</label><div class=\"sk-toggleable__content\"><pre>LinearRegression()</pre></div></div></div></div></div></div></div></div></div></div>"
      ],
      "text/plain": [
       "GridSearchCV(cv=5, estimator=LinearRegression(), n_jobs=-1,\n",
       "             param_grid={'copy_X': [True, False],\n",
       "                         'fit_intercept': [True, False],\n",
       "                         'positive': [True, False]},\n",
       "             scoring='neg_mean_squared_error', verbose=1)"
      ]
     },
     "execution_count": 25,
     "metadata": {},
     "output_type": "execute_result"
    }
   ],
   "source": [
    "%%time\n",
    "print(\"Starting hyperparameter tuning...\")\n",
    "grid_search.fit(X_train, y_train)"
   ]
  },
  {
   "cell_type": "code",
   "execution_count": 26,
   "id": "1977438b",
   "metadata": {
    "execution": {
     "iopub.execute_input": "2025-08-08T03:51:47.079401Z",
     "iopub.status.busy": "2025-08-08T03:51:47.079106Z",
     "iopub.status.idle": "2025-08-08T03:51:47.084289Z",
     "shell.execute_reply": "2025-08-08T03:51:47.083348Z"
    },
    "papermill": {
     "duration": 0.026053,
     "end_time": "2025-08-08T03:51:47.085607",
     "exception": false,
     "start_time": "2025-08-08T03:51:47.059554",
     "status": "completed"
    },
    "tags": []
   },
   "outputs": [
    {
     "name": "stdout",
     "output_type": "stream",
     "text": [
      "TUNING RESULTS\n",
      "==================================================\n",
      "Best Parameters: {'copy_X': True, 'fit_intercept': True, 'positive': True}\n",
      "Best Cross-Validation Score (Negative MSE): -304.3119767381479\n",
      "Best Cross-Validation Score (MSE): 304.3119767381479\n",
      "Best Cross-Validation Score (RMSE): 17.44454002655696\n"
     ]
    }
   ],
   "source": [
    "print(\"TUNING RESULTS\")\n",
    "print(\"=\"*50)\n",
    "print(\"Best Parameters:\", grid_search.best_params_)\n",
    "print(\"Best Cross-Validation Score (Negative MSE):\", grid_search.best_score_)\n",
    "print(\"Best Cross-Validation Score (MSE):\", -grid_search.best_score_)\n",
    "print(\"Best Cross-Validation Score (RMSE):\", math.sqrt(-grid_search.best_score_))"
   ]
  },
  {
   "cell_type": "code",
   "execution_count": 27,
   "id": "faf71714",
   "metadata": {
    "execution": {
     "iopub.execute_input": "2025-08-08T03:51:47.126401Z",
     "iopub.status.busy": "2025-08-08T03:51:47.126106Z",
     "iopub.status.idle": "2025-08-08T03:51:47.130834Z",
     "shell.execute_reply": "2025-08-08T03:51:47.129967Z"
    },
    "papermill": {
     "duration": 0.027076,
     "end_time": "2025-08-08T03:51:47.132299",
     "exception": false,
     "start_time": "2025-08-08T03:51:47.105223",
     "status": "completed"
    },
    "tags": []
   },
   "outputs": [],
   "source": [
    "grid_search_best_model = grid_search.best_estimator_\n",
    "y_pred = grid_search_best_model.predict(X_test)"
   ]
  },
  {
   "cell_type": "code",
   "execution_count": 28,
   "id": "a17d0e9d",
   "metadata": {
    "execution": {
     "iopub.execute_input": "2025-08-08T03:51:47.175352Z",
     "iopub.status.busy": "2025-08-08T03:51:47.174969Z",
     "iopub.status.idle": "2025-08-08T03:51:47.182169Z",
     "shell.execute_reply": "2025-08-08T03:51:47.181522Z"
    },
    "papermill": {
     "duration": 0.029127,
     "end_time": "2025-08-08T03:51:47.183452",
     "exception": false,
     "start_time": "2025-08-08T03:51:47.154325",
     "status": "completed"
    },
    "tags": []
   },
   "outputs": [],
   "source": [
    "mse_grid_search = mean_squared_error(y_test, y_pred)\n",
    "mae_grid_search = mean_absolute_error(y_test, y_pred)\n",
    "r2_grid_search = r2_score(y_test, y_pred)\n",
    "rmse_grid_search = math.sqrt(mse_grid_search)"
   ]
  },
  {
   "cell_type": "code",
   "execution_count": 29,
   "id": "61654ae6",
   "metadata": {
    "execution": {
     "iopub.execute_input": "2025-08-08T03:51:47.222793Z",
     "iopub.status.busy": "2025-08-08T03:51:47.222062Z",
     "iopub.status.idle": "2025-08-08T03:51:47.226857Z",
     "shell.execute_reply": "2025-08-08T03:51:47.226063Z"
    },
    "papermill": {
     "duration": 0.025929,
     "end_time": "2025-08-08T03:51:47.228281",
     "exception": false,
     "start_time": "2025-08-08T03:51:47.202352",
     "status": "completed"
    },
    "tags": []
   },
   "outputs": [
    {
     "name": "stdout",
     "output_type": "stream",
     "text": [
      "MSE Score: 316.2001970977802\n",
      "MAE Score: 11.577460356836387\n",
      "R2 Score: 0.9966375461605815\n",
      "RMSE Score: 17.78201892636998\n"
     ]
    }
   ],
   "source": [
    "print(\"MSE Score:\", mse_grid_search)\n",
    "print(\"MAE Score:\", mae_grid_search)\n",
    "print(\"R2 Score:\", r2_grid_search)\n",
    "print(\"RMSE Score:\", rmse_grid_search)"
   ]
  },
  {
   "cell_type": "code",
   "execution_count": 30,
   "id": "97901c50",
   "metadata": {
    "execution": {
     "iopub.execute_input": "2025-08-08T03:51:47.268893Z",
     "iopub.status.busy": "2025-08-08T03:51:47.268329Z",
     "iopub.status.idle": "2025-08-08T03:51:47.279197Z",
     "shell.execute_reply": "2025-08-08T03:51:47.278344Z"
    },
    "papermill": {
     "duration": 0.032137,
     "end_time": "2025-08-08T03:51:47.280538",
     "exception": false,
     "start_time": "2025-08-08T03:51:47.248401",
     "status": "completed"
    },
    "tags": []
   },
   "outputs": [
    {
     "name": "stdout",
     "output_type": "stream",
     "text": [
      "✨ New regression model added:\n",
      "   MSE: 316.200197, R²: 0.996638\n",
      "   Features: 27\n",
      "💾 Registry updated: Model_Training_History/History_Regression.csv\n"
     ]
    }
   ],
   "source": [
    "regression_params = {\n",
    "    'model_name': model_name_for_saving + \" Tuned\",\n",
    "    'scaler_name': \"MinMaxScaler\",\n",
    "    'features_list': feature_columns_for_saving,\n",
    "    'target_column': target_name_for_saving,\n",
    "    'mse': mse_grid_search,\n",
    "    'mae': mae_grid_search,\n",
    "    'rmse': rmse_grid_search,\n",
    "    'r2': r2_grid_search,\n",
    "    'parameters' : json.dumps({\n",
    "        \"best_params\": grid_search.best_params_,\n",
    "        \"cv_score\": grid_search.best_score_,\n",
    "        \"all_params\": grid_search_best_model.get_params()\n",
    "    })\n",
    "}\n",
    "save_model_performance_if_better('regression', regression_params)"
   ]
  },
  {
   "cell_type": "markdown",
   "id": "300c7746",
   "metadata": {
    "papermill": {
     "duration": 0.01879,
     "end_time": "2025-08-08T03:51:47.318999",
     "exception": false,
     "start_time": "2025-08-08T03:51:47.300209",
     "status": "completed"
    },
    "tags": []
   },
   "source": [
    "## Standard Scaler"
   ]
  },
  {
   "cell_type": "code",
   "execution_count": 31,
   "id": "f34555c2",
   "metadata": {
    "execution": {
     "iopub.execute_input": "2025-08-08T03:51:47.358394Z",
     "iopub.status.busy": "2025-08-08T03:51:47.358074Z",
     "iopub.status.idle": "2025-08-08T03:51:47.395301Z",
     "shell.execute_reply": "2025-08-08T03:51:47.394538Z"
    },
    "papermill": {
     "duration": 0.058623,
     "end_time": "2025-08-08T03:51:47.396857",
     "exception": false,
     "start_time": "2025-08-08T03:51:47.338234",
     "status": "completed"
    },
    "tags": []
   },
   "outputs": [],
   "source": [
    "scaler = StandardScaler()\n",
    "X_train = scaler.fit_transform(X_train_raw)\n",
    "X_test = scaler.transform(X_test_raw)"
   ]
  },
  {
   "cell_type": "code",
   "execution_count": 32,
   "id": "7dc8a0b1",
   "metadata": {
    "execution": {
     "iopub.execute_input": "2025-08-08T03:51:47.436972Z",
     "iopub.status.busy": "2025-08-08T03:51:47.436397Z",
     "iopub.status.idle": "2025-08-08T03:51:47.441926Z",
     "shell.execute_reply": "2025-08-08T03:51:47.441244Z"
    },
    "papermill": {
     "duration": 0.026803,
     "end_time": "2025-08-08T03:51:47.443139",
     "exception": false,
     "start_time": "2025-08-08T03:51:47.416336",
     "status": "completed"
    },
    "tags": []
   },
   "outputs": [
    {
     "data": {
      "text/plain": [
       "array([[ 1.01884116,  1.17229173, -0.21938027, ..., -0.12088825,\n",
       "         1.52387472,  1.09644529],\n",
       "       [ 1.64376461, -0.75947244,  0.64624572, ..., -1.52028666,\n",
       "         0.24645772, -0.43343649],\n",
       "       [-1.16839092, -0.1913065 , -1.66209024, ..., -1.52028666,\n",
       "        -0.73592134, -0.43343649],\n",
       "       ...,\n",
       "       [ 0.70637943,  1.28592492, -0.21938027, ...,  0.96917545,\n",
       "         0.25618424, -0.30383078],\n",
       "       [-1.48085264, -0.30493969,  1.36760071, ..., -1.52028666,\n",
       "        -0.73592134, -0.43343649],\n",
       "       [ 1.01884116, -0.75947244, -0.50792226, ...,  1.01722469,\n",
       "         0.20430944,  0.85928021]])"
      ]
     },
     "execution_count": 32,
     "metadata": {},
     "output_type": "execute_result"
    }
   ],
   "source": [
    "X_train"
   ]
  },
  {
   "cell_type": "code",
   "execution_count": 33,
   "id": "6e3b4cda",
   "metadata": {
    "execution": {
     "iopub.execute_input": "2025-08-08T03:51:47.483361Z",
     "iopub.status.busy": "2025-08-08T03:51:47.483072Z",
     "iopub.status.idle": "2025-08-08T03:51:47.488564Z",
     "shell.execute_reply": "2025-08-08T03:51:47.487829Z"
    },
    "papermill": {
     "duration": 0.027089,
     "end_time": "2025-08-08T03:51:47.489765",
     "exception": false,
     "start_time": "2025-08-08T03:51:47.462676",
     "status": "completed"
    },
    "tags": []
   },
   "outputs": [
    {
     "data": {
      "text/plain": [
       "array([[ 0.70637943, -1.44127155,  1.51187171, ...,  1.02148941,\n",
       "        -0.73592134, -0.43343649],\n",
       "       [ 0.08145598, -0.75947244,  0.50197472, ...,  1.23102956,\n",
       "        -0.49600038, -0.43343649],\n",
       "       [ 0.70637943, -1.55490474, -0.94073525, ...,  1.30438283,\n",
       "        -0.73592134, -0.43343649],\n",
       "       ...,\n",
       "       [-1.16839092, -0.98673881,  0.79051672, ..., -1.51659057,\n",
       "        -0.07775979, -0.43343649],\n",
       "       [-0.54346747, -1.21400518,  1.22332971, ..., -1.52028666,\n",
       "        -0.73592134,  0.71764924],\n",
       "       [ 0.08145598,  0.83139217,  1.51187171, ..., -0.05293696,\n",
       "        -0.73592134, -0.43343649]])"
      ]
     },
     "execution_count": 33,
     "metadata": {},
     "output_type": "execute_result"
    }
   ],
   "source": [
    "X_test"
   ]
  },
  {
   "cell_type": "markdown",
   "id": "38499099",
   "metadata": {
    "papermill": {
     "duration": 0.019815,
     "end_time": "2025-08-08T03:51:47.529244",
     "exception": false,
     "start_time": "2025-08-08T03:51:47.509429",
     "status": "completed"
    },
    "tags": []
   },
   "source": [
    "### Default Parameters"
   ]
  },
  {
   "cell_type": "code",
   "execution_count": 34,
   "id": "a1767c6d",
   "metadata": {
    "execution": {
     "iopub.execute_input": "2025-08-08T03:51:47.570929Z",
     "iopub.status.busy": "2025-08-08T03:51:47.570210Z",
     "iopub.status.idle": "2025-08-08T03:51:47.575972Z",
     "shell.execute_reply": "2025-08-08T03:51:47.575322Z"
    },
    "papermill": {
     "duration": 0.027972,
     "end_time": "2025-08-08T03:51:47.577217",
     "exception": false,
     "start_time": "2025-08-08T03:51:47.549245",
     "status": "completed"
    },
    "tags": []
   },
   "outputs": [
    {
     "data": {
      "text/html": [
       "<style>#sk-container-id-4 {color: black;background-color: white;}#sk-container-id-4 pre{padding: 0;}#sk-container-id-4 div.sk-toggleable {background-color: white;}#sk-container-id-4 label.sk-toggleable__label {cursor: pointer;display: block;width: 100%;margin-bottom: 0;padding: 0.3em;box-sizing: border-box;text-align: center;}#sk-container-id-4 label.sk-toggleable__label-arrow:before {content: \"▸\";float: left;margin-right: 0.25em;color: #696969;}#sk-container-id-4 label.sk-toggleable__label-arrow:hover:before {color: black;}#sk-container-id-4 div.sk-estimator:hover label.sk-toggleable__label-arrow:before {color: black;}#sk-container-id-4 div.sk-toggleable__content {max-height: 0;max-width: 0;overflow: hidden;text-align: left;background-color: #f0f8ff;}#sk-container-id-4 div.sk-toggleable__content pre {margin: 0.2em;color: black;border-radius: 0.25em;background-color: #f0f8ff;}#sk-container-id-4 input.sk-toggleable__control:checked~div.sk-toggleable__content {max-height: 200px;max-width: 100%;overflow: auto;}#sk-container-id-4 input.sk-toggleable__control:checked~label.sk-toggleable__label-arrow:before {content: \"▾\";}#sk-container-id-4 div.sk-estimator input.sk-toggleable__control:checked~label.sk-toggleable__label {background-color: #d4ebff;}#sk-container-id-4 div.sk-label input.sk-toggleable__control:checked~label.sk-toggleable__label {background-color: #d4ebff;}#sk-container-id-4 input.sk-hidden--visually {border: 0;clip: rect(1px 1px 1px 1px);clip: rect(1px, 1px, 1px, 1px);height: 1px;margin: -1px;overflow: hidden;padding: 0;position: absolute;width: 1px;}#sk-container-id-4 div.sk-estimator {font-family: monospace;background-color: #f0f8ff;border: 1px dotted black;border-radius: 0.25em;box-sizing: border-box;margin-bottom: 0.5em;}#sk-container-id-4 div.sk-estimator:hover {background-color: #d4ebff;}#sk-container-id-4 div.sk-parallel-item::after {content: \"\";width: 100%;border-bottom: 1px solid gray;flex-grow: 1;}#sk-container-id-4 div.sk-label:hover label.sk-toggleable__label {background-color: #d4ebff;}#sk-container-id-4 div.sk-serial::before {content: \"\";position: absolute;border-left: 1px solid gray;box-sizing: border-box;top: 0;bottom: 0;left: 50%;z-index: 0;}#sk-container-id-4 div.sk-serial {display: flex;flex-direction: column;align-items: center;background-color: white;padding-right: 0.2em;padding-left: 0.2em;position: relative;}#sk-container-id-4 div.sk-item {position: relative;z-index: 1;}#sk-container-id-4 div.sk-parallel {display: flex;align-items: stretch;justify-content: center;background-color: white;position: relative;}#sk-container-id-4 div.sk-item::before, #sk-container-id-4 div.sk-parallel-item::before {content: \"\";position: absolute;border-left: 1px solid gray;box-sizing: border-box;top: 0;bottom: 0;left: 50%;z-index: -1;}#sk-container-id-4 div.sk-parallel-item {display: flex;flex-direction: column;z-index: 1;position: relative;background-color: white;}#sk-container-id-4 div.sk-parallel-item:first-child::after {align-self: flex-end;width: 50%;}#sk-container-id-4 div.sk-parallel-item:last-child::after {align-self: flex-start;width: 50%;}#sk-container-id-4 div.sk-parallel-item:only-child::after {width: 0;}#sk-container-id-4 div.sk-dashed-wrapped {border: 1px dashed gray;margin: 0 0.4em 0.5em 0.4em;box-sizing: border-box;padding-bottom: 0.4em;background-color: white;}#sk-container-id-4 div.sk-label label {font-family: monospace;font-weight: bold;display: inline-block;line-height: 1.2em;}#sk-container-id-4 div.sk-label-container {text-align: center;}#sk-container-id-4 div.sk-container {/* jupyter's `normalize.less` sets `[hidden] { display: none; }` but bootstrap.min.css set `[hidden] { display: none !important; }` so we also need the `!important` here to be able to override the default hidden behavior on the sphinx rendered scikit-learn.org. See: https://github.com/scikit-learn/scikit-learn/issues/21755 */display: inline-block !important;position: relative;}#sk-container-id-4 div.sk-text-repr-fallback {display: none;}</style><div id=\"sk-container-id-4\" class=\"sk-top-container\"><div class=\"sk-text-repr-fallback\"><pre>LinearRegression()</pre><b>In a Jupyter environment, please rerun this cell to show the HTML representation or trust the notebook. <br />On GitHub, the HTML representation is unable to render, please try loading this page with nbviewer.org.</b></div><div class=\"sk-container\" hidden><div class=\"sk-item\"><div class=\"sk-estimator sk-toggleable\"><input class=\"sk-toggleable__control sk-hidden--visually\" id=\"sk-estimator-id-6\" type=\"checkbox\" checked><label for=\"sk-estimator-id-6\" class=\"sk-toggleable__label sk-toggleable__label-arrow\">LinearRegression</label><div class=\"sk-toggleable__content\"><pre>LinearRegression()</pre></div></div></div></div></div>"
      ],
      "text/plain": [
       "LinearRegression()"
      ]
     },
     "execution_count": 34,
     "metadata": {},
     "output_type": "execute_result"
    }
   ],
   "source": [
    "training_model = LinearRegression()\n",
    "training_model"
   ]
  },
  {
   "cell_type": "code",
   "execution_count": 35,
   "id": "4ba629fd",
   "metadata": {
    "execution": {
     "iopub.execute_input": "2025-08-08T03:51:47.619979Z",
     "iopub.status.busy": "2025-08-08T03:51:47.619323Z",
     "iopub.status.idle": "2025-08-08T03:51:47.650772Z",
     "shell.execute_reply": "2025-08-08T03:51:47.648624Z"
    },
    "papermill": {
     "duration": 0.054557,
     "end_time": "2025-08-08T03:51:47.652678",
     "exception": false,
     "start_time": "2025-08-08T03:51:47.598121",
     "status": "completed"
    },
    "tags": []
   },
   "outputs": [
    {
     "name": "stdout",
     "output_type": "stream",
     "text": [
      "CPU times: user 29.6 ms, sys: 6.83 ms, total: 36.5 ms\n",
      "Wall time: 22.4 ms\n"
     ]
    },
    {
     "data": {
      "text/html": [
       "<style>#sk-container-id-5 {color: black;background-color: white;}#sk-container-id-5 pre{padding: 0;}#sk-container-id-5 div.sk-toggleable {background-color: white;}#sk-container-id-5 label.sk-toggleable__label {cursor: pointer;display: block;width: 100%;margin-bottom: 0;padding: 0.3em;box-sizing: border-box;text-align: center;}#sk-container-id-5 label.sk-toggleable__label-arrow:before {content: \"▸\";float: left;margin-right: 0.25em;color: #696969;}#sk-container-id-5 label.sk-toggleable__label-arrow:hover:before {color: black;}#sk-container-id-5 div.sk-estimator:hover label.sk-toggleable__label-arrow:before {color: black;}#sk-container-id-5 div.sk-toggleable__content {max-height: 0;max-width: 0;overflow: hidden;text-align: left;background-color: #f0f8ff;}#sk-container-id-5 div.sk-toggleable__content pre {margin: 0.2em;color: black;border-radius: 0.25em;background-color: #f0f8ff;}#sk-container-id-5 input.sk-toggleable__control:checked~div.sk-toggleable__content {max-height: 200px;max-width: 100%;overflow: auto;}#sk-container-id-5 input.sk-toggleable__control:checked~label.sk-toggleable__label-arrow:before {content: \"▾\";}#sk-container-id-5 div.sk-estimator input.sk-toggleable__control:checked~label.sk-toggleable__label {background-color: #d4ebff;}#sk-container-id-5 div.sk-label input.sk-toggleable__control:checked~label.sk-toggleable__label {background-color: #d4ebff;}#sk-container-id-5 input.sk-hidden--visually {border: 0;clip: rect(1px 1px 1px 1px);clip: rect(1px, 1px, 1px, 1px);height: 1px;margin: -1px;overflow: hidden;padding: 0;position: absolute;width: 1px;}#sk-container-id-5 div.sk-estimator {font-family: monospace;background-color: #f0f8ff;border: 1px dotted black;border-radius: 0.25em;box-sizing: border-box;margin-bottom: 0.5em;}#sk-container-id-5 div.sk-estimator:hover {background-color: #d4ebff;}#sk-container-id-5 div.sk-parallel-item::after {content: \"\";width: 100%;border-bottom: 1px solid gray;flex-grow: 1;}#sk-container-id-5 div.sk-label:hover label.sk-toggleable__label {background-color: #d4ebff;}#sk-container-id-5 div.sk-serial::before {content: \"\";position: absolute;border-left: 1px solid gray;box-sizing: border-box;top: 0;bottom: 0;left: 50%;z-index: 0;}#sk-container-id-5 div.sk-serial {display: flex;flex-direction: column;align-items: center;background-color: white;padding-right: 0.2em;padding-left: 0.2em;position: relative;}#sk-container-id-5 div.sk-item {position: relative;z-index: 1;}#sk-container-id-5 div.sk-parallel {display: flex;align-items: stretch;justify-content: center;background-color: white;position: relative;}#sk-container-id-5 div.sk-item::before, #sk-container-id-5 div.sk-parallel-item::before {content: \"\";position: absolute;border-left: 1px solid gray;box-sizing: border-box;top: 0;bottom: 0;left: 50%;z-index: -1;}#sk-container-id-5 div.sk-parallel-item {display: flex;flex-direction: column;z-index: 1;position: relative;background-color: white;}#sk-container-id-5 div.sk-parallel-item:first-child::after {align-self: flex-end;width: 50%;}#sk-container-id-5 div.sk-parallel-item:last-child::after {align-self: flex-start;width: 50%;}#sk-container-id-5 div.sk-parallel-item:only-child::after {width: 0;}#sk-container-id-5 div.sk-dashed-wrapped {border: 1px dashed gray;margin: 0 0.4em 0.5em 0.4em;box-sizing: border-box;padding-bottom: 0.4em;background-color: white;}#sk-container-id-5 div.sk-label label {font-family: monospace;font-weight: bold;display: inline-block;line-height: 1.2em;}#sk-container-id-5 div.sk-label-container {text-align: center;}#sk-container-id-5 div.sk-container {/* jupyter's `normalize.less` sets `[hidden] { display: none; }` but bootstrap.min.css set `[hidden] { display: none !important; }` so we also need the `!important` here to be able to override the default hidden behavior on the sphinx rendered scikit-learn.org. See: https://github.com/scikit-learn/scikit-learn/issues/21755 */display: inline-block !important;position: relative;}#sk-container-id-5 div.sk-text-repr-fallback {display: none;}</style><div id=\"sk-container-id-5\" class=\"sk-top-container\"><div class=\"sk-text-repr-fallback\"><pre>LinearRegression()</pre><b>In a Jupyter environment, please rerun this cell to show the HTML representation or trust the notebook. <br />On GitHub, the HTML representation is unable to render, please try loading this page with nbviewer.org.</b></div><div class=\"sk-container\" hidden><div class=\"sk-item\"><div class=\"sk-estimator sk-toggleable\"><input class=\"sk-toggleable__control sk-hidden--visually\" id=\"sk-estimator-id-7\" type=\"checkbox\" checked><label for=\"sk-estimator-id-7\" class=\"sk-toggleable__label sk-toggleable__label-arrow\">LinearRegression</label><div class=\"sk-toggleable__content\"><pre>LinearRegression()</pre></div></div></div></div></div>"
      ],
      "text/plain": [
       "LinearRegression()"
      ]
     },
     "execution_count": 35,
     "metadata": {},
     "output_type": "execute_result"
    }
   ],
   "source": [
    "%%time\n",
    "training_model.fit(X_train, y_train)"
   ]
  },
  {
   "cell_type": "code",
   "execution_count": 36,
   "id": "61ae7ddb",
   "metadata": {
    "execution": {
     "iopub.execute_input": "2025-08-08T03:51:47.732613Z",
     "iopub.status.busy": "2025-08-08T03:51:47.732259Z",
     "iopub.status.idle": "2025-08-08T03:51:47.747476Z",
     "shell.execute_reply": "2025-08-08T03:51:47.746738Z"
    },
    "papermill": {
     "duration": 0.059927,
     "end_time": "2025-08-08T03:51:47.749639",
     "exception": false,
     "start_time": "2025-08-08T03:51:47.689712",
     "status": "completed"
    },
    "tags": []
   },
   "outputs": [
    {
     "data": {
      "text/plain": [
       "array([ -1.16210463,  75.28770923,  -1.62101645, ..., 207.94321433,\n",
       "         1.25342852,  -0.54093073])"
      ]
     },
     "execution_count": 36,
     "metadata": {},
     "output_type": "execute_result"
    }
   ],
   "source": [
    "y_pred = training_model.predict(X_test)\n",
    "y_pred"
   ]
  },
  {
   "cell_type": "code",
   "execution_count": 37,
   "id": "58e3daa8",
   "metadata": {
    "execution": {
     "iopub.execute_input": "2025-08-08T03:51:47.798470Z",
     "iopub.status.busy": "2025-08-08T03:51:47.798178Z",
     "iopub.status.idle": "2025-08-08T03:51:47.804528Z",
     "shell.execute_reply": "2025-08-08T03:51:47.803864Z"
    },
    "papermill": {
     "duration": 0.02954,
     "end_time": "2025-08-08T03:51:47.805840",
     "exception": false,
     "start_time": "2025-08-08T03:51:47.776300",
     "status": "completed"
    },
    "tags": []
   },
   "outputs": [
    {
     "data": {
      "text/plain": [
       "5158       0.00\n",
       "3831     105.26\n",
       "5117       0.00\n",
       "6326     758.39\n",
       "11359    135.87\n",
       "          ...  \n",
       "10290     74.58\n",
       "13995      0.00\n",
       "9665     241.81\n",
       "2276       0.00\n",
       "4174       0.00\n",
       "Name: SolarRadiation, Length: 2924, dtype: float64"
      ]
     },
     "execution_count": 37,
     "metadata": {},
     "output_type": "execute_result"
    }
   ],
   "source": [
    "y_test"
   ]
  },
  {
   "cell_type": "code",
   "execution_count": 38,
   "id": "2cafdeb6",
   "metadata": {
    "execution": {
     "iopub.execute_input": "2025-08-08T03:51:47.848936Z",
     "iopub.status.busy": "2025-08-08T03:51:47.848228Z",
     "iopub.status.idle": "2025-08-08T03:51:47.855034Z",
     "shell.execute_reply": "2025-08-08T03:51:47.854207Z"
    },
    "papermill": {
     "duration": 0.029583,
     "end_time": "2025-08-08T03:51:47.856383",
     "exception": false,
     "start_time": "2025-08-08T03:51:47.826800",
     "status": "completed"
    },
    "tags": []
   },
   "outputs": [],
   "source": [
    "mse = mean_squared_error(y_test, y_pred)\n",
    "mae = mean_absolute_error(y_test, y_pred)\n",
    "r2 = r2_score(y_test, y_pred)\n",
    "rmse = math.sqrt(mse)"
   ]
  },
  {
   "cell_type": "code",
   "execution_count": 39,
   "id": "fc819dea",
   "metadata": {
    "execution": {
     "iopub.execute_input": "2025-08-08T03:51:47.899697Z",
     "iopub.status.busy": "2025-08-08T03:51:47.899290Z",
     "iopub.status.idle": "2025-08-08T03:51:47.904079Z",
     "shell.execute_reply": "2025-08-08T03:51:47.903352Z"
    },
    "papermill": {
     "duration": 0.027962,
     "end_time": "2025-08-08T03:51:47.905386",
     "exception": false,
     "start_time": "2025-08-08T03:51:47.877424",
     "status": "completed"
    },
    "tags": []
   },
   "outputs": [
    {
     "name": "stdout",
     "output_type": "stream",
     "text": [
      "MSE Score: 315.88053698706796\n",
      "MAE Score: 11.558287826103529\n",
      "R2 Score: 0.9966409454069338\n",
      "RMSE Score: 17.773028357234676\n"
     ]
    }
   ],
   "source": [
    "print(\"MSE Score:\", mse)\n",
    "print(\"MAE Score:\", mae)\n",
    "print(\"R2 Score:\", r2)\n",
    "print(\"RMSE Score:\", rmse)"
   ]
  },
  {
   "cell_type": "code",
   "execution_count": 40,
   "id": "f362cfb4",
   "metadata": {
    "execution": {
     "iopub.execute_input": "2025-08-08T03:51:47.949138Z",
     "iopub.status.busy": "2025-08-08T03:51:47.948253Z",
     "iopub.status.idle": "2025-08-08T03:51:47.958855Z",
     "shell.execute_reply": "2025-08-08T03:51:47.957906Z"
    },
    "papermill": {
     "duration": 0.033581,
     "end_time": "2025-08-08T03:51:47.960207",
     "exception": false,
     "start_time": "2025-08-08T03:51:47.926626",
     "status": "completed"
    },
    "tags": []
   },
   "outputs": [
    {
     "name": "stdout",
     "output_type": "stream",
     "text": [
      "✨ New regression model added:\n",
      "   MSE: 315.880537, R²: 0.996641\n",
      "   Features: 27\n",
      "💾 Registry updated: Model_Training_History/History_Regression.csv\n"
     ]
    }
   ],
   "source": [
    "regression_params = {\n",
    "    'model_name': model_name_for_saving,\n",
    "    'scaler_name': \"StandardScaler\",\n",
    "    'features_list': feature_columns_for_saving,\n",
    "    'target_column': target_name_for_saving,\n",
    "    'mse': mse,\n",
    "    'mae': mae,\n",
    "    'rmse': rmse,\n",
    "    'r2': r2,\n",
    "    'parameters': json.dumps(training_model.get_params())\n",
    "}\n",
    "save_model_performance_if_better('regression', regression_params)"
   ]
  },
  {
   "cell_type": "markdown",
   "id": "13c21653",
   "metadata": {
    "papermill": {
     "duration": 0.020895,
     "end_time": "2025-08-08T03:51:48.002719",
     "exception": false,
     "start_time": "2025-08-08T03:51:47.981824",
     "status": "completed"
    },
    "tags": []
   },
   "source": [
    "### Tuning with Grid Search"
   ]
  },
  {
   "cell_type": "code",
   "execution_count": 41,
   "id": "f697a49f",
   "metadata": {
    "execution": {
     "iopub.execute_input": "2025-08-08T03:51:48.045932Z",
     "iopub.status.busy": "2025-08-08T03:51:48.045627Z",
     "iopub.status.idle": "2025-08-08T03:51:48.049776Z",
     "shell.execute_reply": "2025-08-08T03:51:48.048938Z"
    },
    "papermill": {
     "duration": 0.02728,
     "end_time": "2025-08-08T03:51:48.051109",
     "exception": false,
     "start_time": "2025-08-08T03:51:48.023829",
     "status": "completed"
    },
    "tags": []
   },
   "outputs": [],
   "source": [
    "grid_param = {\n",
    "    'fit_intercept': [True, False],\n",
    "    'copy_X': [True, False],\n",
    "    'positive': [True, False]\n",
    "}"
   ]
  },
  {
   "cell_type": "code",
   "execution_count": 42,
   "id": "54b2b383",
   "metadata": {
    "execution": {
     "iopub.execute_input": "2025-08-08T03:51:48.094409Z",
     "iopub.status.busy": "2025-08-08T03:51:48.094126Z",
     "iopub.status.idle": "2025-08-08T03:51:48.098851Z",
     "shell.execute_reply": "2025-08-08T03:51:48.097781Z"
    },
    "papermill": {
     "duration": 0.027929,
     "end_time": "2025-08-08T03:51:48.100220",
     "exception": false,
     "start_time": "2025-08-08T03:51:48.072291",
     "status": "completed"
    },
    "tags": []
   },
   "outputs": [],
   "source": [
    "grid_search = GridSearchCV(\n",
    "    LinearRegression(), \n",
    "    grid_param, \n",
    "    cv=5, \n",
    "    scoring='neg_mean_squared_error', \n",
    "    n_jobs=-1, # allow parallel processing, you cant use your own laptop while this runs\n",
    "    verbose=1\n",
    ")"
   ]
  },
  {
   "cell_type": "code",
   "execution_count": 43,
   "id": "8020ea3a",
   "metadata": {
    "execution": {
     "iopub.execute_input": "2025-08-08T03:51:48.143786Z",
     "iopub.status.busy": "2025-08-08T03:51:48.143218Z",
     "iopub.status.idle": "2025-08-08T03:51:48.986462Z",
     "shell.execute_reply": "2025-08-08T03:51:48.985598Z"
    },
    "papermill": {
     "duration": 0.866556,
     "end_time": "2025-08-08T03:51:48.987955",
     "exception": false,
     "start_time": "2025-08-08T03:51:48.121399",
     "status": "completed"
    },
    "tags": []
   },
   "outputs": [
    {
     "name": "stdout",
     "output_type": "stream",
     "text": [
      "Starting hyperparameter tuning...\n",
      "Fitting 5 folds for each of 8 candidates, totalling 40 fits\n",
      "CPU times: user 146 ms, sys: 16 ms, total: 162 ms\n",
      "Wall time: 835 ms\n"
     ]
    },
    {
     "data": {
      "text/html": [
       "<style>#sk-container-id-6 {color: black;background-color: white;}#sk-container-id-6 pre{padding: 0;}#sk-container-id-6 div.sk-toggleable {background-color: white;}#sk-container-id-6 label.sk-toggleable__label {cursor: pointer;display: block;width: 100%;margin-bottom: 0;padding: 0.3em;box-sizing: border-box;text-align: center;}#sk-container-id-6 label.sk-toggleable__label-arrow:before {content: \"▸\";float: left;margin-right: 0.25em;color: #696969;}#sk-container-id-6 label.sk-toggleable__label-arrow:hover:before {color: black;}#sk-container-id-6 div.sk-estimator:hover label.sk-toggleable__label-arrow:before {color: black;}#sk-container-id-6 div.sk-toggleable__content {max-height: 0;max-width: 0;overflow: hidden;text-align: left;background-color: #f0f8ff;}#sk-container-id-6 div.sk-toggleable__content pre {margin: 0.2em;color: black;border-radius: 0.25em;background-color: #f0f8ff;}#sk-container-id-6 input.sk-toggleable__control:checked~div.sk-toggleable__content {max-height: 200px;max-width: 100%;overflow: auto;}#sk-container-id-6 input.sk-toggleable__control:checked~label.sk-toggleable__label-arrow:before {content: \"▾\";}#sk-container-id-6 div.sk-estimator input.sk-toggleable__control:checked~label.sk-toggleable__label {background-color: #d4ebff;}#sk-container-id-6 div.sk-label input.sk-toggleable__control:checked~label.sk-toggleable__label {background-color: #d4ebff;}#sk-container-id-6 input.sk-hidden--visually {border: 0;clip: rect(1px 1px 1px 1px);clip: rect(1px, 1px, 1px, 1px);height: 1px;margin: -1px;overflow: hidden;padding: 0;position: absolute;width: 1px;}#sk-container-id-6 div.sk-estimator {font-family: monospace;background-color: #f0f8ff;border: 1px dotted black;border-radius: 0.25em;box-sizing: border-box;margin-bottom: 0.5em;}#sk-container-id-6 div.sk-estimator:hover {background-color: #d4ebff;}#sk-container-id-6 div.sk-parallel-item::after {content: \"\";width: 100%;border-bottom: 1px solid gray;flex-grow: 1;}#sk-container-id-6 div.sk-label:hover label.sk-toggleable__label {background-color: #d4ebff;}#sk-container-id-6 div.sk-serial::before {content: \"\";position: absolute;border-left: 1px solid gray;box-sizing: border-box;top: 0;bottom: 0;left: 50%;z-index: 0;}#sk-container-id-6 div.sk-serial {display: flex;flex-direction: column;align-items: center;background-color: white;padding-right: 0.2em;padding-left: 0.2em;position: relative;}#sk-container-id-6 div.sk-item {position: relative;z-index: 1;}#sk-container-id-6 div.sk-parallel {display: flex;align-items: stretch;justify-content: center;background-color: white;position: relative;}#sk-container-id-6 div.sk-item::before, #sk-container-id-6 div.sk-parallel-item::before {content: \"\";position: absolute;border-left: 1px solid gray;box-sizing: border-box;top: 0;bottom: 0;left: 50%;z-index: -1;}#sk-container-id-6 div.sk-parallel-item {display: flex;flex-direction: column;z-index: 1;position: relative;background-color: white;}#sk-container-id-6 div.sk-parallel-item:first-child::after {align-self: flex-end;width: 50%;}#sk-container-id-6 div.sk-parallel-item:last-child::after {align-self: flex-start;width: 50%;}#sk-container-id-6 div.sk-parallel-item:only-child::after {width: 0;}#sk-container-id-6 div.sk-dashed-wrapped {border: 1px dashed gray;margin: 0 0.4em 0.5em 0.4em;box-sizing: border-box;padding-bottom: 0.4em;background-color: white;}#sk-container-id-6 div.sk-label label {font-family: monospace;font-weight: bold;display: inline-block;line-height: 1.2em;}#sk-container-id-6 div.sk-label-container {text-align: center;}#sk-container-id-6 div.sk-container {/* jupyter's `normalize.less` sets `[hidden] { display: none; }` but bootstrap.min.css set `[hidden] { display: none !important; }` so we also need the `!important` here to be able to override the default hidden behavior on the sphinx rendered scikit-learn.org. See: https://github.com/scikit-learn/scikit-learn/issues/21755 */display: inline-block !important;position: relative;}#sk-container-id-6 div.sk-text-repr-fallback {display: none;}</style><div id=\"sk-container-id-6\" class=\"sk-top-container\"><div class=\"sk-text-repr-fallback\"><pre>GridSearchCV(cv=5, estimator=LinearRegression(), n_jobs=-1,\n",
       "             param_grid={&#x27;copy_X&#x27;: [True, False],\n",
       "                         &#x27;fit_intercept&#x27;: [True, False],\n",
       "                         &#x27;positive&#x27;: [True, False]},\n",
       "             scoring=&#x27;neg_mean_squared_error&#x27;, verbose=1)</pre><b>In a Jupyter environment, please rerun this cell to show the HTML representation or trust the notebook. <br />On GitHub, the HTML representation is unable to render, please try loading this page with nbviewer.org.</b></div><div class=\"sk-container\" hidden><div class=\"sk-item sk-dashed-wrapped\"><div class=\"sk-label-container\"><div class=\"sk-label sk-toggleable\"><input class=\"sk-toggleable__control sk-hidden--visually\" id=\"sk-estimator-id-8\" type=\"checkbox\" ><label for=\"sk-estimator-id-8\" class=\"sk-toggleable__label sk-toggleable__label-arrow\">GridSearchCV</label><div class=\"sk-toggleable__content\"><pre>GridSearchCV(cv=5, estimator=LinearRegression(), n_jobs=-1,\n",
       "             param_grid={&#x27;copy_X&#x27;: [True, False],\n",
       "                         &#x27;fit_intercept&#x27;: [True, False],\n",
       "                         &#x27;positive&#x27;: [True, False]},\n",
       "             scoring=&#x27;neg_mean_squared_error&#x27;, verbose=1)</pre></div></div></div><div class=\"sk-parallel\"><div class=\"sk-parallel-item\"><div class=\"sk-item\"><div class=\"sk-label-container\"><div class=\"sk-label sk-toggleable\"><input class=\"sk-toggleable__control sk-hidden--visually\" id=\"sk-estimator-id-9\" type=\"checkbox\" ><label for=\"sk-estimator-id-9\" class=\"sk-toggleable__label sk-toggleable__label-arrow\">estimator: LinearRegression</label><div class=\"sk-toggleable__content\"><pre>LinearRegression()</pre></div></div></div><div class=\"sk-serial\"><div class=\"sk-item\"><div class=\"sk-estimator sk-toggleable\"><input class=\"sk-toggleable__control sk-hidden--visually\" id=\"sk-estimator-id-10\" type=\"checkbox\" ><label for=\"sk-estimator-id-10\" class=\"sk-toggleable__label sk-toggleable__label-arrow\">LinearRegression</label><div class=\"sk-toggleable__content\"><pre>LinearRegression()</pre></div></div></div></div></div></div></div></div></div></div>"
      ],
      "text/plain": [
       "GridSearchCV(cv=5, estimator=LinearRegression(), n_jobs=-1,\n",
       "             param_grid={'copy_X': [True, False],\n",
       "                         'fit_intercept': [True, False],\n",
       "                         'positive': [True, False]},\n",
       "             scoring='neg_mean_squared_error', verbose=1)"
      ]
     },
     "execution_count": 43,
     "metadata": {},
     "output_type": "execute_result"
    }
   ],
   "source": [
    "%%time\n",
    "print(\"Starting hyperparameter tuning...\")\n",
    "grid_search.fit(X_train, y_train)"
   ]
  },
  {
   "cell_type": "code",
   "execution_count": 44,
   "id": "4cf96dde",
   "metadata": {
    "execution": {
     "iopub.execute_input": "2025-08-08T03:51:49.032952Z",
     "iopub.status.busy": "2025-08-08T03:51:49.032169Z",
     "iopub.status.idle": "2025-08-08T03:51:49.037720Z",
     "shell.execute_reply": "2025-08-08T03:51:49.036908Z"
    },
    "papermill": {
     "duration": 0.029616,
     "end_time": "2025-08-08T03:51:49.039085",
     "exception": false,
     "start_time": "2025-08-08T03:51:49.009469",
     "status": "completed"
    },
    "tags": []
   },
   "outputs": [
    {
     "name": "stdout",
     "output_type": "stream",
     "text": [
      "TUNING RESULTS\n",
      "==================================================\n",
      "Best Parameters: {'copy_X': True, 'fit_intercept': True, 'positive': True}\n",
      "Best Cross-Validation Score (Negative MSE): -304.3512557271443\n",
      "Best Cross-Validation Score (MSE): 304.3512557271443\n",
      "Best Cross-Validation Score (RMSE): 17.44566581495657\n"
     ]
    }
   ],
   "source": [
    "print(\"TUNING RESULTS\")\n",
    "print(\"=\"*50)\n",
    "print(\"Best Parameters:\", grid_search.best_params_)\n",
    "print(\"Best Cross-Validation Score (Negative MSE):\", grid_search.best_score_)\n",
    "print(\"Best Cross-Validation Score (MSE):\", -grid_search.best_score_)\n",
    "print(\"Best Cross-Validation Score (RMSE):\", math.sqrt(-grid_search.best_score_))"
   ]
  },
  {
   "cell_type": "code",
   "execution_count": 45,
   "id": "9cb31538",
   "metadata": {
    "execution": {
     "iopub.execute_input": "2025-08-08T03:51:49.083706Z",
     "iopub.status.busy": "2025-08-08T03:51:49.083161Z",
     "iopub.status.idle": "2025-08-08T03:51:49.087623Z",
     "shell.execute_reply": "2025-08-08T03:51:49.086819Z"
    },
    "papermill": {
     "duration": 0.028077,
     "end_time": "2025-08-08T03:51:49.089000",
     "exception": false,
     "start_time": "2025-08-08T03:51:49.060923",
     "status": "completed"
    },
    "tags": []
   },
   "outputs": [],
   "source": [
    "grid_search_best_model = grid_search.best_estimator_\n",
    "y_pred = grid_search_best_model.predict(X_test)"
   ]
  },
  {
   "cell_type": "code",
   "execution_count": 46,
   "id": "172810c4",
   "metadata": {
    "execution": {
     "iopub.execute_input": "2025-08-08T03:51:49.134263Z",
     "iopub.status.busy": "2025-08-08T03:51:49.133650Z",
     "iopub.status.idle": "2025-08-08T03:51:49.140316Z",
     "shell.execute_reply": "2025-08-08T03:51:49.139533Z"
    },
    "papermill": {
     "duration": 0.03054,
     "end_time": "2025-08-08T03:51:49.141554",
     "exception": false,
     "start_time": "2025-08-08T03:51:49.111014",
     "status": "completed"
    },
    "tags": []
   },
   "outputs": [],
   "source": [
    "mse_grid_search = mean_squared_error(y_test, y_pred)\n",
    "mae_grid_search = mean_absolute_error(y_test, y_pred)\n",
    "r2_grid_search = r2_score(y_test, y_pred)\n",
    "rmse_grid_search = math.sqrt(mse_grid_search)"
   ]
  },
  {
   "cell_type": "code",
   "execution_count": 47,
   "id": "628e6611",
   "metadata": {
    "execution": {
     "iopub.execute_input": "2025-08-08T03:51:49.187181Z",
     "iopub.status.busy": "2025-08-08T03:51:49.186376Z",
     "iopub.status.idle": "2025-08-08T03:51:49.191373Z",
     "shell.execute_reply": "2025-08-08T03:51:49.190514Z"
    },
    "papermill": {
     "duration": 0.029574,
     "end_time": "2025-08-08T03:51:49.192770",
     "exception": false,
     "start_time": "2025-08-08T03:51:49.163196",
     "status": "completed"
    },
    "tags": []
   },
   "outputs": [
    {
     "name": "stdout",
     "output_type": "stream",
     "text": [
      "MSE Score: 316.20019709778006\n",
      "MAE Score: 11.577460356836387\n",
      "R2 Score: 0.9966375461605815\n",
      "RMSE Score: 17.782018926369975\n"
     ]
    }
   ],
   "source": [
    "print(\"MSE Score:\", mse_grid_search)\n",
    "print(\"MAE Score:\", mae_grid_search)\n",
    "print(\"R2 Score:\", r2_grid_search)\n",
    "print(\"RMSE Score:\", rmse_grid_search)"
   ]
  },
  {
   "cell_type": "code",
   "execution_count": 48,
   "id": "a709623e",
   "metadata": {
    "execution": {
     "iopub.execute_input": "2025-08-08T03:51:49.238137Z",
     "iopub.status.busy": "2025-08-08T03:51:49.237371Z",
     "iopub.status.idle": "2025-08-08T03:51:49.248280Z",
     "shell.execute_reply": "2025-08-08T03:51:49.247419Z"
    },
    "papermill": {
     "duration": 0.035017,
     "end_time": "2025-08-08T03:51:49.249645",
     "exception": false,
     "start_time": "2025-08-08T03:51:49.214628",
     "status": "completed"
    },
    "tags": []
   },
   "outputs": [
    {
     "name": "stdout",
     "output_type": "stream",
     "text": [
      "✨ New regression model added:\n",
      "   MSE: 316.200197, R²: 0.996638\n",
      "   Features: 27\n",
      "💾 Registry updated: Model_Training_History/History_Regression.csv\n"
     ]
    }
   ],
   "source": [
    "regression_params = {\n",
    "    'model_name': model_name_for_saving + \" Tuned\",\n",
    "    'scaler_name': \"StandardScaler\",\n",
    "    'features_list': feature_columns_for_saving,\n",
    "    'target_column': target_name_for_saving,\n",
    "    'mse': mse_grid_search,\n",
    "    'mae': mae_grid_search,\n",
    "    'rmse': rmse_grid_search,\n",
    "    'r2': r2_grid_search,\n",
    "    'parameters' : json.dumps({\n",
    "        \"best_params\": grid_search.best_params_,\n",
    "        \"cv_score\": grid_search.best_score_,\n",
    "        \"all_params\": grid_search_best_model.get_params()\n",
    "    })\n",
    "}\n",
    "save_model_performance_if_better('regression', regression_params)"
   ]
  },
  {
   "cell_type": "markdown",
   "id": "ebc47a0d",
   "metadata": {
    "papermill": {
     "duration": 0.021669,
     "end_time": "2025-08-08T03:51:49.293215",
     "exception": false,
     "start_time": "2025-08-08T03:51:49.271546",
     "status": "completed"
    },
    "tags": []
   },
   "source": [
    "## Robust Scaler"
   ]
  },
  {
   "cell_type": "code",
   "execution_count": 49,
   "id": "13a5a1ec",
   "metadata": {
    "execution": {
     "iopub.execute_input": "2025-08-08T03:51:49.338447Z",
     "iopub.status.busy": "2025-08-08T03:51:49.337682Z",
     "iopub.status.idle": "2025-08-08T03:51:49.368475Z",
     "shell.execute_reply": "2025-08-08T03:51:49.367706Z"
    },
    "papermill": {
     "duration": 0.055099,
     "end_time": "2025-08-08T03:51:49.370110",
     "exception": false,
     "start_time": "2025-08-08T03:51:49.315011",
     "status": "completed"
    },
    "tags": []
   },
   "outputs": [],
   "source": [
    "scaler = RobustScaler()\n",
    "X_train = scaler.fit_transform(X_train_raw)\n",
    "X_test = scaler.transform(X_test_raw)"
   ]
  },
  {
   "cell_type": "code",
   "execution_count": 50,
   "id": "1a3759bc",
   "metadata": {
    "execution": {
     "iopub.execute_input": "2025-08-08T03:51:49.415951Z",
     "iopub.status.busy": "2025-08-08T03:51:49.415634Z",
     "iopub.status.idle": "2025-08-08T03:51:49.421506Z",
     "shell.execute_reply": "2025-08-08T03:51:49.420702Z"
    },
    "papermill": {
     "duration": 0.030111,
     "end_time": "2025-08-08T03:51:49.422869",
     "exception": false,
     "start_time": "2025-08-08T03:51:49.392758",
     "status": "completed"
    },
    "tags": []
   },
   "outputs": [
    {
     "data": {
      "text/plain": [
       "array([[ 0.6       ,  0.66666667, -0.16666667, ..., -0.03738547,\n",
       "         1.44008264,  8.87596899],\n",
       "       [ 1.        , -0.46666667,  0.33333333, ..., -0.84268652,\n",
       "         0.62603306,  0.        ],\n",
       "       [-0.8       , -0.13333333, -1.        , ..., -0.84268652,\n",
       "         0.        ,  0.        ],\n",
       "       ...,\n",
       "       [ 0.4       ,  0.73333333, -0.16666667, ...,  0.5899051 ,\n",
       "         0.6322314 ,  0.75193798],\n",
       "       [-1.        , -0.2       ,  0.75      , ..., -0.84268652,\n",
       "         0.        ,  0.        ],\n",
       "       [ 0.6       , -0.46666667, -0.33333333, ...,  0.61755563,\n",
       "         0.59917355,  7.5       ]])"
      ]
     },
     "execution_count": 50,
     "metadata": {},
     "output_type": "execute_result"
    }
   ],
   "source": [
    "X_train"
   ]
  },
  {
   "cell_type": "code",
   "execution_count": 51,
   "id": "df36ffc1",
   "metadata": {
    "execution": {
     "iopub.execute_input": "2025-08-08T03:51:49.469238Z",
     "iopub.status.busy": "2025-08-08T03:51:49.468922Z",
     "iopub.status.idle": "2025-08-08T03:51:49.475043Z",
     "shell.execute_reply": "2025-08-08T03:51:49.474253Z"
    },
    "papermill": {
     "duration": 0.030833,
     "end_time": "2025-08-08T03:51:49.476381",
     "exception": false,
     "start_time": "2025-08-08T03:51:49.445548",
     "status": "completed"
    },
    "tags": []
   },
   "outputs": [
    {
     "data": {
      "text/plain": [
       "array([[ 4.00000000e-01, -8.66666667e-01,  8.33333333e-01, ...,\n",
       "         6.20009817e-01,  0.00000000e+00,  0.00000000e+00],\n",
       "       [ 0.00000000e+00, -4.66666667e-01,  2.50000000e-01, ...,\n",
       "         7.40592277e-01,  1.52892562e-01,  0.00000000e+00],\n",
       "       [ 4.00000000e-01, -9.33333333e-01, -5.83333333e-01, ...,\n",
       "         7.82804319e-01,  0.00000000e+00,  0.00000000e+00],\n",
       "       ...,\n",
       "       [-8.00000000e-01, -6.00000000e-01,  4.16666667e-01, ...,\n",
       "        -8.40559555e-01,  4.19421488e-01,  0.00000000e+00],\n",
       "       [-4.00000000e-01, -7.33333333e-01,  6.66666667e-01, ...,\n",
       "        -8.42686518e-01,  0.00000000e+00,  6.67829457e+00],\n",
       "       [ 0.00000000e+00,  4.66666667e-01,  8.33333333e-01, ...,\n",
       "         1.71793194e-03,  0.00000000e+00,  0.00000000e+00]])"
      ]
     },
     "execution_count": 51,
     "metadata": {},
     "output_type": "execute_result"
    }
   ],
   "source": [
    "X_test"
   ]
  },
  {
   "cell_type": "markdown",
   "id": "4205f7cb",
   "metadata": {
    "papermill": {
     "duration": 0.021758,
     "end_time": "2025-08-08T03:51:49.520329",
     "exception": false,
     "start_time": "2025-08-08T03:51:49.498571",
     "status": "completed"
    },
    "tags": []
   },
   "source": [
    "### Default Parameters"
   ]
  },
  {
   "cell_type": "code",
   "execution_count": 52,
   "id": "67e2ed56",
   "metadata": {
    "execution": {
     "iopub.execute_input": "2025-08-08T03:51:49.566200Z",
     "iopub.status.busy": "2025-08-08T03:51:49.565421Z",
     "iopub.status.idle": "2025-08-08T03:51:49.570924Z",
     "shell.execute_reply": "2025-08-08T03:51:49.570220Z"
    },
    "papermill": {
     "duration": 0.029832,
     "end_time": "2025-08-08T03:51:49.572206",
     "exception": false,
     "start_time": "2025-08-08T03:51:49.542374",
     "status": "completed"
    },
    "tags": []
   },
   "outputs": [
    {
     "data": {
      "text/html": [
       "<style>#sk-container-id-7 {color: black;background-color: white;}#sk-container-id-7 pre{padding: 0;}#sk-container-id-7 div.sk-toggleable {background-color: white;}#sk-container-id-7 label.sk-toggleable__label {cursor: pointer;display: block;width: 100%;margin-bottom: 0;padding: 0.3em;box-sizing: border-box;text-align: center;}#sk-container-id-7 label.sk-toggleable__label-arrow:before {content: \"▸\";float: left;margin-right: 0.25em;color: #696969;}#sk-container-id-7 label.sk-toggleable__label-arrow:hover:before {color: black;}#sk-container-id-7 div.sk-estimator:hover label.sk-toggleable__label-arrow:before {color: black;}#sk-container-id-7 div.sk-toggleable__content {max-height: 0;max-width: 0;overflow: hidden;text-align: left;background-color: #f0f8ff;}#sk-container-id-7 div.sk-toggleable__content pre {margin: 0.2em;color: black;border-radius: 0.25em;background-color: #f0f8ff;}#sk-container-id-7 input.sk-toggleable__control:checked~div.sk-toggleable__content {max-height: 200px;max-width: 100%;overflow: auto;}#sk-container-id-7 input.sk-toggleable__control:checked~label.sk-toggleable__label-arrow:before {content: \"▾\";}#sk-container-id-7 div.sk-estimator input.sk-toggleable__control:checked~label.sk-toggleable__label {background-color: #d4ebff;}#sk-container-id-7 div.sk-label input.sk-toggleable__control:checked~label.sk-toggleable__label {background-color: #d4ebff;}#sk-container-id-7 input.sk-hidden--visually {border: 0;clip: rect(1px 1px 1px 1px);clip: rect(1px, 1px, 1px, 1px);height: 1px;margin: -1px;overflow: hidden;padding: 0;position: absolute;width: 1px;}#sk-container-id-7 div.sk-estimator {font-family: monospace;background-color: #f0f8ff;border: 1px dotted black;border-radius: 0.25em;box-sizing: border-box;margin-bottom: 0.5em;}#sk-container-id-7 div.sk-estimator:hover {background-color: #d4ebff;}#sk-container-id-7 div.sk-parallel-item::after {content: \"\";width: 100%;border-bottom: 1px solid gray;flex-grow: 1;}#sk-container-id-7 div.sk-label:hover label.sk-toggleable__label {background-color: #d4ebff;}#sk-container-id-7 div.sk-serial::before {content: \"\";position: absolute;border-left: 1px solid gray;box-sizing: border-box;top: 0;bottom: 0;left: 50%;z-index: 0;}#sk-container-id-7 div.sk-serial {display: flex;flex-direction: column;align-items: center;background-color: white;padding-right: 0.2em;padding-left: 0.2em;position: relative;}#sk-container-id-7 div.sk-item {position: relative;z-index: 1;}#sk-container-id-7 div.sk-parallel {display: flex;align-items: stretch;justify-content: center;background-color: white;position: relative;}#sk-container-id-7 div.sk-item::before, #sk-container-id-7 div.sk-parallel-item::before {content: \"\";position: absolute;border-left: 1px solid gray;box-sizing: border-box;top: 0;bottom: 0;left: 50%;z-index: -1;}#sk-container-id-7 div.sk-parallel-item {display: flex;flex-direction: column;z-index: 1;position: relative;background-color: white;}#sk-container-id-7 div.sk-parallel-item:first-child::after {align-self: flex-end;width: 50%;}#sk-container-id-7 div.sk-parallel-item:last-child::after {align-self: flex-start;width: 50%;}#sk-container-id-7 div.sk-parallel-item:only-child::after {width: 0;}#sk-container-id-7 div.sk-dashed-wrapped {border: 1px dashed gray;margin: 0 0.4em 0.5em 0.4em;box-sizing: border-box;padding-bottom: 0.4em;background-color: white;}#sk-container-id-7 div.sk-label label {font-family: monospace;font-weight: bold;display: inline-block;line-height: 1.2em;}#sk-container-id-7 div.sk-label-container {text-align: center;}#sk-container-id-7 div.sk-container {/* jupyter's `normalize.less` sets `[hidden] { display: none; }` but bootstrap.min.css set `[hidden] { display: none !important; }` so we also need the `!important` here to be able to override the default hidden behavior on the sphinx rendered scikit-learn.org. See: https://github.com/scikit-learn/scikit-learn/issues/21755 */display: inline-block !important;position: relative;}#sk-container-id-7 div.sk-text-repr-fallback {display: none;}</style><div id=\"sk-container-id-7\" class=\"sk-top-container\"><div class=\"sk-text-repr-fallback\"><pre>LinearRegression()</pre><b>In a Jupyter environment, please rerun this cell to show the HTML representation or trust the notebook. <br />On GitHub, the HTML representation is unable to render, please try loading this page with nbviewer.org.</b></div><div class=\"sk-container\" hidden><div class=\"sk-item\"><div class=\"sk-estimator sk-toggleable\"><input class=\"sk-toggleable__control sk-hidden--visually\" id=\"sk-estimator-id-11\" type=\"checkbox\" checked><label for=\"sk-estimator-id-11\" class=\"sk-toggleable__label sk-toggleable__label-arrow\">LinearRegression</label><div class=\"sk-toggleable__content\"><pre>LinearRegression()</pre></div></div></div></div></div>"
      ],
      "text/plain": [
       "LinearRegression()"
      ]
     },
     "execution_count": 52,
     "metadata": {},
     "output_type": "execute_result"
    }
   ],
   "source": [
    "training_model = LinearRegression()\n",
    "training_model"
   ]
  },
  {
   "cell_type": "code",
   "execution_count": 53,
   "id": "701f0dfe",
   "metadata": {
    "execution": {
     "iopub.execute_input": "2025-08-08T03:51:49.618337Z",
     "iopub.status.busy": "2025-08-08T03:51:49.617688Z",
     "iopub.status.idle": "2025-08-08T03:51:49.649528Z",
     "shell.execute_reply": "2025-08-08T03:51:49.646481Z"
    },
    "papermill": {
     "duration": 0.056481,
     "end_time": "2025-08-08T03:51:49.651281",
     "exception": false,
     "start_time": "2025-08-08T03:51:49.594800",
     "status": "completed"
    },
    "tags": []
   },
   "outputs": [
    {
     "name": "stdout",
     "output_type": "stream",
     "text": [
      "CPU times: user 25.3 ms, sys: 9.12 ms, total: 34.4 ms\n",
      "Wall time: 22.6 ms\n"
     ]
    },
    {
     "data": {
      "text/html": [
       "<style>#sk-container-id-8 {color: black;background-color: white;}#sk-container-id-8 pre{padding: 0;}#sk-container-id-8 div.sk-toggleable {background-color: white;}#sk-container-id-8 label.sk-toggleable__label {cursor: pointer;display: block;width: 100%;margin-bottom: 0;padding: 0.3em;box-sizing: border-box;text-align: center;}#sk-container-id-8 label.sk-toggleable__label-arrow:before {content: \"▸\";float: left;margin-right: 0.25em;color: #696969;}#sk-container-id-8 label.sk-toggleable__label-arrow:hover:before {color: black;}#sk-container-id-8 div.sk-estimator:hover label.sk-toggleable__label-arrow:before {color: black;}#sk-container-id-8 div.sk-toggleable__content {max-height: 0;max-width: 0;overflow: hidden;text-align: left;background-color: #f0f8ff;}#sk-container-id-8 div.sk-toggleable__content pre {margin: 0.2em;color: black;border-radius: 0.25em;background-color: #f0f8ff;}#sk-container-id-8 input.sk-toggleable__control:checked~div.sk-toggleable__content {max-height: 200px;max-width: 100%;overflow: auto;}#sk-container-id-8 input.sk-toggleable__control:checked~label.sk-toggleable__label-arrow:before {content: \"▾\";}#sk-container-id-8 div.sk-estimator input.sk-toggleable__control:checked~label.sk-toggleable__label {background-color: #d4ebff;}#sk-container-id-8 div.sk-label input.sk-toggleable__control:checked~label.sk-toggleable__label {background-color: #d4ebff;}#sk-container-id-8 input.sk-hidden--visually {border: 0;clip: rect(1px 1px 1px 1px);clip: rect(1px, 1px, 1px, 1px);height: 1px;margin: -1px;overflow: hidden;padding: 0;position: absolute;width: 1px;}#sk-container-id-8 div.sk-estimator {font-family: monospace;background-color: #f0f8ff;border: 1px dotted black;border-radius: 0.25em;box-sizing: border-box;margin-bottom: 0.5em;}#sk-container-id-8 div.sk-estimator:hover {background-color: #d4ebff;}#sk-container-id-8 div.sk-parallel-item::after {content: \"\";width: 100%;border-bottom: 1px solid gray;flex-grow: 1;}#sk-container-id-8 div.sk-label:hover label.sk-toggleable__label {background-color: #d4ebff;}#sk-container-id-8 div.sk-serial::before {content: \"\";position: absolute;border-left: 1px solid gray;box-sizing: border-box;top: 0;bottom: 0;left: 50%;z-index: 0;}#sk-container-id-8 div.sk-serial {display: flex;flex-direction: column;align-items: center;background-color: white;padding-right: 0.2em;padding-left: 0.2em;position: relative;}#sk-container-id-8 div.sk-item {position: relative;z-index: 1;}#sk-container-id-8 div.sk-parallel {display: flex;align-items: stretch;justify-content: center;background-color: white;position: relative;}#sk-container-id-8 div.sk-item::before, #sk-container-id-8 div.sk-parallel-item::before {content: \"\";position: absolute;border-left: 1px solid gray;box-sizing: border-box;top: 0;bottom: 0;left: 50%;z-index: -1;}#sk-container-id-8 div.sk-parallel-item {display: flex;flex-direction: column;z-index: 1;position: relative;background-color: white;}#sk-container-id-8 div.sk-parallel-item:first-child::after {align-self: flex-end;width: 50%;}#sk-container-id-8 div.sk-parallel-item:last-child::after {align-self: flex-start;width: 50%;}#sk-container-id-8 div.sk-parallel-item:only-child::after {width: 0;}#sk-container-id-8 div.sk-dashed-wrapped {border: 1px dashed gray;margin: 0 0.4em 0.5em 0.4em;box-sizing: border-box;padding-bottom: 0.4em;background-color: white;}#sk-container-id-8 div.sk-label label {font-family: monospace;font-weight: bold;display: inline-block;line-height: 1.2em;}#sk-container-id-8 div.sk-label-container {text-align: center;}#sk-container-id-8 div.sk-container {/* jupyter's `normalize.less` sets `[hidden] { display: none; }` but bootstrap.min.css set `[hidden] { display: none !important; }` so we also need the `!important` here to be able to override the default hidden behavior on the sphinx rendered scikit-learn.org. See: https://github.com/scikit-learn/scikit-learn/issues/21755 */display: inline-block !important;position: relative;}#sk-container-id-8 div.sk-text-repr-fallback {display: none;}</style><div id=\"sk-container-id-8\" class=\"sk-top-container\"><div class=\"sk-text-repr-fallback\"><pre>LinearRegression()</pre><b>In a Jupyter environment, please rerun this cell to show the HTML representation or trust the notebook. <br />On GitHub, the HTML representation is unable to render, please try loading this page with nbviewer.org.</b></div><div class=\"sk-container\" hidden><div class=\"sk-item\"><div class=\"sk-estimator sk-toggleable\"><input class=\"sk-toggleable__control sk-hidden--visually\" id=\"sk-estimator-id-12\" type=\"checkbox\" checked><label for=\"sk-estimator-id-12\" class=\"sk-toggleable__label sk-toggleable__label-arrow\">LinearRegression</label><div class=\"sk-toggleable__content\"><pre>LinearRegression()</pre></div></div></div></div></div>"
      ],
      "text/plain": [
       "LinearRegression()"
      ]
     },
     "execution_count": 53,
     "metadata": {},
     "output_type": "execute_result"
    }
   ],
   "source": [
    "%%time\n",
    "training_model.fit(X_train, y_train)"
   ]
  },
  {
   "cell_type": "code",
   "execution_count": 54,
   "id": "94384aee",
   "metadata": {
    "execution": {
     "iopub.execute_input": "2025-08-08T03:51:49.730979Z",
     "iopub.status.busy": "2025-08-08T03:51:49.729407Z",
     "iopub.status.idle": "2025-08-08T03:51:49.742892Z",
     "shell.execute_reply": "2025-08-08T03:51:49.739753Z"
    },
    "papermill": {
     "duration": 0.054875,
     "end_time": "2025-08-08T03:51:49.744921",
     "exception": false,
     "start_time": "2025-08-08T03:51:49.690046",
     "status": "completed"
    },
    "tags": []
   },
   "outputs": [
    {
     "data": {
      "text/plain": [
       "array([ -1.14796321,  75.29826175,  -1.60833311, ..., 207.95157141,\n",
       "         1.25527105,  -0.53916631])"
      ]
     },
     "execution_count": 54,
     "metadata": {},
     "output_type": "execute_result"
    }
   ],
   "source": [
    "y_pred = training_model.predict(X_test)\n",
    "y_pred"
   ]
  },
  {
   "cell_type": "code",
   "execution_count": 55,
   "id": "e3eeab6f",
   "metadata": {
    "execution": {
     "iopub.execute_input": "2025-08-08T03:51:49.798986Z",
     "iopub.status.busy": "2025-08-08T03:51:49.798400Z",
     "iopub.status.idle": "2025-08-08T03:51:49.804831Z",
     "shell.execute_reply": "2025-08-08T03:51:49.804040Z"
    },
    "papermill": {
     "duration": 0.031184,
     "end_time": "2025-08-08T03:51:49.806165",
     "exception": false,
     "start_time": "2025-08-08T03:51:49.774981",
     "status": "completed"
    },
    "tags": []
   },
   "outputs": [
    {
     "data": {
      "text/plain": [
       "5158       0.00\n",
       "3831     105.26\n",
       "5117       0.00\n",
       "6326     758.39\n",
       "11359    135.87\n",
       "          ...  \n",
       "10290     74.58\n",
       "13995      0.00\n",
       "9665     241.81\n",
       "2276       0.00\n",
       "4174       0.00\n",
       "Name: SolarRadiation, Length: 2924, dtype: float64"
      ]
     },
     "execution_count": 55,
     "metadata": {},
     "output_type": "execute_result"
    }
   ],
   "source": [
    "y_test"
   ]
  },
  {
   "cell_type": "code",
   "execution_count": 56,
   "id": "e70b4005",
   "metadata": {
    "execution": {
     "iopub.execute_input": "2025-08-08T03:51:49.853577Z",
     "iopub.status.busy": "2025-08-08T03:51:49.852952Z",
     "iopub.status.idle": "2025-08-08T03:51:49.859443Z",
     "shell.execute_reply": "2025-08-08T03:51:49.858717Z"
    },
    "papermill": {
     "duration": 0.031768,
     "end_time": "2025-08-08T03:51:49.860856",
     "exception": false,
     "start_time": "2025-08-08T03:51:49.829088",
     "status": "completed"
    },
    "tags": []
   },
   "outputs": [],
   "source": [
    "mse = mean_squared_error(y_test, y_pred)\n",
    "mae = mean_absolute_error(y_test, y_pred)\n",
    "r2 = r2_score(y_test, y_pred)\n",
    "rmse = math.sqrt(mse)"
   ]
  },
  {
   "cell_type": "code",
   "execution_count": 57,
   "id": "5118d00e",
   "metadata": {
    "execution": {
     "iopub.execute_input": "2025-08-08T03:51:49.907911Z",
     "iopub.status.busy": "2025-08-08T03:51:49.907609Z",
     "iopub.status.idle": "2025-08-08T03:51:49.912447Z",
     "shell.execute_reply": "2025-08-08T03:51:49.911758Z"
    },
    "papermill": {
     "duration": 0.029616,
     "end_time": "2025-08-08T03:51:49.913695",
     "exception": false,
     "start_time": "2025-08-08T03:51:49.884079",
     "status": "completed"
    },
    "tags": []
   },
   "outputs": [
    {
     "name": "stdout",
     "output_type": "stream",
     "text": [
      "MSE Score: 315.88092201697634\n",
      "MAE Score: 11.557826523547368\n",
      "R2 Score: 0.996640941312549\n",
      "RMSE Score: 17.773039189091335\n"
     ]
    }
   ],
   "source": [
    "print(\"MSE Score:\", mse)\n",
    "print(\"MAE Score:\", mae)\n",
    "print(\"R2 Score:\", r2)\n",
    "print(\"RMSE Score:\", rmse)"
   ]
  },
  {
   "cell_type": "code",
   "execution_count": 58,
   "id": "e0b363b5",
   "metadata": {
    "execution": {
     "iopub.execute_input": "2025-08-08T03:51:49.961322Z",
     "iopub.status.busy": "2025-08-08T03:51:49.961028Z",
     "iopub.status.idle": "2025-08-08T03:51:49.970990Z",
     "shell.execute_reply": "2025-08-08T03:51:49.970137Z"
    },
    "papermill": {
     "duration": 0.035559,
     "end_time": "2025-08-08T03:51:49.972306",
     "exception": false,
     "start_time": "2025-08-08T03:51:49.936747",
     "status": "completed"
    },
    "tags": []
   },
   "outputs": [
    {
     "name": "stdout",
     "output_type": "stream",
     "text": [
      "✨ New regression model added:\n",
      "   MSE: 315.880922, R²: 0.996641\n",
      "   Features: 27\n",
      "💾 Registry updated: Model_Training_History/History_Regression.csv\n"
     ]
    }
   ],
   "source": [
    "regression_params = {\n",
    "    'model_name': model_name_for_saving,\n",
    "    'scaler_name': \"RobustScaler\",\n",
    "    'features_list': feature_columns_for_saving,\n",
    "    'target_column': target_name_for_saving,\n",
    "    'mse': mse,\n",
    "    'mae': mae,\n",
    "    'rmse': rmse,\n",
    "    'r2': r2,\n",
    "    'parameters': json.dumps(training_model.get_params())\n",
    "}\n",
    "save_model_performance_if_better('regression', regression_params)"
   ]
  },
  {
   "cell_type": "markdown",
   "id": "e8120480",
   "metadata": {
    "papermill": {
     "duration": 0.022524,
     "end_time": "2025-08-08T03:51:50.017961",
     "exception": false,
     "start_time": "2025-08-08T03:51:49.995437",
     "status": "completed"
    },
    "tags": []
   },
   "source": [
    "### Tuning with Grid Search"
   ]
  },
  {
   "cell_type": "code",
   "execution_count": 59,
   "id": "af10733f",
   "metadata": {
    "execution": {
     "iopub.execute_input": "2025-08-08T03:51:50.065266Z",
     "iopub.status.busy": "2025-08-08T03:51:50.064969Z",
     "iopub.status.idle": "2025-08-08T03:51:50.068941Z",
     "shell.execute_reply": "2025-08-08T03:51:50.068291Z"
    },
    "papermill": {
     "duration": 0.028786,
     "end_time": "2025-08-08T03:51:50.070215",
     "exception": false,
     "start_time": "2025-08-08T03:51:50.041429",
     "status": "completed"
    },
    "tags": []
   },
   "outputs": [],
   "source": [
    "grid_param = {\n",
    "    'fit_intercept': [True, False],\n",
    "    'copy_X': [True, False],\n",
    "    'positive': [True, False]\n",
    "}"
   ]
  },
  {
   "cell_type": "code",
   "execution_count": 60,
   "id": "766ad25a",
   "metadata": {
    "execution": {
     "iopub.execute_input": "2025-08-08T03:51:50.117833Z",
     "iopub.status.busy": "2025-08-08T03:51:50.117223Z",
     "iopub.status.idle": "2025-08-08T03:51:50.121407Z",
     "shell.execute_reply": "2025-08-08T03:51:50.120628Z"
    },
    "papermill": {
     "duration": 0.029526,
     "end_time": "2025-08-08T03:51:50.122861",
     "exception": false,
     "start_time": "2025-08-08T03:51:50.093335",
     "status": "completed"
    },
    "tags": []
   },
   "outputs": [],
   "source": [
    "grid_search = GridSearchCV(\n",
    "    LinearRegression(), \n",
    "    grid_param, \n",
    "    cv=5, \n",
    "    scoring='neg_mean_squared_error', \n",
    "    n_jobs=-1, # allow parallel processing, you cant use your own laptop while this runs\n",
    "    verbose=1\n",
    ")"
   ]
  },
  {
   "cell_type": "code",
   "execution_count": 61,
   "id": "a43aa79b",
   "metadata": {
    "execution": {
     "iopub.execute_input": "2025-08-08T03:51:50.170340Z",
     "iopub.status.busy": "2025-08-08T03:51:50.170045Z",
     "iopub.status.idle": "2025-08-08T03:51:51.081357Z",
     "shell.execute_reply": "2025-08-08T03:51:51.080537Z"
    },
    "papermill": {
     "duration": 0.936862,
     "end_time": "2025-08-08T03:51:51.082813",
     "exception": false,
     "start_time": "2025-08-08T03:51:50.145951",
     "status": "completed"
    },
    "tags": []
   },
   "outputs": [
    {
     "name": "stdout",
     "output_type": "stream",
     "text": [
      "Starting hyperparameter tuning...\n",
      "Fitting 5 folds for each of 8 candidates, totalling 40 fits\n",
      "CPU times: user 154 ms, sys: 17.8 ms, total: 172 ms\n",
      "Wall time: 904 ms\n"
     ]
    },
    {
     "data": {
      "text/html": [
       "<style>#sk-container-id-9 {color: black;background-color: white;}#sk-container-id-9 pre{padding: 0;}#sk-container-id-9 div.sk-toggleable {background-color: white;}#sk-container-id-9 label.sk-toggleable__label {cursor: pointer;display: block;width: 100%;margin-bottom: 0;padding: 0.3em;box-sizing: border-box;text-align: center;}#sk-container-id-9 label.sk-toggleable__label-arrow:before {content: \"▸\";float: left;margin-right: 0.25em;color: #696969;}#sk-container-id-9 label.sk-toggleable__label-arrow:hover:before {color: black;}#sk-container-id-9 div.sk-estimator:hover label.sk-toggleable__label-arrow:before {color: black;}#sk-container-id-9 div.sk-toggleable__content {max-height: 0;max-width: 0;overflow: hidden;text-align: left;background-color: #f0f8ff;}#sk-container-id-9 div.sk-toggleable__content pre {margin: 0.2em;color: black;border-radius: 0.25em;background-color: #f0f8ff;}#sk-container-id-9 input.sk-toggleable__control:checked~div.sk-toggleable__content {max-height: 200px;max-width: 100%;overflow: auto;}#sk-container-id-9 input.sk-toggleable__control:checked~label.sk-toggleable__label-arrow:before {content: \"▾\";}#sk-container-id-9 div.sk-estimator input.sk-toggleable__control:checked~label.sk-toggleable__label {background-color: #d4ebff;}#sk-container-id-9 div.sk-label input.sk-toggleable__control:checked~label.sk-toggleable__label {background-color: #d4ebff;}#sk-container-id-9 input.sk-hidden--visually {border: 0;clip: rect(1px 1px 1px 1px);clip: rect(1px, 1px, 1px, 1px);height: 1px;margin: -1px;overflow: hidden;padding: 0;position: absolute;width: 1px;}#sk-container-id-9 div.sk-estimator {font-family: monospace;background-color: #f0f8ff;border: 1px dotted black;border-radius: 0.25em;box-sizing: border-box;margin-bottom: 0.5em;}#sk-container-id-9 div.sk-estimator:hover {background-color: #d4ebff;}#sk-container-id-9 div.sk-parallel-item::after {content: \"\";width: 100%;border-bottom: 1px solid gray;flex-grow: 1;}#sk-container-id-9 div.sk-label:hover label.sk-toggleable__label {background-color: #d4ebff;}#sk-container-id-9 div.sk-serial::before {content: \"\";position: absolute;border-left: 1px solid gray;box-sizing: border-box;top: 0;bottom: 0;left: 50%;z-index: 0;}#sk-container-id-9 div.sk-serial {display: flex;flex-direction: column;align-items: center;background-color: white;padding-right: 0.2em;padding-left: 0.2em;position: relative;}#sk-container-id-9 div.sk-item {position: relative;z-index: 1;}#sk-container-id-9 div.sk-parallel {display: flex;align-items: stretch;justify-content: center;background-color: white;position: relative;}#sk-container-id-9 div.sk-item::before, #sk-container-id-9 div.sk-parallel-item::before {content: \"\";position: absolute;border-left: 1px solid gray;box-sizing: border-box;top: 0;bottom: 0;left: 50%;z-index: -1;}#sk-container-id-9 div.sk-parallel-item {display: flex;flex-direction: column;z-index: 1;position: relative;background-color: white;}#sk-container-id-9 div.sk-parallel-item:first-child::after {align-self: flex-end;width: 50%;}#sk-container-id-9 div.sk-parallel-item:last-child::after {align-self: flex-start;width: 50%;}#sk-container-id-9 div.sk-parallel-item:only-child::after {width: 0;}#sk-container-id-9 div.sk-dashed-wrapped {border: 1px dashed gray;margin: 0 0.4em 0.5em 0.4em;box-sizing: border-box;padding-bottom: 0.4em;background-color: white;}#sk-container-id-9 div.sk-label label {font-family: monospace;font-weight: bold;display: inline-block;line-height: 1.2em;}#sk-container-id-9 div.sk-label-container {text-align: center;}#sk-container-id-9 div.sk-container {/* jupyter's `normalize.less` sets `[hidden] { display: none; }` but bootstrap.min.css set `[hidden] { display: none !important; }` so we also need the `!important` here to be able to override the default hidden behavior on the sphinx rendered scikit-learn.org. See: https://github.com/scikit-learn/scikit-learn/issues/21755 */display: inline-block !important;position: relative;}#sk-container-id-9 div.sk-text-repr-fallback {display: none;}</style><div id=\"sk-container-id-9\" class=\"sk-top-container\"><div class=\"sk-text-repr-fallback\"><pre>GridSearchCV(cv=5, estimator=LinearRegression(), n_jobs=-1,\n",
       "             param_grid={&#x27;copy_X&#x27;: [True, False],\n",
       "                         &#x27;fit_intercept&#x27;: [True, False],\n",
       "                         &#x27;positive&#x27;: [True, False]},\n",
       "             scoring=&#x27;neg_mean_squared_error&#x27;, verbose=1)</pre><b>In a Jupyter environment, please rerun this cell to show the HTML representation or trust the notebook. <br />On GitHub, the HTML representation is unable to render, please try loading this page with nbviewer.org.</b></div><div class=\"sk-container\" hidden><div class=\"sk-item sk-dashed-wrapped\"><div class=\"sk-label-container\"><div class=\"sk-label sk-toggleable\"><input class=\"sk-toggleable__control sk-hidden--visually\" id=\"sk-estimator-id-13\" type=\"checkbox\" ><label for=\"sk-estimator-id-13\" class=\"sk-toggleable__label sk-toggleable__label-arrow\">GridSearchCV</label><div class=\"sk-toggleable__content\"><pre>GridSearchCV(cv=5, estimator=LinearRegression(), n_jobs=-1,\n",
       "             param_grid={&#x27;copy_X&#x27;: [True, False],\n",
       "                         &#x27;fit_intercept&#x27;: [True, False],\n",
       "                         &#x27;positive&#x27;: [True, False]},\n",
       "             scoring=&#x27;neg_mean_squared_error&#x27;, verbose=1)</pre></div></div></div><div class=\"sk-parallel\"><div class=\"sk-parallel-item\"><div class=\"sk-item\"><div class=\"sk-label-container\"><div class=\"sk-label sk-toggleable\"><input class=\"sk-toggleable__control sk-hidden--visually\" id=\"sk-estimator-id-14\" type=\"checkbox\" ><label for=\"sk-estimator-id-14\" class=\"sk-toggleable__label sk-toggleable__label-arrow\">estimator: LinearRegression</label><div class=\"sk-toggleable__content\"><pre>LinearRegression()</pre></div></div></div><div class=\"sk-serial\"><div class=\"sk-item\"><div class=\"sk-estimator sk-toggleable\"><input class=\"sk-toggleable__control sk-hidden--visually\" id=\"sk-estimator-id-15\" type=\"checkbox\" ><label for=\"sk-estimator-id-15\" class=\"sk-toggleable__label sk-toggleable__label-arrow\">LinearRegression</label><div class=\"sk-toggleable__content\"><pre>LinearRegression()</pre></div></div></div></div></div></div></div></div></div></div>"
      ],
      "text/plain": [
       "GridSearchCV(cv=5, estimator=LinearRegression(), n_jobs=-1,\n",
       "             param_grid={'copy_X': [True, False],\n",
       "                         'fit_intercept': [True, False],\n",
       "                         'positive': [True, False]},\n",
       "             scoring='neg_mean_squared_error', verbose=1)"
      ]
     },
     "execution_count": 61,
     "metadata": {},
     "output_type": "execute_result"
    }
   ],
   "source": [
    "%%time\n",
    "print(\"Starting hyperparameter tuning...\")\n",
    "grid_search.fit(X_train, y_train)"
   ]
  },
  {
   "cell_type": "code",
   "execution_count": 62,
   "id": "240377c4",
   "metadata": {
    "execution": {
     "iopub.execute_input": "2025-08-08T03:51:51.130837Z",
     "iopub.status.busy": "2025-08-08T03:51:51.130550Z",
     "iopub.status.idle": "2025-08-08T03:51:51.135610Z",
     "shell.execute_reply": "2025-08-08T03:51:51.134830Z"
    },
    "papermill": {
     "duration": 0.030276,
     "end_time": "2025-08-08T03:51:51.136897",
     "exception": false,
     "start_time": "2025-08-08T03:51:51.106621",
     "status": "completed"
    },
    "tags": []
   },
   "outputs": [
    {
     "name": "stdout",
     "output_type": "stream",
     "text": [
      "TUNING RESULTS\n",
      "==================================================\n",
      "Best Parameters: {'copy_X': True, 'fit_intercept': True, 'positive': True}\n",
      "Best Cross-Validation Score (Negative MSE): -304.3512557271444\n",
      "Best Cross-Validation Score (MSE): 304.3512557271444\n",
      "Best Cross-Validation Score (RMSE): 17.445665814956573\n"
     ]
    }
   ],
   "source": [
    "print(\"TUNING RESULTS\")\n",
    "print(\"=\"*50)\n",
    "print(\"Best Parameters:\", grid_search.best_params_)\n",
    "print(\"Best Cross-Validation Score (Negative MSE):\", grid_search.best_score_)\n",
    "print(\"Best Cross-Validation Score (MSE):\", -grid_search.best_score_)\n",
    "print(\"Best Cross-Validation Score (RMSE):\", math.sqrt(-grid_search.best_score_))"
   ]
  },
  {
   "cell_type": "code",
   "execution_count": 63,
   "id": "46b25808",
   "metadata": {
    "execution": {
     "iopub.execute_input": "2025-08-08T03:51:51.185030Z",
     "iopub.status.busy": "2025-08-08T03:51:51.184726Z",
     "iopub.status.idle": "2025-08-08T03:51:51.189330Z",
     "shell.execute_reply": "2025-08-08T03:51:51.188542Z"
    },
    "papermill": {
     "duration": 0.030325,
     "end_time": "2025-08-08T03:51:51.190769",
     "exception": false,
     "start_time": "2025-08-08T03:51:51.160444",
     "status": "completed"
    },
    "tags": []
   },
   "outputs": [],
   "source": [
    "grid_search_best_model = grid_search.best_estimator_\n",
    "y_pred = grid_search_best_model.predict(X_test)"
   ]
  },
  {
   "cell_type": "code",
   "execution_count": 64,
   "id": "8f6b4898",
   "metadata": {
    "execution": {
     "iopub.execute_input": "2025-08-08T03:51:51.239538Z",
     "iopub.status.busy": "2025-08-08T03:51:51.238948Z",
     "iopub.status.idle": "2025-08-08T03:51:51.245679Z",
     "shell.execute_reply": "2025-08-08T03:51:51.244852Z"
    },
    "papermill": {
     "duration": 0.032164,
     "end_time": "2025-08-08T03:51:51.247088",
     "exception": false,
     "start_time": "2025-08-08T03:51:51.214924",
     "status": "completed"
    },
    "tags": []
   },
   "outputs": [],
   "source": [
    "mse_grid_search = mean_squared_error(y_test, y_pred)\n",
    "mae_grid_search = mean_absolute_error(y_test, y_pred)\n",
    "r2_grid_search = r2_score(y_test, y_pred)\n",
    "rmse_grid_search = math.sqrt(mse_grid_search)"
   ]
  },
  {
   "cell_type": "code",
   "execution_count": 65,
   "id": "0b992e41",
   "metadata": {
    "execution": {
     "iopub.execute_input": "2025-08-08T03:51:51.296280Z",
     "iopub.status.busy": "2025-08-08T03:51:51.295524Z",
     "iopub.status.idle": "2025-08-08T03:51:51.300526Z",
     "shell.execute_reply": "2025-08-08T03:51:51.299530Z"
    },
    "papermill": {
     "duration": 0.03102,
     "end_time": "2025-08-08T03:51:51.301904",
     "exception": false,
     "start_time": "2025-08-08T03:51:51.270884",
     "status": "completed"
    },
    "tags": []
   },
   "outputs": [
    {
     "name": "stdout",
     "output_type": "stream",
     "text": [
      "MSE Score: 316.2001970977802\n",
      "MAE Score: 11.577460356836399\n",
      "R2 Score: 0.9966375461605815\n",
      "RMSE Score: 17.78201892636998\n"
     ]
    }
   ],
   "source": [
    "print(\"MSE Score:\", mse_grid_search)\n",
    "print(\"MAE Score:\", mae_grid_search)\n",
    "print(\"R2 Score:\", r2_grid_search)\n",
    "print(\"RMSE Score:\", rmse_grid_search)"
   ]
  },
  {
   "cell_type": "code",
   "execution_count": 66,
   "id": "1807209c",
   "metadata": {
    "execution": {
     "iopub.execute_input": "2025-08-08T03:51:51.351258Z",
     "iopub.status.busy": "2025-08-08T03:51:51.350516Z",
     "iopub.status.idle": "2025-08-08T03:51:51.360933Z",
     "shell.execute_reply": "2025-08-08T03:51:51.360153Z"
    },
    "papermill": {
     "duration": 0.036445,
     "end_time": "2025-08-08T03:51:51.362131",
     "exception": false,
     "start_time": "2025-08-08T03:51:51.325686",
     "status": "completed"
    },
    "tags": []
   },
   "outputs": [
    {
     "name": "stdout",
     "output_type": "stream",
     "text": [
      "✨ New regression model added:\n",
      "   MSE: 316.200197, R²: 0.996638\n",
      "   Features: 27\n",
      "💾 Registry updated: Model_Training_History/History_Regression.csv\n"
     ]
    }
   ],
   "source": [
    "regression_params = {\n",
    "    'model_name': model_name_for_saving + \" Tuned\",\n",
    "    'scaler_name': \"RobustScaler\",\n",
    "    'features_list': feature_columns_for_saving,\n",
    "    'target_column': target_name_for_saving,\n",
    "    'mse': mse_grid_search,\n",
    "    'mae': mae_grid_search,\n",
    "    'rmse': rmse_grid_search,\n",
    "    'r2': r2_grid_search,\n",
    "    'parameters' : json.dumps({\n",
    "        \"best_params\": grid_search.best_params_,\n",
    "        \"cv_score\": grid_search.best_score_,\n",
    "        \"all_params\": grid_search_best_model.get_params()\n",
    "    })\n",
    "}\n",
    "save_model_performance_if_better('regression', regression_params)"
   ]
  },
  {
   "cell_type": "markdown",
   "id": "1e98b453",
   "metadata": {
    "papermill": {
     "duration": 0.023499,
     "end_time": "2025-08-08T03:51:51.409561",
     "exception": false,
     "start_time": "2025-08-08T03:51:51.386062",
     "status": "completed"
    },
    "tags": []
   },
   "source": [
    "# Selected Features"
   ]
  },
  {
   "cell_type": "code",
   "execution_count": 67,
   "id": "9c56de7d",
   "metadata": {
    "execution": {
     "iopub.execute_input": "2025-08-08T03:51:51.457886Z",
     "iopub.status.busy": "2025-08-08T03:51:51.457131Z",
     "iopub.status.idle": "2025-08-08T03:51:51.511465Z",
     "shell.execute_reply": "2025-08-08T03:51:51.510570Z"
    },
    "papermill": {
     "duration": 0.080175,
     "end_time": "2025-08-08T03:51:51.513221",
     "exception": false,
     "start_time": "2025-08-08T03:51:51.433046",
     "status": "completed"
    },
    "tags": []
   },
   "outputs": [
    {
     "name": "stdout",
     "output_type": "stream",
     "text": [
      "SolarRadiation               1.000000\n",
      "SolarEnergy                  0.999867\n",
      "UVIndex                      0.998315\n",
      "DaySegments_Midday           0.594891\n",
      "Temp                         0.400378\n",
      "FeelsLike                    0.344429\n",
      "DaySegments_Morning          0.244659\n",
      "WindSpeed                    0.216803\n",
      "DaySegments_Afternoon        0.215785\n",
      "WindDir                      0.180924\n",
      "SevereRisk                   0.125829\n",
      "Hour                         0.095598\n",
      "Season_Summer                0.093764\n",
      "Visibility                   0.054367\n",
      "SeaLevelPressure             0.026622\n",
      "Year                         0.021999\n",
      "Dew                          0.013910\n",
      "Day                         -0.001404\n",
      "PrecipProb                  -0.013477\n",
      "Season_Rainy                -0.033059\n",
      "Season_Winter               -0.035395\n",
      "Season_Autumn               -0.035413\n",
      "Precip                      -0.039079\n",
      "CloudCover                  -0.055418\n",
      "Month                       -0.061339\n",
      "Windgust                    -0.100270\n",
      "DaySegments_Early Morning   -0.188121\n",
      "DaySegments_Evening         -0.205857\n",
      "DaySegments_Night           -0.252539\n",
      "DaySegments_Late Night      -0.427502\n",
      "Humidity                    -0.452369\n",
      "Name: SolarRadiation, dtype: float64\n"
     ]
    }
   ],
   "source": [
    "numeric_cols = weather_data.select_dtypes(include=[float, int]).columns\n",
    "correlations = weather_data[numeric_cols].corr()['SolarRadiation'].sort_values(ascending=False)\n",
    "print(correlations)"
   ]
  },
  {
   "cell_type": "code",
   "execution_count": 68,
   "id": "c9943963",
   "metadata": {
    "execution": {
     "iopub.execute_input": "2025-08-08T03:51:51.562655Z",
     "iopub.status.busy": "2025-08-08T03:51:51.561904Z",
     "iopub.status.idle": "2025-08-08T03:51:51.575970Z",
     "shell.execute_reply": "2025-08-08T03:51:51.574985Z"
    },
    "papermill": {
     "duration": 0.040123,
     "end_time": "2025-08-08T03:51:51.577472",
     "exception": false,
     "start_time": "2025-08-08T03:51:51.537349",
     "status": "completed"
    },
    "tags": []
   },
   "outputs": [
    {
     "name": "stdout",
     "output_type": "stream",
     "text": [
      "<class 'pandas.core.frame.DataFrame'>\n",
      "RangeIndex: 14616 entries, 0 to 14615\n",
      "Data columns (total 36 columns):\n",
      " #   Column                     Non-Null Count  Dtype         \n",
      "---  ------                     --------------  -----         \n",
      " 0   DateTime                   14616 non-null  datetime64[ns]\n",
      " 1   Year                       14616 non-null  int64         \n",
      " 2   Month                      14616 non-null  int64         \n",
      " 3   Day                        14616 non-null  int64         \n",
      " 4   Hour                       14616 non-null  int64         \n",
      " 5   DaySegments                14616 non-null  object        \n",
      " 6   DaySegments_Afternoon      14616 non-null  int64         \n",
      " 7   DaySegments_Early Morning  14616 non-null  int64         \n",
      " 8   DaySegments_Evening        14616 non-null  int64         \n",
      " 9   DaySegments_Late Night     14616 non-null  int64         \n",
      " 10  DaySegments_Midday         14616 non-null  int64         \n",
      " 11  DaySegments_Morning        14616 non-null  int64         \n",
      " 12  DaySegments_Night          14616 non-null  int64         \n",
      " 13  Season_Autumn              14616 non-null  int64         \n",
      " 14  Season_Rainy               14616 non-null  int64         \n",
      " 15  Season_Summer              14616 non-null  int64         \n",
      " 16  Season_Winter              14616 non-null  int64         \n",
      " 17  Season                     14616 non-null  object        \n",
      " 18  Temp                       14616 non-null  float64       \n",
      " 19  FeelsLike                  14616 non-null  float64       \n",
      " 20  Dew                        14616 non-null  float64       \n",
      " 21  Humidity                   14616 non-null  float64       \n",
      " 22  Precip                     14616 non-null  float64       \n",
      " 23  PrecipProb                 14616 non-null  float64       \n",
      " 24  Windgust                   14616 non-null  float64       \n",
      " 25  WindSpeed                  14616 non-null  float64       \n",
      " 26  WindDir                    14616 non-null  float64       \n",
      " 27  SeaLevelPressure           14616 non-null  float64       \n",
      " 28  CloudCover                 14616 non-null  float64       \n",
      " 29  UVIndex                    14616 non-null  float64       \n",
      " 30  SevereRisk                 14616 non-null  float64       \n",
      " 31  Visibility                 14616 non-null  float64       \n",
      " 32  SolarRadiation             14616 non-null  float64       \n",
      " 33  SolarEnergy                14616 non-null  float64       \n",
      " 34  Conditions                 14616 non-null  object        \n",
      " 35  Icon                       14616 non-null  object        \n",
      "dtypes: datetime64[ns](1), float64(16), int64(15), object(4)\n",
      "memory usage: 4.0+ MB\n"
     ]
    }
   ],
   "source": [
    "weather_data.info()"
   ]
  },
  {
   "cell_type": "markdown",
   "id": "29025e4d",
   "metadata": {
    "papermill": {
     "duration": 0.024796,
     "end_time": "2025-08-08T03:51:51.627537",
     "exception": false,
     "start_time": "2025-08-08T03:51:51.602741",
     "status": "completed"
    },
    "tags": []
   },
   "source": [
    "## Run Again"
   ]
  },
  {
   "cell_type": "code",
   "execution_count": 69,
   "id": "de16da8c",
   "metadata": {
    "execution": {
     "iopub.execute_input": "2025-08-08T03:51:51.676391Z",
     "iopub.status.busy": "2025-08-08T03:51:51.676095Z",
     "iopub.status.idle": "2025-08-08T03:51:51.681950Z",
     "shell.execute_reply": "2025-08-08T03:51:51.681318Z"
    },
    "papermill": {
     "duration": 0.03188,
     "end_time": "2025-08-08T03:51:51.683184",
     "exception": false,
     "start_time": "2025-08-08T03:51:51.651304",
     "status": "completed"
    },
    "tags": []
   },
   "outputs": [],
   "source": [
    "X_train_raw = weather_data_train.drop(columns=['DateTime', # Model cannot use DateTime as a feature\n",
    "                                                'Year', # No Effect on weather data\n",
    "                                                'Season', # Season is categorical, not numerical\n",
    "                                                'DaySegments', # DaySegments is categorical, not numerical\n",
    "                                                'Visibility',  # Target variable\n",
    "                                                'SolarRadiation', # Target variable\n",
    "                                                'SolarEnergy', # Target variable\n",
    "                                                'Conditions', # Target variable\n",
    "                                                'Icon', # Target variable\n",
    "                                                \n",
    "                                                'Day', # same day from different month act differently\n",
    "                                                'SeaLevelPressure', # low correlation with Solar Energy\n",
    "                                                'Dew', # low correlation with Solar Energy\n",
    "                                                'Precip', # low correlation with Solar Energy\n",
    "                                                'PrecipProb']) # low correlation with Solar Energy\n",
    "y_train = weather_data_train['SolarRadiation']"
   ]
  },
  {
   "cell_type": "code",
   "execution_count": 70,
   "id": "351f3a5e",
   "metadata": {
    "execution": {
     "iopub.execute_input": "2025-08-08T03:51:51.732909Z",
     "iopub.status.busy": "2025-08-08T03:51:51.732165Z",
     "iopub.status.idle": "2025-08-08T03:51:51.737965Z",
     "shell.execute_reply": "2025-08-08T03:51:51.737311Z"
    },
    "papermill": {
     "duration": 0.03173,
     "end_time": "2025-08-08T03:51:51.739198",
     "exception": false,
     "start_time": "2025-08-08T03:51:51.707468",
     "status": "completed"
    },
    "tags": []
   },
   "outputs": [],
   "source": [
    "X_test_raw = weather_data_test.drop(columns=['DateTime', # Model cannot use DateTime as a feature\n",
    "                                                'Year', # No Effect on weather data\n",
    "                                                'Season', # Season is categorical, not numerical\n",
    "                                                'DaySegments', # DaySegments is categorical, not numerical\n",
    "                                                'Visibility',  # Target variable\n",
    "                                                'SolarRadiation', # Target variable\n",
    "                                                'SolarEnergy', # Target variable\n",
    "                                                'Conditions', # Target variable\n",
    "                                                'Icon', # Target variable\n",
    "                                                \n",
    "                                                'Day', # same day from different month act differently\n",
    "                                                'SeaLevelPressure', # low correlation with Solar Energy\n",
    "                                                'Dew', # low correlation with Solar Energy\n",
    "                                                'Precip', # low correlation with Solar Energy\n",
    "                                                'PrecipProb']) # low correlation with Solar Energy\n",
    "y_test = weather_data_test['SolarRadiation']"
   ]
  },
  {
   "cell_type": "code",
   "execution_count": 71,
   "id": "4def71fd",
   "metadata": {
    "execution": {
     "iopub.execute_input": "2025-08-08T03:51:51.789215Z",
     "iopub.status.busy": "2025-08-08T03:51:51.788470Z",
     "iopub.status.idle": "2025-08-08T03:51:51.792634Z",
     "shell.execute_reply": "2025-08-08T03:51:51.791807Z"
    },
    "papermill": {
     "duration": 0.030555,
     "end_time": "2025-08-08T03:51:51.793911",
     "exception": false,
     "start_time": "2025-08-08T03:51:51.763356",
     "status": "completed"
    },
    "tags": []
   },
   "outputs": [],
   "source": [
    "feature_columns = [col for col in X_train_raw.columns]\n",
    "feature_columns_for_saving = ','.join(feature_columns)"
   ]
  },
  {
   "cell_type": "code",
   "execution_count": 72,
   "id": "89e94fb4",
   "metadata": {
    "execution": {
     "iopub.execute_input": "2025-08-08T03:51:51.843630Z",
     "iopub.status.busy": "2025-08-08T03:51:51.842968Z",
     "iopub.status.idle": "2025-08-08T03:51:51.847849Z",
     "shell.execute_reply": "2025-08-08T03:51:51.847066Z"
    },
    "papermill": {
     "duration": 0.031023,
     "end_time": "2025-08-08T03:51:51.849038",
     "exception": false,
     "start_time": "2025-08-08T03:51:51.818015",
     "status": "completed"
    },
    "tags": []
   },
   "outputs": [
    {
     "name": "stdout",
     "output_type": "stream",
     "text": [
      "X_train:  11692\n",
      "y_train:  11692\n",
      "\n",
      "X_test:  2924\n",
      "y_test:  2924\n"
     ]
    }
   ],
   "source": [
    "print(\"X_train: \", len(X_train_raw))\n",
    "print(\"y_train: \", len(y_train))\n",
    "print(\"\\nX_test: \", len(X_test_raw))\n",
    "print(\"y_test: \", len(y_test))"
   ]
  },
  {
   "cell_type": "markdown",
   "id": "98e59896",
   "metadata": {
    "papermill": {
     "duration": 0.024132,
     "end_time": "2025-08-08T03:51:51.897567",
     "exception": false,
     "start_time": "2025-08-08T03:51:51.873435",
     "status": "completed"
    },
    "tags": []
   },
   "source": [
    "### MinMax Scaler"
   ]
  },
  {
   "cell_type": "code",
   "execution_count": 73,
   "id": "260c5990",
   "metadata": {
    "execution": {
     "iopub.execute_input": "2025-08-08T03:51:52.009017Z",
     "iopub.status.busy": "2025-08-08T03:51:52.008710Z",
     "iopub.status.idle": "2025-08-08T03:51:52.020536Z",
     "shell.execute_reply": "2025-08-08T03:51:52.019869Z"
    },
    "papermill": {
     "duration": 0.03861,
     "end_time": "2025-08-08T03:51:52.022085",
     "exception": false,
     "start_time": "2025-08-08T03:51:51.983475",
     "status": "completed"
    },
    "tags": []
   },
   "outputs": [],
   "source": [
    "scaler = MinMaxScaler()\n",
    "X_train = scaler.fit_transform(X_train_raw)\n",
    "X_test = scaler.transform(X_test_raw)"
   ]
  },
  {
   "cell_type": "code",
   "execution_count": 74,
   "id": "5052180d",
   "metadata": {
    "execution": {
     "iopub.execute_input": "2025-08-08T03:51:52.072673Z",
     "iopub.status.busy": "2025-08-08T03:51:52.072037Z",
     "iopub.status.idle": "2025-08-08T03:51:52.077536Z",
     "shell.execute_reply": "2025-08-08T03:51:52.076816Z"
    },
    "papermill": {
     "duration": 0.031939,
     "end_time": "2025-08-08T03:51:52.078911",
     "exception": false,
     "start_time": "2025-08-08T03:51:52.046972",
     "status": "completed"
    },
    "tags": []
   },
   "outputs": [
    {
     "data": {
      "text/plain": [
       "array([[0.72727273, 0.43478261, 0.        , ..., 0.4922    , 0.697     ,\n",
       "        0.31560059],\n",
       "       [0.90909091, 0.69565217, 1.        , ..., 0.        , 0.303     ,\n",
       "        0.07388643],\n",
       "       [0.09090909, 0.        , 0.        , ..., 0.        , 0.        ,\n",
       "        0.07388643],\n",
       "       ...,\n",
       "       [0.63636364, 0.43478261, 0.        , ..., 0.8756    , 0.306     ,\n",
       "        0.09436352],\n",
       "       [0.        , 0.91304348, 0.        , ..., 0.        , 0.        ,\n",
       "        0.07388643],\n",
       "       [0.72727273, 0.34782609, 0.        , ..., 0.8925    , 0.29      ,\n",
       "        0.27812962]])"
      ]
     },
     "execution_count": 74,
     "metadata": {},
     "output_type": "execute_result"
    }
   ],
   "source": [
    "X_train"
   ]
  },
  {
   "cell_type": "code",
   "execution_count": 75,
   "id": "ef960643",
   "metadata": {
    "execution": {
     "iopub.execute_input": "2025-08-08T03:51:52.129360Z",
     "iopub.status.busy": "2025-08-08T03:51:52.128786Z",
     "iopub.status.idle": "2025-08-08T03:51:52.134206Z",
     "shell.execute_reply": "2025-08-08T03:51:52.133559Z"
    },
    "papermill": {
     "duration": 0.031752,
     "end_time": "2025-08-08T03:51:52.135426",
     "exception": false,
     "start_time": "2025-08-08T03:51:52.103674",
     "status": "completed"
    },
    "tags": []
   },
   "outputs": [
    {
     "data": {
      "text/plain": [
       "array([[0.63636364, 0.95652174, 0.        , ..., 0.894     , 0.        ,\n",
       "        0.07388643],\n",
       "       [0.45454545, 0.65217391, 1.        , ..., 0.9677    , 0.074     ,\n",
       "        0.07388643],\n",
       "       [0.63636364, 0.2173913 , 0.        , ..., 0.9935    , 0.        ,\n",
       "        0.07388643],\n",
       "       ...,\n",
       "       [0.09090909, 0.73913043, 1.        , ..., 0.0013    , 0.203     ,\n",
       "        0.07388643],\n",
       "       [0.27272727, 0.86956522, 0.        , ..., 0.        , 0.        ,\n",
       "        0.25575259],\n",
       "       [0.45454545, 0.95652174, 0.        , ..., 0.5161    , 0.        ,\n",
       "        0.07388643]])"
      ]
     },
     "execution_count": 75,
     "metadata": {},
     "output_type": "execute_result"
    }
   ],
   "source": [
    "X_test"
   ]
  },
  {
   "cell_type": "markdown",
   "id": "b07e7b87",
   "metadata": {
    "papermill": {
     "duration": 0.024044,
     "end_time": "2025-08-08T03:51:52.184199",
     "exception": false,
     "start_time": "2025-08-08T03:51:52.160155",
     "status": "completed"
    },
    "tags": []
   },
   "source": [
    "#### Default Parameters"
   ]
  },
  {
   "cell_type": "code",
   "execution_count": 76,
   "id": "6deaa6ca",
   "metadata": {
    "execution": {
     "iopub.execute_input": "2025-08-08T03:51:52.235392Z",
     "iopub.status.busy": "2025-08-08T03:51:52.235073Z",
     "iopub.status.idle": "2025-08-08T03:51:52.240702Z",
     "shell.execute_reply": "2025-08-08T03:51:52.239951Z"
    },
    "papermill": {
     "duration": 0.032113,
     "end_time": "2025-08-08T03:51:52.242052",
     "exception": false,
     "start_time": "2025-08-08T03:51:52.209939",
     "status": "completed"
    },
    "tags": []
   },
   "outputs": [
    {
     "data": {
      "text/html": [
       "<style>#sk-container-id-10 {color: black;background-color: white;}#sk-container-id-10 pre{padding: 0;}#sk-container-id-10 div.sk-toggleable {background-color: white;}#sk-container-id-10 label.sk-toggleable__label {cursor: pointer;display: block;width: 100%;margin-bottom: 0;padding: 0.3em;box-sizing: border-box;text-align: center;}#sk-container-id-10 label.sk-toggleable__label-arrow:before {content: \"▸\";float: left;margin-right: 0.25em;color: #696969;}#sk-container-id-10 label.sk-toggleable__label-arrow:hover:before {color: black;}#sk-container-id-10 div.sk-estimator:hover label.sk-toggleable__label-arrow:before {color: black;}#sk-container-id-10 div.sk-toggleable__content {max-height: 0;max-width: 0;overflow: hidden;text-align: left;background-color: #f0f8ff;}#sk-container-id-10 div.sk-toggleable__content pre {margin: 0.2em;color: black;border-radius: 0.25em;background-color: #f0f8ff;}#sk-container-id-10 input.sk-toggleable__control:checked~div.sk-toggleable__content {max-height: 200px;max-width: 100%;overflow: auto;}#sk-container-id-10 input.sk-toggleable__control:checked~label.sk-toggleable__label-arrow:before {content: \"▾\";}#sk-container-id-10 div.sk-estimator input.sk-toggleable__control:checked~label.sk-toggleable__label {background-color: #d4ebff;}#sk-container-id-10 div.sk-label input.sk-toggleable__control:checked~label.sk-toggleable__label {background-color: #d4ebff;}#sk-container-id-10 input.sk-hidden--visually {border: 0;clip: rect(1px 1px 1px 1px);clip: rect(1px, 1px, 1px, 1px);height: 1px;margin: -1px;overflow: hidden;padding: 0;position: absolute;width: 1px;}#sk-container-id-10 div.sk-estimator {font-family: monospace;background-color: #f0f8ff;border: 1px dotted black;border-radius: 0.25em;box-sizing: border-box;margin-bottom: 0.5em;}#sk-container-id-10 div.sk-estimator:hover {background-color: #d4ebff;}#sk-container-id-10 div.sk-parallel-item::after {content: \"\";width: 100%;border-bottom: 1px solid gray;flex-grow: 1;}#sk-container-id-10 div.sk-label:hover label.sk-toggleable__label {background-color: #d4ebff;}#sk-container-id-10 div.sk-serial::before {content: \"\";position: absolute;border-left: 1px solid gray;box-sizing: border-box;top: 0;bottom: 0;left: 50%;z-index: 0;}#sk-container-id-10 div.sk-serial {display: flex;flex-direction: column;align-items: center;background-color: white;padding-right: 0.2em;padding-left: 0.2em;position: relative;}#sk-container-id-10 div.sk-item {position: relative;z-index: 1;}#sk-container-id-10 div.sk-parallel {display: flex;align-items: stretch;justify-content: center;background-color: white;position: relative;}#sk-container-id-10 div.sk-item::before, #sk-container-id-10 div.sk-parallel-item::before {content: \"\";position: absolute;border-left: 1px solid gray;box-sizing: border-box;top: 0;bottom: 0;left: 50%;z-index: -1;}#sk-container-id-10 div.sk-parallel-item {display: flex;flex-direction: column;z-index: 1;position: relative;background-color: white;}#sk-container-id-10 div.sk-parallel-item:first-child::after {align-self: flex-end;width: 50%;}#sk-container-id-10 div.sk-parallel-item:last-child::after {align-self: flex-start;width: 50%;}#sk-container-id-10 div.sk-parallel-item:only-child::after {width: 0;}#sk-container-id-10 div.sk-dashed-wrapped {border: 1px dashed gray;margin: 0 0.4em 0.5em 0.4em;box-sizing: border-box;padding-bottom: 0.4em;background-color: white;}#sk-container-id-10 div.sk-label label {font-family: monospace;font-weight: bold;display: inline-block;line-height: 1.2em;}#sk-container-id-10 div.sk-label-container {text-align: center;}#sk-container-id-10 div.sk-container {/* jupyter's `normalize.less` sets `[hidden] { display: none; }` but bootstrap.min.css set `[hidden] { display: none !important; }` so we also need the `!important` here to be able to override the default hidden behavior on the sphinx rendered scikit-learn.org. See: https://github.com/scikit-learn/scikit-learn/issues/21755 */display: inline-block !important;position: relative;}#sk-container-id-10 div.sk-text-repr-fallback {display: none;}</style><div id=\"sk-container-id-10\" class=\"sk-top-container\"><div class=\"sk-text-repr-fallback\"><pre>LinearRegression()</pre><b>In a Jupyter environment, please rerun this cell to show the HTML representation or trust the notebook. <br />On GitHub, the HTML representation is unable to render, please try loading this page with nbviewer.org.</b></div><div class=\"sk-container\" hidden><div class=\"sk-item\"><div class=\"sk-estimator sk-toggleable\"><input class=\"sk-toggleable__control sk-hidden--visually\" id=\"sk-estimator-id-16\" type=\"checkbox\" checked><label for=\"sk-estimator-id-16\" class=\"sk-toggleable__label sk-toggleable__label-arrow\">LinearRegression</label><div class=\"sk-toggleable__content\"><pre>LinearRegression()</pre></div></div></div></div></div>"
      ],
      "text/plain": [
       "LinearRegression()"
      ]
     },
     "execution_count": 76,
     "metadata": {},
     "output_type": "execute_result"
    }
   ],
   "source": [
    "training_model = LinearRegression()\n",
    "training_model"
   ]
  },
  {
   "cell_type": "code",
   "execution_count": 77,
   "id": "20498619",
   "metadata": {
    "execution": {
     "iopub.execute_input": "2025-08-08T03:51:52.292744Z",
     "iopub.status.busy": "2025-08-08T03:51:52.292408Z",
     "iopub.status.idle": "2025-08-08T03:51:52.315431Z",
     "shell.execute_reply": "2025-08-08T03:51:52.312536Z"
    },
    "papermill": {
     "duration": 0.050027,
     "end_time": "2025-08-08T03:51:52.317148",
     "exception": false,
     "start_time": "2025-08-08T03:51:52.267121",
     "status": "completed"
    },
    "tags": []
   },
   "outputs": [
    {
     "name": "stdout",
     "output_type": "stream",
     "text": [
      "CPU times: user 21 ms, sys: 2.61 ms, total: 23.6 ms\n",
      "Wall time: 14.6 ms\n"
     ]
    },
    {
     "data": {
      "text/html": [
       "<style>#sk-container-id-11 {color: black;background-color: white;}#sk-container-id-11 pre{padding: 0;}#sk-container-id-11 div.sk-toggleable {background-color: white;}#sk-container-id-11 label.sk-toggleable__label {cursor: pointer;display: block;width: 100%;margin-bottom: 0;padding: 0.3em;box-sizing: border-box;text-align: center;}#sk-container-id-11 label.sk-toggleable__label-arrow:before {content: \"▸\";float: left;margin-right: 0.25em;color: #696969;}#sk-container-id-11 label.sk-toggleable__label-arrow:hover:before {color: black;}#sk-container-id-11 div.sk-estimator:hover label.sk-toggleable__label-arrow:before {color: black;}#sk-container-id-11 div.sk-toggleable__content {max-height: 0;max-width: 0;overflow: hidden;text-align: left;background-color: #f0f8ff;}#sk-container-id-11 div.sk-toggleable__content pre {margin: 0.2em;color: black;border-radius: 0.25em;background-color: #f0f8ff;}#sk-container-id-11 input.sk-toggleable__control:checked~div.sk-toggleable__content {max-height: 200px;max-width: 100%;overflow: auto;}#sk-container-id-11 input.sk-toggleable__control:checked~label.sk-toggleable__label-arrow:before {content: \"▾\";}#sk-container-id-11 div.sk-estimator input.sk-toggleable__control:checked~label.sk-toggleable__label {background-color: #d4ebff;}#sk-container-id-11 div.sk-label input.sk-toggleable__control:checked~label.sk-toggleable__label {background-color: #d4ebff;}#sk-container-id-11 input.sk-hidden--visually {border: 0;clip: rect(1px 1px 1px 1px);clip: rect(1px, 1px, 1px, 1px);height: 1px;margin: -1px;overflow: hidden;padding: 0;position: absolute;width: 1px;}#sk-container-id-11 div.sk-estimator {font-family: monospace;background-color: #f0f8ff;border: 1px dotted black;border-radius: 0.25em;box-sizing: border-box;margin-bottom: 0.5em;}#sk-container-id-11 div.sk-estimator:hover {background-color: #d4ebff;}#sk-container-id-11 div.sk-parallel-item::after {content: \"\";width: 100%;border-bottom: 1px solid gray;flex-grow: 1;}#sk-container-id-11 div.sk-label:hover label.sk-toggleable__label {background-color: #d4ebff;}#sk-container-id-11 div.sk-serial::before {content: \"\";position: absolute;border-left: 1px solid gray;box-sizing: border-box;top: 0;bottom: 0;left: 50%;z-index: 0;}#sk-container-id-11 div.sk-serial {display: flex;flex-direction: column;align-items: center;background-color: white;padding-right: 0.2em;padding-left: 0.2em;position: relative;}#sk-container-id-11 div.sk-item {position: relative;z-index: 1;}#sk-container-id-11 div.sk-parallel {display: flex;align-items: stretch;justify-content: center;background-color: white;position: relative;}#sk-container-id-11 div.sk-item::before, #sk-container-id-11 div.sk-parallel-item::before {content: \"\";position: absolute;border-left: 1px solid gray;box-sizing: border-box;top: 0;bottom: 0;left: 50%;z-index: -1;}#sk-container-id-11 div.sk-parallel-item {display: flex;flex-direction: column;z-index: 1;position: relative;background-color: white;}#sk-container-id-11 div.sk-parallel-item:first-child::after {align-self: flex-end;width: 50%;}#sk-container-id-11 div.sk-parallel-item:last-child::after {align-self: flex-start;width: 50%;}#sk-container-id-11 div.sk-parallel-item:only-child::after {width: 0;}#sk-container-id-11 div.sk-dashed-wrapped {border: 1px dashed gray;margin: 0 0.4em 0.5em 0.4em;box-sizing: border-box;padding-bottom: 0.4em;background-color: white;}#sk-container-id-11 div.sk-label label {font-family: monospace;font-weight: bold;display: inline-block;line-height: 1.2em;}#sk-container-id-11 div.sk-label-container {text-align: center;}#sk-container-id-11 div.sk-container {/* jupyter's `normalize.less` sets `[hidden] { display: none; }` but bootstrap.min.css set `[hidden] { display: none !important; }` so we also need the `!important` here to be able to override the default hidden behavior on the sphinx rendered scikit-learn.org. See: https://github.com/scikit-learn/scikit-learn/issues/21755 */display: inline-block !important;position: relative;}#sk-container-id-11 div.sk-text-repr-fallback {display: none;}</style><div id=\"sk-container-id-11\" class=\"sk-top-container\"><div class=\"sk-text-repr-fallback\"><pre>LinearRegression()</pre><b>In a Jupyter environment, please rerun this cell to show the HTML representation or trust the notebook. <br />On GitHub, the HTML representation is unable to render, please try loading this page with nbviewer.org.</b></div><div class=\"sk-container\" hidden><div class=\"sk-item\"><div class=\"sk-estimator sk-toggleable\"><input class=\"sk-toggleable__control sk-hidden--visually\" id=\"sk-estimator-id-17\" type=\"checkbox\" checked><label for=\"sk-estimator-id-17\" class=\"sk-toggleable__label sk-toggleable__label-arrow\">LinearRegression</label><div class=\"sk-toggleable__content\"><pre>LinearRegression()</pre></div></div></div></div></div>"
      ],
      "text/plain": [
       "LinearRegression()"
      ]
     },
     "execution_count": 77,
     "metadata": {},
     "output_type": "execute_result"
    }
   ],
   "source": [
    "%%time\n",
    "training_model.fit(X_train, y_train)"
   ]
  },
  {
   "cell_type": "code",
   "execution_count": 78,
   "id": "24edf0ba",
   "metadata": {
    "execution": {
     "iopub.execute_input": "2025-08-08T03:51:52.404705Z",
     "iopub.status.busy": "2025-08-08T03:51:52.404363Z",
     "iopub.status.idle": "2025-08-08T03:51:52.416244Z",
     "shell.execute_reply": "2025-08-08T03:51:52.415521Z"
    },
    "papermill": {
     "duration": 0.057456,
     "end_time": "2025-08-08T03:51:52.417998",
     "exception": false,
     "start_time": "2025-08-08T03:51:52.360542",
     "status": "completed"
    },
    "tags": []
   },
   "outputs": [
    {
     "data": {
      "text/plain": [
       "array([-5.46875000e-01,  7.63828125e+01, -3.12500000e-01, ...,\n",
       "        2.08117188e+02,  2.16406250e+00, -1.09375000e-01])"
      ]
     },
     "execution_count": 78,
     "metadata": {},
     "output_type": "execute_result"
    }
   ],
   "source": [
    "y_pred = training_model.predict(X_test)\n",
    "y_pred"
   ]
  },
  {
   "cell_type": "code",
   "execution_count": 79,
   "id": "47999773",
   "metadata": {
    "execution": {
     "iopub.execute_input": "2025-08-08T03:51:52.474797Z",
     "iopub.status.busy": "2025-08-08T03:51:52.474196Z",
     "iopub.status.idle": "2025-08-08T03:51:52.480908Z",
     "shell.execute_reply": "2025-08-08T03:51:52.480111Z"
    },
    "papermill": {
     "duration": 0.03407,
     "end_time": "2025-08-08T03:51:52.482193",
     "exception": false,
     "start_time": "2025-08-08T03:51:52.448123",
     "status": "completed"
    },
    "tags": []
   },
   "outputs": [
    {
     "data": {
      "text/plain": [
       "5158       0.00\n",
       "3831     105.26\n",
       "5117       0.00\n",
       "6326     758.39\n",
       "11359    135.87\n",
       "          ...  \n",
       "10290     74.58\n",
       "13995      0.00\n",
       "9665     241.81\n",
       "2276       0.00\n",
       "4174       0.00\n",
       "Name: SolarRadiation, Length: 2924, dtype: float64"
      ]
     },
     "execution_count": 79,
     "metadata": {},
     "output_type": "execute_result"
    }
   ],
   "source": [
    "y_test"
   ]
  },
  {
   "cell_type": "code",
   "execution_count": 80,
   "id": "21099dba",
   "metadata": {
    "execution": {
     "iopub.execute_input": "2025-08-08T03:51:52.534381Z",
     "iopub.status.busy": "2025-08-08T03:51:52.533771Z",
     "iopub.status.idle": "2025-08-08T03:51:52.540218Z",
     "shell.execute_reply": "2025-08-08T03:51:52.539403Z"
    },
    "papermill": {
     "duration": 0.034059,
     "end_time": "2025-08-08T03:51:52.541721",
     "exception": false,
     "start_time": "2025-08-08T03:51:52.507662",
     "status": "completed"
    },
    "tags": []
   },
   "outputs": [],
   "source": [
    "mse = mean_squared_error(y_test, y_pred)\n",
    "mae = mean_absolute_error(y_test, y_pred)\n",
    "r2 = r2_score(y_test, y_pred)\n",
    "rmse = math.sqrt(mse)"
   ]
  },
  {
   "cell_type": "code",
   "execution_count": 81,
   "id": "00c51bed",
   "metadata": {
    "execution": {
     "iopub.execute_input": "2025-08-08T03:51:52.593984Z",
     "iopub.status.busy": "2025-08-08T03:51:52.593355Z",
     "iopub.status.idle": "2025-08-08T03:51:52.598069Z",
     "shell.execute_reply": "2025-08-08T03:51:52.597236Z"
    },
    "papermill": {
     "duration": 0.031949,
     "end_time": "2025-08-08T03:51:52.599396",
     "exception": false,
     "start_time": "2025-08-08T03:51:52.567447",
     "status": "completed"
    },
    "tags": []
   },
   "outputs": [
    {
     "name": "stdout",
     "output_type": "stream",
     "text": [
      "MSE Score: 315.87248077257317\n",
      "MAE Score: 11.526012846272232\n",
      "R2 Score: 0.9966410310762333\n",
      "RMSE Score: 17.772801714208516\n"
     ]
    }
   ],
   "source": [
    "print(\"MSE Score:\", mse)\n",
    "print(\"MAE Score:\", mae)\n",
    "print(\"R2 Score:\", r2)\n",
    "print(\"RMSE Score:\", rmse)"
   ]
  },
  {
   "cell_type": "code",
   "execution_count": 82,
   "id": "71e69531",
   "metadata": {
    "execution": {
     "iopub.execute_input": "2025-08-08T03:51:52.651823Z",
     "iopub.status.busy": "2025-08-08T03:51:52.651031Z",
     "iopub.status.idle": "2025-08-08T03:51:52.663654Z",
     "shell.execute_reply": "2025-08-08T03:51:52.662639Z"
    },
    "papermill": {
     "duration": 0.040315,
     "end_time": "2025-08-08T03:51:52.665110",
     "exception": false,
     "start_time": "2025-08-08T03:51:52.624795",
     "status": "completed"
    },
    "tags": []
   },
   "outputs": [
    {
     "name": "stdout",
     "output_type": "stream",
     "text": [
      "✅ Regression model improved with better performance!\n",
      "   MSE: 316.301175 → 315.872481 (lower is better)\n",
      "   R²:  0.996636 → 0.996641 (higher is better)\n",
      "   Features: 27 → 22\n",
      "💾 Registry updated: Model_Training_History/History_Regression.csv\n"
     ]
    }
   ],
   "source": [
    "regression_params = {\n",
    "    'model_name': model_name_for_saving,\n",
    "    'scaler_name': \"MinMaxScaler\",\n",
    "    'features_list': feature_columns_for_saving,\n",
    "    'target_column': target_name_for_saving,\n",
    "    'mse': mse,\n",
    "    'mae': mae,\n",
    "    'rmse': rmse,\n",
    "    'r2': r2,\n",
    "    'parameters': json.dumps(training_model.get_params())\n",
    "}\n",
    "save_model_performance_if_better('regression', regression_params)"
   ]
  },
  {
   "cell_type": "markdown",
   "id": "421f95d6",
   "metadata": {
    "papermill": {
     "duration": 0.028186,
     "end_time": "2025-08-08T03:51:52.719338",
     "exception": false,
     "start_time": "2025-08-08T03:51:52.691152",
     "status": "completed"
    },
    "tags": []
   },
   "source": [
    "#### Tuning with Grid Search"
   ]
  },
  {
   "cell_type": "code",
   "execution_count": 83,
   "id": "f0784502",
   "metadata": {
    "execution": {
     "iopub.execute_input": "2025-08-08T03:51:52.772230Z",
     "iopub.status.busy": "2025-08-08T03:51:52.771425Z",
     "iopub.status.idle": "2025-08-08T03:51:52.775590Z",
     "shell.execute_reply": "2025-08-08T03:51:52.774873Z"
    },
    "papermill": {
     "duration": 0.031824,
     "end_time": "2025-08-08T03:51:52.776847",
     "exception": false,
     "start_time": "2025-08-08T03:51:52.745023",
     "status": "completed"
    },
    "tags": []
   },
   "outputs": [],
   "source": [
    "grid_param = {\n",
    "    'fit_intercept': [True, False],\n",
    "    'copy_X': [True, False],\n",
    "    'positive': [True, False]\n",
    "}"
   ]
  },
  {
   "cell_type": "code",
   "execution_count": 84,
   "id": "57924287",
   "metadata": {
    "execution": {
     "iopub.execute_input": "2025-08-08T03:51:52.829977Z",
     "iopub.status.busy": "2025-08-08T03:51:52.829197Z",
     "iopub.status.idle": "2025-08-08T03:51:52.833585Z",
     "shell.execute_reply": "2025-08-08T03:51:52.832942Z"
    },
    "papermill": {
     "duration": 0.032185,
     "end_time": "2025-08-08T03:51:52.834967",
     "exception": false,
     "start_time": "2025-08-08T03:51:52.802782",
     "status": "completed"
    },
    "tags": []
   },
   "outputs": [],
   "source": [
    "grid_search = GridSearchCV(\n",
    "    LinearRegression(), \n",
    "    grid_param, \n",
    "    cv=5, \n",
    "    scoring='neg_mean_squared_error', \n",
    "    n_jobs=-1, # allow parallel processing, you cant use your own laptop while this runs\n",
    "    verbose=1\n",
    ")"
   ]
  },
  {
   "cell_type": "code",
   "execution_count": 85,
   "id": "fb4eda7d",
   "metadata": {
    "execution": {
     "iopub.execute_input": "2025-08-08T03:51:52.888639Z",
     "iopub.status.busy": "2025-08-08T03:51:52.887910Z",
     "iopub.status.idle": "2025-08-08T03:51:53.462475Z",
     "shell.execute_reply": "2025-08-08T03:51:53.461650Z"
    },
    "papermill": {
     "duration": 0.603257,
     "end_time": "2025-08-08T03:51:53.464298",
     "exception": false,
     "start_time": "2025-08-08T03:51:52.861041",
     "status": "completed"
    },
    "tags": []
   },
   "outputs": [
    {
     "name": "stdout",
     "output_type": "stream",
     "text": [
      "Starting hyperparameter tuning...\n",
      "Fitting 5 folds for each of 8 candidates, totalling 40 fits\n",
      "CPU times: user 67.9 ms, sys: 6.57 ms, total: 74.4 ms\n",
      "Wall time: 562 ms\n"
     ]
    },
    {
     "data": {
      "text/html": [
       "<style>#sk-container-id-12 {color: black;background-color: white;}#sk-container-id-12 pre{padding: 0;}#sk-container-id-12 div.sk-toggleable {background-color: white;}#sk-container-id-12 label.sk-toggleable__label {cursor: pointer;display: block;width: 100%;margin-bottom: 0;padding: 0.3em;box-sizing: border-box;text-align: center;}#sk-container-id-12 label.sk-toggleable__label-arrow:before {content: \"▸\";float: left;margin-right: 0.25em;color: #696969;}#sk-container-id-12 label.sk-toggleable__label-arrow:hover:before {color: black;}#sk-container-id-12 div.sk-estimator:hover label.sk-toggleable__label-arrow:before {color: black;}#sk-container-id-12 div.sk-toggleable__content {max-height: 0;max-width: 0;overflow: hidden;text-align: left;background-color: #f0f8ff;}#sk-container-id-12 div.sk-toggleable__content pre {margin: 0.2em;color: black;border-radius: 0.25em;background-color: #f0f8ff;}#sk-container-id-12 input.sk-toggleable__control:checked~div.sk-toggleable__content {max-height: 200px;max-width: 100%;overflow: auto;}#sk-container-id-12 input.sk-toggleable__control:checked~label.sk-toggleable__label-arrow:before {content: \"▾\";}#sk-container-id-12 div.sk-estimator input.sk-toggleable__control:checked~label.sk-toggleable__label {background-color: #d4ebff;}#sk-container-id-12 div.sk-label input.sk-toggleable__control:checked~label.sk-toggleable__label {background-color: #d4ebff;}#sk-container-id-12 input.sk-hidden--visually {border: 0;clip: rect(1px 1px 1px 1px);clip: rect(1px, 1px, 1px, 1px);height: 1px;margin: -1px;overflow: hidden;padding: 0;position: absolute;width: 1px;}#sk-container-id-12 div.sk-estimator {font-family: monospace;background-color: #f0f8ff;border: 1px dotted black;border-radius: 0.25em;box-sizing: border-box;margin-bottom: 0.5em;}#sk-container-id-12 div.sk-estimator:hover {background-color: #d4ebff;}#sk-container-id-12 div.sk-parallel-item::after {content: \"\";width: 100%;border-bottom: 1px solid gray;flex-grow: 1;}#sk-container-id-12 div.sk-label:hover label.sk-toggleable__label {background-color: #d4ebff;}#sk-container-id-12 div.sk-serial::before {content: \"\";position: absolute;border-left: 1px solid gray;box-sizing: border-box;top: 0;bottom: 0;left: 50%;z-index: 0;}#sk-container-id-12 div.sk-serial {display: flex;flex-direction: column;align-items: center;background-color: white;padding-right: 0.2em;padding-left: 0.2em;position: relative;}#sk-container-id-12 div.sk-item {position: relative;z-index: 1;}#sk-container-id-12 div.sk-parallel {display: flex;align-items: stretch;justify-content: center;background-color: white;position: relative;}#sk-container-id-12 div.sk-item::before, #sk-container-id-12 div.sk-parallel-item::before {content: \"\";position: absolute;border-left: 1px solid gray;box-sizing: border-box;top: 0;bottom: 0;left: 50%;z-index: -1;}#sk-container-id-12 div.sk-parallel-item {display: flex;flex-direction: column;z-index: 1;position: relative;background-color: white;}#sk-container-id-12 div.sk-parallel-item:first-child::after {align-self: flex-end;width: 50%;}#sk-container-id-12 div.sk-parallel-item:last-child::after {align-self: flex-start;width: 50%;}#sk-container-id-12 div.sk-parallel-item:only-child::after {width: 0;}#sk-container-id-12 div.sk-dashed-wrapped {border: 1px dashed gray;margin: 0 0.4em 0.5em 0.4em;box-sizing: border-box;padding-bottom: 0.4em;background-color: white;}#sk-container-id-12 div.sk-label label {font-family: monospace;font-weight: bold;display: inline-block;line-height: 1.2em;}#sk-container-id-12 div.sk-label-container {text-align: center;}#sk-container-id-12 div.sk-container {/* jupyter's `normalize.less` sets `[hidden] { display: none; }` but bootstrap.min.css set `[hidden] { display: none !important; }` so we also need the `!important` here to be able to override the default hidden behavior on the sphinx rendered scikit-learn.org. See: https://github.com/scikit-learn/scikit-learn/issues/21755 */display: inline-block !important;position: relative;}#sk-container-id-12 div.sk-text-repr-fallback {display: none;}</style><div id=\"sk-container-id-12\" class=\"sk-top-container\"><div class=\"sk-text-repr-fallback\"><pre>GridSearchCV(cv=5, estimator=LinearRegression(), n_jobs=-1,\n",
       "             param_grid={&#x27;copy_X&#x27;: [True, False],\n",
       "                         &#x27;fit_intercept&#x27;: [True, False],\n",
       "                         &#x27;positive&#x27;: [True, False]},\n",
       "             scoring=&#x27;neg_mean_squared_error&#x27;, verbose=1)</pre><b>In a Jupyter environment, please rerun this cell to show the HTML representation or trust the notebook. <br />On GitHub, the HTML representation is unable to render, please try loading this page with nbviewer.org.</b></div><div class=\"sk-container\" hidden><div class=\"sk-item sk-dashed-wrapped\"><div class=\"sk-label-container\"><div class=\"sk-label sk-toggleable\"><input class=\"sk-toggleable__control sk-hidden--visually\" id=\"sk-estimator-id-18\" type=\"checkbox\" ><label for=\"sk-estimator-id-18\" class=\"sk-toggleable__label sk-toggleable__label-arrow\">GridSearchCV</label><div class=\"sk-toggleable__content\"><pre>GridSearchCV(cv=5, estimator=LinearRegression(), n_jobs=-1,\n",
       "             param_grid={&#x27;copy_X&#x27;: [True, False],\n",
       "                         &#x27;fit_intercept&#x27;: [True, False],\n",
       "                         &#x27;positive&#x27;: [True, False]},\n",
       "             scoring=&#x27;neg_mean_squared_error&#x27;, verbose=1)</pre></div></div></div><div class=\"sk-parallel\"><div class=\"sk-parallel-item\"><div class=\"sk-item\"><div class=\"sk-label-container\"><div class=\"sk-label sk-toggleable\"><input class=\"sk-toggleable__control sk-hidden--visually\" id=\"sk-estimator-id-19\" type=\"checkbox\" ><label for=\"sk-estimator-id-19\" class=\"sk-toggleable__label sk-toggleable__label-arrow\">estimator: LinearRegression</label><div class=\"sk-toggleable__content\"><pre>LinearRegression()</pre></div></div></div><div class=\"sk-serial\"><div class=\"sk-item\"><div class=\"sk-estimator sk-toggleable\"><input class=\"sk-toggleable__control sk-hidden--visually\" id=\"sk-estimator-id-20\" type=\"checkbox\" ><label for=\"sk-estimator-id-20\" class=\"sk-toggleable__label sk-toggleable__label-arrow\">LinearRegression</label><div class=\"sk-toggleable__content\"><pre>LinearRegression()</pre></div></div></div></div></div></div></div></div></div></div>"
      ],
      "text/plain": [
       "GridSearchCV(cv=5, estimator=LinearRegression(), n_jobs=-1,\n",
       "             param_grid={'copy_X': [True, False],\n",
       "                         'fit_intercept': [True, False],\n",
       "                         'positive': [True, False]},\n",
       "             scoring='neg_mean_squared_error', verbose=1)"
      ]
     },
     "execution_count": 85,
     "metadata": {},
     "output_type": "execute_result"
    }
   ],
   "source": [
    "%%time\n",
    "print(\"Starting hyperparameter tuning...\")\n",
    "grid_search.fit(X_train, y_train)"
   ]
  },
  {
   "cell_type": "code",
   "execution_count": 86,
   "id": "5fcacf11",
   "metadata": {
    "execution": {
     "iopub.execute_input": "2025-08-08T03:51:53.563865Z",
     "iopub.status.busy": "2025-08-08T03:51:53.563535Z",
     "iopub.status.idle": "2025-08-08T03:51:53.572862Z",
     "shell.execute_reply": "2025-08-08T03:51:53.571929Z"
    },
    "papermill": {
     "duration": 0.065128,
     "end_time": "2025-08-08T03:51:53.574253",
     "exception": false,
     "start_time": "2025-08-08T03:51:53.509125",
     "status": "completed"
    },
    "tags": []
   },
   "outputs": [
    {
     "name": "stdout",
     "output_type": "stream",
     "text": [
      "TUNING RESULTS\n",
      "==================================================\n",
      "Best Parameters: {'copy_X': True, 'fit_intercept': False, 'positive': False}\n",
      "Best Cross-Validation Score (Negative MSE): -304.6485079472112\n",
      "Best Cross-Validation Score (MSE): 304.6485079472112\n",
      "Best Cross-Validation Score (RMSE): 17.45418310741615\n"
     ]
    }
   ],
   "source": [
    "print(\"TUNING RESULTS\")\n",
    "print(\"=\"*50)\n",
    "print(\"Best Parameters:\", grid_search.best_params_)\n",
    "print(\"Best Cross-Validation Score (Negative MSE):\", grid_search.best_score_)\n",
    "print(\"Best Cross-Validation Score (MSE):\", -grid_search.best_score_)\n",
    "print(\"Best Cross-Validation Score (RMSE):\", math.sqrt(-grid_search.best_score_))"
   ]
  },
  {
   "cell_type": "code",
   "execution_count": 87,
   "id": "fa82d956",
   "metadata": {
    "execution": {
     "iopub.execute_input": "2025-08-08T03:51:53.631607Z",
     "iopub.status.busy": "2025-08-08T03:51:53.630833Z",
     "iopub.status.idle": "2025-08-08T03:51:53.635362Z",
     "shell.execute_reply": "2025-08-08T03:51:53.634660Z"
    },
    "papermill": {
     "duration": 0.03318,
     "end_time": "2025-08-08T03:51:53.636738",
     "exception": false,
     "start_time": "2025-08-08T03:51:53.603558",
     "status": "completed"
    },
    "tags": []
   },
   "outputs": [],
   "source": [
    "grid_search_best_model = grid_search.best_estimator_\n",
    "y_pred = grid_search_best_model.predict(X_test)"
   ]
  },
  {
   "cell_type": "code",
   "execution_count": 88,
   "id": "2545ae88",
   "metadata": {
    "execution": {
     "iopub.execute_input": "2025-08-08T03:51:53.690498Z",
     "iopub.status.busy": "2025-08-08T03:51:53.689945Z",
     "iopub.status.idle": "2025-08-08T03:51:53.695973Z",
     "shell.execute_reply": "2025-08-08T03:51:53.695339Z"
    },
    "papermill": {
     "duration": 0.034181,
     "end_time": "2025-08-08T03:51:53.697186",
     "exception": false,
     "start_time": "2025-08-08T03:51:53.663005",
     "status": "completed"
    },
    "tags": []
   },
   "outputs": [],
   "source": [
    "mse_grid_search = mean_squared_error(y_test, y_pred)\n",
    "mae_grid_search = mean_absolute_error(y_test, y_pred)\n",
    "r2_grid_search = r2_score(y_test, y_pred)\n",
    "rmse_grid_search = math.sqrt(mse_grid_search)"
   ]
  },
  {
   "cell_type": "code",
   "execution_count": 89,
   "id": "9ac75447",
   "metadata": {
    "execution": {
     "iopub.execute_input": "2025-08-08T03:51:53.751185Z",
     "iopub.status.busy": "2025-08-08T03:51:53.750400Z",
     "iopub.status.idle": "2025-08-08T03:51:53.754853Z",
     "shell.execute_reply": "2025-08-08T03:51:53.754029Z"
    },
    "papermill": {
     "duration": 0.032488,
     "end_time": "2025-08-08T03:51:53.756061",
     "exception": false,
     "start_time": "2025-08-08T03:51:53.723573",
     "status": "completed"
    },
    "tags": []
   },
   "outputs": [
    {
     "name": "stdout",
     "output_type": "stream",
     "text": [
      "MSE Score: 315.8678823692626\n",
      "MAE Score: 11.525598133724738\n",
      "R2 Score: 0.996641079975377\n",
      "RMSE Score: 17.77267234743449\n"
     ]
    }
   ],
   "source": [
    "print(\"MSE Score:\", mse_grid_search)\n",
    "print(\"MAE Score:\", mae_grid_search)\n",
    "print(\"R2 Score:\", r2_grid_search)\n",
    "print(\"RMSE Score:\", rmse_grid_search)"
   ]
  },
  {
   "cell_type": "code",
   "execution_count": 90,
   "id": "a309f158",
   "metadata": {
    "execution": {
     "iopub.execute_input": "2025-08-08T03:51:53.810455Z",
     "iopub.status.busy": "2025-08-08T03:51:53.809715Z",
     "iopub.status.idle": "2025-08-08T03:51:53.822092Z",
     "shell.execute_reply": "2025-08-08T03:51:53.821277Z"
    },
    "papermill": {
     "duration": 0.040869,
     "end_time": "2025-08-08T03:51:53.823463",
     "exception": false,
     "start_time": "2025-08-08T03:51:53.782594",
     "status": "completed"
    },
    "tags": []
   },
   "outputs": [
    {
     "name": "stdout",
     "output_type": "stream",
     "text": [
      "✅ Regression model improved with better performance!\n",
      "   MSE: 316.200197 → 315.867882 (lower is better)\n",
      "   R²:  0.996638 → 0.996641 (higher is better)\n",
      "   Features: 27 → 22\n",
      "💾 Registry updated: Model_Training_History/History_Regression.csv\n"
     ]
    }
   ],
   "source": [
    "regression_params = {\n",
    "    'model_name': model_name_for_saving + \" Tuned\",\n",
    "    'scaler_name': \"MinMaxScaler\",\n",
    "    'features_list': feature_columns_for_saving,\n",
    "    'target_column': target_name_for_saving,\n",
    "    'mse': mse_grid_search,\n",
    "    'mae': mae_grid_search,\n",
    "    'rmse': rmse_grid_search,\n",
    "    'r2': r2_grid_search,\n",
    "    'parameters' : json.dumps({\n",
    "        \"best_params\": grid_search.best_params_,\n",
    "        \"cv_score\": grid_search.best_score_,\n",
    "        \"all_params\": grid_search_best_model.get_params()\n",
    "    })\n",
    "}\n",
    "save_model_performance_if_better('regression', regression_params)"
   ]
  },
  {
   "cell_type": "markdown",
   "id": "9f0b8af1",
   "metadata": {
    "papermill": {
     "duration": 0.033811,
     "end_time": "2025-08-08T03:51:53.884055",
     "exception": false,
     "start_time": "2025-08-08T03:51:53.850244",
     "status": "completed"
    },
    "tags": []
   },
   "source": [
    "### Standard Scaler"
   ]
  },
  {
   "cell_type": "code",
   "execution_count": 91,
   "id": "5f0eedf0",
   "metadata": {
    "execution": {
     "iopub.execute_input": "2025-08-08T03:51:53.939922Z",
     "iopub.status.busy": "2025-08-08T03:51:53.939624Z",
     "iopub.status.idle": "2025-08-08T03:51:53.953195Z",
     "shell.execute_reply": "2025-08-08T03:51:53.952290Z"
    },
    "papermill": {
     "duration": 0.042501,
     "end_time": "2025-08-08T03:51:53.954902",
     "exception": false,
     "start_time": "2025-08-08T03:51:53.912401",
     "status": "completed"
    },
    "tags": []
   },
   "outputs": [],
   "source": [
    "scaler = StandardScaler()\n",
    "X_train = scaler.fit_transform(X_train_raw)\n",
    "X_test = scaler.transform(X_test_raw)"
   ]
  },
  {
   "cell_type": "code",
   "execution_count": 92,
   "id": "fe864d3e",
   "metadata": {
    "execution": {
     "iopub.execute_input": "2025-08-08T03:51:54.009469Z",
     "iopub.status.busy": "2025-08-08T03:51:54.008692Z",
     "iopub.status.idle": "2025-08-08T03:51:54.014122Z",
     "shell.execute_reply": "2025-08-08T03:51:54.013409Z"
    },
    "papermill": {
     "duration": 0.033852,
     "end_time": "2025-08-08T03:51:54.015364",
     "exception": false,
     "start_time": "2025-08-08T03:51:53.981512",
     "status": "completed"
    },
    "tags": []
   },
   "outputs": [
    {
     "data": {
      "text/plain": [
       "array([[ 1.01884116, -0.21938027, -0.38875095, ..., -0.12088825,\n",
       "         1.52387472,  1.09644529],\n",
       "       [ 1.64376461,  0.64624572,  2.57234098, ..., -1.52028666,\n",
       "         0.24645772, -0.43343649],\n",
       "       [-1.16839092, -1.66209024, -0.38875095, ..., -1.52028666,\n",
       "        -0.73592134, -0.43343649],\n",
       "       ...,\n",
       "       [ 0.70637943, -0.21938027, -0.38875095, ...,  0.96917545,\n",
       "         0.25618424, -0.30383078],\n",
       "       [-1.48085264,  1.36760071, -0.38875095, ..., -1.52028666,\n",
       "        -0.73592134, -0.43343649],\n",
       "       [ 1.01884116, -0.50792226, -0.38875095, ...,  1.01722469,\n",
       "         0.20430944,  0.85928021]])"
      ]
     },
     "execution_count": 92,
     "metadata": {},
     "output_type": "execute_result"
    }
   ],
   "source": [
    "X_train"
   ]
  },
  {
   "cell_type": "code",
   "execution_count": 93,
   "id": "68dfbb62",
   "metadata": {
    "execution": {
     "iopub.execute_input": "2025-08-08T03:51:54.070916Z",
     "iopub.status.busy": "2025-08-08T03:51:54.070124Z",
     "iopub.status.idle": "2025-08-08T03:51:54.075639Z",
     "shell.execute_reply": "2025-08-08T03:51:54.074978Z"
    },
    "papermill": {
     "duration": 0.03462,
     "end_time": "2025-08-08T03:51:54.076886",
     "exception": false,
     "start_time": "2025-08-08T03:51:54.042266",
     "status": "completed"
    },
    "tags": []
   },
   "outputs": [
    {
     "data": {
      "text/plain": [
       "array([[ 0.70637943,  1.51187171, -0.38875095, ...,  1.02148941,\n",
       "        -0.73592134, -0.43343649],\n",
       "       [ 0.08145598,  0.50197472,  2.57234098, ...,  1.23102956,\n",
       "        -0.49600038, -0.43343649],\n",
       "       [ 0.70637943, -0.94073525, -0.38875095, ...,  1.30438283,\n",
       "        -0.73592134, -0.43343649],\n",
       "       ...,\n",
       "       [-1.16839092,  0.79051672,  2.57234098, ..., -1.51659057,\n",
       "        -0.07775979, -0.43343649],\n",
       "       [-0.54346747,  1.22332971, -0.38875095, ..., -1.52028666,\n",
       "        -0.73592134,  0.71764924],\n",
       "       [ 0.08145598,  1.51187171, -0.38875095, ..., -0.05293696,\n",
       "        -0.73592134, -0.43343649]])"
      ]
     },
     "execution_count": 93,
     "metadata": {},
     "output_type": "execute_result"
    }
   ],
   "source": [
    "X_test"
   ]
  },
  {
   "cell_type": "markdown",
   "id": "ceab4193",
   "metadata": {
    "papermill": {
     "duration": 0.026145,
     "end_time": "2025-08-08T03:51:54.129815",
     "exception": false,
     "start_time": "2025-08-08T03:51:54.103670",
     "status": "completed"
    },
    "tags": []
   },
   "source": [
    "#### Default Parameters"
   ]
  },
  {
   "cell_type": "code",
   "execution_count": 94,
   "id": "010e22d6",
   "metadata": {
    "execution": {
     "iopub.execute_input": "2025-08-08T03:51:54.192559Z",
     "iopub.status.busy": "2025-08-08T03:51:54.191816Z",
     "iopub.status.idle": "2025-08-08T03:51:54.198507Z",
     "shell.execute_reply": "2025-08-08T03:51:54.197734Z"
    },
    "papermill": {
     "duration": 0.03917,
     "end_time": "2025-08-08T03:51:54.199797",
     "exception": false,
     "start_time": "2025-08-08T03:51:54.160627",
     "status": "completed"
    },
    "tags": []
   },
   "outputs": [
    {
     "data": {
      "text/html": [
       "<style>#sk-container-id-13 {color: black;background-color: white;}#sk-container-id-13 pre{padding: 0;}#sk-container-id-13 div.sk-toggleable {background-color: white;}#sk-container-id-13 label.sk-toggleable__label {cursor: pointer;display: block;width: 100%;margin-bottom: 0;padding: 0.3em;box-sizing: border-box;text-align: center;}#sk-container-id-13 label.sk-toggleable__label-arrow:before {content: \"▸\";float: left;margin-right: 0.25em;color: #696969;}#sk-container-id-13 label.sk-toggleable__label-arrow:hover:before {color: black;}#sk-container-id-13 div.sk-estimator:hover label.sk-toggleable__label-arrow:before {color: black;}#sk-container-id-13 div.sk-toggleable__content {max-height: 0;max-width: 0;overflow: hidden;text-align: left;background-color: #f0f8ff;}#sk-container-id-13 div.sk-toggleable__content pre {margin: 0.2em;color: black;border-radius: 0.25em;background-color: #f0f8ff;}#sk-container-id-13 input.sk-toggleable__control:checked~div.sk-toggleable__content {max-height: 200px;max-width: 100%;overflow: auto;}#sk-container-id-13 input.sk-toggleable__control:checked~label.sk-toggleable__label-arrow:before {content: \"▾\";}#sk-container-id-13 div.sk-estimator input.sk-toggleable__control:checked~label.sk-toggleable__label {background-color: #d4ebff;}#sk-container-id-13 div.sk-label input.sk-toggleable__control:checked~label.sk-toggleable__label {background-color: #d4ebff;}#sk-container-id-13 input.sk-hidden--visually {border: 0;clip: rect(1px 1px 1px 1px);clip: rect(1px, 1px, 1px, 1px);height: 1px;margin: -1px;overflow: hidden;padding: 0;position: absolute;width: 1px;}#sk-container-id-13 div.sk-estimator {font-family: monospace;background-color: #f0f8ff;border: 1px dotted black;border-radius: 0.25em;box-sizing: border-box;margin-bottom: 0.5em;}#sk-container-id-13 div.sk-estimator:hover {background-color: #d4ebff;}#sk-container-id-13 div.sk-parallel-item::after {content: \"\";width: 100%;border-bottom: 1px solid gray;flex-grow: 1;}#sk-container-id-13 div.sk-label:hover label.sk-toggleable__label {background-color: #d4ebff;}#sk-container-id-13 div.sk-serial::before {content: \"\";position: absolute;border-left: 1px solid gray;box-sizing: border-box;top: 0;bottom: 0;left: 50%;z-index: 0;}#sk-container-id-13 div.sk-serial {display: flex;flex-direction: column;align-items: center;background-color: white;padding-right: 0.2em;padding-left: 0.2em;position: relative;}#sk-container-id-13 div.sk-item {position: relative;z-index: 1;}#sk-container-id-13 div.sk-parallel {display: flex;align-items: stretch;justify-content: center;background-color: white;position: relative;}#sk-container-id-13 div.sk-item::before, #sk-container-id-13 div.sk-parallel-item::before {content: \"\";position: absolute;border-left: 1px solid gray;box-sizing: border-box;top: 0;bottom: 0;left: 50%;z-index: -1;}#sk-container-id-13 div.sk-parallel-item {display: flex;flex-direction: column;z-index: 1;position: relative;background-color: white;}#sk-container-id-13 div.sk-parallel-item:first-child::after {align-self: flex-end;width: 50%;}#sk-container-id-13 div.sk-parallel-item:last-child::after {align-self: flex-start;width: 50%;}#sk-container-id-13 div.sk-parallel-item:only-child::after {width: 0;}#sk-container-id-13 div.sk-dashed-wrapped {border: 1px dashed gray;margin: 0 0.4em 0.5em 0.4em;box-sizing: border-box;padding-bottom: 0.4em;background-color: white;}#sk-container-id-13 div.sk-label label {font-family: monospace;font-weight: bold;display: inline-block;line-height: 1.2em;}#sk-container-id-13 div.sk-label-container {text-align: center;}#sk-container-id-13 div.sk-container {/* jupyter's `normalize.less` sets `[hidden] { display: none; }` but bootstrap.min.css set `[hidden] { display: none !important; }` so we also need the `!important` here to be able to override the default hidden behavior on the sphinx rendered scikit-learn.org. See: https://github.com/scikit-learn/scikit-learn/issues/21755 */display: inline-block !important;position: relative;}#sk-container-id-13 div.sk-text-repr-fallback {display: none;}</style><div id=\"sk-container-id-13\" class=\"sk-top-container\"><div class=\"sk-text-repr-fallback\"><pre>LinearRegression()</pre><b>In a Jupyter environment, please rerun this cell to show the HTML representation or trust the notebook. <br />On GitHub, the HTML representation is unable to render, please try loading this page with nbviewer.org.</b></div><div class=\"sk-container\" hidden><div class=\"sk-item\"><div class=\"sk-estimator sk-toggleable\"><input class=\"sk-toggleable__control sk-hidden--visually\" id=\"sk-estimator-id-21\" type=\"checkbox\" checked><label for=\"sk-estimator-id-21\" class=\"sk-toggleable__label sk-toggleable__label-arrow\">LinearRegression</label><div class=\"sk-toggleable__content\"><pre>LinearRegression()</pre></div></div></div></div></div>"
      ],
      "text/plain": [
       "LinearRegression()"
      ]
     },
     "execution_count": 94,
     "metadata": {},
     "output_type": "execute_result"
    }
   ],
   "source": [
    "training_model = LinearRegression()\n",
    "training_model"
   ]
  },
  {
   "cell_type": "code",
   "execution_count": 95,
   "id": "a343343b",
   "metadata": {
    "execution": {
     "iopub.execute_input": "2025-08-08T03:51:54.255504Z",
     "iopub.status.busy": "2025-08-08T03:51:54.254966Z",
     "iopub.status.idle": "2025-08-08T03:51:54.276262Z",
     "shell.execute_reply": "2025-08-08T03:51:54.275539Z"
    },
    "papermill": {
     "duration": 0.050259,
     "end_time": "2025-08-08T03:51:54.278018",
     "exception": false,
     "start_time": "2025-08-08T03:51:54.227759",
     "status": "completed"
    },
    "tags": []
   },
   "outputs": [
    {
     "name": "stdout",
     "output_type": "stream",
     "text": [
      "CPU times: user 18.8 ms, sys: 842 µs, total: 19.6 ms\n",
      "Wall time: 12.9 ms\n"
     ]
    },
    {
     "data": {
      "text/html": [
       "<style>#sk-container-id-14 {color: black;background-color: white;}#sk-container-id-14 pre{padding: 0;}#sk-container-id-14 div.sk-toggleable {background-color: white;}#sk-container-id-14 label.sk-toggleable__label {cursor: pointer;display: block;width: 100%;margin-bottom: 0;padding: 0.3em;box-sizing: border-box;text-align: center;}#sk-container-id-14 label.sk-toggleable__label-arrow:before {content: \"▸\";float: left;margin-right: 0.25em;color: #696969;}#sk-container-id-14 label.sk-toggleable__label-arrow:hover:before {color: black;}#sk-container-id-14 div.sk-estimator:hover label.sk-toggleable__label-arrow:before {color: black;}#sk-container-id-14 div.sk-toggleable__content {max-height: 0;max-width: 0;overflow: hidden;text-align: left;background-color: #f0f8ff;}#sk-container-id-14 div.sk-toggleable__content pre {margin: 0.2em;color: black;border-radius: 0.25em;background-color: #f0f8ff;}#sk-container-id-14 input.sk-toggleable__control:checked~div.sk-toggleable__content {max-height: 200px;max-width: 100%;overflow: auto;}#sk-container-id-14 input.sk-toggleable__control:checked~label.sk-toggleable__label-arrow:before {content: \"▾\";}#sk-container-id-14 div.sk-estimator input.sk-toggleable__control:checked~label.sk-toggleable__label {background-color: #d4ebff;}#sk-container-id-14 div.sk-label input.sk-toggleable__control:checked~label.sk-toggleable__label {background-color: #d4ebff;}#sk-container-id-14 input.sk-hidden--visually {border: 0;clip: rect(1px 1px 1px 1px);clip: rect(1px, 1px, 1px, 1px);height: 1px;margin: -1px;overflow: hidden;padding: 0;position: absolute;width: 1px;}#sk-container-id-14 div.sk-estimator {font-family: monospace;background-color: #f0f8ff;border: 1px dotted black;border-radius: 0.25em;box-sizing: border-box;margin-bottom: 0.5em;}#sk-container-id-14 div.sk-estimator:hover {background-color: #d4ebff;}#sk-container-id-14 div.sk-parallel-item::after {content: \"\";width: 100%;border-bottom: 1px solid gray;flex-grow: 1;}#sk-container-id-14 div.sk-label:hover label.sk-toggleable__label {background-color: #d4ebff;}#sk-container-id-14 div.sk-serial::before {content: \"\";position: absolute;border-left: 1px solid gray;box-sizing: border-box;top: 0;bottom: 0;left: 50%;z-index: 0;}#sk-container-id-14 div.sk-serial {display: flex;flex-direction: column;align-items: center;background-color: white;padding-right: 0.2em;padding-left: 0.2em;position: relative;}#sk-container-id-14 div.sk-item {position: relative;z-index: 1;}#sk-container-id-14 div.sk-parallel {display: flex;align-items: stretch;justify-content: center;background-color: white;position: relative;}#sk-container-id-14 div.sk-item::before, #sk-container-id-14 div.sk-parallel-item::before {content: \"\";position: absolute;border-left: 1px solid gray;box-sizing: border-box;top: 0;bottom: 0;left: 50%;z-index: -1;}#sk-container-id-14 div.sk-parallel-item {display: flex;flex-direction: column;z-index: 1;position: relative;background-color: white;}#sk-container-id-14 div.sk-parallel-item:first-child::after {align-self: flex-end;width: 50%;}#sk-container-id-14 div.sk-parallel-item:last-child::after {align-self: flex-start;width: 50%;}#sk-container-id-14 div.sk-parallel-item:only-child::after {width: 0;}#sk-container-id-14 div.sk-dashed-wrapped {border: 1px dashed gray;margin: 0 0.4em 0.5em 0.4em;box-sizing: border-box;padding-bottom: 0.4em;background-color: white;}#sk-container-id-14 div.sk-label label {font-family: monospace;font-weight: bold;display: inline-block;line-height: 1.2em;}#sk-container-id-14 div.sk-label-container {text-align: center;}#sk-container-id-14 div.sk-container {/* jupyter's `normalize.less` sets `[hidden] { display: none; }` but bootstrap.min.css set `[hidden] { display: none !important; }` so we also need the `!important` here to be able to override the default hidden behavior on the sphinx rendered scikit-learn.org. See: https://github.com/scikit-learn/scikit-learn/issues/21755 */display: inline-block !important;position: relative;}#sk-container-id-14 div.sk-text-repr-fallback {display: none;}</style><div id=\"sk-container-id-14\" class=\"sk-top-container\"><div class=\"sk-text-repr-fallback\"><pre>LinearRegression()</pre><b>In a Jupyter environment, please rerun this cell to show the HTML representation or trust the notebook. <br />On GitHub, the HTML representation is unable to render, please try loading this page with nbviewer.org.</b></div><div class=\"sk-container\" hidden><div class=\"sk-item\"><div class=\"sk-estimator sk-toggleable\"><input class=\"sk-toggleable__control sk-hidden--visually\" id=\"sk-estimator-id-22\" type=\"checkbox\" checked><label for=\"sk-estimator-id-22\" class=\"sk-toggleable__label sk-toggleable__label-arrow\">LinearRegression</label><div class=\"sk-toggleable__content\"><pre>LinearRegression()</pre></div></div></div></div></div>"
      ],
      "text/plain": [
       "LinearRegression()"
      ]
     },
     "execution_count": 95,
     "metadata": {},
     "output_type": "execute_result"
    }
   ],
   "source": [
    "%%time\n",
    "training_model.fit(X_train, y_train)"
   ]
  },
  {
   "cell_type": "code",
   "execution_count": 96,
   "id": "bdade339",
   "metadata": {
    "execution": {
     "iopub.execute_input": "2025-08-08T03:51:54.378165Z",
     "iopub.status.busy": "2025-08-08T03:51:54.377828Z",
     "iopub.status.idle": "2025-08-08T03:51:54.389151Z",
     "shell.execute_reply": "2025-08-08T03:51:54.388520Z"
    },
    "papermill": {
     "duration": 0.065476,
     "end_time": "2025-08-08T03:51:54.390919",
     "exception": false,
     "start_time": "2025-08-08T03:51:54.325443",
     "status": "completed"
    },
    "tags": []
   },
   "outputs": [
    {
     "data": {
      "text/plain": [
       "array([ -0.26909025,  76.54740737,  -0.39364952, ..., 208.39166945,\n",
       "         2.17955861,   0.22869208])"
      ]
     },
     "execution_count": 96,
     "metadata": {},
     "output_type": "execute_result"
    }
   ],
   "source": [
    "y_pred = training_model.predict(X_test)\n",
    "y_pred"
   ]
  },
  {
   "cell_type": "code",
   "execution_count": 97,
   "id": "c7d866b2",
   "metadata": {
    "execution": {
     "iopub.execute_input": "2025-08-08T03:51:54.451630Z",
     "iopub.status.busy": "2025-08-08T03:51:54.451310Z",
     "iopub.status.idle": "2025-08-08T03:51:54.457988Z",
     "shell.execute_reply": "2025-08-08T03:51:54.457315Z"
    },
    "papermill": {
     "duration": 0.040801,
     "end_time": "2025-08-08T03:51:54.459179",
     "exception": false,
     "start_time": "2025-08-08T03:51:54.418378",
     "status": "completed"
    },
    "tags": []
   },
   "outputs": [
    {
     "data": {
      "text/plain": [
       "5158       0.00\n",
       "3831     105.26\n",
       "5117       0.00\n",
       "6326     758.39\n",
       "11359    135.87\n",
       "          ...  \n",
       "10290     74.58\n",
       "13995      0.00\n",
       "9665     241.81\n",
       "2276       0.00\n",
       "4174       0.00\n",
       "Name: SolarRadiation, Length: 2924, dtype: float64"
      ]
     },
     "execution_count": 97,
     "metadata": {},
     "output_type": "execute_result"
    }
   ],
   "source": [
    "y_test"
   ]
  },
  {
   "cell_type": "code",
   "execution_count": 98,
   "id": "65f44ca1",
   "metadata": {
    "execution": {
     "iopub.execute_input": "2025-08-08T03:51:54.519963Z",
     "iopub.status.busy": "2025-08-08T03:51:54.519257Z",
     "iopub.status.idle": "2025-08-08T03:51:54.525395Z",
     "shell.execute_reply": "2025-08-08T03:51:54.524742Z"
    },
    "papermill": {
     "duration": 0.035936,
     "end_time": "2025-08-08T03:51:54.526748",
     "exception": false,
     "start_time": "2025-08-08T03:51:54.490812",
     "status": "completed"
    },
    "tags": []
   },
   "outputs": [],
   "source": [
    "mse = mean_squared_error(y_test, y_pred)\n",
    "mae = mean_absolute_error(y_test, y_pred)\n",
    "r2 = r2_score(y_test, y_pred)\n",
    "rmse = math.sqrt(mse)"
   ]
  },
  {
   "cell_type": "code",
   "execution_count": 99,
   "id": "5fd5b3f6",
   "metadata": {
    "execution": {
     "iopub.execute_input": "2025-08-08T03:51:54.584062Z",
     "iopub.status.busy": "2025-08-08T03:51:54.583277Z",
     "iopub.status.idle": "2025-08-08T03:51:54.588299Z",
     "shell.execute_reply": "2025-08-08T03:51:54.587504Z"
    },
    "papermill": {
     "duration": 0.034893,
     "end_time": "2025-08-08T03:51:54.589610",
     "exception": false,
     "start_time": "2025-08-08T03:51:54.554717",
     "status": "completed"
    },
    "tags": []
   },
   "outputs": [
    {
     "name": "stdout",
     "output_type": "stream",
     "text": [
      "MSE Score: 316.0639288620062\n",
      "MAE Score: 11.568785256532982\n",
      "R2 Score: 0.9966389952287883\n",
      "RMSE Score: 17.778186883425604\n"
     ]
    }
   ],
   "source": [
    "print(\"MSE Score:\", mse)\n",
    "print(\"MAE Score:\", mae)\n",
    "print(\"R2 Score:\", r2)\n",
    "print(\"RMSE Score:\", rmse)"
   ]
  },
  {
   "cell_type": "code",
   "execution_count": 100,
   "id": "b787fe3b",
   "metadata": {
    "execution": {
     "iopub.execute_input": "2025-08-08T03:51:54.647719Z",
     "iopub.status.busy": "2025-08-08T03:51:54.646932Z",
     "iopub.status.idle": "2025-08-08T03:51:54.658790Z",
     "shell.execute_reply": "2025-08-08T03:51:54.657965Z"
    },
    "papermill": {
     "duration": 0.0426,
     "end_time": "2025-08-08T03:51:54.660164",
     "exception": false,
     "start_time": "2025-08-08T03:51:54.617564",
     "status": "completed"
    },
    "tags": []
   },
   "outputs": [
    {
     "name": "stdout",
     "output_type": "stream",
     "text": [
      "✅ Regression model improved with same performance but fewer features!\n",
      "   MSE: 315.880537 ≈ 316.063929 (similar)\n",
      "   R²:  0.996641 ≈ 0.996639 (similar)\n",
      "   Features: 27 → 22 (🎯 5 fewer features!)\n",
      "💾 Registry updated: Model_Training_History/History_Regression.csv\n"
     ]
    }
   ],
   "source": [
    "regression_params = {\n",
    "    'model_name': model_name_for_saving,\n",
    "    'scaler_name': \"StandardScaler\",\n",
    "    'features_list': feature_columns_for_saving,\n",
    "    'target_column': target_name_for_saving,\n",
    "    'mse': mse,\n",
    "    'mae': mae,\n",
    "    'rmse': rmse,\n",
    "    'r2': r2,\n",
    "    'parameters': json.dumps(training_model.get_params())\n",
    "}\n",
    "save_model_performance_if_better('regression', regression_params)"
   ]
  },
  {
   "cell_type": "markdown",
   "id": "089caecc",
   "metadata": {
    "papermill": {
     "duration": 0.027426,
     "end_time": "2025-08-08T03:51:54.715800",
     "exception": false,
     "start_time": "2025-08-08T03:51:54.688374",
     "status": "completed"
    },
    "tags": []
   },
   "source": [
    "#### Tuning with Grid Search"
   ]
  },
  {
   "cell_type": "code",
   "execution_count": 101,
   "id": "378f67c2",
   "metadata": {
    "execution": {
     "iopub.execute_input": "2025-08-08T03:51:54.781976Z",
     "iopub.status.busy": "2025-08-08T03:51:54.781054Z",
     "iopub.status.idle": "2025-08-08T03:51:54.785938Z",
     "shell.execute_reply": "2025-08-08T03:51:54.785151Z"
    },
    "papermill": {
     "duration": 0.041517,
     "end_time": "2025-08-08T03:51:54.787312",
     "exception": false,
     "start_time": "2025-08-08T03:51:54.745795",
     "status": "completed"
    },
    "tags": []
   },
   "outputs": [],
   "source": [
    "grid_param = {\n",
    "    'fit_intercept': [True, False],\n",
    "    'copy_X': [True, False],\n",
    "    'positive': [True, False]\n",
    "}"
   ]
  },
  {
   "cell_type": "code",
   "execution_count": 102,
   "id": "7e98f721",
   "metadata": {
    "execution": {
     "iopub.execute_input": "2025-08-08T03:51:54.846314Z",
     "iopub.status.busy": "2025-08-08T03:51:54.845705Z",
     "iopub.status.idle": "2025-08-08T03:51:54.850056Z",
     "shell.execute_reply": "2025-08-08T03:51:54.849186Z"
    },
    "papermill": {
     "duration": 0.03429,
     "end_time": "2025-08-08T03:51:54.851355",
     "exception": false,
     "start_time": "2025-08-08T03:51:54.817065",
     "status": "completed"
    },
    "tags": []
   },
   "outputs": [],
   "source": [
    "grid_search = GridSearchCV(\n",
    "    LinearRegression(), \n",
    "    grid_param, \n",
    "    cv=5, \n",
    "    scoring='neg_mean_squared_error', \n",
    "    n_jobs=-1, # allow parallel processing, you cant use your own laptop while this runs\n",
    "    verbose=1\n",
    ")"
   ]
  },
  {
   "cell_type": "code",
   "execution_count": 103,
   "id": "87753380",
   "metadata": {
    "execution": {
     "iopub.execute_input": "2025-08-08T03:51:54.908823Z",
     "iopub.status.busy": "2025-08-08T03:51:54.908226Z",
     "iopub.status.idle": "2025-08-08T03:51:55.485568Z",
     "shell.execute_reply": "2025-08-08T03:51:55.484741Z"
    },
    "papermill": {
     "duration": 0.607799,
     "end_time": "2025-08-08T03:51:55.487312",
     "exception": false,
     "start_time": "2025-08-08T03:51:54.879513",
     "status": "completed"
    },
    "tags": []
   },
   "outputs": [
    {
     "name": "stdout",
     "output_type": "stream",
     "text": [
      "Starting hyperparameter tuning...\n",
      "Fitting 5 folds for each of 8 candidates, totalling 40 fits\n",
      "CPU times: user 68.7 ms, sys: 7.18 ms, total: 75.8 ms\n",
      "Wall time: 566 ms\n"
     ]
    },
    {
     "data": {
      "text/html": [
       "<style>#sk-container-id-15 {color: black;background-color: white;}#sk-container-id-15 pre{padding: 0;}#sk-container-id-15 div.sk-toggleable {background-color: white;}#sk-container-id-15 label.sk-toggleable__label {cursor: pointer;display: block;width: 100%;margin-bottom: 0;padding: 0.3em;box-sizing: border-box;text-align: center;}#sk-container-id-15 label.sk-toggleable__label-arrow:before {content: \"▸\";float: left;margin-right: 0.25em;color: #696969;}#sk-container-id-15 label.sk-toggleable__label-arrow:hover:before {color: black;}#sk-container-id-15 div.sk-estimator:hover label.sk-toggleable__label-arrow:before {color: black;}#sk-container-id-15 div.sk-toggleable__content {max-height: 0;max-width: 0;overflow: hidden;text-align: left;background-color: #f0f8ff;}#sk-container-id-15 div.sk-toggleable__content pre {margin: 0.2em;color: black;border-radius: 0.25em;background-color: #f0f8ff;}#sk-container-id-15 input.sk-toggleable__control:checked~div.sk-toggleable__content {max-height: 200px;max-width: 100%;overflow: auto;}#sk-container-id-15 input.sk-toggleable__control:checked~label.sk-toggleable__label-arrow:before {content: \"▾\";}#sk-container-id-15 div.sk-estimator input.sk-toggleable__control:checked~label.sk-toggleable__label {background-color: #d4ebff;}#sk-container-id-15 div.sk-label input.sk-toggleable__control:checked~label.sk-toggleable__label {background-color: #d4ebff;}#sk-container-id-15 input.sk-hidden--visually {border: 0;clip: rect(1px 1px 1px 1px);clip: rect(1px, 1px, 1px, 1px);height: 1px;margin: -1px;overflow: hidden;padding: 0;position: absolute;width: 1px;}#sk-container-id-15 div.sk-estimator {font-family: monospace;background-color: #f0f8ff;border: 1px dotted black;border-radius: 0.25em;box-sizing: border-box;margin-bottom: 0.5em;}#sk-container-id-15 div.sk-estimator:hover {background-color: #d4ebff;}#sk-container-id-15 div.sk-parallel-item::after {content: \"\";width: 100%;border-bottom: 1px solid gray;flex-grow: 1;}#sk-container-id-15 div.sk-label:hover label.sk-toggleable__label {background-color: #d4ebff;}#sk-container-id-15 div.sk-serial::before {content: \"\";position: absolute;border-left: 1px solid gray;box-sizing: border-box;top: 0;bottom: 0;left: 50%;z-index: 0;}#sk-container-id-15 div.sk-serial {display: flex;flex-direction: column;align-items: center;background-color: white;padding-right: 0.2em;padding-left: 0.2em;position: relative;}#sk-container-id-15 div.sk-item {position: relative;z-index: 1;}#sk-container-id-15 div.sk-parallel {display: flex;align-items: stretch;justify-content: center;background-color: white;position: relative;}#sk-container-id-15 div.sk-item::before, #sk-container-id-15 div.sk-parallel-item::before {content: \"\";position: absolute;border-left: 1px solid gray;box-sizing: border-box;top: 0;bottom: 0;left: 50%;z-index: -1;}#sk-container-id-15 div.sk-parallel-item {display: flex;flex-direction: column;z-index: 1;position: relative;background-color: white;}#sk-container-id-15 div.sk-parallel-item:first-child::after {align-self: flex-end;width: 50%;}#sk-container-id-15 div.sk-parallel-item:last-child::after {align-self: flex-start;width: 50%;}#sk-container-id-15 div.sk-parallel-item:only-child::after {width: 0;}#sk-container-id-15 div.sk-dashed-wrapped {border: 1px dashed gray;margin: 0 0.4em 0.5em 0.4em;box-sizing: border-box;padding-bottom: 0.4em;background-color: white;}#sk-container-id-15 div.sk-label label {font-family: monospace;font-weight: bold;display: inline-block;line-height: 1.2em;}#sk-container-id-15 div.sk-label-container {text-align: center;}#sk-container-id-15 div.sk-container {/* jupyter's `normalize.less` sets `[hidden] { display: none; }` but bootstrap.min.css set `[hidden] { display: none !important; }` so we also need the `!important` here to be able to override the default hidden behavior on the sphinx rendered scikit-learn.org. See: https://github.com/scikit-learn/scikit-learn/issues/21755 */display: inline-block !important;position: relative;}#sk-container-id-15 div.sk-text-repr-fallback {display: none;}</style><div id=\"sk-container-id-15\" class=\"sk-top-container\"><div class=\"sk-text-repr-fallback\"><pre>GridSearchCV(cv=5, estimator=LinearRegression(), n_jobs=-1,\n",
       "             param_grid={&#x27;copy_X&#x27;: [True, False],\n",
       "                         &#x27;fit_intercept&#x27;: [True, False],\n",
       "                         &#x27;positive&#x27;: [True, False]},\n",
       "             scoring=&#x27;neg_mean_squared_error&#x27;, verbose=1)</pre><b>In a Jupyter environment, please rerun this cell to show the HTML representation or trust the notebook. <br />On GitHub, the HTML representation is unable to render, please try loading this page with nbviewer.org.</b></div><div class=\"sk-container\" hidden><div class=\"sk-item sk-dashed-wrapped\"><div class=\"sk-label-container\"><div class=\"sk-label sk-toggleable\"><input class=\"sk-toggleable__control sk-hidden--visually\" id=\"sk-estimator-id-23\" type=\"checkbox\" ><label for=\"sk-estimator-id-23\" class=\"sk-toggleable__label sk-toggleable__label-arrow\">GridSearchCV</label><div class=\"sk-toggleable__content\"><pre>GridSearchCV(cv=5, estimator=LinearRegression(), n_jobs=-1,\n",
       "             param_grid={&#x27;copy_X&#x27;: [True, False],\n",
       "                         &#x27;fit_intercept&#x27;: [True, False],\n",
       "                         &#x27;positive&#x27;: [True, False]},\n",
       "             scoring=&#x27;neg_mean_squared_error&#x27;, verbose=1)</pre></div></div></div><div class=\"sk-parallel\"><div class=\"sk-parallel-item\"><div class=\"sk-item\"><div class=\"sk-label-container\"><div class=\"sk-label sk-toggleable\"><input class=\"sk-toggleable__control sk-hidden--visually\" id=\"sk-estimator-id-24\" type=\"checkbox\" ><label for=\"sk-estimator-id-24\" class=\"sk-toggleable__label sk-toggleable__label-arrow\">estimator: LinearRegression</label><div class=\"sk-toggleable__content\"><pre>LinearRegression()</pre></div></div></div><div class=\"sk-serial\"><div class=\"sk-item\"><div class=\"sk-estimator sk-toggleable\"><input class=\"sk-toggleable__control sk-hidden--visually\" id=\"sk-estimator-id-25\" type=\"checkbox\" ><label for=\"sk-estimator-id-25\" class=\"sk-toggleable__label sk-toggleable__label-arrow\">LinearRegression</label><div class=\"sk-toggleable__content\"><pre>LinearRegression()</pre></div></div></div></div></div></div></div></div></div></div>"
      ],
      "text/plain": [
       "GridSearchCV(cv=5, estimator=LinearRegression(), n_jobs=-1,\n",
       "             param_grid={'copy_X': [True, False],\n",
       "                         'fit_intercept': [True, False],\n",
       "                         'positive': [True, False]},\n",
       "             scoring='neg_mean_squared_error', verbose=1)"
      ]
     },
     "execution_count": 103,
     "metadata": {},
     "output_type": "execute_result"
    }
   ],
   "source": [
    "%%time\n",
    "print(\"Starting hyperparameter tuning...\")\n",
    "grid_search.fit(X_train, y_train)"
   ]
  },
  {
   "cell_type": "code",
   "execution_count": 104,
   "id": "bbc42364",
   "metadata": {
    "execution": {
     "iopub.execute_input": "2025-08-08T03:51:55.584979Z",
     "iopub.status.busy": "2025-08-08T03:51:55.584653Z",
     "iopub.status.idle": "2025-08-08T03:51:55.592266Z",
     "shell.execute_reply": "2025-08-08T03:51:55.591522Z"
    },
    "papermill": {
     "duration": 0.058212,
     "end_time": "2025-08-08T03:51:55.593828",
     "exception": false,
     "start_time": "2025-08-08T03:51:55.535616",
     "status": "completed"
    },
    "tags": []
   },
   "outputs": [
    {
     "name": "stdout",
     "output_type": "stream",
     "text": [
      "TUNING RESULTS\n",
      "==================================================\n",
      "Best Parameters: {'copy_X': True, 'fit_intercept': True, 'positive': False}\n",
      "Best Cross-Validation Score (Negative MSE): -304.66226624983676\n",
      "Best Cross-Validation Score (MSE): 304.66226624983676\n",
      "Best Cross-Validation Score (RMSE): 17.454577229192253\n"
     ]
    }
   ],
   "source": [
    "print(\"TUNING RESULTS\")\n",
    "print(\"=\"*50)\n",
    "print(\"Best Parameters:\", grid_search.best_params_)\n",
    "print(\"Best Cross-Validation Score (Negative MSE):\", grid_search.best_score_)\n",
    "print(\"Best Cross-Validation Score (MSE):\", -grid_search.best_score_)\n",
    "print(\"Best Cross-Validation Score (RMSE):\", math.sqrt(-grid_search.best_score_))"
   ]
  },
  {
   "cell_type": "code",
   "execution_count": 105,
   "id": "6596120c",
   "metadata": {
    "execution": {
     "iopub.execute_input": "2025-08-08T03:51:55.652651Z",
     "iopub.status.busy": "2025-08-08T03:51:55.651999Z",
     "iopub.status.idle": "2025-08-08T03:51:55.656347Z",
     "shell.execute_reply": "2025-08-08T03:51:55.655684Z"
    },
    "papermill": {
     "duration": 0.034446,
     "end_time": "2025-08-08T03:51:55.657675",
     "exception": false,
     "start_time": "2025-08-08T03:51:55.623229",
     "status": "completed"
    },
    "tags": []
   },
   "outputs": [],
   "source": [
    "grid_search_best_model = grid_search.best_estimator_\n",
    "y_pred = grid_search_best_model.predict(X_test)"
   ]
  },
  {
   "cell_type": "code",
   "execution_count": 106,
   "id": "8d02128c",
   "metadata": {
    "execution": {
     "iopub.execute_input": "2025-08-08T03:51:55.715423Z",
     "iopub.status.busy": "2025-08-08T03:51:55.714831Z",
     "iopub.status.idle": "2025-08-08T03:51:55.720708Z",
     "shell.execute_reply": "2025-08-08T03:51:55.720018Z"
    },
    "papermill": {
     "duration": 0.035875,
     "end_time": "2025-08-08T03:51:55.721899",
     "exception": false,
     "start_time": "2025-08-08T03:51:55.686024",
     "status": "completed"
    },
    "tags": []
   },
   "outputs": [],
   "source": [
    "mse_grid_search = mean_squared_error(y_test, y_pred)\n",
    "mae_grid_search = mean_absolute_error(y_test, y_pred)\n",
    "r2_grid_search = r2_score(y_test, y_pred)\n",
    "rmse_grid_search = math.sqrt(mse_grid_search)"
   ]
  },
  {
   "cell_type": "code",
   "execution_count": 107,
   "id": "79644576",
   "metadata": {
    "execution": {
     "iopub.execute_input": "2025-08-08T03:51:55.780019Z",
     "iopub.status.busy": "2025-08-08T03:51:55.779718Z",
     "iopub.status.idle": "2025-08-08T03:51:55.784298Z",
     "shell.execute_reply": "2025-08-08T03:51:55.783445Z"
    },
    "papermill": {
     "duration": 0.035202,
     "end_time": "2025-08-08T03:51:55.785616",
     "exception": false,
     "start_time": "2025-08-08T03:51:55.750414",
     "status": "completed"
    },
    "tags": []
   },
   "outputs": [
    {
     "name": "stdout",
     "output_type": "stream",
     "text": [
      "MSE Score: 316.0639288620062\n",
      "MAE Score: 11.568785256532982\n",
      "R2 Score: 0.9966389952287883\n",
      "RMSE Score: 17.778186883425604\n"
     ]
    }
   ],
   "source": [
    "print(\"MSE Score:\", mse_grid_search)\n",
    "print(\"MAE Score:\", mae_grid_search)\n",
    "print(\"R2 Score:\", r2_grid_search)\n",
    "print(\"RMSE Score:\", rmse_grid_search)"
   ]
  },
  {
   "cell_type": "code",
   "execution_count": 108,
   "id": "7461da01",
   "metadata": {
    "execution": {
     "iopub.execute_input": "2025-08-08T03:51:55.843884Z",
     "iopub.status.busy": "2025-08-08T03:51:55.843102Z",
     "iopub.status.idle": "2025-08-08T03:51:55.855740Z",
     "shell.execute_reply": "2025-08-08T03:51:55.854947Z"
    },
    "papermill": {
     "duration": 0.043036,
     "end_time": "2025-08-08T03:51:55.857091",
     "exception": false,
     "start_time": "2025-08-08T03:51:55.814055",
     "status": "completed"
    },
    "tags": []
   },
   "outputs": [
    {
     "name": "stdout",
     "output_type": "stream",
     "text": [
      "✅ Regression model improved with better performance!\n",
      "   MSE: 316.200197 → 316.063929 (lower is better)\n",
      "   R²:  0.996638 → 0.996639 (higher is better)\n",
      "   Features: 27 → 22\n",
      "💾 Registry updated: Model_Training_History/History_Regression.csv\n"
     ]
    }
   ],
   "source": [
    "regression_params = {\n",
    "    'model_name': model_name_for_saving + \" Tuned\",\n",
    "    'scaler_name': \"StandardScaler\",\n",
    "    'features_list': feature_columns_for_saving,\n",
    "    'target_column': target_name_for_saving,\n",
    "    'mse': mse_grid_search,\n",
    "    'mae': mae_grid_search,\n",
    "    'rmse': rmse_grid_search,\n",
    "    'r2': r2_grid_search,\n",
    "    'parameters' : json.dumps({\n",
    "        \"best_params\": grid_search.best_params_,\n",
    "        \"cv_score\": grid_search.best_score_,\n",
    "        \"all_params\": grid_search_best_model.get_params()\n",
    "    })\n",
    "}\n",
    "save_model_performance_if_better('regression', regression_params)"
   ]
  },
  {
   "cell_type": "markdown",
   "id": "3efb85fd",
   "metadata": {
    "papermill": {
     "duration": 0.027905,
     "end_time": "2025-08-08T03:51:55.913923",
     "exception": false,
     "start_time": "2025-08-08T03:51:55.886018",
     "status": "completed"
    },
    "tags": []
   },
   "source": [
    "### Robust Scaler"
   ]
  },
  {
   "cell_type": "code",
   "execution_count": 109,
   "id": "6d370d16",
   "metadata": {
    "execution": {
     "iopub.execute_input": "2025-08-08T03:51:55.972258Z",
     "iopub.status.busy": "2025-08-08T03:51:55.971719Z",
     "iopub.status.idle": "2025-08-08T03:51:55.995763Z",
     "shell.execute_reply": "2025-08-08T03:51:55.995026Z"
    },
    "papermill": {
     "duration": 0.055039,
     "end_time": "2025-08-08T03:51:55.997363",
     "exception": false,
     "start_time": "2025-08-08T03:51:55.942324",
     "status": "completed"
    },
    "tags": []
   },
   "outputs": [],
   "source": [
    "scaler = RobustScaler()\n",
    "X_train = scaler.fit_transform(X_train_raw)\n",
    "X_test = scaler.transform(X_test_raw)"
   ]
  },
  {
   "cell_type": "code",
   "execution_count": 110,
   "id": "fa1b3700",
   "metadata": {
    "execution": {
     "iopub.execute_input": "2025-08-08T03:51:56.055282Z",
     "iopub.status.busy": "2025-08-08T03:51:56.054650Z",
     "iopub.status.idle": "2025-08-08T03:51:56.060055Z",
     "shell.execute_reply": "2025-08-08T03:51:56.059375Z"
    },
    "papermill": {
     "duration": 0.035382,
     "end_time": "2025-08-08T03:51:56.061249",
     "exception": false,
     "start_time": "2025-08-08T03:51:56.025867",
     "status": "completed"
    },
    "tags": []
   },
   "outputs": [
    {
     "data": {
      "text/plain": [
       "array([[ 0.6       , -0.16666667,  0.        , ..., -0.03738547,\n",
       "         1.44008264,  8.87596899],\n",
       "       [ 1.        ,  0.33333333,  1.        , ..., -0.84268652,\n",
       "         0.62603306,  0.        ],\n",
       "       [-0.8       , -1.        ,  0.        , ..., -0.84268652,\n",
       "         0.        ,  0.        ],\n",
       "       ...,\n",
       "       [ 0.4       , -0.16666667,  0.        , ...,  0.5899051 ,\n",
       "         0.6322314 ,  0.75193798],\n",
       "       [-1.        ,  0.75      ,  0.        , ..., -0.84268652,\n",
       "         0.        ,  0.        ],\n",
       "       [ 0.6       , -0.33333333,  0.        , ...,  0.61755563,\n",
       "         0.59917355,  7.5       ]])"
      ]
     },
     "execution_count": 110,
     "metadata": {},
     "output_type": "execute_result"
    }
   ],
   "source": [
    "X_train"
   ]
  },
  {
   "cell_type": "code",
   "execution_count": 111,
   "id": "0e41d139",
   "metadata": {
    "execution": {
     "iopub.execute_input": "2025-08-08T03:51:56.120760Z",
     "iopub.status.busy": "2025-08-08T03:51:56.120123Z",
     "iopub.status.idle": "2025-08-08T03:51:56.125668Z",
     "shell.execute_reply": "2025-08-08T03:51:56.125012Z"
    },
    "papermill": {
     "duration": 0.036352,
     "end_time": "2025-08-08T03:51:56.126944",
     "exception": false,
     "start_time": "2025-08-08T03:51:56.090592",
     "status": "completed"
    },
    "tags": []
   },
   "outputs": [
    {
     "data": {
      "text/plain": [
       "array([[ 4.00000000e-01,  8.33333333e-01,  0.00000000e+00, ...,\n",
       "         6.20009817e-01,  0.00000000e+00,  0.00000000e+00],\n",
       "       [ 0.00000000e+00,  2.50000000e-01,  1.00000000e+00, ...,\n",
       "         7.40592277e-01,  1.52892562e-01,  0.00000000e+00],\n",
       "       [ 4.00000000e-01, -5.83333333e-01,  0.00000000e+00, ...,\n",
       "         7.82804319e-01,  0.00000000e+00,  0.00000000e+00],\n",
       "       ...,\n",
       "       [-8.00000000e-01,  4.16666667e-01,  1.00000000e+00, ...,\n",
       "        -8.40559555e-01,  4.19421488e-01,  0.00000000e+00],\n",
       "       [-4.00000000e-01,  6.66666667e-01,  0.00000000e+00, ...,\n",
       "        -8.42686518e-01,  0.00000000e+00,  6.67829457e+00],\n",
       "       [ 0.00000000e+00,  8.33333333e-01,  0.00000000e+00, ...,\n",
       "         1.71793194e-03,  0.00000000e+00,  0.00000000e+00]])"
      ]
     },
     "execution_count": 111,
     "metadata": {},
     "output_type": "execute_result"
    }
   ],
   "source": [
    "X_test"
   ]
  },
  {
   "cell_type": "markdown",
   "id": "90c4e6ec",
   "metadata": {
    "papermill": {
     "duration": 0.02833,
     "end_time": "2025-08-08T03:51:56.184671",
     "exception": false,
     "start_time": "2025-08-08T03:51:56.156341",
     "status": "completed"
    },
    "tags": []
   },
   "source": [
    "#### Default Parameters"
   ]
  },
  {
   "cell_type": "code",
   "execution_count": 112,
   "id": "521b8a9e",
   "metadata": {
    "execution": {
     "iopub.execute_input": "2025-08-08T03:51:56.244385Z",
     "iopub.status.busy": "2025-08-08T03:51:56.243771Z",
     "iopub.status.idle": "2025-08-08T03:51:56.249120Z",
     "shell.execute_reply": "2025-08-08T03:51:56.248494Z"
    },
    "papermill": {
     "duration": 0.036327,
     "end_time": "2025-08-08T03:51:56.250342",
     "exception": false,
     "start_time": "2025-08-08T03:51:56.214015",
     "status": "completed"
    },
    "tags": []
   },
   "outputs": [
    {
     "data": {
      "text/html": [
       "<style>#sk-container-id-16 {color: black;background-color: white;}#sk-container-id-16 pre{padding: 0;}#sk-container-id-16 div.sk-toggleable {background-color: white;}#sk-container-id-16 label.sk-toggleable__label {cursor: pointer;display: block;width: 100%;margin-bottom: 0;padding: 0.3em;box-sizing: border-box;text-align: center;}#sk-container-id-16 label.sk-toggleable__label-arrow:before {content: \"▸\";float: left;margin-right: 0.25em;color: #696969;}#sk-container-id-16 label.sk-toggleable__label-arrow:hover:before {color: black;}#sk-container-id-16 div.sk-estimator:hover label.sk-toggleable__label-arrow:before {color: black;}#sk-container-id-16 div.sk-toggleable__content {max-height: 0;max-width: 0;overflow: hidden;text-align: left;background-color: #f0f8ff;}#sk-container-id-16 div.sk-toggleable__content pre {margin: 0.2em;color: black;border-radius: 0.25em;background-color: #f0f8ff;}#sk-container-id-16 input.sk-toggleable__control:checked~div.sk-toggleable__content {max-height: 200px;max-width: 100%;overflow: auto;}#sk-container-id-16 input.sk-toggleable__control:checked~label.sk-toggleable__label-arrow:before {content: \"▾\";}#sk-container-id-16 div.sk-estimator input.sk-toggleable__control:checked~label.sk-toggleable__label {background-color: #d4ebff;}#sk-container-id-16 div.sk-label input.sk-toggleable__control:checked~label.sk-toggleable__label {background-color: #d4ebff;}#sk-container-id-16 input.sk-hidden--visually {border: 0;clip: rect(1px 1px 1px 1px);clip: rect(1px, 1px, 1px, 1px);height: 1px;margin: -1px;overflow: hidden;padding: 0;position: absolute;width: 1px;}#sk-container-id-16 div.sk-estimator {font-family: monospace;background-color: #f0f8ff;border: 1px dotted black;border-radius: 0.25em;box-sizing: border-box;margin-bottom: 0.5em;}#sk-container-id-16 div.sk-estimator:hover {background-color: #d4ebff;}#sk-container-id-16 div.sk-parallel-item::after {content: \"\";width: 100%;border-bottom: 1px solid gray;flex-grow: 1;}#sk-container-id-16 div.sk-label:hover label.sk-toggleable__label {background-color: #d4ebff;}#sk-container-id-16 div.sk-serial::before {content: \"\";position: absolute;border-left: 1px solid gray;box-sizing: border-box;top: 0;bottom: 0;left: 50%;z-index: 0;}#sk-container-id-16 div.sk-serial {display: flex;flex-direction: column;align-items: center;background-color: white;padding-right: 0.2em;padding-left: 0.2em;position: relative;}#sk-container-id-16 div.sk-item {position: relative;z-index: 1;}#sk-container-id-16 div.sk-parallel {display: flex;align-items: stretch;justify-content: center;background-color: white;position: relative;}#sk-container-id-16 div.sk-item::before, #sk-container-id-16 div.sk-parallel-item::before {content: \"\";position: absolute;border-left: 1px solid gray;box-sizing: border-box;top: 0;bottom: 0;left: 50%;z-index: -1;}#sk-container-id-16 div.sk-parallel-item {display: flex;flex-direction: column;z-index: 1;position: relative;background-color: white;}#sk-container-id-16 div.sk-parallel-item:first-child::after {align-self: flex-end;width: 50%;}#sk-container-id-16 div.sk-parallel-item:last-child::after {align-self: flex-start;width: 50%;}#sk-container-id-16 div.sk-parallel-item:only-child::after {width: 0;}#sk-container-id-16 div.sk-dashed-wrapped {border: 1px dashed gray;margin: 0 0.4em 0.5em 0.4em;box-sizing: border-box;padding-bottom: 0.4em;background-color: white;}#sk-container-id-16 div.sk-label label {font-family: monospace;font-weight: bold;display: inline-block;line-height: 1.2em;}#sk-container-id-16 div.sk-label-container {text-align: center;}#sk-container-id-16 div.sk-container {/* jupyter's `normalize.less` sets `[hidden] { display: none; }` but bootstrap.min.css set `[hidden] { display: none !important; }` so we also need the `!important` here to be able to override the default hidden behavior on the sphinx rendered scikit-learn.org. See: https://github.com/scikit-learn/scikit-learn/issues/21755 */display: inline-block !important;position: relative;}#sk-container-id-16 div.sk-text-repr-fallback {display: none;}</style><div id=\"sk-container-id-16\" class=\"sk-top-container\"><div class=\"sk-text-repr-fallback\"><pre>LinearRegression()</pre><b>In a Jupyter environment, please rerun this cell to show the HTML representation or trust the notebook. <br />On GitHub, the HTML representation is unable to render, please try loading this page with nbviewer.org.</b></div><div class=\"sk-container\" hidden><div class=\"sk-item\"><div class=\"sk-estimator sk-toggleable\"><input class=\"sk-toggleable__control sk-hidden--visually\" id=\"sk-estimator-id-26\" type=\"checkbox\" checked><label for=\"sk-estimator-id-26\" class=\"sk-toggleable__label sk-toggleable__label-arrow\">LinearRegression</label><div class=\"sk-toggleable__content\"><pre>LinearRegression()</pre></div></div></div></div></div>"
      ],
      "text/plain": [
       "LinearRegression()"
      ]
     },
     "execution_count": 112,
     "metadata": {},
     "output_type": "execute_result"
    }
   ],
   "source": [
    "training_model = LinearRegression()\n",
    "training_model"
   ]
  },
  {
   "cell_type": "code",
   "execution_count": 113,
   "id": "980ec521",
   "metadata": {
    "execution": {
     "iopub.execute_input": "2025-08-08T03:51:56.309679Z",
     "iopub.status.busy": "2025-08-08T03:51:56.308908Z",
     "iopub.status.idle": "2025-08-08T03:51:56.330111Z",
     "shell.execute_reply": "2025-08-08T03:51:56.329293Z"
    },
    "papermill": {
     "duration": 0.052348,
     "end_time": "2025-08-08T03:51:56.331904",
     "exception": false,
     "start_time": "2025-08-08T03:51:56.279556",
     "status": "completed"
    },
    "tags": []
   },
   "outputs": [
    {
     "name": "stdout",
     "output_type": "stream",
     "text": [
      "CPU times: user 17.4 ms, sys: 926 µs, total: 18.3 ms\n",
      "Wall time: 12.4 ms\n"
     ]
    },
    {
     "data": {
      "text/html": [
       "<style>#sk-container-id-17 {color: black;background-color: white;}#sk-container-id-17 pre{padding: 0;}#sk-container-id-17 div.sk-toggleable {background-color: white;}#sk-container-id-17 label.sk-toggleable__label {cursor: pointer;display: block;width: 100%;margin-bottom: 0;padding: 0.3em;box-sizing: border-box;text-align: center;}#sk-container-id-17 label.sk-toggleable__label-arrow:before {content: \"▸\";float: left;margin-right: 0.25em;color: #696969;}#sk-container-id-17 label.sk-toggleable__label-arrow:hover:before {color: black;}#sk-container-id-17 div.sk-estimator:hover label.sk-toggleable__label-arrow:before {color: black;}#sk-container-id-17 div.sk-toggleable__content {max-height: 0;max-width: 0;overflow: hidden;text-align: left;background-color: #f0f8ff;}#sk-container-id-17 div.sk-toggleable__content pre {margin: 0.2em;color: black;border-radius: 0.25em;background-color: #f0f8ff;}#sk-container-id-17 input.sk-toggleable__control:checked~div.sk-toggleable__content {max-height: 200px;max-width: 100%;overflow: auto;}#sk-container-id-17 input.sk-toggleable__control:checked~label.sk-toggleable__label-arrow:before {content: \"▾\";}#sk-container-id-17 div.sk-estimator input.sk-toggleable__control:checked~label.sk-toggleable__label {background-color: #d4ebff;}#sk-container-id-17 div.sk-label input.sk-toggleable__control:checked~label.sk-toggleable__label {background-color: #d4ebff;}#sk-container-id-17 input.sk-hidden--visually {border: 0;clip: rect(1px 1px 1px 1px);clip: rect(1px, 1px, 1px, 1px);height: 1px;margin: -1px;overflow: hidden;padding: 0;position: absolute;width: 1px;}#sk-container-id-17 div.sk-estimator {font-family: monospace;background-color: #f0f8ff;border: 1px dotted black;border-radius: 0.25em;box-sizing: border-box;margin-bottom: 0.5em;}#sk-container-id-17 div.sk-estimator:hover {background-color: #d4ebff;}#sk-container-id-17 div.sk-parallel-item::after {content: \"\";width: 100%;border-bottom: 1px solid gray;flex-grow: 1;}#sk-container-id-17 div.sk-label:hover label.sk-toggleable__label {background-color: #d4ebff;}#sk-container-id-17 div.sk-serial::before {content: \"\";position: absolute;border-left: 1px solid gray;box-sizing: border-box;top: 0;bottom: 0;left: 50%;z-index: 0;}#sk-container-id-17 div.sk-serial {display: flex;flex-direction: column;align-items: center;background-color: white;padding-right: 0.2em;padding-left: 0.2em;position: relative;}#sk-container-id-17 div.sk-item {position: relative;z-index: 1;}#sk-container-id-17 div.sk-parallel {display: flex;align-items: stretch;justify-content: center;background-color: white;position: relative;}#sk-container-id-17 div.sk-item::before, #sk-container-id-17 div.sk-parallel-item::before {content: \"\";position: absolute;border-left: 1px solid gray;box-sizing: border-box;top: 0;bottom: 0;left: 50%;z-index: -1;}#sk-container-id-17 div.sk-parallel-item {display: flex;flex-direction: column;z-index: 1;position: relative;background-color: white;}#sk-container-id-17 div.sk-parallel-item:first-child::after {align-self: flex-end;width: 50%;}#sk-container-id-17 div.sk-parallel-item:last-child::after {align-self: flex-start;width: 50%;}#sk-container-id-17 div.sk-parallel-item:only-child::after {width: 0;}#sk-container-id-17 div.sk-dashed-wrapped {border: 1px dashed gray;margin: 0 0.4em 0.5em 0.4em;box-sizing: border-box;padding-bottom: 0.4em;background-color: white;}#sk-container-id-17 div.sk-label label {font-family: monospace;font-weight: bold;display: inline-block;line-height: 1.2em;}#sk-container-id-17 div.sk-label-container {text-align: center;}#sk-container-id-17 div.sk-container {/* jupyter's `normalize.less` sets `[hidden] { display: none; }` but bootstrap.min.css set `[hidden] { display: none !important; }` so we also need the `!important` here to be able to override the default hidden behavior on the sphinx rendered scikit-learn.org. See: https://github.com/scikit-learn/scikit-learn/issues/21755 */display: inline-block !important;position: relative;}#sk-container-id-17 div.sk-text-repr-fallback {display: none;}</style><div id=\"sk-container-id-17\" class=\"sk-top-container\"><div class=\"sk-text-repr-fallback\"><pre>LinearRegression()</pre><b>In a Jupyter environment, please rerun this cell to show the HTML representation or trust the notebook. <br />On GitHub, the HTML representation is unable to render, please try loading this page with nbviewer.org.</b></div><div class=\"sk-container\" hidden><div class=\"sk-item\"><div class=\"sk-estimator sk-toggleable\"><input class=\"sk-toggleable__control sk-hidden--visually\" id=\"sk-estimator-id-27\" type=\"checkbox\" checked><label for=\"sk-estimator-id-27\" class=\"sk-toggleable__label sk-toggleable__label-arrow\">LinearRegression</label><div class=\"sk-toggleable__content\"><pre>LinearRegression()</pre></div></div></div></div></div>"
      ],
      "text/plain": [
       "LinearRegression()"
      ]
     },
     "execution_count": 113,
     "metadata": {},
     "output_type": "execute_result"
    }
   ],
   "source": [
    "%%time\n",
    "training_model.fit(X_train, y_train)"
   ]
  },
  {
   "cell_type": "code",
   "execution_count": 114,
   "id": "c960cdb7",
   "metadata": {
    "execution": {
     "iopub.execute_input": "2025-08-08T03:51:56.433786Z",
     "iopub.status.busy": "2025-08-08T03:51:56.432281Z",
     "iopub.status.idle": "2025-08-08T03:51:56.443869Z",
     "shell.execute_reply": "2025-08-08T03:51:56.441525Z"
    },
    "papermill": {
     "duration": 0.063617,
     "end_time": "2025-08-08T03:51:56.445363",
     "exception": false,
     "start_time": "2025-08-08T03:51:56.381746",
     "status": "completed"
    },
    "tags": []
   },
   "outputs": [
    {
     "data": {
      "text/plain": [
       "array([-5.36719292e-01,  7.63450678e+01, -3.11913747e-01, ...,\n",
       "        2.08069820e+02,  2.13574607e+00, -1.21869427e-01])"
      ]
     },
     "execution_count": 114,
     "metadata": {},
     "output_type": "execute_result"
    }
   ],
   "source": [
    "y_pred = training_model.predict(X_test)\n",
    "y_pred"
   ]
  },
  {
   "cell_type": "code",
   "execution_count": 115,
   "id": "e7cf7d43",
   "metadata": {
    "execution": {
     "iopub.execute_input": "2025-08-08T03:51:56.506914Z",
     "iopub.status.busy": "2025-08-08T03:51:56.506603Z",
     "iopub.status.idle": "2025-08-08T03:51:56.513051Z",
     "shell.execute_reply": "2025-08-08T03:51:56.512271Z"
    },
    "papermill": {
     "duration": 0.039425,
     "end_time": "2025-08-08T03:51:56.514346",
     "exception": false,
     "start_time": "2025-08-08T03:51:56.474921",
     "status": "completed"
    },
    "tags": []
   },
   "outputs": [
    {
     "data": {
      "text/plain": [
       "5158       0.00\n",
       "3831     105.26\n",
       "5117       0.00\n",
       "6326     758.39\n",
       "11359    135.87\n",
       "          ...  \n",
       "10290     74.58\n",
       "13995      0.00\n",
       "9665     241.81\n",
       "2276       0.00\n",
       "4174       0.00\n",
       "Name: SolarRadiation, Length: 2924, dtype: float64"
      ]
     },
     "execution_count": 115,
     "metadata": {},
     "output_type": "execute_result"
    }
   ],
   "source": [
    "y_test"
   ]
  },
  {
   "cell_type": "code",
   "execution_count": 116,
   "id": "fa5c0400",
   "metadata": {
    "execution": {
     "iopub.execute_input": "2025-08-08T03:51:56.574446Z",
     "iopub.status.busy": "2025-08-08T03:51:56.573726Z",
     "iopub.status.idle": "2025-08-08T03:51:56.580158Z",
     "shell.execute_reply": "2025-08-08T03:51:56.579400Z"
    },
    "papermill": {
     "duration": 0.037306,
     "end_time": "2025-08-08T03:51:56.581351",
     "exception": false,
     "start_time": "2025-08-08T03:51:56.544045",
     "status": "completed"
    },
    "tags": []
   },
   "outputs": [],
   "source": [
    "mse = mean_squared_error(y_test, y_pred)\n",
    "mae = mean_absolute_error(y_test, y_pred)\n",
    "r2 = r2_score(y_test, y_pred)\n",
    "rmse = math.sqrt(mse)"
   ]
  },
  {
   "cell_type": "code",
   "execution_count": 117,
   "id": "edfd321b",
   "metadata": {
    "execution": {
     "iopub.execute_input": "2025-08-08T03:51:56.641404Z",
     "iopub.status.busy": "2025-08-08T03:51:56.640699Z",
     "iopub.status.idle": "2025-08-08T03:51:56.645387Z",
     "shell.execute_reply": "2025-08-08T03:51:56.644551Z"
    },
    "papermill": {
     "duration": 0.035912,
     "end_time": "2025-08-08T03:51:56.646680",
     "exception": false,
     "start_time": "2025-08-08T03:51:56.610768",
     "status": "completed"
    },
    "tags": []
   },
   "outputs": [
    {
     "name": "stdout",
     "output_type": "stream",
     "text": [
      "MSE Score: 315.86788236926304\n",
      "MAE Score: 11.525598133724737\n",
      "R2 Score: 0.996641079975377\n",
      "RMSE Score: 17.772672347434504\n"
     ]
    }
   ],
   "source": [
    "print(\"MSE Score:\", mse)\n",
    "print(\"MAE Score:\", mae)\n",
    "print(\"R2 Score:\", r2)\n",
    "print(\"RMSE Score:\", rmse)"
   ]
  },
  {
   "cell_type": "code",
   "execution_count": 118,
   "id": "8d154b58",
   "metadata": {
    "execution": {
     "iopub.execute_input": "2025-08-08T03:51:56.706463Z",
     "iopub.status.busy": "2025-08-08T03:51:56.705842Z",
     "iopub.status.idle": "2025-08-08T03:51:56.717419Z",
     "shell.execute_reply": "2025-08-08T03:51:56.716698Z"
    },
    "papermill": {
     "duration": 0.04305,
     "end_time": "2025-08-08T03:51:56.718709",
     "exception": false,
     "start_time": "2025-08-08T03:51:56.675659",
     "status": "completed"
    },
    "tags": []
   },
   "outputs": [
    {
     "name": "stdout",
     "output_type": "stream",
     "text": [
      "✅ Regression model improved with better performance!\n",
      "   MSE: 315.880922 → 315.867882 (lower is better)\n",
      "   R²:  0.996641 → 0.996641 (higher is better)\n",
      "   Features: 27 → 22\n",
      "💾 Registry updated: Model_Training_History/History_Regression.csv\n"
     ]
    }
   ],
   "source": [
    "regression_params = {\n",
    "    'model_name': model_name_for_saving,\n",
    "    'scaler_name': \"RobustScaler\",\n",
    "    'features_list': feature_columns_for_saving,\n",
    "    'target_column': target_name_for_saving,\n",
    "    'mse': mse,\n",
    "    'mae': mae,\n",
    "    'rmse': rmse,\n",
    "    'r2': r2,\n",
    "    'parameters': json.dumps(training_model.get_params())\n",
    "}\n",
    "save_model_performance_if_better('regression', regression_params)"
   ]
  },
  {
   "cell_type": "markdown",
   "id": "62cd0868",
   "metadata": {
    "papermill": {
     "duration": 0.028821,
     "end_time": "2025-08-08T03:51:56.777396",
     "exception": false,
     "start_time": "2025-08-08T03:51:56.748575",
     "status": "completed"
    },
    "tags": []
   },
   "source": [
    "#### Tuning with Grid Search"
   ]
  },
  {
   "cell_type": "code",
   "execution_count": 119,
   "id": "3cbe5379",
   "metadata": {
    "execution": {
     "iopub.execute_input": "2025-08-08T03:51:56.838428Z",
     "iopub.status.busy": "2025-08-08T03:51:56.838140Z",
     "iopub.status.idle": "2025-08-08T03:51:56.842110Z",
     "shell.execute_reply": "2025-08-08T03:51:56.841457Z"
    },
    "papermill": {
     "duration": 0.036417,
     "end_time": "2025-08-08T03:51:56.843442",
     "exception": false,
     "start_time": "2025-08-08T03:51:56.807025",
     "status": "completed"
    },
    "tags": []
   },
   "outputs": [],
   "source": [
    "grid_param = {\n",
    "    'fit_intercept': [True, False],\n",
    "    'copy_X': [True, False],\n",
    "    'positive': [True, False]\n",
    "}"
   ]
  },
  {
   "cell_type": "code",
   "execution_count": 120,
   "id": "a0ad5529",
   "metadata": {
    "execution": {
     "iopub.execute_input": "2025-08-08T03:51:56.904529Z",
     "iopub.status.busy": "2025-08-08T03:51:56.904222Z",
     "iopub.status.idle": "2025-08-08T03:51:56.908187Z",
     "shell.execute_reply": "2025-08-08T03:51:56.907536Z"
    },
    "papermill": {
     "duration": 0.035955,
     "end_time": "2025-08-08T03:51:56.909403",
     "exception": false,
     "start_time": "2025-08-08T03:51:56.873448",
     "status": "completed"
    },
    "tags": []
   },
   "outputs": [],
   "source": [
    "grid_search = GridSearchCV(\n",
    "    LinearRegression(), \n",
    "    grid_param, \n",
    "    cv=5, \n",
    "    scoring='neg_mean_squared_error', \n",
    "    n_jobs=-1, # allow parallel processing, you cant use your own laptop while this runs\n",
    "    verbose=1\n",
    ")"
   ]
  },
  {
   "cell_type": "code",
   "execution_count": 121,
   "id": "365ea80d",
   "metadata": {
    "execution": {
     "iopub.execute_input": "2025-08-08T03:51:56.969803Z",
     "iopub.status.busy": "2025-08-08T03:51:56.969508Z",
     "iopub.status.idle": "2025-08-08T03:51:57.544192Z",
     "shell.execute_reply": "2025-08-08T03:51:57.543426Z"
    },
    "papermill": {
     "duration": 0.606662,
     "end_time": "2025-08-08T03:51:57.545957",
     "exception": false,
     "start_time": "2025-08-08T03:51:56.939295",
     "status": "completed"
    },
    "tags": []
   },
   "outputs": [
    {
     "name": "stdout",
     "output_type": "stream",
     "text": [
      "Starting hyperparameter tuning...\n",
      "Fitting 5 folds for each of 8 candidates, totalling 40 fits\n",
      "CPU times: user 63.1 ms, sys: 10.5 ms, total: 73.5 ms\n",
      "Wall time: 564 ms\n"
     ]
    },
    {
     "data": {
      "text/html": [
       "<style>#sk-container-id-18 {color: black;background-color: white;}#sk-container-id-18 pre{padding: 0;}#sk-container-id-18 div.sk-toggleable {background-color: white;}#sk-container-id-18 label.sk-toggleable__label {cursor: pointer;display: block;width: 100%;margin-bottom: 0;padding: 0.3em;box-sizing: border-box;text-align: center;}#sk-container-id-18 label.sk-toggleable__label-arrow:before {content: \"▸\";float: left;margin-right: 0.25em;color: #696969;}#sk-container-id-18 label.sk-toggleable__label-arrow:hover:before {color: black;}#sk-container-id-18 div.sk-estimator:hover label.sk-toggleable__label-arrow:before {color: black;}#sk-container-id-18 div.sk-toggleable__content {max-height: 0;max-width: 0;overflow: hidden;text-align: left;background-color: #f0f8ff;}#sk-container-id-18 div.sk-toggleable__content pre {margin: 0.2em;color: black;border-radius: 0.25em;background-color: #f0f8ff;}#sk-container-id-18 input.sk-toggleable__control:checked~div.sk-toggleable__content {max-height: 200px;max-width: 100%;overflow: auto;}#sk-container-id-18 input.sk-toggleable__control:checked~label.sk-toggleable__label-arrow:before {content: \"▾\";}#sk-container-id-18 div.sk-estimator input.sk-toggleable__control:checked~label.sk-toggleable__label {background-color: #d4ebff;}#sk-container-id-18 div.sk-label input.sk-toggleable__control:checked~label.sk-toggleable__label {background-color: #d4ebff;}#sk-container-id-18 input.sk-hidden--visually {border: 0;clip: rect(1px 1px 1px 1px);clip: rect(1px, 1px, 1px, 1px);height: 1px;margin: -1px;overflow: hidden;padding: 0;position: absolute;width: 1px;}#sk-container-id-18 div.sk-estimator {font-family: monospace;background-color: #f0f8ff;border: 1px dotted black;border-radius: 0.25em;box-sizing: border-box;margin-bottom: 0.5em;}#sk-container-id-18 div.sk-estimator:hover {background-color: #d4ebff;}#sk-container-id-18 div.sk-parallel-item::after {content: \"\";width: 100%;border-bottom: 1px solid gray;flex-grow: 1;}#sk-container-id-18 div.sk-label:hover label.sk-toggleable__label {background-color: #d4ebff;}#sk-container-id-18 div.sk-serial::before {content: \"\";position: absolute;border-left: 1px solid gray;box-sizing: border-box;top: 0;bottom: 0;left: 50%;z-index: 0;}#sk-container-id-18 div.sk-serial {display: flex;flex-direction: column;align-items: center;background-color: white;padding-right: 0.2em;padding-left: 0.2em;position: relative;}#sk-container-id-18 div.sk-item {position: relative;z-index: 1;}#sk-container-id-18 div.sk-parallel {display: flex;align-items: stretch;justify-content: center;background-color: white;position: relative;}#sk-container-id-18 div.sk-item::before, #sk-container-id-18 div.sk-parallel-item::before {content: \"\";position: absolute;border-left: 1px solid gray;box-sizing: border-box;top: 0;bottom: 0;left: 50%;z-index: -1;}#sk-container-id-18 div.sk-parallel-item {display: flex;flex-direction: column;z-index: 1;position: relative;background-color: white;}#sk-container-id-18 div.sk-parallel-item:first-child::after {align-self: flex-end;width: 50%;}#sk-container-id-18 div.sk-parallel-item:last-child::after {align-self: flex-start;width: 50%;}#sk-container-id-18 div.sk-parallel-item:only-child::after {width: 0;}#sk-container-id-18 div.sk-dashed-wrapped {border: 1px dashed gray;margin: 0 0.4em 0.5em 0.4em;box-sizing: border-box;padding-bottom: 0.4em;background-color: white;}#sk-container-id-18 div.sk-label label {font-family: monospace;font-weight: bold;display: inline-block;line-height: 1.2em;}#sk-container-id-18 div.sk-label-container {text-align: center;}#sk-container-id-18 div.sk-container {/* jupyter's `normalize.less` sets `[hidden] { display: none; }` but bootstrap.min.css set `[hidden] { display: none !important; }` so we also need the `!important` here to be able to override the default hidden behavior on the sphinx rendered scikit-learn.org. See: https://github.com/scikit-learn/scikit-learn/issues/21755 */display: inline-block !important;position: relative;}#sk-container-id-18 div.sk-text-repr-fallback {display: none;}</style><div id=\"sk-container-id-18\" class=\"sk-top-container\"><div class=\"sk-text-repr-fallback\"><pre>GridSearchCV(cv=5, estimator=LinearRegression(), n_jobs=-1,\n",
       "             param_grid={&#x27;copy_X&#x27;: [True, False],\n",
       "                         &#x27;fit_intercept&#x27;: [True, False],\n",
       "                         &#x27;positive&#x27;: [True, False]},\n",
       "             scoring=&#x27;neg_mean_squared_error&#x27;, verbose=1)</pre><b>In a Jupyter environment, please rerun this cell to show the HTML representation or trust the notebook. <br />On GitHub, the HTML representation is unable to render, please try loading this page with nbviewer.org.</b></div><div class=\"sk-container\" hidden><div class=\"sk-item sk-dashed-wrapped\"><div class=\"sk-label-container\"><div class=\"sk-label sk-toggleable\"><input class=\"sk-toggleable__control sk-hidden--visually\" id=\"sk-estimator-id-28\" type=\"checkbox\" ><label for=\"sk-estimator-id-28\" class=\"sk-toggleable__label sk-toggleable__label-arrow\">GridSearchCV</label><div class=\"sk-toggleable__content\"><pre>GridSearchCV(cv=5, estimator=LinearRegression(), n_jobs=-1,\n",
       "             param_grid={&#x27;copy_X&#x27;: [True, False],\n",
       "                         &#x27;fit_intercept&#x27;: [True, False],\n",
       "                         &#x27;positive&#x27;: [True, False]},\n",
       "             scoring=&#x27;neg_mean_squared_error&#x27;, verbose=1)</pre></div></div></div><div class=\"sk-parallel\"><div class=\"sk-parallel-item\"><div class=\"sk-item\"><div class=\"sk-label-container\"><div class=\"sk-label sk-toggleable\"><input class=\"sk-toggleable__control sk-hidden--visually\" id=\"sk-estimator-id-29\" type=\"checkbox\" ><label for=\"sk-estimator-id-29\" class=\"sk-toggleable__label sk-toggleable__label-arrow\">estimator: LinearRegression</label><div class=\"sk-toggleable__content\"><pre>LinearRegression()</pre></div></div></div><div class=\"sk-serial\"><div class=\"sk-item\"><div class=\"sk-estimator sk-toggleable\"><input class=\"sk-toggleable__control sk-hidden--visually\" id=\"sk-estimator-id-30\" type=\"checkbox\" ><label for=\"sk-estimator-id-30\" class=\"sk-toggleable__label sk-toggleable__label-arrow\">LinearRegression</label><div class=\"sk-toggleable__content\"><pre>LinearRegression()</pre></div></div></div></div></div></div></div></div></div></div>"
      ],
      "text/plain": [
       "GridSearchCV(cv=5, estimator=LinearRegression(), n_jobs=-1,\n",
       "             param_grid={'copy_X': [True, False],\n",
       "                         'fit_intercept': [True, False],\n",
       "                         'positive': [True, False]},\n",
       "             scoring='neg_mean_squared_error', verbose=1)"
      ]
     },
     "execution_count": 121,
     "metadata": {},
     "output_type": "execute_result"
    }
   ],
   "source": [
    "%%time\n",
    "print(\"Starting hyperparameter tuning...\")\n",
    "grid_search.fit(X_train, y_train)"
   ]
  },
  {
   "cell_type": "code",
   "execution_count": 122,
   "id": "a271b461",
   "metadata": {
    "execution": {
     "iopub.execute_input": "2025-08-08T03:51:57.651734Z",
     "iopub.status.busy": "2025-08-08T03:51:57.651129Z",
     "iopub.status.idle": "2025-08-08T03:51:57.658726Z",
     "shell.execute_reply": "2025-08-08T03:51:57.657867Z"
    },
    "papermill": {
     "duration": 0.0629,
     "end_time": "2025-08-08T03:51:57.660055",
     "exception": false,
     "start_time": "2025-08-08T03:51:57.597155",
     "status": "completed"
    },
    "tags": []
   },
   "outputs": [
    {
     "name": "stdout",
     "output_type": "stream",
     "text": [
      "TUNING RESULTS\n",
      "==================================================\n",
      "Best Parameters: {'copy_X': True, 'fit_intercept': False, 'positive': False}\n",
      "Best Cross-Validation Score (Negative MSE): -304.648507947211\n",
      "Best Cross-Validation Score (MSE): 304.648507947211\n",
      "Best Cross-Validation Score (RMSE): 17.454183107416142\n"
     ]
    }
   ],
   "source": [
    "print(\"TUNING RESULTS\")\n",
    "print(\"=\"*50)\n",
    "print(\"Best Parameters:\", grid_search.best_params_)\n",
    "print(\"Best Cross-Validation Score (Negative MSE):\", grid_search.best_score_)\n",
    "print(\"Best Cross-Validation Score (MSE):\", -grid_search.best_score_)\n",
    "print(\"Best Cross-Validation Score (RMSE):\", math.sqrt(-grid_search.best_score_))"
   ]
  },
  {
   "cell_type": "code",
   "execution_count": 123,
   "id": "c28072f6",
   "metadata": {
    "execution": {
     "iopub.execute_input": "2025-08-08T03:51:57.727950Z",
     "iopub.status.busy": "2025-08-08T03:51:57.727173Z",
     "iopub.status.idle": "2025-08-08T03:51:57.731920Z",
     "shell.execute_reply": "2025-08-08T03:51:57.731028Z"
    },
    "papermill": {
     "duration": 0.041272,
     "end_time": "2025-08-08T03:51:57.733150",
     "exception": false,
     "start_time": "2025-08-08T03:51:57.691878",
     "status": "completed"
    },
    "tags": []
   },
   "outputs": [],
   "source": [
    "grid_search_best_model = grid_search.best_estimator_\n",
    "y_pred = grid_search_best_model.predict(X_test)"
   ]
  },
  {
   "cell_type": "code",
   "execution_count": 124,
   "id": "06c374c3",
   "metadata": {
    "execution": {
     "iopub.execute_input": "2025-08-08T03:51:57.795761Z",
     "iopub.status.busy": "2025-08-08T03:51:57.794989Z",
     "iopub.status.idle": "2025-08-08T03:51:57.801667Z",
     "shell.execute_reply": "2025-08-08T03:51:57.801005Z"
    },
    "papermill": {
     "duration": 0.03918,
     "end_time": "2025-08-08T03:51:57.802961",
     "exception": false,
     "start_time": "2025-08-08T03:51:57.763781",
     "status": "completed"
    },
    "tags": []
   },
   "outputs": [],
   "source": [
    "mse_grid_search = mean_squared_error(y_test, y_pred)\n",
    "mae_grid_search = mean_absolute_error(y_test, y_pred)\n",
    "r2_grid_search = r2_score(y_test, y_pred)\n",
    "rmse_grid_search = math.sqrt(mse_grid_search)"
   ]
  },
  {
   "cell_type": "code",
   "execution_count": 125,
   "id": "6f5f857f",
   "metadata": {
    "execution": {
     "iopub.execute_input": "2025-08-08T03:51:57.865828Z",
     "iopub.status.busy": "2025-08-08T03:51:57.865149Z",
     "iopub.status.idle": "2025-08-08T03:51:57.870038Z",
     "shell.execute_reply": "2025-08-08T03:51:57.869306Z"
    },
    "papermill": {
     "duration": 0.037129,
     "end_time": "2025-08-08T03:51:57.871235",
     "exception": false,
     "start_time": "2025-08-08T03:51:57.834106",
     "status": "completed"
    },
    "tags": []
   },
   "outputs": [
    {
     "name": "stdout",
     "output_type": "stream",
     "text": [
      "MSE Score: 315.86788236926236\n",
      "MAE Score: 11.525598133724747\n",
      "R2 Score: 0.996641079975377\n",
      "RMSE Score: 17.772672347434483\n"
     ]
    }
   ],
   "source": [
    "print(\"MSE Score:\", mse_grid_search)\n",
    "print(\"MAE Score:\", mae_grid_search)\n",
    "print(\"R2 Score:\", r2_grid_search)\n",
    "print(\"RMSE Score:\", rmse_grid_search)"
   ]
  },
  {
   "cell_type": "code",
   "execution_count": 126,
   "id": "10385787",
   "metadata": {
    "execution": {
     "iopub.execute_input": "2025-08-08T03:51:57.934004Z",
     "iopub.status.busy": "2025-08-08T03:51:57.933261Z",
     "iopub.status.idle": "2025-08-08T03:51:57.945177Z",
     "shell.execute_reply": "2025-08-08T03:51:57.944237Z"
    },
    "papermill": {
     "duration": 0.044256,
     "end_time": "2025-08-08T03:51:57.946525",
     "exception": false,
     "start_time": "2025-08-08T03:51:57.902269",
     "status": "completed"
    },
    "tags": []
   },
   "outputs": [
    {
     "name": "stdout",
     "output_type": "stream",
     "text": [
      "✅ Regression model improved with better performance!\n",
      "   MSE: 316.200197 → 315.867882 (lower is better)\n",
      "   R²:  0.996638 → 0.996641 (higher is better)\n",
      "   Features: 27 → 22\n",
      "💾 Registry updated: Model_Training_History/History_Regression.csv\n"
     ]
    }
   ],
   "source": [
    "regression_params = {\n",
    "    'model_name': model_name_for_saving + \" Tuned\",\n",
    "    'scaler_name': \"RobustScaler\",\n",
    "    'features_list': feature_columns_for_saving,\n",
    "    'target_column': target_name_for_saving,\n",
    "    'mse': mse_grid_search,\n",
    "    'mae': mae_grid_search,\n",
    "    'rmse': rmse_grid_search,\n",
    "    'r2': r2_grid_search,\n",
    "    'parameters' : json.dumps({\n",
    "        \"best_params\": grid_search.best_params_,\n",
    "        \"cv_score\": grid_search.best_score_,\n",
    "        \"all_params\": grid_search_best_model.get_params()\n",
    "    })\n",
    "}\n",
    "save_model_performance_if_better('regression', regression_params)"
   ]
  },
  {
   "cell_type": "markdown",
   "id": "88f69072",
   "metadata": {
    "papermill": {
     "duration": 0.030239,
     "end_time": "2025-08-08T03:51:58.007586",
     "exception": false,
     "start_time": "2025-08-08T03:51:57.977347",
     "status": "completed"
    },
    "tags": []
   },
   "source": [
    "# All Performance"
   ]
  },
  {
   "cell_type": "code",
   "execution_count": 127,
   "id": "5a13a849",
   "metadata": {
    "execution": {
     "iopub.execute_input": "2025-08-08T03:51:58.069659Z",
     "iopub.status.busy": "2025-08-08T03:51:58.069274Z",
     "iopub.status.idle": "2025-08-08T03:51:58.082838Z",
     "shell.execute_reply": "2025-08-08T03:51:58.082004Z"
    },
    "papermill": {
     "duration": 0.046314,
     "end_time": "2025-08-08T03:51:58.084232",
     "exception": false,
     "start_time": "2025-08-08T03:51:58.037918",
     "status": "completed"
    },
    "tags": []
   },
   "outputs": [
    {
     "name": "stdout",
     "output_type": "stream",
     "text": [
      "\n",
      "📊 REGRESSION Model Performance History\n",
      "====================================================================================================\n",
      "                  Model         Scaler         Target  Features        MSE       MAE      RMSE       R²\n",
      "Linear Regression Tuned   MinMaxScaler SolarRadiation        22 315.867882 11.525598 17.772672 0.996641\n",
      "      Linear Regression   RobustScaler SolarRadiation        22 315.867882 11.525598 17.772672 0.996641\n",
      "Linear Regression Tuned   RobustScaler SolarRadiation        22 315.867882 11.525598 17.772672 0.996641\n",
      "      Linear Regression   MinMaxScaler SolarRadiation        22 315.872481 11.526013 17.772802 0.996641\n",
      "      Linear Regression StandardScaler SolarRadiation        22 316.063929 11.568785 17.778187 0.996639\n",
      "Linear Regression Tuned StandardScaler SolarRadiation        22 316.063929 11.568785 17.778187 0.996639\n",
      "\n",
      "📈 Total models shown: 6\n",
      "🏆 Best R² Score: 0.996641 (Linear Regression Tuned + MinMaxScaler for SolarRadiation)\n"
     ]
    }
   ],
   "source": [
    "show_model_history('regression', model_name=model_name_for_saving, target_column=target_name_for_saving)"
   ]
  },
  {
   "cell_type": "markdown",
   "id": "26749e23",
   "metadata": {
    "papermill": {
     "duration": 0.030144,
     "end_time": "2025-08-08T03:51:58.145160",
     "exception": false,
     "start_time": "2025-08-08T03:51:58.115016",
     "status": "completed"
    },
    "tags": []
   },
   "source": [
    "# <center><font size=\"50\" color=\"red\">Thank You</font></center>"
   ]
  }
 ],
 "metadata": {
  "kaggle": {
   "accelerator": "none",
   "dataSources": [
    {
     "datasetId": 7943485,
     "sourceId": 12698463,
     "sourceType": "datasetVersion"
    }
   ],
   "isGpuEnabled": false,
   "isInternetEnabled": true,
   "language": "python",
   "sourceType": "notebook"
  },
  "kernelspec": {
   "display_name": ".venv",
   "language": "python",
   "name": "python3"
  },
  "language_info": {
   "codemirror_mode": {
    "name": "ipython",
    "version": 3
   },
   "file_extension": ".py",
   "mimetype": "text/x-python",
   "name": "python",
   "nbconvert_exporter": "python",
   "pygments_lexer": "ipython3",
   "version": "3.11.13"
  },
  "papermill": {
   "default_parameters": {},
   "duration": 25.852822,
   "end_time": "2025-08-08T03:52:00.796153",
   "environment_variables": {},
   "exception": null,
   "input_path": "__notebook__.ipynb",
   "output_path": "__notebook__.ipynb",
   "parameters": {},
   "start_time": "2025-08-08T03:51:34.943331",
   "version": "2.6.0"
  }
 },
 "nbformat": 4,
 "nbformat_minor": 5
}
