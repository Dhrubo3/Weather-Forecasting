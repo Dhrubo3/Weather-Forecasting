{
 "cells": [
  {
   "cell_type": "markdown",
   "id": "52fa062c",
   "metadata": {
    "papermill": {
     "duration": 0.019454,
     "end_time": "2025-08-07T15:48:29.741055",
     "exception": false,
     "start_time": "2025-08-07T15:48:29.721601",
     "status": "completed"
    },
    "tags": []
   },
   "source": [
    "# <font color=\"red\">Solar Radiation Prediction with Decision Tree Regressor</font>"
   ]
  },
  {
   "cell_type": "markdown",
   "id": "30ab0ee6",
   "metadata": {
    "papermill": {
     "duration": 0.01431,
     "end_time": "2025-08-07T15:48:29.770823",
     "exception": false,
     "start_time": "2025-08-07T15:48:29.756513",
     "status": "completed"
    },
    "tags": []
   },
   "source": [
    "# Library Import"
   ]
  },
  {
   "cell_type": "code",
   "execution_count": 1,
   "id": "4372abfb",
   "metadata": {
    "execution": {
     "iopub.execute_input": "2025-08-07T15:48:29.801268Z",
     "iopub.status.busy": "2025-08-07T15:48:29.800857Z",
     "iopub.status.idle": "2025-08-07T15:48:33.568806Z",
     "shell.execute_reply": "2025-08-07T15:48:33.567808Z"
    },
    "papermill": {
     "duration": 3.785262,
     "end_time": "2025-08-07T15:48:33.570536",
     "exception": false,
     "start_time": "2025-08-07T15:48:29.785274",
     "status": "completed"
    },
    "tags": []
   },
   "outputs": [],
   "source": [
    "# Data manipulation and visualization\n",
    "import pandas as pd\n",
    "import math\n",
    "import json\n",
    "\n",
    "# Preprocessing\n",
    "from sklearn.model_selection import StratifiedShuffleSplit, GridSearchCV\n",
    "from sklearn.preprocessing import MinMaxScaler, StandardScaler, RobustScaler\n",
    "from sklearn.metrics import r2_score, mean_squared_error, mean_absolute_error\n",
    "from sklearn.tree import DecisionTreeRegressor\n",
    "\n",
    "import sys\n",
    "#sys.path.append('../../') # Uncomment this line if running locally\n",
    "sys.path.append('/kaggle/input/weatherdata') # Uncomment this line if running on Kaggle\n",
    "from historyManagement import *\n",
    "\n",
    "# suppress warnings\n",
    "import warnings\n",
    "warnings.filterwarnings(\"ignore\")"
   ]
  },
  {
   "cell_type": "markdown",
   "id": "c3444b9d",
   "metadata": {
    "papermill": {
     "duration": 0.015044,
     "end_time": "2025-08-07T15:48:33.600406",
     "exception": false,
     "start_time": "2025-08-07T15:48:33.585362",
     "status": "completed"
    },
    "tags": []
   },
   "source": [
    "# Datasets Import"
   ]
  },
  {
   "cell_type": "code",
   "execution_count": 2,
   "id": "b7e42002",
   "metadata": {
    "execution": {
     "iopub.execute_input": "2025-08-07T15:48:33.631282Z",
     "iopub.status.busy": "2025-08-07T15:48:33.630827Z",
     "iopub.status.idle": "2025-08-07T15:48:33.797162Z",
     "shell.execute_reply": "2025-08-07T15:48:33.796137Z"
    },
    "papermill": {
     "duration": 0.183577,
     "end_time": "2025-08-07T15:48:33.798620",
     "exception": false,
     "start_time": "2025-08-07T15:48:33.615043",
     "status": "completed"
    },
    "tags": []
   },
   "outputs": [
    {
     "data": {
      "text/html": [
       "<div>\n",
       "<style scoped>\n",
       "    .dataframe tbody tr th:only-of-type {\n",
       "        vertical-align: middle;\n",
       "    }\n",
       "\n",
       "    .dataframe tbody tr th {\n",
       "        vertical-align: top;\n",
       "    }\n",
       "\n",
       "    .dataframe thead th {\n",
       "        text-align: right;\n",
       "    }\n",
       "</style>\n",
       "<table border=\"1\" class=\"dataframe\">\n",
       "  <thead>\n",
       "    <tr style=\"text-align: right;\">\n",
       "      <th></th>\n",
       "      <th>DateTime</th>\n",
       "      <th>Year</th>\n",
       "      <th>Month</th>\n",
       "      <th>Day</th>\n",
       "      <th>Hour</th>\n",
       "      <th>DaySegments</th>\n",
       "      <th>DaySegments_Afternoon</th>\n",
       "      <th>DaySegments_Early Morning</th>\n",
       "      <th>DaySegments_Evening</th>\n",
       "      <th>DaySegments_Late Night</th>\n",
       "      <th>...</th>\n",
       "      <th>WindDir</th>\n",
       "      <th>SeaLevelPressure</th>\n",
       "      <th>CloudCover</th>\n",
       "      <th>UVIndex</th>\n",
       "      <th>SevereRisk</th>\n",
       "      <th>Visibility</th>\n",
       "      <th>SolarRadiation</th>\n",
       "      <th>SolarEnergy</th>\n",
       "      <th>Conditions</th>\n",
       "      <th>Icon</th>\n",
       "    </tr>\n",
       "  </thead>\n",
       "  <tbody>\n",
       "    <tr>\n",
       "      <th>0</th>\n",
       "      <td>2023-01-01 00:00:00</td>\n",
       "      <td>2023</td>\n",
       "      <td>1</td>\n",
       "      <td>1</td>\n",
       "      <td>0</td>\n",
       "      <td>Late Night</td>\n",
       "      <td>0</td>\n",
       "      <td>0</td>\n",
       "      <td>0</td>\n",
       "      <td>1</td>\n",
       "      <td>...</td>\n",
       "      <td>0.49</td>\n",
       "      <td>1018.68</td>\n",
       "      <td>0.03</td>\n",
       "      <td>0.0</td>\n",
       "      <td>10.0</td>\n",
       "      <td>2.76</td>\n",
       "      <td>0.0</td>\n",
       "      <td>0.0</td>\n",
       "      <td>Clear</td>\n",
       "      <td>clear-night</td>\n",
       "    </tr>\n",
       "    <tr>\n",
       "      <th>1</th>\n",
       "      <td>2023-01-01 01:00:00</td>\n",
       "      <td>2023</td>\n",
       "      <td>1</td>\n",
       "      <td>1</td>\n",
       "      <td>1</td>\n",
       "      <td>Late Night</td>\n",
       "      <td>0</td>\n",
       "      <td>0</td>\n",
       "      <td>0</td>\n",
       "      <td>1</td>\n",
       "      <td>...</td>\n",
       "      <td>0.54</td>\n",
       "      <td>1018.03</td>\n",
       "      <td>0.11</td>\n",
       "      <td>0.0</td>\n",
       "      <td>10.0</td>\n",
       "      <td>1.75</td>\n",
       "      <td>0.0</td>\n",
       "      <td>0.0</td>\n",
       "      <td>Clear</td>\n",
       "      <td>clear-night</td>\n",
       "    </tr>\n",
       "    <tr>\n",
       "      <th>2</th>\n",
       "      <td>2023-01-01 02:00:00</td>\n",
       "      <td>2023</td>\n",
       "      <td>1</td>\n",
       "      <td>1</td>\n",
       "      <td>2</td>\n",
       "      <td>Late Night</td>\n",
       "      <td>0</td>\n",
       "      <td>0</td>\n",
       "      <td>0</td>\n",
       "      <td>1</td>\n",
       "      <td>...</td>\n",
       "      <td>30.51</td>\n",
       "      <td>1017.56</td>\n",
       "      <td>0.03</td>\n",
       "      <td>0.0</td>\n",
       "      <td>10.0</td>\n",
       "      <td>1.75</td>\n",
       "      <td>0.0</td>\n",
       "      <td>0.0</td>\n",
       "      <td>Clear</td>\n",
       "      <td>clear-night</td>\n",
       "    </tr>\n",
       "    <tr>\n",
       "      <th>3</th>\n",
       "      <td>2023-01-01 03:00:00</td>\n",
       "      <td>2023</td>\n",
       "      <td>1</td>\n",
       "      <td>1</td>\n",
       "      <td>3</td>\n",
       "      <td>Late Night</td>\n",
       "      <td>0</td>\n",
       "      <td>0</td>\n",
       "      <td>0</td>\n",
       "      <td>1</td>\n",
       "      <td>...</td>\n",
       "      <td>49.23</td>\n",
       "      <td>1018.05</td>\n",
       "      <td>0.00</td>\n",
       "      <td>0.0</td>\n",
       "      <td>10.0</td>\n",
       "      <td>2.28</td>\n",
       "      <td>0.0</td>\n",
       "      <td>0.0</td>\n",
       "      <td>Clear</td>\n",
       "      <td>clear-night</td>\n",
       "    </tr>\n",
       "    <tr>\n",
       "      <th>4</th>\n",
       "      <td>2023-01-01 04:00:00</td>\n",
       "      <td>2023</td>\n",
       "      <td>1</td>\n",
       "      <td>1</td>\n",
       "      <td>4</td>\n",
       "      <td>Late Night</td>\n",
       "      <td>0</td>\n",
       "      <td>0</td>\n",
       "      <td>0</td>\n",
       "      <td>1</td>\n",
       "      <td>...</td>\n",
       "      <td>49.90</td>\n",
       "      <td>1018.00</td>\n",
       "      <td>86.17</td>\n",
       "      <td>0.0</td>\n",
       "      <td>10.0</td>\n",
       "      <td>1.27</td>\n",
       "      <td>0.0</td>\n",
       "      <td>0.0</td>\n",
       "      <td>Partially cloudy</td>\n",
       "      <td>fog</td>\n",
       "    </tr>\n",
       "  </tbody>\n",
       "</table>\n",
       "<p>5 rows × 36 columns</p>\n",
       "</div>"
      ],
      "text/plain": [
       "             DateTime  Year  Month  Day  Hour DaySegments  \\\n",
       "0 2023-01-01 00:00:00  2023      1    1     0  Late Night   \n",
       "1 2023-01-01 01:00:00  2023      1    1     1  Late Night   \n",
       "2 2023-01-01 02:00:00  2023      1    1     2  Late Night   \n",
       "3 2023-01-01 03:00:00  2023      1    1     3  Late Night   \n",
       "4 2023-01-01 04:00:00  2023      1    1     4  Late Night   \n",
       "\n",
       "   DaySegments_Afternoon  DaySegments_Early Morning  DaySegments_Evening  \\\n",
       "0                      0                          0                    0   \n",
       "1                      0                          0                    0   \n",
       "2                      0                          0                    0   \n",
       "3                      0                          0                    0   \n",
       "4                      0                          0                    0   \n",
       "\n",
       "   DaySegments_Late Night  ...  WindDir  SeaLevelPressure  CloudCover  \\\n",
       "0                       1  ...     0.49           1018.68        0.03   \n",
       "1                       1  ...     0.54           1018.03        0.11   \n",
       "2                       1  ...    30.51           1017.56        0.03   \n",
       "3                       1  ...    49.23           1018.05        0.00   \n",
       "4                       1  ...    49.90           1018.00       86.17   \n",
       "\n",
       "   UVIndex  SevereRisk  Visibility  SolarRadiation SolarEnergy  \\\n",
       "0      0.0        10.0        2.76             0.0         0.0   \n",
       "1      0.0        10.0        1.75             0.0         0.0   \n",
       "2      0.0        10.0        1.75             0.0         0.0   \n",
       "3      0.0        10.0        2.28             0.0         0.0   \n",
       "4      0.0        10.0        1.27             0.0         0.0   \n",
       "\n",
       "         Conditions         Icon  \n",
       "0             Clear  clear-night  \n",
       "1             Clear  clear-night  \n",
       "2             Clear  clear-night  \n",
       "3             Clear  clear-night  \n",
       "4  Partially cloudy          fog  \n",
       "\n",
       "[5 rows x 36 columns]"
      ]
     },
     "execution_count": 2,
     "metadata": {},
     "output_type": "execute_result"
    }
   ],
   "source": [
    "# Load the weather dataset for visibility prediction\n",
    "#weather_data = pd.read_csv('../../FinalDatasets/finalDataset.csv') # Uncomment this line if running locally\n",
    "weather_data = pd.read_csv('/kaggle/input/weatherdata/finalDataset.csv') # Uncomment this line if running on Kaggle\n",
    "weather_data['DateTime'] = pd.to_datetime(weather_data['DateTime'])\n",
    "weather_data.head()"
   ]
  },
  {
   "cell_type": "code",
   "execution_count": 3,
   "id": "87e8610a",
   "metadata": {
    "execution": {
     "iopub.execute_input": "2025-08-07T15:48:33.831510Z",
     "iopub.status.busy": "2025-08-07T15:48:33.831200Z",
     "iopub.status.idle": "2025-08-07T15:48:33.855760Z",
     "shell.execute_reply": "2025-08-07T15:48:33.854734Z"
    },
    "papermill": {
     "duration": 0.042583,
     "end_time": "2025-08-07T15:48:33.857399",
     "exception": false,
     "start_time": "2025-08-07T15:48:33.814816",
     "status": "completed"
    },
    "tags": []
   },
   "outputs": [
    {
     "name": "stdout",
     "output_type": "stream",
     "text": [
      "<class 'pandas.core.frame.DataFrame'>\n",
      "RangeIndex: 14616 entries, 0 to 14615\n",
      "Data columns (total 36 columns):\n",
      " #   Column                     Non-Null Count  Dtype         \n",
      "---  ------                     --------------  -----         \n",
      " 0   DateTime                   14616 non-null  datetime64[ns]\n",
      " 1   Year                       14616 non-null  int64         \n",
      " 2   Month                      14616 non-null  int64         \n",
      " 3   Day                        14616 non-null  int64         \n",
      " 4   Hour                       14616 non-null  int64         \n",
      " 5   DaySegments                14616 non-null  object        \n",
      " 6   DaySegments_Afternoon      14616 non-null  int64         \n",
      " 7   DaySegments_Early Morning  14616 non-null  int64         \n",
      " 8   DaySegments_Evening        14616 non-null  int64         \n",
      " 9   DaySegments_Late Night     14616 non-null  int64         \n",
      " 10  DaySegments_Midday         14616 non-null  int64         \n",
      " 11  DaySegments_Morning        14616 non-null  int64         \n",
      " 12  DaySegments_Night          14616 non-null  int64         \n",
      " 13  Season_Autumn              14616 non-null  int64         \n",
      " 14  Season_Rainy               14616 non-null  int64         \n",
      " 15  Season_Summer              14616 non-null  int64         \n",
      " 16  Season_Winter              14616 non-null  int64         \n",
      " 17  Season                     14616 non-null  object        \n",
      " 18  Temp                       14616 non-null  float64       \n",
      " 19  FeelsLike                  14616 non-null  float64       \n",
      " 20  Dew                        14616 non-null  float64       \n",
      " 21  Humidity                   14616 non-null  float64       \n",
      " 22  Precip                     14616 non-null  float64       \n",
      " 23  PrecipProb                 14616 non-null  float64       \n",
      " 24  Windgust                   14616 non-null  float64       \n",
      " 25  WindSpeed                  14616 non-null  float64       \n",
      " 26  WindDir                    14616 non-null  float64       \n",
      " 27  SeaLevelPressure           14616 non-null  float64       \n",
      " 28  CloudCover                 14616 non-null  float64       \n",
      " 29  UVIndex                    14616 non-null  float64       \n",
      " 30  SevereRisk                 14616 non-null  float64       \n",
      " 31  Visibility                 14616 non-null  float64       \n",
      " 32  SolarRadiation             14616 non-null  float64       \n",
      " 33  SolarEnergy                14616 non-null  float64       \n",
      " 34  Conditions                 14616 non-null  object        \n",
      " 35  Icon                       14616 non-null  object        \n",
      "dtypes: datetime64[ns](1), float64(16), int64(15), object(4)\n",
      "memory usage: 4.0+ MB\n"
     ]
    }
   ],
   "source": [
    "weather_data.info()"
   ]
  },
  {
   "cell_type": "code",
   "execution_count": 4,
   "id": "6da55255",
   "metadata": {
    "execution": {
     "iopub.execute_input": "2025-08-07T15:48:33.953137Z",
     "iopub.status.busy": "2025-08-07T15:48:33.952811Z",
     "iopub.status.idle": "2025-08-07T15:48:34.034737Z",
     "shell.execute_reply": "2025-08-07T15:48:34.033921Z"
    },
    "papermill": {
     "duration": 0.099493,
     "end_time": "2025-08-07T15:48:34.036186",
     "exception": false,
     "start_time": "2025-08-07T15:48:33.936693",
     "status": "completed"
    },
    "tags": []
   },
   "outputs": [
    {
     "data": {
      "text/html": [
       "<div>\n",
       "<style scoped>\n",
       "    .dataframe tbody tr th:only-of-type {\n",
       "        vertical-align: middle;\n",
       "    }\n",
       "\n",
       "    .dataframe tbody tr th {\n",
       "        vertical-align: top;\n",
       "    }\n",
       "\n",
       "    .dataframe thead th {\n",
       "        text-align: right;\n",
       "    }\n",
       "</style>\n",
       "<table border=\"1\" class=\"dataframe\">\n",
       "  <thead>\n",
       "    <tr style=\"text-align: right;\">\n",
       "      <th></th>\n",
       "      <th>DateTime</th>\n",
       "      <th>Year</th>\n",
       "      <th>Month</th>\n",
       "      <th>Day</th>\n",
       "      <th>Hour</th>\n",
       "      <th>DaySegments_Afternoon</th>\n",
       "      <th>DaySegments_Early Morning</th>\n",
       "      <th>DaySegments_Evening</th>\n",
       "      <th>DaySegments_Late Night</th>\n",
       "      <th>DaySegments_Midday</th>\n",
       "      <th>...</th>\n",
       "      <th>Windgust</th>\n",
       "      <th>WindSpeed</th>\n",
       "      <th>WindDir</th>\n",
       "      <th>SeaLevelPressure</th>\n",
       "      <th>CloudCover</th>\n",
       "      <th>UVIndex</th>\n",
       "      <th>SevereRisk</th>\n",
       "      <th>Visibility</th>\n",
       "      <th>SolarRadiation</th>\n",
       "      <th>SolarEnergy</th>\n",
       "    </tr>\n",
       "  </thead>\n",
       "  <tbody>\n",
       "    <tr>\n",
       "      <th>count</th>\n",
       "      <td>14616</td>\n",
       "      <td>14616.000000</td>\n",
       "      <td>14616.000000</td>\n",
       "      <td>14616.000000</td>\n",
       "      <td>14616.000000</td>\n",
       "      <td>14616.000000</td>\n",
       "      <td>14616.000000</td>\n",
       "      <td>14616.000000</td>\n",
       "      <td>14616.000000</td>\n",
       "      <td>14616.000000</td>\n",
       "      <td>...</td>\n",
       "      <td>14616.000000</td>\n",
       "      <td>14616.000000</td>\n",
       "      <td>14616.000000</td>\n",
       "      <td>14616.000000</td>\n",
       "      <td>14616.000000</td>\n",
       "      <td>14616.000000</td>\n",
       "      <td>14616.000000</td>\n",
       "      <td>14616.000000</td>\n",
       "      <td>14616.000000</td>\n",
       "      <td>14616.000000</td>\n",
       "    </tr>\n",
       "    <tr>\n",
       "      <th>mean</th>\n",
       "      <td>2023-11-01 11:30:00</td>\n",
       "      <td>2023.400657</td>\n",
       "      <td>5.720854</td>\n",
       "      <td>15.735632</td>\n",
       "      <td>11.500000</td>\n",
       "      <td>0.131294</td>\n",
       "      <td>0.060550</td>\n",
       "      <td>0.098043</td>\n",
       "      <td>0.249726</td>\n",
       "      <td>0.116585</td>\n",
       "      <td>...</td>\n",
       "      <td>17.068560</td>\n",
       "      <td>8.090783</td>\n",
       "      <td>159.739178</td>\n",
       "      <td>1008.265012</td>\n",
       "      <td>53.579923</td>\n",
       "      <td>2.263555</td>\n",
       "      <td>16.504787</td>\n",
       "      <td>4.368134</td>\n",
       "      <td>227.640683</td>\n",
       "      <td>0.819217</td>\n",
       "    </tr>\n",
       "    <tr>\n",
       "      <th>min</th>\n",
       "      <td>2023-01-01 00:00:00</td>\n",
       "      <td>2023.000000</td>\n",
       "      <td>1.000000</td>\n",
       "      <td>1.000000</td>\n",
       "      <td>0.000000</td>\n",
       "      <td>0.000000</td>\n",
       "      <td>0.000000</td>\n",
       "      <td>0.000000</td>\n",
       "      <td>0.000000</td>\n",
       "      <td>0.000000</td>\n",
       "      <td>...</td>\n",
       "      <td>0.660000</td>\n",
       "      <td>0.000000</td>\n",
       "      <td>0.000000</td>\n",
       "      <td>982.420000</td>\n",
       "      <td>0.000000</td>\n",
       "      <td>0.000000</td>\n",
       "      <td>3.000000</td>\n",
       "      <td>0.000000</td>\n",
       "      <td>0.000000</td>\n",
       "      <td>0.000000</td>\n",
       "    </tr>\n",
       "    <tr>\n",
       "      <th>25%</th>\n",
       "      <td>2023-06-02 05:45:00</td>\n",
       "      <td>2023.000000</td>\n",
       "      <td>3.000000</td>\n",
       "      <td>8.000000</td>\n",
       "      <td>5.750000</td>\n",
       "      <td>0.000000</td>\n",
       "      <td>0.000000</td>\n",
       "      <td>0.000000</td>\n",
       "      <td>0.000000</td>\n",
       "      <td>0.000000</td>\n",
       "      <td>...</td>\n",
       "      <td>9.170000</td>\n",
       "      <td>2.870000</td>\n",
       "      <td>80.965000</td>\n",
       "      <td>1003.277500</td>\n",
       "      <td>26.670000</td>\n",
       "      <td>0.000000</td>\n",
       "      <td>10.000000</td>\n",
       "      <td>3.990000</td>\n",
       "      <td>0.000000</td>\n",
       "      <td>0.000000</td>\n",
       "    </tr>\n",
       "    <tr>\n",
       "      <th>50%</th>\n",
       "      <td>2023-11-01 11:30:00</td>\n",
       "      <td>2023.000000</td>\n",
       "      <td>6.000000</td>\n",
       "      <td>16.000000</td>\n",
       "      <td>11.500000</td>\n",
       "      <td>0.000000</td>\n",
       "      <td>0.000000</td>\n",
       "      <td>0.000000</td>\n",
       "      <td>0.000000</td>\n",
       "      <td>0.000000</td>\n",
       "      <td>...</td>\n",
       "      <td>14.645000</td>\n",
       "      <td>7.670000</td>\n",
       "      <td>163.790000</td>\n",
       "      <td>1007.970000</td>\n",
       "      <td>51.540000</td>\n",
       "      <td>0.000000</td>\n",
       "      <td>10.000000</td>\n",
       "      <td>4.650000</td>\n",
       "      <td>10.665000</td>\n",
       "      <td>0.010000</td>\n",
       "    </tr>\n",
       "    <tr>\n",
       "      <th>75%</th>\n",
       "      <td>2024-04-01 17:15:00</td>\n",
       "      <td>2024.000000</td>\n",
       "      <td>8.000000</td>\n",
       "      <td>23.000000</td>\n",
       "      <td>17.250000</td>\n",
       "      <td>0.000000</td>\n",
       "      <td>0.000000</td>\n",
       "      <td>0.000000</td>\n",
       "      <td>0.000000</td>\n",
       "      <td>0.000000</td>\n",
       "      <td>...</td>\n",
       "      <td>23.410000</td>\n",
       "      <td>11.750000</td>\n",
       "      <td>241.402500</td>\n",
       "      <td>1013.400000</td>\n",
       "      <td>87.790000</td>\n",
       "      <td>4.740000</td>\n",
       "      <td>12.580000</td>\n",
       "      <td>4.650000</td>\n",
       "      <td>459.745000</td>\n",
       "      <td>1.660000</td>\n",
       "    </tr>\n",
       "    <tr>\n",
       "      <th>max</th>\n",
       "      <td>2024-08-31 23:00:00</td>\n",
       "      <td>2024.000000</td>\n",
       "      <td>12.000000</td>\n",
       "      <td>31.000000</td>\n",
       "      <td>23.000000</td>\n",
       "      <td>1.000000</td>\n",
       "      <td>1.000000</td>\n",
       "      <td>1.000000</td>\n",
       "      <td>1.000000</td>\n",
       "      <td>1.000000</td>\n",
       "      <td>...</td>\n",
       "      <td>84.120000</td>\n",
       "      <td>71.970000</td>\n",
       "      <td>360.000000</td>\n",
       "      <td>1022.060000</td>\n",
       "      <td>100.000000</td>\n",
       "      <td>10.000000</td>\n",
       "      <td>97.740000</td>\n",
       "      <td>24.100000</td>\n",
       "      <td>1026.650000</td>\n",
       "      <td>3.700000</td>\n",
       "    </tr>\n",
       "    <tr>\n",
       "      <th>std</th>\n",
       "      <td>NaN</td>\n",
       "      <td>0.490048</td>\n",
       "      <td>3.195073</td>\n",
       "      <td>8.803610</td>\n",
       "      <td>6.922423</td>\n",
       "      <td>0.337734</td>\n",
       "      <td>0.238511</td>\n",
       "      <td>0.297383</td>\n",
       "      <td>0.432869</td>\n",
       "      <td>0.320936</td>\n",
       "      <td>...</td>\n",
       "      <td>10.195911</td>\n",
       "      <td>6.250203</td>\n",
       "      <td>104.422027</td>\n",
       "      <td>6.010683</td>\n",
       "      <td>35.166637</td>\n",
       "      <td>3.083074</td>\n",
       "      <td>15.031827</td>\n",
       "      <td>1.376994</td>\n",
       "      <td>307.219387</td>\n",
       "      <td>1.106444</td>\n",
       "    </tr>\n",
       "  </tbody>\n",
       "</table>\n",
       "<p>8 rows × 32 columns</p>\n",
       "</div>"
      ],
      "text/plain": [
       "                  DateTime          Year         Month           Day  \\\n",
       "count                14616  14616.000000  14616.000000  14616.000000   \n",
       "mean   2023-11-01 11:30:00   2023.400657      5.720854     15.735632   \n",
       "min    2023-01-01 00:00:00   2023.000000      1.000000      1.000000   \n",
       "25%    2023-06-02 05:45:00   2023.000000      3.000000      8.000000   \n",
       "50%    2023-11-01 11:30:00   2023.000000      6.000000     16.000000   \n",
       "75%    2024-04-01 17:15:00   2024.000000      8.000000     23.000000   \n",
       "max    2024-08-31 23:00:00   2024.000000     12.000000     31.000000   \n",
       "std                    NaN      0.490048      3.195073      8.803610   \n",
       "\n",
       "               Hour  DaySegments_Afternoon  DaySegments_Early Morning  \\\n",
       "count  14616.000000           14616.000000               14616.000000   \n",
       "mean      11.500000               0.131294                   0.060550   \n",
       "min        0.000000               0.000000                   0.000000   \n",
       "25%        5.750000               0.000000                   0.000000   \n",
       "50%       11.500000               0.000000                   0.000000   \n",
       "75%       17.250000               0.000000                   0.000000   \n",
       "max       23.000000               1.000000                   1.000000   \n",
       "std        6.922423               0.337734                   0.238511   \n",
       "\n",
       "       DaySegments_Evening  DaySegments_Late Night  DaySegments_Midday  ...  \\\n",
       "count         14616.000000            14616.000000        14616.000000  ...   \n",
       "mean              0.098043                0.249726            0.116585  ...   \n",
       "min               0.000000                0.000000            0.000000  ...   \n",
       "25%               0.000000                0.000000            0.000000  ...   \n",
       "50%               0.000000                0.000000            0.000000  ...   \n",
       "75%               0.000000                0.000000            0.000000  ...   \n",
       "max               1.000000                1.000000            1.000000  ...   \n",
       "std               0.297383                0.432869            0.320936  ...   \n",
       "\n",
       "           Windgust     WindSpeed       WindDir  SeaLevelPressure  \\\n",
       "count  14616.000000  14616.000000  14616.000000      14616.000000   \n",
       "mean      17.068560      8.090783    159.739178       1008.265012   \n",
       "min        0.660000      0.000000      0.000000        982.420000   \n",
       "25%        9.170000      2.870000     80.965000       1003.277500   \n",
       "50%       14.645000      7.670000    163.790000       1007.970000   \n",
       "75%       23.410000     11.750000    241.402500       1013.400000   \n",
       "max       84.120000     71.970000    360.000000       1022.060000   \n",
       "std       10.195911      6.250203    104.422027          6.010683   \n",
       "\n",
       "         CloudCover       UVIndex    SevereRisk    Visibility  SolarRadiation  \\\n",
       "count  14616.000000  14616.000000  14616.000000  14616.000000    14616.000000   \n",
       "mean      53.579923      2.263555     16.504787      4.368134      227.640683   \n",
       "min        0.000000      0.000000      3.000000      0.000000        0.000000   \n",
       "25%       26.670000      0.000000     10.000000      3.990000        0.000000   \n",
       "50%       51.540000      0.000000     10.000000      4.650000       10.665000   \n",
       "75%       87.790000      4.740000     12.580000      4.650000      459.745000   \n",
       "max      100.000000     10.000000     97.740000     24.100000     1026.650000   \n",
       "std       35.166637      3.083074     15.031827      1.376994      307.219387   \n",
       "\n",
       "        SolarEnergy  \n",
       "count  14616.000000  \n",
       "mean       0.819217  \n",
       "min        0.000000  \n",
       "25%        0.000000  \n",
       "50%        0.010000  \n",
       "75%        1.660000  \n",
       "max        3.700000  \n",
       "std        1.106444  \n",
       "\n",
       "[8 rows x 32 columns]"
      ]
     },
     "execution_count": 4,
     "metadata": {},
     "output_type": "execute_result"
    }
   ],
   "source": [
    "weather_data.describe()"
   ]
  },
  {
   "cell_type": "markdown",
   "id": "ef63e814",
   "metadata": {
    "papermill": {
     "duration": 0.015227,
     "end_time": "2025-08-07T15:48:34.067152",
     "exception": false,
     "start_time": "2025-08-07T15:48:34.051925",
     "status": "completed"
    },
    "tags": []
   },
   "source": [
    "# Data Split"
   ]
  },
  {
   "cell_type": "code",
   "execution_count": 5,
   "id": "9f4be02b",
   "metadata": {
    "execution": {
     "iopub.execute_input": "2025-08-07T15:48:34.099938Z",
     "iopub.status.busy": "2025-08-07T15:48:34.099585Z",
     "iopub.status.idle": "2025-08-07T15:48:34.120674Z",
     "shell.execute_reply": "2025-08-07T15:48:34.119913Z"
    },
    "papermill": {
     "duration": 0.039353,
     "end_time": "2025-08-07T15:48:34.122265",
     "exception": false,
     "start_time": "2025-08-07T15:48:34.082912",
     "status": "completed"
    },
    "tags": []
   },
   "outputs": [],
   "source": [
    "sss = StratifiedShuffleSplit(n_splits=1, test_size=0.20, random_state=42)\n",
    "for train_idx, test_idx in sss.split(weather_data, weather_data['DaySegments']):\n",
    "    weather_data_train = weather_data.iloc[train_idx]\n",
    "    weather_data_test = weather_data.iloc[test_idx]"
   ]
  },
  {
   "cell_type": "code",
   "execution_count": 6,
   "id": "af9f9407",
   "metadata": {
    "execution": {
     "iopub.execute_input": "2025-08-07T15:48:34.154585Z",
     "iopub.status.busy": "2025-08-07T15:48:34.154279Z",
     "iopub.status.idle": "2025-08-07T15:48:34.162858Z",
     "shell.execute_reply": "2025-08-07T15:48:34.161931Z"
    },
    "papermill": {
     "duration": 0.026308,
     "end_time": "2025-08-07T15:48:34.164272",
     "exception": false,
     "start_time": "2025-08-07T15:48:34.137964",
     "status": "completed"
    },
    "tags": []
   },
   "outputs": [
    {
     "name": "stdout",
     "output_type": "stream",
     "text": [
      "Distribution of data based on DaySegments:\n",
      "     DaySegments  Count\n",
      "0     Late Night   3650\n",
      "1        Morning   3504\n",
      "2      Afternoon   1919\n",
      "3         Midday   1704\n",
      "4          Night   1521\n",
      "5        Evening   1433\n",
      "6  Early Morning    885\n"
     ]
    }
   ],
   "source": [
    "# Show the count of each unique class in DaySegments\n",
    "class_counts = weather_data['DaySegments'].value_counts().reset_index()\n",
    "class_counts.columns = ['DaySegments', 'Count']\n",
    "\n",
    "print(\"Distribution of data based on DaySegments:\")\n",
    "print(class_counts)"
   ]
  },
  {
   "cell_type": "code",
   "execution_count": 7,
   "id": "8607cf1f",
   "metadata": {
    "execution": {
     "iopub.execute_input": "2025-08-07T15:48:34.197029Z",
     "iopub.status.busy": "2025-08-07T15:48:34.196735Z",
     "iopub.status.idle": "2025-08-07T15:48:34.204303Z",
     "shell.execute_reply": "2025-08-07T15:48:34.203377Z"
    },
    "papermill": {
     "duration": 0.025851,
     "end_time": "2025-08-07T15:48:34.205582",
     "exception": false,
     "start_time": "2025-08-07T15:48:34.179731",
     "status": "completed"
    },
    "tags": []
   },
   "outputs": [
    {
     "name": "stdout",
     "output_type": "stream",
     "text": [
      "Distribution of DaySegments in Training Set:\n",
      "DaySegments\n",
      "Late Night       2920\n",
      "Morning          2803\n",
      "Afternoon        1535\n",
      "Midday           1363\n",
      "Night            1217\n",
      "Evening          1146\n",
      "Early Morning     708\n",
      "Name: count, dtype: int64\n",
      "\n",
      "Distribution of DaySegments in Test Set:\n",
      "DaySegments\n",
      "Late Night       730\n",
      "Morning          701\n",
      "Afternoon        384\n",
      "Midday           341\n",
      "Night            304\n",
      "Evening          287\n",
      "Early Morning    177\n",
      "Name: count, dtype: int64\n"
     ]
    }
   ],
   "source": [
    "print(\"Distribution of DaySegments in Training Set:\")\n",
    "print(weather_data_train['DaySegments'].value_counts())\n",
    "\n",
    "print(\"\\nDistribution of DaySegments in Test Set:\")\n",
    "print(weather_data_test['DaySegments'].value_counts())"
   ]
  },
  {
   "cell_type": "markdown",
   "id": "9ea42790",
   "metadata": {
    "papermill": {
     "duration": 0.015045,
     "end_time": "2025-08-07T15:48:34.236711",
     "exception": false,
     "start_time": "2025-08-07T15:48:34.221666",
     "status": "completed"
    },
    "tags": []
   },
   "source": [
    "# Some Reused Parameters"
   ]
  },
  {
   "cell_type": "code",
   "execution_count": 8,
   "id": "42f98d39",
   "metadata": {
    "execution": {
     "iopub.execute_input": "2025-08-07T15:48:34.269229Z",
     "iopub.status.busy": "2025-08-07T15:48:34.268925Z",
     "iopub.status.idle": "2025-08-07T15:48:34.273700Z",
     "shell.execute_reply": "2025-08-07T15:48:34.273005Z"
    },
    "papermill": {
     "duration": 0.022549,
     "end_time": "2025-08-07T15:48:34.274965",
     "exception": false,
     "start_time": "2025-08-07T15:48:34.252416",
     "status": "completed"
    },
    "tags": []
   },
   "outputs": [],
   "source": [
    "grid_param = {\n",
    "    'max_depth': [None, 5, 10, 15, 25],\n",
    "    'min_samples_split': [2, 5, 10, 20],\n",
    "    'min_samples_leaf': [1, 2, 4, 8],\n",
    "    'max_features': ['sqrt', 'log2', None, 0.5],\n",
    "    'criterion': ['squared_error', 'friedman_mse'],\n",
    "    'min_impurity_decrease': [0.0, 0.01, 0.02],\n",
    "    'ccp_alpha': [0.0, 0.01, 0.02]\n",
    "}"
   ]
  },
  {
   "cell_type": "code",
   "execution_count": 9,
   "id": "c35363a1",
   "metadata": {
    "execution": {
     "iopub.execute_input": "2025-08-07T15:48:34.307475Z",
     "iopub.status.busy": "2025-08-07T15:48:34.307189Z",
     "iopub.status.idle": "2025-08-07T15:48:34.311520Z",
     "shell.execute_reply": "2025-08-07T15:48:34.310717Z"
    },
    "papermill": {
     "duration": 0.022438,
     "end_time": "2025-08-07T15:48:34.313071",
     "exception": false,
     "start_time": "2025-08-07T15:48:34.290633",
     "status": "completed"
    },
    "tags": []
   },
   "outputs": [],
   "source": [
    "number_of_model_for_randomized_grid = 500\n",
    "model_name_for_saving = \"Decision Tree\"\n",
    "target_name_for_saving = \"SolarRadiation\""
   ]
  },
  {
   "cell_type": "markdown",
   "id": "5affed0b",
   "metadata": {
    "papermill": {
     "duration": 0.015453,
     "end_time": "2025-08-07T15:48:34.345552",
     "exception": false,
     "start_time": "2025-08-07T15:48:34.330099",
     "status": "completed"
    },
    "tags": []
   },
   "source": [
    "# All Features"
   ]
  },
  {
   "cell_type": "code",
   "execution_count": 10,
   "id": "2ee5fb42",
   "metadata": {
    "execution": {
     "iopub.execute_input": "2025-08-07T15:48:34.378010Z",
     "iopub.status.busy": "2025-08-07T15:48:34.377263Z",
     "iopub.status.idle": "2025-08-07T15:48:34.382995Z",
     "shell.execute_reply": "2025-08-07T15:48:34.382165Z"
    },
    "papermill": {
     "duration": 0.023217,
     "end_time": "2025-08-07T15:48:34.384273",
     "exception": false,
     "start_time": "2025-08-07T15:48:34.361056",
     "status": "completed"
    },
    "tags": []
   },
   "outputs": [],
   "source": [
    "X_train_raw = weather_data_train.drop(columns=['DateTime', # Model cannot use DateTime as a feature\n",
    "                                                'Year', # No Effect on weather data\n",
    "                                                'Season', # Season is categorical, not numerical\n",
    "                                                'DaySegments', # DaySegments is categorical, not numerical\n",
    "                                                'Visibility',  # Target variable\n",
    "                                                'SolarRadiation', # Target variable\n",
    "                                                'SolarEnergy', # Target variable\n",
    "                                                'Conditions', # Target variable\n",
    "                                                'Icon']) # Target variable\n",
    "y_train = weather_data_train['SolarRadiation']"
   ]
  },
  {
   "cell_type": "code",
   "execution_count": 11,
   "id": "770ca341",
   "metadata": {
    "execution": {
     "iopub.execute_input": "2025-08-07T15:48:34.416985Z",
     "iopub.status.busy": "2025-08-07T15:48:34.416667Z",
     "iopub.status.idle": "2025-08-07T15:48:34.422281Z",
     "shell.execute_reply": "2025-08-07T15:48:34.421567Z"
    },
    "papermill": {
     "duration": 0.023457,
     "end_time": "2025-08-07T15:48:34.423597",
     "exception": false,
     "start_time": "2025-08-07T15:48:34.400140",
     "status": "completed"
    },
    "tags": []
   },
   "outputs": [],
   "source": [
    "X_test_raw = weather_data_test.drop(columns=['DateTime', # Model cannot use DateTime as a feature\n",
    "                                                'Year', # No Effect on weather data\n",
    "                                                'Season', # Season is categorical, not numerical\n",
    "                                                'DaySegments', # DaySegments is categorical, not numerical\n",
    "                                                'Visibility',  # Target variable\n",
    "                                                'SolarRadiation', # Target variable\n",
    "                                                'SolarEnergy', # Target variable\n",
    "                                                'Conditions', # Target variable\n",
    "                                                'Icon']) # Target variable\n",
    "y_test = weather_data_test['SolarRadiation']"
   ]
  },
  {
   "cell_type": "code",
   "execution_count": 12,
   "id": "005842d1",
   "metadata": {
    "execution": {
     "iopub.execute_input": "2025-08-07T15:48:34.456037Z",
     "iopub.status.busy": "2025-08-07T15:48:34.455728Z",
     "iopub.status.idle": "2025-08-07T15:48:34.459855Z",
     "shell.execute_reply": "2025-08-07T15:48:34.459166Z"
    },
    "papermill": {
     "duration": 0.021772,
     "end_time": "2025-08-07T15:48:34.461101",
     "exception": false,
     "start_time": "2025-08-07T15:48:34.439329",
     "status": "completed"
    },
    "tags": []
   },
   "outputs": [],
   "source": [
    "feature_columns = [col for col in X_train_raw.columns]\n",
    "feature_columns_for_saving = ','.join(feature_columns)"
   ]
  },
  {
   "cell_type": "code",
   "execution_count": 13,
   "id": "04458611",
   "metadata": {
    "execution": {
     "iopub.execute_input": "2025-08-07T15:48:34.494432Z",
     "iopub.status.busy": "2025-08-07T15:48:34.494161Z",
     "iopub.status.idle": "2025-08-07T15:48:34.499137Z",
     "shell.execute_reply": "2025-08-07T15:48:34.498082Z"
    },
    "papermill": {
     "duration": 0.022991,
     "end_time": "2025-08-07T15:48:34.500478",
     "exception": false,
     "start_time": "2025-08-07T15:48:34.477487",
     "status": "completed"
    },
    "tags": []
   },
   "outputs": [
    {
     "name": "stdout",
     "output_type": "stream",
     "text": [
      "X_train:  11692\n",
      "y_train:  11692\n",
      "\n",
      "X_test:  2924\n",
      "y_test:  2924\n"
     ]
    }
   ],
   "source": [
    "print(\"X_train: \", len(X_train_raw))\n",
    "print(\"y_train: \", len(y_train))\n",
    "print(\"\\nX_test: \", len(X_test_raw))\n",
    "print(\"y_test: \", len(y_test))"
   ]
  },
  {
   "cell_type": "markdown",
   "id": "c651449e",
   "metadata": {
    "papermill": {
     "duration": 0.015827,
     "end_time": "2025-08-07T15:48:34.532305",
     "exception": false,
     "start_time": "2025-08-07T15:48:34.516478",
     "status": "completed"
    },
    "tags": []
   },
   "source": [
    "## MinMax Scaler"
   ]
  },
  {
   "cell_type": "code",
   "execution_count": 14,
   "id": "81c0773f",
   "metadata": {
    "execution": {
     "iopub.execute_input": "2025-08-07T15:48:34.566305Z",
     "iopub.status.busy": "2025-08-07T15:48:34.565989Z",
     "iopub.status.idle": "2025-08-07T15:48:34.604107Z",
     "shell.execute_reply": "2025-08-07T15:48:34.603369Z"
    },
    "papermill": {
     "duration": 0.057156,
     "end_time": "2025-08-07T15:48:34.605747",
     "exception": false,
     "start_time": "2025-08-07T15:48:34.548591",
     "status": "completed"
    },
    "tags": []
   },
   "outputs": [],
   "source": [
    "scaler = MinMaxScaler()\n",
    "X_train = scaler.fit_transform(X_train_raw)\n",
    "X_test = scaler.transform(X_test_raw)"
   ]
  },
  {
   "cell_type": "code",
   "execution_count": 15,
   "id": "3a5c36cf",
   "metadata": {
    "execution": {
     "iopub.execute_input": "2025-08-07T15:48:34.639147Z",
     "iopub.status.busy": "2025-08-07T15:48:34.638845Z",
     "iopub.status.idle": "2025-08-07T15:48:34.644456Z",
     "shell.execute_reply": "2025-08-07T15:48:34.643825Z"
    },
    "papermill": {
     "duration": 0.02401,
     "end_time": "2025-08-07T15:48:34.645599",
     "exception": false,
     "start_time": "2025-08-07T15:48:34.621589",
     "status": "completed"
    },
    "tags": []
   },
   "outputs": [
    {
     "data": {
      "text/plain": [
       "array([[0.72727273, 0.83333333, 0.43478261, ..., 0.4922    , 0.697     ,\n",
       "        0.31560059],\n",
       "       [0.90909091, 0.26666667, 0.69565217, ..., 0.        , 0.303     ,\n",
       "        0.07388643],\n",
       "       [0.09090909, 0.43333333, 0.        , ..., 0.        , 0.        ,\n",
       "        0.07388643],\n",
       "       ...,\n",
       "       [0.63636364, 0.86666667, 0.43478261, ..., 0.8756    , 0.306     ,\n",
       "        0.09436352],\n",
       "       [0.        , 0.4       , 0.91304348, ..., 0.        , 0.        ,\n",
       "        0.07388643],\n",
       "       [0.72727273, 0.26666667, 0.34782609, ..., 0.8925    , 0.29      ,\n",
       "        0.27812962]])"
      ]
     },
     "execution_count": 15,
     "metadata": {},
     "output_type": "execute_result"
    }
   ],
   "source": [
    "X_train"
   ]
  },
  {
   "cell_type": "code",
   "execution_count": 16,
   "id": "4a7e26a1",
   "metadata": {
    "execution": {
     "iopub.execute_input": "2025-08-07T15:48:34.678791Z",
     "iopub.status.busy": "2025-08-07T15:48:34.678474Z",
     "iopub.status.idle": "2025-08-07T15:48:34.684240Z",
     "shell.execute_reply": "2025-08-07T15:48:34.683503Z"
    },
    "papermill": {
     "duration": 0.023838,
     "end_time": "2025-08-07T15:48:34.685550",
     "exception": false,
     "start_time": "2025-08-07T15:48:34.661712",
     "status": "completed"
    },
    "tags": []
   },
   "outputs": [
    {
     "data": {
      "text/plain": [
       "array([[0.63636364, 0.06666667, 0.95652174, ..., 0.894     , 0.        ,\n",
       "        0.07388643],\n",
       "       [0.45454545, 0.26666667, 0.65217391, ..., 0.9677    , 0.074     ,\n",
       "        0.07388643],\n",
       "       [0.63636364, 0.03333333, 0.2173913 , ..., 0.9935    , 0.        ,\n",
       "        0.07388643],\n",
       "       ...,\n",
       "       [0.09090909, 0.2       , 0.73913043, ..., 0.0013    , 0.203     ,\n",
       "        0.07388643],\n",
       "       [0.27272727, 0.13333333, 0.86956522, ..., 0.        , 0.        ,\n",
       "        0.25575259],\n",
       "       [0.45454545, 0.73333333, 0.95652174, ..., 0.5161    , 0.        ,\n",
       "        0.07388643]])"
      ]
     },
     "execution_count": 16,
     "metadata": {},
     "output_type": "execute_result"
    }
   ],
   "source": [
    "X_test"
   ]
  },
  {
   "cell_type": "markdown",
   "id": "088ae092",
   "metadata": {
    "papermill": {
     "duration": 0.015864,
     "end_time": "2025-08-07T15:48:34.717760",
     "exception": false,
     "start_time": "2025-08-07T15:48:34.701896",
     "status": "completed"
    },
    "tags": []
   },
   "source": [
    "### Default Parameters"
   ]
  },
  {
   "cell_type": "code",
   "execution_count": 17,
   "id": "157a671a",
   "metadata": {
    "execution": {
     "iopub.execute_input": "2025-08-07T15:48:34.753387Z",
     "iopub.status.busy": "2025-08-07T15:48:34.753113Z",
     "iopub.status.idle": "2025-08-07T15:48:34.763891Z",
     "shell.execute_reply": "2025-08-07T15:48:34.763037Z"
    },
    "papermill": {
     "duration": 0.030536,
     "end_time": "2025-08-07T15:48:34.765580",
     "exception": false,
     "start_time": "2025-08-07T15:48:34.735044",
     "status": "completed"
    },
    "tags": []
   },
   "outputs": [
    {
     "data": {
      "text/html": [
       "<style>#sk-container-id-1 {color: black;background-color: white;}#sk-container-id-1 pre{padding: 0;}#sk-container-id-1 div.sk-toggleable {background-color: white;}#sk-container-id-1 label.sk-toggleable__label {cursor: pointer;display: block;width: 100%;margin-bottom: 0;padding: 0.3em;box-sizing: border-box;text-align: center;}#sk-container-id-1 label.sk-toggleable__label-arrow:before {content: \"▸\";float: left;margin-right: 0.25em;color: #696969;}#sk-container-id-1 label.sk-toggleable__label-arrow:hover:before {color: black;}#sk-container-id-1 div.sk-estimator:hover label.sk-toggleable__label-arrow:before {color: black;}#sk-container-id-1 div.sk-toggleable__content {max-height: 0;max-width: 0;overflow: hidden;text-align: left;background-color: #f0f8ff;}#sk-container-id-1 div.sk-toggleable__content pre {margin: 0.2em;color: black;border-radius: 0.25em;background-color: #f0f8ff;}#sk-container-id-1 input.sk-toggleable__control:checked~div.sk-toggleable__content {max-height: 200px;max-width: 100%;overflow: auto;}#sk-container-id-1 input.sk-toggleable__control:checked~label.sk-toggleable__label-arrow:before {content: \"▾\";}#sk-container-id-1 div.sk-estimator input.sk-toggleable__control:checked~label.sk-toggleable__label {background-color: #d4ebff;}#sk-container-id-1 div.sk-label input.sk-toggleable__control:checked~label.sk-toggleable__label {background-color: #d4ebff;}#sk-container-id-1 input.sk-hidden--visually {border: 0;clip: rect(1px 1px 1px 1px);clip: rect(1px, 1px, 1px, 1px);height: 1px;margin: -1px;overflow: hidden;padding: 0;position: absolute;width: 1px;}#sk-container-id-1 div.sk-estimator {font-family: monospace;background-color: #f0f8ff;border: 1px dotted black;border-radius: 0.25em;box-sizing: border-box;margin-bottom: 0.5em;}#sk-container-id-1 div.sk-estimator:hover {background-color: #d4ebff;}#sk-container-id-1 div.sk-parallel-item::after {content: \"\";width: 100%;border-bottom: 1px solid gray;flex-grow: 1;}#sk-container-id-1 div.sk-label:hover label.sk-toggleable__label {background-color: #d4ebff;}#sk-container-id-1 div.sk-serial::before {content: \"\";position: absolute;border-left: 1px solid gray;box-sizing: border-box;top: 0;bottom: 0;left: 50%;z-index: 0;}#sk-container-id-1 div.sk-serial {display: flex;flex-direction: column;align-items: center;background-color: white;padding-right: 0.2em;padding-left: 0.2em;position: relative;}#sk-container-id-1 div.sk-item {position: relative;z-index: 1;}#sk-container-id-1 div.sk-parallel {display: flex;align-items: stretch;justify-content: center;background-color: white;position: relative;}#sk-container-id-1 div.sk-item::before, #sk-container-id-1 div.sk-parallel-item::before {content: \"\";position: absolute;border-left: 1px solid gray;box-sizing: border-box;top: 0;bottom: 0;left: 50%;z-index: -1;}#sk-container-id-1 div.sk-parallel-item {display: flex;flex-direction: column;z-index: 1;position: relative;background-color: white;}#sk-container-id-1 div.sk-parallel-item:first-child::after {align-self: flex-end;width: 50%;}#sk-container-id-1 div.sk-parallel-item:last-child::after {align-self: flex-start;width: 50%;}#sk-container-id-1 div.sk-parallel-item:only-child::after {width: 0;}#sk-container-id-1 div.sk-dashed-wrapped {border: 1px dashed gray;margin: 0 0.4em 0.5em 0.4em;box-sizing: border-box;padding-bottom: 0.4em;background-color: white;}#sk-container-id-1 div.sk-label label {font-family: monospace;font-weight: bold;display: inline-block;line-height: 1.2em;}#sk-container-id-1 div.sk-label-container {text-align: center;}#sk-container-id-1 div.sk-container {/* jupyter's `normalize.less` sets `[hidden] { display: none; }` but bootstrap.min.css set `[hidden] { display: none !important; }` so we also need the `!important` here to be able to override the default hidden behavior on the sphinx rendered scikit-learn.org. See: https://github.com/scikit-learn/scikit-learn/issues/21755 */display: inline-block !important;position: relative;}#sk-container-id-1 div.sk-text-repr-fallback {display: none;}</style><div id=\"sk-container-id-1\" class=\"sk-top-container\"><div class=\"sk-text-repr-fallback\"><pre>DecisionTreeRegressor(random_state=42)</pre><b>In a Jupyter environment, please rerun this cell to show the HTML representation or trust the notebook. <br />On GitHub, the HTML representation is unable to render, please try loading this page with nbviewer.org.</b></div><div class=\"sk-container\" hidden><div class=\"sk-item\"><div class=\"sk-estimator sk-toggleable\"><input class=\"sk-toggleable__control sk-hidden--visually\" id=\"sk-estimator-id-1\" type=\"checkbox\" checked><label for=\"sk-estimator-id-1\" class=\"sk-toggleable__label sk-toggleable__label-arrow\">DecisionTreeRegressor</label><div class=\"sk-toggleable__content\"><pre>DecisionTreeRegressor(random_state=42)</pre></div></div></div></div></div>"
      ],
      "text/plain": [
       "DecisionTreeRegressor(random_state=42)"
      ]
     },
     "execution_count": 17,
     "metadata": {},
     "output_type": "execute_result"
    }
   ],
   "source": [
    "training_model = DecisionTreeRegressor(random_state=42)\n",
    "training_model"
   ]
  },
  {
   "cell_type": "code",
   "execution_count": 18,
   "id": "3249a4a3",
   "metadata": {
    "execution": {
     "iopub.execute_input": "2025-08-07T15:48:34.799996Z",
     "iopub.status.busy": "2025-08-07T15:48:34.799709Z",
     "iopub.status.idle": "2025-08-07T15:48:34.946845Z",
     "shell.execute_reply": "2025-08-07T15:48:34.946000Z"
    },
    "papermill": {
     "duration": 0.165511,
     "end_time": "2025-08-07T15:48:34.948256",
     "exception": false,
     "start_time": "2025-08-07T15:48:34.782745",
     "status": "completed"
    },
    "tags": []
   },
   "outputs": [
    {
     "name": "stdout",
     "output_type": "stream",
     "text": [
      "CPU times: user 141 ms, sys: 0 ns, total: 141 ms\n",
      "Wall time: 140 ms\n"
     ]
    },
    {
     "data": {
      "text/html": [
       "<style>#sk-container-id-2 {color: black;background-color: white;}#sk-container-id-2 pre{padding: 0;}#sk-container-id-2 div.sk-toggleable {background-color: white;}#sk-container-id-2 label.sk-toggleable__label {cursor: pointer;display: block;width: 100%;margin-bottom: 0;padding: 0.3em;box-sizing: border-box;text-align: center;}#sk-container-id-2 label.sk-toggleable__label-arrow:before {content: \"▸\";float: left;margin-right: 0.25em;color: #696969;}#sk-container-id-2 label.sk-toggleable__label-arrow:hover:before {color: black;}#sk-container-id-2 div.sk-estimator:hover label.sk-toggleable__label-arrow:before {color: black;}#sk-container-id-2 div.sk-toggleable__content {max-height: 0;max-width: 0;overflow: hidden;text-align: left;background-color: #f0f8ff;}#sk-container-id-2 div.sk-toggleable__content pre {margin: 0.2em;color: black;border-radius: 0.25em;background-color: #f0f8ff;}#sk-container-id-2 input.sk-toggleable__control:checked~div.sk-toggleable__content {max-height: 200px;max-width: 100%;overflow: auto;}#sk-container-id-2 input.sk-toggleable__control:checked~label.sk-toggleable__label-arrow:before {content: \"▾\";}#sk-container-id-2 div.sk-estimator input.sk-toggleable__control:checked~label.sk-toggleable__label {background-color: #d4ebff;}#sk-container-id-2 div.sk-label input.sk-toggleable__control:checked~label.sk-toggleable__label {background-color: #d4ebff;}#sk-container-id-2 input.sk-hidden--visually {border: 0;clip: rect(1px 1px 1px 1px);clip: rect(1px, 1px, 1px, 1px);height: 1px;margin: -1px;overflow: hidden;padding: 0;position: absolute;width: 1px;}#sk-container-id-2 div.sk-estimator {font-family: monospace;background-color: #f0f8ff;border: 1px dotted black;border-radius: 0.25em;box-sizing: border-box;margin-bottom: 0.5em;}#sk-container-id-2 div.sk-estimator:hover {background-color: #d4ebff;}#sk-container-id-2 div.sk-parallel-item::after {content: \"\";width: 100%;border-bottom: 1px solid gray;flex-grow: 1;}#sk-container-id-2 div.sk-label:hover label.sk-toggleable__label {background-color: #d4ebff;}#sk-container-id-2 div.sk-serial::before {content: \"\";position: absolute;border-left: 1px solid gray;box-sizing: border-box;top: 0;bottom: 0;left: 50%;z-index: 0;}#sk-container-id-2 div.sk-serial {display: flex;flex-direction: column;align-items: center;background-color: white;padding-right: 0.2em;padding-left: 0.2em;position: relative;}#sk-container-id-2 div.sk-item {position: relative;z-index: 1;}#sk-container-id-2 div.sk-parallel {display: flex;align-items: stretch;justify-content: center;background-color: white;position: relative;}#sk-container-id-2 div.sk-item::before, #sk-container-id-2 div.sk-parallel-item::before {content: \"\";position: absolute;border-left: 1px solid gray;box-sizing: border-box;top: 0;bottom: 0;left: 50%;z-index: -1;}#sk-container-id-2 div.sk-parallel-item {display: flex;flex-direction: column;z-index: 1;position: relative;background-color: white;}#sk-container-id-2 div.sk-parallel-item:first-child::after {align-self: flex-end;width: 50%;}#sk-container-id-2 div.sk-parallel-item:last-child::after {align-self: flex-start;width: 50%;}#sk-container-id-2 div.sk-parallel-item:only-child::after {width: 0;}#sk-container-id-2 div.sk-dashed-wrapped {border: 1px dashed gray;margin: 0 0.4em 0.5em 0.4em;box-sizing: border-box;padding-bottom: 0.4em;background-color: white;}#sk-container-id-2 div.sk-label label {font-family: monospace;font-weight: bold;display: inline-block;line-height: 1.2em;}#sk-container-id-2 div.sk-label-container {text-align: center;}#sk-container-id-2 div.sk-container {/* jupyter's `normalize.less` sets `[hidden] { display: none; }` but bootstrap.min.css set `[hidden] { display: none !important; }` so we also need the `!important` here to be able to override the default hidden behavior on the sphinx rendered scikit-learn.org. See: https://github.com/scikit-learn/scikit-learn/issues/21755 */display: inline-block !important;position: relative;}#sk-container-id-2 div.sk-text-repr-fallback {display: none;}</style><div id=\"sk-container-id-2\" class=\"sk-top-container\"><div class=\"sk-text-repr-fallback\"><pre>DecisionTreeRegressor(random_state=42)</pre><b>In a Jupyter environment, please rerun this cell to show the HTML representation or trust the notebook. <br />On GitHub, the HTML representation is unable to render, please try loading this page with nbviewer.org.</b></div><div class=\"sk-container\" hidden><div class=\"sk-item\"><div class=\"sk-estimator sk-toggleable\"><input class=\"sk-toggleable__control sk-hidden--visually\" id=\"sk-estimator-id-2\" type=\"checkbox\" checked><label for=\"sk-estimator-id-2\" class=\"sk-toggleable__label sk-toggleable__label-arrow\">DecisionTreeRegressor</label><div class=\"sk-toggleable__content\"><pre>DecisionTreeRegressor(random_state=42)</pre></div></div></div></div></div>"
      ],
      "text/plain": [
       "DecisionTreeRegressor(random_state=42)"
      ]
     },
     "execution_count": 18,
     "metadata": {},
     "output_type": "execute_result"
    }
   ],
   "source": [
    "%%time\n",
    "training_model.fit(X_train, y_train)"
   ]
  },
  {
   "cell_type": "code",
   "execution_count": 19,
   "id": "8f37602b",
   "metadata": {
    "execution": {
     "iopub.execute_input": "2025-08-07T15:48:34.985145Z",
     "iopub.status.busy": "2025-08-07T15:48:34.984845Z",
     "iopub.status.idle": "2025-08-07T15:48:34.991733Z",
     "shell.execute_reply": "2025-08-07T15:48:34.990955Z"
    },
    "papermill": {
     "duration": 0.02624,
     "end_time": "2025-08-07T15:48:34.993163",
     "exception": false,
     "start_time": "2025-08-07T15:48:34.966923",
     "status": "completed"
    },
    "tags": []
   },
   "outputs": [
    {
     "data": {
      "text/plain": [
       "array([  0.  ,  55.39,   0.  , ..., 208.26,   0.  ,   0.  ])"
      ]
     },
     "execution_count": 19,
     "metadata": {},
     "output_type": "execute_result"
    }
   ],
   "source": [
    "y_pred = training_model.predict(X_test)\n",
    "y_pred"
   ]
  },
  {
   "cell_type": "code",
   "execution_count": 20,
   "id": "26998225",
   "metadata": {
    "execution": {
     "iopub.execute_input": "2025-08-07T15:48:35.028681Z",
     "iopub.status.busy": "2025-08-07T15:48:35.028320Z",
     "iopub.status.idle": "2025-08-07T15:48:35.035265Z",
     "shell.execute_reply": "2025-08-07T15:48:35.034525Z"
    },
    "papermill": {
     "duration": 0.026299,
     "end_time": "2025-08-07T15:48:35.036599",
     "exception": false,
     "start_time": "2025-08-07T15:48:35.010300",
     "status": "completed"
    },
    "tags": []
   },
   "outputs": [
    {
     "data": {
      "text/plain": [
       "5158       0.00\n",
       "3831     105.26\n",
       "5117       0.00\n",
       "6326     758.39\n",
       "11359    135.87\n",
       "          ...  \n",
       "10290     74.58\n",
       "13995      0.00\n",
       "9665     241.81\n",
       "2276       0.00\n",
       "4174       0.00\n",
       "Name: SolarRadiation, Length: 2924, dtype: float64"
      ]
     },
     "execution_count": 20,
     "metadata": {},
     "output_type": "execute_result"
    }
   ],
   "source": [
    "y_test"
   ]
  },
  {
   "cell_type": "code",
   "execution_count": 21,
   "id": "1074cef2",
   "metadata": {
    "execution": {
     "iopub.execute_input": "2025-08-07T15:48:35.074451Z",
     "iopub.status.busy": "2025-08-07T15:48:35.074136Z",
     "iopub.status.idle": "2025-08-07T15:48:35.081918Z",
     "shell.execute_reply": "2025-08-07T15:48:35.081063Z"
    },
    "papermill": {
     "duration": 0.027847,
     "end_time": "2025-08-07T15:48:35.083363",
     "exception": false,
     "start_time": "2025-08-07T15:48:35.055516",
     "status": "completed"
    },
    "tags": []
   },
   "outputs": [],
   "source": [
    "mse = mean_squared_error(y_test, y_pred)\n",
    "mae = mean_absolute_error(y_test, y_pred)\n",
    "r2 = r2_score(y_test, y_pred)\n",
    "rmse = math.sqrt(mse)"
   ]
  },
  {
   "cell_type": "code",
   "execution_count": 22,
   "id": "8475142e",
   "metadata": {
    "execution": {
     "iopub.execute_input": "2025-08-07T15:48:35.119722Z",
     "iopub.status.busy": "2025-08-07T15:48:35.119390Z",
     "iopub.status.idle": "2025-08-07T15:48:35.124212Z",
     "shell.execute_reply": "2025-08-07T15:48:35.123304Z"
    },
    "papermill": {
     "duration": 0.024688,
     "end_time": "2025-08-07T15:48:35.125695",
     "exception": false,
     "start_time": "2025-08-07T15:48:35.101007",
     "status": "completed"
    },
    "tags": []
   },
   "outputs": [
    {
     "name": "stdout",
     "output_type": "stream",
     "text": [
      "MSE Score: 374.43941723666217\n",
      "MAE Score: 10.195677154582762\n",
      "R2 Score: 0.9960182338035429\n",
      "RMSE Score: 19.350437132960643\n"
     ]
    }
   ],
   "source": [
    "print(\"MSE Score:\", mse)\n",
    "print(\"MAE Score:\", mae)\n",
    "print(\"R2 Score:\", r2)\n",
    "print(\"RMSE Score:\", rmse)"
   ]
  },
  {
   "cell_type": "code",
   "execution_count": 23,
   "id": "bc99e7fe",
   "metadata": {
    "execution": {
     "iopub.execute_input": "2025-08-07T15:48:35.161812Z",
     "iopub.status.busy": "2025-08-07T15:48:35.161497Z",
     "iopub.status.idle": "2025-08-07T15:48:35.176533Z",
     "shell.execute_reply": "2025-08-07T15:48:35.175580Z"
    },
    "papermill": {
     "duration": 0.03441,
     "end_time": "2025-08-07T15:48:35.177846",
     "exception": false,
     "start_time": "2025-08-07T15:48:35.143436",
     "status": "completed"
    },
    "tags": []
   },
   "outputs": [
    {
     "name": "stdout",
     "output_type": "stream",
     "text": [
      "✨ New regression model added:\n",
      "   MSE: 374.439417, R²: 0.996018\n",
      "   Features: 27\n",
      "💾 Registry updated: Model_Training_History/History_Regression.csv\n"
     ]
    }
   ],
   "source": [
    "regression_params = {\n",
    "    'model_name': model_name_for_saving,\n",
    "    'scaler_name': \"MinMaxScaler\",\n",
    "    'features_list': feature_columns_for_saving,\n",
    "    'target_column': target_name_for_saving,\n",
    "    'mse': mse,\n",
    "    'mae': mae,\n",
    "    'rmse': rmse,\n",
    "    'r2': r2,\n",
    "    'parameters': json.dumps(training_model.get_params())\n",
    "}\n",
    "save_model_performance_if_better('regression', regression_params)"
   ]
  },
  {
   "cell_type": "markdown",
   "id": "27529f1b",
   "metadata": {
    "papermill": {
     "duration": 0.017552,
     "end_time": "2025-08-07T15:48:35.213080",
     "exception": false,
     "start_time": "2025-08-07T15:48:35.195528",
     "status": "completed"
    },
    "tags": []
   },
   "source": [
    "### Tuning with Grid Search"
   ]
  },
  {
   "cell_type": "code",
   "execution_count": 24,
   "id": "f0899af7",
   "metadata": {
    "execution": {
     "iopub.execute_input": "2025-08-07T15:48:35.249762Z",
     "iopub.status.busy": "2025-08-07T15:48:35.249399Z",
     "iopub.status.idle": "2025-08-07T15:48:35.253854Z",
     "shell.execute_reply": "2025-08-07T15:48:35.253047Z"
    },
    "papermill": {
     "duration": 0.024303,
     "end_time": "2025-08-07T15:48:35.255393",
     "exception": false,
     "start_time": "2025-08-07T15:48:35.231090",
     "status": "completed"
    },
    "tags": []
   },
   "outputs": [],
   "source": [
    "grid_search = GridSearchCV(\n",
    "    DecisionTreeRegressor(random_state=42), \n",
    "    grid_param, \n",
    "    cv=5, \n",
    "    scoring='neg_mean_squared_error', \n",
    "    n_jobs=-1, # allow parallel processing, you cant use your own laptop while this runs\n",
    "    verbose=1\n",
    ")"
   ]
  },
  {
   "cell_type": "code",
   "execution_count": 25,
   "id": "39949cf7",
   "metadata": {
    "execution": {
     "iopub.execute_input": "2025-08-07T15:48:35.292284Z",
     "iopub.status.busy": "2025-08-07T15:48:35.291736Z",
     "iopub.status.idle": "2025-08-07T15:56:46.946739Z",
     "shell.execute_reply": "2025-08-07T15:56:46.945877Z"
    },
    "papermill": {
     "duration": 491.691515,
     "end_time": "2025-08-07T15:56:46.964940",
     "exception": false,
     "start_time": "2025-08-07T15:48:35.273425",
     "status": "completed"
    },
    "tags": []
   },
   "outputs": [
    {
     "name": "stdout",
     "output_type": "stream",
     "text": [
      "Starting hyperparameter tuning...\n",
      "Fitting 5 folds for each of 5760 candidates, totalling 28800 fits\n",
      "CPU times: user 20.9 s, sys: 2.84 s, total: 23.8 s\n",
      "Wall time: 8min 11s\n"
     ]
    },
    {
     "data": {
      "text/html": [
       "<style>#sk-container-id-3 {color: black;background-color: white;}#sk-container-id-3 pre{padding: 0;}#sk-container-id-3 div.sk-toggleable {background-color: white;}#sk-container-id-3 label.sk-toggleable__label {cursor: pointer;display: block;width: 100%;margin-bottom: 0;padding: 0.3em;box-sizing: border-box;text-align: center;}#sk-container-id-3 label.sk-toggleable__label-arrow:before {content: \"▸\";float: left;margin-right: 0.25em;color: #696969;}#sk-container-id-3 label.sk-toggleable__label-arrow:hover:before {color: black;}#sk-container-id-3 div.sk-estimator:hover label.sk-toggleable__label-arrow:before {color: black;}#sk-container-id-3 div.sk-toggleable__content {max-height: 0;max-width: 0;overflow: hidden;text-align: left;background-color: #f0f8ff;}#sk-container-id-3 div.sk-toggleable__content pre {margin: 0.2em;color: black;border-radius: 0.25em;background-color: #f0f8ff;}#sk-container-id-3 input.sk-toggleable__control:checked~div.sk-toggleable__content {max-height: 200px;max-width: 100%;overflow: auto;}#sk-container-id-3 input.sk-toggleable__control:checked~label.sk-toggleable__label-arrow:before {content: \"▾\";}#sk-container-id-3 div.sk-estimator input.sk-toggleable__control:checked~label.sk-toggleable__label {background-color: #d4ebff;}#sk-container-id-3 div.sk-label input.sk-toggleable__control:checked~label.sk-toggleable__label {background-color: #d4ebff;}#sk-container-id-3 input.sk-hidden--visually {border: 0;clip: rect(1px 1px 1px 1px);clip: rect(1px, 1px, 1px, 1px);height: 1px;margin: -1px;overflow: hidden;padding: 0;position: absolute;width: 1px;}#sk-container-id-3 div.sk-estimator {font-family: monospace;background-color: #f0f8ff;border: 1px dotted black;border-radius: 0.25em;box-sizing: border-box;margin-bottom: 0.5em;}#sk-container-id-3 div.sk-estimator:hover {background-color: #d4ebff;}#sk-container-id-3 div.sk-parallel-item::after {content: \"\";width: 100%;border-bottom: 1px solid gray;flex-grow: 1;}#sk-container-id-3 div.sk-label:hover label.sk-toggleable__label {background-color: #d4ebff;}#sk-container-id-3 div.sk-serial::before {content: \"\";position: absolute;border-left: 1px solid gray;box-sizing: border-box;top: 0;bottom: 0;left: 50%;z-index: 0;}#sk-container-id-3 div.sk-serial {display: flex;flex-direction: column;align-items: center;background-color: white;padding-right: 0.2em;padding-left: 0.2em;position: relative;}#sk-container-id-3 div.sk-item {position: relative;z-index: 1;}#sk-container-id-3 div.sk-parallel {display: flex;align-items: stretch;justify-content: center;background-color: white;position: relative;}#sk-container-id-3 div.sk-item::before, #sk-container-id-3 div.sk-parallel-item::before {content: \"\";position: absolute;border-left: 1px solid gray;box-sizing: border-box;top: 0;bottom: 0;left: 50%;z-index: -1;}#sk-container-id-3 div.sk-parallel-item {display: flex;flex-direction: column;z-index: 1;position: relative;background-color: white;}#sk-container-id-3 div.sk-parallel-item:first-child::after {align-self: flex-end;width: 50%;}#sk-container-id-3 div.sk-parallel-item:last-child::after {align-self: flex-start;width: 50%;}#sk-container-id-3 div.sk-parallel-item:only-child::after {width: 0;}#sk-container-id-3 div.sk-dashed-wrapped {border: 1px dashed gray;margin: 0 0.4em 0.5em 0.4em;box-sizing: border-box;padding-bottom: 0.4em;background-color: white;}#sk-container-id-3 div.sk-label label {font-family: monospace;font-weight: bold;display: inline-block;line-height: 1.2em;}#sk-container-id-3 div.sk-label-container {text-align: center;}#sk-container-id-3 div.sk-container {/* jupyter's `normalize.less` sets `[hidden] { display: none; }` but bootstrap.min.css set `[hidden] { display: none !important; }` so we also need the `!important` here to be able to override the default hidden behavior on the sphinx rendered scikit-learn.org. See: https://github.com/scikit-learn/scikit-learn/issues/21755 */display: inline-block !important;position: relative;}#sk-container-id-3 div.sk-text-repr-fallback {display: none;}</style><div id=\"sk-container-id-3\" class=\"sk-top-container\"><div class=\"sk-text-repr-fallback\"><pre>GridSearchCV(cv=5, estimator=DecisionTreeRegressor(random_state=42), n_jobs=-1,\n",
       "             param_grid={&#x27;ccp_alpha&#x27;: [0.0, 0.01, 0.02],\n",
       "                         &#x27;criterion&#x27;: [&#x27;squared_error&#x27;, &#x27;friedman_mse&#x27;],\n",
       "                         &#x27;max_depth&#x27;: [None, 5, 10, 15, 25],\n",
       "                         &#x27;max_features&#x27;: [&#x27;sqrt&#x27;, &#x27;log2&#x27;, None, 0.5],\n",
       "                         &#x27;min_impurity_decrease&#x27;: [0.0, 0.01, 0.02],\n",
       "                         &#x27;min_samples_leaf&#x27;: [1, 2, 4, 8],\n",
       "                         &#x27;min_samples_split&#x27;: [2, 5, 10, 20]},\n",
       "             scoring=&#x27;neg_mean_squared_error&#x27;, verbose=1)</pre><b>In a Jupyter environment, please rerun this cell to show the HTML representation or trust the notebook. <br />On GitHub, the HTML representation is unable to render, please try loading this page with nbviewer.org.</b></div><div class=\"sk-container\" hidden><div class=\"sk-item sk-dashed-wrapped\"><div class=\"sk-label-container\"><div class=\"sk-label sk-toggleable\"><input class=\"sk-toggleable__control sk-hidden--visually\" id=\"sk-estimator-id-3\" type=\"checkbox\" ><label for=\"sk-estimator-id-3\" class=\"sk-toggleable__label sk-toggleable__label-arrow\">GridSearchCV</label><div class=\"sk-toggleable__content\"><pre>GridSearchCV(cv=5, estimator=DecisionTreeRegressor(random_state=42), n_jobs=-1,\n",
       "             param_grid={&#x27;ccp_alpha&#x27;: [0.0, 0.01, 0.02],\n",
       "                         &#x27;criterion&#x27;: [&#x27;squared_error&#x27;, &#x27;friedman_mse&#x27;],\n",
       "                         &#x27;max_depth&#x27;: [None, 5, 10, 15, 25],\n",
       "                         &#x27;max_features&#x27;: [&#x27;sqrt&#x27;, &#x27;log2&#x27;, None, 0.5],\n",
       "                         &#x27;min_impurity_decrease&#x27;: [0.0, 0.01, 0.02],\n",
       "                         &#x27;min_samples_leaf&#x27;: [1, 2, 4, 8],\n",
       "                         &#x27;min_samples_split&#x27;: [2, 5, 10, 20]},\n",
       "             scoring=&#x27;neg_mean_squared_error&#x27;, verbose=1)</pre></div></div></div><div class=\"sk-parallel\"><div class=\"sk-parallel-item\"><div class=\"sk-item\"><div class=\"sk-label-container\"><div class=\"sk-label sk-toggleable\"><input class=\"sk-toggleable__control sk-hidden--visually\" id=\"sk-estimator-id-4\" type=\"checkbox\" ><label for=\"sk-estimator-id-4\" class=\"sk-toggleable__label sk-toggleable__label-arrow\">estimator: DecisionTreeRegressor</label><div class=\"sk-toggleable__content\"><pre>DecisionTreeRegressor(random_state=42)</pre></div></div></div><div class=\"sk-serial\"><div class=\"sk-item\"><div class=\"sk-estimator sk-toggleable\"><input class=\"sk-toggleable__control sk-hidden--visually\" id=\"sk-estimator-id-5\" type=\"checkbox\" ><label for=\"sk-estimator-id-5\" class=\"sk-toggleable__label sk-toggleable__label-arrow\">DecisionTreeRegressor</label><div class=\"sk-toggleable__content\"><pre>DecisionTreeRegressor(random_state=42)</pre></div></div></div></div></div></div></div></div></div></div>"
      ],
      "text/plain": [
       "GridSearchCV(cv=5, estimator=DecisionTreeRegressor(random_state=42), n_jobs=-1,\n",
       "             param_grid={'ccp_alpha': [0.0, 0.01, 0.02],\n",
       "                         'criterion': ['squared_error', 'friedman_mse'],\n",
       "                         'max_depth': [None, 5, 10, 15, 25],\n",
       "                         'max_features': ['sqrt', 'log2', None, 0.5],\n",
       "                         'min_impurity_decrease': [0.0, 0.01, 0.02],\n",
       "                         'min_samples_leaf': [1, 2, 4, 8],\n",
       "                         'min_samples_split': [2, 5, 10, 20]},\n",
       "             scoring='neg_mean_squared_error', verbose=1)"
      ]
     },
     "execution_count": 25,
     "metadata": {},
     "output_type": "execute_result"
    }
   ],
   "source": [
    "%%time\n",
    "print(\"Starting hyperparameter tuning...\")\n",
    "grid_search.fit(X_train, y_train)"
   ]
  },
  {
   "cell_type": "code",
   "execution_count": 26,
   "id": "e3ebf99b",
   "metadata": {
    "execution": {
     "iopub.execute_input": "2025-08-07T15:56:47.002472Z",
     "iopub.status.busy": "2025-08-07T15:56:47.001800Z",
     "iopub.status.idle": "2025-08-07T15:56:47.007627Z",
     "shell.execute_reply": "2025-08-07T15:56:47.006697Z"
    },
    "papermill": {
     "duration": 0.026141,
     "end_time": "2025-08-07T15:56:47.008956",
     "exception": false,
     "start_time": "2025-08-07T15:56:46.982815",
     "status": "completed"
    },
    "tags": []
   },
   "outputs": [
    {
     "name": "stdout",
     "output_type": "stream",
     "text": [
      "TUNING RESULTS\n",
      "==================================================\n",
      "Best Parameters: {'ccp_alpha': 0.02, 'criterion': 'squared_error', 'max_depth': 10, 'max_features': None, 'min_impurity_decrease': 0.0, 'min_samples_leaf': 8, 'min_samples_split': 20}\n",
      "Best Cross-Validation Score (Negative MSE): -248.35682847750212\n",
      "Best Cross-Validation Score (MSE): 248.35682847750212\n",
      "Best Cross-Validation Score (RMSE): 15.759340991218577\n"
     ]
    }
   ],
   "source": [
    "print(\"TUNING RESULTS\")\n",
    "print(\"=\"*50)\n",
    "print(\"Best Parameters:\", grid_search.best_params_)\n",
    "print(\"Best Cross-Validation Score (Negative MSE):\", grid_search.best_score_)\n",
    "print(\"Best Cross-Validation Score (MSE):\", -grid_search.best_score_)\n",
    "print(\"Best Cross-Validation Score (RMSE):\", math.sqrt(-grid_search.best_score_))"
   ]
  },
  {
   "cell_type": "code",
   "execution_count": 27,
   "id": "ea77fa56",
   "metadata": {
    "execution": {
     "iopub.execute_input": "2025-08-07T15:56:47.046494Z",
     "iopub.status.busy": "2025-08-07T15:56:47.046194Z",
     "iopub.status.idle": "2025-08-07T15:56:47.050817Z",
     "shell.execute_reply": "2025-08-07T15:56:47.050147Z"
    },
    "papermill": {
     "duration": 0.024893,
     "end_time": "2025-08-07T15:56:47.052116",
     "exception": false,
     "start_time": "2025-08-07T15:56:47.027223",
     "status": "completed"
    },
    "tags": []
   },
   "outputs": [],
   "source": [
    "grid_search_best_model = grid_search.best_estimator_\n",
    "y_pred = grid_search_best_model.predict(X_test)"
   ]
  },
  {
   "cell_type": "code",
   "execution_count": 28,
   "id": "57ea75ed",
   "metadata": {
    "execution": {
     "iopub.execute_input": "2025-08-07T15:56:47.090088Z",
     "iopub.status.busy": "2025-08-07T15:56:47.089497Z",
     "iopub.status.idle": "2025-08-07T15:56:47.096018Z",
     "shell.execute_reply": "2025-08-07T15:56:47.095191Z"
    },
    "papermill": {
     "duration": 0.026897,
     "end_time": "2025-08-07T15:56:47.097440",
     "exception": false,
     "start_time": "2025-08-07T15:56:47.070543",
     "status": "completed"
    },
    "tags": []
   },
   "outputs": [],
   "source": [
    "mse_grid_search = mean_squared_error(y_test, y_pred)\n",
    "mae_grid_search = mean_absolute_error(y_test, y_pred)\n",
    "r2_grid_search = r2_score(y_test, y_pred)\n",
    "rmse_grid_search = math.sqrt(mse_grid_search)"
   ]
  },
  {
   "cell_type": "code",
   "execution_count": 29,
   "id": "174d9d59",
   "metadata": {
    "execution": {
     "iopub.execute_input": "2025-08-07T15:56:47.134180Z",
     "iopub.status.busy": "2025-08-07T15:56:47.133891Z",
     "iopub.status.idle": "2025-08-07T15:56:47.138922Z",
     "shell.execute_reply": "2025-08-07T15:56:47.138098Z"
    },
    "papermill": {
     "duration": 0.024944,
     "end_time": "2025-08-07T15:56:47.140173",
     "exception": false,
     "start_time": "2025-08-07T15:56:47.115229",
     "status": "completed"
    },
    "tags": []
   },
   "outputs": [
    {
     "name": "stdout",
     "output_type": "stream",
     "text": [
      "MSE Score: 255.10764690891205\n",
      "MAE Score: 8.875827594842095\n",
      "R2 Score: 0.9972872006574094\n",
      "RMSE Score: 15.972089622491856\n"
     ]
    }
   ],
   "source": [
    "print(\"MSE Score:\", mse_grid_search)\n",
    "print(\"MAE Score:\", mae_grid_search)\n",
    "print(\"R2 Score:\", r2_grid_search)\n",
    "print(\"RMSE Score:\", rmse_grid_search)"
   ]
  },
  {
   "cell_type": "code",
   "execution_count": 30,
   "id": "b16eafc2",
   "metadata": {
    "execution": {
     "iopub.execute_input": "2025-08-07T15:56:47.177689Z",
     "iopub.status.busy": "2025-08-07T15:56:47.176939Z",
     "iopub.status.idle": "2025-08-07T15:56:47.187825Z",
     "shell.execute_reply": "2025-08-07T15:56:47.186963Z"
    },
    "papermill": {
     "duration": 0.030947,
     "end_time": "2025-08-07T15:56:47.189150",
     "exception": false,
     "start_time": "2025-08-07T15:56:47.158203",
     "status": "completed"
    },
    "tags": []
   },
   "outputs": [
    {
     "name": "stdout",
     "output_type": "stream",
     "text": [
      "✨ New regression model added:\n",
      "   MSE: 255.107647, R²: 0.997287\n",
      "   Features: 27\n",
      "💾 Registry updated: Model_Training_History/History_Regression.csv\n"
     ]
    }
   ],
   "source": [
    "regression_params = {\n",
    "    'model_name': model_name_for_saving + \" Tuned\",\n",
    "    'scaler_name': \"MinMaxScaler\",\n",
    "    'features_list': feature_columns_for_saving,\n",
    "    'target_column': target_name_for_saving,\n",
    "    'mse': mse_grid_search,\n",
    "    'mae': mae_grid_search,\n",
    "    'rmse': rmse_grid_search,\n",
    "    'r2': r2_grid_search,\n",
    "    'parameters' : json.dumps({\n",
    "        \"best_params\": grid_search.best_params_,\n",
    "        \"cv_score\": grid_search.best_score_,\n",
    "        \"all_params\": grid_search_best_model.get_params()\n",
    "    })\n",
    "}\n",
    "save_model_performance_if_better('regression', regression_params)"
   ]
  },
  {
   "cell_type": "markdown",
   "id": "6565d271",
   "metadata": {
    "papermill": {
     "duration": 0.018033,
     "end_time": "2025-08-07T15:56:47.225314",
     "exception": false,
     "start_time": "2025-08-07T15:56:47.207281",
     "status": "completed"
    },
    "tags": []
   },
   "source": [
    "## Standard Scaler"
   ]
  },
  {
   "cell_type": "code",
   "execution_count": 31,
   "id": "09160801",
   "metadata": {
    "execution": {
     "iopub.execute_input": "2025-08-07T15:56:47.262944Z",
     "iopub.status.busy": "2025-08-07T15:56:47.262611Z",
     "iopub.status.idle": "2025-08-07T15:56:47.291629Z",
     "shell.execute_reply": "2025-08-07T15:56:47.290805Z"
    },
    "papermill": {
     "duration": 0.049715,
     "end_time": "2025-08-07T15:56:47.293285",
     "exception": false,
     "start_time": "2025-08-07T15:56:47.243570",
     "status": "completed"
    },
    "tags": []
   },
   "outputs": [],
   "source": [
    "scaler = StandardScaler()\n",
    "X_train = scaler.fit_transform(X_train_raw)\n",
    "X_test = scaler.transform(X_test_raw)"
   ]
  },
  {
   "cell_type": "code",
   "execution_count": 32,
   "id": "b1440fe6",
   "metadata": {
    "execution": {
     "iopub.execute_input": "2025-08-07T15:56:47.331974Z",
     "iopub.status.busy": "2025-08-07T15:56:47.331609Z",
     "iopub.status.idle": "2025-08-07T15:56:47.337316Z",
     "shell.execute_reply": "2025-08-07T15:56:47.336509Z"
    },
    "papermill": {
     "duration": 0.026704,
     "end_time": "2025-08-07T15:56:47.338617",
     "exception": false,
     "start_time": "2025-08-07T15:56:47.311913",
     "status": "completed"
    },
    "tags": []
   },
   "outputs": [
    {
     "data": {
      "text/plain": [
       "array([[ 1.01884116,  1.17229173, -0.21938027, ..., -0.12088825,\n",
       "         1.52387472,  1.09644529],\n",
       "       [ 1.64376461, -0.75947244,  0.64624572, ..., -1.52028666,\n",
       "         0.24645772, -0.43343649],\n",
       "       [-1.16839092, -0.1913065 , -1.66209024, ..., -1.52028666,\n",
       "        -0.73592134, -0.43343649],\n",
       "       ...,\n",
       "       [ 0.70637943,  1.28592492, -0.21938027, ...,  0.96917545,\n",
       "         0.25618424, -0.30383078],\n",
       "       [-1.48085264, -0.30493969,  1.36760071, ..., -1.52028666,\n",
       "        -0.73592134, -0.43343649],\n",
       "       [ 1.01884116, -0.75947244, -0.50792226, ...,  1.01722469,\n",
       "         0.20430944,  0.85928021]])"
      ]
     },
     "execution_count": 32,
     "metadata": {},
     "output_type": "execute_result"
    }
   ],
   "source": [
    "X_train"
   ]
  },
  {
   "cell_type": "code",
   "execution_count": 33,
   "id": "02b70e39",
   "metadata": {
    "execution": {
     "iopub.execute_input": "2025-08-07T15:56:47.377371Z",
     "iopub.status.busy": "2025-08-07T15:56:47.377069Z",
     "iopub.status.idle": "2025-08-07T15:56:47.382875Z",
     "shell.execute_reply": "2025-08-07T15:56:47.382090Z"
    },
    "papermill": {
     "duration": 0.026428,
     "end_time": "2025-08-07T15:56:47.384140",
     "exception": false,
     "start_time": "2025-08-07T15:56:47.357712",
     "status": "completed"
    },
    "tags": []
   },
   "outputs": [
    {
     "data": {
      "text/plain": [
       "array([[ 0.70637943, -1.44127155,  1.51187171, ...,  1.02148941,\n",
       "        -0.73592134, -0.43343649],\n",
       "       [ 0.08145598, -0.75947244,  0.50197472, ...,  1.23102956,\n",
       "        -0.49600038, -0.43343649],\n",
       "       [ 0.70637943, -1.55490474, -0.94073525, ...,  1.30438283,\n",
       "        -0.73592134, -0.43343649],\n",
       "       ...,\n",
       "       [-1.16839092, -0.98673881,  0.79051672, ..., -1.51659057,\n",
       "        -0.07775979, -0.43343649],\n",
       "       [-0.54346747, -1.21400518,  1.22332971, ..., -1.52028666,\n",
       "        -0.73592134,  0.71764924],\n",
       "       [ 0.08145598,  0.83139217,  1.51187171, ..., -0.05293696,\n",
       "        -0.73592134, -0.43343649]])"
      ]
     },
     "execution_count": 33,
     "metadata": {},
     "output_type": "execute_result"
    }
   ],
   "source": [
    "X_test"
   ]
  },
  {
   "cell_type": "markdown",
   "id": "1d5df4a7",
   "metadata": {
    "papermill": {
     "duration": 0.018614,
     "end_time": "2025-08-07T15:56:47.421484",
     "exception": false,
     "start_time": "2025-08-07T15:56:47.402870",
     "status": "completed"
    },
    "tags": []
   },
   "source": [
    "### Default Parameters"
   ]
  },
  {
   "cell_type": "code",
   "execution_count": 34,
   "id": "7e2b7e65",
   "metadata": {
    "execution": {
     "iopub.execute_input": "2025-08-07T15:56:47.461749Z",
     "iopub.status.busy": "2025-08-07T15:56:47.461431Z",
     "iopub.status.idle": "2025-08-07T15:56:47.467772Z",
     "shell.execute_reply": "2025-08-07T15:56:47.466904Z"
    },
    "papermill": {
     "duration": 0.028101,
     "end_time": "2025-08-07T15:56:47.469254",
     "exception": false,
     "start_time": "2025-08-07T15:56:47.441153",
     "status": "completed"
    },
    "tags": []
   },
   "outputs": [
    {
     "data": {
      "text/html": [
       "<style>#sk-container-id-4 {color: black;background-color: white;}#sk-container-id-4 pre{padding: 0;}#sk-container-id-4 div.sk-toggleable {background-color: white;}#sk-container-id-4 label.sk-toggleable__label {cursor: pointer;display: block;width: 100%;margin-bottom: 0;padding: 0.3em;box-sizing: border-box;text-align: center;}#sk-container-id-4 label.sk-toggleable__label-arrow:before {content: \"▸\";float: left;margin-right: 0.25em;color: #696969;}#sk-container-id-4 label.sk-toggleable__label-arrow:hover:before {color: black;}#sk-container-id-4 div.sk-estimator:hover label.sk-toggleable__label-arrow:before {color: black;}#sk-container-id-4 div.sk-toggleable__content {max-height: 0;max-width: 0;overflow: hidden;text-align: left;background-color: #f0f8ff;}#sk-container-id-4 div.sk-toggleable__content pre {margin: 0.2em;color: black;border-radius: 0.25em;background-color: #f0f8ff;}#sk-container-id-4 input.sk-toggleable__control:checked~div.sk-toggleable__content {max-height: 200px;max-width: 100%;overflow: auto;}#sk-container-id-4 input.sk-toggleable__control:checked~label.sk-toggleable__label-arrow:before {content: \"▾\";}#sk-container-id-4 div.sk-estimator input.sk-toggleable__control:checked~label.sk-toggleable__label {background-color: #d4ebff;}#sk-container-id-4 div.sk-label input.sk-toggleable__control:checked~label.sk-toggleable__label {background-color: #d4ebff;}#sk-container-id-4 input.sk-hidden--visually {border: 0;clip: rect(1px 1px 1px 1px);clip: rect(1px, 1px, 1px, 1px);height: 1px;margin: -1px;overflow: hidden;padding: 0;position: absolute;width: 1px;}#sk-container-id-4 div.sk-estimator {font-family: monospace;background-color: #f0f8ff;border: 1px dotted black;border-radius: 0.25em;box-sizing: border-box;margin-bottom: 0.5em;}#sk-container-id-4 div.sk-estimator:hover {background-color: #d4ebff;}#sk-container-id-4 div.sk-parallel-item::after {content: \"\";width: 100%;border-bottom: 1px solid gray;flex-grow: 1;}#sk-container-id-4 div.sk-label:hover label.sk-toggleable__label {background-color: #d4ebff;}#sk-container-id-4 div.sk-serial::before {content: \"\";position: absolute;border-left: 1px solid gray;box-sizing: border-box;top: 0;bottom: 0;left: 50%;z-index: 0;}#sk-container-id-4 div.sk-serial {display: flex;flex-direction: column;align-items: center;background-color: white;padding-right: 0.2em;padding-left: 0.2em;position: relative;}#sk-container-id-4 div.sk-item {position: relative;z-index: 1;}#sk-container-id-4 div.sk-parallel {display: flex;align-items: stretch;justify-content: center;background-color: white;position: relative;}#sk-container-id-4 div.sk-item::before, #sk-container-id-4 div.sk-parallel-item::before {content: \"\";position: absolute;border-left: 1px solid gray;box-sizing: border-box;top: 0;bottom: 0;left: 50%;z-index: -1;}#sk-container-id-4 div.sk-parallel-item {display: flex;flex-direction: column;z-index: 1;position: relative;background-color: white;}#sk-container-id-4 div.sk-parallel-item:first-child::after {align-self: flex-end;width: 50%;}#sk-container-id-4 div.sk-parallel-item:last-child::after {align-self: flex-start;width: 50%;}#sk-container-id-4 div.sk-parallel-item:only-child::after {width: 0;}#sk-container-id-4 div.sk-dashed-wrapped {border: 1px dashed gray;margin: 0 0.4em 0.5em 0.4em;box-sizing: border-box;padding-bottom: 0.4em;background-color: white;}#sk-container-id-4 div.sk-label label {font-family: monospace;font-weight: bold;display: inline-block;line-height: 1.2em;}#sk-container-id-4 div.sk-label-container {text-align: center;}#sk-container-id-4 div.sk-container {/* jupyter's `normalize.less` sets `[hidden] { display: none; }` but bootstrap.min.css set `[hidden] { display: none !important; }` so we also need the `!important` here to be able to override the default hidden behavior on the sphinx rendered scikit-learn.org. See: https://github.com/scikit-learn/scikit-learn/issues/21755 */display: inline-block !important;position: relative;}#sk-container-id-4 div.sk-text-repr-fallback {display: none;}</style><div id=\"sk-container-id-4\" class=\"sk-top-container\"><div class=\"sk-text-repr-fallback\"><pre>DecisionTreeRegressor(random_state=42)</pre><b>In a Jupyter environment, please rerun this cell to show the HTML representation or trust the notebook. <br />On GitHub, the HTML representation is unable to render, please try loading this page with nbviewer.org.</b></div><div class=\"sk-container\" hidden><div class=\"sk-item\"><div class=\"sk-estimator sk-toggleable\"><input class=\"sk-toggleable__control sk-hidden--visually\" id=\"sk-estimator-id-6\" type=\"checkbox\" checked><label for=\"sk-estimator-id-6\" class=\"sk-toggleable__label sk-toggleable__label-arrow\">DecisionTreeRegressor</label><div class=\"sk-toggleable__content\"><pre>DecisionTreeRegressor(random_state=42)</pre></div></div></div></div></div>"
      ],
      "text/plain": [
       "DecisionTreeRegressor(random_state=42)"
      ]
     },
     "execution_count": 34,
     "metadata": {},
     "output_type": "execute_result"
    }
   ],
   "source": [
    "training_model = DecisionTreeRegressor(random_state=42)\n",
    "training_model"
   ]
  },
  {
   "cell_type": "code",
   "execution_count": 35,
   "id": "de3910ca",
   "metadata": {
    "execution": {
     "iopub.execute_input": "2025-08-07T15:56:47.510016Z",
     "iopub.status.busy": "2025-08-07T15:56:47.509356Z",
     "iopub.status.idle": "2025-08-07T15:56:47.652823Z",
     "shell.execute_reply": "2025-08-07T15:56:47.651933Z"
    },
    "papermill": {
     "duration": 0.164716,
     "end_time": "2025-08-07T15:56:47.654075",
     "exception": false,
     "start_time": "2025-08-07T15:56:47.489359",
     "status": "completed"
    },
    "tags": []
   },
   "outputs": [
    {
     "name": "stdout",
     "output_type": "stream",
     "text": [
      "CPU times: user 138 ms, sys: 0 ns, total: 138 ms\n",
      "Wall time: 136 ms\n"
     ]
    },
    {
     "data": {
      "text/html": [
       "<style>#sk-container-id-5 {color: black;background-color: white;}#sk-container-id-5 pre{padding: 0;}#sk-container-id-5 div.sk-toggleable {background-color: white;}#sk-container-id-5 label.sk-toggleable__label {cursor: pointer;display: block;width: 100%;margin-bottom: 0;padding: 0.3em;box-sizing: border-box;text-align: center;}#sk-container-id-5 label.sk-toggleable__label-arrow:before {content: \"▸\";float: left;margin-right: 0.25em;color: #696969;}#sk-container-id-5 label.sk-toggleable__label-arrow:hover:before {color: black;}#sk-container-id-5 div.sk-estimator:hover label.sk-toggleable__label-arrow:before {color: black;}#sk-container-id-5 div.sk-toggleable__content {max-height: 0;max-width: 0;overflow: hidden;text-align: left;background-color: #f0f8ff;}#sk-container-id-5 div.sk-toggleable__content pre {margin: 0.2em;color: black;border-radius: 0.25em;background-color: #f0f8ff;}#sk-container-id-5 input.sk-toggleable__control:checked~div.sk-toggleable__content {max-height: 200px;max-width: 100%;overflow: auto;}#sk-container-id-5 input.sk-toggleable__control:checked~label.sk-toggleable__label-arrow:before {content: \"▾\";}#sk-container-id-5 div.sk-estimator input.sk-toggleable__control:checked~label.sk-toggleable__label {background-color: #d4ebff;}#sk-container-id-5 div.sk-label input.sk-toggleable__control:checked~label.sk-toggleable__label {background-color: #d4ebff;}#sk-container-id-5 input.sk-hidden--visually {border: 0;clip: rect(1px 1px 1px 1px);clip: rect(1px, 1px, 1px, 1px);height: 1px;margin: -1px;overflow: hidden;padding: 0;position: absolute;width: 1px;}#sk-container-id-5 div.sk-estimator {font-family: monospace;background-color: #f0f8ff;border: 1px dotted black;border-radius: 0.25em;box-sizing: border-box;margin-bottom: 0.5em;}#sk-container-id-5 div.sk-estimator:hover {background-color: #d4ebff;}#sk-container-id-5 div.sk-parallel-item::after {content: \"\";width: 100%;border-bottom: 1px solid gray;flex-grow: 1;}#sk-container-id-5 div.sk-label:hover label.sk-toggleable__label {background-color: #d4ebff;}#sk-container-id-5 div.sk-serial::before {content: \"\";position: absolute;border-left: 1px solid gray;box-sizing: border-box;top: 0;bottom: 0;left: 50%;z-index: 0;}#sk-container-id-5 div.sk-serial {display: flex;flex-direction: column;align-items: center;background-color: white;padding-right: 0.2em;padding-left: 0.2em;position: relative;}#sk-container-id-5 div.sk-item {position: relative;z-index: 1;}#sk-container-id-5 div.sk-parallel {display: flex;align-items: stretch;justify-content: center;background-color: white;position: relative;}#sk-container-id-5 div.sk-item::before, #sk-container-id-5 div.sk-parallel-item::before {content: \"\";position: absolute;border-left: 1px solid gray;box-sizing: border-box;top: 0;bottom: 0;left: 50%;z-index: -1;}#sk-container-id-5 div.sk-parallel-item {display: flex;flex-direction: column;z-index: 1;position: relative;background-color: white;}#sk-container-id-5 div.sk-parallel-item:first-child::after {align-self: flex-end;width: 50%;}#sk-container-id-5 div.sk-parallel-item:last-child::after {align-self: flex-start;width: 50%;}#sk-container-id-5 div.sk-parallel-item:only-child::after {width: 0;}#sk-container-id-5 div.sk-dashed-wrapped {border: 1px dashed gray;margin: 0 0.4em 0.5em 0.4em;box-sizing: border-box;padding-bottom: 0.4em;background-color: white;}#sk-container-id-5 div.sk-label label {font-family: monospace;font-weight: bold;display: inline-block;line-height: 1.2em;}#sk-container-id-5 div.sk-label-container {text-align: center;}#sk-container-id-5 div.sk-container {/* jupyter's `normalize.less` sets `[hidden] { display: none; }` but bootstrap.min.css set `[hidden] { display: none !important; }` so we also need the `!important` here to be able to override the default hidden behavior on the sphinx rendered scikit-learn.org. See: https://github.com/scikit-learn/scikit-learn/issues/21755 */display: inline-block !important;position: relative;}#sk-container-id-5 div.sk-text-repr-fallback {display: none;}</style><div id=\"sk-container-id-5\" class=\"sk-top-container\"><div class=\"sk-text-repr-fallback\"><pre>DecisionTreeRegressor(random_state=42)</pre><b>In a Jupyter environment, please rerun this cell to show the HTML representation or trust the notebook. <br />On GitHub, the HTML representation is unable to render, please try loading this page with nbviewer.org.</b></div><div class=\"sk-container\" hidden><div class=\"sk-item\"><div class=\"sk-estimator sk-toggleable\"><input class=\"sk-toggleable__control sk-hidden--visually\" id=\"sk-estimator-id-7\" type=\"checkbox\" checked><label for=\"sk-estimator-id-7\" class=\"sk-toggleable__label sk-toggleable__label-arrow\">DecisionTreeRegressor</label><div class=\"sk-toggleable__content\"><pre>DecisionTreeRegressor(random_state=42)</pre></div></div></div></div></div>"
      ],
      "text/plain": [
       "DecisionTreeRegressor(random_state=42)"
      ]
     },
     "execution_count": 35,
     "metadata": {},
     "output_type": "execute_result"
    }
   ],
   "source": [
    "%%time\n",
    "training_model.fit(X_train, y_train)"
   ]
  },
  {
   "cell_type": "code",
   "execution_count": 36,
   "id": "c7327537",
   "metadata": {
    "execution": {
     "iopub.execute_input": "2025-08-07T15:56:47.694768Z",
     "iopub.status.busy": "2025-08-07T15:56:47.694419Z",
     "iopub.status.idle": "2025-08-07T15:56:47.701434Z",
     "shell.execute_reply": "2025-08-07T15:56:47.700393Z"
    },
    "papermill": {
     "duration": 0.028871,
     "end_time": "2025-08-07T15:56:47.702835",
     "exception": false,
     "start_time": "2025-08-07T15:56:47.673964",
     "status": "completed"
    },
    "tags": []
   },
   "outputs": [
    {
     "data": {
      "text/plain": [
       "array([  0.  ,  55.39,   0.  , ..., 208.26,   0.  ,   0.  ])"
      ]
     },
     "execution_count": 36,
     "metadata": {},
     "output_type": "execute_result"
    }
   ],
   "source": [
    "y_pred = training_model.predict(X_test)\n",
    "y_pred"
   ]
  },
  {
   "cell_type": "code",
   "execution_count": 37,
   "id": "c1fb4739",
   "metadata": {
    "execution": {
     "iopub.execute_input": "2025-08-07T15:56:47.744091Z",
     "iopub.status.busy": "2025-08-07T15:56:47.743451Z",
     "iopub.status.idle": "2025-08-07T15:56:47.749927Z",
     "shell.execute_reply": "2025-08-07T15:56:47.749231Z"
    },
    "papermill": {
     "duration": 0.0285,
     "end_time": "2025-08-07T15:56:47.751189",
     "exception": false,
     "start_time": "2025-08-07T15:56:47.722689",
     "status": "completed"
    },
    "tags": []
   },
   "outputs": [
    {
     "data": {
      "text/plain": [
       "5158       0.00\n",
       "3831     105.26\n",
       "5117       0.00\n",
       "6326     758.39\n",
       "11359    135.87\n",
       "          ...  \n",
       "10290     74.58\n",
       "13995      0.00\n",
       "9665     241.81\n",
       "2276       0.00\n",
       "4174       0.00\n",
       "Name: SolarRadiation, Length: 2924, dtype: float64"
      ]
     },
     "execution_count": 37,
     "metadata": {},
     "output_type": "execute_result"
    }
   ],
   "source": [
    "y_test"
   ]
  },
  {
   "cell_type": "code",
   "execution_count": 38,
   "id": "97559ce2",
   "metadata": {
    "execution": {
     "iopub.execute_input": "2025-08-07T15:56:47.792545Z",
     "iopub.status.busy": "2025-08-07T15:56:47.791930Z",
     "iopub.status.idle": "2025-08-07T15:56:47.798072Z",
     "shell.execute_reply": "2025-08-07T15:56:47.797296Z"
    },
    "papermill": {
     "duration": 0.028266,
     "end_time": "2025-08-07T15:56:47.799446",
     "exception": false,
     "start_time": "2025-08-07T15:56:47.771180",
     "status": "completed"
    },
    "tags": []
   },
   "outputs": [],
   "source": [
    "mse = mean_squared_error(y_test, y_pred)\n",
    "mae = mean_absolute_error(y_test, y_pred)\n",
    "r2 = r2_score(y_test, y_pred)\n",
    "rmse = math.sqrt(mse)"
   ]
  },
  {
   "cell_type": "code",
   "execution_count": 39,
   "id": "e25afe4e",
   "metadata": {
    "execution": {
     "iopub.execute_input": "2025-08-07T15:56:47.842576Z",
     "iopub.status.busy": "2025-08-07T15:56:47.842269Z",
     "iopub.status.idle": "2025-08-07T15:56:47.847371Z",
     "shell.execute_reply": "2025-08-07T15:56:47.846463Z"
    },
    "papermill": {
     "duration": 0.028716,
     "end_time": "2025-08-07T15:56:47.848704",
     "exception": false,
     "start_time": "2025-08-07T15:56:47.819988",
     "status": "completed"
    },
    "tags": []
   },
   "outputs": [
    {
     "name": "stdout",
     "output_type": "stream",
     "text": [
      "MSE Score: 371.91906942544455\n",
      "MAE Score: 10.145437756497948\n",
      "R2 Score: 0.996045035030273\n",
      "RMSE Score: 19.285203380453225\n"
     ]
    }
   ],
   "source": [
    "print(\"MSE Score:\", mse)\n",
    "print(\"MAE Score:\", mae)\n",
    "print(\"R2 Score:\", r2)\n",
    "print(\"RMSE Score:\", rmse)"
   ]
  },
  {
   "cell_type": "code",
   "execution_count": 40,
   "id": "93a080c7",
   "metadata": {
    "execution": {
     "iopub.execute_input": "2025-08-07T15:56:47.890664Z",
     "iopub.status.busy": "2025-08-07T15:56:47.890367Z",
     "iopub.status.idle": "2025-08-07T15:56:47.901589Z",
     "shell.execute_reply": "2025-08-07T15:56:47.900718Z"
    },
    "papermill": {
     "duration": 0.034011,
     "end_time": "2025-08-07T15:56:47.903102",
     "exception": false,
     "start_time": "2025-08-07T15:56:47.869091",
     "status": "completed"
    },
    "tags": []
   },
   "outputs": [
    {
     "name": "stdout",
     "output_type": "stream",
     "text": [
      "✨ New regression model added:\n",
      "   MSE: 371.919069, R²: 0.996045\n",
      "   Features: 27\n",
      "💾 Registry updated: Model_Training_History/History_Regression.csv\n"
     ]
    }
   ],
   "source": [
    "regression_params = {\n",
    "    'model_name': model_name_for_saving,\n",
    "    'scaler_name': \"StandardScaler\",\n",
    "    'features_list': feature_columns_for_saving,\n",
    "    'target_column': target_name_for_saving,\n",
    "    'mse': mse,\n",
    "    'mae': mae,\n",
    "    'rmse': rmse,\n",
    "    'r2': r2,\n",
    "    'parameters': json.dumps(training_model.get_params())\n",
    "}\n",
    "save_model_performance_if_better('regression', regression_params)"
   ]
  },
  {
   "cell_type": "markdown",
   "id": "2fca2307",
   "metadata": {
    "papermill": {
     "duration": 0.019613,
     "end_time": "2025-08-07T15:56:47.943236",
     "exception": false,
     "start_time": "2025-08-07T15:56:47.923623",
     "status": "completed"
    },
    "tags": []
   },
   "source": [
    "### Tuning with Grid Search"
   ]
  },
  {
   "cell_type": "code",
   "execution_count": 41,
   "id": "ddf2c2f2",
   "metadata": {
    "execution": {
     "iopub.execute_input": "2025-08-07T15:56:47.985032Z",
     "iopub.status.busy": "2025-08-07T15:56:47.984730Z",
     "iopub.status.idle": "2025-08-07T15:56:47.989541Z",
     "shell.execute_reply": "2025-08-07T15:56:47.988686Z"
    },
    "papermill": {
     "duration": 0.027895,
     "end_time": "2025-08-07T15:56:47.991111",
     "exception": false,
     "start_time": "2025-08-07T15:56:47.963216",
     "status": "completed"
    },
    "tags": []
   },
   "outputs": [],
   "source": [
    "grid_search = GridSearchCV(\n",
    "    DecisionTreeRegressor(random_state=42), \n",
    "    grid_param, \n",
    "    cv=5, \n",
    "    scoring='neg_mean_squared_error', \n",
    "    n_jobs=-1, # allow parallel processing, you cant use your own laptop while this runs\n",
    "    verbose=1\n",
    ")"
   ]
  },
  {
   "cell_type": "code",
   "execution_count": 42,
   "id": "de7b684a",
   "metadata": {
    "execution": {
     "iopub.execute_input": "2025-08-07T15:56:48.031920Z",
     "iopub.status.busy": "2025-08-07T15:56:48.031598Z",
     "iopub.status.idle": "2025-08-07T16:04:51.356883Z",
     "shell.execute_reply": "2025-08-07T16:04:51.355918Z"
    },
    "papermill": {
     "duration": 483.366814,
     "end_time": "2025-08-07T16:04:51.377681",
     "exception": false,
     "start_time": "2025-08-07T15:56:48.010867",
     "status": "completed"
    },
    "tags": []
   },
   "outputs": [
    {
     "name": "stdout",
     "output_type": "stream",
     "text": [
      "Starting hyperparameter tuning...\n",
      "Fitting 5 folds for each of 5760 candidates, totalling 28800 fits\n",
      "CPU times: user 20.2 s, sys: 2.95 s, total: 23.2 s\n",
      "Wall time: 8min 3s\n"
     ]
    },
    {
     "data": {
      "text/html": [
       "<style>#sk-container-id-6 {color: black;background-color: white;}#sk-container-id-6 pre{padding: 0;}#sk-container-id-6 div.sk-toggleable {background-color: white;}#sk-container-id-6 label.sk-toggleable__label {cursor: pointer;display: block;width: 100%;margin-bottom: 0;padding: 0.3em;box-sizing: border-box;text-align: center;}#sk-container-id-6 label.sk-toggleable__label-arrow:before {content: \"▸\";float: left;margin-right: 0.25em;color: #696969;}#sk-container-id-6 label.sk-toggleable__label-arrow:hover:before {color: black;}#sk-container-id-6 div.sk-estimator:hover label.sk-toggleable__label-arrow:before {color: black;}#sk-container-id-6 div.sk-toggleable__content {max-height: 0;max-width: 0;overflow: hidden;text-align: left;background-color: #f0f8ff;}#sk-container-id-6 div.sk-toggleable__content pre {margin: 0.2em;color: black;border-radius: 0.25em;background-color: #f0f8ff;}#sk-container-id-6 input.sk-toggleable__control:checked~div.sk-toggleable__content {max-height: 200px;max-width: 100%;overflow: auto;}#sk-container-id-6 input.sk-toggleable__control:checked~label.sk-toggleable__label-arrow:before {content: \"▾\";}#sk-container-id-6 div.sk-estimator input.sk-toggleable__control:checked~label.sk-toggleable__label {background-color: #d4ebff;}#sk-container-id-6 div.sk-label input.sk-toggleable__control:checked~label.sk-toggleable__label {background-color: #d4ebff;}#sk-container-id-6 input.sk-hidden--visually {border: 0;clip: rect(1px 1px 1px 1px);clip: rect(1px, 1px, 1px, 1px);height: 1px;margin: -1px;overflow: hidden;padding: 0;position: absolute;width: 1px;}#sk-container-id-6 div.sk-estimator {font-family: monospace;background-color: #f0f8ff;border: 1px dotted black;border-radius: 0.25em;box-sizing: border-box;margin-bottom: 0.5em;}#sk-container-id-6 div.sk-estimator:hover {background-color: #d4ebff;}#sk-container-id-6 div.sk-parallel-item::after {content: \"\";width: 100%;border-bottom: 1px solid gray;flex-grow: 1;}#sk-container-id-6 div.sk-label:hover label.sk-toggleable__label {background-color: #d4ebff;}#sk-container-id-6 div.sk-serial::before {content: \"\";position: absolute;border-left: 1px solid gray;box-sizing: border-box;top: 0;bottom: 0;left: 50%;z-index: 0;}#sk-container-id-6 div.sk-serial {display: flex;flex-direction: column;align-items: center;background-color: white;padding-right: 0.2em;padding-left: 0.2em;position: relative;}#sk-container-id-6 div.sk-item {position: relative;z-index: 1;}#sk-container-id-6 div.sk-parallel {display: flex;align-items: stretch;justify-content: center;background-color: white;position: relative;}#sk-container-id-6 div.sk-item::before, #sk-container-id-6 div.sk-parallel-item::before {content: \"\";position: absolute;border-left: 1px solid gray;box-sizing: border-box;top: 0;bottom: 0;left: 50%;z-index: -1;}#sk-container-id-6 div.sk-parallel-item {display: flex;flex-direction: column;z-index: 1;position: relative;background-color: white;}#sk-container-id-6 div.sk-parallel-item:first-child::after {align-self: flex-end;width: 50%;}#sk-container-id-6 div.sk-parallel-item:last-child::after {align-self: flex-start;width: 50%;}#sk-container-id-6 div.sk-parallel-item:only-child::after {width: 0;}#sk-container-id-6 div.sk-dashed-wrapped {border: 1px dashed gray;margin: 0 0.4em 0.5em 0.4em;box-sizing: border-box;padding-bottom: 0.4em;background-color: white;}#sk-container-id-6 div.sk-label label {font-family: monospace;font-weight: bold;display: inline-block;line-height: 1.2em;}#sk-container-id-6 div.sk-label-container {text-align: center;}#sk-container-id-6 div.sk-container {/* jupyter's `normalize.less` sets `[hidden] { display: none; }` but bootstrap.min.css set `[hidden] { display: none !important; }` so we also need the `!important` here to be able to override the default hidden behavior on the sphinx rendered scikit-learn.org. See: https://github.com/scikit-learn/scikit-learn/issues/21755 */display: inline-block !important;position: relative;}#sk-container-id-6 div.sk-text-repr-fallback {display: none;}</style><div id=\"sk-container-id-6\" class=\"sk-top-container\"><div class=\"sk-text-repr-fallback\"><pre>GridSearchCV(cv=5, estimator=DecisionTreeRegressor(random_state=42), n_jobs=-1,\n",
       "             param_grid={&#x27;ccp_alpha&#x27;: [0.0, 0.01, 0.02],\n",
       "                         &#x27;criterion&#x27;: [&#x27;squared_error&#x27;, &#x27;friedman_mse&#x27;],\n",
       "                         &#x27;max_depth&#x27;: [None, 5, 10, 15, 25],\n",
       "                         &#x27;max_features&#x27;: [&#x27;sqrt&#x27;, &#x27;log2&#x27;, None, 0.5],\n",
       "                         &#x27;min_impurity_decrease&#x27;: [0.0, 0.01, 0.02],\n",
       "                         &#x27;min_samples_leaf&#x27;: [1, 2, 4, 8],\n",
       "                         &#x27;min_samples_split&#x27;: [2, 5, 10, 20]},\n",
       "             scoring=&#x27;neg_mean_squared_error&#x27;, verbose=1)</pre><b>In a Jupyter environment, please rerun this cell to show the HTML representation or trust the notebook. <br />On GitHub, the HTML representation is unable to render, please try loading this page with nbviewer.org.</b></div><div class=\"sk-container\" hidden><div class=\"sk-item sk-dashed-wrapped\"><div class=\"sk-label-container\"><div class=\"sk-label sk-toggleable\"><input class=\"sk-toggleable__control sk-hidden--visually\" id=\"sk-estimator-id-8\" type=\"checkbox\" ><label for=\"sk-estimator-id-8\" class=\"sk-toggleable__label sk-toggleable__label-arrow\">GridSearchCV</label><div class=\"sk-toggleable__content\"><pre>GridSearchCV(cv=5, estimator=DecisionTreeRegressor(random_state=42), n_jobs=-1,\n",
       "             param_grid={&#x27;ccp_alpha&#x27;: [0.0, 0.01, 0.02],\n",
       "                         &#x27;criterion&#x27;: [&#x27;squared_error&#x27;, &#x27;friedman_mse&#x27;],\n",
       "                         &#x27;max_depth&#x27;: [None, 5, 10, 15, 25],\n",
       "                         &#x27;max_features&#x27;: [&#x27;sqrt&#x27;, &#x27;log2&#x27;, None, 0.5],\n",
       "                         &#x27;min_impurity_decrease&#x27;: [0.0, 0.01, 0.02],\n",
       "                         &#x27;min_samples_leaf&#x27;: [1, 2, 4, 8],\n",
       "                         &#x27;min_samples_split&#x27;: [2, 5, 10, 20]},\n",
       "             scoring=&#x27;neg_mean_squared_error&#x27;, verbose=1)</pre></div></div></div><div class=\"sk-parallel\"><div class=\"sk-parallel-item\"><div class=\"sk-item\"><div class=\"sk-label-container\"><div class=\"sk-label sk-toggleable\"><input class=\"sk-toggleable__control sk-hidden--visually\" id=\"sk-estimator-id-9\" type=\"checkbox\" ><label for=\"sk-estimator-id-9\" class=\"sk-toggleable__label sk-toggleable__label-arrow\">estimator: DecisionTreeRegressor</label><div class=\"sk-toggleable__content\"><pre>DecisionTreeRegressor(random_state=42)</pre></div></div></div><div class=\"sk-serial\"><div class=\"sk-item\"><div class=\"sk-estimator sk-toggleable\"><input class=\"sk-toggleable__control sk-hidden--visually\" id=\"sk-estimator-id-10\" type=\"checkbox\" ><label for=\"sk-estimator-id-10\" class=\"sk-toggleable__label sk-toggleable__label-arrow\">DecisionTreeRegressor</label><div class=\"sk-toggleable__content\"><pre>DecisionTreeRegressor(random_state=42)</pre></div></div></div></div></div></div></div></div></div></div>"
      ],
      "text/plain": [
       "GridSearchCV(cv=5, estimator=DecisionTreeRegressor(random_state=42), n_jobs=-1,\n",
       "             param_grid={'ccp_alpha': [0.0, 0.01, 0.02],\n",
       "                         'criterion': ['squared_error', 'friedman_mse'],\n",
       "                         'max_depth': [None, 5, 10, 15, 25],\n",
       "                         'max_features': ['sqrt', 'log2', None, 0.5],\n",
       "                         'min_impurity_decrease': [0.0, 0.01, 0.02],\n",
       "                         'min_samples_leaf': [1, 2, 4, 8],\n",
       "                         'min_samples_split': [2, 5, 10, 20]},\n",
       "             scoring='neg_mean_squared_error', verbose=1)"
      ]
     },
     "execution_count": 42,
     "metadata": {},
     "output_type": "execute_result"
    }
   ],
   "source": [
    "%%time\n",
    "print(\"Starting hyperparameter tuning...\")\n",
    "grid_search.fit(X_train, y_train)"
   ]
  },
  {
   "cell_type": "code",
   "execution_count": 43,
   "id": "2d2cc980",
   "metadata": {
    "execution": {
     "iopub.execute_input": "2025-08-07T16:04:51.420755Z",
     "iopub.status.busy": "2025-08-07T16:04:51.420414Z",
     "iopub.status.idle": "2025-08-07T16:04:51.425798Z",
     "shell.execute_reply": "2025-08-07T16:04:51.424854Z"
    },
    "papermill": {
     "duration": 0.028621,
     "end_time": "2025-08-07T16:04:51.427122",
     "exception": false,
     "start_time": "2025-08-07T16:04:51.398501",
     "status": "completed"
    },
    "tags": []
   },
   "outputs": [
    {
     "name": "stdout",
     "output_type": "stream",
     "text": [
      "TUNING RESULTS\n",
      "==================================================\n",
      "Best Parameters: {'ccp_alpha': 0.02, 'criterion': 'squared_error', 'max_depth': 10, 'max_features': None, 'min_impurity_decrease': 0.0, 'min_samples_leaf': 8, 'min_samples_split': 20}\n",
      "Best Cross-Validation Score (Negative MSE): -248.7059306471614\n",
      "Best Cross-Validation Score (MSE): 248.7059306471614\n",
      "Best Cross-Validation Score (RMSE): 15.770413141295995\n"
     ]
    }
   ],
   "source": [
    "print(\"TUNING RESULTS\")\n",
    "print(\"=\"*50)\n",
    "print(\"Best Parameters:\", grid_search.best_params_)\n",
    "print(\"Best Cross-Validation Score (Negative MSE):\", grid_search.best_score_)\n",
    "print(\"Best Cross-Validation Score (MSE):\", -grid_search.best_score_)\n",
    "print(\"Best Cross-Validation Score (RMSE):\", math.sqrt(-grid_search.best_score_))"
   ]
  },
  {
   "cell_type": "code",
   "execution_count": 44,
   "id": "065ad1b2",
   "metadata": {
    "execution": {
     "iopub.execute_input": "2025-08-07T16:04:51.469827Z",
     "iopub.status.busy": "2025-08-07T16:04:51.469486Z",
     "iopub.status.idle": "2025-08-07T16:04:51.473803Z",
     "shell.execute_reply": "2025-08-07T16:04:51.473149Z"
    },
    "papermill": {
     "duration": 0.027393,
     "end_time": "2025-08-07T16:04:51.475247",
     "exception": false,
     "start_time": "2025-08-07T16:04:51.447854",
     "status": "completed"
    },
    "tags": []
   },
   "outputs": [],
   "source": [
    "grid_search_best_model = grid_search.best_estimator_\n",
    "y_pred = grid_search_best_model.predict(X_test)"
   ]
  },
  {
   "cell_type": "code",
   "execution_count": 45,
   "id": "5b6db988",
   "metadata": {
    "execution": {
     "iopub.execute_input": "2025-08-07T16:04:51.519745Z",
     "iopub.status.busy": "2025-08-07T16:04:51.519405Z",
     "iopub.status.idle": "2025-08-07T16:04:51.526603Z",
     "shell.execute_reply": "2025-08-07T16:04:51.525709Z"
    },
    "papermill": {
     "duration": 0.031479,
     "end_time": "2025-08-07T16:04:51.528190",
     "exception": false,
     "start_time": "2025-08-07T16:04:51.496711",
     "status": "completed"
    },
    "tags": []
   },
   "outputs": [],
   "source": [
    "mse_grid_search = mean_squared_error(y_test, y_pred)\n",
    "mae_grid_search = mean_absolute_error(y_test, y_pred)\n",
    "r2_grid_search = r2_score(y_test, y_pred)\n",
    "rmse_grid_search = math.sqrt(mse_grid_search)"
   ]
  },
  {
   "cell_type": "code",
   "execution_count": 46,
   "id": "038f560c",
   "metadata": {
    "execution": {
     "iopub.execute_input": "2025-08-07T16:04:51.571573Z",
     "iopub.status.busy": "2025-08-07T16:04:51.571278Z",
     "iopub.status.idle": "2025-08-07T16:04:51.576542Z",
     "shell.execute_reply": "2025-08-07T16:04:51.575566Z"
    },
    "papermill": {
     "duration": 0.028525,
     "end_time": "2025-08-07T16:04:51.578053",
     "exception": false,
     "start_time": "2025-08-07T16:04:51.549528",
     "status": "completed"
    },
    "tags": []
   },
   "outputs": [
    {
     "name": "stdout",
     "output_type": "stream",
     "text": [
      "MSE Score: 254.9043331566088\n",
      "MAE Score: 8.872722992536056\n",
      "R2 Score: 0.9972893626835982\n",
      "RMSE Score: 15.965723696613592\n"
     ]
    }
   ],
   "source": [
    "print(\"MSE Score:\", mse_grid_search)\n",
    "print(\"MAE Score:\", mae_grid_search)\n",
    "print(\"R2 Score:\", r2_grid_search)\n",
    "print(\"RMSE Score:\", rmse_grid_search)"
   ]
  },
  {
   "cell_type": "code",
   "execution_count": 47,
   "id": "48b78b27",
   "metadata": {
    "execution": {
     "iopub.execute_input": "2025-08-07T16:04:51.622041Z",
     "iopub.status.busy": "2025-08-07T16:04:51.621478Z",
     "iopub.status.idle": "2025-08-07T16:04:51.632877Z",
     "shell.execute_reply": "2025-08-07T16:04:51.632082Z"
    },
    "papermill": {
     "duration": 0.034462,
     "end_time": "2025-08-07T16:04:51.634235",
     "exception": false,
     "start_time": "2025-08-07T16:04:51.599773",
     "status": "completed"
    },
    "tags": []
   },
   "outputs": [
    {
     "name": "stdout",
     "output_type": "stream",
     "text": [
      "✨ New regression model added:\n",
      "   MSE: 254.904333, R²: 0.997289\n",
      "   Features: 27\n",
      "💾 Registry updated: Model_Training_History/History_Regression.csv\n"
     ]
    }
   ],
   "source": [
    "regression_params = {\n",
    "    'model_name': model_name_for_saving + \" Tuned\",\n",
    "    'scaler_name': \"StandardScaler\",\n",
    "    'features_list': feature_columns_for_saving,\n",
    "    'target_column': target_name_for_saving,\n",
    "    'mse': mse_grid_search,\n",
    "    'mae': mae_grid_search,\n",
    "    'rmse': rmse_grid_search,\n",
    "    'r2': r2_grid_search,\n",
    "    'parameters' : json.dumps({\n",
    "        \"best_params\": grid_search.best_params_,\n",
    "        \"cv_score\": grid_search.best_score_,\n",
    "        \"all_params\": grid_search_best_model.get_params()\n",
    "    })\n",
    "}\n",
    "save_model_performance_if_better('regression', regression_params)"
   ]
  },
  {
   "cell_type": "markdown",
   "id": "37c19ac0",
   "metadata": {
    "papermill": {
     "duration": 0.020703,
     "end_time": "2025-08-07T16:04:51.675999",
     "exception": false,
     "start_time": "2025-08-07T16:04:51.655296",
     "status": "completed"
    },
    "tags": []
   },
   "source": [
    "## Robust Scaler"
   ]
  },
  {
   "cell_type": "code",
   "execution_count": 48,
   "id": "3ab0f78a",
   "metadata": {
    "execution": {
     "iopub.execute_input": "2025-08-07T16:04:51.718508Z",
     "iopub.status.busy": "2025-08-07T16:04:51.718163Z",
     "iopub.status.idle": "2025-08-07T16:04:51.752072Z",
     "shell.execute_reply": "2025-08-07T16:04:51.751301Z"
    },
    "papermill": {
     "duration": 0.057091,
     "end_time": "2025-08-07T16:04:51.753722",
     "exception": false,
     "start_time": "2025-08-07T16:04:51.696631",
     "status": "completed"
    },
    "tags": []
   },
   "outputs": [],
   "source": [
    "scaler = RobustScaler()\n",
    "X_train = scaler.fit_transform(X_train_raw)\n",
    "X_test = scaler.transform(X_test_raw)"
   ]
  },
  {
   "cell_type": "code",
   "execution_count": 49,
   "id": "a64f2214",
   "metadata": {
    "execution": {
     "iopub.execute_input": "2025-08-07T16:04:51.798931Z",
     "iopub.status.busy": "2025-08-07T16:04:51.798604Z",
     "iopub.status.idle": "2025-08-07T16:04:51.804537Z",
     "shell.execute_reply": "2025-08-07T16:04:51.803698Z"
    },
    "papermill": {
     "duration": 0.029952,
     "end_time": "2025-08-07T16:04:51.805857",
     "exception": false,
     "start_time": "2025-08-07T16:04:51.775905",
     "status": "completed"
    },
    "tags": []
   },
   "outputs": [
    {
     "data": {
      "text/plain": [
       "array([[ 0.6       ,  0.66666667, -0.16666667, ..., -0.03738547,\n",
       "         1.44008264,  8.87596899],\n",
       "       [ 1.        , -0.46666667,  0.33333333, ..., -0.84268652,\n",
       "         0.62603306,  0.        ],\n",
       "       [-0.8       , -0.13333333, -1.        , ..., -0.84268652,\n",
       "         0.        ,  0.        ],\n",
       "       ...,\n",
       "       [ 0.4       ,  0.73333333, -0.16666667, ...,  0.5899051 ,\n",
       "         0.6322314 ,  0.75193798],\n",
       "       [-1.        , -0.2       ,  0.75      , ..., -0.84268652,\n",
       "         0.        ,  0.        ],\n",
       "       [ 0.6       , -0.46666667, -0.33333333, ...,  0.61755563,\n",
       "         0.59917355,  7.5       ]])"
      ]
     },
     "execution_count": 49,
     "metadata": {},
     "output_type": "execute_result"
    }
   ],
   "source": [
    "X_train"
   ]
  },
  {
   "cell_type": "code",
   "execution_count": 50,
   "id": "ebb6b1a4",
   "metadata": {
    "execution": {
     "iopub.execute_input": "2025-08-07T16:04:51.850234Z",
     "iopub.status.busy": "2025-08-07T16:04:51.849950Z",
     "iopub.status.idle": "2025-08-07T16:04:51.856151Z",
     "shell.execute_reply": "2025-08-07T16:04:51.855297Z"
    },
    "papermill": {
     "duration": 0.029927,
     "end_time": "2025-08-07T16:04:51.857707",
     "exception": false,
     "start_time": "2025-08-07T16:04:51.827780",
     "status": "completed"
    },
    "tags": []
   },
   "outputs": [
    {
     "data": {
      "text/plain": [
       "array([[ 4.00000000e-01, -8.66666667e-01,  8.33333333e-01, ...,\n",
       "         6.20009817e-01,  0.00000000e+00,  0.00000000e+00],\n",
       "       [ 0.00000000e+00, -4.66666667e-01,  2.50000000e-01, ...,\n",
       "         7.40592277e-01,  1.52892562e-01,  0.00000000e+00],\n",
       "       [ 4.00000000e-01, -9.33333333e-01, -5.83333333e-01, ...,\n",
       "         7.82804319e-01,  0.00000000e+00,  0.00000000e+00],\n",
       "       ...,\n",
       "       [-8.00000000e-01, -6.00000000e-01,  4.16666667e-01, ...,\n",
       "        -8.40559555e-01,  4.19421488e-01,  0.00000000e+00],\n",
       "       [-4.00000000e-01, -7.33333333e-01,  6.66666667e-01, ...,\n",
       "        -8.42686518e-01,  0.00000000e+00,  6.67829457e+00],\n",
       "       [ 0.00000000e+00,  4.66666667e-01,  8.33333333e-01, ...,\n",
       "         1.71793194e-03,  0.00000000e+00,  0.00000000e+00]])"
      ]
     },
     "execution_count": 50,
     "metadata": {},
     "output_type": "execute_result"
    }
   ],
   "source": [
    "X_test"
   ]
  },
  {
   "cell_type": "markdown",
   "id": "d32bf768",
   "metadata": {
    "papermill": {
     "duration": 0.0227,
     "end_time": "2025-08-07T16:04:51.904226",
     "exception": false,
     "start_time": "2025-08-07T16:04:51.881526",
     "status": "completed"
    },
    "tags": []
   },
   "source": [
    "### Default Parameters"
   ]
  },
  {
   "cell_type": "code",
   "execution_count": 51,
   "id": "f8df3913",
   "metadata": {
    "execution": {
     "iopub.execute_input": "2025-08-07T16:04:51.948895Z",
     "iopub.status.busy": "2025-08-07T16:04:51.948497Z",
     "iopub.status.idle": "2025-08-07T16:04:51.954628Z",
     "shell.execute_reply": "2025-08-07T16:04:51.953838Z"
    },
    "papermill": {
     "duration": 0.030797,
     "end_time": "2025-08-07T16:04:51.956045",
     "exception": false,
     "start_time": "2025-08-07T16:04:51.925248",
     "status": "completed"
    },
    "tags": []
   },
   "outputs": [
    {
     "data": {
      "text/html": [
       "<style>#sk-container-id-7 {color: black;background-color: white;}#sk-container-id-7 pre{padding: 0;}#sk-container-id-7 div.sk-toggleable {background-color: white;}#sk-container-id-7 label.sk-toggleable__label {cursor: pointer;display: block;width: 100%;margin-bottom: 0;padding: 0.3em;box-sizing: border-box;text-align: center;}#sk-container-id-7 label.sk-toggleable__label-arrow:before {content: \"▸\";float: left;margin-right: 0.25em;color: #696969;}#sk-container-id-7 label.sk-toggleable__label-arrow:hover:before {color: black;}#sk-container-id-7 div.sk-estimator:hover label.sk-toggleable__label-arrow:before {color: black;}#sk-container-id-7 div.sk-toggleable__content {max-height: 0;max-width: 0;overflow: hidden;text-align: left;background-color: #f0f8ff;}#sk-container-id-7 div.sk-toggleable__content pre {margin: 0.2em;color: black;border-radius: 0.25em;background-color: #f0f8ff;}#sk-container-id-7 input.sk-toggleable__control:checked~div.sk-toggleable__content {max-height: 200px;max-width: 100%;overflow: auto;}#sk-container-id-7 input.sk-toggleable__control:checked~label.sk-toggleable__label-arrow:before {content: \"▾\";}#sk-container-id-7 div.sk-estimator input.sk-toggleable__control:checked~label.sk-toggleable__label {background-color: #d4ebff;}#sk-container-id-7 div.sk-label input.sk-toggleable__control:checked~label.sk-toggleable__label {background-color: #d4ebff;}#sk-container-id-7 input.sk-hidden--visually {border: 0;clip: rect(1px 1px 1px 1px);clip: rect(1px, 1px, 1px, 1px);height: 1px;margin: -1px;overflow: hidden;padding: 0;position: absolute;width: 1px;}#sk-container-id-7 div.sk-estimator {font-family: monospace;background-color: #f0f8ff;border: 1px dotted black;border-radius: 0.25em;box-sizing: border-box;margin-bottom: 0.5em;}#sk-container-id-7 div.sk-estimator:hover {background-color: #d4ebff;}#sk-container-id-7 div.sk-parallel-item::after {content: \"\";width: 100%;border-bottom: 1px solid gray;flex-grow: 1;}#sk-container-id-7 div.sk-label:hover label.sk-toggleable__label {background-color: #d4ebff;}#sk-container-id-7 div.sk-serial::before {content: \"\";position: absolute;border-left: 1px solid gray;box-sizing: border-box;top: 0;bottom: 0;left: 50%;z-index: 0;}#sk-container-id-7 div.sk-serial {display: flex;flex-direction: column;align-items: center;background-color: white;padding-right: 0.2em;padding-left: 0.2em;position: relative;}#sk-container-id-7 div.sk-item {position: relative;z-index: 1;}#sk-container-id-7 div.sk-parallel {display: flex;align-items: stretch;justify-content: center;background-color: white;position: relative;}#sk-container-id-7 div.sk-item::before, #sk-container-id-7 div.sk-parallel-item::before {content: \"\";position: absolute;border-left: 1px solid gray;box-sizing: border-box;top: 0;bottom: 0;left: 50%;z-index: -1;}#sk-container-id-7 div.sk-parallel-item {display: flex;flex-direction: column;z-index: 1;position: relative;background-color: white;}#sk-container-id-7 div.sk-parallel-item:first-child::after {align-self: flex-end;width: 50%;}#sk-container-id-7 div.sk-parallel-item:last-child::after {align-self: flex-start;width: 50%;}#sk-container-id-7 div.sk-parallel-item:only-child::after {width: 0;}#sk-container-id-7 div.sk-dashed-wrapped {border: 1px dashed gray;margin: 0 0.4em 0.5em 0.4em;box-sizing: border-box;padding-bottom: 0.4em;background-color: white;}#sk-container-id-7 div.sk-label label {font-family: monospace;font-weight: bold;display: inline-block;line-height: 1.2em;}#sk-container-id-7 div.sk-label-container {text-align: center;}#sk-container-id-7 div.sk-container {/* jupyter's `normalize.less` sets `[hidden] { display: none; }` but bootstrap.min.css set `[hidden] { display: none !important; }` so we also need the `!important` here to be able to override the default hidden behavior on the sphinx rendered scikit-learn.org. See: https://github.com/scikit-learn/scikit-learn/issues/21755 */display: inline-block !important;position: relative;}#sk-container-id-7 div.sk-text-repr-fallback {display: none;}</style><div id=\"sk-container-id-7\" class=\"sk-top-container\"><div class=\"sk-text-repr-fallback\"><pre>DecisionTreeRegressor(random_state=42)</pre><b>In a Jupyter environment, please rerun this cell to show the HTML representation or trust the notebook. <br />On GitHub, the HTML representation is unable to render, please try loading this page with nbviewer.org.</b></div><div class=\"sk-container\" hidden><div class=\"sk-item\"><div class=\"sk-estimator sk-toggleable\"><input class=\"sk-toggleable__control sk-hidden--visually\" id=\"sk-estimator-id-11\" type=\"checkbox\" checked><label for=\"sk-estimator-id-11\" class=\"sk-toggleable__label sk-toggleable__label-arrow\">DecisionTreeRegressor</label><div class=\"sk-toggleable__content\"><pre>DecisionTreeRegressor(random_state=42)</pre></div></div></div></div></div>"
      ],
      "text/plain": [
       "DecisionTreeRegressor(random_state=42)"
      ]
     },
     "execution_count": 51,
     "metadata": {},
     "output_type": "execute_result"
    }
   ],
   "source": [
    "training_model = DecisionTreeRegressor(random_state=42)\n",
    "training_model"
   ]
  },
  {
   "cell_type": "code",
   "execution_count": 52,
   "id": "52148366",
   "metadata": {
    "execution": {
     "iopub.execute_input": "2025-08-07T16:04:52.000736Z",
     "iopub.status.busy": "2025-08-07T16:04:52.000401Z",
     "iopub.status.idle": "2025-08-07T16:04:52.159956Z",
     "shell.execute_reply": "2025-08-07T16:04:52.159110Z"
    },
    "papermill": {
     "duration": 0.183096,
     "end_time": "2025-08-07T16:04:52.161352",
     "exception": false,
     "start_time": "2025-08-07T16:04:51.978256",
     "status": "completed"
    },
    "tags": []
   },
   "outputs": [
    {
     "name": "stdout",
     "output_type": "stream",
     "text": [
      "CPU times: user 153 ms, sys: 0 ns, total: 153 ms\n",
      "Wall time: 153 ms\n"
     ]
    },
    {
     "data": {
      "text/html": [
       "<style>#sk-container-id-8 {color: black;background-color: white;}#sk-container-id-8 pre{padding: 0;}#sk-container-id-8 div.sk-toggleable {background-color: white;}#sk-container-id-8 label.sk-toggleable__label {cursor: pointer;display: block;width: 100%;margin-bottom: 0;padding: 0.3em;box-sizing: border-box;text-align: center;}#sk-container-id-8 label.sk-toggleable__label-arrow:before {content: \"▸\";float: left;margin-right: 0.25em;color: #696969;}#sk-container-id-8 label.sk-toggleable__label-arrow:hover:before {color: black;}#sk-container-id-8 div.sk-estimator:hover label.sk-toggleable__label-arrow:before {color: black;}#sk-container-id-8 div.sk-toggleable__content {max-height: 0;max-width: 0;overflow: hidden;text-align: left;background-color: #f0f8ff;}#sk-container-id-8 div.sk-toggleable__content pre {margin: 0.2em;color: black;border-radius: 0.25em;background-color: #f0f8ff;}#sk-container-id-8 input.sk-toggleable__control:checked~div.sk-toggleable__content {max-height: 200px;max-width: 100%;overflow: auto;}#sk-container-id-8 input.sk-toggleable__control:checked~label.sk-toggleable__label-arrow:before {content: \"▾\";}#sk-container-id-8 div.sk-estimator input.sk-toggleable__control:checked~label.sk-toggleable__label {background-color: #d4ebff;}#sk-container-id-8 div.sk-label input.sk-toggleable__control:checked~label.sk-toggleable__label {background-color: #d4ebff;}#sk-container-id-8 input.sk-hidden--visually {border: 0;clip: rect(1px 1px 1px 1px);clip: rect(1px, 1px, 1px, 1px);height: 1px;margin: -1px;overflow: hidden;padding: 0;position: absolute;width: 1px;}#sk-container-id-8 div.sk-estimator {font-family: monospace;background-color: #f0f8ff;border: 1px dotted black;border-radius: 0.25em;box-sizing: border-box;margin-bottom: 0.5em;}#sk-container-id-8 div.sk-estimator:hover {background-color: #d4ebff;}#sk-container-id-8 div.sk-parallel-item::after {content: \"\";width: 100%;border-bottom: 1px solid gray;flex-grow: 1;}#sk-container-id-8 div.sk-label:hover label.sk-toggleable__label {background-color: #d4ebff;}#sk-container-id-8 div.sk-serial::before {content: \"\";position: absolute;border-left: 1px solid gray;box-sizing: border-box;top: 0;bottom: 0;left: 50%;z-index: 0;}#sk-container-id-8 div.sk-serial {display: flex;flex-direction: column;align-items: center;background-color: white;padding-right: 0.2em;padding-left: 0.2em;position: relative;}#sk-container-id-8 div.sk-item {position: relative;z-index: 1;}#sk-container-id-8 div.sk-parallel {display: flex;align-items: stretch;justify-content: center;background-color: white;position: relative;}#sk-container-id-8 div.sk-item::before, #sk-container-id-8 div.sk-parallel-item::before {content: \"\";position: absolute;border-left: 1px solid gray;box-sizing: border-box;top: 0;bottom: 0;left: 50%;z-index: -1;}#sk-container-id-8 div.sk-parallel-item {display: flex;flex-direction: column;z-index: 1;position: relative;background-color: white;}#sk-container-id-8 div.sk-parallel-item:first-child::after {align-self: flex-end;width: 50%;}#sk-container-id-8 div.sk-parallel-item:last-child::after {align-self: flex-start;width: 50%;}#sk-container-id-8 div.sk-parallel-item:only-child::after {width: 0;}#sk-container-id-8 div.sk-dashed-wrapped {border: 1px dashed gray;margin: 0 0.4em 0.5em 0.4em;box-sizing: border-box;padding-bottom: 0.4em;background-color: white;}#sk-container-id-8 div.sk-label label {font-family: monospace;font-weight: bold;display: inline-block;line-height: 1.2em;}#sk-container-id-8 div.sk-label-container {text-align: center;}#sk-container-id-8 div.sk-container {/* jupyter's `normalize.less` sets `[hidden] { display: none; }` but bootstrap.min.css set `[hidden] { display: none !important; }` so we also need the `!important` here to be able to override the default hidden behavior on the sphinx rendered scikit-learn.org. See: https://github.com/scikit-learn/scikit-learn/issues/21755 */display: inline-block !important;position: relative;}#sk-container-id-8 div.sk-text-repr-fallback {display: none;}</style><div id=\"sk-container-id-8\" class=\"sk-top-container\"><div class=\"sk-text-repr-fallback\"><pre>DecisionTreeRegressor(random_state=42)</pre><b>In a Jupyter environment, please rerun this cell to show the HTML representation or trust the notebook. <br />On GitHub, the HTML representation is unable to render, please try loading this page with nbviewer.org.</b></div><div class=\"sk-container\" hidden><div class=\"sk-item\"><div class=\"sk-estimator sk-toggleable\"><input class=\"sk-toggleable__control sk-hidden--visually\" id=\"sk-estimator-id-12\" type=\"checkbox\" checked><label for=\"sk-estimator-id-12\" class=\"sk-toggleable__label sk-toggleable__label-arrow\">DecisionTreeRegressor</label><div class=\"sk-toggleable__content\"><pre>DecisionTreeRegressor(random_state=42)</pre></div></div></div></div></div>"
      ],
      "text/plain": [
       "DecisionTreeRegressor(random_state=42)"
      ]
     },
     "execution_count": 52,
     "metadata": {},
     "output_type": "execute_result"
    }
   ],
   "source": [
    "%%time\n",
    "training_model.fit(X_train, y_train)"
   ]
  },
  {
   "cell_type": "code",
   "execution_count": 53,
   "id": "fa2c4353",
   "metadata": {
    "execution": {
     "iopub.execute_input": "2025-08-07T16:04:52.208279Z",
     "iopub.status.busy": "2025-08-07T16:04:52.207791Z",
     "iopub.status.idle": "2025-08-07T16:04:52.214191Z",
     "shell.execute_reply": "2025-08-07T16:04:52.213524Z"
    },
    "papermill": {
     "duration": 0.031355,
     "end_time": "2025-08-07T16:04:52.215388",
     "exception": false,
     "start_time": "2025-08-07T16:04:52.184033",
     "status": "completed"
    },
    "tags": []
   },
   "outputs": [
    {
     "data": {
      "text/plain": [
       "array([  0.  ,  55.39,   0.  , ..., 208.26,   0.  ,   0.  ])"
      ]
     },
     "execution_count": 53,
     "metadata": {},
     "output_type": "execute_result"
    }
   ],
   "source": [
    "y_pred = training_model.predict(X_test)\n",
    "y_pred"
   ]
  },
  {
   "cell_type": "code",
   "execution_count": 54,
   "id": "eb5fcbe4",
   "metadata": {
    "execution": {
     "iopub.execute_input": "2025-08-07T16:04:52.260189Z",
     "iopub.status.busy": "2025-08-07T16:04:52.259533Z",
     "iopub.status.idle": "2025-08-07T16:04:52.265901Z",
     "shell.execute_reply": "2025-08-07T16:04:52.265167Z"
    },
    "papermill": {
     "duration": 0.029654,
     "end_time": "2025-08-07T16:04:52.267204",
     "exception": false,
     "start_time": "2025-08-07T16:04:52.237550",
     "status": "completed"
    },
    "tags": []
   },
   "outputs": [
    {
     "data": {
      "text/plain": [
       "5158       0.00\n",
       "3831     105.26\n",
       "5117       0.00\n",
       "6326     758.39\n",
       "11359    135.87\n",
       "          ...  \n",
       "10290     74.58\n",
       "13995      0.00\n",
       "9665     241.81\n",
       "2276       0.00\n",
       "4174       0.00\n",
       "Name: SolarRadiation, Length: 2924, dtype: float64"
      ]
     },
     "execution_count": 54,
     "metadata": {},
     "output_type": "execute_result"
    }
   ],
   "source": [
    "y_test"
   ]
  },
  {
   "cell_type": "code",
   "execution_count": 55,
   "id": "88c85f10",
   "metadata": {
    "execution": {
     "iopub.execute_input": "2025-08-07T16:04:52.314078Z",
     "iopub.status.busy": "2025-08-07T16:04:52.313770Z",
     "iopub.status.idle": "2025-08-07T16:04:52.320254Z",
     "shell.execute_reply": "2025-08-07T16:04:52.319548Z"
    },
    "papermill": {
     "duration": 0.031728,
     "end_time": "2025-08-07T16:04:52.321507",
     "exception": false,
     "start_time": "2025-08-07T16:04:52.289779",
     "status": "completed"
    },
    "tags": []
   },
   "outputs": [],
   "source": [
    "mse = mean_squared_error(y_test, y_pred)\n",
    "mae = mean_absolute_error(y_test, y_pred)\n",
    "r2 = r2_score(y_test, y_pred)\n",
    "rmse = math.sqrt(mse)"
   ]
  },
  {
   "cell_type": "code",
   "execution_count": 56,
   "id": "89408cca",
   "metadata": {
    "execution": {
     "iopub.execute_input": "2025-08-07T16:04:52.368322Z",
     "iopub.status.busy": "2025-08-07T16:04:52.368022Z",
     "iopub.status.idle": "2025-08-07T16:04:52.373023Z",
     "shell.execute_reply": "2025-08-07T16:04:52.372150Z"
    },
    "papermill": {
     "duration": 0.030272,
     "end_time": "2025-08-07T16:04:52.374299",
     "exception": false,
     "start_time": "2025-08-07T16:04:52.344027",
     "status": "completed"
    },
    "tags": []
   },
   "outputs": [
    {
     "name": "stdout",
     "output_type": "stream",
     "text": [
      "MSE Score: 371.6423578317374\n",
      "MAE Score: 10.135516415868674\n",
      "R2 Score: 0.9960479775646838\n",
      "RMSE Score: 19.278027851202452\n"
     ]
    }
   ],
   "source": [
    "print(\"MSE Score:\", mse)\n",
    "print(\"MAE Score:\", mae)\n",
    "print(\"R2 Score:\", r2)\n",
    "print(\"RMSE Score:\", rmse)"
   ]
  },
  {
   "cell_type": "code",
   "execution_count": 57,
   "id": "875cfb4f",
   "metadata": {
    "execution": {
     "iopub.execute_input": "2025-08-07T16:04:52.419303Z",
     "iopub.status.busy": "2025-08-07T16:04:52.419007Z",
     "iopub.status.idle": "2025-08-07T16:04:52.429866Z",
     "shell.execute_reply": "2025-08-07T16:04:52.428995Z"
    },
    "papermill": {
     "duration": 0.035032,
     "end_time": "2025-08-07T16:04:52.431596",
     "exception": false,
     "start_time": "2025-08-07T16:04:52.396564",
     "status": "completed"
    },
    "tags": []
   },
   "outputs": [
    {
     "name": "stdout",
     "output_type": "stream",
     "text": [
      "✨ New regression model added:\n",
      "   MSE: 371.642358, R²: 0.996048\n",
      "   Features: 27\n",
      "💾 Registry updated: Model_Training_History/History_Regression.csv\n"
     ]
    }
   ],
   "source": [
    "regression_params = {\n",
    "    'model_name': model_name_for_saving,\n",
    "    'scaler_name': \"RobustScaler\",\n",
    "    'features_list': feature_columns_for_saving,\n",
    "    'target_column': target_name_for_saving,\n",
    "    'mse': mse,\n",
    "    'mae': mae,\n",
    "    'rmse': rmse,\n",
    "    'r2': r2,\n",
    "    'parameters': json.dumps(training_model.get_params())\n",
    "}\n",
    "save_model_performance_if_better('regression', regression_params)"
   ]
  },
  {
   "cell_type": "markdown",
   "id": "d020716b",
   "metadata": {
    "papermill": {
     "duration": 0.021679,
     "end_time": "2025-08-07T16:04:52.476072",
     "exception": false,
     "start_time": "2025-08-07T16:04:52.454393",
     "status": "completed"
    },
    "tags": []
   },
   "source": [
    "### Tuning with Grid Search"
   ]
  },
  {
   "cell_type": "code",
   "execution_count": 58,
   "id": "d4838062",
   "metadata": {
    "execution": {
     "iopub.execute_input": "2025-08-07T16:04:52.521402Z",
     "iopub.status.busy": "2025-08-07T16:04:52.521133Z",
     "iopub.status.idle": "2025-08-07T16:04:52.525552Z",
     "shell.execute_reply": "2025-08-07T16:04:52.524715Z"
    },
    "papermill": {
     "duration": 0.028996,
     "end_time": "2025-08-07T16:04:52.526990",
     "exception": false,
     "start_time": "2025-08-07T16:04:52.497994",
     "status": "completed"
    },
    "tags": []
   },
   "outputs": [],
   "source": [
    "grid_search = GridSearchCV(\n",
    "    DecisionTreeRegressor(random_state=42), \n",
    "    grid_param, \n",
    "    cv=5, \n",
    "    scoring='neg_mean_squared_error', \n",
    "    n_jobs=-1, # allow parallel processing, you cant use your own laptop while this runs\n",
    "    verbose=1\n",
    ")"
   ]
  },
  {
   "cell_type": "code",
   "execution_count": 59,
   "id": "c97fa748",
   "metadata": {
    "execution": {
     "iopub.execute_input": "2025-08-07T16:04:52.572743Z",
     "iopub.status.busy": "2025-08-07T16:04:52.572428Z",
     "iopub.status.idle": "2025-08-07T16:12:49.877363Z",
     "shell.execute_reply": "2025-08-07T16:12:49.876444Z"
    },
    "papermill": {
     "duration": 477.351484,
     "end_time": "2025-08-07T16:12:49.900824",
     "exception": false,
     "start_time": "2025-08-07T16:04:52.549340",
     "status": "completed"
    },
    "tags": []
   },
   "outputs": [
    {
     "name": "stdout",
     "output_type": "stream",
     "text": [
      "Starting hyperparameter tuning...\n",
      "Fitting 5 folds for each of 5760 candidates, totalling 28800 fits\n",
      "CPU times: user 20.3 s, sys: 2.81 s, total: 23.1 s\n",
      "Wall time: 7min 57s\n"
     ]
    },
    {
     "data": {
      "text/html": [
       "<style>#sk-container-id-9 {color: black;background-color: white;}#sk-container-id-9 pre{padding: 0;}#sk-container-id-9 div.sk-toggleable {background-color: white;}#sk-container-id-9 label.sk-toggleable__label {cursor: pointer;display: block;width: 100%;margin-bottom: 0;padding: 0.3em;box-sizing: border-box;text-align: center;}#sk-container-id-9 label.sk-toggleable__label-arrow:before {content: \"▸\";float: left;margin-right: 0.25em;color: #696969;}#sk-container-id-9 label.sk-toggleable__label-arrow:hover:before {color: black;}#sk-container-id-9 div.sk-estimator:hover label.sk-toggleable__label-arrow:before {color: black;}#sk-container-id-9 div.sk-toggleable__content {max-height: 0;max-width: 0;overflow: hidden;text-align: left;background-color: #f0f8ff;}#sk-container-id-9 div.sk-toggleable__content pre {margin: 0.2em;color: black;border-radius: 0.25em;background-color: #f0f8ff;}#sk-container-id-9 input.sk-toggleable__control:checked~div.sk-toggleable__content {max-height: 200px;max-width: 100%;overflow: auto;}#sk-container-id-9 input.sk-toggleable__control:checked~label.sk-toggleable__label-arrow:before {content: \"▾\";}#sk-container-id-9 div.sk-estimator input.sk-toggleable__control:checked~label.sk-toggleable__label {background-color: #d4ebff;}#sk-container-id-9 div.sk-label input.sk-toggleable__control:checked~label.sk-toggleable__label {background-color: #d4ebff;}#sk-container-id-9 input.sk-hidden--visually {border: 0;clip: rect(1px 1px 1px 1px);clip: rect(1px, 1px, 1px, 1px);height: 1px;margin: -1px;overflow: hidden;padding: 0;position: absolute;width: 1px;}#sk-container-id-9 div.sk-estimator {font-family: monospace;background-color: #f0f8ff;border: 1px dotted black;border-radius: 0.25em;box-sizing: border-box;margin-bottom: 0.5em;}#sk-container-id-9 div.sk-estimator:hover {background-color: #d4ebff;}#sk-container-id-9 div.sk-parallel-item::after {content: \"\";width: 100%;border-bottom: 1px solid gray;flex-grow: 1;}#sk-container-id-9 div.sk-label:hover label.sk-toggleable__label {background-color: #d4ebff;}#sk-container-id-9 div.sk-serial::before {content: \"\";position: absolute;border-left: 1px solid gray;box-sizing: border-box;top: 0;bottom: 0;left: 50%;z-index: 0;}#sk-container-id-9 div.sk-serial {display: flex;flex-direction: column;align-items: center;background-color: white;padding-right: 0.2em;padding-left: 0.2em;position: relative;}#sk-container-id-9 div.sk-item {position: relative;z-index: 1;}#sk-container-id-9 div.sk-parallel {display: flex;align-items: stretch;justify-content: center;background-color: white;position: relative;}#sk-container-id-9 div.sk-item::before, #sk-container-id-9 div.sk-parallel-item::before {content: \"\";position: absolute;border-left: 1px solid gray;box-sizing: border-box;top: 0;bottom: 0;left: 50%;z-index: -1;}#sk-container-id-9 div.sk-parallel-item {display: flex;flex-direction: column;z-index: 1;position: relative;background-color: white;}#sk-container-id-9 div.sk-parallel-item:first-child::after {align-self: flex-end;width: 50%;}#sk-container-id-9 div.sk-parallel-item:last-child::after {align-self: flex-start;width: 50%;}#sk-container-id-9 div.sk-parallel-item:only-child::after {width: 0;}#sk-container-id-9 div.sk-dashed-wrapped {border: 1px dashed gray;margin: 0 0.4em 0.5em 0.4em;box-sizing: border-box;padding-bottom: 0.4em;background-color: white;}#sk-container-id-9 div.sk-label label {font-family: monospace;font-weight: bold;display: inline-block;line-height: 1.2em;}#sk-container-id-9 div.sk-label-container {text-align: center;}#sk-container-id-9 div.sk-container {/* jupyter's `normalize.less` sets `[hidden] { display: none; }` but bootstrap.min.css set `[hidden] { display: none !important; }` so we also need the `!important` here to be able to override the default hidden behavior on the sphinx rendered scikit-learn.org. See: https://github.com/scikit-learn/scikit-learn/issues/21755 */display: inline-block !important;position: relative;}#sk-container-id-9 div.sk-text-repr-fallback {display: none;}</style><div id=\"sk-container-id-9\" class=\"sk-top-container\"><div class=\"sk-text-repr-fallback\"><pre>GridSearchCV(cv=5, estimator=DecisionTreeRegressor(random_state=42), n_jobs=-1,\n",
       "             param_grid={&#x27;ccp_alpha&#x27;: [0.0, 0.01, 0.02],\n",
       "                         &#x27;criterion&#x27;: [&#x27;squared_error&#x27;, &#x27;friedman_mse&#x27;],\n",
       "                         &#x27;max_depth&#x27;: [None, 5, 10, 15, 25],\n",
       "                         &#x27;max_features&#x27;: [&#x27;sqrt&#x27;, &#x27;log2&#x27;, None, 0.5],\n",
       "                         &#x27;min_impurity_decrease&#x27;: [0.0, 0.01, 0.02],\n",
       "                         &#x27;min_samples_leaf&#x27;: [1, 2, 4, 8],\n",
       "                         &#x27;min_samples_split&#x27;: [2, 5, 10, 20]},\n",
       "             scoring=&#x27;neg_mean_squared_error&#x27;, verbose=1)</pre><b>In a Jupyter environment, please rerun this cell to show the HTML representation or trust the notebook. <br />On GitHub, the HTML representation is unable to render, please try loading this page with nbviewer.org.</b></div><div class=\"sk-container\" hidden><div class=\"sk-item sk-dashed-wrapped\"><div class=\"sk-label-container\"><div class=\"sk-label sk-toggleable\"><input class=\"sk-toggleable__control sk-hidden--visually\" id=\"sk-estimator-id-13\" type=\"checkbox\" ><label for=\"sk-estimator-id-13\" class=\"sk-toggleable__label sk-toggleable__label-arrow\">GridSearchCV</label><div class=\"sk-toggleable__content\"><pre>GridSearchCV(cv=5, estimator=DecisionTreeRegressor(random_state=42), n_jobs=-1,\n",
       "             param_grid={&#x27;ccp_alpha&#x27;: [0.0, 0.01, 0.02],\n",
       "                         &#x27;criterion&#x27;: [&#x27;squared_error&#x27;, &#x27;friedman_mse&#x27;],\n",
       "                         &#x27;max_depth&#x27;: [None, 5, 10, 15, 25],\n",
       "                         &#x27;max_features&#x27;: [&#x27;sqrt&#x27;, &#x27;log2&#x27;, None, 0.5],\n",
       "                         &#x27;min_impurity_decrease&#x27;: [0.0, 0.01, 0.02],\n",
       "                         &#x27;min_samples_leaf&#x27;: [1, 2, 4, 8],\n",
       "                         &#x27;min_samples_split&#x27;: [2, 5, 10, 20]},\n",
       "             scoring=&#x27;neg_mean_squared_error&#x27;, verbose=1)</pre></div></div></div><div class=\"sk-parallel\"><div class=\"sk-parallel-item\"><div class=\"sk-item\"><div class=\"sk-label-container\"><div class=\"sk-label sk-toggleable\"><input class=\"sk-toggleable__control sk-hidden--visually\" id=\"sk-estimator-id-14\" type=\"checkbox\" ><label for=\"sk-estimator-id-14\" class=\"sk-toggleable__label sk-toggleable__label-arrow\">estimator: DecisionTreeRegressor</label><div class=\"sk-toggleable__content\"><pre>DecisionTreeRegressor(random_state=42)</pre></div></div></div><div class=\"sk-serial\"><div class=\"sk-item\"><div class=\"sk-estimator sk-toggleable\"><input class=\"sk-toggleable__control sk-hidden--visually\" id=\"sk-estimator-id-15\" type=\"checkbox\" ><label for=\"sk-estimator-id-15\" class=\"sk-toggleable__label sk-toggleable__label-arrow\">DecisionTreeRegressor</label><div class=\"sk-toggleable__content\"><pre>DecisionTreeRegressor(random_state=42)</pre></div></div></div></div></div></div></div></div></div></div>"
      ],
      "text/plain": [
       "GridSearchCV(cv=5, estimator=DecisionTreeRegressor(random_state=42), n_jobs=-1,\n",
       "             param_grid={'ccp_alpha': [0.0, 0.01, 0.02],\n",
       "                         'criterion': ['squared_error', 'friedman_mse'],\n",
       "                         'max_depth': [None, 5, 10, 15, 25],\n",
       "                         'max_features': ['sqrt', 'log2', None, 0.5],\n",
       "                         'min_impurity_decrease': [0.0, 0.01, 0.02],\n",
       "                         'min_samples_leaf': [1, 2, 4, 8],\n",
       "                         'min_samples_split': [2, 5, 10, 20]},\n",
       "             scoring='neg_mean_squared_error', verbose=1)"
      ]
     },
     "execution_count": 59,
     "metadata": {},
     "output_type": "execute_result"
    }
   ],
   "source": [
    "%%time\n",
    "print(\"Starting hyperparameter tuning...\")\n",
    "grid_search.fit(X_train, y_train)"
   ]
  },
  {
   "cell_type": "code",
   "execution_count": 60,
   "id": "fc9b626f",
   "metadata": {
    "execution": {
     "iopub.execute_input": "2025-08-07T16:12:49.946728Z",
     "iopub.status.busy": "2025-08-07T16:12:49.946410Z",
     "iopub.status.idle": "2025-08-07T16:12:49.951837Z",
     "shell.execute_reply": "2025-08-07T16:12:49.950800Z"
    },
    "papermill": {
     "duration": 0.029957,
     "end_time": "2025-08-07T16:12:49.953252",
     "exception": false,
     "start_time": "2025-08-07T16:12:49.923295",
     "status": "completed"
    },
    "tags": []
   },
   "outputs": [
    {
     "name": "stdout",
     "output_type": "stream",
     "text": [
      "TUNING RESULTS\n",
      "==================================================\n",
      "Best Parameters: {'ccp_alpha': 0.02, 'criterion': 'squared_error', 'max_depth': 10, 'max_features': None, 'min_impurity_decrease': 0.0, 'min_samples_leaf': 8, 'min_samples_split': 20}\n",
      "Best Cross-Validation Score (Negative MSE): -248.293808279114\n",
      "Best Cross-Validation Score (MSE): 248.293808279114\n",
      "Best Cross-Validation Score (RMSE): 15.757341408978673\n"
     ]
    }
   ],
   "source": [
    "print(\"TUNING RESULTS\")\n",
    "print(\"=\"*50)\n",
    "print(\"Best Parameters:\", grid_search.best_params_)\n",
    "print(\"Best Cross-Validation Score (Negative MSE):\", grid_search.best_score_)\n",
    "print(\"Best Cross-Validation Score (MSE):\", -grid_search.best_score_)\n",
    "print(\"Best Cross-Validation Score (RMSE):\", math.sqrt(-grid_search.best_score_))"
   ]
  },
  {
   "cell_type": "code",
   "execution_count": 61,
   "id": "bb8697c5",
   "metadata": {
    "execution": {
     "iopub.execute_input": "2025-08-07T16:12:50.000310Z",
     "iopub.status.busy": "2025-08-07T16:12:50.000009Z",
     "iopub.status.idle": "2025-08-07T16:12:50.004826Z",
     "shell.execute_reply": "2025-08-07T16:12:50.004032Z"
    },
    "papermill": {
     "duration": 0.029764,
     "end_time": "2025-08-07T16:12:50.006257",
     "exception": false,
     "start_time": "2025-08-07T16:12:49.976493",
     "status": "completed"
    },
    "tags": []
   },
   "outputs": [],
   "source": [
    "grid_search_best_model = grid_search.best_estimator_\n",
    "y_pred = grid_search_best_model.predict(X_test)"
   ]
  },
  {
   "cell_type": "code",
   "execution_count": 62,
   "id": "e6d4d531",
   "metadata": {
    "execution": {
     "iopub.execute_input": "2025-08-07T16:12:50.053130Z",
     "iopub.status.busy": "2025-08-07T16:12:50.052824Z",
     "iopub.status.idle": "2025-08-07T16:12:50.059480Z",
     "shell.execute_reply": "2025-08-07T16:12:50.058557Z"
    },
    "papermill": {
     "duration": 0.03172,
     "end_time": "2025-08-07T16:12:50.060988",
     "exception": false,
     "start_time": "2025-08-07T16:12:50.029268",
     "status": "completed"
    },
    "tags": []
   },
   "outputs": [],
   "source": [
    "mse_grid_search = mean_squared_error(y_test, y_pred)\n",
    "mae_grid_search = mean_absolute_error(y_test, y_pred)\n",
    "r2_grid_search = r2_score(y_test, y_pred)\n",
    "rmse_grid_search = math.sqrt(mse_grid_search)"
   ]
  },
  {
   "cell_type": "code",
   "execution_count": 63,
   "id": "50c862c8",
   "metadata": {
    "execution": {
     "iopub.execute_input": "2025-08-07T16:12:50.108294Z",
     "iopub.status.busy": "2025-08-07T16:12:50.108010Z",
     "iopub.status.idle": "2025-08-07T16:12:50.113040Z",
     "shell.execute_reply": "2025-08-07T16:12:50.112263Z"
    },
    "papermill": {
     "duration": 0.030235,
     "end_time": "2025-08-07T16:12:50.114360",
     "exception": false,
     "start_time": "2025-08-07T16:12:50.084125",
     "status": "completed"
    },
    "tags": []
   },
   "outputs": [
    {
     "name": "stdout",
     "output_type": "stream",
     "text": [
      "MSE Score: 254.9043331566088\n",
      "MAE Score: 8.872722992536056\n",
      "R2 Score: 0.9972893626835982\n",
      "RMSE Score: 15.965723696613592\n"
     ]
    }
   ],
   "source": [
    "print(\"MSE Score:\", mse_grid_search)\n",
    "print(\"MAE Score:\", mae_grid_search)\n",
    "print(\"R2 Score:\", r2_grid_search)\n",
    "print(\"RMSE Score:\", rmse_grid_search)"
   ]
  },
  {
   "cell_type": "code",
   "execution_count": 64,
   "id": "9cf60f8e",
   "metadata": {
    "execution": {
     "iopub.execute_input": "2025-08-07T16:12:50.162264Z",
     "iopub.status.busy": "2025-08-07T16:12:50.161930Z",
     "iopub.status.idle": "2025-08-07T16:12:50.173884Z",
     "shell.execute_reply": "2025-08-07T16:12:50.172830Z"
    },
    "papermill": {
     "duration": 0.038084,
     "end_time": "2025-08-07T16:12:50.175349",
     "exception": false,
     "start_time": "2025-08-07T16:12:50.137265",
     "status": "completed"
    },
    "tags": []
   },
   "outputs": [
    {
     "name": "stdout",
     "output_type": "stream",
     "text": [
      "✨ New regression model added:\n",
      "   MSE: 254.904333, R²: 0.997289\n",
      "   Features: 27\n",
      "💾 Registry updated: Model_Training_History/History_Regression.csv\n"
     ]
    }
   ],
   "source": [
    "regression_params = {\n",
    "    'model_name': model_name_for_saving + \" Tuned\",\n",
    "    'scaler_name': \"RobustScaler\",\n",
    "    'features_list': feature_columns_for_saving,\n",
    "    'target_column': target_name_for_saving,\n",
    "    'mse': mse_grid_search,\n",
    "    'mae': mae_grid_search,\n",
    "    'rmse': rmse_grid_search,\n",
    "    'r2': r2_grid_search,\n",
    "    'parameters' : json.dumps({\n",
    "        \"best_params\": grid_search.best_params_,\n",
    "        \"cv_score\": grid_search.best_score_,\n",
    "        \"all_params\": grid_search_best_model.get_params()\n",
    "    })\n",
    "}\n",
    "save_model_performance_if_better('regression', regression_params)"
   ]
  },
  {
   "cell_type": "markdown",
   "id": "8ac55298",
   "metadata": {
    "papermill": {
     "duration": 0.022442,
     "end_time": "2025-08-07T16:12:50.220777",
     "exception": false,
     "start_time": "2025-08-07T16:12:50.198335",
     "status": "completed"
    },
    "tags": []
   },
   "source": [
    "# Selected Features"
   ]
  },
  {
   "cell_type": "code",
   "execution_count": 65,
   "id": "9c7ab834",
   "metadata": {
    "execution": {
     "iopub.execute_input": "2025-08-07T16:12:50.268889Z",
     "iopub.status.busy": "2025-08-07T16:12:50.268112Z",
     "iopub.status.idle": "2025-08-07T16:12:50.323586Z",
     "shell.execute_reply": "2025-08-07T16:12:50.322608Z"
    },
    "papermill": {
     "duration": 0.080969,
     "end_time": "2025-08-07T16:12:50.325159",
     "exception": false,
     "start_time": "2025-08-07T16:12:50.244190",
     "status": "completed"
    },
    "tags": []
   },
   "outputs": [
    {
     "name": "stdout",
     "output_type": "stream",
     "text": [
      "SolarRadiation               1.000000\n",
      "SolarEnergy                  0.999867\n",
      "UVIndex                      0.998315\n",
      "DaySegments_Midday           0.594891\n",
      "Temp                         0.400378\n",
      "FeelsLike                    0.344429\n",
      "DaySegments_Morning          0.244659\n",
      "WindSpeed                    0.216803\n",
      "DaySegments_Afternoon        0.215785\n",
      "WindDir                      0.180924\n",
      "SevereRisk                   0.125829\n",
      "Hour                         0.095598\n",
      "Season_Summer                0.093764\n",
      "Visibility                   0.054367\n",
      "SeaLevelPressure             0.026622\n",
      "Year                         0.021999\n",
      "Dew                          0.013910\n",
      "Day                         -0.001404\n",
      "PrecipProb                  -0.013477\n",
      "Season_Rainy                -0.033059\n",
      "Season_Winter               -0.035395\n",
      "Season_Autumn               -0.035413\n",
      "Precip                      -0.039079\n",
      "CloudCover                  -0.055418\n",
      "Month                       -0.061339\n",
      "Windgust                    -0.100270\n",
      "DaySegments_Early Morning   -0.188121\n",
      "DaySegments_Evening         -0.205857\n",
      "DaySegments_Night           -0.252539\n",
      "DaySegments_Late Night      -0.427502\n",
      "Humidity                    -0.452369\n",
      "Name: SolarRadiation, dtype: float64\n"
     ]
    }
   ],
   "source": [
    "numeric_cols = weather_data.select_dtypes(include=[float, int]).columns\n",
    "correlations = weather_data[numeric_cols].corr()['SolarRadiation'].sort_values(ascending=False)\n",
    "print(correlations)"
   ]
  },
  {
   "cell_type": "code",
   "execution_count": 66,
   "id": "40b89978",
   "metadata": {
    "execution": {
     "iopub.execute_input": "2025-08-07T16:12:50.372869Z",
     "iopub.status.busy": "2025-08-07T16:12:50.372514Z",
     "iopub.status.idle": "2025-08-07T16:12:50.386515Z",
     "shell.execute_reply": "2025-08-07T16:12:50.385581Z"
    },
    "papermill": {
     "duration": 0.039539,
     "end_time": "2025-08-07T16:12:50.387952",
     "exception": false,
     "start_time": "2025-08-07T16:12:50.348413",
     "status": "completed"
    },
    "tags": []
   },
   "outputs": [
    {
     "name": "stdout",
     "output_type": "stream",
     "text": [
      "<class 'pandas.core.frame.DataFrame'>\n",
      "RangeIndex: 14616 entries, 0 to 14615\n",
      "Data columns (total 36 columns):\n",
      " #   Column                     Non-Null Count  Dtype         \n",
      "---  ------                     --------------  -----         \n",
      " 0   DateTime                   14616 non-null  datetime64[ns]\n",
      " 1   Year                       14616 non-null  int64         \n",
      " 2   Month                      14616 non-null  int64         \n",
      " 3   Day                        14616 non-null  int64         \n",
      " 4   Hour                       14616 non-null  int64         \n",
      " 5   DaySegments                14616 non-null  object        \n",
      " 6   DaySegments_Afternoon      14616 non-null  int64         \n",
      " 7   DaySegments_Early Morning  14616 non-null  int64         \n",
      " 8   DaySegments_Evening        14616 non-null  int64         \n",
      " 9   DaySegments_Late Night     14616 non-null  int64         \n",
      " 10  DaySegments_Midday         14616 non-null  int64         \n",
      " 11  DaySegments_Morning        14616 non-null  int64         \n",
      " 12  DaySegments_Night          14616 non-null  int64         \n",
      " 13  Season_Autumn              14616 non-null  int64         \n",
      " 14  Season_Rainy               14616 non-null  int64         \n",
      " 15  Season_Summer              14616 non-null  int64         \n",
      " 16  Season_Winter              14616 non-null  int64         \n",
      " 17  Season                     14616 non-null  object        \n",
      " 18  Temp                       14616 non-null  float64       \n",
      " 19  FeelsLike                  14616 non-null  float64       \n",
      " 20  Dew                        14616 non-null  float64       \n",
      " 21  Humidity                   14616 non-null  float64       \n",
      " 22  Precip                     14616 non-null  float64       \n",
      " 23  PrecipProb                 14616 non-null  float64       \n",
      " 24  Windgust                   14616 non-null  float64       \n",
      " 25  WindSpeed                  14616 non-null  float64       \n",
      " 26  WindDir                    14616 non-null  float64       \n",
      " 27  SeaLevelPressure           14616 non-null  float64       \n",
      " 28  CloudCover                 14616 non-null  float64       \n",
      " 29  UVIndex                    14616 non-null  float64       \n",
      " 30  SevereRisk                 14616 non-null  float64       \n",
      " 31  Visibility                 14616 non-null  float64       \n",
      " 32  SolarRadiation             14616 non-null  float64       \n",
      " 33  SolarEnergy                14616 non-null  float64       \n",
      " 34  Conditions                 14616 non-null  object        \n",
      " 35  Icon                       14616 non-null  object        \n",
      "dtypes: datetime64[ns](1), float64(16), int64(15), object(4)\n",
      "memory usage: 4.0+ MB\n"
     ]
    }
   ],
   "source": [
    "weather_data.info()"
   ]
  },
  {
   "cell_type": "markdown",
   "id": "a0a038e0",
   "metadata": {
    "papermill": {
     "duration": 0.022767,
     "end_time": "2025-08-07T16:12:50.433837",
     "exception": false,
     "start_time": "2025-08-07T16:12:50.411070",
     "status": "completed"
    },
    "tags": []
   },
   "source": [
    "## Run Again"
   ]
  },
  {
   "cell_type": "code",
   "execution_count": 67,
   "id": "a393c9b0",
   "metadata": {
    "execution": {
     "iopub.execute_input": "2025-08-07T16:12:50.481140Z",
     "iopub.status.busy": "2025-08-07T16:12:50.480530Z",
     "iopub.status.idle": "2025-08-07T16:12:50.486424Z",
     "shell.execute_reply": "2025-08-07T16:12:50.485740Z"
    },
    "papermill": {
     "duration": 0.031021,
     "end_time": "2025-08-07T16:12:50.487724",
     "exception": false,
     "start_time": "2025-08-07T16:12:50.456703",
     "status": "completed"
    },
    "tags": []
   },
   "outputs": [],
   "source": [
    "X_train_raw = weather_data_train.drop(columns=['DateTime', # Model cannot use DateTime as a feature\n",
    "                                                'Year', # No Effect on weather data\n",
    "                                                'Season', # Season is categorical, not numerical\n",
    "                                                'DaySegments', # DaySegments is categorical, not numerical\n",
    "                                                'Visibility',  # Target variable\n",
    "                                                'SolarRadiation', # Target variable\n",
    "                                                'SolarEnergy', # Target variable\n",
    "                                                'Conditions', # Target variable\n",
    "                                                'Icon', # Target variable\n",
    "                                                \n",
    "                                                'Day', # same day from different month act differently\n",
    "                                                'SeaLevelPressure', # low correlation with Solar Energy\n",
    "                                                'Dew', # low correlation with Solar Energy\n",
    "                                                'Precip', # low correlation with Solar Energy\n",
    "                                                'PrecipProb']) # low correlation with Solar Energy\n",
    "y_train = weather_data_train['SolarRadiation']"
   ]
  },
  {
   "cell_type": "code",
   "execution_count": 68,
   "id": "380ac505",
   "metadata": {
    "execution": {
     "iopub.execute_input": "2025-08-07T16:12:50.536325Z",
     "iopub.status.busy": "2025-08-07T16:12:50.535535Z",
     "iopub.status.idle": "2025-08-07T16:12:50.541947Z",
     "shell.execute_reply": "2025-08-07T16:12:50.541122Z"
    },
    "papermill": {
     "duration": 0.032289,
     "end_time": "2025-08-07T16:12:50.543487",
     "exception": false,
     "start_time": "2025-08-07T16:12:50.511198",
     "status": "completed"
    },
    "tags": []
   },
   "outputs": [],
   "source": [
    "X_test_raw = weather_data_test.drop(columns=['DateTime', # Model cannot use DateTime as a feature\n",
    "                                                'Year', # No Effect on weather data\n",
    "                                                'Season', # Season is categorical, not numerical\n",
    "                                                'DaySegments', # DaySegments is categorical, not numerical\n",
    "                                                'Visibility',  # Target variable\n",
    "                                                'SolarRadiation', # Target variable\n",
    "                                                'SolarEnergy', # Target variable\n",
    "                                                'Conditions', # Target variable\n",
    "                                                'Icon', # Target variable\n",
    "                                                \n",
    "                                                'Day', # same day from different month act differently\n",
    "                                                'SeaLevelPressure', # low correlation with Solar Energy\n",
    "                                                'Dew', # low correlation with Solar Energy\n",
    "                                                'Precip', # low correlation with Solar Energy\n",
    "                                                'PrecipProb']) # low correlation with Solar Energy\n",
    "y_test = weather_data_test['SolarRadiation']"
   ]
  },
  {
   "cell_type": "code",
   "execution_count": 69,
   "id": "8e8206c5",
   "metadata": {
    "execution": {
     "iopub.execute_input": "2025-08-07T16:12:50.591566Z",
     "iopub.status.busy": "2025-08-07T16:12:50.591262Z",
     "iopub.status.idle": "2025-08-07T16:12:50.595681Z",
     "shell.execute_reply": "2025-08-07T16:12:50.594812Z"
    },
    "papermill": {
     "duration": 0.030008,
     "end_time": "2025-08-07T16:12:50.597166",
     "exception": false,
     "start_time": "2025-08-07T16:12:50.567158",
     "status": "completed"
    },
    "tags": []
   },
   "outputs": [],
   "source": [
    "feature_columns = [col for col in X_train_raw.columns]\n",
    "feature_columns_for_saving = ','.join(feature_columns)"
   ]
  },
  {
   "cell_type": "code",
   "execution_count": 70,
   "id": "355918e2",
   "metadata": {
    "execution": {
     "iopub.execute_input": "2025-08-07T16:12:50.645199Z",
     "iopub.status.busy": "2025-08-07T16:12:50.644879Z",
     "iopub.status.idle": "2025-08-07T16:12:50.649856Z",
     "shell.execute_reply": "2025-08-07T16:12:50.648899Z"
    },
    "papermill": {
     "duration": 0.030452,
     "end_time": "2025-08-07T16:12:50.651178",
     "exception": false,
     "start_time": "2025-08-07T16:12:50.620726",
     "status": "completed"
    },
    "tags": []
   },
   "outputs": [
    {
     "name": "stdout",
     "output_type": "stream",
     "text": [
      "X_train:  11692\n",
      "y_train:  11692\n",
      "\n",
      "X_test:  2924\n",
      "y_test:  2924\n"
     ]
    }
   ],
   "source": [
    "print(\"X_train: \", len(X_train_raw))\n",
    "print(\"y_train: \", len(y_train))\n",
    "print(\"\\nX_test: \", len(X_test_raw))\n",
    "print(\"y_test: \", len(y_test))"
   ]
  },
  {
   "cell_type": "markdown",
   "id": "225bf838",
   "metadata": {
    "papermill": {
     "duration": 0.022963,
     "end_time": "2025-08-07T16:12:50.698136",
     "exception": false,
     "start_time": "2025-08-07T16:12:50.675173",
     "status": "completed"
    },
    "tags": []
   },
   "source": [
    "### MinMax Scaler"
   ]
  },
  {
   "cell_type": "code",
   "execution_count": 71,
   "id": "a3722e40",
   "metadata": {
    "execution": {
     "iopub.execute_input": "2025-08-07T16:12:50.746128Z",
     "iopub.status.busy": "2025-08-07T16:12:50.745340Z",
     "iopub.status.idle": "2025-08-07T16:12:50.758690Z",
     "shell.execute_reply": "2025-08-07T16:12:50.757629Z"
    },
    "papermill": {
     "duration": 0.038967,
     "end_time": "2025-08-07T16:12:50.760433",
     "exception": false,
     "start_time": "2025-08-07T16:12:50.721466",
     "status": "completed"
    },
    "tags": []
   },
   "outputs": [],
   "source": [
    "scaler = MinMaxScaler()\n",
    "X_train = scaler.fit_transform(X_train_raw)\n",
    "X_test = scaler.transform(X_test_raw)"
   ]
  },
  {
   "cell_type": "code",
   "execution_count": 72,
   "id": "14baf1d6",
   "metadata": {
    "execution": {
     "iopub.execute_input": "2025-08-07T16:12:50.811522Z",
     "iopub.status.busy": "2025-08-07T16:12:50.811238Z",
     "iopub.status.idle": "2025-08-07T16:12:50.817500Z",
     "shell.execute_reply": "2025-08-07T16:12:50.816754Z"
    },
    "papermill": {
     "duration": 0.034495,
     "end_time": "2025-08-07T16:12:50.819041",
     "exception": false,
     "start_time": "2025-08-07T16:12:50.784546",
     "status": "completed"
    },
    "tags": []
   },
   "outputs": [
    {
     "data": {
      "text/plain": [
       "array([[0.72727273, 0.43478261, 0.        , ..., 0.4922    , 0.697     ,\n",
       "        0.31560059],\n",
       "       [0.90909091, 0.69565217, 1.        , ..., 0.        , 0.303     ,\n",
       "        0.07388643],\n",
       "       [0.09090909, 0.        , 0.        , ..., 0.        , 0.        ,\n",
       "        0.07388643],\n",
       "       ...,\n",
       "       [0.63636364, 0.43478261, 0.        , ..., 0.8756    , 0.306     ,\n",
       "        0.09436352],\n",
       "       [0.        , 0.91304348, 0.        , ..., 0.        , 0.        ,\n",
       "        0.07388643],\n",
       "       [0.72727273, 0.34782609, 0.        , ..., 0.8925    , 0.29      ,\n",
       "        0.27812962]])"
      ]
     },
     "execution_count": 72,
     "metadata": {},
     "output_type": "execute_result"
    }
   ],
   "source": [
    "X_train"
   ]
  },
  {
   "cell_type": "code",
   "execution_count": 73,
   "id": "b17b31cf",
   "metadata": {
    "execution": {
     "iopub.execute_input": "2025-08-07T16:12:50.868014Z",
     "iopub.status.busy": "2025-08-07T16:12:50.867264Z",
     "iopub.status.idle": "2025-08-07T16:12:50.872821Z",
     "shell.execute_reply": "2025-08-07T16:12:50.872078Z"
    },
    "papermill": {
     "duration": 0.031295,
     "end_time": "2025-08-07T16:12:50.874082",
     "exception": false,
     "start_time": "2025-08-07T16:12:50.842787",
     "status": "completed"
    },
    "tags": []
   },
   "outputs": [
    {
     "data": {
      "text/plain": [
       "array([[0.63636364, 0.95652174, 0.        , ..., 0.894     , 0.        ,\n",
       "        0.07388643],\n",
       "       [0.45454545, 0.65217391, 1.        , ..., 0.9677    , 0.074     ,\n",
       "        0.07388643],\n",
       "       [0.63636364, 0.2173913 , 0.        , ..., 0.9935    , 0.        ,\n",
       "        0.07388643],\n",
       "       ...,\n",
       "       [0.09090909, 0.73913043, 1.        , ..., 0.0013    , 0.203     ,\n",
       "        0.07388643],\n",
       "       [0.27272727, 0.86956522, 0.        , ..., 0.        , 0.        ,\n",
       "        0.25575259],\n",
       "       [0.45454545, 0.95652174, 0.        , ..., 0.5161    , 0.        ,\n",
       "        0.07388643]])"
      ]
     },
     "execution_count": 73,
     "metadata": {},
     "output_type": "execute_result"
    }
   ],
   "source": [
    "X_test"
   ]
  },
  {
   "cell_type": "markdown",
   "id": "19b2705c",
   "metadata": {
    "papermill": {
     "duration": 0.024424,
     "end_time": "2025-08-07T16:12:50.922277",
     "exception": false,
     "start_time": "2025-08-07T16:12:50.897853",
     "status": "completed"
    },
    "tags": []
   },
   "source": [
    "#### Default Parameters"
   ]
  },
  {
   "cell_type": "code",
   "execution_count": 74,
   "id": "b35c8b5a",
   "metadata": {
    "execution": {
     "iopub.execute_input": "2025-08-07T16:12:50.973562Z",
     "iopub.status.busy": "2025-08-07T16:12:50.972847Z",
     "iopub.status.idle": "2025-08-07T16:12:50.978778Z",
     "shell.execute_reply": "2025-08-07T16:12:50.978039Z"
    },
    "papermill": {
     "duration": 0.031975,
     "end_time": "2025-08-07T16:12:50.980136",
     "exception": false,
     "start_time": "2025-08-07T16:12:50.948161",
     "status": "completed"
    },
    "tags": []
   },
   "outputs": [
    {
     "data": {
      "text/html": [
       "<style>#sk-container-id-10 {color: black;background-color: white;}#sk-container-id-10 pre{padding: 0;}#sk-container-id-10 div.sk-toggleable {background-color: white;}#sk-container-id-10 label.sk-toggleable__label {cursor: pointer;display: block;width: 100%;margin-bottom: 0;padding: 0.3em;box-sizing: border-box;text-align: center;}#sk-container-id-10 label.sk-toggleable__label-arrow:before {content: \"▸\";float: left;margin-right: 0.25em;color: #696969;}#sk-container-id-10 label.sk-toggleable__label-arrow:hover:before {color: black;}#sk-container-id-10 div.sk-estimator:hover label.sk-toggleable__label-arrow:before {color: black;}#sk-container-id-10 div.sk-toggleable__content {max-height: 0;max-width: 0;overflow: hidden;text-align: left;background-color: #f0f8ff;}#sk-container-id-10 div.sk-toggleable__content pre {margin: 0.2em;color: black;border-radius: 0.25em;background-color: #f0f8ff;}#sk-container-id-10 input.sk-toggleable__control:checked~div.sk-toggleable__content {max-height: 200px;max-width: 100%;overflow: auto;}#sk-container-id-10 input.sk-toggleable__control:checked~label.sk-toggleable__label-arrow:before {content: \"▾\";}#sk-container-id-10 div.sk-estimator input.sk-toggleable__control:checked~label.sk-toggleable__label {background-color: #d4ebff;}#sk-container-id-10 div.sk-label input.sk-toggleable__control:checked~label.sk-toggleable__label {background-color: #d4ebff;}#sk-container-id-10 input.sk-hidden--visually {border: 0;clip: rect(1px 1px 1px 1px);clip: rect(1px, 1px, 1px, 1px);height: 1px;margin: -1px;overflow: hidden;padding: 0;position: absolute;width: 1px;}#sk-container-id-10 div.sk-estimator {font-family: monospace;background-color: #f0f8ff;border: 1px dotted black;border-radius: 0.25em;box-sizing: border-box;margin-bottom: 0.5em;}#sk-container-id-10 div.sk-estimator:hover {background-color: #d4ebff;}#sk-container-id-10 div.sk-parallel-item::after {content: \"\";width: 100%;border-bottom: 1px solid gray;flex-grow: 1;}#sk-container-id-10 div.sk-label:hover label.sk-toggleable__label {background-color: #d4ebff;}#sk-container-id-10 div.sk-serial::before {content: \"\";position: absolute;border-left: 1px solid gray;box-sizing: border-box;top: 0;bottom: 0;left: 50%;z-index: 0;}#sk-container-id-10 div.sk-serial {display: flex;flex-direction: column;align-items: center;background-color: white;padding-right: 0.2em;padding-left: 0.2em;position: relative;}#sk-container-id-10 div.sk-item {position: relative;z-index: 1;}#sk-container-id-10 div.sk-parallel {display: flex;align-items: stretch;justify-content: center;background-color: white;position: relative;}#sk-container-id-10 div.sk-item::before, #sk-container-id-10 div.sk-parallel-item::before {content: \"\";position: absolute;border-left: 1px solid gray;box-sizing: border-box;top: 0;bottom: 0;left: 50%;z-index: -1;}#sk-container-id-10 div.sk-parallel-item {display: flex;flex-direction: column;z-index: 1;position: relative;background-color: white;}#sk-container-id-10 div.sk-parallel-item:first-child::after {align-self: flex-end;width: 50%;}#sk-container-id-10 div.sk-parallel-item:last-child::after {align-self: flex-start;width: 50%;}#sk-container-id-10 div.sk-parallel-item:only-child::after {width: 0;}#sk-container-id-10 div.sk-dashed-wrapped {border: 1px dashed gray;margin: 0 0.4em 0.5em 0.4em;box-sizing: border-box;padding-bottom: 0.4em;background-color: white;}#sk-container-id-10 div.sk-label label {font-family: monospace;font-weight: bold;display: inline-block;line-height: 1.2em;}#sk-container-id-10 div.sk-label-container {text-align: center;}#sk-container-id-10 div.sk-container {/* jupyter's `normalize.less` sets `[hidden] { display: none; }` but bootstrap.min.css set `[hidden] { display: none !important; }` so we also need the `!important` here to be able to override the default hidden behavior on the sphinx rendered scikit-learn.org. See: https://github.com/scikit-learn/scikit-learn/issues/21755 */display: inline-block !important;position: relative;}#sk-container-id-10 div.sk-text-repr-fallback {display: none;}</style><div id=\"sk-container-id-10\" class=\"sk-top-container\"><div class=\"sk-text-repr-fallback\"><pre>DecisionTreeRegressor(random_state=42)</pre><b>In a Jupyter environment, please rerun this cell to show the HTML representation or trust the notebook. <br />On GitHub, the HTML representation is unable to render, please try loading this page with nbviewer.org.</b></div><div class=\"sk-container\" hidden><div class=\"sk-item\"><div class=\"sk-estimator sk-toggleable\"><input class=\"sk-toggleable__control sk-hidden--visually\" id=\"sk-estimator-id-16\" type=\"checkbox\" checked><label for=\"sk-estimator-id-16\" class=\"sk-toggleable__label sk-toggleable__label-arrow\">DecisionTreeRegressor</label><div class=\"sk-toggleable__content\"><pre>DecisionTreeRegressor(random_state=42)</pre></div></div></div></div></div>"
      ],
      "text/plain": [
       "DecisionTreeRegressor(random_state=42)"
      ]
     },
     "execution_count": 74,
     "metadata": {},
     "output_type": "execute_result"
    }
   ],
   "source": [
    "training_model = DecisionTreeRegressor(random_state=42)\n",
    "training_model"
   ]
  },
  {
   "cell_type": "code",
   "execution_count": 75,
   "id": "194f25b8",
   "metadata": {
    "execution": {
     "iopub.execute_input": "2025-08-07T16:12:51.029714Z",
     "iopub.status.busy": "2025-08-07T16:12:51.029383Z",
     "iopub.status.idle": "2025-08-07T16:12:51.142281Z",
     "shell.execute_reply": "2025-08-07T16:12:51.141376Z"
    },
    "papermill": {
     "duration": 0.139254,
     "end_time": "2025-08-07T16:12:51.143713",
     "exception": false,
     "start_time": "2025-08-07T16:12:51.004459",
     "status": "completed"
    },
    "tags": []
   },
   "outputs": [
    {
     "name": "stdout",
     "output_type": "stream",
     "text": [
      "CPU times: user 107 ms, sys: 0 ns, total: 107 ms\n",
      "Wall time: 106 ms\n"
     ]
    },
    {
     "data": {
      "text/html": [
       "<style>#sk-container-id-11 {color: black;background-color: white;}#sk-container-id-11 pre{padding: 0;}#sk-container-id-11 div.sk-toggleable {background-color: white;}#sk-container-id-11 label.sk-toggleable__label {cursor: pointer;display: block;width: 100%;margin-bottom: 0;padding: 0.3em;box-sizing: border-box;text-align: center;}#sk-container-id-11 label.sk-toggleable__label-arrow:before {content: \"▸\";float: left;margin-right: 0.25em;color: #696969;}#sk-container-id-11 label.sk-toggleable__label-arrow:hover:before {color: black;}#sk-container-id-11 div.sk-estimator:hover label.sk-toggleable__label-arrow:before {color: black;}#sk-container-id-11 div.sk-toggleable__content {max-height: 0;max-width: 0;overflow: hidden;text-align: left;background-color: #f0f8ff;}#sk-container-id-11 div.sk-toggleable__content pre {margin: 0.2em;color: black;border-radius: 0.25em;background-color: #f0f8ff;}#sk-container-id-11 input.sk-toggleable__control:checked~div.sk-toggleable__content {max-height: 200px;max-width: 100%;overflow: auto;}#sk-container-id-11 input.sk-toggleable__control:checked~label.sk-toggleable__label-arrow:before {content: \"▾\";}#sk-container-id-11 div.sk-estimator input.sk-toggleable__control:checked~label.sk-toggleable__label {background-color: #d4ebff;}#sk-container-id-11 div.sk-label input.sk-toggleable__control:checked~label.sk-toggleable__label {background-color: #d4ebff;}#sk-container-id-11 input.sk-hidden--visually {border: 0;clip: rect(1px 1px 1px 1px);clip: rect(1px, 1px, 1px, 1px);height: 1px;margin: -1px;overflow: hidden;padding: 0;position: absolute;width: 1px;}#sk-container-id-11 div.sk-estimator {font-family: monospace;background-color: #f0f8ff;border: 1px dotted black;border-radius: 0.25em;box-sizing: border-box;margin-bottom: 0.5em;}#sk-container-id-11 div.sk-estimator:hover {background-color: #d4ebff;}#sk-container-id-11 div.sk-parallel-item::after {content: \"\";width: 100%;border-bottom: 1px solid gray;flex-grow: 1;}#sk-container-id-11 div.sk-label:hover label.sk-toggleable__label {background-color: #d4ebff;}#sk-container-id-11 div.sk-serial::before {content: \"\";position: absolute;border-left: 1px solid gray;box-sizing: border-box;top: 0;bottom: 0;left: 50%;z-index: 0;}#sk-container-id-11 div.sk-serial {display: flex;flex-direction: column;align-items: center;background-color: white;padding-right: 0.2em;padding-left: 0.2em;position: relative;}#sk-container-id-11 div.sk-item {position: relative;z-index: 1;}#sk-container-id-11 div.sk-parallel {display: flex;align-items: stretch;justify-content: center;background-color: white;position: relative;}#sk-container-id-11 div.sk-item::before, #sk-container-id-11 div.sk-parallel-item::before {content: \"\";position: absolute;border-left: 1px solid gray;box-sizing: border-box;top: 0;bottom: 0;left: 50%;z-index: -1;}#sk-container-id-11 div.sk-parallel-item {display: flex;flex-direction: column;z-index: 1;position: relative;background-color: white;}#sk-container-id-11 div.sk-parallel-item:first-child::after {align-self: flex-end;width: 50%;}#sk-container-id-11 div.sk-parallel-item:last-child::after {align-self: flex-start;width: 50%;}#sk-container-id-11 div.sk-parallel-item:only-child::after {width: 0;}#sk-container-id-11 div.sk-dashed-wrapped {border: 1px dashed gray;margin: 0 0.4em 0.5em 0.4em;box-sizing: border-box;padding-bottom: 0.4em;background-color: white;}#sk-container-id-11 div.sk-label label {font-family: monospace;font-weight: bold;display: inline-block;line-height: 1.2em;}#sk-container-id-11 div.sk-label-container {text-align: center;}#sk-container-id-11 div.sk-container {/* jupyter's `normalize.less` sets `[hidden] { display: none; }` but bootstrap.min.css set `[hidden] { display: none !important; }` so we also need the `!important` here to be able to override the default hidden behavior on the sphinx rendered scikit-learn.org. See: https://github.com/scikit-learn/scikit-learn/issues/21755 */display: inline-block !important;position: relative;}#sk-container-id-11 div.sk-text-repr-fallback {display: none;}</style><div id=\"sk-container-id-11\" class=\"sk-top-container\"><div class=\"sk-text-repr-fallback\"><pre>DecisionTreeRegressor(random_state=42)</pre><b>In a Jupyter environment, please rerun this cell to show the HTML representation or trust the notebook. <br />On GitHub, the HTML representation is unable to render, please try loading this page with nbviewer.org.</b></div><div class=\"sk-container\" hidden><div class=\"sk-item\"><div class=\"sk-estimator sk-toggleable\"><input class=\"sk-toggleable__control sk-hidden--visually\" id=\"sk-estimator-id-17\" type=\"checkbox\" checked><label for=\"sk-estimator-id-17\" class=\"sk-toggleable__label sk-toggleable__label-arrow\">DecisionTreeRegressor</label><div class=\"sk-toggleable__content\"><pre>DecisionTreeRegressor(random_state=42)</pre></div></div></div></div></div>"
      ],
      "text/plain": [
       "DecisionTreeRegressor(random_state=42)"
      ]
     },
     "execution_count": 75,
     "metadata": {},
     "output_type": "execute_result"
    }
   ],
   "source": [
    "%%time\n",
    "training_model.fit(X_train, y_train)"
   ]
  },
  {
   "cell_type": "code",
   "execution_count": 76,
   "id": "8ad50ba1",
   "metadata": {
    "execution": {
     "iopub.execute_input": "2025-08-07T16:12:51.194234Z",
     "iopub.status.busy": "2025-08-07T16:12:51.193902Z",
     "iopub.status.idle": "2025-08-07T16:12:51.201131Z",
     "shell.execute_reply": "2025-08-07T16:12:51.200147Z"
    },
    "papermill": {
     "duration": 0.03443,
     "end_time": "2025-08-07T16:12:51.202862",
     "exception": false,
     "start_time": "2025-08-07T16:12:51.168432",
     "status": "completed"
    },
    "tags": []
   },
   "outputs": [
    {
     "data": {
      "text/plain": [
       "array([  0.  , 111.68,   0.  , ..., 208.26,   0.  ,   0.  ])"
      ]
     },
     "execution_count": 76,
     "metadata": {},
     "output_type": "execute_result"
    }
   ],
   "source": [
    "y_pred = training_model.predict(X_test)\n",
    "y_pred"
   ]
  },
  {
   "cell_type": "code",
   "execution_count": 77,
   "id": "e13f8fef",
   "metadata": {
    "execution": {
     "iopub.execute_input": "2025-08-07T16:12:51.253140Z",
     "iopub.status.busy": "2025-08-07T16:12:51.252837Z",
     "iopub.status.idle": "2025-08-07T16:12:51.259450Z",
     "shell.execute_reply": "2025-08-07T16:12:51.258657Z"
    },
    "papermill": {
     "duration": 0.033119,
     "end_time": "2025-08-07T16:12:51.260728",
     "exception": false,
     "start_time": "2025-08-07T16:12:51.227609",
     "status": "completed"
    },
    "tags": []
   },
   "outputs": [
    {
     "data": {
      "text/plain": [
       "5158       0.00\n",
       "3831     105.26\n",
       "5117       0.00\n",
       "6326     758.39\n",
       "11359    135.87\n",
       "          ...  \n",
       "10290     74.58\n",
       "13995      0.00\n",
       "9665     241.81\n",
       "2276       0.00\n",
       "4174       0.00\n",
       "Name: SolarRadiation, Length: 2924, dtype: float64"
      ]
     },
     "execution_count": 77,
     "metadata": {},
     "output_type": "execute_result"
    }
   ],
   "source": [
    "y_test"
   ]
  },
  {
   "cell_type": "code",
   "execution_count": 78,
   "id": "8512ec2a",
   "metadata": {
    "execution": {
     "iopub.execute_input": "2025-08-07T16:12:51.311294Z",
     "iopub.status.busy": "2025-08-07T16:12:51.310981Z",
     "iopub.status.idle": "2025-08-07T16:12:51.318409Z",
     "shell.execute_reply": "2025-08-07T16:12:51.317428Z"
    },
    "papermill": {
     "duration": 0.034428,
     "end_time": "2025-08-07T16:12:51.320019",
     "exception": false,
     "start_time": "2025-08-07T16:12:51.285591",
     "status": "completed"
    },
    "tags": []
   },
   "outputs": [],
   "source": [
    "mse = mean_squared_error(y_test, y_pred)\n",
    "mae = mean_absolute_error(y_test, y_pred)\n",
    "r2 = r2_score(y_test, y_pred)\n",
    "rmse = math.sqrt(mse)"
   ]
  },
  {
   "cell_type": "code",
   "execution_count": 79,
   "id": "0044d3ce",
   "metadata": {
    "execution": {
     "iopub.execute_input": "2025-08-07T16:12:51.370911Z",
     "iopub.status.busy": "2025-08-07T16:12:51.370214Z",
     "iopub.status.idle": "2025-08-07T16:12:51.375031Z",
     "shell.execute_reply": "2025-08-07T16:12:51.374186Z"
    },
    "papermill": {
     "duration": 0.031432,
     "end_time": "2025-08-07T16:12:51.376323",
     "exception": false,
     "start_time": "2025-08-07T16:12:51.344891",
     "status": "completed"
    },
    "tags": []
   },
   "outputs": [
    {
     "name": "stdout",
     "output_type": "stream",
     "text": [
      "MSE Score: 370.42732226402194\n",
      "MAE Score: 10.37156292749658\n",
      "R2 Score: 0.996060898179684\n",
      "RMSE Score: 19.24648856971115\n"
     ]
    }
   ],
   "source": [
    "print(\"MSE Score:\", mse)\n",
    "print(\"MAE Score:\", mae)\n",
    "print(\"R2 Score:\", r2)\n",
    "print(\"RMSE Score:\", rmse)"
   ]
  },
  {
   "cell_type": "code",
   "execution_count": 80,
   "id": "ff5c67d0",
   "metadata": {
    "execution": {
     "iopub.execute_input": "2025-08-07T16:12:51.426225Z",
     "iopub.status.busy": "2025-08-07T16:12:51.425909Z",
     "iopub.status.idle": "2025-08-07T16:12:51.439084Z",
     "shell.execute_reply": "2025-08-07T16:12:51.438245Z"
    },
    "papermill": {
     "duration": 0.039679,
     "end_time": "2025-08-07T16:12:51.440550",
     "exception": false,
     "start_time": "2025-08-07T16:12:51.400871",
     "status": "completed"
    },
    "tags": []
   },
   "outputs": [
    {
     "name": "stdout",
     "output_type": "stream",
     "text": [
      "✅ Regression model improved with better performance!\n",
      "   MSE: 374.439417 → 370.427322 (lower is better)\n",
      "   R²:  0.996018 → 0.996061 (higher is better)\n",
      "   Features: 27 → 22\n",
      "💾 Registry updated: Model_Training_History/History_Regression.csv\n"
     ]
    }
   ],
   "source": [
    "regression_params = {\n",
    "    'model_name': model_name_for_saving,\n",
    "    'scaler_name': \"MinMaxScaler\",\n",
    "    'features_list': feature_columns_for_saving,\n",
    "    'target_column': target_name_for_saving,\n",
    "    'mse': mse,\n",
    "    'mae': mae,\n",
    "    'rmse': rmse,\n",
    "    'r2': r2,\n",
    "    'parameters': json.dumps(training_model.get_params())\n",
    "}\n",
    "save_model_performance_if_better('regression', regression_params)"
   ]
  },
  {
   "cell_type": "markdown",
   "id": "1ad637f4",
   "metadata": {
    "papermill": {
     "duration": 0.024136,
     "end_time": "2025-08-07T16:12:51.489366",
     "exception": false,
     "start_time": "2025-08-07T16:12:51.465230",
     "status": "completed"
    },
    "tags": []
   },
   "source": [
    "#### Tuning with Grid Search"
   ]
  },
  {
   "cell_type": "code",
   "execution_count": 81,
   "id": "920a1500",
   "metadata": {
    "execution": {
     "iopub.execute_input": "2025-08-07T16:12:51.539445Z",
     "iopub.status.busy": "2025-08-07T16:12:51.538847Z",
     "iopub.status.idle": "2025-08-07T16:12:51.543047Z",
     "shell.execute_reply": "2025-08-07T16:12:51.542229Z"
    },
    "papermill": {
     "duration": 0.030821,
     "end_time": "2025-08-07T16:12:51.544436",
     "exception": false,
     "start_time": "2025-08-07T16:12:51.513615",
     "status": "completed"
    },
    "tags": []
   },
   "outputs": [],
   "source": [
    "grid_search = GridSearchCV(\n",
    "    DecisionTreeRegressor(random_state=42), \n",
    "    grid_param, \n",
    "    cv=5, \n",
    "    scoring='neg_mean_squared_error', \n",
    "    n_jobs=-1, # allow parallel processing, you cant use your own laptop while this runs\n",
    "    verbose=1\n",
    ")"
   ]
  },
  {
   "cell_type": "code",
   "execution_count": 82,
   "id": "757512da",
   "metadata": {
    "execution": {
     "iopub.execute_input": "2025-08-07T16:12:51.595412Z",
     "iopub.status.busy": "2025-08-07T16:12:51.595131Z",
     "iopub.status.idle": "2025-08-07T16:19:06.551471Z",
     "shell.execute_reply": "2025-08-07T16:19:06.550586Z"
    },
    "papermill": {
     "duration": 375.007962,
     "end_time": "2025-08-07T16:19:06.577220",
     "exception": false,
     "start_time": "2025-08-07T16:12:51.569258",
     "status": "completed"
    },
    "tags": []
   },
   "outputs": [
    {
     "name": "stdout",
     "output_type": "stream",
     "text": [
      "Starting hyperparameter tuning...\n",
      "Fitting 5 folds for each of 5760 candidates, totalling 28800 fits\n",
      "CPU times: user 17.4 s, sys: 2.31 s, total: 19.8 s\n",
      "Wall time: 6min 14s\n"
     ]
    },
    {
     "data": {
      "text/html": [
       "<style>#sk-container-id-12 {color: black;background-color: white;}#sk-container-id-12 pre{padding: 0;}#sk-container-id-12 div.sk-toggleable {background-color: white;}#sk-container-id-12 label.sk-toggleable__label {cursor: pointer;display: block;width: 100%;margin-bottom: 0;padding: 0.3em;box-sizing: border-box;text-align: center;}#sk-container-id-12 label.sk-toggleable__label-arrow:before {content: \"▸\";float: left;margin-right: 0.25em;color: #696969;}#sk-container-id-12 label.sk-toggleable__label-arrow:hover:before {color: black;}#sk-container-id-12 div.sk-estimator:hover label.sk-toggleable__label-arrow:before {color: black;}#sk-container-id-12 div.sk-toggleable__content {max-height: 0;max-width: 0;overflow: hidden;text-align: left;background-color: #f0f8ff;}#sk-container-id-12 div.sk-toggleable__content pre {margin: 0.2em;color: black;border-radius: 0.25em;background-color: #f0f8ff;}#sk-container-id-12 input.sk-toggleable__control:checked~div.sk-toggleable__content {max-height: 200px;max-width: 100%;overflow: auto;}#sk-container-id-12 input.sk-toggleable__control:checked~label.sk-toggleable__label-arrow:before {content: \"▾\";}#sk-container-id-12 div.sk-estimator input.sk-toggleable__control:checked~label.sk-toggleable__label {background-color: #d4ebff;}#sk-container-id-12 div.sk-label input.sk-toggleable__control:checked~label.sk-toggleable__label {background-color: #d4ebff;}#sk-container-id-12 input.sk-hidden--visually {border: 0;clip: rect(1px 1px 1px 1px);clip: rect(1px, 1px, 1px, 1px);height: 1px;margin: -1px;overflow: hidden;padding: 0;position: absolute;width: 1px;}#sk-container-id-12 div.sk-estimator {font-family: monospace;background-color: #f0f8ff;border: 1px dotted black;border-radius: 0.25em;box-sizing: border-box;margin-bottom: 0.5em;}#sk-container-id-12 div.sk-estimator:hover {background-color: #d4ebff;}#sk-container-id-12 div.sk-parallel-item::after {content: \"\";width: 100%;border-bottom: 1px solid gray;flex-grow: 1;}#sk-container-id-12 div.sk-label:hover label.sk-toggleable__label {background-color: #d4ebff;}#sk-container-id-12 div.sk-serial::before {content: \"\";position: absolute;border-left: 1px solid gray;box-sizing: border-box;top: 0;bottom: 0;left: 50%;z-index: 0;}#sk-container-id-12 div.sk-serial {display: flex;flex-direction: column;align-items: center;background-color: white;padding-right: 0.2em;padding-left: 0.2em;position: relative;}#sk-container-id-12 div.sk-item {position: relative;z-index: 1;}#sk-container-id-12 div.sk-parallel {display: flex;align-items: stretch;justify-content: center;background-color: white;position: relative;}#sk-container-id-12 div.sk-item::before, #sk-container-id-12 div.sk-parallel-item::before {content: \"\";position: absolute;border-left: 1px solid gray;box-sizing: border-box;top: 0;bottom: 0;left: 50%;z-index: -1;}#sk-container-id-12 div.sk-parallel-item {display: flex;flex-direction: column;z-index: 1;position: relative;background-color: white;}#sk-container-id-12 div.sk-parallel-item:first-child::after {align-self: flex-end;width: 50%;}#sk-container-id-12 div.sk-parallel-item:last-child::after {align-self: flex-start;width: 50%;}#sk-container-id-12 div.sk-parallel-item:only-child::after {width: 0;}#sk-container-id-12 div.sk-dashed-wrapped {border: 1px dashed gray;margin: 0 0.4em 0.5em 0.4em;box-sizing: border-box;padding-bottom: 0.4em;background-color: white;}#sk-container-id-12 div.sk-label label {font-family: monospace;font-weight: bold;display: inline-block;line-height: 1.2em;}#sk-container-id-12 div.sk-label-container {text-align: center;}#sk-container-id-12 div.sk-container {/* jupyter's `normalize.less` sets `[hidden] { display: none; }` but bootstrap.min.css set `[hidden] { display: none !important; }` so we also need the `!important` here to be able to override the default hidden behavior on the sphinx rendered scikit-learn.org. See: https://github.com/scikit-learn/scikit-learn/issues/21755 */display: inline-block !important;position: relative;}#sk-container-id-12 div.sk-text-repr-fallback {display: none;}</style><div id=\"sk-container-id-12\" class=\"sk-top-container\"><div class=\"sk-text-repr-fallback\"><pre>GridSearchCV(cv=5, estimator=DecisionTreeRegressor(random_state=42), n_jobs=-1,\n",
       "             param_grid={&#x27;ccp_alpha&#x27;: [0.0, 0.01, 0.02],\n",
       "                         &#x27;criterion&#x27;: [&#x27;squared_error&#x27;, &#x27;friedman_mse&#x27;],\n",
       "                         &#x27;max_depth&#x27;: [None, 5, 10, 15, 25],\n",
       "                         &#x27;max_features&#x27;: [&#x27;sqrt&#x27;, &#x27;log2&#x27;, None, 0.5],\n",
       "                         &#x27;min_impurity_decrease&#x27;: [0.0, 0.01, 0.02],\n",
       "                         &#x27;min_samples_leaf&#x27;: [1, 2, 4, 8],\n",
       "                         &#x27;min_samples_split&#x27;: [2, 5, 10, 20]},\n",
       "             scoring=&#x27;neg_mean_squared_error&#x27;, verbose=1)</pre><b>In a Jupyter environment, please rerun this cell to show the HTML representation or trust the notebook. <br />On GitHub, the HTML representation is unable to render, please try loading this page with nbviewer.org.</b></div><div class=\"sk-container\" hidden><div class=\"sk-item sk-dashed-wrapped\"><div class=\"sk-label-container\"><div class=\"sk-label sk-toggleable\"><input class=\"sk-toggleable__control sk-hidden--visually\" id=\"sk-estimator-id-18\" type=\"checkbox\" ><label for=\"sk-estimator-id-18\" class=\"sk-toggleable__label sk-toggleable__label-arrow\">GridSearchCV</label><div class=\"sk-toggleable__content\"><pre>GridSearchCV(cv=5, estimator=DecisionTreeRegressor(random_state=42), n_jobs=-1,\n",
       "             param_grid={&#x27;ccp_alpha&#x27;: [0.0, 0.01, 0.02],\n",
       "                         &#x27;criterion&#x27;: [&#x27;squared_error&#x27;, &#x27;friedman_mse&#x27;],\n",
       "                         &#x27;max_depth&#x27;: [None, 5, 10, 15, 25],\n",
       "                         &#x27;max_features&#x27;: [&#x27;sqrt&#x27;, &#x27;log2&#x27;, None, 0.5],\n",
       "                         &#x27;min_impurity_decrease&#x27;: [0.0, 0.01, 0.02],\n",
       "                         &#x27;min_samples_leaf&#x27;: [1, 2, 4, 8],\n",
       "                         &#x27;min_samples_split&#x27;: [2, 5, 10, 20]},\n",
       "             scoring=&#x27;neg_mean_squared_error&#x27;, verbose=1)</pre></div></div></div><div class=\"sk-parallel\"><div class=\"sk-parallel-item\"><div class=\"sk-item\"><div class=\"sk-label-container\"><div class=\"sk-label sk-toggleable\"><input class=\"sk-toggleable__control sk-hidden--visually\" id=\"sk-estimator-id-19\" type=\"checkbox\" ><label for=\"sk-estimator-id-19\" class=\"sk-toggleable__label sk-toggleable__label-arrow\">estimator: DecisionTreeRegressor</label><div class=\"sk-toggleable__content\"><pre>DecisionTreeRegressor(random_state=42)</pre></div></div></div><div class=\"sk-serial\"><div class=\"sk-item\"><div class=\"sk-estimator sk-toggleable\"><input class=\"sk-toggleable__control sk-hidden--visually\" id=\"sk-estimator-id-20\" type=\"checkbox\" ><label for=\"sk-estimator-id-20\" class=\"sk-toggleable__label sk-toggleable__label-arrow\">DecisionTreeRegressor</label><div class=\"sk-toggleable__content\"><pre>DecisionTreeRegressor(random_state=42)</pre></div></div></div></div></div></div></div></div></div></div>"
      ],
      "text/plain": [
       "GridSearchCV(cv=5, estimator=DecisionTreeRegressor(random_state=42), n_jobs=-1,\n",
       "             param_grid={'ccp_alpha': [0.0, 0.01, 0.02],\n",
       "                         'criterion': ['squared_error', 'friedman_mse'],\n",
       "                         'max_depth': [None, 5, 10, 15, 25],\n",
       "                         'max_features': ['sqrt', 'log2', None, 0.5],\n",
       "                         'min_impurity_decrease': [0.0, 0.01, 0.02],\n",
       "                         'min_samples_leaf': [1, 2, 4, 8],\n",
       "                         'min_samples_split': [2, 5, 10, 20]},\n",
       "             scoring='neg_mean_squared_error', verbose=1)"
      ]
     },
     "execution_count": 82,
     "metadata": {},
     "output_type": "execute_result"
    }
   ],
   "source": [
    "%%time\n",
    "print(\"Starting hyperparameter tuning...\")\n",
    "grid_search.fit(X_train, y_train)"
   ]
  },
  {
   "cell_type": "code",
   "execution_count": 83,
   "id": "fd0fb039",
   "metadata": {
    "execution": {
     "iopub.execute_input": "2025-08-07T16:19:06.628562Z",
     "iopub.status.busy": "2025-08-07T16:19:06.628253Z",
     "iopub.status.idle": "2025-08-07T16:19:06.633331Z",
     "shell.execute_reply": "2025-08-07T16:19:06.632489Z"
    },
    "papermill": {
     "duration": 0.03201,
     "end_time": "2025-08-07T16:19:06.634594",
     "exception": false,
     "start_time": "2025-08-07T16:19:06.602584",
     "status": "completed"
    },
    "tags": []
   },
   "outputs": [
    {
     "name": "stdout",
     "output_type": "stream",
     "text": [
      "TUNING RESULTS\n",
      "==================================================\n",
      "Best Parameters: {'ccp_alpha': 0.02, 'criterion': 'friedman_mse', 'max_depth': 10, 'max_features': None, 'min_impurity_decrease': 0.0, 'min_samples_leaf': 8, 'min_samples_split': 20}\n",
      "Best Cross-Validation Score (Negative MSE): -243.16137966223368\n",
      "Best Cross-Validation Score (MSE): 243.16137966223368\n",
      "Best Cross-Validation Score (RMSE): 15.593632664079069\n"
     ]
    }
   ],
   "source": [
    "print(\"TUNING RESULTS\")\n",
    "print(\"=\"*50)\n",
    "print(\"Best Parameters:\", grid_search.best_params_)\n",
    "print(\"Best Cross-Validation Score (Negative MSE):\", grid_search.best_score_)\n",
    "print(\"Best Cross-Validation Score (MSE):\", -grid_search.best_score_)\n",
    "print(\"Best Cross-Validation Score (RMSE):\", math.sqrt(-grid_search.best_score_))"
   ]
  },
  {
   "cell_type": "code",
   "execution_count": 84,
   "id": "4a3c49d1",
   "metadata": {
    "execution": {
     "iopub.execute_input": "2025-08-07T16:19:06.755737Z",
     "iopub.status.busy": "2025-08-07T16:19:06.754812Z",
     "iopub.status.idle": "2025-08-07T16:19:06.759921Z",
     "shell.execute_reply": "2025-08-07T16:19:06.759001Z"
    },
    "papermill": {
     "duration": 0.0331,
     "end_time": "2025-08-07T16:19:06.761372",
     "exception": false,
     "start_time": "2025-08-07T16:19:06.728272",
     "status": "completed"
    },
    "tags": []
   },
   "outputs": [],
   "source": [
    "grid_search_best_model = grid_search.best_estimator_\n",
    "y_pred = grid_search_best_model.predict(X_test)"
   ]
  },
  {
   "cell_type": "code",
   "execution_count": 85,
   "id": "6a8971a2",
   "metadata": {
    "execution": {
     "iopub.execute_input": "2025-08-07T16:19:06.813472Z",
     "iopub.status.busy": "2025-08-07T16:19:06.813202Z",
     "iopub.status.idle": "2025-08-07T16:19:06.820093Z",
     "shell.execute_reply": "2025-08-07T16:19:06.819223Z"
    },
    "papermill": {
     "duration": 0.034639,
     "end_time": "2025-08-07T16:19:06.821518",
     "exception": false,
     "start_time": "2025-08-07T16:19:06.786879",
     "status": "completed"
    },
    "tags": []
   },
   "outputs": [],
   "source": [
    "mse_grid_search = mean_squared_error(y_test, y_pred)\n",
    "mae_grid_search = mean_absolute_error(y_test, y_pred)\n",
    "r2_grid_search = r2_score(y_test, y_pred)\n",
    "rmse_grid_search = math.sqrt(mse_grid_search)"
   ]
  },
  {
   "cell_type": "code",
   "execution_count": 86,
   "id": "d9219c7e",
   "metadata": {
    "execution": {
     "iopub.execute_input": "2025-08-07T16:19:06.874657Z",
     "iopub.status.busy": "2025-08-07T16:19:06.874326Z",
     "iopub.status.idle": "2025-08-07T16:19:06.879444Z",
     "shell.execute_reply": "2025-08-07T16:19:06.878577Z"
    },
    "papermill": {
     "duration": 0.032959,
     "end_time": "2025-08-07T16:19:06.880754",
     "exception": false,
     "start_time": "2025-08-07T16:19:06.847795",
     "status": "completed"
    },
    "tags": []
   },
   "outputs": [
    {
     "name": "stdout",
     "output_type": "stream",
     "text": [
      "MSE Score: 257.3301523665455\n",
      "MAE Score: 9.067973798822218\n",
      "R2 Score: 0.9972635666683173\n",
      "RMSE Score: 16.041513406363674\n"
     ]
    }
   ],
   "source": [
    "print(\"MSE Score:\", mse_grid_search)\n",
    "print(\"MAE Score:\", mae_grid_search)\n",
    "print(\"R2 Score:\", r2_grid_search)\n",
    "print(\"RMSE Score:\", rmse_grid_search)"
   ]
  },
  {
   "cell_type": "code",
   "execution_count": 87,
   "id": "56f33fb6",
   "metadata": {
    "execution": {
     "iopub.execute_input": "2025-08-07T16:19:06.932472Z",
     "iopub.status.busy": "2025-08-07T16:19:06.932213Z",
     "iopub.status.idle": "2025-08-07T16:19:06.945771Z",
     "shell.execute_reply": "2025-08-07T16:19:06.944810Z"
    },
    "papermill": {
     "duration": 0.041092,
     "end_time": "2025-08-07T16:19:06.947266",
     "exception": false,
     "start_time": "2025-08-07T16:19:06.906174",
     "status": "completed"
    },
    "tags": []
   },
   "outputs": [
    {
     "name": "stdout",
     "output_type": "stream",
     "text": [
      "✅ Regression model improved with same performance but fewer features!\n",
      "   MSE: 255.107647 ≈ 257.330152 (similar)\n",
      "   R²:  0.997287 ≈ 0.997264 (similar)\n",
      "   Features: 27 → 22 (🎯 5 fewer features!)\n",
      "💾 Registry updated: Model_Training_History/History_Regression.csv\n"
     ]
    }
   ],
   "source": [
    "regression_params = {\n",
    "    'model_name': model_name_for_saving + \" Tuned\",\n",
    "    'scaler_name': \"MinMaxScaler\",\n",
    "    'features_list': feature_columns_for_saving,\n",
    "    'target_column': target_name_for_saving,\n",
    "    'mse': mse_grid_search,\n",
    "    'mae': mae_grid_search,\n",
    "    'rmse': rmse_grid_search,\n",
    "    'r2': r2_grid_search,\n",
    "    'parameters' : json.dumps({\n",
    "        \"best_params\": grid_search.best_params_,\n",
    "        \"cv_score\": grid_search.best_score_,\n",
    "        \"all_params\": grid_search_best_model.get_params()\n",
    "    })\n",
    "}\n",
    "save_model_performance_if_better('regression', regression_params)"
   ]
  },
  {
   "cell_type": "markdown",
   "id": "8be6b344",
   "metadata": {
    "papermill": {
     "duration": 0.025545,
     "end_time": "2025-08-07T16:19:06.999087",
     "exception": false,
     "start_time": "2025-08-07T16:19:06.973542",
     "status": "completed"
    },
    "tags": []
   },
   "source": [
    "### Standard Scaler"
   ]
  },
  {
   "cell_type": "code",
   "execution_count": 88,
   "id": "4635fc6a",
   "metadata": {
    "execution": {
     "iopub.execute_input": "2025-08-07T16:19:07.051541Z",
     "iopub.status.busy": "2025-08-07T16:19:07.051255Z",
     "iopub.status.idle": "2025-08-07T16:19:07.068872Z",
     "shell.execute_reply": "2025-08-07T16:19:07.068095Z"
    },
    "papermill": {
     "duration": 0.045353,
     "end_time": "2025-08-07T16:19:07.070404",
     "exception": false,
     "start_time": "2025-08-07T16:19:07.025051",
     "status": "completed"
    },
    "tags": []
   },
   "outputs": [],
   "source": [
    "scaler = StandardScaler()\n",
    "X_train = scaler.fit_transform(X_train_raw)\n",
    "X_test = scaler.transform(X_test_raw)"
   ]
  },
  {
   "cell_type": "code",
   "execution_count": 89,
   "id": "48d94766",
   "metadata": {
    "execution": {
     "iopub.execute_input": "2025-08-07T16:19:07.123584Z",
     "iopub.status.busy": "2025-08-07T16:19:07.123323Z",
     "iopub.status.idle": "2025-08-07T16:19:07.129194Z",
     "shell.execute_reply": "2025-08-07T16:19:07.128322Z"
    },
    "papermill": {
     "duration": 0.034389,
     "end_time": "2025-08-07T16:19:07.130487",
     "exception": false,
     "start_time": "2025-08-07T16:19:07.096098",
     "status": "completed"
    },
    "tags": []
   },
   "outputs": [
    {
     "data": {
      "text/plain": [
       "array([[ 1.01884116, -0.21938027, -0.38875095, ..., -0.12088825,\n",
       "         1.52387472,  1.09644529],\n",
       "       [ 1.64376461,  0.64624572,  2.57234098, ..., -1.52028666,\n",
       "         0.24645772, -0.43343649],\n",
       "       [-1.16839092, -1.66209024, -0.38875095, ..., -1.52028666,\n",
       "        -0.73592134, -0.43343649],\n",
       "       ...,\n",
       "       [ 0.70637943, -0.21938027, -0.38875095, ...,  0.96917545,\n",
       "         0.25618424, -0.30383078],\n",
       "       [-1.48085264,  1.36760071, -0.38875095, ..., -1.52028666,\n",
       "        -0.73592134, -0.43343649],\n",
       "       [ 1.01884116, -0.50792226, -0.38875095, ...,  1.01722469,\n",
       "         0.20430944,  0.85928021]])"
      ]
     },
     "execution_count": 89,
     "metadata": {},
     "output_type": "execute_result"
    }
   ],
   "source": [
    "X_train"
   ]
  },
  {
   "cell_type": "code",
   "execution_count": 90,
   "id": "8856c1e9",
   "metadata": {
    "execution": {
     "iopub.execute_input": "2025-08-07T16:19:07.183418Z",
     "iopub.status.busy": "2025-08-07T16:19:07.183146Z",
     "iopub.status.idle": "2025-08-07T16:19:07.188799Z",
     "shell.execute_reply": "2025-08-07T16:19:07.188090Z"
    },
    "papermill": {
     "duration": 0.033749,
     "end_time": "2025-08-07T16:19:07.190065",
     "exception": false,
     "start_time": "2025-08-07T16:19:07.156316",
     "status": "completed"
    },
    "tags": []
   },
   "outputs": [
    {
     "data": {
      "text/plain": [
       "array([[ 0.70637943,  1.51187171, -0.38875095, ...,  1.02148941,\n",
       "        -0.73592134, -0.43343649],\n",
       "       [ 0.08145598,  0.50197472,  2.57234098, ...,  1.23102956,\n",
       "        -0.49600038, -0.43343649],\n",
       "       [ 0.70637943, -0.94073525, -0.38875095, ...,  1.30438283,\n",
       "        -0.73592134, -0.43343649],\n",
       "       ...,\n",
       "       [-1.16839092,  0.79051672,  2.57234098, ..., -1.51659057,\n",
       "        -0.07775979, -0.43343649],\n",
       "       [-0.54346747,  1.22332971, -0.38875095, ..., -1.52028666,\n",
       "        -0.73592134,  0.71764924],\n",
       "       [ 0.08145598,  1.51187171, -0.38875095, ..., -0.05293696,\n",
       "        -0.73592134, -0.43343649]])"
      ]
     },
     "execution_count": 90,
     "metadata": {},
     "output_type": "execute_result"
    }
   ],
   "source": [
    "X_test"
   ]
  },
  {
   "cell_type": "markdown",
   "id": "047bb40d",
   "metadata": {
    "papermill": {
     "duration": 0.026155,
     "end_time": "2025-08-07T16:19:07.243125",
     "exception": false,
     "start_time": "2025-08-07T16:19:07.216970",
     "status": "completed"
    },
    "tags": []
   },
   "source": [
    "#### Default Parameters"
   ]
  },
  {
   "cell_type": "code",
   "execution_count": 91,
   "id": "368c35c7",
   "metadata": {
    "execution": {
     "iopub.execute_input": "2025-08-07T16:19:07.296563Z",
     "iopub.status.busy": "2025-08-07T16:19:07.295905Z",
     "iopub.status.idle": "2025-08-07T16:19:07.301736Z",
     "shell.execute_reply": "2025-08-07T16:19:07.300981Z"
    },
    "papermill": {
     "duration": 0.034158,
     "end_time": "2025-08-07T16:19:07.303093",
     "exception": false,
     "start_time": "2025-08-07T16:19:07.268935",
     "status": "completed"
    },
    "tags": []
   },
   "outputs": [
    {
     "data": {
      "text/html": [
       "<style>#sk-container-id-13 {color: black;background-color: white;}#sk-container-id-13 pre{padding: 0;}#sk-container-id-13 div.sk-toggleable {background-color: white;}#sk-container-id-13 label.sk-toggleable__label {cursor: pointer;display: block;width: 100%;margin-bottom: 0;padding: 0.3em;box-sizing: border-box;text-align: center;}#sk-container-id-13 label.sk-toggleable__label-arrow:before {content: \"▸\";float: left;margin-right: 0.25em;color: #696969;}#sk-container-id-13 label.sk-toggleable__label-arrow:hover:before {color: black;}#sk-container-id-13 div.sk-estimator:hover label.sk-toggleable__label-arrow:before {color: black;}#sk-container-id-13 div.sk-toggleable__content {max-height: 0;max-width: 0;overflow: hidden;text-align: left;background-color: #f0f8ff;}#sk-container-id-13 div.sk-toggleable__content pre {margin: 0.2em;color: black;border-radius: 0.25em;background-color: #f0f8ff;}#sk-container-id-13 input.sk-toggleable__control:checked~div.sk-toggleable__content {max-height: 200px;max-width: 100%;overflow: auto;}#sk-container-id-13 input.sk-toggleable__control:checked~label.sk-toggleable__label-arrow:before {content: \"▾\";}#sk-container-id-13 div.sk-estimator input.sk-toggleable__control:checked~label.sk-toggleable__label {background-color: #d4ebff;}#sk-container-id-13 div.sk-label input.sk-toggleable__control:checked~label.sk-toggleable__label {background-color: #d4ebff;}#sk-container-id-13 input.sk-hidden--visually {border: 0;clip: rect(1px 1px 1px 1px);clip: rect(1px, 1px, 1px, 1px);height: 1px;margin: -1px;overflow: hidden;padding: 0;position: absolute;width: 1px;}#sk-container-id-13 div.sk-estimator {font-family: monospace;background-color: #f0f8ff;border: 1px dotted black;border-radius: 0.25em;box-sizing: border-box;margin-bottom: 0.5em;}#sk-container-id-13 div.sk-estimator:hover {background-color: #d4ebff;}#sk-container-id-13 div.sk-parallel-item::after {content: \"\";width: 100%;border-bottom: 1px solid gray;flex-grow: 1;}#sk-container-id-13 div.sk-label:hover label.sk-toggleable__label {background-color: #d4ebff;}#sk-container-id-13 div.sk-serial::before {content: \"\";position: absolute;border-left: 1px solid gray;box-sizing: border-box;top: 0;bottom: 0;left: 50%;z-index: 0;}#sk-container-id-13 div.sk-serial {display: flex;flex-direction: column;align-items: center;background-color: white;padding-right: 0.2em;padding-left: 0.2em;position: relative;}#sk-container-id-13 div.sk-item {position: relative;z-index: 1;}#sk-container-id-13 div.sk-parallel {display: flex;align-items: stretch;justify-content: center;background-color: white;position: relative;}#sk-container-id-13 div.sk-item::before, #sk-container-id-13 div.sk-parallel-item::before {content: \"\";position: absolute;border-left: 1px solid gray;box-sizing: border-box;top: 0;bottom: 0;left: 50%;z-index: -1;}#sk-container-id-13 div.sk-parallel-item {display: flex;flex-direction: column;z-index: 1;position: relative;background-color: white;}#sk-container-id-13 div.sk-parallel-item:first-child::after {align-self: flex-end;width: 50%;}#sk-container-id-13 div.sk-parallel-item:last-child::after {align-self: flex-start;width: 50%;}#sk-container-id-13 div.sk-parallel-item:only-child::after {width: 0;}#sk-container-id-13 div.sk-dashed-wrapped {border: 1px dashed gray;margin: 0 0.4em 0.5em 0.4em;box-sizing: border-box;padding-bottom: 0.4em;background-color: white;}#sk-container-id-13 div.sk-label label {font-family: monospace;font-weight: bold;display: inline-block;line-height: 1.2em;}#sk-container-id-13 div.sk-label-container {text-align: center;}#sk-container-id-13 div.sk-container {/* jupyter's `normalize.less` sets `[hidden] { display: none; }` but bootstrap.min.css set `[hidden] { display: none !important; }` so we also need the `!important` here to be able to override the default hidden behavior on the sphinx rendered scikit-learn.org. See: https://github.com/scikit-learn/scikit-learn/issues/21755 */display: inline-block !important;position: relative;}#sk-container-id-13 div.sk-text-repr-fallback {display: none;}</style><div id=\"sk-container-id-13\" class=\"sk-top-container\"><div class=\"sk-text-repr-fallback\"><pre>DecisionTreeRegressor(random_state=42)</pre><b>In a Jupyter environment, please rerun this cell to show the HTML representation or trust the notebook. <br />On GitHub, the HTML representation is unable to render, please try loading this page with nbviewer.org.</b></div><div class=\"sk-container\" hidden><div class=\"sk-item\"><div class=\"sk-estimator sk-toggleable\"><input class=\"sk-toggleable__control sk-hidden--visually\" id=\"sk-estimator-id-21\" type=\"checkbox\" checked><label for=\"sk-estimator-id-21\" class=\"sk-toggleable__label sk-toggleable__label-arrow\">DecisionTreeRegressor</label><div class=\"sk-toggleable__content\"><pre>DecisionTreeRegressor(random_state=42)</pre></div></div></div></div></div>"
      ],
      "text/plain": [
       "DecisionTreeRegressor(random_state=42)"
      ]
     },
     "execution_count": 91,
     "metadata": {},
     "output_type": "execute_result"
    }
   ],
   "source": [
    "training_model = DecisionTreeRegressor(random_state=42)\n",
    "training_model"
   ]
  },
  {
   "cell_type": "code",
   "execution_count": 92,
   "id": "eae9947a",
   "metadata": {
    "execution": {
     "iopub.execute_input": "2025-08-07T16:19:07.356446Z",
     "iopub.status.busy": "2025-08-07T16:19:07.356138Z",
     "iopub.status.idle": "2025-08-07T16:19:07.468456Z",
     "shell.execute_reply": "2025-08-07T16:19:07.467610Z"
    },
    "papermill": {
     "duration": 0.140149,
     "end_time": "2025-08-07T16:19:07.469901",
     "exception": false,
     "start_time": "2025-08-07T16:19:07.329752",
     "status": "completed"
    },
    "tags": []
   },
   "outputs": [
    {
     "name": "stdout",
     "output_type": "stream",
     "text": [
      "CPU times: user 106 ms, sys: 0 ns, total: 106 ms\n",
      "Wall time: 106 ms\n"
     ]
    },
    {
     "data": {
      "text/html": [
       "<style>#sk-container-id-14 {color: black;background-color: white;}#sk-container-id-14 pre{padding: 0;}#sk-container-id-14 div.sk-toggleable {background-color: white;}#sk-container-id-14 label.sk-toggleable__label {cursor: pointer;display: block;width: 100%;margin-bottom: 0;padding: 0.3em;box-sizing: border-box;text-align: center;}#sk-container-id-14 label.sk-toggleable__label-arrow:before {content: \"▸\";float: left;margin-right: 0.25em;color: #696969;}#sk-container-id-14 label.sk-toggleable__label-arrow:hover:before {color: black;}#sk-container-id-14 div.sk-estimator:hover label.sk-toggleable__label-arrow:before {color: black;}#sk-container-id-14 div.sk-toggleable__content {max-height: 0;max-width: 0;overflow: hidden;text-align: left;background-color: #f0f8ff;}#sk-container-id-14 div.sk-toggleable__content pre {margin: 0.2em;color: black;border-radius: 0.25em;background-color: #f0f8ff;}#sk-container-id-14 input.sk-toggleable__control:checked~div.sk-toggleable__content {max-height: 200px;max-width: 100%;overflow: auto;}#sk-container-id-14 input.sk-toggleable__control:checked~label.sk-toggleable__label-arrow:before {content: \"▾\";}#sk-container-id-14 div.sk-estimator input.sk-toggleable__control:checked~label.sk-toggleable__label {background-color: #d4ebff;}#sk-container-id-14 div.sk-label input.sk-toggleable__control:checked~label.sk-toggleable__label {background-color: #d4ebff;}#sk-container-id-14 input.sk-hidden--visually {border: 0;clip: rect(1px 1px 1px 1px);clip: rect(1px, 1px, 1px, 1px);height: 1px;margin: -1px;overflow: hidden;padding: 0;position: absolute;width: 1px;}#sk-container-id-14 div.sk-estimator {font-family: monospace;background-color: #f0f8ff;border: 1px dotted black;border-radius: 0.25em;box-sizing: border-box;margin-bottom: 0.5em;}#sk-container-id-14 div.sk-estimator:hover {background-color: #d4ebff;}#sk-container-id-14 div.sk-parallel-item::after {content: \"\";width: 100%;border-bottom: 1px solid gray;flex-grow: 1;}#sk-container-id-14 div.sk-label:hover label.sk-toggleable__label {background-color: #d4ebff;}#sk-container-id-14 div.sk-serial::before {content: \"\";position: absolute;border-left: 1px solid gray;box-sizing: border-box;top: 0;bottom: 0;left: 50%;z-index: 0;}#sk-container-id-14 div.sk-serial {display: flex;flex-direction: column;align-items: center;background-color: white;padding-right: 0.2em;padding-left: 0.2em;position: relative;}#sk-container-id-14 div.sk-item {position: relative;z-index: 1;}#sk-container-id-14 div.sk-parallel {display: flex;align-items: stretch;justify-content: center;background-color: white;position: relative;}#sk-container-id-14 div.sk-item::before, #sk-container-id-14 div.sk-parallel-item::before {content: \"\";position: absolute;border-left: 1px solid gray;box-sizing: border-box;top: 0;bottom: 0;left: 50%;z-index: -1;}#sk-container-id-14 div.sk-parallel-item {display: flex;flex-direction: column;z-index: 1;position: relative;background-color: white;}#sk-container-id-14 div.sk-parallel-item:first-child::after {align-self: flex-end;width: 50%;}#sk-container-id-14 div.sk-parallel-item:last-child::after {align-self: flex-start;width: 50%;}#sk-container-id-14 div.sk-parallel-item:only-child::after {width: 0;}#sk-container-id-14 div.sk-dashed-wrapped {border: 1px dashed gray;margin: 0 0.4em 0.5em 0.4em;box-sizing: border-box;padding-bottom: 0.4em;background-color: white;}#sk-container-id-14 div.sk-label label {font-family: monospace;font-weight: bold;display: inline-block;line-height: 1.2em;}#sk-container-id-14 div.sk-label-container {text-align: center;}#sk-container-id-14 div.sk-container {/* jupyter's `normalize.less` sets `[hidden] { display: none; }` but bootstrap.min.css set `[hidden] { display: none !important; }` so we also need the `!important` here to be able to override the default hidden behavior on the sphinx rendered scikit-learn.org. See: https://github.com/scikit-learn/scikit-learn/issues/21755 */display: inline-block !important;position: relative;}#sk-container-id-14 div.sk-text-repr-fallback {display: none;}</style><div id=\"sk-container-id-14\" class=\"sk-top-container\"><div class=\"sk-text-repr-fallback\"><pre>DecisionTreeRegressor(random_state=42)</pre><b>In a Jupyter environment, please rerun this cell to show the HTML representation or trust the notebook. <br />On GitHub, the HTML representation is unable to render, please try loading this page with nbviewer.org.</b></div><div class=\"sk-container\" hidden><div class=\"sk-item\"><div class=\"sk-estimator sk-toggleable\"><input class=\"sk-toggleable__control sk-hidden--visually\" id=\"sk-estimator-id-22\" type=\"checkbox\" checked><label for=\"sk-estimator-id-22\" class=\"sk-toggleable__label sk-toggleable__label-arrow\">DecisionTreeRegressor</label><div class=\"sk-toggleable__content\"><pre>DecisionTreeRegressor(random_state=42)</pre></div></div></div></div></div>"
      ],
      "text/plain": [
       "DecisionTreeRegressor(random_state=42)"
      ]
     },
     "execution_count": 92,
     "metadata": {},
     "output_type": "execute_result"
    }
   ],
   "source": [
    "%%time\n",
    "training_model.fit(X_train, y_train)"
   ]
  },
  {
   "cell_type": "code",
   "execution_count": 93,
   "id": "d1447ea0",
   "metadata": {
    "execution": {
     "iopub.execute_input": "2025-08-07T16:19:07.523474Z",
     "iopub.status.busy": "2025-08-07T16:19:07.523168Z",
     "iopub.status.idle": "2025-08-07T16:19:07.529824Z",
     "shell.execute_reply": "2025-08-07T16:19:07.528969Z"
    },
    "papermill": {
     "duration": 0.034964,
     "end_time": "2025-08-07T16:19:07.531168",
     "exception": false,
     "start_time": "2025-08-07T16:19:07.496204",
     "status": "completed"
    },
    "tags": []
   },
   "outputs": [
    {
     "data": {
      "text/plain": [
       "array([  0.  , 111.68,   0.  , ..., 208.26,   0.  ,   0.  ])"
      ]
     },
     "execution_count": 93,
     "metadata": {},
     "output_type": "execute_result"
    }
   ],
   "source": [
    "y_pred = training_model.predict(X_test)\n",
    "y_pred"
   ]
  },
  {
   "cell_type": "code",
   "execution_count": 94,
   "id": "3c5ce767",
   "metadata": {
    "execution": {
     "iopub.execute_input": "2025-08-07T16:19:07.585443Z",
     "iopub.status.busy": "2025-08-07T16:19:07.584882Z",
     "iopub.status.idle": "2025-08-07T16:19:07.591776Z",
     "shell.execute_reply": "2025-08-07T16:19:07.590964Z"
    },
    "papermill": {
     "duration": 0.035358,
     "end_time": "2025-08-07T16:19:07.593210",
     "exception": false,
     "start_time": "2025-08-07T16:19:07.557852",
     "status": "completed"
    },
    "tags": []
   },
   "outputs": [
    {
     "data": {
      "text/plain": [
       "5158       0.00\n",
       "3831     105.26\n",
       "5117       0.00\n",
       "6326     758.39\n",
       "11359    135.87\n",
       "          ...  \n",
       "10290     74.58\n",
       "13995      0.00\n",
       "9665     241.81\n",
       "2276       0.00\n",
       "4174       0.00\n",
       "Name: SolarRadiation, Length: 2924, dtype: float64"
      ]
     },
     "execution_count": 94,
     "metadata": {},
     "output_type": "execute_result"
    }
   ],
   "source": [
    "y_test"
   ]
  },
  {
   "cell_type": "code",
   "execution_count": 95,
   "id": "a6c31063",
   "metadata": {
    "execution": {
     "iopub.execute_input": "2025-08-07T16:19:07.646516Z",
     "iopub.status.busy": "2025-08-07T16:19:07.646228Z",
     "iopub.status.idle": "2025-08-07T16:19:07.652748Z",
     "shell.execute_reply": "2025-08-07T16:19:07.652069Z"
    },
    "papermill": {
     "duration": 0.034516,
     "end_time": "2025-08-07T16:19:07.654085",
     "exception": false,
     "start_time": "2025-08-07T16:19:07.619569",
     "status": "completed"
    },
    "tags": []
   },
   "outputs": [],
   "source": [
    "mse = mean_squared_error(y_test, y_pred)\n",
    "mae = mean_absolute_error(y_test, y_pred)\n",
    "r2 = r2_score(y_test, y_pred)\n",
    "rmse = math.sqrt(mse)"
   ]
  },
  {
   "cell_type": "code",
   "execution_count": 96,
   "id": "b19b3a32",
   "metadata": {
    "execution": {
     "iopub.execute_input": "2025-08-07T16:19:07.708720Z",
     "iopub.status.busy": "2025-08-07T16:19:07.708379Z",
     "iopub.status.idle": "2025-08-07T16:19:07.713206Z",
     "shell.execute_reply": "2025-08-07T16:19:07.712311Z"
    },
    "papermill": {
     "duration": 0.033578,
     "end_time": "2025-08-07T16:19:07.714568",
     "exception": false,
     "start_time": "2025-08-07T16:19:07.680990",
     "status": "completed"
    },
    "tags": []
   },
   "outputs": [
    {
     "name": "stdout",
     "output_type": "stream",
     "text": [
      "MSE Score: 370.74316190150483\n",
      "MAE Score: 10.377366621067033\n",
      "R2 Score: 0.9960575395600137\n",
      "RMSE Score: 19.254691945120932\n"
     ]
    }
   ],
   "source": [
    "print(\"MSE Score:\", mse)\n",
    "print(\"MAE Score:\", mae)\n",
    "print(\"R2 Score:\", r2)\n",
    "print(\"RMSE Score:\", rmse)"
   ]
  },
  {
   "cell_type": "code",
   "execution_count": 97,
   "id": "53abd422",
   "metadata": {
    "execution": {
     "iopub.execute_input": "2025-08-07T16:19:07.769009Z",
     "iopub.status.busy": "2025-08-07T16:19:07.768721Z",
     "iopub.status.idle": "2025-08-07T16:19:07.780975Z",
     "shell.execute_reply": "2025-08-07T16:19:07.780120Z"
    },
    "papermill": {
     "duration": 0.041018,
     "end_time": "2025-08-07T16:19:07.782292",
     "exception": false,
     "start_time": "2025-08-07T16:19:07.741274",
     "status": "completed"
    },
    "tags": []
   },
   "outputs": [
    {
     "name": "stdout",
     "output_type": "stream",
     "text": [
      "✅ Regression model improved with better performance!\n",
      "   MSE: 371.919069 → 370.743162 (lower is better)\n",
      "   R²:  0.996045 → 0.996058 (higher is better)\n",
      "   Features: 27 → 22\n",
      "💾 Registry updated: Model_Training_History/History_Regression.csv\n"
     ]
    }
   ],
   "source": [
    "regression_params = {\n",
    "    'model_name': model_name_for_saving,\n",
    "    'scaler_name': \"StandardScaler\",\n",
    "    'features_list': feature_columns_for_saving,\n",
    "    'target_column': target_name_for_saving,\n",
    "    'mse': mse,\n",
    "    'mae': mae,\n",
    "    'rmse': rmse,\n",
    "    'r2': r2,\n",
    "    'parameters': json.dumps(training_model.get_params())\n",
    "}\n",
    "save_model_performance_if_better('regression', regression_params)"
   ]
  },
  {
   "cell_type": "markdown",
   "id": "9f14a75b",
   "metadata": {
    "papermill": {
     "duration": 0.027269,
     "end_time": "2025-08-07T16:19:07.837276",
     "exception": false,
     "start_time": "2025-08-07T16:19:07.810007",
     "status": "completed"
    },
    "tags": []
   },
   "source": [
    "#### Tuning with Grid Search"
   ]
  },
  {
   "cell_type": "code",
   "execution_count": 98,
   "id": "90a50686",
   "metadata": {
    "execution": {
     "iopub.execute_input": "2025-08-07T16:19:07.892418Z",
     "iopub.status.busy": "2025-08-07T16:19:07.892116Z",
     "iopub.status.idle": "2025-08-07T16:19:07.896462Z",
     "shell.execute_reply": "2025-08-07T16:19:07.895726Z"
    },
    "papermill": {
     "duration": 0.033313,
     "end_time": "2025-08-07T16:19:07.897812",
     "exception": false,
     "start_time": "2025-08-07T16:19:07.864499",
     "status": "completed"
    },
    "tags": []
   },
   "outputs": [],
   "source": [
    "grid_search = GridSearchCV(\n",
    "    DecisionTreeRegressor(random_state=42), \n",
    "    grid_param, \n",
    "    cv=5, \n",
    "    scoring='neg_mean_squared_error', \n",
    "    n_jobs=-1, # allow parallel processing, you cant use your own laptop while this runs\n",
    "    verbose=1\n",
    ")"
   ]
  },
  {
   "cell_type": "code",
   "execution_count": 99,
   "id": "105b8893",
   "metadata": {
    "execution": {
     "iopub.execute_input": "2025-08-07T16:19:07.952164Z",
     "iopub.status.busy": "2025-08-07T16:19:07.951858Z",
     "iopub.status.idle": "2025-08-07T16:25:21.731057Z",
     "shell.execute_reply": "2025-08-07T16:25:21.730135Z"
    },
    "papermill": {
     "duration": 373.835861,
     "end_time": "2025-08-07T16:25:21.760354",
     "exception": false,
     "start_time": "2025-08-07T16:19:07.924493",
     "status": "completed"
    },
    "tags": []
   },
   "outputs": [
    {
     "name": "stdout",
     "output_type": "stream",
     "text": [
      "Starting hyperparameter tuning...\n",
      "Fitting 5 folds for each of 5760 candidates, totalling 28800 fits\n",
      "CPU times: user 17.1 s, sys: 2.2 s, total: 19.3 s\n",
      "Wall time: 6min 13s\n"
     ]
    },
    {
     "data": {
      "text/html": [
       "<style>#sk-container-id-15 {color: black;background-color: white;}#sk-container-id-15 pre{padding: 0;}#sk-container-id-15 div.sk-toggleable {background-color: white;}#sk-container-id-15 label.sk-toggleable__label {cursor: pointer;display: block;width: 100%;margin-bottom: 0;padding: 0.3em;box-sizing: border-box;text-align: center;}#sk-container-id-15 label.sk-toggleable__label-arrow:before {content: \"▸\";float: left;margin-right: 0.25em;color: #696969;}#sk-container-id-15 label.sk-toggleable__label-arrow:hover:before {color: black;}#sk-container-id-15 div.sk-estimator:hover label.sk-toggleable__label-arrow:before {color: black;}#sk-container-id-15 div.sk-toggleable__content {max-height: 0;max-width: 0;overflow: hidden;text-align: left;background-color: #f0f8ff;}#sk-container-id-15 div.sk-toggleable__content pre {margin: 0.2em;color: black;border-radius: 0.25em;background-color: #f0f8ff;}#sk-container-id-15 input.sk-toggleable__control:checked~div.sk-toggleable__content {max-height: 200px;max-width: 100%;overflow: auto;}#sk-container-id-15 input.sk-toggleable__control:checked~label.sk-toggleable__label-arrow:before {content: \"▾\";}#sk-container-id-15 div.sk-estimator input.sk-toggleable__control:checked~label.sk-toggleable__label {background-color: #d4ebff;}#sk-container-id-15 div.sk-label input.sk-toggleable__control:checked~label.sk-toggleable__label {background-color: #d4ebff;}#sk-container-id-15 input.sk-hidden--visually {border: 0;clip: rect(1px 1px 1px 1px);clip: rect(1px, 1px, 1px, 1px);height: 1px;margin: -1px;overflow: hidden;padding: 0;position: absolute;width: 1px;}#sk-container-id-15 div.sk-estimator {font-family: monospace;background-color: #f0f8ff;border: 1px dotted black;border-radius: 0.25em;box-sizing: border-box;margin-bottom: 0.5em;}#sk-container-id-15 div.sk-estimator:hover {background-color: #d4ebff;}#sk-container-id-15 div.sk-parallel-item::after {content: \"\";width: 100%;border-bottom: 1px solid gray;flex-grow: 1;}#sk-container-id-15 div.sk-label:hover label.sk-toggleable__label {background-color: #d4ebff;}#sk-container-id-15 div.sk-serial::before {content: \"\";position: absolute;border-left: 1px solid gray;box-sizing: border-box;top: 0;bottom: 0;left: 50%;z-index: 0;}#sk-container-id-15 div.sk-serial {display: flex;flex-direction: column;align-items: center;background-color: white;padding-right: 0.2em;padding-left: 0.2em;position: relative;}#sk-container-id-15 div.sk-item {position: relative;z-index: 1;}#sk-container-id-15 div.sk-parallel {display: flex;align-items: stretch;justify-content: center;background-color: white;position: relative;}#sk-container-id-15 div.sk-item::before, #sk-container-id-15 div.sk-parallel-item::before {content: \"\";position: absolute;border-left: 1px solid gray;box-sizing: border-box;top: 0;bottom: 0;left: 50%;z-index: -1;}#sk-container-id-15 div.sk-parallel-item {display: flex;flex-direction: column;z-index: 1;position: relative;background-color: white;}#sk-container-id-15 div.sk-parallel-item:first-child::after {align-self: flex-end;width: 50%;}#sk-container-id-15 div.sk-parallel-item:last-child::after {align-self: flex-start;width: 50%;}#sk-container-id-15 div.sk-parallel-item:only-child::after {width: 0;}#sk-container-id-15 div.sk-dashed-wrapped {border: 1px dashed gray;margin: 0 0.4em 0.5em 0.4em;box-sizing: border-box;padding-bottom: 0.4em;background-color: white;}#sk-container-id-15 div.sk-label label {font-family: monospace;font-weight: bold;display: inline-block;line-height: 1.2em;}#sk-container-id-15 div.sk-label-container {text-align: center;}#sk-container-id-15 div.sk-container {/* jupyter's `normalize.less` sets `[hidden] { display: none; }` but bootstrap.min.css set `[hidden] { display: none !important; }` so we also need the `!important` here to be able to override the default hidden behavior on the sphinx rendered scikit-learn.org. See: https://github.com/scikit-learn/scikit-learn/issues/21755 */display: inline-block !important;position: relative;}#sk-container-id-15 div.sk-text-repr-fallback {display: none;}</style><div id=\"sk-container-id-15\" class=\"sk-top-container\"><div class=\"sk-text-repr-fallback\"><pre>GridSearchCV(cv=5, estimator=DecisionTreeRegressor(random_state=42), n_jobs=-1,\n",
       "             param_grid={&#x27;ccp_alpha&#x27;: [0.0, 0.01, 0.02],\n",
       "                         &#x27;criterion&#x27;: [&#x27;squared_error&#x27;, &#x27;friedman_mse&#x27;],\n",
       "                         &#x27;max_depth&#x27;: [None, 5, 10, 15, 25],\n",
       "                         &#x27;max_features&#x27;: [&#x27;sqrt&#x27;, &#x27;log2&#x27;, None, 0.5],\n",
       "                         &#x27;min_impurity_decrease&#x27;: [0.0, 0.01, 0.02],\n",
       "                         &#x27;min_samples_leaf&#x27;: [1, 2, 4, 8],\n",
       "                         &#x27;min_samples_split&#x27;: [2, 5, 10, 20]},\n",
       "             scoring=&#x27;neg_mean_squared_error&#x27;, verbose=1)</pre><b>In a Jupyter environment, please rerun this cell to show the HTML representation or trust the notebook. <br />On GitHub, the HTML representation is unable to render, please try loading this page with nbviewer.org.</b></div><div class=\"sk-container\" hidden><div class=\"sk-item sk-dashed-wrapped\"><div class=\"sk-label-container\"><div class=\"sk-label sk-toggleable\"><input class=\"sk-toggleable__control sk-hidden--visually\" id=\"sk-estimator-id-23\" type=\"checkbox\" ><label for=\"sk-estimator-id-23\" class=\"sk-toggleable__label sk-toggleable__label-arrow\">GridSearchCV</label><div class=\"sk-toggleable__content\"><pre>GridSearchCV(cv=5, estimator=DecisionTreeRegressor(random_state=42), n_jobs=-1,\n",
       "             param_grid={&#x27;ccp_alpha&#x27;: [0.0, 0.01, 0.02],\n",
       "                         &#x27;criterion&#x27;: [&#x27;squared_error&#x27;, &#x27;friedman_mse&#x27;],\n",
       "                         &#x27;max_depth&#x27;: [None, 5, 10, 15, 25],\n",
       "                         &#x27;max_features&#x27;: [&#x27;sqrt&#x27;, &#x27;log2&#x27;, None, 0.5],\n",
       "                         &#x27;min_impurity_decrease&#x27;: [0.0, 0.01, 0.02],\n",
       "                         &#x27;min_samples_leaf&#x27;: [1, 2, 4, 8],\n",
       "                         &#x27;min_samples_split&#x27;: [2, 5, 10, 20]},\n",
       "             scoring=&#x27;neg_mean_squared_error&#x27;, verbose=1)</pre></div></div></div><div class=\"sk-parallel\"><div class=\"sk-parallel-item\"><div class=\"sk-item\"><div class=\"sk-label-container\"><div class=\"sk-label sk-toggleable\"><input class=\"sk-toggleable__control sk-hidden--visually\" id=\"sk-estimator-id-24\" type=\"checkbox\" ><label for=\"sk-estimator-id-24\" class=\"sk-toggleable__label sk-toggleable__label-arrow\">estimator: DecisionTreeRegressor</label><div class=\"sk-toggleable__content\"><pre>DecisionTreeRegressor(random_state=42)</pre></div></div></div><div class=\"sk-serial\"><div class=\"sk-item\"><div class=\"sk-estimator sk-toggleable\"><input class=\"sk-toggleable__control sk-hidden--visually\" id=\"sk-estimator-id-25\" type=\"checkbox\" ><label for=\"sk-estimator-id-25\" class=\"sk-toggleable__label sk-toggleable__label-arrow\">DecisionTreeRegressor</label><div class=\"sk-toggleable__content\"><pre>DecisionTreeRegressor(random_state=42)</pre></div></div></div></div></div></div></div></div></div></div>"
      ],
      "text/plain": [
       "GridSearchCV(cv=5, estimator=DecisionTreeRegressor(random_state=42), n_jobs=-1,\n",
       "             param_grid={'ccp_alpha': [0.0, 0.01, 0.02],\n",
       "                         'criterion': ['squared_error', 'friedman_mse'],\n",
       "                         'max_depth': [None, 5, 10, 15, 25],\n",
       "                         'max_features': ['sqrt', 'log2', None, 0.5],\n",
       "                         'min_impurity_decrease': [0.0, 0.01, 0.02],\n",
       "                         'min_samples_leaf': [1, 2, 4, 8],\n",
       "                         'min_samples_split': [2, 5, 10, 20]},\n",
       "             scoring='neg_mean_squared_error', verbose=1)"
      ]
     },
     "execution_count": 99,
     "metadata": {},
     "output_type": "execute_result"
    }
   ],
   "source": [
    "%%time\n",
    "print(\"Starting hyperparameter tuning...\")\n",
    "grid_search.fit(X_train, y_train)"
   ]
  },
  {
   "cell_type": "code",
   "execution_count": 100,
   "id": "c3ba6c90",
   "metadata": {
    "execution": {
     "iopub.execute_input": "2025-08-07T16:25:21.817759Z",
     "iopub.status.busy": "2025-08-07T16:25:21.817069Z",
     "iopub.status.idle": "2025-08-07T16:25:21.822567Z",
     "shell.execute_reply": "2025-08-07T16:25:21.821699Z"
    },
    "papermill": {
     "duration": 0.036084,
     "end_time": "2025-08-07T16:25:21.824078",
     "exception": false,
     "start_time": "2025-08-07T16:25:21.787994",
     "status": "completed"
    },
    "tags": []
   },
   "outputs": [
    {
     "name": "stdout",
     "output_type": "stream",
     "text": [
      "TUNING RESULTS\n",
      "==================================================\n",
      "Best Parameters: {'ccp_alpha': 0.02, 'criterion': 'friedman_mse', 'max_depth': 10, 'max_features': None, 'min_impurity_decrease': 0.0, 'min_samples_leaf': 8, 'min_samples_split': 20}\n",
      "Best Cross-Validation Score (Negative MSE): -243.38170213603706\n",
      "Best Cross-Validation Score (MSE): 243.38170213603706\n",
      "Best Cross-Validation Score (RMSE): 15.600695565776453\n"
     ]
    }
   ],
   "source": [
    "print(\"TUNING RESULTS\")\n",
    "print(\"=\"*50)\n",
    "print(\"Best Parameters:\", grid_search.best_params_)\n",
    "print(\"Best Cross-Validation Score (Negative MSE):\", grid_search.best_score_)\n",
    "print(\"Best Cross-Validation Score (MSE):\", -grid_search.best_score_)\n",
    "print(\"Best Cross-Validation Score (RMSE):\", math.sqrt(-grid_search.best_score_))"
   ]
  },
  {
   "cell_type": "code",
   "execution_count": 101,
   "id": "5812c016",
   "metadata": {
    "execution": {
     "iopub.execute_input": "2025-08-07T16:25:21.886081Z",
     "iopub.status.busy": "2025-08-07T16:25:21.885627Z",
     "iopub.status.idle": "2025-08-07T16:25:21.890759Z",
     "shell.execute_reply": "2025-08-07T16:25:21.889965Z"
    },
    "papermill": {
     "duration": 0.040219,
     "end_time": "2025-08-07T16:25:21.892329",
     "exception": false,
     "start_time": "2025-08-07T16:25:21.852110",
     "status": "completed"
    },
    "tags": []
   },
   "outputs": [],
   "source": [
    "grid_search_best_model = grid_search.best_estimator_\n",
    "y_pred = grid_search_best_model.predict(X_test)"
   ]
  },
  {
   "cell_type": "code",
   "execution_count": 102,
   "id": "394b98b1",
   "metadata": {
    "execution": {
     "iopub.execute_input": "2025-08-07T16:25:21.948406Z",
     "iopub.status.busy": "2025-08-07T16:25:21.948124Z",
     "iopub.status.idle": "2025-08-07T16:25:21.955361Z",
     "shell.execute_reply": "2025-08-07T16:25:21.954564Z"
    },
    "papermill": {
     "duration": 0.037051,
     "end_time": "2025-08-07T16:25:21.956720",
     "exception": false,
     "start_time": "2025-08-07T16:25:21.919669",
     "status": "completed"
    },
    "tags": []
   },
   "outputs": [],
   "source": [
    "mse_grid_search = mean_squared_error(y_test, y_pred)\n",
    "mae_grid_search = mean_absolute_error(y_test, y_pred)\n",
    "r2_grid_search = r2_score(y_test, y_pred)\n",
    "rmse_grid_search = math.sqrt(mse_grid_search)"
   ]
  },
  {
   "cell_type": "code",
   "execution_count": 103,
   "id": "454e4995",
   "metadata": {
    "execution": {
     "iopub.execute_input": "2025-08-07T16:25:22.012176Z",
     "iopub.status.busy": "2025-08-07T16:25:22.011557Z",
     "iopub.status.idle": "2025-08-07T16:25:22.016476Z",
     "shell.execute_reply": "2025-08-07T16:25:22.015688Z"
    },
    "papermill": {
     "duration": 0.033667,
     "end_time": "2025-08-07T16:25:22.017856",
     "exception": false,
     "start_time": "2025-08-07T16:25:21.984189",
     "status": "completed"
    },
    "tags": []
   },
   "outputs": [
    {
     "name": "stdout",
     "output_type": "stream",
     "text": [
      "MSE Score: 256.7881780233198\n",
      "MAE Score: 9.060934517993607\n",
      "R2 Score: 0.9972693299908199\n",
      "RMSE Score: 16.024611634087105\n"
     ]
    }
   ],
   "source": [
    "print(\"MSE Score:\", mse_grid_search)\n",
    "print(\"MAE Score:\", mae_grid_search)\n",
    "print(\"R2 Score:\", r2_grid_search)\n",
    "print(\"RMSE Score:\", rmse_grid_search)"
   ]
  },
  {
   "cell_type": "code",
   "execution_count": 104,
   "id": "4abf9d3e",
   "metadata": {
    "execution": {
     "iopub.execute_input": "2025-08-07T16:25:22.091241Z",
     "iopub.status.busy": "2025-08-07T16:25:22.090981Z",
     "iopub.status.idle": "2025-08-07T16:25:22.106354Z",
     "shell.execute_reply": "2025-08-07T16:25:22.105367Z"
    },
    "papermill": {
     "duration": 0.056698,
     "end_time": "2025-08-07T16:25:22.108355",
     "exception": false,
     "start_time": "2025-08-07T16:25:22.051657",
     "status": "completed"
    },
    "tags": []
   },
   "outputs": [
    {
     "name": "stdout",
     "output_type": "stream",
     "text": [
      "✅ Regression model improved with same performance but fewer features!\n",
      "   MSE: 254.904333 ≈ 256.788178 (similar)\n",
      "   R²:  0.997289 ≈ 0.997269 (similar)\n",
      "   Features: 27 → 22 (🎯 5 fewer features!)\n",
      "💾 Registry updated: Model_Training_History/History_Regression.csv\n"
     ]
    }
   ],
   "source": [
    "regression_params = {\n",
    "    'model_name': model_name_for_saving + \" Tuned\",\n",
    "    'scaler_name': \"StandardScaler\",\n",
    "    'features_list': feature_columns_for_saving,\n",
    "    'target_column': target_name_for_saving,\n",
    "    'mse': mse_grid_search,\n",
    "    'mae': mae_grid_search,\n",
    "    'rmse': rmse_grid_search,\n",
    "    'r2': r2_grid_search,\n",
    "    'parameters' : json.dumps({\n",
    "        \"best_params\": grid_search.best_params_,\n",
    "        \"cv_score\": grid_search.best_score_,\n",
    "        \"all_params\": grid_search_best_model.get_params()\n",
    "    })\n",
    "}\n",
    "save_model_performance_if_better('regression', regression_params)"
   ]
  },
  {
   "cell_type": "markdown",
   "id": "394a224d",
   "metadata": {
    "papermill": {
     "duration": 0.027573,
     "end_time": "2025-08-07T16:25:22.164765",
     "exception": false,
     "start_time": "2025-08-07T16:25:22.137192",
     "status": "completed"
    },
    "tags": []
   },
   "source": [
    "### Robust Scaler"
   ]
  },
  {
   "cell_type": "code",
   "execution_count": 105,
   "id": "0413c872",
   "metadata": {
    "execution": {
     "iopub.execute_input": "2025-08-07T16:25:22.222148Z",
     "iopub.status.busy": "2025-08-07T16:25:22.221862Z",
     "iopub.status.idle": "2025-08-07T16:25:22.247580Z",
     "shell.execute_reply": "2025-08-07T16:25:22.246799Z"
    },
    "papermill": {
     "duration": 0.05721,
     "end_time": "2025-08-07T16:25:22.249190",
     "exception": false,
     "start_time": "2025-08-07T16:25:22.191980",
     "status": "completed"
    },
    "tags": []
   },
   "outputs": [],
   "source": [
    "scaler = RobustScaler()\n",
    "X_train = scaler.fit_transform(X_train_raw)\n",
    "X_test = scaler.transform(X_test_raw)"
   ]
  },
  {
   "cell_type": "code",
   "execution_count": 106,
   "id": "a7105625",
   "metadata": {
    "execution": {
     "iopub.execute_input": "2025-08-07T16:25:22.304956Z",
     "iopub.status.busy": "2025-08-07T16:25:22.304629Z",
     "iopub.status.idle": "2025-08-07T16:25:22.310571Z",
     "shell.execute_reply": "2025-08-07T16:25:22.309620Z"
    },
    "papermill": {
     "duration": 0.035165,
     "end_time": "2025-08-07T16:25:22.311903",
     "exception": false,
     "start_time": "2025-08-07T16:25:22.276738",
     "status": "completed"
    },
    "tags": []
   },
   "outputs": [
    {
     "data": {
      "text/plain": [
       "array([[ 0.6       , -0.16666667,  0.        , ..., -0.03738547,\n",
       "         1.44008264,  8.87596899],\n",
       "       [ 1.        ,  0.33333333,  1.        , ..., -0.84268652,\n",
       "         0.62603306,  0.        ],\n",
       "       [-0.8       , -1.        ,  0.        , ..., -0.84268652,\n",
       "         0.        ,  0.        ],\n",
       "       ...,\n",
       "       [ 0.4       , -0.16666667,  0.        , ...,  0.5899051 ,\n",
       "         0.6322314 ,  0.75193798],\n",
       "       [-1.        ,  0.75      ,  0.        , ..., -0.84268652,\n",
       "         0.        ,  0.        ],\n",
       "       [ 0.6       , -0.33333333,  0.        , ...,  0.61755563,\n",
       "         0.59917355,  7.5       ]])"
      ]
     },
     "execution_count": 106,
     "metadata": {},
     "output_type": "execute_result"
    }
   ],
   "source": [
    "X_train"
   ]
  },
  {
   "cell_type": "code",
   "execution_count": 107,
   "id": "adb33cb0",
   "metadata": {
    "execution": {
     "iopub.execute_input": "2025-08-07T16:25:22.370315Z",
     "iopub.status.busy": "2025-08-07T16:25:22.370049Z",
     "iopub.status.idle": "2025-08-07T16:25:22.375691Z",
     "shell.execute_reply": "2025-08-07T16:25:22.375038Z"
    },
    "papermill": {
     "duration": 0.034907,
     "end_time": "2025-08-07T16:25:22.376882",
     "exception": false,
     "start_time": "2025-08-07T16:25:22.341975",
     "status": "completed"
    },
    "tags": []
   },
   "outputs": [
    {
     "data": {
      "text/plain": [
       "array([[ 4.00000000e-01,  8.33333333e-01,  0.00000000e+00, ...,\n",
       "         6.20009817e-01,  0.00000000e+00,  0.00000000e+00],\n",
       "       [ 0.00000000e+00,  2.50000000e-01,  1.00000000e+00, ...,\n",
       "         7.40592277e-01,  1.52892562e-01,  0.00000000e+00],\n",
       "       [ 4.00000000e-01, -5.83333333e-01,  0.00000000e+00, ...,\n",
       "         7.82804319e-01,  0.00000000e+00,  0.00000000e+00],\n",
       "       ...,\n",
       "       [-8.00000000e-01,  4.16666667e-01,  1.00000000e+00, ...,\n",
       "        -8.40559555e-01,  4.19421488e-01,  0.00000000e+00],\n",
       "       [-4.00000000e-01,  6.66666667e-01,  0.00000000e+00, ...,\n",
       "        -8.42686518e-01,  0.00000000e+00,  6.67829457e+00],\n",
       "       [ 0.00000000e+00,  8.33333333e-01,  0.00000000e+00, ...,\n",
       "         1.71793194e-03,  0.00000000e+00,  0.00000000e+00]])"
      ]
     },
     "execution_count": 107,
     "metadata": {},
     "output_type": "execute_result"
    }
   ],
   "source": [
    "X_test"
   ]
  },
  {
   "cell_type": "markdown",
   "id": "a73e499c",
   "metadata": {
    "papermill": {
     "duration": 0.026926,
     "end_time": "2025-08-07T16:25:22.431736",
     "exception": false,
     "start_time": "2025-08-07T16:25:22.404810",
     "status": "completed"
    },
    "tags": []
   },
   "source": [
    "#### Default Parameters"
   ]
  },
  {
   "cell_type": "code",
   "execution_count": 108,
   "id": "c733087d",
   "metadata": {
    "execution": {
     "iopub.execute_input": "2025-08-07T16:25:22.489315Z",
     "iopub.status.busy": "2025-08-07T16:25:22.489033Z",
     "iopub.status.idle": "2025-08-07T16:25:22.495012Z",
     "shell.execute_reply": "2025-08-07T16:25:22.494305Z"
    },
    "papermill": {
     "duration": 0.036171,
     "end_time": "2025-08-07T16:25:22.496300",
     "exception": false,
     "start_time": "2025-08-07T16:25:22.460129",
     "status": "completed"
    },
    "tags": []
   },
   "outputs": [
    {
     "data": {
      "text/html": [
       "<style>#sk-container-id-16 {color: black;background-color: white;}#sk-container-id-16 pre{padding: 0;}#sk-container-id-16 div.sk-toggleable {background-color: white;}#sk-container-id-16 label.sk-toggleable__label {cursor: pointer;display: block;width: 100%;margin-bottom: 0;padding: 0.3em;box-sizing: border-box;text-align: center;}#sk-container-id-16 label.sk-toggleable__label-arrow:before {content: \"▸\";float: left;margin-right: 0.25em;color: #696969;}#sk-container-id-16 label.sk-toggleable__label-arrow:hover:before {color: black;}#sk-container-id-16 div.sk-estimator:hover label.sk-toggleable__label-arrow:before {color: black;}#sk-container-id-16 div.sk-toggleable__content {max-height: 0;max-width: 0;overflow: hidden;text-align: left;background-color: #f0f8ff;}#sk-container-id-16 div.sk-toggleable__content pre {margin: 0.2em;color: black;border-radius: 0.25em;background-color: #f0f8ff;}#sk-container-id-16 input.sk-toggleable__control:checked~div.sk-toggleable__content {max-height: 200px;max-width: 100%;overflow: auto;}#sk-container-id-16 input.sk-toggleable__control:checked~label.sk-toggleable__label-arrow:before {content: \"▾\";}#sk-container-id-16 div.sk-estimator input.sk-toggleable__control:checked~label.sk-toggleable__label {background-color: #d4ebff;}#sk-container-id-16 div.sk-label input.sk-toggleable__control:checked~label.sk-toggleable__label {background-color: #d4ebff;}#sk-container-id-16 input.sk-hidden--visually {border: 0;clip: rect(1px 1px 1px 1px);clip: rect(1px, 1px, 1px, 1px);height: 1px;margin: -1px;overflow: hidden;padding: 0;position: absolute;width: 1px;}#sk-container-id-16 div.sk-estimator {font-family: monospace;background-color: #f0f8ff;border: 1px dotted black;border-radius: 0.25em;box-sizing: border-box;margin-bottom: 0.5em;}#sk-container-id-16 div.sk-estimator:hover {background-color: #d4ebff;}#sk-container-id-16 div.sk-parallel-item::after {content: \"\";width: 100%;border-bottom: 1px solid gray;flex-grow: 1;}#sk-container-id-16 div.sk-label:hover label.sk-toggleable__label {background-color: #d4ebff;}#sk-container-id-16 div.sk-serial::before {content: \"\";position: absolute;border-left: 1px solid gray;box-sizing: border-box;top: 0;bottom: 0;left: 50%;z-index: 0;}#sk-container-id-16 div.sk-serial {display: flex;flex-direction: column;align-items: center;background-color: white;padding-right: 0.2em;padding-left: 0.2em;position: relative;}#sk-container-id-16 div.sk-item {position: relative;z-index: 1;}#sk-container-id-16 div.sk-parallel {display: flex;align-items: stretch;justify-content: center;background-color: white;position: relative;}#sk-container-id-16 div.sk-item::before, #sk-container-id-16 div.sk-parallel-item::before {content: \"\";position: absolute;border-left: 1px solid gray;box-sizing: border-box;top: 0;bottom: 0;left: 50%;z-index: -1;}#sk-container-id-16 div.sk-parallel-item {display: flex;flex-direction: column;z-index: 1;position: relative;background-color: white;}#sk-container-id-16 div.sk-parallel-item:first-child::after {align-self: flex-end;width: 50%;}#sk-container-id-16 div.sk-parallel-item:last-child::after {align-self: flex-start;width: 50%;}#sk-container-id-16 div.sk-parallel-item:only-child::after {width: 0;}#sk-container-id-16 div.sk-dashed-wrapped {border: 1px dashed gray;margin: 0 0.4em 0.5em 0.4em;box-sizing: border-box;padding-bottom: 0.4em;background-color: white;}#sk-container-id-16 div.sk-label label {font-family: monospace;font-weight: bold;display: inline-block;line-height: 1.2em;}#sk-container-id-16 div.sk-label-container {text-align: center;}#sk-container-id-16 div.sk-container {/* jupyter's `normalize.less` sets `[hidden] { display: none; }` but bootstrap.min.css set `[hidden] { display: none !important; }` so we also need the `!important` here to be able to override the default hidden behavior on the sphinx rendered scikit-learn.org. See: https://github.com/scikit-learn/scikit-learn/issues/21755 */display: inline-block !important;position: relative;}#sk-container-id-16 div.sk-text-repr-fallback {display: none;}</style><div id=\"sk-container-id-16\" class=\"sk-top-container\"><div class=\"sk-text-repr-fallback\"><pre>DecisionTreeRegressor(random_state=42)</pre><b>In a Jupyter environment, please rerun this cell to show the HTML representation or trust the notebook. <br />On GitHub, the HTML representation is unable to render, please try loading this page with nbviewer.org.</b></div><div class=\"sk-container\" hidden><div class=\"sk-item\"><div class=\"sk-estimator sk-toggleable\"><input class=\"sk-toggleable__control sk-hidden--visually\" id=\"sk-estimator-id-26\" type=\"checkbox\" checked><label for=\"sk-estimator-id-26\" class=\"sk-toggleable__label sk-toggleable__label-arrow\">DecisionTreeRegressor</label><div class=\"sk-toggleable__content\"><pre>DecisionTreeRegressor(random_state=42)</pre></div></div></div></div></div>"
      ],
      "text/plain": [
       "DecisionTreeRegressor(random_state=42)"
      ]
     },
     "execution_count": 108,
     "metadata": {},
     "output_type": "execute_result"
    }
   ],
   "source": [
    "training_model = DecisionTreeRegressor(random_state=42)\n",
    "training_model"
   ]
  },
  {
   "cell_type": "code",
   "execution_count": 109,
   "id": "2e37c5c0",
   "metadata": {
    "execution": {
     "iopub.execute_input": "2025-08-07T16:25:22.553604Z",
     "iopub.status.busy": "2025-08-07T16:25:22.553076Z",
     "iopub.status.idle": "2025-08-07T16:25:22.664162Z",
     "shell.execute_reply": "2025-08-07T16:25:22.663271Z"
    },
    "papermill": {
     "duration": 0.141123,
     "end_time": "2025-08-07T16:25:22.665626",
     "exception": false,
     "start_time": "2025-08-07T16:25:22.524503",
     "status": "completed"
    },
    "tags": []
   },
   "outputs": [
    {
     "name": "stdout",
     "output_type": "stream",
     "text": [
      "CPU times: user 105 ms, sys: 0 ns, total: 105 ms\n",
      "Wall time: 104 ms\n"
     ]
    },
    {
     "data": {
      "text/html": [
       "<style>#sk-container-id-17 {color: black;background-color: white;}#sk-container-id-17 pre{padding: 0;}#sk-container-id-17 div.sk-toggleable {background-color: white;}#sk-container-id-17 label.sk-toggleable__label {cursor: pointer;display: block;width: 100%;margin-bottom: 0;padding: 0.3em;box-sizing: border-box;text-align: center;}#sk-container-id-17 label.sk-toggleable__label-arrow:before {content: \"▸\";float: left;margin-right: 0.25em;color: #696969;}#sk-container-id-17 label.sk-toggleable__label-arrow:hover:before {color: black;}#sk-container-id-17 div.sk-estimator:hover label.sk-toggleable__label-arrow:before {color: black;}#sk-container-id-17 div.sk-toggleable__content {max-height: 0;max-width: 0;overflow: hidden;text-align: left;background-color: #f0f8ff;}#sk-container-id-17 div.sk-toggleable__content pre {margin: 0.2em;color: black;border-radius: 0.25em;background-color: #f0f8ff;}#sk-container-id-17 input.sk-toggleable__control:checked~div.sk-toggleable__content {max-height: 200px;max-width: 100%;overflow: auto;}#sk-container-id-17 input.sk-toggleable__control:checked~label.sk-toggleable__label-arrow:before {content: \"▾\";}#sk-container-id-17 div.sk-estimator input.sk-toggleable__control:checked~label.sk-toggleable__label {background-color: #d4ebff;}#sk-container-id-17 div.sk-label input.sk-toggleable__control:checked~label.sk-toggleable__label {background-color: #d4ebff;}#sk-container-id-17 input.sk-hidden--visually {border: 0;clip: rect(1px 1px 1px 1px);clip: rect(1px, 1px, 1px, 1px);height: 1px;margin: -1px;overflow: hidden;padding: 0;position: absolute;width: 1px;}#sk-container-id-17 div.sk-estimator {font-family: monospace;background-color: #f0f8ff;border: 1px dotted black;border-radius: 0.25em;box-sizing: border-box;margin-bottom: 0.5em;}#sk-container-id-17 div.sk-estimator:hover {background-color: #d4ebff;}#sk-container-id-17 div.sk-parallel-item::after {content: \"\";width: 100%;border-bottom: 1px solid gray;flex-grow: 1;}#sk-container-id-17 div.sk-label:hover label.sk-toggleable__label {background-color: #d4ebff;}#sk-container-id-17 div.sk-serial::before {content: \"\";position: absolute;border-left: 1px solid gray;box-sizing: border-box;top: 0;bottom: 0;left: 50%;z-index: 0;}#sk-container-id-17 div.sk-serial {display: flex;flex-direction: column;align-items: center;background-color: white;padding-right: 0.2em;padding-left: 0.2em;position: relative;}#sk-container-id-17 div.sk-item {position: relative;z-index: 1;}#sk-container-id-17 div.sk-parallel {display: flex;align-items: stretch;justify-content: center;background-color: white;position: relative;}#sk-container-id-17 div.sk-item::before, #sk-container-id-17 div.sk-parallel-item::before {content: \"\";position: absolute;border-left: 1px solid gray;box-sizing: border-box;top: 0;bottom: 0;left: 50%;z-index: -1;}#sk-container-id-17 div.sk-parallel-item {display: flex;flex-direction: column;z-index: 1;position: relative;background-color: white;}#sk-container-id-17 div.sk-parallel-item:first-child::after {align-self: flex-end;width: 50%;}#sk-container-id-17 div.sk-parallel-item:last-child::after {align-self: flex-start;width: 50%;}#sk-container-id-17 div.sk-parallel-item:only-child::after {width: 0;}#sk-container-id-17 div.sk-dashed-wrapped {border: 1px dashed gray;margin: 0 0.4em 0.5em 0.4em;box-sizing: border-box;padding-bottom: 0.4em;background-color: white;}#sk-container-id-17 div.sk-label label {font-family: monospace;font-weight: bold;display: inline-block;line-height: 1.2em;}#sk-container-id-17 div.sk-label-container {text-align: center;}#sk-container-id-17 div.sk-container {/* jupyter's `normalize.less` sets `[hidden] { display: none; }` but bootstrap.min.css set `[hidden] { display: none !important; }` so we also need the `!important` here to be able to override the default hidden behavior on the sphinx rendered scikit-learn.org. See: https://github.com/scikit-learn/scikit-learn/issues/21755 */display: inline-block !important;position: relative;}#sk-container-id-17 div.sk-text-repr-fallback {display: none;}</style><div id=\"sk-container-id-17\" class=\"sk-top-container\"><div class=\"sk-text-repr-fallback\"><pre>DecisionTreeRegressor(random_state=42)</pre><b>In a Jupyter environment, please rerun this cell to show the HTML representation or trust the notebook. <br />On GitHub, the HTML representation is unable to render, please try loading this page with nbviewer.org.</b></div><div class=\"sk-container\" hidden><div class=\"sk-item\"><div class=\"sk-estimator sk-toggleable\"><input class=\"sk-toggleable__control sk-hidden--visually\" id=\"sk-estimator-id-27\" type=\"checkbox\" checked><label for=\"sk-estimator-id-27\" class=\"sk-toggleable__label sk-toggleable__label-arrow\">DecisionTreeRegressor</label><div class=\"sk-toggleable__content\"><pre>DecisionTreeRegressor(random_state=42)</pre></div></div></div></div></div>"
      ],
      "text/plain": [
       "DecisionTreeRegressor(random_state=42)"
      ]
     },
     "execution_count": 109,
     "metadata": {},
     "output_type": "execute_result"
    }
   ],
   "source": [
    "%%time\n",
    "training_model.fit(X_train, y_train)"
   ]
  },
  {
   "cell_type": "code",
   "execution_count": 110,
   "id": "12feb204",
   "metadata": {
    "execution": {
     "iopub.execute_input": "2025-08-07T16:25:22.723351Z",
     "iopub.status.busy": "2025-08-07T16:25:22.723050Z",
     "iopub.status.idle": "2025-08-07T16:25:22.729353Z",
     "shell.execute_reply": "2025-08-07T16:25:22.728675Z"
    },
    "papermill": {
     "duration": 0.036777,
     "end_time": "2025-08-07T16:25:22.730629",
     "exception": false,
     "start_time": "2025-08-07T16:25:22.693852",
     "status": "completed"
    },
    "tags": []
   },
   "outputs": [
    {
     "data": {
      "text/plain": [
       "array([  0.  , 111.68,   0.  , ..., 208.26,   0.  ,   0.  ])"
      ]
     },
     "execution_count": 110,
     "metadata": {},
     "output_type": "execute_result"
    }
   ],
   "source": [
    "y_pred = training_model.predict(X_test)\n",
    "y_pred"
   ]
  },
  {
   "cell_type": "code",
   "execution_count": 111,
   "id": "314520f2",
   "metadata": {
    "execution": {
     "iopub.execute_input": "2025-08-07T16:25:22.790342Z",
     "iopub.status.busy": "2025-08-07T16:25:22.790040Z",
     "iopub.status.idle": "2025-08-07T16:25:22.796545Z",
     "shell.execute_reply": "2025-08-07T16:25:22.795786Z"
    },
    "papermill": {
     "duration": 0.038032,
     "end_time": "2025-08-07T16:25:22.797839",
     "exception": false,
     "start_time": "2025-08-07T16:25:22.759807",
     "status": "completed"
    },
    "tags": []
   },
   "outputs": [
    {
     "data": {
      "text/plain": [
       "5158       0.00\n",
       "3831     105.26\n",
       "5117       0.00\n",
       "6326     758.39\n",
       "11359    135.87\n",
       "          ...  \n",
       "10290     74.58\n",
       "13995      0.00\n",
       "9665     241.81\n",
       "2276       0.00\n",
       "4174       0.00\n",
       "Name: SolarRadiation, Length: 2924, dtype: float64"
      ]
     },
     "execution_count": 111,
     "metadata": {},
     "output_type": "execute_result"
    }
   ],
   "source": [
    "y_test"
   ]
  },
  {
   "cell_type": "code",
   "execution_count": 112,
   "id": "6ed812fb",
   "metadata": {
    "execution": {
     "iopub.execute_input": "2025-08-07T16:25:22.856706Z",
     "iopub.status.busy": "2025-08-07T16:25:22.856370Z",
     "iopub.status.idle": "2025-08-07T16:25:22.863071Z",
     "shell.execute_reply": "2025-08-07T16:25:22.862398Z"
    },
    "papermill": {
     "duration": 0.038394,
     "end_time": "2025-08-07T16:25:22.864350",
     "exception": false,
     "start_time": "2025-08-07T16:25:22.825956",
     "status": "completed"
    },
    "tags": []
   },
   "outputs": [],
   "source": [
    "mse = mean_squared_error(y_test, y_pred)\n",
    "mae = mean_absolute_error(y_test, y_pred)\n",
    "r2 = r2_score(y_test, y_pred)\n",
    "rmse = math.sqrt(mse)"
   ]
  },
  {
   "cell_type": "code",
   "execution_count": 113,
   "id": "8e1b22c3",
   "metadata": {
    "execution": {
     "iopub.execute_input": "2025-08-07T16:25:22.922995Z",
     "iopub.status.busy": "2025-08-07T16:25:22.922205Z",
     "iopub.status.idle": "2025-08-07T16:25:22.927028Z",
     "shell.execute_reply": "2025-08-07T16:25:22.926152Z"
    },
    "papermill": {
     "duration": 0.034662,
     "end_time": "2025-08-07T16:25:22.928332",
     "exception": false,
     "start_time": "2025-08-07T16:25:22.893670",
     "status": "completed"
    },
    "tags": []
   },
   "outputs": [
    {
     "name": "stdout",
     "output_type": "stream",
     "text": [
      "MSE Score: 369.8571678864569\n",
      "MAE Score: 10.35516073871409\n",
      "R2 Score: 0.9960669611669734\n",
      "RMSE Score: 19.231670959291524\n"
     ]
    }
   ],
   "source": [
    "print(\"MSE Score:\", mse)\n",
    "print(\"MAE Score:\", mae)\n",
    "print(\"R2 Score:\", r2)\n",
    "print(\"RMSE Score:\", rmse)"
   ]
  },
  {
   "cell_type": "code",
   "execution_count": 114,
   "id": "96d1127c",
   "metadata": {
    "execution": {
     "iopub.execute_input": "2025-08-07T16:25:22.988144Z",
     "iopub.status.busy": "2025-08-07T16:25:22.987837Z",
     "iopub.status.idle": "2025-08-07T16:25:23.000197Z",
     "shell.execute_reply": "2025-08-07T16:25:22.999217Z"
    },
    "papermill": {
     "duration": 0.044676,
     "end_time": "2025-08-07T16:25:23.001590",
     "exception": false,
     "start_time": "2025-08-07T16:25:22.956914",
     "status": "completed"
    },
    "tags": []
   },
   "outputs": [
    {
     "name": "stdout",
     "output_type": "stream",
     "text": [
      "✅ Regression model improved with better performance!\n",
      "   MSE: 371.642358 → 369.857168 (lower is better)\n",
      "   R²:  0.996048 → 0.996067 (higher is better)\n",
      "   Features: 27 → 22\n",
      "💾 Registry updated: Model_Training_History/History_Regression.csv\n"
     ]
    }
   ],
   "source": [
    "regression_params = {\n",
    "    'model_name': model_name_for_saving,\n",
    "    'scaler_name': \"RobustScaler\",\n",
    "    'features_list': feature_columns_for_saving,\n",
    "    'target_column': target_name_for_saving,\n",
    "    'mse': mse,\n",
    "    'mae': mae,\n",
    "    'rmse': rmse,\n",
    "    'r2': r2,\n",
    "    'parameters': json.dumps(training_model.get_params())\n",
    "}\n",
    "save_model_performance_if_better('regression', regression_params)"
   ]
  },
  {
   "cell_type": "markdown",
   "id": "3e4b8fe2",
   "metadata": {
    "papermill": {
     "duration": 0.028191,
     "end_time": "2025-08-07T16:25:23.058419",
     "exception": false,
     "start_time": "2025-08-07T16:25:23.030228",
     "status": "completed"
    },
    "tags": []
   },
   "source": [
    "#### Tuning with Grid Search"
   ]
  },
  {
   "cell_type": "code",
   "execution_count": 115,
   "id": "ad971adf",
   "metadata": {
    "execution": {
     "iopub.execute_input": "2025-08-07T16:25:23.118033Z",
     "iopub.status.busy": "2025-08-07T16:25:23.117682Z",
     "iopub.status.idle": "2025-08-07T16:25:23.122044Z",
     "shell.execute_reply": "2025-08-07T16:25:23.121191Z"
    },
    "papermill": {
     "duration": 0.036388,
     "end_time": "2025-08-07T16:25:23.123315",
     "exception": false,
     "start_time": "2025-08-07T16:25:23.086927",
     "status": "completed"
    },
    "tags": []
   },
   "outputs": [],
   "source": [
    "grid_search = GridSearchCV(\n",
    "    DecisionTreeRegressor(random_state=42), \n",
    "    grid_param, \n",
    "    cv=5, \n",
    "    scoring='neg_mean_squared_error', \n",
    "    n_jobs=-1, # allow parallel processing, you cant use your own laptop while this runs\n",
    "    verbose=1\n",
    ")"
   ]
  },
  {
   "cell_type": "code",
   "execution_count": 116,
   "id": "18e6cd1b",
   "metadata": {
    "execution": {
     "iopub.execute_input": "2025-08-07T16:25:23.183427Z",
     "iopub.status.busy": "2025-08-07T16:25:23.183031Z",
     "iopub.status.idle": "2025-08-07T16:31:34.113587Z",
     "shell.execute_reply": "2025-08-07T16:31:34.112265Z"
    },
    "papermill": {
     "duration": 370.990674,
     "end_time": "2025-08-07T16:31:34.143722",
     "exception": false,
     "start_time": "2025-08-07T16:25:23.153048",
     "status": "completed"
    },
    "tags": []
   },
   "outputs": [
    {
     "name": "stdout",
     "output_type": "stream",
     "text": [
      "Starting hyperparameter tuning...\n",
      "Fitting 5 folds for each of 5760 candidates, totalling 28800 fits\n",
      "CPU times: user 17.4 s, sys: 2.2 s, total: 19.6 s\n",
      "Wall time: 6min 10s\n"
     ]
    },
    {
     "data": {
      "text/html": [
       "<style>#sk-container-id-18 {color: black;background-color: white;}#sk-container-id-18 pre{padding: 0;}#sk-container-id-18 div.sk-toggleable {background-color: white;}#sk-container-id-18 label.sk-toggleable__label {cursor: pointer;display: block;width: 100%;margin-bottom: 0;padding: 0.3em;box-sizing: border-box;text-align: center;}#sk-container-id-18 label.sk-toggleable__label-arrow:before {content: \"▸\";float: left;margin-right: 0.25em;color: #696969;}#sk-container-id-18 label.sk-toggleable__label-arrow:hover:before {color: black;}#sk-container-id-18 div.sk-estimator:hover label.sk-toggleable__label-arrow:before {color: black;}#sk-container-id-18 div.sk-toggleable__content {max-height: 0;max-width: 0;overflow: hidden;text-align: left;background-color: #f0f8ff;}#sk-container-id-18 div.sk-toggleable__content pre {margin: 0.2em;color: black;border-radius: 0.25em;background-color: #f0f8ff;}#sk-container-id-18 input.sk-toggleable__control:checked~div.sk-toggleable__content {max-height: 200px;max-width: 100%;overflow: auto;}#sk-container-id-18 input.sk-toggleable__control:checked~label.sk-toggleable__label-arrow:before {content: \"▾\";}#sk-container-id-18 div.sk-estimator input.sk-toggleable__control:checked~label.sk-toggleable__label {background-color: #d4ebff;}#sk-container-id-18 div.sk-label input.sk-toggleable__control:checked~label.sk-toggleable__label {background-color: #d4ebff;}#sk-container-id-18 input.sk-hidden--visually {border: 0;clip: rect(1px 1px 1px 1px);clip: rect(1px, 1px, 1px, 1px);height: 1px;margin: -1px;overflow: hidden;padding: 0;position: absolute;width: 1px;}#sk-container-id-18 div.sk-estimator {font-family: monospace;background-color: #f0f8ff;border: 1px dotted black;border-radius: 0.25em;box-sizing: border-box;margin-bottom: 0.5em;}#sk-container-id-18 div.sk-estimator:hover {background-color: #d4ebff;}#sk-container-id-18 div.sk-parallel-item::after {content: \"\";width: 100%;border-bottom: 1px solid gray;flex-grow: 1;}#sk-container-id-18 div.sk-label:hover label.sk-toggleable__label {background-color: #d4ebff;}#sk-container-id-18 div.sk-serial::before {content: \"\";position: absolute;border-left: 1px solid gray;box-sizing: border-box;top: 0;bottom: 0;left: 50%;z-index: 0;}#sk-container-id-18 div.sk-serial {display: flex;flex-direction: column;align-items: center;background-color: white;padding-right: 0.2em;padding-left: 0.2em;position: relative;}#sk-container-id-18 div.sk-item {position: relative;z-index: 1;}#sk-container-id-18 div.sk-parallel {display: flex;align-items: stretch;justify-content: center;background-color: white;position: relative;}#sk-container-id-18 div.sk-item::before, #sk-container-id-18 div.sk-parallel-item::before {content: \"\";position: absolute;border-left: 1px solid gray;box-sizing: border-box;top: 0;bottom: 0;left: 50%;z-index: -1;}#sk-container-id-18 div.sk-parallel-item {display: flex;flex-direction: column;z-index: 1;position: relative;background-color: white;}#sk-container-id-18 div.sk-parallel-item:first-child::after {align-self: flex-end;width: 50%;}#sk-container-id-18 div.sk-parallel-item:last-child::after {align-self: flex-start;width: 50%;}#sk-container-id-18 div.sk-parallel-item:only-child::after {width: 0;}#sk-container-id-18 div.sk-dashed-wrapped {border: 1px dashed gray;margin: 0 0.4em 0.5em 0.4em;box-sizing: border-box;padding-bottom: 0.4em;background-color: white;}#sk-container-id-18 div.sk-label label {font-family: monospace;font-weight: bold;display: inline-block;line-height: 1.2em;}#sk-container-id-18 div.sk-label-container {text-align: center;}#sk-container-id-18 div.sk-container {/* jupyter's `normalize.less` sets `[hidden] { display: none; }` but bootstrap.min.css set `[hidden] { display: none !important; }` so we also need the `!important` here to be able to override the default hidden behavior on the sphinx rendered scikit-learn.org. See: https://github.com/scikit-learn/scikit-learn/issues/21755 */display: inline-block !important;position: relative;}#sk-container-id-18 div.sk-text-repr-fallback {display: none;}</style><div id=\"sk-container-id-18\" class=\"sk-top-container\"><div class=\"sk-text-repr-fallback\"><pre>GridSearchCV(cv=5, estimator=DecisionTreeRegressor(random_state=42), n_jobs=-1,\n",
       "             param_grid={&#x27;ccp_alpha&#x27;: [0.0, 0.01, 0.02],\n",
       "                         &#x27;criterion&#x27;: [&#x27;squared_error&#x27;, &#x27;friedman_mse&#x27;],\n",
       "                         &#x27;max_depth&#x27;: [None, 5, 10, 15, 25],\n",
       "                         &#x27;max_features&#x27;: [&#x27;sqrt&#x27;, &#x27;log2&#x27;, None, 0.5],\n",
       "                         &#x27;min_impurity_decrease&#x27;: [0.0, 0.01, 0.02],\n",
       "                         &#x27;min_samples_leaf&#x27;: [1, 2, 4, 8],\n",
       "                         &#x27;min_samples_split&#x27;: [2, 5, 10, 20]},\n",
       "             scoring=&#x27;neg_mean_squared_error&#x27;, verbose=1)</pre><b>In a Jupyter environment, please rerun this cell to show the HTML representation or trust the notebook. <br />On GitHub, the HTML representation is unable to render, please try loading this page with nbviewer.org.</b></div><div class=\"sk-container\" hidden><div class=\"sk-item sk-dashed-wrapped\"><div class=\"sk-label-container\"><div class=\"sk-label sk-toggleable\"><input class=\"sk-toggleable__control sk-hidden--visually\" id=\"sk-estimator-id-28\" type=\"checkbox\" ><label for=\"sk-estimator-id-28\" class=\"sk-toggleable__label sk-toggleable__label-arrow\">GridSearchCV</label><div class=\"sk-toggleable__content\"><pre>GridSearchCV(cv=5, estimator=DecisionTreeRegressor(random_state=42), n_jobs=-1,\n",
       "             param_grid={&#x27;ccp_alpha&#x27;: [0.0, 0.01, 0.02],\n",
       "                         &#x27;criterion&#x27;: [&#x27;squared_error&#x27;, &#x27;friedman_mse&#x27;],\n",
       "                         &#x27;max_depth&#x27;: [None, 5, 10, 15, 25],\n",
       "                         &#x27;max_features&#x27;: [&#x27;sqrt&#x27;, &#x27;log2&#x27;, None, 0.5],\n",
       "                         &#x27;min_impurity_decrease&#x27;: [0.0, 0.01, 0.02],\n",
       "                         &#x27;min_samples_leaf&#x27;: [1, 2, 4, 8],\n",
       "                         &#x27;min_samples_split&#x27;: [2, 5, 10, 20]},\n",
       "             scoring=&#x27;neg_mean_squared_error&#x27;, verbose=1)</pre></div></div></div><div class=\"sk-parallel\"><div class=\"sk-parallel-item\"><div class=\"sk-item\"><div class=\"sk-label-container\"><div class=\"sk-label sk-toggleable\"><input class=\"sk-toggleable__control sk-hidden--visually\" id=\"sk-estimator-id-29\" type=\"checkbox\" ><label for=\"sk-estimator-id-29\" class=\"sk-toggleable__label sk-toggleable__label-arrow\">estimator: DecisionTreeRegressor</label><div class=\"sk-toggleable__content\"><pre>DecisionTreeRegressor(random_state=42)</pre></div></div></div><div class=\"sk-serial\"><div class=\"sk-item\"><div class=\"sk-estimator sk-toggleable\"><input class=\"sk-toggleable__control sk-hidden--visually\" id=\"sk-estimator-id-30\" type=\"checkbox\" ><label for=\"sk-estimator-id-30\" class=\"sk-toggleable__label sk-toggleable__label-arrow\">DecisionTreeRegressor</label><div class=\"sk-toggleable__content\"><pre>DecisionTreeRegressor(random_state=42)</pre></div></div></div></div></div></div></div></div></div></div>"
      ],
      "text/plain": [
       "GridSearchCV(cv=5, estimator=DecisionTreeRegressor(random_state=42), n_jobs=-1,\n",
       "             param_grid={'ccp_alpha': [0.0, 0.01, 0.02],\n",
       "                         'criterion': ['squared_error', 'friedman_mse'],\n",
       "                         'max_depth': [None, 5, 10, 15, 25],\n",
       "                         'max_features': ['sqrt', 'log2', None, 0.5],\n",
       "                         'min_impurity_decrease': [0.0, 0.01, 0.02],\n",
       "                         'min_samples_leaf': [1, 2, 4, 8],\n",
       "                         'min_samples_split': [2, 5, 10, 20]},\n",
       "             scoring='neg_mean_squared_error', verbose=1)"
      ]
     },
     "execution_count": 116,
     "metadata": {},
     "output_type": "execute_result"
    }
   ],
   "source": [
    "%%time\n",
    "print(\"Starting hyperparameter tuning...\")\n",
    "grid_search.fit(X_train, y_train)"
   ]
  },
  {
   "cell_type": "code",
   "execution_count": 117,
   "id": "bcd68eab",
   "metadata": {
    "execution": {
     "iopub.execute_input": "2025-08-07T16:31:34.203327Z",
     "iopub.status.busy": "2025-08-07T16:31:34.203004Z",
     "iopub.status.idle": "2025-08-07T16:31:34.208623Z",
     "shell.execute_reply": "2025-08-07T16:31:34.207789Z"
    },
    "papermill": {
     "duration": 0.03768,
     "end_time": "2025-08-07T16:31:34.210098",
     "exception": false,
     "start_time": "2025-08-07T16:31:34.172418",
     "status": "completed"
    },
    "tags": []
   },
   "outputs": [
    {
     "name": "stdout",
     "output_type": "stream",
     "text": [
      "TUNING RESULTS\n",
      "==================================================\n",
      "Best Parameters: {'ccp_alpha': 0.02, 'criterion': 'friedman_mse', 'max_depth': 10, 'max_features': None, 'min_impurity_decrease': 0.0, 'min_samples_leaf': 8, 'min_samples_split': 20}\n",
      "Best Cross-Validation Score (Negative MSE): -243.0570810506339\n",
      "Best Cross-Validation Score (MSE): 243.0570810506339\n",
      "Best Cross-Validation Score (RMSE): 15.590288036166424\n"
     ]
    }
   ],
   "source": [
    "print(\"TUNING RESULTS\")\n",
    "print(\"=\"*50)\n",
    "print(\"Best Parameters:\", grid_search.best_params_)\n",
    "print(\"Best Cross-Validation Score (Negative MSE):\", grid_search.best_score_)\n",
    "print(\"Best Cross-Validation Score (MSE):\", -grid_search.best_score_)\n",
    "print(\"Best Cross-Validation Score (RMSE):\", math.sqrt(-grid_search.best_score_))"
   ]
  },
  {
   "cell_type": "code",
   "execution_count": 118,
   "id": "83a51100",
   "metadata": {
    "execution": {
     "iopub.execute_input": "2025-08-07T16:31:34.271707Z",
     "iopub.status.busy": "2025-08-07T16:31:34.271373Z",
     "iopub.status.idle": "2025-08-07T16:31:34.276186Z",
     "shell.execute_reply": "2025-08-07T16:31:34.275411Z"
    },
    "papermill": {
     "duration": 0.036433,
     "end_time": "2025-08-07T16:31:34.277751",
     "exception": false,
     "start_time": "2025-08-07T16:31:34.241318",
     "status": "completed"
    },
    "tags": []
   },
   "outputs": [],
   "source": [
    "grid_search_best_model = grid_search.best_estimator_\n",
    "y_pred = grid_search_best_model.predict(X_test)"
   ]
  },
  {
   "cell_type": "code",
   "execution_count": 119,
   "id": "6e734730",
   "metadata": {
    "execution": {
     "iopub.execute_input": "2025-08-07T16:31:34.337159Z",
     "iopub.status.busy": "2025-08-07T16:31:34.336868Z",
     "iopub.status.idle": "2025-08-07T16:31:34.343923Z",
     "shell.execute_reply": "2025-08-07T16:31:34.343100Z"
    },
    "papermill": {
     "duration": 0.038517,
     "end_time": "2025-08-07T16:31:34.345358",
     "exception": false,
     "start_time": "2025-08-07T16:31:34.306841",
     "status": "completed"
    },
    "tags": []
   },
   "outputs": [],
   "source": [
    "mse_grid_search = mean_squared_error(y_test, y_pred)\n",
    "mae_grid_search = mean_absolute_error(y_test, y_pred)\n",
    "r2_grid_search = r2_score(y_test, y_pred)\n",
    "rmse_grid_search = math.sqrt(mse_grid_search)"
   ]
  },
  {
   "cell_type": "code",
   "execution_count": 120,
   "id": "5b2ec852",
   "metadata": {
    "execution": {
     "iopub.execute_input": "2025-08-07T16:31:34.405984Z",
     "iopub.status.busy": "2025-08-07T16:31:34.405692Z",
     "iopub.status.idle": "2025-08-07T16:31:34.410661Z",
     "shell.execute_reply": "2025-08-07T16:31:34.409803Z"
    },
    "papermill": {
     "duration": 0.036053,
     "end_time": "2025-08-07T16:31:34.411938",
     "exception": false,
     "start_time": "2025-08-07T16:31:34.375885",
     "status": "completed"
    },
    "tags": []
   },
   "outputs": [
    {
     "name": "stdout",
     "output_type": "stream",
     "text": [
      "MSE Score: 256.7881780233198\n",
      "MAE Score: 9.060934517993607\n",
      "R2 Score: 0.9972693299908199\n",
      "RMSE Score: 16.024611634087105\n"
     ]
    }
   ],
   "source": [
    "print(\"MSE Score:\", mse_grid_search)\n",
    "print(\"MAE Score:\", mae_grid_search)\n",
    "print(\"R2 Score:\", r2_grid_search)\n",
    "print(\"RMSE Score:\", rmse_grid_search)"
   ]
  },
  {
   "cell_type": "code",
   "execution_count": 121,
   "id": "f6f466ab",
   "metadata": {
    "execution": {
     "iopub.execute_input": "2025-08-07T16:31:34.472880Z",
     "iopub.status.busy": "2025-08-07T16:31:34.472392Z",
     "iopub.status.idle": "2025-08-07T16:31:34.485936Z",
     "shell.execute_reply": "2025-08-07T16:31:34.485031Z"
    },
    "papermill": {
     "duration": 0.045955,
     "end_time": "2025-08-07T16:31:34.487240",
     "exception": false,
     "start_time": "2025-08-07T16:31:34.441285",
     "status": "completed"
    },
    "tags": []
   },
   "outputs": [
    {
     "name": "stdout",
     "output_type": "stream",
     "text": [
      "✅ Regression model improved with same performance but fewer features!\n",
      "   MSE: 254.904333 ≈ 256.788178 (similar)\n",
      "   R²:  0.997289 ≈ 0.997269 (similar)\n",
      "   Features: 27 → 22 (🎯 5 fewer features!)\n",
      "💾 Registry updated: Model_Training_History/History_Regression.csv\n"
     ]
    }
   ],
   "source": [
    "regression_params = {\n",
    "    'model_name': model_name_for_saving + \" Tuned\",\n",
    "    'scaler_name': \"RobustScaler\",\n",
    "    'features_list': feature_columns_for_saving,\n",
    "    'target_column': target_name_for_saving,\n",
    "    'mse': mse_grid_search,\n",
    "    'mae': mae_grid_search,\n",
    "    'rmse': rmse_grid_search,\n",
    "    'r2': r2_grid_search,\n",
    "    'parameters' : json.dumps({\n",
    "        \"best_params\": grid_search.best_params_,\n",
    "        \"cv_score\": grid_search.best_score_,\n",
    "        \"all_params\": grid_search_best_model.get_params()\n",
    "    })\n",
    "}\n",
    "save_model_performance_if_better('regression', regression_params)"
   ]
  },
  {
   "cell_type": "markdown",
   "id": "dccfc8ab",
   "metadata": {
    "papermill": {
     "duration": 0.029104,
     "end_time": "2025-08-07T16:31:34.546242",
     "exception": false,
     "start_time": "2025-08-07T16:31:34.517138",
     "status": "completed"
    },
    "tags": []
   },
   "source": [
    "# All Performance"
   ]
  },
  {
   "cell_type": "code",
   "execution_count": 122,
   "id": "1e832750",
   "metadata": {
    "execution": {
     "iopub.execute_input": "2025-08-07T16:31:34.609474Z",
     "iopub.status.busy": "2025-08-07T16:31:34.609214Z",
     "iopub.status.idle": "2025-08-07T16:31:34.623303Z",
     "shell.execute_reply": "2025-08-07T16:31:34.622399Z"
    },
    "papermill": {
     "duration": 0.04616,
     "end_time": "2025-08-07T16:31:34.624830",
     "exception": false,
     "start_time": "2025-08-07T16:31:34.578670",
     "status": "completed"
    },
    "tags": []
   },
   "outputs": [
    {
     "name": "stdout",
     "output_type": "stream",
     "text": [
      "\n",
      "📊 REGRESSION Model Performance History\n",
      "====================================================================================================\n",
      "              Model         Scaler         Target  Features        MSE       MAE      RMSE       R²\n",
      "Decision Tree Tuned StandardScaler SolarRadiation        22 256.788178  9.060935 16.024612 0.997269\n",
      "Decision Tree Tuned   RobustScaler SolarRadiation        22 256.788178  9.060935 16.024612 0.997269\n",
      "Decision Tree Tuned   MinMaxScaler SolarRadiation        22 257.330152  9.067974 16.041513 0.997264\n",
      "      Decision Tree   RobustScaler SolarRadiation        22 369.857168 10.355161 19.231671 0.996067\n",
      "      Decision Tree   MinMaxScaler SolarRadiation        22 370.427322 10.371563 19.246489 0.996061\n",
      "      Decision Tree StandardScaler SolarRadiation        22 370.743162 10.377367 19.254692 0.996058\n",
      "\n",
      "📈 Total models shown: 6\n",
      "🏆 Best R² Score: 0.997269 (Decision Tree Tuned + StandardScaler for SolarRadiation)\n"
     ]
    }
   ],
   "source": [
    "show_model_history('regression', model_name=model_name_for_saving, target_column=target_name_for_saving)"
   ]
  },
  {
   "cell_type": "markdown",
   "id": "c237c71a",
   "metadata": {
    "papermill": {
     "duration": 0.030556,
     "end_time": "2025-08-07T16:31:34.685505",
     "exception": false,
     "start_time": "2025-08-07T16:31:34.654949",
     "status": "completed"
    },
    "tags": []
   },
   "source": [
    "# <center><font size=\"50\" color=\"red\">Thank You</font></center>"
   ]
  }
 ],
 "metadata": {
  "kaggle": {
   "accelerator": "none",
   "dataSources": [
    {
     "datasetId": 7943485,
     "sourceId": 12698463,
     "sourceType": "datasetVersion"
    }
   ],
   "isGpuEnabled": false,
   "isInternetEnabled": true,
   "language": "python",
   "sourceType": "notebook"
  },
  "kernelspec": {
   "display_name": ".venv",
   "language": "python",
   "name": "python3"
  },
  "language_info": {
   "codemirror_mode": {
    "name": "ipython",
    "version": 3
   },
   "file_extension": ".py",
   "mimetype": "text/x-python",
   "name": "python",
   "nbconvert_exporter": "python",
   "pygments_lexer": "ipython3",
   "version": "3.11.13"
  },
  "papermill": {
   "default_parameters": {},
   "duration": 2592.531842,
   "end_time": "2025-08-07T16:31:37.338234",
   "environment_variables": {},
   "exception": null,
   "input_path": "__notebook__.ipynb",
   "output_path": "__notebook__.ipynb",
   "parameters": {},
   "start_time": "2025-08-07T15:48:24.806392",
   "version": "2.6.0"
  }
 },
 "nbformat": 4,
 "nbformat_minor": 5
}
