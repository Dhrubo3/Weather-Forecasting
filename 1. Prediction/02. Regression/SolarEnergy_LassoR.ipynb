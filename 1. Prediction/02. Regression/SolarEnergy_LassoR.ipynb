{
 "cells": [
  {
   "cell_type": "markdown",
   "id": "1be13930",
   "metadata": {
    "papermill": {
     "duration": 0.029357,
     "end_time": "2025-08-11T12:55:10.308510",
     "exception": false,
     "start_time": "2025-08-11T12:55:10.279153",
     "status": "completed"
    },
    "tags": []
   },
   "source": [
    "# <font color=\"red\">Solar Energy Prediction with Lasso Regressor</font>"
   ]
  },
  {
   "cell_type": "markdown",
   "id": "e9ccc347",
   "metadata": {
    "papermill": {
     "duration": 0.014425,
     "end_time": "2025-08-11T12:55:10.343706",
     "exception": false,
     "start_time": "2025-08-11T12:55:10.329281",
     "status": "completed"
    },
    "tags": []
   },
   "source": [
    "# Library Import"
   ]
  },
  {
   "cell_type": "code",
   "execution_count": 1,
   "id": "87921967",
   "metadata": {
    "execution": {
     "iopub.execute_input": "2025-08-11T12:55:10.380805Z",
     "iopub.status.busy": "2025-08-11T12:55:10.379913Z",
     "iopub.status.idle": "2025-08-11T12:55:13.831956Z",
     "shell.execute_reply": "2025-08-11T12:55:13.831024Z"
    },
    "papermill": {
     "duration": 3.47188,
     "end_time": "2025-08-11T12:55:13.833680",
     "exception": false,
     "start_time": "2025-08-11T12:55:10.361800",
     "status": "completed"
    },
    "tags": []
   },
   "outputs": [],
   "source": [
    "# Data manipulation and visualization\n",
    "import pandas as pd\n",
    "import math\n",
    "import json\n",
    "\n",
    "# Preprocessing\n",
    "from sklearn.model_selection import StratifiedShuffleSplit, GridSearchCV\n",
    "from sklearn.preprocessing import MinMaxScaler, StandardScaler, RobustScaler\n",
    "from sklearn.metrics import r2_score, mean_squared_error, mean_absolute_error\n",
    "from sklearn.linear_model import Lasso as LassoR\n",
    "\n",
    "import sys\n",
    "# sys.path.append('../../') # Uncomment this line if running locally\n",
    "sys.path.append('/kaggle/input/weatherdata') # Uncomment this line if running on Kaggle\n",
    "from historyManagement import *\n",
    "\n",
    "# suppress warnings\n",
    "import warnings\n",
    "warnings.filterwarnings(\"ignore\")"
   ]
  },
  {
   "cell_type": "markdown",
   "id": "726e56ab",
   "metadata": {
    "papermill": {
     "duration": 0.014315,
     "end_time": "2025-08-11T12:55:13.862876",
     "exception": false,
     "start_time": "2025-08-11T12:55:13.848561",
     "status": "completed"
    },
    "tags": []
   },
   "source": [
    "# Datasets Import"
   ]
  },
  {
   "cell_type": "code",
   "execution_count": 2,
   "id": "ba882f11",
   "metadata": {
    "execution": {
     "iopub.execute_input": "2025-08-11T12:55:13.893694Z",
     "iopub.status.busy": "2025-08-11T12:55:13.893228Z",
     "iopub.status.idle": "2025-08-11T12:55:14.055381Z",
     "shell.execute_reply": "2025-08-11T12:55:14.054461Z"
    },
    "papermill": {
     "duration": 0.17931,
     "end_time": "2025-08-11T12:55:14.056888",
     "exception": false,
     "start_time": "2025-08-11T12:55:13.877578",
     "status": "completed"
    },
    "tags": []
   },
   "outputs": [
    {
     "data": {
      "text/html": [
       "<div>\n",
       "<style scoped>\n",
       "    .dataframe tbody tr th:only-of-type {\n",
       "        vertical-align: middle;\n",
       "    }\n",
       "\n",
       "    .dataframe tbody tr th {\n",
       "        vertical-align: top;\n",
       "    }\n",
       "\n",
       "    .dataframe thead th {\n",
       "        text-align: right;\n",
       "    }\n",
       "</style>\n",
       "<table border=\"1\" class=\"dataframe\">\n",
       "  <thead>\n",
       "    <tr style=\"text-align: right;\">\n",
       "      <th></th>\n",
       "      <th>DateTime</th>\n",
       "      <th>Year</th>\n",
       "      <th>Month</th>\n",
       "      <th>Day</th>\n",
       "      <th>Hour</th>\n",
       "      <th>DaySegments</th>\n",
       "      <th>DaySegments_Afternoon</th>\n",
       "      <th>DaySegments_Early Morning</th>\n",
       "      <th>DaySegments_Evening</th>\n",
       "      <th>DaySegments_Late Night</th>\n",
       "      <th>...</th>\n",
       "      <th>WindDir</th>\n",
       "      <th>SeaLevelPressure</th>\n",
       "      <th>CloudCover</th>\n",
       "      <th>UVIndex</th>\n",
       "      <th>SevereRisk</th>\n",
       "      <th>Visibility</th>\n",
       "      <th>SolarRadiation</th>\n",
       "      <th>SolarEnergy</th>\n",
       "      <th>Conditions</th>\n",
       "      <th>Icon</th>\n",
       "    </tr>\n",
       "  </thead>\n",
       "  <tbody>\n",
       "    <tr>\n",
       "      <th>0</th>\n",
       "      <td>2023-01-01 00:00:00</td>\n",
       "      <td>2023</td>\n",
       "      <td>1</td>\n",
       "      <td>1</td>\n",
       "      <td>0</td>\n",
       "      <td>Late Night</td>\n",
       "      <td>0</td>\n",
       "      <td>0</td>\n",
       "      <td>0</td>\n",
       "      <td>1</td>\n",
       "      <td>...</td>\n",
       "      <td>0.49</td>\n",
       "      <td>1018.68</td>\n",
       "      <td>0.03</td>\n",
       "      <td>0.0</td>\n",
       "      <td>10.0</td>\n",
       "      <td>2.76</td>\n",
       "      <td>0.0</td>\n",
       "      <td>0.0</td>\n",
       "      <td>Clear</td>\n",
       "      <td>clear-night</td>\n",
       "    </tr>\n",
       "    <tr>\n",
       "      <th>1</th>\n",
       "      <td>2023-01-01 01:00:00</td>\n",
       "      <td>2023</td>\n",
       "      <td>1</td>\n",
       "      <td>1</td>\n",
       "      <td>1</td>\n",
       "      <td>Late Night</td>\n",
       "      <td>0</td>\n",
       "      <td>0</td>\n",
       "      <td>0</td>\n",
       "      <td>1</td>\n",
       "      <td>...</td>\n",
       "      <td>0.54</td>\n",
       "      <td>1018.03</td>\n",
       "      <td>0.11</td>\n",
       "      <td>0.0</td>\n",
       "      <td>10.0</td>\n",
       "      <td>1.75</td>\n",
       "      <td>0.0</td>\n",
       "      <td>0.0</td>\n",
       "      <td>Clear</td>\n",
       "      <td>clear-night</td>\n",
       "    </tr>\n",
       "    <tr>\n",
       "      <th>2</th>\n",
       "      <td>2023-01-01 02:00:00</td>\n",
       "      <td>2023</td>\n",
       "      <td>1</td>\n",
       "      <td>1</td>\n",
       "      <td>2</td>\n",
       "      <td>Late Night</td>\n",
       "      <td>0</td>\n",
       "      <td>0</td>\n",
       "      <td>0</td>\n",
       "      <td>1</td>\n",
       "      <td>...</td>\n",
       "      <td>30.51</td>\n",
       "      <td>1017.56</td>\n",
       "      <td>0.03</td>\n",
       "      <td>0.0</td>\n",
       "      <td>10.0</td>\n",
       "      <td>1.75</td>\n",
       "      <td>0.0</td>\n",
       "      <td>0.0</td>\n",
       "      <td>Clear</td>\n",
       "      <td>clear-night</td>\n",
       "    </tr>\n",
       "    <tr>\n",
       "      <th>3</th>\n",
       "      <td>2023-01-01 03:00:00</td>\n",
       "      <td>2023</td>\n",
       "      <td>1</td>\n",
       "      <td>1</td>\n",
       "      <td>3</td>\n",
       "      <td>Late Night</td>\n",
       "      <td>0</td>\n",
       "      <td>0</td>\n",
       "      <td>0</td>\n",
       "      <td>1</td>\n",
       "      <td>...</td>\n",
       "      <td>49.23</td>\n",
       "      <td>1018.05</td>\n",
       "      <td>0.00</td>\n",
       "      <td>0.0</td>\n",
       "      <td>10.0</td>\n",
       "      <td>2.28</td>\n",
       "      <td>0.0</td>\n",
       "      <td>0.0</td>\n",
       "      <td>Clear</td>\n",
       "      <td>clear-night</td>\n",
       "    </tr>\n",
       "    <tr>\n",
       "      <th>4</th>\n",
       "      <td>2023-01-01 04:00:00</td>\n",
       "      <td>2023</td>\n",
       "      <td>1</td>\n",
       "      <td>1</td>\n",
       "      <td>4</td>\n",
       "      <td>Late Night</td>\n",
       "      <td>0</td>\n",
       "      <td>0</td>\n",
       "      <td>0</td>\n",
       "      <td>1</td>\n",
       "      <td>...</td>\n",
       "      <td>49.90</td>\n",
       "      <td>1018.00</td>\n",
       "      <td>86.17</td>\n",
       "      <td>0.0</td>\n",
       "      <td>10.0</td>\n",
       "      <td>1.27</td>\n",
       "      <td>0.0</td>\n",
       "      <td>0.0</td>\n",
       "      <td>Partially cloudy</td>\n",
       "      <td>fog</td>\n",
       "    </tr>\n",
       "  </tbody>\n",
       "</table>\n",
       "<p>5 rows × 36 columns</p>\n",
       "</div>"
      ],
      "text/plain": [
       "             DateTime  Year  Month  Day  Hour DaySegments  \\\n",
       "0 2023-01-01 00:00:00  2023      1    1     0  Late Night   \n",
       "1 2023-01-01 01:00:00  2023      1    1     1  Late Night   \n",
       "2 2023-01-01 02:00:00  2023      1    1     2  Late Night   \n",
       "3 2023-01-01 03:00:00  2023      1    1     3  Late Night   \n",
       "4 2023-01-01 04:00:00  2023      1    1     4  Late Night   \n",
       "\n",
       "   DaySegments_Afternoon  DaySegments_Early Morning  DaySegments_Evening  \\\n",
       "0                      0                          0                    0   \n",
       "1                      0                          0                    0   \n",
       "2                      0                          0                    0   \n",
       "3                      0                          0                    0   \n",
       "4                      0                          0                    0   \n",
       "\n",
       "   DaySegments_Late Night  ...  WindDir  SeaLevelPressure  CloudCover  \\\n",
       "0                       1  ...     0.49           1018.68        0.03   \n",
       "1                       1  ...     0.54           1018.03        0.11   \n",
       "2                       1  ...    30.51           1017.56        0.03   \n",
       "3                       1  ...    49.23           1018.05        0.00   \n",
       "4                       1  ...    49.90           1018.00       86.17   \n",
       "\n",
       "   UVIndex  SevereRisk  Visibility  SolarRadiation SolarEnergy  \\\n",
       "0      0.0        10.0        2.76             0.0         0.0   \n",
       "1      0.0        10.0        1.75             0.0         0.0   \n",
       "2      0.0        10.0        1.75             0.0         0.0   \n",
       "3      0.0        10.0        2.28             0.0         0.0   \n",
       "4      0.0        10.0        1.27             0.0         0.0   \n",
       "\n",
       "         Conditions         Icon  \n",
       "0             Clear  clear-night  \n",
       "1             Clear  clear-night  \n",
       "2             Clear  clear-night  \n",
       "3             Clear  clear-night  \n",
       "4  Partially cloudy          fog  \n",
       "\n",
       "[5 rows x 36 columns]"
      ]
     },
     "execution_count": 2,
     "metadata": {},
     "output_type": "execute_result"
    }
   ],
   "source": [
    "# Load the weather dataset for SolarEnergy prediction\n",
    "# weather_data = pd.read_csv('../../FinalDatasets/finalDataset.csv') # Uncomment this line if running locally\n",
    "weather_data = pd.read_csv('/kaggle/input/weatherdata/finalDataset.csv') # Uncomment this line if running on Kaggle\n",
    "weather_data['DateTime'] = pd.to_datetime(weather_data['DateTime'])\n",
    "weather_data.head()"
   ]
  },
  {
   "cell_type": "code",
   "execution_count": 3,
   "id": "72987e7d",
   "metadata": {
    "execution": {
     "iopub.execute_input": "2025-08-11T12:55:14.090715Z",
     "iopub.status.busy": "2025-08-11T12:55:14.090008Z",
     "iopub.status.idle": "2025-08-11T12:55:14.115711Z",
     "shell.execute_reply": "2025-08-11T12:55:14.114575Z"
    },
    "papermill": {
     "duration": 0.043272,
     "end_time": "2025-08-11T12:55:14.117183",
     "exception": false,
     "start_time": "2025-08-11T12:55:14.073911",
     "status": "completed"
    },
    "tags": []
   },
   "outputs": [
    {
     "name": "stdout",
     "output_type": "stream",
     "text": [
      "<class 'pandas.core.frame.DataFrame'>\n",
      "RangeIndex: 14616 entries, 0 to 14615\n",
      "Data columns (total 36 columns):\n",
      " #   Column                     Non-Null Count  Dtype         \n",
      "---  ------                     --------------  -----         \n",
      " 0   DateTime                   14616 non-null  datetime64[ns]\n",
      " 1   Year                       14616 non-null  int64         \n",
      " 2   Month                      14616 non-null  int64         \n",
      " 3   Day                        14616 non-null  int64         \n",
      " 4   Hour                       14616 non-null  int64         \n",
      " 5   DaySegments                14616 non-null  object        \n",
      " 6   DaySegments_Afternoon      14616 non-null  int64         \n",
      " 7   DaySegments_Early Morning  14616 non-null  int64         \n",
      " 8   DaySegments_Evening        14616 non-null  int64         \n",
      " 9   DaySegments_Late Night     14616 non-null  int64         \n",
      " 10  DaySegments_Midday         14616 non-null  int64         \n",
      " 11  DaySegments_Morning        14616 non-null  int64         \n",
      " 12  DaySegments_Night          14616 non-null  int64         \n",
      " 13  Season_Autumn              14616 non-null  int64         \n",
      " 14  Season_Rainy               14616 non-null  int64         \n",
      " 15  Season_Summer              14616 non-null  int64         \n",
      " 16  Season_Winter              14616 non-null  int64         \n",
      " 17  Season                     14616 non-null  object        \n",
      " 18  Temp                       14616 non-null  float64       \n",
      " 19  FeelsLike                  14616 non-null  float64       \n",
      " 20  Dew                        14616 non-null  float64       \n",
      " 21  Humidity                   14616 non-null  float64       \n",
      " 22  Precip                     14616 non-null  float64       \n",
      " 23  PrecipProb                 14616 non-null  float64       \n",
      " 24  Windgust                   14616 non-null  float64       \n",
      " 25  WindSpeed                  14616 non-null  float64       \n",
      " 26  WindDir                    14616 non-null  float64       \n",
      " 27  SeaLevelPressure           14616 non-null  float64       \n",
      " 28  CloudCover                 14616 non-null  float64       \n",
      " 29  UVIndex                    14616 non-null  float64       \n",
      " 30  SevereRisk                 14616 non-null  float64       \n",
      " 31  Visibility                 14616 non-null  float64       \n",
      " 32  SolarRadiation             14616 non-null  float64       \n",
      " 33  SolarEnergy                14616 non-null  float64       \n",
      " 34  Conditions                 14616 non-null  object        \n",
      " 35  Icon                       14616 non-null  object        \n",
      "dtypes: datetime64[ns](1), float64(16), int64(15), object(4)\n",
      "memory usage: 4.0+ MB\n"
     ]
    }
   ],
   "source": [
    "weather_data.info()"
   ]
  },
  {
   "cell_type": "code",
   "execution_count": 4,
   "id": "c8aff1a6",
   "metadata": {
    "execution": {
     "iopub.execute_input": "2025-08-11T12:55:14.212235Z",
     "iopub.status.busy": "2025-08-11T12:55:14.211406Z",
     "iopub.status.idle": "2025-08-11T12:55:14.289479Z",
     "shell.execute_reply": "2025-08-11T12:55:14.288640Z"
    },
    "papermill": {
     "duration": 0.096029,
     "end_time": "2025-08-11T12:55:14.290803",
     "exception": false,
     "start_time": "2025-08-11T12:55:14.194774",
     "status": "completed"
    },
    "tags": []
   },
   "outputs": [
    {
     "data": {
      "text/html": [
       "<div>\n",
       "<style scoped>\n",
       "    .dataframe tbody tr th:only-of-type {\n",
       "        vertical-align: middle;\n",
       "    }\n",
       "\n",
       "    .dataframe tbody tr th {\n",
       "        vertical-align: top;\n",
       "    }\n",
       "\n",
       "    .dataframe thead th {\n",
       "        text-align: right;\n",
       "    }\n",
       "</style>\n",
       "<table border=\"1\" class=\"dataframe\">\n",
       "  <thead>\n",
       "    <tr style=\"text-align: right;\">\n",
       "      <th></th>\n",
       "      <th>DateTime</th>\n",
       "      <th>Year</th>\n",
       "      <th>Month</th>\n",
       "      <th>Day</th>\n",
       "      <th>Hour</th>\n",
       "      <th>DaySegments_Afternoon</th>\n",
       "      <th>DaySegments_Early Morning</th>\n",
       "      <th>DaySegments_Evening</th>\n",
       "      <th>DaySegments_Late Night</th>\n",
       "      <th>DaySegments_Midday</th>\n",
       "      <th>...</th>\n",
       "      <th>Windgust</th>\n",
       "      <th>WindSpeed</th>\n",
       "      <th>WindDir</th>\n",
       "      <th>SeaLevelPressure</th>\n",
       "      <th>CloudCover</th>\n",
       "      <th>UVIndex</th>\n",
       "      <th>SevereRisk</th>\n",
       "      <th>Visibility</th>\n",
       "      <th>SolarRadiation</th>\n",
       "      <th>SolarEnergy</th>\n",
       "    </tr>\n",
       "  </thead>\n",
       "  <tbody>\n",
       "    <tr>\n",
       "      <th>count</th>\n",
       "      <td>14616</td>\n",
       "      <td>14616.000000</td>\n",
       "      <td>14616.000000</td>\n",
       "      <td>14616.000000</td>\n",
       "      <td>14616.000000</td>\n",
       "      <td>14616.000000</td>\n",
       "      <td>14616.000000</td>\n",
       "      <td>14616.000000</td>\n",
       "      <td>14616.000000</td>\n",
       "      <td>14616.000000</td>\n",
       "      <td>...</td>\n",
       "      <td>14616.000000</td>\n",
       "      <td>14616.000000</td>\n",
       "      <td>14616.000000</td>\n",
       "      <td>14616.000000</td>\n",
       "      <td>14616.000000</td>\n",
       "      <td>14616.000000</td>\n",
       "      <td>14616.000000</td>\n",
       "      <td>14616.000000</td>\n",
       "      <td>14616.000000</td>\n",
       "      <td>14616.000000</td>\n",
       "    </tr>\n",
       "    <tr>\n",
       "      <th>mean</th>\n",
       "      <td>2023-11-01 11:30:00</td>\n",
       "      <td>2023.400657</td>\n",
       "      <td>5.720854</td>\n",
       "      <td>15.735632</td>\n",
       "      <td>11.500000</td>\n",
       "      <td>0.131294</td>\n",
       "      <td>0.060550</td>\n",
       "      <td>0.098043</td>\n",
       "      <td>0.249726</td>\n",
       "      <td>0.116585</td>\n",
       "      <td>...</td>\n",
       "      <td>17.068560</td>\n",
       "      <td>8.090783</td>\n",
       "      <td>159.739178</td>\n",
       "      <td>1008.265012</td>\n",
       "      <td>53.579923</td>\n",
       "      <td>2.263555</td>\n",
       "      <td>16.504787</td>\n",
       "      <td>4.368134</td>\n",
       "      <td>227.640683</td>\n",
       "      <td>0.819217</td>\n",
       "    </tr>\n",
       "    <tr>\n",
       "      <th>min</th>\n",
       "      <td>2023-01-01 00:00:00</td>\n",
       "      <td>2023.000000</td>\n",
       "      <td>1.000000</td>\n",
       "      <td>1.000000</td>\n",
       "      <td>0.000000</td>\n",
       "      <td>0.000000</td>\n",
       "      <td>0.000000</td>\n",
       "      <td>0.000000</td>\n",
       "      <td>0.000000</td>\n",
       "      <td>0.000000</td>\n",
       "      <td>...</td>\n",
       "      <td>0.660000</td>\n",
       "      <td>0.000000</td>\n",
       "      <td>0.000000</td>\n",
       "      <td>982.420000</td>\n",
       "      <td>0.000000</td>\n",
       "      <td>0.000000</td>\n",
       "      <td>3.000000</td>\n",
       "      <td>0.000000</td>\n",
       "      <td>0.000000</td>\n",
       "      <td>0.000000</td>\n",
       "    </tr>\n",
       "    <tr>\n",
       "      <th>25%</th>\n",
       "      <td>2023-06-02 05:45:00</td>\n",
       "      <td>2023.000000</td>\n",
       "      <td>3.000000</td>\n",
       "      <td>8.000000</td>\n",
       "      <td>5.750000</td>\n",
       "      <td>0.000000</td>\n",
       "      <td>0.000000</td>\n",
       "      <td>0.000000</td>\n",
       "      <td>0.000000</td>\n",
       "      <td>0.000000</td>\n",
       "      <td>...</td>\n",
       "      <td>9.170000</td>\n",
       "      <td>2.870000</td>\n",
       "      <td>80.965000</td>\n",
       "      <td>1003.277500</td>\n",
       "      <td>26.670000</td>\n",
       "      <td>0.000000</td>\n",
       "      <td>10.000000</td>\n",
       "      <td>3.990000</td>\n",
       "      <td>0.000000</td>\n",
       "      <td>0.000000</td>\n",
       "    </tr>\n",
       "    <tr>\n",
       "      <th>50%</th>\n",
       "      <td>2023-11-01 11:30:00</td>\n",
       "      <td>2023.000000</td>\n",
       "      <td>6.000000</td>\n",
       "      <td>16.000000</td>\n",
       "      <td>11.500000</td>\n",
       "      <td>0.000000</td>\n",
       "      <td>0.000000</td>\n",
       "      <td>0.000000</td>\n",
       "      <td>0.000000</td>\n",
       "      <td>0.000000</td>\n",
       "      <td>...</td>\n",
       "      <td>14.645000</td>\n",
       "      <td>7.670000</td>\n",
       "      <td>163.790000</td>\n",
       "      <td>1007.970000</td>\n",
       "      <td>51.540000</td>\n",
       "      <td>0.000000</td>\n",
       "      <td>10.000000</td>\n",
       "      <td>4.650000</td>\n",
       "      <td>10.665000</td>\n",
       "      <td>0.010000</td>\n",
       "    </tr>\n",
       "    <tr>\n",
       "      <th>75%</th>\n",
       "      <td>2024-04-01 17:15:00</td>\n",
       "      <td>2024.000000</td>\n",
       "      <td>8.000000</td>\n",
       "      <td>23.000000</td>\n",
       "      <td>17.250000</td>\n",
       "      <td>0.000000</td>\n",
       "      <td>0.000000</td>\n",
       "      <td>0.000000</td>\n",
       "      <td>0.000000</td>\n",
       "      <td>0.000000</td>\n",
       "      <td>...</td>\n",
       "      <td>23.410000</td>\n",
       "      <td>11.750000</td>\n",
       "      <td>241.402500</td>\n",
       "      <td>1013.400000</td>\n",
       "      <td>87.790000</td>\n",
       "      <td>4.740000</td>\n",
       "      <td>12.580000</td>\n",
       "      <td>4.650000</td>\n",
       "      <td>459.745000</td>\n",
       "      <td>1.660000</td>\n",
       "    </tr>\n",
       "    <tr>\n",
       "      <th>max</th>\n",
       "      <td>2024-08-31 23:00:00</td>\n",
       "      <td>2024.000000</td>\n",
       "      <td>12.000000</td>\n",
       "      <td>31.000000</td>\n",
       "      <td>23.000000</td>\n",
       "      <td>1.000000</td>\n",
       "      <td>1.000000</td>\n",
       "      <td>1.000000</td>\n",
       "      <td>1.000000</td>\n",
       "      <td>1.000000</td>\n",
       "      <td>...</td>\n",
       "      <td>84.120000</td>\n",
       "      <td>71.970000</td>\n",
       "      <td>360.000000</td>\n",
       "      <td>1022.060000</td>\n",
       "      <td>100.000000</td>\n",
       "      <td>10.000000</td>\n",
       "      <td>97.740000</td>\n",
       "      <td>24.100000</td>\n",
       "      <td>1026.650000</td>\n",
       "      <td>3.700000</td>\n",
       "    </tr>\n",
       "    <tr>\n",
       "      <th>std</th>\n",
       "      <td>NaN</td>\n",
       "      <td>0.490048</td>\n",
       "      <td>3.195073</td>\n",
       "      <td>8.803610</td>\n",
       "      <td>6.922423</td>\n",
       "      <td>0.337734</td>\n",
       "      <td>0.238511</td>\n",
       "      <td>0.297383</td>\n",
       "      <td>0.432869</td>\n",
       "      <td>0.320936</td>\n",
       "      <td>...</td>\n",
       "      <td>10.195911</td>\n",
       "      <td>6.250203</td>\n",
       "      <td>104.422027</td>\n",
       "      <td>6.010683</td>\n",
       "      <td>35.166637</td>\n",
       "      <td>3.083074</td>\n",
       "      <td>15.031827</td>\n",
       "      <td>1.376994</td>\n",
       "      <td>307.219387</td>\n",
       "      <td>1.106444</td>\n",
       "    </tr>\n",
       "  </tbody>\n",
       "</table>\n",
       "<p>8 rows × 32 columns</p>\n",
       "</div>"
      ],
      "text/plain": [
       "                  DateTime          Year         Month           Day  \\\n",
       "count                14616  14616.000000  14616.000000  14616.000000   \n",
       "mean   2023-11-01 11:30:00   2023.400657      5.720854     15.735632   \n",
       "min    2023-01-01 00:00:00   2023.000000      1.000000      1.000000   \n",
       "25%    2023-06-02 05:45:00   2023.000000      3.000000      8.000000   \n",
       "50%    2023-11-01 11:30:00   2023.000000      6.000000     16.000000   \n",
       "75%    2024-04-01 17:15:00   2024.000000      8.000000     23.000000   \n",
       "max    2024-08-31 23:00:00   2024.000000     12.000000     31.000000   \n",
       "std                    NaN      0.490048      3.195073      8.803610   \n",
       "\n",
       "               Hour  DaySegments_Afternoon  DaySegments_Early Morning  \\\n",
       "count  14616.000000           14616.000000               14616.000000   \n",
       "mean      11.500000               0.131294                   0.060550   \n",
       "min        0.000000               0.000000                   0.000000   \n",
       "25%        5.750000               0.000000                   0.000000   \n",
       "50%       11.500000               0.000000                   0.000000   \n",
       "75%       17.250000               0.000000                   0.000000   \n",
       "max       23.000000               1.000000                   1.000000   \n",
       "std        6.922423               0.337734                   0.238511   \n",
       "\n",
       "       DaySegments_Evening  DaySegments_Late Night  DaySegments_Midday  ...  \\\n",
       "count         14616.000000            14616.000000        14616.000000  ...   \n",
       "mean              0.098043                0.249726            0.116585  ...   \n",
       "min               0.000000                0.000000            0.000000  ...   \n",
       "25%               0.000000                0.000000            0.000000  ...   \n",
       "50%               0.000000                0.000000            0.000000  ...   \n",
       "75%               0.000000                0.000000            0.000000  ...   \n",
       "max               1.000000                1.000000            1.000000  ...   \n",
       "std               0.297383                0.432869            0.320936  ...   \n",
       "\n",
       "           Windgust     WindSpeed       WindDir  SeaLevelPressure  \\\n",
       "count  14616.000000  14616.000000  14616.000000      14616.000000   \n",
       "mean      17.068560      8.090783    159.739178       1008.265012   \n",
       "min        0.660000      0.000000      0.000000        982.420000   \n",
       "25%        9.170000      2.870000     80.965000       1003.277500   \n",
       "50%       14.645000      7.670000    163.790000       1007.970000   \n",
       "75%       23.410000     11.750000    241.402500       1013.400000   \n",
       "max       84.120000     71.970000    360.000000       1022.060000   \n",
       "std       10.195911      6.250203    104.422027          6.010683   \n",
       "\n",
       "         CloudCover       UVIndex    SevereRisk    Visibility  SolarRadiation  \\\n",
       "count  14616.000000  14616.000000  14616.000000  14616.000000    14616.000000   \n",
       "mean      53.579923      2.263555     16.504787      4.368134      227.640683   \n",
       "min        0.000000      0.000000      3.000000      0.000000        0.000000   \n",
       "25%       26.670000      0.000000     10.000000      3.990000        0.000000   \n",
       "50%       51.540000      0.000000     10.000000      4.650000       10.665000   \n",
       "75%       87.790000      4.740000     12.580000      4.650000      459.745000   \n",
       "max      100.000000     10.000000     97.740000     24.100000     1026.650000   \n",
       "std       35.166637      3.083074     15.031827      1.376994      307.219387   \n",
       "\n",
       "        SolarEnergy  \n",
       "count  14616.000000  \n",
       "mean       0.819217  \n",
       "min        0.000000  \n",
       "25%        0.000000  \n",
       "50%        0.010000  \n",
       "75%        1.660000  \n",
       "max        3.700000  \n",
       "std        1.106444  \n",
       "\n",
       "[8 rows x 32 columns]"
      ]
     },
     "execution_count": 4,
     "metadata": {},
     "output_type": "execute_result"
    }
   ],
   "source": [
    "weather_data.describe()"
   ]
  },
  {
   "cell_type": "markdown",
   "id": "a4f5f2e8",
   "metadata": {
    "papermill": {
     "duration": 0.016063,
     "end_time": "2025-08-11T12:55:14.322628",
     "exception": false,
     "start_time": "2025-08-11T12:55:14.306565",
     "status": "completed"
    },
    "tags": []
   },
   "source": [
    "# Data Split"
   ]
  },
  {
   "cell_type": "code",
   "execution_count": 5,
   "id": "729c6db3",
   "metadata": {
    "execution": {
     "iopub.execute_input": "2025-08-11T12:55:14.356408Z",
     "iopub.status.busy": "2025-08-11T12:55:14.356061Z",
     "iopub.status.idle": "2025-08-11T12:55:14.377332Z",
     "shell.execute_reply": "2025-08-11T12:55:14.376302Z"
    },
    "papermill": {
     "duration": 0.040401,
     "end_time": "2025-08-11T12:55:14.379028",
     "exception": false,
     "start_time": "2025-08-11T12:55:14.338627",
     "status": "completed"
    },
    "tags": []
   },
   "outputs": [],
   "source": [
    "sss = StratifiedShuffleSplit(n_splits=1, test_size=0.20, random_state=42)\n",
    "for train_idx, test_idx in sss.split(weather_data, weather_data['DaySegments']):\n",
    "    weather_data_train = weather_data.iloc[train_idx]\n",
    "    weather_data_test = weather_data.iloc[test_idx]"
   ]
  },
  {
   "cell_type": "code",
   "execution_count": 6,
   "id": "ce7fc850",
   "metadata": {
    "execution": {
     "iopub.execute_input": "2025-08-11T12:55:14.412109Z",
     "iopub.status.busy": "2025-08-11T12:55:14.411540Z",
     "iopub.status.idle": "2025-08-11T12:55:14.420162Z",
     "shell.execute_reply": "2025-08-11T12:55:14.419156Z"
    },
    "papermill": {
     "duration": 0.02651,
     "end_time": "2025-08-11T12:55:14.421574",
     "exception": false,
     "start_time": "2025-08-11T12:55:14.395064",
     "status": "completed"
    },
    "tags": []
   },
   "outputs": [
    {
     "name": "stdout",
     "output_type": "stream",
     "text": [
      "Distribution of data based on DaySegments:\n",
      "     DaySegments  Count\n",
      "0     Late Night   3650\n",
      "1        Morning   3504\n",
      "2      Afternoon   1919\n",
      "3         Midday   1704\n",
      "4          Night   1521\n",
      "5        Evening   1433\n",
      "6  Early Morning    885\n"
     ]
    }
   ],
   "source": [
    "# Show the count of each unique class in DaySegments\n",
    "class_counts = weather_data['DaySegments'].value_counts().reset_index()\n",
    "class_counts.columns = ['DaySegments', 'Count']\n",
    "\n",
    "print(\"Distribution of data based on DaySegments:\")\n",
    "print(class_counts)"
   ]
  },
  {
   "cell_type": "code",
   "execution_count": 7,
   "id": "e638e2c6",
   "metadata": {
    "execution": {
     "iopub.execute_input": "2025-08-11T12:55:14.454406Z",
     "iopub.status.busy": "2025-08-11T12:55:14.453727Z",
     "iopub.status.idle": "2025-08-11T12:55:14.461830Z",
     "shell.execute_reply": "2025-08-11T12:55:14.460831Z"
    },
    "papermill": {
     "duration": 0.025896,
     "end_time": "2025-08-11T12:55:14.463124",
     "exception": false,
     "start_time": "2025-08-11T12:55:14.437228",
     "status": "completed"
    },
    "tags": []
   },
   "outputs": [
    {
     "name": "stdout",
     "output_type": "stream",
     "text": [
      "Distribution of DaySegments in Training Set:\n",
      "DaySegments\n",
      "Late Night       2920\n",
      "Morning          2803\n",
      "Afternoon        1535\n",
      "Midday           1363\n",
      "Night            1217\n",
      "Evening          1146\n",
      "Early Morning     708\n",
      "Name: count, dtype: int64\n",
      "\n",
      "Distribution of DaySegments in Test Set:\n",
      "DaySegments\n",
      "Late Night       730\n",
      "Morning          701\n",
      "Afternoon        384\n",
      "Midday           341\n",
      "Night            304\n",
      "Evening          287\n",
      "Early Morning    177\n",
      "Name: count, dtype: int64\n"
     ]
    }
   ],
   "source": [
    "print(\"Distribution of DaySegments in Training Set:\")\n",
    "print(weather_data_train['DaySegments'].value_counts())\n",
    "\n",
    "print(\"\\nDistribution of DaySegments in Test Set:\")\n",
    "print(weather_data_test['DaySegments'].value_counts())"
   ]
  },
  {
   "cell_type": "markdown",
   "id": "a7c1ba35",
   "metadata": {
    "papermill": {
     "duration": 0.015483,
     "end_time": "2025-08-11T12:55:14.495362",
     "exception": false,
     "start_time": "2025-08-11T12:55:14.479879",
     "status": "completed"
    },
    "tags": []
   },
   "source": [
    "# Some Reused Parameters"
   ]
  },
  {
   "cell_type": "code",
   "execution_count": 8,
   "id": "fc98b600",
   "metadata": {
    "execution": {
     "iopub.execute_input": "2025-08-11T12:55:14.528082Z",
     "iopub.status.busy": "2025-08-11T12:55:14.527721Z",
     "iopub.status.idle": "2025-08-11T12:55:14.533183Z",
     "shell.execute_reply": "2025-08-11T12:55:14.532312Z"
    },
    "papermill": {
     "duration": 0.023521,
     "end_time": "2025-08-11T12:55:14.534638",
     "exception": false,
     "start_time": "2025-08-11T12:55:14.511117",
     "status": "completed"
    },
    "tags": []
   },
   "outputs": [],
   "source": [
    "grid_param = {\n",
    "    'alpha': [0.00001, 0.00005, 0.0001, 0.0005, 0.001, 0.005, 0.01, 0.05, 0.1, 0.5, 1.0, 2.0, 5.0, 10.0, 50.0, 100.0],\n",
    "    'max_iter': [1000, 2000, 3000, 5000, 10000, 15000],\n",
    "    'tol': [1e-6, 1e-5, 1e-4, 1e-3, 1e-2],\n",
    "    'selection': ['cyclic', 'random'],\n",
    "    'positive': [False, True],\n",
    "    'fit_intercept': [True, False],\n",
    "    'precompute': [False, True, 'auto'],\n",
    "    'warm_start': [False, True]\n",
    "}"
   ]
  },
  {
   "cell_type": "code",
   "execution_count": 9,
   "id": "8facfa48",
   "metadata": {
    "execution": {
     "iopub.execute_input": "2025-08-11T12:55:14.568033Z",
     "iopub.status.busy": "2025-08-11T12:55:14.567691Z",
     "iopub.status.idle": "2025-08-11T12:55:14.571713Z",
     "shell.execute_reply": "2025-08-11T12:55:14.570874Z"
    },
    "papermill": {
     "duration": 0.022118,
     "end_time": "2025-08-11T12:55:14.573063",
     "exception": false,
     "start_time": "2025-08-11T12:55:14.550945",
     "status": "completed"
    },
    "tags": []
   },
   "outputs": [],
   "source": [
    "number_of_model_for_randomized_grid = 500\n",
    "model_name_for_saving = \"LassoR\"\n",
    "target_name_for_saving = \"SolarEnergy\""
   ]
  },
  {
   "cell_type": "markdown",
   "id": "a0d01d24",
   "metadata": {
    "papermill": {
     "duration": 0.015582,
     "end_time": "2025-08-11T12:55:14.604821",
     "exception": false,
     "start_time": "2025-08-11T12:55:14.589239",
     "status": "completed"
    },
    "tags": []
   },
   "source": [
    "# All Features"
   ]
  },
  {
   "cell_type": "code",
   "execution_count": 10,
   "id": "552fad70",
   "metadata": {
    "execution": {
     "iopub.execute_input": "2025-08-11T12:55:14.639923Z",
     "iopub.status.busy": "2025-08-11T12:55:14.639611Z",
     "iopub.status.idle": "2025-08-11T12:55:14.645573Z",
     "shell.execute_reply": "2025-08-11T12:55:14.644813Z"
    },
    "papermill": {
     "duration": 0.024859,
     "end_time": "2025-08-11T12:55:14.646963",
     "exception": false,
     "start_time": "2025-08-11T12:55:14.622104",
     "status": "completed"
    },
    "tags": []
   },
   "outputs": [],
   "source": [
    "X_train_raw = weather_data_train.drop(columns=['DateTime', # Model cannot use DateTime as a feature\n",
    "                                                'Year', # No Effect on weather data\n",
    "                                                'Season', # Season is categorical, not numerical\n",
    "                                                'DaySegments', # DaySegments is categorical, not numerical\n",
    "                                                'Visibility',  # Target variable\n",
    "                                                'SolarRadiation', # Target variable\n",
    "                                                'SolarEnergy', # Target variable\n",
    "                                                'Conditions', # Target variable\n",
    "                                                'Icon']) # Target variable\n",
    "y_train = weather_data_train['SolarEnergy']"
   ]
  },
  {
   "cell_type": "code",
   "execution_count": 11,
   "id": "af7e9eef",
   "metadata": {
    "execution": {
     "iopub.execute_input": "2025-08-11T12:55:14.680836Z",
     "iopub.status.busy": "2025-08-11T12:55:14.680172Z",
     "iopub.status.idle": "2025-08-11T12:55:14.686141Z",
     "shell.execute_reply": "2025-08-11T12:55:14.685200Z"
    },
    "papermill": {
     "duration": 0.024439,
     "end_time": "2025-08-11T12:55:14.687655",
     "exception": false,
     "start_time": "2025-08-11T12:55:14.663216",
     "status": "completed"
    },
    "tags": []
   },
   "outputs": [],
   "source": [
    "X_test_raw = weather_data_test.drop(columns=['DateTime', # Model cannot use DateTime as a feature\n",
    "                                                'Year', # No Effect on weather data\n",
    "                                                'Season', # Season is categorical, not numerical\n",
    "                                                'DaySegments', # DaySegments is categorical, not numerical\n",
    "                                                'Visibility',  # Target variable\n",
    "                                                'SolarRadiation', # Target variable\n",
    "                                                'SolarEnergy', # Target variable\n",
    "                                                'Conditions', # Target variable\n",
    "                                                'Icon']) # Target variable\n",
    "y_test = weather_data_test['SolarEnergy']"
   ]
  },
  {
   "cell_type": "code",
   "execution_count": 12,
   "id": "9744a780",
   "metadata": {
    "execution": {
     "iopub.execute_input": "2025-08-11T12:55:14.721030Z",
     "iopub.status.busy": "2025-08-11T12:55:14.720721Z",
     "iopub.status.idle": "2025-08-11T12:55:14.724941Z",
     "shell.execute_reply": "2025-08-11T12:55:14.724234Z"
    },
    "papermill": {
     "duration": 0.022459,
     "end_time": "2025-08-11T12:55:14.726212",
     "exception": false,
     "start_time": "2025-08-11T12:55:14.703753",
     "status": "completed"
    },
    "tags": []
   },
   "outputs": [],
   "source": [
    "feature_columns = [col for col in X_train_raw.columns]\n",
    "feature_columns_for_saving = ','.join(feature_columns)"
   ]
  },
  {
   "cell_type": "code",
   "execution_count": 13,
   "id": "30d42c5a",
   "metadata": {
    "execution": {
     "iopub.execute_input": "2025-08-11T12:55:14.761098Z",
     "iopub.status.busy": "2025-08-11T12:55:14.760766Z",
     "iopub.status.idle": "2025-08-11T12:55:14.766327Z",
     "shell.execute_reply": "2025-08-11T12:55:14.765208Z"
    },
    "papermill": {
     "duration": 0.024565,
     "end_time": "2025-08-11T12:55:14.767676",
     "exception": false,
     "start_time": "2025-08-11T12:55:14.743111",
     "status": "completed"
    },
    "tags": []
   },
   "outputs": [
    {
     "name": "stdout",
     "output_type": "stream",
     "text": [
      "X_train:  11692\n",
      "y_train:  11692\n",
      "\n",
      "X_test:  2924\n",
      "y_test:  2924\n"
     ]
    }
   ],
   "source": [
    "print(\"X_train: \", len(X_train_raw))\n",
    "print(\"y_train: \", len(y_train))\n",
    "print(\"\\nX_test: \", len(X_test_raw))\n",
    "print(\"y_test: \", len(y_test))"
   ]
  },
  {
   "cell_type": "markdown",
   "id": "4569e6f2",
   "metadata": {
    "papermill": {
     "duration": 0.015879,
     "end_time": "2025-08-11T12:55:14.799838",
     "exception": false,
     "start_time": "2025-08-11T12:55:14.783959",
     "status": "completed"
    },
    "tags": []
   },
   "source": [
    "## MinMax Scaler"
   ]
  },
  {
   "cell_type": "code",
   "execution_count": 14,
   "id": "b9515c72",
   "metadata": {
    "execution": {
     "iopub.execute_input": "2025-08-11T12:55:14.833405Z",
     "iopub.status.busy": "2025-08-11T12:55:14.833039Z",
     "iopub.status.idle": "2025-08-11T12:55:14.864209Z",
     "shell.execute_reply": "2025-08-11T12:55:14.863484Z"
    },
    "papermill": {
     "duration": 0.049705,
     "end_time": "2025-08-11T12:55:14.865800",
     "exception": false,
     "start_time": "2025-08-11T12:55:14.816095",
     "status": "completed"
    },
    "tags": []
   },
   "outputs": [],
   "source": [
    "scaler = MinMaxScaler()\n",
    "X_train = scaler.fit_transform(X_train_raw)\n",
    "X_test = scaler.transform(X_test_raw)"
   ]
  },
  {
   "cell_type": "code",
   "execution_count": 15,
   "id": "5a50e3a4",
   "metadata": {
    "execution": {
     "iopub.execute_input": "2025-08-11T12:55:14.899328Z",
     "iopub.status.busy": "2025-08-11T12:55:14.899006Z",
     "iopub.status.idle": "2025-08-11T12:55:14.904918Z",
     "shell.execute_reply": "2025-08-11T12:55:14.904082Z"
    },
    "papermill": {
     "duration": 0.024323,
     "end_time": "2025-08-11T12:55:14.906249",
     "exception": false,
     "start_time": "2025-08-11T12:55:14.881926",
     "status": "completed"
    },
    "tags": []
   },
   "outputs": [
    {
     "data": {
      "text/plain": [
       "array([[0.72727273, 0.83333333, 0.43478261, ..., 0.4922    , 0.697     ,\n",
       "        0.31560059],\n",
       "       [0.90909091, 0.26666667, 0.69565217, ..., 0.        , 0.303     ,\n",
       "        0.07388643],\n",
       "       [0.09090909, 0.43333333, 0.        , ..., 0.        , 0.        ,\n",
       "        0.07388643],\n",
       "       ...,\n",
       "       [0.63636364, 0.86666667, 0.43478261, ..., 0.8756    , 0.306     ,\n",
       "        0.09436352],\n",
       "       [0.        , 0.4       , 0.91304348, ..., 0.        , 0.        ,\n",
       "        0.07388643],\n",
       "       [0.72727273, 0.26666667, 0.34782609, ..., 0.8925    , 0.29      ,\n",
       "        0.27812962]])"
      ]
     },
     "execution_count": 15,
     "metadata": {},
     "output_type": "execute_result"
    }
   ],
   "source": [
    "X_train"
   ]
  },
  {
   "cell_type": "code",
   "execution_count": 16,
   "id": "360580a4",
   "metadata": {
    "execution": {
     "iopub.execute_input": "2025-08-11T12:55:14.939850Z",
     "iopub.status.busy": "2025-08-11T12:55:14.939321Z",
     "iopub.status.idle": "2025-08-11T12:55:14.945429Z",
     "shell.execute_reply": "2025-08-11T12:55:14.944635Z"
    },
    "papermill": {
     "duration": 0.02448,
     "end_time": "2025-08-11T12:55:14.946787",
     "exception": false,
     "start_time": "2025-08-11T12:55:14.922307",
     "status": "completed"
    },
    "tags": []
   },
   "outputs": [
    {
     "data": {
      "text/plain": [
       "array([[0.63636364, 0.06666667, 0.95652174, ..., 0.894     , 0.        ,\n",
       "        0.07388643],\n",
       "       [0.45454545, 0.26666667, 0.65217391, ..., 0.9677    , 0.074     ,\n",
       "        0.07388643],\n",
       "       [0.63636364, 0.03333333, 0.2173913 , ..., 0.9935    , 0.        ,\n",
       "        0.07388643],\n",
       "       ...,\n",
       "       [0.09090909, 0.2       , 0.73913043, ..., 0.0013    , 0.203     ,\n",
       "        0.07388643],\n",
       "       [0.27272727, 0.13333333, 0.86956522, ..., 0.        , 0.        ,\n",
       "        0.25575259],\n",
       "       [0.45454545, 0.73333333, 0.95652174, ..., 0.5161    , 0.        ,\n",
       "        0.07388643]])"
      ]
     },
     "execution_count": 16,
     "metadata": {},
     "output_type": "execute_result"
    }
   ],
   "source": [
    "X_test"
   ]
  },
  {
   "cell_type": "markdown",
   "id": "4f2d41ba",
   "metadata": {
    "papermill": {
     "duration": 0.016458,
     "end_time": "2025-08-11T12:55:14.979521",
     "exception": false,
     "start_time": "2025-08-11T12:55:14.963063",
     "status": "completed"
    },
    "tags": []
   },
   "source": [
    "### Default Parameters"
   ]
  },
  {
   "cell_type": "code",
   "execution_count": 17,
   "id": "80e31b4b",
   "metadata": {
    "execution": {
     "iopub.execute_input": "2025-08-11T12:55:15.013508Z",
     "iopub.status.busy": "2025-08-11T12:55:15.013173Z",
     "iopub.status.idle": "2025-08-11T12:55:15.024278Z",
     "shell.execute_reply": "2025-08-11T12:55:15.023430Z"
    },
    "papermill": {
     "duration": 0.029802,
     "end_time": "2025-08-11T12:55:15.025663",
     "exception": false,
     "start_time": "2025-08-11T12:55:14.995861",
     "status": "completed"
    },
    "tags": []
   },
   "outputs": [
    {
     "data": {
      "text/html": [
       "<style>#sk-container-id-1 {color: black;background-color: white;}#sk-container-id-1 pre{padding: 0;}#sk-container-id-1 div.sk-toggleable {background-color: white;}#sk-container-id-1 label.sk-toggleable__label {cursor: pointer;display: block;width: 100%;margin-bottom: 0;padding: 0.3em;box-sizing: border-box;text-align: center;}#sk-container-id-1 label.sk-toggleable__label-arrow:before {content: \"▸\";float: left;margin-right: 0.25em;color: #696969;}#sk-container-id-1 label.sk-toggleable__label-arrow:hover:before {color: black;}#sk-container-id-1 div.sk-estimator:hover label.sk-toggleable__label-arrow:before {color: black;}#sk-container-id-1 div.sk-toggleable__content {max-height: 0;max-width: 0;overflow: hidden;text-align: left;background-color: #f0f8ff;}#sk-container-id-1 div.sk-toggleable__content pre {margin: 0.2em;color: black;border-radius: 0.25em;background-color: #f0f8ff;}#sk-container-id-1 input.sk-toggleable__control:checked~div.sk-toggleable__content {max-height: 200px;max-width: 100%;overflow: auto;}#sk-container-id-1 input.sk-toggleable__control:checked~label.sk-toggleable__label-arrow:before {content: \"▾\";}#sk-container-id-1 div.sk-estimator input.sk-toggleable__control:checked~label.sk-toggleable__label {background-color: #d4ebff;}#sk-container-id-1 div.sk-label input.sk-toggleable__control:checked~label.sk-toggleable__label {background-color: #d4ebff;}#sk-container-id-1 input.sk-hidden--visually {border: 0;clip: rect(1px 1px 1px 1px);clip: rect(1px, 1px, 1px, 1px);height: 1px;margin: -1px;overflow: hidden;padding: 0;position: absolute;width: 1px;}#sk-container-id-1 div.sk-estimator {font-family: monospace;background-color: #f0f8ff;border: 1px dotted black;border-radius: 0.25em;box-sizing: border-box;margin-bottom: 0.5em;}#sk-container-id-1 div.sk-estimator:hover {background-color: #d4ebff;}#sk-container-id-1 div.sk-parallel-item::after {content: \"\";width: 100%;border-bottom: 1px solid gray;flex-grow: 1;}#sk-container-id-1 div.sk-label:hover label.sk-toggleable__label {background-color: #d4ebff;}#sk-container-id-1 div.sk-serial::before {content: \"\";position: absolute;border-left: 1px solid gray;box-sizing: border-box;top: 0;bottom: 0;left: 50%;z-index: 0;}#sk-container-id-1 div.sk-serial {display: flex;flex-direction: column;align-items: center;background-color: white;padding-right: 0.2em;padding-left: 0.2em;position: relative;}#sk-container-id-1 div.sk-item {position: relative;z-index: 1;}#sk-container-id-1 div.sk-parallel {display: flex;align-items: stretch;justify-content: center;background-color: white;position: relative;}#sk-container-id-1 div.sk-item::before, #sk-container-id-1 div.sk-parallel-item::before {content: \"\";position: absolute;border-left: 1px solid gray;box-sizing: border-box;top: 0;bottom: 0;left: 50%;z-index: -1;}#sk-container-id-1 div.sk-parallel-item {display: flex;flex-direction: column;z-index: 1;position: relative;background-color: white;}#sk-container-id-1 div.sk-parallel-item:first-child::after {align-self: flex-end;width: 50%;}#sk-container-id-1 div.sk-parallel-item:last-child::after {align-self: flex-start;width: 50%;}#sk-container-id-1 div.sk-parallel-item:only-child::after {width: 0;}#sk-container-id-1 div.sk-dashed-wrapped {border: 1px dashed gray;margin: 0 0.4em 0.5em 0.4em;box-sizing: border-box;padding-bottom: 0.4em;background-color: white;}#sk-container-id-1 div.sk-label label {font-family: monospace;font-weight: bold;display: inline-block;line-height: 1.2em;}#sk-container-id-1 div.sk-label-container {text-align: center;}#sk-container-id-1 div.sk-container {/* jupyter's `normalize.less` sets `[hidden] { display: none; }` but bootstrap.min.css set `[hidden] { display: none !important; }` so we also need the `!important` here to be able to override the default hidden behavior on the sphinx rendered scikit-learn.org. See: https://github.com/scikit-learn/scikit-learn/issues/21755 */display: inline-block !important;position: relative;}#sk-container-id-1 div.sk-text-repr-fallback {display: none;}</style><div id=\"sk-container-id-1\" class=\"sk-top-container\"><div class=\"sk-text-repr-fallback\"><pre>Lasso(alpha=0.001, max_iter=10000, random_state=42)</pre><b>In a Jupyter environment, please rerun this cell to show the HTML representation or trust the notebook. <br />On GitHub, the HTML representation is unable to render, please try loading this page with nbviewer.org.</b></div><div class=\"sk-container\" hidden><div class=\"sk-item\"><div class=\"sk-estimator sk-toggleable\"><input class=\"sk-toggleable__control sk-hidden--visually\" id=\"sk-estimator-id-1\" type=\"checkbox\" checked><label for=\"sk-estimator-id-1\" class=\"sk-toggleable__label sk-toggleable__label-arrow\">Lasso</label><div class=\"sk-toggleable__content\"><pre>Lasso(alpha=0.001, max_iter=10000, random_state=42)</pre></div></div></div></div></div>"
      ],
      "text/plain": [
       "Lasso(alpha=0.001, max_iter=10000, random_state=42)"
      ]
     },
     "execution_count": 17,
     "metadata": {},
     "output_type": "execute_result"
    }
   ],
   "source": [
    "training_model = LassoR(alpha=0.001, random_state=42, max_iter=10000)\n",
    "training_model"
   ]
  },
  {
   "cell_type": "code",
   "execution_count": 18,
   "id": "8b493f97",
   "metadata": {
    "execution": {
     "iopub.execute_input": "2025-08-11T12:55:15.062420Z",
     "iopub.status.busy": "2025-08-11T12:55:15.061150Z",
     "iopub.status.idle": "2025-08-11T12:55:15.093100Z",
     "shell.execute_reply": "2025-08-11T12:55:15.092328Z"
    },
    "papermill": {
     "duration": 0.052825,
     "end_time": "2025-08-11T12:55:15.095703",
     "exception": false,
     "start_time": "2025-08-11T12:55:15.042878",
     "status": "completed"
    },
    "tags": []
   },
   "outputs": [
    {
     "name": "stdout",
     "output_type": "stream",
     "text": [
      "CPU times: user 30.4 ms, sys: 3.2 ms, total: 33.6 ms\n",
      "Wall time: 21.7 ms\n"
     ]
    },
    {
     "data": {
      "text/html": [
       "<style>#sk-container-id-2 {color: black;background-color: white;}#sk-container-id-2 pre{padding: 0;}#sk-container-id-2 div.sk-toggleable {background-color: white;}#sk-container-id-2 label.sk-toggleable__label {cursor: pointer;display: block;width: 100%;margin-bottom: 0;padding: 0.3em;box-sizing: border-box;text-align: center;}#sk-container-id-2 label.sk-toggleable__label-arrow:before {content: \"▸\";float: left;margin-right: 0.25em;color: #696969;}#sk-container-id-2 label.sk-toggleable__label-arrow:hover:before {color: black;}#sk-container-id-2 div.sk-estimator:hover label.sk-toggleable__label-arrow:before {color: black;}#sk-container-id-2 div.sk-toggleable__content {max-height: 0;max-width: 0;overflow: hidden;text-align: left;background-color: #f0f8ff;}#sk-container-id-2 div.sk-toggleable__content pre {margin: 0.2em;color: black;border-radius: 0.25em;background-color: #f0f8ff;}#sk-container-id-2 input.sk-toggleable__control:checked~div.sk-toggleable__content {max-height: 200px;max-width: 100%;overflow: auto;}#sk-container-id-2 input.sk-toggleable__control:checked~label.sk-toggleable__label-arrow:before {content: \"▾\";}#sk-container-id-2 div.sk-estimator input.sk-toggleable__control:checked~label.sk-toggleable__label {background-color: #d4ebff;}#sk-container-id-2 div.sk-label input.sk-toggleable__control:checked~label.sk-toggleable__label {background-color: #d4ebff;}#sk-container-id-2 input.sk-hidden--visually {border: 0;clip: rect(1px 1px 1px 1px);clip: rect(1px, 1px, 1px, 1px);height: 1px;margin: -1px;overflow: hidden;padding: 0;position: absolute;width: 1px;}#sk-container-id-2 div.sk-estimator {font-family: monospace;background-color: #f0f8ff;border: 1px dotted black;border-radius: 0.25em;box-sizing: border-box;margin-bottom: 0.5em;}#sk-container-id-2 div.sk-estimator:hover {background-color: #d4ebff;}#sk-container-id-2 div.sk-parallel-item::after {content: \"\";width: 100%;border-bottom: 1px solid gray;flex-grow: 1;}#sk-container-id-2 div.sk-label:hover label.sk-toggleable__label {background-color: #d4ebff;}#sk-container-id-2 div.sk-serial::before {content: \"\";position: absolute;border-left: 1px solid gray;box-sizing: border-box;top: 0;bottom: 0;left: 50%;z-index: 0;}#sk-container-id-2 div.sk-serial {display: flex;flex-direction: column;align-items: center;background-color: white;padding-right: 0.2em;padding-left: 0.2em;position: relative;}#sk-container-id-2 div.sk-item {position: relative;z-index: 1;}#sk-container-id-2 div.sk-parallel {display: flex;align-items: stretch;justify-content: center;background-color: white;position: relative;}#sk-container-id-2 div.sk-item::before, #sk-container-id-2 div.sk-parallel-item::before {content: \"\";position: absolute;border-left: 1px solid gray;box-sizing: border-box;top: 0;bottom: 0;left: 50%;z-index: -1;}#sk-container-id-2 div.sk-parallel-item {display: flex;flex-direction: column;z-index: 1;position: relative;background-color: white;}#sk-container-id-2 div.sk-parallel-item:first-child::after {align-self: flex-end;width: 50%;}#sk-container-id-2 div.sk-parallel-item:last-child::after {align-self: flex-start;width: 50%;}#sk-container-id-2 div.sk-parallel-item:only-child::after {width: 0;}#sk-container-id-2 div.sk-dashed-wrapped {border: 1px dashed gray;margin: 0 0.4em 0.5em 0.4em;box-sizing: border-box;padding-bottom: 0.4em;background-color: white;}#sk-container-id-2 div.sk-label label {font-family: monospace;font-weight: bold;display: inline-block;line-height: 1.2em;}#sk-container-id-2 div.sk-label-container {text-align: center;}#sk-container-id-2 div.sk-container {/* jupyter's `normalize.less` sets `[hidden] { display: none; }` but bootstrap.min.css set `[hidden] { display: none !important; }` so we also need the `!important` here to be able to override the default hidden behavior on the sphinx rendered scikit-learn.org. See: https://github.com/scikit-learn/scikit-learn/issues/21755 */display: inline-block !important;position: relative;}#sk-container-id-2 div.sk-text-repr-fallback {display: none;}</style><div id=\"sk-container-id-2\" class=\"sk-top-container\"><div class=\"sk-text-repr-fallback\"><pre>Lasso(alpha=0.001, max_iter=10000, random_state=42)</pre><b>In a Jupyter environment, please rerun this cell to show the HTML representation or trust the notebook. <br />On GitHub, the HTML representation is unable to render, please try loading this page with nbviewer.org.</b></div><div class=\"sk-container\" hidden><div class=\"sk-item\"><div class=\"sk-estimator sk-toggleable\"><input class=\"sk-toggleable__control sk-hidden--visually\" id=\"sk-estimator-id-2\" type=\"checkbox\" checked><label for=\"sk-estimator-id-2\" class=\"sk-toggleable__label sk-toggleable__label-arrow\">Lasso</label><div class=\"sk-toggleable__content\"><pre>Lasso(alpha=0.001, max_iter=10000, random_state=42)</pre></div></div></div></div></div>"
      ],
      "text/plain": [
       "Lasso(alpha=0.001, max_iter=10000, random_state=42)"
      ]
     },
     "execution_count": 18,
     "metadata": {},
     "output_type": "execute_result"
    }
   ],
   "source": [
    "%%time\n",
    "training_model.fit(X_train, y_train)"
   ]
  },
  {
   "cell_type": "code",
   "execution_count": 19,
   "id": "e376b4d2",
   "metadata": {
    "execution": {
     "iopub.execute_input": "2025-08-11T12:55:15.161959Z",
     "iopub.status.busy": "2025-08-11T12:55:15.161597Z",
     "iopub.status.idle": "2025-08-11T12:55:15.179122Z",
     "shell.execute_reply": "2025-08-11T12:55:15.178309Z"
    },
    "papermill": {
     "duration": 0.053445,
     "end_time": "2025-08-11T12:55:15.181602",
     "exception": false,
     "start_time": "2025-08-11T12:55:15.128157",
     "status": "completed"
    },
    "tags": []
   },
   "outputs": [
    {
     "data": {
      "text/plain": [
       "array([0.0095616 , 0.27627364, 0.01336806, ..., 0.73458202, 0.0095616 ,\n",
       "       0.0095616 ])"
      ]
     },
     "execution_count": 19,
     "metadata": {},
     "output_type": "execute_result"
    }
   ],
   "source": [
    "y_pred = training_model.predict(X_test)\n",
    "y_pred"
   ]
  },
  {
   "cell_type": "code",
   "execution_count": 20,
   "id": "208b901f",
   "metadata": {
    "execution": {
     "iopub.execute_input": "2025-08-11T12:55:15.228731Z",
     "iopub.status.busy": "2025-08-11T12:55:15.228450Z",
     "iopub.status.idle": "2025-08-11T12:55:15.235158Z",
     "shell.execute_reply": "2025-08-11T12:55:15.234442Z"
    },
    "papermill": {
     "duration": 0.026736,
     "end_time": "2025-08-11T12:55:15.236520",
     "exception": false,
     "start_time": "2025-08-11T12:55:15.209784",
     "status": "completed"
    },
    "tags": []
   },
   "outputs": [
    {
     "data": {
      "text/plain": [
       "5158     0.00\n",
       "3831     0.36\n",
       "5117     0.00\n",
       "6326     2.70\n",
       "11359    0.49\n",
       "         ... \n",
       "10290    0.30\n",
       "13995    0.00\n",
       "9665     0.90\n",
       "2276     0.00\n",
       "4174     0.00\n",
       "Name: SolarEnergy, Length: 2924, dtype: float64"
      ]
     },
     "execution_count": 20,
     "metadata": {},
     "output_type": "execute_result"
    }
   ],
   "source": [
    "y_test"
   ]
  },
  {
   "cell_type": "code",
   "execution_count": 21,
   "id": "2d651137",
   "metadata": {
    "execution": {
     "iopub.execute_input": "2025-08-11T12:55:15.272244Z",
     "iopub.status.busy": "2025-08-11T12:55:15.271623Z",
     "iopub.status.idle": "2025-08-11T12:55:15.277943Z",
     "shell.execute_reply": "2025-08-11T12:55:15.277291Z"
    },
    "papermill": {
     "duration": 0.025646,
     "end_time": "2025-08-11T12:55:15.279392",
     "exception": false,
     "start_time": "2025-08-11T12:55:15.253746",
     "status": "completed"
    },
    "tags": []
   },
   "outputs": [],
   "source": [
    "mse = mean_squared_error(y_test, y_pred)\n",
    "mae = mean_absolute_error(y_test, y_pred)\n",
    "r2 = r2_score(y_test, y_pred)\n",
    "rmse = math.sqrt(mse)"
   ]
  },
  {
   "cell_type": "code",
   "execution_count": 22,
   "id": "4a62a788",
   "metadata": {
    "execution": {
     "iopub.execute_input": "2025-08-11T12:55:15.317305Z",
     "iopub.status.busy": "2025-08-11T12:55:15.316409Z",
     "iopub.status.idle": "2025-08-11T12:55:15.321385Z",
     "shell.execute_reply": "2025-08-11T12:55:15.320423Z"
    },
    "papermill": {
     "duration": 0.024845,
     "end_time": "2025-08-11T12:55:15.322657",
     "exception": false,
     "start_time": "2025-08-11T12:55:15.297812",
     "status": "completed"
    },
    "tags": []
   },
   "outputs": [
    {
     "name": "stdout",
     "output_type": "stream",
     "text": [
      "MSE Score: 0.004488285401968958\n",
      "MAE Score: 0.04476146048531177\n",
      "R2 Score: 0.9963162363065593\n",
      "RMSE Score: 0.06699466696662472\n"
     ]
    }
   ],
   "source": [
    "print(\"MSE Score:\", mse)\n",
    "print(\"MAE Score:\", mae)\n",
    "print(\"R2 Score:\", r2)\n",
    "print(\"RMSE Score:\", rmse)"
   ]
  },
  {
   "cell_type": "code",
   "execution_count": 23,
   "id": "3e68adf9",
   "metadata": {
    "execution": {
     "iopub.execute_input": "2025-08-11T12:55:15.359651Z",
     "iopub.status.busy": "2025-08-11T12:55:15.359078Z",
     "iopub.status.idle": "2025-08-11T12:55:15.374292Z",
     "shell.execute_reply": "2025-08-11T12:55:15.373241Z"
    },
    "papermill": {
     "duration": 0.034953,
     "end_time": "2025-08-11T12:55:15.375812",
     "exception": false,
     "start_time": "2025-08-11T12:55:15.340859",
     "status": "completed"
    },
    "tags": []
   },
   "outputs": [
    {
     "name": "stdout",
     "output_type": "stream",
     "text": [
      "✨ New regression model added:\n",
      "   MSE: 0.004488, R²: 0.996316\n",
      "   Features: 27\n",
      "💾 Registry updated: Model_Training_History/History_Regression.csv\n"
     ]
    }
   ],
   "source": [
    "regression_params = {\n",
    "    'model_name': model_name_for_saving,\n",
    "    'scaler_name': \"MinMaxScaler\",\n",
    "    'features_list': feature_columns_for_saving,\n",
    "    'target_column': target_name_for_saving,\n",
    "    'mse': mse,\n",
    "    'mae': mae,\n",
    "    'rmse': rmse,\n",
    "    'r2': r2,\n",
    "    'parameters': json.dumps(training_model.get_params())\n",
    "}\n",
    "save_model_performance_if_better('regression', regression_params)"
   ]
  },
  {
   "cell_type": "markdown",
   "id": "27ca055e",
   "metadata": {
    "papermill": {
     "duration": 0.017516,
     "end_time": "2025-08-11T12:55:15.411397",
     "exception": false,
     "start_time": "2025-08-11T12:55:15.393881",
     "status": "completed"
    },
    "tags": []
   },
   "source": [
    "### Tuning with Grid Search"
   ]
  },
  {
   "cell_type": "code",
   "execution_count": 24,
   "id": "9c6a6df9",
   "metadata": {
    "execution": {
     "iopub.execute_input": "2025-08-11T12:55:15.447954Z",
     "iopub.status.busy": "2025-08-11T12:55:15.447607Z",
     "iopub.status.idle": "2025-08-11T12:55:15.452035Z",
     "shell.execute_reply": "2025-08-11T12:55:15.451318Z"
    },
    "papermill": {
     "duration": 0.02425,
     "end_time": "2025-08-11T12:55:15.453450",
     "exception": false,
     "start_time": "2025-08-11T12:55:15.429200",
     "status": "completed"
    },
    "tags": []
   },
   "outputs": [],
   "source": [
    "grid_search = GridSearchCV(\n",
    "    LassoR(random_state=42), \n",
    "    grid_param, \n",
    "    cv=5, \n",
    "    scoring='neg_mean_squared_error', \n",
    "    n_jobs=-1, # allow parallel processing, you cant use your own laptop while this runs\n",
    "    verbose=1\n",
    ")"
   ]
  },
  {
   "cell_type": "code",
   "execution_count": null,
   "id": "e2f8fcfc",
   "metadata": {
    "execution": {
     "iopub.execute_input": "2025-08-11T12:55:15.491421Z",
     "iopub.status.busy": "2025-08-11T12:55:15.490515Z",
     "iopub.status.idle": "2025-08-11T13:05:09.180039Z",
     "shell.execute_reply": "2025-08-11T13:05:09.179152Z"
    },
    "papermill": {
     "duration": 593.738907,
     "end_time": "2025-08-11T13:05:09.210663",
     "exception": false,
     "start_time": "2025-08-11T12:55:15.471756",
     "status": "completed"
    },
    "tags": []
   },
   "outputs": [],
   "source": [
    "%%time\n",
    "print(\"Starting hyperparameter tuning...\")\n",
    "grid_search.fit(X_train, y_train)"
   ]
  },
  {
   "cell_type": "code",
   "execution_count": 26,
   "id": "3f44969c",
   "metadata": {
    "execution": {
     "iopub.execute_input": "2025-08-11T13:05:09.271205Z",
     "iopub.status.busy": "2025-08-11T13:05:09.270880Z",
     "iopub.status.idle": "2025-08-11T13:05:09.276653Z",
     "shell.execute_reply": "2025-08-11T13:05:09.275820Z"
    },
    "papermill": {
     "duration": 0.03781,
     "end_time": "2025-08-11T13:05:09.278282",
     "exception": false,
     "start_time": "2025-08-11T13:05:09.240472",
     "status": "completed"
    },
    "tags": []
   },
   "outputs": [
    {
     "name": "stdout",
     "output_type": "stream",
     "text": [
      "TUNING RESULTS\n",
      "==================================================\n",
      "Best Parameters: {'alpha': 1e-05, 'fit_intercept': True, 'max_iter': 2000, 'positive': True, 'precompute': True, 'selection': 'cyclic', 'tol': 1e-06, 'warm_start': False}\n",
      "Best Cross-Validation Score (Negative MSE): -0.004306512969330758\n",
      "Best Cross-Validation Score (MSE): 0.004306512969330758\n",
      "Best Cross-Validation Score (RMSE): 0.06562402737816964\n"
     ]
    }
   ],
   "source": [
    "print(\"TUNING RESULTS\")\n",
    "print(\"=\"*50)\n",
    "print(\"Best Parameters:\", grid_search.best_params_)\n",
    "print(\"Best Cross-Validation Score (Negative MSE):\", grid_search.best_score_)\n",
    "print(\"Best Cross-Validation Score (MSE):\", -grid_search.best_score_)\n",
    "print(\"Best Cross-Validation Score (RMSE):\", math.sqrt(-grid_search.best_score_))"
   ]
  },
  {
   "cell_type": "code",
   "execution_count": 27,
   "id": "ec29f8d7",
   "metadata": {
    "execution": {
     "iopub.execute_input": "2025-08-11T13:05:09.340036Z",
     "iopub.status.busy": "2025-08-11T13:05:09.339736Z",
     "iopub.status.idle": "2025-08-11T13:05:09.344288Z",
     "shell.execute_reply": "2025-08-11T13:05:09.343575Z"
    },
    "papermill": {
     "duration": 0.036412,
     "end_time": "2025-08-11T13:05:09.345517",
     "exception": false,
     "start_time": "2025-08-11T13:05:09.309105",
     "status": "completed"
    },
    "tags": []
   },
   "outputs": [],
   "source": [
    "grid_search_best_model = grid_search.best_estimator_\n",
    "y_pred = grid_search_best_model.predict(X_test)"
   ]
  },
  {
   "cell_type": "code",
   "execution_count": 28,
   "id": "b0a61f7e",
   "metadata": {
    "execution": {
     "iopub.execute_input": "2025-08-11T13:05:09.407080Z",
     "iopub.status.busy": "2025-08-11T13:05:09.406779Z",
     "iopub.status.idle": "2025-08-11T13:05:09.413168Z",
     "shell.execute_reply": "2025-08-11T13:05:09.412288Z"
    },
    "papermill": {
     "duration": 0.038594,
     "end_time": "2025-08-11T13:05:09.414719",
     "exception": false,
     "start_time": "2025-08-11T13:05:09.376125",
     "status": "completed"
    },
    "tags": []
   },
   "outputs": [],
   "source": [
    "mse_grid_search = mean_squared_error(y_test, y_pred)\n",
    "mae_grid_search = mean_absolute_error(y_test, y_pred)\n",
    "r2_grid_search = r2_score(y_test, y_pred)\n",
    "rmse_grid_search = math.sqrt(mse_grid_search)"
   ]
  },
  {
   "cell_type": "code",
   "execution_count": 29,
   "id": "6c5bcaba",
   "metadata": {
    "execution": {
     "iopub.execute_input": "2025-08-11T13:05:09.477334Z",
     "iopub.status.busy": "2025-08-11T13:05:09.476551Z",
     "iopub.status.idle": "2025-08-11T13:05:09.481503Z",
     "shell.execute_reply": "2025-08-11T13:05:09.480544Z"
    },
    "papermill": {
     "duration": 0.037772,
     "end_time": "2025-08-11T13:05:09.482763",
     "exception": false,
     "start_time": "2025-08-11T13:05:09.444991",
     "status": "completed"
    },
    "tags": []
   },
   "outputs": [
    {
     "name": "stdout",
     "output_type": "stream",
     "text": [
      "MSE Score: 0.004413316074618187\n",
      "MAE Score: 0.04324760348517494\n",
      "R2 Score: 0.9963777674396052\n",
      "RMSE Score: 0.06643279366862564\n"
     ]
    }
   ],
   "source": [
    "print(\"MSE Score:\", mse_grid_search)\n",
    "print(\"MAE Score:\", mae_grid_search)\n",
    "print(\"R2 Score:\", r2_grid_search)\n",
    "print(\"RMSE Score:\", rmse_grid_search)"
   ]
  },
  {
   "cell_type": "code",
   "execution_count": 30,
   "id": "9525ad7a",
   "metadata": {
    "execution": {
     "iopub.execute_input": "2025-08-11T13:05:09.544544Z",
     "iopub.status.busy": "2025-08-11T13:05:09.543766Z",
     "iopub.status.idle": "2025-08-11T13:05:09.556667Z",
     "shell.execute_reply": "2025-08-11T13:05:09.555581Z"
    },
    "papermill": {
     "duration": 0.045518,
     "end_time": "2025-08-11T13:05:09.558193",
     "exception": false,
     "start_time": "2025-08-11T13:05:09.512675",
     "status": "completed"
    },
    "tags": []
   },
   "outputs": [
    {
     "name": "stdout",
     "output_type": "stream",
     "text": [
      "✨ New regression model added:\n",
      "   MSE: 0.004413, R²: 0.996378\n",
      "   Features: 27\n",
      "💾 Registry updated: Model_Training_History/History_Regression.csv\n"
     ]
    }
   ],
   "source": [
    "regression_params = {\n",
    "    'model_name': model_name_for_saving + \" Tuned\",\n",
    "    'scaler_name': \"MinMaxScaler\",\n",
    "    'features_list': feature_columns_for_saving,\n",
    "    'target_column': target_name_for_saving,\n",
    "    'mse': mse_grid_search,\n",
    "    'mae': mae_grid_search,\n",
    "    'rmse': rmse_grid_search,\n",
    "    'r2': r2_grid_search,\n",
    "    'parameters' : json.dumps({\n",
    "        \"best_params\": grid_search.best_params_,\n",
    "        \"cv_score\": grid_search.best_score_,\n",
    "        \"all_params\": grid_search_best_model.get_params()\n",
    "    })\n",
    "}\n",
    "save_model_performance_if_better('regression', regression_params)"
   ]
  },
  {
   "cell_type": "markdown",
   "id": "53b24938",
   "metadata": {
    "papermill": {
     "duration": 0.032167,
     "end_time": "2025-08-11T13:05:09.620585",
     "exception": false,
     "start_time": "2025-08-11T13:05:09.588418",
     "status": "completed"
    },
    "tags": []
   },
   "source": [
    "## Standard Scaler"
   ]
  },
  {
   "cell_type": "code",
   "execution_count": 31,
   "id": "62fa8289",
   "metadata": {
    "execution": {
     "iopub.execute_input": "2025-08-11T13:05:09.684802Z",
     "iopub.status.busy": "2025-08-11T13:05:09.684495Z",
     "iopub.status.idle": "2025-08-11T13:05:09.701986Z",
     "shell.execute_reply": "2025-08-11T13:05:09.701214Z"
    },
    "papermill": {
     "duration": 0.051454,
     "end_time": "2025-08-11T13:05:09.703626",
     "exception": false,
     "start_time": "2025-08-11T13:05:09.652172",
     "status": "completed"
    },
    "tags": []
   },
   "outputs": [],
   "source": [
    "scaler = StandardScaler()\n",
    "X_train = scaler.fit_transform(X_train_raw)\n",
    "X_test = scaler.transform(X_test_raw)"
   ]
  },
  {
   "cell_type": "code",
   "execution_count": 32,
   "id": "a7e21224",
   "metadata": {
    "execution": {
     "iopub.execute_input": "2025-08-11T13:05:09.766065Z",
     "iopub.status.busy": "2025-08-11T13:05:09.765708Z",
     "iopub.status.idle": "2025-08-11T13:05:09.772201Z",
     "shell.execute_reply": "2025-08-11T13:05:09.771393Z"
    },
    "papermill": {
     "duration": 0.039594,
     "end_time": "2025-08-11T13:05:09.773703",
     "exception": false,
     "start_time": "2025-08-11T13:05:09.734109",
     "status": "completed"
    },
    "tags": []
   },
   "outputs": [
    {
     "data": {
      "text/plain": [
       "array([[ 1.01884116,  1.17229173, -0.21938027, ..., -0.12088825,\n",
       "         1.52387472,  1.09644529],\n",
       "       [ 1.64376461, -0.75947244,  0.64624572, ..., -1.52028666,\n",
       "         0.24645772, -0.43343649],\n",
       "       [-1.16839092, -0.1913065 , -1.66209024, ..., -1.52028666,\n",
       "        -0.73592134, -0.43343649],\n",
       "       ...,\n",
       "       [ 0.70637943,  1.28592492, -0.21938027, ...,  0.96917545,\n",
       "         0.25618424, -0.30383078],\n",
       "       [-1.48085264, -0.30493969,  1.36760071, ..., -1.52028666,\n",
       "        -0.73592134, -0.43343649],\n",
       "       [ 1.01884116, -0.75947244, -0.50792226, ...,  1.01722469,\n",
       "         0.20430944,  0.85928021]])"
      ]
     },
     "execution_count": 32,
     "metadata": {},
     "output_type": "execute_result"
    }
   ],
   "source": [
    "X_train"
   ]
  },
  {
   "cell_type": "code",
   "execution_count": 33,
   "id": "3d27aa99",
   "metadata": {
    "execution": {
     "iopub.execute_input": "2025-08-11T13:05:09.835380Z",
     "iopub.status.busy": "2025-08-11T13:05:09.834997Z",
     "iopub.status.idle": "2025-08-11T13:05:09.841548Z",
     "shell.execute_reply": "2025-08-11T13:05:09.840709Z"
    },
    "papermill": {
     "duration": 0.039201,
     "end_time": "2025-08-11T13:05:09.843216",
     "exception": false,
     "start_time": "2025-08-11T13:05:09.804015",
     "status": "completed"
    },
    "tags": []
   },
   "outputs": [
    {
     "data": {
      "text/plain": [
       "array([[ 0.70637943, -1.44127155,  1.51187171, ...,  1.02148941,\n",
       "        -0.73592134, -0.43343649],\n",
       "       [ 0.08145598, -0.75947244,  0.50197472, ...,  1.23102956,\n",
       "        -0.49600038, -0.43343649],\n",
       "       [ 0.70637943, -1.55490474, -0.94073525, ...,  1.30438283,\n",
       "        -0.73592134, -0.43343649],\n",
       "       ...,\n",
       "       [-1.16839092, -0.98673881,  0.79051672, ..., -1.51659057,\n",
       "        -0.07775979, -0.43343649],\n",
       "       [-0.54346747, -1.21400518,  1.22332971, ..., -1.52028666,\n",
       "        -0.73592134,  0.71764924],\n",
       "       [ 0.08145598,  0.83139217,  1.51187171, ..., -0.05293696,\n",
       "        -0.73592134, -0.43343649]])"
      ]
     },
     "execution_count": 33,
     "metadata": {},
     "output_type": "execute_result"
    }
   ],
   "source": [
    "X_test"
   ]
  },
  {
   "cell_type": "markdown",
   "id": "f61fd42c",
   "metadata": {
    "papermill": {
     "duration": 0.030368,
     "end_time": "2025-08-11T13:05:09.904213",
     "exception": false,
     "start_time": "2025-08-11T13:05:09.873845",
     "status": "completed"
    },
    "tags": []
   },
   "source": [
    "### Default Parameters"
   ]
  },
  {
   "cell_type": "code",
   "execution_count": 34,
   "id": "43b8b98c",
   "metadata": {
    "execution": {
     "iopub.execute_input": "2025-08-11T13:05:09.966709Z",
     "iopub.status.busy": "2025-08-11T13:05:09.966372Z",
     "iopub.status.idle": "2025-08-11T13:05:09.972741Z",
     "shell.execute_reply": "2025-08-11T13:05:09.971942Z"
    },
    "papermill": {
     "duration": 0.03944,
     "end_time": "2025-08-11T13:05:09.974128",
     "exception": false,
     "start_time": "2025-08-11T13:05:09.934688",
     "status": "completed"
    },
    "tags": []
   },
   "outputs": [
    {
     "data": {
      "text/html": [
       "<style>#sk-container-id-4 {color: black;background-color: white;}#sk-container-id-4 pre{padding: 0;}#sk-container-id-4 div.sk-toggleable {background-color: white;}#sk-container-id-4 label.sk-toggleable__label {cursor: pointer;display: block;width: 100%;margin-bottom: 0;padding: 0.3em;box-sizing: border-box;text-align: center;}#sk-container-id-4 label.sk-toggleable__label-arrow:before {content: \"▸\";float: left;margin-right: 0.25em;color: #696969;}#sk-container-id-4 label.sk-toggleable__label-arrow:hover:before {color: black;}#sk-container-id-4 div.sk-estimator:hover label.sk-toggleable__label-arrow:before {color: black;}#sk-container-id-4 div.sk-toggleable__content {max-height: 0;max-width: 0;overflow: hidden;text-align: left;background-color: #f0f8ff;}#sk-container-id-4 div.sk-toggleable__content pre {margin: 0.2em;color: black;border-radius: 0.25em;background-color: #f0f8ff;}#sk-container-id-4 input.sk-toggleable__control:checked~div.sk-toggleable__content {max-height: 200px;max-width: 100%;overflow: auto;}#sk-container-id-4 input.sk-toggleable__control:checked~label.sk-toggleable__label-arrow:before {content: \"▾\";}#sk-container-id-4 div.sk-estimator input.sk-toggleable__control:checked~label.sk-toggleable__label {background-color: #d4ebff;}#sk-container-id-4 div.sk-label input.sk-toggleable__control:checked~label.sk-toggleable__label {background-color: #d4ebff;}#sk-container-id-4 input.sk-hidden--visually {border: 0;clip: rect(1px 1px 1px 1px);clip: rect(1px, 1px, 1px, 1px);height: 1px;margin: -1px;overflow: hidden;padding: 0;position: absolute;width: 1px;}#sk-container-id-4 div.sk-estimator {font-family: monospace;background-color: #f0f8ff;border: 1px dotted black;border-radius: 0.25em;box-sizing: border-box;margin-bottom: 0.5em;}#sk-container-id-4 div.sk-estimator:hover {background-color: #d4ebff;}#sk-container-id-4 div.sk-parallel-item::after {content: \"\";width: 100%;border-bottom: 1px solid gray;flex-grow: 1;}#sk-container-id-4 div.sk-label:hover label.sk-toggleable__label {background-color: #d4ebff;}#sk-container-id-4 div.sk-serial::before {content: \"\";position: absolute;border-left: 1px solid gray;box-sizing: border-box;top: 0;bottom: 0;left: 50%;z-index: 0;}#sk-container-id-4 div.sk-serial {display: flex;flex-direction: column;align-items: center;background-color: white;padding-right: 0.2em;padding-left: 0.2em;position: relative;}#sk-container-id-4 div.sk-item {position: relative;z-index: 1;}#sk-container-id-4 div.sk-parallel {display: flex;align-items: stretch;justify-content: center;background-color: white;position: relative;}#sk-container-id-4 div.sk-item::before, #sk-container-id-4 div.sk-parallel-item::before {content: \"\";position: absolute;border-left: 1px solid gray;box-sizing: border-box;top: 0;bottom: 0;left: 50%;z-index: -1;}#sk-container-id-4 div.sk-parallel-item {display: flex;flex-direction: column;z-index: 1;position: relative;background-color: white;}#sk-container-id-4 div.sk-parallel-item:first-child::after {align-self: flex-end;width: 50%;}#sk-container-id-4 div.sk-parallel-item:last-child::after {align-self: flex-start;width: 50%;}#sk-container-id-4 div.sk-parallel-item:only-child::after {width: 0;}#sk-container-id-4 div.sk-dashed-wrapped {border: 1px dashed gray;margin: 0 0.4em 0.5em 0.4em;box-sizing: border-box;padding-bottom: 0.4em;background-color: white;}#sk-container-id-4 div.sk-label label {font-family: monospace;font-weight: bold;display: inline-block;line-height: 1.2em;}#sk-container-id-4 div.sk-label-container {text-align: center;}#sk-container-id-4 div.sk-container {/* jupyter's `normalize.less` sets `[hidden] { display: none; }` but bootstrap.min.css set `[hidden] { display: none !important; }` so we also need the `!important` here to be able to override the default hidden behavior on the sphinx rendered scikit-learn.org. See: https://github.com/scikit-learn/scikit-learn/issues/21755 */display: inline-block !important;position: relative;}#sk-container-id-4 div.sk-text-repr-fallback {display: none;}</style><div id=\"sk-container-id-4\" class=\"sk-top-container\"><div class=\"sk-text-repr-fallback\"><pre>Lasso(alpha=0.001, max_iter=10000, random_state=42)</pre><b>In a Jupyter environment, please rerun this cell to show the HTML representation or trust the notebook. <br />On GitHub, the HTML representation is unable to render, please try loading this page with nbviewer.org.</b></div><div class=\"sk-container\" hidden><div class=\"sk-item\"><div class=\"sk-estimator sk-toggleable\"><input class=\"sk-toggleable__control sk-hidden--visually\" id=\"sk-estimator-id-6\" type=\"checkbox\" checked><label for=\"sk-estimator-id-6\" class=\"sk-toggleable__label sk-toggleable__label-arrow\">Lasso</label><div class=\"sk-toggleable__content\"><pre>Lasso(alpha=0.001, max_iter=10000, random_state=42)</pre></div></div></div></div></div>"
      ],
      "text/plain": [
       "Lasso(alpha=0.001, max_iter=10000, random_state=42)"
      ]
     },
     "execution_count": 34,
     "metadata": {},
     "output_type": "execute_result"
    }
   ],
   "source": [
    "training_model = LassoR(alpha=0.001, random_state=42, max_iter=10000)\n",
    "training_model"
   ]
  },
  {
   "cell_type": "code",
   "execution_count": 35,
   "id": "b99faa24",
   "metadata": {
    "execution": {
     "iopub.execute_input": "2025-08-11T13:05:10.038172Z",
     "iopub.status.busy": "2025-08-11T13:05:10.037847Z",
     "iopub.status.idle": "2025-08-11T13:05:10.058763Z",
     "shell.execute_reply": "2025-08-11T13:05:10.055615Z"
    },
    "papermill": {
     "duration": 0.054776,
     "end_time": "2025-08-11T13:05:10.060602",
     "exception": false,
     "start_time": "2025-08-11T13:05:10.005826",
     "status": "completed"
    },
    "tags": []
   },
   "outputs": [
    {
     "name": "stdout",
     "output_type": "stream",
     "text": [
      "CPU times: user 28.3 ms, sys: 0 ns, total: 28.3 ms\n",
      "Wall time: 11.6 ms\n"
     ]
    },
    {
     "data": {
      "text/html": [
       "<style>#sk-container-id-5 {color: black;background-color: white;}#sk-container-id-5 pre{padding: 0;}#sk-container-id-5 div.sk-toggleable {background-color: white;}#sk-container-id-5 label.sk-toggleable__label {cursor: pointer;display: block;width: 100%;margin-bottom: 0;padding: 0.3em;box-sizing: border-box;text-align: center;}#sk-container-id-5 label.sk-toggleable__label-arrow:before {content: \"▸\";float: left;margin-right: 0.25em;color: #696969;}#sk-container-id-5 label.sk-toggleable__label-arrow:hover:before {color: black;}#sk-container-id-5 div.sk-estimator:hover label.sk-toggleable__label-arrow:before {color: black;}#sk-container-id-5 div.sk-toggleable__content {max-height: 0;max-width: 0;overflow: hidden;text-align: left;background-color: #f0f8ff;}#sk-container-id-5 div.sk-toggleable__content pre {margin: 0.2em;color: black;border-radius: 0.25em;background-color: #f0f8ff;}#sk-container-id-5 input.sk-toggleable__control:checked~div.sk-toggleable__content {max-height: 200px;max-width: 100%;overflow: auto;}#sk-container-id-5 input.sk-toggleable__control:checked~label.sk-toggleable__label-arrow:before {content: \"▾\";}#sk-container-id-5 div.sk-estimator input.sk-toggleable__control:checked~label.sk-toggleable__label {background-color: #d4ebff;}#sk-container-id-5 div.sk-label input.sk-toggleable__control:checked~label.sk-toggleable__label {background-color: #d4ebff;}#sk-container-id-5 input.sk-hidden--visually {border: 0;clip: rect(1px 1px 1px 1px);clip: rect(1px, 1px, 1px, 1px);height: 1px;margin: -1px;overflow: hidden;padding: 0;position: absolute;width: 1px;}#sk-container-id-5 div.sk-estimator {font-family: monospace;background-color: #f0f8ff;border: 1px dotted black;border-radius: 0.25em;box-sizing: border-box;margin-bottom: 0.5em;}#sk-container-id-5 div.sk-estimator:hover {background-color: #d4ebff;}#sk-container-id-5 div.sk-parallel-item::after {content: \"\";width: 100%;border-bottom: 1px solid gray;flex-grow: 1;}#sk-container-id-5 div.sk-label:hover label.sk-toggleable__label {background-color: #d4ebff;}#sk-container-id-5 div.sk-serial::before {content: \"\";position: absolute;border-left: 1px solid gray;box-sizing: border-box;top: 0;bottom: 0;left: 50%;z-index: 0;}#sk-container-id-5 div.sk-serial {display: flex;flex-direction: column;align-items: center;background-color: white;padding-right: 0.2em;padding-left: 0.2em;position: relative;}#sk-container-id-5 div.sk-item {position: relative;z-index: 1;}#sk-container-id-5 div.sk-parallel {display: flex;align-items: stretch;justify-content: center;background-color: white;position: relative;}#sk-container-id-5 div.sk-item::before, #sk-container-id-5 div.sk-parallel-item::before {content: \"\";position: absolute;border-left: 1px solid gray;box-sizing: border-box;top: 0;bottom: 0;left: 50%;z-index: -1;}#sk-container-id-5 div.sk-parallel-item {display: flex;flex-direction: column;z-index: 1;position: relative;background-color: white;}#sk-container-id-5 div.sk-parallel-item:first-child::after {align-self: flex-end;width: 50%;}#sk-container-id-5 div.sk-parallel-item:last-child::after {align-self: flex-start;width: 50%;}#sk-container-id-5 div.sk-parallel-item:only-child::after {width: 0;}#sk-container-id-5 div.sk-dashed-wrapped {border: 1px dashed gray;margin: 0 0.4em 0.5em 0.4em;box-sizing: border-box;padding-bottom: 0.4em;background-color: white;}#sk-container-id-5 div.sk-label label {font-family: monospace;font-weight: bold;display: inline-block;line-height: 1.2em;}#sk-container-id-5 div.sk-label-container {text-align: center;}#sk-container-id-5 div.sk-container {/* jupyter's `normalize.less` sets `[hidden] { display: none; }` but bootstrap.min.css set `[hidden] { display: none !important; }` so we also need the `!important` here to be able to override the default hidden behavior on the sphinx rendered scikit-learn.org. See: https://github.com/scikit-learn/scikit-learn/issues/21755 */display: inline-block !important;position: relative;}#sk-container-id-5 div.sk-text-repr-fallback {display: none;}</style><div id=\"sk-container-id-5\" class=\"sk-top-container\"><div class=\"sk-text-repr-fallback\"><pre>Lasso(alpha=0.001, max_iter=10000, random_state=42)</pre><b>In a Jupyter environment, please rerun this cell to show the HTML representation or trust the notebook. <br />On GitHub, the HTML representation is unable to render, please try loading this page with nbviewer.org.</b></div><div class=\"sk-container\" hidden><div class=\"sk-item\"><div class=\"sk-estimator sk-toggleable\"><input class=\"sk-toggleable__control sk-hidden--visually\" id=\"sk-estimator-id-7\" type=\"checkbox\" checked><label for=\"sk-estimator-id-7\" class=\"sk-toggleable__label sk-toggleable__label-arrow\">Lasso</label><div class=\"sk-toggleable__content\"><pre>Lasso(alpha=0.001, max_iter=10000, random_state=42)</pre></div></div></div></div></div>"
      ],
      "text/plain": [
       "Lasso(alpha=0.001, max_iter=10000, random_state=42)"
      ]
     },
     "execution_count": 35,
     "metadata": {},
     "output_type": "execute_result"
    }
   ],
   "source": [
    "%%time\n",
    "training_model.fit(X_train, y_train)"
   ]
  },
  {
   "cell_type": "code",
   "execution_count": 36,
   "id": "a2abf5c6",
   "metadata": {
    "execution": {
     "iopub.execute_input": "2025-08-11T13:05:10.179868Z",
     "iopub.status.busy": "2025-08-11T13:05:10.179067Z",
     "iopub.status.idle": "2025-08-11T13:05:10.185725Z",
     "shell.execute_reply": "2025-08-11T13:05:10.184914Z"
    },
    "papermill": {
     "duration": 0.067885,
     "end_time": "2025-08-11T13:05:10.187136",
     "exception": false,
     "start_time": "2025-08-11T13:05:10.119251",
     "status": "completed"
    },
    "tags": []
   },
   "outputs": [
    {
     "data": {
      "text/plain": [
       "array([0.00247851, 0.27406501, 0.00369553, ..., 0.74374264, 0.00578442,\n",
       "       0.00278918])"
      ]
     },
     "execution_count": 36,
     "metadata": {},
     "output_type": "execute_result"
    }
   ],
   "source": [
    "y_pred = training_model.predict(X_test)\n",
    "y_pred"
   ]
  },
  {
   "cell_type": "code",
   "execution_count": 37,
   "id": "1e6e50af",
   "metadata": {
    "execution": {
     "iopub.execute_input": "2025-08-11T13:05:10.250211Z",
     "iopub.status.busy": "2025-08-11T13:05:10.249909Z",
     "iopub.status.idle": "2025-08-11T13:05:10.256282Z",
     "shell.execute_reply": "2025-08-11T13:05:10.255569Z"
    },
    "papermill": {
     "duration": 0.039345,
     "end_time": "2025-08-11T13:05:10.257529",
     "exception": false,
     "start_time": "2025-08-11T13:05:10.218184",
     "status": "completed"
    },
    "tags": []
   },
   "outputs": [
    {
     "data": {
      "text/plain": [
       "5158     0.00\n",
       "3831     0.36\n",
       "5117     0.00\n",
       "6326     2.70\n",
       "11359    0.49\n",
       "         ... \n",
       "10290    0.30\n",
       "13995    0.00\n",
       "9665     0.90\n",
       "2276     0.00\n",
       "4174     0.00\n",
       "Name: SolarEnergy, Length: 2924, dtype: float64"
      ]
     },
     "execution_count": 37,
     "metadata": {},
     "output_type": "execute_result"
    }
   ],
   "source": [
    "y_test"
   ]
  },
  {
   "cell_type": "code",
   "execution_count": 38,
   "id": "fd077624",
   "metadata": {
    "execution": {
     "iopub.execute_input": "2025-08-11T13:05:10.323341Z",
     "iopub.status.busy": "2025-08-11T13:05:10.323014Z",
     "iopub.status.idle": "2025-08-11T13:05:10.329322Z",
     "shell.execute_reply": "2025-08-11T13:05:10.328557Z"
    },
    "papermill": {
     "duration": 0.040164,
     "end_time": "2025-08-11T13:05:10.330686",
     "exception": false,
     "start_time": "2025-08-11T13:05:10.290522",
     "status": "completed"
    },
    "tags": []
   },
   "outputs": [],
   "source": [
    "mse = mean_squared_error(y_test, y_pred)\n",
    "mae = mean_absolute_error(y_test, y_pred)\n",
    "r2 = r2_score(y_test, y_pred)\n",
    "rmse = math.sqrt(mse)"
   ]
  },
  {
   "cell_type": "code",
   "execution_count": 39,
   "id": "2e95cf7b",
   "metadata": {
    "execution": {
     "iopub.execute_input": "2025-08-11T13:05:10.395974Z",
     "iopub.status.busy": "2025-08-11T13:05:10.395192Z",
     "iopub.status.idle": "2025-08-11T13:05:10.400299Z",
     "shell.execute_reply": "2025-08-11T13:05:10.399339Z"
    },
    "papermill": {
     "duration": 0.038856,
     "end_time": "2025-08-11T13:05:10.401713",
     "exception": false,
     "start_time": "2025-08-11T13:05:10.362857",
     "status": "completed"
    },
    "tags": []
   },
   "outputs": [
    {
     "name": "stdout",
     "output_type": "stream",
     "text": [
      "MSE Score: 0.004426547062889539\n",
      "MAE Score: 0.04306790881285143\n",
      "R2 Score: 0.9963669080958119\n",
      "RMSE Score: 0.06653230089880809\n"
     ]
    }
   ],
   "source": [
    "print(\"MSE Score:\", mse)\n",
    "print(\"MAE Score:\", mae)\n",
    "print(\"R2 Score:\", r2)\n",
    "print(\"RMSE Score:\", rmse)"
   ]
  },
  {
   "cell_type": "code",
   "execution_count": 40,
   "id": "c16ac894",
   "metadata": {
    "execution": {
     "iopub.execute_input": "2025-08-11T13:05:10.468167Z",
     "iopub.status.busy": "2025-08-11T13:05:10.467565Z",
     "iopub.status.idle": "2025-08-11T13:05:10.478190Z",
     "shell.execute_reply": "2025-08-11T13:05:10.477335Z"
    },
    "papermill": {
     "duration": 0.04518,
     "end_time": "2025-08-11T13:05:10.479654",
     "exception": false,
     "start_time": "2025-08-11T13:05:10.434474",
     "status": "completed"
    },
    "tags": []
   },
   "outputs": [
    {
     "name": "stdout",
     "output_type": "stream",
     "text": [
      "✨ New regression model added:\n",
      "   MSE: 0.004427, R²: 0.996367\n",
      "   Features: 27\n",
      "💾 Registry updated: Model_Training_History/History_Regression.csv\n"
     ]
    }
   ],
   "source": [
    "regression_params = {\n",
    "    'model_name': model_name_for_saving,\n",
    "    'scaler_name': \"StandardScaler\",\n",
    "    'features_list': feature_columns_for_saving,\n",
    "    'target_column': target_name_for_saving,\n",
    "    'mse': mse,\n",
    "    'mae': mae,\n",
    "    'rmse': rmse,\n",
    "    'r2': r2,\n",
    "    'parameters': json.dumps(training_model.get_params())\n",
    "}\n",
    "save_model_performance_if_better('regression', regression_params)"
   ]
  },
  {
   "cell_type": "markdown",
   "id": "10730a39",
   "metadata": {
    "papermill": {
     "duration": 0.031581,
     "end_time": "2025-08-11T13:05:10.543400",
     "exception": false,
     "start_time": "2025-08-11T13:05:10.511819",
     "status": "completed"
    },
    "tags": []
   },
   "source": [
    "### Tuning with Grid Search"
   ]
  },
  {
   "cell_type": "code",
   "execution_count": 41,
   "id": "3bc66b4c",
   "metadata": {
    "execution": {
     "iopub.execute_input": "2025-08-11T13:05:10.608612Z",
     "iopub.status.busy": "2025-08-11T13:05:10.608310Z",
     "iopub.status.idle": "2025-08-11T13:05:10.612703Z",
     "shell.execute_reply": "2025-08-11T13:05:10.611840Z"
    },
    "papermill": {
     "duration": 0.039148,
     "end_time": "2025-08-11T13:05:10.614203",
     "exception": false,
     "start_time": "2025-08-11T13:05:10.575055",
     "status": "completed"
    },
    "tags": []
   },
   "outputs": [],
   "source": [
    "grid_search = GridSearchCV(\n",
    "    LassoR(random_state=42), \n",
    "    grid_param, \n",
    "    cv=5, \n",
    "    scoring='neg_mean_squared_error', \n",
    "    n_jobs=-1, # allow parallel processing, you cant use your own laptop while this runs\n",
    "    verbose=1\n",
    ")"
   ]
  },
  {
   "cell_type": "code",
   "execution_count": null,
   "id": "0d7072d2",
   "metadata": {
    "execution": {
     "iopub.execute_input": "2025-08-11T13:05:10.679393Z",
     "iopub.status.busy": "2025-08-11T13:05:10.679050Z",
     "iopub.status.idle": "2025-08-11T13:21:23.804756Z",
     "shell.execute_reply": "2025-08-11T13:21:23.803855Z"
    },
    "papermill": {
     "duration": 973.21945,
     "end_time": "2025-08-11T13:21:23.865373",
     "exception": false,
     "start_time": "2025-08-11T13:05:10.645923",
     "status": "completed"
    },
    "tags": []
   },
   "outputs": [],
   "source": [
    "%%time\n",
    "print(\"Starting hyperparameter tuning...\")\n",
    "grid_search.fit(X_train, y_train)"
   ]
  },
  {
   "cell_type": "code",
   "execution_count": 43,
   "id": "90094684",
   "metadata": {
    "execution": {
     "iopub.execute_input": "2025-08-11T13:21:23.987190Z",
     "iopub.status.busy": "2025-08-11T13:21:23.986309Z",
     "iopub.status.idle": "2025-08-11T13:21:23.991930Z",
     "shell.execute_reply": "2025-08-11T13:21:23.991042Z"
    },
    "papermill": {
     "duration": 0.067399,
     "end_time": "2025-08-11T13:21:23.993231",
     "exception": false,
     "start_time": "2025-08-11T13:21:23.925832",
     "status": "completed"
    },
    "tags": []
   },
   "outputs": [
    {
     "name": "stdout",
     "output_type": "stream",
     "text": [
      "TUNING RESULTS\n",
      "==================================================\n",
      "Best Parameters: {'alpha': 0.0001, 'fit_intercept': True, 'max_iter': 1000, 'positive': True, 'precompute': True, 'selection': 'cyclic', 'tol': 1e-06, 'warm_start': False}\n",
      "Best Cross-Validation Score (Negative MSE): -0.004307154409673224\n",
      "Best Cross-Validation Score (MSE): 0.004307154409673224\n",
      "Best Cross-Validation Score (RMSE): 0.06562891443314618\n"
     ]
    }
   ],
   "source": [
    "print(\"TUNING RESULTS\")\n",
    "print(\"=\"*50)\n",
    "print(\"Best Parameters:\", grid_search.best_params_)\n",
    "print(\"Best Cross-Validation Score (Negative MSE):\", grid_search.best_score_)\n",
    "print(\"Best Cross-Validation Score (MSE):\", -grid_search.best_score_)\n",
    "print(\"Best Cross-Validation Score (RMSE):\", math.sqrt(-grid_search.best_score_))"
   ]
  },
  {
   "cell_type": "code",
   "execution_count": 44,
   "id": "24b7d19e",
   "metadata": {
    "execution": {
     "iopub.execute_input": "2025-08-11T13:21:24.114427Z",
     "iopub.status.busy": "2025-08-11T13:21:24.114086Z",
     "iopub.status.idle": "2025-08-11T13:21:24.119307Z",
     "shell.execute_reply": "2025-08-11T13:21:24.118360Z"
    },
    "papermill": {
     "duration": 0.067154,
     "end_time": "2025-08-11T13:21:24.120801",
     "exception": false,
     "start_time": "2025-08-11T13:21:24.053647",
     "status": "completed"
    },
    "tags": []
   },
   "outputs": [],
   "source": [
    "grid_search_best_model = grid_search.best_estimator_\n",
    "y_pred = grid_search_best_model.predict(X_test)"
   ]
  },
  {
   "cell_type": "code",
   "execution_count": 45,
   "id": "a0d517c4",
   "metadata": {
    "execution": {
     "iopub.execute_input": "2025-08-11T13:21:24.244090Z",
     "iopub.status.busy": "2025-08-11T13:21:24.243754Z",
     "iopub.status.idle": "2025-08-11T13:21:24.251144Z",
     "shell.execute_reply": "2025-08-11T13:21:24.250201Z"
    },
    "papermill": {
     "duration": 0.071496,
     "end_time": "2025-08-11T13:21:24.252683",
     "exception": false,
     "start_time": "2025-08-11T13:21:24.181187",
     "status": "completed"
    },
    "tags": []
   },
   "outputs": [],
   "source": [
    "mse_grid_search = mean_squared_error(y_test, y_pred)\n",
    "mae_grid_search = mean_absolute_error(y_test, y_pred)\n",
    "r2_grid_search = r2_score(y_test, y_pred)\n",
    "rmse_grid_search = math.sqrt(mse_grid_search)"
   ]
  },
  {
   "cell_type": "code",
   "execution_count": 46,
   "id": "49c2dd31",
   "metadata": {
    "execution": {
     "iopub.execute_input": "2025-08-11T13:21:24.446675Z",
     "iopub.status.busy": "2025-08-11T13:21:24.446366Z",
     "iopub.status.idle": "2025-08-11T13:21:24.451533Z",
     "shell.execute_reply": "2025-08-11T13:21:24.450596Z"
    },
    "papermill": {
     "duration": 0.067636,
     "end_time": "2025-08-11T13:21:24.453005",
     "exception": false,
     "start_time": "2025-08-11T13:21:24.385369",
     "status": "completed"
    },
    "tags": []
   },
   "outputs": [
    {
     "name": "stdout",
     "output_type": "stream",
     "text": [
      "MSE Score: 0.004413161518530677\n",
      "MAE Score: 0.04320329304747381\n",
      "R2 Score: 0.9963778942916328\n",
      "RMSE Score: 0.06643163040698818\n"
     ]
    }
   ],
   "source": [
    "print(\"MSE Score:\", mse_grid_search)\n",
    "print(\"MAE Score:\", mae_grid_search)\n",
    "print(\"R2 Score:\", r2_grid_search)\n",
    "print(\"RMSE Score:\", rmse_grid_search)"
   ]
  },
  {
   "cell_type": "code",
   "execution_count": 47,
   "id": "8c71d252",
   "metadata": {
    "execution": {
     "iopub.execute_input": "2025-08-11T13:21:24.574051Z",
     "iopub.status.busy": "2025-08-11T13:21:24.573767Z",
     "iopub.status.idle": "2025-08-11T13:21:24.586401Z",
     "shell.execute_reply": "2025-08-11T13:21:24.585470Z"
    },
    "papermill": {
     "duration": 0.074799,
     "end_time": "2025-08-11T13:21:24.587824",
     "exception": false,
     "start_time": "2025-08-11T13:21:24.513025",
     "status": "completed"
    },
    "tags": []
   },
   "outputs": [
    {
     "name": "stdout",
     "output_type": "stream",
     "text": [
      "✨ New regression model added:\n",
      "   MSE: 0.004413, R²: 0.996378\n",
      "   Features: 27\n",
      "💾 Registry updated: Model_Training_History/History_Regression.csv\n"
     ]
    }
   ],
   "source": [
    "regression_params = {\n",
    "    'model_name': model_name_for_saving + \" Tuned\",\n",
    "    'scaler_name': \"StandardScaler\",\n",
    "    'features_list': feature_columns_for_saving,\n",
    "    'target_column': target_name_for_saving,\n",
    "    'mse': mse_grid_search,\n",
    "    'mae': mae_grid_search,\n",
    "    'rmse': rmse_grid_search,\n",
    "    'r2': r2_grid_search,\n",
    "    'parameters' : json.dumps({\n",
    "        \"best_params\": grid_search.best_params_,\n",
    "        \"cv_score\": grid_search.best_score_,\n",
    "        \"all_params\": grid_search_best_model.get_params()\n",
    "    })\n",
    "}\n",
    "save_model_performance_if_better('regression', regression_params)"
   ]
  },
  {
   "cell_type": "markdown",
   "id": "8b7e3674",
   "metadata": {
    "papermill": {
     "duration": 0.059623,
     "end_time": "2025-08-11T13:21:24.708877",
     "exception": false,
     "start_time": "2025-08-11T13:21:24.649254",
     "status": "completed"
    },
    "tags": []
   },
   "source": [
    "## Robust Scaler"
   ]
  },
  {
   "cell_type": "code",
   "execution_count": 48,
   "id": "7bf8a975",
   "metadata": {
    "execution": {
     "iopub.execute_input": "2025-08-11T13:21:24.831394Z",
     "iopub.status.busy": "2025-08-11T13:21:24.831029Z",
     "iopub.status.idle": "2025-08-11T13:21:24.857736Z",
     "shell.execute_reply": "2025-08-11T13:21:24.856985Z"
    },
    "papermill": {
     "duration": 0.090664,
     "end_time": "2025-08-11T13:21:24.859345",
     "exception": false,
     "start_time": "2025-08-11T13:21:24.768681",
     "status": "completed"
    },
    "tags": []
   },
   "outputs": [],
   "source": [
    "scaler = RobustScaler()\n",
    "X_train = scaler.fit_transform(X_train_raw)\n",
    "X_test = scaler.transform(X_test_raw)"
   ]
  },
  {
   "cell_type": "code",
   "execution_count": 49,
   "id": "bea8c582",
   "metadata": {
    "execution": {
     "iopub.execute_input": "2025-08-11T13:21:24.983797Z",
     "iopub.status.busy": "2025-08-11T13:21:24.983472Z",
     "iopub.status.idle": "2025-08-11T13:21:24.989681Z",
     "shell.execute_reply": "2025-08-11T13:21:24.988883Z"
    },
    "papermill": {
     "duration": 0.069846,
     "end_time": "2025-08-11T13:21:24.990934",
     "exception": false,
     "start_time": "2025-08-11T13:21:24.921088",
     "status": "completed"
    },
    "tags": []
   },
   "outputs": [
    {
     "data": {
      "text/plain": [
       "array([[ 0.6       ,  0.66666667, -0.16666667, ..., -0.03738547,\n",
       "         1.44008264,  8.87596899],\n",
       "       [ 1.        , -0.46666667,  0.33333333, ..., -0.84268652,\n",
       "         0.62603306,  0.        ],\n",
       "       [-0.8       , -0.13333333, -1.        , ..., -0.84268652,\n",
       "         0.        ,  0.        ],\n",
       "       ...,\n",
       "       [ 0.4       ,  0.73333333, -0.16666667, ...,  0.5899051 ,\n",
       "         0.6322314 ,  0.75193798],\n",
       "       [-1.        , -0.2       ,  0.75      , ..., -0.84268652,\n",
       "         0.        ,  0.        ],\n",
       "       [ 0.6       , -0.46666667, -0.33333333, ...,  0.61755563,\n",
       "         0.59917355,  7.5       ]])"
      ]
     },
     "execution_count": 49,
     "metadata": {},
     "output_type": "execute_result"
    }
   ],
   "source": [
    "X_train"
   ]
  },
  {
   "cell_type": "code",
   "execution_count": 50,
   "id": "70c8ee3e",
   "metadata": {
    "execution": {
     "iopub.execute_input": "2025-08-11T13:21:25.112082Z",
     "iopub.status.busy": "2025-08-11T13:21:25.111759Z",
     "iopub.status.idle": "2025-08-11T13:21:25.117817Z",
     "shell.execute_reply": "2025-08-11T13:21:25.116956Z"
    },
    "papermill": {
     "duration": 0.068057,
     "end_time": "2025-08-11T13:21:25.119252",
     "exception": false,
     "start_time": "2025-08-11T13:21:25.051195",
     "status": "completed"
    },
    "tags": []
   },
   "outputs": [
    {
     "data": {
      "text/plain": [
       "array([[ 4.00000000e-01, -8.66666667e-01,  8.33333333e-01, ...,\n",
       "         6.20009817e-01,  0.00000000e+00,  0.00000000e+00],\n",
       "       [ 0.00000000e+00, -4.66666667e-01,  2.50000000e-01, ...,\n",
       "         7.40592277e-01,  1.52892562e-01,  0.00000000e+00],\n",
       "       [ 4.00000000e-01, -9.33333333e-01, -5.83333333e-01, ...,\n",
       "         7.82804319e-01,  0.00000000e+00,  0.00000000e+00],\n",
       "       ...,\n",
       "       [-8.00000000e-01, -6.00000000e-01,  4.16666667e-01, ...,\n",
       "        -8.40559555e-01,  4.19421488e-01,  0.00000000e+00],\n",
       "       [-4.00000000e-01, -7.33333333e-01,  6.66666667e-01, ...,\n",
       "        -8.42686518e-01,  0.00000000e+00,  6.67829457e+00],\n",
       "       [ 0.00000000e+00,  4.66666667e-01,  8.33333333e-01, ...,\n",
       "         1.71793194e-03,  0.00000000e+00,  0.00000000e+00]])"
      ]
     },
     "execution_count": 50,
     "metadata": {},
     "output_type": "execute_result"
    }
   ],
   "source": [
    "X_test"
   ]
  },
  {
   "cell_type": "markdown",
   "id": "cf6e7c18",
   "metadata": {
    "papermill": {
     "duration": 0.063452,
     "end_time": "2025-08-11T13:21:25.244769",
     "exception": false,
     "start_time": "2025-08-11T13:21:25.181317",
     "status": "completed"
    },
    "tags": []
   },
   "source": [
    "### Default Parameters"
   ]
  },
  {
   "cell_type": "code",
   "execution_count": 51,
   "id": "9974d357",
   "metadata": {
    "execution": {
     "iopub.execute_input": "2025-08-11T13:21:25.368859Z",
     "iopub.status.busy": "2025-08-11T13:21:25.368547Z",
     "iopub.status.idle": "2025-08-11T13:21:25.376158Z",
     "shell.execute_reply": "2025-08-11T13:21:25.375332Z"
    },
    "papermill": {
     "duration": 0.071872,
     "end_time": "2025-08-11T13:21:25.377830",
     "exception": false,
     "start_time": "2025-08-11T13:21:25.305958",
     "status": "completed"
    },
    "tags": []
   },
   "outputs": [
    {
     "data": {
      "text/html": [
       "<style>#sk-container-id-7 {color: black;background-color: white;}#sk-container-id-7 pre{padding: 0;}#sk-container-id-7 div.sk-toggleable {background-color: white;}#sk-container-id-7 label.sk-toggleable__label {cursor: pointer;display: block;width: 100%;margin-bottom: 0;padding: 0.3em;box-sizing: border-box;text-align: center;}#sk-container-id-7 label.sk-toggleable__label-arrow:before {content: \"▸\";float: left;margin-right: 0.25em;color: #696969;}#sk-container-id-7 label.sk-toggleable__label-arrow:hover:before {color: black;}#sk-container-id-7 div.sk-estimator:hover label.sk-toggleable__label-arrow:before {color: black;}#sk-container-id-7 div.sk-toggleable__content {max-height: 0;max-width: 0;overflow: hidden;text-align: left;background-color: #f0f8ff;}#sk-container-id-7 div.sk-toggleable__content pre {margin: 0.2em;color: black;border-radius: 0.25em;background-color: #f0f8ff;}#sk-container-id-7 input.sk-toggleable__control:checked~div.sk-toggleable__content {max-height: 200px;max-width: 100%;overflow: auto;}#sk-container-id-7 input.sk-toggleable__control:checked~label.sk-toggleable__label-arrow:before {content: \"▾\";}#sk-container-id-7 div.sk-estimator input.sk-toggleable__control:checked~label.sk-toggleable__label {background-color: #d4ebff;}#sk-container-id-7 div.sk-label input.sk-toggleable__control:checked~label.sk-toggleable__label {background-color: #d4ebff;}#sk-container-id-7 input.sk-hidden--visually {border: 0;clip: rect(1px 1px 1px 1px);clip: rect(1px, 1px, 1px, 1px);height: 1px;margin: -1px;overflow: hidden;padding: 0;position: absolute;width: 1px;}#sk-container-id-7 div.sk-estimator {font-family: monospace;background-color: #f0f8ff;border: 1px dotted black;border-radius: 0.25em;box-sizing: border-box;margin-bottom: 0.5em;}#sk-container-id-7 div.sk-estimator:hover {background-color: #d4ebff;}#sk-container-id-7 div.sk-parallel-item::after {content: \"\";width: 100%;border-bottom: 1px solid gray;flex-grow: 1;}#sk-container-id-7 div.sk-label:hover label.sk-toggleable__label {background-color: #d4ebff;}#sk-container-id-7 div.sk-serial::before {content: \"\";position: absolute;border-left: 1px solid gray;box-sizing: border-box;top: 0;bottom: 0;left: 50%;z-index: 0;}#sk-container-id-7 div.sk-serial {display: flex;flex-direction: column;align-items: center;background-color: white;padding-right: 0.2em;padding-left: 0.2em;position: relative;}#sk-container-id-7 div.sk-item {position: relative;z-index: 1;}#sk-container-id-7 div.sk-parallel {display: flex;align-items: stretch;justify-content: center;background-color: white;position: relative;}#sk-container-id-7 div.sk-item::before, #sk-container-id-7 div.sk-parallel-item::before {content: \"\";position: absolute;border-left: 1px solid gray;box-sizing: border-box;top: 0;bottom: 0;left: 50%;z-index: -1;}#sk-container-id-7 div.sk-parallel-item {display: flex;flex-direction: column;z-index: 1;position: relative;background-color: white;}#sk-container-id-7 div.sk-parallel-item:first-child::after {align-self: flex-end;width: 50%;}#sk-container-id-7 div.sk-parallel-item:last-child::after {align-self: flex-start;width: 50%;}#sk-container-id-7 div.sk-parallel-item:only-child::after {width: 0;}#sk-container-id-7 div.sk-dashed-wrapped {border: 1px dashed gray;margin: 0 0.4em 0.5em 0.4em;box-sizing: border-box;padding-bottom: 0.4em;background-color: white;}#sk-container-id-7 div.sk-label label {font-family: monospace;font-weight: bold;display: inline-block;line-height: 1.2em;}#sk-container-id-7 div.sk-label-container {text-align: center;}#sk-container-id-7 div.sk-container {/* jupyter's `normalize.less` sets `[hidden] { display: none; }` but bootstrap.min.css set `[hidden] { display: none !important; }` so we also need the `!important` here to be able to override the default hidden behavior on the sphinx rendered scikit-learn.org. See: https://github.com/scikit-learn/scikit-learn/issues/21755 */display: inline-block !important;position: relative;}#sk-container-id-7 div.sk-text-repr-fallback {display: none;}</style><div id=\"sk-container-id-7\" class=\"sk-top-container\"><div class=\"sk-text-repr-fallback\"><pre>Lasso(alpha=0.001, max_iter=10000, random_state=42)</pre><b>In a Jupyter environment, please rerun this cell to show the HTML representation or trust the notebook. <br />On GitHub, the HTML representation is unable to render, please try loading this page with nbviewer.org.</b></div><div class=\"sk-container\" hidden><div class=\"sk-item\"><div class=\"sk-estimator sk-toggleable\"><input class=\"sk-toggleable__control sk-hidden--visually\" id=\"sk-estimator-id-11\" type=\"checkbox\" checked><label for=\"sk-estimator-id-11\" class=\"sk-toggleable__label sk-toggleable__label-arrow\">Lasso</label><div class=\"sk-toggleable__content\"><pre>Lasso(alpha=0.001, max_iter=10000, random_state=42)</pre></div></div></div></div></div>"
      ],
      "text/plain": [
       "Lasso(alpha=0.001, max_iter=10000, random_state=42)"
      ]
     },
     "execution_count": 51,
     "metadata": {},
     "output_type": "execute_result"
    }
   ],
   "source": [
    "training_model = LassoR(alpha=0.001, random_state=42, max_iter=10000)\n",
    "training_model"
   ]
  },
  {
   "cell_type": "code",
   "execution_count": 52,
   "id": "35614884",
   "metadata": {
    "execution": {
     "iopub.execute_input": "2025-08-11T13:21:25.504740Z",
     "iopub.status.busy": "2025-08-11T13:21:25.504432Z",
     "iopub.status.idle": "2025-08-11T13:21:25.524168Z",
     "shell.execute_reply": "2025-08-11T13:21:25.521024Z"
    },
    "papermill": {
     "duration": 0.085446,
     "end_time": "2025-08-11T13:21:25.525989",
     "exception": false,
     "start_time": "2025-08-11T13:21:25.440543",
     "status": "completed"
    },
    "tags": []
   },
   "outputs": [
    {
     "name": "stdout",
     "output_type": "stream",
     "text": [
      "CPU times: user 27.8 ms, sys: 763 µs, total: 28.5 ms\n",
      "Wall time: 10.8 ms\n"
     ]
    },
    {
     "data": {
      "text/html": [
       "<style>#sk-container-id-8 {color: black;background-color: white;}#sk-container-id-8 pre{padding: 0;}#sk-container-id-8 div.sk-toggleable {background-color: white;}#sk-container-id-8 label.sk-toggleable__label {cursor: pointer;display: block;width: 100%;margin-bottom: 0;padding: 0.3em;box-sizing: border-box;text-align: center;}#sk-container-id-8 label.sk-toggleable__label-arrow:before {content: \"▸\";float: left;margin-right: 0.25em;color: #696969;}#sk-container-id-8 label.sk-toggleable__label-arrow:hover:before {color: black;}#sk-container-id-8 div.sk-estimator:hover label.sk-toggleable__label-arrow:before {color: black;}#sk-container-id-8 div.sk-toggleable__content {max-height: 0;max-width: 0;overflow: hidden;text-align: left;background-color: #f0f8ff;}#sk-container-id-8 div.sk-toggleable__content pre {margin: 0.2em;color: black;border-radius: 0.25em;background-color: #f0f8ff;}#sk-container-id-8 input.sk-toggleable__control:checked~div.sk-toggleable__content {max-height: 200px;max-width: 100%;overflow: auto;}#sk-container-id-8 input.sk-toggleable__control:checked~label.sk-toggleable__label-arrow:before {content: \"▾\";}#sk-container-id-8 div.sk-estimator input.sk-toggleable__control:checked~label.sk-toggleable__label {background-color: #d4ebff;}#sk-container-id-8 div.sk-label input.sk-toggleable__control:checked~label.sk-toggleable__label {background-color: #d4ebff;}#sk-container-id-8 input.sk-hidden--visually {border: 0;clip: rect(1px 1px 1px 1px);clip: rect(1px, 1px, 1px, 1px);height: 1px;margin: -1px;overflow: hidden;padding: 0;position: absolute;width: 1px;}#sk-container-id-8 div.sk-estimator {font-family: monospace;background-color: #f0f8ff;border: 1px dotted black;border-radius: 0.25em;box-sizing: border-box;margin-bottom: 0.5em;}#sk-container-id-8 div.sk-estimator:hover {background-color: #d4ebff;}#sk-container-id-8 div.sk-parallel-item::after {content: \"\";width: 100%;border-bottom: 1px solid gray;flex-grow: 1;}#sk-container-id-8 div.sk-label:hover label.sk-toggleable__label {background-color: #d4ebff;}#sk-container-id-8 div.sk-serial::before {content: \"\";position: absolute;border-left: 1px solid gray;box-sizing: border-box;top: 0;bottom: 0;left: 50%;z-index: 0;}#sk-container-id-8 div.sk-serial {display: flex;flex-direction: column;align-items: center;background-color: white;padding-right: 0.2em;padding-left: 0.2em;position: relative;}#sk-container-id-8 div.sk-item {position: relative;z-index: 1;}#sk-container-id-8 div.sk-parallel {display: flex;align-items: stretch;justify-content: center;background-color: white;position: relative;}#sk-container-id-8 div.sk-item::before, #sk-container-id-8 div.sk-parallel-item::before {content: \"\";position: absolute;border-left: 1px solid gray;box-sizing: border-box;top: 0;bottom: 0;left: 50%;z-index: -1;}#sk-container-id-8 div.sk-parallel-item {display: flex;flex-direction: column;z-index: 1;position: relative;background-color: white;}#sk-container-id-8 div.sk-parallel-item:first-child::after {align-self: flex-end;width: 50%;}#sk-container-id-8 div.sk-parallel-item:last-child::after {align-self: flex-start;width: 50%;}#sk-container-id-8 div.sk-parallel-item:only-child::after {width: 0;}#sk-container-id-8 div.sk-dashed-wrapped {border: 1px dashed gray;margin: 0 0.4em 0.5em 0.4em;box-sizing: border-box;padding-bottom: 0.4em;background-color: white;}#sk-container-id-8 div.sk-label label {font-family: monospace;font-weight: bold;display: inline-block;line-height: 1.2em;}#sk-container-id-8 div.sk-label-container {text-align: center;}#sk-container-id-8 div.sk-container {/* jupyter's `normalize.less` sets `[hidden] { display: none; }` but bootstrap.min.css set `[hidden] { display: none !important; }` so we also need the `!important` here to be able to override the default hidden behavior on the sphinx rendered scikit-learn.org. See: https://github.com/scikit-learn/scikit-learn/issues/21755 */display: inline-block !important;position: relative;}#sk-container-id-8 div.sk-text-repr-fallback {display: none;}</style><div id=\"sk-container-id-8\" class=\"sk-top-container\"><div class=\"sk-text-repr-fallback\"><pre>Lasso(alpha=0.001, max_iter=10000, random_state=42)</pre><b>In a Jupyter environment, please rerun this cell to show the HTML representation or trust the notebook. <br />On GitHub, the HTML representation is unable to render, please try loading this page with nbviewer.org.</b></div><div class=\"sk-container\" hidden><div class=\"sk-item\"><div class=\"sk-estimator sk-toggleable\"><input class=\"sk-toggleable__control sk-hidden--visually\" id=\"sk-estimator-id-12\" type=\"checkbox\" checked><label for=\"sk-estimator-id-12\" class=\"sk-toggleable__label sk-toggleable__label-arrow\">Lasso</label><div class=\"sk-toggleable__content\"><pre>Lasso(alpha=0.001, max_iter=10000, random_state=42)</pre></div></div></div></div></div>"
      ],
      "text/plain": [
       "Lasso(alpha=0.001, max_iter=10000, random_state=42)"
      ]
     },
     "execution_count": 52,
     "metadata": {},
     "output_type": "execute_result"
    }
   ],
   "source": [
    "%%time\n",
    "training_model.fit(X_train, y_train)"
   ]
  },
  {
   "cell_type": "code",
   "execution_count": 53,
   "id": "a1575519",
   "metadata": {
    "execution": {
     "iopub.execute_input": "2025-08-11T13:21:25.697137Z",
     "iopub.status.busy": "2025-08-11T13:21:25.696775Z",
     "iopub.status.idle": "2025-08-11T13:21:25.703001Z",
     "shell.execute_reply": "2025-08-11T13:21:25.702276Z"
    },
    "papermill": {
     "duration": 0.071992,
     "end_time": "2025-08-11T13:21:25.704385",
     "exception": false,
     "start_time": "2025-08-11T13:21:25.632393",
     "status": "completed"
    },
    "tags": []
   },
   "outputs": [
    {
     "data": {
      "text/plain": [
       "array([0.00991474, 0.27015121, 0.00894535, ..., 0.73888469, 0.0118139 ,\n",
       "       0.01010325])"
      ]
     },
     "execution_count": 53,
     "metadata": {},
     "output_type": "execute_result"
    }
   ],
   "source": [
    "y_pred = training_model.predict(X_test)\n",
    "y_pred"
   ]
  },
  {
   "cell_type": "code",
   "execution_count": 54,
   "id": "c6101bf0",
   "metadata": {
    "execution": {
     "iopub.execute_input": "2025-08-11T13:21:25.829747Z",
     "iopub.status.busy": "2025-08-11T13:21:25.829026Z",
     "iopub.status.idle": "2025-08-11T13:21:25.836192Z",
     "shell.execute_reply": "2025-08-11T13:21:25.835228Z"
    },
    "papermill": {
     "duration": 0.070106,
     "end_time": "2025-08-11T13:21:25.837689",
     "exception": false,
     "start_time": "2025-08-11T13:21:25.767583",
     "status": "completed"
    },
    "tags": []
   },
   "outputs": [
    {
     "data": {
      "text/plain": [
       "5158     0.00\n",
       "3831     0.36\n",
       "5117     0.00\n",
       "6326     2.70\n",
       "11359    0.49\n",
       "         ... \n",
       "10290    0.30\n",
       "13995    0.00\n",
       "9665     0.90\n",
       "2276     0.00\n",
       "4174     0.00\n",
       "Name: SolarEnergy, Length: 2924, dtype: float64"
      ]
     },
     "execution_count": 54,
     "metadata": {},
     "output_type": "execute_result"
    }
   ],
   "source": [
    "y_test"
   ]
  },
  {
   "cell_type": "code",
   "execution_count": 55,
   "id": "94963299",
   "metadata": {
    "execution": {
     "iopub.execute_input": "2025-08-11T13:21:25.966300Z",
     "iopub.status.busy": "2025-08-11T13:21:25.965965Z",
     "iopub.status.idle": "2025-08-11T13:21:25.973193Z",
     "shell.execute_reply": "2025-08-11T13:21:25.972216Z"
    },
    "papermill": {
     "duration": 0.073003,
     "end_time": "2025-08-11T13:21:25.974867",
     "exception": false,
     "start_time": "2025-08-11T13:21:25.901864",
     "status": "completed"
    },
    "tags": []
   },
   "outputs": [],
   "source": [
    "mse = mean_squared_error(y_test, y_pred)\n",
    "mae = mean_absolute_error(y_test, y_pred)\n",
    "r2 = r2_score(y_test, y_pred)\n",
    "rmse = math.sqrt(mse)"
   ]
  },
  {
   "cell_type": "code",
   "execution_count": 56,
   "id": "ed99ef0f",
   "metadata": {
    "execution": {
     "iopub.execute_input": "2025-08-11T13:21:26.100712Z",
     "iopub.status.busy": "2025-08-11T13:21:26.100403Z",
     "iopub.status.idle": "2025-08-11T13:21:26.105645Z",
     "shell.execute_reply": "2025-08-11T13:21:26.104614Z"
    },
    "papermill": {
     "duration": 0.068979,
     "end_time": "2025-08-11T13:21:26.107069",
     "exception": false,
     "start_time": "2025-08-11T13:21:26.038090",
     "status": "completed"
    },
    "tags": []
   },
   "outputs": [
    {
     "name": "stdout",
     "output_type": "stream",
     "text": [
      "MSE Score: 0.004465635576647832\n",
      "MAE Score: 0.044245535301014015\n",
      "R2 Score: 0.9963348261681007\n",
      "RMSE Score: 0.06682541115958683\n"
     ]
    }
   ],
   "source": [
    "print(\"MSE Score:\", mse)\n",
    "print(\"MAE Score:\", mae)\n",
    "print(\"R2 Score:\", r2)\n",
    "print(\"RMSE Score:\", rmse)"
   ]
  },
  {
   "cell_type": "code",
   "execution_count": 57,
   "id": "54fbaff6",
   "metadata": {
    "execution": {
     "iopub.execute_input": "2025-08-11T13:21:26.232443Z",
     "iopub.status.busy": "2025-08-11T13:21:26.231613Z",
     "iopub.status.idle": "2025-08-11T13:21:26.242229Z",
     "shell.execute_reply": "2025-08-11T13:21:26.241343Z"
    },
    "papermill": {
     "duration": 0.073662,
     "end_time": "2025-08-11T13:21:26.243621",
     "exception": false,
     "start_time": "2025-08-11T13:21:26.169959",
     "status": "completed"
    },
    "tags": []
   },
   "outputs": [
    {
     "name": "stdout",
     "output_type": "stream",
     "text": [
      "✨ New regression model added:\n",
      "   MSE: 0.004466, R²: 0.996335\n",
      "   Features: 27\n",
      "💾 Registry updated: Model_Training_History/History_Regression.csv\n"
     ]
    }
   ],
   "source": [
    "regression_params = {\n",
    "    'model_name': model_name_for_saving,\n",
    "    'scaler_name': \"RobustScaler\",\n",
    "    'features_list': feature_columns_for_saving,\n",
    "    'target_column': target_name_for_saving,\n",
    "    'mse': mse,\n",
    "    'mae': mae,\n",
    "    'rmse': rmse,\n",
    "    'r2': r2,\n",
    "    'parameters': json.dumps(training_model.get_params())\n",
    "}\n",
    "save_model_performance_if_better('regression', regression_params)"
   ]
  },
  {
   "cell_type": "markdown",
   "id": "b2439f9a",
   "metadata": {
    "papermill": {
     "duration": 0.06146,
     "end_time": "2025-08-11T13:21:26.365343",
     "exception": false,
     "start_time": "2025-08-11T13:21:26.303883",
     "status": "completed"
    },
    "tags": []
   },
   "source": [
    "### Tuning with Grid Search"
   ]
  },
  {
   "cell_type": "code",
   "execution_count": 58,
   "id": "c9734c48",
   "metadata": {
    "execution": {
     "iopub.execute_input": "2025-08-11T13:21:26.488082Z",
     "iopub.status.busy": "2025-08-11T13:21:26.487788Z",
     "iopub.status.idle": "2025-08-11T13:21:26.492172Z",
     "shell.execute_reply": "2025-08-11T13:21:26.491471Z"
    },
    "papermill": {
     "duration": 0.067389,
     "end_time": "2025-08-11T13:21:26.493523",
     "exception": false,
     "start_time": "2025-08-11T13:21:26.426134",
     "status": "completed"
    },
    "tags": []
   },
   "outputs": [],
   "source": [
    "grid_search = GridSearchCV(\n",
    "    LassoR(random_state=42), \n",
    "    grid_param, \n",
    "    cv=5, \n",
    "    scoring='neg_mean_squared_error', \n",
    "    n_jobs=-1, # allow parallel processing, you cant use your own laptop while this runs\n",
    "    verbose=1\n",
    ")"
   ]
  },
  {
   "cell_type": "code",
   "execution_count": null,
   "id": "35d73981",
   "metadata": {
    "execution": {
     "iopub.execute_input": "2025-08-11T13:21:26.616315Z",
     "iopub.status.busy": "2025-08-11T13:21:26.615956Z",
     "iopub.status.idle": "2025-08-11T13:31:17.071311Z",
     "shell.execute_reply": "2025-08-11T13:31:17.070343Z"
    },
    "papermill": {
     "duration": 590.588835,
     "end_time": "2025-08-11T13:31:17.143243",
     "exception": false,
     "start_time": "2025-08-11T13:21:26.554408",
     "status": "completed"
    },
    "tags": []
   },
   "outputs": [],
   "source": [
    "%%time\n",
    "print(\"Starting hyperparameter tuning...\")\n",
    "grid_search.fit(X_train, y_train)"
   ]
  },
  {
   "cell_type": "code",
   "execution_count": 60,
   "id": "493f12f6",
   "metadata": {
    "execution": {
     "iopub.execute_input": "2025-08-11T13:31:17.287325Z",
     "iopub.status.busy": "2025-08-11T13:31:17.286953Z",
     "iopub.status.idle": "2025-08-11T13:31:17.292210Z",
     "shell.execute_reply": "2025-08-11T13:31:17.291346Z"
    },
    "papermill": {
     "duration": 0.07983,
     "end_time": "2025-08-11T13:31:17.293575",
     "exception": false,
     "start_time": "2025-08-11T13:31:17.213745",
     "status": "completed"
    },
    "tags": []
   },
   "outputs": [
    {
     "name": "stdout",
     "output_type": "stream",
     "text": [
      "TUNING RESULTS\n",
      "==================================================\n",
      "Best Parameters: {'alpha': 1e-05, 'fit_intercept': True, 'max_iter': 2000, 'positive': True, 'precompute': True, 'selection': 'cyclic', 'tol': 1e-06, 'warm_start': False}\n",
      "Best Cross-Validation Score (Negative MSE): -0.004307384736957252\n",
      "Best Cross-Validation Score (MSE): 0.004307384736957252\n",
      "Best Cross-Validation Score (RMSE): 0.06563066917956309\n"
     ]
    }
   ],
   "source": [
    "print(\"TUNING RESULTS\")\n",
    "print(\"=\"*50)\n",
    "print(\"Best Parameters:\", grid_search.best_params_)\n",
    "print(\"Best Cross-Validation Score (Negative MSE):\", grid_search.best_score_)\n",
    "print(\"Best Cross-Validation Score (MSE):\", -grid_search.best_score_)\n",
    "print(\"Best Cross-Validation Score (RMSE):\", math.sqrt(-grid_search.best_score_))"
   ]
  },
  {
   "cell_type": "code",
   "execution_count": 61,
   "id": "5f67fdec",
   "metadata": {
    "execution": {
     "iopub.execute_input": "2025-08-11T13:31:17.435696Z",
     "iopub.status.busy": "2025-08-11T13:31:17.435356Z",
     "iopub.status.idle": "2025-08-11T13:31:17.440020Z",
     "shell.execute_reply": "2025-08-11T13:31:17.439319Z"
    },
    "papermill": {
     "duration": 0.077359,
     "end_time": "2025-08-11T13:31:17.441386",
     "exception": false,
     "start_time": "2025-08-11T13:31:17.364027",
     "status": "completed"
    },
    "tags": []
   },
   "outputs": [],
   "source": [
    "grid_search_best_model = grid_search.best_estimator_\n",
    "y_pred = grid_search_best_model.predict(X_test)"
   ]
  },
  {
   "cell_type": "code",
   "execution_count": 62,
   "id": "8d0bdffa",
   "metadata": {
    "execution": {
     "iopub.execute_input": "2025-08-11T13:31:17.584196Z",
     "iopub.status.busy": "2025-08-11T13:31:17.583898Z",
     "iopub.status.idle": "2025-08-11T13:31:17.591084Z",
     "shell.execute_reply": "2025-08-11T13:31:17.590205Z"
    },
    "papermill": {
     "duration": 0.079943,
     "end_time": "2025-08-11T13:31:17.592573",
     "exception": false,
     "start_time": "2025-08-11T13:31:17.512630",
     "status": "completed"
    },
    "tags": []
   },
   "outputs": [],
   "source": [
    "mse_grid_search = mean_squared_error(y_test, y_pred)\n",
    "mae_grid_search = mean_absolute_error(y_test, y_pred)\n",
    "r2_grid_search = r2_score(y_test, y_pred)\n",
    "rmse_grid_search = math.sqrt(mse_grid_search)"
   ]
  },
  {
   "cell_type": "code",
   "execution_count": 63,
   "id": "aee301d5",
   "metadata": {
    "execution": {
     "iopub.execute_input": "2025-08-11T13:31:17.736750Z",
     "iopub.status.busy": "2025-08-11T13:31:17.735876Z",
     "iopub.status.idle": "2025-08-11T13:31:17.741246Z",
     "shell.execute_reply": "2025-08-11T13:31:17.740314Z"
    },
    "papermill": {
     "duration": 0.079569,
     "end_time": "2025-08-11T13:31:17.742798",
     "exception": false,
     "start_time": "2025-08-11T13:31:17.663229",
     "status": "completed"
    },
    "tags": []
   },
   "outputs": [
    {
     "name": "stdout",
     "output_type": "stream",
     "text": [
      "MSE Score: 0.004412190999895848\n",
      "MAE Score: 0.04329480765859905\n",
      "R2 Score: 0.9963786908455483\n",
      "RMSE Score: 0.0664243253627453\n"
     ]
    }
   ],
   "source": [
    "print(\"MSE Score:\", mse_grid_search)\n",
    "print(\"MAE Score:\", mae_grid_search)\n",
    "print(\"R2 Score:\", r2_grid_search)\n",
    "print(\"RMSE Score:\", rmse_grid_search)"
   ]
  },
  {
   "cell_type": "code",
   "execution_count": 64,
   "id": "a5c8a4df",
   "metadata": {
    "execution": {
     "iopub.execute_input": "2025-08-11T13:31:17.887070Z",
     "iopub.status.busy": "2025-08-11T13:31:17.886403Z",
     "iopub.status.idle": "2025-08-11T13:31:17.898770Z",
     "shell.execute_reply": "2025-08-11T13:31:17.897958Z"
    },
    "papermill": {
     "duration": 0.084628,
     "end_time": "2025-08-11T13:31:17.900057",
     "exception": false,
     "start_time": "2025-08-11T13:31:17.815429",
     "status": "completed"
    },
    "tags": []
   },
   "outputs": [
    {
     "name": "stdout",
     "output_type": "stream",
     "text": [
      "✨ New regression model added:\n",
      "   MSE: 0.004412, R²: 0.996379\n",
      "   Features: 27\n",
      "💾 Registry updated: Model_Training_History/History_Regression.csv\n"
     ]
    }
   ],
   "source": [
    "regression_params = {\n",
    "    'model_name': model_name_for_saving + \" Tuned\",\n",
    "    'scaler_name': \"RobustScaler\",\n",
    "    'features_list': feature_columns_for_saving,\n",
    "    'target_column': target_name_for_saving,\n",
    "    'mse': mse_grid_search,\n",
    "    'mae': mae_grid_search,\n",
    "    'rmse': rmse_grid_search,\n",
    "    'r2': r2_grid_search,\n",
    "    'parameters' : json.dumps({\n",
    "        \"best_params\": grid_search.best_params_,\n",
    "        \"cv_score\": grid_search.best_score_,\n",
    "        \"all_params\": grid_search_best_model.get_params()\n",
    "    })\n",
    "}\n",
    "save_model_performance_if_better('regression', regression_params)"
   ]
  },
  {
   "cell_type": "markdown",
   "id": "1fe48fa6",
   "metadata": {
    "papermill": {
     "duration": 0.071628,
     "end_time": "2025-08-11T13:31:18.043512",
     "exception": false,
     "start_time": "2025-08-11T13:31:17.971884",
     "status": "completed"
    },
    "tags": []
   },
   "source": [
    "# Selected Features"
   ]
  },
  {
   "cell_type": "code",
   "execution_count": 65,
   "id": "330e1f1e",
   "metadata": {
    "execution": {
     "iopub.execute_input": "2025-08-11T13:31:18.259936Z",
     "iopub.status.busy": "2025-08-11T13:31:18.259609Z",
     "iopub.status.idle": "2025-08-11T13:31:18.313479Z",
     "shell.execute_reply": "2025-08-11T13:31:18.312544Z"
    },
    "papermill": {
     "duration": 0.126997,
     "end_time": "2025-08-11T13:31:18.314941",
     "exception": false,
     "start_time": "2025-08-11T13:31:18.187944",
     "status": "completed"
    },
    "tags": []
   },
   "outputs": [
    {
     "name": "stdout",
     "output_type": "stream",
     "text": [
      "SolarEnergy                  1.000000\n",
      "SolarRadiation               0.999867\n",
      "UVIndex                      0.998178\n",
      "DaySegments_Midday           0.594829\n",
      "Temp                         0.400703\n",
      "FeelsLike                    0.344667\n",
      "DaySegments_Morning          0.243917\n",
      "WindSpeed                    0.216874\n",
      "DaySegments_Afternoon        0.216045\n",
      "WindDir                      0.181173\n",
      "SevereRisk                   0.125741\n",
      "Hour                         0.095805\n",
      "Season_Summer                0.093686\n",
      "Visibility                   0.054855\n",
      "SeaLevelPressure             0.026544\n",
      "Year                         0.022062\n",
      "Dew                          0.014013\n",
      "Day                         -0.001489\n",
      "PrecipProb                  -0.013347\n",
      "Season_Rainy                -0.032901\n",
      "Season_Autumn               -0.035246\n",
      "Season_Winter               -0.035617\n",
      "Precip                      -0.039120\n",
      "CloudCover                  -0.055435\n",
      "Month                       -0.061170\n",
      "Windgust                    -0.100191\n",
      "DaySegments_Early Morning   -0.187977\n",
      "DaySegments_Evening         -0.205810\n",
      "DaySegments_Night           -0.252346\n",
      "DaySegments_Late Night      -0.427175\n",
      "Humidity                    -0.452691\n",
      "Name: SolarEnergy, dtype: float64\n"
     ]
    }
   ],
   "source": [
    "numeric_cols = weather_data.select_dtypes(include=[float, int]).columns\n",
    "correlations = weather_data[numeric_cols].corr()['SolarEnergy'].sort_values(ascending=False)\n",
    "print(correlations)"
   ]
  },
  {
   "cell_type": "code",
   "execution_count": 66,
   "id": "742a3267",
   "metadata": {
    "execution": {
     "iopub.execute_input": "2025-08-11T13:31:18.458593Z",
     "iopub.status.busy": "2025-08-11T13:31:18.458302Z",
     "iopub.status.idle": "2025-08-11T13:31:18.471730Z",
     "shell.execute_reply": "2025-08-11T13:31:18.470798Z"
    },
    "papermill": {
     "duration": 0.086816,
     "end_time": "2025-08-11T13:31:18.473107",
     "exception": false,
     "start_time": "2025-08-11T13:31:18.386291",
     "status": "completed"
    },
    "tags": []
   },
   "outputs": [
    {
     "name": "stdout",
     "output_type": "stream",
     "text": [
      "<class 'pandas.core.frame.DataFrame'>\n",
      "RangeIndex: 14616 entries, 0 to 14615\n",
      "Data columns (total 36 columns):\n",
      " #   Column                     Non-Null Count  Dtype         \n",
      "---  ------                     --------------  -----         \n",
      " 0   DateTime                   14616 non-null  datetime64[ns]\n",
      " 1   Year                       14616 non-null  int64         \n",
      " 2   Month                      14616 non-null  int64         \n",
      " 3   Day                        14616 non-null  int64         \n",
      " 4   Hour                       14616 non-null  int64         \n",
      " 5   DaySegments                14616 non-null  object        \n",
      " 6   DaySegments_Afternoon      14616 non-null  int64         \n",
      " 7   DaySegments_Early Morning  14616 non-null  int64         \n",
      " 8   DaySegments_Evening        14616 non-null  int64         \n",
      " 9   DaySegments_Late Night     14616 non-null  int64         \n",
      " 10  DaySegments_Midday         14616 non-null  int64         \n",
      " 11  DaySegments_Morning        14616 non-null  int64         \n",
      " 12  DaySegments_Night          14616 non-null  int64         \n",
      " 13  Season_Autumn              14616 non-null  int64         \n",
      " 14  Season_Rainy               14616 non-null  int64         \n",
      " 15  Season_Summer              14616 non-null  int64         \n",
      " 16  Season_Winter              14616 non-null  int64         \n",
      " 17  Season                     14616 non-null  object        \n",
      " 18  Temp                       14616 non-null  float64       \n",
      " 19  FeelsLike                  14616 non-null  float64       \n",
      " 20  Dew                        14616 non-null  float64       \n",
      " 21  Humidity                   14616 non-null  float64       \n",
      " 22  Precip                     14616 non-null  float64       \n",
      " 23  PrecipProb                 14616 non-null  float64       \n",
      " 24  Windgust                   14616 non-null  float64       \n",
      " 25  WindSpeed                  14616 non-null  float64       \n",
      " 26  WindDir                    14616 non-null  float64       \n",
      " 27  SeaLevelPressure           14616 non-null  float64       \n",
      " 28  CloudCover                 14616 non-null  float64       \n",
      " 29  UVIndex                    14616 non-null  float64       \n",
      " 30  SevereRisk                 14616 non-null  float64       \n",
      " 31  Visibility                 14616 non-null  float64       \n",
      " 32  SolarRadiation             14616 non-null  float64       \n",
      " 33  SolarEnergy                14616 non-null  float64       \n",
      " 34  Conditions                 14616 non-null  object        \n",
      " 35  Icon                       14616 non-null  object        \n",
      "dtypes: datetime64[ns](1), float64(16), int64(15), object(4)\n",
      "memory usage: 4.0+ MB\n"
     ]
    }
   ],
   "source": [
    "weather_data.info()"
   ]
  },
  {
   "cell_type": "markdown",
   "id": "4a96783e",
   "metadata": {
    "papermill": {
     "duration": 0.07086,
     "end_time": "2025-08-11T13:31:18.617405",
     "exception": false,
     "start_time": "2025-08-11T13:31:18.546545",
     "status": "completed"
    },
    "tags": []
   },
   "source": [
    "## Run Again"
   ]
  },
  {
   "cell_type": "code",
   "execution_count": 67,
   "id": "fbd93336",
   "metadata": {
    "execution": {
     "iopub.execute_input": "2025-08-11T13:31:18.764112Z",
     "iopub.status.busy": "2025-08-11T13:31:18.763791Z",
     "iopub.status.idle": "2025-08-11T13:31:18.770109Z",
     "shell.execute_reply": "2025-08-11T13:31:18.769188Z"
    },
    "papermill": {
     "duration": 0.080478,
     "end_time": "2025-08-11T13:31:18.771590",
     "exception": false,
     "start_time": "2025-08-11T13:31:18.691112",
     "status": "completed"
    },
    "tags": []
   },
   "outputs": [],
   "source": [
    "X_train_raw = weather_data_train.drop(columns=['DateTime', # Model cannot use DateTime as a feature\n",
    "                                                'Year', # No Effect on weather data\n",
    "                                                'Season', # Season is categorical, not numerical\n",
    "                                                'DaySegments', # DaySegments is categorical, not numerical\n",
    "                                                'Visibility',  # Target variable\n",
    "                                                'SolarRadiation', # Target variable\n",
    "                                                'SolarEnergy', # Target variable\n",
    "                                                'Conditions', # Target variable\n",
    "                                                'Icon', # Target variable\n",
    "                                                'Day', # same day from different month act differently\n",
    "                                                'WindDir', # very low correlation with SolarEnergy\n",
    "                                                'Precip']) # very low correlation with SolarEnergy\n",
    "y_train = weather_data_train['SolarEnergy']"
   ]
  },
  {
   "cell_type": "code",
   "execution_count": 68,
   "id": "0ecaee45",
   "metadata": {
    "execution": {
     "iopub.execute_input": "2025-08-11T13:31:18.915817Z",
     "iopub.status.busy": "2025-08-11T13:31:18.915509Z",
     "iopub.status.idle": "2025-08-11T13:31:18.921454Z",
     "shell.execute_reply": "2025-08-11T13:31:18.920702Z"
    },
    "papermill": {
     "duration": 0.079201,
     "end_time": "2025-08-11T13:31:18.922753",
     "exception": false,
     "start_time": "2025-08-11T13:31:18.843552",
     "status": "completed"
    },
    "tags": []
   },
   "outputs": [],
   "source": [
    "X_test_raw = weather_data_test.drop(columns=['DateTime', # Model cannot use DateTime as a feature\n",
    "                                                'Year', # No Effect on weather data\n",
    "                                                'Season', # Season is categorical, not numerical\n",
    "                                                'DaySegments', # DaySegments is categorical, not numerical\n",
    "                                                'Visibility',  # Target variable\n",
    "                                                'SolarRadiation', # Target variable\n",
    "                                                'SolarEnergy', # Target variable\n",
    "                                                'Conditions', # Target variable\n",
    "                                                'Icon', # Target variable\n",
    "                                                'Day', # same day from different month act differently\n",
    "                                                'WindDir', # very low correlation with SolarEnergy\n",
    "                                                'Precip']) # very low correlation with SolarEnergy\n",
    "y_test = weather_data_test['SolarEnergy']"
   ]
  },
  {
   "cell_type": "code",
   "execution_count": 69,
   "id": "0a7b0ced",
   "metadata": {
    "execution": {
     "iopub.execute_input": "2025-08-11T13:31:19.070351Z",
     "iopub.status.busy": "2025-08-11T13:31:19.069965Z",
     "iopub.status.idle": "2025-08-11T13:31:19.074950Z",
     "shell.execute_reply": "2025-08-11T13:31:19.074086Z"
    },
    "papermill": {
     "duration": 0.081479,
     "end_time": "2025-08-11T13:31:19.076406",
     "exception": false,
     "start_time": "2025-08-11T13:31:18.994927",
     "status": "completed"
    },
    "tags": []
   },
   "outputs": [],
   "source": [
    "feature_columns = [col for col in X_train_raw.columns]\n",
    "feature_columns_for_saving = ','.join(feature_columns)"
   ]
  },
  {
   "cell_type": "code",
   "execution_count": 70,
   "id": "b56bbce5",
   "metadata": {
    "execution": {
     "iopub.execute_input": "2025-08-11T13:31:19.221692Z",
     "iopub.status.busy": "2025-08-11T13:31:19.221383Z",
     "iopub.status.idle": "2025-08-11T13:31:19.226575Z",
     "shell.execute_reply": "2025-08-11T13:31:19.225688Z"
    },
    "papermill": {
     "duration": 0.079103,
     "end_time": "2025-08-11T13:31:19.227913",
     "exception": false,
     "start_time": "2025-08-11T13:31:19.148810",
     "status": "completed"
    },
    "tags": []
   },
   "outputs": [
    {
     "name": "stdout",
     "output_type": "stream",
     "text": [
      "X_train:  11692\n",
      "y_train:  11692\n",
      "\n",
      "X_test:  2924\n",
      "y_test:  2924\n"
     ]
    }
   ],
   "source": [
    "print(\"X_train: \", len(X_train_raw))\n",
    "print(\"y_train: \", len(y_train))\n",
    "print(\"\\nX_test: \", len(X_test_raw))\n",
    "print(\"y_test: \", len(y_test))"
   ]
  },
  {
   "cell_type": "markdown",
   "id": "b30c85e4",
   "metadata": {
    "papermill": {
     "duration": 0.070724,
     "end_time": "2025-08-11T13:31:19.370044",
     "exception": false,
     "start_time": "2025-08-11T13:31:19.299320",
     "status": "completed"
    },
    "tags": []
   },
   "source": [
    "### MinMax Scaler"
   ]
  },
  {
   "cell_type": "code",
   "execution_count": 71,
   "id": "ff42f846",
   "metadata": {
    "execution": {
     "iopub.execute_input": "2025-08-11T13:31:19.515207Z",
     "iopub.status.busy": "2025-08-11T13:31:19.514909Z",
     "iopub.status.idle": "2025-08-11T13:31:19.526674Z",
     "shell.execute_reply": "2025-08-11T13:31:19.525789Z"
    },
    "papermill": {
     "duration": 0.08679,
     "end_time": "2025-08-11T13:31:19.528315",
     "exception": false,
     "start_time": "2025-08-11T13:31:19.441525",
     "status": "completed"
    },
    "tags": []
   },
   "outputs": [],
   "source": [
    "scaler = MinMaxScaler()\n",
    "X_train = scaler.fit_transform(X_train_raw)\n",
    "X_test = scaler.transform(X_test_raw)"
   ]
  },
  {
   "cell_type": "code",
   "execution_count": 72,
   "id": "83d98358",
   "metadata": {
    "execution": {
     "iopub.execute_input": "2025-08-11T13:31:19.675119Z",
     "iopub.status.busy": "2025-08-11T13:31:19.674301Z",
     "iopub.status.idle": "2025-08-11T13:31:19.679972Z",
     "shell.execute_reply": "2025-08-11T13:31:19.679317Z"
    },
    "papermill": {
     "duration": 0.080363,
     "end_time": "2025-08-11T13:31:19.681308",
     "exception": false,
     "start_time": "2025-08-11T13:31:19.600945",
     "status": "completed"
    },
    "tags": []
   },
   "outputs": [
    {
     "data": {
      "text/plain": [
       "array([[0.72727273, 0.43478261, 0.        , ..., 0.4922    , 0.697     ,\n",
       "        0.31560059],\n",
       "       [0.90909091, 0.69565217, 1.        , ..., 0.        , 0.303     ,\n",
       "        0.07388643],\n",
       "       [0.09090909, 0.        , 0.        , ..., 0.        , 0.        ,\n",
       "        0.07388643],\n",
       "       ...,\n",
       "       [0.63636364, 0.43478261, 0.        , ..., 0.8756    , 0.306     ,\n",
       "        0.09436352],\n",
       "       [0.        , 0.91304348, 0.        , ..., 0.        , 0.        ,\n",
       "        0.07388643],\n",
       "       [0.72727273, 0.34782609, 0.        , ..., 0.8925    , 0.29      ,\n",
       "        0.27812962]])"
      ]
     },
     "execution_count": 72,
     "metadata": {},
     "output_type": "execute_result"
    }
   ],
   "source": [
    "X_train"
   ]
  },
  {
   "cell_type": "code",
   "execution_count": 73,
   "id": "74ed6dc4",
   "metadata": {
    "execution": {
     "iopub.execute_input": "2025-08-11T13:31:19.827582Z",
     "iopub.status.busy": "2025-08-11T13:31:19.827208Z",
     "iopub.status.idle": "2025-08-11T13:31:19.833349Z",
     "shell.execute_reply": "2025-08-11T13:31:19.832407Z"
    },
    "papermill": {
     "duration": 0.080864,
     "end_time": "2025-08-11T13:31:19.834818",
     "exception": false,
     "start_time": "2025-08-11T13:31:19.753954",
     "status": "completed"
    },
    "tags": []
   },
   "outputs": [
    {
     "data": {
      "text/plain": [
       "array([[0.63636364, 0.95652174, 0.        , ..., 0.894     , 0.        ,\n",
       "        0.07388643],\n",
       "       [0.45454545, 0.65217391, 1.        , ..., 0.9677    , 0.074     ,\n",
       "        0.07388643],\n",
       "       [0.63636364, 0.2173913 , 0.        , ..., 0.9935    , 0.        ,\n",
       "        0.07388643],\n",
       "       ...,\n",
       "       [0.09090909, 0.73913043, 1.        , ..., 0.0013    , 0.203     ,\n",
       "        0.07388643],\n",
       "       [0.27272727, 0.86956522, 0.        , ..., 0.        , 0.        ,\n",
       "        0.25575259],\n",
       "       [0.45454545, 0.95652174, 0.        , ..., 0.5161    , 0.        ,\n",
       "        0.07388643]])"
      ]
     },
     "execution_count": 73,
     "metadata": {},
     "output_type": "execute_result"
    }
   ],
   "source": [
    "X_test"
   ]
  },
  {
   "cell_type": "markdown",
   "id": "ce7f04b6",
   "metadata": {
    "papermill": {
     "duration": 0.071653,
     "end_time": "2025-08-11T13:31:19.977907",
     "exception": false,
     "start_time": "2025-08-11T13:31:19.906254",
     "status": "completed"
    },
    "tags": []
   },
   "source": [
    "#### Default Parameters"
   ]
  },
  {
   "cell_type": "code",
   "execution_count": 74,
   "id": "1f86e91a",
   "metadata": {
    "execution": {
     "iopub.execute_input": "2025-08-11T13:31:20.123108Z",
     "iopub.status.busy": "2025-08-11T13:31:20.122733Z",
     "iopub.status.idle": "2025-08-11T13:31:20.129036Z",
     "shell.execute_reply": "2025-08-11T13:31:20.128154Z"
    },
    "papermill": {
     "duration": 0.079975,
     "end_time": "2025-08-11T13:31:20.130292",
     "exception": false,
     "start_time": "2025-08-11T13:31:20.050317",
     "status": "completed"
    },
    "tags": []
   },
   "outputs": [
    {
     "data": {
      "text/html": [
       "<style>#sk-container-id-10 {color: black;background-color: white;}#sk-container-id-10 pre{padding: 0;}#sk-container-id-10 div.sk-toggleable {background-color: white;}#sk-container-id-10 label.sk-toggleable__label {cursor: pointer;display: block;width: 100%;margin-bottom: 0;padding: 0.3em;box-sizing: border-box;text-align: center;}#sk-container-id-10 label.sk-toggleable__label-arrow:before {content: \"▸\";float: left;margin-right: 0.25em;color: #696969;}#sk-container-id-10 label.sk-toggleable__label-arrow:hover:before {color: black;}#sk-container-id-10 div.sk-estimator:hover label.sk-toggleable__label-arrow:before {color: black;}#sk-container-id-10 div.sk-toggleable__content {max-height: 0;max-width: 0;overflow: hidden;text-align: left;background-color: #f0f8ff;}#sk-container-id-10 div.sk-toggleable__content pre {margin: 0.2em;color: black;border-radius: 0.25em;background-color: #f0f8ff;}#sk-container-id-10 input.sk-toggleable__control:checked~div.sk-toggleable__content {max-height: 200px;max-width: 100%;overflow: auto;}#sk-container-id-10 input.sk-toggleable__control:checked~label.sk-toggleable__label-arrow:before {content: \"▾\";}#sk-container-id-10 div.sk-estimator input.sk-toggleable__control:checked~label.sk-toggleable__label {background-color: #d4ebff;}#sk-container-id-10 div.sk-label input.sk-toggleable__control:checked~label.sk-toggleable__label {background-color: #d4ebff;}#sk-container-id-10 input.sk-hidden--visually {border: 0;clip: rect(1px 1px 1px 1px);clip: rect(1px, 1px, 1px, 1px);height: 1px;margin: -1px;overflow: hidden;padding: 0;position: absolute;width: 1px;}#sk-container-id-10 div.sk-estimator {font-family: monospace;background-color: #f0f8ff;border: 1px dotted black;border-radius: 0.25em;box-sizing: border-box;margin-bottom: 0.5em;}#sk-container-id-10 div.sk-estimator:hover {background-color: #d4ebff;}#sk-container-id-10 div.sk-parallel-item::after {content: \"\";width: 100%;border-bottom: 1px solid gray;flex-grow: 1;}#sk-container-id-10 div.sk-label:hover label.sk-toggleable__label {background-color: #d4ebff;}#sk-container-id-10 div.sk-serial::before {content: \"\";position: absolute;border-left: 1px solid gray;box-sizing: border-box;top: 0;bottom: 0;left: 50%;z-index: 0;}#sk-container-id-10 div.sk-serial {display: flex;flex-direction: column;align-items: center;background-color: white;padding-right: 0.2em;padding-left: 0.2em;position: relative;}#sk-container-id-10 div.sk-item {position: relative;z-index: 1;}#sk-container-id-10 div.sk-parallel {display: flex;align-items: stretch;justify-content: center;background-color: white;position: relative;}#sk-container-id-10 div.sk-item::before, #sk-container-id-10 div.sk-parallel-item::before {content: \"\";position: absolute;border-left: 1px solid gray;box-sizing: border-box;top: 0;bottom: 0;left: 50%;z-index: -1;}#sk-container-id-10 div.sk-parallel-item {display: flex;flex-direction: column;z-index: 1;position: relative;background-color: white;}#sk-container-id-10 div.sk-parallel-item:first-child::after {align-self: flex-end;width: 50%;}#sk-container-id-10 div.sk-parallel-item:last-child::after {align-self: flex-start;width: 50%;}#sk-container-id-10 div.sk-parallel-item:only-child::after {width: 0;}#sk-container-id-10 div.sk-dashed-wrapped {border: 1px dashed gray;margin: 0 0.4em 0.5em 0.4em;box-sizing: border-box;padding-bottom: 0.4em;background-color: white;}#sk-container-id-10 div.sk-label label {font-family: monospace;font-weight: bold;display: inline-block;line-height: 1.2em;}#sk-container-id-10 div.sk-label-container {text-align: center;}#sk-container-id-10 div.sk-container {/* jupyter's `normalize.less` sets `[hidden] { display: none; }` but bootstrap.min.css set `[hidden] { display: none !important; }` so we also need the `!important` here to be able to override the default hidden behavior on the sphinx rendered scikit-learn.org. See: https://github.com/scikit-learn/scikit-learn/issues/21755 */display: inline-block !important;position: relative;}#sk-container-id-10 div.sk-text-repr-fallback {display: none;}</style><div id=\"sk-container-id-10\" class=\"sk-top-container\"><div class=\"sk-text-repr-fallback\"><pre>Lasso(alpha=0.001, max_iter=10000, random_state=42)</pre><b>In a Jupyter environment, please rerun this cell to show the HTML representation or trust the notebook. <br />On GitHub, the HTML representation is unable to render, please try loading this page with nbviewer.org.</b></div><div class=\"sk-container\" hidden><div class=\"sk-item\"><div class=\"sk-estimator sk-toggleable\"><input class=\"sk-toggleable__control sk-hidden--visually\" id=\"sk-estimator-id-16\" type=\"checkbox\" checked><label for=\"sk-estimator-id-16\" class=\"sk-toggleable__label sk-toggleable__label-arrow\">Lasso</label><div class=\"sk-toggleable__content\"><pre>Lasso(alpha=0.001, max_iter=10000, random_state=42)</pre></div></div></div></div></div>"
      ],
      "text/plain": [
       "Lasso(alpha=0.001, max_iter=10000, random_state=42)"
      ]
     },
     "execution_count": 74,
     "metadata": {},
     "output_type": "execute_result"
    }
   ],
   "source": [
    "training_model = LassoR(alpha=0.001, random_state=42, max_iter=10000)\n",
    "training_model"
   ]
  },
  {
   "cell_type": "code",
   "execution_count": 75,
   "id": "6bfb9bd6",
   "metadata": {
    "execution": {
     "iopub.execute_input": "2025-08-11T13:31:20.275624Z",
     "iopub.status.busy": "2025-08-11T13:31:20.275251Z",
     "iopub.status.idle": "2025-08-11T13:31:20.291505Z",
     "shell.execute_reply": "2025-08-11T13:31:20.288311Z"
    },
    "papermill": {
     "duration": 0.090555,
     "end_time": "2025-08-11T13:31:20.293456",
     "exception": false,
     "start_time": "2025-08-11T13:31:20.202901",
     "status": "completed"
    },
    "tags": []
   },
   "outputs": [
    {
     "name": "stdout",
     "output_type": "stream",
     "text": [
      "CPU times: user 15.8 ms, sys: 0 ns, total: 15.8 ms\n",
      "Wall time: 7.08 ms\n"
     ]
    },
    {
     "data": {
      "text/html": [
       "<style>#sk-container-id-11 {color: black;background-color: white;}#sk-container-id-11 pre{padding: 0;}#sk-container-id-11 div.sk-toggleable {background-color: white;}#sk-container-id-11 label.sk-toggleable__label {cursor: pointer;display: block;width: 100%;margin-bottom: 0;padding: 0.3em;box-sizing: border-box;text-align: center;}#sk-container-id-11 label.sk-toggleable__label-arrow:before {content: \"▸\";float: left;margin-right: 0.25em;color: #696969;}#sk-container-id-11 label.sk-toggleable__label-arrow:hover:before {color: black;}#sk-container-id-11 div.sk-estimator:hover label.sk-toggleable__label-arrow:before {color: black;}#sk-container-id-11 div.sk-toggleable__content {max-height: 0;max-width: 0;overflow: hidden;text-align: left;background-color: #f0f8ff;}#sk-container-id-11 div.sk-toggleable__content pre {margin: 0.2em;color: black;border-radius: 0.25em;background-color: #f0f8ff;}#sk-container-id-11 input.sk-toggleable__control:checked~div.sk-toggleable__content {max-height: 200px;max-width: 100%;overflow: auto;}#sk-container-id-11 input.sk-toggleable__control:checked~label.sk-toggleable__label-arrow:before {content: \"▾\";}#sk-container-id-11 div.sk-estimator input.sk-toggleable__control:checked~label.sk-toggleable__label {background-color: #d4ebff;}#sk-container-id-11 div.sk-label input.sk-toggleable__control:checked~label.sk-toggleable__label {background-color: #d4ebff;}#sk-container-id-11 input.sk-hidden--visually {border: 0;clip: rect(1px 1px 1px 1px);clip: rect(1px, 1px, 1px, 1px);height: 1px;margin: -1px;overflow: hidden;padding: 0;position: absolute;width: 1px;}#sk-container-id-11 div.sk-estimator {font-family: monospace;background-color: #f0f8ff;border: 1px dotted black;border-radius: 0.25em;box-sizing: border-box;margin-bottom: 0.5em;}#sk-container-id-11 div.sk-estimator:hover {background-color: #d4ebff;}#sk-container-id-11 div.sk-parallel-item::after {content: \"\";width: 100%;border-bottom: 1px solid gray;flex-grow: 1;}#sk-container-id-11 div.sk-label:hover label.sk-toggleable__label {background-color: #d4ebff;}#sk-container-id-11 div.sk-serial::before {content: \"\";position: absolute;border-left: 1px solid gray;box-sizing: border-box;top: 0;bottom: 0;left: 50%;z-index: 0;}#sk-container-id-11 div.sk-serial {display: flex;flex-direction: column;align-items: center;background-color: white;padding-right: 0.2em;padding-left: 0.2em;position: relative;}#sk-container-id-11 div.sk-item {position: relative;z-index: 1;}#sk-container-id-11 div.sk-parallel {display: flex;align-items: stretch;justify-content: center;background-color: white;position: relative;}#sk-container-id-11 div.sk-item::before, #sk-container-id-11 div.sk-parallel-item::before {content: \"\";position: absolute;border-left: 1px solid gray;box-sizing: border-box;top: 0;bottom: 0;left: 50%;z-index: -1;}#sk-container-id-11 div.sk-parallel-item {display: flex;flex-direction: column;z-index: 1;position: relative;background-color: white;}#sk-container-id-11 div.sk-parallel-item:first-child::after {align-self: flex-end;width: 50%;}#sk-container-id-11 div.sk-parallel-item:last-child::after {align-self: flex-start;width: 50%;}#sk-container-id-11 div.sk-parallel-item:only-child::after {width: 0;}#sk-container-id-11 div.sk-dashed-wrapped {border: 1px dashed gray;margin: 0 0.4em 0.5em 0.4em;box-sizing: border-box;padding-bottom: 0.4em;background-color: white;}#sk-container-id-11 div.sk-label label {font-family: monospace;font-weight: bold;display: inline-block;line-height: 1.2em;}#sk-container-id-11 div.sk-label-container {text-align: center;}#sk-container-id-11 div.sk-container {/* jupyter's `normalize.less` sets `[hidden] { display: none; }` but bootstrap.min.css set `[hidden] { display: none !important; }` so we also need the `!important` here to be able to override the default hidden behavior on the sphinx rendered scikit-learn.org. See: https://github.com/scikit-learn/scikit-learn/issues/21755 */display: inline-block !important;position: relative;}#sk-container-id-11 div.sk-text-repr-fallback {display: none;}</style><div id=\"sk-container-id-11\" class=\"sk-top-container\"><div class=\"sk-text-repr-fallback\"><pre>Lasso(alpha=0.001, max_iter=10000, random_state=42)</pre><b>In a Jupyter environment, please rerun this cell to show the HTML representation or trust the notebook. <br />On GitHub, the HTML representation is unable to render, please try loading this page with nbviewer.org.</b></div><div class=\"sk-container\" hidden><div class=\"sk-item\"><div class=\"sk-estimator sk-toggleable\"><input class=\"sk-toggleable__control sk-hidden--visually\" id=\"sk-estimator-id-17\" type=\"checkbox\" checked><label for=\"sk-estimator-id-17\" class=\"sk-toggleable__label sk-toggleable__label-arrow\">Lasso</label><div class=\"sk-toggleable__content\"><pre>Lasso(alpha=0.001, max_iter=10000, random_state=42)</pre></div></div></div></div></div>"
      ],
      "text/plain": [
       "Lasso(alpha=0.001, max_iter=10000, random_state=42)"
      ]
     },
     "execution_count": 75,
     "metadata": {},
     "output_type": "execute_result"
    }
   ],
   "source": [
    "%%time\n",
    "training_model.fit(X_train, y_train)"
   ]
  },
  {
   "cell_type": "code",
   "execution_count": 76,
   "id": "3bb7e500",
   "metadata": {
    "execution": {
     "iopub.execute_input": "2025-08-11T13:31:20.489257Z",
     "iopub.status.busy": "2025-08-11T13:31:20.488834Z",
     "iopub.status.idle": "2025-08-11T13:31:20.495680Z",
     "shell.execute_reply": "2025-08-11T13:31:20.494906Z"
    },
    "papermill": {
     "duration": 0.081315,
     "end_time": "2025-08-11T13:31:20.497020",
     "exception": false,
     "start_time": "2025-08-11T13:31:20.415705",
     "status": "completed"
    },
    "tags": []
   },
   "outputs": [
    {
     "data": {
      "text/plain": [
       "array([0.00956023, 0.27627211, 0.01336701, ..., 0.73457965, 0.00956023,\n",
       "       0.00956023])"
      ]
     },
     "execution_count": 76,
     "metadata": {},
     "output_type": "execute_result"
    }
   ],
   "source": [
    "y_pred = training_model.predict(X_test)\n",
    "y_pred"
   ]
  },
  {
   "cell_type": "code",
   "execution_count": 77,
   "id": "0a6f61d1",
   "metadata": {
    "execution": {
     "iopub.execute_input": "2025-08-11T13:31:20.645633Z",
     "iopub.status.busy": "2025-08-11T13:31:20.644970Z",
     "iopub.status.idle": "2025-08-11T13:31:20.651778Z",
     "shell.execute_reply": "2025-08-11T13:31:20.651037Z"
    },
    "papermill": {
     "duration": 0.082615,
     "end_time": "2025-08-11T13:31:20.653287",
     "exception": false,
     "start_time": "2025-08-11T13:31:20.570672",
     "status": "completed"
    },
    "tags": []
   },
   "outputs": [
    {
     "data": {
      "text/plain": [
       "5158     0.00\n",
       "3831     0.36\n",
       "5117     0.00\n",
       "6326     2.70\n",
       "11359    0.49\n",
       "         ... \n",
       "10290    0.30\n",
       "13995    0.00\n",
       "9665     0.90\n",
       "2276     0.00\n",
       "4174     0.00\n",
       "Name: SolarEnergy, Length: 2924, dtype: float64"
      ]
     },
     "execution_count": 77,
     "metadata": {},
     "output_type": "execute_result"
    }
   ],
   "source": [
    "y_test"
   ]
  },
  {
   "cell_type": "code",
   "execution_count": 78,
   "id": "8dd2c01d",
   "metadata": {
    "execution": {
     "iopub.execute_input": "2025-08-11T13:31:20.799819Z",
     "iopub.status.busy": "2025-08-11T13:31:20.799155Z",
     "iopub.status.idle": "2025-08-11T13:31:20.805184Z",
     "shell.execute_reply": "2025-08-11T13:31:20.804497Z"
    },
    "papermill": {
     "duration": 0.080692,
     "end_time": "2025-08-11T13:31:20.806675",
     "exception": false,
     "start_time": "2025-08-11T13:31:20.725983",
     "status": "completed"
    },
    "tags": []
   },
   "outputs": [],
   "source": [
    "mse = mean_squared_error(y_test, y_pred)\n",
    "mae = mean_absolute_error(y_test, y_pred)\n",
    "r2 = r2_score(y_test, y_pred)\n",
    "rmse = math.sqrt(mse)"
   ]
  },
  {
   "cell_type": "code",
   "execution_count": 79,
   "id": "62becf79",
   "metadata": {
    "execution": {
     "iopub.execute_input": "2025-08-11T13:31:20.954902Z",
     "iopub.status.busy": "2025-08-11T13:31:20.954620Z",
     "iopub.status.idle": "2025-08-11T13:31:20.959593Z",
     "shell.execute_reply": "2025-08-11T13:31:20.958785Z"
    },
    "papermill": {
     "duration": 0.08051,
     "end_time": "2025-08-11T13:31:20.960909",
     "exception": false,
     "start_time": "2025-08-11T13:31:20.880399",
     "status": "completed"
    },
    "tags": []
   },
   "outputs": [
    {
     "name": "stdout",
     "output_type": "stream",
     "text": [
      "MSE Score: 0.004488281850305023\n",
      "MAE Score: 0.04476137893734301\n",
      "R2 Score: 0.9963162392215902\n",
      "RMSE Score: 0.06699464045955485\n"
     ]
    }
   ],
   "source": [
    "print(\"MSE Score:\", mse)\n",
    "print(\"MAE Score:\", mae)\n",
    "print(\"R2 Score:\", r2)\n",
    "print(\"RMSE Score:\", rmse)"
   ]
  },
  {
   "cell_type": "code",
   "execution_count": 80,
   "id": "56fc953b",
   "metadata": {
    "execution": {
     "iopub.execute_input": "2025-08-11T13:31:21.110714Z",
     "iopub.status.busy": "2025-08-11T13:31:21.110389Z",
     "iopub.status.idle": "2025-08-11T13:31:21.123218Z",
     "shell.execute_reply": "2025-08-11T13:31:21.122255Z"
    },
    "papermill": {
     "duration": 0.090654,
     "end_time": "2025-08-11T13:31:21.124623",
     "exception": false,
     "start_time": "2025-08-11T13:31:21.033969",
     "status": "completed"
    },
    "tags": []
   },
   "outputs": [
    {
     "name": "stdout",
     "output_type": "stream",
     "text": [
      "✅ Regression model improved with better performance!\n",
      "   MSE: 0.004488 → 0.004488 (lower is better)\n",
      "   R²:  0.996316 → 0.996316 (higher is better)\n",
      "   Features: 27 → 24\n",
      "💾 Registry updated: Model_Training_History/History_Regression.csv\n"
     ]
    }
   ],
   "source": [
    "regression_params = {\n",
    "    'model_name': model_name_for_saving,\n",
    "    'scaler_name': \"MinMaxScaler\",\n",
    "    'features_list': feature_columns_for_saving,\n",
    "    'target_column': target_name_for_saving,\n",
    "    'mse': mse,\n",
    "    'mae': mae,\n",
    "    'rmse': rmse,\n",
    "    'r2': r2,\n",
    "    'parameters': json.dumps(training_model.get_params())\n",
    "}\n",
    "save_model_performance_if_better('regression', regression_params)"
   ]
  },
  {
   "cell_type": "markdown",
   "id": "3fb5cd07",
   "metadata": {
    "papermill": {
     "duration": 0.071948,
     "end_time": "2025-08-11T13:31:21.269425",
     "exception": false,
     "start_time": "2025-08-11T13:31:21.197477",
     "status": "completed"
    },
    "tags": []
   },
   "source": [
    "#### Tuning with Grid Search"
   ]
  },
  {
   "cell_type": "code",
   "execution_count": 81,
   "id": "bc153170",
   "metadata": {
    "execution": {
     "iopub.execute_input": "2025-08-11T13:31:21.416848Z",
     "iopub.status.busy": "2025-08-11T13:31:21.416173Z",
     "iopub.status.idle": "2025-08-11T13:31:21.420379Z",
     "shell.execute_reply": "2025-08-11T13:31:21.419589Z"
    },
    "papermill": {
     "duration": 0.079746,
     "end_time": "2025-08-11T13:31:21.421704",
     "exception": false,
     "start_time": "2025-08-11T13:31:21.341958",
     "status": "completed"
    },
    "tags": []
   },
   "outputs": [],
   "source": [
    "grid_search = GridSearchCV(\n",
    "    LassoR(random_state=42), \n",
    "    grid_param, \n",
    "    cv=5, \n",
    "    scoring='neg_mean_squared_error', \n",
    "    n_jobs=-1, # allow parallel processing, you cant use your own laptop while this runs\n",
    "    verbose=1\n",
    ")"
   ]
  },
  {
   "cell_type": "code",
   "execution_count": null,
   "id": "33e9b376",
   "metadata": {
    "execution": {
     "iopub.execute_input": "2025-08-11T13:31:21.568348Z",
     "iopub.status.busy": "2025-08-11T13:31:21.567451Z",
     "iopub.status.idle": "2025-08-11T13:41:40.241364Z",
     "shell.execute_reply": "2025-08-11T13:41:40.240445Z"
    },
    "papermill": {
     "duration": 618.840517,
     "end_time": "2025-08-11T13:41:40.334133",
     "exception": false,
     "start_time": "2025-08-11T13:31:21.493616",
     "status": "completed"
    },
    "tags": []
   },
   "outputs": [],
   "source": [
    "%%time\n",
    "print(\"Starting hyperparameter tuning...\")\n",
    "grid_search.fit(X_train, y_train)"
   ]
  },
  {
   "cell_type": "code",
   "execution_count": 83,
   "id": "14e332d1",
   "metadata": {
    "execution": {
     "iopub.execute_input": "2025-08-11T13:41:40.515435Z",
     "iopub.status.busy": "2025-08-11T13:41:40.515136Z",
     "iopub.status.idle": "2025-08-11T13:41:40.520786Z",
     "shell.execute_reply": "2025-08-11T13:41:40.519926Z"
    },
    "papermill": {
     "duration": 0.097678,
     "end_time": "2025-08-11T13:41:40.522131",
     "exception": false,
     "start_time": "2025-08-11T13:41:40.424453",
     "status": "completed"
    },
    "tags": []
   },
   "outputs": [
    {
     "name": "stdout",
     "output_type": "stream",
     "text": [
      "TUNING RESULTS\n",
      "==================================================\n",
      "Best Parameters: {'alpha': 1e-05, 'fit_intercept': True, 'max_iter': 1000, 'positive': True, 'precompute': True, 'selection': 'random', 'tol': 0.0001, 'warm_start': False}\n",
      "Best Cross-Validation Score (Negative MSE): -0.004305503520428994\n",
      "Best Cross-Validation Score (MSE): 0.004305503520428994\n",
      "Best Cross-Validation Score (RMSE): 0.06561633577417283\n"
     ]
    }
   ],
   "source": [
    "print(\"TUNING RESULTS\")\n",
    "print(\"=\"*50)\n",
    "print(\"Best Parameters:\", grid_search.best_params_)\n",
    "print(\"Best Cross-Validation Score (Negative MSE):\", grid_search.best_score_)\n",
    "print(\"Best Cross-Validation Score (MSE):\", -grid_search.best_score_)\n",
    "print(\"Best Cross-Validation Score (RMSE):\", math.sqrt(-grid_search.best_score_))"
   ]
  },
  {
   "cell_type": "code",
   "execution_count": 84,
   "id": "cf578590",
   "metadata": {
    "execution": {
     "iopub.execute_input": "2025-08-11T13:41:40.705997Z",
     "iopub.status.busy": "2025-08-11T13:41:40.705672Z",
     "iopub.status.idle": "2025-08-11T13:41:40.710998Z",
     "shell.execute_reply": "2025-08-11T13:41:40.709990Z"
    },
    "papermill": {
     "duration": 0.100351,
     "end_time": "2025-08-11T13:41:40.712547",
     "exception": false,
     "start_time": "2025-08-11T13:41:40.612196",
     "status": "completed"
    },
    "tags": []
   },
   "outputs": [],
   "source": [
    "grid_search_best_model = grid_search.best_estimator_\n",
    "y_pred = grid_search_best_model.predict(X_test)"
   ]
  },
  {
   "cell_type": "code",
   "execution_count": 85,
   "id": "300a2fe8",
   "metadata": {
    "execution": {
     "iopub.execute_input": "2025-08-11T13:41:40.896146Z",
     "iopub.status.busy": "2025-08-11T13:41:40.895828Z",
     "iopub.status.idle": "2025-08-11T13:41:40.903626Z",
     "shell.execute_reply": "2025-08-11T13:41:40.902609Z"
    },
    "papermill": {
     "duration": 0.100429,
     "end_time": "2025-08-11T13:41:40.905179",
     "exception": false,
     "start_time": "2025-08-11T13:41:40.804750",
     "status": "completed"
    },
    "tags": []
   },
   "outputs": [],
   "source": [
    "mse_grid_search = mean_squared_error(y_test, y_pred)\n",
    "mae_grid_search = mean_absolute_error(y_test, y_pred)\n",
    "r2_grid_search = r2_score(y_test, y_pred)\n",
    "rmse_grid_search = math.sqrt(mse_grid_search)"
   ]
  },
  {
   "cell_type": "code",
   "execution_count": 86,
   "id": "0c391dee",
   "metadata": {
    "execution": {
     "iopub.execute_input": "2025-08-11T13:41:41.084882Z",
     "iopub.status.busy": "2025-08-11T13:41:41.084111Z",
     "iopub.status.idle": "2025-08-11T13:41:41.088787Z",
     "shell.execute_reply": "2025-08-11T13:41:41.087920Z"
    },
    "papermill": {
     "duration": 0.095653,
     "end_time": "2025-08-11T13:41:41.090198",
     "exception": false,
     "start_time": "2025-08-11T13:41:40.994545",
     "status": "completed"
    },
    "tags": []
   },
   "outputs": [
    {
     "name": "stdout",
     "output_type": "stream",
     "text": [
      "MSE Score: 0.004414310249123902\n",
      "MAE Score: 0.04322898992449584\n",
      "R2 Score: 0.9963769514701155\n",
      "RMSE Score: 0.06644027580559779\n"
     ]
    }
   ],
   "source": [
    "print(\"MSE Score:\", mse_grid_search)\n",
    "print(\"MAE Score:\", mae_grid_search)\n",
    "print(\"R2 Score:\", r2_grid_search)\n",
    "print(\"RMSE Score:\", rmse_grid_search)"
   ]
  },
  {
   "cell_type": "code",
   "execution_count": 87,
   "id": "4aaaca6a",
   "metadata": {
    "execution": {
     "iopub.execute_input": "2025-08-11T13:41:41.271660Z",
     "iopub.status.busy": "2025-08-11T13:41:41.271356Z",
     "iopub.status.idle": "2025-08-11T13:41:41.284979Z",
     "shell.execute_reply": "2025-08-11T13:41:41.283954Z"
    },
    "papermill": {
     "duration": 0.106748,
     "end_time": "2025-08-11T13:41:41.287157",
     "exception": false,
     "start_time": "2025-08-11T13:41:41.180409",
     "status": "completed"
    },
    "tags": []
   },
   "outputs": [
    {
     "name": "stdout",
     "output_type": "stream",
     "text": [
      "✅ Regression model improved with same performance but fewer features!\n",
      "   MSE: 0.004413 ≈ 0.004414 (similar)\n",
      "   R²:  0.996378 ≈ 0.996377 (similar)\n",
      "   Features: 27 → 24 (🎯 3 fewer features!)\n",
      "💾 Registry updated: Model_Training_History/History_Regression.csv\n"
     ]
    }
   ],
   "source": [
    "regression_params = {\n",
    "    'model_name': model_name_for_saving + \" Tuned\",\n",
    "    'scaler_name': \"MinMaxScaler\",\n",
    "    'features_list': feature_columns_for_saving,\n",
    "    'target_column': target_name_for_saving,\n",
    "    'mse': mse_grid_search,\n",
    "    'mae': mae_grid_search,\n",
    "    'rmse': rmse_grid_search,\n",
    "    'r2': r2_grid_search,\n",
    "    'parameters' : json.dumps({\n",
    "        \"best_params\": grid_search.best_params_,\n",
    "        \"cv_score\": grid_search.best_score_,\n",
    "        \"all_params\": grid_search_best_model.get_params()\n",
    "    })\n",
    "}\n",
    "save_model_performance_if_better('regression', regression_params)"
   ]
  },
  {
   "cell_type": "markdown",
   "id": "ec2551a4",
   "metadata": {
    "papermill": {
     "duration": 0.089091,
     "end_time": "2025-08-11T13:41:41.467331",
     "exception": false,
     "start_time": "2025-08-11T13:41:41.378240",
     "status": "completed"
    },
    "tags": []
   },
   "source": [
    "### Standard Scaler"
   ]
  },
  {
   "cell_type": "code",
   "execution_count": 88,
   "id": "a7276169",
   "metadata": {
    "execution": {
     "iopub.execute_input": "2025-08-11T13:41:41.647437Z",
     "iopub.status.busy": "2025-08-11T13:41:41.647082Z",
     "iopub.status.idle": "2025-08-11T13:41:41.660987Z",
     "shell.execute_reply": "2025-08-11T13:41:41.660312Z"
    },
    "papermill": {
     "duration": 0.105373,
     "end_time": "2025-08-11T13:41:41.662526",
     "exception": false,
     "start_time": "2025-08-11T13:41:41.557153",
     "status": "completed"
    },
    "tags": []
   },
   "outputs": [],
   "source": [
    "scaler = StandardScaler()\n",
    "X_train = scaler.fit_transform(X_train_raw)\n",
    "X_test = scaler.transform(X_test_raw)"
   ]
  },
  {
   "cell_type": "code",
   "execution_count": 89,
   "id": "eedd5243",
   "metadata": {
    "execution": {
     "iopub.execute_input": "2025-08-11T13:41:41.842486Z",
     "iopub.status.busy": "2025-08-11T13:41:41.842153Z",
     "iopub.status.idle": "2025-08-11T13:41:41.848073Z",
     "shell.execute_reply": "2025-08-11T13:41:41.847065Z"
    },
    "papermill": {
     "duration": 0.097429,
     "end_time": "2025-08-11T13:41:41.849458",
     "exception": false,
     "start_time": "2025-08-11T13:41:41.752029",
     "status": "completed"
    },
    "tags": []
   },
   "outputs": [
    {
     "data": {
      "text/plain": [
       "array([[ 1.01884116, -0.21938027, -0.38875095, ..., -0.12088825,\n",
       "         1.52387472,  1.09644529],\n",
       "       [ 1.64376461,  0.64624572,  2.57234098, ..., -1.52028666,\n",
       "         0.24645772, -0.43343649],\n",
       "       [-1.16839092, -1.66209024, -0.38875095, ..., -1.52028666,\n",
       "        -0.73592134, -0.43343649],\n",
       "       ...,\n",
       "       [ 0.70637943, -0.21938027, -0.38875095, ...,  0.96917545,\n",
       "         0.25618424, -0.30383078],\n",
       "       [-1.48085264,  1.36760071, -0.38875095, ..., -1.52028666,\n",
       "        -0.73592134, -0.43343649],\n",
       "       [ 1.01884116, -0.50792226, -0.38875095, ...,  1.01722469,\n",
       "         0.20430944,  0.85928021]])"
      ]
     },
     "execution_count": 89,
     "metadata": {},
     "output_type": "execute_result"
    }
   ],
   "source": [
    "X_train"
   ]
  },
  {
   "cell_type": "code",
   "execution_count": 90,
   "id": "28000206",
   "metadata": {
    "execution": {
     "iopub.execute_input": "2025-08-11T13:41:42.030926Z",
     "iopub.status.busy": "2025-08-11T13:41:42.030140Z",
     "iopub.status.idle": "2025-08-11T13:41:42.035877Z",
     "shell.execute_reply": "2025-08-11T13:41:42.035113Z"
    },
    "papermill": {
     "duration": 0.097444,
     "end_time": "2025-08-11T13:41:42.037172",
     "exception": false,
     "start_time": "2025-08-11T13:41:41.939728",
     "status": "completed"
    },
    "tags": []
   },
   "outputs": [
    {
     "data": {
      "text/plain": [
       "array([[ 0.70637943,  1.51187171, -0.38875095, ...,  1.02148941,\n",
       "        -0.73592134, -0.43343649],\n",
       "       [ 0.08145598,  0.50197472,  2.57234098, ...,  1.23102956,\n",
       "        -0.49600038, -0.43343649],\n",
       "       [ 0.70637943, -0.94073525, -0.38875095, ...,  1.30438283,\n",
       "        -0.73592134, -0.43343649],\n",
       "       ...,\n",
       "       [-1.16839092,  0.79051672,  2.57234098, ..., -1.51659057,\n",
       "        -0.07775979, -0.43343649],\n",
       "       [-0.54346747,  1.22332971, -0.38875095, ..., -1.52028666,\n",
       "        -0.73592134,  0.71764924],\n",
       "       [ 0.08145598,  1.51187171, -0.38875095, ..., -0.05293696,\n",
       "        -0.73592134, -0.43343649]])"
      ]
     },
     "execution_count": 90,
     "metadata": {},
     "output_type": "execute_result"
    }
   ],
   "source": [
    "X_test"
   ]
  },
  {
   "cell_type": "markdown",
   "id": "d521f918",
   "metadata": {
    "papermill": {
     "duration": 0.089309,
     "end_time": "2025-08-11T13:41:42.216881",
     "exception": false,
     "start_time": "2025-08-11T13:41:42.127572",
     "status": "completed"
    },
    "tags": []
   },
   "source": [
    "#### Default Parameters"
   ]
  },
  {
   "cell_type": "code",
   "execution_count": 91,
   "id": "66624a5a",
   "metadata": {
    "execution": {
     "iopub.execute_input": "2025-08-11T13:41:42.398506Z",
     "iopub.status.busy": "2025-08-11T13:41:42.398163Z",
     "iopub.status.idle": "2025-08-11T13:41:42.404656Z",
     "shell.execute_reply": "2025-08-11T13:41:42.403799Z"
    },
    "papermill": {
     "duration": 0.099096,
     "end_time": "2025-08-11T13:41:42.406132",
     "exception": false,
     "start_time": "2025-08-11T13:41:42.307036",
     "status": "completed"
    },
    "tags": []
   },
   "outputs": [
    {
     "data": {
      "text/html": [
       "<style>#sk-container-id-13 {color: black;background-color: white;}#sk-container-id-13 pre{padding: 0;}#sk-container-id-13 div.sk-toggleable {background-color: white;}#sk-container-id-13 label.sk-toggleable__label {cursor: pointer;display: block;width: 100%;margin-bottom: 0;padding: 0.3em;box-sizing: border-box;text-align: center;}#sk-container-id-13 label.sk-toggleable__label-arrow:before {content: \"▸\";float: left;margin-right: 0.25em;color: #696969;}#sk-container-id-13 label.sk-toggleable__label-arrow:hover:before {color: black;}#sk-container-id-13 div.sk-estimator:hover label.sk-toggleable__label-arrow:before {color: black;}#sk-container-id-13 div.sk-toggleable__content {max-height: 0;max-width: 0;overflow: hidden;text-align: left;background-color: #f0f8ff;}#sk-container-id-13 div.sk-toggleable__content pre {margin: 0.2em;color: black;border-radius: 0.25em;background-color: #f0f8ff;}#sk-container-id-13 input.sk-toggleable__control:checked~div.sk-toggleable__content {max-height: 200px;max-width: 100%;overflow: auto;}#sk-container-id-13 input.sk-toggleable__control:checked~label.sk-toggleable__label-arrow:before {content: \"▾\";}#sk-container-id-13 div.sk-estimator input.sk-toggleable__control:checked~label.sk-toggleable__label {background-color: #d4ebff;}#sk-container-id-13 div.sk-label input.sk-toggleable__control:checked~label.sk-toggleable__label {background-color: #d4ebff;}#sk-container-id-13 input.sk-hidden--visually {border: 0;clip: rect(1px 1px 1px 1px);clip: rect(1px, 1px, 1px, 1px);height: 1px;margin: -1px;overflow: hidden;padding: 0;position: absolute;width: 1px;}#sk-container-id-13 div.sk-estimator {font-family: monospace;background-color: #f0f8ff;border: 1px dotted black;border-radius: 0.25em;box-sizing: border-box;margin-bottom: 0.5em;}#sk-container-id-13 div.sk-estimator:hover {background-color: #d4ebff;}#sk-container-id-13 div.sk-parallel-item::after {content: \"\";width: 100%;border-bottom: 1px solid gray;flex-grow: 1;}#sk-container-id-13 div.sk-label:hover label.sk-toggleable__label {background-color: #d4ebff;}#sk-container-id-13 div.sk-serial::before {content: \"\";position: absolute;border-left: 1px solid gray;box-sizing: border-box;top: 0;bottom: 0;left: 50%;z-index: 0;}#sk-container-id-13 div.sk-serial {display: flex;flex-direction: column;align-items: center;background-color: white;padding-right: 0.2em;padding-left: 0.2em;position: relative;}#sk-container-id-13 div.sk-item {position: relative;z-index: 1;}#sk-container-id-13 div.sk-parallel {display: flex;align-items: stretch;justify-content: center;background-color: white;position: relative;}#sk-container-id-13 div.sk-item::before, #sk-container-id-13 div.sk-parallel-item::before {content: \"\";position: absolute;border-left: 1px solid gray;box-sizing: border-box;top: 0;bottom: 0;left: 50%;z-index: -1;}#sk-container-id-13 div.sk-parallel-item {display: flex;flex-direction: column;z-index: 1;position: relative;background-color: white;}#sk-container-id-13 div.sk-parallel-item:first-child::after {align-self: flex-end;width: 50%;}#sk-container-id-13 div.sk-parallel-item:last-child::after {align-self: flex-start;width: 50%;}#sk-container-id-13 div.sk-parallel-item:only-child::after {width: 0;}#sk-container-id-13 div.sk-dashed-wrapped {border: 1px dashed gray;margin: 0 0.4em 0.5em 0.4em;box-sizing: border-box;padding-bottom: 0.4em;background-color: white;}#sk-container-id-13 div.sk-label label {font-family: monospace;font-weight: bold;display: inline-block;line-height: 1.2em;}#sk-container-id-13 div.sk-label-container {text-align: center;}#sk-container-id-13 div.sk-container {/* jupyter's `normalize.less` sets `[hidden] { display: none; }` but bootstrap.min.css set `[hidden] { display: none !important; }` so we also need the `!important` here to be able to override the default hidden behavior on the sphinx rendered scikit-learn.org. See: https://github.com/scikit-learn/scikit-learn/issues/21755 */display: inline-block !important;position: relative;}#sk-container-id-13 div.sk-text-repr-fallback {display: none;}</style><div id=\"sk-container-id-13\" class=\"sk-top-container\"><div class=\"sk-text-repr-fallback\"><pre>Lasso(alpha=0.001, max_iter=10000, random_state=42)</pre><b>In a Jupyter environment, please rerun this cell to show the HTML representation or trust the notebook. <br />On GitHub, the HTML representation is unable to render, please try loading this page with nbviewer.org.</b></div><div class=\"sk-container\" hidden><div class=\"sk-item\"><div class=\"sk-estimator sk-toggleable\"><input class=\"sk-toggleable__control sk-hidden--visually\" id=\"sk-estimator-id-21\" type=\"checkbox\" checked><label for=\"sk-estimator-id-21\" class=\"sk-toggleable__label sk-toggleable__label-arrow\">Lasso</label><div class=\"sk-toggleable__content\"><pre>Lasso(alpha=0.001, max_iter=10000, random_state=42)</pre></div></div></div></div></div>"
      ],
      "text/plain": [
       "Lasso(alpha=0.001, max_iter=10000, random_state=42)"
      ]
     },
     "execution_count": 91,
     "metadata": {},
     "output_type": "execute_result"
    }
   ],
   "source": [
    "training_model = LassoR(alpha=0.001, random_state=42, max_iter=10000)\n",
    "training_model"
   ]
  },
  {
   "cell_type": "code",
   "execution_count": 92,
   "id": "9593e95c",
   "metadata": {
    "execution": {
     "iopub.execute_input": "2025-08-11T13:41:42.588354Z",
     "iopub.status.busy": "2025-08-11T13:41:42.587500Z",
     "iopub.status.idle": "2025-08-11T13:41:42.606566Z",
     "shell.execute_reply": "2025-08-11T13:41:42.603084Z"
    },
    "papermill": {
     "duration": 0.112412,
     "end_time": "2025-08-11T13:41:42.608303",
     "exception": false,
     "start_time": "2025-08-11T13:41:42.495891",
     "status": "completed"
    },
    "tags": []
   },
   "outputs": [
    {
     "name": "stdout",
     "output_type": "stream",
     "text": [
      "CPU times: user 24 ms, sys: 0 ns, total: 24 ms\n",
      "Wall time: 9.19 ms\n"
     ]
    },
    {
     "data": {
      "text/html": [
       "<style>#sk-container-id-14 {color: black;background-color: white;}#sk-container-id-14 pre{padding: 0;}#sk-container-id-14 div.sk-toggleable {background-color: white;}#sk-container-id-14 label.sk-toggleable__label {cursor: pointer;display: block;width: 100%;margin-bottom: 0;padding: 0.3em;box-sizing: border-box;text-align: center;}#sk-container-id-14 label.sk-toggleable__label-arrow:before {content: \"▸\";float: left;margin-right: 0.25em;color: #696969;}#sk-container-id-14 label.sk-toggleable__label-arrow:hover:before {color: black;}#sk-container-id-14 div.sk-estimator:hover label.sk-toggleable__label-arrow:before {color: black;}#sk-container-id-14 div.sk-toggleable__content {max-height: 0;max-width: 0;overflow: hidden;text-align: left;background-color: #f0f8ff;}#sk-container-id-14 div.sk-toggleable__content pre {margin: 0.2em;color: black;border-radius: 0.25em;background-color: #f0f8ff;}#sk-container-id-14 input.sk-toggleable__control:checked~div.sk-toggleable__content {max-height: 200px;max-width: 100%;overflow: auto;}#sk-container-id-14 input.sk-toggleable__control:checked~label.sk-toggleable__label-arrow:before {content: \"▾\";}#sk-container-id-14 div.sk-estimator input.sk-toggleable__control:checked~label.sk-toggleable__label {background-color: #d4ebff;}#sk-container-id-14 div.sk-label input.sk-toggleable__control:checked~label.sk-toggleable__label {background-color: #d4ebff;}#sk-container-id-14 input.sk-hidden--visually {border: 0;clip: rect(1px 1px 1px 1px);clip: rect(1px, 1px, 1px, 1px);height: 1px;margin: -1px;overflow: hidden;padding: 0;position: absolute;width: 1px;}#sk-container-id-14 div.sk-estimator {font-family: monospace;background-color: #f0f8ff;border: 1px dotted black;border-radius: 0.25em;box-sizing: border-box;margin-bottom: 0.5em;}#sk-container-id-14 div.sk-estimator:hover {background-color: #d4ebff;}#sk-container-id-14 div.sk-parallel-item::after {content: \"\";width: 100%;border-bottom: 1px solid gray;flex-grow: 1;}#sk-container-id-14 div.sk-label:hover label.sk-toggleable__label {background-color: #d4ebff;}#sk-container-id-14 div.sk-serial::before {content: \"\";position: absolute;border-left: 1px solid gray;box-sizing: border-box;top: 0;bottom: 0;left: 50%;z-index: 0;}#sk-container-id-14 div.sk-serial {display: flex;flex-direction: column;align-items: center;background-color: white;padding-right: 0.2em;padding-left: 0.2em;position: relative;}#sk-container-id-14 div.sk-item {position: relative;z-index: 1;}#sk-container-id-14 div.sk-parallel {display: flex;align-items: stretch;justify-content: center;background-color: white;position: relative;}#sk-container-id-14 div.sk-item::before, #sk-container-id-14 div.sk-parallel-item::before {content: \"\";position: absolute;border-left: 1px solid gray;box-sizing: border-box;top: 0;bottom: 0;left: 50%;z-index: -1;}#sk-container-id-14 div.sk-parallel-item {display: flex;flex-direction: column;z-index: 1;position: relative;background-color: white;}#sk-container-id-14 div.sk-parallel-item:first-child::after {align-self: flex-end;width: 50%;}#sk-container-id-14 div.sk-parallel-item:last-child::after {align-self: flex-start;width: 50%;}#sk-container-id-14 div.sk-parallel-item:only-child::after {width: 0;}#sk-container-id-14 div.sk-dashed-wrapped {border: 1px dashed gray;margin: 0 0.4em 0.5em 0.4em;box-sizing: border-box;padding-bottom: 0.4em;background-color: white;}#sk-container-id-14 div.sk-label label {font-family: monospace;font-weight: bold;display: inline-block;line-height: 1.2em;}#sk-container-id-14 div.sk-label-container {text-align: center;}#sk-container-id-14 div.sk-container {/* jupyter's `normalize.less` sets `[hidden] { display: none; }` but bootstrap.min.css set `[hidden] { display: none !important; }` so we also need the `!important` here to be able to override the default hidden behavior on the sphinx rendered scikit-learn.org. See: https://github.com/scikit-learn/scikit-learn/issues/21755 */display: inline-block !important;position: relative;}#sk-container-id-14 div.sk-text-repr-fallback {display: none;}</style><div id=\"sk-container-id-14\" class=\"sk-top-container\"><div class=\"sk-text-repr-fallback\"><pre>Lasso(alpha=0.001, max_iter=10000, random_state=42)</pre><b>In a Jupyter environment, please rerun this cell to show the HTML representation or trust the notebook. <br />On GitHub, the HTML representation is unable to render, please try loading this page with nbviewer.org.</b></div><div class=\"sk-container\" hidden><div class=\"sk-item\"><div class=\"sk-estimator sk-toggleable\"><input class=\"sk-toggleable__control sk-hidden--visually\" id=\"sk-estimator-id-22\" type=\"checkbox\" checked><label for=\"sk-estimator-id-22\" class=\"sk-toggleable__label sk-toggleable__label-arrow\">Lasso</label><div class=\"sk-toggleable__content\"><pre>Lasso(alpha=0.001, max_iter=10000, random_state=42)</pre></div></div></div></div></div>"
      ],
      "text/plain": [
       "Lasso(alpha=0.001, max_iter=10000, random_state=42)"
      ]
     },
     "execution_count": 92,
     "metadata": {},
     "output_type": "execute_result"
    }
   ],
   "source": [
    "%%time\n",
    "training_model.fit(X_train, y_train)"
   ]
  },
  {
   "cell_type": "code",
   "execution_count": 93,
   "id": "c6728a3e",
   "metadata": {
    "execution": {
     "iopub.execute_input": "2025-08-11T13:41:42.840707Z",
     "iopub.status.busy": "2025-08-11T13:41:42.840398Z",
     "iopub.status.idle": "2025-08-11T13:41:42.846764Z",
     "shell.execute_reply": "2025-08-11T13:41:42.845960Z"
    },
    "papermill": {
     "duration": 0.098986,
     "end_time": "2025-08-11T13:41:42.848346",
     "exception": false,
     "start_time": "2025-08-11T13:41:42.749360",
     "status": "completed"
    },
    "tags": []
   },
   "outputs": [
    {
     "data": {
      "text/plain": [
       "array([0.00263847, 0.27358283, 0.00365318, ..., 0.74359454, 0.00497524,\n",
       "       0.0028812 ])"
      ]
     },
     "execution_count": 93,
     "metadata": {},
     "output_type": "execute_result"
    }
   ],
   "source": [
    "y_pred = training_model.predict(X_test)\n",
    "y_pred"
   ]
  },
  {
   "cell_type": "code",
   "execution_count": 94,
   "id": "0aa1532a",
   "metadata": {
    "execution": {
     "iopub.execute_input": "2025-08-11T13:41:43.033311Z",
     "iopub.status.busy": "2025-08-11T13:41:43.032125Z",
     "iopub.status.idle": "2025-08-11T13:41:43.039525Z",
     "shell.execute_reply": "2025-08-11T13:41:43.038555Z"
    },
    "papermill": {
     "duration": 0.102303,
     "end_time": "2025-08-11T13:41:43.040905",
     "exception": false,
     "start_time": "2025-08-11T13:41:42.938602",
     "status": "completed"
    },
    "tags": []
   },
   "outputs": [
    {
     "data": {
      "text/plain": [
       "5158     0.00\n",
       "3831     0.36\n",
       "5117     0.00\n",
       "6326     2.70\n",
       "11359    0.49\n",
       "         ... \n",
       "10290    0.30\n",
       "13995    0.00\n",
       "9665     0.90\n",
       "2276     0.00\n",
       "4174     0.00\n",
       "Name: SolarEnergy, Length: 2924, dtype: float64"
      ]
     },
     "execution_count": 94,
     "metadata": {},
     "output_type": "execute_result"
    }
   ],
   "source": [
    "y_test"
   ]
  },
  {
   "cell_type": "code",
   "execution_count": 95,
   "id": "04f0b084",
   "metadata": {
    "execution": {
     "iopub.execute_input": "2025-08-11T13:41:43.245123Z",
     "iopub.status.busy": "2025-08-11T13:41:43.244094Z",
     "iopub.status.idle": "2025-08-11T13:41:43.252091Z",
     "shell.execute_reply": "2025-08-11T13:41:43.251018Z"
    },
    "papermill": {
     "duration": 0.121426,
     "end_time": "2025-08-11T13:41:43.253941",
     "exception": false,
     "start_time": "2025-08-11T13:41:43.132515",
     "status": "completed"
    },
    "tags": []
   },
   "outputs": [],
   "source": [
    "mse = mean_squared_error(y_test, y_pred)\n",
    "mae = mean_absolute_error(y_test, y_pred)\n",
    "r2 = r2_score(y_test, y_pred)\n",
    "rmse = math.sqrt(mse)"
   ]
  },
  {
   "cell_type": "code",
   "execution_count": 96,
   "id": "55275f04",
   "metadata": {
    "execution": {
     "iopub.execute_input": "2025-08-11T13:41:43.507529Z",
     "iopub.status.busy": "2025-08-11T13:41:43.507204Z",
     "iopub.status.idle": "2025-08-11T13:41:43.512427Z",
     "shell.execute_reply": "2025-08-11T13:41:43.511668Z"
    },
    "papermill": {
     "duration": 0.098485,
     "end_time": "2025-08-11T13:41:43.513659",
     "exception": false,
     "start_time": "2025-08-11T13:41:43.415174",
     "status": "completed"
    },
    "tags": []
   },
   "outputs": [
    {
     "name": "stdout",
     "output_type": "stream",
     "text": [
      "MSE Score: 0.0044273424004779745\n",
      "MAE Score: 0.04307012838803158\n",
      "R2 Score: 0.9963662553218748\n",
      "RMSE Score: 0.06653827770898474\n"
     ]
    }
   ],
   "source": [
    "print(\"MSE Score:\", mse)\n",
    "print(\"MAE Score:\", mae)\n",
    "print(\"R2 Score:\", r2)\n",
    "print(\"RMSE Score:\", rmse)"
   ]
  },
  {
   "cell_type": "code",
   "execution_count": 97,
   "id": "133afe5f",
   "metadata": {
    "execution": {
     "iopub.execute_input": "2025-08-11T13:41:43.697186Z",
     "iopub.status.busy": "2025-08-11T13:41:43.696884Z",
     "iopub.status.idle": "2025-08-11T13:41:43.709465Z",
     "shell.execute_reply": "2025-08-11T13:41:43.708336Z"
    },
    "papermill": {
     "duration": 0.105798,
     "end_time": "2025-08-11T13:41:43.710920",
     "exception": false,
     "start_time": "2025-08-11T13:41:43.605122",
     "status": "completed"
    },
    "tags": []
   },
   "outputs": [
    {
     "name": "stdout",
     "output_type": "stream",
     "text": [
      "✅ Regression model improved with same performance but fewer features!\n",
      "   MSE: 0.004427 ≈ 0.004427 (similar)\n",
      "   R²:  0.996367 ≈ 0.996366 (similar)\n",
      "   Features: 27 → 24 (🎯 3 fewer features!)\n",
      "💾 Registry updated: Model_Training_History/History_Regression.csv\n"
     ]
    }
   ],
   "source": [
    "regression_params = {\n",
    "    'model_name': model_name_for_saving,\n",
    "    'scaler_name': \"StandardScaler\",\n",
    "    'features_list': feature_columns_for_saving,\n",
    "    'target_column': target_name_for_saving,\n",
    "    'mse': mse,\n",
    "    'mae': mae,\n",
    "    'rmse': rmse,\n",
    "    'r2': r2,\n",
    "    'parameters': json.dumps(training_model.get_params())\n",
    "}\n",
    "save_model_performance_if_better('regression', regression_params)"
   ]
  },
  {
   "cell_type": "markdown",
   "id": "ad51012f",
   "metadata": {
    "papermill": {
     "duration": 0.090023,
     "end_time": "2025-08-11T13:41:43.892424",
     "exception": false,
     "start_time": "2025-08-11T13:41:43.802401",
     "status": "completed"
    },
    "tags": []
   },
   "source": [
    "#### Tuning with Grid Search"
   ]
  },
  {
   "cell_type": "code",
   "execution_count": 98,
   "id": "8643c175",
   "metadata": {
    "execution": {
     "iopub.execute_input": "2025-08-11T13:41:44.074538Z",
     "iopub.status.busy": "2025-08-11T13:41:44.074197Z",
     "iopub.status.idle": "2025-08-11T13:41:44.078531Z",
     "shell.execute_reply": "2025-08-11T13:41:44.077676Z"
    },
    "papermill": {
     "duration": 0.097039,
     "end_time": "2025-08-11T13:41:44.079932",
     "exception": false,
     "start_time": "2025-08-11T13:41:43.982893",
     "status": "completed"
    },
    "tags": []
   },
   "outputs": [],
   "source": [
    "grid_search = GridSearchCV(\n",
    "    LassoR(random_state=42), \n",
    "    grid_param, \n",
    "    cv=5, \n",
    "    scoring='neg_mean_squared_error', \n",
    "    n_jobs=-1, # allow parallel processing, you cant use your own laptop while this runs\n",
    "    verbose=1\n",
    ")"
   ]
  },
  {
   "cell_type": "code",
   "execution_count": null,
   "id": "7323285b",
   "metadata": {
    "execution": {
     "iopub.execute_input": "2025-08-11T13:41:44.263780Z",
     "iopub.status.busy": "2025-08-11T13:41:44.263083Z",
     "iopub.status.idle": "2025-08-11T13:59:14.488945Z",
     "shell.execute_reply": "2025-08-11T13:59:14.488087Z"
    },
    "papermill": {
     "duration": 1050.457335,
     "end_time": "2025-08-11T13:59:14.627340",
     "exception": false,
     "start_time": "2025-08-11T13:41:44.170005",
     "status": "completed"
    },
    "tags": []
   },
   "outputs": [],
   "source": [
    "%%time\n",
    "print(\"Starting hyperparameter tuning...\")\n",
    "grid_search.fit(X_train, y_train)"
   ]
  },
  {
   "cell_type": "code",
   "execution_count": 100,
   "id": "6339fd13",
   "metadata": {
    "execution": {
     "iopub.execute_input": "2025-08-11T13:59:14.904938Z",
     "iopub.status.busy": "2025-08-11T13:59:14.904590Z",
     "iopub.status.idle": "2025-08-11T13:59:14.910228Z",
     "shell.execute_reply": "2025-08-11T13:59:14.909315Z"
    },
    "papermill": {
     "duration": 0.14524,
     "end_time": "2025-08-11T13:59:14.911614",
     "exception": false,
     "start_time": "2025-08-11T13:59:14.766374",
     "status": "completed"
    },
    "tags": []
   },
   "outputs": [
    {
     "name": "stdout",
     "output_type": "stream",
     "text": [
      "TUNING RESULTS\n",
      "==================================================\n",
      "Best Parameters: {'alpha': 5e-05, 'fit_intercept': True, 'max_iter': 1000, 'positive': True, 'precompute': True, 'selection': 'random', 'tol': 0.0001, 'warm_start': False}\n",
      "Best Cross-Validation Score (Negative MSE): -0.004305488466257397\n",
      "Best Cross-Validation Score (MSE): 0.004305488466257397\n",
      "Best Cross-Validation Score (RMSE): 0.06561622106047708\n"
     ]
    }
   ],
   "source": [
    "print(\"TUNING RESULTS\")\n",
    "print(\"=\"*50)\n",
    "print(\"Best Parameters:\", grid_search.best_params_)\n",
    "print(\"Best Cross-Validation Score (Negative MSE):\", grid_search.best_score_)\n",
    "print(\"Best Cross-Validation Score (MSE):\", -grid_search.best_score_)\n",
    "print(\"Best Cross-Validation Score (RMSE):\", math.sqrt(-grid_search.best_score_))"
   ]
  },
  {
   "cell_type": "code",
   "execution_count": 101,
   "id": "0f663caa",
   "metadata": {
    "execution": {
     "iopub.execute_input": "2025-08-11T13:59:15.210120Z",
     "iopub.status.busy": "2025-08-11T13:59:15.209213Z",
     "iopub.status.idle": "2025-08-11T13:59:15.215188Z",
     "shell.execute_reply": "2025-08-11T13:59:15.214392Z"
    },
    "papermill": {
     "duration": 0.165198,
     "end_time": "2025-08-11T13:59:15.216714",
     "exception": false,
     "start_time": "2025-08-11T13:59:15.051516",
     "status": "completed"
    },
    "tags": []
   },
   "outputs": [],
   "source": [
    "grid_search_best_model = grid_search.best_estimator_\n",
    "y_pred = grid_search_best_model.predict(X_test)"
   ]
  },
  {
   "cell_type": "code",
   "execution_count": 102,
   "id": "9658b173",
   "metadata": {
    "execution": {
     "iopub.execute_input": "2025-08-11T13:59:15.523479Z",
     "iopub.status.busy": "2025-08-11T13:59:15.522990Z",
     "iopub.status.idle": "2025-08-11T13:59:15.531621Z",
     "shell.execute_reply": "2025-08-11T13:59:15.530688Z"
    },
    "papermill": {
     "duration": 0.159331,
     "end_time": "2025-08-11T13:59:15.533623",
     "exception": false,
     "start_time": "2025-08-11T13:59:15.374292",
     "status": "completed"
    },
    "tags": []
   },
   "outputs": [],
   "source": [
    "mse_grid_search = mean_squared_error(y_test, y_pred)\n",
    "mae_grid_search = mean_absolute_error(y_test, y_pred)\n",
    "r2_grid_search = r2_score(y_test, y_pred)\n",
    "rmse_grid_search = math.sqrt(mse_grid_search)"
   ]
  },
  {
   "cell_type": "code",
   "execution_count": 103,
   "id": "2e51232d",
   "metadata": {
    "execution": {
     "iopub.execute_input": "2025-08-11T13:59:15.830550Z",
     "iopub.status.busy": "2025-08-11T13:59:15.829708Z",
     "iopub.status.idle": "2025-08-11T13:59:15.834878Z",
     "shell.execute_reply": "2025-08-11T13:59:15.833972Z"
    },
    "papermill": {
     "duration": 0.146547,
     "end_time": "2025-08-11T13:59:15.836177",
     "exception": false,
     "start_time": "2025-08-11T13:59:15.689630",
     "status": "completed"
    },
    "tags": []
   },
   "outputs": [
    {
     "name": "stdout",
     "output_type": "stream",
     "text": [
      "MSE Score: 0.004414163253500879\n",
      "MAE Score: 0.043234788013064046\n",
      "R2 Score: 0.9963770721168861\n",
      "RMSE Score: 0.06643916957263146\n"
     ]
    }
   ],
   "source": [
    "print(\"MSE Score:\", mse_grid_search)\n",
    "print(\"MAE Score:\", mae_grid_search)\n",
    "print(\"R2 Score:\", r2_grid_search)\n",
    "print(\"RMSE Score:\", rmse_grid_search)"
   ]
  },
  {
   "cell_type": "code",
   "execution_count": 104,
   "id": "0c3acbca",
   "metadata": {
    "execution": {
     "iopub.execute_input": "2025-08-11T13:59:16.117463Z",
     "iopub.status.busy": "2025-08-11T13:59:16.116677Z",
     "iopub.status.idle": "2025-08-11T13:59:16.129746Z",
     "shell.execute_reply": "2025-08-11T13:59:16.128932Z"
    },
    "papermill": {
     "duration": 0.156217,
     "end_time": "2025-08-11T13:59:16.131351",
     "exception": false,
     "start_time": "2025-08-11T13:59:15.975134",
     "status": "completed"
    },
    "tags": []
   },
   "outputs": [
    {
     "name": "stdout",
     "output_type": "stream",
     "text": [
      "✅ Regression model improved with same performance but fewer features!\n",
      "   MSE: 0.004413 ≈ 0.004414 (similar)\n",
      "   R²:  0.996378 ≈ 0.996377 (similar)\n",
      "   Features: 27 → 24 (🎯 3 fewer features!)\n",
      "💾 Registry updated: Model_Training_History/History_Regression.csv\n"
     ]
    }
   ],
   "source": [
    "regression_params = {\n",
    "    'model_name': model_name_for_saving + \" Tuned\",\n",
    "    'scaler_name': \"StandardScaler\",\n",
    "    'features_list': feature_columns_for_saving,\n",
    "    'target_column': target_name_for_saving,\n",
    "    'mse': mse_grid_search,\n",
    "    'mae': mae_grid_search,\n",
    "    'rmse': rmse_grid_search,\n",
    "    'r2': r2_grid_search,\n",
    "    'parameters' : json.dumps({\n",
    "        \"best_params\": grid_search.best_params_,\n",
    "        \"cv_score\": grid_search.best_score_,\n",
    "        \"all_params\": grid_search_best_model.get_params()\n",
    "    })\n",
    "}\n",
    "save_model_performance_if_better('regression', regression_params)"
   ]
  },
  {
   "cell_type": "markdown",
   "id": "2da59e8c",
   "metadata": {
    "papermill": {
     "duration": 0.141609,
     "end_time": "2025-08-11T13:59:16.493199",
     "exception": false,
     "start_time": "2025-08-11T13:59:16.351590",
     "status": "completed"
    },
    "tags": []
   },
   "source": [
    "### Robust Scaler"
   ]
  },
  {
   "cell_type": "code",
   "execution_count": 105,
   "id": "eb151dcc",
   "metadata": {
    "execution": {
     "iopub.execute_input": "2025-08-11T13:59:16.771071Z",
     "iopub.status.busy": "2025-08-11T13:59:16.770754Z",
     "iopub.status.idle": "2025-08-11T13:59:16.795980Z",
     "shell.execute_reply": "2025-08-11T13:59:16.795114Z"
    },
    "papermill": {
     "duration": 0.166762,
     "end_time": "2025-08-11T13:59:16.797535",
     "exception": false,
     "start_time": "2025-08-11T13:59:16.630773",
     "status": "completed"
    },
    "tags": []
   },
   "outputs": [],
   "source": [
    "scaler = RobustScaler()\n",
    "X_train = scaler.fit_transform(X_train_raw)\n",
    "X_test = scaler.transform(X_test_raw)"
   ]
  },
  {
   "cell_type": "code",
   "execution_count": 106,
   "id": "1e7535b5",
   "metadata": {
    "execution": {
     "iopub.execute_input": "2025-08-11T13:59:17.073654Z",
     "iopub.status.busy": "2025-08-11T13:59:17.072741Z",
     "iopub.status.idle": "2025-08-11T13:59:17.079031Z",
     "shell.execute_reply": "2025-08-11T13:59:17.078072Z"
    },
    "papermill": {
     "duration": 0.14582,
     "end_time": "2025-08-11T13:59:17.080559",
     "exception": false,
     "start_time": "2025-08-11T13:59:16.934739",
     "status": "completed"
    },
    "tags": []
   },
   "outputs": [
    {
     "data": {
      "text/plain": [
       "array([[ 0.6       , -0.16666667,  0.        , ..., -0.03738547,\n",
       "         1.44008264,  8.87596899],\n",
       "       [ 1.        ,  0.33333333,  1.        , ..., -0.84268652,\n",
       "         0.62603306,  0.        ],\n",
       "       [-0.8       , -1.        ,  0.        , ..., -0.84268652,\n",
       "         0.        ,  0.        ],\n",
       "       ...,\n",
       "       [ 0.4       , -0.16666667,  0.        , ...,  0.5899051 ,\n",
       "         0.6322314 ,  0.75193798],\n",
       "       [-1.        ,  0.75      ,  0.        , ..., -0.84268652,\n",
       "         0.        ,  0.        ],\n",
       "       [ 0.6       , -0.33333333,  0.        , ...,  0.61755563,\n",
       "         0.59917355,  7.5       ]])"
      ]
     },
     "execution_count": 106,
     "metadata": {},
     "output_type": "execute_result"
    }
   ],
   "source": [
    "X_train"
   ]
  },
  {
   "cell_type": "code",
   "execution_count": 107,
   "id": "b258305d",
   "metadata": {
    "execution": {
     "iopub.execute_input": "2025-08-11T13:59:17.361000Z",
     "iopub.status.busy": "2025-08-11T13:59:17.360683Z",
     "iopub.status.idle": "2025-08-11T13:59:17.366503Z",
     "shell.execute_reply": "2025-08-11T13:59:17.365813Z"
    },
    "papermill": {
     "duration": 0.1469,
     "end_time": "2025-08-11T13:59:17.367781",
     "exception": false,
     "start_time": "2025-08-11T13:59:17.220881",
     "status": "completed"
    },
    "tags": []
   },
   "outputs": [
    {
     "data": {
      "text/plain": [
       "array([[ 4.00000000e-01,  8.33333333e-01,  0.00000000e+00, ...,\n",
       "         6.20009817e-01,  0.00000000e+00,  0.00000000e+00],\n",
       "       [ 0.00000000e+00,  2.50000000e-01,  1.00000000e+00, ...,\n",
       "         7.40592277e-01,  1.52892562e-01,  0.00000000e+00],\n",
       "       [ 4.00000000e-01, -5.83333333e-01,  0.00000000e+00, ...,\n",
       "         7.82804319e-01,  0.00000000e+00,  0.00000000e+00],\n",
       "       ...,\n",
       "       [-8.00000000e-01,  4.16666667e-01,  1.00000000e+00, ...,\n",
       "        -8.40559555e-01,  4.19421488e-01,  0.00000000e+00],\n",
       "       [-4.00000000e-01,  6.66666667e-01,  0.00000000e+00, ...,\n",
       "        -8.42686518e-01,  0.00000000e+00,  6.67829457e+00],\n",
       "       [ 0.00000000e+00,  8.33333333e-01,  0.00000000e+00, ...,\n",
       "         1.71793194e-03,  0.00000000e+00,  0.00000000e+00]])"
      ]
     },
     "execution_count": 107,
     "metadata": {},
     "output_type": "execute_result"
    }
   ],
   "source": [
    "X_test"
   ]
  },
  {
   "cell_type": "markdown",
   "id": "73ef86fe",
   "metadata": {
    "papermill": {
     "duration": 0.138029,
     "end_time": "2025-08-11T13:59:17.644848",
     "exception": false,
     "start_time": "2025-08-11T13:59:17.506819",
     "status": "completed"
    },
    "tags": []
   },
   "source": [
    "#### Default Parameters"
   ]
  },
  {
   "cell_type": "code",
   "execution_count": 108,
   "id": "a031cd1d",
   "metadata": {
    "execution": {
     "iopub.execute_input": "2025-08-11T13:59:17.926641Z",
     "iopub.status.busy": "2025-08-11T13:59:17.925780Z",
     "iopub.status.idle": "2025-08-11T13:59:17.932074Z",
     "shell.execute_reply": "2025-08-11T13:59:17.931302Z"
    },
    "papermill": {
     "duration": 0.146105,
     "end_time": "2025-08-11T13:59:17.933225",
     "exception": false,
     "start_time": "2025-08-11T13:59:17.787120",
     "status": "completed"
    },
    "tags": []
   },
   "outputs": [
    {
     "data": {
      "text/html": [
       "<style>#sk-container-id-16 {color: black;background-color: white;}#sk-container-id-16 pre{padding: 0;}#sk-container-id-16 div.sk-toggleable {background-color: white;}#sk-container-id-16 label.sk-toggleable__label {cursor: pointer;display: block;width: 100%;margin-bottom: 0;padding: 0.3em;box-sizing: border-box;text-align: center;}#sk-container-id-16 label.sk-toggleable__label-arrow:before {content: \"▸\";float: left;margin-right: 0.25em;color: #696969;}#sk-container-id-16 label.sk-toggleable__label-arrow:hover:before {color: black;}#sk-container-id-16 div.sk-estimator:hover label.sk-toggleable__label-arrow:before {color: black;}#sk-container-id-16 div.sk-toggleable__content {max-height: 0;max-width: 0;overflow: hidden;text-align: left;background-color: #f0f8ff;}#sk-container-id-16 div.sk-toggleable__content pre {margin: 0.2em;color: black;border-radius: 0.25em;background-color: #f0f8ff;}#sk-container-id-16 input.sk-toggleable__control:checked~div.sk-toggleable__content {max-height: 200px;max-width: 100%;overflow: auto;}#sk-container-id-16 input.sk-toggleable__control:checked~label.sk-toggleable__label-arrow:before {content: \"▾\";}#sk-container-id-16 div.sk-estimator input.sk-toggleable__control:checked~label.sk-toggleable__label {background-color: #d4ebff;}#sk-container-id-16 div.sk-label input.sk-toggleable__control:checked~label.sk-toggleable__label {background-color: #d4ebff;}#sk-container-id-16 input.sk-hidden--visually {border: 0;clip: rect(1px 1px 1px 1px);clip: rect(1px, 1px, 1px, 1px);height: 1px;margin: -1px;overflow: hidden;padding: 0;position: absolute;width: 1px;}#sk-container-id-16 div.sk-estimator {font-family: monospace;background-color: #f0f8ff;border: 1px dotted black;border-radius: 0.25em;box-sizing: border-box;margin-bottom: 0.5em;}#sk-container-id-16 div.sk-estimator:hover {background-color: #d4ebff;}#sk-container-id-16 div.sk-parallel-item::after {content: \"\";width: 100%;border-bottom: 1px solid gray;flex-grow: 1;}#sk-container-id-16 div.sk-label:hover label.sk-toggleable__label {background-color: #d4ebff;}#sk-container-id-16 div.sk-serial::before {content: \"\";position: absolute;border-left: 1px solid gray;box-sizing: border-box;top: 0;bottom: 0;left: 50%;z-index: 0;}#sk-container-id-16 div.sk-serial {display: flex;flex-direction: column;align-items: center;background-color: white;padding-right: 0.2em;padding-left: 0.2em;position: relative;}#sk-container-id-16 div.sk-item {position: relative;z-index: 1;}#sk-container-id-16 div.sk-parallel {display: flex;align-items: stretch;justify-content: center;background-color: white;position: relative;}#sk-container-id-16 div.sk-item::before, #sk-container-id-16 div.sk-parallel-item::before {content: \"\";position: absolute;border-left: 1px solid gray;box-sizing: border-box;top: 0;bottom: 0;left: 50%;z-index: -1;}#sk-container-id-16 div.sk-parallel-item {display: flex;flex-direction: column;z-index: 1;position: relative;background-color: white;}#sk-container-id-16 div.sk-parallel-item:first-child::after {align-self: flex-end;width: 50%;}#sk-container-id-16 div.sk-parallel-item:last-child::after {align-self: flex-start;width: 50%;}#sk-container-id-16 div.sk-parallel-item:only-child::after {width: 0;}#sk-container-id-16 div.sk-dashed-wrapped {border: 1px dashed gray;margin: 0 0.4em 0.5em 0.4em;box-sizing: border-box;padding-bottom: 0.4em;background-color: white;}#sk-container-id-16 div.sk-label label {font-family: monospace;font-weight: bold;display: inline-block;line-height: 1.2em;}#sk-container-id-16 div.sk-label-container {text-align: center;}#sk-container-id-16 div.sk-container {/* jupyter's `normalize.less` sets `[hidden] { display: none; }` but bootstrap.min.css set `[hidden] { display: none !important; }` so we also need the `!important` here to be able to override the default hidden behavior on the sphinx rendered scikit-learn.org. See: https://github.com/scikit-learn/scikit-learn/issues/21755 */display: inline-block !important;position: relative;}#sk-container-id-16 div.sk-text-repr-fallback {display: none;}</style><div id=\"sk-container-id-16\" class=\"sk-top-container\"><div class=\"sk-text-repr-fallback\"><pre>Lasso(alpha=0.001, max_iter=10000, random_state=42)</pre><b>In a Jupyter environment, please rerun this cell to show the HTML representation or trust the notebook. <br />On GitHub, the HTML representation is unable to render, please try loading this page with nbviewer.org.</b></div><div class=\"sk-container\" hidden><div class=\"sk-item\"><div class=\"sk-estimator sk-toggleable\"><input class=\"sk-toggleable__control sk-hidden--visually\" id=\"sk-estimator-id-26\" type=\"checkbox\" checked><label for=\"sk-estimator-id-26\" class=\"sk-toggleable__label sk-toggleable__label-arrow\">Lasso</label><div class=\"sk-toggleable__content\"><pre>Lasso(alpha=0.001, max_iter=10000, random_state=42)</pre></div></div></div></div></div>"
      ],
      "text/plain": [
       "Lasso(alpha=0.001, max_iter=10000, random_state=42)"
      ]
     },
     "execution_count": 108,
     "metadata": {},
     "output_type": "execute_result"
    }
   ],
   "source": [
    "training_model = LassoR(alpha=0.001, random_state=42, max_iter=10000)\n",
    "training_model"
   ]
  },
  {
   "cell_type": "code",
   "execution_count": 109,
   "id": "eb42f00a",
   "metadata": {
    "execution": {
     "iopub.execute_input": "2025-08-11T13:59:18.212579Z",
     "iopub.status.busy": "2025-08-11T13:59:18.212298Z",
     "iopub.status.idle": "2025-08-11T13:59:18.227778Z",
     "shell.execute_reply": "2025-08-11T13:59:18.227060Z"
    },
    "papermill": {
     "duration": 0.15799,
     "end_time": "2025-08-11T13:59:18.229705",
     "exception": false,
     "start_time": "2025-08-11T13:59:18.071715",
     "status": "completed"
    },
    "tags": []
   },
   "outputs": [
    {
     "name": "stdout",
     "output_type": "stream",
     "text": [
      "CPU times: user 21.9 ms, sys: 718 µs, total: 22.6 ms\n",
      "Wall time: 8.83 ms\n"
     ]
    },
    {
     "data": {
      "text/html": [
       "<style>#sk-container-id-17 {color: black;background-color: white;}#sk-container-id-17 pre{padding: 0;}#sk-container-id-17 div.sk-toggleable {background-color: white;}#sk-container-id-17 label.sk-toggleable__label {cursor: pointer;display: block;width: 100%;margin-bottom: 0;padding: 0.3em;box-sizing: border-box;text-align: center;}#sk-container-id-17 label.sk-toggleable__label-arrow:before {content: \"▸\";float: left;margin-right: 0.25em;color: #696969;}#sk-container-id-17 label.sk-toggleable__label-arrow:hover:before {color: black;}#sk-container-id-17 div.sk-estimator:hover label.sk-toggleable__label-arrow:before {color: black;}#sk-container-id-17 div.sk-toggleable__content {max-height: 0;max-width: 0;overflow: hidden;text-align: left;background-color: #f0f8ff;}#sk-container-id-17 div.sk-toggleable__content pre {margin: 0.2em;color: black;border-radius: 0.25em;background-color: #f0f8ff;}#sk-container-id-17 input.sk-toggleable__control:checked~div.sk-toggleable__content {max-height: 200px;max-width: 100%;overflow: auto;}#sk-container-id-17 input.sk-toggleable__control:checked~label.sk-toggleable__label-arrow:before {content: \"▾\";}#sk-container-id-17 div.sk-estimator input.sk-toggleable__control:checked~label.sk-toggleable__label {background-color: #d4ebff;}#sk-container-id-17 div.sk-label input.sk-toggleable__control:checked~label.sk-toggleable__label {background-color: #d4ebff;}#sk-container-id-17 input.sk-hidden--visually {border: 0;clip: rect(1px 1px 1px 1px);clip: rect(1px, 1px, 1px, 1px);height: 1px;margin: -1px;overflow: hidden;padding: 0;position: absolute;width: 1px;}#sk-container-id-17 div.sk-estimator {font-family: monospace;background-color: #f0f8ff;border: 1px dotted black;border-radius: 0.25em;box-sizing: border-box;margin-bottom: 0.5em;}#sk-container-id-17 div.sk-estimator:hover {background-color: #d4ebff;}#sk-container-id-17 div.sk-parallel-item::after {content: \"\";width: 100%;border-bottom: 1px solid gray;flex-grow: 1;}#sk-container-id-17 div.sk-label:hover label.sk-toggleable__label {background-color: #d4ebff;}#sk-container-id-17 div.sk-serial::before {content: \"\";position: absolute;border-left: 1px solid gray;box-sizing: border-box;top: 0;bottom: 0;left: 50%;z-index: 0;}#sk-container-id-17 div.sk-serial {display: flex;flex-direction: column;align-items: center;background-color: white;padding-right: 0.2em;padding-left: 0.2em;position: relative;}#sk-container-id-17 div.sk-item {position: relative;z-index: 1;}#sk-container-id-17 div.sk-parallel {display: flex;align-items: stretch;justify-content: center;background-color: white;position: relative;}#sk-container-id-17 div.sk-item::before, #sk-container-id-17 div.sk-parallel-item::before {content: \"\";position: absolute;border-left: 1px solid gray;box-sizing: border-box;top: 0;bottom: 0;left: 50%;z-index: -1;}#sk-container-id-17 div.sk-parallel-item {display: flex;flex-direction: column;z-index: 1;position: relative;background-color: white;}#sk-container-id-17 div.sk-parallel-item:first-child::after {align-self: flex-end;width: 50%;}#sk-container-id-17 div.sk-parallel-item:last-child::after {align-self: flex-start;width: 50%;}#sk-container-id-17 div.sk-parallel-item:only-child::after {width: 0;}#sk-container-id-17 div.sk-dashed-wrapped {border: 1px dashed gray;margin: 0 0.4em 0.5em 0.4em;box-sizing: border-box;padding-bottom: 0.4em;background-color: white;}#sk-container-id-17 div.sk-label label {font-family: monospace;font-weight: bold;display: inline-block;line-height: 1.2em;}#sk-container-id-17 div.sk-label-container {text-align: center;}#sk-container-id-17 div.sk-container {/* jupyter's `normalize.less` sets `[hidden] { display: none; }` but bootstrap.min.css set `[hidden] { display: none !important; }` so we also need the `!important` here to be able to override the default hidden behavior on the sphinx rendered scikit-learn.org. See: https://github.com/scikit-learn/scikit-learn/issues/21755 */display: inline-block !important;position: relative;}#sk-container-id-17 div.sk-text-repr-fallback {display: none;}</style><div id=\"sk-container-id-17\" class=\"sk-top-container\"><div class=\"sk-text-repr-fallback\"><pre>Lasso(alpha=0.001, max_iter=10000, random_state=42)</pre><b>In a Jupyter environment, please rerun this cell to show the HTML representation or trust the notebook. <br />On GitHub, the HTML representation is unable to render, please try loading this page with nbviewer.org.</b></div><div class=\"sk-container\" hidden><div class=\"sk-item\"><div class=\"sk-estimator sk-toggleable\"><input class=\"sk-toggleable__control sk-hidden--visually\" id=\"sk-estimator-id-27\" type=\"checkbox\" checked><label for=\"sk-estimator-id-27\" class=\"sk-toggleable__label sk-toggleable__label-arrow\">Lasso</label><div class=\"sk-toggleable__content\"><pre>Lasso(alpha=0.001, max_iter=10000, random_state=42)</pre></div></div></div></div></div>"
      ],
      "text/plain": [
       "Lasso(alpha=0.001, max_iter=10000, random_state=42)"
      ]
     },
     "execution_count": 109,
     "metadata": {},
     "output_type": "execute_result"
    }
   ],
   "source": [
    "%%time\n",
    "training_model.fit(X_train, y_train)"
   ]
  },
  {
   "cell_type": "code",
   "execution_count": 110,
   "id": "87ad08d5",
   "metadata": {
    "execution": {
     "iopub.execute_input": "2025-08-11T13:59:18.557369Z",
     "iopub.status.busy": "2025-08-11T13:59:18.557053Z",
     "iopub.status.idle": "2025-08-11T13:59:18.563129Z",
     "shell.execute_reply": "2025-08-11T13:59:18.562312Z"
    },
    "papermill": {
     "duration": 0.146702,
     "end_time": "2025-08-11T13:59:18.564448",
     "exception": false,
     "start_time": "2025-08-11T13:59:18.417746",
     "status": "completed"
    },
    "tags": []
   },
   "outputs": [
    {
     "data": {
      "text/plain": [
       "array([0.00985018, 0.27044615, 0.00893683, ..., 0.73899057, 0.01160812,\n",
       "       0.01002868])"
      ]
     },
     "execution_count": 110,
     "metadata": {},
     "output_type": "execute_result"
    }
   ],
   "source": [
    "y_pred = training_model.predict(X_test)\n",
    "y_pred"
   ]
  },
  {
   "cell_type": "code",
   "execution_count": 111,
   "id": "bbd2da2a",
   "metadata": {
    "execution": {
     "iopub.execute_input": "2025-08-11T13:59:18.842785Z",
     "iopub.status.busy": "2025-08-11T13:59:18.842015Z",
     "iopub.status.idle": "2025-08-11T13:59:18.848435Z",
     "shell.execute_reply": "2025-08-11T13:59:18.847733Z"
    },
    "papermill": {
     "duration": 0.147264,
     "end_time": "2025-08-11T13:59:18.849702",
     "exception": false,
     "start_time": "2025-08-11T13:59:18.702438",
     "status": "completed"
    },
    "tags": []
   },
   "outputs": [
    {
     "data": {
      "text/plain": [
       "5158     0.00\n",
       "3831     0.36\n",
       "5117     0.00\n",
       "6326     2.70\n",
       "11359    0.49\n",
       "         ... \n",
       "10290    0.30\n",
       "13995    0.00\n",
       "9665     0.90\n",
       "2276     0.00\n",
       "4174     0.00\n",
       "Name: SolarEnergy, Length: 2924, dtype: float64"
      ]
     },
     "execution_count": 111,
     "metadata": {},
     "output_type": "execute_result"
    }
   ],
   "source": [
    "y_test"
   ]
  },
  {
   "cell_type": "code",
   "execution_count": 112,
   "id": "f4420ddb",
   "metadata": {
    "execution": {
     "iopub.execute_input": "2025-08-11T13:59:19.128391Z",
     "iopub.status.busy": "2025-08-11T13:59:19.128056Z",
     "iopub.status.idle": "2025-08-11T13:59:19.134717Z",
     "shell.execute_reply": "2025-08-11T13:59:19.134025Z"
    },
    "papermill": {
     "duration": 0.145428,
     "end_time": "2025-08-11T13:59:19.136044",
     "exception": false,
     "start_time": "2025-08-11T13:59:18.990616",
     "status": "completed"
    },
    "tags": []
   },
   "outputs": [],
   "source": [
    "mse = mean_squared_error(y_test, y_pred)\n",
    "mae = mean_absolute_error(y_test, y_pred)\n",
    "r2 = r2_score(y_test, y_pred)\n",
    "rmse = math.sqrt(mse)"
   ]
  },
  {
   "cell_type": "code",
   "execution_count": 113,
   "id": "18b0493a",
   "metadata": {
    "execution": {
     "iopub.execute_input": "2025-08-11T13:59:19.486716Z",
     "iopub.status.busy": "2025-08-11T13:59:19.486440Z",
     "iopub.status.idle": "2025-08-11T13:59:19.491183Z",
     "shell.execute_reply": "2025-08-11T13:59:19.490407Z"
    },
    "papermill": {
     "duration": 0.218824,
     "end_time": "2025-08-11T13:59:19.492573",
     "exception": false,
     "start_time": "2025-08-11T13:59:19.273749",
     "status": "completed"
    },
    "tags": []
   },
   "outputs": [
    {
     "name": "stdout",
     "output_type": "stream",
     "text": [
      "MSE Score: 0.004465067797004889\n",
      "MAE Score: 0.04424113948111088\n",
      "R2 Score: 0.996335292173679\n",
      "RMSE Score: 0.06682116279297218\n"
     ]
    }
   ],
   "source": [
    "print(\"MSE Score:\", mse)\n",
    "print(\"MAE Score:\", mae)\n",
    "print(\"R2 Score:\", r2)\n",
    "print(\"RMSE Score:\", rmse)"
   ]
  },
  {
   "cell_type": "code",
   "execution_count": 114,
   "id": "49860498",
   "metadata": {
    "execution": {
     "iopub.execute_input": "2025-08-11T13:59:19.782338Z",
     "iopub.status.busy": "2025-08-11T13:59:19.781681Z",
     "iopub.status.idle": "2025-08-11T13:59:19.794504Z",
     "shell.execute_reply": "2025-08-11T13:59:19.793532Z"
    },
    "papermill": {
     "duration": 0.164318,
     "end_time": "2025-08-11T13:59:19.795838",
     "exception": false,
     "start_time": "2025-08-11T13:59:19.631520",
     "status": "completed"
    },
    "tags": []
   },
   "outputs": [
    {
     "name": "stdout",
     "output_type": "stream",
     "text": [
      "✅ Regression model improved with better performance!\n",
      "   MSE: 0.004466 → 0.004465 (lower is better)\n",
      "   R²:  0.996335 → 0.996335 (higher is better)\n",
      "   Features: 27 → 24\n",
      "💾 Registry updated: Model_Training_History/History_Regression.csv\n"
     ]
    }
   ],
   "source": [
    "regression_params = {\n",
    "    'model_name': model_name_for_saving,\n",
    "    'scaler_name': \"RobustScaler\",\n",
    "    'features_list': feature_columns_for_saving,\n",
    "    'target_column': target_name_for_saving,\n",
    "    'mse': mse,\n",
    "    'mae': mae,\n",
    "    'rmse': rmse,\n",
    "    'r2': r2,\n",
    "    'parameters': json.dumps(training_model.get_params())\n",
    "}\n",
    "save_model_performance_if_better('regression', regression_params)"
   ]
  },
  {
   "cell_type": "markdown",
   "id": "f31f3ceb",
   "metadata": {
    "papermill": {
     "duration": 0.137176,
     "end_time": "2025-08-11T13:59:20.072942",
     "exception": false,
     "start_time": "2025-08-11T13:59:19.935766",
     "status": "completed"
    },
    "tags": []
   },
   "source": [
    "#### Tuning with Grid Search"
   ]
  },
  {
   "cell_type": "code",
   "execution_count": 115,
   "id": "04daf4a8",
   "metadata": {
    "execution": {
     "iopub.execute_input": "2025-08-11T13:59:20.351447Z",
     "iopub.status.busy": "2025-08-11T13:59:20.350798Z",
     "iopub.status.idle": "2025-08-11T13:59:20.355005Z",
     "shell.execute_reply": "2025-08-11T13:59:20.354328Z"
    },
    "papermill": {
     "duration": 0.146053,
     "end_time": "2025-08-11T13:59:20.356206",
     "exception": false,
     "start_time": "2025-08-11T13:59:20.210153",
     "status": "completed"
    },
    "tags": []
   },
   "outputs": [],
   "source": [
    "grid_search = GridSearchCV(\n",
    "    LassoR(random_state=42), \n",
    "    grid_param, \n",
    "    cv=5, \n",
    "    scoring='neg_mean_squared_error', \n",
    "    n_jobs=-1, # allow parallel processing, you cant use your own laptop while this runs\n",
    "    verbose=1\n",
    ")"
   ]
  },
  {
   "cell_type": "code",
   "execution_count": null,
   "id": "ff25740a",
   "metadata": {
    "execution": {
     "iopub.execute_input": "2025-08-11T13:59:20.635410Z",
     "iopub.status.busy": "2025-08-11T13:59:20.634601Z",
     "iopub.status.idle": "2025-08-11T14:09:48.263911Z",
     "shell.execute_reply": "2025-08-11T14:09:48.262904Z"
    },
    "papermill": {
     "duration": 627.996064,
     "end_time": "2025-08-11T14:09:48.491433",
     "exception": false,
     "start_time": "2025-08-11T13:59:20.495369",
     "status": "completed"
    },
    "tags": []
   },
   "outputs": [],
   "source": [
    "%%time\n",
    "print(\"Starting hyperparameter tuning...\")\n",
    "grid_search.fit(X_train, y_train)"
   ]
  },
  {
   "cell_type": "code",
   "execution_count": 117,
   "id": "e295a5e7",
   "metadata": {
    "execution": {
     "iopub.execute_input": "2025-08-11T14:09:48.804981Z",
     "iopub.status.busy": "2025-08-11T14:09:48.804679Z",
     "iopub.status.idle": "2025-08-11T14:09:48.810149Z",
     "shell.execute_reply": "2025-08-11T14:09:48.809142Z"
    },
    "papermill": {
     "duration": 0.161774,
     "end_time": "2025-08-11T14:09:48.811603",
     "exception": false,
     "start_time": "2025-08-11T14:09:48.649829",
     "status": "completed"
    },
    "tags": []
   },
   "outputs": [
    {
     "name": "stdout",
     "output_type": "stream",
     "text": [
      "TUNING RESULTS\n",
      "==================================================\n",
      "Best Parameters: {'alpha': 1e-05, 'fit_intercept': True, 'max_iter': 1000, 'positive': True, 'precompute': True, 'selection': 'cyclic', 'tol': 1e-06, 'warm_start': False}\n",
      "Best Cross-Validation Score (Negative MSE): -0.004305662575369227\n",
      "Best Cross-Validation Score (MSE): 0.004305662575369227\n",
      "Best Cross-Validation Score (RMSE): 0.06561754777015998\n"
     ]
    }
   ],
   "source": [
    "print(\"TUNING RESULTS\")\n",
    "print(\"=\"*50)\n",
    "print(\"Best Parameters:\", grid_search.best_params_)\n",
    "print(\"Best Cross-Validation Score (Negative MSE):\", grid_search.best_score_)\n",
    "print(\"Best Cross-Validation Score (MSE):\", -grid_search.best_score_)\n",
    "print(\"Best Cross-Validation Score (RMSE):\", math.sqrt(-grid_search.best_score_))"
   ]
  },
  {
   "cell_type": "code",
   "execution_count": 118,
   "id": "a2b6d5c3",
   "metadata": {
    "execution": {
     "iopub.execute_input": "2025-08-11T14:09:49.127698Z",
     "iopub.status.busy": "2025-08-11T14:09:49.127098Z",
     "iopub.status.idle": "2025-08-11T14:09:49.132241Z",
     "shell.execute_reply": "2025-08-11T14:09:49.131208Z"
    },
    "papermill": {
     "duration": 0.166498,
     "end_time": "2025-08-11T14:09:49.133745",
     "exception": false,
     "start_time": "2025-08-11T14:09:48.967247",
     "status": "completed"
    },
    "tags": []
   },
   "outputs": [],
   "source": [
    "grid_search_best_model = grid_search.best_estimator_\n",
    "y_pred = grid_search_best_model.predict(X_test)"
   ]
  },
  {
   "cell_type": "code",
   "execution_count": 119,
   "id": "e06b326a",
   "metadata": {
    "execution": {
     "iopub.execute_input": "2025-08-11T14:09:49.450190Z",
     "iopub.status.busy": "2025-08-11T14:09:49.449596Z",
     "iopub.status.idle": "2025-08-11T14:09:49.457029Z",
     "shell.execute_reply": "2025-08-11T14:09:49.456077Z"
    },
    "papermill": {
     "duration": 0.168949,
     "end_time": "2025-08-11T14:09:49.458710",
     "exception": false,
     "start_time": "2025-08-11T14:09:49.289761",
     "status": "completed"
    },
    "tags": []
   },
   "outputs": [],
   "source": [
    "mse_grid_search = mean_squared_error(y_test, y_pred)\n",
    "mae_grid_search = mean_absolute_error(y_test, y_pred)\n",
    "r2_grid_search = r2_score(y_test, y_pred)\n",
    "rmse_grid_search = math.sqrt(mse_grid_search)"
   ]
  },
  {
   "cell_type": "code",
   "execution_count": 120,
   "id": "7a67a0b3",
   "metadata": {
    "execution": {
     "iopub.execute_input": "2025-08-11T14:09:49.774234Z",
     "iopub.status.busy": "2025-08-11T14:09:49.773569Z",
     "iopub.status.idle": "2025-08-11T14:09:49.778229Z",
     "shell.execute_reply": "2025-08-11T14:09:49.777446Z"
    },
    "papermill": {
     "duration": 0.163676,
     "end_time": "2025-08-11T14:09:49.779644",
     "exception": false,
     "start_time": "2025-08-11T14:09:49.615968",
     "status": "completed"
    },
    "tags": []
   },
   "outputs": [
    {
     "name": "stdout",
     "output_type": "stream",
     "text": [
      "MSE Score: 0.004413196428927047\n",
      "MAE Score: 0.04327423890824944\n",
      "R2 Score: 0.9963778656388982\n",
      "RMSE Score: 0.06643189316079323\n"
     ]
    }
   ],
   "source": [
    "print(\"MSE Score:\", mse_grid_search)\n",
    "print(\"MAE Score:\", mae_grid_search)\n",
    "print(\"R2 Score:\", r2_grid_search)\n",
    "print(\"RMSE Score:\", rmse_grid_search)"
   ]
  },
  {
   "cell_type": "code",
   "execution_count": 121,
   "id": "b938b5cf",
   "metadata": {
    "execution": {
     "iopub.execute_input": "2025-08-11T14:09:50.100423Z",
     "iopub.status.busy": "2025-08-11T14:09:50.100074Z",
     "iopub.status.idle": "2025-08-11T14:09:50.114145Z",
     "shell.execute_reply": "2025-08-11T14:09:50.113344Z"
    },
    "papermill": {
     "duration": 0.177894,
     "end_time": "2025-08-11T14:09:50.115963",
     "exception": false,
     "start_time": "2025-08-11T14:09:49.938069",
     "status": "completed"
    },
    "tags": []
   },
   "outputs": [
    {
     "name": "stdout",
     "output_type": "stream",
     "text": [
      "✅ Regression model improved with same performance but fewer features!\n",
      "   MSE: 0.004412 ≈ 0.004413 (similar)\n",
      "   R²:  0.996379 ≈ 0.996378 (similar)\n",
      "   Features: 27 → 24 (🎯 3 fewer features!)\n",
      "💾 Registry updated: Model_Training_History/History_Regression.csv\n"
     ]
    }
   ],
   "source": [
    "regression_params = {\n",
    "    'model_name': model_name_for_saving + \" Tuned\",\n",
    "    'scaler_name': \"RobustScaler\",\n",
    "    'features_list': feature_columns_for_saving,\n",
    "    'target_column': target_name_for_saving,\n",
    "    'mse': mse_grid_search,\n",
    "    'mae': mae_grid_search,\n",
    "    'rmse': rmse_grid_search,\n",
    "    'r2': r2_grid_search,\n",
    "    'parameters' : json.dumps({\n",
    "        \"best_params\": grid_search.best_params_,\n",
    "        \"cv_score\": grid_search.best_score_,\n",
    "        \"all_params\": grid_search_best_model.get_params()\n",
    "    })\n",
    "}\n",
    "save_model_performance_if_better('regression', regression_params)"
   ]
  },
  {
   "cell_type": "markdown",
   "id": "75ec9b55",
   "metadata": {
    "papermill": {
     "duration": 0.15667,
     "end_time": "2025-08-11T14:09:50.429294",
     "exception": false,
     "start_time": "2025-08-11T14:09:50.272624",
     "status": "completed"
    },
    "tags": []
   },
   "source": [
    "# All Performance"
   ]
  },
  {
   "cell_type": "code",
   "execution_count": 122,
   "id": "30c13b50",
   "metadata": {
    "execution": {
     "iopub.execute_input": "2025-08-11T14:09:50.815175Z",
     "iopub.status.busy": "2025-08-11T14:09:50.814526Z",
     "iopub.status.idle": "2025-08-11T14:09:50.828469Z",
     "shell.execute_reply": "2025-08-11T14:09:50.827584Z"
    },
    "papermill": {
     "duration": 0.171721,
     "end_time": "2025-08-11T14:09:50.829846",
     "exception": false,
     "start_time": "2025-08-11T14:09:50.658125",
     "status": "completed"
    },
    "tags": []
   },
   "outputs": [
    {
     "name": "stdout",
     "output_type": "stream",
     "text": [
      "\n",
      "📊 REGRESSION Model Performance History\n",
      "====================================================================================================\n",
      "       Model         Scaler      Target  Features      MSE      MAE     RMSE       R²\n",
      "LassoR Tuned   RobustScaler SolarEnergy        24 0.004413 0.043274 0.066432 0.996378\n",
      "LassoR Tuned StandardScaler SolarEnergy        24 0.004414 0.043235 0.066439 0.996377\n",
      "LassoR Tuned   MinMaxScaler SolarEnergy        24 0.004414 0.043229 0.066440 0.996377\n",
      "      LassoR StandardScaler SolarEnergy        24 0.004427 0.043070 0.066538 0.996366\n",
      "      LassoR   RobustScaler SolarEnergy        24 0.004465 0.044241 0.066821 0.996335\n",
      "      LassoR   MinMaxScaler SolarEnergy        24 0.004488 0.044761 0.066995 0.996316\n",
      "\n",
      "📈 Total models shown: 6\n",
      "🏆 Best R² Score: 0.996378 (LassoR Tuned + RobustScaler for SolarEnergy)\n"
     ]
    }
   ],
   "source": [
    "show_model_history('regression', model_name=model_name_for_saving, target_column=target_name_for_saving)"
   ]
  },
  {
   "cell_type": "markdown",
   "id": "abc63ccc",
   "metadata": {
    "papermill": {
     "duration": 0.155457,
     "end_time": "2025-08-11T14:09:51.142828",
     "exception": false,
     "start_time": "2025-08-11T14:09:50.987371",
     "status": "completed"
    },
    "tags": []
   },
   "source": [
    "# <center><font size=\"50\" color=\"red\">Thank You</font></center>"
   ]
  }
 ],
 "metadata": {
  "kaggle": {
   "accelerator": "none",
   "dataSources": [
    {
     "datasetId": 7943485,
     "sourceId": 12698463,
     "sourceType": "datasetVersion"
    }
   ],
   "dockerImageVersionId": 31089,
   "isGpuEnabled": false,
   "isInternetEnabled": true,
   "language": "python",
   "sourceType": "notebook"
  },
  "kernelspec": {
   "display_name": "Python 3",
   "language": "python",
   "name": "python3"
  },
  "language_info": {
   "codemirror_mode": {
    "name": "ipython",
    "version": 3
   },
   "file_extension": ".py",
   "mimetype": "text/x-python",
   "name": "python",
   "nbconvert_exporter": "python",
   "pygments_lexer": "ipython3",
   "version": "3.11.13"
  },
  "papermill": {
   "default_parameters": {},
   "duration": 4488.193126,
   "end_time": "2025-08-11T14:09:53.924664",
   "environment_variables": {},
   "exception": null,
   "input_path": "__notebook__.ipynb",
   "output_path": "__notebook__.ipynb",
   "parameters": {},
   "start_time": "2025-08-11T12:55:05.731538",
   "version": "2.6.0"
  }
 },
 "nbformat": 4,
 "nbformat_minor": 5
}
