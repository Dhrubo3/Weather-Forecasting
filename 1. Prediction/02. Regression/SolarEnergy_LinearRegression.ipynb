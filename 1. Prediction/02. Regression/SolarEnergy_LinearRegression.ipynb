{
 "cells": [
  {
   "cell_type": "markdown",
   "id": "32fddb40",
   "metadata": {
    "papermill": {
     "duration": 0.014545,
     "end_time": "2025-08-08T03:49:20.204232",
     "exception": false,
     "start_time": "2025-08-08T03:49:20.189687",
     "status": "completed"
    },
    "tags": []
   },
   "source": [
    "# <font color=\"red\">Solar Energy Prediction with Linear Regression</font>"
   ]
  },
  {
   "cell_type": "markdown",
   "id": "33aadfcb",
   "metadata": {
    "papermill": {
     "duration": 0.0109,
     "end_time": "2025-08-08T03:49:20.227582",
     "exception": false,
     "start_time": "2025-08-08T03:49:20.216682",
     "status": "completed"
    },
    "tags": []
   },
   "source": [
    "# Library Import"
   ]
  },
  {
   "cell_type": "code",
   "execution_count": 1,
   "id": "5c2f427c",
   "metadata": {
    "execution": {
     "iopub.execute_input": "2025-08-08T03:49:20.254498Z",
     "iopub.status.busy": "2025-08-08T03:49:20.254227Z",
     "iopub.status.idle": "2025-08-08T03:49:23.558932Z",
     "shell.execute_reply": "2025-08-08T03:49:23.558286Z"
    },
    "papermill": {
     "duration": 3.320568,
     "end_time": "2025-08-08T03:49:23.560292",
     "exception": false,
     "start_time": "2025-08-08T03:49:20.239724",
     "status": "completed"
    },
    "tags": []
   },
   "outputs": [],
   "source": [
    "# Data manipulation and visualization\n",
    "import pandas as pd\n",
    "import math\n",
    "import json\n",
    "\n",
    "# Preprocessing\n",
    "from sklearn.model_selection import StratifiedShuffleSplit, GridSearchCV\n",
    "from sklearn.preprocessing import MinMaxScaler, StandardScaler, RobustScaler\n",
    "from sklearn.metrics import r2_score, mean_squared_error, mean_absolute_error\n",
    "from sklearn.linear_model import LinearRegression\n",
    "\n",
    "import sys\n",
    "#sys.path.append('../../') # Uncomment this line if running locally\n",
    "sys.path.append('/kaggle/input/weatherdata') # Uncomment this line if running on Kaggle\n",
    "from historyManagement import *\n",
    "\n",
    "# suppress warnings\n",
    "import warnings\n",
    "warnings.filterwarnings(\"ignore\")"
   ]
  },
  {
   "cell_type": "markdown",
   "id": "1241df4b",
   "metadata": {
    "papermill": {
     "duration": 0.011321,
     "end_time": "2025-08-08T03:49:23.584307",
     "exception": false,
     "start_time": "2025-08-08T03:49:23.572986",
     "status": "completed"
    },
    "tags": []
   },
   "source": [
    "# Datasets Import"
   ]
  },
  {
   "cell_type": "code",
   "execution_count": 2,
   "id": "d93a8a93",
   "metadata": {
    "execution": {
     "iopub.execute_input": "2025-08-08T03:49:23.608547Z",
     "iopub.status.busy": "2025-08-08T03:49:23.608143Z",
     "iopub.status.idle": "2025-08-08T03:49:23.739920Z",
     "shell.execute_reply": "2025-08-08T03:49:23.739235Z"
    },
    "papermill": {
     "duration": 0.145357,
     "end_time": "2025-08-08T03:49:23.741064",
     "exception": false,
     "start_time": "2025-08-08T03:49:23.595707",
     "status": "completed"
    },
    "tags": []
   },
   "outputs": [
    {
     "data": {
      "text/html": [
       "<div>\n",
       "<style scoped>\n",
       "    .dataframe tbody tr th:only-of-type {\n",
       "        vertical-align: middle;\n",
       "    }\n",
       "\n",
       "    .dataframe tbody tr th {\n",
       "        vertical-align: top;\n",
       "    }\n",
       "\n",
       "    .dataframe thead th {\n",
       "        text-align: right;\n",
       "    }\n",
       "</style>\n",
       "<table border=\"1\" class=\"dataframe\">\n",
       "  <thead>\n",
       "    <tr style=\"text-align: right;\">\n",
       "      <th></th>\n",
       "      <th>DateTime</th>\n",
       "      <th>Year</th>\n",
       "      <th>Month</th>\n",
       "      <th>Day</th>\n",
       "      <th>Hour</th>\n",
       "      <th>DaySegments</th>\n",
       "      <th>DaySegments_Afternoon</th>\n",
       "      <th>DaySegments_Early Morning</th>\n",
       "      <th>DaySegments_Evening</th>\n",
       "      <th>DaySegments_Late Night</th>\n",
       "      <th>...</th>\n",
       "      <th>WindDir</th>\n",
       "      <th>SeaLevelPressure</th>\n",
       "      <th>CloudCover</th>\n",
       "      <th>UVIndex</th>\n",
       "      <th>SevereRisk</th>\n",
       "      <th>Visibility</th>\n",
       "      <th>SolarRadiation</th>\n",
       "      <th>SolarEnergy</th>\n",
       "      <th>Conditions</th>\n",
       "      <th>Icon</th>\n",
       "    </tr>\n",
       "  </thead>\n",
       "  <tbody>\n",
       "    <tr>\n",
       "      <th>0</th>\n",
       "      <td>2023-01-01 00:00:00</td>\n",
       "      <td>2023</td>\n",
       "      <td>1</td>\n",
       "      <td>1</td>\n",
       "      <td>0</td>\n",
       "      <td>Late Night</td>\n",
       "      <td>0</td>\n",
       "      <td>0</td>\n",
       "      <td>0</td>\n",
       "      <td>1</td>\n",
       "      <td>...</td>\n",
       "      <td>0.49</td>\n",
       "      <td>1018.68</td>\n",
       "      <td>0.03</td>\n",
       "      <td>0.0</td>\n",
       "      <td>10.0</td>\n",
       "      <td>2.76</td>\n",
       "      <td>0.0</td>\n",
       "      <td>0.0</td>\n",
       "      <td>Clear</td>\n",
       "      <td>clear-night</td>\n",
       "    </tr>\n",
       "    <tr>\n",
       "      <th>1</th>\n",
       "      <td>2023-01-01 01:00:00</td>\n",
       "      <td>2023</td>\n",
       "      <td>1</td>\n",
       "      <td>1</td>\n",
       "      <td>1</td>\n",
       "      <td>Late Night</td>\n",
       "      <td>0</td>\n",
       "      <td>0</td>\n",
       "      <td>0</td>\n",
       "      <td>1</td>\n",
       "      <td>...</td>\n",
       "      <td>0.54</td>\n",
       "      <td>1018.03</td>\n",
       "      <td>0.11</td>\n",
       "      <td>0.0</td>\n",
       "      <td>10.0</td>\n",
       "      <td>1.75</td>\n",
       "      <td>0.0</td>\n",
       "      <td>0.0</td>\n",
       "      <td>Clear</td>\n",
       "      <td>clear-night</td>\n",
       "    </tr>\n",
       "    <tr>\n",
       "      <th>2</th>\n",
       "      <td>2023-01-01 02:00:00</td>\n",
       "      <td>2023</td>\n",
       "      <td>1</td>\n",
       "      <td>1</td>\n",
       "      <td>2</td>\n",
       "      <td>Late Night</td>\n",
       "      <td>0</td>\n",
       "      <td>0</td>\n",
       "      <td>0</td>\n",
       "      <td>1</td>\n",
       "      <td>...</td>\n",
       "      <td>30.51</td>\n",
       "      <td>1017.56</td>\n",
       "      <td>0.03</td>\n",
       "      <td>0.0</td>\n",
       "      <td>10.0</td>\n",
       "      <td>1.75</td>\n",
       "      <td>0.0</td>\n",
       "      <td>0.0</td>\n",
       "      <td>Clear</td>\n",
       "      <td>clear-night</td>\n",
       "    </tr>\n",
       "    <tr>\n",
       "      <th>3</th>\n",
       "      <td>2023-01-01 03:00:00</td>\n",
       "      <td>2023</td>\n",
       "      <td>1</td>\n",
       "      <td>1</td>\n",
       "      <td>3</td>\n",
       "      <td>Late Night</td>\n",
       "      <td>0</td>\n",
       "      <td>0</td>\n",
       "      <td>0</td>\n",
       "      <td>1</td>\n",
       "      <td>...</td>\n",
       "      <td>49.23</td>\n",
       "      <td>1018.05</td>\n",
       "      <td>0.00</td>\n",
       "      <td>0.0</td>\n",
       "      <td>10.0</td>\n",
       "      <td>2.28</td>\n",
       "      <td>0.0</td>\n",
       "      <td>0.0</td>\n",
       "      <td>Clear</td>\n",
       "      <td>clear-night</td>\n",
       "    </tr>\n",
       "    <tr>\n",
       "      <th>4</th>\n",
       "      <td>2023-01-01 04:00:00</td>\n",
       "      <td>2023</td>\n",
       "      <td>1</td>\n",
       "      <td>1</td>\n",
       "      <td>4</td>\n",
       "      <td>Late Night</td>\n",
       "      <td>0</td>\n",
       "      <td>0</td>\n",
       "      <td>0</td>\n",
       "      <td>1</td>\n",
       "      <td>...</td>\n",
       "      <td>49.90</td>\n",
       "      <td>1018.00</td>\n",
       "      <td>86.17</td>\n",
       "      <td>0.0</td>\n",
       "      <td>10.0</td>\n",
       "      <td>1.27</td>\n",
       "      <td>0.0</td>\n",
       "      <td>0.0</td>\n",
       "      <td>Partially cloudy</td>\n",
       "      <td>fog</td>\n",
       "    </tr>\n",
       "  </tbody>\n",
       "</table>\n",
       "<p>5 rows × 36 columns</p>\n",
       "</div>"
      ],
      "text/plain": [
       "             DateTime  Year  Month  Day  Hour DaySegments  \\\n",
       "0 2023-01-01 00:00:00  2023      1    1     0  Late Night   \n",
       "1 2023-01-01 01:00:00  2023      1    1     1  Late Night   \n",
       "2 2023-01-01 02:00:00  2023      1    1     2  Late Night   \n",
       "3 2023-01-01 03:00:00  2023      1    1     3  Late Night   \n",
       "4 2023-01-01 04:00:00  2023      1    1     4  Late Night   \n",
       "\n",
       "   DaySegments_Afternoon  DaySegments_Early Morning  DaySegments_Evening  \\\n",
       "0                      0                          0                    0   \n",
       "1                      0                          0                    0   \n",
       "2                      0                          0                    0   \n",
       "3                      0                          0                    0   \n",
       "4                      0                          0                    0   \n",
       "\n",
       "   DaySegments_Late Night  ...  WindDir  SeaLevelPressure  CloudCover  \\\n",
       "0                       1  ...     0.49           1018.68        0.03   \n",
       "1                       1  ...     0.54           1018.03        0.11   \n",
       "2                       1  ...    30.51           1017.56        0.03   \n",
       "3                       1  ...    49.23           1018.05        0.00   \n",
       "4                       1  ...    49.90           1018.00       86.17   \n",
       "\n",
       "   UVIndex  SevereRisk  Visibility  SolarRadiation SolarEnergy  \\\n",
       "0      0.0        10.0        2.76             0.0         0.0   \n",
       "1      0.0        10.0        1.75             0.0         0.0   \n",
       "2      0.0        10.0        1.75             0.0         0.0   \n",
       "3      0.0        10.0        2.28             0.0         0.0   \n",
       "4      0.0        10.0        1.27             0.0         0.0   \n",
       "\n",
       "         Conditions         Icon  \n",
       "0             Clear  clear-night  \n",
       "1             Clear  clear-night  \n",
       "2             Clear  clear-night  \n",
       "3             Clear  clear-night  \n",
       "4  Partially cloudy          fog  \n",
       "\n",
       "[5 rows x 36 columns]"
      ]
     },
     "execution_count": 2,
     "metadata": {},
     "output_type": "execute_result"
    }
   ],
   "source": [
    "# Load the weather dataset for visibility prediction\n",
    "#weather_data = pd.read_csv('../../FinalDatasets/finalDataset.csv') # Uncomment this line if running locally\n",
    "weather_data = pd.read_csv('/kaggle/input/weatherdata/finalDataset.csv') # Uncomment this line if running on Kaggle\n",
    "weather_data['DateTime'] = pd.to_datetime(weather_data['DateTime'])\n",
    "weather_data.head()"
   ]
  },
  {
   "cell_type": "code",
   "execution_count": 3,
   "id": "45757a60",
   "metadata": {
    "execution": {
     "iopub.execute_input": "2025-08-08T03:49:23.819612Z",
     "iopub.status.busy": "2025-08-08T03:49:23.819369Z",
     "iopub.status.idle": "2025-08-08T03:49:23.839539Z",
     "shell.execute_reply": "2025-08-08T03:49:23.838551Z"
    },
    "papermill": {
     "duration": 0.087623,
     "end_time": "2025-08-08T03:49:23.840773",
     "exception": false,
     "start_time": "2025-08-08T03:49:23.753150",
     "status": "completed"
    },
    "tags": []
   },
   "outputs": [
    {
     "name": "stdout",
     "output_type": "stream",
     "text": [
      "<class 'pandas.core.frame.DataFrame'>\n",
      "RangeIndex: 14616 entries, 0 to 14615\n",
      "Data columns (total 36 columns):\n",
      " #   Column                     Non-Null Count  Dtype         \n",
      "---  ------                     --------------  -----         \n",
      " 0   DateTime                   14616 non-null  datetime64[ns]\n",
      " 1   Year                       14616 non-null  int64         \n",
      " 2   Month                      14616 non-null  int64         \n",
      " 3   Day                        14616 non-null  int64         \n",
      " 4   Hour                       14616 non-null  int64         \n",
      " 5   DaySegments                14616 non-null  object        \n",
      " 6   DaySegments_Afternoon      14616 non-null  int64         \n",
      " 7   DaySegments_Early Morning  14616 non-null  int64         \n",
      " 8   DaySegments_Evening        14616 non-null  int64         \n",
      " 9   DaySegments_Late Night     14616 non-null  int64         \n",
      " 10  DaySegments_Midday         14616 non-null  int64         \n",
      " 11  DaySegments_Morning        14616 non-null  int64         \n",
      " 12  DaySegments_Night          14616 non-null  int64         \n",
      " 13  Season_Autumn              14616 non-null  int64         \n",
      " 14  Season_Rainy               14616 non-null  int64         \n",
      " 15  Season_Summer              14616 non-null  int64         \n",
      " 16  Season_Winter              14616 non-null  int64         \n",
      " 17  Season                     14616 non-null  object        \n",
      " 18  Temp                       14616 non-null  float64       \n",
      " 19  FeelsLike                  14616 non-null  float64       \n",
      " 20  Dew                        14616 non-null  float64       \n",
      " 21  Humidity                   14616 non-null  float64       \n",
      " 22  Precip                     14616 non-null  float64       \n",
      " 23  PrecipProb                 14616 non-null  float64       \n",
      " 24  Windgust                   14616 non-null  float64       \n",
      " 25  WindSpeed                  14616 non-null  float64       \n",
      " 26  WindDir                    14616 non-null  float64       \n",
      " 27  SeaLevelPressure           14616 non-null  float64       \n",
      " 28  CloudCover                 14616 non-null  float64       \n",
      " 29  UVIndex                    14616 non-null  float64       \n",
      " 30  SevereRisk                 14616 non-null  float64       \n",
      " 31  Visibility                 14616 non-null  float64       \n",
      " 32  SolarRadiation             14616 non-null  float64       \n",
      " 33  SolarEnergy                14616 non-null  float64       \n",
      " 34  Conditions                 14616 non-null  object        \n",
      " 35  Icon                       14616 non-null  object        \n",
      "dtypes: datetime64[ns](1), float64(16), int64(15), object(4)\n",
      "memory usage: 4.0+ MB\n"
     ]
    }
   ],
   "source": [
    "weather_data.info()"
   ]
  },
  {
   "cell_type": "code",
   "execution_count": 4,
   "id": "589faa99",
   "metadata": {
    "execution": {
     "iopub.execute_input": "2025-08-08T03:49:23.867399Z",
     "iopub.status.busy": "2025-08-08T03:49:23.867083Z",
     "iopub.status.idle": "2025-08-08T03:49:23.927258Z",
     "shell.execute_reply": "2025-08-08T03:49:23.926452Z"
    },
    "papermill": {
     "duration": 0.075449,
     "end_time": "2025-08-08T03:49:23.928824",
     "exception": false,
     "start_time": "2025-08-08T03:49:23.853375",
     "status": "completed"
    },
    "tags": []
   },
   "outputs": [
    {
     "data": {
      "text/html": [
       "<div>\n",
       "<style scoped>\n",
       "    .dataframe tbody tr th:only-of-type {\n",
       "        vertical-align: middle;\n",
       "    }\n",
       "\n",
       "    .dataframe tbody tr th {\n",
       "        vertical-align: top;\n",
       "    }\n",
       "\n",
       "    .dataframe thead th {\n",
       "        text-align: right;\n",
       "    }\n",
       "</style>\n",
       "<table border=\"1\" class=\"dataframe\">\n",
       "  <thead>\n",
       "    <tr style=\"text-align: right;\">\n",
       "      <th></th>\n",
       "      <th>DateTime</th>\n",
       "      <th>Year</th>\n",
       "      <th>Month</th>\n",
       "      <th>Day</th>\n",
       "      <th>Hour</th>\n",
       "      <th>DaySegments_Afternoon</th>\n",
       "      <th>DaySegments_Early Morning</th>\n",
       "      <th>DaySegments_Evening</th>\n",
       "      <th>DaySegments_Late Night</th>\n",
       "      <th>DaySegments_Midday</th>\n",
       "      <th>...</th>\n",
       "      <th>Windgust</th>\n",
       "      <th>WindSpeed</th>\n",
       "      <th>WindDir</th>\n",
       "      <th>SeaLevelPressure</th>\n",
       "      <th>CloudCover</th>\n",
       "      <th>UVIndex</th>\n",
       "      <th>SevereRisk</th>\n",
       "      <th>Visibility</th>\n",
       "      <th>SolarRadiation</th>\n",
       "      <th>SolarEnergy</th>\n",
       "    </tr>\n",
       "  </thead>\n",
       "  <tbody>\n",
       "    <tr>\n",
       "      <th>count</th>\n",
       "      <td>14616</td>\n",
       "      <td>14616.000000</td>\n",
       "      <td>14616.000000</td>\n",
       "      <td>14616.000000</td>\n",
       "      <td>14616.000000</td>\n",
       "      <td>14616.000000</td>\n",
       "      <td>14616.000000</td>\n",
       "      <td>14616.000000</td>\n",
       "      <td>14616.000000</td>\n",
       "      <td>14616.000000</td>\n",
       "      <td>...</td>\n",
       "      <td>14616.000000</td>\n",
       "      <td>14616.000000</td>\n",
       "      <td>14616.000000</td>\n",
       "      <td>14616.000000</td>\n",
       "      <td>14616.000000</td>\n",
       "      <td>14616.000000</td>\n",
       "      <td>14616.000000</td>\n",
       "      <td>14616.000000</td>\n",
       "      <td>14616.000000</td>\n",
       "      <td>14616.000000</td>\n",
       "    </tr>\n",
       "    <tr>\n",
       "      <th>mean</th>\n",
       "      <td>2023-11-01 11:30:00</td>\n",
       "      <td>2023.400657</td>\n",
       "      <td>5.720854</td>\n",
       "      <td>15.735632</td>\n",
       "      <td>11.500000</td>\n",
       "      <td>0.131294</td>\n",
       "      <td>0.060550</td>\n",
       "      <td>0.098043</td>\n",
       "      <td>0.249726</td>\n",
       "      <td>0.116585</td>\n",
       "      <td>...</td>\n",
       "      <td>17.068560</td>\n",
       "      <td>8.090783</td>\n",
       "      <td>159.739178</td>\n",
       "      <td>1008.265012</td>\n",
       "      <td>53.579923</td>\n",
       "      <td>2.263555</td>\n",
       "      <td>16.504787</td>\n",
       "      <td>4.368134</td>\n",
       "      <td>227.640683</td>\n",
       "      <td>0.819217</td>\n",
       "    </tr>\n",
       "    <tr>\n",
       "      <th>min</th>\n",
       "      <td>2023-01-01 00:00:00</td>\n",
       "      <td>2023.000000</td>\n",
       "      <td>1.000000</td>\n",
       "      <td>1.000000</td>\n",
       "      <td>0.000000</td>\n",
       "      <td>0.000000</td>\n",
       "      <td>0.000000</td>\n",
       "      <td>0.000000</td>\n",
       "      <td>0.000000</td>\n",
       "      <td>0.000000</td>\n",
       "      <td>...</td>\n",
       "      <td>0.660000</td>\n",
       "      <td>0.000000</td>\n",
       "      <td>0.000000</td>\n",
       "      <td>982.420000</td>\n",
       "      <td>0.000000</td>\n",
       "      <td>0.000000</td>\n",
       "      <td>3.000000</td>\n",
       "      <td>0.000000</td>\n",
       "      <td>0.000000</td>\n",
       "      <td>0.000000</td>\n",
       "    </tr>\n",
       "    <tr>\n",
       "      <th>25%</th>\n",
       "      <td>2023-06-02 05:45:00</td>\n",
       "      <td>2023.000000</td>\n",
       "      <td>3.000000</td>\n",
       "      <td>8.000000</td>\n",
       "      <td>5.750000</td>\n",
       "      <td>0.000000</td>\n",
       "      <td>0.000000</td>\n",
       "      <td>0.000000</td>\n",
       "      <td>0.000000</td>\n",
       "      <td>0.000000</td>\n",
       "      <td>...</td>\n",
       "      <td>9.170000</td>\n",
       "      <td>2.870000</td>\n",
       "      <td>80.965000</td>\n",
       "      <td>1003.277500</td>\n",
       "      <td>26.670000</td>\n",
       "      <td>0.000000</td>\n",
       "      <td>10.000000</td>\n",
       "      <td>3.990000</td>\n",
       "      <td>0.000000</td>\n",
       "      <td>0.000000</td>\n",
       "    </tr>\n",
       "    <tr>\n",
       "      <th>50%</th>\n",
       "      <td>2023-11-01 11:30:00</td>\n",
       "      <td>2023.000000</td>\n",
       "      <td>6.000000</td>\n",
       "      <td>16.000000</td>\n",
       "      <td>11.500000</td>\n",
       "      <td>0.000000</td>\n",
       "      <td>0.000000</td>\n",
       "      <td>0.000000</td>\n",
       "      <td>0.000000</td>\n",
       "      <td>0.000000</td>\n",
       "      <td>...</td>\n",
       "      <td>14.645000</td>\n",
       "      <td>7.670000</td>\n",
       "      <td>163.790000</td>\n",
       "      <td>1007.970000</td>\n",
       "      <td>51.540000</td>\n",
       "      <td>0.000000</td>\n",
       "      <td>10.000000</td>\n",
       "      <td>4.650000</td>\n",
       "      <td>10.665000</td>\n",
       "      <td>0.010000</td>\n",
       "    </tr>\n",
       "    <tr>\n",
       "      <th>75%</th>\n",
       "      <td>2024-04-01 17:15:00</td>\n",
       "      <td>2024.000000</td>\n",
       "      <td>8.000000</td>\n",
       "      <td>23.000000</td>\n",
       "      <td>17.250000</td>\n",
       "      <td>0.000000</td>\n",
       "      <td>0.000000</td>\n",
       "      <td>0.000000</td>\n",
       "      <td>0.000000</td>\n",
       "      <td>0.000000</td>\n",
       "      <td>...</td>\n",
       "      <td>23.410000</td>\n",
       "      <td>11.750000</td>\n",
       "      <td>241.402500</td>\n",
       "      <td>1013.400000</td>\n",
       "      <td>87.790000</td>\n",
       "      <td>4.740000</td>\n",
       "      <td>12.580000</td>\n",
       "      <td>4.650000</td>\n",
       "      <td>459.745000</td>\n",
       "      <td>1.660000</td>\n",
       "    </tr>\n",
       "    <tr>\n",
       "      <th>max</th>\n",
       "      <td>2024-08-31 23:00:00</td>\n",
       "      <td>2024.000000</td>\n",
       "      <td>12.000000</td>\n",
       "      <td>31.000000</td>\n",
       "      <td>23.000000</td>\n",
       "      <td>1.000000</td>\n",
       "      <td>1.000000</td>\n",
       "      <td>1.000000</td>\n",
       "      <td>1.000000</td>\n",
       "      <td>1.000000</td>\n",
       "      <td>...</td>\n",
       "      <td>84.120000</td>\n",
       "      <td>71.970000</td>\n",
       "      <td>360.000000</td>\n",
       "      <td>1022.060000</td>\n",
       "      <td>100.000000</td>\n",
       "      <td>10.000000</td>\n",
       "      <td>97.740000</td>\n",
       "      <td>24.100000</td>\n",
       "      <td>1026.650000</td>\n",
       "      <td>3.700000</td>\n",
       "    </tr>\n",
       "    <tr>\n",
       "      <th>std</th>\n",
       "      <td>NaN</td>\n",
       "      <td>0.490048</td>\n",
       "      <td>3.195073</td>\n",
       "      <td>8.803610</td>\n",
       "      <td>6.922423</td>\n",
       "      <td>0.337734</td>\n",
       "      <td>0.238511</td>\n",
       "      <td>0.297383</td>\n",
       "      <td>0.432869</td>\n",
       "      <td>0.320936</td>\n",
       "      <td>...</td>\n",
       "      <td>10.195911</td>\n",
       "      <td>6.250203</td>\n",
       "      <td>104.422027</td>\n",
       "      <td>6.010683</td>\n",
       "      <td>35.166637</td>\n",
       "      <td>3.083074</td>\n",
       "      <td>15.031827</td>\n",
       "      <td>1.376994</td>\n",
       "      <td>307.219387</td>\n",
       "      <td>1.106444</td>\n",
       "    </tr>\n",
       "  </tbody>\n",
       "</table>\n",
       "<p>8 rows × 32 columns</p>\n",
       "</div>"
      ],
      "text/plain": [
       "                  DateTime          Year         Month           Day  \\\n",
       "count                14616  14616.000000  14616.000000  14616.000000   \n",
       "mean   2023-11-01 11:30:00   2023.400657      5.720854     15.735632   \n",
       "min    2023-01-01 00:00:00   2023.000000      1.000000      1.000000   \n",
       "25%    2023-06-02 05:45:00   2023.000000      3.000000      8.000000   \n",
       "50%    2023-11-01 11:30:00   2023.000000      6.000000     16.000000   \n",
       "75%    2024-04-01 17:15:00   2024.000000      8.000000     23.000000   \n",
       "max    2024-08-31 23:00:00   2024.000000     12.000000     31.000000   \n",
       "std                    NaN      0.490048      3.195073      8.803610   \n",
       "\n",
       "               Hour  DaySegments_Afternoon  DaySegments_Early Morning  \\\n",
       "count  14616.000000           14616.000000               14616.000000   \n",
       "mean      11.500000               0.131294                   0.060550   \n",
       "min        0.000000               0.000000                   0.000000   \n",
       "25%        5.750000               0.000000                   0.000000   \n",
       "50%       11.500000               0.000000                   0.000000   \n",
       "75%       17.250000               0.000000                   0.000000   \n",
       "max       23.000000               1.000000                   1.000000   \n",
       "std        6.922423               0.337734                   0.238511   \n",
       "\n",
       "       DaySegments_Evening  DaySegments_Late Night  DaySegments_Midday  ...  \\\n",
       "count         14616.000000            14616.000000        14616.000000  ...   \n",
       "mean              0.098043                0.249726            0.116585  ...   \n",
       "min               0.000000                0.000000            0.000000  ...   \n",
       "25%               0.000000                0.000000            0.000000  ...   \n",
       "50%               0.000000                0.000000            0.000000  ...   \n",
       "75%               0.000000                0.000000            0.000000  ...   \n",
       "max               1.000000                1.000000            1.000000  ...   \n",
       "std               0.297383                0.432869            0.320936  ...   \n",
       "\n",
       "           Windgust     WindSpeed       WindDir  SeaLevelPressure  \\\n",
       "count  14616.000000  14616.000000  14616.000000      14616.000000   \n",
       "mean      17.068560      8.090783    159.739178       1008.265012   \n",
       "min        0.660000      0.000000      0.000000        982.420000   \n",
       "25%        9.170000      2.870000     80.965000       1003.277500   \n",
       "50%       14.645000      7.670000    163.790000       1007.970000   \n",
       "75%       23.410000     11.750000    241.402500       1013.400000   \n",
       "max       84.120000     71.970000    360.000000       1022.060000   \n",
       "std       10.195911      6.250203    104.422027          6.010683   \n",
       "\n",
       "         CloudCover       UVIndex    SevereRisk    Visibility  SolarRadiation  \\\n",
       "count  14616.000000  14616.000000  14616.000000  14616.000000    14616.000000   \n",
       "mean      53.579923      2.263555     16.504787      4.368134      227.640683   \n",
       "min        0.000000      0.000000      3.000000      0.000000        0.000000   \n",
       "25%       26.670000      0.000000     10.000000      3.990000        0.000000   \n",
       "50%       51.540000      0.000000     10.000000      4.650000       10.665000   \n",
       "75%       87.790000      4.740000     12.580000      4.650000      459.745000   \n",
       "max      100.000000     10.000000     97.740000     24.100000     1026.650000   \n",
       "std       35.166637      3.083074     15.031827      1.376994      307.219387   \n",
       "\n",
       "        SolarEnergy  \n",
       "count  14616.000000  \n",
       "mean       0.819217  \n",
       "min        0.000000  \n",
       "25%        0.000000  \n",
       "50%        0.010000  \n",
       "75%        1.660000  \n",
       "max        3.700000  \n",
       "std        1.106444  \n",
       "\n",
       "[8 rows x 32 columns]"
      ]
     },
     "execution_count": 4,
     "metadata": {},
     "output_type": "execute_result"
    }
   ],
   "source": [
    "weather_data.describe()"
   ]
  },
  {
   "cell_type": "markdown",
   "id": "e1828005",
   "metadata": {
    "papermill": {
     "duration": 0.012165,
     "end_time": "2025-08-08T03:49:23.953675",
     "exception": false,
     "start_time": "2025-08-08T03:49:23.941510",
     "status": "completed"
    },
    "tags": []
   },
   "source": [
    "# Data Split"
   ]
  },
  {
   "cell_type": "code",
   "execution_count": 5,
   "id": "b8e3e44c",
   "metadata": {
    "execution": {
     "iopub.execute_input": "2025-08-08T03:49:23.979799Z",
     "iopub.status.busy": "2025-08-08T03:49:23.979538Z",
     "iopub.status.idle": "2025-08-08T03:49:23.998680Z",
     "shell.execute_reply": "2025-08-08T03:49:23.997591Z"
    },
    "papermill": {
     "duration": 0.034301,
     "end_time": "2025-08-08T03:49:24.000253",
     "exception": false,
     "start_time": "2025-08-08T03:49:23.965952",
     "status": "completed"
    },
    "tags": []
   },
   "outputs": [],
   "source": [
    "sss = StratifiedShuffleSplit(n_splits=1, test_size=0.20, random_state=42)\n",
    "for train_idx, test_idx in sss.split(weather_data, weather_data['DaySegments']):\n",
    "    weather_data_train = weather_data.iloc[train_idx]\n",
    "    weather_data_test = weather_data.iloc[test_idx]"
   ]
  },
  {
   "cell_type": "code",
   "execution_count": 6,
   "id": "afc1b83a",
   "metadata": {
    "execution": {
     "iopub.execute_input": "2025-08-08T03:49:24.026095Z",
     "iopub.status.busy": "2025-08-08T03:49:24.025750Z",
     "iopub.status.idle": "2025-08-08T03:49:24.033694Z",
     "shell.execute_reply": "2025-08-08T03:49:24.032873Z"
    },
    "papermill": {
     "duration": 0.021833,
     "end_time": "2025-08-08T03:49:24.034815",
     "exception": false,
     "start_time": "2025-08-08T03:49:24.012982",
     "status": "completed"
    },
    "tags": []
   },
   "outputs": [
    {
     "name": "stdout",
     "output_type": "stream",
     "text": [
      "Distribution of data based on DaySegments:\n",
      "     DaySegments  Count\n",
      "0     Late Night   3650\n",
      "1        Morning   3504\n",
      "2      Afternoon   1919\n",
      "3         Midday   1704\n",
      "4          Night   1521\n",
      "5        Evening   1433\n",
      "6  Early Morning    885\n"
     ]
    }
   ],
   "source": [
    "# Show the count of each unique class in DaySegments\n",
    "class_counts = weather_data['DaySegments'].value_counts().reset_index()\n",
    "class_counts.columns = ['DaySegments', 'Count']\n",
    "\n",
    "print(\"Distribution of data based on DaySegments:\")\n",
    "print(class_counts)"
   ]
  },
  {
   "cell_type": "code",
   "execution_count": 7,
   "id": "17440231",
   "metadata": {
    "execution": {
     "iopub.execute_input": "2025-08-08T03:49:24.062452Z",
     "iopub.status.busy": "2025-08-08T03:49:24.062168Z",
     "iopub.status.idle": "2025-08-08T03:49:24.070135Z",
     "shell.execute_reply": "2025-08-08T03:49:24.068842Z"
    },
    "papermill": {
     "duration": 0.023466,
     "end_time": "2025-08-08T03:49:24.071497",
     "exception": false,
     "start_time": "2025-08-08T03:49:24.048031",
     "status": "completed"
    },
    "tags": []
   },
   "outputs": [
    {
     "name": "stdout",
     "output_type": "stream",
     "text": [
      "Distribution of DaySegments in Training Set:\n",
      "DaySegments\n",
      "Late Night       2920\n",
      "Morning          2803\n",
      "Afternoon        1535\n",
      "Midday           1363\n",
      "Night            1217\n",
      "Evening          1146\n",
      "Early Morning     708\n",
      "Name: count, dtype: int64\n",
      "\n",
      "Distribution of DaySegments in Test Set:\n",
      "DaySegments\n",
      "Late Night       730\n",
      "Morning          701\n",
      "Afternoon        384\n",
      "Midday           341\n",
      "Night            304\n",
      "Evening          287\n",
      "Early Morning    177\n",
      "Name: count, dtype: int64\n"
     ]
    }
   ],
   "source": [
    "print(\"Distribution of DaySegments in Training Set:\")\n",
    "print(weather_data_train['DaySegments'].value_counts())\n",
    "\n",
    "print(\"\\nDistribution of DaySegments in Test Set:\")\n",
    "print(weather_data_test['DaySegments'].value_counts())"
   ]
  },
  {
   "cell_type": "markdown",
   "id": "d93da1ae",
   "metadata": {
    "papermill": {
     "duration": 0.012569,
     "end_time": "2025-08-08T03:49:24.097183",
     "exception": false,
     "start_time": "2025-08-08T03:49:24.084614",
     "status": "completed"
    },
    "tags": []
   },
   "source": [
    "# Some Reused Parameters"
   ]
  },
  {
   "cell_type": "code",
   "execution_count": 8,
   "id": "de40b7cb",
   "metadata": {
    "execution": {
     "iopub.execute_input": "2025-08-08T03:49:24.123429Z",
     "iopub.status.busy": "2025-08-08T03:49:24.123137Z",
     "iopub.status.idle": "2025-08-08T03:49:24.127050Z",
     "shell.execute_reply": "2025-08-08T03:49:24.126193Z"
    },
    "papermill": {
     "duration": 0.018917,
     "end_time": "2025-08-08T03:49:24.128653",
     "exception": false,
     "start_time": "2025-08-08T03:49:24.109736",
     "status": "completed"
    },
    "tags": []
   },
   "outputs": [],
   "source": [
    "grid_param = {\n",
    "    'fit_intercept': [True, False],\n",
    "    'copy_X': [True, False],\n",
    "    'positive': [True, False]\n",
    "}"
   ]
  },
  {
   "cell_type": "code",
   "execution_count": 9,
   "id": "cd8177ca",
   "metadata": {
    "execution": {
     "iopub.execute_input": "2025-08-08T03:49:24.155742Z",
     "iopub.status.busy": "2025-08-08T03:49:24.155476Z",
     "iopub.status.idle": "2025-08-08T03:49:24.159815Z",
     "shell.execute_reply": "2025-08-08T03:49:24.159019Z"
    },
    "papermill": {
     "duration": 0.019623,
     "end_time": "2025-08-08T03:49:24.161348",
     "exception": false,
     "start_time": "2025-08-08T03:49:24.141725",
     "status": "completed"
    },
    "tags": []
   },
   "outputs": [],
   "source": [
    "number_of_model_for_randomized_grid = 500\n",
    "model_name_for_saving = \"Linear Regression\"\n",
    "target_name_for_saving = \"SolarEnergy\""
   ]
  },
  {
   "cell_type": "markdown",
   "id": "2103815c",
   "metadata": {
    "papermill": {
     "duration": 0.012315,
     "end_time": "2025-08-08T03:49:24.186913",
     "exception": false,
     "start_time": "2025-08-08T03:49:24.174598",
     "status": "completed"
    },
    "tags": []
   },
   "source": [
    "# All Features"
   ]
  },
  {
   "cell_type": "code",
   "execution_count": 10,
   "id": "10fc7854",
   "metadata": {
    "execution": {
     "iopub.execute_input": "2025-08-08T03:49:24.213923Z",
     "iopub.status.busy": "2025-08-08T03:49:24.213646Z",
     "iopub.status.idle": "2025-08-08T03:49:24.219807Z",
     "shell.execute_reply": "2025-08-08T03:49:24.218845Z"
    },
    "papermill": {
     "duration": 0.021803,
     "end_time": "2025-08-08T03:49:24.221450",
     "exception": false,
     "start_time": "2025-08-08T03:49:24.199647",
     "status": "completed"
    },
    "tags": []
   },
   "outputs": [],
   "source": [
    "X_train_raw = weather_data_train.drop(columns=['DateTime', # Model cannot use DateTime as a feature\n",
    "                                                'Year', # No Effect on weather data\n",
    "                                                'Season', # Season is categorical, not numerical\n",
    "                                                'DaySegments', # DaySegments is categorical, not numerical\n",
    "                                                'Visibility',  # Target variable\n",
    "                                                'SolarRadiation', # Target variable\n",
    "                                                'SolarEnergy', # Target variable\n",
    "                                                'Conditions', # Target variable\n",
    "                                                'Icon']) # Target variable\n",
    "y_train = weather_data_train['SolarEnergy']"
   ]
  },
  {
   "cell_type": "code",
   "execution_count": 11,
   "id": "b8cc3928",
   "metadata": {
    "execution": {
     "iopub.execute_input": "2025-08-08T03:49:24.248532Z",
     "iopub.status.busy": "2025-08-08T03:49:24.248248Z",
     "iopub.status.idle": "2025-08-08T03:49:24.253354Z",
     "shell.execute_reply": "2025-08-08T03:49:24.252640Z"
    },
    "papermill": {
     "duration": 0.019973,
     "end_time": "2025-08-08T03:49:24.254409",
     "exception": false,
     "start_time": "2025-08-08T03:49:24.234436",
     "status": "completed"
    },
    "tags": []
   },
   "outputs": [],
   "source": [
    "X_test_raw = weather_data_test.drop(columns=['DateTime', # Model cannot use DateTime as a feature\n",
    "                                                'Year', # No Effect on weather data\n",
    "                                                'Season', # Season is categorical, not numerical\n",
    "                                                'DaySegments', # DaySegments is categorical, not numerical\n",
    "                                                'Visibility',  # Target variable\n",
    "                                                'SolarRadiation', # Target variable\n",
    "                                                'SolarEnergy', # Target variable\n",
    "                                                'Conditions', # Target variable\n",
    "                                                'Icon']) # Target variable\n",
    "y_test = weather_data_test['SolarEnergy']"
   ]
  },
  {
   "cell_type": "code",
   "execution_count": 12,
   "id": "8278befe",
   "metadata": {
    "execution": {
     "iopub.execute_input": "2025-08-08T03:49:24.281172Z",
     "iopub.status.busy": "2025-08-08T03:49:24.280784Z",
     "iopub.status.idle": "2025-08-08T03:49:24.285308Z",
     "shell.execute_reply": "2025-08-08T03:49:24.284201Z"
    },
    "papermill": {
     "duration": 0.019457,
     "end_time": "2025-08-08T03:49:24.286821",
     "exception": false,
     "start_time": "2025-08-08T03:49:24.267364",
     "status": "completed"
    },
    "tags": []
   },
   "outputs": [],
   "source": [
    "feature_columns = [col for col in X_train_raw.columns]\n",
    "feature_columns_for_saving = ','.join(feature_columns)"
   ]
  },
  {
   "cell_type": "code",
   "execution_count": 13,
   "id": "2e6b9b52",
   "metadata": {
    "execution": {
     "iopub.execute_input": "2025-08-08T03:49:24.314079Z",
     "iopub.status.busy": "2025-08-08T03:49:24.313779Z",
     "iopub.status.idle": "2025-08-08T03:49:24.319245Z",
     "shell.execute_reply": "2025-08-08T03:49:24.317947Z"
    },
    "papermill": {
     "duration": 0.020884,
     "end_time": "2025-08-08T03:49:24.320913",
     "exception": false,
     "start_time": "2025-08-08T03:49:24.300029",
     "status": "completed"
    },
    "tags": []
   },
   "outputs": [
    {
     "name": "stdout",
     "output_type": "stream",
     "text": [
      "X_train:  11692\n",
      "y_train:  11692\n",
      "\n",
      "X_test:  2924\n",
      "y_test:  2924\n"
     ]
    }
   ],
   "source": [
    "print(\"X_train: \", len(X_train_raw))\n",
    "print(\"y_train: \", len(y_train))\n",
    "print(\"\\nX_test: \", len(X_test_raw))\n",
    "print(\"y_test: \", len(y_test))"
   ]
  },
  {
   "cell_type": "markdown",
   "id": "2f293872",
   "metadata": {
    "papermill": {
     "duration": 0.012877,
     "end_time": "2025-08-08T03:49:24.347033",
     "exception": false,
     "start_time": "2025-08-08T03:49:24.334156",
     "status": "completed"
    },
    "tags": []
   },
   "source": [
    "## MinMax Scaler"
   ]
  },
  {
   "cell_type": "code",
   "execution_count": 14,
   "id": "29f5292a",
   "metadata": {
    "execution": {
     "iopub.execute_input": "2025-08-08T03:49:24.374172Z",
     "iopub.status.busy": "2025-08-08T03:49:24.373868Z",
     "iopub.status.idle": "2025-08-08T03:49:24.394957Z",
     "shell.execute_reply": "2025-08-08T03:49:24.394020Z"
    },
    "papermill": {
     "duration": 0.03661,
     "end_time": "2025-08-08T03:49:24.396488",
     "exception": false,
     "start_time": "2025-08-08T03:49:24.359878",
     "status": "completed"
    },
    "tags": []
   },
   "outputs": [],
   "source": [
    "scaler = MinMaxScaler()\n",
    "X_train = scaler.fit_transform(X_train_raw)\n",
    "X_test = scaler.transform(X_test_raw)"
   ]
  },
  {
   "cell_type": "code",
   "execution_count": 15,
   "id": "68da89f6",
   "metadata": {
    "execution": {
     "iopub.execute_input": "2025-08-08T03:49:24.426210Z",
     "iopub.status.busy": "2025-08-08T03:49:24.425863Z",
     "iopub.status.idle": "2025-08-08T03:49:24.431248Z",
     "shell.execute_reply": "2025-08-08T03:49:24.430499Z"
    },
    "papermill": {
     "duration": 0.021057,
     "end_time": "2025-08-08T03:49:24.432452",
     "exception": false,
     "start_time": "2025-08-08T03:49:24.411395",
     "status": "completed"
    },
    "tags": []
   },
   "outputs": [
    {
     "data": {
      "text/plain": [
       "array([[0.72727273, 0.83333333, 0.43478261, ..., 0.4922    , 0.697     ,\n",
       "        0.31560059],\n",
       "       [0.90909091, 0.26666667, 0.69565217, ..., 0.        , 0.303     ,\n",
       "        0.07388643],\n",
       "       [0.09090909, 0.43333333, 0.        , ..., 0.        , 0.        ,\n",
       "        0.07388643],\n",
       "       ...,\n",
       "       [0.63636364, 0.86666667, 0.43478261, ..., 0.8756    , 0.306     ,\n",
       "        0.09436352],\n",
       "       [0.        , 0.4       , 0.91304348, ..., 0.        , 0.        ,\n",
       "        0.07388643],\n",
       "       [0.72727273, 0.26666667, 0.34782609, ..., 0.8925    , 0.29      ,\n",
       "        0.27812962]])"
      ]
     },
     "execution_count": 15,
     "metadata": {},
     "output_type": "execute_result"
    }
   ],
   "source": [
    "X_train"
   ]
  },
  {
   "cell_type": "code",
   "execution_count": 16,
   "id": "84d09158",
   "metadata": {
    "execution": {
     "iopub.execute_input": "2025-08-08T03:49:24.459387Z",
     "iopub.status.busy": "2025-08-08T03:49:24.459060Z",
     "iopub.status.idle": "2025-08-08T03:49:24.464870Z",
     "shell.execute_reply": "2025-08-08T03:49:24.464008Z"
    },
    "papermill": {
     "duration": 0.020389,
     "end_time": "2025-08-08T03:49:24.466196",
     "exception": false,
     "start_time": "2025-08-08T03:49:24.445807",
     "status": "completed"
    },
    "tags": []
   },
   "outputs": [
    {
     "data": {
      "text/plain": [
       "array([[0.63636364, 0.06666667, 0.95652174, ..., 0.894     , 0.        ,\n",
       "        0.07388643],\n",
       "       [0.45454545, 0.26666667, 0.65217391, ..., 0.9677    , 0.074     ,\n",
       "        0.07388643],\n",
       "       [0.63636364, 0.03333333, 0.2173913 , ..., 0.9935    , 0.        ,\n",
       "        0.07388643],\n",
       "       ...,\n",
       "       [0.09090909, 0.2       , 0.73913043, ..., 0.0013    , 0.203     ,\n",
       "        0.07388643],\n",
       "       [0.27272727, 0.13333333, 0.86956522, ..., 0.        , 0.        ,\n",
       "        0.25575259],\n",
       "       [0.45454545, 0.73333333, 0.95652174, ..., 0.5161    , 0.        ,\n",
       "        0.07388643]])"
      ]
     },
     "execution_count": 16,
     "metadata": {},
     "output_type": "execute_result"
    }
   ],
   "source": [
    "X_test"
   ]
  },
  {
   "cell_type": "markdown",
   "id": "74c4670f",
   "metadata": {
    "papermill": {
     "duration": 0.012561,
     "end_time": "2025-08-08T03:49:24.492083",
     "exception": false,
     "start_time": "2025-08-08T03:49:24.479522",
     "status": "completed"
    },
    "tags": []
   },
   "source": [
    "### Default Parameters"
   ]
  },
  {
   "cell_type": "code",
   "execution_count": 17,
   "id": "676970d3",
   "metadata": {
    "execution": {
     "iopub.execute_input": "2025-08-08T03:49:24.517963Z",
     "iopub.status.busy": "2025-08-08T03:49:24.517726Z",
     "iopub.status.idle": "2025-08-08T03:49:24.527444Z",
     "shell.execute_reply": "2025-08-08T03:49:24.526757Z"
    },
    "papermill": {
     "duration": 0.02422,
     "end_time": "2025-08-08T03:49:24.528778",
     "exception": false,
     "start_time": "2025-08-08T03:49:24.504558",
     "status": "completed"
    },
    "tags": []
   },
   "outputs": [
    {
     "data": {
      "text/html": [
       "<style>#sk-container-id-1 {color: black;background-color: white;}#sk-container-id-1 pre{padding: 0;}#sk-container-id-1 div.sk-toggleable {background-color: white;}#sk-container-id-1 label.sk-toggleable__label {cursor: pointer;display: block;width: 100%;margin-bottom: 0;padding: 0.3em;box-sizing: border-box;text-align: center;}#sk-container-id-1 label.sk-toggleable__label-arrow:before {content: \"▸\";float: left;margin-right: 0.25em;color: #696969;}#sk-container-id-1 label.sk-toggleable__label-arrow:hover:before {color: black;}#sk-container-id-1 div.sk-estimator:hover label.sk-toggleable__label-arrow:before {color: black;}#sk-container-id-1 div.sk-toggleable__content {max-height: 0;max-width: 0;overflow: hidden;text-align: left;background-color: #f0f8ff;}#sk-container-id-1 div.sk-toggleable__content pre {margin: 0.2em;color: black;border-radius: 0.25em;background-color: #f0f8ff;}#sk-container-id-1 input.sk-toggleable__control:checked~div.sk-toggleable__content {max-height: 200px;max-width: 100%;overflow: auto;}#sk-container-id-1 input.sk-toggleable__control:checked~label.sk-toggleable__label-arrow:before {content: \"▾\";}#sk-container-id-1 div.sk-estimator input.sk-toggleable__control:checked~label.sk-toggleable__label {background-color: #d4ebff;}#sk-container-id-1 div.sk-label input.sk-toggleable__control:checked~label.sk-toggleable__label {background-color: #d4ebff;}#sk-container-id-1 input.sk-hidden--visually {border: 0;clip: rect(1px 1px 1px 1px);clip: rect(1px, 1px, 1px, 1px);height: 1px;margin: -1px;overflow: hidden;padding: 0;position: absolute;width: 1px;}#sk-container-id-1 div.sk-estimator {font-family: monospace;background-color: #f0f8ff;border: 1px dotted black;border-radius: 0.25em;box-sizing: border-box;margin-bottom: 0.5em;}#sk-container-id-1 div.sk-estimator:hover {background-color: #d4ebff;}#sk-container-id-1 div.sk-parallel-item::after {content: \"\";width: 100%;border-bottom: 1px solid gray;flex-grow: 1;}#sk-container-id-1 div.sk-label:hover label.sk-toggleable__label {background-color: #d4ebff;}#sk-container-id-1 div.sk-serial::before {content: \"\";position: absolute;border-left: 1px solid gray;box-sizing: border-box;top: 0;bottom: 0;left: 50%;z-index: 0;}#sk-container-id-1 div.sk-serial {display: flex;flex-direction: column;align-items: center;background-color: white;padding-right: 0.2em;padding-left: 0.2em;position: relative;}#sk-container-id-1 div.sk-item {position: relative;z-index: 1;}#sk-container-id-1 div.sk-parallel {display: flex;align-items: stretch;justify-content: center;background-color: white;position: relative;}#sk-container-id-1 div.sk-item::before, #sk-container-id-1 div.sk-parallel-item::before {content: \"\";position: absolute;border-left: 1px solid gray;box-sizing: border-box;top: 0;bottom: 0;left: 50%;z-index: -1;}#sk-container-id-1 div.sk-parallel-item {display: flex;flex-direction: column;z-index: 1;position: relative;background-color: white;}#sk-container-id-1 div.sk-parallel-item:first-child::after {align-self: flex-end;width: 50%;}#sk-container-id-1 div.sk-parallel-item:last-child::after {align-self: flex-start;width: 50%;}#sk-container-id-1 div.sk-parallel-item:only-child::after {width: 0;}#sk-container-id-1 div.sk-dashed-wrapped {border: 1px dashed gray;margin: 0 0.4em 0.5em 0.4em;box-sizing: border-box;padding-bottom: 0.4em;background-color: white;}#sk-container-id-1 div.sk-label label {font-family: monospace;font-weight: bold;display: inline-block;line-height: 1.2em;}#sk-container-id-1 div.sk-label-container {text-align: center;}#sk-container-id-1 div.sk-container {/* jupyter's `normalize.less` sets `[hidden] { display: none; }` but bootstrap.min.css set `[hidden] { display: none !important; }` so we also need the `!important` here to be able to override the default hidden behavior on the sphinx rendered scikit-learn.org. See: https://github.com/scikit-learn/scikit-learn/issues/21755 */display: inline-block !important;position: relative;}#sk-container-id-1 div.sk-text-repr-fallback {display: none;}</style><div id=\"sk-container-id-1\" class=\"sk-top-container\"><div class=\"sk-text-repr-fallback\"><pre>LinearRegression()</pre><b>In a Jupyter environment, please rerun this cell to show the HTML representation or trust the notebook. <br />On GitHub, the HTML representation is unable to render, please try loading this page with nbviewer.org.</b></div><div class=\"sk-container\" hidden><div class=\"sk-item\"><div class=\"sk-estimator sk-toggleable\"><input class=\"sk-toggleable__control sk-hidden--visually\" id=\"sk-estimator-id-1\" type=\"checkbox\" checked><label for=\"sk-estimator-id-1\" class=\"sk-toggleable__label sk-toggleable__label-arrow\">LinearRegression</label><div class=\"sk-toggleable__content\"><pre>LinearRegression()</pre></div></div></div></div></div>"
      ],
      "text/plain": [
       "LinearRegression()"
      ]
     },
     "execution_count": 17,
     "metadata": {},
     "output_type": "execute_result"
    }
   ],
   "source": [
    "training_model = LinearRegression()\n",
    "training_model"
   ]
  },
  {
   "cell_type": "code",
   "execution_count": 18,
   "id": "1c675027",
   "metadata": {
    "execution": {
     "iopub.execute_input": "2025-08-08T03:49:24.557355Z",
     "iopub.status.busy": "2025-08-08T03:49:24.557043Z",
     "iopub.status.idle": "2025-08-08T03:49:24.615393Z",
     "shell.execute_reply": "2025-08-08T03:49:24.614757Z"
    },
    "papermill": {
     "duration": 0.073968,
     "end_time": "2025-08-08T03:49:24.616684",
     "exception": false,
     "start_time": "2025-08-08T03:49:24.542716",
     "status": "completed"
    },
    "tags": []
   },
   "outputs": [
    {
     "name": "stdout",
     "output_type": "stream",
     "text": [
      "CPU times: user 59.4 ms, sys: 9.27 ms, total: 68.7 ms\n",
      "Wall time: 51.5 ms\n"
     ]
    },
    {
     "data": {
      "text/html": [
       "<style>#sk-container-id-2 {color: black;background-color: white;}#sk-container-id-2 pre{padding: 0;}#sk-container-id-2 div.sk-toggleable {background-color: white;}#sk-container-id-2 label.sk-toggleable__label {cursor: pointer;display: block;width: 100%;margin-bottom: 0;padding: 0.3em;box-sizing: border-box;text-align: center;}#sk-container-id-2 label.sk-toggleable__label-arrow:before {content: \"▸\";float: left;margin-right: 0.25em;color: #696969;}#sk-container-id-2 label.sk-toggleable__label-arrow:hover:before {color: black;}#sk-container-id-2 div.sk-estimator:hover label.sk-toggleable__label-arrow:before {color: black;}#sk-container-id-2 div.sk-toggleable__content {max-height: 0;max-width: 0;overflow: hidden;text-align: left;background-color: #f0f8ff;}#sk-container-id-2 div.sk-toggleable__content pre {margin: 0.2em;color: black;border-radius: 0.25em;background-color: #f0f8ff;}#sk-container-id-2 input.sk-toggleable__control:checked~div.sk-toggleable__content {max-height: 200px;max-width: 100%;overflow: auto;}#sk-container-id-2 input.sk-toggleable__control:checked~label.sk-toggleable__label-arrow:before {content: \"▾\";}#sk-container-id-2 div.sk-estimator input.sk-toggleable__control:checked~label.sk-toggleable__label {background-color: #d4ebff;}#sk-container-id-2 div.sk-label input.sk-toggleable__control:checked~label.sk-toggleable__label {background-color: #d4ebff;}#sk-container-id-2 input.sk-hidden--visually {border: 0;clip: rect(1px 1px 1px 1px);clip: rect(1px, 1px, 1px, 1px);height: 1px;margin: -1px;overflow: hidden;padding: 0;position: absolute;width: 1px;}#sk-container-id-2 div.sk-estimator {font-family: monospace;background-color: #f0f8ff;border: 1px dotted black;border-radius: 0.25em;box-sizing: border-box;margin-bottom: 0.5em;}#sk-container-id-2 div.sk-estimator:hover {background-color: #d4ebff;}#sk-container-id-2 div.sk-parallel-item::after {content: \"\";width: 100%;border-bottom: 1px solid gray;flex-grow: 1;}#sk-container-id-2 div.sk-label:hover label.sk-toggleable__label {background-color: #d4ebff;}#sk-container-id-2 div.sk-serial::before {content: \"\";position: absolute;border-left: 1px solid gray;box-sizing: border-box;top: 0;bottom: 0;left: 50%;z-index: 0;}#sk-container-id-2 div.sk-serial {display: flex;flex-direction: column;align-items: center;background-color: white;padding-right: 0.2em;padding-left: 0.2em;position: relative;}#sk-container-id-2 div.sk-item {position: relative;z-index: 1;}#sk-container-id-2 div.sk-parallel {display: flex;align-items: stretch;justify-content: center;background-color: white;position: relative;}#sk-container-id-2 div.sk-item::before, #sk-container-id-2 div.sk-parallel-item::before {content: \"\";position: absolute;border-left: 1px solid gray;box-sizing: border-box;top: 0;bottom: 0;left: 50%;z-index: -1;}#sk-container-id-2 div.sk-parallel-item {display: flex;flex-direction: column;z-index: 1;position: relative;background-color: white;}#sk-container-id-2 div.sk-parallel-item:first-child::after {align-self: flex-end;width: 50%;}#sk-container-id-2 div.sk-parallel-item:last-child::after {align-self: flex-start;width: 50%;}#sk-container-id-2 div.sk-parallel-item:only-child::after {width: 0;}#sk-container-id-2 div.sk-dashed-wrapped {border: 1px dashed gray;margin: 0 0.4em 0.5em 0.4em;box-sizing: border-box;padding-bottom: 0.4em;background-color: white;}#sk-container-id-2 div.sk-label label {font-family: monospace;font-weight: bold;display: inline-block;line-height: 1.2em;}#sk-container-id-2 div.sk-label-container {text-align: center;}#sk-container-id-2 div.sk-container {/* jupyter's `normalize.less` sets `[hidden] { display: none; }` but bootstrap.min.css set `[hidden] { display: none !important; }` so we also need the `!important` here to be able to override the default hidden behavior on the sphinx rendered scikit-learn.org. See: https://github.com/scikit-learn/scikit-learn/issues/21755 */display: inline-block !important;position: relative;}#sk-container-id-2 div.sk-text-repr-fallback {display: none;}</style><div id=\"sk-container-id-2\" class=\"sk-top-container\"><div class=\"sk-text-repr-fallback\"><pre>LinearRegression()</pre><b>In a Jupyter environment, please rerun this cell to show the HTML representation or trust the notebook. <br />On GitHub, the HTML representation is unable to render, please try loading this page with nbviewer.org.</b></div><div class=\"sk-container\" hidden><div class=\"sk-item\"><div class=\"sk-estimator sk-toggleable\"><input class=\"sk-toggleable__control sk-hidden--visually\" id=\"sk-estimator-id-2\" type=\"checkbox\" checked><label for=\"sk-estimator-id-2\" class=\"sk-toggleable__label sk-toggleable__label-arrow\">LinearRegression</label><div class=\"sk-toggleable__content\"><pre>LinearRegression()</pre></div></div></div></div></div>"
      ],
      "text/plain": [
       "LinearRegression()"
      ]
     },
     "execution_count": 18,
     "metadata": {},
     "output_type": "execute_result"
    }
   ],
   "source": [
    "%%time\n",
    "training_model.fit(X_train, y_train)"
   ]
  },
  {
   "cell_type": "code",
   "execution_count": 19,
   "id": "3c1f1c1b",
   "metadata": {
    "execution": {
     "iopub.execute_input": "2025-08-08T03:49:24.656409Z",
     "iopub.status.busy": "2025-08-08T03:49:24.656147Z",
     "iopub.status.idle": "2025-08-08T03:49:24.667146Z",
     "shell.execute_reply": "2025-08-08T03:49:24.666639Z"
    },
    "papermill": {
     "duration": 0.032273,
     "end_time": "2025-08-08T03:49:24.668447",
     "exception": false,
     "start_time": "2025-08-08T03:49:24.636174",
     "status": "completed"
    },
    "tags": []
   },
   "outputs": [
    {
     "data": {
      "text/plain": [
       "array([0.00872803, 0.26409912, 0.00378418, ..., 0.74389648, 0.00921631,\n",
       "       0.00384521])"
      ]
     },
     "execution_count": 19,
     "metadata": {},
     "output_type": "execute_result"
    }
   ],
   "source": [
    "y_pred = training_model.predict(X_test)\n",
    "y_pred"
   ]
  },
  {
   "cell_type": "code",
   "execution_count": 20,
   "id": "b160309b",
   "metadata": {
    "execution": {
     "iopub.execute_input": "2025-08-08T03:49:24.708768Z",
     "iopub.status.busy": "2025-08-08T03:49:24.708426Z",
     "iopub.status.idle": "2025-08-08T03:49:24.714945Z",
     "shell.execute_reply": "2025-08-08T03:49:24.714427Z"
    },
    "papermill": {
     "duration": 0.028393,
     "end_time": "2025-08-08T03:49:24.716763",
     "exception": false,
     "start_time": "2025-08-08T03:49:24.688370",
     "status": "completed"
    },
    "tags": []
   },
   "outputs": [
    {
     "data": {
      "text/plain": [
       "5158     0.00\n",
       "3831     0.36\n",
       "5117     0.00\n",
       "6326     2.70\n",
       "11359    0.49\n",
       "         ... \n",
       "10290    0.30\n",
       "13995    0.00\n",
       "9665     0.90\n",
       "2276     0.00\n",
       "4174     0.00\n",
       "Name: SolarEnergy, Length: 2924, dtype: float64"
      ]
     },
     "execution_count": 20,
     "metadata": {},
     "output_type": "execute_result"
    }
   ],
   "source": [
    "y_test"
   ]
  },
  {
   "cell_type": "code",
   "execution_count": 21,
   "id": "1acea675",
   "metadata": {
    "execution": {
     "iopub.execute_input": "2025-08-08T03:49:24.746486Z",
     "iopub.status.busy": "2025-08-08T03:49:24.746252Z",
     "iopub.status.idle": "2025-08-08T03:49:24.752087Z",
     "shell.execute_reply": "2025-08-08T03:49:24.750994Z"
    },
    "papermill": {
     "duration": 0.021752,
     "end_time": "2025-08-08T03:49:24.753683",
     "exception": false,
     "start_time": "2025-08-08T03:49:24.731931",
     "status": "completed"
    },
    "tags": []
   },
   "outputs": [],
   "source": [
    "mse = mean_squared_error(y_test, y_pred)\n",
    "mae = mean_absolute_error(y_test, y_pred)\n",
    "r2 = r2_score(y_test, y_pred)\n",
    "rmse = math.sqrt(mse)"
   ]
  },
  {
   "cell_type": "code",
   "execution_count": 22,
   "id": "659ca233",
   "metadata": {
    "execution": {
     "iopub.execute_input": "2025-08-08T03:49:24.782129Z",
     "iopub.status.busy": "2025-08-08T03:49:24.781839Z",
     "iopub.status.idle": "2025-08-08T03:49:24.786603Z",
     "shell.execute_reply": "2025-08-08T03:49:24.785581Z"
    },
    "papermill": {
     "duration": 0.020284,
     "end_time": "2025-08-08T03:49:24.787800",
     "exception": false,
     "start_time": "2025-08-08T03:49:24.767516",
     "status": "completed"
    },
    "tags": []
   },
   "outputs": [
    {
     "name": "stdout",
     "output_type": "stream",
     "text": [
      "MSE Score: 0.004427679007059083\n",
      "MAE Score: 0.04360910313889364\n",
      "R2 Score: 0.9963659790517647\n",
      "RMSE Score: 0.06654080708151264\n"
     ]
    }
   ],
   "source": [
    "print(\"MSE Score:\", mse)\n",
    "print(\"MAE Score:\", mae)\n",
    "print(\"R2 Score:\", r2)\n",
    "print(\"RMSE Score:\", rmse)"
   ]
  },
  {
   "cell_type": "code",
   "execution_count": 23,
   "id": "b8059bc8",
   "metadata": {
    "execution": {
     "iopub.execute_input": "2025-08-08T03:49:24.817303Z",
     "iopub.status.busy": "2025-08-08T03:49:24.817003Z",
     "iopub.status.idle": "2025-08-08T03:49:24.829823Z",
     "shell.execute_reply": "2025-08-08T03:49:24.828883Z"
    },
    "papermill": {
     "duration": 0.029034,
     "end_time": "2025-08-08T03:49:24.831020",
     "exception": false,
     "start_time": "2025-08-08T03:49:24.801986",
     "status": "completed"
    },
    "tags": []
   },
   "outputs": [
    {
     "name": "stdout",
     "output_type": "stream",
     "text": [
      "✨ New regression model added:\n",
      "   MSE: 0.004428, R²: 0.996366\n",
      "   Features: 27\n",
      "💾 Registry updated: Model_Training_History/History_Regression.csv\n"
     ]
    }
   ],
   "source": [
    "regression_params = {\n",
    "    'model_name': model_name_for_saving,\n",
    "    'scaler_name': \"MinMaxScaler\",\n",
    "    'features_list': feature_columns_for_saving,\n",
    "    'target_column': target_name_for_saving,\n",
    "    'mse': mse,\n",
    "    'mae': mae,\n",
    "    'rmse': rmse,\n",
    "    'r2': r2,\n",
    "    'parameters': json.dumps(training_model.get_params())\n",
    "}\n",
    "save_model_performance_if_better('regression', regression_params)"
   ]
  },
  {
   "cell_type": "markdown",
   "id": "7f9aae75",
   "metadata": {
    "papermill": {
     "duration": 0.014915,
     "end_time": "2025-08-08T03:49:24.859846",
     "exception": false,
     "start_time": "2025-08-08T03:49:24.844931",
     "status": "completed"
    },
    "tags": []
   },
   "source": [
    "### Tuning with Grid Search"
   ]
  },
  {
   "cell_type": "code",
   "execution_count": 24,
   "id": "d9412ca6",
   "metadata": {
    "execution": {
     "iopub.execute_input": "2025-08-08T03:49:24.888889Z",
     "iopub.status.busy": "2025-08-08T03:49:24.888549Z",
     "iopub.status.idle": "2025-08-08T03:49:24.892403Z",
     "shell.execute_reply": "2025-08-08T03:49:24.891780Z"
    },
    "papermill": {
     "duration": 0.019479,
     "end_time": "2025-08-08T03:49:24.893412",
     "exception": false,
     "start_time": "2025-08-08T03:49:24.873933",
     "status": "completed"
    },
    "tags": []
   },
   "outputs": [],
   "source": [
    "grid_search = GridSearchCV(\n",
    "    LinearRegression(), \n",
    "    grid_param, \n",
    "    cv=5, \n",
    "    scoring='neg_mean_squared_error', \n",
    "    n_jobs=-1, # allow parallel processing, you cant use your own laptop while this runs\n",
    "    verbose=1\n",
    ")"
   ]
  },
  {
   "cell_type": "code",
   "execution_count": 25,
   "id": "af36c84c",
   "metadata": {
    "execution": {
     "iopub.execute_input": "2025-08-08T03:49:24.923518Z",
     "iopub.status.busy": "2025-08-08T03:49:24.922640Z",
     "iopub.status.idle": "2025-08-08T03:49:26.755774Z",
     "shell.execute_reply": "2025-08-08T03:49:26.754765Z"
    },
    "papermill": {
     "duration": 1.84965,
     "end_time": "2025-08-08T03:49:26.757216",
     "exception": false,
     "start_time": "2025-08-08T03:49:24.907566",
     "status": "completed"
    },
    "tags": []
   },
   "outputs": [
    {
     "name": "stdout",
     "output_type": "stream",
     "text": [
      "Starting hyperparameter tuning...\n",
      "Fitting 5 folds for each of 8 candidates, totalling 40 fits\n",
      "CPU times: user 102 ms, sys: 25.2 ms, total: 127 ms\n",
      "Wall time: 1.82 s\n"
     ]
    },
    {
     "data": {
      "text/html": [
       "<style>#sk-container-id-3 {color: black;background-color: white;}#sk-container-id-3 pre{padding: 0;}#sk-container-id-3 div.sk-toggleable {background-color: white;}#sk-container-id-3 label.sk-toggleable__label {cursor: pointer;display: block;width: 100%;margin-bottom: 0;padding: 0.3em;box-sizing: border-box;text-align: center;}#sk-container-id-3 label.sk-toggleable__label-arrow:before {content: \"▸\";float: left;margin-right: 0.25em;color: #696969;}#sk-container-id-3 label.sk-toggleable__label-arrow:hover:before {color: black;}#sk-container-id-3 div.sk-estimator:hover label.sk-toggleable__label-arrow:before {color: black;}#sk-container-id-3 div.sk-toggleable__content {max-height: 0;max-width: 0;overflow: hidden;text-align: left;background-color: #f0f8ff;}#sk-container-id-3 div.sk-toggleable__content pre {margin: 0.2em;color: black;border-radius: 0.25em;background-color: #f0f8ff;}#sk-container-id-3 input.sk-toggleable__control:checked~div.sk-toggleable__content {max-height: 200px;max-width: 100%;overflow: auto;}#sk-container-id-3 input.sk-toggleable__control:checked~label.sk-toggleable__label-arrow:before {content: \"▾\";}#sk-container-id-3 div.sk-estimator input.sk-toggleable__control:checked~label.sk-toggleable__label {background-color: #d4ebff;}#sk-container-id-3 div.sk-label input.sk-toggleable__control:checked~label.sk-toggleable__label {background-color: #d4ebff;}#sk-container-id-3 input.sk-hidden--visually {border: 0;clip: rect(1px 1px 1px 1px);clip: rect(1px, 1px, 1px, 1px);height: 1px;margin: -1px;overflow: hidden;padding: 0;position: absolute;width: 1px;}#sk-container-id-3 div.sk-estimator {font-family: monospace;background-color: #f0f8ff;border: 1px dotted black;border-radius: 0.25em;box-sizing: border-box;margin-bottom: 0.5em;}#sk-container-id-3 div.sk-estimator:hover {background-color: #d4ebff;}#sk-container-id-3 div.sk-parallel-item::after {content: \"\";width: 100%;border-bottom: 1px solid gray;flex-grow: 1;}#sk-container-id-3 div.sk-label:hover label.sk-toggleable__label {background-color: #d4ebff;}#sk-container-id-3 div.sk-serial::before {content: \"\";position: absolute;border-left: 1px solid gray;box-sizing: border-box;top: 0;bottom: 0;left: 50%;z-index: 0;}#sk-container-id-3 div.sk-serial {display: flex;flex-direction: column;align-items: center;background-color: white;padding-right: 0.2em;padding-left: 0.2em;position: relative;}#sk-container-id-3 div.sk-item {position: relative;z-index: 1;}#sk-container-id-3 div.sk-parallel {display: flex;align-items: stretch;justify-content: center;background-color: white;position: relative;}#sk-container-id-3 div.sk-item::before, #sk-container-id-3 div.sk-parallel-item::before {content: \"\";position: absolute;border-left: 1px solid gray;box-sizing: border-box;top: 0;bottom: 0;left: 50%;z-index: -1;}#sk-container-id-3 div.sk-parallel-item {display: flex;flex-direction: column;z-index: 1;position: relative;background-color: white;}#sk-container-id-3 div.sk-parallel-item:first-child::after {align-self: flex-end;width: 50%;}#sk-container-id-3 div.sk-parallel-item:last-child::after {align-self: flex-start;width: 50%;}#sk-container-id-3 div.sk-parallel-item:only-child::after {width: 0;}#sk-container-id-3 div.sk-dashed-wrapped {border: 1px dashed gray;margin: 0 0.4em 0.5em 0.4em;box-sizing: border-box;padding-bottom: 0.4em;background-color: white;}#sk-container-id-3 div.sk-label label {font-family: monospace;font-weight: bold;display: inline-block;line-height: 1.2em;}#sk-container-id-3 div.sk-label-container {text-align: center;}#sk-container-id-3 div.sk-container {/* jupyter's `normalize.less` sets `[hidden] { display: none; }` but bootstrap.min.css set `[hidden] { display: none !important; }` so we also need the `!important` here to be able to override the default hidden behavior on the sphinx rendered scikit-learn.org. See: https://github.com/scikit-learn/scikit-learn/issues/21755 */display: inline-block !important;position: relative;}#sk-container-id-3 div.sk-text-repr-fallback {display: none;}</style><div id=\"sk-container-id-3\" class=\"sk-top-container\"><div class=\"sk-text-repr-fallback\"><pre>GridSearchCV(cv=5, estimator=LinearRegression(), n_jobs=-1,\n",
       "             param_grid={&#x27;copy_X&#x27;: [True, False],\n",
       "                         &#x27;fit_intercept&#x27;: [True, False],\n",
       "                         &#x27;positive&#x27;: [True, False]},\n",
       "             scoring=&#x27;neg_mean_squared_error&#x27;, verbose=1)</pre><b>In a Jupyter environment, please rerun this cell to show the HTML representation or trust the notebook. <br />On GitHub, the HTML representation is unable to render, please try loading this page with nbviewer.org.</b></div><div class=\"sk-container\" hidden><div class=\"sk-item sk-dashed-wrapped\"><div class=\"sk-label-container\"><div class=\"sk-label sk-toggleable\"><input class=\"sk-toggleable__control sk-hidden--visually\" id=\"sk-estimator-id-3\" type=\"checkbox\" ><label for=\"sk-estimator-id-3\" class=\"sk-toggleable__label sk-toggleable__label-arrow\">GridSearchCV</label><div class=\"sk-toggleable__content\"><pre>GridSearchCV(cv=5, estimator=LinearRegression(), n_jobs=-1,\n",
       "             param_grid={&#x27;copy_X&#x27;: [True, False],\n",
       "                         &#x27;fit_intercept&#x27;: [True, False],\n",
       "                         &#x27;positive&#x27;: [True, False]},\n",
       "             scoring=&#x27;neg_mean_squared_error&#x27;, verbose=1)</pre></div></div></div><div class=\"sk-parallel\"><div class=\"sk-parallel-item\"><div class=\"sk-item\"><div class=\"sk-label-container\"><div class=\"sk-label sk-toggleable\"><input class=\"sk-toggleable__control sk-hidden--visually\" id=\"sk-estimator-id-4\" type=\"checkbox\" ><label for=\"sk-estimator-id-4\" class=\"sk-toggleable__label sk-toggleable__label-arrow\">estimator: LinearRegression</label><div class=\"sk-toggleable__content\"><pre>LinearRegression()</pre></div></div></div><div class=\"sk-serial\"><div class=\"sk-item\"><div class=\"sk-estimator sk-toggleable\"><input class=\"sk-toggleable__control sk-hidden--visually\" id=\"sk-estimator-id-5\" type=\"checkbox\" ><label for=\"sk-estimator-id-5\" class=\"sk-toggleable__label sk-toggleable__label-arrow\">LinearRegression</label><div class=\"sk-toggleable__content\"><pre>LinearRegression()</pre></div></div></div></div></div></div></div></div></div></div>"
      ],
      "text/plain": [
       "GridSearchCV(cv=5, estimator=LinearRegression(), n_jobs=-1,\n",
       "             param_grid={'copy_X': [True, False],\n",
       "                         'fit_intercept': [True, False],\n",
       "                         'positive': [True, False]},\n",
       "             scoring='neg_mean_squared_error', verbose=1)"
      ]
     },
     "execution_count": 25,
     "metadata": {},
     "output_type": "execute_result"
    }
   ],
   "source": [
    "%%time\n",
    "print(\"Starting hyperparameter tuning...\")\n",
    "grid_search.fit(X_train, y_train)"
   ]
  },
  {
   "cell_type": "code",
   "execution_count": 26,
   "id": "b813d351",
   "metadata": {
    "execution": {
     "iopub.execute_input": "2025-08-08T03:49:26.787909Z",
     "iopub.status.busy": "2025-08-08T03:49:26.787563Z",
     "iopub.status.idle": "2025-08-08T03:49:26.792721Z",
     "shell.execute_reply": "2025-08-08T03:49:26.791886Z"
    },
    "papermill": {
     "duration": 0.021679,
     "end_time": "2025-08-08T03:49:26.793844",
     "exception": false,
     "start_time": "2025-08-08T03:49:26.772165",
     "status": "completed"
    },
    "tags": []
   },
   "outputs": [
    {
     "name": "stdout",
     "output_type": "stream",
     "text": [
      "TUNING RESULTS\n",
      "==================================================\n",
      "Best Parameters: {'copy_X': True, 'fit_intercept': True, 'positive': True}\n",
      "Best Cross-Validation Score (Negative MSE): -0.004307522212558356\n",
      "Best Cross-Validation Score (MSE): 0.004307522212558356\n",
      "Best Cross-Validation Score (RMSE): 0.06563171651388036\n"
     ]
    }
   ],
   "source": [
    "print(\"TUNING RESULTS\")\n",
    "print(\"=\"*50)\n",
    "print(\"Best Parameters:\", grid_search.best_params_)\n",
    "print(\"Best Cross-Validation Score (Negative MSE):\", grid_search.best_score_)\n",
    "print(\"Best Cross-Validation Score (MSE):\", -grid_search.best_score_)\n",
    "print(\"Best Cross-Validation Score (RMSE):\", math.sqrt(-grid_search.best_score_))"
   ]
  },
  {
   "cell_type": "code",
   "execution_count": 27,
   "id": "5e2c8dd0",
   "metadata": {
    "execution": {
     "iopub.execute_input": "2025-08-08T03:49:26.823088Z",
     "iopub.status.busy": "2025-08-08T03:49:26.822834Z",
     "iopub.status.idle": "2025-08-08T03:49:26.827691Z",
     "shell.execute_reply": "2025-08-08T03:49:26.826586Z"
    },
    "papermill": {
     "duration": 0.020552,
     "end_time": "2025-08-08T03:49:26.828772",
     "exception": false,
     "start_time": "2025-08-08T03:49:26.808220",
     "status": "completed"
    },
    "tags": []
   },
   "outputs": [],
   "source": [
    "grid_search_best_model = grid_search.best_estimator_\n",
    "y_pred = grid_search_best_model.predict(X_test)"
   ]
  },
  {
   "cell_type": "code",
   "execution_count": 28,
   "id": "381ad181",
   "metadata": {
    "execution": {
     "iopub.execute_input": "2025-08-08T03:49:26.857026Z",
     "iopub.status.busy": "2025-08-08T03:49:26.856677Z",
     "iopub.status.idle": "2025-08-08T03:49:26.863043Z",
     "shell.execute_reply": "2025-08-08T03:49:26.862228Z"
    },
    "papermill": {
     "duration": 0.022416,
     "end_time": "2025-08-08T03:49:26.864691",
     "exception": false,
     "start_time": "2025-08-08T03:49:26.842275",
     "status": "completed"
    },
    "tags": []
   },
   "outputs": [],
   "source": [
    "mse_grid_search = mean_squared_error(y_test, y_pred)\n",
    "mae_grid_search = mean_absolute_error(y_test, y_pred)\n",
    "r2_grid_search = r2_score(y_test, y_pred)\n",
    "rmse_grid_search = math.sqrt(mse_grid_search)"
   ]
  },
  {
   "cell_type": "code",
   "execution_count": 29,
   "id": "d5f0c558",
   "metadata": {
    "execution": {
     "iopub.execute_input": "2025-08-08T03:49:26.894868Z",
     "iopub.status.busy": "2025-08-08T03:49:26.894585Z",
     "iopub.status.idle": "2025-08-08T03:49:26.900339Z",
     "shell.execute_reply": "2025-08-08T03:49:26.899167Z"
    },
    "papermill": {
     "duration": 0.022184,
     "end_time": "2025-08-08T03:49:26.901768",
     "exception": false,
     "start_time": "2025-08-08T03:49:26.879584",
     "status": "completed"
    },
    "tags": []
   },
   "outputs": [
    {
     "name": "stdout",
     "output_type": "stream",
     "text": [
      "MSE Score: 0.004412201816882483\n",
      "MAE Score: 0.04331406137695465\n",
      "R2 Score: 0.9963786819674982\n",
      "RMSE Score: 0.06642440678607889\n"
     ]
    }
   ],
   "source": [
    "print(\"MSE Score:\", mse_grid_search)\n",
    "print(\"MAE Score:\", mae_grid_search)\n",
    "print(\"R2 Score:\", r2_grid_search)\n",
    "print(\"RMSE Score:\", rmse_grid_search)"
   ]
  },
  {
   "cell_type": "code",
   "execution_count": 30,
   "id": "e845387f",
   "metadata": {
    "execution": {
     "iopub.execute_input": "2025-08-08T03:49:26.932434Z",
     "iopub.status.busy": "2025-08-08T03:49:26.932108Z",
     "iopub.status.idle": "2025-08-08T03:49:26.942084Z",
     "shell.execute_reply": "2025-08-08T03:49:26.941184Z"
    },
    "papermill": {
     "duration": 0.026606,
     "end_time": "2025-08-08T03:49:26.943397",
     "exception": false,
     "start_time": "2025-08-08T03:49:26.916791",
     "status": "completed"
    },
    "tags": []
   },
   "outputs": [
    {
     "name": "stdout",
     "output_type": "stream",
     "text": [
      "✨ New regression model added:\n",
      "   MSE: 0.004412, R²: 0.996379\n",
      "   Features: 27\n",
      "💾 Registry updated: Model_Training_History/History_Regression.csv\n"
     ]
    }
   ],
   "source": [
    "regression_params = {\n",
    "    'model_name': model_name_for_saving + \" Tuned\",\n",
    "    'scaler_name': \"MinMaxScaler\",\n",
    "    'features_list': feature_columns_for_saving,\n",
    "    'target_column': target_name_for_saving,\n",
    "    'mse': mse_grid_search,\n",
    "    'mae': mae_grid_search,\n",
    "    'rmse': rmse_grid_search,\n",
    "    'r2': r2_grid_search,\n",
    "    'parameters' : json.dumps({\n",
    "        \"best_params\": grid_search.best_params_,\n",
    "        \"cv_score\": grid_search.best_score_,\n",
    "        \"all_params\": grid_search_best_model.get_params()\n",
    "    })\n",
    "}\n",
    "save_model_performance_if_better('regression', regression_params)"
   ]
  },
  {
   "cell_type": "markdown",
   "id": "274b4fe5",
   "metadata": {
    "papermill": {
     "duration": 0.013503,
     "end_time": "2025-08-08T03:49:26.971040",
     "exception": false,
     "start_time": "2025-08-08T03:49:26.957537",
     "status": "completed"
    },
    "tags": []
   },
   "source": [
    "## Standard Scaler"
   ]
  },
  {
   "cell_type": "code",
   "execution_count": 31,
   "id": "2090956f",
   "metadata": {
    "execution": {
     "iopub.execute_input": "2025-08-08T03:49:26.999887Z",
     "iopub.status.busy": "2025-08-08T03:49:26.999657Z",
     "iopub.status.idle": "2025-08-08T03:49:27.022529Z",
     "shell.execute_reply": "2025-08-08T03:49:27.021443Z"
    },
    "papermill": {
     "duration": 0.039221,
     "end_time": "2025-08-08T03:49:27.024291",
     "exception": false,
     "start_time": "2025-08-08T03:49:26.985070",
     "status": "completed"
    },
    "tags": []
   },
   "outputs": [],
   "source": [
    "scaler = StandardScaler()\n",
    "X_train = scaler.fit_transform(X_train_raw)\n",
    "X_test = scaler.transform(X_test_raw)"
   ]
  },
  {
   "cell_type": "code",
   "execution_count": 32,
   "id": "2897be07",
   "metadata": {
    "execution": {
     "iopub.execute_input": "2025-08-08T03:49:27.053358Z",
     "iopub.status.busy": "2025-08-08T03:49:27.052519Z",
     "iopub.status.idle": "2025-08-08T03:49:27.057653Z",
     "shell.execute_reply": "2025-08-08T03:49:27.057006Z"
    },
    "papermill": {
     "duration": 0.020688,
     "end_time": "2025-08-08T03:49:27.059199",
     "exception": false,
     "start_time": "2025-08-08T03:49:27.038511",
     "status": "completed"
    },
    "tags": []
   },
   "outputs": [
    {
     "data": {
      "text/plain": [
       "array([[ 1.01884116,  1.17229173, -0.21938027, ..., -0.12088825,\n",
       "         1.52387472,  1.09644529],\n",
       "       [ 1.64376461, -0.75947244,  0.64624572, ..., -1.52028666,\n",
       "         0.24645772, -0.43343649],\n",
       "       [-1.16839092, -0.1913065 , -1.66209024, ..., -1.52028666,\n",
       "        -0.73592134, -0.43343649],\n",
       "       ...,\n",
       "       [ 0.70637943,  1.28592492, -0.21938027, ...,  0.96917545,\n",
       "         0.25618424, -0.30383078],\n",
       "       [-1.48085264, -0.30493969,  1.36760071, ..., -1.52028666,\n",
       "        -0.73592134, -0.43343649],\n",
       "       [ 1.01884116, -0.75947244, -0.50792226, ...,  1.01722469,\n",
       "         0.20430944,  0.85928021]])"
      ]
     },
     "execution_count": 32,
     "metadata": {},
     "output_type": "execute_result"
    }
   ],
   "source": [
    "X_train"
   ]
  },
  {
   "cell_type": "code",
   "execution_count": 33,
   "id": "0d0ea428",
   "metadata": {
    "execution": {
     "iopub.execute_input": "2025-08-08T03:49:27.091168Z",
     "iopub.status.busy": "2025-08-08T03:49:27.090417Z",
     "iopub.status.idle": "2025-08-08T03:49:27.095919Z",
     "shell.execute_reply": "2025-08-08T03:49:27.095001Z"
    },
    "papermill": {
     "duration": 0.022133,
     "end_time": "2025-08-08T03:49:27.097350",
     "exception": false,
     "start_time": "2025-08-08T03:49:27.075217",
     "status": "completed"
    },
    "tags": []
   },
   "outputs": [
    {
     "data": {
      "text/plain": [
       "array([[ 0.70637943, -1.44127155,  1.51187171, ...,  1.02148941,\n",
       "        -0.73592134, -0.43343649],\n",
       "       [ 0.08145598, -0.75947244,  0.50197472, ...,  1.23102956,\n",
       "        -0.49600038, -0.43343649],\n",
       "       [ 0.70637943, -1.55490474, -0.94073525, ...,  1.30438283,\n",
       "        -0.73592134, -0.43343649],\n",
       "       ...,\n",
       "       [-1.16839092, -0.98673881,  0.79051672, ..., -1.51659057,\n",
       "        -0.07775979, -0.43343649],\n",
       "       [-0.54346747, -1.21400518,  1.22332971, ..., -1.52028666,\n",
       "        -0.73592134,  0.71764924],\n",
       "       [ 0.08145598,  0.83139217,  1.51187171, ..., -0.05293696,\n",
       "        -0.73592134, -0.43343649]])"
      ]
     },
     "execution_count": 33,
     "metadata": {},
     "output_type": "execute_result"
    }
   ],
   "source": [
    "X_test"
   ]
  },
  {
   "cell_type": "markdown",
   "id": "29d1d1d3",
   "metadata": {
    "papermill": {
     "duration": 0.014793,
     "end_time": "2025-08-08T03:49:27.127027",
     "exception": false,
     "start_time": "2025-08-08T03:49:27.112234",
     "status": "completed"
    },
    "tags": []
   },
   "source": [
    "### Default Parameters"
   ]
  },
  {
   "cell_type": "code",
   "execution_count": 34,
   "id": "02cf3e96",
   "metadata": {
    "execution": {
     "iopub.execute_input": "2025-08-08T03:49:27.159828Z",
     "iopub.status.busy": "2025-08-08T03:49:27.159551Z",
     "iopub.status.idle": "2025-08-08T03:49:27.165336Z",
     "shell.execute_reply": "2025-08-08T03:49:27.164448Z"
    },
    "papermill": {
     "duration": 0.023961,
     "end_time": "2025-08-08T03:49:27.166532",
     "exception": false,
     "start_time": "2025-08-08T03:49:27.142571",
     "status": "completed"
    },
    "tags": []
   },
   "outputs": [
    {
     "data": {
      "text/html": [
       "<style>#sk-container-id-4 {color: black;background-color: white;}#sk-container-id-4 pre{padding: 0;}#sk-container-id-4 div.sk-toggleable {background-color: white;}#sk-container-id-4 label.sk-toggleable__label {cursor: pointer;display: block;width: 100%;margin-bottom: 0;padding: 0.3em;box-sizing: border-box;text-align: center;}#sk-container-id-4 label.sk-toggleable__label-arrow:before {content: \"▸\";float: left;margin-right: 0.25em;color: #696969;}#sk-container-id-4 label.sk-toggleable__label-arrow:hover:before {color: black;}#sk-container-id-4 div.sk-estimator:hover label.sk-toggleable__label-arrow:before {color: black;}#sk-container-id-4 div.sk-toggleable__content {max-height: 0;max-width: 0;overflow: hidden;text-align: left;background-color: #f0f8ff;}#sk-container-id-4 div.sk-toggleable__content pre {margin: 0.2em;color: black;border-radius: 0.25em;background-color: #f0f8ff;}#sk-container-id-4 input.sk-toggleable__control:checked~div.sk-toggleable__content {max-height: 200px;max-width: 100%;overflow: auto;}#sk-container-id-4 input.sk-toggleable__control:checked~label.sk-toggleable__label-arrow:before {content: \"▾\";}#sk-container-id-4 div.sk-estimator input.sk-toggleable__control:checked~label.sk-toggleable__label {background-color: #d4ebff;}#sk-container-id-4 div.sk-label input.sk-toggleable__control:checked~label.sk-toggleable__label {background-color: #d4ebff;}#sk-container-id-4 input.sk-hidden--visually {border: 0;clip: rect(1px 1px 1px 1px);clip: rect(1px, 1px, 1px, 1px);height: 1px;margin: -1px;overflow: hidden;padding: 0;position: absolute;width: 1px;}#sk-container-id-4 div.sk-estimator {font-family: monospace;background-color: #f0f8ff;border: 1px dotted black;border-radius: 0.25em;box-sizing: border-box;margin-bottom: 0.5em;}#sk-container-id-4 div.sk-estimator:hover {background-color: #d4ebff;}#sk-container-id-4 div.sk-parallel-item::after {content: \"\";width: 100%;border-bottom: 1px solid gray;flex-grow: 1;}#sk-container-id-4 div.sk-label:hover label.sk-toggleable__label {background-color: #d4ebff;}#sk-container-id-4 div.sk-serial::before {content: \"\";position: absolute;border-left: 1px solid gray;box-sizing: border-box;top: 0;bottom: 0;left: 50%;z-index: 0;}#sk-container-id-4 div.sk-serial {display: flex;flex-direction: column;align-items: center;background-color: white;padding-right: 0.2em;padding-left: 0.2em;position: relative;}#sk-container-id-4 div.sk-item {position: relative;z-index: 1;}#sk-container-id-4 div.sk-parallel {display: flex;align-items: stretch;justify-content: center;background-color: white;position: relative;}#sk-container-id-4 div.sk-item::before, #sk-container-id-4 div.sk-parallel-item::before {content: \"\";position: absolute;border-left: 1px solid gray;box-sizing: border-box;top: 0;bottom: 0;left: 50%;z-index: -1;}#sk-container-id-4 div.sk-parallel-item {display: flex;flex-direction: column;z-index: 1;position: relative;background-color: white;}#sk-container-id-4 div.sk-parallel-item:first-child::after {align-self: flex-end;width: 50%;}#sk-container-id-4 div.sk-parallel-item:last-child::after {align-self: flex-start;width: 50%;}#sk-container-id-4 div.sk-parallel-item:only-child::after {width: 0;}#sk-container-id-4 div.sk-dashed-wrapped {border: 1px dashed gray;margin: 0 0.4em 0.5em 0.4em;box-sizing: border-box;padding-bottom: 0.4em;background-color: white;}#sk-container-id-4 div.sk-label label {font-family: monospace;font-weight: bold;display: inline-block;line-height: 1.2em;}#sk-container-id-4 div.sk-label-container {text-align: center;}#sk-container-id-4 div.sk-container {/* jupyter's `normalize.less` sets `[hidden] { display: none; }` but bootstrap.min.css set `[hidden] { display: none !important; }` so we also need the `!important` here to be able to override the default hidden behavior on the sphinx rendered scikit-learn.org. See: https://github.com/scikit-learn/scikit-learn/issues/21755 */display: inline-block !important;position: relative;}#sk-container-id-4 div.sk-text-repr-fallback {display: none;}</style><div id=\"sk-container-id-4\" class=\"sk-top-container\"><div class=\"sk-text-repr-fallback\"><pre>LinearRegression()</pre><b>In a Jupyter environment, please rerun this cell to show the HTML representation or trust the notebook. <br />On GitHub, the HTML representation is unable to render, please try loading this page with nbviewer.org.</b></div><div class=\"sk-container\" hidden><div class=\"sk-item\"><div class=\"sk-estimator sk-toggleable\"><input class=\"sk-toggleable__control sk-hidden--visually\" id=\"sk-estimator-id-6\" type=\"checkbox\" checked><label for=\"sk-estimator-id-6\" class=\"sk-toggleable__label sk-toggleable__label-arrow\">LinearRegression</label><div class=\"sk-toggleable__content\"><pre>LinearRegression()</pre></div></div></div></div></div>"
      ],
      "text/plain": [
       "LinearRegression()"
      ]
     },
     "execution_count": 34,
     "metadata": {},
     "output_type": "execute_result"
    }
   ],
   "source": [
    "training_model = LinearRegression()\n",
    "training_model"
   ]
  },
  {
   "cell_type": "code",
   "execution_count": 35,
   "id": "17f5d1cf",
   "metadata": {
    "execution": {
     "iopub.execute_input": "2025-08-08T03:49:27.197929Z",
     "iopub.status.busy": "2025-08-08T03:49:27.197690Z",
     "iopub.status.idle": "2025-08-08T03:49:27.224011Z",
     "shell.execute_reply": "2025-08-08T03:49:27.221837Z"
    },
    "papermill": {
     "duration": 0.043199,
     "end_time": "2025-08-08T03:49:27.225196",
     "exception": false,
     "start_time": "2025-08-08T03:49:27.181997",
     "status": "completed"
    },
    "tags": []
   },
   "outputs": [
    {
     "name": "stdout",
     "output_type": "stream",
     "text": [
      "CPU times: user 40.1 ms, sys: 5.64 ms, total: 45.8 ms\n",
      "Wall time: 19.8 ms\n"
     ]
    },
    {
     "data": {
      "text/html": [
       "<style>#sk-container-id-5 {color: black;background-color: white;}#sk-container-id-5 pre{padding: 0;}#sk-container-id-5 div.sk-toggleable {background-color: white;}#sk-container-id-5 label.sk-toggleable__label {cursor: pointer;display: block;width: 100%;margin-bottom: 0;padding: 0.3em;box-sizing: border-box;text-align: center;}#sk-container-id-5 label.sk-toggleable__label-arrow:before {content: \"▸\";float: left;margin-right: 0.25em;color: #696969;}#sk-container-id-5 label.sk-toggleable__label-arrow:hover:before {color: black;}#sk-container-id-5 div.sk-estimator:hover label.sk-toggleable__label-arrow:before {color: black;}#sk-container-id-5 div.sk-toggleable__content {max-height: 0;max-width: 0;overflow: hidden;text-align: left;background-color: #f0f8ff;}#sk-container-id-5 div.sk-toggleable__content pre {margin: 0.2em;color: black;border-radius: 0.25em;background-color: #f0f8ff;}#sk-container-id-5 input.sk-toggleable__control:checked~div.sk-toggleable__content {max-height: 200px;max-width: 100%;overflow: auto;}#sk-container-id-5 input.sk-toggleable__control:checked~label.sk-toggleable__label-arrow:before {content: \"▾\";}#sk-container-id-5 div.sk-estimator input.sk-toggleable__control:checked~label.sk-toggleable__label {background-color: #d4ebff;}#sk-container-id-5 div.sk-label input.sk-toggleable__control:checked~label.sk-toggleable__label {background-color: #d4ebff;}#sk-container-id-5 input.sk-hidden--visually {border: 0;clip: rect(1px 1px 1px 1px);clip: rect(1px, 1px, 1px, 1px);height: 1px;margin: -1px;overflow: hidden;padding: 0;position: absolute;width: 1px;}#sk-container-id-5 div.sk-estimator {font-family: monospace;background-color: #f0f8ff;border: 1px dotted black;border-radius: 0.25em;box-sizing: border-box;margin-bottom: 0.5em;}#sk-container-id-5 div.sk-estimator:hover {background-color: #d4ebff;}#sk-container-id-5 div.sk-parallel-item::after {content: \"\";width: 100%;border-bottom: 1px solid gray;flex-grow: 1;}#sk-container-id-5 div.sk-label:hover label.sk-toggleable__label {background-color: #d4ebff;}#sk-container-id-5 div.sk-serial::before {content: \"\";position: absolute;border-left: 1px solid gray;box-sizing: border-box;top: 0;bottom: 0;left: 50%;z-index: 0;}#sk-container-id-5 div.sk-serial {display: flex;flex-direction: column;align-items: center;background-color: white;padding-right: 0.2em;padding-left: 0.2em;position: relative;}#sk-container-id-5 div.sk-item {position: relative;z-index: 1;}#sk-container-id-5 div.sk-parallel {display: flex;align-items: stretch;justify-content: center;background-color: white;position: relative;}#sk-container-id-5 div.sk-item::before, #sk-container-id-5 div.sk-parallel-item::before {content: \"\";position: absolute;border-left: 1px solid gray;box-sizing: border-box;top: 0;bottom: 0;left: 50%;z-index: -1;}#sk-container-id-5 div.sk-parallel-item {display: flex;flex-direction: column;z-index: 1;position: relative;background-color: white;}#sk-container-id-5 div.sk-parallel-item:first-child::after {align-self: flex-end;width: 50%;}#sk-container-id-5 div.sk-parallel-item:last-child::after {align-self: flex-start;width: 50%;}#sk-container-id-5 div.sk-parallel-item:only-child::after {width: 0;}#sk-container-id-5 div.sk-dashed-wrapped {border: 1px dashed gray;margin: 0 0.4em 0.5em 0.4em;box-sizing: border-box;padding-bottom: 0.4em;background-color: white;}#sk-container-id-5 div.sk-label label {font-family: monospace;font-weight: bold;display: inline-block;line-height: 1.2em;}#sk-container-id-5 div.sk-label-container {text-align: center;}#sk-container-id-5 div.sk-container {/* jupyter's `normalize.less` sets `[hidden] { display: none; }` but bootstrap.min.css set `[hidden] { display: none !important; }` so we also need the `!important` here to be able to override the default hidden behavior on the sphinx rendered scikit-learn.org. See: https://github.com/scikit-learn/scikit-learn/issues/21755 */display: inline-block !important;position: relative;}#sk-container-id-5 div.sk-text-repr-fallback {display: none;}</style><div id=\"sk-container-id-5\" class=\"sk-top-container\"><div class=\"sk-text-repr-fallback\"><pre>LinearRegression()</pre><b>In a Jupyter environment, please rerun this cell to show the HTML representation or trust the notebook. <br />On GitHub, the HTML representation is unable to render, please try loading this page with nbviewer.org.</b></div><div class=\"sk-container\" hidden><div class=\"sk-item\"><div class=\"sk-estimator sk-toggleable\"><input class=\"sk-toggleable__control sk-hidden--visually\" id=\"sk-estimator-id-7\" type=\"checkbox\" checked><label for=\"sk-estimator-id-7\" class=\"sk-toggleable__label sk-toggleable__label-arrow\">LinearRegression</label><div class=\"sk-toggleable__content\"><pre>LinearRegression()</pre></div></div></div></div></div>"
      ],
      "text/plain": [
       "LinearRegression()"
      ]
     },
     "execution_count": 35,
     "metadata": {},
     "output_type": "execute_result"
    }
   ],
   "source": [
    "%%time\n",
    "training_model.fit(X_train, y_train)"
   ]
  },
  {
   "cell_type": "code",
   "execution_count": 36,
   "id": "dd105ef5",
   "metadata": {
    "execution": {
     "iopub.execute_input": "2025-08-08T03:49:27.270970Z",
     "iopub.status.busy": "2025-08-08T03:49:27.270708Z",
     "iopub.status.idle": "2025-08-08T03:49:27.277641Z",
     "shell.execute_reply": "2025-08-08T03:49:27.277126Z"
    },
    "papermill": {
     "duration": 0.031246,
     "end_time": "2025-08-08T03:49:27.278893",
     "exception": false,
     "start_time": "2025-08-08T03:49:27.247647",
     "status": "completed"
    },
    "tags": []
   },
   "outputs": [
    {
     "data": {
      "text/plain": [
       "array([-0.00334214,  0.27085792, -0.0055362 , ...,  0.74899128,\n",
       "        0.0056315 , -0.00144567])"
      ]
     },
     "execution_count": 36,
     "metadata": {},
     "output_type": "execute_result"
    }
   ],
   "source": [
    "y_pred = training_model.predict(X_test)\n",
    "y_pred"
   ]
  },
  {
   "cell_type": "code",
   "execution_count": 37,
   "id": "9a618d03",
   "metadata": {
    "execution": {
     "iopub.execute_input": "2025-08-08T03:49:27.326139Z",
     "iopub.status.busy": "2025-08-08T03:49:27.325223Z",
     "iopub.status.idle": "2025-08-08T03:49:27.333160Z",
     "shell.execute_reply": "2025-08-08T03:49:27.332607Z"
    },
    "papermill": {
     "duration": 0.032685,
     "end_time": "2025-08-08T03:49:27.334541",
     "exception": false,
     "start_time": "2025-08-08T03:49:27.301856",
     "status": "completed"
    },
    "tags": []
   },
   "outputs": [
    {
     "data": {
      "text/plain": [
       "5158     0.00\n",
       "3831     0.36\n",
       "5117     0.00\n",
       "6326     2.70\n",
       "11359    0.49\n",
       "         ... \n",
       "10290    0.30\n",
       "13995    0.00\n",
       "9665     0.90\n",
       "2276     0.00\n",
       "4174     0.00\n",
       "Name: SolarEnergy, Length: 2924, dtype: float64"
      ]
     },
     "execution_count": 37,
     "metadata": {},
     "output_type": "execute_result"
    }
   ],
   "source": [
    "y_test"
   ]
  },
  {
   "cell_type": "code",
   "execution_count": 38,
   "id": "5107f391",
   "metadata": {
    "execution": {
     "iopub.execute_input": "2025-08-08T03:49:27.367181Z",
     "iopub.status.busy": "2025-08-08T03:49:27.366904Z",
     "iopub.status.idle": "2025-08-08T03:49:27.372765Z",
     "shell.execute_reply": "2025-08-08T03:49:27.372172Z"
    },
    "papermill": {
     "duration": 0.023278,
     "end_time": "2025-08-08T03:49:27.373852",
     "exception": false,
     "start_time": "2025-08-08T03:49:27.350574",
     "status": "completed"
    },
    "tags": []
   },
   "outputs": [],
   "source": [
    "mse = mean_squared_error(y_test, y_pred)\n",
    "mae = mean_absolute_error(y_test, y_pred)\n",
    "r2 = r2_score(y_test, y_pred)\n",
    "rmse = math.sqrt(mse)"
   ]
  },
  {
   "cell_type": "code",
   "execution_count": 39,
   "id": "c289db63",
   "metadata": {
    "execution": {
     "iopub.execute_input": "2025-08-08T03:49:27.405690Z",
     "iopub.status.busy": "2025-08-08T03:49:27.405453Z",
     "iopub.status.idle": "2025-08-08T03:49:27.409828Z",
     "shell.execute_reply": "2025-08-08T03:49:27.408933Z"
    },
    "papermill": {
     "duration": 0.021515,
     "end_time": "2025-08-08T03:49:27.411233",
     "exception": false,
     "start_time": "2025-08-08T03:49:27.389718",
     "status": "completed"
    },
    "tags": []
   },
   "outputs": [
    {
     "name": "stdout",
     "output_type": "stream",
     "text": [
      "MSE Score: 0.004408334601278558\n",
      "MAE Score: 0.04322717268721045\n",
      "R2 Score: 0.9963818559876776\n",
      "RMSE Score: 0.06639529050526519\n"
     ]
    }
   ],
   "source": [
    "print(\"MSE Score:\", mse)\n",
    "print(\"MAE Score:\", mae)\n",
    "print(\"R2 Score:\", r2)\n",
    "print(\"RMSE Score:\", rmse)"
   ]
  },
  {
   "cell_type": "code",
   "execution_count": 40,
   "id": "5f92e13e",
   "metadata": {
    "execution": {
     "iopub.execute_input": "2025-08-08T03:49:27.447570Z",
     "iopub.status.busy": "2025-08-08T03:49:27.447300Z",
     "iopub.status.idle": "2025-08-08T03:49:27.457733Z",
     "shell.execute_reply": "2025-08-08T03:49:27.456924Z"
    },
    "papermill": {
     "duration": 0.029389,
     "end_time": "2025-08-08T03:49:27.458759",
     "exception": false,
     "start_time": "2025-08-08T03:49:27.429370",
     "status": "completed"
    },
    "tags": []
   },
   "outputs": [
    {
     "name": "stdout",
     "output_type": "stream",
     "text": [
      "✨ New regression model added:\n",
      "   MSE: 0.004408, R²: 0.996382\n",
      "   Features: 27\n",
      "💾 Registry updated: Model_Training_History/History_Regression.csv\n"
     ]
    }
   ],
   "source": [
    "regression_params = {\n",
    "    'model_name': model_name_for_saving,\n",
    "    'scaler_name': \"StandardScaler\",\n",
    "    'features_list': feature_columns_for_saving,\n",
    "    'target_column': target_name_for_saving,\n",
    "    'mse': mse,\n",
    "    'mae': mae,\n",
    "    'rmse': rmse,\n",
    "    'r2': r2,\n",
    "    'parameters': json.dumps(training_model.get_params())\n",
    "}\n",
    "save_model_performance_if_better('regression', regression_params)"
   ]
  },
  {
   "cell_type": "markdown",
   "id": "84a5931b",
   "metadata": {
    "papermill": {
     "duration": 0.015084,
     "end_time": "2025-08-08T03:49:27.489535",
     "exception": false,
     "start_time": "2025-08-08T03:49:27.474451",
     "status": "completed"
    },
    "tags": []
   },
   "source": [
    "### Tuning with Grid Search"
   ]
  },
  {
   "cell_type": "code",
   "execution_count": 41,
   "id": "6eaa0dde",
   "metadata": {
    "execution": {
     "iopub.execute_input": "2025-08-08T03:49:27.520603Z",
     "iopub.status.busy": "2025-08-08T03:49:27.520371Z",
     "iopub.status.idle": "2025-08-08T03:49:27.524256Z",
     "shell.execute_reply": "2025-08-08T03:49:27.523511Z"
    },
    "papermill": {
     "duration": 0.020849,
     "end_time": "2025-08-08T03:49:27.525293",
     "exception": false,
     "start_time": "2025-08-08T03:49:27.504444",
     "status": "completed"
    },
    "tags": []
   },
   "outputs": [],
   "source": [
    "grid_param = {\n",
    "    'fit_intercept': [True, False],\n",
    "    'copy_X': [True, False],\n",
    "    'positive': [True, False]\n",
    "}"
   ]
  },
  {
   "cell_type": "code",
   "execution_count": 42,
   "id": "0a51edce",
   "metadata": {
    "execution": {
     "iopub.execute_input": "2025-08-08T03:49:27.557567Z",
     "iopub.status.busy": "2025-08-08T03:49:27.557304Z",
     "iopub.status.idle": "2025-08-08T03:49:27.561274Z",
     "shell.execute_reply": "2025-08-08T03:49:27.560611Z"
    },
    "papermill": {
     "duration": 0.021433,
     "end_time": "2025-08-08T03:49:27.562333",
     "exception": false,
     "start_time": "2025-08-08T03:49:27.540900",
     "status": "completed"
    },
    "tags": []
   },
   "outputs": [],
   "source": [
    "grid_search = GridSearchCV(\n",
    "    LinearRegression(), \n",
    "    grid_param, \n",
    "    cv=5, \n",
    "    scoring='neg_mean_squared_error', \n",
    "    n_jobs=-1, # allow parallel processing, you cant use your own laptop while this runs\n",
    "    verbose=1\n",
    ")"
   ]
  },
  {
   "cell_type": "code",
   "execution_count": 43,
   "id": "35ba7695",
   "metadata": {
    "execution": {
     "iopub.execute_input": "2025-08-08T03:49:27.596477Z",
     "iopub.status.busy": "2025-08-08T03:49:27.596202Z",
     "iopub.status.idle": "2025-08-08T03:49:28.046546Z",
     "shell.execute_reply": "2025-08-08T03:49:28.045526Z"
    },
    "papermill": {
     "duration": 0.469336,
     "end_time": "2025-08-08T03:49:28.048344",
     "exception": false,
     "start_time": "2025-08-08T03:49:27.579008",
     "status": "completed"
    },
    "tags": []
   },
   "outputs": [
    {
     "name": "stdout",
     "output_type": "stream",
     "text": [
      "Starting hyperparameter tuning...\n",
      "Fitting 5 folds for each of 8 candidates, totalling 40 fits\n",
      "CPU times: user 65.3 ms, sys: 18.1 ms, total: 83.4 ms\n",
      "Wall time: 444 ms\n"
     ]
    },
    {
     "data": {
      "text/html": [
       "<style>#sk-container-id-6 {color: black;background-color: white;}#sk-container-id-6 pre{padding: 0;}#sk-container-id-6 div.sk-toggleable {background-color: white;}#sk-container-id-6 label.sk-toggleable__label {cursor: pointer;display: block;width: 100%;margin-bottom: 0;padding: 0.3em;box-sizing: border-box;text-align: center;}#sk-container-id-6 label.sk-toggleable__label-arrow:before {content: \"▸\";float: left;margin-right: 0.25em;color: #696969;}#sk-container-id-6 label.sk-toggleable__label-arrow:hover:before {color: black;}#sk-container-id-6 div.sk-estimator:hover label.sk-toggleable__label-arrow:before {color: black;}#sk-container-id-6 div.sk-toggleable__content {max-height: 0;max-width: 0;overflow: hidden;text-align: left;background-color: #f0f8ff;}#sk-container-id-6 div.sk-toggleable__content pre {margin: 0.2em;color: black;border-radius: 0.25em;background-color: #f0f8ff;}#sk-container-id-6 input.sk-toggleable__control:checked~div.sk-toggleable__content {max-height: 200px;max-width: 100%;overflow: auto;}#sk-container-id-6 input.sk-toggleable__control:checked~label.sk-toggleable__label-arrow:before {content: \"▾\";}#sk-container-id-6 div.sk-estimator input.sk-toggleable__control:checked~label.sk-toggleable__label {background-color: #d4ebff;}#sk-container-id-6 div.sk-label input.sk-toggleable__control:checked~label.sk-toggleable__label {background-color: #d4ebff;}#sk-container-id-6 input.sk-hidden--visually {border: 0;clip: rect(1px 1px 1px 1px);clip: rect(1px, 1px, 1px, 1px);height: 1px;margin: -1px;overflow: hidden;padding: 0;position: absolute;width: 1px;}#sk-container-id-6 div.sk-estimator {font-family: monospace;background-color: #f0f8ff;border: 1px dotted black;border-radius: 0.25em;box-sizing: border-box;margin-bottom: 0.5em;}#sk-container-id-6 div.sk-estimator:hover {background-color: #d4ebff;}#sk-container-id-6 div.sk-parallel-item::after {content: \"\";width: 100%;border-bottom: 1px solid gray;flex-grow: 1;}#sk-container-id-6 div.sk-label:hover label.sk-toggleable__label {background-color: #d4ebff;}#sk-container-id-6 div.sk-serial::before {content: \"\";position: absolute;border-left: 1px solid gray;box-sizing: border-box;top: 0;bottom: 0;left: 50%;z-index: 0;}#sk-container-id-6 div.sk-serial {display: flex;flex-direction: column;align-items: center;background-color: white;padding-right: 0.2em;padding-left: 0.2em;position: relative;}#sk-container-id-6 div.sk-item {position: relative;z-index: 1;}#sk-container-id-6 div.sk-parallel {display: flex;align-items: stretch;justify-content: center;background-color: white;position: relative;}#sk-container-id-6 div.sk-item::before, #sk-container-id-6 div.sk-parallel-item::before {content: \"\";position: absolute;border-left: 1px solid gray;box-sizing: border-box;top: 0;bottom: 0;left: 50%;z-index: -1;}#sk-container-id-6 div.sk-parallel-item {display: flex;flex-direction: column;z-index: 1;position: relative;background-color: white;}#sk-container-id-6 div.sk-parallel-item:first-child::after {align-self: flex-end;width: 50%;}#sk-container-id-6 div.sk-parallel-item:last-child::after {align-self: flex-start;width: 50%;}#sk-container-id-6 div.sk-parallel-item:only-child::after {width: 0;}#sk-container-id-6 div.sk-dashed-wrapped {border: 1px dashed gray;margin: 0 0.4em 0.5em 0.4em;box-sizing: border-box;padding-bottom: 0.4em;background-color: white;}#sk-container-id-6 div.sk-label label {font-family: monospace;font-weight: bold;display: inline-block;line-height: 1.2em;}#sk-container-id-6 div.sk-label-container {text-align: center;}#sk-container-id-6 div.sk-container {/* jupyter's `normalize.less` sets `[hidden] { display: none; }` but bootstrap.min.css set `[hidden] { display: none !important; }` so we also need the `!important` here to be able to override the default hidden behavior on the sphinx rendered scikit-learn.org. See: https://github.com/scikit-learn/scikit-learn/issues/21755 */display: inline-block !important;position: relative;}#sk-container-id-6 div.sk-text-repr-fallback {display: none;}</style><div id=\"sk-container-id-6\" class=\"sk-top-container\"><div class=\"sk-text-repr-fallback\"><pre>GridSearchCV(cv=5, estimator=LinearRegression(), n_jobs=-1,\n",
       "             param_grid={&#x27;copy_X&#x27;: [True, False],\n",
       "                         &#x27;fit_intercept&#x27;: [True, False],\n",
       "                         &#x27;positive&#x27;: [True, False]},\n",
       "             scoring=&#x27;neg_mean_squared_error&#x27;, verbose=1)</pre><b>In a Jupyter environment, please rerun this cell to show the HTML representation or trust the notebook. <br />On GitHub, the HTML representation is unable to render, please try loading this page with nbviewer.org.</b></div><div class=\"sk-container\" hidden><div class=\"sk-item sk-dashed-wrapped\"><div class=\"sk-label-container\"><div class=\"sk-label sk-toggleable\"><input class=\"sk-toggleable__control sk-hidden--visually\" id=\"sk-estimator-id-8\" type=\"checkbox\" ><label for=\"sk-estimator-id-8\" class=\"sk-toggleable__label sk-toggleable__label-arrow\">GridSearchCV</label><div class=\"sk-toggleable__content\"><pre>GridSearchCV(cv=5, estimator=LinearRegression(), n_jobs=-1,\n",
       "             param_grid={&#x27;copy_X&#x27;: [True, False],\n",
       "                         &#x27;fit_intercept&#x27;: [True, False],\n",
       "                         &#x27;positive&#x27;: [True, False]},\n",
       "             scoring=&#x27;neg_mean_squared_error&#x27;, verbose=1)</pre></div></div></div><div class=\"sk-parallel\"><div class=\"sk-parallel-item\"><div class=\"sk-item\"><div class=\"sk-label-container\"><div class=\"sk-label sk-toggleable\"><input class=\"sk-toggleable__control sk-hidden--visually\" id=\"sk-estimator-id-9\" type=\"checkbox\" ><label for=\"sk-estimator-id-9\" class=\"sk-toggleable__label sk-toggleable__label-arrow\">estimator: LinearRegression</label><div class=\"sk-toggleable__content\"><pre>LinearRegression()</pre></div></div></div><div class=\"sk-serial\"><div class=\"sk-item\"><div class=\"sk-estimator sk-toggleable\"><input class=\"sk-toggleable__control sk-hidden--visually\" id=\"sk-estimator-id-10\" type=\"checkbox\" ><label for=\"sk-estimator-id-10\" class=\"sk-toggleable__label sk-toggleable__label-arrow\">LinearRegression</label><div class=\"sk-toggleable__content\"><pre>LinearRegression()</pre></div></div></div></div></div></div></div></div></div></div>"
      ],
      "text/plain": [
       "GridSearchCV(cv=5, estimator=LinearRegression(), n_jobs=-1,\n",
       "             param_grid={'copy_X': [True, False],\n",
       "                         'fit_intercept': [True, False],\n",
       "                         'positive': [True, False]},\n",
       "             scoring='neg_mean_squared_error', verbose=1)"
      ]
     },
     "execution_count": 43,
     "metadata": {},
     "output_type": "execute_result"
    }
   ],
   "source": [
    "%%time\n",
    "print(\"Starting hyperparameter tuning...\")\n",
    "grid_search.fit(X_train, y_train)"
   ]
  },
  {
   "cell_type": "code",
   "execution_count": 44,
   "id": "b6a536a8",
   "metadata": {
    "execution": {
     "iopub.execute_input": "2025-08-08T03:49:28.083651Z",
     "iopub.status.busy": "2025-08-08T03:49:28.083394Z",
     "iopub.status.idle": "2025-08-08T03:49:28.089076Z",
     "shell.execute_reply": "2025-08-08T03:49:28.088147Z"
    },
    "papermill": {
     "duration": 0.024487,
     "end_time": "2025-08-08T03:49:28.090195",
     "exception": false,
     "start_time": "2025-08-08T03:49:28.065708",
     "status": "completed"
    },
    "tags": []
   },
   "outputs": [
    {
     "name": "stdout",
     "output_type": "stream",
     "text": [
      "TUNING RESULTS\n",
      "==================================================\n",
      "Best Parameters: {'copy_X': True, 'fit_intercept': True, 'positive': True}\n",
      "Best Cross-Validation Score (Negative MSE): -0.004307522212558353\n",
      "Best Cross-Validation Score (MSE): 0.004307522212558353\n",
      "Best Cross-Validation Score (RMSE): 0.06563171651388033\n"
     ]
    }
   ],
   "source": [
    "print(\"TUNING RESULTS\")\n",
    "print(\"=\"*50)\n",
    "print(\"Best Parameters:\", grid_search.best_params_)\n",
    "print(\"Best Cross-Validation Score (Negative MSE):\", grid_search.best_score_)\n",
    "print(\"Best Cross-Validation Score (MSE):\", -grid_search.best_score_)\n",
    "print(\"Best Cross-Validation Score (RMSE):\", math.sqrt(-grid_search.best_score_))"
   ]
  },
  {
   "cell_type": "code",
   "execution_count": 45,
   "id": "c5f00369",
   "metadata": {
    "execution": {
     "iopub.execute_input": "2025-08-08T03:49:28.123055Z",
     "iopub.status.busy": "2025-08-08T03:49:28.122788Z",
     "iopub.status.idle": "2025-08-08T03:49:28.127127Z",
     "shell.execute_reply": "2025-08-08T03:49:28.126323Z"
    },
    "papermill": {
     "duration": 0.022081,
     "end_time": "2025-08-08T03:49:28.128287",
     "exception": false,
     "start_time": "2025-08-08T03:49:28.106206",
     "status": "completed"
    },
    "tags": []
   },
   "outputs": [],
   "source": [
    "grid_search_best_model = grid_search.best_estimator_\n",
    "y_pred = grid_search_best_model.predict(X_test)"
   ]
  },
  {
   "cell_type": "code",
   "execution_count": 46,
   "id": "1cb4a42b",
   "metadata": {
    "execution": {
     "iopub.execute_input": "2025-08-08T03:49:28.161183Z",
     "iopub.status.busy": "2025-08-08T03:49:28.160808Z",
     "iopub.status.idle": "2025-08-08T03:49:28.167709Z",
     "shell.execute_reply": "2025-08-08T03:49:28.166707Z"
    },
    "papermill": {
     "duration": 0.02484,
     "end_time": "2025-08-08T03:49:28.169330",
     "exception": false,
     "start_time": "2025-08-08T03:49:28.144490",
     "status": "completed"
    },
    "tags": []
   },
   "outputs": [],
   "source": [
    "mse_grid_search = mean_squared_error(y_test, y_pred)\n",
    "mae_grid_search = mean_absolute_error(y_test, y_pred)\n",
    "r2_grid_search = r2_score(y_test, y_pred)\n",
    "rmse_grid_search = math.sqrt(mse_grid_search)"
   ]
  },
  {
   "cell_type": "code",
   "execution_count": 47,
   "id": "b2315de8",
   "metadata": {
    "execution": {
     "iopub.execute_input": "2025-08-08T03:49:28.203454Z",
     "iopub.status.busy": "2025-08-08T03:49:28.203148Z",
     "iopub.status.idle": "2025-08-08T03:49:28.208066Z",
     "shell.execute_reply": "2025-08-08T03:49:28.207199Z"
    },
    "papermill": {
     "duration": 0.022984,
     "end_time": "2025-08-08T03:49:28.209151",
     "exception": false,
     "start_time": "2025-08-08T03:49:28.186167",
     "status": "completed"
    },
    "tags": []
   },
   "outputs": [
    {
     "name": "stdout",
     "output_type": "stream",
     "text": [
      "MSE Score: 0.0044122018168824845\n",
      "MAE Score: 0.04331406137695463\n",
      "R2 Score: 0.9963786819674982\n",
      "RMSE Score: 0.0664244067860789\n"
     ]
    }
   ],
   "source": [
    "print(\"MSE Score:\", mse_grid_search)\n",
    "print(\"MAE Score:\", mae_grid_search)\n",
    "print(\"R2 Score:\", r2_grid_search)\n",
    "print(\"RMSE Score:\", rmse_grid_search)"
   ]
  },
  {
   "cell_type": "code",
   "execution_count": 48,
   "id": "681ae34d",
   "metadata": {
    "execution": {
     "iopub.execute_input": "2025-08-08T03:49:28.242498Z",
     "iopub.status.busy": "2025-08-08T03:49:28.242224Z",
     "iopub.status.idle": "2025-08-08T03:49:28.252784Z",
     "shell.execute_reply": "2025-08-08T03:49:28.251830Z"
    },
    "papermill": {
     "duration": 0.028691,
     "end_time": "2025-08-08T03:49:28.254100",
     "exception": false,
     "start_time": "2025-08-08T03:49:28.225409",
     "status": "completed"
    },
    "tags": []
   },
   "outputs": [
    {
     "name": "stdout",
     "output_type": "stream",
     "text": [
      "✨ New regression model added:\n",
      "   MSE: 0.004412, R²: 0.996379\n",
      "   Features: 27\n",
      "💾 Registry updated: Model_Training_History/History_Regression.csv\n"
     ]
    }
   ],
   "source": [
    "regression_params = {\n",
    "    'model_name': model_name_for_saving + \" Tuned\",\n",
    "    'scaler_name': \"StandardScaler\",\n",
    "    'features_list': feature_columns_for_saving,\n",
    "    'target_column': target_name_for_saving,\n",
    "    'mse': mse_grid_search,\n",
    "    'mae': mae_grid_search,\n",
    "    'rmse': rmse_grid_search,\n",
    "    'r2': r2_grid_search,\n",
    "    'parameters' : json.dumps({\n",
    "        \"best_params\": grid_search.best_params_,\n",
    "        \"cv_score\": grid_search.best_score_,\n",
    "        \"all_params\": grid_search_best_model.get_params()\n",
    "    })\n",
    "}\n",
    "save_model_performance_if_better('regression', regression_params)"
   ]
  },
  {
   "cell_type": "markdown",
   "id": "51250451",
   "metadata": {
    "papermill": {
     "duration": 0.016179,
     "end_time": "2025-08-08T03:49:28.287419",
     "exception": false,
     "start_time": "2025-08-08T03:49:28.271240",
     "status": "completed"
    },
    "tags": []
   },
   "source": [
    "## Robust Scaler"
   ]
  },
  {
   "cell_type": "code",
   "execution_count": 49,
   "id": "25cf01b1",
   "metadata": {
    "execution": {
     "iopub.execute_input": "2025-08-08T03:49:28.321944Z",
     "iopub.status.busy": "2025-08-08T03:49:28.321674Z",
     "iopub.status.idle": "2025-08-08T03:49:28.348294Z",
     "shell.execute_reply": "2025-08-08T03:49:28.347127Z"
    },
    "papermill": {
     "duration": 0.04572,
     "end_time": "2025-08-08T03:49:28.349818",
     "exception": false,
     "start_time": "2025-08-08T03:49:28.304098",
     "status": "completed"
    },
    "tags": []
   },
   "outputs": [],
   "source": [
    "scaler = RobustScaler()\n",
    "X_train = scaler.fit_transform(X_train_raw)\n",
    "X_test = scaler.transform(X_test_raw)"
   ]
  },
  {
   "cell_type": "code",
   "execution_count": 50,
   "id": "7f56b69f",
   "metadata": {
    "execution": {
     "iopub.execute_input": "2025-08-08T03:49:28.385158Z",
     "iopub.status.busy": "2025-08-08T03:49:28.384831Z",
     "iopub.status.idle": "2025-08-08T03:49:28.390727Z",
     "shell.execute_reply": "2025-08-08T03:49:28.389924Z"
    },
    "papermill": {
     "duration": 0.026049,
     "end_time": "2025-08-08T03:49:28.392154",
     "exception": false,
     "start_time": "2025-08-08T03:49:28.366105",
     "status": "completed"
    },
    "tags": []
   },
   "outputs": [
    {
     "data": {
      "text/plain": [
       "array([[ 0.6       ,  0.66666667, -0.16666667, ..., -0.03738547,\n",
       "         1.44008264,  8.87596899],\n",
       "       [ 1.        , -0.46666667,  0.33333333, ..., -0.84268652,\n",
       "         0.62603306,  0.        ],\n",
       "       [-0.8       , -0.13333333, -1.        , ..., -0.84268652,\n",
       "         0.        ,  0.        ],\n",
       "       ...,\n",
       "       [ 0.4       ,  0.73333333, -0.16666667, ...,  0.5899051 ,\n",
       "         0.6322314 ,  0.75193798],\n",
       "       [-1.        , -0.2       ,  0.75      , ..., -0.84268652,\n",
       "         0.        ,  0.        ],\n",
       "       [ 0.6       , -0.46666667, -0.33333333, ...,  0.61755563,\n",
       "         0.59917355,  7.5       ]])"
      ]
     },
     "execution_count": 50,
     "metadata": {},
     "output_type": "execute_result"
    }
   ],
   "source": [
    "X_train"
   ]
  },
  {
   "cell_type": "code",
   "execution_count": 51,
   "id": "2e960510",
   "metadata": {
    "execution": {
     "iopub.execute_input": "2025-08-08T03:49:28.426894Z",
     "iopub.status.busy": "2025-08-08T03:49:28.426280Z",
     "iopub.status.idle": "2025-08-08T03:49:28.431655Z",
     "shell.execute_reply": "2025-08-08T03:49:28.430583Z"
    },
    "papermill": {
     "duration": 0.024243,
     "end_time": "2025-08-08T03:49:28.432918",
     "exception": false,
     "start_time": "2025-08-08T03:49:28.408675",
     "status": "completed"
    },
    "tags": []
   },
   "outputs": [
    {
     "data": {
      "text/plain": [
       "array([[ 4.00000000e-01, -8.66666667e-01,  8.33333333e-01, ...,\n",
       "         6.20009817e-01,  0.00000000e+00,  0.00000000e+00],\n",
       "       [ 0.00000000e+00, -4.66666667e-01,  2.50000000e-01, ...,\n",
       "         7.40592277e-01,  1.52892562e-01,  0.00000000e+00],\n",
       "       [ 4.00000000e-01, -9.33333333e-01, -5.83333333e-01, ...,\n",
       "         7.82804319e-01,  0.00000000e+00,  0.00000000e+00],\n",
       "       ...,\n",
       "       [-8.00000000e-01, -6.00000000e-01,  4.16666667e-01, ...,\n",
       "        -8.40559555e-01,  4.19421488e-01,  0.00000000e+00],\n",
       "       [-4.00000000e-01, -7.33333333e-01,  6.66666667e-01, ...,\n",
       "        -8.42686518e-01,  0.00000000e+00,  6.67829457e+00],\n",
       "       [ 0.00000000e+00,  4.66666667e-01,  8.33333333e-01, ...,\n",
       "         1.71793194e-03,  0.00000000e+00,  0.00000000e+00]])"
      ]
     },
     "execution_count": 51,
     "metadata": {},
     "output_type": "execute_result"
    }
   ],
   "source": [
    "X_test"
   ]
  },
  {
   "cell_type": "markdown",
   "id": "b22e0cf7",
   "metadata": {
    "papermill": {
     "duration": 0.017815,
     "end_time": "2025-08-08T03:49:28.467283",
     "exception": false,
     "start_time": "2025-08-08T03:49:28.449468",
     "status": "completed"
    },
    "tags": []
   },
   "source": [
    "### Default Parameters"
   ]
  },
  {
   "cell_type": "code",
   "execution_count": 52,
   "id": "032e72e0",
   "metadata": {
    "execution": {
     "iopub.execute_input": "2025-08-08T03:49:28.502215Z",
     "iopub.status.busy": "2025-08-08T03:49:28.501925Z",
     "iopub.status.idle": "2025-08-08T03:49:28.507597Z",
     "shell.execute_reply": "2025-08-08T03:49:28.506748Z"
    },
    "papermill": {
     "duration": 0.024551,
     "end_time": "2025-08-08T03:49:28.508936",
     "exception": false,
     "start_time": "2025-08-08T03:49:28.484385",
     "status": "completed"
    },
    "tags": []
   },
   "outputs": [
    {
     "data": {
      "text/html": [
       "<style>#sk-container-id-7 {color: black;background-color: white;}#sk-container-id-7 pre{padding: 0;}#sk-container-id-7 div.sk-toggleable {background-color: white;}#sk-container-id-7 label.sk-toggleable__label {cursor: pointer;display: block;width: 100%;margin-bottom: 0;padding: 0.3em;box-sizing: border-box;text-align: center;}#sk-container-id-7 label.sk-toggleable__label-arrow:before {content: \"▸\";float: left;margin-right: 0.25em;color: #696969;}#sk-container-id-7 label.sk-toggleable__label-arrow:hover:before {color: black;}#sk-container-id-7 div.sk-estimator:hover label.sk-toggleable__label-arrow:before {color: black;}#sk-container-id-7 div.sk-toggleable__content {max-height: 0;max-width: 0;overflow: hidden;text-align: left;background-color: #f0f8ff;}#sk-container-id-7 div.sk-toggleable__content pre {margin: 0.2em;color: black;border-radius: 0.25em;background-color: #f0f8ff;}#sk-container-id-7 input.sk-toggleable__control:checked~div.sk-toggleable__content {max-height: 200px;max-width: 100%;overflow: auto;}#sk-container-id-7 input.sk-toggleable__control:checked~label.sk-toggleable__label-arrow:before {content: \"▾\";}#sk-container-id-7 div.sk-estimator input.sk-toggleable__control:checked~label.sk-toggleable__label {background-color: #d4ebff;}#sk-container-id-7 div.sk-label input.sk-toggleable__control:checked~label.sk-toggleable__label {background-color: #d4ebff;}#sk-container-id-7 input.sk-hidden--visually {border: 0;clip: rect(1px 1px 1px 1px);clip: rect(1px, 1px, 1px, 1px);height: 1px;margin: -1px;overflow: hidden;padding: 0;position: absolute;width: 1px;}#sk-container-id-7 div.sk-estimator {font-family: monospace;background-color: #f0f8ff;border: 1px dotted black;border-radius: 0.25em;box-sizing: border-box;margin-bottom: 0.5em;}#sk-container-id-7 div.sk-estimator:hover {background-color: #d4ebff;}#sk-container-id-7 div.sk-parallel-item::after {content: \"\";width: 100%;border-bottom: 1px solid gray;flex-grow: 1;}#sk-container-id-7 div.sk-label:hover label.sk-toggleable__label {background-color: #d4ebff;}#sk-container-id-7 div.sk-serial::before {content: \"\";position: absolute;border-left: 1px solid gray;box-sizing: border-box;top: 0;bottom: 0;left: 50%;z-index: 0;}#sk-container-id-7 div.sk-serial {display: flex;flex-direction: column;align-items: center;background-color: white;padding-right: 0.2em;padding-left: 0.2em;position: relative;}#sk-container-id-7 div.sk-item {position: relative;z-index: 1;}#sk-container-id-7 div.sk-parallel {display: flex;align-items: stretch;justify-content: center;background-color: white;position: relative;}#sk-container-id-7 div.sk-item::before, #sk-container-id-7 div.sk-parallel-item::before {content: \"\";position: absolute;border-left: 1px solid gray;box-sizing: border-box;top: 0;bottom: 0;left: 50%;z-index: -1;}#sk-container-id-7 div.sk-parallel-item {display: flex;flex-direction: column;z-index: 1;position: relative;background-color: white;}#sk-container-id-7 div.sk-parallel-item:first-child::after {align-self: flex-end;width: 50%;}#sk-container-id-7 div.sk-parallel-item:last-child::after {align-self: flex-start;width: 50%;}#sk-container-id-7 div.sk-parallel-item:only-child::after {width: 0;}#sk-container-id-7 div.sk-dashed-wrapped {border: 1px dashed gray;margin: 0 0.4em 0.5em 0.4em;box-sizing: border-box;padding-bottom: 0.4em;background-color: white;}#sk-container-id-7 div.sk-label label {font-family: monospace;font-weight: bold;display: inline-block;line-height: 1.2em;}#sk-container-id-7 div.sk-label-container {text-align: center;}#sk-container-id-7 div.sk-container {/* jupyter's `normalize.less` sets `[hidden] { display: none; }` but bootstrap.min.css set `[hidden] { display: none !important; }` so we also need the `!important` here to be able to override the default hidden behavior on the sphinx rendered scikit-learn.org. See: https://github.com/scikit-learn/scikit-learn/issues/21755 */display: inline-block !important;position: relative;}#sk-container-id-7 div.sk-text-repr-fallback {display: none;}</style><div id=\"sk-container-id-7\" class=\"sk-top-container\"><div class=\"sk-text-repr-fallback\"><pre>LinearRegression()</pre><b>In a Jupyter environment, please rerun this cell to show the HTML representation or trust the notebook. <br />On GitHub, the HTML representation is unable to render, please try loading this page with nbviewer.org.</b></div><div class=\"sk-container\" hidden><div class=\"sk-item\"><div class=\"sk-estimator sk-toggleable\"><input class=\"sk-toggleable__control sk-hidden--visually\" id=\"sk-estimator-id-11\" type=\"checkbox\" checked><label for=\"sk-estimator-id-11\" class=\"sk-toggleable__label sk-toggleable__label-arrow\">LinearRegression</label><div class=\"sk-toggleable__content\"><pre>LinearRegression()</pre></div></div></div></div></div>"
      ],
      "text/plain": [
       "LinearRegression()"
      ]
     },
     "execution_count": 52,
     "metadata": {},
     "output_type": "execute_result"
    }
   ],
   "source": [
    "training_model = LinearRegression()\n",
    "training_model"
   ]
  },
  {
   "cell_type": "code",
   "execution_count": 53,
   "id": "b847dc7c",
   "metadata": {
    "execution": {
     "iopub.execute_input": "2025-08-08T03:49:28.545003Z",
     "iopub.status.busy": "2025-08-08T03:49:28.544074Z",
     "iopub.status.idle": "2025-08-08T03:49:28.570077Z",
     "shell.execute_reply": "2025-08-08T03:49:28.568150Z"
    },
    "papermill": {
     "duration": 0.045003,
     "end_time": "2025-08-08T03:49:28.571230",
     "exception": false,
     "start_time": "2025-08-08T03:49:28.526227",
     "status": "completed"
    },
    "tags": []
   },
   "outputs": [
    {
     "name": "stdout",
     "output_type": "stream",
     "text": [
      "CPU times: user 39.6 ms, sys: 6.91 ms, total: 46.5 ms\n",
      "Wall time: 18.9 ms\n"
     ]
    },
    {
     "data": {
      "text/html": [
       "<style>#sk-container-id-8 {color: black;background-color: white;}#sk-container-id-8 pre{padding: 0;}#sk-container-id-8 div.sk-toggleable {background-color: white;}#sk-container-id-8 label.sk-toggleable__label {cursor: pointer;display: block;width: 100%;margin-bottom: 0;padding: 0.3em;box-sizing: border-box;text-align: center;}#sk-container-id-8 label.sk-toggleable__label-arrow:before {content: \"▸\";float: left;margin-right: 0.25em;color: #696969;}#sk-container-id-8 label.sk-toggleable__label-arrow:hover:before {color: black;}#sk-container-id-8 div.sk-estimator:hover label.sk-toggleable__label-arrow:before {color: black;}#sk-container-id-8 div.sk-toggleable__content {max-height: 0;max-width: 0;overflow: hidden;text-align: left;background-color: #f0f8ff;}#sk-container-id-8 div.sk-toggleable__content pre {margin: 0.2em;color: black;border-radius: 0.25em;background-color: #f0f8ff;}#sk-container-id-8 input.sk-toggleable__control:checked~div.sk-toggleable__content {max-height: 200px;max-width: 100%;overflow: auto;}#sk-container-id-8 input.sk-toggleable__control:checked~label.sk-toggleable__label-arrow:before {content: \"▾\";}#sk-container-id-8 div.sk-estimator input.sk-toggleable__control:checked~label.sk-toggleable__label {background-color: #d4ebff;}#sk-container-id-8 div.sk-label input.sk-toggleable__control:checked~label.sk-toggleable__label {background-color: #d4ebff;}#sk-container-id-8 input.sk-hidden--visually {border: 0;clip: rect(1px 1px 1px 1px);clip: rect(1px, 1px, 1px, 1px);height: 1px;margin: -1px;overflow: hidden;padding: 0;position: absolute;width: 1px;}#sk-container-id-8 div.sk-estimator {font-family: monospace;background-color: #f0f8ff;border: 1px dotted black;border-radius: 0.25em;box-sizing: border-box;margin-bottom: 0.5em;}#sk-container-id-8 div.sk-estimator:hover {background-color: #d4ebff;}#sk-container-id-8 div.sk-parallel-item::after {content: \"\";width: 100%;border-bottom: 1px solid gray;flex-grow: 1;}#sk-container-id-8 div.sk-label:hover label.sk-toggleable__label {background-color: #d4ebff;}#sk-container-id-8 div.sk-serial::before {content: \"\";position: absolute;border-left: 1px solid gray;box-sizing: border-box;top: 0;bottom: 0;left: 50%;z-index: 0;}#sk-container-id-8 div.sk-serial {display: flex;flex-direction: column;align-items: center;background-color: white;padding-right: 0.2em;padding-left: 0.2em;position: relative;}#sk-container-id-8 div.sk-item {position: relative;z-index: 1;}#sk-container-id-8 div.sk-parallel {display: flex;align-items: stretch;justify-content: center;background-color: white;position: relative;}#sk-container-id-8 div.sk-item::before, #sk-container-id-8 div.sk-parallel-item::before {content: \"\";position: absolute;border-left: 1px solid gray;box-sizing: border-box;top: 0;bottom: 0;left: 50%;z-index: -1;}#sk-container-id-8 div.sk-parallel-item {display: flex;flex-direction: column;z-index: 1;position: relative;background-color: white;}#sk-container-id-8 div.sk-parallel-item:first-child::after {align-self: flex-end;width: 50%;}#sk-container-id-8 div.sk-parallel-item:last-child::after {align-self: flex-start;width: 50%;}#sk-container-id-8 div.sk-parallel-item:only-child::after {width: 0;}#sk-container-id-8 div.sk-dashed-wrapped {border: 1px dashed gray;margin: 0 0.4em 0.5em 0.4em;box-sizing: border-box;padding-bottom: 0.4em;background-color: white;}#sk-container-id-8 div.sk-label label {font-family: monospace;font-weight: bold;display: inline-block;line-height: 1.2em;}#sk-container-id-8 div.sk-label-container {text-align: center;}#sk-container-id-8 div.sk-container {/* jupyter's `normalize.less` sets `[hidden] { display: none; }` but bootstrap.min.css set `[hidden] { display: none !important; }` so we also need the `!important` here to be able to override the default hidden behavior on the sphinx rendered scikit-learn.org. See: https://github.com/scikit-learn/scikit-learn/issues/21755 */display: inline-block !important;position: relative;}#sk-container-id-8 div.sk-text-repr-fallback {display: none;}</style><div id=\"sk-container-id-8\" class=\"sk-top-container\"><div class=\"sk-text-repr-fallback\"><pre>LinearRegression()</pre><b>In a Jupyter environment, please rerun this cell to show the HTML representation or trust the notebook. <br />On GitHub, the HTML representation is unable to render, please try loading this page with nbviewer.org.</b></div><div class=\"sk-container\" hidden><div class=\"sk-item\"><div class=\"sk-estimator sk-toggleable\"><input class=\"sk-toggleable__control sk-hidden--visually\" id=\"sk-estimator-id-12\" type=\"checkbox\" checked><label for=\"sk-estimator-id-12\" class=\"sk-toggleable__label sk-toggleable__label-arrow\">LinearRegression</label><div class=\"sk-toggleable__content\"><pre>LinearRegression()</pre></div></div></div></div></div>"
      ],
      "text/plain": [
       "LinearRegression()"
      ]
     },
     "execution_count": 53,
     "metadata": {},
     "output_type": "execute_result"
    }
   ],
   "source": [
    "%%time\n",
    "training_model.fit(X_train, y_train)"
   ]
  },
  {
   "cell_type": "code",
   "execution_count": 54,
   "id": "94038114",
   "metadata": {
    "execution": {
     "iopub.execute_input": "2025-08-08T03:49:28.619098Z",
     "iopub.status.busy": "2025-08-08T03:49:28.618845Z",
     "iopub.status.idle": "2025-08-08T03:49:28.625569Z",
     "shell.execute_reply": "2025-08-08T03:49:28.625070Z"
    },
    "papermill": {
     "duration": 0.031751,
     "end_time": "2025-08-08T03:49:28.626567",
     "exception": false,
     "start_time": "2025-08-08T03:49:28.594816",
     "status": "completed"
    },
    "tags": []
   },
   "outputs": [
    {
     "data": {
      "text/plain": [
       "array([-0.00331985,  0.27087488, -0.00550962, ...,  0.74900393,\n",
       "        0.00563465, -0.0014496 ])"
      ]
     },
     "execution_count": 54,
     "metadata": {},
     "output_type": "execute_result"
    }
   ],
   "source": [
    "y_pred = training_model.predict(X_test)\n",
    "y_pred"
   ]
  },
  {
   "cell_type": "code",
   "execution_count": 55,
   "id": "39c2ef3c",
   "metadata": {
    "execution": {
     "iopub.execute_input": "2025-08-08T03:49:28.676327Z",
     "iopub.status.busy": "2025-08-08T03:49:28.675688Z",
     "iopub.status.idle": "2025-08-08T03:49:28.683811Z",
     "shell.execute_reply": "2025-08-08T03:49:28.683193Z"
    },
    "papermill": {
     "duration": 0.034116,
     "end_time": "2025-08-08T03:49:28.684861",
     "exception": false,
     "start_time": "2025-08-08T03:49:28.650745",
     "status": "completed"
    },
    "tags": []
   },
   "outputs": [
    {
     "data": {
      "text/plain": [
       "5158     0.00\n",
       "3831     0.36\n",
       "5117     0.00\n",
       "6326     2.70\n",
       "11359    0.49\n",
       "         ... \n",
       "10290    0.30\n",
       "13995    0.00\n",
       "9665     0.90\n",
       "2276     0.00\n",
       "4174     0.00\n",
       "Name: SolarEnergy, Length: 2924, dtype: float64"
      ]
     },
     "execution_count": 55,
     "metadata": {},
     "output_type": "execute_result"
    }
   ],
   "source": [
    "y_test"
   ]
  },
  {
   "cell_type": "code",
   "execution_count": 56,
   "id": "d804bfd0",
   "metadata": {
    "execution": {
     "iopub.execute_input": "2025-08-08T03:49:28.720488Z",
     "iopub.status.busy": "2025-08-08T03:49:28.720221Z",
     "iopub.status.idle": "2025-08-08T03:49:28.726565Z",
     "shell.execute_reply": "2025-08-08T03:49:28.725911Z"
    },
    "papermill": {
     "duration": 0.025494,
     "end_time": "2025-08-08T03:49:28.727733",
     "exception": false,
     "start_time": "2025-08-08T03:49:28.702239",
     "status": "completed"
    },
    "tags": []
   },
   "outputs": [],
   "source": [
    "mse = mean_squared_error(y_test, y_pred)\n",
    "mae = mean_absolute_error(y_test, y_pred)\n",
    "r2 = r2_score(y_test, y_pred)\n",
    "rmse = math.sqrt(mse)"
   ]
  },
  {
   "cell_type": "code",
   "execution_count": 57,
   "id": "fd2fe9c9",
   "metadata": {
    "execution": {
     "iopub.execute_input": "2025-08-08T03:49:28.762490Z",
     "iopub.status.busy": "2025-08-08T03:49:28.762208Z",
     "iopub.status.idle": "2025-08-08T03:49:28.766968Z",
     "shell.execute_reply": "2025-08-08T03:49:28.766164Z"
    },
    "papermill": {
     "duration": 0.023465,
     "end_time": "2025-08-08T03:49:28.768237",
     "exception": false,
     "start_time": "2025-08-08T03:49:28.744772",
     "status": "completed"
    },
    "tags": []
   },
   "outputs": [
    {
     "name": "stdout",
     "output_type": "stream",
     "text": [
      "MSE Score: 0.004408349815927755\n",
      "MAE Score: 0.04322665096651607\n",
      "R2 Score: 0.9963818435002425\n",
      "RMSE Score: 0.06639540508143432\n"
     ]
    }
   ],
   "source": [
    "print(\"MSE Score:\", mse)\n",
    "print(\"MAE Score:\", mae)\n",
    "print(\"R2 Score:\", r2)\n",
    "print(\"RMSE Score:\", rmse)"
   ]
  },
  {
   "cell_type": "code",
   "execution_count": 58,
   "id": "6dadc686",
   "metadata": {
    "execution": {
     "iopub.execute_input": "2025-08-08T03:49:28.804475Z",
     "iopub.status.busy": "2025-08-08T03:49:28.804216Z",
     "iopub.status.idle": "2025-08-08T03:49:28.814472Z",
     "shell.execute_reply": "2025-08-08T03:49:28.813215Z"
    },
    "papermill": {
     "duration": 0.029705,
     "end_time": "2025-08-08T03:49:28.815664",
     "exception": false,
     "start_time": "2025-08-08T03:49:28.785959",
     "status": "completed"
    },
    "tags": []
   },
   "outputs": [
    {
     "name": "stdout",
     "output_type": "stream",
     "text": [
      "✨ New regression model added:\n",
      "   MSE: 0.004408, R²: 0.996382\n",
      "   Features: 27\n",
      "💾 Registry updated: Model_Training_History/History_Regression.csv\n"
     ]
    }
   ],
   "source": [
    "regression_params = {\n",
    "    'model_name': model_name_for_saving,\n",
    "    'scaler_name': \"RobustScaler\",\n",
    "    'features_list': feature_columns_for_saving,\n",
    "    'target_column': target_name_for_saving,\n",
    "    'mse': mse,\n",
    "    'mae': mae,\n",
    "    'rmse': rmse,\n",
    "    'r2': r2,\n",
    "    'parameters': json.dumps(training_model.get_params())\n",
    "}\n",
    "save_model_performance_if_better('regression', regression_params)"
   ]
  },
  {
   "cell_type": "markdown",
   "id": "f57d505c",
   "metadata": {
    "papermill": {
     "duration": 0.017475,
     "end_time": "2025-08-08T03:49:28.851728",
     "exception": false,
     "start_time": "2025-08-08T03:49:28.834253",
     "status": "completed"
    },
    "tags": []
   },
   "source": [
    "### Tuning with Grid Search"
   ]
  },
  {
   "cell_type": "code",
   "execution_count": 59,
   "id": "684a59f4",
   "metadata": {
    "execution": {
     "iopub.execute_input": "2025-08-08T03:49:28.887674Z",
     "iopub.status.busy": "2025-08-08T03:49:28.887419Z",
     "iopub.status.idle": "2025-08-08T03:49:28.891938Z",
     "shell.execute_reply": "2025-08-08T03:49:28.891070Z"
    },
    "papermill": {
     "duration": 0.024259,
     "end_time": "2025-08-08T03:49:28.893593",
     "exception": false,
     "start_time": "2025-08-08T03:49:28.869334",
     "status": "completed"
    },
    "tags": []
   },
   "outputs": [],
   "source": [
    "grid_param = {\n",
    "    'fit_intercept': [True, False],\n",
    "    'copy_X': [True, False],\n",
    "    'positive': [True, False]\n",
    "}"
   ]
  },
  {
   "cell_type": "code",
   "execution_count": 60,
   "id": "eedae14d",
   "metadata": {
    "execution": {
     "iopub.execute_input": "2025-08-08T03:49:28.929373Z",
     "iopub.status.busy": "2025-08-08T03:49:28.929044Z",
     "iopub.status.idle": "2025-08-08T03:49:28.933338Z",
     "shell.execute_reply": "2025-08-08T03:49:28.932533Z"
    },
    "papermill": {
     "duration": 0.023514,
     "end_time": "2025-08-08T03:49:28.934611",
     "exception": false,
     "start_time": "2025-08-08T03:49:28.911097",
     "status": "completed"
    },
    "tags": []
   },
   "outputs": [],
   "source": [
    "grid_search = GridSearchCV(\n",
    "    LinearRegression(), \n",
    "    grid_param, \n",
    "    cv=5, \n",
    "    scoring='neg_mean_squared_error', \n",
    "    n_jobs=-1, # allow parallel processing, you cant use your own laptop while this runs\n",
    "    verbose=1\n",
    ")"
   ]
  },
  {
   "cell_type": "code",
   "execution_count": 61,
   "id": "f69367ee",
   "metadata": {
    "execution": {
     "iopub.execute_input": "2025-08-08T03:49:28.970970Z",
     "iopub.status.busy": "2025-08-08T03:49:28.970227Z",
     "iopub.status.idle": "2025-08-08T03:49:29.460338Z",
     "shell.execute_reply": "2025-08-08T03:49:29.459429Z"
    },
    "papermill": {
     "duration": 0.509335,
     "end_time": "2025-08-08T03:49:29.461565",
     "exception": false,
     "start_time": "2025-08-08T03:49:28.952230",
     "status": "completed"
    },
    "tags": []
   },
   "outputs": [
    {
     "name": "stdout",
     "output_type": "stream",
     "text": [
      "Starting hyperparameter tuning...\n",
      "Fitting 5 folds for each of 8 candidates, totalling 40 fits\n",
      "CPU times: user 65.5 ms, sys: 17.5 ms, total: 83 ms\n",
      "Wall time: 482 ms\n"
     ]
    },
    {
     "data": {
      "text/html": [
       "<style>#sk-container-id-9 {color: black;background-color: white;}#sk-container-id-9 pre{padding: 0;}#sk-container-id-9 div.sk-toggleable {background-color: white;}#sk-container-id-9 label.sk-toggleable__label {cursor: pointer;display: block;width: 100%;margin-bottom: 0;padding: 0.3em;box-sizing: border-box;text-align: center;}#sk-container-id-9 label.sk-toggleable__label-arrow:before {content: \"▸\";float: left;margin-right: 0.25em;color: #696969;}#sk-container-id-9 label.sk-toggleable__label-arrow:hover:before {color: black;}#sk-container-id-9 div.sk-estimator:hover label.sk-toggleable__label-arrow:before {color: black;}#sk-container-id-9 div.sk-toggleable__content {max-height: 0;max-width: 0;overflow: hidden;text-align: left;background-color: #f0f8ff;}#sk-container-id-9 div.sk-toggleable__content pre {margin: 0.2em;color: black;border-radius: 0.25em;background-color: #f0f8ff;}#sk-container-id-9 input.sk-toggleable__control:checked~div.sk-toggleable__content {max-height: 200px;max-width: 100%;overflow: auto;}#sk-container-id-9 input.sk-toggleable__control:checked~label.sk-toggleable__label-arrow:before {content: \"▾\";}#sk-container-id-9 div.sk-estimator input.sk-toggleable__control:checked~label.sk-toggleable__label {background-color: #d4ebff;}#sk-container-id-9 div.sk-label input.sk-toggleable__control:checked~label.sk-toggleable__label {background-color: #d4ebff;}#sk-container-id-9 input.sk-hidden--visually {border: 0;clip: rect(1px 1px 1px 1px);clip: rect(1px, 1px, 1px, 1px);height: 1px;margin: -1px;overflow: hidden;padding: 0;position: absolute;width: 1px;}#sk-container-id-9 div.sk-estimator {font-family: monospace;background-color: #f0f8ff;border: 1px dotted black;border-radius: 0.25em;box-sizing: border-box;margin-bottom: 0.5em;}#sk-container-id-9 div.sk-estimator:hover {background-color: #d4ebff;}#sk-container-id-9 div.sk-parallel-item::after {content: \"\";width: 100%;border-bottom: 1px solid gray;flex-grow: 1;}#sk-container-id-9 div.sk-label:hover label.sk-toggleable__label {background-color: #d4ebff;}#sk-container-id-9 div.sk-serial::before {content: \"\";position: absolute;border-left: 1px solid gray;box-sizing: border-box;top: 0;bottom: 0;left: 50%;z-index: 0;}#sk-container-id-9 div.sk-serial {display: flex;flex-direction: column;align-items: center;background-color: white;padding-right: 0.2em;padding-left: 0.2em;position: relative;}#sk-container-id-9 div.sk-item {position: relative;z-index: 1;}#sk-container-id-9 div.sk-parallel {display: flex;align-items: stretch;justify-content: center;background-color: white;position: relative;}#sk-container-id-9 div.sk-item::before, #sk-container-id-9 div.sk-parallel-item::before {content: \"\";position: absolute;border-left: 1px solid gray;box-sizing: border-box;top: 0;bottom: 0;left: 50%;z-index: -1;}#sk-container-id-9 div.sk-parallel-item {display: flex;flex-direction: column;z-index: 1;position: relative;background-color: white;}#sk-container-id-9 div.sk-parallel-item:first-child::after {align-self: flex-end;width: 50%;}#sk-container-id-9 div.sk-parallel-item:last-child::after {align-self: flex-start;width: 50%;}#sk-container-id-9 div.sk-parallel-item:only-child::after {width: 0;}#sk-container-id-9 div.sk-dashed-wrapped {border: 1px dashed gray;margin: 0 0.4em 0.5em 0.4em;box-sizing: border-box;padding-bottom: 0.4em;background-color: white;}#sk-container-id-9 div.sk-label label {font-family: monospace;font-weight: bold;display: inline-block;line-height: 1.2em;}#sk-container-id-9 div.sk-label-container {text-align: center;}#sk-container-id-9 div.sk-container {/* jupyter's `normalize.less` sets `[hidden] { display: none; }` but bootstrap.min.css set `[hidden] { display: none !important; }` so we also need the `!important` here to be able to override the default hidden behavior on the sphinx rendered scikit-learn.org. See: https://github.com/scikit-learn/scikit-learn/issues/21755 */display: inline-block !important;position: relative;}#sk-container-id-9 div.sk-text-repr-fallback {display: none;}</style><div id=\"sk-container-id-9\" class=\"sk-top-container\"><div class=\"sk-text-repr-fallback\"><pre>GridSearchCV(cv=5, estimator=LinearRegression(), n_jobs=-1,\n",
       "             param_grid={&#x27;copy_X&#x27;: [True, False],\n",
       "                         &#x27;fit_intercept&#x27;: [True, False],\n",
       "                         &#x27;positive&#x27;: [True, False]},\n",
       "             scoring=&#x27;neg_mean_squared_error&#x27;, verbose=1)</pre><b>In a Jupyter environment, please rerun this cell to show the HTML representation or trust the notebook. <br />On GitHub, the HTML representation is unable to render, please try loading this page with nbviewer.org.</b></div><div class=\"sk-container\" hidden><div class=\"sk-item sk-dashed-wrapped\"><div class=\"sk-label-container\"><div class=\"sk-label sk-toggleable\"><input class=\"sk-toggleable__control sk-hidden--visually\" id=\"sk-estimator-id-13\" type=\"checkbox\" ><label for=\"sk-estimator-id-13\" class=\"sk-toggleable__label sk-toggleable__label-arrow\">GridSearchCV</label><div class=\"sk-toggleable__content\"><pre>GridSearchCV(cv=5, estimator=LinearRegression(), n_jobs=-1,\n",
       "             param_grid={&#x27;copy_X&#x27;: [True, False],\n",
       "                         &#x27;fit_intercept&#x27;: [True, False],\n",
       "                         &#x27;positive&#x27;: [True, False]},\n",
       "             scoring=&#x27;neg_mean_squared_error&#x27;, verbose=1)</pre></div></div></div><div class=\"sk-parallel\"><div class=\"sk-parallel-item\"><div class=\"sk-item\"><div class=\"sk-label-container\"><div class=\"sk-label sk-toggleable\"><input class=\"sk-toggleable__control sk-hidden--visually\" id=\"sk-estimator-id-14\" type=\"checkbox\" ><label for=\"sk-estimator-id-14\" class=\"sk-toggleable__label sk-toggleable__label-arrow\">estimator: LinearRegression</label><div class=\"sk-toggleable__content\"><pre>LinearRegression()</pre></div></div></div><div class=\"sk-serial\"><div class=\"sk-item\"><div class=\"sk-estimator sk-toggleable\"><input class=\"sk-toggleable__control sk-hidden--visually\" id=\"sk-estimator-id-15\" type=\"checkbox\" ><label for=\"sk-estimator-id-15\" class=\"sk-toggleable__label sk-toggleable__label-arrow\">LinearRegression</label><div class=\"sk-toggleable__content\"><pre>LinearRegression()</pre></div></div></div></div></div></div></div></div></div></div>"
      ],
      "text/plain": [
       "GridSearchCV(cv=5, estimator=LinearRegression(), n_jobs=-1,\n",
       "             param_grid={'copy_X': [True, False],\n",
       "                         'fit_intercept': [True, False],\n",
       "                         'positive': [True, False]},\n",
       "             scoring='neg_mean_squared_error', verbose=1)"
      ]
     },
     "execution_count": 61,
     "metadata": {},
     "output_type": "execute_result"
    }
   ],
   "source": [
    "%%time\n",
    "print(\"Starting hyperparameter tuning...\")\n",
    "grid_search.fit(X_train, y_train)"
   ]
  },
  {
   "cell_type": "code",
   "execution_count": 62,
   "id": "6c7d43db",
   "metadata": {
    "execution": {
     "iopub.execute_input": "2025-08-08T03:49:29.498714Z",
     "iopub.status.busy": "2025-08-08T03:49:29.498438Z",
     "iopub.status.idle": "2025-08-08T03:49:29.502906Z",
     "shell.execute_reply": "2025-08-08T03:49:29.502158Z"
    },
    "papermill": {
     "duration": 0.024743,
     "end_time": "2025-08-08T03:49:29.504456",
     "exception": false,
     "start_time": "2025-08-08T03:49:29.479713",
     "status": "completed"
    },
    "tags": []
   },
   "outputs": [
    {
     "name": "stdout",
     "output_type": "stream",
     "text": [
      "TUNING RESULTS\n",
      "==================================================\n",
      "Best Parameters: {'copy_X': True, 'fit_intercept': True, 'positive': True}\n",
      "Best Cross-Validation Score (Negative MSE): -0.0043075222125583635\n",
      "Best Cross-Validation Score (MSE): 0.0043075222125583635\n",
      "Best Cross-Validation Score (RMSE): 0.06563171651388042\n"
     ]
    }
   ],
   "source": [
    "print(\"TUNING RESULTS\")\n",
    "print(\"=\"*50)\n",
    "print(\"Best Parameters:\", grid_search.best_params_)\n",
    "print(\"Best Cross-Validation Score (Negative MSE):\", grid_search.best_score_)\n",
    "print(\"Best Cross-Validation Score (MSE):\", -grid_search.best_score_)\n",
    "print(\"Best Cross-Validation Score (RMSE):\", math.sqrt(-grid_search.best_score_))"
   ]
  },
  {
   "cell_type": "code",
   "execution_count": 63,
   "id": "129abe2d",
   "metadata": {
    "execution": {
     "iopub.execute_input": "2025-08-08T03:49:29.540782Z",
     "iopub.status.busy": "2025-08-08T03:49:29.540517Z",
     "iopub.status.idle": "2025-08-08T03:49:29.544593Z",
     "shell.execute_reply": "2025-08-08T03:49:29.543954Z"
    },
    "papermill": {
     "duration": 0.023442,
     "end_time": "2025-08-08T03:49:29.545702",
     "exception": false,
     "start_time": "2025-08-08T03:49:29.522260",
     "status": "completed"
    },
    "tags": []
   },
   "outputs": [],
   "source": [
    "grid_search_best_model = grid_search.best_estimator_\n",
    "y_pred = grid_search_best_model.predict(X_test)"
   ]
  },
  {
   "cell_type": "code",
   "execution_count": 64,
   "id": "17e31f1f",
   "metadata": {
    "execution": {
     "iopub.execute_input": "2025-08-08T03:49:29.582438Z",
     "iopub.status.busy": "2025-08-08T03:49:29.581955Z",
     "iopub.status.idle": "2025-08-08T03:49:29.588350Z",
     "shell.execute_reply": "2025-08-08T03:49:29.587347Z"
    },
    "papermill": {
     "duration": 0.02653,
     "end_time": "2025-08-08T03:49:29.589969",
     "exception": false,
     "start_time": "2025-08-08T03:49:29.563439",
     "status": "completed"
    },
    "tags": []
   },
   "outputs": [],
   "source": [
    "mse_grid_search = mean_squared_error(y_test, y_pred)\n",
    "mae_grid_search = mean_absolute_error(y_test, y_pred)\n",
    "r2_grid_search = r2_score(y_test, y_pred)\n",
    "rmse_grid_search = math.sqrt(mse_grid_search)"
   ]
  },
  {
   "cell_type": "code",
   "execution_count": 65,
   "id": "ebe610c7",
   "metadata": {
    "execution": {
     "iopub.execute_input": "2025-08-08T03:49:29.627211Z",
     "iopub.status.busy": "2025-08-08T03:49:29.626912Z",
     "iopub.status.idle": "2025-08-08T03:49:29.631670Z",
     "shell.execute_reply": "2025-08-08T03:49:29.630637Z"
    },
    "papermill": {
     "duration": 0.024927,
     "end_time": "2025-08-08T03:49:29.633179",
     "exception": false,
     "start_time": "2025-08-08T03:49:29.608252",
     "status": "completed"
    },
    "tags": []
   },
   "outputs": [
    {
     "name": "stdout",
     "output_type": "stream",
     "text": [
      "MSE Score: 0.004412201816882487\n",
      "MAE Score: 0.04331406137695455\n",
      "R2 Score: 0.9963786819674982\n",
      "RMSE Score: 0.06642440678607892\n"
     ]
    }
   ],
   "source": [
    "print(\"MSE Score:\", mse_grid_search)\n",
    "print(\"MAE Score:\", mae_grid_search)\n",
    "print(\"R2 Score:\", r2_grid_search)\n",
    "print(\"RMSE Score:\", rmse_grid_search)"
   ]
  },
  {
   "cell_type": "code",
   "execution_count": 66,
   "id": "10d40c16",
   "metadata": {
    "execution": {
     "iopub.execute_input": "2025-08-08T03:49:29.670034Z",
     "iopub.status.busy": "2025-08-08T03:49:29.669680Z",
     "iopub.status.idle": "2025-08-08T03:49:29.679223Z",
     "shell.execute_reply": "2025-08-08T03:49:29.678284Z"
    },
    "papermill": {
     "duration": 0.028877,
     "end_time": "2025-08-08T03:49:29.680323",
     "exception": false,
     "start_time": "2025-08-08T03:49:29.651446",
     "status": "completed"
    },
    "tags": []
   },
   "outputs": [
    {
     "name": "stdout",
     "output_type": "stream",
     "text": [
      "✨ New regression model added:\n",
      "   MSE: 0.004412, R²: 0.996379\n",
      "   Features: 27\n",
      "💾 Registry updated: Model_Training_History/History_Regression.csv\n"
     ]
    }
   ],
   "source": [
    "regression_params = {\n",
    "    'model_name': model_name_for_saving + \" Tuned\",\n",
    "    'scaler_name': \"RobustScaler\",\n",
    "    'features_list': feature_columns_for_saving,\n",
    "    'target_column': target_name_for_saving,\n",
    "    'mse': mse_grid_search,\n",
    "    'mae': mae_grid_search,\n",
    "    'rmse': rmse_grid_search,\n",
    "    'r2': r2_grid_search,\n",
    "    'parameters' : json.dumps({\n",
    "        \"best_params\": grid_search.best_params_,\n",
    "        \"cv_score\": grid_search.best_score_,\n",
    "        \"all_params\": grid_search_best_model.get_params()\n",
    "    })\n",
    "}\n",
    "save_model_performance_if_better('regression', regression_params)"
   ]
  },
  {
   "cell_type": "markdown",
   "id": "e70f118b",
   "metadata": {
    "papermill": {
     "duration": 0.017057,
     "end_time": "2025-08-08T03:49:29.715266",
     "exception": false,
     "start_time": "2025-08-08T03:49:29.698209",
     "status": "completed"
    },
    "tags": []
   },
   "source": [
    "# Selected Features"
   ]
  },
  {
   "cell_type": "code",
   "execution_count": 67,
   "id": "d64f9fdf",
   "metadata": {
    "execution": {
     "iopub.execute_input": "2025-08-08T03:49:29.750396Z",
     "iopub.status.busy": "2025-08-08T03:49:29.750101Z",
     "iopub.status.idle": "2025-08-08T03:49:29.789581Z",
     "shell.execute_reply": "2025-08-08T03:49:29.788674Z"
    },
    "papermill": {
     "duration": 0.058565,
     "end_time": "2025-08-08T03:49:29.790812",
     "exception": false,
     "start_time": "2025-08-08T03:49:29.732247",
     "status": "completed"
    },
    "tags": []
   },
   "outputs": [
    {
     "name": "stdout",
     "output_type": "stream",
     "text": [
      "SolarEnergy                  1.000000\n",
      "SolarRadiation               0.999867\n",
      "UVIndex                      0.998178\n",
      "DaySegments_Midday           0.594829\n",
      "Temp                         0.400703\n",
      "FeelsLike                    0.344667\n",
      "DaySegments_Morning          0.243917\n",
      "WindSpeed                    0.216874\n",
      "DaySegments_Afternoon        0.216045\n",
      "WindDir                      0.181173\n",
      "SevereRisk                   0.125741\n",
      "Hour                         0.095805\n",
      "Season_Summer                0.093686\n",
      "Visibility                   0.054855\n",
      "SeaLevelPressure             0.026544\n",
      "Year                         0.022062\n",
      "Dew                          0.014013\n",
      "Day                         -0.001489\n",
      "PrecipProb                  -0.013347\n",
      "Season_Rainy                -0.032901\n",
      "Season_Autumn               -0.035246\n",
      "Season_Winter               -0.035617\n",
      "Precip                      -0.039120\n",
      "CloudCover                  -0.055435\n",
      "Month                       -0.061170\n",
      "Windgust                    -0.100191\n",
      "DaySegments_Early Morning   -0.187977\n",
      "DaySegments_Evening         -0.205810\n",
      "DaySegments_Night           -0.252346\n",
      "DaySegments_Late Night      -0.427175\n",
      "Humidity                    -0.452691\n",
      "Name: SolarEnergy, dtype: float64\n"
     ]
    }
   ],
   "source": [
    "numeric_cols = weather_data.select_dtypes(include=[float, int]).columns\n",
    "correlations = weather_data[numeric_cols].corr()['SolarEnergy'].sort_values(ascending=False)\n",
    "print(correlations)"
   ]
  },
  {
   "cell_type": "code",
   "execution_count": 68,
   "id": "f6d8b59f",
   "metadata": {
    "execution": {
     "iopub.execute_input": "2025-08-08T03:49:29.827010Z",
     "iopub.status.busy": "2025-08-08T03:49:29.826484Z",
     "iopub.status.idle": "2025-08-08T03:49:29.838092Z",
     "shell.execute_reply": "2025-08-08T03:49:29.837003Z"
    },
    "papermill": {
     "duration": 0.030433,
     "end_time": "2025-08-08T03:49:29.839168",
     "exception": false,
     "start_time": "2025-08-08T03:49:29.808735",
     "status": "completed"
    },
    "tags": []
   },
   "outputs": [
    {
     "name": "stdout",
     "output_type": "stream",
     "text": [
      "<class 'pandas.core.frame.DataFrame'>\n",
      "RangeIndex: 14616 entries, 0 to 14615\n",
      "Data columns (total 36 columns):\n",
      " #   Column                     Non-Null Count  Dtype         \n",
      "---  ------                     --------------  -----         \n",
      " 0   DateTime                   14616 non-null  datetime64[ns]\n",
      " 1   Year                       14616 non-null  int64         \n",
      " 2   Month                      14616 non-null  int64         \n",
      " 3   Day                        14616 non-null  int64         \n",
      " 4   Hour                       14616 non-null  int64         \n",
      " 5   DaySegments                14616 non-null  object        \n",
      " 6   DaySegments_Afternoon      14616 non-null  int64         \n",
      " 7   DaySegments_Early Morning  14616 non-null  int64         \n",
      " 8   DaySegments_Evening        14616 non-null  int64         \n",
      " 9   DaySegments_Late Night     14616 non-null  int64         \n",
      " 10  DaySegments_Midday         14616 non-null  int64         \n",
      " 11  DaySegments_Morning        14616 non-null  int64         \n",
      " 12  DaySegments_Night          14616 non-null  int64         \n",
      " 13  Season_Autumn              14616 non-null  int64         \n",
      " 14  Season_Rainy               14616 non-null  int64         \n",
      " 15  Season_Summer              14616 non-null  int64         \n",
      " 16  Season_Winter              14616 non-null  int64         \n",
      " 17  Season                     14616 non-null  object        \n",
      " 18  Temp                       14616 non-null  float64       \n",
      " 19  FeelsLike                  14616 non-null  float64       \n",
      " 20  Dew                        14616 non-null  float64       \n",
      " 21  Humidity                   14616 non-null  float64       \n",
      " 22  Precip                     14616 non-null  float64       \n",
      " 23  PrecipProb                 14616 non-null  float64       \n",
      " 24  Windgust                   14616 non-null  float64       \n",
      " 25  WindSpeed                  14616 non-null  float64       \n",
      " 26  WindDir                    14616 non-null  float64       \n",
      " 27  SeaLevelPressure           14616 non-null  float64       \n",
      " 28  CloudCover                 14616 non-null  float64       \n",
      " 29  UVIndex                    14616 non-null  float64       \n",
      " 30  SevereRisk                 14616 non-null  float64       \n",
      " 31  Visibility                 14616 non-null  float64       \n",
      " 32  SolarRadiation             14616 non-null  float64       \n",
      " 33  SolarEnergy                14616 non-null  float64       \n",
      " 34  Conditions                 14616 non-null  object        \n",
      " 35  Icon                       14616 non-null  object        \n",
      "dtypes: datetime64[ns](1), float64(16), int64(15), object(4)\n",
      "memory usage: 4.0+ MB\n"
     ]
    }
   ],
   "source": [
    "weather_data.info()"
   ]
  },
  {
   "cell_type": "markdown",
   "id": "a22d4f27",
   "metadata": {
    "papermill": {
     "duration": 0.016986,
     "end_time": "2025-08-08T03:49:29.873981",
     "exception": false,
     "start_time": "2025-08-08T03:49:29.856995",
     "status": "completed"
    },
    "tags": []
   },
   "source": [
    "## Run Again"
   ]
  },
  {
   "cell_type": "code",
   "execution_count": 69,
   "id": "54e6d973",
   "metadata": {
    "execution": {
     "iopub.execute_input": "2025-08-08T03:49:29.910425Z",
     "iopub.status.busy": "2025-08-08T03:49:29.909703Z",
     "iopub.status.idle": "2025-08-08T03:49:29.914732Z",
     "shell.execute_reply": "2025-08-08T03:49:29.914141Z"
    },
    "papermill": {
     "duration": 0.024112,
     "end_time": "2025-08-08T03:49:29.915654",
     "exception": false,
     "start_time": "2025-08-08T03:49:29.891542",
     "status": "completed"
    },
    "tags": []
   },
   "outputs": [],
   "source": [
    "X_train_raw = weather_data_train.drop(columns=['DateTime', # Model cannot use DateTime as a feature\n",
    "                                                'Year', # No Effect on weather data\n",
    "                                                'Season', # Season is categorical, not numerical\n",
    "                                                'DaySegments', # DaySegments is categorical, not numerical\n",
    "                                                'Visibility',  # Target variable\n",
    "                                                'SolarRadiation', # Target variable\n",
    "                                                'SolarEnergy', # Target variable\n",
    "                                                'Conditions', # Target variable\n",
    "                                                'Icon', # Target variable\n",
    "                                                \n",
    "                                                'Day', # same day from different month act differently\n",
    "                                                'SeaLevelPressure', # low correlation with Solar Energy\n",
    "                                                'Dew', # low correlation with Solar Energy\n",
    "                                                'Precip', # low correlation with Solar Energy\n",
    "                                                'PrecipProb']) # low correlation with Solar Energy\n",
    "y_train = weather_data_train['SolarEnergy']"
   ]
  },
  {
   "cell_type": "code",
   "execution_count": 70,
   "id": "fdf81507",
   "metadata": {
    "execution": {
     "iopub.execute_input": "2025-08-08T03:49:29.951459Z",
     "iopub.status.busy": "2025-08-08T03:49:29.951209Z",
     "iopub.status.idle": "2025-08-08T03:49:29.956856Z",
     "shell.execute_reply": "2025-08-08T03:49:29.956042Z"
    },
    "papermill": {
     "duration": 0.02448,
     "end_time": "2025-08-08T03:49:29.957958",
     "exception": false,
     "start_time": "2025-08-08T03:49:29.933478",
     "status": "completed"
    },
    "tags": []
   },
   "outputs": [],
   "source": [
    "X_test_raw = weather_data_test.drop(columns=['DateTime', # Model cannot use DateTime as a feature\n",
    "                                                'Year', # No Effect on weather data\n",
    "                                                'Season', # Season is categorical, not numerical\n",
    "                                                'DaySegments', # DaySegments is categorical, not numerical\n",
    "                                                'Visibility',  # Target variable\n",
    "                                                'SolarRadiation', # Target variable\n",
    "                                                'SolarEnergy', # Target variable\n",
    "                                                'Conditions', # Target variable\n",
    "                                                'Icon', # Target variable\n",
    "                                                \n",
    "                                                'Day', # same day from different month act differently\n",
    "                                                'SeaLevelPressure', # low correlation with Solar Energy\n",
    "                                                'Dew', # low correlation with Solar Energy\n",
    "                                                'Precip', # low correlation with Solar Energy\n",
    "                                                'PrecipProb']) # low correlation with Solar Energy\n",
    "y_test = weather_data_test['SolarEnergy']"
   ]
  },
  {
   "cell_type": "code",
   "execution_count": 71,
   "id": "7cd752c2",
   "metadata": {
    "execution": {
     "iopub.execute_input": "2025-08-08T03:49:29.994336Z",
     "iopub.status.busy": "2025-08-08T03:49:29.994033Z",
     "iopub.status.idle": "2025-08-08T03:49:29.998423Z",
     "shell.execute_reply": "2025-08-08T03:49:29.997561Z"
    },
    "papermill": {
     "duration": 0.024174,
     "end_time": "2025-08-08T03:49:29.999989",
     "exception": false,
     "start_time": "2025-08-08T03:49:29.975815",
     "status": "completed"
    },
    "tags": []
   },
   "outputs": [],
   "source": [
    "feature_columns = [col for col in X_train_raw.columns]\n",
    "feature_columns_for_saving = ','.join(feature_columns)"
   ]
  },
  {
   "cell_type": "code",
   "execution_count": 72,
   "id": "2f5dd441",
   "metadata": {
    "execution": {
     "iopub.execute_input": "2025-08-08T03:49:30.038555Z",
     "iopub.status.busy": "2025-08-08T03:49:30.038302Z",
     "iopub.status.idle": "2025-08-08T03:49:30.043353Z",
     "shell.execute_reply": "2025-08-08T03:49:30.042277Z"
    },
    "papermill": {
     "duration": 0.025635,
     "end_time": "2025-08-08T03:49:30.044630",
     "exception": false,
     "start_time": "2025-08-08T03:49:30.018995",
     "status": "completed"
    },
    "tags": []
   },
   "outputs": [
    {
     "name": "stdout",
     "output_type": "stream",
     "text": [
      "X_train:  11692\n",
      "y_train:  11692\n",
      "\n",
      "X_test:  2924\n",
      "y_test:  2924\n"
     ]
    }
   ],
   "source": [
    "print(\"X_train: \", len(X_train_raw))\n",
    "print(\"y_train: \", len(y_train))\n",
    "print(\"\\nX_test: \", len(X_test_raw))\n",
    "print(\"y_test: \", len(y_test))"
   ]
  },
  {
   "cell_type": "markdown",
   "id": "854ed0a4",
   "metadata": {
    "papermill": {
     "duration": 0.017138,
     "end_time": "2025-08-08T03:49:30.080034",
     "exception": false,
     "start_time": "2025-08-08T03:49:30.062896",
     "status": "completed"
    },
    "tags": []
   },
   "source": [
    "### MinMax Scaler"
   ]
  },
  {
   "cell_type": "code",
   "execution_count": 73,
   "id": "1c07f25d",
   "metadata": {
    "execution": {
     "iopub.execute_input": "2025-08-08T03:49:30.173552Z",
     "iopub.status.busy": "2025-08-08T03:49:30.173316Z",
     "iopub.status.idle": "2025-08-08T03:49:30.183855Z",
     "shell.execute_reply": "2025-08-08T03:49:30.183155Z"
    },
    "papermill": {
     "duration": 0.030834,
     "end_time": "2025-08-08T03:49:30.185145",
     "exception": false,
     "start_time": "2025-08-08T03:49:30.154311",
     "status": "completed"
    },
    "tags": []
   },
   "outputs": [],
   "source": [
    "scaler = MinMaxScaler()\n",
    "X_train = scaler.fit_transform(X_train_raw)\n",
    "X_test = scaler.transform(X_test_raw)"
   ]
  },
  {
   "cell_type": "code",
   "execution_count": 74,
   "id": "f03ed72b",
   "metadata": {
    "execution": {
     "iopub.execute_input": "2025-08-08T03:49:30.222082Z",
     "iopub.status.busy": "2025-08-08T03:49:30.221758Z",
     "iopub.status.idle": "2025-08-08T03:49:30.227818Z",
     "shell.execute_reply": "2025-08-08T03:49:30.226831Z"
    },
    "papermill": {
     "duration": 0.025999,
     "end_time": "2025-08-08T03:49:30.229078",
     "exception": false,
     "start_time": "2025-08-08T03:49:30.203079",
     "status": "completed"
    },
    "tags": []
   },
   "outputs": [
    {
     "data": {
      "text/plain": [
       "array([[0.72727273, 0.43478261, 0.        , ..., 0.4922    , 0.697     ,\n",
       "        0.31560059],\n",
       "       [0.90909091, 0.69565217, 1.        , ..., 0.        , 0.303     ,\n",
       "        0.07388643],\n",
       "       [0.09090909, 0.        , 0.        , ..., 0.        , 0.        ,\n",
       "        0.07388643],\n",
       "       ...,\n",
       "       [0.63636364, 0.43478261, 0.        , ..., 0.8756    , 0.306     ,\n",
       "        0.09436352],\n",
       "       [0.        , 0.91304348, 0.        , ..., 0.        , 0.        ,\n",
       "        0.07388643],\n",
       "       [0.72727273, 0.34782609, 0.        , ..., 0.8925    , 0.29      ,\n",
       "        0.27812962]])"
      ]
     },
     "execution_count": 74,
     "metadata": {},
     "output_type": "execute_result"
    }
   ],
   "source": [
    "X_train"
   ]
  },
  {
   "cell_type": "code",
   "execution_count": 75,
   "id": "666847be",
   "metadata": {
    "execution": {
     "iopub.execute_input": "2025-08-08T03:49:30.268078Z",
     "iopub.status.busy": "2025-08-08T03:49:30.267087Z",
     "iopub.status.idle": "2025-08-08T03:49:30.272379Z",
     "shell.execute_reply": "2025-08-08T03:49:30.271767Z"
    },
    "papermill": {
     "duration": 0.025716,
     "end_time": "2025-08-08T03:49:30.273431",
     "exception": false,
     "start_time": "2025-08-08T03:49:30.247715",
     "status": "completed"
    },
    "tags": []
   },
   "outputs": [
    {
     "data": {
      "text/plain": [
       "array([[0.63636364, 0.95652174, 0.        , ..., 0.894     , 0.        ,\n",
       "        0.07388643],\n",
       "       [0.45454545, 0.65217391, 1.        , ..., 0.9677    , 0.074     ,\n",
       "        0.07388643],\n",
       "       [0.63636364, 0.2173913 , 0.        , ..., 0.9935    , 0.        ,\n",
       "        0.07388643],\n",
       "       ...,\n",
       "       [0.09090909, 0.73913043, 1.        , ..., 0.0013    , 0.203     ,\n",
       "        0.07388643],\n",
       "       [0.27272727, 0.86956522, 0.        , ..., 0.        , 0.        ,\n",
       "        0.25575259],\n",
       "       [0.45454545, 0.95652174, 0.        , ..., 0.5161    , 0.        ,\n",
       "        0.07388643]])"
      ]
     },
     "execution_count": 75,
     "metadata": {},
     "output_type": "execute_result"
    }
   ],
   "source": [
    "X_test"
   ]
  },
  {
   "cell_type": "markdown",
   "id": "9675f946",
   "metadata": {
    "papermill": {
     "duration": 0.017556,
     "end_time": "2025-08-08T03:49:30.309453",
     "exception": false,
     "start_time": "2025-08-08T03:49:30.291897",
     "status": "completed"
    },
    "tags": []
   },
   "source": [
    "#### Default Parameters"
   ]
  },
  {
   "cell_type": "code",
   "execution_count": 76,
   "id": "44d9f69a",
   "metadata": {
    "execution": {
     "iopub.execute_input": "2025-08-08T03:49:30.346504Z",
     "iopub.status.busy": "2025-08-08T03:49:30.346031Z",
     "iopub.status.idle": "2025-08-08T03:49:30.352234Z",
     "shell.execute_reply": "2025-08-08T03:49:30.351192Z"
    },
    "papermill": {
     "duration": 0.026614,
     "end_time": "2025-08-08T03:49:30.353608",
     "exception": false,
     "start_time": "2025-08-08T03:49:30.326994",
     "status": "completed"
    },
    "tags": []
   },
   "outputs": [
    {
     "data": {
      "text/html": [
       "<style>#sk-container-id-10 {color: black;background-color: white;}#sk-container-id-10 pre{padding: 0;}#sk-container-id-10 div.sk-toggleable {background-color: white;}#sk-container-id-10 label.sk-toggleable__label {cursor: pointer;display: block;width: 100%;margin-bottom: 0;padding: 0.3em;box-sizing: border-box;text-align: center;}#sk-container-id-10 label.sk-toggleable__label-arrow:before {content: \"▸\";float: left;margin-right: 0.25em;color: #696969;}#sk-container-id-10 label.sk-toggleable__label-arrow:hover:before {color: black;}#sk-container-id-10 div.sk-estimator:hover label.sk-toggleable__label-arrow:before {color: black;}#sk-container-id-10 div.sk-toggleable__content {max-height: 0;max-width: 0;overflow: hidden;text-align: left;background-color: #f0f8ff;}#sk-container-id-10 div.sk-toggleable__content pre {margin: 0.2em;color: black;border-radius: 0.25em;background-color: #f0f8ff;}#sk-container-id-10 input.sk-toggleable__control:checked~div.sk-toggleable__content {max-height: 200px;max-width: 100%;overflow: auto;}#sk-container-id-10 input.sk-toggleable__control:checked~label.sk-toggleable__label-arrow:before {content: \"▾\";}#sk-container-id-10 div.sk-estimator input.sk-toggleable__control:checked~label.sk-toggleable__label {background-color: #d4ebff;}#sk-container-id-10 div.sk-label input.sk-toggleable__control:checked~label.sk-toggleable__label {background-color: #d4ebff;}#sk-container-id-10 input.sk-hidden--visually {border: 0;clip: rect(1px 1px 1px 1px);clip: rect(1px, 1px, 1px, 1px);height: 1px;margin: -1px;overflow: hidden;padding: 0;position: absolute;width: 1px;}#sk-container-id-10 div.sk-estimator {font-family: monospace;background-color: #f0f8ff;border: 1px dotted black;border-radius: 0.25em;box-sizing: border-box;margin-bottom: 0.5em;}#sk-container-id-10 div.sk-estimator:hover {background-color: #d4ebff;}#sk-container-id-10 div.sk-parallel-item::after {content: \"\";width: 100%;border-bottom: 1px solid gray;flex-grow: 1;}#sk-container-id-10 div.sk-label:hover label.sk-toggleable__label {background-color: #d4ebff;}#sk-container-id-10 div.sk-serial::before {content: \"\";position: absolute;border-left: 1px solid gray;box-sizing: border-box;top: 0;bottom: 0;left: 50%;z-index: 0;}#sk-container-id-10 div.sk-serial {display: flex;flex-direction: column;align-items: center;background-color: white;padding-right: 0.2em;padding-left: 0.2em;position: relative;}#sk-container-id-10 div.sk-item {position: relative;z-index: 1;}#sk-container-id-10 div.sk-parallel {display: flex;align-items: stretch;justify-content: center;background-color: white;position: relative;}#sk-container-id-10 div.sk-item::before, #sk-container-id-10 div.sk-parallel-item::before {content: \"\";position: absolute;border-left: 1px solid gray;box-sizing: border-box;top: 0;bottom: 0;left: 50%;z-index: -1;}#sk-container-id-10 div.sk-parallel-item {display: flex;flex-direction: column;z-index: 1;position: relative;background-color: white;}#sk-container-id-10 div.sk-parallel-item:first-child::after {align-self: flex-end;width: 50%;}#sk-container-id-10 div.sk-parallel-item:last-child::after {align-self: flex-start;width: 50%;}#sk-container-id-10 div.sk-parallel-item:only-child::after {width: 0;}#sk-container-id-10 div.sk-dashed-wrapped {border: 1px dashed gray;margin: 0 0.4em 0.5em 0.4em;box-sizing: border-box;padding-bottom: 0.4em;background-color: white;}#sk-container-id-10 div.sk-label label {font-family: monospace;font-weight: bold;display: inline-block;line-height: 1.2em;}#sk-container-id-10 div.sk-label-container {text-align: center;}#sk-container-id-10 div.sk-container {/* jupyter's `normalize.less` sets `[hidden] { display: none; }` but bootstrap.min.css set `[hidden] { display: none !important; }` so we also need the `!important` here to be able to override the default hidden behavior on the sphinx rendered scikit-learn.org. See: https://github.com/scikit-learn/scikit-learn/issues/21755 */display: inline-block !important;position: relative;}#sk-container-id-10 div.sk-text-repr-fallback {display: none;}</style><div id=\"sk-container-id-10\" class=\"sk-top-container\"><div class=\"sk-text-repr-fallback\"><pre>LinearRegression()</pre><b>In a Jupyter environment, please rerun this cell to show the HTML representation or trust the notebook. <br />On GitHub, the HTML representation is unable to render, please try loading this page with nbviewer.org.</b></div><div class=\"sk-container\" hidden><div class=\"sk-item\"><div class=\"sk-estimator sk-toggleable\"><input class=\"sk-toggleable__control sk-hidden--visually\" id=\"sk-estimator-id-16\" type=\"checkbox\" checked><label for=\"sk-estimator-id-16\" class=\"sk-toggleable__label sk-toggleable__label-arrow\">LinearRegression</label><div class=\"sk-toggleable__content\"><pre>LinearRegression()</pre></div></div></div></div></div>"
      ],
      "text/plain": [
       "LinearRegression()"
      ]
     },
     "execution_count": 76,
     "metadata": {},
     "output_type": "execute_result"
    }
   ],
   "source": [
    "training_model = LinearRegression()\n",
    "training_model"
   ]
  },
  {
   "cell_type": "code",
   "execution_count": 77,
   "id": "8ad3c1aa",
   "metadata": {
    "execution": {
     "iopub.execute_input": "2025-08-08T03:49:30.392843Z",
     "iopub.status.busy": "2025-08-08T03:49:30.392581Z",
     "iopub.status.idle": "2025-08-08T03:49:30.412605Z",
     "shell.execute_reply": "2025-08-08T03:49:30.412077Z"
    },
    "papermill": {
     "duration": 0.040443,
     "end_time": "2025-08-08T03:49:30.413755",
     "exception": false,
     "start_time": "2025-08-08T03:49:30.373312",
     "status": "completed"
    },
    "tags": []
   },
   "outputs": [
    {
     "name": "stdout",
     "output_type": "stream",
     "text": [
      "CPU times: user 29.5 ms, sys: 4.91 ms, total: 34.4 ms\n",
      "Wall time: 14.2 ms\n"
     ]
    },
    {
     "data": {
      "text/html": [
       "<style>#sk-container-id-11 {color: black;background-color: white;}#sk-container-id-11 pre{padding: 0;}#sk-container-id-11 div.sk-toggleable {background-color: white;}#sk-container-id-11 label.sk-toggleable__label {cursor: pointer;display: block;width: 100%;margin-bottom: 0;padding: 0.3em;box-sizing: border-box;text-align: center;}#sk-container-id-11 label.sk-toggleable__label-arrow:before {content: \"▸\";float: left;margin-right: 0.25em;color: #696969;}#sk-container-id-11 label.sk-toggleable__label-arrow:hover:before {color: black;}#sk-container-id-11 div.sk-estimator:hover label.sk-toggleable__label-arrow:before {color: black;}#sk-container-id-11 div.sk-toggleable__content {max-height: 0;max-width: 0;overflow: hidden;text-align: left;background-color: #f0f8ff;}#sk-container-id-11 div.sk-toggleable__content pre {margin: 0.2em;color: black;border-radius: 0.25em;background-color: #f0f8ff;}#sk-container-id-11 input.sk-toggleable__control:checked~div.sk-toggleable__content {max-height: 200px;max-width: 100%;overflow: auto;}#sk-container-id-11 input.sk-toggleable__control:checked~label.sk-toggleable__label-arrow:before {content: \"▾\";}#sk-container-id-11 div.sk-estimator input.sk-toggleable__control:checked~label.sk-toggleable__label {background-color: #d4ebff;}#sk-container-id-11 div.sk-label input.sk-toggleable__control:checked~label.sk-toggleable__label {background-color: #d4ebff;}#sk-container-id-11 input.sk-hidden--visually {border: 0;clip: rect(1px 1px 1px 1px);clip: rect(1px, 1px, 1px, 1px);height: 1px;margin: -1px;overflow: hidden;padding: 0;position: absolute;width: 1px;}#sk-container-id-11 div.sk-estimator {font-family: monospace;background-color: #f0f8ff;border: 1px dotted black;border-radius: 0.25em;box-sizing: border-box;margin-bottom: 0.5em;}#sk-container-id-11 div.sk-estimator:hover {background-color: #d4ebff;}#sk-container-id-11 div.sk-parallel-item::after {content: \"\";width: 100%;border-bottom: 1px solid gray;flex-grow: 1;}#sk-container-id-11 div.sk-label:hover label.sk-toggleable__label {background-color: #d4ebff;}#sk-container-id-11 div.sk-serial::before {content: \"\";position: absolute;border-left: 1px solid gray;box-sizing: border-box;top: 0;bottom: 0;left: 50%;z-index: 0;}#sk-container-id-11 div.sk-serial {display: flex;flex-direction: column;align-items: center;background-color: white;padding-right: 0.2em;padding-left: 0.2em;position: relative;}#sk-container-id-11 div.sk-item {position: relative;z-index: 1;}#sk-container-id-11 div.sk-parallel {display: flex;align-items: stretch;justify-content: center;background-color: white;position: relative;}#sk-container-id-11 div.sk-item::before, #sk-container-id-11 div.sk-parallel-item::before {content: \"\";position: absolute;border-left: 1px solid gray;box-sizing: border-box;top: 0;bottom: 0;left: 50%;z-index: -1;}#sk-container-id-11 div.sk-parallel-item {display: flex;flex-direction: column;z-index: 1;position: relative;background-color: white;}#sk-container-id-11 div.sk-parallel-item:first-child::after {align-self: flex-end;width: 50%;}#sk-container-id-11 div.sk-parallel-item:last-child::after {align-self: flex-start;width: 50%;}#sk-container-id-11 div.sk-parallel-item:only-child::after {width: 0;}#sk-container-id-11 div.sk-dashed-wrapped {border: 1px dashed gray;margin: 0 0.4em 0.5em 0.4em;box-sizing: border-box;padding-bottom: 0.4em;background-color: white;}#sk-container-id-11 div.sk-label label {font-family: monospace;font-weight: bold;display: inline-block;line-height: 1.2em;}#sk-container-id-11 div.sk-label-container {text-align: center;}#sk-container-id-11 div.sk-container {/* jupyter's `normalize.less` sets `[hidden] { display: none; }` but bootstrap.min.css set `[hidden] { display: none !important; }` so we also need the `!important` here to be able to override the default hidden behavior on the sphinx rendered scikit-learn.org. See: https://github.com/scikit-learn/scikit-learn/issues/21755 */display: inline-block !important;position: relative;}#sk-container-id-11 div.sk-text-repr-fallback {display: none;}</style><div id=\"sk-container-id-11\" class=\"sk-top-container\"><div class=\"sk-text-repr-fallback\"><pre>LinearRegression()</pre><b>In a Jupyter environment, please rerun this cell to show the HTML representation or trust the notebook. <br />On GitHub, the HTML representation is unable to render, please try loading this page with nbviewer.org.</b></div><div class=\"sk-container\" hidden><div class=\"sk-item\"><div class=\"sk-estimator sk-toggleable\"><input class=\"sk-toggleable__control sk-hidden--visually\" id=\"sk-estimator-id-17\" type=\"checkbox\" checked><label for=\"sk-estimator-id-17\" class=\"sk-toggleable__label sk-toggleable__label-arrow\">LinearRegression</label><div class=\"sk-toggleable__content\"><pre>LinearRegression()</pre></div></div></div></div></div>"
      ],
      "text/plain": [
       "LinearRegression()"
      ]
     },
     "execution_count": 77,
     "metadata": {},
     "output_type": "execute_result"
    }
   ],
   "source": [
    "%%time\n",
    "training_model.fit(X_train, y_train)"
   ]
  },
  {
   "cell_type": "code",
   "execution_count": 78,
   "id": "96a651ef",
   "metadata": {
    "execution": {
     "iopub.execute_input": "2025-08-08T03:49:30.472202Z",
     "iopub.status.busy": "2025-08-08T03:49:30.471900Z",
     "iopub.status.idle": "2025-08-08T03:49:30.479170Z",
     "shell.execute_reply": "2025-08-08T03:49:30.478652Z"
    },
    "papermill": {
     "duration": 0.038382,
     "end_time": "2025-08-08T03:49:30.480455",
     "exception": false,
     "start_time": "2025-08-08T03:49:30.442073",
     "status": "completed"
    },
    "tags": []
   },
   "outputs": [
    {
     "data": {
      "text/plain": [
       "array([-1.46484375e-03,  2.74658203e-01, -8.54492188e-04, ...,\n",
       "        7.48535156e-01,  7.81250000e-03, -4.88281250e-04])"
      ]
     },
     "execution_count": 78,
     "metadata": {},
     "output_type": "execute_result"
    }
   ],
   "source": [
    "y_pred = training_model.predict(X_test)\n",
    "y_pred"
   ]
  },
  {
   "cell_type": "code",
   "execution_count": 79,
   "id": "a2966fd4",
   "metadata": {
    "execution": {
     "iopub.execute_input": "2025-08-08T03:49:30.533932Z",
     "iopub.status.busy": "2025-08-08T03:49:30.533707Z",
     "iopub.status.idle": "2025-08-08T03:49:30.540067Z",
     "shell.execute_reply": "2025-08-08T03:49:30.539435Z"
    },
    "papermill": {
     "duration": 0.032953,
     "end_time": "2025-08-08T03:49:30.541157",
     "exception": false,
     "start_time": "2025-08-08T03:49:30.508204",
     "status": "completed"
    },
    "tags": []
   },
   "outputs": [
    {
     "data": {
      "text/plain": [
       "5158     0.00\n",
       "3831     0.36\n",
       "5117     0.00\n",
       "6326     2.70\n",
       "11359    0.49\n",
       "         ... \n",
       "10290    0.30\n",
       "13995    0.00\n",
       "9665     0.90\n",
       "2276     0.00\n",
       "4174     0.00\n",
       "Name: SolarEnergy, Length: 2924, dtype: float64"
      ]
     },
     "execution_count": 79,
     "metadata": {},
     "output_type": "execute_result"
    }
   ],
   "source": [
    "y_test"
   ]
  },
  {
   "cell_type": "code",
   "execution_count": 80,
   "id": "7cdd336a",
   "metadata": {
    "execution": {
     "iopub.execute_input": "2025-08-08T03:49:30.580820Z",
     "iopub.status.busy": "2025-08-08T03:49:30.580553Z",
     "iopub.status.idle": "2025-08-08T03:49:30.588925Z",
     "shell.execute_reply": "2025-08-08T03:49:30.587550Z"
    },
    "papermill": {
     "duration": 0.029648,
     "end_time": "2025-08-08T03:49:30.590289",
     "exception": false,
     "start_time": "2025-08-08T03:49:30.560641",
     "status": "completed"
    },
    "tags": []
   },
   "outputs": [],
   "source": [
    "mse = mean_squared_error(y_test, y_pred)\n",
    "mae = mean_absolute_error(y_test, y_pred)\n",
    "r2 = r2_score(y_test, y_pred)\n",
    "rmse = math.sqrt(mse)"
   ]
  },
  {
   "cell_type": "code",
   "execution_count": 81,
   "id": "29ca7b3d",
   "metadata": {
    "execution": {
     "iopub.execute_input": "2025-08-08T03:49:30.629912Z",
     "iopub.status.busy": "2025-08-08T03:49:30.629652Z",
     "iopub.status.idle": "2025-08-08T03:49:30.633918Z",
     "shell.execute_reply": "2025-08-08T03:49:30.633137Z"
    },
    "papermill": {
     "duration": 0.024637,
     "end_time": "2025-08-08T03:49:30.634968",
     "exception": false,
     "start_time": "2025-08-08T03:49:30.610331",
     "status": "completed"
    },
    "tags": []
   },
   "outputs": [
    {
     "name": "stdout",
     "output_type": "stream",
     "text": [
      "MSE Score: 0.004413061046918342\n",
      "MAE Score: 0.04310053417033601\n",
      "R2 Score: 0.9963779767537858\n",
      "RMSE Score: 0.06643087419956432\n"
     ]
    }
   ],
   "source": [
    "print(\"MSE Score:\", mse)\n",
    "print(\"MAE Score:\", mae)\n",
    "print(\"R2 Score:\", r2)\n",
    "print(\"RMSE Score:\", rmse)"
   ]
  },
  {
   "cell_type": "code",
   "execution_count": 82,
   "id": "0a193bcd",
   "metadata": {
    "execution": {
     "iopub.execute_input": "2025-08-08T03:49:30.673459Z",
     "iopub.status.busy": "2025-08-08T03:49:30.673210Z",
     "iopub.status.idle": "2025-08-08T03:49:30.684148Z",
     "shell.execute_reply": "2025-08-08T03:49:30.683357Z"
    },
    "papermill": {
     "duration": 0.031078,
     "end_time": "2025-08-08T03:49:30.685432",
     "exception": false,
     "start_time": "2025-08-08T03:49:30.654354",
     "status": "completed"
    },
    "tags": []
   },
   "outputs": [
    {
     "name": "stdout",
     "output_type": "stream",
     "text": [
      "✅ Regression model improved with better performance!\n",
      "   MSE: 0.004428 → 0.004413 (lower is better)\n",
      "   R²:  0.996366 → 0.996378 (higher is better)\n",
      "   Features: 27 → 22\n",
      "💾 Registry updated: Model_Training_History/History_Regression.csv\n"
     ]
    }
   ],
   "source": [
    "regression_params = {\n",
    "    'model_name': model_name_for_saving,\n",
    "    'scaler_name': \"MinMaxScaler\",\n",
    "    'features_list': feature_columns_for_saving,\n",
    "    'target_column': target_name_for_saving,\n",
    "    'mse': mse,\n",
    "    'mae': mae,\n",
    "    'rmse': rmse,\n",
    "    'r2': r2,\n",
    "    'parameters': json.dumps(training_model.get_params())\n",
    "}\n",
    "save_model_performance_if_better('regression', regression_params)"
   ]
  },
  {
   "cell_type": "markdown",
   "id": "e156706b",
   "metadata": {
    "papermill": {
     "duration": 0.017973,
     "end_time": "2025-08-08T03:49:30.722383",
     "exception": false,
     "start_time": "2025-08-08T03:49:30.704410",
     "status": "completed"
    },
    "tags": []
   },
   "source": [
    "#### Tuning with Grid Search"
   ]
  },
  {
   "cell_type": "code",
   "execution_count": 83,
   "id": "2dc28b9e",
   "metadata": {
    "execution": {
     "iopub.execute_input": "2025-08-08T03:49:30.760439Z",
     "iopub.status.busy": "2025-08-08T03:49:30.760208Z",
     "iopub.status.idle": "2025-08-08T03:49:30.763925Z",
     "shell.execute_reply": "2025-08-08T03:49:30.763095Z"
    },
    "papermill": {
     "duration": 0.023878,
     "end_time": "2025-08-08T03:49:30.764900",
     "exception": false,
     "start_time": "2025-08-08T03:49:30.741022",
     "status": "completed"
    },
    "tags": []
   },
   "outputs": [],
   "source": [
    "grid_param = {\n",
    "    'fit_intercept': [True, False],\n",
    "    'copy_X': [True, False],\n",
    "    'positive': [True, False]\n",
    "}"
   ]
  },
  {
   "cell_type": "code",
   "execution_count": 84,
   "id": "e003a95a",
   "metadata": {
    "execution": {
     "iopub.execute_input": "2025-08-08T03:49:30.803308Z",
     "iopub.status.busy": "2025-08-08T03:49:30.803050Z",
     "iopub.status.idle": "2025-08-08T03:49:30.806918Z",
     "shell.execute_reply": "2025-08-08T03:49:30.806075Z"
    },
    "papermill": {
     "duration": 0.0246,
     "end_time": "2025-08-08T03:49:30.808209",
     "exception": false,
     "start_time": "2025-08-08T03:49:30.783609",
     "status": "completed"
    },
    "tags": []
   },
   "outputs": [],
   "source": [
    "grid_search = GridSearchCV(\n",
    "    LinearRegression(), \n",
    "    grid_param, \n",
    "    cv=5, \n",
    "    scoring='neg_mean_squared_error', \n",
    "    n_jobs=-1, # allow parallel processing, you cant use your own laptop while this runs\n",
    "    verbose=1\n",
    ")"
   ]
  },
  {
   "cell_type": "code",
   "execution_count": 85,
   "id": "e0ee84be",
   "metadata": {
    "execution": {
     "iopub.execute_input": "2025-08-08T03:49:30.849078Z",
     "iopub.status.busy": "2025-08-08T03:49:30.848828Z",
     "iopub.status.idle": "2025-08-08T03:49:31.187761Z",
     "shell.execute_reply": "2025-08-08T03:49:31.186629Z"
    },
    "papermill": {
     "duration": 0.362684,
     "end_time": "2025-08-08T03:49:31.191002",
     "exception": false,
     "start_time": "2025-08-08T03:49:30.828318",
     "status": "completed"
    },
    "tags": []
   },
   "outputs": [
    {
     "name": "stdout",
     "output_type": "stream",
     "text": [
      "Starting hyperparameter tuning...\n",
      "Fitting 5 folds for each of 8 candidates, totalling 40 fits\n",
      "CPU times: user 60.7 ms, sys: 9.29 ms, total: 70 ms\n",
      "Wall time: 332 ms\n"
     ]
    },
    {
     "data": {
      "text/html": [
       "<style>#sk-container-id-12 {color: black;background-color: white;}#sk-container-id-12 pre{padding: 0;}#sk-container-id-12 div.sk-toggleable {background-color: white;}#sk-container-id-12 label.sk-toggleable__label {cursor: pointer;display: block;width: 100%;margin-bottom: 0;padding: 0.3em;box-sizing: border-box;text-align: center;}#sk-container-id-12 label.sk-toggleable__label-arrow:before {content: \"▸\";float: left;margin-right: 0.25em;color: #696969;}#sk-container-id-12 label.sk-toggleable__label-arrow:hover:before {color: black;}#sk-container-id-12 div.sk-estimator:hover label.sk-toggleable__label-arrow:before {color: black;}#sk-container-id-12 div.sk-toggleable__content {max-height: 0;max-width: 0;overflow: hidden;text-align: left;background-color: #f0f8ff;}#sk-container-id-12 div.sk-toggleable__content pre {margin: 0.2em;color: black;border-radius: 0.25em;background-color: #f0f8ff;}#sk-container-id-12 input.sk-toggleable__control:checked~div.sk-toggleable__content {max-height: 200px;max-width: 100%;overflow: auto;}#sk-container-id-12 input.sk-toggleable__control:checked~label.sk-toggleable__label-arrow:before {content: \"▾\";}#sk-container-id-12 div.sk-estimator input.sk-toggleable__control:checked~label.sk-toggleable__label {background-color: #d4ebff;}#sk-container-id-12 div.sk-label input.sk-toggleable__control:checked~label.sk-toggleable__label {background-color: #d4ebff;}#sk-container-id-12 input.sk-hidden--visually {border: 0;clip: rect(1px 1px 1px 1px);clip: rect(1px, 1px, 1px, 1px);height: 1px;margin: -1px;overflow: hidden;padding: 0;position: absolute;width: 1px;}#sk-container-id-12 div.sk-estimator {font-family: monospace;background-color: #f0f8ff;border: 1px dotted black;border-radius: 0.25em;box-sizing: border-box;margin-bottom: 0.5em;}#sk-container-id-12 div.sk-estimator:hover {background-color: #d4ebff;}#sk-container-id-12 div.sk-parallel-item::after {content: \"\";width: 100%;border-bottom: 1px solid gray;flex-grow: 1;}#sk-container-id-12 div.sk-label:hover label.sk-toggleable__label {background-color: #d4ebff;}#sk-container-id-12 div.sk-serial::before {content: \"\";position: absolute;border-left: 1px solid gray;box-sizing: border-box;top: 0;bottom: 0;left: 50%;z-index: 0;}#sk-container-id-12 div.sk-serial {display: flex;flex-direction: column;align-items: center;background-color: white;padding-right: 0.2em;padding-left: 0.2em;position: relative;}#sk-container-id-12 div.sk-item {position: relative;z-index: 1;}#sk-container-id-12 div.sk-parallel {display: flex;align-items: stretch;justify-content: center;background-color: white;position: relative;}#sk-container-id-12 div.sk-item::before, #sk-container-id-12 div.sk-parallel-item::before {content: \"\";position: absolute;border-left: 1px solid gray;box-sizing: border-box;top: 0;bottom: 0;left: 50%;z-index: -1;}#sk-container-id-12 div.sk-parallel-item {display: flex;flex-direction: column;z-index: 1;position: relative;background-color: white;}#sk-container-id-12 div.sk-parallel-item:first-child::after {align-self: flex-end;width: 50%;}#sk-container-id-12 div.sk-parallel-item:last-child::after {align-self: flex-start;width: 50%;}#sk-container-id-12 div.sk-parallel-item:only-child::after {width: 0;}#sk-container-id-12 div.sk-dashed-wrapped {border: 1px dashed gray;margin: 0 0.4em 0.5em 0.4em;box-sizing: border-box;padding-bottom: 0.4em;background-color: white;}#sk-container-id-12 div.sk-label label {font-family: monospace;font-weight: bold;display: inline-block;line-height: 1.2em;}#sk-container-id-12 div.sk-label-container {text-align: center;}#sk-container-id-12 div.sk-container {/* jupyter's `normalize.less` sets `[hidden] { display: none; }` but bootstrap.min.css set `[hidden] { display: none !important; }` so we also need the `!important` here to be able to override the default hidden behavior on the sphinx rendered scikit-learn.org. See: https://github.com/scikit-learn/scikit-learn/issues/21755 */display: inline-block !important;position: relative;}#sk-container-id-12 div.sk-text-repr-fallback {display: none;}</style><div id=\"sk-container-id-12\" class=\"sk-top-container\"><div class=\"sk-text-repr-fallback\"><pre>GridSearchCV(cv=5, estimator=LinearRegression(), n_jobs=-1,\n",
       "             param_grid={&#x27;copy_X&#x27;: [True, False],\n",
       "                         &#x27;fit_intercept&#x27;: [True, False],\n",
       "                         &#x27;positive&#x27;: [True, False]},\n",
       "             scoring=&#x27;neg_mean_squared_error&#x27;, verbose=1)</pre><b>In a Jupyter environment, please rerun this cell to show the HTML representation or trust the notebook. <br />On GitHub, the HTML representation is unable to render, please try loading this page with nbviewer.org.</b></div><div class=\"sk-container\" hidden><div class=\"sk-item sk-dashed-wrapped\"><div class=\"sk-label-container\"><div class=\"sk-label sk-toggleable\"><input class=\"sk-toggleable__control sk-hidden--visually\" id=\"sk-estimator-id-18\" type=\"checkbox\" ><label for=\"sk-estimator-id-18\" class=\"sk-toggleable__label sk-toggleable__label-arrow\">GridSearchCV</label><div class=\"sk-toggleable__content\"><pre>GridSearchCV(cv=5, estimator=LinearRegression(), n_jobs=-1,\n",
       "             param_grid={&#x27;copy_X&#x27;: [True, False],\n",
       "                         &#x27;fit_intercept&#x27;: [True, False],\n",
       "                         &#x27;positive&#x27;: [True, False]},\n",
       "             scoring=&#x27;neg_mean_squared_error&#x27;, verbose=1)</pre></div></div></div><div class=\"sk-parallel\"><div class=\"sk-parallel-item\"><div class=\"sk-item\"><div class=\"sk-label-container\"><div class=\"sk-label sk-toggleable\"><input class=\"sk-toggleable__control sk-hidden--visually\" id=\"sk-estimator-id-19\" type=\"checkbox\" ><label for=\"sk-estimator-id-19\" class=\"sk-toggleable__label sk-toggleable__label-arrow\">estimator: LinearRegression</label><div class=\"sk-toggleable__content\"><pre>LinearRegression()</pre></div></div></div><div class=\"sk-serial\"><div class=\"sk-item\"><div class=\"sk-estimator sk-toggleable\"><input class=\"sk-toggleable__control sk-hidden--visually\" id=\"sk-estimator-id-20\" type=\"checkbox\" ><label for=\"sk-estimator-id-20\" class=\"sk-toggleable__label sk-toggleable__label-arrow\">LinearRegression</label><div class=\"sk-toggleable__content\"><pre>LinearRegression()</pre></div></div></div></div></div></div></div></div></div></div>"
      ],
      "text/plain": [
       "GridSearchCV(cv=5, estimator=LinearRegression(), n_jobs=-1,\n",
       "             param_grid={'copy_X': [True, False],\n",
       "                         'fit_intercept': [True, False],\n",
       "                         'positive': [True, False]},\n",
       "             scoring='neg_mean_squared_error', verbose=1)"
      ]
     },
     "execution_count": 85,
     "metadata": {},
     "output_type": "execute_result"
    }
   ],
   "source": [
    "%%time\n",
    "print(\"Starting hyperparameter tuning...\")\n",
    "grid_search.fit(X_train, y_train)"
   ]
  },
  {
   "cell_type": "code",
   "execution_count": 86,
   "id": "462355cc",
   "metadata": {
    "execution": {
     "iopub.execute_input": "2025-08-08T03:49:31.249366Z",
     "iopub.status.busy": "2025-08-08T03:49:31.249104Z",
     "iopub.status.idle": "2025-08-08T03:49:31.256316Z",
     "shell.execute_reply": "2025-08-08T03:49:31.255713Z"
    },
    "papermill": {
     "duration": 0.037297,
     "end_time": "2025-08-08T03:49:31.257543",
     "exception": false,
     "start_time": "2025-08-08T03:49:31.220246",
     "status": "completed"
    },
    "tags": []
   },
   "outputs": [
    {
     "name": "stdout",
     "output_type": "stream",
     "text": [
      "TUNING RESULTS\n",
      "==================================================\n",
      "Best Parameters: {'copy_X': True, 'fit_intercept': False, 'positive': False}\n",
      "Best Cross-Validation Score (Negative MSE): -0.004312009879620497\n",
      "Best Cross-Validation Score (MSE): 0.004312009879620497\n",
      "Best Cross-Validation Score (RMSE): 0.06566589586399091\n"
     ]
    }
   ],
   "source": [
    "print(\"TUNING RESULTS\")\n",
    "print(\"=\"*50)\n",
    "print(\"Best Parameters:\", grid_search.best_params_)\n",
    "print(\"Best Cross-Validation Score (Negative MSE):\", grid_search.best_score_)\n",
    "print(\"Best Cross-Validation Score (MSE):\", -grid_search.best_score_)\n",
    "print(\"Best Cross-Validation Score (RMSE):\", math.sqrt(-grid_search.best_score_))"
   ]
  },
  {
   "cell_type": "code",
   "execution_count": 87,
   "id": "565c774f",
   "metadata": {
    "execution": {
     "iopub.execute_input": "2025-08-08T03:49:31.312195Z",
     "iopub.status.busy": "2025-08-08T03:49:31.311918Z",
     "iopub.status.idle": "2025-08-08T03:49:31.316260Z",
     "shell.execute_reply": "2025-08-08T03:49:31.315471Z"
    },
    "papermill": {
     "duration": 0.03024,
     "end_time": "2025-08-08T03:49:31.317424",
     "exception": false,
     "start_time": "2025-08-08T03:49:31.287184",
     "status": "completed"
    },
    "tags": []
   },
   "outputs": [],
   "source": [
    "grid_search_best_model = grid_search.best_estimator_\n",
    "y_pred = grid_search_best_model.predict(X_test)"
   ]
  },
  {
   "cell_type": "code",
   "execution_count": 88,
   "id": "9b77b92c",
   "metadata": {
    "execution": {
     "iopub.execute_input": "2025-08-08T03:49:31.360257Z",
     "iopub.status.busy": "2025-08-08T03:49:31.359898Z",
     "iopub.status.idle": "2025-08-08T03:49:31.366541Z",
     "shell.execute_reply": "2025-08-08T03:49:31.365851Z"
    },
    "papermill": {
     "duration": 0.029218,
     "end_time": "2025-08-08T03:49:31.367844",
     "exception": false,
     "start_time": "2025-08-08T03:49:31.338626",
     "status": "completed"
    },
    "tags": []
   },
   "outputs": [],
   "source": [
    "mse_grid_search = mean_squared_error(y_test, y_pred)\n",
    "mae_grid_search = mean_absolute_error(y_test, y_pred)\n",
    "r2_grid_search = r2_score(y_test, y_pred)\n",
    "rmse_grid_search = math.sqrt(mse_grid_search)"
   ]
  },
  {
   "cell_type": "code",
   "execution_count": 89,
   "id": "adb534bf",
   "metadata": {
    "execution": {
     "iopub.execute_input": "2025-08-08T03:49:31.408673Z",
     "iopub.status.busy": "2025-08-08T03:49:31.408412Z",
     "iopub.status.idle": "2025-08-08T03:49:31.413223Z",
     "shell.execute_reply": "2025-08-08T03:49:31.412347Z"
    },
    "papermill": {
     "duration": 0.026473,
     "end_time": "2025-08-08T03:49:31.414316",
     "exception": false,
     "start_time": "2025-08-08T03:49:31.387843",
     "status": "completed"
    },
    "tags": []
   },
   "outputs": [
    {
     "name": "stdout",
     "output_type": "stream",
     "text": [
      "MSE Score: 0.0044122954776415054\n",
      "MAE Score: 0.04310381861798297\n",
      "R2 Score: 0.9963786050953582\n",
      "RMSE Score: 0.06642511179999253\n"
     ]
    }
   ],
   "source": [
    "print(\"MSE Score:\", mse_grid_search)\n",
    "print(\"MAE Score:\", mae_grid_search)\n",
    "print(\"R2 Score:\", r2_grid_search)\n",
    "print(\"RMSE Score:\", rmse_grid_search)"
   ]
  },
  {
   "cell_type": "code",
   "execution_count": 90,
   "id": "00e18545",
   "metadata": {
    "execution": {
     "iopub.execute_input": "2025-08-08T03:49:31.457060Z",
     "iopub.status.busy": "2025-08-08T03:49:31.456807Z",
     "iopub.status.idle": "2025-08-08T03:49:31.466964Z",
     "shell.execute_reply": "2025-08-08T03:49:31.466045Z"
    },
    "papermill": {
     "duration": 0.033177,
     "end_time": "2025-08-08T03:49:31.468482",
     "exception": false,
     "start_time": "2025-08-08T03:49:31.435305",
     "status": "completed"
    },
    "tags": []
   },
   "outputs": [
    {
     "name": "stdout",
     "output_type": "stream",
     "text": [
      "✅ Regression model improved with same performance but fewer features!\n",
      "   MSE: 0.004412 ≈ 0.004412 (similar)\n",
      "   R²:  0.996379 ≈ 0.996379 (similar)\n",
      "   Features: 27 → 22 (🎯 5 fewer features!)\n",
      "💾 Registry updated: Model_Training_History/History_Regression.csv\n"
     ]
    }
   ],
   "source": [
    "regression_params = {\n",
    "    'model_name': model_name_for_saving + \" Tuned\",\n",
    "    'scaler_name': \"MinMaxScaler\",\n",
    "    'features_list': feature_columns_for_saving,\n",
    "    'target_column': target_name_for_saving,\n",
    "    'mse': mse_grid_search,\n",
    "    'mae': mae_grid_search,\n",
    "    'rmse': rmse_grid_search,\n",
    "    'r2': r2_grid_search,\n",
    "    'parameters' : json.dumps({\n",
    "        \"best_params\": grid_search.best_params_,\n",
    "        \"cv_score\": grid_search.best_score_,\n",
    "        \"all_params\": grid_search_best_model.get_params()\n",
    "    })\n",
    "}\n",
    "save_model_performance_if_better('regression', regression_params)"
   ]
  },
  {
   "cell_type": "markdown",
   "id": "9a2f62f3",
   "metadata": {
    "papermill": {
     "duration": 0.020989,
     "end_time": "2025-08-08T03:49:31.511242",
     "exception": false,
     "start_time": "2025-08-08T03:49:31.490253",
     "status": "completed"
    },
    "tags": []
   },
   "source": [
    "### Standard Scaler"
   ]
  },
  {
   "cell_type": "code",
   "execution_count": 91,
   "id": "001872d4",
   "metadata": {
    "execution": {
     "iopub.execute_input": "2025-08-08T03:49:31.552901Z",
     "iopub.status.busy": "2025-08-08T03:49:31.552633Z",
     "iopub.status.idle": "2025-08-08T03:49:31.564900Z",
     "shell.execute_reply": "2025-08-08T03:49:31.563657Z"
    },
    "papermill": {
     "duration": 0.03547,
     "end_time": "2025-08-08T03:49:31.566987",
     "exception": false,
     "start_time": "2025-08-08T03:49:31.531517",
     "status": "completed"
    },
    "tags": []
   },
   "outputs": [],
   "source": [
    "scaler = StandardScaler()\n",
    "X_train = scaler.fit_transform(X_train_raw)\n",
    "X_test = scaler.transform(X_test_raw)"
   ]
  },
  {
   "cell_type": "code",
   "execution_count": 92,
   "id": "be874133",
   "metadata": {
    "execution": {
     "iopub.execute_input": "2025-08-08T03:49:31.607873Z",
     "iopub.status.busy": "2025-08-08T03:49:31.607602Z",
     "iopub.status.idle": "2025-08-08T03:49:31.613233Z",
     "shell.execute_reply": "2025-08-08T03:49:31.612456Z"
    },
    "papermill": {
     "duration": 0.027377,
     "end_time": "2025-08-08T03:49:31.614624",
     "exception": false,
     "start_time": "2025-08-08T03:49:31.587247",
     "status": "completed"
    },
    "tags": []
   },
   "outputs": [
    {
     "data": {
      "text/plain": [
       "array([[ 1.01884116, -0.21938027, -0.38875095, ..., -0.12088825,\n",
       "         1.52387472,  1.09644529],\n",
       "       [ 1.64376461,  0.64624572,  2.57234098, ..., -1.52028666,\n",
       "         0.24645772, -0.43343649],\n",
       "       [-1.16839092, -1.66209024, -0.38875095, ..., -1.52028666,\n",
       "        -0.73592134, -0.43343649],\n",
       "       ...,\n",
       "       [ 0.70637943, -0.21938027, -0.38875095, ...,  0.96917545,\n",
       "         0.25618424, -0.30383078],\n",
       "       [-1.48085264,  1.36760071, -0.38875095, ..., -1.52028666,\n",
       "        -0.73592134, -0.43343649],\n",
       "       [ 1.01884116, -0.50792226, -0.38875095, ...,  1.01722469,\n",
       "         0.20430944,  0.85928021]])"
      ]
     },
     "execution_count": 92,
     "metadata": {},
     "output_type": "execute_result"
    }
   ],
   "source": [
    "X_train"
   ]
  },
  {
   "cell_type": "code",
   "execution_count": 93,
   "id": "69413610",
   "metadata": {
    "execution": {
     "iopub.execute_input": "2025-08-08T03:49:31.657067Z",
     "iopub.status.busy": "2025-08-08T03:49:31.656744Z",
     "iopub.status.idle": "2025-08-08T03:49:31.662010Z",
     "shell.execute_reply": "2025-08-08T03:49:31.661407Z"
    },
    "papermill": {
     "duration": 0.02797,
     "end_time": "2025-08-08T03:49:31.663013",
     "exception": false,
     "start_time": "2025-08-08T03:49:31.635043",
     "status": "completed"
    },
    "tags": []
   },
   "outputs": [
    {
     "data": {
      "text/plain": [
       "array([[ 0.70637943,  1.51187171, -0.38875095, ...,  1.02148941,\n",
       "        -0.73592134, -0.43343649],\n",
       "       [ 0.08145598,  0.50197472,  2.57234098, ...,  1.23102956,\n",
       "        -0.49600038, -0.43343649],\n",
       "       [ 0.70637943, -0.94073525, -0.38875095, ...,  1.30438283,\n",
       "        -0.73592134, -0.43343649],\n",
       "       ...,\n",
       "       [-1.16839092,  0.79051672,  2.57234098, ..., -1.51659057,\n",
       "        -0.07775979, -0.43343649],\n",
       "       [-0.54346747,  1.22332971, -0.38875095, ..., -1.52028666,\n",
       "        -0.73592134,  0.71764924],\n",
       "       [ 0.08145598,  1.51187171, -0.38875095, ..., -0.05293696,\n",
       "        -0.73592134, -0.43343649]])"
      ]
     },
     "execution_count": 93,
     "metadata": {},
     "output_type": "execute_result"
    }
   ],
   "source": [
    "X_test"
   ]
  },
  {
   "cell_type": "markdown",
   "id": "fceb5a2e",
   "metadata": {
    "papermill": {
     "duration": 0.019155,
     "end_time": "2025-08-08T03:49:31.702655",
     "exception": false,
     "start_time": "2025-08-08T03:49:31.683500",
     "status": "completed"
    },
    "tags": []
   },
   "source": [
    "#### Default Parameters"
   ]
  },
  {
   "cell_type": "code",
   "execution_count": 94,
   "id": "23abe45d",
   "metadata": {
    "execution": {
     "iopub.execute_input": "2025-08-08T03:49:31.742909Z",
     "iopub.status.busy": "2025-08-08T03:49:31.742678Z",
     "iopub.status.idle": "2025-08-08T03:49:31.747298Z",
     "shell.execute_reply": "2025-08-08T03:49:31.746709Z"
    },
    "papermill": {
     "duration": 0.026862,
     "end_time": "2025-08-08T03:49:31.748586",
     "exception": false,
     "start_time": "2025-08-08T03:49:31.721724",
     "status": "completed"
    },
    "tags": []
   },
   "outputs": [
    {
     "data": {
      "text/html": [
       "<style>#sk-container-id-13 {color: black;background-color: white;}#sk-container-id-13 pre{padding: 0;}#sk-container-id-13 div.sk-toggleable {background-color: white;}#sk-container-id-13 label.sk-toggleable__label {cursor: pointer;display: block;width: 100%;margin-bottom: 0;padding: 0.3em;box-sizing: border-box;text-align: center;}#sk-container-id-13 label.sk-toggleable__label-arrow:before {content: \"▸\";float: left;margin-right: 0.25em;color: #696969;}#sk-container-id-13 label.sk-toggleable__label-arrow:hover:before {color: black;}#sk-container-id-13 div.sk-estimator:hover label.sk-toggleable__label-arrow:before {color: black;}#sk-container-id-13 div.sk-toggleable__content {max-height: 0;max-width: 0;overflow: hidden;text-align: left;background-color: #f0f8ff;}#sk-container-id-13 div.sk-toggleable__content pre {margin: 0.2em;color: black;border-radius: 0.25em;background-color: #f0f8ff;}#sk-container-id-13 input.sk-toggleable__control:checked~div.sk-toggleable__content {max-height: 200px;max-width: 100%;overflow: auto;}#sk-container-id-13 input.sk-toggleable__control:checked~label.sk-toggleable__label-arrow:before {content: \"▾\";}#sk-container-id-13 div.sk-estimator input.sk-toggleable__control:checked~label.sk-toggleable__label {background-color: #d4ebff;}#sk-container-id-13 div.sk-label input.sk-toggleable__control:checked~label.sk-toggleable__label {background-color: #d4ebff;}#sk-container-id-13 input.sk-hidden--visually {border: 0;clip: rect(1px 1px 1px 1px);clip: rect(1px, 1px, 1px, 1px);height: 1px;margin: -1px;overflow: hidden;padding: 0;position: absolute;width: 1px;}#sk-container-id-13 div.sk-estimator {font-family: monospace;background-color: #f0f8ff;border: 1px dotted black;border-radius: 0.25em;box-sizing: border-box;margin-bottom: 0.5em;}#sk-container-id-13 div.sk-estimator:hover {background-color: #d4ebff;}#sk-container-id-13 div.sk-parallel-item::after {content: \"\";width: 100%;border-bottom: 1px solid gray;flex-grow: 1;}#sk-container-id-13 div.sk-label:hover label.sk-toggleable__label {background-color: #d4ebff;}#sk-container-id-13 div.sk-serial::before {content: \"\";position: absolute;border-left: 1px solid gray;box-sizing: border-box;top: 0;bottom: 0;left: 50%;z-index: 0;}#sk-container-id-13 div.sk-serial {display: flex;flex-direction: column;align-items: center;background-color: white;padding-right: 0.2em;padding-left: 0.2em;position: relative;}#sk-container-id-13 div.sk-item {position: relative;z-index: 1;}#sk-container-id-13 div.sk-parallel {display: flex;align-items: stretch;justify-content: center;background-color: white;position: relative;}#sk-container-id-13 div.sk-item::before, #sk-container-id-13 div.sk-parallel-item::before {content: \"\";position: absolute;border-left: 1px solid gray;box-sizing: border-box;top: 0;bottom: 0;left: 50%;z-index: -1;}#sk-container-id-13 div.sk-parallel-item {display: flex;flex-direction: column;z-index: 1;position: relative;background-color: white;}#sk-container-id-13 div.sk-parallel-item:first-child::after {align-self: flex-end;width: 50%;}#sk-container-id-13 div.sk-parallel-item:last-child::after {align-self: flex-start;width: 50%;}#sk-container-id-13 div.sk-parallel-item:only-child::after {width: 0;}#sk-container-id-13 div.sk-dashed-wrapped {border: 1px dashed gray;margin: 0 0.4em 0.5em 0.4em;box-sizing: border-box;padding-bottom: 0.4em;background-color: white;}#sk-container-id-13 div.sk-label label {font-family: monospace;font-weight: bold;display: inline-block;line-height: 1.2em;}#sk-container-id-13 div.sk-label-container {text-align: center;}#sk-container-id-13 div.sk-container {/* jupyter's `normalize.less` sets `[hidden] { display: none; }` but bootstrap.min.css set `[hidden] { display: none !important; }` so we also need the `!important` here to be able to override the default hidden behavior on the sphinx rendered scikit-learn.org. See: https://github.com/scikit-learn/scikit-learn/issues/21755 */display: inline-block !important;position: relative;}#sk-container-id-13 div.sk-text-repr-fallback {display: none;}</style><div id=\"sk-container-id-13\" class=\"sk-top-container\"><div class=\"sk-text-repr-fallback\"><pre>LinearRegression()</pre><b>In a Jupyter environment, please rerun this cell to show the HTML representation or trust the notebook. <br />On GitHub, the HTML representation is unable to render, please try loading this page with nbviewer.org.</b></div><div class=\"sk-container\" hidden><div class=\"sk-item\"><div class=\"sk-estimator sk-toggleable\"><input class=\"sk-toggleable__control sk-hidden--visually\" id=\"sk-estimator-id-21\" type=\"checkbox\" checked><label for=\"sk-estimator-id-21\" class=\"sk-toggleable__label sk-toggleable__label-arrow\">LinearRegression</label><div class=\"sk-toggleable__content\"><pre>LinearRegression()</pre></div></div></div></div></div>"
      ],
      "text/plain": [
       "LinearRegression()"
      ]
     },
     "execution_count": 94,
     "metadata": {},
     "output_type": "execute_result"
    }
   ],
   "source": [
    "training_model = LinearRegression()\n",
    "training_model"
   ]
  },
  {
   "cell_type": "code",
   "execution_count": 95,
   "id": "25789146",
   "metadata": {
    "execution": {
     "iopub.execute_input": "2025-08-08T03:49:31.789841Z",
     "iopub.status.busy": "2025-08-08T03:49:31.789565Z",
     "iopub.status.idle": "2025-08-08T03:49:31.809681Z",
     "shell.execute_reply": "2025-08-08T03:49:31.809063Z"
    },
    "papermill": {
     "duration": 0.04176,
     "end_time": "2025-08-08T03:49:31.810908",
     "exception": false,
     "start_time": "2025-08-08T03:49:31.769148",
     "status": "completed"
    },
    "tags": []
   },
   "outputs": [
    {
     "name": "stdout",
     "output_type": "stream",
     "text": [
      "CPU times: user 30.9 ms, sys: 1.8 ms, total: 32.7 ms\n",
      "Wall time: 13.7 ms\n"
     ]
    },
    {
     "data": {
      "text/html": [
       "<style>#sk-container-id-14 {color: black;background-color: white;}#sk-container-id-14 pre{padding: 0;}#sk-container-id-14 div.sk-toggleable {background-color: white;}#sk-container-id-14 label.sk-toggleable__label {cursor: pointer;display: block;width: 100%;margin-bottom: 0;padding: 0.3em;box-sizing: border-box;text-align: center;}#sk-container-id-14 label.sk-toggleable__label-arrow:before {content: \"▸\";float: left;margin-right: 0.25em;color: #696969;}#sk-container-id-14 label.sk-toggleable__label-arrow:hover:before {color: black;}#sk-container-id-14 div.sk-estimator:hover label.sk-toggleable__label-arrow:before {color: black;}#sk-container-id-14 div.sk-toggleable__content {max-height: 0;max-width: 0;overflow: hidden;text-align: left;background-color: #f0f8ff;}#sk-container-id-14 div.sk-toggleable__content pre {margin: 0.2em;color: black;border-radius: 0.25em;background-color: #f0f8ff;}#sk-container-id-14 input.sk-toggleable__control:checked~div.sk-toggleable__content {max-height: 200px;max-width: 100%;overflow: auto;}#sk-container-id-14 input.sk-toggleable__control:checked~label.sk-toggleable__label-arrow:before {content: \"▾\";}#sk-container-id-14 div.sk-estimator input.sk-toggleable__control:checked~label.sk-toggleable__label {background-color: #d4ebff;}#sk-container-id-14 div.sk-label input.sk-toggleable__control:checked~label.sk-toggleable__label {background-color: #d4ebff;}#sk-container-id-14 input.sk-hidden--visually {border: 0;clip: rect(1px 1px 1px 1px);clip: rect(1px, 1px, 1px, 1px);height: 1px;margin: -1px;overflow: hidden;padding: 0;position: absolute;width: 1px;}#sk-container-id-14 div.sk-estimator {font-family: monospace;background-color: #f0f8ff;border: 1px dotted black;border-radius: 0.25em;box-sizing: border-box;margin-bottom: 0.5em;}#sk-container-id-14 div.sk-estimator:hover {background-color: #d4ebff;}#sk-container-id-14 div.sk-parallel-item::after {content: \"\";width: 100%;border-bottom: 1px solid gray;flex-grow: 1;}#sk-container-id-14 div.sk-label:hover label.sk-toggleable__label {background-color: #d4ebff;}#sk-container-id-14 div.sk-serial::before {content: \"\";position: absolute;border-left: 1px solid gray;box-sizing: border-box;top: 0;bottom: 0;left: 50%;z-index: 0;}#sk-container-id-14 div.sk-serial {display: flex;flex-direction: column;align-items: center;background-color: white;padding-right: 0.2em;padding-left: 0.2em;position: relative;}#sk-container-id-14 div.sk-item {position: relative;z-index: 1;}#sk-container-id-14 div.sk-parallel {display: flex;align-items: stretch;justify-content: center;background-color: white;position: relative;}#sk-container-id-14 div.sk-item::before, #sk-container-id-14 div.sk-parallel-item::before {content: \"\";position: absolute;border-left: 1px solid gray;box-sizing: border-box;top: 0;bottom: 0;left: 50%;z-index: -1;}#sk-container-id-14 div.sk-parallel-item {display: flex;flex-direction: column;z-index: 1;position: relative;background-color: white;}#sk-container-id-14 div.sk-parallel-item:first-child::after {align-self: flex-end;width: 50%;}#sk-container-id-14 div.sk-parallel-item:last-child::after {align-self: flex-start;width: 50%;}#sk-container-id-14 div.sk-parallel-item:only-child::after {width: 0;}#sk-container-id-14 div.sk-dashed-wrapped {border: 1px dashed gray;margin: 0 0.4em 0.5em 0.4em;box-sizing: border-box;padding-bottom: 0.4em;background-color: white;}#sk-container-id-14 div.sk-label label {font-family: monospace;font-weight: bold;display: inline-block;line-height: 1.2em;}#sk-container-id-14 div.sk-label-container {text-align: center;}#sk-container-id-14 div.sk-container {/* jupyter's `normalize.less` sets `[hidden] { display: none; }` but bootstrap.min.css set `[hidden] { display: none !important; }` so we also need the `!important` here to be able to override the default hidden behavior on the sphinx rendered scikit-learn.org. See: https://github.com/scikit-learn/scikit-learn/issues/21755 */display: inline-block !important;position: relative;}#sk-container-id-14 div.sk-text-repr-fallback {display: none;}</style><div id=\"sk-container-id-14\" class=\"sk-top-container\"><div class=\"sk-text-repr-fallback\"><pre>LinearRegression()</pre><b>In a Jupyter environment, please rerun this cell to show the HTML representation or trust the notebook. <br />On GitHub, the HTML representation is unable to render, please try loading this page with nbviewer.org.</b></div><div class=\"sk-container\" hidden><div class=\"sk-item\"><div class=\"sk-estimator sk-toggleable\"><input class=\"sk-toggleable__control sk-hidden--visually\" id=\"sk-estimator-id-22\" type=\"checkbox\" checked><label for=\"sk-estimator-id-22\" class=\"sk-toggleable__label sk-toggleable__label-arrow\">LinearRegression</label><div class=\"sk-toggleable__content\"><pre>LinearRegression()</pre></div></div></div></div></div>"
      ],
      "text/plain": [
       "LinearRegression()"
      ]
     },
     "execution_count": 95,
     "metadata": {},
     "output_type": "execute_result"
    }
   ],
   "source": [
    "%%time\n",
    "training_model.fit(X_train, y_train)"
   ]
  },
  {
   "cell_type": "code",
   "execution_count": 96,
   "id": "54f9dcf3",
   "metadata": {
    "execution": {
     "iopub.execute_input": "2025-08-08T03:49:31.873106Z",
     "iopub.status.busy": "2025-08-08T03:49:31.872814Z",
     "iopub.status.idle": "2025-08-08T03:49:31.879995Z",
     "shell.execute_reply": "2025-08-08T03:49:31.879456Z"
    },
    "papermill": {
     "duration": 0.040504,
     "end_time": "2025-08-08T03:49:31.881289",
     "exception": false,
     "start_time": "2025-08-08T03:49:31.840785",
     "status": "completed"
    },
    "tags": []
   },
   "outputs": [
    {
     "data": {
      "text/plain": [
       "array([-1.30134791e-03,  2.75608141e-01, -2.54807752e-04, ...,\n",
       "        7.50060522e-01,  7.67505827e-03,  1.45781868e-04])"
      ]
     },
     "execution_count": 96,
     "metadata": {},
     "output_type": "execute_result"
    }
   ],
   "source": [
    "y_pred = training_model.predict(X_test)\n",
    "y_pred"
   ]
  },
  {
   "cell_type": "code",
   "execution_count": 97,
   "id": "b7e70705",
   "metadata": {
    "execution": {
     "iopub.execute_input": "2025-08-08T03:49:31.937624Z",
     "iopub.status.busy": "2025-08-08T03:49:31.937084Z",
     "iopub.status.idle": "2025-08-08T03:49:31.942742Z",
     "shell.execute_reply": "2025-08-08T03:49:31.942046Z"
    },
    "papermill": {
     "duration": 0.031952,
     "end_time": "2025-08-08T03:49:31.943840",
     "exception": false,
     "start_time": "2025-08-08T03:49:31.911888",
     "status": "completed"
    },
    "tags": []
   },
   "outputs": [
    {
     "data": {
      "text/plain": [
       "5158     0.00\n",
       "3831     0.36\n",
       "5117     0.00\n",
       "6326     2.70\n",
       "11359    0.49\n",
       "         ... \n",
       "10290    0.30\n",
       "13995    0.00\n",
       "9665     0.90\n",
       "2276     0.00\n",
       "4174     0.00\n",
       "Name: SolarEnergy, Length: 2924, dtype: float64"
      ]
     },
     "execution_count": 97,
     "metadata": {},
     "output_type": "execute_result"
    }
   ],
   "source": [
    "y_test"
   ]
  },
  {
   "cell_type": "code",
   "execution_count": 98,
   "id": "c9df1b17",
   "metadata": {
    "execution": {
     "iopub.execute_input": "2025-08-08T03:49:31.985722Z",
     "iopub.status.busy": "2025-08-08T03:49:31.985425Z",
     "iopub.status.idle": "2025-08-08T03:49:31.992369Z",
     "shell.execute_reply": "2025-08-08T03:49:31.991662Z"
    },
    "papermill": {
     "duration": 0.029212,
     "end_time": "2025-08-08T03:49:31.993755",
     "exception": false,
     "start_time": "2025-08-08T03:49:31.964543",
     "status": "completed"
    },
    "tags": []
   },
   "outputs": [],
   "source": [
    "mse = mean_squared_error(y_test, y_pred)\n",
    "mae = mean_absolute_error(y_test, y_pred)\n",
    "r2 = r2_score(y_test, y_pred)\n",
    "rmse = math.sqrt(mse)"
   ]
  },
  {
   "cell_type": "code",
   "execution_count": 99,
   "id": "c2462aa6",
   "metadata": {
    "execution": {
     "iopub.execute_input": "2025-08-08T03:49:32.038310Z",
     "iopub.status.busy": "2025-08-08T03:49:32.037995Z",
     "iopub.status.idle": "2025-08-08T03:49:32.042313Z",
     "shell.execute_reply": "2025-08-08T03:49:32.041629Z"
    },
    "papermill": {
     "duration": 0.027441,
     "end_time": "2025-08-08T03:49:32.043324",
     "exception": false,
     "start_time": "2025-08-08T03:49:32.015883",
     "status": "completed"
    },
    "tags": []
   },
   "outputs": [
    {
     "name": "stdout",
     "output_type": "stream",
     "text": [
      "MSE Score: 0.0044134068230927415\n",
      "MAE Score: 0.043133073370070794\n",
      "R2 Score: 0.9963776929577249\n",
      "RMSE Score: 0.06643347667473637\n"
     ]
    }
   ],
   "source": [
    "print(\"MSE Score:\", mse)\n",
    "print(\"MAE Score:\", mae)\n",
    "print(\"R2 Score:\", r2)\n",
    "print(\"RMSE Score:\", rmse)"
   ]
  },
  {
   "cell_type": "code",
   "execution_count": 100,
   "id": "99db5dc6",
   "metadata": {
    "execution": {
     "iopub.execute_input": "2025-08-08T03:49:32.084938Z",
     "iopub.status.busy": "2025-08-08T03:49:32.084683Z",
     "iopub.status.idle": "2025-08-08T03:49:32.096285Z",
     "shell.execute_reply": "2025-08-08T03:49:32.095066Z"
    },
    "papermill": {
     "duration": 0.033506,
     "end_time": "2025-08-08T03:49:32.097570",
     "exception": false,
     "start_time": "2025-08-08T03:49:32.064064",
     "status": "completed"
    },
    "tags": []
   },
   "outputs": [
    {
     "name": "stdout",
     "output_type": "stream",
     "text": [
      "✅ Regression model improved with same performance but fewer features!\n",
      "   MSE: 0.004408 ≈ 0.004413 (similar)\n",
      "   R²:  0.996382 ≈ 0.996378 (similar)\n",
      "   Features: 27 → 22 (🎯 5 fewer features!)\n",
      "💾 Registry updated: Model_Training_History/History_Regression.csv\n"
     ]
    }
   ],
   "source": [
    "regression_params = {\n",
    "    'model_name': model_name_for_saving,\n",
    "    'scaler_name': \"StandardScaler\",\n",
    "    'features_list': feature_columns_for_saving,\n",
    "    'target_column': target_name_for_saving,\n",
    "    'mse': mse,\n",
    "    'mae': mae,\n",
    "    'rmse': rmse,\n",
    "    'r2': r2,\n",
    "    'parameters': json.dumps(training_model.get_params())\n",
    "}\n",
    "save_model_performance_if_better('regression', regression_params)"
   ]
  },
  {
   "cell_type": "markdown",
   "id": "c69adc23",
   "metadata": {
    "papermill": {
     "duration": 0.020001,
     "end_time": "2025-08-08T03:49:32.138015",
     "exception": false,
     "start_time": "2025-08-08T03:49:32.118014",
     "status": "completed"
    },
    "tags": []
   },
   "source": [
    "#### Tuning with Grid Search"
   ]
  },
  {
   "cell_type": "code",
   "execution_count": 101,
   "id": "62aa0d9e",
   "metadata": {
    "execution": {
     "iopub.execute_input": "2025-08-08T03:49:32.180477Z",
     "iopub.status.busy": "2025-08-08T03:49:32.179319Z",
     "iopub.status.idle": "2025-08-08T03:49:32.184005Z",
     "shell.execute_reply": "2025-08-08T03:49:32.183226Z"
    },
    "papermill": {
     "duration": 0.026816,
     "end_time": "2025-08-08T03:49:32.185411",
     "exception": false,
     "start_time": "2025-08-08T03:49:32.158595",
     "status": "completed"
    },
    "tags": []
   },
   "outputs": [],
   "source": [
    "grid_param = {\n",
    "    'fit_intercept': [True, False],\n",
    "    'copy_X': [True, False],\n",
    "    'positive': [True, False]\n",
    "}"
   ]
  },
  {
   "cell_type": "code",
   "execution_count": 102,
   "id": "2c5712b0",
   "metadata": {
    "execution": {
     "iopub.execute_input": "2025-08-08T03:49:32.229523Z",
     "iopub.status.busy": "2025-08-08T03:49:32.229281Z",
     "iopub.status.idle": "2025-08-08T03:49:32.233450Z",
     "shell.execute_reply": "2025-08-08T03:49:32.232610Z"
    },
    "papermill": {
     "duration": 0.027697,
     "end_time": "2025-08-08T03:49:32.234608",
     "exception": false,
     "start_time": "2025-08-08T03:49:32.206911",
     "status": "completed"
    },
    "tags": []
   },
   "outputs": [],
   "source": [
    "grid_search = GridSearchCV(\n",
    "    LinearRegression(), \n",
    "    grid_param, \n",
    "    cv=5, \n",
    "    scoring='neg_mean_squared_error', \n",
    "    n_jobs=-1, # allow parallel processing, you cant use your own laptop while this runs\n",
    "    verbose=1\n",
    ")"
   ]
  },
  {
   "cell_type": "code",
   "execution_count": 103,
   "id": "b65b02e1",
   "metadata": {
    "execution": {
     "iopub.execute_input": "2025-08-08T03:49:32.277553Z",
     "iopub.status.busy": "2025-08-08T03:49:32.277309Z",
     "iopub.status.idle": "2025-08-08T03:49:32.659672Z",
     "shell.execute_reply": "2025-08-08T03:49:32.658373Z"
    },
    "papermill": {
     "duration": 0.404899,
     "end_time": "2025-08-08T03:49:32.661058",
     "exception": false,
     "start_time": "2025-08-08T03:49:32.256159",
     "status": "completed"
    },
    "tags": []
   },
   "outputs": [
    {
     "name": "stdout",
     "output_type": "stream",
     "text": [
      "Starting hyperparameter tuning...\n",
      "Fitting 5 folds for each of 8 candidates, totalling 40 fits\n",
      "CPU times: user 58.9 ms, sys: 10.3 ms, total: 69.1 ms\n",
      "Wall time: 376 ms\n"
     ]
    },
    {
     "data": {
      "text/html": [
       "<style>#sk-container-id-15 {color: black;background-color: white;}#sk-container-id-15 pre{padding: 0;}#sk-container-id-15 div.sk-toggleable {background-color: white;}#sk-container-id-15 label.sk-toggleable__label {cursor: pointer;display: block;width: 100%;margin-bottom: 0;padding: 0.3em;box-sizing: border-box;text-align: center;}#sk-container-id-15 label.sk-toggleable__label-arrow:before {content: \"▸\";float: left;margin-right: 0.25em;color: #696969;}#sk-container-id-15 label.sk-toggleable__label-arrow:hover:before {color: black;}#sk-container-id-15 div.sk-estimator:hover label.sk-toggleable__label-arrow:before {color: black;}#sk-container-id-15 div.sk-toggleable__content {max-height: 0;max-width: 0;overflow: hidden;text-align: left;background-color: #f0f8ff;}#sk-container-id-15 div.sk-toggleable__content pre {margin: 0.2em;color: black;border-radius: 0.25em;background-color: #f0f8ff;}#sk-container-id-15 input.sk-toggleable__control:checked~div.sk-toggleable__content {max-height: 200px;max-width: 100%;overflow: auto;}#sk-container-id-15 input.sk-toggleable__control:checked~label.sk-toggleable__label-arrow:before {content: \"▾\";}#sk-container-id-15 div.sk-estimator input.sk-toggleable__control:checked~label.sk-toggleable__label {background-color: #d4ebff;}#sk-container-id-15 div.sk-label input.sk-toggleable__control:checked~label.sk-toggleable__label {background-color: #d4ebff;}#sk-container-id-15 input.sk-hidden--visually {border: 0;clip: rect(1px 1px 1px 1px);clip: rect(1px, 1px, 1px, 1px);height: 1px;margin: -1px;overflow: hidden;padding: 0;position: absolute;width: 1px;}#sk-container-id-15 div.sk-estimator {font-family: monospace;background-color: #f0f8ff;border: 1px dotted black;border-radius: 0.25em;box-sizing: border-box;margin-bottom: 0.5em;}#sk-container-id-15 div.sk-estimator:hover {background-color: #d4ebff;}#sk-container-id-15 div.sk-parallel-item::after {content: \"\";width: 100%;border-bottom: 1px solid gray;flex-grow: 1;}#sk-container-id-15 div.sk-label:hover label.sk-toggleable__label {background-color: #d4ebff;}#sk-container-id-15 div.sk-serial::before {content: \"\";position: absolute;border-left: 1px solid gray;box-sizing: border-box;top: 0;bottom: 0;left: 50%;z-index: 0;}#sk-container-id-15 div.sk-serial {display: flex;flex-direction: column;align-items: center;background-color: white;padding-right: 0.2em;padding-left: 0.2em;position: relative;}#sk-container-id-15 div.sk-item {position: relative;z-index: 1;}#sk-container-id-15 div.sk-parallel {display: flex;align-items: stretch;justify-content: center;background-color: white;position: relative;}#sk-container-id-15 div.sk-item::before, #sk-container-id-15 div.sk-parallel-item::before {content: \"\";position: absolute;border-left: 1px solid gray;box-sizing: border-box;top: 0;bottom: 0;left: 50%;z-index: -1;}#sk-container-id-15 div.sk-parallel-item {display: flex;flex-direction: column;z-index: 1;position: relative;background-color: white;}#sk-container-id-15 div.sk-parallel-item:first-child::after {align-self: flex-end;width: 50%;}#sk-container-id-15 div.sk-parallel-item:last-child::after {align-self: flex-start;width: 50%;}#sk-container-id-15 div.sk-parallel-item:only-child::after {width: 0;}#sk-container-id-15 div.sk-dashed-wrapped {border: 1px dashed gray;margin: 0 0.4em 0.5em 0.4em;box-sizing: border-box;padding-bottom: 0.4em;background-color: white;}#sk-container-id-15 div.sk-label label {font-family: monospace;font-weight: bold;display: inline-block;line-height: 1.2em;}#sk-container-id-15 div.sk-label-container {text-align: center;}#sk-container-id-15 div.sk-container {/* jupyter's `normalize.less` sets `[hidden] { display: none; }` but bootstrap.min.css set `[hidden] { display: none !important; }` so we also need the `!important` here to be able to override the default hidden behavior on the sphinx rendered scikit-learn.org. See: https://github.com/scikit-learn/scikit-learn/issues/21755 */display: inline-block !important;position: relative;}#sk-container-id-15 div.sk-text-repr-fallback {display: none;}</style><div id=\"sk-container-id-15\" class=\"sk-top-container\"><div class=\"sk-text-repr-fallback\"><pre>GridSearchCV(cv=5, estimator=LinearRegression(), n_jobs=-1,\n",
       "             param_grid={&#x27;copy_X&#x27;: [True, False],\n",
       "                         &#x27;fit_intercept&#x27;: [True, False],\n",
       "                         &#x27;positive&#x27;: [True, False]},\n",
       "             scoring=&#x27;neg_mean_squared_error&#x27;, verbose=1)</pre><b>In a Jupyter environment, please rerun this cell to show the HTML representation or trust the notebook. <br />On GitHub, the HTML representation is unable to render, please try loading this page with nbviewer.org.</b></div><div class=\"sk-container\" hidden><div class=\"sk-item sk-dashed-wrapped\"><div class=\"sk-label-container\"><div class=\"sk-label sk-toggleable\"><input class=\"sk-toggleable__control sk-hidden--visually\" id=\"sk-estimator-id-23\" type=\"checkbox\" ><label for=\"sk-estimator-id-23\" class=\"sk-toggleable__label sk-toggleable__label-arrow\">GridSearchCV</label><div class=\"sk-toggleable__content\"><pre>GridSearchCV(cv=5, estimator=LinearRegression(), n_jobs=-1,\n",
       "             param_grid={&#x27;copy_X&#x27;: [True, False],\n",
       "                         &#x27;fit_intercept&#x27;: [True, False],\n",
       "                         &#x27;positive&#x27;: [True, False]},\n",
       "             scoring=&#x27;neg_mean_squared_error&#x27;, verbose=1)</pre></div></div></div><div class=\"sk-parallel\"><div class=\"sk-parallel-item\"><div class=\"sk-item\"><div class=\"sk-label-container\"><div class=\"sk-label sk-toggleable\"><input class=\"sk-toggleable__control sk-hidden--visually\" id=\"sk-estimator-id-24\" type=\"checkbox\" ><label for=\"sk-estimator-id-24\" class=\"sk-toggleable__label sk-toggleable__label-arrow\">estimator: LinearRegression</label><div class=\"sk-toggleable__content\"><pre>LinearRegression()</pre></div></div></div><div class=\"sk-serial\"><div class=\"sk-item\"><div class=\"sk-estimator sk-toggleable\"><input class=\"sk-toggleable__control sk-hidden--visually\" id=\"sk-estimator-id-25\" type=\"checkbox\" ><label for=\"sk-estimator-id-25\" class=\"sk-toggleable__label sk-toggleable__label-arrow\">LinearRegression</label><div class=\"sk-toggleable__content\"><pre>LinearRegression()</pre></div></div></div></div></div></div></div></div></div></div>"
      ],
      "text/plain": [
       "GridSearchCV(cv=5, estimator=LinearRegression(), n_jobs=-1,\n",
       "             param_grid={'copy_X': [True, False],\n",
       "                         'fit_intercept': [True, False],\n",
       "                         'positive': [True, False]},\n",
       "             scoring='neg_mean_squared_error', verbose=1)"
      ]
     },
     "execution_count": 103,
     "metadata": {},
     "output_type": "execute_result"
    }
   ],
   "source": [
    "%%time\n",
    "print(\"Starting hyperparameter tuning...\")\n",
    "grid_search.fit(X_train, y_train)"
   ]
  },
  {
   "cell_type": "code",
   "execution_count": 104,
   "id": "bc717c0f",
   "metadata": {
    "execution": {
     "iopub.execute_input": "2025-08-08T03:49:32.724835Z",
     "iopub.status.busy": "2025-08-08T03:49:32.724348Z",
     "iopub.status.idle": "2025-08-08T03:49:32.731043Z",
     "shell.execute_reply": "2025-08-08T03:49:32.730534Z"
    },
    "papermill": {
     "duration": 0.039741,
     "end_time": "2025-08-08T03:49:32.732245",
     "exception": false,
     "start_time": "2025-08-08T03:49:32.692504",
     "status": "completed"
    },
    "tags": []
   },
   "outputs": [
    {
     "name": "stdout",
     "output_type": "stream",
     "text": [
      "TUNING RESULTS\n",
      "==================================================\n",
      "Best Parameters: {'copy_X': True, 'fit_intercept': True, 'positive': False}\n",
      "Best Cross-Validation Score (Negative MSE): -0.004312338837070825\n",
      "Best Cross-Validation Score (MSE): 0.004312338837070825\n",
      "Best Cross-Validation Score (RMSE): 0.06566840059778238\n"
     ]
    }
   ],
   "source": [
    "print(\"TUNING RESULTS\")\n",
    "print(\"=\"*50)\n",
    "print(\"Best Parameters:\", grid_search.best_params_)\n",
    "print(\"Best Cross-Validation Score (Negative MSE):\", grid_search.best_score_)\n",
    "print(\"Best Cross-Validation Score (MSE):\", -grid_search.best_score_)\n",
    "print(\"Best Cross-Validation Score (RMSE):\", math.sqrt(-grid_search.best_score_))"
   ]
  },
  {
   "cell_type": "code",
   "execution_count": 105,
   "id": "51034d43",
   "metadata": {
    "execution": {
     "iopub.execute_input": "2025-08-08T03:49:32.804767Z",
     "iopub.status.busy": "2025-08-08T03:49:32.804539Z",
     "iopub.status.idle": "2025-08-08T03:49:32.808161Z",
     "shell.execute_reply": "2025-08-08T03:49:32.807604Z"
    },
    "papermill": {
     "duration": 0.036813,
     "end_time": "2025-08-08T03:49:32.809139",
     "exception": false,
     "start_time": "2025-08-08T03:49:32.772326",
     "status": "completed"
    },
    "tags": []
   },
   "outputs": [],
   "source": [
    "grid_search_best_model = grid_search.best_estimator_\n",
    "y_pred = grid_search_best_model.predict(X_test)"
   ]
  },
  {
   "cell_type": "code",
   "execution_count": 106,
   "id": "4228f934",
   "metadata": {
    "execution": {
     "iopub.execute_input": "2025-08-08T03:49:32.853693Z",
     "iopub.status.busy": "2025-08-08T03:49:32.853461Z",
     "iopub.status.idle": "2025-08-08T03:49:32.861075Z",
     "shell.execute_reply": "2025-08-08T03:49:32.859783Z"
    },
    "papermill": {
     "duration": 0.031685,
     "end_time": "2025-08-08T03:49:32.862732",
     "exception": false,
     "start_time": "2025-08-08T03:49:32.831047",
     "status": "completed"
    },
    "tags": []
   },
   "outputs": [],
   "source": [
    "mse_grid_search = mean_squared_error(y_test, y_pred)\n",
    "mae_grid_search = mean_absolute_error(y_test, y_pred)\n",
    "r2_grid_search = r2_score(y_test, y_pred)\n",
    "rmse_grid_search = math.sqrt(mse_grid_search)"
   ]
  },
  {
   "cell_type": "code",
   "execution_count": 107,
   "id": "b29c079f",
   "metadata": {
    "execution": {
     "iopub.execute_input": "2025-08-08T03:49:32.907573Z",
     "iopub.status.busy": "2025-08-08T03:49:32.907318Z",
     "iopub.status.idle": "2025-08-08T03:49:32.912084Z",
     "shell.execute_reply": "2025-08-08T03:49:32.911202Z"
    },
    "papermill": {
     "duration": 0.028369,
     "end_time": "2025-08-08T03:49:32.913208",
     "exception": false,
     "start_time": "2025-08-08T03:49:32.884839",
     "status": "completed"
    },
    "tags": []
   },
   "outputs": [
    {
     "name": "stdout",
     "output_type": "stream",
     "text": [
      "MSE Score: 0.0044134068230927415\n",
      "MAE Score: 0.043133073370070794\n",
      "R2 Score: 0.9963776929577249\n",
      "RMSE Score: 0.06643347667473637\n"
     ]
    }
   ],
   "source": [
    "print(\"MSE Score:\", mse_grid_search)\n",
    "print(\"MAE Score:\", mae_grid_search)\n",
    "print(\"R2 Score:\", r2_grid_search)\n",
    "print(\"RMSE Score:\", rmse_grid_search)"
   ]
  },
  {
   "cell_type": "code",
   "execution_count": 108,
   "id": "7065e5b9",
   "metadata": {
    "execution": {
     "iopub.execute_input": "2025-08-08T03:49:32.958847Z",
     "iopub.status.busy": "2025-08-08T03:49:32.958579Z",
     "iopub.status.idle": "2025-08-08T03:49:32.969509Z",
     "shell.execute_reply": "2025-08-08T03:49:32.968728Z"
    },
    "papermill": {
     "duration": 0.03506,
     "end_time": "2025-08-08T03:49:32.970967",
     "exception": false,
     "start_time": "2025-08-08T03:49:32.935907",
     "status": "completed"
    },
    "tags": []
   },
   "outputs": [
    {
     "name": "stdout",
     "output_type": "stream",
     "text": [
      "✅ Regression model improved with same performance but fewer features!\n",
      "   MSE: 0.004412 ≈ 0.004413 (similar)\n",
      "   R²:  0.996379 ≈ 0.996378 (similar)\n",
      "   Features: 27 → 22 (🎯 5 fewer features!)\n",
      "💾 Registry updated: Model_Training_History/History_Regression.csv\n"
     ]
    }
   ],
   "source": [
    "regression_params = {\n",
    "    'model_name': model_name_for_saving + \" Tuned\",\n",
    "    'scaler_name': \"StandardScaler\",\n",
    "    'features_list': feature_columns_for_saving,\n",
    "    'target_column': target_name_for_saving,\n",
    "    'mse': mse_grid_search,\n",
    "    'mae': mae_grid_search,\n",
    "    'rmse': rmse_grid_search,\n",
    "    'r2': r2_grid_search,\n",
    "    'parameters' : json.dumps({\n",
    "        \"best_params\": grid_search.best_params_,\n",
    "        \"cv_score\": grid_search.best_score_,\n",
    "        \"all_params\": grid_search_best_model.get_params()\n",
    "    })\n",
    "}\n",
    "save_model_performance_if_better('regression', regression_params)"
   ]
  },
  {
   "cell_type": "markdown",
   "id": "a91b1fd4",
   "metadata": {
    "papermill": {
     "duration": 0.020593,
     "end_time": "2025-08-08T03:49:33.013246",
     "exception": false,
     "start_time": "2025-08-08T03:49:32.992653",
     "status": "completed"
    },
    "tags": []
   },
   "source": [
    "### Robust Scaler"
   ]
  },
  {
   "cell_type": "code",
   "execution_count": 109,
   "id": "8faf25c4",
   "metadata": {
    "execution": {
     "iopub.execute_input": "2025-08-08T03:49:33.064364Z",
     "iopub.status.busy": "2025-08-08T03:49:33.063583Z",
     "iopub.status.idle": "2025-08-08T03:49:33.085693Z",
     "shell.execute_reply": "2025-08-08T03:49:33.084754Z"
    },
    "papermill": {
     "duration": 0.053143,
     "end_time": "2025-08-08T03:49:33.087196",
     "exception": false,
     "start_time": "2025-08-08T03:49:33.034053",
     "status": "completed"
    },
    "tags": []
   },
   "outputs": [],
   "source": [
    "scaler = RobustScaler()\n",
    "X_train = scaler.fit_transform(X_train_raw)\n",
    "X_test = scaler.transform(X_test_raw)"
   ]
  },
  {
   "cell_type": "code",
   "execution_count": 110,
   "id": "df6f67ec",
   "metadata": {
    "execution": {
     "iopub.execute_input": "2025-08-08T03:49:33.135029Z",
     "iopub.status.busy": "2025-08-08T03:49:33.134737Z",
     "iopub.status.idle": "2025-08-08T03:49:33.139754Z",
     "shell.execute_reply": "2025-08-08T03:49:33.139174Z"
    },
    "papermill": {
     "duration": 0.02871,
     "end_time": "2025-08-08T03:49:33.140833",
     "exception": false,
     "start_time": "2025-08-08T03:49:33.112123",
     "status": "completed"
    },
    "tags": []
   },
   "outputs": [
    {
     "data": {
      "text/plain": [
       "array([[ 0.6       , -0.16666667,  0.        , ..., -0.03738547,\n",
       "         1.44008264,  8.87596899],\n",
       "       [ 1.        ,  0.33333333,  1.        , ..., -0.84268652,\n",
       "         0.62603306,  0.        ],\n",
       "       [-0.8       , -1.        ,  0.        , ..., -0.84268652,\n",
       "         0.        ,  0.        ],\n",
       "       ...,\n",
       "       [ 0.4       , -0.16666667,  0.        , ...,  0.5899051 ,\n",
       "         0.6322314 ,  0.75193798],\n",
       "       [-1.        ,  0.75      ,  0.        , ..., -0.84268652,\n",
       "         0.        ,  0.        ],\n",
       "       [ 0.6       , -0.33333333,  0.        , ...,  0.61755563,\n",
       "         0.59917355,  7.5       ]])"
      ]
     },
     "execution_count": 110,
     "metadata": {},
     "output_type": "execute_result"
    }
   ],
   "source": [
    "X_train"
   ]
  },
  {
   "cell_type": "code",
   "execution_count": 111,
   "id": "7db1e231",
   "metadata": {
    "execution": {
     "iopub.execute_input": "2025-08-08T03:49:33.185013Z",
     "iopub.status.busy": "2025-08-08T03:49:33.184725Z",
     "iopub.status.idle": "2025-08-08T03:49:33.190330Z",
     "shell.execute_reply": "2025-08-08T03:49:33.189630Z"
    },
    "papermill": {
     "duration": 0.028791,
     "end_time": "2025-08-08T03:49:33.191550",
     "exception": false,
     "start_time": "2025-08-08T03:49:33.162759",
     "status": "completed"
    },
    "tags": []
   },
   "outputs": [
    {
     "data": {
      "text/plain": [
       "array([[ 4.00000000e-01,  8.33333333e-01,  0.00000000e+00, ...,\n",
       "         6.20009817e-01,  0.00000000e+00,  0.00000000e+00],\n",
       "       [ 0.00000000e+00,  2.50000000e-01,  1.00000000e+00, ...,\n",
       "         7.40592277e-01,  1.52892562e-01,  0.00000000e+00],\n",
       "       [ 4.00000000e-01, -5.83333333e-01,  0.00000000e+00, ...,\n",
       "         7.82804319e-01,  0.00000000e+00,  0.00000000e+00],\n",
       "       ...,\n",
       "       [-8.00000000e-01,  4.16666667e-01,  1.00000000e+00, ...,\n",
       "        -8.40559555e-01,  4.19421488e-01,  0.00000000e+00],\n",
       "       [-4.00000000e-01,  6.66666667e-01,  0.00000000e+00, ...,\n",
       "        -8.42686518e-01,  0.00000000e+00,  6.67829457e+00],\n",
       "       [ 0.00000000e+00,  8.33333333e-01,  0.00000000e+00, ...,\n",
       "         1.71793194e-03,  0.00000000e+00,  0.00000000e+00]])"
      ]
     },
     "execution_count": 111,
     "metadata": {},
     "output_type": "execute_result"
    }
   ],
   "source": [
    "X_test"
   ]
  },
  {
   "cell_type": "markdown",
   "id": "d4b8b216",
   "metadata": {
    "papermill": {
     "duration": 0.021193,
     "end_time": "2025-08-08T03:49:33.235134",
     "exception": false,
     "start_time": "2025-08-08T03:49:33.213941",
     "status": "completed"
    },
    "tags": []
   },
   "source": [
    "#### Default Parameters"
   ]
  },
  {
   "cell_type": "code",
   "execution_count": 112,
   "id": "deb0972e",
   "metadata": {
    "execution": {
     "iopub.execute_input": "2025-08-08T03:49:33.278922Z",
     "iopub.status.busy": "2025-08-08T03:49:33.278648Z",
     "iopub.status.idle": "2025-08-08T03:49:33.283710Z",
     "shell.execute_reply": "2025-08-08T03:49:33.283048Z"
    },
    "papermill": {
     "duration": 0.028411,
     "end_time": "2025-08-08T03:49:33.284928",
     "exception": false,
     "start_time": "2025-08-08T03:49:33.256517",
     "status": "completed"
    },
    "tags": []
   },
   "outputs": [
    {
     "data": {
      "text/html": [
       "<style>#sk-container-id-16 {color: black;background-color: white;}#sk-container-id-16 pre{padding: 0;}#sk-container-id-16 div.sk-toggleable {background-color: white;}#sk-container-id-16 label.sk-toggleable__label {cursor: pointer;display: block;width: 100%;margin-bottom: 0;padding: 0.3em;box-sizing: border-box;text-align: center;}#sk-container-id-16 label.sk-toggleable__label-arrow:before {content: \"▸\";float: left;margin-right: 0.25em;color: #696969;}#sk-container-id-16 label.sk-toggleable__label-arrow:hover:before {color: black;}#sk-container-id-16 div.sk-estimator:hover label.sk-toggleable__label-arrow:before {color: black;}#sk-container-id-16 div.sk-toggleable__content {max-height: 0;max-width: 0;overflow: hidden;text-align: left;background-color: #f0f8ff;}#sk-container-id-16 div.sk-toggleable__content pre {margin: 0.2em;color: black;border-radius: 0.25em;background-color: #f0f8ff;}#sk-container-id-16 input.sk-toggleable__control:checked~div.sk-toggleable__content {max-height: 200px;max-width: 100%;overflow: auto;}#sk-container-id-16 input.sk-toggleable__control:checked~label.sk-toggleable__label-arrow:before {content: \"▾\";}#sk-container-id-16 div.sk-estimator input.sk-toggleable__control:checked~label.sk-toggleable__label {background-color: #d4ebff;}#sk-container-id-16 div.sk-label input.sk-toggleable__control:checked~label.sk-toggleable__label {background-color: #d4ebff;}#sk-container-id-16 input.sk-hidden--visually {border: 0;clip: rect(1px 1px 1px 1px);clip: rect(1px, 1px, 1px, 1px);height: 1px;margin: -1px;overflow: hidden;padding: 0;position: absolute;width: 1px;}#sk-container-id-16 div.sk-estimator {font-family: monospace;background-color: #f0f8ff;border: 1px dotted black;border-radius: 0.25em;box-sizing: border-box;margin-bottom: 0.5em;}#sk-container-id-16 div.sk-estimator:hover {background-color: #d4ebff;}#sk-container-id-16 div.sk-parallel-item::after {content: \"\";width: 100%;border-bottom: 1px solid gray;flex-grow: 1;}#sk-container-id-16 div.sk-label:hover label.sk-toggleable__label {background-color: #d4ebff;}#sk-container-id-16 div.sk-serial::before {content: \"\";position: absolute;border-left: 1px solid gray;box-sizing: border-box;top: 0;bottom: 0;left: 50%;z-index: 0;}#sk-container-id-16 div.sk-serial {display: flex;flex-direction: column;align-items: center;background-color: white;padding-right: 0.2em;padding-left: 0.2em;position: relative;}#sk-container-id-16 div.sk-item {position: relative;z-index: 1;}#sk-container-id-16 div.sk-parallel {display: flex;align-items: stretch;justify-content: center;background-color: white;position: relative;}#sk-container-id-16 div.sk-item::before, #sk-container-id-16 div.sk-parallel-item::before {content: \"\";position: absolute;border-left: 1px solid gray;box-sizing: border-box;top: 0;bottom: 0;left: 50%;z-index: -1;}#sk-container-id-16 div.sk-parallel-item {display: flex;flex-direction: column;z-index: 1;position: relative;background-color: white;}#sk-container-id-16 div.sk-parallel-item:first-child::after {align-self: flex-end;width: 50%;}#sk-container-id-16 div.sk-parallel-item:last-child::after {align-self: flex-start;width: 50%;}#sk-container-id-16 div.sk-parallel-item:only-child::after {width: 0;}#sk-container-id-16 div.sk-dashed-wrapped {border: 1px dashed gray;margin: 0 0.4em 0.5em 0.4em;box-sizing: border-box;padding-bottom: 0.4em;background-color: white;}#sk-container-id-16 div.sk-label label {font-family: monospace;font-weight: bold;display: inline-block;line-height: 1.2em;}#sk-container-id-16 div.sk-label-container {text-align: center;}#sk-container-id-16 div.sk-container {/* jupyter's `normalize.less` sets `[hidden] { display: none; }` but bootstrap.min.css set `[hidden] { display: none !important; }` so we also need the `!important` here to be able to override the default hidden behavior on the sphinx rendered scikit-learn.org. See: https://github.com/scikit-learn/scikit-learn/issues/21755 */display: inline-block !important;position: relative;}#sk-container-id-16 div.sk-text-repr-fallback {display: none;}</style><div id=\"sk-container-id-16\" class=\"sk-top-container\"><div class=\"sk-text-repr-fallback\"><pre>LinearRegression()</pre><b>In a Jupyter environment, please rerun this cell to show the HTML representation or trust the notebook. <br />On GitHub, the HTML representation is unable to render, please try loading this page with nbviewer.org.</b></div><div class=\"sk-container\" hidden><div class=\"sk-item\"><div class=\"sk-estimator sk-toggleable\"><input class=\"sk-toggleable__control sk-hidden--visually\" id=\"sk-estimator-id-26\" type=\"checkbox\" checked><label for=\"sk-estimator-id-26\" class=\"sk-toggleable__label sk-toggleable__label-arrow\">LinearRegression</label><div class=\"sk-toggleable__content\"><pre>LinearRegression()</pre></div></div></div></div></div>"
      ],
      "text/plain": [
       "LinearRegression()"
      ]
     },
     "execution_count": 112,
     "metadata": {},
     "output_type": "execute_result"
    }
   ],
   "source": [
    "training_model = LinearRegression()\n",
    "training_model"
   ]
  },
  {
   "cell_type": "code",
   "execution_count": 113,
   "id": "c8ec5198",
   "metadata": {
    "execution": {
     "iopub.execute_input": "2025-08-08T03:49:33.330086Z",
     "iopub.status.busy": "2025-08-08T03:49:33.329767Z",
     "iopub.status.idle": "2025-08-08T03:49:33.358376Z",
     "shell.execute_reply": "2025-08-08T03:49:33.356507Z"
    },
    "papermill": {
     "duration": 0.053225,
     "end_time": "2025-08-08T03:49:33.360457",
     "exception": false,
     "start_time": "2025-08-08T03:49:33.307232",
     "status": "completed"
    },
    "tags": []
   },
   "outputs": [
    {
     "name": "stdout",
     "output_type": "stream",
     "text": [
      "CPU times: user 50.8 ms, sys: 1.38 ms, total: 52.2 ms\n",
      "Wall time: 20.2 ms\n"
     ]
    },
    {
     "data": {
      "text/html": [
       "<style>#sk-container-id-17 {color: black;background-color: white;}#sk-container-id-17 pre{padding: 0;}#sk-container-id-17 div.sk-toggleable {background-color: white;}#sk-container-id-17 label.sk-toggleable__label {cursor: pointer;display: block;width: 100%;margin-bottom: 0;padding: 0.3em;box-sizing: border-box;text-align: center;}#sk-container-id-17 label.sk-toggleable__label-arrow:before {content: \"▸\";float: left;margin-right: 0.25em;color: #696969;}#sk-container-id-17 label.sk-toggleable__label-arrow:hover:before {color: black;}#sk-container-id-17 div.sk-estimator:hover label.sk-toggleable__label-arrow:before {color: black;}#sk-container-id-17 div.sk-toggleable__content {max-height: 0;max-width: 0;overflow: hidden;text-align: left;background-color: #f0f8ff;}#sk-container-id-17 div.sk-toggleable__content pre {margin: 0.2em;color: black;border-radius: 0.25em;background-color: #f0f8ff;}#sk-container-id-17 input.sk-toggleable__control:checked~div.sk-toggleable__content {max-height: 200px;max-width: 100%;overflow: auto;}#sk-container-id-17 input.sk-toggleable__control:checked~label.sk-toggleable__label-arrow:before {content: \"▾\";}#sk-container-id-17 div.sk-estimator input.sk-toggleable__control:checked~label.sk-toggleable__label {background-color: #d4ebff;}#sk-container-id-17 div.sk-label input.sk-toggleable__control:checked~label.sk-toggleable__label {background-color: #d4ebff;}#sk-container-id-17 input.sk-hidden--visually {border: 0;clip: rect(1px 1px 1px 1px);clip: rect(1px, 1px, 1px, 1px);height: 1px;margin: -1px;overflow: hidden;padding: 0;position: absolute;width: 1px;}#sk-container-id-17 div.sk-estimator {font-family: monospace;background-color: #f0f8ff;border: 1px dotted black;border-radius: 0.25em;box-sizing: border-box;margin-bottom: 0.5em;}#sk-container-id-17 div.sk-estimator:hover {background-color: #d4ebff;}#sk-container-id-17 div.sk-parallel-item::after {content: \"\";width: 100%;border-bottom: 1px solid gray;flex-grow: 1;}#sk-container-id-17 div.sk-label:hover label.sk-toggleable__label {background-color: #d4ebff;}#sk-container-id-17 div.sk-serial::before {content: \"\";position: absolute;border-left: 1px solid gray;box-sizing: border-box;top: 0;bottom: 0;left: 50%;z-index: 0;}#sk-container-id-17 div.sk-serial {display: flex;flex-direction: column;align-items: center;background-color: white;padding-right: 0.2em;padding-left: 0.2em;position: relative;}#sk-container-id-17 div.sk-item {position: relative;z-index: 1;}#sk-container-id-17 div.sk-parallel {display: flex;align-items: stretch;justify-content: center;background-color: white;position: relative;}#sk-container-id-17 div.sk-item::before, #sk-container-id-17 div.sk-parallel-item::before {content: \"\";position: absolute;border-left: 1px solid gray;box-sizing: border-box;top: 0;bottom: 0;left: 50%;z-index: -1;}#sk-container-id-17 div.sk-parallel-item {display: flex;flex-direction: column;z-index: 1;position: relative;background-color: white;}#sk-container-id-17 div.sk-parallel-item:first-child::after {align-self: flex-end;width: 50%;}#sk-container-id-17 div.sk-parallel-item:last-child::after {align-self: flex-start;width: 50%;}#sk-container-id-17 div.sk-parallel-item:only-child::after {width: 0;}#sk-container-id-17 div.sk-dashed-wrapped {border: 1px dashed gray;margin: 0 0.4em 0.5em 0.4em;box-sizing: border-box;padding-bottom: 0.4em;background-color: white;}#sk-container-id-17 div.sk-label label {font-family: monospace;font-weight: bold;display: inline-block;line-height: 1.2em;}#sk-container-id-17 div.sk-label-container {text-align: center;}#sk-container-id-17 div.sk-container {/* jupyter's `normalize.less` sets `[hidden] { display: none; }` but bootstrap.min.css set `[hidden] { display: none !important; }` so we also need the `!important` here to be able to override the default hidden behavior on the sphinx rendered scikit-learn.org. See: https://github.com/scikit-learn/scikit-learn/issues/21755 */display: inline-block !important;position: relative;}#sk-container-id-17 div.sk-text-repr-fallback {display: none;}</style><div id=\"sk-container-id-17\" class=\"sk-top-container\"><div class=\"sk-text-repr-fallback\"><pre>LinearRegression()</pre><b>In a Jupyter environment, please rerun this cell to show the HTML representation or trust the notebook. <br />On GitHub, the HTML representation is unable to render, please try loading this page with nbviewer.org.</b></div><div class=\"sk-container\" hidden><div class=\"sk-item\"><div class=\"sk-estimator sk-toggleable\"><input class=\"sk-toggleable__control sk-hidden--visually\" id=\"sk-estimator-id-27\" type=\"checkbox\" checked><label for=\"sk-estimator-id-27\" class=\"sk-toggleable__label sk-toggleable__label-arrow\">LinearRegression</label><div class=\"sk-toggleable__content\"><pre>LinearRegression()</pre></div></div></div></div></div>"
      ],
      "text/plain": [
       "LinearRegression()"
      ]
     },
     "execution_count": 113,
     "metadata": {},
     "output_type": "execute_result"
    }
   ],
   "source": [
    "%%time\n",
    "training_model.fit(X_train, y_train)"
   ]
  },
  {
   "cell_type": "code",
   "execution_count": 114,
   "id": "d8627f75",
   "metadata": {
    "execution": {
     "iopub.execute_input": "2025-08-08T03:49:33.446473Z",
     "iopub.status.busy": "2025-08-08T03:49:33.446200Z",
     "iopub.status.idle": "2025-08-08T03:49:33.453396Z",
     "shell.execute_reply": "2025-08-08T03:49:33.452859Z"
    },
    "papermill": {
     "duration": 0.042963,
     "end_time": "2025-08-08T03:49:33.454548",
     "exception": false,
     "start_time": "2025-08-08T03:49:33.411585",
     "status": "completed"
    },
    "tags": []
   },
   "outputs": [
    {
     "data": {
      "text/plain": [
       "array([-1.48637975e-03,  2.75232604e-01, -9.49951583e-04, ...,\n",
       "        7.49311553e-01,  8.23834224e-03, -1.47455860e-04])"
      ]
     },
     "execution_count": 114,
     "metadata": {},
     "output_type": "execute_result"
    }
   ],
   "source": [
    "y_pred = training_model.predict(X_test)\n",
    "y_pred"
   ]
  },
  {
   "cell_type": "code",
   "execution_count": 115,
   "id": "3d7b2393",
   "metadata": {
    "execution": {
     "iopub.execute_input": "2025-08-08T03:49:33.503706Z",
     "iopub.status.busy": "2025-08-08T03:49:33.503444Z",
     "iopub.status.idle": "2025-08-08T03:49:33.510076Z",
     "shell.execute_reply": "2025-08-08T03:49:33.509166Z"
    },
    "papermill": {
     "duration": 0.031059,
     "end_time": "2025-08-08T03:49:33.511532",
     "exception": false,
     "start_time": "2025-08-08T03:49:33.480473",
     "status": "completed"
    },
    "tags": []
   },
   "outputs": [
    {
     "data": {
      "text/plain": [
       "5158     0.00\n",
       "3831     0.36\n",
       "5117     0.00\n",
       "6326     2.70\n",
       "11359    0.49\n",
       "         ... \n",
       "10290    0.30\n",
       "13995    0.00\n",
       "9665     0.90\n",
       "2276     0.00\n",
       "4174     0.00\n",
       "Name: SolarEnergy, Length: 2924, dtype: float64"
      ]
     },
     "execution_count": 115,
     "metadata": {},
     "output_type": "execute_result"
    }
   ],
   "source": [
    "y_test"
   ]
  },
  {
   "cell_type": "code",
   "execution_count": 116,
   "id": "c7b17c7f",
   "metadata": {
    "execution": {
     "iopub.execute_input": "2025-08-08T03:49:33.558741Z",
     "iopub.status.busy": "2025-08-08T03:49:33.558476Z",
     "iopub.status.idle": "2025-08-08T03:49:33.565563Z",
     "shell.execute_reply": "2025-08-08T03:49:33.564672Z"
    },
    "papermill": {
     "duration": 0.032156,
     "end_time": "2025-08-08T03:49:33.566671",
     "exception": false,
     "start_time": "2025-08-08T03:49:33.534515",
     "status": "completed"
    },
    "tags": []
   },
   "outputs": [],
   "source": [
    "mse = mean_squared_error(y_test, y_pred)\n",
    "mae = mean_absolute_error(y_test, y_pred)\n",
    "r2 = r2_score(y_test, y_pred)\n",
    "rmse = math.sqrt(mse)"
   ]
  },
  {
   "cell_type": "code",
   "execution_count": 117,
   "id": "c05fe947",
   "metadata": {
    "execution": {
     "iopub.execute_input": "2025-08-08T03:49:33.612898Z",
     "iopub.status.busy": "2025-08-08T03:49:33.612646Z",
     "iopub.status.idle": "2025-08-08T03:49:33.616948Z",
     "shell.execute_reply": "2025-08-08T03:49:33.616173Z"
    },
    "papermill": {
     "duration": 0.028804,
     "end_time": "2025-08-08T03:49:33.618018",
     "exception": false,
     "start_time": "2025-08-08T03:49:33.589214",
     "status": "completed"
    },
    "tags": []
   },
   "outputs": [
    {
     "name": "stdout",
     "output_type": "stream",
     "text": [
      "MSE Score: 0.004412295477641503\n",
      "MAE Score: 0.04310381861798302\n",
      "R2 Score: 0.9963786050953582\n",
      "RMSE Score: 0.0664251117999925\n"
     ]
    }
   ],
   "source": [
    "print(\"MSE Score:\", mse)\n",
    "print(\"MAE Score:\", mae)\n",
    "print(\"R2 Score:\", r2)\n",
    "print(\"RMSE Score:\", rmse)"
   ]
  },
  {
   "cell_type": "code",
   "execution_count": 118,
   "id": "ae4027c9",
   "metadata": {
    "execution": {
     "iopub.execute_input": "2025-08-08T03:49:33.665656Z",
     "iopub.status.busy": "2025-08-08T03:49:33.665422Z",
     "iopub.status.idle": "2025-08-08T03:49:33.678826Z",
     "shell.execute_reply": "2025-08-08T03:49:33.677561Z"
    },
    "papermill": {
     "duration": 0.039461,
     "end_time": "2025-08-08T03:49:33.680063",
     "exception": false,
     "start_time": "2025-08-08T03:49:33.640602",
     "status": "completed"
    },
    "tags": []
   },
   "outputs": [
    {
     "name": "stdout",
     "output_type": "stream",
     "text": [
      "✅ Regression model improved with same performance but fewer features!\n",
      "   MSE: 0.004408 ≈ 0.004412 (similar)\n",
      "   R²:  0.996382 ≈ 0.996379 (similar)\n",
      "   Features: 27 → 22 (🎯 5 fewer features!)\n",
      "💾 Registry updated: Model_Training_History/History_Regression.csv\n"
     ]
    }
   ],
   "source": [
    "regression_params = {\n",
    "    'model_name': model_name_for_saving,\n",
    "    'scaler_name': \"RobustScaler\",\n",
    "    'features_list': feature_columns_for_saving,\n",
    "    'target_column': target_name_for_saving,\n",
    "    'mse': mse,\n",
    "    'mae': mae,\n",
    "    'rmse': rmse,\n",
    "    'r2': r2,\n",
    "    'parameters': json.dumps(training_model.get_params())\n",
    "}\n",
    "save_model_performance_if_better('regression', regression_params)"
   ]
  },
  {
   "cell_type": "markdown",
   "id": "78abd6f8",
   "metadata": {
    "papermill": {
     "duration": 0.02185,
     "end_time": "2025-08-08T03:49:33.727910",
     "exception": false,
     "start_time": "2025-08-08T03:49:33.706060",
     "status": "completed"
    },
    "tags": []
   },
   "source": [
    "#### Tuning with Grid Search"
   ]
  },
  {
   "cell_type": "code",
   "execution_count": 119,
   "id": "ea710ffa",
   "metadata": {
    "execution": {
     "iopub.execute_input": "2025-08-08T03:49:33.773063Z",
     "iopub.status.busy": "2025-08-08T03:49:33.772802Z",
     "iopub.status.idle": "2025-08-08T03:49:33.776578Z",
     "shell.execute_reply": "2025-08-08T03:49:33.775548Z"
    },
    "papermill": {
     "duration": 0.02771,
     "end_time": "2025-08-08T03:49:33.777693",
     "exception": false,
     "start_time": "2025-08-08T03:49:33.749983",
     "status": "completed"
    },
    "tags": []
   },
   "outputs": [],
   "source": [
    "grid_param = {\n",
    "    'fit_intercept': [True, False],\n",
    "    'copy_X': [True, False],\n",
    "    'positive': [True, False]\n",
    "}"
   ]
  },
  {
   "cell_type": "code",
   "execution_count": 120,
   "id": "c563a13a",
   "metadata": {
    "execution": {
     "iopub.execute_input": "2025-08-08T03:49:33.823098Z",
     "iopub.status.busy": "2025-08-08T03:49:33.822837Z",
     "iopub.status.idle": "2025-08-08T03:49:33.826636Z",
     "shell.execute_reply": "2025-08-08T03:49:33.825953Z"
    },
    "papermill": {
     "duration": 0.027749,
     "end_time": "2025-08-08T03:49:33.827719",
     "exception": false,
     "start_time": "2025-08-08T03:49:33.799970",
     "status": "completed"
    },
    "tags": []
   },
   "outputs": [],
   "source": [
    "grid_search = GridSearchCV(\n",
    "    LinearRegression(), \n",
    "    grid_param, \n",
    "    cv=5, \n",
    "    scoring='neg_mean_squared_error', \n",
    "    n_jobs=-1, # allow parallel processing, you cant use your own laptop while this runs\n",
    "    verbose=1\n",
    ")"
   ]
  },
  {
   "cell_type": "code",
   "execution_count": 121,
   "id": "a68b83a7",
   "metadata": {
    "execution": {
     "iopub.execute_input": "2025-08-08T03:49:33.873826Z",
     "iopub.status.busy": "2025-08-08T03:49:33.873606Z",
     "iopub.status.idle": "2025-08-08T03:49:34.320726Z",
     "shell.execute_reply": "2025-08-08T03:49:34.320259Z"
    },
    "papermill": {
     "duration": 0.471422,
     "end_time": "2025-08-08T03:49:34.321694",
     "exception": false,
     "start_time": "2025-08-08T03:49:33.850272",
     "status": "completed"
    },
    "tags": []
   },
   "outputs": [
    {
     "name": "stdout",
     "output_type": "stream",
     "text": [
      "Starting hyperparameter tuning...\n",
      "Fitting 5 folds for each of 8 candidates, totalling 40 fits\n",
      "CPU times: user 153 ms, sys: 5.83 ms, total: 159 ms\n",
      "Wall time: 441 ms\n"
     ]
    },
    {
     "data": {
      "text/html": [
       "<style>#sk-container-id-18 {color: black;background-color: white;}#sk-container-id-18 pre{padding: 0;}#sk-container-id-18 div.sk-toggleable {background-color: white;}#sk-container-id-18 label.sk-toggleable__label {cursor: pointer;display: block;width: 100%;margin-bottom: 0;padding: 0.3em;box-sizing: border-box;text-align: center;}#sk-container-id-18 label.sk-toggleable__label-arrow:before {content: \"▸\";float: left;margin-right: 0.25em;color: #696969;}#sk-container-id-18 label.sk-toggleable__label-arrow:hover:before {color: black;}#sk-container-id-18 div.sk-estimator:hover label.sk-toggleable__label-arrow:before {color: black;}#sk-container-id-18 div.sk-toggleable__content {max-height: 0;max-width: 0;overflow: hidden;text-align: left;background-color: #f0f8ff;}#sk-container-id-18 div.sk-toggleable__content pre {margin: 0.2em;color: black;border-radius: 0.25em;background-color: #f0f8ff;}#sk-container-id-18 input.sk-toggleable__control:checked~div.sk-toggleable__content {max-height: 200px;max-width: 100%;overflow: auto;}#sk-container-id-18 input.sk-toggleable__control:checked~label.sk-toggleable__label-arrow:before {content: \"▾\";}#sk-container-id-18 div.sk-estimator input.sk-toggleable__control:checked~label.sk-toggleable__label {background-color: #d4ebff;}#sk-container-id-18 div.sk-label input.sk-toggleable__control:checked~label.sk-toggleable__label {background-color: #d4ebff;}#sk-container-id-18 input.sk-hidden--visually {border: 0;clip: rect(1px 1px 1px 1px);clip: rect(1px, 1px, 1px, 1px);height: 1px;margin: -1px;overflow: hidden;padding: 0;position: absolute;width: 1px;}#sk-container-id-18 div.sk-estimator {font-family: monospace;background-color: #f0f8ff;border: 1px dotted black;border-radius: 0.25em;box-sizing: border-box;margin-bottom: 0.5em;}#sk-container-id-18 div.sk-estimator:hover {background-color: #d4ebff;}#sk-container-id-18 div.sk-parallel-item::after {content: \"\";width: 100%;border-bottom: 1px solid gray;flex-grow: 1;}#sk-container-id-18 div.sk-label:hover label.sk-toggleable__label {background-color: #d4ebff;}#sk-container-id-18 div.sk-serial::before {content: \"\";position: absolute;border-left: 1px solid gray;box-sizing: border-box;top: 0;bottom: 0;left: 50%;z-index: 0;}#sk-container-id-18 div.sk-serial {display: flex;flex-direction: column;align-items: center;background-color: white;padding-right: 0.2em;padding-left: 0.2em;position: relative;}#sk-container-id-18 div.sk-item {position: relative;z-index: 1;}#sk-container-id-18 div.sk-parallel {display: flex;align-items: stretch;justify-content: center;background-color: white;position: relative;}#sk-container-id-18 div.sk-item::before, #sk-container-id-18 div.sk-parallel-item::before {content: \"\";position: absolute;border-left: 1px solid gray;box-sizing: border-box;top: 0;bottom: 0;left: 50%;z-index: -1;}#sk-container-id-18 div.sk-parallel-item {display: flex;flex-direction: column;z-index: 1;position: relative;background-color: white;}#sk-container-id-18 div.sk-parallel-item:first-child::after {align-self: flex-end;width: 50%;}#sk-container-id-18 div.sk-parallel-item:last-child::after {align-self: flex-start;width: 50%;}#sk-container-id-18 div.sk-parallel-item:only-child::after {width: 0;}#sk-container-id-18 div.sk-dashed-wrapped {border: 1px dashed gray;margin: 0 0.4em 0.5em 0.4em;box-sizing: border-box;padding-bottom: 0.4em;background-color: white;}#sk-container-id-18 div.sk-label label {font-family: monospace;font-weight: bold;display: inline-block;line-height: 1.2em;}#sk-container-id-18 div.sk-label-container {text-align: center;}#sk-container-id-18 div.sk-container {/* jupyter's `normalize.less` sets `[hidden] { display: none; }` but bootstrap.min.css set `[hidden] { display: none !important; }` so we also need the `!important` here to be able to override the default hidden behavior on the sphinx rendered scikit-learn.org. See: https://github.com/scikit-learn/scikit-learn/issues/21755 */display: inline-block !important;position: relative;}#sk-container-id-18 div.sk-text-repr-fallback {display: none;}</style><div id=\"sk-container-id-18\" class=\"sk-top-container\"><div class=\"sk-text-repr-fallback\"><pre>GridSearchCV(cv=5, estimator=LinearRegression(), n_jobs=-1,\n",
       "             param_grid={&#x27;copy_X&#x27;: [True, False],\n",
       "                         &#x27;fit_intercept&#x27;: [True, False],\n",
       "                         &#x27;positive&#x27;: [True, False]},\n",
       "             scoring=&#x27;neg_mean_squared_error&#x27;, verbose=1)</pre><b>In a Jupyter environment, please rerun this cell to show the HTML representation or trust the notebook. <br />On GitHub, the HTML representation is unable to render, please try loading this page with nbviewer.org.</b></div><div class=\"sk-container\" hidden><div class=\"sk-item sk-dashed-wrapped\"><div class=\"sk-label-container\"><div class=\"sk-label sk-toggleable\"><input class=\"sk-toggleable__control sk-hidden--visually\" id=\"sk-estimator-id-28\" type=\"checkbox\" ><label for=\"sk-estimator-id-28\" class=\"sk-toggleable__label sk-toggleable__label-arrow\">GridSearchCV</label><div class=\"sk-toggleable__content\"><pre>GridSearchCV(cv=5, estimator=LinearRegression(), n_jobs=-1,\n",
       "             param_grid={&#x27;copy_X&#x27;: [True, False],\n",
       "                         &#x27;fit_intercept&#x27;: [True, False],\n",
       "                         &#x27;positive&#x27;: [True, False]},\n",
       "             scoring=&#x27;neg_mean_squared_error&#x27;, verbose=1)</pre></div></div></div><div class=\"sk-parallel\"><div class=\"sk-parallel-item\"><div class=\"sk-item\"><div class=\"sk-label-container\"><div class=\"sk-label sk-toggleable\"><input class=\"sk-toggleable__control sk-hidden--visually\" id=\"sk-estimator-id-29\" type=\"checkbox\" ><label for=\"sk-estimator-id-29\" class=\"sk-toggleable__label sk-toggleable__label-arrow\">estimator: LinearRegression</label><div class=\"sk-toggleable__content\"><pre>LinearRegression()</pre></div></div></div><div class=\"sk-serial\"><div class=\"sk-item\"><div class=\"sk-estimator sk-toggleable\"><input class=\"sk-toggleable__control sk-hidden--visually\" id=\"sk-estimator-id-30\" type=\"checkbox\" ><label for=\"sk-estimator-id-30\" class=\"sk-toggleable__label sk-toggleable__label-arrow\">LinearRegression</label><div class=\"sk-toggleable__content\"><pre>LinearRegression()</pre></div></div></div></div></div></div></div></div></div></div>"
      ],
      "text/plain": [
       "GridSearchCV(cv=5, estimator=LinearRegression(), n_jobs=-1,\n",
       "             param_grid={'copy_X': [True, False],\n",
       "                         'fit_intercept': [True, False],\n",
       "                         'positive': [True, False]},\n",
       "             scoring='neg_mean_squared_error', verbose=1)"
      ]
     },
     "execution_count": 121,
     "metadata": {},
     "output_type": "execute_result"
    }
   ],
   "source": [
    "%%time\n",
    "print(\"Starting hyperparameter tuning...\")\n",
    "grid_search.fit(X_train, y_train)"
   ]
  },
  {
   "cell_type": "code",
   "execution_count": 122,
   "id": "4229b13e",
   "metadata": {
    "execution": {
     "iopub.execute_input": "2025-08-08T03:49:34.386095Z",
     "iopub.status.busy": "2025-08-08T03:49:34.385838Z",
     "iopub.status.idle": "2025-08-08T03:49:34.391653Z",
     "shell.execute_reply": "2025-08-08T03:49:34.391163Z"
    },
    "papermill": {
     "duration": 0.039119,
     "end_time": "2025-08-08T03:49:34.392705",
     "exception": false,
     "start_time": "2025-08-08T03:49:34.353586",
     "status": "completed"
    },
    "tags": []
   },
   "outputs": [
    {
     "name": "stdout",
     "output_type": "stream",
     "text": [
      "TUNING RESULTS\n",
      "==================================================\n",
      "Best Parameters: {'copy_X': True, 'fit_intercept': True, 'positive': False}\n",
      "Best Cross-Validation Score (Negative MSE): -0.00431200987962049\n",
      "Best Cross-Validation Score (MSE): 0.00431200987962049\n",
      "Best Cross-Validation Score (RMSE): 0.06566589586399084\n"
     ]
    }
   ],
   "source": [
    "print(\"TUNING RESULTS\")\n",
    "print(\"=\"*50)\n",
    "print(\"Best Parameters:\", grid_search.best_params_)\n",
    "print(\"Best Cross-Validation Score (Negative MSE):\", grid_search.best_score_)\n",
    "print(\"Best Cross-Validation Score (MSE):\", -grid_search.best_score_)\n",
    "print(\"Best Cross-Validation Score (RMSE):\", math.sqrt(-grid_search.best_score_))"
   ]
  },
  {
   "cell_type": "code",
   "execution_count": 123,
   "id": "1d7817c6",
   "metadata": {
    "execution": {
     "iopub.execute_input": "2025-08-08T03:49:34.453807Z",
     "iopub.status.busy": "2025-08-08T03:49:34.453563Z",
     "iopub.status.idle": "2025-08-08T03:49:34.457779Z",
     "shell.execute_reply": "2025-08-08T03:49:34.457038Z"
    },
    "papermill": {
     "duration": 0.034235,
     "end_time": "2025-08-08T03:49:34.459058",
     "exception": false,
     "start_time": "2025-08-08T03:49:34.424823",
     "status": "completed"
    },
    "tags": []
   },
   "outputs": [],
   "source": [
    "grid_search_best_model = grid_search.best_estimator_\n",
    "y_pred = grid_search_best_model.predict(X_test)"
   ]
  },
  {
   "cell_type": "code",
   "execution_count": 124,
   "id": "51ca4f7a",
   "metadata": {
    "execution": {
     "iopub.execute_input": "2025-08-08T03:49:34.505732Z",
     "iopub.status.busy": "2025-08-08T03:49:34.505484Z",
     "iopub.status.idle": "2025-08-08T03:49:34.511659Z",
     "shell.execute_reply": "2025-08-08T03:49:34.510644Z"
    },
    "papermill": {
     "duration": 0.030312,
     "end_time": "2025-08-08T03:49:34.512662",
     "exception": false,
     "start_time": "2025-08-08T03:49:34.482350",
     "status": "completed"
    },
    "tags": []
   },
   "outputs": [],
   "source": [
    "mse_grid_search = mean_squared_error(y_test, y_pred)\n",
    "mae_grid_search = mean_absolute_error(y_test, y_pred)\n",
    "r2_grid_search = r2_score(y_test, y_pred)\n",
    "rmse_grid_search = math.sqrt(mse_grid_search)"
   ]
  },
  {
   "cell_type": "code",
   "execution_count": 125,
   "id": "15e6a617",
   "metadata": {
    "execution": {
     "iopub.execute_input": "2025-08-08T03:49:34.558296Z",
     "iopub.status.busy": "2025-08-08T03:49:34.557994Z",
     "iopub.status.idle": "2025-08-08T03:49:34.562651Z",
     "shell.execute_reply": "2025-08-08T03:49:34.561707Z"
    },
    "papermill": {
     "duration": 0.029252,
     "end_time": "2025-08-08T03:49:34.564219",
     "exception": false,
     "start_time": "2025-08-08T03:49:34.534967",
     "status": "completed"
    },
    "tags": []
   },
   "outputs": [
    {
     "name": "stdout",
     "output_type": "stream",
     "text": [
      "MSE Score: 0.004412295477641503\n",
      "MAE Score: 0.04310381861798302\n",
      "R2 Score: 0.9963786050953582\n",
      "RMSE Score: 0.0664251117999925\n"
     ]
    }
   ],
   "source": [
    "print(\"MSE Score:\", mse_grid_search)\n",
    "print(\"MAE Score:\", mae_grid_search)\n",
    "print(\"R2 Score:\", r2_grid_search)\n",
    "print(\"RMSE Score:\", rmse_grid_search)"
   ]
  },
  {
   "cell_type": "code",
   "execution_count": 126,
   "id": "360213e0",
   "metadata": {
    "execution": {
     "iopub.execute_input": "2025-08-08T03:49:34.613759Z",
     "iopub.status.busy": "2025-08-08T03:49:34.613473Z",
     "iopub.status.idle": "2025-08-08T03:49:34.625613Z",
     "shell.execute_reply": "2025-08-08T03:49:34.624569Z"
    },
    "papermill": {
     "duration": 0.038106,
     "end_time": "2025-08-08T03:49:34.627059",
     "exception": false,
     "start_time": "2025-08-08T03:49:34.588953",
     "status": "completed"
    },
    "tags": []
   },
   "outputs": [
    {
     "name": "stdout",
     "output_type": "stream",
     "text": [
      "✅ Regression model improved with same performance but fewer features!\n",
      "   MSE: 0.004412 ≈ 0.004412 (similar)\n",
      "   R²:  0.996379 ≈ 0.996379 (similar)\n",
      "   Features: 27 → 22 (🎯 5 fewer features!)\n",
      "💾 Registry updated: Model_Training_History/History_Regression.csv\n"
     ]
    }
   ],
   "source": [
    "regression_params = {\n",
    "    'model_name': model_name_for_saving + \" Tuned\",\n",
    "    'scaler_name': \"RobustScaler\",\n",
    "    'features_list': feature_columns_for_saving,\n",
    "    'target_column': target_name_for_saving,\n",
    "    'mse': mse_grid_search,\n",
    "    'mae': mae_grid_search,\n",
    "    'rmse': rmse_grid_search,\n",
    "    'r2': r2_grid_search,\n",
    "    'parameters' : json.dumps({\n",
    "        \"best_params\": grid_search.best_params_,\n",
    "        \"cv_score\": grid_search.best_score_,\n",
    "        \"all_params\": grid_search_best_model.get_params()\n",
    "    })\n",
    "}\n",
    "save_model_performance_if_better('regression', regression_params)"
   ]
  },
  {
   "cell_type": "markdown",
   "id": "be59aebd",
   "metadata": {
    "papermill": {
     "duration": 0.022597,
     "end_time": "2025-08-08T03:49:34.673704",
     "exception": false,
     "start_time": "2025-08-08T03:49:34.651107",
     "status": "completed"
    },
    "tags": []
   },
   "source": [
    "# All Performance"
   ]
  },
  {
   "cell_type": "code",
   "execution_count": 127,
   "id": "49f71418",
   "metadata": {
    "execution": {
     "iopub.execute_input": "2025-08-08T03:49:34.722355Z",
     "iopub.status.busy": "2025-08-08T03:49:34.721255Z",
     "iopub.status.idle": "2025-08-08T03:49:34.733526Z",
     "shell.execute_reply": "2025-08-08T03:49:34.732713Z"
    },
    "papermill": {
     "duration": 0.038898,
     "end_time": "2025-08-08T03:49:34.734975",
     "exception": false,
     "start_time": "2025-08-08T03:49:34.696077",
     "status": "completed"
    },
    "tags": []
   },
   "outputs": [
    {
     "name": "stdout",
     "output_type": "stream",
     "text": [
      "\n",
      "📊 REGRESSION Model Performance History\n",
      "====================================================================================================\n",
      "                  Model         Scaler      Target  Features      MSE      MAE     RMSE       R²\n",
      "Linear Regression Tuned   MinMaxScaler SolarEnergy        22 0.004412 0.043104 0.066425 0.996379\n",
      "      Linear Regression   RobustScaler SolarEnergy        22 0.004412 0.043104 0.066425 0.996379\n",
      "Linear Regression Tuned   RobustScaler SolarEnergy        22 0.004412 0.043104 0.066425 0.996379\n",
      "      Linear Regression   MinMaxScaler SolarEnergy        22 0.004413 0.043101 0.066431 0.996378\n",
      "      Linear Regression StandardScaler SolarEnergy        22 0.004413 0.043133 0.066433 0.996378\n",
      "Linear Regression Tuned StandardScaler SolarEnergy        22 0.004413 0.043133 0.066433 0.996378\n",
      "\n",
      "📈 Total models shown: 6\n",
      "🏆 Best R² Score: 0.996379 (Linear Regression Tuned + MinMaxScaler for SolarEnergy)\n"
     ]
    }
   ],
   "source": [
    "show_model_history('regression', model_name=model_name_for_saving, target_column=target_name_for_saving)"
   ]
  },
  {
   "cell_type": "markdown",
   "id": "da6daf33",
   "metadata": {
    "papermill": {
     "duration": 0.023278,
     "end_time": "2025-08-08T03:49:34.781956",
     "exception": false,
     "start_time": "2025-08-08T03:49:34.758678",
     "status": "completed"
    },
    "tags": []
   },
   "source": [
    "# <center><font size=\"50\" color=\"red\">Thank You</font></center>"
   ]
  }
 ],
 "metadata": {
  "kaggle": {
   "accelerator": "none",
   "dataSources": [
    {
     "datasetId": 7943485,
     "sourceId": 12698463,
     "sourceType": "datasetVersion"
    }
   ],
   "isGpuEnabled": false,
   "isInternetEnabled": true,
   "language": "python",
   "sourceType": "notebook"
  },
  "kernelspec": {
   "display_name": ".venv",
   "language": "python",
   "name": "python3"
  },
  "language_info": {
   "codemirror_mode": {
    "name": "ipython",
    "version": 3
   },
   "file_extension": ".py",
   "mimetype": "text/x-python",
   "name": "python",
   "nbconvert_exporter": "python",
   "pygments_lexer": "ipython3",
   "version": "3.11.13"
  },
  "papermill": {
   "default_parameters": {},
   "duration": 22.382906,
   "end_time": "2025-08-08T03:49:37.425131",
   "environment_variables": {},
   "exception": null,
   "input_path": "__notebook__.ipynb",
   "output_path": "__notebook__.ipynb",
   "parameters": {},
   "start_time": "2025-08-08T03:49:15.042225",
   "version": "2.6.0"
  }
 },
 "nbformat": 4,
 "nbformat_minor": 5
}
