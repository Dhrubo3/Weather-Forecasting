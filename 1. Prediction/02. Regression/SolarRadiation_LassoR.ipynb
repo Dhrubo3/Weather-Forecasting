{
 "cells": [
  {
   "cell_type": "markdown",
   "id": "2626388b",
   "metadata": {
    "id": "62e51341",
    "papermill": {
     "duration": 0.02261,
     "end_time": "2025-08-08T18:37:10.017843",
     "exception": false,
     "start_time": "2025-08-08T18:37:09.995233",
     "status": "completed"
    },
    "tags": []
   },
   "source": [
    "# <font color=\"red\">SolarRadiation Prediction with Lasso Regressor</font>"
   ]
  },
  {
   "cell_type": "markdown",
   "id": "3cef56eb",
   "metadata": {
    "id": "dba1e0ba",
    "papermill": {
     "duration": 0.018648,
     "end_time": "2025-08-08T18:37:10.055384",
     "exception": false,
     "start_time": "2025-08-08T18:37:10.036736",
     "status": "completed"
    },
    "tags": []
   },
   "source": [
    "# Library Import"
   ]
  },
  {
   "cell_type": "code",
   "execution_count": 1,
   "id": "3304f189",
   "metadata": {
    "execution": {
     "iopub.execute_input": "2025-08-08T18:37:10.095867Z",
     "iopub.status.busy": "2025-08-08T18:37:10.095074Z",
     "iopub.status.idle": "2025-08-08T18:37:13.634579Z",
     "shell.execute_reply": "2025-08-08T18:37:13.633740Z"
    },
    "id": "feb9b39d",
    "outputId": "6a197457-c20a-4059-dc24-bed867818feb",
    "papermill": {
     "duration": 3.561147,
     "end_time": "2025-08-08T18:37:13.636333",
     "exception": false,
     "start_time": "2025-08-08T18:37:10.075186",
     "status": "completed"
    },
    "tags": []
   },
   "outputs": [],
   "source": [
    "# Data manipulation and visualization\n",
    "import pandas as pd\n",
    "import math\n",
    "import json\n",
    "\n",
    "# Preprocessing\n",
    "from sklearn.model_selection import StratifiedShuffleSplit, GridSearchCV\n",
    "from sklearn.preprocessing import MinMaxScaler, StandardScaler, RobustScaler\n",
    "from sklearn.metrics import r2_score, mean_squared_error, mean_absolute_error\n",
    "from sklearn.linear_model import Lasso as LassoR\n",
    "\n",
    "import sys\n",
    "# sys.path.append('../../') # Uncomment this line if running locally\n",
    "sys.path.append('/kaggle/input/weatherdata') # Uncomment this line if running on Kaggle\n",
    "from historyManagement import *\n",
    "\n",
    "# suppress warnings\n",
    "import warnings\n",
    "warnings.filterwarnings(\"ignore\")"
   ]
  },
  {
   "cell_type": "markdown",
   "id": "c7043be8",
   "metadata": {
    "id": "1e026c53",
    "papermill": {
     "duration": 0.018427,
     "end_time": "2025-08-08T18:37:13.673605",
     "exception": false,
     "start_time": "2025-08-08T18:37:13.655178",
     "status": "completed"
    },
    "tags": []
   },
   "source": [
    "# Datasets Import"
   ]
  },
  {
   "cell_type": "code",
   "execution_count": 2,
   "id": "9e0229a4",
   "metadata": {
    "execution": {
     "iopub.execute_input": "2025-08-08T18:37:13.776726Z",
     "iopub.status.busy": "2025-08-08T18:37:13.776221Z",
     "iopub.status.idle": "2025-08-08T18:37:13.970603Z",
     "shell.execute_reply": "2025-08-08T18:37:13.969670Z"
    },
    "id": "33388061",
    "papermill": {
     "duration": 0.215954,
     "end_time": "2025-08-08T18:37:13.972137",
     "exception": false,
     "start_time": "2025-08-08T18:37:13.756183",
     "status": "completed"
    },
    "tags": []
   },
   "outputs": [
    {
     "data": {
      "text/html": [
       "<div>\n",
       "<style scoped>\n",
       "    .dataframe tbody tr th:only-of-type {\n",
       "        vertical-align: middle;\n",
       "    }\n",
       "\n",
       "    .dataframe tbody tr th {\n",
       "        vertical-align: top;\n",
       "    }\n",
       "\n",
       "    .dataframe thead th {\n",
       "        text-align: right;\n",
       "    }\n",
       "</style>\n",
       "<table border=\"1\" class=\"dataframe\">\n",
       "  <thead>\n",
       "    <tr style=\"text-align: right;\">\n",
       "      <th></th>\n",
       "      <th>DateTime</th>\n",
       "      <th>Year</th>\n",
       "      <th>Month</th>\n",
       "      <th>Day</th>\n",
       "      <th>Hour</th>\n",
       "      <th>DaySegments</th>\n",
       "      <th>DaySegments_Afternoon</th>\n",
       "      <th>DaySegments_Early Morning</th>\n",
       "      <th>DaySegments_Evening</th>\n",
       "      <th>DaySegments_Late Night</th>\n",
       "      <th>...</th>\n",
       "      <th>WindDir</th>\n",
       "      <th>SeaLevelPressure</th>\n",
       "      <th>CloudCover</th>\n",
       "      <th>UVIndex</th>\n",
       "      <th>SevereRisk</th>\n",
       "      <th>Visibility</th>\n",
       "      <th>SolarRadiation</th>\n",
       "      <th>SolarEnergy</th>\n",
       "      <th>Conditions</th>\n",
       "      <th>Icon</th>\n",
       "    </tr>\n",
       "  </thead>\n",
       "  <tbody>\n",
       "    <tr>\n",
       "      <th>0</th>\n",
       "      <td>2023-01-01 00:00:00</td>\n",
       "      <td>2023</td>\n",
       "      <td>1</td>\n",
       "      <td>1</td>\n",
       "      <td>0</td>\n",
       "      <td>Late Night</td>\n",
       "      <td>0</td>\n",
       "      <td>0</td>\n",
       "      <td>0</td>\n",
       "      <td>1</td>\n",
       "      <td>...</td>\n",
       "      <td>0.49</td>\n",
       "      <td>1018.68</td>\n",
       "      <td>0.03</td>\n",
       "      <td>0.0</td>\n",
       "      <td>10.0</td>\n",
       "      <td>2.76</td>\n",
       "      <td>0.0</td>\n",
       "      <td>0.0</td>\n",
       "      <td>Clear</td>\n",
       "      <td>clear-night</td>\n",
       "    </tr>\n",
       "    <tr>\n",
       "      <th>1</th>\n",
       "      <td>2023-01-01 01:00:00</td>\n",
       "      <td>2023</td>\n",
       "      <td>1</td>\n",
       "      <td>1</td>\n",
       "      <td>1</td>\n",
       "      <td>Late Night</td>\n",
       "      <td>0</td>\n",
       "      <td>0</td>\n",
       "      <td>0</td>\n",
       "      <td>1</td>\n",
       "      <td>...</td>\n",
       "      <td>0.54</td>\n",
       "      <td>1018.03</td>\n",
       "      <td>0.11</td>\n",
       "      <td>0.0</td>\n",
       "      <td>10.0</td>\n",
       "      <td>1.75</td>\n",
       "      <td>0.0</td>\n",
       "      <td>0.0</td>\n",
       "      <td>Clear</td>\n",
       "      <td>clear-night</td>\n",
       "    </tr>\n",
       "    <tr>\n",
       "      <th>2</th>\n",
       "      <td>2023-01-01 02:00:00</td>\n",
       "      <td>2023</td>\n",
       "      <td>1</td>\n",
       "      <td>1</td>\n",
       "      <td>2</td>\n",
       "      <td>Late Night</td>\n",
       "      <td>0</td>\n",
       "      <td>0</td>\n",
       "      <td>0</td>\n",
       "      <td>1</td>\n",
       "      <td>...</td>\n",
       "      <td>30.51</td>\n",
       "      <td>1017.56</td>\n",
       "      <td>0.03</td>\n",
       "      <td>0.0</td>\n",
       "      <td>10.0</td>\n",
       "      <td>1.75</td>\n",
       "      <td>0.0</td>\n",
       "      <td>0.0</td>\n",
       "      <td>Clear</td>\n",
       "      <td>clear-night</td>\n",
       "    </tr>\n",
       "    <tr>\n",
       "      <th>3</th>\n",
       "      <td>2023-01-01 03:00:00</td>\n",
       "      <td>2023</td>\n",
       "      <td>1</td>\n",
       "      <td>1</td>\n",
       "      <td>3</td>\n",
       "      <td>Late Night</td>\n",
       "      <td>0</td>\n",
       "      <td>0</td>\n",
       "      <td>0</td>\n",
       "      <td>1</td>\n",
       "      <td>...</td>\n",
       "      <td>49.23</td>\n",
       "      <td>1018.05</td>\n",
       "      <td>0.00</td>\n",
       "      <td>0.0</td>\n",
       "      <td>10.0</td>\n",
       "      <td>2.28</td>\n",
       "      <td>0.0</td>\n",
       "      <td>0.0</td>\n",
       "      <td>Clear</td>\n",
       "      <td>clear-night</td>\n",
       "    </tr>\n",
       "    <tr>\n",
       "      <th>4</th>\n",
       "      <td>2023-01-01 04:00:00</td>\n",
       "      <td>2023</td>\n",
       "      <td>1</td>\n",
       "      <td>1</td>\n",
       "      <td>4</td>\n",
       "      <td>Late Night</td>\n",
       "      <td>0</td>\n",
       "      <td>0</td>\n",
       "      <td>0</td>\n",
       "      <td>1</td>\n",
       "      <td>...</td>\n",
       "      <td>49.90</td>\n",
       "      <td>1018.00</td>\n",
       "      <td>86.17</td>\n",
       "      <td>0.0</td>\n",
       "      <td>10.0</td>\n",
       "      <td>1.27</td>\n",
       "      <td>0.0</td>\n",
       "      <td>0.0</td>\n",
       "      <td>Partially cloudy</td>\n",
       "      <td>fog</td>\n",
       "    </tr>\n",
       "  </tbody>\n",
       "</table>\n",
       "<p>5 rows × 36 columns</p>\n",
       "</div>"
      ],
      "text/plain": [
       "             DateTime  Year  Month  Day  Hour DaySegments  \\\n",
       "0 2023-01-01 00:00:00  2023      1    1     0  Late Night   \n",
       "1 2023-01-01 01:00:00  2023      1    1     1  Late Night   \n",
       "2 2023-01-01 02:00:00  2023      1    1     2  Late Night   \n",
       "3 2023-01-01 03:00:00  2023      1    1     3  Late Night   \n",
       "4 2023-01-01 04:00:00  2023      1    1     4  Late Night   \n",
       "\n",
       "   DaySegments_Afternoon  DaySegments_Early Morning  DaySegments_Evening  \\\n",
       "0                      0                          0                    0   \n",
       "1                      0                          0                    0   \n",
       "2                      0                          0                    0   \n",
       "3                      0                          0                    0   \n",
       "4                      0                          0                    0   \n",
       "\n",
       "   DaySegments_Late Night  ...  WindDir  SeaLevelPressure  CloudCover  \\\n",
       "0                       1  ...     0.49           1018.68        0.03   \n",
       "1                       1  ...     0.54           1018.03        0.11   \n",
       "2                       1  ...    30.51           1017.56        0.03   \n",
       "3                       1  ...    49.23           1018.05        0.00   \n",
       "4                       1  ...    49.90           1018.00       86.17   \n",
       "\n",
       "   UVIndex  SevereRisk  Visibility  SolarRadiation SolarEnergy  \\\n",
       "0      0.0        10.0        2.76             0.0         0.0   \n",
       "1      0.0        10.0        1.75             0.0         0.0   \n",
       "2      0.0        10.0        1.75             0.0         0.0   \n",
       "3      0.0        10.0        2.28             0.0         0.0   \n",
       "4      0.0        10.0        1.27             0.0         0.0   \n",
       "\n",
       "         Conditions         Icon  \n",
       "0             Clear  clear-night  \n",
       "1             Clear  clear-night  \n",
       "2             Clear  clear-night  \n",
       "3             Clear  clear-night  \n",
       "4  Partially cloudy          fog  \n",
       "\n",
       "[5 rows x 36 columns]"
      ]
     },
     "execution_count": 2,
     "metadata": {},
     "output_type": "execute_result"
    }
   ],
   "source": [
    "# Load the weather dataset for visibility prediction\n",
    "# weather_data = pd.read_csv('../../FinalDatasets/finalDataset.csv') # Uncomment this line if running locally\n",
    "weather_data = pd.read_csv('/kaggle/input/weatherdata/finalDataset.csv') # Uncomment this line if running on Kaggle\n",
    "weather_data['DateTime'] = pd.to_datetime(weather_data['DateTime'])\n",
    "weather_data.head()"
   ]
  },
  {
   "cell_type": "code",
   "execution_count": 3,
   "id": "5605e8f9",
   "metadata": {
    "execution": {
     "iopub.execute_input": "2025-08-08T18:37:14.013058Z",
     "iopub.status.busy": "2025-08-08T18:37:14.012672Z",
     "iopub.status.idle": "2025-08-08T18:37:14.036857Z",
     "shell.execute_reply": "2025-08-08T18:37:14.035760Z"
    },
    "id": "6d38c374",
    "papermill": {
     "duration": 0.046307,
     "end_time": "2025-08-08T18:37:14.038506",
     "exception": false,
     "start_time": "2025-08-08T18:37:13.992199",
     "status": "completed"
    },
    "tags": []
   },
   "outputs": [
    {
     "name": "stdout",
     "output_type": "stream",
     "text": [
      "<class 'pandas.core.frame.DataFrame'>\n",
      "RangeIndex: 14616 entries, 0 to 14615\n",
      "Data columns (total 36 columns):\n",
      " #   Column                     Non-Null Count  Dtype         \n",
      "---  ------                     --------------  -----         \n",
      " 0   DateTime                   14616 non-null  datetime64[ns]\n",
      " 1   Year                       14616 non-null  int64         \n",
      " 2   Month                      14616 non-null  int64         \n",
      " 3   Day                        14616 non-null  int64         \n",
      " 4   Hour                       14616 non-null  int64         \n",
      " 5   DaySegments                14616 non-null  object        \n",
      " 6   DaySegments_Afternoon      14616 non-null  int64         \n",
      " 7   DaySegments_Early Morning  14616 non-null  int64         \n",
      " 8   DaySegments_Evening        14616 non-null  int64         \n",
      " 9   DaySegments_Late Night     14616 non-null  int64         \n",
      " 10  DaySegments_Midday         14616 non-null  int64         \n",
      " 11  DaySegments_Morning        14616 non-null  int64         \n",
      " 12  DaySegments_Night          14616 non-null  int64         \n",
      " 13  Season_Autumn              14616 non-null  int64         \n",
      " 14  Season_Rainy               14616 non-null  int64         \n",
      " 15  Season_Summer              14616 non-null  int64         \n",
      " 16  Season_Winter              14616 non-null  int64         \n",
      " 17  Season                     14616 non-null  object        \n",
      " 18  Temp                       14616 non-null  float64       \n",
      " 19  FeelsLike                  14616 non-null  float64       \n",
      " 20  Dew                        14616 non-null  float64       \n",
      " 21  Humidity                   14616 non-null  float64       \n",
      " 22  Precip                     14616 non-null  float64       \n",
      " 23  PrecipProb                 14616 non-null  float64       \n",
      " 24  Windgust                   14616 non-null  float64       \n",
      " 25  WindSpeed                  14616 non-null  float64       \n",
      " 26  WindDir                    14616 non-null  float64       \n",
      " 27  SeaLevelPressure           14616 non-null  float64       \n",
      " 28  CloudCover                 14616 non-null  float64       \n",
      " 29  UVIndex                    14616 non-null  float64       \n",
      " 30  SevereRisk                 14616 non-null  float64       \n",
      " 31  Visibility                 14616 non-null  float64       \n",
      " 32  SolarRadiation             14616 non-null  float64       \n",
      " 33  SolarEnergy                14616 non-null  float64       \n",
      " 34  Conditions                 14616 non-null  object        \n",
      " 35  Icon                       14616 non-null  object        \n",
      "dtypes: datetime64[ns](1), float64(16), int64(15), object(4)\n",
      "memory usage: 4.0+ MB\n"
     ]
    }
   ],
   "source": [
    "weather_data.info()"
   ]
  },
  {
   "cell_type": "code",
   "execution_count": 4,
   "id": "7255f063",
   "metadata": {
    "execution": {
     "iopub.execute_input": "2025-08-08T18:37:14.080984Z",
     "iopub.status.busy": "2025-08-08T18:37:14.080166Z",
     "iopub.status.idle": "2025-08-08T18:37:14.167193Z",
     "shell.execute_reply": "2025-08-08T18:37:14.166318Z"
    },
    "id": "502b3163",
    "papermill": {
     "duration": 0.10963,
     "end_time": "2025-08-08T18:37:14.168689",
     "exception": false,
     "start_time": "2025-08-08T18:37:14.059059",
     "status": "completed"
    },
    "tags": []
   },
   "outputs": [
    {
     "data": {
      "text/html": [
       "<div>\n",
       "<style scoped>\n",
       "    .dataframe tbody tr th:only-of-type {\n",
       "        vertical-align: middle;\n",
       "    }\n",
       "\n",
       "    .dataframe tbody tr th {\n",
       "        vertical-align: top;\n",
       "    }\n",
       "\n",
       "    .dataframe thead th {\n",
       "        text-align: right;\n",
       "    }\n",
       "</style>\n",
       "<table border=\"1\" class=\"dataframe\">\n",
       "  <thead>\n",
       "    <tr style=\"text-align: right;\">\n",
       "      <th></th>\n",
       "      <th>DateTime</th>\n",
       "      <th>Year</th>\n",
       "      <th>Month</th>\n",
       "      <th>Day</th>\n",
       "      <th>Hour</th>\n",
       "      <th>DaySegments_Afternoon</th>\n",
       "      <th>DaySegments_Early Morning</th>\n",
       "      <th>DaySegments_Evening</th>\n",
       "      <th>DaySegments_Late Night</th>\n",
       "      <th>DaySegments_Midday</th>\n",
       "      <th>...</th>\n",
       "      <th>Windgust</th>\n",
       "      <th>WindSpeed</th>\n",
       "      <th>WindDir</th>\n",
       "      <th>SeaLevelPressure</th>\n",
       "      <th>CloudCover</th>\n",
       "      <th>UVIndex</th>\n",
       "      <th>SevereRisk</th>\n",
       "      <th>Visibility</th>\n",
       "      <th>SolarRadiation</th>\n",
       "      <th>SolarEnergy</th>\n",
       "    </tr>\n",
       "  </thead>\n",
       "  <tbody>\n",
       "    <tr>\n",
       "      <th>count</th>\n",
       "      <td>14616</td>\n",
       "      <td>14616.000000</td>\n",
       "      <td>14616.000000</td>\n",
       "      <td>14616.000000</td>\n",
       "      <td>14616.000000</td>\n",
       "      <td>14616.000000</td>\n",
       "      <td>14616.000000</td>\n",
       "      <td>14616.000000</td>\n",
       "      <td>14616.000000</td>\n",
       "      <td>14616.000000</td>\n",
       "      <td>...</td>\n",
       "      <td>14616.000000</td>\n",
       "      <td>14616.000000</td>\n",
       "      <td>14616.000000</td>\n",
       "      <td>14616.000000</td>\n",
       "      <td>14616.000000</td>\n",
       "      <td>14616.000000</td>\n",
       "      <td>14616.000000</td>\n",
       "      <td>14616.000000</td>\n",
       "      <td>14616.000000</td>\n",
       "      <td>14616.000000</td>\n",
       "    </tr>\n",
       "    <tr>\n",
       "      <th>mean</th>\n",
       "      <td>2023-11-01 11:30:00</td>\n",
       "      <td>2023.400657</td>\n",
       "      <td>5.720854</td>\n",
       "      <td>15.735632</td>\n",
       "      <td>11.500000</td>\n",
       "      <td>0.131294</td>\n",
       "      <td>0.060550</td>\n",
       "      <td>0.098043</td>\n",
       "      <td>0.249726</td>\n",
       "      <td>0.116585</td>\n",
       "      <td>...</td>\n",
       "      <td>17.068560</td>\n",
       "      <td>8.090783</td>\n",
       "      <td>159.739178</td>\n",
       "      <td>1008.265012</td>\n",
       "      <td>53.579923</td>\n",
       "      <td>2.263555</td>\n",
       "      <td>16.504787</td>\n",
       "      <td>4.368134</td>\n",
       "      <td>227.640683</td>\n",
       "      <td>0.819217</td>\n",
       "    </tr>\n",
       "    <tr>\n",
       "      <th>min</th>\n",
       "      <td>2023-01-01 00:00:00</td>\n",
       "      <td>2023.000000</td>\n",
       "      <td>1.000000</td>\n",
       "      <td>1.000000</td>\n",
       "      <td>0.000000</td>\n",
       "      <td>0.000000</td>\n",
       "      <td>0.000000</td>\n",
       "      <td>0.000000</td>\n",
       "      <td>0.000000</td>\n",
       "      <td>0.000000</td>\n",
       "      <td>...</td>\n",
       "      <td>0.660000</td>\n",
       "      <td>0.000000</td>\n",
       "      <td>0.000000</td>\n",
       "      <td>982.420000</td>\n",
       "      <td>0.000000</td>\n",
       "      <td>0.000000</td>\n",
       "      <td>3.000000</td>\n",
       "      <td>0.000000</td>\n",
       "      <td>0.000000</td>\n",
       "      <td>0.000000</td>\n",
       "    </tr>\n",
       "    <tr>\n",
       "      <th>25%</th>\n",
       "      <td>2023-06-02 05:45:00</td>\n",
       "      <td>2023.000000</td>\n",
       "      <td>3.000000</td>\n",
       "      <td>8.000000</td>\n",
       "      <td>5.750000</td>\n",
       "      <td>0.000000</td>\n",
       "      <td>0.000000</td>\n",
       "      <td>0.000000</td>\n",
       "      <td>0.000000</td>\n",
       "      <td>0.000000</td>\n",
       "      <td>...</td>\n",
       "      <td>9.170000</td>\n",
       "      <td>2.870000</td>\n",
       "      <td>80.965000</td>\n",
       "      <td>1003.277500</td>\n",
       "      <td>26.670000</td>\n",
       "      <td>0.000000</td>\n",
       "      <td>10.000000</td>\n",
       "      <td>3.990000</td>\n",
       "      <td>0.000000</td>\n",
       "      <td>0.000000</td>\n",
       "    </tr>\n",
       "    <tr>\n",
       "      <th>50%</th>\n",
       "      <td>2023-11-01 11:30:00</td>\n",
       "      <td>2023.000000</td>\n",
       "      <td>6.000000</td>\n",
       "      <td>16.000000</td>\n",
       "      <td>11.500000</td>\n",
       "      <td>0.000000</td>\n",
       "      <td>0.000000</td>\n",
       "      <td>0.000000</td>\n",
       "      <td>0.000000</td>\n",
       "      <td>0.000000</td>\n",
       "      <td>...</td>\n",
       "      <td>14.645000</td>\n",
       "      <td>7.670000</td>\n",
       "      <td>163.790000</td>\n",
       "      <td>1007.970000</td>\n",
       "      <td>51.540000</td>\n",
       "      <td>0.000000</td>\n",
       "      <td>10.000000</td>\n",
       "      <td>4.650000</td>\n",
       "      <td>10.665000</td>\n",
       "      <td>0.010000</td>\n",
       "    </tr>\n",
       "    <tr>\n",
       "      <th>75%</th>\n",
       "      <td>2024-04-01 17:15:00</td>\n",
       "      <td>2024.000000</td>\n",
       "      <td>8.000000</td>\n",
       "      <td>23.000000</td>\n",
       "      <td>17.250000</td>\n",
       "      <td>0.000000</td>\n",
       "      <td>0.000000</td>\n",
       "      <td>0.000000</td>\n",
       "      <td>0.000000</td>\n",
       "      <td>0.000000</td>\n",
       "      <td>...</td>\n",
       "      <td>23.410000</td>\n",
       "      <td>11.750000</td>\n",
       "      <td>241.402500</td>\n",
       "      <td>1013.400000</td>\n",
       "      <td>87.790000</td>\n",
       "      <td>4.740000</td>\n",
       "      <td>12.580000</td>\n",
       "      <td>4.650000</td>\n",
       "      <td>459.745000</td>\n",
       "      <td>1.660000</td>\n",
       "    </tr>\n",
       "    <tr>\n",
       "      <th>max</th>\n",
       "      <td>2024-08-31 23:00:00</td>\n",
       "      <td>2024.000000</td>\n",
       "      <td>12.000000</td>\n",
       "      <td>31.000000</td>\n",
       "      <td>23.000000</td>\n",
       "      <td>1.000000</td>\n",
       "      <td>1.000000</td>\n",
       "      <td>1.000000</td>\n",
       "      <td>1.000000</td>\n",
       "      <td>1.000000</td>\n",
       "      <td>...</td>\n",
       "      <td>84.120000</td>\n",
       "      <td>71.970000</td>\n",
       "      <td>360.000000</td>\n",
       "      <td>1022.060000</td>\n",
       "      <td>100.000000</td>\n",
       "      <td>10.000000</td>\n",
       "      <td>97.740000</td>\n",
       "      <td>24.100000</td>\n",
       "      <td>1026.650000</td>\n",
       "      <td>3.700000</td>\n",
       "    </tr>\n",
       "    <tr>\n",
       "      <th>std</th>\n",
       "      <td>NaN</td>\n",
       "      <td>0.490048</td>\n",
       "      <td>3.195073</td>\n",
       "      <td>8.803610</td>\n",
       "      <td>6.922423</td>\n",
       "      <td>0.337734</td>\n",
       "      <td>0.238511</td>\n",
       "      <td>0.297383</td>\n",
       "      <td>0.432869</td>\n",
       "      <td>0.320936</td>\n",
       "      <td>...</td>\n",
       "      <td>10.195911</td>\n",
       "      <td>6.250203</td>\n",
       "      <td>104.422027</td>\n",
       "      <td>6.010683</td>\n",
       "      <td>35.166637</td>\n",
       "      <td>3.083074</td>\n",
       "      <td>15.031827</td>\n",
       "      <td>1.376994</td>\n",
       "      <td>307.219387</td>\n",
       "      <td>1.106444</td>\n",
       "    </tr>\n",
       "  </tbody>\n",
       "</table>\n",
       "<p>8 rows × 32 columns</p>\n",
       "</div>"
      ],
      "text/plain": [
       "                  DateTime          Year         Month           Day  \\\n",
       "count                14616  14616.000000  14616.000000  14616.000000   \n",
       "mean   2023-11-01 11:30:00   2023.400657      5.720854     15.735632   \n",
       "min    2023-01-01 00:00:00   2023.000000      1.000000      1.000000   \n",
       "25%    2023-06-02 05:45:00   2023.000000      3.000000      8.000000   \n",
       "50%    2023-11-01 11:30:00   2023.000000      6.000000     16.000000   \n",
       "75%    2024-04-01 17:15:00   2024.000000      8.000000     23.000000   \n",
       "max    2024-08-31 23:00:00   2024.000000     12.000000     31.000000   \n",
       "std                    NaN      0.490048      3.195073      8.803610   \n",
       "\n",
       "               Hour  DaySegments_Afternoon  DaySegments_Early Morning  \\\n",
       "count  14616.000000           14616.000000               14616.000000   \n",
       "mean      11.500000               0.131294                   0.060550   \n",
       "min        0.000000               0.000000                   0.000000   \n",
       "25%        5.750000               0.000000                   0.000000   \n",
       "50%       11.500000               0.000000                   0.000000   \n",
       "75%       17.250000               0.000000                   0.000000   \n",
       "max       23.000000               1.000000                   1.000000   \n",
       "std        6.922423               0.337734                   0.238511   \n",
       "\n",
       "       DaySegments_Evening  DaySegments_Late Night  DaySegments_Midday  ...  \\\n",
       "count         14616.000000            14616.000000        14616.000000  ...   \n",
       "mean              0.098043                0.249726            0.116585  ...   \n",
       "min               0.000000                0.000000            0.000000  ...   \n",
       "25%               0.000000                0.000000            0.000000  ...   \n",
       "50%               0.000000                0.000000            0.000000  ...   \n",
       "75%               0.000000                0.000000            0.000000  ...   \n",
       "max               1.000000                1.000000            1.000000  ...   \n",
       "std               0.297383                0.432869            0.320936  ...   \n",
       "\n",
       "           Windgust     WindSpeed       WindDir  SeaLevelPressure  \\\n",
       "count  14616.000000  14616.000000  14616.000000      14616.000000   \n",
       "mean      17.068560      8.090783    159.739178       1008.265012   \n",
       "min        0.660000      0.000000      0.000000        982.420000   \n",
       "25%        9.170000      2.870000     80.965000       1003.277500   \n",
       "50%       14.645000      7.670000    163.790000       1007.970000   \n",
       "75%       23.410000     11.750000    241.402500       1013.400000   \n",
       "max       84.120000     71.970000    360.000000       1022.060000   \n",
       "std       10.195911      6.250203    104.422027          6.010683   \n",
       "\n",
       "         CloudCover       UVIndex    SevereRisk    Visibility  SolarRadiation  \\\n",
       "count  14616.000000  14616.000000  14616.000000  14616.000000    14616.000000   \n",
       "mean      53.579923      2.263555     16.504787      4.368134      227.640683   \n",
       "min        0.000000      0.000000      3.000000      0.000000        0.000000   \n",
       "25%       26.670000      0.000000     10.000000      3.990000        0.000000   \n",
       "50%       51.540000      0.000000     10.000000      4.650000       10.665000   \n",
       "75%       87.790000      4.740000     12.580000      4.650000      459.745000   \n",
       "max      100.000000     10.000000     97.740000     24.100000     1026.650000   \n",
       "std       35.166637      3.083074     15.031827      1.376994      307.219387   \n",
       "\n",
       "        SolarEnergy  \n",
       "count  14616.000000  \n",
       "mean       0.819217  \n",
       "min        0.000000  \n",
       "25%        0.000000  \n",
       "50%        0.010000  \n",
       "75%        1.660000  \n",
       "max        3.700000  \n",
       "std        1.106444  \n",
       "\n",
       "[8 rows x 32 columns]"
      ]
     },
     "execution_count": 4,
     "metadata": {},
     "output_type": "execute_result"
    }
   ],
   "source": [
    "weather_data.describe()"
   ]
  },
  {
   "cell_type": "markdown",
   "id": "578237d2",
   "metadata": {
    "id": "dccec6b4",
    "papermill": {
     "duration": 0.019923,
     "end_time": "2025-08-08T18:37:14.208955",
     "exception": false,
     "start_time": "2025-08-08T18:37:14.189032",
     "status": "completed"
    },
    "tags": []
   },
   "source": [
    "# Data Split"
   ]
  },
  {
   "cell_type": "code",
   "execution_count": 5,
   "id": "37e37441",
   "metadata": {
    "execution": {
     "iopub.execute_input": "2025-08-08T18:37:14.251568Z",
     "iopub.status.busy": "2025-08-08T18:37:14.250682Z",
     "iopub.status.idle": "2025-08-08T18:37:14.272108Z",
     "shell.execute_reply": "2025-08-08T18:37:14.271147Z"
    },
    "id": "8738b1bb",
    "papermill": {
     "duration": 0.043863,
     "end_time": "2025-08-08T18:37:14.273790",
     "exception": false,
     "start_time": "2025-08-08T18:37:14.229927",
     "status": "completed"
    },
    "tags": []
   },
   "outputs": [],
   "source": [
    "sss = StratifiedShuffleSplit(n_splits=1, test_size=0.20, random_state=42)\n",
    "for train_idx, test_idx in sss.split(weather_data, weather_data['DaySegments']):\n",
    "    weather_data_train = weather_data.iloc[train_idx]\n",
    "    weather_data_test = weather_data.iloc[test_idx]"
   ]
  },
  {
   "cell_type": "code",
   "execution_count": 6,
   "id": "cf076275",
   "metadata": {
    "execution": {
     "iopub.execute_input": "2025-08-08T18:37:14.314269Z",
     "iopub.status.busy": "2025-08-08T18:37:14.313956Z",
     "iopub.status.idle": "2025-08-08T18:37:14.323010Z",
     "shell.execute_reply": "2025-08-08T18:37:14.322046Z"
    },
    "id": "1b049265",
    "papermill": {
     "duration": 0.030921,
     "end_time": "2025-08-08T18:37:14.324474",
     "exception": false,
     "start_time": "2025-08-08T18:37:14.293553",
     "status": "completed"
    },
    "tags": []
   },
   "outputs": [
    {
     "name": "stdout",
     "output_type": "stream",
     "text": [
      "Distribution of data based on DaySegments:\n",
      "     DaySegments  Count\n",
      "0     Late Night   3650\n",
      "1        Morning   3504\n",
      "2      Afternoon   1919\n",
      "3         Midday   1704\n",
      "4          Night   1521\n",
      "5        Evening   1433\n",
      "6  Early Morning    885\n"
     ]
    }
   ],
   "source": [
    "# Show the count of each unique class in DaySegments\n",
    "class_counts = weather_data['DaySegments'].value_counts().reset_index()\n",
    "class_counts.columns = ['DaySegments', 'Count']\n",
    "\n",
    "print(\"Distribution of data based on DaySegments:\")\n",
    "print(class_counts)"
   ]
  },
  {
   "cell_type": "code",
   "execution_count": 7,
   "id": "98c0d708",
   "metadata": {
    "execution": {
     "iopub.execute_input": "2025-08-08T18:37:14.365388Z",
     "iopub.status.busy": "2025-08-08T18:37:14.365075Z",
     "iopub.status.idle": "2025-08-08T18:37:14.373794Z",
     "shell.execute_reply": "2025-08-08T18:37:14.372723Z"
    },
    "id": "42cc9790",
    "papermill": {
     "duration": 0.030904,
     "end_time": "2025-08-08T18:37:14.375283",
     "exception": false,
     "start_time": "2025-08-08T18:37:14.344379",
     "status": "completed"
    },
    "tags": []
   },
   "outputs": [
    {
     "name": "stdout",
     "output_type": "stream",
     "text": [
      "Distribution of DaySegments in Training Set:\n",
      "DaySegments\n",
      "Late Night       2920\n",
      "Morning          2803\n",
      "Afternoon        1535\n",
      "Midday           1363\n",
      "Night            1217\n",
      "Evening          1146\n",
      "Early Morning     708\n",
      "Name: count, dtype: int64\n",
      "\n",
      "Distribution of DaySegments in Test Set:\n",
      "DaySegments\n",
      "Late Night       730\n",
      "Morning          701\n",
      "Afternoon        384\n",
      "Midday           341\n",
      "Night            304\n",
      "Evening          287\n",
      "Early Morning    177\n",
      "Name: count, dtype: int64\n"
     ]
    }
   ],
   "source": [
    "print(\"Distribution of DaySegments in Training Set:\")\n",
    "print(weather_data_train['DaySegments'].value_counts())\n",
    "\n",
    "print(\"\\nDistribution of DaySegments in Test Set:\")\n",
    "print(weather_data_test['DaySegments'].value_counts())"
   ]
  },
  {
   "cell_type": "markdown",
   "id": "4de07005",
   "metadata": {
    "id": "88edc9ac",
    "papermill": {
     "duration": 0.019507,
     "end_time": "2025-08-08T18:37:14.414835",
     "exception": false,
     "start_time": "2025-08-08T18:37:14.395328",
     "status": "completed"
    },
    "tags": []
   },
   "source": [
    "# Some Reused Parameters"
   ]
  },
  {
   "cell_type": "code",
   "execution_count": 8,
   "id": "be9972b6",
   "metadata": {
    "execution": {
     "iopub.execute_input": "2025-08-08T18:37:14.456843Z",
     "iopub.status.busy": "2025-08-08T18:37:14.456528Z",
     "iopub.status.idle": "2025-08-08T18:37:14.462296Z",
     "shell.execute_reply": "2025-08-08T18:37:14.461364Z"
    },
    "id": "ae150365",
    "papermill": {
     "duration": 0.029628,
     "end_time": "2025-08-08T18:37:14.464153",
     "exception": false,
     "start_time": "2025-08-08T18:37:14.434525",
     "status": "completed"
    },
    "tags": []
   },
   "outputs": [],
   "source": [
    "grid_param = {\n",
    "    'alpha': [0.00001, 0.00005, 0.0001, 0.0005, 0.001, 0.005, 0.01, 0.05, 0.1, 0.5, 1.0, 2.0, 5.0, 10.0, 50.0, 100.0],\n",
    "    'max_iter': [1000, 2000, 3000, 5000, 10000, 15000],\n",
    "    'tol': [1e-6, 1e-5, 1e-4, 1e-3, 1e-2],\n",
    "    'selection': ['cyclic', 'random'],\n",
    "    'positive': [False, True],\n",
    "    'fit_intercept': [True, False],\n",
    "    'precompute': [False, True, 'auto'],\n",
    "    'warm_start': [False, True]\n",
    "}"
   ]
  },
  {
   "cell_type": "code",
   "execution_count": 9,
   "id": "9c955a03",
   "metadata": {
    "execution": {
     "iopub.execute_input": "2025-08-08T18:37:14.505605Z",
     "iopub.status.busy": "2025-08-08T18:37:14.505318Z",
     "iopub.status.idle": "2025-08-08T18:37:14.509715Z",
     "shell.execute_reply": "2025-08-08T18:37:14.508748Z"
    },
    "id": "7407be52",
    "papermill": {
     "duration": 0.026779,
     "end_time": "2025-08-08T18:37:14.511207",
     "exception": false,
     "start_time": "2025-08-08T18:37:14.484428",
     "status": "completed"
    },
    "tags": []
   },
   "outputs": [],
   "source": [
    "number_of_model_for_randomized_grid = 500\n",
    "model_name_for_saving = \"LassoR\"\n",
    "target_name_for_saving = \"SolarRadiation\""
   ]
  },
  {
   "cell_type": "markdown",
   "id": "7ff81bae",
   "metadata": {
    "id": "ef9ede67",
    "papermill": {
     "duration": 0.019531,
     "end_time": "2025-08-08T18:37:14.550778",
     "exception": false,
     "start_time": "2025-08-08T18:37:14.531247",
     "status": "completed"
    },
    "tags": []
   },
   "source": [
    "# All Features"
   ]
  },
  {
   "cell_type": "code",
   "execution_count": 10,
   "id": "ecfb5dc5",
   "metadata": {
    "execution": {
     "iopub.execute_input": "2025-08-08T18:37:14.592101Z",
     "iopub.status.busy": "2025-08-08T18:37:14.591513Z",
     "iopub.status.idle": "2025-08-08T18:37:14.597438Z",
     "shell.execute_reply": "2025-08-08T18:37:14.596637Z"
    },
    "id": "b734e9ec",
    "papermill": {
     "duration": 0.028129,
     "end_time": "2025-08-08T18:37:14.598725",
     "exception": false,
     "start_time": "2025-08-08T18:37:14.570596",
     "status": "completed"
    },
    "tags": []
   },
   "outputs": [],
   "source": [
    "X_train_raw = weather_data_train.drop(columns=['DateTime', # Model cannot use DateTime as a feature\n",
    "                                                'Year', # No Effect on weather data\n",
    "                                                'Season', # Season is categorical, not numerical\n",
    "                                                'DaySegments', # DaySegments is categorical, not numerical\n",
    "                                                'Visibility',  # Target variable\n",
    "                                                'SolarRadiation', # Target variable\n",
    "                                                'SolarEnergy', # Target variable\n",
    "                                                'Conditions', # Target variable\n",
    "                                                'Icon']) # Target variable\n",
    "y_train = weather_data_train['SolarRadiation']"
   ]
  },
  {
   "cell_type": "code",
   "execution_count": 11,
   "id": "01be921c",
   "metadata": {
    "execution": {
     "iopub.execute_input": "2025-08-08T18:37:14.640914Z",
     "iopub.status.busy": "2025-08-08T18:37:14.640043Z",
     "iopub.status.idle": "2025-08-08T18:37:14.646175Z",
     "shell.execute_reply": "2025-08-08T18:37:14.645312Z"
    },
    "id": "5d2d4c90",
    "papermill": {
     "duration": 0.028626,
     "end_time": "2025-08-08T18:37:14.647637",
     "exception": false,
     "start_time": "2025-08-08T18:37:14.619011",
     "status": "completed"
    },
    "tags": []
   },
   "outputs": [],
   "source": [
    "X_test_raw = weather_data_test.drop(columns=['DateTime', # Model cannot use DateTime as a feature\n",
    "                                                'Year', # No Effect on weather data\n",
    "                                                'Season', # Season is categorical, not numerical\n",
    "                                                'DaySegments', # DaySegments is categorical, not numerical\n",
    "                                                'Visibility',  # Target variable\n",
    "                                                'SolarRadiation', # Target variable\n",
    "                                                'SolarEnergy', # Target variable\n",
    "                                                'Conditions', # Target variable\n",
    "                                                'Icon']) # Target variable\n",
    "y_test = weather_data_test['SolarRadiation']"
   ]
  },
  {
   "cell_type": "code",
   "execution_count": 12,
   "id": "205891f5",
   "metadata": {
    "execution": {
     "iopub.execute_input": "2025-08-08T18:37:14.690173Z",
     "iopub.status.busy": "2025-08-08T18:37:14.689265Z",
     "iopub.status.idle": "2025-08-08T18:37:14.693866Z",
     "shell.execute_reply": "2025-08-08T18:37:14.693017Z"
    },
    "id": "a9036adf",
    "papermill": {
     "duration": 0.027424,
     "end_time": "2025-08-08T18:37:14.695536",
     "exception": false,
     "start_time": "2025-08-08T18:37:14.668112",
     "status": "completed"
    },
    "tags": []
   },
   "outputs": [],
   "source": [
    "feature_columns = [col for col in X_train_raw.columns]\n",
    "feature_columns_for_saving = ','.join(feature_columns)"
   ]
  },
  {
   "cell_type": "code",
   "execution_count": 13,
   "id": "0fec52eb",
   "metadata": {
    "execution": {
     "iopub.execute_input": "2025-08-08T18:37:14.738312Z",
     "iopub.status.busy": "2025-08-08T18:37:14.737975Z",
     "iopub.status.idle": "2025-08-08T18:37:14.743253Z",
     "shell.execute_reply": "2025-08-08T18:37:14.742268Z"
    },
    "id": "51d7d498",
    "papermill": {
     "duration": 0.028388,
     "end_time": "2025-08-08T18:37:14.744656",
     "exception": false,
     "start_time": "2025-08-08T18:37:14.716268",
     "status": "completed"
    },
    "tags": []
   },
   "outputs": [
    {
     "name": "stdout",
     "output_type": "stream",
     "text": [
      "X_train:  11692\n",
      "y_train:  11692\n",
      "\n",
      "X_test:  2924\n",
      "y_test:  2924\n"
     ]
    }
   ],
   "source": [
    "print(\"X_train: \", len(X_train_raw))\n",
    "print(\"y_train: \", len(y_train))\n",
    "print(\"\\nX_test: \", len(X_test_raw))\n",
    "print(\"y_test: \", len(y_test))"
   ]
  },
  {
   "cell_type": "markdown",
   "id": "750ca8f0",
   "metadata": {
    "id": "842d3cf4",
    "papermill": {
     "duration": 0.019678,
     "end_time": "2025-08-08T18:37:14.784525",
     "exception": false,
     "start_time": "2025-08-08T18:37:14.764847",
     "status": "completed"
    },
    "tags": []
   },
   "source": [
    "## MinMax Scaler"
   ]
  },
  {
   "cell_type": "code",
   "execution_count": 14,
   "id": "84ff088b",
   "metadata": {
    "execution": {
     "iopub.execute_input": "2025-08-08T18:37:14.825536Z",
     "iopub.status.busy": "2025-08-08T18:37:14.825233Z",
     "iopub.status.idle": "2025-08-08T18:37:14.874210Z",
     "shell.execute_reply": "2025-08-08T18:37:14.873276Z"
    },
    "id": "0467f830",
    "papermill": {
     "duration": 0.071511,
     "end_time": "2025-08-08T18:37:14.875878",
     "exception": false,
     "start_time": "2025-08-08T18:37:14.804367",
     "status": "completed"
    },
    "tags": []
   },
   "outputs": [],
   "source": [
    "scaler = MinMaxScaler()\n",
    "X_train = scaler.fit_transform(X_train_raw)\n",
    "X_test = scaler.transform(X_test_raw)"
   ]
  },
  {
   "cell_type": "code",
   "execution_count": 15,
   "id": "c79703f1",
   "metadata": {
    "execution": {
     "iopub.execute_input": "2025-08-08T18:37:14.917390Z",
     "iopub.status.busy": "2025-08-08T18:37:14.916743Z",
     "iopub.status.idle": "2025-08-08T18:37:14.922652Z",
     "shell.execute_reply": "2025-08-08T18:37:14.921824Z"
    },
    "id": "a8e9018d",
    "papermill": {
     "duration": 0.028154,
     "end_time": "2025-08-08T18:37:14.924163",
     "exception": false,
     "start_time": "2025-08-08T18:37:14.896009",
     "status": "completed"
    },
    "tags": []
   },
   "outputs": [
    {
     "data": {
      "text/plain": [
       "array([[0.72727273, 0.83333333, 0.43478261, ..., 0.4922    , 0.697     ,\n",
       "        0.31560059],\n",
       "       [0.90909091, 0.26666667, 0.69565217, ..., 0.        , 0.303     ,\n",
       "        0.07388643],\n",
       "       [0.09090909, 0.43333333, 0.        , ..., 0.        , 0.        ,\n",
       "        0.07388643],\n",
       "       ...,\n",
       "       [0.63636364, 0.86666667, 0.43478261, ..., 0.8756    , 0.306     ,\n",
       "        0.09436352],\n",
       "       [0.        , 0.4       , 0.91304348, ..., 0.        , 0.        ,\n",
       "        0.07388643],\n",
       "       [0.72727273, 0.26666667, 0.34782609, ..., 0.8925    , 0.29      ,\n",
       "        0.27812962]])"
      ]
     },
     "execution_count": 15,
     "metadata": {},
     "output_type": "execute_result"
    }
   ],
   "source": [
    "X_train"
   ]
  },
  {
   "cell_type": "code",
   "execution_count": 16,
   "id": "21d94c97",
   "metadata": {
    "execution": {
     "iopub.execute_input": "2025-08-08T18:37:14.965747Z",
     "iopub.status.busy": "2025-08-08T18:37:14.965427Z",
     "iopub.status.idle": "2025-08-08T18:37:14.971742Z",
     "shell.execute_reply": "2025-08-08T18:37:14.970955Z"
    },
    "id": "7cf38a3d",
    "papermill": {
     "duration": 0.028698,
     "end_time": "2025-08-08T18:37:14.973094",
     "exception": false,
     "start_time": "2025-08-08T18:37:14.944396",
     "status": "completed"
    },
    "tags": []
   },
   "outputs": [
    {
     "data": {
      "text/plain": [
       "array([[0.63636364, 0.06666667, 0.95652174, ..., 0.894     , 0.        ,\n",
       "        0.07388643],\n",
       "       [0.45454545, 0.26666667, 0.65217391, ..., 0.9677    , 0.074     ,\n",
       "        0.07388643],\n",
       "       [0.63636364, 0.03333333, 0.2173913 , ..., 0.9935    , 0.        ,\n",
       "        0.07388643],\n",
       "       ...,\n",
       "       [0.09090909, 0.2       , 0.73913043, ..., 0.0013    , 0.203     ,\n",
       "        0.07388643],\n",
       "       [0.27272727, 0.13333333, 0.86956522, ..., 0.        , 0.        ,\n",
       "        0.25575259],\n",
       "       [0.45454545, 0.73333333, 0.95652174, ..., 0.5161    , 0.        ,\n",
       "        0.07388643]])"
      ]
     },
     "execution_count": 16,
     "metadata": {},
     "output_type": "execute_result"
    }
   ],
   "source": [
    "X_test"
   ]
  },
  {
   "cell_type": "markdown",
   "id": "09c7cecf",
   "metadata": {
    "id": "942e9125",
    "papermill": {
     "duration": 0.019684,
     "end_time": "2025-08-08T18:37:15.013036",
     "exception": false,
     "start_time": "2025-08-08T18:37:14.993352",
     "status": "completed"
    },
    "tags": []
   },
   "source": [
    "### Default Parameters"
   ]
  },
  {
   "cell_type": "code",
   "execution_count": 17,
   "id": "22352655",
   "metadata": {
    "execution": {
     "iopub.execute_input": "2025-08-08T18:37:15.058075Z",
     "iopub.status.busy": "2025-08-08T18:37:15.057283Z",
     "iopub.status.idle": "2025-08-08T18:37:15.070169Z",
     "shell.execute_reply": "2025-08-08T18:37:15.069287Z"
    },
    "id": "e66f708b",
    "papermill": {
     "duration": 0.038539,
     "end_time": "2025-08-08T18:37:15.071578",
     "exception": false,
     "start_time": "2025-08-08T18:37:15.033039",
     "status": "completed"
    },
    "tags": []
   },
   "outputs": [
    {
     "data": {
      "text/html": [
       "<style>#sk-container-id-1 {color: black;background-color: white;}#sk-container-id-1 pre{padding: 0;}#sk-container-id-1 div.sk-toggleable {background-color: white;}#sk-container-id-1 label.sk-toggleable__label {cursor: pointer;display: block;width: 100%;margin-bottom: 0;padding: 0.3em;box-sizing: border-box;text-align: center;}#sk-container-id-1 label.sk-toggleable__label-arrow:before {content: \"▸\";float: left;margin-right: 0.25em;color: #696969;}#sk-container-id-1 label.sk-toggleable__label-arrow:hover:before {color: black;}#sk-container-id-1 div.sk-estimator:hover label.sk-toggleable__label-arrow:before {color: black;}#sk-container-id-1 div.sk-toggleable__content {max-height: 0;max-width: 0;overflow: hidden;text-align: left;background-color: #f0f8ff;}#sk-container-id-1 div.sk-toggleable__content pre {margin: 0.2em;color: black;border-radius: 0.25em;background-color: #f0f8ff;}#sk-container-id-1 input.sk-toggleable__control:checked~div.sk-toggleable__content {max-height: 200px;max-width: 100%;overflow: auto;}#sk-container-id-1 input.sk-toggleable__control:checked~label.sk-toggleable__label-arrow:before {content: \"▾\";}#sk-container-id-1 div.sk-estimator input.sk-toggleable__control:checked~label.sk-toggleable__label {background-color: #d4ebff;}#sk-container-id-1 div.sk-label input.sk-toggleable__control:checked~label.sk-toggleable__label {background-color: #d4ebff;}#sk-container-id-1 input.sk-hidden--visually {border: 0;clip: rect(1px 1px 1px 1px);clip: rect(1px, 1px, 1px, 1px);height: 1px;margin: -1px;overflow: hidden;padding: 0;position: absolute;width: 1px;}#sk-container-id-1 div.sk-estimator {font-family: monospace;background-color: #f0f8ff;border: 1px dotted black;border-radius: 0.25em;box-sizing: border-box;margin-bottom: 0.5em;}#sk-container-id-1 div.sk-estimator:hover {background-color: #d4ebff;}#sk-container-id-1 div.sk-parallel-item::after {content: \"\";width: 100%;border-bottom: 1px solid gray;flex-grow: 1;}#sk-container-id-1 div.sk-label:hover label.sk-toggleable__label {background-color: #d4ebff;}#sk-container-id-1 div.sk-serial::before {content: \"\";position: absolute;border-left: 1px solid gray;box-sizing: border-box;top: 0;bottom: 0;left: 50%;z-index: 0;}#sk-container-id-1 div.sk-serial {display: flex;flex-direction: column;align-items: center;background-color: white;padding-right: 0.2em;padding-left: 0.2em;position: relative;}#sk-container-id-1 div.sk-item {position: relative;z-index: 1;}#sk-container-id-1 div.sk-parallel {display: flex;align-items: stretch;justify-content: center;background-color: white;position: relative;}#sk-container-id-1 div.sk-item::before, #sk-container-id-1 div.sk-parallel-item::before {content: \"\";position: absolute;border-left: 1px solid gray;box-sizing: border-box;top: 0;bottom: 0;left: 50%;z-index: -1;}#sk-container-id-1 div.sk-parallel-item {display: flex;flex-direction: column;z-index: 1;position: relative;background-color: white;}#sk-container-id-1 div.sk-parallel-item:first-child::after {align-self: flex-end;width: 50%;}#sk-container-id-1 div.sk-parallel-item:last-child::after {align-self: flex-start;width: 50%;}#sk-container-id-1 div.sk-parallel-item:only-child::after {width: 0;}#sk-container-id-1 div.sk-dashed-wrapped {border: 1px dashed gray;margin: 0 0.4em 0.5em 0.4em;box-sizing: border-box;padding-bottom: 0.4em;background-color: white;}#sk-container-id-1 div.sk-label label {font-family: monospace;font-weight: bold;display: inline-block;line-height: 1.2em;}#sk-container-id-1 div.sk-label-container {text-align: center;}#sk-container-id-1 div.sk-container {/* jupyter's `normalize.less` sets `[hidden] { display: none; }` but bootstrap.min.css set `[hidden] { display: none !important; }` so we also need the `!important` here to be able to override the default hidden behavior on the sphinx rendered scikit-learn.org. See: https://github.com/scikit-learn/scikit-learn/issues/21755 */display: inline-block !important;position: relative;}#sk-container-id-1 div.sk-text-repr-fallback {display: none;}</style><div id=\"sk-container-id-1\" class=\"sk-top-container\"><div class=\"sk-text-repr-fallback\"><pre>Lasso(alpha=0.001, max_iter=10000, random_state=42)</pre><b>In a Jupyter environment, please rerun this cell to show the HTML representation or trust the notebook. <br />On GitHub, the HTML representation is unable to render, please try loading this page with nbviewer.org.</b></div><div class=\"sk-container\" hidden><div class=\"sk-item\"><div class=\"sk-estimator sk-toggleable\"><input class=\"sk-toggleable__control sk-hidden--visually\" id=\"sk-estimator-id-1\" type=\"checkbox\" checked><label for=\"sk-estimator-id-1\" class=\"sk-toggleable__label sk-toggleable__label-arrow\">Lasso</label><div class=\"sk-toggleable__content\"><pre>Lasso(alpha=0.001, max_iter=10000, random_state=42)</pre></div></div></div></div></div>"
      ],
      "text/plain": [
       "Lasso(alpha=0.001, max_iter=10000, random_state=42)"
      ]
     },
     "execution_count": 17,
     "metadata": {},
     "output_type": "execute_result"
    }
   ],
   "source": [
    "training_model = LassoR(alpha=0.001, random_state=42, max_iter=10000)\n",
    "training_model"
   ]
  },
  {
   "cell_type": "code",
   "execution_count": 18,
   "id": "1bbb74c0",
   "metadata": {
    "execution": {
     "iopub.execute_input": "2025-08-08T18:37:15.114271Z",
     "iopub.status.busy": "2025-08-08T18:37:15.113674Z",
     "iopub.status.idle": "2025-08-08T18:37:15.221467Z",
     "shell.execute_reply": "2025-08-08T18:37:15.220306Z"
    },
    "id": "84be9e0b",
    "papermill": {
     "duration": 0.133129,
     "end_time": "2025-08-08T18:37:15.225621",
     "exception": false,
     "start_time": "2025-08-08T18:37:15.092492",
     "status": "completed"
    },
    "tags": []
   },
   "outputs": [
    {
     "name": "stdout",
     "output_type": "stream",
     "text": [
      "CPU times: user 328 ms, sys: 1.78 ms, total: 330 ms\n",
      "Wall time: 99.1 ms\n"
     ]
    },
    {
     "data": {
      "text/html": [
       "<style>#sk-container-id-2 {color: black;background-color: white;}#sk-container-id-2 pre{padding: 0;}#sk-container-id-2 div.sk-toggleable {background-color: white;}#sk-container-id-2 label.sk-toggleable__label {cursor: pointer;display: block;width: 100%;margin-bottom: 0;padding: 0.3em;box-sizing: border-box;text-align: center;}#sk-container-id-2 label.sk-toggleable__label-arrow:before {content: \"▸\";float: left;margin-right: 0.25em;color: #696969;}#sk-container-id-2 label.sk-toggleable__label-arrow:hover:before {color: black;}#sk-container-id-2 div.sk-estimator:hover label.sk-toggleable__label-arrow:before {color: black;}#sk-container-id-2 div.sk-toggleable__content {max-height: 0;max-width: 0;overflow: hidden;text-align: left;background-color: #f0f8ff;}#sk-container-id-2 div.sk-toggleable__content pre {margin: 0.2em;color: black;border-radius: 0.25em;background-color: #f0f8ff;}#sk-container-id-2 input.sk-toggleable__control:checked~div.sk-toggleable__content {max-height: 200px;max-width: 100%;overflow: auto;}#sk-container-id-2 input.sk-toggleable__control:checked~label.sk-toggleable__label-arrow:before {content: \"▾\";}#sk-container-id-2 div.sk-estimator input.sk-toggleable__control:checked~label.sk-toggleable__label {background-color: #d4ebff;}#sk-container-id-2 div.sk-label input.sk-toggleable__control:checked~label.sk-toggleable__label {background-color: #d4ebff;}#sk-container-id-2 input.sk-hidden--visually {border: 0;clip: rect(1px 1px 1px 1px);clip: rect(1px, 1px, 1px, 1px);height: 1px;margin: -1px;overflow: hidden;padding: 0;position: absolute;width: 1px;}#sk-container-id-2 div.sk-estimator {font-family: monospace;background-color: #f0f8ff;border: 1px dotted black;border-radius: 0.25em;box-sizing: border-box;margin-bottom: 0.5em;}#sk-container-id-2 div.sk-estimator:hover {background-color: #d4ebff;}#sk-container-id-2 div.sk-parallel-item::after {content: \"\";width: 100%;border-bottom: 1px solid gray;flex-grow: 1;}#sk-container-id-2 div.sk-label:hover label.sk-toggleable__label {background-color: #d4ebff;}#sk-container-id-2 div.sk-serial::before {content: \"\";position: absolute;border-left: 1px solid gray;box-sizing: border-box;top: 0;bottom: 0;left: 50%;z-index: 0;}#sk-container-id-2 div.sk-serial {display: flex;flex-direction: column;align-items: center;background-color: white;padding-right: 0.2em;padding-left: 0.2em;position: relative;}#sk-container-id-2 div.sk-item {position: relative;z-index: 1;}#sk-container-id-2 div.sk-parallel {display: flex;align-items: stretch;justify-content: center;background-color: white;position: relative;}#sk-container-id-2 div.sk-item::before, #sk-container-id-2 div.sk-parallel-item::before {content: \"\";position: absolute;border-left: 1px solid gray;box-sizing: border-box;top: 0;bottom: 0;left: 50%;z-index: -1;}#sk-container-id-2 div.sk-parallel-item {display: flex;flex-direction: column;z-index: 1;position: relative;background-color: white;}#sk-container-id-2 div.sk-parallel-item:first-child::after {align-self: flex-end;width: 50%;}#sk-container-id-2 div.sk-parallel-item:last-child::after {align-self: flex-start;width: 50%;}#sk-container-id-2 div.sk-parallel-item:only-child::after {width: 0;}#sk-container-id-2 div.sk-dashed-wrapped {border: 1px dashed gray;margin: 0 0.4em 0.5em 0.4em;box-sizing: border-box;padding-bottom: 0.4em;background-color: white;}#sk-container-id-2 div.sk-label label {font-family: monospace;font-weight: bold;display: inline-block;line-height: 1.2em;}#sk-container-id-2 div.sk-label-container {text-align: center;}#sk-container-id-2 div.sk-container {/* jupyter's `normalize.less` sets `[hidden] { display: none; }` but bootstrap.min.css set `[hidden] { display: none !important; }` so we also need the `!important` here to be able to override the default hidden behavior on the sphinx rendered scikit-learn.org. See: https://github.com/scikit-learn/scikit-learn/issues/21755 */display: inline-block !important;position: relative;}#sk-container-id-2 div.sk-text-repr-fallback {display: none;}</style><div id=\"sk-container-id-2\" class=\"sk-top-container\"><div class=\"sk-text-repr-fallback\"><pre>Lasso(alpha=0.001, max_iter=10000, random_state=42)</pre><b>In a Jupyter environment, please rerun this cell to show the HTML representation or trust the notebook. <br />On GitHub, the HTML representation is unable to render, please try loading this page with nbviewer.org.</b></div><div class=\"sk-container\" hidden><div class=\"sk-item\"><div class=\"sk-estimator sk-toggleable\"><input class=\"sk-toggleable__control sk-hidden--visually\" id=\"sk-estimator-id-2\" type=\"checkbox\" checked><label for=\"sk-estimator-id-2\" class=\"sk-toggleable__label sk-toggleable__label-arrow\">Lasso</label><div class=\"sk-toggleable__content\"><pre>Lasso(alpha=0.001, max_iter=10000, random_state=42)</pre></div></div></div></div></div>"
      ],
      "text/plain": [
       "Lasso(alpha=0.001, max_iter=10000, random_state=42)"
      ]
     },
     "execution_count": 18,
     "metadata": {},
     "output_type": "execute_result"
    }
   ],
   "source": [
    "%%time\n",
    "training_model.fit(X_train, y_train)"
   ]
  },
  {
   "cell_type": "code",
   "execution_count": 19,
   "id": "8310fd6f",
   "metadata": {
    "execution": {
     "iopub.execute_input": "2025-08-08T18:37:15.299255Z",
     "iopub.status.busy": "2025-08-08T18:37:15.298517Z",
     "iopub.status.idle": "2025-08-08T18:37:15.315591Z",
     "shell.execute_reply": "2025-08-08T18:37:15.315003Z"
    },
    "id": "645be73a",
    "papermill": {
     "duration": 0.056652,
     "end_time": "2025-08-08T18:37:15.318197",
     "exception": false,
     "start_time": "2025-08-08T18:37:15.261545",
     "status": "completed"
    },
    "tags": []
   },
   "outputs": [
    {
     "data": {
      "text/plain": [
       "array([ -1.00175192,  75.32728225,  -1.43041545, ..., 207.97677089,\n",
       "         1.32728873,  -0.42578158])"
      ]
     },
     "execution_count": 19,
     "metadata": {},
     "output_type": "execute_result"
    }
   ],
   "source": [
    "y_pred = training_model.predict(X_test)\n",
    "y_pred"
   ]
  },
  {
   "cell_type": "code",
   "execution_count": 20,
   "id": "ad9a1d60",
   "metadata": {
    "execution": {
     "iopub.execute_input": "2025-08-08T18:37:15.367761Z",
     "iopub.status.busy": "2025-08-08T18:37:15.367464Z",
     "iopub.status.idle": "2025-08-08T18:37:15.375248Z",
     "shell.execute_reply": "2025-08-08T18:37:15.374066Z"
    },
    "id": "bcdea8b0",
    "papermill": {
     "duration": 0.03145,
     "end_time": "2025-08-08T18:37:15.376944",
     "exception": false,
     "start_time": "2025-08-08T18:37:15.345494",
     "status": "completed"
    },
    "tags": []
   },
   "outputs": [
    {
     "data": {
      "text/plain": [
       "5158       0.00\n",
       "3831     105.26\n",
       "5117       0.00\n",
       "6326     758.39\n",
       "11359    135.87\n",
       "          ...  \n",
       "10290     74.58\n",
       "13995      0.00\n",
       "9665     241.81\n",
       "2276       0.00\n",
       "4174       0.00\n",
       "Name: SolarRadiation, Length: 2924, dtype: float64"
      ]
     },
     "execution_count": 20,
     "metadata": {},
     "output_type": "execute_result"
    }
   ],
   "source": [
    "y_test"
   ]
  },
  {
   "cell_type": "code",
   "execution_count": 21,
   "id": "dbecf5ac",
   "metadata": {
    "execution": {
     "iopub.execute_input": "2025-08-08T18:37:15.421019Z",
     "iopub.status.busy": "2025-08-08T18:37:15.420691Z",
     "iopub.status.idle": "2025-08-08T18:37:15.427569Z",
     "shell.execute_reply": "2025-08-08T18:37:15.426797Z"
    },
    "id": "34e0feb4",
    "papermill": {
     "duration": 0.030711,
     "end_time": "2025-08-08T18:37:15.428882",
     "exception": false,
     "start_time": "2025-08-08T18:37:15.398171",
     "status": "completed"
    },
    "tags": []
   },
   "outputs": [],
   "source": [
    "mse = mean_squared_error(y_test, y_pred)\n",
    "mae = mean_absolute_error(y_test, y_pred)\n",
    "r2 = r2_score(y_test, y_pred)\n",
    "rmse = math.sqrt(mse)"
   ]
  },
  {
   "cell_type": "code",
   "execution_count": 22,
   "id": "0a353935",
   "metadata": {
    "execution": {
     "iopub.execute_input": "2025-08-08T18:37:15.471805Z",
     "iopub.status.busy": "2025-08-08T18:37:15.471508Z",
     "iopub.status.idle": "2025-08-08T18:37:15.476722Z",
     "shell.execute_reply": "2025-08-08T18:37:15.475870Z"
    },
    "id": "edeeb5b1",
    "papermill": {
     "duration": 0.028126,
     "end_time": "2025-08-08T18:37:15.478099",
     "exception": false,
     "start_time": "2025-08-08T18:37:15.449973",
     "status": "completed"
    },
    "tags": []
   },
   "outputs": [
    {
     "name": "stdout",
     "output_type": "stream",
     "text": [
      "MSE Score: 315.77473857717365\n",
      "MAE Score: 11.551168911477937\n",
      "R2 Score: 0.9966420704608485\n",
      "RMSE Score: 17.770051732540725\n"
     ]
    }
   ],
   "source": [
    "print(\"MSE Score:\", mse)\n",
    "print(\"MAE Score:\", mae)\n",
    "print(\"R2 Score:\", r2)\n",
    "print(\"RMSE Score:\", rmse)"
   ]
  },
  {
   "cell_type": "code",
   "execution_count": 23,
   "id": "3f560e12",
   "metadata": {
    "execution": {
     "iopub.execute_input": "2025-08-08T18:37:15.520630Z",
     "iopub.status.busy": "2025-08-08T18:37:15.520325Z",
     "iopub.status.idle": "2025-08-08T18:37:15.535727Z",
     "shell.execute_reply": "2025-08-08T18:37:15.534585Z"
    },
    "id": "e8766c4f",
    "papermill": {
     "duration": 0.038361,
     "end_time": "2025-08-08T18:37:15.537233",
     "exception": false,
     "start_time": "2025-08-08T18:37:15.498872",
     "status": "completed"
    },
    "tags": []
   },
   "outputs": [
    {
     "name": "stdout",
     "output_type": "stream",
     "text": [
      "✨ New regression model added:\n",
      "   MSE: 315.774739, R²: 0.996642\n",
      "   Features: 27\n",
      "💾 Registry updated: Model_Training_History/History_Regression.csv\n"
     ]
    }
   ],
   "source": [
    "regression_params = {\n",
    "    'model_name': model_name_for_saving,\n",
    "    'scaler_name': \"MinMaxScaler\",\n",
    "    'features_list': feature_columns_for_saving,\n",
    "    'target_column': target_name_for_saving,\n",
    "    'mse': mse,\n",
    "    'mae': mae,\n",
    "    'rmse': rmse,\n",
    "    'r2': r2,\n",
    "    'parameters': json.dumps(training_model.get_params())\n",
    "}\n",
    "save_model_performance_if_better('regression', regression_params)"
   ]
  },
  {
   "cell_type": "markdown",
   "id": "8c6060dd",
   "metadata": {
    "id": "62b712fa",
    "papermill": {
     "duration": 0.021327,
     "end_time": "2025-08-08T18:37:15.580858",
     "exception": false,
     "start_time": "2025-08-08T18:37:15.559531",
     "status": "completed"
    },
    "tags": []
   },
   "source": [
    "### Tuning with Grid Search"
   ]
  },
  {
   "cell_type": "code",
   "execution_count": 24,
   "id": "490b0baa",
   "metadata": {
    "execution": {
     "iopub.execute_input": "2025-08-08T18:37:15.625264Z",
     "iopub.status.busy": "2025-08-08T18:37:15.624920Z",
     "iopub.status.idle": "2025-08-08T18:37:15.629333Z",
     "shell.execute_reply": "2025-08-08T18:37:15.628655Z"
    },
    "id": "38825869",
    "papermill": {
     "duration": 0.02831,
     "end_time": "2025-08-08T18:37:15.630670",
     "exception": false,
     "start_time": "2025-08-08T18:37:15.602360",
     "status": "completed"
    },
    "tags": []
   },
   "outputs": [],
   "source": [
    "grid_search = GridSearchCV(\n",
    "    LassoR(random_state=42),\n",
    "    grid_param,\n",
    "    cv=5,\n",
    "    scoring='neg_mean_squared_error',\n",
    "    n_jobs=-1, # allow parallel processing, you cant use your own laptop while this runs\n",
    "    verbose=1\n",
    ")"
   ]
  },
  {
   "cell_type": "code",
   "execution_count": null,
   "id": "096c74b2",
   "metadata": {
    "execution": {
     "iopub.execute_input": "2025-08-08T18:37:15.675751Z",
     "iopub.status.busy": "2025-08-08T18:37:15.675474Z",
     "iopub.status.idle": "2025-08-08T19:18:31.057824Z",
     "shell.execute_reply": "2025-08-08T19:18:31.056950Z"
    },
    "id": "07729f47",
    "papermill": {
     "duration": 2475.599336,
     "end_time": "2025-08-08T19:18:31.252138",
     "exception": false,
     "start_time": "2025-08-08T18:37:15.652802",
     "status": "completed"
    },
    "tags": []
   },
   "outputs": [],
   "source": [
    "%%time\n",
    "print(\"Starting hyperparameter tuning...\")\n",
    "grid_search.fit(X_train, y_train)"
   ]
  },
  {
   "cell_type": "code",
   "execution_count": 26,
   "id": "35d1e3b1",
   "metadata": {
    "execution": {
     "iopub.execute_input": "2025-08-08T19:18:31.677508Z",
     "iopub.status.busy": "2025-08-08T19:18:31.677185Z",
     "iopub.status.idle": "2025-08-08T19:18:31.682967Z",
     "shell.execute_reply": "2025-08-08T19:18:31.681884Z"
    },
    "id": "792217d9",
    "papermill": {
     "duration": 0.265425,
     "end_time": "2025-08-08T19:18:31.684355",
     "exception": false,
     "start_time": "2025-08-08T19:18:31.418930",
     "status": "completed"
    },
    "tags": []
   },
   "outputs": [
    {
     "name": "stdout",
     "output_type": "stream",
     "text": [
      "TUNING RESULTS\n",
      "==================================================\n",
      "Best Parameters: {'alpha': 0.005, 'fit_intercept': True, 'max_iter': 2000, 'positive': True, 'precompute': False, 'selection': 'cyclic', 'tol': 1e-06, 'warm_start': False}\n",
      "Best Cross-Validation Score (Negative MSE): -304.28552945806615\n",
      "Best Cross-Validation Score (MSE): 304.28552945806615\n",
      "Best Cross-Validation Score (RMSE): 17.44378197118005\n"
     ]
    }
   ],
   "source": [
    "print(\"TUNING RESULTS\")\n",
    "print(\"=\"*50)\n",
    "print(\"Best Parameters:\", grid_search.best_params_)\n",
    "print(\"Best Cross-Validation Score (Negative MSE):\", grid_search.best_score_)\n",
    "print(\"Best Cross-Validation Score (MSE):\", -grid_search.best_score_)\n",
    "print(\"Best Cross-Validation Score (RMSE):\", math.sqrt(-grid_search.best_score_))"
   ]
  },
  {
   "cell_type": "code",
   "execution_count": 27,
   "id": "95745215",
   "metadata": {
    "execution": {
     "iopub.execute_input": "2025-08-08T19:18:32.021059Z",
     "iopub.status.busy": "2025-08-08T19:18:32.020686Z",
     "iopub.status.idle": "2025-08-08T19:18:32.025913Z",
     "shell.execute_reply": "2025-08-08T19:18:32.024835Z"
    },
    "id": "020d2ff4",
    "papermill": {
     "duration": 0.176467,
     "end_time": "2025-08-08T19:18:32.027617",
     "exception": false,
     "start_time": "2025-08-08T19:18:31.851150",
     "status": "completed"
    },
    "tags": []
   },
   "outputs": [],
   "source": [
    "grid_search_best_model = grid_search.best_estimator_\n",
    "y_pred = grid_search_best_model.predict(X_test)"
   ]
  },
  {
   "cell_type": "code",
   "execution_count": 28,
   "id": "12374dc7",
   "metadata": {
    "execution": {
     "iopub.execute_input": "2025-08-08T19:18:32.357467Z",
     "iopub.status.busy": "2025-08-08T19:18:32.357151Z",
     "iopub.status.idle": "2025-08-08T19:18:32.364318Z",
     "shell.execute_reply": "2025-08-08T19:18:32.363470Z"
    },
    "id": "6293e48b",
    "papermill": {
     "duration": 0.170949,
     "end_time": "2025-08-08T19:18:32.365764",
     "exception": false,
     "start_time": "2025-08-08T19:18:32.194815",
     "status": "completed"
    },
    "tags": []
   },
   "outputs": [],
   "source": [
    "mse_grid_search = mean_squared_error(y_test, y_pred)\n",
    "mae_grid_search = mean_absolute_error(y_test, y_pred)\n",
    "r2_grid_search = r2_score(y_test, y_pred)\n",
    "rmse_grid_search = math.sqrt(mse_grid_search)"
   ]
  },
  {
   "cell_type": "code",
   "execution_count": 29,
   "id": "3697f04f",
   "metadata": {
    "execution": {
     "iopub.execute_input": "2025-08-08T19:18:32.690848Z",
     "iopub.status.busy": "2025-08-08T19:18:32.690553Z",
     "iopub.status.idle": "2025-08-08T19:18:32.695801Z",
     "shell.execute_reply": "2025-08-08T19:18:32.694705Z"
    },
    "id": "dc833bab",
    "papermill": {
     "duration": 0.169809,
     "end_time": "2025-08-08T19:18:32.697344",
     "exception": false,
     "start_time": "2025-08-08T19:18:32.527535",
     "status": "completed"
    },
    "tags": []
   },
   "outputs": [
    {
     "name": "stdout",
     "output_type": "stream",
     "text": [
      "MSE Score: 316.20718426526116\n",
      "MAE Score: 11.547377605920603\n",
      "R2 Score: 0.9966374718594637\n",
      "RMSE Score: 17.78221539249992\n"
     ]
    }
   ],
   "source": [
    "print(\"MSE Score:\", mse_grid_search)\n",
    "print(\"MAE Score:\", mae_grid_search)\n",
    "print(\"R2 Score:\", r2_grid_search)\n",
    "print(\"RMSE Score:\", rmse_grid_search)"
   ]
  },
  {
   "cell_type": "code",
   "execution_count": 30,
   "id": "3782207b",
   "metadata": {
    "execution": {
     "iopub.execute_input": "2025-08-08T19:18:33.026846Z",
     "iopub.status.busy": "2025-08-08T19:18:33.026566Z",
     "iopub.status.idle": "2025-08-08T19:18:33.039527Z",
     "shell.execute_reply": "2025-08-08T19:18:33.038630Z"
    },
    "id": "a36782fc",
    "papermill": {
     "duration": 0.178903,
     "end_time": "2025-08-08T19:18:33.041018",
     "exception": false,
     "start_time": "2025-08-08T19:18:32.862115",
     "status": "completed"
    },
    "tags": []
   },
   "outputs": [
    {
     "name": "stdout",
     "output_type": "stream",
     "text": [
      "✨ New regression model added:\n",
      "   MSE: 316.207184, R²: 0.996637\n",
      "   Features: 27\n",
      "💾 Registry updated: Model_Training_History/History_Regression.csv\n"
     ]
    }
   ],
   "source": [
    "regression_params = {\n",
    "    'model_name': model_name_for_saving + \" Tuned\",\n",
    "    'scaler_name': \"MinMaxScaler\",\n",
    "    'features_list': feature_columns_for_saving,\n",
    "    'target_column': target_name_for_saving,\n",
    "    'mse': mse_grid_search,\n",
    "    'mae': mae_grid_search,\n",
    "    'rmse': rmse_grid_search,\n",
    "    'r2': r2_grid_search,\n",
    "    'parameters' : json.dumps({\n",
    "        \"best_params\": grid_search.best_params_,\n",
    "        \"cv_score\": grid_search.best_score_,\n",
    "        \"all_params\": grid_search_best_model.get_params()\n",
    "    })\n",
    "}\n",
    "save_model_performance_if_better('regression', regression_params)"
   ]
  },
  {
   "cell_type": "markdown",
   "id": "9103c885",
   "metadata": {
    "id": "86ea9a35",
    "papermill": {
     "duration": 0.16057,
     "end_time": "2025-08-08T19:18:33.364300",
     "exception": false,
     "start_time": "2025-08-08T19:18:33.203730",
     "status": "completed"
    },
    "tags": []
   },
   "source": [
    "## Standard Scaler"
   ]
  },
  {
   "cell_type": "code",
   "execution_count": 31,
   "id": "b7689ac9",
   "metadata": {
    "execution": {
     "iopub.execute_input": "2025-08-08T19:18:33.688727Z",
     "iopub.status.busy": "2025-08-08T19:18:33.688372Z",
     "iopub.status.idle": "2025-08-08T19:18:33.711933Z",
     "shell.execute_reply": "2025-08-08T19:18:33.711025Z"
    },
    "id": "027b7953",
    "papermill": {
     "duration": 0.188791,
     "end_time": "2025-08-08T19:18:33.713660",
     "exception": false,
     "start_time": "2025-08-08T19:18:33.524869",
     "status": "completed"
    },
    "tags": []
   },
   "outputs": [],
   "source": [
    "scaler = StandardScaler()\n",
    "X_train = scaler.fit_transform(X_train_raw)\n",
    "X_test = scaler.transform(X_test_raw)"
   ]
  },
  {
   "cell_type": "code",
   "execution_count": 32,
   "id": "dffa09e3",
   "metadata": {
    "execution": {
     "iopub.execute_input": "2025-08-08T19:18:34.045435Z",
     "iopub.status.busy": "2025-08-08T19:18:34.045123Z",
     "iopub.status.idle": "2025-08-08T19:18:34.051592Z",
     "shell.execute_reply": "2025-08-08T19:18:34.050622Z"
    },
    "id": "6465307b",
    "papermill": {
     "duration": 0.174446,
     "end_time": "2025-08-08T19:18:34.053095",
     "exception": false,
     "start_time": "2025-08-08T19:18:33.878649",
     "status": "completed"
    },
    "tags": []
   },
   "outputs": [
    {
     "data": {
      "text/plain": [
       "array([[ 1.01884116,  1.17229173, -0.21938027, ..., -0.12088825,\n",
       "         1.52387472,  1.09644529],\n",
       "       [ 1.64376461, -0.75947244,  0.64624572, ..., -1.52028666,\n",
       "         0.24645772, -0.43343649],\n",
       "       [-1.16839092, -0.1913065 , -1.66209024, ..., -1.52028666,\n",
       "        -0.73592134, -0.43343649],\n",
       "       ...,\n",
       "       [ 0.70637943,  1.28592492, -0.21938027, ...,  0.96917545,\n",
       "         0.25618424, -0.30383078],\n",
       "       [-1.48085264, -0.30493969,  1.36760071, ..., -1.52028666,\n",
       "        -0.73592134, -0.43343649],\n",
       "       [ 1.01884116, -0.75947244, -0.50792226, ...,  1.01722469,\n",
       "         0.20430944,  0.85928021]])"
      ]
     },
     "execution_count": 32,
     "metadata": {},
     "output_type": "execute_result"
    }
   ],
   "source": [
    "X_train"
   ]
  },
  {
   "cell_type": "code",
   "execution_count": 33,
   "id": "ddca8301",
   "metadata": {
    "execution": {
     "iopub.execute_input": "2025-08-08T19:18:34.377335Z",
     "iopub.status.busy": "2025-08-08T19:18:34.377014Z",
     "iopub.status.idle": "2025-08-08T19:18:34.382905Z",
     "shell.execute_reply": "2025-08-08T19:18:34.381967Z"
    },
    "id": "81c9ea36",
    "papermill": {
     "duration": 0.169211,
     "end_time": "2025-08-08T19:18:34.384400",
     "exception": false,
     "start_time": "2025-08-08T19:18:34.215189",
     "status": "completed"
    },
    "tags": []
   },
   "outputs": [
    {
     "data": {
      "text/plain": [
       "array([[ 0.70637943, -1.44127155,  1.51187171, ...,  1.02148941,\n",
       "        -0.73592134, -0.43343649],\n",
       "       [ 0.08145598, -0.75947244,  0.50197472, ...,  1.23102956,\n",
       "        -0.49600038, -0.43343649],\n",
       "       [ 0.70637943, -1.55490474, -0.94073525, ...,  1.30438283,\n",
       "        -0.73592134, -0.43343649],\n",
       "       ...,\n",
       "       [-1.16839092, -0.98673881,  0.79051672, ..., -1.51659057,\n",
       "        -0.07775979, -0.43343649],\n",
       "       [-0.54346747, -1.21400518,  1.22332971, ..., -1.52028666,\n",
       "        -0.73592134,  0.71764924],\n",
       "       [ 0.08145598,  0.83139217,  1.51187171, ..., -0.05293696,\n",
       "        -0.73592134, -0.43343649]])"
      ]
     },
     "execution_count": 33,
     "metadata": {},
     "output_type": "execute_result"
    }
   ],
   "source": [
    "X_test"
   ]
  },
  {
   "cell_type": "markdown",
   "id": "212d1712",
   "metadata": {
    "id": "ae31b4c1",
    "papermill": {
     "duration": 0.160493,
     "end_time": "2025-08-08T19:18:34.705720",
     "exception": false,
     "start_time": "2025-08-08T19:18:34.545227",
     "status": "completed"
    },
    "tags": []
   },
   "source": [
    "### Default Parameters"
   ]
  },
  {
   "cell_type": "code",
   "execution_count": 34,
   "id": "246cb746",
   "metadata": {
    "execution": {
     "iopub.execute_input": "2025-08-08T19:18:35.107426Z",
     "iopub.status.busy": "2025-08-08T19:18:35.107123Z",
     "iopub.status.idle": "2025-08-08T19:18:35.113707Z",
     "shell.execute_reply": "2025-08-08T19:18:35.112904Z"
    },
    "id": "99b44197",
    "papermill": {
     "duration": 0.176221,
     "end_time": "2025-08-08T19:18:35.115131",
     "exception": false,
     "start_time": "2025-08-08T19:18:34.938910",
     "status": "completed"
    },
    "tags": []
   },
   "outputs": [
    {
     "data": {
      "text/html": [
       "<style>#sk-container-id-4 {color: black;background-color: white;}#sk-container-id-4 pre{padding: 0;}#sk-container-id-4 div.sk-toggleable {background-color: white;}#sk-container-id-4 label.sk-toggleable__label {cursor: pointer;display: block;width: 100%;margin-bottom: 0;padding: 0.3em;box-sizing: border-box;text-align: center;}#sk-container-id-4 label.sk-toggleable__label-arrow:before {content: \"▸\";float: left;margin-right: 0.25em;color: #696969;}#sk-container-id-4 label.sk-toggleable__label-arrow:hover:before {color: black;}#sk-container-id-4 div.sk-estimator:hover label.sk-toggleable__label-arrow:before {color: black;}#sk-container-id-4 div.sk-toggleable__content {max-height: 0;max-width: 0;overflow: hidden;text-align: left;background-color: #f0f8ff;}#sk-container-id-4 div.sk-toggleable__content pre {margin: 0.2em;color: black;border-radius: 0.25em;background-color: #f0f8ff;}#sk-container-id-4 input.sk-toggleable__control:checked~div.sk-toggleable__content {max-height: 200px;max-width: 100%;overflow: auto;}#sk-container-id-4 input.sk-toggleable__control:checked~label.sk-toggleable__label-arrow:before {content: \"▾\";}#sk-container-id-4 div.sk-estimator input.sk-toggleable__control:checked~label.sk-toggleable__label {background-color: #d4ebff;}#sk-container-id-4 div.sk-label input.sk-toggleable__control:checked~label.sk-toggleable__label {background-color: #d4ebff;}#sk-container-id-4 input.sk-hidden--visually {border: 0;clip: rect(1px 1px 1px 1px);clip: rect(1px, 1px, 1px, 1px);height: 1px;margin: -1px;overflow: hidden;padding: 0;position: absolute;width: 1px;}#sk-container-id-4 div.sk-estimator {font-family: monospace;background-color: #f0f8ff;border: 1px dotted black;border-radius: 0.25em;box-sizing: border-box;margin-bottom: 0.5em;}#sk-container-id-4 div.sk-estimator:hover {background-color: #d4ebff;}#sk-container-id-4 div.sk-parallel-item::after {content: \"\";width: 100%;border-bottom: 1px solid gray;flex-grow: 1;}#sk-container-id-4 div.sk-label:hover label.sk-toggleable__label {background-color: #d4ebff;}#sk-container-id-4 div.sk-serial::before {content: \"\";position: absolute;border-left: 1px solid gray;box-sizing: border-box;top: 0;bottom: 0;left: 50%;z-index: 0;}#sk-container-id-4 div.sk-serial {display: flex;flex-direction: column;align-items: center;background-color: white;padding-right: 0.2em;padding-left: 0.2em;position: relative;}#sk-container-id-4 div.sk-item {position: relative;z-index: 1;}#sk-container-id-4 div.sk-parallel {display: flex;align-items: stretch;justify-content: center;background-color: white;position: relative;}#sk-container-id-4 div.sk-item::before, #sk-container-id-4 div.sk-parallel-item::before {content: \"\";position: absolute;border-left: 1px solid gray;box-sizing: border-box;top: 0;bottom: 0;left: 50%;z-index: -1;}#sk-container-id-4 div.sk-parallel-item {display: flex;flex-direction: column;z-index: 1;position: relative;background-color: white;}#sk-container-id-4 div.sk-parallel-item:first-child::after {align-self: flex-end;width: 50%;}#sk-container-id-4 div.sk-parallel-item:last-child::after {align-self: flex-start;width: 50%;}#sk-container-id-4 div.sk-parallel-item:only-child::after {width: 0;}#sk-container-id-4 div.sk-dashed-wrapped {border: 1px dashed gray;margin: 0 0.4em 0.5em 0.4em;box-sizing: border-box;padding-bottom: 0.4em;background-color: white;}#sk-container-id-4 div.sk-label label {font-family: monospace;font-weight: bold;display: inline-block;line-height: 1.2em;}#sk-container-id-4 div.sk-label-container {text-align: center;}#sk-container-id-4 div.sk-container {/* jupyter's `normalize.less` sets `[hidden] { display: none; }` but bootstrap.min.css set `[hidden] { display: none !important; }` so we also need the `!important` here to be able to override the default hidden behavior on the sphinx rendered scikit-learn.org. See: https://github.com/scikit-learn/scikit-learn/issues/21755 */display: inline-block !important;position: relative;}#sk-container-id-4 div.sk-text-repr-fallback {display: none;}</style><div id=\"sk-container-id-4\" class=\"sk-top-container\"><div class=\"sk-text-repr-fallback\"><pre>Lasso(alpha=0.001, max_iter=10000, random_state=42)</pre><b>In a Jupyter environment, please rerun this cell to show the HTML representation or trust the notebook. <br />On GitHub, the HTML representation is unable to render, please try loading this page with nbviewer.org.</b></div><div class=\"sk-container\" hidden><div class=\"sk-item\"><div class=\"sk-estimator sk-toggleable\"><input class=\"sk-toggleable__control sk-hidden--visually\" id=\"sk-estimator-id-6\" type=\"checkbox\" checked><label for=\"sk-estimator-id-6\" class=\"sk-toggleable__label sk-toggleable__label-arrow\">Lasso</label><div class=\"sk-toggleable__content\"><pre>Lasso(alpha=0.001, max_iter=10000, random_state=42)</pre></div></div></div></div></div>"
      ],
      "text/plain": [
       "Lasso(alpha=0.001, max_iter=10000, random_state=42)"
      ]
     },
     "execution_count": 34,
     "metadata": {},
     "output_type": "execute_result"
    }
   ],
   "source": [
    "training_model = LassoR(alpha=0.001, random_state=42, max_iter=10000)\n",
    "training_model"
   ]
  },
  {
   "cell_type": "code",
   "execution_count": 35,
   "id": "3e08fe99",
   "metadata": {
    "execution": {
     "iopub.execute_input": "2025-08-08T19:18:35.441207Z",
     "iopub.status.busy": "2025-08-08T19:18:35.440499Z",
     "iopub.status.idle": "2025-08-08T19:18:35.573908Z",
     "shell.execute_reply": "2025-08-08T19:18:35.573058Z"
    },
    "id": "0455b6ae",
    "papermill": {
     "duration": 0.300894,
     "end_time": "2025-08-08T19:18:35.577518",
     "exception": false,
     "start_time": "2025-08-08T19:18:35.276624",
     "status": "completed"
    },
    "tags": []
   },
   "outputs": [
    {
     "name": "stdout",
     "output_type": "stream",
     "text": [
      "CPU times: user 479 ms, sys: 0 ns, total: 479 ms\n",
      "Wall time: 124 ms\n"
     ]
    },
    {
     "data": {
      "text/html": [
       "<style>#sk-container-id-5 {color: black;background-color: white;}#sk-container-id-5 pre{padding: 0;}#sk-container-id-5 div.sk-toggleable {background-color: white;}#sk-container-id-5 label.sk-toggleable__label {cursor: pointer;display: block;width: 100%;margin-bottom: 0;padding: 0.3em;box-sizing: border-box;text-align: center;}#sk-container-id-5 label.sk-toggleable__label-arrow:before {content: \"▸\";float: left;margin-right: 0.25em;color: #696969;}#sk-container-id-5 label.sk-toggleable__label-arrow:hover:before {color: black;}#sk-container-id-5 div.sk-estimator:hover label.sk-toggleable__label-arrow:before {color: black;}#sk-container-id-5 div.sk-toggleable__content {max-height: 0;max-width: 0;overflow: hidden;text-align: left;background-color: #f0f8ff;}#sk-container-id-5 div.sk-toggleable__content pre {margin: 0.2em;color: black;border-radius: 0.25em;background-color: #f0f8ff;}#sk-container-id-5 input.sk-toggleable__control:checked~div.sk-toggleable__content {max-height: 200px;max-width: 100%;overflow: auto;}#sk-container-id-5 input.sk-toggleable__control:checked~label.sk-toggleable__label-arrow:before {content: \"▾\";}#sk-container-id-5 div.sk-estimator input.sk-toggleable__control:checked~label.sk-toggleable__label {background-color: #d4ebff;}#sk-container-id-5 div.sk-label input.sk-toggleable__control:checked~label.sk-toggleable__label {background-color: #d4ebff;}#sk-container-id-5 input.sk-hidden--visually {border: 0;clip: rect(1px 1px 1px 1px);clip: rect(1px, 1px, 1px, 1px);height: 1px;margin: -1px;overflow: hidden;padding: 0;position: absolute;width: 1px;}#sk-container-id-5 div.sk-estimator {font-family: monospace;background-color: #f0f8ff;border: 1px dotted black;border-radius: 0.25em;box-sizing: border-box;margin-bottom: 0.5em;}#sk-container-id-5 div.sk-estimator:hover {background-color: #d4ebff;}#sk-container-id-5 div.sk-parallel-item::after {content: \"\";width: 100%;border-bottom: 1px solid gray;flex-grow: 1;}#sk-container-id-5 div.sk-label:hover label.sk-toggleable__label {background-color: #d4ebff;}#sk-container-id-5 div.sk-serial::before {content: \"\";position: absolute;border-left: 1px solid gray;box-sizing: border-box;top: 0;bottom: 0;left: 50%;z-index: 0;}#sk-container-id-5 div.sk-serial {display: flex;flex-direction: column;align-items: center;background-color: white;padding-right: 0.2em;padding-left: 0.2em;position: relative;}#sk-container-id-5 div.sk-item {position: relative;z-index: 1;}#sk-container-id-5 div.sk-parallel {display: flex;align-items: stretch;justify-content: center;background-color: white;position: relative;}#sk-container-id-5 div.sk-item::before, #sk-container-id-5 div.sk-parallel-item::before {content: \"\";position: absolute;border-left: 1px solid gray;box-sizing: border-box;top: 0;bottom: 0;left: 50%;z-index: -1;}#sk-container-id-5 div.sk-parallel-item {display: flex;flex-direction: column;z-index: 1;position: relative;background-color: white;}#sk-container-id-5 div.sk-parallel-item:first-child::after {align-self: flex-end;width: 50%;}#sk-container-id-5 div.sk-parallel-item:last-child::after {align-self: flex-start;width: 50%;}#sk-container-id-5 div.sk-parallel-item:only-child::after {width: 0;}#sk-container-id-5 div.sk-dashed-wrapped {border: 1px dashed gray;margin: 0 0.4em 0.5em 0.4em;box-sizing: border-box;padding-bottom: 0.4em;background-color: white;}#sk-container-id-5 div.sk-label label {font-family: monospace;font-weight: bold;display: inline-block;line-height: 1.2em;}#sk-container-id-5 div.sk-label-container {text-align: center;}#sk-container-id-5 div.sk-container {/* jupyter's `normalize.less` sets `[hidden] { display: none; }` but bootstrap.min.css set `[hidden] { display: none !important; }` so we also need the `!important` here to be able to override the default hidden behavior on the sphinx rendered scikit-learn.org. See: https://github.com/scikit-learn/scikit-learn/issues/21755 */display: inline-block !important;position: relative;}#sk-container-id-5 div.sk-text-repr-fallback {display: none;}</style><div id=\"sk-container-id-5\" class=\"sk-top-container\"><div class=\"sk-text-repr-fallback\"><pre>Lasso(alpha=0.001, max_iter=10000, random_state=42)</pre><b>In a Jupyter environment, please rerun this cell to show the HTML representation or trust the notebook. <br />On GitHub, the HTML representation is unable to render, please try loading this page with nbviewer.org.</b></div><div class=\"sk-container\" hidden><div class=\"sk-item\"><div class=\"sk-estimator sk-toggleable\"><input class=\"sk-toggleable__control sk-hidden--visually\" id=\"sk-estimator-id-7\" type=\"checkbox\" checked><label for=\"sk-estimator-id-7\" class=\"sk-toggleable__label sk-toggleable__label-arrow\">Lasso</label><div class=\"sk-toggleable__content\"><pre>Lasso(alpha=0.001, max_iter=10000, random_state=42)</pre></div></div></div></div></div>"
      ],
      "text/plain": [
       "Lasso(alpha=0.001, max_iter=10000, random_state=42)"
      ]
     },
     "execution_count": 35,
     "metadata": {},
     "output_type": "execute_result"
    }
   ],
   "source": [
    "%%time\n",
    "training_model.fit(X_train, y_train)"
   ]
  },
  {
   "cell_type": "code",
   "execution_count": 36,
   "id": "7eed51a1",
   "metadata": {
    "execution": {
     "iopub.execute_input": "2025-08-08T19:18:35.955165Z",
     "iopub.status.busy": "2025-08-08T19:18:35.954804Z",
     "iopub.status.idle": "2025-08-08T19:18:35.961225Z",
     "shell.execute_reply": "2025-08-08T19:18:35.960381Z"
    },
    "id": "bfcd4e52",
    "papermill": {
     "duration": 0.17081,
     "end_time": "2025-08-08T19:18:35.962576",
     "exception": false,
     "start_time": "2025-08-08T19:18:35.791766",
     "status": "completed"
    },
    "tags": []
   },
   "outputs": [
    {
     "data": {
      "text/plain": [
       "array([ -1.11985884,  75.29031308,  -1.58194074, ..., 207.95309552,\n",
       "         1.27299519,  -0.51787524])"
      ]
     },
     "execution_count": 36,
     "metadata": {},
     "output_type": "execute_result"
    }
   ],
   "source": [
    "y_pred = training_model.predict(X_test)\n",
    "y_pred"
   ]
  },
  {
   "cell_type": "code",
   "execution_count": 37,
   "id": "83a2ff95",
   "metadata": {
    "execution": {
     "iopub.execute_input": "2025-08-08T19:18:36.290356Z",
     "iopub.status.busy": "2025-08-08T19:18:36.289971Z",
     "iopub.status.idle": "2025-08-08T19:18:36.298085Z",
     "shell.execute_reply": "2025-08-08T19:18:36.297104Z"
    },
    "id": "cfee46a6",
    "papermill": {
     "duration": 0.171997,
     "end_time": "2025-08-08T19:18:36.299652",
     "exception": false,
     "start_time": "2025-08-08T19:18:36.127655",
     "status": "completed"
    },
    "tags": []
   },
   "outputs": [
    {
     "data": {
      "text/plain": [
       "5158       0.00\n",
       "3831     105.26\n",
       "5117       0.00\n",
       "6326     758.39\n",
       "11359    135.87\n",
       "          ...  \n",
       "10290     74.58\n",
       "13995      0.00\n",
       "9665     241.81\n",
       "2276       0.00\n",
       "4174       0.00\n",
       "Name: SolarRadiation, Length: 2924, dtype: float64"
      ]
     },
     "execution_count": 37,
     "metadata": {},
     "output_type": "execute_result"
    }
   ],
   "source": [
    "y_test"
   ]
  },
  {
   "cell_type": "code",
   "execution_count": 38,
   "id": "342d7fa0",
   "metadata": {
    "execution": {
     "iopub.execute_input": "2025-08-08T19:18:36.639752Z",
     "iopub.status.busy": "2025-08-08T19:18:36.639447Z",
     "iopub.status.idle": "2025-08-08T19:18:36.646330Z",
     "shell.execute_reply": "2025-08-08T19:18:36.645398Z"
    },
    "id": "9b3f756f",
    "papermill": {
     "duration": 0.171299,
     "end_time": "2025-08-08T19:18:36.647690",
     "exception": false,
     "start_time": "2025-08-08T19:18:36.476391",
     "status": "completed"
    },
    "tags": []
   },
   "outputs": [],
   "source": [
    "mse = mean_squared_error(y_test, y_pred)\n",
    "mae = mean_absolute_error(y_test, y_pred)\n",
    "r2 = r2_score(y_test, y_pred)\n",
    "rmse = math.sqrt(mse)"
   ]
  },
  {
   "cell_type": "code",
   "execution_count": 39,
   "id": "dcdbeb29",
   "metadata": {
    "execution": {
     "iopub.execute_input": "2025-08-08T19:18:36.975952Z",
     "iopub.status.busy": "2025-08-08T19:18:36.975590Z",
     "iopub.status.idle": "2025-08-08T19:18:36.980948Z",
     "shell.execute_reply": "2025-08-08T19:18:36.979954Z"
    },
    "id": "13f87057",
    "papermill": {
     "duration": 0.170667,
     "end_time": "2025-08-08T19:18:36.982480",
     "exception": false,
     "start_time": "2025-08-08T19:18:36.811813",
     "status": "completed"
    },
    "tags": []
   },
   "outputs": [
    {
     "name": "stdout",
     "output_type": "stream",
     "text": [
      "MSE Score: 315.85674958729544\n",
      "MAE Score: 11.556672870856676\n",
      "R2 Score: 0.9966411983607094\n",
      "RMSE Score: 17.772359145237175\n"
     ]
    }
   ],
   "source": [
    "print(\"MSE Score:\", mse)\n",
    "print(\"MAE Score:\", mae)\n",
    "print(\"R2 Score:\", r2)\n",
    "print(\"RMSE Score:\", rmse)"
   ]
  },
  {
   "cell_type": "code",
   "execution_count": 40,
   "id": "c1977156",
   "metadata": {
    "execution": {
     "iopub.execute_input": "2025-08-08T19:18:37.389689Z",
     "iopub.status.busy": "2025-08-08T19:18:37.389371Z",
     "iopub.status.idle": "2025-08-08T19:18:37.401874Z",
     "shell.execute_reply": "2025-08-08T19:18:37.400841Z"
    },
    "id": "0104e93d",
    "papermill": {
     "duration": 0.252216,
     "end_time": "2025-08-08T19:18:37.403450",
     "exception": false,
     "start_time": "2025-08-08T19:18:37.151234",
     "status": "completed"
    },
    "tags": []
   },
   "outputs": [
    {
     "name": "stdout",
     "output_type": "stream",
     "text": [
      "✨ New regression model added:\n",
      "   MSE: 315.856750, R²: 0.996641\n",
      "   Features: 27\n",
      "💾 Registry updated: Model_Training_History/History_Regression.csv\n"
     ]
    }
   ],
   "source": [
    "regression_params = {\n",
    "    'model_name': model_name_for_saving,\n",
    "    'scaler_name': \"StandardScaler\",\n",
    "    'features_list': feature_columns_for_saving,\n",
    "    'target_column': target_name_for_saving,\n",
    "    'mse': mse,\n",
    "    'mae': mae,\n",
    "    'rmse': rmse,\n",
    "    'r2': r2,\n",
    "    'parameters': json.dumps(training_model.get_params())\n",
    "}\n",
    "save_model_performance_if_better('regression', regression_params)"
   ]
  },
  {
   "cell_type": "markdown",
   "id": "11065d6a",
   "metadata": {
    "id": "58b972cc",
    "papermill": {
     "duration": 0.162718,
     "end_time": "2025-08-08T19:18:37.731706",
     "exception": false,
     "start_time": "2025-08-08T19:18:37.568988",
     "status": "completed"
    },
    "tags": []
   },
   "source": [
    "### Tuning with Grid Search"
   ]
  },
  {
   "cell_type": "code",
   "execution_count": 41,
   "id": "9d4a0ca3",
   "metadata": {
    "execution": {
     "iopub.execute_input": "2025-08-08T19:18:38.062659Z",
     "iopub.status.busy": "2025-08-08T19:18:38.062330Z",
     "iopub.status.idle": "2025-08-08T19:18:38.066933Z",
     "shell.execute_reply": "2025-08-08T19:18:38.065953Z"
    },
    "id": "d0a71953",
    "papermill": {
     "duration": 0.173664,
     "end_time": "2025-08-08T19:18:38.068466",
     "exception": false,
     "start_time": "2025-08-08T19:18:37.894802",
     "status": "completed"
    },
    "tags": []
   },
   "outputs": [],
   "source": [
    "grid_search = GridSearchCV(\n",
    "    LassoR(random_state=42),\n",
    "    grid_param,\n",
    "    cv=5,\n",
    "    scoring='neg_mean_squared_error',\n",
    "    n_jobs=-1, # allow parallel processing, you cant use your own laptop while this runs\n",
    "    verbose=1\n",
    ")"
   ]
  },
  {
   "cell_type": "code",
   "execution_count": null,
   "id": "4b45c291",
   "metadata": {
    "execution": {
     "iopub.execute_input": "2025-08-08T19:18:38.393540Z",
     "iopub.status.busy": "2025-08-08T19:18:38.393213Z",
     "iopub.status.idle": "2025-08-08T20:17:17.391539Z",
     "shell.execute_reply": "2025-08-08T20:17:17.388130Z"
    },
    "id": "7b10f7cf",
    "papermill": {
     "duration": 3519.59396,
     "end_time": "2025-08-08T20:17:17.824714",
     "exception": false,
     "start_time": "2025-08-08T19:18:38.230754",
     "status": "completed"
    },
    "tags": []
   },
   "outputs": [],
   "source": [
    "%%time\n",
    "print(\"Starting hyperparameter tuning...\")\n",
    "grid_search.fit(X_train, y_train)"
   ]
  },
  {
   "cell_type": "code",
   "execution_count": 43,
   "id": "3e6fa8bb",
   "metadata": {
    "execution": {
     "iopub.execute_input": "2025-08-08T20:17:18.570661Z",
     "iopub.status.busy": "2025-08-08T20:17:18.570338Z",
     "iopub.status.idle": "2025-08-08T20:17:18.576646Z",
     "shell.execute_reply": "2025-08-08T20:17:18.575612Z"
    },
    "id": "e0b736a2",
    "papermill": {
     "duration": 0.381919,
     "end_time": "2025-08-08T20:17:18.578581",
     "exception": false,
     "start_time": "2025-08-08T20:17:18.196662",
     "status": "completed"
    },
    "tags": []
   },
   "outputs": [
    {
     "name": "stdout",
     "output_type": "stream",
     "text": [
      "TUNING RESULTS\n",
      "==================================================\n",
      "Best Parameters: {'alpha': 0.01, 'fit_intercept': True, 'max_iter': 2000, 'positive': True, 'precompute': False, 'selection': 'cyclic', 'tol': 1e-06, 'warm_start': False}\n",
      "Best Cross-Validation Score (Negative MSE): -304.3375197275289\n",
      "Best Cross-Validation Score (MSE): 304.3375197275289\n",
      "Best Cross-Validation Score (RMSE): 17.445272131082646\n"
     ]
    }
   ],
   "source": [
    "print(\"TUNING RESULTS\")\n",
    "print(\"=\"*50)\n",
    "print(\"Best Parameters:\", grid_search.best_params_)\n",
    "print(\"Best Cross-Validation Score (Negative MSE):\", grid_search.best_score_)\n",
    "print(\"Best Cross-Validation Score (MSE):\", -grid_search.best_score_)\n",
    "print(\"Best Cross-Validation Score (RMSE):\", math.sqrt(-grid_search.best_score_))"
   ]
  },
  {
   "cell_type": "code",
   "execution_count": 44,
   "id": "2f98ccf4",
   "metadata": {
    "execution": {
     "iopub.execute_input": "2025-08-08T20:17:19.331393Z",
     "iopub.status.busy": "2025-08-08T20:17:19.330770Z",
     "iopub.status.idle": "2025-08-08T20:17:19.335750Z",
     "shell.execute_reply": "2025-08-08T20:17:19.334801Z"
    },
    "id": "6dc51d95",
    "papermill": {
     "duration": 0.380221,
     "end_time": "2025-08-08T20:17:19.337260",
     "exception": false,
     "start_time": "2025-08-08T20:17:18.957039",
     "status": "completed"
    },
    "tags": []
   },
   "outputs": [],
   "source": [
    "grid_search_best_model = grid_search.best_estimator_\n",
    "y_pred = grid_search_best_model.predict(X_test)"
   ]
  },
  {
   "cell_type": "code",
   "execution_count": 45,
   "id": "de58ec8c",
   "metadata": {
    "execution": {
     "iopub.execute_input": "2025-08-08T20:17:20.170763Z",
     "iopub.status.busy": "2025-08-08T20:17:20.170452Z",
     "iopub.status.idle": "2025-08-08T20:17:20.177700Z",
     "shell.execute_reply": "2025-08-08T20:17:20.176931Z"
    },
    "id": "ef38631b",
    "papermill": {
     "duration": 0.379882,
     "end_time": "2025-08-08T20:17:20.179345",
     "exception": false,
     "start_time": "2025-08-08T20:17:19.799463",
     "status": "completed"
    },
    "tags": []
   },
   "outputs": [],
   "source": [
    "mse_grid_search = mean_squared_error(y_test, y_pred)\n",
    "mae_grid_search = mean_absolute_error(y_test, y_pred)\n",
    "r2_grid_search = r2_score(y_test, y_pred)\n",
    "rmse_grid_search = math.sqrt(mse_grid_search)"
   ]
  },
  {
   "cell_type": "code",
   "execution_count": 46,
   "id": "4d387838",
   "metadata": {
    "execution": {
     "iopub.execute_input": "2025-08-08T20:17:20.943530Z",
     "iopub.status.busy": "2025-08-08T20:17:20.943202Z",
     "iopub.status.idle": "2025-08-08T20:17:20.948839Z",
     "shell.execute_reply": "2025-08-08T20:17:20.947994Z"
    },
    "id": "f104e435",
    "papermill": {
     "duration": 0.391287,
     "end_time": "2025-08-08T20:17:20.950460",
     "exception": false,
     "start_time": "2025-08-08T20:17:20.559173",
     "status": "completed"
    },
    "tags": []
   },
   "outputs": [
    {
     "name": "stdout",
     "output_type": "stream",
     "text": [
      "MSE Score: 316.18644439548774\n",
      "MAE Score: 11.56498503926869\n",
      "R2 Score: 0.9966376924059889\n",
      "RMSE Score: 17.78163221966667\n"
     ]
    }
   ],
   "source": [
    "print(\"MSE Score:\", mse_grid_search)\n",
    "print(\"MAE Score:\", mae_grid_search)\n",
    "print(\"R2 Score:\", r2_grid_search)\n",
    "print(\"RMSE Score:\", rmse_grid_search)"
   ]
  },
  {
   "cell_type": "code",
   "execution_count": 47,
   "id": "d92a5637",
   "metadata": {
    "execution": {
     "iopub.execute_input": "2025-08-08T20:17:21.748311Z",
     "iopub.status.busy": "2025-08-08T20:17:21.747965Z",
     "iopub.status.idle": "2025-08-08T20:17:21.760637Z",
     "shell.execute_reply": "2025-08-08T20:17:21.759575Z"
    },
    "id": "9b96d2f0",
    "papermill": {
     "duration": 0.419333,
     "end_time": "2025-08-08T20:17:21.762309",
     "exception": false,
     "start_time": "2025-08-08T20:17:21.342976",
     "status": "completed"
    },
    "tags": []
   },
   "outputs": [
    {
     "name": "stdout",
     "output_type": "stream",
     "text": [
      "✨ New regression model added:\n",
      "   MSE: 316.186444, R²: 0.996638\n",
      "   Features: 27\n",
      "💾 Registry updated: Model_Training_History/History_Regression.csv\n"
     ]
    }
   ],
   "source": [
    "regression_params = {\n",
    "    'model_name': model_name_for_saving + \" Tuned\",\n",
    "    'scaler_name': \"StandardScaler\",\n",
    "    'features_list': feature_columns_for_saving,\n",
    "    'target_column': target_name_for_saving,\n",
    "    'mse': mse_grid_search,\n",
    "    'mae': mae_grid_search,\n",
    "    'rmse': rmse_grid_search,\n",
    "    'r2': r2_grid_search,\n",
    "    'parameters' : json.dumps({\n",
    "        \"best_params\": grid_search.best_params_,\n",
    "        \"cv_score\": grid_search.best_score_,\n",
    "        \"all_params\": grid_search_best_model.get_params()\n",
    "    })\n",
    "}\n",
    "save_model_performance_if_better('regression', regression_params)"
   ]
  },
  {
   "cell_type": "markdown",
   "id": "00e632e8",
   "metadata": {
    "id": "79b145fe",
    "papermill": {
     "duration": 0.369815,
     "end_time": "2025-08-08T20:17:22.509478",
     "exception": false,
     "start_time": "2025-08-08T20:17:22.139663",
     "status": "completed"
    },
    "tags": []
   },
   "source": [
    "## Robust Scaler"
   ]
  },
  {
   "cell_type": "code",
   "execution_count": 48,
   "id": "d2e83582",
   "metadata": {
    "execution": {
     "iopub.execute_input": "2025-08-08T20:17:23.347273Z",
     "iopub.status.busy": "2025-08-08T20:17:23.346969Z",
     "iopub.status.idle": "2025-08-08T20:17:23.376196Z",
     "shell.execute_reply": "2025-08-08T20:17:23.375324Z"
    },
    "id": "d83200e5",
    "papermill": {
     "duration": 0.407733,
     "end_time": "2025-08-08T20:17:23.377851",
     "exception": false,
     "start_time": "2025-08-08T20:17:22.970118",
     "status": "completed"
    },
    "tags": []
   },
   "outputs": [],
   "source": [
    "scaler = RobustScaler()\n",
    "X_train = scaler.fit_transform(X_train_raw)\n",
    "X_test = scaler.transform(X_test_raw)"
   ]
  },
  {
   "cell_type": "code",
   "execution_count": 49,
   "id": "f4a5081a",
   "metadata": {
    "execution": {
     "iopub.execute_input": "2025-08-08T20:17:24.159677Z",
     "iopub.status.busy": "2025-08-08T20:17:24.159371Z",
     "iopub.status.idle": "2025-08-08T20:17:24.165738Z",
     "shell.execute_reply": "2025-08-08T20:17:24.164774Z"
    },
    "id": "a6b95545",
    "papermill": {
     "duration": 0.393833,
     "end_time": "2025-08-08T20:17:24.167195",
     "exception": false,
     "start_time": "2025-08-08T20:17:23.773362",
     "status": "completed"
    },
    "tags": []
   },
   "outputs": [
    {
     "data": {
      "text/plain": [
       "array([[ 0.6       ,  0.66666667, -0.16666667, ..., -0.03738547,\n",
       "         1.44008264,  8.87596899],\n",
       "       [ 1.        , -0.46666667,  0.33333333, ..., -0.84268652,\n",
       "         0.62603306,  0.        ],\n",
       "       [-0.8       , -0.13333333, -1.        , ..., -0.84268652,\n",
       "         0.        ,  0.        ],\n",
       "       ...,\n",
       "       [ 0.4       ,  0.73333333, -0.16666667, ...,  0.5899051 ,\n",
       "         0.6322314 ,  0.75193798],\n",
       "       [-1.        , -0.2       ,  0.75      , ..., -0.84268652,\n",
       "         0.        ,  0.        ],\n",
       "       [ 0.6       , -0.46666667, -0.33333333, ...,  0.61755563,\n",
       "         0.59917355,  7.5       ]])"
      ]
     },
     "execution_count": 49,
     "metadata": {},
     "output_type": "execute_result"
    }
   ],
   "source": [
    "X_train"
   ]
  },
  {
   "cell_type": "code",
   "execution_count": 50,
   "id": "baa4b463",
   "metadata": {
    "execution": {
     "iopub.execute_input": "2025-08-08T20:17:24.920322Z",
     "iopub.status.busy": "2025-08-08T20:17:24.920017Z",
     "iopub.status.idle": "2025-08-08T20:17:24.926279Z",
     "shell.execute_reply": "2025-08-08T20:17:24.925379Z"
    },
    "id": "4124591a",
    "papermill": {
     "duration": 0.381064,
     "end_time": "2025-08-08T20:17:24.927704",
     "exception": false,
     "start_time": "2025-08-08T20:17:24.546640",
     "status": "completed"
    },
    "tags": []
   },
   "outputs": [
    {
     "data": {
      "text/plain": [
       "array([[ 4.00000000e-01, -8.66666667e-01,  8.33333333e-01, ...,\n",
       "         6.20009817e-01,  0.00000000e+00,  0.00000000e+00],\n",
       "       [ 0.00000000e+00, -4.66666667e-01,  2.50000000e-01, ...,\n",
       "         7.40592277e-01,  1.52892562e-01,  0.00000000e+00],\n",
       "       [ 4.00000000e-01, -9.33333333e-01, -5.83333333e-01, ...,\n",
       "         7.82804319e-01,  0.00000000e+00,  0.00000000e+00],\n",
       "       ...,\n",
       "       [-8.00000000e-01, -6.00000000e-01,  4.16666667e-01, ...,\n",
       "        -8.40559555e-01,  4.19421488e-01,  0.00000000e+00],\n",
       "       [-4.00000000e-01, -7.33333333e-01,  6.66666667e-01, ...,\n",
       "        -8.42686518e-01,  0.00000000e+00,  6.67829457e+00],\n",
       "       [ 0.00000000e+00,  4.66666667e-01,  8.33333333e-01, ...,\n",
       "         1.71793194e-03,  0.00000000e+00,  0.00000000e+00]])"
      ]
     },
     "execution_count": 50,
     "metadata": {},
     "output_type": "execute_result"
    }
   ],
   "source": [
    "X_test"
   ]
  },
  {
   "cell_type": "markdown",
   "id": "2707948f",
   "metadata": {
    "id": "2731d31d",
    "papermill": {
     "duration": 0.373114,
     "end_time": "2025-08-08T20:17:25.676281",
     "exception": false,
     "start_time": "2025-08-08T20:17:25.303167",
     "status": "completed"
    },
    "tags": []
   },
   "source": [
    "### Default Parameters"
   ]
  },
  {
   "cell_type": "code",
   "execution_count": 51,
   "id": "847bdae7",
   "metadata": {
    "execution": {
     "iopub.execute_input": "2025-08-08T20:17:26.503698Z",
     "iopub.status.busy": "2025-08-08T20:17:26.503397Z",
     "iopub.status.idle": "2025-08-08T20:17:26.510113Z",
     "shell.execute_reply": "2025-08-08T20:17:26.509157Z"
    },
    "id": "64e78755",
    "papermill": {
     "duration": 0.379465,
     "end_time": "2025-08-08T20:17:26.511556",
     "exception": false,
     "start_time": "2025-08-08T20:17:26.132091",
     "status": "completed"
    },
    "tags": []
   },
   "outputs": [
    {
     "data": {
      "text/html": [
       "<style>#sk-container-id-7 {color: black;background-color: white;}#sk-container-id-7 pre{padding: 0;}#sk-container-id-7 div.sk-toggleable {background-color: white;}#sk-container-id-7 label.sk-toggleable__label {cursor: pointer;display: block;width: 100%;margin-bottom: 0;padding: 0.3em;box-sizing: border-box;text-align: center;}#sk-container-id-7 label.sk-toggleable__label-arrow:before {content: \"▸\";float: left;margin-right: 0.25em;color: #696969;}#sk-container-id-7 label.sk-toggleable__label-arrow:hover:before {color: black;}#sk-container-id-7 div.sk-estimator:hover label.sk-toggleable__label-arrow:before {color: black;}#sk-container-id-7 div.sk-toggleable__content {max-height: 0;max-width: 0;overflow: hidden;text-align: left;background-color: #f0f8ff;}#sk-container-id-7 div.sk-toggleable__content pre {margin: 0.2em;color: black;border-radius: 0.25em;background-color: #f0f8ff;}#sk-container-id-7 input.sk-toggleable__control:checked~div.sk-toggleable__content {max-height: 200px;max-width: 100%;overflow: auto;}#sk-container-id-7 input.sk-toggleable__control:checked~label.sk-toggleable__label-arrow:before {content: \"▾\";}#sk-container-id-7 div.sk-estimator input.sk-toggleable__control:checked~label.sk-toggleable__label {background-color: #d4ebff;}#sk-container-id-7 div.sk-label input.sk-toggleable__control:checked~label.sk-toggleable__label {background-color: #d4ebff;}#sk-container-id-7 input.sk-hidden--visually {border: 0;clip: rect(1px 1px 1px 1px);clip: rect(1px, 1px, 1px, 1px);height: 1px;margin: -1px;overflow: hidden;padding: 0;position: absolute;width: 1px;}#sk-container-id-7 div.sk-estimator {font-family: monospace;background-color: #f0f8ff;border: 1px dotted black;border-radius: 0.25em;box-sizing: border-box;margin-bottom: 0.5em;}#sk-container-id-7 div.sk-estimator:hover {background-color: #d4ebff;}#sk-container-id-7 div.sk-parallel-item::after {content: \"\";width: 100%;border-bottom: 1px solid gray;flex-grow: 1;}#sk-container-id-7 div.sk-label:hover label.sk-toggleable__label {background-color: #d4ebff;}#sk-container-id-7 div.sk-serial::before {content: \"\";position: absolute;border-left: 1px solid gray;box-sizing: border-box;top: 0;bottom: 0;left: 50%;z-index: 0;}#sk-container-id-7 div.sk-serial {display: flex;flex-direction: column;align-items: center;background-color: white;padding-right: 0.2em;padding-left: 0.2em;position: relative;}#sk-container-id-7 div.sk-item {position: relative;z-index: 1;}#sk-container-id-7 div.sk-parallel {display: flex;align-items: stretch;justify-content: center;background-color: white;position: relative;}#sk-container-id-7 div.sk-item::before, #sk-container-id-7 div.sk-parallel-item::before {content: \"\";position: absolute;border-left: 1px solid gray;box-sizing: border-box;top: 0;bottom: 0;left: 50%;z-index: -1;}#sk-container-id-7 div.sk-parallel-item {display: flex;flex-direction: column;z-index: 1;position: relative;background-color: white;}#sk-container-id-7 div.sk-parallel-item:first-child::after {align-self: flex-end;width: 50%;}#sk-container-id-7 div.sk-parallel-item:last-child::after {align-self: flex-start;width: 50%;}#sk-container-id-7 div.sk-parallel-item:only-child::after {width: 0;}#sk-container-id-7 div.sk-dashed-wrapped {border: 1px dashed gray;margin: 0 0.4em 0.5em 0.4em;box-sizing: border-box;padding-bottom: 0.4em;background-color: white;}#sk-container-id-7 div.sk-label label {font-family: monospace;font-weight: bold;display: inline-block;line-height: 1.2em;}#sk-container-id-7 div.sk-label-container {text-align: center;}#sk-container-id-7 div.sk-container {/* jupyter's `normalize.less` sets `[hidden] { display: none; }` but bootstrap.min.css set `[hidden] { display: none !important; }` so we also need the `!important` here to be able to override the default hidden behavior on the sphinx rendered scikit-learn.org. See: https://github.com/scikit-learn/scikit-learn/issues/21755 */display: inline-block !important;position: relative;}#sk-container-id-7 div.sk-text-repr-fallback {display: none;}</style><div id=\"sk-container-id-7\" class=\"sk-top-container\"><div class=\"sk-text-repr-fallback\"><pre>Lasso(alpha=0.001, max_iter=10000, random_state=42)</pre><b>In a Jupyter environment, please rerun this cell to show the HTML representation or trust the notebook. <br />On GitHub, the HTML representation is unable to render, please try loading this page with nbviewer.org.</b></div><div class=\"sk-container\" hidden><div class=\"sk-item\"><div class=\"sk-estimator sk-toggleable\"><input class=\"sk-toggleable__control sk-hidden--visually\" id=\"sk-estimator-id-11\" type=\"checkbox\" checked><label for=\"sk-estimator-id-11\" class=\"sk-toggleable__label sk-toggleable__label-arrow\">Lasso</label><div class=\"sk-toggleable__content\"><pre>Lasso(alpha=0.001, max_iter=10000, random_state=42)</pre></div></div></div></div></div>"
      ],
      "text/plain": [
       "Lasso(alpha=0.001, max_iter=10000, random_state=42)"
      ]
     },
     "execution_count": 51,
     "metadata": {},
     "output_type": "execute_result"
    }
   ],
   "source": [
    "training_model = LassoR(alpha=0.001, random_state=42, max_iter=10000)\n",
    "training_model"
   ]
  },
  {
   "cell_type": "code",
   "execution_count": 52,
   "id": "e3c58c50",
   "metadata": {
    "execution": {
     "iopub.execute_input": "2025-08-08T20:17:27.315977Z",
     "iopub.status.busy": "2025-08-08T20:17:27.315537Z",
     "iopub.status.idle": "2025-08-08T20:17:29.621715Z",
     "shell.execute_reply": "2025-08-08T20:17:29.620761Z"
    },
    "id": "d558380e",
    "papermill": {
     "duration": 2.722334,
     "end_time": "2025-08-08T20:17:29.623793",
     "exception": false,
     "start_time": "2025-08-08T20:17:26.901459",
     "status": "completed"
    },
    "tags": []
   },
   "outputs": [
    {
     "name": "stdout",
     "output_type": "stream",
     "text": [
      "CPU times: user 6.88 s, sys: 0 ns, total: 6.88 s\n",
      "Wall time: 2.3 s\n"
     ]
    },
    {
     "data": {
      "text/html": [
       "<style>#sk-container-id-8 {color: black;background-color: white;}#sk-container-id-8 pre{padding: 0;}#sk-container-id-8 div.sk-toggleable {background-color: white;}#sk-container-id-8 label.sk-toggleable__label {cursor: pointer;display: block;width: 100%;margin-bottom: 0;padding: 0.3em;box-sizing: border-box;text-align: center;}#sk-container-id-8 label.sk-toggleable__label-arrow:before {content: \"▸\";float: left;margin-right: 0.25em;color: #696969;}#sk-container-id-8 label.sk-toggleable__label-arrow:hover:before {color: black;}#sk-container-id-8 div.sk-estimator:hover label.sk-toggleable__label-arrow:before {color: black;}#sk-container-id-8 div.sk-toggleable__content {max-height: 0;max-width: 0;overflow: hidden;text-align: left;background-color: #f0f8ff;}#sk-container-id-8 div.sk-toggleable__content pre {margin: 0.2em;color: black;border-radius: 0.25em;background-color: #f0f8ff;}#sk-container-id-8 input.sk-toggleable__control:checked~div.sk-toggleable__content {max-height: 200px;max-width: 100%;overflow: auto;}#sk-container-id-8 input.sk-toggleable__control:checked~label.sk-toggleable__label-arrow:before {content: \"▾\";}#sk-container-id-8 div.sk-estimator input.sk-toggleable__control:checked~label.sk-toggleable__label {background-color: #d4ebff;}#sk-container-id-8 div.sk-label input.sk-toggleable__control:checked~label.sk-toggleable__label {background-color: #d4ebff;}#sk-container-id-8 input.sk-hidden--visually {border: 0;clip: rect(1px 1px 1px 1px);clip: rect(1px, 1px, 1px, 1px);height: 1px;margin: -1px;overflow: hidden;padding: 0;position: absolute;width: 1px;}#sk-container-id-8 div.sk-estimator {font-family: monospace;background-color: #f0f8ff;border: 1px dotted black;border-radius: 0.25em;box-sizing: border-box;margin-bottom: 0.5em;}#sk-container-id-8 div.sk-estimator:hover {background-color: #d4ebff;}#sk-container-id-8 div.sk-parallel-item::after {content: \"\";width: 100%;border-bottom: 1px solid gray;flex-grow: 1;}#sk-container-id-8 div.sk-label:hover label.sk-toggleable__label {background-color: #d4ebff;}#sk-container-id-8 div.sk-serial::before {content: \"\";position: absolute;border-left: 1px solid gray;box-sizing: border-box;top: 0;bottom: 0;left: 50%;z-index: 0;}#sk-container-id-8 div.sk-serial {display: flex;flex-direction: column;align-items: center;background-color: white;padding-right: 0.2em;padding-left: 0.2em;position: relative;}#sk-container-id-8 div.sk-item {position: relative;z-index: 1;}#sk-container-id-8 div.sk-parallel {display: flex;align-items: stretch;justify-content: center;background-color: white;position: relative;}#sk-container-id-8 div.sk-item::before, #sk-container-id-8 div.sk-parallel-item::before {content: \"\";position: absolute;border-left: 1px solid gray;box-sizing: border-box;top: 0;bottom: 0;left: 50%;z-index: -1;}#sk-container-id-8 div.sk-parallel-item {display: flex;flex-direction: column;z-index: 1;position: relative;background-color: white;}#sk-container-id-8 div.sk-parallel-item:first-child::after {align-self: flex-end;width: 50%;}#sk-container-id-8 div.sk-parallel-item:last-child::after {align-self: flex-start;width: 50%;}#sk-container-id-8 div.sk-parallel-item:only-child::after {width: 0;}#sk-container-id-8 div.sk-dashed-wrapped {border: 1px dashed gray;margin: 0 0.4em 0.5em 0.4em;box-sizing: border-box;padding-bottom: 0.4em;background-color: white;}#sk-container-id-8 div.sk-label label {font-family: monospace;font-weight: bold;display: inline-block;line-height: 1.2em;}#sk-container-id-8 div.sk-label-container {text-align: center;}#sk-container-id-8 div.sk-container {/* jupyter's `normalize.less` sets `[hidden] { display: none; }` but bootstrap.min.css set `[hidden] { display: none !important; }` so we also need the `!important` here to be able to override the default hidden behavior on the sphinx rendered scikit-learn.org. See: https://github.com/scikit-learn/scikit-learn/issues/21755 */display: inline-block !important;position: relative;}#sk-container-id-8 div.sk-text-repr-fallback {display: none;}</style><div id=\"sk-container-id-8\" class=\"sk-top-container\"><div class=\"sk-text-repr-fallback\"><pre>Lasso(alpha=0.001, max_iter=10000, random_state=42)</pre><b>In a Jupyter environment, please rerun this cell to show the HTML representation or trust the notebook. <br />On GitHub, the HTML representation is unable to render, please try loading this page with nbviewer.org.</b></div><div class=\"sk-container\" hidden><div class=\"sk-item\"><div class=\"sk-estimator sk-toggleable\"><input class=\"sk-toggleable__control sk-hidden--visually\" id=\"sk-estimator-id-12\" type=\"checkbox\" checked><label for=\"sk-estimator-id-12\" class=\"sk-toggleable__label sk-toggleable__label-arrow\">Lasso</label><div class=\"sk-toggleable__content\"><pre>Lasso(alpha=0.001, max_iter=10000, random_state=42)</pre></div></div></div></div></div>"
      ],
      "text/plain": [
       "Lasso(alpha=0.001, max_iter=10000, random_state=42)"
      ]
     },
     "execution_count": 52,
     "metadata": {},
     "output_type": "execute_result"
    }
   ],
   "source": [
    "%%time\n",
    "training_model.fit(X_train, y_train)"
   ]
  },
  {
   "cell_type": "code",
   "execution_count": 53,
   "id": "78bec2f6",
   "metadata": {
    "execution": {
     "iopub.execute_input": "2025-08-08T20:17:30.510677Z",
     "iopub.status.busy": "2025-08-08T20:17:30.510355Z",
     "iopub.status.idle": "2025-08-08T20:17:30.516751Z",
     "shell.execute_reply": "2025-08-08T20:17:30.515946Z"
    },
    "id": "b78cf546",
    "papermill": {
     "duration": 0.377596,
     "end_time": "2025-08-08T20:17:30.518205",
     "exception": false,
     "start_time": "2025-08-08T20:17:30.140609",
     "status": "completed"
    },
    "tags": []
   },
   "outputs": [
    {
     "data": {
      "text/plain": [
       "array([ -1.10711295,  75.27539968,  -1.56370331, ..., 207.93765193,\n",
       "         1.28135161,  -0.51014105])"
      ]
     },
     "execution_count": 53,
     "metadata": {},
     "output_type": "execute_result"
    }
   ],
   "source": [
    "y_pred = training_model.predict(X_test)\n",
    "y_pred"
   ]
  },
  {
   "cell_type": "code",
   "execution_count": 54,
   "id": "6dd890d4",
   "metadata": {
    "execution": {
     "iopub.execute_input": "2025-08-08T20:17:31.273814Z",
     "iopub.status.busy": "2025-08-08T20:17:31.273523Z",
     "iopub.status.idle": "2025-08-08T20:17:31.281301Z",
     "shell.execute_reply": "2025-08-08T20:17:31.280304Z"
    },
    "id": "dd7fae27",
    "papermill": {
     "duration": 0.379152,
     "end_time": "2025-08-08T20:17:31.282780",
     "exception": false,
     "start_time": "2025-08-08T20:17:30.903628",
     "status": "completed"
    },
    "tags": []
   },
   "outputs": [
    {
     "data": {
      "text/plain": [
       "5158       0.00\n",
       "3831     105.26\n",
       "5117       0.00\n",
       "6326     758.39\n",
       "11359    135.87\n",
       "          ...  \n",
       "10290     74.58\n",
       "13995      0.00\n",
       "9665     241.81\n",
       "2276       0.00\n",
       "4174       0.00\n",
       "Name: SolarRadiation, Length: 2924, dtype: float64"
      ]
     },
     "execution_count": 54,
     "metadata": {},
     "output_type": "execute_result"
    }
   ],
   "source": [
    "y_test"
   ]
  },
  {
   "cell_type": "code",
   "execution_count": 55,
   "id": "c5f153d3",
   "metadata": {
    "execution": {
     "iopub.execute_input": "2025-08-08T20:17:32.173812Z",
     "iopub.status.busy": "2025-08-08T20:17:32.173018Z",
     "iopub.status.idle": "2025-08-08T20:17:32.179979Z",
     "shell.execute_reply": "2025-08-08T20:17:32.179088Z"
    },
    "id": "d7b97fdd",
    "papermill": {
     "duration": 0.393756,
     "end_time": "2025-08-08T20:17:32.181500",
     "exception": false,
     "start_time": "2025-08-08T20:17:31.787744",
     "status": "completed"
    },
    "tags": []
   },
   "outputs": [],
   "source": [
    "mse = mean_squared_error(y_test, y_pred)\n",
    "mae = mean_absolute_error(y_test, y_pred)\n",
    "r2 = r2_score(y_test, y_pred)\n",
    "rmse = math.sqrt(mse)"
   ]
  },
  {
   "cell_type": "code",
   "execution_count": 56,
   "id": "9ab039a3",
   "metadata": {
    "execution": {
     "iopub.execute_input": "2025-08-08T20:17:32.969962Z",
     "iopub.status.busy": "2025-08-08T20:17:32.969614Z",
     "iopub.status.idle": "2025-08-08T20:17:32.974910Z",
     "shell.execute_reply": "2025-08-08T20:17:32.973875Z"
    },
    "id": "d4bce2c8",
    "papermill": {
     "duration": 0.389839,
     "end_time": "2025-08-08T20:17:32.976300",
     "exception": false,
     "start_time": "2025-08-08T20:17:32.586461",
     "status": "completed"
    },
    "tags": []
   },
   "outputs": [
    {
     "name": "stdout",
     "output_type": "stream",
     "text": [
      "MSE Score: 315.8409347347742\n",
      "MAE Score: 11.555727107825986\n",
      "R2 Score: 0.996641366534898\n",
      "RMSE Score: 17.771914211327214\n"
     ]
    }
   ],
   "source": [
    "print(\"MSE Score:\", mse)\n",
    "print(\"MAE Score:\", mae)\n",
    "print(\"R2 Score:\", r2)\n",
    "print(\"RMSE Score:\", rmse)"
   ]
  },
  {
   "cell_type": "code",
   "execution_count": 57,
   "id": "2e9c845c",
   "metadata": {
    "execution": {
     "iopub.execute_input": "2025-08-08T20:17:33.758379Z",
     "iopub.status.busy": "2025-08-08T20:17:33.758042Z",
     "iopub.status.idle": "2025-08-08T20:17:33.772300Z",
     "shell.execute_reply": "2025-08-08T20:17:33.771236Z"
    },
    "id": "dce039f8",
    "papermill": {
     "duration": 0.38946,
     "end_time": "2025-08-08T20:17:33.773747",
     "exception": false,
     "start_time": "2025-08-08T20:17:33.384287",
     "status": "completed"
    },
    "tags": []
   },
   "outputs": [
    {
     "name": "stdout",
     "output_type": "stream",
     "text": [
      "✨ New regression model added:\n",
      "   MSE: 315.840935, R²: 0.996641\n",
      "   Features: 27\n",
      "💾 Registry updated: Model_Training_History/History_Regression.csv\n"
     ]
    }
   ],
   "source": [
    "regression_params = {\n",
    "    'model_name': model_name_for_saving,\n",
    "    'scaler_name': \"RobustScaler\",\n",
    "    'features_list': feature_columns_for_saving,\n",
    "    'target_column': target_name_for_saving,\n",
    "    'mse': mse,\n",
    "    'mae': mae,\n",
    "    'rmse': rmse,\n",
    "    'r2': r2,\n",
    "    'parameters': json.dumps(training_model.get_params())\n",
    "}\n",
    "save_model_performance_if_better('regression', regression_params)"
   ]
  },
  {
   "cell_type": "markdown",
   "id": "496f0cba",
   "metadata": {
    "id": "2d95ae4a",
    "papermill": {
     "duration": 0.371777,
     "end_time": "2025-08-08T20:17:34.601968",
     "exception": false,
     "start_time": "2025-08-08T20:17:34.230191",
     "status": "completed"
    },
    "tags": []
   },
   "source": [
    "### Tuning with Grid Search"
   ]
  },
  {
   "cell_type": "code",
   "execution_count": 58,
   "id": "165a6560",
   "metadata": {
    "execution": {
     "iopub.execute_input": "2025-08-08T20:17:35.357535Z",
     "iopub.status.busy": "2025-08-08T20:17:35.357239Z",
     "iopub.status.idle": "2025-08-08T20:17:35.362670Z",
     "shell.execute_reply": "2025-08-08T20:17:35.361562Z"
    },
    "id": "fbcc4bdf",
    "papermill": {
     "duration": 0.386755,
     "end_time": "2025-08-08T20:17:35.364433",
     "exception": false,
     "start_time": "2025-08-08T20:17:34.977678",
     "status": "completed"
    },
    "tags": []
   },
   "outputs": [],
   "source": [
    "grid_search = GridSearchCV(\n",
    "    LassoR(random_state=42),\n",
    "    grid_param,\n",
    "    cv=5,\n",
    "    scoring='neg_mean_squared_error',\n",
    "    n_jobs=-1, # allow parallel processing, you cant use your own laptop while this runs\n",
    "    verbose=1\n",
    ")"
   ]
  },
  {
   "cell_type": "code",
   "execution_count": null,
   "id": "9e85a6db",
   "metadata": {
    "execution": {
     "iopub.execute_input": "2025-08-08T20:17:36.223463Z",
     "iopub.status.busy": "2025-08-08T20:17:36.223155Z",
     "iopub.status.idle": "2025-08-08T20:59:06.252796Z",
     "shell.execute_reply": "2025-08-08T20:59:06.251946Z"
    },
    "id": "44226aec",
    "papermill": {
     "duration": 2491.102508,
     "end_time": "2025-08-08T20:59:06.858020",
     "exception": false,
     "start_time": "2025-08-08T20:17:35.755512",
     "status": "completed"
    },
    "tags": []
   },
   "outputs": [],
   "source": [
    "%%time\n",
    "print(\"Starting hyperparameter tuning...\")\n",
    "grid_search.fit(X_train, y_train)"
   ]
  },
  {
   "cell_type": "code",
   "execution_count": 60,
   "id": "4f2cb9a4",
   "metadata": {
    "execution": {
     "iopub.execute_input": "2025-08-08T20:59:08.069698Z",
     "iopub.status.busy": "2025-08-08T20:59:08.068850Z",
     "iopub.status.idle": "2025-08-08T20:59:08.074838Z",
     "shell.execute_reply": "2025-08-08T20:59:08.073836Z"
    },
    "id": "ccc776a8",
    "papermill": {
     "duration": 0.529572,
     "end_time": "2025-08-08T20:59:08.076354",
     "exception": false,
     "start_time": "2025-08-08T20:59:07.546782",
     "status": "completed"
    },
    "tags": []
   },
   "outputs": [
    {
     "name": "stdout",
     "output_type": "stream",
     "text": [
      "TUNING RESULTS\n",
      "==================================================\n",
      "Best Parameters: {'alpha': 0.005, 'fit_intercept': True, 'max_iter': 2000, 'positive': True, 'precompute': False, 'selection': 'cyclic', 'tol': 1e-06, 'warm_start': False}\n",
      "Best Cross-Validation Score (Negative MSE): -304.3434514120936\n",
      "Best Cross-Validation Score (MSE): 304.3434514120936\n",
      "Best Cross-Validation Score (RMSE): 17.44544213862445\n"
     ]
    }
   ],
   "source": [
    "print(\"TUNING RESULTS\")\n",
    "print(\"=\"*50)\n",
    "print(\"Best Parameters:\", grid_search.best_params_)\n",
    "print(\"Best Cross-Validation Score (Negative MSE):\", grid_search.best_score_)\n",
    "print(\"Best Cross-Validation Score (MSE):\", -grid_search.best_score_)\n",
    "print(\"Best Cross-Validation Score (RMSE):\", math.sqrt(-grid_search.best_score_))"
   ]
  },
  {
   "cell_type": "code",
   "execution_count": 61,
   "id": "7cd02bff",
   "metadata": {
    "execution": {
     "iopub.execute_input": "2025-08-08T20:59:09.106713Z",
     "iopub.status.busy": "2025-08-08T20:59:09.106404Z",
     "iopub.status.idle": "2025-08-08T20:59:09.111529Z",
     "shell.execute_reply": "2025-08-08T20:59:09.110677Z"
    },
    "id": "4466a044",
    "papermill": {
     "duration": 0.5221,
     "end_time": "2025-08-08T20:59:09.112959",
     "exception": false,
     "start_time": "2025-08-08T20:59:08.590859",
     "status": "completed"
    },
    "tags": []
   },
   "outputs": [],
   "source": [
    "grid_search_best_model = grid_search.best_estimator_\n",
    "y_pred = grid_search_best_model.predict(X_test)"
   ]
  },
  {
   "cell_type": "code",
   "execution_count": 62,
   "id": "45e500f9",
   "metadata": {
    "execution": {
     "iopub.execute_input": "2025-08-08T20:59:10.246569Z",
     "iopub.status.busy": "2025-08-08T20:59:10.246284Z",
     "iopub.status.idle": "2025-08-08T20:59:10.252698Z",
     "shell.execute_reply": "2025-08-08T20:59:10.251954Z"
    },
    "id": "5b771434",
    "papermill": {
     "duration": 0.624928,
     "end_time": "2025-08-08T20:59:10.254282",
     "exception": false,
     "start_time": "2025-08-08T20:59:09.629354",
     "status": "completed"
    },
    "tags": []
   },
   "outputs": [],
   "source": [
    "mse_grid_search = mean_squared_error(y_test, y_pred)\n",
    "mae_grid_search = mean_absolute_error(y_test, y_pred)\n",
    "r2_grid_search = r2_score(y_test, y_pred)\n",
    "rmse_grid_search = math.sqrt(mse_grid_search)"
   ]
  },
  {
   "cell_type": "code",
   "execution_count": 63,
   "id": "3003501a",
   "metadata": {
    "execution": {
     "iopub.execute_input": "2025-08-08T20:59:11.303018Z",
     "iopub.status.busy": "2025-08-08T20:59:11.302683Z",
     "iopub.status.idle": "2025-08-08T20:59:11.307877Z",
     "shell.execute_reply": "2025-08-08T20:59:11.306838Z"
    },
    "id": "bb39421a",
    "papermill": {
     "duration": 0.530426,
     "end_time": "2025-08-08T20:59:11.309408",
     "exception": false,
     "start_time": "2025-08-08T20:59:10.778982",
     "status": "completed"
    },
    "tags": []
   },
   "outputs": [
    {
     "name": "stdout",
     "output_type": "stream",
     "text": [
      "MSE Score: 316.178873063706\n",
      "MAE Score: 11.566441073016078\n",
      "R2 Score: 0.9966377729190747\n",
      "RMSE Score: 17.78141932084461\n"
     ]
    }
   ],
   "source": [
    "print(\"MSE Score:\", mse_grid_search)\n",
    "print(\"MAE Score:\", mae_grid_search)\n",
    "print(\"R2 Score:\", r2_grid_search)\n",
    "print(\"RMSE Score:\", rmse_grid_search)"
   ]
  },
  {
   "cell_type": "code",
   "execution_count": 64,
   "id": "85c381b7",
   "metadata": {
    "execution": {
     "iopub.execute_input": "2025-08-08T20:59:12.468410Z",
     "iopub.status.busy": "2025-08-08T20:59:12.468108Z",
     "iopub.status.idle": "2025-08-08T20:59:12.482506Z",
     "shell.execute_reply": "2025-08-08T20:59:12.481548Z"
    },
    "id": "dbfc3542",
    "papermill": {
     "duration": 0.628742,
     "end_time": "2025-08-08T20:59:12.484055",
     "exception": false,
     "start_time": "2025-08-08T20:59:11.855313",
     "status": "completed"
    },
    "tags": []
   },
   "outputs": [
    {
     "name": "stdout",
     "output_type": "stream",
     "text": [
      "✨ New regression model added:\n",
      "   MSE: 316.178873, R²: 0.996638\n",
      "   Features: 27\n",
      "💾 Registry updated: Model_Training_History/History_Regression.csv\n"
     ]
    }
   ],
   "source": [
    "regression_params = {\n",
    "    'model_name': model_name_for_saving + \" Tuned\",\n",
    "    'scaler_name': \"RobustScaler\",\n",
    "    'features_list': feature_columns_for_saving,\n",
    "    'target_column': target_name_for_saving,\n",
    "    'mse': mse_grid_search,\n",
    "    'mae': mae_grid_search,\n",
    "    'rmse': rmse_grid_search,\n",
    "    'r2': r2_grid_search,\n",
    "    'parameters' : json.dumps({\n",
    "        \"best_params\": grid_search.best_params_,\n",
    "        \"cv_score\": grid_search.best_score_,\n",
    "        \"all_params\": grid_search_best_model.get_params()\n",
    "    })\n",
    "}\n",
    "save_model_performance_if_better('regression', regression_params)"
   ]
  },
  {
   "cell_type": "markdown",
   "id": "ed9ea69f",
   "metadata": {
    "id": "23d83412",
    "papermill": {
     "duration": 0.518128,
     "end_time": "2025-08-08T20:59:13.532789",
     "exception": false,
     "start_time": "2025-08-08T20:59:13.014661",
     "status": "completed"
    },
    "tags": []
   },
   "source": [
    "# Selected Features"
   ]
  },
  {
   "cell_type": "code",
   "execution_count": 65,
   "id": "0a902111",
   "metadata": {
    "execution": {
     "iopub.execute_input": "2025-08-08T20:59:14.577980Z",
     "iopub.status.busy": "2025-08-08T20:59:14.577627Z",
     "iopub.status.idle": "2025-08-08T20:59:14.633527Z",
     "shell.execute_reply": "2025-08-08T20:59:14.632578Z"
    },
    "id": "9ccc971f",
    "papermill": {
     "duration": 0.583123,
     "end_time": "2025-08-08T20:59:14.634937",
     "exception": false,
     "start_time": "2025-08-08T20:59:14.051814",
     "status": "completed"
    },
    "tags": []
   },
   "outputs": [
    {
     "name": "stdout",
     "output_type": "stream",
     "text": [
      "SolarRadiation               1.000000\n",
      "SolarEnergy                  0.999867\n",
      "UVIndex                      0.998315\n",
      "DaySegments_Midday           0.594891\n",
      "Temp                         0.400378\n",
      "FeelsLike                    0.344429\n",
      "DaySegments_Morning          0.244659\n",
      "WindSpeed                    0.216803\n",
      "DaySegments_Afternoon        0.215785\n",
      "WindDir                      0.180924\n",
      "SevereRisk                   0.125829\n",
      "Hour                         0.095598\n",
      "Season_Summer                0.093764\n",
      "Visibility                   0.054367\n",
      "SeaLevelPressure             0.026622\n",
      "Year                         0.021999\n",
      "Dew                          0.013910\n",
      "Day                         -0.001404\n",
      "PrecipProb                  -0.013477\n",
      "Season_Rainy                -0.033059\n",
      "Season_Winter               -0.035395\n",
      "Season_Autumn               -0.035413\n",
      "Precip                      -0.039079\n",
      "CloudCover                  -0.055418\n",
      "Month                       -0.061339\n",
      "Windgust                    -0.100270\n",
      "DaySegments_Early Morning   -0.188121\n",
      "DaySegments_Evening         -0.205857\n",
      "DaySegments_Night           -0.252539\n",
      "DaySegments_Late Night      -0.427502\n",
      "Humidity                    -0.452369\n",
      "Name: SolarRadiation, dtype: float64\n"
     ]
    }
   ],
   "source": [
    "numeric_cols = weather_data.select_dtypes(include=[float, int]).columns\n",
    "correlations = weather_data[numeric_cols].corr()['SolarRadiation'].sort_values(ascending=False)\n",
    "print(correlations)"
   ]
  },
  {
   "cell_type": "code",
   "execution_count": 66,
   "id": "14c5fce8",
   "metadata": {
    "execution": {
     "iopub.execute_input": "2025-08-08T20:59:15.759061Z",
     "iopub.status.busy": "2025-08-08T20:59:15.758521Z",
     "iopub.status.idle": "2025-08-08T20:59:15.773061Z",
     "shell.execute_reply": "2025-08-08T20:59:15.772084Z"
    },
    "id": "698bb0ee",
    "papermill": {
     "duration": 0.533393,
     "end_time": "2025-08-08T20:59:15.774458",
     "exception": false,
     "start_time": "2025-08-08T20:59:15.241065",
     "status": "completed"
    },
    "tags": []
   },
   "outputs": [
    {
     "name": "stdout",
     "output_type": "stream",
     "text": [
      "<class 'pandas.core.frame.DataFrame'>\n",
      "RangeIndex: 14616 entries, 0 to 14615\n",
      "Data columns (total 36 columns):\n",
      " #   Column                     Non-Null Count  Dtype         \n",
      "---  ------                     --------------  -----         \n",
      " 0   DateTime                   14616 non-null  datetime64[ns]\n",
      " 1   Year                       14616 non-null  int64         \n",
      " 2   Month                      14616 non-null  int64         \n",
      " 3   Day                        14616 non-null  int64         \n",
      " 4   Hour                       14616 non-null  int64         \n",
      " 5   DaySegments                14616 non-null  object        \n",
      " 6   DaySegments_Afternoon      14616 non-null  int64         \n",
      " 7   DaySegments_Early Morning  14616 non-null  int64         \n",
      " 8   DaySegments_Evening        14616 non-null  int64         \n",
      " 9   DaySegments_Late Night     14616 non-null  int64         \n",
      " 10  DaySegments_Midday         14616 non-null  int64         \n",
      " 11  DaySegments_Morning        14616 non-null  int64         \n",
      " 12  DaySegments_Night          14616 non-null  int64         \n",
      " 13  Season_Autumn              14616 non-null  int64         \n",
      " 14  Season_Rainy               14616 non-null  int64         \n",
      " 15  Season_Summer              14616 non-null  int64         \n",
      " 16  Season_Winter              14616 non-null  int64         \n",
      " 17  Season                     14616 non-null  object        \n",
      " 18  Temp                       14616 non-null  float64       \n",
      " 19  FeelsLike                  14616 non-null  float64       \n",
      " 20  Dew                        14616 non-null  float64       \n",
      " 21  Humidity                   14616 non-null  float64       \n",
      " 22  Precip                     14616 non-null  float64       \n",
      " 23  PrecipProb                 14616 non-null  float64       \n",
      " 24  Windgust                   14616 non-null  float64       \n",
      " 25  WindSpeed                  14616 non-null  float64       \n",
      " 26  WindDir                    14616 non-null  float64       \n",
      " 27  SeaLevelPressure           14616 non-null  float64       \n",
      " 28  CloudCover                 14616 non-null  float64       \n",
      " 29  UVIndex                    14616 non-null  float64       \n",
      " 30  SevereRisk                 14616 non-null  float64       \n",
      " 31  Visibility                 14616 non-null  float64       \n",
      " 32  SolarRadiation             14616 non-null  float64       \n",
      " 33  SolarEnergy                14616 non-null  float64       \n",
      " 34  Conditions                 14616 non-null  object        \n",
      " 35  Icon                       14616 non-null  object        \n",
      "dtypes: datetime64[ns](1), float64(16), int64(15), object(4)\n",
      "memory usage: 4.0+ MB\n"
     ]
    }
   ],
   "source": [
    "weather_data.info()"
   ]
  },
  {
   "cell_type": "markdown",
   "id": "2721051a",
   "metadata": {
    "id": "f01f44cd",
    "papermill": {
     "duration": 0.608044,
     "end_time": "2025-08-08T20:59:16.898129",
     "exception": false,
     "start_time": "2025-08-08T20:59:16.290085",
     "status": "completed"
    },
    "tags": []
   },
   "source": [
    "## Run Again"
   ]
  },
  {
   "cell_type": "code",
   "execution_count": 67,
   "id": "dc5e3063",
   "metadata": {
    "execution": {
     "iopub.execute_input": "2025-08-08T20:59:17.947288Z",
     "iopub.status.busy": "2025-08-08T20:59:17.946937Z",
     "iopub.status.idle": "2025-08-08T20:59:17.955010Z",
     "shell.execute_reply": "2025-08-08T20:59:17.953983Z"
    },
    "id": "06441f48",
    "papermill": {
     "duration": 0.532999,
     "end_time": "2025-08-08T20:59:17.956753",
     "exception": false,
     "start_time": "2025-08-08T20:59:17.423754",
     "status": "completed"
    },
    "tags": []
   },
   "outputs": [],
   "source": [
    "X_train_raw = weather_data_train.drop(columns=['DateTime', # Model cannot use DateTime as a feature\n",
    "                                                'Year', # No Effect on weather data\n",
    "                                                'Season', # Season is categorical, not numerical\n",
    "                                                'DaySegments', # DaySegments is categorical, not numerical\n",
    "                                                'Visibility',  # Target variable\n",
    "                                                'SolarRadiation', # Target variable\n",
    "                                                'SolarEnergy', # Target variable\n",
    "                                                'Conditions', # Target variable\n",
    "                                                'Icon', # Target variable\n",
    "                                                'Day', # same day from different month act differently\n",
    "                                                'WindDir', # very low correlation with Visibility\n",
    "                                                'Precip']) # very low correlation with Visibility\n",
    "y_train = weather_data_train['SolarRadiation']"
   ]
  },
  {
   "cell_type": "code",
   "execution_count": 68,
   "id": "93c67aa0",
   "metadata": {
    "execution": {
     "iopub.execute_input": "2025-08-08T20:59:18.992434Z",
     "iopub.status.busy": "2025-08-08T20:59:18.991921Z",
     "iopub.status.idle": "2025-08-08T20:59:18.999187Z",
     "shell.execute_reply": "2025-08-08T20:59:18.998225Z"
    },
    "id": "d0552258",
    "papermill": {
     "duration": 0.520032,
     "end_time": "2025-08-08T20:59:19.000882",
     "exception": false,
     "start_time": "2025-08-08T20:59:18.480850",
     "status": "completed"
    },
    "tags": []
   },
   "outputs": [],
   "source": [
    "X_test_raw = weather_data_test.drop(columns=['DateTime', # Model cannot use DateTime as a feature\n",
    "                                                'Year', # No Effect on weather data\n",
    "                                                'Season', # Season is categorical, not numerical\n",
    "                                                'DaySegments', # DaySegments is categorical, not numerical\n",
    "                                                'Visibility',  # Target variable\n",
    "                                                'SolarRadiation', # Target variable\n",
    "                                                'SolarEnergy', # Target variable\n",
    "                                                'Conditions', # Target variable\n",
    "                                                'Icon', # Target variable\n",
    "                                                'Day', # same day from different month act differently\n",
    "                                                'WindDir', # very low correlation with Visibility\n",
    "                                                'Precip']) # very low correlation with Visibility\n",
    "y_test = weather_data_test['SolarRadiation']"
   ]
  },
  {
   "cell_type": "code",
   "execution_count": 69,
   "id": "fde2357c",
   "metadata": {
    "execution": {
     "iopub.execute_input": "2025-08-08T20:59:20.126808Z",
     "iopub.status.busy": "2025-08-08T20:59:20.125741Z",
     "iopub.status.idle": "2025-08-08T20:59:20.130482Z",
     "shell.execute_reply": "2025-08-08T20:59:20.129639Z"
    },
    "id": "a82c848a",
    "papermill": {
     "duration": 0.609014,
     "end_time": "2025-08-08T20:59:20.131863",
     "exception": false,
     "start_time": "2025-08-08T20:59:19.522849",
     "status": "completed"
    },
    "tags": []
   },
   "outputs": [],
   "source": [
    "feature_columns = [col for col in X_train_raw.columns]\n",
    "feature_columns_for_saving = ','.join(feature_columns)"
   ]
  },
  {
   "cell_type": "code",
   "execution_count": 70,
   "id": "c9e0ee53",
   "metadata": {
    "execution": {
     "iopub.execute_input": "2025-08-08T20:59:21.149343Z",
     "iopub.status.busy": "2025-08-08T20:59:21.149036Z",
     "iopub.status.idle": "2025-08-08T20:59:21.154378Z",
     "shell.execute_reply": "2025-08-08T20:59:21.153551Z"
    },
    "id": "c528372e",
    "papermill": {
     "duration": 0.514011,
     "end_time": "2025-08-08T20:59:21.155696",
     "exception": false,
     "start_time": "2025-08-08T20:59:20.641685",
     "status": "completed"
    },
    "tags": []
   },
   "outputs": [
    {
     "name": "stdout",
     "output_type": "stream",
     "text": [
      "X_train:  11692\n",
      "y_train:  11692\n",
      "\n",
      "X_test:  2924\n",
      "y_test:  2924\n"
     ]
    }
   ],
   "source": [
    "print(\"X_train: \", len(X_train_raw))\n",
    "print(\"y_train: \", len(y_train))\n",
    "print(\"\\nX_test: \", len(X_test_raw))\n",
    "print(\"y_test: \", len(y_test))"
   ]
  },
  {
   "cell_type": "markdown",
   "id": "7a6edf46",
   "metadata": {
    "id": "cf19ebff",
    "papermill": {
     "duration": 0.52804,
     "end_time": "2025-08-08T20:59:22.322558",
     "exception": false,
     "start_time": "2025-08-08T20:59:21.794518",
     "status": "completed"
    },
    "tags": []
   },
   "source": [
    "### MinMax Scaler"
   ]
  },
  {
   "cell_type": "code",
   "execution_count": 71,
   "id": "4d65eb83",
   "metadata": {
    "execution": {
     "iopub.execute_input": "2025-08-08T20:59:23.353486Z",
     "iopub.status.busy": "2025-08-08T20:59:23.353116Z",
     "iopub.status.idle": "2025-08-08T20:59:23.366638Z",
     "shell.execute_reply": "2025-08-08T20:59:23.365482Z"
    },
    "id": "d0e168bf",
    "papermill": {
     "duration": 0.523954,
     "end_time": "2025-08-08T20:59:23.368303",
     "exception": false,
     "start_time": "2025-08-08T20:59:22.844349",
     "status": "completed"
    },
    "tags": []
   },
   "outputs": [],
   "source": [
    "scaler = MinMaxScaler()\n",
    "X_train = scaler.fit_transform(X_train_raw)\n",
    "X_test = scaler.transform(X_test_raw)"
   ]
  },
  {
   "cell_type": "code",
   "execution_count": 72,
   "id": "a3ccf5a7",
   "metadata": {
    "execution": {
     "iopub.execute_input": "2025-08-08T20:59:24.394596Z",
     "iopub.status.busy": "2025-08-08T20:59:24.394273Z",
     "iopub.status.idle": "2025-08-08T20:59:24.400450Z",
     "shell.execute_reply": "2025-08-08T20:59:24.399575Z"
    },
    "id": "d8dfd35e",
    "papermill": {
     "duration": 0.52145,
     "end_time": "2025-08-08T20:59:24.401757",
     "exception": false,
     "start_time": "2025-08-08T20:59:23.880307",
     "status": "completed"
    },
    "tags": []
   },
   "outputs": [
    {
     "data": {
      "text/plain": [
       "array([[0.72727273, 0.43478261, 0.        , ..., 0.4922    , 0.697     ,\n",
       "        0.31560059],\n",
       "       [0.90909091, 0.69565217, 1.        , ..., 0.        , 0.303     ,\n",
       "        0.07388643],\n",
       "       [0.09090909, 0.        , 0.        , ..., 0.        , 0.        ,\n",
       "        0.07388643],\n",
       "       ...,\n",
       "       [0.63636364, 0.43478261, 0.        , ..., 0.8756    , 0.306     ,\n",
       "        0.09436352],\n",
       "       [0.        , 0.91304348, 0.        , ..., 0.        , 0.        ,\n",
       "        0.07388643],\n",
       "       [0.72727273, 0.34782609, 0.        , ..., 0.8925    , 0.29      ,\n",
       "        0.27812962]])"
      ]
     },
     "execution_count": 72,
     "metadata": {},
     "output_type": "execute_result"
    }
   ],
   "source": [
    "X_train"
   ]
  },
  {
   "cell_type": "code",
   "execution_count": 73,
   "id": "c892058d",
   "metadata": {
    "execution": {
     "iopub.execute_input": "2025-08-08T20:59:25.584524Z",
     "iopub.status.busy": "2025-08-08T20:59:25.584238Z",
     "iopub.status.idle": "2025-08-08T20:59:25.590213Z",
     "shell.execute_reply": "2025-08-08T20:59:25.589417Z"
    },
    "id": "7d35718d",
    "papermill": {
     "duration": 0.556195,
     "end_time": "2025-08-08T20:59:25.591655",
     "exception": false,
     "start_time": "2025-08-08T20:59:25.035460",
     "status": "completed"
    },
    "tags": []
   },
   "outputs": [
    {
     "data": {
      "text/plain": [
       "array([[0.63636364, 0.95652174, 0.        , ..., 0.894     , 0.        ,\n",
       "        0.07388643],\n",
       "       [0.45454545, 0.65217391, 1.        , ..., 0.9677    , 0.074     ,\n",
       "        0.07388643],\n",
       "       [0.63636364, 0.2173913 , 0.        , ..., 0.9935    , 0.        ,\n",
       "        0.07388643],\n",
       "       ...,\n",
       "       [0.09090909, 0.73913043, 1.        , ..., 0.0013    , 0.203     ,\n",
       "        0.07388643],\n",
       "       [0.27272727, 0.86956522, 0.        , ..., 0.        , 0.        ,\n",
       "        0.25575259],\n",
       "       [0.45454545, 0.95652174, 0.        , ..., 0.5161    , 0.        ,\n",
       "        0.07388643]])"
      ]
     },
     "execution_count": 73,
     "metadata": {},
     "output_type": "execute_result"
    }
   ],
   "source": [
    "X_test"
   ]
  },
  {
   "cell_type": "markdown",
   "id": "3091b0a3",
   "metadata": {
    "id": "dcc121e0",
    "papermill": {
     "duration": 0.597019,
     "end_time": "2025-08-08T20:59:26.694140",
     "exception": false,
     "start_time": "2025-08-08T20:59:26.097121",
     "status": "completed"
    },
    "tags": []
   },
   "source": [
    "#### Default Parameters"
   ]
  },
  {
   "cell_type": "code",
   "execution_count": 74,
   "id": "27ffbe30",
   "metadata": {
    "execution": {
     "iopub.execute_input": "2025-08-08T20:59:27.715263Z",
     "iopub.status.busy": "2025-08-08T20:59:27.714926Z",
     "iopub.status.idle": "2025-08-08T20:59:27.721251Z",
     "shell.execute_reply": "2025-08-08T20:59:27.720362Z"
    },
    "id": "99719db1",
    "papermill": {
     "duration": 0.522118,
     "end_time": "2025-08-08T20:59:27.722620",
     "exception": false,
     "start_time": "2025-08-08T20:59:27.200502",
     "status": "completed"
    },
    "tags": []
   },
   "outputs": [
    {
     "data": {
      "text/html": [
       "<style>#sk-container-id-10 {color: black;background-color: white;}#sk-container-id-10 pre{padding: 0;}#sk-container-id-10 div.sk-toggleable {background-color: white;}#sk-container-id-10 label.sk-toggleable__label {cursor: pointer;display: block;width: 100%;margin-bottom: 0;padding: 0.3em;box-sizing: border-box;text-align: center;}#sk-container-id-10 label.sk-toggleable__label-arrow:before {content: \"▸\";float: left;margin-right: 0.25em;color: #696969;}#sk-container-id-10 label.sk-toggleable__label-arrow:hover:before {color: black;}#sk-container-id-10 div.sk-estimator:hover label.sk-toggleable__label-arrow:before {color: black;}#sk-container-id-10 div.sk-toggleable__content {max-height: 0;max-width: 0;overflow: hidden;text-align: left;background-color: #f0f8ff;}#sk-container-id-10 div.sk-toggleable__content pre {margin: 0.2em;color: black;border-radius: 0.25em;background-color: #f0f8ff;}#sk-container-id-10 input.sk-toggleable__control:checked~div.sk-toggleable__content {max-height: 200px;max-width: 100%;overflow: auto;}#sk-container-id-10 input.sk-toggleable__control:checked~label.sk-toggleable__label-arrow:before {content: \"▾\";}#sk-container-id-10 div.sk-estimator input.sk-toggleable__control:checked~label.sk-toggleable__label {background-color: #d4ebff;}#sk-container-id-10 div.sk-label input.sk-toggleable__control:checked~label.sk-toggleable__label {background-color: #d4ebff;}#sk-container-id-10 input.sk-hidden--visually {border: 0;clip: rect(1px 1px 1px 1px);clip: rect(1px, 1px, 1px, 1px);height: 1px;margin: -1px;overflow: hidden;padding: 0;position: absolute;width: 1px;}#sk-container-id-10 div.sk-estimator {font-family: monospace;background-color: #f0f8ff;border: 1px dotted black;border-radius: 0.25em;box-sizing: border-box;margin-bottom: 0.5em;}#sk-container-id-10 div.sk-estimator:hover {background-color: #d4ebff;}#sk-container-id-10 div.sk-parallel-item::after {content: \"\";width: 100%;border-bottom: 1px solid gray;flex-grow: 1;}#sk-container-id-10 div.sk-label:hover label.sk-toggleable__label {background-color: #d4ebff;}#sk-container-id-10 div.sk-serial::before {content: \"\";position: absolute;border-left: 1px solid gray;box-sizing: border-box;top: 0;bottom: 0;left: 50%;z-index: 0;}#sk-container-id-10 div.sk-serial {display: flex;flex-direction: column;align-items: center;background-color: white;padding-right: 0.2em;padding-left: 0.2em;position: relative;}#sk-container-id-10 div.sk-item {position: relative;z-index: 1;}#sk-container-id-10 div.sk-parallel {display: flex;align-items: stretch;justify-content: center;background-color: white;position: relative;}#sk-container-id-10 div.sk-item::before, #sk-container-id-10 div.sk-parallel-item::before {content: \"\";position: absolute;border-left: 1px solid gray;box-sizing: border-box;top: 0;bottom: 0;left: 50%;z-index: -1;}#sk-container-id-10 div.sk-parallel-item {display: flex;flex-direction: column;z-index: 1;position: relative;background-color: white;}#sk-container-id-10 div.sk-parallel-item:first-child::after {align-self: flex-end;width: 50%;}#sk-container-id-10 div.sk-parallel-item:last-child::after {align-self: flex-start;width: 50%;}#sk-container-id-10 div.sk-parallel-item:only-child::after {width: 0;}#sk-container-id-10 div.sk-dashed-wrapped {border: 1px dashed gray;margin: 0 0.4em 0.5em 0.4em;box-sizing: border-box;padding-bottom: 0.4em;background-color: white;}#sk-container-id-10 div.sk-label label {font-family: monospace;font-weight: bold;display: inline-block;line-height: 1.2em;}#sk-container-id-10 div.sk-label-container {text-align: center;}#sk-container-id-10 div.sk-container {/* jupyter's `normalize.less` sets `[hidden] { display: none; }` but bootstrap.min.css set `[hidden] { display: none !important; }` so we also need the `!important` here to be able to override the default hidden behavior on the sphinx rendered scikit-learn.org. See: https://github.com/scikit-learn/scikit-learn/issues/21755 */display: inline-block !important;position: relative;}#sk-container-id-10 div.sk-text-repr-fallback {display: none;}</style><div id=\"sk-container-id-10\" class=\"sk-top-container\"><div class=\"sk-text-repr-fallback\"><pre>Lasso(alpha=0.001, max_iter=10000, random_state=42)</pre><b>In a Jupyter environment, please rerun this cell to show the HTML representation or trust the notebook. <br />On GitHub, the HTML representation is unable to render, please try loading this page with nbviewer.org.</b></div><div class=\"sk-container\" hidden><div class=\"sk-item\"><div class=\"sk-estimator sk-toggleable\"><input class=\"sk-toggleable__control sk-hidden--visually\" id=\"sk-estimator-id-16\" type=\"checkbox\" checked><label for=\"sk-estimator-id-16\" class=\"sk-toggleable__label sk-toggleable__label-arrow\">Lasso</label><div class=\"sk-toggleable__content\"><pre>Lasso(alpha=0.001, max_iter=10000, random_state=42)</pre></div></div></div></div></div>"
      ],
      "text/plain": [
       "Lasso(alpha=0.001, max_iter=10000, random_state=42)"
      ]
     },
     "execution_count": 74,
     "metadata": {},
     "output_type": "execute_result"
    }
   ],
   "source": [
    "training_model = LassoR(alpha=0.001, random_state=42, max_iter=10000)\n",
    "training_model"
   ]
  },
  {
   "cell_type": "code",
   "execution_count": 75,
   "id": "c7dcfee4",
   "metadata": {
    "execution": {
     "iopub.execute_input": "2025-08-08T20:59:28.747714Z",
     "iopub.status.busy": "2025-08-08T20:59:28.747386Z",
     "iopub.status.idle": "2025-08-08T20:59:28.830074Z",
     "shell.execute_reply": "2025-08-08T20:59:28.828189Z"
    },
    "id": "e2de764e",
    "papermill": {
     "duration": 0.593376,
     "end_time": "2025-08-08T20:59:28.833309",
     "exception": false,
     "start_time": "2025-08-08T20:59:28.239933",
     "status": "completed"
    },
    "tags": []
   },
   "outputs": [
    {
     "name": "stdout",
     "output_type": "stream",
     "text": [
      "CPU times: user 278 ms, sys: 0 ns, total: 278 ms\n",
      "Wall time: 74.9 ms\n"
     ]
    },
    {
     "data": {
      "text/html": [
       "<style>#sk-container-id-11 {color: black;background-color: white;}#sk-container-id-11 pre{padding: 0;}#sk-container-id-11 div.sk-toggleable {background-color: white;}#sk-container-id-11 label.sk-toggleable__label {cursor: pointer;display: block;width: 100%;margin-bottom: 0;padding: 0.3em;box-sizing: border-box;text-align: center;}#sk-container-id-11 label.sk-toggleable__label-arrow:before {content: \"▸\";float: left;margin-right: 0.25em;color: #696969;}#sk-container-id-11 label.sk-toggleable__label-arrow:hover:before {color: black;}#sk-container-id-11 div.sk-estimator:hover label.sk-toggleable__label-arrow:before {color: black;}#sk-container-id-11 div.sk-toggleable__content {max-height: 0;max-width: 0;overflow: hidden;text-align: left;background-color: #f0f8ff;}#sk-container-id-11 div.sk-toggleable__content pre {margin: 0.2em;color: black;border-radius: 0.25em;background-color: #f0f8ff;}#sk-container-id-11 input.sk-toggleable__control:checked~div.sk-toggleable__content {max-height: 200px;max-width: 100%;overflow: auto;}#sk-container-id-11 input.sk-toggleable__control:checked~label.sk-toggleable__label-arrow:before {content: \"▾\";}#sk-container-id-11 div.sk-estimator input.sk-toggleable__control:checked~label.sk-toggleable__label {background-color: #d4ebff;}#sk-container-id-11 div.sk-label input.sk-toggleable__control:checked~label.sk-toggleable__label {background-color: #d4ebff;}#sk-container-id-11 input.sk-hidden--visually {border: 0;clip: rect(1px 1px 1px 1px);clip: rect(1px, 1px, 1px, 1px);height: 1px;margin: -1px;overflow: hidden;padding: 0;position: absolute;width: 1px;}#sk-container-id-11 div.sk-estimator {font-family: monospace;background-color: #f0f8ff;border: 1px dotted black;border-radius: 0.25em;box-sizing: border-box;margin-bottom: 0.5em;}#sk-container-id-11 div.sk-estimator:hover {background-color: #d4ebff;}#sk-container-id-11 div.sk-parallel-item::after {content: \"\";width: 100%;border-bottom: 1px solid gray;flex-grow: 1;}#sk-container-id-11 div.sk-label:hover label.sk-toggleable__label {background-color: #d4ebff;}#sk-container-id-11 div.sk-serial::before {content: \"\";position: absolute;border-left: 1px solid gray;box-sizing: border-box;top: 0;bottom: 0;left: 50%;z-index: 0;}#sk-container-id-11 div.sk-serial {display: flex;flex-direction: column;align-items: center;background-color: white;padding-right: 0.2em;padding-left: 0.2em;position: relative;}#sk-container-id-11 div.sk-item {position: relative;z-index: 1;}#sk-container-id-11 div.sk-parallel {display: flex;align-items: stretch;justify-content: center;background-color: white;position: relative;}#sk-container-id-11 div.sk-item::before, #sk-container-id-11 div.sk-parallel-item::before {content: \"\";position: absolute;border-left: 1px solid gray;box-sizing: border-box;top: 0;bottom: 0;left: 50%;z-index: -1;}#sk-container-id-11 div.sk-parallel-item {display: flex;flex-direction: column;z-index: 1;position: relative;background-color: white;}#sk-container-id-11 div.sk-parallel-item:first-child::after {align-self: flex-end;width: 50%;}#sk-container-id-11 div.sk-parallel-item:last-child::after {align-self: flex-start;width: 50%;}#sk-container-id-11 div.sk-parallel-item:only-child::after {width: 0;}#sk-container-id-11 div.sk-dashed-wrapped {border: 1px dashed gray;margin: 0 0.4em 0.5em 0.4em;box-sizing: border-box;padding-bottom: 0.4em;background-color: white;}#sk-container-id-11 div.sk-label label {font-family: monospace;font-weight: bold;display: inline-block;line-height: 1.2em;}#sk-container-id-11 div.sk-label-container {text-align: center;}#sk-container-id-11 div.sk-container {/* jupyter's `normalize.less` sets `[hidden] { display: none; }` but bootstrap.min.css set `[hidden] { display: none !important; }` so we also need the `!important` here to be able to override the default hidden behavior on the sphinx rendered scikit-learn.org. See: https://github.com/scikit-learn/scikit-learn/issues/21755 */display: inline-block !important;position: relative;}#sk-container-id-11 div.sk-text-repr-fallback {display: none;}</style><div id=\"sk-container-id-11\" class=\"sk-top-container\"><div class=\"sk-text-repr-fallback\"><pre>Lasso(alpha=0.001, max_iter=10000, random_state=42)</pre><b>In a Jupyter environment, please rerun this cell to show the HTML representation or trust the notebook. <br />On GitHub, the HTML representation is unable to render, please try loading this page with nbviewer.org.</b></div><div class=\"sk-container\" hidden><div class=\"sk-item\"><div class=\"sk-estimator sk-toggleable\"><input class=\"sk-toggleable__control sk-hidden--visually\" id=\"sk-estimator-id-17\" type=\"checkbox\" checked><label for=\"sk-estimator-id-17\" class=\"sk-toggleable__label sk-toggleable__label-arrow\">Lasso</label><div class=\"sk-toggleable__content\"><pre>Lasso(alpha=0.001, max_iter=10000, random_state=42)</pre></div></div></div></div></div>"
      ],
      "text/plain": [
       "Lasso(alpha=0.001, max_iter=10000, random_state=42)"
      ]
     },
     "execution_count": 75,
     "metadata": {},
     "output_type": "execute_result"
    }
   ],
   "source": [
    "%%time\n",
    "training_model.fit(X_train, y_train)"
   ]
  },
  {
   "cell_type": "code",
   "execution_count": 76,
   "id": "294af55f",
   "metadata": {
    "execution": {
     "iopub.execute_input": "2025-08-08T20:59:30.001873Z",
     "iopub.status.busy": "2025-08-08T20:59:30.001587Z",
     "iopub.status.idle": "2025-08-08T20:59:30.008201Z",
     "shell.execute_reply": "2025-08-08T20:59:30.007395Z"
    },
    "id": "37b6a707",
    "papermill": {
     "duration": 0.609497,
     "end_time": "2025-08-08T20:59:30.009532",
     "exception": false,
     "start_time": "2025-08-08T20:59:29.400035",
     "status": "completed"
    },
    "tags": []
   },
   "outputs": [
    {
     "data": {
      "text/plain": [
       "array([ -0.70421615,  75.44171657,  -1.0849962 , ..., 208.05978626,\n",
       "         0.9963003 ,  -0.4894844 ])"
      ]
     },
     "execution_count": 76,
     "metadata": {},
     "output_type": "execute_result"
    }
   ],
   "source": [
    "y_pred = training_model.predict(X_test)\n",
    "y_pred"
   ]
  },
  {
   "cell_type": "code",
   "execution_count": 77,
   "id": "81dd1058",
   "metadata": {
    "execution": {
     "iopub.execute_input": "2025-08-08T20:59:31.031253Z",
     "iopub.status.busy": "2025-08-08T20:59:31.030947Z",
     "iopub.status.idle": "2025-08-08T20:59:31.037969Z",
     "shell.execute_reply": "2025-08-08T20:59:31.037148Z"
    },
    "id": "bcc03492",
    "papermill": {
     "duration": 0.522747,
     "end_time": "2025-08-08T20:59:31.039348",
     "exception": false,
     "start_time": "2025-08-08T20:59:30.516601",
     "status": "completed"
    },
    "tags": []
   },
   "outputs": [
    {
     "data": {
      "text/plain": [
       "5158       0.00\n",
       "3831     105.26\n",
       "5117       0.00\n",
       "6326     758.39\n",
       "11359    135.87\n",
       "          ...  \n",
       "10290     74.58\n",
       "13995      0.00\n",
       "9665     241.81\n",
       "2276       0.00\n",
       "4174       0.00\n",
       "Name: SolarRadiation, Length: 2924, dtype: float64"
      ]
     },
     "execution_count": 77,
     "metadata": {},
     "output_type": "execute_result"
    }
   ],
   "source": [
    "y_test"
   ]
  },
  {
   "cell_type": "code",
   "execution_count": 78,
   "id": "212129f3",
   "metadata": {
    "execution": {
     "iopub.execute_input": "2025-08-08T20:59:32.187839Z",
     "iopub.status.busy": "2025-08-08T20:59:32.187433Z",
     "iopub.status.idle": "2025-08-08T20:59:32.195537Z",
     "shell.execute_reply": "2025-08-08T20:59:32.194520Z"
    },
    "id": "38965720",
    "papermill": {
     "duration": 0.524272,
     "end_time": "2025-08-08T20:59:32.197373",
     "exception": false,
     "start_time": "2025-08-08T20:59:31.673101",
     "status": "completed"
    },
    "tags": []
   },
   "outputs": [],
   "source": [
    "mse = mean_squared_error(y_test, y_pred)\n",
    "mae = mean_absolute_error(y_test, y_pred)\n",
    "r2 = r2_score(y_test, y_pred)\n",
    "rmse = math.sqrt(mse)"
   ]
  },
  {
   "cell_type": "code",
   "execution_count": 79,
   "id": "ec539ddb",
   "metadata": {
    "execution": {
     "iopub.execute_input": "2025-08-08T20:59:33.224567Z",
     "iopub.status.busy": "2025-08-08T20:59:33.224283Z",
     "iopub.status.idle": "2025-08-08T20:59:33.229455Z",
     "shell.execute_reply": "2025-08-08T20:59:33.228438Z"
    },
    "id": "a12290f3",
    "papermill": {
     "duration": 0.526903,
     "end_time": "2025-08-08T20:59:33.230955",
     "exception": false,
     "start_time": "2025-08-08T20:59:32.704052",
     "status": "completed"
    },
    "tags": []
   },
   "outputs": [
    {
     "name": "stdout",
     "output_type": "stream",
     "text": [
      "MSE Score: 315.8040149874176\n",
      "MAE Score: 11.545813116572276\n",
      "R2 Score: 0.9966417591372664\n",
      "RMSE Score: 17.77087547048309\n"
     ]
    }
   ],
   "source": [
    "print(\"MSE Score:\", mse)\n",
    "print(\"MAE Score:\", mae)\n",
    "print(\"R2 Score:\", r2)\n",
    "print(\"RMSE Score:\", rmse)"
   ]
  },
  {
   "cell_type": "code",
   "execution_count": 80,
   "id": "a7ce8a73",
   "metadata": {
    "execution": {
     "iopub.execute_input": "2025-08-08T20:59:34.352721Z",
     "iopub.status.busy": "2025-08-08T20:59:34.352440Z",
     "iopub.status.idle": "2025-08-08T20:59:34.366141Z",
     "shell.execute_reply": "2025-08-08T20:59:34.365306Z"
    },
    "id": "e2340730",
    "papermill": {
     "duration": 0.620239,
     "end_time": "2025-08-08T20:59:34.367683",
     "exception": false,
     "start_time": "2025-08-08T20:59:33.747444",
     "status": "completed"
    },
    "tags": []
   },
   "outputs": [
    {
     "name": "stdout",
     "output_type": "stream",
     "text": [
      "✅ Regression model improved with same performance but fewer features!\n",
      "   MSE: 315.774739 ≈ 315.804015 (similar)\n",
      "   R²:  0.996642 ≈ 0.996642 (similar)\n",
      "   Features: 27 → 24 (🎯 3 fewer features!)\n",
      "💾 Registry updated: Model_Training_History/History_Regression.csv\n"
     ]
    }
   ],
   "source": [
    "regression_params = {\n",
    "    'model_name': model_name_for_saving,\n",
    "    'scaler_name': \"MinMaxScaler\",\n",
    "    'features_list': feature_columns_for_saving,\n",
    "    'target_column': target_name_for_saving,\n",
    "    'mse': mse,\n",
    "    'mae': mae,\n",
    "    'rmse': rmse,\n",
    "    'r2': r2,\n",
    "    'parameters': json.dumps(training_model.get_params())\n",
    "}\n",
    "save_model_performance_if_better('regression', regression_params)"
   ]
  },
  {
   "cell_type": "markdown",
   "id": "98fd6b45",
   "metadata": {
    "id": "e7193315",
    "papermill": {
     "duration": 0.510185,
     "end_time": "2025-08-08T20:59:35.402638",
     "exception": false,
     "start_time": "2025-08-08T20:59:34.892453",
     "status": "completed"
    },
    "tags": []
   },
   "source": [
    "#### Tuning with Grid Search"
   ]
  },
  {
   "cell_type": "code",
   "execution_count": 81,
   "id": "bfb6fdc1",
   "metadata": {
    "execution": {
     "iopub.execute_input": "2025-08-08T20:59:36.523117Z",
     "iopub.status.busy": "2025-08-08T20:59:36.522012Z",
     "iopub.status.idle": "2025-08-08T20:59:36.526778Z",
     "shell.execute_reply": "2025-08-08T20:59:36.525948Z"
    },
    "id": "4bc70384",
    "papermill": {
     "duration": 0.609509,
     "end_time": "2025-08-08T20:59:36.528293",
     "exception": false,
     "start_time": "2025-08-08T20:59:35.918784",
     "status": "completed"
    },
    "tags": []
   },
   "outputs": [],
   "source": [
    "grid_search = GridSearchCV(\n",
    "    LassoR(random_state=42),\n",
    "    grid_param,\n",
    "    cv=5,\n",
    "    scoring='neg_mean_squared_error',\n",
    "    n_jobs=-1, # allow parallel processing, you cant use your own laptop while this runs\n",
    "    verbose=1\n",
    ")"
   ]
  },
  {
   "cell_type": "code",
   "execution_count": null,
   "id": "639937f4",
   "metadata": {
    "execution": {
     "iopub.execute_input": "2025-08-08T20:59:37.579278Z",
     "iopub.status.busy": "2025-08-08T20:59:37.578931Z",
     "iopub.status.idle": "2025-08-08T21:37:12.011610Z",
     "shell.execute_reply": "2025-08-08T21:37:12.010685Z"
    },
    "id": "98ec2d9d",
    "papermill": {
     "duration": 2255.740629,
     "end_time": "2025-08-08T21:37:12.804091",
     "exception": false,
     "start_time": "2025-08-08T20:59:37.063462",
     "status": "completed"
    },
    "tags": []
   },
   "outputs": [],
   "source": [
    "%%time\n",
    "print(\"Starting hyperparameter tuning...\")\n",
    "grid_search.fit(X_train, y_train)"
   ]
  },
  {
   "cell_type": "code",
   "execution_count": 83,
   "id": "60679665",
   "metadata": {
    "execution": {
     "iopub.execute_input": "2025-08-08T21:37:14.102296Z",
     "iopub.status.busy": "2025-08-08T21:37:14.101461Z",
     "iopub.status.idle": "2025-08-08T21:37:14.107709Z",
     "shell.execute_reply": "2025-08-08T21:37:14.106681Z"
    },
    "id": "81e013ed",
    "papermill": {
     "duration": 0.656035,
     "end_time": "2025-08-08T21:37:14.109082",
     "exception": false,
     "start_time": "2025-08-08T21:37:13.453047",
     "status": "completed"
    },
    "tags": []
   },
   "outputs": [
    {
     "name": "stdout",
     "output_type": "stream",
     "text": [
      "TUNING RESULTS\n",
      "==================================================\n",
      "Best Parameters: {'alpha': 0.001, 'fit_intercept': True, 'max_iter': 1000, 'positive': True, 'precompute': False, 'selection': 'random', 'tol': 0.001, 'warm_start': False}\n",
      "Best Cross-Validation Score (Negative MSE): -304.2060825343881\n",
      "Best Cross-Validation Score (MSE): 304.2060825343881\n",
      "Best Cross-Validation Score (RMSE): 17.441504594913482\n"
     ]
    }
   ],
   "source": [
    "print(\"TUNING RESULTS\")\n",
    "print(\"=\"*50)\n",
    "print(\"Best Parameters:\", grid_search.best_params_)\n",
    "print(\"Best Cross-Validation Score (Negative MSE):\", grid_search.best_score_)\n",
    "print(\"Best Cross-Validation Score (MSE):\", -grid_search.best_score_)\n",
    "print(\"Best Cross-Validation Score (RMSE):\", math.sqrt(-grid_search.best_score_))"
   ]
  },
  {
   "cell_type": "code",
   "execution_count": 84,
   "id": "9365818d",
   "metadata": {
    "execution": {
     "iopub.execute_input": "2025-08-08T21:37:15.518830Z",
     "iopub.status.busy": "2025-08-08T21:37:15.518491Z",
     "iopub.status.idle": "2025-08-08T21:37:15.523402Z",
     "shell.execute_reply": "2025-08-08T21:37:15.522602Z"
    },
    "id": "a8a1cc16",
    "papermill": {
     "duration": 0.763246,
     "end_time": "2025-08-08T21:37:15.524788",
     "exception": false,
     "start_time": "2025-08-08T21:37:14.761542",
     "status": "completed"
    },
    "tags": []
   },
   "outputs": [],
   "source": [
    "grid_search_best_model = grid_search.best_estimator_\n",
    "y_pred = grid_search_best_model.predict(X_test)"
   ]
  },
  {
   "cell_type": "code",
   "execution_count": 85,
   "id": "efae3763",
   "metadata": {
    "execution": {
     "iopub.execute_input": "2025-08-08T21:37:16.827250Z",
     "iopub.status.busy": "2025-08-08T21:37:16.826932Z",
     "iopub.status.idle": "2025-08-08T21:37:16.834281Z",
     "shell.execute_reply": "2025-08-08T21:37:16.833441Z"
    },
    "id": "a643cd52",
    "papermill": {
     "duration": 0.658475,
     "end_time": "2025-08-08T21:37:16.835740",
     "exception": false,
     "start_time": "2025-08-08T21:37:16.177265",
     "status": "completed"
    },
    "tags": []
   },
   "outputs": [],
   "source": [
    "mse_grid_search = mean_squared_error(y_test, y_pred)\n",
    "mae_grid_search = mean_absolute_error(y_test, y_pred)\n",
    "r2_grid_search = r2_score(y_test, y_pred)\n",
    "rmse_grid_search = math.sqrt(mse_grid_search)"
   ]
  },
  {
   "cell_type": "code",
   "execution_count": 86,
   "id": "50cae0b7",
   "metadata": {
    "execution": {
     "iopub.execute_input": "2025-08-08T21:37:18.240285Z",
     "iopub.status.busy": "2025-08-08T21:37:18.239917Z",
     "iopub.status.idle": "2025-08-08T21:37:18.245229Z",
     "shell.execute_reply": "2025-08-08T21:37:18.244261Z"
    },
    "id": "6c715107",
    "papermill": {
     "duration": 0.75765,
     "end_time": "2025-08-08T21:37:18.246621",
     "exception": false,
     "start_time": "2025-08-08T21:37:17.488971",
     "status": "completed"
    },
    "tags": []
   },
   "outputs": [
    {
     "name": "stdout",
     "output_type": "stream",
     "text": [
      "MSE Score: 316.18121276168694\n",
      "MAE Score: 11.565129655459215\n",
      "R2 Score: 0.9966377480388675\n",
      "RMSE Score: 17.78148511125229\n"
     ]
    }
   ],
   "source": [
    "print(\"MSE Score:\", mse_grid_search)\n",
    "print(\"MAE Score:\", mae_grid_search)\n",
    "print(\"R2 Score:\", r2_grid_search)\n",
    "print(\"RMSE Score:\", rmse_grid_search)"
   ]
  },
  {
   "cell_type": "code",
   "execution_count": 87,
   "id": "58cc095d",
   "metadata": {
    "execution": {
     "iopub.execute_input": "2025-08-08T21:37:19.576818Z",
     "iopub.status.busy": "2025-08-08T21:37:19.575972Z",
     "iopub.status.idle": "2025-08-08T21:37:19.590285Z",
     "shell.execute_reply": "2025-08-08T21:37:19.589363Z"
    },
    "id": "cf62813f",
    "papermill": {
     "duration": 0.690948,
     "end_time": "2025-08-08T21:37:19.591713",
     "exception": false,
     "start_time": "2025-08-08T21:37:18.900765",
     "status": "completed"
    },
    "tags": []
   },
   "outputs": [
    {
     "name": "stdout",
     "output_type": "stream",
     "text": [
      "✅ Regression model improved with better performance!\n",
      "   MSE: 316.207184 → 316.181213 (lower is better)\n",
      "   R²:  0.996637 → 0.996638 (higher is better)\n",
      "   Features: 27 → 24\n",
      "💾 Registry updated: Model_Training_History/History_Regression.csv\n"
     ]
    }
   ],
   "source": [
    "regression_params = {\n",
    "    'model_name': model_name_for_saving + \" Tuned\",\n",
    "    'scaler_name': \"MinMaxScaler\",\n",
    "    'features_list': feature_columns_for_saving,\n",
    "    'target_column': target_name_for_saving,\n",
    "    'mse': mse_grid_search,\n",
    "    'mae': mae_grid_search,\n",
    "    'rmse': rmse_grid_search,\n",
    "    'r2': r2_grid_search,\n",
    "    'parameters' : json.dumps({\n",
    "        \"best_params\": grid_search.best_params_,\n",
    "        \"cv_score\": grid_search.best_score_,\n",
    "        \"all_params\": grid_search_best_model.get_params()\n",
    "    })\n",
    "}\n",
    "save_model_performance_if_better('regression', regression_params)"
   ]
  },
  {
   "cell_type": "markdown",
   "id": "b01fe344",
   "metadata": {
    "id": "ac5c5f87",
    "papermill": {
     "duration": 0.645029,
     "end_time": "2025-08-08T21:37:20.981507",
     "exception": false,
     "start_time": "2025-08-08T21:37:20.336478",
     "status": "completed"
    },
    "tags": []
   },
   "source": [
    "### Standard Scaler"
   ]
  },
  {
   "cell_type": "code",
   "execution_count": 88,
   "id": "11f68935",
   "metadata": {
    "execution": {
     "iopub.execute_input": "2025-08-08T21:37:22.296818Z",
     "iopub.status.busy": "2025-08-08T21:37:22.295909Z",
     "iopub.status.idle": "2025-08-08T21:37:22.310754Z",
     "shell.execute_reply": "2025-08-08T21:37:22.309938Z"
    },
    "id": "3a80a94e",
    "papermill": {
     "duration": 0.665016,
     "end_time": "2025-08-08T21:37:22.312390",
     "exception": false,
     "start_time": "2025-08-08T21:37:21.647374",
     "status": "completed"
    },
    "tags": []
   },
   "outputs": [],
   "source": [
    "scaler = StandardScaler()\n",
    "X_train = scaler.fit_transform(X_train_raw)\n",
    "X_test = scaler.transform(X_test_raw)"
   ]
  },
  {
   "cell_type": "code",
   "execution_count": 89,
   "id": "8ccf6e1c",
   "metadata": {
    "execution": {
     "iopub.execute_input": "2025-08-08T21:37:23.725021Z",
     "iopub.status.busy": "2025-08-08T21:37:23.724669Z",
     "iopub.status.idle": "2025-08-08T21:37:23.730785Z",
     "shell.execute_reply": "2025-08-08T21:37:23.729993Z"
    },
    "id": "dcbdf923",
    "papermill": {
     "duration": 0.665738,
     "end_time": "2025-08-08T21:37:23.732385",
     "exception": false,
     "start_time": "2025-08-08T21:37:23.066647",
     "status": "completed"
    },
    "tags": []
   },
   "outputs": [
    {
     "data": {
      "text/plain": [
       "array([[ 1.01884116, -0.21938027, -0.38875095, ..., -0.12088825,\n",
       "         1.52387472,  1.09644529],\n",
       "       [ 1.64376461,  0.64624572,  2.57234098, ..., -1.52028666,\n",
       "         0.24645772, -0.43343649],\n",
       "       [-1.16839092, -1.66209024, -0.38875095, ..., -1.52028666,\n",
       "        -0.73592134, -0.43343649],\n",
       "       ...,\n",
       "       [ 0.70637943, -0.21938027, -0.38875095, ...,  0.96917545,\n",
       "         0.25618424, -0.30383078],\n",
       "       [-1.48085264,  1.36760071, -0.38875095, ..., -1.52028666,\n",
       "        -0.73592134, -0.43343649],\n",
       "       [ 1.01884116, -0.50792226, -0.38875095, ...,  1.01722469,\n",
       "         0.20430944,  0.85928021]])"
      ]
     },
     "execution_count": 89,
     "metadata": {},
     "output_type": "execute_result"
    }
   ],
   "source": [
    "X_train"
   ]
  },
  {
   "cell_type": "code",
   "execution_count": 90,
   "id": "7bec76fe",
   "metadata": {
    "execution": {
     "iopub.execute_input": "2025-08-08T21:37:25.045040Z",
     "iopub.status.busy": "2025-08-08T21:37:25.044710Z",
     "iopub.status.idle": "2025-08-08T21:37:25.050723Z",
     "shell.execute_reply": "2025-08-08T21:37:25.049924Z"
    },
    "id": "d577f04a",
    "papermill": {
     "duration": 0.659257,
     "end_time": "2025-08-08T21:37:25.052209",
     "exception": false,
     "start_time": "2025-08-08T21:37:24.392952",
     "status": "completed"
    },
    "tags": []
   },
   "outputs": [
    {
     "data": {
      "text/plain": [
       "array([[ 0.70637943,  1.51187171, -0.38875095, ...,  1.02148941,\n",
       "        -0.73592134, -0.43343649],\n",
       "       [ 0.08145598,  0.50197472,  2.57234098, ...,  1.23102956,\n",
       "        -0.49600038, -0.43343649],\n",
       "       [ 0.70637943, -0.94073525, -0.38875095, ...,  1.30438283,\n",
       "        -0.73592134, -0.43343649],\n",
       "       ...,\n",
       "       [-1.16839092,  0.79051672,  2.57234098, ..., -1.51659057,\n",
       "        -0.07775979, -0.43343649],\n",
       "       [-0.54346747,  1.22332971, -0.38875095, ..., -1.52028666,\n",
       "        -0.73592134,  0.71764924],\n",
       "       [ 0.08145598,  1.51187171, -0.38875095, ..., -0.05293696,\n",
       "        -0.73592134, -0.43343649]])"
      ]
     },
     "execution_count": 90,
     "metadata": {},
     "output_type": "execute_result"
    }
   ],
   "source": [
    "X_test"
   ]
  },
  {
   "cell_type": "markdown",
   "id": "e4bc8207",
   "metadata": {
    "id": "2b021a94",
    "papermill": {
     "duration": 0.670887,
     "end_time": "2025-08-08T21:37:26.469126",
     "exception": false,
     "start_time": "2025-08-08T21:37:25.798239",
     "status": "completed"
    },
    "tags": []
   },
   "source": [
    "#### Default Parameters"
   ]
  },
  {
   "cell_type": "code",
   "execution_count": 91,
   "id": "988fe56f",
   "metadata": {
    "execution": {
     "iopub.execute_input": "2025-08-08T21:37:27.864237Z",
     "iopub.status.busy": "2025-08-08T21:37:27.863792Z",
     "iopub.status.idle": "2025-08-08T21:37:27.871739Z",
     "shell.execute_reply": "2025-08-08T21:37:27.870984Z"
    },
    "id": "d4500c31",
    "papermill": {
     "duration": 0.761945,
     "end_time": "2025-08-08T21:37:27.873284",
     "exception": false,
     "start_time": "2025-08-08T21:37:27.111339",
     "status": "completed"
    },
    "tags": []
   },
   "outputs": [
    {
     "data": {
      "text/html": [
       "<style>#sk-container-id-13 {color: black;background-color: white;}#sk-container-id-13 pre{padding: 0;}#sk-container-id-13 div.sk-toggleable {background-color: white;}#sk-container-id-13 label.sk-toggleable__label {cursor: pointer;display: block;width: 100%;margin-bottom: 0;padding: 0.3em;box-sizing: border-box;text-align: center;}#sk-container-id-13 label.sk-toggleable__label-arrow:before {content: \"▸\";float: left;margin-right: 0.25em;color: #696969;}#sk-container-id-13 label.sk-toggleable__label-arrow:hover:before {color: black;}#sk-container-id-13 div.sk-estimator:hover label.sk-toggleable__label-arrow:before {color: black;}#sk-container-id-13 div.sk-toggleable__content {max-height: 0;max-width: 0;overflow: hidden;text-align: left;background-color: #f0f8ff;}#sk-container-id-13 div.sk-toggleable__content pre {margin: 0.2em;color: black;border-radius: 0.25em;background-color: #f0f8ff;}#sk-container-id-13 input.sk-toggleable__control:checked~div.sk-toggleable__content {max-height: 200px;max-width: 100%;overflow: auto;}#sk-container-id-13 input.sk-toggleable__control:checked~label.sk-toggleable__label-arrow:before {content: \"▾\";}#sk-container-id-13 div.sk-estimator input.sk-toggleable__control:checked~label.sk-toggleable__label {background-color: #d4ebff;}#sk-container-id-13 div.sk-label input.sk-toggleable__control:checked~label.sk-toggleable__label {background-color: #d4ebff;}#sk-container-id-13 input.sk-hidden--visually {border: 0;clip: rect(1px 1px 1px 1px);clip: rect(1px, 1px, 1px, 1px);height: 1px;margin: -1px;overflow: hidden;padding: 0;position: absolute;width: 1px;}#sk-container-id-13 div.sk-estimator {font-family: monospace;background-color: #f0f8ff;border: 1px dotted black;border-radius: 0.25em;box-sizing: border-box;margin-bottom: 0.5em;}#sk-container-id-13 div.sk-estimator:hover {background-color: #d4ebff;}#sk-container-id-13 div.sk-parallel-item::after {content: \"\";width: 100%;border-bottom: 1px solid gray;flex-grow: 1;}#sk-container-id-13 div.sk-label:hover label.sk-toggleable__label {background-color: #d4ebff;}#sk-container-id-13 div.sk-serial::before {content: \"\";position: absolute;border-left: 1px solid gray;box-sizing: border-box;top: 0;bottom: 0;left: 50%;z-index: 0;}#sk-container-id-13 div.sk-serial {display: flex;flex-direction: column;align-items: center;background-color: white;padding-right: 0.2em;padding-left: 0.2em;position: relative;}#sk-container-id-13 div.sk-item {position: relative;z-index: 1;}#sk-container-id-13 div.sk-parallel {display: flex;align-items: stretch;justify-content: center;background-color: white;position: relative;}#sk-container-id-13 div.sk-item::before, #sk-container-id-13 div.sk-parallel-item::before {content: \"\";position: absolute;border-left: 1px solid gray;box-sizing: border-box;top: 0;bottom: 0;left: 50%;z-index: -1;}#sk-container-id-13 div.sk-parallel-item {display: flex;flex-direction: column;z-index: 1;position: relative;background-color: white;}#sk-container-id-13 div.sk-parallel-item:first-child::after {align-self: flex-end;width: 50%;}#sk-container-id-13 div.sk-parallel-item:last-child::after {align-self: flex-start;width: 50%;}#sk-container-id-13 div.sk-parallel-item:only-child::after {width: 0;}#sk-container-id-13 div.sk-dashed-wrapped {border: 1px dashed gray;margin: 0 0.4em 0.5em 0.4em;box-sizing: border-box;padding-bottom: 0.4em;background-color: white;}#sk-container-id-13 div.sk-label label {font-family: monospace;font-weight: bold;display: inline-block;line-height: 1.2em;}#sk-container-id-13 div.sk-label-container {text-align: center;}#sk-container-id-13 div.sk-container {/* jupyter's `normalize.less` sets `[hidden] { display: none; }` but bootstrap.min.css set `[hidden] { display: none !important; }` so we also need the `!important` here to be able to override the default hidden behavior on the sphinx rendered scikit-learn.org. See: https://github.com/scikit-learn/scikit-learn/issues/21755 */display: inline-block !important;position: relative;}#sk-container-id-13 div.sk-text-repr-fallback {display: none;}</style><div id=\"sk-container-id-13\" class=\"sk-top-container\"><div class=\"sk-text-repr-fallback\"><pre>Lasso(alpha=0.001, max_iter=10000, random_state=42)</pre><b>In a Jupyter environment, please rerun this cell to show the HTML representation or trust the notebook. <br />On GitHub, the HTML representation is unable to render, please try loading this page with nbviewer.org.</b></div><div class=\"sk-container\" hidden><div class=\"sk-item\"><div class=\"sk-estimator sk-toggleable\"><input class=\"sk-toggleable__control sk-hidden--visually\" id=\"sk-estimator-id-21\" type=\"checkbox\" checked><label for=\"sk-estimator-id-21\" class=\"sk-toggleable__label sk-toggleable__label-arrow\">Lasso</label><div class=\"sk-toggleable__content\"><pre>Lasso(alpha=0.001, max_iter=10000, random_state=42)</pre></div></div></div></div></div>"
      ],
      "text/plain": [
       "Lasso(alpha=0.001, max_iter=10000, random_state=42)"
      ]
     },
     "execution_count": 91,
     "metadata": {},
     "output_type": "execute_result"
    }
   ],
   "source": [
    "training_model = LassoR(alpha=0.001, random_state=42, max_iter=10000)\n",
    "training_model"
   ]
  },
  {
   "cell_type": "code",
   "execution_count": 92,
   "id": "6ed9f5e3",
   "metadata": {
    "execution": {
     "iopub.execute_input": "2025-08-08T21:37:29.283318Z",
     "iopub.status.busy": "2025-08-08T21:37:29.282996Z",
     "iopub.status.idle": "2025-08-08T21:37:30.966817Z",
     "shell.execute_reply": "2025-08-08T21:37:30.966057Z"
    },
    "id": "e8abf859",
    "papermill": {
     "duration": 2.413261,
     "end_time": "2025-08-08T21:37:30.969467",
     "exception": false,
     "start_time": "2025-08-08T21:37:28.556206",
     "status": "completed"
    },
    "tags": []
   },
   "outputs": [
    {
     "name": "stdout",
     "output_type": "stream",
     "text": [
      "CPU times: user 5.08 s, sys: 0 ns, total: 5.08 s\n",
      "Wall time: 1.68 s\n"
     ]
    },
    {
     "data": {
      "text/html": [
       "<style>#sk-container-id-14 {color: black;background-color: white;}#sk-container-id-14 pre{padding: 0;}#sk-container-id-14 div.sk-toggleable {background-color: white;}#sk-container-id-14 label.sk-toggleable__label {cursor: pointer;display: block;width: 100%;margin-bottom: 0;padding: 0.3em;box-sizing: border-box;text-align: center;}#sk-container-id-14 label.sk-toggleable__label-arrow:before {content: \"▸\";float: left;margin-right: 0.25em;color: #696969;}#sk-container-id-14 label.sk-toggleable__label-arrow:hover:before {color: black;}#sk-container-id-14 div.sk-estimator:hover label.sk-toggleable__label-arrow:before {color: black;}#sk-container-id-14 div.sk-toggleable__content {max-height: 0;max-width: 0;overflow: hidden;text-align: left;background-color: #f0f8ff;}#sk-container-id-14 div.sk-toggleable__content pre {margin: 0.2em;color: black;border-radius: 0.25em;background-color: #f0f8ff;}#sk-container-id-14 input.sk-toggleable__control:checked~div.sk-toggleable__content {max-height: 200px;max-width: 100%;overflow: auto;}#sk-container-id-14 input.sk-toggleable__control:checked~label.sk-toggleable__label-arrow:before {content: \"▾\";}#sk-container-id-14 div.sk-estimator input.sk-toggleable__control:checked~label.sk-toggleable__label {background-color: #d4ebff;}#sk-container-id-14 div.sk-label input.sk-toggleable__control:checked~label.sk-toggleable__label {background-color: #d4ebff;}#sk-container-id-14 input.sk-hidden--visually {border: 0;clip: rect(1px 1px 1px 1px);clip: rect(1px, 1px, 1px, 1px);height: 1px;margin: -1px;overflow: hidden;padding: 0;position: absolute;width: 1px;}#sk-container-id-14 div.sk-estimator {font-family: monospace;background-color: #f0f8ff;border: 1px dotted black;border-radius: 0.25em;box-sizing: border-box;margin-bottom: 0.5em;}#sk-container-id-14 div.sk-estimator:hover {background-color: #d4ebff;}#sk-container-id-14 div.sk-parallel-item::after {content: \"\";width: 100%;border-bottom: 1px solid gray;flex-grow: 1;}#sk-container-id-14 div.sk-label:hover label.sk-toggleable__label {background-color: #d4ebff;}#sk-container-id-14 div.sk-serial::before {content: \"\";position: absolute;border-left: 1px solid gray;box-sizing: border-box;top: 0;bottom: 0;left: 50%;z-index: 0;}#sk-container-id-14 div.sk-serial {display: flex;flex-direction: column;align-items: center;background-color: white;padding-right: 0.2em;padding-left: 0.2em;position: relative;}#sk-container-id-14 div.sk-item {position: relative;z-index: 1;}#sk-container-id-14 div.sk-parallel {display: flex;align-items: stretch;justify-content: center;background-color: white;position: relative;}#sk-container-id-14 div.sk-item::before, #sk-container-id-14 div.sk-parallel-item::before {content: \"\";position: absolute;border-left: 1px solid gray;box-sizing: border-box;top: 0;bottom: 0;left: 50%;z-index: -1;}#sk-container-id-14 div.sk-parallel-item {display: flex;flex-direction: column;z-index: 1;position: relative;background-color: white;}#sk-container-id-14 div.sk-parallel-item:first-child::after {align-self: flex-end;width: 50%;}#sk-container-id-14 div.sk-parallel-item:last-child::after {align-self: flex-start;width: 50%;}#sk-container-id-14 div.sk-parallel-item:only-child::after {width: 0;}#sk-container-id-14 div.sk-dashed-wrapped {border: 1px dashed gray;margin: 0 0.4em 0.5em 0.4em;box-sizing: border-box;padding-bottom: 0.4em;background-color: white;}#sk-container-id-14 div.sk-label label {font-family: monospace;font-weight: bold;display: inline-block;line-height: 1.2em;}#sk-container-id-14 div.sk-label-container {text-align: center;}#sk-container-id-14 div.sk-container {/* jupyter's `normalize.less` sets `[hidden] { display: none; }` but bootstrap.min.css set `[hidden] { display: none !important; }` so we also need the `!important` here to be able to override the default hidden behavior on the sphinx rendered scikit-learn.org. See: https://github.com/scikit-learn/scikit-learn/issues/21755 */display: inline-block !important;position: relative;}#sk-container-id-14 div.sk-text-repr-fallback {display: none;}</style><div id=\"sk-container-id-14\" class=\"sk-top-container\"><div class=\"sk-text-repr-fallback\"><pre>Lasso(alpha=0.001, max_iter=10000, random_state=42)</pre><b>In a Jupyter environment, please rerun this cell to show the HTML representation or trust the notebook. <br />On GitHub, the HTML representation is unable to render, please try loading this page with nbviewer.org.</b></div><div class=\"sk-container\" hidden><div class=\"sk-item\"><div class=\"sk-estimator sk-toggleable\"><input class=\"sk-toggleable__control sk-hidden--visually\" id=\"sk-estimator-id-22\" type=\"checkbox\" checked><label for=\"sk-estimator-id-22\" class=\"sk-toggleable__label sk-toggleable__label-arrow\">Lasso</label><div class=\"sk-toggleable__content\"><pre>Lasso(alpha=0.001, max_iter=10000, random_state=42)</pre></div></div></div></div></div>"
      ],
      "text/plain": [
       "Lasso(alpha=0.001, max_iter=10000, random_state=42)"
      ]
     },
     "execution_count": 92,
     "metadata": {},
     "output_type": "execute_result"
    }
   ],
   "source": [
    "%%time\n",
    "training_model.fit(X_train, y_train)"
   ]
  },
  {
   "cell_type": "code",
   "execution_count": 93,
   "id": "26d13964",
   "metadata": {
    "execution": {
     "iopub.execute_input": "2025-08-08T21:37:32.449783Z",
     "iopub.status.busy": "2025-08-08T21:37:32.449473Z",
     "iopub.status.idle": "2025-08-08T21:37:32.455660Z",
     "shell.execute_reply": "2025-08-08T21:37:32.454935Z"
    },
    "id": "f1683444",
    "papermill": {
     "duration": 0.659827,
     "end_time": "2025-08-08T21:37:32.457009",
     "exception": false,
     "start_time": "2025-08-08T21:37:31.797182",
     "status": "completed"
    },
    "tags": []
   },
   "outputs": [
    {
     "data": {
      "text/plain": [
       "array([ -0.8009908 ,  75.47846596,  -1.18619485, ..., 208.05348963,\n",
       "         0.96365287,  -0.58332142])"
      ]
     },
     "execution_count": 93,
     "metadata": {},
     "output_type": "execute_result"
    }
   ],
   "source": [
    "y_pred = training_model.predict(X_test)\n",
    "y_pred"
   ]
  },
  {
   "cell_type": "code",
   "execution_count": 94,
   "id": "ea978857",
   "metadata": {
    "execution": {
     "iopub.execute_input": "2025-08-08T21:37:33.826616Z",
     "iopub.status.busy": "2025-08-08T21:37:33.826318Z",
     "iopub.status.idle": "2025-08-08T21:37:33.833161Z",
     "shell.execute_reply": "2025-08-08T21:37:33.832332Z"
    },
    "id": "86268617",
    "papermill": {
     "duration": 0.675623,
     "end_time": "2025-08-08T21:37:33.834662",
     "exception": false,
     "start_time": "2025-08-08T21:37:33.159039",
     "status": "completed"
    },
    "tags": []
   },
   "outputs": [
    {
     "data": {
      "text/plain": [
       "5158       0.00\n",
       "3831     105.26\n",
       "5117       0.00\n",
       "6326     758.39\n",
       "11359    135.87\n",
       "          ...  \n",
       "10290     74.58\n",
       "13995      0.00\n",
       "9665     241.81\n",
       "2276       0.00\n",
       "4174       0.00\n",
       "Name: SolarRadiation, Length: 2924, dtype: float64"
      ]
     },
     "execution_count": 94,
     "metadata": {},
     "output_type": "execute_result"
    }
   ],
   "source": [
    "y_test"
   ]
  },
  {
   "cell_type": "code",
   "execution_count": 95,
   "id": "adb4eda9",
   "metadata": {
    "execution": {
     "iopub.execute_input": "2025-08-08T21:37:35.269142Z",
     "iopub.status.busy": "2025-08-08T21:37:35.268801Z",
     "iopub.status.idle": "2025-08-08T21:37:35.276014Z",
     "shell.execute_reply": "2025-08-08T21:37:35.275201Z"
    },
    "id": "f43c0094",
    "papermill": {
     "duration": 0.659418,
     "end_time": "2025-08-08T21:37:35.277369",
     "exception": false,
     "start_time": "2025-08-08T21:37:34.617951",
     "status": "completed"
    },
    "tags": []
   },
   "outputs": [],
   "source": [
    "mse = mean_squared_error(y_test, y_pred)\n",
    "mae = mean_absolute_error(y_test, y_pred)\n",
    "r2 = r2_score(y_test, y_pred)\n",
    "rmse = math.sqrt(mse)"
   ]
  },
  {
   "cell_type": "code",
   "execution_count": 96,
   "id": "041f65ad",
   "metadata": {
    "execution": {
     "iopub.execute_input": "2025-08-08T21:37:36.672059Z",
     "iopub.status.busy": "2025-08-08T21:37:36.671726Z",
     "iopub.status.idle": "2025-08-08T21:37:36.676626Z",
     "shell.execute_reply": "2025-08-08T21:37:36.675682Z"
    },
    "id": "8ca4cef7",
    "papermill": {
     "duration": 0.757664,
     "end_time": "2025-08-08T21:37:36.678192",
     "exception": false,
     "start_time": "2025-08-08T21:37:35.920528",
     "status": "completed"
    },
    "tags": []
   },
   "outputs": [
    {
     "name": "stdout",
     "output_type": "stream",
     "text": [
      "MSE Score: 315.8734726987057\n",
      "MAE Score: 11.550253752213187\n",
      "R2 Score: 0.9966410205281505\n",
      "RMSE Score: 17.77282961992\n"
     ]
    }
   ],
   "source": [
    "print(\"MSE Score:\", mse)\n",
    "print(\"MAE Score:\", mae)\n",
    "print(\"R2 Score:\", r2)\n",
    "print(\"RMSE Score:\", rmse)"
   ]
  },
  {
   "cell_type": "code",
   "execution_count": 97,
   "id": "f4c737dc",
   "metadata": {
    "execution": {
     "iopub.execute_input": "2025-08-08T21:37:37.982785Z",
     "iopub.status.busy": "2025-08-08T21:37:37.981805Z",
     "iopub.status.idle": "2025-08-08T21:37:37.995436Z",
     "shell.execute_reply": "2025-08-08T21:37:37.994345Z"
    },
    "id": "0ed50a59",
    "papermill": {
     "duration": 0.666107,
     "end_time": "2025-08-08T21:37:37.996779",
     "exception": false,
     "start_time": "2025-08-08T21:37:37.330672",
     "status": "completed"
    },
    "tags": []
   },
   "outputs": [
    {
     "name": "stdout",
     "output_type": "stream",
     "text": [
      "✅ Regression model improved with same performance but fewer features!\n",
      "   MSE: 315.856750 ≈ 315.873473 (similar)\n",
      "   R²:  0.996641 ≈ 0.996641 (similar)\n",
      "   Features: 27 → 24 (🎯 3 fewer features!)\n",
      "💾 Registry updated: Model_Training_History/History_Regression.csv\n"
     ]
    }
   ],
   "source": [
    "regression_params = {\n",
    "    'model_name': model_name_for_saving,\n",
    "    'scaler_name': \"StandardScaler\",\n",
    "    'features_list': feature_columns_for_saving,\n",
    "    'target_column': target_name_for_saving,\n",
    "    'mse': mse,\n",
    "    'mae': mae,\n",
    "    'rmse': rmse,\n",
    "    'r2': r2,\n",
    "    'parameters': json.dumps(training_model.get_params())\n",
    "}\n",
    "save_model_performance_if_better('regression', regression_params)"
   ]
  },
  {
   "cell_type": "markdown",
   "id": "07fa5eb9",
   "metadata": {
    "id": "a0f4fb29",
    "papermill": {
     "duration": 0.646518,
     "end_time": "2025-08-08T21:37:39.389503",
     "exception": false,
     "start_time": "2025-08-08T21:37:38.742985",
     "status": "completed"
    },
    "tags": []
   },
   "source": [
    "#### Tuning with Grid Search"
   ]
  },
  {
   "cell_type": "code",
   "execution_count": 98,
   "id": "78416513",
   "metadata": {
    "execution": {
     "iopub.execute_input": "2025-08-08T21:37:40.793744Z",
     "iopub.status.busy": "2025-08-08T21:37:40.793428Z",
     "iopub.status.idle": "2025-08-08T21:37:40.798187Z",
     "shell.execute_reply": "2025-08-08T21:37:40.797256Z"
    },
    "id": "60368900",
    "papermill": {
     "duration": 0.761922,
     "end_time": "2025-08-08T21:37:40.799746",
     "exception": false,
     "start_time": "2025-08-08T21:37:40.037824",
     "status": "completed"
    },
    "tags": []
   },
   "outputs": [],
   "source": [
    "grid_search = GridSearchCV(\n",
    "    LassoR(random_state=42),\n",
    "    grid_param,\n",
    "    cv=5,\n",
    "    scoring='neg_mean_squared_error',\n",
    "    n_jobs=-1, # allow parallel processing, you cant use your own laptop while this runs\n",
    "    verbose=1\n",
    ")"
   ]
  },
  {
   "cell_type": "code",
   "execution_count": null,
   "id": "1678b53f",
   "metadata": {
    "execution": {
     "iopub.execute_input": "2025-08-08T21:37:42.146058Z",
     "iopub.status.busy": "2025-08-08T21:37:42.145729Z",
     "iopub.status.idle": "2025-08-08T22:36:34.597691Z",
     "shell.execute_reply": "2025-08-08T22:36:34.596785Z"
    },
    "id": "bcce3344",
    "papermill": {
     "duration": 3534.006053,
     "end_time": "2025-08-08T22:36:35.479426",
     "exception": false,
     "start_time": "2025-08-08T21:37:41.473373",
     "status": "completed"
    },
    "tags": []
   },
   "outputs": [],
   "source": [
    "%%time\n",
    "print(\"Starting hyperparameter tuning...\")\n",
    "grid_search.fit(X_train, y_train)"
   ]
  },
  {
   "cell_type": "code",
   "execution_count": 100,
   "id": "3bda1833",
   "metadata": {
    "execution": {
     "iopub.execute_input": "2025-08-08T22:36:37.354024Z",
     "iopub.status.busy": "2025-08-08T22:36:37.353674Z",
     "iopub.status.idle": "2025-08-08T22:36:37.359801Z",
     "shell.execute_reply": "2025-08-08T22:36:37.358926Z"
    },
    "id": "133e3db4",
    "papermill": {
     "duration": 0.893888,
     "end_time": "2025-08-08T22:36:37.361270",
     "exception": false,
     "start_time": "2025-08-08T22:36:36.467382",
     "status": "completed"
    },
    "tags": []
   },
   "outputs": [
    {
     "name": "stdout",
     "output_type": "stream",
     "text": [
      "TUNING RESULTS\n",
      "==================================================\n",
      "Best Parameters: {'alpha': 0.01, 'fit_intercept': True, 'max_iter': 1000, 'positive': True, 'precompute': True, 'selection': 'random', 'tol': 0.0001, 'warm_start': False}\n",
      "Best Cross-Validation Score (Negative MSE): -304.2097932100952\n",
      "Best Cross-Validation Score (MSE): 304.2097932100952\n",
      "Best Cross-Validation Score (RMSE): 17.441610969463092\n"
     ]
    }
   ],
   "source": [
    "print(\"TUNING RESULTS\")\n",
    "print(\"=\"*50)\n",
    "print(\"Best Parameters:\", grid_search.best_params_)\n",
    "print(\"Best Cross-Validation Score (Negative MSE):\", grid_search.best_score_)\n",
    "print(\"Best Cross-Validation Score (MSE):\", -grid_search.best_score_)\n",
    "print(\"Best Cross-Validation Score (RMSE):\", math.sqrt(-grid_search.best_score_))"
   ]
  },
  {
   "cell_type": "code",
   "execution_count": 101,
   "id": "f26a0157",
   "metadata": {
    "execution": {
     "iopub.execute_input": "2025-08-08T22:36:39.334479Z",
     "iopub.status.busy": "2025-08-08T22:36:39.334065Z",
     "iopub.status.idle": "2025-08-08T22:36:39.339910Z",
     "shell.execute_reply": "2025-08-08T22:36:39.339110Z"
    },
    "id": "84973b20",
    "papermill": {
     "duration": 1.084443,
     "end_time": "2025-08-08T22:36:39.341194",
     "exception": false,
     "start_time": "2025-08-08T22:36:38.256751",
     "status": "completed"
    },
    "tags": []
   },
   "outputs": [],
   "source": [
    "grid_search_best_model = grid_search.best_estimator_\n",
    "y_pred = grid_search_best_model.predict(X_test)"
   ]
  },
  {
   "cell_type": "code",
   "execution_count": 102,
   "id": "5f51a869",
   "metadata": {
    "execution": {
     "iopub.execute_input": "2025-08-08T22:36:41.134641Z",
     "iopub.status.busy": "2025-08-08T22:36:41.134321Z",
     "iopub.status.idle": "2025-08-08T22:36:41.141556Z",
     "shell.execute_reply": "2025-08-08T22:36:41.140844Z"
    },
    "id": "7a11d65b",
    "papermill": {
     "duration": 0.918433,
     "end_time": "2025-08-08T22:36:41.142864",
     "exception": false,
     "start_time": "2025-08-08T22:36:40.224431",
     "status": "completed"
    },
    "tags": []
   },
   "outputs": [],
   "source": [
    "mse_grid_search = mean_squared_error(y_test, y_pred)\n",
    "mae_grid_search = mean_absolute_error(y_test, y_pred)\n",
    "r2_grid_search = r2_score(y_test, y_pred)\n",
    "rmse_grid_search = math.sqrt(mse_grid_search)"
   ]
  },
  {
   "cell_type": "code",
   "execution_count": 103,
   "id": "f26f1bb5",
   "metadata": {
    "execution": {
     "iopub.execute_input": "2025-08-08T22:36:43.090976Z",
     "iopub.status.busy": "2025-08-08T22:36:43.090578Z",
     "iopub.status.idle": "2025-08-08T22:36:43.095780Z",
     "shell.execute_reply": "2025-08-08T22:36:43.094986Z"
    },
    "id": "574e4789",
    "papermill": {
     "duration": 0.879655,
     "end_time": "2025-08-08T22:36:43.097109",
     "exception": false,
     "start_time": "2025-08-08T22:36:42.217454",
     "status": "completed"
    },
    "tags": []
   },
   "outputs": [
    {
     "name": "stdout",
     "output_type": "stream",
     "text": [
      "MSE Score: 316.20274858799064\n",
      "MAE Score: 11.564077160435842\n",
      "R2 Score: 0.9966375190281884\n",
      "RMSE Score: 17.78209066977195\n"
     ]
    }
   ],
   "source": [
    "print(\"MSE Score:\", mse_grid_search)\n",
    "print(\"MAE Score:\", mae_grid_search)\n",
    "print(\"R2 Score:\", r2_grid_search)\n",
    "print(\"RMSE Score:\", rmse_grid_search)"
   ]
  },
  {
   "cell_type": "code",
   "execution_count": 104,
   "id": "fe4d3086",
   "metadata": {
    "execution": {
     "iopub.execute_input": "2025-08-08T22:36:44.976201Z",
     "iopub.status.busy": "2025-08-08T22:36:44.975219Z",
     "iopub.status.idle": "2025-08-08T22:36:44.989217Z",
     "shell.execute_reply": "2025-08-08T22:36:44.988290Z"
    },
    "id": "c967311d",
    "papermill": {
     "duration": 0.891938,
     "end_time": "2025-08-08T22:36:44.990574",
     "exception": false,
     "start_time": "2025-08-08T22:36:44.098636",
     "status": "completed"
    },
    "tags": []
   },
   "outputs": [
    {
     "name": "stdout",
     "output_type": "stream",
     "text": [
      "✅ Regression model improved with same performance but fewer features!\n",
      "   MSE: 316.186444 ≈ 316.202749 (similar)\n",
      "   R²:  0.996638 ≈ 0.996638 (similar)\n",
      "   Features: 27 → 24 (🎯 3 fewer features!)\n",
      "💾 Registry updated: Model_Training_History/History_Regression.csv\n"
     ]
    }
   ],
   "source": [
    "regression_params = {\n",
    "    'model_name': model_name_for_saving + \" Tuned\",\n",
    "    'scaler_name': \"StandardScaler\",\n",
    "    'features_list': feature_columns_for_saving,\n",
    "    'target_column': target_name_for_saving,\n",
    "    'mse': mse_grid_search,\n",
    "    'mae': mae_grid_search,\n",
    "    'rmse': rmse_grid_search,\n",
    "    'r2': r2_grid_search,\n",
    "    'parameters' : json.dumps({\n",
    "        \"best_params\": grid_search.best_params_,\n",
    "        \"cv_score\": grid_search.best_score_,\n",
    "        \"all_params\": grid_search_best_model.get_params()\n",
    "    })\n",
    "}\n",
    "save_model_performance_if_better('regression', regression_params)"
   ]
  },
  {
   "cell_type": "markdown",
   "id": "ddf12772",
   "metadata": {
    "id": "2adb8be7",
    "papermill": {
     "duration": 0.896528,
     "end_time": "2025-08-08T22:36:46.889617",
     "exception": false,
     "start_time": "2025-08-08T22:36:45.993089",
     "status": "completed"
    },
    "tags": []
   },
   "source": [
    "### Robust Scaler"
   ]
  },
  {
   "cell_type": "code",
   "execution_count": 105,
   "id": "780f9d1f",
   "metadata": {
    "execution": {
     "iopub.execute_input": "2025-08-08T22:36:48.767472Z",
     "iopub.status.busy": "2025-08-08T22:36:48.767170Z",
     "iopub.status.idle": "2025-08-08T22:36:48.793308Z",
     "shell.execute_reply": "2025-08-08T22:36:48.792467Z"
    },
    "id": "bcfcbdac",
    "papermill": {
     "duration": 1.026833,
     "end_time": "2025-08-08T22:36:48.794945",
     "exception": false,
     "start_time": "2025-08-08T22:36:47.768112",
     "status": "completed"
    },
    "tags": []
   },
   "outputs": [],
   "source": [
    "scaler = RobustScaler()\n",
    "X_train = scaler.fit_transform(X_train_raw)\n",
    "X_test = scaler.transform(X_test_raw)"
   ]
  },
  {
   "cell_type": "code",
   "execution_count": 106,
   "id": "6036403d",
   "metadata": {
    "execution": {
     "iopub.execute_input": "2025-08-08T22:36:50.575157Z",
     "iopub.status.busy": "2025-08-08T22:36:50.574793Z",
     "iopub.status.idle": "2025-08-08T22:36:50.580809Z",
     "shell.execute_reply": "2025-08-08T22:36:50.580079Z"
    },
    "id": "ce7a462e",
    "papermill": {
     "duration": 0.884761,
     "end_time": "2025-08-08T22:36:50.582163",
     "exception": false,
     "start_time": "2025-08-08T22:36:49.697402",
     "status": "completed"
    },
    "tags": []
   },
   "outputs": [
    {
     "data": {
      "text/plain": [
       "array([[ 0.6       , -0.16666667,  0.        , ..., -0.03738547,\n",
       "         1.44008264,  8.87596899],\n",
       "       [ 1.        ,  0.33333333,  1.        , ..., -0.84268652,\n",
       "         0.62603306,  0.        ],\n",
       "       [-0.8       , -1.        ,  0.        , ..., -0.84268652,\n",
       "         0.        ,  0.        ],\n",
       "       ...,\n",
       "       [ 0.4       , -0.16666667,  0.        , ...,  0.5899051 ,\n",
       "         0.6322314 ,  0.75193798],\n",
       "       [-1.        ,  0.75      ,  0.        , ..., -0.84268652,\n",
       "         0.        ,  0.        ],\n",
       "       [ 0.6       , -0.33333333,  0.        , ...,  0.61755563,\n",
       "         0.59917355,  7.5       ]])"
      ]
     },
     "execution_count": 106,
     "metadata": {},
     "output_type": "execute_result"
    }
   ],
   "source": [
    "X_train"
   ]
  },
  {
   "cell_type": "code",
   "execution_count": 107,
   "id": "750212fe",
   "metadata": {
    "execution": {
     "iopub.execute_input": "2025-08-08T22:36:52.464679Z",
     "iopub.status.busy": "2025-08-08T22:36:52.464363Z",
     "iopub.status.idle": "2025-08-08T22:36:52.471067Z",
     "shell.execute_reply": "2025-08-08T22:36:52.470113Z"
    },
    "id": "8b66f6cb",
    "papermill": {
     "duration": 0.888709,
     "end_time": "2025-08-08T22:36:52.472425",
     "exception": false,
     "start_time": "2025-08-08T22:36:51.583716",
     "status": "completed"
    },
    "tags": []
   },
   "outputs": [
    {
     "data": {
      "text/plain": [
       "array([[ 4.00000000e-01,  8.33333333e-01,  0.00000000e+00, ...,\n",
       "         6.20009817e-01,  0.00000000e+00,  0.00000000e+00],\n",
       "       [ 0.00000000e+00,  2.50000000e-01,  1.00000000e+00, ...,\n",
       "         7.40592277e-01,  1.52892562e-01,  0.00000000e+00],\n",
       "       [ 4.00000000e-01, -5.83333333e-01,  0.00000000e+00, ...,\n",
       "         7.82804319e-01,  0.00000000e+00,  0.00000000e+00],\n",
       "       ...,\n",
       "       [-8.00000000e-01,  4.16666667e-01,  1.00000000e+00, ...,\n",
       "        -8.40559555e-01,  4.19421488e-01,  0.00000000e+00],\n",
       "       [-4.00000000e-01,  6.66666667e-01,  0.00000000e+00, ...,\n",
       "        -8.42686518e-01,  0.00000000e+00,  6.67829457e+00],\n",
       "       [ 0.00000000e+00,  8.33333333e-01,  0.00000000e+00, ...,\n",
       "         1.71793194e-03,  0.00000000e+00,  0.00000000e+00]])"
      ]
     },
     "execution_count": 107,
     "metadata": {},
     "output_type": "execute_result"
    }
   ],
   "source": [
    "X_test"
   ]
  },
  {
   "cell_type": "markdown",
   "id": "86e5a7e7",
   "metadata": {
    "id": "c7206abc",
    "papermill": {
     "duration": 0.870008,
     "end_time": "2025-08-08T22:36:54.336217",
     "exception": false,
     "start_time": "2025-08-08T22:36:53.466209",
     "status": "completed"
    },
    "tags": []
   },
   "source": [
    "#### Default Parameters"
   ]
  },
  {
   "cell_type": "code",
   "execution_count": 108,
   "id": "d5453732",
   "metadata": {
    "execution": {
     "iopub.execute_input": "2025-08-08T22:36:56.195577Z",
     "iopub.status.busy": "2025-08-08T22:36:56.195272Z",
     "iopub.status.idle": "2025-08-08T22:36:56.201791Z",
     "shell.execute_reply": "2025-08-08T22:36:56.200962Z"
    },
    "id": "ea9711f9",
    "papermill": {
     "duration": 0.997728,
     "end_time": "2025-08-08T22:36:56.203055",
     "exception": false,
     "start_time": "2025-08-08T22:36:55.205327",
     "status": "completed"
    },
    "tags": []
   },
   "outputs": [
    {
     "data": {
      "text/html": [
       "<style>#sk-container-id-16 {color: black;background-color: white;}#sk-container-id-16 pre{padding: 0;}#sk-container-id-16 div.sk-toggleable {background-color: white;}#sk-container-id-16 label.sk-toggleable__label {cursor: pointer;display: block;width: 100%;margin-bottom: 0;padding: 0.3em;box-sizing: border-box;text-align: center;}#sk-container-id-16 label.sk-toggleable__label-arrow:before {content: \"▸\";float: left;margin-right: 0.25em;color: #696969;}#sk-container-id-16 label.sk-toggleable__label-arrow:hover:before {color: black;}#sk-container-id-16 div.sk-estimator:hover label.sk-toggleable__label-arrow:before {color: black;}#sk-container-id-16 div.sk-toggleable__content {max-height: 0;max-width: 0;overflow: hidden;text-align: left;background-color: #f0f8ff;}#sk-container-id-16 div.sk-toggleable__content pre {margin: 0.2em;color: black;border-radius: 0.25em;background-color: #f0f8ff;}#sk-container-id-16 input.sk-toggleable__control:checked~div.sk-toggleable__content {max-height: 200px;max-width: 100%;overflow: auto;}#sk-container-id-16 input.sk-toggleable__control:checked~label.sk-toggleable__label-arrow:before {content: \"▾\";}#sk-container-id-16 div.sk-estimator input.sk-toggleable__control:checked~label.sk-toggleable__label {background-color: #d4ebff;}#sk-container-id-16 div.sk-label input.sk-toggleable__control:checked~label.sk-toggleable__label {background-color: #d4ebff;}#sk-container-id-16 input.sk-hidden--visually {border: 0;clip: rect(1px 1px 1px 1px);clip: rect(1px, 1px, 1px, 1px);height: 1px;margin: -1px;overflow: hidden;padding: 0;position: absolute;width: 1px;}#sk-container-id-16 div.sk-estimator {font-family: monospace;background-color: #f0f8ff;border: 1px dotted black;border-radius: 0.25em;box-sizing: border-box;margin-bottom: 0.5em;}#sk-container-id-16 div.sk-estimator:hover {background-color: #d4ebff;}#sk-container-id-16 div.sk-parallel-item::after {content: \"\";width: 100%;border-bottom: 1px solid gray;flex-grow: 1;}#sk-container-id-16 div.sk-label:hover label.sk-toggleable__label {background-color: #d4ebff;}#sk-container-id-16 div.sk-serial::before {content: \"\";position: absolute;border-left: 1px solid gray;box-sizing: border-box;top: 0;bottom: 0;left: 50%;z-index: 0;}#sk-container-id-16 div.sk-serial {display: flex;flex-direction: column;align-items: center;background-color: white;padding-right: 0.2em;padding-left: 0.2em;position: relative;}#sk-container-id-16 div.sk-item {position: relative;z-index: 1;}#sk-container-id-16 div.sk-parallel {display: flex;align-items: stretch;justify-content: center;background-color: white;position: relative;}#sk-container-id-16 div.sk-item::before, #sk-container-id-16 div.sk-parallel-item::before {content: \"\";position: absolute;border-left: 1px solid gray;box-sizing: border-box;top: 0;bottom: 0;left: 50%;z-index: -1;}#sk-container-id-16 div.sk-parallel-item {display: flex;flex-direction: column;z-index: 1;position: relative;background-color: white;}#sk-container-id-16 div.sk-parallel-item:first-child::after {align-self: flex-end;width: 50%;}#sk-container-id-16 div.sk-parallel-item:last-child::after {align-self: flex-start;width: 50%;}#sk-container-id-16 div.sk-parallel-item:only-child::after {width: 0;}#sk-container-id-16 div.sk-dashed-wrapped {border: 1px dashed gray;margin: 0 0.4em 0.5em 0.4em;box-sizing: border-box;padding-bottom: 0.4em;background-color: white;}#sk-container-id-16 div.sk-label label {font-family: monospace;font-weight: bold;display: inline-block;line-height: 1.2em;}#sk-container-id-16 div.sk-label-container {text-align: center;}#sk-container-id-16 div.sk-container {/* jupyter's `normalize.less` sets `[hidden] { display: none; }` but bootstrap.min.css set `[hidden] { display: none !important; }` so we also need the `!important` here to be able to override the default hidden behavior on the sphinx rendered scikit-learn.org. See: https://github.com/scikit-learn/scikit-learn/issues/21755 */display: inline-block !important;position: relative;}#sk-container-id-16 div.sk-text-repr-fallback {display: none;}</style><div id=\"sk-container-id-16\" class=\"sk-top-container\"><div class=\"sk-text-repr-fallback\"><pre>Lasso(alpha=0.001, max_iter=10000, random_state=42)</pre><b>In a Jupyter environment, please rerun this cell to show the HTML representation or trust the notebook. <br />On GitHub, the HTML representation is unable to render, please try loading this page with nbviewer.org.</b></div><div class=\"sk-container\" hidden><div class=\"sk-item\"><div class=\"sk-estimator sk-toggleable\"><input class=\"sk-toggleable__control sk-hidden--visually\" id=\"sk-estimator-id-26\" type=\"checkbox\" checked><label for=\"sk-estimator-id-26\" class=\"sk-toggleable__label sk-toggleable__label-arrow\">Lasso</label><div class=\"sk-toggleable__content\"><pre>Lasso(alpha=0.001, max_iter=10000, random_state=42)</pre></div></div></div></div></div>"
      ],
      "text/plain": [
       "Lasso(alpha=0.001, max_iter=10000, random_state=42)"
      ]
     },
     "execution_count": 108,
     "metadata": {},
     "output_type": "execute_result"
    }
   ],
   "source": [
    "training_model = LassoR(alpha=0.001, random_state=42, max_iter=10000)\n",
    "training_model"
   ]
  },
  {
   "cell_type": "code",
   "execution_count": 109,
   "id": "dce095ea",
   "metadata": {
    "execution": {
     "iopub.execute_input": "2025-08-08T22:36:57.951050Z",
     "iopub.status.busy": "2025-08-08T22:36:57.950723Z",
     "iopub.status.idle": "2025-08-08T22:36:58.046034Z",
     "shell.execute_reply": "2025-08-08T22:36:58.043655Z"
    },
    "id": "825c43e1",
    "papermill": {
     "duration": 0.983059,
     "end_time": "2025-08-08T22:36:58.048561",
     "exception": false,
     "start_time": "2025-08-08T22:36:57.065502",
     "status": "completed"
    },
    "tags": []
   },
   "outputs": [
    {
     "name": "stdout",
     "output_type": "stream",
     "text": [
      "CPU times: user 334 ms, sys: 0 ns, total: 334 ms\n",
      "Wall time: 86.7 ms\n"
     ]
    },
    {
     "data": {
      "text/html": [
       "<style>#sk-container-id-17 {color: black;background-color: white;}#sk-container-id-17 pre{padding: 0;}#sk-container-id-17 div.sk-toggleable {background-color: white;}#sk-container-id-17 label.sk-toggleable__label {cursor: pointer;display: block;width: 100%;margin-bottom: 0;padding: 0.3em;box-sizing: border-box;text-align: center;}#sk-container-id-17 label.sk-toggleable__label-arrow:before {content: \"▸\";float: left;margin-right: 0.25em;color: #696969;}#sk-container-id-17 label.sk-toggleable__label-arrow:hover:before {color: black;}#sk-container-id-17 div.sk-estimator:hover label.sk-toggleable__label-arrow:before {color: black;}#sk-container-id-17 div.sk-toggleable__content {max-height: 0;max-width: 0;overflow: hidden;text-align: left;background-color: #f0f8ff;}#sk-container-id-17 div.sk-toggleable__content pre {margin: 0.2em;color: black;border-radius: 0.25em;background-color: #f0f8ff;}#sk-container-id-17 input.sk-toggleable__control:checked~div.sk-toggleable__content {max-height: 200px;max-width: 100%;overflow: auto;}#sk-container-id-17 input.sk-toggleable__control:checked~label.sk-toggleable__label-arrow:before {content: \"▾\";}#sk-container-id-17 div.sk-estimator input.sk-toggleable__control:checked~label.sk-toggleable__label {background-color: #d4ebff;}#sk-container-id-17 div.sk-label input.sk-toggleable__control:checked~label.sk-toggleable__label {background-color: #d4ebff;}#sk-container-id-17 input.sk-hidden--visually {border: 0;clip: rect(1px 1px 1px 1px);clip: rect(1px, 1px, 1px, 1px);height: 1px;margin: -1px;overflow: hidden;padding: 0;position: absolute;width: 1px;}#sk-container-id-17 div.sk-estimator {font-family: monospace;background-color: #f0f8ff;border: 1px dotted black;border-radius: 0.25em;box-sizing: border-box;margin-bottom: 0.5em;}#sk-container-id-17 div.sk-estimator:hover {background-color: #d4ebff;}#sk-container-id-17 div.sk-parallel-item::after {content: \"\";width: 100%;border-bottom: 1px solid gray;flex-grow: 1;}#sk-container-id-17 div.sk-label:hover label.sk-toggleable__label {background-color: #d4ebff;}#sk-container-id-17 div.sk-serial::before {content: \"\";position: absolute;border-left: 1px solid gray;box-sizing: border-box;top: 0;bottom: 0;left: 50%;z-index: 0;}#sk-container-id-17 div.sk-serial {display: flex;flex-direction: column;align-items: center;background-color: white;padding-right: 0.2em;padding-left: 0.2em;position: relative;}#sk-container-id-17 div.sk-item {position: relative;z-index: 1;}#sk-container-id-17 div.sk-parallel {display: flex;align-items: stretch;justify-content: center;background-color: white;position: relative;}#sk-container-id-17 div.sk-item::before, #sk-container-id-17 div.sk-parallel-item::before {content: \"\";position: absolute;border-left: 1px solid gray;box-sizing: border-box;top: 0;bottom: 0;left: 50%;z-index: -1;}#sk-container-id-17 div.sk-parallel-item {display: flex;flex-direction: column;z-index: 1;position: relative;background-color: white;}#sk-container-id-17 div.sk-parallel-item:first-child::after {align-self: flex-end;width: 50%;}#sk-container-id-17 div.sk-parallel-item:last-child::after {align-self: flex-start;width: 50%;}#sk-container-id-17 div.sk-parallel-item:only-child::after {width: 0;}#sk-container-id-17 div.sk-dashed-wrapped {border: 1px dashed gray;margin: 0 0.4em 0.5em 0.4em;box-sizing: border-box;padding-bottom: 0.4em;background-color: white;}#sk-container-id-17 div.sk-label label {font-family: monospace;font-weight: bold;display: inline-block;line-height: 1.2em;}#sk-container-id-17 div.sk-label-container {text-align: center;}#sk-container-id-17 div.sk-container {/* jupyter's `normalize.less` sets `[hidden] { display: none; }` but bootstrap.min.css set `[hidden] { display: none !important; }` so we also need the `!important` here to be able to override the default hidden behavior on the sphinx rendered scikit-learn.org. See: https://github.com/scikit-learn/scikit-learn/issues/21755 */display: inline-block !important;position: relative;}#sk-container-id-17 div.sk-text-repr-fallback {display: none;}</style><div id=\"sk-container-id-17\" class=\"sk-top-container\"><div class=\"sk-text-repr-fallback\"><pre>Lasso(alpha=0.001, max_iter=10000, random_state=42)</pre><b>In a Jupyter environment, please rerun this cell to show the HTML representation or trust the notebook. <br />On GitHub, the HTML representation is unable to render, please try loading this page with nbviewer.org.</b></div><div class=\"sk-container\" hidden><div class=\"sk-item\"><div class=\"sk-estimator sk-toggleable\"><input class=\"sk-toggleable__control sk-hidden--visually\" id=\"sk-estimator-id-27\" type=\"checkbox\" checked><label for=\"sk-estimator-id-27\" class=\"sk-toggleable__label sk-toggleable__label-arrow\">Lasso</label><div class=\"sk-toggleable__content\"><pre>Lasso(alpha=0.001, max_iter=10000, random_state=42)</pre></div></div></div></div></div>"
      ],
      "text/plain": [
       "Lasso(alpha=0.001, max_iter=10000, random_state=42)"
      ]
     },
     "execution_count": 109,
     "metadata": {},
     "output_type": "execute_result"
    }
   ],
   "source": [
    "%%time\n",
    "training_model.fit(X_train, y_train)"
   ]
  },
  {
   "cell_type": "code",
   "execution_count": 110,
   "id": "c0a62a5b",
   "metadata": {
    "execution": {
     "iopub.execute_input": "2025-08-08T22:36:59.958567Z",
     "iopub.status.busy": "2025-08-08T22:36:59.958273Z",
     "iopub.status.idle": "2025-08-08T22:36:59.964527Z",
     "shell.execute_reply": "2025-08-08T22:36:59.963806Z"
    },
    "id": "c0ab21a6",
    "papermill": {
     "duration": 0.875774,
     "end_time": "2025-08-08T22:36:59.965841",
     "exception": false,
     "start_time": "2025-08-08T22:36:59.090067",
     "status": "completed"
    },
    "tags": []
   },
   "outputs": [
    {
     "data": {
      "text/plain": [
       "array([ -0.78824947,  75.46419428,  -1.16760573, ..., 208.03732622,\n",
       "         0.97162649,  -0.57221881])"
      ]
     },
     "execution_count": 110,
     "metadata": {},
     "output_type": "execute_result"
    }
   ],
   "source": [
    "y_pred = training_model.predict(X_test)\n",
    "y_pred"
   ]
  },
  {
   "cell_type": "code",
   "execution_count": 111,
   "id": "9087bb40",
   "metadata": {
    "execution": {
     "iopub.execute_input": "2025-08-08T22:37:01.864007Z",
     "iopub.status.busy": "2025-08-08T22:37:01.863679Z",
     "iopub.status.idle": "2025-08-08T22:37:01.871020Z",
     "shell.execute_reply": "2025-08-08T22:37:01.870107Z"
    },
    "id": "fd243033",
    "papermill": {
     "duration": 1.032261,
     "end_time": "2025-08-08T22:37:01.872474",
     "exception": false,
     "start_time": "2025-08-08T22:37:00.840213",
     "status": "completed"
    },
    "tags": []
   },
   "outputs": [
    {
     "data": {
      "text/plain": [
       "5158       0.00\n",
       "3831     105.26\n",
       "5117       0.00\n",
       "6326     758.39\n",
       "11359    135.87\n",
       "          ...  \n",
       "10290     74.58\n",
       "13995      0.00\n",
       "9665     241.81\n",
       "2276       0.00\n",
       "4174       0.00\n",
       "Name: SolarRadiation, Length: 2924, dtype: float64"
      ]
     },
     "execution_count": 111,
     "metadata": {},
     "output_type": "execute_result"
    }
   ],
   "source": [
    "y_test"
   ]
  },
  {
   "cell_type": "code",
   "execution_count": 112,
   "id": "1694620f",
   "metadata": {
    "execution": {
     "iopub.execute_input": "2025-08-08T22:37:03.621375Z",
     "iopub.status.busy": "2025-08-08T22:37:03.620726Z",
     "iopub.status.idle": "2025-08-08T22:37:03.627315Z",
     "shell.execute_reply": "2025-08-08T22:37:03.626446Z"
    },
    "id": "fa47d599",
    "papermill": {
     "duration": 0.889376,
     "end_time": "2025-08-08T22:37:03.628719",
     "exception": false,
     "start_time": "2025-08-08T22:37:02.739343",
     "status": "completed"
    },
    "tags": []
   },
   "outputs": [],
   "source": [
    "mse = mean_squared_error(y_test, y_pred)\n",
    "mae = mean_absolute_error(y_test, y_pred)\n",
    "r2 = r2_score(y_test, y_pred)\n",
    "rmse = math.sqrt(mse)"
   ]
  },
  {
   "cell_type": "code",
   "execution_count": 113,
   "id": "2b385d7b",
   "metadata": {
    "execution": {
     "iopub.execute_input": "2025-08-08T22:37:05.488477Z",
     "iopub.status.busy": "2025-08-08T22:37:05.488109Z",
     "iopub.status.idle": "2025-08-08T22:37:05.493403Z",
     "shell.execute_reply": "2025-08-08T22:37:05.492434Z"
    },
    "id": "8cf42652",
    "papermill": {
     "duration": 0.871157,
     "end_time": "2025-08-08T22:37:05.494737",
     "exception": false,
     "start_time": "2025-08-08T22:37:04.623580",
     "status": "completed"
    },
    "tags": []
   },
   "outputs": [
    {
     "name": "stdout",
     "output_type": "stream",
     "text": [
      "MSE Score: 315.8570542593202\n",
      "MAE Score: 11.549117110522298\n",
      "R2 Score: 0.9966411951208455\n",
      "RMSE Score: 17.772367716748384\n"
     ]
    }
   ],
   "source": [
    "print(\"MSE Score:\", mse)\n",
    "print(\"MAE Score:\", mae)\n",
    "print(\"R2 Score:\", r2)\n",
    "print(\"RMSE Score:\", rmse)"
   ]
  },
  {
   "cell_type": "code",
   "execution_count": 114,
   "id": "a84c34b8",
   "metadata": {
    "execution": {
     "iopub.execute_input": "2025-08-08T22:37:07.240735Z",
     "iopub.status.busy": "2025-08-08T22:37:07.240049Z",
     "iopub.status.idle": "2025-08-08T22:37:07.253863Z",
     "shell.execute_reply": "2025-08-08T22:37:07.252990Z"
    },
    "id": "91679cda",
    "papermill": {
     "duration": 0.892139,
     "end_time": "2025-08-08T22:37:07.255391",
     "exception": false,
     "start_time": "2025-08-08T22:37:06.363252",
     "status": "completed"
    },
    "tags": []
   },
   "outputs": [
    {
     "name": "stdout",
     "output_type": "stream",
     "text": [
      "✅ Regression model improved with same performance but fewer features!\n",
      "   MSE: 315.840935 ≈ 315.857054 (similar)\n",
      "   R²:  0.996641 ≈ 0.996641 (similar)\n",
      "   Features: 27 → 24 (🎯 3 fewer features!)\n",
      "💾 Registry updated: Model_Training_History/History_Regression.csv\n"
     ]
    }
   ],
   "source": [
    "regression_params = {\n",
    "    'model_name': model_name_for_saving,\n",
    "    'scaler_name': \"RobustScaler\",\n",
    "    'features_list': feature_columns_for_saving,\n",
    "    'target_column': target_name_for_saving,\n",
    "    'mse': mse,\n",
    "    'mae': mae,\n",
    "    'rmse': rmse,\n",
    "    'r2': r2,\n",
    "    'parameters': json.dumps(training_model.get_params())\n",
    "}\n",
    "save_model_performance_if_better('regression', regression_params)"
   ]
  },
  {
   "cell_type": "markdown",
   "id": "c23edf0b",
   "metadata": {
    "id": "6555611a",
    "papermill": {
     "duration": 0.88218,
     "end_time": "2025-08-08T22:37:09.127708",
     "exception": false,
     "start_time": "2025-08-08T22:37:08.245528",
     "status": "completed"
    },
    "tags": []
   },
   "source": [
    "#### Tuning with Grid Search"
   ]
  },
  {
   "cell_type": "code",
   "execution_count": 115,
   "id": "90de6e1e",
   "metadata": {
    "execution": {
     "iopub.execute_input": "2025-08-08T22:37:11.042745Z",
     "iopub.status.busy": "2025-08-08T22:37:11.041669Z",
     "iopub.status.idle": "2025-08-08T22:37:11.048237Z",
     "shell.execute_reply": "2025-08-08T22:37:11.047004Z"
    },
    "id": "bce58f1b",
    "papermill": {
     "duration": 0.946323,
     "end_time": "2025-08-08T22:37:11.049693",
     "exception": false,
     "start_time": "2025-08-08T22:37:10.103370",
     "status": "completed"
    },
    "tags": []
   },
   "outputs": [],
   "source": [
    "grid_search = GridSearchCV(\n",
    "    LassoR(random_state=42),\n",
    "    grid_param,\n",
    "    cv=5,\n",
    "    scoring='neg_mean_squared_error',\n",
    "    n_jobs=-1, # allow parallel processing, you cant use your own laptop while this runs\n",
    "    verbose=1\n",
    ")"
   ]
  },
  {
   "cell_type": "code",
   "execution_count": null,
   "id": "184e0d0a",
   "metadata": {
    "execution": {
     "iopub.execute_input": "2025-08-08T22:37:12.965501Z",
     "iopub.status.busy": "2025-08-08T22:37:12.965147Z",
     "iopub.status.idle": "2025-08-08T23:12:44.968962Z",
     "shell.execute_reply": "2025-08-08T23:12:44.967948Z"
    },
    "id": "ba67c6c7",
    "papermill": {
     "duration": 2134.059103,
     "end_time": "2025-08-08T23:12:46.142864",
     "exception": false,
     "start_time": "2025-08-08T22:37:12.083761",
     "status": "completed"
    },
    "tags": []
   },
   "outputs": [],
   "source": [
    "%%time\n",
    "print(\"Starting hyperparameter tuning...\")\n",
    "grid_search.fit(X_train, y_train)"
   ]
  },
  {
   "cell_type": "code",
   "execution_count": 117,
   "id": "17707a12",
   "metadata": {
    "execution": {
     "iopub.execute_input": "2025-08-08T23:12:48.347709Z",
     "iopub.status.busy": "2025-08-08T23:12:48.347410Z",
     "iopub.status.idle": "2025-08-08T23:12:48.353125Z",
     "shell.execute_reply": "2025-08-08T23:12:48.352153Z"
    },
    "id": "9d9c7ab8",
    "papermill": {
     "duration": 1.149904,
     "end_time": "2025-08-08T23:12:48.354552",
     "exception": false,
     "start_time": "2025-08-08T23:12:47.204648",
     "status": "completed"
    },
    "tags": []
   },
   "outputs": [
    {
     "name": "stdout",
     "output_type": "stream",
     "text": [
      "TUNING RESULTS\n",
      "==================================================\n",
      "Best Parameters: {'alpha': 0.001, 'fit_intercept': True, 'max_iter': 1000, 'positive': True, 'precompute': False, 'selection': 'random', 'tol': 0.001, 'warm_start': False}\n",
      "Best Cross-Validation Score (Negative MSE): -304.21269940937907\n",
      "Best Cross-Validation Score (MSE): 304.21269940937907\n",
      "Best Cross-Validation Score (RMSE): 17.441694281501984\n"
     ]
    }
   ],
   "source": [
    "print(\"TUNING RESULTS\")\n",
    "print(\"=\"*50)\n",
    "print(\"Best Parameters:\", grid_search.best_params_)\n",
    "print(\"Best Cross-Validation Score (Negative MSE):\", grid_search.best_score_)\n",
    "print(\"Best Cross-Validation Score (MSE):\", -grid_search.best_score_)\n",
    "print(\"Best Cross-Validation Score (RMSE):\", math.sqrt(-grid_search.best_score_))"
   ]
  },
  {
   "cell_type": "code",
   "execution_count": 118,
   "id": "735d0154",
   "metadata": {
    "execution": {
     "iopub.execute_input": "2025-08-08T23:12:50.372568Z",
     "iopub.status.busy": "2025-08-08T23:12:50.372242Z",
     "iopub.status.idle": "2025-08-08T23:12:50.376879Z",
     "shell.execute_reply": "2025-08-08T23:12:50.376232Z"
    },
    "id": "a57dde7f",
    "papermill": {
     "duration": 1.013902,
     "end_time": "2025-08-08T23:12:50.378228",
     "exception": false,
     "start_time": "2025-08-08T23:12:49.364326",
     "status": "completed"
    },
    "tags": []
   },
   "outputs": [],
   "source": [
    "grid_search_best_model = grid_search.best_estimator_\n",
    "y_pred = grid_search_best_model.predict(X_test)"
   ]
  },
  {
   "cell_type": "code",
   "execution_count": 119,
   "id": "4eaa593f",
   "metadata": {
    "execution": {
     "iopub.execute_input": "2025-08-08T23:12:52.567522Z",
     "iopub.status.busy": "2025-08-08T23:12:52.567204Z",
     "iopub.status.idle": "2025-08-08T23:12:52.573869Z",
     "shell.execute_reply": "2025-08-08T23:12:52.573076Z"
    },
    "id": "226e434b",
    "papermill": {
     "duration": 1.043516,
     "end_time": "2025-08-08T23:12:52.575365",
     "exception": false,
     "start_time": "2025-08-08T23:12:51.531849",
     "status": "completed"
    },
    "tags": []
   },
   "outputs": [],
   "source": [
    "mse_grid_search = mean_squared_error(y_test, y_pred)\n",
    "mae_grid_search = mean_absolute_error(y_test, y_pred)\n",
    "r2_grid_search = r2_score(y_test, y_pred)\n",
    "rmse_grid_search = math.sqrt(mse_grid_search)"
   ]
  },
  {
   "cell_type": "code",
   "execution_count": 120,
   "id": "75e5cbd7",
   "metadata": {
    "execution": {
     "iopub.execute_input": "2025-08-08T23:12:54.704718Z",
     "iopub.status.busy": "2025-08-08T23:12:54.704393Z",
     "iopub.status.idle": "2025-08-08T23:12:54.709306Z",
     "shell.execute_reply": "2025-08-08T23:12:54.708443Z"
    },
    "id": "50d5615a",
    "papermill": {
     "duration": 1.133657,
     "end_time": "2025-08-08T23:12:54.710672",
     "exception": false,
     "start_time": "2025-08-08T23:12:53.577015",
     "status": "completed"
    },
    "tags": []
   },
   "outputs": [
    {
     "name": "stdout",
     "output_type": "stream",
     "text": [
      "MSE Score: 316.16572740327223\n",
      "MAE Score: 11.568582620729961\n",
      "R2 Score: 0.9966379127092356\n",
      "RMSE Score: 17.78104967101977\n"
     ]
    }
   ],
   "source": [
    "print(\"MSE Score:\", mse_grid_search)\n",
    "print(\"MAE Score:\", mae_grid_search)\n",
    "print(\"R2 Score:\", r2_grid_search)\n",
    "print(\"RMSE Score:\", rmse_grid_search)"
   ]
  },
  {
   "cell_type": "code",
   "execution_count": 121,
   "id": "5d1b200b",
   "metadata": {
    "execution": {
     "iopub.execute_input": "2025-08-08T23:12:56.726639Z",
     "iopub.status.busy": "2025-08-08T23:12:56.726330Z",
     "iopub.status.idle": "2025-08-08T23:12:56.740148Z",
     "shell.execute_reply": "2025-08-08T23:12:56.739245Z"
    },
    "id": "f6b7fbf5",
    "papermill": {
     "duration": 1.021811,
     "end_time": "2025-08-08T23:12:56.741564",
     "exception": false,
     "start_time": "2025-08-08T23:12:55.719753",
     "status": "completed"
    },
    "tags": []
   },
   "outputs": [
    {
     "name": "stdout",
     "output_type": "stream",
     "text": [
      "✅ Regression model improved with better performance!\n",
      "   MSE: 316.178873 → 316.165727 (lower is better)\n",
      "   R²:  0.996638 → 0.996638 (higher is better)\n",
      "   Features: 27 → 24\n",
      "💾 Registry updated: Model_Training_History/History_Regression.csv\n"
     ]
    }
   ],
   "source": [
    "regression_params = {\n",
    "    'model_name': model_name_for_saving + \" Tuned\",\n",
    "    'scaler_name': \"RobustScaler\",\n",
    "    'features_list': feature_columns_for_saving,\n",
    "    'target_column': target_name_for_saving,\n",
    "    'mse': mse_grid_search,\n",
    "    'mae': mae_grid_search,\n",
    "    'rmse': rmse_grid_search,\n",
    "    'r2': r2_grid_search,\n",
    "    'parameters' : json.dumps({\n",
    "        \"best_params\": grid_search.best_params_,\n",
    "        \"cv_score\": grid_search.best_score_,\n",
    "        \"all_params\": grid_search_best_model.get_params()\n",
    "    })\n",
    "}\n",
    "save_model_performance_if_better('regression', regression_params)"
   ]
  },
  {
   "cell_type": "markdown",
   "id": "68e649af",
   "metadata": {
    "id": "2dcd1d34",
    "papermill": {
     "duration": 1.005971,
     "end_time": "2025-08-08T23:12:58.869926",
     "exception": false,
     "start_time": "2025-08-08T23:12:57.863955",
     "status": "completed"
    },
    "tags": []
   },
   "source": [
    "# All Performance"
   ]
  },
  {
   "cell_type": "code",
   "execution_count": 122,
   "id": "f451bfc9",
   "metadata": {
    "execution": {
     "iopub.execute_input": "2025-08-08T23:13:01.003308Z",
     "iopub.status.busy": "2025-08-08T23:13:01.003005Z",
     "iopub.status.idle": "2025-08-08T23:13:01.017809Z",
     "shell.execute_reply": "2025-08-08T23:13:01.016805Z"
    },
    "id": "2787f378",
    "papermill": {
     "duration": 1.022503,
     "end_time": "2025-08-08T23:13:01.019212",
     "exception": false,
     "start_time": "2025-08-08T23:12:59.996709",
     "status": "completed"
    },
    "tags": []
   },
   "outputs": [
    {
     "name": "stdout",
     "output_type": "stream",
     "text": [
      "\n",
      "📊 REGRESSION Model Performance History\n",
      "====================================================================================================\n",
      "       Model         Scaler         Target  Features        MSE       MAE      RMSE       R²\n",
      "      LassoR   MinMaxScaler SolarRadiation        24 315.804015 11.545813 17.770875 0.996642\n",
      "      LassoR   RobustScaler SolarRadiation        24 315.857054 11.549117 17.772368 0.996641\n",
      "      LassoR StandardScaler SolarRadiation        24 315.873473 11.550254 17.772830 0.996641\n",
      "LassoR Tuned   RobustScaler SolarRadiation        24 316.165727 11.568583 17.781050 0.996638\n",
      "LassoR Tuned   MinMaxScaler SolarRadiation        24 316.181213 11.565130 17.781485 0.996638\n",
      "LassoR Tuned StandardScaler SolarRadiation        24 316.202749 11.564077 17.782091 0.996638\n",
      "\n",
      "📈 Total models shown: 6\n",
      "🏆 Best R² Score: 0.996642 (LassoR + MinMaxScaler for SolarRadiation)\n"
     ]
    }
   ],
   "source": [
    "show_model_history('regression', model_name=model_name_for_saving, target_column=target_name_for_saving)"
   ]
  },
  {
   "cell_type": "markdown",
   "id": "248cd7fc",
   "metadata": {
    "id": "2d50341c",
    "papermill": {
     "duration": 1.01174,
     "end_time": "2025-08-08T23:13:03.198490",
     "exception": false,
     "start_time": "2025-08-08T23:13:02.186750",
     "status": "completed"
    },
    "tags": []
   },
   "source": [
    "# <center><font size=\"50\" color=\"red\">Thank You</font></center>"
   ]
  }
 ],
 "metadata": {
  "colab": {
   "provenance": []
  },
  "kaggle": {
   "accelerator": "none",
   "dataSources": [
    {
     "datasetId": 7943485,
     "sourceId": 12698463,
     "sourceType": "datasetVersion"
    }
   ],
   "isGpuEnabled": false,
   "isInternetEnabled": true,
   "language": "python",
   "sourceType": "notebook"
  },
  "kernelspec": {
   "display_name": ".venv",
   "language": "python",
   "name": "python3"
  },
  "language_info": {
   "codemirror_mode": {
    "name": "ipython",
    "version": 3
   },
   "file_extension": ".py",
   "mimetype": "text/x-python",
   "name": "python",
   "nbconvert_exporter": "python",
   "pygments_lexer": "ipython3",
   "version": "3.11.13"
  },
  "papermill": {
   "default_parameters": {},
   "duration": 16562.512978,
   "end_time": "2025-08-08T23:13:06.840174",
   "environment_variables": {},
   "exception": null,
   "input_path": "__notebook__.ipynb",
   "output_path": "__notebook__.ipynb",
   "parameters": {},
   "start_time": "2025-08-08T18:37:04.327196",
   "version": "2.6.0"
  }
 },
 "nbformat": 4,
 "nbformat_minor": 5
}
